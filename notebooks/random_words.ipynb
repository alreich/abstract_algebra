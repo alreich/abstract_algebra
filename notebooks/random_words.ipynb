{
 "cells": [
  {
   "cell_type": "markdown",
   "id": "f807d505",
   "metadata": {},
   "source": [
    "# Random Words/Names"
   ]
  },
  {
   "cell_type": "markdown",
   "id": "913671d3",
   "metadata": {},
   "source": [
    "This notebook is only used for trying out ideas."
   ]
  },
  {
   "cell_type": "markdown",
   "id": "c9dd1c08",
   "metadata": {},
   "source": [
    "## Generate Random Words / Names"
   ]
  },
  {
   "cell_type": "code",
   "execution_count": 1,
   "id": "9f4c2131",
   "metadata": {},
   "outputs": [],
   "source": [
    "import random"
   ]
  },
  {
   "cell_type": "code",
   "execution_count": 5,
   "id": "04639cc9",
   "metadata": {},
   "outputs": [],
   "source": [
    "def random_name():\n",
    "    beginnings = ['b', 'c', 'd', 'f', 'g', 'h', 'j', 'k', 'l',\n",
    "                  'm', 'n', 'p', 'q', 'r', 's', 't', 'v', 'w',\n",
    "                  'x', 'z', 'bl', 'br', 'ch', 'cl', 'cr', 'dr',\n",
    "                  'fl', 'fr', 'gh', 'gl', 'gr', 'ph', 'pl',\n",
    "                  'pr', 'pt', 'qu', 'sc', 'sch', 'scr', 'sh',\n",
    "                  'shr', 'sk', 'sl', 'sm', 'sn', 'sp', 'spl',\n",
    "                  'spr', 'squ', 'st', 'str', 'sw', 'th', 'thr',\n",
    "                  'tr', 'wh', 'wr']\n",
    "    middles = ['a', 'e', 'i', 'o', 'u', 'ai', 'au', 'aw', 'ay',\n",
    "               'ea', 'ee', 'ei', 'eu', 'ew', 'ey', 'ie', 'oi',\n",
    "               'oo', 'ou', 'ow', 'oy']\n",
    "    endings = ['b', 'c', 'd', 'f', 'g', 'h', 'j', 'k', 'l', 'm',\n",
    "               'n', 'p', 'q', 'r', 's', 't', 'v', 'w', 'x', 'z',\n",
    "               'air', 'are', 'ch', 'ck', 'dge', 'ear', 'eer',\n",
    "               'gh', 'igh', 'ld', 'lf', 'lk', 'lt', 'mp', 'nd',\n",
    "               'ng', 'nk', 'nt', 'nth', 'ore', 'ph', 'rd', 'rk',\n",
    "               'sch', 'sh', 'sk', 'st', 'tch', 'th', 'ure']\n",
    "    consonants = ['b', 'c', 'd', 'f', 'g', 'h', 'j', 'k', 'l', 'm',\n",
    "                  'n', 'p', 'q', 'r', 's', 't', 'v', 'w', 'x', 'z']\n",
    "    beg = random.choice(beginnings)\n",
    "    mid = random.choice(middles)\n",
    "    end = random.choice(endings)\n",
    "    first_name = beg + mid + end\n",
    "    \n",
    "    beg2 = random.choice(beginnings)\n",
    "    mid2a = random.choice(middles)\n",
    "    cons2 = random.choice(consonants)\n",
    "    mid2b = random.choice(middles) \n",
    "    end2 = random.choice(endings)\n",
    "    last_name = beg2 + mid2a + cons2 + mid2b + end2\n",
    "    \n",
    "    return first_name.capitalize() + \" \" + last_name.capitalize()"
   ]
  },
  {
   "cell_type": "code",
   "execution_count": 6,
   "id": "a5451821",
   "metadata": {},
   "outputs": [
    {
     "data": {
      "text/plain": [
       "'Freeb Xawwiv'"
      ]
     },
     "execution_count": 6,
     "metadata": {},
     "output_type": "execute_result"
    }
   ],
   "source": [
    "random_name()"
   ]
  },
  {
   "cell_type": "markdown",
   "id": "7c386d75",
   "metadata": {},
   "source": [
    "## Scratchwork"
   ]
  },
  {
   "cell_type": "code",
   "execution_count": 4,
   "id": "3de58c7f",
   "metadata": {},
   "outputs": [
    {
     "name": "stdout",
     "output_type": "stream",
     "text": [
      "['b', 'c', 'd', 'f', 'g', 'h', 'j', 'k', 'l', 'm', 'n', 'p', 'q', 'r', 's', 't', 'v', 'w', 'x', 'z']\n"
     ]
    }
   ],
   "source": [
    "consonants = list(\"bcdfghjklmnpqrstvwxz\")\n",
    "print(consonants)"
   ]
  },
  {
   "cell_type": "raw",
   "id": "382cca02",
   "metadata": {},
   "source": [
    "vowels = list(\"aeiou\")\n",
    "\n",
    "vowel_blends = [\"ai\", \"au\", \"aw\", \"ay\", \"ea\", \"ee\", \"ei\", \"eu\",\n",
    "                \"ew\", \"ey\", \"ie\", \"oi\", \"oo\", \"ou\", \"ow\", \"oy\"]\n",
    "\n",
    "consonants = list(\"bcdfghjklmnpqrstvwxz\")\n",
    "\n",
    "beginning_consonant_blends = ['bl', 'br', 'ch', 'cl', 'cr', 'dr', 'fl', 'fr', 'gh', 'gl',\n",
    "                              'gr', 'ph', 'pl', 'pr', 'pt', 'qu', 'sc',\n",
    "                              'sch', 'scr', 'sh', 'shr', 'sk', 'sl', 'sm', 'sn', 'sp',\n",
    "                              'spl', 'spr', 'squ', 'st', 'str', 'sw', 'th', 'thr', 'tr',\n",
    "                              'wh', 'wr']\n",
    "\n",
    "ending_consonant_blends = ['air', 'are', 'ch', 'ck', 'dge', 'ear', 'eer', 'gh', 'igh', 'ld', 'lf',\n",
    "                           'lk', 'lt', 'mp', 'nd', 'ng', 'nk', 'nt', 'nth', 'ore', 'ph',\n",
    "                           'rd', 'rk', 'sch', 'sh', 'sk', 'st', 'tch', 'th', 'ure']\n",
    "\n",
    "beginnings = consonants + beginning_consonant_blends\n",
    "middles = vowels + vowel_blends\n",
    "endings = consonants + ending_consonant_blends\n",
    "\n",
    "print(beginnings)\n",
    "\n",
    "print(middles)\n",
    "\n",
    "print(endings)"
   ]
  },
  {
   "cell_type": "raw",
   "id": "8144e595",
   "metadata": {},
   "source": [
    "def random_short_name():\n",
    "    beg = random.choice(beginnings)\n",
    "    mid = random.choice(middles)\n",
    "    end = random.choice(endings)\n",
    "    name = beg + mid + end\n",
    "    return name.capitalize()\n",
    "\n",
    "def random_long_name():\n",
    "    beg = random.choice(beginnings)\n",
    "    mid1 = random.choice(middles)\n",
    "    cons = random.choice(consonants)\n",
    "    mid2 = random.choice(middles) \n",
    "    end = random.choice(endings)\n",
    "    name = beg + mid + cons + mid2 + end\n",
    "    return name.capitalize()\n",
    "\n",
    "def random_name():\n",
    "    return random_short_name() + \" \" + random_long_name()"
   ]
  },
  {
   "cell_type": "raw",
   "id": "cdbfc4ee",
   "metadata": {},
   "source": [
    "all_cons_blends = ['air', 'are', 'bl', 'br', 'ch', 'ck', 'cl', 'cr', 'ct', 'dge', 'dr',\n",
    "                   'ear', 'eer', 'fl', 'fr', 'ft', 'gh', 'gl', 'gr', 'igh', 'ld', 'lf',\n",
    "                   'lk', 'lp', 'lt', 'mp', 'nd', 'ng', 'nk', 'nt', 'nth', 'ore', 'ph',\n",
    "                   'pl', 'pr', 'pt', 'qu', 'rd', 'rk', 'sc', 'sch', 'scr', 'sh', 'shr',\n",
    "                   'sk', 'sl', 'sm', 'sn', 'sp', 'spl', 'spr', 'squ', 'st', 'str', 'sw',\n",
    "                   'tch', 'th', 'thr', 'tr', 'tw', 'ure', 'wh', 'wr']"
   ]
  },
  {
   "cell_type": "raw",
   "id": "286d29f3",
   "metadata": {},
   "source": [
    "consonant_blends = [\"bl\", \"cl\", \"fl\", \"gl\", \"pl\", \"sl\", \"br\", \"cr\", \"dr\", \"fr\", \"gr\", \"pr\", \"tr\",\n",
    "                    \"sc\", \"sk\", \"sm\", \"sn\", \"sp\", \"st\", \"sw\", \"tw\", \"scr\", \"spl\", \"spr\", \"str\",\n",
    "                    \"ch\", \"ph\", \"cr\", \"st\", \"sh\",\n",
    "                    \"bl\", \"br\", \"ch\", \"ck\", \"cl\", \"cr\", \"dr\", \"fl\", \"fr\", \"gh\", \"gl\", \"gr\", \"ng\", \"ph\",\n",
    "                    \"pl\", \"pr\", \"qu\", \"sc\", \"sh\", \"sk\", \"sl\", \"sm\", \"sn\", \"sp\", \"st\", \"sw\", \"th\", \"tr\",\n",
    "                    \"tw\", \"wh\", \"wr\", \"nth\", \"sch\", \"scr\", \"shr\", \"spl\", \"spr\", \"squ\", \"str\", \"thr\"\n",
    "                   ]\n",
    "\n",
    "digraphs = [\"bl\", \"br\", \"ch\", \"ck\", \"cl\", \"cr\", \"dr\", \"fl\", \"fr\", \"gh\", \"gl\", \"gr\", \"ng\", \"ph\",\n",
    "            \"pl\", \"pr\", \"qu\", \"sc\", \"sh\", \"sk\", \"sl\", \"sm\", \"sn\", \"sp\", \"st\", \"sw\", \"th\", \"tr\", \"tw\", \"wh\", \"wr\"]\n",
    "\n",
    "trigraphs = [\"nth\", \"sch\", \"scr\", \"shr\", \"spl\", \"spr\", \"squ\", \"str\", \"thr\"]\n",
    "\n",
    "\n",
    "cons_blends = sorted(list(set(consonant_blends)))\n",
    "print(cons_blends)\n",
    "\n",
    "# Intro_Consonant_Blends\n",
    "intro_cons_blends = \"Bl,Br,Cl,Cr,Dr,Fl,Fr,Gl,Gr,Pl,Pr,Tr,Tw,Wr,Sc,Sk,Sl,Sm,Sn,Sp,St,Sw\"\n",
    "\n",
    "# Common Ending Consonant Blends Word List\n",
    "ending_cons_blends = \"mp,nk,nt,lk,lt,lf,nd,ft,st,sk,rd,ld,lp,rk,pt,ct\"\n",
    "\n",
    "digraphs = \"Ch,Ph,Sc,Sh,Th,Wh\"\n",
    "\n",
    "trigraphs = \"Spl,Sch,Scr,Spr,Str,Squ,Shr,Thr\"\n",
    "\n",
    "# Ending and Mid Trigraph List\n",
    "end_and_mid_trigraphs = \"air,are,dge,ear,eer,igh,ore,tch,ure\"\n",
    "\n",
    "print(end_and_mid_trigraphs.split(','))\n",
    "\n",
    "endings = ending_consonant_blends + ending_and_mid_blends + ending_only_blends\n",
    "\n",
    "print(endings)\n",
    "\n",
    "consonant_blends = ['bl', 'br', 'ch', 'ck', 'cl', 'cr', 'dr', 'fl', 'fr', 'gh', 'gl', 'gr', 'ng',\n",
    "                    'nth', 'ph', 'pl', 'pr', 'qu', 'sc', 'sch', 'scr', 'sh', 'shr', 'sk', 'sl',\n",
    "                    'sm', 'sn', 'sp', 'spl', 'spr', 'squ', 'st', 'str', 'sw', 'th', 'thr', 'tr',\n",
    "                    'tw', 'wh', 'wr']\n",
    "\n",
    "intro_consonant_blends = ['bl', 'br', 'ch', 'cl', 'cr', 'dr', 'fl', 'fr', 'gl', 'gr', 'pl', 'pr', 'tr',\n",
    "                          'tw', 'wr', 'sc', 'sk', 'sl', 'sm', 'sn', 'sp', 'st', 'sw', 'ch', 'ph',\n",
    "                          'sc', 'sh', 'th', 'wh', 'spl', 'sch', 'scr', 'spr', 'str', 'squ', 'shr', 'thr',\n",
    "                          'qu'\n",
    "                         ]\n",
    "\n",
    "ending_consonant_blends = ['mp', 'nk', 'nt', 'lk', 'lt', 'lf', 'nd', 'ft', 'st', 'sk', 'rd',\n",
    "                           'ld', 'lp', 'rk', 'pt', 'ct', 'gh', 'ng']\n",
    "\n",
    "ending_and_mid_blends = ['air', 'are', 'ear', 'eer', 'igh', 'ore', 'ure']\n",
    "\n",
    "ending_only_blends = ['dge', 'tch', 'nth']\n",
    "\n",
    "all_consonant_blends = cons_blends + intro_consonant_blends + ending_consonant_blends + ending_and_mid_blends + ending_only_blends"
   ]
  }
 ],
 "metadata": {
  "kernelspec": {
   "display_name": "Python 3",
   "language": "python",
   "name": "python3"
  },
  "language_info": {
   "codemirror_mode": {
    "name": "ipython",
    "version": 3
   },
   "file_extension": ".py",
   "mimetype": "text/x-python",
   "name": "python",
   "nbconvert_exporter": "python",
   "pygments_lexer": "ipython3",
   "version": "3.7.7"
  }
 },
 "nbformat": 4,
 "nbformat_minor": 5
}
