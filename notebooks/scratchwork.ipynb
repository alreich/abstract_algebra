{
 "cells": [
  {
   "cell_type": "markdown",
   "id": "2b111fd1",
   "metadata": {},
   "source": [
    "# Scratchwork"
   ]
  },
  {
   "cell_type": "markdown",
   "id": "99657eb4",
   "metadata": {},
   "source": [
    "This notebook is only used for trying out ideas."
   ]
  },
  {
   "cell_type": "code",
   "execution_count": 1,
   "id": "18aa3b8a",
   "metadata": {},
   "outputs": [],
   "source": [
    "import algebras as alg\n",
    "import json\n",
    "import os\n",
    "import numpy as np\n",
    "import itertools as it\n",
    "from pprint import pprint\n",
    "\n",
    "from itertools import combinations, permutations, product"
   ]
  },
  {
   "cell_type": "code",
   "execution_count": 2,
   "id": "2301be94",
   "metadata": {},
   "outputs": [],
   "source": [
    "# Path to this repo\n",
    "aa_path = os.path.join(os.getenv('PYPROJ'), 'abstract_algebra')\n",
    "\n",
    "# Path to a directory containing Algebra definitions in JSON\n",
    "alg_dir = os.path.join(aa_path, \"Algebras\")"
   ]
  },
  {
   "cell_type": "markdown",
   "id": "49bb6fc7",
   "metadata": {},
   "source": [
    "## Groups for Testing"
   ]
  },
  {
   "cell_type": "markdown",
   "id": "75392133",
   "metadata": {},
   "source": [
    "### D4 - Dihedral Group on 4 Vertices"
   ]
  },
  {
   "cell_type": "code",
   "execution_count": 3,
   "id": "2b508bca",
   "metadata": {},
   "outputs": [
    {
     "name": "stdout",
     "output_type": "stream",
     "text": [
      "{\"type\": \"Group\",\r\n",
      " \"name\": \"D_4\",\r\n",
      " \"description\": \"Dihedral group on four vertices\",\r\n",
      " \"element_names\": [\"e\", \"r\", \"r^2\", \"r^3\", \"f\", \"fr\", \"r^2f\", \"rf\"],\r\n",
      " \"alt_elem_names\": [\"()\", \"(0 1 2 3)\", \"(0 2)(1 3)\", \"(0 3 2 1)\",\r\n",
      "                    \"(0 1)(2 3)\", \"(1 3)\", \"(0 3)(1 2)\", \"(0 2)\"],\r\n",
      " \"mult_table\": [[0, 1, 2, 3, 4, 5, 6, 7],\r\n",
      "                [1, 2, 3, 0, 7, 4, 5, 6],\r\n",
      "                [2, 3, 0, 1, 6, 7, 4, 5],\r\n",
      "                [3, 0, 1, 2, 5, 6, 7, 4],\r\n",
      "                [4, 5, 6, 7, 0, 1, 2, 3],\r\n",
      "                [5, 6, 7, 4, 3, 0, 1, 2],\r\n",
      "                [6, 7, 4, 5, 2, 3, 0, 1],\r\n",
      "                [7, 4, 5, 6, 1, 2, 3, 0]]\r\n",
      "}"
     ]
    }
   ],
   "source": [
    "d4_path = os.path.join(alg_dir, \"d4_dihedral_group_on_4_vertices.json\")\n",
    "!cat {d4_path}"
   ]
  },
  {
   "cell_type": "code",
   "execution_count": 4,
   "id": "cedd542d",
   "metadata": {},
   "outputs": [
    {
     "name": "stdout",
     "output_type": "stream",
     "text": [
      "\n",
      "Group : D_4 : Dihedral group on four vertices\n",
      "  Element Names: ['e', 'r', 'r^2', 'r^3', 'f', 'fr', 'r^2f', 'rf']\n",
      "  Is Abelian? False\n",
      "  Inverses:  (** - indicates that it is its own inverse)\n",
      "    inv(e) = e   **\n",
      "    inv(r) = r^3 \n",
      "    inv(r^2) = r^2   **\n",
      "    inv(r^3) = r \n",
      "    inv(f) = f   **\n",
      "    inv(fr) = fr   **\n",
      "    inv(r^2f) = r^2f   **\n",
      "    inv(rf) = rf   **\n",
      "Element Orders:\n",
      "{1: ['e'], 2: ['r^2', 'f', 'fr', 'r^2f', 'rf'], 4: ['r', 'r^3']}\n",
      "  Is associative? True\n",
      "  Cayley Table:\n",
      "[['e', 'r', 'r^2', 'r^3', 'f', 'fr', 'r^2f', 'rf'],\n",
      " ['r', 'r^2', 'r^3', 'e', 'rf', 'f', 'fr', 'r^2f'],\n",
      " ['r^2', 'r^3', 'e', 'r', 'r^2f', 'rf', 'f', 'fr'],\n",
      " ['r^3', 'e', 'r', 'r^2', 'fr', 'r^2f', 'rf', 'f'],\n",
      " ['f', 'fr', 'r^2f', 'rf', 'e', 'r', 'r^2', 'r^3'],\n",
      " ['fr', 'r^2f', 'rf', 'f', 'r^3', 'e', 'r', 'r^2'],\n",
      " ['r^2f', 'rf', 'f', 'fr', 'r^2', 'r^3', 'e', 'r'],\n",
      " ['rf', 'f', 'fr', 'r^2f', 'r', 'r^2', 'r^3', 'e']]\n"
     ]
    }
   ],
   "source": [
    "d4 = alg.Group(d4_path)\n",
    "d4.print_info()"
   ]
  },
  {
   "cell_type": "markdown",
   "id": "505f12a2",
   "metadata": {},
   "source": [
    "### V4 - Klein 4 Group"
   ]
  },
  {
   "cell_type": "code",
   "execution_count": 5,
   "id": "7d82efad",
   "metadata": {},
   "outputs": [
    {
     "name": "stdout",
     "output_type": "stream",
     "text": [
      "{\"type\": \"Group\",\r\n",
      " \"name\": \"V4\",\r\n",
      " \"description\": \"Klein-4 group\",\r\n",
      " \"element_names\": [\"e\", \"h\", \"v\", \"hv\"],\r\n",
      " \"mult_table\": [[0, 1, 2, 3],\r\n",
      "                [1, 0, 3, 2],\r\n",
      "                [2, 3, 0, 1],\r\n",
      "                [3, 2, 1, 0]]\r\n",
      "}\r\n"
     ]
    }
   ],
   "source": [
    "v4_path = os.path.join(alg_dir, \"v4_klein_4_group.json\")\n",
    "!cat {v4_path}"
   ]
  },
  {
   "cell_type": "code",
   "execution_count": 6,
   "id": "d8269fb3",
   "metadata": {},
   "outputs": [
    {
     "name": "stdout",
     "output_type": "stream",
     "text": [
      "\n",
      "Group : V4 : Klein-4 group\n",
      "  Element Names: ['e', 'h', 'v', 'hv']\n",
      "  Is Abelian? True\n",
      "  Inverses:  (** - indicates that it is its own inverse)\n",
      "    inv(e) = e   **\n",
      "    inv(h) = h   **\n",
      "    inv(v) = v   **\n",
      "    inv(hv) = hv   **\n",
      "Element Orders:\n",
      "{1: ['e'], 2: ['h', 'v', 'hv']}\n",
      "  Is associative? True\n",
      "  Cayley Table:\n",
      "[['e', 'h', 'v', 'hv'],\n",
      " ['h', 'e', 'hv', 'v'],\n",
      " ['v', 'hv', 'e', 'h'],\n",
      " ['hv', 'v', 'h', 'e']]\n"
     ]
    }
   ],
   "source": [
    "v4 = alg.Group(v4_path)\n",
    "v4.print_info()"
   ]
  },
  {
   "cell_type": "markdown",
   "id": "97eaa07e",
   "metadata": {},
   "source": [
    "## Changing the Order of Elements"
   ]
  },
  {
   "cell_type": "markdown",
   "id": "aca2b3ac",
   "metadata": {},
   "source": [
    "<b>Observation</b>: If the group is abelian, then changing the order of the elements does <b>not</b> affect the order of the indices in the <i>mult_table</i>.  <b>Why?</b>"
   ]
  },
  {
   "cell_type": "code",
   "execution_count": 7,
   "id": "1a630849",
   "metadata": {},
   "outputs": [],
   "source": [
    "# new_elem_order = v4.element_names\n",
    "# new_v4_elem_order = ['e', 'v', 'h', 'hv']\n",
    "new_v4_elem_order = [\"e\", \"hv\", \"h\", \"v\"]"
   ]
  },
  {
   "cell_type": "code",
   "execution_count": 8,
   "id": "3f76bf86",
   "metadata": {},
   "outputs": [
    {
     "data": {
      "text/plain": [
       "Group('V4_REORDERED',\n",
       "'Klein-4 group (elements reordered)',\n",
       "['e', 'hv', 'h', 'v'],\n",
       "[[0, 1, 2, 3], [1, 0, 3, 2], [2, 3, 0, 1], [3, 2, 1, 0]]) "
      ]
     },
     "execution_count": 8,
     "metadata": {},
     "output_type": "execute_result"
    }
   ],
   "source": [
    "#table_from_reordered_elements(v4, new_v4_elem_order)\n",
    "v4_reordered = v4.reorder_elements(new_v4_elem_order)\n",
    "v4_reordered"
   ]
  },
  {
   "cell_type": "code",
   "execution_count": 9,
   "id": "d70683b2",
   "metadata": {},
   "outputs": [
    {
     "name": "stdout",
     "output_type": "stream",
     "text": [
      "[['e', 'hv', 'h', 'v'],\n",
      " ['hv', 'e', 'v', 'h'],\n",
      " ['h', 'v', 'e', 'hv'],\n",
      " ['v', 'h', 'hv', 'e']]\n"
     ]
    }
   ],
   "source": [
    "pprint(v4_reordered.mult_table_with_names())"
   ]
  },
  {
   "cell_type": "code",
   "execution_count": 10,
   "id": "4ab287e1",
   "metadata": {},
   "outputs": [
    {
     "data": {
      "text/plain": [
       "array([[0, 1, 2, 3],\n",
       "       [1, 0, 3, 2],\n",
       "       [2, 3, 0, 1],\n",
       "       [3, 2, 1, 0]])"
      ]
     },
     "execution_count": 10,
     "metadata": {},
     "output_type": "execute_result"
    }
   ],
   "source": [
    "v4_reordered.mult_table"
   ]
  },
  {
   "cell_type": "code",
   "execution_count": 11,
   "id": "e2da813c",
   "metadata": {},
   "outputs": [
    {
     "name": "stdout",
     "output_type": "stream",
     "text": [
      "[['e', 'h', 'v', 'hv'],\n",
      " ['h', 'e', 'hv', 'v'],\n",
      " ['v', 'hv', 'e', 'h'],\n",
      " ['hv', 'v', 'h', 'e']]\n"
     ]
    }
   ],
   "source": [
    "pprint(v4.mult_table_with_names())"
   ]
  },
  {
   "cell_type": "code",
   "execution_count": 12,
   "id": "686645e2",
   "metadata": {},
   "outputs": [
    {
     "data": {
      "text/plain": [
       "array([[0, 1, 2, 3],\n",
       "       [1, 0, 3, 2],\n",
       "       [2, 3, 0, 1],\n",
       "       [3, 2, 1, 0]])"
      ]
     },
     "execution_count": 12,
     "metadata": {},
     "output_type": "execute_result"
    }
   ],
   "source": [
    "v4.mult_table"
   ]
  },
  {
   "cell_type": "code",
   "execution_count": null,
   "id": "fe5ee56b",
   "metadata": {},
   "outputs": [],
   "source": []
  },
  {
   "cell_type": "code",
   "execution_count": 13,
   "id": "5835198d",
   "metadata": {},
   "outputs": [],
   "source": [
    "new_d4_elem_order = [\"e\", \"r\", \"r^2\", \"f\", \"r^3\", \"fr\", \"r^2f\", \"rf\"]"
   ]
  },
  {
   "cell_type": "code",
   "execution_count": 14,
   "id": "8f77f574",
   "metadata": {},
   "outputs": [
    {
     "data": {
      "text/plain": [
       "Group('D_4_REORDERED',\n",
       "'Dihedral group on four vertices (elements reordered)',\n",
       "['e', 'r', 'r^2', 'f', 'r^3', 'fr', 'r^2f', 'rf'],\n",
       "[[0, 1, 2, 3, 4, 5, 6, 7], [1, 2, 4, 7, 0, 3, 5, 6], [2, 4, 0, 6, 1, 7, 3, 5], [3, 5, 6, 0, 7, 1, 2, 4], [4, 0, 1, 5, 2, 6, 7, 3], [5, 6, 7, 4, 3, 0, 1, 2], [6, 7, 3, 2, 5, 4, 0, 1], [7, 3, 5, 1, 6, 2, 4, 0]]) "
      ]
     },
     "execution_count": 14,
     "metadata": {},
     "output_type": "execute_result"
    }
   ],
   "source": [
    "d4_reordered = d4.reorder_elements(new_d4_elem_order)\n",
    "d4_reordered"
   ]
  },
  {
   "cell_type": "code",
   "execution_count": 15,
   "id": "34bc0fef",
   "metadata": {},
   "outputs": [
    {
     "data": {
      "text/plain": [
       "array([[0, 1, 2, 3, 4, 5, 6, 7],\n",
       "       [1, 2, 4, 7, 0, 3, 5, 6],\n",
       "       [2, 4, 0, 6, 1, 7, 3, 5],\n",
       "       [3, 5, 6, 0, 7, 1, 2, 4],\n",
       "       [4, 0, 1, 5, 2, 6, 7, 3],\n",
       "       [5, 6, 7, 4, 3, 0, 1, 2],\n",
       "       [6, 7, 3, 2, 5, 4, 0, 1],\n",
       "       [7, 3, 5, 1, 6, 2, 4, 0]])"
      ]
     },
     "execution_count": 15,
     "metadata": {},
     "output_type": "execute_result"
    }
   ],
   "source": [
    "d4_reordered.mult_table"
   ]
  },
  {
   "cell_type": "code",
   "execution_count": 16,
   "id": "98873654",
   "metadata": {},
   "outputs": [
    {
     "data": {
      "text/plain": [
       "array([[0, 1, 2, 3, 4, 5, 6, 7],\n",
       "       [1, 2, 3, 0, 7, 4, 5, 6],\n",
       "       [2, 3, 0, 1, 6, 7, 4, 5],\n",
       "       [3, 0, 1, 2, 5, 6, 7, 4],\n",
       "       [4, 5, 6, 7, 0, 1, 2, 3],\n",
       "       [5, 6, 7, 4, 3, 0, 1, 2],\n",
       "       [6, 7, 4, 5, 2, 3, 0, 1],\n",
       "       [7, 4, 5, 6, 1, 2, 3, 0]])"
      ]
     },
     "execution_count": 16,
     "metadata": {},
     "output_type": "execute_result"
    }
   ],
   "source": [
    "d4.mult_table"
   ]
  },
  {
   "cell_type": "code",
   "execution_count": null,
   "id": "767267e0",
   "metadata": {},
   "outputs": [],
   "source": []
  },
  {
   "cell_type": "code",
   "execution_count": 17,
   "id": "5c79e8b8",
   "metadata": {},
   "outputs": [
    {
     "data": {
      "text/plain": [
       "{'e': 1, 'r': 4, 'r^2': 2, 'r^3': 4, 'f': 2, 'fr': 2, 'r^2f': 2, 'rf': 2}"
      ]
     },
     "execution_count": 17,
     "metadata": {},
     "output_type": "execute_result"
    }
   ],
   "source": [
    "d4.element_orders()"
   ]
  },
  {
   "cell_type": "code",
   "execution_count": 18,
   "id": "83ff7b60",
   "metadata": {},
   "outputs": [
    {
     "data": {
      "text/plain": [
       "{'e': 1, 'r': 4, 'r^2': 2, 'f': 2, 'r^3': 4, 'fr': 2, 'r^2f': 2, 'rf': 2}"
      ]
     },
     "execution_count": 18,
     "metadata": {},
     "output_type": "execute_result"
    }
   ],
   "source": [
    "d4_reordered.element_orders()"
   ]
  },
  {
   "cell_type": "markdown",
   "id": "48a34cdf",
   "metadata": {},
   "source": [
    "## Generating Possible Multiplication Tables"
   ]
  },
  {
   "cell_type": "code",
   "execution_count": 19,
   "id": "e625ce1f",
   "metadata": {},
   "outputs": [
    {
     "data": {
      "text/plain": [
       "[([0, 1, 2, 3], (1, 0, 3, 2), (2, 3, 0, 1), (3, 2, 1, 0)),\n",
       " ([0, 1, 2, 3], (1, 0, 3, 2), (2, 3, 1, 0), (3, 2, 0, 1)),\n",
       " ([0, 1, 2, 3], (1, 2, 3, 0), (2, 3, 0, 1), (3, 0, 1, 2)),\n",
       " ([0, 1, 2, 3], (1, 3, 0, 2), (2, 0, 3, 1), (3, 2, 1, 0))]"
      ]
     },
     "execution_count": 19,
     "metadata": {},
     "output_type": "execute_result"
    }
   ],
   "source": [
    "foo = alg.generate_all_group_tables(4)\n",
    "foo"
   ]
  },
  {
   "cell_type": "code",
   "execution_count": 20,
   "id": "99b58205",
   "metadata": {},
   "outputs": [
    {
     "name": "stdout",
     "output_type": "stream",
     "text": [
      "array([[0, 1, 2, 3],\n",
      "       [1, 0, 3, 2],\n",
      "       [2, 3, 0, 1],\n",
      "       [3, 2, 1, 0]])\n",
      "array([[0, 1, 2, 3],\n",
      "       [1, 0, 3, 2],\n",
      "       [2, 3, 1, 0],\n",
      "       [3, 2, 0, 1]])\n",
      "array([[0, 1, 2, 3],\n",
      "       [1, 2, 3, 0],\n",
      "       [2, 3, 0, 1],\n",
      "       [3, 0, 1, 2]])\n",
      "array([[0, 1, 2, 3],\n",
      "       [1, 3, 0, 2],\n",
      "       [2, 0, 3, 1],\n",
      "       [3, 2, 1, 0]])\n"
     ]
    }
   ],
   "source": [
    "for t in foo:\n",
    "    pprint(np.array(t))"
   ]
  },
  {
   "cell_type": "raw",
   "id": "8b1bdb73",
   "metadata": {},
   "source": [
    "def tables_to_groups(tables, identity_name=\"e\", elem_name=\"a\"):\n",
    "    order = len(tables[0])\n",
    "    groups = []\n",
    "    for j in range(len(tables)):\n",
    "        gname = f\"G{j}\"\n",
    "        desc = f\"Group {j} of order {order}\"\n",
    "        ename = elem_name + str(j)\n",
    "        elements = [identity_name + str(j)] + [f\"{ename}\" + str(i) for i in range(1, order)]\n",
    "        groups.append(alg.Group(gname, desc, elements, tables[j]))\n",
    "    return groups"
   ]
  },
  {
   "cell_type": "code",
   "execution_count": 21,
   "id": "587e8770",
   "metadata": {},
   "outputs": [],
   "source": [
    "foobar = alg.tables_to_groups(foo)\n",
    "#for fb in foobar:\n",
    "#    fb.pprint()\n",
    "\n",
    "g0 = foobar[0]\n",
    "g1 = foobar[1]\n",
    "g2 = foobar[2]\n",
    "g3 = foobar[3]"
   ]
  },
  {
   "cell_type": "code",
   "execution_count": 22,
   "id": "04dbb8dd",
   "metadata": {},
   "outputs": [
    {
     "data": {
      "text/plain": [
       "[Group('G0',\n",
       " 'Group 0 of order 4',\n",
       " ['e0', 'a01', 'a02', 'a03'],\n",
       " [[0, 1, 2, 3], [1, 0, 3, 2], [2, 3, 0, 1], [3, 2, 1, 0]]) ,\n",
       " Group('G1',\n",
       " 'Group 1 of order 4',\n",
       " ['e1', 'a11', 'a12', 'a13'],\n",
       " [[0, 1, 2, 3], [1, 0, 3, 2], [2, 3, 1, 0], [3, 2, 0, 1]]) ,\n",
       " Group('G2',\n",
       " 'Group 2 of order 4',\n",
       " ['e2', 'a21', 'a22', 'a23'],\n",
       " [[0, 1, 2, 3], [1, 2, 3, 0], [2, 3, 0, 1], [3, 0, 1, 2]]) ,\n",
       " Group('G3',\n",
       " 'Group 3 of order 4',\n",
       " ['e3', 'a31', 'a32', 'a33'],\n",
       " [[0, 1, 2, 3], [1, 3, 0, 2], [2, 0, 3, 1], [3, 2, 1, 0]]) ]"
      ]
     },
     "execution_count": 22,
     "metadata": {},
     "output_type": "execute_result"
    }
   ],
   "source": [
    "[g for g in foobar if g.associative()]"
   ]
  },
  {
   "cell_type": "markdown",
   "id": "0d3f3451",
   "metadata": {},
   "source": [
    "## G0"
   ]
  },
  {
   "cell_type": "code",
   "execution_count": 23,
   "id": "ae90d4bf",
   "metadata": {},
   "outputs": [
    {
     "data": {
      "text/plain": [
       "Group('G0',\n",
       "'Group 0 of order 4',\n",
       "['e0', 'a01', 'a02', 'a03'],\n",
       "[[0, 1, 2, 3], [1, 0, 3, 2], [2, 3, 0, 1], [3, 2, 1, 0]]) "
      ]
     },
     "execution_count": 23,
     "metadata": {},
     "output_type": "execute_result"
    }
   ],
   "source": [
    "g0"
   ]
  },
  {
   "cell_type": "markdown",
   "id": "516e6399",
   "metadata": {},
   "source": [
    "## G1"
   ]
  },
  {
   "cell_type": "code",
   "execution_count": 24,
   "id": "534d4ff7",
   "metadata": {},
   "outputs": [
    {
     "data": {
      "text/plain": [
       "Group('G1',\n",
       "'Group 1 of order 4',\n",
       "['e1', 'a11', 'a12', 'a13'],\n",
       "[[0, 1, 2, 3], [1, 0, 3, 2], [2, 3, 1, 0], [3, 2, 0, 1]]) "
      ]
     },
     "execution_count": 24,
     "metadata": {},
     "output_type": "execute_result"
    }
   ],
   "source": [
    "g1  # Same as v4 and z2_x_z2, below"
   ]
  },
  {
   "cell_type": "code",
   "execution_count": 25,
   "id": "51c28b22",
   "metadata": {},
   "outputs": [
    {
     "name": "stdout",
     "output_type": "stream",
     "text": [
      "Group('V4',\n",
      "'Klein-4 group',\n",
      "['e', 'h', 'v', 'hv'],\n",
      "[[0, 1, 2, 3], [1, 0, 3, 2], [2, 3, 0, 1], [3, 2, 1, 0]]\n",
      ")\n"
     ]
    }
   ],
   "source": [
    "v4.pprint()"
   ]
  },
  {
   "cell_type": "code",
   "execution_count": 26,
   "id": "4ba15d37",
   "metadata": {},
   "outputs": [
    {
     "name": "stdout",
     "output_type": "stream",
     "text": [
      "Group('Z2_x_Z2',\n",
      "'Direct product of Z2 & Z2',\n",
      "['e:e', 'e:a', 'a:e', 'a:a'],\n",
      "[[0, 1, 2, 3], [1, 0, 3, 2], [2, 3, 0, 1], [3, 2, 1, 0]]\n",
      ")\n"
     ]
    }
   ],
   "source": [
    "z2 = alg.generate_cyclic_group(2)\n",
    "#z2.pprint()\n",
    "\n",
    "z2_x_z2 = z2 * z2\n",
    "z2_x_z2.pprint()"
   ]
  },
  {
   "cell_type": "markdown",
   "id": "f3e7c44f",
   "metadata": {},
   "source": [
    "## G2"
   ]
  },
  {
   "cell_type": "code",
   "execution_count": 27,
   "id": "54923391",
   "metadata": {},
   "outputs": [
    {
     "data": {
      "text/plain": [
       "Group('G2',\n",
       "'Group 2 of order 4',\n",
       "['e2', 'a21', 'a22', 'a23'],\n",
       "[[0, 1, 2, 3], [1, 2, 3, 0], [2, 3, 0, 1], [3, 0, 1, 2]]) "
      ]
     },
     "execution_count": 27,
     "metadata": {},
     "output_type": "execute_result"
    }
   ],
   "source": [
    "g2  # Same as z4, below"
   ]
  },
  {
   "cell_type": "code",
   "execution_count": 28,
   "id": "0ed3443b",
   "metadata": {},
   "outputs": [
    {
     "data": {
      "text/plain": [
       "Group('Z4',\n",
       "'Cyclic group of order 4',\n",
       "['e', 'a', 'a^2', 'a^3'],\n",
       "[[0, 1, 2, 3], [1, 2, 3, 0], [2, 3, 0, 1], [3, 0, 1, 2]]) "
      ]
     },
     "execution_count": 28,
     "metadata": {},
     "output_type": "execute_result"
    }
   ],
   "source": [
    "z4 = alg.generate_cyclic_group(4)\n",
    "z4"
   ]
  },
  {
   "cell_type": "markdown",
   "id": "5f82758c",
   "metadata": {},
   "source": [
    "## G3"
   ]
  },
  {
   "cell_type": "code",
   "execution_count": 29,
   "id": "3d2c70cc",
   "metadata": {
    "scrolled": true
   },
   "outputs": [
    {
     "data": {
      "text/plain": [
       "Group('G3',\n",
       "'Group 3 of order 4',\n",
       "['e3', 'a31', 'a32', 'a33'],\n",
       "[[0, 1, 2, 3], [1, 3, 0, 2], [2, 0, 3, 1], [3, 2, 1, 0]]) "
      ]
     },
     "execution_count": 29,
     "metadata": {},
     "output_type": "execute_result"
    }
   ],
   "source": [
    "g3"
   ]
  },
  {
   "cell_type": "markdown",
   "id": "e3c5ae33",
   "metadata": {},
   "source": [
    "## Groups of Prime Order"
   ]
  },
  {
   "cell_type": "code",
   "execution_count": 30,
   "id": "8b5dddf1",
   "metadata": {},
   "outputs": [],
   "source": [
    "order = 5"
   ]
  },
  {
   "cell_type": "code",
   "execution_count": 31,
   "id": "896e72c0",
   "metadata": {},
   "outputs": [],
   "source": [
    "cyclic_group = alg.generate_cyclic_group(order)"
   ]
  },
  {
   "cell_type": "code",
   "execution_count": 32,
   "id": "be38006e",
   "metadata": {},
   "outputs": [
    {
     "name": "stdout",
     "output_type": "stream",
     "text": [
      "Group('Z5',\n",
      "'Cyclic group of order 5',\n",
      "['e', 'a', 'a^2', 'a^3', 'a^4'],\n",
      "[[0, 1, 2, 3, 4],\n",
      " [1, 2, 3, 4, 0],\n",
      " [2, 3, 4, 0, 1],\n",
      " [3, 4, 0, 1, 2],\n",
      " [4, 0, 1, 2, 3]]\n",
      ")\n"
     ]
    }
   ],
   "source": [
    "cyclic_group.pprint()"
   ]
  },
  {
   "cell_type": "code",
   "execution_count": 33,
   "id": "36006f46",
   "metadata": {},
   "outputs": [
    {
     "data": {
      "text/plain": [
       "56"
      ]
     },
     "execution_count": 33,
     "metadata": {},
     "output_type": "execute_result"
    }
   ],
   "source": [
    "all_tables = alg.generate_all_group_tables(order)\n",
    "len(all_tables)"
   ]
  },
  {
   "cell_type": "code",
   "execution_count": 34,
   "id": "d02bab98",
   "metadata": {},
   "outputs": [
    {
     "name": "stdout",
     "output_type": "stream",
     "text": [
      "Group('G0',\n",
      "'Group 0 of order 5',\n",
      "['e0', 'a01', 'a02', 'a03', 'a04'],\n",
      "[[0, 1, 2, 3, 4],\n",
      " [1, 0, 3, 4, 2],\n",
      " [2, 3, 4, 0, 1],\n",
      " [3, 4, 1, 2, 0],\n",
      " [4, 2, 0, 1, 3]]\n",
      ")\n",
      "Group('G1',\n",
      "'Group 1 of order 5',\n",
      "['e1', 'a11', 'a12', 'a13', 'a14'],\n",
      "[[0, 1, 2, 3, 4],\n",
      " [1, 0, 3, 4, 2],\n",
      " [2, 3, 4, 1, 0],\n",
      " [3, 4, 0, 2, 1],\n",
      " [4, 2, 1, 0, 3]]\n",
      ")\n",
      "Group('G2',\n",
      "'Group 2 of order 5',\n",
      "['e2', 'a21', 'a22', 'a23', 'a24'],\n",
      "[[0, 1, 2, 3, 4],\n",
      " [1, 0, 3, 4, 2],\n",
      " [2, 4, 0, 1, 3],\n",
      " [3, 2, 4, 0, 1],\n",
      " [4, 3, 1, 2, 0]]\n",
      ")\n",
      "Group('G3',\n",
      "'Group 3 of order 5',\n",
      "['e3', 'a31', 'a32', 'a33', 'a34'],\n",
      "[[0, 1, 2, 3, 4],\n",
      " [1, 0, 3, 4, 2],\n",
      " [2, 4, 1, 0, 3],\n",
      " [3, 2, 4, 1, 0],\n",
      " [4, 3, 0, 2, 1]]\n",
      ")\n",
      "Group('G4',\n",
      "'Group 4 of order 5',\n",
      "['e4', 'a41', 'a42', 'a43', 'a44'],\n",
      "[[0, 1, 2, 3, 4],\n",
      " [1, 0, 4, 2, 3],\n",
      " [2, 3, 0, 4, 1],\n",
      " [3, 4, 1, 0, 2],\n",
      " [4, 2, 3, 1, 0]]\n",
      ")\n",
      "Group('G5',\n",
      "'Group 5 of order 5',\n",
      "['e5', 'a51', 'a52', 'a53', 'a54'],\n",
      "[[0, 1, 2, 3, 4],\n",
      " [1, 0, 4, 2, 3],\n",
      " [2, 3, 1, 4, 0],\n",
      " [3, 4, 0, 1, 2],\n",
      " [4, 2, 3, 0, 1]]\n",
      ")\n",
      "Group('G6',\n",
      "'Group 6 of order 5',\n",
      "['e6', 'a61', 'a62', 'a63', 'a64'],\n",
      "[[0, 1, 2, 3, 4],\n",
      " [1, 0, 4, 2, 3],\n",
      " [2, 4, 3, 0, 1],\n",
      " [3, 2, 1, 4, 0],\n",
      " [4, 3, 0, 1, 2]]\n",
      ")\n",
      "Group('G7',\n",
      "'Group 7 of order 5',\n",
      "['e7', 'a71', 'a72', 'a73', 'a74'],\n",
      "[[0, 1, 2, 3, 4],\n",
      " [1, 0, 4, 2, 3],\n",
      " [2, 4, 3, 1, 0],\n",
      " [3, 2, 0, 4, 1],\n",
      " [4, 3, 1, 0, 2]]\n",
      ")\n",
      "Group('G8',\n",
      "'Group 8 of order 5',\n",
      "['e8', 'a81', 'a82', 'a83', 'a84'],\n",
      "[[0, 1, 2, 3, 4],\n",
      " [1, 2, 0, 4, 3],\n",
      " [2, 3, 4, 0, 1],\n",
      " [3, 4, 1, 2, 0],\n",
      " [4, 0, 3, 1, 2]]\n",
      ")\n",
      "Group('G9',\n",
      "'Group 9 of order 5',\n",
      "['e9', 'a91', 'a92', 'a93', 'a94'],\n",
      "[[0, 1, 2, 3, 4],\n",
      " [1, 2, 0, 4, 3],\n",
      " [2, 3, 4, 1, 0],\n",
      " [3, 4, 1, 0, 2],\n",
      " [4, 0, 3, 2, 1]]\n",
      ")\n",
      "Group('G10',\n",
      "'Group 10 of order 5',\n",
      "['e10', 'a101', 'a102', 'a103', 'a104'],\n",
      "[[0, 1, 2, 3, 4],\n",
      " [1, 2, 0, 4, 3],\n",
      " [2, 4, 3, 0, 1],\n",
      " [3, 0, 4, 1, 2],\n",
      " [4, 3, 1, 2, 0]]\n",
      ")\n",
      "Group('G11',\n",
      "'Group 11 of order 5',\n",
      "['e11', 'a111', 'a112', 'a113', 'a114'],\n",
      "[[0, 1, 2, 3, 4],\n",
      " [1, 2, 0, 4, 3],\n",
      " [2, 4, 3, 1, 0],\n",
      " [3, 0, 4, 2, 1],\n",
      " [4, 3, 1, 0, 2]]\n",
      ")\n",
      "Group('G12',\n",
      "'Group 12 of order 5',\n",
      "['e12', 'a121', 'a122', 'a123', 'a124'],\n",
      "[[0, 1, 2, 3, 4],\n",
      " [1, 2, 3, 4, 0],\n",
      " [2, 0, 4, 1, 3],\n",
      " [3, 4, 0, 2, 1],\n",
      " [4, 3, 1, 0, 2]]\n",
      ")\n",
      "Group('G13',\n",
      "'Group 13 of order 5',\n",
      "['e13', 'a131', 'a132', 'a133', 'a134'],\n",
      "[[0, 1, 2, 3, 4],\n",
      " [1, 2, 3, 4, 0],\n",
      " [2, 0, 4, 1, 3],\n",
      " [3, 4, 1, 0, 2],\n",
      " [4, 3, 0, 2, 1]]\n",
      ")\n",
      "Group('G14',\n",
      "'Group 14 of order 5',\n",
      "['e14', 'a141', 'a142', 'a143', 'a144'],\n",
      "[[0, 1, 2, 3, 4],\n",
      " [1, 2, 3, 4, 0],\n",
      " [2, 3, 4, 0, 1],\n",
      " [3, 4, 0, 1, 2],\n",
      " [4, 0, 1, 2, 3]]\n",
      ")\n",
      "Group('G15',\n",
      "'Group 15 of order 5',\n",
      "['e15', 'a151', 'a152', 'a153', 'a154'],\n",
      "[[0, 1, 2, 3, 4],\n",
      " [1, 2, 3, 4, 0],\n",
      " [2, 4, 0, 1, 3],\n",
      " [3, 0, 4, 2, 1],\n",
      " [4, 3, 1, 0, 2]]\n",
      ")\n",
      "Group('G16',\n",
      "'Group 16 of order 5',\n",
      "['e16', 'a161', 'a162', 'a163', 'a164'],\n",
      "[[0, 1, 2, 3, 4],\n",
      " [1, 2, 3, 4, 0],\n",
      " [2, 4, 1, 0, 3],\n",
      " [3, 0, 4, 1, 2],\n",
      " [4, 3, 0, 2, 1]]\n",
      ")\n",
      "Group('G17',\n",
      "'Group 17 of order 5',\n",
      "['e17', 'a171', 'a172', 'a173', 'a174'],\n",
      "[[0, 1, 2, 3, 4],\n",
      " [1, 2, 3, 4, 0],\n",
      " [2, 4, 1, 0, 3],\n",
      " [3, 0, 4, 2, 1],\n",
      " [4, 3, 0, 1, 2]]\n",
      ")\n",
      "Group('G18',\n",
      "'Group 18 of order 5',\n",
      "['e18', 'a181', 'a182', 'a183', 'a184'],\n",
      "[[0, 1, 2, 3, 4],\n",
      " [1, 2, 4, 0, 3],\n",
      " [2, 0, 3, 4, 1],\n",
      " [3, 4, 0, 1, 2],\n",
      " [4, 3, 1, 2, 0]]\n",
      ")\n",
      "Group('G19',\n",
      "'Group 19 of order 5',\n",
      "['e19', 'a191', 'a192', 'a193', 'a194'],\n",
      "[[0, 1, 2, 3, 4],\n",
      " [1, 2, 4, 0, 3],\n",
      " [2, 0, 3, 4, 1],\n",
      " [3, 4, 1, 2, 0],\n",
      " [4, 3, 0, 1, 2]]\n",
      ")\n",
      "Group('G20',\n",
      "'Group 20 of order 5',\n",
      "['e20', 'a201', 'a202', 'a203', 'a204'],\n",
      "[[0, 1, 2, 3, 4],\n",
      " [1, 2, 4, 0, 3],\n",
      " [2, 3, 0, 4, 1],\n",
      " [3, 4, 1, 2, 0],\n",
      " [4, 0, 3, 1, 2]]\n",
      ")\n",
      "Group('G21',\n",
      "'Group 21 of order 5',\n",
      "['e21', 'a211', 'a212', 'a213', 'a214'],\n",
      "[[0, 1, 2, 3, 4],\n",
      " [1, 2, 4, 0, 3],\n",
      " [2, 3, 1, 4, 0],\n",
      " [3, 4, 0, 1, 2],\n",
      " [4, 0, 3, 2, 1]]\n",
      ")\n",
      "Group('G22',\n",
      "'Group 22 of order 5',\n",
      "['e22', 'a221', 'a222', 'a223', 'a224'],\n",
      "[[0, 1, 2, 3, 4],\n",
      " [1, 2, 4, 0, 3],\n",
      " [2, 3, 1, 4, 0],\n",
      " [3, 4, 0, 2, 1],\n",
      " [4, 0, 3, 1, 2]]\n",
      ")\n",
      "Group('G23',\n",
      "'Group 23 of order 5',\n",
      "['e23', 'a231', 'a232', 'a233', 'a234'],\n",
      "[[0, 1, 2, 3, 4],\n",
      " [1, 2, 4, 0, 3],\n",
      " [2, 4, 3, 1, 0],\n",
      " [3, 0, 1, 4, 2],\n",
      " [4, 3, 0, 2, 1]]\n",
      ")\n",
      "Group('G24',\n",
      "'Group 24 of order 5',\n",
      "['e24', 'a241', 'a242', 'a243', 'a244'],\n",
      "[[0, 1, 2, 3, 4],\n",
      " [1, 3, 0, 4, 2],\n",
      " [2, 0, 4, 1, 3],\n",
      " [3, 4, 1, 2, 0],\n",
      " [4, 2, 3, 0, 1]]\n",
      ")\n",
      "Group('G25',\n",
      "'Group 25 of order 5',\n",
      "['e25', 'a251', 'a252', 'a253', 'a254'],\n",
      "[[0, 1, 2, 3, 4],\n",
      " [1, 3, 0, 4, 2],\n",
      " [2, 4, 1, 0, 3],\n",
      " [3, 0, 4, 2, 1],\n",
      " [4, 2, 3, 1, 0]]\n",
      ")\n",
      "Group('G26',\n",
      "'Group 26 of order 5',\n",
      "['e26', 'a261', 'a262', 'a263', 'a264'],\n",
      "[[0, 1, 2, 3, 4],\n",
      " [1, 3, 0, 4, 2],\n",
      " [2, 4, 1, 0, 3],\n",
      " [3, 2, 4, 1, 0],\n",
      " [4, 0, 3, 2, 1]]\n",
      ")\n",
      "Group('G27',\n",
      "'Group 27 of order 5',\n",
      "['e27', 'a271', 'a272', 'a273', 'a274'],\n",
      "[[0, 1, 2, 3, 4],\n",
      " [1, 3, 0, 4, 2],\n",
      " [2, 4, 3, 0, 1],\n",
      " [3, 2, 4, 1, 0],\n",
      " [4, 0, 1, 2, 3]]\n",
      ")\n",
      "Group('G28',\n",
      "'Group 28 of order 5',\n",
      "['e28', 'a281', 'a282', 'a283', 'a284'],\n",
      "[[0, 1, 2, 3, 4],\n",
      " [1, 3, 0, 4, 2],\n",
      " [2, 4, 3, 1, 0],\n",
      " [3, 0, 4, 2, 1],\n",
      " [4, 2, 1, 0, 3]]\n",
      ")\n",
      "Group('G29',\n",
      "'Group 29 of order 5',\n",
      "['e29', 'a291', 'a292', 'a293', 'a294'],\n",
      "[[0, 1, 2, 3, 4],\n",
      " [1, 3, 0, 4, 2],\n",
      " [2, 4, 3, 1, 0],\n",
      " [3, 2, 4, 0, 1],\n",
      " [4, 0, 1, 2, 3]]\n",
      ")\n",
      "Group('G30',\n",
      "'Group 30 of order 5',\n",
      "['e30', 'a301', 'a302', 'a303', 'a304'],\n",
      "[[0, 1, 2, 3, 4],\n",
      " [1, 3, 4, 0, 2],\n",
      " [2, 0, 1, 4, 3],\n",
      " [3, 4, 0, 2, 1],\n",
      " [4, 2, 3, 1, 0]]\n",
      ")\n",
      "Group('G31',\n",
      "'Group 31 of order 5',\n",
      "['e31', 'a311', 'a312', 'a313', 'a314'],\n",
      "[[0, 1, 2, 3, 4],\n",
      " [1, 3, 4, 0, 2],\n",
      " [2, 0, 3, 4, 1],\n",
      " [3, 4, 1, 2, 0],\n",
      " [4, 2, 0, 1, 3]]\n",
      ")\n",
      "Group('G32',\n",
      "'Group 32 of order 5',\n",
      "['e32', 'a321', 'a322', 'a323', 'a324'],\n",
      "[[0, 1, 2, 3, 4],\n",
      " [1, 3, 4, 0, 2],\n",
      " [2, 4, 0, 1, 3],\n",
      " [3, 2, 1, 4, 0],\n",
      " [4, 0, 3, 2, 1]]\n",
      ")\n",
      "Group('G33',\n",
      "'Group 33 of order 5',\n",
      "['e33', 'a331', 'a332', 'a333', 'a334'],\n",
      "[[0, 1, 2, 3, 4],\n",
      " [1, 3, 4, 0, 2],\n",
      " [2, 4, 3, 1, 0],\n",
      " [3, 2, 0, 4, 1],\n",
      " [4, 0, 1, 2, 3]]\n",
      ")\n",
      "Group('G34',\n",
      "'Group 34 of order 5',\n",
      "['e34', 'a341', 'a342', 'a343', 'a344'],\n",
      "[[0, 1, 2, 3, 4],\n",
      " [1, 3, 4, 2, 0],\n",
      " [2, 0, 1, 4, 3],\n",
      " [3, 4, 0, 1, 2],\n",
      " [4, 2, 3, 0, 1]]\n",
      ")\n",
      "Group('G35',\n",
      "'Group 35 of order 5',\n",
      "['e35', 'a351', 'a352', 'a353', 'a354'],\n",
      "[[0, 1, 2, 3, 4],\n",
      " [1, 3, 4, 2, 0],\n",
      " [2, 0, 3, 4, 1],\n",
      " [3, 4, 0, 1, 2],\n",
      " [4, 2, 1, 0, 3]]\n",
      ")\n",
      "Group('G36',\n",
      "'Group 36 of order 5',\n",
      "['e36', 'a361', 'a362', 'a363', 'a364'],\n",
      "[[0, 1, 2, 3, 4],\n",
      " [1, 3, 4, 2, 0],\n",
      " [2, 0, 3, 4, 1],\n",
      " [3, 4, 1, 0, 2],\n",
      " [4, 2, 0, 1, 3]]\n",
      ")\n",
      "Group('G37',\n",
      "'Group 37 of order 5',\n",
      "['e37', 'a371', 'a372', 'a373', 'a374'],\n",
      "[[0, 1, 2, 3, 4],\n",
      " [1, 3, 4, 2, 0],\n",
      " [2, 4, 0, 1, 3],\n",
      " [3, 0, 1, 4, 2],\n",
      " [4, 2, 3, 0, 1]]\n",
      ")\n",
      "Group('G38',\n",
      "'Group 38 of order 5',\n",
      "['e38', 'a381', 'a382', 'a383', 'a384'],\n",
      "[[0, 1, 2, 3, 4],\n",
      " [1, 3, 4, 2, 0],\n",
      " [2, 4, 1, 0, 3],\n",
      " [3, 2, 0, 4, 1],\n",
      " [4, 0, 3, 1, 2]]\n",
      ")\n",
      "Group('G39',\n",
      "'Group 39 of order 5',\n",
      "['e39', 'a391', 'a392', 'a393', 'a394'],\n",
      "[[0, 1, 2, 3, 4],\n",
      " [1, 3, 4, 2, 0],\n",
      " [2, 4, 3, 0, 1],\n",
      " [3, 0, 1, 4, 2],\n",
      " [4, 2, 0, 1, 3]]\n",
      ")\n",
      "Group('G40',\n",
      "'Group 40 of order 5',\n",
      "['e40', 'a401', 'a402', 'a403', 'a404'],\n",
      "[[0, 1, 2, 3, 4],\n",
      " [1, 4, 0, 2, 3],\n",
      " [2, 0, 3, 4, 1],\n",
      " [3, 2, 4, 1, 0],\n",
      " [4, 3, 1, 0, 2]]\n",
      ")\n",
      "Group('G41',\n",
      "'Group 41 of order 5',\n",
      "['e41', 'a411', 'a412', 'a413', 'a414'],\n",
      "[[0, 1, 2, 3, 4],\n",
      " [1, 4, 0, 2, 3],\n",
      " [2, 3, 1, 4, 0],\n",
      " [3, 0, 4, 1, 2],\n",
      " [4, 2, 3, 0, 1]]\n",
      ")\n",
      "Group('G42',\n",
      "'Group 42 of order 5',\n",
      "['e42', 'a421', 'a422', 'a423', 'a424'],\n",
      "[[0, 1, 2, 3, 4],\n",
      " [1, 4, 0, 2, 3],\n",
      " [2, 3, 1, 4, 0],\n",
      " [3, 2, 4, 0, 1],\n",
      " [4, 0, 3, 1, 2]]\n",
      ")\n",
      "Group('G43',\n",
      "'Group 43 of order 5',\n",
      "['e43', 'a431', 'a432', 'a433', 'a434'],\n",
      "[[0, 1, 2, 3, 4],\n",
      " [1, 4, 0, 2, 3],\n",
      " [2, 3, 4, 0, 1],\n",
      " [3, 0, 1, 4, 2],\n",
      " [4, 2, 3, 1, 0]]\n",
      ")\n",
      "Group('G44',\n",
      "'Group 44 of order 5',\n",
      "['e44', 'a441', 'a442', 'a443', 'a444'],\n",
      "[[0, 1, 2, 3, 4],\n",
      " [1, 4, 0, 2, 3],\n",
      " [2, 3, 4, 0, 1],\n",
      " [3, 2, 1, 4, 0],\n",
      " [4, 0, 3, 1, 2]]\n",
      ")\n",
      "Group('G45',\n",
      "'Group 45 of order 5',\n",
      "['e45', 'a451', 'a452', 'a453', 'a454'],\n",
      "[[0, 1, 2, 3, 4],\n",
      " [1, 4, 0, 2, 3],\n",
      " [2, 3, 4, 1, 0],\n",
      " [3, 0, 1, 4, 2],\n",
      " [4, 2, 3, 0, 1]]\n",
      ")\n",
      "Group('G46',\n",
      "'Group 46 of order 5',\n",
      "['e46', 'a461', 'a462', 'a463', 'a464'],\n",
      "[[0, 1, 2, 3, 4],\n",
      " [1, 4, 3, 0, 2],\n",
      " [2, 0, 1, 4, 3],\n",
      " [3, 2, 4, 1, 0],\n",
      " [4, 3, 0, 2, 1]]\n",
      ")\n",
      "Group('G47',\n",
      "'Group 47 of order 5',\n",
      "['e47', 'a471', 'a472', 'a473', 'a474'],\n",
      "[[0, 1, 2, 3, 4],\n",
      " [1, 4, 3, 0, 2],\n",
      " [2, 0, 4, 1, 3],\n",
      " [3, 2, 0, 4, 1],\n",
      " [4, 3, 1, 2, 0]]\n",
      ")\n",
      "Group('G48',\n",
      "'Group 48 of order 5',\n",
      "['e48', 'a481', 'a482', 'a483', 'a484'],\n",
      "[[0, 1, 2, 3, 4],\n",
      " [1, 4, 3, 0, 2],\n",
      " [2, 0, 4, 1, 3],\n",
      " [3, 2, 1, 4, 0],\n",
      " [4, 3, 0, 2, 1]]\n",
      ")\n",
      "Group('G49',\n",
      "'Group 49 of order 5',\n",
      "['e49', 'a491', 'a492', 'a493', 'a494'],\n",
      "[[0, 1, 2, 3, 4],\n",
      " [1, 4, 3, 0, 2],\n",
      " [2, 3, 0, 4, 1],\n",
      " [3, 2, 4, 1, 0],\n",
      " [4, 0, 1, 2, 3]]\n",
      ")\n",
      "Group('G50',\n",
      "'Group 50 of order 5',\n",
      "['e50', 'a501', 'a502', 'a503', 'a504'],\n",
      "[[0, 1, 2, 3, 4],\n",
      " [1, 4, 3, 0, 2],\n",
      " [2, 3, 1, 4, 0],\n",
      " [3, 0, 4, 2, 1],\n",
      " [4, 2, 0, 1, 3]]\n",
      ")\n",
      "Group('G51',\n",
      "'Group 51 of order 5',\n",
      "['e51', 'a511', 'a512', 'a513', 'a514'],\n",
      "[[0, 1, 2, 3, 4],\n",
      " [1, 4, 3, 0, 2],\n",
      " [2, 3, 4, 1, 0],\n",
      " [3, 2, 0, 4, 1],\n",
      " [4, 0, 1, 2, 3]]\n",
      ")\n",
      "Group('G52',\n",
      "'Group 52 of order 5',\n",
      "['e52', 'a521', 'a522', 'a523', 'a524'],\n",
      "[[0, 1, 2, 3, 4],\n",
      " [1, 4, 3, 2, 0],\n",
      " [2, 0, 1, 4, 3],\n",
      " [3, 2, 4, 0, 1],\n",
      " [4, 3, 0, 1, 2]]\n",
      ")\n",
      "Group('G53',\n",
      "'Group 53 of order 5',\n",
      "['e53', 'a531', 'a532', 'a533', 'a534'],\n",
      "[[0, 1, 2, 3, 4],\n",
      " [1, 4, 3, 2, 0],\n",
      " [2, 0, 4, 1, 3],\n",
      " [3, 2, 0, 4, 1],\n",
      " [4, 3, 1, 0, 2]]\n",
      ")\n",
      "Group('G54',\n",
      "'Group 54 of order 5',\n",
      "['e54', 'a541', 'a542', 'a543', 'a544'],\n",
      "[[0, 1, 2, 3, 4],\n",
      " [1, 4, 3, 2, 0],\n",
      " [2, 3, 0, 4, 1],\n",
      " [3, 0, 4, 1, 2],\n",
      " [4, 2, 1, 0, 3]]\n",
      ")\n",
      "Group('G55',\n",
      "'Group 55 of order 5',\n",
      "['e55', 'a551', 'a552', 'a553', 'a554'],\n",
      "[[0, 1, 2, 3, 4],\n",
      " [1, 4, 3, 2, 0],\n",
      " [2, 3, 4, 0, 1],\n",
      " [3, 0, 1, 4, 2],\n",
      " [4, 2, 0, 1, 3]]\n",
      ")\n"
     ]
    }
   ],
   "source": [
    "all_groups = alg.tables_to_groups(all_tables)\n",
    "for grp in all_groups:\n",
    "    grp.pprint()"
   ]
  },
  {
   "cell_type": "code",
   "execution_count": 35,
   "id": "847190ed",
   "metadata": {},
   "outputs": [
    {
     "data": {
      "text/plain": [
       "[Group('G14',\n",
       " 'Group 14 of order 5',\n",
       " ['e14', 'a141', 'a142', 'a143', 'a144'],\n",
       " [[0, 1, 2, 3, 4], [1, 2, 3, 4, 0], [2, 3, 4, 0, 1], [3, 4, 0, 1, 2], [4, 0, 1, 2, 3]]) ,\n",
       " Group('G23',\n",
       " 'Group 23 of order 5',\n",
       " ['e23', 'a231', 'a232', 'a233', 'a234'],\n",
       " [[0, 1, 2, 3, 4], [1, 2, 4, 0, 3], [2, 4, 3, 1, 0], [3, 0, 1, 4, 2], [4, 3, 0, 2, 1]]) ,\n",
       " Group('G24',\n",
       " 'Group 24 of order 5',\n",
       " ['e24', 'a241', 'a242', 'a243', 'a244'],\n",
       " [[0, 1, 2, 3, 4], [1, 3, 0, 4, 2], [2, 0, 4, 1, 3], [3, 4, 1, 2, 0], [4, 2, 3, 0, 1]]) ,\n",
       " Group('G38',\n",
       " 'Group 38 of order 5',\n",
       " ['e38', 'a381', 'a382', 'a383', 'a384'],\n",
       " [[0, 1, 2, 3, 4], [1, 3, 4, 2, 0], [2, 4, 1, 0, 3], [3, 2, 0, 4, 1], [4, 0, 3, 1, 2]]) ,\n",
       " Group('G40',\n",
       " 'Group 40 of order 5',\n",
       " ['e40', 'a401', 'a402', 'a403', 'a404'],\n",
       " [[0, 1, 2, 3, 4], [1, 4, 0, 2, 3], [2, 0, 3, 4, 1], [3, 2, 4, 1, 0], [4, 3, 1, 0, 2]]) ,\n",
       " Group('G50',\n",
       " 'Group 50 of order 5',\n",
       " ['e50', 'a501', 'a502', 'a503', 'a504'],\n",
       " [[0, 1, 2, 3, 4], [1, 4, 3, 0, 2], [2, 3, 1, 4, 0], [3, 0, 4, 2, 1], [4, 2, 0, 1, 3]]) ]"
      ]
     },
     "execution_count": 35,
     "metadata": {},
     "output_type": "execute_result"
    }
   ],
   "source": [
    "[g for g in all_groups if g.abelian()]"
   ]
  },
  {
   "cell_type": "markdown",
   "id": "f1534529",
   "metadata": {},
   "source": [
    "## Mapping a Group to another Group"
   ]
  },
  {
   "cell_type": "code",
   "execution_count": 36,
   "id": "17a18162",
   "metadata": {},
   "outputs": [],
   "source": [
    "elems0 = ['e0', 'a01', 'a02', 'a03']\n",
    "elems1 = ['e1', 'a11', 'a12', 'a13']"
   ]
  },
  {
   "cell_type": "raw",
   "id": "c4419ee3",
   "metadata": {},
   "source": [
    "mappings = [dict(zip(elems0[1:], perm)) for perm in permutations(elems1[1:])]\n",
    "\n",
    "for mapping in mappings:\n",
    "    mapping[elems0[0]] = elems1[0]\n",
    "\n",
    "mappings"
   ]
  },
  {
   "cell_type": "raw",
   "id": "4c86a910",
   "metadata": {},
   "source": [
    "def element_mappings(group0, group1):\n",
    "    \"\"\"Returns a list of mappings (dictionaries) of group0's elements to all possible permutations\n",
    "    of group1's elements, where the identity of group0 is always mapped to the identity of group1.\"\"\"\n",
    "    elems0 = group0.element_names\n",
    "    elems1 = group1.element_names\n",
    "    mappings = [dict(zip(elems0[1:], perm)) for perm in permutations(elems1[1:])]\n",
    "    for mapping in mappings:\n",
    "        mapping[elems0[0]] = elems1[0]\n",
    "    return mappings"
   ]
  },
  {
   "cell_type": "code",
   "execution_count": 37,
   "id": "efdebdee",
   "metadata": {},
   "outputs": [
    {
     "name": "stdout",
     "output_type": "stream",
     "text": [
      "['e', 'a', 'a^2', 'a^3']\n",
      "['e2', 'a21', 'a22', 'a23']\n"
     ]
    },
    {
     "data": {
      "text/plain": [
       "[{'a': 'a21', 'a^2': 'a22', 'a^3': 'a23', 'e': 'e2'},\n",
       " {'a': 'a21', 'a^2': 'a23', 'a^3': 'a22', 'e': 'e2'},\n",
       " {'a': 'a22', 'a^2': 'a21', 'a^3': 'a23', 'e': 'e2'},\n",
       " {'a': 'a22', 'a^2': 'a23', 'a^3': 'a21', 'e': 'e2'},\n",
       " {'a': 'a23', 'a^2': 'a21', 'a^3': 'a22', 'e': 'e2'},\n",
       " {'a': 'a23', 'a^2': 'a22', 'a^3': 'a21', 'e': 'e2'}]"
      ]
     },
     "execution_count": 37,
     "metadata": {},
     "output_type": "execute_result"
    }
   ],
   "source": [
    "print(z4.element_names)\n",
    "print(g2.element_names)\n",
    "#z4_g2_mappings = element_mappings(z4, g2)\n",
    "z4_g2_mappings = z4.element_mappings(g2)\n",
    "z4_g2_mappings"
   ]
  },
  {
   "cell_type": "code",
   "execution_count": 38,
   "id": "9d32125a",
   "metadata": {},
   "outputs": [],
   "source": [
    "m0 = z4_g2_mappings[0]\n",
    "# all([ m0[z4.mult(x, y)] == g2.mult(m0[x], m0[y]) for x in z4.element_names for y in z4.element_names ])"
   ]
  },
  {
   "cell_type": "raw",
   "id": "1fd5fcbd",
   "metadata": {},
   "source": [
    "def isomorphic_mapping(mapping, g, h):\n",
    "    \"\"\"Returns True if the mapping from group, g, to group, h, is isomorphic.\"\"\"\n",
    "    elems = g.element_names\n",
    "    return all( [mapping[ g.mult(x, y) ] == h.mult( mapping[x], mapping[y] ) for x in elems for y in elems] )"
   ]
  },
  {
   "cell_type": "code",
   "execution_count": 39,
   "id": "82c8c74f",
   "metadata": {},
   "outputs": [
    {
     "data": {
      "text/plain": [
       "True"
      ]
     },
     "execution_count": 39,
     "metadata": {},
     "output_type": "execute_result"
    }
   ],
   "source": [
    "# isomorphic_mapping(m0, z4, g2)\n",
    "z4.isomorphic_mapping(g2, m0)"
   ]
  },
  {
   "cell_type": "code",
   "execution_count": 40,
   "id": "92dcb4d7",
   "metadata": {},
   "outputs": [
    {
     "data": {
      "text/plain": [
       "True"
      ]
     },
     "execution_count": 40,
     "metadata": {},
     "output_type": "execute_result"
    }
   ],
   "source": [
    "# Try it the other way around\n",
    "# g2_z2_mappings = element_mappings(g2, z4)\n",
    "g2_z2_mappings = g2.element_mappings(z4)\n",
    "m0x = g2_z2_mappings[0]\n",
    "# isomorphic_mapping(m0x, g2, z4)\n",
    "g2.isomorphic_mapping(z4, m0x)"
   ]
  },
  {
   "cell_type": "raw",
   "id": "e2c6df80",
   "metadata": {},
   "source": [
    "def isomorphic(g1, g2):\n",
    "    maps = element_mappings(g1, g2)\n",
    "    for m in maps:\n",
    "        if isomorphic_mapping(m, g1, g2):\n",
    "            return m\n",
    "    return False"
   ]
  },
  {
   "cell_type": "code",
   "execution_count": 41,
   "id": "4a074ace",
   "metadata": {},
   "outputs": [
    {
     "data": {
      "text/plain": [
       "{'a': 'a21', 'a^2': 'a22', 'a^3': 'a23', 'e': 'e2'}"
      ]
     },
     "execution_count": 41,
     "metadata": {},
     "output_type": "execute_result"
    }
   ],
   "source": [
    "z4.isomorphic(g2)"
   ]
  },
  {
   "cell_type": "code",
   "execution_count": 42,
   "id": "00cfc917",
   "metadata": {},
   "outputs": [
    {
     "data": {
      "text/plain": [
       "{'a21': 'a', 'a22': 'a^2', 'a23': 'a^3', 'e2': 'e'}"
      ]
     },
     "execution_count": 42,
     "metadata": {},
     "output_type": "execute_result"
    }
   ],
   "source": [
    "g2.isomorphic(z4)"
   ]
  },
  {
   "cell_type": "code",
   "execution_count": 43,
   "id": "c1693f01",
   "metadata": {},
   "outputs": [
    {
     "data": {
      "text/plain": [
       "[Group('G0',\n",
       " 'Group 0 of order 4',\n",
       " ['e0', 'a01', 'a02', 'a03'],\n",
       " [[0, 1, 2, 3], [1, 0, 3, 2], [2, 3, 0, 1], [3, 2, 1, 0]]) ,\n",
       " Group('G1',\n",
       " 'Group 1 of order 4',\n",
       " ['e1', 'a11', 'a12', 'a13'],\n",
       " [[0, 1, 2, 3], [1, 0, 3, 2], [2, 3, 1, 0], [3, 2, 0, 1]]) ,\n",
       " Group('G2',\n",
       " 'Group 2 of order 4',\n",
       " ['e2', 'a21', 'a22', 'a23'],\n",
       " [[0, 1, 2, 3], [1, 2, 3, 0], [2, 3, 0, 1], [3, 0, 1, 2]]) ,\n",
       " Group('G3',\n",
       " 'Group 3 of order 4',\n",
       " ['e3', 'a31', 'a32', 'a33'],\n",
       " [[0, 1, 2, 3], [1, 3, 0, 2], [2, 0, 3, 1], [3, 2, 1, 0]]) ]"
      ]
     },
     "execution_count": 43,
     "metadata": {},
     "output_type": "execute_result"
    }
   ],
   "source": [
    "foobar"
   ]
  },
  {
   "cell_type": "code",
   "execution_count": 44,
   "id": "2e1209a2",
   "metadata": {},
   "outputs": [
    {
     "name": "stdout",
     "output_type": "stream",
     "text": [
      "G1 G2 {'a11': 'a22', 'a12': 'a21', 'a13': 'a23', 'e1': 'e2'}\n",
      "G1 G3 {'a11': 'a33', 'a12': 'a31', 'a13': 'a32', 'e1': 'e3'}\n",
      "G2 G3 {'a21': 'a31', 'a22': 'a33', 'a23': 'a32', 'e2': 'e3'}\n"
     ]
    }
   ],
   "source": [
    "for combo in combinations(foobar,2):\n",
    "    mp = combo[0].isomorphic(combo[1])\n",
    "    if mp:\n",
    "        print(combo[0].name, combo[1].name, mp)"
   ]
  },
  {
   "cell_type": "code",
   "execution_count": null,
   "id": "5b72bf0f",
   "metadata": {},
   "outputs": [],
   "source": []
  },
  {
   "cell_type": "code",
   "execution_count": null,
   "id": "924f6300",
   "metadata": {},
   "outputs": [],
   "source": []
  },
  {
   "cell_type": "markdown",
   "id": "cf1ac63f",
   "metadata": {},
   "source": [
    "### U(5) = {1, 2, 3, 4} under multiplication modulo 5"
   ]
  },
  {
   "cell_type": "markdown",
   "id": "3f7b0c64",
   "metadata": {},
   "source": [
    "See Ref: \"Subgroups of Order 4 (PDF)\""
   ]
  },
  {
   "cell_type": "code",
   "execution_count": null,
   "id": "f2ce0a9f",
   "metadata": {},
   "outputs": [],
   "source": [
    "order = 4"
   ]
  },
  {
   "cell_type": "code",
   "execution_count": 57,
   "id": "2c29590d",
   "metadata": {},
   "outputs": [
    {
     "data": {
      "text/plain": [
       "[[1, 2, 3, 4], [2, 4, 1, 3], [3, 1, 4, 2], [4, 3, 2, 1]]"
      ]
     },
     "execution_count": 57,
     "metadata": {},
     "output_type": "execute_result"
    }
   ],
   "source": [
    "[[((a * b) % order) for b in range(1, order)] for a in range(1, order)]"
   ]
  },
  {
   "cell_type": "code",
   "execution_count": 58,
   "id": "f59e1e67",
   "metadata": {},
   "outputs": [],
   "source": [
    "def group_generate_1(order, identity_name=\"e\", elem_name=\"a\", name=None, description=None):\n",
    "    \"\"\"Returns a Group with the input order, where 'order' is a positive integer.\"\"\"\n",
    "    if name:\n",
    "        nm = name\n",
    "    else:\n",
    "        nm = \"Z\" + str(order)\n",
    "    if description:\n",
    "        desc = description\n",
    "    else:\n",
    "        desc = f\"Group of order {order}\"\n",
    "    elements = [identity_name, elem_name] + [f\"{elem_name}\" + str(i) for i in range(2, order)]\n",
    "    table = [[((a * b) % (order + 1)) for b in range(1, order + 1)] for a in range(1, order + 1)]\n",
    "    return alg.Group(nm, desc, elements, table)"
   ]
  },
  {
   "cell_type": "code",
   "execution_count": 59,
   "id": "52a74ab4",
   "metadata": {},
   "outputs": [
    {
     "ename": "ValueError",
     "evalue": "A row 0 does not contain the correct values",
     "output_type": "error",
     "traceback": [
      "\u001b[0;31m---------------------------------------------------------------------------\u001b[0m",
      "\u001b[0;31mValueError\u001b[0m                                Traceback (most recent call last)",
      "\u001b[0;32m<ipython-input-59-13fbd75cdb37>\u001b[0m in \u001b[0;36m<module>\u001b[0;34m\u001b[0m\n\u001b[0;32m----> 1\u001b[0;31m \u001b[0mgroup_generate_1\u001b[0m\u001b[0;34m(\u001b[0m\u001b[0;36m4\u001b[0m\u001b[0;34m)\u001b[0m\u001b[0;34m\u001b[0m\u001b[0;34m\u001b[0m\u001b[0m\n\u001b[0m",
      "\u001b[0;32m<ipython-input-58-072918448f30>\u001b[0m in \u001b[0;36mgroup_generate_1\u001b[0;34m(order, identity_name, elem_name, name, description)\u001b[0m\n\u001b[1;32m     11\u001b[0m     \u001b[0melements\u001b[0m \u001b[0;34m=\u001b[0m \u001b[0;34m[\u001b[0m\u001b[0midentity_name\u001b[0m\u001b[0;34m,\u001b[0m \u001b[0melem_name\u001b[0m\u001b[0;34m]\u001b[0m \u001b[0;34m+\u001b[0m \u001b[0;34m[\u001b[0m\u001b[0;34mf\"{elem_name}\"\u001b[0m \u001b[0;34m+\u001b[0m \u001b[0mstr\u001b[0m\u001b[0;34m(\u001b[0m\u001b[0mi\u001b[0m\u001b[0;34m)\u001b[0m \u001b[0;32mfor\u001b[0m \u001b[0mi\u001b[0m \u001b[0;32min\u001b[0m \u001b[0mrange\u001b[0m\u001b[0;34m(\u001b[0m\u001b[0;36m2\u001b[0m\u001b[0;34m,\u001b[0m \u001b[0morder\u001b[0m\u001b[0;34m)\u001b[0m\u001b[0;34m]\u001b[0m\u001b[0;34m\u001b[0m\u001b[0;34m\u001b[0m\u001b[0m\n\u001b[1;32m     12\u001b[0m     \u001b[0mtable\u001b[0m \u001b[0;34m=\u001b[0m \u001b[0;34m[\u001b[0m\u001b[0;34m[\u001b[0m\u001b[0;34m(\u001b[0m\u001b[0;34m(\u001b[0m\u001b[0ma\u001b[0m \u001b[0;34m*\u001b[0m \u001b[0mb\u001b[0m\u001b[0;34m)\u001b[0m \u001b[0;34m%\u001b[0m \u001b[0;34m(\u001b[0m\u001b[0morder\u001b[0m \u001b[0;34m+\u001b[0m \u001b[0;36m1\u001b[0m\u001b[0;34m)\u001b[0m\u001b[0;34m)\u001b[0m \u001b[0;32mfor\u001b[0m \u001b[0mb\u001b[0m \u001b[0;32min\u001b[0m \u001b[0mrange\u001b[0m\u001b[0;34m(\u001b[0m\u001b[0;36m1\u001b[0m\u001b[0;34m,\u001b[0m \u001b[0morder\u001b[0m \u001b[0;34m+\u001b[0m \u001b[0;36m1\u001b[0m\u001b[0;34m)\u001b[0m\u001b[0;34m]\u001b[0m \u001b[0;32mfor\u001b[0m \u001b[0ma\u001b[0m \u001b[0;32min\u001b[0m \u001b[0mrange\u001b[0m\u001b[0;34m(\u001b[0m\u001b[0;36m1\u001b[0m\u001b[0;34m,\u001b[0m \u001b[0morder\u001b[0m \u001b[0;34m+\u001b[0m \u001b[0;36m1\u001b[0m\u001b[0;34m)\u001b[0m\u001b[0;34m]\u001b[0m\u001b[0;34m\u001b[0m\u001b[0;34m\u001b[0m\u001b[0m\n\u001b[0;32m---> 13\u001b[0;31m     \u001b[0;32mreturn\u001b[0m \u001b[0malg\u001b[0m\u001b[0;34m.\u001b[0m\u001b[0mGroup\u001b[0m\u001b[0;34m(\u001b[0m\u001b[0mnm\u001b[0m\u001b[0;34m,\u001b[0m \u001b[0mdesc\u001b[0m\u001b[0;34m,\u001b[0m \u001b[0melements\u001b[0m\u001b[0;34m,\u001b[0m \u001b[0mtable\u001b[0m\u001b[0;34m)\u001b[0m\u001b[0;34m\u001b[0m\u001b[0;34m\u001b[0m\u001b[0m\n\u001b[0m",
      "\u001b[0;32m~/Documents/Github/repo/abstract_algebra/src/algebras.py\u001b[0m in \u001b[0;36m__init__\u001b[0;34m(self, *args)\u001b[0m\n\u001b[1;32m    121\u001b[0m         \u001b[0mself\u001b[0m\u001b[0;34m.\u001b[0m\u001b[0m__dp_delimiter\u001b[0m \u001b[0;34m=\u001b[0m \u001b[0;34m':'\u001b[0m  \u001b[0;31m# name delimiter used when creating direct products\u001b[0m\u001b[0;34m\u001b[0m\u001b[0;34m\u001b[0m\u001b[0m\n\u001b[1;32m    122\u001b[0m \u001b[0;34m\u001b[0m\u001b[0m\n\u001b[0;32m--> 123\u001b[0;31m         \u001b[0;32mif\u001b[0m \u001b[0mcheck_inputs\u001b[0m\u001b[0;34m(\u001b[0m\u001b[0mself\u001b[0m\u001b[0;34m.\u001b[0m\u001b[0melement_names\u001b[0m\u001b[0;34m,\u001b[0m \u001b[0mself\u001b[0m\u001b[0;34m.\u001b[0m\u001b[0mmult_table\u001b[0m\u001b[0;34m)\u001b[0m\u001b[0;34m:\u001b[0m\u001b[0;34m\u001b[0m\u001b[0;34m\u001b[0m\u001b[0m\n\u001b[0m\u001b[1;32m    124\u001b[0m             \u001b[0mself\u001b[0m\u001b[0;34m.\u001b[0m\u001b[0m__inverse_lookup_dict\u001b[0m \u001b[0;34m=\u001b[0m \u001b[0mself\u001b[0m\u001b[0;34m.\u001b[0m\u001b[0m__make_inverse_lookup_dict\u001b[0m\u001b[0;34m(\u001b[0m\u001b[0;34m)\u001b[0m\u001b[0;34m\u001b[0m\u001b[0;34m\u001b[0m\u001b[0m\n\u001b[1;32m    125\u001b[0m \u001b[0;34m\u001b[0m\u001b[0m\n",
      "\u001b[0;32m~/Documents/Github/repo/abstract_algebra/src/algebras.py\u001b[0m in \u001b[0;36mcheck_inputs\u001b[0;34m(element_names, mult_table)\u001b[0m\n\u001b[1;32m    521\u001b[0m             \u001b[0;32mpass\u001b[0m\u001b[0;34m\u001b[0m\u001b[0;34m\u001b[0m\u001b[0m\n\u001b[1;32m    522\u001b[0m         \u001b[0;32melse\u001b[0m\u001b[0;34m:\u001b[0m\u001b[0;34m\u001b[0m\u001b[0;34m\u001b[0m\u001b[0m\n\u001b[0;32m--> 523\u001b[0;31m             \u001b[0;32mraise\u001b[0m \u001b[0mValueError\u001b[0m\u001b[0;34m(\u001b[0m\u001b[0;34mf\"A row {row_number} does not contain the correct values\"\u001b[0m\u001b[0;34m)\u001b[0m\u001b[0;34m\u001b[0m\u001b[0;34m\u001b[0m\u001b[0m\n\u001b[0m\u001b[1;32m    524\u001b[0m \u001b[0;34m\u001b[0m\u001b[0m\n\u001b[1;32m    525\u001b[0m     \u001b[0;31m# Check that each table col contains the correct values for a Cayley table\u001b[0m\u001b[0;34m\u001b[0m\u001b[0;34m\u001b[0m\u001b[0;34m\u001b[0m\u001b[0m\n",
      "\u001b[0;31mValueError\u001b[0m: A row 0 does not contain the correct values"
     ]
    }
   ],
   "source": [
    "group_generate_1(4)"
   ]
  },
  {
   "cell_type": "code",
   "execution_count": null,
   "id": "d1181a8c",
   "metadata": {},
   "outputs": [],
   "source": []
  }
 ],
 "metadata": {
  "kernelspec": {
   "display_name": "Python 3",
   "language": "python",
   "name": "python3"
  },
  "language_info": {
   "codemirror_mode": {
    "name": "ipython",
    "version": 3
   },
   "file_extension": ".py",
   "mimetype": "text/x-python",
   "name": "python",
   "nbconvert_exporter": "python",
   "pygments_lexer": "ipython3",
   "version": "3.7.7"
  }
 },
 "nbformat": 4,
 "nbformat_minor": 5
}
