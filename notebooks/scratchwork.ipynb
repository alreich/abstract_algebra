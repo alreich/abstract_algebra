{
 "cells": [
  {
   "cell_type": "markdown",
   "id": "a149ddb6",
   "metadata": {},
   "source": [
    "# Scratchwork"
   ]
  },
  {
   "cell_type": "markdown",
   "id": "63007897",
   "metadata": {},
   "source": [
    "This notebook is only used for trying out ideas."
   ]
  },
  {
   "cell_type": "code",
   "execution_count": null,
   "id": "d0f29371",
   "metadata": {},
   "outputs": [],
   "source": [
    "import algebras as alg\n",
    "import json\n",
    "import os\n",
    "import numpy as np\n",
    "import itertools as it\n",
    "from pprint import pprint"
   ]
  },
  {
   "cell_type": "code",
   "execution_count": null,
   "id": "6859eca6",
   "metadata": {},
   "outputs": [],
   "source": [
    "# Path to this repo\n",
    "aa_path = os.path.join(os.getenv('PYPROJ'), 'abstract_algebra')\n",
    "\n",
    "# Path to a directory containing Algebra definitions in JSON\n",
    "alg_dir = os.path.join(aa_path, \"Algebras\")"
   ]
  },
  {
   "cell_type": "markdown",
   "id": "851aa50d",
   "metadata": {},
   "source": [
    "## Groups for Testing"
   ]
  },
  {
   "cell_type": "markdown",
   "id": "54f0e2a8",
   "metadata": {},
   "source": [
    "### D4 - Dihedral Group on 4 Vertices"
   ]
  },
  {
   "cell_type": "code",
   "execution_count": null,
   "id": "329cc3a7",
   "metadata": {},
   "outputs": [],
   "source": [
    "d4_path = os.path.join(alg_dir, \"d4_dihedral_group_on_4_vertices.json\")\n",
    "!cat {d4_path}"
   ]
  },
  {
   "cell_type": "code",
   "execution_count": null,
   "id": "d7bada48",
   "metadata": {},
   "outputs": [],
   "source": [
    "d4 = alg.Group(d4_path)\n",
    "d4.print_info()"
   ]
  },
  {
   "cell_type": "markdown",
   "id": "0619650e",
   "metadata": {},
   "source": [
    "### V4 - Klein 4 Group"
   ]
  },
  {
   "cell_type": "code",
   "execution_count": null,
   "id": "b0765506",
   "metadata": {},
   "outputs": [],
   "source": [
    "v4_path = os.path.join(alg_dir, \"v4_klein_4_group.json\")\n",
    "!cat {v4_path}"
   ]
  },
  {
   "cell_type": "code",
   "execution_count": null,
   "id": "c7b06f1a",
   "metadata": {},
   "outputs": [],
   "source": [
    "v4 = alg.Group(v4_path)\n",
    "v4.print_info()"
   ]
  },
  {
   "cell_type": "markdown",
   "id": "7f0142fd",
   "metadata": {},
   "source": [
    "## Changing the Order of Elements"
   ]
  },
  {
   "cell_type": "markdown",
   "id": "8c4a5ed6",
   "metadata": {},
   "source": [
    "<b>Observation</b>: If the group is abelian, then changing the order of the elements does <b>not</b> affect the order of the indices in the <i>mult_table</i>.  <b>Why?</b>"
   ]
  },
  {
   "cell_type": "code",
   "execution_count": null,
   "id": "98229c71",
   "metadata": {},
   "outputs": [],
   "source": [
    "# new_elem_order = v4.element_names\n",
    "# new_v4_elem_order = ['e', 'v', 'h', 'hv']\n",
    "new_v4_elem_order = [\"e\", \"hv\", \"h\", \"v\"]"
   ]
  },
  {
   "cell_type": "code",
   "execution_count": null,
   "id": "dcf8c02b",
   "metadata": {},
   "outputs": [],
   "source": [
    "#table_from_reordered_elements(v4, new_v4_elem_order)\n",
    "v4_reordered = v4.reorder_elements(new_v4_elem_order)\n",
    "v4_reordered"
   ]
  },
  {
   "cell_type": "code",
   "execution_count": null,
   "id": "8df207c8",
   "metadata": {},
   "outputs": [],
   "source": [
    "pprint(v4_reordered.mult_table_with_names())"
   ]
  },
  {
   "cell_type": "code",
   "execution_count": null,
   "id": "3022ef6d",
   "metadata": {},
   "outputs": [],
   "source": [
    "v4_reordered.mult_table"
   ]
  },
  {
   "cell_type": "code",
   "execution_count": null,
   "id": "402e2d0f",
   "metadata": {},
   "outputs": [],
   "source": [
    "pprint(v4.mult_table_with_names())"
   ]
  },
  {
   "cell_type": "code",
   "execution_count": null,
   "id": "08e3a12a",
   "metadata": {},
   "outputs": [],
   "source": [
    "v4.mult_table"
   ]
  },
  {
   "cell_type": "code",
   "execution_count": null,
   "id": "b49cc585",
   "metadata": {},
   "outputs": [],
   "source": []
  },
  {
   "cell_type": "code",
   "execution_count": null,
   "id": "884f06ca",
   "metadata": {},
   "outputs": [],
   "source": [
    "new_d4_elem_order = [\"e\", \"r\", \"r^2\", \"f\", \"r^3\", \"fr\", \"r^2f\", \"rf\"]"
   ]
  },
  {
   "cell_type": "code",
   "execution_count": null,
   "id": "5e5ae94a",
   "metadata": {},
   "outputs": [],
   "source": [
    "d4_reordered = d4.reorder_elements(new_d4_elem_order)\n",
    "d4_reordered"
   ]
  },
  {
   "cell_type": "code",
   "execution_count": null,
   "id": "7a546018",
   "metadata": {},
   "outputs": [],
   "source": [
    "d4_reordered.mult_table"
   ]
  },
  {
   "cell_type": "code",
   "execution_count": null,
   "id": "95b4e612",
   "metadata": {},
   "outputs": [],
   "source": [
    "d4.mult_table"
   ]
  },
  {
   "cell_type": "code",
   "execution_count": null,
   "id": "57fb9da2",
   "metadata": {},
   "outputs": [],
   "source": []
  },
  {
   "cell_type": "code",
   "execution_count": null,
   "id": "0ea56a99",
   "metadata": {},
   "outputs": [],
   "source": [
    "d4.element_orders()"
   ]
  },
  {
   "cell_type": "code",
   "execution_count": null,
   "id": "38593df0",
   "metadata": {},
   "outputs": [],
   "source": [
    "d4_reordered.element_orders()"
   ]
  },
  {
   "cell_type": "markdown",
   "id": "24090466",
   "metadata": {},
   "source": [
    "## Generating Possible Multiplication Tables"
   ]
  },
  {
   "cell_type": "code",
   "execution_count": 1,
   "id": "4656c01e",
   "metadata": {},
   "outputs": [],
   "source": [
    "from itertools import product, permutations, combinations\n",
    "\n",
    "def no_conflict(p1, p2):\n",
    "    \"\"\"Returns True only if no element of p1 equals the corresponding element of p2.\"\"\"\n",
    "    return all([p1[i] != p2[i] for i in range(len(p1))])\n",
    "\n",
    "def no_conflicts(items):\n",
    "    \"\"\"Return True if each possible pair, from a list of items, has no conflicts.\"\"\"\n",
    "    return all(no_conflict(combo[0], combo[1]) for combo in combinations(items, 2))\n",
    "\n",
    "def filter_out_conflicts(perms, perm, n):\n",
    "    \"\"\"Filter out all permutations in perms that confict with perm,\n",
    "    and don't have n as the first element.\"\"\"\n",
    "    nperms = [q for q in perms if q[0] == n]\n",
    "    return [p for p in nperms if no_conflict(p, perm)]\n",
    "\n",
    "def generate_all_group_tables(order):\n",
    "    \"\"\"Return a list of all arrays that correspond to multiplication tables for groups of a specific order \"\"\"\n",
    "    row0 = list(range(order))\n",
    "    all_perms = permutations(row0)\n",
    "    row_candidates = [[row0]]\n",
    "    for row_num in range(1, order):\n",
    "        row_candidates.append(filter_out_conflicts(permutations(row0), row0, row_num))\n",
    "    table_candidates = list(product(*row_candidates))\n",
    "    return [tbl for tbl in table_candidates if no_conflicts(tbl)]"
   ]
  },
  {
   "cell_type": "code",
   "execution_count": 2,
   "id": "cfa104c3",
   "metadata": {},
   "outputs": [
    {
     "data": {
      "text/plain": [
       "[([0, 1, 2, 3], (1, 0, 3, 2), (2, 3, 0, 1), (3, 2, 1, 0)),\n",
       " ([0, 1, 2, 3], (1, 0, 3, 2), (2, 3, 1, 0), (3, 2, 0, 1)),\n",
       " ([0, 1, 2, 3], (1, 2, 3, 0), (2, 3, 0, 1), (3, 0, 1, 2)),\n",
       " ([0, 1, 2, 3], (1, 3, 0, 2), (2, 0, 3, 1), (3, 2, 1, 0))]"
      ]
     },
     "execution_count": 2,
     "metadata": {},
     "output_type": "execute_result"
    }
   ],
   "source": [
    "foo = generate_all_group_tables(4)\n",
    "foo"
   ]
  },
  {
   "cell_type": "code",
   "execution_count": 3,
   "id": "ea6b86a7",
   "metadata": {},
   "outputs": [],
   "source": [
    "order = 4"
   ]
  },
  {
   "cell_type": "code",
   "execution_count": null,
   "id": "a06e890e",
   "metadata": {},
   "outputs": [],
   "source": [
    "row0 = list(range(order))\n",
    "row0"
   ]
  },
  {
   "cell_type": "code",
   "execution_count": null,
   "id": "8b3a182b",
   "metadata": {},
   "outputs": [],
   "source": [
    "# all_perms = list(map(lambda perm: list(perm), permutations(row0)))\n",
    "all_perms = permutations(row0)\n",
    "all_perms"
   ]
  },
  {
   "cell_type": "code",
   "execution_count": null,
   "id": "1cb1cebe",
   "metadata": {},
   "outputs": [],
   "source": [
    "rows1a = filter(permutations(row0), row0, 1)\n",
    "rows1a"
   ]
  },
  {
   "cell_type": "code",
   "execution_count": null,
   "id": "a3f1b391",
   "metadata": {},
   "outputs": [],
   "source": [
    "rows2a = filter(permutations(row0), row0, 2)\n",
    "rows2a"
   ]
  },
  {
   "cell_type": "code",
   "execution_count": null,
   "id": "42375d70",
   "metadata": {},
   "outputs": [],
   "source": [
    "rows3a = filter(permutations(row0), row0, 3)\n",
    "rows3a"
   ]
  },
  {
   "cell_type": "code",
   "execution_count": null,
   "id": "24e8d257",
   "metadata": {},
   "outputs": [],
   "source": [
    "x = [[row0], rows1a, rows2a, rows3a]\n",
    "x"
   ]
  },
  {
   "cell_type": "code",
   "execution_count": null,
   "id": "1f7421fa",
   "metadata": {},
   "outputs": [],
   "source": [
    "ts = list(product(*x))"
   ]
  },
  {
   "cell_type": "code",
   "execution_count": null,
   "id": "a204090f",
   "metadata": {},
   "outputs": [],
   "source": [
    "foo = ts[0]\n",
    "foo"
   ]
  },
  {
   "cell_type": "code",
   "execution_count": null,
   "id": "04146214",
   "metadata": {},
   "outputs": [],
   "source": [
    "for combo in combinations(foo, 2):\n",
    "    print(combo, no_conflict(combo[0], combo[1]))"
   ]
  },
  {
   "cell_type": "code",
   "execution_count": null,
   "id": "9d5228a4",
   "metadata": {},
   "outputs": [],
   "source": [
    "def no_conflicts(items):\n",
    "    return all(no_conflict(combo[0], combo[1]) for combo in combinations(items, 2))"
   ]
  },
  {
   "cell_type": "code",
   "execution_count": null,
   "id": "2abc061c",
   "metadata": {},
   "outputs": [],
   "source": [
    "no_conflicts(foo)"
   ]
  },
  {
   "cell_type": "code",
   "execution_count": null,
   "id": "c1fad8a8",
   "metadata": {},
   "outputs": [],
   "source": [
    "for t in ts:\n",
    "    if no_conflicts(t):\n",
    "        print(t)"
   ]
  },
  {
   "cell_type": "code",
   "execution_count": null,
   "id": "82495afa",
   "metadata": {},
   "outputs": [],
   "source": [
    "[t for t in ts if no_conflicts(t)]"
   ]
  }
 ],
 "metadata": {
  "kernelspec": {
   "display_name": "Python 3",
   "language": "python",
   "name": "python3"
  },
  "language_info": {
   "codemirror_mode": {
    "name": "ipython",
    "version": 3
   },
   "file_extension": ".py",
   "mimetype": "text/x-python",
   "name": "python",
   "nbconvert_exporter": "python",
   "pygments_lexer": "ipython3",
   "version": "3.7.7"
  }
 },
 "nbformat": 4,
 "nbformat_minor": 5
}
