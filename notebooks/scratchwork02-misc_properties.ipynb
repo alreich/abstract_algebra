{
 "cells": [
  {
   "cell_type": "markdown",
   "id": "a917f9cd",
   "metadata": {},
   "source": [
    "# Scratchwork 2"
   ]
  },
  {
   "cell_type": "code",
   "execution_count": 1,
   "id": "6c7b35c7",
   "metadata": {},
   "outputs": [],
   "source": [
    "from finite_algebras import *\n",
    "from cayley_table import *\n",
    "from permutations import *"
   ]
  },
  {
   "cell_type": "code",
   "execution_count": 2,
   "id": "ebc302bf",
   "metadata": {},
   "outputs": [],
   "source": [
    "import os\n",
    "aa_path = os.path.join(os.getenv(\"PYPROJ\"), \"abstract_algebra\")\n",
    "alg_dir = os.path.join(aa_path, \"Algebras\")"
   ]
  },
  {
   "cell_type": "code",
   "execution_count": 3,
   "id": "d5340369",
   "metadata": {},
   "outputs": [
    {
     "name": "stdout",
     "output_type": "stream",
     "text": [
      "======================================================================\n",
      "                           Example Algebras\n",
      "----------------------------------------------------------------------\n",
      "  17 example algebras are available.\n",
      "  Use \"Examples[INDEX]\" to retrieve a specific example,\n",
      "  where INDEX is the first number on each line below:\n",
      "----------------------------------------------------------------------\n",
      "0: A4 -- Alternating group on 4 letters (AKA Tetrahedral group)\n",
      "1: D3 -- https://en.wikipedia.org/wiki/Dihedral_group_of_order_6\n",
      "2: D4 -- Dihedral group on four vertices\n",
      "3: Pinter29 -- Non-abelian group, p.29, 'A Book of Abstract Algebra' by Charles C. Pinter\n",
      "4: RPS -- Rock, Paper, Scissors Magma\n",
      "5: S3 -- Symmetric group on 3 letters\n",
      "6: S3X -- Another version of the symmetric group on 3 letters\n",
      "7: V4 -- Klein-4 group\n",
      "8: Z4 -- Cyclic group of order 4\n",
      "9: F4 -- Field with 4 elements (from Wikipedia)\n",
      "10: mag_id -- Magma with Identity\n",
      "11: Example 1.4.1 -- See: Groupoids and Smarandache Groupoids by W. B. Vasantha Kandasamy\n",
      "12: Ex6 -- Example 6: http://www-groups.mcs.st-andrews.ac.uk/~john/MT4517/Lectures/L3.html\n",
      "13: Q8 -- Quaternion Group\n",
      "14: SD16 -- Semidihedral group of order 16\n",
      "15: A5 -- Alternating group on 5 letters\n",
      "16: F2 -- Field with 2 elements from paper: 236w06fields.pdf\n",
      "======================================================================\n"
     ]
    }
   ],
   "source": [
    "ex = Examples(alg_dir)"
   ]
  },
  {
   "cell_type": "code",
   "execution_count": 4,
   "id": "dfb93629",
   "metadata": {},
   "outputs": [
    {
     "name": "stdout",
     "output_type": "stream",
     "text": [
      "\n",
      "** Magma **\n",
      "Name: mag_id\n",
      "Instance ID: 4834574096\n",
      "Description: Magma with Identity\n",
      "Order: 3\n",
      "Identity: e\n",
      "Associative? No\n",
      "Commutative? No\n",
      "Cyclic?: Yes\n",
      "  Generators: ['b']\n",
      "Elements: ['e', 'a', 'b']\n",
      "Has Inverses? No\n",
      "Cayley Table (showing names):\n",
      "[['e', 'a', 'b'], ['a', 'e', 'a'], ['b', 'b', 'a']]\n"
     ]
    }
   ],
   "source": [
    "mag_id = ex[10]\n",
    "mag_id.about(use_table_names=True)"
   ]
  },
  {
   "cell_type": "markdown",
   "id": "068170c1",
   "metadata": {},
   "source": [
    "### The Center of a Magma"
   ]
  },
  {
   "cell_type": "code",
   "execution_count": 5,
   "id": "178394c8",
   "metadata": {},
   "outputs": [
    {
     "data": {
      "text/plain": [
       "['e']"
      ]
     },
     "execution_count": 5,
     "metadata": {},
     "output_type": "execute_result"
    }
   ],
   "source": [
    "mag_id.center()"
   ]
  },
  {
   "cell_type": "markdown",
   "id": "3a1e562c",
   "metadata": {},
   "source": [
    "### Taking an Element to a Power"
   ]
  },
  {
   "cell_type": "markdown",
   "id": "e35ce68c",
   "metadata": {},
   "source": [
    "In the examples here, $b^3$ is computed for the \"Magma with identity\".\n",
    "\n",
    "Because Magmas are non-associative, it matters whether the powers are associated from the left or right. Both choices are illustrated below."
   ]
  },
  {
   "cell_type": "code",
   "execution_count": 6,
   "id": "3caa93e7",
   "metadata": {},
   "outputs": [
    {
     "name": "stdout",
     "output_type": "stream",
     "text": [
      "\n",
      "Using Left Associativity (the default):\n",
      "b^3 = a\n",
      "(b * b) * b = a\n",
      "\n",
      "Using Right Associativity:\n",
      "b^3 = b\n",
      "b * (b * b) = b\n"
     ]
    }
   ],
   "source": [
    "print(\"\\nUsing Left Associativity (the default):\")\n",
    "print(f\"b^3 = {mag_id.element_to_power('b', 3)}\")\n",
    "print(f\"(b * b) * b = {mag_id.op(mag_id.op('b', 'b'), 'b')}\")\n",
    "\n",
    "print(\"\\nUsing Right Associativity:\")\n",
    "print(f\"b^3 = {mag_id.element_to_power('b', 3, left_associative=False)}\")\n",
    "print(f\"b * (b * b) = {mag_id.op('b', mag_id.op('b', 'b'))}\")"
   ]
  },
  {
   "cell_type": "code",
   "execution_count": 11,
   "id": "21fcfb56",
   "metadata": {},
   "outputs": [
    {
     "name": "stdout",
     "output_type": "stream",
     "text": [
      "n = -1. But, mag_id does not have inverses.\n"
     ]
    }
   ],
   "source": [
    "try:\n",
    "    print(mag_id.element_to_power('a', -1))\n",
    "except Exception as exc:\n",
    "    print(exc)"
   ]
  },
  {
   "cell_type": "code",
   "execution_count": 12,
   "id": "dd865121",
   "metadata": {},
   "outputs": [
    {
     "data": {
      "text/plain": [
       "'e'"
      ]
     },
     "execution_count": 12,
     "metadata": {},
     "output_type": "execute_result"
    }
   ],
   "source": [
    "mag_id.element_to_power('a', 0)"
   ]
  },
  {
   "cell_type": "code",
   "execution_count": 13,
   "id": "883c04f2",
   "metadata": {},
   "outputs": [
    {
     "name": "stdout",
     "output_type": "stream",
     "text": [
      "n = 0. But, RPS does not have an identity element.\n"
     ]
    }
   ],
   "source": [
    "rps = ex[4]  # Rock-Paper-Scissors\n",
    "\n",
    "try:\n",
    "    print(rps.element_to_power('r', 0))\n",
    "except Exception as exc:\n",
    "    print(exc)"
   ]
  },
  {
   "cell_type": "code",
   "execution_count": 14,
   "id": "e818e4ab",
   "metadata": {},
   "outputs": [
    {
     "name": "stdout",
     "output_type": "stream",
     "text": [
      "\n",
      "** Group **\n",
      "Name: Z5\n",
      "Instance ID: 4834477136\n",
      "Description: Autogenerated cyclic Group of order 5\n",
      "Order: 5\n",
      "Identity: e\n",
      "Commutative? Yes\n",
      "Cyclic?: Yes\n",
      "  Generators: ['a', 'a^2', 'a^3', 'a^4']\n",
      "Elements:\n",
      "   Index   Name   Inverse  Order\n",
      "      0       e       e       1\n",
      "      1       a     a^4       5\n",
      "      2     a^2     a^3       5\n",
      "      3     a^3     a^2       5\n",
      "      4     a^4       a       5\n",
      "Cayley Table (showing indices):\n",
      "[[0, 1, 2, 3, 4],\n",
      " [1, 2, 3, 4, 0],\n",
      " [2, 3, 4, 0, 1],\n",
      " [3, 4, 0, 1, 2],\n",
      " [4, 0, 1, 2, 3]]\n"
     ]
    }
   ],
   "source": [
    "z5 = generate_cyclic_group(5)\n",
    "z5.about()"
   ]
  },
  {
   "cell_type": "code",
   "execution_count": 15,
   "id": "66d5e333",
   "metadata": {},
   "outputs": [
    {
     "data": {
      "text/plain": [
       "'a^3'"
      ]
     },
     "execution_count": 15,
     "metadata": {},
     "output_type": "execute_result"
    }
   ],
   "source": [
    "z5.element_to_power('a', 3)"
   ]
  },
  {
   "cell_type": "code",
   "execution_count": 16,
   "id": "079691f3",
   "metadata": {},
   "outputs": [
    {
     "data": {
      "text/plain": [
       "'a^2'"
      ]
     },
     "execution_count": 16,
     "metadata": {},
     "output_type": "execute_result"
    }
   ],
   "source": [
    "z5.element_to_power('a', -3)"
   ]
  },
  {
   "cell_type": "code",
   "execution_count": 17,
   "id": "b13679b9",
   "metadata": {},
   "outputs": [
    {
     "data": {
      "text/plain": [
       "'e'"
      ]
     },
     "execution_count": 17,
     "metadata": {},
     "output_type": "execute_result"
    }
   ],
   "source": [
    "z5.element_to_power('a', 60)  # Same as a^0, since 60 mod 5 = 0"
   ]
  },
  {
   "cell_type": "markdown",
   "id": "075b6288",
   "metadata": {},
   "source": [
    "### Moving on..."
   ]
  },
  {
   "cell_type": "code",
   "execution_count": null,
   "id": "a20afbe7",
   "metadata": {},
   "outputs": [],
   "source": []
  },
  {
   "cell_type": "code",
   "execution_count": null,
   "id": "e85e10a3",
   "metadata": {},
   "outputs": [],
   "source": [
    "n12 = generate_algebra_mod_n(12)\n",
    "n12.about()"
   ]
  },
  {
   "cell_type": "code",
   "execution_count": null,
   "id": "030f2189",
   "metadata": {},
   "outputs": [],
   "source": [
    "parts12 = about_subalgebras(n12)"
   ]
  },
  {
   "cell_type": "code",
   "execution_count": null,
   "id": "faf9facc",
   "metadata": {},
   "outputs": [],
   "source": [
    "n11 = generate_algebra_mod_n(11)\n",
    "n11.about()"
   ]
  },
  {
   "cell_type": "code",
   "execution_count": null,
   "id": "8401e186",
   "metadata": {},
   "outputs": [],
   "source": [
    "parts11 = about_subalgebras(n11)"
   ]
  },
  {
   "cell_type": "markdown",
   "id": "ad1cb8a4",
   "metadata": {},
   "source": [
    "## Generators"
   ]
  },
  {
   "cell_type": "code",
   "execution_count": null,
   "id": "8796feac",
   "metadata": {},
   "outputs": [],
   "source": [
    "n = 12\n",
    "alg = generate_cyclic_group(n)\n",
    "alg_gens = alg.generators()\n",
    "print(alg.name + \" generators:\")\n",
    "print(alg_gens)\n",
    "print(f\"There are {len(alg_gens)} generators.\")"
   ]
  },
  {
   "cell_type": "code",
   "execution_count": null,
   "id": "621196b4",
   "metadata": {},
   "outputs": [],
   "source": [
    "n = 11\n",
    "alg = generate_cyclic_group(n)\n",
    "alg_gens = alg.generators()\n",
    "print(alg.name + \" generators:\")\n",
    "print(alg_gens)\n",
    "print(f\"There are {len(alg_gens)} generators.\")"
   ]
  },
  {
   "cell_type": "code",
   "execution_count": null,
   "id": "e4901017",
   "metadata": {},
   "outputs": [],
   "source": [
    "alg.is_cyclic()"
   ]
  },
  {
   "cell_type": "code",
   "execution_count": null,
   "id": "7c65a4f8",
   "metadata": {},
   "outputs": [],
   "source": [
    "for alg in ex:\n",
    "    print(alg.name)\n",
    "    print(f\"  {alg.is_cyclic()}\")"
   ]
  },
  {
   "cell_type": "code",
   "execution_count": null,
   "id": "98eb50db",
   "metadata": {},
   "outputs": [],
   "source": [
    "z5 = generate_cyclic_group(5)\n",
    "print(z5)\n",
    "print(f\"Generators: {z5.is_cyclic()}\")"
   ]
  },
  {
   "cell_type": "code",
   "execution_count": null,
   "id": "0550fc7b",
   "metadata": {},
   "outputs": [],
   "source": [
    "z5_sqr = z5 * z5\n",
    "print(z5_sqr)\n",
    "print(f\"Generators: {z5_sqr.is_cyclic()}\")"
   ]
  },
  {
   "cell_type": "code",
   "execution_count": null,
   "id": "f5763236",
   "metadata": {},
   "outputs": [],
   "source": [
    "mag_id = ex[10]\n",
    "mag_id.about(use_table_names=True)"
   ]
  },
  {
   "cell_type": "code",
   "execution_count": null,
   "id": "495649cd",
   "metadata": {},
   "outputs": [],
   "source": [
    "mag_id.is_cyclic()"
   ]
  },
  {
   "cell_type": "markdown",
   "id": "9187dc10",
   "metadata": {},
   "source": [
    "## Center of a Group"
   ]
  },
  {
   "cell_type": "code",
   "execution_count": null,
   "id": "d6eba260",
   "metadata": {},
   "outputs": [],
   "source": [
    "q8 = ex[13]\n",
    "q8.about()"
   ]
  },
  {
   "cell_type": "code",
   "execution_count": null,
   "id": "89d1ce29",
   "metadata": {},
   "outputs": [],
   "source": [
    "q8_ctr = q8.center_algebra()\n",
    "q8_ctr.about()"
   ]
  },
  {
   "cell_type": "code",
   "execution_count": null,
   "id": "bc8883a0",
   "metadata": {},
   "outputs": [],
   "source": [
    "sd16 = ex[14]\n",
    "sd16.about(max_size=16)"
   ]
  },
  {
   "cell_type": "code",
   "execution_count": null,
   "id": "f259619f",
   "metadata": {},
   "outputs": [],
   "source": [
    "sd16_ctr = sd16.center_algebra()\n",
    "sd16_ctr.about()"
   ]
  },
  {
   "cell_type": "code",
   "execution_count": null,
   "id": "845c2f3f",
   "metadata": {},
   "outputs": [],
   "source": [
    "ex141 = ex[11]\n",
    "ex141.about()"
   ]
  },
  {
   "cell_type": "code",
   "execution_count": null,
   "id": "4428c488",
   "metadata": {},
   "outputs": [],
   "source": [
    "ex141.center_algebra(verbose=True)"
   ]
  },
  {
   "cell_type": "code",
   "execution_count": null,
   "id": "49072d9a",
   "metadata": {},
   "outputs": [],
   "source": [
    "for x in ex:\n",
    "    xctr = x.center()\n",
    "    print(x, xctr)"
   ]
  },
  {
   "cell_type": "markdown",
   "id": "41fdc38b",
   "metadata": {},
   "source": [
    "## Cancellation"
   ]
  },
  {
   "cell_type": "markdown",
   "id": "23981035",
   "metadata": {},
   "source": [
    "A Magma, $M = \\langle S, \\circ \\rangle$ is a **division Magma** if $\\forall a,b \\in S, \\exists x,y \\in S$ such that $a \\circ x = b$ and $y \\circ a = b$."
   ]
  },
  {
   "cell_type": "code",
   "execution_count": null,
   "id": "ccbe2cc7",
   "metadata": {},
   "outputs": [],
   "source": [
    "ex.about()"
   ]
  },
  {
   "cell_type": "code",
   "execution_count": null,
   "id": "ff9c3cec",
   "metadata": {},
   "outputs": [],
   "source": [
    "alg = ex[10]\n",
    "alg.about()"
   ]
  },
  {
   "cell_type": "code",
   "execution_count": null,
   "id": "68a5e262",
   "metadata": {},
   "outputs": [],
   "source": [
    "import itertools as it\n",
    "\n",
    "print(f\"\\n{alg}\\n\")\n",
    "\n",
    "for ab in it.product(alg.elements, alg.elements):\n",
    "    ab_ok = False\n",
    "    for xy in it.product(alg.elements, alg.elements):\n",
    "        a = ab[0]; b = ab[1]; x = xy[0]; y = xy[1]\n",
    "        if alg.op(a, x) == b and alg.op(y, a) == b:\n",
    "            print(f\"{ab} & {xy}\")\n",
    "            ab_ok = True\n",
    "            break\n",
    "    if not ab_ok:\n",
    "        print(f\"{ab} fail\")"
   ]
  },
  {
   "cell_type": "code",
   "execution_count": null,
   "id": "a5cfd125",
   "metadata": {},
   "outputs": [],
   "source": [
    "import itertools as it\n",
    "\n",
    "def is_division_algebra(alg, verbose=False):\n",
    "    if verbose:\n",
    "        print(f\"\\n{alg}\\n\")\n",
    "    result = True\n",
    "    for ab in it.product(alg.elements, alg.elements):\n",
    "        ab_ok = False\n",
    "        for xy in it.product(alg.elements, alg.elements):\n",
    "            a = ab[0]; b = ab[1]; x = xy[0]; y = xy[1]\n",
    "            if alg.op(a, x) == b and alg.op(y, a) == b:\n",
    "                if verbose:\n",
    "                    print(f\"{ab} & {xy}\")\n",
    "                ab_ok = True\n",
    "                break\n",
    "        if not ab_ok:\n",
    "            result = False\n",
    "            if verbose:\n",
    "                print(f\"{ab} fail\")\n",
    "    return result"
   ]
  },
  {
   "cell_type": "code",
   "execution_count": null,
   "id": "b03d9552",
   "metadata": {},
   "outputs": [],
   "source": [
    "is_division_algebra(ex[4], verbose=True)"
   ]
  },
  {
   "cell_type": "code",
   "execution_count": null,
   "id": "393fb8cf",
   "metadata": {},
   "outputs": [],
   "source": []
  },
  {
   "cell_type": "code",
   "execution_count": null,
   "id": "0f3cccd2",
   "metadata": {},
   "outputs": [],
   "source": [
    "for alg in ex:\n",
    "    print(f\"{alg.name}? {yes_or_no(is_division_algebra(alg))}\")"
   ]
  },
  {
   "cell_type": "code",
   "execution_count": null,
   "id": "cd61c1b7",
   "metadata": {},
   "outputs": [],
   "source": [
    "ex.about()"
   ]
  },
  {
   "cell_type": "markdown",
   "id": "fb6f15bb",
   "metadata": {},
   "source": [
    "## Regularity in Semigroups"
   ]
  },
  {
   "cell_type": "markdown",
   "id": "476df2f2",
   "metadata": {},
   "source": [
    "See the paper by John Howie (ref below)\n",
    "\n",
    "A Semigroup, $\\langle S, \\circ \\rangle$ is **regular** if $\\forall a \\in S, \\exists x \\in S$ such that $a \\circ x \\circ a = a$."
   ]
  },
  {
   "cell_type": "code",
   "execution_count": null,
   "id": "be77795d",
   "metadata": {},
   "outputs": [],
   "source": [
    "alg = ex[1]\n",
    "alg.about()"
   ]
  },
  {
   "cell_type": "code",
   "execution_count": null,
   "id": "e33ff21d",
   "metadata": {},
   "outputs": [],
   "source": [
    "a = alg.elements[4]\n",
    "print(f\"a = {a}\")\n",
    "print(f\"a_inv = {alg.inv(a)}\")\n",
    "\n",
    "[x for x in alg if alg.op(alg.op(a, x), a) == a]\n",
    "print([alg.op(alg.op(a, x), a) == a for x in alg])\n",
    "any([alg.op(alg.op(a, x), a) == a for x in alg])"
   ]
  },
  {
   "cell_type": "raw",
   "id": "68cde9c7",
   "metadata": {},
   "source": [
    "def is_regular(alg):\n",
    "    return all([any([alg.op(alg.op(a, x), a) == a for x in alg]) for a in alg])"
   ]
  },
  {
   "cell_type": "code",
   "execution_count": null,
   "id": "2383781b",
   "metadata": {},
   "outputs": [],
   "source": []
  },
  {
   "cell_type": "code",
   "execution_count": null,
   "id": "0692b463",
   "metadata": {},
   "outputs": [],
   "source": [
    "for alg in ex:\n",
    "    #print(alg.name, all([any([alg.op(alg.op(a, x), a) == a for x in alg]) for a in alg]))\n",
    "    if isinstance(alg, Semigroup):\n",
    "        print(alg.name, alg.is_regular())"
   ]
  },
  {
   "cell_type": "code",
   "execution_count": null,
   "id": "c9a3bec8",
   "metadata": {},
   "outputs": [],
   "source": [
    "alg = generate_commutative_monoid(8)\n",
    "alg.about()"
   ]
  },
  {
   "cell_type": "raw",
   "id": "76053eef",
   "metadata": {},
   "source": [
    "def weak_inverses(alg):\n",
    "    return {a:[x for x in alg if alg.op(alg.op(a, x), a) == a] for a in alg}"
   ]
  },
  {
   "cell_type": "code",
   "execution_count": null,
   "id": "0ef0a948",
   "metadata": {},
   "outputs": [],
   "source": [
    "alg.is_regular()"
   ]
  },
  {
   "cell_type": "code",
   "execution_count": null,
   "id": "1870b917",
   "metadata": {},
   "outputs": [],
   "source": [
    "alg.weak_inverses()"
   ]
  },
  {
   "cell_type": "code",
   "execution_count": null,
   "id": "9177ba37",
   "metadata": {},
   "outputs": [],
   "source": [
    "[i for i in range(1, 50) if not generate_commutative_monoid(i).is_regular()]"
   ]
  },
  {
   "cell_type": "raw",
   "id": "63984d53",
   "metadata": {},
   "source": [
    "What is the pattern here w.r.t. non-regular Monoid orders?\n",
    "\n",
    "[i for i in range(1, 50) if not generate_commutative_monoid(i).is_regular()]\n",
    "\n",
    "[4, 8, 9, 12, 16, 18, 20, 24, 25, 27, 28, 32, 36, 40, 44, 45, 48, 49]"
   ]
  },
  {
   "cell_type": "markdown",
   "id": "7897ab68",
   "metadata": {},
   "source": [
    "See https://en.wikipedia.org/wiki/Cancellation_property\n",
    "\n",
    "and https://math.stackexchange.com/questions/4008196/defining-loops-why-is-divisibility-and-identitiy-implying-invertibility\n",
    "\n",
    "and [\"Why Study Semigroups?\" by John M. Howie](http://www.thebookshelf.auckland.ac.nz/docs/Maths/PDF2/mathschron016-001.pdf)"
   ]
  }
 ],
 "metadata": {
  "kernelspec": {
   "display_name": "Python 3 (ipykernel)",
   "language": "python",
   "name": "python3"
  },
  "language_info": {
   "codemirror_mode": {
    "name": "ipython",
    "version": 3
   },
   "file_extension": ".py",
   "mimetype": "text/x-python",
   "name": "python",
   "nbconvert_exporter": "python",
   "pygments_lexer": "ipython3",
   "version": "3.11.4"
  }
 },
 "nbformat": 4,
 "nbformat_minor": 5
}
