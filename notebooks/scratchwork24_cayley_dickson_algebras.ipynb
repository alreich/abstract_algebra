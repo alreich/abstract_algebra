{
 "cells": [
  {
   "cell_type": "markdown",
   "id": "b6523b92",
   "metadata": {},
   "source": [
    "# Scratchwork: Cayley-Dickson Algebras"
   ]
  },
  {
   "cell_type": "code",
   "execution_count": 1,
   "id": "68cea7ff",
   "metadata": {},
   "outputs": [],
   "source": [
    "import finite_algebras as alg\n",
    "import re\n",
    "from cayley_dickson_utilities import *"
   ]
  },
  {
   "cell_type": "markdown",
   "id": "81513aad",
   "metadata": {},
   "source": [
    "The purpose of this notebook is to develop the functions required to perform the Cayley-Dickson construction within the ``finite_algebras`` module.\n",
    "\n",
    "In the Python module, ``finite_algebras``, all elements are strings.\n",
    "\n",
    "When direct products or Cayley-Dickson algebras are constructed, the component algebras' elements are concatentated (joined) using a string delimiter (':' by default).\n",
    "\n",
    "So, operations like scalar multiplication, negation, conjugation, etc, on the newly constructed \"compound\" elements, require some string manipulation to accomplish."
   ]
  },
  {
   "cell_type": "markdown",
   "id": "75a00d9a",
   "metadata": {},
   "source": [
    "According to [Shafer, 1966]\n",
    "\n",
    "$a,b,c,d,\\mu \\in F$, $\\mu \\neq 0$, then $(a, b) \\times (c, d) = (a c + \\mu d \\overline{b}, \\overline{a} d + c b)$,\n",
    "\n",
    "where $\\overline{a} = a$ and $\\overline{(a, b)} = (\\overline{a}, -b)$"
   ]
  },
  {
   "cell_type": "markdown",
   "id": "7b79999a",
   "metadata": {},
   "source": [
    "## Test Algebras"
   ]
  },
  {
   "cell_type": "code",
   "execution_count": 2,
   "id": "37a0cd3b",
   "metadata": {},
   "outputs": [],
   "source": [
    "F3 = alg.generate_algebra_mod_n(3, elem_name='')\n",
    "F3sqr = F3.sqr()\n",
    "F3quad = F3sqr.sqr()\n",
    "\n",
    "F4 = alg.generate_algebra_mod_n(4, elem_name='')\n",
    "F4sqr = F4.sqr()\n",
    "\n",
    "F5 = alg.generate_algebra_mod_n(5, elem_name='')\n",
    "F5sqr = F5.sqr()\n",
    "\n",
    "F7 = alg.generate_algebra_mod_n(7, elem_name='')\n",
    "F7sqr = F7.sqr()"
   ]
  },
  {
   "cell_type": "code",
   "execution_count": 4,
   "id": "f7752b67",
   "metadata": {},
   "outputs": [
    {
     "name": "stdout",
     "output_type": "stream",
     "text": [
      "\n",
      "** Group **\n",
      "Name: F3_SQR\n",
      "Instance ID: 4487421712\n",
      "Description: Direct product of F3 with itself using complex multiplication\n",
      "Order: 9\n",
      "Identity: '0:0'\n",
      "Commutative? Yes\n",
      "Cyclic?: No\n",
      "Elements:\n",
      "   Index   Name   Inverse  Order\n",
      "      0   '0:0'   '0:0'       1\n",
      "      1   '0:1'   '0:2'       3\n",
      "      2   '0:2'   '0:1'       3\n",
      "      3   '1:0'   '2:0'       3\n",
      "      4   '1:1'   '2:2'       3\n",
      "      5   '1:2'   '2:1'       3\n",
      "      6   '2:0'   '1:0'       3\n",
      "      7   '2:1'   '1:2'       3\n",
      "      8   '2:2'   '1:1'       3\n",
      "Cayley Table (showing indices):\n",
      "[[0, 1, 2, 3, 4, 5, 6, 7, 8],\n",
      " [1, 2, 0, 4, 5, 3, 7, 8, 6],\n",
      " [2, 0, 1, 5, 3, 4, 8, 6, 7],\n",
      " [3, 4, 5, 6, 7, 8, 0, 1, 2],\n",
      " [4, 5, 3, 7, 8, 6, 1, 2, 0],\n",
      " [5, 3, 4, 8, 6, 7, 2, 0, 1],\n",
      " [6, 7, 8, 0, 1, 2, 3, 4, 5],\n",
      " [7, 8, 6, 1, 2, 0, 4, 5, 3],\n",
      " [8, 6, 7, 2, 0, 1, 5, 3, 4]]\n"
     ]
    },
    {
     "data": {
      "text/plain": [
       "'<Group:F3_SQR, ID:4487421712>'"
      ]
     },
     "execution_count": 4,
     "metadata": {},
     "output_type": "execute_result"
    }
   ],
   "source": [
    "F3cda = F3.make_cayley_dickson_algebra()\n",
    "F3cda.about()"
   ]
  },
  {
   "cell_type": "markdown",
   "id": "4f34c91e",
   "metadata": {},
   "source": [
    "## Code Tests"
   ]
  },
  {
   "cell_type": "code",
   "execution_count": null,
   "id": "82e7ed79",
   "metadata": {},
   "outputs": [],
   "source": [
    "tests = ['2', '1:2', '2:1:0:2', '0:0']"
   ]
  },
  {
   "cell_type": "code",
   "execution_count": null,
   "id": "264a4e06",
   "metadata": {},
   "outputs": [],
   "source": [
    "Fn = F3\n",
    "FnSqr = F3sqr\n",
    "FnQuad = F3quad"
   ]
  },
  {
   "cell_type": "code",
   "execution_count": null,
   "id": "3ba5c29d",
   "metadata": {},
   "outputs": [],
   "source": [
    "scalar = '2'\n",
    "for test in tests:\n",
    "    print(f\"{scalar} x {test} = {scalar_mult(scalar, test, Fn)}\")"
   ]
  },
  {
   "cell_type": "code",
   "execution_count": null,
   "id": "42d8993e",
   "metadata": {},
   "outputs": [],
   "source": [
    "for test in tests:\n",
    "    print(f\"-({test}) = {negate(test, Fn)}\")"
   ]
  },
  {
   "cell_type": "code",
   "execution_count": null,
   "id": "35504a5b",
   "metadata": {},
   "outputs": [],
   "source": [
    "for test in tests:\n",
    "    print(f\"conj({test}) = {conjugate(test, Fn)}\")"
   ]
  },
  {
   "cell_type": "code",
   "execution_count": null,
   "id": "95f76fb4",
   "metadata": {},
   "outputs": [],
   "source": [
    "for test in tests[:2]: # just look at the first two items in tests\n",
    "    print(f\"|{test}|^2 = {norm(test, Fn, FnSqr)}\")"
   ]
  },
  {
   "cell_type": "code",
   "execution_count": null,
   "id": "2bd7a191",
   "metadata": {},
   "outputs": [],
   "source": [
    "for test in tests[1:2]: # just look at the first two items in tests\n",
    "    print(f\"inv({test}) = {inverse(test, Fn, FnSqr)}\")"
   ]
  },
  {
   "cell_type": "code",
   "execution_count": null,
   "id": "282a40c6",
   "metadata": {},
   "outputs": [],
   "source": [
    "FnSqr.mult_inv(tests[1])  # The better way to obtain an inverse"
   ]
  },
  {
   "cell_type": "code",
   "execution_count": null,
   "id": "154ead3a",
   "metadata": {},
   "outputs": [],
   "source": [
    "FnSqr.mult(tests[1], inverse(tests[1], Fn, FnSqr))"
   ]
  },
  {
   "cell_type": "code",
   "execution_count": null,
   "id": "033700f4",
   "metadata": {},
   "outputs": [],
   "source": [
    "try:\n",
    "    inverse('0:0', Fn, FnSqr)\n",
    "except Exception as exc:\n",
    "    print(exc)"
   ]
  },
  {
   "cell_type": "markdown",
   "id": "e4aa882a",
   "metadata": {},
   "source": [
    "## String Manipulation"
   ]
  },
  {
   "cell_type": "code",
   "execution_count": null,
   "id": "9760f17f",
   "metadata": {},
   "outputs": [],
   "source": [
    "x, y = split_element('a:b:c:d')\n",
    "x, y"
   ]
  },
  {
   "cell_type": "code",
   "execution_count": null,
   "id": "71eaa674",
   "metadata": {},
   "outputs": [],
   "source": [
    "u, v = split_element(x)\n",
    "u, v"
   ]
  },
  {
   "cell_type": "code",
   "execution_count": null,
   "id": "5ed0cf0e",
   "metadata": {},
   "outputs": [],
   "source": [
    "split_element('a:b:c:d:e:f:g:h')"
   ]
  },
  {
   "cell_type": "code",
   "execution_count": null,
   "id": "3afc041a",
   "metadata": {},
   "outputs": [],
   "source": [
    "split_element('a')"
   ]
  },
  {
   "cell_type": "code",
   "execution_count": null,
   "id": "9b6ecb1a",
   "metadata": {},
   "outputs": [],
   "source": [
    "split_element('')"
   ]
  },
  {
   "cell_type": "markdown",
   "id": "82562210",
   "metadata": {},
   "source": [
    "## Cayley-Dickson Conjugates & Multiplication"
   ]
  },
  {
   "cell_type": "code",
   "execution_count": null,
   "id": "4910dbd8",
   "metadata": {},
   "outputs": [],
   "source": [
    "conj = conjugate"
   ]
  },
  {
   "cell_type": "code",
   "execution_count": null,
   "id": "a414daa6",
   "metadata": {},
   "outputs": [],
   "source": [
    "print(conjugate('1', F7))\n",
    "print(conjugate('1:2', F7))\n",
    "print(conjugate('1:2:3:4', F7))"
   ]
  },
  {
   "cell_type": "code",
   "execution_count": null,
   "id": "d6a1dd3b",
   "metadata": {},
   "outputs": [],
   "source": [
    "x1 = '5:3'\n",
    "y1 = '2:4'"
   ]
  },
  {
   "cell_type": "code",
   "execution_count": null,
   "id": "eae1f1ee",
   "metadata": {},
   "outputs": [],
   "source": [
    "x1y1 = multiply(x1, y1, F7)\n",
    "print(f\"{x1} * {y1} = {x1y1}\")\n",
    "print(F7sqr.mult(x1, y1))\n",
    "\n",
    "x1y1 == F7sqr.mult(x1, y1)"
   ]
  },
  {
   "cell_type": "code",
   "execution_count": null,
   "id": "ec667ff4",
   "metadata": {},
   "outputs": [],
   "source": [
    "All_OK = True\n",
    "count = 0\n",
    "\n",
    "for x1 in F7sqr.elements:\n",
    "    for y1 in F7sqr.elements:\n",
    "        count += 1\n",
    "        xy_sqr = F7sqr.mult(x1, y1)\n",
    "        xy_str = multiply(x1, y1, F7)\n",
    "        if not xy_sqr == xy_str:\n",
    "            print(x1, y1, xy_sqr, xy_str)\n",
    "            All_OK = False\n",
    "\n",
    "print(f\"All {count} products OK? {All_OK}\")"
   ]
  },
  {
   "cell_type": "code",
   "execution_count": null,
   "id": "6ba34b8d",
   "metadata": {},
   "outputs": [],
   "source": [
    "x2 = '5'\n",
    "y2 = '2'"
   ]
  },
  {
   "cell_type": "code",
   "execution_count": null,
   "id": "d56033c7",
   "metadata": {},
   "outputs": [],
   "source": [
    "F7.elements"
   ]
  },
  {
   "cell_type": "code",
   "execution_count": null,
   "id": "008a1743",
   "metadata": {},
   "outputs": [],
   "source": [
    "x2y2 = multiply(x2, y2, F7)\n",
    "print(f\"{x2} * {y2} = {x2y2}\")\n",
    "print(F7.mult(x2, y2))\n",
    "\n",
    "x2y2 == F7.mult(x2, y2)"
   ]
  }
 ],
 "metadata": {
  "kernelspec": {
   "display_name": "Python 3 (ipykernel)",
   "language": "python",
   "name": "python3"
  },
  "language_info": {
   "codemirror_mode": {
    "name": "ipython",
    "version": 3
   },
   "file_extension": ".py",
   "mimetype": "text/x-python",
   "name": "python",
   "nbconvert_exporter": "python",
   "pygments_lexer": "ipython3",
   "version": "3.11.5"
  }
 },
 "nbformat": 4,
 "nbformat_minor": 5
}
