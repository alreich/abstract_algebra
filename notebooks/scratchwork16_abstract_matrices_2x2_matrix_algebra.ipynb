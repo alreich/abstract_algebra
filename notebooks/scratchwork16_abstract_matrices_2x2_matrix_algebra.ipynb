{
 "cells": [
  {
   "cell_type": "markdown",
   "id": "4f98fcb5",
   "metadata": {},
   "source": [
    "# Abstract Matrices - Generate a 2x2 Matrix Algebra"
   ]
  },
  {
   "cell_type": "markdown",
   "id": "95014720",
   "metadata": {},
   "source": [
    "The purpose here is to try to generate an algebra based on 2x2 abstract matrices over a small field, such as [a four-element field](https://en.wikipedia.org/wiki/Field_(mathematics)#A_field_with_four_elements), F4."
   ]
  },
  {
   "cell_type": "code",
   "execution_count": 1,
   "id": "fbff21bf",
   "metadata": {},
   "outputs": [],
   "source": [
    "import finite_algebras as alg\n",
    "import numpy as np\n",
    "from abstract_matrix import AbstractMatrix\n",
    "\n",
    "import os\n",
    "aa_path = os.path.join(os.getenv(\"PYPROJ\"), \"abstract_algebra\")\n",
    "alg_dir = os.path.join(aa_path, \"Algebras\")"
   ]
  },
  {
   "cell_type": "code",
   "execution_count": 2,
   "id": "9d37bfd1",
   "metadata": {},
   "outputs": [
    {
     "name": "stdout",
     "output_type": "stream",
     "text": [
      "======================================================================\n",
      "                           Example Algebras\n",
      "----------------------------------------------------------------------\n",
      "  17 example algebras are available.\n",
      "  Use \"Examples[INDEX]\" to retrieve a specific example,\n",
      "  where INDEX is the first number on each line below:\n",
      "----------------------------------------------------------------------\n",
      "0: A4 -- Alternating group on 4 letters (AKA Tetrahedral group)\n",
      "1: D3 -- https://en.wikipedia.org/wiki/Dihedral_group_of_order_6\n",
      "2: D4 -- Dihedral group on four vertices\n",
      "3: Pinter29 -- Non-abelian group, p.29, 'A Book of Abstract Algebra' by Charles C. Pinter\n",
      "4: RPS -- Rock, Paper, Scissors Magma\n",
      "5: S3 -- Symmetric group on 3 letters\n",
      "6: S3X -- Another version of the symmetric group on 3 letters\n",
      "7: V4 -- Klein-4 group\n",
      "8: Z4 -- Cyclic group of order 4\n",
      "9: F4 -- Field with 4 elements (from Wikipedia)\n",
      "10: mag_id -- Magma with Identity\n",
      "11: Example 1.4.1 -- See: Groupoids and Smarandache Groupoids by W. B. Vasantha Kandasamy\n",
      "12: Ex6 -- Example 6: http://www-groups.mcs.st-andrews.ac.uk/~john/MT4517/Lectures/L3.html\n",
      "13: Q8 -- Quaternion Group\n",
      "14: SD16 -- Semidihedral group of order 16\n",
      "15: A5 -- Alternating group on 5 letters\n",
      "16: F2 -- Field with 2 elements from paper: 236w06fields.pdf\n",
      "======================================================================\n"
     ]
    }
   ],
   "source": [
    "ex = alg.Examples(alg_dir)"
   ]
  },
  {
   "cell_type": "code",
   "execution_count": 3,
   "id": "40bafe52",
   "metadata": {},
   "outputs": [
    {
     "name": "stdout",
     "output_type": "stream",
     "text": [
      "\n",
      "** Field **\n",
      "Name: F2\n",
      "Instance ID: 4709023376\n",
      "Description: Field with 2 elements from paper: 236w06fields.pdf\n",
      "Order: 2\n",
      "Identity: '0'\n",
      "Commutative? Yes\n",
      "Cyclic?: Yes\n",
      "Generators: ['1']\n",
      "Elements:\n",
      "   Index   Name   Inverse  Order\n",
      "      0     '0'     '0'       0\n",
      "      1     '1'     '1'       0\n",
      "Cayley Table (showing names):\n",
      "[['0', '1'], ['1', '0']]\n",
      "Mult. Identity: '1'\n",
      "Mult. Commutative? Yes\n",
      "Zero Divisors: None\n",
      "Multiplicative Cayley Table (showing names):\n",
      "[['0', '0'], ['0', '1']]\n"
     ]
    }
   ],
   "source": [
    "f2 = ex[16]\n",
    "f2.about(use_table_names=True)"
   ]
  },
  {
   "cell_type": "code",
   "execution_count": 4,
   "id": "eeab8ea3",
   "metadata": {},
   "outputs": [
    {
     "name": "stdout",
     "output_type": "stream",
     "text": [
      "\n",
      "** Field **\n",
      "Name: F4\n",
      "Instance ID: 4562805648\n",
      "Description: Field with 4 elements (from Wikipedia)\n",
      "Order: 4\n",
      "Identity: '0'\n",
      "Commutative? Yes\n",
      "Cyclic?: Yes\n",
      "Generators: ['a', '1+a']\n",
      "Elements:\n",
      "   Index   Name   Inverse  Order\n",
      "      0     '0'     '0'       0\n",
      "      1     '1'     '1'       0\n",
      "      2     'a'     'a'       0\n",
      "      3   '1+a'   '1+a'       0\n",
      "Cayley Table (showing names):\n",
      "[['0', '1', 'a', '1+a'],\n",
      " ['1', '0', '1+a', 'a'],\n",
      " ['a', '1+a', '0', '1'],\n",
      " ['1+a', 'a', '1', '0']]\n",
      "Mult. Identity: '1'\n",
      "Mult. Commutative? Yes\n",
      "Zero Divisors: None\n",
      "Multiplicative Cayley Table (showing names):\n",
      "[['0', '0', '0', '0'],\n",
      " ['0', '1', 'a', '1+a'],\n",
      " ['0', 'a', '1+a', '1'],\n",
      " ['0', '1+a', '1', 'a']]\n"
     ]
    }
   ],
   "source": [
    "f4 = ex[9]\n",
    "f4.about(use_table_names=True)"
   ]
  },
  {
   "cell_type": "code",
   "execution_count": 5,
   "id": "bc1e76d1",
   "metadata": {},
   "outputs": [
    {
     "data": {
      "text/plain": [
       "['0', '1', 'a', '1+a']"
      ]
     },
     "execution_count": 5,
     "metadata": {},
     "output_type": "execute_result"
    }
   ],
   "source": [
    "f4.elements"
   ]
  },
  {
   "cell_type": "code",
   "execution_count": 6,
   "id": "62d906ae",
   "metadata": {},
   "outputs": [
    {
     "data": {
      "text/plain": [
       "[['0', '0'],\n",
       " ['0', '0']]"
      ]
     },
     "execution_count": 6,
     "metadata": {},
     "output_type": "execute_result"
    }
   ],
   "source": [
    "zeros = AbstractMatrix.zeros((2,2), f4)\n",
    "zeros"
   ]
  },
  {
   "cell_type": "code",
   "execution_count": 7,
   "id": "4c4fca6a",
   "metadata": {},
   "outputs": [
    {
     "data": {
      "text/plain": [
       "'1'"
      ]
     },
     "execution_count": 7,
     "metadata": {},
     "output_type": "execute_result"
    }
   ],
   "source": [
    "f4.one"
   ]
  },
  {
   "cell_type": "markdown",
   "id": "0e4c3cac",
   "metadata": {},
   "source": [
    "## Create Dictionary of Elements"
   ]
  },
  {
   "cell_type": "code",
   "execution_count": 15,
   "id": "1d54bbda",
   "metadata": {},
   "outputs": [
    {
     "name": "stdout",
     "output_type": "stream",
     "text": [
      "<Field:F2, ID:4709023376>\n",
      "6\n"
     ]
    },
    {
     "data": {
      "text/plain": [
       "{'m0': [['0', '0'],\n",
       "  ['0', '0']],\n",
       " 'm1': [['0', '1'],\n",
       "  ['1', '0']],\n",
       " 'm2': [['0', '1'],\n",
       "  ['1', '1']],\n",
       " 'm3': [['1', '0'],\n",
       "  ['0', '1']],\n",
       " 'm4': [['1', '0'],\n",
       "  ['1', '1']],\n",
       " 'm5': [['1', '1'],\n",
       "  ['0', '1']],\n",
       " 'm6': [['1', '1'],\n",
       "  ['1', '0']]}"
      ]
     },
     "execution_count": 15,
     "metadata": {},
     "output_type": "execute_result"
    }
   ],
   "source": [
    "alg = f2\n",
    "n = len(alg.elements)\n",
    "# zero = alg.zero\n",
    "print(alg)\n",
    "\n",
    "count = 0\n",
    "prefix = 'm'\n",
    "\n",
    "zero_name = prefix + '0'\n",
    "\n",
    "# The first element, 'm0', will be the matrix of 'zeros'\n",
    "elem_dict = { zero_name : AbstractMatrix.zeros((n, n), alg)}\n",
    "\n",
    "for e00 in alg.elements:\n",
    "    for e01 in alg.elements:\n",
    "        for e10 in alg.elements:\n",
    "            for e11 in alg.elements:\n",
    "                mat = AbstractMatrix.zeros((2,2), alg)\n",
    "                mat[0, 0] = e00\n",
    "                mat[0, 1] = e01\n",
    "                mat[1, 0] = e10\n",
    "                mat[1, 1] = e11\n",
    "                if mat.determinant() != zero:\n",
    "                    elem_name = prefix + str(count + 1)\n",
    "                    elem_dict[elem_name] = mat\n",
    "                    count += 1\n",
    "print(count)\n",
    "elem_dict"
   ]
  },
  {
   "cell_type": "markdown",
   "id": "ec403272",
   "metadata": {},
   "source": [
    "## Create Addition Table"
   ]
  },
  {
   "cell_type": "code",
   "execution_count": 23,
   "id": "c6c3aa06",
   "metadata": {},
   "outputs": [
    {
     "data": {
      "text/plain": [
       "7"
      ]
     },
     "execution_count": 23,
     "metadata": {},
     "output_type": "execute_result"
    }
   ],
   "source": [
    "len(elem_dict)"
   ]
  },
  {
   "cell_type": "code",
   "execution_count": 20,
   "id": "bcfe23c7",
   "metadata": {},
   "outputs": [
    {
     "name": "stdout",
     "output_type": "stream",
     "text": [
      "0 m0\n",
      "1 m1\n",
      "2 m2\n",
      "3 m3\n",
      "4 m4\n",
      "5 m5\n",
      "6 m6\n"
     ]
    }
   ],
   "source": [
    "for index, key in enumerate(elem_dict.keys()):\n",
    "    print(index, key)"
   ]
  },
  {
   "cell_type": "code",
   "execution_count": 32,
   "id": "60772fd1",
   "metadata": {},
   "outputs": [],
   "source": [
    "m = len(elem_dict)\n",
    "table = np.empty((m, m), AbstractMatrix)"
   ]
  },
  {
   "cell_type": "code",
   "execution_count": 33,
   "id": "c42ea2b7",
   "metadata": {},
   "outputs": [
    {
     "data": {
      "text/plain": [
       "[[None, None, None, None, None, None, None],\n",
       " [None, None, None, None, None, None, None],\n",
       " [None, None, None, None, None, None, None],\n",
       " [None, None, None, None, None, None, None],\n",
       " [None, None, None, None, None, None, None],\n",
       " [None, None, None, None, None, None, None],\n",
       " [None, None, None, None, None, None, None]]"
      ]
     },
     "execution_count": 33,
     "metadata": {},
     "output_type": "execute_result"
    }
   ],
   "source": [
    "table.tolist()"
   ]
  },
  {
   "cell_type": "code",
   "execution_count": 35,
   "id": "e679e383",
   "metadata": {},
   "outputs": [
    {
     "data": {
      "text/plain": [
       "array([[[['0', '0'],\n",
       "         ['0', '0']], [['0', '1'],\n",
       "                       ['1', '0']], [['0', '1'],\n",
       "                                     ['1', '1']], [['1', '0'],\n",
       "                                                   ['0', '1']],\n",
       "        [['1', '0'],\n",
       "         ['1', '1']], [['1', '1'],\n",
       "                       ['0', '1']], [['1', '1'],\n",
       "                                     ['1', '0']]],\n",
       "       [[['0', '1'],\n",
       "         ['1', '0']], [['0', '0'],\n",
       "                       ['0', '0']], [['0', '0'],\n",
       "                                     ['0', '1']], [['1', '1'],\n",
       "                                                   ['1', '1']],\n",
       "        [['1', '1'],\n",
       "         ['0', '1']], [['1', '0'],\n",
       "                       ['1', '1']], [['1', '0'],\n",
       "                                     ['0', '0']]],\n",
       "       [[['0', '1'],\n",
       "         ['1', '1']], [['0', '0'],\n",
       "                       ['0', '1']], [['0', '0'],\n",
       "                                     ['0', '0']], [['1', '1'],\n",
       "                                                   ['1', '0']],\n",
       "        [['1', '1'],\n",
       "         ['0', '0']], [['1', '0'],\n",
       "                       ['1', '0']], [['1', '0'],\n",
       "                                     ['0', '1']]],\n",
       "       [[['1', '0'],\n",
       "         ['0', '1']], [['1', '1'],\n",
       "                       ['1', '1']], [['1', '1'],\n",
       "                                     ['1', '0']], [['0', '0'],\n",
       "                                                   ['0', '0']],\n",
       "        [['0', '0'],\n",
       "         ['1', '0']], [['0', '1'],\n",
       "                       ['0', '0']], [['0', '1'],\n",
       "                                     ['1', '1']]],\n",
       "       [[['1', '0'],\n",
       "         ['1', '1']], [['1', '1'],\n",
       "                       ['0', '1']], [['1', '1'],\n",
       "                                     ['0', '0']], [['0', '0'],\n",
       "                                                   ['1', '0']],\n",
       "        [['0', '0'],\n",
       "         ['0', '0']], [['0', '1'],\n",
       "                       ['1', '0']], [['0', '1'],\n",
       "                                     ['0', '1']]],\n",
       "       [[['1', '1'],\n",
       "         ['0', '1']], [['1', '0'],\n",
       "                       ['1', '1']], [['1', '0'],\n",
       "                                     ['1', '0']], [['0', '1'],\n",
       "                                                   ['0', '0']],\n",
       "        [['0', '1'],\n",
       "         ['1', '0']], [['0', '0'],\n",
       "                       ['0', '0']], [['0', '0'],\n",
       "                                     ['1', '1']]],\n",
       "       [[['1', '1'],\n",
       "         ['1', '0']], [['1', '0'],\n",
       "                       ['0', '0']], [['1', '0'],\n",
       "                                     ['0', '1']], [['0', '1'],\n",
       "                                                   ['1', '1']],\n",
       "        [['0', '1'],\n",
       "         ['0', '1']], [['0', '0'],\n",
       "                       ['1', '1']], [['0', '0'],\n",
       "                                     ['0', '0']]]], dtype=object)"
      ]
     },
     "execution_count": 35,
     "metadata": {},
     "output_type": "execute_result"
    }
   ],
   "source": [
    "for row, elemr in enumerate(elem_dict.keys()):\n",
    "    for col, elemc in enumerate(elem_dict.keys()):\n",
    "        table[row][col] = elem_dict[elemr] + elem_dict[elemc]\n",
    "table"
   ]
  },
  {
   "cell_type": "code",
   "execution_count": null,
   "id": "63323b7e",
   "metadata": {},
   "outputs": [],
   "source": []
  }
 ],
 "metadata": {
  "kernelspec": {
   "display_name": "Python 3 (ipykernel)",
   "language": "python",
   "name": "python3"
  },
  "language_info": {
   "codemirror_mode": {
    "name": "ipython",
    "version": 3
   },
   "file_extension": ".py",
   "mimetype": "text/x-python",
   "name": "python",
   "nbconvert_exporter": "python",
   "pygments_lexer": "ipython3",
   "version": "3.11.5"
  }
 },
 "nbformat": 4,
 "nbformat_minor": 5
}
