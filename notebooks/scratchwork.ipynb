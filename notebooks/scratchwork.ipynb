{
 "cells": [
  {
   "cell_type": "markdown",
   "id": "c1b9e97b",
   "metadata": {},
   "source": [
    "# Scratchwork"
   ]
  },
  {
   "cell_type": "code",
   "execution_count": 1,
   "id": "b4cbfb22",
   "metadata": {},
   "outputs": [],
   "source": [
    "from finite_algebras import *\n",
    "from cayley_table import *\n",
    "from permutations import *"
   ]
  },
  {
   "cell_type": "code",
   "execution_count": 2,
   "id": "a3c97ef5",
   "metadata": {},
   "outputs": [],
   "source": [
    "import os\n",
    "aa_path = os.path.join(os.getenv(\"PYPROJ\"), \"abstract_algebra\")\n",
    "alg_dir = os.path.join(aa_path, \"Algebras\")"
   ]
  },
  {
   "cell_type": "code",
   "execution_count": 3,
   "id": "4ca78d0d",
   "metadata": {},
   "outputs": [
    {
     "name": "stdout",
     "output_type": "stream",
     "text": [
      "======================================================================\n",
      "                           Example Algebras\n",
      "----------------------------------------------------------------------\n",
      "  13 example algebras are available.\n",
      "  Use \"get_example(INDEX)\" to retrieve a specific example,\n",
      "  where INDEX is the first number on each line below:\n",
      "----------------------------------------------------------------------\n",
      "0: A4 -- Alternating group on 4 letters (AKA Tetrahedral group)\n",
      "1: D3 -- https://en.wikipedia.org/wiki/Dihedral_group_of_order_6\n",
      "2: D4 -- Dihedral group on four vertices\n",
      "3: Pinter29 -- Non-abelian group, p.29, 'A Book of Abstract Algebra' by Charles C. Pinter\n",
      "4: RPS -- Rock, Paper, Scissors Magma\n",
      "5: S3 -- Symmetric group on 3 letters\n",
      "6: S3X -- Another version of the symmetric group on 3 letters\n",
      "7: V4 -- Klein-4 group\n",
      "8: Z4 -- Cyclic group of order 4\n",
      "9: F4 -- Field with 4 elements (from Wikipedia)\n",
      "10: mag_id -- Magma with Identity\n",
      "11: Example 1.4.1 -- See: Groupoids and Smarandache Groupoids by W. B. Vasantha Kandasamy\n",
      "12: Ex6 -- Example 6: http://www-groups.mcs.st-andrews.ac.uk/~john/MT4517/Lectures/L3.html\n",
      "======================================================================\n"
     ]
    }
   ],
   "source": [
    "ex = Examples(alg_dir)"
   ]
  },
  {
   "cell_type": "code",
   "execution_count": 4,
   "id": "0860520b",
   "metadata": {},
   "outputs": [
    {
     "name": "stdout",
     "output_type": "stream",
     "text": [
      "\n",
      "Semigroup: Example 1.4.1\n",
      "Instance ID: 140659125926928\n",
      "Description: See: Groupoids and Smarandache Groupoids by W. B. Vasantha Kandasamy\n",
      "Elements: ['a', 'b', 'c', 'd', 'e', 'f']\n",
      "Identity: None\n",
      "Associative? Yes\n",
      "Commutative? No\n",
      "Has Inverses? No\n",
      "Cayley Table (showing indices):\n",
      "[[0, 3, 0, 3, 0, 3],\n",
      " [1, 4, 1, 4, 1, 4],\n",
      " [2, 5, 2, 5, 2, 5],\n",
      " [3, 0, 3, 0, 3, 0],\n",
      " [4, 1, 4, 1, 4, 1],\n",
      " [5, 2, 5, 2, 5, 2]]\n"
     ]
    }
   ],
   "source": [
    "sg = ex.get_example(11)\n",
    "sg.about()"
   ]
  },
  {
   "cell_type": "code",
   "execution_count": 5,
   "id": "128c74e7",
   "metadata": {},
   "outputs": [],
   "source": [
    "def about_subalgebra_partitions(alg, iso_partitions):\n",
    "    print(\"\\n\" + \"=\"*70)\n",
    "    print(f\"Subalgebras of {alg}\")\n",
    "    print(f\"   Partitioned into isomorphically equivalent subalgebras:\")\n",
    "    print(\"=\"*70)\n",
    "    alg_has_inverses = alg.has_inverses()\n",
    "    for partition in iso_partitions:\n",
    "        for sub in partition:\n",
    "            print(f\"\\n{sub}\")\n",
    "            print(f\"      Order: {sub.order}\")\n",
    "            print(f\"   Elements: {sub.elements}\")\n",
    "            if sub.has_identity():\n",
    "                print(f\"   Identity: {sub.identity}\")\n",
    "                print(f\"Commutative: {yes_or_no(sub.is_commutative())}\")\n",
    "                if alg_has_inverses:\n",
    "                    print(f\"     Normal: {yes_or_no(alg.is_normal(sub))}\")\n",
    "        print(\"\\n\" + \"-\"*60)"
   ]
  },
  {
   "cell_type": "code",
   "execution_count": 6,
   "id": "df9f2668",
   "metadata": {},
   "outputs": [],
   "source": [
    "def about_partition(alg, part):\n",
    "    \n",
    "    size = len(part)\n",
    "    sub0 = part[0]\n",
    "    classname = f\"Sub-{sub0.__class__.__name__}\"\n",
    "    order = sub0.order\n",
    "    has_identity = sub0.has_identity()\n",
    "    \n",
    "    #identities = False\n",
    "    #if sub0.has_identity():\n",
    "    #    identities = {sub.identity for sub in part}\n",
    "    #    single_id = False\n",
    "    #    if len(identities) == 1:\n",
    "    #        single_id = True\n",
    "    #if identities:\n",
    "    #    print(f\"Single ID? {single_id}\")\n",
    "    \n",
    "    comm = \"\"\n",
    "    if sub0.is_commutative():\n",
    "        comm = \"Commutative \"\n",
    "        \n",
    "    norm = \"\"\n",
    "    if alg.has_inverses() and alg.is_normal(sub0):\n",
    "        norm = \"Normal \"\n",
    "        \n",
    "    if size > 1:\n",
    "        print(f\"\\n{size} Isomorphic {comm}{norm}{classname}s of Order {order}:\")\n",
    "        for sub in part:\n",
    "            print(f\"      {sub.name}: {sub.elements}\")\n",
    "    elif size == 1:\n",
    "        print(f\"\\nA {comm}{norm}{classname} of Order {order}:\")\n",
    "        print(f\"      {sub0.name}: {sub0.elements}\")\n",
    "    else:\n",
    "        raise ValueError(\"A partition must have at least one member.\")\n",
    "\n",
    "def about_partitions(alg, partitions):\n",
    "    for partition in partitions:\n",
    "        about_partition(alg, partition)"
   ]
  },
  {
   "cell_type": "code",
   "execution_count": 7,
   "id": "ab813476",
   "metadata": {},
   "outputs": [
    {
     "name": "stdout",
     "output_type": "stream",
     "text": [
      "\n",
      "3 Isomorphic Commutative Sub-Groups of Order 2:\n",
      "      Example 1.4.1_subalgebra_0: ['a', 'd']\n",
      "      Example 1.4.1_subalgebra_6: ['b', 'e']\n",
      "      Example 1.4.1_subalgebra_8: ['c', 'f']\n",
      "\n",
      "3 Isomorphic Sub-Semigroups of Order 4:\n",
      "      Example 1.4.1_subalgebra_1: ['a', 'c', 'd', 'f']\n",
      "      Example 1.4.1_subalgebra_3: ['b', 'c', 'e', 'f']\n",
      "      Example 1.4.1_subalgebra_5: ['a', 'b', 'd', 'e']\n",
      "\n",
      "3 Isomorphic Sub-Semigroups of Order 2:\n",
      "      Example 1.4.1_subalgebra_2: ['a', 'e']\n",
      "      Example 1.4.1_subalgebra_4: ['c', 'e']\n",
      "      Example 1.4.1_subalgebra_7: ['a', 'c']\n",
      "\n",
      "A Sub-Semigroup of Order 3:\n",
      "      Example 1.4.1_subalgebra_9: ['a', 'c', 'e']\n"
     ]
    }
   ],
   "source": [
    "alg = sg\n",
    "alg_subs = alg.proper_subalgebras(False)\n",
    "partitions = partition_into_isomorphic_lists(alg_subs)\n",
    "#about_subalgebra_partitions(alg, partitions)\n",
    "about_partitions(sg, partitions)"
   ]
  },
  {
   "cell_type": "raw",
   "id": "40768f2c",
   "metadata": {},
   "source": [
    "_ = [sub.about() for sub in sg_subs if isinstance(sub, Group)]"
   ]
  },
  {
   "cell_type": "code",
   "execution_count": null,
   "id": "1308d627",
   "metadata": {},
   "outputs": [],
   "source": []
  },
  {
   "cell_type": "code",
   "execution_count": null,
   "id": "626b72cb",
   "metadata": {},
   "outputs": [],
   "source": []
  },
  {
   "cell_type": "code",
   "execution_count": 8,
   "id": "3deab82e",
   "metadata": {},
   "outputs": [
    {
     "data": {
      "text/plain": [
       "Group(\n",
       "'A4',\n",
       "'Alternating group on 4 letters (AKA Tetrahedral group)',\n",
       "['()', '(1 3 2)', '(1 2 3)', '(0 1)(2 3)', '(0 1 2)', '(0 1 3)', '(0 3 1)', '(0 3 2)', '(0 3)(1 2)', '(0 2 3)', '(0 2 1)', '(0 2)(1 3)'],\n",
       "[[0, 1, 2, 3, 4, 5, 6, 7, 8, 9, 10, 11], [1, 2, 0, 6, 7, 8, 10, 11, 9, 5, 3, 4], [2, 0, 1, 10, 11, 9, 3, 4, 5, 8, 6, 7], [3, 4, 5, 0, 1, 2, 9, 10, 11, 6, 7, 8], [4, 5, 3, 9, 10, 11, 7, 8, 6, 2, 0, 1], [5, 3, 4, 7, 8, 6, 0, 1, 2, 11, 9, 10], [6, 7, 8, 1, 2, 0, 5, 3, 4, 10, 11, 9], [7, 8, 6, 5, 3, 4, 11, 9, 10, 0, 1, 2], [8, 6, 7, 11, 9, 10, 1, 2, 0, 4, 5, 3], [9, 10, 11, 4, 5, 3, 2, 0, 1, 7, 8, 6], [10, 11, 9, 2, 0, 1, 8, 6, 7, 3, 4, 5], [11, 9, 10, 8, 6, 7, 4, 5, 3, 1, 2, 0]]\n",
       ")"
      ]
     },
     "execution_count": 8,
     "metadata": {},
     "output_type": "execute_result"
    }
   ],
   "source": [
    "a4 = ex.get_example(0)\n",
    "a4"
   ]
  },
  {
   "cell_type": "code",
   "execution_count": 9,
   "id": "4580ea31",
   "metadata": {},
   "outputs": [
    {
     "name": "stdout",
     "output_type": "stream",
     "text": [
      "\n",
      "Group: A4\n",
      "Instance ID: 140659381787152\n",
      "Description: Alternating group on 4 letters (AKA Tetrahedral group)\n",
      "Identity: ()\n",
      "Associative? Yes\n",
      "Commutative? No\n",
      "Elements:\n",
      "   Index   Name   Inverse  Order\n",
      "      0      ()      ()       1\n",
      "      1 (1 3 2) (1 2 3)       3\n",
      "      2 (1 2 3) (1 3 2)       3\n",
      "      3 (0 1)(2 3) (0 1)(2 3)       2\n",
      "      4 (0 1 2) (0 2 1)       3\n",
      "      5 (0 1 3) (0 3 1)       3\n",
      "      6 (0 3 1) (0 1 3)       3\n",
      "      7 (0 3 2) (0 2 3)       3\n",
      "      8 (0 3)(1 2) (0 3)(1 2)       2\n",
      "      9 (0 2 3) (0 3 2)       3\n",
      "     10 (0 2 1) (0 1 2)       3\n",
      "     11 (0 2)(1 3) (0 2)(1 3)       2\n",
      "Cayley Table (showing indices):\n",
      "[[0, 1, 2, 3, 4, 5, 6, 7, 8, 9, 10, 11],\n",
      " [1, 2, 0, 6, 7, 8, 10, 11, 9, 5, 3, 4],\n",
      " [2, 0, 1, 10, 11, 9, 3, 4, 5, 8, 6, 7],\n",
      " [3, 4, 5, 0, 1, 2, 9, 10, 11, 6, 7, 8],\n",
      " [4, 5, 3, 9, 10, 11, 7, 8, 6, 2, 0, 1],\n",
      " [5, 3, 4, 7, 8, 6, 0, 1, 2, 11, 9, 10],\n",
      " [6, 7, 8, 1, 2, 0, 5, 3, 4, 10, 11, 9],\n",
      " [7, 8, 6, 5, 3, 4, 11, 9, 10, 0, 1, 2],\n",
      " [8, 6, 7, 11, 9, 10, 1, 2, 0, 4, 5, 3],\n",
      " [9, 10, 11, 4, 5, 3, 2, 0, 1, 7, 8, 6],\n",
      " [10, 11, 9, 2, 0, 1, 8, 6, 7, 3, 4, 5],\n",
      " [11, 9, 10, 8, 6, 7, 4, 5, 3, 1, 2, 0]]\n"
     ]
    }
   ],
   "source": [
    "a4.about()"
   ]
  },
  {
   "cell_type": "code",
   "execution_count": 10,
   "id": "10a7b007",
   "metadata": {},
   "outputs": [
    {
     "name": "stdout",
     "output_type": "stream",
     "text": [
      "\n",
      "4 Isomorphic Commutative Sub-Groups of Order 3:\n",
      "      A4_subalgebra_0: ['()', '(0 1 3)', '(0 3 1)']\n",
      "      A4_subalgebra_1: ['()', '(0 1 2)', '(0 2 1)']\n",
      "      A4_subalgebra_3: ['()', '(0 3 2)', '(0 2 3)']\n",
      "      A4_subalgebra_6: ['()', '(1 3 2)', '(1 2 3)']\n",
      "\n",
      "A Commutative Normal Sub-Group of Order 4:\n",
      "      A4_subalgebra_2: ['()', '(0 1)(2 3)', '(0 3)(1 2)', '(0 2)(1 3)']\n",
      "\n",
      "3 Isomorphic Commutative Sub-Groups of Order 2:\n",
      "      A4_subalgebra_4: ['()', '(0 3)(1 2)']\n",
      "      A4_subalgebra_5: ['()', '(0 1)(2 3)']\n",
      "      A4_subalgebra_7: ['()', '(0 2)(1 3)']\n"
     ]
    }
   ],
   "source": [
    "alg = a4\n",
    "alg_subs = alg.proper_subalgebras(False)\n",
    "partitions = partition_into_isomorphic_lists(alg_subs)\n",
    "about_partitions(alg, partitions)"
   ]
  },
  {
   "cell_type": "code",
   "execution_count": null,
   "id": "850ba3ed",
   "metadata": {},
   "outputs": [],
   "source": []
  },
  {
   "cell_type": "code",
   "execution_count": null,
   "id": "65d2c849",
   "metadata": {},
   "outputs": [],
   "source": []
  },
  {
   "cell_type": "code",
   "execution_count": 11,
   "id": "fc98ce60",
   "metadata": {},
   "outputs": [
    {
     "name": "stdout",
     "output_type": "stream",
     "text": [
      "\n",
      "Field: F4\n",
      "Instance ID: 140659125925712\n",
      "Description: Field with 4 elements (from Wikipedia)\n",
      "Identity: 0\n",
      "Associative? Yes\n",
      "Commutative? Yes\n",
      "Elements:\n",
      "   Index   Name   Inverse  Order\n",
      "      0       0       0       1\n",
      "      1       1       1       2\n",
      "      2       a       a       2\n",
      "      3     1+a     1+a       2\n",
      "Cayley Table (showing indices):\n",
      "[[0, 1, 2, 3], [1, 0, 3, 2], [2, 3, 0, 1], [3, 2, 1, 0]]\n",
      "Mult. Identity: 1\n",
      "Mult. Commutative? Yes\n",
      "Multiplicative Cayley Table (showing indices):\n",
      "[[0, 0, 0, 0], [0, 1, 2, 3], [0, 2, 3, 1], [0, 3, 1, 2]]\n"
     ]
    }
   ],
   "source": [
    "f4 = ex.get_example(9)\n",
    "f4.about()"
   ]
  },
  {
   "cell_type": "code",
   "execution_count": 12,
   "id": "8e8ec714",
   "metadata": {},
   "outputs": [
    {
     "name": "stdout",
     "output_type": "stream",
     "text": [
      "\n",
      "3 Isomorphic Commutative Normal Sub-Groups of Order 2:\n",
      "      F4_subalgebra_0: ['0', '1+a']\n",
      "      F4_subalgebra_1: ['0', 'a']\n",
      "      F4_subalgebra_2: ['0', '1']\n"
     ]
    }
   ],
   "source": [
    "alg = f4\n",
    "alg_subs = alg.proper_subalgebras(False)\n",
    "partitions = partition_into_isomorphic_lists(alg_subs)\n",
    "about_partitions(alg, partitions)"
   ]
  },
  {
   "cell_type": "code",
   "execution_count": null,
   "id": "23b34e5f",
   "metadata": {},
   "outputs": [],
   "source": []
  },
  {
   "cell_type": "code",
   "execution_count": null,
   "id": "43f26cdd",
   "metadata": {},
   "outputs": [],
   "source": []
  },
  {
   "cell_type": "code",
   "execution_count": 13,
   "id": "fd336598",
   "metadata": {},
   "outputs": [
    {
     "data": {
      "text/plain": [
       "Ring(\n",
       "'Ex6',\n",
       "'Example 6: http://www-groups.mcs.st-andrews.ac.uk/~john/MT4517/Lectures/L3.html',\n",
       "['0', 'a', 'b', 'c'],\n",
       "[[0, 1, 2, 3], [1, 0, 3, 2], [2, 3, 0, 1], [3, 2, 1, 0]],\n",
       "[[0, 0, 0, 0], [0, 0, 1, 1], [0, 0, 2, 2], [0, 0, 3, 3]]\n",
       ")"
      ]
     },
     "execution_count": 13,
     "metadata": {},
     "output_type": "execute_result"
    }
   ],
   "source": [
    "ex6 = ex.get_example(12)\n",
    "ex6"
   ]
  },
  {
   "cell_type": "code",
   "execution_count": 14,
   "id": "b8d00a87",
   "metadata": {},
   "outputs": [
    {
     "data": {
      "text/plain": [
       "16"
      ]
     },
     "execution_count": 14,
     "metadata": {},
     "output_type": "execute_result"
    }
   ],
   "source": [
    "psr = generate_powerset_group(4)\n",
    "psr.order"
   ]
  },
  {
   "cell_type": "code",
   "execution_count": 15,
   "id": "a04cea73",
   "metadata": {},
   "outputs": [
    {
     "name": "stdout",
     "output_type": "stream",
     "text": [
      "\n",
      "Group: PS4\n",
      "Instance ID: 140660179487504\n",
      "Description: Autogenerated Group on the powerset of 4 elements, with symmetric difference operator\n",
      "Identity: {}\n",
      "Associative? Yes\n",
      "Commutative? Yes\n",
      "Elements:\n",
      "   Index   Name   Inverse  Order\n",
      "      0      {}      {}       1\n",
      "      1     {0}     {0}       2\n",
      "      2     {1}     {1}       2\n",
      "      3     {2}     {2}       2\n",
      "      4     {3}     {3}       2\n",
      "      5  {0, 1}  {0, 1}       2\n",
      "      6  {0, 2}  {0, 2}       2\n",
      "      7  {0, 3}  {0, 3}       2\n",
      "      8  {1, 2}  {1, 2}       2\n",
      "      9  {1, 3}  {1, 3}       2\n",
      "     10  {2, 3}  {2, 3}       2\n",
      "     11 {0, 1, 2} {0, 1, 2}       2\n",
      "     12 {0, 1, 3} {0, 1, 3}       2\n",
      "     13 {0, 2, 3} {0, 2, 3}       2\n",
      "     14 {1, 2, 3} {1, 2, 3}       2\n",
      "     15 {0, 1, 2, 3} {0, 1, 2, 3}       2\n",
      "Group order is 16 > 12, so no further info calculated/printed.\n"
     ]
    }
   ],
   "source": [
    "psr.about()"
   ]
  },
  {
   "cell_type": "code",
   "execution_count": 16,
   "id": "7edbed03",
   "metadata": {},
   "outputs": [
    {
     "name": "stdout",
     "output_type": "stream",
     "text": [
      "\n",
      "35 Isomorphic Commutative Normal Sub-Groups of Order 4:\n",
      "      PS4_subalgebra_0: ['{}', '{0}', '{3}', '{0, 3}']\n",
      "      PS4_subalgebra_1: ['{}', '{0, 1}', '{2, 3}', '{0, 1, 2, 3}']\n",
      "      PS4_subalgebra_2: ['{}', '{1}', '{2, 3}', '{1, 2, 3}']\n",
      "      PS4_subalgebra_3: ['{}', '{0, 1}', '{0, 2, 3}', '{1, 2, 3}']\n",
      "      PS4_subalgebra_4: ['{}', '{0, 3}', '{0, 1, 2}', '{1, 2, 3}']\n",
      "      PS4_subalgebra_10: ['{}', '{0, 1}', '{0, 3}', '{1, 3}']\n",
      "      PS4_subalgebra_11: ['{}', '{1, 3}', '{0, 1, 2}', '{0, 2, 3}']\n",
      "      PS4_subalgebra_12: ['{}', '{1, 2}', '{1, 3}', '{2, 3}']\n",
      "      PS4_subalgebra_13: ['{}', '{3}', '{0, 1}', '{0, 1, 3}']\n",
      "      PS4_subalgebra_15: ['{}', '{0, 2}', '{0, 1, 3}', '{1, 2, 3}']\n",
      "      PS4_subalgebra_18: ['{}', '{3}', '{0, 2}', '{0, 2, 3}']\n",
      "      PS4_subalgebra_22: ['{}', '{0}', '{1, 3}', '{0, 1, 3}']\n",
      "      PS4_subalgebra_23: ['{}', '{2}', '{3}', '{2, 3}']\n",
      "      PS4_subalgebra_25: ['{}', '{0}', '{2, 3}', '{0, 2, 3}']\n",
      "      PS4_subalgebra_26: ['{}', '{0}', '{1}', '{0, 1}']\n",
      "      PS4_subalgebra_27: ['{}', '{0}', '{1, 2}', '{0, 1, 2}']\n",
      "      PS4_subalgebra_28: ['{}', '{3}', '{0, 1, 2}', '{0, 1, 2, 3}']\n",
      "      PS4_subalgebra_30: ['{}', '{0}', '{1, 2, 3}', '{0, 1, 2, 3}']\n",
      "      PS4_subalgebra_33: ['{}', '{0, 2}', '{1, 3}', '{0, 1, 2, 3}']\n",
      "      PS4_subalgebra_34: ['{}', '{2}', '{0, 1, 3}', '{0, 1, 2, 3}']\n",
      "      PS4_subalgebra_37: ['{}', '{1}', '{3}', '{1, 3}']\n",
      "      PS4_subalgebra_38: ['{}', '{1}', '{2}', '{1, 2}']\n",
      "      PS4_subalgebra_39: ['{}', '{1}', '{0, 3}', '{0, 1, 3}']\n",
      "      PS4_subalgebra_40: ['{}', '{2, 3}', '{0, 1, 2}', '{0, 1, 3}']\n",
      "      PS4_subalgebra_42: ['{}', '{2}', '{1, 3}', '{1, 2, 3}']\n",
      "      PS4_subalgebra_43: ['{}', '{3}', '{1, 2}', '{1, 2, 3}']\n",
      "      PS4_subalgebra_44: ['{}', '{1}', '{0, 2}', '{0, 1, 2}']\n",
      "      PS4_subalgebra_45: ['{}', '{0, 2}', '{0, 3}', '{2, 3}']\n",
      "      PS4_subalgebra_47: ['{}', '{0, 1}', '{0, 2}', '{1, 2}']\n",
      "      PS4_subalgebra_48: ['{}', '{0}', '{2}', '{0, 2}']\n",
      "      PS4_subalgebra_52: ['{}', '{2}', '{0, 1}', '{0, 1, 2}']\n",
      "      PS4_subalgebra_53: ['{}', '{0, 3}', '{1, 2}', '{0, 1, 2, 3}']\n",
      "      PS4_subalgebra_54: ['{}', '{1}', '{0, 2, 3}', '{0, 1, 2, 3}']\n",
      "      PS4_subalgebra_61: ['{}', '{2}', '{0, 3}', '{0, 2, 3}']\n",
      "      PS4_subalgebra_63: ['{}', '{1, 2}', '{0, 1, 3}', '{0, 2, 3}']\n",
      "\n",
      "15 Isomorphic Commutative Normal Sub-Groups of Order 8:\n",
      "      PS4_subalgebra_5: ['{}', '{1}', '{2}', '{3}', '{1, 2}', '{1, 3}', '{2, 3}', '{1, 2, 3}']\n",
      "      PS4_subalgebra_6: ['{}', '{3}', '{0, 1}', '{0, 2}', '{1, 2}', '{0, 1, 3}', '{0, 2, 3}', '{1, 2, 3}']\n",
      "      PS4_subalgebra_7: ['{}', '{2}', '{3}', '{0, 1}', '{2, 3}', '{0, 1, 2}', '{0, 1, 3}', '{0, 1, 2, 3}']\n",
      "      PS4_subalgebra_8: ['{}', '{1}', '{2}', '{0, 3}', '{1, 2}', '{0, 1, 3}', '{0, 2, 3}', '{0, 1, 2, 3}']\n",
      "      PS4_subalgebra_14: ['{}', '{0}', '{3}', '{0, 3}', '{1, 2}', '{0, 1, 2}', '{1, 2, 3}', '{0, 1, 2, 3}']\n",
      "      PS4_subalgebra_16: ['{}', '{0}', '{1}', '{0, 1}', '{2, 3}', '{0, 2, 3}', '{1, 2, 3}', '{0, 1, 2, 3}']\n",
      "      PS4_subalgebra_21: ['{}', '{0}', '{1, 2}', '{1, 3}', '{2, 3}', '{0, 1, 2}', '{0, 1, 3}', '{0, 2, 3}']\n",
      "      PS4_subalgebra_29: ['{}', '{2}', '{0, 1}', '{0, 3}', '{1, 3}', '{0, 1, 2}', '{0, 2, 3}', '{1, 2, 3}']\n",
      "      PS4_subalgebra_36: ['{}', '{0}', '{1}', '{2}', '{0, 1}', '{0, 2}', '{1, 2}', '{0, 1, 2}']\n",
      "      PS4_subalgebra_46: ['{}', '{1}', '{0, 2}', '{0, 3}', '{2, 3}', '{0, 1, 2}', '{0, 1, 3}', '{1, 2, 3}']\n",
      "      PS4_subalgebra_49: ['{}', '{0, 1}', '{0, 2}', '{0, 3}', '{1, 2}', '{1, 3}', '{2, 3}', '{0, 1, 2, 3}']\n",
      "      PS4_subalgebra_50: ['{}', '{1}', '{3}', '{0, 2}', '{1, 3}', '{0, 1, 2}', '{0, 2, 3}', '{0, 1, 2, 3}']\n",
      "      PS4_subalgebra_56: ['{}', '{0}', '{2}', '{0, 2}', '{1, 3}', '{0, 1, 3}', '{1, 2, 3}', '{0, 1, 2, 3}']\n",
      "      PS4_subalgebra_58: ['{}', '{0}', '{1}', '{3}', '{0, 1}', '{0, 3}', '{1, 3}', '{0, 1, 3}']\n",
      "      PS4_subalgebra_64: ['{}', '{0}', '{2}', '{3}', '{0, 2}', '{0, 3}', '{2, 3}', '{0, 2, 3}']\n",
      "\n",
      "15 Isomorphic Commutative Normal Sub-Groups of Order 2:\n",
      "      PS4_subalgebra_9: ['{}', '{0, 1, 2, 3}']\n",
      "      PS4_subalgebra_17: ['{}', '{3}']\n",
      "      PS4_subalgebra_19: ['{}', '{0}']\n",
      "      PS4_subalgebra_20: ['{}', '{0, 1}']\n",
      "      PS4_subalgebra_24: ['{}', '{1}']\n",
      "      PS4_subalgebra_31: ['{}', '{0, 3}']\n",
      "      PS4_subalgebra_32: ['{}', '{1, 3}']\n",
      "      PS4_subalgebra_35: ['{}', '{0, 2, 3}']\n",
      "      PS4_subalgebra_41: ['{}', '{1, 2, 3}']\n",
      "      PS4_subalgebra_51: ['{}', '{0, 1, 3}']\n",
      "      PS4_subalgebra_55: ['{}', '{2, 3}']\n",
      "      PS4_subalgebra_57: ['{}', '{0, 1, 2}']\n",
      "      PS4_subalgebra_59: ['{}', '{2}']\n",
      "      PS4_subalgebra_60: ['{}', '{0, 2}']\n",
      "      PS4_subalgebra_62: ['{}', '{1, 2}']\n"
     ]
    }
   ],
   "source": [
    "alg = psr\n",
    "alg_subs = alg.proper_subalgebras(True)\n",
    "partitions = partition_into_isomorphic_lists(alg_subs)\n",
    "about_partitions(alg, partitions)"
   ]
  },
  {
   "cell_type": "code",
   "execution_count": 17,
   "id": "00cb7e3f",
   "metadata": {},
   "outputs": [
    {
     "name": "stdout",
     "output_type": "stream",
     "text": [
      "\n",
      "35 Isomorphic Commutative Normal Sub-Groups of Order 4:\n",
      "      PS4_subalgebra_0: ['{}', '{0}', '{3}', '{0, 3}']\n",
      "      PS4_subalgebra_1: ['{}', '{0, 1}', '{2, 3}', '{0, 1, 2, 3}']\n",
      "      PS4_subalgebra_2: ['{}', '{1}', '{2, 3}', '{1, 2, 3}']\n",
      "      PS4_subalgebra_3: ['{}', '{0, 1}', '{0, 2, 3}', '{1, 2, 3}']\n",
      "      PS4_subalgebra_4: ['{}', '{0, 3}', '{0, 1, 2}', '{1, 2, 3}']\n",
      "      PS4_subalgebra_10: ['{}', '{0, 1}', '{0, 3}', '{1, 3}']\n",
      "      PS4_subalgebra_11: ['{}', '{1, 3}', '{0, 1, 2}', '{0, 2, 3}']\n",
      "      PS4_subalgebra_12: ['{}', '{1, 2}', '{1, 3}', '{2, 3}']\n",
      "      PS4_subalgebra_13: ['{}', '{3}', '{0, 1}', '{0, 1, 3}']\n",
      "      PS4_subalgebra_15: ['{}', '{0, 2}', '{0, 1, 3}', '{1, 2, 3}']\n",
      "      PS4_subalgebra_18: ['{}', '{3}', '{0, 2}', '{0, 2, 3}']\n",
      "      PS4_subalgebra_22: ['{}', '{0}', '{1, 3}', '{0, 1, 3}']\n",
      "      PS4_subalgebra_23: ['{}', '{2}', '{3}', '{2, 3}']\n",
      "      PS4_subalgebra_25: ['{}', '{0}', '{2, 3}', '{0, 2, 3}']\n",
      "      PS4_subalgebra_26: ['{}', '{0}', '{1}', '{0, 1}']\n",
      "      PS4_subalgebra_27: ['{}', '{0}', '{1, 2}', '{0, 1, 2}']\n",
      "      PS4_subalgebra_28: ['{}', '{3}', '{0, 1, 2}', '{0, 1, 2, 3}']\n",
      "      PS4_subalgebra_30: ['{}', '{0}', '{1, 2, 3}', '{0, 1, 2, 3}']\n",
      "      PS4_subalgebra_33: ['{}', '{0, 2}', '{1, 3}', '{0, 1, 2, 3}']\n",
      "      PS4_subalgebra_34: ['{}', '{2}', '{0, 1, 3}', '{0, 1, 2, 3}']\n",
      "      PS4_subalgebra_37: ['{}', '{1}', '{3}', '{1, 3}']\n",
      "      PS4_subalgebra_38: ['{}', '{1}', '{2}', '{1, 2}']\n",
      "      PS4_subalgebra_39: ['{}', '{1}', '{0, 3}', '{0, 1, 3}']\n",
      "      PS4_subalgebra_40: ['{}', '{2, 3}', '{0, 1, 2}', '{0, 1, 3}']\n",
      "      PS4_subalgebra_42: ['{}', '{2}', '{1, 3}', '{1, 2, 3}']\n",
      "      PS4_subalgebra_43: ['{}', '{3}', '{1, 2}', '{1, 2, 3}']\n",
      "      PS4_subalgebra_44: ['{}', '{1}', '{0, 2}', '{0, 1, 2}']\n",
      "      PS4_subalgebra_45: ['{}', '{0, 2}', '{0, 3}', '{2, 3}']\n",
      "      PS4_subalgebra_47: ['{}', '{0, 1}', '{0, 2}', '{1, 2}']\n",
      "      PS4_subalgebra_48: ['{}', '{0}', '{2}', '{0, 2}']\n",
      "      PS4_subalgebra_52: ['{}', '{2}', '{0, 1}', '{0, 1, 2}']\n",
      "      PS4_subalgebra_53: ['{}', '{0, 3}', '{1, 2}', '{0, 1, 2, 3}']\n",
      "      PS4_subalgebra_54: ['{}', '{1}', '{0, 2, 3}', '{0, 1, 2, 3}']\n",
      "      PS4_subalgebra_61: ['{}', '{2}', '{0, 3}', '{0, 2, 3}']\n",
      "      PS4_subalgebra_63: ['{}', '{1, 2}', '{0, 1, 3}', '{0, 2, 3}']\n",
      "\n",
      "15 Isomorphic Commutative Normal Sub-Groups of Order 8:\n",
      "      PS4_subalgebra_5: ['{}', '{1}', '{2}', '{3}', '{1, 2}', '{1, 3}', '{2, 3}', '{1, 2, 3}']\n",
      "      PS4_subalgebra_6: ['{}', '{3}', '{0, 1}', '{0, 2}', '{1, 2}', '{0, 1, 3}', '{0, 2, 3}', '{1, 2, 3}']\n",
      "      PS4_subalgebra_7: ['{}', '{2}', '{3}', '{0, 1}', '{2, 3}', '{0, 1, 2}', '{0, 1, 3}', '{0, 1, 2, 3}']\n",
      "      PS4_subalgebra_8: ['{}', '{1}', '{2}', '{0, 3}', '{1, 2}', '{0, 1, 3}', '{0, 2, 3}', '{0, 1, 2, 3}']\n",
      "      PS4_subalgebra_14: ['{}', '{0}', '{3}', '{0, 3}', '{1, 2}', '{0, 1, 2}', '{1, 2, 3}', '{0, 1, 2, 3}']\n",
      "      PS4_subalgebra_16: ['{}', '{0}', '{1}', '{0, 1}', '{2, 3}', '{0, 2, 3}', '{1, 2, 3}', '{0, 1, 2, 3}']\n",
      "      PS4_subalgebra_21: ['{}', '{0}', '{1, 2}', '{1, 3}', '{2, 3}', '{0, 1, 2}', '{0, 1, 3}', '{0, 2, 3}']\n",
      "      PS4_subalgebra_29: ['{}', '{2}', '{0, 1}', '{0, 3}', '{1, 3}', '{0, 1, 2}', '{0, 2, 3}', '{1, 2, 3}']\n",
      "      PS4_subalgebra_36: ['{}', '{0}', '{1}', '{2}', '{0, 1}', '{0, 2}', '{1, 2}', '{0, 1, 2}']\n",
      "      PS4_subalgebra_46: ['{}', '{1}', '{0, 2}', '{0, 3}', '{2, 3}', '{0, 1, 2}', '{0, 1, 3}', '{1, 2, 3}']\n",
      "      PS4_subalgebra_49: ['{}', '{0, 1}', '{0, 2}', '{0, 3}', '{1, 2}', '{1, 3}', '{2, 3}', '{0, 1, 2, 3}']\n",
      "      PS4_subalgebra_50: ['{}', '{1}', '{3}', '{0, 2}', '{1, 3}', '{0, 1, 2}', '{0, 2, 3}', '{0, 1, 2, 3}']\n",
      "      PS4_subalgebra_56: ['{}', '{0}', '{2}', '{0, 2}', '{1, 3}', '{0, 1, 3}', '{1, 2, 3}', '{0, 1, 2, 3}']\n",
      "      PS4_subalgebra_58: ['{}', '{0}', '{1}', '{3}', '{0, 1}', '{0, 3}', '{1, 3}', '{0, 1, 3}']\n",
      "      PS4_subalgebra_64: ['{}', '{0}', '{2}', '{3}', '{0, 2}', '{0, 3}', '{2, 3}', '{0, 2, 3}']\n",
      "\n",
      "15 Isomorphic Commutative Normal Sub-Groups of Order 2:\n",
      "      PS4_subalgebra_9: ['{}', '{0, 1, 2, 3}']\n",
      "      PS4_subalgebra_17: ['{}', '{3}']\n",
      "      PS4_subalgebra_19: ['{}', '{0}']\n",
      "      PS4_subalgebra_20: ['{}', '{0, 1}']\n",
      "      PS4_subalgebra_24: ['{}', '{1}']\n",
      "      PS4_subalgebra_31: ['{}', '{0, 3}']\n",
      "      PS4_subalgebra_32: ['{}', '{1, 3}']\n",
      "      PS4_subalgebra_35: ['{}', '{0, 2, 3}']\n",
      "      PS4_subalgebra_41: ['{}', '{1, 2, 3}']\n",
      "      PS4_subalgebra_51: ['{}', '{0, 1, 3}']\n",
      "      PS4_subalgebra_55: ['{}', '{2, 3}']\n",
      "      PS4_subalgebra_57: ['{}', '{0, 1, 2}']\n",
      "      PS4_subalgebra_59: ['{}', '{2}']\n",
      "      PS4_subalgebra_60: ['{}', '{0, 2}']\n",
      "      PS4_subalgebra_62: ['{}', '{1, 2}']\n"
     ]
    }
   ],
   "source": [
    "alg = psr\n",
    "alg_subs = alg.proper_subalgebras(False)\n",
    "partitions = partition_into_isomorphic_lists(alg_subs)\n",
    "about_partitions(alg, partitions)"
   ]
  },
  {
   "cell_type": "code",
   "execution_count": 18,
   "id": "dce4a4a9",
   "metadata": {},
   "outputs": [],
   "source": [
    "# %time foo1 = psr.closed_subsets_of_elements(False)"
   ]
  },
  {
   "cell_type": "code",
   "execution_count": 19,
   "id": "0ef4f67c",
   "metadata": {},
   "outputs": [],
   "source": [
    "# {len(x) for x in foo1}"
   ]
  },
  {
   "cell_type": "code",
   "execution_count": 20,
   "id": "3982a1bd",
   "metadata": {},
   "outputs": [],
   "source": [
    "# %time foo2 = psr.closed_subsets_of_elements(True)"
   ]
  },
  {
   "cell_type": "code",
   "execution_count": 21,
   "id": "0d6330b9",
   "metadata": {},
   "outputs": [],
   "source": [
    "# {len(x) for x in foo2}"
   ]
  },
  {
   "cell_type": "code",
   "execution_count": null,
   "id": "9749c3e5",
   "metadata": {},
   "outputs": [],
   "source": []
  },
  {
   "cell_type": "code",
   "execution_count": 22,
   "id": "ae6258c9",
   "metadata": {},
   "outputs": [],
   "source": [
    "# %time psr_subs = psr.unique_proper_subgroups()"
   ]
  },
  {
   "cell_type": "code",
   "execution_count": 23,
   "id": "d1bb6581",
   "metadata": {},
   "outputs": [],
   "source": [
    "# [psr_sub.order for psr_sub in psr_subs]"
   ]
  },
  {
   "cell_type": "code",
   "execution_count": null,
   "id": "dbd01cdb",
   "metadata": {},
   "outputs": [],
   "source": []
  }
 ],
 "metadata": {
  "kernelspec": {
   "display_name": "Python 3",
   "language": "python",
   "name": "python3"
  },
  "language_info": {
   "codemirror_mode": {
    "name": "ipython",
    "version": 3
   },
   "file_extension": ".py",
   "mimetype": "text/x-python",
   "name": "python",
   "nbconvert_exporter": "python",
   "pygments_lexer": "ipython3",
   "version": "3.7.7"
  }
 },
 "nbformat": 4,
 "nbformat_minor": 5
}
