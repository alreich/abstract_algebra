{
 "cells": [
  {
   "cell_type": "markdown",
   "id": "655db7b6",
   "metadata": {},
   "source": [
    "# Introduction to Abstract Algebra"
   ]
  },
  {
   "cell_type": "markdown",
   "id": "131b7e6b",
   "metadata": {},
   "source": [
    "## Groups"
   ]
  },
  {
   "cell_type": "markdown",
   "id": "edeb6724",
   "metadata": {},
   "source": [
    "A group, $G = \\langle S, \\otimes \\rangle$, consists of a set, $S$, and a binary operation, $\\otimes: S \\times S \\to S$ such that:\n",
    "\n",
    "1. $\\otimes$ assigns a unique value, $a \\otimes b \\in S$, for every $(a,b) \\in S \\times S$.\n",
    "1. $\\otimes$ is <i>associative</i>.  That is, for any $a,b,c \\in S \\Rightarrow a \\otimes (b \\otimes c) = (a \\otimes b) \\otimes c$.\n",
    "1. There is an <i>identity</i> element $e \\in S$, such that, for all $a \\in S, a \\otimes e = e \\otimes a = a$. Sometimes, $e$ is referred to as the <i>natural</i> element of the group.\n",
    "1. Every element $a \\in S$ has an <i>inverse</i> element, $a^{-1} \\in S$, such that, $a \\otimes a^{-1} = a^{-1} \n",
    "\\otimes a = e$.\n",
    "\n",
    "The symbol, $\\otimes$, is used here to emphasize that it is not the same as numeric addition, $+$, or multiplication, $\\times$.  It can be more abstract...and sometimes not; it depends on which group is being discussed. For this reason, other symbols might be used to describe a group's binary operation, often $+$, $\\times$, and $\\cdot$.  Very often, no symbol at all is used, e.g., $ab$ instead of $a \\otimes b$. That will be the case here\n",
    "\n",
    "Also, since groups are associative, there is no ambiquity in writing products like, $abc$, without paretheses."
   ]
  },
  {
   "cell_type": "markdown",
   "id": "bdd6009c",
   "metadata": {},
   "source": [
    "## Motivation for Group Definition"
   ]
  },
  {
   "cell_type": "markdown",
   "id": "88e10dee",
   "metadata": {},
   "source": [
    "A motivation for the specific group axioms, above, is provided by considering the assumptions required to solve the simplest equation.\n",
    "\n",
    "Let $ax = b$, where $a,b,x$ are elements of a group, $G$,\n",
    "<p>and solve for $x$:</p>\n",
    "\n",
    "* from assumption #1, all of the operations here will be well-defined\n",
    "* <p>from assumption #4, $a$ has inverse $a^{-1} \\Rightarrow a^{-1}(ax) = a^{-1}b$</p>\n",
    "* <p>from assumption #2, G is associatve $\\Rightarrow (a^{-1}a)x = a^{-1}b$</p>\n",
    "* <p>from assumption #4, $a^{-1}a=e \\Rightarrow ex = a^{-1}b$</p>\n",
    "* <p>from assumption #3, $ex = x \\Rightarrow x = a^{-1}b$</p>\n",
    "\n",
    "The assumptions are exactly those that make up the group definition.\n",
    "\n",
    "Note that cummutability is not necessary."
   ]
  },
  {
   "cell_type": "markdown",
   "id": "5d460335",
   "metadata": {},
   "source": [
    "## Groups and Geometric Symmetry"
   ]
  },
  {
   "cell_type": "markdown",
   "id": "154e2060",
   "metadata": {},
   "source": [
    "TBD"
   ]
  },
  {
   "cell_type": "markdown",
   "id": "c3e93377",
   "metadata": {},
   "source": [
    "## Abelian Groups"
   ]
  },
  {
   "cell_type": "markdown",
   "id": "ac9bf1fd",
   "metadata": {},
   "source": [
    "An <i>abelian group</i> is a group where the binary operation is commutative.\n",
    "\n",
    "That is, for all $a,b \\in S \\Rightarrow ab = ba$.\n",
    "\n",
    "Abelian groups are also referred to as <i>commutative groups</i>."
   ]
  },
  {
   "cell_type": "markdown",
   "id": "538bf2a1",
   "metadata": {},
   "source": [
    "## Finite Groups"
   ]
  },
  {
   "cell_type": "markdown",
   "id": "6ba8ab0a",
   "metadata": {},
   "source": [
    "A <i>finite group</i> is a group, $G = \\langle S, \\cdot \\rangle$, where the number of elements is finite.\n",
    "\n",
    "So, for example, $S = \\{e, a_1, a_2, a_3, ... , a_{n-1}\\}$.  In this case, we say that the <i>order</i> of $G$ is $n$.\n",
    "\n",
    "For infinite groups, the operator, $\\otimes$, is usually defined according to a rule or function. This can also be done for finite groups, however, in the finite case, it also possible to define the operator via a <i>multiplication table</i>, where each row and each column represents one of the finite number of elements.\n",
    "\n",
    "For example, if $S = \\{E, H, V, R\\}$, where $E$ is the identity element, then a possible multiplication table would be as shown below (i.e., the <i>Klein-4 Group</i>):"
   ]
  },
  {
   "cell_type": "markdown",
   "id": "d2c080d0",
   "metadata": {},
   "source": [
    "  .  | E | H | V | R\n",
    "-----|---|---|---|---\n",
    "  <b>E</b> | E | H | V | R\n",
    "  <b>H</b>  | H | E | R | V\n",
    "  <b>V</b>  | R | R | E | H\n",
    "  <b>R</b>  | E | V | H | E"
   ]
  },
  {
   "cell_type": "markdown",
   "id": "dc29b3ad",
   "metadata": {},
   "source": [
    "## Subgroups"
   ]
  },
  {
   "cell_type": "markdown",
   "id": "66112860",
   "metadata": {},
   "source": [
    "Given a group, $G = \\langle S, \\otimes \\rangle$, suppose that $T \\subseteq S$, such that $H = \\langle T, \\otimes \\rangle$ forms a group itself, then $H$ is said to be a subgroup of $G$, usually denoted by $H \\le G$.\n",
    "\n",
    "There are two <i>trivial subgroups</i> of $G$: the group consisting of just the identity element, $\\langle \\{e\\}, \\otimes \\rangle$, and entire group, $G$, itself.  All other subgroups are <i>proper subgroups</i>.\n",
    "\n",
    "A subgroup, $H$, is a <i>normal subgroup</i> of a group G, if, for all elements $g \\in G$ and for all $h \\in H \\Rightarrow ghg^{-1} \\in H$."
   ]
  },
  {
   "cell_type": "markdown",
   "id": "c2bcacaf",
   "metadata": {},
   "source": [
    "## Isomorphisms"
   ]
  },
  {
   "cell_type": "markdown",
   "id": "1b0065a4",
   "metadata": {},
   "source": [
    "TBD"
   ]
  },
  {
   "cell_type": "markdown",
   "id": "333e13d6",
   "metadata": {},
   "source": [
    "## References"
   ]
  },
  {
   "cell_type": "markdown",
   "id": "7183c73a",
   "metadata": {},
   "source": [
    "TBD"
   ]
  }
 ],
 "metadata": {
  "kernelspec": {
   "display_name": "Python 3",
   "language": "python",
   "name": "python3"
  },
  "language_info": {
   "codemirror_mode": {
    "name": "ipython",
    "version": 3
   },
   "file_extension": ".py",
   "mimetype": "text/x-python",
   "name": "python",
   "nbconvert_exporter": "python",
   "pygments_lexer": "ipython3",
   "version": "3.7.7"
  }
 },
 "nbformat": 4,
 "nbformat_minor": 5
}
