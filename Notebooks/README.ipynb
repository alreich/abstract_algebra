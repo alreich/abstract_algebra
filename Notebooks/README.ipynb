{
 "cells": [
  {
   "cell_type": "markdown",
   "id": "c4504ad7",
   "metadata": {},
   "source": [
    "# Abstract Algebra"
   ]
  },
  {
   "cell_type": "markdown",
   "id": "b0819617",
   "metadata": {},
   "source": [
    "#### Experimental implementation of finite groups--for now--and (maybe) later rings, fields, etc."
   ]
  },
  {
   "cell_type": "code",
   "execution_count": 1,
   "id": "7554fa7a",
   "metadata": {},
   "outputs": [],
   "source": [
    "import algebras as alg\n",
    "import json\n",
    "import os"
   ]
  },
  {
   "cell_type": "code",
   "execution_count": 2,
   "id": "c5166617",
   "metadata": {},
   "outputs": [],
   "source": [
    "# Path to this repo\n",
    "aa_path = os.path.join(os.getenv('PYPROJ'), 'abstract_algebra')\n",
    "\n",
    "# Path to a directory containing Algebra definitions in JSON\n",
    "alg_dir = os.path.join(aa_path, \"Algebras\")"
   ]
  },
  {
   "cell_type": "markdown",
   "id": "e666e8a0",
   "metadata": {},
   "source": [
    "## Store Group in JSON format"
   ]
  },
  {
   "cell_type": "markdown",
   "id": "266379e6",
   "metadata": {},
   "source": [
    "* The <b>addition_table</b> <u>must</u> reference group elements according to their index (position) in the <b>element_names</b> list.\n",
    "* <b>0</b> <u>must</u> always refer to the <b>identity element</b>.\n",
    "* The first row and first column must be the integers in order, (0, 1, 2, ..., n-1), where n is the number of elements"
   ]
  },
  {
   "cell_type": "code",
   "execution_count": 3,
   "id": "4211fcef",
   "metadata": {},
   "outputs": [
    {
     "name": "stdout",
     "output_type": "stream",
     "text": [
      "{\"type\": \"Group\",\r\n",
      " \"name\": \"V4\",\r\n",
      " \"description\": \"Klein-4 group\",\r\n",
      " \"element_names\": [\"e\", \"h\", \"v\", \"hv\"],\r\n",
      " \"addition_table\": [[0, 1, 2, 3],\r\n",
      "                    [1, 0, 3, 2],\r\n",
      "                    [2, 3, 0, 1],\r\n",
      "                    [3, 2, 1, 0]]\r\n",
      "}\r\n"
     ]
    }
   ],
   "source": [
    "# Path to a JSON file that defines the group V4\n",
    "v4_json = os.path.join(alg_dir, \"v4_klein_4_group.json\")\n",
    "\n",
    "!cat {v4_json}"
   ]
  },
  {
   "cell_type": "markdown",
   "id": "a8d5350e",
   "metadata": {},
   "source": [
    "## Read JSON Definition to Instantiate a Group Object"
   ]
  },
  {
   "cell_type": "code",
   "execution_count": 4,
   "id": "d5103149",
   "metadata": {},
   "outputs": [
    {
     "data": {
      "text/plain": [
       "Group('V4', 'Klein-4 group', ['e', 'h', 'v', 'hv'], [[0 1 2 3]\n",
       " [1 0 3 2]\n",
       " [2 3 0 1]\n",
       " [3 2 1 0]]) "
      ]
     },
     "execution_count": 4,
     "metadata": {},
     "output_type": "execute_result"
    }
   ],
   "source": [
    "v4 = alg.Group(v4_json)\n",
    "v4"
   ]
  },
  {
   "cell_type": "markdown",
   "id": "1483e5c3",
   "metadata": {},
   "source": [
    "#### The group can also be created at the Command Line:"
   ]
  },
  {
   "cell_type": "code",
   "execution_count": 5,
   "id": "82f15f22",
   "metadata": {},
   "outputs": [
    {
     "data": {
      "text/plain": [
       "Group('V4', 'Another way to construct V4', ['e', 'h', 'v', 'hv'], [[0 1 2 3]\n",
       " [1 0 3 2]\n",
       " [2 3 0 1]\n",
       " [3 2 1 0]]) "
      ]
     },
     "execution_count": 5,
     "metadata": {},
     "output_type": "execute_result"
    }
   ],
   "source": [
    "alg.Group('V4',\n",
    "          'Another way to construct V4',\n",
    "          ['e',  'h',  'v', 'hv'],\n",
    "          [[0, 1, 2, 3],\n",
    "           [1, 0, 3, 2],\n",
    "           [2, 3, 0, 1],\n",
    "           [3, 2, 1, 0]]\n",
    "         )"
   ]
  },
  {
   "cell_type": "markdown",
   "id": "246fee38",
   "metadata": {},
   "source": [
    "#### And the group can be created from a Python dictionary:"
   ]
  },
  {
   "cell_type": "code",
   "execution_count": 6,
   "id": "ec377a16",
   "metadata": {},
   "outputs": [
    {
     "data": {
      "text/plain": [
       "Group('V4', 'Yet another way to define V4', ['e', 'h', 'v', 'hv'], [[0 1 2 3]\n",
       " [1 0 3 2]\n",
       " [2 3 0 1]\n",
       " [3 2 1 0]]) "
      ]
     },
     "execution_count": 6,
     "metadata": {},
     "output_type": "execute_result"
    }
   ],
   "source": [
    "v4_dict = {'type': 'Group',\n",
    "           'name': 'V4',\n",
    "           'description': 'Yet another way to define V4',\n",
    "           'element_names': ['e', 'h', 'v', 'hv'],\n",
    "           'addition_table': [[0, 1, 2, 3], [1, 0, 3, 2], [2, 3, 0, 1], [3, 2, 1, 0]]}\n",
    "\n",
    "alg.Group(v4_dict)"
   ]
  },
  {
   "cell_type": "markdown",
   "id": "e67207da",
   "metadata": {},
   "source": [
    "## Add Elements"
   ]
  },
  {
   "cell_type": "code",
   "execution_count": 7,
   "id": "b1245ae8",
   "metadata": {},
   "outputs": [
    {
     "data": {
      "text/plain": [
       "'hv'"
      ]
     },
     "execution_count": 7,
     "metadata": {},
     "output_type": "execute_result"
    }
   ],
   "source": [
    "v4.add('h','v')"
   ]
  },
  {
   "cell_type": "markdown",
   "id": "463c7f3a",
   "metadata": {},
   "source": [
    "## Get Inverse Element"
   ]
  },
  {
   "cell_type": "code",
   "execution_count": 8,
   "id": "bfe0b7d1",
   "metadata": {},
   "outputs": [
    {
     "data": {
      "text/plain": [
       "'h'"
      ]
     },
     "execution_count": 8,
     "metadata": {},
     "output_type": "execute_result"
    }
   ],
   "source": [
    "v4.inverse('h')"
   ]
  },
  {
   "cell_type": "markdown",
   "id": "b5fcaf4d",
   "metadata": {},
   "source": [
    "## View Addition Table using Element Names"
   ]
  },
  {
   "cell_type": "markdown",
   "id": "3aa36ef6",
   "metadata": {},
   "source": [
    "The addition table is known as a [Cayley Table](https://en.wikipedia.org/wiki/Cayley_table).\n",
    "\n",
    "The group operation is referred to here as <i>addition</i> to distinguish it from ring or field <i>multiplication</i> operations."
   ]
  },
  {
   "cell_type": "code",
   "execution_count": 9,
   "id": "bd66693b",
   "metadata": {},
   "outputs": [
    {
     "name": "stdout",
     "output_type": "stream",
     "text": [
      "   e   h   v  hv\n",
      "   h   e  hv   v\n",
      "   v  hv   e   h\n",
      "  hv   v   h   e\n"
     ]
    }
   ],
   "source": [
    "v4.pretty_print_addition_table()"
   ]
  },
  {
   "cell_type": "markdown",
   "id": "8b06c9c0",
   "metadata": {},
   "source": [
    "## Check if Abelian"
   ]
  },
  {
   "cell_type": "code",
   "execution_count": 10,
   "id": "6358960f",
   "metadata": {},
   "outputs": [
    {
     "data": {
      "text/plain": [
       "True"
      ]
     },
     "execution_count": 10,
     "metadata": {},
     "output_type": "execute_result"
    }
   ],
   "source": [
    "v4.abelian()"
   ]
  },
  {
   "cell_type": "code",
   "execution_count": 11,
   "id": "e329c7da",
   "metadata": {},
   "outputs": [
    {
     "data": {
      "text/plain": [
       "True"
      ]
     },
     "execution_count": 11,
     "metadata": {},
     "output_type": "execute_result"
    }
   ],
   "source": [
    "v4.associative()"
   ]
  },
  {
   "cell_type": "markdown",
   "id": "c869b6dd",
   "metadata": {},
   "source": [
    "## Derive Direct Product"
   ]
  },
  {
   "cell_type": "code",
   "execution_count": 15,
   "id": "57e0b651",
   "metadata": {},
   "outputs": [
    {
     "data": {
      "text/plain": [
       "Group('V4_x_V4', 'Direct product of V4 & V4', ['e-e', 'e-h', 'e-v', 'e-hv', 'h-e', 'h-h', 'h-v', 'h-hv', 'v-e', 'v-h', 'v-v', 'v-hv', 'hv-e', 'hv-h', 'hv-v', 'hv-hv'], [[ 0  1  2  3  4  5  6  7  8  9 10 11 12 13 14 15]\n",
       " [ 1  0  3  2  5  4  7  6  9  8 11 10 13 12 15 14]\n",
       " [ 2  3  0  1  6  7  4  5 10 11  8  9 14 15 12 13]\n",
       " [ 3  2  1  0  7  6  5  4 11 10  9  8 15 14 13 12]\n",
       " [ 4  5  6  7  0  1  2  3 12 13 14 15  8  9 10 11]\n",
       " [ 5  4  7  6  1  0  3  2 13 12 15 14  9  8 11 10]\n",
       " [ 6  7  4  5  2  3  0  1 14 15 12 13 10 11  8  9]\n",
       " [ 7  6  5  4  3  2  1  0 15 14 13 12 11 10  9  8]\n",
       " [ 8  9 10 11 12 13 14 15  0  1  2  3  4  5  6  7]\n",
       " [ 9  8 11 10 13 12 15 14  1  0  3  2  5  4  7  6]\n",
       " [10 11  8  9 14 15 12 13  2  3  0  1  6  7  4  5]\n",
       " [11 10  9  8 15 14 13 12  3  2  1  0  7  6  5  4]\n",
       " [12 13 14 15  8  9 10 11  4  5  6  7  0  1  2  3]\n",
       " [13 12 15 14  9  8 11 10  5  4  7  6  1  0  3  2]\n",
       " [14 15 12 13 10 11  8  9  6  7  4  5  2  3  0  1]\n",
       " [15 14 13 12 11 10  9  8  7  6  5  4  3  2  1  0]]) "
      ]
     },
     "execution_count": 15,
     "metadata": {},
     "output_type": "execute_result"
    }
   ],
   "source": [
    "v4.set_direct_product_delimiter('-')  # Default delimiter is ':'\n",
    "v4_x_v4 = v4 * v4\n",
    "v4_x_v4"
   ]
  },
  {
   "cell_type": "markdown",
   "id": "f84a2d9d",
   "metadata": {},
   "source": [
    "## Convert to Dictionary or JSON"
   ]
  },
  {
   "cell_type": "code",
   "execution_count": 13,
   "id": "a96746fd",
   "metadata": {},
   "outputs": [
    {
     "data": {
      "text/plain": [
       "{'type': 'Group',\n",
       " 'name': 'V4',\n",
       " 'description': 'Klein-4 group',\n",
       " 'element_names': ['e', 'h', 'v', 'hv'],\n",
       " 'addition_table': [[0, 1, 2, 3], [1, 0, 3, 2], [2, 3, 0, 1], [3, 2, 1, 0]]}"
      ]
     },
     "execution_count": 13,
     "metadata": {},
     "output_type": "execute_result"
    }
   ],
   "source": [
    "v4.to_dict()"
   ]
  },
  {
   "cell_type": "code",
   "execution_count": 14,
   "id": "558ee83d",
   "metadata": {},
   "outputs": [
    {
     "data": {
      "text/plain": [
       "'{\"type\": \"Group\", \"name\": \"V4\", \"description\": \"Klein-4 group\", \"element_names\": [\"e\", \"h\", \"v\", \"hv\"], \"addition_table\": [[0, 1, 2, 3], [1, 0, 3, 2], [2, 3, 0, 1], [3, 2, 1, 0]]}'"
      ]
     },
     "execution_count": 14,
     "metadata": {},
     "output_type": "execute_result"
    }
   ],
   "source": [
    "v4.dumps()"
   ]
  }
 ],
 "metadata": {
  "kernelspec": {
   "display_name": "Python 3",
   "language": "python",
   "name": "python3"
  },
  "language_info": {
   "codemirror_mode": {
    "name": "ipython",
    "version": 3
   },
   "file_extension": ".py",
   "mimetype": "text/x-python",
   "name": "python",
   "nbconvert_exporter": "python",
   "pygments_lexer": "ipython3",
   "version": "3.7.7"
  }
 },
 "nbformat": 4,
 "nbformat_minor": 5
}
