{
 "cells": [
  {
   "cell_type": "markdown",
   "id": "70670364",
   "metadata": {},
   "source": [
    "# Scratchwork 6 - Comutators"
   ]
  },
  {
   "cell_type": "code",
   "execution_count": 1,
   "id": "5cb49b2a",
   "metadata": {},
   "outputs": [],
   "source": [
    "from finite_algebras import *\n",
    "from cayley_table import *\n",
    "from permutations import *"
   ]
  },
  {
   "cell_type": "code",
   "execution_count": 2,
   "id": "20c3a7f0",
   "metadata": {},
   "outputs": [],
   "source": [
    "import os\n",
    "aa_path = os.path.join(os.getenv(\"PYPROJ\"), \"abstract_algebra\")\n",
    "alg_dir = os.path.join(aa_path, \"Algebras\")"
   ]
  },
  {
   "cell_type": "code",
   "execution_count": 3,
   "id": "28304efb",
   "metadata": {},
   "outputs": [
    {
     "name": "stdout",
     "output_type": "stream",
     "text": [
      "======================================================================\n",
      "                           Example Algebras\n",
      "----------------------------------------------------------------------\n",
      "  16 example algebras are available.\n",
      "  Use \"Examples[INDEX]\" to retrieve a specific example,\n",
      "  where INDEX is the first number on each line below:\n",
      "----------------------------------------------------------------------\n",
      "0: A4 -- Alternating group on 4 letters (AKA Tetrahedral group)\n",
      "1: D3 -- https://en.wikipedia.org/wiki/Dihedral_group_of_order_6\n",
      "2: D4 -- Dihedral group on four vertices\n",
      "3: Pinter29 -- Non-abelian group, p.29, 'A Book of Abstract Algebra' by Charles C. Pinter\n",
      "4: RPS -- Rock, Paper, Scissors Magma\n",
      "5: S3 -- Symmetric group on 3 letters\n",
      "6: S3X -- Another version of the symmetric group on 3 letters\n",
      "7: V4 -- Klein-4 group\n",
      "8: Z4 -- Cyclic group of order 4\n",
      "9: F4 -- Field with 4 elements (from Wikipedia)\n",
      "10: mag_id -- Magma with Identity\n",
      "11: Example 1.4.1 -- See: Groupoids and Smarandache Groupoids by W. B. Vasantha Kandasamy\n",
      "12: Ex6 -- Example 6: http://www-groups.mcs.st-andrews.ac.uk/~john/MT4517/Lectures/L3.html\n",
      "13: Q8 -- Quaternion Group\n",
      "14: SD16 -- Semidihedral group of order 16\n",
      "15: A5 -- Alternating group on 5 letters\n",
      "======================================================================\n"
     ]
    }
   ],
   "source": [
    "ex = Examples(alg_dir)"
   ]
  },
  {
   "cell_type": "markdown",
   "id": "480718ed",
   "metadata": {},
   "source": [
    "## Load some example algebras"
   ]
  },
  {
   "cell_type": "code",
   "execution_count": 4,
   "id": "f03d3bfe",
   "metadata": {},
   "outputs": [
    {
     "name": "stdout",
     "output_type": "stream",
     "text": [
      "\n",
      "** Group **\n",
      "Name: V4\n",
      "Instance ID: 140441005142544\n",
      "Description: Klein-4 group\n",
      "Order: 4\n",
      "Identity: e\n",
      "Associative? Yes\n",
      "Commutative? Yes\n",
      "Cyclic?: No\n",
      "Elements:\n",
      "   Index   Name   Inverse  Order\n",
      "      0       e       e       1\n",
      "      1       h       h       2\n",
      "      2       v       v       2\n",
      "      3       r       r       2\n",
      "Cayley Table (showing indices):\n",
      "[[0, 1, 2, 3], [1, 0, 3, 2], [2, 3, 0, 1], [3, 2, 1, 0]]\n"
     ]
    }
   ],
   "source": [
    "v4 = ex[7]\n",
    "v4.about()"
   ]
  },
  {
   "cell_type": "code",
   "execution_count": 5,
   "id": "fcfaf5d8",
   "metadata": {},
   "outputs": [
    {
     "name": "stdout",
     "output_type": "stream",
     "text": [
      "\n",
      "** Group **\n",
      "Name: A4\n",
      "Instance ID: 140439948407568\n",
      "Description: Alternating group on 4 letters (AKA Tetrahedral group)\n",
      "Order: 12\n",
      "Identity: ()\n",
      "Associative? Yes\n",
      "Commutative? No\n",
      "Cyclic?: No\n",
      "Elements:\n",
      "   Index   Name   Inverse  Order\n",
      "      0      ()      ()       1\n",
      "      1 (1 3 2) (1 2 3)       3\n",
      "      2 (1 2 3) (1 3 2)       3\n",
      "      3 (0 1)(2 3) (0 1)(2 3)       2\n",
      "      4 (0 1 2) (0 2 1)       3\n",
      "      5 (0 1 3) (0 3 1)       3\n",
      "      6 (0 3 1) (0 1 3)       3\n",
      "      7 (0 3 2) (0 2 3)       3\n",
      "      8 (0 3)(1 2) (0 3)(1 2)       2\n",
      "      9 (0 2 3) (0 3 2)       3\n",
      "     10 (0 2 1) (0 1 2)       3\n",
      "     11 (0 2)(1 3) (0 2)(1 3)       2\n",
      "Cayley Table (showing indices):\n",
      "[[0, 1, 2, 3, 4, 5, 6, 7, 8, 9, 10, 11],\n",
      " [1, 2, 0, 6, 7, 8, 10, 11, 9, 5, 3, 4],\n",
      " [2, 0, 1, 10, 11, 9, 3, 4, 5, 8, 6, 7],\n",
      " [3, 4, 5, 0, 1, 2, 9, 10, 11, 6, 7, 8],\n",
      " [4, 5, 3, 9, 10, 11, 7, 8, 6, 2, 0, 1],\n",
      " [5, 3, 4, 7, 8, 6, 0, 1, 2, 11, 9, 10],\n",
      " [6, 7, 8, 1, 2, 0, 5, 3, 4, 10, 11, 9],\n",
      " [7, 8, 6, 5, 3, 4, 11, 9, 10, 0, 1, 2],\n",
      " [8, 6, 7, 11, 9, 10, 1, 2, 0, 4, 5, 3],\n",
      " [9, 10, 11, 4, 5, 3, 2, 0, 1, 7, 8, 6],\n",
      " [10, 11, 9, 2, 0, 1, 8, 6, 7, 3, 4, 5],\n",
      " [11, 9, 10, 8, 6, 7, 4, 5, 3, 1, 2, 0]]\n"
     ]
    }
   ],
   "source": [
    "a4 = ex[0]\n",
    "a4.about()"
   ]
  },
  {
   "cell_type": "code",
   "execution_count": 11,
   "id": "b8f7169f",
   "metadata": {},
   "outputs": [
    {
     "name": "stdout",
     "output_type": "stream",
     "text": [
      "\n",
      "** Group **\n",
      "Name: A5\n",
      "Instance ID: 140441005175120\n",
      "Description: Alternating group on 5 letters\n",
      "Order: 60\n",
      "Identity: ()\n",
      "Associative? Yes\n",
      "Commutative? No\n",
      "Cyclic?: No\n",
      "Elements:\n",
      "   Index   Name   Inverse  Order\n",
      "      0      ()      ()       1\n",
      "      1 (0 1 2 3 4) (0 4 3 2 1)       5\n",
      "      2 (0 2 4 1 3) (0 3 1 4 2)       5\n",
      "      3 (0 3 1 4 2) (0 2 4 1 3)       5\n",
      "      4 (0 4 3 2 1) (0 1 2 3 4)       5\n",
      "      5 (0 1)(2 3) (0 1)(2 3)       2\n",
      "      6 (1 3 4) (1 4 3)       3\n",
      "      7 (0 3 1 2 4) (0 4 2 1 3)       5\n",
      "      8 (0 2 1 4 3) (0 3 4 1 2)       5\n",
      "      9 (0 4 2) (0 2 4)       3\n",
      "     10 (0 2 4) (0 4 2)       3\n",
      "     11 (0 1 4 2 3) (0 3 2 4 1)       5\n",
      "     12 (0 4 1 3 2) (0 2 3 1 4)       5\n",
      "     13 (0 3 1) (0 1 3)       3\n",
      "     14 (1 2)(3 4) (1 2)(3 4)       2\n",
      "     15 (0 3 2 4 1) (0 1 4 2 3)       5\n",
      "     16 (1 4 3) (1 3 4)       3\n",
      "     17 (0 4)(1 2) (0 4)(1 2)       2\n",
      "     18 (0 2 3) (0 3 2)       3\n",
      "     19 (0 1 3 4 2) (0 2 4 3 1)       5\n",
      "     20 (0 3 4 1 2) (0 2 1 4 3)       5\n",
      "     21 (0 2 4 3 1) (0 1 3 4 2)       5\n",
      "     22 (1 4 2) (1 2 4)       3\n",
      "     23 (0 4)(2 3) (0 4)(2 3)       2\n",
      "     24 (0 1 3) (0 3 1)       3\n",
      "     25 (0 2 1 3 4) (0 4 3 1 2)       5\n",
      "     26 (0 3)(2 4) (0 3)(2 4)       2\n",
      "     27 (0 1 4 3 2) (0 2 3 4 1)       5\n",
      "     28 (0 4 1) (0 1 4)       3\n",
      "     29 (1 2 3) (1 3 2)       3\n",
      "     30 (0 4 2 1 3) (0 3 1 2 4)       5\n",
      "     31 (0 3 2) (0 2 3)       3\n",
      "     32 (0 1)(3 4) (0 1)(3 4)       2\n",
      "     33 (1 2 4) (1 4 2)       3\n",
      "     34 (0 2 3 1 4) (0 4 1 3 2)       5\n",
      "     35 (0 4 3 1 2) (0 2 1 3 4)       5\n",
      "     36 (0 2 1) (0 1 2)       3\n",
      "     37 (2 3 4) (2 4 3)       3\n",
      "     38 (0 1 3 2 4) (0 4 2 3 1)       5\n",
      "     39 (0 3)(1 4) (0 3)(1 4)       2\n",
      "     40 (0 4 2 3 1) (0 1 3 2 4)       5\n",
      "     41 (1 3 2) (1 2 3)       3\n",
      "     42 (0 3 4) (0 4 3)       3\n",
      "     43 (0 1 2 4 3) (0 3 4 2 1)       5\n",
      "     44 (0 2)(1 4) (0 2)(1 4)       2\n",
      "     45 (0 4 3) (0 3 4)       3\n",
      "     46 (0 1 2) (0 2 1)       3\n",
      "     47 (0 2 3 4 1) (0 1 4 3 2)       5\n",
      "     48 (1 3)(2 4) (1 3)(2 4)       2\n",
      "     49 (0 3 2 1 4) (0 4 1 2 3)       5\n",
      "     50 (2 4 3) (2 3 4)       3\n",
      "     51 (0 1 4) (0 4 1)       3\n",
      "     52 (0 4 1 2 3) (0 3 2 1 4)       5\n",
      "     53 (0 2)(1 3) (0 2)(1 3)       2\n",
      "     54 (0 3 4 2 1) (0 1 2 4 3)       5\n",
      "     55 (0 1)(2 4) (0 1)(2 4)       2\n",
      "     56 (1 4)(2 3) (1 4)(2 3)       2\n",
      "     57 (0 4)(1 3) (0 4)(1 3)       2\n",
      "     58 (0 3)(1 2) (0 3)(1 2)       2\n",
      "     59 (0 2)(3 4) (0 2)(3 4)       2\n",
      "Group order is 60 > 12, so no further info calculated/printed.\n"
     ]
    }
   ],
   "source": [
    "a5 = ex[15]\n",
    "a5.about()"
   ]
  },
  {
   "cell_type": "markdown",
   "id": "5ad9f24e",
   "metadata": {},
   "source": [
    "## Derive Their Commutators & Commutator Subgroups"
   ]
  },
  {
   "cell_type": "code",
   "execution_count": 6,
   "id": "a29facc6",
   "metadata": {},
   "outputs": [
    {
     "data": {
      "text/plain": [
       "{'e'}"
      ]
     },
     "execution_count": 6,
     "metadata": {},
     "output_type": "execute_result"
    }
   ],
   "source": [
    "v4.commutators()"
   ]
  },
  {
   "cell_type": "code",
   "execution_count": 7,
   "id": "55bb420f",
   "metadata": {},
   "outputs": [
    {
     "data": {
      "text/plain": [
       "Group(\n",
       "'V4_CG',\n",
       "'V4 commutator subgroup',\n",
       "['e'],\n",
       "[[0]]\n",
       ")"
      ]
     },
     "execution_count": 7,
     "metadata": {},
     "output_type": "execute_result"
    }
   ],
   "source": [
    "v4.commutator_subgroup()"
   ]
  },
  {
   "cell_type": "code",
   "execution_count": 8,
   "id": "01c8dcf4",
   "metadata": {},
   "outputs": [
    {
     "data": {
      "text/plain": [
       "{'()', '(0 1)(2 3)', '(0 2)(1 3)', '(0 3)(1 2)'}"
      ]
     },
     "execution_count": 8,
     "metadata": {},
     "output_type": "execute_result"
    }
   ],
   "source": [
    "a4.commutators()"
   ]
  },
  {
   "cell_type": "code",
   "execution_count": 9,
   "id": "b2125b5b",
   "metadata": {},
   "outputs": [
    {
     "name": "stdout",
     "output_type": "stream",
     "text": [
      "\n",
      "** Group **\n",
      "Name: A4_CG\n",
      "Instance ID: 140441005101008\n",
      "Description: A4 commutator subgroup\n",
      "Order: 4\n",
      "Identity: ()\n",
      "Associative? Yes\n",
      "Commutative? Yes\n",
      "Cyclic?: No\n",
      "Elements:\n",
      "   Index   Name   Inverse  Order\n",
      "      0      ()      ()       1\n",
      "      1 (0 1)(2 3) (0 1)(2 3)       2\n",
      "      2 (0 3)(1 2) (0 3)(1 2)       2\n",
      "      3 (0 2)(1 3) (0 2)(1 3)       2\n",
      "Cayley Table (showing indices):\n",
      "[[0, 1, 2, 3], [1, 0, 3, 2], [2, 3, 0, 1], [3, 2, 1, 0]]\n"
     ]
    }
   ],
   "source": [
    "a4.commutator_subgroup().about()"
   ]
  },
  {
   "cell_type": "code",
   "execution_count": 13,
   "id": "b1cb32ba",
   "metadata": {},
   "outputs": [
    {
     "data": {
      "text/plain": [
       "60"
      ]
     },
     "execution_count": 13,
     "metadata": {},
     "output_type": "execute_result"
    }
   ],
   "source": [
    "a5comm = a5.commutators()\n",
    "len(a5comm)"
   ]
  },
  {
   "cell_type": "markdown",
   "id": "05514cd7",
   "metadata": {},
   "source": [
    "## Orders & Number of Commutators in Examples"
   ]
  },
  {
   "cell_type": "code",
   "execution_count": 10,
   "id": "c53b5f6f",
   "metadata": {},
   "outputs": [
    {
     "name": "stdout",
     "output_type": "stream",
     "text": [
      "A4  12  4\n",
      "D3  6  3\n",
      "D4  8  2\n",
      "Pinter29  6  3\n",
      "S3  6  3\n",
      "S3X  6  3\n",
      "V4  4  1\n",
      "Z4  4  1\n",
      "F4  4  1\n",
      "Ex6  4  2\n",
      "Q8  8  2\n",
      "SD16  16  4\n",
      "A5  60  60\n"
     ]
    }
   ],
   "source": [
    "for alg in ex:\n",
    "    if isinstance(alg, Group):\n",
    "        print(f\"{alg.name}  {alg.order}  {len(alg.commutators())}\")"
   ]
  }
 ],
 "metadata": {
  "kernelspec": {
   "display_name": "Python 3",
   "language": "python",
   "name": "python3"
  },
  "language_info": {
   "codemirror_mode": {
    "name": "ipython",
    "version": 3
   },
   "file_extension": ".py",
   "mimetype": "text/x-python",
   "name": "python",
   "nbconvert_exporter": "python",
   "pygments_lexer": "ipython3",
   "version": "3.7.7"
  }
 },
 "nbformat": 4,
 "nbformat_minor": 5
}
