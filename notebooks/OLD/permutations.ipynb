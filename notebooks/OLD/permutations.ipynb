{
 "cells": [
  {
   "cell_type": "markdown",
   "id": "69828269",
   "metadata": {},
   "source": [
    "# Permutations"
   ]
  },
  {
   "cell_type": "code",
   "execution_count": 1,
   "id": "8972fd9c",
   "metadata": {},
   "outputs": [],
   "source": [
    "from permutations import Perm"
   ]
  },
  {
   "cell_type": "markdown",
   "id": "4580970e",
   "metadata": {},
   "source": [
    "## Reference:"
   ]
  },
  {
   "cell_type": "markdown",
   "id": "78255b7b",
   "metadata": {},
   "source": [
    "<b>[Pinter, 1990]</b> : <i>\"A Book of Abstract Algebra\" 2nd Ed., Charles C. Pinter, Dover Publications, Inc. 1990."
   ]
  },
  {
   "cell_type": "markdown",
   "id": "e3766656",
   "metadata": {},
   "source": [
    "## Example"
   ]
  },
  {
   "cell_type": "markdown",
   "id": "5a0c0289",
   "metadata": {},
   "source": [
    "The example here is from [Pinter, 1990], pages 70-71."
   ]
  },
  {
   "cell_type": "markdown",
   "id": "db60b6ed",
   "metadata": {},
   "source": [
    "####  Permutations of (1,2,3)"
   ]
  },
  {
   "cell_type": "markdown",
   "id": "9a13d769",
   "metadata": {},
   "source": [
    "The 6 permutations are given names in a dictionary, allowing permutations to be reference by name."
   ]
  },
  {
   "cell_type": "code",
   "execution_count": 2,
   "id": "b5b220eb",
   "metadata": {},
   "outputs": [],
   "source": [
    "s3 = {'epsilon' : Perm((1, 2, 3)),\n",
    "      'alpha' : Perm((1, 3, 2)),\n",
    "      'beta' : Perm((3, 1, 2)),\n",
    "      'gamma' : Perm((2, 1, 3)),\n",
    "      'delta' : Perm((2, 3, 1)),\n",
    "      'kappa' : Perm((3, 2, 1))}"
   ]
  },
  {
   "cell_type": "markdown",
   "id": "62206513",
   "metadata": {},
   "source": [
    "A reverse lookup dictionary is also derived so that names can be looked up by permutation.\n",
    "\n",
    "This is used when creating the multiplication table."
   ]
  },
  {
   "cell_type": "code",
   "execution_count": 3,
   "id": "ce02f812",
   "metadata": {},
   "outputs": [],
   "source": [
    "s3_rev = {val: key for key, val in s3.items()}"
   ]
  },
  {
   "cell_type": "markdown",
   "id": "2e6d48d9",
   "metadata": {},
   "source": [
    "#### Composition of Alpha & Beta"
   ]
  },
  {
   "cell_type": "markdown",
   "id": "bf1f3167",
   "metadata": {},
   "source": [
    "$\\alpha \\circ \\beta = \\alpha( \\beta((1,2,3)) ) = \\alpha( (3,1,2) ) = (2,1,3)$"
   ]
  },
  {
   "cell_type": "code",
   "execution_count": 4,
   "id": "7495ad31",
   "metadata": {},
   "outputs": [
    {
     "name": "stdout",
     "output_type": "stream",
     "text": [
      "Perm((1, 3, 2)) o Perm((3, 1, 2)) = Perm((2, 1, 3))\n",
      "(i.e., alpha o beta = gamma)\n"
     ]
    }
   ],
   "source": [
    "a = s3['alpha']\n",
    "b = s3['beta']\n",
    "c = a * b\n",
    "print(f\"{a} o {b} = {a * b}\")\n",
    "print(f\"(i.e., {s3_rev[a]} o {s3_rev[b]} = {s3_rev[a * b]})\")"
   ]
  },
  {
   "cell_type": "markdown",
   "id": "14d58d59",
   "metadata": {},
   "source": [
    "#### Multiplication Table for s3"
   ]
  },
  {
   "cell_type": "code",
   "execution_count": 5,
   "id": "65db4b29",
   "metadata": {},
   "outputs": [
    {
     "data": {
      "text/plain": [
       "[['epsilon', 'alpha', 'beta', 'gamma', 'delta', 'kappa'],\n",
       " ['alpha', 'epsilon', 'gamma', 'beta', 'kappa', 'delta'],\n",
       " ['beta', 'kappa', 'delta', 'alpha', 'epsilon', 'gamma'],\n",
       " ['gamma', 'delta', 'kappa', 'epsilon', 'alpha', 'beta'],\n",
       " ['delta', 'gamma', 'epsilon', 'kappa', 'beta', 'alpha'],\n",
       " ['kappa', 'beta', 'alpha', 'delta', 'gamma', 'epsilon']]"
      ]
     },
     "execution_count": 5,
     "metadata": {},
     "output_type": "execute_result"
    }
   ],
   "source": [
    "s3_mul_tbl = [[s3_rev[s3[a] * s3[b]] for b in s3] for a in s3]\n",
    "s3_mul_tbl"
   ]
  },
  {
   "cell_type": "markdown",
   "id": "8b269b1e",
   "metadata": {},
   "source": [
    "## Cycle Notation"
   ]
  },
  {
   "cell_type": "code",
   "execution_count": 6,
   "id": "ba671c01",
   "metadata": {},
   "outputs": [],
   "source": [
    "def one_cycle(test_map, note, perm, order, base):\n",
    "    min_elem = min(perm)\n",
    "    cyc = [min_elem]\n",
    "    for i in range(min_elem, order):\n",
    "        last = cyc[-1]\n",
    "        next_ = test_map[last]\n",
    "        if next_ not in cyc:\n",
    "            cyc.append(next_)\n",
    "        else:\n",
    "            break\n",
    "        note.append(tuple(cyc))\n",
    "    return note, remove_items(perm, cyc)"
   ]
  },
  {
   "cell_type": "code",
   "execution_count": 7,
   "id": "23fdf9af",
   "metadata": {},
   "outputs": [
    {
     "name": "stdout",
     "output_type": "stream",
     "text": [
      "1\n",
      "4\n",
      "(1, 3, 2, 4)\n",
      "{1: 1, 2: 3, 3: 2, 4: 4}\n"
     ]
    }
   ],
   "source": [
    "#test_perm = Perm((3, 1, 4, 2))\n",
    "test = Perm((1, 3, 2, 4))\n",
    "#test = Perm((2, 1, 4, 3))\n",
    "test_map = test.mapping\n",
    "perm0 = test.perm\n",
    "size0 = max(perm0)\n",
    "base = 1\n",
    "\n",
    "print(base)\n",
    "print(size0)\n",
    "print(perm0)\n",
    "print(test_map)"
   ]
  },
  {
   "cell_type": "code",
   "execution_count": 8,
   "id": "dbea2f03",
   "metadata": {},
   "outputs": [
    {
     "ename": "NameError",
     "evalue": "name 'remove_items' is not defined",
     "output_type": "error",
     "traceback": [
      "\u001b[0;31m---------------------------------------------------------------------------\u001b[0m",
      "\u001b[0;31mNameError\u001b[0m                                 Traceback (most recent call last)",
      "\u001b[0;32m<ipython-input-8-1314637f5a4a>\u001b[0m in \u001b[0;36m<module>\u001b[0;34m\u001b[0m\n\u001b[0;32m----> 1\u001b[0;31m \u001b[0mcyc1\u001b[0m\u001b[0;34m,\u001b[0m \u001b[0mperm1\u001b[0m \u001b[0;34m=\u001b[0m \u001b[0mone_cycle\u001b[0m\u001b[0;34m(\u001b[0m\u001b[0mtest_map\u001b[0m\u001b[0;34m,\u001b[0m \u001b[0;34m[\u001b[0m\u001b[0;34m]\u001b[0m\u001b[0;34m,\u001b[0m \u001b[0mperm0\u001b[0m\u001b[0;34m,\u001b[0m \u001b[0msize0\u001b[0m\u001b[0;34m,\u001b[0m \u001b[0mbase\u001b[0m\u001b[0;34m)\u001b[0m\u001b[0;34m\u001b[0m\u001b[0;34m\u001b[0m\u001b[0m\n\u001b[0m\u001b[1;32m      2\u001b[0m \u001b[0mprint\u001b[0m\u001b[0;34m(\u001b[0m\u001b[0mcyc1\u001b[0m\u001b[0;34m,\u001b[0m \u001b[0mperm1\u001b[0m\u001b[0;34m)\u001b[0m\u001b[0;34m\u001b[0m\u001b[0;34m\u001b[0m\u001b[0m\n",
      "\u001b[0;32m<ipython-input-6-063933e436f4>\u001b[0m in \u001b[0;36mone_cycle\u001b[0;34m(test_map, note, perm, order, base)\u001b[0m\n\u001b[1;32m     10\u001b[0m             \u001b[0;32mbreak\u001b[0m\u001b[0;34m\u001b[0m\u001b[0;34m\u001b[0m\u001b[0m\n\u001b[1;32m     11\u001b[0m         \u001b[0mnote\u001b[0m\u001b[0;34m.\u001b[0m\u001b[0mappend\u001b[0m\u001b[0;34m(\u001b[0m\u001b[0mtuple\u001b[0m\u001b[0;34m(\u001b[0m\u001b[0mcyc\u001b[0m\u001b[0;34m)\u001b[0m\u001b[0;34m)\u001b[0m\u001b[0;34m\u001b[0m\u001b[0;34m\u001b[0m\u001b[0m\n\u001b[0;32m---> 12\u001b[0;31m     \u001b[0;32mreturn\u001b[0m \u001b[0mnote\u001b[0m\u001b[0;34m,\u001b[0m \u001b[0mremove_items\u001b[0m\u001b[0;34m(\u001b[0m\u001b[0mperm\u001b[0m\u001b[0;34m,\u001b[0m \u001b[0mcyc\u001b[0m\u001b[0;34m)\u001b[0m\u001b[0;34m\u001b[0m\u001b[0;34m\u001b[0m\u001b[0m\n\u001b[0m",
      "\u001b[0;31mNameError\u001b[0m: name 'remove_items' is not defined"
     ]
    }
   ],
   "source": [
    "cyc1, perm1 = one_cycle(test_map, [], perm0, size0, base)\n",
    "print(cyc1, perm1)"
   ]
  },
  {
   "cell_type": "code",
   "execution_count": 17,
   "id": "211efb44",
   "metadata": {},
   "outputs": [
    {
     "name": "stdout",
     "output_type": "stream",
     "text": [
      "[(2, 3)] (4,)\n"
     ]
    }
   ],
   "source": [
    "cyc2, perm2 = one_cycle(test_map, cyc1, perm1, size0, base)\n",
    "print(cyc2, perm2)"
   ]
  },
  {
   "cell_type": "code",
   "execution_count": 19,
   "id": "257e1508",
   "metadata": {},
   "outputs": [],
   "source": [
    "cyc3, perm3 = one_cycle(test_map, cyc2, perm2, size0, base)"
   ]
  },
  {
   "cell_type": "code",
   "execution_count": 20,
   "id": "35018854",
   "metadata": {},
   "outputs": [
    {
     "name": "stdout",
     "output_type": "stream",
     "text": [
      "[(2, 3)] ()\n"
     ]
    }
   ],
   "source": [
    "print(cyc3, perm3)"
   ]
  },
  {
   "cell_type": "code",
   "execution_count": 21,
   "id": "c43f7e83",
   "metadata": {},
   "outputs": [],
   "source": [
    "def cycle(perm):\n",
    "    result = []\n",
    "    perm_map = perm.mapping\n",
    "    perm = perm.perm\n",
    "    size = max(perm)\n",
    "    base = 1\n",
    "    while perm:\n",
    "        x, perm = one_cycle(perm_map, perm, size, base)\n",
    "        result.append(x)\n",
    "    return x"
   ]
  },
  {
   "cell_type": "code",
   "execution_count": 22,
   "id": "0572b702",
   "metadata": {},
   "outputs": [
    {
     "data": {
      "text/plain": [
       "Perm((1, 3, 2, 4))"
      ]
     },
     "execution_count": 22,
     "metadata": {},
     "output_type": "execute_result"
    }
   ],
   "source": [
    "test"
   ]
  },
  {
   "cell_type": "code",
   "execution_count": 23,
   "id": "57b3f930",
   "metadata": {},
   "outputs": [
    {
     "ename": "TypeError",
     "evalue": "one_cycle() missing 1 required positional argument: 'base'",
     "output_type": "error",
     "traceback": [
      "\u001b[0;31m---------------------------------------------------------------------------\u001b[0m",
      "\u001b[0;31mTypeError\u001b[0m                                 Traceback (most recent call last)",
      "\u001b[0;32m<ipython-input-23-55e588a2f476>\u001b[0m in \u001b[0;36m<module>\u001b[0;34m\u001b[0m\n\u001b[0;32m----> 1\u001b[0;31m \u001b[0mcycle\u001b[0m\u001b[0;34m(\u001b[0m\u001b[0mtest\u001b[0m\u001b[0;34m)\u001b[0m\u001b[0;34m\u001b[0m\u001b[0;34m\u001b[0m\u001b[0m\n\u001b[0m",
      "\u001b[0;32m<ipython-input-21-bb5a34bcde17>\u001b[0m in \u001b[0;36mcycle\u001b[0;34m(perm)\u001b[0m\n\u001b[1;32m      6\u001b[0m     \u001b[0mbase\u001b[0m \u001b[0;34m=\u001b[0m \u001b[0;36m1\u001b[0m\u001b[0;34m\u001b[0m\u001b[0;34m\u001b[0m\u001b[0m\n\u001b[1;32m      7\u001b[0m     \u001b[0;32mwhile\u001b[0m \u001b[0mperm\u001b[0m\u001b[0;34m:\u001b[0m\u001b[0;34m\u001b[0m\u001b[0;34m\u001b[0m\u001b[0m\n\u001b[0;32m----> 8\u001b[0;31m         \u001b[0mx\u001b[0m\u001b[0;34m,\u001b[0m \u001b[0mperm\u001b[0m \u001b[0;34m=\u001b[0m \u001b[0mone_cycle\u001b[0m\u001b[0;34m(\u001b[0m\u001b[0mperm_map\u001b[0m\u001b[0;34m,\u001b[0m \u001b[0mperm\u001b[0m\u001b[0;34m,\u001b[0m \u001b[0msize\u001b[0m\u001b[0;34m,\u001b[0m \u001b[0mbase\u001b[0m\u001b[0;34m)\u001b[0m\u001b[0;34m\u001b[0m\u001b[0;34m\u001b[0m\u001b[0m\n\u001b[0m\u001b[1;32m      9\u001b[0m         \u001b[0mresult\u001b[0m\u001b[0;34m.\u001b[0m\u001b[0mappend\u001b[0m\u001b[0;34m(\u001b[0m\u001b[0mx\u001b[0m\u001b[0;34m)\u001b[0m\u001b[0;34m\u001b[0m\u001b[0;34m\u001b[0m\u001b[0m\n\u001b[1;32m     10\u001b[0m     \u001b[0;32mreturn\u001b[0m \u001b[0mx\u001b[0m\u001b[0;34m\u001b[0m\u001b[0;34m\u001b[0m\u001b[0m\n",
      "\u001b[0;31mTypeError\u001b[0m: one_cycle() missing 1 required positional argument: 'base'"
     ]
    }
   ],
   "source": [
    "cycle(test)"
   ]
  },
  {
   "cell_type": "code",
   "execution_count": null,
   "id": "80bdd895",
   "metadata": {},
   "outputs": [],
   "source": [
    "foo = []\n",
    "bar = (1,)\n",
    "foo.append(tuple(bar))"
   ]
  },
  {
   "cell_type": "code",
   "execution_count": null,
   "id": "2db1784d",
   "metadata": {},
   "outputs": [],
   "source": [
    "foo"
   ]
  },
  {
   "cell_type": "code",
   "execution_count": null,
   "id": "ace5fe66",
   "metadata": {},
   "outputs": [],
   "source": []
  }
 ],
 "metadata": {
  "kernelspec": {
   "display_name": "Python 3",
   "language": "python",
   "name": "python3"
  },
  "language_info": {
   "codemirror_mode": {
    "name": "ipython",
    "version": 3
   },
   "file_extension": ".py",
   "mimetype": "text/x-python",
   "name": "python",
   "nbconvert_exporter": "python",
   "pygments_lexer": "ipython3",
   "version": "3.7.7"
  }
 },
 "nbformat": 4,
 "nbformat_minor": 5
}
