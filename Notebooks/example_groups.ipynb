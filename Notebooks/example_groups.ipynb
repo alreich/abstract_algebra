{
 "cells": [
  {
   "cell_type": "markdown",
   "id": "93fe9843",
   "metadata": {},
   "source": [
    "# Example Groups"
   ]
  },
  {
   "cell_type": "markdown",
   "id": "8a97eeee",
   "metadata": {},
   "source": [
    "I'm using this notebook to implement example groups using the JSON format defined here.\n",
    "\n",
    "Many of these groups were obtained from [Group Explorer](https://nathancarter.github.io/group-explorer/index.html): <i>\"Visualization software for the abstract algebra classroom\".</i>"
   ]
  },
  {
   "cell_type": "code",
   "execution_count": 1,
   "id": "bb6e2a19",
   "metadata": {},
   "outputs": [],
   "source": [
    "import algebras as alg\n",
    "import json\n",
    "import os\n",
    "import numpy as np"
   ]
  },
  {
   "cell_type": "code",
   "execution_count": 2,
   "id": "614a7026",
   "metadata": {},
   "outputs": [],
   "source": [
    "import itertools as it"
   ]
  },
  {
   "cell_type": "code",
   "execution_count": 3,
   "id": "10193a12",
   "metadata": {},
   "outputs": [],
   "source": [
    "# Path to this repo\n",
    "aa_path = os.path.join(os.getenv('PYPROJ'), 'abstract_algebra')\n",
    "\n",
    "# Path to a directory containing Algebra definitions in JSON\n",
    "alg_dir = os.path.join(aa_path, \"Algebras\")"
   ]
  },
  {
   "cell_type": "markdown",
   "id": "a8047e2e",
   "metadata": {},
   "source": [
    "## S3 -- Symmetric Group on 3 Letters"
   ]
  },
  {
   "cell_type": "code",
   "execution_count": 4,
   "id": "cc9f51b4",
   "metadata": {},
   "outputs": [
    {
     "name": "stdout",
     "output_type": "stream",
     "text": [
      "{\"type\": \"Group\",\r\n",
      " \"name\": \"S3\",\r\n",
      " \"description\": \"Symmetric group on 3 letters\",\r\n",
      " \"element_names\": [\"e\", \"r\", \"r^2\", \"f\", \"fr\", \"rf\"],\r\n",
      " \"mult_table\": [[0, 1, 2, 3, 4, 5],\r\n",
      "                [1, 2, 0, 5, 3, 4],\r\n",
      "                [2, 0, 1, 4, 5, 3],\r\n",
      "                [3, 4, 5, 0, 1, 2],\r\n",
      "                [4, 5, 3, 2, 0, 1],\r\n",
      "                [5, 3, 4, 1, 2, 0]]\r\n",
      "}\r\n"
     ]
    }
   ],
   "source": [
    "s3_path = os.path.join(alg_dir, \"s3_symmetric_group_on_3_letters.json\")\n",
    "!cat {s3_path}"
   ]
  },
  {
   "cell_type": "code",
   "execution_count": 5,
   "id": "a73f83f0",
   "metadata": {
    "scrolled": true
   },
   "outputs": [
    {
     "name": "stdout",
     "output_type": "stream",
     "text": [
      "\n",
      "Group : S3 : Symmetric group on 3 letters\n",
      "  Element Names: ['e', 'r', 'r^2', 'f', 'fr', 'rf']\n",
      "  Is Abelian? False\n",
      "  Inverses:  (** - indicates that it is its own inverse)\n",
      "    inv(e) = e   **\n",
      "    inv(r) = r^2 \n",
      "    inv(r^2) = r \n",
      "    inv(f) = f   **\n",
      "    inv(fr) = fr   **\n",
      "    inv(rf) = rf   **\n",
      "  Is associative? True\n",
      "  Cayley Table:\n",
      "      e    r  r^2    f   fr   rf\n",
      "      r  r^2    e   rf    f   fr\n",
      "    r^2    e    r   fr   rf    f\n",
      "      f   fr   rf    e    r  r^2\n",
      "     fr   rf    f  r^2    e    r\n",
      "     rf    f   fr    r  r^2    e\n"
     ]
    }
   ],
   "source": [
    "s3 = alg.Group(s3_path)\n",
    "s3.print_info()"
   ]
  },
  {
   "cell_type": "markdown",
   "id": "f8109d1d",
   "metadata": {},
   "source": [
    "## Z2 (Cyclic Group of Order 2) with Direct Products: Z2_x_Z2 and Z2_x_Z2_x_Z2"
   ]
  },
  {
   "cell_type": "code",
   "execution_count": 6,
   "id": "4969d434",
   "metadata": {},
   "outputs": [
    {
     "name": "stdout",
     "output_type": "stream",
     "text": [
      "\n",
      "Group : Z2 : Cyclic group of order 2\n",
      "  Element Names: ['e', 'a']\n",
      "  Is Abelian? True\n",
      "  Inverses:  (** - indicates that it is its own inverse)\n",
      "    inv(e) = e   **\n",
      "    inv(a) = a   **\n",
      "  Is associative? True\n",
      "  Cayley Table:\n",
      "    e  a\n",
      "    a  e\n",
      "\n",
      "Group : Z2_x_Z2 : Direct product of Z2 & Z2\n",
      "  Element Names: ['e:e', 'e:a', 'a:e', 'a:a']\n",
      "  Is Abelian? True\n",
      "  Inverses:  (** - indicates that it is its own inverse)\n",
      "    inv(e:e) = e:e   **\n",
      "    inv(e:a) = e:a   **\n",
      "    inv(a:e) = a:e   **\n",
      "    inv(a:a) = a:a   **\n",
      "  Is associative? True\n",
      "  Cayley Table:\n",
      "    e:e  e:a  a:e  a:a\n",
      "    e:a  e:e  a:a  a:e\n",
      "    a:e  a:a  e:e  e:a\n",
      "    a:a  a:e  e:a  e:e\n",
      "\n",
      "Group : Z2_x_Z2_x_Z2 : Direct product of Z2_x_Z2 & Z2\n",
      "  Element Names: ['e:e:e', 'e:e:a', 'e:a:e', 'e:a:a', 'a:e:e', 'a:e:a', 'a:a:e', 'a:a:a']\n",
      "  Is Abelian? True\n",
      "  Inverses:  (** - indicates that it is its own inverse)\n",
      "    inv(e:e:e) = e:e:e   **\n",
      "    inv(e:e:a) = e:e:a   **\n",
      "    inv(e:a:e) = e:a:e   **\n",
      "    inv(e:a:a) = e:a:a   **\n",
      "    inv(a:e:e) = a:e:e   **\n",
      "    inv(a:e:a) = a:e:a   **\n",
      "    inv(a:a:e) = a:a:e   **\n",
      "    inv(a:a:a) = a:a:a   **\n",
      "  Is associative? True\n",
      "  Cayley Table:\n",
      "    e:e:e  e:e:a  e:a:e  e:a:a  a:e:e  a:e:a  a:a:e  a:a:a\n",
      "    e:e:a  e:e:e  e:a:a  e:a:e  a:e:a  a:e:e  a:a:a  a:a:e\n",
      "    e:a:e  e:a:a  e:e:e  e:e:a  a:a:e  a:a:a  a:e:e  a:e:a\n",
      "    e:a:a  e:a:e  e:e:a  e:e:e  a:a:a  a:a:e  a:e:a  a:e:e\n",
      "    a:e:e  a:e:a  a:a:e  a:a:a  e:e:e  e:e:a  e:a:e  e:a:a\n",
      "    a:e:a  a:e:e  a:a:a  a:a:e  e:e:a  e:e:e  e:a:a  e:a:e\n",
      "    a:a:e  a:a:a  a:e:e  a:e:a  e:a:e  e:a:a  e:e:e  e:e:a\n",
      "    a:a:a  a:a:e  a:e:a  a:e:e  e:a:a  e:a:e  e:e:a  e:e:e\n"
     ]
    }
   ],
   "source": [
    "z2 = alg.generate_cyclic_group(2)\n",
    "\n",
    "z2xz2 = z2 * z2\n",
    "z2xz2xz2 = z2 * z2 * z2\n",
    "\n",
    "z2.print_info()\n",
    "z2xz2.print_info()\n",
    "z2xz2xz2.print_info()"
   ]
  },
  {
   "cell_type": "code",
   "execution_count": 7,
   "id": "909ae6cf",
   "metadata": {},
   "outputs": [
    {
     "data": {
      "text/plain": [
       "[]"
      ]
     },
     "execution_count": 7,
     "metadata": {},
     "output_type": "execute_result"
    }
   ],
   "source": [
    "z2.proper_subgroups()"
   ]
  },
  {
   "cell_type": "code",
   "execution_count": 8,
   "id": "d03c691d",
   "metadata": {},
   "outputs": [
    {
     "data": {
      "text/plain": [
       "[Group('Z2_x_Z2_subgroup_0', 'Subgroup of: Direct product of Z2 & Z2', ['e:e', 'a:a'], [[0 1]\n",
       "  [1 0]]) ,\n",
       " Group('Z2_x_Z2_subgroup_1', 'Subgroup of: Direct product of Z2 & Z2', ['e:e', 'a:e'], [[0 1]\n",
       "  [1 0]]) ,\n",
       " Group('Z2_x_Z2_subgroup_2', 'Subgroup of: Direct product of Z2 & Z2', ['e:e', 'e:a'], [[0 1]\n",
       "  [1 0]]) ]"
      ]
     },
     "execution_count": 8,
     "metadata": {},
     "output_type": "execute_result"
    }
   ],
   "source": [
    "z2xz2.proper_subgroups()"
   ]
  },
  {
   "cell_type": "code",
   "execution_count": 9,
   "id": "0a25f316",
   "metadata": {},
   "outputs": [],
   "source": [
    "z2xz2xz2_subgroups = z2xz2xz2.proper_subgroups()"
   ]
  },
  {
   "cell_type": "code",
   "execution_count": 10,
   "id": "6b0959a4",
   "metadata": {},
   "outputs": [
    {
     "data": {
      "text/plain": [
       "14"
      ]
     },
     "execution_count": 10,
     "metadata": {},
     "output_type": "execute_result"
    }
   ],
   "source": [
    "len(z2xz2xz2_subgroups)"
   ]
  },
  {
   "cell_type": "code",
   "execution_count": 11,
   "id": "2cd1aab1",
   "metadata": {},
   "outputs": [
    {
     "data": {
      "text/plain": [
       "[4, 4, 2, 2, 4, 2, 4, 2, 4, 2, 4, 4, 2, 2]"
      ]
     },
     "execution_count": 11,
     "metadata": {},
     "output_type": "execute_result"
    }
   ],
   "source": [
    "[g.order() for g in z2xz2xz2_subgroups]"
   ]
  },
  {
   "cell_type": "code",
   "execution_count": 12,
   "id": "c1a64ba2",
   "metadata": {},
   "outputs": [
    {
     "data": {
      "text/plain": [
       "[Group('Z2_x_Z2_x_Z2_subgroup_0', 'Subgroup of: Direct product of Z2_x_Z2 & Z2', ['e:e:e', 'e:e:a', 'a:a:e', 'a:a:a'], [[0 1 2 3]\n",
       "  [1 0 3 2]\n",
       "  [2 3 0 1]\n",
       "  [3 2 1 0]]) ,\n",
       " Group('Z2_x_Z2_x_Z2_subgroup_1', 'Subgroup of: Direct product of Z2_x_Z2 & Z2', ['e:e:e', 'e:a:a', 'a:e:a', 'a:a:e'], [[0 1 2 3]\n",
       "  [1 0 3 2]\n",
       "  [2 3 0 1]\n",
       "  [3 2 1 0]]) ,\n",
       " Group('Z2_x_Z2_x_Z2_subgroup_2', 'Subgroup of: Direct product of Z2_x_Z2 & Z2', ['e:e:e', 'e:a:a'], [[0 1]\n",
       "  [1 0]]) ,\n",
       " Group('Z2_x_Z2_x_Z2_subgroup_3', 'Subgroup of: Direct product of Z2_x_Z2 & Z2', ['e:e:e', 'a:a:e'], [[0 1]\n",
       "  [1 0]]) ,\n",
       " Group('Z2_x_Z2_x_Z2_subgroup_4', 'Subgroup of: Direct product of Z2_x_Z2 & Z2', ['e:e:e', 'e:e:a', 'a:e:e', 'a:e:a'], [[0 1 2 3]\n",
       "  [1 0 3 2]\n",
       "  [2 3 0 1]\n",
       "  [3 2 1 0]]) ,\n",
       " Group('Z2_x_Z2_x_Z2_subgroup_5', 'Subgroup of: Direct product of Z2_x_Z2 & Z2', ['e:e:e', 'e:a:e'], [[0 1]\n",
       "  [1 0]]) ,\n",
       " Group('Z2_x_Z2_x_Z2_subgroup_6', 'Subgroup of: Direct product of Z2_x_Z2 & Z2', ['e:e:e', 'e:a:e', 'a:e:a', 'a:a:a'], [[0 1 2 3]\n",
       "  [1 0 3 2]\n",
       "  [2 3 0 1]\n",
       "  [3 2 1 0]]) ,\n",
       " Group('Z2_x_Z2_x_Z2_subgroup_7', 'Subgroup of: Direct product of Z2_x_Z2 & Z2', ['e:e:e', 'a:a:a'], [[0 1]\n",
       "  [1 0]]) ,\n",
       " Group('Z2_x_Z2_x_Z2_subgroup_8', 'Subgroup of: Direct product of Z2_x_Z2 & Z2', ['e:e:e', 'e:a:e', 'a:e:e', 'a:a:e'], [[0 1 2 3]\n",
       "  [1 0 3 2]\n",
       "  [2 3 0 1]\n",
       "  [3 2 1 0]]) ,\n",
       " Group('Z2_x_Z2_x_Z2_subgroup_9', 'Subgroup of: Direct product of Z2_x_Z2 & Z2', ['e:e:e', 'a:e:e'], [[0 1]\n",
       "  [1 0]]) ,\n",
       " Group('Z2_x_Z2_x_Z2_subgroup_10', 'Subgroup of: Direct product of Z2_x_Z2 & Z2', ['e:e:e', 'e:a:a', 'a:e:e', 'a:a:a'], [[0 1 2 3]\n",
       "  [1 0 3 2]\n",
       "  [2 3 0 1]\n",
       "  [3 2 1 0]]) ,\n",
       " Group('Z2_x_Z2_x_Z2_subgroup_11', 'Subgroup of: Direct product of Z2_x_Z2 & Z2', ['e:e:e', 'e:e:a', 'e:a:e', 'e:a:a'], [[0 1 2 3]\n",
       "  [1 0 3 2]\n",
       "  [2 3 0 1]\n",
       "  [3 2 1 0]]) ,\n",
       " Group('Z2_x_Z2_x_Z2_subgroup_12', 'Subgroup of: Direct product of Z2_x_Z2 & Z2', ['e:e:e', 'e:e:a'], [[0 1]\n",
       "  [1 0]]) ,\n",
       " Group('Z2_x_Z2_x_Z2_subgroup_13', 'Subgroup of: Direct product of Z2_x_Z2 & Z2', ['e:e:e', 'a:e:a'], [[0 1]\n",
       "  [1 0]]) ]"
      ]
     },
     "execution_count": 12,
     "metadata": {},
     "output_type": "execute_result"
    }
   ],
   "source": [
    "z2xz2xz2_subgroups"
   ]
  },
  {
   "cell_type": "markdown",
   "id": "ff48e0fa",
   "metadata": {},
   "source": [
    "## Dihedral Group of Order 6"
   ]
  },
  {
   "cell_type": "markdown",
   "id": "6075c231",
   "metadata": {},
   "source": [
    "[See Wikipedia](https://en.wikipedia.org/wiki/Dihedral_group_of_order_6)"
   ]
  },
  {
   "cell_type": "code",
   "execution_count": 13,
   "id": "5dd7ee33",
   "metadata": {},
   "outputs": [
    {
     "name": "stdout",
     "output_type": "stream",
     "text": [
      "{\"type\": \"Group\",\r\n",
      " \"name\": \"D3\",\r\n",
      " \"description\": \"https://en.wikipedia.org/wiki/Dihedral_group_of_order_6\",\r\n",
      " \"element_names\": [\"e\", \"a\", \"b\", \"aba\", \"ab\", \"ba\"],\r\n",
      " \"mult_table\": [[0, 1, 2, 3, 4, 5],\r\n",
      "                [1, 0, 4, 5, 2, 3],\r\n",
      "                [2, 5, 0, 4, 3, 1],\r\n",
      "                [3, 4, 5, 0, 1, 2],\r\n",
      "                [4, 3, 1, 2, 5, 0],\r\n",
      "                [5, 2, 3, 1, 0, 4]]\r\n",
      "}"
     ]
    }
   ],
   "source": [
    "d3_path = os.path.join(alg_dir, \"d3_dihedral_group_of_order_6.json\")\n",
    "\n",
    "!cat {d3_path}"
   ]
  },
  {
   "cell_type": "code",
   "execution_count": 14,
   "id": "20960d26",
   "metadata": {},
   "outputs": [
    {
     "name": "stdout",
     "output_type": "stream",
     "text": [
      "\n",
      "Group : D3 : https://en.wikipedia.org/wiki/Dihedral_group_of_order_6\n",
      "  Element Names: ['e', 'a', 'b', 'aba', 'ab', 'ba']\n",
      "  Is Abelian? False\n",
      "  Inverses:  (** - indicates that it is its own inverse)\n",
      "    inv(e) = e   **\n",
      "    inv(a) = a   **\n",
      "    inv(b) = b   **\n",
      "    inv(aba) = aba   **\n",
      "    inv(ab) = ba \n",
      "    inv(ba) = ab \n",
      "  Is associative? True\n",
      "  Cayley Table:\n",
      "      e    a    b  aba   ab   ba\n",
      "      a    e   ab   ba    b  aba\n",
      "      b   ba    e   ab  aba    a\n",
      "    aba   ab   ba    e    a    b\n",
      "     ab  aba    a    b   ba    e\n",
      "     ba    b  aba    a    e   ab\n"
     ]
    }
   ],
   "source": [
    "d3 = alg.Group(d3_path)\n",
    "\n",
    "d3.print_info()"
   ]
  },
  {
   "cell_type": "code",
   "execution_count": 15,
   "id": "5468b3a4",
   "metadata": {},
   "outputs": [
    {
     "data": {
      "text/plain": [
       "[Group('D3_subgroup_0', 'Subgroup of: https://en.wikipedia.org/wiki/Dihedral_group_of_order_6', ['e', 'a'], [[0 1]\n",
       "  [1 0]]) ,\n",
       " Group('D3_subgroup_1', 'Subgroup of: https://en.wikipedia.org/wiki/Dihedral_group_of_order_6', ['e', 'b'], [[0 1]\n",
       "  [1 0]]) ,\n",
       " Group('D3_subgroup_2', 'Subgroup of: https://en.wikipedia.org/wiki/Dihedral_group_of_order_6', ['e', 'aba'], [[0 1]\n",
       "  [1 0]]) ,\n",
       " Group('D3_subgroup_3', 'Subgroup of: https://en.wikipedia.org/wiki/Dihedral_group_of_order_6', ['e', 'ab', 'ba'], [[0 1 2]\n",
       "  [1 2 0]\n",
       "  [2 0 1]]) ]"
      ]
     },
     "execution_count": 15,
     "metadata": {},
     "output_type": "execute_result"
    }
   ],
   "source": [
    "d3.proper_subgroups()"
   ]
  },
  {
   "cell_type": "markdown",
   "id": "4969112a",
   "metadata": {},
   "source": [
    "# More Groups..."
   ]
  },
  {
   "cell_type": "markdown",
   "id": "6a7dfaef",
   "metadata": {},
   "source": [
    "## A4 -- Alternating Group on 4 Letters"
   ]
  },
  {
   "cell_type": "code",
   "execution_count": 16,
   "id": "a896609b",
   "metadata": {},
   "outputs": [
    {
     "name": "stdout",
     "output_type": "stream",
     "text": [
      "{\"type\": \"Group\",\r\n",
      " \"name\": \"A_4\",\r\n",
      " \"description\": \"Alternating group on 4 letters (AKA Tetrahedral group)\",\r\n",
      " \"element_names\": [\"()\", \"(1 3 2)\", \"(1 2 3)\", \"(0 1)(2 3)\", \"(0 1 2)\", \"(0 1 3)\", \"(0 3 1)\",\r\n",
      "                   \"(0 3 2)\", \"(0 3)(1 2)\", \"(0 2 3)\", \"(0 2 1)\", \"(0 2)(1 3)\"],\r\n",
      " \"mult_table\": [[0, 1, 2, 3, 4, 5, 6, 7, 8, 9, 10, 11],\r\n",
      "                [1, 2, 0, 6, 7, 8, 10, 11, 9, 5, 3, 4],\r\n",
      "                [2, 0, 1, 10, 11, 9, 3, 4, 5, 8, 6, 7],\r\n",
      "                [3, 4, 5, 0, 1, 2, 9, 10, 11, 6, 7, 8],\r\n",
      "                [4, 5, 3, 9, 10, 11, 7, 8, 6, 2, 0, 1],\r\n",
      "                [5, 3, 4, 7, 8, 6, 0, 1, 2, 11, 9, 10],\r\n",
      "                [6, 7, 8, 1, 2, 0, 5, 3, 4, 10, 11, 9],\r\n",
      "                [7, 8, 6, 5, 3, 4, 11, 9, 10, 0, 1, 2],\r\n",
      "                [8, 6, 7, 11, 9, 10, 1, 2, 0, 4, 5, 3],\r\n",
      "                [9, 10, 11, 4, 5, 3, 2, 0, 1, 7, 8, 6],\r\n",
      "                [10, 11, 9, 2, 0, 1, 8, 6, 7, 3, 4, 5],\r\n",
      "                [11, 9, 10, 8, 6, 7, 4, 5, 3, 1, 2, 0]]\r\n",
      "}\r\n"
     ]
    }
   ],
   "source": [
    "a4_path = os.path.join(alg_dir, \"a4_alternating_group_on_4_letters.json\")\n",
    "!cat {a4_path}"
   ]
  },
  {
   "cell_type": "code",
   "execution_count": 17,
   "id": "7a50e433",
   "metadata": {},
   "outputs": [
    {
     "name": "stdout",
     "output_type": "stream",
     "text": [
      "\n",
      "Group : A_4 : Alternating group on 4 letters (AKA Tetrahedral group)\n",
      "  Element Names: ['()', '(1 3 2)', '(1 2 3)', '(0 1)(2 3)', '(0 1 2)', '(0 1 3)', '(0 3 1)', '(0 3 2)', '(0 3)(1 2)', '(0 2 3)', '(0 2 1)', '(0 2)(1 3)']\n",
      "  Is Abelian? False\n",
      "  Inverses:  (** - indicates that it is its own inverse)\n",
      "    inv(()) = ()   **\n",
      "    inv((1 3 2)) = (1 2 3) \n",
      "    inv((1 2 3)) = (1 3 2) \n",
      "    inv((0 1)(2 3)) = (0 1)(2 3)   **\n",
      "    inv((0 1 2)) = (0 2 1) \n",
      "    inv((0 1 3)) = (0 3 1) \n",
      "    inv((0 3 1)) = (0 1 3) \n",
      "    inv((0 3 2)) = (0 2 3) \n",
      "    inv((0 3)(1 2)) = (0 3)(1 2)   **\n",
      "    inv((0 2 3)) = (0 3 2) \n",
      "    inv((0 2 1)) = (0 1 2) \n",
      "    inv((0 2)(1 3)) = (0 2)(1 3)   **\n",
      "  Is associative? True\n",
      "  Cayley Table:\n",
      "            ()     (1 3 2)     (1 2 3)  (0 1)(2 3)     (0 1 2)     (0 1 3)     (0 3 1)     (0 3 2)  (0 3)(1 2)     (0 2 3)     (0 2 1)  (0 2)(1 3)\n",
      "       (1 3 2)     (1 2 3)          ()     (0 3 1)     (0 3 2)  (0 3)(1 2)     (0 2 1)  (0 2)(1 3)     (0 2 3)     (0 1 3)  (0 1)(2 3)     (0 1 2)\n",
      "       (1 2 3)          ()     (1 3 2)     (0 2 1)  (0 2)(1 3)     (0 2 3)  (0 1)(2 3)     (0 1 2)     (0 1 3)  (0 3)(1 2)     (0 3 1)     (0 3 2)\n",
      "    (0 1)(2 3)     (0 1 2)     (0 1 3)          ()     (1 3 2)     (1 2 3)     (0 2 3)     (0 2 1)  (0 2)(1 3)     (0 3 1)     (0 3 2)  (0 3)(1 2)\n",
      "       (0 1 2)     (0 1 3)  (0 1)(2 3)     (0 2 3)     (0 2 1)  (0 2)(1 3)     (0 3 2)  (0 3)(1 2)     (0 3 1)     (1 2 3)          ()     (1 3 2)\n",
      "       (0 1 3)  (0 1)(2 3)     (0 1 2)     (0 3 2)  (0 3)(1 2)     (0 3 1)          ()     (1 3 2)     (1 2 3)  (0 2)(1 3)     (0 2 3)     (0 2 1)\n",
      "       (0 3 1)     (0 3 2)  (0 3)(1 2)     (1 3 2)     (1 2 3)          ()     (0 1 3)  (0 1)(2 3)     (0 1 2)     (0 2 1)  (0 2)(1 3)     (0 2 3)\n",
      "       (0 3 2)  (0 3)(1 2)     (0 3 1)     (0 1 3)  (0 1)(2 3)     (0 1 2)  (0 2)(1 3)     (0 2 3)     (0 2 1)          ()     (1 3 2)     (1 2 3)\n",
      "    (0 3)(1 2)     (0 3 1)     (0 3 2)  (0 2)(1 3)     (0 2 3)     (0 2 1)     (1 3 2)     (1 2 3)          ()     (0 1 2)     (0 1 3)  (0 1)(2 3)\n",
      "       (0 2 3)     (0 2 1)  (0 2)(1 3)     (0 1 2)     (0 1 3)  (0 1)(2 3)     (1 2 3)          ()     (1 3 2)     (0 3 2)  (0 3)(1 2)     (0 3 1)\n",
      "       (0 2 1)  (0 2)(1 3)     (0 2 3)     (1 2 3)          ()     (1 3 2)  (0 3)(1 2)     (0 3 1)     (0 3 2)  (0 1)(2 3)     (0 1 2)     (0 1 3)\n",
      "    (0 2)(1 3)     (0 2 3)     (0 2 1)  (0 3)(1 2)     (0 3 1)     (0 3 2)     (0 1 2)     (0 1 3)  (0 1)(2 3)     (1 3 2)     (1 2 3)          ()\n"
     ]
    }
   ],
   "source": [
    "a4 = alg.Group(a4_path)\n",
    "\n",
    "a4.print_info()"
   ]
  },
  {
   "cell_type": "code",
   "execution_count": 18,
   "id": "06a55203",
   "metadata": {},
   "outputs": [
    {
     "data": {
      "text/plain": [
       "[Group('A_4_subgroup_0', 'Subgroup of: Alternating group on 4 letters (AKA Tetrahedral group)', ['()', '(0 1 2)', '(0 2 1)'], [[0 1 2]\n",
       "  [1 2 0]\n",
       "  [2 0 1]]) ,\n",
       " Group('A_4_subgroup_1', 'Subgroup of: Alternating group on 4 letters (AKA Tetrahedral group)', ['()', '(0 3 2)', '(0 2 3)'], [[0 1 2]\n",
       "  [1 2 0]\n",
       "  [2 0 1]]) ,\n",
       " Group('A_4_subgroup_2', 'Subgroup of: Alternating group on 4 letters (AKA Tetrahedral group)', ['()', '(0 2)(1 3)'], [[0 1]\n",
       "  [1 0]]) ,\n",
       " Group('A_4_subgroup_3', 'Subgroup of: Alternating group on 4 letters (AKA Tetrahedral group)', ['()', '(0 1)(2 3)', '(0 3)(1 2)', '(0 2)(1 3)'], [[0 1 2 3]\n",
       "  [1 0 3 2]\n",
       "  [2 3 0 1]\n",
       "  [3 2 1 0]]) ,\n",
       " Group('A_4_subgroup_4', 'Subgroup of: Alternating group on 4 letters (AKA Tetrahedral group)', ['()', '(0 1 3)', '(0 3 1)'], [[0 1 2]\n",
       "  [1 2 0]\n",
       "  [2 0 1]]) ,\n",
       " Group('A_4_subgroup_5', 'Subgroup of: Alternating group on 4 letters (AKA Tetrahedral group)', ['()', '(0 3)(1 2)'], [[0 1]\n",
       "  [1 0]]) ,\n",
       " Group('A_4_subgroup_6', 'Subgroup of: Alternating group on 4 letters (AKA Tetrahedral group)', ['()', '(0 1)(2 3)'], [[0 1]\n",
       "  [1 0]]) ,\n",
       " Group('A_4_subgroup_7', 'Subgroup of: Alternating group on 4 letters (AKA Tetrahedral group)', ['()', '(1 3 2)', '(1 2 3)'], [[0 1 2]\n",
       "  [1 2 0]\n",
       "  [2 0 1]]) ]"
      ]
     },
     "execution_count": 18,
     "metadata": {},
     "output_type": "execute_result"
    }
   ],
   "source": [
    "a4.proper_subgroups()"
   ]
  },
  {
   "cell_type": "markdown",
   "id": "53b223a1",
   "metadata": {},
   "source": [
    "## D4 -- Dihedral Group on Four Vertices"
   ]
  },
  {
   "cell_type": "code",
   "execution_count": 19,
   "id": "26c8cda9",
   "metadata": {},
   "outputs": [
    {
     "name": "stdout",
     "output_type": "stream",
     "text": [
      "{\"type\": \"Group\",\r\n",
      " \"name\": \"D_4\",\r\n",
      " \"description\": \"Dihedral group on four vertices\",\r\n",
      " \"element_names\": [\"e\", \"r\", \"r^2\", \"r^3\", \"f\", \"fr\", \"r^2f\", \"rf\"],\r\n",
      " \"alt_elem_names\": [\"()\", \"(0 1 2 3)\", \"(0 2)(1 3)\", \"(0 3 2 1)\",\r\n",
      "                    \"(0 1)(2 3)\", \"(1 3)\", \"(0 3)(1 2)\", \"(0 2)\"],\r\n",
      " \"mult_table\": [[0, 1, 2, 3, 4, 5, 6, 7],\r\n",
      "                [1, 2, 3, 0, 7, 4, 5, 6],\r\n",
      "                [2, 3, 0, 1, 6, 7, 4, 5],\r\n",
      "                [3, 0, 1, 2, 5, 6, 7, 4],\r\n",
      "                [4, 5, 6, 7, 0, 1, 2, 3],\r\n",
      "                [5, 6, 7, 4, 3, 0, 1, 2],\r\n",
      "                [6, 7, 4, 5, 2, 3, 0, 1],\r\n",
      "                [7, 4, 5, 6, 1, 2, 3, 0]]\r\n",
      "}"
     ]
    }
   ],
   "source": [
    "d4_path = os.path.join(alg_dir, \"d4_dihedral_group_on_4_vertices.json\")\n",
    "!cat {d4_path}"
   ]
  },
  {
   "cell_type": "code",
   "execution_count": 20,
   "id": "a35742f3",
   "metadata": {},
   "outputs": [
    {
     "name": "stdout",
     "output_type": "stream",
     "text": [
      "\n",
      "Group : D_4 : Dihedral group on four vertices\n",
      "  Element Names: ['e', 'r', 'r^2', 'r^3', 'f', 'fr', 'r^2f', 'rf']\n",
      "  Is Abelian? False\n",
      "  Inverses:  (** - indicates that it is its own inverse)\n",
      "    inv(e) = e   **\n",
      "    inv(r) = r^3 \n",
      "    inv(r^2) = r^2   **\n",
      "    inv(r^3) = r \n",
      "    inv(f) = f   **\n",
      "    inv(fr) = fr   **\n",
      "    inv(r^2f) = r^2f   **\n",
      "    inv(rf) = rf   **\n",
      "  Is associative? True\n",
      "  Cayley Table:\n",
      "       e     r   r^2   r^3     f    fr  r^2f    rf\n",
      "       r   r^2   r^3     e    rf     f    fr  r^2f\n",
      "     r^2   r^3     e     r  r^2f    rf     f    fr\n",
      "     r^3     e     r   r^2    fr  r^2f    rf     f\n",
      "       f    fr  r^2f    rf     e     r   r^2   r^3\n",
      "      fr  r^2f    rf     f   r^3     e     r   r^2\n",
      "    r^2f    rf     f    fr   r^2   r^3     e     r\n",
      "      rf     f    fr  r^2f     r   r^2   r^3     e\n"
     ]
    }
   ],
   "source": [
    "d4 = alg.Group(d4_path)\n",
    "d4.print_info()"
   ]
  },
  {
   "cell_type": "code",
   "execution_count": 21,
   "id": "a8939871",
   "metadata": {},
   "outputs": [
    {
     "data": {
      "text/plain": [
       "[Group('D_4_subgroup_0', 'Subgroup of: Dihedral group on four vertices', ['e', 'r^2', 'f', 'r^2f'], [[0 1 2 3]\n",
       "  [1 0 3 2]\n",
       "  [2 3 0 1]\n",
       "  [3 2 1 0]]) ,\n",
       " Group('D_4_subgroup_1', 'Subgroup of: Dihedral group on four vertices', ['e', 'r^2f'], [[0 1]\n",
       "  [1 0]]) ,\n",
       " Group('D_4_subgroup_2', 'Subgroup of: Dihedral group on four vertices', ['e', 'r', 'r^2', 'r^3'], [[0 1 2 3]\n",
       "  [1 2 3 0]\n",
       "  [2 3 0 1]\n",
       "  [3 0 1 2]]) ,\n",
       " Group('D_4_subgroup_3', 'Subgroup of: Dihedral group on four vertices', ['e', 'fr'], [[0 1]\n",
       "  [1 0]]) ,\n",
       " Group('D_4_subgroup_4', 'Subgroup of: Dihedral group on four vertices', ['e', 'r^2', 'fr', 'rf'], [[0 1 2 3]\n",
       "  [1 0 3 2]\n",
       "  [2 3 0 1]\n",
       "  [3 2 1 0]]) ,\n",
       " Group('D_4_subgroup_5', 'Subgroup of: Dihedral group on four vertices', ['e', 'r^2'], [[0 1]\n",
       "  [1 0]]) ,\n",
       " Group('D_4_subgroup_6', 'Subgroup of: Dihedral group on four vertices', ['e', 'f'], [[0 1]\n",
       "  [1 0]]) ,\n",
       " Group('D_4_subgroup_7', 'Subgroup of: Dihedral group on four vertices', ['e', 'rf'], [[0 1]\n",
       "  [1 0]]) ]"
      ]
     },
     "execution_count": 21,
     "metadata": {},
     "output_type": "execute_result"
    }
   ],
   "source": [
    "d4.proper_subgroups()"
   ]
  },
  {
   "cell_type": "code",
   "execution_count": null,
   "id": "6ce52d71",
   "metadata": {},
   "outputs": [],
   "source": []
  }
 ],
 "metadata": {
  "kernelspec": {
   "display_name": "Python 3",
   "language": "python",
   "name": "python3"
  },
  "language_info": {
   "codemirror_mode": {
    "name": "ipython",
    "version": 3
   },
   "file_extension": ".py",
   "mimetype": "text/x-python",
   "name": "python",
   "nbconvert_exporter": "python",
   "pygments_lexer": "ipython3",
   "version": "3.7.7"
  }
 },
 "nbformat": 4,
 "nbformat_minor": 5
}
