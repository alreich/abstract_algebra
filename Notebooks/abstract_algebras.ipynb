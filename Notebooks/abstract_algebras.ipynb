{
 "cells": [
  {
   "cell_type": "markdown",
   "id": "c769da74",
   "metadata": {},
   "source": [
    "# Abstract Algebras"
   ]
  },
  {
   "cell_type": "markdown",
   "id": "0fe5e283",
   "metadata": {},
   "source": [
    "This notebook is a <b>work-in-progress</b>.  It is used, primarily, to try out ideas for new code."
   ]
  },
  {
   "cell_type": "markdown",
   "id": "0dfc6d1d",
   "metadata": {},
   "source": [
    "## References"
   ]
  },
  {
   "cell_type": "markdown",
   "id": "0ee4e958",
   "metadata": {},
   "source": [
    "* [Group Explorer](https://nathancarter.github.io/group-explorer/index.html) -- Visualization software for the abstract algebra classroom\n",
    "* [Groupprops, The Group Properties Wiki (beta)](https://groupprops.subwiki.org/wiki/Main_Page)\n",
    "* [Klein four-group, V4](https://en.wikipedia.org/wiki/Klein_four-group)\n",
    "* [Cyclic group](https://en.wikipedia.org/wiki/Cyclic_group)"
   ]
  },
  {
   "cell_type": "markdown",
   "id": "8a660369",
   "metadata": {},
   "source": [
    "## Imports and Paths"
   ]
  },
  {
   "cell_type": "code",
   "execution_count": 1,
   "id": "cdec662f",
   "metadata": {},
   "outputs": [],
   "source": [
    "import algebras as alg\n",
    "import numpy as np\n",
    "import json\n",
    "import os"
   ]
  },
  {
   "cell_type": "code",
   "execution_count": 2,
   "id": "22b1b16d",
   "metadata": {},
   "outputs": [],
   "source": [
    "# Path to this repo\n",
    "aa_path = os.path.join(os.getenv('PYPROJ'), 'abstract_algebra')\n",
    "\n",
    "# Path to a directory containing Algebra definitions in JSON\n",
    "alg_dir = os.path.join(aa_path, \"Algebras\")"
   ]
  },
  {
   "cell_type": "markdown",
   "id": "b2a1f6f3",
   "metadata": {},
   "source": [
    "### A Very Simple Group"
   ]
  },
  {
   "cell_type": "code",
   "execution_count": 3,
   "id": "b38aa5f0",
   "metadata": {},
   "outputs": [],
   "source": [
    "simp = alg.Group(\"Simple\",\n",
    "                 \"A very simple group\",\n",
    "                 [\"1\", \"-1\"],\n",
    "                 [[0, 1],\n",
    "                  [1, 0]])"
   ]
  },
  {
   "cell_type": "code",
   "execution_count": 4,
   "id": "8147383c",
   "metadata": {},
   "outputs": [
    {
     "name": "stdout",
     "output_type": "stream",
     "text": [
      "\n",
      "Group : Simple : A very simple group\n",
      "  Element Names: ['1', '-1']\n",
      "  Is Abelian? True\n",
      "  Inverses:  (** - indicates that it is its own inverse)\n",
      "    inv(1) = 1   **\n",
      "    inv(-1) = -1   **\n",
      "  Is associative? True\n",
      "  Cayley Table:\n",
      "     1  -1\n",
      "    -1   1\n"
     ]
    }
   ],
   "source": [
    "simp.print_info()"
   ]
  },
  {
   "cell_type": "markdown",
   "id": "bda86709",
   "metadata": {},
   "source": [
    "### Klein-4 Group"
   ]
  },
  {
   "cell_type": "markdown",
   "id": "7393cac2",
   "metadata": {},
   "source": [
    "See this [definition at GitHub](https://github.com/nathancarter/group-explorer/blob/master/groups/V_4.group)."
   ]
  },
  {
   "cell_type": "code",
   "execution_count": 5,
   "id": "b7c95087",
   "metadata": {},
   "outputs": [
    {
     "name": "stdout",
     "output_type": "stream",
     "text": [
      "{\"type\": \"Group\",\r\n",
      " \"name\": \"V4\",\r\n",
      " \"description\": \"Klein-4 group\",\r\n",
      " \"element_names\": [\"e\", \"h\", \"v\", \"hv\"],\r\n",
      " \"addition_table\": [[0, 1, 2, 3],\r\n",
      "                    [1, 0, 3, 2],\r\n",
      "                    [2, 3, 0, 1],\r\n",
      "                    [3, 2, 1, 0]]\r\n",
      "}\r\n"
     ]
    }
   ],
   "source": [
    "v4_json = os.path.join(alg_dir, \"v4_klein_4_group.json\")\n",
    "\n",
    "!cat {v4_json}"
   ]
  },
  {
   "cell_type": "code",
   "execution_count": 6,
   "id": "51fd5701",
   "metadata": {},
   "outputs": [
    {
     "data": {
      "text/plain": [
       "Group('V4', 'Klein-4 group', ['e', 'h', 'v', 'hv'], [[0 1 2 3]\n",
       " [1 0 3 2]\n",
       " [2 3 0 1]\n",
       " [3 2 1 0]]) "
      ]
     },
     "execution_count": 6,
     "metadata": {},
     "output_type": "execute_result"
    }
   ],
   "source": [
    "v4 = alg.Group(v4_json)\n",
    "v4"
   ]
  },
  {
   "cell_type": "markdown",
   "id": "d40e9a38",
   "metadata": {},
   "source": [
    "The group can also be created at the command line:"
   ]
  },
  {
   "cell_type": "code",
   "execution_count": 7,
   "id": "a6a6c68a",
   "metadata": {},
   "outputs": [
    {
     "data": {
      "text/plain": [
       "Group('V4x', 'Klein-4 group', ['e', 'h', 'v', 'hv'], [[0 1 2 3]\n",
       " [1 0 3 2]\n",
       " [2 3 0 1]\n",
       " [3 2 1 0]]) "
      ]
     },
     "execution_count": 7,
     "metadata": {},
     "output_type": "execute_result"
    }
   ],
   "source": [
    "v4x = alg.Group('V4x',\n",
    "                'Klein-4 group',\n",
    "                ['e',  'h',  'v', 'hv'],\n",
    "                [[0, 1, 2, 3],\n",
    "                 [1, 0, 3, 2],\n",
    "                 [2, 3, 0, 1],\n",
    "                 [3, 2, 1, 0]]\n",
    "               )\n",
    "\n",
    "v4x"
   ]
  },
  {
   "cell_type": "code",
   "execution_count": 8,
   "id": "cbbc38e8",
   "metadata": {},
   "outputs": [
    {
     "data": {
      "text/plain": [
       "'hv'"
      ]
     },
     "execution_count": 8,
     "metadata": {},
     "output_type": "execute_result"
    }
   ],
   "source": [
    "v4.add('h','v')"
   ]
  },
  {
   "cell_type": "code",
   "execution_count": 9,
   "id": "470d7cae",
   "metadata": {},
   "outputs": [
    {
     "name": "stdout",
     "output_type": "stream",
     "text": [
      "\n",
      "Group : V4 : Klein-4 group\n",
      "  Element Names: ['e', 'h', 'v', 'hv']\n",
      "  Is Abelian? True\n",
      "  Inverses:  (** - indicates that it is its own inverse)\n",
      "    inv(e) = e   **\n",
      "    inv(h) = h   **\n",
      "    inv(v) = v   **\n",
      "    inv(hv) = hv   **\n",
      "  Is associative? True\n",
      "  Cayley Table:\n",
      "     e   h   v  hv\n",
      "     h   e  hv   v\n",
      "     v  hv   e   h\n",
      "    hv   v   h   e\n"
     ]
    }
   ],
   "source": [
    "v4.print_info()"
   ]
  },
  {
   "cell_type": "code",
   "execution_count": 10,
   "id": "94a34018",
   "metadata": {},
   "outputs": [
    {
     "data": {
      "text/plain": [
       "{'type': 'Group',\n",
       " 'name': 'V4',\n",
       " 'description': 'Klein-4 group',\n",
       " 'element_names': ['e', 'h', 'v', 'hv'],\n",
       " 'addition_table': [[0, 1, 2, 3], [1, 0, 3, 2], [2, 3, 0, 1], [3, 2, 1, 0]]}"
      ]
     },
     "execution_count": 10,
     "metadata": {},
     "output_type": "execute_result"
    }
   ],
   "source": [
    "v4.to_dict()"
   ]
  },
  {
   "cell_type": "code",
   "execution_count": 11,
   "id": "cabdb246",
   "metadata": {},
   "outputs": [
    {
     "data": {
      "text/plain": [
       "'{\"type\": \"Group\", \"name\": \"V4\", \"description\": \"Klein-4 group\", \"element_names\": [\"e\", \"h\", \"v\", \"hv\"], \"addition_table\": [[0, 1, 2, 3], [1, 0, 3, 2], [2, 3, 0, 1], [3, 2, 1, 0]]}'"
      ]
     },
     "execution_count": 11,
     "metadata": {},
     "output_type": "execute_result"
    }
   ],
   "source": [
    "v4json = json.dumps(v4.to_dict())\n",
    "v4json"
   ]
  },
  {
   "cell_type": "markdown",
   "id": "6cff98a5",
   "metadata": {},
   "source": [
    "### Cyclic group of order 4"
   ]
  },
  {
   "cell_type": "markdown",
   "id": "2b6b1959",
   "metadata": {},
   "source": [
    "See this [definition at GitHub](https://github.com/nathancarter/group-explorer/blob/master/groups/Z_4.group)."
   ]
  },
  {
   "cell_type": "code",
   "execution_count": 12,
   "id": "3be39835",
   "metadata": {},
   "outputs": [
    {
     "name": "stdout",
     "output_type": "stream",
     "text": [
      "{\"type\": \"Group\",\r\n",
      " \"name\": \"Z4\",\r\n",
      " \"description\": \"Cyclic group of order 4\",\r\n",
      " \"element_names\": [\"e\", \"a\", \"a^2\", \"a^3\"],\r\n",
      " \"addition_table\": [[0, 1, 2, 3],\r\n",
      "                    [1, 2, 3, 0],\r\n",
      "                    [2, 3, 0, 1],\r\n",
      "                    [3, 0, 1, 2]]\r\n",
      "}\r\n"
     ]
    }
   ],
   "source": [
    "z4_json = os.path.join(alg_dir, \"z4_cyclic_group_of_order_4.json\")\n",
    "\n",
    "!cat {z4_json}"
   ]
  },
  {
   "cell_type": "code",
   "execution_count": 13,
   "id": "59cedfe2",
   "metadata": {},
   "outputs": [
    {
     "name": "stdout",
     "output_type": "stream",
     "text": [
      "\n",
      "Group : Z4 : Cyclic group of order 4\n",
      "  Element Names: ['e', 'a', 'a^2', 'a^3']\n",
      "  Is Abelian? True\n",
      "  Inverses:  (** - indicates that it is its own inverse)\n",
      "    inv(e) = e   **\n",
      "    inv(a) = a^3 \n",
      "    inv(a^2) = a^2   **\n",
      "    inv(a^3) = a \n",
      "  Is associative? True\n",
      "  Cayley Table:\n",
      "      e    a  a^2  a^3\n",
      "      a  a^2  a^3    e\n",
      "    a^2  a^3    e    a\n",
      "    a^3    e    a  a^2\n"
     ]
    }
   ],
   "source": [
    "z4 = alg.Group(z4_json)\n",
    "\n",
    "z4.print_info()"
   ]
  },
  {
   "cell_type": "code",
   "execution_count": 14,
   "id": "b42589ec",
   "metadata": {},
   "outputs": [
    {
     "data": {
      "text/plain": [
       "'e'"
      ]
     },
     "execution_count": 14,
     "metadata": {},
     "output_type": "execute_result"
    }
   ],
   "source": [
    "z4.add('a^2','a^2')"
   ]
  },
  {
   "cell_type": "code",
   "execution_count": 15,
   "id": "f856a673",
   "metadata": {},
   "outputs": [
    {
     "data": {
      "text/plain": [
       "'a'"
      ]
     },
     "execution_count": 15,
     "metadata": {},
     "output_type": "execute_result"
    }
   ],
   "source": [
    "z4.add('a^2', 'a^3')"
   ]
  },
  {
   "cell_type": "markdown",
   "id": "f48d152e",
   "metadata": {},
   "source": [
    "### Symmetric group on 3 letters"
   ]
  },
  {
   "cell_type": "markdown",
   "id": "12f968e8",
   "metadata": {},
   "source": [
    "See this [definition at GitHub](https://github.com/nathancarter/group-explorer/blob/master/groups/S_3.group). \"Another name for this group is \"Dihedral group on 3 vertices.\""
   ]
  },
  {
   "cell_type": "code",
   "execution_count": 16,
   "id": "fa081092",
   "metadata": {},
   "outputs": [
    {
     "name": "stdout",
     "output_type": "stream",
     "text": [
      "{\"type\": \"Group\",\r\n",
      " \"name\": \"S3\",\r\n",
      " \"description\": \"Symmetric group on 3 letters\",\r\n",
      " \"element_names\": [\"e\", \"r\", \"r^2\", \"f\", \"fr\", \"rf\"],\r\n",
      " \"addition_table\": [[0, 1, 2, 3, 4, 5],\r\n",
      "                    [1, 2, 0, 5, 3, 4],\r\n",
      "                    [2, 0, 1, 4, 5, 3],\r\n",
      "                    [3, 4, 5, 0, 1, 2],\r\n",
      "                    [4, 5, 3, 2, 0, 1],\r\n",
      "                    [5, 3, 4, 1, 2, 0]]\r\n",
      "}\r\n"
     ]
    }
   ],
   "source": [
    "s3_json = os.path.join(alg_dir, \"s3_symmetric_group_on_3_letters.json\")\n",
    "\n",
    "!cat {s3_json}"
   ]
  },
  {
   "cell_type": "code",
   "execution_count": 17,
   "id": "7895f409",
   "metadata": {},
   "outputs": [
    {
     "name": "stdout",
     "output_type": "stream",
     "text": [
      "\n",
      "Group : S3 : Symmetric group on 3 letters\n",
      "  Element Names: ['e', 'r', 'r^2', 'f', 'fr', 'rf']\n",
      "  Is Abelian? False\n",
      "  Inverses:  (** - indicates that it is its own inverse)\n",
      "    inv(e) = e   **\n",
      "    inv(r) = r^2 \n",
      "    inv(r^2) = r \n",
      "    inv(f) = f   **\n",
      "    inv(fr) = fr   **\n",
      "    inv(rf) = rf   **\n",
      "  Is associative? True\n",
      "  Cayley Table:\n",
      "      e    r  r^2    f   fr   rf\n",
      "      r  r^2    e   rf    f   fr\n",
      "    r^2    e    r   fr   rf    f\n",
      "      f   fr   rf    e    r  r^2\n",
      "     fr   rf    f  r^2    e    r\n",
      "     rf    f   fr    r  r^2    e\n"
     ]
    }
   ],
   "source": [
    "s3 = alg.Group(s3_json)\n",
    "\n",
    "s3.print_info()"
   ]
  },
  {
   "cell_type": "code",
   "execution_count": 18,
   "id": "9ef02052",
   "metadata": {},
   "outputs": [
    {
     "data": {
      "text/plain": [
       "'f'"
      ]
     },
     "execution_count": 18,
     "metadata": {},
     "output_type": "execute_result"
    }
   ],
   "source": [
    "s3.add('fr', 'r^2')"
   ]
  },
  {
   "cell_type": "code",
   "execution_count": 19,
   "id": "623c132a",
   "metadata": {},
   "outputs": [
    {
     "data": {
      "text/plain": [
       "'rf'"
      ]
     },
     "execution_count": 19,
     "metadata": {},
     "output_type": "execute_result"
    }
   ],
   "source": [
    "s3.add('r^2', 'fr')"
   ]
  },
  {
   "cell_type": "markdown",
   "id": "80319db3",
   "metadata": {},
   "source": [
    "### Symmetric Group, S3 (not same as S3, above)"
   ]
  },
  {
   "cell_type": "markdown",
   "id": "9129effc",
   "metadata": {},
   "source": [
    "This is the [Symmetric group, S3, as specified at Groupprops](https://groupprops.subwiki.org/wiki/Symmetric_group:S3).\n",
    "\n",
    "W.r.t., how to interpret the addition table, the following quote helps:\n",
    "\n",
    "[[from Wikipedia](https://groupprops.subwiki.org/wiki/Symmetric_group:S3)] \"We portray elements as permutations on the set \\{ 1,2,3 \\} using the cycle decomposition. The row element is added on the left and the column element on the right, with the assumption of functions written on the left. This means that the column element is applied first and the row element is applied next.\""
   ]
  },
  {
   "cell_type": "code",
   "execution_count": 20,
   "id": "1c343b02",
   "metadata": {},
   "outputs": [],
   "source": [
    "s3x = alg.Group('S3X',\n",
    "           'Another version of the symmetric group on 3 letters',\n",
    "           ['()', '(1,2)', '(2,3)', '(1,3)', '(1,2,3)', '(1,3,2)'],\n",
    "           [[0, 1, 2, 3, 4, 5],\n",
    "            [1, 0, 4, 5, 2, 3],\n",
    "            [2, 5, 0, 4, 3, 1],\n",
    "            [3, 4, 5, 0, 1, 2],\n",
    "            [4, 3, 1, 2, 5, 0],\n",
    "            [5, 2, 3, 1, 0, 4]]\n",
    "          )"
   ]
  },
  {
   "cell_type": "code",
   "execution_count": 21,
   "id": "1008bf66",
   "metadata": {},
   "outputs": [
    {
     "data": {
      "text/plain": [
       "'{\"type\": \"Group\", \"name\": \"S3X\", \"description\": \"Another version of the symmetric group on 3 letters\", \"element_names\": [\"()\", \"(1,2)\", \"(2,3)\", \"(1,3)\", \"(1,2,3)\", \"(1,3,2)\"], \"addition_table\": [[0, 1, 2, 3, 4, 5], [1, 0, 4, 5, 2, 3], [2, 5, 0, 4, 3, 1], [3, 4, 5, 0, 1, 2], [4, 3, 1, 2, 5, 0], [5, 2, 3, 1, 0, 4]]}'"
      ]
     },
     "execution_count": 21,
     "metadata": {},
     "output_type": "execute_result"
    }
   ],
   "source": [
    "s3x.dumps()"
   ]
  },
  {
   "cell_type": "code",
   "execution_count": 22,
   "id": "1d2666e8",
   "metadata": {},
   "outputs": [
    {
     "name": "stdout",
     "output_type": "stream",
     "text": [
      "{\"type\": \"Group\",\r\n",
      " \"name\": \"S3X\",\r\n",
      " \"description\":\"Another version of the symmetric group on 3 letters\",\r\n",
      " \"element_names\": [\"()\", \"(1,2)\", \"(2,3)\", \"(1,3)\", \"(1,2,3)\", \"(1,3,2)\"],\r\n",
      " \"addition_table\": [[0, 1, 2, 3, 4, 5],\r\n",
      "                    [1, 0, 4, 5, 2, 3],\r\n",
      "                    [2, 5, 0, 4, 3, 1],\r\n",
      "                    [3, 4, 5, 0, 1, 2],\r\n",
      "                    [4, 3, 1, 2, 5, 0],\r\n",
      "                    [5, 2, 3, 1, 0, 4]]\r\n",
      "}\r\n"
     ]
    }
   ],
   "source": [
    "s3x_json = os.path.join(alg_dir, \"s3x_symmetric_group_OTHER.json\")\n",
    "\n",
    "!cat {s3x_json}"
   ]
  },
  {
   "cell_type": "code",
   "execution_count": 23,
   "id": "7a509f25",
   "metadata": {},
   "outputs": [
    {
     "name": "stdout",
     "output_type": "stream",
     "text": [
      "\n",
      "Group : S3X : Another version of the symmetric group on 3 letters\n",
      "  Element Names: ['()', '(1,2)', '(2,3)', '(1,3)', '(1,2,3)', '(1,3,2)']\n",
      "  Is Abelian? False\n",
      "  Inverses:  (** - indicates that it is its own inverse)\n",
      "    inv(()) = ()   **\n",
      "    inv((1,2)) = (1,2)   **\n",
      "    inv((2,3)) = (2,3)   **\n",
      "    inv((1,3)) = (1,3)   **\n",
      "    inv((1,2,3)) = (1,3,2) \n",
      "    inv((1,3,2)) = (1,2,3) \n",
      "  Is associative? True\n",
      "  Cayley Table:\n",
      "         ()    (1,2)    (2,3)    (1,3)  (1,2,3)  (1,3,2)\n",
      "      (1,2)       ()  (1,2,3)  (1,3,2)    (2,3)    (1,3)\n",
      "      (2,3)  (1,3,2)       ()  (1,2,3)    (1,3)    (1,2)\n",
      "      (1,3)  (1,2,3)  (1,3,2)       ()    (1,2)    (2,3)\n",
      "    (1,2,3)    (1,3)    (1,2)    (2,3)  (1,3,2)       ()\n",
      "    (1,3,2)    (2,3)    (1,3)    (1,2)       ()  (1,2,3)\n"
     ]
    }
   ],
   "source": [
    "s3x = alg.Group(s3x_json)\n",
    "\n",
    "s3x.print_info()"
   ]
  },
  {
   "cell_type": "code",
   "execution_count": 24,
   "id": "758838c0",
   "metadata": {},
   "outputs": [
    {
     "data": {
      "text/plain": [
       "'(1,2,3)'"
      ]
     },
     "execution_count": 24,
     "metadata": {},
     "output_type": "execute_result"
    }
   ],
   "source": [
    "s3x.add('(1,2)', '(2,3)')"
   ]
  },
  {
   "cell_type": "markdown",
   "id": "24118082",
   "metadata": {},
   "source": [
    "#### Write out group to JSON file"
   ]
  },
  {
   "cell_type": "code",
   "execution_count": 25,
   "id": "8446d226",
   "metadata": {},
   "outputs": [],
   "source": [
    "s3x_test_json_dump = os.path.join(alg_dir, \"s3x_TEST_JSON_DUMP.json\")\n",
    "\n",
    "s3x.dump(s3x_test_json_dump)"
   ]
  },
  {
   "cell_type": "markdown",
   "id": "e63600d7",
   "metadata": {},
   "source": [
    "## Z_2 x Z_2 x Z_2"
   ]
  },
  {
   "cell_type": "code",
   "execution_count": 26,
   "id": "ed47156e",
   "metadata": {},
   "outputs": [],
   "source": [
    "Z2xZ2xZ2 = alg.Group('Z_2 x Z_2 x Z_2',\n",
    "                 'no description',\n",
    "                 ['eee', 'aee', 'eae', 'aae', 'eea', 'aea', 'eaa', 'aaa'],\n",
    "                 [[0, 1, 2, 3, 4, 5, 6, 7],\n",
    "                  [1, 0, 3, 2, 5, 4, 7, 6],\n",
    "                  [2, 3, 0, 1, 6, 7, 4, 5],\n",
    "                  [3, 2, 1, 0, 7, 6, 5, 4],\n",
    "                  [4, 5, 6, 7, 0, 1, 2, 3],\n",
    "                  [5, 4, 7, 6, 1, 0, 3, 2],\n",
    "                  [6, 7, 4, 5, 2, 3, 0, 1],\n",
    "                  [7, 6, 5, 4, 3, 2, 1, 0]]\n",
    "                )"
   ]
  },
  {
   "cell_type": "code",
   "execution_count": 27,
   "id": "83eeb268",
   "metadata": {},
   "outputs": [
    {
     "data": {
      "text/plain": [
       "'{\"type\": \"Group\", \"name\": \"Z_2 x Z_2 x Z_2\", \"description\": \"no description\", \"element_names\": [\"eee\", \"aee\", \"eae\", \"aae\", \"eea\", \"aea\", \"eaa\", \"aaa\"], \"addition_table\": [[0, 1, 2, 3, 4, 5, 6, 7], [1, 0, 3, 2, 5, 4, 7, 6], [2, 3, 0, 1, 6, 7, 4, 5], [3, 2, 1, 0, 7, 6, 5, 4], [4, 5, 6, 7, 0, 1, 2, 3], [5, 4, 7, 6, 1, 0, 3, 2], [6, 7, 4, 5, 2, 3, 0, 1], [7, 6, 5, 4, 3, 2, 1, 0]]}'"
      ]
     },
     "execution_count": 27,
     "metadata": {},
     "output_type": "execute_result"
    }
   ],
   "source": [
    "Z2xZ2xZ2.dumps()"
   ]
  },
  {
   "cell_type": "markdown",
   "id": "55dcd80c",
   "metadata": {},
   "source": [
    "## Direct Products"
   ]
  },
  {
   "cell_type": "code",
   "execution_count": 28,
   "id": "75254f8d",
   "metadata": {},
   "outputs": [],
   "source": [
    "z2 = alg.Group('Z2',\n",
    "           'Cyclic group of order 2',\n",
    "           ['E', 'A'],\n",
    "           [[0, 1],\n",
    "            [1, 0]]\n",
    "          )\n",
    "\n",
    "z3 = alg.Group('Z3',\n",
    "           'Cyclic group of order 3',\n",
    "           ['E', 'A', 'B'],\n",
    "           [[0, 1, 2],\n",
    "            [1, 2, 0],\n",
    "            [2, 0, 1]]\n",
    "          )"
   ]
  },
  {
   "cell_type": "code",
   "execution_count": 29,
   "id": "cad33842",
   "metadata": {},
   "outputs": [
    {
     "data": {
      "text/plain": [
       "Group('Z3_x_Z3', 'Direct product of Z3 & Z3', ['E,E', 'E,A', 'E,B', 'A,E', 'A,A', 'A,B', 'B,E', 'B,A', 'B,B'], [[0 1 2 3 4 5 6 7 8]\n",
       " [1 2 0 4 5 3 7 8 6]\n",
       " [2 0 1 5 3 4 8 6 7]\n",
       " [3 4 5 6 7 8 0 1 2]\n",
       " [4 5 3 7 8 6 1 2 0]\n",
       " [5 3 4 8 6 7 2 0 1]\n",
       " [6 7 8 0 1 2 3 4 5]\n",
       " [7 8 6 1 2 0 4 5 3]\n",
       " [8 6 7 2 0 1 5 3 4]]) "
      ]
     },
     "execution_count": 29,
     "metadata": {},
     "output_type": "execute_result"
    }
   ],
   "source": [
    "z3_x_z3 = z3 * z3\n",
    "z3_x_z3"
   ]
  },
  {
   "cell_type": "code",
   "execution_count": 30,
   "id": "73e5b290",
   "metadata": {},
   "outputs": [
    {
     "data": {
      "text/plain": [
       "['E,E', 'E,A', 'E,B', 'A,E', 'A,A', 'A,B', 'B,E', 'B,A', 'B,B']"
      ]
     },
     "execution_count": 30,
     "metadata": {},
     "output_type": "execute_result"
    }
   ],
   "source": [
    "z3_x_z3.element_names"
   ]
  },
  {
   "cell_type": "code",
   "execution_count": 31,
   "id": "30ef7d09",
   "metadata": {},
   "outputs": [
    {
     "data": {
      "text/plain": [
       "array([[0, 1, 2, 3, 4, 5, 6, 7, 8],\n",
       "       [1, 2, 0, 4, 5, 3, 7, 8, 6],\n",
       "       [2, 0, 1, 5, 3, 4, 8, 6, 7],\n",
       "       [3, 4, 5, 6, 7, 8, 0, 1, 2],\n",
       "       [4, 5, 3, 7, 8, 6, 1, 2, 0],\n",
       "       [5, 3, 4, 8, 6, 7, 2, 0, 1],\n",
       "       [6, 7, 8, 0, 1, 2, 3, 4, 5],\n",
       "       [7, 8, 6, 1, 2, 0, 4, 5, 3],\n",
       "       [8, 6, 7, 2, 0, 1, 5, 3, 4]])"
      ]
     },
     "execution_count": 31,
     "metadata": {},
     "output_type": "execute_result"
    }
   ],
   "source": [
    "z3_x_z3.addition_table"
   ]
  },
  {
   "cell_type": "code",
   "execution_count": 32,
   "id": "5ca4eef0",
   "metadata": {},
   "outputs": [
    {
     "data": {
      "text/plain": [
       "[['E,E', 'E,A', 'E,B', 'A,E', 'A,A', 'A,B', 'B,E', 'B,A', 'B,B'],\n",
       " ['E,A', 'E,B', 'E,E', 'A,A', 'A,B', 'A,E', 'B,A', 'B,B', 'B,E'],\n",
       " ['E,B', 'E,E', 'E,A', 'A,B', 'A,E', 'A,A', 'B,B', 'B,E', 'B,A'],\n",
       " ['A,E', 'A,A', 'A,B', 'B,E', 'B,A', 'B,B', 'E,E', 'E,A', 'E,B'],\n",
       " ['A,A', 'A,B', 'A,E', 'B,A', 'B,B', 'B,E', 'E,A', 'E,B', 'E,E'],\n",
       " ['A,B', 'A,E', 'A,A', 'B,B', 'B,E', 'B,A', 'E,B', 'E,E', 'E,A'],\n",
       " ['B,E', 'B,A', 'B,B', 'E,E', 'E,A', 'E,B', 'A,E', 'A,A', 'A,B'],\n",
       " ['B,A', 'B,B', 'B,E', 'E,A', 'E,B', 'E,E', 'A,A', 'A,B', 'A,E'],\n",
       " ['B,B', 'B,E', 'B,A', 'E,B', 'E,E', 'E,A', 'A,B', 'A,E', 'A,A']]"
      ]
     },
     "execution_count": 32,
     "metadata": {},
     "output_type": "execute_result"
    }
   ],
   "source": [
    "z3_x_z3.addition_table_with_names()"
   ]
  },
  {
   "cell_type": "code",
   "execution_count": 33,
   "id": "649911f0",
   "metadata": {},
   "outputs": [
    {
     "name": "stdout",
     "output_type": "stream",
     "text": [
      "  E,E  E,A  E,B  A,E  A,A  A,B  B,E  B,A  B,B\n",
      "  E,A  E,B  E,E  A,A  A,B  A,E  B,A  B,B  B,E\n",
      "  E,B  E,E  E,A  A,B  A,E  A,A  B,B  B,E  B,A\n",
      "  A,E  A,A  A,B  B,E  B,A  B,B  E,E  E,A  E,B\n",
      "  A,A  A,B  A,E  B,A  B,B  B,E  E,A  E,B  E,E\n",
      "  A,B  A,E  A,A  B,B  B,E  B,A  E,B  E,E  E,A\n",
      "  B,E  B,A  B,B  E,E  E,A  E,B  A,E  A,A  A,B\n",
      "  B,A  B,B  B,E  E,A  E,B  E,E  A,A  A,B  A,E\n",
      "  B,B  B,E  B,A  E,B  E,E  E,A  A,B  A,E  A,A\n"
     ]
    }
   ],
   "source": [
    "z3_x_z3.pretty_print_addition_table()"
   ]
  },
  {
   "cell_type": "code",
   "execution_count": 34,
   "id": "fd5a5b40",
   "metadata": {},
   "outputs": [
    {
     "name": "stdout",
     "output_type": "stream",
     "text": [
      "inv(E,E) = E,E\n",
      "inv(E,A) = E,B\n",
      "inv(E,B) = E,A\n",
      "inv(A,E) = B,E\n",
      "inv(A,A) = B,B\n",
      "inv(A,B) = B,A\n",
      "inv(B,E) = A,E\n",
      "inv(B,A) = A,B\n",
      "inv(B,B) = A,A\n"
     ]
    }
   ],
   "source": [
    "for elem in z3_x_z3.element_names:\n",
    "    print(f\"inv({elem}) = {z3_x_z3.inverse(elem)}\")"
   ]
  },
  {
   "cell_type": "code",
   "execution_count": 35,
   "id": "cb146b6b",
   "metadata": {},
   "outputs": [
    {
     "data": {
      "text/plain": [
       "True"
      ]
     },
     "execution_count": 35,
     "metadata": {},
     "output_type": "execute_result"
    }
   ],
   "source": [
    "z3_x_z3.abelian()"
   ]
  },
  {
   "cell_type": "code",
   "execution_count": 36,
   "id": "a863666b",
   "metadata": {},
   "outputs": [
    {
     "data": {
      "text/plain": [
       "True"
      ]
     },
     "execution_count": 36,
     "metadata": {},
     "output_type": "execute_result"
    }
   ],
   "source": [
    "z3_x_z3.associative()"
   ]
  },
  {
   "cell_type": "code",
   "execution_count": 37,
   "id": "1b4c66a1",
   "metadata": {},
   "outputs": [],
   "source": [
    "z2_x_z2_x_z2 = z2 * z2 * z2"
   ]
  },
  {
   "cell_type": "code",
   "execution_count": 38,
   "id": "1e65065e",
   "metadata": {},
   "outputs": [
    {
     "data": {
      "text/plain": [
       "['E,E,E', 'E,E,A', 'E,A,E', 'E,A,A', 'A,E,E', 'A,E,A', 'A,A,E', 'A,A,A']"
      ]
     },
     "execution_count": 38,
     "metadata": {},
     "output_type": "execute_result"
    }
   ],
   "source": [
    "z2_x_z2_x_z2.element_names"
   ]
  },
  {
   "cell_type": "code",
   "execution_count": 39,
   "id": "a7df0377",
   "metadata": {},
   "outputs": [
    {
     "data": {
      "text/plain": [
       "array([[0, 1, 2, 3, 4, 5, 6, 7],\n",
       "       [1, 0, 3, 2, 5, 4, 7, 6],\n",
       "       [2, 3, 0, 1, 6, 7, 4, 5],\n",
       "       [3, 2, 1, 0, 7, 6, 5, 4],\n",
       "       [4, 5, 6, 7, 0, 1, 2, 3],\n",
       "       [5, 4, 7, 6, 1, 0, 3, 2],\n",
       "       [6, 7, 4, 5, 2, 3, 0, 1],\n",
       "       [7, 6, 5, 4, 3, 2, 1, 0]])"
      ]
     },
     "execution_count": 39,
     "metadata": {},
     "output_type": "execute_result"
    }
   ],
   "source": [
    "z2_x_z2_x_z2.addition_table"
   ]
  },
  {
   "cell_type": "code",
   "execution_count": 40,
   "id": "7352ae85",
   "metadata": {
    "scrolled": true
   },
   "outputs": [
    {
     "name": "stdout",
     "output_type": "stream",
     "text": [
      "inv(E,E,E) = E,E,E\n",
      "inv(E,E,A) = E,E,A\n",
      "inv(E,A,E) = E,A,E\n",
      "inv(E,A,A) = E,A,A\n",
      "inv(A,E,E) = A,E,E\n",
      "inv(A,E,A) = A,E,A\n",
      "inv(A,A,E) = A,A,E\n",
      "inv(A,A,A) = A,A,A\n"
     ]
    }
   ],
   "source": [
    "for elem in z2_x_z2_x_z2.element_names:\n",
    "    print(f\"inv({elem}) = {z2_x_z2_x_z2.inverse(elem)}\")"
   ]
  },
  {
   "cell_type": "markdown",
   "id": "6d932def",
   "metadata": {},
   "source": [
    "## Tesseract group"
   ]
  },
  {
   "cell_type": "markdown",
   "id": "656111e6",
   "metadata": {},
   "source": [
    "This group has 384 elements and was converted to JSON from [this definition](https://github.com/nathancarter/group-explorer/blob/master/groups/Tesseract.group)."
   ]
  },
  {
   "cell_type": "code",
   "execution_count": 41,
   "id": "0cd60396",
   "metadata": {},
   "outputs": [
    {
     "name": "stdout",
     "output_type": "stream",
     "text": [
      "<Group: Tesseract, The symmetries of the hypercube>\n"
     ]
    }
   ],
   "source": [
    "tesseract_path = os.path.join(alg_dir, \"tesseract.json\")\n",
    "tesseract = alg.Group(tesseract_path)\n",
    "print(tesseract)"
   ]
  },
  {
   "cell_type": "code",
   "execution_count": 42,
   "id": "a4a30b7c",
   "metadata": {},
   "outputs": [
    {
     "data": {
      "text/plain": [
       "False"
      ]
     },
     "execution_count": 42,
     "metadata": {},
     "output_type": "execute_result"
    }
   ],
   "source": [
    "tesseract.abelian()"
   ]
  },
  {
   "cell_type": "code",
   "execution_count": 43,
   "id": "fc89c6e9",
   "metadata": {},
   "outputs": [],
   "source": [
    "#tesseract.associative() # True"
   ]
  },
  {
   "cell_type": "code",
   "execution_count": 44,
   "id": "46ab9456",
   "metadata": {},
   "outputs": [
    {
     "data": {
      "text/plain": [
       "384"
      ]
     },
     "execution_count": 44,
     "metadata": {},
     "output_type": "execute_result"
    }
   ],
   "source": [
    "len(tesseract.element_names)"
   ]
  },
  {
   "cell_type": "markdown",
   "id": "0ea5488f",
   "metadata": {},
   "source": [
    "Here are the first n elements:"
   ]
  },
  {
   "cell_type": "code",
   "execution_count": 45,
   "id": "c04f4756",
   "metadata": {},
   "outputs": [
    {
     "data": {
      "text/plain": [
       "['e',\n",
       " 'a',\n",
       " 'b',\n",
       " 'ba',\n",
       " 'bb',\n",
       " 'bba',\n",
       " 'ab',\n",
       " 'aba',\n",
       " 'bab',\n",
       " 'baba',\n",
       " 'bbab',\n",
       " 'abababba',\n",
       " 'abb',\n",
       " 'abba',\n",
       " 'babb',\n",
       " 'abababbab',\n",
       " 'ababa',\n",
       " 'abab',\n",
       " 'abbab',\n",
       " 'acabababbac',\n",
       " 'babbab',\n",
       " 'ababbab',\n",
       " 'ababb',\n",
       " 'ababba',\n",
       " 'c']"
      ]
     },
     "execution_count": 45,
     "metadata": {},
     "output_type": "execute_result"
    }
   ],
   "source": [
    "n = 25\n",
    "tesseract.element_names[:n]"
   ]
  },
  {
   "cell_type": "code",
   "execution_count": 46,
   "id": "4fb5157b",
   "metadata": {},
   "outputs": [
    {
     "data": {
      "text/plain": [
       "'babbab'"
      ]
     },
     "execution_count": 46,
     "metadata": {},
     "output_type": "execute_result"
    }
   ],
   "source": [
    "tesseract.add('abab', 'baba')"
   ]
  },
  {
   "cell_type": "markdown",
   "id": "e765b2e7",
   "metadata": {},
   "source": [
    "## Scratch Work"
   ]
  },
  {
   "cell_type": "code",
   "execution_count": 47,
   "id": "1963cf15",
   "metadata": {},
   "outputs": [
    {
     "name": "stdout",
     "output_type": "stream",
     "text": [
      "{\"type\": \"Group\",\r\n",
      " \"name\": \"S3\",\r\n",
      " \"description\": \"Symmetric group on 3 letters\",\r\n",
      " \"element_names\": [\"e\", \"r\", \"r^2\", \"f\", \"fr\", \"rf\"],\r\n",
      " \"addition_table\": [[0, 1, 2, 3, 4, 5],\r\n",
      "                    [1, 2, 0, 5, 3, 4],\r\n",
      "                    [2, 0, 1, 4, 5, 3],\r\n",
      "                    [3, 4, 5, 0, 1, 2],\r\n",
      "                    [4, 5, 3, 2, 0, 1],\r\n",
      "                    [5, 3, 4, 1, 2, 0]]\r\n",
      "}\r\n"
     ]
    }
   ],
   "source": [
    "!cat {s3_json}"
   ]
  },
  {
   "cell_type": "code",
   "execution_count": 48,
   "id": "e7a3005a",
   "metadata": {},
   "outputs": [
    {
     "data": {
      "text/plain": [
       "Group('S3X', 'Another version of the symmetric group on 3 letters', ['()', '(1,2)', '(2,3)', '(1,3)', '(1,2,3)', '(1,3,2)'], [[0 1 2 3 4 5]\n",
       " [1 0 4 5 2 3]\n",
       " [2 5 0 4 3 1]\n",
       " [3 4 5 0 1 2]\n",
       " [4 3 1 2 5 0]\n",
       " [5 2 3 1 0 4]]) "
      ]
     },
     "execution_count": 48,
     "metadata": {},
     "output_type": "execute_result"
    }
   ],
   "source": [
    "s3x = alg.Group(s3x_json)\n",
    "s3x"
   ]
  },
  {
   "cell_type": "code",
   "execution_count": 49,
   "id": "175eedd8",
   "metadata": {},
   "outputs": [
    {
     "data": {
      "text/plain": [
       "['()', '(1,2)', '(2,3)', '(1,3)', '(1,2,3)', '(1,3,2)']"
      ]
     },
     "execution_count": 49,
     "metadata": {},
     "output_type": "execute_result"
    }
   ],
   "source": [
    "s3x.element_names"
   ]
  },
  {
   "cell_type": "code",
   "execution_count": 50,
   "id": "fb7a331e",
   "metadata": {},
   "outputs": [
    {
     "name": "stdout",
     "output_type": "stream",
     "text": [
      "       ()    (1,2)    (2,3)    (1,3)  (1,2,3)  (1,3,2)\n",
      "    (1,2)       ()  (1,2,3)  (1,3,2)    (2,3)    (1,3)\n",
      "    (2,3)  (1,3,2)       ()  (1,2,3)    (1,3)    (1,2)\n",
      "    (1,3)  (1,2,3)  (1,3,2)       ()    (1,2)    (2,3)\n",
      "  (1,2,3)    (1,3)    (1,2)    (2,3)  (1,3,2)       ()\n",
      "  (1,3,2)    (2,3)    (1,3)    (1,2)       ()  (1,2,3)\n"
     ]
    }
   ],
   "source": [
    "s3x.pretty_print_addition_table()"
   ]
  },
  {
   "cell_type": "code",
   "execution_count": 51,
   "id": "7fd95396",
   "metadata": {},
   "outputs": [
    {
     "data": {
      "text/plain": [
       "array([[0, 1, 2, 3, 4, 5],\n",
       "       [1, 0, 4, 5, 2, 3],\n",
       "       [2, 5, 0, 4, 3, 1],\n",
       "       [3, 4, 5, 0, 1, 2],\n",
       "       [4, 3, 1, 2, 5, 0],\n",
       "       [5, 2, 3, 1, 0, 4]])"
      ]
     },
     "execution_count": 51,
     "metadata": {},
     "output_type": "execute_result"
    }
   ],
   "source": [
    "s3x.addition_table"
   ]
  },
  {
   "cell_type": "code",
   "execution_count": 52,
   "id": "cd2da122",
   "metadata": {},
   "outputs": [],
   "source": [
    "# my_array[:, [2, 0]] = my_array[:, [0, 2]]\n",
    "\n",
    "s3x.addition_table[:, [5, 4]] = s3x.addition_table[:, [4, 5]]\n",
    "s3x.addition_table[[5, 4], :] = s3x.addition_table[[4, 5], :]\n",
    "s3x.element_names[5], s3x.element_names[4] = s3x.element_names[4], s3x.element_names[5]"
   ]
  },
  {
   "cell_type": "code",
   "execution_count": 53,
   "id": "0ffc4f14",
   "metadata": {},
   "outputs": [
    {
     "data": {
      "text/plain": [
       "['()', '(1,2)', '(2,3)', '(1,3)', '(1,3,2)', '(1,2,3)']"
      ]
     },
     "execution_count": 53,
     "metadata": {},
     "output_type": "execute_result"
    }
   ],
   "source": [
    "s3x.element_names"
   ]
  },
  {
   "cell_type": "code",
   "execution_count": 54,
   "id": "3e9e520f",
   "metadata": {},
   "outputs": [
    {
     "data": {
      "text/plain": [
       "array([[0, 1, 2, 3, 5, 4],\n",
       "       [1, 0, 4, 5, 3, 2],\n",
       "       [2, 5, 0, 4, 1, 3],\n",
       "       [3, 4, 5, 0, 2, 1],\n",
       "       [5, 2, 3, 1, 4, 0],\n",
       "       [4, 3, 1, 2, 0, 5]])"
      ]
     },
     "execution_count": 54,
     "metadata": {},
     "output_type": "execute_result"
    }
   ],
   "source": [
    "s3x.addition_table"
   ]
  },
  {
   "cell_type": "code",
   "execution_count": 55,
   "id": "f4a1aed6",
   "metadata": {},
   "outputs": [
    {
     "name": "stdout",
     "output_type": "stream",
     "text": [
      "       ()    (1,2)    (2,3)    (1,3)  (1,3,2)  (1,2,3)\n",
      "    (1,2)       ()  (1,3,2)  (1,2,3)    (2,3)    (1,3)\n",
      "    (2,3)  (1,2,3)       ()  (1,3,2)    (1,3)    (1,2)\n",
      "    (1,3)  (1,3,2)  (1,2,3)       ()    (1,2)    (2,3)\n",
      "  (1,3,2)    (1,3)    (1,2)    (2,3)  (1,2,3)       ()\n",
      "  (1,2,3)    (2,3)    (1,3)    (1,2)       ()  (1,3,2)\n"
     ]
    }
   ],
   "source": [
    "s3x.pretty_print_addition_table()"
   ]
  },
  {
   "cell_type": "markdown",
   "id": "c853d13c",
   "metadata": {},
   "source": [
    "### Algebra from Pinter's book, top of page 29"
   ]
  },
  {
   "cell_type": "code",
   "execution_count": 56,
   "id": "53ee5337",
   "metadata": {},
   "outputs": [],
   "source": [
    "foo = [\"IABCDK\", \"AICBKD\", \"BKDAIC\", \"CDKIAB\", \"DCIKBA\", \"KBADCI\"]"
   ]
  },
  {
   "cell_type": "code",
   "execution_count": 57,
   "id": "5920a141",
   "metadata": {},
   "outputs": [
    {
     "data": {
      "text/plain": [
       "[['I', 'A', 'B', 'C', 'D', 'K'],\n",
       " ['A', 'I', 'C', 'B', 'K', 'D'],\n",
       " ['B', 'K', 'D', 'A', 'I', 'C'],\n",
       " ['C', 'D', 'K', 'I', 'A', 'B'],\n",
       " ['D', 'C', 'I', 'K', 'B', 'A'],\n",
       " ['K', 'B', 'A', 'D', 'C', 'I']]"
      ]
     },
     "execution_count": 57,
     "metadata": {},
     "output_type": "execute_result"
    }
   ],
   "source": [
    "table = list(map(list, foo))\n",
    "table"
   ]
  },
  {
   "cell_type": "code",
   "execution_count": 58,
   "id": "7fb72a23",
   "metadata": {},
   "outputs": [
    {
     "data": {
      "text/plain": [
       "[[0, 1, 2, 3, 4, 5],\n",
       " [1, 0, 3, 2, 5, 4],\n",
       " [2, 5, 4, 1, 0, 3],\n",
       " [3, 4, 5, 0, 1, 2],\n",
       " [4, 3, 0, 5, 2, 1],\n",
       " [5, 2, 1, 4, 3, 0]]"
      ]
     },
     "execution_count": 58,
     "metadata": {},
     "output_type": "execute_result"
    }
   ],
   "source": [
    "alg.index_table_from_name_table(table)"
   ]
  },
  {
   "cell_type": "code",
   "execution_count": 59,
   "id": "1bd3db4a",
   "metadata": {},
   "outputs": [],
   "source": [
    "foo = alg.Group(\"Test\", \"yada, yada, yada, ...\", table)"
   ]
  },
  {
   "cell_type": "code",
   "execution_count": 60,
   "id": "4b3b5a5a",
   "metadata": {},
   "outputs": [
    {
     "data": {
      "text/plain": [
       "Group('Test', 'yada, yada, yada, ...', ['I', 'A', 'B', 'C', 'D', 'K'], [[0 1 2 3 4 5]\n",
       " [1 0 3 2 5 4]\n",
       " [2 5 4 1 0 3]\n",
       " [3 4 5 0 1 2]\n",
       " [4 3 0 5 2 1]\n",
       " [5 2 1 4 3 0]]) "
      ]
     },
     "execution_count": 60,
     "metadata": {},
     "output_type": "execute_result"
    }
   ],
   "source": [
    "foo"
   ]
  },
  {
   "cell_type": "code",
   "execution_count": 61,
   "id": "f968a0f0",
   "metadata": {},
   "outputs": [
    {
     "data": {
      "text/plain": [
       "'{\"type\": \"Group\", \"name\": \"Test\", \"description\": \"yada, yada, yada, ...\", \"element_names\": [\"I\", \"A\", \"B\", \"C\", \"D\", \"K\"], \"addition_table\": [[0, 1, 2, 3, 4, 5], [1, 0, 3, 2, 5, 4], [2, 5, 4, 1, 0, 3], [3, 4, 5, 0, 1, 2], [4, 3, 0, 5, 2, 1], [5, 2, 1, 4, 3, 0]]}'"
      ]
     },
     "execution_count": 61,
     "metadata": {},
     "output_type": "execute_result"
    }
   ],
   "source": [
    "foo.dumps()"
   ]
  },
  {
   "cell_type": "code",
   "execution_count": 62,
   "id": "5eb903e4",
   "metadata": {},
   "outputs": [
    {
     "data": {
      "text/plain": [
       "Group('Non-Abelian_Example', 'Example on page 29 of 'A Book of Abstract Algebra' by Charles C. Pinter', ['I', 'A', 'B', 'C', 'D', 'K'], [[0 1 2 3 4 5]\n",
       " [1 0 3 2 5 4]\n",
       " [2 5 4 1 0 3]\n",
       " [3 4 5 0 1 2]\n",
       " [4 3 0 5 2 1]\n",
       " [5 2 1 4 3 0]]) "
      ]
     },
     "execution_count": 62,
     "metadata": {},
     "output_type": "execute_result"
    }
   ],
   "source": [
    "pinter_p29_path = os.path.join(alg_dir, \"Pinter_page_29.json\")\n",
    "pinter_p29 = alg.Group(pinter_p29_path)\n",
    "pinter_p29"
   ]
  },
  {
   "cell_type": "code",
   "execution_count": 64,
   "id": "a2efb70f",
   "metadata": {},
   "outputs": [
    {
     "name": "stdout",
     "output_type": "stream",
     "text": [
      "\n",
      "Group : Non-Abelian_Example : Example on page 29 of 'A Book of Abstract Algebra' by Charles C. Pinter\n",
      "  Element Names: ['I', 'A', 'B', 'C', 'D', 'K']\n",
      "  Is Abelian? False\n",
      "  Inverses:  (** - indicates that it is its own inverse)\n",
      "    inv(I) = I   **\n",
      "    inv(A) = A   **\n",
      "    inv(B) = D \n",
      "    inv(C) = C   **\n",
      "    inv(D) = B \n",
      "    inv(K) = K   **\n",
      "  Is associative? True\n",
      "  Cayley Table:\n",
      "    I  A  B  C  D  K\n",
      "    A  I  C  B  K  D\n",
      "    B  K  D  A  I  C\n",
      "    C  D  K  I  A  B\n",
      "    D  C  I  K  B  A\n",
      "    K  B  A  D  C  I\n"
     ]
    }
   ],
   "source": [
    "pinter_p29.print_info()"
   ]
  },
  {
   "cell_type": "markdown",
   "id": "9867feaf",
   "metadata": {},
   "source": [
    "### Check Table"
   ]
  },
  {
   "cell_type": "code",
   "execution_count": 101,
   "id": "b451e0b1",
   "metadata": {},
   "outputs": [
    {
     "data": {
      "text/plain": [
       "[1, 2, 5]"
      ]
     },
     "execution_count": 101,
     "metadata": {},
     "output_type": "execute_result"
    }
   ],
   "source": [
    "from collections import Counter\n",
    "\n",
    "def duplicates(lst):\n",
    "    return [item for item, count in Counter(lst).items() if count > 1]"
   ]
  },
  {
   "cell_type": "code",
   "execution_count": 113,
   "id": "33bbd0c9",
   "metadata": {},
   "outputs": [],
   "source": [
    "def check_addition_table(element_names, addition_table):\n",
    "    \"\"\"Check that each row and column in the table has a unique number of elements equal to the\n",
    "    expected number of elements.  Basically, each element should appear exactly once in each row\n",
    "    and each column. Returns True if the table is OK.\"\"\"\n",
    "    \n",
    "    # Check for duplicate element names\n",
    "    #element_set = set(element_names)\n",
    "    dups = duplicates(element_names)\n",
    "    if len(dups) == 0:\n",
    "        pass\n",
    "    else:\n",
    "        raise ValueError(f\"Duplicate element names: {dups}\")\n",
    "\n",
    "    # Check that table is square and has same dimensions as elements list\n",
    "    num_elements = len(element_names)\n",
    "    rows, cols = addition_table.shape\n",
    "    if (num_elements == rows == cols):\n",
    "        pass\n",
    "    else:\n",
    "        raise ValueError(f\"ERROR: # of elements, {num_elements}, & table shape, {rows}x{cols}, don't match\")\n",
    "\n",
    "    # Check that each table row contains the correct values for a Cayley table\n",
    "    correct_indices = set(range(num_elements))  # {0, 1, 2, ..., n-1}\n",
    "    row_number = -1\n",
    "    for row in addition_table:\n",
    "        row_number += 1\n",
    "        if not (set(row) == correct_indices):\n",
    "            if verbose:\n",
    "                print(f\"A row {row_number} does not contain the correct values for a Cayley table\")\n",
    "            return False\n",
    "\n",
    "    # Check that each table col contains the correct values for a Cayley table\n",
    "    for col_number in range(num_elements):\n",
    "        if not (set(addition_table[:, col_number]) == correct_indices):\n",
    "            if verbose:\n",
    "                print(f\"A column {col_number} does not contain the correct values for a Cayley table\")\n",
    "            return False\n",
    "\n",
    "    return True"
   ]
  },
  {
   "cell_type": "code",
   "execution_count": 114,
   "id": "7be1f83e",
   "metadata": {},
   "outputs": [
    {
     "data": {
      "text/plain": [
       "True"
      ]
     },
     "execution_count": 114,
     "metadata": {},
     "output_type": "execute_result"
    }
   ],
   "source": [
    "# Everything is OK for this case\n",
    "check_addition_table(['()', '(1,2)', '(2,3)', '(1,3)', '(1,2,3)', '(1,3,2)'],\n",
    "                     np.array([[0, 1, 2, 3, 4, 5],\n",
    "                               [1, 0, 4, 5, 2, 3],\n",
    "                               [2, 5, 0, 4, 3, 1],\n",
    "                               [3, 4, 5, 0, 1, 2],\n",
    "                               [4, 3, 1, 2, 5, 0],\n",
    "                               [5, 2, 3, 1, 0, 4]]\n",
    "                             )\n",
    "                    )"
   ]
  },
  {
   "cell_type": "code",
   "execution_count": 115,
   "id": "f94bcbb7",
   "metadata": {},
   "outputs": [
    {
     "ename": "ValueError",
     "evalue": "Duplicate element names: ['(1,3,2)']",
     "output_type": "error",
     "traceback": [
      "\u001b[0;31m---------------------------------------------------------------------------\u001b[0m",
      "\u001b[0;31mValueError\u001b[0m                                Traceback (most recent call last)",
      "\u001b[0;32m<ipython-input-115-dc5c23632485>\u001b[0m in \u001b[0;36m<module>\u001b[0;34m\u001b[0m\n\u001b[1;32m      6\u001b[0m                                \u001b[0;34m[\u001b[0m\u001b[0;36m3\u001b[0m\u001b[0;34m,\u001b[0m \u001b[0;36m4\u001b[0m\u001b[0;34m,\u001b[0m \u001b[0;36m5\u001b[0m\u001b[0;34m,\u001b[0m \u001b[0;36m0\u001b[0m\u001b[0;34m,\u001b[0m \u001b[0;36m1\u001b[0m\u001b[0;34m,\u001b[0m \u001b[0;36m2\u001b[0m\u001b[0;34m]\u001b[0m\u001b[0;34m,\u001b[0m\u001b[0;34m\u001b[0m\u001b[0;34m\u001b[0m\u001b[0m\n\u001b[1;32m      7\u001b[0m                                \u001b[0;34m[\u001b[0m\u001b[0;36m4\u001b[0m\u001b[0;34m,\u001b[0m \u001b[0;36m3\u001b[0m\u001b[0;34m,\u001b[0m \u001b[0;36m1\u001b[0m\u001b[0;34m,\u001b[0m \u001b[0;36m2\u001b[0m\u001b[0;34m,\u001b[0m \u001b[0;36m5\u001b[0m\u001b[0;34m,\u001b[0m \u001b[0;36m0\u001b[0m\u001b[0;34m]\u001b[0m\u001b[0;34m,\u001b[0m\u001b[0;34m\u001b[0m\u001b[0;34m\u001b[0m\u001b[0m\n\u001b[0;32m----> 8\u001b[0;31m                                [5, 2, 3, 1, 0, 4]]\n\u001b[0m\u001b[1;32m      9\u001b[0m                              )\n\u001b[1;32m     10\u001b[0m                     )\n",
      "\u001b[0;32m<ipython-input-113-8a557ec5b383>\u001b[0m in \u001b[0;36mcheck_addition_table\u001b[0;34m(element_names, addition_table)\u001b[0m\n\u001b[1;32m     10\u001b[0m         \u001b[0;32mpass\u001b[0m\u001b[0;34m\u001b[0m\u001b[0;34m\u001b[0m\u001b[0m\n\u001b[1;32m     11\u001b[0m     \u001b[0;32melse\u001b[0m\u001b[0;34m:\u001b[0m\u001b[0;34m\u001b[0m\u001b[0;34m\u001b[0m\u001b[0m\n\u001b[0;32m---> 12\u001b[0;31m         \u001b[0;32mraise\u001b[0m \u001b[0mValueError\u001b[0m\u001b[0;34m(\u001b[0m\u001b[0;34mf\"Duplicate element names: {dups}\"\u001b[0m\u001b[0;34m)\u001b[0m\u001b[0;34m\u001b[0m\u001b[0;34m\u001b[0m\u001b[0m\n\u001b[0m\u001b[1;32m     13\u001b[0m \u001b[0;34m\u001b[0m\u001b[0m\n\u001b[1;32m     14\u001b[0m     \u001b[0;31m# Check that table is square and has same dimensions as elements list\u001b[0m\u001b[0;34m\u001b[0m\u001b[0;34m\u001b[0m\u001b[0;34m\u001b[0m\u001b[0m\n",
      "\u001b[0;31mValueError\u001b[0m: Duplicate element names: ['(1,3,2)']"
     ]
    }
   ],
   "source": [
    "# Duplicate element names\n",
    "check_addition_table(['()', '(1,2)', '(2,3)', '(1,3)', '(1,3,2)', '(1,3,2)'],\n",
    "                     np.array([[0, 1, 2, 3, 4, 5],\n",
    "                               [1, 0, 4, 5, 2, 3],\n",
    "                               [2, 5, 0, 4, 3, 1],\n",
    "                               [3, 4, 5, 0, 1, 2],\n",
    "                               [4, 3, 1, 2, 5, 0],\n",
    "                               [5, 2, 3, 1, 0, 4]]\n",
    "                             )\n",
    "                    )"
   ]
  },
  {
   "cell_type": "code",
   "execution_count": 116,
   "id": "b03c1aa4",
   "metadata": {},
   "outputs": [
    {
     "ename": "ValueError",
     "evalue": "ERROR: # of elements, 7, & table shape, 6x6, don't match",
     "output_type": "error",
     "traceback": [
      "\u001b[0;31m---------------------------------------------------------------------------\u001b[0m",
      "\u001b[0;31mValueError\u001b[0m                                Traceback (most recent call last)",
      "\u001b[0;32m<ipython-input-116-d99ef52c182c>\u001b[0m in \u001b[0;36m<module>\u001b[0;34m\u001b[0m\n\u001b[1;32m      6\u001b[0m                                \u001b[0;34m[\u001b[0m\u001b[0;36m3\u001b[0m\u001b[0;34m,\u001b[0m \u001b[0;36m4\u001b[0m\u001b[0;34m,\u001b[0m \u001b[0;36m5\u001b[0m\u001b[0;34m,\u001b[0m \u001b[0;36m0\u001b[0m\u001b[0;34m,\u001b[0m \u001b[0;36m1\u001b[0m\u001b[0;34m,\u001b[0m \u001b[0;36m2\u001b[0m\u001b[0;34m]\u001b[0m\u001b[0;34m,\u001b[0m\u001b[0;34m\u001b[0m\u001b[0;34m\u001b[0m\u001b[0m\n\u001b[1;32m      7\u001b[0m                                \u001b[0;34m[\u001b[0m\u001b[0;36m4\u001b[0m\u001b[0;34m,\u001b[0m \u001b[0;36m3\u001b[0m\u001b[0;34m,\u001b[0m \u001b[0;36m1\u001b[0m\u001b[0;34m,\u001b[0m \u001b[0;36m2\u001b[0m\u001b[0;34m,\u001b[0m \u001b[0;36m5\u001b[0m\u001b[0;34m,\u001b[0m \u001b[0;36m0\u001b[0m\u001b[0;34m]\u001b[0m\u001b[0;34m,\u001b[0m\u001b[0;34m\u001b[0m\u001b[0;34m\u001b[0m\u001b[0m\n\u001b[0;32m----> 8\u001b[0;31m                                [5, 2, 3, 1, 0, 4]]\n\u001b[0m\u001b[1;32m      9\u001b[0m                              )\n\u001b[1;32m     10\u001b[0m                     )\n",
      "\u001b[0;32m<ipython-input-113-8a557ec5b383>\u001b[0m in \u001b[0;36mcheck_addition_table\u001b[0;34m(element_names, addition_table)\u001b[0m\n\u001b[1;32m     18\u001b[0m         \u001b[0;32mpass\u001b[0m\u001b[0;34m\u001b[0m\u001b[0;34m\u001b[0m\u001b[0m\n\u001b[1;32m     19\u001b[0m     \u001b[0;32melse\u001b[0m\u001b[0;34m:\u001b[0m\u001b[0;34m\u001b[0m\u001b[0;34m\u001b[0m\u001b[0m\n\u001b[0;32m---> 20\u001b[0;31m         \u001b[0;32mraise\u001b[0m \u001b[0mValueError\u001b[0m\u001b[0;34m(\u001b[0m\u001b[0;34mf\"ERROR: # of elements, {num_elements}, & table shape, {rows}x{cols}, don't match\"\u001b[0m\u001b[0;34m)\u001b[0m\u001b[0;34m\u001b[0m\u001b[0;34m\u001b[0m\u001b[0m\n\u001b[0m\u001b[1;32m     21\u001b[0m \u001b[0;34m\u001b[0m\u001b[0m\n\u001b[1;32m     22\u001b[0m     \u001b[0;31m# Check that each table row contains the correct values for a Cayley table\u001b[0m\u001b[0;34m\u001b[0m\u001b[0;34m\u001b[0m\u001b[0;34m\u001b[0m\u001b[0m\n",
      "\u001b[0;31mValueError\u001b[0m: ERROR: # of elements, 7, & table shape, 6x6, don't match"
     ]
    }
   ],
   "source": [
    "# Too many elements in element list\n",
    "check_addition_table(['()', '(1,2)', '(2,3)', '(1,3)', '(1,2,3)', '(1,3,2)', 'FUBAR'],\n",
    "                     np.array([[0, 1, 2, 3, 4, 5],\n",
    "                               [1, 0, 4, 5, 2, 3],\n",
    "                               [2, 5, 0, 4, 3, 1],\n",
    "                               [3, 4, 5, 0, 1, 2],\n",
    "                               [4, 3, 1, 2, 5, 0],\n",
    "                               [5, 2, 3, 1, 0, 4]]\n",
    "                             )\n",
    "                    )"
   ]
  },
  {
   "cell_type": "code",
   "execution_count": 71,
   "id": "154d55f1",
   "metadata": {},
   "outputs": [
    {
     "name": "stdout",
     "output_type": "stream",
     "text": [
      "ERROR: Number of elements, 5, and table shape, 6x6, don't match\n"
     ]
    },
    {
     "data": {
      "text/plain": [
       "False"
      ]
     },
     "execution_count": 71,
     "metadata": {},
     "output_type": "execute_result"
    }
   ],
   "source": [
    "# Too few elements in element list\n",
    "check_addition_table(['()', '(1,2)', '(2,3)', '(1,3)', '(1,2,3)'],\n",
    "                     np.array([[0, 1, 2, 3, 4, 5],\n",
    "                               [1, 0, 4, 5, 2, 3],\n",
    "                               [2, 5, 0, 4, 3, 1],\n",
    "                               [3, 4, 5, 0, 1, 2],\n",
    "                               [4, 3, 1, 2, 5, 0],\n",
    "                               [5, 2, 3, 1, 0, 4]]\n",
    "                             )\n",
    "                    )"
   ]
  },
  {
   "cell_type": "code",
   "execution_count": 72,
   "id": "d5054a88",
   "metadata": {},
   "outputs": [
    {
     "name": "stdout",
     "output_type": "stream",
     "text": [
      "A row 2 does not contain the correct values for a Cayley table\n"
     ]
    },
    {
     "data": {
      "text/plain": [
       "False"
      ]
     },
     "execution_count": 72,
     "metadata": {},
     "output_type": "execute_result"
    }
   ],
   "source": [
    "# Duplicate index number in row 2\n",
    "check_addition_table(['()', '(1,2)', '(2,3)', '(1,3)', '(1,2,3)', '(1,3,2)'],\n",
    "                     np.array([[0, 1, 2, 3, 4, 5],\n",
    "                               [1, 0, 4, 5, 2, 3],\n",
    "                               [2, 5, 0, 4, 0, 1],  # Second 0 should be a 3\n",
    "                               [3, 4, 5, 0, 1, 2],\n",
    "                               [4, 3, 1, 2, 5, 0],\n",
    "                               [5, 2, 3, 1, 0, 4]]\n",
    "                             )\n",
    "                    )"
   ]
  },
  {
   "cell_type": "code",
   "execution_count": 73,
   "id": "387d2f08",
   "metadata": {},
   "outputs": [
    {
     "name": "stdout",
     "output_type": "stream",
     "text": [
      "ERROR: Number of elements, 6, and table shape, 5x6, don't match\n"
     ]
    },
    {
     "data": {
      "text/plain": [
       "False"
      ]
     },
     "execution_count": 73,
     "metadata": {},
     "output_type": "execute_result"
    }
   ],
   "source": [
    "# Missing row\n",
    "check_addition_table(['()', '(1,2)', '(2,3)', '(1,3)', '(1,2,3)', '(1,3,2)'],\n",
    "                     np.array([[0, 1, 2, 3, 4, 5],\n",
    "                               [1, 0, 4, 5, 2, 3],\n",
    "                               #[2, 5, 0, 4, 3, 1],\n",
    "                               [3, 4, 5, 0, 1, 2],\n",
    "                               [4, 3, 1, 2, 5, 0],\n",
    "                               [5, 2, 3, 1, 0, 4]]\n",
    "                             )\n",
    "                    )"
   ]
  },
  {
   "cell_type": "code",
   "execution_count": 74,
   "id": "11f6bf7c",
   "metadata": {},
   "outputs": [
    {
     "name": "stdout",
     "output_type": "stream",
     "text": [
      "ERROR: Number of elements, 6, and table shape, 7x6, don't match\n"
     ]
    },
    {
     "data": {
      "text/plain": [
       "False"
      ]
     },
     "execution_count": 74,
     "metadata": {},
     "output_type": "execute_result"
    }
   ],
   "source": [
    "# Extra row\n",
    "check_addition_table(['()', '(1,2)', '(2,3)', '(1,3)', '(1,2,3)', '(1,3,2)'],\n",
    "                     np.array([[0, 1, 2, 3, 4, 5],\n",
    "                               [1, 0, 4, 5, 2, 3],\n",
    "                               [2, 5, 0, 4, 3, 1],\n",
    "                               [3, 4, 5, 0, 1, 2],\n",
    "                               [3, 4, 5, 0, 1, 2],\n",
    "                               [4, 3, 1, 2, 5, 0],\n",
    "                               [5, 2, 3, 1, 0, 4]]\n",
    "                             )\n",
    "                    )"
   ]
  },
  {
   "cell_type": "code",
   "execution_count": 75,
   "id": "27c60f20",
   "metadata": {},
   "outputs": [
    {
     "name": "stdout",
     "output_type": "stream",
     "text": [
      "ERROR: Number of elements, 6, and table shape, 6x5, don't match\n"
     ]
    },
    {
     "data": {
      "text/plain": [
       "False"
      ]
     },
     "execution_count": 75,
     "metadata": {},
     "output_type": "execute_result"
    }
   ],
   "source": [
    "# Missing column\n",
    "check_addition_table(['()', '(1,2)', '(2,3)', '(1,3)', '(1,2,3)', '(1,3,2)'],\n",
    "                     np.array([[0, 1, 2, 4, 5],\n",
    "                               [1, 0, 4, 2, 3],\n",
    "                               [2, 5, 0, 3, 1],\n",
    "                               [3, 4, 5, 1, 2],\n",
    "                               [4, 3, 1, 5, 0],\n",
    "                               [5, 2, 3, 0, 4]]\n",
    "                             )\n",
    "                    )"
   ]
  },
  {
   "cell_type": "code",
   "execution_count": 76,
   "id": "ad6e8916",
   "metadata": {},
   "outputs": [
    {
     "name": "stdout",
     "output_type": "stream",
     "text": [
      "A row 2 does not contain the correct values for a Cayley table\n"
     ]
    },
    {
     "data": {
      "text/plain": [
       "False"
      ]
     },
     "execution_count": 76,
     "metadata": {},
     "output_type": "execute_result"
    }
   ],
   "source": [
    "# Invalid entry in table\n",
    "check_addition_table(['()', '(1,2)', '(2,3)', '(1,3)', '(1,2,3)', '(1,3,2)'],\n",
    "                     np.array([[0, 1, 2, 3, 4, 5],\n",
    "                               [1, 0, 4, 5, 2, 3],\n",
    "                               [2, 5, 0, 444, 3, 1],  # Invalid value here\n",
    "                               [3, 4, 5, 0, 1, 2],\n",
    "                               [4, 3, 1, 2, 5, 0],\n",
    "                               [5, 2, 3, 1, 0, 4]]\n",
    "                             )\n",
    "                    )"
   ]
  },
  {
   "cell_type": "code",
   "execution_count": 77,
   "id": "49c0ef17",
   "metadata": {},
   "outputs": [
    {
     "name": "stdout",
     "output_type": "stream",
     "text": [
      "A column 1 does not contain the correct values for a Cayley table\n"
     ]
    },
    {
     "data": {
      "text/plain": [
       "False"
      ]
     },
     "execution_count": 77,
     "metadata": {},
     "output_type": "execute_result"
    }
   ],
   "source": [
    "# Everything is OK for this case\n",
    "check_addition_table(['()', '(1,2)', '(2,3)', '(1,3)', '(1,2,3)', '(1,3,2)'],\n",
    "                     np.array([[0, 1, 2, 3, 4, 5],\n",
    "                               [1, 0, 4, 5, 2, 3],\n",
    "                               [2, 4, 0, 5, 3, 1],  # Items 1 & 3 switched here\n",
    "                               [3, 4, 5, 0, 1, 2],\n",
    "                               [4, 3, 1, 2, 5, 0],\n",
    "                               [5, 2, 3, 1, 0, 4]]\n",
    "                             )\n",
    "                    )"
   ]
  },
  {
   "cell_type": "code",
   "execution_count": null,
   "id": "5351c951",
   "metadata": {},
   "outputs": [],
   "source": []
  }
 ],
 "metadata": {
  "kernelspec": {
   "display_name": "Python 3",
   "language": "python",
   "name": "python3"
  },
  "language_info": {
   "codemirror_mode": {
    "name": "ipython",
    "version": 3
   },
   "file_extension": ".py",
   "mimetype": "text/x-python",
   "name": "python",
   "nbconvert_exporter": "python",
   "pygments_lexer": "ipython3",
   "version": "3.7.7"
  }
 },
 "nbformat": 4,
 "nbformat_minor": 5
}
