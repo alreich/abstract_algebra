{
 "cells": [
  {
   "cell_type": "markdown",
   "id": "c2fcbe98-df46-4a4b-8728-c0450e97a9f8",
   "metadata": {},
   "source": [
    "# The Cayley-Dickson Construction"
   ]
  },
  {
   "cell_type": "markdown",
   "id": "ac31aed3-8326-40bc-8013-ed2e0bec5bc9",
   "metadata": {},
   "source": [
    "## References"
   ]
  },
  {
   "cell_type": "markdown",
   "id": "1aaed511-3643-4cc6-9af5-c526309183a3",
   "metadata": {},
   "source": [
    "* [Baez 19??] ...TO DO...\n",
    "* [Reich 2024] This document. (I haven't found another reference, yet, for the Theorem stated below.)\n",
    "* [Schafer 1953] ...TO DO...\n",
    "* [Schafer 1966] \"An Introduction to Nonassociative Algebras\", Schafer, R. D., Academic Press, 1966. ([or see the 1961 version](https://www.gutenberg.org/ebooks/25156))"
   ]
  },
  {
   "cell_type": "markdown",
   "id": "69374be9-d816-48f7-a25d-877709ba612f",
   "metadata": {},
   "source": [
    "## Definitions"
   ]
  },
  {
   "cell_type": "markdown",
   "id": "faff0b12-b56c-4f88-aaa4-57cde504cd26",
   "metadata": {},
   "source": [
    "The [Cayley-Dickson construction](https://en.wikipedia.org/wiki/Cayley%E2%80%93Dickson_construction) begins with a <i>base</i> algebra, $A$, usually a ring or field, from which another algebra, $\\mathscr{C}(A)$, is derived, with compound elements, identical to those found in the direct product of $A$ with itself. And, like direct products, addition is defined element-wise, but multiplication is defined similar to complex number multiplication, as described in Definition 1, below. The description is \"simplified\" because it does not use conjugation anywhere. Conjugation is defined and used in the definitions that follow this one.\n",
    "\n",
    "> **Definition 1: Cayley-Dickson Algebra (CDA) - Simplified Version (no conjugation)**\n",
    "> \n",
    "> Let $A = \\langle S, +, \\cdot \\rangle$ be a ring and let $T = S \\times S$ (i.e., the cross-product of $S$ with itself).\n",
    "> \n",
    "> Then, define the algebra, $\\mathscr{C}(A) \\equiv \\langle T, \\oplus, \\odot \\rangle$,\n",
    "> \n",
    "> where $\\forall (a,b),(c,d) \\in T$,\n",
    "> \n",
    "> $(a,b) \\oplus (c,d) \\equiv (a + c, b + d)$\n",
    "> \n",
    "> $(a,b) \\odot (c,d) \\equiv (a \\cdot c - b \\cdot d, a \\cdot d + b \\cdot c)$\n",
    "\n",
    "So, for example, if we apply the Cayley-Dickson construction to the field of real numbers, $\\mathbb{R}$, we obtain the algebra of **complex numbers**, $\\mathscr{C}(\\mathbb{R}) \\equiv \\mathbb{C}$.\n",
    " \n",
    "The Cayley-Dickson Algebra (CDA) constructor, $\\mathscr{C}$, can be applied to another CDA, multiple times, as described in Definition 2.\n",
    "\n",
    "> **Definition 2: CDA Constructor**\n",
    "> \n",
    "> Let $k \\in Z^+$ and $\\mathscr{C}^0(A) \\equiv A$,\n",
    "> \n",
    "> then $\\mathscr{C}^k(A) \\equiv \\mathscr{C}(\\mathscr{C}^{k-1}(A))$,\n",
    "\n",
    "So, for example, $\\mathscr{C}^2(\\mathbb{R}) \\equiv \\mathscr{C}(\\mathbb{C}) \\equiv \\mathbb{H}$ is the algebra of **quaternions**, and $\\mathscr{C}^3(\\mathbb{R}) \\equiv \\mathbb{O}$ is the algebra of **octonions**."
   ]
  },
  {
   "cell_type": "markdown",
   "id": "99cb115b-d9e8-43d6-9efd-2719160ae4a7",
   "metadata": {},
   "source": [
    "In many papers on the subject, a generalization of complex multiplication is used, instead of the multiplication described in Definition 1. And, there are multiple, different versions of the generalization. Two versions are described below in Definitions 3, 4, & 5; and there are more in the literature, e.g., [Baez ????]. But, much of the open literature on the subject references one of the two versions below.\n",
    "\n",
    "All of the generalizations begin with a common, recursive definition of <i>conjugation</i>, described in Definition 3.\n",
    "\n",
    "> **Definition 3: Conjugation**\n",
    "> \n",
    "> The **conjugate** of an algebraic element, $r$, is denoted by $\\overline{r}$, and defined recursively as follows:\n",
    "> \n",
    "> For $a \\in A$, the base algebra, let $\\overline{a} \\equiv a$.\n",
    "> \n",
    "> Then, let $k \\in Z^+$; $p,q \\in \\mathscr{C}^{k-1}(A)$; and $(p,q) \\in \\mathscr{C}^k(A)$,\n",
    "> \n",
    "> and define $\\overline{(p, q)} \\equiv (\\overline{p}, -q)$\n",
    "\n",
    "In **Shafer (1966)**, the generalization of CDA multiplication is defined as shown in Definition 4.\n",
    "\n",
    "> **Definition 4: CDA Multiplication in [Schafer 1966]**\n",
    "> \n",
    "> Let $k \\in Z^+$; $a,b,c,d,\\mu \\in \\mathscr{C}^{k-1}(A)$; and $\\mu \\neq 0$,\n",
    "> \n",
    "> then define multiplication for $(a,b), (c,d) \\in \\mathscr{C}^k(A)$ as\n",
    ">\n",
    "> $(a, b) \\odot (c, d) = (a \\cdot c + \\mu \\cdot d \\cdot \\overline{b}, \\overline{a} \\cdot d + c \\cdot b)$\n",
    "\n",
    "In **Shafer (1953)**, a different generalization of multiplication is given in Definition 5.\n",
    "\n",
    "> **Definition 5: CDA Multiplication in [Schafer 1953]**\n",
    "> \n",
    "> $(a, b) \\odot (c, d) = (a \\cdot c + \\mu \\cdot \\overline{d} \\cdot b, d \\cdot a + b \\cdot \\overline{c})$"
   ]
  },
  {
   "cell_type": "markdown",
   "id": "12d07933-906f-4bd7-abb0-3addebc0ff60",
   "metadata": {},
   "source": [
    "## Finite Cayley-Dickson Algebras"
   ]
  },
  {
   "cell_type": "markdown",
   "id": "432810c1-147e-46dc-a899-a67c334bbd7b",
   "metadata": {},
   "source": [
    "The Cayley-Dickson constructor, $\\mathscr{C}$, defined above, can also be applied to finite rings or fields.\n",
    "\n",
    "An interesting result regarding the application of the Cayley-Dickson construction to a finite field is stated in the Theorem below.\n",
    "\n",
    "> **Theorem [Reich 2024]**\n",
    "> \n",
    "> Let $F_n$ be a finite field of order $n$, where $n$ is a [Gaussian prime](https://mathworld.wolfram.com/GaussianPrime.html),\n",
    "> \n",
    "> then $\\mathscr{C}(F_n)$ will be a finite **field** of order $n^2$,\n",
    "> \n",
    "> otherwise $\\mathscr{C}(F_n)$ will be a finite ring."
   ]
  },
  {
   "cell_type": "markdown",
   "id": "7b79999a",
   "metadata": {},
   "source": [
    "## Examples"
   ]
  },
  {
   "cell_type": "code",
   "execution_count": 1,
   "id": "68cea7ff",
   "metadata": {},
   "outputs": [],
   "source": [
    "import finite_algebras as alg"
   ]
  },
  {
   "cell_type": "markdown",
   "id": "d10a40b9-9f4e-4015-b63f-0ee8a86e174e",
   "metadata": {},
   "source": [
    "Since each application of the Cayley-Dickson construction doubles the number of elements of its base algebra, repeated applications of the construction can result in much larger algebras, so the examples in this section will be restricted to small base rings & fields.\n",
    "\n",
    "The ``finite_algebras`` function, ``generate_algebra_mod_n``, will generate a ring or field based on integer addition and multiplication modulo n. If n is prime, then result will be a field, otherwise it will be a ring.\n",
    "\n",
    "Since 3 is a Gaussian prime, the following field of integers modulo 3 will give us an opportunity to test the theorem stated above."
   ]
  },
  {
   "cell_type": "code",
   "execution_count": 2,
   "id": "ca65c982-d7ca-41a3-9c84-5b2491ea5db2",
   "metadata": {},
   "outputs": [
    {
     "name": "stdout",
     "output_type": "stream",
     "text": [
      "\n",
      "** Field **\n",
      "Name: F3\n",
      "Instance ID: 4641468240\n",
      "Description: Autogenerated Field of integers mod 3\n",
      "Order: 3\n",
      "Identity: '0'\n",
      "Commutative? Yes\n",
      "Cyclic?: Yes\n",
      "  Generators: ['1', '2']\n",
      "Elements:\n",
      "   Index   Name   Inverse  Order\n",
      "      0     '0'     '0'       1\n",
      "      1     '1'     '2'       3\n",
      "      2     '2'     '1'       3\n",
      "Cayley Table (showing indices):\n",
      "[[0, 1, 2], [1, 2, 0], [2, 0, 1]]\n",
      "Mult. Identity: '1'\n",
      "Mult. Commutative? Yes\n",
      "Zero Divisors: None\n",
      "Multiplicative Cayley Table (showing indices):\n",
      "[[0, 0, 0], [0, 1, 2], [0, 2, 1]]\n"
     ]
    }
   ],
   "source": [
    "F3 = alg.generate_algebra_mod_n(3)\n",
    "F3.about()"
   ]
  },
  {
   "cell_type": "markdown",
   "id": "2dbc8a4a-f711-486e-a0c9-b8bdbfcc987b",
   "metadata": {},
   "source": [
    "The ``Ring`` method ``make_cayley_dickson_algebra`` applies the Cayley-Dickson (CD) construction to a ring or field.\n",
    "\n",
    "It's help documentation is shown below."
   ]
  },
  {
   "cell_type": "code",
   "execution_count": 3,
   "id": "cc30e39f-ba71-4c1f-b169-7e471f80bca0",
   "metadata": {},
   "outputs": [
    {
     "name": "stdout",
     "output_type": "stream",
     "text": [
      "Help on method make_cayley_dickson_algebra in module finite_algebras:\n",
      "\n",
      "make_cayley_dickson_algebra(mu=None, version=1) method of finite_algebras.Field instance\n",
      "    Constructs the Cayley-Dickson algebra using this Ring.\n",
      "    \n",
      "    Several different versions of multiplication are supported:\n",
      "    version=1: (DEFAULT) No mu & no conjugation are used;\n",
      "    version=2: Definition in Schafer, 1966;\n",
      "    version=3: Definition in Schafer, 1953.\n",
      "    \n",
      "    See the documentation on readthedocs for more information regarding versions.\n",
      "    \n",
      "    Also, if mu is None (the default), then mu will be automatically set to be the\n",
      "    additive inverse of the Ring's multiplicative identity element (i.e., \"-1\"),\n",
      "    if it exists. If it does not exist, then version 1 will be used, regardless of\n",
      "    the requested version.\n",
      "\n"
     ]
    }
   ],
   "source": [
    "help(F3.make_cayley_dickson_algebra)"
   ]
  },
  {
   "cell_type": "code",
   "execution_count": 11,
   "id": "b2ac70d1-b323-48e3-aa3a-df4d11d0ba8b",
   "metadata": {},
   "outputs": [
    {
     "name": "stdout",
     "output_type": "stream",
     "text": [
      "\n",
      "** Field **\n",
      "Name: F3_CDA\n",
      "Instance ID: 4654738384\n",
      "Description: Cayley-Dickson algebra based on F3, where no mu and no conjugation were used.\n",
      "Order: 9\n",
      "Identity: '0:0'\n",
      "Commutative? Yes\n",
      "Cyclic?: Yes\n",
      "  Generators: ['0:1', '0:2', '1:1', '1:2', '2:1', '2:2']\n",
      "Elements:\n",
      "   Index   Name   Inverse  Order\n",
      "      0   '0:0'   '0:0'       1\n",
      "      1   '0:1'   '0:2'       3\n",
      "      2   '0:2'   '0:1'       3\n",
      "      3   '1:0'   '2:0'       3\n",
      "      4   '1:1'   '2:2'       3\n",
      "      5   '1:2'   '2:1'       3\n",
      "      6   '2:0'   '1:0'       3\n",
      "      7   '2:1'   '1:2'       3\n",
      "      8   '2:2'   '1:1'       3\n",
      "Cayley Table (showing indices):\n",
      "[[0, 1, 2, 3, 4, 5, 6, 7, 8],\n",
      " [1, 2, 0, 4, 5, 3, 7, 8, 6],\n",
      " [2, 0, 1, 5, 3, 4, 8, 6, 7],\n",
      " [3, 4, 5, 6, 7, 8, 0, 1, 2],\n",
      " [4, 5, 3, 7, 8, 6, 1, 2, 0],\n",
      " [5, 3, 4, 8, 6, 7, 2, 0, 1],\n",
      " [6, 7, 8, 0, 1, 2, 3, 4, 5],\n",
      " [7, 8, 6, 1, 2, 0, 4, 5, 3],\n",
      " [8, 6, 7, 2, 0, 1, 5, 3, 4]]\n",
      "Mult. Identity: '1:0'\n",
      "Mult. Commutative? Yes\n",
      "Zero Divisors: None\n",
      "Multiplicative Cayley Table (showing indices):\n",
      "[[0, 0, 0, 0, 0, 0, 0, 0, 0],\n",
      " [0, 6, 3, 1, 7, 4, 2, 8, 5],\n",
      " [0, 3, 6, 2, 5, 8, 1, 4, 7],\n",
      " [0, 1, 2, 3, 4, 5, 6, 7, 8],\n",
      " [0, 7, 5, 4, 2, 6, 8, 3, 1],\n",
      " [0, 4, 8, 5, 6, 1, 7, 2, 3],\n",
      " [0, 2, 1, 6, 8, 7, 3, 5, 4],\n",
      " [0, 8, 4, 7, 3, 2, 5, 1, 6],\n",
      " [0, 5, 7, 8, 1, 3, 4, 6, 2]]\n",
      "Conjugate Mapping: {'0:0': '0:0', '0:1': '0:2', '0:2': '0:1', '1:0': '1:0', '1:1': '1:2', '1:2': '1:1', '2:0': '2:0', '2:1': '2:2', '2:2': '2:1'}\n"
     ]
    }
   ],
   "source": [
    "F3cda = F3.make_cayley_dickson_algebra()\n",
    "F3cda.about()"
   ]
  },
  {
   "cell_type": "code",
   "execution_count": 12,
   "id": "8d10606b-524e-4f3b-a53a-b14aa22d67aa",
   "metadata": {},
   "outputs": [
    {
     "name": "stdout",
     "output_type": "stream",
     "text": [
      "\n",
      "** Field **\n",
      "Name: F3_CDA66\n",
      "Instance ID: 4654762000\n",
      "Description: Cayley-Dickson algebra based on F3, where mu = 2, Schafer 1966 version.\n",
      "Order: 9\n",
      "Identity: '0:0'\n",
      "Commutative? Yes\n",
      "Cyclic?: Yes\n",
      "  Generators: ['0:1', '0:2', '1:1', '1:2', '2:1', '2:2']\n",
      "Elements:\n",
      "   Index   Name   Inverse  Order\n",
      "      0   '0:0'   '0:0'       1\n",
      "      1   '0:1'   '0:2'       3\n",
      "      2   '0:2'   '0:1'       3\n",
      "      3   '1:0'   '2:0'       3\n",
      "      4   '1:1'   '2:2'       3\n",
      "      5   '1:2'   '2:1'       3\n",
      "      6   '2:0'   '1:0'       3\n",
      "      7   '2:1'   '1:2'       3\n",
      "      8   '2:2'   '1:1'       3\n",
      "Cayley Table (showing indices):\n",
      "[[0, 1, 2, 3, 4, 5, 6, 7, 8],\n",
      " [1, 2, 0, 4, 5, 3, 7, 8, 6],\n",
      " [2, 0, 1, 5, 3, 4, 8, 6, 7],\n",
      " [3, 4, 5, 6, 7, 8, 0, 1, 2],\n",
      " [4, 5, 3, 7, 8, 6, 1, 2, 0],\n",
      " [5, 3, 4, 8, 6, 7, 2, 0, 1],\n",
      " [6, 7, 8, 0, 1, 2, 3, 4, 5],\n",
      " [7, 8, 6, 1, 2, 0, 4, 5, 3],\n",
      " [8, 6, 7, 2, 0, 1, 5, 3, 4]]\n",
      "Mult. Identity: '1:0'\n",
      "Mult. Commutative? Yes\n",
      "Zero Divisors: None\n",
      "Multiplicative Cayley Table (showing indices):\n",
      "[[0, 0, 0, 0, 0, 0, 0, 0, 0],\n",
      " [0, 6, 3, 1, 7, 4, 2, 8, 5],\n",
      " [0, 3, 6, 2, 5, 8, 1, 4, 7],\n",
      " [0, 1, 2, 3, 4, 5, 6, 7, 8],\n",
      " [0, 7, 5, 4, 2, 6, 8, 3, 1],\n",
      " [0, 4, 8, 5, 6, 1, 7, 2, 3],\n",
      " [0, 2, 1, 6, 8, 7, 3, 5, 4],\n",
      " [0, 8, 4, 7, 3, 2, 5, 1, 6],\n",
      " [0, 5, 7, 8, 1, 3, 4, 6, 2]]\n",
      "Conjugate Mapping: {'0:0': '0:0', '0:1': '0:2', '0:2': '0:1', '1:0': '1:0', '1:1': '1:2', '1:2': '1:1', '2:0': '2:0', '2:1': '2:2', '2:2': '2:1'}\n"
     ]
    }
   ],
   "source": [
    "F3cda66 = F3.make_cayley_dickson_algebra(version=2)\n",
    "F3cda66.about()"
   ]
  },
  {
   "cell_type": "code",
   "execution_count": 13,
   "id": "5a3f919e-e225-4118-b9b1-4d7991b939df",
   "metadata": {},
   "outputs": [
    {
     "name": "stdout",
     "output_type": "stream",
     "text": [
      "\n",
      "** Field **\n",
      "Name: F3_CDA53\n",
      "Instance ID: 4654764368\n",
      "Description: Cayley-Dickson algebra based on F3, where mu = 2, Schafer 1953 version.\n",
      "Order: 9\n",
      "Identity: '0:0'\n",
      "Commutative? Yes\n",
      "Cyclic?: Yes\n",
      "  Generators: ['0:1', '0:2', '1:1', '1:2', '2:1', '2:2']\n",
      "Elements:\n",
      "   Index   Name   Inverse  Order\n",
      "      0   '0:0'   '0:0'       1\n",
      "      1   '0:1'   '0:2'       3\n",
      "      2   '0:2'   '0:1'       3\n",
      "      3   '1:0'   '2:0'       3\n",
      "      4   '1:1'   '2:2'       3\n",
      "      5   '1:2'   '2:1'       3\n",
      "      6   '2:0'   '1:0'       3\n",
      "      7   '2:1'   '1:2'       3\n",
      "      8   '2:2'   '1:1'       3\n",
      "Cayley Table (showing indices):\n",
      "[[0, 1, 2, 3, 4, 5, 6, 7, 8],\n",
      " [1, 2, 0, 4, 5, 3, 7, 8, 6],\n",
      " [2, 0, 1, 5, 3, 4, 8, 6, 7],\n",
      " [3, 4, 5, 6, 7, 8, 0, 1, 2],\n",
      " [4, 5, 3, 7, 8, 6, 1, 2, 0],\n",
      " [5, 3, 4, 8, 6, 7, 2, 0, 1],\n",
      " [6, 7, 8, 0, 1, 2, 3, 4, 5],\n",
      " [7, 8, 6, 1, 2, 0, 4, 5, 3],\n",
      " [8, 6, 7, 2, 0, 1, 5, 3, 4]]\n",
      "Mult. Identity: '1:0'\n",
      "Mult. Commutative? Yes\n",
      "Zero Divisors: None\n",
      "Multiplicative Cayley Table (showing indices):\n",
      "[[0, 0, 0, 0, 0, 0, 0, 0, 0],\n",
      " [0, 6, 3, 1, 7, 4, 2, 8, 5],\n",
      " [0, 3, 6, 2, 5, 8, 1, 4, 7],\n",
      " [0, 1, 2, 3, 4, 5, 6, 7, 8],\n",
      " [0, 7, 5, 4, 2, 6, 8, 3, 1],\n",
      " [0, 4, 8, 5, 6, 1, 7, 2, 3],\n",
      " [0, 2, 1, 6, 8, 7, 3, 5, 4],\n",
      " [0, 8, 4, 7, 3, 2, 5, 1, 6],\n",
      " [0, 5, 7, 8, 1, 3, 4, 6, 2]]\n",
      "Conjugate Mapping: {'0:0': '0:0', '0:1': '0:2', '0:2': '0:1', '1:0': '1:0', '1:1': '1:2', '1:2': '1:1', '2:0': '2:0', '2:1': '2:2', '2:2': '2:1'}\n"
     ]
    }
   ],
   "source": [
    "F3cda53 = F3.make_cayley_dickson_algebra(version=3)\n",
    "F3cda53.about()"
   ]
  },
  {
   "cell_type": "code",
   "execution_count": 14,
   "id": "4eaf16e3-0085-41f4-b122-d8625a8a5229",
   "metadata": {},
   "outputs": [
    {
     "data": {
      "text/plain": [
       "True"
      ]
     },
     "execution_count": 14,
     "metadata": {},
     "output_type": "execute_result"
    }
   ],
   "source": [
    "F3cda == F3cda66"
   ]
  },
  {
   "cell_type": "code",
   "execution_count": 15,
   "id": "ea95454f-e189-4e8e-857d-4fc1b55f1443",
   "metadata": {},
   "outputs": [
    {
     "data": {
      "text/plain": [
       "True"
      ]
     },
     "execution_count": 15,
     "metadata": {},
     "output_type": "execute_result"
    }
   ],
   "source": [
    "F3cda == F3cda53"
   ]
  },
  {
   "cell_type": "code",
   "execution_count": null,
   "id": "103c1f55-197e-415d-9a9c-1bf169ffccff",
   "metadata": {},
   "outputs": [],
   "source": []
  },
  {
   "cell_type": "code",
   "execution_count": 17,
   "id": "5b3cdb4b-50ec-4c10-a28c-fc02343b2689",
   "metadata": {},
   "outputs": [
    {
     "name": "stdout",
     "output_type": "stream",
     "text": [
      "\n",
      "** Ring **\n",
      "Name: F3_CDA_CDA\n",
      "Instance ID: 4683842960\n",
      "Description: Cayley-Dickson algebra based on F3_CDA, where no mu and no conjugation were used.\n",
      "Order: 81\n",
      "Identity: '0:0:0:0'\n",
      "Commutative? Yes\n",
      "Cyclic?: Yes\n",
      "  Generators: ['0:0:1:1', '0:0:1:2', '0:0:2:1', '0:0:2:2', '0:1:0:1', '0:1:0:2', '0:2:0:1', '0:2:0:2', '1:0:1:1', '1:0:1:2', '1:0:2:1', '1:0:2:2', '1:1:0:1', '1:1:0:2', '1:2:0:1', '1:2:0:2', '2:0:1:1', '2:0:1:2', '2:0:2:1', '2:0:2:2', '2:1:0:1', '2:1:0:2', '2:2:0:1', '2:2:0:2']\n",
      "Elements:\n",
      "   Index   Name   Inverse  Order\n",
      "      0 '0:0:0:0' '0:0:0:0'       1\n",
      "      1 '0:0:0:1' '0:0:0:2'       3\n",
      "      2 '0:0:0:2' '0:0:0:1'       3\n",
      "      3 '0:0:1:0' '0:0:2:0'       3\n",
      "      4 '0:0:1:1' '0:0:2:2'       3\n",
      "      5 '0:0:1:2' '0:0:2:1'       3\n",
      "      6 '0:0:2:0' '0:0:1:0'       3\n",
      "      7 '0:0:2:1' '0:0:1:2'       3\n",
      "      8 '0:0:2:2' '0:0:1:1'       3\n",
      "      9 '0:1:0:0' '0:2:0:0'       3\n",
      "     10 '0:1:0:1' '0:2:0:2'       3\n",
      "     11 '0:1:0:2' '0:2:0:1'       3\n",
      "     12 '0:1:1:0' '0:2:2:0'       3\n",
      "     13 '0:1:1:1' '0:2:2:2'       3\n",
      "     14 '0:1:1:2' '0:2:2:1'       3\n",
      "     15 '0:1:2:0' '0:2:1:0'       3\n",
      "     16 '0:1:2:1' '0:2:1:2'       3\n",
      "     17 '0:1:2:2' '0:2:1:1'       3\n",
      "     18 '0:2:0:0' '0:1:0:0'       3\n",
      "     19 '0:2:0:1' '0:1:0:2'       3\n",
      "     20 '0:2:0:2' '0:1:0:1'       3\n",
      "     21 '0:2:1:0' '0:1:2:0'       3\n",
      "     22 '0:2:1:1' '0:1:2:2'       3\n",
      "     23 '0:2:1:2' '0:1:2:1'       3\n",
      "     24 '0:2:2:0' '0:1:1:0'       3\n",
      "     25 '0:2:2:1' '0:1:1:2'       3\n",
      "     26 '0:2:2:2' '0:1:1:1'       3\n",
      "     27 '1:0:0:0' '2:0:0:0'       3\n",
      "     28 '1:0:0:1' '2:0:0:2'       3\n",
      "     29 '1:0:0:2' '2:0:0:1'       3\n",
      "     30 '1:0:1:0' '2:0:2:0'       3\n",
      "     31 '1:0:1:1' '2:0:2:2'       3\n",
      "     32 '1:0:1:2' '2:0:2:1'       3\n",
      "     33 '1:0:2:0' '2:0:1:0'       3\n",
      "     34 '1:0:2:1' '2:0:1:2'       3\n",
      "     35 '1:0:2:2' '2:0:1:1'       3\n",
      "     36 '1:1:0:0' '2:2:0:0'       3\n",
      "     37 '1:1:0:1' '2:2:0:2'       3\n",
      "     38 '1:1:0:2' '2:2:0:1'       3\n",
      "     39 '1:1:1:0' '2:2:2:0'       3\n",
      "     40 '1:1:1:1' '2:2:2:2'       3\n",
      "     41 '1:1:1:2' '2:2:2:1'       3\n",
      "     42 '1:1:2:0' '2:2:1:0'       3\n",
      "     43 '1:1:2:1' '2:2:1:2'       3\n",
      "     44 '1:1:2:2' '2:2:1:1'       3\n",
      "     45 '1:2:0:0' '2:1:0:0'       3\n",
      "     46 '1:2:0:1' '2:1:0:2'       3\n",
      "     47 '1:2:0:2' '2:1:0:1'       3\n",
      "     48 '1:2:1:0' '2:1:2:0'       3\n",
      "     49 '1:2:1:1' '2:1:2:2'       3\n",
      "     50 '1:2:1:2' '2:1:2:1'       3\n",
      "     51 '1:2:2:0' '2:1:1:0'       3\n",
      "     52 '1:2:2:1' '2:1:1:2'       3\n",
      "     53 '1:2:2:2' '2:1:1:1'       3\n",
      "     54 '2:0:0:0' '1:0:0:0'       3\n",
      "     55 '2:0:0:1' '1:0:0:2'       3\n",
      "     56 '2:0:0:2' '1:0:0:1'       3\n",
      "     57 '2:0:1:0' '1:0:2:0'       3\n",
      "     58 '2:0:1:1' '1:0:2:2'       3\n",
      "     59 '2:0:1:2' '1:0:2:1'       3\n",
      "     60 '2:0:2:0' '1:0:1:0'       3\n",
      "     61 '2:0:2:1' '1:0:1:2'       3\n",
      "     62 '2:0:2:2' '1:0:1:1'       3\n",
      "     63 '2:1:0:0' '1:2:0:0'       3\n",
      "     64 '2:1:0:1' '1:2:0:2'       3\n",
      "     65 '2:1:0:2' '1:2:0:1'       3\n",
      "     66 '2:1:1:0' '1:2:2:0'       3\n",
      "     67 '2:1:1:1' '1:2:2:2'       3\n",
      "     68 '2:1:1:2' '1:2:2:1'       3\n",
      "     69 '2:1:2:0' '1:2:1:0'       3\n",
      "     70 '2:1:2:1' '1:2:1:2'       3\n",
      "     71 '2:1:2:2' '1:2:1:1'       3\n",
      "     72 '2:2:0:0' '1:1:0:0'       3\n",
      "     73 '2:2:0:1' '1:1:0:2'       3\n",
      "     74 '2:2:0:2' '1:1:0:1'       3\n",
      "     75 '2:2:1:0' '1:1:2:0'       3\n",
      "     76 '2:2:1:1' '1:1:2:2'       3\n",
      "     77 '2:2:1:2' '1:1:2:1'       3\n",
      "     78 '2:2:2:0' '1:1:1:0'       3\n",
      "     79 '2:2:2:1' '1:1:1:2'       3\n",
      "     80 '2:2:2:2' '1:1:1:1'       3\n",
      "Ring order is 81 > 12, so no further info calculated/printed.\n",
      "Mult. Identity: '1:0:0:0'\n",
      "Mult. Commutative? Yes\n",
      "Zero Divisors: ['2:1:1:1', '2:1:2:2', '0:1:1:0', '2:2:1:2', '0:1:2:0', '2:2:2:1', '0:2:1:0', '0:2:2:0', '1:0:0:1', '1:0:0:2', '1:1:1:2', '1:1:2:1', '1:2:1:1', '1:2:2:2', '2:0:0:1', '2:0:0:2']\n",
      "Ring order is 81 > 12, so no further info calculated/printed.\n"
     ]
    }
   ],
   "source": [
    "F3quad = F3cda.make_cayley_dickson_algebra()\n",
    "F3quad.about(show_conjugates=False)"
   ]
  },
  {
   "cell_type": "markdown",
   "id": "5c8c5366-b45e-4040-9078-a79f91923752",
   "metadata": {},
   "source": [
    "## Additional Resources"
   ]
  },
  {
   "cell_type": "markdown",
   "id": "a3ff4ce6-8776-4abe-b574-7d207e04435c",
   "metadata": {},
   "source": [
    "* [Python code for octonion and sedenion multiplication](https://www.johndcook.com/blog/2018/07/09/octonioin-multiplication/) - John D Cook blog\n",
    "* [The Octonions](https://web.archive.org/web/20180216125124/http://math.ucr.edu:80/home/baez/octonions/) - The Wayback Machine\n",
    "* [Algebra over a field](https://en.wikipedia.org/wiki/Algebra_over_a_field) - Wikipedia\n",
    "* [Cayley-Dickson construction](https://en.wikipedia.org/wiki/Cayley%E2%80%93Dickson_construction) - Wikipedia\n",
    "* [Cayley-Dickson algebra](https://encyclopediaofmath.org/wiki/Cayley-Dickson_algebra) - Encyclopedia of Math\n",
    "* [\"A Stroll Through the Gaussian Primes\"](https://maa.org/sites/default/files/pdf/upload_library/22/Chauvenet/Gethner.pdf), Gethner, Wagon, and Wick, The American Mathematical Monthly, 1998.\n",
    "* [What comes after the ducentiquinquagintasexions?](https://english.stackexchange.com/questions/234607/what-comes-after-the-ducentiquinquagintasexions) - StackExchange\n",
    "* [\"Equivalence in a Class of Division Algebras of Order 16\"](https://core.ac.uk/reader/82141950) by R. D. Schafer"
   ]
  },
  {
   "cell_type": "markdown",
   "id": "a9e849e6",
   "metadata": {},
   "source": [
    "## Gaussian Primes"
   ]
  },
  {
   "cell_type": "code",
   "execution_count": null,
   "id": "30a4794c",
   "metadata": {},
   "outputs": [],
   "source": [
    "from sympy.ntheory.primetest import is_gaussian_prime\n",
    "\n",
    "def gaussian_prime(x):\n",
    "    y = x.split(':')\n",
    "    gi = int(y[0]) + int(y[1])*1j\n",
    "    return is_gaussian_prime(gi)"
   ]
  },
  {
   "cell_type": "code",
   "execution_count": null,
   "id": "042e5116",
   "metadata": {},
   "outputs": [],
   "source": [
    "n = 11\n",
    "Fn = alg.generate_algebra_mod_n(n)"
   ]
  },
  {
   "cell_type": "code",
   "execution_count": null,
   "id": "d4c9eba7",
   "metadata": {},
   "outputs": [],
   "source": [
    "Fn.elements"
   ]
  },
  {
   "cell_type": "code",
   "execution_count": null,
   "id": "6d3b8c8f",
   "metadata": {},
   "outputs": [],
   "source": [
    "Fnsqr = Fn.make_cayley_dickson_algebra()\n",
    "print(Fnsqr.elements)"
   ]
  },
  {
   "cell_type": "code",
   "execution_count": null,
   "id": "274f7dfb",
   "metadata": {},
   "outputs": [],
   "source": [
    "print(f\"{Fnsqr.name}:\")\n",
    "gprimes = [z for z in Fnsqr.elements if gaussian_prime(z)]\n",
    "print(gprimes)"
   ]
  },
  {
   "cell_type": "code",
   "execution_count": null,
   "id": "334f6a6c",
   "metadata": {},
   "outputs": [],
   "source": [
    "zero = '00:00'\n",
    "prod_zero = Fnsqr.element_pairs_where_product_equals(zero)\n",
    "zero_divisor_pairs = [item for item in prod_zero if item[0] != zero and item[1] != zero]\n",
    "zero_divisor_pairs"
   ]
  },
  {
   "cell_type": "code",
   "execution_count": null,
   "id": "80bdabfc",
   "metadata": {},
   "outputs": [],
   "source": [
    "# prod_zero"
   ]
  },
  {
   "cell_type": "code",
   "execution_count": null,
   "id": "da398903",
   "metadata": {},
   "outputs": [],
   "source": []
  },
  {
   "cell_type": "markdown",
   "id": "fca24732",
   "metadata": {},
   "source": [
    "## Test Returning Elements that Sum or Multiply to a Specific Value"
   ]
  },
  {
   "cell_type": "code",
   "execution_count": null,
   "id": "0b1851ac",
   "metadata": {},
   "outputs": [],
   "source": [
    "F3.table.table"
   ]
  },
  {
   "cell_type": "code",
   "execution_count": null,
   "id": "63ae8ad8",
   "metadata": {},
   "outputs": [],
   "source": [
    "F3.table.table_entries_where_equal_to(0)"
   ]
  },
  {
   "cell_type": "code",
   "execution_count": null,
   "id": "416d1ebf",
   "metadata": {},
   "outputs": [],
   "source": [
    "F3.mult_table.table"
   ]
  },
  {
   "cell_type": "code",
   "execution_count": null,
   "id": "8e4a784e",
   "metadata": {},
   "outputs": [],
   "source": [
    "F3.mult_table.table_entries_where_equal_to(1)"
   ]
  },
  {
   "cell_type": "code",
   "execution_count": null,
   "id": "4a6858ba",
   "metadata": {},
   "outputs": [],
   "source": [
    "F3.element_pairs_where_sum_equals(F3.identity)"
   ]
  },
  {
   "cell_type": "code",
   "execution_count": null,
   "id": "708e38e0",
   "metadata": {},
   "outputs": [],
   "source": [
    "F3.element_pairs_where_product_equals(F3.mult_identity)"
   ]
  },
  {
   "cell_type": "markdown",
   "id": "072aea70",
   "metadata": {},
   "source": [
    "## Example Plot of Gaussian Primes"
   ]
  },
  {
   "cell_type": "markdown",
   "id": "323b9515",
   "metadata": {},
   "source": [
    "The code & plot, below, are due to [this post on stackoverflow](https://stackoverflow.com/questions/71641277/visualizing-gaussian-primes-and-gaussian-prime-factors-in-python).\n",
    "\n",
    "I changed the second looping variable, j, to k, to make this less confusing to the \"casual reader\"."
   ]
  },
  {
   "cell_type": "code",
   "execution_count": null,
   "id": "53fc3640",
   "metadata": {},
   "outputs": [],
   "source": [
    "from matplotlib import pyplot as plt\n",
    "import seaborn as sns\n",
    "import numpy as np\n",
    "from sympy.ntheory.primetest import is_gaussian_prime\n",
    "\n",
    "N = 200\n",
    "prime_set = set()\n",
    "for i in range(N):\n",
    "    for k in range(N):\n",
    "        if is_gaussian_prime(i + k * 1j):\n",
    "            prime_set.add(i + k * 1j)\n",
    "            prime_set.add(i - k * 1j)\n",
    "            prime_set.add(-i + k * 1j)\n",
    "            prime_set.add(-i - k * 1j)\n",
    "primes = np.array(list(prime_set))\n",
    "plt.figure(figsize=(15, 15))\n",
    "ax = sns.scatterplot(x=np.real(primes), y=np.imag(primes), color='tomato', s=20)\n",
    "ax.set_aspect('equal')\n",
    "plt.show()"
   ]
  },
  {
   "cell_type": "code",
   "execution_count": null,
   "id": "107f679a",
   "metadata": {},
   "outputs": [],
   "source": []
  }
 ],
 "metadata": {
  "kernelspec": {
   "display_name": "Python 3 (ipykernel)",
   "language": "python",
   "name": "python3"
  },
  "language_info": {
   "codemirror_mode": {
    "name": "ipython",
    "version": 3
   },
   "file_extension": ".py",
   "mimetype": "text/x-python",
   "name": "python",
   "nbconvert_exporter": "python",
   "pygments_lexer": "ipython3",
   "version": "3.11.5"
  }
 },
 "nbformat": 4,
 "nbformat_minor": 5
}
