{
 "cells": [
  {
   "cell_type": "markdown",
   "id": "dc54a007",
   "metadata": {},
   "source": [
    "# Scratchwork"
   ]
  },
  {
   "cell_type": "code",
   "execution_count": 1,
   "id": "47ab55e5",
   "metadata": {},
   "outputs": [],
   "source": [
    "from finite_algebras import *\n",
    "from cayley_table import *\n",
    "from permutations import *"
   ]
  },
  {
   "cell_type": "code",
   "execution_count": 2,
   "id": "25b0068f",
   "metadata": {},
   "outputs": [],
   "source": [
    "import os\n",
    "aa_path = os.path.join(os.getenv(\"PYPROJ\"), \"abstract_algebra\")\n",
    "alg_dir = os.path.join(aa_path, \"Algebras\")"
   ]
  },
  {
   "cell_type": "code",
   "execution_count": 3,
   "id": "e37304a2",
   "metadata": {},
   "outputs": [
    {
     "name": "stdout",
     "output_type": "stream",
     "text": [
      "======================================================================\n",
      "                           Example Algebras\n",
      "----------------------------------------------------------------------\n",
      "  13 example algebras are available.\n",
      "  Use \"get_example(INDEX)\" to retrieve a specific example,\n",
      "  where INDEX is the first number on each line below:\n",
      "----------------------------------------------------------------------\n",
      "0: A4 -- Alternating group on 4 letters (AKA Tetrahedral group)\n",
      "1: D3 -- https://en.wikipedia.org/wiki/Dihedral_group_of_order_6\n",
      "2: D4 -- Dihedral group on four vertices\n",
      "3: Pinter29 -- Non-abelian group, p.29, 'A Book of Abstract Algebra' by Charles C. Pinter\n",
      "4: RPS -- Rock, Paper, Scissors Magma\n",
      "5: S3 -- Symmetric group on 3 letters\n",
      "6: S3X -- Another version of the symmetric group on 3 letters\n",
      "7: V4 -- Klein-4 group\n",
      "8: Z4 -- Cyclic group of order 4\n",
      "9: F4 -- Field with 4 elements (from Wikipedia)\n",
      "10: mag_id -- Magma with Identity\n",
      "11: Example 1.4.1 -- See: Groupoids and Smarandache Groupoids by W. B. Vasantha Kandasamy\n",
      "12: Ex6 -- Example 6: http://www-groups.mcs.st-andrews.ac.uk/~john/MT4517/Lectures/L3.html\n",
      "======================================================================\n"
     ]
    }
   ],
   "source": [
    "ex = Examples(alg_dir)"
   ]
  },
  {
   "cell_type": "code",
   "execution_count": 4,
   "id": "23ab1e68",
   "metadata": {},
   "outputs": [
    {
     "data": {
      "text/plain": [
       "Group(\n",
       "'A4',\n",
       "'Alternating group on 4 letters (AKA Tetrahedral group)',\n",
       "['()', '(1 3 2)', '(1 2 3)', '(0 1)(2 3)', '(0 1 2)', '(0 1 3)', '(0 3 1)', '(0 3 2)', '(0 3)(1 2)', '(0 2 3)', '(0 2 1)', '(0 2)(1 3)'],\n",
       "[[0, 1, 2, 3, 4, 5, 6, 7, 8, 9, 10, 11], [1, 2, 0, 6, 7, 8, 10, 11, 9, 5, 3, 4], [2, 0, 1, 10, 11, 9, 3, 4, 5, 8, 6, 7], [3, 4, 5, 0, 1, 2, 9, 10, 11, 6, 7, 8], [4, 5, 3, 9, 10, 11, 7, 8, 6, 2, 0, 1], [5, 3, 4, 7, 8, 6, 0, 1, 2, 11, 9, 10], [6, 7, 8, 1, 2, 0, 5, 3, 4, 10, 11, 9], [7, 8, 6, 5, 3, 4, 11, 9, 10, 0, 1, 2], [8, 6, 7, 11, 9, 10, 1, 2, 0, 4, 5, 3], [9, 10, 11, 4, 5, 3, 2, 0, 1, 7, 8, 6], [10, 11, 9, 2, 0, 1, 8, 6, 7, 3, 4, 5], [11, 9, 10, 8, 6, 7, 4, 5, 3, 1, 2, 0]]\n",
       ")"
      ]
     },
     "execution_count": 4,
     "metadata": {},
     "output_type": "execute_result"
    }
   ],
   "source": [
    "a4 = ex.get_example(0)\n",
    "a4"
   ]
  },
  {
   "cell_type": "code",
   "execution_count": 5,
   "id": "052d0966",
   "metadata": {},
   "outputs": [
    {
     "data": {
      "text/plain": [
       "Field(\n",
       "'F4',\n",
       "'Field with 4 elements (from Wikipedia)',\n",
       "['0', '1', 'a', '1+a'],\n",
       "[[0, 1, 2, 3], [1, 0, 3, 2], [2, 3, 0, 1], [3, 2, 1, 0]],\n",
       "[[0, 0, 0, 0], [0, 1, 2, 3], [0, 2, 3, 1], [0, 3, 1, 2]]\n",
       ")"
      ]
     },
     "execution_count": 5,
     "metadata": {},
     "output_type": "execute_result"
    }
   ],
   "source": [
    "f4 = ex.get_example(9)\n",
    "f4"
   ]
  },
  {
   "cell_type": "code",
   "execution_count": 6,
   "id": "e99556c5",
   "metadata": {},
   "outputs": [
    {
     "data": {
      "text/plain": [
       "Ring(\n",
       "'Ex6',\n",
       "'Example 6: http://www-groups.mcs.st-andrews.ac.uk/~john/MT4517/Lectures/L3.html',\n",
       "['0', 'a', 'b', 'c'],\n",
       "[[0, 1, 2, 3], [1, 0, 3, 2], [2, 3, 0, 1], [3, 2, 1, 0]],\n",
       "[[0, 0, 0, 0], [0, 0, 1, 1], [0, 0, 2, 2], [0, 0, 3, 3]]\n",
       ")"
      ]
     },
     "execution_count": 6,
     "metadata": {},
     "output_type": "execute_result"
    }
   ],
   "source": [
    "ex6 = ex.get_example(12)\n",
    "ex6"
   ]
  },
  {
   "cell_type": "code",
   "execution_count": 7,
   "id": "54935551",
   "metadata": {},
   "outputs": [
    {
     "data": {
      "text/plain": [
       "16"
      ]
     },
     "execution_count": 7,
     "metadata": {},
     "output_type": "execute_result"
    }
   ],
   "source": [
    "psr = generate_powerset_group(4)\n",
    "psr.order"
   ]
  },
  {
   "cell_type": "code",
   "execution_count": 8,
   "id": "13f6afee",
   "metadata": {},
   "outputs": [
    {
     "name": "stdout",
     "output_type": "stream",
     "text": [
      "\n",
      "Group: PS4\n",
      "Instance ID: 140398869687632\n",
      "Description: Autogenerated Group on the powerset of 4 elements, with symmetric difference operator\n",
      "Identity: {}\n",
      "Associative? Yes\n",
      "Commutative? Yes\n",
      "Elements:\n",
      "   Index   Name   Inverse  Order\n",
      "      0      {}      {}       1\n",
      "      1     {0}     {0}       2\n",
      "      2     {1}     {1}       2\n",
      "      3     {2}     {2}       2\n",
      "      4     {3}     {3}       2\n",
      "      5  {0, 1}  {0, 1}       2\n",
      "      6  {0, 2}  {0, 2}       2\n",
      "      7  {0, 3}  {0, 3}       2\n",
      "      8  {1, 2}  {1, 2}       2\n",
      "      9  {1, 3}  {1, 3}       2\n",
      "     10  {2, 3}  {2, 3}       2\n",
      "     11 {0, 1, 2} {0, 1, 2}       2\n",
      "     12 {0, 1, 3} {0, 1, 3}       2\n",
      "     13 {0, 2, 3} {0, 2, 3}       2\n",
      "     14 {1, 2, 3} {1, 2, 3}       2\n",
      "     15 {0, 1, 2, 3} {0, 1, 2, 3}       2\n",
      "Group order is 16 > 12, so no further info calculated/printed.\n"
     ]
    }
   ],
   "source": [
    "psr.about()"
   ]
  },
  {
   "cell_type": "code",
   "execution_count": 9,
   "id": "13ebcc53",
   "metadata": {},
   "outputs": [],
   "source": [
    "# %time foo1 = psr.closed_subsets_of_elements(False)"
   ]
  },
  {
   "cell_type": "code",
   "execution_count": 10,
   "id": "44fc2e0e",
   "metadata": {},
   "outputs": [],
   "source": [
    "# {len(x) for x in foo1}"
   ]
  },
  {
   "cell_type": "code",
   "execution_count": 11,
   "id": "2620d778",
   "metadata": {},
   "outputs": [],
   "source": [
    "# %time foo2 = psr.closed_subsets_of_elements(True)"
   ]
  },
  {
   "cell_type": "code",
   "execution_count": 12,
   "id": "9786a259",
   "metadata": {},
   "outputs": [],
   "source": [
    "# {len(x) for x in foo2}"
   ]
  },
  {
   "cell_type": "code",
   "execution_count": null,
   "id": "e4f19741",
   "metadata": {},
   "outputs": [],
   "source": []
  },
  {
   "cell_type": "code",
   "execution_count": 13,
   "id": "f0510717",
   "metadata": {},
   "outputs": [],
   "source": [
    "# %time psr_subs = psr.unique_proper_subgroups()"
   ]
  },
  {
   "cell_type": "code",
   "execution_count": 14,
   "id": "f2241834",
   "metadata": {},
   "outputs": [],
   "source": [
    "# [psr_sub.order for psr_sub in psr_subs]"
   ]
  },
  {
   "cell_type": "code",
   "execution_count": null,
   "id": "8e5a0b40",
   "metadata": {},
   "outputs": [],
   "source": []
  }
 ],
 "metadata": {
  "kernelspec": {
   "display_name": "Python 3",
   "language": "python",
   "name": "python3"
  },
  "language_info": {
   "codemirror_mode": {
    "name": "ipython",
    "version": 3
   },
   "file_extension": ".py",
   "mimetype": "text/x-python",
   "name": "python",
   "nbconvert_exporter": "python",
   "pygments_lexer": "ipython3",
   "version": "3.7.7"
  }
 },
 "nbformat": 4,
 "nbformat_minor": 5
}
