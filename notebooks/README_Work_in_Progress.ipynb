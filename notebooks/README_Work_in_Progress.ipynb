{
 "cells": [
  {
   "cell_type": "markdown",
   "id": "b7b01521",
   "metadata": {},
   "source": [
    "**New Readme -- Work in Progress**"
   ]
  },
  {
   "cell_type": "markdown",
   "id": "d60321bb",
   "metadata": {},
   "source": [
    "# Abstract Algebra"
   ]
  },
  {
   "cell_type": "markdown",
   "id": "58e8ac41",
   "metadata": {},
   "source": [
    "An experimental implementation of finite groups."
   ]
  },
  {
   "cell_type": "markdown",
   "id": "e8f2568c",
   "metadata": {},
   "source": [
    "For API documentation see: https://abstract-algebra.readthedocs.io/en/latest/index.html"
   ]
  },
  {
   "cell_type": "code",
   "execution_count": 37,
   "id": "6663bdd3",
   "metadata": {},
   "outputs": [],
   "source": [
    ">>> import finite_algebras as alg\n",
    ">>> import json\n",
    ">>> import os"
   ]
  },
  {
   "cell_type": "code",
   "execution_count": 38,
   "id": "52bfcef3",
   "metadata": {},
   "outputs": [],
   "source": [
    ">>> # Path to this repo\n",
    ">>> aa_path = os.path.join(os.getenv('PYPROJ'), 'abstract_algebra')\n",
    "\n",
    ">>> # Path to a directory containing Algebra definitions in JSON\n",
    ">>> alg_dir = os.path.join(aa_path, \"Algebras\")"
   ]
  },
  {
   "cell_type": "markdown",
   "id": "a42ec013",
   "metadata": {},
   "source": [
    "## Algebra Construction"
   ]
  },
  {
   "cell_type": "markdown",
   "id": "d4c82292",
   "metadata": {},
   "source": [
    "The following types of finite algebras are supported:\n",
    "* Magma\n",
    "* Semigroup\n",
    "* Monoid\n",
    "* Group\n",
    "* Ring\n",
    "* Field"
   ]
  },
  {
   "cell_type": "markdown",
   "id": "e6dd45c3",
   "metadata": {},
   "source": [
    "The function, ``make_finite_algebra``, is the preferred way to construct an algebra.\n",
    "\n",
    "It will instantiate and return an algebra object of the based on the properties supported by the inputs, such as <i>associativity</i>, existence of an <i>identity</i> element, existence of <i>inverses</i>, etc.\n",
    "\n",
    "``make_finite_algebra`` will take either 4 input values:\n",
    "1. Algebra name (``str``)\n",
    "1. Description (``str``)\n",
    "1. List of element names (``list`` of ``str``)\n",
    "1. 2D table of element names (``list`` of lists of ``str``) -- called a [Cayley Table](https://en.wikipedia.org/wiki/Cayley_table)\n",
    "\n",
    "Or, it can accept a single input value (where the four inputs are specified):\n",
    "* JSON file name (``str``), or\n",
    "* Python dictionary (``dict``)"
   ]
  },
  {
   "cell_type": "markdown",
   "id": "1e77b0a1",
   "metadata": {},
   "source": [
    "### Example 1  (four input values)"
   ]
  },
  {
   "cell_type": "markdown",
   "id": "2eb20ec2",
   "metadata": {},
   "source": [
    "**Rock-Paper-Scissors**\n",
    "\n",
    "The rock-paper-scissors game, $M = \\langle \\{r,p,s\\}, \\cdot \\rangle$, is a [commutative magma](https://en.wikipedia.org/wiki/Commutative_magma).\n",
    "\n",
    "* For all $x, y \\in M$, if $x$ *beats* $y$, then $x \\cdot y = y \\cdot x = x$\n",
    "* Also, for all $x \\in M$, $x \\cdot x = x$\n",
    "\n",
    "**Note**: Internally, the Cayley Table is stored as an array of integers that represent the positions (indices) of elements in the input list of elements."
   ]
  },
  {
   "cell_type": "code",
   "execution_count": 39,
   "id": "1bd42435",
   "metadata": {},
   "outputs": [
    {
     "data": {
      "text/plain": [
       "Magma(\n",
       "RPS,\n",
       "Rock, Paper, Scissors,\n",
       "['r', 'p', 's'],\n",
       "[[0, 1, 0], [1, 1, 2], [0, 2, 2]]\n",
       ")"
      ]
     },
     "execution_count": 39,
     "metadata": {},
     "output_type": "execute_result"
    }
   ],
   "source": [
    ">>> rps = alg.make_finite_algebra(\"RPS\",\n",
    ">>>                               \"Rock, Paper, Scissors\",\n",
    ">>>                               ['r', 'p', 's'],\n",
    ">>>                               [['r', 'p', 'r'],\n",
    ">>>                                ['p', 'p', 's'],\n",
    ">>>                                ['r', 's', 's']])\n",
    ">>> rps"
   ]
  },
  {
   "cell_type": "markdown",
   "id": "7fda60ab",
   "metadata": {},
   "source": [
    "### Example 2 (single input value)"
   ]
  },
  {
   "cell_type": "markdown",
   "id": "9b8df4b4",
   "metadata": {},
   "source": [
    "Consider the following JSON string that's saved in a file named, \"v4_klein_4_group.json\""
   ]
  },
  {
   "cell_type": "code",
   "execution_count": 24,
   "id": "a52961aa",
   "metadata": {},
   "outputs": [
    {
     "name": "stdout",
     "output_type": "stream",
     "text": [
      "\n",
      "Contents of the JSON file:\n",
      "\n",
      "{\"name\": \"V4\",\r\n",
      " \"description\": \"Klein-4 group\",\r\n",
      " \"elements\": [\"e\", \"h\", \"v\", \"r\"],\r\n",
      " \"table\": [[0, 1, 2, 3],\r\n",
      "           [1, 0, 3, 2],\r\n",
      "           [2, 3, 0, 1],\r\n",
      "           [3, 2, 1, 0]]\r\n",
      "}\r\n"
     ]
    }
   ],
   "source": [
    ">>> v4_json = os.path.join(alg_dir, \"v4_klein_4_group.json\")\n",
    ">>> print(\"\\nContents of the JSON file:\\n\")\n",
    ">>> !cat {v4_json}"
   ]
  },
  {
   "cell_type": "markdown",
   "id": "43a53f4b",
   "metadata": {},
   "source": [
    "Here is the Klein-4 group, constructed from the **JSON file**:"
   ]
  },
  {
   "cell_type": "code",
   "execution_count": 25,
   "id": "5a619021",
   "metadata": {},
   "outputs": [
    {
     "data": {
      "text/plain": [
       "Group(\n",
       "V4,\n",
       "Klein-4 group,\n",
       "['e', 'h', 'v', 'r'],\n",
       "[[0, 1, 2, 3], [1, 0, 3, 2], [2, 3, 0, 1], [3, 2, 1, 0]]\n",
       ")"
      ]
     },
     "execution_count": 25,
     "metadata": {},
     "output_type": "execute_result"
    }
   ],
   "source": [
    ">>> v4 = alg.make_finite_algebra(v4_json)\n",
    ">>> v4"
   ]
  },
  {
   "cell_type": "markdown",
   "id": "89592bf8",
   "metadata": {},
   "source": [
    "The algebra can be created from a **Python dictionary**:"
   ]
  },
  {
   "cell_type": "code",
   "execution_count": 26,
   "id": "3f1b33f2",
   "metadata": {},
   "outputs": [
    {
     "data": {
      "text/plain": [
       "Group(\n",
       "V4,\n",
       "Yet another way to define V4,\n",
       "['e', 'h', 'v', 'hv'],\n",
       "[[0, 1, 2, 3], [1, 0, 3, 2], [2, 3, 0, 1], [3, 2, 1, 0]]\n",
       ")"
      ]
     },
     "execution_count": 26,
     "metadata": {},
     "output_type": "execute_result"
    }
   ],
   "source": [
    ">>> v4_dict = {'name': 'V4',\n",
    ">>>            'description': 'Yet another way to define V4',\n",
    ">>>            'elements': ['e', 'h', 'v', 'hv'],\n",
    ">>>            'table': [[0, 1, 2, 3], [1, 0, 3, 2], [2, 3, 0, 1], [3, 2, 1, 0]]}\n",
    ">>> \n",
    ">>> alg.make_finite_algebra(v4_dict)"
   ]
  },
  {
   "cell_type": "markdown",
   "id": "7de8668b",
   "metadata": {},
   "source": [
    "## \"Multiply\" Group Elements"
   ]
  },
  {
   "cell_type": "markdown",
   "id": "8ac5d61a",
   "metadata": {},
   "source": [
    "Group multiplication operation, **``op``**, takes one or more arguments and returns the product according to the algebra's Cayley table."
   ]
  },
  {
   "cell_type": "markdown",
   "id": "0541c8ec",
   "metadata": {},
   "source": [
    "If one argument is provided, then that argument is returned, assuming it's a valid element name."
   ]
  },
  {
   "cell_type": "code",
   "execution_count": 40,
   "id": "6c294708",
   "metadata": {},
   "outputs": [
    {
     "data": {
      "text/plain": [
       "'h'"
      ]
     },
     "execution_count": 40,
     "metadata": {},
     "output_type": "execute_result"
    }
   ],
   "source": [
    ">>> v4.op('h')"
   ]
  },
  {
   "cell_type": "markdown",
   "id": "22f2f161",
   "metadata": {},
   "source": [
    "If two or more arguments are provided, then their combined product is returned:"
   ]
  },
  {
   "cell_type": "markdown",
   "id": "ba457fa4",
   "metadata": {},
   "source": [
    "$h \\cdot v = r$"
   ]
  },
  {
   "cell_type": "code",
   "execution_count": 41,
   "id": "142582cd",
   "metadata": {},
   "outputs": [
    {
     "data": {
      "text/plain": [
       "'r'"
      ]
     },
     "execution_count": 41,
     "metadata": {},
     "output_type": "execute_result"
    }
   ],
   "source": [
    ">>> v4.op('h','v')"
   ]
  },
  {
   "cell_type": "markdown",
   "id": "aa7f4911",
   "metadata": {},
   "source": [
    "$h \\cdot v \\cdot r = e$"
   ]
  },
  {
   "cell_type": "code",
   "execution_count": 42,
   "id": "57fd3696",
   "metadata": {},
   "outputs": [
    {
     "data": {
      "text/plain": [
       "'e'"
      ]
     },
     "execution_count": 42,
     "metadata": {},
     "output_type": "execute_result"
    }
   ],
   "source": [
    ">>> v4.op('h', 'v', 'r')  # h * v * hv"
   ]
  },
  {
   "cell_type": "markdown",
   "id": "e8c95fc4",
   "metadata": {},
   "source": [
    "### Inverse Elements"
   ]
  },
  {
   "cell_type": "code",
   "execution_count": 43,
   "id": "c23fd98f",
   "metadata": {},
   "outputs": [
    {
     "data": {
      "text/plain": [
       "'h'"
      ]
     },
     "execution_count": 43,
     "metadata": {},
     "output_type": "execute_result"
    }
   ],
   "source": [
    ">>> v4.inv('h')"
   ]
  },
  {
   "cell_type": "markdown",
   "id": "a1986552",
   "metadata": {},
   "source": [
    "That is, $h * h^{-1} = e$"
   ]
  },
  {
   "cell_type": "code",
   "execution_count": 44,
   "id": "77e89e25",
   "metadata": {},
   "outputs": [
    {
     "data": {
      "text/plain": [
       "'e'"
      ]
     },
     "execution_count": 44,
     "metadata": {},
     "output_type": "execute_result"
    }
   ],
   "source": [
    ">>> v4.op('h', v4.inv('h'))"
   ]
  },
  {
   "cell_type": "markdown",
   "id": "54e583c0",
   "metadata": {},
   "source": [
    "### Check if Abelian"
   ]
  },
  {
   "cell_type": "code",
   "execution_count": 45,
   "id": "a6231c58",
   "metadata": {},
   "outputs": [
    {
     "data": {
      "text/plain": [
       "True"
      ]
     },
     "execution_count": 45,
     "metadata": {},
     "output_type": "execute_result"
    }
   ],
   "source": [
    ">>> v4.is_abelian()"
   ]
  },
  {
   "cell_type": "markdown",
   "id": "9ccdb41a",
   "metadata": {},
   "source": [
    "### Check if Associative"
   ]
  },
  {
   "cell_type": "markdown",
   "id": "1ef3238b",
   "metadata": {},
   "source": [
    "NOTE: A group <u>must</u> be is_associative, so this check is done automatically when a group object is instantiated."
   ]
  },
  {
   "cell_type": "code",
   "execution_count": 46,
   "id": "5bc0f198",
   "metadata": {},
   "outputs": [
    {
     "data": {
      "text/plain": [
       "True"
      ]
     },
     "execution_count": 46,
     "metadata": {},
     "output_type": "execute_result"
    }
   ],
   "source": [
    ">>> v4.is_associative()"
   ]
  },
  {
   "cell_type": "markdown",
   "id": "51c5f1a1",
   "metadata": {},
   "source": [
    "### Group Generators"
   ]
  },
  {
   "cell_type": "markdown",
   "id": "efcbd162",
   "metadata": {},
   "source": [
    "For now, there is only one group generator, for cyclic groups of any finite order:"
   ]
  },
  {
   "cell_type": "code",
   "execution_count": 47,
   "id": "a2d6b3ea",
   "metadata": {},
   "outputs": [
    {
     "data": {
      "text/plain": [
       "Group(\n",
       "Z7,\n",
       "Autogenerated cyclic group of order 7,\n",
       "['e', 'a', 'a^2', 'a^3', 'a^4', 'a^5', 'a^6'],\n",
       "[[0, 1, 2, 3, 4, 5, 6], [1, 2, 3, 4, 5, 6, 0], [2, 3, 4, 5, 6, 0, 1], [3, 4, 5, 6, 0, 1, 2], [4, 5, 6, 0, 1, 2, 3], [5, 6, 0, 1, 2, 3, 4], [6, 0, 1, 2, 3, 4, 5]]\n",
       ")"
      ]
     },
     "execution_count": 47,
     "metadata": {},
     "output_type": "execute_result"
    }
   ],
   "source": [
    ">>> alg.generate_cyclic_group(7)"
   ]
  },
  {
   "cell_type": "markdown",
   "id": "a07cdc88",
   "metadata": {},
   "source": [
    "### Derive Direct Product"
   ]
  },
  {
   "cell_type": "code",
   "execution_count": 64,
   "id": "011cea9d",
   "metadata": {},
   "outputs": [
    {
     "data": {
      "text/plain": [
       "Group(\n",
       "V4_x_V4,\n",
       "Direct product of V4 & V4,\n",
       "['e-e', 'e-h', 'e-v', 'e-r', 'h-e', 'h-h', 'h-v', 'h-r', 'v-e', 'v-h', 'v-v', 'v-r', 'r-e', 'r-h', 'r-v', 'r-r'],\n",
       "[[0, 1, 2, 3, 4, 5, 6, 7, 8, 9, 10, 11, 12, 13, 14, 15], [1, 0, 3, 2, 5, 4, 7, 6, 9, 8, 11, 10, 13, 12, 15, 14], [2, 3, 0, 1, 6, 7, 4, 5, 10, 11, 8, 9, 14, 15, 12, 13], [3, 2, 1, 0, 7, 6, 5, 4, 11, 10, 9, 8, 15, 14, 13, 12], [4, 5, 6, 7, 0, 1, 2, 3, 12, 13, 14, 15, 8, 9, 10, 11], [5, 4, 7, 6, 1, 0, 3, 2, 13, 12, 15, 14, 9, 8, 11, 10], [6, 7, 4, 5, 2, 3, 0, 1, 14, 15, 12, 13, 10, 11, 8, 9], [7, 6, 5, 4, 3, 2, 1, 0, 15, 14, 13, 12, 11, 10, 9, 8], [8, 9, 10, 11, 12, 13, 14, 15, 0, 1, 2, 3, 4, 5, 6, 7], [9, 8, 11, 10, 13, 12, 15, 14, 1, 0, 3, 2, 5, 4, 7, 6], [10, 11, 8, 9, 14, 15, 12, 13, 2, 3, 0, 1, 6, 7, 4, 5], [11, 10, 9, 8, 15, 14, 13, 12, 3, 2, 1, 0, 7, 6, 5, 4], [12, 13, 14, 15, 8, 9, 10, 11, 4, 5, 6, 7, 0, 1, 2, 3], [13, 12, 15, 14, 9, 8, 11, 10, 5, 4, 7, 6, 1, 0, 3, 2], [14, 15, 12, 13, 10, 11, 8, 9, 6, 7, 4, 5, 2, 3, 0, 1], [15, 14, 13, 12, 11, 10, 9, 8, 7, 6, 5, 4, 3, 2, 1, 0]]\n",
       ")"
      ]
     },
     "execution_count": 64,
     "metadata": {},
     "output_type": "execute_result"
    }
   ],
   "source": [
    ">>> v4.direct_product_delimiter('-')  # Default delimiter is ':'\n",
    ">>> v4_x_v4 = v4 * v4\n",
    ">>> v4_x_v4"
   ]
  },
  {
   "cell_type": "markdown",
   "id": "6fbf26d1",
   "metadata": {},
   "source": [
    "### Convert to Dictionary or JSON string"
   ]
  },
  {
   "cell_type": "code",
   "execution_count": 56,
   "id": "9d31a20d",
   "metadata": {},
   "outputs": [
    {
     "data": {
      "text/plain": [
       "{'type': 'Group',\n",
       " 'name': 'V4',\n",
       " 'description': 'Klein-4 group',\n",
       " 'elements': ['e', 'h', 'v', 'r'],\n",
       " 'table': [[0, 1, 2, 3], [1, 0, 3, 2], [2, 3, 0, 1], [3, 2, 1, 0]]}"
      ]
     },
     "execution_count": 56,
     "metadata": {},
     "output_type": "execute_result"
    }
   ],
   "source": [
    ">>> v4.to_dict()"
   ]
  },
  {
   "cell_type": "code",
   "execution_count": 57,
   "id": "6d648876",
   "metadata": {},
   "outputs": [
    {
     "data": {
      "text/plain": [
       "'{\"type\": \"Group\", \"name\": \"V4\", \"description\": \"Klein-4 group\", \"elements\": [\"e\", \"h\", \"v\", \"r\"], \"table\": [[0, 1, 2, 3], [1, 0, 3, 2], [2, 3, 0, 1], [3, 2, 1, 0]]}'"
      ]
     },
     "execution_count": 57,
     "metadata": {},
     "output_type": "execute_result"
    }
   ],
   "source": [
    ">>> v4.dumps()"
   ]
  },
  {
   "cell_type": "markdown",
   "id": "d25fd341",
   "metadata": {},
   "source": [
    "### Proper Subgroups"
   ]
  },
  {
   "cell_type": "code",
   "execution_count": 59,
   "id": "79894ab3",
   "metadata": {},
   "outputs": [
    {
     "name": "stdout",
     "output_type": "stream",
     "text": [
      "\n",
      "All 3 of these proper subgroups are, obviously, isomorphic to each other.\n",
      "\n",
      "Group(V4_subgroup_0, Subgroup of: Klein-4 group, ['e', 'v'], [[0, 1], [1, 0]])\n",
      "Group(V4_subgroup_1, Subgroup of: Klein-4 group, ['e', 'h'], [[0, 1], [1, 0]])\n",
      "Group(V4_subgroup_2, Subgroup of: Klein-4 group, ['e', 'r'], [[0, 1], [1, 0]])\n"
     ]
    }
   ],
   "source": [
    ">>> subs = v4.proper_subgroups()\n",
    "\n",
    ">>> print(f\"\\nAll {len(subs)} of these proper subgroups are, obviously, isomorphic to each other.\\n\")\n",
    "\n",
    ">>> for sub in subs:\n",
    ">>>     print(sub)"
   ]
  },
  {
   "cell_type": "markdown",
   "id": "46a5940b",
   "metadata": {},
   "source": [
    "### Print Information about a Group"
   ]
  },
  {
   "cell_type": "code",
   "execution_count": 62,
   "id": "82331381",
   "metadata": {},
   "outputs": [
    {
     "name": "stdout",
     "output_type": "stream",
     "text": [
      "\n",
      "Group: V4_x_V4\n",
      "Description: Direct product of V4 & V4\n",
      "Identity: e-e\n",
      "Associative? Yes\n",
      "Commutative? Yes\n",
      "Elements:\n",
      "   Index   Name   Inverse  Order\n",
      "      0     e-e     e-e       1\n",
      "      1     e-h     e-h       2\n",
      "      2     e-v     e-v       2\n",
      "      3     e-r     e-r       2\n",
      "      4     h-e     h-e       2\n",
      "      5     h-h     h-h       2\n",
      "      6     h-v     h-v       2\n",
      "      7     h-r     h-r       2\n",
      "      8     v-e     v-e       2\n",
      "      9     v-h     v-h       2\n",
      "     10     v-v     v-v       2\n",
      "     11     v-r     v-r       2\n",
      "     12     r-e     r-e       2\n",
      "     13     r-h     r-h       2\n",
      "     14     r-v     r-v       2\n",
      "     15     r-r     r-r       2\n",
      "Cayley Table (showing indices):\n",
      "[[0, 1, 2, 3, 4, 5, 6, 7, 8, 9, 10, 11, 12, 13, 14, 15],\n",
      " [1, 0, 3, 2, 5, 4, 7, 6, 9, 8, 11, 10, 13, 12, 15, 14],\n",
      " [2, 3, 0, 1, 6, 7, 4, 5, 10, 11, 8, 9, 14, 15, 12, 13],\n",
      " [3, 2, 1, 0, 7, 6, 5, 4, 11, 10, 9, 8, 15, 14, 13, 12],\n",
      " [4, 5, 6, 7, 0, 1, 2, 3, 12, 13, 14, 15, 8, 9, 10, 11],\n",
      " [5, 4, 7, 6, 1, 0, 3, 2, 13, 12, 15, 14, 9, 8, 11, 10],\n",
      " [6, 7, 4, 5, 2, 3, 0, 1, 14, 15, 12, 13, 10, 11, 8, 9],\n",
      " [7, 6, 5, 4, 3, 2, 1, 0, 15, 14, 13, 12, 11, 10, 9, 8],\n",
      " [8, 9, 10, 11, 12, 13, 14, 15, 0, 1, 2, 3, 4, 5, 6, 7],\n",
      " [9, 8, 11, 10, 13, 12, 15, 14, 1, 0, 3, 2, 5, 4, 7, 6],\n",
      " [10, 11, 8, 9, 14, 15, 12, 13, 2, 3, 0, 1, 6, 7, 4, 5],\n",
      " [11, 10, 9, 8, 15, 14, 13, 12, 3, 2, 1, 0, 7, 6, 5, 4],\n",
      " [12, 13, 14, 15, 8, 9, 10, 11, 4, 5, 6, 7, 0, 1, 2, 3],\n",
      " [13, 12, 15, 14, 9, 8, 11, 10, 5, 4, 7, 6, 1, 0, 3, 2],\n",
      " [14, 15, 12, 13, 10, 11, 8, 9, 6, 7, 4, 5, 2, 3, 0, 1],\n",
      " [15, 14, 13, 12, 11, 10, 9, 8, 7, 6, 5, 4, 3, 2, 1, 0]]\n"
     ]
    }
   ],
   "source": [
    ">>> v4_x_v4.about(max_size=20)"
   ]
  },
  {
   "cell_type": "markdown",
   "id": "0fec4a27",
   "metadata": {},
   "source": [
    "### Resources"
   ]
  },
  {
   "cell_type": "markdown",
   "id": "1ee75871",
   "metadata": {},
   "source": [
    "* <b>Book</b>: [\"Visual Group Theory\" by Nathan Carter](https://bookstore.ams.org/clrm-32)\n",
    "* [Group Explorer](https://nathancarter.github.io/group-explorer/index.html) -- Visualization software for the abstract algebra classroom\n",
    "* [Groupprops, The Group Properties Wiki (beta)](https://groupprops.subwiki.org/wiki/Main_Page)\n",
    "* [GroupNames](https://people.maths.bris.ac.uk/~matyd/GroupNames/index.html) -- \"A database, under construction, of names, extensions, properties and character tables of finite groups of small order.\"\n",
    "* [GAP](https://www.gap-system.org/#:~:text=What%20is%20GAP%3F,data%20libraries%20of%20algebraic%20objects.) -- \"Groups, Algorithms, Programming - a System for Computational Discrete Algebra\"\n",
    "* [Groups of small order](http://www.math.ucsd.edu/~atparris/small_groups.html): Compiled by John Pedersen, Dept of Mathematics, University of South Florida\n",
    "* [List of small groups](https://en.wikipedia.org/wiki/List_of_small_groups): Finite groups of small order up to group isomorphism\n",
    "* [Classification of Groups of Order n ≤ 8 (PDF)](http://www2.lawrence.edu/fast/corrys/Math300/8Groups.pdf)\n",
    "* [Subgroups of Order 4 (PDF)](http://newton.uor.edu/facultyfolder/beery/abstract_algebra/08_SbgrpsOrder4.pdf)\n",
    "* Klein four-group, V4\n",
    "  * [Wikipedia](https://en.wikipedia.org/wiki/Klein_four-group)\n",
    "  * [Group Explorer](https://github.com/nathancarter/group-explorer/blob/master/groups/V_4.group)\n",
    "* Cyclic group\n",
    "  * [Wikipedia](https://en.wikipedia.org/wiki/Cyclic_group)\n",
    "  * [Z4, cyclic group of order 4](https://github.com/nathancarter/group-explorer/blob/master/groups/Z_4.group)\n",
    "* Symmetric group\n",
    "  * [Symmetric group on 3 letters](https://github.com/nathancarter/group-explorer/blob/master/groups/S_3.group). Another name for this group is <i>\"Dihedral group on 3 vertices\"</i>"
   ]
  },
  {
   "cell_type": "code",
   "execution_count": null,
   "id": "a1ef3d32",
   "metadata": {},
   "outputs": [],
   "source": []
  }
 ],
 "metadata": {
  "kernelspec": {
   "display_name": "Python 3",
   "language": "python",
   "name": "python3"
  },
  "language_info": {
   "codemirror_mode": {
    "name": "ipython",
    "version": 3
   },
   "file_extension": ".py",
   "mimetype": "text/x-python",
   "name": "python",
   "nbconvert_exporter": "python",
   "pygments_lexer": "ipython3",
   "version": "3.7.7"
  }
 },
 "nbformat": 4,
 "nbformat_minor": 5
}
