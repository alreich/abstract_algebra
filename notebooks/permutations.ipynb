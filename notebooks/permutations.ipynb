{
 "cells": [
  {
   "cell_type": "markdown",
   "id": "f2355560",
   "metadata": {},
   "source": [
    "# Permutation Groups"
   ]
  },
  {
   "cell_type": "code",
   "execution_count": 138,
   "id": "9003cd39",
   "metadata": {},
   "outputs": [],
   "source": [
    "def permutation_mapping(perm, base=0):\n",
    "    return {i:perm[i - base] for i in range(base, len(perm) + base)}\n",
    "\n",
    "def compose_perms(q, p, base=0):\n",
    "    \"\"\"Apply permutation q to permutation p.  That is q o p = q(p).\n",
    "\n",
    "    Example: from Pinter, page 71\n",
    "\n",
    "     beta =  1  2  3\n",
    "             |  |  |\n",
    "             3  1  2\n",
    "            \n",
    "    alpha =  1  2  3\n",
    "             |  |  |\n",
    "             1  3  2\n",
    "             \n",
    "    compose_perms(alpha, beta, 1) = \n",
    "             \n",
    "             1  2  3\n",
    "             |  |  |\n",
    "             2  1  3\n",
    "    \"\"\"\n",
    "    qmap = permutation_mapping(q, base)\n",
    "    pmap = permutation_mapping(p, base)\n",
    "    return tuple([qmap[pmap[i]] for i in range(base, len(q) + base)])"
   ]
  },
  {
   "cell_type": "code",
   "execution_count": 139,
   "id": "aee6e6b8",
   "metadata": {},
   "outputs": [
    {
     "name": "stdout",
     "output_type": "stream",
     "text": [
      "{0: 0, 1: 1, 2: 2, 3: 3}\n",
      "{1: 3, 2: 1, 3: 2}\n"
     ]
    }
   ],
   "source": [
    "print(mapping((0, 1, 2, 3)))\n",
    "print(mapping((3,1,2), 1))"
   ]
  },
  {
   "cell_type": "markdown",
   "id": "c0dbdff3",
   "metadata": {},
   "source": [
    "The following tests are from Pinter, p. 71"
   ]
  },
  {
   "cell_type": "code",
   "execution_count": 140,
   "id": "ca35c986",
   "metadata": {},
   "outputs": [],
   "source": [
    "epsilon = (1, 2, 3)\n",
    "alpha = (1, 3, 2)\n",
    "beta = (3, 1, 2)\n",
    "gamma = (2, 1, 3)\n",
    "delta = (2, 3, 1)\n",
    "kappa = (3, 2, 1)"
   ]
  },
  {
   "cell_type": "code",
   "execution_count": 141,
   "id": "20546f55",
   "metadata": {},
   "outputs": [
    {
     "data": {
      "text/plain": [
       "(3, 1, 2)"
      ]
     },
     "execution_count": 141,
     "metadata": {},
     "output_type": "execute_result"
    }
   ],
   "source": [
    "compose_perms(beta, epsilon, 1)  # Should be (3, 1, 2)"
   ]
  },
  {
   "cell_type": "code",
   "execution_count": 143,
   "id": "2ee0312d",
   "metadata": {},
   "outputs": [
    {
     "data": {
      "text/plain": [
       "(2, 1, 3)"
      ]
     },
     "execution_count": 143,
     "metadata": {},
     "output_type": "execute_result"
    }
   ],
   "source": [
    "compose_perms(alpha, beta, 1)  # Should be (2, 1, 3)"
   ]
  },
  {
   "cell_type": "code",
   "execution_count": null,
   "id": "c0937704",
   "metadata": {},
   "outputs": [],
   "source": []
  },
  {
   "cell_type": "code",
   "execution_count": null,
   "id": "9d0c7f8e",
   "metadata": {},
   "outputs": [],
   "source": []
  }
 ],
 "metadata": {
  "kernelspec": {
   "display_name": "Python 3",
   "language": "python",
   "name": "python3"
  },
  "language_info": {
   "codemirror_mode": {
    "name": "ipython",
    "version": 3
   },
   "file_extension": ".py",
   "mimetype": "text/x-python",
   "name": "python",
   "nbconvert_exporter": "python",
   "pygments_lexer": "ipython3",
   "version": "3.7.7"
  }
 },
 "nbformat": 4,
 "nbformat_minor": 5
}
