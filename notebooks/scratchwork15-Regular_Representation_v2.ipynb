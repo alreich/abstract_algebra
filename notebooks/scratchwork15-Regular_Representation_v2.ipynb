{
 "cells": [
  {
   "cell_type": "markdown",
   "id": "f217c120",
   "metadata": {},
   "source": [
    "# Regular Representation"
   ]
  },
  {
   "cell_type": "markdown",
   "id": "b9fe5b82",
   "metadata": {},
   "source": [
    "<i>Version 2</i>"
   ]
  },
  {
   "cell_type": "markdown",
   "id": "9f332e38",
   "metadata": {},
   "source": [
    "## Theory"
   ]
  },
  {
   "cell_type": "markdown",
   "id": "a2280e06",
   "metadata": {},
   "source": [
    "Let $G = \\langle A, \\circ \\rangle$, be a group, where $A = \\{a_0, a_1, \\dots , a_{n - 1}\\}$ is the set of the group's elements, and $\\circ$ is its binary operator."
   ]
  },
  {
   "cell_type": "markdown",
   "id": "a03b3468",
   "metadata": {},
   "source": [
    "Also, let $B = \\{\\hat{b}_0, \\hat{b}_1, \\dots , \\hat{b}_{n-1} \\}$ be a set of $nx1$ vectors:\n",
    "\n",
    "$\\hat{b}_0 = \\begin{bmatrix}\n",
    "1 \\\\\n",
    "0 \\\\\n",
    "0 \\\\\n",
    "\\vdots \\\\\n",
    "0 \\end{bmatrix},\n",
    "\\hat{b}_1 = \\begin{bmatrix}\n",
    "0 \\\\\n",
    "1 \\\\\n",
    "0 \\\\\n",
    "\\vdots \\\\\n",
    "0 \\end{bmatrix},\n",
    "\\dots,\n",
    "\\hat{b}_{n-1} = \\begin{bmatrix}\n",
    "0 \\\\\n",
    "0 \\\\\n",
    "0 \\\\\n",
    "\\vdots \\\\\n",
    "1 \\end{bmatrix}$"
   ]
  },
  {
   "cell_type": "markdown",
   "id": "2618ff51",
   "metadata": {},
   "source": [
    "And, define the following bijection between $A$ and $B$:\n",
    "\n",
    "$V(a_i) = \\hat{b}_i$ for $i = 0, \\dots , n - 1$"
   ]
  },
  {
   "cell_type": "markdown",
   "id": "b3a13e86",
   "metadata": {},
   "source": [
    "and let $\\cdot$ denote matrix-vector multiplication, and define the $nxn$ matrix,\n",
    "\n",
    "$C_k = (c^k_{ij})_{i,j=0,\\dots,n-1}$\n",
    "\n",
    "where $c^k_{ij} = \\hat{b}_i^T \\cdot V(a_k \\circ V^{-1}(\\hat{b}_j))$"
   ]
  },
  {
   "cell_type": "markdown",
   "id": "e98f5a5d",
   "metadata": {},
   "source": [
    "## Implementation (on a Small Test Group)"
   ]
  },
  {
   "cell_type": "markdown",
   "id": "aabe9d22",
   "metadata": {},
   "source": [
    "The following Python code demonstrates the generation of matrices, $C_0 \\dots , C_{n - 1}$, based on a small group of order $n$."
   ]
  },
  {
   "cell_type": "code",
   "execution_count": 1,
   "id": "c97e4689",
   "metadata": {},
   "outputs": [],
   "source": [
    "import numpy as np\n",
    "import finite_algebras as alg"
   ]
  },
  {
   "cell_type": "markdown",
   "id": "9d37ae8e",
   "metadata": {},
   "source": [
    "### A Small Test Group"
   ]
  },
  {
   "cell_type": "code",
   "execution_count": 2,
   "id": "a7d05981",
   "metadata": {},
   "outputs": [
    {
     "name": "stdout",
     "output_type": "stream",
     "text": [
      "\n",
      "** Group **\n",
      "Name: Z4\n",
      "Instance ID: 4616712848\n",
      "Description: Cyclic group of order 4\n",
      "Order: 4\n",
      "Identity: R0\n",
      "Commutative? Yes\n",
      "Cyclic?: Yes\n",
      "  Generators: ['R270', 'R90']\n",
      "Elements:\n",
      "   Index   Name   Inverse  Order\n",
      "      0      R0      R0       1\n",
      "      1     R90    R270       4\n",
      "      2    R180    R180       2\n",
      "      3    R270     R90       4\n",
      "Cayley Table (showing indices):\n",
      "[[0, 1, 2, 3], [1, 2, 3, 0], [2, 3, 0, 1], [3, 0, 1, 2]]\n"
     ]
    }
   ],
   "source": [
    "grp = alg.make_finite_algebra(\n",
    "    'Z4',\n",
    "    'Cyclic group of order 4',\n",
    "    ['R0', 'R90', 'R180', 'R270'],\n",
    "    [[0, 1, 2, 3], [1, 2, 3, 0], [2, 3, 0, 1], [3, 0, 1, 2]]\n",
    ")\n",
    "\n",
    "grp.about()"
   ]
  },
  {
   "cell_type": "code",
   "execution_count": 3,
   "id": "1717bc4c",
   "metadata": {},
   "outputs": [],
   "source": [
    "a = grp.elements\n",
    "n = grp.order"
   ]
  },
  {
   "cell_type": "markdown",
   "id": "d3adfe58",
   "metadata": {},
   "source": [
    "### The Bijection between Group Elements and Vectors"
   ]
  },
  {
   "cell_type": "code",
   "execution_count": 4,
   "id": "144fc2d6",
   "metadata": {},
   "outputs": [
    {
     "data": {
      "text/plain": [
       "[array([[1],\n",
       "        [0],\n",
       "        [0],\n",
       "        [0]]),\n",
       " array([[0],\n",
       "        [1],\n",
       "        [0],\n",
       "        [0]]),\n",
       " array([[0],\n",
       "        [0],\n",
       "        [1],\n",
       "        [0]]),\n",
       " array([[0],\n",
       "        [0],\n",
       "        [0],\n",
       "        [1]])]"
      ]
     },
     "execution_count": 4,
     "metadata": {},
     "output_type": "execute_result"
    }
   ],
   "source": [
    "b = [np.zeros((n,1), dtype=int) for _ in range(n)]\n",
    "\n",
    "i = 0\n",
    "for x in b:\n",
    "    x[i] = 1\n",
    "    i += 1\n",
    "    \n",
    "b"
   ]
  },
  {
   "cell_type": "code",
   "execution_count": 5,
   "id": "a696bcc6",
   "metadata": {},
   "outputs": [
    {
     "data": {
      "text/plain": [
       "{'R0': array([[1],\n",
       "        [0],\n",
       "        [0],\n",
       "        [0]]),\n",
       " 'R90': array([[0],\n",
       "        [1],\n",
       "        [0],\n",
       "        [0]]),\n",
       " 'R180': array([[0],\n",
       "        [0],\n",
       "        [1],\n",
       "        [0]]),\n",
       " 'R270': array([[0],\n",
       "        [0],\n",
       "        [0],\n",
       "        [1]])}"
      ]
     },
     "execution_count": 5,
     "metadata": {},
     "output_type": "execute_result"
    }
   ],
   "source": [
    "mapping = dict(zip(a, b))\n",
    "mapping"
   ]
  },
  {
   "cell_type": "markdown",
   "id": "cc765319",
   "metadata": {},
   "source": [
    "The dictionary, above, maps group elements to \"vectors\" (NumPy arrays). To complete the bijection, we need another dictionary that goes in the reverse direction, \"vectors\" to group elements. However, dictionary keys must be immutable, and NumPy arrays are mutable, so the code, below, transforms NumPy arrays to tuples, which <i>are</i> immutable."
   ]
  },
  {
   "cell_type": "code",
   "execution_count": 6,
   "id": "9a340c67",
   "metadata": {},
   "outputs": [
    {
     "data": {
      "text/plain": [
       "{(1, 0, 0, 0): 'R0',\n",
       " (0, 1, 0, 0): 'R90',\n",
       " (0, 0, 1, 0): 'R180',\n",
       " (0, 0, 0, 1): 'R270'}"
      ]
     },
     "execution_count": 6,
     "metadata": {},
     "output_type": "execute_result"
    }
   ],
   "source": [
    "def to_tuple(vec):\n",
    "    '''Turns a column vector into a tuple, for use as a dictionary key.'''\n",
    "    return tuple(map(lambda x: x[0], list(vec)))\n",
    "\n",
    "inv_mapping = {to_tuple(val): key for key, val in mapping.items()}\n",
    "inv_mapping"
   ]
  },
  {
   "cell_type": "code",
   "execution_count": 7,
   "id": "6406d3bc",
   "metadata": {},
   "outputs": [
    {
     "name": "stdout",
     "output_type": "stream",
     "text": [
      "R90\n",
      "[[0]\n",
      " [1]\n",
      " [0]\n",
      " [0]]\n",
      "R90\n"
     ]
    }
   ],
   "source": [
    "def V(elem):\n",
    "    '''Given a group element name, return the corresponding vector.'''\n",
    "    return mapping[elem]\n",
    "\n",
    "def Vinv(vec):\n",
    "    '''Given a vector, return the corresponding element.'''\n",
    "    return inv_mapping[to_tuple(vec)]\n",
    "\n",
    "elem = a[1]\n",
    "vec = V(elem)\n",
    "elem2 = Vinv(vec)\n",
    "\n",
    "print(elem)\n",
    "print(vec)\n",
    "print(elem2)"
   ]
  },
  {
   "cell_type": "markdown",
   "id": "a8f9952a",
   "metadata": {},
   "source": [
    "### Regular Representation Matrices"
   ]
  },
  {
   "cell_type": "markdown",
   "id": "8253bfad",
   "metadata": {},
   "source": [
    "Recall from the Theory section, above, $C_k = (c^k_{ij})_{i,j=0,\\dots,n-1}$ where $c^k_{ij} = \\hat{b}_i^T \\cdot V(a_k \\circ V^{-1}(\\hat{b}_j))$"
   ]
  },
  {
   "cell_type": "code",
   "execution_count": 8,
   "id": "7d9a2c2c",
   "metadata": {},
   "outputs": [
    {
     "data": {
      "text/plain": [
       "{'R0': array([[1., 0., 0., 0.],\n",
       "        [0., 1., 0., 0.],\n",
       "        [0., 0., 1., 0.],\n",
       "        [0., 0., 0., 1.]]),\n",
       " 'R90': array([[0., 0., 0., 1.],\n",
       "        [1., 0., 0., 0.],\n",
       "        [0., 1., 0., 0.],\n",
       "        [0., 0., 1., 0.]]),\n",
       " 'R180': array([[0., 0., 1., 0.],\n",
       "        [0., 0., 0., 1.],\n",
       "        [1., 0., 0., 0.],\n",
       "        [0., 1., 0., 0.]]),\n",
       " 'R270': array([[0., 1., 0., 0.],\n",
       "        [0., 0., 1., 0.],\n",
       "        [0., 0., 0., 1.],\n",
       "        [1., 0., 0., 0.]])}"
      ]
     },
     "execution_count": 8,
     "metadata": {},
     "output_type": "execute_result"
    }
   ],
   "source": [
    "reg_rep = dict()\n",
    "\n",
    "for k in range(n):\n",
    "    c_k = np.zeros((n, n))\n",
    "    for i in range(n):\n",
    "        for j in range(n):\n",
    "            c_k[i][j] = np.dot(b[i].transpose(), V(grp.op(a[k], Vinv(b[j]))))\n",
    "    reg_rep[a[k]] = c_k\n",
    "\n",
    "reg_rep"
   ]
  },
  {
   "cell_type": "markdown",
   "id": "22eea4e9",
   "metadata": {},
   "source": [
    "### Verification"
   ]
  },
  {
   "cell_type": "markdown",
   "id": "84fc4cd4",
   "metadata": {},
   "source": [
    "The dictionary below was entered by hand, and has the correct regular representation mapping for the test group used above."
   ]
  },
  {
   "cell_type": "code",
   "execution_count": 9,
   "id": "c63523a4",
   "metadata": {},
   "outputs": [],
   "source": [
    "rot_dict = {\n",
    "    'R0': np.array([[1, 0, 0, 0],\n",
    "                    [0, 1, 0, 0],\n",
    "                    [0, 0, 1, 0],\n",
    "                    [0, 0, 0, 1]]),\n",
    "    'R90': np.array([[0, 0, 0, 1],\n",
    "                     [1, 0, 0, 0],\n",
    "                     [0, 1, 0, 0],\n",
    "                     [0, 0, 1, 0]]),\n",
    "    'R180': np.array([[0, 0, 1, 0],\n",
    "                      [0, 0, 0, 1],\n",
    "                      [1, 0, 0, 0],\n",
    "                      [0, 1, 0, 0]]),\n",
    "    'R270': np.array([[0, 1, 0, 0],\n",
    "                      [0, 0, 1, 0],\n",
    "                      [0, 0, 0, 1],\n",
    "                      [1, 0, 0, 0]])\n",
    "}"
   ]
  },
  {
   "cell_type": "markdown",
   "id": "b6df1ecd",
   "metadata": {},
   "source": [
    "Test to see if all of the matrices, computed for <b>reg_rep</b>, equal their counterpart in <b>rot_dict</b>."
   ]
  },
  {
   "cell_type": "code",
   "execution_count": 10,
   "id": "c356fe75",
   "metadata": {},
   "outputs": [
    {
     "data": {
      "text/plain": [
       "True"
      ]
     },
     "execution_count": 10,
     "metadata": {},
     "output_type": "execute_result"
    }
   ],
   "source": [
    "all([np.array_equal(reg_rep[elem], rot_dict[elem]) for elem in a])"
   ]
  }
 ],
 "metadata": {
  "kernelspec": {
   "display_name": "Python 3 (ipykernel)",
   "language": "python",
   "name": "python3"
  },
  "language_info": {
   "codemirror_mode": {
    "name": "ipython",
    "version": 3
   },
   "file_extension": ".py",
   "mimetype": "text/x-python",
   "name": "python",
   "nbconvert_exporter": "python",
   "pygments_lexer": "ipython3",
   "version": "3.11.5"
  }
 },
 "nbformat": 4,
 "nbformat_minor": 5
}
