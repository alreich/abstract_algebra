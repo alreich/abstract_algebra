{
 "cells": [
  {
   "cell_type": "markdown",
   "id": "9e6e51fd",
   "metadata": {},
   "source": [
    "# Scratchwork 11  - Field of Order 2"
   ]
  },
  {
   "cell_type": "code",
   "execution_count": 7,
   "id": "8b1e8190",
   "metadata": {},
   "outputs": [],
   "source": [
    "from finite_algebras import make_finite_algebra"
   ]
  },
  {
   "cell_type": "code",
   "execution_count": 15,
   "id": "ca34556c",
   "metadata": {},
   "outputs": [],
   "source": [
    "import os\n",
    "aa_path = os.path.join(os.getenv(\"PYPROJ\"), \"abstract_algebra\")\n",
    "alg_dir = os.path.join(aa_path, \"Algebras\")"
   ]
  },
  {
   "cell_type": "markdown",
   "id": "0c50e697",
   "metadata": {},
   "source": [
    "Ref: See paper <b>\"236w06fields.pdf\"</b>"
   ]
  },
  {
   "cell_type": "code",
   "execution_count": 10,
   "id": "8dced24e",
   "metadata": {},
   "outputs": [
    {
     "data": {
      "text/plain": [
       "Field(\n",
       "'F2',\n",
       "'Field with 2 elements from paper: 236w06fields.pdf',\n",
       "['0', '1'],\n",
       "[[0, 1], [1, 0]],\n",
       "[[0, 0], [0, 1]]\n",
       ")"
      ]
     },
     "execution_count": 10,
     "metadata": {},
     "output_type": "execute_result"
    }
   ],
   "source": [
    ">>> f2 = make_finite_algebra('F2',\n",
    "                             'Field with 2 elements from paper: 236w06fields.pdf',\n",
    "                             ['0', '1'],\n",
    "                             [['0', '1'],\n",
    "                              ['1', '0']],\n",
    "                             [['0', '0'],\n",
    "                              ['0', '1']]\n",
    "                            )\n",
    "\n",
    ">>> f2"
   ]
  },
  {
   "cell_type": "code",
   "execution_count": 13,
   "id": "bddfd9dd",
   "metadata": {},
   "outputs": [
    {
     "data": {
      "text/plain": [
       "'{\"name\": \"F2\", \"description\": \"Field with 2 elements from paper: 236w06fields.pdf\", \"elements\": [\"0\", \"1\"], \"table\": [[0, 1], [1, 0]], \"table2\": [[0, 0], [0, 1]]}'"
      ]
     },
     "execution_count": 13,
     "metadata": {},
     "output_type": "execute_result"
    }
   ],
   "source": [
    "f2.dumps()"
   ]
  },
  {
   "cell_type": "code",
   "execution_count": 12,
   "id": "d517df6a",
   "metadata": {},
   "outputs": [
    {
     "name": "stdout",
     "output_type": "stream",
     "text": [
      "\n",
      "NDimensionalVectorSpace: 3D-F2\n",
      "Instance ID: 140379281430224\n",
      "Description: 3-dimensional Vector Space over F2\n",
      "\n",
      "SCALARS:\n",
      "\n",
      "** Field **\n",
      "Name: F2\n",
      "Instance ID: 140379283249568\n",
      "Description: Field with 2 elements from paper: 236w06fields.pdf\n",
      "Order: 2\n",
      "Identity: 0\n",
      "Commutative? Yes\n",
      "Cyclic?: Yes\n",
      "  Generators: ['1']\n",
      "Elements:\n",
      "   Index   Name   Inverse  Order\n",
      "      0       0       0       1\n",
      "      1       1       1       2\n",
      "Cayley Table (showing indices):\n",
      "[[0, 1], [1, 0]]\n",
      "Mult. Identity: 1\n",
      "Mult. Commutative? Yes\n",
      "Zero Divisors: None\n",
      "Multiplicative Cayley Table (showing indices):\n",
      "[[0, 0], [0, 1]]\n",
      "\n",
      "VECTORS:\n",
      "\n",
      "** Ring **\n",
      "Name: F2_x_F2_x_F2\n",
      "Instance ID: 140379281422752\n",
      "Description: Direct product of F2_x_F2 & F2\n",
      "Order: 8\n",
      "Identity: 0:0:0\n",
      "Commutative? Yes\n",
      "Cyclic?: No\n",
      "Elements:\n",
      "   Index   Name   Inverse  Order\n",
      "      0   0:0:0   0:0:0       1\n",
      "      1   0:0:1   0:0:1       2\n",
      "      2   0:1:0   0:1:0       2\n",
      "      3   0:1:1   0:1:1       2\n",
      "      4   1:0:0   1:0:0       2\n",
      "      5   1:0:1   1:0:1       2\n",
      "      6   1:1:0   1:1:0       2\n",
      "      7   1:1:1   1:1:1       2\n",
      "Cayley Table (showing indices):\n",
      "[[0, 1, 2, 3, 4, 5, 6, 7],\n",
      " [1, 0, 3, 2, 5, 4, 7, 6],\n",
      " [2, 3, 0, 1, 6, 7, 4, 5],\n",
      " [3, 2, 1, 0, 7, 6, 5, 4],\n",
      " [4, 5, 6, 7, 0, 1, 2, 3],\n",
      " [5, 4, 7, 6, 1, 0, 3, 2],\n",
      " [6, 7, 4, 5, 2, 3, 0, 1],\n",
      " [7, 6, 5, 4, 3, 2, 1, 0]]\n",
      "Mult. Identity: 1:1:1\n",
      "Mult. Commutative? Yes\n",
      "Zero Divisors: ['0:0:1', '0:1:0', '0:1:1', '1:0:0', '1:0:1', '1:1:0']\n",
      "Multiplicative Cayley Table (showing indices):\n",
      "[[0, 0, 0, 0, 0, 0, 0, 0],\n",
      " [0, 1, 0, 1, 0, 1, 0, 1],\n",
      " [0, 0, 2, 2, 0, 0, 2, 2],\n",
      " [0, 1, 2, 3, 0, 1, 2, 3],\n",
      " [0, 0, 0, 0, 4, 4, 4, 4],\n",
      " [0, 1, 0, 1, 4, 5, 4, 5],\n",
      " [0, 0, 2, 2, 4, 4, 6, 6],\n",
      " [0, 1, 2, 3, 4, 5, 6, 7]]\n"
     ]
    }
   ],
   "source": [
    "vs3 = NDimensionalVectorSpace(f2, 3)\n",
    "vs3.about()"
   ]
  },
  {
   "cell_type": "code",
   "execution_count": 17,
   "id": "d762f902",
   "metadata": {},
   "outputs": [
    {
     "name": "stdout",
     "output_type": "stream",
     "text": [
      "======================================================================\n",
      "                           Example Algebras\n",
      "----------------------------------------------------------------------\n",
      "  17 example algebras are available.\n",
      "  Use \"Examples[INDEX]\" to retrieve a specific example,\n",
      "  where INDEX is the first number on each line below:\n",
      "----------------------------------------------------------------------\n",
      "0: A4 -- Alternating group on 4 letters (AKA Tetrahedral group)\n",
      "1: D3 -- https://en.wikipedia.org/wiki/Dihedral_group_of_order_6\n",
      "2: D4 -- Dihedral group on four vertices\n",
      "3: Pinter29 -- Non-abelian group, p.29, 'A Book of Abstract Algebra' by Charles C. Pinter\n",
      "4: RPS -- Rock, Paper, Scissors Magma\n",
      "5: S3 -- Symmetric group on 3 letters\n",
      "6: S3X -- Another version of the symmetric group on 3 letters\n",
      "7: V4 -- Klein-4 group\n",
      "8: Z4 -- Cyclic group of order 4\n",
      "9: F4 -- Field with 4 elements (from Wikipedia)\n",
      "10: mag_id -- Magma with Identity\n",
      "11: Example 1.4.1 -- See: Groupoids and Smarandache Groupoids by W. B. Vasantha Kandasamy\n",
      "12: Ex6 -- Example 6: http://www-groups.mcs.st-andrews.ac.uk/~john/MT4517/Lectures/L3.html\n",
      "13: Q8 -- Quaternion Group\n",
      "14: SD16 -- Semidihedral group of order 16\n",
      "15: A5 -- Alternating group on 5 letters\n",
      "16: F2 -- Field with 2 elements from paper: 236w06fields.pdf\n",
      "======================================================================\n"
     ]
    }
   ],
   "source": [
    "ex = Examples(alg_dir)"
   ]
  },
  {
   "cell_type": "code",
   "execution_count": 18,
   "id": "2028b098",
   "metadata": {},
   "outputs": [],
   "source": [
    "f2 = ex[16]"
   ]
  },
  {
   "cell_type": "code",
   "execution_count": 19,
   "id": "24ec0a4a",
   "metadata": {},
   "outputs": [
    {
     "name": "stdout",
     "output_type": "stream",
     "text": [
      "\n",
      "** Field **\n",
      "Name: F2\n",
      "Instance ID: 140379531145472\n",
      "Description: Field with 2 elements from paper: 236w06fields.pdf\n",
      "Order: 2\n",
      "Identity: 0\n",
      "Commutative? Yes\n",
      "Cyclic?: Yes\n",
      "  Generators: ['1']\n",
      "Elements:\n",
      "   Index   Name   Inverse  Order\n",
      "      0       0       0       1\n",
      "      1       1       1       2\n",
      "Cayley Table (showing names):\n",
      "[['0', '1'], ['1', '0']]\n",
      "Mult. Identity: 1\n",
      "Mult. Commutative? Yes\n",
      "Zero Divisors: None\n",
      "Multiplicative Cayley Table (showing names):\n",
      "[['0', '0'], ['0', '1']]\n"
     ]
    }
   ],
   "source": [
    "f2.about(use_table_names=True)"
   ]
  },
  {
   "cell_type": "code",
   "execution_count": null,
   "id": "a71341b4",
   "metadata": {},
   "outputs": [],
   "source": []
  }
 ],
 "metadata": {
  "kernelspec": {
   "display_name": "Python 3 (ipykernel)",
   "language": "python",
   "name": "python3"
  },
  "language_info": {
   "codemirror_mode": {
    "name": "ipython",
    "version": 3
   },
   "file_extension": ".py",
   "mimetype": "text/x-python",
   "name": "python",
   "nbconvert_exporter": "python",
   "pygments_lexer": "ipython3",
   "version": "3.9.16"
  }
 },
 "nbformat": 4,
 "nbformat_minor": 5
}
