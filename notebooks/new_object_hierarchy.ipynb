{
 "cells": [
  {
   "cell_type": "markdown",
   "id": "2a0ca65e",
   "metadata": {},
   "source": [
    "# New Object Hierarchy"
   ]
  },
  {
   "cell_type": "code",
   "execution_count": 18,
   "id": "d9b4bd9d",
   "metadata": {},
   "outputs": [],
   "source": [
    "import numpy as np\n",
    "import functools as fnc\n",
    "import pprint as pp"
   ]
  },
  {
   "cell_type": "markdown",
   "id": "aa23b0bf",
   "metadata": {},
   "source": [
    "## Magma"
   ]
  },
  {
   "cell_type": "code",
   "execution_count": 38,
   "id": "7d1ae582",
   "metadata": {},
   "outputs": [],
   "source": [
    "class Magma:\n",
    "    \n",
    "    def __init__(self, elems, tbl):\n",
    "        self.elements = elems\n",
    "        self.table = np.array(tbl)\n",
    "        \n",
    "    def __contains__(self, element):\n",
    "        return element in self.elements\n",
    "\n",
    "    def __getitem__(self, index):\n",
    "        return self.elements[index]\n",
    "\n",
    "    def op(self, *args):\n",
    "        if len(args) == 1:\n",
    "            if args[0] in self.elements:\n",
    "                return args[0]\n",
    "            else:\n",
    "                raise ValueError(f\"{args[0]} is not a valid element name\")\n",
    "        elif len(args) == 2:\n",
    "            row = self.elements.index(args[0])\n",
    "            col = self.elements.index(args[1])\n",
    "            index = self.table[row, col]\n",
    "            return self.elements[index]\n",
    "        else:\n",
    "            return fnc.reduce(lambda a, b: self.op(a, b), args)\n",
    "    \n",
    "    def __repr__(self):\n",
    "        return f\"{self.__class__.__name__}(\\n{self.elements}, \\n{self.table})\"\n",
    "    \n",
    "    def table_with_names(self):\n",
    "        return [[self.elements[index] for index in row] for row in self.table]"
   ]
  },
  {
   "cell_type": "markdown",
   "id": "264ad1dc",
   "metadata": {},
   "source": [
    "### Example"
   ]
  },
  {
   "cell_type": "markdown",
   "id": "6615ced9",
   "metadata": {},
   "source": [
    "**Rock-Paper-Scisors Magma**\n",
    "\n",
    "See https://en.wikipedia.org/wiki/Commutative_magma\n",
    "\n",
    "* $M = \\langle \\{r,p,s\\}, \\cdot \\rangle$\n",
    "* For all $x, y \\in M$ if $x$ *beats* $y$, then $x \\cdot y = y \\cdot x = x$\n",
    "* Also, for all $x \\in M$, $xx = x$"
   ]
  },
  {
   "cell_type": "code",
   "execution_count": 39,
   "id": "c4e95774",
   "metadata": {},
   "outputs": [
    {
     "data": {
      "text/plain": [
       "Magma(\n",
       "['r', 'p', 's'], \n",
       "[[0 1 0]\n",
       " [1 1 2]\n",
       " [0 2 2]])"
      ]
     },
     "execution_count": 39,
     "metadata": {},
     "output_type": "execute_result"
    }
   ],
   "source": [
    "rps = Magma(['r', 'p', 's'], [[0, 1, 0], [1, 1, 2], [0, 2, 2]])\n",
    "rps"
   ]
  },
  {
   "cell_type": "code",
   "execution_count": 40,
   "id": "f1ea8610",
   "metadata": {},
   "outputs": [
    {
     "data": {
      "text/plain": [
       "[['r', 'p', 'r'], ['p', 'p', 's'], ['r', 's', 's']]"
      ]
     },
     "execution_count": 40,
     "metadata": {},
     "output_type": "execute_result"
    }
   ],
   "source": [
    "rps.table_with_names()"
   ]
  },
  {
   "cell_type": "markdown",
   "id": "77f64dbc",
   "metadata": {},
   "source": [
    "The following operations show that **the rps Magma is non-associative**."
   ]
  },
  {
   "cell_type": "code",
   "execution_count": 41,
   "id": "8e830e24",
   "metadata": {},
   "outputs": [
    {
     "name": "stdout",
     "output_type": "stream",
     "text": [
      "    r(ps) = rs = r, \n",
      "but (rp)s = ps = s\n"
     ]
    }
   ],
   "source": [
    "ps = rps.op('p', 's')\n",
    "rp = rps.op('r', 'p')\n",
    "\n",
    "r_ps = rps.op('r', ps)\n",
    "rp_s = rps.op(rp, 's')\n",
    "\n",
    "print(f\"    r(ps) = r{ps} = {r_ps}, \\nbut (rp)s = {rp}s = {rp_s}\")"
   ]
  },
  {
   "cell_type": "markdown",
   "id": "cca91ae0",
   "metadata": {},
   "source": [
    "## Semigroup"
   ]
  },
  {
   "cell_type": "markdown",
   "id": "6822c91f",
   "metadata": {},
   "source": [
    "A semigroup is an associative magma."
   ]
  },
  {
   "cell_type": "code",
   "execution_count": 42,
   "id": "dc31432c",
   "metadata": {},
   "outputs": [],
   "source": [
    "def is_table_associative(table):\n",
    "    result = True\n",
    "    elements = list(range(rps.table.shape[0]))  # [0, 1, 2, ..., n-1]\n",
    "    for a in elements:\n",
    "        for b in elements:\n",
    "            for c in elements:\n",
    "                ab = table[a][b]\n",
    "                bc = table[b][c]\n",
    "                if not (table[ab][c] == table[a][bc]):\n",
    "                    result = False\n",
    "                    break\n",
    "    return result"
   ]
  },
  {
   "cell_type": "code",
   "execution_count": 43,
   "id": "80073438",
   "metadata": {},
   "outputs": [
    {
     "data": {
      "text/plain": [
       "False"
      ]
     },
     "execution_count": 43,
     "metadata": {},
     "output_type": "execute_result"
    }
   ],
   "source": [
    "is_table_associative(rps.table)"
   ]
  },
  {
   "cell_type": "code",
   "execution_count": 44,
   "id": "4e37faff",
   "metadata": {},
   "outputs": [],
   "source": [
    "class Semigroup(Magma):\n",
    "    \n",
    "    def __init__(self, elems, tbl):\n",
    "        if is_table_associative(tbl):\n",
    "            super().__init__(elems, tbl)\n",
    "        else:\n",
    "            raise ValueError(\"Table does not support associativity\")"
   ]
  },
  {
   "cell_type": "markdown",
   "id": "fb50221d",
   "metadata": {},
   "source": [
    "The Semigroup constructor will fail if the table does not support associativity:"
   ]
  },
  {
   "cell_type": "code",
   "execution_count": 45,
   "id": "af8150b1",
   "metadata": {},
   "outputs": [
    {
     "name": "stdout",
     "output_type": "stream",
     "text": [
      "Something went wrong\n"
     ]
    }
   ],
   "source": [
    "try:\n",
    "    Semigroup(['r', 'p', 's'], [[0, 1, 0], [1, 1, 2], [0, 2, 2]])\n",
    "except:\n",
    "    print(\"Something went wrong\")"
   ]
  },
  {
   "cell_type": "markdown",
   "id": "450b42a0",
   "metadata": {},
   "source": [
    "### See p. 67 in Pinter for a possible example"
   ]
  },
  {
   "cell_type": "markdown",
   "id": "8b4ef220",
   "metadata": {},
   "source": [
    "## Monoid"
   ]
  },
  {
   "cell_type": "raw",
   "id": "12f269c8",
   "metadata": {},
   "source": [
    "A monoid is a semigroup with an identity element."
   ]
  },
  {
   "cell_type": "code",
   "execution_count": 46,
   "id": "98084328",
   "metadata": {},
   "outputs": [],
   "source": [
    "def get_identity(table):\n",
    "    indices = list(range(len(table)))\n",
    "    id = None\n",
    "    for x in elements:\n",
    "        xy = [tbl[x][y] for y in indices]\n",
    "        if xy == indices:\n",
    "            id = x\n",
    "            break\n",
    "    return id"
   ]
  },
  {
   "cell_type": "code",
   "execution_count": 47,
   "id": "82c15cd5",
   "metadata": {},
   "outputs": [],
   "source": [
    "class Monoid(Semigroup):\n",
    "\n",
    "    def __init__(self, elems, tbl):\n",
    "        self.identity = get_identity(tbl)\n",
    "        if self.identity:\n",
    "            super().__init__(elems, tbl)\n",
    "        else:\n",
    "            raise ValueError(\"Table has no identity element\")"
   ]
  },
  {
   "cell_type": "markdown",
   "id": "c9ffaa79",
   "metadata": {},
   "source": [
    "**NEED TESTS AND EXAMPLES HERE**"
   ]
  },
  {
   "cell_type": "markdown",
   "id": "d59e921c",
   "metadata": {},
   "source": [
    "## Group"
   ]
  },
  {
   "cell_type": "markdown",
   "id": "38506087",
   "metadata": {},
   "source": [
    "A group is a monoid where every element has an inverse."
   ]
  },
  {
   "cell_type": "markdown",
   "id": "9355b33f",
   "metadata": {},
   "source": [
    "TBD"
   ]
  },
  {
   "cell_type": "code",
   "execution_count": null,
   "id": "c8c43eaf",
   "metadata": {},
   "outputs": [],
   "source": []
  }
 ],
 "metadata": {
  "kernelspec": {
   "display_name": "Python 3",
   "language": "python",
   "name": "python3"
  },
  "language_info": {
   "codemirror_mode": {
    "name": "ipython",
    "version": 3
   },
   "file_extension": ".py",
   "mimetype": "text/x-python",
   "name": "python",
   "nbconvert_exporter": "python",
   "pygments_lexer": "ipython3",
   "version": "3.7.7"
  }
 },
 "nbformat": 4,
 "nbformat_minor": 5
}
