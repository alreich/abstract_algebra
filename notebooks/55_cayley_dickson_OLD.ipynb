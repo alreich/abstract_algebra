{
 "cells": [
  {
   "cell_type": "markdown",
   "id": "c2fcbe98-df46-4a4b-8728-c0450e97a9f8",
   "metadata": {},
   "source": [
    "# Cayley-Dickson Construction -- OLD"
   ]
  },
  {
   "cell_type": "markdown",
   "id": "ac31aed3-8326-40bc-8013-ed2e0bec5bc9",
   "metadata": {},
   "source": [
    "## References"
   ]
  },
  {
   "cell_type": "markdown",
   "id": "1aaed511-3643-4cc6-9af5-c526309183a3",
   "metadata": {},
   "source": [
    "* [Baez 2001] \"The Octonions\", Baez, John C., Bull. Amer. Math. Soc. 39 (2002), 145-205. ([PDF](https://www.ams.org/journals/bull/2002-39-02/S0273-0979-01-00934-X/S0273-0979-01-00934-X.pdf))\n",
    "* [Reich 2024] This document. (<i>I haven't found another reference, yet, for the Theorem stated below, if there is one.</i>)\n",
    "* [Schafer 1954] Schafer, R. D. “On the Algebras Formed by the Cayley-Dickson Process.” American Journal of Mathematics 76, no. 2 (1954)\n",
    "* [Schafer 1966] \"An Introduction to Nonassociative Algebras\", Schafer, R. D., Academic Press, 1966. ([or see the 1961 version](https://www.gutenberg.org/ebooks/25156))"
   ]
  },
  {
   "cell_type": "markdown",
   "id": "69374be9-d816-48f7-a25d-877709ba612f",
   "metadata": {},
   "source": [
    "## Definitions"
   ]
  },
  {
   "cell_type": "markdown",
   "id": "faff0b12-b56c-4f88-aaa4-57cde504cd26",
   "metadata": {},
   "source": [
    "The [Cayley-Dickson construction](https://en.wikipedia.org/wiki/Cayley%E2%80%93Dickson_construction) begins with a <i>base</i> algebra, $A$, usually a ring or field, from which another algebra, $\\mathscr{C}(A)$, is derived, with compound elements, identical to those found in the direct product of $A$ with itself. And, like direct products, addition is defined element-wise, but multiplication is defined similar to complex number multiplication, as described in Definition 1, below. The description is \"simplified\" because it does not use conjugation anywhere. Conjugation is defined and used in the more general definitions that follow this one.\n",
    "\n",
    "> **Definition 1: Cayley-Dickson Algebra (CDA) - Simplified Version (no conjugation)**\n",
    "> \n",
    "> Let $A = \\langle S, +, \\cdot \\rangle$ be a ring and let $T = S \\times S$ (i.e., the cross-product of $S$ with itself).\n",
    "> \n",
    "> Then, define the algebra, $\\mathscr{C}(A) \\equiv \\langle T, \\oplus, \\odot \\rangle$,\n",
    "> \n",
    "> where $\\forall (a,b),(c,d) \\in T$,\n",
    "> \n",
    "> $(a,b) \\oplus (c,d) \\equiv (a + c, b + d)$\n",
    "> \n",
    "> $(a,b) \\odot (c,d) \\equiv (a \\cdot c - b \\cdot d, a \\cdot d + b \\cdot c)$\n",
    "\n",
    "For example, if we apply the Cayley-Dickson construction to the field of real numbers, $\\mathbb{R}$, we obtain the algebra of **complex numbers**, $\\mathscr{C}(\\mathbb{R}) \\equiv \\mathbb{C}$.\n",
    " \n",
    "The Cayley-Dickson Algebra (CDA) constructor, $\\mathscr{C}$, can be applied to another CDA, multiple times, as described in Definition 2.\n",
    "\n",
    "> **Definition 2: CDA Constructor**\n",
    "> \n",
    "> Let $k \\in Z^+$ and $\\mathscr{C}^0(A) \\equiv A$,\n",
    "> \n",
    "> then $\\mathscr{C}^k(A) \\equiv \\mathscr{C}(\\mathscr{C}^{k-1}(A))$,\n",
    "\n",
    "For example, $\\mathscr{C}^2(\\mathbb{R}) \\equiv \\mathscr{C}(\\mathbb{C}) \\equiv \\mathbb{H}$ is the algebra of **quaternions**, and $\\mathscr{C}^3(\\mathbb{R}) \\equiv \\mathbb{O}$ is the algebra of **octonions**."
   ]
  },
  {
   "cell_type": "markdown",
   "id": "b8901506",
   "metadata": {},
   "source": [
    "In many papers on the subject, a generalization of complex multiplication is used, instead of the multiplication described in Definition 1. And, there are multiple, different versions of the generalization.\n",
    "\n",
    "All of the generalizations begin with a common, recursive definition of <i>conjugation</i>, described in Definition 3.\n",
    "\n",
    "> **Definition 3: Conjugation**\n",
    "> \n",
    "> The **conjugate** of an algebraic element, $r$, is denoted by $\\overline{r}$, and defined recursively as follows:\n",
    "> \n",
    "> For $a \\in A$, the base algebra, let $\\overline{a} \\equiv a$.\n",
    "> \n",
    "> Then, let $k \\in Z^+$; $p,q \\in \\mathscr{C}^{k-1}(A)$; and $(p,q) \\in \\mathscr{C}^k(A)$,\n",
    "> \n",
    "> and define $\\overline{(p, q)} \\equiv (\\overline{p}, -q)$\n",
    "\n",
    "Three generalizations of multiplication are shown below in Definition 4 (versions A, B, & C):\n",
    "\n",
    "> **Definition 4: CDA Multiplication**\n",
    "> \n",
    "> Let $k \\in Z^+$; $a,b,c,d,\\mu \\in \\mathscr{C}^{k-1}(A)$; and $\\mu \\neq 0$,\n",
    "> \n",
    "> then define multiplication for $(a,b), (c,d) \\in \\mathscr{C}^k(A)$ according to **one** of the following definitions:\n",
    ">\n",
    "> **[Shafer 1966] Version 4-A**:\n",
    "> \n",
    "> $(a, b) \\odot (c, d) = (a \\cdot c + \\mu \\cdot d \\cdot \\overline{b}, \\overline{a} \\cdot d + c \\cdot b)$\n",
    "> \n",
    "> **[Shafer 1954] Version 4-B**:\n",
    "> \n",
    "> $(a, b) \\odot (c, d) = (a \\cdot c + \\mu \\cdot \\overline{d} \\cdot b, d \\cdot a + b \\cdot \\overline{c})$\n",
    "> \n",
    "> **[Baez 2001] Version 4-C**:\n",
    "> \n",
    "> $(a,b) \\odot (c,d) \\equiv (a \\cdot c - d \\cdot \\overline{b}, \\overline{a} \\cdot d + c \\cdot b)$\n",
    "> \n",
    "> **[Reich 2024] Definition 1, again (for comparison)**\n",
    "> \n",
    "> $(a,b) \\odot (c,d) \\equiv (a \\cdot c - b \\cdot d, a \\cdot d + b \\cdot c)$\n",
    "\n",
    "Note that, if the base (\"starting\") algebra, $A$, is a field, then multiplication is commutative and every element is it's own conjugate. And, if $\\mu = -1$, where $-1$ is the additive inverse of $A$'s multiplicative identity element, then all of the multiplication versions above produce the same algebra, $\\mathscr{C}(A)$.  But, when we start applying CDA constructions on top of other CDA constructions, the different versions diverge. And, not only that, even if we stick to a single multiplication version, each subsequent application of the CDA construction process results in increasingly \"unstructured\" algebras. As [Baez 2001] writes, <i>\"...each time we apply the construction, our algebra gets a bit worse. First we lose the fact that every element is its own conjugate, then we lose commutativity, then we lose associativity, and finally we lose the division algebra property.\"</i>"
   ]
  },
  {
   "cell_type": "markdown",
   "id": "12d07933-906f-4bd7-abb0-3addebc0ff60",
   "metadata": {},
   "source": [
    "## Finite Cayley-Dickson Algebras"
   ]
  },
  {
   "cell_type": "markdown",
   "id": "432810c1-147e-46dc-a899-a67c334bbd7b",
   "metadata": {},
   "source": [
    "The Cayley-Dickson constructor, $\\mathscr{C}$, defined above, can also be applied to finite rings or fields.\n",
    "\n",
    "An interesting result regarding the application of the Cayley-Dickson construction to a finite field is stated in the Theorem below.\n",
    "\n",
    "> **Theorem [Reich 2024]**\n",
    "> \n",
    "> Let $F_n$ be a finite field of order $n$, where $n \\in \\mathbb{Z}^+$ and $n > 1$ is a [Gaussian prime](https://mathworld.wolfram.com/GaussianPrime.html) (e.g., 3, 7, 11, 19, 23, 31, 43, ...),\n",
    "> \n",
    "> then $\\mathscr{C}(F_n)$ will be a finite **field** of order $n^2$,\n",
    "> \n",
    "> otherwise $\\mathscr{C}(F_n)$ will be a finite ring."
   ]
  },
  {
   "cell_type": "markdown",
   "id": "7b79999a",
   "metadata": {},
   "source": [
    "## Examples"
   ]
  },
  {
   "cell_type": "markdown",
   "id": "79f995d3",
   "metadata": {},
   "source": [
    "Since each application of the Cayley-Dickson construction doubles the number of elements of its base algebra, repeated applications of the construction can result in much larger algebras, so the examples in this section will be restricted to small base rings & fields."
   ]
  },
  {
   "cell_type": "code",
   "execution_count": 1,
   "id": "68cea7ff",
   "metadata": {},
   "outputs": [],
   "source": [
    "import finite_algebras as alg"
   ]
  },
  {
   "cell_type": "markdown",
   "id": "5536df42",
   "metadata": {},
   "source": [
    "The ``finite_algebras`` function, ``generate_algebra_mod_n``, will generate a ring or field based on integer addition and multiplication modulo n. If n is prime, then result will be a field, otherwise it will be a ring."
   ]
  },
  {
   "cell_type": "code",
   "execution_count": 2,
   "id": "ca65c982-d7ca-41a3-9c84-5b2491ea5db2",
   "metadata": {},
   "outputs": [
    {
     "name": "stdout",
     "output_type": "stream",
     "text": [
      "\n",
      "** Field **\n",
      "Name: F3\n",
      "Instance ID: 4613235280\n",
      "Description: Autogenerated Field of integers mod 3\n",
      "Order: 3\n",
      "Identity: '0'\n",
      "Commutative? Yes\n",
      "Cyclic?: Yes\n",
      "Generators: ['2', '1']\n",
      "Elements:\n",
      "   Index   Name   Inverse  Order\n",
      "      0     '0'     '0'       0\n",
      "      1     '1'     '2'       0\n",
      "      2     '2'     '1'       0\n",
      "Cayley Table (showing indices):\n",
      "[[0, 1, 2], [1, 2, 0], [2, 0, 1]]\n",
      "Mult. Identity: '1'\n",
      "Mult. Commutative? Yes\n",
      "Zero Divisors: None\n",
      "Multiplicative Cayley Table (showing indices):\n",
      "[[0, 0, 0], [0, 1, 2], [0, 2, 1]]\n"
     ]
    }
   ],
   "source": [
    "F3 = alg.generate_algebra_mod_n(3)\n",
    "F3.about()"
   ]
  },
  {
   "cell_type": "markdown",
   "id": "d10a40b9-9f4e-4015-b63f-0ee8a86e174e",
   "metadata": {},
   "source": [
    "Since 3 is a Gaussian prime, the following field of integers modulo 3 will give us an opportunity to test the theorem stated above."
   ]
  },
  {
   "cell_type": "markdown",
   "id": "8989bc7d",
   "metadata": {},
   "source": [
    "## CDAs of F3 (4 versions)"
   ]
  },
  {
   "cell_type": "markdown",
   "id": "2dbc8a4a-f711-486e-a0c9-b8bdbfcc987b",
   "metadata": {},
   "source": [
    "The method ``make_cayley_dickson_algebra`` applies the Cayley-Dickson (CD) construction to a Ring or Field.\n",
    "\n",
    "It's help documentation is shown below."
   ]
  },
  {
   "cell_type": "code",
   "execution_count": 3,
   "id": "935b1705",
   "metadata": {},
   "outputs": [
    {
     "name": "stdout",
     "output_type": "stream",
     "text": [
      "Help on method make_cayley_dickson_algebra in module finite_algebras:\n",
      "\n",
      "make_cayley_dickson_algebra(mu=None, version=1) method of finite_algebras.Field instance\n",
      "    Constructs the Cayley-Dickson algebra using this Ring or Field.\n",
      "    \n",
      "    Several different versions of multiplication are supported:\n",
      "    version=1: (DEFAULT) No mu & no conjugation are used\n",
      "    version=2: Definition in Schafer, 1966\n",
      "    version=3: Definition in Schafer, 1954\n",
      "    version=4: Definition in Baez, 2001.\n",
      "    \n",
      "    See the documentation on readthedocs for more information regarding versions.\n",
      "    \n",
      "    Version 2 & 3 require a value for mu. If mu is None (the default), then mu\n",
      "    will be automatically set to be the additive inverse of the Ring's\n",
      "    multiplicative identity element (i.e., \"-1\"), if it exists. If it does not\n",
      "    exist, then an exception will be raised.\n",
      "\n"
     ]
    }
   ],
   "source": [
    "help(F3.make_cayley_dickson_algebra)"
   ]
  },
  {
   "cell_type": "markdown",
   "id": "508e65ba",
   "metadata": {},
   "source": [
    "The following computation creates 4 versions if $\\mathscr{C}(F_3)$ and prints out the name stored internally in each CDA."
   ]
  },
  {
   "cell_type": "code",
   "execution_count": 4,
   "id": "b28b1224",
   "metadata": {},
   "outputs": [
    {
     "name": "stdout",
     "output_type": "stream",
     "text": [
      "F3_CDA_2024\n",
      "F3_CDA_1966\n",
      "F3_CDA_1954\n",
      "F3_CDA_2001\n"
     ]
    }
   ],
   "source": [
    "F3cda24 = F3.make_cayley_dickson_algebra(version=1); print(F3cda24.name)\n",
    "F3cda66 = F3.make_cayley_dickson_algebra(version=2); print(F3cda66.name)\n",
    "F3cda54 = F3.make_cayley_dickson_algebra(version=3); print(F3cda54.name)\n",
    "F3cda01 = F3.make_cayley_dickson_algebra(version=4); print(F3cda01.name)"
   ]
  },
  {
   "cell_type": "markdown",
   "id": "0ba456ec",
   "metadata": {},
   "source": [
    "Here's the [Schafer 1966] version (i.e., version 2).  As we'll see below, all four versions are the same.  Also, note that $\\mathscr{C}(F_3)$ **is a field**."
   ]
  },
  {
   "cell_type": "code",
   "execution_count": 5,
   "id": "d31962e1",
   "metadata": {},
   "outputs": [
    {
     "name": "stdout",
     "output_type": "stream",
     "text": [
      "\n",
      "** Field **\n",
      "Name: F3_CDA_1966\n",
      "Instance ID: 4613469520\n",
      "Description: Cayley-Dickson algebra based on F3, where mu = 2, Schafer 1966 version.\n",
      "Order: 9\n",
      "Identity: '0:0'\n",
      "Commutative? Yes\n",
      "Cyclic?: Yes\n",
      "Generators: ['0:2', '0:1', '1:1', '2:1', '1:2', '2:2']\n",
      "Elements:\n",
      "   Index   Name   Inverse  Order\n",
      "      0   '0:0'   '0:0'       0\n",
      "      1   '0:1'   '0:2'       0\n",
      "      2   '0:2'   '0:1'       0\n",
      "      3   '1:0'   '2:0'       0\n",
      "      4   '1:1'   '2:2'       0\n",
      "      5   '1:2'   '2:1'       0\n",
      "      6   '2:0'   '1:0'       0\n",
      "      7   '2:1'   '1:2'       0\n",
      "      8   '2:2'   '1:1'       0\n",
      "Cayley Table (showing indices):\n",
      "[[0, 1, 2, 3, 4, 5, 6, 7, 8],\n",
      " [1, 2, 0, 4, 5, 3, 7, 8, 6],\n",
      " [2, 0, 1, 5, 3, 4, 8, 6, 7],\n",
      " [3, 4, 5, 6, 7, 8, 0, 1, 2],\n",
      " [4, 5, 3, 7, 8, 6, 1, 2, 0],\n",
      " [5, 3, 4, 8, 6, 7, 2, 0, 1],\n",
      " [6, 7, 8, 0, 1, 2, 3, 4, 5],\n",
      " [7, 8, 6, 1, 2, 0, 4, 5, 3],\n",
      " [8, 6, 7, 2, 0, 1, 5, 3, 4]]\n",
      "Mult. Identity: '1:0'\n",
      "Mult. Commutative? Yes\n",
      "Zero Divisors: None\n",
      "Multiplicative Cayley Table (showing indices):\n",
      "[[0, 0, 0, 0, 0, 0, 0, 0, 0],\n",
      " [0, 6, 3, 1, 7, 4, 2, 8, 5],\n",
      " [0, 3, 6, 2, 5, 8, 1, 4, 7],\n",
      " [0, 1, 2, 3, 4, 5, 6, 7, 8],\n",
      " [0, 7, 5, 4, 2, 6, 8, 3, 1],\n",
      " [0, 4, 8, 5, 6, 1, 7, 2, 3],\n",
      " [0, 2, 1, 6, 8, 7, 3, 5, 4],\n",
      " [0, 8, 4, 7, 3, 2, 5, 1, 6],\n",
      " [0, 5, 7, 8, 1, 3, 4, 6, 2]]\n"
     ]
    }
   ],
   "source": [
    "F3cda66.about()"
   ]
  },
  {
   "cell_type": "code",
   "execution_count": 6,
   "id": "391b7f07",
   "metadata": {},
   "outputs": [
    {
     "name": "stdout",
     "output_type": "stream",
     "text": [
      "F3_CDA_2024 is a Field\n",
      "F3_CDA_1966 is a Field\n",
      "F3_CDA_1954 is a Field\n",
      "F3_CDA_2001 is a Field\n",
      "\n",
      "F3_CDA_2024 == F3_CDA_1966 ? Yes\n",
      "F3_CDA_2024 == F3_CDA_1954 ? Yes\n",
      "F3_CDA_2024 == F3_CDA_2001 ? Yes\n",
      "F3_CDA_1966 == F3_CDA_1954 ? Yes\n",
      "F3_CDA_1966 == F3_CDA_2001 ? Yes\n",
      "F3_CDA_1954 == F3_CDA_2001 ? Yes\n"
     ]
    }
   ],
   "source": [
    "from itertools import combinations\n",
    "\n",
    "cdas = [F3cda24, F3cda66, F3cda54, F3cda01]\n",
    "\n",
    "for cda in cdas:\n",
    "    print(f\"{cda.name} is a {cda.__class__.__name__}\")\n",
    "    \n",
    "print(\"\")\n",
    "\n",
    "for pair in list(combinations(cdas, 2)):\n",
    "    print(f\"{pair[0].name} == {pair[1].name} ? {alg.yes_or_no(pair[0] == pair[1])}\")"
   ]
  },
  {
   "cell_type": "markdown",
   "id": "b7a3bb84",
   "metadata": {},
   "source": [
    "## CDAs of F5 (4 versions)"
   ]
  },
  {
   "cell_type": "markdown",
   "id": "d6ee004f",
   "metadata": {},
   "source": [
    "This section goes through the same calculations as above, except that $F_5$ is used, instead of $F_3$.\n",
    "\n",
    "This time, all four versions if the CDA, $\\mathscr{C}(F_5)$, will be the same ring."
   ]
  },
  {
   "cell_type": "code",
   "execution_count": 7,
   "id": "013372f6",
   "metadata": {},
   "outputs": [
    {
     "name": "stdout",
     "output_type": "stream",
     "text": [
      "\n",
      "** Field **\n",
      "Name: F5\n",
      "Instance ID: 4613484880\n",
      "Description: Autogenerated Field of integers mod 5\n",
      "Order: 5\n",
      "Identity: '0'\n",
      "Commutative? Yes\n",
      "Cyclic?: Yes\n",
      "Generators: ['1', '4', '3', '2']\n",
      "Elements:\n",
      "   Index   Name   Inverse  Order\n",
      "      0     '0'     '0'       0\n",
      "      1     '1'     '4'       0\n",
      "      2     '2'     '3'       0\n",
      "      3     '3'     '2'       0\n",
      "      4     '4'     '1'       0\n",
      "Cayley Table (showing indices):\n",
      "[[0, 1, 2, 3, 4],\n",
      " [1, 2, 3, 4, 0],\n",
      " [2, 3, 4, 0, 1],\n",
      " [3, 4, 0, 1, 2],\n",
      " [4, 0, 1, 2, 3]]\n",
      "Mult. Identity: '1'\n",
      "Mult. Commutative? Yes\n",
      "Zero Divisors: None\n",
      "Multiplicative Cayley Table (showing indices):\n",
      "[[0, 0, 0, 0, 0],\n",
      " [0, 1, 2, 3, 4],\n",
      " [0, 2, 4, 1, 3],\n",
      " [0, 3, 1, 4, 2],\n",
      " [0, 4, 3, 2, 1]]\n"
     ]
    }
   ],
   "source": [
    "F5 = alg.generate_algebra_mod_n(5)\n",
    "F5.about()"
   ]
  },
  {
   "cell_type": "code",
   "execution_count": 8,
   "id": "d7ab8a88",
   "metadata": {},
   "outputs": [
    {
     "name": "stdout",
     "output_type": "stream",
     "text": [
      "F5_CDA_2024\n",
      "F5_CDA_1966\n",
      "F5_CDA_1954\n",
      "F5_CDA_2001\n"
     ]
    }
   ],
   "source": [
    "F5cda24 = F5.make_cayley_dickson_algebra(version=1); print(F5cda24.name)\n",
    "F5cda66 = F5.make_cayley_dickson_algebra(version=2); print(F5cda66.name)\n",
    "F5cda54 = F5.make_cayley_dickson_algebra(version=3); print(F5cda54.name)\n",
    "F5cda01 = F5.make_cayley_dickson_algebra(version=4); print(F5cda01.name)"
   ]
  },
  {
   "cell_type": "markdown",
   "id": "cb5cace2",
   "metadata": {},
   "source": [
    "Here's a representative example, the [Schafer 1966] version:"
   ]
  },
  {
   "cell_type": "code",
   "execution_count": 9,
   "id": "ded84816",
   "metadata": {},
   "outputs": [
    {
     "name": "stdout",
     "output_type": "stream",
     "text": [
      "\n",
      "** Ring **\n",
      "Name: F5_CDA_1966\n",
      "Instance ID: 4613486672\n",
      "Description: Cayley-Dickson algebra based on F5, where mu = 4, Schafer 1966 version.\n",
      "Order: 25\n",
      "Identity: '0:0'\n",
      "Commutative? Yes\n",
      "Cyclic?: Yes\n",
      "Generators: ['0:1', '1:1', '0:4', '4:1', '3:2', '0:3', '2:3', '3:3', '2:2', '4:4', '0:2', '1:4']\n",
      "Elements:\n",
      "   Index   Name   Inverse  Order\n",
      "      0   '0:0'   '0:0'       0\n",
      "      1   '0:1'   '0:4'       0\n",
      "      2   '0:2'   '0:3'       0\n",
      "      3   '0:3'   '0:2'       0\n",
      "      4   '0:4'   '0:1'       0\n",
      "      5   '1:0'   '4:0'       0\n",
      "      6   '1:1'   '4:4'       0\n",
      "      7   '1:2'   '4:3'       0\n",
      "      8   '1:3'   '4:2'       0\n",
      "      9   '1:4'   '4:1'       0\n",
      "     10   '2:0'   '3:0'       0\n",
      "     11   '2:1'   '3:4'       0\n",
      "     12   '2:2'   '3:3'       0\n",
      "     13   '2:3'   '3:2'       0\n",
      "     14   '2:4'   '3:1'       0\n",
      "     15   '3:0'   '2:0'       0\n",
      "     16   '3:1'   '2:4'       0\n",
      "     17   '3:2'   '2:3'       0\n",
      "     18   '3:3'   '2:2'       0\n",
      "     19   '3:4'   '2:1'       0\n",
      "     20   '4:0'   '1:0'       0\n",
      "     21   '4:1'   '1:4'       0\n",
      "     22   '4:2'   '1:3'       0\n",
      "     23   '4:3'   '1:2'       0\n",
      "     24   '4:4'   '1:1'       0\n",
      "Ring order is 25 > 12, so no table is printed.\n",
      "Mult. Identity: '1:0'\n",
      "Mult. Commutative? Yes\n",
      "Zero Divisors: ['1:2', '1:3', '2:1', '2:4', '3:1', '3:4', '4:2', '4:3']\n",
      "Ring order is 25 > 12, so the mult. table is not printed.\n"
     ]
    }
   ],
   "source": [
    "F5cda66.about()"
   ]
  },
  {
   "cell_type": "code",
   "execution_count": 10,
   "id": "e94298ef",
   "metadata": {},
   "outputs": [
    {
     "name": "stdout",
     "output_type": "stream",
     "text": [
      "F5_CDA_2024 is a Ring\n",
      "F5_CDA_1966 is a Ring\n",
      "F5_CDA_1954 is a Ring\n",
      "F5_CDA_2001 is a Ring\n",
      "\n",
      "F5_CDA_2024 == F5_CDA_1966 ? Yes\n",
      "F5_CDA_2024 == F5_CDA_1954 ? Yes\n",
      "F5_CDA_2024 == F5_CDA_2001 ? Yes\n",
      "F5_CDA_1966 == F5_CDA_1954 ? Yes\n",
      "F5_CDA_1966 == F5_CDA_2001 ? Yes\n",
      "F5_CDA_1954 == F5_CDA_2001 ? Yes\n"
     ]
    }
   ],
   "source": [
    "cdas = [F5cda24, F5cda66, F5cda54, F5cda01]\n",
    "\n",
    "for cda in cdas:\n",
    "    print(f\"{cda.name} is a {cda.__class__.__name__}\")\n",
    "    \n",
    "print(\"\")\n",
    "\n",
    "for pair in list(combinations(cdas, 2)):\n",
    "    print(f\"{pair[0].name} == {pair[1].name} ? {alg.yes_or_no(pair[0] == pair[1])}\")"
   ]
  },
  {
   "cell_type": "markdown",
   "id": "21e0c206",
   "metadata": {},
   "source": [
    "And, here's the multiplicative portion of this algebra. It's a monoid."
   ]
  },
  {
   "cell_type": "code",
   "execution_count": 11,
   "id": "6c4805d2",
   "metadata": {},
   "outputs": [
    {
     "name": "stdout",
     "output_type": "stream",
     "text": [
      "\n",
      "** Monoid **\n",
      "Name: F5_CDA_1966.Mult\n",
      "Instance ID: 4613467472\n",
      "Description: Multiplicative-only portion of F5_CDA_1966\n",
      "Order: 25\n",
      "Identity: 1:0\n",
      "Associative? Yes\n",
      "Commutative? Yes\n",
      "Cyclic?: No\n",
      "Elements: ['0:0', '0:1', '0:2', '0:3', '0:4', '1:0', '1:1', '1:2', '1:3', '1:4', '2:0', '2:1', '2:2', '2:3', '2:4', '3:0', '3:1', '3:2', '3:3', '3:4', '4:0', '4:1', '4:2', '4:3', '4:4']\n",
      "Has Inverses? No\n",
      "Monoid order is 25 > 12, so the table is not output.\n"
     ]
    }
   ],
   "source": [
    "F5cda66.extract_multiplicative_algebra().about()"
   ]
  },
  {
   "cell_type": "markdown",
   "id": "a65e7ae4",
   "metadata": {},
   "source": [
    "## Quads (CDA of a CDA)"
   ]
  },
  {
   "cell_type": "markdown",
   "id": "fb414ab3",
   "metadata": {},
   "source": [
    "Four CDAs, each one a $\\mathscr{C}^2(F_3)$, are generated below, each one using a different version of multiplication, per the discussion above."
   ]
  },
  {
   "cell_type": "code",
   "execution_count": 12,
   "id": "fc5a4056",
   "metadata": {},
   "outputs": [
    {
     "name": "stdout",
     "output_type": "stream",
     "text": [
      "CPU times: user 2.93 s, sys: 2.17 ms, total: 2.93 s\n",
      "Wall time: 2.93 s\n"
     ]
    }
   ],
   "source": [
    "%%time\n",
    "\n",
    "F3quad24 = F3cda24.make_cayley_dickson_algebra(version=1)\n",
    "F3quad66 = F3cda66.make_cayley_dickson_algebra(version=2)\n",
    "F3quad54 = F3cda54.make_cayley_dickson_algebra(version=3)\n",
    "F3quad01 = F3cda01.make_cayley_dickson_algebra(version=4)"
   ]
  },
  {
   "cell_type": "markdown",
   "id": "6581bf51",
   "metadata": {},
   "source": [
    "The computation below shows that the only versions of $\\mathscr{C}^2(F_3)$ that are equal to each other are [Schafer 1966] and [Baez 2001]."
   ]
  },
  {
   "cell_type": "code",
   "execution_count": 13,
   "id": "6e07d6f5",
   "metadata": {},
   "outputs": [
    {
     "name": "stdout",
     "output_type": "stream",
     "text": [
      "F3_CDA_2024_CDA_2024 == F3_CDA_1966_CDA_1966 ? No\n",
      "F3_CDA_2024_CDA_2024 == F3_CDA_1954_CDA_1954 ? No\n",
      "F3_CDA_2024_CDA_2024 == F3_CDA_2001_CDA_2001 ? No\n",
      "F3_CDA_1966_CDA_1966 == F3_CDA_1954_CDA_1954 ? No\n",
      "F3_CDA_1966_CDA_1966 == F3_CDA_2001_CDA_2001 ? Yes\n",
      "F3_CDA_1954_CDA_1954 == F3_CDA_2001_CDA_2001 ? No\n"
     ]
    }
   ],
   "source": [
    "from itertools import combinations\n",
    "\n",
    "quad_cdas = [F3quad24, F3quad66, F3quad54, F3quad01]\n",
    "\n",
    "for pair in list(combinations(quad_cdas, 2)):\n",
    "    print(f\"{pair[0].name} == {pair[1].name} ? {alg.yes_or_no(pair[0] == pair[1])}\")"
   ]
  },
  {
   "cell_type": "code",
   "execution_count": 14,
   "id": "5b3cdb4b-50ec-4c10-a28c-fc02343b2689",
   "metadata": {},
   "outputs": [
    {
     "name": "stdout",
     "output_type": "stream",
     "text": [
      "\n",
      "** Ring **\n",
      "Name: F3_CDA_1966_CDA_1966\n",
      "Instance ID: 4613636816\n",
      "Description: Cayley-Dickson algebra based on F3_CDA_1966, where mu = 2:0, Schafer 1966 version.\n",
      "Order: 81\n",
      "Identity: '0:0:0:0'\n",
      "Commutative? Yes\n",
      "Cyclic?: No\n",
      "Elements:\n",
      "   Index   Name   Inverse  Order\n",
      "      0 '0:0:0:0' '0:0:0:0'       0\n",
      "      1 '0:0:0:1' '0:0:0:2'       0\n",
      "      2 '0:0:0:2' '0:0:0:1'       0\n",
      "      3 '0:0:1:0' '0:0:2:0'       0\n",
      "      4 '0:0:1:1' '0:0:2:2'       0\n",
      "      5 '0:0:1:2' '0:0:2:1'       0\n",
      "      6 '0:0:2:0' '0:0:1:0'       0\n",
      "      7 '0:0:2:1' '0:0:1:2'       0\n",
      "      8 '0:0:2:2' '0:0:1:1'       0\n",
      "      9 '0:1:0:0' '0:2:0:0'       0\n",
      "     10 '0:1:0:1' '0:2:0:2'       0\n",
      "     11 '0:1:0:2' '0:2:0:1'       0\n",
      "     12 '0:1:1:0' '0:2:2:0'       0\n",
      "     13 '0:1:1:1' '0:2:2:2'       0\n",
      "     14 '0:1:1:2' '0:2:2:1'       0\n",
      "     15 '0:1:2:0' '0:2:1:0'       0\n",
      "     16 '0:1:2:1' '0:2:1:2'       0\n",
      "     17 '0:1:2:2' '0:2:1:1'       0\n",
      "     18 '0:2:0:0' '0:1:0:0'       0\n",
      "     19 '0:2:0:1' '0:1:0:2'       0\n",
      "     20 '0:2:0:2' '0:1:0:1'       0\n",
      "     21 '0:2:1:0' '0:1:2:0'       0\n",
      "     22 '0:2:1:1' '0:1:2:2'       0\n",
      "     23 '0:2:1:2' '0:1:2:1'       0\n",
      "     24 '0:2:2:0' '0:1:1:0'       0\n",
      "     25 '0:2:2:1' '0:1:1:2'       0\n",
      "     26 '0:2:2:2' '0:1:1:1'       0\n",
      "     27 '1:0:0:0' '2:0:0:0'       0\n",
      "     28 '1:0:0:1' '2:0:0:2'       0\n",
      "     29 '1:0:0:2' '2:0:0:1'       0\n",
      "     30 '1:0:1:0' '2:0:2:0'       0\n",
      "     31 '1:0:1:1' '2:0:2:2'       0\n",
      "     32 '1:0:1:2' '2:0:2:1'       0\n",
      "     33 '1:0:2:0' '2:0:1:0'       0\n",
      "     34 '1:0:2:1' '2:0:1:2'       0\n",
      "     35 '1:0:2:2' '2:0:1:1'       0\n",
      "     36 '1:1:0:0' '2:2:0:0'       0\n",
      "     37 '1:1:0:1' '2:2:0:2'       0\n",
      "     38 '1:1:0:2' '2:2:0:1'       0\n",
      "     39 '1:1:1:0' '2:2:2:0'       0\n",
      "     40 '1:1:1:1' '2:2:2:2'       0\n",
      "     41 '1:1:1:2' '2:2:2:1'       0\n",
      "     42 '1:1:2:0' '2:2:1:0'       0\n",
      "     43 '1:1:2:1' '2:2:1:2'       0\n",
      "     44 '1:1:2:2' '2:2:1:1'       0\n",
      "     45 '1:2:0:0' '2:1:0:0'       0\n",
      "     46 '1:2:0:1' '2:1:0:2'       0\n",
      "     47 '1:2:0:2' '2:1:0:1'       0\n",
      "     48 '1:2:1:0' '2:1:2:0'       0\n",
      "     49 '1:2:1:1' '2:1:2:2'       0\n",
      "     50 '1:2:1:2' '2:1:2:1'       0\n",
      "     51 '1:2:2:0' '2:1:1:0'       0\n",
      "     52 '1:2:2:1' '2:1:1:2'       0\n",
      "     53 '1:2:2:2' '2:1:1:1'       0\n",
      "     54 '2:0:0:0' '1:0:0:0'       0\n",
      "     55 '2:0:0:1' '1:0:0:2'       0\n",
      "     56 '2:0:0:2' '1:0:0:1'       0\n",
      "     57 '2:0:1:0' '1:0:2:0'       0\n",
      "     58 '2:0:1:1' '1:0:2:2'       0\n",
      "     59 '2:0:1:2' '1:0:2:1'       0\n",
      "     60 '2:0:2:0' '1:0:1:0'       0\n",
      "     61 '2:0:2:1' '1:0:1:2'       0\n",
      "     62 '2:0:2:2' '1:0:1:1'       0\n",
      "     63 '2:1:0:0' '1:2:0:0'       0\n",
      "     64 '2:1:0:1' '1:2:0:2'       0\n",
      "     65 '2:1:0:2' '1:2:0:1'       0\n",
      "     66 '2:1:1:0' '1:2:2:0'       0\n",
      "     67 '2:1:1:1' '1:2:2:2'       0\n",
      "     68 '2:1:1:2' '1:2:2:1'       0\n",
      "     69 '2:1:2:0' '1:2:1:0'       0\n",
      "     70 '2:1:2:1' '1:2:1:2'       0\n",
      "     71 '2:1:2:2' '1:2:1:1'       0\n",
      "     72 '2:2:0:0' '1:1:0:0'       0\n",
      "     73 '2:2:0:1' '1:1:0:2'       0\n",
      "     74 '2:2:0:2' '1:1:0:1'       0\n",
      "     75 '2:2:1:0' '1:1:2:0'       0\n",
      "     76 '2:2:1:1' '1:1:2:2'       0\n",
      "     77 '2:2:1:2' '1:1:2:1'       0\n",
      "     78 '2:2:2:0' '1:1:1:0'       0\n",
      "     79 '2:2:2:1' '1:1:1:2'       0\n",
      "     80 '2:2:2:2' '1:1:1:1'       0\n",
      "Ring order is 81 > 12, so no table is printed.\n",
      "Mult. Identity: '1:0:0:0'\n",
      "Mult. Commutative? No\n",
      "Zero Divisors: ['0:1:1:1', '0:1:1:2', '0:1:2:1', '0:1:2:2', '0:2:1:1', '0:2:1:2', '0:2:2:1', '0:2:2:2', '1:0:1:1', '1:0:1:2', '1:0:2:1', '1:0:2:2', '1:1:0:1', '1:1:0:2', '1:1:1:0', '1:1:2:0', '1:2:0:1', '1:2:0:2', '1:2:1:0', '1:2:2:0', '2:0:1:1', '2:0:1:2', '2:0:2:1', '2:0:2:2', '2:1:0:1', '2:1:0:2', '2:1:1:0', '2:1:2:0', '2:2:0:1', '2:2:0:2', '2:2:1:0', '2:2:2:0']\n",
      "Ring order is 81 > 12, so the mult. table is not printed.\n"
     ]
    }
   ],
   "source": [
    "F3quad66.about(show_conjugates=False)"
   ]
  },
  {
   "cell_type": "markdown",
   "id": "7bf3408d",
   "metadata": {},
   "source": [
    "## Zero Divisors"
   ]
  },
  {
   "cell_type": "markdown",
   "id": "03c2c88a",
   "metadata": {},
   "source": [
    "The next two calculations show that the version of $\\mathscr{C}^2(F_3)$ that uses [Reich 2024] has 16 zero divisors, while the other three versions each have 32 zero divisors.\n",
    "\n",
    "And, the zero divisors of the [Schafer 1966], [Schafer 1954], and [Baez 2001] versions are all the same, while the zero divisors of the [Reich 2024] version have nothing in common with them."
   ]
  },
  {
   "cell_type": "code",
   "execution_count": 15,
   "id": "ecbdab59",
   "metadata": {},
   "outputs": [
    {
     "name": "stdout",
     "output_type": "stream",
     "text": [
      "F3_CDA_2024_CDA_2024 has 16 zero divisors\n",
      "F3_CDA_1966_CDA_1966 has 32 zero divisors\n",
      "F3_CDA_1954_CDA_1954 has 32 zero divisors\n",
      "F3_CDA_2001_CDA_2001 has 32 zero divisors\n"
     ]
    }
   ],
   "source": [
    "for quad in quad_cdas:\n",
    "    print(f\"{quad.name} has {len(quad.zero_divisors())} zero divisors\")"
   ]
  },
  {
   "cell_type": "code",
   "execution_count": 16,
   "id": "67860b0c",
   "metadata": {},
   "outputs": [
    {
     "name": "stdout",
     "output_type": "stream",
     "text": [
      "F3_CDA_2024_CDA_2024 & F3_CDA_1966_CDA_1966 have 0 zero divisors in common.\n",
      "F3_CDA_2024_CDA_2024 & F3_CDA_1954_CDA_1954 have 0 zero divisors in common.\n",
      "F3_CDA_2024_CDA_2024 & F3_CDA_2001_CDA_2001 have 0 zero divisors in common.\n",
      "F3_CDA_1966_CDA_1966 & F3_CDA_1954_CDA_1954 have 32 zero divisors in common.\n",
      "F3_CDA_1966_CDA_1966 & F3_CDA_2001_CDA_2001 have 32 zero divisors in common.\n",
      "F3_CDA_1954_CDA_1954 & F3_CDA_2001_CDA_2001 have 32 zero divisors in common.\n"
     ]
    }
   ],
   "source": [
    "for pair in list(combinations(quad_cdas, 2)):\n",
    "    zd0 = set(pair[0].zero_divisors())\n",
    "    zd1 = set(pair[1].zero_divisors())\n",
    "    zd_in_common = zd0.intersection(zd1)\n",
    "    print(f\"{pair[0].name} & {pair[1].name} have {len(zd_in_common)} zero divisors in common.\")"
   ]
  },
  {
   "cell_type": "code",
   "execution_count": 17,
   "id": "77b666fb",
   "metadata": {},
   "outputs": [
    {
     "data": {
      "text/plain": [
       "['0:1:1:0',\n",
       " '0:1:2:0',\n",
       " '0:2:1:0',\n",
       " '0:2:2:0',\n",
       " '1:0:0:1',\n",
       " '1:0:0:2',\n",
       " '1:1:1:2',\n",
       " '1:1:2:1',\n",
       " '1:2:1:1',\n",
       " '1:2:2:2',\n",
       " '2:0:0:1',\n",
       " '2:0:0:2',\n",
       " '2:1:1:1',\n",
       " '2:1:2:2',\n",
       " '2:2:1:2',\n",
       " '2:2:2:1']"
      ]
     },
     "execution_count": 17,
     "metadata": {},
     "output_type": "execute_result"
    }
   ],
   "source": [
    "sorted(F3quad24.zero_divisors())"
   ]
  },
  {
   "cell_type": "code",
   "execution_count": 18,
   "id": "87c2f86d",
   "metadata": {},
   "outputs": [
    {
     "data": {
      "text/plain": [
       "['0:1:1:1',\n",
       " '0:1:1:2',\n",
       " '0:1:2:1',\n",
       " '0:1:2:2',\n",
       " '0:2:1:1',\n",
       " '0:2:1:2',\n",
       " '0:2:2:1',\n",
       " '0:2:2:2',\n",
       " '1:0:1:1',\n",
       " '1:0:1:2',\n",
       " '1:0:2:1',\n",
       " '1:0:2:2',\n",
       " '1:1:0:1',\n",
       " '1:1:0:2',\n",
       " '1:1:1:0',\n",
       " '1:1:2:0',\n",
       " '1:2:0:1',\n",
       " '1:2:0:2',\n",
       " '1:2:1:0',\n",
       " '1:2:2:0',\n",
       " '2:0:1:1',\n",
       " '2:0:1:2',\n",
       " '2:0:2:1',\n",
       " '2:0:2:2',\n",
       " '2:1:0:1',\n",
       " '2:1:0:2',\n",
       " '2:1:1:0',\n",
       " '2:1:2:0',\n",
       " '2:2:0:1',\n",
       " '2:2:0:2',\n",
       " '2:2:1:0',\n",
       " '2:2:2:0']"
      ]
     },
     "execution_count": 18,
     "metadata": {},
     "output_type": "execute_result"
    }
   ],
   "source": [
    "sorted(F3quad66.zero_divisors())"
   ]
  },
  {
   "cell_type": "markdown",
   "id": "ebc9b350",
   "metadata": {},
   "source": [
    "**Something to Note:** The computation below, shows that all 32 of the zero divisors of F3_CDA_1966_CDA_1966, F3_CDA_1954_CDA_1954, and F3_CDA_2001_CDA_2001 have exactly one '0' as a component. Basically, an element is a zero divisor ***if and only if** it has exactly one '0' component.\n",
    "\n",
    "There does not seem to be an obvious pattern to the 16 zero divisors of F3_CDA_2024_CDA_2024."
   ]
  },
  {
   "cell_type": "code",
   "execution_count": 19,
   "id": "7737780d",
   "metadata": {},
   "outputs": [
    {
     "name": "stdout",
     "output_type": "stream",
     "text": [
      "32\n"
     ]
    }
   ],
   "source": [
    "from operator import countOf\n",
    "\n",
    "algebra = F3quad66\n",
    "\n",
    "count = 0\n",
    "for elem in algebra.elements:\n",
    "    num = countOf(elem.split(':'), '0')\n",
    "    if num == 1:\n",
    "        count += 1\n",
    "\n",
    "print(count)"
   ]
  },
  {
   "cell_type": "markdown",
   "id": "49d1377a",
   "metadata": {},
   "source": [
    "## Regarding the Theorem"
   ]
  },
  {
   "cell_type": "code",
   "execution_count": 53,
   "id": "99c9af79",
   "metadata": {},
   "outputs": [
    {
     "name": "stdout",
     "output_type": "stream",
     "text": [
      "Ring: F2_CDA_1966\n",
      "Field: F3_CDA_1966 <-- Gaussian prime: 3\n",
      "Ring: R4_CDA_1966\n",
      "Ring: F5_CDA_1966\n",
      "Ring: R6_CDA_1966\n",
      "Field: F7_CDA_1966 <-- Gaussian prime: 7\n",
      "\n",
      "CPU times: user 349 ms, sys: 3.1 ms, total: 353 ms\n",
      "Wall time: 352 ms\n"
     ]
    }
   ],
   "source": [
    "%%time\n",
    "\n",
    "# n = 24\n",
    "n = 7\n",
    "vers = 2\n",
    "\n",
    "for i in range(2,n + 1):\n",
    "    fi = alg.generate_algebra_mod_n(i)\n",
    "    fi_cda = fi.make_cayley_dickson_algebra(version=vers)\n",
    "    class_name = fi_cda.__class__.__name__\n",
    "    if class_name == 'Field':\n",
    "        print(f\"{class_name}: {fi_cda.name} <-- Gaussian prime: {i}\")\n",
    "    else:\n",
    "        print(f\"{class_name}: {fi_cda.name}\")\n",
    "\n",
    "print()"
   ]
  },
  {
   "cell_type": "raw",
   "id": "559eba68",
   "metadata": {},
   "source": [
    "Ring: F2_CDA_1966 \n",
    "Field: F3_CDA_1966 <--{i}\n",
    "Ring: R4_CDA_1966 \n",
    "Ring: F5_CDA_1966 \n",
    "Ring: R6_CDA_1966 \n",
    "Field: F7_CDA_1966 <--{i}\n",
    "Ring: R8_CDA_1966 \n",
    "Ring: R9_CDA_1966 \n",
    "Ring: R10_CDA_1966 \n",
    "Field: F11_CDA_1966 <--{i}\n",
    "Ring: R12_CDA_1966 \n",
    "Ring: F13_CDA_1966 \n",
    "Ring: R14_CDA_1966 \n",
    "Ring: R15_CDA_1966 \n",
    "Ring: R16_CDA_1966 \n",
    "Ring: F17_CDA_1966 \n",
    "Ring: R18_CDA_1966 \n",
    "Field: F19_CDA_1966 <--{i}\n",
    "\n",
    "CPU times: user 3min 47s, sys: 78.7 ms, total: 3min 47s\n",
    "Wall time: 3min 47s"
   ]
  },
  {
   "cell_type": "markdown",
   "id": "a9e849e6",
   "metadata": {},
   "source": [
    "## Gaussian Primes"
   ]
  },
  {
   "cell_type": "code",
   "execution_count": 20,
   "id": "a6131b0c",
   "metadata": {},
   "outputs": [
    {
     "name": "stdout",
     "output_type": "stream",
     "text": [
      "1 2\n"
     ]
    }
   ],
   "source": [
    "foo = '1:2'\n",
    "\n",
    "u, v = foo.split(':')\n",
    "print(u, v)"
   ]
  },
  {
   "cell_type": "code",
   "execution_count": 21,
   "id": "542e5b4b",
   "metadata": {},
   "outputs": [
    {
     "name": "stdout",
     "output_type": "stream",
     "text": [
      "Help on function isprime in module my_math:\n",
      "\n",
      "isprime(n)\n",
      "    Returns True if n is a positive, prime integer; otherwise, False is returned.\n",
      "    The same function exists in SymPy.\n",
      "\n"
     ]
    }
   ],
   "source": [
    "help(alg.isprime)"
   ]
  },
  {
   "cell_type": "code",
   "execution_count": 22,
   "id": "042e5116",
   "metadata": {},
   "outputs": [],
   "source": [
    "n = 13\n",
    "Fn = alg.generate_algebra_mod_n(n)"
   ]
  },
  {
   "cell_type": "code",
   "execution_count": 23,
   "id": "d4c9eba7",
   "metadata": {},
   "outputs": [
    {
     "data": {
      "text/plain": [
       "['00', '01', '02', '03', '04', '05', '06', '07', '08', '09', '10', '11', '12']"
      ]
     },
     "execution_count": 23,
     "metadata": {},
     "output_type": "execute_result"
    }
   ],
   "source": [
    "Fn.elements"
   ]
  },
  {
   "cell_type": "code",
   "execution_count": 24,
   "id": "6d3b8c8f",
   "metadata": {},
   "outputs": [
    {
     "name": "stdout",
     "output_type": "stream",
     "text": [
      "['00:00', '00:01', '00:02', '00:03', '00:04', '00:05', '00:06', '00:07', '00:08', '00:09', '00:10', '00:11', '00:12', '01:00', '01:01', '01:02', '01:03', '01:04', '01:05', '01:06', '01:07', '01:08', '01:09', '01:10', '01:11', '01:12', '02:00', '02:01', '02:02', '02:03', '02:04', '02:05', '02:06', '02:07', '02:08', '02:09', '02:10', '02:11', '02:12', '03:00', '03:01', '03:02', '03:03', '03:04', '03:05', '03:06', '03:07', '03:08', '03:09', '03:10', '03:11', '03:12', '04:00', '04:01', '04:02', '04:03', '04:04', '04:05', '04:06', '04:07', '04:08', '04:09', '04:10', '04:11', '04:12', '05:00', '05:01', '05:02', '05:03', '05:04', '05:05', '05:06', '05:07', '05:08', '05:09', '05:10', '05:11', '05:12', '06:00', '06:01', '06:02', '06:03', '06:04', '06:05', '06:06', '06:07', '06:08', '06:09', '06:10', '06:11', '06:12', '07:00', '07:01', '07:02', '07:03', '07:04', '07:05', '07:06', '07:07', '07:08', '07:09', '07:10', '07:11', '07:12', '08:00', '08:01', '08:02', '08:03', '08:04', '08:05', '08:06', '08:07', '08:08', '08:09', '08:10', '08:11', '08:12', '09:00', '09:01', '09:02', '09:03', '09:04', '09:05', '09:06', '09:07', '09:08', '09:09', '09:10', '09:11', '09:12', '10:00', '10:01', '10:02', '10:03', '10:04', '10:05', '10:06', '10:07', '10:08', '10:09', '10:10', '10:11', '10:12', '11:00', '11:01', '11:02', '11:03', '11:04', '11:05', '11:06', '11:07', '11:08', '11:09', '11:10', '11:11', '11:12', '12:00', '12:01', '12:02', '12:03', '12:04', '12:05', '12:06', '12:07', '12:08', '12:09', '12:10', '12:11', '12:12']\n"
     ]
    }
   ],
   "source": [
    "Fnsqr = Fn.make_cayley_dickson_algebra()\n",
    "print(Fnsqr.elements)"
   ]
  },
  {
   "cell_type": "raw",
   "id": "1c1c65e3",
   "metadata": {},
   "source": [
    "print(f\"{Fnsqr.name}:\")\n",
    "gprimes = [z for z in Fnsqr.elements if gaussian_prime(z)]\n",
    "print(gprimes)"
   ]
  },
  {
   "cell_type": "code",
   "execution_count": 25,
   "id": "ca53b8b6",
   "metadata": {},
   "outputs": [
    {
     "name": "stdout",
     "output_type": "stream",
     "text": [
      "F13_CDA_2024:\n",
      "['00:03', '00:07', '00:11', '01:01', '01:02', '01:04', '01:06', '01:10', '02:01', '02:03', '02:05', '02:07', '03:00', '03:02', '03:08', '03:10', '04:01', '04:05', '04:09', '04:11', '05:02', '05:04', '05:06', '05:08', '06:01', '06:05', '06:11', '07:00', '07:02', '07:08', '07:10', '07:12', '08:03', '08:05', '08:07', '09:04', '09:10', '10:01', '10:03', '10:07', '10:09', '11:00', '11:04', '11:06', '12:07']\n"
     ]
    }
   ],
   "source": [
    "print(f\"{Fnsqr.name}:\")\n",
    "gprimes = [z for z in Fnsqr.elements if Fnsqr.is_gaussian_prime(z)]\n",
    "print(gprimes)"
   ]
  },
  {
   "cell_type": "code",
   "execution_count": null,
   "id": "7fa38426",
   "metadata": {},
   "outputs": [],
   "source": []
  },
  {
   "cell_type": "markdown",
   "id": "96799d72",
   "metadata": {},
   "source": [
    "### Additional Information"
   ]
  },
  {
   "cell_type": "markdown",
   "id": "fe6647e1",
   "metadata": {},
   "source": [
    "* [Python code for octonion and sedenion multiplication](https://www.johndcook.com/blog/2018/07/09/octonioin-multiplication/) - John D Cook blog\n",
    "* [The Octonions](https://web.archive.org/web/20180216125124/http://math.ucr.edu:80/home/baez/octonions/) - The Wayback Machine\n",
    "* [Algebra over a field](https://en.wikipedia.org/wiki/Algebra_over_a_field) - Wikipedia\n",
    "* [Cayley-Dickson construction](https://en.wikipedia.org/wiki/Cayley%E2%80%93Dickson_construction) - Wikipedia\n",
    "* [Cayley-Dickson algebra](https://encyclopediaofmath.org/wiki/Cayley-Dickson_algebra) - Encyclopedia of Math\n",
    "* [What comes after the ducentiquinquagintasexions?](https://english.stackexchange.com/questions/234607/what-comes-after-the-ducentiquinquagintasexions) - StackExchange\n",
    "* [\"Equivalence in a Class of Division Algebras of Order 16\"](https://core.ac.uk/reader/82141950) by R. D. Schafer\n",
    "\n",
    "* [\"A Stroll Through the Gaussian Primes\"](https://maa.org/sites/default/files/pdf/upload_library/22/Chauvenet/Gethner.pdf), Gethner, Wagon, and Wick, The American Mathematical Monthly, 1998.\n",
    "* [\"Equivalence in a Class of Division Algebras of Order 16\"](https://core.ac.uk/reader/82141950) by R. D. Schafer\n",
    "* [\"Cayley-Dickson Algebras and Loops\"](https://www.hilarispublisher.com/open-access/cayleydickson-algebras-and-loops-1736-4337-1-101.pdf), Culbert, C., Journal of Generalized Lie Theory and Applications Vol. 1 (2007), No. 1, 1–17\n",
    "* [\"On Automorphisms and Derivations of Cayley-Dickson Algebras\"](https://www.sciencedirect.com/science/article/pii/0021869390902219), Eakin, P. & Sathaye A., Journal of Algebra 129, 263-278 (1990)"
   ]
  }
 ],
 "metadata": {
  "kernelspec": {
   "display_name": "Python 3 (ipykernel)",
   "language": "python",
   "name": "python3"
  },
  "language_info": {
   "codemirror_mode": {
    "name": "ipython",
    "version": 3
   },
   "file_extension": ".py",
   "mimetype": "text/x-python",
   "name": "python",
   "nbconvert_exporter": "python",
   "pygments_lexer": "ipython3",
   "version": "3.11.5"
  }
 },
 "nbformat": 4,
 "nbformat_minor": 5
}
