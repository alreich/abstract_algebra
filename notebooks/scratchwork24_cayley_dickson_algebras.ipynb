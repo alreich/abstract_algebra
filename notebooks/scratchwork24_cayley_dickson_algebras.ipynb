{
 "cells": [
  {
   "cell_type": "markdown",
   "id": "b6523b92",
   "metadata": {},
   "source": [
    "# Scratchwork: Cayley-Dickson Algebras"
   ]
  },
  {
   "cell_type": "markdown",
   "id": "81513aad",
   "metadata": {},
   "source": [
    "The purpose of this notebook is to develop the functions required to perform the Cayley-Dickson construction within the ``finite_algebras`` module.\n",
    "\n",
    "In the Python module, ``finite_algebras``, all elements are strings.\n",
    "\n",
    "When direct products or Cayley-Dickson algebras are constructed, the component algebras' elements are concatentated (joined) using a string delimiter (':' by default).\n",
    "\n",
    "So, operations like scalar multiplication, negation, conjugation, etc, on the newly constructed \"compound\" elements, require some string manipulation to accomplish."
   ]
  },
  {
   "cell_type": "markdown",
   "id": "7b79999a",
   "metadata": {},
   "source": [
    "## Test Algebras"
   ]
  },
  {
   "cell_type": "code",
   "execution_count": 1,
   "id": "68cea7ff",
   "metadata": {},
   "outputs": [],
   "source": [
    "import finite_algebras as alg"
   ]
  },
  {
   "cell_type": "code",
   "execution_count": 2,
   "id": "37a0cd3b",
   "metadata": {},
   "outputs": [],
   "source": [
    "F3 = alg.generate_algebra_mod_n(3, elem_name='')\n",
    "F3sqr = F3.sqr()\n",
    "F3quad = F3sqr.sqr()\n",
    "\n",
    "F7 = alg.generate_algebra_mod_n(7, elem_name='')\n",
    "F7sqr = F7.sqr()"
   ]
  },
  {
   "cell_type": "markdown",
   "id": "de2b12cf",
   "metadata": {},
   "source": [
    "## Prototype Code"
   ]
  },
  {
   "cell_type": "code",
   "execution_count": 25,
   "id": "ba1cbec3",
   "metadata": {},
   "outputs": [],
   "source": [
    "# =====================================================================\n",
    "# Utilities for Squared Rings & Fields (i.e., Cayley-Dickson Algebras)\n",
    "# =====================================================================\n",
    "\n",
    "def cda_scalar_mult(scalar_name, elem_name, algebra):\n",
    "    \"\"\" Scalar multiplication. 'a' * 'c:d' = 'a*c:a*d'\n",
    "    Example: scalar_mult('2', '1:2', F3) ==> '2:1'\n",
    "    \"\"\"\n",
    "    delimiter = algebra.direct_product_delimiter()\n",
    "    components = elem_name.split(delimiter)\n",
    "    return delimiter.join(map(lambda x: algebra.mult(scalar_name, x), components))\n",
    "\n",
    "\n",
    "def cda_negate(elem_name, algebra):\n",
    "    \"\"\" Negation:  -'a:b' = '-a:-b'\n",
    "    Example: negate('1:2', F3) ==> '2:1'\n",
    "    \"\"\"\n",
    "    delimiter = algebra.direct_product_delimiter()\n",
    "    components = elem_name.split(delimiter)\n",
    "    return delimiter.join(map(lambda x: algebra.inv(x), components))\n",
    "\n",
    "\n",
    "def cda_conjugate(elem_name, algebra):\n",
    "    \"\"\" Conjugation: conj('a:b') = 'a:-b'\n",
    "    Example: conjugate('0:1', F3) ==> '0:2'\n",
    "    \"\"\"\n",
    "    delimiter = algebra.direct_product_delimiter()\n",
    "    components = elem_name.split(delimiter)\n",
    "    head = components[0]\n",
    "    tail = components[1:]\n",
    "    tail_negated = list(map(lambda x: algebra.inv(x), tail))\n",
    "    new_components = list(head) + tail_negated\n",
    "    return delimiter.join(new_components)\n",
    "\n",
    "\n",
    "def cda_sqr_abs_val(elem_name, algebra, alg_sqr):\n",
    "    \"\"\"Squared Absolute Value: 'a:b'^2 = 'a:b' * conj('a:b')\n",
    "    Example: sqr_abs_val('1:2', F3, F3sqr) ==> '2'\n",
    "    \"\"\"\n",
    "    delimiter = algebra.direct_product_delimiter()\n",
    "    if delimiter in elem_name:\n",
    "        # elem_name is not a scalar\n",
    "        val = alg_sqr.mult(elem_name, cda_conjugate(elem_name, algebra))\n",
    "    else:\n",
    "        # elem_name is a scalar\n",
    "        val = algebra.mult(elem_name, elem_name)\n",
    "    comp = val.split(delimiter)\n",
    "    return comp[0]\n",
    "\n",
    "\n",
    "# NOTE: The inverse function below is just for comparison/verification.\n",
    "# The Field method, mult_inv, is the better way to compute the inverse of an element.\n",
    "\n",
    "def cda_inverse(elem_name, algebra, alg_sqr):\n",
    "    \"\"\" Inversion: inv('a:b') = conj('a:b') / sqr_abs_val('a:b')\n",
    "    Only works for Fields, not Rings.\n",
    "    Example: inverse('1:1', F3, F3sqr) ==> '2:1'\n",
    "    \"\"\"\n",
    "    if elem_name == alg_sqr.zero:\n",
    "        raise ValueError(f\"The additive identity element, {elem_name}, does not have an inverse.\")\n",
    "    else:\n",
    "        delimiter = algebra.direct_product_delimiter()\n",
    "        absvalsqr = cda_sqr_abs_val(elem_name, algebra, alg_sqr)\n",
    "        absvalsqrinv = algebra.mult_inv(absvalsqr)\n",
    "        return cda_scalar_mult(absvalsqrinv, cda_conjugate(elem_name, algebra), algebra)"
   ]
  },
  {
   "cell_type": "markdown",
   "id": "4f34c91e",
   "metadata": {},
   "source": [
    "## Code Tests"
   ]
  },
  {
   "cell_type": "code",
   "execution_count": 26,
   "id": "82e7ed79",
   "metadata": {},
   "outputs": [],
   "source": [
    "tests = ['2', '1:2', '2:1:0:2', '0:0']"
   ]
  },
  {
   "cell_type": "code",
   "execution_count": 27,
   "id": "264a4e06",
   "metadata": {},
   "outputs": [],
   "source": [
    "Fn = F3\n",
    "FnSqr = F3sqr\n",
    "FnQuad = F3quad"
   ]
  },
  {
   "cell_type": "code",
   "execution_count": 28,
   "id": "3ba5c29d",
   "metadata": {},
   "outputs": [
    {
     "name": "stdout",
     "output_type": "stream",
     "text": [
      "2 x 2 = 1\n",
      "2 x 1:2 = 2:1\n",
      "2 x 2:1:0:2 = 1:2:0:1\n",
      "2 x 0:0 = 0:0\n"
     ]
    }
   ],
   "source": [
    "scalar = '2'\n",
    "for test in tests:\n",
    "    print(f\"{scalar} x {test} = {cda_scalar_mult(scalar, test, Fn)}\")"
   ]
  },
  {
   "cell_type": "code",
   "execution_count": 29,
   "id": "42d8993e",
   "metadata": {},
   "outputs": [
    {
     "name": "stdout",
     "output_type": "stream",
     "text": [
      "-(2) = 1\n",
      "-(1:2) = 2:1\n",
      "-(2:1:0:2) = 1:2:0:1\n",
      "-(0:0) = 0:0\n"
     ]
    }
   ],
   "source": [
    "for test in tests:\n",
    "    print(f\"-({test}) = {cda_negate(test, Fn)}\")"
   ]
  },
  {
   "cell_type": "code",
   "execution_count": 30,
   "id": "35504a5b",
   "metadata": {},
   "outputs": [
    {
     "name": "stdout",
     "output_type": "stream",
     "text": [
      "conj(2) = 2\n",
      "conj(1:2) = 1:1\n",
      "conj(2:1:0:2) = 2:2:0:1\n",
      "conj(0:0) = 0:0\n"
     ]
    }
   ],
   "source": [
    "for test in tests:\n",
    "    print(f\"conj({test}) = {cda_conjugate(test, Fn)}\")"
   ]
  },
  {
   "cell_type": "code",
   "execution_count": 31,
   "id": "95f76fb4",
   "metadata": {},
   "outputs": [
    {
     "name": "stdout",
     "output_type": "stream",
     "text": [
      "|2|^2 = 1\n",
      "|1:2|^2 = 2\n"
     ]
    }
   ],
   "source": [
    "for test in tests[:2]: # just look at the first two items in tests\n",
    "    print(f\"|{test}|^2 = {cda_sqr_abs_val(test, Fn, FnSqr)}\")"
   ]
  },
  {
   "cell_type": "code",
   "execution_count": 32,
   "id": "2bd7a191",
   "metadata": {},
   "outputs": [
    {
     "name": "stdout",
     "output_type": "stream",
     "text": [
      "inv(1:2) = 2:2\n"
     ]
    }
   ],
   "source": [
    "for test in tests[1:2]: # just look at the first two items in tests\n",
    "    print(f\"inv({test}) = {cda_inverse(test, Fn, FnSqr)}\")"
   ]
  },
  {
   "cell_type": "code",
   "execution_count": 33,
   "id": "282a40c6",
   "metadata": {},
   "outputs": [
    {
     "data": {
      "text/plain": [
       "'2:2'"
      ]
     },
     "execution_count": 33,
     "metadata": {},
     "output_type": "execute_result"
    }
   ],
   "source": [
    "FnSqr.mult_inv(tests[1])  # The better way to obtain an inverse"
   ]
  },
  {
   "cell_type": "code",
   "execution_count": 34,
   "id": "154ead3a",
   "metadata": {},
   "outputs": [
    {
     "data": {
      "text/plain": [
       "'1:0'"
      ]
     },
     "execution_count": 34,
     "metadata": {},
     "output_type": "execute_result"
    }
   ],
   "source": [
    "FnSqr.mult(tests[1], cda_inverse(tests[1], Fn, FnSqr))"
   ]
  },
  {
   "cell_type": "code",
   "execution_count": 36,
   "id": "033700f4",
   "metadata": {},
   "outputs": [
    {
     "name": "stdout",
     "output_type": "stream",
     "text": [
      "The additive identity element, 0:0, does not have an inverse.\n"
     ]
    }
   ],
   "source": [
    "try:\n",
    "    cda_inverse('0:0', Fn, FnSqr)\n",
    "except Exception as exc:\n",
    "    print(exc)"
   ]
  },
  {
   "cell_type": "markdown",
   "id": "82562210",
   "metadata": {},
   "source": [
    "## Cayley-Dickson Multiplication"
   ]
  },
  {
   "cell_type": "code",
   "execution_count": null,
   "id": "a85ba2a6",
   "metadata": {},
   "outputs": [],
   "source": []
  },
  {
   "cell_type": "code",
   "execution_count": null,
   "id": "0b7fece6",
   "metadata": {},
   "outputs": [],
   "source": []
  }
 ],
 "metadata": {
  "kernelspec": {
   "display_name": "Python 3 (ipykernel)",
   "language": "python",
   "name": "python3"
  },
  "language_info": {
   "codemirror_mode": {
    "name": "ipython",
    "version": 3
   },
   "file_extension": ".py",
   "mimetype": "text/x-python",
   "name": "python",
   "nbconvert_exporter": "python",
   "pygments_lexer": "ipython3",
   "version": "3.11.5"
  }
 },
 "nbformat": 4,
 "nbformat_minor": 5
}
