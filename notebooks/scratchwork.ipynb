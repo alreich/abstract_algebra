{
 "cells": [
  {
   "cell_type": "markdown",
   "id": "851f46cf",
   "metadata": {},
   "source": [
    "# Scratchwork"
   ]
  },
  {
   "cell_type": "markdown",
   "id": "df05b6f7",
   "metadata": {},
   "source": [
    "This notebook is only used for trying out ideas."
   ]
  },
  {
   "cell_type": "code",
   "execution_count": 1,
   "id": "715ec902",
   "metadata": {},
   "outputs": [],
   "source": [
    "import algebras as alg\n",
    "import json\n",
    "import os\n",
    "import numpy as np\n",
    "import itertools as it\n",
    "# from pprint import pprint\n",
    "import pprint as pp\n",
    "\n",
    "# from itertools import combinations, permutations, product\n",
    "import itertools as it"
   ]
  },
  {
   "cell_type": "code",
   "execution_count": 2,
   "id": "ecae750b",
   "metadata": {},
   "outputs": [],
   "source": [
    "# Path to this repo\n",
    "aa_path = os.path.join(os.getenv('PYPROJ'), 'abstract_algebra')\n",
    "\n",
    "# Path to a directory containing Algebra definitions in JSON\n",
    "alg_dir = os.path.join(aa_path, \"Algebras\")"
   ]
  },
  {
   "cell_type": "markdown",
   "id": "68436e2b",
   "metadata": {},
   "source": [
    "## Groups for Testing"
   ]
  },
  {
   "cell_type": "markdown",
   "id": "7789d769",
   "metadata": {},
   "source": [
    "### D4 - Dihedral Group on 4 Vertices"
   ]
  },
  {
   "cell_type": "code",
   "execution_count": 3,
   "id": "911ca353",
   "metadata": {},
   "outputs": [
    {
     "name": "stdout",
     "output_type": "stream",
     "text": [
      "{\"type\": \"Group\",\r\n",
      " \"name\": \"D_4\",\r\n",
      " \"description\": \"Dihedral group on four vertices\",\r\n",
      " \"element_names\": [\"e\", \"r\", \"r^2\", \"r^3\", \"f\", \"fr\", \"r^2f\", \"rf\"],\r\n",
      " \"alt_elem_names\": [\"()\", \"(0 1 2 3)\", \"(0 2)(1 3)\", \"(0 3 2 1)\",\r\n",
      "                    \"(0 1)(2 3)\", \"(1 3)\", \"(0 3)(1 2)\", \"(0 2)\"],\r\n",
      " \"mult_table\": [[0, 1, 2, 3, 4, 5, 6, 7],\r\n",
      "                [1, 2, 3, 0, 7, 4, 5, 6],\r\n",
      "                [2, 3, 0, 1, 6, 7, 4, 5],\r\n",
      "                [3, 0, 1, 2, 5, 6, 7, 4],\r\n",
      "                [4, 5, 6, 7, 0, 1, 2, 3],\r\n",
      "                [5, 6, 7, 4, 3, 0, 1, 2],\r\n",
      "                [6, 7, 4, 5, 2, 3, 0, 1],\r\n",
      "                [7, 4, 5, 6, 1, 2, 3, 0]]\r\n",
      "}"
     ]
    }
   ],
   "source": [
    "d4_path = os.path.join(alg_dir, \"d4_dihedral_group_on_4_vertices.json\")\n",
    "!cat {d4_path}"
   ]
  },
  {
   "cell_type": "code",
   "execution_count": 4,
   "id": "a6365336",
   "metadata": {},
   "outputs": [
    {
     "name": "stdout",
     "output_type": "stream",
     "text": [
      "\n",
      "Group: D_4\n",
      "Dihedral group on four vertices\n",
      "Abelian? False\n",
      "Elements:\n",
      "   Index   Name   Inverse  Order\n",
      "      0       e       e       1\n",
      "      1       r     r^3       4\n",
      "      2     r^2     r^2       2\n",
      "      3     r^3       r       4\n",
      "      4       f       f       2\n",
      "      5      fr      fr       2\n",
      "      6    r^2f    r^2f       2\n",
      "      7      rf      rf       2\n",
      "Cayley Table (showing indices):\n",
      "[[0, 1, 2, 3, 4, 5, 6, 7],\n",
      " [1, 2, 3, 0, 7, 4, 5, 6],\n",
      " [2, 3, 0, 1, 6, 7, 4, 5],\n",
      " [3, 0, 1, 2, 5, 6, 7, 4],\n",
      " [4, 5, 6, 7, 0, 1, 2, 3],\n",
      " [5, 6, 7, 4, 3, 0, 1, 2],\n",
      " [6, 7, 4, 5, 2, 3, 0, 1],\n",
      " [7, 4, 5, 6, 1, 2, 3, 0]]\n"
     ]
    }
   ],
   "source": [
    "d4 = alg.Group(d4_path)\n",
    "d4.about()"
   ]
  },
  {
   "cell_type": "markdown",
   "id": "fc5f996f",
   "metadata": {},
   "source": [
    "### V4 - Klein 4 Group"
   ]
  },
  {
   "cell_type": "code",
   "execution_count": 5,
   "id": "0a17ab46",
   "metadata": {},
   "outputs": [
    {
     "name": "stdout",
     "output_type": "stream",
     "text": [
      "{\"type\": \"Group\",\r\n",
      " \"name\": \"V4\",\r\n",
      " \"description\": \"Klein-4 group\",\r\n",
      " \"element_names\": [\"e\", \"h\", \"v\", \"r\"],\r\n",
      " \"mult_table\": [[0, 1, 2, 3],\r\n",
      "                [1, 0, 3, 2],\r\n",
      "                [2, 3, 0, 1],\r\n",
      "                [3, 2, 1, 0]]\r\n",
      "}\r\n"
     ]
    }
   ],
   "source": [
    "v4_path = os.path.join(alg_dir, \"v4_klein_4_group.json\")\n",
    "!cat {v4_path}"
   ]
  },
  {
   "cell_type": "code",
   "execution_count": 6,
   "id": "7c1b8e63",
   "metadata": {},
   "outputs": [
    {
     "name": "stdout",
     "output_type": "stream",
     "text": [
      "\n",
      "Group: V4\n",
      "Klein-4 group\n",
      "Abelian? True\n",
      "Elements:\n",
      "   Index   Name   Inverse  Order\n",
      "      0       e       e       1\n",
      "      1       h       h       2\n",
      "      2       v       v       2\n",
      "      3       r       r       2\n",
      "Cayley Table (showing indices):\n",
      "[[0, 1, 2, 3], [1, 0, 3, 2], [2, 3, 0, 1], [3, 2, 1, 0]]\n"
     ]
    }
   ],
   "source": [
    "v4 = alg.Group(v4_path)\n",
    "v4.about()"
   ]
  },
  {
   "cell_type": "code",
   "execution_count": 7,
   "id": "c49a98a5",
   "metadata": {},
   "outputs": [
    {
     "data": {
      "text/plain": [
       "Group('Z2',\n",
       "'Autogenerated cyclic group of order 2',\n",
       "['e', 'a'],\n",
       "[[0, 1], [1, 0]]) "
      ]
     },
     "execution_count": 7,
     "metadata": {},
     "output_type": "execute_result"
    }
   ],
   "source": [
    "z2 = alg.generate_cyclic_group(2)\n",
    "z2"
   ]
  },
  {
   "cell_type": "code",
   "execution_count": 8,
   "id": "b356edba",
   "metadata": {},
   "outputs": [
    {
     "data": {
      "text/plain": [
       "Group('Z2_x_Z2',\n",
       "'Direct product of Z2 & Z2',\n",
       "['e:e', 'e:a', 'a:e', 'a:a'],\n",
       "[[0, 1, 2, 3], [1, 0, 3, 2], [2, 3, 0, 1], [3, 2, 1, 0]]) "
      ]
     },
     "execution_count": 8,
     "metadata": {},
     "output_type": "execute_result"
    }
   ],
   "source": [
    "z2_x_z2 = z2 * z2\n",
    "z2_x_z2"
   ]
  },
  {
   "cell_type": "code",
   "execution_count": 9,
   "id": "ece381e5",
   "metadata": {},
   "outputs": [
    {
     "data": {
      "text/plain": [
       "Group('Z4',\n",
       "'Autogenerated cyclic group of order 4',\n",
       "['e', 'a', 'a^2', 'a^3'],\n",
       "[[0, 1, 2, 3], [1, 2, 3, 0], [2, 3, 0, 1], [3, 0, 1, 2]]) "
      ]
     },
     "execution_count": 9,
     "metadata": {},
     "output_type": "execute_result"
    }
   ],
   "source": [
    "z4 = alg.generate_cyclic_group(4)\n",
    "z4"
   ]
  },
  {
   "cell_type": "markdown",
   "id": "8379d7dc",
   "metadata": {},
   "source": [
    "### Powerset Group on 3 Items"
   ]
  },
  {
   "cell_type": "markdown",
   "id": "8e29f9c4",
   "metadata": {},
   "source": [
    "TODO: Look for the paper by Carolyn Bean, \"Group operations on the power set\", Journal of Undergraduate Mathematics 8 #1 (March 1976), 13-17."
   ]
  },
  {
   "cell_type": "code",
   "execution_count": 10,
   "id": "77f9fe71",
   "metadata": {},
   "outputs": [
    {
     "name": "stdout",
     "output_type": "stream",
     "text": [
      "\n",
      "Group: PS3\n",
      "Autogenerated group on the powerset of 3 elements, with symmetric difference operator\n",
      "Abelian? True\n",
      "Elements:\n",
      "   Index   Name   Inverse  Order\n",
      "      0      {}      {}       1\n",
      "      1     {0}     {0}       2\n",
      "      2     {1}     {1}       2\n",
      "      3     {2}     {2}       2\n",
      "      4  {0, 1}  {0, 1}       2\n",
      "      5  {0, 2}  {0, 2}       2\n",
      "      6  {1, 2}  {1, 2}       2\n",
      "      7 {0, 1, 2} {0, 1, 2}       2\n",
      "Cayley Table (showing indices):\n",
      "[[0, 1, 2, 3, 4, 5, 6, 7],\n",
      " [1, 0, 4, 5, 2, 3, 7, 6],\n",
      " [2, 4, 0, 6, 1, 7, 3, 5],\n",
      " [3, 5, 6, 0, 7, 1, 2, 4],\n",
      " [4, 2, 1, 7, 0, 6, 5, 3],\n",
      " [5, 3, 7, 1, 6, 0, 4, 2],\n",
      " [6, 7, 3, 2, 5, 4, 0, 1],\n",
      " [7, 6, 5, 4, 3, 2, 1, 0]]\n"
     ]
    }
   ],
   "source": [
    "ps3 = alg.generate_powerset_group(3)\n",
    "ps3.about()"
   ]
  },
  {
   "cell_type": "markdown",
   "id": "ba7170cf",
   "metadata": {},
   "source": [
    "## Finite Rings"
   ]
  },
  {
   "cell_type": "markdown",
   "id": "dc9e0c86",
   "metadata": {},
   "source": [
    "\"Consider any finite set. Then its power set with respect to symmetric difference (as 1st operation) and set intersection (as 2nd operation) is an example of a finite ring.\" -- [Quora](https://www.quora.com/What-are-examples-of-finite-rings#:~:text=Matrices%20over%20any%20ring%20make,a%20finite%20ring%20with%20elements.)"
   ]
  },
  {
   "cell_type": "markdown",
   "id": "4121e094",
   "metadata": {},
   "source": [
    "## Set Operations"
   ]
  },
  {
   "cell_type": "code",
   "execution_count": 11,
   "id": "087e1cf2",
   "metadata": {},
   "outputs": [
    {
     "name": "stdout",
     "output_type": "stream",
     "text": [
      "               Union: {0, 1, 2, 3, 4, 5, 6, 8}\n",
      "        Intersection: {2, 4}\n",
      "          Difference: {0, 8, 6}\n",
      "Symmetric Difference: {0, 1, 3, 5, 6, 8}\n"
     ]
    }
   ],
   "source": [
    "A = {0, 2, 4, 6, 8}\n",
    "B = {1, 2, 3, 4, 5}\n",
    "\n",
    "print(f\"               Union: {A | B}\")\n",
    "print(f\"        Intersection: {A & B}\")\n",
    "print(f\"          Difference: {A - B}\")\n",
    "print(f\"Symmetric Difference: {A ^ B}\")"
   ]
  },
  {
   "cell_type": "markdown",
   "id": "f497026f",
   "metadata": {},
   "source": [
    "## Summarize Proper Subgroups of a Group"
   ]
  },
  {
   "cell_type": "code",
   "execution_count": 12,
   "id": "4f597d2b",
   "metadata": {},
   "outputs": [
    {
     "name": "stdout",
     "output_type": "stream",
     "text": [
      "\n",
      "PS3 has 14 proper subgroups.\n",
      "\n"
     ]
    }
   ],
   "source": [
    "ps3_prop_subs = ps3.proper_subgroups()\n",
    "print(f\"\\n{ps3.name} has {len(ps3_prop_subs)} proper subgroups.\\n\")"
   ]
  },
  {
   "cell_type": "code",
   "execution_count": 13,
   "id": "22f57263",
   "metadata": {},
   "outputs": [],
   "source": [
    "iso_sets_of_groups = alg.divide_groups_into_isomorphic_sets(ps3_prop_subs)"
   ]
  },
  {
   "cell_type": "code",
   "execution_count": 14,
   "id": "ac80d5bd",
   "metadata": {},
   "outputs": [
    {
     "data": {
      "text/plain": [
       "['PS3_subgroup_0',\n",
       " 'PS3_subgroup_2',\n",
       " 'PS3_subgroup_3',\n",
       " 'PS3_subgroup_6',\n",
       " 'PS3_subgroup_8',\n",
       " 'PS3_subgroup_9',\n",
       " 'PS3_subgroup_11']"
      ]
     },
     "execution_count": 14,
     "metadata": {},
     "output_type": "execute_result"
    }
   ],
   "source": [
    "[g.name for g in iso_sets_of_groups[0]]"
   ]
  },
  {
   "cell_type": "code",
   "execution_count": 15,
   "id": "348c49bc",
   "metadata": {},
   "outputs": [
    {
     "data": {
      "text/plain": [
       "['PS3_subgroup_1',\n",
       " 'PS3_subgroup_4',\n",
       " 'PS3_subgroup_5',\n",
       " 'PS3_subgroup_7',\n",
       " 'PS3_subgroup_10',\n",
       " 'PS3_subgroup_12',\n",
       " 'PS3_subgroup_13']"
      ]
     },
     "execution_count": 15,
     "metadata": {},
     "output_type": "execute_result"
    }
   ],
   "source": [
    "[g.name for g in iso_sets_of_groups[1]]"
   ]
  },
  {
   "cell_type": "code",
   "execution_count": 16,
   "id": "299c4693",
   "metadata": {},
   "outputs": [
    {
     "data": {
      "text/plain": [
       "[['PS3_subgroup_0',\n",
       "  'PS3_subgroup_2',\n",
       "  'PS3_subgroup_3',\n",
       "  'PS3_subgroup_6',\n",
       "  'PS3_subgroup_8',\n",
       "  'PS3_subgroup_9',\n",
       "  'PS3_subgroup_11'],\n",
       " ['PS3_subgroup_1',\n",
       "  'PS3_subgroup_4',\n",
       "  'PS3_subgroup_5',\n",
       "  'PS3_subgroup_7',\n",
       "  'PS3_subgroup_10',\n",
       "  'PS3_subgroup_12',\n",
       "  'PS3_subgroup_13']]"
      ]
     },
     "execution_count": 16,
     "metadata": {},
     "output_type": "execute_result"
    }
   ],
   "source": [
    "[[g.name for g in iso_set] for iso_set in iso_sets_of_groups]"
   ]
  },
  {
   "cell_type": "code",
   "execution_count": 17,
   "id": "d5287d0c",
   "metadata": {},
   "outputs": [
    {
     "name": "stdout",
     "output_type": "stream",
     "text": [
      "\n",
      "Group: PS3_subgroup_0\n",
      "Subgroup of: Autogenerated group on the powerset of 3 elements, with symmetric difference operator\n",
      "Abelian? True\n",
      "Elements:\n",
      "   Index   Name   Inverse  Order\n",
      "      0      {}      {}       1\n",
      "      1     {0}     {0}       2\n",
      "      2  {1, 2}  {1, 2}       2\n",
      "      3 {0, 1, 2} {0, 1, 2}       2\n",
      "Cayley Table (showing indices):\n",
      "[[0, 1, 2, 3], [1, 0, 3, 2], [2, 3, 0, 1], [3, 2, 1, 0]]\n",
      "\n",
      "Group: PS3_subgroup_1\n",
      "Subgroup of: Autogenerated group on the powerset of 3 elements, with symmetric difference operator\n",
      "Abelian? True\n",
      "Elements:\n",
      "   Index   Name   Inverse  Order\n",
      "      0      {}      {}       1\n",
      "      1     {1}     {1}       2\n",
      "Cayley Table (showing indices):\n",
      "[[0, 1], [1, 0]]\n"
     ]
    },
    {
     "data": {
      "text/plain": [
       "[None, None]"
      ]
     },
     "execution_count": 17,
     "metadata": {},
     "output_type": "execute_result"
    }
   ],
   "source": [
    "[iso_set[0].about() for iso_set in iso_sets_of_groups]"
   ]
  },
  {
   "cell_type": "markdown",
   "id": "a84cd4b2",
   "metadata": {},
   "source": [
    "## Conjugation & Normal Subgroups"
   ]
  },
  {
   "cell_type": "markdown",
   "id": "09608550",
   "metadata": {},
   "source": [
    "### V4"
   ]
  },
  {
   "cell_type": "code",
   "execution_count": 18,
   "id": "4683c5d1",
   "metadata": {},
   "outputs": [
    {
     "data": {
      "text/plain": [
       "[Group('V4_subgroup_0',\n",
       " 'Subgroup of: Klein-4 group',\n",
       " ['e', 'h'],\n",
       " [[0, 1], [1, 0]]) ,\n",
       " Group('V4_subgroup_1',\n",
       " 'Subgroup of: Klein-4 group',\n",
       " ['e', 'v'],\n",
       " [[0, 1], [1, 0]]) ,\n",
       " Group('V4_subgroup_2',\n",
       " 'Subgroup of: Klein-4 group',\n",
       " ['e', 'r'],\n",
       " [[0, 1], [1, 0]]) ]"
      ]
     },
     "execution_count": 18,
     "metadata": {},
     "output_type": "execute_result"
    }
   ],
   "source": [
    "v4_subs = v4.proper_subgroups()\n",
    "v4_subs"
   ]
  },
  {
   "cell_type": "code",
   "execution_count": 19,
   "id": "72aaa84c",
   "metadata": {},
   "outputs": [
    {
     "data": {
      "text/plain": [
       "[Group('V4_subgroup_0',\n",
       " 'Subgroup of: Klein-4 group',\n",
       " ['e', 'h'],\n",
       " [[0, 1], [1, 0]]) ]"
      ]
     },
     "execution_count": 19,
     "metadata": {},
     "output_type": "execute_result"
    }
   ],
   "source": [
    "v4.unique_proper_subgroups()"
   ]
  },
  {
   "cell_type": "code",
   "execution_count": 20,
   "id": "f3920faf",
   "metadata": {},
   "outputs": [
    {
     "data": {
      "text/plain": [
       "True"
      ]
     },
     "execution_count": 20,
     "metadata": {},
     "output_type": "execute_result"
    }
   ],
   "source": [
    "v4.is_normal(v4_subs[0])"
   ]
  },
  {
   "cell_type": "markdown",
   "id": "e739c328",
   "metadata": {},
   "source": [
    "### D4"
   ]
  },
  {
   "cell_type": "code",
   "execution_count": 21,
   "id": "a8a8a825",
   "metadata": {},
   "outputs": [
    {
     "name": "stdout",
     "output_type": "stream",
     "text": [
      "\n",
      "Group: D_4\n",
      "Dihedral group on four vertices\n",
      "Abelian? False\n",
      "Elements:\n",
      "   Index   Name   Inverse  Order\n",
      "      0       e       e       1\n",
      "      1       r     r^3       4\n",
      "      2     r^2     r^2       2\n",
      "      3     r^3       r       4\n",
      "      4       f       f       2\n",
      "      5      fr      fr       2\n",
      "      6    r^2f    r^2f       2\n",
      "      7      rf      rf       2\n",
      "Cayley Table (showing indices):\n",
      "[[0, 1, 2, 3, 4, 5, 6, 7],\n",
      " [1, 2, 3, 0, 7, 4, 5, 6],\n",
      " [2, 3, 0, 1, 6, 7, 4, 5],\n",
      " [3, 0, 1, 2, 5, 6, 7, 4],\n",
      " [4, 5, 6, 7, 0, 1, 2, 3],\n",
      " [5, 6, 7, 4, 3, 0, 1, 2],\n",
      " [6, 7, 4, 5, 2, 3, 0, 1],\n",
      " [7, 4, 5, 6, 1, 2, 3, 0]]\n"
     ]
    }
   ],
   "source": [
    "d4.about()"
   ]
  },
  {
   "cell_type": "code",
   "execution_count": 22,
   "id": "78e9ab64",
   "metadata": {},
   "outputs": [
    {
     "data": {
      "text/plain": [
       "8"
      ]
     },
     "execution_count": 22,
     "metadata": {},
     "output_type": "execute_result"
    }
   ],
   "source": [
    "len(d4.proper_subgroups())"
   ]
  },
  {
   "cell_type": "code",
   "execution_count": 23,
   "id": "da787934",
   "metadata": {},
   "outputs": [
    {
     "data": {
      "text/plain": [
       "[Group('D_4_subgroup_0',\n",
       " 'Subgroup of: Dihedral group on four vertices',\n",
       " ['e', 'r^2', 'fr', 'rf'],\n",
       " [[0, 1, 2, 3], [1, 0, 3, 2], [2, 3, 0, 1], [3, 2, 1, 0]]) ,\n",
       " Group('D_4_subgroup_1',\n",
       " 'Subgroup of: Dihedral group on four vertices',\n",
       " ['e', 'rf'],\n",
       " [[0, 1], [1, 0]]) ,\n",
       " Group('D_4_subgroup_7',\n",
       " 'Subgroup of: Dihedral group on four vertices',\n",
       " ['e', 'r', 'r^2', 'r^3'],\n",
       " [[0, 1, 2, 3], [1, 2, 3, 0], [2, 3, 0, 1], [3, 0, 1, 2]]) ]"
      ]
     },
     "execution_count": 23,
     "metadata": {},
     "output_type": "execute_result"
    }
   ],
   "source": [
    "d4_subs = d4.unique_proper_subgroups()\n",
    "d4_subs"
   ]
  },
  {
   "cell_type": "markdown",
   "id": "dc52be5b",
   "metadata": {},
   "source": [
    "The result below matches the comment in the last paragraph of this section:\n",
    "https://en.wikipedia.org/wiki/Dihedral_group#Properties"
   ]
  },
  {
   "cell_type": "code",
   "execution_count": 24,
   "id": "4c677033",
   "metadata": {},
   "outputs": [
    {
     "data": {
      "text/plain": [
       "[True, False, True]"
      ]
     },
     "execution_count": 24,
     "metadata": {},
     "output_type": "execute_result"
    }
   ],
   "source": [
    "[d4.is_normal(sub) for sub in d4_subs]"
   ]
  },
  {
   "cell_type": "markdown",
   "id": "a056126d",
   "metadata": {},
   "source": [
    "### V4"
   ]
  },
  {
   "cell_type": "code",
   "execution_count": 25,
   "id": "1a4763d2",
   "metadata": {},
   "outputs": [
    {
     "data": {
      "text/plain": [
       "[True, True, True]"
      ]
     },
     "execution_count": 25,
     "metadata": {},
     "output_type": "execute_result"
    }
   ],
   "source": [
    "grp = v4\n",
    "grp_subs = grp.proper_subgroups()\n",
    "[grp.is_normal(sub) for sub in grp_subs]"
   ]
  },
  {
   "cell_type": "markdown",
   "id": "6371e741",
   "metadata": {},
   "source": [
    "### PS3"
   ]
  },
  {
   "cell_type": "code",
   "execution_count": 26,
   "id": "19da1e91",
   "metadata": {},
   "outputs": [
    {
     "data": {
      "text/plain": [
       "[True, True]"
      ]
     },
     "execution_count": 26,
     "metadata": {},
     "output_type": "execute_result"
    }
   ],
   "source": [
    "grp = ps3\n",
    "grp_unique_subs = grp.unique_proper_subgroups()\n",
    "[grp.is_normal(sub) for sub in grp_unique_subs]"
   ]
  },
  {
   "cell_type": "markdown",
   "id": "115b6372",
   "metadata": {},
   "source": [
    "### WORK IN PROGRESS"
   ]
  },
  {
   "cell_type": "code",
   "execution_count": 36,
   "id": "b0947def",
   "metadata": {},
   "outputs": [
    {
     "data": {
      "text/plain": [
       "[[['{}', '{0}', '{1, 2}', '{0, 1, 2}'],\n",
       "  ['{}', '{0}', '{1}', '{0, 1}'],\n",
       "  ['{}', '{2}', '{0, 1}', '{0, 1, 2}'],\n",
       "  ['{}', '{0, 1}', '{0, 2}', '{1, 2}'],\n",
       "  ['{}', '{0}', '{2}', '{0, 2}'],\n",
       "  ['{}', '{1}', '{0, 2}', '{0, 1, 2}'],\n",
       "  ['{}', '{1}', '{2}', '{1, 2}']],\n",
       " [['{}', '{1}'],\n",
       "  ['{}', '{2}'],\n",
       "  ['{}', '{0, 2}'],\n",
       "  ['{}', '{0, 1, 2}'],\n",
       "  ['{}', '{1, 2}'],\n",
       "  ['{}', '{0}'],\n",
       "  ['{}', '{0, 1}']]]"
      ]
     },
     "execution_count": 36,
     "metadata": {},
     "output_type": "execute_result"
    }
   ],
   "source": [
    "subs = grp.proper_subgroups()\n",
    "iso_subs = alg.divide_groups_into_isomorphic_sets(subs)\n",
    "elem_name_lists = [[g.element_names for g in iso_sub] for iso_sub in iso_subs]\n",
    "elem_name_lists"
   ]
  },
  {
   "cell_type": "code",
   "execution_count": 37,
   "id": "3c6bd0b6",
   "metadata": {},
   "outputs": [],
   "source": [
    "def about_proper_subgroups2(grp, unique=False, show_elements=True):\n",
    "    if unique:\n",
    "        subs = grp.unique_proper_subgroups()\n",
    "    else:\n",
    "        subs = grp.proper_subgroups()\n",
    "    print(f\"\\nSubgroups of {grp.name}:\")\n",
    "    for sub in subs:\n",
    "        print(f\"\\n  {sub.name}:\")\n",
    "        print(f\"       order: {sub.order}\")\n",
    "        if show_elements:\n",
    "            print(f\"    elements: {sub.element_names}\")\n",
    "        print(f\"    abelian?: {sub.is_abelian()}\")\n",
    "        print(f\"     normal?: {grp.is_normal(sub)}\")\n",
    "    return None"
   ]
  },
  {
   "cell_type": "code",
   "execution_count": 38,
   "id": "0eb57b1b",
   "metadata": {},
   "outputs": [],
   "source": [
    "def about_proper_subgroups3(grp, unique=False, show_elements=True):\n",
    "    subs = grp.proper_subgroups()\n",
    "    if unique:\n",
    "        iso_subs = alg.divide_groups_into_isomorphic_sets(subs)\n",
    "        elem_name_lists = [g.element_names for g in iso_subs[0]]\n",
    "        elem_name_lists[1:]\n",
    "    print(f\"\\nSubgroups of {grp.name}:\")\n",
    "    for sub in subs:\n",
    "        print(f\"\\n  {sub.name}:\")\n",
    "        print(f\"       order: {sub.order}\")\n",
    "        if show_elements:\n",
    "            print(f\"    elements: {sub.element_names}\")\n",
    "        print(f\"    abelian?: {sub.is_abelian()}\")\n",
    "        print(f\"     normal?: {grp.is_normal(sub)}\")\n",
    "    return None"
   ]
  },
  {
   "cell_type": "code",
   "execution_count": 40,
   "id": "be0b4c51",
   "metadata": {},
   "outputs": [
    {
     "name": "stdout",
     "output_type": "stream",
     "text": [
      "\n",
      "Subgroups of PS3:\n",
      "\n",
      "  PS3_subgroup_0:\n",
      "       order: 4\n",
      "    elements: ['{}', '{0}', '{1, 2}', '{0, 1, 2}']\n",
      "    abelian?: True\n",
      "     normal?: True\n",
      "\n",
      "  PS3_subgroup_1:\n",
      "       order: 2\n",
      "    elements: ['{}', '{1}']\n",
      "    abelian?: True\n",
      "     normal?: True\n"
     ]
    }
   ],
   "source": [
    "about_proper_subgroups2(ps3, unique=True)"
   ]
  },
  {
   "cell_type": "code",
   "execution_count": null,
   "id": "98d30795",
   "metadata": {},
   "outputs": [],
   "source": []
  }
 ],
 "metadata": {
  "kernelspec": {
   "display_name": "Python 3",
   "language": "python",
   "name": "python3"
  },
  "language_info": {
   "codemirror_mode": {
    "name": "ipython",
    "version": 3
   },
   "file_extension": ".py",
   "mimetype": "text/x-python",
   "name": "python",
   "nbconvert_exporter": "python",
   "pygments_lexer": "ipython3",
   "version": "3.7.7"
  }
 },
 "nbformat": 4,
 "nbformat_minor": 5
}
