{
 "cells": [
  {
   "cell_type": "markdown",
   "id": "ee049858",
   "metadata": {},
   "source": [
    "# Abstract Algebra"
   ]
  },
  {
   "cell_type": "markdown",
   "id": "4cb34136",
   "metadata": {},
   "source": [
    "#### An experimental implementation of finite groups."
   ]
  },
  {
   "cell_type": "markdown",
   "id": "27e7eb59",
   "metadata": {},
   "source": [
    "For API documentation see: https://abstract-algebra.readthedocs.io/en/latest/index.html"
   ]
  },
  {
   "cell_type": "code",
   "execution_count": 1,
   "id": "e619b843",
   "metadata": {},
   "outputs": [],
   "source": [
    "import algebras as alg\n",
    "import json\n",
    "import os"
   ]
  },
  {
   "cell_type": "code",
   "execution_count": 2,
   "id": "0da80e6d",
   "metadata": {},
   "outputs": [],
   "source": [
    "# Path to this repo\n",
    "aa_path = os.path.join(os.getenv('PYPROJ'), 'abstract_algebra')\n",
    "\n",
    "# Path to a directory containing Algebra definitions in JSON\n",
    "alg_dir = os.path.join(aa_path, \"Algebras\")"
   ]
  },
  {
   "cell_type": "markdown",
   "id": "f875909b",
   "metadata": {},
   "source": [
    "## Store Group in JSON format"
   ]
  },
  {
   "cell_type": "markdown",
   "id": "cf78a7d5",
   "metadata": {},
   "source": [
    "* The <b>mult_table</b> <u>must</u> reference group elements according to their index (position) in the <b>element_names</b> list.\n",
    "* <b>0</b> <u>must</u> always refer to the <b>identity element</b>.\n",
    "* The first row and first column must be the integers in order, (0, 1, 2, ..., n-1), where n is the number of elements"
   ]
  },
  {
   "cell_type": "code",
   "execution_count": 3,
   "id": "1eb32ead",
   "metadata": {},
   "outputs": [
    {
     "name": "stdout",
     "output_type": "stream",
     "text": [
      "{\"type\": \"Group\",\r\n",
      " \"name\": \"V4\",\r\n",
      " \"description\": \"Klein-4 group\",\r\n",
      " \"element_names\": [\"e\", \"h\", \"v\", \"hv\"],\r\n",
      " \"mult_table\": [[0, 1, 2, 3],\r\n",
      "                [1, 0, 3, 2],\r\n",
      "                [2, 3, 0, 1],\r\n",
      "                [3, 2, 1, 0]]\r\n",
      "}\r\n"
     ]
    }
   ],
   "source": [
    "# Path to a JSON file that defines the group V4\n",
    "v4_json = os.path.join(alg_dir, \"v4_klein_4_group.json\")\n",
    "\n",
    "!cat {v4_json}"
   ]
  },
  {
   "cell_type": "markdown",
   "id": "fc476cc2",
   "metadata": {},
   "source": [
    "## Read JSON Definition to Instantiate a Group Object"
   ]
  },
  {
   "cell_type": "code",
   "execution_count": 4,
   "id": "fcd5a1c8",
   "metadata": {},
   "outputs": [
    {
     "data": {
      "text/plain": [
       "Group('V4',\n",
       "'Klein-4 group',\n",
       "['e', 'h', 'v', 'hv'],\n",
       "[[0, 1, 2, 3], [1, 0, 3, 2], [2, 3, 0, 1], [3, 2, 1, 0]]) "
      ]
     },
     "execution_count": 4,
     "metadata": {},
     "output_type": "execute_result"
    }
   ],
   "source": [
    "v4 = alg.Group(v4_json)\n",
    "v4"
   ]
  },
  {
   "cell_type": "markdown",
   "id": "750155f4",
   "metadata": {},
   "source": [
    "#### The group can also be created using the Group constuctor."
   ]
  },
  {
   "cell_type": "code",
   "execution_count": 5,
   "id": "e78428e9",
   "metadata": {},
   "outputs": [
    {
     "data": {
      "text/plain": [
       "Group('V4',\n",
       "'Another way to construct V4',\n",
       "['e', 'h', 'v', 'hv'],\n",
       "[[0, 1, 2, 3], [1, 0, 3, 2], [2, 3, 0, 1], [3, 2, 1, 0]]) "
      ]
     },
     "execution_count": 5,
     "metadata": {},
     "output_type": "execute_result"
    }
   ],
   "source": [
    "alg.Group('V4',\n",
    "          'Another way to construct V4',\n",
    "          ['e',  'h',  'v', 'hv'],\n",
    "          [[0, 1, 2, 3],\n",
    "           [1, 0, 3, 2],\n",
    "           [2, 3, 0, 1],\n",
    "           [3, 2, 1, 0]]\n",
    "         )"
   ]
  },
  {
   "cell_type": "markdown",
   "id": "0685900c",
   "metadata": {},
   "source": [
    "#### And the group can be created from a Python dictionary:"
   ]
  },
  {
   "cell_type": "code",
   "execution_count": 6,
   "id": "2c39ec39",
   "metadata": {},
   "outputs": [
    {
     "data": {
      "text/plain": [
       "Group('V4',\n",
       "'Yet another way to define V4',\n",
       "['e', 'h', 'v', 'hv'],\n",
       "[[0, 1, 2, 3], [1, 0, 3, 2], [2, 3, 0, 1], [3, 2, 1, 0]]) "
      ]
     },
     "execution_count": 6,
     "metadata": {},
     "output_type": "execute_result"
    }
   ],
   "source": [
    "v4_dict = {'type': 'Group',\n",
    "           'name': 'V4',\n",
    "           'description': 'Yet another way to define V4',\n",
    "           'element_names': ['e', 'h', 'v', 'hv'],\n",
    "           'mult_table': [[0, 1, 2, 3], [1, 0, 3, 2], [2, 3, 0, 1], [3, 2, 1, 0]]}\n",
    "\n",
    "alg.Group(v4_dict)"
   ]
  },
  {
   "cell_type": "markdown",
   "id": "c6122fe0",
   "metadata": {},
   "source": [
    "For other ways to create groups, see the Jupyter Notebook, <b>ways_to_create_a_group</b>."
   ]
  },
  {
   "cell_type": "markdown",
   "id": "06622385",
   "metadata": {},
   "source": [
    "## Pretty Printing a Group"
   ]
  },
  {
   "cell_type": "markdown",
   "id": "f7b3cac1",
   "metadata": {},
   "source": [
    "A group can be pretty printed in two ways:\n",
    "\n",
    "The default way prints the table as it is represented internally using element indices."
   ]
  },
  {
   "cell_type": "code",
   "execution_count": 7,
   "id": "9706039c",
   "metadata": {},
   "outputs": [
    {
     "name": "stdout",
     "output_type": "stream",
     "text": [
      "Group('V4',\n",
      "'Klein-4 group',\n",
      "['e', 'h', 'v', 'hv'],\n",
      "[[0, 1, 2, 3], [1, 0, 3, 2], [2, 3, 0, 1], [3, 2, 1, 0]]\n",
      ")\n"
     ]
    }
   ],
   "source": [
    "v4.pprint()"
   ]
  },
  {
   "cell_type": "markdown",
   "id": "c74772f4",
   "metadata": {},
   "source": [
    "Or it can be printed using element names in the multiplication table.\n",
    "\n",
    "Note that, here, the element names list is omitted, since it is redundant to the first row of the table."
   ]
  },
  {
   "cell_type": "code",
   "execution_count": 8,
   "id": "77fa4f5c",
   "metadata": {},
   "outputs": [
    {
     "name": "stdout",
     "output_type": "stream",
     "text": [
      "Group('V4',\n",
      "'Klein-4 group',\n",
      "[['e', 'h', 'v', 'hv'],\n",
      " ['h', 'e', 'hv', 'v'],\n",
      " ['v', 'hv', 'e', 'h'],\n",
      " ['hv', 'v', 'h', 'e']]\n",
      ")\n"
     ]
    }
   ],
   "source": [
    "v4.pprint(True)"
   ]
  },
  {
   "cell_type": "markdown",
   "id": "9c34d7e6",
   "metadata": {},
   "source": [
    "In either of the methods, above, the printed output can be evaluated to create a duplicate of the group.\n",
    "\n",
    "For example, copying the printout immediately above we obtain the following:"
   ]
  },
  {
   "cell_type": "code",
   "execution_count": 9,
   "id": "1f4c6c3a",
   "metadata": {},
   "outputs": [
    {
     "data": {
      "text/plain": [
       "Group('V4',\n",
       "'Klein-4 group',\n",
       "['e', 'h', 'v', 'hv'],\n",
       "[[0, 1, 2, 3], [1, 0, 3, 2], [2, 3, 0, 1], [3, 2, 1, 0]]) "
      ]
     },
     "execution_count": 9,
     "metadata": {},
     "output_type": "execute_result"
    }
   ],
   "source": [
    "alg.Group('V4',\n",
    "'Klein-4 group',\n",
    "[['e', 'h', 'v', 'hv'],\n",
    " ['h', 'e', 'hv', 'v'],\n",
    " ['v', 'hv', 'e', 'h'],\n",
    " ['hv', 'v', 'h', 'e']]\n",
    ")"
   ]
  },
  {
   "cell_type": "markdown",
   "id": "85276d50",
   "metadata": {},
   "source": [
    "## Multiply Group Elements"
   ]
  },
  {
   "cell_type": "markdown",
   "id": "fca4dee9",
   "metadata": {},
   "source": [
    "Group multiplication operation takes zero or more arguments and returns the product according to the group's multiplication table (mult_table)."
   ]
  },
  {
   "cell_type": "markdown",
   "id": "3e5cb3b5",
   "metadata": {},
   "source": [
    "#### If no argument is provided, then the group's identity element is returned"
   ]
  },
  {
   "cell_type": "code",
   "execution_count": 10,
   "id": "f5613a2b",
   "metadata": {},
   "outputs": [
    {
     "data": {
      "text/plain": [
       "'e'"
      ]
     },
     "execution_count": 10,
     "metadata": {},
     "output_type": "execute_result"
    }
   ],
   "source": [
    "v4.mult()"
   ]
  },
  {
   "cell_type": "markdown",
   "id": "1c2f4c35",
   "metadata": {},
   "source": [
    "#### If one argument is provided, then that argument is returned, assuming it's a valid element name."
   ]
  },
  {
   "cell_type": "code",
   "execution_count": 11,
   "id": "7b9de389",
   "metadata": {},
   "outputs": [
    {
     "data": {
      "text/plain": [
       "'h'"
      ]
     },
     "execution_count": 11,
     "metadata": {},
     "output_type": "execute_result"
    }
   ],
   "source": [
    "v4.mult('h')"
   ]
  },
  {
   "cell_type": "markdown",
   "id": "ec07b71a",
   "metadata": {},
   "source": [
    "#### If the one argument is not a valid element name, then an exception is raised."
   ]
  },
  {
   "cell_type": "code",
   "execution_count": 12,
   "id": "e3e6ba9e",
   "metadata": {},
   "outputs": [
    {
     "name": "stdout",
     "output_type": "stream",
     "text": [
      "Caught Error:\n",
      "  FOO is not a valid Group element name\n"
     ]
    }
   ],
   "source": [
    "try:\n",
    "    v4.mult('FOO')\n",
    "except ValueError as err:\n",
    "    print(\"Caught Error:\")\n",
    "    print(f\"  {err}\")"
   ]
  },
  {
   "cell_type": "markdown",
   "id": "e86882a7",
   "metadata": {},
   "source": [
    "#### If two or more arguments are provided, then their combined product is returned:"
   ]
  },
  {
   "cell_type": "code",
   "execution_count": 13,
   "id": "23e50e03",
   "metadata": {},
   "outputs": [
    {
     "data": {
      "text/plain": [
       "'hv'"
      ]
     },
     "execution_count": 13,
     "metadata": {},
     "output_type": "execute_result"
    }
   ],
   "source": [
    "v4.mult('h','v')"
   ]
  },
  {
   "cell_type": "code",
   "execution_count": 14,
   "id": "e843a9bb",
   "metadata": {},
   "outputs": [
    {
     "data": {
      "text/plain": [
       "'e'"
      ]
     },
     "execution_count": 14,
     "metadata": {},
     "output_type": "execute_result"
    }
   ],
   "source": [
    "v4.mult('h', 'v', 'hv')"
   ]
  },
  {
   "cell_type": "markdown",
   "id": "85f101da",
   "metadata": {},
   "source": [
    "## Get Inverse Element"
   ]
  },
  {
   "cell_type": "code",
   "execution_count": 15,
   "id": "2eed33a4",
   "metadata": {},
   "outputs": [
    {
     "data": {
      "text/plain": [
       "'h'"
      ]
     },
     "execution_count": 15,
     "metadata": {},
     "output_type": "execute_result"
    }
   ],
   "source": [
    "v4.inverse('h')"
   ]
  },
  {
   "cell_type": "markdown",
   "id": "f2df4c23",
   "metadata": {},
   "source": [
    "## Check if Abelian"
   ]
  },
  {
   "cell_type": "code",
   "execution_count": 16,
   "id": "53d4df19",
   "metadata": {},
   "outputs": [
    {
     "data": {
      "text/plain": [
       "True"
      ]
     },
     "execution_count": 16,
     "metadata": {},
     "output_type": "execute_result"
    }
   ],
   "source": [
    "v4.abelian()"
   ]
  },
  {
   "cell_type": "markdown",
   "id": "77dc5179",
   "metadata": {},
   "source": [
    "## Check if Associative"
   ]
  },
  {
   "cell_type": "code",
   "execution_count": 17,
   "id": "b1105085",
   "metadata": {},
   "outputs": [
    {
     "data": {
      "text/plain": [
       "True"
      ]
     },
     "execution_count": 17,
     "metadata": {},
     "output_type": "execute_result"
    }
   ],
   "source": [
    "v4.associative()"
   ]
  },
  {
   "cell_type": "markdown",
   "id": "960f2d41",
   "metadata": {},
   "source": [
    "## Derive Direct Product"
   ]
  },
  {
   "cell_type": "code",
   "execution_count": 18,
   "id": "cd506912",
   "metadata": {},
   "outputs": [
    {
     "name": "stdout",
     "output_type": "stream",
     "text": [
      "Group('V4_x_V4',\n",
      "'Direct product of V4 & V4',\n",
      "['e-e', 'e-h', 'e-v', 'e-hv', 'h-e', 'h-h', 'h-v', 'h-hv', 'v-e', 'v-h', 'v-v', 'v-hv', 'hv-e', 'hv-h', 'hv-v', 'hv-hv'],\n",
      "[[0, 1, 2, 3, 4, 5, 6, 7, 8, 9, 10, 11, 12, 13, 14, 15],\n",
      " [1, 0, 3, 2, 5, 4, 7, 6, 9, 8, 11, 10, 13, 12, 15, 14],\n",
      " [2, 3, 0, 1, 6, 7, 4, 5, 10, 11, 8, 9, 14, 15, 12, 13],\n",
      " [3, 2, 1, 0, 7, 6, 5, 4, 11, 10, 9, 8, 15, 14, 13, 12],\n",
      " [4, 5, 6, 7, 0, 1, 2, 3, 12, 13, 14, 15, 8, 9, 10, 11],\n",
      " [5, 4, 7, 6, 1, 0, 3, 2, 13, 12, 15, 14, 9, 8, 11, 10],\n",
      " [6, 7, 4, 5, 2, 3, 0, 1, 14, 15, 12, 13, 10, 11, 8, 9],\n",
      " [7, 6, 5, 4, 3, 2, 1, 0, 15, 14, 13, 12, 11, 10, 9, 8],\n",
      " [8, 9, 10, 11, 12, 13, 14, 15, 0, 1, 2, 3, 4, 5, 6, 7],\n",
      " [9, 8, 11, 10, 13, 12, 15, 14, 1, 0, 3, 2, 5, 4, 7, 6],\n",
      " [10, 11, 8, 9, 14, 15, 12, 13, 2, 3, 0, 1, 6, 7, 4, 5],\n",
      " [11, 10, 9, 8, 15, 14, 13, 12, 3, 2, 1, 0, 7, 6, 5, 4],\n",
      " [12, 13, 14, 15, 8, 9, 10, 11, 4, 5, 6, 7, 0, 1, 2, 3],\n",
      " [13, 12, 15, 14, 9, 8, 11, 10, 5, 4, 7, 6, 1, 0, 3, 2],\n",
      " [14, 15, 12, 13, 10, 11, 8, 9, 6, 7, 4, 5, 2, 3, 0, 1],\n",
      " [15, 14, 13, 12, 11, 10, 9, 8, 7, 6, 5, 4, 3, 2, 1, 0]]\n",
      ")\n"
     ]
    }
   ],
   "source": [
    "v4.direct_product_delimiter('-')  # Default delimiter is ':'\n",
    "v4_x_v4 = v4 * v4\n",
    "v4_x_v4.pprint()"
   ]
  },
  {
   "cell_type": "markdown",
   "id": "387c6ff8",
   "metadata": {},
   "source": [
    "## Convert to Dictionary or JSON"
   ]
  },
  {
   "cell_type": "code",
   "execution_count": 19,
   "id": "3f64faa6",
   "metadata": {},
   "outputs": [
    {
     "data": {
      "text/plain": [
       "{'type': 'Group',\n",
       " 'name': 'V4',\n",
       " 'description': 'Klein-4 group',\n",
       " 'element_names': ['e', 'h', 'v', 'hv'],\n",
       " 'mult_table': [[0, 1, 2, 3], [1, 0, 3, 2], [2, 3, 0, 1], [3, 2, 1, 0]]}"
      ]
     },
     "execution_count": 19,
     "metadata": {},
     "output_type": "execute_result"
    }
   ],
   "source": [
    "v4.to_dict()"
   ]
  },
  {
   "cell_type": "code",
   "execution_count": 20,
   "id": "eceefb88",
   "metadata": {},
   "outputs": [
    {
     "data": {
      "text/plain": [
       "'{\"type\": \"Group\", \"name\": \"V4\", \"description\": \"Klein-4 group\", \"element_names\": [\"e\", \"h\", \"v\", \"hv\"], \"mult_table\": [[0, 1, 2, 3], [1, 0, 3, 2], [2, 3, 0, 1], [3, 2, 1, 0]]}'"
      ]
     },
     "execution_count": 20,
     "metadata": {},
     "output_type": "execute_result"
    }
   ],
   "source": [
    "v4.dumps()"
   ]
  },
  {
   "cell_type": "markdown",
   "id": "95fa9057",
   "metadata": {},
   "source": [
    "## Proper Subgroups"
   ]
  },
  {
   "cell_type": "code",
   "execution_count": 21,
   "id": "2c1d905a",
   "metadata": {},
   "outputs": [
    {
     "name": "stdout",
     "output_type": "stream",
     "text": [
      "Group('V4_subgroup_0',\n",
      "'Subgroup of: Klein-4 group',\n",
      "['e', 'h'],\n",
      "[[0, 1], [1, 0]]\n",
      ")\n",
      "Group('V4_subgroup_1',\n",
      "'Subgroup of: Klein-4 group',\n",
      "['e', 'hv'],\n",
      "[[0, 1], [1, 0]]\n",
      ")\n",
      "Group('V4_subgroup_2',\n",
      "'Subgroup of: Klein-4 group',\n",
      "['e', 'v'],\n",
      "[[0, 1], [1, 0]]\n",
      ")\n"
     ]
    }
   ],
   "source": [
    "subs = v4.proper_subgroups()\n",
    "\n",
    "for sub in subs:\n",
    "    sub.pprint()"
   ]
  },
  {
   "cell_type": "markdown",
   "id": "6268509b",
   "metadata": {},
   "source": [
    "## Group Generators"
   ]
  },
  {
   "cell_type": "markdown",
   "id": "eb130bc8",
   "metadata": {},
   "source": [
    "For now, there is only one group generator, for cyclic groups of any finite order:"
   ]
  },
  {
   "cell_type": "code",
   "execution_count": 22,
   "id": "cfb613f8",
   "metadata": {},
   "outputs": [
    {
     "name": "stdout",
     "output_type": "stream",
     "text": [
      "Group('Z7',\n",
      "'Cyclic group of order 7',\n",
      "['e', 'a', 'a^2', 'a^3', 'a^4', 'a^5', 'a^6'],\n",
      "[[0, 1, 2, 3, 4, 5, 6],\n",
      " [1, 2, 3, 4, 5, 6, 0],\n",
      " [2, 3, 4, 5, 6, 0, 1],\n",
      " [3, 4, 5, 6, 0, 1, 2],\n",
      " [4, 5, 6, 0, 1, 2, 3],\n",
      " [5, 6, 0, 1, 2, 3, 4],\n",
      " [6, 0, 1, 2, 3, 4, 5]]\n",
      ")\n"
     ]
    }
   ],
   "source": [
    "z7 = alg.generate_cyclic_group(7)\n",
    "z7.pprint()"
   ]
  },
  {
   "cell_type": "markdown",
   "id": "b80f90ec",
   "metadata": {},
   "source": [
    "## Print Information about a Group"
   ]
  },
  {
   "cell_type": "code",
   "execution_count": 23,
   "id": "2fb20f66",
   "metadata": {},
   "outputs": [
    {
     "name": "stdout",
     "output_type": "stream",
     "text": [
      "\n",
      "Group : Z7 : Cyclic group of order 7\n",
      "  Element Names: ['e', 'a', 'a^2', 'a^3', 'a^4', 'a^5', 'a^6']\n",
      "  Is Abelian? True\n",
      "  Inverses:  (** - indicates that it is its own inverse)\n",
      "    inv(e) = e   **\n",
      "    inv(a) = a^6 \n",
      "    inv(a^2) = a^5 \n",
      "    inv(a^3) = a^4 \n",
      "    inv(a^4) = a^3 \n",
      "    inv(a^5) = a^2 \n",
      "    inv(a^6) = a \n",
      "Element Orders:\n",
      "{1: ['e'], 7: ['a', 'a^2', 'a^3', 'a^4', 'a^5', 'a^6']}\n",
      "  Is associative? True\n",
      "  Cayley Table:\n",
      "[['e', 'a', 'a^2', 'a^3', 'a^4', 'a^5', 'a^6'],\n",
      " ['a', 'a^2', 'a^3', 'a^4', 'a^5', 'a^6', 'e'],\n",
      " ['a^2', 'a^3', 'a^4', 'a^5', 'a^6', 'e', 'a'],\n",
      " ['a^3', 'a^4', 'a^5', 'a^6', 'e', 'a', 'a^2'],\n",
      " ['a^4', 'a^5', 'a^6', 'e', 'a', 'a^2', 'a^3'],\n",
      " ['a^5', 'a^6', 'e', 'a', 'a^2', 'a^3', 'a^4'],\n",
      " ['a^6', 'e', 'a', 'a^2', 'a^3', 'a^4', 'a^5']]\n"
     ]
    }
   ],
   "source": [
    "z7.print_info()"
   ]
  },
  {
   "cell_type": "markdown",
   "id": "3d137446",
   "metadata": {},
   "source": [
    "## Resources"
   ]
  },
  {
   "cell_type": "markdown",
   "id": "6285e328",
   "metadata": {},
   "source": [
    "* <b>Book</b>: [\"Visual Group Theory\" by Nathan Carter](https://bookstore.ams.org/clrm-32)\n",
    "* [Group Explorer](https://nathancarter.github.io/group-explorer/index.html) -- Visualization software for the abstract algebra classroom\n",
    "* [Groupprops, The Group Properties Wiki (beta)](https://groupprops.subwiki.org/wiki/Main_Page)\n",
    "* [GroupNames](https://people.maths.bris.ac.uk/~matyd/GroupNames/index.html) -- \"A database, under construction, of names, extensions, properties and character tables of finite groups of small order.\"\n",
    "* [GAP](https://www.gap-system.org/#:~:text=What%20is%20GAP%3F,data%20libraries%20of%20algebraic%20objects.) -- \"Groups, Algorithms, Programming - a System for Computational Discrete Algebra\"\n",
    "* Klein four-group, V4\n",
    "  * [Wikipedia](https://en.wikipedia.org/wiki/Klein_four-group)\n",
    "  * [Group Explorer](https://github.com/nathancarter/group-explorer/blob/master/groups/V_4.group)\n",
    "* Cyclic group\n",
    "  * [Wikipedia](https://en.wikipedia.org/wiki/Cyclic_group)\n",
    "  * [Z4, cyclic group of order 4](https://github.com/nathancarter/group-explorer/blob/master/groups/Z_4.group)\n",
    "* Symmetric group\n",
    "  * [Symmetric group on 3 letters](https://github.com/nathancarter/group-explorer/blob/master/groups/S_3.group). Another name for this group is <i>\"Dihedral group on 3 vertices\"</i>"
   ]
  },
  {
   "cell_type": "code",
   "execution_count": null,
   "id": "615d75a2",
   "metadata": {},
   "outputs": [],
   "source": []
  }
 ],
 "metadata": {
  "kernelspec": {
   "display_name": "Python 3",
   "language": "python",
   "name": "python3"
  },
  "language_info": {
   "codemirror_mode": {
    "name": "ipython",
    "version": 3
   },
   "file_extension": ".py",
   "mimetype": "text/x-python",
   "name": "python",
   "nbconvert_exporter": "python",
   "pygments_lexer": "ipython3",
   "version": "3.7.7"
  }
 },
 "nbformat": 4,
 "nbformat_minor": 5
}
