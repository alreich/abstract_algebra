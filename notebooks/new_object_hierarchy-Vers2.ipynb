{
 "cells": [
  {
   "cell_type": "markdown",
   "id": "cdcbe4db",
   "metadata": {},
   "source": [
    "# New Object Hierarchy"
   ]
  },
  {
   "cell_type": "markdown",
   "id": "bc39086e",
   "metadata": {},
   "source": [
    "Version 2"
   ]
  },
  {
   "cell_type": "code",
   "execution_count": 16,
   "id": "27dd998b",
   "metadata": {},
   "outputs": [],
   "source": [
    "from finite_algebras import *\n",
    "from table_utils import *"
   ]
  },
  {
   "cell_type": "markdown",
   "id": "695bb549",
   "metadata": {},
   "source": [
    "### Magma Examples"
   ]
  },
  {
   "cell_type": "markdown",
   "id": "a7c3b990",
   "metadata": {},
   "source": [
    "#### Rock-Paper-Scisors Magma"
   ]
  },
  {
   "cell_type": "markdown",
   "id": "734f5210",
   "metadata": {},
   "source": [
    "This magma is obviously commutative, but not associative.\n",
    "\n",
    "See https://en.wikipedia.org/wiki/Commutative_magma\n",
    "\n",
    "* $M = \\langle \\{r,p,s\\}, \\cdot \\rangle$\n",
    "* For all $x, y \\in M$, if $x$ *beats* $y$, then $x \\cdot y = y \\cdot x = x$\n",
    "* Also, for all $x \\in M$, $xx = x$"
   ]
  },
  {
   "cell_type": "code",
   "execution_count": 17,
   "id": "cb7cfe56",
   "metadata": {},
   "outputs": [
    {
     "data": {
      "text/plain": [
       "Magma(\n",
       "['r', 'p', 's'],\n",
       "[[0, 1, 0], [1, 1, 2], [0, 2, 2]]\n",
       ")"
      ]
     },
     "execution_count": 17,
     "metadata": {},
     "output_type": "execute_result"
    }
   ],
   "source": [
    "rps = Magma(['r', 'p', 's'], [[0, 1, 0], [1, 1, 2], [0, 2, 2]])\n",
    "rps"
   ]
  },
  {
   "cell_type": "markdown",
   "id": "11fd5f0c",
   "metadata": {},
   "source": [
    "The following demonstrates that the rps magma is non-associative:"
   ]
  },
  {
   "cell_type": "code",
   "execution_count": 18,
   "id": "704b53ac",
   "metadata": {},
   "outputs": [
    {
     "name": "stdout",
     "output_type": "stream",
     "text": [
      "    r(ps) = rs = r, \n",
      "but (rp)s = ps = s\n"
     ]
    }
   ],
   "source": [
    "ps = rps.op('p', 's')\n",
    "rp = rps.op('r', 'p')\n",
    "\n",
    "r_ps = rps.op('r', ps)\n",
    "rp_s = rps.op(rp, 's')\n",
    "\n",
    "print(f\"    r(ps) = r{ps} = {r_ps}, \\nbut (rp)s = {rp}s = {rp_s}\")"
   ]
  },
  {
   "cell_type": "markdown",
   "id": "3c58dcb8",
   "metadata": {},
   "source": [
    "For other magma examples, [see this discussion](https://math.stackexchange.com/questions/779507/can-you-give-me-some-concrete-examples-of-magmas).  Also, [see this paper on groupiods](https://arxiv.org/ftp/math/papers/0304/0304490.pdf)."
   ]
  },
  {
   "cell_type": "markdown",
   "id": "ea3b1dbe",
   "metadata": {},
   "source": [
    "#### Smarandache Groupoid"
   ]
  },
  {
   "cell_type": "markdown",
   "id": "7fc2f973",
   "metadata": {},
   "source": [
    "This is Example 1.4.1 in the paper referenced, above."
   ]
  },
  {
   "cell_type": "code",
   "execution_count": 19,
   "id": "86532af7",
   "metadata": {},
   "outputs": [],
   "source": [
    "ex141_tbl = [[0, 3, 0, 3, 0, 3], [1, 4, 1, 4, 1, 4], [2, 5, 2, 5, 2, 5],\n",
    "             [3, 0, 3, 0, 3, 0], [4, 1, 4, 1, 4, 1], [5, 2, 5, 2, 5, 2]]"
   ]
  },
  {
   "cell_type": "code",
   "execution_count": 20,
   "id": "e68841f6",
   "metadata": {},
   "outputs": [
    {
     "data": {
      "text/plain": [
       "Magma(\n",
       "['a', 'b', 'c', 'd', 'e', 'f'],\n",
       "[[0, 3, 0, 3, 0, 3], [1, 4, 1, 4, 1, 4], [2, 5, 2, 5, 2, 5], [3, 0, 3, 0, 3, 0], [4, 1, 4, 1, 4, 1], [5, 2, 5, 2, 5, 2]]\n",
       ")"
      ]
     },
     "execution_count": 20,
     "metadata": {},
     "output_type": "execute_result"
    }
   ],
   "source": [
    "ex141_magma = Magma(['a', 'b', 'c', 'd', 'e', 'f'], ex141_tbl)\n",
    "ex141_magma"
   ]
  },
  {
   "cell_type": "code",
   "execution_count": 38,
   "id": "15f6837c",
   "metadata": {},
   "outputs": [
    {
     "data": {
      "text/plain": [
       "array([[0, 3, 0, 3, 0, 3],\n",
       "       [1, 4, 1, 4, 1, 4],\n",
       "       [2, 5, 2, 5, 2, 5],\n",
       "       [3, 0, 3, 0, 3, 0],\n",
       "       [4, 1, 4, 1, 4, 1],\n",
       "       [5, 2, 5, 2, 5, 2]])"
      ]
     },
     "execution_count": 38,
     "metadata": {},
     "output_type": "execute_result"
    }
   ],
   "source": [
    "ex141_magma.table"
   ]
  },
  {
   "cell_type": "markdown",
   "id": "0bb1d12e",
   "metadata": {},
   "source": [
    "### Testing Magma Methods"
   ]
  },
  {
   "cell_type": "markdown",
   "id": "7c4744cd",
   "metadata": {},
   "source": [
    "#### Table and Element Accessors"
   ]
  },
  {
   "cell_type": "code",
   "execution_count": 21,
   "id": "b4a66598",
   "metadata": {},
   "outputs": [
    {
     "data": {
      "text/plain": [
       "array([[0, 1, 0],\n",
       "       [1, 1, 2],\n",
       "       [0, 2, 2]])"
      ]
     },
     "execution_count": 21,
     "metadata": {},
     "output_type": "execute_result"
    }
   ],
   "source": [
    "rps.table"
   ]
  },
  {
   "cell_type": "code",
   "execution_count": 22,
   "id": "2f65372f",
   "metadata": {},
   "outputs": [
    {
     "data": {
      "text/plain": [
       "['r', 'p', 's']"
      ]
     },
     "execution_count": 22,
     "metadata": {},
     "output_type": "execute_result"
    }
   ],
   "source": [
    "rps.elements"
   ]
  },
  {
   "cell_type": "code",
   "execution_count": 23,
   "id": "914152d5",
   "metadata": {},
   "outputs": [
    {
     "data": {
      "text/plain": [
       "[['r', 'p', 'r'], ['p', 'p', 's'], ['r', 's', 's']]"
      ]
     },
     "execution_count": 23,
     "metadata": {},
     "output_type": "execute_result"
    }
   ],
   "source": [
    "rps.table_with_names()"
   ]
  },
  {
   "cell_type": "markdown",
   "id": "b3a7efb8",
   "metadata": {},
   "source": [
    "#### Magma as an Iterator and Container of Elements"
   ]
  },
  {
   "cell_type": "code",
   "execution_count": 24,
   "id": "e25b2c60",
   "metadata": {},
   "outputs": [
    {
     "data": {
      "text/plain": [
       "['r', 'p', 's']"
      ]
     },
     "execution_count": 24,
     "metadata": {},
     "output_type": "execute_result"
    }
   ],
   "source": [
    "[el for el in rps]"
   ]
  },
  {
   "cell_type": "code",
   "execution_count": 25,
   "id": "aa24c530",
   "metadata": {},
   "outputs": [
    {
     "data": {
      "text/plain": [
       "True"
      ]
     },
     "execution_count": 25,
     "metadata": {},
     "output_type": "execute_result"
    }
   ],
   "source": [
    "'r' in rps"
   ]
  },
  {
   "cell_type": "markdown",
   "id": "7743fa6e",
   "metadata": {},
   "source": [
    "#### Replacing (\"Setting\") Element Names"
   ]
  },
  {
   "cell_type": "code",
   "execution_count": 26,
   "id": "9c2d5019",
   "metadata": {},
   "outputs": [
    {
     "data": {
      "text/plain": [
       "Magma(\n",
       "['rock', 'paper', 'scissors'],\n",
       "[[0, 1, 0], [1, 1, 2], [0, 2, 2]]\n",
       ")"
      ]
     },
     "execution_count": 26,
     "metadata": {},
     "output_type": "execute_result"
    }
   ],
   "source": [
    "full_names = ['rock', 'paper', 'scissors']\n",
    "rps.set_elements(full_names)"
   ]
  },
  {
   "cell_type": "code",
   "execution_count": 27,
   "id": "3010c1b0",
   "metadata": {},
   "outputs": [
    {
     "name": "stdout",
     "output_type": "stream",
     "text": [
      "{'rock': 'r', 'paper': 'p', 'scissors': 's'}\n"
     ]
    },
    {
     "data": {
      "text/plain": [
       "Magma(\n",
       "['r', 'p', 's'],\n",
       "[[0, 1, 0], [1, 1, 2], [0, 2, 2]]\n",
       ")"
      ]
     },
     "execution_count": 27,
     "metadata": {},
     "output_type": "execute_result"
    }
   ],
   "source": [
    "orig_elems = ['r', 'p', 's']\n",
    "mapping = dict(zip(rps.elements, orig_elems))\n",
    "print(mapping)\n",
    "rps.set_elements(orig_elems)"
   ]
  },
  {
   "cell_type": "markdown",
   "id": "41e51e43",
   "metadata": {},
   "source": [
    "### Testing Table Utilities"
   ]
  },
  {
   "cell_type": "code",
   "execution_count": 34,
   "id": "27a60a25",
   "metadata": {},
   "outputs": [],
   "source": [
    "# not assoc; is comm; no identities -- the RPS magma table, above\n",
    "tbl1 = [[0, 1, 0], [1, 1, 2], [0, 2, 2]]\n",
    "\n",
    "# is assoc; not comm; has identity (0) --- the S3 group table\n",
    "tbl2 = [[0, 1, 2, 3, 4, 5], [1, 2, 0, 5, 3, 4], [2, 0, 1, 4, 5, 3],\n",
    "        [3, 4, 5, 0, 1, 2], [4, 5, 3, 2, 0, 1], [5, 3, 4, 1, 2, 0]]\n",
    "\n",
    "# is assoc; is comm; has identity (0) --- the Z4 group table\n",
    "tbl3 = [[0, 1, 2, 3], [1, 2, 3, 0], [2, 3, 0, 1], [3, 0, 1, 2]]\n",
    "\n",
    "# is assoc; is comm; has identity (0) --- powerset(3) group table\n",
    "tbl4 = [[0, 1, 2, 3, 4, 5, 6, 7], [1, 0, 4, 5, 2, 3, 7, 6], [2, 4, 0, 6, 1, 7, 3, 5],\n",
    "        [3, 5, 6, 0, 7, 1, 2, 4], [4, 2, 1, 7, 0, 6, 5, 3], [5, 3, 7, 1, 6, 0, 4, 2],\n",
    "        [6, 7, 3, 2, 5, 4, 0, 1], [7, 6, 5, 4, 3, 2, 1, 0]]\n",
    "\n",
    "# is assoc; is not comm; no left id; has right id --- Smarandache Groupoid (see above)\n",
    "tbl5 = ex141_tbl\n",
    "\n",
    "test_tables = [tbl1, tbl2, tbl3, tbl4, tbl5]"
   ]
  },
  {
   "cell_type": "code",
   "execution_count": 35,
   "id": "cd2875a8",
   "metadata": {},
   "outputs": [
    {
     "name": "stdout",
     "output_type": "stream",
     "text": [
      "   Table  Associative?  Commutative?  Left Id?  Right Id?  Identity?\n",
      "---------------------------------------------------------------------------\n",
      "     1       False         True         None      None       None\n",
      "     2        True        False            0         0          0\n",
      "     3        True         True            0         0          0\n",
      "     4        True         True            0         0          0\n",
      "     5        True        False         None         0       None\n"
     ]
    }
   ],
   "source": [
    "print(\"   Table  Associative?  Commutative?  Left Id?  Right Id?  Identity?\")\n",
    "print('-' * 75)\n",
    "for tbl in test_tables:\n",
    "    i = test_tables.index(tbl) + 1\n",
    "    is_assoc = str(is_associative(tbl))\n",
    "    is_comm = str(is_commutative(tbl))\n",
    "    lft_id = str(has_left_identity(tbl))\n",
    "    rgt_id = str(has_right_identity(tbl))\n",
    "    ident = str(has_identity(tbl))\n",
    "    print(f\"{i :>{6}} {is_assoc :>{11}} {is_comm :>{12}} {lft_id :>{12}} {rgt_id :>{9}} {ident :>{10}}\")"
   ]
  },
  {
   "cell_type": "markdown",
   "id": "8702f8b6",
   "metadata": {},
   "source": [
    "## Semigroup"
   ]
  },
  {
   "cell_type": "markdown",
   "id": "8915ef24",
   "metadata": {},
   "source": [
    "A semigroup is an associative magma."
   ]
  },
  {
   "cell_type": "code",
   "execution_count": null,
   "id": "ebe06d78",
   "metadata": {},
   "outputs": [],
   "source": [
    "is_table_associative(rps.table)"
   ]
  },
  {
   "cell_type": "markdown",
   "id": "cfde91a0",
   "metadata": {},
   "source": [
    "The Semigroup constructor will fail if the table does not support associativity:"
   ]
  },
  {
   "cell_type": "code",
   "execution_count": null,
   "id": "abe004d0",
   "metadata": {},
   "outputs": [],
   "source": [
    "try:\n",
    "    Semigroup(['r', 'p', 's'], [[0, 1, 0], [1, 1, 2], [0, 2, 2]])\n",
    "except:\n",
    "    print(\"Something went wrong\")"
   ]
  },
  {
   "cell_type": "markdown",
   "id": "272bc277",
   "metadata": {},
   "source": [
    "### See p. 67 in Pinter for a possible example"
   ]
  },
  {
   "cell_type": "markdown",
   "id": "d2dee5ef",
   "metadata": {},
   "source": [
    "## Monoid"
   ]
  },
  {
   "cell_type": "markdown",
   "id": "21fbe608",
   "metadata": {},
   "source": [
    "A monoid is a semigroup with an identity element."
   ]
  },
  {
   "cell_type": "markdown",
   "id": "44094740",
   "metadata": {},
   "source": [
    "**NEED TESTS AND EXAMPLES HERE**"
   ]
  },
  {
   "cell_type": "markdown",
   "id": "7dc825aa",
   "metadata": {},
   "source": [
    "## Group"
   ]
  },
  {
   "cell_type": "markdown",
   "id": "050cc1a9",
   "metadata": {},
   "source": [
    "A group is a monoid where every element has an inverse."
   ]
  },
  {
   "cell_type": "markdown",
   "id": "7858ef93",
   "metadata": {},
   "source": [
    "TBD"
   ]
  },
  {
   "cell_type": "code",
   "execution_count": null,
   "id": "10793f55",
   "metadata": {},
   "outputs": [],
   "source": []
  },
  {
   "cell_type": "code",
   "execution_count": null,
   "id": "347919a7",
   "metadata": {},
   "outputs": [],
   "source": []
  }
 ],
 "metadata": {
  "kernelspec": {
   "display_name": "Python 3",
   "language": "python",
   "name": "python3"
  },
  "language_info": {
   "codemirror_mode": {
    "name": "ipython",
    "version": 3
   },
   "file_extension": ".py",
   "mimetype": "text/x-python",
   "name": "python",
   "nbconvert_exporter": "python",
   "pygments_lexer": "ipython3",
   "version": "3.7.7"
  }
 },
 "nbformat": 4,
 "nbformat_minor": 5
}
