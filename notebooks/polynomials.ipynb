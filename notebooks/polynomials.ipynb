{
 "cells": [
  {
   "cell_type": "markdown",
   "id": "2ac9740a",
   "metadata": {},
   "source": [
    "# Polynomials"
   ]
  },
  {
   "cell_type": "markdown",
   "id": "8259fbf7",
   "metadata": {},
   "source": [
    "Work-In-Progress: This is an experimental notebook"
   ]
  },
  {
   "cell_type": "code",
   "execution_count": 1,
   "id": "0038b73a",
   "metadata": {},
   "outputs": [],
   "source": [
    "from polynomials import *"
   ]
  },
  {
   "cell_type": "markdown",
   "id": "d61a8d2a",
   "metadata": {},
   "source": [
    "There are only two classes involved here: **Term** and **Poly**.\n",
    "\n",
    "A **Poly** is a list of **Term**.\n",
    "\n",
    "**Example**:\n",
    "\n",
    "$-2 -4x +7x^2 -3x^4$ is a polynomial that consists of four terms,\n",
    "\n",
    "where each term has a coefficient, order, and the same variable:\n",
    "\n",
    "$-2x^0$ and $-4x^1$ and $+7x^2$ and $-3x^4$."
   ]
  },
  {
   "cell_type": "markdown",
   "id": "92b82af4",
   "metadata": {},
   "source": [
    "## Terms"
   ]
  },
  {
   "cell_type": "markdown",
   "id": "f6bd7106",
   "metadata": {},
   "source": [
    "A ``Term`` consists of:\n",
    "\n",
    "* **coefficient** (``int`` or ``float``)\n",
    "* **order** (non-negative ``int``)\n",
    "* **varname** (``string`` variable name)"
   ]
  },
  {
   "cell_type": "markdown",
   "id": "187d248d",
   "metadata": {},
   "source": [
    "The term $-2y^3$ is represented as follows:"
   ]
  },
  {
   "cell_type": "code",
   "execution_count": 2,
   "id": "ee45ee05",
   "metadata": {},
   "outputs": [
    {
     "name": "stdout",
     "output_type": "stream",
     "text": [
      "-2y^3\n"
     ]
    },
    {
     "data": {
      "text/plain": [
       "Term(-2, 3, y)"
      ]
     },
     "execution_count": 2,
     "metadata": {},
     "output_type": "execute_result"
    }
   ],
   "source": [
    "t1 = Term(-2, 3, 'y')\n",
    "print(t1)\n",
    "t1"
   ]
  },
  {
   "cell_type": "markdown",
   "id": "17d5eda7",
   "metadata": {},
   "source": [
    "If no variable name is entered, then the default is **'x'**.\n",
    "\n",
    "The default variable name is not output in the print representation."
   ]
  },
  {
   "cell_type": "code",
   "execution_count": 3,
   "id": "57d4c49f",
   "metadata": {},
   "outputs": [
    {
     "name": "stdout",
     "output_type": "stream",
     "text": [
      "+1x^2\n"
     ]
    },
    {
     "data": {
      "text/plain": [
       "Term(1, 2)"
      ]
     },
     "execution_count": 3,
     "metadata": {},
     "output_type": "execute_result"
    }
   ],
   "source": [
    "t2 = Term(1, 2)\n",
    "print(t2)\n",
    "t2"
   ]
  },
  {
   "cell_type": "markdown",
   "id": "c5349d19",
   "metadata": {},
   "source": [
    "### Term: Equality"
   ]
  },
  {
   "cell_type": "markdown",
   "id": "daa2ef15",
   "metadata": {},
   "source": [
    "The method, ``unpack``, returns the three quantities that make up a Term.  It's used below to create a copy of a Term and then check for equality."
   ]
  },
  {
   "cell_type": "code",
   "execution_count": 4,
   "id": "17218947",
   "metadata": {},
   "outputs": [
    {
     "name": "stdout",
     "output_type": "stream",
     "text": [
      "t1  = -2y^3\n",
      "t1b = -2y^3\n",
      "t1 == t1b ? True\n"
     ]
    }
   ],
   "source": [
    "coef, ord, var = t1.unpack()\n",
    "t1b = Term(coef, ord, var)\n",
    "print(f\"t1  = {t1}\")\n",
    "print(f\"t1b = {t1b}\")\n",
    "print(f\"t1 == t1b ? {t1 == t1b}\")"
   ]
  },
  {
   "cell_type": "markdown",
   "id": "77f857b5",
   "metadata": {},
   "source": [
    "The method, ``copy``, will create an exact copy of a Term."
   ]
  },
  {
   "cell_type": "code",
   "execution_count": 5,
   "id": "f8104b42",
   "metadata": {},
   "outputs": [
    {
     "name": "stdout",
     "output_type": "stream",
     "text": [
      "t1 == t1c ? True\n",
      "t1  object ID: 140686235084688\n",
      "t1c object ID: 140686761838160\n"
     ]
    }
   ],
   "source": [
    "t1c = t1.copy()\n",
    "print(f\"t1 == t1c ? {t1 == t1c}\")\n",
    "print(f\"t1  object ID: {id(t1)}\")\n",
    "print(f\"t1c object ID: {id(t1c)}\")"
   ]
  },
  {
   "cell_type": "markdown",
   "id": "5ab32f3d",
   "metadata": {},
   "source": [
    "### Term: Power"
   ]
  },
  {
   "cell_type": "markdown",
   "id": "83464354",
   "metadata": {},
   "source": [
    "Terms can be raised to a non-negative integer power."
   ]
  },
  {
   "cell_type": "code",
   "execution_count": 6,
   "id": "36062634",
   "metadata": {},
   "outputs": [
    {
     "name": "stdout",
     "output_type": "stream",
     "text": [
      "+4y^6\n"
     ]
    },
    {
     "data": {
      "text/plain": [
       "Term(4, 6, y)"
      ]
     },
     "execution_count": 6,
     "metadata": {},
     "output_type": "execute_result"
    }
   ],
   "source": [
    "t3a = t1**2\n",
    "print(t3a)\n",
    "t3a"
   ]
  },
  {
   "cell_type": "code",
   "execution_count": 7,
   "id": "3c096482",
   "metadata": {},
   "outputs": [
    {
     "name": "stdout",
     "output_type": "stream",
     "text": [
      "+1\n"
     ]
    },
    {
     "data": {
      "text/plain": [
       "Term(1, 0, y)"
      ]
     },
     "execution_count": 7,
     "metadata": {},
     "output_type": "execute_result"
    }
   ],
   "source": [
    "t3b = t1**0\n",
    "print(t3b)\n",
    "t3b"
   ]
  },
  {
   "cell_type": "markdown",
   "id": "287c7c2e",
   "metadata": {},
   "source": [
    "### Term: Multiplication"
   ]
  },
  {
   "cell_type": "markdown",
   "id": "1128a8b0",
   "metadata": {},
   "source": [
    "Terms can be multiplied by an ``int`` or a ``float``, on the left or the right."
   ]
  },
  {
   "cell_type": "code",
   "execution_count": 8,
   "id": "55f9ba51",
   "metadata": {},
   "outputs": [],
   "source": [
    "num = 5.1"
   ]
  },
  {
   "cell_type": "code",
   "execution_count": 9,
   "id": "adb2c951",
   "metadata": {},
   "outputs": [
    {
     "name": "stdout",
     "output_type": "stream",
     "text": [
      "+20.4y^6\n"
     ]
    },
    {
     "data": {
      "text/plain": [
       "Term(20.4, 6, y)"
      ]
     },
     "execution_count": 9,
     "metadata": {},
     "output_type": "execute_result"
    }
   ],
   "source": [
    "t4 = num * t3a\n",
    "print(t4)\n",
    "t4"
   ]
  },
  {
   "cell_type": "code",
   "execution_count": 10,
   "id": "548a9e0f",
   "metadata": {},
   "outputs": [
    {
     "data": {
      "text/plain": [
       "True"
      ]
     },
     "execution_count": 10,
     "metadata": {},
     "output_type": "execute_result"
    }
   ],
   "source": [
    "num * t3a == t3a * num"
   ]
  },
  {
   "cell_type": "markdown",
   "id": "7fbd82ba",
   "metadata": {},
   "source": [
    "### Term: Like terms"
   ]
  },
  {
   "cell_type": "markdown",
   "id": "6781523b",
   "metadata": {},
   "source": [
    "Like terms have the same variable and the same order.\n",
    "\n",
    "e.g., $-2x^7$ and $8x^7$ are like terms.\n",
    "<p>$-2x^7$ and $8x^3$ are **not** like terms.</p>"
   ]
  },
  {
   "cell_type": "code",
   "execution_count": 11,
   "id": "9a7e4db4",
   "metadata": {},
   "outputs": [],
   "source": [
    "t5 = Term(-2, 7)\n",
    "t6 = Term( 8, 7)\n",
    "t7 = Term( 8, 3)"
   ]
  },
  {
   "cell_type": "code",
   "execution_count": 12,
   "id": "c573ca86",
   "metadata": {},
   "outputs": [
    {
     "data": {
      "text/plain": [
       "True"
      ]
     },
     "execution_count": 12,
     "metadata": {},
     "output_type": "execute_result"
    }
   ],
   "source": [
    "t6.like_term(t5)"
   ]
  },
  {
   "cell_type": "code",
   "execution_count": 13,
   "id": "e4eb081c",
   "metadata": {},
   "outputs": [
    {
     "data": {
      "text/plain": [
       "False"
      ]
     },
     "execution_count": 13,
     "metadata": {},
     "output_type": "execute_result"
    }
   ],
   "source": [
    "t6.like_term(t7)"
   ]
  },
  {
   "cell_type": "markdown",
   "id": "31f7adc0",
   "metadata": {},
   "source": [
    "### Term: Call (variable substitution)"
   ]
  },
  {
   "cell_type": "markdown",
   "id": "f2bb3675",
   "metadata": {},
   "source": [
    "Terms are callable.\n",
    "\n",
    "Example:\n",
    "\n",
    "If $t_1 = -2y^3$ and $y=5$,\n",
    "\n",
    "then $t_1(5) = -2(5^3) = -250$"
   ]
  },
  {
   "cell_type": "code",
   "execution_count": 14,
   "id": "c121ae19",
   "metadata": {},
   "outputs": [
    {
     "name": "stdout",
     "output_type": "stream",
     "text": [
      "-2y^3\n",
      "-250\n"
     ]
    }
   ],
   "source": [
    "print(t1)\n",
    "print(t1(5))"
   ]
  },
  {
   "cell_type": "markdown",
   "id": "d7e5e401",
   "metadata": {},
   "source": [
    "A Term can be called (evaluated) at another Term.\n",
    "\n",
    "Effectively, this allows for **variable substitution**.\n",
    "\n",
    "**Example**:\n",
    "\n",
    "If $t_1 = -2y^3$ and $t_2 = x^2$,\n",
    "\n",
    "then $t_1(t_2) = -2(x^2)^3 = -2x^6$\n",
    "\n",
    "and $t_2(t_1) = (-2y^3)^2 = 4y^6$"
   ]
  },
  {
   "cell_type": "code",
   "execution_count": 15,
   "id": "e758620e",
   "metadata": {},
   "outputs": [
    {
     "name": "stdout",
     "output_type": "stream",
     "text": [
      "-2y^3\n",
      "+1x^2\n",
      "-2x^6\n",
      "+4y^6\n"
     ]
    }
   ],
   "source": [
    "print(t1)\n",
    "print(t2)\n",
    "\n",
    "print(t1(t2))\n",
    "print(t2(t1))"
   ]
  },
  {
   "cell_type": "code",
   "execution_count": null,
   "id": "6318ff14",
   "metadata": {},
   "outputs": [],
   "source": []
  },
  {
   "cell_type": "code",
   "execution_count": null,
   "id": "b9b6f901",
   "metadata": {},
   "outputs": [],
   "source": []
  },
  {
   "cell_type": "code",
   "execution_count": null,
   "id": "8ad6f412",
   "metadata": {},
   "outputs": [],
   "source": []
  },
  {
   "cell_type": "code",
   "execution_count": null,
   "id": "1dffb17e",
   "metadata": {},
   "outputs": [],
   "source": []
  },
  {
   "cell_type": "code",
   "execution_count": null,
   "id": "acda3834",
   "metadata": {},
   "outputs": [],
   "source": []
  },
  {
   "cell_type": "markdown",
   "id": "2637d9b9",
   "metadata": {},
   "source": [
    "## Polynomial Basics"
   ]
  },
  {
   "cell_type": "markdown",
   "id": "8c57bf51",
   "metadata": {},
   "source": [
    "A polynomial, ``Poly``, can be constructed from a 1D array of integers or floats that represent coefficients, where the index of a coefficient in the array is its order in the polynomial.\n",
    "\n",
    "Other methods of polynomial creation are described farther below."
   ]
  },
  {
   "cell_type": "code",
   "execution_count": 16,
   "id": "cd710d76",
   "metadata": {},
   "outputs": [
    {
     "data": {
      "text/plain": [
       "Poly([-2, -4, 7, 0, -3])"
      ]
     },
     "execution_count": 16,
     "metadata": {},
     "output_type": "execute_result"
    }
   ],
   "source": [
    "coeffs = [-2, -4, 7, 0, -3]\n",
    "\n",
    "p = Poly(coeffs)\n",
    "p"
   ]
  },
  {
   "cell_type": "markdown",
   "id": "efd10ffb",
   "metadata": {},
   "source": [
    "By default, 'x' is assumed to be the variable in a polynomial."
   ]
  },
  {
   "cell_type": "code",
   "execution_count": 17,
   "id": "0862a66e",
   "metadata": {},
   "outputs": [
    {
     "name": "stdout",
     "output_type": "stream",
     "text": [
      "-2 -4x +7x^2 -3x^4\n"
     ]
    }
   ],
   "source": [
    "print(p)"
   ]
  },
  {
   "cell_type": "markdown",
   "id": "aed18c90",
   "metadata": {},
   "source": [
    "A ``Poly`` is callable."
   ]
  },
  {
   "cell_type": "code",
   "execution_count": 18,
   "id": "26891e98",
   "metadata": {},
   "outputs": [],
   "source": [
    "a = 3  # A test value"
   ]
  },
  {
   "cell_type": "code",
   "execution_count": 19,
   "id": "e947f976",
   "metadata": {},
   "outputs": [
    {
     "data": {
      "text/plain": [
       "-194"
      ]
     },
     "execution_count": 19,
     "metadata": {},
     "output_type": "execute_result"
    }
   ],
   "source": [
    "p(a)"
   ]
  },
  {
   "cell_type": "markdown",
   "id": "3a106800",
   "metadata": {},
   "source": [
    "Here's a check of the arithmetic in the call made, above."
   ]
  },
  {
   "cell_type": "code",
   "execution_count": 20,
   "id": "0af0c03d",
   "metadata": {},
   "outputs": [
    {
     "name": "stdout",
     "output_type": "stream",
     "text": [
      "-194\n"
     ]
    }
   ],
   "source": [
    "print(-2 - 4*a + 7*a**2 - 3*a**4)"
   ]
  },
  {
   "cell_type": "markdown",
   "id": "b4228443",
   "metadata": {},
   "source": [
    "Internally, a ``Poly`` is made up of a list of ``Terms`` and a ``varname`` (variable name string).\n",
    "\n",
    "A polynomial's term list is immutable, so it is a *property*; however, ``varname`` is a method, because it can be used to change the polynomials variable (e.g., 'x' -> 'y')"
   ]
  },
  {
   "cell_type": "code",
   "execution_count": 21,
   "id": "f0cc97d5",
   "metadata": {},
   "outputs": [
    {
     "data": {
      "text/plain": [
       "[Term(-2, 0), Term(-4, 1), Term(7, 2), Term(-3, 4)]"
      ]
     },
     "execution_count": 21,
     "metadata": {},
     "output_type": "execute_result"
    }
   ],
   "source": [
    "p.terms"
   ]
  },
  {
   "cell_type": "code",
   "execution_count": 22,
   "id": "6a54ace9",
   "metadata": {},
   "outputs": [
    {
     "data": {
      "text/plain": [
       "'x'"
      ]
     },
     "execution_count": 22,
     "metadata": {},
     "output_type": "execute_result"
    }
   ],
   "source": [
    "p.varname()"
   ]
  },
  {
   "cell_type": "markdown",
   "id": "b0cd60df",
   "metadata": {},
   "source": [
    "A ``Term`` can be retrieved, by its order, using the polynomial's ``term`` method."
   ]
  },
  {
   "cell_type": "code",
   "execution_count": 23,
   "id": "735fce0d",
   "metadata": {},
   "outputs": [
    {
     "data": {
      "text/plain": [
       "Term(7, 2)"
      ]
     },
     "execution_count": 23,
     "metadata": {},
     "output_type": "execute_result"
    }
   ],
   "source": [
    "t2 = p.term(2)\n",
    "t2"
   ]
  },
  {
   "cell_type": "markdown",
   "id": "e3ebf7cd",
   "metadata": {},
   "source": [
    "A ``Term`` consists of a *coefficient*, an *order*, and a *varname*."
   ]
  },
  {
   "cell_type": "code",
   "execution_count": 24,
   "id": "8eaab2b1",
   "metadata": {},
   "outputs": [
    {
     "data": {
      "text/plain": [
       "7"
      ]
     },
     "execution_count": 24,
     "metadata": {},
     "output_type": "execute_result"
    }
   ],
   "source": [
    "t2.coefficient"
   ]
  },
  {
   "cell_type": "code",
   "execution_count": 25,
   "id": "4212803c",
   "metadata": {},
   "outputs": [
    {
     "data": {
      "text/plain": [
       "2"
      ]
     },
     "execution_count": 25,
     "metadata": {},
     "output_type": "execute_result"
    }
   ],
   "source": [
    "t2.order"
   ]
  },
  {
   "cell_type": "markdown",
   "id": "e68a4339",
   "metadata": {},
   "source": [
    "Terms have a human-readable print representation."
   ]
  },
  {
   "cell_type": "code",
   "execution_count": 26,
   "id": "fd7bd481",
   "metadata": {},
   "outputs": [
    {
     "name": "stdout",
     "output_type": "stream",
     "text": [
      "+7x^2\n"
     ]
    }
   ],
   "source": [
    "print(t2)"
   ]
  },
  {
   "cell_type": "markdown",
   "id": "30594d8d",
   "metadata": {},
   "source": [
    "By default, terms use 'x' as a variable name."
   ]
  },
  {
   "cell_type": "code",
   "execution_count": 27,
   "id": "ca3ca484",
   "metadata": {},
   "outputs": [
    {
     "data": {
      "text/plain": [
       "'x'"
      ]
     },
     "execution_count": 27,
     "metadata": {},
     "output_type": "execute_result"
    }
   ],
   "source": [
    "t2.varname()"
   ]
  },
  {
   "cell_type": "markdown",
   "id": "fdd68fc3",
   "metadata": {},
   "source": [
    "Here's an example of a polynomial that doesn't use the default *varname* of 'x'."
   ]
  },
  {
   "cell_type": "code",
   "execution_count": 28,
   "id": "27982fbb",
   "metadata": {},
   "outputs": [
    {
     "data": {
      "text/plain": [
       "Poly([-2, -4, 7, 0, -3], 'y')"
      ]
     },
     "execution_count": 28,
     "metadata": {},
     "output_type": "execute_result"
    }
   ],
   "source": [
    "py = Poly(coeffs, 'y')\n",
    "py"
   ]
  },
  {
   "cell_type": "code",
   "execution_count": 29,
   "id": "e554fa58",
   "metadata": {},
   "outputs": [
    {
     "name": "stdout",
     "output_type": "stream",
     "text": [
      "-2 -4y +7y^2 -3y^4\n"
     ]
    }
   ],
   "source": [
    "print(py)"
   ]
  },
  {
   "cell_type": "code",
   "execution_count": 30,
   "id": "f0b0d059",
   "metadata": {},
   "outputs": [
    {
     "data": {
      "text/plain": [
       "-194"
      ]
     },
     "execution_count": 30,
     "metadata": {},
     "output_type": "execute_result"
    }
   ],
   "source": [
    "py(3)"
   ]
  },
  {
   "cell_type": "code",
   "execution_count": 31,
   "id": "a8db8f93",
   "metadata": {},
   "outputs": [
    {
     "data": {
      "text/plain": [
       "[Term(-2, 0, y), Term(-4, 1, y), Term(7, 2, y), Term(-3, 4, y)]"
      ]
     },
     "execution_count": 31,
     "metadata": {},
     "output_type": "execute_result"
    }
   ],
   "source": [
    "py.terms"
   ]
  },
  {
   "cell_type": "markdown",
   "id": "aec4f15d",
   "metadata": {},
   "source": [
    "We can check if a term is *constant*, *linear*, or *quadratic*.  If it is, then the coeffient of the term is returned, otherwise ``False`` is returned."
   ]
  },
  {
   "cell_type": "code",
   "execution_count": 32,
   "id": "6e63511f",
   "metadata": {},
   "outputs": [
    {
     "data": {
      "text/plain": [
       "False"
      ]
     },
     "execution_count": 32,
     "metadata": {},
     "output_type": "execute_result"
    }
   ],
   "source": [
    "py.terms[0].is_linear()"
   ]
  },
  {
   "cell_type": "code",
   "execution_count": 33,
   "id": "a44b564d",
   "metadata": {},
   "outputs": [
    {
     "data": {
      "text/plain": [
       "-2"
      ]
     },
     "execution_count": 33,
     "metadata": {},
     "output_type": "execute_result"
    }
   ],
   "source": [
    "py.terms[0].is_constant()"
   ]
  },
  {
   "cell_type": "code",
   "execution_count": 34,
   "id": "dce7a12e",
   "metadata": {},
   "outputs": [
    {
     "data": {
      "text/plain": [
       "7"
      ]
     },
     "execution_count": 34,
     "metadata": {},
     "output_type": "execute_result"
    }
   ],
   "source": [
    "py.terms[2].is_quadratic()"
   ]
  },
  {
   "cell_type": "markdown",
   "id": "9e09a6b3",
   "metadata": {},
   "source": [
    "## Other Ways to Construct Polynomials"
   ]
  },
  {
   "cell_type": "markdown",
   "id": "5f860394",
   "metadata": {},
   "source": [
    "### From a String Representation"
   ]
  },
  {
   "cell_type": "markdown",
   "id": "7ea60088",
   "metadata": {},
   "source": [
    "A ``Poly`` can also be constructed from a string representation of a polynomial, such as \"-2 -4x +7x^2 -3x^4\", where...\n",
    "\n",
    "* there **must** be a space between each term,\n",
    "* and, except for the first term, every term must begin with a + or - sign, and then a number, unless the number is a 1."
   ]
  },
  {
   "cell_type": "code",
   "execution_count": 35,
   "id": "936ff436",
   "metadata": {},
   "outputs": [
    {
     "name": "stdout",
     "output_type": "stream",
     "text": [
      "-2 -4x +7x^2 -3x^4\n"
     ]
    },
    {
     "data": {
      "text/plain": [
       "Poly([-2, -4, 7, 0, -3])"
      ]
     },
     "execution_count": 35,
     "metadata": {},
     "output_type": "execute_result"
    }
   ],
   "source": [
    "polystr = \"-2 -4x +7x^2 -3x^4\"\n",
    "\n",
    "p2 = Poly(polystr)\n",
    "print(p2)\n",
    "p2"
   ]
  },
  {
   "cell_type": "code",
   "execution_count": 36,
   "id": "0af5a49f",
   "metadata": {},
   "outputs": [],
   "source": [
    "polystry = \"7 +3y -y^2 -9y^3\"\n",
    "\n",
    "p2y = Poly(polystry)"
   ]
  },
  {
   "cell_type": "code",
   "execution_count": 37,
   "id": "8913d7be",
   "metadata": {},
   "outputs": [
    {
     "data": {
      "text/plain": [
       "[Term(7, 0, y), Term(3, 1, y), Term(-1, 2, y), Term(-9, 3, y)]"
      ]
     },
     "execution_count": 37,
     "metadata": {},
     "output_type": "execute_result"
    }
   ],
   "source": [
    "p2y.terms"
   ]
  },
  {
   "cell_type": "code",
   "execution_count": 38,
   "id": "702c607c",
   "metadata": {},
   "outputs": [
    {
     "name": "stdout",
     "output_type": "stream",
     "text": [
      "+7 +3y -1y^2 -9y^3\n"
     ]
    },
    {
     "data": {
      "text/plain": [
       "Poly([7, 3, -1, -9], 'y')"
      ]
     },
     "execution_count": 38,
     "metadata": {},
     "output_type": "execute_result"
    }
   ],
   "source": [
    "print(p2y)\n",
    "p2y"
   ]
  },
  {
   "cell_type": "markdown",
   "id": "e836ceaf",
   "metadata": {},
   "source": [
    "### From a List of Pairs (Tuples)"
   ]
  },
  {
   "cell_type": "code",
   "execution_count": 39,
   "id": "fe2f0668",
   "metadata": {},
   "outputs": [
    {
     "name": "stdout",
     "output_type": "stream",
     "text": [
      "-2 -4x +7x^2 -3x^4\n"
     ]
    },
    {
     "data": {
      "text/plain": [
       "Poly([-2, -4, 7, 0, -3])"
      ]
     },
     "execution_count": 39,
     "metadata": {},
     "output_type": "execute_result"
    }
   ],
   "source": [
    "coef_order_pairs_a = [(-2,0), (-4,1), (7, 2), (-3, 4)]\n",
    "\n",
    "p3a = Poly(coef_order_pairs_a)\n",
    "print(p3a)\n",
    "p3a"
   ]
  },
  {
   "cell_type": "markdown",
   "id": "b3fe242f",
   "metadata": {},
   "source": [
    "### From a List of Pairs (Lists)"
   ]
  },
  {
   "cell_type": "code",
   "execution_count": 40,
   "id": "34b56de3",
   "metadata": {},
   "outputs": [
    {
     "name": "stdout",
     "output_type": "stream",
     "text": [
      "-2 -4x +7x^2 -3x^4\n"
     ]
    },
    {
     "data": {
      "text/plain": [
       "Poly([-2, -4, 7, 0, -3])"
      ]
     },
     "execution_count": 40,
     "metadata": {},
     "output_type": "execute_result"
    }
   ],
   "source": [
    "coef_order_pairs_b = [[-2,0], [-4,1], [7, 2], [-3, 4]]\n",
    "\n",
    "p3b = Poly(coef_order_pairs_b)\n",
    "print(p3b)\n",
    "p3b"
   ]
  },
  {
   "cell_type": "markdown",
   "id": "c4ea2547",
   "metadata": {},
   "source": [
    "### From a List of Terms"
   ]
  },
  {
   "cell_type": "code",
   "execution_count": 41,
   "id": "be67e470",
   "metadata": {},
   "outputs": [
    {
     "name": "stdout",
     "output_type": "stream",
     "text": [
      "-2 -4x +7x^2 -3x^4\n"
     ]
    },
    {
     "data": {
      "text/plain": [
       "Poly([-2, -4, 7, 0, -3])"
      ]
     },
     "execution_count": 41,
     "metadata": {},
     "output_type": "execute_result"
    }
   ],
   "source": [
    "list_of_terms = [Term(-2,0), Term(-4,1), Term(7, 2), Term(-3, 4)]\n",
    "\n",
    "p4 = Poly(list_of_terms)\n",
    "print(p4)\n",
    "p4"
   ]
  },
  {
   "cell_type": "markdown",
   "id": "6aba2c9c",
   "metadata": {},
   "source": [
    "### From a List of Roots"
   ]
  },
  {
   "cell_type": "code",
   "execution_count": 42,
   "id": "42005915",
   "metadata": {},
   "outputs": [
    {
     "name": "stdout",
     "output_type": "stream",
     "text": [
      "+6 -11x +6x^2 -1x^3\n"
     ]
    },
    {
     "data": {
      "text/plain": [
       "Poly([6, -11, 6, -1])"
      ]
     },
     "execution_count": 42,
     "metadata": {},
     "output_type": "execute_result"
    }
   ],
   "source": [
    "roots = [1, 2, 3]\n",
    "\n",
    "p5 = from_roots(roots)\n",
    "print(p5)\n",
    "p5"
   ]
  },
  {
   "cell_type": "markdown",
   "id": "5738228c",
   "metadata": {},
   "source": [
    "## Combining Like Terms"
   ]
  },
  {
   "cell_type": "markdown",
   "id": "b9028c2e",
   "metadata": {},
   "source": [
    "Like terms (i.e., same order terms) are automatically combined during various polynomial operations, include the construction of polynomials."
   ]
  },
  {
   "cell_type": "code",
   "execution_count": 43,
   "id": "167c17ac",
   "metadata": {},
   "outputs": [],
   "source": [
    "test_terms = [Term(-2,0), Term(-4,1), Term(-1,0), Term(7,2), Term(-3,4), Term(-2,2)]"
   ]
  },
  {
   "cell_type": "code",
   "execution_count": 44,
   "id": "d10d8647",
   "metadata": {},
   "outputs": [
    {
     "name": "stdout",
     "output_type": "stream",
     "text": [
      "[Term(-2, 0), Term(-4, 1), Term(-1, 0), Term(7, 2), Term(-3, 4), Term(-2, 2)]\n",
      "[Term(-3, 0), Term(-4, 1), Term(5, 2), Term(-3, 4)]\n"
     ]
    }
   ],
   "source": [
    "print(test_terms)\n",
    "print(combine_like_terms(test_terms))"
   ]
  },
  {
   "cell_type": "code",
   "execution_count": 45,
   "id": "662e1cfc",
   "metadata": {},
   "outputs": [
    {
     "name": "stdout",
     "output_type": "stream",
     "text": [
      "-3 -4x +5x^2 -3x^4\n"
     ]
    },
    {
     "data": {
      "text/plain": [
       "Poly([-3, -4, 5, 0, -3])"
      ]
     },
     "execution_count": 45,
     "metadata": {},
     "output_type": "execute_result"
    }
   ],
   "source": [
    "polystr2 = \"-2 -4x -1 +7x^2 -3x^4 -2x^2\"\n",
    "p2 = Poly(polystr2)\n",
    "print(p2)\n",
    "p2"
   ]
  },
  {
   "cell_type": "code",
   "execution_count": 46,
   "id": "87b2bb18",
   "metadata": {},
   "outputs": [
    {
     "name": "stdout",
     "output_type": "stream",
     "text": [
      "0\n"
     ]
    },
    {
     "data": {
      "text/plain": [
       "Poly([0])"
      ]
     },
     "execution_count": 46,
     "metadata": {},
     "output_type": "execute_result"
    }
   ],
   "source": [
    "polystr3 = \"-2 +3x^4 -4x +2 +7x^2 +4x -3x^4 -7x^2\"\n",
    "p3 = Poly(polystr3)\n",
    "print(p3)\n",
    "p3"
   ]
  },
  {
   "cell_type": "markdown",
   "id": "d0c73cf3",
   "metadata": {},
   "source": [
    "## Testing Some Polynomial Strings"
   ]
  },
  {
   "cell_type": "code",
   "execution_count": 47,
   "id": "42ab144d",
   "metadata": {},
   "outputs": [
    {
     "name": "stdout",
     "output_type": "stream",
     "text": [
      "-2 -4x +7x^2 -3x^4\n"
     ]
    },
    {
     "data": {
      "text/plain": [
       "[Term(-2, 0), Term(-4, 1), Term(7, 2), Term(-3, 4)]"
      ]
     },
     "execution_count": 47,
     "metadata": {},
     "output_type": "execute_result"
    }
   ],
   "source": [
    "polystr = \"-2 -4x^1 +7x^2 -3x^4\"  # Added '^1' to linear term\n",
    "\n",
    "p = Poly(polystr)\n",
    "print(p)\n",
    "p.terms"
   ]
  },
  {
   "cell_type": "code",
   "execution_count": 48,
   "id": "47790fe1",
   "metadata": {},
   "outputs": [
    {
     "name": "stdout",
     "output_type": "stream",
     "text": [
      "-2 -4x +7x^2 -3x^4\n"
     ]
    },
    {
     "data": {
      "text/plain": [
       "[Term(-2, 0), Term(-4, 1), Term(7, 2), Term(-3, 4)]"
      ]
     },
     "execution_count": 48,
     "metadata": {},
     "output_type": "execute_result"
    }
   ],
   "source": [
    "polystr = \"-2x^0 -4x^1 +7x^2 -3x^4\"  # Added 'x^0' to constant term\n",
    "\n",
    "p = Poly(polystr)\n",
    "print(p)\n",
    "p.terms"
   ]
  },
  {
   "cell_type": "code",
   "execution_count": 49,
   "id": "e41bd9fe",
   "metadata": {},
   "outputs": [
    {
     "name": "stdout",
     "output_type": "stream",
     "text": [
      "-2 -4x +7x^2 -3x^4\n"
     ]
    },
    {
     "data": {
      "text/plain": [
       "[Term(-2, 0), Term(-4, 1), Term(7, 2), Term(-3, 4)]"
      ]
     },
     "execution_count": 49,
     "metadata": {},
     "output_type": "execute_result"
    }
   ],
   "source": [
    "polystr = \"-4x -2 -3x^4 +7x^2\"  #  Terms not in order \n",
    "\n",
    "p = Poly(polystr)\n",
    "print(p)\n",
    "p.terms"
   ]
  },
  {
   "cell_type": "code",
   "execution_count": 50,
   "id": "aa734eb9",
   "metadata": {},
   "outputs": [
    {
     "name": "stdout",
     "output_type": "stream",
     "text": [
      "-1 -1x +7x^2 -3x^4\n"
     ]
    },
    {
     "data": {
      "text/plain": [
       "[Term(-1, 0), Term(-1, 1), Term(7, 2), Term(-3, 4)]"
      ]
     },
     "execution_count": 50,
     "metadata": {},
     "output_type": "execute_result"
    }
   ],
   "source": [
    "polystr = \"2 -x -3 +7x^2 -3x^4\"  # No coefficient on linear term, 'x'\n",
    "\n",
    "p = Poly(polystr)\n",
    "print(p)\n",
    "p.terms"
   ]
  },
  {
   "cell_type": "code",
   "execution_count": 51,
   "id": "b73abb8e",
   "metadata": {},
   "outputs": [
    {
     "name": "stdout",
     "output_type": "stream",
     "text": [
      "-1 +7x^2 -3x^4\n"
     ]
    },
    {
     "data": {
      "text/plain": [
       "[Term(-1, 0), Term(7, 2), Term(-3, 4)]"
      ]
     },
     "execution_count": 51,
     "metadata": {},
     "output_type": "execute_result"
    }
   ],
   "source": [
    "polystr = \"2 -x -3 +7x^2 +x -3x^4\"  # linear terms cancel\n",
    "\n",
    "p = Poly(polystr)\n",
    "print(p)\n",
    "p.terms"
   ]
  },
  {
   "cell_type": "code",
   "execution_count": 52,
   "id": "5f556302",
   "metadata": {},
   "outputs": [
    {
     "name": "stdout",
     "output_type": "stream",
     "text": [
      "-3\n"
     ]
    },
    {
     "data": {
      "text/plain": [
       "[Term(-3, 0)]"
      ]
     },
     "execution_count": 52,
     "metadata": {},
     "output_type": "execute_result"
    }
   ],
   "source": [
    "polystr = \"-4x^2 -x -3 +7x^2 +x -3x^2\"  # Quadratic terms collapse and cancel\n",
    "\n",
    "p = Poly(polystr)\n",
    "print(p)\n",
    "p.terms"
   ]
  },
  {
   "cell_type": "markdown",
   "id": "838f1c5c",
   "metadata": {},
   "source": [
    "## Polynomial Arithmetic"
   ]
  },
  {
   "cell_type": "markdown",
   "id": "c6b56f1a",
   "metadata": {},
   "source": [
    "Polynomials can be added, subtracted, multiplied, negated, and raised to a positive integer power."
   ]
  },
  {
   "cell_type": "code",
   "execution_count": 53,
   "id": "613dd48b",
   "metadata": {},
   "outputs": [
    {
     "name": "stdout",
     "output_type": "stream",
     "text": [
      "q1 = +1 +2x\n",
      "q2 = +1 -2x\n"
     ]
    }
   ],
   "source": [
    "q1 = Poly('1 +2x')\n",
    "print(f\"q1 = {q1}\")\n",
    "\n",
    "q2 = Poly('1 -2x')\n",
    "print(f\"q2 = {q2}\")"
   ]
  },
  {
   "cell_type": "code",
   "execution_count": 54,
   "id": "16e87f54",
   "metadata": {},
   "outputs": [
    {
     "name": "stdout",
     "output_type": "stream",
     "text": [
      "+2 +2x\n",
      "+2 +2x\n"
     ]
    }
   ],
   "source": [
    "print(q1 + 1)\n",
    "print(1 + q1)"
   ]
  },
  {
   "cell_type": "code",
   "execution_count": 55,
   "id": "a80933ca",
   "metadata": {},
   "outputs": [
    {
     "name": "stdout",
     "output_type": "stream",
     "text": [
      "+1 +2x\n",
      "-1 -2x\n",
      "+3 +6x\n",
      "+2 +2x\n",
      "+2 +2x\n",
      "-2x\n",
      "+2x\n",
      "+2x\n"
     ]
    }
   ],
   "source": [
    "print(q1)\n",
    "print(-q1)\n",
    "print(3*q1)\n",
    "print(1 + q1)\n",
    "print(q1 + 1)\n",
    "print(1 + -q1)\n",
    "print(1 - q1)\n",
    "print(q1 - 1)"
   ]
  },
  {
   "cell_type": "code",
   "execution_count": null,
   "id": "04f2755b",
   "metadata": {},
   "outputs": [],
   "source": []
  },
  {
   "cell_type": "code",
   "execution_count": 56,
   "id": "58720dfb",
   "metadata": {},
   "outputs": [
    {
     "name": "stdout",
     "output_type": "stream",
     "text": [
      "+2\n"
     ]
    }
   ],
   "source": [
    "foo = Poly([2], 'x')\n",
    "print(foo)"
   ]
  },
  {
   "cell_type": "code",
   "execution_count": 57,
   "id": "c25eb27b",
   "metadata": {},
   "outputs": [
    {
     "data": {
      "text/plain": [
       "[Term(2, 0)]"
      ]
     },
     "execution_count": 57,
     "metadata": {},
     "output_type": "execute_result"
    }
   ],
   "source": [
    "foo.terms"
   ]
  },
  {
   "cell_type": "code",
   "execution_count": null,
   "id": "7d3f5af7",
   "metadata": {},
   "outputs": [],
   "source": []
  },
  {
   "cell_type": "code",
   "execution_count": null,
   "id": "ed021a1b",
   "metadata": {},
   "outputs": [],
   "source": []
  },
  {
   "cell_type": "code",
   "execution_count": 58,
   "id": "c39020d0",
   "metadata": {},
   "outputs": [
    {
     "name": "stdout",
     "output_type": "stream",
     "text": [
      "(+1 +2x) + (+1 -2x) = +2\n"
     ]
    }
   ],
   "source": [
    "print(f\"({q1}) + ({q2}) = {q1 + q2}\")"
   ]
  },
  {
   "cell_type": "code",
   "execution_count": 59,
   "id": "15fe851a",
   "metadata": {},
   "outputs": [
    {
     "name": "stdout",
     "output_type": "stream",
     "text": [
      "(+1 +2x) - (+1 -2x) = +4x\n"
     ]
    }
   ],
   "source": [
    "print(f\"({q1}) - ({q2}) = {q1 - q2}\")"
   ]
  },
  {
   "cell_type": "code",
   "execution_count": 60,
   "id": "07263d33",
   "metadata": {},
   "outputs": [
    {
     "name": "stdout",
     "output_type": "stream",
     "text": [
      "(+1 +2x) * (+1 -2x) = +1 -4x^2\n"
     ]
    }
   ],
   "source": [
    "print(f\"({q1}) * ({q2}) = {q1 * q2}\")"
   ]
  },
  {
   "cell_type": "code",
   "execution_count": 61,
   "id": "ae9bf918",
   "metadata": {},
   "outputs": [
    {
     "name": "stdout",
     "output_type": "stream",
     "text": [
      "(+1 +2x) * (+1 +2x) = +1 +4x +4x^2\n"
     ]
    }
   ],
   "source": [
    "print(f\"({q1}) * ({q1}) = {q1 * q1}\")"
   ]
  },
  {
   "cell_type": "code",
   "execution_count": 62,
   "id": "57d2df5e",
   "metadata": {},
   "outputs": [
    {
     "name": "stdout",
     "output_type": "stream",
     "text": [
      "(+1 -2x) * (+1 -2x) = +1 -4x +4x^2\n"
     ]
    }
   ],
   "source": [
    "print(f\"({q2}) * ({q2}) = {q2 * q2}\")"
   ]
  },
  {
   "cell_type": "code",
   "execution_count": 63,
   "id": "4777485d",
   "metadata": {},
   "outputs": [
    {
     "name": "stdout",
     "output_type": "stream",
     "text": [
      "-(+1 +2x) = -1 -2x\n"
     ]
    }
   ],
   "source": [
    "print(f\"-({q1}) = {-q1}\")"
   ]
  },
  {
   "cell_type": "code",
   "execution_count": 64,
   "id": "fc45de99",
   "metadata": {},
   "outputs": [
    {
     "name": "stdout",
     "output_type": "stream",
     "text": [
      "-(+1 -2x) = -1 +2x\n"
     ]
    }
   ],
   "source": [
    "print(f\"-({q2}) = {-q2}\")"
   ]
  },
  {
   "cell_type": "code",
   "execution_count": 65,
   "id": "591631c2",
   "metadata": {},
   "outputs": [
    {
     "name": "stdout",
     "output_type": "stream",
     "text": [
      "(+1 +2x)**2 = +1 +4x +4x^2\n"
     ]
    }
   ],
   "source": [
    "print(f\"({q1})**2 = {q1**2}\")"
   ]
  },
  {
   "cell_type": "code",
   "execution_count": 66,
   "id": "8732aa15",
   "metadata": {},
   "outputs": [
    {
     "name": "stdout",
     "output_type": "stream",
     "text": [
      "(+1 -2x)**2 = +1 -4x +4x^2\n"
     ]
    }
   ],
   "source": [
    "print(f\"({q2})**2 = {q2**2}\")"
   ]
  },
  {
   "cell_type": "markdown",
   "id": "6a6cd3c8",
   "metadata": {},
   "source": [
    "## Polynomial Representation"
   ]
  },
  {
   "cell_type": "markdown",
   "id": "85be7a80",
   "metadata": {},
   "source": [
    "The representation of a polynomial changes between two options, depending the estimated length of the representation.  The representation heuristic tries to produce the shortest representation possible, while still allow it to be one that can be used to recreate the polynomial."
   ]
  },
  {
   "cell_type": "code",
   "execution_count": 67,
   "id": "f76ce2db",
   "metadata": {},
   "outputs": [
    {
     "data": {
      "text/plain": [
       "Poly([(1, 0), (7, 19)])"
      ]
     },
     "execution_count": 67,
     "metadata": {},
     "output_type": "execute_result"
    }
   ],
   "source": [
    "coeffs1 = [1, 0, 0, 0, 0, 0, 0, 0, 0, 0, 0, 0, 0, 0, 0, 0, 0, 0, 0, 7]\n",
    "p_large_order1 = Poly(coeffs1)\n",
    "p_large_order1"
   ]
  },
  {
   "cell_type": "code",
   "execution_count": 68,
   "id": "f5ca70fe",
   "metadata": {},
   "outputs": [
    {
     "data": {
      "text/plain": [
       "Poly([(1, 0), (7, 6)])"
      ]
     },
     "execution_count": 68,
     "metadata": {},
     "output_type": "execute_result"
    }
   ],
   "source": [
    "coeffs2 = [1, 0, 0, 0, 0, 0, 7]\n",
    "p_large_order2 = Poly(coeffs2)\n",
    "p_large_order2"
   ]
  },
  {
   "cell_type": "code",
   "execution_count": 69,
   "id": "7a97bd36",
   "metadata": {},
   "outputs": [
    {
     "data": {
      "text/plain": [
       "Poly([1, 0, 0, 0, 0, 7])"
      ]
     },
     "execution_count": 69,
     "metadata": {},
     "output_type": "execute_result"
    }
   ],
   "source": [
    "coeffs3 = [1, 0, 0, 0, 0, 7]\n",
    "p_large_order3 = Poly(coeffs3)\n",
    "p_large_order3"
   ]
  },
  {
   "cell_type": "markdown",
   "id": "826ae586",
   "metadata": {},
   "source": [
    "## Using Floats"
   ]
  },
  {
   "cell_type": "markdown",
   "id": "d6e4aaff",
   "metadata": {},
   "source": [
    "Polynomial coefficients can be floats, as well as integers, or a mix of the two."
   ]
  },
  {
   "cell_type": "code",
   "execution_count": 70,
   "id": "3360222d",
   "metadata": {},
   "outputs": [
    {
     "name": "stdout",
     "output_type": "stream",
     "text": [
      "-2.2 -4x +7.3x^2 -3x^4\n"
     ]
    },
    {
     "data": {
      "text/plain": [
       "Poly([-2.2, -4, 7.3, 0, -3])"
      ]
     },
     "execution_count": 70,
     "metadata": {},
     "output_type": "execute_result"
    }
   ],
   "source": [
    "coeffs = [-2.2, -4, 7.3, -0.0, -3]\n",
    "\n",
    "p1 = Poly(coeffs)\n",
    "print(p1)\n",
    "p1"
   ]
  },
  {
   "cell_type": "code",
   "execution_count": 71,
   "id": "62c9684e",
   "metadata": {},
   "outputs": [
    {
     "name": "stdout",
     "output_type": "stream",
     "text": [
      "-2.2 -4x +7.3x^2 -3x^4\n"
     ]
    },
    {
     "data": {
      "text/plain": [
       "Poly([-2.2, -4, 7.3, 0, -3])"
      ]
     },
     "execution_count": 71,
     "metadata": {},
     "output_type": "execute_result"
    }
   ],
   "source": [
    "p2 = Poly('-2.2 -4x +7.3x^2 -3x^4')\n",
    "print(p2)\n",
    "p2"
   ]
  },
  {
   "cell_type": "markdown",
   "id": "fe608e2a",
   "metadata": {},
   "source": [
    "## Polynomial Derivatives and Antiderivatives"
   ]
  },
  {
   "cell_type": "code",
   "execution_count": 72,
   "id": "65cda358",
   "metadata": {},
   "outputs": [
    {
     "name": "stdout",
     "output_type": "stream",
     "text": [
      "-2.2 -4x +7.3x^2 -3x^4\n",
      "-4 +14.6x -12x^3\n"
     ]
    }
   ],
   "source": [
    "print(p1)\n",
    "p1_der = p1.derivative()\n",
    "print(p1_der)"
   ]
  },
  {
   "cell_type": "code",
   "execution_count": 73,
   "id": "6445b34d",
   "metadata": {},
   "outputs": [
    {
     "name": "stdout",
     "output_type": "stream",
     "text": [
      "+111 -4.0x +7.3x^2 -3.0x^4\n"
     ]
    }
   ],
   "source": [
    "p1_der_antider = p1_der.antiderivative(111)\n",
    "print(p1_der_antider)"
   ]
  },
  {
   "cell_type": "markdown",
   "id": "77189424",
   "metadata": {},
   "source": [
    "## Scratchwork"
   ]
  },
  {
   "cell_type": "code",
   "execution_count": 74,
   "id": "1f270ee9",
   "metadata": {},
   "outputs": [
    {
     "name": "stdout",
     "output_type": "stream",
     "text": [
      "r = -3 +2x +7x^2\n"
     ]
    }
   ],
   "source": [
    "r = Poly('-3 +2x +7x^2')\n",
    "print(f\"r = {r}\")"
   ]
  },
  {
   "cell_type": "code",
   "execution_count": 75,
   "id": "7fa295fc",
   "metadata": {},
   "outputs": [
    {
     "name": "stdout",
     "output_type": "stream",
     "text": [
      "s = +5 +4y\n"
     ]
    }
   ],
   "source": [
    "s = Poly('5 +4y', 'y')\n",
    "print(f\"s = {s}\")"
   ]
  },
  {
   "cell_type": "code",
   "execution_count": 76,
   "id": "4d47087b",
   "metadata": {},
   "outputs": [
    {
     "name": "stdout",
     "output_type": "stream",
     "text": [
      "-6 +4x +14x^2\n"
     ]
    }
   ],
   "source": [
    "print(2*r)"
   ]
  },
  {
   "cell_type": "code",
   "execution_count": 77,
   "id": "33a67117",
   "metadata": {},
   "outputs": [
    {
     "name": "stdout",
     "output_type": "stream",
     "text": [
      "-6 +4x +14x^2\n"
     ]
    }
   ],
   "source": [
    "print(r*2)"
   ]
  },
  {
   "cell_type": "code",
   "execution_count": 78,
   "id": "df1d7bc6",
   "metadata": {},
   "outputs": [
    {
     "name": "stdout",
     "output_type": "stream",
     "text": [
      "-7 +8x +28x^2\n"
     ]
    }
   ],
   "source": [
    "print(s(r))"
   ]
  },
  {
   "cell_type": "code",
   "execution_count": 79,
   "id": "cfb34224",
   "metadata": {},
   "outputs": [],
   "source": [
    "# print(r(s))  # ValueError: Mult: Variables must be the same, x != y"
   ]
  },
  {
   "cell_type": "markdown",
   "id": "2356aafe",
   "metadata": {},
   "source": [
    "# NumPy Polynomials"
   ]
  },
  {
   "cell_type": "markdown",
   "id": "385e1931",
   "metadata": {},
   "source": [
    "This is a better library for polynomials."
   ]
  },
  {
   "cell_type": "code",
   "execution_count": 80,
   "id": "a505fc26",
   "metadata": {},
   "outputs": [
    {
     "data": {
      "text/latex": [
       "$x \\mapsto \\text{-2.0} - \\text{4.0}\\,x + \\text{7.0}\\,x^{2}\\color{LightGray}{ + \\text{0.0}\\,x^{3}} - \\text{3.0}\\,x^{4}$"
      ],
      "text/plain": [
       "Polynomial([-2., -4.,  7.,  0., -3.], domain=[-1,  1], window=[-1,  1])"
      ]
     },
     "execution_count": 80,
     "metadata": {},
     "output_type": "execute_result"
    }
   ],
   "source": [
    "from numpy.polynomial import Polynomial\n",
    "\n",
    "poly_coeff = [-2, -4, 7, 0, -3]\n",
    "poly = Polynomial(poly_coeff)\n",
    "poly"
   ]
  },
  {
   "cell_type": "code",
   "execution_count": 81,
   "id": "3b928e91",
   "metadata": {},
   "outputs": [
    {
     "data": {
      "text/plain": [
       "-194.0"
      ]
     },
     "execution_count": 81,
     "metadata": {},
     "output_type": "execute_result"
    }
   ],
   "source": [
    "poly(3)"
   ]
  },
  {
   "cell_type": "code",
   "execution_count": 82,
   "id": "3e289ab0",
   "metadata": {},
   "outputs": [
    {
     "name": "stdout",
     "output_type": "stream",
     "text": [
      "-2.0 - 4.0·x¹ + 7.0·x² + 0.0·x³ - 3.0·x⁴\n"
     ]
    }
   ],
   "source": [
    "print(poly)"
   ]
  },
  {
   "cell_type": "code",
   "execution_count": 83,
   "id": "dd3d2252",
   "metadata": {},
   "outputs": [
    {
     "data": {
      "text/latex": [
       "$x \\mapsto \\text{1.0} + \\text{1.0}\\,x$"
      ],
      "text/plain": [
       "Polynomial([1., 1.], domain=[-1,  1], window=[-1,  1])"
      ]
     },
     "execution_count": 83,
     "metadata": {},
     "output_type": "execute_result"
    }
   ],
   "source": [
    "poly1 = Polynomial([1, 1])\n",
    "poly1"
   ]
  },
  {
   "cell_type": "code",
   "execution_count": 84,
   "id": "3f6be875",
   "metadata": {},
   "outputs": [
    {
     "data": {
      "text/latex": [
       "$x \\mapsto \\text{1.0} - \\text{1.0}\\,x$"
      ],
      "text/plain": [
       "Polynomial([ 1., -1.], domain=[-1,  1], window=[-1,  1])"
      ]
     },
     "execution_count": 84,
     "metadata": {},
     "output_type": "execute_result"
    }
   ],
   "source": [
    "poly2 = Polynomial([1, -1])\n",
    "poly2"
   ]
  },
  {
   "cell_type": "code",
   "execution_count": 85,
   "id": "96afd0d5",
   "metadata": {},
   "outputs": [
    {
     "data": {
      "text/latex": [
       "$x \\mapsto \\text{1.0}\\color{LightGray}{ + \\text{0.0}\\,x} - \\text{1.0}\\,x^{2}$"
      ],
      "text/plain": [
       "Polynomial([ 1.,  0., -1.], domain=[-1.,  1.], window=[-1.,  1.])"
      ]
     },
     "execution_count": 85,
     "metadata": {},
     "output_type": "execute_result"
    }
   ],
   "source": [
    "poly1 * poly2"
   ]
  },
  {
   "cell_type": "code",
   "execution_count": 86,
   "id": "82b30ac5",
   "metadata": {},
   "outputs": [],
   "source": [
    "# help(Polynomial)"
   ]
  }
 ],
 "metadata": {
  "kernelspec": {
   "display_name": "Python 3 (ipykernel)",
   "language": "python",
   "name": "python3"
  },
  "language_info": {
   "codemirror_mode": {
    "name": "ipython",
    "version": 3
   },
   "file_extension": ".py",
   "mimetype": "text/x-python",
   "name": "python",
   "nbconvert_exporter": "python",
   "pygments_lexer": "ipython3",
   "version": "3.7.7"
  }
 },
 "nbformat": 4,
 "nbformat_minor": 5
}
