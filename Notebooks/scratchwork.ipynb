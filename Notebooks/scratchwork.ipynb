{
 "cells": [
  {
   "cell_type": "markdown",
   "id": "98c287a6",
   "metadata": {},
   "source": [
    "# Scratch Work"
   ]
  },
  {
   "cell_type": "markdown",
   "id": "27c7554b",
   "metadata": {},
   "source": [
    "Move along - nothing to see here."
   ]
  },
  {
   "cell_type": "code",
   "execution_count": 1,
   "id": "9c0f2a2c",
   "metadata": {},
   "outputs": [],
   "source": [
    "import algebras as alg\n",
    "import json\n",
    "import os"
   ]
  },
  {
   "cell_type": "code",
   "execution_count": 2,
   "id": "85800a2d",
   "metadata": {},
   "outputs": [],
   "source": [
    "import itertools as it"
   ]
  },
  {
   "cell_type": "code",
   "execution_count": 3,
   "id": "879f7330",
   "metadata": {},
   "outputs": [],
   "source": [
    "# Path to this repo\n",
    "aa_path = os.path.join(os.getenv('PYPROJ'), 'abstract_algebra')\n",
    "\n",
    "# Path to a directory containing Algebra definitions in JSON\n",
    "alg_dir = os.path.join(aa_path, \"Algebras\")"
   ]
  },
  {
   "cell_type": "code",
   "execution_count": 4,
   "id": "7474b876",
   "metadata": {},
   "outputs": [
    {
     "name": "stdout",
     "output_type": "stream",
     "text": [
      "{\"type\": \"Group\",\r\n",
      " \"name\": \"S3\",\r\n",
      " \"description\": \"Symmetric group on 3 letters\",\r\n",
      " \"element_names\": [\"e\", \"r\", \"r^2\", \"f\", \"fr\", \"rf\"],\r\n",
      " \"mult_table\": [[0, 1, 2, 3, 4, 5],\r\n",
      "                [1, 2, 0, 5, 3, 4],\r\n",
      "                [2, 0, 1, 4, 5, 3],\r\n",
      "                [3, 4, 5, 0, 1, 2],\r\n",
      "                [4, 5, 3, 2, 0, 1],\r\n",
      "                [5, 3, 4, 1, 2, 0]]\r\n",
      "}\r\n"
     ]
    }
   ],
   "source": [
    "s3_path = os.path.join(alg_dir, \"s3_symmetric_group_on_3_letters.json\")\n",
    "!cat {s3_path}"
   ]
  },
  {
   "cell_type": "code",
   "execution_count": 5,
   "id": "a83778b8",
   "metadata": {
    "scrolled": true
   },
   "outputs": [
    {
     "name": "stdout",
     "output_type": "stream",
     "text": [
      "\n",
      "Group : S3 : Symmetric group on 3 letters\n",
      "  Element Names: ['e', 'r', 'r^2', 'f', 'fr', 'rf']\n",
      "  Is Abelian? False\n",
      "  Inverses:  (** - indicates that it is its own inverse)\n",
      "    inv(e) = e   **\n",
      "    inv(r) = r^2 \n",
      "    inv(r^2) = r \n",
      "    inv(f) = f   **\n",
      "    inv(fr) = fr   **\n",
      "    inv(rf) = rf   **\n",
      "  Is associative? True\n",
      "  Cayley Table:\n",
      "      e    r  r^2    f   fr   rf\n",
      "      r  r^2    e   rf    f   fr\n",
      "    r^2    e    r   fr   rf    f\n",
      "      f   fr   rf    e    r  r^2\n",
      "     fr   rf    f  r^2    e    r\n",
      "     rf    f   fr    r  r^2    e\n"
     ]
    }
   ],
   "source": [
    "s3 = alg.Group(s3_path)\n",
    "s3.print_info()"
   ]
  },
  {
   "cell_type": "code",
   "execution_count": 6,
   "id": "89bea3ec",
   "metadata": {},
   "outputs": [
    {
     "data": {
      "text/plain": [
       "['e', 'r']"
      ]
     },
     "execution_count": 6,
     "metadata": {},
     "output_type": "execute_result"
    }
   ],
   "source": [
    "element_subset = s3.element_names[:2]\n",
    "element_subset"
   ]
  },
  {
   "cell_type": "code",
   "execution_count": 7,
   "id": "882abe6e",
   "metadata": {},
   "outputs": [
    {
     "data": {
      "text/plain": [
       "['e', 'r^2', 'r']"
      ]
     },
     "execution_count": 7,
     "metadata": {},
     "output_type": "execute_result"
    }
   ],
   "source": [
    "s3.closure(element_subset)"
   ]
  },
  {
   "cell_type": "code",
   "execution_count": 8,
   "id": "a5cf7f1c",
   "metadata": {},
   "outputs": [
    {
     "name": "stdout",
     "output_type": "stream",
     "text": [
      "\n",
      "Group : Z2 : Cyclic group of order 2\n",
      "  Element Names: ['e', 'a']\n",
      "  Is Abelian? True\n",
      "  Inverses:  (** - indicates that it is its own inverse)\n",
      "    inv(e) = e   **\n",
      "    inv(a) = a   **\n",
      "  Is associative? True\n",
      "  Cayley Table:\n",
      "    e  a\n",
      "    a  e\n",
      "\n",
      "Group : Z2_x_Z2 : Direct product of Z2 & Z2\n",
      "  Element Names: ['e:e', 'e:a', 'a:e', 'a:a']\n",
      "  Is Abelian? True\n",
      "  Inverses:  (** - indicates that it is its own inverse)\n",
      "    inv(e:e) = e:e   **\n",
      "    inv(e:a) = e:a   **\n",
      "    inv(a:e) = a:e   **\n",
      "    inv(a:a) = a:a   **\n",
      "  Is associative? True\n",
      "  Cayley Table:\n",
      "    e:e  e:a  a:e  a:a\n",
      "    e:a  e:e  a:a  a:e\n",
      "    a:e  a:a  e:e  e:a\n",
      "    a:a  a:e  e:a  e:e\n",
      "\n",
      "Group : Z2_x_Z2_x_Z2 : Direct product of Z2_x_Z2 & Z2\n",
      "  Element Names: ['e:e:e', 'e:e:a', 'e:a:e', 'e:a:a', 'a:e:e', 'a:e:a', 'a:a:e', 'a:a:a']\n",
      "  Is Abelian? True\n",
      "  Inverses:  (** - indicates that it is its own inverse)\n",
      "    inv(e:e:e) = e:e:e   **\n",
      "    inv(e:e:a) = e:e:a   **\n",
      "    inv(e:a:e) = e:a:e   **\n",
      "    inv(e:a:a) = e:a:a   **\n",
      "    inv(a:e:e) = a:e:e   **\n",
      "    inv(a:e:a) = a:e:a   **\n",
      "    inv(a:a:e) = a:a:e   **\n",
      "    inv(a:a:a) = a:a:a   **\n",
      "  Is associative? True\n",
      "  Cayley Table:\n",
      "    e:e:e  e:e:a  e:a:e  e:a:a  a:e:e  a:e:a  a:a:e  a:a:a\n",
      "    e:e:a  e:e:e  e:a:a  e:a:e  a:e:a  a:e:e  a:a:a  a:a:e\n",
      "    e:a:e  e:a:a  e:e:e  e:e:a  a:a:e  a:a:a  a:e:e  a:e:a\n",
      "    e:a:a  e:a:e  e:e:a  e:e:e  a:a:a  a:a:e  a:e:a  a:e:e\n",
      "    a:e:e  a:e:a  a:a:e  a:a:a  e:e:e  e:e:a  e:a:e  e:a:a\n",
      "    a:e:a  a:e:e  a:a:a  a:a:e  e:e:a  e:e:e  e:a:a  e:a:e\n",
      "    a:a:e  a:a:a  a:e:e  a:e:a  e:a:e  e:a:a  e:e:e  e:e:a\n",
      "    a:a:a  a:a:e  a:e:a  a:e:e  e:a:a  e:a:e  e:e:a  e:e:e\n"
     ]
    }
   ],
   "source": [
    "z2 = alg.generate_cyclic_group(2)\n",
    "z2xz2 = z2 * z2\n",
    "z2xz2xz2 = z2 * z2 * z2\n",
    "z2.print_info()\n",
    "z2xz2.print_info()\n",
    "z2xz2xz2.print_info()"
   ]
  },
  {
   "cell_type": "code",
   "execution_count": 9,
   "id": "518e48ca",
   "metadata": {},
   "outputs": [
    {
     "data": {
      "text/plain": [
       "[['a:e:e', 'e:e:e', 'a:e:a', 'e:e:a'],\n",
       " ['a:e:e', 'e:e:e', 'e:a:a', 'a:a:a'],\n",
       " ['e:e:e', 'e:a:e', 'a:e:a', 'a:a:a'],\n",
       " ['e:e:e', 'a:a:a'],\n",
       " ['e:e:e', 'e:a:e'],\n",
       " ['e:e:e', 'e:a:a'],\n",
       " ['a:e:e', 'e:e:e'],\n",
       " ['a:e:e', 'e:e:e', 'e:a:e', 'a:a:e'],\n",
       " ['e:e:e', 'a:a:e'],\n",
       " ['e:e:a', 'a:a:e', 'a:a:a', 'e:e:e'],\n",
       " ['e:e:e', 'e:a:a', 'a:e:a', 'a:a:e'],\n",
       " ['e:e:e', 'a:e:a'],\n",
       " ['e:e:e', 'e:a:e', 'e:a:a', 'e:e:a'],\n",
       " ['e:e:e', 'e:e:a']]"
      ]
     },
     "execution_count": 9,
     "metadata": {},
     "output_type": "execute_result"
    }
   ],
   "source": [
    "z2xz2xz2.closed_subsets_of_elements()"
   ]
  },
  {
   "cell_type": "code",
   "execution_count": 10,
   "id": "4ead3c81",
   "metadata": {},
   "outputs": [
    {
     "data": {
      "text/plain": [
       "14"
      ]
     },
     "execution_count": 10,
     "metadata": {},
     "output_type": "execute_result"
    }
   ],
   "source": [
    "len(z2xz2xz2.closed_subsets_of_elements())"
   ]
  },
  {
   "cell_type": "code",
   "execution_count": null,
   "id": "b423a1b8",
   "metadata": {},
   "outputs": [],
   "source": []
  },
  {
   "cell_type": "code",
   "execution_count": 11,
   "id": "7d15fce1",
   "metadata": {},
   "outputs": [
    {
     "data": {
      "text/plain": [
       "['e', 'r', 'r^2', 'f', 'fr', 'rf']"
      ]
     },
     "execution_count": 11,
     "metadata": {},
     "output_type": "execute_result"
    }
   ],
   "source": [
    "s3.element_names"
   ]
  },
  {
   "cell_type": "raw",
   "id": "211480e7",
   "metadata": {},
   "source": [
    "grp = s3\n",
    "\n",
    "closed = set()\n",
    "all_elements = grp.element_names\n",
    "n = len(all_elements)\n",
    "for i in range(2, n-1):\n",
    "    for cmb in it.combinations(all_elements, i):\n",
    "        clo = frozenset(grp.closure(cmb))\n",
    "        if len(clo) < n:\n",
    "            closed.add(clo)\n",
    "closures = list(map(lambda x: list(x), closed))\n",
    "print(closures)"
   ]
  },
  {
   "cell_type": "code",
   "execution_count": 12,
   "id": "daf1ceab",
   "metadata": {},
   "outputs": [
    {
     "data": {
      "text/plain": [
       "[['fr', 'e'], ['rf', 'e'], ['e', 'r^2', 'r'], ['e', 'f']]"
      ]
     },
     "execution_count": 12,
     "metadata": {},
     "output_type": "execute_result"
    }
   ],
   "source": [
    "s3.closed_subsets_of_elements()"
   ]
  },
  {
   "cell_type": "code",
   "execution_count": null,
   "id": "be3e3676",
   "metadata": {},
   "outputs": [],
   "source": []
  },
  {
   "cell_type": "code",
   "execution_count": 13,
   "id": "768a453b",
   "metadata": {},
   "outputs": [],
   "source": [
    "foo = ['r', 'r^2', 'e']"
   ]
  },
  {
   "cell_type": "code",
   "execution_count": 14,
   "id": "65756237",
   "metadata": {},
   "outputs": [
    {
     "data": {
      "text/plain": [
       "['e', 'r', 'r^2']"
      ]
     },
     "execution_count": 14,
     "metadata": {},
     "output_type": "execute_result"
    }
   ],
   "source": [
    "sorted(foo, key=lambda x: s3.element_names.index(x))"
   ]
  },
  {
   "cell_type": "code",
   "execution_count": null,
   "id": "d66f1371",
   "metadata": {},
   "outputs": [],
   "source": []
  },
  {
   "cell_type": "code",
   "execution_count": null,
   "id": "3c08c96b",
   "metadata": {},
   "outputs": [],
   "source": []
  },
  {
   "cell_type": "code",
   "execution_count": null,
   "id": "eb038d18",
   "metadata": {},
   "outputs": [],
   "source": []
  },
  {
   "cell_type": "markdown",
   "id": "e34dae08",
   "metadata": {},
   "source": [
    "## Dihedral Group of Order 6"
   ]
  },
  {
   "cell_type": "markdown",
   "id": "482efee9",
   "metadata": {},
   "source": [
    "[See Wikipedia](https://en.wikipedia.org/wiki/Dihedral_group_of_order_6)"
   ]
  },
  {
   "cell_type": "code",
   "execution_count": 15,
   "id": "428d7886",
   "metadata": {},
   "outputs": [
    {
     "name": "stdout",
     "output_type": "stream",
     "text": [
      "{\"type\": \"Group\",\r\n",
      " \"name\": \"D3\",\r\n",
      " \"description\": \"https://en.wikipedia.org/wiki/Dihedral_group_of_order_6\",\r\n",
      " \"element_names\": [\"e\", \"a\", \"b\", \"aba\", \"ab\", \"ba\"],\r\n",
      " \"mult_table\": [[0, 1, 2, 3, 4, 5],\r\n",
      "                [1, 0, 4, 5, 2, 3],\r\n",
      "                [2, 5, 0, 4, 3, 1],\r\n",
      "                [3, 4, 5, 0, 1, 2],\r\n",
      "                [4, 3, 1, 2, 5, 0],\r\n",
      "                [5, 2, 3, 1, 0, 4]]\r\n",
      "}"
     ]
    }
   ],
   "source": [
    "d3_path = os.path.join(alg_dir, \"d3_dihedral_group_of_order_6.json\")\n",
    "\n",
    "!cat {d3_path}"
   ]
  },
  {
   "cell_type": "code",
   "execution_count": 16,
   "id": "9775d3b1",
   "metadata": {},
   "outputs": [
    {
     "name": "stdout",
     "output_type": "stream",
     "text": [
      "\n",
      "Group : D3 : https://en.wikipedia.org/wiki/Dihedral_group_of_order_6\n",
      "  Element Names: ['e', 'a', 'b', 'aba', 'ab', 'ba']\n",
      "  Is Abelian? False\n",
      "  Inverses:  (** - indicates that it is its own inverse)\n",
      "    inv(e) = e   **\n",
      "    inv(a) = a   **\n",
      "    inv(b) = b   **\n",
      "    inv(aba) = aba   **\n",
      "    inv(ab) = ba \n",
      "    inv(ba) = ab \n",
      "  Is associative? True\n",
      "  Cayley Table:\n",
      "      e    a    b  aba   ab   ba\n",
      "      a    e   ab   ba    b  aba\n",
      "      b   ba    e   ab  aba    a\n",
      "    aba   ab   ba    e    a    b\n",
      "     ab  aba    a    b   ba    e\n",
      "     ba    b  aba    a    e   ab\n"
     ]
    }
   ],
   "source": [
    "d3 = alg.Group(d3_path)\n",
    "\n",
    "d3.print_info()"
   ]
  },
  {
   "cell_type": "code",
   "execution_count": 17,
   "id": "5e6e548a",
   "metadata": {},
   "outputs": [
    {
     "data": {
      "text/plain": [
       "[['e', 'aba'], ['ab', 'ba', 'e'], ['e', 'a'], ['e', 'b']]"
      ]
     },
     "execution_count": 17,
     "metadata": {},
     "output_type": "execute_result"
    }
   ],
   "source": [
    "d3.closed_subsets_of_elements()"
   ]
  },
  {
   "cell_type": "code",
   "execution_count": null,
   "id": "f3b271ad",
   "metadata": {},
   "outputs": [],
   "source": []
  },
  {
   "cell_type": "code",
   "execution_count": 18,
   "id": "438ad212",
   "metadata": {},
   "outputs": [
    {
     "data": {
      "text/plain": [
       "['e', 'a', 'b', 'aba', 'ab', 'ba']"
      ]
     },
     "execution_count": 18,
     "metadata": {},
     "output_type": "execute_result"
    }
   ],
   "source": [
    "d3.element_names"
   ]
  },
  {
   "cell_type": "code",
   "execution_count": 19,
   "id": "638f2471",
   "metadata": {},
   "outputs": [
    {
     "data": {
      "text/plain": [
       "array([[0, 1, 2, 3, 4, 5],\n",
       "       [1, 0, 4, 5, 2, 3],\n",
       "       [2, 5, 0, 4, 3, 1],\n",
       "       [3, 4, 5, 0, 1, 2],\n",
       "       [4, 3, 1, 2, 5, 0],\n",
       "       [5, 2, 3, 1, 0, 4]])"
      ]
     },
     "execution_count": 19,
     "metadata": {},
     "output_type": "execute_result"
    }
   ],
   "source": [
    "d3.mult_table"
   ]
  },
  {
   "cell_type": "code",
   "execution_count": 20,
   "id": "c24c762c",
   "metadata": {},
   "outputs": [
    {
     "data": {
      "text/plain": [
       "['e', 'ab', 'ba']"
      ]
     },
     "execution_count": 20,
     "metadata": {},
     "output_type": "execute_result"
    }
   ],
   "source": [
    "sorted(['ba', 'ab', 'e'], key=lambda x: d3.element_names.index(x))"
   ]
  },
  {
   "cell_type": "raw",
   "id": "db0412fd",
   "metadata": {},
   "source": [
    "grp = d3\n",
    "sub = ['ba', 'ab', 'e']\n",
    "\n",
    "def subgroup(subset):\n",
    "    subset_sorted = sorted(subset, key=lambda x: grp.element_names.index(x))\n",
    "    table = []\n",
    "    for a in subset_sorted:\n",
    "        table_row = []\n",
    "        for b in subset_sorted:\n",
    "            prod = grp.mult(a, b)\n",
    "            table_row.append(subset_sorted.index(prod))\n",
    "        table.append(table_row)\n",
    "    return table\n",
    "\n",
    "subgroup(sub)"
   ]
  },
  {
   "cell_type": "code",
   "execution_count": 21,
   "id": "f2146862",
   "metadata": {},
   "outputs": [
    {
     "data": {
      "text/plain": [
       "[['e', 'aba'], ['ab', 'ba', 'e'], ['e', 'a'], ['e', 'b']]"
      ]
     },
     "execution_count": 21,
     "metadata": {},
     "output_type": "execute_result"
    }
   ],
   "source": [
    "d3.closed_subsets_of_elements()"
   ]
  },
  {
   "cell_type": "code",
   "execution_count": 22,
   "id": "293cc3eb",
   "metadata": {},
   "outputs": [
    {
     "data": {
      "text/plain": [
       "[Group('D3_subgroup_0', 'Subgroup of: https://en.wikipedia.org/wiki/Dihedral_group_of_order_6', ['e', 'aba'], [[0 1]\n",
       "  [1 0]]) ,\n",
       " Group('D3_subgroup_1', 'Subgroup of: https://en.wikipedia.org/wiki/Dihedral_group_of_order_6', ['e', 'ab', 'ba'], [[0 1 2]\n",
       "  [1 2 0]\n",
       "  [2 0 1]]) ,\n",
       " Group('D3_subgroup_2', 'Subgroup of: https://en.wikipedia.org/wiki/Dihedral_group_of_order_6', ['e', 'a'], [[0 1]\n",
       "  [1 0]]) ,\n",
       " Group('D3_subgroup_3', 'Subgroup of: https://en.wikipedia.org/wiki/Dihedral_group_of_order_6', ['e', 'b'], [[0 1]\n",
       "  [1 0]]) ]"
      ]
     },
     "execution_count": 22,
     "metadata": {},
     "output_type": "execute_result"
    }
   ],
   "source": [
    "d3.proper_subgroups()"
   ]
  },
  {
   "cell_type": "code",
   "execution_count": 23,
   "id": "c1f5d833",
   "metadata": {},
   "outputs": [
    {
     "data": {
      "text/plain": [
       "[Group('Z2_x_Z2_x_Z2_subgroup_0', 'Subgroup of: Direct product of Z2_x_Z2 & Z2', ['e:e:e', 'e:e:a', 'a:e:e', 'a:e:a'], [[0 1 2 3]\n",
       "  [1 0 3 2]\n",
       "  [2 3 0 1]\n",
       "  [3 2 1 0]]) ,\n",
       " Group('Z2_x_Z2_x_Z2_subgroup_1', 'Subgroup of: Direct product of Z2_x_Z2 & Z2', ['e:e:e', 'e:a:a', 'a:e:e', 'a:a:a'], [[0 1 2 3]\n",
       "  [1 0 3 2]\n",
       "  [2 3 0 1]\n",
       "  [3 2 1 0]]) ,\n",
       " Group('Z2_x_Z2_x_Z2_subgroup_2', 'Subgroup of: Direct product of Z2_x_Z2 & Z2', ['e:e:e', 'e:a:e', 'a:e:a', 'a:a:a'], [[0 1 2 3]\n",
       "  [1 0 3 2]\n",
       "  [2 3 0 1]\n",
       "  [3 2 1 0]]) ,\n",
       " Group('Z2_x_Z2_x_Z2_subgroup_3', 'Subgroup of: Direct product of Z2_x_Z2 & Z2', ['e:e:e', 'a:a:a'], [[0 1]\n",
       "  [1 0]]) ,\n",
       " Group('Z2_x_Z2_x_Z2_subgroup_4', 'Subgroup of: Direct product of Z2_x_Z2 & Z2', ['e:e:e', 'e:a:e'], [[0 1]\n",
       "  [1 0]]) ,\n",
       " Group('Z2_x_Z2_x_Z2_subgroup_5', 'Subgroup of: Direct product of Z2_x_Z2 & Z2', ['e:e:e', 'e:a:a'], [[0 1]\n",
       "  [1 0]]) ,\n",
       " Group('Z2_x_Z2_x_Z2_subgroup_6', 'Subgroup of: Direct product of Z2_x_Z2 & Z2', ['e:e:e', 'a:e:e'], [[0 1]\n",
       "  [1 0]]) ,\n",
       " Group('Z2_x_Z2_x_Z2_subgroup_7', 'Subgroup of: Direct product of Z2_x_Z2 & Z2', ['e:e:e', 'e:a:e', 'a:e:e', 'a:a:e'], [[0 1 2 3]\n",
       "  [1 0 3 2]\n",
       "  [2 3 0 1]\n",
       "  [3 2 1 0]]) ,\n",
       " Group('Z2_x_Z2_x_Z2_subgroup_8', 'Subgroup of: Direct product of Z2_x_Z2 & Z2', ['e:e:e', 'a:a:e'], [[0 1]\n",
       "  [1 0]]) ,\n",
       " Group('Z2_x_Z2_x_Z2_subgroup_9', 'Subgroup of: Direct product of Z2_x_Z2 & Z2', ['e:e:e', 'e:e:a', 'a:a:e', 'a:a:a'], [[0 1 2 3]\n",
       "  [1 0 3 2]\n",
       "  [2 3 0 1]\n",
       "  [3 2 1 0]]) ,\n",
       " Group('Z2_x_Z2_x_Z2_subgroup_10', 'Subgroup of: Direct product of Z2_x_Z2 & Z2', ['e:e:e', 'e:a:a', 'a:e:a', 'a:a:e'], [[0 1 2 3]\n",
       "  [1 0 3 2]\n",
       "  [2 3 0 1]\n",
       "  [3 2 1 0]]) ,\n",
       " Group('Z2_x_Z2_x_Z2_subgroup_11', 'Subgroup of: Direct product of Z2_x_Z2 & Z2', ['e:e:e', 'a:e:a'], [[0 1]\n",
       "  [1 0]]) ,\n",
       " Group('Z2_x_Z2_x_Z2_subgroup_12', 'Subgroup of: Direct product of Z2_x_Z2 & Z2', ['e:e:e', 'e:e:a', 'e:a:e', 'e:a:a'], [[0 1 2 3]\n",
       "  [1 0 3 2]\n",
       "  [2 3 0 1]\n",
       "  [3 2 1 0]]) ,\n",
       " Group('Z2_x_Z2_x_Z2_subgroup_13', 'Subgroup of: Direct product of Z2_x_Z2 & Z2', ['e:e:e', 'e:e:a'], [[0 1]\n",
       "  [1 0]]) ]"
      ]
     },
     "execution_count": 23,
     "metadata": {},
     "output_type": "execute_result"
    }
   ],
   "source": [
    "z2xz2xz2.subgroups()"
   ]
  },
  {
   "cell_type": "code",
   "execution_count": null,
   "id": "e404f021",
   "metadata": {},
   "outputs": [],
   "source": []
  }
 ],
 "metadata": {
  "kernelspec": {
   "display_name": "Python 3",
   "language": "python",
   "name": "python3"
  },
  "language_info": {
   "codemirror_mode": {
    "name": "ipython",
    "version": 3
   },
   "file_extension": ".py",
   "mimetype": "text/x-python",
   "name": "python",
   "nbconvert_exporter": "python",
   "pygments_lexer": "ipython3",
   "version": "3.7.7"
  }
 },
 "nbformat": 4,
 "nbformat_minor": 5
}
