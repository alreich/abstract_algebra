{
 "cells": [
  {
   "cell_type": "markdown",
   "id": "ad065f02",
   "metadata": {},
   "source": [
    "# Abstract Algebra"
   ]
  },
  {
   "cell_type": "markdown",
   "id": "fb110310",
   "metadata": {},
   "source": [
    "#### An experimental implementation of finite groups."
   ]
  },
  {
   "cell_type": "markdown",
   "id": "2ac7f258",
   "metadata": {},
   "source": [
    "For API documentation see: https://abstract-algebra.readthedocs.io/en/latest/index.html"
   ]
  },
  {
   "cell_type": "code",
   "execution_count": 1,
   "id": "b2824136",
   "metadata": {},
   "outputs": [],
   "source": [
    "import algebras as alg\n",
    "import json\n",
    "import os"
   ]
  },
  {
   "cell_type": "code",
   "execution_count": 2,
   "id": "11354bf2",
   "metadata": {},
   "outputs": [],
   "source": [
    "# Path to this repo\n",
    "aa_path = os.path.join(os.getenv('PYPROJ'), 'abstract_algebra')\n",
    "\n",
    "# Path to a directory containing Algebra definitions in JSON\n",
    "alg_dir = os.path.join(aa_path, \"Algebras\")"
   ]
  },
  {
   "cell_type": "markdown",
   "id": "8b5b0234",
   "metadata": {},
   "source": [
    "## Store Group in JSON format"
   ]
  },
  {
   "cell_type": "markdown",
   "id": "cd4ebcc6",
   "metadata": {},
   "source": [
    "* The <b>mult_table</b> <u>must</u> reference group elements according to their index (position) in the <b>element_names</b> list.\n",
    "* <b>0</b> <u>must</u> always refer to the <b>identity element</b>.\n",
    "* The first row and first column must be the integers in order, (0, 1, 2, ..., n-1), where n is the number of elements"
   ]
  },
  {
   "cell_type": "code",
   "execution_count": 3,
   "id": "2abad589",
   "metadata": {},
   "outputs": [
    {
     "name": "stdout",
     "output_type": "stream",
     "text": [
      "{\"type\": \"Group\",\r\n",
      " \"name\": \"V4\",\r\n",
      " \"description\": \"Klein-4 group\",\r\n",
      " \"element_names\": [\"e\", \"h\", \"v\", \"hv\"],\r\n",
      " \"mult_table\": [[0, 1, 2, 3],\r\n",
      "                [1, 0, 3, 2],\r\n",
      "                [2, 3, 0, 1],\r\n",
      "                [3, 2, 1, 0]]\r\n",
      "}\r\n"
     ]
    }
   ],
   "source": [
    "# Path to a JSON file that defines the group V4\n",
    "v4_json = os.path.join(alg_dir, \"v4_klein_4_group.json\")\n",
    "\n",
    "!cat {v4_json}"
   ]
  },
  {
   "cell_type": "markdown",
   "id": "496fe814",
   "metadata": {},
   "source": [
    "## Read JSON Definition to Instantiate a Group Object"
   ]
  },
  {
   "cell_type": "code",
   "execution_count": 4,
   "id": "ab5948d1",
   "metadata": {},
   "outputs": [
    {
     "data": {
      "text/plain": [
       "Group('V4',\n",
       "'Klein-4 group',\n",
       "['e', 'h', 'v', 'hv'],\n",
       "[[0, 1, 2, 3], [1, 0, 3, 2], [2, 3, 0, 1], [3, 2, 1, 0]]) "
      ]
     },
     "execution_count": 4,
     "metadata": {},
     "output_type": "execute_result"
    }
   ],
   "source": [
    "v4 = alg.Group(v4_json)\n",
    "v4"
   ]
  },
  {
   "cell_type": "markdown",
   "id": "d8a49412",
   "metadata": {},
   "source": [
    "#### The group can also be created using the Group constuctor."
   ]
  },
  {
   "cell_type": "code",
   "execution_count": 5,
   "id": "6d9da8c3",
   "metadata": {},
   "outputs": [
    {
     "data": {
      "text/plain": [
       "Group('V4',\n",
       "'Another way to construct V4',\n",
       "['e', 'h', 'v', 'hv'],\n",
       "[[0, 1, 2, 3], [1, 0, 3, 2], [2, 3, 0, 1], [3, 2, 1, 0]]) "
      ]
     },
     "execution_count": 5,
     "metadata": {},
     "output_type": "execute_result"
    }
   ],
   "source": [
    "alg.Group('V4',\n",
    "          'Another way to construct V4',\n",
    "          ['e',  'h',  'v', 'hv'],\n",
    "          [[0, 1, 2, 3],\n",
    "           [1, 0, 3, 2],\n",
    "           [2, 3, 0, 1],\n",
    "           [3, 2, 1, 0]]\n",
    "         )"
   ]
  },
  {
   "cell_type": "markdown",
   "id": "e48f70ba",
   "metadata": {},
   "source": [
    "#### And the group can be created from a Python dictionary:"
   ]
  },
  {
   "cell_type": "code",
   "execution_count": 6,
   "id": "4b466854",
   "metadata": {},
   "outputs": [
    {
     "data": {
      "text/plain": [
       "Group('V4',\n",
       "'Yet another way to define V4',\n",
       "['e', 'h', 'v', 'hv'],\n",
       "[[0, 1, 2, 3], [1, 0, 3, 2], [2, 3, 0, 1], [3, 2, 1, 0]]) "
      ]
     },
     "execution_count": 6,
     "metadata": {},
     "output_type": "execute_result"
    }
   ],
   "source": [
    "v4_dict = {'type': 'Group',\n",
    "           'name': 'V4',\n",
    "           'description': 'Yet another way to define V4',\n",
    "           'element_names': ['e', 'h', 'v', 'hv'],\n",
    "           'mult_table': [[0, 1, 2, 3], [1, 0, 3, 2], [2, 3, 0, 1], [3, 2, 1, 0]]}\n",
    "\n",
    "alg.Group(v4_dict)"
   ]
  },
  {
   "cell_type": "markdown",
   "id": "86f60660",
   "metadata": {},
   "source": [
    "For other ways to create groups, see the Jupyter Notebook, <b>ways_to_create_a_group</b>."
   ]
  },
  {
   "cell_type": "markdown",
   "id": "213193d1",
   "metadata": {},
   "source": [
    "## Pretty Printing a Group"
   ]
  },
  {
   "cell_type": "markdown",
   "id": "ed2a0ab0",
   "metadata": {},
   "source": [
    "A group can be pretty printed in two ways:\n",
    "\n",
    "The default way prints the table as it is represented internally using element indices."
   ]
  },
  {
   "cell_type": "code",
   "execution_count": 7,
   "id": "41598977",
   "metadata": {},
   "outputs": [
    {
     "name": "stdout",
     "output_type": "stream",
     "text": [
      "Group('V4',\n",
      "'Klein-4 group',\n",
      "['e', 'h', 'v', 'hv'],\n",
      "[[0, 1, 2, 3], [1, 0, 3, 2], [2, 3, 0, 1], [3, 2, 1, 0]]\n",
      ")\n"
     ]
    }
   ],
   "source": [
    "v4.pprint()"
   ]
  },
  {
   "cell_type": "markdown",
   "id": "8df915f6",
   "metadata": {},
   "source": [
    "Or it can be printed using element names in the multiplication table.\n",
    "\n",
    "Note that, here, the element names list is omitted, since it is redundant to the first row of the table."
   ]
  },
  {
   "cell_type": "code",
   "execution_count": 8,
   "id": "c1cded7f",
   "metadata": {},
   "outputs": [
    {
     "name": "stdout",
     "output_type": "stream",
     "text": [
      "Group('V4',\n",
      "'Klein-4 group',\n",
      "[['e', 'h', 'v', 'hv'],\n",
      " ['h', 'e', 'hv', 'v'],\n",
      " ['v', 'hv', 'e', 'h'],\n",
      " ['hv', 'v', 'h', 'e']]\n",
      ")\n"
     ]
    }
   ],
   "source": [
    "v4.pprint(True)"
   ]
  },
  {
   "cell_type": "markdown",
   "id": "cab339a3",
   "metadata": {},
   "source": [
    "In either of the methods, above, the printed output can be evaluated to create a duplicate of the group.\n",
    "\n",
    "For example, copying the printout immediately above we obtain the following:"
   ]
  },
  {
   "cell_type": "code",
   "execution_count": 9,
   "id": "018bffca",
   "metadata": {},
   "outputs": [
    {
     "data": {
      "text/plain": [
       "Group('V4',\n",
       "'Klein-4 group',\n",
       "['e', 'h', 'v', 'hv'],\n",
       "[[0, 1, 2, 3], [1, 0, 3, 2], [2, 3, 0, 1], [3, 2, 1, 0]]) "
      ]
     },
     "execution_count": 9,
     "metadata": {},
     "output_type": "execute_result"
    }
   ],
   "source": [
    "alg.Group('V4',\n",
    "'Klein-4 group',\n",
    "[['e', 'h', 'v', 'hv'],\n",
    " ['h', 'e', 'hv', 'v'],\n",
    " ['v', 'hv', 'e', 'h'],\n",
    " ['hv', 'v', 'h', 'e']]\n",
    ")"
   ]
  },
  {
   "cell_type": "markdown",
   "id": "b0b6043c",
   "metadata": {},
   "source": [
    "## Multiply Group Elements"
   ]
  },
  {
   "cell_type": "markdown",
   "id": "a1613f48",
   "metadata": {},
   "source": [
    "Group multiplication operation takes zero or more arguments and returns the product according to the group's multiplication table (mult_table)."
   ]
  },
  {
   "cell_type": "markdown",
   "id": "db2e49bc",
   "metadata": {},
   "source": [
    "#### If no argument is provided, then the group's identity element is returned"
   ]
  },
  {
   "cell_type": "code",
   "execution_count": 10,
   "id": "65c561e3",
   "metadata": {},
   "outputs": [
    {
     "data": {
      "text/plain": [
       "'e'"
      ]
     },
     "execution_count": 10,
     "metadata": {},
     "output_type": "execute_result"
    }
   ],
   "source": [
    "v4.mult()"
   ]
  },
  {
   "cell_type": "markdown",
   "id": "3b0ccf41",
   "metadata": {},
   "source": [
    "#### If one argument is provided, then that argument is returned, assuming it's a valid element name."
   ]
  },
  {
   "cell_type": "code",
   "execution_count": 11,
   "id": "6af4de35",
   "metadata": {},
   "outputs": [
    {
     "data": {
      "text/plain": [
       "'h'"
      ]
     },
     "execution_count": 11,
     "metadata": {},
     "output_type": "execute_result"
    }
   ],
   "source": [
    "v4.mult('h')"
   ]
  },
  {
   "cell_type": "markdown",
   "id": "3ef12d91",
   "metadata": {},
   "source": [
    "#### If the one argument is not a valid element name, then an exception is raised."
   ]
  },
  {
   "cell_type": "code",
   "execution_count": 12,
   "id": "963d542a",
   "metadata": {},
   "outputs": [
    {
     "name": "stdout",
     "output_type": "stream",
     "text": [
      "Caught Error:\n",
      "  FOO is not a valid Group element name\n"
     ]
    }
   ],
   "source": [
    "try:\n",
    "    v4.mult('FOO')\n",
    "except ValueError as err:\n",
    "    print(\"Caught Error:\")\n",
    "    print(f\"  {err}\")"
   ]
  },
  {
   "cell_type": "markdown",
   "id": "3fb17cca",
   "metadata": {},
   "source": [
    "#### If two or more arguments are provided, then their combined product is returned:"
   ]
  },
  {
   "cell_type": "code",
   "execution_count": 13,
   "id": "99dd2067",
   "metadata": {},
   "outputs": [
    {
     "data": {
      "text/plain": [
       "'hv'"
      ]
     },
     "execution_count": 13,
     "metadata": {},
     "output_type": "execute_result"
    }
   ],
   "source": [
    "v4.mult('h','v')"
   ]
  },
  {
   "cell_type": "code",
   "execution_count": 14,
   "id": "227c1dc9",
   "metadata": {},
   "outputs": [
    {
     "data": {
      "text/plain": [
       "'e'"
      ]
     },
     "execution_count": 14,
     "metadata": {},
     "output_type": "execute_result"
    }
   ],
   "source": [
    "v4.mult('h', 'v', 'hv')"
   ]
  },
  {
   "cell_type": "markdown",
   "id": "b6685cfd",
   "metadata": {},
   "source": [
    "## Get Inverse Element"
   ]
  },
  {
   "cell_type": "code",
   "execution_count": 15,
   "id": "fa55c817",
   "metadata": {},
   "outputs": [
    {
     "data": {
      "text/plain": [
       "'h'"
      ]
     },
     "execution_count": 15,
     "metadata": {},
     "output_type": "execute_result"
    }
   ],
   "source": [
    "v4.inverse('h')"
   ]
  },
  {
   "cell_type": "markdown",
   "id": "520c83f2",
   "metadata": {},
   "source": [
    "## Check if Abelian"
   ]
  },
  {
   "cell_type": "code",
   "execution_count": 16,
   "id": "f80464bf",
   "metadata": {},
   "outputs": [
    {
     "data": {
      "text/plain": [
       "True"
      ]
     },
     "execution_count": 16,
     "metadata": {},
     "output_type": "execute_result"
    }
   ],
   "source": [
    "v4.abelian()"
   ]
  },
  {
   "cell_type": "markdown",
   "id": "fa219f29",
   "metadata": {},
   "source": [
    "## Check if Associative"
   ]
  },
  {
   "cell_type": "code",
   "execution_count": 17,
   "id": "724ec686",
   "metadata": {},
   "outputs": [
    {
     "data": {
      "text/plain": [
       "True"
      ]
     },
     "execution_count": 17,
     "metadata": {},
     "output_type": "execute_result"
    }
   ],
   "source": [
    "v4.associative()"
   ]
  },
  {
   "cell_type": "markdown",
   "id": "f81924aa",
   "metadata": {},
   "source": [
    "## Derive Direct Product"
   ]
  },
  {
   "cell_type": "code",
   "execution_count": 18,
   "id": "e3669ed2",
   "metadata": {},
   "outputs": [
    {
     "name": "stdout",
     "output_type": "stream",
     "text": [
      "Group('V4_x_V4',\n",
      "'Direct product of V4 & V4',\n",
      "['e-e', 'e-h', 'e-v', 'e-hv', 'h-e', 'h-h', 'h-v', 'h-hv', 'v-e', 'v-h', 'v-v', 'v-hv', 'hv-e', 'hv-h', 'hv-v', 'hv-hv'],\n",
      "[[0, 1, 2, 3, 4, 5, 6, 7, 8, 9, 10, 11, 12, 13, 14, 15],\n",
      " [1, 0, 3, 2, 5, 4, 7, 6, 9, 8, 11, 10, 13, 12, 15, 14],\n",
      " [2, 3, 0, 1, 6, 7, 4, 5, 10, 11, 8, 9, 14, 15, 12, 13],\n",
      " [3, 2, 1, 0, 7, 6, 5, 4, 11, 10, 9, 8, 15, 14, 13, 12],\n",
      " [4, 5, 6, 7, 0, 1, 2, 3, 12, 13, 14, 15, 8, 9, 10, 11],\n",
      " [5, 4, 7, 6, 1, 0, 3, 2, 13, 12, 15, 14, 9, 8, 11, 10],\n",
      " [6, 7, 4, 5, 2, 3, 0, 1, 14, 15, 12, 13, 10, 11, 8, 9],\n",
      " [7, 6, 5, 4, 3, 2, 1, 0, 15, 14, 13, 12, 11, 10, 9, 8],\n",
      " [8, 9, 10, 11, 12, 13, 14, 15, 0, 1, 2, 3, 4, 5, 6, 7],\n",
      " [9, 8, 11, 10, 13, 12, 15, 14, 1, 0, 3, 2, 5, 4, 7, 6],\n",
      " [10, 11, 8, 9, 14, 15, 12, 13, 2, 3, 0, 1, 6, 7, 4, 5],\n",
      " [11, 10, 9, 8, 15, 14, 13, 12, 3, 2, 1, 0, 7, 6, 5, 4],\n",
      " [12, 13, 14, 15, 8, 9, 10, 11, 4, 5, 6, 7, 0, 1, 2, 3],\n",
      " [13, 12, 15, 14, 9, 8, 11, 10, 5, 4, 7, 6, 1, 0, 3, 2],\n",
      " [14, 15, 12, 13, 10, 11, 8, 9, 6, 7, 4, 5, 2, 3, 0, 1],\n",
      " [15, 14, 13, 12, 11, 10, 9, 8, 7, 6, 5, 4, 3, 2, 1, 0]]\n",
      ")\n"
     ]
    }
   ],
   "source": [
    "v4.direct_product_delimiter('-')  # Default delimiter is ':'\n",
    "v4_x_v4 = v4 * v4\n",
    "v4_x_v4.pprint()"
   ]
  },
  {
   "cell_type": "markdown",
   "id": "47bd7591",
   "metadata": {},
   "source": [
    "## Convert to Dictionary or JSON"
   ]
  },
  {
   "cell_type": "code",
   "execution_count": 19,
   "id": "cc8841f9",
   "metadata": {},
   "outputs": [
    {
     "data": {
      "text/plain": [
       "{'type': 'Group',\n",
       " 'name': 'V4',\n",
       " 'description': 'Klein-4 group',\n",
       " 'element_names': ['e', 'h', 'v', 'hv'],\n",
       " 'mult_table': [[0, 1, 2, 3], [1, 0, 3, 2], [2, 3, 0, 1], [3, 2, 1, 0]]}"
      ]
     },
     "execution_count": 19,
     "metadata": {},
     "output_type": "execute_result"
    }
   ],
   "source": [
    "v4.to_dict()"
   ]
  },
  {
   "cell_type": "code",
   "execution_count": 20,
   "id": "eee8e441",
   "metadata": {},
   "outputs": [
    {
     "data": {
      "text/plain": [
       "'{\"type\": \"Group\", \"name\": \"V4\", \"description\": \"Klein-4 group\", \"element_names\": [\"e\", \"h\", \"v\", \"hv\"], \"mult_table\": [[0, 1, 2, 3], [1, 0, 3, 2], [2, 3, 0, 1], [3, 2, 1, 0]]}'"
      ]
     },
     "execution_count": 20,
     "metadata": {},
     "output_type": "execute_result"
    }
   ],
   "source": [
    "v4.dumps()"
   ]
  },
  {
   "cell_type": "markdown",
   "id": "8810c5ae",
   "metadata": {},
   "source": [
    "## Proper Subgroups"
   ]
  },
  {
   "cell_type": "code",
   "execution_count": 21,
   "id": "675885ce",
   "metadata": {},
   "outputs": [
    {
     "name": "stdout",
     "output_type": "stream",
     "text": [
      "Group('V4_subgroup_0',\n",
      "'Subgroup of: Klein-4 group',\n",
      "['e', 'h'],\n",
      "[[0, 1], [1, 0]]\n",
      ")\n",
      "Group('V4_subgroup_1',\n",
      "'Subgroup of: Klein-4 group',\n",
      "['e', 'hv'],\n",
      "[[0, 1], [1, 0]]\n",
      ")\n",
      "Group('V4_subgroup_2',\n",
      "'Subgroup of: Klein-4 group',\n",
      "['e', 'v'],\n",
      "[[0, 1], [1, 0]]\n",
      ")\n"
     ]
    }
   ],
   "source": [
    "subs = v4.proper_subgroups()\n",
    "\n",
    "for sub in subs:\n",
    "    sub.pprint()"
   ]
  },
  {
   "cell_type": "markdown",
   "id": "00474bcd",
   "metadata": {},
   "source": [
    "## Group Generators"
   ]
  },
  {
   "cell_type": "markdown",
   "id": "414daab2",
   "metadata": {},
   "source": [
    "For now, there is only one group generator, for cyclic groups of any finite order:"
   ]
  },
  {
   "cell_type": "code",
   "execution_count": 22,
   "id": "82c5877f",
   "metadata": {},
   "outputs": [
    {
     "name": "stdout",
     "output_type": "stream",
     "text": [
      "Group('Z7',\n",
      "'Cyclic group of order 7',\n",
      "['e', 'a', 'a^2', 'a^3', 'a^4', 'a^5', 'a^6'],\n",
      "[[0, 1, 2, 3, 4, 5, 6],\n",
      " [1, 2, 3, 4, 5, 6, 0],\n",
      " [2, 3, 4, 5, 6, 0, 1],\n",
      " [3, 4, 5, 6, 0, 1, 2],\n",
      " [4, 5, 6, 0, 1, 2, 3],\n",
      " [5, 6, 0, 1, 2, 3, 4],\n",
      " [6, 0, 1, 2, 3, 4, 5]]\n",
      ")\n"
     ]
    }
   ],
   "source": [
    "z7 = alg.generate_cyclic_group(7)\n",
    "z7.pprint()"
   ]
  },
  {
   "cell_type": "markdown",
   "id": "7ad49858",
   "metadata": {},
   "source": [
    "## Print Information about a Group"
   ]
  },
  {
   "cell_type": "code",
   "execution_count": 23,
   "id": "474a51d7",
   "metadata": {},
   "outputs": [
    {
     "name": "stdout",
     "output_type": "stream",
     "text": [
      "\n",
      "Group : Z7 : Cyclic group of order 7\n",
      "  Element Names: ['e', 'a', 'a^2', 'a^3', 'a^4', 'a^5', 'a^6']\n",
      "  Is Abelian? True\n",
      "  Inverses:  (** - indicates that it is its own inverse)\n",
      "    inv(e) = e   **\n",
      "    inv(a) = a^6 \n",
      "    inv(a^2) = a^5 \n",
      "    inv(a^3) = a^4 \n",
      "    inv(a^4) = a^3 \n",
      "    inv(a^5) = a^2 \n",
      "    inv(a^6) = a \n",
      "Element Orders:\n",
      "{1: ['e'], 7: ['a', 'a^2', 'a^3', 'a^4', 'a^5', 'a^6']}\n",
      "  Is associative? True\n",
      "  Cayley Table:\n",
      "[['e', 'a', 'a^2', 'a^3', 'a^4', 'a^5', 'a^6'],\n",
      " ['a', 'a^2', 'a^3', 'a^4', 'a^5', 'a^6', 'e'],\n",
      " ['a^2', 'a^3', 'a^4', 'a^5', 'a^6', 'e', 'a'],\n",
      " ['a^3', 'a^4', 'a^5', 'a^6', 'e', 'a', 'a^2'],\n",
      " ['a^4', 'a^5', 'a^6', 'e', 'a', 'a^2', 'a^3'],\n",
      " ['a^5', 'a^6', 'e', 'a', 'a^2', 'a^3', 'a^4'],\n",
      " ['a^6', 'e', 'a', 'a^2', 'a^3', 'a^4', 'a^5']]\n"
     ]
    }
   ],
   "source": [
    "z7.print_info()"
   ]
  },
  {
   "cell_type": "markdown",
   "id": "c7128130",
   "metadata": {},
   "source": [
    "## Resources"
   ]
  },
  {
   "cell_type": "markdown",
   "id": "8fc81d9f",
   "metadata": {},
   "source": [
    "* <b>Book</b>: [\"Visual Group Theory\" by Nathan Carter](https://bookstore.ams.org/clrm-32)\n",
    "* [Group Explorer](https://nathancarter.github.io/group-explorer/index.html) -- Visualization software for the abstract algebra classroom\n",
    "* [Groupprops, The Group Properties Wiki (beta)](https://groupprops.subwiki.org/wiki/Main_Page)\n",
    "* [GroupNames](https://people.maths.bris.ac.uk/~matyd/GroupNames/index.html) -- \"A database, under construction, of names, extensions, properties and character tables of finite groups of small order.\"\n",
    "* [GAP](https://www.gap-system.org/#:~:text=What%20is%20GAP%3F,data%20libraries%20of%20algebraic%20objects.) -- \"Groups, Algorithms, Programming - a System for Computational Discrete Algebra\"\n",
    "* [Groups of small order](http://www.math.ucsd.edu/~atparris/small_groups.html): Compiled by John Pedersen, Dept of Mathematics, University of South Florida\n",
    "* [List of small groups](https://en.wikipedia.org/wiki/List_of_small_groups): Finite groups of small order up to group isomorphism\n",
    "* [Classification of Groups of Order n ≤ 8 (PDF)](http://www2.lawrence.edu/fast/corrys/Math300/8Groups.pdf)\n",
    "* [Subgroups of Order 4 (PDF)](http://newton.uor.edu/facultyfolder/beery/abstract_algebra/08_SbgrpsOrder4.pdf)\n",
    "* Klein four-group, V4\n",
    "  * [Wikipedia](https://en.wikipedia.org/wiki/Klein_four-group)\n",
    "  * [Group Explorer](https://github.com/nathancarter/group-explorer/blob/master/groups/V_4.group)\n",
    "* Cyclic group\n",
    "  * [Wikipedia](https://en.wikipedia.org/wiki/Cyclic_group)\n",
    "  * [Z4, cyclic group of order 4](https://github.com/nathancarter/group-explorer/blob/master/groups/Z_4.group)\n",
    "* Symmetric group\n",
    "  * [Symmetric group on 3 letters](https://github.com/nathancarter/group-explorer/blob/master/groups/S_3.group). Another name for this group is <i>\"Dihedral group on 3 vertices\"</i>"
   ]
  },
  {
   "cell_type": "code",
   "execution_count": null,
   "id": "418a69a8",
   "metadata": {},
   "outputs": [],
   "source": []
  }
 ],
 "metadata": {
  "kernelspec": {
   "display_name": "Python 3",
   "language": "python",
   "name": "python3"
  },
  "language_info": {
   "codemirror_mode": {
    "name": "ipython",
    "version": 3
   },
   "file_extension": ".py",
   "mimetype": "text/x-python",
   "name": "python",
   "nbconvert_exporter": "python",
   "pygments_lexer": "ipython3",
   "version": "3.7.7"
  }
 },
 "nbformat": 4,
 "nbformat_minor": 5
}
