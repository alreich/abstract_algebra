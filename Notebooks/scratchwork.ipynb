{
 "cells": [
  {
   "cell_type": "markdown",
   "id": "176aa0f7",
   "metadata": {},
   "source": [
    "# Scratch Work"
   ]
  },
  {
   "cell_type": "markdown",
   "id": "7ad84f72",
   "metadata": {},
   "source": [
    "Move along - nothing to see here."
   ]
  },
  {
   "cell_type": "code",
   "execution_count": 1,
   "id": "244a3d7b",
   "metadata": {},
   "outputs": [],
   "source": [
    "import algebras as alg\n",
    "import json\n",
    "import os"
   ]
  },
  {
   "cell_type": "code",
   "execution_count": 2,
   "id": "04b0af35",
   "metadata": {},
   "outputs": [],
   "source": [
    "import itertools as it"
   ]
  },
  {
   "cell_type": "code",
   "execution_count": 3,
   "id": "4ea41b8d",
   "metadata": {},
   "outputs": [],
   "source": [
    "# Path to this repo\n",
    "aa_path = os.path.join(os.getenv('PYPROJ'), 'abstract_algebra')\n",
    "\n",
    "# Path to a directory containing Algebra definitions in JSON\n",
    "alg_dir = os.path.join(aa_path, \"Algebras\")"
   ]
  },
  {
   "cell_type": "code",
   "execution_count": 4,
   "id": "f1645397",
   "metadata": {},
   "outputs": [
    {
     "name": "stdout",
     "output_type": "stream",
     "text": [
      "{\"type\": \"Group\",\r\n",
      " \"name\": \"S3\",\r\n",
      " \"description\": \"Symmetric group on 3 letters\",\r\n",
      " \"element_names\": [\"e\", \"r\", \"r^2\", \"f\", \"fr\", \"rf\"],\r\n",
      " \"mult_table\": [[0, 1, 2, 3, 4, 5],\r\n",
      "                [1, 2, 0, 5, 3, 4],\r\n",
      "                [2, 0, 1, 4, 5, 3],\r\n",
      "                [3, 4, 5, 0, 1, 2],\r\n",
      "                [4, 5, 3, 2, 0, 1],\r\n",
      "                [5, 3, 4, 1, 2, 0]]\r\n",
      "}\r\n"
     ]
    }
   ],
   "source": [
    "s3_path = os.path.join(alg_dir, \"s3_symmetric_group_on_3_letters.json\")\n",
    "!cat {s3_path}"
   ]
  },
  {
   "cell_type": "code",
   "execution_count": 5,
   "id": "d124f06d",
   "metadata": {},
   "outputs": [
    {
     "name": "stdout",
     "output_type": "stream",
     "text": [
      "\n",
      "Group : S3 : Symmetric group on 3 letters\n",
      "  Element Names: ['e', 'r', 'r^2', 'f', 'fr', 'rf']\n",
      "  Is Abelian? False\n",
      "  Inverses:  (** - indicates that it is its own inverse)\n",
      "    inv(e) = e   **\n",
      "    inv(r) = r^2 \n",
      "    inv(r^2) = r \n",
      "    inv(f) = f   **\n",
      "    inv(fr) = fr   **\n",
      "    inv(rf) = rf   **\n",
      "  Is associative? True\n",
      "  Cayley Table:\n",
      "      e    r  r^2    f   fr   rf\n",
      "      r  r^2    e   rf    f   fr\n",
      "    r^2    e    r   fr   rf    f\n",
      "      f   fr   rf    e    r  r^2\n",
      "     fr   rf    f  r^2    e    r\n",
      "     rf    f   fr    r  r^2    e\n"
     ]
    }
   ],
   "source": [
    "s3 = alg.Group(s3_path)\n",
    "s3.print_info()"
   ]
  },
  {
   "cell_type": "code",
   "execution_count": null,
   "id": "86e7a9b1",
   "metadata": {},
   "outputs": [],
   "source": []
  },
  {
   "cell_type": "code",
   "execution_count": 42,
   "id": "79353114",
   "metadata": {},
   "outputs": [],
   "source": [
    "elem0 = d3.element_names[0]\n",
    "elem1 = d3.element_names[5]\n",
    "starter = [elem0, elem1]"
   ]
  },
  {
   "cell_type": "code",
   "execution_count": 43,
   "id": "0ece59c9",
   "metadata": {},
   "outputs": [
    {
     "data": {
      "text/plain": [
       "['e', 'ab', 'ba']"
      ]
     },
     "execution_count": 43,
     "metadata": {},
     "output_type": "execute_result"
    }
   ],
   "source": [
    "d3.compute_closure(starter)"
   ]
  },
  {
   "cell_type": "markdown",
   "id": "bfbc13a7",
   "metadata": {},
   "source": [
    "## Dihedral Group of Order 6"
   ]
  },
  {
   "cell_type": "markdown",
   "id": "5093a8f3",
   "metadata": {},
   "source": [
    "[See Wikipedia](https://en.wikipedia.org/wiki/Dihedral_group_of_order_6)"
   ]
  },
  {
   "cell_type": "code",
   "execution_count": 14,
   "id": "e9249474",
   "metadata": {},
   "outputs": [],
   "source": [
    "table = [[0,1,2,3,4,5],\n",
    "         [1,0,4,5,2,3],\n",
    "         [2,5,0,4,3,1],\n",
    "         [3,4,5,0,1,2],\n",
    "         [4,3,1,2,5,0],\n",
    "         [5,2,3,1,0,4]]"
   ]
  },
  {
   "cell_type": "code",
   "execution_count": 21,
   "id": "10cc7e26",
   "metadata": {},
   "outputs": [],
   "source": [
    "D3 = alg.Group(\"D3\",\n",
    "               \"https://en.wikipedia.org/wiki/Dihedral_group_of_order_6\",\n",
    "               ['e','a','b','aba','ab','ba'],\n",
    "               #['e','a','b','c','d','f'],\n",
    "               table)"
   ]
  },
  {
   "cell_type": "code",
   "execution_count": 22,
   "id": "c3b9a8c0",
   "metadata": {},
   "outputs": [
    {
     "name": "stdout",
     "output_type": "stream",
     "text": [
      "    e    a    b  aba   ab   ba\n",
      "    a    e   ab   ba    b  aba\n",
      "    b   ba    e   ab  aba    a\n",
      "  aba   ab   ba    e    a    b\n",
      "   ab  aba    a    b   ba    e\n",
      "   ba    b  aba    a    e   ab\n"
     ]
    }
   ],
   "source": [
    "D3.pretty_print_mult_table()"
   ]
  },
  {
   "cell_type": "code",
   "execution_count": 25,
   "id": "81933d10",
   "metadata": {},
   "outputs": [
    {
     "data": {
      "text/plain": [
       "'{\"type\": \"Group\", \"name\": \"D3\", \"description\": \"https://en.wikipedia.org/wiki/Dihedral_group_of_order_6\", \"element_names\": [\"e\", \"a\", \"b\", \"aba\", \"ab\", \"ba\"], \"mult_table\": [[0, 1, 2, 3, 4, 5], [1, 0, 4, 5, 2, 3], [2, 5, 0, 4, 3, 1], [3, 4, 5, 0, 1, 2], [4, 3, 1, 2, 5, 0], [5, 2, 3, 1, 0, 4]]}'"
      ]
     },
     "execution_count": 25,
     "metadata": {},
     "output_type": "execute_result"
    }
   ],
   "source": [
    "D3.dumps()"
   ]
  },
  {
   "cell_type": "code",
   "execution_count": 32,
   "id": "bb5127bc",
   "metadata": {},
   "outputs": [],
   "source": [
    "d3_path = os.path.join(alg_dir, \"d3_dihedral_group_of_order_6.json\")"
   ]
  },
  {
   "cell_type": "code",
   "execution_count": 33,
   "id": "183f9e09",
   "metadata": {},
   "outputs": [
    {
     "name": "stdout",
     "output_type": "stream",
     "text": [
      "{\"type\": \"Group\",\r\n",
      " \"name\": \"D3\",\r\n",
      " \"description\": \"https://en.wikipedia.org/wiki/Dihedral_group_of_order_6\",\r\n",
      " \"element_names\": [\"e\", \"a\", \"b\", \"aba\", \"ab\", \"ba\"],\r\n",
      " \"mult_table\": [[0, 1, 2, 3, 4, 5],\r\n",
      "                [1, 0, 4, 5, 2, 3],\r\n",
      "                [2, 5, 0, 4, 3, 1],\r\n",
      "                [3, 4, 5, 0, 1, 2],\r\n",
      "                [4, 3, 1, 2, 5, 0],\r\n",
      "                [5, 2, 3, 1, 0, 4]]\r\n",
      "}"
     ]
    }
   ],
   "source": [
    "!cat {d3_path}"
   ]
  },
  {
   "cell_type": "code",
   "execution_count": 34,
   "id": "c3973dc9",
   "metadata": {},
   "outputs": [],
   "source": [
    "d3 = alg.Group(d3_path)"
   ]
  },
  {
   "cell_type": "code",
   "execution_count": 35,
   "id": "3216b6fa",
   "metadata": {},
   "outputs": [
    {
     "name": "stdout",
     "output_type": "stream",
     "text": [
      "\n",
      "Group : D3 : https://en.wikipedia.org/wiki/Dihedral_group_of_order_6\n",
      "  Element Names: ['e', 'a', 'b', 'aba', 'ab', 'ba']\n",
      "  Is Abelian? False\n",
      "  Inverses:  (** - indicates that it is its own inverse)\n",
      "    inv(e) = e   **\n",
      "    inv(a) = a   **\n",
      "    inv(b) = b   **\n",
      "    inv(aba) = aba   **\n",
      "    inv(ab) = ba \n",
      "    inv(ba) = ab \n",
      "  Is associative? True\n",
      "  Cayley Table:\n",
      "      e    a    b  aba   ab   ba\n",
      "      a    e   ab   ba    b  aba\n",
      "      b   ba    e   ab  aba    a\n",
      "    aba   ab   ba    e    a    b\n",
      "     ab  aba    a    b   ba    e\n",
      "     ba    b  aba    a    e   ab\n"
     ]
    }
   ],
   "source": [
    "d3.print_info()"
   ]
  },
  {
   "cell_type": "code",
   "execution_count": null,
   "id": "141eccb8",
   "metadata": {},
   "outputs": [],
   "source": []
  }
 ],
 "metadata": {
  "kernelspec": {
   "display_name": "Python 3",
   "language": "python",
   "name": "python3"
  },
  "language_info": {
   "codemirror_mode": {
    "name": "ipython",
    "version": 3
   },
   "file_extension": ".py",
   "mimetype": "text/x-python",
   "name": "python",
   "nbconvert_exporter": "python",
   "pygments_lexer": "ipython3",
   "version": "3.7.7"
  }
 },
 "nbformat": 4,
 "nbformat_minor": 5
}
