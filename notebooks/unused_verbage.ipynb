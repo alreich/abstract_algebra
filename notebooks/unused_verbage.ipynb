{
 "cells": [
  {
   "cell_type": "markdown",
   "id": "1b1ba22c",
   "metadata": {},
   "source": [
    "# Unused Verbage"
   ]
  },
  {
   "cell_type": "markdown",
   "id": "48f80a60",
   "metadata": {},
   "source": [
    "Sometimes I spend a lot of time writing something, and then, later, decide not to use it, and then even later, I change my mind and decide that I **do** want to use it.\n",
    "\n",
    "This notebook contains text that I labored to write, but later decided to \"delete\", but I can't bring myself to deleted it for good.  Not yet, at least."
   ]
  },
  {
   "cell_type": "markdown",
   "id": "78175e4e",
   "metadata": {},
   "source": [
    "## Symbol used for a binary operation"
   ]
  },
  {
   "cell_type": "markdown",
   "id": "fd21cede",
   "metadata": {},
   "source": [
    "The symbol, $\\circ$, is used here to emphasize that it is not the same as numeric addition, $+$, or multiplication, $\\times$.  It can be more abstract, and sometimes not; it depends on which group is being discussed. For this reason, other symbols might be used to describe a group's binary operation, often $+$, $\\times$, and $\\cdot$.  Very often, no symbol at all is used, e.g., $ab$ instead of $a \\circ b$. That will be the case here\n"
   ]
  },
  {
   "cell_type": "markdown",
   "id": "49f2e0eb",
   "metadata": {},
   "source": [
    "## Motivation for Group Definition"
   ]
  },
  {
   "cell_type": "markdown",
   "id": "9655546b",
   "metadata": {},
   "source": [
    "A motivation for the specific group axioms, above, is provided by considering the assumptions required to solve the simplest equation.\n",
    "\n",
    "Let $ax = b$, where $a,b,x$ are elements of a group, $G$,\n",
    "<p>and solve for $x$:</p>\n",
    "\n",
    "* from assumption #1, all of the operations here will be well-defined\n",
    "* <p>from assumption #4, $a$ has inverse $a^{-1} \\Rightarrow a^{-1}(ax) = a^{-1}b$</p>\n",
    "* <p>from assumption #2, G is associatve $\\Rightarrow (a^{-1}a)x = a^{-1}b$</p>\n",
    "* <p>from assumption #4, $a^{-1}a=e \\Rightarrow ex = a^{-1}b$</p>\n",
    "* <p>from assumption #3, $ex = x \\Rightarrow x = a^{-1}b$</p>\n",
    "\n",
    "The assumptions are exactly those that make up the group definition.\n",
    "\n",
    "Note that cummutability is not necessary."
   ]
  },
  {
   "cell_type": "code",
   "execution_count": null,
   "id": "e0e9e5ef",
   "metadata": {},
   "outputs": [],
   "source": []
  }
 ],
 "metadata": {
  "kernelspec": {
   "display_name": "Python 3",
   "language": "python",
   "name": "python3"
  },
  "language_info": {
   "codemirror_mode": {
    "name": "ipython",
    "version": 3
   },
   "file_extension": ".py",
   "mimetype": "text/x-python",
   "name": "python",
   "nbconvert_exporter": "python",
   "pygments_lexer": "ipython3",
   "version": "3.7.7"
  }
 },
 "nbformat": 4,
 "nbformat_minor": 5
}
