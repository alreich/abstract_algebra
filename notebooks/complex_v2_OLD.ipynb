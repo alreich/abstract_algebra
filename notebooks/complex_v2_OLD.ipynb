{
 "cells": [
  {
   "cell_type": "markdown",
   "id": "6ef26608",
   "metadata": {},
   "source": [
    "# Abstract Complex \"Numbers\""
   ]
  },
  {
   "cell_type": "markdown",
   "id": "6f81d2be",
   "metadata": {},
   "source": [
    "<i>Version 2</i>"
   ]
  },
  {
   "cell_type": "markdown",
   "id": "e96d087c",
   "metadata": {},
   "source": [
    "EXPERIMENTAL: This notebook describes how an arbitrary field can be used to define <i>Abstract Complex \"Numbers\"</i>, and also demonstrates it using finite fields."
   ]
  },
  {
   "cell_type": "markdown",
   "id": "fad4853b",
   "metadata": {},
   "source": [
    "## Discussion"
   ]
  },
  {
   "cell_type": "markdown",
   "id": "c0b3aa45",
   "metadata": {},
   "source": [
    "If $u, v \\in \\mathbb{R}$, are real numbers, then we often see complex numbers written as, $u + vi$.\n",
    "\n",
    "However, complex numbers can simply be written as tuples, $(u, v) \\in \\mathbb{C}$, without resorting to the use of the symbol, $i$.\n",
    "\n",
    "Since $\\mathbb{R}$ is a field, this suggests that we might replace it with an arbitrary field, $\\mathbb{F}$ and use elements from it to create an abstraction of complex numbers.\n",
    "\n",
    "That is, let $a, b, c, d \\in \\mathbb{F}$, and define $(a, b), (c, d) \\in \\mathbb{C_{\\mathbb{F}}}$ to be <i>\"Abstract Complex Numbers\"</i>.\n",
    "\n",
    "We can then adapt the usual definitions of addition, multiplication, etc. for complex numbers for elements of $\\mathbb{C_{\\mathbb{F}}}$, as shown below:\n",
    "\n",
    "<b>Addition</b>: $(a, b) + (c, d) \\equiv (a + c, b + d)$\n",
    "\n",
    "<b>Multiplication</b>: $(a, b) \\times (c, d) \\equiv (ac - bd, ad + bc)$"
   ]
  },
  {
   "cell_type": "markdown",
   "id": "6dae2557",
   "metadata": {},
   "source": [
    "### Spoiler Alert"
   ]
  },
  {
   "cell_type": "markdown",
   "id": "6e25a13c",
   "metadata": {},
   "source": [
    "<b>Even though $\\mathbb{R}$ can be replaced by finite field $\\mathbb{F_n}$, where n is its order, and the arithmetic operations, described above, can be performed.  For the <u>finite</u> algebras tested here, not all of the resulting algebras of abstract complex \"numbers\" are Fields. Some will be Rings. Only the algebras where the order, $n$ of the generating field, $\\mathbb{F_n}$, is a [Gaussian prime](https://mathworld.wolfram.com/GaussianPrime.html) (n = 3, 7, 11, 19, 23, 31, ...) become fields themselves.</b>\n",
    "\n",
    "Specifically, at the end of this notebook, we see that for finite Fields over the integers mod n (n prime between 1 & 31), the corresponding Abstract Complex Algebras will also be Fields only for n = 3, 7, 11, 19, 23, 31, ...; otherwise they are Rings.\n",
    "\n",
    "NOTE: The sequence 3, 7, 11, 19, 23, 31,... are primes of the form 4n + 3, also known as <b>Gaussian primes</b> (sequence [A002145](https://oeis.org/A002145) in the [OEIS](https://en.wikipedia.org/wiki/On-Line_Encyclopedia_of_Integer_Sequences)).  [Also see Wikipedia](https://en.wikipedia.org/wiki/Dirichlet%27s_theorem_on_arithmetic_progressions)"
   ]
  },
  {
   "cell_type": "markdown",
   "id": "0ecfd658",
   "metadata": {},
   "source": [
    "## References"
   ]
  },
  {
   "cell_type": "markdown",
   "id": "d7b1bda9",
   "metadata": {},
   "source": [
    "I'm still looking for relevant references, but for now, this section serves as a place for references that might. be related to this topic:\n",
    "\n",
    "* <i>\"Introduction to finite fields\"</i>, from David Forney's course 6.451 (principles of digital communication) at MIT. [(PDF online)](https://web.stanford.edu/~marykw/classes/CS250_W19/readings/Forney_Introduction_to_Finite_Fields.pdf)\n",
    "* <i>\"Galois: A performant NumPy extension for Galois fields\"</i>, Hostetter, M. (2020). ([Computer software](https://galois.readthedocs.io/en/v0.0.21/index.html))\n",
    "\n",
    "* <i>\"Algebra over a field\"</i>, [Wikipedia](https://en.wikipedia.org/wiki/Algebra_over_a_field)\n",
    "* <i>\"Definitions of a Linear Associative Algebra by Independent Postulates\"</i> by Leonard Eugene Dickson, Transactions of the American Mathematical Society, 1903. [(PDF online)](https://www.ams.org/journals/tran/1903-004-01/S0002-9947-1903-1500620-0/S0002-9947-1903-1500620-0.pdf)\n"
   ]
  },
  {
   "cell_type": "code",
   "execution_count": 6,
   "id": "8204211b",
   "metadata": {},
   "outputs": [],
   "source": [
    "import finite_algebras as alg\n",
    "from abstract_complex_number import Complex"
   ]
  },
  {
   "cell_type": "markdown",
   "id": "e0684e3a",
   "metadata": {},
   "source": [
    "## Example Complex's"
   ]
  },
  {
   "cell_type": "code",
   "execution_count": 57,
   "id": "fa29bd3f",
   "metadata": {},
   "outputs": [
    {
     "data": {
      "text/plain": [
       "['0', '1', '2', '3', '4', '5', '6']"
      ]
     },
     "execution_count": 57,
     "metadata": {},
     "output_type": "execute_result"
    }
   ],
   "source": [
    "# Recall, here, all elements are strings that represent abstract symbols, not numbers.\n",
    "# In the call below, elem_name, is set to nothing, '', instead of the default prefix, 'a'.\n",
    "\n",
    "f7 = alg.generate_algebra_mod_n(7, elem_name='')\n",
    "\n",
    "f7.elements"
   ]
  },
  {
   "cell_type": "code",
   "execution_count": 58,
   "id": "a31bca6f",
   "metadata": {},
   "outputs": [
    {
     "data": {
      "text/plain": [
       "('3', '5')"
      ]
     },
     "execution_count": 58,
     "metadata": {},
     "output_type": "execute_result"
    }
   ],
   "source": [
    "a = '3'\n",
    "b = '5'\n",
    "ab = alg.AbstractComplexNumber(a, b, f7)\n",
    "ab"
   ]
  },
  {
   "cell_type": "code",
   "execution_count": 59,
   "id": "fdedd430",
   "metadata": {},
   "outputs": [
    {
     "data": {
      "text/plain": [
       "('2', '4')"
      ]
     },
     "execution_count": 59,
     "metadata": {},
     "output_type": "execute_result"
    }
   ],
   "source": [
    "c = '2'\n",
    "d = '4'\n",
    "cd = alg.AbstractComplexNumber(c, d, f7)\n",
    "cd"
   ]
  },
  {
   "cell_type": "markdown",
   "id": "d5445dbd",
   "metadata": {},
   "source": [
    "## Add & Multiply Complex Objects"
   ]
  },
  {
   "cell_type": "markdown",
   "id": "e9080644",
   "metadata": {},
   "source": [
    "<b>Addition</b>: $(a, b) + (c, d) = (a + c, b + d)$"
   ]
  },
  {
   "cell_type": "code",
   "execution_count": 63,
   "id": "a9c6c225",
   "metadata": {},
   "outputs": [
    {
     "data": {
      "text/plain": [
       "('5', '2')"
      ]
     },
     "execution_count": 63,
     "metadata": {},
     "output_type": "execute_result"
    }
   ],
   "source": [
    "ab + cd"
   ]
  },
  {
   "cell_type": "markdown",
   "id": "10313922",
   "metadata": {},
   "source": [
    "Check using original field:"
   ]
  },
  {
   "cell_type": "code",
   "execution_count": 64,
   "id": "256bfbdf",
   "metadata": {},
   "outputs": [
    {
     "name": "stdout",
     "output_type": "stream",
     "text": [
      "(5, 2)\n"
     ]
    }
   ],
   "source": [
    "with alg.Algebra(f7) as x:\n",
    "    print(f\"({x[a] + x[c]}, {x[b] + x[d]})\")"
   ]
  },
  {
   "cell_type": "markdown",
   "id": "fb1a1e64",
   "metadata": {},
   "source": [
    "<b>Multiplication</b>: $(a, b) \\times (c, d) = (ac - bd, ad + bc)$"
   ]
  },
  {
   "cell_type": "code",
   "execution_count": 65,
   "id": "90ecdd5a",
   "metadata": {},
   "outputs": [
    {
     "data": {
      "text/plain": [
       "('0', '1')"
      ]
     },
     "execution_count": 65,
     "metadata": {},
     "output_type": "execute_result"
    }
   ],
   "source": [
    "ab * cd"
   ]
  },
  {
   "cell_type": "markdown",
   "id": "4d534bea",
   "metadata": {},
   "source": [
    "Check:"
   ]
  },
  {
   "cell_type": "code",
   "execution_count": 66,
   "id": "2830028c",
   "metadata": {},
   "outputs": [
    {
     "name": "stdout",
     "output_type": "stream",
     "text": [
      "(0, 1)\n"
     ]
    }
   ],
   "source": [
    "with alg.Algebra(f7) as x:\n",
    "    print(f\"({x[a]*x[c] - x[b]*x[d]}, {x[a]*x[d] + x[b]*x[c]})\")"
   ]
  },
  {
   "cell_type": "markdown",
   "id": "33bc2bfc",
   "metadata": {},
   "source": [
    "## Create Complex Algebra from Ring"
   ]
  },
  {
   "cell_type": "code",
   "execution_count": 67,
   "id": "457f6756",
   "metadata": {},
   "outputs": [],
   "source": [
    "def make_complex_algebra(ring, name_gen=None, alg_name=None, alg_desc=None):\n",
    "    if name_gen is None:\n",
    "        name_gen = lambda x: x.real + \"_\" + x.imag\n",
    "    if alg_name is None:\n",
    "        alg_name = ring.name + \"_Complex\"\n",
    "    if alg_desc is None:\n",
    "        alg_desc = \"Complex Algebra based on \" + ring.description\n",
    "    elems = [Complex(a, b, ring) for a in ring.elements for b in ring.elements]\n",
    "    add_table = [[name_gen(u + v) for v in elems] for u in elems]\n",
    "    mul_table = [[name_gen(u * v) for v in elems] for u in elems]\n",
    "    enames = list(map(name_gen, elems))\n",
    "    name_element_map = {name_gen(elem): elem for elem in elems}\n",
    "    new_alg = alg.make_finite_algebra(alg_name, alg_desc, enames, add_table, mul_table)\n",
    "    return new_alg, name_element_map"
   ]
  },
  {
   "cell_type": "code",
   "execution_count": 71,
   "id": "8fa76162",
   "metadata": {},
   "outputs": [
    {
     "name": "stdout",
     "output_type": "stream",
     "text": [
      "['0_0', '0_1', '0_2', '0_3', '0_4', '0_5', '0_6', '1_0', '1_1', '1_2', '1_3', '1_4', '1_5', '1_6', '2_0', '2_1', '2_2', '2_3', '2_4', '2_5', '2_6', '3_0', '3_1', '3_2', '3_3', '3_4', '3_5', '3_6', '4_0', '4_1', '4_2', '4_3', '4_4', '4_5', '4_6', '5_0', '5_1', '5_2', '5_3', '5_4', '5_5', '5_6', '6_0', '6_1', '6_2', '6_3', '6_4', '6_5', '6_6']\n"
     ]
    }
   ],
   "source": [
    "cf7, cf7_map = make_complex_algebra(f7)\n",
    "\n",
    "print(cf7.elements)"
   ]
  },
  {
   "cell_type": "markdown",
   "id": "2a9f5969",
   "metadata": {},
   "source": [
    "## Arithmetic using Complex Algebra"
   ]
  },
  {
   "cell_type": "markdown",
   "id": "2faea056",
   "metadata": {},
   "source": [
    "<b>Addition & Multiplication</b> again"
   ]
  },
  {
   "cell_type": "code",
   "execution_count": 85,
   "id": "e32f3ec2",
   "metadata": {},
   "outputs": [
    {
     "name": "stdout",
     "output_type": "stream",
     "text": [
      "5_2\n",
      "0_1\n"
     ]
    }
   ],
   "source": [
    "with alg.Algebra(cf7) as z:\n",
    "    print(z['3_5'] + z['2_4'])\n",
    "    print(z['3_5'] * z['2_4'])"
   ]
  },
  {
   "cell_type": "markdown",
   "id": "37586038",
   "metadata": {},
   "source": [
    "<b>Subtraction</b>: $(a, b) - (c, d) = (a - c, b - d)$"
   ]
  },
  {
   "cell_type": "code",
   "execution_count": 86,
   "id": "ffdc2c78",
   "metadata": {},
   "outputs": [
    {
     "name": "stdout",
     "output_type": "stream",
     "text": [
      "1_1\n"
     ]
    }
   ],
   "source": [
    "with alg.Algebra(cf7) as z:\n",
    "    print(z['3_5'] - z['2_4'])"
   ]
  },
  {
   "cell_type": "markdown",
   "id": "2baef818",
   "metadata": {},
   "source": [
    "Check:"
   ]
  },
  {
   "cell_type": "code",
   "execution_count": 87,
   "id": "407caf70",
   "metadata": {},
   "outputs": [
    {
     "data": {
      "text/plain": [
       "('1', '1')"
      ]
     },
     "execution_count": 87,
     "metadata": {},
     "output_type": "execute_result"
    }
   ],
   "source": [
    "ab - cd"
   ]
  },
  {
   "cell_type": "code",
   "execution_count": 88,
   "id": "e24ec060",
   "metadata": {},
   "outputs": [
    {
     "name": "stdout",
     "output_type": "stream",
     "text": [
      "(1, 1)\n"
     ]
    }
   ],
   "source": [
    "with alg.Algebra(f7) as x:\n",
    "    print(f\"({x[a] - x[c]}, {x[b] - x[d]})\")"
   ]
  },
  {
   "cell_type": "markdown",
   "id": "54d90683",
   "metadata": {},
   "source": [
    "**Example: Negation**"
   ]
  },
  {
   "cell_type": "code",
   "execution_count": 89,
   "id": "7cccf0a6",
   "metadata": {},
   "outputs": [
    {
     "name": "stdout",
     "output_type": "stream",
     "text": [
      "4_2\n"
     ]
    }
   ],
   "source": [
    "with alg.Algebra(cf7) as z:\n",
    "    print(-z['3_5'])"
   ]
  },
  {
   "cell_type": "markdown",
   "id": "2feb98c0",
   "metadata": {},
   "source": [
    "Check:"
   ]
  },
  {
   "cell_type": "code",
   "execution_count": 90,
   "id": "27500074",
   "metadata": {},
   "outputs": [
    {
     "name": "stdout",
     "output_type": "stream",
     "text": [
      "('4', '2')\n"
     ]
    }
   ],
   "source": [
    "print(-ab)"
   ]
  },
  {
   "cell_type": "code",
   "execution_count": 91,
   "id": "38014ee4",
   "metadata": {},
   "outputs": [
    {
     "name": "stdout",
     "output_type": "stream",
     "text": [
      "(4, 2)\n"
     ]
    }
   ],
   "source": [
    "with alg.Algebra(f7) as x:\n",
    "    print(f\"({-x[a]}, {-x[b]})\")"
   ]
  },
  {
   "cell_type": "markdown",
   "id": "050bfddb",
   "metadata": {},
   "source": [
    "<b>Conjugation</b>: $\\overline{(a, b)} = (a, -b)$"
   ]
  },
  {
   "cell_type": "code",
   "execution_count": 105,
   "id": "a42ab030",
   "metadata": {},
   "outputs": [],
   "source": [
    "def conj(x):\n",
    "    \"\"\"Return the conjugate of the x.\"\"\"\n",
    "    A = x.algebra\n",
    "    return Complex(x.real, A.inv(x.imag), A)"
   ]
  },
  {
   "cell_type": "code",
   "execution_count": 118,
   "id": "26e49d0b",
   "metadata": {},
   "outputs": [
    {
     "data": {
      "text/plain": [
       "finite_algebras.Element"
      ]
     },
     "execution_count": 118,
     "metadata": {},
     "output_type": "execute_result"
    }
   ],
   "source": [
    "type(z['3_5'])"
   ]
  },
  {
   "cell_type": "code",
   "execution_count": 112,
   "id": "e34438c1",
   "metadata": {},
   "outputs": [
    {
     "ename": "AttributeError",
     "evalue": "'Element' object has no attribute 'real'",
     "output_type": "error",
     "traceback": [
      "\u001b[0;31m---------------------------------------------------------------------------\u001b[0m",
      "\u001b[0;31mAttributeError\u001b[0m                            Traceback (most recent call last)",
      "Cell \u001b[0;32mIn[112], line 2\u001b[0m\n\u001b[1;32m      1\u001b[0m \u001b[38;5;28;01mwith\u001b[39;00m alg\u001b[38;5;241m.\u001b[39mAlgebra(cf7) \u001b[38;5;28;01mas\u001b[39;00m z:\n\u001b[0;32m----> 2\u001b[0m     conj(z[\u001b[38;5;124m'\u001b[39m\u001b[38;5;124m3_5\u001b[39m\u001b[38;5;124m'\u001b[39m])\n",
      "Cell \u001b[0;32mIn[105], line 4\u001b[0m, in \u001b[0;36mconj\u001b[0;34m(x)\u001b[0m\n\u001b[1;32m      2\u001b[0m \u001b[38;5;250m\u001b[39m\u001b[38;5;124;03m\"\"\"Return the conjugate of the x.\"\"\"\u001b[39;00m\n\u001b[1;32m      3\u001b[0m A \u001b[38;5;241m=\u001b[39m x\u001b[38;5;241m.\u001b[39malgebra\n\u001b[0;32m----> 4\u001b[0m \u001b[38;5;28;01mreturn\u001b[39;00m Complex(x\u001b[38;5;241m.\u001b[39mreal, A\u001b[38;5;241m.\u001b[39minv(x\u001b[38;5;241m.\u001b[39mimag), A)\n",
      "\u001b[0;31mAttributeError\u001b[0m: 'Element' object has no attribute 'real'"
     ]
    }
   ],
   "source": [
    "with alg.Algebra(cf7) as z:\n",
    "    conj(z['3_5'])"
   ]
  },
  {
   "cell_type": "markdown",
   "id": "4876cbce",
   "metadata": {},
   "source": [
    "Check:"
   ]
  },
  {
   "cell_type": "code",
   "execution_count": 107,
   "id": "fd60ad7c",
   "metadata": {},
   "outputs": [
    {
     "data": {
      "text/plain": [
       "('3', '2')"
      ]
     },
     "execution_count": 107,
     "metadata": {},
     "output_type": "execute_result"
    }
   ],
   "source": [
    "ab.conj()"
   ]
  },
  {
   "cell_type": "code",
   "execution_count": 108,
   "id": "d19feff2",
   "metadata": {},
   "outputs": [
    {
     "name": "stdout",
     "output_type": "stream",
     "text": [
      "(3, 2)\n"
     ]
    }
   ],
   "source": [
    "with alg.Algebra(f7) as x:\n",
    "    print(f\"({x[a]}, {-x[b]})\")"
   ]
  },
  {
   "cell_type": "markdown",
   "id": "b288b23d",
   "metadata": {},
   "source": [
    "<b>Squared Absolute Value</b>: $|(a, b)|^2 = (a, b) \\times \\overline{(a, b)}$"
   ]
  },
  {
   "cell_type": "code",
   "execution_count": 109,
   "id": "4033d5e1",
   "metadata": {},
   "outputs": [],
   "source": [
    "def sqr_abs_val(x):\n",
    "    A = x.algebra\n",
    "    return A.mult(x, conj(x))"
   ]
  },
  {
   "cell_type": "code",
   "execution_count": 110,
   "id": "844a47d3",
   "metadata": {},
   "outputs": [
    {
     "ename": "ValueError",
     "evalue": "('3', '5') is not in list",
     "output_type": "error",
     "traceback": [
      "\u001b[0;31m---------------------------------------------------------------------------\u001b[0m",
      "\u001b[0;31mValueError\u001b[0m                                Traceback (most recent call last)",
      "Cell \u001b[0;32mIn[110], line 1\u001b[0m\n\u001b[0;32m----> 1\u001b[0m sqr_abs_val(ab)\n",
      "Cell \u001b[0;32mIn[109], line 3\u001b[0m, in \u001b[0;36msqr_abs_val\u001b[0;34m(x)\u001b[0m\n\u001b[1;32m      1\u001b[0m \u001b[38;5;28;01mdef\u001b[39;00m \u001b[38;5;21msqr_abs_val\u001b[39m(x):\n\u001b[1;32m      2\u001b[0m     A \u001b[38;5;241m=\u001b[39m x\u001b[38;5;241m.\u001b[39malgebra\n\u001b[0;32m----> 3\u001b[0m     \u001b[38;5;28;01mreturn\u001b[39;00m A\u001b[38;5;241m.\u001b[39mmult(x, conj(x))\n",
      "File \u001b[0;32m~/Documents/Python/github/myrepos/abstract_algebra/src/finite_algebras.py:1292\u001b[0m, in \u001b[0;36mRing.mult\u001b[0;34m(self, *args)\u001b[0m\n\u001b[1;32m   1290\u001b[0m \u001b[38;5;28;01mdef\u001b[39;00m \u001b[38;5;21mmult\u001b[39m(\u001b[38;5;28mself\u001b[39m, \u001b[38;5;241m*\u001b[39margs):\n\u001b[1;32m   1291\u001b[0m \u001b[38;5;250m    \u001b[39m\u001b[38;5;124;03m\"\"\"Ring multiplication, based on the second table.\"\"\"\u001b[39;00m\n\u001b[0;32m-> 1292\u001b[0m     \u001b[38;5;28;01mreturn\u001b[39;00m \u001b[38;5;28mself\u001b[39m\u001b[38;5;241m.\u001b[39m__ring_mult(\u001b[38;5;241m*\u001b[39margs)\n",
      "File \u001b[0;32m~/Documents/Python/github/myrepos/abstract_algebra/src/finite_algebras.py:58\u001b[0m, in \u001b[0;36mFiniteOperator.__call__\u001b[0;34m(self, *args)\u001b[0m\n\u001b[1;32m     57\u001b[0m \u001b[38;5;28;01mdef\u001b[39;00m \u001b[38;5;21m__call__\u001b[39m(\u001b[38;5;28mself\u001b[39m, \u001b[38;5;241m*\u001b[39margs):\n\u001b[0;32m---> 58\u001b[0m     \u001b[38;5;28;01mreturn\u001b[39;00m \u001b[38;5;28mself\u001b[39m\u001b[38;5;241m.\u001b[39m__op(\u001b[38;5;241m*\u001b[39margs)\n",
      "File \u001b[0;32m~/Documents/Python/github/myrepos/abstract_algebra/src/finite_algebras.py:76\u001b[0m, in \u001b[0;36mFiniteOperator.__op\u001b[0;34m(self, *args)\u001b[0m\n\u001b[1;32m     74\u001b[0m         \u001b[38;5;28;01mraise\u001b[39;00m \u001b[38;5;167;01mValueError\u001b[39;00m(\u001b[38;5;124mf\u001b[39m\u001b[38;5;124m\"\u001b[39m\u001b[38;5;132;01m{\u001b[39;00margs[\u001b[38;5;241m0\u001b[39m]\u001b[38;5;132;01m}\u001b[39;00m\u001b[38;5;124m is not a valid element name\u001b[39m\u001b[38;5;124m\"\u001b[39m)\n\u001b[1;32m     75\u001b[0m \u001b[38;5;28;01melif\u001b[39;00m \u001b[38;5;28mlen\u001b[39m(args) \u001b[38;5;241m==\u001b[39m \u001b[38;5;241m2\u001b[39m:\n\u001b[0;32m---> 76\u001b[0m     \u001b[38;5;28;01mreturn\u001b[39;00m \u001b[38;5;28mself\u001b[39m\u001b[38;5;241m.\u001b[39m__binary_operation(args[\u001b[38;5;241m0\u001b[39m], args[\u001b[38;5;241m1\u001b[39m])\n\u001b[1;32m     77\u001b[0m \u001b[38;5;28;01melse\u001b[39;00m:\n\u001b[1;32m     78\u001b[0m     \u001b[38;5;28;01mreturn\u001b[39;00m reduce(\u001b[38;5;28;01mlambda\u001b[39;00m a, b: \u001b[38;5;28mself\u001b[39m\u001b[38;5;241m.\u001b[39m__op(a, b), args)\n",
      "File \u001b[0;32m~/Documents/Python/github/myrepos/abstract_algebra/src/finite_algebras.py:62\u001b[0m, in \u001b[0;36mFiniteOperator.__binary_operation\u001b[0;34m(self, elem1, elem2)\u001b[0m\n\u001b[1;32m     60\u001b[0m \u001b[38;5;28;01mdef\u001b[39;00m \u001b[38;5;21m__binary_operation\u001b[39m(\u001b[38;5;28mself\u001b[39m, elem1, elem2):\n\u001b[1;32m     61\u001b[0m \u001b[38;5;250m    \u001b[39m\u001b[38;5;124;03m\"\"\"Returns the 'sum' of exactly two elements.\"\"\"\u001b[39;00m\n\u001b[0;32m---> 62\u001b[0m     row \u001b[38;5;241m=\u001b[39m \u001b[38;5;28mself\u001b[39m\u001b[38;5;241m.\u001b[39m__elements\u001b[38;5;241m.\u001b[39mindex(elem1)\n\u001b[1;32m     63\u001b[0m     col \u001b[38;5;241m=\u001b[39m \u001b[38;5;28mself\u001b[39m\u001b[38;5;241m.\u001b[39m__elements\u001b[38;5;241m.\u001b[39mindex(elem2)\n\u001b[1;32m     64\u001b[0m     index \u001b[38;5;241m=\u001b[39m \u001b[38;5;28mself\u001b[39m\u001b[38;5;241m.\u001b[39m__table[row, col]\n",
      "\u001b[0;31mValueError\u001b[0m: ('3', '5') is not in list"
     ]
    }
   ],
   "source": [
    "sqr_abs_val(ab)"
   ]
  },
  {
   "cell_type": "markdown",
   "id": "43d4cee9",
   "metadata": {},
   "source": [
    "Check:"
   ]
  },
  {
   "cell_type": "code",
   "execution_count": null,
   "id": "6b66c5e9",
   "metadata": {},
   "outputs": [],
   "source": [
    "y = ab * ab.conj()\n",
    "print(y.real)\n",
    "print(y.imag == f7.zero)"
   ]
  },
  {
   "cell_type": "markdown",
   "id": "caf07df2",
   "metadata": {},
   "source": [
    "<b>Scalar Multiplication</b>: $a \\times (c, d) = (ac, ad)$"
   ]
  },
  {
   "cell_type": "code",
   "execution_count": null,
   "id": "9077ffe5",
   "metadata": {},
   "outputs": [],
   "source": [
    "cd.scalar_mult(a)"
   ]
  },
  {
   "cell_type": "markdown",
   "id": "ad3891c5",
   "metadata": {},
   "source": [
    "Check:"
   ]
  },
  {
   "cell_type": "code",
   "execution_count": null,
   "id": "730456e2",
   "metadata": {},
   "outputs": [],
   "source": [
    "with alg.Algebra(f7) as x:\n",
    "    print(f\"({x[a]*x[c]}, {x[a]*x[d]})\")"
   ]
  },
  {
   "cell_type": "markdown",
   "id": "d4b35c93",
   "metadata": {},
   "source": [
    "**Inverses:** ${(a, b)}^{-1} = \\large \\frac{\\overline{(a,b)}}{|(a, b)|^2}$"
   ]
  },
  {
   "cell_type": "code",
   "execution_count": null,
   "id": "31590842",
   "metadata": {},
   "outputs": [],
   "source": [
    "ab.inv()"
   ]
  },
  {
   "cell_type": "markdown",
   "id": "c4fca673",
   "metadata": {},
   "source": [
    "Check:"
   ]
  },
  {
   "cell_type": "code",
   "execution_count": null,
   "id": "efccec19",
   "metadata": {},
   "outputs": [],
   "source": [
    "print(f\"({f7.one}, {f7.zero})\")  # (1, 0)"
   ]
  },
  {
   "cell_type": "code",
   "execution_count": null,
   "id": "9f0ebae5",
   "metadata": {},
   "outputs": [],
   "source": [
    "ab * ab.inv()"
   ]
  },
  {
   "cell_type": "code",
   "execution_count": null,
   "id": "692e3398",
   "metadata": {},
   "outputs": [],
   "source": [
    "ab.inv() * ab"
   ]
  },
  {
   "cell_type": "markdown",
   "id": "4800f831",
   "metadata": {},
   "source": [
    "**Example: Equality & Inequality**"
   ]
  },
  {
   "cell_type": "code",
   "execution_count": null,
   "id": "7018ac4b",
   "metadata": {},
   "outputs": [],
   "source": [
    "print(ab)\n",
    "print(cd)"
   ]
  },
  {
   "cell_type": "code",
   "execution_count": null,
   "id": "9c2f1e16",
   "metadata": {},
   "outputs": [],
   "source": [
    "ab == cd"
   ]
  },
  {
   "cell_type": "code",
   "execution_count": null,
   "id": "94062195",
   "metadata": {},
   "outputs": [],
   "source": [
    "ab != cd"
   ]
  },
  {
   "cell_type": "code",
   "execution_count": null,
   "id": "af14ef02",
   "metadata": {},
   "outputs": [],
   "source": [
    "abx = alg.AbstractComplexNumber(a, b, f7)  # Should be equal to x1\n",
    "abx"
   ]
  },
  {
   "cell_type": "code",
   "execution_count": null,
   "id": "2491f7e7",
   "metadata": {},
   "outputs": [],
   "source": [
    "ab == abx"
   ]
  },
  {
   "cell_type": "code",
   "execution_count": null,
   "id": "4e62ca04",
   "metadata": {},
   "outputs": [],
   "source": [
    "ab != abx"
   ]
  },
  {
   "cell_type": "markdown",
   "id": "91d97788",
   "metadata": {},
   "source": [
    "**Example: Division (for Fields only)**"
   ]
  },
  {
   "cell_type": "code",
   "execution_count": null,
   "id": "579928d5",
   "metadata": {},
   "outputs": [],
   "source": [
    "ab / ab"
   ]
  },
  {
   "cell_type": "code",
   "execution_count": null,
   "id": "bd1fb0f2",
   "metadata": {},
   "outputs": [],
   "source": [
    "ab / cd"
   ]
  },
  {
   "cell_type": "code",
   "execution_count": null,
   "id": "63d72b2d",
   "metadata": {},
   "outputs": [],
   "source": [
    "cd / ab"
   ]
  },
  {
   "cell_type": "code",
   "execution_count": null,
   "id": "6175786b",
   "metadata": {},
   "outputs": [],
   "source": [
    "(ab / cd) * (cd / ab)"
   ]
  },
  {
   "cell_type": "markdown",
   "id": "d47660c8",
   "metadata": {},
   "source": [
    "## Create Algebras from Abstract Complex Numbers"
   ]
  },
  {
   "cell_type": "raw",
   "id": "518fe14f",
   "metadata": {},
   "source": [
    "def make_abstract_complex_number_algebra(algebra, name_gen=None, alg_name=None, alg_desc=None):\n",
    "    if not isinstance(algebra, alg.Ring):\n",
    "        raise ValueError(f\"{algebra.name} is not at least a Ring\")\n",
    "    if name_gen is None:\n",
    "        name_gen = lambda x : x.real + \":\" + x.imag\n",
    "    if alg_name is None:\n",
    "        alg_name = algebra.name + \"_ACN\"\n",
    "    if alg_desc is None:\n",
    "        alg_desc = \"Abstract Complex Number Algebra based on \" + algebra.description\n",
    "    elems = [AbstractComplexNumber(a, b, algebra) for a in algebra.elements for b in algebra.elements]\n",
    "    add_table = [[name_gen(u + v) for v in elems] for u in elems]\n",
    "    mul_table = [[name_gen(u * v) for v in elems] for u in elems]\n",
    "    enames = list(map(name_gen, elems))\n",
    "    name_element_map = {name_gen(elem) : elem for elem in elems}\n",
    "    new_alg = alg.make_finite_algebra(alg_name, alg_desc, enames, add_table, mul_table)\n",
    "    return new_alg, name_element_map"
   ]
  },
  {
   "cell_type": "code",
   "execution_count": null,
   "id": "2a0be37f",
   "metadata": {},
   "outputs": [],
   "source": []
  },
  {
   "cell_type": "code",
   "execution_count": null,
   "id": "c97428d0",
   "metadata": {},
   "outputs": [],
   "source": []
  },
  {
   "cell_type": "code",
   "execution_count": null,
   "id": "ebe1fdf0",
   "metadata": {},
   "outputs": [],
   "source": []
  },
  {
   "cell_type": "code",
   "execution_count": 17,
   "id": "7c002bd9",
   "metadata": {},
   "outputs": [],
   "source": [
    "f4 = alg.make_finite_algebra('F4',\n",
    "                             'Field with 4 elements (from Wikipedia)',\n",
    "                             ['0', '1', 'a', '1+a'],\n",
    "                             [[0, 1, 2, 3],\n",
    "                              [1, 0, 3, 2],\n",
    "                              [2, 3, 0, 1],\n",
    "                              [3, 2, 1, 0]\n",
    "                             ],\n",
    "                             [[0, 0, 0, 0],\n",
    "                              [0, 1, 2, 3],\n",
    "                              [0, 2, 3, 1],\n",
    "                              [0, 3, 1, 2]\n",
    "                             ]\n",
    "                            )                     \n",
    "# f4.about()"
   ]
  },
  {
   "cell_type": "code",
   "execution_count": null,
   "id": "8410e083",
   "metadata": {},
   "outputs": [],
   "source": [
    "cf4.about(max_size=16)"
   ]
  },
  {
   "cell_type": "code",
   "execution_count": null,
   "id": "99795a5a",
   "metadata": {},
   "outputs": [],
   "source": [
    "cf4_map"
   ]
  },
  {
   "cell_type": "code",
   "execution_count": null,
   "id": "e64f1f18",
   "metadata": {},
   "outputs": [],
   "source": [
    "%%time\n",
    "cf4_proper_subs = cf4.proper_subalgebras()\n",
    "cf4_proper_subs"
   ]
  },
  {
   "cell_type": "code",
   "execution_count": null,
   "id": "d4d26be0",
   "metadata": {},
   "outputs": [],
   "source": [
    "partitions = alg.partition_into_isomorphic_lists(cf4_proper_subs)\n",
    "\n",
    "alg.about_isomorphic_partitions(cf4, partitions)"
   ]
  },
  {
   "cell_type": "code",
   "execution_count": null,
   "id": "392babd4",
   "metadata": {},
   "outputs": [],
   "source": [
    "f2 = alg.generate_algebra_mod_n(2, elem_name='')\n",
    "f2.about()"
   ]
  },
  {
   "cell_type": "markdown",
   "id": "09fe8480",
   "metadata": {},
   "source": [
    "Becase 2 is not a Gaussian prime, the Abstract Complex Number algebra generated below using $F_2$ is a Ring."
   ]
  },
  {
   "cell_type": "code",
   "execution_count": null,
   "id": "640443bd",
   "metadata": {},
   "outputs": [],
   "source": [
    "cf2, cf2_map = f2.make_abstract_complex_number_algebra()\n",
    "\n",
    "cf2.about()"
   ]
  },
  {
   "cell_type": "markdown",
   "id": "2ca0aa45",
   "metadata": {},
   "source": [
    "Since 3 is a Gaussian prime, the Abstract Complex Number algebra generated below using $F_3$ is a Field."
   ]
  },
  {
   "cell_type": "code",
   "execution_count": null,
   "id": "38a36ccc",
   "metadata": {},
   "outputs": [],
   "source": [
    "f3 = alg.generate_algebra_mod_n(3, elem_name='')\n",
    "f3.about()"
   ]
  },
  {
   "cell_type": "code",
   "execution_count": null,
   "id": "ca38a9b1",
   "metadata": {},
   "outputs": [],
   "source": [
    "cf3, cf3_map = f3.make_abstract_complex_number_algebra()\n",
    "\n",
    "cf3.about()"
   ]
  },
  {
   "cell_type": "markdown",
   "id": "69df801d",
   "metadata": {},
   "source": [
    "In the code below, we see that for finite Fields over the integers mod n (n prime between 1 & 20), the corresponding Abstract Complex Algebras will also be Fields only for n = 3, 7, 11, 19; otherwise they are Rings for n = 2, 5, 13, 17."
   ]
  },
  {
   "cell_type": "code",
   "execution_count": null,
   "id": "47172f8d-a0c9-49fc-809a-c6dc6f35fcbc",
   "metadata": {},
   "outputs": [],
   "source": [
    "import os, json\n",
    "aa_path = os.path.join(os.getenv(\"PYPROJ\"), \"abstract_algebra\")\n",
    "alg_dir = os.path.join(aa_path, \"algebras\")"
   ]
  },
  {
   "cell_type": "markdown",
   "id": "10cd0363",
   "metadata": {},
   "source": [
    "**The cells below have been raw text, so that they are not rerun accidentally (they take a while)**"
   ]
  },
  {
   "cell_type": "code",
   "execution_count": null,
   "id": "ae00bebf",
   "metadata": {},
   "outputs": [],
   "source": [
    "%%time\n",
    "# n = 24\n",
    "n = 6\n",
    "print_out = True\n",
    "for i in range(1,n):\n",
    "    if alg.is_prime(i):\n",
    "        fi = alg.generate_algebra_mod_n(i, elem_name='')\n",
    "        cfi, cfi_map = fi.make_abstract_complex_number_algebra()\n",
    "        if isinstance(cfi, alg.Field):\n",
    "            print(cfi.name)\n",
    "            if print_out:\n",
    "                filename = os.path.join(alg_dir, fi.name + \"_ACN_algebra.json\")\n",
    "                with open(filename, \"w\") as out:\n",
    "                    json.dump(cfi.to_dict(), out, indent=4)\n",
    "print(\"Done\")"
   ]
  },
  {
   "cell_type": "raw",
   "id": "1cb8bdd6",
   "metadata": {},
   "source": [
    "F3_ACN\n",
    "F7_ACN\n",
    "F11_ACN\n",
    "F19_ACN\n",
    "F23_ACN\n",
    "Done\n",
    "CPU times: user 6min 42s, sys: 81.7 ms, total: 6min 42s\n",
    "Wall time: 6min 43s"
   ]
  },
  {
   "cell_type": "raw",
   "id": "05304ee5",
   "metadata": {},
   "source": [
    "%%time\n",
    "i = 31\n",
    "fi = alg.generate_algebra_mod_n(i)\n",
    "cfi, _ = make_abstract_complex_number_algebra(fi)\n",
    "print(i, cfi.__class__)\n",
    "\n",
    "# Result\n",
    "# 31 <class 'finite_algebras.Field'>\n",
    "# CPU times: user 27min 3s, sys: 588 ms, total: 27min 3s\n",
    "# Wall time: 27min 6s"
   ]
  },
  {
   "cell_type": "markdown",
   "id": "9988fd48",
   "metadata": {},
   "source": [
    "Here is more of the A002145 sequence of primes of the form 4*k + 3:\n",
    "\n",
    "3, 7, 11, 19, 23, 31, 43, 47, 59, 67, 71, 79, 83, 103, 107, 127, 131, 139, 151, 163, 167, 179, 191, 199, 211, 223, 227, 239, 251, 263, 271, 283, 307, 311, 331, 347, 359, 367, 379, 383, 419, 431, 439, 443, 463, 467, 479, 487, 491, 499, 503, 523, 547, 563, 571, ..."
   ]
  }
 ],
 "metadata": {
  "kernelspec": {
   "display_name": "Python 3 (ipykernel)",
   "language": "python",
   "name": "python3"
  },
  "language_info": {
   "codemirror_mode": {
    "name": "ipython",
    "version": 3
   },
   "file_extension": ".py",
   "mimetype": "text/x-python",
   "name": "python",
   "nbconvert_exporter": "python",
   "pygments_lexer": "ipython3",
   "version": "3.11.5"
  }
 },
 "nbformat": 4,
 "nbformat_minor": 5
}
