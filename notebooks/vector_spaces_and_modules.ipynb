{
 "cells": [
  {
   "cell_type": "markdown",
   "id": "ea5f4129",
   "metadata": {},
   "source": [
    "# Vector Spaces & Modules"
   ]
  },
  {
   "cell_type": "markdown",
   "id": "4b2f089c",
   "metadata": {},
   "source": [
    "Vector Spaces and Modules can be implemented using Finite Algebra components, such as Groups, Rings, and Fields. See the previous section, \"Definitions\", for definitions of these algebraic structures."
   ]
  },
  {
   "cell_type": "markdown",
   "id": "34258870",
   "metadata": {},
   "source": [
    "## Internal Representation of Vector Spaces & Modules\n",
    "\n",
    "Internally, a ``FiniteAlgebra`` can take several different forms.  For algebras that have more than one set of elements and multiple binary operations, such as Vector Spaces and Modules, the internal representation is as shown below.\n",
    "\n",
    "* **name**: (``str``) A short name for the algebra;\n",
    "* **description**: (``str``) Any additional, useful information about the algebra;\n",
    "* **scalars**: A ``Ring`` (Module) or a ``Field`` (VectorSpace). Its elements are *scalars* and its operations are *scalar addition and multiplication*;\n",
    "* **vectors**: An abelian ``Group``. Its elements are *vectors* and its operation is *vector addition*;\n",
    "* **sv_op**: A scalar-vector binary operation, $\\circ : S \\times V \\to V$, for \"scaling vectors\""
   ]
  },
  {
   "cell_type": "markdown",
   "id": "f935e56a",
   "metadata": {},
   "source": [
    "## Examples"
   ]
  },
  {
   "cell_type": "markdown",
   "id": "f33d42af",
   "metadata": {},
   "source": [
    "The following example demonstrates the construction of an n-dimensional Vector Space that is similar to the type of vector space most students are familiar with, i.e., vectors consist of components made out of the same field elements (e.g., Real numbers) as the scalar field (e.g., also Real numbers).\n",
    "\n",
    "If you would rather  skip this demonstration, then jump to the bottom of this page to find the function, ``generate_n_dim_module``.  It puts everything about to be demonstrated into one tidy package for easy use.\n",
    "\n",
    "So, to begin, we'll use a Field, $F$, and the abelian Group, $F_2 = F \\times F$, created by computing the direct product of $F$ with itself.  This will create a \"two-dimensional\" Vector Space.  (This generalizes, by the way, to n-dimensions by using the Group, $F_n = F \\times \\dots \\times F \\equiv \\times^n F$.)\n",
    "\n",
    "First, we'll load the built-in examples to obtain the \"Field with 4 elements (from Wikipedia)\"."
   ]
  },
  {
   "cell_type": "code",
   "execution_count": 1,
   "id": "92f23f15",
   "metadata": {},
   "outputs": [],
   "source": [
    ">>> import os\n",
    ">>> aa_path = os.path.join(os.getenv(\"PYPROJ\"), \"abstract_algebra\")\n",
    ">>> alg_dir = os.path.join(aa_path, \"Algebras\")"
   ]
  },
  {
   "cell_type": "code",
   "execution_count": 2,
   "id": "dfdb290e",
   "metadata": {},
   "outputs": [],
   "source": [
    ">>> from finite_algebras import *\n",
    "#>>> import modules_and_vector_spaces as mvs"
   ]
  },
  {
   "cell_type": "code",
   "execution_count": 3,
   "id": "837a0143",
   "metadata": {},
   "outputs": [
    {
     "name": "stdout",
     "output_type": "stream",
     "text": [
      "======================================================================\n",
      "                           Example Algebras\n",
      "----------------------------------------------------------------------\n",
      "  15 example algebras are available.\n",
      "  Use \"Examples[INDEX]\" to retrieve a specific example,\n",
      "  where INDEX is the first number on each line below:\n",
      "----------------------------------------------------------------------\n",
      "0: A4 -- Alternating group on 4 letters (AKA Tetrahedral group)\n",
      "1: D3 -- https://en.wikipedia.org/wiki/Dihedral_group_of_order_6\n",
      "2: D4 -- Dihedral group on four vertices\n",
      "3: Pinter29 -- Non-abelian group, p.29, 'A Book of Abstract Algebra' by Charles C. Pinter\n",
      "4: RPS -- Rock, Paper, Scissors Magma\n",
      "5: S3 -- Symmetric group on 3 letters\n",
      "6: S3X -- Another version of the symmetric group on 3 letters\n",
      "7: V4 -- Klein-4 group\n",
      "8: Z4 -- Cyclic group of order 4\n",
      "9: F4 -- Field with 4 elements (from Wikipedia)\n",
      "10: mag_id -- Magma with Identity\n",
      "11: Example 1.4.1 -- See: Groupoids and Smarandache Groupoids by W. B. Vasantha Kandasamy\n",
      "12: Ex6 -- Example 6: http://www-groups.mcs.st-andrews.ac.uk/~john/MT4517/Lectures/L3.html\n",
      "13: Q8 -- Quaternion Group\n",
      "14: SD16 -- Semidihedral group of order 16\n",
      "======================================================================\n"
     ]
    }
   ],
   "source": [
    ">>> ex = Examples(alg_dir)"
   ]
  },
  {
   "cell_type": "markdown",
   "id": "0dd13913",
   "metadata": {},
   "source": [
    "The \"field with 4 elements\" will be the scalars."
   ]
  },
  {
   "cell_type": "code",
   "execution_count": 4,
   "id": "111156a4",
   "metadata": {},
   "outputs": [
    {
     "name": "stdout",
     "output_type": "stream",
     "text": [
      "\n",
      "** Field **\n",
      "Name: F4\n",
      "Instance ID: 140710655367760\n",
      "Description: Field with 4 elements (from Wikipedia)\n",
      "Order: 4\n",
      "Identity: 0\n",
      "Associative? Yes\n",
      "Commutative? Yes\n",
      "Cyclic?: Yes\n",
      "  Generators: ['1+a', 'a']\n",
      "Elements:\n",
      "   Index   Name   Inverse  Order\n",
      "      0       0       0       1\n",
      "      1       1       1       2\n",
      "      2       a       a       2\n",
      "      3     1+a     1+a       2\n",
      "Cayley Table (showing names):\n",
      "[['0', '1', 'a', '1+a'],\n",
      " ['1', '0', '1+a', 'a'],\n",
      " ['a', '1+a', '0', '1'],\n",
      " ['1+a', 'a', '1', '0']]\n",
      "Mult. Identity: 1\n",
      "Mult. Commutative? Yes\n",
      "Zero Divisors: None\n",
      "Multiplicative Cayley Table (showing names):\n",
      "[['0', '0', '0', '0'],\n",
      " ['0', '1', 'a', '1+a'],\n",
      " ['0', 'a', '1+a', '1'],\n",
      " ['0', '1+a', '1', 'a']]\n"
     ]
    }
   ],
   "source": [
    ">>> F4 = ex[9]\n",
    ">>> F4.about(use_table_names=True)"
   ]
  },
  {
   "cell_type": "markdown",
   "id": "fd004878",
   "metadata": {},
   "source": [
    "The \"field with 4 elements\" will also be used to generate an abelian Group, as follows:"
   ]
  },
  {
   "cell_type": "code",
   "execution_count": 5,
   "id": "84158af4",
   "metadata": {},
   "outputs": [
    {
     "name": "stdout",
     "output_type": "stream",
     "text": [
      "\n",
      "** Group **\n",
      "Name: F4_x_F4\n",
      "Instance ID: 140710655430928\n",
      "Description: Direct product of F4 & F4\n",
      "Order: 16\n",
      "Identity: 0:0\n",
      "Associative? Yes\n",
      "Commutative? Yes\n",
      "Cyclic?: No\n",
      "Elements:\n",
      "   Index   Name   Inverse  Order\n",
      "      0     0:0     0:0       1\n",
      "      1     0:1     0:1       2\n",
      "      2     0:a     0:a       2\n",
      "      3   0:1+a   0:1+a       2\n",
      "      4     1:0     1:0       2\n",
      "      5     1:1     1:1       2\n",
      "      6     1:a     1:a       2\n",
      "      7   1:1+a   1:1+a       2\n",
      "      8     a:0     a:0       2\n",
      "      9     a:1     a:1       2\n",
      "     10     a:a     a:a       2\n",
      "     11   a:1+a   a:1+a       2\n",
      "     12   1+a:0   1+a:0       2\n",
      "     13   1+a:1   1+a:1       2\n",
      "     14   1+a:a   1+a:a       2\n",
      "     15 1+a:1+a 1+a:1+a       2\n",
      "Cayley Table (showing indices):\n",
      "[[0, 1, 2, 3, 4, 5, 6, 7, 8, 9, 10, 11, 12, 13, 14, 15],\n",
      " [1, 0, 3, 2, 5, 4, 7, 6, 9, 8, 11, 10, 13, 12, 15, 14],\n",
      " [2, 3, 0, 1, 6, 7, 4, 5, 10, 11, 8, 9, 14, 15, 12, 13],\n",
      " [3, 2, 1, 0, 7, 6, 5, 4, 11, 10, 9, 8, 15, 14, 13, 12],\n",
      " [4, 5, 6, 7, 0, 1, 2, 3, 12, 13, 14, 15, 8, 9, 10, 11],\n",
      " [5, 4, 7, 6, 1, 0, 3, 2, 13, 12, 15, 14, 9, 8, 11, 10],\n",
      " [6, 7, 4, 5, 2, 3, 0, 1, 14, 15, 12, 13, 10, 11, 8, 9],\n",
      " [7, 6, 5, 4, 3, 2, 1, 0, 15, 14, 13, 12, 11, 10, 9, 8],\n",
      " [8, 9, 10, 11, 12, 13, 14, 15, 0, 1, 2, 3, 4, 5, 6, 7],\n",
      " [9, 8, 11, 10, 13, 12, 15, 14, 1, 0, 3, 2, 5, 4, 7, 6],\n",
      " [10, 11, 8, 9, 14, 15, 12, 13, 2, 3, 0, 1, 6, 7, 4, 5],\n",
      " [11, 10, 9, 8, 15, 14, 13, 12, 3, 2, 1, 0, 7, 6, 5, 4],\n",
      " [12, 13, 14, 15, 8, 9, 10, 11, 4, 5, 6, 7, 0, 1, 2, 3],\n",
      " [13, 12, 15, 14, 9, 8, 11, 10, 5, 4, 7, 6, 1, 0, 3, 2],\n",
      " [14, 15, 12, 13, 10, 11, 8, 9, 6, 7, 4, 5, 2, 3, 0, 1],\n",
      " [15, 14, 13, 12, 11, 10, 9, 8, 7, 6, 5, 4, 3, 2, 1, 0]]\n"
     ]
    }
   ],
   "source": [
    ">>> F4_2 = F4 * F4\n",
    ">>> F4_2.about(max_size=16)"
   ]
  },
  {
   "cell_type": "markdown",
   "id": "d34afec4",
   "metadata": {},
   "source": [
    "The name of the function, ``make_dp_sv_op``, is shorthand for **Make a Direct-Product-based Scalar-Vector Binary Operator**.\n",
    "\n",
    "As input, it takes the Field (or Ring), the Direct Product of which, will be used to create a Group (the Vectors).\n",
    "\n",
    "The binary operator (function) it returns is used to scale a vector.  It takes two inputs, a scalar element and a vector element, and returns a vector element."
   ]
  },
  {
   "cell_type": "code",
   "execution_count": 6,
   "id": "6372a112",
   "metadata": {},
   "outputs": [],
   "source": [
    ">>> op = make_dp_sv_op(F4)"
   ]
  },
  {
   "cell_type": "markdown",
   "id": "babce8d5",
   "metadata": {},
   "source": [
    "The function, ``make_finite_algebra``, checks the inputs and then outputs the most specific algebraic structure supported by the inputs, which in this case are either a Module or a Vector Space."
   ]
  },
  {
   "cell_type": "code",
   "execution_count": 7,
   "id": "635692cc",
   "metadata": {},
   "outputs": [
    {
     "data": {
      "text/plain": [
       "<VectorSpace:VS4_2D, ID:140710655452560, Scalars:F4, Vectors:F4_x_F4>"
      ]
     },
     "execution_count": 7,
     "metadata": {},
     "output_type": "execute_result"
    }
   ],
   "source": [
    ">>> vs = make_finite_algebra('VS4_2D', '4 Element 2D Vector Space', F4, F4_2, op)\n",
    ">>> vs"
   ]
  },
  {
   "cell_type": "markdown",
   "id": "d4ed8650",
   "metadata": {},
   "source": [
    "The elements of a Direct Product are constructed from the elements of the component algebras (Field or Ring in this case), separated by a colon (':').  So, where one might think of a vector as something like, (0, 1), here it would be, 0:1.  This is convenient, because Direct Products can be \"stacked\" onto Direct Products any number of times, yielding something elements like, a:1:0:1+a."
   ]
  },
  {
   "cell_type": "code",
   "execution_count": 8,
   "id": "6cb2a0f0",
   "metadata": {},
   "outputs": [
    {
     "name": "stdout",
     "output_type": "stream",
     "text": [
      "['0:0', '0:1', '0:a', '0:1+a', '1:0', '1:1', '1:a', '1:1+a', 'a:0', 'a:1', 'a:a', 'a:1+a', '1+a:0', '1+a:1', '1+a:a', '1+a:1+a']\n"
     ]
    }
   ],
   "source": [
    ">>> print(vs.vector.elements)"
   ]
  },
  {
   "cell_type": "code",
   "execution_count": 9,
   "id": "5d08a5f4",
   "metadata": {},
   "outputs": [
    {
     "name": "stdout",
     "output_type": "stream",
     "text": [
      "['0', '1', 'a', '1+a']\n"
     ]
    }
   ],
   "source": [
    ">>> print(vs.scalar.elements)"
   ]
  },
  {
   "cell_type": "markdown",
   "id": "7780e93b",
   "metadata": {},
   "source": [
    "Scalar addition and multiplication is just the addition and multiplication operations of the Field (Scalars) used to create the Vector Space (or Module)"
   ]
  },
  {
   "cell_type": "code",
   "execution_count": 10,
   "id": "b13830a4",
   "metadata": {},
   "outputs": [
    {
     "data": {
      "text/plain": [
       "'1+a'"
      ]
     },
     "execution_count": 10,
     "metadata": {},
     "output_type": "execute_result"
    }
   ],
   "source": [
    ">>> vs.scalar.add('1', 'a')"
   ]
  },
  {
   "cell_type": "code",
   "execution_count": 11,
   "id": "a1f7d6cf",
   "metadata": {},
   "outputs": [
    {
     "data": {
      "text/plain": [
       "'1+a'"
      ]
     },
     "execution_count": 11,
     "metadata": {},
     "output_type": "execute_result"
    }
   ],
   "source": [
    ">>> vs.scalar.mult('a', 'a')"
   ]
  },
  {
   "cell_type": "markdown",
   "id": "f8518da0",
   "metadata": {},
   "source": [
    "Vector addition is just the binary operation of the Group (Vectors) used to create the Vector Space (or Module)"
   ]
  },
  {
   "cell_type": "code",
   "execution_count": 12,
   "id": "7ed12752",
   "metadata": {},
   "outputs": [
    {
     "data": {
      "text/plain": [
       "'1+a:0'"
      ]
     },
     "execution_count": 12,
     "metadata": {},
     "output_type": "execute_result"
    }
   ],
   "source": [
    ">>> vs.vector_add('1:a', 'a:a')  # Same as vs.vector.op('1:a', 'a:a')"
   ]
  },
  {
   "cell_type": "markdown",
   "id": "037a9396",
   "metadata": {},
   "source": [
    "The method, ``sv_op``, below, is the result of the function, ``make_dp_sv_op``, described above."
   ]
  },
  {
   "cell_type": "code",
   "execution_count": 13,
   "id": "a2d18305",
   "metadata": {},
   "outputs": [
    {
     "data": {
      "text/plain": [
       "'1+a:1+a'"
      ]
     },
     "execution_count": 13,
     "metadata": {},
     "output_type": "execute_result"
    }
   ],
   "source": [
    ">>> vs.sv_op('a', 'a:a')"
   ]
  },
  {
   "cell_type": "code",
   "execution_count": 14,
   "id": "83198797",
   "metadata": {},
   "outputs": [
    {
     "data": {
      "text/plain": [
       "'0'"
      ]
     },
     "execution_count": 14,
     "metadata": {},
     "output_type": "execute_result"
    }
   ],
   "source": [
    ">>> vs.scalar.zero"
   ]
  },
  {
   "cell_type": "code",
   "execution_count": 15,
   "id": "8eeeba16",
   "metadata": {},
   "outputs": [
    {
     "data": {
      "text/plain": [
       "'1'"
      ]
     },
     "execution_count": 15,
     "metadata": {},
     "output_type": "execute_result"
    }
   ],
   "source": [
    ">>> vs.scalar.one"
   ]
  },
  {
   "cell_type": "markdown",
   "id": "21bef220",
   "metadata": {},
   "source": [
    "### Check: Scaling by 1"
   ]
  },
  {
   "cell_type": "markdown",
   "id": "8f46bd69",
   "metadata": {},
   "source": [
    "If $\\mathscr{1} \\in S$ is the multiplicative identity element of $\\mathscr{F}$, then $\\mathscr{1} \\circ v = v$"
   ]
  },
  {
   "cell_type": "code",
   "execution_count": 16,
   "id": "7f3b497b",
   "metadata": {},
   "outputs": [
    {
     "data": {
      "text/plain": [
       "True"
      ]
     },
     "execution_count": 16,
     "metadata": {},
     "output_type": "execute_result"
    }
   ],
   "source": [
    ">>> check_scaling_by_one(F4, F4_2, op)"
   ]
  },
  {
   "cell_type": "markdown",
   "id": "023a014f",
   "metadata": {},
   "source": [
    "### Check: Distributivity of scalars over vector addition"
   ]
  },
  {
   "cell_type": "markdown",
   "id": "d6074aaf",
   "metadata": {},
   "source": [
    "$s \\circ (v_1 \\oplus v_2) = (s \\circ v_1) \\oplus (s \\circ v_2)$"
   ]
  },
  {
   "cell_type": "code",
   "execution_count": 17,
   "id": "4740394a",
   "metadata": {},
   "outputs": [
    {
     "name": "stdout",
     "output_type": "stream",
     "text": [
      "0:1+a\n",
      "0:1+a\n"
     ]
    }
   ],
   "source": [
    ">>> # Example\n",
    ">>> \n",
    ">>> s = 'a'\n",
    ">>> v1 = 'a:1+a'\n",
    ">>> v2 = 'a:1'\n",
    ">>> print(vs.sv_op(s, vs.vector_add(v1, v2)))\n",
    ">>> print(vs.vector_add(vs.sv_op(s, v1), vs.sv_op(s, v2)))"
   ]
  },
  {
   "cell_type": "code",
   "execution_count": 18,
   "id": "038c2a92",
   "metadata": {},
   "outputs": [
    {
     "data": {
      "text/plain": [
       "True"
      ]
     },
     "execution_count": 18,
     "metadata": {},
     "output_type": "execute_result"
    }
   ],
   "source": [
    ">>> check_dist_of_scalars_over_vec_add(F4, F4_2, op)"
   ]
  },
  {
   "cell_type": "markdown",
   "id": "dccd3839",
   "metadata": {},
   "source": [
    "### Check: Distributivity of vectors over scalar addition"
   ]
  },
  {
   "cell_type": "markdown",
   "id": "79d96245",
   "metadata": {},
   "source": [
    "$(s_1 + s_2) \\circ v = (s_1 \\circ v) \\oplus (s_2 \\circ v)$"
   ]
  },
  {
   "cell_type": "code",
   "execution_count": 19,
   "id": "91cdf352",
   "metadata": {},
   "outputs": [
    {
     "name": "stdout",
     "output_type": "stream",
     "text": [
      "a:1\n",
      "a:1\n"
     ]
    }
   ],
   "source": [
    ">>> # Example\n",
    ">>> \n",
    ">>> s1 = 'a'\n",
    ">>> s2 = '1+a'\n",
    ">>> v = 'a:1'\n",
    ">>> print(vs.sv_op(vs.scalar.add(s1, s2), v))\n",
    ">>> print(vs.vector_add(vs.sv_op(s1, v), vs.sv_op(s2, v)))"
   ]
  },
  {
   "cell_type": "code",
   "execution_count": 20,
   "id": "4210531a",
   "metadata": {},
   "outputs": [
    {
     "data": {
      "text/plain": [
       "True"
      ]
     },
     "execution_count": 20,
     "metadata": {},
     "output_type": "execute_result"
    }
   ],
   "source": [
    ">>> check_dist_of_vec_over_scalar_add(F4, F4_2, op)"
   ]
  },
  {
   "cell_type": "markdown",
   "id": "e6b93273",
   "metadata": {},
   "source": [
    "### Check: Associativity"
   ]
  },
  {
   "cell_type": "markdown",
   "id": "75f7443c",
   "metadata": {},
   "source": [
    "$s_1 \\circ (s_2 \\circ v) = (s_1 \\times s_2) \\circ v$"
   ]
  },
  {
   "cell_type": "code",
   "execution_count": 21,
   "id": "7aa375d0",
   "metadata": {},
   "outputs": [
    {
     "name": "stdout",
     "output_type": "stream",
     "text": [
      "a:1\n",
      "a:1\n"
     ]
    }
   ],
   "source": [
    ">>> # Example\n",
    ">>> \n",
    ">>> s1 = 'a'\n",
    ">>> s2 = '1+a'\n",
    ">>> v = 'a:1'\n",
    ">>> print(vs.sv_op(s1, vs.sv_op(s2, v)))\n",
    ">>> print(vs.sv_op(vs.scalar.mult(s1, s2), v))"
   ]
  },
  {
   "cell_type": "code",
   "execution_count": 22,
   "id": "61cef8be",
   "metadata": {},
   "outputs": [
    {
     "data": {
      "text/plain": [
       "True"
      ]
     },
     "execution_count": 22,
     "metadata": {},
     "output_type": "execute_result"
    }
   ],
   "source": [
    ">>> check_associativity(F4, F4_2, op)"
   ]
  },
  {
   "cell_type": "markdown",
   "id": "1c6d5576",
   "metadata": {},
   "source": [
    "### 3D Vector Space"
   ]
  },
  {
   "cell_type": "markdown",
   "id": "d8081dcb",
   "metadata": {},
   "source": [
    "Here is another, similar example, except that the abelian Group is the direct product, $F_4 \\times F_4 \\times F_4$, which can be calculated for any Finite Algebra using the method, ``power``."
   ]
  },
  {
   "cell_type": "code",
   "execution_count": 23,
   "id": "cb835e8c",
   "metadata": {},
   "outputs": [
    {
     "name": "stdout",
     "output_type": "stream",
     "text": [
      "\n",
      "** Group **\n",
      "Name: F4_x_F4_x_F4\n",
      "Instance ID: 140711994866000\n",
      "Description: Direct product of F4_x_F4 & F4\n",
      "Order: 64\n",
      "Identity: 0:0:0\n",
      "Associative? Yes\n",
      "Commutative? Yes\n",
      "Cyclic?: No\n",
      "Elements:\n",
      "   Index   Name   Inverse  Order\n",
      "      0   0:0:0   0:0:0       1\n",
      "      1   0:0:1   0:0:1       2\n",
      "      2   0:0:a   0:0:a       2\n",
      "      3 0:0:1+a 0:0:1+a       2\n",
      "      4   0:1:0   0:1:0       2\n",
      "      5   0:1:1   0:1:1       2\n",
      "      6   0:1:a   0:1:a       2\n",
      "      7 0:1:1+a 0:1:1+a       2\n",
      "      8   0:a:0   0:a:0       2\n",
      "      9   0:a:1   0:a:1       2\n",
      "     10   0:a:a   0:a:a       2\n",
      "     11 0:a:1+a 0:a:1+a       2\n",
      "     12 0:1+a:0 0:1+a:0       2\n",
      "     13 0:1+a:1 0:1+a:1       2\n",
      "     14 0:1+a:a 0:1+a:a       2\n",
      "     15 0:1+a:1+a 0:1+a:1+a       2\n",
      "     16   1:0:0   1:0:0       2\n",
      "     17   1:0:1   1:0:1       2\n",
      "     18   1:0:a   1:0:a       2\n",
      "     19 1:0:1+a 1:0:1+a       2\n",
      "     20   1:1:0   1:1:0       2\n",
      "     21   1:1:1   1:1:1       2\n",
      "     22   1:1:a   1:1:a       2\n",
      "     23 1:1:1+a 1:1:1+a       2\n",
      "     24   1:a:0   1:a:0       2\n",
      "     25   1:a:1   1:a:1       2\n",
      "     26   1:a:a   1:a:a       2\n",
      "     27 1:a:1+a 1:a:1+a       2\n",
      "     28 1:1+a:0 1:1+a:0       2\n",
      "     29 1:1+a:1 1:1+a:1       2\n",
      "     30 1:1+a:a 1:1+a:a       2\n",
      "     31 1:1+a:1+a 1:1+a:1+a       2\n",
      "     32   a:0:0   a:0:0       2\n",
      "     33   a:0:1   a:0:1       2\n",
      "     34   a:0:a   a:0:a       2\n",
      "     35 a:0:1+a a:0:1+a       2\n",
      "     36   a:1:0   a:1:0       2\n",
      "     37   a:1:1   a:1:1       2\n",
      "     38   a:1:a   a:1:a       2\n",
      "     39 a:1:1+a a:1:1+a       2\n",
      "     40   a:a:0   a:a:0       2\n",
      "     41   a:a:1   a:a:1       2\n",
      "     42   a:a:a   a:a:a       2\n",
      "     43 a:a:1+a a:a:1+a       2\n",
      "     44 a:1+a:0 a:1+a:0       2\n",
      "     45 a:1+a:1 a:1+a:1       2\n",
      "     46 a:1+a:a a:1+a:a       2\n",
      "     47 a:1+a:1+a a:1+a:1+a       2\n",
      "     48 1+a:0:0 1+a:0:0       2\n",
      "     49 1+a:0:1 1+a:0:1       2\n",
      "     50 1+a:0:a 1+a:0:a       2\n",
      "     51 1+a:0:1+a 1+a:0:1+a       2\n",
      "     52 1+a:1:0 1+a:1:0       2\n",
      "     53 1+a:1:1 1+a:1:1       2\n",
      "     54 1+a:1:a 1+a:1:a       2\n",
      "     55 1+a:1:1+a 1+a:1:1+a       2\n",
      "     56 1+a:a:0 1+a:a:0       2\n",
      "     57 1+a:a:1 1+a:a:1       2\n",
      "     58 1+a:a:a 1+a:a:a       2\n",
      "     59 1+a:a:1+a 1+a:a:1+a       2\n",
      "     60 1+a:1+a:0 1+a:1+a:0       2\n",
      "     61 1+a:1+a:1 1+a:1+a:1       2\n",
      "     62 1+a:1+a:a 1+a:1+a:a       2\n",
      "     63 1+a:1+a:1+a 1+a:1+a:1+a       2\n",
      "Group order is 64 > 12, so no further info calculated/printed.\n"
     ]
    }
   ],
   "source": [
    ">>> F4_3 = F4.power(3)\n",
    ">>> F4_3.about()"
   ]
  },
  {
   "cell_type": "code",
   "execution_count": 24,
   "id": "aac35530",
   "metadata": {},
   "outputs": [],
   "source": [
    ">>> op = make_dp_sv_op(F4)"
   ]
  },
  {
   "cell_type": "code",
   "execution_count": 25,
   "id": "93cb0f43",
   "metadata": {},
   "outputs": [
    {
     "data": {
      "text/plain": [
       "<VectorSpace:VS4_3D, ID:140711189573776, Scalars:F4, Vectors:F4_x_F4_x_F4>"
      ]
     },
     "execution_count": 25,
     "metadata": {},
     "output_type": "execute_result"
    }
   ],
   "source": [
    ">>> vs3 = make_finite_algebra('VS4_3D', '4 Element 3D Vector Space', F4, F4_3, op)\n",
    ">>> vs3"
   ]
  },
  {
   "cell_type": "markdown",
   "id": "6da7087c",
   "metadata": {},
   "source": [
    "Rather than checking each of the Module/VectorSpace conditions individually, they can be checked all at once using the function, ``check_module_conditions``.\n",
    "\n",
    "Also, ``check_module_conditions`` is automatically called by the Module and VectorSpace constructors.  If it fails, then the constructor will raise a ValueError exception."
   ]
  },
  {
   "cell_type": "code",
   "execution_count": 26,
   "id": "abf969f6",
   "metadata": {},
   "outputs": [
    {
     "name": "stdout",
     "output_type": "stream",
     "text": [
      "* Scaling by 1 OK? Yes\n",
      "* Distributivity of scalars over vector addition OK? Yes\n",
      "* Distributivity of vectors over scalar addition OK? Yes\n",
      "* Scaling by 1 OK? Yes\n"
     ]
    },
    {
     "data": {
      "text/plain": [
       "True"
      ]
     },
     "execution_count": 26,
     "metadata": {},
     "output_type": "execute_result"
    }
   ],
   "source": [
    ">>> check_module_conditions(F4, F4_3, op, verbose=True)"
   ]
  },
  {
   "cell_type": "markdown",
   "id": "20b4ff20",
   "metadata": {},
   "source": [
    "## Module based on a Ring"
   ]
  },
  {
   "cell_type": "markdown",
   "id": "d94a2a93",
   "metadata": {},
   "source": [
    "Another example, using the technique presented above, but this time with a Ring, instead of a Field."
   ]
  },
  {
   "cell_type": "code",
   "execution_count": 27,
   "id": "f93c4cd1",
   "metadata": {},
   "outputs": [
    {
     "name": "stdout",
     "output_type": "stream",
     "text": [
      "\n",
      "** Ring **\n",
      "Name: PSRing2\n",
      "Instance ID: 140710655312528\n",
      "Description: Autogenerated Ring on powerset of {0, 1} w/ symm. diff. (add) & intersection (mult)\n",
      "Order: 4\n",
      "Identity: {}\n",
      "Associative? Yes\n",
      "Commutative? Yes\n",
      "Cyclic?: No\n",
      "Elements:\n",
      "   Index   Name   Inverse  Order\n",
      "      0      {}      {}       1\n",
      "      1     {0}     {0}       2\n",
      "      2     {1}     {1}       2\n",
      "      3  {0, 1}  {0, 1}       2\n",
      "Cayley Table (showing indices):\n",
      "[[0, 1, 2, 3], [1, 0, 3, 2], [2, 3, 0, 1], [3, 2, 1, 0]]\n",
      "Mult. Identity: {0, 1}\n",
      "Mult. Commutative? Yes\n",
      "Zero Divisors: ['{0}', '{1}']\n",
      "Multiplicative Cayley Table (showing indices):\n",
      "[[0, 0, 0, 0], [0, 1, 0, 1], [0, 0, 2, 2], [0, 1, 2, 3]]\n"
     ]
    }
   ],
   "source": [
    ">>> psr2 = generate_powerset_ring(2)\n",
    ">>> psr2.about()"
   ]
  },
  {
   "cell_type": "code",
   "execution_count": 28,
   "id": "a0e8ff69",
   "metadata": {},
   "outputs": [
    {
     "name": "stdout",
     "output_type": "stream",
     "text": [
      "\n",
      "** Group **\n",
      "Name: PSRing2_x_PSRing2\n",
      "Instance ID: 140711189577808\n",
      "Description: Direct product of PSRing2 & PSRing2\n",
      "Order: 16\n",
      "Identity: {}:{}\n",
      "Associative? Yes\n",
      "Commutative? Yes\n",
      "Cyclic?: No\n",
      "Elements:\n",
      "   Index   Name   Inverse  Order\n",
      "      0   {}:{}   {}:{}       1\n",
      "      1  {}:{0}  {}:{0}       2\n",
      "      2  {}:{1}  {}:{1}       2\n",
      "      3 {}:{0, 1} {}:{0, 1}       2\n",
      "      4  {0}:{}  {0}:{}       2\n",
      "      5 {0}:{0} {0}:{0}       2\n",
      "      6 {0}:{1} {0}:{1}       2\n",
      "      7 {0}:{0, 1} {0}:{0, 1}       2\n",
      "      8  {1}:{}  {1}:{}       2\n",
      "      9 {1}:{0} {1}:{0}       2\n",
      "     10 {1}:{1} {1}:{1}       2\n",
      "     11 {1}:{0, 1} {1}:{0, 1}       2\n",
      "     12 {0, 1}:{} {0, 1}:{}       2\n",
      "     13 {0, 1}:{0} {0, 1}:{0}       2\n",
      "     14 {0, 1}:{1} {0, 1}:{1}       2\n",
      "     15 {0, 1}:{0, 1} {0, 1}:{0, 1}       2\n",
      "Group order is 16 > 12, so no further info calculated/printed.\n"
     ]
    }
   ],
   "source": [
    ">>> psr2_2 = psr2 * psr2\n",
    ">>> psr2_2.about()"
   ]
  },
  {
   "cell_type": "code",
   "execution_count": 29,
   "id": "70c251d9",
   "metadata": {},
   "outputs": [
    {
     "name": "stdout",
     "output_type": "stream",
     "text": [
      "\n",
      "Module: PSRmod\n",
      "Instance ID: 140711189637200\n",
      "Description: 2D Powerset Vector Space\n",
      "Order: 4\n",
      "\n",
      "SCALARS:\n",
      "\n",
      "** Ring **\n",
      "Name: PSRing2\n",
      "Instance ID: 140710655312528\n",
      "Description: Autogenerated Ring on powerset of {0, 1} w/ symm. diff. (add) & intersection (mult)\n",
      "Order: 4\n",
      "Identity: {}\n",
      "Associative? Yes\n",
      "Commutative? Yes\n",
      "Cyclic?: No\n",
      "Elements:\n",
      "   Index   Name   Inverse  Order\n",
      "      0      {}      {}       1\n",
      "      1     {0}     {0}       2\n",
      "      2     {1}     {1}       2\n",
      "      3  {0, 1}  {0, 1}       2\n",
      "Cayley Table (showing indices):\n",
      "[[0, 1, 2, 3], [1, 0, 3, 2], [2, 3, 0, 1], [3, 2, 1, 0]]\n",
      "Mult. Identity: {0, 1}\n",
      "Mult. Commutative? Yes\n",
      "Zero Divisors: ['{0}', '{1}']\n",
      "Multiplicative Cayley Table (showing indices):\n",
      "[[0, 0, 0, 0], [0, 1, 0, 1], [0, 0, 2, 2], [0, 1, 2, 3]]\n",
      "\n",
      "VECTORS:\n",
      "\n",
      "** Group **\n",
      "Name: PSRing2_x_PSRing2\n",
      "Instance ID: 140711189577808\n",
      "Description: Direct product of PSRing2 & PSRing2\n",
      "Order: 16\n",
      "Identity: {}:{}\n",
      "Associative? Yes\n",
      "Commutative? Yes\n",
      "Cyclic?: No\n",
      "Elements:\n",
      "   Index   Name   Inverse  Order\n",
      "      0   {}:{}   {}:{}       1\n",
      "      1  {}:{0}  {}:{0}       2\n",
      "      2  {}:{1}  {}:{1}       2\n",
      "      3 {}:{0, 1} {}:{0, 1}       2\n",
      "      4  {0}:{}  {0}:{}       2\n",
      "      5 {0}:{0} {0}:{0}       2\n",
      "      6 {0}:{1} {0}:{1}       2\n",
      "      7 {0}:{0, 1} {0}:{0, 1}       2\n",
      "      8  {1}:{}  {1}:{}       2\n",
      "      9 {1}:{0} {1}:{0}       2\n",
      "     10 {1}:{1} {1}:{1}       2\n",
      "     11 {1}:{0, 1} {1}:{0, 1}       2\n",
      "     12 {0, 1}:{} {0, 1}:{}       2\n",
      "     13 {0, 1}:{0} {0, 1}:{0}       2\n",
      "     14 {0, 1}:{1} {0, 1}:{1}       2\n",
      "     15 {0, 1}:{0, 1} {0, 1}:{0, 1}       2\n",
      "Cayley Table (showing indices):\n",
      "[[0, 1, 2, 3, 4, 5, 6, 7, 8, 9, 10, 11, 12, 13, 14, 15],\n",
      " [1, 0, 3, 2, 5, 4, 7, 6, 9, 8, 11, 10, 13, 12, 15, 14],\n",
      " [2, 3, 0, 1, 6, 7, 4, 5, 10, 11, 8, 9, 14, 15, 12, 13],\n",
      " [3, 2, 1, 0, 7, 6, 5, 4, 11, 10, 9, 8, 15, 14, 13, 12],\n",
      " [4, 5, 6, 7, 0, 1, 2, 3, 12, 13, 14, 15, 8, 9, 10, 11],\n",
      " [5, 4, 7, 6, 1, 0, 3, 2, 13, 12, 15, 14, 9, 8, 11, 10],\n",
      " [6, 7, 4, 5, 2, 3, 0, 1, 14, 15, 12, 13, 10, 11, 8, 9],\n",
      " [7, 6, 5, 4, 3, 2, 1, 0, 15, 14, 13, 12, 11, 10, 9, 8],\n",
      " [8, 9, 10, 11, 12, 13, 14, 15, 0, 1, 2, 3, 4, 5, 6, 7],\n",
      " [9, 8, 11, 10, 13, 12, 15, 14, 1, 0, 3, 2, 5, 4, 7, 6],\n",
      " [10, 11, 8, 9, 14, 15, 12, 13, 2, 3, 0, 1, 6, 7, 4, 5],\n",
      " [11, 10, 9, 8, 15, 14, 13, 12, 3, 2, 1, 0, 7, 6, 5, 4],\n",
      " [12, 13, 14, 15, 8, 9, 10, 11, 4, 5, 6, 7, 0, 1, 2, 3],\n",
      " [13, 12, 15, 14, 9, 8, 11, 10, 5, 4, 7, 6, 1, 0, 3, 2],\n",
      " [14, 15, 12, 13, 10, 11, 8, 9, 6, 7, 4, 5, 2, 3, 0, 1],\n",
      " [15, 14, 13, 12, 11, 10, 9, 8, 7, 6, 5, 4, 3, 2, 1, 0]]\n"
     ]
    }
   ],
   "source": [
    ">>> psr_op = make_dp_sv_op(psr2)\n",
    ">>> \n",
    ">>> psr_mod = make_finite_algebra(\"PSRmod\", \"2D Powerset Vector Space\", psr2, psr2_2, psr_op)\n",
    ">>> psr_mod.about(max_size=16)"
   ]
  },
  {
   "cell_type": "markdown",
   "id": "4642af05",
   "metadata": {},
   "source": [
    "## Wrapping it All Up in One Function"
   ]
  },
  {
   "cell_type": "markdown",
   "id": "0e9aa0fa",
   "metadata": {},
   "source": [
    "As mentioned at the beginning of this page, everything done above can be accomplished with a single function call to ``generate_n_dim_module``.\n",
    "\n",
    "Two inputs are required: a Field and an integer (number of dimensions)"
   ]
  },
  {
   "cell_type": "code",
   "execution_count": 30,
   "id": "c52c4ffa",
   "metadata": {},
   "outputs": [
    {
     "name": "stdout",
     "output_type": "stream",
     "text": [
      "\n",
      "VectorSpace: VS2-F4\n",
      "Instance ID: 140711189637392\n",
      "Description: 2-dimensional Vector Space over <Field:F4, ID:140710655367760>\n",
      "Order: 4\n",
      "\n",
      "SCALARS:\n",
      "\n",
      "** Field **\n",
      "Name: F4\n",
      "Instance ID: 140710655367760\n",
      "Description: Field with 4 elements (from Wikipedia)\n",
      "Order: 4\n",
      "Identity: 0\n",
      "Associative? Yes\n",
      "Commutative? Yes\n",
      "Cyclic?: Yes\n",
      "  Generators: ['1+a', 'a']\n",
      "Elements:\n",
      "   Index   Name   Inverse  Order\n",
      "      0       0       0       1\n",
      "      1       1       1       2\n",
      "      2       a       a       2\n",
      "      3     1+a     1+a       2\n",
      "Cayley Table (showing indices):\n",
      "[[0, 1, 2, 3], [1, 0, 3, 2], [2, 3, 0, 1], [3, 2, 1, 0]]\n",
      "Mult. Identity: 1\n",
      "Mult. Commutative? Yes\n",
      "Zero Divisors: None\n",
      "Multiplicative Cayley Table (showing indices):\n",
      "[[0, 0, 0, 0], [0, 1, 2, 3], [0, 2, 3, 1], [0, 3, 1, 2]]\n",
      "\n",
      "VECTORS:\n",
      "\n",
      "** Group **\n",
      "Name: F4_x_F4\n",
      "Instance ID: 140710655434384\n",
      "Description: Direct product of F4 & F4\n",
      "Order: 16\n",
      "Identity: 0:0\n",
      "Associative? Yes\n",
      "Commutative? Yes\n",
      "Cyclic?: No\n",
      "Elements:\n",
      "   Index   Name   Inverse  Order\n",
      "      0     0:0     0:0       1\n",
      "      1     0:1     0:1       2\n",
      "      2     0:a     0:a       2\n",
      "      3   0:1+a   0:1+a       2\n",
      "      4     1:0     1:0       2\n",
      "      5     1:1     1:1       2\n",
      "      6     1:a     1:a       2\n",
      "      7   1:1+a   1:1+a       2\n",
      "      8     a:0     a:0       2\n",
      "      9     a:1     a:1       2\n",
      "     10     a:a     a:a       2\n",
      "     11   a:1+a   a:1+a       2\n",
      "     12   1+a:0   1+a:0       2\n",
      "     13   1+a:1   1+a:1       2\n",
      "     14   1+a:a   1+a:a       2\n",
      "     15 1+a:1+a 1+a:1+a       2\n",
      "Cayley Table (showing indices):\n",
      "[[0, 1, 2, 3, 4, 5, 6, 7, 8, 9, 10, 11, 12, 13, 14, 15],\n",
      " [1, 0, 3, 2, 5, 4, 7, 6, 9, 8, 11, 10, 13, 12, 15, 14],\n",
      " [2, 3, 0, 1, 6, 7, 4, 5, 10, 11, 8, 9, 14, 15, 12, 13],\n",
      " [3, 2, 1, 0, 7, 6, 5, 4, 11, 10, 9, 8, 15, 14, 13, 12],\n",
      " [4, 5, 6, 7, 0, 1, 2, 3, 12, 13, 14, 15, 8, 9, 10, 11],\n",
      " [5, 4, 7, 6, 1, 0, 3, 2, 13, 12, 15, 14, 9, 8, 11, 10],\n",
      " [6, 7, 4, 5, 2, 3, 0, 1, 14, 15, 12, 13, 10, 11, 8, 9],\n",
      " [7, 6, 5, 4, 3, 2, 1, 0, 15, 14, 13, 12, 11, 10, 9, 8],\n",
      " [8, 9, 10, 11, 12, 13, 14, 15, 0, 1, 2, 3, 4, 5, 6, 7],\n",
      " [9, 8, 11, 10, 13, 12, 15, 14, 1, 0, 3, 2, 5, 4, 7, 6],\n",
      " [10, 11, 8, 9, 14, 15, 12, 13, 2, 3, 0, 1, 6, 7, 4, 5],\n",
      " [11, 10, 9, 8, 15, 14, 13, 12, 3, 2, 1, 0, 7, 6, 5, 4],\n",
      " [12, 13, 14, 15, 8, 9, 10, 11, 4, 5, 6, 7, 0, 1, 2, 3],\n",
      " [13, 12, 15, 14, 9, 8, 11, 10, 5, 4, 7, 6, 1, 0, 3, 2],\n",
      " [14, 15, 12, 13, 10, 11, 8, 9, 6, 7, 4, 5, 2, 3, 0, 1],\n",
      " [15, 14, 13, 12, 11, 10, 9, 8, 7, 6, 5, 4, 3, 2, 1, 0]]\n"
     ]
    }
   ],
   "source": [
    ">>> F4_2X = generate_n_dim_module(F4, 2)\n",
    ">>> F4_2X.about(max_size=16)"
   ]
  }
 ],
 "metadata": {
  "kernelspec": {
   "display_name": "Python 3",
   "language": "python",
   "name": "python3"
  },
  "language_info": {
   "codemirror_mode": {
    "name": "ipython",
    "version": 3
   },
   "file_extension": ".py",
   "mimetype": "text/x-python",
   "name": "python",
   "nbconvert_exporter": "python",
   "pygments_lexer": "ipython3",
   "version": "3.7.7"
  }
 },
 "nbformat": 4,
 "nbformat_minor": 5
}
