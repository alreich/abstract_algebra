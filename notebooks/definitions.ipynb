{
 "cells": [
  {
   "cell_type": "markdown",
   "id": "658a93e2",
   "metadata": {},
   "source": [
    "# Definitions"
   ]
  },
  {
   "cell_type": "markdown",
   "id": "744ca2db",
   "metadata": {},
   "source": [
    "The structure and properties of the class hierarchy of the ``finite_algebra`` module are based on the following definitions."
   ]
  },
  {
   "cell_type": "markdown",
   "id": "fdf4d69e",
   "metadata": {},
   "source": [
    "## Groups, Rings, Fields, etc."
   ]
  },
  {
   "cell_type": "markdown",
   "id": "6745a6b1",
   "metadata": {},
   "source": [
    "The following list of algebraic structures is ordered such that each successive structure builds on the previous one.  The class hierarchy of the ``finite_algebra`` module is modeled on this progression."
   ]
  },
  {
   "cell_type": "markdown",
   "id": "a08623f1",
   "metadata": {},
   "source": [
    "* **Magma** -- $\\langle S, \\circ \\rangle$, where $S$ is a set and $\\circ$ is a binary operation, $\\circ: S \\times S \\to S$\n",
    "\n",
    "* **Semigroup** -- an associative Magma:  $\\forall a,b,c \\in S \\Rightarrow a \\circ (b \\circ c) = (a \\circ b) \\circ c$\n",
    "\n",
    "* **Monoid** -- a Semigroup with identity element:  $\\exists e \\in S$, such that, for all $a \\in S, a \\circ e = e \\circ a = a$\n",
    "\n",
    "* **Group** -- a Monoid with inverse elements:  $\\forall a \\in S, \\exists a^{-1} \\in S$, such that, $a \\circ a^{-1} = a^{-1} \n",
    "\\circ a = e$\n",
    "\n",
    "* **Ring** -- $\\langle S, +, \\cdot \\rangle$, where $\\langle S, + \\rangle$ is an abelian$^\\dagger$ Group, $\\langle S, \\cdot \\rangle$ is a Semigroup, and $\\cdot$ distributes$^\\ddagger$ over $+$\n",
    "\n",
    "* **Field** -- a Ring $\\langle S, +, \\cdot \\rangle$, where $\\langle S\\setminus{\\{0\\}}, \\cdot \\rangle$ is an abelian Group$^{\\dagger\\dagger}$\n",
    "\n",
    "$^\\dagger$ An algebra is *abelian* (or *commutative*) for a binary operation, $\\circ$, if $a \\circ b = b \\circ a$ for all $a,b \\in S$.\n",
    "\n",
    "$^\\ddagger$ An operation, $\\cdot$, *distributes* over another operation, $+$, if $a \\cdot (b + c) = (a \\cdot b) + (a \\cdot c)$ for all $a,b,c \\in S$.\n",
    "\n",
    "$^{\\dagger\\dagger}S\\setminus{\\{0\\}}$ is the set $S$ with the additive identity element removed.\n",
    "\n",
    "**Note**: Although it is possible to have a *trivial Ring*, consisting of only the additive identity, $S = \\{0\\}$, it is not possible to have a *trivial Field*, because we can't define a Group over the empty set, $S\\setminus{\\{0\\}} = \\emptyset.$\n",
    "\n",
    "For **Magmas**, **Semigroups**, **Monoids**, and **Groups**, the binary operation is often referred to as \"*multiplication*\", but may sometimes be called \"*addition*\".  Also, the identity element may be denoted by $0$ or $1$, rather than $e$, depending on whether the operation is called *addition* or *multiplication*, resp.\n",
    "\n",
    "For **Rings** and **Fields**, the two operations, $+$ and $\\cdot$, are usually referred to as addition and multiplication, resp.  The identity element for $+$ is often denoted by $0$, and, if a multiplicative identity exists, $1$ for $\\cdot$.\n",
    "\n",
    "Regarding a **Ring's** Semigroup, $\\langle S, \\cdot \\rangle$:\n",
    "\n",
    "* if the Semigroup is abelian, then the Ring is called a \"*commutative Ring*\"\n",
    "* if the Semigroup is actually a Monoid (i.e., has an identity element), then the Ring is called a \"*unit Ring*\" or \"*Ring with identity*\"\n",
    "\n",
    "For examples, see the sections **\"Groups, Monoids, Semigroups, & Magmas\"** and **\"Rings and Fields\"**."
   ]
  },
  {
   "cell_type": "markdown",
   "id": "9e7cf8da",
   "metadata": {},
   "source": [
    "Before proceeding, we'll briefly discuss a motivation for the definition of a Group."
   ]
  },
  {
   "cell_type": "markdown",
   "id": "ef0d5243",
   "metadata": {},
   "source": [
    "### Group Definition Motivation"
   ]
  },
  {
   "cell_type": "markdown",
   "id": "e1ec64ae",
   "metadata": {},
   "source": [
    "In a nutshell, the definition of a Group, $G=\\langle S, \\circ \\rangle$, consists of the minimum set of properties required to methodically solve equations involving the Group's elements and its binary operation.\n",
    "\n",
    "To see this, let $\\boxed{a \\circ x = b}$ be an equation made up of elements $a,b,x \\in S$.\n",
    "\n",
    "Consider the assumptions required to solve the equation for $x$:\n",
    "\n",
    "* First, assume the group's <b>binary operation is closed</b>; that is, $a, b \\in S \\Rightarrow a \\circ b \\in S$\n",
    "* Assume <b>every element has an inverse</b>; so, multiplying $a^{-1}$ on both sides yields $a^{-1} \\circ (a \\circ x) = a^{-1} \\circ b$\n",
    "* Assume <b>the group is associative</b>; therefore $(a^{-1} \\circ a) \\circ x = a^{-1} \\circ b$\n",
    "* Assume <b>the group has an identity element</b>, $e$; therefore $e \\circ x = a^{-1} \\circ b$\n",
    "* And finally, since $e$ is an identity element, $e \\circ x = x \\Rightarrow \\boxed{x = a^{-1} \\circ b}$\n",
    "\n",
    "The assumptions made above are precisely those that make up the definition of a Group.\n",
    "\n",
    "Note that <b>cummutativity</b> was <b>not necessary</b> to solve the equation, and so it is not required of a Group."
   ]
  },
  {
   "cell_type": "markdown",
   "id": "f1f4173e",
   "metadata": {},
   "source": [
    "## Vector Spaces and Modules"
   ]
  },
  {
   "cell_type": "markdown",
   "id": "bec61e01",
   "metadata": {},
   "source": [
    "Each type of algebra, described above, has only one set of elements. Vector Space and Modules, however, are hybrids of two algebras, each with their own set of elements, called *scalars* and *vectors*. In many algebra texts, the notation used to describe *multiplication* (or *addition*) in one component algebra is the same as the notation used for the other component algebra. Readers are expected to know that the two implicitely refer to different operations. For a computer program, however, the difference in operators must be made explicit.  For that reason, care is taken in the definitions below to not conflate the scalar-scalar, vector-vector, and scalar-vector operations."
   ]
  },
  {
   "cell_type": "markdown",
   "id": "d8b77bcf",
   "metadata": {},
   "source": [
    "A **Vector Space**, $\\mathscr{V} = \\langle G, F, \\circ \\rangle$, consists of the following:\n",
    "\n",
    "* an **abelian Group**, $G = \\langle V, \\oplus \\rangle$ (i.e., the *\"vectors\"*)\n",
    "* a **field**, $F = \\langle S, +, \\cdot \\rangle$ (i.e., the *\"scalars\"*)\n",
    "* and a **binary operator**, $\\circ : S \\times V \\to V$\n",
    "\n",
    "where the following conditions hold:\n",
    "\n",
    "1. Scaled Vectors: For all $s \\in S$ and $v \\in V \\Rightarrow s \\circ v \\in V$\n",
    "1. Scaling by One: If $1 \\in S$ is the multiplicative identity element of $F$, then $1 \\circ v = v$\n",
    "1. Distributivity of Scalars Over Vector Addition: $s \\circ (v_1 \\oplus v_2) = (s \\circ v_1) \\oplus (s \\circ v_2)$\n",
    "1. Distributivity of Vectors Over Scalar Addition: $(s_1 + s_2) \\circ v = (s_1 \\circ v) \\oplus (s_2 \\circ v)$\n",
    "1. Scalar-Vector Associativity: $s_1 \\circ (s_2 \\circ v) = (s_1 \\cdot s_2) \\circ v$"
   ]
  },
  {
   "cell_type": "markdown",
   "id": "9635af32",
   "metadata": {},
   "source": [
    "A **Module**, $\\mathscr{M} = \\langle G, R, \\circ \\rangle$, has the same conditions as a Vector Space, except that the Field is replaced by a **Ring**, $R$.\n",
    "\n",
    "For examples, see the section **\"Vector Spaces and Modules\"**."
   ]
  },
  {
   "cell_type": "markdown",
   "id": "f1047900",
   "metadata": {},
   "source": [
    "## Class Hierarchy"
   ]
  },
  {
   "cell_type": "markdown",
   "id": "de9431d6",
   "metadata": {},
   "source": [
    "![Abstract Algebra Class Hierarchy](../docs/_static/class_hierarchy_sm_v2.png)"
   ]
  },
  {
   "cell_type": "markdown",
   "id": "d0275f74",
   "metadata": {},
   "source": [
    "Note that, a Field is also a Ring, and a Group, and a Monoid, and so on, since the hierarchy of subclasses of a ``SingleElementSetAlgebra`` extend from each other, as shown above. A similar situation holds for a ``MultipleElementSetAlgebra``: a VectorSpace is a Module. And, since inheritance \"flows\" against the arrows of the figure above, a method that may be usually associated with a particular class might actually be defined in its parent class, or one of its ancestor classes.\n",
    "\n",
    "For example, the method, ``is_commutative``, answers a question we often ask of Groups, but to answer it only requires that there be a binary operation that can be used to check it.  So, ``is_commutative`` is defined for Magma. But, since Magma methods and properties are inherited by all classes that extend from Magma (from Semigroup to Field), ``is_commutative`` applies to them also.  Similar for ``is_associative``, ``identity``, ``inv``, ``center``, ``isomorphic``, etc.\n",
    "\n",
    "Another example is given by *units*, which are usually associated with Rings. But the only property an algebra requires to be able to identify *units*, is that of having an identity element.  Identity elements first appear in the class hierarchy in Monoids, so the method, ``units``, is defined for Monoids, and then inherits down through its subclasses. That is, units can be identified for Monoids, Groups, Rings, and Fields.  Of course, the concept of units is not that interesting for Groups, since every element of a Group is a unit, but they are interesting in Monoids, and, under multiplication, in Rings.  The ``unit`` method for Rings applies only to the multiplicative operation and multiplicative identity element, if it exists."
   ]
  },
  {
   "cell_type": "markdown",
   "id": "e54d6055",
   "metadata": {},
   "source": [
    "## Direct Products"
   ]
  },
  {
   "cell_type": "markdown",
   "id": "7fdea110-4108-41c3-b46a-cc3dce59ee64",
   "metadata": {},
   "source": [
    "This section provides the usual definition of a direct product for Magmas through Fields, plus an alternative definition for Rings & Fields, referred to here as \"squaring\" the Ring or Field. By squaring a field, of the right order, one can obtain another field, unlike taking a direct product of a field with itself, which always yields a ring. More on this below in the subsection, \"Squaring a Field to Obtain a Field\".\n",
    "\n",
    "Like Vector Spaces, Direct Products involve the combination of possibly different algebras, with different sets of elements and different binary operations. As previously noted, in many algebra texts, the notation used to describe multiplication (or addition) in one component algebra is the same as the notation used for the other component algebra. Readers are expected to know that the two implicitely refer to different operations. For a computer program, however, the difference in operators must be made explicit. For that reason, care is taken in the definitions below to not conflate the operations.\n",
    "\n",
    "If $G = \\langle S, + \\rangle$ and $H = \\langle T, \\oplus \\rangle$ are two Groups, then their **direct product**, denoted by $G \\times H$, is also a Group, where\n",
    "\n",
    "* $G \\times H \\equiv \\langle U, \\bullet \\rangle$\n",
    "* $U = \\{(g,h): g \\in S, h \\in T\\}$\n",
    "* $(g, h) \\bullet (g', h') = (g + g', h \\oplus h')$ for all $(g, h), (g', h') \\in U$\n",
    "\n",
    "If $R_1 = \\langle S, +, \\cdot \\rangle$ and $R_2 = \\langle T, \\oplus, \\odot \\rangle$ are two Rings, then their **direct product**, denoted by $R_1 \\times R_2$, is also a Ring, where\n",
    "\n",
    "* $R_1 \\times R_2 \\equiv \\langle U, \\circ, \\bullet \\rangle$\n",
    "* $U = \\{(s, t): s \\in S, t \\in T\\}$\n",
    "* $(s, t) \\circ (s', t') = (s + s', t \\oplus t')$, for all $(s, t), (s', t') \\in U$\n",
    "* $(s, t) \\bullet (s', t') = (s \\cdot s', t \\odot t')$\n",
    "\n",
    "Since the only requirement needed to form a direct product is that there be two *algebras*, each with its own set of elements and binary operation(s), the direct product definition works for any ``SingleElementSetAlgebra`` (Magma through Field).  So, if ``G`` and ``H`` are two *SingleElementSetAlgebras*, then their direct product can be obtained by multiplying the two objects using Python's multiplication operator, ``G * H``."
   ]
  },
  {
   "cell_type": "markdown",
   "id": "53d9349b",
   "metadata": {},
   "source": [
    "### Squaring the Ring\n",
    "(pun intended)\n",
    "\n",
    "An opportunity to define an alternative type of direct product presents itself when we consider the direct product of a ring, $R = \\langle S, +, \\cdot \\rangle$, with itself, which will be denoted here as $R^2$. In this case,  addition is defined the same as for the usual direct product, but multiplication is defined to be similar to that used for complex numbers, as shown below:\n",
    "\n",
    "* $R^2 \\equiv \\langle V, \\circ, \\otimes \\rangle$\n",
    "* $V = \\{(s, t): s, t \\in S\\}$\n",
    "* $(s, t) \\circ (s', t') = (s + s', t + t')$, for all $(s, t), (s', t') \\in V$\n",
    "* $(s, t) \\otimes (s', t') = (s \\cdot s' - t \\cdot t', s \\cdot t' + s' \\cdot t)$, where, of course, \"$-$\" denotes addition by the additive inverse\n",
    "\n",
    "``Ring`` and ``Field`` objects in ``finite_algebras`` can be squared using the Ring method, ``sqr()``.\n",
    "\n",
    "### Squaring a Field to Obtain a Field\n",
    "\n",
    "Where the definition of squaring a Ring, above, gets interesting though, is when we square a finite Field, $F_n$. ${F_n}^2$ won't always be a Ring; sometimes it will be a Field. Specifically, ${F_n}^2$ will be a field if $n$ is a **Gaussian prime**, that is, a prime number of the form, $n=4k+3$, (e.g., $3, 7, 11, 19, 23, 31, 43, ...$). Otherwise, ${F_n}^2$ will be a Ring."
   ]
  },
  {
   "cell_type": "markdown",
   "id": "4305dc42",
   "metadata": {},
   "source": [
    "## Properties of Algebras"
   ]
  },
  {
   "cell_type": "markdown",
   "id": "c55cf7ac",
   "metadata": {},
   "source": [
    "This section provides definitions of related algebraic structures and properties."
   ]
  },
  {
   "cell_type": "markdown",
   "id": "f7aba370",
   "metadata": {},
   "source": [
    "### Center"
   ]
  },
  {
   "cell_type": "markdown",
   "id": "4bcd2ad3",
   "metadata": {},
   "source": [
    "The **center** of an algebra is usually defined for Groups, however since the definition only requires a set and a binary operation, it has been extended here to apply to Magmas, and so applies to all *SingleElementSetAlgebras*.\n",
    "\n",
    "The **center** of a Magma is the subset of elements of the Magma that commute with every element in the Magma.\n",
    "\n",
    "That is, $C \\subseteq S$ is the center of the Magma, $\\langle S, \\circ \\rangle$, if $c \\in C \\Rightarrow \\forall x \\in S, c \\circ x = x \\circ c.$ (see Pinter's book, chapter 5, exercise D3)\n",
    "\n",
    "Note also, the center of a commutative algebra is the entire algebra.  The gist of Pinter's exercise is that, for Groups, the center is closed and hence defines a subgroup.  The proof of this follows easily from associativity and the commutative property of center elements, so it will also be true for Semigroups, but not necessarily true for Magmas.\n",
    "\n",
    "There are two Magma methods related to the center:\n",
    "\n",
    "* ``center`` returns the center of a Magma, or it returns an empty list if the center is empty\n",
    "* ``center_algebra`` returns the algebra defined by the center, if the center exists and is closed, otherwise it returns ``None``."
   ]
  },
  {
   "cell_type": "markdown",
   "id": "36ac06b8",
   "metadata": {},
   "source": [
    "### Commutators"
   ]
  },
  {
   "cell_type": "markdown",
   "id": "f6a7741d",
   "metadata": {},
   "source": [
    "Let $G = \\langle S, \\circ \\rangle$ be a Group, then for any pair of elements, $a, b \\in S$, the product, $a \\circ b \\circ a^{-1} \\circ b^{-1}$, denoted $[a,b]$, is called a **commutator** of the Group.\n",
    "\n",
    "Note that $a \\circ b \\circ a^{-1} \\circ b^{-1} = e$ if and only if $ab = ba$. The following quote helps explain the motivation behind the definition of commutators:\n",
    "\n",
    "> <i>\"Thus, in an abelian group all the commutators are equal to e. In a group which is not abelian, the\n",
    "number of distinct commutators may be regarded as a measure of the extent to which G departs from being\n",
    "commutative. (The fewer the commutators, the closer the group is to being an abelian group.)\"</i> -- [Pinter 1982]\n",
    "\n",
    "If $G$ is abelian, then the identity element, $e$, is the only commutator in $G$, because $[a,b] = e$ for all possible $a,b \\in S$.\n",
    "\n",
    "So, if $G$ is non-abelian, then for some $a,b \\in S$, we have $[a,b] = c \\ne e$.\n",
    "\n",
    "The set of all commutators of a Group is a subgroup, and is called the **Commutator Subgroup**.\n",
    "\n",
    "The following methods exist for ``Group`` instances:\n",
    "\n",
    "* ``commutator``, for two elements, $a,b$, this method will return $[a,b]$\n",
    "* ``commutators``, will return a list of all the commutators of a Group\n",
    "* ``commutator_subalgebra``, will return the commutator subgroup of a Group\n",
    "\n",
    "For a Ring, $R = \\langle S, +, \\cdot \\rangle$, the elements under addition, $\\langle S, + \\rangle$ are, by definition, an abelian Group, so commutators for a Ring's elements are defined using multiplication instead.  But, $\\langle S, \\cdot \\rangle$ is a Semigroup, or at best, a Monoid, which means that we can't use inverses in the definition of a Ring's commutator.  Consequently, **Ring commutators** are defined to be elements of the form, $(a \\cdot b) - (b \\cdot a)$, and are also denoted by $[a, b]$.\n",
    "\n",
    "The Ring methods, ``commutator``, ``commutators``, and ``commutator_subalgebra``, use the Ring definition of a commutator.\n",
    "\n",
    "There is currently no method to produce a *commutator subring*.  (See Eroǧlu, Münevver Pınar. “On the subring generated by commutators.” Journal of Algebra and Its Applications (2020): 2250059.)"
   ]
  },
  {
   "cell_type": "markdown",
   "id": "11bda406",
   "metadata": {},
   "source": [
    "### Units of a Ring"
   ]
  },
  {
   "cell_type": "markdown",
   "id": "97dce1fe",
   "metadata": {},
   "source": [
    "Let $R = \\langle S, +, \\cdot \\rangle$ be a *Ring with identity* (or *Unit Ring*),\n",
    "\n",
    "then $x \\in S$ is a **unit** if $x \\cdot y = 1$ and $y \\cdot x = 1$ for some $y \\in S$.\n",
    "\n",
    "The set of all units of $R$ are denoted by $S^\\times$ and form an abelian Group under multiplication, $R^\\times = \\langle S^\\times, \\cdot \\rangle$, called the **Units Subgroup** of $R$.\n",
    "\n",
    "The method, ``units``, will return the units of a Ring as a list of element names, or optionally, element indices.  And, since the only requirement for an algebra to have units is that it have an identity element, the ``units`` method also works for Monoids.\n",
    "\n",
    "The method, ``units_subgroup``, will return the units subgroup of a Ring (or Monoid)."
   ]
  },
  {
   "cell_type": "markdown",
   "id": "fa174ca3",
   "metadata": {},
   "source": [
    "### Division Algebra"
   ]
  },
  {
   "cell_type": "markdown",
   "id": "fe4c5d1b",
   "metadata": {},
   "source": [
    "**[NOTE: Need good references for divisibility and cancellation]**"
   ]
  },
  {
   "cell_type": "markdown",
   "id": "a5ac4579",
   "metadata": {},
   "source": [
    "A Magma, $M = \\langle S, \\circ \\rangle$ is a **division Algebra** if $\\forall a,b \\in S, \\exists x,y \\in S$ such that $a \\circ x = b$ and $y \\circ a = b$.\n",
    "\n",
    "This property is trivially true for Groups.\n",
    "\n",
    "The Magma method, ``is_division_algebra``, tests for this property."
   ]
  },
  {
   "cell_type": "markdown",
   "id": "ff1ca224",
   "metadata": {},
   "source": [
    "### Regularity in Semigroups"
   ]
  },
  {
   "cell_type": "markdown",
   "id": "2a87c3fd",
   "metadata": {},
   "source": [
    "A Semigroup, $\\langle S, \\circ \\rangle$ is **regular** if for each $a \\in S, \\exists \\bar{a} \\in S$ such that $a \\circ \\bar{a} \\circ a = a$.\n",
    "\n",
    "The element $\\bar{a}$ is called a **weak inverse** of $a$.  A weak inverse may not exist or there may be more than one for any particular element. If the algebra is regular, then there will be at least 1 weak inverse for each element, otherwise some elements may not have a weak inverse.\n",
    "\n",
    "See the paper, [\"Why Study Semigroups\" by John M. Howie](http://www.thebookshelf.auckland.ac.nz/docs/Maths/PDF2/mathschron016-001.pdf)\n",
    "\n",
    "Here are some Semigroup methods related to regularity:\n",
    "\n",
    "* ``is_regular`` returns True or False, depending on whether the Semigroup is regular\n",
    "* ``weak_inverses`` returns a dictionary of weak inverses, where each key is one of the algebra's elements and its value is a list of its weak inverses."
   ]
  }
 ],
 "metadata": {
  "kernelspec": {
   "display_name": "Python 3 (ipykernel)",
   "language": "python",
   "name": "python3"
  },
  "language_info": {
   "codemirror_mode": {
    "name": "ipython",
    "version": 3
   },
   "file_extension": ".py",
   "mimetype": "text/x-python",
   "name": "python",
   "nbconvert_exporter": "python",
   "pygments_lexer": "ipython3",
   "version": "3.11.5"
  }
 },
 "nbformat": 4,
 "nbformat_minor": 5
}
