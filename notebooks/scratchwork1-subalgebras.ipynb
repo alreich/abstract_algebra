{
 "cells": [
  {
   "cell_type": "markdown",
   "id": "074c6829",
   "metadata": {},
   "source": [
    "# Scratchwork 1 - Subalgebras"
   ]
  },
  {
   "cell_type": "code",
   "execution_count": 1,
   "id": "af2f62c1",
   "metadata": {},
   "outputs": [],
   "source": [
    "from finite_algebras import *\n",
    "from cayley_table import *\n",
    "from permutations import *"
   ]
  },
  {
   "cell_type": "code",
   "execution_count": 2,
   "id": "46ea7620",
   "metadata": {},
   "outputs": [],
   "source": [
    "import os\n",
    "aa_path = os.path.join(os.getenv(\"PYPROJ\"), \"abstract_algebra\")\n",
    "alg_dir = os.path.join(aa_path, \"Algebras\")"
   ]
  },
  {
   "cell_type": "code",
   "execution_count": 3,
   "id": "6938d58b",
   "metadata": {},
   "outputs": [
    {
     "name": "stdout",
     "output_type": "stream",
     "text": [
      "======================================================================\n",
      "                           Example Algebras\n",
      "----------------------------------------------------------------------\n",
      "  16 example algebras are available.\n",
      "  Use \"Examples[INDEX]\" to retrieve a specific example,\n",
      "  where INDEX is the first number on each line below:\n",
      "----------------------------------------------------------------------\n",
      "0: A4 -- Alternating group on 4 letters (AKA Tetrahedral group)\n",
      "1: D3 -- https://en.wikipedia.org/wiki/Dihedral_group_of_order_6\n",
      "2: D4 -- Dihedral group on four vertices\n",
      "3: Pinter29 -- Non-abelian group, p.29, 'A Book of Abstract Algebra' by Charles C. Pinter\n",
      "4: RPS -- Rock, Paper, Scissors Magma\n",
      "5: S3 -- Symmetric group on 3 letters\n",
      "6: S3X -- Another version of the symmetric group on 3 letters\n",
      "7: V4 -- Klein-4 group\n",
      "8: Z4 -- Cyclic group of order 4\n",
      "9: F4 -- Field with 4 elements (from Wikipedia)\n",
      "10: mag_id -- Magma with Identity\n",
      "11: Example 1.4.1 -- See: Groupoids and Smarandache Groupoids by W. B. Vasantha Kandasamy\n",
      "12: Ex6 -- Example 6: http://www-groups.mcs.st-andrews.ac.uk/~john/MT4517/Lectures/L3.html\n",
      "13: Q8 -- Quaternion Group\n",
      "14: SD16 -- Semidihedral group of order 16\n",
      "15: A5 -- Alternating group on 5 letters\n",
      "======================================================================\n"
     ]
    }
   ],
   "source": [
    "ex = Examples(alg_dir)"
   ]
  },
  {
   "cell_type": "markdown",
   "id": "20b95a92",
   "metadata": {},
   "source": [
    "## Subalgebras of a Semigroup"
   ]
  },
  {
   "cell_type": "code",
   "execution_count": 4,
   "id": "1fa7c235",
   "metadata": {},
   "outputs": [
    {
     "name": "stdout",
     "output_type": "stream",
     "text": [
      "\n",
      "** Semigroup **\n",
      "Name: Example 1.4.1\n",
      "Instance ID: 140438861652048\n",
      "Description: See: Groupoids and Smarandache Groupoids by W. B. Vasantha Kandasamy\n",
      "Order: 6\n",
      "Identity: None\n",
      "Associative? Yes\n",
      "Commutative? No\n",
      "Cyclic?: No\n",
      "Elements: ['a', 'b', 'c', 'd', 'e', 'f']\n",
      "Has Inverses? No\n",
      "Cayley Table (showing indices):\n",
      "[[0, 3, 0, 3, 0, 3],\n",
      " [1, 4, 1, 4, 1, 4],\n",
      " [2, 5, 2, 5, 2, 5],\n",
      " [3, 0, 3, 0, 3, 0],\n",
      " [4, 1, 4, 1, 4, 1],\n",
      " [5, 2, 5, 2, 5, 2]]\n"
     ]
    }
   ],
   "source": [
    "sg = ex[11]\n",
    "sg.about()"
   ]
  },
  {
   "cell_type": "code",
   "execution_count": 5,
   "id": "2b6d557d",
   "metadata": {},
   "outputs": [
    {
     "name": "stdout",
     "output_type": "stream",
     "text": [
      "\n",
      "Subalgebras of <Semigroup:Example 1.4.1, ID:140438861652048>\n",
      "  There are 4 unique proper subalgebras, up to isomorphism, out of 10 total subalgebras.\n",
      "  as shown by the partitions below:\n",
      "\n",
      "3 Isomorphic Commutative Groups of order 2:\n",
      "      Group: Example 1.4.1_subalgebra_0: ['b', 'e'] with identity 'e'\n",
      "      Group: Example 1.4.1_subalgebra_1: ['c', 'f'] with identity 'c'\n",
      "      Group: Example 1.4.1_subalgebra_4: ['a', 'd'] with identity 'a'\n",
      "\n",
      "1 Semigroup of order 3:\n",
      "      Semigroup: Example 1.4.1_subalgebra_2: ['a', 'c', 'e']\n",
      "\n",
      "3 Isomorphic Semigroups of order 4:\n",
      "      Semigroup: Example 1.4.1_subalgebra_3: ['a', 'b', 'd', 'e']\n",
      "      Semigroup: Example 1.4.1_subalgebra_5: ['b', 'c', 'e', 'f']\n",
      "      Semigroup: Example 1.4.1_subalgebra_9: ['a', 'c', 'd', 'f']\n",
      "\n",
      "3 Isomorphic Semigroups of order 2:\n",
      "      Semigroup: Example 1.4.1_subalgebra_6: ['a', 'e']\n",
      "      Semigroup: Example 1.4.1_subalgebra_7: ['a', 'c']\n",
      "      Semigroup: Example 1.4.1_subalgebra_8: ['c', 'e']\n",
      "\n"
     ]
    }
   ],
   "source": [
    "alg = sg\n",
    "alg_subs = alg.proper_subalgebras()\n",
    "partitions = partition_into_isomorphic_lists(alg_subs)\n",
    "about_isomorphic_partitions(sg, partitions)"
   ]
  },
  {
   "cell_type": "markdown",
   "id": "48a6290d",
   "metadata": {},
   "source": [
    "### A closer look at the commutative Groups"
   ]
  },
  {
   "cell_type": "code",
   "execution_count": 6,
   "id": "83ebea88",
   "metadata": {},
   "outputs": [
    {
     "name": "stdout",
     "output_type": "stream",
     "text": [
      "\n",
      "** Group **\n",
      "Name: Example 1.4.1_subalgebra_0\n",
      "Instance ID: 140438861652688\n",
      "Description: Subalgebra of: See: Groupoids and Smarandache Groupoids by W. B. Vasantha Kandasamy\n",
      "Order: 2\n",
      "Identity: e\n",
      "Associative? Yes\n",
      "Commutative? Yes\n",
      "Cyclic?: Yes\n",
      "  Generators: ['b']\n",
      "Elements:\n",
      "   Index   Name   Inverse  Order\n",
      "      0       b       b       2\n",
      "      1       e       e       1\n",
      "Cayley Table (showing names):\n",
      "[['e', 'b'], ['b', 'e']]\n"
     ]
    }
   ],
   "source": [
    "alg_subs[0].about(use_table_names=True)"
   ]
  },
  {
   "cell_type": "code",
   "execution_count": 7,
   "id": "b79475ed",
   "metadata": {},
   "outputs": [
    {
     "name": "stdout",
     "output_type": "stream",
     "text": [
      "\n",
      "** Group **\n",
      "Name: Example 1.4.1_subalgebra_1\n",
      "Instance ID: 140438861623184\n",
      "Description: Subalgebra of: See: Groupoids and Smarandache Groupoids by W. B. Vasantha Kandasamy\n",
      "Order: 2\n",
      "Identity: c\n",
      "Associative? Yes\n",
      "Commutative? Yes\n",
      "Cyclic?: Yes\n",
      "  Generators: ['f']\n",
      "Elements:\n",
      "   Index   Name   Inverse  Order\n",
      "      0       c       c       1\n",
      "      1       f       f       2\n",
      "Cayley Table (showing names):\n",
      "[['c', 'f'], ['f', 'c']]\n"
     ]
    }
   ],
   "source": [
    "alg_subs[1].about(use_table_names=True)"
   ]
  },
  {
   "cell_type": "code",
   "execution_count": 9,
   "id": "3c137e59",
   "metadata": {},
   "outputs": [
    {
     "name": "stdout",
     "output_type": "stream",
     "text": [
      "\n",
      "** Group **\n",
      "Name: Example 1.4.1_subalgebra_4\n",
      "Instance ID: 140438861587920\n",
      "Description: Subalgebra of: See: Groupoids and Smarandache Groupoids by W. B. Vasantha Kandasamy\n",
      "Order: 2\n",
      "Identity: a\n",
      "Associative? Yes\n",
      "Commutative? Yes\n",
      "Cyclic?: Yes\n",
      "  Generators: ['d']\n",
      "Elements:\n",
      "   Index   Name   Inverse  Order\n",
      "      0       a       a       1\n",
      "      1       d       d       2\n",
      "Cayley Table (showing names):\n",
      "[['a', 'd'], ['d', 'a']]\n"
     ]
    }
   ],
   "source": [
    "alg_subs[4].about(use_table_names=True)"
   ]
  },
  {
   "cell_type": "markdown",
   "id": "d2c16a41",
   "metadata": {},
   "source": [
    "## Subgroups of an Alternating Group"
   ]
  },
  {
   "cell_type": "code",
   "execution_count": 10,
   "id": "c34d2556",
   "metadata": {},
   "outputs": [
    {
     "name": "stdout",
     "output_type": "stream",
     "text": [
      "\n",
      "** Group **\n",
      "Name: A4\n",
      "Instance ID: 140438861589264\n",
      "Description: Alternating group on 4 letters (AKA Tetrahedral group)\n",
      "Order: 12\n",
      "Identity: ()\n",
      "Associative? Yes\n",
      "Commutative? No\n",
      "Cyclic?: No\n",
      "Elements:\n",
      "   Index   Name   Inverse  Order\n",
      "      0      ()      ()       1\n",
      "      1 (1 3 2) (1 2 3)       3\n",
      "      2 (1 2 3) (1 3 2)       3\n",
      "      3 (0 1)(2 3) (0 1)(2 3)       2\n",
      "      4 (0 1 2) (0 2 1)       3\n",
      "      5 (0 1 3) (0 3 1)       3\n",
      "      6 (0 3 1) (0 1 3)       3\n",
      "      7 (0 3 2) (0 2 3)       3\n",
      "      8 (0 3)(1 2) (0 3)(1 2)       2\n",
      "      9 (0 2 3) (0 3 2)       3\n",
      "     10 (0 2 1) (0 1 2)       3\n",
      "     11 (0 2)(1 3) (0 2)(1 3)       2\n",
      "Cayley Table (showing indices):\n",
      "[[0, 1, 2, 3, 4, 5, 6, 7, 8, 9, 10, 11],\n",
      " [1, 2, 0, 6, 7, 8, 10, 11, 9, 5, 3, 4],\n",
      " [2, 0, 1, 10, 11, 9, 3, 4, 5, 8, 6, 7],\n",
      " [3, 4, 5, 0, 1, 2, 9, 10, 11, 6, 7, 8],\n",
      " [4, 5, 3, 9, 10, 11, 7, 8, 6, 2, 0, 1],\n",
      " [5, 3, 4, 7, 8, 6, 0, 1, 2, 11, 9, 10],\n",
      " [6, 7, 8, 1, 2, 0, 5, 3, 4, 10, 11, 9],\n",
      " [7, 8, 6, 5, 3, 4, 11, 9, 10, 0, 1, 2],\n",
      " [8, 6, 7, 11, 9, 10, 1, 2, 0, 4, 5, 3],\n",
      " [9, 10, 11, 4, 5, 3, 2, 0, 1, 7, 8, 6],\n",
      " [10, 11, 9, 2, 0, 1, 8, 6, 7, 3, 4, 5],\n",
      " [11, 9, 10, 8, 6, 7, 4, 5, 3, 1, 2, 0]]\n"
     ]
    }
   ],
   "source": [
    "a4 = ex[0]\n",
    "a4.about()"
   ]
  },
  {
   "cell_type": "code",
   "execution_count": 11,
   "id": "4da6142c",
   "metadata": {},
   "outputs": [
    {
     "name": "stdout",
     "output_type": "stream",
     "text": [
      "\n",
      "Subalgebras of <Group:A4, ID:140438861589264>\n",
      "  There are 3 unique proper subalgebras, up to isomorphism, out of 8 total subalgebras.\n",
      "  as shown by the partitions below:\n",
      "\n",
      "3 Isomorphic Commutative Groups of order 2 with identity '()':\n",
      "      Group: A4_subalgebra_0: ['()', '(0 1)(2 3)']\n",
      "      Group: A4_subalgebra_3: ['()', '(0 3)(1 2)']\n",
      "      Group: A4_subalgebra_4: ['()', '(0 2)(1 3)']\n",
      "\n",
      "4 Isomorphic Commutative Groups of order 3 with identity '()':\n",
      "      Group: A4_subalgebra_1: ['()', '(1 3 2)', '(1 2 3)']\n",
      "      Group: A4_subalgebra_5: ['()', '(0 1 2)', '(0 2 1)']\n",
      "      Group: A4_subalgebra_6: ['()', '(0 1 3)', '(0 3 1)']\n",
      "      Group: A4_subalgebra_7: ['()', '(0 3 2)', '(0 2 3)']\n",
      "\n",
      "1 Commutative Normal Group of order 4 with identity '()':\n",
      "      Group: A4_subalgebra_2: ['()', '(0 1)(2 3)', '(0 3)(1 2)', '(0 2)(1 3)']\n",
      "\n"
     ]
    }
   ],
   "source": [
    "alg = a4\n",
    "alg_subs = alg.proper_subalgebras(divisors_only=False, include_inverses=False)\n",
    "partitions = partition_into_isomorphic_lists(alg_subs)\n",
    "about_isomorphic_partitions(alg, partitions)"
   ]
  },
  {
   "cell_type": "markdown",
   "id": "cc78a545",
   "metadata": {},
   "source": [
    "**NOTE**: The single commutative normal (sub)group, above, is actually the **commutator subgroup** of A4, as shown by the derivation below:"
   ]
  },
  {
   "cell_type": "code",
   "execution_count": 13,
   "id": "a5ecad0b",
   "metadata": {},
   "outputs": [
    {
     "data": {
      "text/plain": [
       "Group(\n",
       "'A4_CG',\n",
       "'A4 commutator subgroup',\n",
       "['()', '(0 1)(2 3)', '(0 3)(1 2)', '(0 2)(1 3)'],\n",
       "[[0, 1, 2, 3], [1, 0, 3, 2], [2, 3, 0, 1], [3, 2, 1, 0]]\n",
       ")"
      ]
     },
     "execution_count": 13,
     "metadata": {},
     "output_type": "execute_result"
    }
   ],
   "source": [
    "a4.commutator_subgroup()"
   ]
  },
  {
   "cell_type": "markdown",
   "id": "dde89ac7",
   "metadata": {},
   "source": [
    "## Subalgebras of a Powerset Group"
   ]
  },
  {
   "cell_type": "code",
   "execution_count": 18,
   "id": "853ac275",
   "metadata": {
    "scrolled": false
   },
   "outputs": [
    {
     "name": "stdout",
     "output_type": "stream",
     "text": [
      "\n",
      "** Group **\n",
      "Name: PS4\n",
      "Instance ID: 140439398449680\n",
      "Description: Autogenerated Group on the powerset of 4 elements, with symmetric difference operator\n",
      "Order: 16\n",
      "Identity: {}\n",
      "Associative? Yes\n",
      "Commutative? Yes\n",
      "Cyclic?: No\n",
      "Elements:\n",
      "   Index   Name   Inverse  Order\n",
      "      0      {}      {}       1\n",
      "      1     {0}     {0}       2\n",
      "      2     {1}     {1}       2\n",
      "      3     {2}     {2}       2\n",
      "      4     {3}     {3}       2\n",
      "      5  {0, 1}  {0, 1}       2\n",
      "      6  {0, 2}  {0, 2}       2\n",
      "      7  {0, 3}  {0, 3}       2\n",
      "      8  {1, 2}  {1, 2}       2\n",
      "      9  {1, 3}  {1, 3}       2\n",
      "     10  {2, 3}  {2, 3}       2\n",
      "     11 {0, 1, 2} {0, 1, 2}       2\n",
      "     12 {0, 1, 3} {0, 1, 3}       2\n",
      "     13 {0, 2, 3} {0, 2, 3}       2\n",
      "     14 {1, 2, 3} {1, 2, 3}       2\n",
      "     15 {0, 1, 2, 3} {0, 1, 2, 3}       2\n",
      "Cayley Table (showing indices):\n",
      "[[0, 1, 2, 3, 4, 5, 6, 7, 8, 9, 10, 11, 12, 13, 14, 15],\n",
      " [1, 0, 5, 6, 7, 2, 3, 4, 11, 12, 13, 8, 9, 10, 15, 14],\n",
      " [2, 5, 0, 8, 9, 1, 11, 12, 3, 4, 14, 6, 7, 15, 10, 13],\n",
      " [3, 6, 8, 0, 10, 11, 1, 13, 2, 14, 4, 5, 15, 7, 9, 12],\n",
      " [4, 7, 9, 10, 0, 12, 13, 1, 14, 2, 3, 15, 5, 6, 8, 11],\n",
      " [5, 2, 1, 11, 12, 0, 8, 9, 6, 7, 15, 3, 4, 14, 13, 10],\n",
      " [6, 3, 11, 1, 13, 8, 0, 10, 5, 15, 7, 2, 14, 4, 12, 9],\n",
      " [7, 4, 12, 13, 1, 9, 10, 0, 15, 5, 6, 14, 2, 3, 11, 8],\n",
      " [8, 11, 3, 2, 14, 6, 5, 15, 0, 10, 9, 1, 13, 12, 4, 7],\n",
      " [9, 12, 4, 14, 2, 7, 15, 5, 10, 0, 8, 13, 1, 11, 3, 6],\n",
      " [10, 13, 14, 4, 3, 15, 7, 6, 9, 8, 0, 12, 11, 1, 2, 5],\n",
      " [11, 8, 6, 5, 15, 3, 2, 14, 1, 13, 12, 0, 10, 9, 7, 4],\n",
      " [12, 9, 7, 15, 5, 4, 14, 2, 13, 1, 11, 10, 0, 8, 6, 3],\n",
      " [13, 10, 15, 7, 6, 14, 4, 3, 12, 11, 1, 9, 8, 0, 5, 2],\n",
      " [14, 15, 10, 9, 8, 13, 12, 11, 4, 3, 2, 7, 6, 5, 0, 1],\n",
      " [15, 14, 13, 12, 11, 10, 9, 8, 7, 6, 5, 4, 3, 2, 1, 0]]\n"
     ]
    }
   ],
   "source": [
    "psr = generate_powerset_group(4)\n",
    "psr.about(max_size=16)"
   ]
  },
  {
   "cell_type": "code",
   "execution_count": 19,
   "id": "0883299c",
   "metadata": {},
   "outputs": [
    {
     "name": "stdout",
     "output_type": "stream",
     "text": [
      "CPU times: user 7.73 s, sys: 22.5 ms, total: 7.75 s\n",
      "Wall time: 7.75 s\n",
      "\n",
      "Subalgebras of <Group:PS4, ID:140439398449680>\n",
      "  There are 3 unique proper subalgebras, up to isomorphism, out of 65 total subalgebras.\n",
      "  as shown by the partitions below:\n",
      "\n",
      "35 Isomorphic Commutative Normal Groups of order 4 with identity '{}':\n",
      "      Group: PS4_subalgebra_0: ['{}', '{0}', '{2}', '{0, 2}']\n",
      "      Group: PS4_subalgebra_4: ['{}', '{0}', '{1, 3}', '{0, 1, 3}']\n",
      "      Group: PS4_subalgebra_5: ['{}', '{1}', '{2}', '{1, 2}']\n",
      "      Group: PS4_subalgebra_6: ['{}', '{0, 1}', '{2, 3}', '{0, 1, 2, 3}']\n",
      "      Group: PS4_subalgebra_7: ['{}', '{3}', '{0, 1, 2}', '{0, 1, 2, 3}']\n",
      "      Group: PS4_subalgebra_8: ['{}', '{1, 2}', '{1, 3}', '{2, 3}']\n",
      "      Group: PS4_subalgebra_10: ['{}', '{2}', '{0, 1, 3}', '{0, 1, 2, 3}']\n",
      "      Group: PS4_subalgebra_11: ['{}', '{2}', '{0, 1}', '{0, 1, 2}']\n",
      "      Group: PS4_subalgebra_12: ['{}', '{1, 3}', '{0, 1, 2}', '{0, 2, 3}']\n",
      "      Group: PS4_subalgebra_13: ['{}', '{2}', '{3}', '{2, 3}']\n",
      "      Group: PS4_subalgebra_14: ['{}', '{1}', '{0, 3}', '{0, 1, 3}']\n",
      "      Group: PS4_subalgebra_17: ['{}', '{1}', '{2, 3}', '{1, 2, 3}']\n",
      "      Group: PS4_subalgebra_18: ['{}', '{0, 2}', '{0, 1, 3}', '{1, 2, 3}']\n",
      "      Group: PS4_subalgebra_20: ['{}', '{0, 2}', '{0, 3}', '{2, 3}']\n",
      "      Group: PS4_subalgebra_21: ['{}', '{1}', '{0, 2}', '{0, 1, 2}']\n",
      "      Group: PS4_subalgebra_23: ['{}', '{2}', '{1, 3}', '{1, 2, 3}']\n",
      "      Group: PS4_subalgebra_24: ['{}', '{0, 1}', '{0, 2, 3}', '{1, 2, 3}']\n",
      "      Group: PS4_subalgebra_28: ['{}', '{0}', '{1, 2}', '{0, 1, 2}']\n",
      "      Group: PS4_subalgebra_29: ['{}', '{3}', '{1, 2}', '{1, 2, 3}']\n",
      "      Group: PS4_subalgebra_30: ['{}', '{3}', '{0, 1}', '{0, 1, 3}']\n",
      "      Group: PS4_subalgebra_32: ['{}', '{0}', '{1, 2, 3}', '{0, 1, 2, 3}']\n",
      "      Group: PS4_subalgebra_33: ['{}', '{3}', '{0, 2}', '{0, 2, 3}']\n",
      "      Group: PS4_subalgebra_34: ['{}', '{1}', '{0, 2, 3}', '{0, 1, 2, 3}']\n",
      "      Group: PS4_subalgebra_36: ['{}', '{0}', '{1}', '{0, 1}']\n",
      "      Group: PS4_subalgebra_40: ['{}', '{1, 2}', '{0, 1, 3}', '{0, 2, 3}']\n",
      "      Group: PS4_subalgebra_42: ['{}', '{2}', '{0, 3}', '{0, 2, 3}']\n",
      "      Group: PS4_subalgebra_43: ['{}', '{0, 1}', '{0, 3}', '{1, 3}']\n",
      "      Group: PS4_subalgebra_46: ['{}', '{2, 3}', '{0, 1, 2}', '{0, 1, 3}']\n",
      "      Group: PS4_subalgebra_47: ['{}', '{0, 1}', '{0, 2}', '{1, 2}']\n",
      "      Group: PS4_subalgebra_48: ['{}', '{0, 3}', '{1, 2}', '{0, 1, 2, 3}']\n",
      "      Group: PS4_subalgebra_52: ['{}', '{0, 2}', '{1, 3}', '{0, 1, 2, 3}']\n",
      "      Group: PS4_subalgebra_61: ['{}', '{0}', '{3}', '{0, 3}']\n",
      "      Group: PS4_subalgebra_62: ['{}', '{0}', '{2, 3}', '{0, 2, 3}']\n",
      "      Group: PS4_subalgebra_63: ['{}', '{0, 3}', '{0, 1, 2}', '{1, 2, 3}']\n",
      "      Group: PS4_subalgebra_64: ['{}', '{1}', '{3}', '{1, 3}']\n",
      "\n",
      "15 Isomorphic Commutative Normal Groups of order 8 with identity '{}':\n",
      "      Group: PS4_subalgebra_1: ['{}', '{0}', '{2}', '{3}', '{0, 2}', '{0, 3}', '{2, 3}', '{0, 2, 3}']\n",
      "      Group: PS4_subalgebra_3: ['{}', '{1}', '{3}', '{0, 2}', '{1, 3}', '{0, 1, 2}', '{0, 2, 3}', '{0, 1, 2, 3}']\n",
      "      Group: PS4_subalgebra_15: ['{}', '{0}', '{1}', '{3}', '{0, 1}', '{0, 3}', '{1, 3}', '{0, 1, 3}']\n",
      "      Group: PS4_subalgebra_16: ['{}', '{2}', '{3}', '{0, 1}', '{2, 3}', '{0, 1, 2}', '{0, 1, 3}', '{0, 1, 2, 3}']\n",
      "      Group: PS4_subalgebra_26: ['{}', '{0}', '{2}', '{0, 2}', '{1, 3}', '{0, 1, 3}', '{1, 2, 3}', '{0, 1, 2, 3}']\n",
      "      Group: PS4_subalgebra_27: ['{}', '{1}', '{0, 2}', '{0, 3}', '{2, 3}', '{0, 1, 2}', '{0, 1, 3}', '{1, 2, 3}']\n",
      "      Group: PS4_subalgebra_37: ['{}', '{0}', '{1}', '{2}', '{0, 1}', '{0, 2}', '{1, 2}', '{0, 1, 2}']\n",
      "      Group: PS4_subalgebra_38: ['{}', '{0, 1}', '{0, 2}', '{0, 3}', '{1, 2}', '{1, 3}', '{2, 3}', '{0, 1, 2, 3}']\n",
      "      Group: PS4_subalgebra_50: ['{}', '{3}', '{0, 1}', '{0, 2}', '{1, 2}', '{0, 1, 3}', '{0, 2, 3}', '{1, 2, 3}']\n",
      "      Group: PS4_subalgebra_51: ['{}', '{0}', '{3}', '{0, 3}', '{1, 2}', '{0, 1, 2}', '{1, 2, 3}', '{0, 1, 2, 3}']\n",
      "      Group: PS4_subalgebra_53: ['{}', '{1}', '{2}', '{3}', '{1, 2}', '{1, 3}', '{2, 3}', '{1, 2, 3}']\n",
      "      Group: PS4_subalgebra_54: ['{}', '{0}', '{1, 2}', '{1, 3}', '{2, 3}', '{0, 1, 2}', '{0, 1, 3}', '{0, 2, 3}']\n",
      "      Group: PS4_subalgebra_55: ['{}', '{1}', '{2}', '{0, 3}', '{1, 2}', '{0, 1, 3}', '{0, 2, 3}', '{0, 1, 2, 3}']\n",
      "      Group: PS4_subalgebra_57: ['{}', '{0}', '{1}', '{0, 1}', '{2, 3}', '{0, 2, 3}', '{1, 2, 3}', '{0, 1, 2, 3}']\n",
      "      Group: PS4_subalgebra_60: ['{}', '{2}', '{0, 1}', '{0, 3}', '{1, 3}', '{0, 1, 2}', '{0, 2, 3}', '{1, 2, 3}']\n",
      "\n",
      "15 Isomorphic Commutative Normal Groups of order 2 with identity '{}':\n",
      "      Group: PS4_subalgebra_2: ['{}', '{1, 2}']\n",
      "      Group: PS4_subalgebra_9: ['{}', '{0, 1, 2}']\n",
      "      Group: PS4_subalgebra_19: ['{}', '{1, 2, 3}']\n",
      "      Group: PS4_subalgebra_22: ['{}', '{0, 2, 3}']\n",
      "      Group: PS4_subalgebra_25: ['{}', '{2}']\n",
      "      Group: PS4_subalgebra_31: ['{}', '{0, 1}']\n",
      "      Group: PS4_subalgebra_35: ['{}', '{2, 3}']\n",
      "      Group: PS4_subalgebra_39: ['{}', '{0, 1, 3}']\n",
      "      Group: PS4_subalgebra_41: ['{}', '{1}']\n",
      "      Group: PS4_subalgebra_44: ['{}', '{0, 3}']\n",
      "      Group: PS4_subalgebra_45: ['{}', '{0}']\n",
      "      Group: PS4_subalgebra_49: ['{}', '{1, 3}']\n",
      "      Group: PS4_subalgebra_56: ['{}', '{3}']\n",
      "      Group: PS4_subalgebra_58: ['{}', '{0, 2}']\n",
      "      Group: PS4_subalgebra_59: ['{}', '{0, 1, 2, 3}']\n",
      "\n"
     ]
    }
   ],
   "source": [
    "alg = psr\n",
    "%time alg_subs = alg.proper_subalgebras()\n",
    "partitions = partition_into_isomorphic_lists(alg_subs)\n",
    "about_isomorphic_partitions(alg, partitions)"
   ]
  },
  {
   "cell_type": "code",
   "execution_count": 33,
   "id": "265af154",
   "metadata": {},
   "outputs": [
    {
     "data": {
      "text/plain": [
       "{'{}'}"
      ]
     },
     "execution_count": 33,
     "metadata": {},
     "output_type": "execute_result"
    }
   ],
   "source": [
    "psr.commutators()"
   ]
  },
  {
   "cell_type": "code",
   "execution_count": 29,
   "id": "02f37092",
   "metadata": {},
   "outputs": [
    {
     "data": {
      "text/plain": [
       "Group(\n",
       "'PS4_CG',\n",
       "'PS4 commutator subgroup',\n",
       "['{}'],\n",
       "[[0]]\n",
       ")"
      ]
     },
     "execution_count": 29,
     "metadata": {},
     "output_type": "execute_result"
    }
   ],
   "source": [
    "psr.commutator_subgroup()"
   ]
  },
  {
   "cell_type": "code",
   "execution_count": 20,
   "id": "283b346e",
   "metadata": {},
   "outputs": [
    {
     "name": "stdout",
     "output_type": "stream",
     "text": [
      "\n",
      "** Group **\n",
      "Name: Q8\n",
      "Instance ID: 140438861653008\n",
      "Description: Quaternion Group\n",
      "Order: 8\n",
      "Identity: 1\n",
      "Associative? Yes\n",
      "Commutative? No\n",
      "Cyclic?: No\n",
      "Elements:\n",
      "   Index   Name   Inverse  Order\n",
      "      0       1       1       1\n",
      "      1       i      -i       4\n",
      "      2      -1      -1       2\n",
      "      3      -i       i       4\n",
      "      4       j      -j       4\n",
      "      5       k      -k       4\n",
      "      6      -j       j       4\n",
      "      7      -k       k       4\n",
      "Cayley Table (showing indices):\n",
      "[[0, 1, 2, 3, 4, 5, 6, 7],\n",
      " [1, 2, 3, 0, 7, 4, 5, 6],\n",
      " [2, 3, 0, 1, 6, 7, 4, 5],\n",
      " [3, 0, 1, 2, 5, 6, 7, 4],\n",
      " [4, 5, 6, 7, 2, 3, 0, 1],\n",
      " [5, 6, 7, 4, 1, 2, 3, 0],\n",
      " [6, 7, 4, 5, 0, 1, 2, 3],\n",
      " [7, 4, 5, 6, 3, 0, 1, 2]]\n"
     ]
    }
   ],
   "source": [
    "q8 = ex[13]\n",
    "q8.about()"
   ]
  },
  {
   "cell_type": "code",
   "execution_count": 21,
   "id": "73728b3e",
   "metadata": {},
   "outputs": [
    {
     "name": "stdout",
     "output_type": "stream",
     "text": [
      "\n",
      "Subalgebras of <Group:Q8, ID:140438861653008>\n",
      "  There are 2 unique proper subalgebras, up to isomorphism, out of 4 total subalgebras.\n",
      "  as shown by the partitions below:\n",
      "\n",
      "3 Isomorphic Commutative Normal Groups of order 4 with identity '1':\n",
      "      Group: Q8_subalgebra_0: ['1', 'i', '-1', '-i']\n",
      "      Group: Q8_subalgebra_2: ['1', '-1', 'j', '-j']\n",
      "      Group: Q8_subalgebra_3: ['1', '-1', 'k', '-k']\n",
      "\n",
      "1 Commutative Normal Group of order 2 with identity '1':\n",
      "      Group: Q8_subalgebra_1: ['1', '-1']\n",
      "\n"
     ]
    }
   ],
   "source": [
    "alg = q8\n",
    "alg_subs = alg.proper_subalgebras()\n",
    "partitions = partition_into_isomorphic_lists(alg_subs)\n",
    "about_isomorphic_partitions(alg, partitions)"
   ]
  },
  {
   "cell_type": "code",
   "execution_count": null,
   "id": "996e42f3",
   "metadata": {},
   "outputs": [],
   "source": []
  },
  {
   "cell_type": "code",
   "execution_count": 22,
   "id": "8555e112",
   "metadata": {},
   "outputs": [
    {
     "name": "stdout",
     "output_type": "stream",
     "text": [
      "\n",
      "** Group **\n",
      "Name: SD16\n",
      "Instance ID: 140438861653520\n",
      "Description: Semidihedral group of order 16\n",
      "Order: 16\n",
      "Identity: e\n",
      "Associative? Yes\n",
      "Commutative? No\n",
      "Cyclic?: No\n",
      "Elements:\n",
      "   Index   Name   Inverse  Order\n",
      "      0       e       e       1\n",
      "      1       t       t       2\n",
      "      2       s  ts^2ts       8\n",
      "      3      st   s^2ts       4\n",
      "      4     s^2   ts^2t       4\n",
      "      5    s^2t    s^2t       2\n",
      "      6     tst  tsts^2       8\n",
      "      7      ts   sts^2       4\n",
      "      8    tsts    tsts       2\n",
      "      9     sts     sts       2\n",
      "     10  tsts^2     tst       8\n",
      "     11   s^2ts      st       4\n",
      "     12   ts^2t     s^2       4\n",
      "     13    ts^2    ts^2       2\n",
      "     14  ts^2ts       s       8\n",
      "     15   sts^2      ts       4\n",
      "Cayley Table (showing indices):\n",
      "[[0, 1, 2, 3, 4, 5, 6, 7, 8, 9, 10, 11, 12, 13, 14, 15],\n",
      " [1, 0, 7, 6, 13, 12, 3, 2, 9, 8, 15, 14, 5, 4, 11, 10],\n",
      " [2, 3, 4, 5, 6, 7, 8, 9, 10, 11, 12, 13, 14, 15, 0, 1],\n",
      " [3, 2, 9, 8, 15, 14, 5, 4, 11, 10, 1, 0, 7, 6, 13, 12],\n",
      " [4, 5, 6, 7, 8, 9, 10, 11, 12, 13, 14, 15, 0, 1, 2, 3],\n",
      " [5, 4, 11, 10, 1, 0, 7, 6, 13, 12, 3, 2, 9, 8, 15, 14],\n",
      " [6, 7, 8, 9, 10, 11, 12, 13, 14, 15, 0, 1, 2, 3, 4, 5],\n",
      " [7, 6, 13, 12, 3, 2, 9, 8, 15, 14, 5, 4, 11, 10, 1, 0],\n",
      " [8, 9, 10, 11, 12, 13, 14, 15, 0, 1, 2, 3, 4, 5, 6, 7],\n",
      " [9, 8, 15, 14, 5, 4, 11, 10, 1, 0, 7, 6, 13, 12, 3, 2],\n",
      " [10, 11, 12, 13, 14, 15, 0, 1, 2, 3, 4, 5, 6, 7, 8, 9],\n",
      " [11, 10, 1, 0, 7, 6, 13, 12, 3, 2, 9, 8, 15, 14, 5, 4],\n",
      " [12, 13, 14, 15, 0, 1, 2, 3, 4, 5, 6, 7, 8, 9, 10, 11],\n",
      " [13, 12, 3, 2, 9, 8, 15, 14, 5, 4, 11, 10, 1, 0, 7, 6],\n",
      " [14, 15, 0, 1, 2, 3, 4, 5, 6, 7, 8, 9, 10, 11, 12, 13],\n",
      " [15, 14, 5, 4, 11, 10, 1, 0, 7, 6, 13, 12, 3, 2, 9, 8]]\n"
     ]
    }
   ],
   "source": [
    "sd16 = ex[14]\n",
    "sd16.about(max_size=16)"
   ]
  },
  {
   "cell_type": "code",
   "execution_count": 23,
   "id": "e5b3f739",
   "metadata": {},
   "outputs": [
    {
     "name": "stdout",
     "output_type": "stream",
     "text": [
      "\n",
      "Subalgebras of <Group:SD16, ID:140438861653520>\n",
      "  There are 6 unique proper subalgebras, up to isomorphism, out of 13 total subalgebras.\n",
      "  as shown by the partitions below:\n",
      "\n",
      "5 Isomorphic Commutative Normal Groups of order 2 with identity 'e':\n",
      "      Group: SD16_subalgebra_0: ['e', 'tsts']\n",
      "      Group: SD16_subalgebra_1: ['e', 's^2t']\n",
      "      Group: SD16_subalgebra_3: ['e', 'sts']\n",
      "      Group: SD16_subalgebra_5: ['e', 'ts^2']\n",
      "      Group: SD16_subalgebra_7: ['e', 't']\n",
      "\n",
      "3 Isomorphic Commutative Groups of order 4 with identity 'e':\n",
      "      Group: SD16_subalgebra_2: ['e', 'ts', 'tsts', 'sts^2']\n",
      "      Group: SD16_subalgebra_8: ['e', 'st', 'tsts', 's^2ts']\n",
      "      Group: SD16_subalgebra_9: ['e', 's^2', 'tsts', 'ts^2t']\n",
      "\n",
      "2 Isomorphic Commutative Groups of order 4 with identity 'e':\n",
      "      Group: SD16_subalgebra_4: ['e', 't', 'tsts', 'sts']\n",
      "      Group: SD16_subalgebra_11: ['e', 's^2t', 'tsts', 'ts^2']\n",
      "\n",
      "1 Normal Group of order 8 with identity 'e':\n",
      "      Group: SD16_subalgebra_6: ['e', 't', 's^2', 's^2t', 'tsts', 'sts', 'ts^2t', 'ts^2']\n",
      "\n",
      "1 Normal Group of order 8 with identity 'e':\n",
      "      Group: SD16_subalgebra_10: ['e', 'st', 's^2', 'ts', 'tsts', 's^2ts', 'ts^2t', 'sts^2']\n",
      "\n",
      "1 Commutative Normal Group of order 8 with identity 'e':\n",
      "      Group: SD16_subalgebra_12: ['e', 's', 's^2', 'tst', 'tsts', 'tsts^2', 'ts^2t', 'ts^2ts']\n",
      "\n"
     ]
    }
   ],
   "source": [
    "alg = sd16\n",
    "alg_subs = alg.proper_subalgebras()\n",
    "partitions = partition_into_isomorphic_lists(alg_subs)\n",
    "about_isomorphic_partitions(alg, partitions)"
   ]
  },
  {
   "cell_type": "code",
   "execution_count": null,
   "id": "d40cbc43",
   "metadata": {},
   "outputs": [],
   "source": []
  },
  {
   "cell_type": "markdown",
   "id": "75d5138a",
   "metadata": {},
   "source": [
    "## More Work Needed Past This Point"
   ]
  },
  {
   "cell_type": "markdown",
   "id": "d9f78326",
   "metadata": {},
   "source": [
    "Deriving subalgebras of Rings and Fields needs more work, as does the method for reporting on them: *about_isomorphic_partitions*"
   ]
  },
  {
   "cell_type": "code",
   "execution_count": 14,
   "id": "cb7a70e9",
   "metadata": {},
   "outputs": [
    {
     "name": "stdout",
     "output_type": "stream",
     "text": [
      "\n",
      "** Field **\n",
      "Name: F4\n",
      "Instance ID: 140438861622096\n",
      "Description: Field with 4 elements (from Wikipedia)\n",
      "Order: 4\n",
      "Identity: 0\n",
      "Associative? Yes\n",
      "Commutative? Yes\n",
      "Cyclic?: Yes\n",
      "  Generators: ['1+a', 'a']\n",
      "Elements:\n",
      "   Index   Name   Inverse  Order\n",
      "      0       0       0       1\n",
      "      1       1       1       2\n",
      "      2       a       a       2\n",
      "      3     1+a     1+a       2\n",
      "Cayley Table (showing indices):\n",
      "[[0, 1, 2, 3], [1, 0, 3, 2], [2, 3, 0, 1], [3, 2, 1, 0]]\n",
      "Mult. Identity: 1\n",
      "Mult. Commutative? Yes\n",
      "Zero Divisors: None\n",
      "Multiplicative Cayley Table (showing indices):\n",
      "[[0, 0, 0, 0], [0, 1, 2, 3], [0, 2, 3, 1], [0, 3, 1, 2]]\n"
     ]
    }
   ],
   "source": [
    "f4 = ex[9]\n",
    "f4.about()"
   ]
  },
  {
   "cell_type": "code",
   "execution_count": null,
   "id": "72033639",
   "metadata": {},
   "outputs": [],
   "source": []
  },
  {
   "cell_type": "code",
   "execution_count": 15,
   "id": "e13be21c",
   "metadata": {},
   "outputs": [
    {
     "name": "stdout",
     "output_type": "stream",
     "text": [
      "\n",
      "Subalgebras of <Field:F4, ID:140438861622096>\n",
      "  There is 1 unique proper subalgebra, up to isomorphism, out of 1 total subalgebras.\n",
      "  as shown by the partitions below:\n",
      "\n",
      "1 Commutative Normal Field of order 2 with identity '0':\n",
      "      Field: F4_subalgebra_0: ['0', '1']\n",
      "\n"
     ]
    }
   ],
   "source": [
    "alg = f4\n",
    "alg_subs = alg.proper_subalgebras()\n",
    "partitions = partition_into_isomorphic_lists(alg_subs)\n",
    "about_isomorphic_partitions(alg, partitions)"
   ]
  },
  {
   "cell_type": "code",
   "execution_count": null,
   "id": "5a658b62",
   "metadata": {},
   "outputs": [],
   "source": []
  },
  {
   "cell_type": "code",
   "execution_count": null,
   "id": "f9f2727c",
   "metadata": {},
   "outputs": [],
   "source": []
  },
  {
   "cell_type": "code",
   "execution_count": 16,
   "id": "3d5bfe59",
   "metadata": {},
   "outputs": [
    {
     "name": "stdout",
     "output_type": "stream",
     "text": [
      "\n",
      "** Ring **\n",
      "Name: Ex6\n",
      "Instance ID: 140438861589712\n",
      "Description: Example 6: http://www-groups.mcs.st-andrews.ac.uk/~john/MT4517/Lectures/L3.html\n",
      "Order: 4\n",
      "Identity: 0\n",
      "Associative? Yes\n",
      "Commutative? Yes\n",
      "Cyclic?: No\n",
      "Elements:\n",
      "   Index   Name   Inverse  Order\n",
      "      0       0       0       1\n",
      "      1       a       a       2\n",
      "      2       b       b       2\n",
      "      3       c       c       2\n",
      "Cayley Table (showing indices):\n",
      "[[0, 1, 2, 3], [1, 0, 3, 2], [2, 3, 0, 1], [3, 2, 1, 0]]\n",
      "Mult. Identity: None\n",
      "Mult. Commutative? No\n",
      "Zero Divisors: ['a', 'b', 'c']\n",
      "Multiplicative Cayley Table (showing indices):\n",
      "[[0, 0, 0, 0], [0, 0, 1, 1], [0, 0, 2, 2], [0, 0, 3, 3]]\n"
     ]
    }
   ],
   "source": [
    "ex6 = ex[12]\n",
    "ex6.about()"
   ]
  },
  {
   "cell_type": "code",
   "execution_count": 17,
   "id": "96462eb7",
   "metadata": {
    "scrolled": true
   },
   "outputs": [
    {
     "name": "stdout",
     "output_type": "stream",
     "text": [
      "\n",
      "Subalgebras of <Ring:Ex6, ID:140438861589712>\n",
      "  There is 1 unique proper subalgebra, up to isomorphism, out of 3 total subalgebras.\n",
      "  as shown by the partitions below:\n",
      "\n",
      "3 Isomorphic Commutative Normal Fields of order 2 with identity '0':\n",
      "      Field: Ex6_subalgebra_0: ['0', 'b']\n",
      "      Ring: Ex6_subalgebra_1: ['0', 'a']\n",
      "      Field: Ex6_subalgebra_2: ['0', 'c']\n",
      "\n"
     ]
    }
   ],
   "source": [
    "alg = ex6\n",
    "alg_subs = alg.proper_subalgebras()\n",
    "partitions = partition_into_isomorphic_lists(alg_subs)\n",
    "about_isomorphic_partitions(alg, partitions)"
   ]
  },
  {
   "cell_type": "code",
   "execution_count": null,
   "id": "897b72ce",
   "metadata": {},
   "outputs": [],
   "source": []
  },
  {
   "cell_type": "code",
   "execution_count": 24,
   "id": "e672141f",
   "metadata": {},
   "outputs": [
    {
     "name": "stdout",
     "output_type": "stream",
     "text": [
      "\n",
      "** Ring **\n",
      "Name: R12\n",
      "Instance ID: 140438861586768\n",
      "Description: Autogenerated Ring of integers mod 12\n",
      "Order: 12\n",
      "Identity: a0\n",
      "Associative? Yes\n",
      "Commutative? Yes\n",
      "Cyclic?: Yes\n",
      "  Generators: ['a1', 'a11', 'a5', 'a7']\n",
      "Elements:\n",
      "   Index   Name   Inverse  Order\n",
      "      0      a0      a0       1\n",
      "      1      a1     a11      12\n",
      "      2      a2     a10       6\n",
      "      3      a3      a9       4\n",
      "      4      a4      a8       3\n",
      "      5      a5      a7      12\n",
      "      6      a6      a6       2\n",
      "      7      a7      a5      12\n",
      "      8      a8      a4       3\n",
      "      9      a9      a3       4\n",
      "     10     a10      a2       6\n",
      "     11     a11      a1      12\n",
      "Cayley Table (showing names):\n",
      "[['a0', 'a1', 'a2', 'a3', 'a4', 'a5', 'a6', 'a7', 'a8', 'a9', 'a10', 'a11'],\n",
      " ['a1', 'a2', 'a3', 'a4', 'a5', 'a6', 'a7', 'a8', 'a9', 'a10', 'a11', 'a0'],\n",
      " ['a2', 'a3', 'a4', 'a5', 'a6', 'a7', 'a8', 'a9', 'a10', 'a11', 'a0', 'a1'],\n",
      " ['a3', 'a4', 'a5', 'a6', 'a7', 'a8', 'a9', 'a10', 'a11', 'a0', 'a1', 'a2'],\n",
      " ['a4', 'a5', 'a6', 'a7', 'a8', 'a9', 'a10', 'a11', 'a0', 'a1', 'a2', 'a3'],\n",
      " ['a5', 'a6', 'a7', 'a8', 'a9', 'a10', 'a11', 'a0', 'a1', 'a2', 'a3', 'a4'],\n",
      " ['a6', 'a7', 'a8', 'a9', 'a10', 'a11', 'a0', 'a1', 'a2', 'a3', 'a4', 'a5'],\n",
      " ['a7', 'a8', 'a9', 'a10', 'a11', 'a0', 'a1', 'a2', 'a3', 'a4', 'a5', 'a6'],\n",
      " ['a8', 'a9', 'a10', 'a11', 'a0', 'a1', 'a2', 'a3', 'a4', 'a5', 'a6', 'a7'],\n",
      " ['a9', 'a10', 'a11', 'a0', 'a1', 'a2', 'a3', 'a4', 'a5', 'a6', 'a7', 'a8'],\n",
      " ['a10', 'a11', 'a0', 'a1', 'a2', 'a3', 'a4', 'a5', 'a6', 'a7', 'a8', 'a9'],\n",
      " ['a11', 'a0', 'a1', 'a2', 'a3', 'a4', 'a5', 'a6', 'a7', 'a8', 'a9', 'a10']]\n",
      "Mult. Identity: a1\n",
      "Mult. Commutative? Yes\n",
      "Zero Divisors: ['a2', 'a3', 'a4', 'a6', 'a8', 'a9', 'a10']\n",
      "Multiplicative Cayley Table (showing names):\n",
      "[['a0', 'a0', 'a0', 'a0', 'a0', 'a0', 'a0', 'a0', 'a0', 'a0', 'a0', 'a0'],\n",
      " ['a0', 'a1', 'a2', 'a3', 'a4', 'a5', 'a6', 'a7', 'a8', 'a9', 'a10', 'a11'],\n",
      " ['a0', 'a2', 'a4', 'a6', 'a8', 'a10', 'a0', 'a2', 'a4', 'a6', 'a8', 'a10'],\n",
      " ['a0', 'a3', 'a6', 'a9', 'a0', 'a3', 'a6', 'a9', 'a0', 'a3', 'a6', 'a9'],\n",
      " ['a0', 'a4', 'a8', 'a0', 'a4', 'a8', 'a0', 'a4', 'a8', 'a0', 'a4', 'a8'],\n",
      " ['a0', 'a5', 'a10', 'a3', 'a8', 'a1', 'a6', 'a11', 'a4', 'a9', 'a2', 'a7'],\n",
      " ['a0', 'a6', 'a0', 'a6', 'a0', 'a6', 'a0', 'a6', 'a0', 'a6', 'a0', 'a6'],\n",
      " ['a0', 'a7', 'a2', 'a9', 'a4', 'a11', 'a6', 'a1', 'a8', 'a3', 'a10', 'a5'],\n",
      " ['a0', 'a8', 'a4', 'a0', 'a8', 'a4', 'a0', 'a8', 'a4', 'a0', 'a8', 'a4'],\n",
      " ['a0', 'a9', 'a6', 'a3', 'a0', 'a9', 'a6', 'a3', 'a0', 'a9', 'a6', 'a3'],\n",
      " ['a0', 'a10', 'a8', 'a6', 'a4', 'a2', 'a0', 'a10', 'a8', 'a6', 'a4', 'a2'],\n",
      " ['a0', 'a11', 'a10', 'a9', 'a8', 'a7', 'a6', 'a5', 'a4', 'a3', 'a2', 'a1']]\n"
     ]
    }
   ],
   "source": [
    "alg1 = generate_algebra_mod_n(12)\n",
    "alg1.about(use_table_names=True)"
   ]
  },
  {
   "cell_type": "code",
   "execution_count": 25,
   "id": "20d9fe74",
   "metadata": {},
   "outputs": [
    {
     "name": "stdout",
     "output_type": "stream",
     "text": [
      "\n",
      "Subalgebras of <Ring:R12, ID:140438861586768>\n",
      "  There are 4 unique proper subalgebras, up to isomorphism, out of 4 total subalgebras.\n",
      "  as shown by the partitions below:\n",
      "\n",
      "1 Commutative Normal Field of order 3 with identity 'a0':\n",
      "      Field: R12_subalgebra_0: ['a0', 'a4', 'a8']\n",
      "\n",
      "1 Commutative Normal Ring of order 6 with identity 'a0':\n",
      "      Ring: R12_subalgebra_1: ['a0', 'a2', 'a4', 'a6', 'a8', 'a10']\n",
      "\n",
      "1 Commutative Normal Ring of order 4 with identity 'a0':\n",
      "      Ring: R12_subalgebra_2: ['a0', 'a3', 'a6', 'a9']\n",
      "\n",
      "1 Commutative Normal Ring of order 2 with identity 'a0':\n",
      "      Ring: R12_subalgebra_3: ['a0', 'a6']\n",
      "\n"
     ]
    }
   ],
   "source": [
    "alg = alg1\n",
    "alg_subs = alg.proper_subalgebras()\n",
    "partitions = partition_into_isomorphic_lists(alg_subs)\n",
    "about_isomorphic_partitions(alg, partitions)"
   ]
  },
  {
   "cell_type": "code",
   "execution_count": 26,
   "id": "8ad17951",
   "metadata": {},
   "outputs": [
    {
     "data": {
      "text/plain": [
       "['a2', 'a3', 'a4', 'a6', 'a8', 'a9', 'a10']"
      ]
     },
     "execution_count": 26,
     "metadata": {},
     "output_type": "execute_result"
    }
   ],
   "source": [
    "alg.zero_divisors()"
   ]
  },
  {
   "cell_type": "code",
   "execution_count": 27,
   "id": "a3374232",
   "metadata": {},
   "outputs": [
    {
     "data": {
      "text/plain": [
       "'a1'"
      ]
     },
     "execution_count": 27,
     "metadata": {},
     "output_type": "execute_result"
    }
   ],
   "source": [
    "alg.mult_identity"
   ]
  },
  {
   "cell_type": "code",
   "execution_count": null,
   "id": "0edc4cfd",
   "metadata": {},
   "outputs": [],
   "source": []
  }
 ],
 "metadata": {
  "kernelspec": {
   "display_name": "Python 3 (ipykernel)",
   "language": "python",
   "name": "python3"
  },
  "language_info": {
   "codemirror_mode": {
    "name": "ipython",
    "version": 3
   },
   "file_extension": ".py",
   "mimetype": "text/x-python",
   "name": "python",
   "nbconvert_exporter": "python",
   "pygments_lexer": "ipython3",
   "version": "3.7.7"
  }
 },
 "nbformat": 4,
 "nbformat_minor": 5
}
