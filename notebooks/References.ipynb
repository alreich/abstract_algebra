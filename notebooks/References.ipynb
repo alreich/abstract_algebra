{
 "cells": [
  {
   "cell_type": "markdown",
   "id": "bc38820e",
   "metadata": {},
   "source": [
    "# References"
   ]
  },
  {
   "cell_type": "markdown",
   "id": "e1622a8f",
   "metadata": {},
   "source": [
    "## Books"
   ]
  },
  {
   "cell_type": "markdown",
   "id": "9c2d6062",
   "metadata": {},
   "source": [
    "* [Pinter 1982] <i>\"A Book of Abstract Algebra\"</i>, Pinter, C.C., 1982, McGraw-Hill.\n",
    "* [Sawyer 1978] <i>\"A Concrete Approach to Abstract Algebra\"</i>, Sawyer, W.W., 1978, Dover Publications."
   ]
  },
  {
   "cell_type": "markdown",
   "id": "f80d73d5",
   "metadata": {},
   "source": [
    "## Papers"
   ]
  },
  {
   "cell_type": "markdown",
   "id": "f0650772",
   "metadata": {},
   "source": [
    "* ...watch this space..."
   ]
  },
  {
   "cell_type": "code",
   "execution_count": null,
   "id": "635dc501",
   "metadata": {},
   "outputs": [],
   "source": []
  }
 ],
 "metadata": {
  "kernelspec": {
   "display_name": "Python 3 (ipykernel)",
   "language": "python",
   "name": "python3"
  },
  "language_info": {
   "codemirror_mode": {
    "name": "ipython",
    "version": 3
   },
   "file_extension": ".py",
   "mimetype": "text/x-python",
   "name": "python",
   "nbconvert_exporter": "python",
   "pygments_lexer": "ipython3",
   "version": "3.11.4"
  }
 },
 "nbformat": 4,
 "nbformat_minor": 5
}
