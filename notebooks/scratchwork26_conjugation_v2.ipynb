{
 "cells": [
  {
   "cell_type": "markdown",
   "id": "a50b27f4",
   "metadata": {},
   "source": [
    "# Conjugation"
   ]
  },
  {
   "cell_type": "code",
   "execution_count": 1,
   "id": "3151c155",
   "metadata": {},
   "outputs": [],
   "source": [
    "import finite_algebras as alg\n",
    "import numpy as np"
   ]
  },
  {
   "cell_type": "code",
   "execution_count": 22,
   "id": "ff68122c",
   "metadata": {},
   "outputs": [],
   "source": [
    "R4 = alg.generate_algebra_mod_n(4)\n",
    "R4cda = R4.make_cayley_dickson_algebra()"
   ]
  },
  {
   "cell_type": "code",
   "execution_count": 23,
   "id": "d47580a9",
   "metadata": {},
   "outputs": [],
   "source": [
    "F3 = alg.generate_algebra_mod_n(3)\n",
    "F3cda = F3.make_cayley_dickson_algebra()\n",
    "F3cda2 = F3cda.make_cayley_dickson_algebra()"
   ]
  },
  {
   "cell_type": "code",
   "execution_count": 24,
   "id": "aa96f363",
   "metadata": {},
   "outputs": [],
   "source": [
    "F5 = alg.generate_algebra_mod_n(5)\n",
    "F5cda = F5.make_cayley_dickson_algebra()"
   ]
  },
  {
   "cell_type": "code",
   "execution_count": 28,
   "id": "1ddb1f62",
   "metadata": {},
   "outputs": [],
   "source": [
    "F7 = alg.generate_algebra_mod_n(7)\n",
    "F7cda = F7.make_cayley_dickson_algebra()"
   ]
  },
  {
   "cell_type": "code",
   "execution_count": 29,
   "id": "f1caf080",
   "metadata": {},
   "outputs": [
    {
     "name": "stdout",
     "output_type": "stream",
     "text": [
      "<class 'finite_algebras.Field'>\n",
      "<class 'finite_algebras.Field'>\n",
      "<class 'finite_algebras.Ring'>\n",
      "<class 'finite_algebras.Ring'>\n",
      "<class 'finite_algebras.Ring'>\n",
      "<class 'finite_algebras.Field'>\n",
      "<class 'finite_algebras.Ring'>\n",
      "<class 'finite_algebras.Field'>\n",
      "<class 'finite_algebras.Field'>\n"
     ]
    }
   ],
   "source": [
    "cdas =[F3, F3cda, F3cda2, R4, R4cda, F5, F5cda, F7, F7cda]\n",
    "\n",
    "for cda in cdas:\n",
    "    print(type(cda))"
   ]
  },
  {
   "cell_type": "code",
   "execution_count": 30,
   "id": "077dc5a7",
   "metadata": {},
   "outputs": [
    {
     "data": {
      "text/plain": [
       "{'0:0': '0:0',\n",
       " '0:1': '0:2',\n",
       " '0:2': '0:1',\n",
       " '1:0': '1:0',\n",
       " '1:1': '1:2',\n",
       " '1:2': '1:1',\n",
       " '2:0': '2:0',\n",
       " '2:1': '2:2',\n",
       " '2:2': '2:1'}"
      ]
     },
     "execution_count": 30,
     "metadata": {},
     "output_type": "execute_result"
    }
   ],
   "source": [
    "F3cda.conjugates()"
   ]
  },
  {
   "cell_type": "code",
   "execution_count": 31,
   "id": "2050e8c5",
   "metadata": {},
   "outputs": [
    {
     "data": {
      "text/plain": [
       "'0:1'"
      ]
     },
     "execution_count": 31,
     "metadata": {},
     "output_type": "execute_result"
    }
   ],
   "source": [
    "F3cda.conj('0:2')"
   ]
  },
  {
   "cell_type": "code",
   "execution_count": 5,
   "id": "447b9fca",
   "metadata": {},
   "outputs": [
    {
     "data": {
      "text/plain": [
       "'1'"
      ]
     },
     "execution_count": 5,
     "metadata": {},
     "output_type": "execute_result"
    }
   ],
   "source": [
    "F3.conj('1')"
   ]
  },
  {
   "cell_type": "code",
   "execution_count": 6,
   "id": "36d1ec02",
   "metadata": {},
   "outputs": [
    {
     "name": "stdout",
     "output_type": "stream",
     "text": [
      "['0:0:0:0', '0:0:0:1', '0:0:0:2', '0:0:1:0', '0:0:1:1', '0:0:1:2', '0:0:2:0', '0:0:2:1', '0:0:2:2', '0:1:0:0', '0:1:0:1', '0:1:0:2', '0:1:1:0', '0:1:1:1', '0:1:1:2', '0:1:2:0', '0:1:2:1', '0:1:2:2', '0:2:0:0', '0:2:0:1', '0:2:0:2', '0:2:1:0', '0:2:1:1', '0:2:1:2', '0:2:2:0', '0:2:2:1', '0:2:2:2', '1:0:0:0', '1:0:0:1', '1:0:0:2', '1:0:1:0', '1:0:1:1', '1:0:1:2', '1:0:2:0', '1:0:2:1', '1:0:2:2', '1:1:0:0', '1:1:0:1', '1:1:0:2', '1:1:1:0', '1:1:1:1', '1:1:1:2', '1:1:2:0', '1:1:2:1', '1:1:2:2', '1:2:0:0', '1:2:0:1', '1:2:0:2', '1:2:1:0', '1:2:1:1', '1:2:1:2', '1:2:2:0', '1:2:2:1', '1:2:2:2', '2:0:0:0', '2:0:0:1', '2:0:0:2', '2:0:1:0', '2:0:1:1', '2:0:1:2', '2:0:2:0', '2:0:2:1', '2:0:2:2', '2:1:0:0', '2:1:0:1', '2:1:0:2', '2:1:1:0', '2:1:1:1', '2:1:1:2', '2:1:2:0', '2:1:2:1', '2:1:2:2', '2:2:0:0', '2:2:0:1', '2:2:0:2', '2:2:1:0', '2:2:1:1', '2:2:1:2', '2:2:2:0', '2:2:2:1', '2:2:2:2']\n"
     ]
    }
   ],
   "source": [
    "print(F3quad.elements)"
   ]
  },
  {
   "cell_type": "code",
   "execution_count": 7,
   "id": "b6fde45b",
   "metadata": {},
   "outputs": [
    {
     "data": {
      "text/plain": [
       "'1:0:2:1'"
      ]
     },
     "execution_count": 7,
     "metadata": {},
     "output_type": "execute_result"
    }
   ],
   "source": [
    "F3quad.conj('1:0:1:2')"
   ]
  },
  {
   "cell_type": "code",
   "execution_count": 14,
   "id": "3ba2df4f",
   "metadata": {},
   "outputs": [
    {
     "data": {
      "text/plain": [
       "{'0:0:0:0': '0:0:0:0',\n",
       " '0:0:0:1': '0:0:0:2',\n",
       " '0:0:0:2': '0:0:0:1',\n",
       " '0:0:1:0': '0:0:2:0',\n",
       " '0:0:1:1': '0:0:2:2',\n",
       " '0:0:1:2': '0:0:2:1',\n",
       " '0:0:2:0': '0:0:1:0',\n",
       " '0:0:2:1': '0:0:1:2',\n",
       " '0:0:2:2': '0:0:1:1',\n",
       " '0:1:0:0': '0:2:0:0',\n",
       " '0:1:0:1': '0:2:0:2',\n",
       " '0:1:0:2': '0:2:0:1',\n",
       " '0:1:1:0': '0:2:2:0',\n",
       " '0:1:1:1': '0:2:2:2',\n",
       " '0:1:1:2': '0:2:2:1',\n",
       " '0:1:2:0': '0:2:1:0',\n",
       " '0:1:2:1': '0:2:1:2',\n",
       " '0:1:2:2': '0:2:1:1',\n",
       " '0:2:0:0': '0:1:0:0',\n",
       " '0:2:0:1': '0:1:0:2',\n",
       " '0:2:0:2': '0:1:0:1',\n",
       " '0:2:1:0': '0:1:2:0',\n",
       " '0:2:1:1': '0:1:2:2',\n",
       " '0:2:1:2': '0:1:2:1',\n",
       " '0:2:2:0': '0:1:1:0',\n",
       " '0:2:2:1': '0:1:1:2',\n",
       " '0:2:2:2': '0:1:1:1',\n",
       " '1:0:0:0': '1:0:0:0',\n",
       " '1:0:0:1': '1:0:0:2',\n",
       " '1:0:0:2': '1:0:0:1',\n",
       " '1:0:1:0': '1:0:2:0',\n",
       " '1:0:1:1': '1:0:2:2',\n",
       " '1:0:1:2': '1:0:2:1',\n",
       " '1:0:2:0': '1:0:1:0',\n",
       " '1:0:2:1': '1:0:1:2',\n",
       " '1:0:2:2': '1:0:1:1',\n",
       " '1:1:0:0': '1:2:0:0',\n",
       " '1:1:0:1': '1:2:0:2',\n",
       " '1:1:0:2': '1:2:0:1',\n",
       " '1:1:1:0': '1:2:2:0',\n",
       " '1:1:1:1': '1:2:2:2',\n",
       " '1:1:1:2': '1:2:2:1',\n",
       " '1:1:2:0': '1:2:1:0',\n",
       " '1:1:2:1': '1:2:1:2',\n",
       " '1:1:2:2': '1:2:1:1',\n",
       " '1:2:0:0': '1:1:0:0',\n",
       " '1:2:0:1': '1:1:0:2',\n",
       " '1:2:0:2': '1:1:0:1',\n",
       " '1:2:1:0': '1:1:2:0',\n",
       " '1:2:1:1': '1:1:2:2',\n",
       " '1:2:1:2': '1:1:2:1',\n",
       " '1:2:2:0': '1:1:1:0',\n",
       " '1:2:2:1': '1:1:1:2',\n",
       " '1:2:2:2': '1:1:1:1',\n",
       " '2:0:0:0': '2:0:0:0',\n",
       " '2:0:0:1': '2:0:0:2',\n",
       " '2:0:0:2': '2:0:0:1',\n",
       " '2:0:1:0': '2:0:2:0',\n",
       " '2:0:1:1': '2:0:2:2',\n",
       " '2:0:1:2': '2:0:2:1',\n",
       " '2:0:2:0': '2:0:1:0',\n",
       " '2:0:2:1': '2:0:1:2',\n",
       " '2:0:2:2': '2:0:1:1',\n",
       " '2:1:0:0': '2:2:0:0',\n",
       " '2:1:0:1': '2:2:0:2',\n",
       " '2:1:0:2': '2:2:0:1',\n",
       " '2:1:1:0': '2:2:2:0',\n",
       " '2:1:1:1': '2:2:2:2',\n",
       " '2:1:1:2': '2:2:2:1',\n",
       " '2:1:2:0': '2:2:1:0',\n",
       " '2:1:2:1': '2:2:1:2',\n",
       " '2:1:2:2': '2:2:1:1',\n",
       " '2:2:0:0': '2:1:0:0',\n",
       " '2:2:0:1': '2:1:0:2',\n",
       " '2:2:0:2': '2:1:0:1',\n",
       " '2:2:1:0': '2:1:2:0',\n",
       " '2:2:1:1': '2:1:2:2',\n",
       " '2:2:1:2': '2:1:2:1',\n",
       " '2:2:2:0': '2:1:1:0',\n",
       " '2:2:2:1': '2:1:1:2',\n",
       " '2:2:2:2': '2:1:1:1'}"
      ]
     },
     "execution_count": 14,
     "metadata": {},
     "output_type": "execute_result"
    }
   ],
   "source": [
    "F3cda2.conjugates()"
   ]
  },
  {
   "cell_type": "code",
   "execution_count": null,
   "id": "3cb99360",
   "metadata": {},
   "outputs": [],
   "source": []
  }
 ],
 "metadata": {
  "kernelspec": {
   "display_name": "Python 3 (ipykernel)",
   "language": "python",
   "name": "python3"
  },
  "language_info": {
   "codemirror_mode": {
    "name": "ipython",
    "version": 3
   },
   "file_extension": ".py",
   "mimetype": "text/x-python",
   "name": "python",
   "nbconvert_exporter": "python",
   "pygments_lexer": "ipython3",
   "version": "3.11.5"
  }
 },
 "nbformat": 4,
 "nbformat_minor": 5
}
