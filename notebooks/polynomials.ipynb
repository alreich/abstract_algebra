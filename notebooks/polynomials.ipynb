{
 "cells": [
  {
   "cell_type": "markdown",
   "id": "d435ceb4",
   "metadata": {},
   "source": [
    "# Abstract Polynomials"
   ]
  },
  {
   "cell_type": "markdown",
   "id": "94d16124",
   "metadata": {},
   "source": [
    "This is an experimental notebook."
   ]
  },
  {
   "cell_type": "markdown",
   "id": "59cb49fd",
   "metadata": {},
   "source": [
    "## Ordinary Polynomials"
   ]
  },
  {
   "cell_type": "markdown",
   "id": "29d97eba",
   "metadata": {},
   "source": [
    "Rolling my own polynomials just to see how difficult/useful this might be...\n",
    "\n",
    "Right now, it's all based on integer or floating point coefficients."
   ]
  },
  {
   "cell_type": "code",
   "execution_count": 1,
   "id": "f9774f11",
   "metadata": {},
   "outputs": [],
   "source": [
    "from polynomials import *"
   ]
  },
  {
   "cell_type": "code",
   "execution_count": 2,
   "id": "3830b344",
   "metadata": {},
   "outputs": [
    {
     "data": {
      "text/plain": [
       "Poly([-2, -4, 7, 0, -3], 'y')"
      ]
     },
     "execution_count": 2,
     "metadata": {},
     "output_type": "execute_result"
    }
   ],
   "source": [
    "coeffs = [-2, -4, 7, 0, -3]\n",
    "\n",
    "p = Poly(coeffs, 'y')\n",
    "p"
   ]
  },
  {
   "cell_type": "code",
   "execution_count": 3,
   "id": "7f7e5204",
   "metadata": {},
   "outputs": [
    {
     "name": "stdout",
     "output_type": "stream",
     "text": [
      "-194\n"
     ]
    }
   ],
   "source": [
    "y = 3\n",
    "print(-2 - 4*y + 7*y**2 - 3*y**4)"
   ]
  },
  {
   "cell_type": "code",
   "execution_count": 4,
   "id": "f6d7eac0",
   "metadata": {},
   "outputs": [
    {
     "data": {
      "text/plain": [
       "-194"
      ]
     },
     "execution_count": 4,
     "metadata": {},
     "output_type": "execute_result"
    }
   ],
   "source": [
    "p(3)"
   ]
  },
  {
   "cell_type": "code",
   "execution_count": 5,
   "id": "158aa7f0",
   "metadata": {},
   "outputs": [
    {
     "name": "stdout",
     "output_type": "stream",
     "text": [
      "-2 -4y +7y^2 -3y^4\n"
     ]
    }
   ],
   "source": [
    "print(p)"
   ]
  },
  {
   "cell_type": "code",
   "execution_count": 6,
   "id": "e61e76b8",
   "metadata": {},
   "outputs": [
    {
     "data": {
      "text/plain": [
       "Poly([-2, -4, 7, 0, -3])"
      ]
     },
     "execution_count": 6,
     "metadata": {},
     "output_type": "execute_result"
    }
   ],
   "source": [
    "polystr = \"-2 -4x +7x^2 -3x^4\"\n",
    "\n",
    "p2 = Poly(polystr)\n",
    "p2"
   ]
  },
  {
   "cell_type": "code",
   "execution_count": 7,
   "id": "3767b593",
   "metadata": {},
   "outputs": [
    {
     "data": {
      "text/plain": [
       "Poly([-2, -4, 7, 0, -3])"
      ]
     },
     "execution_count": 7,
     "metadata": {},
     "output_type": "execute_result"
    }
   ],
   "source": [
    "coef_order_pairs_a = [(-2,0), (-4,1), (7, 2), (-3, 4)]\n",
    "\n",
    "p3a = Poly(coef_order_pairs_a)\n",
    "p3a"
   ]
  },
  {
   "cell_type": "code",
   "execution_count": 8,
   "id": "d9a587b2",
   "metadata": {},
   "outputs": [
    {
     "data": {
      "text/plain": [
       "Poly([-2, -4, 7, 0, -3])"
      ]
     },
     "execution_count": 8,
     "metadata": {},
     "output_type": "execute_result"
    }
   ],
   "source": [
    "coef_order_pairs_b = [[-2,0], [-4,1], [7, 2], [-3, 4]]\n",
    "\n",
    "p3b = Poly(coef_order_pairs_b)\n",
    "p3b"
   ]
  },
  {
   "cell_type": "code",
   "execution_count": 9,
   "id": "455b7cb9",
   "metadata": {},
   "outputs": [
    {
     "data": {
      "text/plain": [
       "Poly([-2, -4, 7, 0, -3])"
      ]
     },
     "execution_count": 9,
     "metadata": {},
     "output_type": "execute_result"
    }
   ],
   "source": [
    "list_of_terms = [Term(-2,0), Term(-4,1), Term(7, 2), Term(-3, 4)]\n",
    "\n",
    "p4 = Poly(list_of_terms)\n",
    "p4"
   ]
  },
  {
   "cell_type": "code",
   "execution_count": 10,
   "id": "3b9f9da2",
   "metadata": {},
   "outputs": [
    {
     "data": {
      "text/plain": [
       "[Term(-2, 0, y), Term(-4, 1, y), Term(7, 2, y), Term(-3, 4, y)]"
      ]
     },
     "execution_count": 10,
     "metadata": {},
     "output_type": "execute_result"
    }
   ],
   "source": [
    "p.terms()"
   ]
  },
  {
   "cell_type": "code",
   "execution_count": 11,
   "id": "82685511",
   "metadata": {},
   "outputs": [
    {
     "data": {
      "text/plain": [
       "False"
      ]
     },
     "execution_count": 11,
     "metadata": {},
     "output_type": "execute_result"
    }
   ],
   "source": [
    "p.terms() == p2.terms # == p3a.terms == p3b.terms == p4.terms"
   ]
  },
  {
   "cell_type": "code",
   "execution_count": 12,
   "id": "55119adf",
   "metadata": {},
   "outputs": [
    {
     "name": "stdout",
     "output_type": "stream",
     "text": [
      "-2 -4x +7x^2 -3x^4\n"
     ]
    },
    {
     "data": {
      "text/plain": [
       "[Term(-2, 0), Term(-4, 1), Term(7, 2), Term(-3, 4)]"
      ]
     },
     "execution_count": 12,
     "metadata": {},
     "output_type": "execute_result"
    }
   ],
   "source": [
    "polystr = \"-2 -4x^1 +7x^2 -3x^4\"  # Added '^1' to linear term\n",
    "\n",
    "p = Poly(polystr)\n",
    "print(p)\n",
    "p.terms()"
   ]
  },
  {
   "cell_type": "code",
   "execution_count": 13,
   "id": "52e04916",
   "metadata": {},
   "outputs": [
    {
     "name": "stdout",
     "output_type": "stream",
     "text": [
      "-2 -4x +7x^2 -3x^4\n"
     ]
    },
    {
     "data": {
      "text/plain": [
       "[Term(-2, 0), Term(-4, 1), Term(7, 2), Term(-3, 4)]"
      ]
     },
     "execution_count": 13,
     "metadata": {},
     "output_type": "execute_result"
    }
   ],
   "source": [
    "polystr = \"-2x^0 -4x^1 +7x^2 -3x^4\"  # Added 'x^0' to constant term\n",
    "\n",
    "p = Poly(polystr)\n",
    "print(p)\n",
    "p.terms()"
   ]
  },
  {
   "cell_type": "code",
   "execution_count": 14,
   "id": "72872b98",
   "metadata": {},
   "outputs": [
    {
     "name": "stdout",
     "output_type": "stream",
     "text": [
      "-2 -4x +7x^2 -3x^4\n"
     ]
    },
    {
     "data": {
      "text/plain": [
       "[Term(-2, 0), Term(-4, 1), Term(7, 2), Term(-3, 4)]"
      ]
     },
     "execution_count": 14,
     "metadata": {},
     "output_type": "execute_result"
    }
   ],
   "source": [
    "polystr = \"-4x -2 -3x^4 +7x^2\"  #  Terms not in order \n",
    "\n",
    "p = Poly(polystr)\n",
    "print(p)\n",
    "p.terms()"
   ]
  },
  {
   "cell_type": "code",
   "execution_count": 15,
   "id": "329db0c0",
   "metadata": {},
   "outputs": [
    {
     "name": "stdout",
     "output_type": "stream",
     "text": [
      "-1 -1x +7x^2 -3x^4\n"
     ]
    },
    {
     "data": {
      "text/plain": [
       "[Term(-1, 0), Term(-1, 1), Term(7, 2), Term(-3, 4)]"
      ]
     },
     "execution_count": 15,
     "metadata": {},
     "output_type": "execute_result"
    }
   ],
   "source": [
    "polystr = \"2 -x -3 +7x^2 -3x^4\"  # No coefficient on linear term, 'x'\n",
    "\n",
    "p = Poly(polystr)\n",
    "print(p)\n",
    "p.terms()"
   ]
  },
  {
   "cell_type": "code",
   "execution_count": 16,
   "id": "ad2a8af9",
   "metadata": {},
   "outputs": [
    {
     "name": "stdout",
     "output_type": "stream",
     "text": [
      "-1 +7x^2 -3x^4\n"
     ]
    },
    {
     "data": {
      "text/plain": [
       "[Term(-1, 0), Term(7, 2), Term(-3, 4)]"
      ]
     },
     "execution_count": 16,
     "metadata": {},
     "output_type": "execute_result"
    }
   ],
   "source": [
    "polystr = \"2 -x -3 +7x^2 +x -3x^4\"  # linear terms cancel\n",
    "\n",
    "p = Poly(polystr)\n",
    "print(p)\n",
    "p.terms()"
   ]
  },
  {
   "cell_type": "code",
   "execution_count": 17,
   "id": "690e75b2",
   "metadata": {},
   "outputs": [
    {
     "name": "stdout",
     "output_type": "stream",
     "text": [
      "-3\n"
     ]
    },
    {
     "data": {
      "text/plain": [
       "[Term(-3, 0)]"
      ]
     },
     "execution_count": 17,
     "metadata": {},
     "output_type": "execute_result"
    }
   ],
   "source": [
    "polystr = \"-4x^2 -x -3 +7x^2 +x -3x^2\"  # Quadratic terms collapse and cancel\n",
    "\n",
    "p = Poly(polystr)\n",
    "print(p)\n",
    "p.terms()"
   ]
  },
  {
   "cell_type": "code",
   "execution_count": 18,
   "id": "8efd9740",
   "metadata": {},
   "outputs": [],
   "source": [
    "test_terms = [Term(-2,0), Term(-4,1), Term(-1,0), Term(7,2), Term(-3,4), Term(-2,2)]"
   ]
  },
  {
   "cell_type": "code",
   "execution_count": 19,
   "id": "581e80cb",
   "metadata": {},
   "outputs": [
    {
     "name": "stdout",
     "output_type": "stream",
     "text": [
      "[Term(-2, 0), Term(-4, 1), Term(-1, 0), Term(7, 2), Term(-3, 4), Term(-2, 2)]\n",
      "[Term(-3, 0), Term(-4, 1), Term(5, 2), Term(-3, 4)]\n"
     ]
    }
   ],
   "source": [
    "print(test_terms)\n",
    "print(combine_like_terms(test_terms))"
   ]
  },
  {
   "cell_type": "code",
   "execution_count": 20,
   "id": "30db80f6",
   "metadata": {},
   "outputs": [
    {
     "data": {
      "text/plain": [
       "Poly([-3, -4, 5, 0, -3])"
      ]
     },
     "execution_count": 20,
     "metadata": {},
     "output_type": "execute_result"
    }
   ],
   "source": [
    "polystr2 = \"-2 -4x -1 +7x^2 -3x^4 -2x^2\"\n",
    "p2 = Poly(polystr2)\n",
    "p2"
   ]
  },
  {
   "cell_type": "code",
   "execution_count": 21,
   "id": "fbd0fc69",
   "metadata": {},
   "outputs": [
    {
     "data": {
      "text/plain": [
       "Poly([0])"
      ]
     },
     "execution_count": 21,
     "metadata": {},
     "output_type": "execute_result"
    }
   ],
   "source": [
    "polystr3 = \"-2 +3x^4 -4x +2 +7x^2 +4x -3x^4 -7x^2\"\n",
    "p3 = Poly(polystr3)\n",
    "p3"
   ]
  },
  {
   "cell_type": "code",
   "execution_count": 22,
   "id": "33168050",
   "metadata": {},
   "outputs": [
    {
     "name": "stdout",
     "output_type": "stream",
     "text": [
      "+1 +2x\n",
      "+1 -2x\n"
     ]
    }
   ],
   "source": [
    "q1 = Poly('1 +2x')\n",
    "print(q1)\n",
    "q2 = Poly('1 -2x')\n",
    "print(q2)"
   ]
  },
  {
   "cell_type": "code",
   "execution_count": 23,
   "id": "a1f1543c",
   "metadata": {},
   "outputs": [
    {
     "data": {
      "text/plain": [
       "Poly([2])"
      ]
     },
     "execution_count": 23,
     "metadata": {},
     "output_type": "execute_result"
    }
   ],
   "source": [
    "q1 + q2"
   ]
  },
  {
   "cell_type": "code",
   "execution_count": 24,
   "id": "2c7ff353",
   "metadata": {},
   "outputs": [
    {
     "data": {
      "text/plain": [
       "Poly([1, 0, -4])"
      ]
     },
     "execution_count": 24,
     "metadata": {},
     "output_type": "execute_result"
    }
   ],
   "source": [
    "q1 * q2"
   ]
  },
  {
   "cell_type": "code",
   "execution_count": 25,
   "id": "866ab0ba",
   "metadata": {},
   "outputs": [
    {
     "data": {
      "text/plain": [
       "Poly([1, 4, 4])"
      ]
     },
     "execution_count": 25,
     "metadata": {},
     "output_type": "execute_result"
    }
   ],
   "source": [
    "q1 * q1"
   ]
  },
  {
   "cell_type": "code",
   "execution_count": 26,
   "id": "11660668",
   "metadata": {},
   "outputs": [
    {
     "data": {
      "text/plain": [
       "Poly([1, -4, 4])"
      ]
     },
     "execution_count": 26,
     "metadata": {},
     "output_type": "execute_result"
    }
   ],
   "source": [
    "q2 * q2"
   ]
  },
  {
   "cell_type": "code",
   "execution_count": 27,
   "id": "64bb19a1",
   "metadata": {},
   "outputs": [
    {
     "data": {
      "text/plain": [
       "Term(-3, 4)"
      ]
     },
     "execution_count": 27,
     "metadata": {},
     "output_type": "execute_result"
    }
   ],
   "source": [
    "parse_term('-3x^4', 'x')"
   ]
  },
  {
   "cell_type": "code",
   "execution_count": 28,
   "id": "5f8280b0",
   "metadata": {},
   "outputs": [
    {
     "data": {
      "text/plain": [
       "[Term(-2, 0), Term(-4, 1), Term(7, 2), Term(-3, 4)]"
      ]
     },
     "execution_count": 28,
     "metadata": {},
     "output_type": "execute_result"
    }
   ],
   "source": [
    "parse_polynomial('-2 -4x +7x^2 -3x^4', 'x')"
   ]
  },
  {
   "cell_type": "code",
   "execution_count": 29,
   "id": "d096f915",
   "metadata": {},
   "outputs": [],
   "source": [
    "input = [Term(-2,0), Term(-4,1), Term(7,2), Term(-3,1), Term(5, 0)]"
   ]
  },
  {
   "cell_type": "code",
   "execution_count": 30,
   "id": "3a85ed81",
   "metadata": {},
   "outputs": [
    {
     "data": {
      "text/plain": [
       "[Term(3, 0), Term(-7, 1), Term(7, 2)]"
      ]
     },
     "execution_count": 30,
     "metadata": {},
     "output_type": "execute_result"
    }
   ],
   "source": [
    "combine_like_terms(input)"
   ]
  },
  {
   "cell_type": "code",
   "execution_count": 31,
   "id": "19002e09",
   "metadata": {},
   "outputs": [
    {
     "data": {
      "text/plain": [
       "[(-3, 0), (-4, 1), (5, 2), (-3, 4)]"
      ]
     },
     "execution_count": 31,
     "metadata": {},
     "output_type": "execute_result"
    }
   ],
   "source": [
    "p2.term_tuples()"
   ]
  },
  {
   "cell_type": "code",
   "execution_count": 32,
   "id": "948fdb0f",
   "metadata": {},
   "outputs": [
    {
     "data": {
      "text/plain": [
       "[-3, -4, 5, 0, -3]"
      ]
     },
     "execution_count": 32,
     "metadata": {},
     "output_type": "execute_result"
    }
   ],
   "source": [
    "p2.term_coefficients()"
   ]
  },
  {
   "cell_type": "code",
   "execution_count": 33,
   "id": "1e2ecf9a",
   "metadata": {},
   "outputs": [
    {
     "data": {
      "text/plain": [
       "Poly([(1, 0), (7, 19)])"
      ]
     },
     "execution_count": 33,
     "metadata": {},
     "output_type": "execute_result"
    }
   ],
   "source": [
    "coeffs1 = [1, 0, 0, 0, 0, 0, 0, 0, 0, 0, 0, 0, 0, 0, 0, 0, 0, 0, 0, 7]\n",
    "p_large_order1 = Poly(coeffs1)\n",
    "p_large_order1"
   ]
  },
  {
   "cell_type": "code",
   "execution_count": 34,
   "id": "a4f6d72a",
   "metadata": {},
   "outputs": [
    {
     "data": {
      "text/plain": [
       "Poly([(1, 0), (7, 6)])"
      ]
     },
     "execution_count": 34,
     "metadata": {},
     "output_type": "execute_result"
    }
   ],
   "source": [
    "coeffs2 = [1, 0, 0, 0, 0, 0, 7]\n",
    "p_large_order2 = Poly(coeffs2)\n",
    "p_large_order2"
   ]
  },
  {
   "cell_type": "code",
   "execution_count": 35,
   "id": "51fc3ac7",
   "metadata": {},
   "outputs": [
    {
     "data": {
      "text/plain": [
       "Poly([1, 0, 0, 0, 0, 7])"
      ]
     },
     "execution_count": 35,
     "metadata": {},
     "output_type": "execute_result"
    }
   ],
   "source": [
    "coeffs3 = [1, 0, 0, 0, 0, 7]\n",
    "p_large_order3 = Poly(coeffs3)\n",
    "p_large_order3"
   ]
  },
  {
   "cell_type": "code",
   "execution_count": 36,
   "id": "9d4f7e38",
   "metadata": {},
   "outputs": [
    {
     "data": {
      "text/plain": [
       "-333"
      ]
     },
     "execution_count": 36,
     "metadata": {},
     "output_type": "execute_result"
    }
   ],
   "source": [
    "num('-333')"
   ]
  },
  {
   "cell_type": "code",
   "execution_count": 37,
   "id": "4e718836",
   "metadata": {},
   "outputs": [
    {
     "data": {
      "text/plain": [
       "-0.3"
      ]
     },
     "execution_count": 37,
     "metadata": {},
     "output_type": "execute_result"
    }
   ],
   "source": [
    "num('-0.3')"
   ]
  },
  {
   "cell_type": "code",
   "execution_count": 38,
   "id": "b066c60b",
   "metadata": {},
   "outputs": [
    {
     "data": {
      "text/plain": [
       "1"
      ]
     },
     "execution_count": 38,
     "metadata": {},
     "output_type": "execute_result"
    }
   ],
   "source": [
    "num(True)"
   ]
  },
  {
   "cell_type": "code",
   "execution_count": 39,
   "id": "3d46ad7b",
   "metadata": {},
   "outputs": [
    {
     "data": {
      "text/plain": [
       "Poly([-2.2, -4, 7.3, 0, -3])"
      ]
     },
     "execution_count": 39,
     "metadata": {},
     "output_type": "execute_result"
    }
   ],
   "source": [
    "coeffs = [-2.2, -4, 7.3, -0.0, -3]\n",
    "\n",
    "p = Poly(coeffs)\n",
    "p"
   ]
  },
  {
   "cell_type": "code",
   "execution_count": 40,
   "id": "d52f3055",
   "metadata": {},
   "outputs": [
    {
     "name": "stdout",
     "output_type": "stream",
     "text": [
      "-2.2 -4x +7.3x^2 -3x^4\n"
     ]
    }
   ],
   "source": [
    "print(p)"
   ]
  },
  {
   "cell_type": "code",
   "execution_count": 41,
   "id": "61707d44",
   "metadata": {},
   "outputs": [
    {
     "data": {
      "text/plain": [
       "Poly([-2.2, -4, 7.3, 0, -3])"
      ]
     },
     "execution_count": 41,
     "metadata": {},
     "output_type": "execute_result"
    }
   ],
   "source": [
    "Poly('-2.2 -4x +7.3x^2 -3x^4')"
   ]
  },
  {
   "cell_type": "code",
   "execution_count": null,
   "id": "122bc650",
   "metadata": {},
   "outputs": [],
   "source": []
  },
  {
   "cell_type": "code",
   "execution_count": 42,
   "id": "180c1211",
   "metadata": {},
   "outputs": [],
   "source": [
    "roots = [1, 2, 3]\n",
    "\n",
    "p = fromroots(roots)"
   ]
  },
  {
   "cell_type": "code",
   "execution_count": 43,
   "id": "1a79c0c7",
   "metadata": {},
   "outputs": [
    {
     "name": "stdout",
     "output_type": "stream",
     "text": [
      "+6 -11x +6x^2 -1x^3\n"
     ]
    }
   ],
   "source": [
    "print(p)"
   ]
  },
  {
   "cell_type": "code",
   "execution_count": 44,
   "id": "08475819",
   "metadata": {},
   "outputs": [
    {
     "data": {
      "text/plain": [
       "0"
      ]
     },
     "execution_count": 44,
     "metadata": {},
     "output_type": "execute_result"
    }
   ],
   "source": [
    "p(1)"
   ]
  },
  {
   "cell_type": "code",
   "execution_count": 45,
   "id": "95dcff89",
   "metadata": {},
   "outputs": [
    {
     "data": {
      "text/plain": [
       "0"
      ]
     },
     "execution_count": 45,
     "metadata": {},
     "output_type": "execute_result"
    }
   ],
   "source": [
    "p(2)"
   ]
  },
  {
   "cell_type": "code",
   "execution_count": 46,
   "id": "1b2311ac",
   "metadata": {},
   "outputs": [
    {
     "data": {
      "text/plain": [
       "0"
      ]
     },
     "execution_count": 46,
     "metadata": {},
     "output_type": "execute_result"
    }
   ],
   "source": [
    "p(3)"
   ]
  },
  {
   "cell_type": "code",
   "execution_count": 47,
   "id": "68dd6347",
   "metadata": {},
   "outputs": [
    {
     "name": "stdout",
     "output_type": "stream",
     "text": [
      "+6 -11x +6x^2 -1x^3\n"
     ]
    }
   ],
   "source": [
    "print(p)"
   ]
  },
  {
   "cell_type": "code",
   "execution_count": 48,
   "id": "7878ed1d",
   "metadata": {},
   "outputs": [
    {
     "name": "stdout",
     "output_type": "stream",
     "text": [
      "-11 +12x -3x^2\n"
     ]
    }
   ],
   "source": [
    "p_der = p.derivative()\n",
    "print(p_der)"
   ]
  },
  {
   "cell_type": "code",
   "execution_count": 49,
   "id": "25d391b1",
   "metadata": {},
   "outputs": [
    {
     "name": "stdout",
     "output_type": "stream",
     "text": [
      "+8x^3\n"
     ]
    }
   ],
   "source": [
    "foo = Term(8,3)\n",
    "print(foo)"
   ]
  },
  {
   "cell_type": "code",
   "execution_count": 51,
   "id": "8c199d7d",
   "metadata": {},
   "outputs": [
    {
     "name": "stdout",
     "output_type": "stream",
     "text": [
      "+2.0x^4\n"
     ]
    }
   ],
   "source": [
    "print(foo.antiderivative())"
   ]
  },
  {
   "cell_type": "code",
   "execution_count": 52,
   "id": "d2a97712",
   "metadata": {},
   "outputs": [
    {
     "name": "stdout",
     "output_type": "stream",
     "text": [
      "+6 -11.0x +6.0x^2 -1.0x^3\n"
     ]
    }
   ],
   "source": [
    "p_der_antider = p_der.antiderivative(6)\n",
    "print(p_der_antider)"
   ]
  },
  {
   "cell_type": "markdown",
   "id": "f50cc7b8",
   "metadata": {},
   "source": [
    "## NumPy Polynomials"
   ]
  },
  {
   "cell_type": "code",
   "execution_count": 53,
   "id": "606a2e39",
   "metadata": {},
   "outputs": [
    {
     "data": {
      "text/latex": [
       "$x \\mapsto \\text{-2.0} - \\text{4.0}\\,x + \\text{7.0}\\,x^{2}\\color{LightGray}{ + \\text{0.0}\\,x^{3}} - \\text{3.0}\\,x^{4}$"
      ],
      "text/plain": [
       "Polynomial([-2., -4.,  7.,  0., -3.], domain=[-1,  1], window=[-1,  1])"
      ]
     },
     "execution_count": 53,
     "metadata": {},
     "output_type": "execute_result"
    }
   ],
   "source": [
    "from numpy.polynomial import Polynomial\n",
    "\n",
    "poly_coeff = [-2, -4, 7, 0, -3]\n",
    "poly = Polynomial(poly_coeff)\n",
    "poly"
   ]
  },
  {
   "cell_type": "code",
   "execution_count": 54,
   "id": "846d34d8",
   "metadata": {},
   "outputs": [
    {
     "data": {
      "text/plain": [
       "-194.0"
      ]
     },
     "execution_count": 54,
     "metadata": {},
     "output_type": "execute_result"
    }
   ],
   "source": [
    "poly(3)"
   ]
  },
  {
   "cell_type": "code",
   "execution_count": 55,
   "id": "19df23e6",
   "metadata": {},
   "outputs": [
    {
     "name": "stdout",
     "output_type": "stream",
     "text": [
      "-2.0 - 4.0·x¹ + 7.0·x² + 0.0·x³ - 3.0·x⁴\n"
     ]
    }
   ],
   "source": [
    "print(poly)"
   ]
  },
  {
   "cell_type": "code",
   "execution_count": 56,
   "id": "efee96ac",
   "metadata": {},
   "outputs": [
    {
     "data": {
      "text/latex": [
       "$x \\mapsto \\text{1.0} + \\text{1.0}\\,x$"
      ],
      "text/plain": [
       "Polynomial([1., 1.], domain=[-1,  1], window=[-1,  1])"
      ]
     },
     "execution_count": 56,
     "metadata": {},
     "output_type": "execute_result"
    }
   ],
   "source": [
    "poly1 = Polynomial([1, 1])\n",
    "poly1"
   ]
  },
  {
   "cell_type": "code",
   "execution_count": 57,
   "id": "b5ea8f7f",
   "metadata": {},
   "outputs": [
    {
     "data": {
      "text/latex": [
       "$x \\mapsto \\text{1.0} - \\text{1.0}\\,x$"
      ],
      "text/plain": [
       "Polynomial([ 1., -1.], domain=[-1,  1], window=[-1,  1])"
      ]
     },
     "execution_count": 57,
     "metadata": {},
     "output_type": "execute_result"
    }
   ],
   "source": [
    "poly2 = Polynomial([1, -1])\n",
    "poly2"
   ]
  },
  {
   "cell_type": "code",
   "execution_count": 58,
   "id": "9e334fa0",
   "metadata": {},
   "outputs": [
    {
     "data": {
      "text/latex": [
       "$x \\mapsto \\text{1.0}\\color{LightGray}{ + \\text{0.0}\\,x} - \\text{1.0}\\,x^{2}$"
      ],
      "text/plain": [
       "Polynomial([ 1.,  0., -1.], domain=[-1.,  1.], window=[-1.,  1.])"
      ]
     },
     "execution_count": 58,
     "metadata": {},
     "output_type": "execute_result"
    }
   ],
   "source": [
    "poly1 * poly2"
   ]
  },
  {
   "cell_type": "code",
   "execution_count": 59,
   "id": "08d72d03",
   "metadata": {},
   "outputs": [],
   "source": [
    "# help(Polynomial)"
   ]
  }
 ],
 "metadata": {
  "kernelspec": {
   "display_name": "Python 3",
   "language": "python",
   "name": "python3"
  },
  "language_info": {
   "codemirror_mode": {
    "name": "ipython",
    "version": 3
   },
   "file_extension": ".py",
   "mimetype": "text/x-python",
   "name": "python",
   "nbconvert_exporter": "python",
   "pygments_lexer": "ipython3",
   "version": "3.7.7"
  }
 },
 "nbformat": 4,
 "nbformat_minor": 5
}
