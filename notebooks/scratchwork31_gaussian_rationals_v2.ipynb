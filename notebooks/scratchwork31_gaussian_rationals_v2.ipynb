{
 "cells": [
  {
   "cell_type": "markdown",
   "id": "1def3528",
   "metadata": {},
   "source": [
    "# Gaussian Rationals"
   ]
  },
  {
   "cell_type": "markdown",
   "id": "16e2dc13",
   "metadata": {},
   "source": [
    "<i>Version 2</i>"
   ]
  },
  {
   "cell_type": "code",
   "execution_count": 1,
   "id": "63abefd8",
   "metadata": {},
   "outputs": [],
   "source": [
    "from gaussian_integers import Zi\n",
    "from fractions import Fraction\n",
    "from gaussian_rationals import Qi"
   ]
  },
  {
   "cell_type": "markdown",
   "id": "a88d9448",
   "metadata": {},
   "source": [
    "## References"
   ]
  },
  {
   "cell_type": "markdown",
   "id": "a3dd41ef",
   "metadata": {},
   "source": [
    "* [Python fractions](https://docs.python.org/3/library/fractions.html)"
   ]
  },
  {
   "cell_type": "markdown",
   "id": "55476da2",
   "metadata": {},
   "source": [
    "## The Gaussian Rational Class"
   ]
  },
  {
   "cell_type": "markdown",
   "id": "b3975dcd",
   "metadata": {},
   "source": []
  },
  {
   "cell_type": "markdown",
   "id": "9f5e7172",
   "metadata": {},
   "source": [
    "## Creating Gaussian Rationals"
   ]
  },
  {
   "cell_type": "code",
   "execution_count": 2,
   "id": "3bd58d12",
   "metadata": {},
   "outputs": [
    {
     "name": "stdout",
     "output_type": "stream",
     "text": [
      "1/2\n",
      "3/5\n"
     ]
    }
   ],
   "source": [
    "f1 = Fraction(1, 2)\n",
    "f2 = Fraction(3, 5)\n",
    "print(f1)\n",
    "print(f2)"
   ]
  },
  {
   "cell_type": "code",
   "execution_count": 3,
   "id": "1b34e40c",
   "metadata": {},
   "outputs": [
    {
     "data": {
      "text/plain": [
       "Qi('1/2', '3/5')"
      ]
     },
     "execution_count": 3,
     "metadata": {},
     "output_type": "execute_result"
    }
   ],
   "source": [
    "a = Qi(f1, f2)\n",
    "a"
   ]
  },
  {
   "cell_type": "code",
   "execution_count": 4,
   "id": "98977b96",
   "metadata": {},
   "outputs": [
    {
     "data": {
      "text/plain": [
       "Qi('2/3', '-1/7')"
      ]
     },
     "execution_count": 4,
     "metadata": {},
     "output_type": "execute_result"
    }
   ],
   "source": [
    "b = Qi(\"4/6\", \"-1/7\")\n",
    "b"
   ]
  },
  {
   "cell_type": "code",
   "execution_count": 5,
   "id": "79047890",
   "metadata": {},
   "outputs": [
    {
     "data": {
      "text/plain": [
       "Qi('3', '8')"
      ]
     },
     "execution_count": 5,
     "metadata": {},
     "output_type": "execute_result"
    }
   ],
   "source": [
    "c = Qi(3, 8)\n",
    "c"
   ]
  },
  {
   "cell_type": "markdown",
   "id": "2753d03d",
   "metadata": {},
   "source": [
    "## Printing Gaussian Rationals"
   ]
  },
  {
   "cell_type": "code",
   "execution_count": 6,
   "id": "73813222",
   "metadata": {},
   "outputs": [
    {
     "name": "stdout",
     "output_type": "stream",
     "text": [
      "(1/2+3/5j)\n",
      "(2/3-1/7j)\n",
      "(3+8j)\n"
     ]
    }
   ],
   "source": [
    "print(a)\n",
    "print(b)\n",
    "print(c)"
   ]
  },
  {
   "cell_type": "markdown",
   "id": "30e9f290",
   "metadata": {},
   "source": [
    "## Gaussian Rational Arithmetic"
   ]
  },
  {
   "cell_type": "markdown",
   "id": "8d014792",
   "metadata": {},
   "source": [
    "### Addition"
   ]
  },
  {
   "cell_type": "code",
   "execution_count": 7,
   "id": "0e0f7b7b",
   "metadata": {},
   "outputs": [
    {
     "name": "stdout",
     "output_type": "stream",
     "text": [
      "(7/6+16/35j)\n"
     ]
    }
   ],
   "source": [
    "print(a + b)"
   ]
  },
  {
   "cell_type": "markdown",
   "id": "0344bebd",
   "metadata": {},
   "source": [
    "### Subtraction"
   ]
  },
  {
   "cell_type": "code",
   "execution_count": 8,
   "id": "ee7c771e",
   "metadata": {},
   "outputs": [
    {
     "name": "stdout",
     "output_type": "stream",
     "text": [
      "(-1/6+26/35j)\n"
     ]
    }
   ],
   "source": [
    "print(a - b)"
   ]
  },
  {
   "cell_type": "markdown",
   "id": "cc759e17",
   "metadata": {},
   "source": [
    "### Multiplication"
   ]
  },
  {
   "cell_type": "code",
   "execution_count": 9,
   "id": "3d96fc0d",
   "metadata": {},
   "outputs": [
    {
     "name": "stdout",
     "output_type": "stream",
     "text": [
      "(44/105+23/70j)\n"
     ]
    }
   ],
   "source": [
    "print(a * b)"
   ]
  },
  {
   "cell_type": "markdown",
   "id": "407293c7",
   "metadata": {},
   "source": [
    "### Inverses"
   ]
  },
  {
   "cell_type": "code",
   "execution_count": 10,
   "id": "ab81b438",
   "metadata": {},
   "outputs": [
    {
     "name": "stdout",
     "output_type": "stream",
     "text": [
      "(50/61-60/61j)\n"
     ]
    }
   ],
   "source": [
    "print(a.inv)"
   ]
  },
  {
   "cell_type": "code",
   "execution_count": 11,
   "id": "4b0cfae2",
   "metadata": {},
   "outputs": [
    {
     "name": "stdout",
     "output_type": "stream",
     "text": [
      "(1+0j)\n"
     ]
    }
   ],
   "source": [
    "print(a * a.inv)"
   ]
  },
  {
   "cell_type": "markdown",
   "id": "ae32b894",
   "metadata": {},
   "source": [
    "### Division"
   ]
  },
  {
   "cell_type": "code",
   "execution_count": 12,
   "id": "002d807b",
   "metadata": {},
   "outputs": [
    {
     "name": "stdout",
     "output_type": "stream",
     "text": [
      "(1/2+3/5j)\n",
      "(2/3-1/7j)\n",
      "(546/1025+2079/2050j)\n"
     ]
    }
   ],
   "source": [
    "print(a)\n",
    "print(b)\n",
    "print(a / b)"
   ]
  },
  {
   "cell_type": "code",
   "execution_count": 13,
   "id": "678e8926",
   "metadata": {},
   "outputs": [
    {
     "name": "stdout",
     "output_type": "stream",
     "text": [
      "(294/205+63/205j)\n",
      "(546/1025+2079/2050j)\n"
     ]
    }
   ],
   "source": [
    "print(b.inv)\n",
    "print(a * b.inv)"
   ]
  },
  {
   "cell_type": "markdown",
   "id": "34512aa5",
   "metadata": {},
   "source": [
    "### Powers"
   ]
  },
  {
   "cell_type": "code",
   "execution_count": 14,
   "id": "5f92f281",
   "metadata": {},
   "outputs": [
    {
     "name": "stdout",
     "output_type": "stream",
     "text": [
      "(-83/200+117/500j)\n"
     ]
    }
   ],
   "source": [
    "print(a**3)"
   ]
  },
  {
   "cell_type": "code",
   "execution_count": 15,
   "id": "4b1efc3e",
   "metadata": {},
   "outputs": [
    {
     "name": "stdout",
     "output_type": "stream",
     "text": [
      "(-83/200+117/500j)\n"
     ]
    }
   ],
   "source": [
    "print(a * a * a)"
   ]
  },
  {
   "cell_type": "markdown",
   "id": "d750b9da",
   "metadata": {},
   "source": [
    "### Conjugation & Norms"
   ]
  },
  {
   "cell_type": "code",
   "execution_count": 16,
   "id": "76a9b456",
   "metadata": {
    "scrolled": true
   },
   "outputs": [
    {
     "name": "stdout",
     "output_type": "stream",
     "text": [
      "(1/2-3/5j)\n"
     ]
    }
   ],
   "source": [
    "print(a.conj)"
   ]
  },
  {
   "cell_type": "code",
   "execution_count": 17,
   "id": "2a4bc8ad",
   "metadata": {},
   "outputs": [
    {
     "name": "stdout",
     "output_type": "stream",
     "text": [
      "61/100\n"
     ]
    }
   ],
   "source": [
    "print(a.norm)"
   ]
  },
  {
   "cell_type": "markdown",
   "id": "45f725f4",
   "metadata": {},
   "source": [
    "### Negation"
   ]
  },
  {
   "cell_type": "code",
   "execution_count": 18,
   "id": "edd90298",
   "metadata": {},
   "outputs": [
    {
     "name": "stdout",
     "output_type": "stream",
     "text": [
      "(2/3-1/7j)\n",
      "(-2/3+1/7j)\n"
     ]
    }
   ],
   "source": [
    "print(b)\n",
    "print(-b)"
   ]
  },
  {
   "cell_type": "markdown",
   "id": "6f5a0f8b",
   "metadata": {},
   "source": [
    "## Equality & Inequality"
   ]
  },
  {
   "cell_type": "code",
   "execution_count": 19,
   "id": "10e4fbf7",
   "metadata": {},
   "outputs": [],
   "source": [
    "# TBD"
   ]
  },
  {
   "cell_type": "markdown",
   "id": "cee93bd5",
   "metadata": {},
   "source": [
    "## Associates"
   ]
  },
  {
   "cell_type": "code",
   "execution_count": 20,
   "id": "3bac199a",
   "metadata": {},
   "outputs": [],
   "source": [
    "# not implemented yet"
   ]
  },
  {
   "cell_type": "markdown",
   "id": "fad70ef4",
   "metadata": {},
   "source": [
    "## Units"
   ]
  },
  {
   "cell_type": "code",
   "execution_count": 21,
   "id": "ef9e50b2",
   "metadata": {},
   "outputs": [],
   "source": [
    "# not implemented yet"
   ]
  },
  {
   "cell_type": "markdown",
   "id": "a0b83f31",
   "metadata": {},
   "source": [
    "## Conversion to Complex Type"
   ]
  },
  {
   "cell_type": "code",
   "execution_count": 22,
   "id": "49d709ea",
   "metadata": {},
   "outputs": [
    {
     "name": "stdout",
     "output_type": "stream",
     "text": [
      "(546/1025+2079/2050j)\n"
     ]
    },
    {
     "data": {
      "text/plain": [
       "(0.5326829268292683+1.0141463414634146j)"
      ]
     },
     "execution_count": 22,
     "metadata": {},
     "output_type": "execute_result"
    }
   ],
   "source": [
    "print(a/b)\n",
    "complex(a/b)"
   ]
  },
  {
   "cell_type": "code",
   "execution_count": 23,
   "id": "4890c2d4",
   "metadata": {},
   "outputs": [
    {
     "data": {
      "text/plain": [
       "(0.5326829268292683+1.0141463414634146j)"
      ]
     },
     "execution_count": 23,
     "metadata": {},
     "output_type": "execute_result"
    }
   ],
   "source": [
    "complex(a) / complex(b)"
   ]
  },
  {
   "cell_type": "markdown",
   "id": "955b7a5d",
   "metadata": {},
   "source": [
    "## Gaussian Integers to Gaussian Rationals"
   ]
  },
  {
   "cell_type": "markdown",
   "id": "21828753",
   "metadata": {},
   "source": [
    "When two Gaussian integers, $\\alpha, \\beta \\in \\mathbb{Z}[i]$ are input to the Gaussian rational, $\\mathbb{Q}[i]$, constructor, as shown below, they are interpreted as **numerator** and **denominator**, respectively, **NOT** as real and imaginary parts. A Gaussian rational is returned.\n",
    "\n",
    "That is, if $\\alpha, \\beta \\in \\mathbb{Z}[i]$, then Grat$(\\alpha, \\beta) \\rightarrow {\\large \\frac{\\alpha}{\\beta}} \\in \\mathbb{Q}[i].$"
   ]
  },
  {
   "cell_type": "code",
   "execution_count": 24,
   "id": "29823d32",
   "metadata": {},
   "outputs": [
    {
     "name": "stdout",
     "output_type": "stream",
     "text": [
      "alpha = (2+6j)\n",
      " beta = (4+5j)\n"
     ]
    }
   ],
   "source": [
    "alpha = Zi(2, 6)\n",
    "beta = Zi(4, 5)\n",
    "print(f\"alpha = {alpha}\")\n",
    "print(f\" beta = {beta}\")"
   ]
  },
  {
   "cell_type": "code",
   "execution_count": 25,
   "id": "8da5a663",
   "metadata": {},
   "outputs": [
    {
     "name": "stdout",
     "output_type": "stream",
     "text": [
      "(38/41+14/41j)\n",
      "(0.926829268292683+0.34146341463414637j)\n",
      "(0.926829268292683+0.3414634146341464j)\n"
     ]
    }
   ],
   "source": [
    "rat = alpha / beta\n",
    "\n",
    "print(rat)\n",
    "\n",
    "print(complex(rat))\n",
    "\n",
    "print(complex(alpha) / complex(beta))"
   ]
  },
  {
   "cell_type": "markdown",
   "id": "6c334c55",
   "metadata": {},
   "source": [
    "## Examples from Wolfram"
   ]
  },
  {
   "cell_type": "markdown",
   "id": "9e2740b2",
   "metadata": {},
   "source": [
    "* [Irreducible fractions](https://mathworld.wolfram.com/IrreducibleFraction.html) - Wolfram"
   ]
  },
  {
   "cell_type": "markdown",
   "id": "03967434",
   "metadata": {},
   "source": [
    "**Example 1**"
   ]
  },
  {
   "cell_type": "code",
   "execution_count": 26,
   "id": "6ebb61e6",
   "metadata": {},
   "outputs": [],
   "source": [
    "from gaussian_integers import gcd, xgcd, mod_divmod"
   ]
  },
  {
   "cell_type": "code",
   "execution_count": 27,
   "id": "9e38e9a5",
   "metadata": {},
   "outputs": [],
   "source": [
    "a = Zi(4, 7)\n",
    "b = Zi(2, 1)"
   ]
  },
  {
   "cell_type": "code",
   "execution_count": 28,
   "id": "2f8aec06",
   "metadata": {},
   "outputs": [
    {
     "name": "stdout",
     "output_type": "stream",
     "text": [
      "a = (4+7j)\n",
      "b = (2+1j)\n",
      "gcd(a, b) = (2+1j)\n"
     ]
    },
    {
     "data": {
      "text/plain": [
       "Qi('3', '2')"
      ]
     },
     "execution_count": 28,
     "metadata": {},
     "output_type": "execute_result"
    }
   ],
   "source": [
    "print(f\"a = {a}\")\n",
    "print(f\"b = {b}\")\n",
    "print(f\"gcd(a, b) = {gcd(a, b)}\")\n",
    "\n",
    "a / b"
   ]
  },
  {
   "cell_type": "markdown",
   "id": "78da68fe",
   "metadata": {},
   "source": [
    "**Example 2**"
   ]
  },
  {
   "cell_type": "code",
   "execution_count": 29,
   "id": "38a66f3e",
   "metadata": {},
   "outputs": [],
   "source": [
    "a = Zi(5, 5)\n",
    "b = Zi(7, 1)"
   ]
  },
  {
   "cell_type": "code",
   "execution_count": 30,
   "id": "d33e52d1",
   "metadata": {},
   "outputs": [
    {
     "name": "stdout",
     "output_type": "stream",
     "text": [
      "a = (5+5j)\n",
      "b = (7+1j)\n",
      "gcd(a, b) = (-1-3j)\n"
     ]
    },
    {
     "data": {
      "text/plain": [
       "Qi('4/5', '3/5')"
      ]
     },
     "execution_count": 30,
     "metadata": {},
     "output_type": "execute_result"
    }
   ],
   "source": [
    "print(f\"a = {a}\")\n",
    "print(f\"b = {b}\")\n",
    "print(f\"gcd(a, b) = {gcd(a, b)}\")\n",
    "\n",
    "a / b"
   ]
  }
 ],
 "metadata": {
  "kernelspec": {
   "display_name": "Python 3 (ipykernel)",
   "language": "python",
   "name": "python3"
  },
  "language_info": {
   "codemirror_mode": {
    "name": "ipython",
    "version": 3
   },
   "file_extension": ".py",
   "mimetype": "text/x-python",
   "name": "python",
   "nbconvert_exporter": "python",
   "pygments_lexer": "ipython3",
   "version": "3.11.5"
  }
 },
 "nbformat": 4,
 "nbformat_minor": 5
}
