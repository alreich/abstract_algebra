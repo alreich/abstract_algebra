{
 "cells": [
  {
   "cell_type": "markdown",
   "id": "0a2a6fc6",
   "metadata": {},
   "source": [
    "# Definitions"
   ]
  },
  {
   "cell_type": "markdown",
   "id": "b7b6b2b6",
   "metadata": {},
   "source": [
    "The structure and properties of the class hierarchy of the ``finite_algebra`` module are based on the following definitions."
   ]
  },
  {
   "cell_type": "markdown",
   "id": "a343291f",
   "metadata": {},
   "source": [
    "## Groups, Rings, Fields, etc."
   ]
  },
  {
   "cell_type": "markdown",
   "id": "bf19f2ba",
   "metadata": {},
   "source": [
    "The following list of algebraic structures is ordered such that each successive structure builds on the previous one.  The class hierarchy of the ``finite_algebra`` module modeled on this progression."
   ]
  },
  {
   "cell_type": "markdown",
   "id": "fa80792e",
   "metadata": {},
   "source": [
    "* **Magma** -- a set with a binary operation:  $\\langle S, \\circ \\rangle$, where $S$ is a set and $\\circ: S \\times S \\to S$\n",
    "\n",
    "* **Semigroup** -- an associative Magma:  for any $a,b,c \\in S \\Rightarrow a \\circ (b \\circ c) = (a \\circ b) \\circ c$\n",
    "\n",
    "* **Monoid** -- a Semigroup with identity element:  $\\exists e \\in S$, such that, for all $a \\in S, a \\circ e = e \\circ a = a$\n",
    "\n",
    "* **Group** -- a Monoid with inverse elements:  $\\forall a \\in S, \\exists a^{-1} \\in S$, such that, $a \\circ a^{-1} = a^{-1} \n",
    "\\circ a = e$\n",
    "\n",
    "* **Ring** -- $\\langle S, +, \\times \\rangle$, where $\\langle S, + \\rangle$ is a commutative Group, $\\langle S, \\times \\rangle$ is a Semigroup, and $\\times$ distributes over $+$\n",
    "\n",
    "* **Field** -- a Ring $\\langle S, +, \\times \\rangle$, where $\\langle S\\setminus{\\{0\\}}, \\times \\rangle$ is a commutative Group"
   ]
  },
  {
   "cell_type": "markdown",
   "id": "b63b0cda",
   "metadata": {},
   "source": [
    "## Vector Spaces and Modules"
   ]
  },
  {
   "cell_type": "markdown",
   "id": "822bdc89",
   "metadata": {},
   "source": [
    "In the definitions, below, care is taken to not conflate the scalar-scalar, vector-vector, and scalar-vector operations."
   ]
  },
  {
   "cell_type": "markdown",
   "id": "5f463d3c",
   "metadata": {},
   "source": [
    "A **Vector Space**, $\\mathscr{V} = \\langle \\mathscr{G}, \\mathscr{F}, \\circ \\rangle$, consists of the following:\n",
    "\n",
    "* an **abelian Group**, $\\mathscr{G} = \\langle V, \\oplus \\rangle$ (i.e., the *\"vectors\"*)\n",
    "* a **field**, $\\mathscr{F} = \\langle S, +, \\times \\rangle$ (i.e., the *\"scalars\"*)\n",
    "* and a **binary operator**, $\\circ : S \\times V \\to V$\n",
    "\n",
    "where the following conditions hold:\n",
    "\n",
    "1. Scaled Vectors: For all $s \\in S$ and $v \\in V \\Rightarrow s \\circ v \\in V$\n",
    "1. Scaling by One: If $\\underline{1} \\in S$ is the multiplicative identity element of $\\mathscr{F}$, then $\\underline{1} \\circ v = v$\n",
    "1. Distributivity of Scalars Over Vector Addition: $s \\circ (v_1 \\oplus v_2) = (s \\circ v_1) \\oplus (s \\circ v_2)$\n",
    "1. Distributivity of Vectors Over Scalar Addition: $(s_1 + s_2) \\circ v = (s_1 \\circ v) \\oplus (s_2 \\circ v)$\n",
    "1. Associativity: $s_1 \\circ (s_2 \\circ v) = (s_1 \\times s_2) \\circ v$"
   ]
  },
  {
   "cell_type": "markdown",
   "id": "31c5423d",
   "metadata": {},
   "source": [
    "A **Module**, $\\mathscr{M} = \\langle \\mathscr{G}, \\mathscr{R}, \\circ \\rangle$, has the same conditions as a Vector Space, except that the Field is replaced by a **Ring**, $\\mathscr{R} = \\langle S, +, \\times \\rangle$."
   ]
  }
 ],
 "metadata": {
  "kernelspec": {
   "display_name": "Python 3",
   "language": "python",
   "name": "python3"
  },
  "language_info": {
   "codemirror_mode": {
    "name": "ipython",
    "version": 3
   },
   "file_extension": ".py",
   "mimetype": "text/x-python",
   "name": "python",
   "nbconvert_exporter": "python",
   "pygments_lexer": "ipython3",
   "version": "3.7.7"
  }
 },
 "nbformat": 4,
 "nbformat_minor": 5
}
