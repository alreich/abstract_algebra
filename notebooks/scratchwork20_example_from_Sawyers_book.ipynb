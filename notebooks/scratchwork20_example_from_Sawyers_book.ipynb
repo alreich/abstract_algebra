{
 "cells": [
  {
   "cell_type": "markdown",
   "id": "c25bb249",
   "metadata": {},
   "source": [
    "# Example: Sawyer's \"Miniature Arithmetic\""
   ]
  },
  {
   "cell_type": "code",
   "execution_count": 1,
   "id": "347fc295",
   "metadata": {},
   "outputs": [],
   "source": [
    "import finite_algebras as alg"
   ]
  },
  {
   "cell_type": "markdown",
   "id": "6b82bc47",
   "metadata": {},
   "source": [
    "This section provides an example of abstract computations done over a finite field called the \"Miniature Arithmetic\" in the book, <i>\"A Concrete Approach to Abstract Algebra\"</i>, by Sawyer, W.W., 1978, Dover Publications.\n",
    "\n",
    "The built-in algebra generator, ``generate_algebra_mod_n``, will generate a field of order $n$, if $n$ is a prime number.\n",
    "\n",
    "For n=5, this field is called the \"Miniature Arithmetic\" in [Sawyer 1978].\n",
    "\n",
    "<b>Note:</b> Remember, in the <b>finite_algebras</b> module all elements are strings.  The method, ``generate_algebra_mod_n``, uses modular arithmetic to generate numeric elements, which are then turned into strings. By default, the strings are prefixed with <b>'a'</b>, but the default prefix can be changed by setting the input parameter, <b>elem_name</b>, to something else.  For example, setting it to the empty string, '', as done below, will result in element names that are simply the string versions of the numbers they represent (e.g., '0', '1', '2', ...)."
   ]
  },
  {
   "cell_type": "code",
   "execution_count": 2,
   "id": "7163ec0a",
   "metadata": {},
   "outputs": [
    {
     "name": "stdout",
     "output_type": "stream",
     "text": [
      "\n",
      "** Field **\n",
      "Name: F5\n",
      "Instance ID: 4565349904\n",
      "Description: Sawyer's Miniature Arithmetic\n",
      "Order: 5\n",
      "Identity: '0'\n",
      "Commutative? Yes\n",
      "Cyclic?: Yes\n",
      "Generators: ['2', '4', '3', '1']\n",
      "Elements:\n",
      "   Index   Name   Inverse  Order\n",
      "      0     '0'     '0'       0\n",
      "      1     '1'     '4'       0\n",
      "      2     '2'     '3'       0\n",
      "      3     '3'     '2'       0\n",
      "      4     '4'     '1'       0\n",
      "Cayley Table (showing names):\n",
      "[['0', '1', '2', '3', '4'],\n",
      " ['1', '2', '3', '4', '0'],\n",
      " ['2', '3', '4', '0', '1'],\n",
      " ['3', '4', '0', '1', '2'],\n",
      " ['4', '0', '1', '2', '3']]\n",
      "Mult. Identity: '1'\n",
      "Mult. Commutative? Yes\n",
      "Zero Divisors: None\n",
      "Multiplicative Cayley Table (showing names):\n",
      "[['0', '0', '0', '0', '0'],\n",
      " ['0', '1', '2', '3', '4'],\n",
      " ['0', '2', '4', '1', '3'],\n",
      " ['0', '3', '1', '4', '2'],\n",
      " ['0', '4', '3', '2', '1']]\n"
     ]
    }
   ],
   "source": [
    "n = 5\n",
    "\n",
    "f5 = alg.generate_algebra_mod_n(n, elem_name='', name='F5', description=\"Sawyer's Miniature Arithmetic\")\n",
    "\n",
    "f5.about(use_table_names=True)"
   ]
  },
  {
   "cell_type": "markdown",
   "id": "d738da5d",
   "metadata": {},
   "source": [
    "Below, we use the <i>Algebra</i> context manager to perform computations with the Miniature Arithmetic."
   ]
  },
  {
   "cell_type": "markdown",
   "id": "3e865dbb",
   "metadata": {},
   "source": [
    "### \"Fractions\" over a Finite Field"
   ]
  },
  {
   "cell_type": "markdown",
   "id": "081b2d23",
   "metadata": {},
   "source": [
    "Here's Sawyer's \"fraction\" example using the Miniature Arithmetic:"
   ]
  },
  {
   "cell_type": "markdown",
   "id": "461d579a",
   "metadata": {},
   "source": [
    "Let $A = \\Large \\frac{\\left( \\frac{1}{2} + \\frac{2}{3} \\right) \\cdot \\left( \\frac{2}{3} - \\frac{3}{4} \\right)}{\\left( \\frac{3}{2} - \\frac{3}{4} \\right)}$"
   ]
  },
  {
   "cell_type": "code",
   "execution_count": 3,
   "id": "b88805fb",
   "metadata": {},
   "outputs": [
    {
     "data": {
      "text/plain": [
       "'2'"
      ]
     },
     "execution_count": 3,
     "metadata": {},
     "output_type": "execute_result"
    }
   ],
   "source": [
    "with alg.InfixNotation(f5) as x:\n",
    "    A = ( (x['1']/x['2'] + x['2']/x['3']) \\\n",
    "        * (x['2']/x['3'] - x['3']/x['4'])) \\\n",
    "        / (x['3']/x['2'] - x['3']/x['4'] )\n",
    "\n",
    "A"
   ]
  }
 ],
 "metadata": {
  "kernelspec": {
   "display_name": "Python 3 (ipykernel)",
   "language": "python",
   "name": "python3"
  },
  "language_info": {
   "codemirror_mode": {
    "name": "ipython",
    "version": 3
   },
   "file_extension": ".py",
   "mimetype": "text/x-python",
   "name": "python",
   "nbconvert_exporter": "python",
   "pygments_lexer": "ipython3",
   "version": "3.11.5"
  }
 },
 "nbformat": 4,
 "nbformat_minor": 5
}
