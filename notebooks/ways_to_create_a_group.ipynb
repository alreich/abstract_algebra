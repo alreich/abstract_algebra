{
 "cells": [
  {
   "cell_type": "markdown",
   "id": "952a09ce",
   "metadata": {},
   "source": [
    "# Different Ways to Create a Group"
   ]
  },
  {
   "cell_type": "markdown",
   "id": "f671b06a",
   "metadata": {},
   "source": [
    "This notebook features the different ways that a group can be created with the <b>algebras</b> module.\n",
    "\n",
    "Basically, the ways are:\n",
    "* Using the <b>Group object constructor</b> (there are six variations of this)\n",
    "* Calling a <b>group generator</b> (e.g., generate_cyclic_group)\n",
    "* Computing the <b>direct product</b> of two or more groups"
   ]
  },
  {
   "cell_type": "markdown",
   "id": "9f6e8427",
   "metadata": {},
   "source": [
    "## Imports and Paths"
   ]
  },
  {
   "cell_type": "code",
   "execution_count": 1,
   "id": "18f3d613",
   "metadata": {},
   "outputs": [],
   "source": [
    "import algebras as alg\n",
    "import numpy as np\n",
    "import json\n",
    "import os"
   ]
  },
  {
   "cell_type": "code",
   "execution_count": 2,
   "id": "aa010a2b",
   "metadata": {},
   "outputs": [],
   "source": [
    "# Path to this repo\n",
    "aa_path = os.path.join(os.getenv('PYPROJ'), 'abstract_algebra')\n",
    "\n",
    "# Path to a directory containing Algebra definitions in JSON\n",
    "alg_dir = os.path.join(aa_path, \"Algebras\")"
   ]
  },
  {
   "cell_type": "markdown",
   "id": "07e70d41",
   "metadata": {},
   "source": [
    "## Using the Group Constructor"
   ]
  },
  {
   "cell_type": "markdown",
   "id": "d4e460d2",
   "metadata": {},
   "source": [
    "### Constructor Method 1"
   ]
  },
  {
   "cell_type": "markdown",
   "id": "04686cee",
   "metadata": {},
   "source": [
    "This method of instantiation provides four inputs:\n",
    "\n",
    "1. <b>name</b>: A string name for the group;\n",
    "1. <b>description</b>: A string describing the group;\n",
    "1. <b>element_names</b>: A list of strings that represent the names of group elements;\n",
    "1. <b>addition_table</b>: a list of lists (2D array) of integers,The following requirements on the array must be adhered to:\n",
    "  * The elements of the array must be integers that reference the group's elements according to their index (position) in the list, element_names.  This implies that the integers must be from the set, {0, 1, 2, ..., n-1}, where n is the number of elements.\n",
    "  * 0 must always refer to the identity element for the group operation (addition).\n",
    "  * The first row and first column must be the integers in order, 0, 1, 2,..., n-1."
   ]
  },
  {
   "cell_type": "code",
   "execution_count": 3,
   "id": "f7668518",
   "metadata": {},
   "outputs": [
    {
     "name": "stdout",
     "output_type": "stream",
     "text": [
      "Group('V4',\n",
      "'Klein-4 group',\n",
      "['e', 'h', 'v', 'hv'],\n",
      "[[0, 1, 2, 3], [1, 0, 3, 2], [2, 3, 0, 1], [3, 2, 1, 0]]\n",
      ")\n"
     ]
    }
   ],
   "source": [
    "g1 = alg.Group('V4',\n",
    "               'Klein-4 group',\n",
    "               ['e',  'h',  'v', 'hv'],\n",
    "               [[0, 1, 2, 3],\n",
    "                [1, 0, 3, 2],\n",
    "                [2, 3, 0, 1],\n",
    "                [3, 2, 1, 0]]\n",
    "              )\n",
    "g1.pprint()"
   ]
  },
  {
   "cell_type": "markdown",
   "id": "7ebc13c0",
   "metadata": {},
   "source": [
    "### Constructor Method 2"
   ]
  },
  {
   "cell_type": "markdown",
   "id": "9d96ff04",
   "metadata": {},
   "source": [
    "This method of instantiation provides three inputs:\n",
    "\n",
    "1. <b>name</b>: A string name for the group;\n",
    "1. <b>description</b>: A string describing the group;\n",
    "1. <b>addition_table</b>: a list of lists (2D array) of strings, representing the names of elements, where:\n",
    "   * The name in the first row and first column is the name of the identity element;\n",
    "   * The order of elements in the first row and first column are the same."
   ]
  },
  {
   "cell_type": "code",
   "execution_count": 4,
   "id": "d3b854bc",
   "metadata": {},
   "outputs": [
    {
     "name": "stdout",
     "output_type": "stream",
     "text": [
      "Group('V4',\n",
      "'Klein-4 group',\n",
      "['e', 'h', 'v', 'hv'],\n",
      "[[0, 1, 2, 3], [1, 0, 3, 2], [2, 3, 0, 1], [3, 2, 1, 0]]\n",
      ")\n"
     ]
    }
   ],
   "source": [
    "g2 = alg.Group('V4',\n",
    "               'Klein-4 group',\n",
    "               [[ 'e', 'h' ,  'v', 'hv'],\n",
    "                [ 'h', 'e' , 'hv', 'v' ],\n",
    "                [ 'v', 'hv',  'e', 'h' ],\n",
    "                ['hv', 'v' ,  'h', 'e' ]]\n",
    "              )\n",
    "g2.pprint()"
   ]
  },
  {
   "cell_type": "markdown",
   "id": "c90f431c",
   "metadata": {},
   "source": [
    "### Constructor Method 3"
   ]
  },
  {
   "cell_type": "markdown",
   "id": "3ccce1c9",
   "metadata": {},
   "source": [
    "The group definition, similar to that of Method 1, can be stored in a file in JSON format and then read-in to instantiate a group."
   ]
  },
  {
   "cell_type": "code",
   "execution_count": 5,
   "id": "fce1ac9c",
   "metadata": {},
   "outputs": [
    {
     "name": "stdout",
     "output_type": "stream",
     "text": [
      "\n",
      "Here's a look at the contents of the JSON file:\n",
      "\n",
      "{\"type\": \"Group\",\r\n",
      " \"name\": \"V4\",\r\n",
      " \"description\": \"Klein-4 group\",\r\n",
      " \"element_names\": [\"e\", \"h\", \"v\", \"hv\"],\r\n",
      " \"mult_table\": [[0, 1, 2, 3],\r\n",
      "                [1, 0, 3, 2],\r\n",
      "                [2, 3, 0, 1],\r\n",
      "                [3, 2, 1, 0]]\r\n",
      "}\r\n"
     ]
    }
   ],
   "source": [
    "v4_path = os.path.join(alg_dir, \"v4_klein_4_group.json\")\n",
    "\n",
    "print(\"\\nHere's a look at the contents of the JSON file:\\n\")\n",
    "!cat {v4_path}"
   ]
  },
  {
   "cell_type": "markdown",
   "id": "cfec9878",
   "metadata": {},
   "source": [
    "And, here's where the group is created by reading the JSON file.  Basically, if the first, and only argument, given to the Group constructor is a string, it is assumed to be a path to a JSON file definition of a Group."
   ]
  },
  {
   "cell_type": "code",
   "execution_count": 6,
   "id": "170d5aa5",
   "metadata": {},
   "outputs": [
    {
     "name": "stdout",
     "output_type": "stream",
     "text": [
      "Group('V4',\n",
      "'Klein-4 group',\n",
      "['e', 'h', 'v', 'hv'],\n",
      "[[0, 1, 2, 3], [1, 0, 3, 2], [2, 3, 0, 1], [3, 2, 1, 0]]\n",
      ")\n"
     ]
    }
   ],
   "source": [
    "g3 = alg.Group(v4_path)\n",
    "g3.pprint()"
   ]
  },
  {
   "cell_type": "markdown",
   "id": "9bacd774",
   "metadata": {},
   "source": [
    "### Constructor Method 4"
   ]
  },
  {
   "cell_type": "markdown",
   "id": "b2af6645",
   "metadata": {},
   "source": [
    "This method is a blend of Methods 3 & 4, wherein the group definition resides in a JSON file, but the table is defined using element names (strings) and there is no need to define the list of elements."
   ]
  },
  {
   "cell_type": "code",
   "execution_count": 7,
   "id": "3331beeb",
   "metadata": {},
   "outputs": [
    {
     "name": "stdout",
     "output_type": "stream",
     "text": [
      "{\"type\": \"Group\",\r\n",
      " \"name\": \"V4\",\r\n",
      " \"description\": \"Klein-4 group, Version 2\",\r\n",
      " \"mult_table\": [[ \"e\",  \"h\",  \"v\", \"hv\"],\r\n",
      "                [ \"h\",  \"e\", \"hv\",  \"v\"],\r\n",
      "                [ \"v\", \"hv\",  \"e\",  \"h\"],\r\n",
      "                [\"hv\",  \"v\",  \"h\",  \"e\"]]\r\n",
      "}\r\n"
     ]
    }
   ],
   "source": [
    "v4_path_VERS2 = os.path.join(alg_dir, \"v4_klein_4_group_VERS2.json\")\n",
    "\n",
    "!cat {v4_path_VERS2}"
   ]
  },
  {
   "cell_type": "code",
   "execution_count": 8,
   "id": "26c464a4",
   "metadata": {},
   "outputs": [
    {
     "name": "stdout",
     "output_type": "stream",
     "text": [
      "Group('V4',\n",
      "'Klein-4 group, Version 2',\n",
      "['e', 'h', 'v', 'hv'],\n",
      "[[0, 1, 2, 3], [1, 0, 3, 2], [2, 3, 0, 1], [3, 2, 1, 0]]\n",
      ")\n"
     ]
    }
   ],
   "source": [
    "g4 = alg.Group(v4_path_VERS2)\n",
    "g4.pprint()"
   ]
  },
  {
   "cell_type": "markdown",
   "id": "c3183bea",
   "metadata": {},
   "source": [
    "### Constructor Method 5"
   ]
  },
  {
   "cell_type": "markdown",
   "id": "0f9e4dce",
   "metadata": {},
   "source": [
    "If the first, and only, argument to the Group constructor is a dictionary, it is assumed that it defines a Group, per the types of input arguments, above."
   ]
  },
  {
   "cell_type": "code",
   "execution_count": 9,
   "id": "9f6713ac",
   "metadata": {},
   "outputs": [],
   "source": [
    "v4_dict = {'name': 'V4',\n",
    "           'description': 'Klein-4 group',\n",
    "           'element_names': ['e', 'h', 'v', 'hv'],\n",
    "           'mult_table': [[0, 1, 2, 3], [1, 0, 3, 2], [2, 3, 0, 1], [3, 2, 1, 0]]}"
   ]
  },
  {
   "cell_type": "code",
   "execution_count": 10,
   "id": "2ff23136",
   "metadata": {},
   "outputs": [
    {
     "name": "stdout",
     "output_type": "stream",
     "text": [
      "Group('V4',\n",
      "'Klein-4 group',\n",
      "['e', 'h', 'v', 'hv'],\n",
      "[[0, 1, 2, 3], [1, 0, 3, 2], [2, 3, 0, 1], [3, 2, 1, 0]]\n",
      ")\n"
     ]
    }
   ],
   "source": [
    "g5 = alg.Group(v4_dict)\n",
    "g5.pprint()"
   ]
  },
  {
   "cell_type": "markdown",
   "id": "7a1a0247",
   "metadata": {},
   "source": [
    "### Constructor Method 6"
   ]
  },
  {
   "cell_type": "code",
   "execution_count": 11,
   "id": "847d2aad",
   "metadata": {},
   "outputs": [],
   "source": [
    "v4_dict_VERS2 = {'name': 'V4',\n",
    "                 'description': 'Klein-4 group, Dictionary Version 2',\n",
    "                 'mult_table': [[ 'e', 'h' ,  'v', 'hv'],\n",
    "                                [ 'h', 'e' , 'hv', 'v' ],\n",
    "                                [ 'v', 'hv',  'e', 'h' ],\n",
    "                                ['hv', 'v' ,  'h', 'e' ]]\n",
    "                }"
   ]
  },
  {
   "cell_type": "code",
   "execution_count": 12,
   "id": "b41eba12",
   "metadata": {},
   "outputs": [
    {
     "name": "stdout",
     "output_type": "stream",
     "text": [
      "Group('V4',\n",
      "'Klein-4 group, Dictionary Version 2',\n",
      "['e', 'h', 'v', 'hv'],\n",
      "[[0, 1, 2, 3], [1, 0, 3, 2], [2, 3, 0, 1], [3, 2, 1, 0]]\n",
      ")\n"
     ]
    }
   ],
   "source": [
    "g6 = alg.Group(v4_dict_VERS2)\n",
    "g6.pprint()"
   ]
  },
  {
   "cell_type": "markdown",
   "id": "8cc173d7",
   "metadata": {},
   "source": [
    "## Group Generators"
   ]
  },
  {
   "cell_type": "code",
   "execution_count": 13,
   "id": "b8cc4f2b",
   "metadata": {},
   "outputs": [
    {
     "name": "stdout",
     "output_type": "stream",
     "text": [
      "Group('Z8',\n",
      "'Autogenerated cyclic group of order 8',\n",
      "['e', 'a', 'a^2', 'a^3', 'a^4', 'a^5', 'a^6', 'a^7'],\n",
      "[[0, 1, 2, 3, 4, 5, 6, 7],\n",
      " [1, 2, 3, 4, 5, 6, 7, 0],\n",
      " [2, 3, 4, 5, 6, 7, 0, 1],\n",
      " [3, 4, 5, 6, 7, 0, 1, 2],\n",
      " [4, 5, 6, 7, 0, 1, 2, 3],\n",
      " [5, 6, 7, 0, 1, 2, 3, 4],\n",
      " [6, 7, 0, 1, 2, 3, 4, 5],\n",
      " [7, 0, 1, 2, 3, 4, 5, 6]]\n",
      ")\n"
     ]
    }
   ],
   "source": [
    "z4_gen = alg.generate_cyclic_group(8)\n",
    "z4_gen.pprint()"
   ]
  },
  {
   "cell_type": "markdown",
   "id": "e2a92302",
   "metadata": {},
   "source": [
    "## Direct Products"
   ]
  },
  {
   "cell_type": "code",
   "execution_count": 14,
   "id": "75a976de",
   "metadata": {},
   "outputs": [],
   "source": [
    "z2 = alg.generate_cyclic_group(2)"
   ]
  },
  {
   "cell_type": "code",
   "execution_count": 15,
   "id": "1062b120",
   "metadata": {},
   "outputs": [
    {
     "name": "stdout",
     "output_type": "stream",
     "text": [
      "Group('Z2_x_Z2_x_Z2',\n",
      "'Direct product of Z2_x_Z2 & Z2',\n",
      "['e:e:e', 'e:e:a', 'e:a:e', 'e:a:a', 'a:e:e', 'a:e:a', 'a:a:e', 'a:a:a'],\n",
      "[[0, 1, 2, 3, 4, 5, 6, 7],\n",
      " [1, 0, 3, 2, 5, 4, 7, 6],\n",
      " [2, 3, 0, 1, 6, 7, 4, 5],\n",
      " [3, 2, 1, 0, 7, 6, 5, 4],\n",
      " [4, 5, 6, 7, 0, 1, 2, 3],\n",
      " [5, 4, 7, 6, 1, 0, 3, 2],\n",
      " [6, 7, 4, 5, 2, 3, 0, 1],\n",
      " [7, 6, 5, 4, 3, 2, 1, 0]]\n",
      ")\n"
     ]
    }
   ],
   "source": [
    "z2_x_z2_x_z2 = z2 * z2 * z2\n",
    "\n",
    "z2_x_z2_x_z2.pprint()"
   ]
  }
 ],
 "metadata": {
  "kernelspec": {
   "display_name": "Python 3",
   "language": "python",
   "name": "python3"
  },
  "language_info": {
   "codemirror_mode": {
    "name": "ipython",
    "version": 3
   },
   "file_extension": ".py",
   "mimetype": "text/x-python",
   "name": "python",
   "nbconvert_exporter": "python",
   "pygments_lexer": "ipython3",
   "version": "3.7.7"
  }
 },
 "nbformat": 4,
 "nbformat_minor": 5
}
