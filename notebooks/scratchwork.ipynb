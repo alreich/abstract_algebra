{
 "cells": [
  {
   "cell_type": "markdown",
   "id": "09ba9765",
   "metadata": {},
   "source": [
    "# Scratchwork"
   ]
  },
  {
   "cell_type": "code",
   "execution_count": 1,
   "id": "3f6a11bb",
   "metadata": {},
   "outputs": [],
   "source": [
    "from finite_algebras import make_finite_algebra, Group, Ring, Field, generate_prime_field\n",
    "\n",
    "import numpy as np"
   ]
  },
  {
   "cell_type": "code",
   "execution_count": 2,
   "id": "75458706",
   "metadata": {},
   "outputs": [],
   "source": [
    "import os\n",
    "aa_path = os.path.join(os.getenv(\"PYPROJ\"), \"abstract_algebra\")\n",
    "alg_dir = os.path.join(aa_path, \"Algebras\")"
   ]
  },
  {
   "cell_type": "markdown",
   "id": "08bbbb1c",
   "metadata": {},
   "source": [
    "## Make Finite Algebra 2"
   ]
  },
  {
   "cell_type": "raw",
   "id": "347b355d",
   "metadata": {},
   "source": [
    "import collections as co\n",
    "from finite_algebras import *"
   ]
  },
  {
   "cell_type": "raw",
   "id": "bdb66354",
   "metadata": {},
   "source": [
    "def get_duplicates(lst):\n",
    "    \"\"\"Return a list of the duplicate items in the input list.\"\"\"\n",
    "    return [item for item, count in co.Counter(lst).items() if count > 1]"
   ]
  },
  {
   "cell_type": "raw",
   "id": "618cdff4",
   "metadata": {},
   "source": [
    "def is_field_2(add_id, elements, mult_table):\n",
    "    \"\"\"Given a Ring, determine whether it is also a Field.\"\"\"\n",
    "    rng_mult = make_finite_algebra(\"tmp\", \"Temp\", elements, mult_table.table)\n",
    "    elems = rng_mult.elements.copy()\n",
    "    elems.remove(elements[add_id])\n",
    "    alg = rng_mult.subalgebra_from_elements(elems)\n",
    "    return isinstance(alg, Group) and alg.is_commutative()"
   ]
  },
  {
   "cell_type": "raw",
   "id": "39771996",
   "metadata": {},
   "source": [
    "def make_finite_algebra_2(*args):\n",
    "    \"\"\"Analyzes the input table and returns the appropriate finite algebra.\n",
    "\n",
    "    A finite algebra consists of four items: name (str), description (str),\n",
    "    elements (list of str), and table (list of lists of int/str).\n",
    "\n",
    "    This function either takes all four items in the order described, above,\n",
    "    or a single JSON file name, or a single Python dictionary, where the latter\n",
    "    two contain definitions of the four items, using the keywords: 'name',\n",
    "    'description', 'elements', and 'table'.  Any other keywords contained in\n",
    "    the JSON file or Python dictionary are ignored (e.g.., 'type').\n",
    "\n",
    "    See the examples in the User Guide.\n",
    "    \"\"\"\n",
    "\n",
    "    if len(args) == 1:\n",
    "\n",
    "        # Create from a JSON file\n",
    "        if isinstance(args[0], str):\n",
    "            with open(args[0], 'r') as fin:\n",
    "                finalg_dict = json.load(fin)\n",
    "\n",
    "        # Create from a dictionary\n",
    "        elif isinstance(args[0], dict):\n",
    "            finalg_dict = args[0]\n",
    "\n",
    "        else:\n",
    "            raise ValueError(\"If there's a single input, then it must be a string or a dictionary.\")\n",
    "\n",
    "    elif len(args) == 4:\n",
    "\n",
    "        finalg_dict = {'name': args[0],\n",
    "                       'description': args[1],\n",
    "                       'elements': args[2],\n",
    "                       'table': args[3]\n",
    "                       }\n",
    "\n",
    "    elif len(args) == 5:\n",
    "\n",
    "        finalg_dict = {'name': args[0],\n",
    "                       'description': args[1],\n",
    "                       'elements': args[2],\n",
    "                       'table': args[3],\n",
    "                       'table2': args[4]\n",
    "                       }\n",
    "    else:\n",
    "        raise ValueError(\"Incorrect number of input arguments.\")\n",
    "\n",
    "    name = finalg_dict['name']\n",
    "    desc = finalg_dict['description']\n",
    "    elems = finalg_dict['elements']\n",
    "    tbl = finalg_dict['table']\n",
    "\n",
    "    # Check for duplicate element names\n",
    "    dups = get_duplicates(elems)\n",
    "    if len(dups) == 0:\n",
    "        pass\n",
    "    else:\n",
    "        raise ValueError(f\"Duplicate element names: {dups}\")\n",
    "\n",
    "    table = make_cayley_table(tbl, elems)\n",
    "\n",
    "    table2 = None\n",
    "    is_assoc2 = False\n",
    "    if 'table2' in finalg_dict:\n",
    "        table2 = make_cayley_table(finalg_dict['table2'], elems)\n",
    "        is_assoc2 = table2.is_associative()\n",
    "\n",
    "    is_assoc = table.is_associative()\n",
    "    identity = table.identity()  # this is the integer index of the identity, not the element name (str)\n",
    "    # id_name = None\n",
    "    if identity is not None:\n",
    "        inverses = table.has_inverses()\n",
    "        # id_name = elems[identity]\n",
    "    else:\n",
    "        inverses = None\n",
    "\n",
    "    if is_assoc:\n",
    "        if identity is not None:\n",
    "            if inverses:\n",
    "                if table2 is not None and is_assoc2:\n",
    "                    if is_field_2(identity, elems, table2):\n",
    "                        return Field(name, desc, elems, table, table2, check_inputs=False)\n",
    "                    else:\n",
    "                        return Ring(name, desc, elems, table, table2, check_inputs=False)\n",
    "                else:\n",
    "                    return Group(name, desc, elems, table, check_inputs=False)\n",
    "            else:\n",
    "                return Monoid(name, desc, elems, table, check_inputs=False)\n",
    "        else:\n",
    "            return Semigroup(name, desc, elems, table, check_inputs=False)\n",
    "    else:\n",
    "        return Magma(name, desc, elems, table)"
   ]
  },
  {
   "cell_type": "markdown",
   "id": "dd3288b8",
   "metadata": {},
   "source": [
    "### Rings"
   ]
  },
  {
   "cell_type": "code",
   "execution_count": 3,
   "id": "8ee3000b",
   "metadata": {},
   "outputs": [
    {
     "ename": "ValueError",
     "evalue": "'{}' is not in list",
     "output_type": "error",
     "traceback": [
      "\u001b[0;31m---------------------------------------------------------------------------\u001b[0m",
      "\u001b[0;31mValueError\u001b[0m                                Traceback (most recent call last)",
      "\u001b[0;32m<ipython-input-3-d7e9b19082b7>\u001b[0m in \u001b[0;36m<module>\u001b[0;34m\u001b[0m\n\u001b[1;32m      9\u001b[0m                            \u001b[0;34m[\u001b[0m\u001b[0;36m0\u001b[0m\u001b[0;34m,\u001b[0m \u001b[0;36m1\u001b[0m\u001b[0;34m,\u001b[0m \u001b[0;36m0\u001b[0m\u001b[0;34m,\u001b[0m \u001b[0;36m1\u001b[0m\u001b[0;34m]\u001b[0m\u001b[0;34m,\u001b[0m\u001b[0;34m\u001b[0m\u001b[0;34m\u001b[0m\u001b[0m\n\u001b[1;32m     10\u001b[0m                            \u001b[0;34m[\u001b[0m\u001b[0;36m0\u001b[0m\u001b[0;34m,\u001b[0m \u001b[0;36m0\u001b[0m\u001b[0;34m,\u001b[0m \u001b[0;36m2\u001b[0m\u001b[0;34m,\u001b[0m \u001b[0;36m2\u001b[0m\u001b[0;34m]\u001b[0m\u001b[0;34m,\u001b[0m\u001b[0;34m\u001b[0m\u001b[0;34m\u001b[0m\u001b[0m\n\u001b[0;32m---> 11\u001b[0;31m                            [0, 1, 2, 3]]\n\u001b[0m\u001b[1;32m     12\u001b[0m                          )\n\u001b[1;32m     13\u001b[0m \u001b[0mrng\u001b[0m\u001b[0;34m.\u001b[0m\u001b[0mabout\u001b[0m\u001b[0;34m(\u001b[0m\u001b[0;34m)\u001b[0m\u001b[0;34m\u001b[0m\u001b[0;34m\u001b[0m\u001b[0m\n",
      "\u001b[0;32m~/Documents/Github/repo/abstract_algebra/src/finite_algebras.py\u001b[0m in \u001b[0;36mmake_finite_algebra\u001b[0;34m(*args)\u001b[0m\n\u001b[1;32m   1277\u001b[0m             \u001b[0;32mif\u001b[0m \u001b[0minverses\u001b[0m\u001b[0;34m:\u001b[0m\u001b[0;34m\u001b[0m\u001b[0;34m\u001b[0m\u001b[0m\n\u001b[1;32m   1278\u001b[0m                 \u001b[0;32mif\u001b[0m \u001b[0mtable2\u001b[0m \u001b[0;32mis\u001b[0m \u001b[0;32mnot\u001b[0m \u001b[0;32mNone\u001b[0m \u001b[0;32mand\u001b[0m \u001b[0mis_assoc2\u001b[0m\u001b[0;34m:\u001b[0m\u001b[0;34m\u001b[0m\u001b[0;34m\u001b[0m\u001b[0m\n\u001b[0;32m-> 1279\u001b[0;31m                     \u001b[0;32mif\u001b[0m \u001b[0mis_field\u001b[0m\u001b[0;34m(\u001b[0m\u001b[0midentity\u001b[0m\u001b[0;34m,\u001b[0m \u001b[0melems\u001b[0m\u001b[0;34m,\u001b[0m \u001b[0mtable2\u001b[0m\u001b[0;34m)\u001b[0m\u001b[0;34m:\u001b[0m\u001b[0;34m\u001b[0m\u001b[0;34m\u001b[0m\u001b[0m\n\u001b[0m\u001b[1;32m   1280\u001b[0m                         \u001b[0;32mreturn\u001b[0m \u001b[0mField\u001b[0m\u001b[0;34m(\u001b[0m\u001b[0mname\u001b[0m\u001b[0;34m,\u001b[0m \u001b[0mdesc\u001b[0m\u001b[0;34m,\u001b[0m \u001b[0melems\u001b[0m\u001b[0;34m,\u001b[0m \u001b[0mtable\u001b[0m\u001b[0;34m,\u001b[0m \u001b[0mtable2\u001b[0m\u001b[0;34m,\u001b[0m \u001b[0mcheck_inputs\u001b[0m\u001b[0;34m=\u001b[0m\u001b[0;32mFalse\u001b[0m\u001b[0;34m)\u001b[0m\u001b[0;34m\u001b[0m\u001b[0;34m\u001b[0m\u001b[0m\n\u001b[1;32m   1281\u001b[0m                     \u001b[0;32melse\u001b[0m\u001b[0;34m:\u001b[0m\u001b[0;34m\u001b[0m\u001b[0;34m\u001b[0m\u001b[0m\n",
      "\u001b[0;32m~/Documents/Github/repo/abstract_algebra/src/finite_algebras.py\u001b[0m in \u001b[0;36mis_field\u001b[0;34m(add_id, elements, mult_table)\u001b[0m\n\u001b[1;32m   1062\u001b[0m     \u001b[0melems\u001b[0m \u001b[0;34m=\u001b[0m \u001b[0mrng_mult\u001b[0m\u001b[0;34m.\u001b[0m\u001b[0melements\u001b[0m\u001b[0;34m.\u001b[0m\u001b[0mcopy\u001b[0m\u001b[0;34m(\u001b[0m\u001b[0;34m)\u001b[0m\u001b[0;34m\u001b[0m\u001b[0;34m\u001b[0m\u001b[0m\n\u001b[1;32m   1063\u001b[0m     \u001b[0melems\u001b[0m\u001b[0;34m.\u001b[0m\u001b[0mremove\u001b[0m\u001b[0;34m(\u001b[0m\u001b[0melements\u001b[0m\u001b[0;34m[\u001b[0m\u001b[0madd_id\u001b[0m\u001b[0;34m]\u001b[0m\u001b[0;34m)\u001b[0m\u001b[0;34m\u001b[0m\u001b[0;34m\u001b[0m\u001b[0m\n\u001b[0;32m-> 1064\u001b[0;31m     \u001b[0malg\u001b[0m \u001b[0;34m=\u001b[0m \u001b[0mrng_mult\u001b[0m\u001b[0;34m.\u001b[0m\u001b[0msubalgebra_from_elements\u001b[0m\u001b[0;34m(\u001b[0m\u001b[0melems\u001b[0m\u001b[0;34m)\u001b[0m\u001b[0;34m\u001b[0m\u001b[0;34m\u001b[0m\u001b[0m\n\u001b[0m\u001b[1;32m   1065\u001b[0m     \u001b[0;32mreturn\u001b[0m \u001b[0misinstance\u001b[0m\u001b[0;34m(\u001b[0m\u001b[0malg\u001b[0m\u001b[0;34m,\u001b[0m \u001b[0mGroup\u001b[0m\u001b[0;34m)\u001b[0m \u001b[0;32mand\u001b[0m \u001b[0malg\u001b[0m\u001b[0;34m.\u001b[0m\u001b[0mis_commutative\u001b[0m\u001b[0;34m(\u001b[0m\u001b[0;34m)\u001b[0m\u001b[0;34m\u001b[0m\u001b[0;34m\u001b[0m\u001b[0m\n\u001b[1;32m   1066\u001b[0m \u001b[0;34m\u001b[0m\u001b[0m\n",
      "\u001b[0;32m~/Documents/Github/repo/abstract_algebra/src/finite_algebras.py\u001b[0m in \u001b[0;36msubalgebra_from_elements\u001b[0;34m(self, closed_subset_of_elements, name, desc)\u001b[0m\n\u001b[1;32m    364\u001b[0m             \u001b[0;32mfor\u001b[0m \u001b[0mb\u001b[0m \u001b[0;32min\u001b[0m \u001b[0melements_sorted\u001b[0m\u001b[0;34m:\u001b[0m\u001b[0;34m\u001b[0m\u001b[0;34m\u001b[0m\u001b[0m\n\u001b[1;32m    365\u001b[0m                 \u001b[0;31m# The table entry is the index of the product in the sorted elements list\u001b[0m\u001b[0;34m\u001b[0m\u001b[0;34m\u001b[0m\u001b[0;34m\u001b[0m\u001b[0m\n\u001b[0;32m--> 366\u001b[0;31m                 \u001b[0mrow\u001b[0m\u001b[0;34m.\u001b[0m\u001b[0mappend\u001b[0m\u001b[0;34m(\u001b[0m\u001b[0melements_sorted\u001b[0m\u001b[0;34m.\u001b[0m\u001b[0mindex\u001b[0m\u001b[0;34m(\u001b[0m\u001b[0mself\u001b[0m\u001b[0;34m.\u001b[0m\u001b[0mop\u001b[0m\u001b[0;34m(\u001b[0m\u001b[0ma\u001b[0m\u001b[0;34m,\u001b[0m \u001b[0mb\u001b[0m\u001b[0;34m)\u001b[0m\u001b[0;34m)\u001b[0m\u001b[0;34m)\u001b[0m\u001b[0;34m\u001b[0m\u001b[0;34m\u001b[0m\u001b[0m\n\u001b[0m\u001b[1;32m    367\u001b[0m             \u001b[0mtable\u001b[0m\u001b[0;34m.\u001b[0m\u001b[0mappend\u001b[0m\u001b[0;34m(\u001b[0m\u001b[0mrow\u001b[0m\u001b[0;34m)\u001b[0m\u001b[0;34m\u001b[0m\u001b[0;34m\u001b[0m\u001b[0m\n\u001b[1;32m    368\u001b[0m         \u001b[0;32mreturn\u001b[0m \u001b[0mmake_finite_algebra\u001b[0m\u001b[0;34m(\u001b[0m\u001b[0mname\u001b[0m\u001b[0;34m,\u001b[0m \u001b[0mdesc\u001b[0m\u001b[0;34m,\u001b[0m \u001b[0melements_sorted\u001b[0m\u001b[0;34m,\u001b[0m \u001b[0mtable\u001b[0m\u001b[0;34m)\u001b[0m\u001b[0;34m\u001b[0m\u001b[0;34m\u001b[0m\u001b[0m\n",
      "\u001b[0;31mValueError\u001b[0m: '{}' is not in list"
     ]
    }
   ],
   "source": [
    "rng = make_finite_algebra('Powerset Ring 2',\n",
    "                          'Ring on powerset of {0, 1}',\n",
    "                          ['{}', '{0}', '{1}', '{0, 1}'],\n",
    "                          [[0, 1, 2, 3],\n",
    "                           [1, 0, 3, 2],\n",
    "                           [2, 3, 0, 1],\n",
    "                           [3, 2, 1, 0]],\n",
    "                          [[0, 0, 0, 0],\n",
    "                           [0, 1, 0, 1],\n",
    "                           [0, 0, 2, 2],\n",
    "                           [0, 1, 2, 3]]\n",
    "                         )\n",
    "rng.about()"
   ]
  },
  {
   "cell_type": "markdown",
   "id": "b6391b34",
   "metadata": {},
   "source": [
    "## Fields"
   ]
  },
  {
   "cell_type": "markdown",
   "id": "e2595dd5",
   "metadata": {},
   "source": [
    "$GF(4) = GF(2)[X]/(X^2 + X + 1)$"
   ]
  },
  {
   "cell_type": "markdown",
   "id": "1bb8b066",
   "metadata": {},
   "source": [
    "See Wikipedia: [\"Field with four elements\"](https://en.wikipedia.org/wiki/Finite_field#Field_with_four_elements)"
   ]
  },
  {
   "cell_type": "code",
   "execution_count": null,
   "id": "238f86c3",
   "metadata": {},
   "outputs": [],
   "source": [
    "elems = ['0', '1', 'a', '1+a']\n",
    "\n",
    "add_table = [[ '0' ,  '1' ,  'a' , '1+a'],\n",
    "             [ '1' ,  '0' , '1+a',  'a' ],\n",
    "             [ 'a' , '1+a',  '0' ,  '1' ],\n",
    "             ['1+a',  'a' ,  '1' ,  '0' ]]\n",
    "\n",
    "mult_table = [['0',  '0' ,  '0' ,  '0' ],\n",
    "              ['0',  '1' ,  'a' , '1+a'],\n",
    "              ['0',  'a' , '1+a',  '1' ],\n",
    "              ['0', '1+a',  '1' ,  'a' ]]"
   ]
  },
  {
   "cell_type": "code",
   "execution_count": null,
   "id": "fff2ba99",
   "metadata": {},
   "outputs": [],
   "source": [
    "f4 = make_finite_algebra_2('F4',\n",
    "                           'Field with 4 elements',\n",
    "                           elems,\n",
    "                           add_table,\n",
    "                           mult_table\n",
    "                          )\n",
    "\n",
    "f4.about()"
   ]
  },
  {
   "cell_type": "markdown",
   "id": "3a02dbf2",
   "metadata": {},
   "source": [
    "### Generate Field of Prime Order"
   ]
  },
  {
   "cell_type": "code",
   "execution_count": null,
   "id": "51779bc4",
   "metadata": {},
   "outputs": [],
   "source": [
    "f7 = generate_prime_field(7)\n",
    "f7.about()"
   ]
  },
  {
   "cell_type": "code",
   "execution_count": null,
   "id": "5c9e4fe9",
   "metadata": {},
   "outputs": [],
   "source": [
    "f7_add = f7.extract_additive_algebra()\n",
    "f7_add.about()"
   ]
  },
  {
   "cell_type": "code",
   "execution_count": null,
   "id": "e604b0cd",
   "metadata": {},
   "outputs": [],
   "source": [
    "f7_mult = f7.extract_multiplicative_algebra()\n",
    "f7_mult.about()"
   ]
  },
  {
   "cell_type": "code",
   "execution_count": null,
   "id": "d5ba8dc2",
   "metadata": {},
   "outputs": [],
   "source": [
    "f7_mult_subs = f7_mult.proper_subalgebras()\n",
    "\n",
    "print([(alg.__class__.__name__, alg.order) for alg in f7_mult_subs])\n",
    "\n",
    "[alg for alg in f7_mult_subs if isinstance(alg, Group)]"
   ]
  },
  {
   "cell_type": "code",
   "execution_count": null,
   "id": "a3e00538",
   "metadata": {},
   "outputs": [],
   "source": [
    "f7_mult_sub1 = f7_mult_subs[1]\n",
    "f7_mult_sub1.about()"
   ]
  },
  {
   "cell_type": "code",
   "execution_count": null,
   "id": "ddff4ba9",
   "metadata": {},
   "outputs": [],
   "source": []
  },
  {
   "cell_type": "code",
   "execution_count": null,
   "id": "b7a34648",
   "metadata": {},
   "outputs": [],
   "source": []
  }
 ],
 "metadata": {
  "kernelspec": {
   "display_name": "Python 3",
   "language": "python",
   "name": "python3"
  },
  "language_info": {
   "codemirror_mode": {
    "name": "ipython",
    "version": 3
   },
   "file_extension": ".py",
   "mimetype": "text/x-python",
   "name": "python",
   "nbconvert_exporter": "python",
   "pygments_lexer": "ipython3",
   "version": "3.7.7"
  }
 },
 "nbformat": 4,
 "nbformat_minor": 5
}
