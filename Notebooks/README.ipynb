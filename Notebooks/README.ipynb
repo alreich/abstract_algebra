{
 "cells": [
  {
   "cell_type": "markdown",
   "id": "9e3384ad",
   "metadata": {},
   "source": [
    "# Abstract Algebra"
   ]
  },
  {
   "cell_type": "markdown",
   "id": "7864020c",
   "metadata": {},
   "source": [
    "#### Experimental implementation of finite groups--for now--and (maybe) later rings, fields, etc."
   ]
  },
  {
   "cell_type": "code",
   "execution_count": 1,
   "id": "182cec1d",
   "metadata": {},
   "outputs": [],
   "source": [
    "import algebras as alg\n",
    "import json\n",
    "import os"
   ]
  },
  {
   "cell_type": "code",
   "execution_count": 2,
   "id": "cf543e49",
   "metadata": {},
   "outputs": [],
   "source": [
    "# Path to this repo\n",
    "aa_path = os.path.join(os.getenv('PYPROJ'), 'abstract_algebra')\n",
    "\n",
    "# Path to a directory containing Algebra definitions in JSON\n",
    "alg_dir = os.path.join(aa_path, \"Algebras\")"
   ]
  },
  {
   "cell_type": "markdown",
   "id": "ba476f0b",
   "metadata": {},
   "source": [
    "## Store Group in JSON format"
   ]
  },
  {
   "cell_type": "markdown",
   "id": "34def288",
   "metadata": {},
   "source": [
    "* The <b>addition_table</b> <u>must</u> reference group elements according to their index (position) in the <b>element_names</b> list.\n",
    "* <b>0</b> <u>must</u> always refer to the <b>identity element</b>.\n",
    "* The first row and first column of the addition table <u>must</u> be the integers, in order, 0, 1, 2, ..., n-1, where n is the number of element names."
   ]
  },
  {
   "cell_type": "code",
   "execution_count": 3,
   "id": "7c361d08",
   "metadata": {},
   "outputs": [
    {
     "name": "stdout",
     "output_type": "stream",
     "text": [
      "{\"type\": \"Group\",\r\n",
      " \"name\": \"V4\",\r\n",
      " \"description\": \"Klein-4 group\",\r\n",
      " \"element_names\": [\"e\", \"h\", \"v\", \"hv\"],\r\n",
      " \"addition_table\": [[0, 1, 2, 3],\r\n",
      "                    [1, 0, 3, 2],\r\n",
      "                    [2, 3, 0, 1],\r\n",
      "                    [3, 2, 1, 0]]\r\n",
      "}\r\n"
     ]
    }
   ],
   "source": [
    "# Path to a JSON file that defines the group V4\n",
    "v4_json = os.path.join(alg_dir, \"v4_klein_4_group.json\")\n",
    "\n",
    "!cat {v4_json}"
   ]
  },
  {
   "cell_type": "markdown",
   "id": "0991592f",
   "metadata": {},
   "source": [
    "## Read JSON Definition to Instantiate a Group Object"
   ]
  },
  {
   "cell_type": "code",
   "execution_count": 4,
   "id": "23e35eda",
   "metadata": {},
   "outputs": [
    {
     "data": {
      "text/plain": [
       "Group('V4', 'Klein-4 group', ['e', 'h', 'v', 'hv'], [[0, 1, 2, 3], [1, 0, 3, 2], [2, 3, 0, 1], [3, 2, 1, 0]])"
      ]
     },
     "execution_count": 4,
     "metadata": {},
     "output_type": "execute_result"
    }
   ],
   "source": [
    "v4 = alg.Group(v4_json)\n",
    "v4"
   ]
  },
  {
   "cell_type": "markdown",
   "id": "db7ed2c1",
   "metadata": {},
   "source": [
    "#### The group can also be created at the Command Line:"
   ]
  },
  {
   "cell_type": "code",
   "execution_count": 5,
   "id": "59aef91d",
   "metadata": {},
   "outputs": [
    {
     "data": {
      "text/plain": [
       "Group('V4', 'Another way to construct V4', ['e', 'h', 'v', 'hv'], [[0, 1, 2, 3], [1, 0, 3, 2], [2, 3, 0, 1], [3, 2, 1, 0]])"
      ]
     },
     "execution_count": 5,
     "metadata": {},
     "output_type": "execute_result"
    }
   ],
   "source": [
    "alg.Group('V4',\n",
    "          'Another way to construct V4',\n",
    "          ['e',  'h',  'v', 'hv'],\n",
    "          [[0, 1, 2, 3],\n",
    "           [1, 0, 3, 2],\n",
    "           [2, 3, 0, 1],\n",
    "           [3, 2, 1, 0]]\n",
    "         )"
   ]
  },
  {
   "cell_type": "markdown",
   "id": "d17de927",
   "metadata": {},
   "source": [
    "#### And the group can be created from a Python dictionary:"
   ]
  },
  {
   "cell_type": "code",
   "execution_count": 6,
   "id": "f2abc1da",
   "metadata": {},
   "outputs": [
    {
     "data": {
      "text/plain": [
       "Group('V4', 'Yet another way to define V4', ['e', 'h', 'v', 'hv'], [[0, 1, 2, 3], [1, 0, 3, 2], [2, 3, 0, 1], [3, 2, 1, 0]])"
      ]
     },
     "execution_count": 6,
     "metadata": {},
     "output_type": "execute_result"
    }
   ],
   "source": [
    "v4_dict = {'type': 'Group',\n",
    "           'name': 'V4',\n",
    "           'description': 'Yet another way to define V4',\n",
    "           'element_names': ['e', 'h', 'v', 'hv'],\n",
    "           'addition_table': [[0, 1, 2, 3], [1, 0, 3, 2], [2, 3, 0, 1], [3, 2, 1, 0]]}\n",
    "\n",
    "alg.Group(v4_dict)"
   ]
  },
  {
   "cell_type": "markdown",
   "id": "85b97e2e",
   "metadata": {},
   "source": [
    "## Add Elements"
   ]
  },
  {
   "cell_type": "code",
   "execution_count": 7,
   "id": "d0ddac61",
   "metadata": {},
   "outputs": [
    {
     "data": {
      "text/plain": [
       "'hv'"
      ]
     },
     "execution_count": 7,
     "metadata": {},
     "output_type": "execute_result"
    }
   ],
   "source": [
    "v4.add('h','v')"
   ]
  },
  {
   "cell_type": "markdown",
   "id": "42446b77",
   "metadata": {},
   "source": [
    "## Get Inverse Element"
   ]
  },
  {
   "cell_type": "code",
   "execution_count": 8,
   "id": "a0ef421a",
   "metadata": {},
   "outputs": [
    {
     "data": {
      "text/plain": [
       "'h'"
      ]
     },
     "execution_count": 8,
     "metadata": {},
     "output_type": "execute_result"
    }
   ],
   "source": [
    "v4.inverse('h')"
   ]
  },
  {
   "cell_type": "markdown",
   "id": "2fcff806",
   "metadata": {},
   "source": [
    "## View Addition Table using Element Names"
   ]
  },
  {
   "cell_type": "markdown",
<<<<<<< HEAD
   "id": "d616493d",
=======
   "id": "232abcf1",
>>>>>>> 048de75325233e3e5e24f9ea8968fbf2b9ca8753
   "metadata": {},
   "source": [
    "The addition table is known as a [Cayley Table](https://en.wikipedia.org/wiki/Cayley_table).\n",
    "\n",
    "The group operation is referred to here as <i>addition</i> to distinguish it from ring or field <i>multiplication</i> operations."
   ]
  },
  {
   "cell_type": "code",
   "execution_count": 9,
   "id": "19789fdf",
   "metadata": {},
   "outputs": [
    {
     "data": {
      "text/plain": [
       "[['e', 'h', 'v', 'hv'],\n",
       " ['h', 'e', 'hv', 'v'],\n",
       " ['v', 'hv', 'e', 'h'],\n",
       " ['hv', 'v', 'h', 'e']]"
      ]
     },
     "execution_count": 9,
     "metadata": {},
     "output_type": "execute_result"
    }
   ],
   "source": [
    "v4.addition_table_with_names()"
   ]
  },
  {
   "cell_type": "markdown",
   "id": "6ae46647",
   "metadata": {},
   "source": [
    "## Check if Abelian"
   ]
  },
  {
   "cell_type": "code",
   "execution_count": 10,
   "id": "8135b4fa",
   "metadata": {},
   "outputs": [
    {
     "data": {
      "text/plain": [
       "True"
      ]
     },
     "execution_count": 10,
     "metadata": {},
     "output_type": "execute_result"
    }
   ],
   "source": [
    "v4.abelian()"
   ]
  },
  {
   "cell_type": "code",
   "execution_count": 11,
<<<<<<< HEAD
   "id": "46673133",
=======
   "id": "3ca3bb6a",
>>>>>>> 048de75325233e3e5e24f9ea8968fbf2b9ca8753
   "metadata": {},
   "outputs": [
    {
     "data": {
      "text/plain": [
       "True"
      ]
     },
     "execution_count": 11,
     "metadata": {},
     "output_type": "execute_result"
    }
   ],
   "source": [
    "v4.associative()"
   ]
  },
  {
   "cell_type": "markdown",
   "id": "2e57cff6",
   "metadata": {},
   "source": [
    "## Derive Direct Product"
   ]
  },
  {
   "cell_type": "code",
   "execution_count": 12,
   "id": "73a2378f",
   "metadata": {},
   "outputs": [
    {
     "data": {
      "text/plain": [
       "Group('V4_x_V4', 'Direct product of V4 & V4', ['e,e', 'e,h', 'e,v', 'e,hv', 'h,e', 'h,h', 'h,v', 'h,hv', 'v,e', 'v,h', 'v,v', 'v,hv', 'hv,e', 'hv,h', 'hv,v', 'hv,hv'], [[0, 1, 2, 3, 4, 5, 6, 7, 8, 9, 10, 11, 12, 13, 14, 15], [1, 0, 3, 2, 5, 4, 7, 6, 9, 8, 11, 10, 13, 12, 15, 14], [2, 3, 0, 1, 6, 7, 4, 5, 10, 11, 8, 9, 14, 15, 12, 13], [3, 2, 1, 0, 7, 6, 5, 4, 11, 10, 9, 8, 15, 14, 13, 12], [4, 5, 6, 7, 0, 1, 2, 3, 12, 13, 14, 15, 8, 9, 10, 11], [5, 4, 7, 6, 1, 0, 3, 2, 13, 12, 15, 14, 9, 8, 11, 10], [6, 7, 4, 5, 2, 3, 0, 1, 14, 15, 12, 13, 10, 11, 8, 9], [7, 6, 5, 4, 3, 2, 1, 0, 15, 14, 13, 12, 11, 10, 9, 8], [8, 9, 10, 11, 12, 13, 14, 15, 0, 1, 2, 3, 4, 5, 6, 7], [9, 8, 11, 10, 13, 12, 15, 14, 1, 0, 3, 2, 5, 4, 7, 6], [10, 11, 8, 9, 14, 15, 12, 13, 2, 3, 0, 1, 6, 7, 4, 5], [11, 10, 9, 8, 15, 14, 13, 12, 3, 2, 1, 0, 7, 6, 5, 4], [12, 13, 14, 15, 8, 9, 10, 11, 4, 5, 6, 7, 0, 1, 2, 3], [13, 12, 15, 14, 9, 8, 11, 10, 5, 4, 7, 6, 1, 0, 3, 2], [14, 15, 12, 13, 10, 11, 8, 9, 6, 7, 4, 5, 2, 3, 0, 1], [15, 14, 13, 12, 11, 10, 9, 8, 7, 6, 5, 4, 3, 2, 1, 0]])"
      ]
     },
     "execution_count": 12,
     "metadata": {},
     "output_type": "execute_result"
    }
   ],
   "source": [
    "v4_x_v4 = v4 * v4\n",
    "v4_x_v4"
   ]
  },
  {
   "cell_type": "markdown",
   "id": "889f1315",
   "metadata": {},
   "source": [
    "## Convert to Dictionary or JSON"
   ]
  },
  {
   "cell_type": "code",
   "execution_count": 13,
   "id": "46cebaaf",
   "metadata": {},
   "outputs": [
    {
     "data": {
      "text/plain": [
       "{'type': 'Group',\n",
       " 'name': 'V4',\n",
       " 'description': 'Klein-4 group',\n",
       " 'element_names': ['e', 'h', 'v', 'hv'],\n",
       " 'addition_table': [[0, 1, 2, 3], [1, 0, 3, 2], [2, 3, 0, 1], [3, 2, 1, 0]]}"
      ]
     },
     "execution_count": 13,
     "metadata": {},
     "output_type": "execute_result"
    }
   ],
   "source": [
    "v4.to_dict()"
   ]
  },
  {
   "cell_type": "code",
   "execution_count": 14,
   "id": "3f392cb4",
   "metadata": {},
   "outputs": [
    {
     "data": {
      "text/plain": [
       "'{\"type\": \"Group\", \"name\": \"V4\", \"description\": \"Klein-4 group\", \"element_names\": [\"e\", \"h\", \"v\", \"hv\"], \"addition_table\": [[0, 1, 2, 3], [1, 0, 3, 2], [2, 3, 0, 1], [3, 2, 1, 0]]}'"
      ]
     },
     "execution_count": 14,
     "metadata": {},
     "output_type": "execute_result"
    }
   ],
   "source": [
    "v4.dumps()"
   ]
  },
  {
   "cell_type": "code",
   "execution_count": null,
   "id": "925ffbb6",
   "metadata": {},
   "outputs": [],
   "source": []
  }
 ],
 "metadata": {
  "kernelspec": {
   "display_name": "Python 3",
   "language": "python",
   "name": "python3"
  },
  "language_info": {
   "codemirror_mode": {
    "name": "ipython",
    "version": 3
   },
   "file_extension": ".py",
   "mimetype": "text/x-python",
   "name": "python",
   "nbconvert_exporter": "python",
   "pygments_lexer": "ipython3",
   "version": "3.7.7"
  }
 },
 "nbformat": 4,
 "nbformat_minor": 5
}
