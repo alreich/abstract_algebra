{
 "cells": [
  {
   "cell_type": "markdown",
   "id": "75626bf2",
   "metadata": {},
   "source": [
    "# Groups, Monoids, Semigroups, & Magmas"
   ]
  },
  {
   "cell_type": "markdown",
   "id": "3ea7a95e",
   "metadata": {},
   "source": [
    "This section provides numerous examples of finite algebra creation and manipulation."
   ]
  },
  {
   "cell_type": "markdown",
   "id": "ee48916f",
   "metadata": {},
   "source": [
    "## Finite Algebra: Internal Representation\n",
    "\n",
    "Internally, a ``FiniteAlgebra`` consists of the following quantities:\n",
    "\n",
    "* **name**: (``str``) A short name for the algebra;\n",
    "* **description**: (``str``) Any additional, useful information about the algebra;\n",
    "* **elements**: (``list`` of ``str``) Names of the algebras’s elements.\n",
    "* **table**: (``list`` of ``list`` of ``int``) The algebra’s multiplication\n",
    "  table, where each list in the list represents a row of the table, and\n",
    "  each integer represents the position of an element in ‘element_names’.\n",
    "  Optionally, element names (``str``) may be used in the table, rather \n",
    "  than integers.\n",
    "* **table2**: (OPTIONAL) Similar to *table*, above. Required when defining a Ring or Field.\n",
    "\n",
    "**NOTE**: The type of table required here is known as a [Cayley Table](https://en.wikipedia.org/wiki/Cayley_table).  All of the properties of a finite algebra can be derived from its Cayley Table.  For this reason, this module includes a ``CayleyTable`` class for storing the table and methods associated with it."
   ]
  },
  {
   "cell_type": "markdown",
   "id": "f053c38e",
   "metadata": {},
   "source": [
    "## Algebra Constuction Examples"
   ]
  },
  {
   "cell_type": "markdown",
   "id": "bf144478",
   "metadata": {},
   "source": [
    "In a nutshell, use the function, ``make_finite_algebra`` for all algebra construction.\n",
    "\n",
    "Although individual algebras (Magma, Semigroup, etc.) have their own individual constructors, requiring the quantities described above, the **recommended** way to construct an algebra is to use the function, ``make_finite_algebra``, using one of the following three approaches to inputs:\n",
    "\n",
    "1. Enter **individual values** corresponding to the quantities in its Internal Representation, described above.\n",
    "1. Enter a **Python dictionary** (``dict``), with keys and values corresponding to the individual values, described above.\n",
    "1. Enter the **path to a JSON file** (``str``) that corresponds to the dictionary, described above.\n",
    "   \n",
    "``make_finite_algebra`` uses the table(s) to determine what type of algebra it supports and returns the appropriate algebra."
   ]
  },
  {
   "cell_type": "markdown",
   "id": "ce824f58",
   "metadata": {},
   "source": [
    "In the following examples, the only algebra constructor used is ``make_finite_algebra``."
   ]
  },
  {
   "cell_type": "markdown",
   "id": "6694fec3",
   "metadata": {},
   "source": [
    "### Group"
   ]
  },
  {
   "cell_type": "markdown",
   "id": "2bab5775",
   "metadata": {},
   "source": [
    "We'll start in the middle of the hierarchy of algebras, the Group.\n",
    "\n",
    "Finite algebra elements, here, are always represented as strings; and, although a Cayley table can be entered (and displayed) using strings, they are represented internally (and displayed by default) as 2-dimensional, square arrays of integers that represent the positions of elements in the element list."
   ]
  },
  {
   "cell_type": "code",
   "execution_count": 1,
   "id": "9afe02ff",
   "metadata": {},
   "outputs": [
    {
     "data": {
      "text/plain": [
       "Group(\n",
       "'Z3',\n",
       "'Cyclic group of order 3',\n",
       "['e', 'a', 'a^2'],\n",
       "[[0, 1, 2], [1, 2, 0], [2, 0, 1]]\n",
       ")"
      ]
     },
     "execution_count": 1,
     "metadata": {},
     "output_type": "execute_result"
    }
   ],
   "source": [
    ">>> from finite_algebras import make_finite_algebra\n",
    "\n",
    ">>> z3 = make_finite_algebra('Z3',\n",
    "                             'Cyclic group of order 3',\n",
    "                             ['e', 'a', 'a^2'],\n",
    "                             [[ 'e' ,  'a' , 'a^2'],\n",
    "                              [ 'a' , 'a^2',  'e' ],\n",
    "                              ['a^2',  'e' ,  'a' ]]\n",
    "                            )\n",
    ">>> z3"
   ]
  },
  {
   "cell_type": "markdown",
   "id": "4a715fd0",
   "metadata": {},
   "source": [
    "Printing an algebra converts it to a string containing its class name, algebra name, and the unique ID of the algebra instance:"
   ]
  },
  {
   "cell_type": "code",
   "execution_count": 2,
   "id": "c8dffa87",
   "metadata": {},
   "outputs": [
    {
     "name": "stdout",
     "output_type": "stream",
     "text": [
      "<Group:Z3, ID:140668649150288>\n"
     ]
    }
   ],
   "source": [
    ">>> print(z3)"
   ]
  },
  {
   "cell_type": "markdown",
   "id": "99938f39",
   "metadata": {},
   "source": [
    "The ``about`` prints information about an algebra.  Set ``use_element_names`` to ``True`` to see the Cayley table printed using element names (``str``) rather than element positions (``int``)."
   ]
  },
  {
   "cell_type": "code",
   "execution_count": 3,
   "id": "9064d9c9",
   "metadata": {},
   "outputs": [
    {
     "name": "stdout",
     "output_type": "stream",
     "text": [
      "\n",
      "Group: Z3\n",
      "Instance ID: 140668649150288\n",
      "Description: Cyclic group of order 3\n",
      "Order: 3\n",
      "Identity: e\n",
      "Associative? Yes\n",
      "Commutative? Yes\n",
      "Elements:\n",
      "   Index   Name   Inverse  Order\n",
      "      0       e       e       1\n",
      "      1       a     a^2       3\n",
      "      2     a^2       a       3\n",
      "Cayley Table (showing names):\n",
      "[['e', 'a', 'a^2'], ['a', 'a^2', 'e'], ['a^2', 'e', 'a']]\n"
     ]
    }
   ],
   "source": [
    ">>> z3.about(use_table_names=True)"
   ]
  },
  {
   "cell_type": "markdown",
   "id": "093a2dd2",
   "metadata": {},
   "source": [
    "### Group Properties"
   ]
  },
  {
   "cell_type": "code",
   "execution_count": 4,
   "id": "fb9f054d",
   "metadata": {},
   "outputs": [
    {
     "data": {
      "text/plain": [
       "True"
      ]
     },
     "execution_count": 4,
     "metadata": {},
     "output_type": "execute_result"
    }
   ],
   "source": [
    ">>> z3.is_associative()  # Only Magmas are non-associative"
   ]
  },
  {
   "cell_type": "code",
   "execution_count": 5,
   "id": "decb65c7",
   "metadata": {},
   "outputs": [
    {
     "data": {
      "text/plain": [
       "True"
      ]
     },
     "execution_count": 5,
     "metadata": {},
     "output_type": "execute_result"
    }
   ],
   "source": [
    ">>> z3.is_commutative()"
   ]
  },
  {
   "cell_type": "code",
   "execution_count": 6,
   "id": "1fb48c46",
   "metadata": {},
   "outputs": [
    {
     "data": {
      "text/plain": [
       "True"
      ]
     },
     "execution_count": 6,
     "metadata": {},
     "output_type": "execute_result"
    }
   ],
   "source": [
    ">>> z3.is_abelian()"
   ]
  },
  {
   "cell_type": "markdown",
   "id": "dd4ace4e",
   "metadata": {},
   "source": [
    "The ``identity`` method (property) returns the algebra's identity element, if it exists.\n",
    "\n",
    "If the identity doesn't exist, then ``None`` is returned."
   ]
  },
  {
   "cell_type": "code",
   "execution_count": 7,
   "id": "205e0cb1",
   "metadata": {},
   "outputs": [
    {
     "data": {
      "text/plain": [
       "'e'"
      ]
     },
     "execution_count": 7,
     "metadata": {},
     "output_type": "execute_result"
    }
   ],
   "source": [
    ">>> z3.identity"
   ]
  },
  {
   "cell_type": "code",
   "execution_count": 8,
   "id": "89351b86",
   "metadata": {},
   "outputs": [
    {
     "data": {
      "text/plain": [
       "'a^2'"
      ]
     },
     "execution_count": 8,
     "metadata": {},
     "output_type": "execute_result"
    }
   ],
   "source": [
    ">>> z3.inv('a')  # Get an element's inverse, if it exists"
   ]
  },
  {
   "cell_type": "markdown",
   "id": "f96e22af",
   "metadata": {},
   "source": [
    "Internal to algebras, tables are stored as instances of the ``CayleyTable`` class:"
   ]
  },
  {
   "cell_type": "code",
   "execution_count": 9,
   "id": "c75f01c5",
   "metadata": {},
   "outputs": [
    {
     "data": {
      "text/plain": [
       "CayleyTable([[0, 1, 2], [1, 2, 0], [2, 0, 1]])"
      ]
     },
     "execution_count": 9,
     "metadata": {},
     "output_type": "execute_result"
    }
   ],
   "source": [
    ">>> z3.table"
   ]
  },
  {
   "cell_type": "markdown",
   "id": "9c2b480d",
   "metadata": {},
   "source": [
    "### Binary Operation"
   ]
  },
  {
   "cell_type": "code",
   "execution_count": 10,
   "id": "4124ebd2",
   "metadata": {},
   "outputs": [
    {
     "data": {
      "text/plain": [
       "'e'"
      ]
     },
     "execution_count": 10,
     "metadata": {},
     "output_type": "execute_result"
    }
   ],
   "source": [
    ">>> z3.op()  # zero arguments returns the identity, if it exists"
   ]
  },
  {
   "cell_type": "markdown",
   "id": "39e32933",
   "metadata": {},
   "source": [
    "If only one argument is given to the binary operation, then that argument is simply returned; unless it is not a valid element of the algebra, in which case an exception is raised."
   ]
  },
  {
   "cell_type": "code",
   "execution_count": 11,
   "id": "3fd3aa94",
   "metadata": {},
   "outputs": [
    {
     "data": {
      "text/plain": [
       "'a'"
      ]
     },
     "execution_count": 11,
     "metadata": {},
     "output_type": "execute_result"
    }
   ],
   "source": [
    ">>> z3.op('a')"
   ]
  },
  {
   "cell_type": "markdown",
   "id": "6f635bc7",
   "metadata": {},
   "source": [
    "For $Z_3$, $a \\circ a = a^2$"
   ]
  },
  {
   "cell_type": "code",
   "execution_count": 12,
   "id": "46cad841",
   "metadata": {},
   "outputs": [
    {
     "data": {
      "text/plain": [
       "'a^2'"
      ]
     },
     "execution_count": 12,
     "metadata": {},
     "output_type": "execute_result"
    }
   ],
   "source": [
    ">>> z3.op('a', 'a')"
   ]
  },
  {
   "cell_type": "markdown",
   "id": "6c4aa082",
   "metadata": {},
   "source": [
    "and $a \\circ a \\circ a = a \\circ a^2 = a^2 \\circ a = e$."
   ]
  },
  {
   "cell_type": "code",
   "execution_count": 13,
   "id": "ebd0f407",
   "metadata": {},
   "outputs": [
    {
     "data": {
      "text/plain": [
       "True"
      ]
     },
     "execution_count": 13,
     "metadata": {},
     "output_type": "execute_result"
    }
   ],
   "source": [
    ">>> z3.op('a', 'a', 'a') == z3.op('a', 'a^2') == z3.op('a^2', 'a') == 'e'"
   ]
  },
  {
   "cell_type": "markdown",
   "id": "8ec9384f",
   "metadata": {},
   "source": [
    "Note, however, that the function, ``op``, can only be used with elements (``str``) that are members of the element list.  So, since 'a^3' is not a string in the element list, it cannot be used in function ``op``."
   ]
  },
  {
   "cell_type": "code",
   "execution_count": 14,
   "id": "0473979f",
   "metadata": {},
   "outputs": [
    {
     "name": "stdout",
     "output_type": "stream",
     "text": [
      "a^3 is not a valid element name\n"
     ]
    }
   ],
   "source": [
    ">>> try:\n",
    ">>>     z3.op('a^3')\n",
    ">>> except Exception as exc:\n",
    ">>>     print(exc)"
   ]
  },
  {
   "cell_type": "markdown",
   "id": "4a1b1cf7",
   "metadata": {},
   "source": [
    "### \"Subtraction\" in Groups"
   ]
  },
  {
   "cell_type": "markdown",
   "id": "6dcbc0d4",
   "metadata": {},
   "source": [
    "The method, ``sub``, is a convenience method for computing \"$x - y$\", that is, $x \\circ y^{-1}$ where $x, y \\in \\langle G, \\circ \\rangle$."
   ]
  },
  {
   "cell_type": "code",
   "execution_count": 15,
   "id": "e71729cb",
   "metadata": {},
   "outputs": [
    {
     "name": "stdout",
     "output_type": "stream",
     "text": [
      "For example, \"a - a^2\" = a * a = a^2\n"
     ]
    }
   ],
   "source": [
    ">>> x = 'a'\n",
    ">>> y = 'a^2'\n",
    ">>> print(f\"For example, \\\"{x} - {y}\\\" = {x} * {z3.inv(y)} = {z3.op(x, z3.inv(y))}\")"
   ]
  },
  {
   "cell_type": "markdown",
   "id": "599bac29",
   "metadata": {},
   "source": [
    "Or, more succinctly:"
   ]
  },
  {
   "cell_type": "code",
   "execution_count": 16,
   "id": "c5f7de8e",
   "metadata": {
    "scrolled": true
   },
   "outputs": [
    {
     "data": {
      "text/plain": [
       "'a^2'"
      ]
     },
     "execution_count": 16,
     "metadata": {},
     "output_type": "execute_result"
    }
   ],
   "source": [
    ">>> z3.sub(x, y)"
   ]
  },
  {
   "cell_type": "markdown",
   "id": "d430941b",
   "metadata": {},
   "source": [
    "### Magma"
   ]
  },
  {
   "cell_type": "markdown",
   "id": "3e47cb2f",
   "metadata": {},
   "source": [
    "**Magma** -- a set with a binary operation:  $\\langle S, \\circ \\rangle$, where $S$ is a finite set and $\\circ: S \\times S \\to S$"
   ]
  },
  {
   "cell_type": "markdown",
   "id": "b3c480f2",
   "metadata": {},
   "source": [
    "**Rock-Paper-Scissors**\n",
    "\n",
    "See https://en.wikipedia.org/wiki/Commutative_magma\n",
    "\n",
    "* $\\langle S, \\circ \\rangle$, where $S = \\{r,p,s\\}$\n",
    "* For all $x, y \\in S$, if $x$ *beats* $y$, then $x \\circ y = y \\circ x = x$\n",
    "* Also, for all $x \\in S$, $xx = x$\n",
    "\n",
    "From the rule in the second bullet, above, this algebra is obviously commutative."
   ]
  },
  {
   "cell_type": "code",
   "execution_count": 17,
   "id": "52be6e20",
   "metadata": {},
   "outputs": [
    {
     "name": "stdout",
     "output_type": "stream",
     "text": [
      "\n",
      "Magma: RPS\n",
      "Instance ID: 140668777349520\n",
      "Description: Rock, Paper, Scissors Magma\n",
      "Order: 3\n",
      "Elements: ['r', 'p', 's']\n",
      "Identity: None\n",
      "Associative? No\n",
      "Commutative? Yes\n",
      "Has Inverses? No\n",
      "Cayley Table (showing indices):\n",
      "[[0, 1, 0], [1, 1, 2], [0, 2, 2]]\n"
     ]
    }
   ],
   "source": [
    ">>> rps = make_finite_algebra('RPS',\n",
    "                              'Rock, Paper, Scissors Magma',\n",
    "                              ['r', 'p', 's'],\n",
    "                              [['r', 'p', 'r'],\n",
    "                               ['p', 'p', 's'],\n",
    "                               ['r', 's', 's']])\n",
    "\n",
    ">>> rps.about()"
   ]
  },
  {
   "cell_type": "markdown",
   "id": "920678d6",
   "metadata": {},
   "source": [
    "Paper beats Rock:"
   ]
  },
  {
   "cell_type": "code",
   "execution_count": 18,
   "id": "649999bd",
   "metadata": {},
   "outputs": [
    {
     "data": {
      "text/plain": [
       "'p'"
      ]
     },
     "execution_count": 18,
     "metadata": {},
     "output_type": "execute_result"
    }
   ],
   "source": [
    ">>> rps.op('r', 'p')"
   ]
  },
  {
   "cell_type": "code",
   "execution_count": 19,
   "id": "5c118b42",
   "metadata": {},
   "outputs": [
    {
     "name": "stdout",
     "output_type": "stream",
     "text": [
      "RPS does not have an identity element\n"
     ]
    }
   ],
   "source": [
    ">>> if rps.identity is None:\n",
    ">>>     print(\"RPS does not have an identity element\")"
   ]
  },
  {
   "cell_type": "markdown",
   "id": "02a5a552",
   "metadata": {},
   "source": [
    "For convenience, the method, ``has_identity``, returns True or False, depending on whether an algebra has an identity."
   ]
  },
  {
   "cell_type": "code",
   "execution_count": 20,
   "id": "293b071d",
   "metadata": {},
   "outputs": [
    {
     "data": {
      "text/plain": [
       "False"
      ]
     },
     "execution_count": 20,
     "metadata": {},
     "output_type": "execute_result"
    }
   ],
   "source": [
    ">>> rps.has_identity()"
   ]
  },
  {
   "cell_type": "markdown",
   "id": "b6ec3fac",
   "metadata": {},
   "source": [
    "The next section demonstrates that a Magma can have an identity element, as long as the Magma is not associative, otherwise ``make_finite_algebra`` would output a Monoid."
   ]
  },
  {
   "cell_type": "markdown",
   "id": "716b2c0d",
   "metadata": {},
   "source": [
    "### Magma with Identity Element"
   ]
  },
  {
   "cell_type": "code",
   "execution_count": 21,
   "id": "deead4cb",
   "metadata": {},
   "outputs": [
    {
     "name": "stdout",
     "output_type": "stream",
     "text": [
      "\n",
      "Magma: Whatever\n",
      "Instance ID: 140668777249040\n",
      "Description: Magma with Identity\n",
      "Order: 3\n",
      "Elements: ['e', 'a', 'b']\n",
      "Identity: e\n",
      "Associative? No\n",
      "Commutative? No\n",
      "Has Inverses? No\n",
      "Cayley Table (showing indices):\n",
      "[[0, 1, 2], [1, 0, 1], [2, 2, 1]]\n"
     ]
    }
   ],
   "source": [
    ">>> mag = make_finite_algebra('Whatever',\n",
    "                              'Magma with Identity',\n",
    "                              ['e', 'a', 'b'],\n",
    "                              [['e', 'a', 'b'],\n",
    "                               ['a', 'e', 'a'],\n",
    "                               ['b', 'b', 'a']])\n",
    "\n",
    ">>> mag.about()"
   ]
  },
  {
   "cell_type": "markdown",
   "id": "9ca03a8e",
   "metadata": {},
   "source": [
    "### Semigroup"
   ]
  },
  {
   "cell_type": "markdown",
   "id": "e4b20a6b",
   "metadata": {},
   "source": [
    "**Semigroup** -- an associative Magma:  for any $a,b,c \\in S \\Rightarrow a \\circ (b \\circ c) = (a \\circ b) \\circ c$"
   ]
  },
  {
   "cell_type": "markdown",
   "id": "e1847f63",
   "metadata": {},
   "source": [
    "Reference: [Groupoids and Smarandache Groupoids](https://arxiv.org/ftp/math/papers/0304/0304490.pdf) by W. B. Vasantha Kandasamy"
   ]
  },
  {
   "cell_type": "code",
   "execution_count": 22,
   "id": "4b3e255c",
   "metadata": {},
   "outputs": [
    {
     "name": "stdout",
     "output_type": "stream",
     "text": [
      "\n",
      "Semigroup: Example 1.4.1\n",
      "Instance ID: 140668782180368\n",
      "Description: See: Groupoids and Smarandache Groupoids by W. B. Vasantha Kandasamy\n",
      "Order: 6\n",
      "Elements: ['a', 'b', 'c', 'd', 'e', 'f']\n",
      "Identity: None\n",
      "Associative? Yes\n",
      "Commutative? No\n",
      "Has Inverses? No\n",
      "Cayley Table (showing indices):\n",
      "[[0, 3, 0, 3, 0, 3],\n",
      " [1, 4, 1, 4, 1, 4],\n",
      " [2, 5, 2, 5, 2, 5],\n",
      " [3, 0, 3, 0, 3, 0],\n",
      " [4, 1, 4, 1, 4, 1],\n",
      " [5, 2, 5, 2, 5, 2]]\n"
     ]
    }
   ],
   "source": [
    ">>> sg = make_finite_algebra(\n",
    "    'Example 1.4.1',\n",
    "    'See: Groupoids and Smarandache Groupoids by W. B. Vasantha Kandasamy',\n",
    "    ['a', 'b', 'c', 'd', 'e', 'f'],\n",
    "    [[0, 3, 0, 3, 0, 3],\n",
    "     [1, 4, 1, 4, 1, 4],\n",
    "     [2, 5, 2, 5, 2, 5],\n",
    "     [3, 0, 3, 0, 3, 0],\n",
    "     [4, 1, 4, 1, 4, 1],\n",
    "     [5, 2, 5, 2, 5, 2]]\n",
    ")\n",
    "\n",
    ">>> sg.about()"
   ]
  },
  {
   "cell_type": "markdown",
   "id": "903fabcf",
   "metadata": {},
   "source": [
    "Since the element in the 0,1 position of the table is 3, it follows that, $a \\circ b = d$:"
   ]
  },
  {
   "cell_type": "code",
   "execution_count": 23,
   "id": "7df81614",
   "metadata": {},
   "outputs": [
    {
     "data": {
      "text/plain": [
       "'d'"
      ]
     },
     "execution_count": 23,
     "metadata": {},
     "output_type": "execute_result"
    }
   ],
   "source": [
    ">>> sg.op('a', 'b')"
   ]
  },
  {
   "cell_type": "markdown",
   "id": "15d0cb0a",
   "metadata": {},
   "source": [
    "### Monoid"
   ]
  },
  {
   "cell_type": "markdown",
   "id": "05826df6",
   "metadata": {},
   "source": [
    "**Monoid** -- a Semigroup with identity element:  $\\exists e \\in S$, such that, for all $a \\in S, a \\circ e = e \\circ a = a$"
   ]
  },
  {
   "cell_type": "code",
   "execution_count": 24,
   "id": "b776aed6",
   "metadata": {},
   "outputs": [
    {
     "name": "stdout",
     "output_type": "stream",
     "text": [
      "\n",
      "Monoid: M4\n",
      "Instance ID: 140668782064080\n",
      "Description: Example of a commutative monoid\n",
      "Order: 4\n",
      "Elements: ['a', 'b', 'c', 'd']\n",
      "Identity: b\n",
      "Associative? Yes\n",
      "Commutative? Yes\n",
      "Has Inverses? No\n",
      "Cayley Table (showing names):\n",
      "[['a', 'a', 'a', 'a'],\n",
      " ['a', 'b', 'c', 'd'],\n",
      " ['a', 'c', 'a', 'c'],\n",
      " ['a', 'd', 'c', 'b']]\n"
     ]
    }
   ],
   "source": [
    ">>> m4 = make_finite_algebra('M4',\n",
    "                             'Example of a commutative monoid',\n",
    "                             ['a', 'b', 'c', 'd'],\n",
    "                             [[0, 0, 0, 0],\n",
    "                              [0, 1, 2, 3],\n",
    "                              [0, 2, 0, 2],\n",
    "                              [0, 3, 2, 1]])\n",
    "\n",
    ">>> m4.about(use_table_names=True)"
   ]
  },
  {
   "cell_type": "markdown",
   "id": "73e3d42b",
   "metadata": {},
   "source": [
    "By the way, the Monoid, above, and others like it of different orders, can be automatically generated using the function, ``generate_commutative_monoid``.  It is based on integer multiplication modulo the desired order."
   ]
  },
  {
   "cell_type": "code",
   "execution_count": 25,
   "id": "c1c04c17",
   "metadata": {},
   "outputs": [
    {
     "data": {
      "text/plain": [
       "'b'"
      ]
     },
     "execution_count": 25,
     "metadata": {},
     "output_type": "execute_result"
    }
   ],
   "source": [
    ">>> m4.identity  # Returns the identity element"
   ]
  },
  {
   "cell_type": "code",
   "execution_count": 26,
   "id": "6e358e07",
   "metadata": {},
   "outputs": [
    {
     "data": {
      "text/plain": [
       "'c'"
      ]
     },
     "execution_count": 26,
     "metadata": {},
     "output_type": "execute_result"
    }
   ],
   "source": [
    ">>> m4.op('c', 'b')  # since 'b' is the identity element"
   ]
  },
  {
   "cell_type": "markdown",
   "id": "d012b0db",
   "metadata": {},
   "source": [
    "## Serialization"
   ]
  },
  {
   "cell_type": "markdown",
   "id": "31407b79",
   "metadata": {},
   "source": [
    "Algebras can be converted to and from JSON strings/files and Python dictionaries."
   ]
  },
  {
   "cell_type": "markdown",
   "id": "0602a630",
   "metadata": {},
   "source": [
    "### Instantiate Algebra from JSON File"
   ]
  },
  {
   "cell_type": "markdown",
   "id": "de2e0405",
   "metadata": {},
   "source": [
    "First setup some path variables:\n",
    "\n",
    "* one that points to the abstract_algebra directory\n",
    "* and the other points to a subdirectory containing algebra definitions in JSON format\n",
    "\n",
    "Also, the code here assumes that there is an environment\n",
    "variable, ``PYPROJ``, that points to the parent directory of the abstract_algebra directory."
   ]
  },
  {
   "cell_type": "code",
   "execution_count": 27,
   "id": "c8bb2bd1",
   "metadata": {},
   "outputs": [],
   "source": [
    ">>> import os\n",
    ">>> aa_path = os.path.join(os.getenv(\"PYPROJ\"), \"abstract_algebra\")\n",
    ">>> alg_dir = os.path.join(aa_path, \"Algebras\")"
   ]
  },
  {
   "cell_type": "markdown",
   "id": "b621adc1",
   "metadata": {},
   "source": [
    "Here's the **JSON file**:"
   ]
  },
  {
   "cell_type": "code",
   "execution_count": 28,
   "id": "3c6bf42a",
   "metadata": {},
   "outputs": [
    {
     "name": "stdout",
     "output_type": "stream",
     "text": [
      "{\"name\": \"V4\",\r\n",
      " \"description\": \"Klein-4 group\",\r\n",
      " \"elements\": [\"e\", \"h\", \"v\", \"r\"],\r\n",
      " \"table\": [[0, 1, 2, 3],\r\n",
      "           [1, 0, 3, 2],\r\n",
      "           [2, 3, 0, 1],\r\n",
      "           [3, 2, 1, 0]]\r\n",
      "}\r\n"
     ]
    }
   ],
   "source": [
    ">>> v4_json = os.path.join(alg_dir, \"v4_klein_4_group.json\")\n",
    "\n",
    ">>> !cat {v4_json}"
   ]
  },
  {
   "cell_type": "markdown",
   "id": "d2e50c64",
   "metadata": {},
   "source": [
    "And, here's the **algebra** that is loaded from the JSON file:"
   ]
  },
  {
   "cell_type": "code",
   "execution_count": 29,
   "id": "d74ed66f",
   "metadata": {},
   "outputs": [
    {
     "data": {
      "text/plain": [
       "Group(\n",
       "'V4',\n",
       "'Klein-4 group',\n",
       "['e', 'h', 'v', 'r'],\n",
       "[[0, 1, 2, 3], [1, 0, 3, 2], [2, 3, 0, 1], [3, 2, 1, 0]]\n",
       ")"
      ]
     },
     "execution_count": 29,
     "metadata": {},
     "output_type": "execute_result"
    }
   ],
   "source": [
    ">>> v4 = make_finite_algebra(v4_json)\n",
    "\n",
    ">>> v4"
   ]
  },
  {
   "cell_type": "markdown",
   "id": "49d97739",
   "metadata": {},
   "source": [
    "### Convert Algebra to Python Dictionary"
   ]
  },
  {
   "cell_type": "markdown",
   "id": "68c8b6ba",
   "metadata": {},
   "source": [
    "The examples, below, show a Magma and a Group being converted into dictionaries."
   ]
  },
  {
   "cell_type": "code",
   "execution_count": 30,
   "id": "ee7a45cc",
   "metadata": {},
   "outputs": [
    {
     "data": {
      "text/plain": [
       "{'name': 'RPS',\n",
       " 'description': 'Rock, Paper, Scissors Magma',\n",
       " 'elements': ['r', 'p', 's'],\n",
       " 'table': [[0, 1, 0], [1, 1, 2], [0, 2, 2]]}"
      ]
     },
     "execution_count": 30,
     "metadata": {},
     "output_type": "execute_result"
    }
   ],
   "source": [
    ">>> rps.to_dict()"
   ]
  },
  {
   "cell_type": "markdown",
   "id": "7bac42e3",
   "metadata": {},
   "source": [
    "The **type** of algebra (e.g., Magma) can be included in the dictionary for readability, however, the *type* field is ignored when ``make_finite_algebra`` reads a dictionary or JSON file."
   ]
  },
  {
   "cell_type": "code",
   "execution_count": 31,
   "id": "98cd1f28",
   "metadata": {},
   "outputs": [
    {
     "data": {
      "text/plain": [
       "{'name': 'RPS',\n",
       " 'description': 'Rock, Paper, Scissors Magma',\n",
       " 'elements': ['r', 'p', 's'],\n",
       " 'table': [[0, 1, 0], [1, 1, 2], [0, 2, 2]],\n",
       " 'type': 'Magma'}"
      ]
     },
     "execution_count": 31,
     "metadata": {},
     "output_type": "execute_result"
    }
   ],
   "source": [
    ">>> rps_dict = rps.to_dict(include_classname=True)\n",
    "\n",
    ">>> rps_dict"
   ]
  },
  {
   "cell_type": "code",
   "execution_count": 32,
   "id": "af2f4086",
   "metadata": {},
   "outputs": [
    {
     "data": {
      "text/plain": [
       "{'name': 'V4',\n",
       " 'description': 'Klein-4 group',\n",
       " 'elements': ['e', 'h', 'v', 'r'],\n",
       " 'table': [[0, 1, 2, 3], [1, 0, 3, 2], [2, 3, 0, 1], [3, 2, 1, 0]]}"
      ]
     },
     "execution_count": 32,
     "metadata": {},
     "output_type": "execute_result"
    }
   ],
   "source": [
    ">>> v4_dict = v4.to_dict()\n",
    "\n",
    ">>> v4_dict"
   ]
  },
  {
   "cell_type": "markdown",
   "id": "6a62a374",
   "metadata": {},
   "source": [
    "### Instantiate Algebra from Python Dictionary"
   ]
  },
  {
   "cell_type": "code",
   "execution_count": 33,
   "id": "feaeac37",
   "metadata": {},
   "outputs": [
    {
     "data": {
      "text/plain": [
       "Magma(\n",
       "'RPS',\n",
       "'Rock, Paper, Scissors Magma',\n",
       "['r', 'p', 's'],\n",
       "[[0, 1, 0], [1, 1, 2], [0, 2, 2]]\n",
       ")"
      ]
     },
     "execution_count": 33,
     "metadata": {},
     "output_type": "execute_result"
    }
   ],
   "source": [
    ">>> rps_from_dict = make_finite_algebra(rps_dict)\n",
    "\n",
    ">>> rps_from_dict"
   ]
  },
  {
   "cell_type": "code",
   "execution_count": 34,
   "id": "5eb0399f",
   "metadata": {},
   "outputs": [
    {
     "data": {
      "text/plain": [
       "Group(\n",
       "'V4',\n",
       "'Klein-4 group',\n",
       "['e', 'h', 'v', 'r'],\n",
       "[[0, 1, 2, 3], [1, 0, 3, 2], [2, 3, 0, 1], [3, 2, 1, 0]]\n",
       ")"
      ]
     },
     "execution_count": 34,
     "metadata": {},
     "output_type": "execute_result"
    }
   ],
   "source": [
    ">>> v4_from_dict = make_finite_algebra(v4_dict)\n",
    "\n",
    ">>> v4_from_dict"
   ]
  },
  {
   "cell_type": "markdown",
   "id": "27ea8db1",
   "metadata": {},
   "source": [
    "### Convert Algebra to JSON String"
   ]
  },
  {
   "cell_type": "code",
   "execution_count": 35,
   "id": "cc11d5dd",
   "metadata": {},
   "outputs": [
    {
     "data": {
      "text/plain": [
       "'{\"name\": \"V4\", \"description\": \"Klein-4 group\", \"elements\": [\"e\", \"h\", \"v\", \"r\"], \"table\": [[0, 1, 2, 3], [1, 0, 3, 2], [2, 3, 0, 1], [3, 2, 1, 0]]}'"
      ]
     },
     "execution_count": 35,
     "metadata": {},
     "output_type": "execute_result"
    }
   ],
   "source": [
    ">>> v4_json_string = v4.dumps()\n",
    "\n",
    ">>> v4_json_string"
   ]
  },
  {
   "cell_type": "markdown",
   "id": "7811ae2f",
   "metadata": {},
   "source": [
    "**WARNING**: Although an algebra can be constructed by loading its definition from a JSON file, it cannot be constructed directly from a JSON string, because ``make_finite_algebra`` interprets a single string input as a JSON file name.  To load an algebra from a JSON string, first convert the string to a Python dictionary, then input that to ``make_finite_algebra``, as shown below:"
   ]
  },
  {
   "cell_type": "code",
   "execution_count": 36,
   "id": "21b9d45c",
   "metadata": {},
   "outputs": [
    {
     "data": {
      "text/plain": [
       "Group(\n",
       "'V4',\n",
       "'Klein-4 group',\n",
       "['e', 'h', 'v', 'r'],\n",
       "[[0, 1, 2, 3], [1, 0, 3, 2], [2, 3, 0, 1], [3, 2, 1, 0]]\n",
       ")"
      ]
     },
     "execution_count": 36,
     "metadata": {},
     "output_type": "execute_result"
    }
   ],
   "source": [
    ">>> import json\n",
    "\n",
    ">>> make_finite_algebra(json.loads(v4_json_string))"
   ]
  },
  {
   "cell_type": "markdown",
   "id": "1989a1a1",
   "metadata": {},
   "source": [
    "## Autogeneration of Finite Algebras\n",
    "\n",
    "There are several functions for autogenerating finite algebras of specified size:\n",
    "\n",
    "**Groups**\n",
    "\n",
    "* ``generate_cyclic_group(n)``: $Z_n$, where $a \\circ b \\equiv a+b$ mod $n$, where $a,b \\in \\{0,1,...,n-1\\}$\n",
    "* ``generate_symmetric_group(n)``: $S_n$, where $\\circ$ is composition of permutations of $(0, 1, ..., n-1)$\n",
    "* ``generate_powerset_group(n)``: $A \\circ B \\equiv A \\bigtriangleup B$, where $A,B \\in P(\\{0, 1, ..., n-1\\})$; order is $2^n$\n",
    "\n",
    "**Monoid**\n",
    "\n",
    "* ``generate_commutative_monoid(n)``: $a \\circ b \\equiv ab$ mod $n$, where $a,b \\in \\{0,1,...,n-1\\}$"
   ]
  },
  {
   "cell_type": "markdown",
   "id": "27a2b4f8",
   "metadata": {},
   "source": [
    "### Autogenerated Cyclic Group"
   ]
  },
  {
   "cell_type": "markdown",
   "id": "e09cf2d0",
   "metadata": {},
   "source": [
    "A cyclic group of any desired order can be generated as follows:"
   ]
  },
  {
   "cell_type": "code",
   "execution_count": 37,
   "id": "33963e0d",
   "metadata": {},
   "outputs": [
    {
     "name": "stdout",
     "output_type": "stream",
     "text": [
      "\n",
      "Group: Z2\n",
      "Instance ID: 140668783939472\n",
      "Description: Autogenerated cyclic Group of order 2\n",
      "Order: 2\n",
      "Identity: e\n",
      "Associative? Yes\n",
      "Commutative? Yes\n",
      "Elements:\n",
      "   Index   Name   Inverse  Order\n",
      "      0       e       e       1\n",
      "      1       a       a       2\n",
      "Cayley Table (showing indices):\n",
      "[[0, 1], [1, 0]]\n"
     ]
    }
   ],
   "source": [
    ">>> from finite_algebras import generate_cyclic_group\n",
    "\n",
    ">>> z2 = generate_cyclic_group(2)\n",
    "\n",
    ">>> z2.about()"
   ]
  },
  {
   "cell_type": "markdown",
   "id": "6b76a5da",
   "metadata": {},
   "source": [
    "### Autogenerated Symmetric Group"
   ]
  },
  {
   "cell_type": "markdown",
   "id": "4816339d",
   "metadata": {},
   "source": [
    "The symmetric group, based on the permutations of <b>n</b> elements, (1, 2, 3, ..., n), can be generated as follows:\n",
    "\n",
    "**WARNING**: Since the order of an autogenerated symmetric group is **n!**, even a small value of **n** can result in a very large group."
   ]
  },
  {
   "cell_type": "code",
   "execution_count": 38,
   "id": "1bef6375",
   "metadata": {},
   "outputs": [
    {
     "name": "stdout",
     "output_type": "stream",
     "text": [
      "\n",
      "Group: S3\n",
      "Instance ID: 140668777301904\n",
      "Description: Autogenerated symmetric Group on 3 elements\n",
      "Order: 6\n",
      "Identity: (1, 2, 3)\n",
      "Associative? Yes\n",
      "Commutative? No\n",
      "Elements:\n",
      "   Index   Name   Inverse  Order\n",
      "      0 (1, 2, 3) (1, 2, 3)       1\n",
      "      1 (1, 3, 2) (1, 3, 2)       2\n",
      "      2 (2, 1, 3) (2, 1, 3)       2\n",
      "      3 (2, 3, 1) (3, 1, 2)       3\n",
      "      4 (3, 1, 2) (2, 3, 1)       3\n",
      "      5 (3, 2, 1) (3, 2, 1)       2\n",
      "Cayley Table (showing indices):\n",
      "[[0, 1, 2, 3, 4, 5],\n",
      " [1, 0, 4, 5, 2, 3],\n",
      " [2, 3, 0, 1, 5, 4],\n",
      " [3, 2, 5, 4, 0, 1],\n",
      " [4, 5, 1, 0, 3, 2],\n",
      " [5, 4, 3, 2, 1, 0]]\n"
     ]
    }
   ],
   "source": [
    ">>> from finite_algebras import generate_symmetric_group\n",
    "\n",
    ">>> s3 = generate_symmetric_group(3)\n",
    "\n",
    ">>> s3.about()"
   ]
  },
  {
   "cell_type": "markdown",
   "id": "534dfc9a",
   "metadata": {},
   "source": [
    "### Autogenerated Powerset Group\n",
    "\n",
    "The function, ``generate_powerset_group``, will generate a group on the powerset of {0, 1, 2, ..., n-1} with **symmetric difference** as the group's binary operation.  This group is useful because it can be used to form a ring with set intersection as the second operator.\n",
    "\n",
    "This means that the order of the autogenerated powerset group will be $2^n$, so the same WARNING as above applies with regard to large values of n."
   ]
  },
  {
   "cell_type": "code",
   "execution_count": 39,
   "id": "85cae443",
   "metadata": {},
   "outputs": [
    {
     "name": "stdout",
     "output_type": "stream",
     "text": [
      "\n",
      "Group: PS3\n",
      "Instance ID: 140668777300496\n",
      "Description: Autogenerated Group on the powerset of 3 elements, with symmetric difference operator\n",
      "Order: 8\n",
      "Identity: {}\n",
      "Associative? Yes\n",
      "Commutative? Yes\n",
      "Elements:\n",
      "   Index   Name   Inverse  Order\n",
      "      0      {}      {}       1\n",
      "      1     {0}     {0}       2\n",
      "      2     {1}     {1}       2\n",
      "      3     {2}     {2}       2\n",
      "      4  {0, 1}  {0, 1}       2\n",
      "      5  {0, 2}  {0, 2}       2\n",
      "      6  {1, 2}  {1, 2}       2\n",
      "      7 {0, 1, 2} {0, 1, 2}       2\n",
      "Cayley Table (showing indices):\n",
      "[[0, 1, 2, 3, 4, 5, 6, 7],\n",
      " [1, 0, 4, 5, 2, 3, 7, 6],\n",
      " [2, 4, 0, 6, 1, 7, 3, 5],\n",
      " [3, 5, 6, 0, 7, 1, 2, 4],\n",
      " [4, 2, 1, 7, 0, 6, 5, 3],\n",
      " [5, 3, 7, 1, 6, 0, 4, 2],\n",
      " [6, 7, 3, 2, 5, 4, 0, 1],\n",
      " [7, 6, 5, 4, 3, 2, 1, 0]]\n"
     ]
    }
   ],
   "source": [
    ">>> from finite_algebras import generate_powerset_group\n",
    "\n",
    ">>> ps3 = generate_powerset_group(3)\n",
    "\n",
    ">>> ps3.about()"
   ]
  },
  {
   "cell_type": "markdown",
   "id": "7b58f1c3",
   "metadata": {},
   "source": [
    "### Autogenerated Monoid"
   ]
  },
  {
   "cell_type": "markdown",
   "id": "86f7bbc3",
   "metadata": {},
   "source": [
    "The function, ``generate_commutative_monoid``, is based on integer multiplication modulo the desired order."
   ]
  },
  {
   "cell_type": "code",
   "execution_count": 40,
   "id": "faf6bab5",
   "metadata": {},
   "outputs": [
    {
     "name": "stdout",
     "output_type": "stream",
     "text": [
      "\n",
      "Monoid: M7\n",
      "Instance ID: 140668777300560\n",
      "Description: Autogenerated commutative Monoid of order 7\n",
      "Order: 7\n",
      "Elements: ['a0', 'a1', 'a2', 'a3', 'a4', 'a5', 'a6']\n",
      "Identity: a1\n",
      "Associative? Yes\n",
      "Commutative? Yes\n",
      "Has Inverses? No\n",
      "Cayley Table (showing indices):\n",
      "[[0, 0, 0, 0, 0, 0, 0],\n",
      " [0, 1, 2, 3, 4, 5, 6],\n",
      " [0, 2, 4, 6, 1, 3, 5],\n",
      " [0, 3, 6, 2, 5, 1, 4],\n",
      " [0, 4, 1, 5, 2, 6, 3],\n",
      " [0, 5, 3, 1, 6, 4, 2],\n",
      " [0, 6, 5, 4, 3, 2, 1]]\n"
     ]
    }
   ],
   "source": [
    ">>> from finite_algebras import generate_commutative_monoid\n",
    "\n",
    ">>> m7 = generate_commutative_monoid(7)\n",
    "\n",
    ">>> m7.about()"
   ]
  },
  {
   "cell_type": "markdown",
   "id": "10065238",
   "metadata": {},
   "source": [
    "## Direct Products"
   ]
  },
  {
   "cell_type": "markdown",
   "id": "e1c61f50",
   "metadata": {},
   "source": [
    "The **direct product** of two or more algebras can be generated using Python's multiplication operator, ``*``:"
   ]
  },
  {
   "cell_type": "markdown",
   "id": "49c39d6a",
   "metadata": {},
   "source": [
    "### Direct Product of Multiple Groups"
   ]
  },
  {
   "cell_type": "code",
   "execution_count": 41,
   "id": "3ba4f01f",
   "metadata": {},
   "outputs": [
    {
     "name": "stdout",
     "output_type": "stream",
     "text": [
      "\n",
      "Group: Z2_x_Z2_x_Z2\n",
      "Instance ID: 140668777372688\n",
      "Description: Direct product of Z2_x_Z2 & Z2\n",
      "Order: 8\n",
      "Identity: e:e:e\n",
      "Associative? Yes\n",
      "Commutative? Yes\n",
      "Elements:\n",
      "   Index   Name   Inverse  Order\n",
      "      0   e:e:e   e:e:e       1\n",
      "      1   e:e:a   e:e:a       2\n",
      "      2   e:a:e   e:a:e       2\n",
      "      3   e:a:a   e:a:a       2\n",
      "      4   a:e:e   a:e:e       2\n",
      "      5   a:e:a   a:e:a       2\n",
      "      6   a:a:e   a:a:e       2\n",
      "      7   a:a:a   a:a:a       2\n",
      "Cayley Table (showing indices):\n",
      "[[0, 1, 2, 3, 4, 5, 6, 7],\n",
      " [1, 0, 3, 2, 5, 4, 7, 6],\n",
      " [2, 3, 0, 1, 6, 7, 4, 5],\n",
      " [3, 2, 1, 0, 7, 6, 5, 4],\n",
      " [4, 5, 6, 7, 0, 1, 2, 3],\n",
      " [5, 4, 7, 6, 1, 0, 3, 2],\n",
      " [6, 7, 4, 5, 2, 3, 0, 1],\n",
      " [7, 6, 5, 4, 3, 2, 1, 0]]\n"
     ]
    }
   ],
   "source": [
    ">>> z2_cubed = z2 * z2 * z2\n",
    "\n",
    ">>> z2_cubed.about()"
   ]
  },
  {
   "cell_type": "markdown",
   "id": "618e90d7",
   "metadata": {},
   "source": [
    "### Direct Product of Monoids"
   ]
  },
  {
   "cell_type": "code",
   "execution_count": 42,
   "id": "fdbc6e16",
   "metadata": {},
   "outputs": [
    {
     "data": {
      "text/plain": [
       "Monoid(\n",
       "'M3',\n",
       "'Autogenerated commutative Monoid of order 3',\n",
       "['a0', 'a1', 'a2'],\n",
       "[[0, 0, 0], [0, 1, 2], [0, 2, 1]]\n",
       ")"
      ]
     },
     "execution_count": 42,
     "metadata": {},
     "output_type": "execute_result"
    }
   ],
   "source": [
    ">>> mon3 = generate_commutative_monoid(3)\n",
    "\n",
    ">>> mon3"
   ]
  },
  {
   "cell_type": "code",
   "execution_count": 43,
   "id": "7f3ec263",
   "metadata": {},
   "outputs": [
    {
     "name": "stdout",
     "output_type": "stream",
     "text": [
      "\n",
      "Monoid: M3_x_M3\n",
      "Instance ID: 140668783958224\n",
      "Description: Direct product of M3 & M3\n",
      "Order: 9\n",
      "Elements: ['a0:a0', 'a0:a1', 'a0:a2', 'a1:a0', 'a1:a1', 'a1:a2', 'a2:a0', 'a2:a1', 'a2:a2']\n",
      "Identity: a1:a1\n",
      "Associative? Yes\n",
      "Commutative? Yes\n",
      "Has Inverses? No\n",
      "Cayley Table (showing indices):\n",
      "[[0, 0, 0, 0, 0, 0, 0, 0, 0],\n",
      " [0, 1, 2, 0, 1, 2, 0, 1, 2],\n",
      " [0, 2, 1, 0, 2, 1, 0, 2, 1],\n",
      " [0, 0, 0, 3, 3, 3, 6, 6, 6],\n",
      " [0, 1, 2, 3, 4, 5, 6, 7, 8],\n",
      " [0, 2, 1, 3, 5, 4, 6, 8, 7],\n",
      " [0, 0, 0, 6, 6, 6, 3, 3, 3],\n",
      " [0, 1, 2, 6, 7, 8, 3, 4, 5],\n",
      " [0, 2, 1, 6, 8, 7, 3, 5, 4]]\n"
     ]
    }
   ],
   "source": [
    ">>> m3_sqr = mon3 * mon3\n",
    ">>> m3_sqr.about()"
   ]
  },
  {
   "cell_type": "markdown",
   "id": "c186bec1",
   "metadata": {},
   "source": [
    "## Isomorphisms"
   ]
  },
  {
   "cell_type": "markdown",
   "id": "7a38b44a",
   "metadata": {},
   "source": [
    "If two algebras are isomorphic, then the mapping between their elements is returned as a Python dictionary.\n",
    "\n",
    "Here'a a well-known example, using two small groups created above, v4 and the direct product of z2 with itself, z2 * z2:"
   ]
  },
  {
   "cell_type": "markdown",
   "id": "32ae56ff",
   "metadata": {},
   "source": [
    "### Group Isomorphism"
   ]
  },
  {
   "cell_type": "code",
   "execution_count": 44,
   "id": "5e66f627",
   "metadata": {},
   "outputs": [
    {
     "data": {
      "text/plain": [
       "{'e': 'e:e', 'h': 'e:a', 'v': 'a:e', 'r': 'a:a'}"
      ]
     },
     "execution_count": 44,
     "metadata": {},
     "output_type": "execute_result"
    }
   ],
   "source": [
    ">>> z2_sqr = z2 * z2\n",
    "\n",
    ">>> v4.isomorphic(z2_sqr)"
   ]
  },
  {
   "cell_type": "markdown",
   "id": "f3afa87c",
   "metadata": {},
   "source": [
    "If two algebras are not isomorphic, then ``False`` is returned."
   ]
  },
  {
   "cell_type": "code",
   "execution_count": 45,
   "id": "237aa2f4",
   "metadata": {},
   "outputs": [
    {
     "data": {
      "text/plain": [
       "False"
      ]
     },
     "execution_count": 45,
     "metadata": {},
     "output_type": "execute_result"
    }
   ],
   "source": [
    ">>> z4 = generate_cyclic_group(4)\n",
    "\n",
    ">>> z4.isomorphic(z2_sqr)"
   ]
  },
  {
   "cell_type": "markdown",
   "id": "49bbe1e1",
   "metadata": {},
   "source": [
    "### Magma Isomorphism"
   ]
  },
  {
   "cell_type": "markdown",
   "id": "433608c8",
   "metadata": {},
   "source": [
    "**Water, Fire, Stick Magma**"
   ]
  },
  {
   "cell_type": "markdown",
   "id": "e4fb1848",
   "metadata": {},
   "source": [
    "A made-up Magma, similar to Rock, Paper, Scissors:\n",
    "\n",
    "* Water quenches Fire\n",
    "* Fire burns Stick\n",
    "* Stick floats on Water"
   ]
  },
  {
   "cell_type": "code",
   "execution_count": 46,
   "id": "cbb6794b",
   "metadata": {},
   "outputs": [
    {
     "data": {
      "text/plain": [
       "Magma(\n",
       "'WFS',\n",
       "'Water, Fire, Stick Magma',\n",
       "['water', 'fire', 'stick'],\n",
       "[[0, 0, 2], [0, 1, 1], [2, 1, 2]]\n",
       ")"
      ]
     },
     "execution_count": 46,
     "metadata": {},
     "output_type": "execute_result"
    }
   ],
   "source": [
    ">>> wfs = make_finite_algebra('WFS',\n",
    "                              'Water, Fire, Stick Magma',\n",
    "                              ['water', 'fire', 'stick'],\n",
    "                              [[0, 0, 2],\n",
    "                               [0, 1, 1],\n",
    "                               [2, 1, 2]])\n",
    ">>> wfs"
   ]
  },
  {
   "cell_type": "markdown",
   "id": "1a2f7e0f",
   "metadata": {},
   "source": [
    "Here's the isomorphism between rps and wfs:"
   ]
  },
  {
   "cell_type": "code",
   "execution_count": 47,
   "id": "ec06776c",
   "metadata": {},
   "outputs": [
    {
     "data": {
      "text/plain": [
       "{'r': 'water', 'p': 'stick', 's': 'fire'}"
      ]
     },
     "execution_count": 47,
     "metadata": {},
     "output_type": "execute_result"
    }
   ],
   "source": [
    ">>> rps.isomorphic(wfs)"
   ]
  },
  {
   "cell_type": "markdown",
   "id": "146179b3",
   "metadata": {},
   "source": [
    "## Subalgebras (Subgroups)"
   ]
  },
  {
   "cell_type": "markdown",
   "id": "d61f8494",
   "metadata": {},
   "source": [
    "A Group can contain subgroups, submonoids, subsemigroups, or submagmas.  In general, all of these are referred to here as *subalgebras*.\n",
    "\n",
    "The method, ``proper_subalgebras``, extracts all possible subalgebras that exist within an algebra, regardless of whether they are isomorphic to each other or not, or even of the same algebraic class as the parent algebra."
   ]
  },
  {
   "cell_type": "markdown",
   "id": "84ac5121",
   "metadata": {},
   "source": [
    "### Proper Subgroups"
   ]
  },
  {
   "cell_type": "code",
   "execution_count": 48,
   "id": "39538533",
   "metadata": {},
   "outputs": [
    {
     "name": "stdout",
     "output_type": "stream",
     "text": [
      "\n",
      "Group: Z8\n",
      "Instance ID: 140668784303696\n",
      "Description: Autogenerated cyclic Group of order 8\n",
      "Order: 8\n",
      "Identity: e\n",
      "Associative? Yes\n",
      "Commutative? Yes\n",
      "Elements:\n",
      "   Index   Name   Inverse  Order\n",
      "      0       e       e       1\n",
      "      1       a     a^7       8\n",
      "      2     a^2     a^6       4\n",
      "      3     a^3     a^5       8\n",
      "      4     a^4     a^4       2\n",
      "      5     a^5     a^3       8\n",
      "      6     a^6     a^2       4\n",
      "      7     a^7       a       8\n",
      "Cayley Table (showing indices):\n",
      "[[0, 1, 2, 3, 4, 5, 6, 7],\n",
      " [1, 2, 3, 4, 5, 6, 7, 0],\n",
      " [2, 3, 4, 5, 6, 7, 0, 1],\n",
      " [3, 4, 5, 6, 7, 0, 1, 2],\n",
      " [4, 5, 6, 7, 0, 1, 2, 3],\n",
      " [5, 6, 7, 0, 1, 2, 3, 4],\n",
      " [6, 7, 0, 1, 2, 3, 4, 5],\n",
      " [7, 0, 1, 2, 3, 4, 5, 6]]\n"
     ]
    }
   ],
   "source": [
    ">>> z8 = generate_cyclic_group(8)\n",
    ">>> z8.about()"
   ]
  },
  {
   "cell_type": "code",
   "execution_count": 49,
   "id": "72e68ad7",
   "metadata": {},
   "outputs": [
    {
     "name": "stdout",
     "output_type": "stream",
     "text": [
      "\n",
      "Group: Z8_subalgebra_0\n",
      "Instance ID: 140668783765520\n",
      "Description: Subalgebra of: Autogenerated cyclic Group of order 8\n",
      "Order: 4\n",
      "Identity: e\n",
      "Associative? Yes\n",
      "Commutative? Yes\n",
      "Elements:\n",
      "   Index   Name   Inverse  Order\n",
      "      0       e       e       1\n",
      "      1     a^2     a^6       4\n",
      "      2     a^4     a^4       2\n",
      "      3     a^6     a^2       4\n",
      "Cayley Table (showing indices):\n",
      "[[0, 1, 2, 3], [1, 2, 3, 0], [2, 3, 0, 1], [3, 0, 1, 2]]\n",
      "\n",
      "Group: Z8_subalgebra_1\n",
      "Instance ID: 140668784303504\n",
      "Description: Subalgebra of: Autogenerated cyclic Group of order 8\n",
      "Order: 2\n",
      "Identity: e\n",
      "Associative? Yes\n",
      "Commutative? Yes\n",
      "Elements:\n",
      "   Index   Name   Inverse  Order\n",
      "      0       e       e       1\n",
      "      1     a^4     a^4       2\n",
      "Cayley Table (showing indices):\n",
      "[[0, 1], [1, 0]]\n"
     ]
    }
   ],
   "source": [
    ">>> z8_proper_subs = z8.proper_subalgebras()\n",
    "\n",
    ">>> _ = [z8_proper_sub.about() for z8_proper_sub in z8_proper_subs]"
   ]
  },
  {
   "cell_type": "markdown",
   "id": "48eff57d",
   "metadata": {},
   "source": [
    "### Normal Subgroups"
   ]
  },
  {
   "cell_type": "markdown",
   "id": "b6c9d0c5",
   "metadata": {},
   "source": [
    "Both of the subgroups of Z8, derived above, are **normal**:"
   ]
  },
  {
   "cell_type": "code",
   "execution_count": 50,
   "id": "e979091a",
   "metadata": {},
   "outputs": [
    {
     "data": {
      "text/plain": [
       "[True, True]"
      ]
     },
     "execution_count": 50,
     "metadata": {},
     "output_type": "execute_result"
    }
   ],
   "source": [
    ">>> [z8.is_normal(g) for g in z8_proper_subs]"
   ]
  },
  {
   "cell_type": "markdown",
   "id": "2b807e57",
   "metadata": {},
   "source": [
    "### Proper Subalgebras up to Isomorphism"
   ]
  },
  {
   "cell_type": "markdown",
   "id": "29065233",
   "metadata": {},
   "source": [
    "The function, ``partition_into_isomorphic_lists``, does just that; it partitions a list of algebras (subgroups in this case) into a list of lists, where each sublist contains subalgebras that are all isomophic to each other.\n",
    "\n",
    "The function, ``about_isomorphic_partitions``, prints out a summary of information about the partitions output by ``partition_into_isomorphic_list``."
   ]
  },
  {
   "cell_type": "code",
   "execution_count": 51,
   "id": "edff7225",
   "metadata": {},
   "outputs": [],
   "source": [
    "from finite_algebras import partition_into_isomorphic_lists, about_isomorphic_partitions"
   ]
  },
  {
   "cell_type": "markdown",
   "id": "f6734e9f",
   "metadata": {},
   "source": [
    "The example, below, uses the autogenerated powerset group, **ps3**, that was created earlier."
   ]
  },
  {
   "cell_type": "code",
   "execution_count": 52,
   "id": "79337b8b",
   "metadata": {},
   "outputs": [
    {
     "name": "stdout",
     "output_type": "stream",
     "text": [
      "\n",
      "Subalgebras of <Group:PS3, ID:140668777300496>\n",
      "  There are 2 unique subalgebras, up to isomorphisms, out of 14 total subalgebras\n",
      "  as shown by the partitions below:\n",
      "\n",
      "7 Commutative Normal Groups of order 4 with identity '{}':\n",
      "      PS3_subalgebra_0: ['{}', '{0}', '{1, 2}', '{0, 1, 2}']\n",
      "      PS3_subalgebra_1: ['{}', '{0}', '{1}', '{0, 1}']\n",
      "      PS3_subalgebra_3: ['{}', '{0}', '{2}', '{0, 2}']\n",
      "      PS3_subalgebra_4: ['{}', '{0, 1}', '{0, 2}', '{1, 2}']\n",
      "      PS3_subalgebra_8: ['{}', '{2}', '{0, 1}', '{0, 1, 2}']\n",
      "      PS3_subalgebra_9: ['{}', '{1}', '{2}', '{1, 2}']\n",
      "      PS3_subalgebra_12: ['{}', '{1}', '{0, 2}', '{0, 1, 2}']\n",
      "\n",
      "7 Commutative Normal Groups of order 2 with identity '{}':\n",
      "      PS3_subalgebra_2: ['{}', '{2}']\n",
      "      PS3_subalgebra_5: ['{}', '{0, 1}']\n",
      "      PS3_subalgebra_6: ['{}', '{0, 2}']\n",
      "      PS3_subalgebra_7: ['{}', '{1, 2}']\n",
      "      PS3_subalgebra_10: ['{}', '{0, 1, 2}']\n",
      "      PS3_subalgebra_11: ['{}', '{1}']\n",
      "      PS3_subalgebra_13: ['{}', '{0}']\n",
      "\n"
     ]
    }
   ],
   "source": [
    ">>> ps3_proper_subs = ps3.proper_subalgebras()\n",
    "\n",
    ">>> partitions = partition_into_isomorphic_lists(ps3_proper_subs)\n",
    "\n",
    ">>> about_isomorphic_partitions(ps3, partitions)"
   ]
  },
  {
   "cell_type": "markdown",
   "id": "3e2c0c06",
   "metadata": {},
   "source": [
    "### Subalgebras of Semigroups, Etc."
   ]
  },
  {
   "cell_type": "markdown",
   "id": "1f3bc641",
   "metadata": {},
   "source": [
    "Recall the Semigroup example from above:"
   ]
  },
  {
   "cell_type": "code",
   "execution_count": 53,
   "id": "98d6651a",
   "metadata": {},
   "outputs": [
    {
     "name": "stdout",
     "output_type": "stream",
     "text": [
      "\n",
      "Semigroup: Example 1.4.1\n",
      "Instance ID: 140668782180368\n",
      "Description: See: Groupoids and Smarandache Groupoids by W. B. Vasantha Kandasamy\n",
      "Order: 6\n",
      "Elements: ['a', 'b', 'c', 'd', 'e', 'f']\n",
      "Identity: None\n",
      "Associative? Yes\n",
      "Commutative? No\n",
      "Has Inverses? No\n",
      "Cayley Table (showing indices):\n",
      "[[0, 3, 0, 3, 0, 3],\n",
      " [1, 4, 1, 4, 1, 4],\n",
      " [2, 5, 2, 5, 2, 5],\n",
      " [3, 0, 3, 0, 3, 0],\n",
      " [4, 1, 4, 1, 4, 1],\n",
      " [5, 2, 5, 2, 5, 2]]\n"
     ]
    }
   ],
   "source": [
    ">>> sg.about()"
   ]
  },
  {
   "cell_type": "markdown",
   "id": "47af0c70",
   "metadata": {},
   "source": [
    "It contains 4 unique subalgebras, up to isomorphism, 3 Semigroups and 1 Group:"
   ]
  },
  {
   "cell_type": "code",
   "execution_count": 54,
   "id": "64ba9ed3",
   "metadata": {},
   "outputs": [
    {
     "name": "stdout",
     "output_type": "stream",
     "text": [
      "\n",
      "Subalgebras of <Semigroup:Example 1.4.1, ID:140668782180368>\n",
      "  There are 4 unique subalgebras, up to isomorphisms, out of 10 total subalgebras\n",
      "  as shown by the partitions below:\n",
      "\n",
      "3 Commutative Groups of order 2:\n",
      "      Example 1.4.1_subalgebra_0: ['b', 'e'] with identity 'e'\n",
      "      Example 1.4.1_subalgebra_5: ['a', 'd'] with identity 'a'\n",
      "      Example 1.4.1_subalgebra_7: ['c', 'f'] with identity 'c'\n",
      "\n",
      "3 Semigroups of order 4:\n",
      "      Example 1.4.1_subalgebra_1: ['b', 'c', 'e', 'f']\n",
      "      Example 1.4.1_subalgebra_2: ['a', 'b', 'd', 'e']\n",
      "      Example 1.4.1_subalgebra_3: ['a', 'c', 'd', 'f']\n",
      "\n",
      "3 Semigroups of order 2:\n",
      "      Example 1.4.1_subalgebra_4: ['a', 'e']\n",
      "      Example 1.4.1_subalgebra_8: ['c', 'e']\n",
      "      Example 1.4.1_subalgebra_9: ['a', 'c']\n",
      "\n",
      "1 Semigroup of order 3:\n",
      "      Example 1.4.1_subalgebra_6: ['a', 'c', 'e']\n",
      "\n"
     ]
    }
   ],
   "source": [
    ">>> sg_proper_subs = sg.proper_subalgebras()\n",
    "\n",
    ">>> partitions = partition_into_isomorphic_lists(sg_proper_subs)\n",
    "\n",
    ">>> about_isomorphic_partitions(sg, partitions)"
   ]
  },
  {
   "cell_type": "markdown",
   "id": "fb5b43f0",
   "metadata": {},
   "source": [
    "## Built-In Examples"
   ]
  },
  {
   "cell_type": "markdown",
   "id": "e34b5892",
   "metadata": {},
   "source": [
    "``Examples`` is a convenience class for accessing some of the example algebras in the algebras directory.  To add or subtract algebras to its default list, see the file, 'examples.json', in the algebras directory."
   ]
  },
  {
   "cell_type": "code",
   "execution_count": 55,
   "id": "a684107c",
   "metadata": {},
   "outputs": [
    {
     "name": "stdout",
     "output_type": "stream",
     "text": [
      "======================================================================\n",
      "                           Example Algebras\n",
      "----------------------------------------------------------------------\n",
      "  15 example algebras are available.\n",
      "  Use \"get_example(INDEX)\" to retrieve a specific example,\n",
      "  where INDEX is the first number on each line below:\n",
      "----------------------------------------------------------------------\n",
      "0: A4 -- Alternating group on 4 letters (AKA Tetrahedral group)\n",
      "1: D3 -- https://en.wikipedia.org/wiki/Dihedral_group_of_order_6\n",
      "2: D4 -- Dihedral group on four vertices\n",
      "3: Pinter29 -- Non-abelian group, p.29, 'A Book of Abstract Algebra' by Charles C. Pinter\n",
      "4: RPS -- Rock, Paper, Scissors Magma\n",
      "5: S3 -- Symmetric group on 3 letters\n",
      "6: S3X -- Another version of the symmetric group on 3 letters\n",
      "7: V4 -- Klein-4 group\n",
      "8: Z4 -- Cyclic group of order 4\n",
      "9: F4 -- Field with 4 elements (from Wikipedia)\n",
      "10: mag_id -- Magma with Identity\n",
      "11: Example 1.4.1 -- See: Groupoids and Smarandache Groupoids by W. B. Vasantha Kandasamy\n",
      "12: Ex6 -- Example 6: http://www-groups.mcs.st-andrews.ac.uk/~john/MT4517/Lectures/L3.html\n",
      "13: Q8 -- Quaternion Group\n",
      "14: SD16 -- Semidihedral group of order 16\n",
      "======================================================================\n"
     ]
    }
   ],
   "source": [
    ">>> from finite_algebras import Examples\n",
    "\n",
    ">>> ex = Examples(alg_dir)  # Requires path to directory containing algebras' JSON files"
   ]
  },
  {
   "cell_type": "code",
   "execution_count": 56,
   "id": "a6116b07",
   "metadata": {
    "scrolled": false
   },
   "outputs": [
    {
     "name": "stdout",
     "output_type": "stream",
     "text": [
      "\n",
      "Group: Pinter29\n",
      "Instance ID: 140668777300752\n",
      "Description: Non-abelian group, p.29, 'A Book of Abstract Algebra' by Charles C. Pinter\n",
      "Order: 6\n",
      "Identity: I\n",
      "Associative? Yes\n",
      "Commutative? No\n",
      "Elements:\n",
      "   Index   Name   Inverse  Order\n",
      "      0       I       I       1\n",
      "      1       A       A       2\n",
      "      2       B       D       3\n",
      "      3       C       C       2\n",
      "      4       D       B       3\n",
      "      5       K       K       2\n",
      "Cayley Table (showing names):\n",
      "[['I', 'A', 'B', 'C', 'D', 'K'],\n",
      " ['A', 'I', 'C', 'B', 'K', 'D'],\n",
      " ['B', 'K', 'D', 'A', 'I', 'C'],\n",
      " ['C', 'D', 'K', 'I', 'A', 'B'],\n",
      " ['D', 'C', 'I', 'K', 'B', 'A'],\n",
      " ['K', 'B', 'A', 'D', 'C', 'I']]\n"
     ]
    }
   ],
   "source": [
    ">>> grp = ex.get_example(3)\n",
    ">>> grp.about(use_table_names=True)"
   ]
  },
  {
   "cell_type": "markdown",
   "id": "4460afb6",
   "metadata": {},
   "source": [
    "## Resources"
   ]
  },
  {
   "cell_type": "markdown",
   "id": "44ea59a7",
   "metadata": {},
   "source": [
    "* <b>Book</b>: [\"Visual Group Theory\" by Nathan Carter](https://bookstore.ams.org/clrm-32)\n",
    "* [Group Explorer](https://nathancarter.github.io/group-explorer/index.html) -- Visualization software for the abstract algebra classroom\n",
    "* [Groupprops, The Group Properties Wiki (beta)](https://groupprops.subwiki.org/wiki/Main_Page)\n",
    "* [GroupNames](https://people.maths.bris.ac.uk/~matyd/GroupNames/index.html) -- \"A database, under construction, of names, extensions, properties and character tables of finite groups of small order.\"\n",
    "* [GAP](https://www.gap-system.org/#:~:text=What%20is%20GAP%3F,data%20libraries%20of%20algebraic%20objects.) -- \"Groups, Algorithms, Programming - a System for Computational Discrete Algebra\"\n",
    "* [Groups of small order](http://www.math.ucsd.edu/~atparris/small_groups.html): Compiled by John Pedersen, Dept of Mathematics, University of South Florida\n",
    "* [List of small groups](https://en.wikipedia.org/wiki/List_of_small_groups): Finite groups of small order up to group isomorphism\n",
    "* [Classification of Groups of Order n ≤ 8 (PDF)](http://www2.lawrence.edu/fast/corrys/Math300/8Groups.pdf)\n",
    "* [Subgroups of Order 4 (PDF)](http://newton.uor.edu/facultyfolder/beery/abstract_algebra/08_SbgrpsOrder4.pdf)\n",
    "* Klein four-group, V4\n",
    "  * [Wikipedia](https://en.wikipedia.org/wiki/Klein_four-group)\n",
    "  * [Group Explorer](https://github.com/nathancarter/group-explorer/blob/master/groups/V_4.group)\n",
    "* Cyclic group\n",
    "  * [Wikipedia](https://en.wikipedia.org/wiki/Cyclic_group)\n",
    "  * [Z4, cyclic group of order 4](https://github.com/nathancarter/group-explorer/blob/master/groups/Z_4.group)\n",
    "* Symmetric group\n",
    "  * [Symmetric group on 3 letters](https://github.com/nathancarter/group-explorer/blob/master/groups/S_3.group). Another name for this group is <i>\"Dihedral group on 3 vertices\"</i>\n",
    "* [Groupoids and Smarandache Groupoids](https://arxiv.org/ftp/math/papers/0304/0304490.pdf) by W. B. Vasantha Kandasamy\n",
    "* [\"Rings and Fields\"](http://www-groups.mcs.st-andrews.ac.uk/~john/MT4517/index.html), John O'Connor & Edmund Robertson, School of Math. & Stat., Univ. of St Andrews, Scotland\n",
    "* [SACK](https://github.com/johnkerl/sack) A simple abstract-algebra calculator. Includes some elementary group routines."
   ]
  }
 ],
 "metadata": {
  "kernelspec": {
   "display_name": "Python 3",
   "language": "python",
   "name": "python3"
  },
  "language_info": {
   "codemirror_mode": {
    "name": "ipython",
    "version": 3
   },
   "file_extension": ".py",
   "mimetype": "text/x-python",
   "name": "python",
   "nbconvert_exporter": "python",
   "pygments_lexer": "ipython3",
   "version": "3.7.7"
  }
 },
 "nbformat": 4,
 "nbformat_minor": 5
}
