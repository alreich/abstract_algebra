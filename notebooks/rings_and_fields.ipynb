{
 "cells": [
  {
   "cell_type": "markdown",
   "id": "b3f3ef4d",
   "metadata": {},
   "source": [
    "# Rings and Fields"
   ]
  },
  {
   "cell_type": "markdown",
   "id": "9ef498a9",
   "metadata": {},
   "source": [
    "In the following examples, the only algebra constructor used is ``make_finite_algebra``."
   ]
  },
  {
   "cell_type": "markdown",
   "id": "ff2d5eb7",
   "metadata": {},
   "source": [
    "## Ring"
   ]
  },
  {
   "cell_type": "markdown",
   "id": "a615ce98",
   "metadata": {},
   "source": [
    "**Ring** -- $\\langle S, +, \\times \\rangle$, where $\\langle S, + \\rangle$ is a commutative Group, $\\langle S, \\times \\rangle$ is a Semigroup, and $\\times$ distributes over $+$"
   ]
  },
  {
   "cell_type": "markdown",
   "id": "2775222a",
   "metadata": {},
   "source": [
    "### Ring Based on Powerset of a Set"
   ]
  },
  {
   "cell_type": "markdown",
   "id": "ea32321d",
   "metadata": {},
   "source": [
    "In this ring, *\"addition\"* is symmetric difference, $\\bigtriangleup$, and *\"multiplication\"* is intersection, $\\cap$."
   ]
  },
  {
   "cell_type": "code",
   "execution_count": 1,
   "id": "a8e637f1",
   "metadata": {},
   "outputs": [
    {
     "data": {
      "text/plain": [
       "Ring(\n",
       "'Powerset Ring 2',\n",
       "'Ring on powerset of {0, 1}',\n",
       "['{}', '{0}', '{1}', '{0, 1}'],\n",
       "[[0, 1, 2, 3], [1, 0, 3, 2], [2, 3, 0, 1], [3, 2, 1, 0]],\n",
       "[[0, 0, 0, 0], [0, 1, 0, 1], [0, 0, 2, 2], [0, 1, 2, 3]]\n",
       ")"
      ]
     },
     "execution_count": 1,
     "metadata": {},
     "output_type": "execute_result"
    }
   ],
   "source": [
    ">>> from finite_algebras import make_finite_algebra\n",
    "\n",
    ">>> rng = make_finite_algebra('Powerset Ring 2',\n",
    "                              'Ring on powerset of {0, 1}',\n",
    "                              ['{}', '{0}', '{1}', '{0, 1}'],\n",
    "                              [[0, 1, 2, 3],\n",
    "                               [1, 0, 3, 2],\n",
    "                               [2, 3, 0, 1],\n",
    "                               [3, 2, 1, 0]],\n",
    "                              [[0, 0, 0, 0],\n",
    "                               [0, 1, 0, 1],\n",
    "                               [0, 0, 2, 2],\n",
    "                               [0, 1, 2, 3]]\n",
    "                             )\n",
    ">>> rng"
   ]
  },
  {
   "cell_type": "code",
   "execution_count": 2,
   "id": "c4fde278",
   "metadata": {},
   "outputs": [
    {
     "name": "stdout",
     "output_type": "stream",
     "text": [
      "\n",
      "Ring: Powerset Ring 2\n",
      "Instance ID: 140675753460240\n",
      "Description: Ring on powerset of {0, 1}\n",
      "Order: 4\n",
      "Identity: {}\n",
      "Associative? Yes\n",
      "Commutative? Yes\n",
      "Elements:\n",
      "   Index   Name   Inverse  Order\n",
      "      0      {}      {}       1\n",
      "      1     {0}     {0}       2\n",
      "      2     {1}     {1}       2\n",
      "      3  {0, 1}  {0, 1}       2\n",
      "Cayley Table (showing names):\n",
      "[['{}', '{0}', '{1}', '{0, 1}'],\n",
      " ['{0}', '{}', '{0, 1}', '{1}'],\n",
      " ['{1}', '{0, 1}', '{}', '{0}'],\n",
      " ['{0, 1}', '{1}', '{0}', '{}']]\n",
      "Mult. Identity: {0, 1}\n",
      "Mult. Commutative? Yes\n",
      "Multiplicative Cayley Table (showing names):\n",
      "[['{}', '{}', '{}', '{}'],\n",
      " ['{}', '{0}', '{}', '{0}'],\n",
      " ['{}', '{}', '{1}', '{1}'],\n",
      " ['{}', '{0}', '{1}', '{0, 1}']]\n"
     ]
    }
   ],
   "source": [
    ">>> rng.about(use_table_names=True)"
   ]
  },
  {
   "cell_type": "markdown",
   "id": "baee3cbe",
   "metadata": {},
   "source": [
    "### Ring Addition and Multiplication"
   ]
  },
  {
   "cell_type": "markdown",
   "id": "7735e250",
   "metadata": {},
   "source": [
    "Ring addition, ``add``, is the same as the operation, ``op``, inherited from its superclass, Group."
   ]
  },
  {
   "cell_type": "markdown",
   "id": "4368a2a4",
   "metadata": {},
   "source": [
    "$\\{1\\} \\bigtriangleup \\{0,1\\} = \\{0\\}$"
   ]
  },
  {
   "cell_type": "code",
   "execution_count": 3,
   "id": "9f30ca59",
   "metadata": {},
   "outputs": [
    {
     "data": {
      "text/plain": [
       "'{0}'"
      ]
     },
     "execution_count": 3,
     "metadata": {},
     "output_type": "execute_result"
    }
   ],
   "source": [
    ">>> rng.add(\"{1}\", \"{0, 1}\")"
   ]
  },
  {
   "cell_type": "markdown",
   "id": "36eff3cf",
   "metadata": {},
   "source": [
    "$\\{1\\} \\cap \\{0,1\\} = \\{0\\}$"
   ]
  },
  {
   "cell_type": "code",
   "execution_count": 4,
   "id": "0d57604b",
   "metadata": {},
   "outputs": [
    {
     "data": {
      "text/plain": [
       "'{1}'"
      ]
     },
     "execution_count": 4,
     "metadata": {},
     "output_type": "execute_result"
    }
   ],
   "source": [
    ">>> rng.mult(\"{1}\", \"{0, 1}\")"
   ]
  },
  {
   "cell_type": "markdown",
   "id": "2ef586fd",
   "metadata": {},
   "source": [
    "### Zero Divisors of a Ring"
   ]
  },
  {
   "cell_type": "markdown",
   "id": "a0e3be9a",
   "metadata": {},
   "source": [
    "Suppose $\\alpha \\ne 0$ is an element of the Ring, $\\langle S, +, \\times \\rangle$.\n",
    "\n",
    "Then, $\\alpha$ is a **left zero divisor**, if $\\exists \\beta \\in S, \\beta \\ne 0$ such that $\\alpha \\times \\beta = 0$.\n",
    "\n",
    "Similarly, $\\alpha$ is a **right zero divisor**, if $\\exists \\gamma \\in S, \\gamma \\ne 0$ such that $\\gamma \\times \\alpha = 0$."
   ]
  },
  {
   "cell_type": "markdown",
   "id": "e3c3a242",
   "metadata": {},
   "source": [
    "The Ring just created has two zero divisors:"
   ]
  },
  {
   "cell_type": "code",
   "execution_count": 5,
   "id": "a39b3d92",
   "metadata": {},
   "outputs": [
    {
     "data": {
      "text/plain": [
       "['{0}', '{1}']"
      ]
     },
     "execution_count": 5,
     "metadata": {},
     "output_type": "execute_result"
    }
   ],
   "source": [
    ">>> rng.zero_divisors()"
   ]
  },
  {
   "cell_type": "markdown",
   "id": "ceeb74eb",
   "metadata": {},
   "source": [
    "To check this, recall, what the addititve identity is:"
   ]
  },
  {
   "cell_type": "code",
   "execution_count": 6,
   "id": "fc303000",
   "metadata": {},
   "outputs": [
    {
     "data": {
      "text/plain": [
       "'{}'"
      ]
     },
     "execution_count": 6,
     "metadata": {},
     "output_type": "execute_result"
    }
   ],
   "source": [
    ">>> zero = rng.add_identity\n",
    ">>> zero"
   ]
  },
  {
   "cell_type": "markdown",
   "id": "a0f6382c",
   "metadata": {},
   "source": [
    "Multiplying an element by \"zero\" produces \"zero\":"
   ]
  },
  {
   "cell_type": "code",
   "execution_count": 7,
   "id": "011b821b",
   "metadata": {},
   "outputs": [
    {
     "data": {
      "text/plain": [
       "['{}', '{}', '{}', '{}']"
      ]
     },
     "execution_count": 7,
     "metadata": {},
     "output_type": "execute_result"
    }
   ],
   "source": [
    ">>> [rng.mult(x, zero) for x in rng.elements]"
   ]
  },
  {
   "cell_type": "code",
   "execution_count": 8,
   "id": "9eeace8e",
   "metadata": {},
   "outputs": [
    {
     "data": {
      "text/plain": [
       "['{}', '{0}', '{}', '{0}']"
      ]
     },
     "execution_count": 8,
     "metadata": {},
     "output_type": "execute_result"
    }
   ],
   "source": [
    ">>> [rng.mult(x, '{0}') for x in rng.elements]"
   ]
  },
  {
   "cell_type": "code",
   "execution_count": 9,
   "id": "921e5765",
   "metadata": {},
   "outputs": [
    {
     "data": {
      "text/plain": [
       "'{}'"
      ]
     },
     "execution_count": 9,
     "metadata": {},
     "output_type": "execute_result"
    }
   ],
   "source": [
    ">>> rng.mult('{0}', '{1}')"
   ]
  },
  {
   "cell_type": "markdown",
   "id": "9900c5a1",
   "metadata": {},
   "source": [
    "### Autogeneration of a Powerset Ring"
   ]
  },
  {
   "cell_type": "code",
   "execution_count": 10,
   "id": "0beff01b",
   "metadata": {},
   "outputs": [
    {
     "data": {
      "text/plain": [
       "Ring(\n",
       "'PSRing3',\n",
       "'Autogenerated Ring on powerset of {0, 1, 2} w/ symm. diff. (add) & intersection (mult)',\n",
       "['{}', '{0}', '{1}', '{2}', '{0, 1}', '{0, 2}', '{1, 2}', '{0, 1, 2}'],\n",
       "[[0, 1, 2, 3, 4, 5, 6, 7], [1, 0, 4, 5, 2, 3, 7, 6], [2, 4, 0, 6, 1, 7, 3, 5], [3, 5, 6, 0, 7, 1, 2, 4], [4, 2, 1, 7, 0, 6, 5, 3], [5, 3, 7, 1, 6, 0, 4, 2], [6, 7, 3, 2, 5, 4, 0, 1], [7, 6, 5, 4, 3, 2, 1, 0]],\n",
       "[[0, 0, 0, 0, 0, 0, 0, 0], [0, 1, 0, 0, 1, 1, 0, 1], [0, 0, 2, 0, 2, 0, 2, 2], [0, 0, 0, 3, 0, 3, 3, 3], [0, 1, 2, 0, 4, 1, 2, 4], [0, 1, 0, 3, 1, 5, 3, 5], [0, 0, 2, 3, 2, 3, 6, 6], [0, 1, 2, 3, 4, 5, 6, 7]]\n",
       ")"
      ]
     },
     "execution_count": 10,
     "metadata": {},
     "output_type": "execute_result"
    }
   ],
   "source": [
    ">>> from finite_algebras import generate_powerset_ring\n",
    "\n",
    ">>> psr3 = generate_powerset_ring(3)  # Ring order will be 3!\n",
    "\n",
    ">>> psr3"
   ]
  },
  {
   "cell_type": "code",
   "execution_count": 11,
   "id": "f76fbe30",
   "metadata": {
    "scrolled": true
   },
   "outputs": [
    {
     "name": "stdout",
     "output_type": "stream",
     "text": [
      "\n",
      "Ring: PSRing3\n",
      "Instance ID: 140675759427984\n",
      "Description: Autogenerated Ring on powerset of {0, 1, 2} w/ symm. diff. (add) & intersection (mult)\n",
      "Order: 8\n",
      "Identity: {}\n",
      "Associative? Yes\n",
      "Commutative? Yes\n",
      "Elements:\n",
      "   Index   Name   Inverse  Order\n",
      "      0      {}      {}       1\n",
      "      1     {0}     {0}       2\n",
      "      2     {1}     {1}       2\n",
      "      3     {2}     {2}       2\n",
      "      4  {0, 1}  {0, 1}       2\n",
      "      5  {0, 2}  {0, 2}       2\n",
      "      6  {1, 2}  {1, 2}       2\n",
      "      7 {0, 1, 2} {0, 1, 2}       2\n",
      "Cayley Table (showing names):\n",
      "[['{}', '{0}', '{1}', '{2}', '{0, 1}', '{0, 2}', '{1, 2}', '{0, 1, 2}'],\n",
      " ['{0}', '{}', '{0, 1}', '{0, 2}', '{1}', '{2}', '{0, 1, 2}', '{1, 2}'],\n",
      " ['{1}', '{0, 1}', '{}', '{1, 2}', '{0}', '{0, 1, 2}', '{2}', '{0, 2}'],\n",
      " ['{2}', '{0, 2}', '{1, 2}', '{}', '{0, 1, 2}', '{0}', '{1}', '{0, 1}'],\n",
      " ['{0, 1}', '{1}', '{0}', '{0, 1, 2}', '{}', '{1, 2}', '{0, 2}', '{2}'],\n",
      " ['{0, 2}', '{2}', '{0, 1, 2}', '{0}', '{1, 2}', '{}', '{0, 1}', '{1}'],\n",
      " ['{1, 2}', '{0, 1, 2}', '{2}', '{1}', '{0, 2}', '{0, 1}', '{}', '{0}'],\n",
      " ['{0, 1, 2}', '{1, 2}', '{0, 2}', '{0, 1}', '{2}', '{1}', '{0}', '{}']]\n",
      "Mult. Identity: {0, 1, 2}\n",
      "Mult. Commutative? Yes\n",
      "Multiplicative Cayley Table (showing names):\n",
      "[['{}', '{}', '{}', '{}', '{}', '{}', '{}', '{}'],\n",
      " ['{}', '{0}', '{}', '{}', '{0}', '{0}', '{}', '{0}'],\n",
      " ['{}', '{}', '{1}', '{}', '{1}', '{}', '{1}', '{1}'],\n",
      " ['{}', '{}', '{}', '{2}', '{}', '{2}', '{2}', '{2}'],\n",
      " ['{}', '{0}', '{1}', '{}', '{0, 1}', '{0}', '{1}', '{0, 1}'],\n",
      " ['{}', '{0}', '{}', '{2}', '{0}', '{0, 2}', '{2}', '{0, 2}'],\n",
      " ['{}', '{}', '{1}', '{2}', '{1}', '{2}', '{1, 2}', '{1, 2}'],\n",
      " ['{}', '{0}', '{1}', '{2}', '{0, 1}', '{0, 2}', '{1, 2}', '{0, 1, 2}']]\n"
     ]
    }
   ],
   "source": [
    ">>> psr3.about(use_table_names=True)"
   ]
  },
  {
   "cell_type": "markdown",
   "id": "752af2ae",
   "metadata": {},
   "source": [
    "### Ring Based on 2x2 Matrices"
   ]
  },
  {
   "cell_type": "markdown",
   "id": "6c8360e7",
   "metadata": {},
   "source": [
    "See Example 6 in this reference: http://www-groups.mcs.st-andrews.ac.uk/~john/MT4517/Lectures/L3.html"
   ]
  },
  {
   "cell_type": "markdown",
   "id": "c55d3c18",
   "metadata": {},
   "source": [
    "Example 6 is a Ring based on the following matrices, where arithmetic is done modulo 2:\n",
    "\n",
    "$0 = \\begin{bmatrix} 0 & 0 \\\\ 0 & 0 \\end{bmatrix}, a = \\begin{bmatrix} 0 & 1 \\\\ 0 & 0 \\end{bmatrix}, b = \\begin{bmatrix} 0 & 1 \\\\ 0 & 1 \\end{bmatrix}, c = \\begin{bmatrix} 0 & 0 \\\\ 0 & 1 \\end{bmatrix}$"
   ]
  },
  {
   "cell_type": "code",
   "execution_count": 12,
   "id": "38e1e30d",
   "metadata": {},
   "outputs": [
    {
     "data": {
      "text/plain": [
       "Ring(\n",
       "'Ex6',\n",
       "'Example 6: http://www-groups.mcs.st-andrews.ac.uk/~john/MT4517/Lectures/L3.html',\n",
       "['0', 'a', 'b', 'c'],\n",
       "[[0, 1, 2, 3], [1, 0, 3, 2], [2, 3, 0, 1], [3, 2, 1, 0]],\n",
       "[[0, 0, 0, 0], [0, 0, 1, 1], [0, 0, 2, 2], [0, 0, 3, 3]]\n",
       ")"
      ]
     },
     "execution_count": 12,
     "metadata": {},
     "output_type": "execute_result"
    }
   ],
   "source": [
    ">>> addtbl = [['0', 'a', 'b', 'c'],\n",
    "              ['a', '0', 'c', 'b'],\n",
    "              ['b', 'c', '0', 'a'],\n",
    "              ['c', 'b', 'a', '0']]\n",
    "\n",
    ">>> multbl = [['0', '0', '0', '0'],\n",
    "              ['0', '0', 'a', 'a'],\n",
    "              ['0', '0', 'b', 'b'],\n",
    "              ['0', '0', 'c', 'c']]\n",
    "\n",
    ">>> ex6 = make_finite_algebra(\n",
    "    'Ex6',\n",
    "    'Example 6: http://www-groups.mcs.st-andrews.ac.uk/~john/MT4517/Lectures/L3.html',\n",
    "    ['0', 'a', 'b', 'c'],\n",
    "    addtbl,\n",
    "    multbl)\n",
    "\n",
    ">>> ex6"
   ]
  },
  {
   "cell_type": "code",
   "execution_count": 13,
   "id": "74836c54",
   "metadata": {
    "scrolled": true
   },
   "outputs": [
    {
     "name": "stdout",
     "output_type": "stream",
     "text": [
      "\n",
      "Ring: Ex6\n",
      "Instance ID: 140675759273680\n",
      "Description: Example 6: http://www-groups.mcs.st-andrews.ac.uk/~john/MT4517/Lectures/L3.html\n",
      "Order: 4\n",
      "Identity: 0\n",
      "Associative? Yes\n",
      "Commutative? Yes\n",
      "Elements:\n",
      "   Index   Name   Inverse  Order\n",
      "      0       0       0       1\n",
      "      1       a       a       2\n",
      "      2       b       b       2\n",
      "      3       c       c       2\n",
      "Cayley Table (showing names):\n",
      "[['0', 'a', 'b', 'c'],\n",
      " ['a', '0', 'c', 'b'],\n",
      " ['b', 'c', '0', 'a'],\n",
      " ['c', 'b', 'a', '0']]\n",
      "Mult. Identity: None\n",
      "Mult. Commutative? No\n",
      "Multiplicative Cayley Table (showing names):\n",
      "[['0', '0', '0', '0'],\n",
      " ['0', '0', 'a', 'a'],\n",
      " ['0', '0', 'b', 'b'],\n",
      " ['0', '0', 'c', 'c']]\n"
     ]
    }
   ],
   "source": [
    ">>> ex6.about(use_table_names=True)"
   ]
  },
  {
   "cell_type": "markdown",
   "id": "b92292b1",
   "metadata": {},
   "source": [
    "### Extracting a Ring's Additive & Multiplicative \"Subalgebras\""
   ]
  },
  {
   "cell_type": "markdown",
   "id": "181fc5ca",
   "metadata": {},
   "source": [
    "At the beginning of this User Guide, in the *Algebra Definitions* section, a Ring is described as being a combination of a commutative Group, under addition, and a Semigroup, under multiplication (with distributivity of multiplication over addition). This section shows how those algebraic components of a Ring can be extracted.\n",
    "\n",
    "**NOTE**: The implementation of the two extraction methods, illustrated below, operates by calling ``make_finite_algebra`` using the relevant portions of the Ring.  That way, the appropriate algebras are returned: a commutative Group for the additive portion, and, at a minimum, a Semigroup for the multiplicative portion."
   ]
  },
  {
   "cell_type": "code",
   "execution_count": 14,
   "id": "3cb7d8cb",
   "metadata": {},
   "outputs": [
    {
     "data": {
      "text/plain": [
       "Ring(\n",
       "'Ex6',\n",
       "'Example 6: http://www-groups.mcs.st-andrews.ac.uk/~john/MT4517/Lectures/L3.html',\n",
       "['0', 'a', 'b', 'c'],\n",
       "[[0, 1, 2, 3], [1, 0, 3, 2], [2, 3, 0, 1], [3, 2, 1, 0]],\n",
       "[[0, 0, 0, 0], [0, 0, 1, 1], [0, 0, 2, 2], [0, 0, 3, 3]]\n",
       ")"
      ]
     },
     "execution_count": 14,
     "metadata": {},
     "output_type": "execute_result"
    }
   ],
   "source": [
    ">>> ex6"
   ]
  },
  {
   "cell_type": "markdown",
   "id": "b60ee272",
   "metadata": {},
   "source": [
    "The **additive portion** of this example ring is a commutative Group, as expected:"
   ]
  },
  {
   "cell_type": "code",
   "execution_count": 15,
   "id": "7c37578f",
   "metadata": {},
   "outputs": [
    {
     "name": "stdout",
     "output_type": "stream",
     "text": [
      "\n",
      "Group: Ex6.Add\n",
      "Instance ID: 140675759413136\n",
      "Description: Additive-only portion of Ex6\n",
      "Order: 4\n",
      "Identity: 0\n",
      "Associative? Yes\n",
      "Commutative? Yes\n",
      "Elements:\n",
      "   Index   Name   Inverse  Order\n",
      "      0       0       0       1\n",
      "      1       a       a       2\n",
      "      2       b       b       2\n",
      "      3       c       c       2\n",
      "Cayley Table (showing indices):\n",
      "[[0, 1, 2, 3], [1, 0, 3, 2], [2, 3, 0, 1], [3, 2, 1, 0]]\n"
     ]
    }
   ],
   "source": [
    ">>> ex6_add = ex6.extract_additive_algebra()\n",
    ">>> ex6_add.about()"
   ]
  },
  {
   "cell_type": "markdown",
   "id": "3c4a006c",
   "metadata": {},
   "source": [
    "And, the **multiplicative portion** is a Semigroup:"
   ]
  },
  {
   "cell_type": "code",
   "execution_count": 16,
   "id": "faf97588",
   "metadata": {},
   "outputs": [
    {
     "data": {
      "text/plain": [
       "Semigroup(\n",
       "'Ex6.Mult',\n",
       "'Multiplicative-only portion of Ex6',\n",
       "['0', 'a', 'b', 'c'],\n",
       "[[0, 0, 0, 0], [0, 0, 1, 1], [0, 0, 2, 2], [0, 0, 3, 3]]\n",
       ")"
      ]
     },
     "execution_count": 16,
     "metadata": {},
     "output_type": "execute_result"
    }
   ],
   "source": [
    ">>> ex6_mult = ex6.extract_multiplicative_algebra()\n",
    ">>> ex6_mult"
   ]
  },
  {
   "cell_type": "markdown",
   "id": "0ee8ee52",
   "metadata": {},
   "source": [
    "### Autogenerating a Commutative Ring"
   ]
  },
  {
   "cell_type": "markdown",
   "id": "d0621cf0",
   "metadata": {},
   "source": [
    "The function, ``generate_algebra_mod_n``, is based on [example 2 here](http://www-groups.mcs.st-andrews.ac.uk/~john/MT4517/Lectures/L3.html) and in [Wikipedia here](https://en.wikipedia.org/wiki/Finite_field#Field_with_four_elements).  The $+$ and $\\times$ operations are the usual integer addition and multiplication modulo the order (n), resp.\n",
    "\n",
    "As long as the order (n) is not prime the function ``generate_algebra_mod_n`` will produce a Ring, but for a prime order, it will produce a Field."
   ]
  },
  {
   "cell_type": "code",
   "execution_count": 17,
   "id": "551d70f8",
   "metadata": {},
   "outputs": [],
   "source": [
    ">>> from finite_algebras import generate_algebra_mod_n"
   ]
  },
  {
   "cell_type": "code",
   "execution_count": 18,
   "id": "b994320e",
   "metadata": {
    "scrolled": true
   },
   "outputs": [
    {
     "data": {
      "text/plain": [
       "Ring(\n",
       "'R6',\n",
       "'Autogenerated Ring of integers mod 6',\n",
       "['a0', 'a1', 'a2', 'a3', 'a4', 'a5'],\n",
       "[[0, 1, 2, 3, 4, 5], [1, 2, 3, 4, 5, 0], [2, 3, 4, 5, 0, 1], [3, 4, 5, 0, 1, 2], [4, 5, 0, 1, 2, 3], [5, 0, 1, 2, 3, 4]],\n",
       "[[0, 0, 0, 0, 0, 0], [0, 1, 2, 3, 4, 5], [0, 2, 4, 0, 2, 4], [0, 3, 0, 3, 0, 3], [0, 4, 2, 0, 4, 2], [0, 5, 4, 3, 2, 1]]\n",
       ")"
      ]
     },
     "execution_count": 18,
     "metadata": {},
     "output_type": "execute_result"
    }
   ],
   "source": [
    ">>> r6 = generate_algebra_mod_n(6)\n",
    ">>> r6"
   ]
  },
  {
   "cell_type": "code",
   "execution_count": 19,
   "id": "750b0c7e",
   "metadata": {},
   "outputs": [
    {
     "name": "stdout",
     "output_type": "stream",
     "text": [
      "\n",
      "Ring: R6\n",
      "Instance ID: 140676564230928\n",
      "Description: Autogenerated Ring of integers mod 6\n",
      "Order: 6\n",
      "Identity: a0\n",
      "Associative? Yes\n",
      "Commutative? Yes\n",
      "Elements:\n",
      "   Index   Name   Inverse  Order\n",
      "      0      a0      a0       1\n",
      "      1      a1      a5       6\n",
      "      2      a2      a4       3\n",
      "      3      a3      a3       2\n",
      "      4      a4      a2       3\n",
      "      5      a5      a1       6\n",
      "Cayley Table (showing names):\n",
      "[['a0', 'a1', 'a2', 'a3', 'a4', 'a5'],\n",
      " ['a1', 'a2', 'a3', 'a4', 'a5', 'a0'],\n",
      " ['a2', 'a3', 'a4', 'a5', 'a0', 'a1'],\n",
      " ['a3', 'a4', 'a5', 'a0', 'a1', 'a2'],\n",
      " ['a4', 'a5', 'a0', 'a1', 'a2', 'a3'],\n",
      " ['a5', 'a0', 'a1', 'a2', 'a3', 'a4']]\n",
      "Mult. Identity: a1\n",
      "Mult. Commutative? Yes\n",
      "Multiplicative Cayley Table (showing names):\n",
      "[['a0', 'a0', 'a0', 'a0', 'a0', 'a0'],\n",
      " ['a0', 'a1', 'a2', 'a3', 'a4', 'a5'],\n",
      " ['a0', 'a2', 'a4', 'a0', 'a2', 'a4'],\n",
      " ['a0', 'a3', 'a0', 'a3', 'a0', 'a3'],\n",
      " ['a0', 'a4', 'a2', 'a0', 'a4', 'a2'],\n",
      " ['a0', 'a5', 'a4', 'a3', 'a2', 'a1']]\n"
     ]
    }
   ],
   "source": [
    ">>> r6.about(use_table_names=True)"
   ]
  },
  {
   "cell_type": "markdown",
   "id": "d2eecec0",
   "metadata": {},
   "source": [
    "**Extracting it's component algebras**\n",
    "\n",
    "In the following, we extract the component algebras of this Ring as a commutative Group and a Monoid.\n",
    "\n",
    "The Monoid occurs since this Ring's multiplicative portion includes a multiplicative identity element ('a1'), but does not include inverses of all elements."
   ]
  },
  {
   "cell_type": "code",
   "execution_count": 20,
   "id": "b95df00d",
   "metadata": {},
   "outputs": [
    {
     "name": "stdout",
     "output_type": "stream",
     "text": [
      "\n",
      "Group: R6.Add\n",
      "Instance ID: 140676564249680\n",
      "Description: Additive-only portion of R6\n",
      "Order: 6\n",
      "Identity: a0\n",
      "Associative? Yes\n",
      "Commutative? Yes\n",
      "Elements:\n",
      "   Index   Name   Inverse  Order\n",
      "      0      a0      a0       1\n",
      "      1      a1      a5       6\n",
      "      2      a2      a4       3\n",
      "      3      a3      a3       2\n",
      "      4      a4      a2       3\n",
      "      5      a5      a1       6\n",
      "Cayley Table (showing indices):\n",
      "[[0, 1, 2, 3, 4, 5],\n",
      " [1, 2, 3, 4, 5, 0],\n",
      " [2, 3, 4, 5, 0, 1],\n",
      " [3, 4, 5, 0, 1, 2],\n",
      " [4, 5, 0, 1, 2, 3],\n",
      " [5, 0, 1, 2, 3, 4]]\n"
     ]
    }
   ],
   "source": [
    ">>> r6add = r6.extract_additive_algebra()\n",
    ">>> r6add.about()"
   ]
  },
  {
   "cell_type": "code",
   "execution_count": 21,
   "id": "9a3bf691",
   "metadata": {},
   "outputs": [
    {
     "name": "stdout",
     "output_type": "stream",
     "text": [
      "\n",
      "Monoid: R6.Mult\n",
      "Instance ID: 140676564247824\n",
      "Description: Multiplicative-only portion of R6\n",
      "Order: 6\n",
      "Elements: ['a0', 'a1', 'a2', 'a3', 'a4', 'a5']\n",
      "Identity: a1\n",
      "Associative? Yes\n",
      "Commutative? Yes\n",
      "Has Inverses? No\n",
      "Cayley Table (showing indices):\n",
      "[[0, 0, 0, 0, 0, 0],\n",
      " [0, 1, 2, 3, 4, 5],\n",
      " [0, 2, 4, 0, 2, 4],\n",
      " [0, 3, 0, 3, 0, 3],\n",
      " [0, 4, 2, 0, 4, 2],\n",
      " [0, 5, 4, 3, 2, 1]]\n"
     ]
    }
   ],
   "source": [
    ">>> r6mult = r6.extract_multiplicative_algebra()\n",
    ">>> r6mult.about()"
   ]
  },
  {
   "cell_type": "markdown",
   "id": "8f8f7ef2",
   "metadata": {},
   "source": [
    "## Field"
   ]
  },
  {
   "cell_type": "markdown",
   "id": "eba0d050",
   "metadata": {},
   "source": [
    "**Field** -- a Ring $\\langle S, +, \\times \\rangle$, where $\\langle S\\setminus{\\{0\\}}, \\times \\rangle$ is a commutative Group.\n",
    "\n",
    "$S\\setminus{\\{0\\}}$ is the set $S$ with the additive identity element removed."
   ]
  },
  {
   "cell_type": "markdown",
   "id": "9033d466",
   "metadata": {},
   "source": [
    "### Field with four elements"
   ]
  },
  {
   "cell_type": "markdown",
   "id": "2b716ae8",
   "metadata": {},
   "source": [
    "**Reference**: See Wikipedia: [\"Field with four elements\"](https://en.wikipedia.org/wiki/Finite_field#Field_with_four_elements)"
   ]
  },
  {
   "cell_type": "code",
   "execution_count": 22,
   "id": "c4116659",
   "metadata": {},
   "outputs": [
    {
     "name": "stdout",
     "output_type": "stream",
     "text": [
      "\n",
      "Field: F4\n",
      "Instance ID: 140675759414928\n",
      "Description: Field with 4 elements\n",
      "Order: 4\n",
      "Identity: 0\n",
      "Associative? Yes\n",
      "Commutative? Yes\n",
      "Elements:\n",
      "   Index   Name   Inverse  Order\n",
      "      0       0       0       1\n",
      "      1       1       1       2\n",
      "      2       a       a       2\n",
      "      3     1+a     1+a       2\n",
      "Cayley Table (showing indices):\n",
      "[[0, 1, 2, 3], [1, 0, 3, 2], [2, 3, 0, 1], [3, 2, 1, 0]]\n",
      "Mult. Identity: 1\n",
      "Mult. Commutative? Yes\n",
      "Multiplicative Cayley Table (showing indices):\n",
      "[[0, 0, 0, 0], [0, 1, 2, 3], [0, 2, 3, 1], [0, 3, 1, 2]]\n"
     ]
    }
   ],
   "source": [
    ">>> elems = ['0', '1', 'a', '1+a']\n",
    "\n",
    ">>> add_table = [[ '0' ,  '1' ,  'a' , '1+a'],\n",
    "                 [ '1' ,  '0' , '1+a',  'a' ],\n",
    "                 [ 'a' , '1+a',  '0' ,  '1' ],\n",
    "                 ['1+a',  'a' ,  '1' ,  '0' ]]\n",
    "\n",
    ">>> mult_table = [['0',  '0' ,  '0' ,  '0' ],\n",
    "                  ['0',  '1' ,  'a' , '1+a'],\n",
    "                  ['0',  'a' , '1+a',  '1' ],\n",
    "                  ['0', '1+a',  '1' ,  'a' ]]\n",
    "\n",
    ">>> f4 = make_finite_algebra('F4',\n",
    "                             'Field with 4 elements',\n",
    "                             elems,\n",
    "                             add_table,\n",
    "                             mult_table\n",
    "                            )\n",
    ">>> f4.about()"
   ]
  },
  {
   "cell_type": "markdown",
   "id": "81a9c979",
   "metadata": {},
   "source": [
    "### Addition & Multiplication in Fields"
   ]
  },
  {
   "cell_type": "markdown",
   "id": "120d1080",
   "metadata": {},
   "source": [
    "A Field's addition and multiplication operations are inherited from its superclass, Ring."
   ]
  },
  {
   "cell_type": "code",
   "execution_count": 23,
   "id": "acbfb378",
   "metadata": {},
   "outputs": [
    {
     "data": {
      "text/plain": [
       "'1+a'"
      ]
     },
     "execution_count": 23,
     "metadata": {},
     "output_type": "execute_result"
    }
   ],
   "source": [
    ">>> f4.add('a', '1')"
   ]
  },
  {
   "cell_type": "code",
   "execution_count": 24,
   "id": "aea573c9",
   "metadata": {},
   "outputs": [
    {
     "data": {
      "text/plain": [
       "'1+a'"
      ]
     },
     "execution_count": 24,
     "metadata": {},
     "output_type": "execute_result"
    }
   ],
   "source": [
    ">>> f4.mult('a', 'a')"
   ]
  },
  {
   "cell_type": "markdown",
   "id": "9b6f5dfa",
   "metadata": {},
   "source": [
    "### Division in Fields"
   ]
  },
  {
   "cell_type": "markdown",
   "id": "8c1d176c",
   "metadata": {},
   "source": [
    "The method, ``div``, is a convenience method in Fields for computing \"$\\alpha \\div \\beta, \\beta \\ne 0$\", that is, $\\alpha \\times \\beta^{-1}$ where $\\alpha, \\beta \\in \\langle F, +, \\times \\rangle$."
   ]
  },
  {
   "cell_type": "code",
   "execution_count": 25,
   "id": "2c372511",
   "metadata": {},
   "outputs": [
    {
     "name": "stdout",
     "output_type": "stream",
     "text": [
      "For example, \"a / 1+a\" = a * a = 1+a\n"
     ]
    }
   ],
   "source": [
    ">>> a = 'a'\n",
    ">>> b = '1+a'\n",
    ">>> print(f\"For example, \\\"{a} / {b}\\\" = {a} * {f4.mult_inv(b)} = {f4.mult(a, f4.mult_inv(b))}\")"
   ]
  },
  {
   "cell_type": "code",
   "execution_count": 26,
   "id": "b4a1b375",
   "metadata": {},
   "outputs": [
    {
     "data": {
      "text/plain": [
       "'1+a'"
      ]
     },
     "execution_count": 26,
     "metadata": {},
     "output_type": "execute_result"
    }
   ],
   "source": [
    ">>> f4.div(a, b)"
   ]
  },
  {
   "cell_type": "markdown",
   "id": "31f271bd",
   "metadata": {},
   "source": [
    "Recall the definition of a Field, given at the beginning of this User Guide:\n",
    "\n",
    "**Field** -- a Ring $\\langle S, +, \\times \\rangle$, where $\\langle S\\setminus{\\{0\\}}, \\times \\rangle$ is a commutative Group.\n",
    "\n",
    "During Field construction, the commutative Group, mentioned in the definition, is also constructed and stored inside the Field instance.  It is used to obtain multiplicative inverses and to define a *division* method, ``div``.\n",
    "\n",
    "The ``div`` method, for example, can be used to construct the \"Division\" table shown in the Wikipedia entry, [\"Field with four elements\"](https://en.wikipedia.org/wiki/Finite_field#Field_with_four_elements):"
   ]
  },
  {
   "cell_type": "code",
   "execution_count": 27,
   "id": "6aa751cc",
   "metadata": {},
   "outputs": [
    {
     "data": {
      "text/plain": [
       "[[None, '0', '0', '0'],\n",
       " [None, '1', '1+a', 'a'],\n",
       " [None, 'a', '1', '1+a'],\n",
       " [None, '1+a', 'a', '1']]"
      ]
     },
     "execution_count": 27,
     "metadata": {},
     "output_type": "execute_result"
    }
   ],
   "source": [
    ">>> div_table = [[f4.div(x, y) for y in f4.elements] for x in f4.elements]\n",
    ">>> div_table"
   ]
  },
  {
   "cell_type": "markdown",
   "id": "1ffaafaa",
   "metadata": {},
   "source": [
    "### Autogenerated Prime Field"
   ]
  },
  {
   "cell_type": "markdown",
   "id": "6dc74fb6",
   "metadata": {},
   "source": [
    "The example here uses the function, ``generate_algebra_mod_n``, described above.  As noted above, if the order, n, is prime, then it will produce a Field."
   ]
  },
  {
   "cell_type": "code",
   "execution_count": 28,
   "id": "9333a282",
   "metadata": {},
   "outputs": [
    {
     "name": "stdout",
     "output_type": "stream",
     "text": [
      "\n",
      "Field: F7\n",
      "Instance ID: 140675759379152\n",
      "Description: Autogenerated Field of integers mod 7\n",
      "Order: 7\n",
      "Identity: a0\n",
      "Associative? Yes\n",
      "Commutative? Yes\n",
      "Elements:\n",
      "   Index   Name   Inverse  Order\n",
      "      0      a0      a0       1\n",
      "      1      a1      a6       7\n",
      "      2      a2      a5       7\n",
      "      3      a3      a4       7\n",
      "      4      a4      a3       7\n",
      "      5      a5      a2       7\n",
      "      6      a6      a1       7\n",
      "Cayley Table (showing indices):\n",
      "[[0, 1, 2, 3, 4, 5, 6],\n",
      " [1, 2, 3, 4, 5, 6, 0],\n",
      " [2, 3, 4, 5, 6, 0, 1],\n",
      " [3, 4, 5, 6, 0, 1, 2],\n",
      " [4, 5, 6, 0, 1, 2, 3],\n",
      " [5, 6, 0, 1, 2, 3, 4],\n",
      " [6, 0, 1, 2, 3, 4, 5]]\n",
      "Mult. Identity: a1\n",
      "Mult. Commutative? Yes\n",
      "Multiplicative Cayley Table (showing indices):\n",
      "[[0, 0, 0, 0, 0, 0, 0],\n",
      " [0, 1, 2, 3, 4, 5, 6],\n",
      " [0, 2, 4, 6, 1, 3, 5],\n",
      " [0, 3, 6, 2, 5, 1, 4],\n",
      " [0, 4, 1, 5, 2, 6, 3],\n",
      " [0, 5, 3, 1, 6, 4, 2],\n",
      " [0, 6, 5, 4, 3, 2, 1]]\n"
     ]
    }
   ],
   "source": [
    ">>> from finite_algebras import generate_algebra_mod_n\n",
    "\n",
    ">>> f7 = generate_algebra_mod_n(7)\n",
    ">>> f7.about()"
   ]
  },
  {
   "cell_type": "markdown",
   "id": "3969faa4",
   "metadata": {},
   "source": [
    "## Serialization"
   ]
  },
  {
   "cell_type": "markdown",
   "id": "344c2f8a",
   "metadata": {},
   "source": [
    "Algebras can be converted to and from JSON strings/files and Python dictionaries."
   ]
  },
  {
   "cell_type": "markdown",
   "id": "3e3b9fba",
   "metadata": {},
   "source": [
    "### Instantiate Algebra from JSON File"
   ]
  },
  {
   "cell_type": "markdown",
   "id": "ad859950",
   "metadata": {},
   "source": [
    "First setup some path variables:\n",
    "\n",
    "* one that points to the abstract_algebra directory\n",
    "* and the other points to a subdirectory containing algebra definitions in JSON format\n",
    "\n",
    "Also, the code here assumes that there is an environment\n",
    "variable, ``PYPROJ``, that points to the parent directory of the abstract_algebra directory."
   ]
  },
  {
   "cell_type": "code",
   "execution_count": 29,
   "id": "722a9411",
   "metadata": {},
   "outputs": [],
   "source": [
    ">>> import os\n",
    ">>> aa_path = os.path.join(os.getenv(\"PYPROJ\"), \"abstract_algebra\")\n",
    ">>> alg_dir = os.path.join(aa_path, \"Algebras\")"
   ]
  },
  {
   "cell_type": "markdown",
   "id": "d7b46901",
   "metadata": {},
   "source": [
    "### Convert Algebra to Python Dictionary"
   ]
  },
  {
   "cell_type": "markdown",
   "id": "09e022ff",
   "metadata": {},
   "source": [
    "The example, below, shows a Field, being converted into dictionary."
   ]
  },
  {
   "cell_type": "code",
   "execution_count": 30,
   "id": "e3f9a8c3",
   "metadata": {},
   "outputs": [
    {
     "data": {
      "text/plain": [
       "{'name': 'F4',\n",
       " 'description': 'Field with 4 elements',\n",
       " 'elements': ['0', '1', 'a', '1+a'],\n",
       " 'table': [[0, 1, 2, 3], [1, 0, 3, 2], [2, 3, 0, 1], [3, 2, 1, 0]],\n",
       " 'table2': [[0, 0, 0, 0], [0, 1, 2, 3], [0, 2, 3, 1], [0, 3, 1, 2]]}"
      ]
     },
     "execution_count": 30,
     "metadata": {},
     "output_type": "execute_result"
    }
   ],
   "source": [
    ">>> f4_dict = f4.to_dict()\n",
    "\n",
    ">>> f4_dict"
   ]
  },
  {
   "cell_type": "markdown",
   "id": "fa21788a",
   "metadata": {},
   "source": [
    "### Instantiate Algebra from Python Dictionary"
   ]
  },
  {
   "cell_type": "code",
   "execution_count": 31,
   "id": "af64795c",
   "metadata": {},
   "outputs": [
    {
     "data": {
      "text/plain": [
       "Field(\n",
       "'F4',\n",
       "'Field with 4 elements',\n",
       "['0', '1', 'a', '1+a'],\n",
       "[[0, 1, 2, 3], [1, 0, 3, 2], [2, 3, 0, 1], [3, 2, 1, 0]],\n",
       "[[0, 0, 0, 0], [0, 1, 2, 3], [0, 2, 3, 1], [0, 3, 1, 2]]\n",
       ")"
      ]
     },
     "execution_count": 31,
     "metadata": {},
     "output_type": "execute_result"
    }
   ],
   "source": [
    ">>> f4_from_dict = make_finite_algebra(f4_dict)\n",
    "\n",
    ">>> f4_from_dict"
   ]
  },
  {
   "cell_type": "markdown",
   "id": "1c1d34de",
   "metadata": {},
   "source": [
    "### Convert Algebra to JSON String"
   ]
  },
  {
   "cell_type": "code",
   "execution_count": 32,
   "id": "583d3993",
   "metadata": {},
   "outputs": [
    {
     "data": {
      "text/plain": [
       "'{\"name\": \"F4\", \"description\": \"Field with 4 elements\", \"elements\": [\"0\", \"1\", \"a\", \"1+a\"], \"table\": [[0, 1, 2, 3], [1, 0, 3, 2], [2, 3, 0, 1], [3, 2, 1, 0]], \"table2\": [[0, 0, 0, 0], [0, 1, 2, 3], [0, 2, 3, 1], [0, 3, 1, 2]]}'"
      ]
     },
     "execution_count": 32,
     "metadata": {},
     "output_type": "execute_result"
    }
   ],
   "source": [
    ">>> f4_json_string = f4.dumps()\n",
    "\n",
    ">>> f4_json_string"
   ]
  },
  {
   "cell_type": "markdown",
   "id": "34f94033",
   "metadata": {},
   "source": [
    "**WARNING**: Although an algebra can be constructed by loading its definition from a JSON file, it cannot be constructed directly from a JSON string, because ``make_finite_algebra`` interprets a single string input as a JSON file name.  To load an algebra from a JSON string, first convert the string to a Python dictionary, then input that to ``make_finite_algebra``, as shown below:"
   ]
  },
  {
   "cell_type": "code",
   "execution_count": 33,
   "id": "42a7d5c8",
   "metadata": {},
   "outputs": [
    {
     "data": {
      "text/plain": [
       "Field(\n",
       "'F4',\n",
       "'Field with 4 elements',\n",
       "['0', '1', 'a', '1+a'],\n",
       "[[0, 1, 2, 3], [1, 0, 3, 2], [2, 3, 0, 1], [3, 2, 1, 0]],\n",
       "[[0, 0, 0, 0], [0, 1, 2, 3], [0, 2, 3, 1], [0, 3, 1, 2]]\n",
       ")"
      ]
     },
     "execution_count": 33,
     "metadata": {},
     "output_type": "execute_result"
    }
   ],
   "source": [
    ">>> import json\n",
    "\n",
    ">>> make_finite_algebra(json.loads(f4_json_string))"
   ]
  },
  {
   "cell_type": "markdown",
   "id": "73751cb3",
   "metadata": {},
   "source": [
    "## Autogeneration of Rings & Fields\n",
    "\n",
    "There are several functions for autogenerating finite Rings and Fields of specified size:\n",
    "\n",
    "* ``generate_powerset_ring``: $A+B \\equiv A \\bigtriangleup B$ and $A \\times B \\equiv A \\cap B$, where $A,B \\in P(\\{0, 1, ..., n-1\\})$\n",
    "* ``generate_algebra_mod_n``: Combination of <i>generate_cyclic_group</i> ($+$) and <i>generate_commutative_monoid</i> ($\\times$)\n",
    "  * If n is prime, then this will be a Field, otherwise it will be a Ring"
   ]
  },
  {
   "cell_type": "markdown",
   "id": "ff312a0e",
   "metadata": {},
   "source": [
    "## Direct Products"
   ]
  },
  {
   "cell_type": "markdown",
   "id": "8545a4f1",
   "metadata": {},
   "source": [
    "The **direct product** of two or more algebras can be generated using Python's multiplication operator, ``*``:"
   ]
  },
  {
   "cell_type": "markdown",
   "id": "39c0a634",
   "metadata": {},
   "source": [
    "### Direct Product of Multiple Fields"
   ]
  },
  {
   "cell_type": "markdown",
   "id": "c57198de",
   "metadata": {},
   "source": [
    "The direct product of a finite Field with itself will produce a finite abelian Group."
   ]
  },
  {
   "cell_type": "code",
   "execution_count": 34,
   "id": "937c20fe",
   "metadata": {},
   "outputs": [
    {
     "name": "stdout",
     "output_type": "stream",
     "text": [
      "\n",
      "Group: F4_x_F4\n",
      "Instance ID: 140676564317200\n",
      "Description: Direct product of F4 & F4\n",
      "Order: 16\n",
      "Identity: 0:0\n",
      "Associative? Yes\n",
      "Commutative? Yes\n",
      "Elements:\n",
      "   Index   Name   Inverse  Order\n",
      "      0     0:0     0:0       1\n",
      "      1     0:1     0:1       2\n",
      "      2     0:a     0:a       2\n",
      "      3   0:1+a   0:1+a       2\n",
      "      4     1:0     1:0       2\n",
      "      5     1:1     1:1       2\n",
      "      6     1:a     1:a       2\n",
      "      7   1:1+a   1:1+a       2\n",
      "      8     a:0     a:0       2\n",
      "      9     a:1     a:1       2\n",
      "     10     a:a     a:a       2\n",
      "     11   a:1+a   a:1+a       2\n",
      "     12   1+a:0   1+a:0       2\n",
      "     13   1+a:1   1+a:1       2\n",
      "     14   1+a:a   1+a:a       2\n",
      "     15 1+a:1+a 1+a:1+a       2\n",
      "Cayley Table (showing indices):\n",
      "[[0, 1, 2, 3, 4, 5, 6, 7, 8, 9, 10, 11, 12, 13, 14, 15],\n",
      " [1, 0, 3, 2, 5, 4, 7, 6, 9, 8, 11, 10, 13, 12, 15, 14],\n",
      " [2, 3, 0, 1, 6, 7, 4, 5, 10, 11, 8, 9, 14, 15, 12, 13],\n",
      " [3, 2, 1, 0, 7, 6, 5, 4, 11, 10, 9, 8, 15, 14, 13, 12],\n",
      " [4, 5, 6, 7, 0, 1, 2, 3, 12, 13, 14, 15, 8, 9, 10, 11],\n",
      " [5, 4, 7, 6, 1, 0, 3, 2, 13, 12, 15, 14, 9, 8, 11, 10],\n",
      " [6, 7, 4, 5, 2, 3, 0, 1, 14, 15, 12, 13, 10, 11, 8, 9],\n",
      " [7, 6, 5, 4, 3, 2, 1, 0, 15, 14, 13, 12, 11, 10, 9, 8],\n",
      " [8, 9, 10, 11, 12, 13, 14, 15, 0, 1, 2, 3, 4, 5, 6, 7],\n",
      " [9, 8, 11, 10, 13, 12, 15, 14, 1, 0, 3, 2, 5, 4, 7, 6],\n",
      " [10, 11, 8, 9, 14, 15, 12, 13, 2, 3, 0, 1, 6, 7, 4, 5],\n",
      " [11, 10, 9, 8, 15, 14, 13, 12, 3, 2, 1, 0, 7, 6, 5, 4],\n",
      " [12, 13, 14, 15, 8, 9, 10, 11, 4, 5, 6, 7, 0, 1, 2, 3],\n",
      " [13, 12, 15, 14, 9, 8, 11, 10, 5, 4, 7, 6, 1, 0, 3, 2],\n",
      " [14, 15, 12, 13, 10, 11, 8, 9, 6, 7, 4, 5, 2, 3, 0, 1],\n",
      " [15, 14, 13, 12, 11, 10, 9, 8, 7, 6, 5, 4, 3, 2, 1, 0]]\n"
     ]
    }
   ],
   "source": [
    ">>> f4_sqr = f4 * f4\n",
    "\n",
    ">>> f4_sqr.about(max_size=16)"
   ]
  },
  {
   "cell_type": "markdown",
   "id": "48fbfecd",
   "metadata": {},
   "source": [
    "## Cayley Tables"
   ]
  },
  {
   "cell_type": "markdown",
   "id": "544c4ba1",
   "metadata": {},
   "source": [
    "Under normal usage, there should be no need to directly create Cayley Tables. This section, however, provides a brief glimse at the ``CayleyTable`` class.\n",
    "\n",
    "All of the properties of a finite algebra can be determined from its Cayley Table, or in the case of this Python module, its ``CayleyTable``.  That functionality is passed through to the appropriate methods of the various algebras.  Below, is a demonstration of how **distributivity** between two binary operations can be determined using their Cayley Tables."
   ]
  },
  {
   "cell_type": "markdown",
   "id": "3f669ccc",
   "metadata": {},
   "source": [
    "The two tables, below, were generated from the powerset of a 3 element set, where \"addition\" is **symmetric difference** and \"multiplication\" is **intersection**.  Recall, the order of the powerset is $2^n$, where $n$ is the size of the set."
   ]
  },
  {
   "cell_type": "markdown",
   "id": "82349080",
   "metadata": {},
   "source": [
    "The element names are simply the string representations of the sets in the powerset:\n",
    "\n",
    "['{}', '{0}', '{1}', '{2}', '{0, 1}', '{0, 2}', '{1, 2}', '{0, 1, 2}']\n",
    "\n",
    "And the tables, below, contain the positions (indices) of the 8 elements in the powerset:"
   ]
  },
  {
   "cell_type": "code",
   "execution_count": 35,
   "id": "30718c6b",
   "metadata": {},
   "outputs": [],
   "source": [
    ">>> addtbl = [[0, 1, 2, 3, 4, 5, 6, 7],\n",
    "              [1, 0, 4, 5, 2, 3, 7, 6],\n",
    "              [2, 4, 0, 6, 1, 7, 3, 5],\n",
    "              [3, 5, 6, 0, 7, 1, 2, 4],\n",
    "              [4, 2, 1, 7, 0, 6, 5, 3],\n",
    "              [5, 3, 7, 1, 6, 0, 4, 2],\n",
    "              [6, 7, 3, 2, 5, 4, 0, 1],\n",
    "              [7, 6, 5, 4, 3, 2, 1, 0]]"
   ]
  },
  {
   "cell_type": "code",
   "execution_count": 36,
   "id": "934e1ef5",
   "metadata": {},
   "outputs": [],
   "source": [
    ">>> multbl = [[0, 0, 0, 0, 0, 0, 0, 0],\n",
    "              [0, 1, 0, 0, 1, 1, 0, 1],\n",
    "              [0, 0, 2, 0, 2, 0, 2, 2],\n",
    "              [0, 0, 0, 3, 0, 3, 3, 3],\n",
    "              [0, 1, 2, 0, 4, 1, 2, 4],\n",
    "              [0, 1, 0, 3, 1, 5, 3, 5],\n",
    "              [0, 0, 2, 3, 2, 3, 6, 6],\n",
    "              [0, 1, 2, 3, 4, 5, 6, 7]]"
   ]
  },
  {
   "cell_type": "code",
   "execution_count": 37,
   "id": "f54ada88",
   "metadata": {},
   "outputs": [],
   "source": [
    ">>> from cayley_table import CayleyTable"
   ]
  },
  {
   "cell_type": "code",
   "execution_count": 38,
   "id": "63ae3167",
   "metadata": {},
   "outputs": [
    {
     "name": "stdout",
     "output_type": "stream",
     "text": [
      "  Order  Associative?  Commutative?  Left Id?  Right Id?  Identity?  Inverses?\n",
      "-------------------------------------------------------------------------------------\n",
      "     8        True         True            0         0          0       True\n"
     ]
    }
   ],
   "source": [
    ">>> addct = CayleyTable(addtbl)\n",
    ">>> addct.about(True)"
   ]
  },
  {
   "cell_type": "code",
   "execution_count": 39,
   "id": "0c2b1ff0",
   "metadata": {
    "scrolled": true
   },
   "outputs": [
    {
     "name": "stdout",
     "output_type": "stream",
     "text": [
      "  Order  Associative?  Commutative?  Left Id?  Right Id?  Identity?  Inverses?\n",
      "-------------------------------------------------------------------------------------\n",
      "     8        True         True            7         7          7      False\n"
     ]
    }
   ],
   "source": [
    ">>> mulct = CayleyTable(multbl)\n",
    ">>> mulct.about(True)"
   ]
  },
  {
   "cell_type": "markdown",
   "id": "4d068d7c",
   "metadata": {},
   "source": [
    "### Checking Tables for Distributivity"
   ]
  },
  {
   "cell_type": "markdown",
   "id": "d0dac99a",
   "metadata": {},
   "source": [
    "Multiplication distributes over addition."
   ]
  },
  {
   "cell_type": "code",
   "execution_count": 40,
   "id": "e8f884c4",
   "metadata": {},
   "outputs": [
    {
     "data": {
      "text/plain": [
       "True"
      ]
     },
     "execution_count": 40,
     "metadata": {},
     "output_type": "execute_result"
    }
   ],
   "source": [
    ">>> mulct.distributes_over(addct)"
   ]
  },
  {
   "cell_type": "markdown",
   "id": "14ea9bed",
   "metadata": {},
   "source": [
    "But, addition does not distribute over multiplication."
   ]
  },
  {
   "cell_type": "code",
   "execution_count": 41,
   "id": "905b09f0",
   "metadata": {},
   "outputs": [
    {
     "data": {
      "text/plain": [
       "False"
      ]
     },
     "execution_count": 41,
     "metadata": {},
     "output_type": "execute_result"
    }
   ],
   "source": [
    ">>> addct.distributes_over(mulct)"
   ]
  }
 ],
 "metadata": {
  "kernelspec": {
   "display_name": "Python 3",
   "language": "python",
   "name": "python3"
  },
  "language_info": {
   "codemirror_mode": {
    "name": "ipython",
    "version": 3
   },
   "file_extension": ".py",
   "mimetype": "text/x-python",
   "name": "python",
   "nbconvert_exporter": "python",
   "pygments_lexer": "ipython3",
   "version": "3.7.7"
  }
 },
 "nbformat": 4,
 "nbformat_minor": 5
}
