{
 "cells": [
  {
   "cell_type": "markdown",
   "id": "6ef26608",
   "metadata": {},
   "source": [
    "# Abstract Matrices"
   ]
  },
  {
   "cell_type": "code",
   "execution_count": 11,
   "id": "4d3ccce8",
   "metadata": {},
   "outputs": [
    {
     "name": "stdout",
     "output_type": "stream",
     "text": [
      "======================================================================\n",
      "                           Example Algebras\n",
      "----------------------------------------------------------------------\n",
      "  17 example algebras are available.\n",
      "  Use \"Examples[INDEX]\" to retrieve a specific example,\n",
      "  where INDEX is the first number on each line below:\n",
      "----------------------------------------------------------------------\n",
      "0: A4 -- Alternating group on 4 letters (AKA Tetrahedral group)\n",
      "1: D3 -- https://en.wikipedia.org/wiki/Dihedral_group_of_order_6\n",
      "2: D4 -- Dihedral group on four vertices\n",
      "3: Pinter29 -- Non-abelian group, p.29, 'A Book of Abstract Algebra' by Charles C. Pinter\n",
      "4: RPS -- Rock, Paper, Scissors Magma\n",
      "5: S3 -- Symmetric group on 3 letters\n",
      "6: S3X -- Another version of the symmetric group on 3 letters\n",
      "7: V4 -- Klein-4 group\n",
      "8: Z4 -- Cyclic group of order 4\n",
      "9: F4 -- Field with 4 elements (from Wikipedia)\n",
      "10: mag_id -- Magma with Identity\n",
      "11: Example 1.4.1 -- See: Groupoids and Smarandache Groupoids by W. B. Vasantha Kandasamy\n",
      "12: Ex6 -- Example 6: http://www-groups.mcs.st-andrews.ac.uk/~john/MT4517/Lectures/L3.html\n",
      "13: Q8 -- Quaternion Group\n",
      "14: SD16 -- Semidihedral group of order 16\n",
      "15: A5 -- Alternating group on 5 letters\n",
      "16: F2 -- Field with 2 elements from paper: 236w06fields.pdf\n",
      "======================================================================\n"
     ]
    }
   ],
   "source": [
    "import finite_algebras as alg\n",
    "import numpy as np\n",
    "from abstract_matrix import AbstractMatrix\n",
    "\n",
    "import itertools as it\n",
    "\n",
    "import os\n",
    "aa_path = os.path.join(os.getenv(\"PYPROJ\"), \"abstract_algebra\")\n",
    "alg_dir = os.path.join(aa_path, \"Algebras\")\n",
    "\n",
    "ex = alg.Examples(alg_dir)"
   ]
  },
  {
   "cell_type": "code",
   "execution_count": 12,
   "id": "f748b37d",
   "metadata": {},
   "outputs": [],
   "source": [
    "f2 = ex[16]  # No. 16 in the list above\n",
    "f4 = ex[9]  # No. 9 in the list above"
   ]
  },
  {
   "cell_type": "code",
   "execution_count": 13,
   "id": "7f1fc07f",
   "metadata": {},
   "outputs": [],
   "source": [
    "def random_matrix_test(shape, algebra, seed=None):\n",
    "    if seed:\n",
    "        np.random.seed(seed)\n",
    "    mat = AbstractMatrix.random(shape, algebra)\n",
    "    det, inv = print_matrix_info(mat)\n",
    "    #print(f\"\\nRandom Matrix over {algebra.name}:\\n{mat}\")\n",
    "    return mat, det, inv\n",
    "\n",
    "def print_matrix_info(mat):\n",
    "    print(\"=\"*20)\n",
    "    print(f\"Matrix over {mat.algebra.name}:\\n{mat}\")\n",
    "    det = mat.determinant()\n",
    "    print(f\"\\nDeterminant = {det}\")\n",
    "    print(f\"\\nCofactor Matrix:\\n{mat.cofactor_matrix()}\")\n",
    "    inv = mat.inverse()\n",
    "    print(f\"\\nInverse:\\n{inv}\")\n",
    "    print(f\"\\nMatrix * Inverse:\\n{mat * mat.inverse()}\")\n",
    "    print(f\"\\nInverse * Matrix:\\n{mat.inverse() * mat}\\n\")\n",
    "    print(\"-\"*5)\n",
    "    return det, inv"
   ]
  },
  {
   "cell_type": "code",
   "execution_count": 14,
   "id": "0abe297f-ecaa-4cf0-bbf3-9df9433aaf17",
   "metadata": {},
   "outputs": [
    {
     "name": "stdout",
     "output_type": "stream",
     "text": [
      "====================\n",
      "Matrix over F4:\n",
      "[['1' '1+a' '0']\n",
      " ['0' '1+a' '1']\n",
      " ['1+a' '1' '1+a']]\n",
      "\n",
      "Determinant = 1\n",
      "\n",
      "Cofactor Matrix:\n",
      "[['1+a' '1+a' 'a']\n",
      " ['a' '1+a' '1+a']\n",
      " ['1+a' '1' '1+a']]\n",
      "\n",
      "Inverse:\n",
      "[['1+a' 'a' '1+a']\n",
      " ['1+a' '1+a' '1']\n",
      " ['a' '1+a' '1+a']]\n",
      "\n",
      "Matrix * Inverse:\n",
      "[['1' '0' '0']\n",
      " ['0' '1' '0']\n",
      " ['0' '0' '1']]\n",
      "\n",
      "Inverse * Matrix:\n",
      "[['1' '0' '0']\n",
      " ['0' '1' '0']\n",
      " ['0' '0' '1']]\n",
      "\n",
      "-----\n"
     ]
    }
   ],
   "source": [
    "m1, d1, i1 = random_matrix_test((3, 3), f4, seed=1)"
   ]
  },
  {
   "cell_type": "markdown",
   "id": "5b78a9f2",
   "metadata": {},
   "source": [
    "## Invertible 2x2 Matrices over a Finite Field"
   ]
  },
  {
   "cell_type": "markdown",
   "id": "4e7e8aa2",
   "metadata": {},
   "source": [
    "### Generate all Possible NxN Matrices over an Algebra"
   ]
  },
  {
   "cell_type": "code",
   "execution_count": null,
   "id": "29f2a254",
   "metadata": {},
   "outputs": [],
   "source": [
    "def generate_all_NxN_matrices_over_algebra(algebra, N):\n",
    "    \"\"\"Generate list of all possible NxN matrices using elements from 'algebra'.\n",
    "    \"\"\"\n",
    "    Nsqr = N * N\n",
    "    combos = list(it.combinations_with_replacement(algebra.elements, Nsqr))\n",
    "    perms = [list(set(it.permutations(combo))) for combo in combos]\n",
    "    arrays = [AbstractMatrix(np.array((item)).reshape(N, N), algebra)\n",
    "              for p in perms for item in p]\n",
    "    return arrays"
   ]
  },
  {
   "cell_type": "code",
   "execution_count": 52,
   "id": "8edb836f",
   "metadata": {},
   "outputs": [
    {
     "name": "stdout",
     "output_type": "stream",
     "text": [
      "16\n"
     ]
    },
    {
     "data": {
      "text/plain": [
       "[[['0', '0'],\n",
       "  ['0', '0']],\n",
       " [['0', '0'],\n",
       "  ['1', '0']],\n",
       " [['0', '1'],\n",
       "  ['0', '0']],\n",
       " [['1', '0'],\n",
       "  ['0', '0']],\n",
       " [['0', '0'],\n",
       "  ['0', '1']],\n",
       " [['1', '0'],\n",
       "  ['1', '0']],\n",
       " [['1', '0'],\n",
       "  ['0', '1']],\n",
       " [['1', '1'],\n",
       "  ['0', '0']],\n",
       " [['0', '0'],\n",
       "  ['1', '1']],\n",
       " [['0', '1'],\n",
       "  ['1', '0']],\n",
       " [['0', '1'],\n",
       "  ['0', '1']],\n",
       " [['1', '0'],\n",
       "  ['1', '1']],\n",
       " [['1', '1'],\n",
       "  ['0', '1']],\n",
       " [['0', '1'],\n",
       "  ['1', '1']],\n",
       " [['1', '1'],\n",
       "  ['1', '0']],\n",
       " [['1', '1'],\n",
       "  ['1', '1']]]"
      ]
     },
     "execution_count": 52,
     "metadata": {},
     "output_type": "execute_result"
    }
   ],
   "source": [
    "all_2x2_f2 = generate_all_NxN_matrices_over_algebra(f2, 2)\n",
    "print(len(all_2x2_f2))\n",
    "all_2x2_f2"
   ]
  },
  {
   "cell_type": "code",
   "execution_count": 53,
   "id": "1f2756d0",
   "metadata": {},
   "outputs": [],
   "source": [
    "def swap_items(lst, index1, index2):\n",
    "    \"\"\"Swap two items in a list. This changes the input list.\n",
    "    \"\"\"\n",
    "    lst[index1], lst[index2] = lst[index2], lst[index1]\n",
    "    return lst"
   ]
  },
  {
   "cell_type": "code",
   "execution_count": 54,
   "id": "1798d389",
   "metadata": {},
   "outputs": [
    {
     "data": {
      "text/plain": [
       "6"
      ]
     },
     "execution_count": 54,
     "metadata": {},
     "output_type": "execute_result"
    }
   ],
   "source": [
    "id_2x2_f2 = AbstractMatrix.identity(2, f2)\n",
    "id_index = all_2x2_f2.index(id_2x2_f2)\n",
    "id_index"
   ]
  },
  {
   "cell_type": "code",
   "execution_count": 55,
   "id": "9d6dfe79",
   "metadata": {},
   "outputs": [
    {
     "data": {
      "text/plain": [
       "[['1', '0'],\n",
       " ['0', '1']]"
      ]
     },
     "execution_count": 55,
     "metadata": {},
     "output_type": "execute_result"
    }
   ],
   "source": [
    "all_2x2_f2[id_index]"
   ]
  },
  {
   "cell_type": "code",
   "execution_count": 56,
   "id": "ddaa62e6",
   "metadata": {},
   "outputs": [],
   "source": [
    "def move_identities_to_front(matrices):\n",
    "    \"\"\"Given a list of square matrices, all with the same shape, and over the same algebra,\n",
    "    move the additive and multiplicative identities, if they're present in the list,\n",
    "    to the 0 & 1 positions in the list, resp. If only one of the identities is present,\n",
    "    move it to the front of the list.\n",
    "    \"\"\"\n",
    "    \n",
    "    # All the matrices must have the same square shape & be over the same algebra:\n",
    "    mat0 = matrices[0]\n",
    "    A = mat0.algebra\n",
    "    N = mat0.shape[0]\n",
    "    \n",
    "    # The additive and multiplicative identities:\n",
    "    id_add = AbstractMatrix.zeros((N, N), A)\n",
    "    id_mul = AbstractMatrix.identity(N, A)\n",
    "    \n",
    "    # Booleans (True/False) as to whether the identities are present in the list\n",
    "    has_add_id = id_add in matrices\n",
    "    has_mul_id = id_mul in matrices\n",
    "\n",
    "    # If the list contains the zero matrix,...\n",
    "    if has_add_id:\n",
    "        id_add_pos = matrices.index(id_add)\n",
    "\n",
    "        # ...put it in the 0_th position, if it's not already there.\n",
    "        if id_add_pos != 0:\n",
    "            swap_items(matrices, 0, id_add_pos)\n",
    "\n",
    "    # If the list contains the identity matrix,...\n",
    "    if has_mul_id:\n",
    "        id_mul_pos = matrices.index(id_mul)\n",
    "        \n",
    "        # ...and it has the zero matrix...\n",
    "        if has_add_id:\n",
    "            \n",
    "            # ...put the identity matrix in position 1, if it's not already there,...\n",
    "            if id_mul_pos != 1:\n",
    "                swap_items(matrices, 1, id_mul_pos)\n",
    "                \n",
    "        # ...otherwise put the identiy in position 0, if it's not already there.\n",
    "        else:\n",
    "            if id_mul_pos != 0:\n",
    "                swap_items(matrices, 0, id_mul_pos)\n",
    "        \n",
    "    return matrices"
   ]
  },
  {
   "cell_type": "code",
   "execution_count": 58,
   "id": "be3acd0c",
   "metadata": {},
   "outputs": [
    {
     "data": {
      "text/plain": [
       "[[['0', '0'],\n",
       "  ['0', '0']],\n",
       " [['1', '0'],\n",
       "  ['0', '1']],\n",
       " [['0', '1'],\n",
       "  ['0', '0']],\n",
       " [['1', '0'],\n",
       "  ['0', '0']],\n",
       " [['0', '0'],\n",
       "  ['0', '1']],\n",
       " [['1', '0'],\n",
       "  ['1', '0']],\n",
       " [['0', '0'],\n",
       "  ['1', '0']],\n",
       " [['1', '1'],\n",
       "  ['0', '0']],\n",
       " [['0', '0'],\n",
       "  ['1', '1']],\n",
       " [['0', '1'],\n",
       "  ['1', '0']],\n",
       " [['0', '1'],\n",
       "  ['0', '1']],\n",
       " [['1', '0'],\n",
       "  ['1', '1']],\n",
       " [['1', '1'],\n",
       "  ['0', '1']],\n",
       " [['0', '1'],\n",
       "  ['1', '1']],\n",
       " [['1', '1'],\n",
       "  ['1', '0']],\n",
       " [['1', '1'],\n",
       "  ['1', '1']]]"
      ]
     },
     "execution_count": 58,
     "metadata": {},
     "output_type": "execute_result"
    }
   ],
   "source": [
    "_ = move_identities_to_front(all_2x2_f2)\n",
    "all_2x2_f2"
   ]
  },
  {
   "cell_type": "markdown",
   "id": "e301d526-6900-4b9f-9c44-f9c0427f5f74",
   "metadata": {},
   "source": [
    "## Find All Matrices with Determinant '1'"
   ]
  },
  {
   "cell_type": "code",
   "execution_count": 59,
   "id": "bf9ddc22",
   "metadata": {},
   "outputs": [
    {
     "name": "stdout",
     "output_type": "stream",
     "text": [
      "6\n"
     ]
    },
    {
     "data": {
      "text/plain": [
       "[[['1', '0'],\n",
       "  ['0', '1']],\n",
       " [['0', '1'],\n",
       "  ['1', '0']],\n",
       " [['1', '0'],\n",
       "  ['1', '1']],\n",
       " [['1', '1'],\n",
       "  ['0', '1']],\n",
       " [['0', '1'],\n",
       "  ['1', '1']],\n",
       " [['1', '1'],\n",
       "  ['1', '0']]]"
      ]
     },
     "execution_count": 59,
     "metadata": {},
     "output_type": "execute_result"
    }
   ],
   "source": [
    "all_2x2_f2_det1 = [m for m in allmats if m.determinant() == '1']\n",
    "print(len(all_2x2_f2_det1))\n",
    "all_2x2_f2_det1"
   ]
  },
  {
   "cell_type": "code",
   "execution_count": 60,
   "id": "7828159f-c596-43f7-af7e-b3bac8312901",
   "metadata": {},
   "outputs": [
    {
     "data": {
      "text/plain": [
       "[[['1', '0'],\n",
       "  ['0', '1']],\n",
       " [['0', '1'],\n",
       "  ['1', '0']],\n",
       " [['1', '0'],\n",
       "  ['1', '1']],\n",
       " [['1', '1'],\n",
       "  ['0', '1']],\n",
       " [['0', '1'],\n",
       "  ['1', '1']],\n",
       " [['1', '1'],\n",
       "  ['1', '0']]]"
      ]
     },
     "execution_count": 60,
     "metadata": {},
     "output_type": "execute_result"
    }
   ],
   "source": [
    "move_identities_to_front(all_2x2_f2_det1)"
   ]
  },
  {
   "cell_type": "markdown",
   "id": "ba7612b7",
   "metadata": {},
   "source": [
    "## Closure of Matrices"
   ]
  },
  {
   "cell_type": "code",
   "execution_count": 67,
   "id": "ee81a2c6",
   "metadata": {},
   "outputs": [],
   "source": [
    "def closure_of_matrices(matrices, operator):\n",
    "    \"\"\"Given a list of AbstractMatrix, return its closure, with respect to\n",
    "    a given binary operator.\n",
    "    \"\"\"\n",
    "    result = matrices\n",
    "\n",
    "    # For every pair of matrices, compute their product\n",
    "    # and, if new, add the product to the list\n",
    "    for pair in it.product(result, result):\n",
    "        # prod = pair[0] * pair[1]\n",
    "        prod = operator(pair[0], pair[1])\n",
    "        if prod not in result:\n",
    "            result.append(prod)\n",
    "\n",
    "    # If the operations above have enlarged the list,\n",
    "    # then recursively call the function with the new,\n",
    "    # expanded list.\n",
    "    if len(result) > len(matrices):\n",
    "        return closure_of_matrices(result)\n",
    "    else:\n",
    "        # Otherwise, if there's been no change to the\n",
    "        # list of matrices, then return it\n",
    "        return result"
   ]
  },
  {
   "cell_type": "markdown",
   "id": "aaaa8fa4",
   "metadata": {},
   "source": [
    "Matrices with determinant '1' are a closed subset of the 256 possible matrices."
   ]
  },
  {
   "cell_type": "code",
   "execution_count": 68,
   "id": "507e47ef-95e4-4f7e-9ce1-424e587220da",
   "metadata": {},
   "outputs": [
    {
     "name": "stdout",
     "output_type": "stream",
     "text": [
      "6\n"
     ]
    }
   ],
   "source": [
    "all_2x2_f2_det1_closed = closure_of_matrices(all_2x2_f2_det1, lambda x,y: x * y)\n",
    "print(len(all_2x2_f2_det1_closed))"
   ]
  },
  {
   "cell_type": "code",
   "execution_count": 69,
   "id": "745f95a8-f60d-47cc-a311-f2baef5c7a77",
   "metadata": {},
   "outputs": [
    {
     "data": {
      "text/plain": [
       "[[['1', '0'],\n",
       "  ['0', '1']],\n",
       " [['0', '1'],\n",
       "  ['1', '0']],\n",
       " [['1', '0'],\n",
       "  ['1', '1']],\n",
       " [['1', '1'],\n",
       "  ['0', '1']],\n",
       " [['0', '1'],\n",
       "  ['1', '1']],\n",
       " [['1', '1'],\n",
       "  ['1', '0']]]"
      ]
     },
     "execution_count": 69,
     "metadata": {},
     "output_type": "execute_result"
    }
   ],
   "source": [
    "all_2x2_f2_det1_closed"
   ]
  },
  {
   "cell_type": "code",
   "execution_count": 71,
   "id": "f4fa3d2f",
   "metadata": {},
   "outputs": [
    {
     "name": "stdout",
     "output_type": "stream",
     "text": [
      "16\n"
     ]
    },
    {
     "data": {
      "text/plain": [
       "[[['0', '0'],\n",
       "  ['0', '0']],\n",
       " [['1', '0'],\n",
       "  ['0', '1']],\n",
       " [['0', '1'],\n",
       "  ['0', '0']],\n",
       " [['1', '0'],\n",
       "  ['0', '0']],\n",
       " [['0', '0'],\n",
       "  ['0', '1']],\n",
       " [['1', '0'],\n",
       "  ['1', '0']],\n",
       " [['0', '0'],\n",
       "  ['1', '0']],\n",
       " [['1', '1'],\n",
       "  ['0', '0']],\n",
       " [['0', '0'],\n",
       "  ['1', '1']],\n",
       " [['0', '1'],\n",
       "  ['1', '0']],\n",
       " [['0', '1'],\n",
       "  ['0', '1']],\n",
       " [['1', '0'],\n",
       "  ['1', '1']],\n",
       " [['1', '1'],\n",
       "  ['0', '1']],\n",
       " [['0', '1'],\n",
       "  ['1', '1']],\n",
       " [['1', '1'],\n",
       "  ['1', '0']],\n",
       " [['1', '1'],\n",
       "  ['1', '1']]]"
      ]
     },
     "execution_count": 71,
     "metadata": {},
     "output_type": "execute_result"
    }
   ],
   "source": [
    "all_2x2_f2_closed = closure_of_matrices(all_2x2_f2, lambda x,y: x + y)\n",
    "print(len(all_2x2_f2_closed))\n",
    "all_2x2_f2_closed"
   ]
  },
  {
   "cell_type": "code",
   "execution_count": null,
   "id": "faf1d754",
   "metadata": {},
   "outputs": [],
   "source": []
  },
  {
   "cell_type": "code",
   "execution_count": null,
   "id": "2f6430ec",
   "metadata": {},
   "outputs": [],
   "source": []
  },
  {
   "cell_type": "markdown",
   "id": "c8d91d70",
   "metadata": {},
   "source": [
    "## Create Dict of Matrices"
   ]
  },
  {
   "cell_type": "code",
   "execution_count": 45,
   "id": "e6963e61",
   "metadata": {},
   "outputs": [],
   "source": [
    "def name_mapping(matrices, prefix = 'a', id_element = None, id_name = 'e'):\n",
    "    n = len(matrices)\n",
    "    nfill = len(str(n - 1))  # Number of zeros to left-fill integers in element names\n",
    "    names = [prefix + str(i).zfill(nfill) for i in range(n)]\n",
    "    if id_element:\n",
    "        names[matrices.index(id_element)] = id_name\n",
    "    return dict(zip(names, matrices))"
   ]
  },
  {
   "cell_type": "code",
   "execution_count": 14,
   "id": "7bcba689",
   "metadata": {},
   "outputs": [],
   "source": [
    "def derive_algebra_from_matrices(matrices, element_name_prefix='a', identity_name='e'):\n",
    "\n",
    "    m0 = matrices[0]\n",
    "    A = m0.algebra\n",
    "    n = m0.shape[0]\n",
    "    e = AbstractMatrix.identity(n, A)\n",
    "\n",
    "    mapping = name_mapping(matrices, element_name_prefix, e, identity_name)\n",
    "    \n",
    "    def get_matrix(name):\n",
    "        return mapping[name]\n",
    "    \n",
    "    def matrix_to_tuple(matrix):\n",
    "        return tuple(map(lambda x: tuple(x), matrix.array.tolist()))\n",
    "    \n",
    "    inv_mapping = {matrix_to_tuple(matrix): name for name, matrix in mapping.items()}\n",
    "    \n",
    "    def get_elem(matrix):\n",
    "        return inv_mapping[matrix_to_tuple(matrix)]\n",
    "    \n",
    "    elems = list(mapping.keys())\n",
    "    \n",
    "    table = [[get_elem(get_matrix(a) * get_matrix(b)) for b in elems] for a in elems]\n",
    "    \n",
    "    matrix_alg = alg.make_finite_algebra(f\"{A.name} Matrix Algebra\",\n",
    "                                         f\"Algebra derived from {n}x{n} matrices over {A.name}\",\n",
    "                                         elems,\n",
    "                                         table\n",
    "                                        )\n",
    "    \n",
    "    return matrix_alg, get_matrix, get_elem, mapping"
   ]
  },
  {
   "cell_type": "code",
   "execution_count": 15,
   "id": "1775354d",
   "metadata": {},
   "outputs": [
    {
     "data": {
      "text/plain": [
       "Group(\n",
       "'F2 Matrix Algebra',\n",
       "'Algebra derived from 2x2 matrices over F2',\n",
       "['e', 'a1', 'a2', 'a3', 'a4', 'a5'],\n",
       "[[0, 1, 2, 3, 4, 5], [1, 0, 3, 2, 5, 4], [2, 5, 0, 4, 3, 1], [3, 4, 1, 5, 2, 0], [4, 3, 5, 1, 0, 2], [5, 2, 4, 0, 1, 3]]\n",
       ")"
      ]
     },
     "execution_count": 15,
     "metadata": {},
     "output_type": "execute_result"
    }
   ],
   "source": [
    "foo, xmat, xelem, xmap = derive_algebra_from_matrices(det1s, 'a', 'e')\n",
    "foo"
   ]
  },
  {
   "cell_type": "code",
   "execution_count": 16,
   "id": "4edc670e",
   "metadata": {},
   "outputs": [
    {
     "data": {
      "text/plain": [
       "[['1' '1']\n",
       " ['0' '1']]"
      ]
     },
     "execution_count": 16,
     "metadata": {},
     "output_type": "execute_result"
    }
   ],
   "source": [
    "a2 = xmat('a2')\n",
    "a2"
   ]
  },
  {
   "cell_type": "code",
   "execution_count": 17,
   "id": "481967ee",
   "metadata": {},
   "outputs": [
    {
     "data": {
      "text/plain": [
       "'a2'"
      ]
     },
     "execution_count": 17,
     "metadata": {},
     "output_type": "execute_result"
    }
   ],
   "source": [
    "xelem(a2)"
   ]
  },
  {
   "cell_type": "code",
   "execution_count": 20,
   "id": "090df35f",
   "metadata": {},
   "outputs": [
    {
     "data": {
      "text/plain": [
       "{'e': [['1' '0']\n",
       "  ['0' '1']],\n",
       " 'a1': [['0' '1']\n",
       "  ['1' '0']],\n",
       " 'a2': [['1' '1']\n",
       "  ['0' '1']],\n",
       " 'a3': [['0' '1']\n",
       "  ['1' '1']],\n",
       " 'a4': [['1' '0']\n",
       "  ['1' '1']],\n",
       " 'a5': [['1' '1']\n",
       "  ['1' '0']]}"
      ]
     },
     "execution_count": 20,
     "metadata": {},
     "output_type": "execute_result"
    }
   ],
   "source": [
    "xmap"
   ]
  },
  {
   "cell_type": "code",
   "execution_count": 21,
   "id": "9ba77f8d",
   "metadata": {},
   "outputs": [],
   "source": [
    "bar, ymat, yelem, ymap = derive_algebra_from_matrices(allmats, 'b', 'e')"
   ]
  },
  {
   "cell_type": "code",
   "execution_count": 22,
   "id": "ed023329",
   "metadata": {},
   "outputs": [
    {
     "name": "stdout",
     "output_type": "stream",
     "text": [
      "\n",
      "** Monoid **\n",
      "Name: F2 Matrix Algebra\n",
      "Instance ID: 4578124176\n",
      "Description: Algebra derived from 2x2 matrices over F2\n",
      "Order: 16\n",
      "Identity: e\n",
      "Associative? Yes\n",
      "Commutative? No\n",
      "Cyclic?: No\n",
      "Elements: ['b00', 'b01', 'b02', 'b03', 'b04', 'e', 'b06', 'b07', 'b08', 'b09', 'b10', 'b11', 'b12', 'b13', 'b14', 'b15']\n",
      "Has Inverses? No\n",
      "Cayley Table (showing indices):\n",
      "[[0, 0, 0, 0, 0, 0, 0, 0, 0, 0, 0, 0, 0, 0, 0, 0],\n",
      " [0, 0, 1, 0, 3, 1, 7, 0, 3, 3, 1, 1, 7, 7, 3, 7],\n",
      " [0, 0, 2, 0, 4, 2, 6, 0, 4, 4, 2, 2, 6, 6, 4, 6],\n",
      " [0, 1, 0, 3, 0, 3, 0, 7, 1, 3, 1, 7, 1, 3, 7, 7],\n",
      " [0, 2, 0, 4, 0, 4, 0, 6, 2, 4, 2, 6, 2, 4, 6, 6],\n",
      " [0, 1, 2, 3, 4, 5, 6, 7, 8, 9, 10, 11, 12, 13, 14, 15],\n",
      " [0, 2, 2, 4, 4, 6, 6, 6, 6, 0, 0, 4, 4, 2, 2, 0],\n",
      " [0, 1, 1, 3, 3, 7, 7, 7, 7, 0, 0, 3, 3, 1, 1, 0],\n",
      " [0, 2, 1, 4, 3, 8, 7, 6, 5, 9, 10, 12, 11, 14, 13, 15],\n",
      " [0, 10, 0, 9, 0, 9, 0, 15, 10, 9, 10, 15, 10, 9, 15, 15],\n",
      " [0, 0, 10, 0, 9, 10, 15, 0, 9, 9, 10, 10, 15, 15, 9, 15],\n",
      " [0, 1, 10, 3, 9, 11, 15, 7, 14, 4, 2, 5, 13, 12, 8, 6],\n",
      " [0, 2, 10, 4, 9, 12, 15, 6, 13, 3, 1, 8, 14, 11, 5, 7],\n",
      " [0, 10, 2, 9, 4, 13, 6, 15, 12, 3, 1, 14, 8, 5, 11, 7],\n",
      " [0, 10, 1, 9, 3, 14, 7, 15, 11, 4, 2, 13, 5, 8, 12, 6],\n",
      " [0, 10, 10, 9, 9, 15, 15, 15, 15, 0, 0, 9, 9, 10, 10, 0]]\n"
     ]
    }
   ],
   "source": [
    "bar.about(max_size=16)"
   ]
  },
  {
   "cell_type": "code",
   "execution_count": 23,
   "id": "2f5c6613",
   "metadata": {},
   "outputs": [
    {
     "data": {
      "text/plain": [
       "[['1' '0']\n",
       " ['0' '1']]"
      ]
     },
     "execution_count": 23,
     "metadata": {},
     "output_type": "execute_result"
    }
   ],
   "source": [
    "ymat('e')"
   ]
  },
  {
   "cell_type": "code",
   "execution_count": 24,
   "id": "72065999",
   "metadata": {},
   "outputs": [],
   "source": [
    "bar_subs = bar.proper_subalgebras()"
   ]
  },
  {
   "cell_type": "code",
   "execution_count": 25,
   "id": "f43ef41b",
   "metadata": {},
   "outputs": [],
   "source": [
    "bar_subgrps = [bs for bs in bar_subs if isinstance(bs, alg.Group)]"
   ]
  },
  {
   "cell_type": "code",
   "execution_count": 26,
   "id": "8c0ee7b9",
   "metadata": {},
   "outputs": [
    {
     "name": "stdout",
     "output_type": "stream",
     "text": [
      "-------------------------------------\n",
      "\n",
      "** Group **\n",
      "Name: F2 Matrix Algebra_subalgebra_8\n",
      "Instance ID: 4578256464\n",
      "Description: Subalgebra of: Algebra derived from 2x2 matrices over F2\n",
      "Order: 2\n",
      "Identity: e\n",
      "Commutative? Yes\n",
      "Cyclic?: Yes\n",
      "  Generators: ['b13']\n",
      "Elements:\n",
      "   Index   Name   Inverse  Order\n",
      "      0       e       e       1\n",
      "      1     b13     b13       2\n",
      "Cayley Table (showing indices):\n",
      "[[0, 1], [1, 0]]\n",
      "-------------------------------------\n",
      "\n",
      "** Group **\n",
      "Name: F2 Matrix Algebra_subalgebra_53\n",
      "Instance ID: 4578203472\n",
      "Description: Subalgebra of: Algebra derived from 2x2 matrices over F2\n",
      "Order: 6\n",
      "Identity: e\n",
      "Commutative? No\n",
      "Cyclic?: No\n",
      "Elements:\n",
      "   Index   Name   Inverse  Order\n",
      "      0       e       e       1\n",
      "      1     b08     b08       2\n",
      "      2     b11     b11       2\n",
      "      3     b12     b14       3\n",
      "      4     b13     b13       2\n",
      "      5     b14     b12       3\n",
      "Cayley Table (showing indices):\n",
      "[[0, 1, 2, 3, 4, 5],\n",
      " [1, 0, 3, 2, 5, 4],\n",
      " [2, 5, 0, 4, 3, 1],\n",
      " [3, 4, 1, 5, 2, 0],\n",
      " [4, 3, 5, 1, 0, 2],\n",
      " [5, 2, 4, 0, 1, 3]]\n",
      "-------------------------------------\n",
      "\n",
      "** Group **\n",
      "Name: F2 Matrix Algebra_subalgebra_65\n",
      "Instance ID: 4578205712\n",
      "Description: Subalgebra of: Algebra derived from 2x2 matrices over F2\n",
      "Order: 2\n",
      "Identity: e\n",
      "Commutative? Yes\n",
      "Cyclic?: Yes\n",
      "  Generators: ['b11']\n",
      "Elements:\n",
      "   Index   Name   Inverse  Order\n",
      "      0       e       e       1\n",
      "      1     b11     b11       2\n",
      "Cayley Table (showing indices):\n",
      "[[0, 1], [1, 0]]\n",
      "-------------------------------------\n",
      "\n",
      "** Group **\n",
      "Name: F2 Matrix Algebra_subalgebra_76\n",
      "Instance ID: 4578209168\n",
      "Description: Subalgebra of: Algebra derived from 2x2 matrices over F2\n",
      "Order: 2\n",
      "Identity: e\n",
      "Commutative? Yes\n",
      "Cyclic?: Yes\n",
      "  Generators: ['b08']\n",
      "Elements:\n",
      "   Index   Name   Inverse  Order\n",
      "      0       e       e       1\n",
      "      1     b08     b08       2\n",
      "Cayley Table (showing indices):\n",
      "[[0, 1], [1, 0]]\n",
      "-------------------------------------\n",
      "\n",
      "** Group **\n",
      "Name: F2 Matrix Algebra_subalgebra_98\n",
      "Instance ID: 4578150288\n",
      "Description: Subalgebra of: Algebra derived from 2x2 matrices over F2\n",
      "Order: 3\n",
      "Identity: e\n",
      "Commutative? Yes\n",
      "Cyclic?: Yes\n",
      "  Generators: ['b12', 'b14']\n",
      "Elements:\n",
      "   Index   Name   Inverse  Order\n",
      "      0       e       e       1\n",
      "      1     b12     b14       3\n",
      "      2     b14     b12       3\n",
      "Cayley Table (showing indices):\n",
      "[[0, 1, 2], [1, 2, 0], [2, 0, 1]]\n"
     ]
    }
   ],
   "source": [
    "for grp in bar_subgrps:\n",
    "    print(\"-------------------------------------\")\n",
    "    grp.about()"
   ]
  },
  {
   "cell_type": "code",
   "execution_count": null,
   "id": "1b07ecbe",
   "metadata": {},
   "outputs": [],
   "source": []
  },
  {
   "cell_type": "code",
   "execution_count": null,
   "id": "971f94ea",
   "metadata": {},
   "outputs": [],
   "source": []
  },
  {
   "cell_type": "code",
   "execution_count": 27,
   "id": "6a0ab515-9d5d-4e51-a0ed-3a49feb9c997",
   "metadata": {},
   "outputs": [
    {
     "data": {
      "text/plain": [
       "{'e': [['1' '0']\n",
       "  ['0' '1']],\n",
       " 'a1': [['0' '1']\n",
       "  ['1' '0']],\n",
       " 'a2': [['1' '1']\n",
       "  ['0' '1']],\n",
       " 'a3': [['0' '1']\n",
       "  ['1' '1']],\n",
       " 'a4': [['1' '0']\n",
       "  ['1' '1']],\n",
       " 'a5': [['1' '1']\n",
       "  ['1' '0']]}"
      ]
     },
     "execution_count": 27,
     "metadata": {},
     "output_type": "execute_result"
    }
   ],
   "source": [
    "det1dict = name_mapping(det1s, prefix = 'a', id_element = AbstractMatrix.identity(2, f2), id_name = 'e')\n",
    "det1dict"
   ]
  },
  {
   "cell_type": "code",
   "execution_count": 39,
   "id": "92e61768",
   "metadata": {},
   "outputs": [],
   "source": [
    "def matrix(name):\n",
    "    return det1dict[name]"
   ]
  },
  {
   "cell_type": "code",
   "execution_count": 40,
   "id": "d6b64ba8",
   "metadata": {},
   "outputs": [
    {
     "ename": "KeyError",
     "evalue": "'a1'",
     "output_type": "error",
     "traceback": [
      "\u001b[0;31m---------------------------------------------------------------------------\u001b[0m",
      "\u001b[0;31mKeyError\u001b[0m                                  Traceback (most recent call last)",
      "Cell \u001b[0;32mIn[40], line 1\u001b[0m\n\u001b[0;32m----> 1\u001b[0m A1 \u001b[38;5;241m=\u001b[39m matrix(\u001b[38;5;124m'\u001b[39m\u001b[38;5;124ma1\u001b[39m\u001b[38;5;124m'\u001b[39m)\n\u001b[1;32m      2\u001b[0m A1\n",
      "Cell \u001b[0;32mIn[39], line 2\u001b[0m, in \u001b[0;36mmatrix\u001b[0;34m(name)\u001b[0m\n\u001b[1;32m      1\u001b[0m \u001b[38;5;28;01mdef\u001b[39;00m \u001b[38;5;21mmatrix\u001b[39m(name):\n\u001b[0;32m----> 2\u001b[0m     \u001b[38;5;28;01mreturn\u001b[39;00m det1dict[name]\n",
      "\u001b[0;31mKeyError\u001b[0m: 'a1'"
     ]
    }
   ],
   "source": [
    "A1 = matrix('a1')\n",
    "A1"
   ]
  },
  {
   "cell_type": "code",
   "execution_count": null,
   "id": "737dc22b",
   "metadata": {},
   "outputs": [],
   "source": [
    "def matrix_to_tuple(matrix):\n",
    "    return tuple(map(lambda x: tuple(x), matrix.array.tolist()))"
   ]
  },
  {
   "cell_type": "code",
   "execution_count": null,
   "id": "24af77ce",
   "metadata": {},
   "outputs": [],
   "source": [
    "matrix_to_tuple(A1)"
   ]
  },
  {
   "cell_type": "code",
   "execution_count": null,
   "id": "5f27fced",
   "metadata": {},
   "outputs": [],
   "source": [
    "inv_mapping = {matrix_to_tuple(matrix): name for name, matrix in det1dict.items()}"
   ]
  },
  {
   "cell_type": "code",
   "execution_count": null,
   "id": "80da4aac",
   "metadata": {},
   "outputs": [],
   "source": [
    "def elem(matrix):\n",
    "    return inv_mapping[matrix_to_tuple(matrix)]"
   ]
  },
  {
   "cell_type": "code",
   "execution_count": null,
   "id": "9125cbf9",
   "metadata": {},
   "outputs": [],
   "source": [
    "elem(A1)"
   ]
  },
  {
   "cell_type": "code",
   "execution_count": null,
   "id": "409935f0",
   "metadata": {},
   "outputs": [],
   "source": [
    "elems = list(det1dict.keys())\n",
    "print(elems)"
   ]
  },
  {
   "cell_type": "code",
   "execution_count": null,
   "id": "1386395a",
   "metadata": {},
   "outputs": [],
   "source": [
    "f2_table = [[elem(matrix(a) * matrix(b)) for b in elems] for a in elems]"
   ]
  },
  {
   "cell_type": "code",
   "execution_count": null,
   "id": "fcab02bd",
   "metadata": {},
   "outputs": [],
   "source": [
    "len(f2_table)"
   ]
  },
  {
   "cell_type": "code",
   "execution_count": null,
   "id": "3392bfd2",
   "metadata": {},
   "outputs": [],
   "source": [
    "f2_table"
   ]
  },
  {
   "cell_type": "code",
   "execution_count": null,
   "id": "f0c98ba2",
   "metadata": {},
   "outputs": [],
   "source": [
    "f2_matrix_alg = alg.make_finite_algebra(\"F2 Matrix Algebra\",\n",
    "                                        \"Algebra derived from 2x2 matrices over F2\",\n",
    "                                        elems,\n",
    "                                        f2_table)"
   ]
  },
  {
   "cell_type": "code",
   "execution_count": null,
   "id": "7d913a8f",
   "metadata": {},
   "outputs": [],
   "source": [
    "f2_matrix_alg.about()"
   ]
  },
  {
   "cell_type": "raw",
   "id": "8f22af89",
   "metadata": {},
   "source": [
    ">>> ps3_proper_subs = ps3.proper_subalgebras()\n",
    "\n",
    ">>> partitions = partition_into_isomorphic_lists(ps3_proper_subs)\n",
    "\n",
    ">>> about_isomorphic_partitions(ps3, partitions)\n"
   ]
  },
  {
   "cell_type": "code",
   "execution_count": null,
   "id": "f889cb06",
   "metadata": {},
   "outputs": [],
   "source": [
    "f2_matrix_alg_subs = f2_matrix_alg.proper_subalgebras()\n",
    "f2_matrix_alg_subs"
   ]
  },
  {
   "cell_type": "code",
   "execution_count": null,
   "id": "8182313f",
   "metadata": {},
   "outputs": [],
   "source": [
    "partitions = alg.partition_into_isomorphic_lists(f2_matrix_alg_subs)\n",
    "partitions"
   ]
  },
  {
   "cell_type": "code",
   "execution_count": null,
   "id": "73d28321",
   "metadata": {},
   "outputs": [],
   "source": [
    "alg.about_isomorphic_partitions(f2_matrix_alg, partitions)"
   ]
  },
  {
   "cell_type": "code",
   "execution_count": null,
   "id": "d2bf4d1d",
   "metadata": {},
   "outputs": [],
   "source": [
    "g0 = alg.generate_symmetric_group(3)\n",
    "g0.about()"
   ]
  },
  {
   "cell_type": "code",
   "execution_count": null,
   "id": "cb9d94dc",
   "metadata": {},
   "outputs": [],
   "source": [
    "f2_matrix_alg.isomorphic(g0)"
   ]
  },
  {
   "cell_type": "code",
   "execution_count": null,
   "id": "b5db6edc",
   "metadata": {},
   "outputs": [],
   "source": []
  },
  {
   "cell_type": "code",
   "execution_count": null,
   "id": "1f20a54b-dd83-4dc2-9e4d-ad5130062f7d",
   "metadata": {},
   "outputs": [],
   "source": []
  },
  {
   "cell_type": "code",
   "execution_count": null,
   "id": "cfd7848f-cfc6-461e-aec6-408f263e0080",
   "metadata": {},
   "outputs": [],
   "source": []
  }
 ],
 "metadata": {
  "kernelspec": {
   "display_name": "Python 3 (ipykernel)",
   "language": "python",
   "name": "python3"
  },
  "language_info": {
   "codemirror_mode": {
    "name": "ipython",
    "version": 3
   },
   "file_extension": ".py",
   "mimetype": "text/x-python",
   "name": "python",
   "nbconvert_exporter": "python",
   "pygments_lexer": "ipython3",
   "version": "3.11.4"
  }
 },
 "nbformat": 4,
 "nbformat_minor": 5
}
