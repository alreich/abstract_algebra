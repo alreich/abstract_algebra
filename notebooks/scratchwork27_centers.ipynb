{
 "cells": [
  {
   "cell_type": "markdown",
   "id": "6bde5a03-fe34-442a-ab62-6320676af67d",
   "metadata": {},
   "source": [
    "# Centers & Center Algebras"
   ]
  },
  {
   "cell_type": "code",
   "execution_count": 1,
   "id": "be5ba23e-e9c5-4230-8a16-89e90c25df2d",
   "metadata": {},
   "outputs": [],
   "source": [
    "import finite_algebras as alg\n",
    "\n",
    "import os\n",
    "aa_path = os.path.join(os.getenv(\"PYPROJ\"), \"abstract_algebra\")\n",
    "alg_dir = os.path.join(aa_path, \"Algebras\")"
   ]
  },
  {
   "cell_type": "code",
   "execution_count": 4,
   "id": "694b8eb2-eaaf-4deb-931b-ff374f95d1a7",
   "metadata": {},
   "outputs": [
    {
     "name": "stdout",
     "output_type": "stream",
     "text": [
      "Help on function center in module finite_algebras:\n",
      "\n",
      "center(self)\n",
      "    Return the list of elements that commute with every element of the algebra.\n",
      "    In Pinter's book, chapter 5, exercise D3, the 'center' is defined for Groups,\n",
      "    but the definition also works for any Magma.\n",
      "\n"
     ]
    }
   ],
   "source": [
    "help(alg.Magma.center)"
   ]
  },
  {
   "cell_type": "code",
   "execution_count": 5,
   "id": "7bbb1941-e74e-48c8-ac84-2be0b22910a6",
   "metadata": {},
   "outputs": [
    {
     "name": "stdout",
     "output_type": "stream",
     "text": [
      "Help on function center_algebra in module finite_algebras:\n",
      "\n",
      "center_algebra(self, verbose=False)\n",
      "    Return the subalgebra that is the center of this algebra.  If the center is part of a\n",
      "    Semigroup, then (due to associativity) it will be closed wrt the Semigroup operation,\n",
      "    and hence form a sub-semigroup, but the center of a Magma will not necessarily be closed.\n",
      "    Note also that, if the algebra is commutative, then the entire algebra is its center.\n",
      "\n"
     ]
    }
   ],
   "source": [
    "help(alg.Magma.center_algebra)"
   ]
  },
  {
   "cell_type": "code",
   "execution_count": 3,
   "id": "007c4e5b-2872-49db-b825-e71076e07da4",
   "metadata": {},
   "outputs": [
    {
     "name": "stdout",
     "output_type": "stream",
     "text": [
      "======================================================================\n",
      "                           Example Algebras\n",
      "----------------------------------------------------------------------\n",
      "  17 example algebras are available.\n",
      "  Use \"Examples[INDEX]\" to retrieve a specific example,\n",
      "  where INDEX is the first number on each line below:\n",
      "----------------------------------------------------------------------\n",
      "0: A4 -- Alternating group on 4 letters (AKA Tetrahedral group)\n",
      "1: D3 -- https://en.wikipedia.org/wiki/Dihedral_group_of_order_6\n",
      "2: D4 -- Dihedral group on four vertices\n",
      "3: Pinter29 -- Non-abelian group, p.29, 'A Book of Abstract Algebra' by Charles C. Pinter\n",
      "4: RPS -- Rock, Paper, Scissors Magma\n",
      "5: S3 -- Symmetric group on 3 letters\n",
      "6: S3X -- Another version of the symmetric group on 3 letters\n",
      "7: V4 -- Klein-4 group\n",
      "8: Z4 -- Cyclic group of order 4\n",
      "9: F4 -- Field with 4 elements (from Wikipedia)\n",
      "10: mag_id -- Magma with Identity\n",
      "11: Example 1.4.1 -- See: Groupoids and Smarandache Groupoids by W. B. Vasantha Kandasamy\n",
      "12: Ex6 -- Example 6: http://www-groups.mcs.st-andrews.ac.uk/~john/MT4517/Lectures/L3.html\n",
      "13: Q8 -- Quaternion Group\n",
      "14: SD16 -- Semidihedral group of order 16\n",
      "15: A5 -- Alternating group on 5 letters\n",
      "16: F2 -- Field with 2 elements from paper: 236w06fields.pdf\n",
      "======================================================================\n"
     ]
    }
   ],
   "source": [
    "ex = alg.Examples(alg_dir)"
   ]
  },
  {
   "cell_type": "code",
   "execution_count": 9,
   "id": "403a7ed2-ac3a-4b3c-81de-05c0e9ad96b1",
   "metadata": {},
   "outputs": [],
   "source": [
    "A = [ex[i] for i in range(17)]"
   ]
  },
  {
   "cell_type": "code",
   "execution_count": 10,
   "id": "fcd81c24-8d4e-45de-95ec-bd48c1b5f307",
   "metadata": {},
   "outputs": [
    {
     "name": "stdout",
     "output_type": "stream",
     "text": [
      "A4\n",
      "D3\n",
      "D4\n",
      "Pinter29\n",
      "RPS\n",
      "S3\n",
      "S3X\n",
      "V4\n",
      "Z4\n",
      "F4\n",
      "mag_id\n",
      "Example 1.4.1\n",
      "Ex6\n",
      "Q8\n",
      "SD16\n",
      "A5\n",
      "F2\n"
     ]
    }
   ],
   "source": [
    "for algebra in A:\n",
    "    print(algebra.name)"
   ]
  },
  {
   "cell_type": "code",
   "execution_count": 22,
   "id": "4479a399-d6e4-428f-92dd-bed5e4e62b28",
   "metadata": {},
   "outputs": [
    {
     "name": "stdout",
     "output_type": "stream",
     "text": [
      "    type: Group\n",
      "    name: A4\n",
      "   order: 12\n",
      "abelian?: No\n",
      "  center: ['()']\n",
      "\n",
      "    type: Group\n",
      "    name: D3\n",
      "   order: 6\n",
      "abelian?: No\n",
      "  center: ['e']\n",
      "\n",
      "    type: Group\n",
      "    name: D4\n",
      "   order: 8\n",
      "abelian?: No\n",
      "  center: ['e', 'r^2']\n",
      "\n",
      "    type: Group\n",
      "    name: Pinter29\n",
      "   order: 6\n",
      "abelian?: No\n",
      "  center: ['I']\n",
      "\n",
      "    type: Magma\n",
      "    name: RPS\n",
      "   order: 3\n",
      "abelian?: Yes\n",
      "  center: ['r', 'p', 's']\n",
      "\n",
      "    type: Group\n",
      "    name: S3\n",
      "   order: 6\n",
      "abelian?: No\n",
      "  center: ['e']\n",
      "\n",
      "    type: Group\n",
      "    name: S3X\n",
      "   order: 6\n",
      "abelian?: No\n",
      "  center: ['()']\n",
      "\n",
      "    type: Group\n",
      "    name: V4\n",
      "   order: 4\n",
      "abelian?: Yes\n",
      "  center: ['e', 'h', 'v', 'r']\n",
      "\n",
      "    type: Group\n",
      "    name: Z4\n",
      "   order: 4\n",
      "abelian?: Yes\n",
      "  center: ['e', 'a', 'a^2', 'a^3']\n",
      "\n",
      "    type: Field\n",
      "    name: F4\n",
      "   order: 4\n",
      "abelian?: Yes\n",
      "  center: ['0', '1', 'a', '1+a']\n",
      "\n",
      "    type: Magma\n",
      "    name: mag_id\n",
      "   order: 3\n",
      "abelian?: No\n",
      "  center: ['e']\n",
      "\n",
      "    type: Semigroup\n",
      "    name: Example 1.4.1\n",
      "   order: 6\n",
      "abelian?: No\n",
      "  center: []\n",
      "\n",
      "    type: Ring\n",
      "    name: Ex6\n",
      "   order: 4\n",
      "abelian?: Yes\n",
      "  center: ['0', 'a', 'b', 'c']\n",
      "\n",
      "    type: Group\n",
      "    name: Q8\n",
      "   order: 8\n",
      "abelian?: No\n",
      "  center: ['1', '-1']\n",
      "\n",
      "    type: Group\n",
      "    name: SD16\n",
      "   order: 16\n",
      "abelian?: No\n",
      "  center: ['e', 'tsts']\n",
      "\n",
      "    type: Group\n",
      "    name: A5\n",
      "   order: 60\n",
      "abelian?: No\n",
      "  center: ['()']\n",
      "\n",
      "    type: Field\n",
      "    name: F2\n",
      "   order: 2\n",
      "abelian?: Yes\n",
      "  center: ['0', '1']\n",
      "\n"
     ]
    }
   ],
   "source": [
    "for al in A:\n",
    "    print(f\"    type: {al.__class__.__name__}\")\n",
    "    print(f\"    name: {al.name}\")\n",
    "    print(f\"   order: {al.order}\")\n",
    "    print(f\"abelian?: {alg.yes_or_no(al.is_abelian())}\")\n",
    "    print(f\"  center: {al.center()}\\n\")"
   ]
  },
  {
   "cell_type": "code",
   "execution_count": null,
   "id": "f7364b20-d8fc-4f64-88a7-932aee6478c4",
   "metadata": {},
   "outputs": [],
   "source": []
  }
 ],
 "metadata": {
  "kernelspec": {
   "display_name": "Python 3 (ipykernel)",
   "language": "python",
   "name": "python3"
  },
  "language_info": {
   "codemirror_mode": {
    "name": "ipython",
    "version": 3
   },
   "file_extension": ".py",
   "mimetype": "text/x-python",
   "name": "python",
   "nbconvert_exporter": "python",
   "pygments_lexer": "ipython3",
   "version": "3.11.5"
  }
 },
 "nbformat": 4,
 "nbformat_minor": 5
}
