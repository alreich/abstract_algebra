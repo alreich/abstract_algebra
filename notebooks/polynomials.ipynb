{
 "cells": [
  {
   "cell_type": "markdown",
   "id": "2ac9740a",
   "metadata": {},
   "source": [
    "# Polynomials"
   ]
  },
  {
   "cell_type": "markdown",
   "id": "873e4319",
   "metadata": {},
   "source": [
    "This is an experimental notebook."
   ]
  },
  {
   "cell_type": "markdown",
   "id": "ee4bce16",
   "metadata": {},
   "source": [
    "# My Polynomials"
   ]
  },
  {
   "cell_type": "markdown",
   "id": "8259fbf7",
   "metadata": {},
   "source": [
    "Right now, it's all based on integer or floating point coefficients and values.\n",
    "\n",
    "I wrote this so that I can explore polynomials over non-traditional (non-numeric) algebras (e.g, Rings, Fields)"
   ]
  },
  {
   "cell_type": "code",
   "execution_count": 2,
   "id": "0038b73a",
   "metadata": {},
   "outputs": [],
   "source": [
    "from polynomials import *"
   ]
  },
  {
   "cell_type": "markdown",
   "id": "2637d9b9",
   "metadata": {},
   "source": [
    "## Polynomial Basics"
   ]
  },
  {
   "cell_type": "markdown",
   "id": "8c57bf51",
   "metadata": {},
   "source": [
    "A polynomial, ``Poly``, can be constructed from a 1D array of integers or floats that represent coefficients, where the index of a coefficient in the array is its order in the polynomial.\n",
    "\n",
    "Other methods of polynomial creation are described farther below."
   ]
  },
  {
   "cell_type": "code",
   "execution_count": 3,
   "id": "cd710d76",
   "metadata": {},
   "outputs": [
    {
     "data": {
      "text/plain": [
       "Poly([-2, -4, 7, 0, -3])"
      ]
     },
     "execution_count": 3,
     "metadata": {},
     "output_type": "execute_result"
    }
   ],
   "source": [
    "coeffs = [-2, -4, 7, 0, -3]\n",
    "\n",
    "p = Poly(coeffs)\n",
    "p"
   ]
  },
  {
   "cell_type": "markdown",
   "id": "efd10ffb",
   "metadata": {},
   "source": [
    "By default, 'x' is assumed to be the variable in a polynomial."
   ]
  },
  {
   "cell_type": "code",
   "execution_count": 4,
   "id": "0862a66e",
   "metadata": {},
   "outputs": [
    {
     "name": "stdout",
     "output_type": "stream",
     "text": [
      "-2 -4x +7x^2 -3x^4\n"
     ]
    }
   ],
   "source": [
    "print(p)"
   ]
  },
  {
   "cell_type": "markdown",
   "id": "aed18c90",
   "metadata": {},
   "source": [
    "A ``Poly`` is callable."
   ]
  },
  {
   "cell_type": "code",
   "execution_count": 5,
   "id": "26891e98",
   "metadata": {},
   "outputs": [],
   "source": [
    "a = 3  # A test value"
   ]
  },
  {
   "cell_type": "code",
   "execution_count": 6,
   "id": "e947f976",
   "metadata": {},
   "outputs": [
    {
     "data": {
      "text/plain": [
       "-194"
      ]
     },
     "execution_count": 6,
     "metadata": {},
     "output_type": "execute_result"
    }
   ],
   "source": [
    "p(a)"
   ]
  },
  {
   "cell_type": "markdown",
   "id": "3a106800",
   "metadata": {},
   "source": [
    "Here's a check of the arithmetic in the call made, above."
   ]
  },
  {
   "cell_type": "code",
   "execution_count": 7,
   "id": "0af0c03d",
   "metadata": {},
   "outputs": [
    {
     "name": "stdout",
     "output_type": "stream",
     "text": [
      "-194\n"
     ]
    }
   ],
   "source": [
    "print(-2 - 4*a + 7*a**2 - 3*a**4)"
   ]
  },
  {
   "cell_type": "markdown",
   "id": "b4228443",
   "metadata": {},
   "source": [
    "Internally, a ``Poly`` is made up of a list of ``Terms`` and a ``varname`` (variable name string).\n",
    "\n",
    "A polynomial's term list is immutable, so it is a *property*; however, ``varname`` is a method, because it can be used to change the polynomials variable (e.g., 'x' -> 'y')"
   ]
  },
  {
   "cell_type": "code",
   "execution_count": 8,
   "id": "f0cc97d5",
   "metadata": {},
   "outputs": [
    {
     "data": {
      "text/plain": [
       "[Term(-2, 0), Term(-4, 1), Term(7, 2), Term(-3, 4)]"
      ]
     },
     "execution_count": 8,
     "metadata": {},
     "output_type": "execute_result"
    }
   ],
   "source": [
    "p.terms"
   ]
  },
  {
   "cell_type": "code",
   "execution_count": 9,
   "id": "6a54ace9",
   "metadata": {},
   "outputs": [
    {
     "data": {
      "text/plain": [
       "'x'"
      ]
     },
     "execution_count": 9,
     "metadata": {},
     "output_type": "execute_result"
    }
   ],
   "source": [
    "p.varname()"
   ]
  },
  {
   "cell_type": "markdown",
   "id": "b0cd60df",
   "metadata": {},
   "source": [
    "A ``Term`` can be retrieved, by its order, using the polynomial's ``term`` method."
   ]
  },
  {
   "cell_type": "code",
   "execution_count": 10,
   "id": "735fce0d",
   "metadata": {},
   "outputs": [
    {
     "data": {
      "text/plain": [
       "Term(7, 2)"
      ]
     },
     "execution_count": 10,
     "metadata": {},
     "output_type": "execute_result"
    }
   ],
   "source": [
    "t2 = p.term(2)\n",
    "t2"
   ]
  },
  {
   "cell_type": "markdown",
   "id": "e3ebf7cd",
   "metadata": {},
   "source": [
    "A ``Term`` consists of a *coefficient*, an *order*, and a *varname*."
   ]
  },
  {
   "cell_type": "code",
   "execution_count": 11,
   "id": "8eaab2b1",
   "metadata": {},
   "outputs": [
    {
     "data": {
      "text/plain": [
       "7"
      ]
     },
     "execution_count": 11,
     "metadata": {},
     "output_type": "execute_result"
    }
   ],
   "source": [
    "t2.coefficient"
   ]
  },
  {
   "cell_type": "code",
   "execution_count": 12,
   "id": "4212803c",
   "metadata": {},
   "outputs": [
    {
     "data": {
      "text/plain": [
       "2"
      ]
     },
     "execution_count": 12,
     "metadata": {},
     "output_type": "execute_result"
    }
   ],
   "source": [
    "t2.order"
   ]
  },
  {
   "cell_type": "markdown",
   "id": "e68a4339",
   "metadata": {},
   "source": [
    "Terms have a human-readable print representation."
   ]
  },
  {
   "cell_type": "code",
   "execution_count": 13,
   "id": "fd7bd481",
   "metadata": {},
   "outputs": [
    {
     "name": "stdout",
     "output_type": "stream",
     "text": [
      "+7x^2\n"
     ]
    }
   ],
   "source": [
    "print(t2)"
   ]
  },
  {
   "cell_type": "markdown",
   "id": "30594d8d",
   "metadata": {},
   "source": [
    "By default, terms use 'x' as a variable name."
   ]
  },
  {
   "cell_type": "code",
   "execution_count": 14,
   "id": "ca3ca484",
   "metadata": {},
   "outputs": [
    {
     "data": {
      "text/plain": [
       "'x'"
      ]
     },
     "execution_count": 14,
     "metadata": {},
     "output_type": "execute_result"
    }
   ],
   "source": [
    "t2.varname()"
   ]
  },
  {
   "cell_type": "markdown",
   "id": "fdd68fc3",
   "metadata": {},
   "source": [
    "Here's an example of a polynomial that doesn't use the default *varname* of 'x'."
   ]
  },
  {
   "cell_type": "code",
   "execution_count": 15,
   "id": "27982fbb",
   "metadata": {},
   "outputs": [
    {
     "data": {
      "text/plain": [
       "Poly([-2, -4, 7, 0, -3], 'y')"
      ]
     },
     "execution_count": 15,
     "metadata": {},
     "output_type": "execute_result"
    }
   ],
   "source": [
    "py = Poly(coeffs, 'y')\n",
    "py"
   ]
  },
  {
   "cell_type": "code",
   "execution_count": 16,
   "id": "e554fa58",
   "metadata": {},
   "outputs": [
    {
     "name": "stdout",
     "output_type": "stream",
     "text": [
      "-2 -4y +7y^2 -3y^4\n"
     ]
    }
   ],
   "source": [
    "print(py)"
   ]
  },
  {
   "cell_type": "code",
   "execution_count": 17,
   "id": "f0b0d059",
   "metadata": {},
   "outputs": [
    {
     "data": {
      "text/plain": [
       "-194"
      ]
     },
     "execution_count": 17,
     "metadata": {},
     "output_type": "execute_result"
    }
   ],
   "source": [
    "py(3)"
   ]
  },
  {
   "cell_type": "code",
   "execution_count": 18,
   "id": "a8db8f93",
   "metadata": {},
   "outputs": [
    {
     "data": {
      "text/plain": [
       "[Term(-2, 0, y), Term(-4, 1, y), Term(7, 2, y), Term(-3, 4, y)]"
      ]
     },
     "execution_count": 18,
     "metadata": {},
     "output_type": "execute_result"
    }
   ],
   "source": [
    "py.terms"
   ]
  },
  {
   "cell_type": "markdown",
   "id": "aec4f15d",
   "metadata": {},
   "source": [
    "We can check if a term is *constant*, *linear*, or *quadratic*.  If it is, then the coeffient of the term is returned, otherwise ``False`` is returned."
   ]
  },
  {
   "cell_type": "code",
   "execution_count": 19,
   "id": "6e63511f",
   "metadata": {},
   "outputs": [
    {
     "data": {
      "text/plain": [
       "False"
      ]
     },
     "execution_count": 19,
     "metadata": {},
     "output_type": "execute_result"
    }
   ],
   "source": [
    "py.terms[0].is_linear()"
   ]
  },
  {
   "cell_type": "code",
   "execution_count": 20,
   "id": "a44b564d",
   "metadata": {},
   "outputs": [
    {
     "data": {
      "text/plain": [
       "-2"
      ]
     },
     "execution_count": 20,
     "metadata": {},
     "output_type": "execute_result"
    }
   ],
   "source": [
    "py.terms[0].is_constant()"
   ]
  },
  {
   "cell_type": "code",
   "execution_count": 21,
   "id": "dce7a12e",
   "metadata": {},
   "outputs": [
    {
     "data": {
      "text/plain": [
       "7"
      ]
     },
     "execution_count": 21,
     "metadata": {},
     "output_type": "execute_result"
    }
   ],
   "source": [
    "py.terms[2].is_quadratic()"
   ]
  },
  {
   "cell_type": "markdown",
   "id": "9e09a6b3",
   "metadata": {},
   "source": [
    "## Other Ways to Construct Polynomials"
   ]
  },
  {
   "cell_type": "markdown",
   "id": "5f860394",
   "metadata": {},
   "source": [
    "### From a String Representation"
   ]
  },
  {
   "cell_type": "markdown",
   "id": "7ea60088",
   "metadata": {},
   "source": [
    "A ``Poly`` can also be constructed from a string representation of a polynomial, such as \"-2 -4x +7x^2 -3x^4\", where...\n",
    "\n",
    "* there **must** be a space between each term,\n",
    "* and, except for the first term, every term must begin with a + or - sign, and then a number, unless the number is a 1."
   ]
  },
  {
   "cell_type": "code",
   "execution_count": 22,
   "id": "936ff436",
   "metadata": {},
   "outputs": [
    {
     "name": "stdout",
     "output_type": "stream",
     "text": [
      "-2 -4x +7x^2 -3x^4\n"
     ]
    },
    {
     "data": {
      "text/plain": [
       "Poly([-2, -4, 7, 0, -3])"
      ]
     },
     "execution_count": 22,
     "metadata": {},
     "output_type": "execute_result"
    }
   ],
   "source": [
    "polystr = \"-2 -4x +7x^2 -3x^4\"\n",
    "\n",
    "p2 = Poly(polystr)\n",
    "print(p2)\n",
    "p2"
   ]
  },
  {
   "cell_type": "code",
   "execution_count": 23,
   "id": "0af5a49f",
   "metadata": {},
   "outputs": [],
   "source": [
    "polystry = \"7 +3y -y^2 -9y^3\"\n",
    "\n",
    "p2y = Poly(polystry)"
   ]
  },
  {
   "cell_type": "code",
   "execution_count": 24,
   "id": "8913d7be",
   "metadata": {},
   "outputs": [
    {
     "data": {
      "text/plain": [
       "[Term(7, 0, y), Term(3, 1, y), Term(-1, 2, y), Term(-9, 3, y)]"
      ]
     },
     "execution_count": 24,
     "metadata": {},
     "output_type": "execute_result"
    }
   ],
   "source": [
    "p2y.terms"
   ]
  },
  {
   "cell_type": "code",
   "execution_count": 25,
   "id": "702c607c",
   "metadata": {},
   "outputs": [
    {
     "name": "stdout",
     "output_type": "stream",
     "text": [
      "+7 +3y -1y^2 -9y^3\n"
     ]
    },
    {
     "data": {
      "text/plain": [
       "Poly([7, 3, -1, -9], 'y')"
      ]
     },
     "execution_count": 25,
     "metadata": {},
     "output_type": "execute_result"
    }
   ],
   "source": [
    "print(p2y)\n",
    "p2y"
   ]
  },
  {
   "cell_type": "markdown",
   "id": "e836ceaf",
   "metadata": {},
   "source": [
    "### From a List of Pairs (Tuples)"
   ]
  },
  {
   "cell_type": "code",
   "execution_count": 26,
   "id": "fe2f0668",
   "metadata": {},
   "outputs": [
    {
     "name": "stdout",
     "output_type": "stream",
     "text": [
      "-2 -4x +7x^2 -3x^4\n"
     ]
    },
    {
     "data": {
      "text/plain": [
       "Poly([-2, -4, 7, 0, -3])"
      ]
     },
     "execution_count": 26,
     "metadata": {},
     "output_type": "execute_result"
    }
   ],
   "source": [
    "coef_order_pairs_a = [(-2,0), (-4,1), (7, 2), (-3, 4)]\n",
    "\n",
    "p3a = Poly(coef_order_pairs_a)\n",
    "print(p3a)\n",
    "p3a"
   ]
  },
  {
   "cell_type": "markdown",
   "id": "b3fe242f",
   "metadata": {},
   "source": [
    "### From a List of Pairs (Lists)"
   ]
  },
  {
   "cell_type": "code",
   "execution_count": 27,
   "id": "34b56de3",
   "metadata": {},
   "outputs": [
    {
     "name": "stdout",
     "output_type": "stream",
     "text": [
      "-2 -4x +7x^2 -3x^4\n"
     ]
    },
    {
     "data": {
      "text/plain": [
       "Poly([-2, -4, 7, 0, -3])"
      ]
     },
     "execution_count": 27,
     "metadata": {},
     "output_type": "execute_result"
    }
   ],
   "source": [
    "coef_order_pairs_b = [[-2,0], [-4,1], [7, 2], [-3, 4]]\n",
    "\n",
    "p3b = Poly(coef_order_pairs_b)\n",
    "print(p3b)\n",
    "p3b"
   ]
  },
  {
   "cell_type": "markdown",
   "id": "c4ea2547",
   "metadata": {},
   "source": [
    "### From a List of Terms"
   ]
  },
  {
   "cell_type": "code",
   "execution_count": 28,
   "id": "be67e470",
   "metadata": {},
   "outputs": [
    {
     "name": "stdout",
     "output_type": "stream",
     "text": [
      "-2 -4x +7x^2 -3x^4\n"
     ]
    },
    {
     "data": {
      "text/plain": [
       "Poly([-2, -4, 7, 0, -3])"
      ]
     },
     "execution_count": 28,
     "metadata": {},
     "output_type": "execute_result"
    }
   ],
   "source": [
    "list_of_terms = [Term(-2,0), Term(-4,1), Term(7, 2), Term(-3, 4)]\n",
    "\n",
    "p4 = Poly(list_of_terms)\n",
    "print(p4)\n",
    "p4"
   ]
  },
  {
   "cell_type": "markdown",
   "id": "6aba2c9c",
   "metadata": {},
   "source": [
    "### From a List of Roots"
   ]
  },
  {
   "cell_type": "code",
   "execution_count": 29,
   "id": "42005915",
   "metadata": {},
   "outputs": [
    {
     "name": "stdout",
     "output_type": "stream",
     "text": [
      "+6 -11x +6x^2 -1x^3\n"
     ]
    },
    {
     "data": {
      "text/plain": [
       "Poly([6, -11, 6, -1])"
      ]
     },
     "execution_count": 29,
     "metadata": {},
     "output_type": "execute_result"
    }
   ],
   "source": [
    "roots = [1, 2, 3]\n",
    "\n",
    "p5 = from_roots(roots)\n",
    "print(p5)\n",
    "p5"
   ]
  },
  {
   "cell_type": "markdown",
   "id": "5738228c",
   "metadata": {},
   "source": [
    "## Combining Like Terms"
   ]
  },
  {
   "cell_type": "markdown",
   "id": "b9028c2e",
   "metadata": {},
   "source": [
    "Like terms (i.e., same order terms) are automatically combined during various polynomial operations, include the construction of polynomials."
   ]
  },
  {
   "cell_type": "code",
   "execution_count": 30,
   "id": "167c17ac",
   "metadata": {},
   "outputs": [],
   "source": [
    "test_terms = [Term(-2,0), Term(-4,1), Term(-1,0), Term(7,2), Term(-3,4), Term(-2,2)]"
   ]
  },
  {
   "cell_type": "code",
   "execution_count": 31,
   "id": "d10d8647",
   "metadata": {},
   "outputs": [
    {
     "name": "stdout",
     "output_type": "stream",
     "text": [
      "[Term(-2, 0), Term(-4, 1), Term(-1, 0), Term(7, 2), Term(-3, 4), Term(-2, 2)]\n",
      "[Term(-3, 0), Term(-4, 1), Term(5, 2), Term(-3, 4)]\n"
     ]
    }
   ],
   "source": [
    "print(test_terms)\n",
    "print(combine_like_terms(test_terms))"
   ]
  },
  {
   "cell_type": "code",
   "execution_count": 32,
   "id": "662e1cfc",
   "metadata": {},
   "outputs": [
    {
     "name": "stdout",
     "output_type": "stream",
     "text": [
      "-3 -4x +5x^2 -3x^4\n"
     ]
    },
    {
     "data": {
      "text/plain": [
       "Poly([-3, -4, 5, 0, -3])"
      ]
     },
     "execution_count": 32,
     "metadata": {},
     "output_type": "execute_result"
    }
   ],
   "source": [
    "polystr2 = \"-2 -4x -1 +7x^2 -3x^4 -2x^2\"\n",
    "p2 = Poly(polystr2)\n",
    "print(p2)\n",
    "p2"
   ]
  },
  {
   "cell_type": "code",
   "execution_count": 33,
   "id": "87b2bb18",
   "metadata": {},
   "outputs": [
    {
     "name": "stdout",
     "output_type": "stream",
     "text": [
      "0\n"
     ]
    },
    {
     "data": {
      "text/plain": [
       "Poly([0])"
      ]
     },
     "execution_count": 33,
     "metadata": {},
     "output_type": "execute_result"
    }
   ],
   "source": [
    "polystr3 = \"-2 +3x^4 -4x +2 +7x^2 +4x -3x^4 -7x^2\"\n",
    "p3 = Poly(polystr3)\n",
    "print(p3)\n",
    "p3"
   ]
  },
  {
   "cell_type": "markdown",
   "id": "d0c73cf3",
   "metadata": {},
   "source": [
    "## Testing Some Polynomial Strings"
   ]
  },
  {
   "cell_type": "code",
   "execution_count": 34,
   "id": "42ab144d",
   "metadata": {},
   "outputs": [
    {
     "name": "stdout",
     "output_type": "stream",
     "text": [
      "-2 -4x +7x^2 -3x^4\n"
     ]
    },
    {
     "data": {
      "text/plain": [
       "[Term(-2, 0), Term(-4, 1), Term(7, 2), Term(-3, 4)]"
      ]
     },
     "execution_count": 34,
     "metadata": {},
     "output_type": "execute_result"
    }
   ],
   "source": [
    "polystr = \"-2 -4x^1 +7x^2 -3x^4\"  # Added '^1' to linear term\n",
    "\n",
    "p = Poly(polystr)\n",
    "print(p)\n",
    "p.terms"
   ]
  },
  {
   "cell_type": "code",
   "execution_count": 35,
   "id": "47790fe1",
   "metadata": {},
   "outputs": [
    {
     "name": "stdout",
     "output_type": "stream",
     "text": [
      "-2 -4x +7x^2 -3x^4\n"
     ]
    },
    {
     "data": {
      "text/plain": [
       "[Term(-2, 0), Term(-4, 1), Term(7, 2), Term(-3, 4)]"
      ]
     },
     "execution_count": 35,
     "metadata": {},
     "output_type": "execute_result"
    }
   ],
   "source": [
    "polystr = \"-2x^0 -4x^1 +7x^2 -3x^4\"  # Added 'x^0' to constant term\n",
    "\n",
    "p = Poly(polystr)\n",
    "print(p)\n",
    "p.terms"
   ]
  },
  {
   "cell_type": "code",
   "execution_count": 36,
   "id": "e41bd9fe",
   "metadata": {},
   "outputs": [
    {
     "name": "stdout",
     "output_type": "stream",
     "text": [
      "-2 -4x +7x^2 -3x^4\n"
     ]
    },
    {
     "data": {
      "text/plain": [
       "[Term(-2, 0), Term(-4, 1), Term(7, 2), Term(-3, 4)]"
      ]
     },
     "execution_count": 36,
     "metadata": {},
     "output_type": "execute_result"
    }
   ],
   "source": [
    "polystr = \"-4x -2 -3x^4 +7x^2\"  #  Terms not in order \n",
    "\n",
    "p = Poly(polystr)\n",
    "print(p)\n",
    "p.terms"
   ]
  },
  {
   "cell_type": "code",
   "execution_count": 37,
   "id": "aa734eb9",
   "metadata": {},
   "outputs": [
    {
     "name": "stdout",
     "output_type": "stream",
     "text": [
      "-1 -1x +7x^2 -3x^4\n"
     ]
    },
    {
     "data": {
      "text/plain": [
       "[Term(-1, 0), Term(-1, 1), Term(7, 2), Term(-3, 4)]"
      ]
     },
     "execution_count": 37,
     "metadata": {},
     "output_type": "execute_result"
    }
   ],
   "source": [
    "polystr = \"2 -x -3 +7x^2 -3x^4\"  # No coefficient on linear term, 'x'\n",
    "\n",
    "p = Poly(polystr)\n",
    "print(p)\n",
    "p.terms"
   ]
  },
  {
   "cell_type": "code",
   "execution_count": 38,
   "id": "b73abb8e",
   "metadata": {},
   "outputs": [
    {
     "name": "stdout",
     "output_type": "stream",
     "text": [
      "-1 +7x^2 -3x^4\n"
     ]
    },
    {
     "data": {
      "text/plain": [
       "[Term(-1, 0), Term(7, 2), Term(-3, 4)]"
      ]
     },
     "execution_count": 38,
     "metadata": {},
     "output_type": "execute_result"
    }
   ],
   "source": [
    "polystr = \"2 -x -3 +7x^2 +x -3x^4\"  # linear terms cancel\n",
    "\n",
    "p = Poly(polystr)\n",
    "print(p)\n",
    "p.terms"
   ]
  },
  {
   "cell_type": "code",
   "execution_count": 39,
   "id": "5f556302",
   "metadata": {},
   "outputs": [
    {
     "name": "stdout",
     "output_type": "stream",
     "text": [
      "-3\n"
     ]
    },
    {
     "data": {
      "text/plain": [
       "[Term(-3, 0)]"
      ]
     },
     "execution_count": 39,
     "metadata": {},
     "output_type": "execute_result"
    }
   ],
   "source": [
    "polystr = \"-4x^2 -x -3 +7x^2 +x -3x^2\"  # Quadratic terms collapse and cancel\n",
    "\n",
    "p = Poly(polystr)\n",
    "print(p)\n",
    "p.terms"
   ]
  },
  {
   "cell_type": "markdown",
   "id": "838f1c5c",
   "metadata": {},
   "source": [
    "## Polynomial Arithmetic"
   ]
  },
  {
   "cell_type": "markdown",
   "id": "c6b56f1a",
   "metadata": {},
   "source": [
    "Polynomials can be added, subtracted, multiplied, negated, and raised to a positive integer power."
   ]
  },
  {
   "cell_type": "code",
   "execution_count": 40,
   "id": "613dd48b",
   "metadata": {},
   "outputs": [
    {
     "name": "stdout",
     "output_type": "stream",
     "text": [
      "q1 = +1 +2x\n",
      "q2 = +1 -2x\n"
     ]
    }
   ],
   "source": [
    "q1 = Poly('1 +2x')\n",
    "print(f\"q1 = {q1}\")\n",
    "\n",
    "q2 = Poly('1 -2x')\n",
    "print(f\"q2 = {q2}\")"
   ]
  },
  {
   "cell_type": "code",
   "execution_count": 41,
   "id": "16e87f54",
   "metadata": {},
   "outputs": [
    {
     "name": "stdout",
     "output_type": "stream",
     "text": [
      "+2 +2x\n",
      "+2 +2x\n"
     ]
    }
   ],
   "source": [
    "print(q1 + 1)\n",
    "print(1 + q1)"
   ]
  },
  {
   "cell_type": "code",
   "execution_count": 42,
   "id": "a80933ca",
   "metadata": {},
   "outputs": [
    {
     "name": "stdout",
     "output_type": "stream",
     "text": [
      "+2x\n",
      "+2x\n"
     ]
    }
   ],
   "source": [
    "print(q1 - 1)\n",
    "print(1 - q1)"
   ]
  },
  {
   "cell_type": "code",
   "execution_count": 43,
   "id": "c39020d0",
   "metadata": {},
   "outputs": [
    {
     "name": "stdout",
     "output_type": "stream",
     "text": [
      "(+1 +2x) + (+1 -2x) = +2\n"
     ]
    }
   ],
   "source": [
    "print(f\"({q1}) + ({q2}) = {q1 + q2}\")"
   ]
  },
  {
   "cell_type": "code",
   "execution_count": 44,
   "id": "15fe851a",
   "metadata": {},
   "outputs": [
    {
     "name": "stdout",
     "output_type": "stream",
     "text": [
      "(+1 +2x) - (+1 -2x) = +4x\n"
     ]
    }
   ],
   "source": [
    "print(f\"({q1}) - ({q2}) = {q1 - q2}\")"
   ]
  },
  {
   "cell_type": "code",
   "execution_count": 45,
   "id": "07263d33",
   "metadata": {},
   "outputs": [
    {
     "name": "stdout",
     "output_type": "stream",
     "text": [
      "(+1 +2x) * (+1 -2x) = +1 -4x^2\n"
     ]
    }
   ],
   "source": [
    "print(f\"({q1}) * ({q2}) = {q1 * q2}\")"
   ]
  },
  {
   "cell_type": "code",
   "execution_count": 46,
   "id": "ae9bf918",
   "metadata": {},
   "outputs": [
    {
     "name": "stdout",
     "output_type": "stream",
     "text": [
      "(+1 +2x) * (+1 +2x) = +1 +4x +4x^2\n"
     ]
    }
   ],
   "source": [
    "print(f\"({q1}) * ({q1}) = {q1 * q1}\")"
   ]
  },
  {
   "cell_type": "code",
   "execution_count": 47,
   "id": "57d2df5e",
   "metadata": {},
   "outputs": [
    {
     "name": "stdout",
     "output_type": "stream",
     "text": [
      "(+1 -2x) * (+1 -2x) = +1 -4x +4x^2\n"
     ]
    }
   ],
   "source": [
    "print(f\"({q2}) * ({q2}) = {q2 * q2}\")"
   ]
  },
  {
   "cell_type": "code",
   "execution_count": 48,
   "id": "4777485d",
   "metadata": {},
   "outputs": [
    {
     "name": "stdout",
     "output_type": "stream",
     "text": [
      "-(+1 +2x) = -1 -2x\n"
     ]
    }
   ],
   "source": [
    "print(f\"-({q1}) = {-q1}\")"
   ]
  },
  {
   "cell_type": "code",
   "execution_count": 49,
   "id": "fc45de99",
   "metadata": {},
   "outputs": [
    {
     "name": "stdout",
     "output_type": "stream",
     "text": [
      "-(+1 -2x) = -1 +2x\n"
     ]
    }
   ],
   "source": [
    "print(f\"-({q2}) = {-q2}\")"
   ]
  },
  {
   "cell_type": "code",
   "execution_count": 50,
   "id": "591631c2",
   "metadata": {},
   "outputs": [
    {
     "name": "stdout",
     "output_type": "stream",
     "text": [
      "(+1 +2x)**2 = +1 +4x +4x^2\n"
     ]
    }
   ],
   "source": [
    "print(f\"({q1})**2 = {q1**2}\")"
   ]
  },
  {
   "cell_type": "code",
   "execution_count": 51,
   "id": "8732aa15",
   "metadata": {},
   "outputs": [
    {
     "name": "stdout",
     "output_type": "stream",
     "text": [
      "(+1 -2x)**2 = +1 -4x +4x^2\n"
     ]
    }
   ],
   "source": [
    "print(f\"({q2})**2 = {q2**2}\")"
   ]
  },
  {
   "cell_type": "markdown",
   "id": "6a6cd3c8",
   "metadata": {},
   "source": [
    "## Polynomial Representation"
   ]
  },
  {
   "cell_type": "markdown",
   "id": "85be7a80",
   "metadata": {},
   "source": [
    "The representation of a polynomial changes between two options, depending the estimated length of the representation.  The representation heuristic tries to produce the shortest representation possible, while still allow it to be one that can be used to recreate the polynomial."
   ]
  },
  {
   "cell_type": "code",
   "execution_count": 52,
   "id": "f76ce2db",
   "metadata": {},
   "outputs": [
    {
     "data": {
      "text/plain": [
       "Poly([(1, 0), (7, 19)])"
      ]
     },
     "execution_count": 52,
     "metadata": {},
     "output_type": "execute_result"
    }
   ],
   "source": [
    "coeffs1 = [1, 0, 0, 0, 0, 0, 0, 0, 0, 0, 0, 0, 0, 0, 0, 0, 0, 0, 0, 7]\n",
    "p_large_order1 = Poly(coeffs1)\n",
    "p_large_order1"
   ]
  },
  {
   "cell_type": "code",
   "execution_count": 53,
   "id": "f5ca70fe",
   "metadata": {},
   "outputs": [
    {
     "data": {
      "text/plain": [
       "Poly([(1, 0), (7, 6)])"
      ]
     },
     "execution_count": 53,
     "metadata": {},
     "output_type": "execute_result"
    }
   ],
   "source": [
    "coeffs2 = [1, 0, 0, 0, 0, 0, 7]\n",
    "p_large_order2 = Poly(coeffs2)\n",
    "p_large_order2"
   ]
  },
  {
   "cell_type": "code",
   "execution_count": 54,
   "id": "7a97bd36",
   "metadata": {},
   "outputs": [
    {
     "data": {
      "text/plain": [
       "Poly([1, 0, 0, 0, 0, 7])"
      ]
     },
     "execution_count": 54,
     "metadata": {},
     "output_type": "execute_result"
    }
   ],
   "source": [
    "coeffs3 = [1, 0, 0, 0, 0, 7]\n",
    "p_large_order3 = Poly(coeffs3)\n",
    "p_large_order3"
   ]
  },
  {
   "cell_type": "markdown",
   "id": "826ae586",
   "metadata": {},
   "source": [
    "## Using Floats"
   ]
  },
  {
   "cell_type": "markdown",
   "id": "d6e4aaff",
   "metadata": {},
   "source": [
    "Polynomial coefficients can be floats, as well as integers, or a mix of the two."
   ]
  },
  {
   "cell_type": "code",
   "execution_count": 55,
   "id": "3360222d",
   "metadata": {},
   "outputs": [
    {
     "name": "stdout",
     "output_type": "stream",
     "text": [
      "-2.2 -4x +7.3x^2 -3x^4\n"
     ]
    },
    {
     "data": {
      "text/plain": [
       "Poly([-2.2, -4, 7.3, 0, -3])"
      ]
     },
     "execution_count": 55,
     "metadata": {},
     "output_type": "execute_result"
    }
   ],
   "source": [
    "coeffs = [-2.2, -4, 7.3, -0.0, -3]\n",
    "\n",
    "p1 = Poly(coeffs)\n",
    "print(p1)\n",
    "p1"
   ]
  },
  {
   "cell_type": "code",
   "execution_count": 56,
   "id": "62c9684e",
   "metadata": {},
   "outputs": [
    {
     "name": "stdout",
     "output_type": "stream",
     "text": [
      "-2.2 -4x +7.3x^2 -3x^4\n"
     ]
    },
    {
     "data": {
      "text/plain": [
       "Poly([-2.2, -4, 7.3, 0, -3])"
      ]
     },
     "execution_count": 56,
     "metadata": {},
     "output_type": "execute_result"
    }
   ],
   "source": [
    "p2 = Poly('-2.2 -4x +7.3x^2 -3x^4')\n",
    "print(p2)\n",
    "p2"
   ]
  },
  {
   "cell_type": "markdown",
   "id": "fe608e2a",
   "metadata": {},
   "source": [
    "## Polynomial Derivatives and Antiderivatives"
   ]
  },
  {
   "cell_type": "code",
   "execution_count": 57,
   "id": "65cda358",
   "metadata": {},
   "outputs": [
    {
     "name": "stdout",
     "output_type": "stream",
     "text": [
      "-2.2 -4x +7.3x^2 -3x^4\n",
      "-4 +14.6x -12x^3\n"
     ]
    }
   ],
   "source": [
    "print(p1)\n",
    "p1_der = p1.derivative()\n",
    "print(p1_der)"
   ]
  },
  {
   "cell_type": "code",
   "execution_count": 58,
   "id": "6445b34d",
   "metadata": {},
   "outputs": [
    {
     "name": "stdout",
     "output_type": "stream",
     "text": [
      "+111 -4.0x +7.3x^2 -3.0x^4\n"
     ]
    }
   ],
   "source": [
    "p1_der_antider = p1_der.antiderivative(111)\n",
    "print(p1_der_antider)"
   ]
  },
  {
   "cell_type": "markdown",
   "id": "77189424",
   "metadata": {},
   "source": [
    "## Scratchwork"
   ]
  },
  {
   "cell_type": "code",
   "execution_count": 59,
   "id": "1f270ee9",
   "metadata": {},
   "outputs": [
    {
     "name": "stdout",
     "output_type": "stream",
     "text": [
      "r = -3 +2x +7x^2\n"
     ]
    }
   ],
   "source": [
    "r = Poly('-3 +2x +7x^2')\n",
    "print(f\"r = {r}\")"
   ]
  },
  {
   "cell_type": "code",
   "execution_count": 60,
   "id": "7fa295fc",
   "metadata": {},
   "outputs": [
    {
     "name": "stdout",
     "output_type": "stream",
     "text": [
      "s = +5 +4y\n"
     ]
    }
   ],
   "source": [
    "s = Poly('5 +4y', 'y')\n",
    "print(f\"s = {s}\")"
   ]
  },
  {
   "cell_type": "code",
   "execution_count": 61,
   "id": "4d47087b",
   "metadata": {},
   "outputs": [
    {
     "name": "stdout",
     "output_type": "stream",
     "text": [
      "-6 +4x +14x^2\n"
     ]
    }
   ],
   "source": [
    "print(2*r)"
   ]
  },
  {
   "cell_type": "code",
   "execution_count": 62,
   "id": "33a67117",
   "metadata": {},
   "outputs": [
    {
     "name": "stdout",
     "output_type": "stream",
     "text": [
      "-6 +4x +14x^2\n"
     ]
    }
   ],
   "source": [
    "print(r*2)"
   ]
  },
  {
   "cell_type": "code",
   "execution_count": 63,
   "id": "df1d7bc6",
   "metadata": {},
   "outputs": [
    {
     "name": "stdout",
     "output_type": "stream",
     "text": [
      "-7 +8x +28x^2\n"
     ]
    }
   ],
   "source": [
    "print(s(r))"
   ]
  },
  {
   "cell_type": "code",
   "execution_count": 65,
   "id": "cfb34224",
   "metadata": {},
   "outputs": [],
   "source": [
    "# print(r(s))  # ValueError: Mult: Variables must be the same, x != y"
   ]
  },
  {
   "cell_type": "markdown",
   "id": "2356aafe",
   "metadata": {},
   "source": [
    "# NumPy Polynomials"
   ]
  },
  {
   "cell_type": "markdown",
   "id": "385e1931",
   "metadata": {},
   "source": [
    "This is a better library for polynomials."
   ]
  },
  {
   "cell_type": "code",
   "execution_count": 66,
   "id": "a505fc26",
   "metadata": {},
   "outputs": [
    {
     "data": {
      "text/latex": [
       "$x \\mapsto \\text{-2.0} - \\text{4.0}\\,x + \\text{7.0}\\,x^{2}\\color{LightGray}{ + \\text{0.0}\\,x^{3}} - \\text{3.0}\\,x^{4}$"
      ],
      "text/plain": [
       "Polynomial([-2., -4.,  7.,  0., -3.], domain=[-1,  1], window=[-1,  1])"
      ]
     },
     "execution_count": 66,
     "metadata": {},
     "output_type": "execute_result"
    }
   ],
   "source": [
    "from numpy.polynomial import Polynomial\n",
    "\n",
    "poly_coeff = [-2, -4, 7, 0, -3]\n",
    "poly = Polynomial(poly_coeff)\n",
    "poly"
   ]
  },
  {
   "cell_type": "code",
   "execution_count": 67,
   "id": "3b928e91",
   "metadata": {},
   "outputs": [
    {
     "data": {
      "text/plain": [
       "-194.0"
      ]
     },
     "execution_count": 67,
     "metadata": {},
     "output_type": "execute_result"
    }
   ],
   "source": [
    "poly(3)"
   ]
  },
  {
   "cell_type": "code",
   "execution_count": 68,
   "id": "3e289ab0",
   "metadata": {},
   "outputs": [
    {
     "name": "stdout",
     "output_type": "stream",
     "text": [
      "-2.0 - 4.0·x¹ + 7.0·x² + 0.0·x³ - 3.0·x⁴\n"
     ]
    }
   ],
   "source": [
    "print(poly)"
   ]
  },
  {
   "cell_type": "code",
   "execution_count": 69,
   "id": "dd3d2252",
   "metadata": {},
   "outputs": [
    {
     "data": {
      "text/latex": [
       "$x \\mapsto \\text{1.0} + \\text{1.0}\\,x$"
      ],
      "text/plain": [
       "Polynomial([1., 1.], domain=[-1,  1], window=[-1,  1])"
      ]
     },
     "execution_count": 69,
     "metadata": {},
     "output_type": "execute_result"
    }
   ],
   "source": [
    "poly1 = Polynomial([1, 1])\n",
    "poly1"
   ]
  },
  {
   "cell_type": "code",
   "execution_count": 70,
   "id": "3f6be875",
   "metadata": {},
   "outputs": [
    {
     "data": {
      "text/latex": [
       "$x \\mapsto \\text{1.0} - \\text{1.0}\\,x$"
      ],
      "text/plain": [
       "Polynomial([ 1., -1.], domain=[-1,  1], window=[-1,  1])"
      ]
     },
     "execution_count": 70,
     "metadata": {},
     "output_type": "execute_result"
    }
   ],
   "source": [
    "poly2 = Polynomial([1, -1])\n",
    "poly2"
   ]
  },
  {
   "cell_type": "code",
   "execution_count": 71,
   "id": "96afd0d5",
   "metadata": {},
   "outputs": [
    {
     "data": {
      "text/latex": [
       "$x \\mapsto \\text{1.0}\\color{LightGray}{ + \\text{0.0}\\,x} - \\text{1.0}\\,x^{2}$"
      ],
      "text/plain": [
       "Polynomial([ 1.,  0., -1.], domain=[-1.,  1.], window=[-1.,  1.])"
      ]
     },
     "execution_count": 71,
     "metadata": {},
     "output_type": "execute_result"
    }
   ],
   "source": [
    "poly1 * poly2"
   ]
  },
  {
   "cell_type": "code",
   "execution_count": null,
   "id": "82b30ac5",
   "metadata": {},
   "outputs": [],
   "source": [
    "# help(Polynomial)"
   ]
  }
 ],
 "metadata": {
  "kernelspec": {
   "display_name": "Python 3",
   "language": "python",
   "name": "python3"
  },
  "language_info": {
   "codemirror_mode": {
    "name": "ipython",
    "version": 3
   },
   "file_extension": ".py",
   "mimetype": "text/x-python",
   "name": "python",
   "nbconvert_exporter": "python",
   "pygments_lexer": "ipython3",
   "version": "3.7.7"
  }
 },
 "nbformat": 4,
 "nbformat_minor": 5
}
