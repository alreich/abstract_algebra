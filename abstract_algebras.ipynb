{
 "cells": [
  {
   "cell_type": "markdown",
   "id": "b24f476f",
   "metadata": {},
   "source": [
    "# Abstract Algebras"
   ]
  },
  {
   "cell_type": "markdown",
   "id": "413f5f72",
   "metadata": {},
   "source": [
    "## References"
   ]
  },
  {
   "cell_type": "markdown",
   "id": "4b496ade",
   "metadata": {},
   "source": [
    "* [Group Explorer](https://nathancarter.github.io/group-explorer/index.html) -- Visualization software for the abstract algebra classroom\n",
    "* [Groupprops, The Group Properties Wiki (beta)](https://groupprops.subwiki.org/wiki/Main_Page)\n",
    "* [Klein four-group, V4](https://en.wikipedia.org/wiki/Klein_four-group)\n",
    "* [Cyclic group](https://en.wikipedia.org/wiki/Cyclic_group)"
   ]
  },
  {
   "cell_type": "markdown",
   "id": "625666f5",
   "metadata": {},
   "source": [
    "## Imports and Paths"
   ]
  },
  {
   "cell_type": "code",
   "execution_count": 1,
   "id": "375757a2",
   "metadata": {},
   "outputs": [],
   "source": [
    "import algebras as alg\n",
    "import json\n",
    "import os"
   ]
  },
  {
   "cell_type": "code",
   "execution_count": 2,
   "id": "88f1dbef",
   "metadata": {},
   "outputs": [],
   "source": [
    "# Path to this repo\n",
    "aa_path = os.path.join(os.getenv('PYPROJ'), 'abstract_algebra')\n",
    "\n",
    "# Path to a directory containing Algebra definitions in JSON\n",
    "alg_dir = os.path.join(aa_path, \"Algebras\")"
   ]
  },
  {
   "cell_type": "markdown",
   "id": "5ed52f08",
   "metadata": {},
   "source": [
    "### Klein-4 Group"
   ]
  },
  {
   "cell_type": "markdown",
   "id": "e831bce5",
   "metadata": {},
   "source": [
    "See this [definition at GitHub](https://github.com/nathancarter/group-explorer/blob/master/groups/V_4.group)."
   ]
  },
  {
   "cell_type": "code",
   "execution_count": 3,
   "id": "8cabc159",
   "metadata": {},
   "outputs": [
    {
     "name": "stdout",
     "output_type": "stream",
     "text": [
      "{\"type\": \"Group\",\r\n",
      " \"name\": \"V4\",\r\n",
      " \"description\": \"Klein-4 group\",\r\n",
      " \"elements\": [\"e\", \"h\", \"v\", \"hv\"],\r\n",
      " \"addition_table\": [[0, 1, 2, 3],\r\n",
      "                    [1, 0, 3, 2],\r\n",
      "                    [2, 3, 0, 1],\r\n",
      "                    [3, 2, 1, 0]]\r\n",
      "}\r\n"
     ]
    }
   ],
   "source": [
    "v4_json = os.path.join(alg_dir, \"v4_klein_4_group.json\")\n",
    "\n",
    "!cat {v4_json}"
   ]
  },
  {
   "cell_type": "code",
   "execution_count": 4,
   "id": "bd99748b",
   "metadata": {},
   "outputs": [
    {
     "data": {
      "text/plain": [
       "Group('V4', 'Klein-4 group', ['e', 'h', 'v', 'hv'], [[0, 1, 2, 3], [1, 0, 3, 2], [2, 3, 0, 1], [3, 2, 1, 0]])"
      ]
     },
     "execution_count": 4,
     "metadata": {},
     "output_type": "execute_result"
    }
   ],
   "source": [
    "v4 = alg.Group(v4_json)\n",
    "v4"
   ]
  },
  {
   "cell_type": "code",
   "execution_count": 5,
   "id": "68a3672c",
   "metadata": {},
   "outputs": [
    {
     "data": {
      "text/plain": [
       "{'type': 'Group',\n",
       " 'name': 'V4',\n",
       " 'description': 'Klein-4 group',\n",
       " 'elements': ['e', 'h', 'v', 'hv'],\n",
       " 'addition_table': [[0, 1, 2, 3], [1, 0, 3, 2], [2, 3, 0, 1], [3, 2, 1, 0]]}"
      ]
     },
     "execution_count": 5,
     "metadata": {},
     "output_type": "execute_result"
    }
   ],
   "source": [
    "v4.to_dict()"
   ]
  },
  {
   "cell_type": "code",
   "execution_count": 6,
   "id": "60a47408",
   "metadata": {},
   "outputs": [
    {
     "data": {
      "text/plain": [
       "[['e', 'h', 'v', 'hv'],\n",
       " ['h', 'e', 'hv', 'v'],\n",
       " ['v', 'hv', 'e', 'h'],\n",
       " ['hv', 'v', 'h', 'e']]"
      ]
     },
     "execution_count": 6,
     "metadata": {},
     "output_type": "execute_result"
    }
   ],
   "source": [
    "v4.addition_table_with_names()"
   ]
  },
  {
   "cell_type": "code",
   "execution_count": 7,
   "id": "fd2d9e10",
   "metadata": {},
   "outputs": [
    {
     "data": {
      "text/plain": [
       "True"
      ]
     },
     "execution_count": 7,
     "metadata": {},
     "output_type": "execute_result"
    }
   ],
   "source": [
    "v4.abelian()"
   ]
  },
  {
   "cell_type": "markdown",
   "id": "b6b6ac02",
   "metadata": {},
   "source": [
    "The group can also be created at the command line:"
   ]
  },
  {
   "cell_type": "code",
   "execution_count": 8,
   "id": "6b6e6050",
   "metadata": {},
   "outputs": [
    {
     "data": {
      "text/plain": [
       "Group('V4x', 'Klein-4 group', ['e', 'h', 'v', 'hv'], [[0, 1, 2, 3], [1, 0, 3, 2], [2, 3, 0, 1], [3, 2, 1, 0]])"
      ]
     },
     "execution_count": 8,
     "metadata": {},
     "output_type": "execute_result"
    }
   ],
   "source": [
    "v4x = alg.Group('V4x',\n",
    "                'Klein-4 group',\n",
    "                ['e',  'h',  'v', 'hv'],\n",
    "                [[0, 1, 2, 3],\n",
    "                 [1, 0, 3, 2],\n",
    "                 [2, 3, 0, 1],\n",
    "                 [3, 2, 1, 0]]\n",
    "               )\n",
    "\n",
    "v4x"
   ]
  },
  {
   "cell_type": "code",
   "execution_count": 9,
   "id": "da23a98f",
   "metadata": {},
   "outputs": [
    {
     "data": {
      "text/plain": [
       "'hv'"
      ]
     },
     "execution_count": 9,
     "metadata": {},
     "output_type": "execute_result"
    }
   ],
   "source": [
    "v4.add('h','v')"
   ]
  },
  {
   "cell_type": "code",
   "execution_count": 10,
   "id": "b9087565",
   "metadata": {},
   "outputs": [
    {
     "name": "stdout",
     "output_type": "stream",
     "text": [
      "inv(e) = e\n",
      "inv(h) = h\n",
      "inv(v) = v\n",
      "inv(hv) = hv\n"
     ]
    }
   ],
   "source": [
    "for elem in v4.elements:\n",
    "    print(f\"inv({elem}) = {v4.inverse(elem)}\")"
   ]
  },
  {
   "cell_type": "code",
   "execution_count": 11,
   "id": "e98e5d12",
   "metadata": {},
   "outputs": [
    {
     "name": "stdout",
     "output_type": "stream",
     "text": [
      "<Group: V4, Klein-4 group>\n"
     ]
    }
   ],
   "source": [
    "print(v4)"
   ]
  },
  {
   "cell_type": "code",
   "execution_count": 12,
   "id": "8e53bb81",
   "metadata": {},
   "outputs": [
    {
     "data": {
      "text/plain": [
       "'{\"type\": \"Group\", \"name\": \"V4\", \"description\": \"Klein-4 group\", \"elements\": [\"e\", \"h\", \"v\", \"hv\"], \"addition_table\": [[0, 1, 2, 3], [1, 0, 3, 2], [2, 3, 0, 1], [3, 2, 1, 0]]}'"
      ]
     },
     "execution_count": 12,
     "metadata": {},
     "output_type": "execute_result"
    }
   ],
   "source": [
    "v4json = json.dumps(v4.to_dict())\n",
    "v4json"
   ]
  },
  {
   "cell_type": "markdown",
   "id": "c730ee0b",
   "metadata": {},
   "source": [
    "### Cyclic group of order 4"
   ]
  },
  {
   "cell_type": "markdown",
   "id": "34fc055a",
   "metadata": {},
   "source": [
    "See this [definition at GitHub](https://github.com/nathancarter/group-explorer/blob/master/groups/Z_4.group)."
   ]
  },
  {
   "cell_type": "code",
   "execution_count": 13,
   "id": "9a56c613",
   "metadata": {},
   "outputs": [],
   "source": [
    "z4 = alg.Group('Z4',\n",
    "           'Cyclic group of order 4',\n",
    "           ['e', 'a', 'a^2', 'a^3'],\n",
    "           [[0, 1, 2, 3],\n",
    "            [1, 2, 3, 0],\n",
    "            [2, 3, 0, 1],\n",
    "            [3, 0, 1, 2]]\n",
    "          )"
   ]
  },
  {
   "cell_type": "code",
   "execution_count": 14,
   "id": "806aca10",
   "metadata": {},
   "outputs": [
    {
     "data": {
      "text/plain": [
       "[['e', 'a', 'a^2', 'a^3'],\n",
       " ['a', 'a^2', 'a^3', 'e'],\n",
       " ['a^2', 'a^3', 'e', 'a'],\n",
       " ['a^3', 'e', 'a', 'a^2']]"
      ]
     },
     "execution_count": 14,
     "metadata": {},
     "output_type": "execute_result"
    }
   ],
   "source": [
    "z4.addition_table_with_names()"
   ]
  },
  {
   "cell_type": "code",
   "execution_count": 15,
   "id": "3bb6e6c9",
   "metadata": {},
   "outputs": [
    {
     "name": "stdout",
     "output_type": "stream",
     "text": [
      "<Group: Z4, Cyclic group of order 4>\n"
     ]
    }
   ],
   "source": [
    "print(z4)"
   ]
  },
  {
   "cell_type": "code",
   "execution_count": 16,
   "id": "ac3ae4d2",
   "metadata": {},
   "outputs": [
    {
     "data": {
      "text/plain": [
       "'e'"
      ]
     },
     "execution_count": 16,
     "metadata": {},
     "output_type": "execute_result"
    }
   ],
   "source": [
    "z4.add('a^2','a^2')"
   ]
  },
  {
   "cell_type": "code",
   "execution_count": 17,
   "id": "01911a9c",
   "metadata": {},
   "outputs": [
    {
     "data": {
      "text/plain": [
       "'a'"
      ]
     },
     "execution_count": 17,
     "metadata": {},
     "output_type": "execute_result"
    }
   ],
   "source": [
    "z4.add('a^2', 'a^3')"
   ]
  },
  {
   "cell_type": "code",
   "execution_count": 18,
   "id": "3f0a2231",
   "metadata": {},
   "outputs": [
    {
     "name": "stdout",
     "output_type": "stream",
     "text": [
      "inv(e) = e\n",
      "inv(a) = a^3\n",
      "inv(a^2) = a^2\n",
      "inv(a^3) = a\n"
     ]
    }
   ],
   "source": [
    "for elem in z4.elements:\n",
    "    print(f\"inv({elem}) = {z4.inverse(elem)}\")"
   ]
  },
  {
   "cell_type": "code",
   "execution_count": 19,
   "id": "e936359b",
   "metadata": {},
   "outputs": [
    {
     "data": {
      "text/plain": [
       "True"
      ]
     },
     "execution_count": 19,
     "metadata": {},
     "output_type": "execute_result"
    }
   ],
   "source": [
    "z4.abelian()"
   ]
  },
  {
   "cell_type": "markdown",
   "id": "1198909b",
   "metadata": {},
   "source": [
    "### Symmetric group on 3 letters"
   ]
  },
  {
   "cell_type": "markdown",
   "id": "8d79d7ae",
   "metadata": {},
   "source": [
    "See this [definition at GitHub](https://github.com/nathancarter/group-explorer/blob/master/groups/S_3.group). \"Another name for this group is \"Dihedral group on 3 vertices.\""
   ]
  },
  {
   "cell_type": "code",
   "execution_count": 20,
   "id": "f384f2ba",
   "metadata": {},
   "outputs": [],
   "source": [
    "s3 = alg.Group('S3',\n",
    "           'Symmetric group on 3 letters',\n",
    "           ['e', 'r', 'r^2', 'f', 'fr', 'rf'],\n",
    "           [[0, 1, 2, 3, 4, 5],\n",
    "            [1, 2, 0, 5, 3, 4],\n",
    "            [2, 0, 1, 4, 5, 3],\n",
    "            [3, 4, 5, 0, 1, 2],\n",
    "            [4, 5, 3, 2, 0, 1],\n",
    "            [5, 3, 4, 1, 2, 0]]\n",
    "          )"
   ]
  },
  {
   "cell_type": "code",
   "execution_count": 21,
   "id": "0d1a05da",
   "metadata": {},
   "outputs": [
    {
     "data": {
      "text/plain": [
       "[['e', 'r', 'r^2', 'f', 'fr', 'rf'],\n",
       " ['r', 'r^2', 'e', 'rf', 'f', 'fr'],\n",
       " ['r^2', 'e', 'r', 'fr', 'rf', 'f'],\n",
       " ['f', 'fr', 'rf', 'e', 'r', 'r^2'],\n",
       " ['fr', 'rf', 'f', 'r^2', 'e', 'r'],\n",
       " ['rf', 'f', 'fr', 'r', 'r^2', 'e']]"
      ]
     },
     "execution_count": 21,
     "metadata": {},
     "output_type": "execute_result"
    }
   ],
   "source": [
    "s3.addition_table_with_names()"
   ]
  },
  {
   "cell_type": "code",
   "execution_count": 22,
   "id": "8a02d07f",
   "metadata": {},
   "outputs": [
    {
     "name": "stdout",
     "output_type": "stream",
     "text": [
      "<Group: S3, Symmetric group on 3 letters>\n"
     ]
    }
   ],
   "source": [
    "print(s3)"
   ]
  },
  {
   "cell_type": "code",
   "execution_count": 23,
   "id": "c1e63fa9",
   "metadata": {},
   "outputs": [
    {
     "data": {
      "text/plain": [
       "'f'"
      ]
     },
     "execution_count": 23,
     "metadata": {},
     "output_type": "execute_result"
    }
   ],
   "source": [
    "s3.add('fr', 'r^2')"
   ]
  },
  {
   "cell_type": "code",
   "execution_count": 24,
   "id": "ee64b9c4",
   "metadata": {},
   "outputs": [
    {
     "data": {
      "text/plain": [
       "False"
      ]
     },
     "execution_count": 24,
     "metadata": {},
     "output_type": "execute_result"
    }
   ],
   "source": [
    "s3.abelian()"
   ]
  },
  {
   "cell_type": "code",
   "execution_count": 25,
   "id": "630b6733",
   "metadata": {},
   "outputs": [
    {
     "name": "stdout",
     "output_type": "stream",
     "text": [
      "inv(e) = e\n",
      "inv(r) = r^2\n",
      "inv(r^2) = r\n",
      "inv(f) = f\n",
      "inv(fr) = fr\n",
      "inv(rf) = rf\n"
     ]
    }
   ],
   "source": [
    "for elem in s3.elements:\n",
    "    print(f\"inv({elem}) = {s3.inverse(elem)}\")"
   ]
  },
  {
   "cell_type": "code",
   "execution_count": 26,
   "id": "455f73fc",
   "metadata": {},
   "outputs": [
    {
     "data": {
      "text/plain": [
       "Group('S3', 'Symmetric group on 3 letters', ['e', 'r', 'r^2', 'f', 'fr', 'rf'], [[0, 1, 2, 3, 4, 5], [1, 2, 0, 5, 3, 4], [2, 0, 1, 4, 5, 3], [3, 4, 5, 0, 1, 2], [4, 5, 3, 2, 0, 1], [5, 3, 4, 1, 2, 0]])"
      ]
     },
     "execution_count": 26,
     "metadata": {},
     "output_type": "execute_result"
    }
   ],
   "source": [
    "s3"
   ]
  },
  {
   "cell_type": "markdown",
   "id": "bc4346fb",
   "metadata": {},
   "source": [
    "### Symmetric Group, S3 (not same as S3, above)"
   ]
  },
  {
   "cell_type": "markdown",
   "id": "c422b519",
   "metadata": {},
   "source": [
    "This is the [Symmetric group, S3, as specified at Groupprops](https://groupprops.subwiki.org/wiki/Symmetric_group:S3).\n",
    "\n",
    "W.r.t., how to interpret the addition table, the following quote helps:\n",
    "\n",
    "[[from Wikipedia](https://groupprops.subwiki.org/wiki/Symmetric_group:S3)] \"We portray elements as permutations on the set \\{ 1,2,3 \\} using the cycle decomposition. The row element is added on the left and the column element on the right, with the assumption of functions written on the left. This means that the column element is applied first and the row element is applied next.\""
   ]
  },
  {
   "cell_type": "code",
   "execution_count": 27,
   "id": "4b4a1982",
   "metadata": {},
   "outputs": [],
   "source": [
    "s3x = alg.Group('S3X',\n",
    "           'Another version of the symmetric group on 3 letters',\n",
    "           ['()', '(1,2)', '(2,3)', '(1,3)', '(1,2,3)', '(1,3,2)'],\n",
    "           [[0, 1, 2, 3, 4, 5],\n",
    "            [1, 0, 4, 5, 2, 3],\n",
    "            [2, 5, 0, 4, 3, 1],\n",
    "            [3, 4, 5, 0, 1, 2],\n",
    "            [4, 3, 1, 2, 5, 0],\n",
    "            [5, 2, 3, 1, 0, 4]]\n",
    "          )"
   ]
  },
  {
   "cell_type": "code",
   "execution_count": 28,
   "id": "842931a7",
   "metadata": {},
   "outputs": [
    {
     "data": {
      "text/plain": [
       "False"
      ]
     },
     "execution_count": 28,
     "metadata": {},
     "output_type": "execute_result"
    }
   ],
   "source": [
    "s3x.abelian()"
   ]
  },
  {
   "cell_type": "code",
   "execution_count": 29,
   "id": "585c4218",
   "metadata": {},
   "outputs": [
    {
     "data": {
      "text/plain": [
       "[['()', '(1,2)', '(2,3)', '(1,3)', '(1,2,3)', '(1,3,2)'],\n",
       " ['(1,2)', '()', '(1,2,3)', '(1,3,2)', '(2,3)', '(1,3)'],\n",
       " ['(2,3)', '(1,3,2)', '()', '(1,2,3)', '(1,3)', '(1,2)'],\n",
       " ['(1,3)', '(1,2,3)', '(1,3,2)', '()', '(1,2)', '(2,3)'],\n",
       " ['(1,2,3)', '(1,3)', '(1,2)', '(2,3)', '(1,3,2)', '()'],\n",
       " ['(1,3,2)', '(2,3)', '(1,3)', '(1,2)', '()', '(1,2,3)']]"
      ]
     },
     "execution_count": 29,
     "metadata": {},
     "output_type": "execute_result"
    }
   ],
   "source": [
    "s3x.addition_table_with_names()"
   ]
  },
  {
   "cell_type": "code",
   "execution_count": 30,
   "id": "9243835b",
   "metadata": {},
   "outputs": [
    {
     "data": {
      "text/plain": [
       "'(1,2,3)'"
      ]
     },
     "execution_count": 30,
     "metadata": {},
     "output_type": "execute_result"
    }
   ],
   "source": [
    "s3x.add('(1,2)', '(2,3)')"
   ]
  },
  {
   "cell_type": "code",
   "execution_count": 31,
   "id": "df43954a",
   "metadata": {},
   "outputs": [
    {
     "name": "stdout",
     "output_type": "stream",
     "text": [
      "inv(()) = ()\n",
      "inv((1,2)) = (1,2)\n",
      "inv((2,3)) = (2,3)\n",
      "inv((1,3)) = (1,3)\n",
      "inv((1,2,3)) = (1,3,2)\n",
      "inv((1,3,2)) = (1,2,3)\n"
     ]
    }
   ],
   "source": [
    "for elem in s3x.elements:\n",
    "    print(f\"inv({elem}) = {s3x.inverse(elem)}\")"
   ]
  },
  {
   "cell_type": "markdown",
   "id": "df99ab63",
   "metadata": {},
   "source": [
    "## Z_2 x Z_2 x Z_2"
   ]
  },
  {
   "cell_type": "code",
   "execution_count": 32,
   "id": "4b1f6eee",
   "metadata": {},
   "outputs": [],
   "source": [
    "Z2xZ2xZ2 = alg.Group('Z_2 x Z_2 x Z_2',\n",
    "                 'no description',\n",
    "                 ['eee', 'aee', 'eae', 'aae', 'eea', 'aea', 'eaa', 'aaa'],\n",
    "                 [[0, 1, 2, 3, 4, 5, 6, 7],\n",
    "                  [1, 0, 3, 2, 5, 4, 7, 6],\n",
    "                  [2, 3, 0, 1, 6, 7, 4, 5],\n",
    "                  [3, 2, 1, 0, 7, 6, 5, 4],\n",
    "                  [4, 5, 6, 7, 0, 1, 2, 3],\n",
    "                  [5, 4, 7, 6, 1, 0, 3, 2],\n",
    "                  [6, 7, 4, 5, 2, 3, 0, 1],\n",
    "                  [7, 6, 5, 4, 3, 2, 1, 0]]\n",
    "                )"
   ]
  },
  {
   "cell_type": "code",
   "execution_count": 33,
   "id": "f4906aa4",
   "metadata": {},
   "outputs": [
    {
     "data": {
      "text/plain": [
       "True"
      ]
     },
     "execution_count": 33,
     "metadata": {},
     "output_type": "execute_result"
    }
   ],
   "source": [
    "Z2xZ2xZ2.abelian()"
   ]
  },
  {
   "cell_type": "code",
   "execution_count": 34,
   "id": "13686ff2",
   "metadata": {},
   "outputs": [
    {
     "data": {
      "text/plain": [
       "[['eee', 'aee', 'eae', 'aae', 'eea', 'aea', 'eaa', 'aaa'],\n",
       " ['aee', 'eee', 'aae', 'eae', 'aea', 'eea', 'aaa', 'eaa'],\n",
       " ['eae', 'aae', 'eee', 'aee', 'eaa', 'aaa', 'eea', 'aea'],\n",
       " ['aae', 'eae', 'aee', 'eee', 'aaa', 'eaa', 'aea', 'eea'],\n",
       " ['eea', 'aea', 'eaa', 'aaa', 'eee', 'aee', 'eae', 'aae'],\n",
       " ['aea', 'eea', 'aaa', 'eaa', 'aee', 'eee', 'aae', 'eae'],\n",
       " ['eaa', 'aaa', 'eea', 'aea', 'eae', 'aae', 'eee', 'aee'],\n",
       " ['aaa', 'eaa', 'aea', 'eea', 'aae', 'eae', 'aee', 'eee']]"
      ]
     },
     "execution_count": 34,
     "metadata": {},
     "output_type": "execute_result"
    }
   ],
   "source": [
    "Z2xZ2xZ2.addition_table_with_names()"
   ]
  },
  {
   "cell_type": "code",
   "execution_count": 35,
   "id": "4fab6414",
   "metadata": {},
   "outputs": [
    {
     "name": "stdout",
     "output_type": "stream",
     "text": [
      "inv(eee) = eee\n",
      "inv(aee) = aee\n",
      "inv(eae) = eae\n",
      "inv(aae) = aae\n",
      "inv(eea) = eea\n",
      "inv(aea) = aea\n",
      "inv(eaa) = eaa\n",
      "inv(aaa) = aaa\n"
     ]
    }
   ],
   "source": [
    "for elem in Z2xZ2xZ2.elements:\n",
    "    print(f\"inv({elem}) = {Z2xZ2xZ2.inverse(elem)}\")"
   ]
  },
  {
   "cell_type": "markdown",
   "id": "555746fd",
   "metadata": {},
   "source": [
    "## Direct Products"
   ]
  },
  {
   "cell_type": "code",
   "execution_count": 36,
   "id": "029d4254",
   "metadata": {},
   "outputs": [],
   "source": [
    "z2 = alg.Group('Z2',\n",
    "           'Cyclic group of order 2',\n",
    "           ['E', 'A'],\n",
    "           [[0, 1],\n",
    "            [1, 0]]\n",
    "          )\n",
    "\n",
    "z3 = alg.Group('Z3',\n",
    "           'Cyclic group of order 3',\n",
    "           ['E', 'A', 'B'],\n",
    "           [[0, 1, 2],\n",
    "            [1, 2, 0],\n",
    "            [2, 0, 1]]\n",
    "          )"
   ]
  },
  {
   "cell_type": "code",
   "execution_count": 37,
   "id": "4a794742",
   "metadata": {},
   "outputs": [
    {
     "data": {
      "text/plain": [
       "Group('Z3_x_Z3', 'Direct product of Z3 & Z3', ['E,E', 'E,A', 'E,B', 'A,E', 'A,A', 'A,B', 'B,E', 'B,A', 'B,B'], [[0, 1, 2, 3, 4, 5, 6, 7, 8], [1, 2, 0, 4, 5, 3, 7, 8, 6], [2, 0, 1, 5, 3, 4, 8, 6, 7], [3, 4, 5, 6, 7, 8, 0, 1, 2], [4, 5, 3, 7, 8, 6, 1, 2, 0], [5, 3, 4, 8, 6, 7, 2, 0, 1], [6, 7, 8, 0, 1, 2, 3, 4, 5], [7, 8, 6, 1, 2, 0, 4, 5, 3], [8, 6, 7, 2, 0, 1, 5, 3, 4]])"
      ]
     },
     "execution_count": 37,
     "metadata": {},
     "output_type": "execute_result"
    }
   ],
   "source": [
    "z3_x_z3 = z3 * z3\n",
    "z3_x_z3"
   ]
  },
  {
   "cell_type": "code",
   "execution_count": 38,
   "id": "038a370a",
   "metadata": {},
   "outputs": [
    {
     "data": {
      "text/plain": [
       "['E,E', 'E,A', 'E,B', 'A,E', 'A,A', 'A,B', 'B,E', 'B,A', 'B,B']"
      ]
     },
     "execution_count": 38,
     "metadata": {},
     "output_type": "execute_result"
    }
   ],
   "source": [
    "z3_x_z3.elements"
   ]
  },
  {
   "cell_type": "code",
   "execution_count": 39,
   "id": "db62317e",
   "metadata": {},
   "outputs": [
    {
     "data": {
      "text/plain": [
       "[[0, 1, 2, 3, 4, 5, 6, 7, 8],\n",
       " [1, 2, 0, 4, 5, 3, 7, 8, 6],\n",
       " [2, 0, 1, 5, 3, 4, 8, 6, 7],\n",
       " [3, 4, 5, 6, 7, 8, 0, 1, 2],\n",
       " [4, 5, 3, 7, 8, 6, 1, 2, 0],\n",
       " [5, 3, 4, 8, 6, 7, 2, 0, 1],\n",
       " [6, 7, 8, 0, 1, 2, 3, 4, 5],\n",
       " [7, 8, 6, 1, 2, 0, 4, 5, 3],\n",
       " [8, 6, 7, 2, 0, 1, 5, 3, 4]]"
      ]
     },
     "execution_count": 39,
     "metadata": {},
     "output_type": "execute_result"
    }
   ],
   "source": [
    "z3_x_z3.addition_table"
   ]
  },
  {
   "cell_type": "code",
   "execution_count": 40,
   "id": "c60954bd",
   "metadata": {},
   "outputs": [
    {
     "name": "stdout",
     "output_type": "stream",
     "text": [
      "inv(E,E) = E,E\n",
      "inv(E,A) = E,B\n",
      "inv(E,B) = E,A\n",
      "inv(A,E) = B,E\n",
      "inv(A,A) = B,B\n",
      "inv(A,B) = B,A\n",
      "inv(B,E) = A,E\n",
      "inv(B,A) = A,B\n",
      "inv(B,B) = A,A\n"
     ]
    }
   ],
   "source": [
    "for elem in z3_x_z3.elements:\n",
    "    print(f\"inv({elem}) = {z3_x_z3.inverse(elem)}\")"
   ]
  },
  {
   "cell_type": "code",
   "execution_count": 41,
   "id": "531e4255",
   "metadata": {},
   "outputs": [
    {
     "data": {
      "text/plain": [
       "True"
      ]
     },
     "execution_count": 41,
     "metadata": {},
     "output_type": "execute_result"
    }
   ],
   "source": [
    "z3_x_z3.abelian()"
   ]
  },
  {
   "cell_type": "code",
   "execution_count": 42,
   "id": "8f3312b9",
   "metadata": {},
   "outputs": [],
   "source": [
    "z2_x_z2_x_z2 = z2 * z2 * z2"
   ]
  },
  {
   "cell_type": "code",
   "execution_count": 43,
   "id": "3aa920b7",
   "metadata": {},
   "outputs": [
    {
     "data": {
      "text/plain": [
       "['E,E,E', 'E,E,A', 'E,A,E', 'E,A,A', 'A,E,E', 'A,E,A', 'A,A,E', 'A,A,A']"
      ]
     },
     "execution_count": 43,
     "metadata": {},
     "output_type": "execute_result"
    }
   ],
   "source": [
    "z2_x_z2_x_z2.elements"
   ]
  },
  {
   "cell_type": "code",
   "execution_count": 44,
   "id": "f6345de6",
   "metadata": {},
   "outputs": [
    {
     "data": {
      "text/plain": [
       "[[0, 1, 2, 3, 4, 5, 6, 7],\n",
       " [1, 0, 3, 2, 5, 4, 7, 6],\n",
       " [2, 3, 0, 1, 6, 7, 4, 5],\n",
       " [3, 2, 1, 0, 7, 6, 5, 4],\n",
       " [4, 5, 6, 7, 0, 1, 2, 3],\n",
       " [5, 4, 7, 6, 1, 0, 3, 2],\n",
       " [6, 7, 4, 5, 2, 3, 0, 1],\n",
       " [7, 6, 5, 4, 3, 2, 1, 0]]"
      ]
     },
     "execution_count": 44,
     "metadata": {},
     "output_type": "execute_result"
    }
   ],
   "source": [
    "z2_x_z2_x_z2.addition_table"
   ]
  },
  {
   "cell_type": "code",
   "execution_count": 45,
   "id": "7160be6f",
   "metadata": {},
   "outputs": [
    {
     "name": "stdout",
     "output_type": "stream",
     "text": [
      "inv(E,E,E) = E,E,E\n",
      "inv(E,E,A) = E,E,A\n",
      "inv(E,A,E) = E,A,E\n",
      "inv(E,A,A) = E,A,A\n",
      "inv(A,E,E) = A,E,E\n",
      "inv(A,E,A) = A,E,A\n",
      "inv(A,A,E) = A,A,E\n",
      "inv(A,A,A) = A,A,A\n"
     ]
    }
   ],
   "source": [
    "for elem in z2_x_z2_x_z2.elements:\n",
    "    print(f\"inv({elem}) = {z2_x_z2_x_z2.inverse(elem)}\")"
   ]
  },
  {
   "cell_type": "markdown",
   "id": "d6ef35dd",
   "metadata": {},
   "source": [
    "## Tesseract group"
   ]
  },
  {
   "cell_type": "markdown",
   "id": "014d13ba",
   "metadata": {},
   "source": [
    "This group has 385 elements and was converted to JSON from [this definition](https://github.com/nathancarter/group-explorer/blob/master/groups/Tesseract.group)."
   ]
  },
  {
   "cell_type": "code",
   "execution_count": 46,
   "id": "9f6c0d93",
   "metadata": {},
   "outputs": [
    {
     "name": "stdout",
     "output_type": "stream",
     "text": [
      "<Group: Tesseract, The symmetries of the hypercube>\n"
     ]
    }
   ],
   "source": [
    "tesseract_path = os.path.join(alg_dir, \"tesseract.json\")\n",
    "tesseract = alg.Group(tesseract_path)\n",
    "print(tesseract)"
   ]
  },
  {
   "cell_type": "code",
   "execution_count": 47,
   "id": "266c7a40",
   "metadata": {},
   "outputs": [
    {
     "data": {
      "text/plain": [
       "False"
      ]
     },
     "execution_count": 47,
     "metadata": {},
     "output_type": "execute_result"
    }
   ],
   "source": [
    "tesseract.abelian()"
   ]
  },
  {
   "cell_type": "code",
   "execution_count": 48,
   "id": "05af4b91",
   "metadata": {},
   "outputs": [
    {
     "data": {
      "text/plain": [
       "384"
      ]
     },
     "execution_count": 48,
     "metadata": {},
     "output_type": "execute_result"
    }
   ],
   "source": [
    "len(tesseract.elements)"
   ]
  },
  {
   "cell_type": "markdown",
   "id": "68e84e99",
   "metadata": {},
   "source": [
    "Here are the first n elements:"
   ]
  },
  {
   "cell_type": "code",
   "execution_count": 49,
   "id": "c6694a45",
   "metadata": {},
   "outputs": [
    {
     "data": {
      "text/plain": [
       "['e',\n",
       " 'a',\n",
       " 'b',\n",
       " 'ba',\n",
       " 'bb',\n",
       " 'bba',\n",
       " 'ab',\n",
       " 'aba',\n",
       " 'bab',\n",
       " 'baba',\n",
       " 'bbab',\n",
       " 'abababba',\n",
       " 'abb',\n",
       " 'abba',\n",
       " 'babb',\n",
       " 'abababbab',\n",
       " 'ababa',\n",
       " 'abab',\n",
       " 'abbab',\n",
       " 'acabababbac',\n",
       " 'babbab',\n",
       " 'ababbab',\n",
       " 'ababb',\n",
       " 'ababba',\n",
       " 'c']"
      ]
     },
     "execution_count": 49,
     "metadata": {},
     "output_type": "execute_result"
    }
   ],
   "source": [
    "n = 25\n",
    "tesseract.elements[:n]"
   ]
  },
  {
   "cell_type": "code",
   "execution_count": 50,
   "id": "eb1afefb",
   "metadata": {},
   "outputs": [
    {
     "data": {
      "text/plain": [
       "'babbab'"
      ]
     },
     "execution_count": 50,
     "metadata": {},
     "output_type": "execute_result"
    }
   ],
   "source": [
    "tesseract.add('abab', 'baba')"
   ]
  },
  {
   "cell_type": "markdown",
   "id": "085dcf28",
   "metadata": {},
   "source": [
    "## Scratch Work"
   ]
  },
  {
   "cell_type": "code",
   "execution_count": 51,
   "id": "95dc3ce8",
   "metadata": {},
   "outputs": [
    {
     "data": {
      "text/plain": [
       "Group('Z3_x_Z3', 'Direct product of Z3 & Z3', ['E,E', 'E,A', 'E,B', 'A,E', 'A,A', 'A,B', 'B,E', 'B,A', 'B,B'], [[0, 1, 2, 3, 4, 5, 6, 7, 8], [1, 2, 0, 4, 5, 3, 7, 8, 6], [2, 0, 1, 5, 3, 4, 8, 6, 7], [3, 4, 5, 6, 7, 8, 0, 1, 2], [4, 5, 3, 7, 8, 6, 1, 2, 0], [5, 3, 4, 8, 6, 7, 2, 0, 1], [6, 7, 8, 0, 1, 2, 3, 4, 5], [7, 8, 6, 1, 2, 0, 4, 5, 3], [8, 6, 7, 2, 0, 1, 5, 3, 4]])"
      ]
     },
     "execution_count": 51,
     "metadata": {},
     "output_type": "execute_result"
    }
   ],
   "source": [
    "z3_x_z3"
   ]
  },
  {
   "cell_type": "code",
   "execution_count": 52,
   "id": "2c32b97e",
   "metadata": {},
   "outputs": [
    {
     "data": {
      "text/plain": [
       "['E,E', 'E,A', 'E,B', 'A,E', 'A,A', 'A,B', 'B,E', 'B,A', 'B,B']"
      ]
     },
     "execution_count": 52,
     "metadata": {},
     "output_type": "execute_result"
    }
   ],
   "source": [
    "z3_x_z3.elements"
   ]
  },
  {
   "cell_type": "code",
   "execution_count": 53,
   "id": "c0d87d73",
   "metadata": {},
   "outputs": [
    {
     "data": {
      "text/plain": [
       "Group('Z3', 'Cyclic group of order 3', ['E', 'A', 'B'], [[0, 1, 2], [1, 2, 0], [2, 0, 1]])"
      ]
     },
     "execution_count": 53,
     "metadata": {},
     "output_type": "execute_result"
    }
   ],
   "source": [
    "z3"
   ]
  },
  {
   "cell_type": "code",
   "execution_count": 54,
   "id": "31524d72",
   "metadata": {},
   "outputs": [
    {
     "data": {
      "text/plain": [
       "Group('S3', 'Symmetric group on 3 letters', ['e', 'r', 'r^2', 'f', 'fr', 'rf'], [[0, 1, 2, 3, 4, 5], [1, 2, 0, 5, 3, 4], [2, 0, 1, 4, 5, 3], [3, 4, 5, 0, 1, 2], [4, 5, 3, 2, 0, 1], [5, 3, 4, 1, 2, 0]])"
      ]
     },
     "execution_count": 54,
     "metadata": {},
     "output_type": "execute_result"
    }
   ],
   "source": [
    "s3"
   ]
  },
  {
   "cell_type": "code",
   "execution_count": 55,
   "id": "1ef02fb6",
   "metadata": {},
   "outputs": [],
   "source": [
    "z3.set_direct_product_delimiter(':')"
   ]
  },
  {
   "cell_type": "code",
   "execution_count": 56,
   "id": "91325ee7",
   "metadata": {},
   "outputs": [
    {
     "data": {
      "text/plain": [
       "Group('S3_x_Z3', 'Direct product of S3 & Z3', ['e,E', 'e,A', 'e,B', 'r,E', 'r,A', 'r,B', 'r^2,E', 'r^2,A', 'r^2,B', 'f,E', 'f,A', 'f,B', 'fr,E', 'fr,A', 'fr,B', 'rf,E', 'rf,A', 'rf,B'], [[0, 1, 2, 3, 4, 5, 6, 7, 8, 9, 10, 11, 12, 13, 14, 15, 16, 17], [1, 2, 0, 4, 5, 3, 7, 8, 6, 10, 11, 9, 13, 14, 12, 16, 17, 15], [2, 0, 1, 5, 3, 4, 8, 6, 7, 11, 9, 10, 14, 12, 13, 17, 15, 16], [3, 4, 5, 6, 7, 8, 0, 1, 2, 15, 16, 17, 9, 10, 11, 12, 13, 14], [4, 5, 3, 7, 8, 6, 1, 2, 0, 16, 17, 15, 10, 11, 9, 13, 14, 12], [5, 3, 4, 8, 6, 7, 2, 0, 1, 17, 15, 16, 11, 9, 10, 14, 12, 13], [6, 7, 8, 0, 1, 2, 3, 4, 5, 12, 13, 14, 15, 16, 17, 9, 10, 11], [7, 8, 6, 1, 2, 0, 4, 5, 3, 13, 14, 12, 16, 17, 15, 10, 11, 9], [8, 6, 7, 2, 0, 1, 5, 3, 4, 14, 12, 13, 17, 15, 16, 11, 9, 10], [9, 10, 11, 12, 13, 14, 15, 16, 17, 0, 1, 2, 3, 4, 5, 6, 7, 8], [10, 11, 9, 13, 14, 12, 16, 17, 15, 1, 2, 0, 4, 5, 3, 7, 8, 6], [11, 9, 10, 14, 12, 13, 17, 15, 16, 2, 0, 1, 5, 3, 4, 8, 6, 7], [12, 13, 14, 15, 16, 17, 9, 10, 11, 6, 7, 8, 0, 1, 2, 3, 4, 5], [13, 14, 12, 16, 17, 15, 10, 11, 9, 7, 8, 6, 1, 2, 0, 4, 5, 3], [14, 12, 13, 17, 15, 16, 11, 9, 10, 8, 6, 7, 2, 0, 1, 5, 3, 4], [15, 16, 17, 9, 10, 11, 12, 13, 14, 3, 4, 5, 6, 7, 8, 0, 1, 2], [16, 17, 15, 10, 11, 9, 13, 14, 12, 4, 5, 3, 7, 8, 6, 1, 2, 0], [17, 15, 16, 11, 9, 10, 14, 12, 13, 5, 3, 4, 8, 6, 7, 2, 0, 1]])"
      ]
     },
     "execution_count": 56,
     "metadata": {},
     "output_type": "execute_result"
    }
   ],
   "source": [
    "foo = s3 * z3\n",
    "foo"
   ]
  },
  {
   "cell_type": "code",
   "execution_count": 57,
   "id": "b1d75818",
   "metadata": {},
   "outputs": [
    {
     "data": {
      "text/plain": [
       "False"
      ]
     },
     "execution_count": 57,
     "metadata": {},
     "output_type": "execute_result"
    }
   ],
   "source": [
    "foo.abelian()"
   ]
  },
  {
   "cell_type": "code",
   "execution_count": null,
   "id": "9b3fbb36",
   "metadata": {},
   "outputs": [],
   "source": []
  },
  {
   "cell_type": "code",
   "execution_count": null,
   "id": "d60d0e96",
   "metadata": {},
   "outputs": [],
   "source": []
  },
  {
   "cell_type": "code",
   "execution_count": 58,
   "id": "e89c7dc3",
   "metadata": {},
   "outputs": [
    {
     "data": {
      "text/plain": [
       "[[0, 1, 2, 3, 4, 5],\n",
       " [1, 2, 0, 5, 3, 4],\n",
       " [2, 0, 1, 4, 5, 3],\n",
       " [3, 4, 5, 0, 1, 2],\n",
       " [4, 5, 3, 2, 0, 1],\n",
       " [5, 3, 4, 1, 2, 0]]"
      ]
     },
     "execution_count": 58,
     "metadata": {},
     "output_type": "execute_result"
    }
   ],
   "source": [
    "s3.addition_table"
   ]
  },
  {
   "cell_type": "code",
   "execution_count": 59,
   "id": "205baa97",
   "metadata": {},
   "outputs": [
    {
     "data": {
      "text/plain": [
       "[0, 1, 2, 3, 4, 5]"
      ]
     },
     "execution_count": 59,
     "metadata": {},
     "output_type": "execute_result"
    }
   ],
   "source": [
    "s3.table_column(0)"
   ]
  },
  {
   "cell_type": "code",
   "execution_count": 60,
   "id": "f950cf9e",
   "metadata": {},
   "outputs": [
    {
     "data": {
      "text/plain": [
       "[0, 1, 2, 3, 4, 5]"
      ]
     },
     "execution_count": 60,
     "metadata": {},
     "output_type": "execute_result"
    }
   ],
   "source": [
    "s3.table_column(0)"
   ]
  },
  {
   "cell_type": "code",
   "execution_count": 61,
   "id": "26d9e40e",
   "metadata": {},
   "outputs": [
    {
     "data": {
      "text/plain": [
       "[2, 0, 1, 5, 3, 4]"
      ]
     },
     "execution_count": 61,
     "metadata": {},
     "output_type": "execute_result"
    }
   ],
   "source": [
    "s3.table_column(2)"
   ]
  },
  {
   "cell_type": "code",
   "execution_count": 62,
   "id": "5502409c",
   "metadata": {},
   "outputs": [],
   "source": [
    "def get_table_column(table, n):\n",
    "    return [row[n] for row in table]"
   ]
  },
  {
   "cell_type": "code",
   "execution_count": 63,
   "id": "9e70406c",
   "metadata": {},
   "outputs": [
    {
     "data": {
      "text/plain": [
       "True"
      ]
     },
     "execution_count": 63,
     "metadata": {},
     "output_type": "execute_result"
    }
   ],
   "source": [
    "s3.addition_table_ok()"
   ]
  },
  {
   "cell_type": "code",
   "execution_count": 64,
   "id": "4879295d",
   "metadata": {},
   "outputs": [
    {
     "data": {
      "text/plain": [
       "True"
      ]
     },
     "execution_count": 64,
     "metadata": {},
     "output_type": "execute_result"
    }
   ],
   "source": [
    "tesseract.addition_table_ok()"
   ]
  },
  {
   "cell_type": "code",
   "execution_count": 65,
   "id": "ca571b16",
   "metadata": {},
   "outputs": [
    {
     "data": {
      "text/plain": [
       "147456"
      ]
     },
     "execution_count": 65,
     "metadata": {},
     "output_type": "execute_result"
    }
   ],
   "source": [
    "384*384"
   ]
  },
  {
   "cell_type": "code",
   "execution_count": null,
   "id": "6eb479e4",
   "metadata": {},
   "outputs": [],
   "source": []
  }
 ],
 "metadata": {
  "kernelspec": {
   "display_name": "Python 3",
   "language": "python",
   "name": "python3"
  },
  "language_info": {
   "codemirror_mode": {
    "name": "ipython",
    "version": 3
   },
   "file_extension": ".py",
   "mimetype": "text/x-python",
   "name": "python",
   "nbconvert_exporter": "python",
   "pygments_lexer": "ipython3",
   "version": "3.7.7"
  }
 },
 "nbformat": 4,
 "nbformat_minor": 5
}
