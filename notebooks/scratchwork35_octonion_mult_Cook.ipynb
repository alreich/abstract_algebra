{
 "cells": [
  {
   "cell_type": "markdown",
   "id": "0016e677",
   "metadata": {},
   "source": [
    "# Octonion Multiplication"
   ]
  },
  {
   "cell_type": "markdown",
   "id": "1ec1e6cc",
   "metadata": {},
   "source": [
    "Examples from blog posts by [John D. Cook](https://www.johndcook.com/blog/services-2/)"
   ]
  },
  {
   "cell_type": "markdown",
   "id": "8ec98832",
   "metadata": {},
   "source": [
    "## How far is xy from yx on average for quaternions? [5 July 2018](https://www.johndcook.com/blog/2018/07/05/quaternion-multiplication/)"
   ]
  },
  {
   "cell_type": "code",
   "execution_count": 7,
   "id": "7e56e302",
   "metadata": {},
   "outputs": [
    {
     "name": "stdout",
     "output_type": "stream",
     "text": [
      "1.129737502391203\n"
     ]
    }
   ],
   "source": [
    "import numpy as np\n",
    "    \n",
    "def random_unit_quaternion():\n",
    "    x = np.random.normal(size=4)\n",
    "    return x / np.linalg.norm(x)\n",
    "    \n",
    "def mult(x, y):\n",
    "    return np.array([\n",
    "        x[0]*y[0] - x[1]*y[1] - x[2]*y[2] - x[3]*y[3],\n",
    "        x[0]*y[1] + x[1]*y[0] + x[2]*y[3] - x[3]*y[2],\n",
    "        x[0]*y[2] - x[1]*y[3] + x[2]*y[0] + x[3]*y[1],\n",
    "        x[0]*y[3] + x[1]*y[2] - x[2]*y[1] + x[3]*y[0]\n",
    "    ])\n",
    "    \n",
    "    \n",
    "N = 10000\n",
    "s = 0\n",
    "for _ in range(N):\n",
    "    x = random_unit_quaternion()\n",
    "    y = random_unit_quaternion()\n",
    "    s += np.linalg.norm(mult(x, y) - mult(y, x))\n",
    "  \n",
    "print(s/N)"
   ]
  },
  {
   "cell_type": "markdown",
   "id": "9ff8b276",
   "metadata": {},
   "source": [
    "## Weakening the requirements of a group [8 July 2018](https://www.johndcook.com/blog/2018/07/08/weak-groups/)"
   ]
  },
  {
   "cell_type": "markdown",
   "id": "d16e18da",
   "metadata": {},
   "source": [
    "## Python code for octonion and sedenion multiplication [9 July 2018](https://www.johndcook.com/blog/2018/07/09/octonioin-multiplication/)"
   ]
  },
  {
   "cell_type": "code",
   "execution_count": 8,
   "id": "4e20208e",
   "metadata": {},
   "outputs": [],
   "source": [
    "import numpy as np\n",
    "\n",
    "# quaternion multiplication\n",
    "def qmult(x, y):\n",
    "    return np.array([\n",
    "        x[0]*y[0] - x[1]*y[1] - x[2]*y[2] - x[3]*y[3],\n",
    "        x[0]*y[1] + x[1]*y[0] + x[2]*y[3] - x[3]*y[2],\n",
    "        x[0]*y[2] - x[1]*y[3] + x[2]*y[0] + x[3]*y[1],\n",
    "        x[0]*y[3] + x[1]*y[2] - x[2]*y[1] + x[3]*y[0]\n",
    "   ])\n",
    "\n",
    "# quaternion conjugate\n",
    "def qstar(x):\n",
    "    return x*np.array([1, -1, -1, -1])\n",
    "\n",
    "# octonion multiplication\n",
    "def omult(x, y):\n",
    "    # Split octonions into pairs of quaternions\n",
    "    a, b = x[:4], x[4:]\n",
    "    c, d = y[:4], y[4:]\n",
    "   \n",
    "    z = np.zeros(8)\n",
    "    z[:4] = qmult(a, c) - qmult(qstar(d), b)\n",
    "    z[4:] = qmult(d, a) + qmult(b, qstar(c))\n",
    "    return z"
   ]
  },
  {
   "cell_type": "code",
   "execution_count": 9,
   "id": "27f4e682",
   "metadata": {},
   "outputs": [],
   "source": [
    "from numpy.linalg import norm\n",
    "\n",
    "def random_unit_octonion():\n",
    "    x = np.random.normal(size=8)\n",
    "    return x / norm(x)\n",
    "\n",
    "x = random_unit_octonion()\n",
    "y = random_unit_octonion()\n",
    "z = random_unit_octonion()"
   ]
  },
  {
   "cell_type": "code",
   "execution_count": 17,
   "id": "2a321947",
   "metadata": {},
   "outputs": [
    {
     "name": "stdout",
     "output_type": "stream",
     "text": [
      "[ 0.73496342 -0.07692169 -0.51074567  0.25060754  0.07788417  0.14005789\n",
      "  0.01241653 -0.3231257 ]\n",
      "[-0.45353352  0.44214854  0.14672527  0.39704963 -0.16636928 -0.18117144\n",
      " -0.46888457  0.37320335]\n",
      "[-0.71368288 -0.21918625 -0.00957934  0.48588364 -0.11007475  0.1893148\n",
      "  0.2200518   0.33175311]\n"
     ]
    }
   ],
   "source": [
    "print(x)\n",
    "print(y)\n",
    "print(z)"
   ]
  },
  {
   "cell_type": "code",
   "execution_count": 18,
   "id": "f41da4cf",
   "metadata": {},
   "outputs": [],
   "source": [
    "eps = 1e-15\n",
    "\n",
    "# alternative identities\n",
    "\n",
    "a = omult(omult(x, x), y)\n",
    "b = omult(x, omult(x, y))\n",
    "assert( norm(a - b) < eps )\n",
    "\n",
    "a = omult(omult(x, y), y)\n",
    "b = omult(x, omult(y, y))\n",
    "assert( norm(a - b) < eps )"
   ]
  },
  {
   "cell_type": "code",
   "execution_count": 19,
   "id": "82e87077",
   "metadata": {},
   "outputs": [],
   "source": [
    "# Moufang identities\n",
    "    \n",
    "a = omult(z, omult(x, omult(z, y)))\n",
    "b = omult(omult(omult(z, x), z), y)\n",
    "assert( norm(a - b) < eps )\n",
    "\n",
    "a = omult(x, omult(z, omult(y, z)))\n",
    "b = omult(omult(omult(x, z), y), z)\n",
    "assert( norm(a - b) < eps )\n",
    "\n",
    "a = omult(omult(z,x), omult(y, z))\n",
    "b = omult(omult(z, omult(x, y)), z)\n",
    "assert( norm(a  - b) < eps )\n",
    "\n",
    "a = omult(omult(z,x), omult(y, z))\n",
    "b = omult(z, omult(omult(x, y), z))\n",
    "assert( norm(a - b) < eps )"
   ]
  },
  {
   "cell_type": "code",
   "execution_count": 20,
   "id": "0f1eadab",
   "metadata": {},
   "outputs": [],
   "source": [
    "# norm condition\n",
    "n = norm(omult(omult(x, y), z))\n",
    "assert( abs(n - 1) < eps )"
   ]
  },
  {
   "cell_type": "code",
   "execution_count": 21,
   "id": "b136179a",
   "metadata": {},
   "outputs": [],
   "source": [
    "def ostar(x):\n",
    "    mask = -np.ones(8)\n",
    "    mask[0] = 1\n",
    "    return x*mask\n",
    " \n",
    "# sedenion multiplication\n",
    "def smult(x, y):\n",
    "    # Split sedenions into pairs of octonions\n",
    "    a, b = x[:8], x[8:]\n",
    "    c, d = y[:8], y[8:]\n",
    "    z = np.zeros(16)\n",
    "    z[:8] = omult(a, c) - omult(ostar(d), b)\n",
    "    e[8:] = omult(d, a) + omult(b, ostar(c))\n",
    "    return z"
   ]
  },
  {
   "cell_type": "code",
   "execution_count": 22,
   "id": "142b69b1",
   "metadata": {},
   "outputs": [
    {
     "data": {
      "text/plain": [
       "array([ 0.73496342, -0.07692169, -0.51074567,  0.25060754,  0.07788417,\n",
       "        0.14005789,  0.01241653, -0.3231257 ])"
      ]
     },
     "execution_count": 22,
     "metadata": {},
     "output_type": "execute_result"
    }
   ],
   "source": [
    "x"
   ]
  },
  {
   "cell_type": "code",
   "execution_count": 23,
   "id": "8561bd9a",
   "metadata": {},
   "outputs": [
    {
     "data": {
      "text/plain": [
       "array([ 0.73496342,  0.07692169,  0.51074567, -0.25060754, -0.07788417,\n",
       "       -0.14005789, -0.01241653,  0.3231257 ])"
      ]
     },
     "execution_count": 23,
     "metadata": {},
     "output_type": "execute_result"
    }
   ],
   "source": [
    "ostar(x)"
   ]
  },
  {
   "cell_type": "markdown",
   "id": "a3984f14",
   "metadata": {},
   "source": [
    "## Refactored code for division algebras [10 July 2018](https://www.johndcook.com/blog/2018/07/10/cayley-dickson/)"
   ]
  },
  {
   "cell_type": "code",
   "execution_count": 24,
   "id": "fb2e5316",
   "metadata": {},
   "outputs": [],
   "source": [
    "def conj(x):\n",
    "        xstar = -x\n",
    "        xstar[0] *= -1\n",
    "        return xstar \n",
    "\n",
    "def CayleyDickson(x, y):\n",
    "    n = len(x)\n",
    "\n",
    "    if n == 1:\n",
    "        return x*y\n",
    "\n",
    "    m = n // 2\n",
    "\n",
    "    a, b = x[:m], x[m:]\n",
    "    c, d = y[:m], y[m:]\n",
    "    z = np.zeros(n)\n",
    "    z[:m] = CayleyDickson(a, c) - CayleyDickson(conj(d), b)\n",
    "    z[m:] = CayleyDickson(d, a) + CayleyDickson(b, conj(c))\n",
    "    return z"
   ]
  },
  {
   "cell_type": "code",
   "execution_count": 26,
   "id": "64be3f60",
   "metadata": {},
   "outputs": [
    {
     "name": "stdout",
     "output_type": "stream",
     "text": [
      "[ 0.73496342 -0.07692169 -0.51074567  0.25060754  0.07788417  0.14005789\n",
      "  0.01241653 -0.3231257 ]\n",
      "[ 0.73496342  0.07692169  0.51074567 -0.25060754 -0.07788417 -0.14005789\n",
      " -0.01241653  0.3231257 ]\n"
     ]
    }
   ],
   "source": [
    "print(x)\n",
    "print(conj(x))"
   ]
  },
  {
   "cell_type": "code",
   "execution_count": 28,
   "id": "3b942788",
   "metadata": {},
   "outputs": [
    {
     "name": "stdout",
     "output_type": "stream",
     "text": [
      "[-0.15913853  0.27635344  0.44010145  0.43142703 -0.5690915  -0.19754899\n",
      " -0.06152452  0.38962692]\n"
     ]
    }
   ],
   "source": [
    "print(CayleyDickson(x, y))"
   ]
  },
  {
   "cell_type": "code",
   "execution_count": null,
   "id": "ba2f0d95",
   "metadata": {},
   "outputs": [],
   "source": []
  }
 ],
 "metadata": {
  "kernelspec": {
   "display_name": "Python 3 (ipykernel)",
   "language": "python",
   "name": "python3"
  },
  "language_info": {
   "codemirror_mode": {
    "name": "ipython",
    "version": 3
   },
   "file_extension": ".py",
   "mimetype": "text/x-python",
   "name": "python",
   "nbconvert_exporter": "python",
   "pygments_lexer": "ipython3",
   "version": "3.11.5"
  }
 },
 "nbformat": 4,
 "nbformat_minor": 5
}
