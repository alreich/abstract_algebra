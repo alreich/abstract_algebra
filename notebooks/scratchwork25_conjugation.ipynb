{
 "cells": [
  {
   "cell_type": "markdown",
   "id": "a50b27f4",
   "metadata": {},
   "source": [
    "# Conjugation"
   ]
  },
  {
   "cell_type": "code",
   "execution_count": 1,
   "id": "3151c155",
   "metadata": {},
   "outputs": [],
   "source": [
    "import finite_algebras as alg\n",
    "import numpy as np"
   ]
  },
  {
   "cell_type": "code",
   "execution_count": 2,
   "id": "aa96f363",
   "metadata": {},
   "outputs": [],
   "source": [
    "F3 = alg.generate_algebra_mod_n(3, elem_name='')\n",
    "F3sqr = F3.sqr()\n",
    "F3quad = F3sqr.sqr()"
   ]
  },
  {
   "cell_type": "code",
   "execution_count": 3,
   "id": "2c84367d",
   "metadata": {},
   "outputs": [],
   "source": [
    "a1 = '2'\n",
    "b1 = '1:2'\n",
    "c1 = '1:2:2:1'"
   ]
  },
  {
   "cell_type": "code",
   "execution_count": 4,
   "id": "15b3e0d5",
   "metadata": {},
   "outputs": [],
   "source": [
    "conj_a1 = '2'\n",
    "conj_b1 = '1:1'\n",
    "conj_c1 = ''"
   ]
  },
  {
   "cell_type": "raw",
   "id": "fa7e3947",
   "metadata": {},
   "source": [
    "def conj_NEW(ring, elem):\n",
    "    \"\"\"Return the conjugate of the element according to the following recursive definition:\n",
    "    conj(a) = a, conj(a:b) = (conj(a), -b).\n",
    "    \"\"\"\n",
    "    delimiter = ring.direct_product_delimiter()\n",
    "    if delimiter in elem:  # eg: '1:2' or '1:2:2:1'\n",
    "        head, tail = ring.split_element(elem)  # eg: '1', '2' or '1:2', '2:1'\n",
    "        zero = ring.zero  # '0:0' or '0:0:0:0'\n",
    "        if delimiter in zero:\n",
    "            z = ring.split_element(zero)[1]  # '0' or '0:0'\n",
    "        else:\n",
    "            z = zero\n",
    "        tailx = delimiter.join([tail, z])  # eg: '2:0' or '2:1:0:0'\n",
    "        tail_neg = ring.inv(tailx)  # eg: '1:0' or '1:2:0:0'\n",
    "        tailx0 = ring.split_element(tail_neg)[0]  # eg: '1' or '1:2'\n",
    "        return delimiter.join([head, tailx0])  # eg: '1:1' or '1:2:1:2'\n",
    "    else:  # eg: '1'\n",
    "        return elem"
   ]
  },
  {
   "cell_type": "code",
   "execution_count": 6,
   "id": "829247b4",
   "metadata": {},
   "outputs": [
    {
     "name": "stdout",
     "output_type": "stream",
     "text": [
      "  Element = 1:2:2:1\n",
      "conj(1:2) = 1:1\n",
      "   -(2:1) = 1:2\n",
      "conj(1:2:2:1) = 1:1:1:2\n",
      "\n",
      "Actual = 1:2:1:2  <--(False)\n"
     ]
    }
   ],
   "source": [
    "base = F3sqr\n",
    "base2= F3quad\n",
    "# base = R4cda\n",
    "# base2 = R4cda2\n",
    "\n",
    "elem = c1\n",
    "a, b = base2.split_element(elem)\n",
    "print(f\"  Element = {elem}\")\n",
    "\n",
    "# conj_a = base.conj(a)\n",
    "conj_a = conj_NEW(base, a)\n",
    "neg_b = base.inv(b)\n",
    "print(f\"conj({a}) = {conj_a}\")\n",
    "print(f\"   -({b}) = {neg_b}\")\n",
    "\n",
    "conj_elem = \":\".join([conj_a, neg_b])\n",
    "print(f\"conj({elem}) = {conj_elem}\")\n",
    "\n",
    "# actual = base2.conj(elem)\n",
    "actual = conj_NEW(base2, elem)\n",
    "print(f\"\\nActual = {actual}  <--({conj_elem == actual})\")"
   ]
  },
  {
   "cell_type": "code",
   "execution_count": null,
   "id": "e0ab63b9",
   "metadata": {},
   "outputs": [],
   "source": []
  },
  {
   "cell_type": "code",
   "execution_count": null,
   "id": "5d2d8c46",
   "metadata": {},
   "outputs": [],
   "source": []
  },
  {
   "cell_type": "code",
   "execution_count": 7,
   "id": "e8a8ec8f",
   "metadata": {},
   "outputs": [],
   "source": [
    "base = F3sqr\n",
    "base2= F3quad\n",
    "# base = R4cda\n",
    "# base2 = R4cda2"
   ]
  },
  {
   "cell_type": "code",
   "execution_count": 29,
   "id": "cde5f989",
   "metadata": {},
   "outputs": [
    {
     "name": "stdout",
     "output_type": "stream",
     "text": [
      "  Element = 1:2\n"
     ]
    }
   ],
   "source": []
  },
  {
   "cell_type": "code",
   "execution_count": 43,
   "id": "c446f3f6",
   "metadata": {},
   "outputs": [
    {
     "name": "stdout",
     "output_type": "stream",
     "text": [
      "Element = 1:2\n",
      "1 2\n",
      "0 0\n",
      "2:0\n",
      "1:0\n",
      "1 0\n"
     ]
    }
   ],
   "source": [
    "# rng = F3quad\n",
    "# elem = c1\n",
    "rng = F3sqr\n",
    "elem = b1\n",
    "print(f\"Element = {elem}\")\n",
    "\n",
    "if delim in elem:  # '1:2:2:1'\n",
    "    a, b = rng.split_element(elem)\n",
    "    print(a, b)  # '1:2', '2:1'\n",
    "\n",
    "    z1, z2 = rng.split_element(rng.zero)\n",
    "    print(z1, z2)  # '0:0', '0:0'\n",
    "\n",
    "    delim = rng.direct_product_delimiter()\n",
    "    bz = delim.join([b, z2])\n",
    "    print(bz)  # '2:1:0:0'\n",
    "\n",
    "    neg_bz = rng.inv(bz)\n",
    "    print(neg_bz)  # '1:2:0:0'\n",
    "\n",
    "    bz1, bz2 = rng.split_element(neg_bz)\n",
    "    print(bz1, bz2)  # '1:2', '0:0'"
   ]
  },
  {
   "cell_type": "code",
   "execution_count": 147,
   "id": "2a5aff2f",
   "metadata": {},
   "outputs": [],
   "source": [
    "def printv(message, verbose=True):\n",
    "    \"\"\"Print if verbose\"\"\"\n",
    "    if verbose:\n",
    "        print(message)\n",
    "\n",
    "def neg_imag_part(ring, imag, zero):\n",
    "    printv(f\"BEGIN: neg_imag_part({imag})\")\n",
    "    delim = ring.direct_product_delimiter()\n",
    "    if delim in imag:\n",
    "        \n",
    "        a, b = ring.split_element(imag)\n",
    "        printv(f\"a, b = {a}, {b}\")  # '1:2', '2:1'\n",
    "        \n",
    "        z1, z2 = ring.split_element(zero)\n",
    "        printv(f\"z1, z2 = {z1}, {z2}\")  # '0:0', '0:0'\n",
    "        \n",
    "        bz = delim.join([b, z2])\n",
    "        printv(f\"bz = {bz}\")  # '2:1:0:0'\n",
    "        \n",
    "        neg_bz = ring.inv(bz)\n",
    "        printv(f\"neg_bz = {neg_bz}\")  # '1:2:0:0'\n",
    "        \n",
    "        bz1, bz2 = ring.split_element(neg_bz)\n",
    "        printv(f\"bz1, bz2 = {bz1}, {bz2}\")  # '1:2', '0:0'\n",
    "        \n",
    "        return bz1\n",
    "    else:\n",
    "        return ring.inv(imag)\n",
    "\n",
    "def conj(ring, elem, zero=None):\n",
    "    printv(f\"BEGIN: conj({elem})\")\n",
    "    delim = ring.direct_product_delimiter()\n",
    "\n",
    "    if delim in elem:\n",
    "\n",
    "        a, _ = ring.split_element(elem)\n",
    "        printv(f\"a = {a}\")\n",
    "\n",
    "        if zero is None:\n",
    "            z1, _ = ring.split_element(ring.zero)\n",
    "        else:\n",
    "            z1, _ = ring.split_element(zero)\n",
    "        neg_imag = neg_imag_part(ring, elem, z1)\n",
    "        printv(f\"neg_imag = {neg_imag}\")\n",
    "        \n",
    "        result = delim.join([conj(ring, a), neg_imag])\n",
    "        printv(f\"result = {result}\")\n",
    "        \n",
    "        return result\n",
    "    else:\n",
    "        return elem"
   ]
  },
  {
   "cell_type": "code",
   "execution_count": 148,
   "id": "0618fa62",
   "metadata": {},
   "outputs": [
    {
     "name": "stdout",
     "output_type": "stream",
     "text": [
      "1:2\n"
     ]
    },
    {
     "data": {
      "text/plain": [
       "'1'"
      ]
     },
     "execution_count": 148,
     "metadata": {},
     "output_type": "execute_result"
    }
   ],
   "source": [
    "print(b1)\n",
    "negate_second_part(F3sqr, b1)"
   ]
  },
  {
   "cell_type": "code",
   "execution_count": 149,
   "id": "971620d7",
   "metadata": {},
   "outputs": [
    {
     "name": "stdout",
     "output_type": "stream",
     "text": [
      "BEGIN: conj(1:2)\n",
      "a = 1\n",
      "BEGIN: neg_imag_part(1:2)\n",
      "a, b = 1, 2\n"
     ]
    },
    {
     "ename": "ValueError",
     "evalue": "not enough values to unpack (expected 2, got 1)",
     "output_type": "error",
     "traceback": [
      "\u001b[0;31m---------------------------------------------------------------------------\u001b[0m",
      "\u001b[0;31mValueError\u001b[0m                                Traceback (most recent call last)",
      "Cell \u001b[0;32mIn[149], line 1\u001b[0m\n\u001b[0;32m----> 1\u001b[0m conj(F3sqr, \u001b[38;5;124m'\u001b[39m\u001b[38;5;124m1:2\u001b[39m\u001b[38;5;124m'\u001b[39m)\n",
      "Cell \u001b[0;32mIn[147], line 43\u001b[0m, in \u001b[0;36mconj\u001b[0;34m(ring, elem, zero)\u001b[0m\n\u001b[1;32m     41\u001b[0m \u001b[38;5;28;01melse\u001b[39;00m:\n\u001b[1;32m     42\u001b[0m     z1, _ \u001b[38;5;241m=\u001b[39m ring\u001b[38;5;241m.\u001b[39msplit_element(zero)\n\u001b[0;32m---> 43\u001b[0m neg_imag \u001b[38;5;241m=\u001b[39m neg_imag_part(ring, elem, z1)\n\u001b[1;32m     44\u001b[0m printv(\u001b[38;5;124mf\u001b[39m\u001b[38;5;124m\"\u001b[39m\u001b[38;5;124mneg_imag = \u001b[39m\u001b[38;5;132;01m{\u001b[39;00mneg_imag\u001b[38;5;132;01m}\u001b[39;00m\u001b[38;5;124m\"\u001b[39m)\n\u001b[1;32m     46\u001b[0m result \u001b[38;5;241m=\u001b[39m delim\u001b[38;5;241m.\u001b[39mjoin([conj(ring, a), neg_imag])\n",
      "Cell \u001b[0;32mIn[147], line 14\u001b[0m, in \u001b[0;36mneg_imag_part\u001b[0;34m(ring, imag, zero)\u001b[0m\n\u001b[1;32m     11\u001b[0m a, b \u001b[38;5;241m=\u001b[39m ring\u001b[38;5;241m.\u001b[39msplit_element(imag)\n\u001b[1;32m     12\u001b[0m printv(\u001b[38;5;124mf\u001b[39m\u001b[38;5;124m\"\u001b[39m\u001b[38;5;124ma, b = \u001b[39m\u001b[38;5;132;01m{\u001b[39;00ma\u001b[38;5;132;01m}\u001b[39;00m\u001b[38;5;124m, \u001b[39m\u001b[38;5;132;01m{\u001b[39;00mb\u001b[38;5;132;01m}\u001b[39;00m\u001b[38;5;124m\"\u001b[39m)  \u001b[38;5;66;03m# '1:2', '2:1'\u001b[39;00m\n\u001b[0;32m---> 14\u001b[0m z1, z2 \u001b[38;5;241m=\u001b[39m ring\u001b[38;5;241m.\u001b[39msplit_element(zero)\n\u001b[1;32m     15\u001b[0m printv(\u001b[38;5;124mf\u001b[39m\u001b[38;5;124m\"\u001b[39m\u001b[38;5;124mz1, z2 = \u001b[39m\u001b[38;5;132;01m{\u001b[39;00mz1\u001b[38;5;132;01m}\u001b[39;00m\u001b[38;5;124m, \u001b[39m\u001b[38;5;132;01m{\u001b[39;00mz2\u001b[38;5;132;01m}\u001b[39;00m\u001b[38;5;124m\"\u001b[39m)  \u001b[38;5;66;03m# '0:0', '0:0'\u001b[39;00m\n\u001b[1;32m     17\u001b[0m bz \u001b[38;5;241m=\u001b[39m delim\u001b[38;5;241m.\u001b[39mjoin([b, z2])\n",
      "\u001b[0;31mValueError\u001b[0m: not enough values to unpack (expected 2, got 1)"
     ]
    }
   ],
   "source": [
    "conj(F3sqr, '1:2')"
   ]
  },
  {
   "cell_type": "code",
   "execution_count": 142,
   "id": "680a5796",
   "metadata": {},
   "outputs": [
    {
     "name": "stdout",
     "output_type": "stream",
     "text": [
      "BEGIN: conj(0:0)\n",
      "a = 0\n",
      "BEGIN: neg_imag_part(0:0)\n",
      "a, b = 0, 0\n",
      "z1, z2 = 0, 0\n",
      "bz = 0:0\n",
      "neg_bz = 0:0\n",
      "bz1, bz2 = 0, 0\n",
      "neg_imag = 0\n",
      "BEGIN: conj(0)\n",
      "result = 0:0\n",
      "0:0 --> 0:0\n",
      "BEGIN: conj(0:1)\n",
      "a = 0\n",
      "BEGIN: neg_imag_part(0:1)\n",
      "a, b = 0, 1\n",
      "z1, z2 = 0, 0\n",
      "bz = 1:0\n",
      "neg_bz = 2:0\n",
      "bz1, bz2 = 2, 0\n",
      "neg_imag = 2\n",
      "BEGIN: conj(0)\n",
      "result = 0:2\n",
      "0:1 --> 0:2\n",
      "BEGIN: conj(0:2)\n",
      "a = 0\n",
      "BEGIN: neg_imag_part(0:2)\n",
      "a, b = 0, 2\n",
      "z1, z2 = 0, 0\n",
      "bz = 2:0\n",
      "neg_bz = 1:0\n",
      "bz1, bz2 = 1, 0\n",
      "neg_imag = 1\n",
      "BEGIN: conj(0)\n",
      "result = 0:1\n",
      "0:2 --> 0:1\n",
      "BEGIN: conj(1:0)\n",
      "a = 1\n",
      "BEGIN: neg_imag_part(1:0)\n",
      "a, b = 1, 0\n",
      "z1, z2 = 0, 0\n",
      "bz = 0:0\n",
      "neg_bz = 0:0\n",
      "bz1, bz2 = 0, 0\n",
      "neg_imag = 0\n",
      "BEGIN: conj(1)\n",
      "result = 1:0\n",
      "1:0 --> 1:0\n",
      "BEGIN: conj(1:1)\n",
      "a = 1\n",
      "BEGIN: neg_imag_part(1:1)\n",
      "a, b = 1, 1\n",
      "z1, z2 = 0, 0\n",
      "bz = 1:0\n",
      "neg_bz = 2:0\n",
      "bz1, bz2 = 2, 0\n",
      "neg_imag = 2\n",
      "BEGIN: conj(1)\n",
      "result = 1:2\n",
      "1:1 --> 1:2\n",
      "BEGIN: conj(1:2)\n",
      "a = 1\n",
      "BEGIN: neg_imag_part(1:2)\n",
      "a, b = 1, 2\n",
      "z1, z2 = 0, 0\n",
      "bz = 2:0\n",
      "neg_bz = 1:0\n",
      "bz1, bz2 = 1, 0\n",
      "neg_imag = 1\n",
      "BEGIN: conj(1)\n",
      "result = 1:1\n",
      "1:2 --> 1:1\n",
      "BEGIN: conj(2:0)\n",
      "a = 2\n",
      "BEGIN: neg_imag_part(2:0)\n",
      "a, b = 2, 0\n",
      "z1, z2 = 0, 0\n",
      "bz = 0:0\n",
      "neg_bz = 0:0\n",
      "bz1, bz2 = 0, 0\n",
      "neg_imag = 0\n",
      "BEGIN: conj(2)\n",
      "result = 2:0\n",
      "2:0 --> 2:0\n",
      "BEGIN: conj(2:1)\n",
      "a = 2\n",
      "BEGIN: neg_imag_part(2:1)\n",
      "a, b = 2, 1\n",
      "z1, z2 = 0, 0\n",
      "bz = 1:0\n",
      "neg_bz = 2:0\n",
      "bz1, bz2 = 2, 0\n",
      "neg_imag = 2\n",
      "BEGIN: conj(2)\n",
      "result = 2:2\n",
      "2:1 --> 2:2\n",
      "BEGIN: conj(2:2)\n",
      "a = 2\n",
      "BEGIN: neg_imag_part(2:2)\n",
      "a, b = 2, 2\n",
      "z1, z2 = 0, 0\n",
      "bz = 2:0\n",
      "neg_bz = 1:0\n",
      "bz1, bz2 = 1, 0\n",
      "neg_imag = 1\n",
      "BEGIN: conj(2)\n",
      "result = 2:1\n",
      "2:2 --> 2:1\n"
     ]
    }
   ],
   "source": [
    "for elem in F3sqr:\n",
    "    print(f\"{elem} --> {conj(F3sqr, elem)}\")"
   ]
  },
  {
   "cell_type": "code",
   "execution_count": 143,
   "id": "1f1d13a8",
   "metadata": {},
   "outputs": [
    {
     "name": "stdout",
     "output_type": "stream",
     "text": [
      "BEGIN: conj(1:2:2:1)\n",
      "a = 1:2\n",
      "BEGIN: neg_imag_part(1:2:2:1)\n",
      "a, b = 1:2, 2:1\n",
      "z1, z2 = 0:0, 0:0\n",
      "bz = 2:1:0:0\n",
      "neg_bz = 1:2:0:0\n",
      "bz1, bz2 = 1:2, 0:0\n",
      "neg_imag = 1:2\n",
      "BEGIN: conj(1:2)\n",
      "a = 1\n",
      "BEGIN: neg_imag_part(1:2)\n",
      "a, b = 1, 2\n",
      "z1, z2 = 0:0, 0:0\n",
      "bz = 2:0:0\n"
     ]
    },
    {
     "ename": "KeyError",
     "evalue": "'2:0:0'",
     "output_type": "error",
     "traceback": [
      "\u001b[0;31m---------------------------------------------------------------------------\u001b[0m",
      "\u001b[0;31mKeyError\u001b[0m                                  Traceback (most recent call last)",
      "Cell \u001b[0;32mIn[143], line 1\u001b[0m\n\u001b[0;32m----> 1\u001b[0m conj(F3quad, \u001b[38;5;124m'\u001b[39m\u001b[38;5;124m1:2:2:1\u001b[39m\u001b[38;5;124m'\u001b[39m)\n",
      "Cell \u001b[0;32mIn[139], line 44\u001b[0m, in \u001b[0;36mconj\u001b[0;34m(ring, elem, zero)\u001b[0m\n\u001b[1;32m     41\u001b[0m neg_imag \u001b[38;5;241m=\u001b[39m neg_imag_part(ring, elem, zero)\n\u001b[1;32m     42\u001b[0m printv(\u001b[38;5;124mf\u001b[39m\u001b[38;5;124m\"\u001b[39m\u001b[38;5;124mneg_imag = \u001b[39m\u001b[38;5;132;01m{\u001b[39;00mneg_imag\u001b[38;5;132;01m}\u001b[39;00m\u001b[38;5;124m\"\u001b[39m)\n\u001b[0;32m---> 44\u001b[0m result \u001b[38;5;241m=\u001b[39m delim\u001b[38;5;241m.\u001b[39mjoin([conj(ring, a), neg_imag])\n\u001b[1;32m     45\u001b[0m printv(\u001b[38;5;124mf\u001b[39m\u001b[38;5;124m\"\u001b[39m\u001b[38;5;124mresult = \u001b[39m\u001b[38;5;132;01m{\u001b[39;00mresult\u001b[38;5;132;01m}\u001b[39;00m\u001b[38;5;124m\"\u001b[39m)\n\u001b[1;32m     47\u001b[0m \u001b[38;5;28;01mreturn\u001b[39;00m result\n",
      "Cell \u001b[0;32mIn[139], line 41\u001b[0m, in \u001b[0;36mconj\u001b[0;34m(ring, elem, zero)\u001b[0m\n\u001b[1;32m     39\u001b[0m \u001b[38;5;28;01mif\u001b[39;00m zero \u001b[38;5;129;01mis\u001b[39;00m \u001b[38;5;28;01mNone\u001b[39;00m:\n\u001b[1;32m     40\u001b[0m     zero \u001b[38;5;241m=\u001b[39m ring\u001b[38;5;241m.\u001b[39mzero\n\u001b[0;32m---> 41\u001b[0m neg_imag \u001b[38;5;241m=\u001b[39m neg_imag_part(ring, elem, zero)\n\u001b[1;32m     42\u001b[0m printv(\u001b[38;5;124mf\u001b[39m\u001b[38;5;124m\"\u001b[39m\u001b[38;5;124mneg_imag = \u001b[39m\u001b[38;5;132;01m{\u001b[39;00mneg_imag\u001b[38;5;132;01m}\u001b[39;00m\u001b[38;5;124m\"\u001b[39m)\n\u001b[1;32m     44\u001b[0m result \u001b[38;5;241m=\u001b[39m delim\u001b[38;5;241m.\u001b[39mjoin([conj(ring, a), neg_imag])\n",
      "Cell \u001b[0;32mIn[139], line 20\u001b[0m, in \u001b[0;36mneg_imag_part\u001b[0;34m(ring, imag, zero)\u001b[0m\n\u001b[1;32m     17\u001b[0m bz \u001b[38;5;241m=\u001b[39m delim\u001b[38;5;241m.\u001b[39mjoin([b, z2])\n\u001b[1;32m     18\u001b[0m printv(\u001b[38;5;124mf\u001b[39m\u001b[38;5;124m\"\u001b[39m\u001b[38;5;124mbz = \u001b[39m\u001b[38;5;132;01m{\u001b[39;00mbz\u001b[38;5;132;01m}\u001b[39;00m\u001b[38;5;124m\"\u001b[39m)  \u001b[38;5;66;03m# '2:1:0:0'\u001b[39;00m\n\u001b[0;32m---> 20\u001b[0m neg_bz \u001b[38;5;241m=\u001b[39m ring\u001b[38;5;241m.\u001b[39minv(bz)\n\u001b[1;32m     21\u001b[0m printv(\u001b[38;5;124mf\u001b[39m\u001b[38;5;124m\"\u001b[39m\u001b[38;5;124mneg_bz = \u001b[39m\u001b[38;5;132;01m{\u001b[39;00mneg_bz\u001b[38;5;132;01m}\u001b[39;00m\u001b[38;5;124m\"\u001b[39m)  \u001b[38;5;66;03m# '1:2:0:0'\u001b[39;00m\n\u001b[1;32m     23\u001b[0m bz1, bz2 \u001b[38;5;241m=\u001b[39m ring\u001b[38;5;241m.\u001b[39msplit_element(neg_bz)\n",
      "File \u001b[0;32m~/Documents/Python/github/myrepos/abstract_algebra/src/finite_algebras.py:824\u001b[0m, in \u001b[0;36mGroup.inv\u001b[0;34m(self, element)\u001b[0m\n\u001b[1;32m    822\u001b[0m \u001b[38;5;28;01mdef\u001b[39;00m \u001b[38;5;21minv\u001b[39m(\u001b[38;5;28mself\u001b[39m, element):\n\u001b[1;32m    823\u001b[0m \u001b[38;5;250m    \u001b[39m\u001b[38;5;124;03m\"\"\"Return the inverse of an element\"\"\"\u001b[39;00m\n\u001b[0;32m--> 824\u001b[0m     \u001b[38;5;28;01mreturn\u001b[39;00m \u001b[38;5;28mself\u001b[39m\u001b[38;5;241m.\u001b[39m__inverses[element]\n",
      "\u001b[0;31mKeyError\u001b[0m: '2:0:0'"
     ]
    }
   ],
   "source": [
    "conj(F3quad, '1:2:2:1')"
   ]
  },
  {
   "cell_type": "code",
   "execution_count": null,
   "id": "184c9e97",
   "metadata": {},
   "outputs": [],
   "source": []
  },
  {
   "cell_type": "code",
   "execution_count": 68,
   "id": "4da95219",
   "metadata": {},
   "outputs": [
    {
     "ename": "KeyError",
     "evalue": "'0:0:0'",
     "output_type": "error",
     "traceback": [
      "\u001b[0;31m---------------------------------------------------------------------------\u001b[0m",
      "\u001b[0;31mKeyError\u001b[0m                                  Traceback (most recent call last)",
      "Cell \u001b[0;32mIn[68], line 2\u001b[0m\n\u001b[1;32m      1\u001b[0m \u001b[38;5;28;01mfor\u001b[39;00m elem \u001b[38;5;129;01min\u001b[39;00m F3quad:\n\u001b[0;32m----> 2\u001b[0m     \u001b[38;5;28mprint\u001b[39m(\u001b[38;5;124mf\u001b[39m\u001b[38;5;124m\"\u001b[39m\u001b[38;5;132;01m{\u001b[39;00melem\u001b[38;5;132;01m}\u001b[39;00m\u001b[38;5;124m --> \u001b[39m\u001b[38;5;132;01m{\u001b[39;00mconj(F3sqr,\u001b[38;5;250m \u001b[39melem)\u001b[38;5;132;01m}\u001b[39;00m\u001b[38;5;124m\"\u001b[39m)\n",
      "Cell \u001b[0;32mIn[66], line 5\u001b[0m, in \u001b[0;36mconj\u001b[0;34m(ring, elem)\u001b[0m\n\u001b[1;32m      3\u001b[0m \u001b[38;5;28;01mif\u001b[39;00m delim \u001b[38;5;129;01min\u001b[39;00m elem:\n\u001b[1;32m      4\u001b[0m     a, _ \u001b[38;5;241m=\u001b[39m ring\u001b[38;5;241m.\u001b[39msplit_element(elem)\n\u001b[0;32m----> 5\u001b[0m     \u001b[38;5;28;01mreturn\u001b[39;00m delim\u001b[38;5;241m.\u001b[39mjoin([conj(ring, a), neg_imag_part(ring, elem)])\n\u001b[1;32m      6\u001b[0m \u001b[38;5;28;01melse\u001b[39;00m:\n\u001b[1;32m      7\u001b[0m     \u001b[38;5;28;01mreturn\u001b[39;00m elem\n",
      "Cell \u001b[0;32mIn[64], line 7\u001b[0m, in \u001b[0;36mneg_imag_part\u001b[0;34m(ring, imag)\u001b[0m\n\u001b[1;32m      5\u001b[0m z1, z2 \u001b[38;5;241m=\u001b[39m ring\u001b[38;5;241m.\u001b[39msplit_element(ring\u001b[38;5;241m.\u001b[39mzero)\n\u001b[1;32m      6\u001b[0m bz \u001b[38;5;241m=\u001b[39m delim\u001b[38;5;241m.\u001b[39mjoin([b, z2])\n\u001b[0;32m----> 7\u001b[0m neg_bz \u001b[38;5;241m=\u001b[39m ring\u001b[38;5;241m.\u001b[39minv(bz)\n\u001b[1;32m      8\u001b[0m bz1, bz2 \u001b[38;5;241m=\u001b[39m ring\u001b[38;5;241m.\u001b[39msplit_element(neg_bz)\n\u001b[1;32m      9\u001b[0m \u001b[38;5;28;01mreturn\u001b[39;00m bz1\n",
      "File \u001b[0;32m~/Documents/Python/github/myrepos/abstract_algebra/src/finite_algebras.py:824\u001b[0m, in \u001b[0;36mGroup.inv\u001b[0;34m(self, element)\u001b[0m\n\u001b[1;32m    822\u001b[0m \u001b[38;5;28;01mdef\u001b[39;00m \u001b[38;5;21minv\u001b[39m(\u001b[38;5;28mself\u001b[39m, element):\n\u001b[1;32m    823\u001b[0m \u001b[38;5;250m    \u001b[39m\u001b[38;5;124;03m\"\"\"Return the inverse of an element\"\"\"\u001b[39;00m\n\u001b[0;32m--> 824\u001b[0m     \u001b[38;5;28;01mreturn\u001b[39;00m \u001b[38;5;28mself\u001b[39m\u001b[38;5;241m.\u001b[39m__inverses[element]\n",
      "\u001b[0;31mKeyError\u001b[0m: '0:0:0'"
     ]
    }
   ],
   "source": [
    "for elem in F3quad:\n",
    "    print(f\"{elem} --> {conj(F3sqr, elem)}\")"
   ]
  },
  {
   "cell_type": "code",
   "execution_count": null,
   "id": "5547468e",
   "metadata": {},
   "outputs": [],
   "source": []
  }
 ],
 "metadata": {
  "kernelspec": {
   "display_name": "Python 3 (ipykernel)",
   "language": "python",
   "name": "python3"
  },
  "language_info": {
   "codemirror_mode": {
    "name": "ipython",
    "version": 3
   },
   "file_extension": ".py",
   "mimetype": "text/x-python",
   "name": "python",
   "nbconvert_exporter": "python",
   "pygments_lexer": "ipython3",
   "version": "3.11.5"
  }
 },
 "nbformat": 4,
 "nbformat_minor": 5
}
