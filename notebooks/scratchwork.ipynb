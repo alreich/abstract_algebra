{
 "cells": [
  {
   "cell_type": "markdown",
   "id": "a30d559f",
   "metadata": {},
   "source": [
    "# Scratchwork"
   ]
  },
  {
   "cell_type": "code",
   "execution_count": 1,
   "id": "49bc2f00",
   "metadata": {},
   "outputs": [],
   "source": [
    "from finite_algebras import *\n",
    "from cayley_table import *\n",
    "from permutations import *"
   ]
  },
  {
   "cell_type": "code",
   "execution_count": 2,
   "id": "a691af7b",
   "metadata": {},
   "outputs": [],
   "source": [
    "import os\n",
    "aa_path = os.path.join(os.getenv(\"PYPROJ\"), \"abstract_algebra\")\n",
    "alg_dir = os.path.join(aa_path, \"Algebras\")"
   ]
  },
  {
   "cell_type": "code",
   "execution_count": 3,
   "id": "391952cb",
   "metadata": {},
   "outputs": [
    {
     "name": "stdout",
     "output_type": "stream",
     "text": [
      "======================================================================\n",
      "                           Example Algebras\n",
      "----------------------------------------------------------------------\n",
      "  15 example algebras are available.\n",
      "  Use \"get_example(INDEX)\" to retrieve a specific example,\n",
      "  where INDEX is the first number on each line below:\n",
      "----------------------------------------------------------------------\n",
      "0: A4 -- Alternating group on 4 letters (AKA Tetrahedral group)\n",
      "1: D3 -- https://en.wikipedia.org/wiki/Dihedral_group_of_order_6\n",
      "2: D4 -- Dihedral group on four vertices\n",
      "3: Pinter29 -- Non-abelian group, p.29, 'A Book of Abstract Algebra' by Charles C. Pinter\n",
      "4: RPS -- Rock, Paper, Scissors Magma\n",
      "5: S3 -- Symmetric group on 3 letters\n",
      "6: S3X -- Another version of the symmetric group on 3 letters\n",
      "7: V4 -- Klein-4 group\n",
      "8: Z4 -- Cyclic group of order 4\n",
      "9: F4 -- Field with 4 elements (from Wikipedia)\n",
      "10: mag_id -- Magma with Identity\n",
      "11: Example 1.4.1 -- See: Groupoids and Smarandache Groupoids by W. B. Vasantha Kandasamy\n",
      "12: Ex6 -- Example 6: http://www-groups.mcs.st-andrews.ac.uk/~john/MT4517/Lectures/L3.html\n",
      "13: Q8 -- Quaternion Group\n",
      "14: SD16 -- Semidihedral group of order 16\n",
      "======================================================================\n"
     ]
    }
   ],
   "source": [
    "ex = Examples(alg_dir)"
   ]
  },
  {
   "cell_type": "markdown",
   "id": "673187d4",
   "metadata": {},
   "source": [
    "## Subalgebras of a Semigroup"
   ]
  },
  {
   "cell_type": "code",
   "execution_count": 6,
   "id": "fcd41ceb",
   "metadata": {},
   "outputs": [
    {
     "name": "stdout",
     "output_type": "stream",
     "text": [
      "\n",
      "Semigroup: Example 1.4.1\n",
      "Instance ID: 140257409298640\n",
      "Description: See: Groupoids and Smarandache Groupoids by W. B. Vasantha Kandasamy\n",
      "Order: 6\n",
      "Elements: ['a', 'b', 'c', 'd', 'e', 'f']\n",
      "Identity: None\n",
      "Associative? Yes\n",
      "Commutative? No\n",
      "Has Inverses? No\n",
      "Cayley Table (showing indices):\n",
      "[[0, 3, 0, 3, 0, 3],\n",
      " [1, 4, 1, 4, 1, 4],\n",
      " [2, 5, 2, 5, 2, 5],\n",
      " [3, 0, 3, 0, 3, 0],\n",
      " [4, 1, 4, 1, 4, 1],\n",
      " [5, 2, 5, 2, 5, 2]]\n"
     ]
    }
   ],
   "source": [
    "sg = ex.get_example(11)\n",
    "sg.about()"
   ]
  },
  {
   "cell_type": "code",
   "execution_count": 7,
   "id": "a1a2833a",
   "metadata": {},
   "outputs": [
    {
     "name": "stdout",
     "output_type": "stream",
     "text": [
      "\n",
      "Subalgebras of <Semigroup:Example 1.4.1, ID:140257409298640>\n",
      "  There are 4 unique subalgebras, up to isomorphisms, out of 10 total subalgebras\n",
      "  as shown by the partitions below:\n",
      "\n",
      "3 Commutative Groups of order 2:\n",
      "      Example 1.4.1_subalgebra_0: ['c', 'f'] with identity 'c'\n",
      "      Example 1.4.1_subalgebra_2: ['a', 'd'] with identity 'a'\n",
      "      Example 1.4.1_subalgebra_3: ['b', 'e'] with identity 'e'\n",
      "\n",
      "1 Semigroup of order 3:\n",
      "      Example 1.4.1_subalgebra_1: ['a', 'c', 'e']\n",
      "\n",
      "3 Semigroups of order 2:\n",
      "      Example 1.4.1_subalgebra_4: ['c', 'e']\n",
      "      Example 1.4.1_subalgebra_8: ['a', 'e']\n",
      "      Example 1.4.1_subalgebra_9: ['a', 'c']\n",
      "\n",
      "3 Semigroups of order 4:\n",
      "      Example 1.4.1_subalgebra_5: ['a', 'c', 'd', 'f']\n",
      "      Example 1.4.1_subalgebra_6: ['b', 'c', 'e', 'f']\n",
      "      Example 1.4.1_subalgebra_7: ['a', 'b', 'd', 'e']\n",
      "\n"
     ]
    }
   ],
   "source": [
    "alg = sg\n",
    "alg_subs = alg.proper_subalgebras()\n",
    "partitions = partition_into_isomorphic_lists(alg_subs)\n",
    "about_isomorphic_partitions(sg, partitions)"
   ]
  },
  {
   "cell_type": "markdown",
   "id": "61a58e5a",
   "metadata": {},
   "source": [
    "## Subgroups of an Alternating Group"
   ]
  },
  {
   "cell_type": "code",
   "execution_count": 8,
   "id": "41187493",
   "metadata": {},
   "outputs": [
    {
     "name": "stdout",
     "output_type": "stream",
     "text": [
      "\n",
      "Group: A4\n",
      "Instance ID: 140257132515600\n",
      "Description: Alternating group on 4 letters (AKA Tetrahedral group)\n",
      "Order: 12\n",
      "Identity: ()\n",
      "Associative? Yes\n",
      "Commutative? No\n",
      "Elements:\n",
      "   Index   Name   Inverse  Order\n",
      "      0      ()      ()       1\n",
      "      1 (1 3 2) (1 2 3)       3\n",
      "      2 (1 2 3) (1 3 2)       3\n",
      "      3 (0 1)(2 3) (0 1)(2 3)       2\n",
      "      4 (0 1 2) (0 2 1)       3\n",
      "      5 (0 1 3) (0 3 1)       3\n",
      "      6 (0 3 1) (0 1 3)       3\n",
      "      7 (0 3 2) (0 2 3)       3\n",
      "      8 (0 3)(1 2) (0 3)(1 2)       2\n",
      "      9 (0 2 3) (0 3 2)       3\n",
      "     10 (0 2 1) (0 1 2)       3\n",
      "     11 (0 2)(1 3) (0 2)(1 3)       2\n",
      "Cayley Table (showing indices):\n",
      "[[0, 1, 2, 3, 4, 5, 6, 7, 8, 9, 10, 11],\n",
      " [1, 2, 0, 6, 7, 8, 10, 11, 9, 5, 3, 4],\n",
      " [2, 0, 1, 10, 11, 9, 3, 4, 5, 8, 6, 7],\n",
      " [3, 4, 5, 0, 1, 2, 9, 10, 11, 6, 7, 8],\n",
      " [4, 5, 3, 9, 10, 11, 7, 8, 6, 2, 0, 1],\n",
      " [5, 3, 4, 7, 8, 6, 0, 1, 2, 11, 9, 10],\n",
      " [6, 7, 8, 1, 2, 0, 5, 3, 4, 10, 11, 9],\n",
      " [7, 8, 6, 5, 3, 4, 11, 9, 10, 0, 1, 2],\n",
      " [8, 6, 7, 11, 9, 10, 1, 2, 0, 4, 5, 3],\n",
      " [9, 10, 11, 4, 5, 3, 2, 0, 1, 7, 8, 6],\n",
      " [10, 11, 9, 2, 0, 1, 8, 6, 7, 3, 4, 5],\n",
      " [11, 9, 10, 8, 6, 7, 4, 5, 3, 1, 2, 0]]\n"
     ]
    }
   ],
   "source": [
    "a4 = ex.get_example(0)\n",
    "a4.about()"
   ]
  },
  {
   "cell_type": "code",
   "execution_count": 10,
   "id": "3484cd3b",
   "metadata": {},
   "outputs": [
    {
     "name": "stdout",
     "output_type": "stream",
     "text": [
      "\n",
      "Subalgebras of <Group:A4, ID:140257132515600>\n",
      "  There are 3 unique subalgebras, up to isomorphisms, out of 8 total subalgebras\n",
      "  as shown by the partitions below:\n",
      "\n",
      "4 Commutative Groups of order 3 with identity '()':\n",
      "      A4_subalgebra_0: ['()', '(1 3 2)', '(1 2 3)']\n",
      "      A4_subalgebra_1: ['()', '(0 1 3)', '(0 3 1)']\n",
      "      A4_subalgebra_2: ['()', '(0 3 2)', '(0 2 3)']\n",
      "      A4_subalgebra_3: ['()', '(0 1 2)', '(0 2 1)']\n",
      "\n",
      "3 Commutative Groups of order 2 with identity '()':\n",
      "      A4_subalgebra_4: ['()', '(0 1)(2 3)']\n",
      "      A4_subalgebra_5: ['()', '(0 3)(1 2)']\n",
      "      A4_subalgebra_7: ['()', '(0 2)(1 3)']\n",
      "\n",
      "1 Commutative Normal Group of order 4 with identity '()':\n",
      "      A4_subalgebra_6: ['()', '(0 1)(2 3)', '(0 3)(1 2)', '(0 2)(1 3)']\n",
      "\n"
     ]
    }
   ],
   "source": [
    "alg = a4\n",
    "alg_subs = alg.proper_subalgebras(divisors_only=False, include_inverses=False)\n",
    "partitions = partition_into_isomorphic_lists(alg_subs)\n",
    "about_isomorphic_partitions(alg, partitions)"
   ]
  },
  {
   "cell_type": "code",
   "execution_count": null,
   "id": "d2f4a1e6",
   "metadata": {},
   "outputs": [],
   "source": []
  },
  {
   "cell_type": "code",
   "execution_count": null,
   "id": "2e15de3f",
   "metadata": {},
   "outputs": [],
   "source": []
  },
  {
   "cell_type": "code",
   "execution_count": 11,
   "id": "71a5d99b",
   "metadata": {},
   "outputs": [
    {
     "name": "stdout",
     "output_type": "stream",
     "text": [
      "\n",
      "Field: F4\n",
      "Instance ID: 140257409289168\n",
      "Description: Field with 4 elements (from Wikipedia)\n",
      "Order: 4\n",
      "Identity: 0\n",
      "Associative? Yes\n",
      "Commutative? Yes\n",
      "Elements:\n",
      "   Index   Name   Inverse  Order\n",
      "      0       0       0       1\n",
      "      1       1       1       2\n",
      "      2       a       a       2\n",
      "      3     1+a     1+a       2\n",
      "Cayley Table (showing indices):\n",
      "[[0, 1, 2, 3], [1, 0, 3, 2], [2, 3, 0, 1], [3, 2, 1, 0]]\n",
      "Mult. Identity: 1\n",
      "Mult. Commutative? Yes\n",
      "Multiplicative Cayley Table (showing indices):\n",
      "[[0, 0, 0, 0], [0, 1, 2, 3], [0, 2, 3, 1], [0, 3, 1, 2]]\n"
     ]
    }
   ],
   "source": [
    "f4 = ex.get_example(9)\n",
    "f4.about()"
   ]
  },
  {
   "cell_type": "code",
   "execution_count": 12,
   "id": "1e032b58",
   "metadata": {},
   "outputs": [
    {
     "name": "stdout",
     "output_type": "stream",
     "text": [
      "\n",
      "Subalgebras of <Field:F4, ID:140257409289168>\n",
      "  There are 1 unique subalgebras, up to isomorphisms, out of 3 total subalgebras\n",
      "  as shown by the partitions below:\n",
      "\n",
      "3 Commutative Normal Groups of order 2 with identity '0':\n",
      "      F4_subalgebra_0: ['0', '1+a']\n",
      "      F4_subalgebra_1: ['0', 'a']\n",
      "      F4_subalgebra_2: ['0', '1']\n",
      "\n"
     ]
    }
   ],
   "source": [
    "alg = f4\n",
    "alg_subs = alg.proper_subalgebras()\n",
    "partitions = partition_into_isomorphic_lists(alg_subs)\n",
    "about_isomorphic_partitions(alg, partitions)"
   ]
  },
  {
   "cell_type": "code",
   "execution_count": null,
   "id": "60a6d895",
   "metadata": {},
   "outputs": [],
   "source": []
  },
  {
   "cell_type": "code",
   "execution_count": null,
   "id": "8a56803d",
   "metadata": {},
   "outputs": [],
   "source": []
  },
  {
   "cell_type": "code",
   "execution_count": 13,
   "id": "789eb473",
   "metadata": {},
   "outputs": [
    {
     "name": "stdout",
     "output_type": "stream",
     "text": [
      "\n",
      "Ring: Ex6\n",
      "Instance ID: 140257132572624\n",
      "Description: Example 6: http://www-groups.mcs.st-andrews.ac.uk/~john/MT4517/Lectures/L3.html\n",
      "Order: 4\n",
      "Identity: 0\n",
      "Associative? Yes\n",
      "Commutative? Yes\n",
      "Elements:\n",
      "   Index   Name   Inverse  Order\n",
      "      0       0       0       1\n",
      "      1       a       a       2\n",
      "      2       b       b       2\n",
      "      3       c       c       2\n",
      "Cayley Table (showing indices):\n",
      "[[0, 1, 2, 3], [1, 0, 3, 2], [2, 3, 0, 1], [3, 2, 1, 0]]\n",
      "Mult. Identity: None\n",
      "Mult. Commutative? No\n",
      "Multiplicative Cayley Table (showing indices):\n",
      "[[0, 0, 0, 0], [0, 0, 1, 1], [0, 0, 2, 2], [0, 0, 3, 3]]\n"
     ]
    }
   ],
   "source": [
    "ex6 = ex.get_example(12)\n",
    "ex6.about()"
   ]
  },
  {
   "cell_type": "code",
   "execution_count": 14,
   "id": "86b3e797",
   "metadata": {},
   "outputs": [
    {
     "name": "stdout",
     "output_type": "stream",
     "text": [
      "\n",
      "Subalgebras of <Ring:Ex6, ID:140257132572624>\n",
      "  There are 1 unique subalgebras, up to isomorphisms, out of 3 total subalgebras\n",
      "  as shown by the partitions below:\n",
      "\n",
      "3 Commutative Normal Groups of order 2 with identity '0':\n",
      "      Ex6_subalgebra_0: ['0', 'b']\n",
      "      Ex6_subalgebra_1: ['0', 'c']\n",
      "      Ex6_subalgebra_2: ['0', 'a']\n",
      "\n"
     ]
    }
   ],
   "source": [
    "alg = ex6\n",
    "alg_subs = alg.proper_subalgebras()\n",
    "partitions = partition_into_isomorphic_lists(alg_subs)\n",
    "about_isomorphic_partitions(alg, partitions)"
   ]
  },
  {
   "cell_type": "code",
   "execution_count": null,
   "id": "a19f3783",
   "metadata": {},
   "outputs": [],
   "source": []
  },
  {
   "cell_type": "code",
   "execution_count": 19,
   "id": "c4638b4c",
   "metadata": {},
   "outputs": [
    {
     "name": "stdout",
     "output_type": "stream",
     "text": [
      "\n",
      "Group: PS4\n",
      "Instance ID: 140257409395728\n",
      "Description: Autogenerated Group on the powerset of 4 elements, with symmetric difference operator\n",
      "Order: 16\n",
      "Identity: {}\n",
      "Associative? Yes\n",
      "Commutative? Yes\n",
      "Elements:\n",
      "   Index   Name   Inverse  Order\n",
      "      0      {}      {}       1\n",
      "      1     {0}     {0}       2\n",
      "      2     {1}     {1}       2\n",
      "      3     {2}     {2}       2\n",
      "      4     {3}     {3}       2\n",
      "      5  {0, 1}  {0, 1}       2\n",
      "      6  {0, 2}  {0, 2}       2\n",
      "      7  {0, 3}  {0, 3}       2\n",
      "      8  {1, 2}  {1, 2}       2\n",
      "      9  {1, 3}  {1, 3}       2\n",
      "     10  {2, 3}  {2, 3}       2\n",
      "     11 {0, 1, 2} {0, 1, 2}       2\n",
      "     12 {0, 1, 3} {0, 1, 3}       2\n",
      "     13 {0, 2, 3} {0, 2, 3}       2\n",
      "     14 {1, 2, 3} {1, 2, 3}       2\n",
      "     15 {0, 1, 2, 3} {0, 1, 2, 3}       2\n",
      "Cayley Table (showing indices):\n",
      "[[0, 1, 2, 3, 4, 5, 6, 7, 8, 9, 10, 11, 12, 13, 14, 15],\n",
      " [1, 0, 5, 6, 7, 2, 3, 4, 11, 12, 13, 8, 9, 10, 15, 14],\n",
      " [2, 5, 0, 8, 9, 1, 11, 12, 3, 4, 14, 6, 7, 15, 10, 13],\n",
      " [3, 6, 8, 0, 10, 11, 1, 13, 2, 14, 4, 5, 15, 7, 9, 12],\n",
      " [4, 7, 9, 10, 0, 12, 13, 1, 14, 2, 3, 15, 5, 6, 8, 11],\n",
      " [5, 2, 1, 11, 12, 0, 8, 9, 6, 7, 15, 3, 4, 14, 13, 10],\n",
      " [6, 3, 11, 1, 13, 8, 0, 10, 5, 15, 7, 2, 14, 4, 12, 9],\n",
      " [7, 4, 12, 13, 1, 9, 10, 0, 15, 5, 6, 14, 2, 3, 11, 8],\n",
      " [8, 11, 3, 2, 14, 6, 5, 15, 0, 10, 9, 1, 13, 12, 4, 7],\n",
      " [9, 12, 4, 14, 2, 7, 15, 5, 10, 0, 8, 13, 1, 11, 3, 6],\n",
      " [10, 13, 14, 4, 3, 15, 7, 6, 9, 8, 0, 12, 11, 1, 2, 5],\n",
      " [11, 8, 6, 5, 15, 3, 2, 14, 1, 13, 12, 0, 10, 9, 7, 4],\n",
      " [12, 9, 7, 15, 5, 4, 14, 2, 13, 1, 11, 10, 0, 8, 6, 3],\n",
      " [13, 10, 15, 7, 6, 14, 4, 3, 12, 11, 1, 9, 8, 0, 5, 2],\n",
      " [14, 15, 10, 9, 8, 13, 12, 11, 4, 3, 2, 7, 6, 5, 0, 1],\n",
      " [15, 14, 13, 12, 11, 10, 9, 8, 7, 6, 5, 4, 3, 2, 1, 0]]\n"
     ]
    }
   ],
   "source": [
    "psr = generate_powerset_group(4)\n",
    "psr.about(max_size=16)"
   ]
  },
  {
   "cell_type": "code",
   "execution_count": 26,
   "id": "33d9f2dc",
   "metadata": {},
   "outputs": [
    {
     "name": "stdout",
     "output_type": "stream",
     "text": [
      "CPU times: user 7.88 s, sys: 23.8 ms, total: 7.9 s\n",
      "Wall time: 7.92 s\n",
      "\n",
      "Subalgebras of <Group:PS4, ID:140257409395728>\n",
      "  There are 3 unique subalgebras, up to isomorphisms, out of 65 total subalgebras\n",
      "  as shown by the partitions below:\n",
      "\n",
      "35 Commutative Normal Groups of order 4 with identity '{}':\n",
      "      PS4_subalgebra_0: ['{}', '{0}', '{1, 2}', '{0, 1, 2}']\n",
      "      PS4_subalgebra_2: ['{}', '{2}', '{1, 3}', '{1, 2, 3}']\n",
      "      PS4_subalgebra_7: ['{}', '{0}', '{1, 2, 3}', '{0, 1, 2, 3}']\n",
      "      PS4_subalgebra_9: ['{}', '{1}', '{2}', '{1, 2}']\n",
      "      PS4_subalgebra_11: ['{}', '{0, 2}', '{0, 1, 3}', '{1, 2, 3}']\n",
      "      PS4_subalgebra_12: ['{}', '{2}', '{0, 3}', '{0, 2, 3}']\n",
      "      PS4_subalgebra_13: ['{}', '{3}', '{0, 1}', '{0, 1, 3}']\n",
      "      PS4_subalgebra_14: ['{}', '{0}', '{3}', '{0, 3}']\n",
      "      PS4_subalgebra_15: ['{}', '{0}', '{1, 3}', '{0, 1, 3}']\n",
      "      PS4_subalgebra_16: ['{}', '{0, 1}', '{0, 3}', '{1, 3}']\n",
      "      PS4_subalgebra_17: ['{}', '{0, 2}', '{1, 3}', '{0, 1, 2, 3}']\n",
      "      PS4_subalgebra_18: ['{}', '{1, 2}', '{0, 1, 3}', '{0, 2, 3}']\n",
      "      PS4_subalgebra_19: ['{}', '{1, 2}', '{1, 3}', '{2, 3}']\n",
      "      PS4_subalgebra_22: ['{}', '{0, 3}', '{0, 1, 2}', '{1, 2, 3}']\n",
      "      PS4_subalgebra_23: ['{}', '{2, 3}', '{0, 1, 2}', '{0, 1, 3}']\n",
      "      PS4_subalgebra_26: ['{}', '{1}', '{0, 2, 3}', '{0, 1, 2, 3}']\n",
      "      PS4_subalgebra_27: ['{}', '{0, 3}', '{1, 2}', '{0, 1, 2, 3}']\n",
      "      PS4_subalgebra_29: ['{}', '{1}', '{2, 3}', '{1, 2, 3}']\n",
      "      PS4_subalgebra_32: ['{}', '{2}', '{0, 1}', '{0, 1, 2}']\n",
      "      PS4_subalgebra_34: ['{}', '{3}', '{1, 2}', '{1, 2, 3}']\n",
      "      PS4_subalgebra_35: ['{}', '{3}', '{0, 1, 2}', '{0, 1, 2, 3}']\n",
      "      PS4_subalgebra_39: ['{}', '{0, 1}', '{0, 2, 3}', '{1, 2, 3}']\n",
      "      PS4_subalgebra_41: ['{}', '{3}', '{0, 2}', '{0, 2, 3}']\n",
      "      PS4_subalgebra_43: ['{}', '{0, 2}', '{0, 3}', '{2, 3}']\n",
      "      PS4_subalgebra_44: ['{}', '{0}', '{2}', '{0, 2}']\n",
      "      PS4_subalgebra_46: ['{}', '{1, 3}', '{0, 1, 2}', '{0, 2, 3}']\n",
      "      PS4_subalgebra_48: ['{}', '{1}', '{3}', '{1, 3}']\n",
      "      PS4_subalgebra_49: ['{}', '{0}', '{1}', '{0, 1}']\n",
      "      PS4_subalgebra_50: ['{}', '{1}', '{0, 3}', '{0, 1, 3}']\n",
      "      PS4_subalgebra_53: ['{}', '{2}', '{3}', '{2, 3}']\n",
      "      PS4_subalgebra_54: ['{}', '{1}', '{0, 2}', '{0, 1, 2}']\n",
      "      PS4_subalgebra_57: ['{}', '{0}', '{2, 3}', '{0, 2, 3}']\n",
      "      PS4_subalgebra_58: ['{}', '{2}', '{0, 1, 3}', '{0, 1, 2, 3}']\n",
      "      PS4_subalgebra_60: ['{}', '{0, 1}', '{0, 2}', '{1, 2}']\n",
      "      PS4_subalgebra_61: ['{}', '{0, 1}', '{2, 3}', '{0, 1, 2, 3}']\n",
      "\n",
      "15 Commutative Normal Groups of order 2 with identity '{}':\n",
      "      PS4_subalgebra_1: ['{}', '{1}']\n",
      "      PS4_subalgebra_3: ['{}', '{0, 1, 3}']\n",
      "      PS4_subalgebra_5: ['{}', '{2, 3}']\n",
      "      PS4_subalgebra_21: ['{}', '{0, 3}']\n",
      "      PS4_subalgebra_24: ['{}', '{1, 3}']\n",
      "      PS4_subalgebra_25: ['{}', '{0, 2, 3}']\n",
      "      PS4_subalgebra_33: ['{}', '{0}']\n",
      "      PS4_subalgebra_37: ['{}', '{0, 1}']\n",
      "      PS4_subalgebra_38: ['{}', '{1, 2, 3}']\n",
      "      PS4_subalgebra_47: ['{}', '{2}']\n",
      "      PS4_subalgebra_51: ['{}', '{3}']\n",
      "      PS4_subalgebra_52: ['{}', '{0, 1, 2, 3}']\n",
      "      PS4_subalgebra_56: ['{}', '{0, 2}']\n",
      "      PS4_subalgebra_63: ['{}', '{1, 2}']\n",
      "      PS4_subalgebra_64: ['{}', '{0, 1, 2}']\n",
      "\n",
      "15 Commutative Normal Groups of order 8 with identity '{}':\n",
      "      PS4_subalgebra_4: ['{}', '{0}', '{2}', '{3}', '{0, 2}', '{0, 3}', '{2, 3}', '{0, 2, 3}']\n",
      "      PS4_subalgebra_6: ['{}', '{0}', '{1}', '{2}', '{0, 1}', '{0, 2}', '{1, 2}', '{0, 1, 2}']\n",
      "      PS4_subalgebra_8: ['{}', '{0}', '{3}', '{0, 3}', '{1, 2}', '{0, 1, 2}', '{1, 2, 3}', '{0, 1, 2, 3}']\n",
      "      PS4_subalgebra_10: ['{}', '{1}', '{2}', '{3}', '{1, 2}', '{1, 3}', '{2, 3}', '{1, 2, 3}']\n",
      "      PS4_subalgebra_20: ['{}', '{0}', '{1}', '{3}', '{0, 1}', '{0, 3}', '{1, 3}', '{0, 1, 3}']\n",
      "      PS4_subalgebra_28: ['{}', '{2}', '{3}', '{0, 1}', '{2, 3}', '{0, 1, 2}', '{0, 1, 3}', '{0, 1, 2, 3}']\n",
      "      PS4_subalgebra_30: ['{}', '{0}', '{2}', '{0, 2}', '{1, 3}', '{0, 1, 3}', '{1, 2, 3}', '{0, 1, 2, 3}']\n",
      "      PS4_subalgebra_31: ['{}', '{1}', '{3}', '{0, 2}', '{1, 3}', '{0, 1, 2}', '{0, 2, 3}', '{0, 1, 2, 3}']\n",
      "      PS4_subalgebra_36: ['{}', '{2}', '{0, 1}', '{0, 3}', '{1, 3}', '{0, 1, 2}', '{0, 2, 3}', '{1, 2, 3}']\n",
      "      PS4_subalgebra_40: ['{}', '{0}', '{1}', '{0, 1}', '{2, 3}', '{0, 2, 3}', '{1, 2, 3}', '{0, 1, 2, 3}']\n",
      "      PS4_subalgebra_42: ['{}', '{0, 1}', '{0, 2}', '{0, 3}', '{1, 2}', '{1, 3}', '{2, 3}', '{0, 1, 2, 3}']\n",
      "      PS4_subalgebra_45: ['{}', '{1}', '{2}', '{0, 3}', '{1, 2}', '{0, 1, 3}', '{0, 2, 3}', '{0, 1, 2, 3}']\n",
      "      PS4_subalgebra_55: ['{}', '{0}', '{1, 2}', '{1, 3}', '{2, 3}', '{0, 1, 2}', '{0, 1, 3}', '{0, 2, 3}']\n",
      "      PS4_subalgebra_59: ['{}', '{1}', '{0, 2}', '{0, 3}', '{2, 3}', '{0, 1, 2}', '{0, 1, 3}', '{1, 2, 3}']\n",
      "      PS4_subalgebra_62: ['{}', '{3}', '{0, 1}', '{0, 2}', '{1, 2}', '{0, 1, 3}', '{0, 2, 3}', '{1, 2, 3}']\n",
      "\n"
     ]
    }
   ],
   "source": [
    "alg = psr\n",
    "%time alg_subs = alg.proper_subalgebras()\n",
    "partitions = partition_into_isomorphic_lists(alg_subs)\n",
    "about_isomorphic_partitions(alg, partitions)"
   ]
  },
  {
   "cell_type": "code",
   "execution_count": 27,
   "id": "c0e59612",
   "metadata": {},
   "outputs": [
    {
     "name": "stdout",
     "output_type": "stream",
     "text": [
      "CPU times: user 32.4 s, sys: 87.5 ms, total: 32.5 s\n",
      "Wall time: 32.6 s\n",
      "\n",
      "Subalgebras of <Group:PS4, ID:140257409395728>\n",
      "  There are 3 unique subalgebras, up to isomorphisms, out of 65 total subalgebras\n",
      "  as shown by the partitions below:\n",
      "\n",
      "35 Commutative Normal Groups of order 4 with identity '{}':\n",
      "      PS4_subalgebra_0: ['{}', '{0}', '{1, 2}', '{0, 1, 2}']\n",
      "      PS4_subalgebra_2: ['{}', '{2}', '{1, 3}', '{1, 2, 3}']\n",
      "      PS4_subalgebra_7: ['{}', '{0}', '{1, 2, 3}', '{0, 1, 2, 3}']\n",
      "      PS4_subalgebra_9: ['{}', '{1}', '{2}', '{1, 2}']\n",
      "      PS4_subalgebra_11: ['{}', '{0, 2}', '{0, 1, 3}', '{1, 2, 3}']\n",
      "      PS4_subalgebra_12: ['{}', '{2}', '{0, 3}', '{0, 2, 3}']\n",
      "      PS4_subalgebra_13: ['{}', '{3}', '{0, 1}', '{0, 1, 3}']\n",
      "      PS4_subalgebra_14: ['{}', '{0}', '{3}', '{0, 3}']\n",
      "      PS4_subalgebra_15: ['{}', '{0}', '{1, 3}', '{0, 1, 3}']\n",
      "      PS4_subalgebra_16: ['{}', '{0, 1}', '{0, 3}', '{1, 3}']\n",
      "      PS4_subalgebra_17: ['{}', '{0, 2}', '{1, 3}', '{0, 1, 2, 3}']\n",
      "      PS4_subalgebra_18: ['{}', '{1, 2}', '{0, 1, 3}', '{0, 2, 3}']\n",
      "      PS4_subalgebra_19: ['{}', '{1, 2}', '{1, 3}', '{2, 3}']\n",
      "      PS4_subalgebra_22: ['{}', '{0, 3}', '{0, 1, 2}', '{1, 2, 3}']\n",
      "      PS4_subalgebra_23: ['{}', '{2, 3}', '{0, 1, 2}', '{0, 1, 3}']\n",
      "      PS4_subalgebra_26: ['{}', '{1}', '{0, 2, 3}', '{0, 1, 2, 3}']\n",
      "      PS4_subalgebra_27: ['{}', '{0, 3}', '{1, 2}', '{0, 1, 2, 3}']\n",
      "      PS4_subalgebra_29: ['{}', '{1}', '{2, 3}', '{1, 2, 3}']\n",
      "      PS4_subalgebra_32: ['{}', '{2}', '{0, 1}', '{0, 1, 2}']\n",
      "      PS4_subalgebra_34: ['{}', '{3}', '{1, 2}', '{1, 2, 3}']\n",
      "      PS4_subalgebra_35: ['{}', '{3}', '{0, 1, 2}', '{0, 1, 2, 3}']\n",
      "      PS4_subalgebra_39: ['{}', '{0, 1}', '{0, 2, 3}', '{1, 2, 3}']\n",
      "      PS4_subalgebra_41: ['{}', '{3}', '{0, 2}', '{0, 2, 3}']\n",
      "      PS4_subalgebra_43: ['{}', '{0, 2}', '{0, 3}', '{2, 3}']\n",
      "      PS4_subalgebra_44: ['{}', '{0}', '{2}', '{0, 2}']\n",
      "      PS4_subalgebra_46: ['{}', '{1, 3}', '{0, 1, 2}', '{0, 2, 3}']\n",
      "      PS4_subalgebra_48: ['{}', '{1}', '{3}', '{1, 3}']\n",
      "      PS4_subalgebra_49: ['{}', '{0}', '{1}', '{0, 1}']\n",
      "      PS4_subalgebra_50: ['{}', '{1}', '{0, 3}', '{0, 1, 3}']\n",
      "      PS4_subalgebra_53: ['{}', '{2}', '{3}', '{2, 3}']\n",
      "      PS4_subalgebra_54: ['{}', '{1}', '{0, 2}', '{0, 1, 2}']\n",
      "      PS4_subalgebra_57: ['{}', '{0}', '{2, 3}', '{0, 2, 3}']\n",
      "      PS4_subalgebra_58: ['{}', '{2}', '{0, 1, 3}', '{0, 1, 2, 3}']\n",
      "      PS4_subalgebra_60: ['{}', '{0, 1}', '{0, 2}', '{1, 2}']\n",
      "      PS4_subalgebra_61: ['{}', '{0, 1}', '{2, 3}', '{0, 1, 2, 3}']\n",
      "\n",
      "15 Commutative Normal Groups of order 2 with identity '{}':\n",
      "      PS4_subalgebra_1: ['{}', '{1}']\n",
      "      PS4_subalgebra_3: ['{}', '{0, 1, 3}']\n",
      "      PS4_subalgebra_5: ['{}', '{2, 3}']\n",
      "      PS4_subalgebra_21: ['{}', '{0, 3}']\n",
      "      PS4_subalgebra_24: ['{}', '{1, 3}']\n",
      "      PS4_subalgebra_25: ['{}', '{0, 2, 3}']\n",
      "      PS4_subalgebra_33: ['{}', '{0}']\n",
      "      PS4_subalgebra_37: ['{}', '{0, 1}']\n",
      "      PS4_subalgebra_38: ['{}', '{1, 2, 3}']\n",
      "      PS4_subalgebra_47: ['{}', '{2}']\n",
      "      PS4_subalgebra_51: ['{}', '{3}']\n",
      "      PS4_subalgebra_52: ['{}', '{0, 1, 2, 3}']\n",
      "      PS4_subalgebra_56: ['{}', '{0, 2}']\n",
      "      PS4_subalgebra_63: ['{}', '{1, 2}']\n",
      "      PS4_subalgebra_64: ['{}', '{0, 1, 2}']\n",
      "\n",
      "15 Commutative Normal Groups of order 8 with identity '{}':\n",
      "      PS4_subalgebra_4: ['{}', '{0}', '{2}', '{3}', '{0, 2}', '{0, 3}', '{2, 3}', '{0, 2, 3}']\n",
      "      PS4_subalgebra_6: ['{}', '{0}', '{1}', '{2}', '{0, 1}', '{0, 2}', '{1, 2}', '{0, 1, 2}']\n",
      "      PS4_subalgebra_8: ['{}', '{0}', '{3}', '{0, 3}', '{1, 2}', '{0, 1, 2}', '{1, 2, 3}', '{0, 1, 2, 3}']\n",
      "      PS4_subalgebra_10: ['{}', '{1}', '{2}', '{3}', '{1, 2}', '{1, 3}', '{2, 3}', '{1, 2, 3}']\n",
      "      PS4_subalgebra_20: ['{}', '{0}', '{1}', '{3}', '{0, 1}', '{0, 3}', '{1, 3}', '{0, 1, 3}']\n",
      "      PS4_subalgebra_28: ['{}', '{2}', '{3}', '{0, 1}', '{2, 3}', '{0, 1, 2}', '{0, 1, 3}', '{0, 1, 2, 3}']\n",
      "      PS4_subalgebra_30: ['{}', '{0}', '{2}', '{0, 2}', '{1, 3}', '{0, 1, 3}', '{1, 2, 3}', '{0, 1, 2, 3}']\n",
      "      PS4_subalgebra_31: ['{}', '{1}', '{3}', '{0, 2}', '{1, 3}', '{0, 1, 2}', '{0, 2, 3}', '{0, 1, 2, 3}']\n",
      "      PS4_subalgebra_36: ['{}', '{2}', '{0, 1}', '{0, 3}', '{1, 3}', '{0, 1, 2}', '{0, 2, 3}', '{1, 2, 3}']\n",
      "      PS4_subalgebra_40: ['{}', '{0}', '{1}', '{0, 1}', '{2, 3}', '{0, 2, 3}', '{1, 2, 3}', '{0, 1, 2, 3}']\n",
      "      PS4_subalgebra_42: ['{}', '{0, 1}', '{0, 2}', '{0, 3}', '{1, 2}', '{1, 3}', '{2, 3}', '{0, 1, 2, 3}']\n",
      "      PS4_subalgebra_45: ['{}', '{1}', '{2}', '{0, 3}', '{1, 2}', '{0, 1, 3}', '{0, 2, 3}', '{0, 1, 2, 3}']\n",
      "      PS4_subalgebra_55: ['{}', '{0}', '{1, 2}', '{1, 3}', '{2, 3}', '{0, 1, 2}', '{0, 1, 3}', '{0, 2, 3}']\n",
      "      PS4_subalgebra_59: ['{}', '{1}', '{0, 2}', '{0, 3}', '{2, 3}', '{0, 1, 2}', '{0, 1, 3}', '{1, 2, 3}']\n",
      "      PS4_subalgebra_62: ['{}', '{3}', '{0, 1}', '{0, 2}', '{1, 2}', '{0, 1, 3}', '{0, 2, 3}', '{1, 2, 3}']\n",
      "\n"
     ]
    }
   ],
   "source": [
    "alg = psr\n",
    "%time alg_subs = alg.proper_subalgebras(divisors_only=False, include_inverses=False)\n",
    "partitions = partition_into_isomorphic_lists(alg_subs)\n",
    "about_isomorphic_partitions(alg, partitions)"
   ]
  },
  {
   "cell_type": "code",
   "execution_count": 28,
   "id": "7612f21e",
   "metadata": {},
   "outputs": [],
   "source": [
    "# %time foo1 = psr.closed_subsets_of_elements(False)"
   ]
  },
  {
   "cell_type": "code",
   "execution_count": 29,
   "id": "44527b6a",
   "metadata": {},
   "outputs": [],
   "source": [
    "# {len(x) for x in foo1}"
   ]
  },
  {
   "cell_type": "code",
   "execution_count": 30,
   "id": "7c359520",
   "metadata": {},
   "outputs": [],
   "source": [
    "# %time foo2 = psr.closed_subsets_of_elements(True)"
   ]
  },
  {
   "cell_type": "code",
   "execution_count": 31,
   "id": "209014ba",
   "metadata": {},
   "outputs": [],
   "source": [
    "# {len(x) for x in foo2}"
   ]
  },
  {
   "cell_type": "code",
   "execution_count": null,
   "id": "3d49a790",
   "metadata": {},
   "outputs": [],
   "source": []
  },
  {
   "cell_type": "code",
   "execution_count": 32,
   "id": "8d6107ed",
   "metadata": {},
   "outputs": [],
   "source": [
    "# %time psr_subs = psr.unique_proper_subgroups()"
   ]
  },
  {
   "cell_type": "code",
   "execution_count": 33,
   "id": "03035386",
   "metadata": {},
   "outputs": [],
   "source": [
    "# [psr_sub.order for psr_sub in psr_subs]"
   ]
  },
  {
   "cell_type": "code",
   "execution_count": null,
   "id": "0ce53788",
   "metadata": {},
   "outputs": [],
   "source": []
  },
  {
   "cell_type": "code",
   "execution_count": null,
   "id": "287e36d9",
   "metadata": {},
   "outputs": [],
   "source": []
  },
  {
   "cell_type": "code",
   "execution_count": 34,
   "id": "7e8e923a",
   "metadata": {},
   "outputs": [
    {
     "name": "stdout",
     "output_type": "stream",
     "text": [
      "\n",
      "Group: Q8\n",
      "Instance ID: 140257409299664\n",
      "Description: Quaternion Group\n",
      "Order: 8\n",
      "Identity: 1\n",
      "Associative? Yes\n",
      "Commutative? No\n",
      "Elements:\n",
      "   Index   Name   Inverse  Order\n",
      "      0       1       1       1\n",
      "      1       i      -i       4\n",
      "      2      -1      -1       2\n",
      "      3      -i       i       4\n",
      "      4       j      -j       4\n",
      "      5       k      -k       4\n",
      "      6      -j       j       4\n",
      "      7      -k       k       4\n",
      "Cayley Table (showing indices):\n",
      "[[0, 1, 2, 3, 4, 5, 6, 7],\n",
      " [1, 2, 3, 0, 7, 4, 5, 6],\n",
      " [2, 3, 0, 1, 6, 7, 4, 5],\n",
      " [3, 0, 1, 2, 5, 6, 7, 4],\n",
      " [4, 5, 6, 7, 2, 3, 0, 1],\n",
      " [5, 6, 7, 4, 1, 2, 3, 0],\n",
      " [6, 7, 4, 5, 0, 1, 2, 3],\n",
      " [7, 4, 5, 6, 3, 0, 1, 2]]\n"
     ]
    }
   ],
   "source": [
    "q8 = ex.get_example(13)\n",
    "q8.about()"
   ]
  },
  {
   "cell_type": "code",
   "execution_count": 35,
   "id": "b0aa539f",
   "metadata": {},
   "outputs": [
    {
     "name": "stdout",
     "output_type": "stream",
     "text": [
      "\n",
      "Subalgebras of <Group:Q8, ID:140257409299664>\n",
      "  There are 2 unique subalgebras, up to isomorphisms, out of 4 total subalgebras\n",
      "  as shown by the partitions below:\n",
      "\n",
      "3 Commutative Normal Groups of order 4 with identity '1':\n",
      "      Q8_subalgebra_0: ['1', 'i', '-1', '-i']\n",
      "      Q8_subalgebra_1: ['1', '-1', 'k', '-k']\n",
      "      Q8_subalgebra_2: ['1', '-1', 'j', '-j']\n",
      "\n",
      "1 Commutative Normal Group of order 2 with identity '1':\n",
      "      Q8_subalgebra_3: ['1', '-1']\n",
      "\n"
     ]
    }
   ],
   "source": [
    "alg = q8\n",
    "alg_subs = alg.proper_subalgebras()\n",
    "partitions = partition_into_isomorphic_lists(alg_subs)\n",
    "about_isomorphic_partitions(alg, partitions)"
   ]
  },
  {
   "cell_type": "code",
   "execution_count": null,
   "id": "ae19ce86",
   "metadata": {},
   "outputs": [],
   "source": []
  },
  {
   "cell_type": "code",
   "execution_count": 36,
   "id": "6f0a6179",
   "metadata": {},
   "outputs": [
    {
     "name": "stdout",
     "output_type": "stream",
     "text": [
      "\n",
      "Group: SD16\n",
      "Instance ID: 140257409300176\n",
      "Description: Semidihedral group of order 16\n",
      "Order: 16\n",
      "Identity: e\n",
      "Associative? Yes\n",
      "Commutative? No\n",
      "Elements:\n",
      "   Index   Name   Inverse  Order\n",
      "      0       e       e       1\n",
      "      1       t       t       2\n",
      "      2       s  ts^2ts       8\n",
      "      3      st   s^2ts       4\n",
      "      4     s^2   ts^2t       4\n",
      "      5    s^2t    s^2t       2\n",
      "      6     tst  tsts^2       8\n",
      "      7      ts   sts^2       4\n",
      "      8    tsts    tsts       2\n",
      "      9     sts     sts       2\n",
      "     10  tsts^2     tst       8\n",
      "     11   s^2ts      st       4\n",
      "     12   ts^2t     s^2       4\n",
      "     13    ts^2    ts^2       2\n",
      "     14  ts^2ts       s       8\n",
      "     15   sts^2      ts       4\n",
      "Cayley Table (showing indices):\n",
      "[[0, 1, 2, 3, 4, 5, 6, 7, 8, 9, 10, 11, 12, 13, 14, 15],\n",
      " [1, 0, 7, 6, 13, 12, 3, 2, 9, 8, 15, 14, 5, 4, 11, 10],\n",
      " [2, 3, 4, 5, 6, 7, 8, 9, 10, 11, 12, 13, 14, 15, 0, 1],\n",
      " [3, 2, 9, 8, 15, 14, 5, 4, 11, 10, 1, 0, 7, 6, 13, 12],\n",
      " [4, 5, 6, 7, 8, 9, 10, 11, 12, 13, 14, 15, 0, 1, 2, 3],\n",
      " [5, 4, 11, 10, 1, 0, 7, 6, 13, 12, 3, 2, 9, 8, 15, 14],\n",
      " [6, 7, 8, 9, 10, 11, 12, 13, 14, 15, 0, 1, 2, 3, 4, 5],\n",
      " [7, 6, 13, 12, 3, 2, 9, 8, 15, 14, 5, 4, 11, 10, 1, 0],\n",
      " [8, 9, 10, 11, 12, 13, 14, 15, 0, 1, 2, 3, 4, 5, 6, 7],\n",
      " [9, 8, 15, 14, 5, 4, 11, 10, 1, 0, 7, 6, 13, 12, 3, 2],\n",
      " [10, 11, 12, 13, 14, 15, 0, 1, 2, 3, 4, 5, 6, 7, 8, 9],\n",
      " [11, 10, 1, 0, 7, 6, 13, 12, 3, 2, 9, 8, 15, 14, 5, 4],\n",
      " [12, 13, 14, 15, 0, 1, 2, 3, 4, 5, 6, 7, 8, 9, 10, 11],\n",
      " [13, 12, 3, 2, 9, 8, 15, 14, 5, 4, 11, 10, 1, 0, 7, 6],\n",
      " [14, 15, 0, 1, 2, 3, 4, 5, 6, 7, 8, 9, 10, 11, 12, 13],\n",
      " [15, 14, 5, 4, 11, 10, 1, 0, 7, 6, 13, 12, 3, 2, 9, 8]]\n"
     ]
    }
   ],
   "source": [
    "sd16 = ex.get_example(14)\n",
    "sd16.about(max_size=16)"
   ]
  },
  {
   "cell_type": "code",
   "execution_count": 37,
   "id": "b7a83333",
   "metadata": {},
   "outputs": [
    {
     "name": "stdout",
     "output_type": "stream",
     "text": [
      "\n",
      "Subalgebras of <Group:SD16, ID:140257409300176>\n",
      "  There are 6 unique subalgebras, up to isomorphisms, out of 13 total subalgebras\n",
      "  as shown by the partitions below:\n",
      "\n",
      "3 Commutative Groups of order 4 with identity 'e':\n",
      "      SD16_subalgebra_0: ['e', 'ts', 'tsts', 'sts^2']\n",
      "      SD16_subalgebra_10: ['e', 'st', 'tsts', 's^2ts']\n",
      "      SD16_subalgebra_11: ['e', 's^2', 'tsts', 'ts^2t']\n",
      "\n",
      "5 Commutative Groups of order 2 with identity 'e':\n",
      "      SD16_subalgebra_1: ['e', 'sts']\n",
      "      SD16_subalgebra_2: ['e', 't']\n",
      "      SD16_subalgebra_4: ['e', 'ts^2']\n",
      "      SD16_subalgebra_7: ['e', 'tsts']\n",
      "      SD16_subalgebra_12: ['e', 's^2t']\n",
      "\n",
      "1 Commutative Normal Group of order 8 with identity 'e':\n",
      "      SD16_subalgebra_3: ['e', 's', 's^2', 'tst', 'tsts', 'tsts^2', 'ts^2t', 'ts^2ts']\n",
      "\n",
      "2 Commutative Groups of order 4 with identity 'e':\n",
      "      SD16_subalgebra_5: ['e', 't', 'tsts', 'sts']\n",
      "      SD16_subalgebra_9: ['e', 's^2t', 'tsts', 'ts^2']\n",
      "\n",
      "1 Normal Group of order 8 with identity 'e':\n",
      "      SD16_subalgebra_6: ['e', 'st', 's^2', 'ts', 'tsts', 's^2ts', 'ts^2t', 'sts^2']\n",
      "\n",
      "1 Normal Group of order 8 with identity 'e':\n",
      "      SD16_subalgebra_8: ['e', 't', 's^2', 's^2t', 'tsts', 'sts', 'ts^2t', 'ts^2']\n",
      "\n"
     ]
    }
   ],
   "source": [
    "alg = sd16\n",
    "alg_subs = alg.proper_subalgebras()\n",
    "partitions = partition_into_isomorphic_lists(alg_subs)\n",
    "about_isomorphic_partitions(alg, partitions)"
   ]
  },
  {
   "cell_type": "code",
   "execution_count": null,
   "id": "e2f077cd",
   "metadata": {},
   "outputs": [],
   "source": []
  },
  {
   "cell_type": "code",
   "execution_count": null,
   "id": "9620772b",
   "metadata": {},
   "outputs": [],
   "source": []
  },
  {
   "cell_type": "raw",
   "id": "25701a2f",
   "metadata": {},
   "source": [
    "def closure(alg, subset_of_elements, include_inverses):\n",
    "\n",
    "    result = set(subset_of_elements)\n",
    "\n",
    "    # Include inverses, maybe.\n",
    "    if include_inverses and alg.has_inverses():\n",
    "        for elem in subset_of_elements:\n",
    "            result.add(alg.inv(elem))\n",
    "\n",
    "    # Add the products of all possible pairs\n",
    "    for pair in it.product(result, result):\n",
    "        result.add(alg.op(*pair))\n",
    "\n",
    "    # If the input set of elements increased, recurse ...\n",
    "    if len(result) > len(subset_of_elements):\n",
    "        return alg.closure(list(result), include_inverses)\n",
    "\n",
    "    # ...otherwise, stop and return the result\n",
    "    else:\n",
    "        return list(result)"
   ]
  },
  {
   "cell_type": "code",
   "execution_count": null,
   "id": "26f336f3",
   "metadata": {},
   "outputs": [],
   "source": [
    "def ring_closure(ring, subset_of_elements):\n",
    "\n",
    "    result = set(subset_of_elements)\n",
    "\n",
    "    # Include additive inverses\n",
    "    for elem in subset_of_elements:\n",
    "        result.add(ring.inv(elem))\n",
    "\n",
    "    # Add the products of all possible pairs\n",
    "    for pair in it.product(result, result):\n",
    "        result.add(ring.op(*pair))\n",
    "\n",
    "    # If the input set of elements increased, recurse ...\n",
    "    if len(result) > len(subset_of_elements):\n",
    "        return ring.closure(list(result), include_inverses)\n",
    "\n",
    "    # ...otherwise, stop and return the result\n",
    "    else:\n",
    "        return list(result)"
   ]
  },
  {
   "cell_type": "code",
   "execution_count": null,
   "id": "d092a875",
   "metadata": {},
   "outputs": [],
   "source": [
    "ex6.about()"
   ]
  },
  {
   "cell_type": "code",
   "execution_count": null,
   "id": "9225c5a2",
   "metadata": {},
   "outputs": [],
   "source": [
    "ring_closure(sg, ['d', 'c'], True)"
   ]
  },
  {
   "cell_type": "code",
   "execution_count": null,
   "id": "4b606e6b",
   "metadata": {},
   "outputs": [],
   "source": []
  }
 ],
 "metadata": {
  "kernelspec": {
   "display_name": "Python 3",
   "language": "python",
   "name": "python3"
  },
  "language_info": {
   "codemirror_mode": {
    "name": "ipython",
    "version": 3
   },
   "file_extension": ".py",
   "mimetype": "text/x-python",
   "name": "python",
   "nbconvert_exporter": "python",
   "pygments_lexer": "ipython3",
   "version": "3.7.7"
  }
 },
 "nbformat": 4,
 "nbformat_minor": 5
}
