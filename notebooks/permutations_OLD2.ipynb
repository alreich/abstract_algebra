{
 "cells": [
  {
   "cell_type": "markdown",
   "id": "f04a64c7",
   "metadata": {},
   "source": [
    "# Symmetric / Permutation Groups"
   ]
  },
  {
   "cell_type": "markdown",
   "id": "7e8208ee",
   "metadata": {},
   "source": [
    "This is OLD, except for the work on Cycle Notation"
   ]
  },
  {
   "cell_type": "code",
   "execution_count": 1,
   "id": "5ea051a0",
   "metadata": {},
   "outputs": [],
   "source": [
    "#from algebras import Group, Perm, generate_symmetric_group, remove_items\n",
    "from algebras import Group, Perm, generate_symmetric_group\n",
    "import os"
   ]
  },
  {
   "cell_type": "code",
   "execution_count": 2,
   "id": "c8e8fdb1",
   "metadata": {},
   "outputs": [],
   "source": [
    "# Path to this repo\n",
    "aa_path = os.path.join(os.getenv('PYPROJ'), 'abstract_algebra')\n",
    "\n",
    "# Path to a directory containing Algebra definitions in JSON\n",
    "alg_dir = os.path.join(aa_path, \"Algebras\")"
   ]
  },
  {
   "cell_type": "markdown",
   "id": "d9f1864d",
   "metadata": {},
   "source": [
    "## Reference:"
   ]
  },
  {
   "cell_type": "markdown",
   "id": "3b01ed51",
   "metadata": {},
   "source": [
    "<b>[Pinter, 1990]</b> : <i>\"A Book of Abstract Algebra\" 2nd Ed., Charles C. Pinter, Dover Publications, Inc. 1990."
   ]
  },
  {
   "cell_type": "markdown",
   "id": "3ce2fc66",
   "metadata": {},
   "source": [
    "## Example"
   ]
  },
  {
   "cell_type": "markdown",
   "id": "b776d9c3",
   "metadata": {},
   "source": [
    "The example here is from [Pinter, 1990], pages 70-71."
   ]
  },
  {
   "cell_type": "markdown",
   "id": "098cdb43",
   "metadata": {},
   "source": [
    "####  Permutations of (1,2,3)"
   ]
  },
  {
   "cell_type": "markdown",
   "id": "76a083fc",
   "metadata": {},
   "source": [
    "The 6 permutations are given names in a dictionary, allowing permutations to be reference by name."
   ]
  },
  {
   "cell_type": "code",
   "execution_count": 3,
   "id": "ddf0e3af",
   "metadata": {},
   "outputs": [],
   "source": [
    "s3 = {'epsilon' : Perm((1, 2, 3)),\n",
    "      'alpha' : Perm((1, 3, 2)),\n",
    "      'beta' : Perm((3, 1, 2)),\n",
    "      'gamma' : Perm((2, 1, 3)),\n",
    "      'delta' : Perm((2, 3, 1)),\n",
    "      'kappa' : Perm((3, 2, 1))}"
   ]
  },
  {
   "cell_type": "markdown",
   "id": "54b9c9d3",
   "metadata": {},
   "source": [
    "A reverse lookup dictionary is also derived so that names can be looked up by permutation.\n",
    "\n",
    "This is used when creating the multiplication table."
   ]
  },
  {
   "cell_type": "code",
   "execution_count": 4,
   "id": "ba9054bf",
   "metadata": {},
   "outputs": [],
   "source": [
    "s3_rev = {val: key for key, val in s3.items()}"
   ]
  },
  {
   "cell_type": "markdown",
   "id": "407b026f",
   "metadata": {},
   "source": [
    "#### Composition of Alpha & Beta"
   ]
  },
  {
   "cell_type": "markdown",
   "id": "7564cfcb",
   "metadata": {},
   "source": [
    "$\\alpha \\circ \\beta = \\alpha( \\beta((1,2,3)) ) = \\alpha( (3,1,2) ) = (2,1,3)$"
   ]
  },
  {
   "cell_type": "code",
   "execution_count": 5,
   "id": "5702dca3",
   "metadata": {},
   "outputs": [
    {
     "name": "stdout",
     "output_type": "stream",
     "text": [
      "Perm((1, 3, 2)) o Perm((3, 1, 2)) = Perm((2, 1, 3))\n",
      "(i.e., alpha o beta = gamma)\n"
     ]
    }
   ],
   "source": [
    "a = s3['alpha']\n",
    "b = s3['beta']\n",
    "c = a * b\n",
    "print(f\"{a} o {b} = {a * b}\")\n",
    "print(f\"(i.e., {s3_rev[a]} o {s3_rev[b]} = {s3_rev[a * b]})\")"
   ]
  },
  {
   "cell_type": "markdown",
   "id": "b7300fb3",
   "metadata": {},
   "source": [
    "#### Multiplication Table for s3"
   ]
  },
  {
   "cell_type": "code",
   "execution_count": 6,
   "id": "fcfed5af",
   "metadata": {},
   "outputs": [
    {
     "data": {
      "text/plain": [
       "[['epsilon', 'alpha', 'beta', 'gamma', 'delta', 'kappa'],\n",
       " ['alpha', 'epsilon', 'gamma', 'beta', 'kappa', 'delta'],\n",
       " ['beta', 'kappa', 'delta', 'alpha', 'epsilon', 'gamma'],\n",
       " ['gamma', 'delta', 'kappa', 'epsilon', 'alpha', 'beta'],\n",
       " ['delta', 'gamma', 'epsilon', 'kappa', 'beta', 'alpha'],\n",
       " ['kappa', 'beta', 'alpha', 'delta', 'gamma', 'epsilon']]"
      ]
     },
     "execution_count": 6,
     "metadata": {},
     "output_type": "execute_result"
    }
   ],
   "source": [
    "s3_mul_tbl = [[s3_rev[s3[a] * s3[b]] for b in s3] for a in s3]\n",
    "s3_mul_tbl"
   ]
  },
  {
   "cell_type": "markdown",
   "id": "b9a3c526",
   "metadata": {},
   "source": [
    "#### The s3 Group"
   ]
  },
  {
   "cell_type": "code",
   "execution_count": 7,
   "id": "b5acb25e",
   "metadata": {},
   "outputs": [
    {
     "name": "stdout",
     "output_type": "stream",
     "text": [
      "Group('s3',\n",
      "'Symmetric group on three elements',\n",
      "['epsilon', 'alpha', 'beta', 'gamma', 'delta', 'kappa'],\n",
      "[[0, 1, 2, 3, 4, 5],\n",
      " [1, 0, 3, 2, 5, 4],\n",
      " [2, 5, 4, 1, 0, 3],\n",
      " [3, 4, 5, 0, 1, 2],\n",
      " [4, 3, 0, 5, 2, 1],\n",
      " [5, 2, 1, 4, 3, 0]]\n",
      ")\n"
     ]
    }
   ],
   "source": [
    "s3_group = Group('s3', 'Symmetric group on three elements', s3_mul_tbl)\n",
    "s3_group.pprint()"
   ]
  },
  {
   "cell_type": "code",
   "execution_count": 8,
   "id": "d1864f53",
   "metadata": {},
   "outputs": [
    {
     "name": "stdout",
     "output_type": "stream",
     "text": [
      "\n",
      "Group: s3\n",
      "Symmetric group on three elements\n",
      "Abelian? False\n",
      "Elements:\n",
      "   Index   Name   Inverse  Order\n",
      "      0 epsilon epsilon       1\n",
      "      1   alpha   alpha       2\n",
      "      2    beta   delta       3\n",
      "      3   gamma   gamma       2\n",
      "      4   delta    beta       3\n",
      "      5   kappa   kappa       2\n",
      "Cayley Table (showing indices):\n",
      "[[0, 1, 2, 3, 4, 5],\n",
      " [1, 0, 3, 2, 5, 4],\n",
      " [2, 5, 4, 1, 0, 3],\n",
      " [3, 4, 5, 0, 1, 2],\n",
      " [4, 3, 0, 5, 2, 1],\n",
      " [5, 2, 1, 4, 3, 0]]\n"
     ]
    }
   ],
   "source": [
    "s3_group.about()"
   ]
  },
  {
   "cell_type": "markdown",
   "id": "987b6415",
   "metadata": {},
   "source": [
    "## Symmetric Groups in General"
   ]
  },
  {
   "cell_type": "code",
   "execution_count": 9,
   "id": "54891eb5",
   "metadata": {},
   "outputs": [
    {
     "name": "stdout",
     "output_type": "stream",
     "text": [
      "Group('S3',\n",
      "'Autogenerated symmetric group on 3 elements',\n",
      "['(1, 2, 3)', '(1, 3, 2)', '(2, 1, 3)', '(2, 3, 1)', '(3, 1, 2)', '(3, 2, 1)'],\n",
      "[[0, 1, 2, 3, 4, 5],\n",
      " [1, 0, 4, 5, 2, 3],\n",
      " [2, 3, 0, 1, 5, 4],\n",
      " [3, 2, 5, 4, 0, 1],\n",
      " [4, 5, 1, 0, 3, 2],\n",
      " [5, 4, 3, 2, 1, 0]]\n",
      ")\n"
     ]
    }
   ],
   "source": [
    "s3_test = generate_symmetric_group(3)\n",
    "s3_test.pprint()"
   ]
  },
  {
   "cell_type": "code",
   "execution_count": 10,
   "id": "6ec01950",
   "metadata": {},
   "outputs": [
    {
     "data": {
      "text/plain": [
       "{'alpha': '(1, 3, 2)',\n",
       " 'beta': '(2, 3, 1)',\n",
       " 'gamma': '(3, 2, 1)',\n",
       " 'delta': '(3, 1, 2)',\n",
       " 'kappa': '(2, 1, 3)',\n",
       " 'epsilon': '(1, 2, 3)'}"
      ]
     },
     "execution_count": 10,
     "metadata": {},
     "output_type": "execute_result"
    }
   ],
   "source": [
    "s3_group.isomorphic(s3_test)"
   ]
  },
  {
   "cell_type": "code",
   "execution_count": 11,
   "id": "f7778bb8",
   "metadata": {},
   "outputs": [
    {
     "data": {
      "text/plain": [
       "Group('S4',\n",
       "'Autogenerated symmetric group on 4 elements',\n",
       "['(1, 2, 3, 4)', '(1, 2, 4, 3)', '(1, 3, 2, 4)', '(1, 3, 4, 2)', '(1, 4, 2, 3)', '(1, 4, 3, 2)', '(2, 1, 3, 4)', '(2, 1, 4, 3)', '(2, 3, 1, 4)', '(2, 3, 4, 1)', '(2, 4, 1, 3)', '(2, 4, 3, 1)', '(3, 1, 2, 4)', '(3, 1, 4, 2)', '(3, 2, 1, 4)', '(3, 2, 4, 1)', '(3, 4, 1, 2)', '(3, 4, 2, 1)', '(4, 1, 2, 3)', '(4, 1, 3, 2)', '(4, 2, 1, 3)', '(4, 2, 3, 1)', '(4, 3, 1, 2)', '(4, 3, 2, 1)'],\n",
       "[[0, 1, 2, 3, 4, 5, 6, 7, 8, 9, 10, 11, 12, 13, 14, 15, 16, 17, 18, 19, 20, 21, 22, 23], [1, 0, 4, 5, 2, 3, 7, 6, 10, 11, 8, 9, 18, 19, 20, 21, 22, 23, 12, 13, 14, 15, 16, 17], [2, 3, 0, 1, 5, 4, 12, 13, 14, 15, 16, 17, 6, 7, 8, 9, 10, 11, 19, 18, 22, 23, 20, 21], [3, 2, 5, 4, 0, 1, 13, 12, 16, 17, 14, 15, 19, 18, 22, 23, 20, 21, 6, 7, 8, 9, 10, 11], [4, 5, 1, 0, 3, 2, 18, 19, 20, 21, 22, 23, 7, 6, 10, 11, 8, 9, 13, 12, 16, 17, 14, 15], [5, 4, 3, 2, 1, 0, 19, 18, 22, 23, 20, 21, 13, 12, 16, 17, 14, 15, 7, 6, 10, 11, 8, 9], [6, 7, 8, 9, 10, 11, 0, 1, 2, 3, 4, 5, 14, 15, 12, 13, 17, 16, 20, 21, 18, 19, 23, 22], [7, 6, 10, 11, 8, 9, 1, 0, 4, 5, 2, 3, 20, 21, 18, 19, 23, 22, 14, 15, 12, 13, 17, 16], [8, 9, 6, 7, 11, 10, 14, 15, 12, 13, 17, 16, 0, 1, 2, 3, 4, 5, 21, 20, 23, 22, 18, 19], [9, 8, 11, 10, 6, 7, 15, 14, 17, 16, 12, 13, 21, 20, 23, 22, 18, 19, 0, 1, 2, 3, 4, 5], [10, 11, 7, 6, 9, 8, 20, 21, 18, 19, 23, 22, 1, 0, 4, 5, 2, 3, 15, 14, 17, 16, 12, 13], [11, 10, 9, 8, 7, 6, 21, 20, 23, 22, 18, 19, 15, 14, 17, 16, 12, 13, 1, 0, 4, 5, 2, 3], [12, 13, 14, 15, 16, 17, 2, 3, 0, 1, 5, 4, 8, 9, 6, 7, 11, 10, 22, 23, 19, 18, 21, 20], [13, 12, 16, 17, 14, 15, 3, 2, 5, 4, 0, 1, 22, 23, 19, 18, 21, 20, 8, 9, 6, 7, 11, 10], [14, 15, 12, 13, 17, 16, 8, 9, 6, 7, 11, 10, 2, 3, 0, 1, 5, 4, 23, 22, 21, 20, 19, 18], [15, 14, 17, 16, 12, 13, 9, 8, 11, 10, 6, 7, 23, 22, 21, 20, 19, 18, 2, 3, 0, 1, 5, 4], [16, 17, 13, 12, 15, 14, 22, 23, 19, 18, 21, 20, 3, 2, 5, 4, 0, 1, 9, 8, 11, 10, 6, 7], [17, 16, 15, 14, 13, 12, 23, 22, 21, 20, 19, 18, 9, 8, 11, 10, 6, 7, 3, 2, 5, 4, 0, 1], [18, 19, 20, 21, 22, 23, 4, 5, 1, 0, 3, 2, 10, 11, 7, 6, 9, 8, 16, 17, 13, 12, 15, 14], [19, 18, 22, 23, 20, 21, 5, 4, 3, 2, 1, 0, 16, 17, 13, 12, 15, 14, 10, 11, 7, 6, 9, 8], [20, 21, 18, 19, 23, 22, 10, 11, 7, 6, 9, 8, 4, 5, 1, 0, 3, 2, 17, 16, 15, 14, 13, 12], [21, 20, 23, 22, 18, 19, 11, 10, 9, 8, 7, 6, 17, 16, 15, 14, 13, 12, 4, 5, 1, 0, 3, 2], [22, 23, 19, 18, 21, 20, 16, 17, 13, 12, 15, 14, 5, 4, 3, 2, 1, 0, 11, 10, 9, 8, 7, 6], [23, 22, 21, 20, 19, 18, 17, 16, 15, 14, 13, 12, 11, 10, 9, 8, 7, 6, 5, 4, 3, 2, 1, 0]]) "
      ]
     },
     "execution_count": 11,
     "metadata": {},
     "output_type": "execute_result"
    }
   ],
   "source": [
    "s4_test = generate_symmetric_group(4)\n",
    "s4_test"
   ]
  },
  {
   "cell_type": "code",
   "execution_count": 12,
   "id": "14c2cc3c",
   "metadata": {},
   "outputs": [
    {
     "name": "stdout",
     "output_type": "stream",
     "text": [
      "\n",
      "Group: S4\n",
      "Autogenerated symmetric group on 4 elements\n",
      "Abelian? False\n",
      "Elements:\n",
      "   Index   Name   Inverse  Order\n",
      "      0 (1, 2, 3, 4) (1, 2, 3, 4)       1\n",
      "      1 (1, 2, 4, 3) (1, 2, 4, 3)       2\n",
      "      2 (1, 3, 2, 4) (1, 3, 2, 4)       2\n",
      "      3 (1, 3, 4, 2) (1, 4, 2, 3)       3\n",
      "      4 (1, 4, 2, 3) (1, 3, 4, 2)       3\n",
      "      5 (1, 4, 3, 2) (1, 4, 3, 2)       2\n",
      "      6 (2, 1, 3, 4) (2, 1, 3, 4)       2\n",
      "      7 (2, 1, 4, 3) (2, 1, 4, 3)       2\n",
      "      8 (2, 3, 1, 4) (3, 1, 2, 4)       3\n",
      "      9 (2, 3, 4, 1) (4, 1, 2, 3)       4\n",
      "     10 (2, 4, 1, 3) (3, 1, 4, 2)       4\n",
      "     11 (2, 4, 3, 1) (4, 1, 3, 2)       3\n",
      "     12 (3, 1, 2, 4) (2, 3, 1, 4)       3\n",
      "     13 (3, 1, 4, 2) (2, 4, 1, 3)       4\n",
      "     14 (3, 2, 1, 4) (3, 2, 1, 4)       2\n",
      "     15 (3, 2, 4, 1) (4, 2, 1, 3)       3\n",
      "     16 (3, 4, 1, 2) (3, 4, 1, 2)       2\n",
      "     17 (3, 4, 2, 1) (4, 3, 1, 2)       4\n",
      "     18 (4, 1, 2, 3) (2, 3, 4, 1)       4\n",
      "     19 (4, 1, 3, 2) (2, 4, 3, 1)       3\n",
      "     20 (4, 2, 1, 3) (3, 2, 4, 1)       3\n",
      "     21 (4, 2, 3, 1) (4, 2, 3, 1)       2\n",
      "     22 (4, 3, 1, 2) (3, 4, 2, 1)       4\n",
      "     23 (4, 3, 2, 1) (4, 3, 2, 1)       2\n",
      "Group order is 24 > 12, so no further info calculated/printed.\n"
     ]
    }
   ],
   "source": [
    "s4_test.about()"
   ]
  },
  {
   "cell_type": "markdown",
   "id": "c0431d76",
   "metadata": {},
   "source": [
    "## Cycle Notation"
   ]
  },
  {
   "cell_type": "code",
   "execution_count": 13,
   "id": "853acf5c",
   "metadata": {},
   "outputs": [],
   "source": [
    "def one_cycle(test_map, note, perm, order, base):\n",
    "    min_elem = min(perm)\n",
    "    cyc = [min_elem]\n",
    "    for i in range(min_elem, order):\n",
    "        last = cyc[-1]\n",
    "        next_ = test_map[last]\n",
    "        if next_ not in cyc:\n",
    "            cyc.append(next_)\n",
    "        else:\n",
    "            break\n",
    "        note.append(tuple(cyc))\n",
    "    return note, remove_items(perm, cyc)"
   ]
  },
  {
   "cell_type": "code",
   "execution_count": 14,
   "id": "6cd706ce",
   "metadata": {},
   "outputs": [
    {
     "name": "stdout",
     "output_type": "stream",
     "text": [
      "1\n",
      "4\n",
      "(1, 3, 2, 4)\n",
      "{1: 1, 2: 3, 3: 2, 4: 4}\n"
     ]
    }
   ],
   "source": [
    "#test_perm = Perm((3, 1, 4, 2))\n",
    "test = Perm((1, 3, 2, 4))\n",
    "#test = Perm((2, 1, 4, 3))\n",
    "test_map = test.mapping\n",
    "perm0 = test.perm\n",
    "size0 = max(perm0)\n",
    "base = 1\n",
    "\n",
    "print(base)\n",
    "print(size0)\n",
    "print(perm0)\n",
    "print(test_map)"
   ]
  },
  {
   "cell_type": "code",
   "execution_count": 15,
   "id": "1001d35e",
   "metadata": {},
   "outputs": [
    {
     "ename": "NameError",
     "evalue": "name 'remove_items' is not defined",
     "output_type": "error",
     "traceback": [
      "\u001b[0;31m---------------------------------------------------------------------------\u001b[0m",
      "\u001b[0;31mNameError\u001b[0m                                 Traceback (most recent call last)",
      "\u001b[0;32m<ipython-input-15-1314637f5a4a>\u001b[0m in \u001b[0;36m<module>\u001b[0;34m\u001b[0m\n\u001b[0;32m----> 1\u001b[0;31m \u001b[0mcyc1\u001b[0m\u001b[0;34m,\u001b[0m \u001b[0mperm1\u001b[0m \u001b[0;34m=\u001b[0m \u001b[0mone_cycle\u001b[0m\u001b[0;34m(\u001b[0m\u001b[0mtest_map\u001b[0m\u001b[0;34m,\u001b[0m \u001b[0;34m[\u001b[0m\u001b[0;34m]\u001b[0m\u001b[0;34m,\u001b[0m \u001b[0mperm0\u001b[0m\u001b[0;34m,\u001b[0m \u001b[0msize0\u001b[0m\u001b[0;34m,\u001b[0m \u001b[0mbase\u001b[0m\u001b[0;34m)\u001b[0m\u001b[0;34m\u001b[0m\u001b[0;34m\u001b[0m\u001b[0m\n\u001b[0m\u001b[1;32m      2\u001b[0m \u001b[0mprint\u001b[0m\u001b[0;34m(\u001b[0m\u001b[0mcyc1\u001b[0m\u001b[0;34m,\u001b[0m \u001b[0mperm1\u001b[0m\u001b[0;34m)\u001b[0m\u001b[0;34m\u001b[0m\u001b[0;34m\u001b[0m\u001b[0m\n",
      "\u001b[0;32m<ipython-input-13-063933e436f4>\u001b[0m in \u001b[0;36mone_cycle\u001b[0;34m(test_map, note, perm, order, base)\u001b[0m\n\u001b[1;32m     10\u001b[0m             \u001b[0;32mbreak\u001b[0m\u001b[0;34m\u001b[0m\u001b[0;34m\u001b[0m\u001b[0m\n\u001b[1;32m     11\u001b[0m         \u001b[0mnote\u001b[0m\u001b[0;34m.\u001b[0m\u001b[0mappend\u001b[0m\u001b[0;34m(\u001b[0m\u001b[0mtuple\u001b[0m\u001b[0;34m(\u001b[0m\u001b[0mcyc\u001b[0m\u001b[0;34m)\u001b[0m\u001b[0;34m)\u001b[0m\u001b[0;34m\u001b[0m\u001b[0;34m\u001b[0m\u001b[0m\n\u001b[0;32m---> 12\u001b[0;31m     \u001b[0;32mreturn\u001b[0m \u001b[0mnote\u001b[0m\u001b[0;34m,\u001b[0m \u001b[0mremove_items\u001b[0m\u001b[0;34m(\u001b[0m\u001b[0mperm\u001b[0m\u001b[0;34m,\u001b[0m \u001b[0mcyc\u001b[0m\u001b[0;34m)\u001b[0m\u001b[0;34m\u001b[0m\u001b[0;34m\u001b[0m\u001b[0m\n\u001b[0m",
      "\u001b[0;31mNameError\u001b[0m: name 'remove_items' is not defined"
     ]
    }
   ],
   "source": [
    "cyc1, perm1 = one_cycle(test_map, [], perm0, size0, base)\n",
    "print(cyc1, perm1)"
   ]
  },
  {
   "cell_type": "code",
   "execution_count": 16,
   "id": "b6400f1d",
   "metadata": {},
   "outputs": [
    {
     "ename": "NameError",
     "evalue": "name 'cyc1' is not defined",
     "output_type": "error",
     "traceback": [
      "\u001b[0;31m---------------------------------------------------------------------------\u001b[0m",
      "\u001b[0;31mNameError\u001b[0m                                 Traceback (most recent call last)",
      "\u001b[0;32m<ipython-input-16-0ddba8a472d5>\u001b[0m in \u001b[0;36m<module>\u001b[0;34m\u001b[0m\n\u001b[0;32m----> 1\u001b[0;31m \u001b[0mcyc2\u001b[0m\u001b[0;34m,\u001b[0m \u001b[0mperm2\u001b[0m \u001b[0;34m=\u001b[0m \u001b[0mone_cycle\u001b[0m\u001b[0;34m(\u001b[0m\u001b[0mtest_map\u001b[0m\u001b[0;34m,\u001b[0m \u001b[0mcyc1\u001b[0m\u001b[0;34m,\u001b[0m \u001b[0mperm1\u001b[0m\u001b[0;34m,\u001b[0m \u001b[0msize0\u001b[0m\u001b[0;34m,\u001b[0m \u001b[0mbase\u001b[0m\u001b[0;34m)\u001b[0m\u001b[0;34m\u001b[0m\u001b[0;34m\u001b[0m\u001b[0m\n\u001b[0m\u001b[1;32m      2\u001b[0m \u001b[0mprint\u001b[0m\u001b[0;34m(\u001b[0m\u001b[0mcyc2\u001b[0m\u001b[0;34m,\u001b[0m \u001b[0mperm2\u001b[0m\u001b[0;34m)\u001b[0m\u001b[0;34m\u001b[0m\u001b[0;34m\u001b[0m\u001b[0m\n",
      "\u001b[0;31mNameError\u001b[0m: name 'cyc1' is not defined"
     ]
    }
   ],
   "source": [
    "cyc2, perm2 = one_cycle(test_map, cyc1, perm1, size0, base)\n",
    "print(cyc2, perm2)"
   ]
  },
  {
   "cell_type": "code",
   "execution_count": 17,
   "id": "5158429e",
   "metadata": {},
   "outputs": [
    {
     "ename": "NameError",
     "evalue": "name 'cyc2' is not defined",
     "output_type": "error",
     "traceback": [
      "\u001b[0;31m---------------------------------------------------------------------------\u001b[0m",
      "\u001b[0;31mNameError\u001b[0m                                 Traceback (most recent call last)",
      "\u001b[0;32m<ipython-input-17-0705f6603bcb>\u001b[0m in \u001b[0;36m<module>\u001b[0;34m\u001b[0m\n\u001b[0;32m----> 1\u001b[0;31m \u001b[0mcyc3\u001b[0m\u001b[0;34m,\u001b[0m \u001b[0mperm3\u001b[0m \u001b[0;34m=\u001b[0m \u001b[0mone_cycle\u001b[0m\u001b[0;34m(\u001b[0m\u001b[0mtest_map\u001b[0m\u001b[0;34m,\u001b[0m \u001b[0mcyc2\u001b[0m\u001b[0;34m,\u001b[0m \u001b[0mperm2\u001b[0m\u001b[0;34m,\u001b[0m \u001b[0msize0\u001b[0m\u001b[0;34m,\u001b[0m \u001b[0mbase\u001b[0m\u001b[0;34m)\u001b[0m\u001b[0;34m\u001b[0m\u001b[0;34m\u001b[0m\u001b[0m\n\u001b[0m",
      "\u001b[0;31mNameError\u001b[0m: name 'cyc2' is not defined"
     ]
    }
   ],
   "source": [
    "cyc3, perm3 = one_cycle(test_map, cyc2, perm2, size0, base)"
   ]
  },
  {
   "cell_type": "code",
   "execution_count": 18,
   "id": "a605e593",
   "metadata": {},
   "outputs": [
    {
     "ename": "NameError",
     "evalue": "name 'cyc3' is not defined",
     "output_type": "error",
     "traceback": [
      "\u001b[0;31m---------------------------------------------------------------------------\u001b[0m",
      "\u001b[0;31mNameError\u001b[0m                                 Traceback (most recent call last)",
      "\u001b[0;32m<ipython-input-18-f75806fb1261>\u001b[0m in \u001b[0;36m<module>\u001b[0;34m\u001b[0m\n\u001b[0;32m----> 1\u001b[0;31m \u001b[0mprint\u001b[0m\u001b[0;34m(\u001b[0m\u001b[0mcyc3\u001b[0m\u001b[0;34m,\u001b[0m \u001b[0mperm3\u001b[0m\u001b[0;34m)\u001b[0m\u001b[0;34m\u001b[0m\u001b[0;34m\u001b[0m\u001b[0m\n\u001b[0m",
      "\u001b[0;31mNameError\u001b[0m: name 'cyc3' is not defined"
     ]
    }
   ],
   "source": [
    "print(cyc3, perm3)"
   ]
  },
  {
   "cell_type": "code",
   "execution_count": 19,
   "id": "aac817b9",
   "metadata": {},
   "outputs": [],
   "source": [
    "def cycle(perm):\n",
    "    result = []\n",
    "    perm_map = perm.mapping\n",
    "    perm = perm.perm\n",
    "    size = max(perm)\n",
    "    base = 1\n",
    "    while perm:\n",
    "        x, perm = one_cycle(perm_map, perm, size, base)\n",
    "        result.append(x)\n",
    "    return x"
   ]
  },
  {
   "cell_type": "code",
   "execution_count": 20,
   "id": "32f2ad57",
   "metadata": {},
   "outputs": [
    {
     "data": {
      "text/plain": [
       "Perm((1, 3, 2, 4))"
      ]
     },
     "execution_count": 20,
     "metadata": {},
     "output_type": "execute_result"
    }
   ],
   "source": [
    "test"
   ]
  },
  {
   "cell_type": "code",
   "execution_count": 21,
   "id": "b9283f78",
   "metadata": {},
   "outputs": [
    {
     "ename": "TypeError",
     "evalue": "one_cycle() missing 1 required positional argument: 'base'",
     "output_type": "error",
     "traceback": [
      "\u001b[0;31m---------------------------------------------------------------------------\u001b[0m",
      "\u001b[0;31mTypeError\u001b[0m                                 Traceback (most recent call last)",
      "\u001b[0;32m<ipython-input-21-55e588a2f476>\u001b[0m in \u001b[0;36m<module>\u001b[0;34m\u001b[0m\n\u001b[0;32m----> 1\u001b[0;31m \u001b[0mcycle\u001b[0m\u001b[0;34m(\u001b[0m\u001b[0mtest\u001b[0m\u001b[0;34m)\u001b[0m\u001b[0;34m\u001b[0m\u001b[0;34m\u001b[0m\u001b[0m\n\u001b[0m",
      "\u001b[0;32m<ipython-input-19-bb5a34bcde17>\u001b[0m in \u001b[0;36mcycle\u001b[0;34m(perm)\u001b[0m\n\u001b[1;32m      6\u001b[0m     \u001b[0mbase\u001b[0m \u001b[0;34m=\u001b[0m \u001b[0;36m1\u001b[0m\u001b[0;34m\u001b[0m\u001b[0;34m\u001b[0m\u001b[0m\n\u001b[1;32m      7\u001b[0m     \u001b[0;32mwhile\u001b[0m \u001b[0mperm\u001b[0m\u001b[0;34m:\u001b[0m\u001b[0;34m\u001b[0m\u001b[0;34m\u001b[0m\u001b[0m\n\u001b[0;32m----> 8\u001b[0;31m         \u001b[0mx\u001b[0m\u001b[0;34m,\u001b[0m \u001b[0mperm\u001b[0m \u001b[0;34m=\u001b[0m \u001b[0mone_cycle\u001b[0m\u001b[0;34m(\u001b[0m\u001b[0mperm_map\u001b[0m\u001b[0;34m,\u001b[0m \u001b[0mperm\u001b[0m\u001b[0;34m,\u001b[0m \u001b[0msize\u001b[0m\u001b[0;34m,\u001b[0m \u001b[0mbase\u001b[0m\u001b[0;34m)\u001b[0m\u001b[0;34m\u001b[0m\u001b[0;34m\u001b[0m\u001b[0m\n\u001b[0m\u001b[1;32m      9\u001b[0m         \u001b[0mresult\u001b[0m\u001b[0;34m.\u001b[0m\u001b[0mappend\u001b[0m\u001b[0;34m(\u001b[0m\u001b[0mx\u001b[0m\u001b[0;34m)\u001b[0m\u001b[0;34m\u001b[0m\u001b[0;34m\u001b[0m\u001b[0m\n\u001b[1;32m     10\u001b[0m     \u001b[0;32mreturn\u001b[0m \u001b[0mx\u001b[0m\u001b[0;34m\u001b[0m\u001b[0;34m\u001b[0m\u001b[0m\n",
      "\u001b[0;31mTypeError\u001b[0m: one_cycle() missing 1 required positional argument: 'base'"
     ]
    }
   ],
   "source": [
    "cycle(test)"
   ]
  }
 ],
 "metadata": {
  "kernelspec": {
   "display_name": "Python 3",
   "language": "python",
   "name": "python3"
  },
  "language_info": {
   "codemirror_mode": {
    "name": "ipython",
    "version": 3
   },
   "file_extension": ".py",
   "mimetype": "text/x-python",
   "name": "python",
   "nbconvert_exporter": "python",
   "pygments_lexer": "ipython3",
   "version": "3.7.7"
  }
 },
 "nbformat": 4,
 "nbformat_minor": 5
}
