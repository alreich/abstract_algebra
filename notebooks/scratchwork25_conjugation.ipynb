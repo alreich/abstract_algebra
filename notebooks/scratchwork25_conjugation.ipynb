{
 "cells": [
  {
   "cell_type": "markdown",
   "id": "a50b27f4",
   "metadata": {},
   "source": [
    "# Conjugation"
   ]
  },
  {
   "cell_type": "code",
   "execution_count": 45,
   "id": "3151c155",
   "metadata": {},
   "outputs": [],
   "source": [
    "import finite_algebras as alg\n",
    "import numpy as np"
   ]
  },
  {
   "cell_type": "code",
   "execution_count": 46,
   "id": "aa96f363",
   "metadata": {},
   "outputs": [],
   "source": [
    "F3 = alg.generate_algebra_mod_n(3, elem_name='')\n",
    "F3sqr = F3.sqr()\n",
    "F3quad = F3sqr.sqr()"
   ]
  },
  {
   "cell_type": "raw",
   "id": "12c1e164",
   "metadata": {},
   "source": [
    "    def conj(self, elem):\n",
    "        \"\"\"Return the conjugate of the element according to the following recursive definition:\n",
    "        conj(a) = a, conj(a:b) = (conj(a), -b).\n",
    "        \"\"\"\n",
    "        delimiter = self.direct_product_delimiter()\n",
    "        if delimiter in elem:  # eg: '1:2' or '1:2:3:4'\n",
    "            head, tail = self.split_element(elem)  # eg: '1', '2' or '1:2', '3:4'\n",
    "            zero = self.zero\n",
    "            if delimiter in zero:\n",
    "                z = self.split_element(zero)[1]\n",
    "            else:\n",
    "                z = self.zero\n",
    "            tailx = delimiter.join([tail, z])  # eg: '2:0' or '3:4:0:0'\n",
    "            tail_neg = self.inv(tailx)  # eg: '...' or '...'\n",
    "            return delimiter.join([head, tail_neg[0]])  # eg: ...\n",
    "        else:\n",
    "            return elem"
   ]
  },
  {
   "cell_type": "code",
   "execution_count": 47,
   "id": "2c84367d",
   "metadata": {},
   "outputs": [],
   "source": [
    "a1 = '2'\n",
    "b1 = '1:2'\n",
    "c1 = '1:2:2:1'"
   ]
  },
  {
   "cell_type": "code",
   "execution_count": 48,
   "id": "551bbb9e",
   "metadata": {},
   "outputs": [
    {
     "data": {
      "text/plain": [
       "'1:1'"
      ]
     },
     "execution_count": 48,
     "metadata": {},
     "output_type": "execute_result"
    }
   ],
   "source": [
    "F3sqr.conj(b1)"
   ]
  },
  {
   "cell_type": "code",
   "execution_count": 49,
   "id": "590cdb8d",
   "metadata": {},
   "outputs": [
    {
     "data": {
      "text/plain": [
       "'1:2:1:2'"
      ]
     },
     "execution_count": 49,
     "metadata": {},
     "output_type": "execute_result"
    }
   ],
   "source": [
    "F3quad.conj(c1)"
   ]
  },
  {
   "cell_type": "raw",
   "id": "595b3bac",
   "metadata": {},
   "source": [
    "delimiter = F3.direct_product_delimiter()\n",
    "delimiter"
   ]
  },
  {
   "cell_type": "raw",
   "id": "7c1a2030",
   "metadata": {},
   "source": [
    "def new_conj(algebra, elem):\n",
    "    delimiter = algebra.direct_product_delimiter()\n",
    "    if delimiter in elem:\n",
    "        head, tail = algebra.split_element(elem)\n",
    "        zero = algebra.zero\n",
    "        if delimiter in zero:\n",
    "            z = algebra.split_element(zero)[1]\n",
    "        else:\n",
    "            z = zero\n",
    "        tailx = delimiter.join([tail, z])\n",
    "        tail_neg = algebra.inv(tailx)\n",
    "        tailx0 = algebra.split_element(tail_neg)[0]\n",
    "        return delimiter.join([head, tailx0])\n",
    "    else:\n",
    "        return elem"
   ]
  },
  {
   "cell_type": "raw",
   "id": "a3d6082b",
   "metadata": {},
   "source": [
    "algebra = F3quad\n",
    "elem = c1"
   ]
  },
  {
   "cell_type": "raw",
   "id": "ba3bc731",
   "metadata": {},
   "source": [
    "algebra = F3sqr\n",
    "elem = b1"
   ]
  },
  {
   "cell_type": "code",
   "execution_count": 50,
   "id": "1860087f",
   "metadata": {},
   "outputs": [],
   "source": [
    "algebra = F3\n",
    "elem = a1"
   ]
  },
  {
   "cell_type": "code",
   "execution_count": 51,
   "id": "30714b03",
   "metadata": {},
   "outputs": [
    {
     "ename": "ValueError",
     "evalue": "not enough values to unpack (expected 2, got 1)",
     "output_type": "error",
     "traceback": [
      "\u001b[0;31m---------------------------------------------------------------------------\u001b[0m",
      "\u001b[0;31mValueError\u001b[0m                                Traceback (most recent call last)",
      "Cell \u001b[0;32mIn[51], line 1\u001b[0m\n\u001b[0;32m----> 1\u001b[0m head, tail \u001b[38;5;241m=\u001b[39m algebra\u001b[38;5;241m.\u001b[39msplit_element(elem)\n\u001b[1;32m      2\u001b[0m \u001b[38;5;28mprint\u001b[39m(head, tail)\n",
      "\u001b[0;31mValueError\u001b[0m: not enough values to unpack (expected 2, got 1)"
     ]
    }
   ],
   "source": [
    "head, tail = algebra.split_element(elem)\n",
    "print(head, tail)"
   ]
  },
  {
   "cell_type": "code",
   "execution_count": null,
   "id": "58c16eee",
   "metadata": {},
   "outputs": [],
   "source": [
    "zero = algebra.zero\n",
    "zero"
   ]
  },
  {
   "cell_type": "code",
   "execution_count": null,
   "id": "d043c923",
   "metadata": {},
   "outputs": [],
   "source": [
    "delimiter = algebra.direct_product_delimiter()\n",
    "if delimiter in zero:\n",
    "    z = algebra.split_element(zero)[1]\n",
    "z"
   ]
  },
  {
   "cell_type": "code",
   "execution_count": null,
   "id": "90f32d45",
   "metadata": {},
   "outputs": [],
   "source": [
    "tailx = delimiter.join([tail, z])\n",
    "tailx"
   ]
  },
  {
   "cell_type": "code",
   "execution_count": null,
   "id": "86255b93",
   "metadata": {},
   "outputs": [],
   "source": [
    "tail_neg = algebra.inv(tailx)\n",
    "tail_neg"
   ]
  },
  {
   "cell_type": "code",
   "execution_count": null,
   "id": "5a9a90b4",
   "metadata": {},
   "outputs": [],
   "source": [
    "tailx0 = algebra.split_element(tail_neg)[0]\n",
    "tailx0"
   ]
  },
  {
   "cell_type": "code",
   "execution_count": null,
   "id": "1a654784",
   "metadata": {},
   "outputs": [],
   "source": [
    "delimiter.join([head, tailx0])"
   ]
  },
  {
   "cell_type": "code",
   "execution_count": null,
   "id": "ccb42e90",
   "metadata": {},
   "outputs": [],
   "source": []
  },
  {
   "cell_type": "code",
   "execution_count": 52,
   "id": "d6610095",
   "metadata": {},
   "outputs": [
    {
     "data": {
      "text/plain": [
       "'2'"
      ]
     },
     "execution_count": 52,
     "metadata": {},
     "output_type": "execute_result"
    }
   ],
   "source": [
    "algebra.new_conj(elem)"
   ]
  },
  {
   "cell_type": "code",
   "execution_count": null,
   "id": "15b3e0d5",
   "metadata": {},
   "outputs": [],
   "source": []
  }
 ],
 "metadata": {
  "kernelspec": {
   "display_name": "Python 3 (ipykernel)",
   "language": "python",
   "name": "python3"
  },
  "language_info": {
   "codemirror_mode": {
    "name": "ipython",
    "version": 3
   },
   "file_extension": ".py",
   "mimetype": "text/x-python",
   "name": "python",
   "nbconvert_exporter": "python",
   "pygments_lexer": "ipython3",
   "version": "3.11.5"
  }
 },
 "nbformat": 4,
 "nbformat_minor": 5
}
