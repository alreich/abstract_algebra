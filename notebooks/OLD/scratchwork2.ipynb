{
 "cells": [
  {
   "cell_type": "markdown",
   "id": "ae3a9652",
   "metadata": {},
   "source": [
    "# Scratchwork 2"
   ]
  },
  {
   "cell_type": "code",
   "execution_count": 1,
   "id": "0b105319",
   "metadata": {},
   "outputs": [],
   "source": [
    "from cayley_table import CayleyTable\n",
    "from finite_algebras import *"
   ]
  },
  {
   "cell_type": "code",
   "execution_count": 2,
   "id": "ed654ca5",
   "metadata": {},
   "outputs": [],
   "source": [
    "rps_table = [[0, 1, 0], [1, 1, 2], [0, 2, 2]]"
   ]
  },
  {
   "cell_type": "code",
   "execution_count": 3,
   "id": "50f17825",
   "metadata": {},
   "outputs": [
    {
     "data": {
      "text/plain": [
       "Magma(\n",
       "RPS,\n",
       "Rock, Paper, Scissors,\n",
       "['r', 'p', 's'],\n",
       "[[0, 1, 0], [1, 1, 2], [0, 2, 2]]\n",
       ")"
      ]
     },
     "execution_count": 3,
     "metadata": {},
     "output_type": "execute_result"
    }
   ],
   "source": [
    "rps0 = make_finite_algebra('RPS', \"Rock, Paper, Scissors\", ['r', 'p', 's'], rps_table)\n",
    "rps0"
   ]
  },
  {
   "cell_type": "code",
   "execution_count": 4,
   "id": "7645c15e",
   "metadata": {},
   "outputs": [
    {
     "data": {
      "text/plain": [
       "Magma(\n",
       "RPS,\n",
       "Rock, Paper, Scissors,\n",
       "['r', 'p', 's'],\n",
       "[[0, 1, 0], [1, 1, 2], [0, 2, 2]]\n",
       ")"
      ]
     },
     "execution_count": 4,
     "metadata": {},
     "output_type": "execute_result"
    }
   ],
   "source": [
    "rps = Magma('RPS', \"Rock, Paper, Scissors\", ['r', 'p', 's'], rps_table)\n",
    "rps"
   ]
  },
  {
   "cell_type": "code",
   "execution_count": 5,
   "id": "dcf91bc6",
   "metadata": {},
   "outputs": [],
   "source": [
    "def index_table_from_name_table(elements, name_table):\n",
    "    return [[elements.index(elem_name) for elem_name in row] for row in name_table]"
   ]
  },
  {
   "cell_type": "code",
   "execution_count": 6,
   "id": "99889b63",
   "metadata": {},
   "outputs": [
    {
     "data": {
      "text/plain": [
       "[[0, 1, 0], [1, 1, 2], [0, 2, 2]]"
      ]
     },
     "execution_count": 6,
     "metadata": {},
     "output_type": "execute_result"
    }
   ],
   "source": [
    "rps_table"
   ]
  },
  {
   "cell_type": "code",
   "execution_count": 7,
   "id": "69aa39e4",
   "metadata": {},
   "outputs": [
    {
     "data": {
      "text/plain": [
       "Magma(\n",
       "RPS,\n",
       "Rock, Paper, Scissors,\n",
       "['r', 'p', 's'],\n",
       "[[0, 1, 0], [1, 1, 2], [0, 2, 2]]\n",
       ")"
      ]
     },
     "execution_count": 7,
     "metadata": {},
     "output_type": "execute_result"
    }
   ],
   "source": [
    "make_finite_algebra('RPS', \"Rock, Paper, Scissors\", ['r', 'p', 's'], rps_table)"
   ]
  },
  {
   "cell_type": "code",
   "execution_count": 8,
   "id": "d0544c9b",
   "metadata": {},
   "outputs": [
    {
     "data": {
      "text/plain": [
       "Magma(\n",
       "RPS,\n",
       "Rock, Paper, Scissors,\n",
       "['r', 'p', 's'],\n",
       "[[0, 1, 0], [1, 1, 2], [0, 2, 2]]\n",
       ")"
      ]
     },
     "execution_count": 8,
     "metadata": {},
     "output_type": "execute_result"
    }
   ],
   "source": [
    "Magma('RPS', \"Rock, Paper, Scissors\", ['r', 'p', 's'], rps_table)"
   ]
  },
  {
   "cell_type": "code",
   "execution_count": 9,
   "id": "48e4f0b2",
   "metadata": {},
   "outputs": [
    {
     "name": "stdout",
     "output_type": "stream",
     "text": [
      "OK\n"
     ]
    }
   ],
   "source": [
    "if rps.op() is None:\n",
    "    print(\"OK\")"
   ]
  },
  {
   "cell_type": "code",
   "execution_count": 10,
   "id": "7ef0a97e",
   "metadata": {},
   "outputs": [
    {
     "data": {
      "text/plain": [
       "'r'"
      ]
     },
     "execution_count": 10,
     "metadata": {},
     "output_type": "execute_result"
    }
   ],
   "source": [
    "rps.op('r')"
   ]
  },
  {
   "cell_type": "code",
   "execution_count": 11,
   "id": "1c8cc72c",
   "metadata": {},
   "outputs": [
    {
     "data": {
      "text/plain": [
       "'r'"
      ]
     },
     "execution_count": 11,
     "metadata": {},
     "output_type": "execute_result"
    }
   ],
   "source": [
    "rps.op('r', 's')"
   ]
  },
  {
   "cell_type": "code",
   "execution_count": null,
   "id": "37d7d467",
   "metadata": {},
   "outputs": [],
   "source": []
  },
  {
   "cell_type": "code",
   "execution_count": null,
   "id": "d9129e0e",
   "metadata": {},
   "outputs": [],
   "source": []
  },
  {
   "cell_type": "code",
   "execution_count": null,
   "id": "e6d54d36",
   "metadata": {},
   "outputs": [],
   "source": []
  },
  {
   "cell_type": "code",
   "execution_count": 12,
   "id": "546778a2",
   "metadata": {},
   "outputs": [],
   "source": [
    "import os, json\n",
    "aa_path = os.path.join(os.getenv(\"PYPROJ\"), \"abstract_algebra\")\n",
    "alg_dir = os.path.join(aa_path, \"Algebras\")"
   ]
  },
  {
   "cell_type": "code",
   "execution_count": 13,
   "id": "676e9bcb",
   "metadata": {},
   "outputs": [
    {
     "name": "stdout",
     "output_type": "stream",
     "text": [
      "{\"name\": \"V4\",\r\n",
      " \"description\": \"Klein-4 group\",\r\n",
      " \"elements\": [\"e\", \"h\", \"v\", \"r\"],\r\n",
      " \"table\": [[0, 1, 2, 3],\r\n",
      "           [1, 0, 3, 2],\r\n",
      "           [2, 3, 0, 1],\r\n",
      "           [3, 2, 1, 0]]\r\n",
      "}\r\n"
     ]
    }
   ],
   "source": [
    "v4_json = os.path.join(alg_dir, \"v4_klein_4_group.json\")\n",
    "!cat {v4_json}"
   ]
  },
  {
   "cell_type": "code",
   "execution_count": 14,
   "id": "c07b2dfe",
   "metadata": {},
   "outputs": [
    {
     "data": {
      "text/plain": [
       "Group(\n",
       "V4,\n",
       "Klein-4 group,\n",
       "['e', 'h', 'v', 'r'],\n",
       "[[0, 1, 2, 3], [1, 0, 3, 2], [2, 3, 0, 1], [3, 2, 1, 0]]\n",
       ")"
      ]
     },
     "execution_count": 14,
     "metadata": {},
     "output_type": "execute_result"
    }
   ],
   "source": [
    "v4 = make_finite_algebra(v4_json)\n",
    "v4"
   ]
  },
  {
   "cell_type": "code",
   "execution_count": 15,
   "id": "a9a41800",
   "metadata": {},
   "outputs": [
    {
     "data": {
      "text/plain": [
       "'e'"
      ]
     },
     "execution_count": 15,
     "metadata": {},
     "output_type": "execute_result"
    }
   ],
   "source": [
    "v4.op()"
   ]
  },
  {
   "cell_type": "code",
   "execution_count": 16,
   "id": "a37f4f8a",
   "metadata": {},
   "outputs": [
    {
     "data": {
      "text/plain": [
       "'h'"
      ]
     },
     "execution_count": 16,
     "metadata": {},
     "output_type": "execute_result"
    }
   ],
   "source": [
    "v4.op('h')"
   ]
  },
  {
   "cell_type": "code",
   "execution_count": 18,
   "id": "7a6183de",
   "metadata": {},
   "outputs": [
    {
     "data": {
      "text/plain": [
       "'e'"
      ]
     },
     "execution_count": 18,
     "metadata": {},
     "output_type": "execute_result"
    }
   ],
   "source": [
    "v4.op('h', 'v', 'r')"
   ]
  },
  {
   "cell_type": "code",
   "execution_count": null,
   "id": "12a9629a",
   "metadata": {},
   "outputs": [],
   "source": []
  },
  {
   "cell_type": "markdown",
   "id": "b76deba1",
   "metadata": {},
   "source": [
    "## For Unit Tests"
   ]
  },
  {
   "cell_type": "code",
   "execution_count": null,
   "id": "a6248c61",
   "metadata": {},
   "outputs": [],
   "source": [
    "import pprint as pp"
   ]
  },
  {
   "cell_type": "code",
   "execution_count": null,
   "id": "36cc12ee",
   "metadata": {},
   "outputs": [],
   "source": [
    "z4 = generate_cyclic_group(4, name=\"Z4\", description=\"Cyclic group\")\n",
    "str(z4)"
   ]
  },
  {
   "cell_type": "code",
   "execution_count": null,
   "id": "cd750089",
   "metadata": {},
   "outputs": [],
   "source": [
    "z4.elements"
   ]
  },
  {
   "cell_type": "code",
   "execution_count": null,
   "id": "49a492f0",
   "metadata": {},
   "outputs": [],
   "source": [
    "z4.table"
   ]
  },
  {
   "cell_type": "code",
   "execution_count": null,
   "id": "183d8715",
   "metadata": {},
   "outputs": [],
   "source": [
    "z4.is_associative()"
   ]
  },
  {
   "cell_type": "code",
   "execution_count": null,
   "id": "5e89e21b",
   "metadata": {},
   "outputs": [],
   "source": [
    "z4.is_commutative()"
   ]
  },
  {
   "cell_type": "code",
   "execution_count": null,
   "id": "9bebcd42",
   "metadata": {},
   "outputs": [],
   "source": [
    "z4.identity"
   ]
  },
  {
   "cell_type": "code",
   "execution_count": null,
   "id": "7f97340e",
   "metadata": {},
   "outputs": [],
   "source": [
    "s3 = generate_symmetric_group(3, name=\"S3\", description=\"Symmetric group\")\n",
    "s3"
   ]
  },
  {
   "cell_type": "code",
   "execution_count": null,
   "id": "122185c8",
   "metadata": {},
   "outputs": [],
   "source": [
    "s3.elements"
   ]
  },
  {
   "cell_type": "code",
   "execution_count": null,
   "id": "f986b7e5",
   "metadata": {},
   "outputs": [],
   "source": [
    "s3.table"
   ]
  },
  {
   "cell_type": "code",
   "execution_count": null,
   "id": "e7cd9db9",
   "metadata": {},
   "outputs": [],
   "source": [
    "s3.is_associative()"
   ]
  },
  {
   "cell_type": "code",
   "execution_count": null,
   "id": "6da94890",
   "metadata": {},
   "outputs": [],
   "source": [
    "s3.is_commutative()"
   ]
  },
  {
   "cell_type": "code",
   "execution_count": null,
   "id": "45f5032f",
   "metadata": {},
   "outputs": [],
   "source": [
    "s3.identity"
   ]
  },
  {
   "cell_type": "code",
   "execution_count": null,
   "id": "3ddfb289",
   "metadata": {},
   "outputs": [],
   "source": []
  },
  {
   "cell_type": "code",
   "execution_count": null,
   "id": "4ecb3c57",
   "metadata": {},
   "outputs": [],
   "source": [
    "ex141_tbl = [[0, 3, 0, 3, 0, 3],\n",
    "             [1, 4, 1, 4, 1, 4],\n",
    "             [2, 5, 2, 5, 2, 5],\n",
    "             [3, 0, 3, 0, 3, 0],\n",
    "             [4, 1, 4, 1, 4, 1],\n",
    "             [5, 2, 5, 2, 5, 2]]\n",
    "\n",
    "ex141 = make_finite_algebra(\"Example 141\", \"Smarandache\", ['a', 'b', 'c', 'd', 'e', 'f'], ex141_tbl)\n",
    "ex141"
   ]
  },
  {
   "cell_type": "code",
   "execution_count": null,
   "id": "3c10ded4",
   "metadata": {},
   "outputs": [],
   "source": [
    "ex141.op(\"a\", \"b\", \"c\")"
   ]
  },
  {
   "cell_type": "code",
   "execution_count": null,
   "id": "708c79cb",
   "metadata": {},
   "outputs": [],
   "source": []
  },
  {
   "cell_type": "code",
   "execution_count": null,
   "id": "50f1c06e",
   "metadata": {},
   "outputs": [],
   "source": [
    "ps3 = generate_powerset_group(3, \"PS3\", \"Powerset group\")\n",
    "ps3"
   ]
  },
  {
   "cell_type": "code",
   "execution_count": null,
   "id": "8f6dafad",
   "metadata": {},
   "outputs": [],
   "source": [
    "ps3.is_associative()"
   ]
  },
  {
   "cell_type": "code",
   "execution_count": null,
   "id": "01eabf48",
   "metadata": {},
   "outputs": [],
   "source": [
    "ps3.is_commutative()"
   ]
  },
  {
   "cell_type": "code",
   "execution_count": null,
   "id": "d71b4e8a",
   "metadata": {},
   "outputs": [],
   "source": [
    "ps3.identity"
   ]
  },
  {
   "cell_type": "code",
   "execution_count": null,
   "id": "303bc9d2",
   "metadata": {},
   "outputs": [],
   "source": [
    "ps3_mult_tbl = powerset_mult_table(3)\n",
    "ps3_mult_tbl"
   ]
  },
  {
   "cell_type": "code",
   "execution_count": null,
   "id": "7265d095",
   "metadata": {},
   "outputs": [],
   "source": []
  },
  {
   "cell_type": "code",
   "execution_count": null,
   "id": "a6d0fe20",
   "metadata": {},
   "outputs": [],
   "source": [
    "psr = generate_powerset_ring(3, \"PSR3\", \"Powerset ring\")"
   ]
  },
  {
   "cell_type": "code",
   "execution_count": null,
   "id": "5f3f6c26",
   "metadata": {},
   "outputs": [],
   "source": [
    "psr"
   ]
  },
  {
   "cell_type": "code",
   "execution_count": null,
   "id": "5a9101e2",
   "metadata": {},
   "outputs": [],
   "source": []
  }
 ],
 "metadata": {
  "kernelspec": {
   "display_name": "Python 3",
   "language": "python",
   "name": "python3"
  },
  "language_info": {
   "codemirror_mode": {
    "name": "ipython",
    "version": 3
   },
   "file_extension": ".py",
   "mimetype": "text/x-python",
   "name": "python",
   "nbconvert_exporter": "python",
   "pygments_lexer": "ipython3",
   "version": "3.7.7"
  }
 },
 "nbformat": 4,
 "nbformat_minor": 5
}
