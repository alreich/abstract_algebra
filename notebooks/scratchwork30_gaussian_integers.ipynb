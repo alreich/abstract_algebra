{
 "cells": [
  {
   "cell_type": "markdown",
   "id": "d7c1a34e",
   "metadata": {},
   "source": [
    "# Gaussian Integers"
   ]
  },
  {
   "cell_type": "markdown",
   "id": "78d12b9c-d027-4465-a0d6-010afaef30b1",
   "metadata": {},
   "source": [
    "> <i>In number theory, a Gaussian integer is a complex number whose real and imaginary parts are both integers. The Gaussian integers, with ordinary addition and multiplication of complex numbers, form an integral domain, usually written as $\\mathbb{Z}[i]$.</i>\n",
    "> \n",
    "> <i>Gaussian integers are named after the German mathematician Carl Friedrich Gauss.</i>\n",
    "> \n",
    "> -- [Wikipedia](https://en.wikipedia.org/wiki/Gaussian_integer)"
   ]
  },
  {
   "cell_type": "markdown",
   "id": "a4f1b845-dd43-41ef-8c6d-54ba8fc4becf",
   "metadata": {},
   "source": [
    "## References"
   ]
  },
  {
   "cell_type": "markdown",
   "id": "75df8af6-cc44-48ae-9453-9736d0bc0c9b",
   "metadata": {},
   "source": [
    "* [The Gaussian Integers](https://kconrad.math.uconn.edu/blurbs/ugradnumthy/Zinotes.pdf) by Keith Conrad $\\Leftarrow$ An excellent intro to Gaussian integers\n",
    "* [Gaussian integer -- Wikipedia](https://en.wikipedia.org/wiki/Gaussian_integer)\n",
    "* [Python standard operators](https://docs.python.org/3/library/operator.html) -- as many of these as possible are implemented, while still working exclusively with integers"
   ]
  },
  {
   "cell_type": "markdown",
   "id": "f61934d4-1336-4066-b6ec-5244c170c0ff",
   "metadata": {},
   "source": [
    "## The Gint Class"
   ]
  },
  {
   "cell_type": "markdown",
   "id": "12a7040a-1a27-4c8a-9ab3-76ec2349c523",
   "metadata": {},
   "source": [
    "The Python module, ``gaussian_integers``, defines a class, ``Gint``, that implements an object with Gaussian integer functionality."
   ]
  },
  {
   "cell_type": "code",
   "execution_count": 1,
   "id": "ddfb290e",
   "metadata": {},
   "outputs": [],
   "source": [
    "from gaussian_integers import Gint"
   ]
  },
  {
   "cell_type": "markdown",
   "id": "fe7551f5-0f7d-4ef8-8285-7784cf08200d",
   "metadata": {},
   "source": [
    "## Creating Gints"
   ]
  },
  {
   "cell_type": "code",
   "execution_count": 2,
   "id": "95b2e594-5821-458c-9885-ba091b26d296",
   "metadata": {},
   "outputs": [
    {
     "data": {
      "text/plain": [
       "Gint(4, 5)"
      ]
     },
     "execution_count": 2,
     "metadata": {},
     "output_type": "execute_result"
    }
   ],
   "source": [
    "c1 = Gint(4, 5)\n",
    "c1"
   ]
  },
  {
   "cell_type": "code",
   "execution_count": 3,
   "id": "d27667e0-e674-46be-908d-14e13041cda3",
   "metadata": {},
   "outputs": [
    {
     "data": {
      "text/plain": [
       "Gint(1, -2)"
      ]
     },
     "execution_count": 3,
     "metadata": {},
     "output_type": "execute_result"
    }
   ],
   "source": [
    "c2 = Gint(1, -2)\n",
    "c2"
   ]
  },
  {
   "cell_type": "code",
   "execution_count": 4,
   "id": "477b5afb-6158-4799-869d-df2fc7ee9039",
   "metadata": {},
   "outputs": [
    {
     "data": {
      "text/plain": [
       "Gint(1, 0)"
      ]
     },
     "execution_count": 4,
     "metadata": {},
     "output_type": "execute_result"
    }
   ],
   "source": [
    "one = Gint()\n",
    "one"
   ]
  },
  {
   "cell_type": "markdown",
   "id": "b8580910",
   "metadata": {},
   "source": [
    "``Gint.eye()`` is a class method."
   ]
  },
  {
   "cell_type": "code",
   "execution_count": 5,
   "id": "cd426515-fdb5-4350-90ac-5b2c93f4b829",
   "metadata": {},
   "outputs": [
    {
     "data": {
      "text/plain": [
       "Gint(0, 1)"
      ]
     },
     "execution_count": 5,
     "metadata": {},
     "output_type": "execute_result"
    }
   ],
   "source": [
    "eye = Gint.eye()  # i\n",
    "eye"
   ]
  },
  {
   "cell_type": "markdown",
   "id": "e246e72d-7267-4248-8147-e9ee823b63da",
   "metadata": {},
   "source": [
    "## Printing Gints"
   ]
  },
  {
   "cell_type": "markdown",
   "id": "f57e835d-bc87-4fa1-9342-ab52742d0dd4",
   "metadata": {},
   "source": [
    "When Python prints an object it calls the built-in method, ``__str__``, for the object, if it exists, and uses its output to print the object.\n",
    "\n",
    "For ``Gint``, the string representation is the same as that of a complex number in Python.  So, in printed form, a ``Gint`` looks like an ordinary Python complex number."
   ]
  },
  {
   "cell_type": "code",
   "execution_count": 6,
   "id": "11e1f38a-58f4-4931-8778-7a788998dba3",
   "metadata": {},
   "outputs": [
    {
     "data": {
      "text/plain": [
       "Gint(4, 5)"
      ]
     },
     "execution_count": 6,
     "metadata": {},
     "output_type": "execute_result"
    }
   ],
   "source": [
    "c1"
   ]
  },
  {
   "cell_type": "code",
   "execution_count": 7,
   "id": "9d7a4cbb-f4fd-45fd-9a7e-5b0787356e58",
   "metadata": {},
   "outputs": [
    {
     "name": "stdout",
     "output_type": "stream",
     "text": [
      "(4+5j)\n"
     ]
    }
   ],
   "source": [
    "print(c1)"
   ]
  },
  {
   "cell_type": "markdown",
   "id": "80751cc9-0c8f-49fb-b9f3-4ed65bb3e3fc",
   "metadata": {},
   "source": [
    "## Gint Arithmetic"
   ]
  },
  {
   "cell_type": "markdown",
   "id": "34d6d752-6ce1-4690-aec2-d27c0dace1c2",
   "metadata": {},
   "source": [
    "**Addition:**"
   ]
  },
  {
   "cell_type": "code",
   "execution_count": 8,
   "id": "09f3245e-7542-4a79-b305-76be47ea0807",
   "metadata": {},
   "outputs": [
    {
     "name": "stdout",
     "output_type": "stream",
     "text": [
      "(4+5j) + (1-2j) = (5+3j)\n"
     ]
    }
   ],
   "source": [
    "print(f\"{c1} + {c2} = {c1 + c2}\")"
   ]
  },
  {
   "cell_type": "markdown",
   "id": "bb9dfafb-1cd8-446b-8a56-7d73cc23169c",
   "metadata": {},
   "source": [
    "**Subtraction:**"
   ]
  },
  {
   "cell_type": "code",
   "execution_count": 9,
   "id": "6e9296f5-979b-4ae6-b9ec-840cd1813105",
   "metadata": {},
   "outputs": [
    {
     "name": "stdout",
     "output_type": "stream",
     "text": [
      "(4+5j) - (1-2j) = (3+7j)\n"
     ]
    }
   ],
   "source": [
    "print(f\"{c1} - {c2} = {c1 - c2}\")"
   ]
  },
  {
   "cell_type": "markdown",
   "id": "1dee2598-1bde-46b1-86aa-018145898d17",
   "metadata": {},
   "source": [
    "**Multiplication:**"
   ]
  },
  {
   "cell_type": "code",
   "execution_count": 10,
   "id": "58610822-f13c-4100-99aa-988289c47439",
   "metadata": {},
   "outputs": [
    {
     "name": "stdout",
     "output_type": "stream",
     "text": [
      "(4+5j) x (1-2j) = (14-3j)\n"
     ]
    }
   ],
   "source": [
    "print(f\"{c1} x {c2} = {c1 * c2}\")"
   ]
  },
  {
   "cell_type": "markdown",
   "id": "3c19601c-808a-4c96-bda8-eb81853bad6d",
   "metadata": {},
   "source": [
    "**Division, maybe:**"
   ]
  },
  {
   "cell_type": "markdown",
   "id": "e0668cfa-01c5-4448-988e-26e9949f294b",
   "metadata": {},
   "source": [
    "In general, the division of arbitrarily chosen Gaussian integers is not guaranteed to return another Gaussian integer. This no different than ordinary integers. For example, 7/3 does not return an integer, but 8/4 does. Similarly, the division of a Gaussian integer by another Gaussian integer might return a Gaussian integer; then again, it might not.\n",
    "\n",
    "Here's an example where it does."
   ]
  },
  {
   "cell_type": "markdown",
   "id": "609c6459-043f-4dd8-9dd9-5ffebc83ecb4",
   "metadata": {},
   "source": [
    "Recall from above, the product $c_1 \\times c_2 \\equiv c_3$.  The examples below compute $c_3 / c_1$ and $c_3 / c_2$."
   ]
  },
  {
   "cell_type": "code",
   "execution_count": 11,
   "id": "0f4e2519-e63c-4aa5-a057-498abc76e604",
   "metadata": {},
   "outputs": [
    {
     "name": "stdout",
     "output_type": "stream",
     "text": [
      "(4+5j) x (1-2j) = (14-3j)\n"
     ]
    }
   ],
   "source": [
    "c3 = c1 * c2\n",
    "print(f\"{c1} x {c2} = {c3}\")"
   ]
  },
  {
   "cell_type": "code",
   "execution_count": 12,
   "id": "3c0f79ad",
   "metadata": {},
   "outputs": [
    {
     "name": "stdout",
     "output_type": "stream",
     "text": [
      "(14-3j) / (4+5j) = (1-2j)\n"
     ]
    }
   ],
   "source": [
    "print(f\"{c3} / {c1} = {c3 / c1}\")  # Example 2.1 in [Conrad]"
   ]
  },
  {
   "cell_type": "code",
   "execution_count": 13,
   "id": "ea6bbf71",
   "metadata": {},
   "outputs": [
    {
     "name": "stdout",
     "output_type": "stream",
     "text": [
      "(14-3j) / (1-2j) = (4+5j)\n"
     ]
    }
   ],
   "source": [
    "print(f\"{c3} / {c2} = {c3 / c2}\")"
   ]
  },
  {
   "cell_type": "markdown",
   "id": "bdbc9268-f6b8-4c15-93e0-8a3b57fe31d7",
   "metadata": {},
   "source": [
    "And, here's what happens if a Gint cannot be divided by another Gint:"
   ]
  },
  {
   "cell_type": "code",
   "execution_count": 14,
   "id": "3748cd66-fd7e-4e0e-9f9e-62822da5a52c",
   "metadata": {},
   "outputs": [
    {
     "data": {
      "text/plain": [
       "False"
      ]
     },
     "execution_count": 14,
     "metadata": {},
     "output_type": "execute_result"
    }
   ],
   "source": [
    "c2 / c1"
   ]
  },
  {
   "cell_type": "code",
   "execution_count": 15,
   "id": "939b6921",
   "metadata": {},
   "outputs": [
    {
     "data": {
      "text/plain": [
       "False"
      ]
     },
     "execution_count": 15,
     "metadata": {},
     "output_type": "execute_result"
    }
   ],
   "source": [
    "Gint(14, 3) / Gint(4, 5)  # Example 2.2 in [Conrad]"
   ]
  },
  {
   "cell_type": "markdown",
   "id": "4b13dba1-03da-46ca-9b4b-f846ffa49e20",
   "metadata": {},
   "source": [
    "So, in ``gaussian_integers``, division, via the operator ``/``, is a test. If true, it returns the actual quotient as a ``Gint``, otherwise it returns ``False``."
   ]
  },
  {
   "cell_type": "markdown",
   "id": "b6783b2f-d059-4ede-81ea-70d9bdaa1d3b",
   "metadata": {},
   "source": [
    "**Division by an integer, maybe**"
   ]
  },
  {
   "cell_type": "code",
   "execution_count": 16,
   "id": "bb09eb13-8f16-437a-a2c7-c604476a12b5",
   "metadata": {},
   "outputs": [
    {
     "name": "stdout",
     "output_type": "stream",
     "text": [
      "(4+12j) / 4 = (1+3j)\n"
     ]
    }
   ],
   "source": [
    "c4 = Gint(4, 12)\n",
    "d = 4\n",
    "\n",
    "print(f\"{c4} / {d} = {c4 / d}\")"
   ]
  },
  {
   "cell_type": "code",
   "execution_count": 17,
   "id": "9e19450b-8cb7-4dd9-98e0-acbe7231d820",
   "metadata": {},
   "outputs": [
    {
     "data": {
      "text/plain": [
       "False"
      ]
     },
     "execution_count": 17,
     "metadata": {},
     "output_type": "execute_result"
    }
   ],
   "source": [
    "c4 / 3"
   ]
  },
  {
   "cell_type": "markdown",
   "id": "87d9c92f-fdd1-4623-8eea-5168ee59c496",
   "metadata": {},
   "source": [
    "**Multiplication by ordinary integers:**"
   ]
  },
  {
   "cell_type": "code",
   "execution_count": 18,
   "id": "1f1c9fb4",
   "metadata": {},
   "outputs": [
    {
     "data": {
      "text/plain": [
       "Gint(4, 5)"
      ]
     },
     "execution_count": 18,
     "metadata": {},
     "output_type": "execute_result"
    }
   ],
   "source": [
    "c1"
   ]
  },
  {
   "cell_type": "code",
   "execution_count": 19,
   "id": "5bdfa75a",
   "metadata": {},
   "outputs": [
    {
     "data": {
      "text/plain": [
       "Gint(8, 10)"
      ]
     },
     "execution_count": 19,
     "metadata": {},
     "output_type": "execute_result"
    }
   ],
   "source": [
    "c1 * 2"
   ]
  },
  {
   "cell_type": "code",
   "execution_count": 20,
   "id": "b838ac1c",
   "metadata": {},
   "outputs": [
    {
     "data": {
      "text/plain": [
       "Gint(8, 10)"
      ]
     },
     "execution_count": 20,
     "metadata": {},
     "output_type": "execute_result"
    }
   ],
   "source": [
    "2 * c1"
   ]
  },
  {
   "cell_type": "markdown",
   "id": "0aad2c1a",
   "metadata": {},
   "source": [
    "**Non-Negative Integer Powers of a Gint:**"
   ]
  },
  {
   "cell_type": "code",
   "execution_count": 21,
   "id": "b63bbd19",
   "metadata": {},
   "outputs": [
    {
     "data": {
      "text/plain": [
       "Gint(-236, 115)"
      ]
     },
     "execution_count": 21,
     "metadata": {},
     "output_type": "execute_result"
    }
   ],
   "source": [
    "c1 * c1 * c1"
   ]
  },
  {
   "cell_type": "code",
   "execution_count": 22,
   "id": "2702ff47",
   "metadata": {},
   "outputs": [
    {
     "data": {
      "text/plain": [
       "Gint(-236, 115)"
      ]
     },
     "execution_count": 22,
     "metadata": {},
     "output_type": "execute_result"
    }
   ],
   "source": [
    "c1**3"
   ]
  },
  {
   "cell_type": "markdown",
   "id": "210ccace",
   "metadata": {},
   "source": [
    "Raising any ``Gint`` to the power 0 will result in the ``Gint`` equivalent of 1, i.e., Gint(1, 0)."
   ]
  },
  {
   "cell_type": "code",
   "execution_count": 23,
   "id": "aa3dfea6",
   "metadata": {},
   "outputs": [
    {
     "data": {
      "text/plain": [
       "Gint(1, 0)"
      ]
     },
     "execution_count": 23,
     "metadata": {},
     "output_type": "execute_result"
    }
   ],
   "source": [
    "c1**0"
   ]
  },
  {
   "cell_type": "markdown",
   "id": "02525a98",
   "metadata": {},
   "source": [
    "The power must a a non-negative integer."
   ]
  },
  {
   "cell_type": "code",
   "execution_count": 24,
   "id": "c16e9853",
   "metadata": {},
   "outputs": [
    {
     "name": "stdout",
     "output_type": "stream",
     "text": [
      "The power, -2, is not a positive integer.\n"
     ]
    }
   ],
   "source": [
    "try:\n",
    "    c1**-2\n",
    "except Exception as exc:\n",
    "    print(exc)"
   ]
  },
  {
   "cell_type": "markdown",
   "id": "1662e8bf-b86e-41f3-8c65-adfdeae38889",
   "metadata": {},
   "source": [
    "**Negation**"
   ]
  },
  {
   "cell_type": "code",
   "execution_count": 25,
   "id": "9675dcc0",
   "metadata": {},
   "outputs": [
    {
     "data": {
      "text/plain": [
       "Gint(-4, -5)"
      ]
     },
     "execution_count": 25,
     "metadata": {},
     "output_type": "execute_result"
    }
   ],
   "source": [
    "-c1"
   ]
  },
  {
   "cell_type": "code",
   "execution_count": 26,
   "id": "e084092f",
   "metadata": {},
   "outputs": [
    {
     "data": {
      "text/plain": [
       "Gint(1, -2)"
      ]
     },
     "execution_count": 26,
     "metadata": {},
     "output_type": "execute_result"
    }
   ],
   "source": [
    "c2"
   ]
  },
  {
   "cell_type": "code",
   "execution_count": 27,
   "id": "6e80c5ec",
   "metadata": {},
   "outputs": [
    {
     "data": {
      "text/plain": [
       "Gint(-1, 2)"
      ]
     },
     "execution_count": 27,
     "metadata": {},
     "output_type": "execute_result"
    }
   ],
   "source": [
    "-c2"
   ]
  },
  {
   "cell_type": "markdown",
   "id": "907d5579-368b-4f4a-beee-65e650fd341d",
   "metadata": {},
   "source": [
    "## Testing for Equality or Inequality"
   ]
  },
  {
   "cell_type": "code",
   "execution_count": 28,
   "id": "1158d727",
   "metadata": {},
   "outputs": [
    {
     "data": {
      "text/plain": [
       "True"
      ]
     },
     "execution_count": 28,
     "metadata": {},
     "output_type": "execute_result"
    }
   ],
   "source": [
    "c1 == Gint(4, 5)"
   ]
  },
  {
   "cell_type": "code",
   "execution_count": 29,
   "id": "08d55e55",
   "metadata": {},
   "outputs": [
    {
     "data": {
      "text/plain": [
       "False"
      ]
     },
     "execution_count": 29,
     "metadata": {},
     "output_type": "execute_result"
    }
   ],
   "source": [
    "c1 == c2"
   ]
  },
  {
   "cell_type": "code",
   "execution_count": 30,
   "id": "e2173d4f",
   "metadata": {},
   "outputs": [
    {
     "data": {
      "text/plain": [
       "True"
      ]
     },
     "execution_count": 30,
     "metadata": {},
     "output_type": "execute_result"
    }
   ],
   "source": [
    "c1 != c2"
   ]
  },
  {
   "cell_type": "markdown",
   "id": "381f41b9-e20d-4444-b557-4ede0a5b1458",
   "metadata": {},
   "source": [
    "## The Norm is Multiplicative"
   ]
  },
  {
   "cell_type": "markdown",
   "id": "e4013289-d6ea-4790-8793-055e6123a242",
   "metadata": {},
   "source": [
    "The following identity holds for norms of Gaussian integers: $N(c_1)N(c_2) = N(c_1 \\times c_2)$"
   ]
  },
  {
   "cell_type": "markdown",
   "id": "e8443108-a644-48fc-8764-ef8ac586011e",
   "metadata": {},
   "source": [
    "Recall that $c_1 \\times c_2 \\equiv c_3$"
   ]
  },
  {
   "cell_type": "code",
   "execution_count": 31,
   "id": "aee51ac2-5e1c-474b-84aa-a6879add444b",
   "metadata": {},
   "outputs": [
    {
     "name": "stdout",
     "output_type": "stream",
     "text": [
      "41 x 5 = 205 = 205\n"
     ]
    }
   ],
   "source": [
    "print(f\"{c1.norm} x {c2.norm} = {c1.norm * c2.norm} = {c3.norm}\")"
   ]
  },
  {
   "cell_type": "markdown",
   "id": "3bfae184-a61f-490f-8764-54b54706c4cd",
   "metadata": {},
   "source": [
    "## Conjugates"
   ]
  },
  {
   "cell_type": "code",
   "execution_count": 32,
   "id": "ee8a5f14-bc74-4a24-a72c-ed559bf96687",
   "metadata": {},
   "outputs": [
    {
     "data": {
      "text/plain": [
       "Gint(4, 5)"
      ]
     },
     "execution_count": 32,
     "metadata": {},
     "output_type": "execute_result"
    }
   ],
   "source": [
    "c1"
   ]
  },
  {
   "cell_type": "code",
   "execution_count": 33,
   "id": "9cfcbb15-883f-4508-8589-3cefd2c44470",
   "metadata": {},
   "outputs": [
    {
     "data": {
      "text/plain": [
       "Gint(4, -5)"
      ]
     },
     "execution_count": 33,
     "metadata": {},
     "output_type": "execute_result"
    }
   ],
   "source": [
    "c1.conj"
   ]
  },
  {
   "cell_type": "code",
   "execution_count": 34,
   "id": "c5f0d690-631a-45f4-9a06-09ce5f38854c",
   "metadata": {},
   "outputs": [
    {
     "data": {
      "text/plain": [
       "Gint(41, 0)"
      ]
     },
     "execution_count": 34,
     "metadata": {},
     "output_type": "execute_result"
    }
   ],
   "source": [
    "c1 * c1.conj  # The norm is just the real part of this product"
   ]
  },
  {
   "cell_type": "markdown",
   "id": "609a1f80-3c8f-4dd1-b1ee-d1235e3d11ac",
   "metadata": {},
   "source": [
    "## Class Methods"
   ]
  },
  {
   "cell_type": "code",
   "execution_count": 35,
   "id": "91949d72-607d-403c-bcd1-de810010b858",
   "metadata": {},
   "outputs": [
    {
     "data": {
      "text/plain": [
       "Gint(0, 1)"
      ]
     },
     "execution_count": 35,
     "metadata": {},
     "output_type": "execute_result"
    }
   ],
   "source": [
    "i = Gint.eye()\n",
    "i"
   ]
  },
  {
   "cell_type": "code",
   "execution_count": 36,
   "id": "d5a4b0f1",
   "metadata": {},
   "outputs": [
    {
     "data": {
      "text/plain": [
       "Gint(-1, 0)"
      ]
     },
     "execution_count": 36,
     "metadata": {},
     "output_type": "execute_result"
    }
   ],
   "source": [
    "i * i"
   ]
  },
  {
   "cell_type": "code",
   "execution_count": 37,
   "id": "244e9d8a",
   "metadata": {},
   "outputs": [
    {
     "data": {
      "text/plain": [
       "True"
      ]
     },
     "execution_count": 37,
     "metadata": {},
     "output_type": "execute_result"
    }
   ],
   "source": [
    "i * i == -one"
   ]
  },
  {
   "cell_type": "code",
   "execution_count": 38,
   "id": "a37a2a1d-5be3-4ad4-9d2b-773f17ecbf64",
   "metadata": {},
   "outputs": [
    {
     "data": {
      "text/plain": [
       "[Gint(1, 0), Gint(-1, 0), Gint(0, 1), Gint(0, -1)]"
      ]
     },
     "execution_count": 38,
     "metadata": {},
     "output_type": "execute_result"
    }
   ],
   "source": [
    "Gint.units()"
   ]
  },
  {
   "cell_type": "markdown",
   "id": "b27c34c9",
   "metadata": {},
   "source": [
    "# Scratchwork"
   ]
  },
  {
   "cell_type": "code",
   "execution_count": 39,
   "id": "4d326fc4",
   "metadata": {
    "scrolled": true
   },
   "outputs": [
    {
     "data": {
      "text/plain": [
       "Gint(4, 5)"
      ]
     },
     "execution_count": 39,
     "metadata": {},
     "output_type": "execute_result"
    }
   ],
   "source": [
    "c1"
   ]
  },
  {
   "cell_type": "code",
   "execution_count": 41,
   "id": "e1dc0373",
   "metadata": {},
   "outputs": [
    {
     "data": {
      "text/plain": [
       "[Gint(-4, -5), Gint(-5, 4), Gint(5, -4)]"
      ]
     },
     "execution_count": 41,
     "metadata": {},
     "output_type": "execute_result"
    }
   ],
   "source": [
    "c1.associates()"
   ]
  },
  {
   "cell_type": "code",
   "execution_count": 44,
   "id": "2b845e9a",
   "metadata": {},
   "outputs": [
    {
     "data": {
      "text/plain": [
       "[True, True, True]"
      ]
     },
     "execution_count": 44,
     "metadata": {},
     "output_type": "execute_result"
    }
   ],
   "source": [
    "list(map(lambda x: c1.is_associate(x), c1.associates()))"
   ]
  },
  {
   "cell_type": "code",
   "execution_count": 45,
   "id": "e080535b",
   "metadata": {},
   "outputs": [
    {
     "data": {
      "text/plain": [
       "False"
      ]
     },
     "execution_count": 45,
     "metadata": {},
     "output_type": "execute_result"
    }
   ],
   "source": [
    "c2.is_associate(Gint(-5, 4))"
   ]
  },
  {
   "cell_type": "code",
   "execution_count": null,
   "id": "3cbfee55",
   "metadata": {},
   "outputs": [],
   "source": []
  }
 ],
 "metadata": {
  "kernelspec": {
   "display_name": "Python 3 (ipykernel)",
   "language": "python",
   "name": "python3"
  },
  "language_info": {
   "codemirror_mode": {
    "name": "ipython",
    "version": 3
   },
   "file_extension": ".py",
   "mimetype": "text/x-python",
   "name": "python",
   "nbconvert_exporter": "python",
   "pygments_lexer": "ipython3",
   "version": "3.11.5"
  }
 },
 "nbformat": 4,
 "nbformat_minor": 5
}
