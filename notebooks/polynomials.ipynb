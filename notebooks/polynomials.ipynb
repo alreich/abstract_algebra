{
 "cells": [
  {
   "cell_type": "markdown",
   "id": "f928f7a3",
   "metadata": {},
   "source": [
    "# Abstract Polynomials"
   ]
  },
  {
   "cell_type": "markdown",
   "id": "29c09137",
   "metadata": {},
   "source": [
    "This is an experimental notebook."
   ]
  },
  {
   "cell_type": "markdown",
   "id": "88d3b6a2",
   "metadata": {},
   "source": [
    "## Ordinary Polynomials"
   ]
  },
  {
   "cell_type": "code",
   "execution_count": 1,
   "id": "51b55d5e",
   "metadata": {},
   "outputs": [],
   "source": [
    "def power(x, n):\n",
    "    result = 1\n",
    "    for _ in range(n):\n",
    "        result = result * x\n",
    "    return result"
   ]
  },
  {
   "cell_type": "code",
   "execution_count": 2,
   "id": "7790113a",
   "metadata": {},
   "outputs": [],
   "source": [
    "class Term:\n",
    "    \n",
    "    def __init__(self, coefficient, order):\n",
    "        self.__coefficient = coefficient\n",
    "        self.__order = order\n",
    "        self.__varname = \"x\"\n",
    "        \n",
    "    def __repr__(self):\n",
    "        return f\"Term({self.__coefficient},{self.__order})\"\n",
    "    \n",
    "    def __str__(self):\n",
    "        if self.__order == 0:\n",
    "            return f\"{self.__coefficient}\"\n",
    "        elif self.__order == 1:\n",
    "            return f\"{self.__coefficient}{self.__varname}\"\n",
    "        else:\n",
    "            return f\"{self.__coefficient}{self.__varname}^{self.__order}\"\n",
    "        \n",
    "    def __call__(self, x):\n",
    "        return self.__coefficient * power(x, self.__order)\n",
    "    \n",
    "    def __add__(self, other):\n",
    "        if self.__order == other.__order:\n",
    "            return Term(self.__coefficient + other.__coefficient, self.__order)\n",
    "        else:\n",
    "            raise ValueError(f\"Terms must be of the same order, {self.__order} != {other.__order}\")\n",
    "    \n",
    "    def __mul__(self, other):\n",
    "        return Term(self.__coefficient * other.__coefficient,\n",
    "                    self.__order + other.__order)\n",
    "    \n",
    "    def __eq__(self, other):\n",
    "        return (self.__varname == other.__varname and\n",
    "                self.__order == other.__order and\n",
    "                self.__coefficient == other.__coefficient)\n",
    "    \n",
    "    @property\n",
    "    def coefficient(self):\n",
    "        return self.__coefficient\n",
    "    \n",
    "    @property\n",
    "    def order(self):\n",
    "        return self.__order\n",
    "    \n",
    "    def varname(self, newname=None):\n",
    "        if newname is not None:\n",
    "            if isinstance(newname, str):\n",
    "                self.__varname = newname\n",
    "            else:\n",
    "                raise ValueError(\"Variable name must be a string.\")\n",
    "        return self.__varname\n",
    "    \n",
    "    def is_constant(self):\n",
    "        if self.__order == 0:\n",
    "            return self.__coefficient\n",
    "        else:\n",
    "            return False\n",
    "        \n",
    "    def is_linear(self):\n",
    "        if self.__order == 1:\n",
    "            return self.__coefficient\n",
    "        else:\n",
    "            return False"
   ]
  },
  {
   "cell_type": "code",
   "execution_count": 32,
   "id": "997c3760",
   "metadata": {},
   "outputs": [],
   "source": [
    "class Polynomial:\n",
    "    \n",
    "    def __init__(self, poly_string, varname):\n",
    "        self.__terms = parse_polynomial(poly_string, varname)\n",
    "\n",
    "    def __repr__(self):\n",
    "        poly_str = \"\"\n",
    "        for term in self.__terms:\n",
    "            poly_str += \" \" + str(term)\n",
    "        return poly_str\n",
    "    \n",
    "    def terms(self):\n",
    "        return self.__terms"
   ]
  },
  {
   "cell_type": "code",
   "execution_count": 3,
   "id": "470ef582",
   "metadata": {},
   "outputs": [],
   "source": [
    "def parse_term(term_str, varname):\n",
    "    \"\"\"A hacky term string parser.  Returns a Term from the input string.\"\"\"\n",
    "\n",
    "    if varname in term_str:\n",
    "        varpower = varname + \"^\"\n",
    "        if varpower in term_str:\n",
    "            args = list(map(lambda x: int(x), term_str.split(varpower)))\n",
    "        else:\n",
    "            args = [int(term_str.split(varname)[0]), 1]\n",
    "    else:\n",
    "        args = [int(term_str), 0]\n",
    "\n",
    "    return Term(args[0], args[1])"
   ]
  },
  {
   "cell_type": "code",
   "execution_count": 5,
   "id": "c45950e6",
   "metadata": {},
   "outputs": [],
   "source": [
    "def parse_polynomial(poly_str, varname):\n",
    "    return [parse_term(term, varname) for term in poly_str.split()]"
   ]
  },
  {
   "cell_type": "code",
   "execution_count": 6,
   "id": "bbc05781",
   "metadata": {},
   "outputs": [],
   "source": [
    "test0 = \"-2 -4x +7x^2 -3x^4\""
   ]
  },
  {
   "cell_type": "code",
   "execution_count": 7,
   "id": "585371f3",
   "metadata": {},
   "outputs": [
    {
     "data": {
      "text/plain": [
       "[Term(-2,0), Term(-4,1), Term(7,2), Term(-3,4)]"
      ]
     },
     "execution_count": 7,
     "metadata": {},
     "output_type": "execute_result"
    }
   ],
   "source": [
    "parse_polynomial(test0, \"x\")"
   ]
  },
  {
   "cell_type": "code",
   "execution_count": 31,
   "id": "f1753c49",
   "metadata": {},
   "outputs": [
    {
     "data": {
      "text/plain": [
       " -2 -4x 7x^2 -3x^4"
      ]
     },
     "execution_count": 31,
     "metadata": {},
     "output_type": "execute_result"
    }
   ],
   "source": [
    "poly0 = Polynomial(test0, 'x')\n",
    "poly0"
   ]
  },
  {
   "cell_type": "code",
   "execution_count": 9,
   "id": "2513338f",
   "metadata": {},
   "outputs": [
    {
     "name": "stdout",
     "output_type": "stream",
     "text": [
      "2x^3\n"
     ]
    }
   ],
   "source": [
    "t23 = Term(2, 3)\n",
    "print(t23)"
   ]
  },
  {
   "cell_type": "code",
   "execution_count": 10,
   "id": "0000529f",
   "metadata": {},
   "outputs": [
    {
     "data": {
      "text/plain": [
       "Term(2,3)"
      ]
     },
     "execution_count": 10,
     "metadata": {},
     "output_type": "execute_result"
    }
   ],
   "source": [
    "parse_term(str(t23), 'x')"
   ]
  },
  {
   "cell_type": "code",
   "execution_count": 11,
   "id": "cbc921fc",
   "metadata": {},
   "outputs": [
    {
     "name": "stdout",
     "output_type": "stream",
     "text": [
      "3x\n"
     ]
    },
    {
     "data": {
      "text/plain": [
       "3"
      ]
     },
     "execution_count": 11,
     "metadata": {},
     "output_type": "execute_result"
    }
   ],
   "source": [
    "t31 = Term(3,1)\n",
    "print(t31)\n",
    "t31.is_linear()"
   ]
  },
  {
   "cell_type": "code",
   "execution_count": 12,
   "id": "06dfc188",
   "metadata": {},
   "outputs": [
    {
     "name": "stdout",
     "output_type": "stream",
     "text": [
      "5\n"
     ]
    },
    {
     "data": {
      "text/plain": [
       "5"
      ]
     },
     "execution_count": 12,
     "metadata": {},
     "output_type": "execute_result"
    }
   ],
   "source": [
    "t50 = Term(5,0)\n",
    "print(t50)\n",
    "t50.is_constant()"
   ]
  },
  {
   "cell_type": "code",
   "execution_count": 13,
   "id": "4361b3e9",
   "metadata": {},
   "outputs": [
    {
     "name": "stdout",
     "output_type": "stream",
     "text": [
      "3x^3\n"
     ]
    }
   ],
   "source": [
    "t33 = Term(3, 3)\n",
    "print(t33)"
   ]
  },
  {
   "cell_type": "code",
   "execution_count": 14,
   "id": "3f60df7e",
   "metadata": {},
   "outputs": [
    {
     "data": {
      "text/plain": [
       "Term(5,3)"
      ]
     },
     "execution_count": 14,
     "metadata": {},
     "output_type": "execute_result"
    }
   ],
   "source": [
    "t23 + t33"
   ]
  },
  {
   "cell_type": "code",
   "execution_count": 15,
   "id": "41082aa2",
   "metadata": {},
   "outputs": [
    {
     "data": {
      "text/plain": [
       "Term(6,6)"
      ]
     },
     "execution_count": 15,
     "metadata": {},
     "output_type": "execute_result"
    }
   ],
   "source": [
    "t23 * t33"
   ]
  },
  {
   "cell_type": "code",
   "execution_count": 16,
   "id": "89c5613a",
   "metadata": {},
   "outputs": [
    {
     "data": {
      "text/plain": [
       "16"
      ]
     },
     "execution_count": 16,
     "metadata": {},
     "output_type": "execute_result"
    }
   ],
   "source": [
    "t23(2)"
   ]
  },
  {
   "cell_type": "code",
   "execution_count": 17,
   "id": "85f657ad",
   "metadata": {},
   "outputs": [],
   "source": [
    "s23 = Term(2,3)"
   ]
  },
  {
   "cell_type": "code",
   "execution_count": 18,
   "id": "c2716707",
   "metadata": {},
   "outputs": [
    {
     "data": {
      "text/plain": [
       "True"
      ]
     },
     "execution_count": 18,
     "metadata": {},
     "output_type": "execute_result"
    }
   ],
   "source": [
    "s23 == t23"
   ]
  },
  {
   "cell_type": "code",
   "execution_count": 19,
   "id": "a6376133",
   "metadata": {},
   "outputs": [
    {
     "data": {
      "text/plain": [
       "False"
      ]
     },
     "execution_count": 19,
     "metadata": {},
     "output_type": "execute_result"
    }
   ],
   "source": [
    "t23 == t33"
   ]
  },
  {
   "cell_type": "code",
   "execution_count": 20,
   "id": "dfdbf84f",
   "metadata": {},
   "outputs": [
    {
     "data": {
      "text/plain": [
       "'x'"
      ]
     },
     "execution_count": 20,
     "metadata": {},
     "output_type": "execute_result"
    }
   ],
   "source": [
    "t23.varname()"
   ]
  },
  {
   "cell_type": "code",
   "execution_count": 21,
   "id": "b3f5056c",
   "metadata": {},
   "outputs": [
    {
     "data": {
      "text/plain": [
       "'y'"
      ]
     },
     "execution_count": 21,
     "metadata": {},
     "output_type": "execute_result"
    }
   ],
   "source": [
    "t23.varname('y')"
   ]
  },
  {
   "cell_type": "code",
   "execution_count": 22,
   "id": "5fbf263c",
   "metadata": {},
   "outputs": [
    {
     "name": "stdout",
     "output_type": "stream",
     "text": [
      "2y^3\n"
     ]
    }
   ],
   "source": [
    "print(t23)"
   ]
  },
  {
   "cell_type": "code",
   "execution_count": 23,
   "id": "f204e6bd",
   "metadata": {},
   "outputs": [
    {
     "data": {
      "text/plain": [
       "3"
      ]
     },
     "execution_count": 23,
     "metadata": {},
     "output_type": "execute_result"
    }
   ],
   "source": [
    "t23.order"
   ]
  },
  {
   "cell_type": "code",
   "execution_count": 24,
   "id": "6cf07948",
   "metadata": {},
   "outputs": [
    {
     "data": {
      "text/plain": [
       "2"
      ]
     },
     "execution_count": 24,
     "metadata": {},
     "output_type": "execute_result"
    }
   ],
   "source": [
    "t23.coefficient"
   ]
  },
  {
   "cell_type": "code",
   "execution_count": null,
   "id": "324d2834",
   "metadata": {},
   "outputs": [],
   "source": []
  },
  {
   "cell_type": "code",
   "execution_count": null,
   "id": "6887b433",
   "metadata": {},
   "outputs": [],
   "source": []
  },
  {
   "cell_type": "code",
   "execution_count": null,
   "id": "8df1bbd9",
   "metadata": {},
   "outputs": [],
   "source": []
  },
  {
   "cell_type": "code",
   "execution_count": 25,
   "id": "2463decc",
   "metadata": {},
   "outputs": [],
   "source": [
    "t0, t1, t2, t3 = test0.split()"
   ]
  },
  {
   "cell_type": "code",
   "execution_count": 26,
   "id": "73550a0d",
   "metadata": {},
   "outputs": [
    {
     "data": {
      "text/plain": [
       "'-2'"
      ]
     },
     "execution_count": 26,
     "metadata": {},
     "output_type": "execute_result"
    }
   ],
   "source": [
    "t0"
   ]
  },
  {
   "cell_type": "code",
   "execution_count": 27,
   "id": "4d78ba87",
   "metadata": {},
   "outputs": [
    {
     "data": {
      "text/plain": [
       "['-4', '']"
      ]
     },
     "execution_count": 27,
     "metadata": {},
     "output_type": "execute_result"
    }
   ],
   "source": [
    "t1.split('x')"
   ]
  },
  {
   "cell_type": "code",
   "execution_count": 28,
   "id": "d0d29f2a",
   "metadata": {},
   "outputs": [
    {
     "data": {
      "text/plain": [
       "[-3, 4]"
      ]
     },
     "execution_count": 28,
     "metadata": {},
     "output_type": "execute_result"
    }
   ],
   "source": [
    "list(map(lambda x: int(x), t3.split(\"x^\")))"
   ]
  },
  {
   "cell_type": "code",
   "execution_count": 29,
   "id": "5a094c31",
   "metadata": {},
   "outputs": [
    {
     "data": {
      "text/plain": [
       "[Term(-2,0), Term(-4,1), Term(7,2), Term(-3,4)]"
      ]
     },
     "execution_count": 29,
     "metadata": {},
     "output_type": "execute_result"
    }
   ],
   "source": [
    "foo = [parse_term(y, \"x\") for y in test0.split()]\n",
    "foo"
   ]
  },
  {
   "cell_type": "code",
   "execution_count": 30,
   "id": "6e43109d",
   "metadata": {},
   "outputs": [
    {
     "name": "stdout",
     "output_type": "stream",
     "text": [
      "-2\n",
      "-4x\n",
      "7x^2\n",
      "-3x^4\n"
     ]
    },
    {
     "data": {
      "text/plain": [
       "[None, None, None, None]"
      ]
     },
     "execution_count": 30,
     "metadata": {},
     "output_type": "execute_result"
    }
   ],
   "source": [
    "[print(x) for x in foo]"
   ]
  }
 ],
 "metadata": {
  "kernelspec": {
   "display_name": "Python 3",
   "language": "python",
   "name": "python3"
  },
  "language_info": {
   "codemirror_mode": {
    "name": "ipython",
    "version": 3
   },
   "file_extension": ".py",
   "mimetype": "text/x-python",
   "name": "python",
   "nbconvert_exporter": "python",
   "pygments_lexer": "ipython3",
   "version": "3.7.7"
  }
 },
 "nbformat": 4,
 "nbformat_minor": 5
}
