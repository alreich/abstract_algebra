{
 "cells": [
  {
   "cell_type": "markdown",
   "id": "0cb84765",
   "metadata": {},
   "source": [
    "# Scratchwork 2"
   ]
  },
  {
   "cell_type": "code",
   "execution_count": 1,
   "id": "93476262",
   "metadata": {},
   "outputs": [],
   "source": [
    "from cayley_table import CayleyTable\n",
    "from finite_algebras import *"
   ]
  },
  {
   "cell_type": "code",
   "execution_count": 2,
   "id": "e496d961",
   "metadata": {},
   "outputs": [],
   "source": [
    "rps_table = [[0, 1, 0], [1, 1, 2], [0, 2, 2]]"
   ]
  },
  {
   "cell_type": "code",
   "execution_count": 3,
   "id": "a68137d3",
   "metadata": {},
   "outputs": [
    {
     "data": {
      "text/plain": [
       "Magma(\n",
       "RPS,\n",
       "Rock, Paper, Scissors,\n",
       "['r', 'p', 's'],\n",
       "[[0, 1, 0], [1, 1, 2], [0, 2, 2]]\n",
       ")"
      ]
     },
     "execution_count": 3,
     "metadata": {},
     "output_type": "execute_result"
    }
   ],
   "source": [
    "rps = Magma('RPS', \"Rock, Paper, Scissors\", ['r', 'p', 's'], rps_table)\n",
    "rps"
   ]
  },
  {
   "cell_type": "raw",
   "id": "4b4b2472",
   "metadata": {},
   "source": [
    "def finite_algebra_dict(*args):\n",
    "    \"\"\"Return a dictionary that specifies the type of algebra that the input arguments support\n",
    "    and some of its properties.\"\"\"\n",
    "\n",
    "    if len(args) == 1:\n",
    "\n",
    "        # Create from a JSON file\n",
    "        if isinstance(args[0], str):\n",
    "            with open(args[0], 'r') as fin:\n",
    "                finalg_dict = json.load(fin)\n",
    "\n",
    "        # Create from a dictionary\n",
    "        elif isinstance(args[0], dict):\n",
    "            finalg_dict = args[0]\n",
    "\n",
    "        else:\n",
    "            raise ValueError(\"If there's a single input, then it must be a string or a dictionary.\")\n",
    "\n",
    "    elif len(args) == 4:\n",
    "\n",
    "        finalg_dict = {'name': args[0],\n",
    "                       'description': args[1],\n",
    "                       'element_names': args[2],\n",
    "                       'mult_table': args[3]\n",
    "                       }\n",
    "    else:\n",
    "        raise ValueError(\"Incorrect number of input arguments.\")\n",
    "\n",
    "    tbl = finalg_dict['mult_table']\n",
    "    # Check if first element in table is a string\n",
    "    if isinstance(tbl[0][0], str):\n",
    "        tbl = index_table_from_name_table(finalg_dict['element_names'], tbl)\n",
    "    finalg_dict['table'] = CayleyTable(tbl)\n",
    "    del finalg_dict['mult_table']\n",
    "\n",
    "    finalg_dict['is_associative'] = finalg_dict['table'].is_associative()\n",
    "    finalg_dict['is_commutative'] = finalg_dict['table'].is_commutative()\n",
    "    finalg_dict['identity'] = finalg_dict['table'].identity()\n",
    "\n",
    "    if finalg_dict['identity'] is not None:\n",
    "        finalg_dict['inverses'] = finalg_dict['table'].inverse_lookup_dict(finalg_dict['identity'])\n",
    "    else:\n",
    "        inverses = None\n",
    "\n",
    "\n",
    "    if finalg_dict['is_associative']:\n",
    "        if finalg_dict['identity'] is not None:\n",
    "            if finalg_dict['inverses']:\n",
    "                finalg_dict['type'] = 'Group'\n",
    "            else:\n",
    "                finalg_dict['type'] = 'Monoid'\n",
    "        else:\n",
    "            finalg_dict['type'] = 'Semigroup'\n",
    "    else:\n",
    "        finalg_dict['type'] = 'Magma'\n",
    "    \n",
    "    return finalg_dict"
   ]
  },
  {
   "cell_type": "code",
   "execution_count": 4,
   "id": "08e8a210",
   "metadata": {},
   "outputs": [],
   "source": [
    "def make_finite_algebra(*args):\n",
    "    \"\"\"Return a finite algebra of the appropriate class, according to the input table.\"\"\"\n",
    "\n",
    "    if len(args) == 1:\n",
    "\n",
    "        # Create from a JSON file\n",
    "        if isinstance(args[0], str):\n",
    "            with open(args[0], 'r') as fin:\n",
    "                finalg_dict = json.load(fin)\n",
    "\n",
    "        # Create from a dictionary\n",
    "        elif isinstance(args[0], dict):\n",
    "            finalg_dict = args[0]\n",
    "\n",
    "        else:\n",
    "            raise ValueError(\"If there's a single input, then it must be a string or a dictionary.\")\n",
    "\n",
    "    elif len(args) == 4:\n",
    "\n",
    "        finalg_dict = {'name': args[0],\n",
    "                       'description': args[1],\n",
    "                       'element_names': args[2],\n",
    "                       'mult_table': args[3]\n",
    "                       }\n",
    "    else:\n",
    "        raise ValueError(\"Incorrect number of input arguments.\")\n",
    "    \n",
    "    name = finalg_dict['name']\n",
    "    desc = finalg_dict['description']\n",
    "    elems = finalg_dict['element_names']\n",
    "    tbl = finalg_dict['mult_table']\n",
    "    # Check if first element in table is a string\n",
    "    if isinstance(tbl[0][0], str):\n",
    "        tbl = index_table_from_name_table(elems, tbl)\n",
    "    table = CayleyTable(tbl)\n",
    "\n",
    "    is_assoc = table.is_associative()\n",
    "    # is_comm = table.is_commutative()\n",
    "    identity = table.identity()\n",
    "\n",
    "    if identity is not None:\n",
    "        inverses = table.inverse_lookup_dict(identity)\n",
    "    else:\n",
    "        inverses = None\n",
    "\n",
    "    if is_assoc:\n",
    "        if identity is not None:\n",
    "            print(f\"identity = {identity}\")\n",
    "            if inverses:\n",
    "                print(f\"inverses = {inverses}\")\n",
    "                return Group(name, desc, elems, table)\n",
    "            else:\n",
    "                return Monoid(name, desc, elems, table)\n",
    "        else:\n",
    "            return Semigroup(name, desc, elems, table)\n",
    "    else:\n",
    "        return Magma(name, desc, elems, table)"
   ]
  },
  {
   "cell_type": "code",
   "execution_count": 5,
   "id": "4ae614d4",
   "metadata": {},
   "outputs": [],
   "source": [
    "def index_table_from_name_table(elements, name_table):\n",
    "    return [[elements.index(elem_name) for elem_name in row] for row in name_table]"
   ]
  },
  {
   "cell_type": "raw",
   "id": "dff24699",
   "metadata": {},
   "source": [
    "rps_dict = finite_algebra_dict('RPS', \"Rock, Paper, Scissors\", ['r', 'p', 's'], rps_table)\n",
    "rps_dict"
   ]
  },
  {
   "cell_type": "code",
   "execution_count": 6,
   "id": "2c1fb066",
   "metadata": {},
   "outputs": [
    {
     "data": {
      "text/plain": [
       "[[0, 1, 0], [1, 1, 2], [0, 2, 2]]"
      ]
     },
     "execution_count": 6,
     "metadata": {},
     "output_type": "execute_result"
    }
   ],
   "source": [
    "rps_table"
   ]
  },
  {
   "cell_type": "code",
   "execution_count": 7,
   "id": "6b15c8cf",
   "metadata": {},
   "outputs": [
    {
     "data": {
      "text/plain": [
       "Magma(\n",
       "RPS,\n",
       "Rock, Paper, Scissors,\n",
       "['r', 'p', 's'],\n",
       "[[0, 1, 0], [1, 1, 2], [0, 2, 2]]\n",
       ")"
      ]
     },
     "execution_count": 7,
     "metadata": {},
     "output_type": "execute_result"
    }
   ],
   "source": [
    "make_finite_algebra('RPS', \"Rock, Paper, Scissors\", ['r', 'p', 's'], rps_table)"
   ]
  },
  {
   "cell_type": "code",
   "execution_count": 8,
   "id": "98dab1cb",
   "metadata": {},
   "outputs": [
    {
     "data": {
      "text/plain": [
       "Magma(\n",
       "RPS,\n",
       "Rock, Paper, Scissors,\n",
       "['r', 'p', 's'],\n",
       "[[0, 1, 0], [1, 1, 2], [0, 2, 2]]\n",
       ")"
      ]
     },
     "execution_count": 8,
     "metadata": {},
     "output_type": "execute_result"
    }
   ],
   "source": [
    "Magma('RPS', \"Rock, Paper, Scissors\", ['r', 'p', 's'], rps_table)"
   ]
  },
  {
   "cell_type": "code",
   "execution_count": null,
   "id": "c78b3d8e",
   "metadata": {},
   "outputs": [],
   "source": []
  },
  {
   "cell_type": "code",
   "execution_count": null,
   "id": "5c59d4c4",
   "metadata": {},
   "outputs": [],
   "source": []
  },
  {
   "cell_type": "code",
   "execution_count": 9,
   "id": "9e8efb0d",
   "metadata": {},
   "outputs": [],
   "source": [
    "ex141_tbl = [[0, 3, 0, 3, 0, 3],\n",
    "             [1, 4, 1, 4, 1, 4],\n",
    "             [2, 5, 2, 5, 2, 5],\n",
    "             [3, 0, 3, 0, 3, 0],\n",
    "             [4, 1, 4, 1, 4, 1],\n",
    "             [5, 2, 5, 2, 5, 2]]"
   ]
  },
  {
   "cell_type": "code",
   "execution_count": null,
   "id": "220e6619",
   "metadata": {},
   "outputs": [],
   "source": []
  },
  {
   "cell_type": "code",
   "execution_count": 10,
   "id": "0fab6774",
   "metadata": {},
   "outputs": [
    {
     "data": {
      "text/plain": [
       "Semigroup(\n",
       "Example 141,\n",
       "Smarandache,\n",
       "['a', 'b', 'c', 'd', 'e', 'f'],\n",
       "[[0, 3, 0, 3, 0, 3], [1, 4, 1, 4, 1, 4], [2, 5, 2, 5, 2, 5], [3, 0, 3, 0, 3, 0], [4, 1, 4, 1, 4, 1], [5, 2, 5, 2, 5, 2]]\n",
       ")"
      ]
     },
     "execution_count": 10,
     "metadata": {},
     "output_type": "execute_result"
    }
   ],
   "source": [
    "ex141_magma = make_finite_algebra(\"Example 141\", \"Smarandache\", ['a', 'b', 'c', 'd', 'e', 'f'], ex141_tbl)\n",
    "ex141_magma"
   ]
  },
  {
   "cell_type": "code",
   "execution_count": 11,
   "id": "30b1fe2a",
   "metadata": {},
   "outputs": [],
   "source": [
    "import os, json\n",
    "aa_path = os.path.join(os.getenv(\"PYPROJ\"), \"abstract_algebra\")\n",
    "alg_dir = os.path.join(aa_path, \"Algebras\")"
   ]
  },
  {
   "cell_type": "code",
   "execution_count": 12,
   "id": "f8e8d8ce",
   "metadata": {},
   "outputs": [
    {
     "name": "stdout",
     "output_type": "stream",
     "text": [
      "{\"type\": \"Group\",\r\n",
      " \"name\": \"V4\",\r\n",
      " \"description\": \"Klein-4 group\",\r\n",
      " \"element_names\": [\"e\", \"h\", \"v\", \"r\"],\r\n",
      " \"mult_table\": [[0, 1, 2, 3],\r\n",
      "                [1, 0, 3, 2],\r\n",
      "                [2, 3, 0, 1],\r\n",
      "                [3, 2, 1, 0]]\r\n",
      "}\r\n"
     ]
    }
   ],
   "source": [
    "v4_json = os.path.join(alg_dir, \"v4_klein_4_group.json\")\n",
    "!cat {v4_json}"
   ]
  },
  {
   "cell_type": "code",
   "execution_count": 13,
   "id": "4648ff1b",
   "metadata": {},
   "outputs": [
    {
     "name": "stdout",
     "output_type": "stream",
     "text": [
      "identity = 0\n",
      "inverses = {0: 0, 1: 1, 2: 2, 3: 3}\n"
     ]
    },
    {
     "data": {
      "text/plain": [
       "Group(\n",
       "V4,\n",
       "Klein-4 group,\n",
       "['e', 'h', 'v', 'r'],\n",
       "[[0, 1, 2, 3], [1, 0, 3, 2], [2, 3, 0, 1], [3, 2, 1, 0]]\n",
       ")"
      ]
     },
     "execution_count": 13,
     "metadata": {},
     "output_type": "execute_result"
    }
   ],
   "source": [
    "v4_dict = make_finite_algebra(v4_json)\n",
    "v4_dict"
   ]
  },
  {
   "cell_type": "code",
   "execution_count": 14,
   "id": "35f16f49",
   "metadata": {},
   "outputs": [],
   "source": [
    "import finite_algebras"
   ]
  },
  {
   "cell_type": "code",
   "execution_count": 15,
   "id": "bea0d3d4",
   "metadata": {},
   "outputs": [
    {
     "data": {
      "text/plain": [
       "['CayleyTable',\n",
       " 'Group',\n",
       " 'Magma',\n",
       " 'Monoid',\n",
       " 'Semigroup',\n",
       " '__FiniteAlgebra',\n",
       " '__builtins__',\n",
       " '__cached__',\n",
       " '__doc__',\n",
       " '__file__',\n",
       " '__loader__',\n",
       " '__name__',\n",
       " '__package__',\n",
       " '__spec__',\n",
       " 'functools',\n",
       " 'get_cached_value',\n",
       " 'index_table_from_name_table',\n",
       " 'json',\n",
       " 'make_finite_algebra']"
      ]
     },
     "execution_count": 15,
     "metadata": {},
     "output_type": "execute_result"
    }
   ],
   "source": [
    "dir(finite_algebras)"
   ]
  },
  {
   "cell_type": "code",
   "execution_count": 17,
   "id": "ed650ef6",
   "metadata": {},
   "outputs": [],
   "source": [
    "rps2 = Magma('RPS', \"Rock, Paper, Scissors\", ['r', 'p', 's'], [[0, 1, 0], [1, 1, 2], [0, 2, 2]])"
   ]
  },
  {
   "cell_type": "code",
   "execution_count": 16,
   "id": "18494e62",
   "metadata": {},
   "outputs": [
    {
     "data": {
      "text/plain": [
       "Magma(\n",
       "RPS,\n",
       "Rock, Paper, Scissors,\n",
       "['r', 'p', 's'],\n",
       "[[0, 1, 0], [1, 1, 2], [0, 2, 2]]\n",
       ")"
      ]
     },
     "execution_count": 16,
     "metadata": {},
     "output_type": "execute_result"
    }
   ],
   "source": [
    "rps"
   ]
  },
  {
   "cell_type": "code",
   "execution_count": 18,
   "id": "4820ac78",
   "metadata": {},
   "outputs": [
    {
     "data": {
      "text/plain": [
       "Magma(\n",
       "RPS,\n",
       "Rock, Paper, Scissors,\n",
       "['r', 'p', 's'],\n",
       "[[0, 1, 0], [1, 1, 2], [0, 2, 2]]\n",
       ")"
      ]
     },
     "execution_count": 18,
     "metadata": {},
     "output_type": "execute_result"
    }
   ],
   "source": [
    "rps2"
   ]
  },
  {
   "cell_type": "code",
   "execution_count": 19,
   "id": "d1920c01",
   "metadata": {},
   "outputs": [
    {
     "data": {
      "text/plain": [
       "True"
      ]
     },
     "execution_count": 19,
     "metadata": {},
     "output_type": "execute_result"
    }
   ],
   "source": [
    "rps == rps2"
   ]
  },
  {
   "cell_type": "code",
   "execution_count": null,
   "id": "7301a637",
   "metadata": {},
   "outputs": [],
   "source": []
  }
 ],
 "metadata": {
  "kernelspec": {
   "display_name": "Python 3",
   "language": "python",
   "name": "python3"
  },
  "language_info": {
   "codemirror_mode": {
    "name": "ipython",
    "version": 3
   },
   "file_extension": ".py",
   "mimetype": "text/x-python",
   "name": "python",
   "nbconvert_exporter": "python",
   "pygments_lexer": "ipython3",
   "version": "3.7.7"
  }
 },
 "nbformat": 4,
 "nbformat_minor": 5
}
