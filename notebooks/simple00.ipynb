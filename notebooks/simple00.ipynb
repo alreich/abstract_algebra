{
 "cells": [
  {
   "cell_type": "markdown",
   "id": "b8628732",
   "metadata": {},
   "source": [
    "# Simple Version 00"
   ]
  },
  {
   "cell_type": "markdown",
   "id": "1a796e50",
   "metadata": {},
   "source": [
    "This notebook is an attempt to create a very simple version of the finite algebra code."
   ]
  },
  {
   "cell_type": "code",
   "execution_count": 6,
   "id": "6cfcf3e7",
   "metadata": {},
   "outputs": [],
   "source": [
    "import numpy as np\n",
    "import itertools as it"
   ]
  },
  {
   "cell_type": "markdown",
   "id": "ad46b9fc",
   "metadata": {},
   "source": [
    "## Cayley Table"
   ]
  },
  {
   "cell_type": "markdown",
   "id": "a8f3bdfa",
   "metadata": {},
   "source": [
    "*\"Named after the 19th-century British mathematician Arthur Cayley, a Cayley table describes the structure of a finite group by arranging all the possible products of all the group's elements in a square table reminiscent of an addition or multiplication table. Many properties of a group – such as whether or not it is abelian, which elements are inverses of which elements, and the size and contents of the group's center – can be discovered from its Cayley table.\"* [Wikipedia](https://en.wikipedia.org/wiki/Cayley_table)"
   ]
  },
  {
   "cell_type": "markdown",
   "id": "7433cf95",
   "metadata": {},
   "source": [
    "Here, the **CayleyTable** class is used to represent a square array of indices, where the indices reference the positions of each of an algebra's elements within the list of all elements. For example, if there are 3 elements, [e, a, aa], then the corresponding instance of a CayleyTable will contain a 3x3 array where each array element is either a 0, 1, or 2."
   ]
  },
  {
   "cell_type": "code",
   "execution_count": 7,
   "id": "91046f76",
   "metadata": {},
   "outputs": [],
   "source": [
    "class CayleyTable:\n",
    "    \n",
    "    def __init__(self, array):\n",
    "        tmp = np.array(array, dtype=int)\n",
    "        nrows, ncols = tmp.shape\n",
    "        if nrows == ncols:\n",
    "            if (np.min(tmp) >= 0) and (np.max(tmp) < nrows):\n",
    "                self.__table = tmp\n",
    "            else:\n",
    "                raise ValueError(f\"Array elements must be integers between 0 and {nrows - 1}, inclusive.\")\n",
    "        else:\n",
    "            raise ValueError(f\"The array must be square.\")\n",
    "    \n",
    "    def __repr__(self):\n",
    "        return f\"{self.__class__.__name__}({self.__table.tolist()})\"\n",
    "    \n",
    "    def __getitem__(self, tup):\n",
    "        row, col = tup\n",
    "        return self.__table[row][col]\n",
    "    \n",
    "    @property\n",
    "    def size(self):\n",
    "        return self.__table.shape[0]\n",
    "    \n",
    "    @property\n",
    "    def array(self):\n",
    "        return self.__table"
   ]
  },
  {
   "cell_type": "code",
   "execution_count": 8,
   "id": "b5a70553",
   "metadata": {},
   "outputs": [
    {
     "data": {
      "text/plain": [
       "[[0, 1, 2], [1, 2, 0], [2, 0, 1]]"
      ]
     },
     "execution_count": 8,
     "metadata": {},
     "output_type": "execute_result"
    }
   ],
   "source": [
    "arr0 = [[0, 1, 2], [1, 2, 0], [2, 0, 1]]\n",
    "arr0"
   ]
  },
  {
   "cell_type": "code",
   "execution_count": 9,
   "id": "8b9921d0",
   "metadata": {},
   "outputs": [
    {
     "name": "stdout",
     "output_type": "stream",
     "text": [
      "The array must be square.\n"
     ]
    }
   ],
   "source": [
    "arr1 = [[0, 1, 2], [1, 2, 0]]\n",
    "try:\n",
    "    CayleyTable(arr1)\n",
    "except Exception as msg:\n",
    "    print(msg)"
   ]
  },
  {
   "cell_type": "code",
   "execution_count": 10,
   "id": "4aa2a560",
   "metadata": {},
   "outputs": [
    {
     "name": "stdout",
     "output_type": "stream",
     "text": [
      "Array elements must be integers between 0 and 2, inclusive.\n"
     ]
    }
   ],
   "source": [
    "arr2 = [[0, 1, 2], [1, 7, 0], [2, 0, 1]]\n",
    "try:\n",
    "    CayleyTable(arr2)\n",
    "except Exception as msg:\n",
    "    print(msg)"
   ]
  },
  {
   "cell_type": "code",
   "execution_count": 11,
   "id": "b9c91d4d",
   "metadata": {},
   "outputs": [
    {
     "data": {
      "text/plain": [
       "CayleyTable([[0, 1, 2], [1, 2, 0], [2, 0, 1]])"
      ]
     },
     "execution_count": 11,
     "metadata": {},
     "output_type": "execute_result"
    }
   ],
   "source": [
    "cg3 = CayleyTable(arr0)\n",
    "cg3"
   ]
  },
  {
   "cell_type": "code",
   "execution_count": 12,
   "id": "beff4171",
   "metadata": {},
   "outputs": [
    {
     "data": {
      "text/plain": [
       "array([[0, 1, 2],\n",
       "       [1, 2, 0],\n",
       "       [2, 0, 1]])"
      ]
     },
     "execution_count": 12,
     "metadata": {},
     "output_type": "execute_result"
    }
   ],
   "source": [
    "cg3.array"
   ]
  },
  {
   "cell_type": "code",
   "execution_count": 14,
   "id": "532cf006",
   "metadata": {},
   "outputs": [
    {
     "data": {
      "text/plain": [
       "3"
      ]
     },
     "execution_count": 14,
     "metadata": {},
     "output_type": "execute_result"
    }
   ],
   "source": [
    "cg3.size"
   ]
  },
  {
   "cell_type": "markdown",
   "id": "cbf6662e",
   "metadata": {},
   "source": [
    "## Binary Operator"
   ]
  },
  {
   "cell_type": "markdown",
   "id": "cb5fcf92",
   "metadata": {},
   "source": [
    "The **BinaryOperator** class brings the list of elements (as strings) together with the corresponding CayleyTable."
   ]
  },
  {
   "cell_type": "code",
   "execution_count": 15,
   "id": "b86225ee",
   "metadata": {},
   "outputs": [],
   "source": [
    "class BinaryOperator:\n",
    "    \n",
    "    def __init__(self, elements, cayley_table):\n",
    "        self.__elements = elements\n",
    "        self.__table = cayley_table\n",
    "    \n",
    "    def __call__(self, elem1, elem2):\n",
    "        row = self.__elements.index(elem1)\n",
    "        col = self.__elements.index(elem2)\n",
    "        index = self.__table[row, col]\n",
    "        return self.__elements[index]\n",
    "    \n",
    "    @property\n",
    "    def elements(self):\n",
    "        return self.__elements\n",
    "    \n",
    "    @property\n",
    "    def table(self):\n",
    "        return self.__table"
   ]
  },
  {
   "cell_type": "code",
   "execution_count": 16,
   "id": "728d80a8",
   "metadata": {},
   "outputs": [],
   "source": [
    "elems = ['e', 'a', 'aa']"
   ]
  },
  {
   "cell_type": "code",
   "execution_count": 17,
   "id": "10d011b5",
   "metadata": {},
   "outputs": [],
   "source": [
    "binop = BinaryOperator(elems, cg3)"
   ]
  },
  {
   "cell_type": "code",
   "execution_count": 18,
   "id": "41e1e0a6",
   "metadata": {},
   "outputs": [
    {
     "data": {
      "text/plain": [
       "'a'"
      ]
     },
     "execution_count": 18,
     "metadata": {},
     "output_type": "execute_result"
    }
   ],
   "source": [
    "binop('e', 'a')"
   ]
  },
  {
   "cell_type": "code",
   "execution_count": 19,
   "id": "d9b0c507",
   "metadata": {},
   "outputs": [
    {
     "data": {
      "text/plain": [
       "'aa'"
      ]
     },
     "execution_count": 19,
     "metadata": {},
     "output_type": "execute_result"
    }
   ],
   "source": [
    "binop('a', 'a')"
   ]
  },
  {
   "cell_type": "code",
   "execution_count": 20,
   "id": "c248d029",
   "metadata": {},
   "outputs": [
    {
     "data": {
      "text/plain": [
       "'e'"
      ]
     },
     "execution_count": 20,
     "metadata": {},
     "output_type": "execute_result"
    }
   ],
   "source": [
    "binop('a', 'aa')"
   ]
  },
  {
   "cell_type": "code",
   "execution_count": 21,
   "id": "8aa0c2d6",
   "metadata": {},
   "outputs": [
    {
     "data": {
      "text/plain": [
       "['e', 'a', 'aa']"
      ]
     },
     "execution_count": 21,
     "metadata": {},
     "output_type": "execute_result"
    }
   ],
   "source": [
    "binop.elements"
   ]
  },
  {
   "cell_type": "code",
   "execution_count": 22,
   "id": "1f43246a",
   "metadata": {},
   "outputs": [
    {
     "data": {
      "text/plain": [
       "CayleyTable([[0, 1, 2], [1, 2, 0], [2, 0, 1]])"
      ]
     },
     "execution_count": 22,
     "metadata": {},
     "output_type": "execute_result"
    }
   ],
   "source": [
    "binop.table"
   ]
  },
  {
   "cell_type": "code",
   "execution_count": 23,
   "id": "48b76f1d",
   "metadata": {},
   "outputs": [
    {
     "data": {
      "text/plain": [
       "array([[0, 1, 2],\n",
       "       [1, 2, 0],\n",
       "       [2, 0, 1]])"
      ]
     },
     "execution_count": 23,
     "metadata": {},
     "output_type": "execute_result"
    }
   ],
   "source": [
    "binop.table.array"
   ]
  },
  {
   "cell_type": "markdown",
   "id": "8d5933dd",
   "metadata": {},
   "source": [
    "## Algebra"
   ]
  },
  {
   "cell_type": "markdown",
   "id": "e1d58cea",
   "metadata": {},
   "source": [
    "An **Algebra** consists of a set of elements with an associated binary operator, usually referred to as \"multiplication\" or \"addition\", depending on whether the operator is represented as $\\times$ or $+$, resp."
   ]
  },
  {
   "cell_type": "code",
   "execution_count": 24,
   "id": "47d4ba70",
   "metadata": {},
   "outputs": [],
   "source": [
    "class Algebra:\n",
    "    \n",
    "    def __init__(self, elements, array):\n",
    "        self.__binop = BinaryOperator(elements, CayleyTable(array))\n",
    "        \n",
    "    def __getitem__(self, index):\n",
    "        return self.__binop.elements[index]\n",
    "    \n",
    "    @property\n",
    "    def elements(self):\n",
    "        return self.__binop.elements\n",
    "    \n",
    "    @property\n",
    "    def order(self):\n",
    "        return len(self.elements)\n",
    "    \n",
    "    @property\n",
    "    def table(self):\n",
    "        return self.__binop.table\n",
    "    \n",
    "    def __repr__(self):\n",
    "        return f\"Algebra(\\n{self.elements},\\n {self.table.array.tolist()})\"\n",
    "    \n",
    "    def op(self, elem1, elem2):\n",
    "        \"\"\"Use the algebra's binary operation to add/multiply two of it's elements,\n",
    "        and return the sum/product.\n",
    "        \"\"\"\n",
    "        return self.__binop(elem1, elem2)\n",
    "    \n",
    "    def __mul__(self, other):\n",
    "        \"\"\"Return the direct product of self with other. Other must be an algebra\n",
    "        \"\"\"\n",
    "        dp_elements = list(it.product(self.elements, other.elements))  # cross-product of elements\n",
    "        dp_table = list()  # start a new table\n",
    "        for a in dp_elements:\n",
    "            dp_table_row = list()  # Start a new row\n",
    "            for b in dp_elements:\n",
    "                dp_table_row.append(dp_elements.index((self.op(a[0], b[0]), other.op(a[1], b[1]))))\n",
    "            dp_table.append(dp_table_row)  # Append the new row to the table\n",
    "        return Algebra(list([f\"{elem[0]}:{elem[1]}\" for elem in dp_elements]),\n",
    "                       dp_table)"
   ]
  },
  {
   "cell_type": "code",
   "execution_count": 25,
   "id": "58d384ac",
   "metadata": {},
   "outputs": [],
   "source": [
    "alg0 = Algebra(elems, arr0)"
   ]
  },
  {
   "cell_type": "code",
   "execution_count": 26,
   "id": "9e01e349",
   "metadata": {},
   "outputs": [
    {
     "data": {
      "text/plain": [
       "['e', 'a', 'aa']"
      ]
     },
     "execution_count": 26,
     "metadata": {},
     "output_type": "execute_result"
    }
   ],
   "source": [
    "alg0.elements"
   ]
  },
  {
   "cell_type": "code",
   "execution_count": 27,
   "id": "cddb6c60",
   "metadata": {},
   "outputs": [
    {
     "data": {
      "text/plain": [
       "3"
      ]
     },
     "execution_count": 27,
     "metadata": {},
     "output_type": "execute_result"
    }
   ],
   "source": [
    "alg0.order"
   ]
  },
  {
   "cell_type": "code",
   "execution_count": 28,
   "id": "021d8756",
   "metadata": {},
   "outputs": [
    {
     "data": {
      "text/plain": [
       "CayleyTable([[0, 1, 2], [1, 2, 0], [2, 0, 1]])"
      ]
     },
     "execution_count": 28,
     "metadata": {},
     "output_type": "execute_result"
    }
   ],
   "source": [
    "alg0.table"
   ]
  },
  {
   "cell_type": "code",
   "execution_count": 29,
   "id": "31f1757b",
   "metadata": {},
   "outputs": [
    {
     "data": {
      "text/plain": [
       "Algebra(\n",
       "['e', 'a', 'aa'],\n",
       " [[0, 1, 2], [1, 2, 0], [2, 0, 1]])"
      ]
     },
     "execution_count": 29,
     "metadata": {},
     "output_type": "execute_result"
    }
   ],
   "source": [
    "alg0"
   ]
  },
  {
   "cell_type": "code",
   "execution_count": 30,
   "id": "dfb4e084",
   "metadata": {},
   "outputs": [
    {
     "data": {
      "text/plain": [
       "'e'"
      ]
     },
     "execution_count": 30,
     "metadata": {},
     "output_type": "execute_result"
    }
   ],
   "source": [
    "alg0.op('a', 'aa')"
   ]
  },
  {
   "cell_type": "code",
   "execution_count": 31,
   "id": "45925d66",
   "metadata": {},
   "outputs": [
    {
     "data": {
      "text/plain": [
       "Algebra(\n",
       "['e:e', 'e:a', 'e:aa', 'a:e', 'a:a', 'a:aa', 'aa:e', 'aa:a', 'aa:aa'],\n",
       " [[0, 1, 2, 3, 4, 5, 6, 7, 8], [1, 2, 0, 4, 5, 3, 7, 8, 6], [2, 0, 1, 5, 3, 4, 8, 6, 7], [3, 4, 5, 6, 7, 8, 0, 1, 2], [4, 5, 3, 7, 8, 6, 1, 2, 0], [5, 3, 4, 8, 6, 7, 2, 0, 1], [6, 7, 8, 0, 1, 2, 3, 4, 5], [7, 8, 6, 1, 2, 0, 4, 5, 3], [8, 6, 7, 2, 0, 1, 5, 3, 4]])"
      ]
     },
     "execution_count": 31,
     "metadata": {},
     "output_type": "execute_result"
    }
   ],
   "source": [
    "alg1 = alg0 * alg0\n",
    "alg1"
   ]
  },
  {
   "cell_type": "code",
   "execution_count": 32,
   "id": "f51d9a3c",
   "metadata": {},
   "outputs": [
    {
     "data": {
      "text/plain": [
       "9"
      ]
     },
     "execution_count": 32,
     "metadata": {},
     "output_type": "execute_result"
    }
   ],
   "source": [
    "alg1.order"
   ]
  },
  {
   "cell_type": "markdown",
   "id": "398a6236",
   "metadata": {},
   "source": [
    "## Elements"
   ]
  },
  {
   "cell_type": "code",
   "execution_count": 33,
   "id": "90724a88",
   "metadata": {},
   "outputs": [],
   "source": [
    "class Element:\n",
    "    \n",
    "    def __init__(self, elem_name, algebra):\n",
    "        self.__algebra = algebra\n",
    "        if isinstance(elem_name, str):\n",
    "            if elem_name in self.__algebra:\n",
    "                self.__name = elem_name\n",
    "            else:\n",
    "                raise ValueError(f\"name must be an element of algebra\")\n",
    "        else:\n",
    "            raise ValueError(f\"name must be a string\")\n",
    "\n",
    "    def __repr__(self):\n",
    "        return repr(self.__name)\n",
    "    \n",
    "    @property\n",
    "    def name(self):\n",
    "        return self.__name\n",
    "    \n",
    "    def __add__(self, other):\n",
    "        elem = self.__algebra.op(self.__name, other.name)\n",
    "        return Element(elem, self.__algebra)"
   ]
  },
  {
   "cell_type": "code",
   "execution_count": 34,
   "id": "930b6b31",
   "metadata": {},
   "outputs": [],
   "source": [
    "def element_map(algebra):\n",
    "    \"\"\"Returns a dictionary where element names (str) are keys and the corresponding\n",
    "    Element instances are the values.\"\"\"\n",
    "    return {elem: Element(elem, algebra) for elem in algebra.elements}"
   ]
  },
  {
   "cell_type": "code",
   "execution_count": 35,
   "id": "474d7a0e",
   "metadata": {},
   "outputs": [],
   "source": [
    "class Context:\n",
    "\n",
    "    def __init__(self, algebra):\n",
    "        self.element_map = element_map(algebra)\n",
    "\n",
    "    def __enter__(self):\n",
    "        return self.element_map\n",
    "\n",
    "    def __exit__(self, _type, value, traceback):\n",
    "        pass"
   ]
  },
  {
   "cell_type": "code",
   "execution_count": 36,
   "id": "728428d5",
   "metadata": {},
   "outputs": [
    {
     "name": "stdout",
     "output_type": "stream",
     "text": [
      "'a:aa'\n"
     ]
    }
   ],
   "source": [
    "with Context(alg1) as A:\n",
    "    print(A['a:aa'] + A['aa:aa'] + A['a:a'])"
   ]
  },
  {
   "cell_type": "code",
   "execution_count": null,
   "id": "62aa3317",
   "metadata": {},
   "outputs": [],
   "source": []
  }
 ],
 "metadata": {
  "kernelspec": {
   "display_name": "Python 3 (ipykernel)",
   "language": "python",
   "name": "python3"
  },
  "language_info": {
   "codemirror_mode": {
    "name": "ipython",
    "version": 3
   },
   "file_extension": ".py",
   "mimetype": "text/x-python",
   "name": "python",
   "nbconvert_exporter": "python",
   "pygments_lexer": "ipython3",
   "version": "3.11.5"
  }
 },
 "nbformat": 4,
 "nbformat_minor": 5
}
