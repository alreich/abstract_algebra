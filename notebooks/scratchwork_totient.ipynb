{
 "cells": [
  {
   "cell_type": "markdown",
   "id": "fb58ad6a",
   "metadata": {},
   "source": [
    "# Experiments using Totient Function"
   ]
  },
  {
   "cell_type": "code",
   "execution_count": 17,
   "id": "5be75c34",
   "metadata": {},
   "outputs": [],
   "source": [
    "from finite_algebras import *\n",
    "from cayley_table import *\n",
    "from permutations import *"
   ]
  },
  {
   "cell_type": "code",
   "execution_count": 18,
   "id": "ad156c1e",
   "metadata": {},
   "outputs": [],
   "source": [
    "import os\n",
    "aa_path = os.path.join(os.getenv(\"PYPROJ\"), \"abstract_algebra\")\n",
    "alg_dir = os.path.join(aa_path, \"Algebras\")"
   ]
  },
  {
   "cell_type": "code",
   "execution_count": 19,
   "id": "267eb30b",
   "metadata": {},
   "outputs": [
    {
     "name": "stdout",
     "output_type": "stream",
     "text": [
      "======================================================================\n",
      "                           Example Algebras\n",
      "----------------------------------------------------------------------\n",
      "  16 example algebras are available.\n",
      "  Use \"Examples[INDEX]\" to retrieve a specific example,\n",
      "  where INDEX is the first number on each line below:\n",
      "----------------------------------------------------------------------\n",
      "0: A4 -- Alternating group on 4 letters (AKA Tetrahedral group)\n",
      "1: D3 -- https://en.wikipedia.org/wiki/Dihedral_group_of_order_6\n",
      "2: D4 -- Dihedral group on four vertices\n",
      "3: Pinter29 -- Non-abelian group, p.29, 'A Book of Abstract Algebra' by Charles C. Pinter\n",
      "4: RPS -- Rock, Paper, Scissors Magma\n",
      "5: S3 -- Symmetric group on 3 letters\n",
      "6: S3X -- Another version of the symmetric group on 3 letters\n",
      "7: V4 -- Klein-4 group\n",
      "8: Z4 -- Cyclic group of order 4\n",
      "9: F4 -- Field with 4 elements (from Wikipedia)\n",
      "10: mag_id -- Magma with Identity\n",
      "11: Example 1.4.1 -- See: Groupoids and Smarandache Groupoids by W. B. Vasantha Kandasamy\n",
      "12: Ex6 -- Example 6: http://www-groups.mcs.st-andrews.ac.uk/~john/MT4517/Lectures/L3.html\n",
      "13: Q8 -- Quaternion Group\n",
      "14: SD16 -- Semidihedral group of order 16\n",
      "15: A5 -- Alternating group on 5 letters\n",
      "======================================================================\n"
     ]
    }
   ],
   "source": [
    "ex = Examples(alg_dir)"
   ]
  },
  {
   "cell_type": "code",
   "execution_count": 1,
   "id": "b45e65f7",
   "metadata": {},
   "outputs": [],
   "source": [
    "import math\n",
    "\n",
    "def is_relatively_prime(n,m):\n",
    "    if math.gcd(n,m) == 1:\n",
    "        return True\n",
    "    else:\n",
    "        return False"
   ]
  },
  {
   "cell_type": "code",
   "execution_count": 2,
   "id": "154a6848",
   "metadata": {},
   "outputs": [
    {
     "data": {
      "text/plain": [
       "True"
      ]
     },
     "execution_count": 2,
     "metadata": {},
     "output_type": "execute_result"
    }
   ],
   "source": [
    "is_relatively_prime(9, 16)"
   ]
  },
  {
   "cell_type": "code",
   "execution_count": 3,
   "id": "334a69fd",
   "metadata": {},
   "outputs": [
    {
     "data": {
      "text/plain": [
       "False"
      ]
     },
     "execution_count": 3,
     "metadata": {},
     "output_type": "execute_result"
    }
   ],
   "source": [
    "is_relatively_prime(9, 15)"
   ]
  },
  {
   "cell_type": "markdown",
   "id": "03cf563f",
   "metadata": {},
   "source": [
    "Euler's totient function counts the positive integers up to a given integer n that are relatively prime to n."
   ]
  },
  {
   "cell_type": "code",
   "execution_count": 7,
   "id": "d0691907",
   "metadata": {},
   "outputs": [],
   "source": [
    "def relative_primes(n):\n",
    "    '''Return the list of relative primes that are less than n.'''\n",
    "    return [x for x in range(n) if is_relatively_prime(x, n)]"
   ]
  },
  {
   "cell_type": "code",
   "execution_count": 11,
   "id": "1b697f61",
   "metadata": {},
   "outputs": [
    {
     "name": "stdout",
     "output_type": "stream",
     "text": [
      "2 - [1]\n",
      "3 - [1, 2]\n",
      "4 - [1, 3]\n",
      "5 - [1, 2, 3, 4]\n",
      "6 - [1, 5]\n",
      "7 - [1, 2, 3, 4, 5, 6]\n",
      "8 - [1, 3, 5, 7]\n",
      "9 - [1, 2, 4, 5, 7, 8]\n",
      "10 - [1, 3, 7, 9]\n",
      "11 - [1, 2, 3, 4, 5, 6, 7, 8, 9, 10]\n",
      "12 - [1, 5, 7, 11]\n",
      "13 - [1, 2, 3, 4, 5, 6, 7, 8, 9, 10, 11, 12]\n",
      "14 - [1, 3, 5, 9, 11, 13]\n",
      "15 - [1, 2, 4, 7, 8, 11, 13, 14]\n",
      "16 - [1, 3, 5, 7, 9, 11, 13, 15]\n",
      "17 - [1, 2, 3, 4, 5, 6, 7, 8, 9, 10, 11, 12, 13, 14, 15, 16]\n",
      "18 - [1, 5, 7, 11, 13, 17]\n",
      "19 - [1, 2, 3, 4, 5, 6, 7, 8, 9, 10, 11, 12, 13, 14, 15, 16, 17, 18]\n"
     ]
    }
   ],
   "source": [
    "for i in range(2, 20):\n",
    "    print(f\"{i} - {relative_primes(i)}\")"
   ]
  },
  {
   "cell_type": "code",
   "execution_count": 12,
   "id": "6a833dd9",
   "metadata": {},
   "outputs": [],
   "source": [
    "def totient(n):\n",
    "    return len(relative_primes(n))"
   ]
  },
  {
   "cell_type": "code",
   "execution_count": 14,
   "id": "47987fa8",
   "metadata": {},
   "outputs": [
    {
     "name": "stdout",
     "output_type": "stream",
     "text": [
      "2 - 1\n",
      "3 - 2\n",
      "4 - 2\n",
      "5 - 4\n",
      "6 - 2\n",
      "7 - 6\n",
      "8 - 4\n",
      "9 - 6\n",
      "10 - 4\n",
      "11 - 10\n",
      "12 - 4\n",
      "13 - 12\n",
      "14 - 6\n",
      "15 - 8\n",
      "16 - 8\n",
      "17 - 16\n",
      "18 - 6\n",
      "19 - 18\n"
     ]
    }
   ],
   "source": [
    "for i in range(2, 20):\n",
    "    print(f\"{i} - {totient(i)}\")"
   ]
  },
  {
   "cell_type": "markdown",
   "id": "b2222f41",
   "metadata": {},
   "source": [
    "Generate algebra (group) based on multiplication mod n of relatively-prime numbers less than n."
   ]
  },
  {
   "cell_type": "code",
   "execution_count": 20,
   "id": "2cc5f670",
   "metadata": {},
   "outputs": [
    {
     "name": "stdout",
     "output_type": "stream",
     "text": [
      "\n",
      "** Monoid **\n",
      "Name: M4\n",
      "Instance ID: 140459135525264\n",
      "Description: Autogenerated commutative Monoid of order 4\n",
      "Order: 4\n",
      "Identity: a1\n",
      "Associative? Yes\n",
      "Commutative? Yes\n",
      "Cyclic?: No\n",
      "Elements: ['a0', 'a1', 'a2', 'a3']\n",
      "Has Inverses? No\n",
      "Cayley Table (showing indices):\n",
      "[[0, 0, 0, 0], [0, 1, 2, 3], [0, 2, 0, 2], [0, 3, 2, 1]]\n"
     ]
    }
   ],
   "source": [
    "foo = generate_commutative_monoid(4)\n",
    "foo.about()"
   ]
  },
  {
   "cell_type": "code",
   "execution_count": null,
   "id": "7f133c89",
   "metadata": {},
   "outputs": [],
   "source": []
  },
  {
   "cell_type": "code",
   "execution_count": 16,
   "id": "299372d2",
   "metadata": {},
   "outputs": [
    {
     "data": {
      "text/plain": [
       "[[1, 3, 5, 7], [3, 1, 7, 5], [5, 7, 1, 3], [7, 5, 3, 1]]"
      ]
     },
     "execution_count": 16,
     "metadata": {},
     "output_type": "execute_result"
    }
   ],
   "source": [
    "n = 8\n",
    "elems = relative_primes(n)\n",
    "[[(a * b) % n for b in elems] for a in elems]"
   ]
  },
  {
   "cell_type": "code",
   "execution_count": null,
   "id": "3380ea4b",
   "metadata": {},
   "outputs": [],
   "source": []
  },
  {
   "cell_type": "code",
   "execution_count": null,
   "id": "e53e12a9",
   "metadata": {},
   "outputs": [],
   "source": [
    "def generate_totient_group(n, elem_name='a', name=None, description=None):\n",
    "    \"\"\"Generates a group based on multiplication mod n of relatively-prime numbers less than n.\"\"\"\n",
    "    if name:\n",
    "        nm = name\n",
    "    else:\n",
    "        nm = \"M\" + str(order)\n",
    "    if description:\n",
    "        desc = description\n",
    "    else:\n",
    "        desc = f\"Autogenerated commutative Monoid of order {order}\"\n",
    "    nfill = len(str(order - 1))  # Number of zeros to left-fill integers in element names\n",
    "    elements = [elem_name + str(i).zfill(nfill) for i in range(order)]\n",
    "    table = [[(a * b) % order for b in range(order)] for a in range(order)]\n",
    "    return make_finite_algebra(nm, desc, elements, table)"
   ]
  }
 ],
 "metadata": {
  "kernelspec": {
   "display_name": "Python 3 (ipykernel)",
   "language": "python",
   "name": "python3"
  },
  "language_info": {
   "codemirror_mode": {
    "name": "ipython",
    "version": 3
   },
   "file_extension": ".py",
   "mimetype": "text/x-python",
   "name": "python",
   "nbconvert_exporter": "python",
   "pygments_lexer": "ipython3",
   "version": "3.9.13"
  }
 },
 "nbformat": 4,
 "nbformat_minor": 5
}
