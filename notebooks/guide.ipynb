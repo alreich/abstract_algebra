{
 "cells": [
  {
   "cell_type": "markdown",
   "id": "6a020c3f",
   "metadata": {},
   "source": [
    "# User Guide"
   ]
  },
  {
   "cell_type": "markdown",
   "id": "4de1a34b",
   "metadata": {},
   "source": [
    "## Installation\n",
    "\n",
    "This module runs under Python 3.7+ and requires **numpy**.\n",
    "\n",
    "Clone the github repository to install:"
   ]
  },
  {
   "cell_type": "raw",
   "id": "97df4f6f",
   "metadata": {},
   "source": [
    "$ git clone https://github.com/alreich/abstract_algebra.git"
   ]
  },
  {
   "cell_type": "markdown",
   "id": "2dd9a127",
   "metadata": {},
   "source": [
    "Add the *abstract_algebra* directory to your *PYTHONPATH*.\n",
    "\n",
    "<b>Note</b>: In the examples, below, an environment variable, *PYPROJ*, points to the directory containing the *abstract_algebra* directory."
   ]
  },
  {
   "cell_type": "markdown",
   "id": "1bddbdc0",
   "metadata": {},
   "source": [
    "## Internal Representation of a Finite Group\n",
    "\n",
    "Internally, the finite Group object consists of four quantities:\n",
    "\n",
    "* **name**: (``str``) A short name for the Group;\n",
    "* **description**: (``str``) Any additional, useful information about the Group;\n",
    "* **element_names**: (``list`` of ``str``) The Group’s element names, where the\n",
    "  first element in the list is the Group’s identity element (usually denoted by ``e``);\n",
    "* **mult_table**: (``list`` of ``list`` of ``int``) The Group’s multiplication\n",
    "  table, where each list in the list represents a row of the table, and\n",
    "  each integer represents the position of an element in ‘element_names’.\n",
    "  The table must be:\n",
    "\n",
    "  * Square. The row & column length equal the number of elements, say, n;\n",
    "  * The first row and first column should be the [0, 1, 2, …, n-1], in that exact order;\n",
    "  * Every row and column should contain the same integers, in a different order,\n",
    "    so that no row or column contains the same integer twice.  This is a consequence of\n",
    "    the fact that every element in a group is unique and has an inverse that is also in the group.\n",
    "  * Capable of supporting associativity of the multiplication operator.  This last requirement\n",
    "    is automatically checked by the group constructor."
   ]
  },
  {
   "cell_type": "markdown",
   "id": "4f10d8b9",
   "metadata": {},
   "source": [
    "## Group Constuction\n",
    "\n",
    "A Group object can be instantiated in several ways:\n",
    "\n",
    "1. Enter **four values** corresponding to the quantities described above, in\n",
    "   the order shown above.\n",
    "2. Enter **three values** corresponding to ``name``, ``description``, and ``mult_table``,\n",
    "   where ``mult_table`` uses element names (``str``) instead of ``int`` positions.\n",
    "   The string-based ``mult_table`` must follow rules, similar to those described\n",
    "   above:\n",
    "   * The identity element comes first in the first row and first column;\n",
    "   * The order of names in the first row and first column should be identical;\n",
    "   * No row or column contains the same element name twice.\n",
    "\n",
    "3. Enter a **Python dictionary**, with keys and values corresponding to\n",
    "   either the four value or three value input schemes, described above.\n",
    "4. Enter the **path to a JSON file** (``str``) that corresponds to the\n",
    "   dictionary described above."
   ]
  },
  {
   "cell_type": "markdown",
   "id": "2fe4955c",
   "metadata": {},
   "source": [
    "## Usage"
   ]
  },
  {
   "cell_type": "code",
   "execution_count": 1,
   "id": "d3a651da",
   "metadata": {},
   "outputs": [
    {
     "data": {
      "text/plain": [
       "Group(\n",
       "Z3,\n",
       "Cyclic group of order 3,\n",
       "['e', 'a', 'a^2'],\n",
       "[[0, 1, 2], [1, 2, 0], [2, 0, 1]]\n",
       ")"
      ]
     },
     "execution_count": 1,
     "metadata": {},
     "output_type": "execute_result"
    }
   ],
   "source": [
    ">>> from finite_algebras import *\n",
    "\n",
    ">>> z3 = Group('Z3',\n",
    "               'Cyclic group of order 3',\n",
    "               ['e', 'a', 'a^2'],\n",
    "               [[ 'e' ,  'a' , 'a^2'],\n",
    "                [ 'a' , 'a^2',  'e' ],\n",
    "                ['a^2',  'e' ,  'a' ]]\n",
    "              )\n",
    ">>> z3"
   ]
  },
  {
   "cell_type": "markdown",
   "id": "c1a5764d",
   "metadata": {},
   "source": [
    "Below, we setup some useful path variables, one the points to the abstract_algebra directory, and the other pointing to a subdirectory containing algebra definitions in JSON format.\n",
    "\n",
    "**Note**: The code here assumes that there is an environment\n",
    "variable, ``PYPROJ``, that points to the directory containing the abstract_algebra directory."
   ]
  },
  {
   "cell_type": "code",
   "execution_count": 2,
   "id": "b90bbf6e",
   "metadata": {},
   "outputs": [],
   "source": [
    ">>> import os\n",
    ">>> aa_path = os.path.join(os.getenv(\"PYPROJ\"), \"abstract_algebra\")\n",
    ">>> alg_dir = os.path.join(aa_path, \"Algebras\")"
   ]
  },
  {
   "cell_type": "markdown",
   "id": "a9fb303a",
   "metadata": {},
   "source": [
    "Here's a look at the Klein-4 Group in JSON format"
   ]
  },
  {
   "cell_type": "code",
   "execution_count": 3,
   "id": "a1112590",
   "metadata": {},
   "outputs": [
    {
     "name": "stdout",
     "output_type": "stream",
     "text": [
      "{\"type\": \"Group\",\r\n",
      " \"name\": \"V4\",\r\n",
      " \"description\": \"Klein-4 group\",\r\n",
      " \"element_names\": [\"e\", \"h\", \"v\", \"r\"],\r\n",
      " \"mult_table\": [[0, 1, 2, 3],\r\n",
      "                [1, 0, 3, 2],\r\n",
      "                [2, 3, 0, 1],\r\n",
      "                [3, 2, 1, 0]]\r\n",
      "}\r\n"
     ]
    }
   ],
   "source": [
    ">>> v4_json = os.path.join(alg_dir, \"v4_klein_4_group.json\")\n",
    ">>> !cat {v4_json}"
   ]
  },
  {
   "cell_type": "markdown",
   "id": "619fa021",
   "metadata": {},
   "source": [
    "The JSON definition of a group can be used to instantiate a Group object:"
   ]
  },
  {
   "cell_type": "code",
   "execution_count": 4,
   "id": "39fee977",
   "metadata": {},
   "outputs": [
    {
     "data": {
      "text/plain": [
       "Group(\n",
       "V4,\n",
       "Klein-4 group,\n",
       "['e', 'h', 'v', 'r'],\n",
       "[[0, 1, 2, 3], [1, 0, 3, 2], [2, 3, 0, 1], [3, 2, 1, 0]]\n",
       ")"
      ]
     },
     "execution_count": 4,
     "metadata": {},
     "output_type": "execute_result"
    }
   ],
   "source": [
    "#>>> v4 = Group(v4_json)\n",
    ">>> v4 = make_finite_algebra(v4_json)\n",
    ">>> v4"
   ]
  },
  {
   "cell_type": "markdown",
   "id": "31db82bd",
   "metadata": {},
   "source": [
    "Pretty print, ``pprint``, tries to print the table in human-readable form.  Calling it with its single argument set to ``True`` will print the multiplication table using element names, rather than the positions of element names in the element name list:"
   ]
  },
  {
   "cell_type": "code",
   "execution_count": 5,
   "id": "595efd3f",
   "metadata": {},
   "outputs": [
    {
     "name": "stdout",
     "output_type": "stream",
     "text": [
      "\n",
      "Group: V4\n",
      "Klein-4 group\n",
      "Abelian? True\n",
      "Elements:\n",
      "   Index   Name   Inverse  Order\n",
      "      0       e       e       1\n",
      "      1       h       h       2\n",
      "      2       v       v       2\n",
      "      3       r       r       2\n",
      "Cayley Table (showing indices):\n",
      "[[0, 1, 2, 3], [1, 0, 3, 2], [2, 3, 0, 1], [3, 2, 1, 0]]\n"
     ]
    }
   ],
   "source": [
    ">>> v4.about()"
   ]
  },
  {
   "cell_type": "markdown",
   "id": "44b6af60",
   "metadata": {},
   "source": [
    "An element's inverse can be obtained using the ``inverse`` method.\n",
    "\n",
    "**NOTE**: Every element in the Klein-4 group is its own inverse."
   ]
  },
  {
   "cell_type": "code",
   "execution_count": 6,
   "id": "677b29c5",
   "metadata": {},
   "outputs": [
    {
     "data": {
      "text/plain": [
       "'h'"
      ]
     },
     "execution_count": 6,
     "metadata": {},
     "output_type": "execute_result"
    }
   ],
   "source": [
    ">>> h_inv = v4.inv('h')\n",
    ">>> h_inv"
   ]
  },
  {
   "cell_type": "markdown",
   "id": "aa7991e3",
   "metadata": {},
   "source": [
    "Algebra elements can be *multiplied* using the Group method, ``mult``."
   ]
  },
  {
   "cell_type": "code",
   "execution_count": 7,
   "id": "8d8a226f",
   "metadata": {},
   "outputs": [
    {
     "data": {
      "text/plain": [
       "'r'"
      ]
     },
     "execution_count": 7,
     "metadata": {},
     "output_type": "execute_result"
    }
   ],
   "source": [
    ">>> v4.op('h', 'v')  # h * v = hv"
   ]
  },
  {
   "cell_type": "markdown",
   "id": "39913e4f",
   "metadata": {},
   "source": [
    "``mult`` can be called with zero or more arguments.\n",
    "\n",
    "Calling ``mult`` without any arguments will return the identity element for the group."
   ]
  },
  {
   "cell_type": "code",
   "execution_count": 8,
   "id": "cb51dc84",
   "metadata": {},
   "outputs": [],
   "source": [
    "# >>> v4.op()"
   ]
  },
  {
   "cell_type": "markdown",
   "id": "0959bc16",
   "metadata": {},
   "source": [
    "Calling ``mult`` with only one argument will simply return that argument."
   ]
  },
  {
   "cell_type": "code",
   "execution_count": 9,
   "id": "ca315c80",
   "metadata": {},
   "outputs": [
    {
     "data": {
      "text/plain": [
       "'h'"
      ]
     },
     "execution_count": 9,
     "metadata": {},
     "output_type": "execute_result"
    }
   ],
   "source": [
    ">>> v4.op('h')"
   ]
  },
  {
   "cell_type": "markdown",
   "id": "8e99df86",
   "metadata": {},
   "source": [
    "Calling ``mult`` with more than two arguments will return the product of all of the arguments.\n",
    "\n",
    "e.g., $h \\times v \\times h^{-1} = v$"
   ]
  },
  {
   "cell_type": "code",
   "execution_count": 10,
   "id": "1f7d6a56",
   "metadata": {},
   "outputs": [
    {
     "data": {
      "text/plain": [
       "'v'"
      ]
     },
     "execution_count": 10,
     "metadata": {},
     "output_type": "execute_result"
    }
   ],
   "source": [
    ">>> v4.op('h', 'v', h_inv)"
   ]
  },
  {
   "cell_type": "markdown",
   "id": "695fc115",
   "metadata": {},
   "source": [
    "A group can be tested to determine if it's **abelian**:"
   ]
  },
  {
   "cell_type": "code",
   "execution_count": 11,
   "id": "d777c081",
   "metadata": {},
   "outputs": [
    {
     "data": {
      "text/plain": [
       "True"
      ]
     },
     "execution_count": 11,
     "metadata": {},
     "output_type": "execute_result"
    }
   ],
   "source": [
    ">>> v4.is_abelian()"
   ]
  },
  {
   "cell_type": "markdown",
   "id": "0539c5fb",
   "metadata": {},
   "source": [
    "A **cyclic group** of any order can be automatically generated:"
   ]
  },
  {
   "cell_type": "code",
   "execution_count": 12,
   "id": "ee3f950e",
   "metadata": {},
   "outputs": [
    {
     "data": {
      "text/plain": [
       "Group(\n",
       "Z4,\n",
       "Autogenerated cyclic group of order 4,\n",
       "['e', 'a', 'a^2', 'a^3'],\n",
       "[[0, 1, 2, 3], [1, 2, 3, 0], [2, 3, 0, 1], [3, 0, 1, 2]]\n",
       ")"
      ]
     },
     "execution_count": 12,
     "metadata": {},
     "output_type": "execute_result"
    }
   ],
   "source": [
    ">>> z4 = generate_cyclic_group(4)\n",
    ">>> z4"
   ]
  },
  {
   "cell_type": "markdown",
   "id": "660333f9",
   "metadata": {},
   "source": [
    "The ``about`` method provides information about a group."
   ]
  },
  {
   "cell_type": "code",
   "execution_count": 27,
   "id": "ebbcca49",
   "metadata": {},
   "outputs": [
    {
     "name": "stdout",
     "output_type": "stream",
     "text": [
      "\n",
      "Group: Z4\n",
      "Autogenerated cyclic group of order 4\n",
      "Abelian? True\n",
      "Elements:\n",
      "   Index   Name   Inverse  Order\n",
      "      0       e       e       1\n",
      "      1       a     a^3       4\n",
      "      2     a^2     a^2       2\n",
      "      3     a^3       a       4\n",
      "Cayley Table (showing names):\n",
      "[['e', 'a', 'a^2', 'a^3'],\n",
      " ['a', 'a^2', 'a^3', 'e'],\n",
      " ['a^2', 'a^3', 'e', 'a'],\n",
      " ['a^3', 'e', 'a', 'a^2']]\n"
     ]
    }
   ],
   "source": [
    "z4.about(use_table_names=True)\n",
    "# z4.about()"
   ]
  },
  {
   "cell_type": "markdown",
   "id": "17ef9953",
   "metadata": {},
   "source": [
    "The **direct product** of two or more groups can be generated using Python's multiplication operator, ``*``:"
   ]
  },
  {
   "cell_type": "code",
   "execution_count": 14,
   "id": "680162f5",
   "metadata": {},
   "outputs": [
    {
     "data": {
      "text/plain": [
       "Group(\n",
       "Z2,\n",
       "Autogenerated cyclic group of order 2,\n",
       "['e', 'a'],\n",
       "[[0, 1], [1, 0]]\n",
       ")"
      ]
     },
     "execution_count": 14,
     "metadata": {},
     "output_type": "execute_result"
    }
   ],
   "source": [
    ">>> z2 = generate_cyclic_group(2)\n",
    ">>> z2"
   ]
  },
  {
   "cell_type": "code",
   "execution_count": 15,
   "id": "e9233349",
   "metadata": {},
   "outputs": [
    {
     "data": {
      "text/plain": [
       "Group(\n",
       "Z2_x_Z2,\n",
       "Direct product of Z2 & Z2,\n",
       "['e:e', 'e:a', 'a:e', 'a:a'],\n",
       "[[0, 1, 2, 3], [1, 0, 3, 2], [2, 3, 0, 1], [3, 2, 1, 0]]\n",
       ")"
      ]
     },
     "execution_count": 15,
     "metadata": {},
     "output_type": "execute_result"
    }
   ],
   "source": [
    ">>> z2_x_z2 = z2 * z2\n",
    ">>> z2_x_z2"
   ]
  },
  {
   "cell_type": "markdown",
   "id": "ad900a74",
   "metadata": {},
   "source": [
    "If two groups are isomorphic, then the mapping between their elements is returned as a Python dictionary."
   ]
  },
  {
   "cell_type": "code",
   "execution_count": 16,
   "id": "8c8430fd",
   "metadata": {},
   "outputs": [
    {
     "data": {
      "text/plain": [
       "{'h': 'e:a', 'v': 'a:e', 'r': 'a:a', 'e': 'e:e'}"
      ]
     },
     "execution_count": 16,
     "metadata": {},
     "output_type": "execute_result"
    }
   ],
   "source": [
    ">>> v4.isomorphic(z2_x_z2)"
   ]
  },
  {
   "cell_type": "markdown",
   "id": "6d139fdb",
   "metadata": {},
   "source": [
    "If two groups are not isomorphic, then ``False`` is returned."
   ]
  },
  {
   "cell_type": "code",
   "execution_count": 17,
   "id": "3622a7a2",
   "metadata": {},
   "outputs": [
    {
     "data": {
      "text/plain": [
       "False"
      ]
     },
     "execution_count": 17,
     "metadata": {},
     "output_type": "execute_result"
    }
   ],
   "source": [
    ">>> z4.isomorphic(z2_x_z2)"
   ]
  },
  {
   "cell_type": "markdown",
   "id": "02b663f6",
   "metadata": {},
   "source": [
    "The proper subgroups of a group can also be computed."
   ]
  },
  {
   "cell_type": "code",
   "execution_count": 19,
   "id": "ae182a74",
   "metadata": {},
   "outputs": [
    {
     "data": {
      "text/plain": [
       "[Group(\n",
       " Z8_subgroup_0,\n",
       " Subgroup of: Autogenerated cyclic group of order 8,\n",
       " ['e', 'a^4'],\n",
       " [[0, 1], [1, 0]]\n",
       " ),\n",
       " Group(\n",
       " Z8_subgroup_1,\n",
       " Subgroup of: Autogenerated cyclic group of order 8,\n",
       " ['e', 'a^2', 'a^4', 'a^6'],\n",
       " [[0, 1, 2, 3], [1, 2, 3, 0], [2, 3, 0, 1], [3, 0, 1, 2]]\n",
       " )]"
      ]
     },
     "execution_count": 19,
     "metadata": {},
     "output_type": "execute_result"
    }
   ],
   "source": [
    ">>> z8 = generate_cyclic_group(8)\n",
    ">>> z8.proper_subgroups()"
   ]
  },
  {
   "cell_type": "markdown",
   "id": "932f5772",
   "metadata": {},
   "source": [
    "## Autogeneration of Groups\n",
    "\n",
    "There are three functions for autogenerating groups:\n",
    "* ``autogenerate_cyclic_group``\n",
    "* ``autogenerate_symmetric_group``\n",
    "* ``autogenerate_powerset_group``\n",
    "\n",
    "The autogeneration of cyclic groups was demonstrated above.  Usage of the other two group autogenerators is illustrated below.\n",
    "\n",
    "The symmetric group, based on the permutations of <b>n</b> elements, (1, 2, 3, ..., n), can be generated using ``autogenerate_symmetric_group``.\n",
    "\n",
    "<b>WARNING</b>: Since the order of an autogenerated symmetric group is <b>n!</b>, even small values of n can result in large groups, which, in turn, can result in long runtimes associated with operations performed on them."
   ]
  },
  {
   "cell_type": "code",
   "execution_count": 20,
   "id": "f042ad36",
   "metadata": {},
   "outputs": [
    {
     "name": "stdout",
     "output_type": "stream",
     "text": [
      "\n",
      "Group: S3\n",
      "Autogenerated symmetric group on 3 elements\n",
      "Abelian? False\n",
      "Elements:\n",
      "   Index   Name   Inverse  Order\n",
      "      0 (1, 2, 3) (1, 2, 3)       1\n",
      "      1 (1, 3, 2) (1, 3, 2)       2\n",
      "      2 (2, 1, 3) (2, 1, 3)       2\n",
      "      3 (2, 3, 1) (3, 1, 2)       3\n",
      "      4 (3, 1, 2) (2, 3, 1)       3\n",
      "      5 (3, 2, 1) (3, 2, 1)       2\n",
      "Cayley Table (showing indices):\n",
      "[[0, 1, 2, 3, 4, 5],\n",
      " [1, 0, 4, 5, 2, 3],\n",
      " [2, 3, 0, 1, 5, 4],\n",
      " [3, 2, 5, 4, 0, 1],\n",
      " [4, 5, 1, 0, 3, 2],\n",
      " [5, 4, 3, 2, 1, 0]]\n"
     ]
    }
   ],
   "source": [
    "s3 = generate_symmetric_group(3)\n",
    "s3.about()"
   ]
  },
  {
   "cell_type": "markdown",
   "id": "fbe1d342",
   "metadata": {},
   "source": [
    "The function, ``autogenerate_powerset_group``, will generate a group on the powerset of {0, 1, 2, ..., n} with <b>symmetric difference</b> as the groups binary operation.  This group is useful because it can be used to form a ring with set intersection as the second operator.\n",
    "\n",
    "This means that the order of the autogenerated powerset group will be $2^n$, so the same WARNING as above applies.\n",
    "\n",
    "Note that, in the powerset example below, tuples are used as elements, rather than sets, because the implementation needs to index elements, and you can't do that with sets."
   ]
  },
  {
   "cell_type": "code",
   "execution_count": 21,
   "id": "44d43e24",
   "metadata": {},
   "outputs": [
    {
     "name": "stdout",
     "output_type": "stream",
     "text": [
      "\n",
      "Group: PS3\n",
      "Autogenerated group on the powerset of 3 elements, with symmetric difference operator\n",
      "Abelian? True\n",
      "Elements:\n",
      "   Index   Name   Inverse  Order\n",
      "      0      {}      {}       1\n",
      "      1     {0}     {0}       2\n",
      "      2     {1}     {1}       2\n",
      "      3     {2}     {2}       2\n",
      "      4  {0, 1}  {0, 1}       2\n",
      "      5  {0, 2}  {0, 2}       2\n",
      "      6  {1, 2}  {1, 2}       2\n",
      "      7 {0, 1, 2} {0, 1, 2}       2\n",
      "Cayley Table (showing indices):\n",
      "[[0, 1, 2, 3, 4, 5, 6, 7],\n",
      " [1, 0, 4, 5, 2, 3, 7, 6],\n",
      " [2, 4, 0, 6, 1, 7, 3, 5],\n",
      " [3, 5, 6, 0, 7, 1, 2, 4],\n",
      " [4, 2, 1, 7, 0, 6, 5, 3],\n",
      " [5, 3, 7, 1, 6, 0, 4, 2],\n",
      " [6, 7, 3, 2, 5, 4, 0, 1],\n",
      " [7, 6, 5, 4, 3, 2, 1, 0]]\n"
     ]
    }
   ],
   "source": [
    "ps3 = generate_powerset_group(3)\n",
    "ps3.about()\n",
    "\n",
    "#print(f\"\\nIdentity Element: {ps3.identity}\")\n",
    "#print(f\"Abelian? {ps3.is_abelian()}\\n\")"
   ]
  },
  {
   "cell_type": "code",
   "execution_count": 23,
   "id": "dad43658",
   "metadata": {},
   "outputs": [
    {
     "name": "stdout",
     "output_type": "stream",
     "text": [
      "PS3 has 14 proper subgroups.\n",
      "But, up to isomorphisms, only 2 are proper subgroups.\n"
     ]
    }
   ],
   "source": [
    "ps3_proper_subgroups = ps3.proper_subgroups()\n",
    "\n",
    "print(f\"{ps3.name} has {len(ps3_proper_subgroups)} proper subgroups.\")\n",
    "\n",
    "unique_subgroups = partition_into_isomorphic_lists(ps3_proper_subgroups)\n",
    "\n",
    "print(f\"But, up to isomorphisms, only {len(unique_subgroups)} are proper subgroups.\")"
   ]
  },
  {
   "cell_type": "markdown",
   "id": "3c291c0c",
   "metadata": {},
   "source": [
    "Here are the two unique, up to isomorphism, subgroups of PS3:"
   ]
  },
  {
   "cell_type": "code",
   "execution_count": 26,
   "id": "fd0cb938",
   "metadata": {},
   "outputs": [
    {
     "name": "stdout",
     "output_type": "stream",
     "text": [
      "Group(PS3_subgroup_0, Subgroup of: Autogenerated group on the powerset of 3 elements, with symmetric difference operator, ['{}', '{0, 2}'], [[0, 1], [1, 0]])\n",
      "Group(PS3_subgroup_1, Subgroup of: Autogenerated group on the powerset of 3 elements, with symmetric difference operator, ['{}', '{2}', '{0, 1}', '{0, 1, 2}'], [[0, 1, 2, 3], [1, 0, 3, 2], [2, 3, 0, 1], [3, 2, 1, 0]])\n"
     ]
    }
   ],
   "source": [
    "_ = [print(subgroup[0]) for subgroup in unique_subgroups]"
   ]
  },
  {
   "cell_type": "code",
   "execution_count": null,
   "id": "8a96bd87",
   "metadata": {},
   "outputs": [],
   "source": []
  }
 ],
 "metadata": {
  "kernelspec": {
   "display_name": "Python 3",
   "language": "python",
   "name": "python3"
  },
  "language_info": {
   "codemirror_mode": {
    "name": "ipython",
    "version": 3
   },
   "file_extension": ".py",
   "mimetype": "text/x-python",
   "name": "python",
   "nbconvert_exporter": "python",
   "pygments_lexer": "ipython3",
   "version": "3.7.7"
  }
 },
 "nbformat": 4,
 "nbformat_minor": 5
}
