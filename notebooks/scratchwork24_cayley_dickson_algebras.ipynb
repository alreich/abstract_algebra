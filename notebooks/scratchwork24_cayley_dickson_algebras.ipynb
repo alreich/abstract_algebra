{
 "cells": [
  {
   "cell_type": "markdown",
   "id": "b6523b92",
   "metadata": {},
   "source": [
    "# Scratchwork: Cayley-Dickson Algebras"
   ]
  },
  {
   "cell_type": "markdown",
   "id": "34735043",
   "metadata": {},
   "source": [
    "The purpose of this notebook is to develop the functions required to perform the Cayley-Dickson construction within the ``finite_algebras`` module."
   ]
  },
  {
   "cell_type": "code",
   "execution_count": 1,
   "id": "68cea7ff",
   "metadata": {},
   "outputs": [],
   "source": [
    "import finite_algebras as alg\n",
    "import numpy as np"
   ]
  },
  {
   "cell_type": "markdown",
   "id": "c2fcbe98-df46-4a4b-8728-c0450e97a9f8",
   "metadata": {},
   "source": [
    "## The Cayley-Dickson Construction"
   ]
  },
  {
   "cell_type": "markdown",
   "id": "faff0b12-b56c-4f88-aaa4-57cde504cd26",
   "metadata": {},
   "source": [
    "The [Cayley-Dickson construction](https://en.wikipedia.org/wiki/Cayley%E2%80%93Dickson_construction) begins with a <i>base</i> algebra, $A$, usually a ring or field, from which another algebra, $\\mathscr{C}(A)$, is derived, with compound elements, identical to those found in the direct product of $A$ with itself, and, like direct products, addition is defined element-wise, but multiplication is defined similar to complex number multiplication, as described in definition 1, below.\n",
    "\n",
    "> **Definition 1: Cayley-Dickson Algebra (CDA)**\n",
    "> \n",
    "> Let $A = \\langle S, +, \\cdot \\rangle$ be a ring and let $T = S \\times S$ (i.e., the cross-product of $S$ with itself).\n",
    "> \n",
    "> Then, define the algebra, $\\mathscr{C}(A) \\equiv \\langle T, \\oplus, \\odot \\rangle$,\n",
    "> \n",
    "> where $\\forall (a,b),(c,d) \\in T$,\n",
    "> \n",
    "> $(a,b) \\oplus (c,d) \\equiv (a + c, b + d)$\n",
    "> \n",
    "> $(a,b) \\odot (c,d) \\equiv (a \\cdot c - b \\cdot d, a \\cdot d + b \\cdot c)$\n",
    "\n",
    "So, for example, if we apply the Cayley-Dickson construction to the field of real numbers, $\\mathbb{R}$, we obtain the algebra of **complex numbers**, $\\mathscr{C}(\\mathbb{R}) \\equiv \\mathbb{C}$.\n",
    " \n",
    "In fact, the Cayley-Dickson Algebra (CDA) constructor, $\\mathscr{C}$, can be applied to multiple times, as described in definition 2, below.\n",
    "\n",
    "> **Definition 2: CDA Constructor**\n",
    "> \n",
    "> Let $k \\in Z^+$ and $\\mathscr{C}^0(A) \\equiv A$,\n",
    "> \n",
    "> then $\\mathscr{C}^k(A) \\equiv \\mathscr{C}(\\mathscr{C}^{k-1}(A))$,\n",
    "\n",
    "So, for example, $\\mathscr{C}^2(\\mathbb{R}) \\equiv \\mathscr{C}(\\mathbb{C}) \\equiv \\mathbb{H}$ is the algebra of **quaternions**, and $\\mathscr{C}^3(\\mathbb{R}) \\equiv \\mathbb{O}$ is the algebra of **octonions**."
   ]
  },
  {
   "cell_type": "markdown",
   "id": "99cb115b-d9e8-43d6-9efd-2719160ae4a7",
   "metadata": {},
   "source": [
    "In many (all?) papers on the subject, a generalization of complex multiplication is used, instead of the multiplication described above. And, there are multiple, different versions of the generalization.\n",
    "\n",
    "All of the generalizations begin with a common, recursive definition of <i>conjugation</i>, described in definition 3, below.\n",
    "\n",
    "> **Definition 3: Conjugation**\n",
    "> \n",
    "> The **conjugate** of an algebraic element, $r$, is denoted by $\\overline{r}$, and defined recursively as follows:\n",
    "> \n",
    "> For $a \\in A$, the base algebra, let $\\overline{a} \\equiv a$.\n",
    "> \n",
    "> Then, let $k \\in Z^+$; $p,q \\in \\mathscr{C}^{k-1}(A)$; and $(p,q) \\in \\mathscr{C}^k(A)$,\n",
    "> \n",
    "> and define $\\overline{(p, q)} \\equiv (\\overline{p}, -q)$\n",
    "\n",
    "In **Shafer (1966)**, the generalization of CDA multiplication is defined as shown in definition 4, below.\n",
    "\n",
    "> **Definition 4: CDA Multiplication in [Schafer 1966]**\n",
    "> \n",
    "> Let $k \\in Z^+$; $a,b,c,d,\\mu \\in \\mathscr{C}^{k-1}(A)$; and $\\mu \\neq 0$,\n",
    "> \n",
    "> then define multiplication for $(a,b), (c,d) \\in \\mathscr{C}^k(A)$ as\n",
    ">\n",
    "> $(a, b) \\odot (c, d) = (a \\cdot c + \\mu \\cdot d \\cdot \\overline{b}, \\overline{a} \\cdot d + c \\cdot b)$\n",
    "\n",
    "In **Shafer (1953)**, a different generalization of multiplication is given. See definition 5, below.\n",
    "\n",
    "> **Definition 5: CDA Multiplication in [Schafer 1953]**\n",
    "> \n",
    "> $(a, b) \\odot (c, d) = (a \\cdot c + \\mu \\cdot \\overline{d} \\cdot b, d \\cdot a + b \\cdot \\overline{c})$"
   ]
  },
  {
   "cell_type": "markdown",
   "id": "5c8c5366-b45e-4040-9078-a79f91923752",
   "metadata": {},
   "source": [
    "## Bibliography"
   ]
  },
  {
   "cell_type": "markdown",
   "id": "a3ff4ce6-8776-4abe-b574-7d207e04435c",
   "metadata": {},
   "source": [
    "* Schafer, R. D., \"An Introduction to Nonassociative Algebras\", Academic Press, 1966. ([or see this 1961 version](https://www.gutenberg.org/ebooks/25156))\n",
    "* [Python code for octonion and sedenion multiplication](https://www.johndcook.com/blog/2018/07/09/octonioin-multiplication/) - John D Cook blog\n",
    "* [The Octonions](https://web.archive.org/web/20180216125124/http://math.ucr.edu:80/home/baez/octonions/) - The Wayback Machine\n",
    "* [Algebra over a field](https://en.wikipedia.org/wiki/Algebra_over_a_field) - Wikipedia\n",
    "* [Cayley-Dickson construction](https://en.wikipedia.org/wiki/Cayley%E2%80%93Dickson_construction) - Wikipedia\n",
    "* [Cayley-Dickson algebra](https://encyclopediaofmath.org/wiki/Cayley-Dickson_algebra) - Encyclopedia of Math\n",
    "* [What comes after the ducentiquinquagintasexions?](https://english.stackexchange.com/questions/234607/what-comes-after-the-ducentiquinquagintasexions) - StackExchange\n",
    "* [\"Equivalence in a Class of Division Algebras of Order 16\"](https://core.ac.uk/reader/82141950) by R. D. Schafer"
   ]
  },
  {
   "cell_type": "markdown",
   "id": "7b79999a",
   "metadata": {},
   "source": [
    "## Algebras"
   ]
  },
  {
   "cell_type": "markdown",
   "id": "34a99dfe",
   "metadata": {},
   "source": [
    "### Algebras by \"Squaring\""
   ]
  },
  {
   "cell_type": "code",
   "execution_count": 2,
   "id": "37a0cd3b",
   "metadata": {},
   "outputs": [],
   "source": [
    "F3 = alg.generate_algebra_mod_n(3, elem_name='')\n",
    "F3sqr = F3.sqr()\n",
    "\n",
    "R4 = alg.generate_algebra_mod_n(4, elem_name='')  # Will be a ring because 4 is not prime\n",
    "R4sqr = R4.sqr()\n",
    "\n",
    "F5 = alg.generate_algebra_mod_n(5, elem_name='')\n",
    "F5sqr = F5.sqr()\n",
    "\n",
    "F7 = alg.generate_algebra_mod_n(7, elem_name='')\n",
    "F7sqr = F7.sqr()"
   ]
  },
  {
   "cell_type": "code",
   "execution_count": 3,
   "id": "50c27a3e",
   "metadata": {},
   "outputs": [
    {
     "name": "stdout",
     "output_type": "stream",
     "text": [
      "\n",
      "** Field **\n",
      "Name: F3\n",
      "Instance ID: 4427388368\n",
      "Description: Autogenerated Field of integers mod 3\n",
      "Order: 3\n",
      "Identity: '0'\n",
      "Commutative? Yes\n",
      "Cyclic?: Yes\n",
      "  Generators: ['1', '2']\n",
      "Elements:\n",
      "   Index   Name   Inverse  Order\n",
      "      0     '0'     '0'       1\n",
      "      1     '1'     '2'       3\n",
      "      2     '2'     '1'       3\n",
      "Cayley Table (showing indices):\n",
      "[[0, 1, 2], [1, 2, 0], [2, 0, 1]]\n",
      "Mult. Identity: '1'\n",
      "Mult. Commutative? Yes\n",
      "Zero Divisors: None\n",
      "Multiplicative Cayley Table (showing indices):\n",
      "[[0, 0, 0], [0, 1, 2], [0, 2, 1]]\n"
     ]
    }
   ],
   "source": [
    "F3.about()"
   ]
  },
  {
   "cell_type": "code",
   "execution_count": 4,
   "id": "7faa9efd",
   "metadata": {},
   "outputs": [
    {
     "name": "stdout",
     "output_type": "stream",
     "text": [
      "F3_SQR is a <class 'finite_algebras.Field'>\n",
      "R4_SQR is a <class 'finite_algebras.Ring'>\n",
      "F5_SQR is a <class 'finite_algebras.Ring'>\n",
      "F7_SQR is a <class 'finite_algebras.Field'>\n"
     ]
    }
   ],
   "source": [
    "print(f\"{F3sqr.name} is a {type(F3sqr)}\")\n",
    "print(f\"{R4sqr.name} is a {type(R4sqr)}\")\n",
    "print(f\"{F5sqr.name} is a {type(F5sqr)}\")\n",
    "print(f\"{F7sqr.name} is a {type(F7sqr)}\")"
   ]
  },
  {
   "cell_type": "markdown",
   "id": "28e12886",
   "metadata": {},
   "source": [
    "### One Application of Cayley-Dickson"
   ]
  },
  {
   "cell_type": "markdown",
   "id": "bbaa6109",
   "metadata": {},
   "source": [
    "Here, one application of Cayley-Dickson construction process is applied to the F3 & F5 fields.\n",
    "\n",
    "Note:\n",
    "\n",
    "* 3 - Gaussian prime\n",
    "* 4 - Not a prime\n",
    "* 5 - Prime, but not a Gaussian prime\n",
    "\n",
    "**Conclusion**: F3sqr, F3cda, F3cda66, & F3cda53 are all identical. Similar results for F4 & F5."
   ]
  },
  {
   "cell_type": "code",
   "execution_count": 5,
   "id": "f7752b67",
   "metadata": {},
   "outputs": [
    {
     "name": "stdout",
     "output_type": "stream",
     "text": [
      "Cayley-Dickson algebra based on F3, where mu = None, basic version.\n",
      "F3sqr == F3cda ?: True\n",
      "\n",
      "Cayley-Dickson algebra based on F3, where mu = 2, Schafer 1966 version.\n",
      "F3sqr == F3cda66 ?: True\n",
      "\n",
      "Cayley-Dickson algebra based on F3, where mu = 2, Schafer 1953 version.\n",
      "F3sqr == F3cda53 ?: True\n",
      "\n"
     ]
    }
   ],
   "source": [
    "F3cda = F3.make_cayley_dickson_algebra()\n",
    "print(f\"{F3cda.description}\")\n",
    "print(f\"F3sqr == F3cda ?: {F3sqr == F3cda}\\n\")\n",
    "\n",
    "F3cda66 = F3.make_cayley_dickson_algebra(version=1)\n",
    "print(f\"{F3cda66.description}\")\n",
    "print(f\"F3sqr == F3cda66 ?: {F3sqr == F3cda66}\\n\")\n",
    "\n",
    "F3cda53 = F3.make_cayley_dickson_algebra(version=2)\n",
    "print(f\"{F3cda53.description}\")\n",
    "print(f\"F3sqr == F3cda53 ?: {F3sqr == F3cda53}\\n\")"
   ]
  },
  {
   "cell_type": "code",
   "execution_count": 6,
   "id": "1de561a8",
   "metadata": {},
   "outputs": [
    {
     "name": "stdout",
     "output_type": "stream",
     "text": [
      "Cayley-Dickson algebra based on R4, where mu = None, basic version.\n",
      "R4sqr == R4cda ?: True\n",
      "\n",
      "Cayley-Dickson algebra based on R4, where mu = 3, Schafer 1966 version.\n",
      "R4sqr == R4cda66 ?: True\n",
      "\n",
      "Cayley-Dickson algebra based on R4, where mu = 3, Schafer 1953 version.\n",
      "R4sqr == R4cda53 ?: True\n",
      "\n"
     ]
    }
   ],
   "source": [
    "R4cda = R4.make_cayley_dickson_algebra()\n",
    "print(f\"{R4cda.description}\")\n",
    "print(f\"R4sqr == R4cda ?: {R4sqr == R4cda}\\n\")\n",
    "\n",
    "R4cda66 = R4.make_cayley_dickson_algebra(version=1)\n",
    "print(f\"{R4cda66.description}\")\n",
    "print(f\"R4sqr == R4cda66 ?: {R4sqr == R4cda66}\\n\")\n",
    "\n",
    "R4cda53 = R4.make_cayley_dickson_algebra(version=2)\n",
    "print(f\"{R4cda53.description}\")\n",
    "print(f\"R4sqr == R4cda53 ?: {R4sqr == R4cda53}\\n\")"
   ]
  },
  {
   "cell_type": "code",
   "execution_count": 7,
   "id": "d672d23b",
   "metadata": {},
   "outputs": [
    {
     "name": "stdout",
     "output_type": "stream",
     "text": [
      "Cayley-Dickson algebra based on F5, where mu = None, basic version.\n",
      "F5sqr == F5cda ?: True\n",
      "\n",
      "Cayley-Dickson algebra based on F5, where mu = 4, Schafer 1966 version.\n",
      "F5sqr == F5cda66 ?: True\n",
      "\n",
      "Cayley-Dickson algebra based on F5, where mu = 4, Schafer 1953 version.\n",
      "F5sqr == F5cda53 ?: False\n",
      "\n"
     ]
    }
   ],
   "source": [
    "F5cda = F5.make_cayley_dickson_algebra()\n",
    "print(f\"{F5cda.description}\")\n",
    "print(f\"F5sqr == F5cda ?: {F5sqr == F5cda}\\n\")\n",
    "\n",
    "F5cda66 = F5.make_cayley_dickson_algebra(version=1)\n",
    "print(f\"{F5cda66.description}\")\n",
    "print(f\"F5sqr == F5cda66 ?: {F5sqr == F5cda66}\\n\")\n",
    "\n",
    "F5cda53 = F5.make_cayley_dickson_algebra(version=2)\n",
    "print(f\"{F5cda53.description}\")\n",
    "print(f\"F5sqr == F5cda53 ?: {F5sqr == F3cda53}\\n\")"
   ]
  },
  {
   "cell_type": "markdown",
   "id": "2054364d",
   "metadata": {},
   "source": [
    "### Two Applications of Cayley-Dickson"
   ]
  },
  {
   "cell_type": "code",
   "execution_count": 8,
   "id": "daf756c1",
   "metadata": {},
   "outputs": [
    {
     "name": "stdout",
     "output_type": "stream",
     "text": [
      "CPU times: user 765 ms, sys: 2.6 ms, total: 767 ms\n",
      "Wall time: 767 ms\n"
     ]
    }
   ],
   "source": [
    "%%time\n",
    "\n",
    "F3quad = F3sqr.sqr()\n",
    "#print(F3quad)"
   ]
  },
  {
   "cell_type": "code",
   "execution_count": 9,
   "id": "c75575e6",
   "metadata": {},
   "outputs": [
    {
     "name": "stdout",
     "output_type": "stream",
     "text": [
      "CPU times: user 2.24 s, sys: 2.7 ms, total: 2.24 s\n",
      "Wall time: 2.25 s\n"
     ]
    }
   ],
   "source": [
    "%%time\n",
    "\n",
    "F3cda2 = F3cda.make_cayley_dickson_algebra()\n",
    "\n",
    "F3cda2_66 = F3cda.make_cayley_dickson_algebra(version=1)\n",
    "\n",
    "F3cda2_53 = F3cda.make_cayley_dickson_algebra(version=2)"
   ]
  },
  {
   "cell_type": "code",
   "execution_count": 19,
   "id": "e37bb9e7",
   "metadata": {},
   "outputs": [
    {
     "name": "stdout",
     "output_type": "stream",
     "text": [
      "CPU times: user 22.6 s, sys: 4.99 ms, total: 22.6 s\n",
      "Wall time: 22.7 s\n"
     ]
    }
   ],
   "source": [
    "%%time\n",
    "\n",
    "R4cda2 = R4cda.make_cayley_dickson_algebra()"
   ]
  },
  {
   "cell_type": "code",
   "execution_count": 20,
   "id": "b7a7aeb5",
   "metadata": {},
   "outputs": [
    {
     "name": "stdout",
     "output_type": "stream",
     "text": [
      "\n",
      "** Ring **\n",
      "Name: R4_Sqr_Sqr\n",
      "Instance ID: 4428305232\n",
      "Description: Cayley-Dickson algebra based on R4_Sqr, where mu = None, basic version.\n",
      "Order: 256\n",
      "Identity: '0:0:0:0'\n",
      "Commutative? Yes\n",
      "Cyclic?: No\n",
      "Mult. Identity: '1:0:0:0'\n",
      "Mult. Commutative? Yes\n",
      "Zero Divisors: ['0:0:0:2', '0:0:1:1', '0:0:1:3', '0:0:2:0', '0:0:2:2', '0:0:3:1', '0:0:3:3', '0:1:0:1', '0:1:0:3', '0:1:1:0', '0:1:1:2', '0:1:2:1', '0:1:2:3', '0:1:3:0', '0:1:3:2', '0:2:0:0', '0:2:0:2', '0:2:1:1', '0:2:1:3', '0:2:2:0', '0:2:2:2', '0:2:3:1', '0:2:3:3', '0:3:0:1', '0:3:0:3', '0:3:1:0', '0:3:1:2', '0:3:2:1', '0:3:2:3', '0:3:3:0', '0:3:3:2', '1:0:0:1', '1:0:0:3', '1:0:1:0', '1:0:1:2', '1:0:2:1', '1:0:2:3', '1:0:3:0', '1:0:3:2', '1:1:0:0', '1:1:0:2', '1:1:1:1', '1:1:1:3', '1:1:2:0', '1:1:2:2', '1:1:3:1', '1:1:3:3', '1:2:0:1', '1:2:0:3', '1:2:1:0', '1:2:1:2', '1:2:2:1', '1:2:2:3', '1:2:3:0', '1:2:3:2', '1:3:0:0', '1:3:0:2', '1:3:1:1', '1:3:1:3', '1:3:2:0', '1:3:2:2', '1:3:3:1', '1:3:3:3', '2:0:0:0', '2:0:0:2', '2:0:1:1', '2:0:1:3', '2:0:2:0', '2:0:2:2', '2:0:3:1', '2:0:3:3', '2:1:0:1', '2:1:0:3', '2:1:1:0', '2:1:1:2', '2:1:2:1', '2:1:2:3', '2:1:3:0', '2:1:3:2', '2:2:0:0', '2:2:0:2', '2:2:1:1', '2:2:1:3', '2:2:2:0', '2:2:2:2', '2:2:3:1', '2:2:3:3', '2:3:0:1', '2:3:0:3', '2:3:1:0', '2:3:1:2', '2:3:2:1', '2:3:2:3', '2:3:3:0', '2:3:3:2', '3:0:0:1', '3:0:0:3', '3:0:1:0', '3:0:1:2', '3:0:2:1', '3:0:2:3', '3:0:3:0', '3:0:3:2', '3:1:0:0', '3:1:0:2', '3:1:1:1', '3:1:1:3', '3:1:2:0', '3:1:2:2', '3:1:3:1', '3:1:3:3', '3:2:0:1', '3:2:0:3', '3:2:1:0', '3:2:1:2', '3:2:2:1', '3:2:2:3', '3:2:3:0', '3:2:3:2', '3:3:0:0', '3:3:0:2', '3:3:1:1', '3:3:1:3', '3:3:2:0', '3:3:2:2', '3:3:3:1', '3:3:3:3']\n"
     ]
    }
   ],
   "source": [
    "R4cda2.about(show_elements=False, show_tables=False)"
   ]
  },
  {
   "cell_type": "code",
   "execution_count": 21,
   "id": "59c41ab2",
   "metadata": {},
   "outputs": [
    {
     "name": "stdout",
     "output_type": "stream",
     "text": [
      "CPU times: user 23.4 s, sys: 5.28 ms, total: 23.4 s\n",
      "Wall time: 23.4 s\n"
     ]
    }
   ],
   "source": [
    "%%time\n",
    "\n",
    "R4cda2_66 = R4cda.make_cayley_dickson_algebra(version=1)"
   ]
  },
  {
   "cell_type": "code",
   "execution_count": 24,
   "id": "0f595979",
   "metadata": {},
   "outputs": [
    {
     "data": {
      "text/plain": [
       "False"
      ]
     },
     "execution_count": 24,
     "metadata": {},
     "output_type": "execute_result"
    }
   ],
   "source": [
    "R4cda2 == R4cda2_66"
   ]
  },
  {
   "cell_type": "code",
   "execution_count": 22,
   "id": "98483051",
   "metadata": {},
   "outputs": [
    {
     "name": "stdout",
     "output_type": "stream",
     "text": [
      "\n",
      "** Ring **\n",
      "Name: R4_Sqr_CDA66\n",
      "Instance ID: 4428214992\n",
      "Description: Cayley-Dickson algebra based on R4_Sqr, where mu = 3:0, Schafer 1966 version.\n",
      "Order: 256\n",
      "Identity: '0:0:0:0'\n",
      "Commutative? Yes\n",
      "Cyclic?: No\n",
      "Mult. Identity: '1:0:0:0'\n",
      "Mult. Commutative? No\n",
      "Zero Divisors: ['0:0:0:2', '0:0:1:1', '0:0:1:3', '0:0:2:0', '0:0:2:2', '0:0:3:1', '0:0:3:3', '0:1:0:1', '0:1:0:3', '0:1:1:0', '0:1:1:2', '0:1:2:1', '0:1:2:3', '0:1:3:0', '0:1:3:2', '0:2:0:0', '0:2:0:2', '0:2:1:1', '0:2:1:3', '0:2:2:0', '0:2:2:2', '0:2:3:1', '0:2:3:3', '0:3:0:1', '0:3:0:3', '0:3:1:0', '0:3:1:2', '0:3:2:1', '0:3:2:3', '0:3:3:0', '0:3:3:2', '1:0:0:1', '1:0:0:3', '1:0:1:0', '1:0:1:2', '1:0:2:1', '1:0:2:3', '1:0:3:0', '1:0:3:2', '1:1:0:0', '1:1:0:2', '1:1:1:1', '1:1:1:3', '1:1:2:0', '1:1:2:2', '1:1:3:1', '1:1:3:3', '1:2:0:1', '1:2:0:3', '1:2:1:0', '1:2:1:2', '1:2:2:1', '1:2:2:3', '1:2:3:0', '1:2:3:2', '1:3:0:0', '1:3:0:2', '1:3:1:1', '1:3:1:3', '1:3:2:0', '1:3:2:2', '1:3:3:1', '1:3:3:3', '2:0:0:0', '2:0:0:2', '2:0:1:1', '2:0:1:3', '2:0:2:0', '2:0:2:2', '2:0:3:1', '2:0:3:3', '2:1:0:1', '2:1:0:3', '2:1:1:0', '2:1:1:2', '2:1:2:1', '2:1:2:3', '2:1:3:0', '2:1:3:2', '2:2:0:0', '2:2:0:2', '2:2:1:1', '2:2:1:3', '2:2:2:0', '2:2:2:2', '2:2:3:1', '2:2:3:3', '2:3:0:1', '2:3:0:3', '2:3:1:0', '2:3:1:2', '2:3:2:1', '2:3:2:3', '2:3:3:0', '2:3:3:2', '3:0:0:1', '3:0:0:3', '3:0:1:0', '3:0:1:2', '3:0:2:1', '3:0:2:3', '3:0:3:0', '3:0:3:2', '3:1:0:0', '3:1:0:2', '3:1:1:1', '3:1:1:3', '3:1:2:0', '3:1:2:2', '3:1:3:1', '3:1:3:3', '3:2:0:1', '3:2:0:3', '3:2:1:0', '3:2:1:2', '3:2:2:1', '3:2:2:3', '3:2:3:0', '3:2:3:2', '3:3:0:0', '3:3:0:2', '3:3:1:1', '3:3:1:3', '3:3:2:0', '3:3:2:2', '3:3:3:1', '3:3:3:3']\n"
     ]
    }
   ],
   "source": [
    "R4cda2_66.about(show_elements=False, show_tables=False)"
   ]
  },
  {
   "cell_type": "code",
   "execution_count": 10,
   "id": "1f29ea03",
   "metadata": {},
   "outputs": [
    {
     "name": "stdout",
     "output_type": "stream",
     "text": [
      "<Ring:F3_Sqr_Sqr, ID:4408080080>\n",
      "F3cda2 == F3quad ?: True (This should be True)\n",
      "F3cda2 == F3cda2_66 ?: False\n",
      "F3cda2 == F3cda2_53 ?: False\n",
      "F3cda2_66 == F3cda2_53 ?: False\n"
     ]
    }
   ],
   "source": [
    "print(F3cda2)\n",
    "print(f\"F3cda2 == F3quad ?: {F3cda2 == F3quad} (This should be True)\")\n",
    "print(f\"F3cda2 == F3cda2_66 ?: {F3cda2 == F3cda2_66}\")\n",
    "print(f\"F3cda2 == F3cda2_53 ?: {F3cda2 == F3cda2_53}\")\n",
    "print(f\"F3cda2_66 == F3cda2_53 ?: {F3cda2_66 == F3cda2_53}\")"
   ]
  },
  {
   "cell_type": "code",
   "execution_count": 11,
   "id": "c6759537",
   "metadata": {},
   "outputs": [
    {
     "name": "stdout",
     "output_type": "stream",
     "text": [
      "16\n",
      "16\n",
      "32\n",
      "32\n"
     ]
    }
   ],
   "source": [
    "print(len(F3quad.zero_divisors()))\n",
    "print(len(F3cda2.zero_divisors()))\n",
    "print(len(F3cda2_66.zero_divisors()))\n",
    "print(len(F3cda2_53.zero_divisors()))"
   ]
  },
  {
   "cell_type": "code",
   "execution_count": 12,
   "id": "d20cfea2",
   "metadata": {},
   "outputs": [
    {
     "name": "stdout",
     "output_type": "stream",
     "text": [
      "5616 unequal out of 6561\n"
     ]
    }
   ],
   "source": [
    "alg1 = F3cda2_66\n",
    "alg2 = F3cda2_53\n",
    "\n",
    "total = 0\n",
    "count = 0\n",
    "for a in alg1:\n",
    "    for b in alg1:\n",
    "        total += 1\n",
    "        if not alg1.mult(a, b) == alg2.mult(a, b):\n",
    "            count += 1\n",
    "print(f\"{count} unequal out of {total}\")"
   ]
  },
  {
   "cell_type": "code",
   "execution_count": 13,
   "id": "c750e804",
   "metadata": {},
   "outputs": [
    {
     "name": "stdout",
     "output_type": "stream",
     "text": [
      "5184 unequal out of 6561\n"
     ]
    }
   ],
   "source": [
    "alg1 = F3cda2_66\n",
    "alg2 = F3cda2\n",
    "\n",
    "total = 0\n",
    "count = 0\n",
    "for a in alg1:\n",
    "    for b in alg1:\n",
    "        total += 1\n",
    "        if not alg1.mult(a, b) == alg2.mult(a, b):\n",
    "            count += 1\n",
    "print(f\"{count} unequal out of {total}\")"
   ]
  },
  {
   "cell_type": "code",
   "execution_count": 14,
   "id": "d148c3d2",
   "metadata": {},
   "outputs": [
    {
     "name": "stdout",
     "output_type": "stream",
     "text": [
      "5184 unequal out of 6561\n"
     ]
    }
   ],
   "source": [
    "alg1 = F3cda2\n",
    "alg2 = F3cda2_53\n",
    "\n",
    "total = 0\n",
    "count = 0\n",
    "for a in alg1:\n",
    "    for b in alg1:\n",
    "        total += 1\n",
    "        if not alg1.mult(a, b) == alg2.mult(a, b):\n",
    "            count += 1\n",
    "print(f\"{count} unequal out of {total}\")"
   ]
  },
  {
   "cell_type": "markdown",
   "id": "c35971c2",
   "metadata": {},
   "source": [
    "## Norm Squared"
   ]
  },
  {
   "cell_type": "markdown",
   "id": "f51008c6",
   "metadata": {},
   "source": [
    "This tests that the following relationship holds true: $\\forall x, y \\in F, N(x) \\cdot N(y) = N(xy)$"
   ]
  },
  {
   "cell_type": "code",
   "execution_count": 15,
   "id": "5761faf4",
   "metadata": {},
   "outputs": [
    {
     "name": "stdout",
     "output_type": "stream",
     "text": [
      "F3_Sqr_Sqr: 6561 OK, 0 not OK\n"
     ]
    }
   ],
   "source": [
    "A = F3cda2\n",
    "ok = 0\n",
    "not_ok = 0\n",
    "for x in A:\n",
    "    for y in A:\n",
    "        if not (A.mult(A.norm_sqr(x), A.norm_sqr(y)) == A.norm_sqr(A.mult(x, y))):\n",
    "            not_ok += 1\n",
    "            All_OK = False\n",
    "            print(x, y)\n",
    "        else:\n",
    "            ok += 1\n",
    "\n",
    "print(f\"{A.name}: {ok} OK, {not_ok} not OK\")"
   ]
  },
  {
   "cell_type": "code",
   "execution_count": 26,
   "id": "ef9c831f-c8fa-4113-915d-9d7f1bf92530",
   "metadata": {},
   "outputs": [
    {
     "name": "stdout",
     "output_type": "stream",
     "text": [
      "F3: 9 OK, 0 not OK\n",
      "F3_SQR: 81 OK, 0 not OK\n",
      "F3_SQR_SQR: 6561 OK, 0 not OK\n",
      "F3_Sqr: 81 OK, 0 not OK\n",
      "F3_CDA66: 81 OK, 0 not OK\n",
      "F3_CDA53: 81 OK, 0 not OK\n",
      "R4_Sqr: 256 OK, 0 not OK\n",
      "R4_CDA66: 256 OK, 0 not OK\n",
      "R4_CDA53: 256 OK, 0 not OK\n",
      "R4_Sqr_Sqr: 65536 OK, 0 not OK\n",
      "F3_Sqr_Sqr: 6561 OK, 0 not OK\n",
      "R4_Sqr_CDA66: 36352 OK, 29184 not OK\n",
      "F3_Sqr_CDA66: 1265 OK, 5296 not OK\n",
      "F3_Sqr_CDA53: 1265 OK, 5296 not OK\n"
     ]
    }
   ],
   "source": [
    "algebras = [F3, F3sqr, F3quad, F3cda, F3cda66, F3cda53,\n",
    "            R4cda, R4cda66, R4cda53, R4cda2, F3cda2,\n",
    "            R4cda2_66, F3cda2_66, F3cda2_53]\n",
    "\n",
    "for A in algebras:\n",
    "    ok = 0\n",
    "    not_ok = 0\n",
    "    for x in A:\n",
    "        for y in A:\n",
    "            if not (A.mult(A.norm_sqr(x), A.norm_sqr(y)) == A.norm_sqr(A.mult(x, y))):\n",
    "                not_ok += 1\n",
    "                All_OK = False\n",
    "                # print(x, y)\n",
    "            else:\n",
    "                ok += 1\n",
    "    print(f\"{A.name}: {ok} OK, {not_ok} not OK\")"
   ]
  },
  {
   "cell_type": "markdown",
   "id": "d7f82f27-80ea-4a86-bff9-0096a2ffe935",
   "metadata": {},
   "source": [
    "## Check Conjugate"
   ]
  },
  {
   "cell_type": "code",
   "execution_count": 60,
   "id": "c1b82b60-25f4-4195-8e00-44c7f77d7b0f",
   "metadata": {},
   "outputs": [
    {
     "name": "stdout",
     "output_type": "stream",
     "text": [
      "  Element = 1:2:2:1\n",
      "conj(1:2) = 1:1\n",
      "   -(2:1) = 1:2\n",
      "conj(1:2:2:1) = 1:1:1:2\n",
      "\n",
      "Actual = 1:2:1:2\n"
     ]
    }
   ],
   "source": [
    "base = F3sqr\n",
    "base2= F3quad\n",
    "# base = R4cda\n",
    "# base2 = R4cda2\n",
    "\n",
    "elem = '1:2:2:1'\n",
    "a, b = base2.split_element(elem)\n",
    "print(f\"  Element = {elem}\")\n",
    "conj_a = base.conj(a)\n",
    "neg_b = base.inv(b)\n",
    "print(f\"conj({a}) = {conj_a}\")\n",
    "print(f\"   -({b}) = {neg_b}\")\n",
    "conj_elem = \":\".join([conj_a, neg_b])\n",
    "print(f\"conj({elem}) = {conj_elem}\")\n",
    "\n",
    "print(f\"\\nActual = {F3quad.conj(elem)}\")"
   ]
  },
  {
   "cell_type": "code",
   "execution_count": null,
   "id": "0b683b6c",
   "metadata": {},
   "outputs": [],
   "source": [
    "# base = F3sqr\n",
    "# base2= F3quad\n",
    "base = R4cda\n",
    "base2 = R4cda2\n",
    "\n",
    "elem = '1:2:2:1'\n",
    "a, b = base2.split_element(elem)\n",
    "print(f\"  Element = {elem}\")\n",
    "conj_a = base.conj(a)\n",
    "neg_b = base.inv(b)\n",
    "print(f\"conj({a}) = {conj_a}\")\n",
    "print(f\"   -({b}) = {neg_b}\")\n",
    "conj_elem = \":\".join([conj_a, neg_b])\n",
    "print(f\"conj({elem}) = {conj_elem}\")\n",
    "\n",
    "print(f\"\\nActual = {F3quad.conj(elem)}\")"
   ]
  }
 ],
 "metadata": {
  "kernelspec": {
   "display_name": "Python 3 (ipykernel)",
   "language": "python",
   "name": "python3"
  },
  "language_info": {
   "codemirror_mode": {
    "name": "ipython",
    "version": 3
   },
   "file_extension": ".py",
   "mimetype": "text/x-python",
   "name": "python",
   "nbconvert_exporter": "python",
   "pygments_lexer": "ipython3",
   "version": "3.11.5"
  }
 },
 "nbformat": 4,
 "nbformat_minor": 5
}
