{
 "cells": [
  {
   "cell_type": "markdown",
   "id": "d464dfeb",
   "metadata": {},
   "source": [
    "# Scratchwork"
   ]
  },
  {
   "cell_type": "markdown",
   "id": "24c95dce",
   "metadata": {},
   "source": [
    "This notebook is only used for trying out ideas."
   ]
  },
  {
   "cell_type": "code",
   "execution_count": 9,
   "id": "5bf4ea46",
   "metadata": {},
   "outputs": [],
   "source": [
    "import algebras as alg\n",
    "import json\n",
    "import os\n",
    "import numpy as np\n",
    "import itertools as it"
   ]
  },
  {
   "cell_type": "code",
   "execution_count": 10,
   "id": "431535bd",
   "metadata": {},
   "outputs": [],
   "source": [
    "# Path to this repo\n",
    "aa_path = os.path.join(os.getenv('PYPROJ'), 'abstract_algebra')\n",
    "\n",
    "# Path to a directory containing Algebra definitions in JSON\n",
    "alg_dir = os.path.join(aa_path, \"Algebras\")"
   ]
  },
  {
   "cell_type": "markdown",
   "id": "5efcb790",
   "metadata": {},
   "source": [
    "## Groups for Testing"
   ]
  },
  {
   "cell_type": "code",
   "execution_count": 11,
   "id": "62210792",
   "metadata": {},
   "outputs": [
    {
     "name": "stdout",
     "output_type": "stream",
     "text": [
      "{\"type\": \"Group\",\r\n",
      " \"name\": \"D_4\",\r\n",
      " \"description\": \"Dihedral group on four vertices\",\r\n",
      " \"element_names\": [\"e\", \"r\", \"r^2\", \"r^3\", \"f\", \"fr\", \"r^2f\", \"rf\"],\r\n",
      " \"alt_elem_names\": [\"()\", \"(0 1 2 3)\", \"(0 2)(1 3)\", \"(0 3 2 1)\",\r\n",
      "                    \"(0 1)(2 3)\", \"(1 3)\", \"(0 3)(1 2)\", \"(0 2)\"],\r\n",
      " \"mult_table\": [[0, 1, 2, 3, 4, 5, 6, 7],\r\n",
      "                [1, 2, 3, 0, 7, 4, 5, 6],\r\n",
      "                [2, 3, 0, 1, 6, 7, 4, 5],\r\n",
      "                [3, 0, 1, 2, 5, 6, 7, 4],\r\n",
      "                [4, 5, 6, 7, 0, 1, 2, 3],\r\n",
      "                [5, 6, 7, 4, 3, 0, 1, 2],\r\n",
      "                [6, 7, 4, 5, 2, 3, 0, 1],\r\n",
      "                [7, 4, 5, 6, 1, 2, 3, 0]]\r\n",
      "}"
     ]
    }
   ],
   "source": [
    "d4_path = os.path.join(alg_dir, \"d4_dihedral_group_on_4_vertices.json\")\n",
    "!cat {d4_path}"
   ]
  },
  {
   "cell_type": "code",
   "execution_count": 12,
   "id": "196d4539",
   "metadata": {},
   "outputs": [
    {
     "name": "stdout",
     "output_type": "stream",
     "text": [
      "\n",
      "Group : D_4 : Dihedral group on four vertices\n",
      "  Element Names: ['e', 'r', 'r^2', 'r^3', 'f', 'fr', 'r^2f', 'rf']\n",
      "  Is Abelian? False\n",
      "  Inverses:  (** - indicates that it is its own inverse)\n",
      "    inv(e) = e   **\n",
      "    inv(r) = r^3 \n",
      "    inv(r^2) = r^2   **\n",
      "    inv(r^3) = r \n",
      "    inv(f) = f   **\n",
      "    inv(fr) = fr   **\n",
      "    inv(r^2f) = r^2f   **\n",
      "    inv(rf) = rf   **\n",
      "  Is associative? True\n",
      "  Cayley Table:\n",
      "       e     r   r^2   r^3     f    fr  r^2f    rf\n",
      "       r   r^2   r^3     e    rf     f    fr  r^2f\n",
      "     r^2   r^3     e     r  r^2f    rf     f    fr\n",
      "     r^3     e     r   r^2    fr  r^2f    rf     f\n",
      "       f    fr  r^2f    rf     e     r   r^2   r^3\n",
      "      fr  r^2f    rf     f   r^3     e     r   r^2\n",
      "    r^2f    rf     f    fr   r^2   r^3     e     r\n",
      "      rf     f    fr  r^2f     r   r^2   r^3     e\n"
     ]
    }
   ],
   "source": [
    "d4 = alg.Group(d4_path)\n",
    "d4.print_info()"
   ]
  },
  {
   "cell_type": "markdown",
   "id": "cebde2ab",
   "metadata": {},
   "source": [
    "## Order of an Element"
   ]
  },
  {
   "cell_type": "code",
   "execution_count": 13,
   "id": "c895b2b8",
   "metadata": {},
   "outputs": [
    {
     "data": {
      "text/plain": [
       "4"
      ]
     },
     "execution_count": 13,
     "metadata": {},
     "output_type": "execute_result"
    }
   ],
   "source": [
    "d4.element_order('r')"
   ]
  },
  {
   "cell_type": "code",
   "execution_count": 14,
   "id": "a30658af",
   "metadata": {},
   "outputs": [
    {
     "data": {
      "text/plain": [
       "{'e': 1, 'r': 4, 'r^2': 2, 'r^3': 4, 'f': 2, 'fr': 2, 'r^2f': 2, 'rf': 2}"
      ]
     },
     "execution_count": 14,
     "metadata": {},
     "output_type": "execute_result"
    }
   ],
   "source": [
    "d4.element_orders()"
   ]
  },
  {
   "cell_type": "code",
   "execution_count": 15,
   "id": "d29dfcc0",
   "metadata": {},
   "outputs": [
    {
     "data": {
      "text/plain": [
       "{1: ['e'], 4: ['r', 'r^3'], 2: ['r^2', 'f', 'fr', 'r^2f', 'rf']}"
      ]
     },
     "execution_count": 15,
     "metadata": {},
     "output_type": "execute_result"
    }
   ],
   "source": [
    "d4.element_orders(True)"
   ]
  },
  {
   "cell_type": "code",
   "execution_count": 16,
   "id": "f9a6e15d",
   "metadata": {},
   "outputs": [
    {
     "name": "stdout",
     "output_type": "stream",
     "text": [
      "{1: ['e'], 2: ['r^2', 'f', 'fr', 'r^2f', 'rf'], 4: ['r', 'r^3']}\n"
     ]
    }
   ],
   "source": [
    "from pprint import pprint\n",
    "\n",
    "pprint(d4.element_orders(True))"
   ]
  },
  {
   "cell_type": "markdown",
   "id": "757a1679",
   "metadata": {},
   "source": [
    "## Experiments in Finding Generator Sets"
   ]
  },
  {
   "cell_type": "code",
   "execution_count": 17,
   "id": "d002b164",
   "metadata": {},
   "outputs": [
    {
     "data": {
      "text/plain": [
       "['e', 'r', 'r^2', 'r^3', 'f', 'fr', 'r^2f', 'rf']"
      ]
     },
     "execution_count": 17,
     "metadata": {},
     "output_type": "execute_result"
    }
   ],
   "source": [
    "d4.element_names"
   ]
  },
  {
   "cell_type": "code",
   "execution_count": 18,
   "id": "385c80a9",
   "metadata": {},
   "outputs": [],
   "source": [
    "aa = set(d4.element_names[0])\n",
    "bb = set(d4.element_names[1:])"
   ]
  },
  {
   "cell_type": "code",
   "execution_count": 19,
   "id": "12446e24",
   "metadata": {},
   "outputs": [
    {
     "data": {
      "text/plain": [
       "{'e', 'f', 'fr', 'r', 'r^2', 'r^2f', 'r^3', 'rf'}"
      ]
     },
     "execution_count": 19,
     "metadata": {},
     "output_type": "execute_result"
    }
   ],
   "source": [
    "aa | bb"
   ]
  },
  {
   "cell_type": "code",
   "execution_count": 20,
   "id": "7d54bcc9",
   "metadata": {},
   "outputs": [],
   "source": [
    "def minimum_generators(grp):\n",
    "    gens = set()\n",
    "    n = len(grp.element_names)\n",
    "    init = set(grp.element_names[0])\n",
    "    remain = set(grp.element_names[1:])\n",
    "    for i in range(1, n - 2):\n",
    "        for combo in it.combinations(remain, i):\n",
    "            candidate = init | set(combo)\n",
    "            clo = grp.closure(candidate)\n",
    "            if len(clo) == n:\n",
    "                gens.add(frozenset(candidate))\n",
    "    gens_as_lists = list(map(lambda x: list(x), gens))\n",
    "    min_gen_len = min({len(gen) for gen in gens_as_lists})\n",
    "    min_gens = [gen for gen in gens_as_lists if len(gen) == min_gen_len]\n",
    "    return min_gens"
   ]
  },
  {
   "cell_type": "code",
   "execution_count": 23,
   "id": "96522cdd",
   "metadata": {},
   "outputs": [],
   "source": [
    "def minimum_generators(grp):\n",
    "    gens = set()\n",
    "    n = len(grp.element_names)\n",
    "    remain = set(grp.element_names[1:])\n",
    "    for i in range(2, n - 1):\n",
    "        for combo in it.combinations(remain, i):\n",
    "            candidate = set(combo)\n",
    "            clo = grp.closure(candidate)\n",
    "            if len(clo) == n:\n",
    "                gens.add(frozenset(candidate))\n",
    "    gens_as_lists = list(map(lambda x: list(x), gens))\n",
    "    min_gen_len = min({len(gen) for gen in gens_as_lists})\n",
    "    min_gens = [gen for gen in gens_as_lists if len(gen) == min_gen_len]\n",
    "    return min_gens"
   ]
  },
  {
   "cell_type": "code",
   "execution_count": 24,
   "id": "cd9ae43a",
   "metadata": {},
   "outputs": [
    {
     "data": {
      "text/plain": [
       "[['fr', 'r'],\n",
       " ['r^2f', 'r'],\n",
       " ['fr', 'r^2f'],\n",
       " ['f', 'r'],\n",
       " ['rf', 'r^3'],\n",
       " ['rf', 'r'],\n",
       " ['r^2f', 'r^3'],\n",
       " ['fr', 'f'],\n",
       " ['fr', 'r^3'],\n",
       " ['r^2f', 'rf'],\n",
       " ['f', 'rf'],\n",
       " ['f', 'r^3']]"
      ]
     },
     "execution_count": 24,
     "metadata": {},
     "output_type": "execute_result"
    }
   ],
   "source": [
    "minimum_generators(d4)"
   ]
  },
  {
   "cell_type": "code",
   "execution_count": 22,
   "id": "24c944cb",
   "metadata": {},
   "outputs": [
    {
     "name": "stdout",
     "output_type": "stream",
     "text": [
      "('e', 'r') r\n",
      "('r', 'e') r\n",
      "('e', 'fr') fr\n",
      "('fr', 'e') fr\n",
      "('r', 'fr') f\n",
      "('fr', 'r') r^2f\n",
      "[('e', 'r'), ('r', 'e'), ('e', 'fr'), ('fr', 'e'), ('r', 'fr'), ('fr', 'r')]\n"
     ]
    }
   ],
   "source": [
    "grp = d4\n",
    "gen = ['e', 'r', 'fr']\n",
    "\n",
    "def swap_pair(pair):\n",
    "    return (pair[1], pair[0])\n",
    "\n",
    "all_pairs = []\n",
    "elems = set(gen)\n",
    "for pair in it.combinations(gen, 2):\n",
    "    all_pairs.append(pair)\n",
    "    pair_prod = d4.mult(*pair)\n",
    "    \n",
    "    print(pair, pair_prod)\n",
    "    swap = swap_pair(pair)\n",
    "    all_pairs.append(swap)\n",
    "    swap_prod = d4.mult(*swap)\n",
    "    print(swap, swap_prod)\n",
    "print(all_pairs)"
   ]
  },
  {
   "cell_type": "code",
   "execution_count": null,
   "id": "7248f2bb",
   "metadata": {},
   "outputs": [],
   "source": []
  }
 ],
 "metadata": {
  "kernelspec": {
   "display_name": "Python 3",
   "language": "python",
   "name": "python3"
  },
  "language_info": {
   "codemirror_mode": {
    "name": "ipython",
    "version": 3
   },
   "file_extension": ".py",
   "mimetype": "text/x-python",
   "name": "python",
   "nbconvert_exporter": "python",
   "pygments_lexer": "ipython3",
   "version": "3.7.7"
  }
 },
 "nbformat": 4,
 "nbformat_minor": 5
}
