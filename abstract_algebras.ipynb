{
 "cells": [
  {
   "cell_type": "markdown",
   "id": "53a1b7f8",
   "metadata": {},
   "source": [
    "# Abstract Algebras"
   ]
  },
  {
   "cell_type": "markdown",
   "id": "ef42d8ec",
   "metadata": {},
   "source": [
    "## References"
   ]
  },
  {
   "cell_type": "markdown",
   "id": "e7f17df9",
   "metadata": {},
   "source": [
    "* [Group Explorer](https://nathancarter.github.io/group-explorer/index.html) -- Visualization software for the abstract algebra classroom\n",
    "* [Groupprops, The Group Properties Wiki (beta)](https://groupprops.subwiki.org/wiki/Main_Page)\n",
    "* [Klein four-group, V4](https://en.wikipedia.org/wiki/Klein_four-group)\n",
    "* [Cyclic group](https://en.wikipedia.org/wiki/Cyclic_group)"
   ]
  },
  {
   "cell_type": "markdown",
   "id": "8b6557db",
   "metadata": {},
   "source": [
    "## Algebra Definition"
   ]
  },
  {
   "cell_type": "code",
   "execution_count": 94,
   "id": "74562426",
   "metadata": {},
   "outputs": [],
   "source": [
    "def swap_list_items(lst, item1, item2):\n",
    "    a, b = lst.index(item1), lst.index(item2)\n",
    "    lst[b], lst[a] = lst[a], lst[b]\n",
    "    return None\n",
    "\n",
    "class Algebra:\n",
    "    '''An abstract algebra with a finite number of elements and a multiplication table.'''\n",
    "    \n",
    "    def __init__(self, name, description, element_names, mult_table):\n",
    "        self.name = name\n",
    "        self.desc = description\n",
    "        self.elements = element_names\n",
    "        self.table = mult_table\n",
    "        # For efficiency, calculate the headers up front\n",
    "        self.col_header = self.table[0]\n",
    "        self.row_header = [row[0] for row in self.table]\n",
    "        \n",
    "    def __str__(self):\n",
    "        return f\"<{self.__class__.__name__}: {self.name}, {self.desc}>\"\n",
    "    \n",
    "    def __repr__(self):\n",
    "        return f\"{self.__class__.__name__}('{self.name}', '{self.desc}', {self.elements}, {self.table})\"\n",
    "    \n",
    "    def mult_table_with_names(self):\n",
    "        return [[self.elements[x] for x in row] for row in self.table]\n",
    "        \n",
    "    def mult(self, r, c):\n",
    "        '''Return the product of elements, r & c.\n",
    "        The inputs, r & c, can be numbers or strings, but if either\n",
    "        input is a number, then a number will be returned, otherwise\n",
    "        the product's element name (a string) will be returned.'''\n",
    "\n",
    "        # Table lookup requires numbers\n",
    "        r_ = r; c_ = c\n",
    "        str_result = False\n",
    "        if type(r) == str:\n",
    "            r_ = self.elements.index(r)\n",
    "            str_result = True\n",
    "        if type(c) == str:\n",
    "            c_ = self.elements.index(c)\n",
    "            str_result = True\n",
    "        \n",
    "        # Lookup the product based on the row & column indices\n",
    "        row_index = self.row_header.index(r_)\n",
    "        col_index = self.col_header.index(c_)\n",
    "        product = self.table[row_index][col_index]\n",
    "        \n",
    "        # If either input value was a string, then return a string,\n",
    "        # otherwise return a number\n",
    "        if str_result:\n",
    "            return self.elements[product]\n",
    "        else:\n",
    "            return product\n",
    "    \n",
    "    def switch(self, elem1, elem2):\n",
    "        lst = self.elements\n",
    "        a, b = lst.index(elem1), lst.index(elem2)\n",
    "        lst[b], lst[a] = lst[a], lst[b]\n",
    "        tbl = self.table\n",
    "        tbl[b], tbl[a] = tbl[a], tbl[b]\n",
    "        return None\n",
    "    \n",
    "    def elements(self):\n",
    "        return self.table[0]"
   ]
  },
  {
   "cell_type": "markdown",
   "id": "43261cd3",
   "metadata": {},
   "source": [
    "## Group Definition"
   ]
  },
  {
   "cell_type": "code",
   "execution_count": 95,
   "id": "ac3a3f5b",
   "metadata": {},
   "outputs": [],
   "source": [
    "class Group(Algebra):\n",
    "    pass"
   ]
  },
  {
   "cell_type": "markdown",
   "id": "8b9a1e46",
   "metadata": {},
   "source": [
    "### Klein four-group, V4"
   ]
  },
  {
   "cell_type": "code",
   "execution_count": 96,
   "id": "0a207f75",
   "metadata": {},
   "outputs": [],
   "source": [
    "v4 = Group('V4',\n",
    "           'Klein four-group',\n",
    "           ['e',  'h',  'v', ' hv'],\n",
    "           [[0, 1, 2, 3],\n",
    "            [1, 0, 3, 2],\n",
    "            [2, 3, 0, 1],\n",
    "            [3, 2, 1, 0]]\n",
    "          )"
   ]
  },
  {
   "cell_type": "code",
   "execution_count": 97,
   "id": "362906df",
   "metadata": {},
   "outputs": [
    {
     "data": {
      "text/plain": [
       "[['e', 'h', 'v', ' hv'],\n",
       " ['h', 'e', ' hv', 'v'],\n",
       " ['v', ' hv', 'e', 'h'],\n",
       " [' hv', 'v', 'h', 'e']]"
      ]
     },
     "execution_count": 97,
     "metadata": {},
     "output_type": "execute_result"
    }
   ],
   "source": [
    "v4.mult_table_with_names()"
   ]
  },
  {
   "cell_type": "code",
   "execution_count": 98,
   "id": "ad28ecf5",
   "metadata": {},
   "outputs": [
    {
     "data": {
      "text/plain": [
       "' hv'"
      ]
     },
     "execution_count": 98,
     "metadata": {},
     "output_type": "execute_result"
    }
   ],
   "source": [
    "v4.mult('h','v')"
   ]
  },
  {
   "cell_type": "code",
   "execution_count": 99,
   "id": "4ff36203",
   "metadata": {},
   "outputs": [
    {
     "name": "stdout",
     "output_type": "stream",
     "text": [
      "<Group: V4, Klein four-group>\n"
     ]
    }
   ],
   "source": [
    "print(v4)"
   ]
  },
  {
   "cell_type": "markdown",
   "id": "c2f3c55d",
   "metadata": {},
   "source": [
    "### Cyclic group of order 4"
   ]
  },
  {
   "cell_type": "code",
   "execution_count": 100,
   "id": "f7f003de",
   "metadata": {},
   "outputs": [],
   "source": [
    "z4 = Group('Z4',\n",
    "           'Cyclic group of order 4',\n",
    "           ['e', 'a', 'a^2', 'a^3'],\n",
    "           [[0, 1, 2, 3],\n",
    "            [1, 2, 3, 0],\n",
    "            [2, 3, 0, 1],\n",
    "            [3, 0, 1, 2]]\n",
    "          )"
   ]
  },
  {
   "cell_type": "code",
   "execution_count": 101,
   "id": "aaa65fe0",
   "metadata": {},
   "outputs": [
    {
     "data": {
      "text/plain": [
       "[['e', 'a', 'a^2', 'a^3'],\n",
       " ['a', 'a^2', 'a^3', 'e'],\n",
       " ['a^2', 'a^3', 'e', 'a'],\n",
       " ['a^3', 'e', 'a', 'a^2']]"
      ]
     },
     "execution_count": 101,
     "metadata": {},
     "output_type": "execute_result"
    }
   ],
   "source": [
    "z4.mult_table_with_names()"
   ]
  },
  {
   "cell_type": "code",
   "execution_count": 102,
   "id": "06f0a494",
   "metadata": {},
   "outputs": [
    {
     "name": "stdout",
     "output_type": "stream",
     "text": [
      "<Group: Z4, Cyclic group of order 4>\n"
     ]
    }
   ],
   "source": [
    "print(z4)"
   ]
  },
  {
   "cell_type": "code",
   "execution_count": 103,
   "id": "41b128a9",
   "metadata": {},
   "outputs": [
    {
     "data": {
      "text/plain": [
       "0"
      ]
     },
     "execution_count": 103,
     "metadata": {},
     "output_type": "execute_result"
    }
   ],
   "source": [
    "z4.mult(2,2)"
   ]
  },
  {
   "cell_type": "code",
   "execution_count": 104,
   "id": "74563ed2",
   "metadata": {},
   "outputs": [
    {
     "data": {
      "text/plain": [
       "'e'"
      ]
     },
     "execution_count": 104,
     "metadata": {},
     "output_type": "execute_result"
    }
   ],
   "source": [
    "z4.mult('a^2', 'a^2')"
   ]
  },
  {
   "cell_type": "markdown",
   "id": "a0fb874b",
   "metadata": {},
   "source": [
    "### Symmetric group on 3 letters"
   ]
  },
  {
   "cell_type": "code",
   "execution_count": 105,
   "id": "ff284409",
   "metadata": {},
   "outputs": [],
   "source": [
    "s3 = Group('S3',\n",
    "           'Symmetric group on 3 letters',\n",
    "           ['e', 'r', 'r^2', 'f', 'fr', 'rf'],\n",
    "           [[0, 1, 2, 3, 4, 5],\n",
    "            [1, 2, 0, 5, 3, 4],\n",
    "            [2, 0, 1, 4, 5, 3],\n",
    "            [3, 4, 5, 0, 1, 2],\n",
    "            [4, 5, 3, 2, 0, 1],\n",
    "            [5, 3, 4, 1, 2, 0]]\n",
    "          )"
   ]
  },
  {
   "cell_type": "code",
   "execution_count": 106,
   "id": "35dba5d6",
   "metadata": {},
   "outputs": [
    {
     "data": {
      "text/plain": [
       "[['e', 'r', 'r^2', 'f', 'fr', 'rf'],\n",
       " ['r', 'r^2', 'e', 'rf', 'f', 'fr'],\n",
       " ['r^2', 'e', 'r', 'fr', 'rf', 'f'],\n",
       " ['f', 'fr', 'rf', 'e', 'r', 'r^2'],\n",
       " ['fr', 'rf', 'f', 'r^2', 'e', 'r'],\n",
       " ['rf', 'f', 'fr', 'r', 'r^2', 'e']]"
      ]
     },
     "execution_count": 106,
     "metadata": {},
     "output_type": "execute_result"
    }
   ],
   "source": [
    "s3.mult_table_with_names()"
   ]
  },
  {
   "cell_type": "code",
   "execution_count": 107,
   "id": "6f592a84",
   "metadata": {},
   "outputs": [
    {
     "name": "stdout",
     "output_type": "stream",
     "text": [
      "<Group: S3, Symmetric group on 3 letters>\n"
     ]
    }
   ],
   "source": [
    "print(s3)"
   ]
  },
  {
   "cell_type": "code",
   "execution_count": 108,
   "id": "8699ecbc",
   "metadata": {},
   "outputs": [
    {
     "data": {
      "text/plain": [
       "'f'"
      ]
     },
     "execution_count": 108,
     "metadata": {},
     "output_type": "execute_result"
    }
   ],
   "source": [
    "s3.mult('fr', 'r^2')"
   ]
  },
  {
   "cell_type": "code",
   "execution_count": 109,
   "id": "0d2f055a",
   "metadata": {},
   "outputs": [
    {
     "data": {
      "text/plain": [
       "Group('S3', 'Symmetric group on 3 letters', ['e', 'r', 'r^2', 'f', 'fr', 'rf'], [[0, 1, 2, 3, 4, 5], [1, 2, 0, 5, 3, 4], [2, 0, 1, 4, 5, 3], [3, 4, 5, 0, 1, 2], [4, 5, 3, 2, 0, 1], [5, 3, 4, 1, 2, 0]])"
      ]
     },
     "execution_count": 109,
     "metadata": {},
     "output_type": "execute_result"
    }
   ],
   "source": [
    "s3"
   ]
  },
  {
   "cell_type": "code",
   "execution_count": 120,
   "id": "b2f2818b",
   "metadata": {},
   "outputs": [],
   "source": [
    "# This is also a version of the S3 group as specified at the Groupprops wiki (see reference, above).\n",
    "\n",
    "s3x = Group('S3X',\n",
    "           'Another version of the symmetric group on 3 letters',\n",
    "           ['()', '(1,2)', '(2,3)', '(1,3)', '(1,2,3)', '(1,3,2)'],\n",
    "           [[0, 1, 2, 3, 4, 5],\n",
    "            [1, 0, 4, 5, 2, 3],\n",
    "            [2, 5, 0, 4, 3, 1],\n",
    "            [3, 4, 5, 0, 1, 2],\n",
    "            [4, 3, 1, 2, 5, 0],\n",
    "            [5, 2, 3, 1, 0, 4]]\n",
    "          )"
   ]
  },
  {
   "cell_type": "code",
   "execution_count": 121,
   "id": "ae1dbdae",
   "metadata": {},
   "outputs": [
    {
     "data": {
      "text/plain": [
       "[['()', '(1,2)', '(2,3)', '(1,3)', '(1,2,3)', '(1,3,2)'],\n",
       " ['(1,2)', '()', '(1,2,3)', '(1,3,2)', '(2,3)', '(1,3)'],\n",
       " ['(2,3)', '(1,3,2)', '()', '(1,2,3)', '(1,3)', '(1,2)'],\n",
       " ['(1,3)', '(1,2,3)', '(1,3,2)', '()', '(1,2)', '(2,3)'],\n",
       " ['(1,2,3)', '(1,3)', '(1,2)', '(2,3)', '(1,3,2)', '()'],\n",
       " ['(1,3,2)', '(2,3)', '(1,3)', '(1,2)', '()', '(1,2,3)']]"
      ]
     },
     "execution_count": 121,
     "metadata": {},
     "output_type": "execute_result"
    }
   ],
   "source": [
    "s3x.mult_table_with_names()"
   ]
  },
  {
   "cell_type": "code",
   "execution_count": 122,
   "id": "4f83edad",
   "metadata": {},
   "outputs": [
    {
     "data": {
      "text/plain": [
       "['()', '(1,2)', '(2,3)', '(1,3)', '(1,2,3)', '(1,3,2)']"
      ]
     },
     "execution_count": 122,
     "metadata": {},
     "output_type": "execute_result"
    }
   ],
   "source": [
    "s3x.elements"
   ]
  },
  {
   "cell_type": "code",
   "execution_count": null,
   "id": "2e8a509a",
   "metadata": {},
   "outputs": [],
   "source": []
  },
  {
   "cell_type": "code",
   "execution_count": 123,
   "id": "de246cb5",
   "metadata": {},
   "outputs": [],
   "source": [
    "s3x.switch('(1,2,3)', '(1,3,2)')"
   ]
  },
  {
   "cell_type": "code",
   "execution_count": 124,
   "id": "965f3143",
   "metadata": {},
   "outputs": [
    {
     "data": {
      "text/plain": [
       "['()', '(1,2)', '(2,3)', '(1,3)', '(1,3,2)', '(1,2,3)']"
      ]
     },
     "execution_count": 124,
     "metadata": {},
     "output_type": "execute_result"
    }
   ],
   "source": [
    "s3x.elements"
   ]
  },
  {
   "cell_type": "code",
   "execution_count": 125,
   "id": "d7a21394",
   "metadata": {},
   "outputs": [
    {
     "data": {
      "text/plain": [
       "[['()', '(1,2)', '(2,3)', '(1,3)', '(1,3,2)', '(1,2,3)'],\n",
       " ['(1,2)', '()', '(1,3,2)', '(1,2,3)', '(2,3)', '(1,3)'],\n",
       " ['(2,3)', '(1,2,3)', '()', '(1,3,2)', '(1,3)', '(1,2)'],\n",
       " ['(1,3)', '(1,3,2)', '(1,2,3)', '()', '(1,2)', '(2,3)'],\n",
       " ['(1,2,3)', '(2,3)', '(1,3)', '(1,2)', '()', '(1,3,2)'],\n",
       " ['(1,3,2)', '(1,3)', '(1,2)', '(2,3)', '(1,2,3)', '()']]"
      ]
     },
     "execution_count": 125,
     "metadata": {},
     "output_type": "execute_result"
    }
   ],
   "source": [
    "s3x.mult_table_with_names()"
   ]
  },
  {
   "cell_type": "code",
   "execution_count": null,
   "id": "e21a5304",
   "metadata": {},
   "outputs": [],
   "source": []
  }
 ],
 "metadata": {
  "kernelspec": {
   "display_name": "Python 3",
   "language": "python",
   "name": "python3"
  },
  "language_info": {
   "codemirror_mode": {
    "name": "ipython",
    "version": 3
   },
   "file_extension": ".py",
   "mimetype": "text/x-python",
   "name": "python",
   "nbconvert_exporter": "python",
   "pygments_lexer": "ipython3",
   "version": "3.7.7"
  }
 },
 "nbformat": 4,
 "nbformat_minor": 5
}
