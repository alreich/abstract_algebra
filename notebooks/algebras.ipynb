{
 "cells": [
  {
   "cell_type": "markdown",
   "id": "cecb6412",
   "metadata": {},
   "source": [
    "# Algebras"
   ]
  },
  {
   "cell_type": "markdown",
   "id": "46c2084c",
   "metadata": {},
   "source": [
    "Version 1"
   ]
  },
  {
   "cell_type": "markdown",
   "id": "0f861296",
   "metadata": {},
   "source": [
    "## Table of Contents<a class=\"anchor\" id=\"toc\"></a>"
   ]
  },
  {
   "cell_type": "markdown",
   "id": "0c310d35",
   "metadata": {},
   "source": [
    "* [Cayley Table](#cayley_table)\n",
    "  * [Testing Cayley Tables](#testing_cayley_tables)\n",
    "* [Perm Class (Permutation)](#perm)\n",
    "* [Algebras](#algebras)\n",
    "  * [Magma Class](#magma)\n",
    "  * [Semigroup Class](#semigroup)\n",
    "  * [Monoid Class](#monoid)\n",
    "  * [Group Class](#group)\n",
    "* [Testing Algebras](#testing_algebras)\n",
    "  * [Testing Magmas](#testing_magmas)\n",
    "  * [Testing Semigroups](#testing_semigroups)\n",
    "  * [Testing Monoids](#testing_monoids)\n",
    "  * [Testing Groups](#testing_groups)\n",
    "  * [Testing Rings](#testing_rings)\n",
    "  * [Testing_Fields](#testing_fields)"
   ]
  },
  {
   "cell_type": "markdown",
   "id": "bcce4290",
   "metadata": {},
   "source": [
    "# Cayley Table<a class=\"anchor\" id=\"cayley_table\"></a>"
   ]
  },
  {
   "cell_type": "code",
   "execution_count": 1,
   "id": "817033d8",
   "metadata": {},
   "outputs": [],
   "source": [
    "import numpy as np\n",
    "import pprint as pp"
   ]
  },
  {
   "cell_type": "code",
   "execution_count": 2,
   "id": "b46f522d",
   "metadata": {},
   "outputs": [],
   "source": [
    "class CayleyTable:\n",
    "\n",
    "    def __init__(self, arr):\n",
    "        tmp = np.array(arr, dtype=int)\n",
    "        nrows, ncols = tmp.shape\n",
    "        if nrows == ncols:\n",
    "            if (tmp.min() >= 0) and (tmp.max() < nrows):\n",
    "                self.__order = nrows\n",
    "                self.__table = tmp\n",
    "            else:\n",
    "                raise Exception(f\"All integers must be between 0 and {nrows - 1}, inclusive.\")\n",
    "        else:\n",
    "            raise Exception(f\"Input arrays must be square; this one is {nrows}x{ncols}.\")\n",
    "\n",
    "    def __repr__(self):\n",
    "        return f\"{self.__class__.__name__}(\\n{pp.pformat(self.__table.tolist())}\\n)\"\n",
    "\n",
    "    def __str__(self):\n",
    "        return f\"{self.__class__.__name__}({self.__table.tolist()})\"\n",
    "\n",
    "    def __getitem__(self, tup):\n",
    "        row, col = tup\n",
    "        return self.__table[row][col]\n",
    "\n",
    "    @property\n",
    "    def order(self):\n",
    "        return self.__order\n",
    "\n",
    "    @property\n",
    "    def table(self):\n",
    "        return self.__table\n",
    "\n",
    "    def tolist(self):\n",
    "        return self.__table.tolist()\n",
    "\n",
    "    def is_associative(self):\n",
    "        indices = range(len(self.__table))\n",
    "        result = True\n",
    "        for a in indices:\n",
    "            for b in indices:\n",
    "                for c in indices:\n",
    "                    ab = self.__table[a][b]\n",
    "                    bc = self.__table[b][c]\n",
    "                    if not (self.__table[ab][c] == self.__table[a][bc]):\n",
    "                        result = False\n",
    "                        break\n",
    "        return result\n",
    "\n",
    "    def is_commutative(self):\n",
    "        n = self.__table.shape[0]\n",
    "        result = True\n",
    "        # Loop over the table's upper off-diagonal elements\n",
    "        for a in range(n):\n",
    "            for b in range(a + 1, n):\n",
    "                if self.__table[a][b] != self.__table[b][a]:\n",
    "                    result = False\n",
    "                    break\n",
    "        return result\n",
    "\n",
    "    def left_identity(self):\n",
    "        indices = range(len(self.__table))\n",
    "        identity = None\n",
    "        for x in indices:\n",
    "            if all(self.__table[x][y] == y for y in indices):\n",
    "                identity = x\n",
    "                break\n",
    "        return identity\n",
    "\n",
    "    def right_identity(self):\n",
    "        indices = range(len(self.__table))\n",
    "        identity = None\n",
    "        for x in indices:\n",
    "            if all(self.__table[y][x] == y for y in indices):\n",
    "                identity = x\n",
    "                break\n",
    "        return identity\n",
    "\n",
    "    def identity(self):\n",
    "        left_id = self.left_identity()\n",
    "        right_id = self.right_identity()\n",
    "        if (left_id is not None) and (right_id is not None):\n",
    "            return left_id\n",
    "        else:\n",
    "            return None\n",
    "\n",
    "    def has_inverses(self):\n",
    "        if self.identity:\n",
    "            row_indices, col_indices = np.where(self.__table == self.identity())\n",
    "            if set(row_indices) == set(col_indices):\n",
    "                if len(row_indices) == self.__order:\n",
    "                    return True\n",
    "                else:\n",
    "                    return False\n",
    "            else:\n",
    "                return False\n",
    "        else:\n",
    "            return False\n",
    "\n",
    "    def inverse_lookup_dict(self, identity):\n",
    "        elements = range(len(self.__table))\n",
    "        row_indices, col_indices = np.where(self.__table == identity)\n",
    "        return {elements[elem_index]: elements[elem_inv_index]\n",
    "                for (elem_index, elem_inv_index)\n",
    "                in zip(row_indices, col_indices)}\n",
    "\n",
    "    def about(self):\n",
    "        table_order = str(self.order)\n",
    "        is_associative = str(self.is_associative())\n",
    "        is_commutative = str(self.is_commutative())\n",
    "        left_id = str(self.left_identity())\n",
    "        right_id = str(self.right_identity())\n",
    "        id = str(self.identity())\n",
    "        has_inverses = str(self.has_inverses())\n",
    "        return table_order, is_associative, is_commutative, left_id, right_id, id, has_inverses"
   ]
  },
  {
   "cell_type": "code",
   "execution_count": 3,
   "id": "b512a2c3",
   "metadata": {},
   "outputs": [],
   "source": [
    "def about_tables(list_of_cayley_tables):\n",
    "    print(\"   Table  Order  Associative?  Commutative?  Left Id?  Right Id?  Identity?  Inverses?\")\n",
    "    print('-' * 85)\n",
    "    for tbl in list_of_cayley_tables:\n",
    "        i = list_of_cayley_tables.index(tbl) + 1\n",
    "        n, assoc, comm, lid, rid, id, invs = tbl.about()\n",
    "        print(f\"{i :>{6}} {n :>{6}} {assoc :>{11}} {comm :>{12}} {lid :>{12}} {rid :>{9}} {id :>{10}} {invs :>{10}}\")"
   ]
  },
  {
   "cell_type": "markdown",
   "id": "12dd5cea",
   "metadata": {},
   "source": [
    "[*back to Table of Contents*](#toc)"
   ]
  },
  {
   "cell_type": "markdown",
   "id": "4de42c6f",
   "metadata": {},
   "source": [
    "### Testing Cayley Tables<a class=\"anchor\" id=\"testing_cayley_tables\"></a>"
   ]
  },
  {
   "cell_type": "code",
   "execution_count": 4,
   "id": "0d5c6ef7",
   "metadata": {},
   "outputs": [
    {
     "name": "stdout",
     "output_type": "stream",
     "text": [
      "   Table  Order  Associative?  Commutative?  Left Id?  Right Id?  Identity?  Inverses?\n",
      "-------------------------------------------------------------------------------------\n",
      "     1      3       False         True         None      None       None      False\n",
      "     2      6        True        False            0         0          0       True\n",
      "     3      4        True         True            0         0          0       True\n",
      "     4      8        True         True            0         0          0       True\n",
      "     5      6        True        False         None         0       None      False\n"
     ]
    }
   ],
   "source": [
    "# not assoc; is comm; no identities -- the RPS magma table, above\n",
    "arr1 = [[0, 1, 0], [1, 1, 2], [0, 2, 2]]\n",
    "\n",
    "# is assoc; not comm; has identity (0) --- the S3 group table\n",
    "arr2 = [[0, 1, 2, 3, 4, 5], [1, 2, 0, 5, 3, 4], [2, 0, 1, 4, 5, 3],\n",
    "        [3, 4, 5, 0, 1, 2], [4, 5, 3, 2, 0, 1], [5, 3, 4, 1, 2, 0]]\n",
    "\n",
    "# is assoc; is comm; has identity (0) --- the Z4 group table\n",
    "arr3 = [[0, 1, 2, 3], [1, 2, 3, 0], [2, 3, 0, 1], [3, 0, 1, 2]]\n",
    "\n",
    "# is assoc; is comm; has identity (0) --- powerset(3) group table\n",
    "arr4 = [[0, 1, 2, 3, 4, 5, 6, 7], [1, 0, 4, 5, 2, 3, 7, 6], [2, 4, 0, 6, 1, 7, 3, 5],\n",
    "        [3, 5, 6, 0, 7, 1, 2, 4], [4, 2, 1, 7, 0, 6, 5, 3], [5, 3, 7, 1, 6, 0, 4, 2],\n",
    "        [6, 7, 3, 2, 5, 4, 0, 1], [7, 6, 5, 4, 3, 2, 1, 0]]\n",
    "\n",
    "arr5 = [[0, 3, 0, 3, 0, 3], [1, 4, 1, 4, 1, 4], [2, 5, 2, 5, 2, 5],\n",
    "        [3, 0, 3, 0, 3, 0], [4, 1, 4, 1, 4, 1], [5, 2, 5, 2, 5, 2]]\n",
    "\n",
    "# is assoc; is not comm; no left id; has right id --- Smarandache Groupoid\n",
    "test_arrays = [arr1, arr2, arr3, arr4, arr5]\n",
    "test_cayley_tables = [CayleyTable(arr) for arr in test_arrays]\n",
    "\n",
    "about_tables(test_cayley_tables)"
   ]
  },
  {
   "cell_type": "code",
   "execution_count": 5,
   "id": "a962a54e",
   "metadata": {},
   "outputs": [
    {
     "data": {
      "text/plain": [
       "CayleyTable(\n",
       "[[0, 3, 0, 3, 0, 3],\n",
       " [1, 4, 1, 4, 1, 4],\n",
       " [2, 5, 2, 5, 2, 5],\n",
       " [3, 0, 3, 0, 3, 0],\n",
       " [4, 1, 4, 1, 4, 1],\n",
       " [5, 2, 5, 2, 5, 2]]\n",
       ")"
      ]
     },
     "execution_count": 5,
     "metadata": {},
     "output_type": "execute_result"
    }
   ],
   "source": [
    "ct1 = CayleyTable(arr5)\n",
    "ct1"
   ]
  },
  {
   "cell_type": "code",
   "execution_count": 6,
   "id": "20e1edf8",
   "metadata": {},
   "outputs": [
    {
     "data": {
      "text/plain": [
       "[[0, 3, 0, 3, 0, 3],\n",
       " [1, 4, 1, 4, 1, 4],\n",
       " [2, 5, 2, 5, 2, 5],\n",
       " [3, 0, 3, 0, 3, 0],\n",
       " [4, 1, 4, 1, 4, 1],\n",
       " [5, 2, 5, 2, 5, 2]]"
      ]
     },
     "execution_count": 6,
     "metadata": {},
     "output_type": "execute_result"
    }
   ],
   "source": [
    "ct1.tolist()"
   ]
  },
  {
   "cell_type": "code",
   "execution_count": 7,
   "id": "7ef2edfa",
   "metadata": {},
   "outputs": [
    {
     "data": {
      "text/plain": [
       "'CayleyTable([[0, 3, 0, 3, 0, 3], [1, 4, 1, 4, 1, 4], [2, 5, 2, 5, 2, 5], [3, 0, 3, 0, 3, 0], [4, 1, 4, 1, 4, 1], [5, 2, 5, 2, 5, 2]])'"
      ]
     },
     "execution_count": 7,
     "metadata": {},
     "output_type": "execute_result"
    }
   ],
   "source": [
    "str(ct1)"
   ]
  },
  {
   "cell_type": "markdown",
   "id": "50754380",
   "metadata": {},
   "source": [
    "[*back to Table of Contents*](#toc)"
   ]
  },
  {
   "cell_type": "markdown",
   "id": "09c7eb28",
   "metadata": {},
   "source": [
    "## Perm Class (Permutation)<a class=\"anchor\" id=\"perm\"></a>"
   ]
  },
  {
   "cell_type": "code",
   "execution_count": 8,
   "id": "f439cb66",
   "metadata": {},
   "outputs": [],
   "source": [
    "class Perm:  # Permutation\n",
    "\n",
    "    def __init__(self, permutation):\n",
    "        self.perm = permutation\n",
    "        self.base = min(self.perm)  # lowest value in perm\n",
    "        self.size = len(self.perm) + self.base\n",
    "        #\n",
    "        # MAPPING: A mapping of the consecutive integers, starting at the base value,\n",
    "        # to the integers in the permutation.\n",
    "        #   Examples:\n",
    "        #     0-based mapping: (0, 1, 2, 3) ==> {0: 0, 1: 1, 2: 2, 3: 3}\n",
    "        #     1-based mapping: (3,1,2) ==> {1: 3, 2: 1, 3: 2}\n",
    "        self.mapping = {i: self.perm[i - self.base] for i in range(self.base, self.size)}\n",
    "\n",
    "    def __eq__(self, other):\n",
    "        \"\"\"Return True if the other's enclosee permutation (`tuple`) is the same as this one's.\"\"\"\n",
    "        return self.perm == other.perm\n",
    "\n",
    "    def __hash__(self):\n",
    "        \"\"\"Use the enclosed permutation `tuple` for hashing this object\"\"\"\n",
    "        return hash(self.perm)\n",
    "\n",
    "    def __repr__(self):\n",
    "        \"\"\"A readable print representation of this permutation.\"\"\"\n",
    "        return f'Perm({self.perm})'\n",
    "\n",
    "    def __len__(self):\n",
    "        \"\"\"Return the number of elements in the permutation.\"\"\"\n",
    "        return len(self.perm)\n",
    "\n",
    "    def __mul__(self, other):\n",
    "        \"\"\"Compose this permutation with another, that is, self(other(id)),\n",
    "        where *id* is the identity permutation, (0,1,...,n-1) or (1,2,...,n).\n",
    "        Both permutations must use the same base and be of the same size,\n",
    "        otherwise an exception will be raised.\"\"\"\n",
    "        if self.base == other.base:\n",
    "            if len(self) == len(other):\n",
    "                return Perm(tuple([self.mapping[other.mapping[i]] for i in range(self.base, self.size)]))\n",
    "            else:\n",
    "                raise Exception(f\"Mixed lengths: {len(self)} != {len(other)}\")\n",
    "        else:\n",
    "            raise Exception(f\"Mixed bases: {self.base} != {other.base}\")"
   ]
  },
  {
   "cell_type": "markdown",
   "id": "27446dc2",
   "metadata": {},
   "source": [
    "[*back to Table of Contents*](#toc)"
   ]
  },
  {
   "cell_type": "markdown",
   "id": "b98b5b94",
   "metadata": {},
   "source": [
    "# Algebras<a class=\"anchor\" id=\"algebras\"></a>"
   ]
  },
  {
   "cell_type": "code",
   "execution_count": 9,
   "id": "cedbf525",
   "metadata": {},
   "outputs": [],
   "source": [
    "import functools as fnc"
   ]
  },
  {
   "cell_type": "markdown",
   "id": "6d64a303",
   "metadata": {},
   "source": [
    "#### A useful pattern"
   ]
  },
  {
   "cell_type": "code",
   "execution_count": 10,
   "id": "026827a3",
   "metadata": {},
   "outputs": [],
   "source": [
    "def get_cached_value(cached_value, accessor):\n",
    "    if cached_value is None:\n",
    "        cached_value = accessor()\n",
    "    return cached_value"
   ]
  },
  {
   "cell_type": "markdown",
   "id": "b4dcda27",
   "metadata": {},
   "source": [
    "[*back to Table of Contents*](#toc)"
   ]
  },
  {
   "cell_type": "markdown",
   "id": "bb07fe0c",
   "metadata": {},
   "source": [
    "## Magma Class<a class=\"anchor\" id=\"magma\"></a>"
   ]
  },
  {
   "cell_type": "code",
   "execution_count": 11,
   "id": "af4bdc0a",
   "metadata": {},
   "outputs": [],
   "source": [
    "class Magma:\n",
    "    \n",
    "    def __init__(self, elems, tbl):\n",
    "        self.__elements = elems\n",
    "        self.__table = CayleyTable(tbl)\n",
    "        self.__is_associative = None\n",
    "        self.__is_commutative = None\n",
    "        self.__has_identity = None\n",
    "        self.__identity = None\n",
    "\n",
    "    def __contains__(self, element):\n",
    "        return element in self.__elements\n",
    "\n",
    "    def __getitem__(self, index):\n",
    "        return self.__elements[index]\n",
    "\n",
    "    def __repr__(self):\n",
    "        return f\"{self.__class__.__name__}(\\n{self.__elements},\\n{self.__table.tolist()}\\n)\"\n",
    "\n",
    "    def __str__(self):\n",
    "        return f\"{self.__class__.__name__}({self.__elements}, {self.__table.tolist()})\"\n",
    "\n",
    "    @property\n",
    "    def elements(self):\n",
    "        return self.__elements\n",
    "    \n",
    "    def set_elements(self, new_elements):\n",
    "        if isinstance(new_elements, list):\n",
    "            self.__elements = new_elements\n",
    "        elif isinstance(new_elements, dict):\n",
    "            self.__elements = [new_elements[elem] for elem in self.__elements]\n",
    "        return self\n",
    "    \n",
    "    @property\n",
    "    def table(self):\n",
    "        return self.__table\n",
    "\n",
    "    def op(self, *args):\n",
    "        if len(args) == 1:\n",
    "            if args[0] in self.__elements:\n",
    "                return args[0]\n",
    "            else:\n",
    "                raise ValueError(f\"{args[0]} is not a valid element name\")\n",
    "        elif len(args) == 2:\n",
    "            row = self.__elements.index(args[0])\n",
    "            col = self.__elements.index(args[1])\n",
    "            index = self.__table[row, col]\n",
    "            return self.__elements[index]\n",
    "        else:\n",
    "            return fnc.reduce(lambda a, b: self.op(a, b), args)\n",
    "    \n",
    "    def table_with_names(self):\n",
    "        return [[self.__elements[index] for index in row] for row in self.__table.tolist()]\n",
    "\n",
    "    def is_associative(self):\n",
    "        return get_cached_value(self.__is_associative, self.__table.is_associative)\n",
    "\n",
    "    def is_commutative(self):\n",
    "        return get_cached_value(self.__is_commutative, self.__table.is_commutative)\n",
    "\n",
    "    def identity(self):\n",
    "        pass"
   ]
  },
  {
   "cell_type": "markdown",
   "id": "9c975d09",
   "metadata": {},
   "source": [
    "[*jump to Testing Magmas*](#testing_magmas)"
   ]
  },
  {
   "cell_type": "markdown",
   "id": "09565ee8",
   "metadata": {},
   "source": [
    "[*back to Table of Contents*](#toc)"
   ]
  },
  {
   "cell_type": "markdown",
   "id": "c9a05279",
   "metadata": {},
   "source": [
    "## Semigroup Class<a class=\"anchor\" id=\"semigroup\"></a>"
   ]
  },
  {
   "cell_type": "code",
   "execution_count": 12,
   "id": "7ffbb136",
   "metadata": {},
   "outputs": [],
   "source": [
    "class Semigroup(Magma):\n",
    "\n",
    "    def __init__(self, elems, tbl):\n",
    "        super().__init__(elems, tbl)\n",
    "        if not self.table.is_associative():\n",
    "            raise ValueError(\"Table does not support associativity\")"
   ]
  },
  {
   "cell_type": "markdown",
   "id": "e1dfb6a7",
   "metadata": {},
   "source": [
    "[*jump to Testing Semigroups*](#testing_semigroups)"
   ]
  },
  {
   "cell_type": "markdown",
   "id": "23e63d6f",
   "metadata": {},
   "source": [
    "[*back to Table of Contents*](#toc)"
   ]
  },
  {
   "cell_type": "markdown",
   "id": "cc06d997",
   "metadata": {},
   "source": [
    "## Monoid Class<a class=\"anchor\" id=\"monoid\"></a>"
   ]
  },
  {
   "cell_type": "code",
   "execution_count": 13,
   "id": "f1b66612",
   "metadata": {},
   "outputs": [],
   "source": [
    "class Monoid(Semigroup):\n",
    "\n",
    "    def __init__(self, elems, tbl):\n",
    "        super().__init__(elems, tbl)\n",
    "        if not self.table.identity():\n",
    "            raise ValueError(\"Table has no identity element\")"
   ]
  },
  {
   "cell_type": "markdown",
   "id": "03944eb4",
   "metadata": {},
   "source": [
    "[*jump to Testing Monoids*](#testing_monoids)"
   ]
  },
  {
   "cell_type": "markdown",
   "id": "2eb403fb",
   "metadata": {},
   "source": [
    "[*back to Table of Contents*](#toc)"
   ]
  },
  {
   "cell_type": "markdown",
   "id": "6d4cc0ab",
   "metadata": {},
   "source": [
    "## Group Class<a class=\"anchor\" id=\"group\"></a>"
   ]
  },
  {
   "cell_type": "code",
   "execution_count": 14,
   "id": "d64d20d7",
   "metadata": {},
   "outputs": [],
   "source": [
    "class Group(Monoid):\n",
    "\n",
    "    def __init__(self, elems, tbl):\n",
    "        super().__init__(elems, tbl)\n",
    "        if not self.table.has_inverses():\n",
    "            raise ValueError(\"Table has insufficient inverses\")"
   ]
  },
  {
   "cell_type": "markdown",
   "id": "e1d4840e",
   "metadata": {},
   "source": [
    "[*jump to Testing Groups*](#testing_groups)"
   ]
  },
  {
   "cell_type": "markdown",
   "id": "51798b00",
   "metadata": {},
   "source": [
    "[*back to Table of Contents*](#toc)"
   ]
  },
  {
   "cell_type": "markdown",
   "id": "6ccd8f10",
   "metadata": {},
   "source": [
    "## Testing Algebras<a class=\"anchor\" id=\"testing_algebras\"></a>"
   ]
  },
  {
   "cell_type": "markdown",
   "id": "d6f4716e",
   "metadata": {},
   "source": [
    "### Testing Magmas<a class=\"anchor\" id=\"testing_magmas\"></a>"
   ]
  },
  {
   "cell_type": "markdown",
   "id": "db28e8bd",
   "metadata": {},
   "source": [
    "Rock-Paper-Scisors Magma"
   ]
  },
  {
   "cell_type": "markdown",
   "id": "fa24c0fd",
   "metadata": {},
   "source": [
    "From the rule in the second bullet, below, this magma is obviously commutative, but not associative.\n",
    "\n",
    "See https://en.wikipedia.org/wiki/Commutative_magma\n",
    "\n",
    "* $M = \\langle \\{r,p,s\\}, \\cdot \\rangle$\n",
    "* For all $x, y \\in M$, if $x$ *beats* $y$, then $x \\cdot y = y \\cdot x = x$\n",
    "* Also, for all $x \\in M$, $xx = x$"
   ]
  },
  {
   "cell_type": "code",
   "execution_count": 15,
   "id": "af527481",
   "metadata": {},
   "outputs": [
    {
     "data": {
      "text/plain": [
       "Magma(\n",
       "['r', 'p', 's'],\n",
       "[[0, 1, 0], [1, 1, 2], [0, 2, 2]]\n",
       ")"
      ]
     },
     "execution_count": 15,
     "metadata": {},
     "output_type": "execute_result"
    }
   ],
   "source": [
    "rps = Magma(['r', 'p', 's'], [[0, 1, 0], [1, 1, 2], [0, 2, 2]])\n",
    "rps"
   ]
  },
  {
   "cell_type": "code",
   "execution_count": 16,
   "id": "ee824c4b",
   "metadata": {},
   "outputs": [
    {
     "data": {
      "text/plain": [
       "False"
      ]
     },
     "execution_count": 16,
     "metadata": {},
     "output_type": "execute_result"
    }
   ],
   "source": [
    "rps.is_associative()"
   ]
  },
  {
   "cell_type": "code",
   "execution_count": 17,
   "id": "48226a9b",
   "metadata": {},
   "outputs": [
    {
     "data": {
      "text/plain": [
       "True"
      ]
     },
     "execution_count": 17,
     "metadata": {},
     "output_type": "execute_result"
    }
   ],
   "source": [
    "rps.is_commutative()"
   ]
  },
  {
   "cell_type": "code",
   "execution_count": 18,
   "id": "d624df98",
   "metadata": {},
   "outputs": [
    {
     "data": {
      "text/plain": [
       "\"Magma(['r', 'p', 's'], [[0, 1, 0], [1, 1, 2], [0, 2, 2]])\""
      ]
     },
     "execution_count": 18,
     "metadata": {},
     "output_type": "execute_result"
    }
   ],
   "source": [
    "str(rps)  # TODO: FIX THIS"
   ]
  },
  {
   "cell_type": "markdown",
   "id": "6641bf51",
   "metadata": {},
   "source": [
    "The following demonstrates that the rps magma is non-associative:"
   ]
  },
  {
   "cell_type": "code",
   "execution_count": 19,
   "id": "8afb4433",
   "metadata": {},
   "outputs": [
    {
     "name": "stdout",
     "output_type": "stream",
     "text": [
      "    r(ps) = rs = r, \n",
      "but (rp)s = ps = s\n"
     ]
    }
   ],
   "source": [
    "ps = rps.op('p', 's')\n",
    "rp = rps.op('r', 'p')\n",
    "\n",
    "r_ps = rps.op('r', ps)\n",
    "rp_s = rps.op(rp, 's')\n",
    "\n",
    "print(f\"    r(ps) = r{ps} = {r_ps}, \\nbut (rp)s = {rp}s = {rp_s}\")"
   ]
  },
  {
   "cell_type": "markdown",
   "id": "dbd9ba88",
   "metadata": {},
   "source": [
    "For other magma examples, [see this discussion](https://math.stackexchange.com/questions/779507/can-you-give-me-some-concrete-examples-of-magmas).  Also, [see this paper on groupiods](https://arxiv.org/ftp/math/papers/0304/0304490.pdf)."
   ]
  },
  {
   "cell_type": "markdown",
   "id": "ed1b046f",
   "metadata": {},
   "source": [
    "**Testing Magma Table and Element Accessors**"
   ]
  },
  {
   "cell_type": "code",
   "execution_count": 20,
   "id": "0f6e2e81",
   "metadata": {},
   "outputs": [
    {
     "data": {
      "text/plain": [
       "CayleyTable(\n",
       "[[0, 1, 0], [1, 1, 2], [0, 2, 2]]\n",
       ")"
      ]
     },
     "execution_count": 20,
     "metadata": {},
     "output_type": "execute_result"
    }
   ],
   "source": [
    "rps.table"
   ]
  },
  {
   "cell_type": "code",
   "execution_count": 21,
   "id": "3680c4d9",
   "metadata": {},
   "outputs": [
    {
     "data": {
      "text/plain": [
       "['r', 'p', 's']"
      ]
     },
     "execution_count": 21,
     "metadata": {},
     "output_type": "execute_result"
    }
   ],
   "source": [
    "rps.elements"
   ]
  },
  {
   "cell_type": "code",
   "execution_count": 22,
   "id": "2f059b9a",
   "metadata": {},
   "outputs": [
    {
     "data": {
      "text/plain": [
       "[['r', 'p', 'r'], ['p', 'p', 's'], ['r', 's', 's']]"
      ]
     },
     "execution_count": 22,
     "metadata": {},
     "output_type": "execute_result"
    }
   ],
   "source": [
    "rps.table_with_names()"
   ]
  },
  {
   "cell_type": "code",
   "execution_count": 23,
   "id": "6f85a9ba",
   "metadata": {},
   "outputs": [
    {
     "data": {
      "text/plain": [
       "('3', 'False', 'True', 'None', 'None', 'None', 'False')"
      ]
     },
     "execution_count": 23,
     "metadata": {},
     "output_type": "execute_result"
    }
   ],
   "source": [
    "rps.table.about()"
   ]
  },
  {
   "cell_type": "markdown",
   "id": "aa482169",
   "metadata": {},
   "source": [
    "**Testing Magma as an Iterator and Container of Elements**"
   ]
  },
  {
   "cell_type": "code",
   "execution_count": 24,
   "id": "3ec1454b",
   "metadata": {},
   "outputs": [
    {
     "data": {
      "text/plain": [
       "['r', 'p', 's']"
      ]
     },
     "execution_count": 24,
     "metadata": {},
     "output_type": "execute_result"
    }
   ],
   "source": [
    "[el for el in rps]"
   ]
  },
  {
   "cell_type": "code",
   "execution_count": 25,
   "id": "3c87cc2a",
   "metadata": {},
   "outputs": [
    {
     "data": {
      "text/plain": [
       "True"
      ]
     },
     "execution_count": 25,
     "metadata": {},
     "output_type": "execute_result"
    }
   ],
   "source": [
    "'r' in rps"
   ]
  },
  {
   "cell_type": "markdown",
   "id": "41e7f683",
   "metadata": {},
   "source": [
    "**Testing Replacing (\"Setting\") Magma Element Names**"
   ]
  },
  {
   "cell_type": "code",
   "execution_count": 26,
   "id": "0ac1aa6f",
   "metadata": {},
   "outputs": [
    {
     "data": {
      "text/plain": [
       "Magma(\n",
       "['rock', 'paper', 'scissors'],\n",
       "[[0, 1, 0], [1, 1, 2], [0, 2, 2]]\n",
       ")"
      ]
     },
     "execution_count": 26,
     "metadata": {},
     "output_type": "execute_result"
    }
   ],
   "source": [
    "full_names = ['rock', 'paper', 'scissors']\n",
    "rps.set_elements(full_names)"
   ]
  },
  {
   "cell_type": "code",
   "execution_count": 27,
   "id": "c5b504ab",
   "metadata": {},
   "outputs": [
    {
     "name": "stdout",
     "output_type": "stream",
     "text": [
      "{'rock': 'r', 'paper': 'p', 'scissors': 's'}\n"
     ]
    },
    {
     "data": {
      "text/plain": [
       "Magma(\n",
       "['r', 'p', 's'],\n",
       "[[0, 1, 0], [1, 1, 2], [0, 2, 2]]\n",
       ")"
      ]
     },
     "execution_count": 27,
     "metadata": {},
     "output_type": "execute_result"
    }
   ],
   "source": [
    "orig_elems = ['r', 'p', 's']\n",
    "mapping = dict(zip(rps.elements, orig_elems))\n",
    "print(mapping)\n",
    "rps.set_elements(orig_elems)"
   ]
  },
  {
   "cell_type": "markdown",
   "id": "1f5945ca",
   "metadata": {},
   "source": [
    "[*back to Table of Contents*](#toc)"
   ]
  },
  {
   "cell_type": "markdown",
   "id": "d43521c4",
   "metadata": {},
   "source": [
    "### Testing Semigroups<a class=\"anchor\" id=\"testing_semigroups\"></a>"
   ]
  },
  {
   "cell_type": "markdown",
   "id": "24902664",
   "metadata": {},
   "source": [
    "A semigroup is an associative magma."
   ]
  },
  {
   "cell_type": "code",
   "execution_count": 28,
   "id": "f944ad21",
   "metadata": {},
   "outputs": [
    {
     "data": {
      "text/plain": [
       "False"
      ]
     },
     "execution_count": 28,
     "metadata": {},
     "output_type": "execute_result"
    }
   ],
   "source": [
    "rps.is_associative()"
   ]
  },
  {
   "cell_type": "markdown",
   "id": "e41b8cbe",
   "metadata": {},
   "source": [
    "The Semigroup constructor will fail if the table does not support associativity:"
   ]
  },
  {
   "cell_type": "code",
   "execution_count": 29,
   "id": "2da9994b",
   "metadata": {},
   "outputs": [
    {
     "name": "stdout",
     "output_type": "stream",
     "text": [
      "Something went wrong\n"
     ]
    }
   ],
   "source": [
    "try:\n",
    "    Semigroup(['r', 'p', 's'], [[0, 1, 0], [1, 1, 2], [0, 2, 2]])\n",
    "except:\n",
    "    print(\"Something went wrong\")"
   ]
  },
  {
   "cell_type": "markdown",
   "id": "573860bd",
   "metadata": {},
   "source": [
    "Smarandache Semigroup"
   ]
  },
  {
   "cell_type": "markdown",
   "id": "560e33ad",
   "metadata": {},
   "source": [
    "This is Example 1.4.1 in the paper on groupoids referenced earlier.\n",
    "\n",
    "In that reference it is called a groupoid (AKA magma) but it is associative, so that makes it a semigroup."
   ]
  },
  {
   "cell_type": "code",
   "execution_count": 30,
   "id": "04ec9a3b",
   "metadata": {},
   "outputs": [],
   "source": [
    "ex141_tbl = [[0, 3, 0, 3, 0, 3], [1, 4, 1, 4, 1, 4], [2, 5, 2, 5, 2, 5],\n",
    "             [3, 0, 3, 0, 3, 0], [4, 1, 4, 1, 4, 1], [5, 2, 5, 2, 5, 2]]"
   ]
  },
  {
   "cell_type": "markdown",
   "id": "cdc766e6",
   "metadata": {},
   "source": [
    "We can make a magma out of the table."
   ]
  },
  {
   "cell_type": "code",
   "execution_count": 31,
   "id": "bc58dc63",
   "metadata": {},
   "outputs": [
    {
     "data": {
      "text/plain": [
       "Magma(\n",
       "['a', 'b', 'c', 'd', 'e', 'f'],\n",
       "[[0, 3, 0, 3, 0, 3], [1, 4, 1, 4, 1, 4], [2, 5, 2, 5, 2, 5], [3, 0, 3, 0, 3, 0], [4, 1, 4, 1, 4, 1], [5, 2, 5, 2, 5, 2]]\n",
       ")"
      ]
     },
     "execution_count": 31,
     "metadata": {},
     "output_type": "execute_result"
    }
   ],
   "source": [
    "ex141_magma = Magma(['a', 'b', 'c', 'd', 'e', 'f'], ex141_tbl)\n",
    "ex141_magma"
   ]
  },
  {
   "cell_type": "markdown",
   "id": "ac98cc38",
   "metadata": {},
   "source": [
    "But we can also make a semigroup out of this table, since it is associative."
   ]
  },
  {
   "cell_type": "code",
   "execution_count": 32,
   "id": "99c0abbf",
   "metadata": {},
   "outputs": [
    {
     "data": {
      "text/plain": [
       "Semigroup(\n",
       "['a', 'b', 'c', 'd', 'e', 'f'],\n",
       "[[0, 3, 0, 3, 0, 3], [1, 4, 1, 4, 1, 4], [2, 5, 2, 5, 2, 5], [3, 0, 3, 0, 3, 0], [4, 1, 4, 1, 4, 1], [5, 2, 5, 2, 5, 2]]\n",
       ")"
      ]
     },
     "execution_count": 32,
     "metadata": {},
     "output_type": "execute_result"
    }
   ],
   "source": [
    "ex141_sg = Semigroup(['a', 'b', 'c', 'd', 'e', 'f'], ex141_tbl)\n",
    "ex141_sg"
   ]
  },
  {
   "cell_type": "markdown",
   "id": "a4c8917b",
   "metadata": {},
   "source": [
    "We cannot make a monoid from the table, because it does not have an identity element."
   ]
  },
  {
   "cell_type": "code",
   "execution_count": 33,
   "id": "718ac3f2",
   "metadata": {},
   "outputs": [
    {
     "name": "stdout",
     "output_type": "stream",
     "text": [
      "ERROR: Table has no identity element\n"
     ]
    }
   ],
   "source": [
    "try:\n",
    "    ex141_mon = Monoid(['a', 'b', 'c', 'd', 'e', 'f'], ex141_tbl)\n",
    "    ex141_mon\n",
    "except:\n",
    "    print(\"ERROR: Table has no identity element\")"
   ]
  },
  {
   "cell_type": "markdown",
   "id": "be035419",
   "metadata": {},
   "source": [
    "[*back to Table of Contents*](#toc)"
   ]
  },
  {
   "cell_type": "markdown",
   "id": "2fd4a6f5",
   "metadata": {},
   "source": [
    "**NEED TESTS AND EXAMPLES HERE**"
   ]
  },
  {
   "cell_type": "markdown",
   "id": "4ed57c9d",
   "metadata": {},
   "source": [
    "**See p. 67 in Pinter for a possible example**"
   ]
  },
  {
   "cell_type": "markdown",
   "id": "523150c1",
   "metadata": {},
   "source": [
    "### Testing Monoids<a class=\"anchor\" id=\"testing_monoids\"></a>"
   ]
  },
  {
   "cell_type": "markdown",
   "id": "60a5fcf7",
   "metadata": {},
   "source": [
    "A monoid is a semigroup with an identity element."
   ]
  },
  {
   "cell_type": "markdown",
   "id": "6eaa0ee1",
   "metadata": {},
   "source": [
    "TBD"
   ]
  },
  {
   "cell_type": "markdown",
   "id": "9658b72f",
   "metadata": {},
   "source": [
    "[*back to Table of Contents*](#toc)"
   ]
  },
  {
   "cell_type": "markdown",
   "id": "aacdb8e3",
   "metadata": {},
   "source": [
    "### Testing Groups<a class=\"anchor\" id=\"testing_groups\"></a>"
   ]
  },
  {
   "cell_type": "markdown",
   "id": "ca8a4386",
   "metadata": {},
   "source": [
    "A group is a monoid where every element has an inverse."
   ]
  },
  {
   "cell_type": "markdown",
   "id": "18d00ada",
   "metadata": {},
   "source": [
    "TBD"
   ]
  },
  {
   "cell_type": "markdown",
   "id": "a3e9f9ce",
   "metadata": {},
   "source": [
    "[*back to Table of Contents*](#toc)"
   ]
  },
  {
   "cell_type": "markdown",
   "id": "3535a7e6",
   "metadata": {},
   "source": [
    "### Testing Rings<a class=\"anchor\" id=\"testing_rings\"></a>"
   ]
  },
  {
   "cell_type": "markdown",
   "id": "a9429a07",
   "metadata": {},
   "source": [
    "TBD"
   ]
  },
  {
   "cell_type": "markdown",
   "id": "f834f5ac",
   "metadata": {},
   "source": [
    "[*back to Table of Contents*](#toc)"
   ]
  },
  {
   "cell_type": "markdown",
   "id": "36848a19",
   "metadata": {},
   "source": [
    "### Testing Fields<a class=\"anchor\" id=\"testing_fields\"></a>"
   ]
  },
  {
   "cell_type": "markdown",
   "id": "ebe62348",
   "metadata": {},
   "source": [
    "TBD"
   ]
  },
  {
   "cell_type": "markdown",
   "id": "7b4136f3",
   "metadata": {},
   "source": [
    "[*back to Table of Contents*](#toc)"
   ]
  },
  {
   "cell_type": "code",
   "execution_count": null,
   "id": "2b6d0fe9",
   "metadata": {},
   "outputs": [],
   "source": []
  }
 ],
 "metadata": {
  "kernelspec": {
   "display_name": "Python 3",
   "language": "python",
   "name": "python3"
  },
  "language_info": {
   "codemirror_mode": {
    "name": "ipython",
    "version": 3
   },
   "file_extension": ".py",
   "mimetype": "text/x-python",
   "name": "python",
   "nbconvert_exporter": "python",
   "pygments_lexer": "ipython3",
   "version": "3.7.7"
  }
 },
 "nbformat": 4,
 "nbformat_minor": 5
}
