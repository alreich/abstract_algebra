{
 "cells": [
  {
   "cell_type": "markdown",
   "id": "396784df",
   "metadata": {},
   "source": [
    "# User Guide"
   ]
  },
  {
   "cell_type": "markdown",
   "id": "d24386e1",
   "metadata": {},
   "source": [
    "## Class Hierarchy"
   ]
  },
  {
   "cell_type": "markdown",
   "id": "8444498e",
   "metadata": {},
   "source": [
    "$\\langle FiniteAlgebra \\rangle \\rightarrow$ Magma $\\rightarrow$ Semigroup $\\rightarrow$ Monoid $\\rightarrow$ Group $\\rightarrow$ Ring $\\rightarrow$ Field"
   ]
  },
  {
   "cell_type": "markdown",
   "id": "3f8d7a5b",
   "metadata": {},
   "source": [
    "* **Magma** -- a set with a binary operation:  $\\langle S, \\circ \\rangle$, where $S$ is a finite set and $\\circ: S \\times S \\to S$\n",
    "\n",
    "* **Semigroup** -- an associative Magma:  for any $a,b,c \\in S \\Rightarrow a \\circ (b \\circ c) = (a \\circ b) \\circ c$\n",
    "\n",
    "* **Monoid** -- a Semigroup with identity element:  $\\exists e \\in S$, such that, for all $a \\in S, a \\circ e = e \\circ a = a$\n",
    "\n",
    "* **Group** -- a Monoid with inverse elements:  $\\forall a \\in S, \\exists a^{-1} \\in S$, such that, $a \\circ a^{-1} = a^{-1} \n",
    "\\circ a = e$\n",
    "\n",
    "* **Ring** -- $\\langle S, +, \\times \\rangle$, where $\\langle S, + \\rangle$ is a commutative Group, $\\langle S, \\times \\rangle$ is a Semigroup, and $\\times$ distributes over $+$\n",
    "\n",
    "* **Field** -- a Ring $\\langle S, +, \\times \\rangle$, where $\\langle S\\setminus{\\{0\\}}, \\times \\rangle$ is a commutative Group."
   ]
  },
  {
   "cell_type": "markdown",
   "id": "0a1aee43",
   "metadata": {},
   "source": [
    "## Finite Algebra: Internal Representation\n",
    "\n",
    "Internally, a ``FiniteAlgebra`` consists of the following quantities:\n",
    "\n",
    "* **name**: (``str``) A short name for the algebra;\n",
    "* **description**: (``str``) Any additional, useful information about the algebra;\n",
    "* **elements**: (``list`` of ``str``) Names of the algebras’s elements.\n",
    "* **table**: (``list`` of ``list`` of ``int``) The algebra’s multiplication\n",
    "  table, where each list in the list represents a row of the table, and\n",
    "  each integer represents the position of an element in ‘element_names’.\n",
    "  Optionally, element names (``str``) may be used in the table, rather \n",
    "  than integers.\n",
    "* **table2**: (OPTIONAL) Similar to *table*, above. Required when defining a Ring or Field.\n",
    "\n",
    "**NOTE**: The type of table required here is known as a [Cayley Table](https://en.wikipedia.org/wiki/Cayley_table).  All of the properties of a finite algebra can be derived from its Cayley Table.  For this reason, this module includes a ``CayleyTable`` class for storing the table and methods associated with it."
   ]
  },
  {
   "cell_type": "markdown",
   "id": "87ad0e95",
   "metadata": {},
   "source": [
    "## Algebra Constuction Examples"
   ]
  },
  {
   "cell_type": "markdown",
   "id": "0e62a2f4",
   "metadata": {},
   "source": [
    "In a nutshell, use the function, ``make_finite_algebra`` for all algebra construction.\n",
    "\n",
    "Although individual algebras (Magma, Semigroup, etc.) have their own individual constructors, requiring the quantities described above, the **recommended** way to construct an algebra is to use the function, ``make_finite_algebra``, using one of the following three approaches to inputs:\n",
    "\n",
    "1. Enter **individual values** corresponding to the quantities in its Internal Representation, described above.\n",
    "1. Enter a **Python dictionary** (``dict``), with keys and values corresponding to the individual values, described above.\n",
    "1. Enter the **path to a JSON file** (``str``) that corresponds to the dictionary, described above.\n",
    "   \n",
    "``make_finite_algebra`` uses the table(s) to determine what type of algebra it supports and returns the appropriate algebra."
   ]
  },
  {
   "cell_type": "markdown",
   "id": "02c74fe7",
   "metadata": {},
   "source": [
    "In the following examples, the only algebra constructor used is ``make_finite_algebra``."
   ]
  },
  {
   "cell_type": "markdown",
   "id": "b6c865f6",
   "metadata": {},
   "source": [
    "### Group"
   ]
  },
  {
   "cell_type": "code",
   "execution_count": 1,
   "id": "a7ab25ae",
   "metadata": {},
   "outputs": [
    {
     "data": {
      "text/plain": [
       "Group(\n",
       "'Z3',\n",
       "'Cyclic group of order 3',\n",
       "['e', 'a', 'a^2'],\n",
       "[[0, 1, 2], [1, 2, 0], [2, 0, 1]]\n",
       ")"
      ]
     },
     "execution_count": 1,
     "metadata": {},
     "output_type": "execute_result"
    }
   ],
   "source": [
    ">>> from finite_algebras import make_finite_algebra\n",
    "\n",
    ">>> z3 = make_finite_algebra('Z3',\n",
    "                             'Cyclic group of order 3',\n",
    "                             ['e', 'a', 'a^2'],\n",
    "                             [[ 'e' ,  'a' , 'a^2'],\n",
    "                              [ 'a' , 'a^2',  'e' ],\n",
    "                              ['a^2',  'e' ,  'a' ]]\n",
    "                            )\n",
    ">>> z3"
   ]
  },
  {
   "cell_type": "markdown",
   "id": "78a8d234",
   "metadata": {},
   "source": [
    "Printing an algebra converts it to a string containing its class name, algebra name, and the unique ID of the algebra instance:"
   ]
  },
  {
   "cell_type": "code",
   "execution_count": 2,
   "id": "9847f8a7",
   "metadata": {},
   "outputs": [
    {
     "name": "stdout",
     "output_type": "stream",
     "text": [
      "<Group:Z3, ID:140558988411728>\n"
     ]
    }
   ],
   "source": [
    ">>> print(z3)"
   ]
  },
  {
   "cell_type": "markdown",
   "id": "43a4e442",
   "metadata": {},
   "source": [
    "### Group Properties"
   ]
  },
  {
   "cell_type": "code",
   "execution_count": 3,
   "id": "8a7c819d",
   "metadata": {},
   "outputs": [
    {
     "data": {
      "text/plain": [
       "True"
      ]
     },
     "execution_count": 3,
     "metadata": {},
     "output_type": "execute_result"
    }
   ],
   "source": [
    ">>> z3.is_associative()  # Only Magmas are non-associative"
   ]
  },
  {
   "cell_type": "code",
   "execution_count": 4,
   "id": "f60a7d33",
   "metadata": {},
   "outputs": [
    {
     "data": {
      "text/plain": [
       "True"
      ]
     },
     "execution_count": 4,
     "metadata": {},
     "output_type": "execute_result"
    }
   ],
   "source": [
    ">>> z3.is_commutative()"
   ]
  },
  {
   "cell_type": "code",
   "execution_count": 5,
   "id": "9e088e0a",
   "metadata": {},
   "outputs": [
    {
     "data": {
      "text/plain": [
       "True"
      ]
     },
     "execution_count": 5,
     "metadata": {},
     "output_type": "execute_result"
    }
   ],
   "source": [
    ">>> z3.is_abelian()"
   ]
  },
  {
   "cell_type": "markdown",
   "id": "7868d677",
   "metadata": {},
   "source": [
    "The ``identity`` method (property) returns the algebra's identity element, if it exists.\n",
    "\n",
    "If the identity doesn't exist, then ``None`` is returned."
   ]
  },
  {
   "cell_type": "code",
   "execution_count": 6,
   "id": "ca5a47cc",
   "metadata": {},
   "outputs": [
    {
     "data": {
      "text/plain": [
       "'e'"
      ]
     },
     "execution_count": 6,
     "metadata": {},
     "output_type": "execute_result"
    }
   ],
   "source": [
    ">>> z3.identity"
   ]
  },
  {
   "cell_type": "markdown",
   "id": "b3bde90c",
   "metadata": {},
   "source": [
    "Internal to algebras, tables are stored as instances of the ``CayleyTable`` class:"
   ]
  },
  {
   "cell_type": "code",
   "execution_count": 7,
   "id": "73516aa3",
   "metadata": {},
   "outputs": [
    {
     "data": {
      "text/plain": [
       "CayleyTable([[0, 1, 2], [1, 2, 0], [2, 0, 1]])"
      ]
     },
     "execution_count": 7,
     "metadata": {},
     "output_type": "execute_result"
    }
   ],
   "source": [
    ">>> z3.table"
   ]
  },
  {
   "cell_type": "code",
   "execution_count": 8,
   "id": "87a0be2d",
   "metadata": {},
   "outputs": [
    {
     "data": {
      "text/plain": [
       "'a^2'"
      ]
     },
     "execution_count": 8,
     "metadata": {},
     "output_type": "execute_result"
    }
   ],
   "source": [
    ">>> z3.inv('a')  # Get an element's inverse, if it exists"
   ]
  },
  {
   "cell_type": "markdown",
   "id": "86a47f2d",
   "metadata": {},
   "source": [
    "### Binary Operation"
   ]
  },
  {
   "cell_type": "code",
   "execution_count": 9,
   "id": "a5628f2c",
   "metadata": {},
   "outputs": [
    {
     "data": {
      "text/plain": [
       "'e'"
      ]
     },
     "execution_count": 9,
     "metadata": {},
     "output_type": "execute_result"
    }
   ],
   "source": [
    ">>> z3.op()  # zero arguments returns the identity, if it exists"
   ]
  },
  {
   "cell_type": "markdown",
   "id": "24ba72a7",
   "metadata": {},
   "source": [
    "If only one argument is given to the binary operation, then that argument is simply returned; unless it is not a valid element of the algebra, in which case an exception is raised."
   ]
  },
  {
   "cell_type": "code",
   "execution_count": 10,
   "id": "10742f83",
   "metadata": {},
   "outputs": [
    {
     "data": {
      "text/plain": [
       "'a'"
      ]
     },
     "execution_count": 10,
     "metadata": {},
     "output_type": "execute_result"
    }
   ],
   "source": [
    ">>> z3.op('a')"
   ]
  },
  {
   "cell_type": "code",
   "execution_count": 11,
   "id": "53680776",
   "metadata": {},
   "outputs": [
    {
     "data": {
      "text/plain": [
       "'a^2'"
      ]
     },
     "execution_count": 11,
     "metadata": {},
     "output_type": "execute_result"
    }
   ],
   "source": [
    ">>> z3.op('a', 'a')"
   ]
  },
  {
   "cell_type": "code",
   "execution_count": 12,
   "id": "744fbab3",
   "metadata": {},
   "outputs": [
    {
     "data": {
      "text/plain": [
       "'e'"
      ]
     },
     "execution_count": 12,
     "metadata": {},
     "output_type": "execute_result"
    }
   ],
   "source": [
    ">>> z3.op('a', 'a', 'a')"
   ]
  },
  {
   "cell_type": "markdown",
   "id": "a31fc976",
   "metadata": {},
   "source": [
    "### The ``about`` Method"
   ]
  },
  {
   "cell_type": "markdown",
   "id": "40f48dff",
   "metadata": {},
   "source": [
    "``about`` prints information about an algebra."
   ]
  },
  {
   "cell_type": "code",
   "execution_count": 13,
   "id": "aadd4798",
   "metadata": {},
   "outputs": [
    {
     "name": "stdout",
     "output_type": "stream",
     "text": [
      "\n",
      "Group: Z3\n",
      "Instance ID: 140558988411728\n",
      "Description: Cyclic group of order 3\n",
      "Identity: e\n",
      "Associative? Yes\n",
      "Commutative? Yes\n",
      "Elements:\n",
      "   Index   Name   Inverse  Order\n",
      "      0       e       e       1\n",
      "      1       a     a^2       3\n",
      "      2     a^2       a       3\n",
      "Cayley Table (showing indices):\n",
      "[[0, 1, 2], [1, 2, 0], [2, 0, 1]]\n"
     ]
    }
   ],
   "source": [
    ">>> z3.about()"
   ]
  },
  {
   "cell_type": "markdown",
   "id": "8c3811fb",
   "metadata": {},
   "source": [
    "### Magma"
   ]
  },
  {
   "cell_type": "markdown",
   "id": "c6c1207d",
   "metadata": {},
   "source": [
    "**Rock-Paper-Scissors**\n",
    "\n",
    "See https://en.wikipedia.org/wiki/Commutative_magma\n",
    "\n",
    "* $\\langle S, \\circ \\rangle$, where $S = \\{r,p,s\\}$\n",
    "* For all $x, y \\in S$, if $x$ *beats* $y$, then $x \\circ y = y \\circ x = x$\n",
    "* Also, for all $x \\in S$, $xx = x$\n",
    "\n",
    "From the rule in the second bullet, above, this algebra is obviously commutative."
   ]
  },
  {
   "cell_type": "code",
   "execution_count": 14,
   "id": "e5f5ead9",
   "metadata": {},
   "outputs": [
    {
     "name": "stdout",
     "output_type": "stream",
     "text": [
      "\n",
      "Magma: RPS\n",
      "Instance ID: 140559530403472\n",
      "Description: Rock, Paper, Scissors Magma\n",
      "Elements: ['r', 'p', 's']\n",
      "Identity: None\n",
      "Associative? No\n",
      "Commutative? Yes\n",
      "Has Inverses? No\n",
      "Cayley Table (showing indices):\n",
      "[[0, 1, 0], [1, 1, 2], [0, 2, 2]]\n"
     ]
    }
   ],
   "source": [
    ">>> rps = make_finite_algebra('RPS',\n",
    "                              'Rock, Paper, Scissors Magma',\n",
    "                              ['r', 'p', 's'],\n",
    "                              [['r', 'p', 'r'],\n",
    "                               ['p', 'p', 's'],\n",
    "                               ['r', 's', 's']])\n",
    "\n",
    ">>> rps.about()"
   ]
  },
  {
   "cell_type": "markdown",
   "id": "9e2a1cbf",
   "metadata": {},
   "source": [
    "By default, the ``about`` method prints the table using element positions, but it can also printout a table using element names:"
   ]
  },
  {
   "cell_type": "code",
   "execution_count": 15,
   "id": "08fa69ab",
   "metadata": {},
   "outputs": [
    {
     "name": "stdout",
     "output_type": "stream",
     "text": [
      "\n",
      "Magma: RPS\n",
      "Instance ID: 140559530403472\n",
      "Description: Rock, Paper, Scissors Magma\n",
      "Elements: ['r', 'p', 's']\n",
      "Identity: None\n",
      "Associative? No\n",
      "Commutative? Yes\n",
      "Has Inverses? No\n",
      "Cayley Table (showing names):\n",
      "[['r', 'p', 'r'], ['p', 'p', 's'], ['r', 's', 's']]\n"
     ]
    }
   ],
   "source": [
    ">>> rps.about(use_table_names=True)"
   ]
  },
  {
   "cell_type": "markdown",
   "id": "108e972e",
   "metadata": {},
   "source": [
    "Paper beats Rock:"
   ]
  },
  {
   "cell_type": "code",
   "execution_count": 16,
   "id": "a8f56db7",
   "metadata": {},
   "outputs": [
    {
     "data": {
      "text/plain": [
       "'p'"
      ]
     },
     "execution_count": 16,
     "metadata": {},
     "output_type": "execute_result"
    }
   ],
   "source": [
    ">>> rps.op('r', 'p')"
   ]
  },
  {
   "cell_type": "code",
   "execution_count": 17,
   "id": "78cc8289",
   "metadata": {},
   "outputs": [
    {
     "name": "stdout",
     "output_type": "stream",
     "text": [
      "RPS does not have an identity element\n"
     ]
    }
   ],
   "source": [
    ">>> if rps.identity is None:\n",
    "    print(\"RPS does not have an identity element\")"
   ]
  },
  {
   "cell_type": "markdown",
   "id": "87d41f06",
   "metadata": {},
   "source": [
    "### Magma with Identity Element"
   ]
  },
  {
   "cell_type": "code",
   "execution_count": 18,
   "id": "b49f4bcb",
   "metadata": {},
   "outputs": [
    {
     "name": "stdout",
     "output_type": "stream",
     "text": [
      "\n",
      "Magma: Whatever\n",
      "Instance ID: 140559530393488\n",
      "Description: Magma with Identity\n",
      "Elements: ['e', 'a', 'b']\n",
      "Identity: e\n",
      "Associative? No\n",
      "Commutative? No\n",
      "Has Inverses? No\n",
      "Cayley Table (showing indices):\n",
      "[[0, 1, 2], [1, 0, 1], [2, 2, 1]]\n"
     ]
    }
   ],
   "source": [
    ">>> mag = make_finite_algebra('Whatever',\n",
    "                              'Magma with Identity',\n",
    "                              ['e', 'a', 'b'],\n",
    "                              [['e', 'a', 'b'],\n",
    "                               ['a', 'e', 'a'],\n",
    "                               ['b', 'b', 'a']])\n",
    "\n",
    ">>> mag.about()"
   ]
  },
  {
   "cell_type": "markdown",
   "id": "b7c83ddb",
   "metadata": {},
   "source": [
    "### Semigroup"
   ]
  },
  {
   "cell_type": "markdown",
   "id": "d83c728c",
   "metadata": {},
   "source": [
    "Reference: [Groupoids and Smarandache Groupoids](https://arxiv.org/ftp/math/papers/0304/0304490.pdf) by W. B. Vasantha Kandasamy"
   ]
  },
  {
   "cell_type": "code",
   "execution_count": 19,
   "id": "f62438ac",
   "metadata": {},
   "outputs": [
    {
     "name": "stdout",
     "output_type": "stream",
     "text": [
      "\n",
      "Semigroup: Example 1.4.1\n",
      "Instance ID: 140559530326992\n",
      "Description: See: Groupoids and Smarandache Groupoids by W. B. Vasantha Kandasamy\n",
      "Elements: ['a', 'b', 'c', 'd', 'e', 'f']\n",
      "Identity: None\n",
      "Associative? Yes\n",
      "Commutative? No\n",
      "Has Inverses? No\n",
      "Cayley Table (showing indices):\n",
      "[[0, 3, 0, 3, 0, 3],\n",
      " [1, 4, 1, 4, 1, 4],\n",
      " [2, 5, 2, 5, 2, 5],\n",
      " [3, 0, 3, 0, 3, 0],\n",
      " [4, 1, 4, 1, 4, 1],\n",
      " [5, 2, 5, 2, 5, 2]]\n"
     ]
    }
   ],
   "source": [
    ">>> sg = make_finite_algebra('Example 1.4.1',\n",
    "                         'See: Groupoids and Smarandache Groupoids by W. B. Vasantha Kandasamy',\n",
    "                         ['a', 'b', 'c', 'd', 'e', 'f'],\n",
    "                         [[0, 3, 0, 3, 0, 3],\n",
    "                          [1, 4, 1, 4, 1, 4],\n",
    "                          [2, 5, 2, 5, 2, 5],\n",
    "                          [3, 0, 3, 0, 3, 0],\n",
    "                          [4, 1, 4, 1, 4, 1],\n",
    "                          [5, 2, 5, 2, 5, 2]]\n",
    "                        )\n",
    ">>> sg.about()"
   ]
  },
  {
   "cell_type": "markdown",
   "id": "39607847",
   "metadata": {},
   "source": [
    "Since the element in the 0,1 position of the table is 3, it follows that, $a \\circ b = d$:"
   ]
  },
  {
   "cell_type": "code",
   "execution_count": 20,
   "id": "0d5b8d80",
   "metadata": {},
   "outputs": [
    {
     "data": {
      "text/plain": [
       "'d'"
      ]
     },
     "execution_count": 20,
     "metadata": {},
     "output_type": "execute_result"
    }
   ],
   "source": [
    ">>> sg.op('a', 'b')"
   ]
  },
  {
   "cell_type": "code",
   "execution_count": 21,
   "id": "5d3220e3",
   "metadata": {},
   "outputs": [
    {
     "name": "stdout",
     "output_type": "stream",
     "text": [
      "There is no identity element\n"
     ]
    }
   ],
   "source": [
    ">>> if sg.identity is None:\n",
    "    print(\"There is no identity element\")"
   ]
  },
  {
   "cell_type": "markdown",
   "id": "4c4eb396",
   "metadata": {},
   "source": [
    "### Monoid"
   ]
  },
  {
   "cell_type": "code",
   "execution_count": 22,
   "id": "a0ab6c31",
   "metadata": {},
   "outputs": [
    {
     "name": "stdout",
     "output_type": "stream",
     "text": [
      "\n",
      "Monoid: M4\n",
      "Instance ID: 140559530375952\n",
      "Description: Example of a commutative monoid\n",
      "Elements: ['a', 'b', 'c', 'd']\n",
      "Identity: b\n",
      "Associative? Yes\n",
      "Commutative? Yes\n",
      "Has Inverses? No\n",
      "Cayley Table (showing names):\n",
      "[['a', 'a', 'a', 'a'],\n",
      " ['a', 'b', 'c', 'd'],\n",
      " ['a', 'c', 'a', 'c'],\n",
      " ['a', 'd', 'c', 'b']]\n"
     ]
    }
   ],
   "source": [
    ">>> m4 = make_finite_algebra('M4',\n",
    "                             'Example of a commutative monoid',\n",
    "                             ['a', 'b', 'c', 'd'],\n",
    "                             [[0, 0, 0, 0],\n",
    "                              [0, 1, 2, 3],\n",
    "                              [0, 2, 0, 2],\n",
    "                              [0, 3, 2, 1]])\n",
    "\n",
    ">>> m4.about(use_table_names=True)"
   ]
  },
  {
   "cell_type": "code",
   "execution_count": 23,
   "id": "697bad4c",
   "metadata": {},
   "outputs": [
    {
     "data": {
      "text/plain": [
       "'b'"
      ]
     },
     "execution_count": 23,
     "metadata": {},
     "output_type": "execute_result"
    }
   ],
   "source": [
    ">>> m4.identity  # Returns the identity element"
   ]
  },
  {
   "cell_type": "code",
   "execution_count": 24,
   "id": "f580c190",
   "metadata": {},
   "outputs": [
    {
     "data": {
      "text/plain": [
       "'c'"
      ]
     },
     "execution_count": 24,
     "metadata": {},
     "output_type": "execute_result"
    }
   ],
   "source": [
    ">>> m4.op('c', 'b')  # since 'b' is the identity element"
   ]
  },
  {
   "cell_type": "markdown",
   "id": "5d03f352",
   "metadata": {},
   "source": [
    "## Rings"
   ]
  },
  {
   "cell_type": "markdown",
   "id": "a2a7fbea",
   "metadata": {},
   "source": [
    "### Ring Based on Powerset of a Set"
   ]
  },
  {
   "cell_type": "markdown",
   "id": "b0eb3a22",
   "metadata": {},
   "source": [
    "In this ring, *\"addition\"* is symmetric difference and *\"multiplication\"* is intersection."
   ]
  },
  {
   "cell_type": "code",
   "execution_count": 25,
   "id": "797e8644",
   "metadata": {},
   "outputs": [
    {
     "data": {
      "text/plain": [
       "Ring(\n",
       "'Powerset Ring 2',\n",
       "'Ring on powerset of {0, 1}',\n",
       "['{}', '{0}', '{1}', '{0, 1}'],\n",
       "[[0, 1, 2, 3], [1, 0, 3, 2], [2, 3, 0, 1], [3, 2, 1, 0]],\n",
       "[[0, 0, 0, 0], [0, 1, 0, 1], [0, 0, 2, 2], [0, 1, 2, 3]]\n",
       ")"
      ]
     },
     "execution_count": 25,
     "metadata": {},
     "output_type": "execute_result"
    }
   ],
   "source": [
    ">>> rng = make_finite_algebra('Powerset Ring 2',\n",
    "                              'Ring on powerset of {0, 1}',\n",
    "                              ['{}', '{0}', '{1}', '{0, 1}'],\n",
    "                              [[0, 1, 2, 3],\n",
    "                               [1, 0, 3, 2],\n",
    "                               [2, 3, 0, 1],\n",
    "                               [3, 2, 1, 0]],\n",
    "                              [[0, 0, 0, 0],\n",
    "                               [0, 1, 0, 1],\n",
    "                               [0, 0, 2, 2],\n",
    "                               [0, 1, 2, 3]]\n",
    "                             )\n",
    ">>> rng"
   ]
  },
  {
   "cell_type": "code",
   "execution_count": 26,
   "id": "8b8b4cdd",
   "metadata": {},
   "outputs": [
    {
     "name": "stdout",
     "output_type": "stream",
     "text": [
      "\n",
      "Ring: Powerset Ring 2\n",
      "Instance ID: 140559530333456\n",
      "Description: Ring on powerset of {0, 1}\n",
      "Identity: {}\n",
      "Associative? Yes\n",
      "Commutative? Yes\n",
      "Elements:\n",
      "   Index   Name   Inverse  Order\n",
      "      0      {}      {}       1\n",
      "      1     {0}     {0}       2\n",
      "      2     {1}     {1}       2\n",
      "      3  {0, 1}  {0, 1}       2\n",
      "Cayley Table (showing names):\n",
      "[['{}', '{0}', '{1}', '{0, 1}'],\n",
      " ['{0}', '{}', '{0, 1}', '{1}'],\n",
      " ['{1}', '{0, 1}', '{}', '{0}'],\n",
      " ['{0, 1}', '{1}', '{0}', '{}']]\n",
      "Mult. Identity: {0, 1}\n",
      "Mult. Commutative? Yes\n",
      "Multiplicative Cayley Table (showing names):\n",
      "[['{}', '{}', '{}', '{}'],\n",
      " ['{}', '{0}', '{}', '{0}'],\n",
      " ['{}', '{}', '{1}', '{1}'],\n",
      " ['{}', '{0}', '{1}', '{0, 1}']]\n"
     ]
    }
   ],
   "source": [
    ">>> rng.about(use_table_names=True)"
   ]
  },
  {
   "cell_type": "markdown",
   "id": "fe121fca",
   "metadata": {},
   "source": [
    "### Ring Addition and Multiplication"
   ]
  },
  {
   "cell_type": "code",
   "execution_count": 27,
   "id": "b3e8826e",
   "metadata": {},
   "outputs": [
    {
     "data": {
      "text/plain": [
       "{0}"
      ]
     },
     "execution_count": 27,
     "metadata": {},
     "output_type": "execute_result"
    }
   ],
   "source": [
    ">>> {1} ^ {0,1}  # Symmetric Difference using actual sets"
   ]
  },
  {
   "cell_type": "code",
   "execution_count": 28,
   "id": "b08b17b9",
   "metadata": {},
   "outputs": [
    {
     "data": {
      "text/plain": [
       "'{0}'"
      ]
     },
     "execution_count": 28,
     "metadata": {},
     "output_type": "execute_result"
    }
   ],
   "source": [
    ">>> rng.add(\"{1}\", \"{0, 1}\")"
   ]
  },
  {
   "cell_type": "code",
   "execution_count": 29,
   "id": "608e607b",
   "metadata": {},
   "outputs": [
    {
     "data": {
      "text/plain": [
       "{1}"
      ]
     },
     "execution_count": 29,
     "metadata": {},
     "output_type": "execute_result"
    }
   ],
   "source": [
    ">>> {1} & {0,1}  # Intersection using actual sets"
   ]
  },
  {
   "cell_type": "code",
   "execution_count": 30,
   "id": "81836e13",
   "metadata": {},
   "outputs": [
    {
     "data": {
      "text/plain": [
       "'{1}'"
      ]
     },
     "execution_count": 30,
     "metadata": {},
     "output_type": "execute_result"
    }
   ],
   "source": [
    ">>> rng.mult(\"{1}\", \"{0, 1}\")"
   ]
  },
  {
   "cell_type": "markdown",
   "id": "1549812a",
   "metadata": {},
   "source": [
    "### Zero Divisors of a Ring"
   ]
  },
  {
   "cell_type": "markdown",
   "id": "982e2885",
   "metadata": {},
   "source": [
    "The Ring just created has two zero divisors:"
   ]
  },
  {
   "cell_type": "code",
   "execution_count": 31,
   "id": "525dfa84",
   "metadata": {},
   "outputs": [
    {
     "data": {
      "text/plain": [
       "['{0}', '{1}']"
      ]
     },
     "execution_count": 31,
     "metadata": {},
     "output_type": "execute_result"
    }
   ],
   "source": [
    "rng.zero_divisors()"
   ]
  },
  {
   "cell_type": "markdown",
   "id": "413e656f",
   "metadata": {},
   "source": [
    "### Autogeneration of a Powerset Ring"
   ]
  },
  {
   "cell_type": "code",
   "execution_count": 32,
   "id": "3c6253bf",
   "metadata": {},
   "outputs": [
    {
     "data": {
      "text/plain": [
       "Ring(\n",
       "'PSRing3',\n",
       "'Autogenerated Ring on powerset of {0, 1, 2} w/ symm. diff. (add) & intersection (mult)',\n",
       "['{}', '{0}', '{1}', '{2}', '{0, 1}', '{0, 2}', '{1, 2}', '{0, 1, 2}'],\n",
       "[[0, 1, 2, 3, 4, 5, 6, 7], [1, 0, 4, 5, 2, 3, 7, 6], [2, 4, 0, 6, 1, 7, 3, 5], [3, 5, 6, 0, 7, 1, 2, 4], [4, 2, 1, 7, 0, 6, 5, 3], [5, 3, 7, 1, 6, 0, 4, 2], [6, 7, 3, 2, 5, 4, 0, 1], [7, 6, 5, 4, 3, 2, 1, 0]],\n",
       "[[0, 0, 0, 0, 0, 0, 0, 0], [0, 1, 0, 0, 1, 1, 0, 1], [0, 0, 2, 0, 2, 0, 2, 2], [0, 0, 0, 3, 0, 3, 3, 3], [0, 1, 2, 0, 4, 1, 2, 4], [0, 1, 0, 3, 1, 5, 3, 5], [0, 0, 2, 3, 2, 3, 6, 6], [0, 1, 2, 3, 4, 5, 6, 7]]\n",
       ")"
      ]
     },
     "execution_count": 32,
     "metadata": {},
     "output_type": "execute_result"
    }
   ],
   "source": [
    ">>> from finite_algebras import generate_powerset_ring\n",
    "\n",
    ">>> psr3 = generate_powerset_ring(3)  # Ring order will be 3!\n",
    "\n",
    ">>> psr3"
   ]
  },
  {
   "cell_type": "code",
   "execution_count": 33,
   "id": "5eeabb93",
   "metadata": {
    "scrolled": true
   },
   "outputs": [
    {
     "name": "stdout",
     "output_type": "stream",
     "text": [
      "\n",
      "Ring: PSRing3\n",
      "Instance ID: 140559254252432\n",
      "Description: Autogenerated Ring on powerset of {0, 1, 2} w/ symm. diff. (add) & intersection (mult)\n",
      "Identity: {}\n",
      "Associative? Yes\n",
      "Commutative? Yes\n",
      "Elements:\n",
      "   Index   Name   Inverse  Order\n",
      "      0      {}      {}       1\n",
      "      1     {0}     {0}       2\n",
      "      2     {1}     {1}       2\n",
      "      3     {2}     {2}       2\n",
      "      4  {0, 1}  {0, 1}       2\n",
      "      5  {0, 2}  {0, 2}       2\n",
      "      6  {1, 2}  {1, 2}       2\n",
      "      7 {0, 1, 2} {0, 1, 2}       2\n",
      "Cayley Table (showing names):\n",
      "[['{}', '{0}', '{1}', '{2}', '{0, 1}', '{0, 2}', '{1, 2}', '{0, 1, 2}'],\n",
      " ['{0}', '{}', '{0, 1}', '{0, 2}', '{1}', '{2}', '{0, 1, 2}', '{1, 2}'],\n",
      " ['{1}', '{0, 1}', '{}', '{1, 2}', '{0}', '{0, 1, 2}', '{2}', '{0, 2}'],\n",
      " ['{2}', '{0, 2}', '{1, 2}', '{}', '{0, 1, 2}', '{0}', '{1}', '{0, 1}'],\n",
      " ['{0, 1}', '{1}', '{0}', '{0, 1, 2}', '{}', '{1, 2}', '{0, 2}', '{2}'],\n",
      " ['{0, 2}', '{2}', '{0, 1, 2}', '{0}', '{1, 2}', '{}', '{0, 1}', '{1}'],\n",
      " ['{1, 2}', '{0, 1, 2}', '{2}', '{1}', '{0, 2}', '{0, 1}', '{}', '{0}'],\n",
      " ['{0, 1, 2}', '{1, 2}', '{0, 2}', '{0, 1}', '{2}', '{1}', '{0}', '{}']]\n",
      "Mult. Identity: {0, 1, 2}\n",
      "Mult. Commutative? Yes\n",
      "Multiplicative Cayley Table (showing names):\n",
      "[['{}', '{}', '{}', '{}', '{}', '{}', '{}', '{}'],\n",
      " ['{}', '{0}', '{}', '{}', '{0}', '{0}', '{}', '{0}'],\n",
      " ['{}', '{}', '{1}', '{}', '{1}', '{}', '{1}', '{1}'],\n",
      " ['{}', '{}', '{}', '{2}', '{}', '{2}', '{2}', '{2}'],\n",
      " ['{}', '{0}', '{1}', '{}', '{0, 1}', '{0}', '{1}', '{0, 1}'],\n",
      " ['{}', '{0}', '{}', '{2}', '{0}', '{0, 2}', '{2}', '{0, 2}'],\n",
      " ['{}', '{}', '{1}', '{2}', '{1}', '{2}', '{1, 2}', '{1, 2}'],\n",
      " ['{}', '{0}', '{1}', '{2}', '{0, 1}', '{0, 2}', '{1, 2}', '{0, 1, 2}']]\n"
     ]
    }
   ],
   "source": [
    ">>> psr3.about(use_table_names=True)"
   ]
  },
  {
   "cell_type": "markdown",
   "id": "72c78a8d",
   "metadata": {},
   "source": [
    "### Ring Based on 2x2 Matrices"
   ]
  },
  {
   "cell_type": "markdown",
   "id": "77ea2257",
   "metadata": {},
   "source": [
    "See Example 6 in this reference: http://www-groups.mcs.st-andrews.ac.uk/~john/MT4517/Lectures/L3.html"
   ]
  },
  {
   "cell_type": "code",
   "execution_count": 34,
   "id": "1d76bccb",
   "metadata": {},
   "outputs": [],
   "source": [
    "addtbl = [['0', 'a', 'b', 'c'],\n",
    "          ['a', '0', 'c', 'b'],\n",
    "          ['b', 'c', '0', 'a'],\n",
    "          ['c', 'b', 'a', '0']]"
   ]
  },
  {
   "cell_type": "code",
   "execution_count": 35,
   "id": "d8741a85",
   "metadata": {},
   "outputs": [],
   "source": [
    "multbl = [['0', '0', '0', '0'],\n",
    "          ['0', '0', 'a', 'a'],\n",
    "          ['0', '0', 'b', 'b'],\n",
    "          ['0', '0', 'c', 'c']]"
   ]
  },
  {
   "cell_type": "code",
   "execution_count": 36,
   "id": "75e167b1",
   "metadata": {
    "scrolled": true
   },
   "outputs": [
    {
     "data": {
      "text/plain": [
       "Ring(\n",
       "'Ex6',\n",
       "'Example 6: http://www-groups.mcs.st-andrews.ac.uk/~john/MT4517/Lectures/L3.html',\n",
       "['0', 'a', 'b', 'c'],\n",
       "[[0, 1, 2, 3], [1, 0, 3, 2], [2, 3, 0, 1], [3, 2, 1, 0]],\n",
       "[[0, 0, 0, 0], [0, 0, 1, 1], [0, 0, 2, 2], [0, 0, 3, 3]]\n",
       ")"
      ]
     },
     "execution_count": 36,
     "metadata": {},
     "output_type": "execute_result"
    }
   ],
   "source": [
    "ex6 = make_finite_algebra('Ex6',\n",
    "                          'Example 6: http://www-groups.mcs.st-andrews.ac.uk/~john/MT4517/Lectures/L3.html',\n",
    "                          ['0', 'a', 'b', 'c'],\n",
    "                          addtbl,\n",
    "                          multbl)\n",
    "\n",
    "ex6"
   ]
  },
  {
   "cell_type": "code",
   "execution_count": 37,
   "id": "de0a420c",
   "metadata": {
    "scrolled": true
   },
   "outputs": [
    {
     "name": "stdout",
     "output_type": "stream",
     "text": [
      "\n",
      "Ring: Ex6\n",
      "Instance ID: 140559530374736\n",
      "Description: Example 6: http://www-groups.mcs.st-andrews.ac.uk/~john/MT4517/Lectures/L3.html\n",
      "Identity: 0\n",
      "Associative? Yes\n",
      "Commutative? Yes\n",
      "Elements:\n",
      "   Index   Name   Inverse  Order\n",
      "      0       0       0       1\n",
      "      1       a       a       2\n",
      "      2       b       b       2\n",
      "      3       c       c       2\n",
      "Cayley Table (showing names):\n",
      "[['0', 'a', 'b', 'c'],\n",
      " ['a', '0', 'c', 'b'],\n",
      " ['b', 'c', '0', 'a'],\n",
      " ['c', 'b', 'a', '0']]\n",
      "Mult. Identity: None\n",
      "Mult. Commutative? No\n",
      "Multiplicative Cayley Table (showing names):\n",
      "[['0', '0', '0', '0'],\n",
      " ['0', '0', 'a', 'a'],\n",
      " ['0', '0', 'b', 'b'],\n",
      " ['0', '0', 'c', 'c']]\n"
     ]
    }
   ],
   "source": [
    "ex6.about(use_table_names=True)"
   ]
  },
  {
   "cell_type": "markdown",
   "id": "cfe1fd08",
   "metadata": {},
   "source": [
    "### Extracting a Ring's Additive & Multiplicative \"Subalgebras\""
   ]
  },
  {
   "cell_type": "markdown",
   "id": "69541179",
   "metadata": {},
   "source": [
    "At the beginning of this User Guide, in the *Algebra Definitions* section, a Ring is described as being a combination of a commutative Group, under addition, and a Semigroup, under multiplication (with distributivity of multiplication over addition). This section shows how those algebraic components of a Ring can be extracted.\n",
    "\n",
    "**NOTE**: The implementation of the two extraction methods, illustrated below, operates by calling ``make_finite_algebra`` using the relevant portions of the Ring.  That way, the appropriate algebras are returned: a commutative Group for the additive portion, and, at a minimum, a Semigroup for the multiplicative portion."
   ]
  },
  {
   "cell_type": "code",
   "execution_count": 38,
   "id": "0356664a",
   "metadata": {},
   "outputs": [
    {
     "data": {
      "text/plain": [
       "Ring(\n",
       "'Ex6',\n",
       "'Example 6: http://www-groups.mcs.st-andrews.ac.uk/~john/MT4517/Lectures/L3.html',\n",
       "['0', 'a', 'b', 'c'],\n",
       "[[0, 1, 2, 3], [1, 0, 3, 2], [2, 3, 0, 1], [3, 2, 1, 0]],\n",
       "[[0, 0, 0, 0], [0, 0, 1, 1], [0, 0, 2, 2], [0, 0, 3, 3]]\n",
       ")"
      ]
     },
     "execution_count": 38,
     "metadata": {},
     "output_type": "execute_result"
    }
   ],
   "source": [
    "ex6"
   ]
  },
  {
   "cell_type": "markdown",
   "id": "87eb157f",
   "metadata": {},
   "source": [
    "The **additive portion** of this example ring is a commutative Group, as expected:"
   ]
  },
  {
   "cell_type": "code",
   "execution_count": 39,
   "id": "d762fd72",
   "metadata": {},
   "outputs": [
    {
     "name": "stdout",
     "output_type": "stream",
     "text": [
      "\n",
      "Group: Ex6.Add\n",
      "Instance ID: 140559254287312\n",
      "Description: Additive-only portion of Ex6\n",
      "Identity: 0\n",
      "Associative? Yes\n",
      "Commutative? Yes\n",
      "Elements:\n",
      "   Index   Name   Inverse  Order\n",
      "      0       0       0       1\n",
      "      1       a       a       2\n",
      "      2       b       b       2\n",
      "      3       c       c       2\n",
      "Cayley Table (showing indices):\n",
      "[[0, 1, 2, 3], [1, 0, 3, 2], [2, 3, 0, 1], [3, 2, 1, 0]]\n"
     ]
    }
   ],
   "source": [
    "ex6_add = ex6.extract_additive_algebra()\n",
    "ex6_add.about()"
   ]
  },
  {
   "cell_type": "markdown",
   "id": "078b6f4b",
   "metadata": {},
   "source": [
    "And, the **multiplicative portion** is a Semigroup:"
   ]
  },
  {
   "cell_type": "code",
   "execution_count": 40,
   "id": "76831321",
   "metadata": {},
   "outputs": [
    {
     "data": {
      "text/plain": [
       "Semigroup(\n",
       "'Ex6.Mult',\n",
       "'Multiplicative-only portion of Ex6',\n",
       "['0', 'a', 'b', 'c'],\n",
       "[[0, 0, 0, 0], [0, 0, 1, 1], [0, 0, 2, 2], [0, 0, 3, 3]]\n",
       ")"
      ]
     },
     "execution_count": 40,
     "metadata": {},
     "output_type": "execute_result"
    }
   ],
   "source": [
    "ex6_mult = ex6.extract_multiplicative_algebra()\n",
    "ex6_mult"
   ]
  },
  {
   "cell_type": "markdown",
   "id": "56592fa4",
   "metadata": {},
   "source": [
    "### Autogenerating a Commutative Ring"
   ]
  },
  {
   "cell_type": "markdown",
   "id": "4c0a3e81",
   "metadata": {},
   "source": [
    "The function, ``generate_algebra_mod_n``, is based on [example 2 here](http://www-groups.mcs.st-andrews.ac.uk/~john/MT4517/Lectures/L3.html) and in [Wikipedia here](https://en.wikipedia.org/wiki/Finite_field#Field_with_four_elements).  The $+$ and $\\times$ operations are the usual integer addition and multiplication modulo the order (n), resp.\n",
    "\n",
    "As long as the order (n) is not prime the function ``generate_algebra_mod_n`` will produce a Ring, but for a prime order, it will produce a Field."
   ]
  },
  {
   "cell_type": "code",
   "execution_count": 41,
   "id": "752ad331",
   "metadata": {},
   "outputs": [],
   "source": [
    "from finite_algebras import generate_algebra_mod_n"
   ]
  },
  {
   "cell_type": "code",
   "execution_count": 42,
   "id": "ac459c64",
   "metadata": {
    "scrolled": true
   },
   "outputs": [
    {
     "data": {
      "text/plain": [
       "Ring(\n",
       "'R6',\n",
       "'Autogenerated Ring of integers mod 6',\n",
       "['a0', 'a1', 'a2', 'a3', 'a4', 'a5'],\n",
       "[[0, 1, 2, 3, 4, 5], [1, 2, 3, 4, 5, 0], [2, 3, 4, 5, 0, 1], [3, 4, 5, 0, 1, 2], [4, 5, 0, 1, 2, 3], [5, 0, 1, 2, 3, 4]],\n",
       "[[0, 0, 0, 0, 0, 0], [0, 1, 2, 3, 4, 5], [0, 2, 4, 0, 2, 4], [0, 3, 0, 3, 0, 3], [0, 4, 2, 0, 4, 2], [0, 5, 4, 3, 2, 1]]\n",
       ")"
      ]
     },
     "execution_count": 42,
     "metadata": {},
     "output_type": "execute_result"
    }
   ],
   "source": [
    "r6 = generate_algebra_mod_n(6)\n",
    "r6"
   ]
  },
  {
   "cell_type": "code",
   "execution_count": 43,
   "id": "c40183a7",
   "metadata": {},
   "outputs": [
    {
     "name": "stdout",
     "output_type": "stream",
     "text": [
      "\n",
      "Ring: R6\n",
      "Instance ID: 140559254313104\n",
      "Description: Autogenerated Ring of integers mod 6\n",
      "Identity: a0\n",
      "Associative? Yes\n",
      "Commutative? Yes\n",
      "Elements:\n",
      "   Index   Name   Inverse  Order\n",
      "      0      a0      a0       1\n",
      "      1      a1      a5       6\n",
      "      2      a2      a4       3\n",
      "      3      a3      a3       2\n",
      "      4      a4      a2       3\n",
      "      5      a5      a1       6\n",
      "Cayley Table (showing names):\n",
      "[['a0', 'a1', 'a2', 'a3', 'a4', 'a5'],\n",
      " ['a1', 'a2', 'a3', 'a4', 'a5', 'a0'],\n",
      " ['a2', 'a3', 'a4', 'a5', 'a0', 'a1'],\n",
      " ['a3', 'a4', 'a5', 'a0', 'a1', 'a2'],\n",
      " ['a4', 'a5', 'a0', 'a1', 'a2', 'a3'],\n",
      " ['a5', 'a0', 'a1', 'a2', 'a3', 'a4']]\n",
      "Mult. Identity: a1\n",
      "Mult. Commutative? Yes\n",
      "Multiplicative Cayley Table (showing names):\n",
      "[['a0', 'a0', 'a0', 'a0', 'a0', 'a0'],\n",
      " ['a0', 'a1', 'a2', 'a3', 'a4', 'a5'],\n",
      " ['a0', 'a2', 'a4', 'a0', 'a2', 'a4'],\n",
      " ['a0', 'a3', 'a0', 'a3', 'a0', 'a3'],\n",
      " ['a0', 'a4', 'a2', 'a0', 'a4', 'a2'],\n",
      " ['a0', 'a5', 'a4', 'a3', 'a2', 'a1']]\n"
     ]
    }
   ],
   "source": [
    "r6.about(use_table_names=True)"
   ]
  },
  {
   "cell_type": "markdown",
   "id": "5f6bfca0",
   "metadata": {},
   "source": [
    "**Extracting it's component algebras**\n",
    "\n",
    "In the following, we extract the component algebras of this Ring as a commutative Group and a Monoid.\n",
    "\n",
    "The Monoid occurs since this Ring's multiplicative portion includes a multiplicative identity element ('a1'), but does not include inverses of all elements."
   ]
  },
  {
   "cell_type": "code",
   "execution_count": 45,
   "id": "596adccb",
   "metadata": {},
   "outputs": [
    {
     "name": "stdout",
     "output_type": "stream",
     "text": [
      "\n",
      "Group: R6.Add\n",
      "Instance ID: 140559254310992\n",
      "Description: Additive-only portion of R6\n",
      "Identity: a0\n",
      "Associative? Yes\n",
      "Commutative? Yes\n",
      "Elements:\n",
      "   Index   Name   Inverse  Order\n",
      "      0      a0      a0       1\n",
      "      1      a1      a5       6\n",
      "      2      a2      a4       3\n",
      "      3      a3      a3       2\n",
      "      4      a4      a2       3\n",
      "      5      a5      a1       6\n",
      "Cayley Table (showing indices):\n",
      "[[0, 1, 2, 3, 4, 5],\n",
      " [1, 2, 3, 4, 5, 0],\n",
      " [2, 3, 4, 5, 0, 1],\n",
      " [3, 4, 5, 0, 1, 2],\n",
      " [4, 5, 0, 1, 2, 3],\n",
      " [5, 0, 1, 2, 3, 4]]\n"
     ]
    }
   ],
   "source": [
    "r6add = r6.extract_additive_algebra()\n",
    "r6add.about()"
   ]
  },
  {
   "cell_type": "code",
   "execution_count": 46,
   "id": "3cde6d4a",
   "metadata": {},
   "outputs": [
    {
     "name": "stdout",
     "output_type": "stream",
     "text": [
      "\n",
      "Monoid: R6.Mult\n",
      "Instance ID: 140558711154256\n",
      "Description: Multiplicative-only portion of R6\n",
      "Elements: ['a0', 'a1', 'a2', 'a3', 'a4', 'a5']\n",
      "Identity: a1\n",
      "Associative? Yes\n",
      "Commutative? Yes\n",
      "Has Inverses? No\n",
      "Cayley Table (showing indices):\n",
      "[[0, 0, 0, 0, 0, 0],\n",
      " [0, 1, 2, 3, 4, 5],\n",
      " [0, 2, 4, 0, 2, 4],\n",
      " [0, 3, 0, 3, 0, 3],\n",
      " [0, 4, 2, 0, 4, 2],\n",
      " [0, 5, 4, 3, 2, 1]]\n"
     ]
    }
   ],
   "source": [
    "r6mult = r6.extract_multiplicative_algebra()\n",
    "r6mult.about()"
   ]
  },
  {
   "cell_type": "markdown",
   "id": "a817b60f",
   "metadata": {},
   "source": [
    "## Fields"
   ]
  },
  {
   "cell_type": "markdown",
   "id": "e33a36d6",
   "metadata": {},
   "source": [
    "### Field with four elements"
   ]
  },
  {
   "cell_type": "markdown",
   "id": "7c864ec5",
   "metadata": {},
   "source": [
    "See Wikipedia: [\"Field with four elements\"](https://en.wikipedia.org/wiki/Finite_field#Field_with_four_elements)"
   ]
  },
  {
   "cell_type": "code",
   "execution_count": 47,
   "id": "7724813c",
   "metadata": {},
   "outputs": [
    {
     "name": "stdout",
     "output_type": "stream",
     "text": [
      "\n",
      "Field: F4\n",
      "Instance ID: 140559254194000\n",
      "Description: Field with 4 elements\n",
      "Identity: 0\n",
      "Associative? Yes\n",
      "Commutative? Yes\n",
      "Elements:\n",
      "   Index   Name   Inverse  Order\n",
      "      0       0       0       1\n",
      "      1       1       1       2\n",
      "      2       a       a       2\n",
      "      3     1+a     1+a       2\n",
      "Cayley Table (showing indices):\n",
      "[[0, 1, 2, 3], [1, 0, 3, 2], [2, 3, 0, 1], [3, 2, 1, 0]]\n",
      "Mult. Identity: 1\n",
      "Mult. Commutative? Yes\n",
      "Multiplicative Cayley Table (showing indices):\n",
      "[[0, 0, 0, 0], [0, 1, 2, 3], [0, 2, 3, 1], [0, 3, 1, 2]]\n"
     ]
    }
   ],
   "source": [
    "elems = ['0', '1', 'a', '1+a']\n",
    "\n",
    "add_table = [[ '0' ,  '1' ,  'a' , '1+a'],\n",
    "             [ '1' ,  '0' , '1+a',  'a' ],\n",
    "             [ 'a' , '1+a',  '0' ,  '1' ],\n",
    "             ['1+a',  'a' ,  '1' ,  '0' ]]\n",
    "\n",
    "mult_table = [['0',  '0' ,  '0' ,  '0' ],\n",
    "              ['0',  '1' ,  'a' , '1+a'],\n",
    "              ['0',  'a' , '1+a',  '1' ],\n",
    "              ['0', '1+a',  '1' ,  'a' ]]\n",
    "\n",
    "f4 = make_finite_algebra('F4',\n",
    "                         'Field with 4 elements',\n",
    "                         elems,\n",
    "                         add_table,\n",
    "                         mult_table\n",
    "                        )\n",
    "f4.about()"
   ]
  },
  {
   "cell_type": "markdown",
   "id": "d262786a",
   "metadata": {},
   "source": [
    "### Division in Fields"
   ]
  },
  {
   "cell_type": "markdown",
   "id": "4ac0eb26",
   "metadata": {},
   "source": [
    "Recall the definition of a Field, given at the beginning of this User Guide:\n",
    "\n",
    "**Field** -- a Ring $\\langle S, +, \\times \\rangle$, where $\\langle S\\setminus{\\{0\\}}, \\times \\rangle$ is a commutative Group."
   ]
  },
  {
   "cell_type": "markdown",
   "id": "4d9d2daf",
   "metadata": {},
   "source": [
    "### Autogenerated Prime Field"
   ]
  },
  {
   "cell_type": "markdown",
   "id": "e5d79f2b",
   "metadata": {},
   "source": [
    "The example here uses the function, ``generate_algebra_mod_n``, described above.  As noted above, if the order, n, is prime, then it will produce a Field."
   ]
  },
  {
   "cell_type": "code",
   "execution_count": 48,
   "id": "b3851908",
   "metadata": {},
   "outputs": [
    {
     "name": "stdout",
     "output_type": "stream",
     "text": [
      "\n",
      "Field: F7\n",
      "Instance ID: 140558988413328\n",
      "Description: Autogenerated Field of integers mod 7\n",
      "Identity: a0\n",
      "Associative? Yes\n",
      "Commutative? Yes\n",
      "Elements:\n",
      "   Index   Name   Inverse  Order\n",
      "      0      a0      a0       1\n",
      "      1      a1      a6       7\n",
      "      2      a2      a5       7\n",
      "      3      a3      a4       7\n",
      "      4      a4      a3       7\n",
      "      5      a5      a2       7\n",
      "      6      a6      a1       7\n",
      "Cayley Table (showing indices):\n",
      "[[0, 1, 2, 3, 4, 5, 6],\n",
      " [1, 2, 3, 4, 5, 6, 0],\n",
      " [2, 3, 4, 5, 6, 0, 1],\n",
      " [3, 4, 5, 6, 0, 1, 2],\n",
      " [4, 5, 6, 0, 1, 2, 3],\n",
      " [5, 6, 0, 1, 2, 3, 4],\n",
      " [6, 0, 1, 2, 3, 4, 5]]\n",
      "Mult. Identity: a1\n",
      "Mult. Commutative? Yes\n",
      "Multiplicative Cayley Table (showing indices):\n",
      "[[0, 0, 0, 0, 0, 0, 0],\n",
      " [0, 1, 2, 3, 4, 5, 6],\n",
      " [0, 2, 4, 6, 1, 3, 5],\n",
      " [0, 3, 6, 2, 5, 1, 4],\n",
      " [0, 4, 1, 5, 2, 6, 3],\n",
      " [0, 5, 3, 1, 6, 4, 2],\n",
      " [0, 6, 5, 4, 3, 2, 1]]\n"
     ]
    }
   ],
   "source": [
    "from finite_algebras import generate_algebra_mod_n\n",
    "\n",
    "f7 = generate_algebra_mod_n(7)\n",
    "f7.about()"
   ]
  },
  {
   "cell_type": "markdown",
   "id": "7ca92711",
   "metadata": {},
   "source": [
    "## Serialization"
   ]
  },
  {
   "cell_type": "markdown",
   "id": "fb87e6a2",
   "metadata": {},
   "source": [
    "Algebras can be converted to and from JSON strings/files and Python dictionaries."
   ]
  },
  {
   "cell_type": "markdown",
   "id": "b72a1fe8",
   "metadata": {},
   "source": [
    "### Instantiate Algebra from JSON File"
   ]
  },
  {
   "cell_type": "markdown",
   "id": "57cf13a0",
   "metadata": {},
   "source": [
    "First setup some path variables:\n",
    "\n",
    "* one that points to the abstract_algebra directory\n",
    "* and the other points to a subdirectory containing algebra definitions in JSON format\n",
    "\n",
    "Also, the code here assumes that there is an environment\n",
    "variable, ``PYPROJ``, that points to the parent directory of the abstract_algebra directory."
   ]
  },
  {
   "cell_type": "code",
   "execution_count": 49,
   "id": "4c52e6bc",
   "metadata": {},
   "outputs": [],
   "source": [
    ">>> import os\n",
    ">>> aa_path = os.path.join(os.getenv(\"PYPROJ\"), \"abstract_algebra\")\n",
    ">>> alg_dir = os.path.join(aa_path, \"Algebras\")"
   ]
  },
  {
   "cell_type": "markdown",
   "id": "ed9e99dc",
   "metadata": {},
   "source": [
    "Here's the **JSON file**:"
   ]
  },
  {
   "cell_type": "code",
   "execution_count": 50,
   "id": "841bf29a",
   "metadata": {},
   "outputs": [
    {
     "name": "stdout",
     "output_type": "stream",
     "text": [
      "{\"name\": \"V4\",\r\n",
      " \"description\": \"Klein-4 group\",\r\n",
      " \"elements\": [\"e\", \"h\", \"v\", \"r\"],\r\n",
      " \"table\": [[0, 1, 2, 3],\r\n",
      "           [1, 0, 3, 2],\r\n",
      "           [2, 3, 0, 1],\r\n",
      "           [3, 2, 1, 0]]\r\n",
      "}\r\n"
     ]
    }
   ],
   "source": [
    ">>> v4_json = os.path.join(alg_dir, \"v4_klein_4_group.json\")\n",
    "\n",
    ">>> !cat {v4_json}"
   ]
  },
  {
   "cell_type": "markdown",
   "id": "aac845cf",
   "metadata": {},
   "source": [
    "And, here's the **algebra**:"
   ]
  },
  {
   "cell_type": "code",
   "execution_count": 51,
   "id": "69a0fd4a",
   "metadata": {},
   "outputs": [
    {
     "data": {
      "text/plain": [
       "Group(\n",
       "'V4',\n",
       "'Klein-4 group',\n",
       "['e', 'h', 'v', 'r'],\n",
       "[[0, 1, 2, 3], [1, 0, 3, 2], [2, 3, 0, 1], [3, 2, 1, 0]]\n",
       ")"
      ]
     },
     "execution_count": 51,
     "metadata": {},
     "output_type": "execute_result"
    }
   ],
   "source": [
    ">>> v4 = make_finite_algebra(v4_json)\n",
    "\n",
    ">>> v4"
   ]
  },
  {
   "cell_type": "markdown",
   "id": "f8820181",
   "metadata": {},
   "source": [
    "### Convert Algebra to Python Dictionary"
   ]
  },
  {
   "cell_type": "code",
   "execution_count": 52,
   "id": "5e4a7857",
   "metadata": {},
   "outputs": [
    {
     "data": {
      "text/plain": [
       "{'name': 'V4',\n",
       " 'description': 'Klein-4 group',\n",
       " 'elements': ['e', 'h', 'v', 'r'],\n",
       " 'table': [[0, 1, 2, 3], [1, 0, 3, 2], [2, 3, 0, 1], [3, 2, 1, 0]]}"
      ]
     },
     "execution_count": 52,
     "metadata": {},
     "output_type": "execute_result"
    }
   ],
   "source": [
    ">>> v4_dict = v4.to_dict()\n",
    "\n",
    ">>> v4_dict"
   ]
  },
  {
   "cell_type": "markdown",
   "id": "87d1ec1f",
   "metadata": {},
   "source": [
    "### Instantiate Algebra from Python Dictionary"
   ]
  },
  {
   "cell_type": "code",
   "execution_count": 53,
   "id": "97fd1ab7",
   "metadata": {},
   "outputs": [
    {
     "data": {
      "text/plain": [
       "Group(\n",
       "'V4',\n",
       "'Klein-4 group',\n",
       "['e', 'h', 'v', 'r'],\n",
       "[[0, 1, 2, 3], [1, 0, 3, 2], [2, 3, 0, 1], [3, 2, 1, 0]]\n",
       ")"
      ]
     },
     "execution_count": 53,
     "metadata": {},
     "output_type": "execute_result"
    }
   ],
   "source": [
    ">>> v4_from_dict = make_finite_algebra(v4_dict)\n",
    "\n",
    ">>> v4_from_dict"
   ]
  },
  {
   "cell_type": "markdown",
   "id": "67fb9709",
   "metadata": {},
   "source": [
    "### Convert Algebra to JSON String"
   ]
  },
  {
   "cell_type": "code",
   "execution_count": 54,
   "id": "df91cb57",
   "metadata": {},
   "outputs": [
    {
     "data": {
      "text/plain": [
       "'{\"name\": \"V4\", \"description\": \"Klein-4 group\", \"elements\": [\"e\", \"h\", \"v\", \"r\"], \"table\": [[0, 1, 2, 3], [1, 0, 3, 2], [2, 3, 0, 1], [3, 2, 1, 0]]}'"
      ]
     },
     "execution_count": 54,
     "metadata": {},
     "output_type": "execute_result"
    }
   ],
   "source": [
    ">>> v4_json_string = v4.dumps()\n",
    "\n",
    ">>> v4_json_string"
   ]
  },
  {
   "cell_type": "markdown",
   "id": "11d9945c",
   "metadata": {},
   "source": [
    "**WARNING**: Although an algebra can be constructed by loading its definition from a JSON file, it cannot be constructed directly from a JSON string, because ``make_finite_algebra`` interprets a single string input as a JSON file name.  To load an algebra from a JSON string, first convert the string to a Python dictionary, then input that to ``make_finite_algebra``, as shown below:"
   ]
  },
  {
   "cell_type": "code",
   "execution_count": 55,
   "id": "892d8476",
   "metadata": {},
   "outputs": [
    {
     "data": {
      "text/plain": [
       "Group(\n",
       "'V4',\n",
       "'Klein-4 group',\n",
       "['e', 'h', 'v', 'r'],\n",
       "[[0, 1, 2, 3], [1, 0, 3, 2], [2, 3, 0, 1], [3, 2, 1, 0]]\n",
       ")"
      ]
     },
     "execution_count": 55,
     "metadata": {},
     "output_type": "execute_result"
    }
   ],
   "source": [
    ">>> import json\n",
    "\n",
    ">>> make_finite_algebra(json.loads(v4_json_string))"
   ]
  },
  {
   "cell_type": "markdown",
   "id": "978ce463",
   "metadata": {},
   "source": [
    "## Autogeneration of Finite Algebras\n",
    "\n",
    "There are several functions for autogenerating finite algebras of specified orders:\n",
    "\n",
    "**Groups**\n",
    "\n",
    "* ``generate_cyclic_group(order)``\n",
    "* ``generate_symmetric_group(order)``\n",
    "* ``generate_powerset_group(order)``\n",
    "\n",
    "**Monoid**\n",
    "\n",
    "* ``generate_commutative_monoid(order)``\n",
    "\n",
    "**Rings**\n",
    "\n",
    "* ``generate_powerset_ring``\n",
    "* ``generate_commutative_ring``"
   ]
  },
  {
   "cell_type": "markdown",
   "id": "92ad4202",
   "metadata": {},
   "source": [
    "### Autogenerated Cyclic Group"
   ]
  },
  {
   "cell_type": "markdown",
   "id": "15d962b7",
   "metadata": {},
   "source": [
    "A cyclic group of any desired order can be generated as follows:"
   ]
  },
  {
   "cell_type": "code",
   "execution_count": 56,
   "id": "18a0b598",
   "metadata": {},
   "outputs": [
    {
     "name": "stdout",
     "output_type": "stream",
     "text": [
      "\n",
      "Group: Z2\n",
      "Instance ID: 140559254288592\n",
      "Description: Autogenerated cyclic Group of order 2\n",
      "Identity: e\n",
      "Associative? Yes\n",
      "Commutative? Yes\n",
      "Elements:\n",
      "   Index   Name   Inverse  Order\n",
      "      0       e       e       1\n",
      "      1       a       a       2\n",
      "Cayley Table (showing indices):\n",
      "[[0, 1], [1, 0]]\n"
     ]
    }
   ],
   "source": [
    ">>> from finite_algebras import generate_cyclic_group\n",
    "\n",
    ">>> z2 = generate_cyclic_group(2)\n",
    "\n",
    ">>> z2.about()"
   ]
  },
  {
   "cell_type": "markdown",
   "id": "dc40f64a",
   "metadata": {},
   "source": [
    "### Autogenerated Symmetric Group"
   ]
  },
  {
   "cell_type": "markdown",
   "id": "53894dfc",
   "metadata": {},
   "source": [
    "The symmetric group, based on the permutations of <b>n</b> elements, (1, 2, 3, ..., n), can be generated as follows:\n",
    "\n",
    "**WARNING**: Since the order of an autogenerated symmetric group is **n!**, even a small value of **n** can result in a very large group."
   ]
  },
  {
   "cell_type": "code",
   "execution_count": 57,
   "id": "1e6303e5",
   "metadata": {},
   "outputs": [
    {
     "name": "stdout",
     "output_type": "stream",
     "text": [
      "\n",
      "Group: S3\n",
      "Instance ID: 140558711164624\n",
      "Description: Autogenerated symmetric Group on 3 elements\n",
      "Identity: (1, 2, 3)\n",
      "Associative? Yes\n",
      "Commutative? No\n",
      "Elements:\n",
      "   Index   Name   Inverse  Order\n",
      "      0 (1, 2, 3) (1, 2, 3)       1\n",
      "      1 (1, 3, 2) (1, 3, 2)       2\n",
      "      2 (2, 1, 3) (2, 1, 3)       2\n",
      "      3 (2, 3, 1) (3, 1, 2)       3\n",
      "      4 (3, 1, 2) (2, 3, 1)       3\n",
      "      5 (3, 2, 1) (3, 2, 1)       2\n",
      "Cayley Table (showing indices):\n",
      "[[0, 1, 2, 3, 4, 5],\n",
      " [1, 0, 4, 5, 2, 3],\n",
      " [2, 3, 0, 1, 5, 4],\n",
      " [3, 2, 5, 4, 0, 1],\n",
      " [4, 5, 1, 0, 3, 2],\n",
      " [5, 4, 3, 2, 1, 0]]\n"
     ]
    }
   ],
   "source": [
    ">>> from finite_algebras import generate_symmetric_group\n",
    "\n",
    ">>> s3 = generate_symmetric_group(3)\n",
    "\n",
    ">>> s3.about()"
   ]
  },
  {
   "cell_type": "markdown",
   "id": "505eb9ec",
   "metadata": {},
   "source": [
    "### Autogenerated Powerset Group\n",
    "\n",
    "The function, ``generate_powerset_group``, will generate a group on the powerset of {0, 1, 2, ..., n} with **symmetric difference** as the group's binary operation.  This group is useful because it can be used to form a ring with set intersection as the second operator.\n",
    "\n",
    "This means that the order of the autogenerated powerset group will be $2^n$, so the same WARNING as above applies with regard to large values of n."
   ]
  },
  {
   "cell_type": "code",
   "execution_count": 58,
   "id": "c5ff5cf4",
   "metadata": {},
   "outputs": [
    {
     "name": "stdout",
     "output_type": "stream",
     "text": [
      "\n",
      "Group: PS3\n",
      "Instance ID: 140559254298192\n",
      "Description: Autogenerated Group on the powerset of 3 elements, with symmetric difference operator\n",
      "Identity: {}\n",
      "Associative? Yes\n",
      "Commutative? Yes\n",
      "Elements:\n",
      "   Index   Name   Inverse  Order\n",
      "      0      {}      {}       1\n",
      "      1     {0}     {0}       2\n",
      "      2     {1}     {1}       2\n",
      "      3     {2}     {2}       2\n",
      "      4  {0, 1}  {0, 1}       2\n",
      "      5  {0, 2}  {0, 2}       2\n",
      "      6  {1, 2}  {1, 2}       2\n",
      "      7 {0, 1, 2} {0, 1, 2}       2\n",
      "Cayley Table (showing indices):\n",
      "[[0, 1, 2, 3, 4, 5, 6, 7],\n",
      " [1, 0, 4, 5, 2, 3, 7, 6],\n",
      " [2, 4, 0, 6, 1, 7, 3, 5],\n",
      " [3, 5, 6, 0, 7, 1, 2, 4],\n",
      " [4, 2, 1, 7, 0, 6, 5, 3],\n",
      " [5, 3, 7, 1, 6, 0, 4, 2],\n",
      " [6, 7, 3, 2, 5, 4, 0, 1],\n",
      " [7, 6, 5, 4, 3, 2, 1, 0]]\n"
     ]
    }
   ],
   "source": [
    ">>> from finite_algebras import generate_powerset_group\n",
    "\n",
    ">>> ps3 = generate_powerset_group(3)\n",
    "\n",
    ">>> ps3.about()"
   ]
  },
  {
   "cell_type": "markdown",
   "id": "69326b90",
   "metadata": {},
   "source": [
    "### Autogenerated Monoid"
   ]
  },
  {
   "cell_type": "code",
   "execution_count": 59,
   "id": "7c337116",
   "metadata": {},
   "outputs": [
    {
     "name": "stdout",
     "output_type": "stream",
     "text": [
      "\n",
      "Monoid: M7\n",
      "Instance ID: 140559530367376\n",
      "Description: Autogenerated commutative Monoid of order 7\n",
      "Elements: ['a0', 'a1', 'a2', 'a3', 'a4', 'a5', 'a6']\n",
      "Identity: a1\n",
      "Associative? Yes\n",
      "Commutative? Yes\n",
      "Has Inverses? No\n",
      "Cayley Table (showing indices):\n",
      "[[0, 0, 0, 0, 0, 0, 0],\n",
      " [0, 1, 2, 3, 4, 5, 6],\n",
      " [0, 2, 4, 6, 1, 3, 5],\n",
      " [0, 3, 6, 2, 5, 1, 4],\n",
      " [0, 4, 1, 5, 2, 6, 3],\n",
      " [0, 5, 3, 1, 6, 4, 2],\n",
      " [0, 6, 5, 4, 3, 2, 1]]\n"
     ]
    }
   ],
   "source": [
    ">>> from finite_algebras import generate_commutative_monoid\n",
    "\n",
    ">>> m7 = generate_commutative_monoid(7)\n",
    "\n",
    ">>> m7.about()"
   ]
  },
  {
   "cell_type": "markdown",
   "id": "1ca5834d",
   "metadata": {},
   "source": [
    "## Direct Products"
   ]
  },
  {
   "cell_type": "markdown",
   "id": "6a28cb80",
   "metadata": {},
   "source": [
    "The **direct product** of two or more algebras can be generated using Python's multiplication operator, ``*``:"
   ]
  },
  {
   "cell_type": "markdown",
   "id": "85f1385b",
   "metadata": {},
   "source": [
    "### Direct Product of Multiple Groups"
   ]
  },
  {
   "cell_type": "code",
   "execution_count": 60,
   "id": "518be38b",
   "metadata": {},
   "outputs": [
    {
     "name": "stdout",
     "output_type": "stream",
     "text": [
      "\n",
      "Group: Z2_x_Z2_x_Z2\n",
      "Instance ID: 140559530368848\n",
      "Description: Direct product of Z2_x_Z2 & Z2\n",
      "Identity: e:e:e\n",
      "Associative? Yes\n",
      "Commutative? Yes\n",
      "Elements:\n",
      "   Index   Name   Inverse  Order\n",
      "      0   e:e:e   e:e:e       1\n",
      "      1   e:e:a   e:e:a       2\n",
      "      2   e:a:e   e:a:e       2\n",
      "      3   e:a:a   e:a:a       2\n",
      "      4   a:e:e   a:e:e       2\n",
      "      5   a:e:a   a:e:a       2\n",
      "      6   a:a:e   a:a:e       2\n",
      "      7   a:a:a   a:a:a       2\n",
      "Cayley Table (showing indices):\n",
      "[[0, 1, 2, 3, 4, 5, 6, 7],\n",
      " [1, 0, 3, 2, 5, 4, 7, 6],\n",
      " [2, 3, 0, 1, 6, 7, 4, 5],\n",
      " [3, 2, 1, 0, 7, 6, 5, 4],\n",
      " [4, 5, 6, 7, 0, 1, 2, 3],\n",
      " [5, 4, 7, 6, 1, 0, 3, 2],\n",
      " [6, 7, 4, 5, 2, 3, 0, 1],\n",
      " [7, 6, 5, 4, 3, 2, 1, 0]]\n"
     ]
    }
   ],
   "source": [
    ">>> z2_cubed = z2 * z2 * z2\n",
    "\n",
    ">>> z2_cubed.about()"
   ]
  },
  {
   "cell_type": "markdown",
   "id": "ebbc6bb4",
   "metadata": {},
   "source": [
    "### Direct Product of Monoids"
   ]
  },
  {
   "cell_type": "code",
   "execution_count": 61,
   "id": "0bacc68c",
   "metadata": {},
   "outputs": [
    {
     "data": {
      "text/plain": [
       "Monoid(\n",
       "'M3',\n",
       "'Autogenerated commutative Monoid of order 3',\n",
       "['a0', 'a1', 'a2'],\n",
       "[[0, 0, 0], [0, 1, 2], [0, 2, 1]]\n",
       ")"
      ]
     },
     "execution_count": 61,
     "metadata": {},
     "output_type": "execute_result"
    }
   ],
   "source": [
    ">>> mon3 = generate_commutative_monoid(3)\n",
    "\n",
    ">>> mon3"
   ]
  },
  {
   "cell_type": "code",
   "execution_count": 62,
   "id": "a2106135",
   "metadata": {},
   "outputs": [
    {
     "name": "stdout",
     "output_type": "stream",
     "text": [
      "\n",
      "Monoid: M3_x_M3\n",
      "Instance ID: 140558711161168\n",
      "Description: Direct product of M3 & M3\n",
      "Elements: ['a0:a0', 'a0:a1', 'a0:a2', 'a1:a0', 'a1:a1', 'a1:a2', 'a2:a0', 'a2:a1', 'a2:a2']\n",
      "Identity: a1:a1\n",
      "Associative? Yes\n",
      "Commutative? Yes\n",
      "Has Inverses? No\n",
      "Cayley Table (showing indices):\n",
      "[[0, 0, 0, 0, 0, 0, 0, 0, 0],\n",
      " [0, 1, 2, 0, 1, 2, 0, 1, 2],\n",
      " [0, 2, 1, 0, 2, 1, 0, 2, 1],\n",
      " [0, 0, 0, 3, 3, 3, 6, 6, 6],\n",
      " [0, 1, 2, 3, 4, 5, 6, 7, 8],\n",
      " [0, 2, 1, 3, 5, 4, 6, 8, 7],\n",
      " [0, 0, 0, 6, 6, 6, 3, 3, 3],\n",
      " [0, 1, 2, 6, 7, 8, 3, 4, 5],\n",
      " [0, 2, 1, 6, 8, 7, 3, 5, 4]]\n"
     ]
    }
   ],
   "source": [
    ">>> m3_sqr = mon3 * mon3\n",
    ">>> m3_sqr.about()"
   ]
  },
  {
   "cell_type": "markdown",
   "id": "153956a0",
   "metadata": {},
   "source": [
    "## Isomorphisms"
   ]
  },
  {
   "cell_type": "markdown",
   "id": "7826d96c",
   "metadata": {},
   "source": [
    "If two groups are isomorphic, then the mapping between their elements is returned as a Python dictionary.\n",
    "\n",
    "Here'a a well-known example, using two small groups created above:"
   ]
  },
  {
   "cell_type": "markdown",
   "id": "45e682b6",
   "metadata": {},
   "source": [
    "### Group Isomorphism"
   ]
  },
  {
   "cell_type": "code",
   "execution_count": 63,
   "id": "aa021177",
   "metadata": {},
   "outputs": [
    {
     "data": {
      "text/plain": [
       "{'e': 'e:e', 'h': 'e:a', 'v': 'a:e', 'r': 'a:a'}"
      ]
     },
     "execution_count": 63,
     "metadata": {},
     "output_type": "execute_result"
    }
   ],
   "source": [
    ">>> z2_sqr = z2 * z2\n",
    "\n",
    ">>> v4.isomorphic(z2_sqr)"
   ]
  },
  {
   "cell_type": "markdown",
   "id": "625577c1",
   "metadata": {},
   "source": [
    "If two groups are not isomorphic, then ``False`` is returned."
   ]
  },
  {
   "cell_type": "code",
   "execution_count": 64,
   "id": "7d13a633",
   "metadata": {},
   "outputs": [
    {
     "data": {
      "text/plain": [
       "False"
      ]
     },
     "execution_count": 64,
     "metadata": {},
     "output_type": "execute_result"
    }
   ],
   "source": [
    ">>> z4 = generate_cyclic_group(4)\n",
    "\n",
    ">>> z4.isomorphic(z2_sqr)"
   ]
  },
  {
   "cell_type": "markdown",
   "id": "a6184d4c",
   "metadata": {},
   "source": [
    "### Magma Isomorphism"
   ]
  },
  {
   "cell_type": "markdown",
   "id": "750f3d99",
   "metadata": {},
   "source": [
    "**Water, Fire, Stick Magma**"
   ]
  },
  {
   "cell_type": "markdown",
   "id": "426b6b69",
   "metadata": {},
   "source": [
    "A made-up Magma, similar to Rock, Paper, Scissors:\n",
    "\n",
    "* Water quenches Fire\n",
    "* Fire burns Stick\n",
    "* Stick floats on Water"
   ]
  },
  {
   "cell_type": "code",
   "execution_count": 65,
   "id": "87ca5732",
   "metadata": {},
   "outputs": [
    {
     "data": {
      "text/plain": [
       "Magma(\n",
       "'WFS',\n",
       "'Water, Fire, Stick Magma',\n",
       "['water', 'fire', 'stick'],\n",
       "[[0, 0, 2], [0, 1, 1], [2, 1, 2]]\n",
       ")"
      ]
     },
     "execution_count": 65,
     "metadata": {},
     "output_type": "execute_result"
    }
   ],
   "source": [
    "wfs = make_finite_algebra('WFS',\n",
    "                          'Water, Fire, Stick Magma',\n",
    "                          ['water', 'fire', 'stick'],\n",
    "                          [[0, 0, 2],\n",
    "                           [0, 1, 1],\n",
    "                           [2, 1, 2]])\n",
    "wfs"
   ]
  },
  {
   "cell_type": "markdown",
   "id": "745062b3",
   "metadata": {},
   "source": [
    "Here's the isomorphism between rps and wfs:"
   ]
  },
  {
   "cell_type": "code",
   "execution_count": 66,
   "id": "f5b97a8c",
   "metadata": {},
   "outputs": [
    {
     "data": {
      "text/plain": [
       "{'r': 'water', 'p': 'stick', 's': 'fire'}"
      ]
     },
     "execution_count": 66,
     "metadata": {},
     "output_type": "execute_result"
    }
   ],
   "source": [
    "rps.isomorphic(wfs)"
   ]
  },
  {
   "cell_type": "markdown",
   "id": "208fde5c",
   "metadata": {},
   "source": [
    "## Subalgebras (Subgroups)"
   ]
  },
  {
   "cell_type": "markdown",
   "id": "077d92c1",
   "metadata": {},
   "source": [
    "### Proper Subgroups"
   ]
  },
  {
   "cell_type": "code",
   "execution_count": 67,
   "id": "f82f138e",
   "metadata": {},
   "outputs": [
    {
     "data": {
      "text/plain": [
       "[Group(\n",
       " 'Z8_subalgebra_0',\n",
       " 'Subalgebra of: Autogenerated cyclic Group of order 8',\n",
       " ['e', 'a^2', 'a^4', 'a^6'],\n",
       " [[0, 1, 2, 3], [1, 2, 3, 0], [2, 3, 0, 1], [3, 0, 1, 2]]\n",
       " ),\n",
       " Group(\n",
       " 'Z8_subalgebra_1',\n",
       " 'Subalgebra of: Autogenerated cyclic Group of order 8',\n",
       " ['e', 'a^4'],\n",
       " [[0, 1], [1, 0]]\n",
       " )]"
      ]
     },
     "execution_count": 67,
     "metadata": {},
     "output_type": "execute_result"
    }
   ],
   "source": [
    ">>> z8 = generate_cyclic_group(8)\n",
    "\n",
    ">>> z8.proper_subalgebras()"
   ]
  },
  {
   "cell_type": "markdown",
   "id": "8dc24d76",
   "metadata": {},
   "source": [
    "### Proper Subgroups up to Isomorphism"
   ]
  },
  {
   "cell_type": "code",
   "execution_count": 68,
   "id": "7e3ce6c1",
   "metadata": {},
   "outputs": [
    {
     "name": "stdout",
     "output_type": "stream",
     "text": [
      "PS3 has 14 proper subalgebras.\n",
      "But, up to isomorphisms, only 2 are proper and unique.\n"
     ]
    }
   ],
   "source": [
    ">>> from finite_algebras import partition_into_isomorphic_lists\n",
    "\n",
    ">>> ps3_proper_subalgebras = ps3.proper_subalgebras()\n",
    "\n",
    ">>> print(f\"{ps3.name} has {len(ps3_proper_subalgebras)} proper subalgebras.\")\n",
    "\n",
    ">>> unique_subalgebras = partition_into_isomorphic_lists(ps3_proper_subalgebras)\n",
    "\n",
    ">>> print(f\"But, up to isomorphisms, only {len(unique_subalgebras)} are proper and unique.\")"
   ]
  },
  {
   "cell_type": "markdown",
   "id": "e6206bfa",
   "metadata": {},
   "source": [
    "The function, ``partition_into_isomorphic_lists``, does just that; it partitions a list of groups (subgroups in this case) into a list of lists, where each sublist contains groups that are all isomophic to each other.\n",
    "\n",
    "So, in the following, the ``about`` method is called on the first group of each sublist:"
   ]
  },
  {
   "cell_type": "code",
   "execution_count": 69,
   "id": "2c093ceb",
   "metadata": {},
   "outputs": [
    {
     "name": "stdout",
     "output_type": "stream",
     "text": [
      "\n",
      "Group: PS3_subalgebra_0\n",
      "Instance ID: 140558711121232\n",
      "Description: Subalgebra of: Autogenerated Group on the powerset of 3 elements, with symmetric difference operator\n",
      "Identity: {}\n",
      "Associative? Yes\n",
      "Commutative? Yes\n",
      "Elements:\n",
      "   Index   Name   Inverse  Order\n",
      "      0      {}      {}       1\n",
      "      1     {0}     {0}       2\n",
      "Cayley Table (showing indices):\n",
      "[[0, 1], [1, 0]]\n",
      "\n",
      "Group: PS3_subalgebra_2\n",
      "Instance ID: 140558711121680\n",
      "Description: Subalgebra of: Autogenerated Group on the powerset of 3 elements, with symmetric difference operator\n",
      "Identity: {}\n",
      "Associative? Yes\n",
      "Commutative? Yes\n",
      "Elements:\n",
      "   Index   Name   Inverse  Order\n",
      "      0      {}      {}       1\n",
      "      1     {0}     {0}       2\n",
      "      2     {1}     {1}       2\n",
      "      3  {0, 1}  {0, 1}       2\n",
      "Cayley Table (showing indices):\n",
      "[[0, 1, 2, 3], [1, 0, 3, 2], [2, 3, 0, 1], [3, 2, 1, 0]]\n"
     ]
    }
   ],
   "source": [
    ">>> _ = [subalg[0].about() for subalg in unique_subalgebras]"
   ]
  },
  {
   "cell_type": "markdown",
   "id": "aeffdc7f",
   "metadata": {},
   "source": [
    "### Subalgebras of Semigroups, Etc."
   ]
  },
  {
   "cell_type": "markdown",
   "id": "8a54b53f",
   "metadata": {},
   "source": [
    "Recall the Semigroup example from above:"
   ]
  },
  {
   "cell_type": "code",
   "execution_count": 70,
   "id": "476a7f0d",
   "metadata": {},
   "outputs": [
    {
     "name": "stdout",
     "output_type": "stream",
     "text": [
      "\n",
      "Semigroup: Example 1.4.1\n",
      "Instance ID: 140559530326992\n",
      "Description: See: Groupoids and Smarandache Groupoids by W. B. Vasantha Kandasamy\n",
      "Elements: ['a', 'b', 'c', 'd', 'e', 'f']\n",
      "Identity: None\n",
      "Associative? Yes\n",
      "Commutative? No\n",
      "Has Inverses? No\n",
      "Cayley Table (showing indices):\n",
      "[[0, 3, 0, 3, 0, 3],\n",
      " [1, 4, 1, 4, 1, 4],\n",
      " [2, 5, 2, 5, 2, 5],\n",
      " [3, 0, 3, 0, 3, 0],\n",
      " [4, 1, 4, 1, 4, 1],\n",
      " [5, 2, 5, 2, 5, 2]]\n"
     ]
    }
   ],
   "source": [
    "sg.about()"
   ]
  },
  {
   "cell_type": "markdown",
   "id": "3610f982",
   "metadata": {},
   "source": [
    "It contains 10 proper subalgebras, including 7 Semigroups and 3 Groups, as shown below:"
   ]
  },
  {
   "cell_type": "code",
   "execution_count": 71,
   "id": "9227588f",
   "metadata": {},
   "outputs": [
    {
     "name": "stdout",
     "output_type": "stream",
     "text": [
      "<Semigroup:Example 1.4.1_subalgebra_0, ID:140558711185360>\n",
      "   Order: 3\n",
      "   Elements: ['a', 'c', 'e']\n",
      "<Group:Example 1.4.1_subalgebra_1, ID:140558711184720>\n",
      "   Order: 2\n",
      "   Elements: ['b', 'e']\n",
      "<Group:Example 1.4.1_subalgebra_2, ID:140558711184976>\n",
      "   Order: 2\n",
      "   Elements: ['a', 'd']\n",
      "<Semigroup:Example 1.4.1_subalgebra_3, ID:140558711184784>\n",
      "   Order: 4\n",
      "   Elements: ['a', 'c', 'd', 'f']\n",
      "<Semigroup:Example 1.4.1_subalgebra_4, ID:140558711183440>\n",
      "   Order: 4\n",
      "   Elements: ['b', 'c', 'e', 'f']\n",
      "<Semigroup:Example 1.4.1_subalgebra_5, ID:140559530417040>\n",
      "   Order: 2\n",
      "   Elements: ['a', 'c']\n",
      "<Semigroup:Example 1.4.1_subalgebra_6, ID:140559530414160>\n",
      "   Order: 2\n",
      "   Elements: ['c', 'e']\n",
      "<Semigroup:Example 1.4.1_subalgebra_7, ID:140559530324560>\n",
      "   Order: 4\n",
      "   Elements: ['a', 'b', 'd', 'e']\n",
      "<Group:Example 1.4.1_subalgebra_8, ID:140559530326032>\n",
      "   Order: 2\n",
      "   Elements: ['c', 'f']\n",
      "<Semigroup:Example 1.4.1_subalgebra_9, ID:140559530403344>\n",
      "   Order: 2\n",
      "   Elements: ['a', 'e']\n"
     ]
    }
   ],
   "source": [
    "sg_subs = sg.proper_subalgebras()\n",
    "_ = [print(f\"{sub}\\n   Order: {sub.order}\\n   Elements: {sub.elements}\") for sub in sg_subs]"
   ]
  },
  {
   "cell_type": "markdown",
   "id": "1ca3bed1",
   "metadata": {},
   "source": [
    "The list subalgebras of **sg** can be partitioned into 4 sublist of subalgebras, where, within each sublist, the subalgebras are isomorphic each other.  Here is the ``about`` info for the first subalgebra of each sublist:"
   ]
  },
  {
   "cell_type": "code",
   "execution_count": 72,
   "id": "8cd46d48",
   "metadata": {},
   "outputs": [
    {
     "name": "stdout",
     "output_type": "stream",
     "text": [
      "\n",
      "Semigroup: Example 1.4.1_subalgebra_0\n",
      "Instance ID: 140558711185360\n",
      "Description: Subalgebra of: See: Groupoids and Smarandache Groupoids by W. B. Vasantha Kandasamy\n",
      "Elements: ['a', 'c', 'e']\n",
      "Identity: None\n",
      "Associative? Yes\n",
      "Commutative? No\n",
      "Has Inverses? No\n",
      "Cayley Table (showing indices):\n",
      "[[0, 0, 0], [1, 1, 1], [2, 2, 2]]\n",
      "\n",
      "============================================================\n",
      "\n",
      "Group: Example 1.4.1_subalgebra_1\n",
      "Instance ID: 140558711184720\n",
      "Description: Subalgebra of: See: Groupoids and Smarandache Groupoids by W. B. Vasantha Kandasamy\n",
      "Identity: e\n",
      "Associative? Yes\n",
      "Commutative? Yes\n",
      "Elements:\n",
      "   Index   Name   Inverse  Order\n",
      "      0       b       b       2\n",
      "      1       e       e       1\n",
      "Cayley Table (showing indices):\n",
      "[[1, 0], [0, 1]]\n",
      "\n",
      "============================================================\n",
      "\n",
      "Semigroup: Example 1.4.1_subalgebra_3\n",
      "Instance ID: 140558711184784\n",
      "Description: Subalgebra of: See: Groupoids and Smarandache Groupoids by W. B. Vasantha Kandasamy\n",
      "Elements: ['a', 'c', 'd', 'f']\n",
      "Identity: None\n",
      "Associative? Yes\n",
      "Commutative? No\n",
      "Has Inverses? No\n",
      "Cayley Table (showing indices):\n",
      "[[0, 0, 2, 2], [1, 1, 3, 3], [2, 2, 0, 0], [3, 3, 1, 1]]\n",
      "\n",
      "============================================================\n",
      "\n",
      "Semigroup: Example 1.4.1_subalgebra_5\n",
      "Instance ID: 140559530417040\n",
      "Description: Subalgebra of: See: Groupoids and Smarandache Groupoids by W. B. Vasantha Kandasamy\n",
      "Elements: ['a', 'c']\n",
      "Identity: None\n",
      "Associative? Yes\n",
      "Commutative? No\n",
      "Has Inverses? No\n",
      "Cayley Table (showing indices):\n",
      "[[0, 0], [1, 1]]\n",
      "\n",
      "============================================================\n"
     ]
    }
   ],
   "source": [
    "parts = partition_into_isomorphic_lists(sg_subs)\n",
    "\n",
    "for part in parts:\n",
    "    part[0].about()\n",
    "    print(\"\\n\" + \"=\"*60)"
   ]
  },
  {
   "cell_type": "markdown",
   "id": "3c9c3d29",
   "metadata": {},
   "source": [
    "## Built-In Examples"
   ]
  },
  {
   "cell_type": "markdown",
   "id": "8a57f535",
   "metadata": {},
   "source": [
    "``Examples`` is a convenience class for accessing some of the example algebras in the algebras directory.  To add or subtract algebras to its default list, see the file, 'examples.json', in the algebras directory."
   ]
  },
  {
   "cell_type": "code",
   "execution_count": 73,
   "id": "b308234e",
   "metadata": {},
   "outputs": [
    {
     "name": "stdout",
     "output_type": "stream",
     "text": [
      "======================================================================\n",
      "                           Example Algebras\n",
      "----------------------------------------------------------------------\n",
      "  9 example algebras are available.\n",
      "  Use \"get_example(INDEX)\" to retrieve a specific example,\n",
      "  where INDEX is the first number on each line below:\n",
      "----------------------------------------------------------------------\n",
      "0: A4 -- Alternating group on 4 letters (AKA Tetrahedral group)\n",
      "1: D3 -- https://en.wikipedia.org/wiki/Dihedral_group_of_order_6\n",
      "2: D4 -- Dihedral group on four vertices\n",
      "3: Pinter29 -- Non-abelian group, p.29, 'A Book of Abstract Algebra' by Charles C. Pinter\n",
      "4: RPS -- Rock, Paper, Scissors Magma\n",
      "5: S3 -- Symmetric group on 3 letters\n",
      "6: S3X -- Another version of the symmetric group on 3 letters\n",
      "7: V4 -- Klein-4 group\n",
      "8: Z4 -- Cyclic group of order 4\n",
      "======================================================================\n"
     ]
    }
   ],
   "source": [
    "from finite_algebras import Examples\n",
    "\n",
    "ex = Examples(alg_dir)  # Requires path to directory containing algebras' JSON files"
   ]
  },
  {
   "cell_type": "code",
   "execution_count": 74,
   "id": "19bd8b18",
   "metadata": {
    "scrolled": false
   },
   "outputs": [
    {
     "name": "stdout",
     "output_type": "stream",
     "text": [
      "\n",
      "Group: Pinter29\n",
      "Instance ID: 140559254193616\n",
      "Description: Non-abelian group, p.29, 'A Book of Abstract Algebra' by Charles C. Pinter\n",
      "Identity: I\n",
      "Associative? Yes\n",
      "Commutative? No\n",
      "Elements:\n",
      "   Index   Name   Inverse  Order\n",
      "      0       I       I       1\n",
      "      1       A       A       2\n",
      "      2       B       D       3\n",
      "      3       C       C       2\n",
      "      4       D       B       3\n",
      "      5       K       K       2\n",
      "Cayley Table (showing indices):\n",
      "[[0, 1, 2, 3, 4, 5],\n",
      " [1, 0, 3, 2, 5, 4],\n",
      " [2, 5, 4, 1, 0, 3],\n",
      " [3, 4, 5, 0, 1, 2],\n",
      " [4, 3, 0, 5, 2, 1],\n",
      " [5, 2, 1, 4, 3, 0]]\n"
     ]
    }
   ],
   "source": [
    "grp = ex.get_example(3)\n",
    "grp.about()"
   ]
  },
  {
   "cell_type": "markdown",
   "id": "98517123",
   "metadata": {},
   "source": [
    "## Cayley Tables"
   ]
  },
  {
   "cell_type": "markdown",
   "id": "2b4bc750",
   "metadata": {},
   "source": [
    "Under normal usage, there should be no need to directly create Cayley Tables. This section, however, provides a brief glimse at the ``CayleyTable`` class.\n",
    "\n",
    "All of the properties of a finite algebra can be determined from its Cayley Table, or in the case of this Python module, its ``CayleyTable``.  That functionality is passed through to the appropriate methods of the various algebras.  Below, is a demonstration of how **distributivity** between two binary operations can be determined using their Cayley Tables."
   ]
  },
  {
   "cell_type": "markdown",
   "id": "c28eb6fe",
   "metadata": {},
   "source": [
    "The two tables, below, were generated from the powerset of a 3 element set, where \"addition\" is **symmetric difference** and \"multiplication\" is **intersection**.  Recall, the order of the powerset is $2^n$, where $n$ is the size of the set."
   ]
  },
  {
   "cell_type": "markdown",
   "id": "c06acba8",
   "metadata": {},
   "source": [
    "The element names are simply the string representations of the sets in the powerset:\n",
    "\n",
    "['{}', '{0}', '{1}', '{2}', '{0, 1}', '{0, 2}', '{1, 2}', '{0, 1, 2}']\n",
    "\n",
    "And the tables, below, contain the positions (indices) of the 8 elements in the powerset:"
   ]
  },
  {
   "cell_type": "code",
   "execution_count": 75,
   "id": "92502992",
   "metadata": {},
   "outputs": [],
   "source": [
    "addtbl = [[0, 1, 2, 3, 4, 5, 6, 7],\n",
    "          [1, 0, 4, 5, 2, 3, 7, 6],\n",
    "          [2, 4, 0, 6, 1, 7, 3, 5],\n",
    "          [3, 5, 6, 0, 7, 1, 2, 4],\n",
    "          [4, 2, 1, 7, 0, 6, 5, 3],\n",
    "          [5, 3, 7, 1, 6, 0, 4, 2],\n",
    "          [6, 7, 3, 2, 5, 4, 0, 1],\n",
    "          [7, 6, 5, 4, 3, 2, 1, 0]]"
   ]
  },
  {
   "cell_type": "code",
   "execution_count": 76,
   "id": "d8354846",
   "metadata": {},
   "outputs": [],
   "source": [
    "multbl = [[0, 0, 0, 0, 0, 0, 0, 0],\n",
    "          [0, 1, 0, 0, 1, 1, 0, 1],\n",
    "          [0, 0, 2, 0, 2, 0, 2, 2],\n",
    "          [0, 0, 0, 3, 0, 3, 3, 3],\n",
    "          [0, 1, 2, 0, 4, 1, 2, 4],\n",
    "          [0, 1, 0, 3, 1, 5, 3, 5],\n",
    "          [0, 0, 2, 3, 2, 3, 6, 6],\n",
    "          [0, 1, 2, 3, 4, 5, 6, 7]]"
   ]
  },
  {
   "cell_type": "code",
   "execution_count": 77,
   "id": "b1b0a40b",
   "metadata": {},
   "outputs": [],
   "source": [
    "from cayley_table import CayleyTable"
   ]
  },
  {
   "cell_type": "code",
   "execution_count": 78,
   "id": "f6d8778c",
   "metadata": {},
   "outputs": [
    {
     "name": "stdout",
     "output_type": "stream",
     "text": [
      "  Order  Associative?  Commutative?  Left Id?  Right Id?  Identity?  Inverses?\n",
      "-------------------------------------------------------------------------------------\n",
      "     8        True         True            0         0          0       True\n"
     ]
    }
   ],
   "source": [
    "addct = CayleyTable(addtbl)\n",
    "addct.about(True)"
   ]
  },
  {
   "cell_type": "code",
   "execution_count": 79,
   "id": "907b8f03",
   "metadata": {
    "scrolled": true
   },
   "outputs": [
    {
     "name": "stdout",
     "output_type": "stream",
     "text": [
      "  Order  Associative?  Commutative?  Left Id?  Right Id?  Identity?  Inverses?\n",
      "-------------------------------------------------------------------------------------\n",
      "     8        True         True            7         7          7      False\n"
     ]
    }
   ],
   "source": [
    "mulct = CayleyTable(multbl)\n",
    "mulct.about(True)"
   ]
  },
  {
   "cell_type": "markdown",
   "id": "7a361fb1",
   "metadata": {},
   "source": [
    "### Checking Tables for Distributivity"
   ]
  },
  {
   "cell_type": "markdown",
   "id": "8cac2078",
   "metadata": {},
   "source": [
    "Multiplication distributes over addition."
   ]
  },
  {
   "cell_type": "code",
   "execution_count": 80,
   "id": "b1f92ae0",
   "metadata": {},
   "outputs": [
    {
     "data": {
      "text/plain": [
       "True"
      ]
     },
     "execution_count": 80,
     "metadata": {},
     "output_type": "execute_result"
    }
   ],
   "source": [
    "mulct.distributes_over(addct)"
   ]
  },
  {
   "cell_type": "markdown",
   "id": "6c69b9d5",
   "metadata": {},
   "source": [
    "But, addition does not distribute over multiplication."
   ]
  },
  {
   "cell_type": "code",
   "execution_count": 81,
   "id": "bbad38dd",
   "metadata": {},
   "outputs": [
    {
     "data": {
      "text/plain": [
       "False"
      ]
     },
     "execution_count": 81,
     "metadata": {},
     "output_type": "execute_result"
    }
   ],
   "source": [
    "addct.distributes_over(mulct)"
   ]
  },
  {
   "cell_type": "markdown",
   "id": "c8cb721e",
   "metadata": {},
   "source": [
    "## Resources"
   ]
  },
  {
   "cell_type": "markdown",
   "id": "44c22d1c",
   "metadata": {},
   "source": [
    "* <b>Book</b>: [\"Visual Group Theory\" by Nathan Carter](https://bookstore.ams.org/clrm-32)\n",
    "* [Group Explorer](https://nathancarter.github.io/group-explorer/index.html) -- Visualization software for the abstract algebra classroom\n",
    "* [Groupprops, The Group Properties Wiki (beta)](https://groupprops.subwiki.org/wiki/Main_Page)\n",
    "* [GroupNames](https://people.maths.bris.ac.uk/~matyd/GroupNames/index.html) -- \"A database, under construction, of names, extensions, properties and character tables of finite groups of small order.\"\n",
    "* [GAP](https://www.gap-system.org/#:~:text=What%20is%20GAP%3F,data%20libraries%20of%20algebraic%20objects.) -- \"Groups, Algorithms, Programming - a System for Computational Discrete Algebra\"\n",
    "* [Groups of small order](http://www.math.ucsd.edu/~atparris/small_groups.html): Compiled by John Pedersen, Dept of Mathematics, University of South Florida\n",
    "* [List of small groups](https://en.wikipedia.org/wiki/List_of_small_groups): Finite groups of small order up to group isomorphism\n",
    "* [Classification of Groups of Order n ≤ 8 (PDF)](http://www2.lawrence.edu/fast/corrys/Math300/8Groups.pdf)\n",
    "* [Subgroups of Order 4 (PDF)](http://newton.uor.edu/facultyfolder/beery/abstract_algebra/08_SbgrpsOrder4.pdf)\n",
    "* Klein four-group, V4\n",
    "  * [Wikipedia](https://en.wikipedia.org/wiki/Klein_four-group)\n",
    "  * [Group Explorer](https://github.com/nathancarter/group-explorer/blob/master/groups/V_4.group)\n",
    "* Cyclic group\n",
    "  * [Wikipedia](https://en.wikipedia.org/wiki/Cyclic_group)\n",
    "  * [Z4, cyclic group of order 4](https://github.com/nathancarter/group-explorer/blob/master/groups/Z_4.group)\n",
    "* Symmetric group\n",
    "  * [Symmetric group on 3 letters](https://github.com/nathancarter/group-explorer/blob/master/groups/S_3.group). Another name for this group is <i>\"Dihedral group on 3 vertices\"</i>\n",
    "* [Groupoids and Smarandache Groupoids](https://arxiv.org/ftp/math/papers/0304/0304490.pdf) by W. B. Vasantha Kandasamy\n",
    "* [\"Rings and Fields\"](http://www-groups.mcs.st-andrews.ac.uk/~john/MT4517/index.html), John O'Connor & Edmund Robertson, School of Math. & Stat., Univ. of St Andrews, Scotland"
   ]
  },
  {
   "cell_type": "code",
   "execution_count": null,
   "id": "efd82ceb",
   "metadata": {},
   "outputs": [],
   "source": []
  }
 ],
 "metadata": {
  "kernelspec": {
   "display_name": "Python 3",
   "language": "python",
   "name": "python3"
  },
  "language_info": {
   "codemirror_mode": {
    "name": "ipython",
    "version": 3
   },
   "file_extension": ".py",
   "mimetype": "text/x-python",
   "name": "python",
   "nbconvert_exporter": "python",
   "pygments_lexer": "ipython3",
   "version": "3.7.7"
  }
 },
 "nbformat": 4,
 "nbformat_minor": 5
}
