{
 "cells": [
  {
   "cell_type": "markdown",
   "id": "b0e17887",
   "metadata": {},
   "source": [
    "# Abstract Algebras"
   ]
  },
  {
   "cell_type": "markdown",
   "id": "9fbfbf82",
   "metadata": {},
   "source": [
    "## References"
   ]
  },
  {
   "cell_type": "markdown",
   "id": "d7cc41b3",
   "metadata": {},
   "source": [
    "* [Group Explorer](https://nathancarter.github.io/group-explorer/index.html) -- Visualization software for the abstract algebra classroom\n",
    "* [Klein four-group, V4](https://en.wikipedia.org/wiki/Klein_four-group)\n",
    "* [Cyclic group](https://en.wikipedia.org/wiki/Cyclic_group)"
   ]
  },
  {
   "cell_type": "markdown",
   "id": "52870226",
   "metadata": {},
   "source": [
    "## Algebra Definition"
   ]
  },
  {
   "cell_type": "code",
   "execution_count": 1,
   "id": "311659d8",
   "metadata": {},
   "outputs": [],
   "source": [
    "class Algebra:\n",
    "    '''An abstract algebra with a finite number of elements and a multiplication table.'''\n",
    "    \n",
    "    def __init__(self, name, description, element_names, mult_table):\n",
    "        self.name = name\n",
    "        self.desc = description\n",
    "        self.elem_names = element_names\n",
    "        self.table = mult_table\n",
    "        # For efficiency, calculate the headers up front\n",
    "        self.col_header = self.table[0]\n",
    "        self.row_header = [row[0] for row in self.table]\n",
    "        \n",
    "    def __str__(self):\n",
    "        return f\"<{self.__class__.__name__}: {self.name}, {self.desc}>\"\n",
    "    \n",
    "    def __repr__(self):\n",
    "        return f\"{self.__class__.__name__}('{self.name}', '{self.desc}', {self.elem_names}, {self.table})\"\n",
    "    \n",
    "    def mult_table_with_names(self):\n",
    "        return [[self.elem_names[x] for x in row] for row in self.table]\n",
    "        \n",
    "    def mult(self, r, c):\n",
    "        '''Return the product of elements, r & c.\n",
    "        The inputs, r & c, can be numbers or strings, but if either\n",
    "        input is a number, then a number will be returned, otherwise\n",
    "        the product's element name (a string) will be returned.'''\n",
    "\n",
    "        # Table lookup requires numbers\n",
    "        r_ = r; c_ = c\n",
    "        str_result = False\n",
    "        if type(r) == str:\n",
    "            r_ = self.elem_names.index(r)\n",
    "            str_result = True\n",
    "        if type(c) == str:\n",
    "            c_ = self.elem_names.index(c)\n",
    "            str_result = True\n",
    "        \n",
    "        # Lookup the product based on the row & column indices\n",
    "        row_index = self.row_header.index(r_)\n",
    "        col_index = self.col_header.index(c_)\n",
    "        product = self.table[row_index][col_index]\n",
    "        \n",
    "        # If either input value was a string, then return a string,\n",
    "        # otherwise return a number\n",
    "        if str_result:\n",
    "            return self.elem_names[product]\n",
    "        else:\n",
    "            return product\n",
    "        \n",
    "    def elements(self):\n",
    "        return self.table[0]"
   ]
  },
  {
   "cell_type": "markdown",
   "id": "628831d0",
   "metadata": {},
   "source": [
    "## Group Definition"
   ]
  },
  {
   "cell_type": "code",
   "execution_count": 2,
   "id": "7c9f1f55",
   "metadata": {},
   "outputs": [],
   "source": [
    "class Group(Algebra):\n",
    "    pass"
   ]
  },
  {
   "cell_type": "markdown",
   "id": "f0e8cd97",
   "metadata": {},
   "source": [
    "### Klein four-group, V4"
   ]
  },
  {
   "cell_type": "code",
   "execution_count": 3,
   "id": "1542461e",
   "metadata": {},
   "outputs": [],
   "source": [
    "v4 = Group('V4',\n",
    "           'Klein four-group',\n",
    "           ['e',  'h',  'v', ' hv'],\n",
    "           [[0, 1, 2, 3],\n",
    "            [1, 0, 3, 2],\n",
    "            [2, 3, 0, 1],\n",
    "            [3, 2, 1, 0]]\n",
    "          )"
   ]
  },
  {
   "cell_type": "code",
   "execution_count": 4,
   "id": "d9ba7eab",
   "metadata": {},
   "outputs": [
    {
     "data": {
      "text/plain": [
       "[['e', 'h', 'v', ' hv'],\n",
       " ['h', 'e', ' hv', 'v'],\n",
       " ['v', ' hv', 'e', 'h'],\n",
       " [' hv', 'v', 'h', 'e']]"
      ]
     },
     "execution_count": 4,
     "metadata": {},
     "output_type": "execute_result"
    }
   ],
   "source": [
    "v4.mult_table_with_names()"
   ]
  },
  {
   "cell_type": "code",
   "execution_count": 5,
   "id": "04201350",
   "metadata": {},
   "outputs": [
    {
     "data": {
      "text/plain": [
       "' hv'"
      ]
     },
     "execution_count": 5,
     "metadata": {},
     "output_type": "execute_result"
    }
   ],
   "source": [
    "v4.mult('h','v')"
   ]
  },
  {
   "cell_type": "code",
   "execution_count": 6,
   "id": "97f7ad4e",
   "metadata": {},
   "outputs": [
    {
     "name": "stdout",
     "output_type": "stream",
     "text": [
      "<Group: V4, Klein four-group>\n"
     ]
    }
   ],
   "source": [
    "print(v4)"
   ]
  },
  {
   "cell_type": "markdown",
   "id": "85ded488",
   "metadata": {},
   "source": [
    "### Cyclic group of order 4"
   ]
  },
  {
   "cell_type": "code",
   "execution_count": 7,
   "id": "fd9413f1",
   "metadata": {},
   "outputs": [],
   "source": [
    "z4 = Group('Z4',\n",
    "           'Cyclic group of order 4',\n",
    "           ['e', 'a', 'a^2', 'a^3'],\n",
    "           [[0, 1, 2, 3],\n",
    "            [1, 2, 3, 0],\n",
    "            [2, 3, 0, 1],\n",
    "            [3, 0, 1, 2]]\n",
    "          )"
   ]
  },
  {
   "cell_type": "code",
   "execution_count": 8,
   "id": "7dc6b2cf",
   "metadata": {},
   "outputs": [
    {
     "data": {
      "text/plain": [
       "[['e', 'a', 'a^2', 'a^3'],\n",
       " ['a', 'a^2', 'a^3', 'e'],\n",
       " ['a^2', 'a^3', 'e', 'a'],\n",
       " ['a^3', 'e', 'a', 'a^2']]"
      ]
     },
     "execution_count": 8,
     "metadata": {},
     "output_type": "execute_result"
    }
   ],
   "source": [
    "z4.mult_table_with_names()"
   ]
  },
  {
   "cell_type": "code",
   "execution_count": 9,
   "id": "38aea878",
   "metadata": {},
   "outputs": [
    {
     "name": "stdout",
     "output_type": "stream",
     "text": [
      "<Group: Z4, Cyclic group of order 4>\n"
     ]
    }
   ],
   "source": [
    "print(z4)"
   ]
  },
  {
   "cell_type": "code",
   "execution_count": 10,
   "id": "dd32c71a",
   "metadata": {},
   "outputs": [
    {
     "data": {
      "text/plain": [
       "0"
      ]
     },
     "execution_count": 10,
     "metadata": {},
     "output_type": "execute_result"
    }
   ],
   "source": [
    "z4.mult(2,2)"
   ]
  },
  {
   "cell_type": "code",
   "execution_count": 11,
   "id": "7ae7cdde",
   "metadata": {},
   "outputs": [
    {
     "data": {
      "text/plain": [
       "'e'"
      ]
     },
     "execution_count": 11,
     "metadata": {},
     "output_type": "execute_result"
    }
   ],
   "source": [
    "z4.mult('a^2', 'a^2')"
   ]
  },
  {
   "cell_type": "markdown",
   "id": "69d93825",
   "metadata": {},
   "source": [
    "### Symmetric group on 3 letters"
   ]
  },
  {
   "cell_type": "code",
   "execution_count": 12,
   "id": "d9939f03",
   "metadata": {},
   "outputs": [],
   "source": [
    "s3 = Group('S3',\n",
    "           'Symmetric group on 3 letters',\n",
    "           ['e', 'r', 'r^2', 'f', 'fr', 'rf'],\n",
    "           [[0, 1, 2, 3, 4, 5],\n",
    "            [1, 2, 0, 5, 3, 4],\n",
    "            [2, 0, 1, 4, 5, 3],\n",
    "            [3, 4, 5, 0, 1, 2],\n",
    "            [4, 5, 3, 2, 0, 1],\n",
    "            [5, 3, 4, 1, 2, 0]]\n",
    "          )"
   ]
  },
  {
   "cell_type": "code",
   "execution_count": 13,
   "id": "6ad5d592",
   "metadata": {},
   "outputs": [
    {
     "data": {
      "text/plain": [
       "[['e', 'r', 'r^2', 'f', 'fr', 'rf'],\n",
       " ['r', 'r^2', 'e', 'rf', 'f', 'fr'],\n",
       " ['r^2', 'e', 'r', 'fr', 'rf', 'f'],\n",
       " ['f', 'fr', 'rf', 'e', 'r', 'r^2'],\n",
       " ['fr', 'rf', 'f', 'r^2', 'e', 'r'],\n",
       " ['rf', 'f', 'fr', 'r', 'r^2', 'e']]"
      ]
     },
     "execution_count": 13,
     "metadata": {},
     "output_type": "execute_result"
    }
   ],
   "source": [
    "s3.mult_table_with_names()"
   ]
  },
  {
   "cell_type": "code",
   "execution_count": 14,
   "id": "37c15c4f",
   "metadata": {},
   "outputs": [
    {
     "name": "stdout",
     "output_type": "stream",
     "text": [
      "<Group: S3, Symmetric group on 3 letters>\n"
     ]
    }
   ],
   "source": [
    "print(s3)"
   ]
  },
  {
   "cell_type": "code",
   "execution_count": 15,
   "id": "221e9105",
   "metadata": {},
   "outputs": [
    {
     "data": {
      "text/plain": [
       "'f'"
      ]
     },
     "execution_count": 15,
     "metadata": {},
     "output_type": "execute_result"
    }
   ],
   "source": [
    "s3.mult('fr', 'r^2')"
   ]
  },
  {
   "cell_type": "code",
   "execution_count": 16,
   "id": "57bfcdee",
   "metadata": {},
   "outputs": [
    {
     "data": {
      "text/plain": [
       "Group('S3', 'Symmetric group on 3 letters', ['e', 'r', 'r^2', 'f', 'fr', 'rf'], [[0, 1, 2, 3, 4, 5], [1, 2, 0, 5, 3, 4], [2, 0, 1, 4, 5, 3], [3, 4, 5, 0, 1, 2], [4, 5, 3, 2, 0, 1], [5, 3, 4, 1, 2, 0]])"
      ]
     },
     "execution_count": 16,
     "metadata": {},
     "output_type": "execute_result"
    }
   ],
   "source": [
    "s3"
   ]
  }
 ],
 "metadata": {
  "kernelspec": {
   "display_name": "Python 3",
   "language": "python",
   "name": "python3"
  },
  "language_info": {
   "codemirror_mode": {
    "name": "ipython",
    "version": 3
   },
   "file_extension": ".py",
   "mimetype": "text/x-python",
   "name": "python",
   "nbconvert_exporter": "python",
   "pygments_lexer": "ipython3",
   "version": "3.7.7"
  }
 },
 "nbformat": 4,
 "nbformat_minor": 5
}
