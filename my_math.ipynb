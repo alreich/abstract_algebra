{
 "cells": [
  {
   "cell_type": "markdown",
   "id": "e9aebe85-ffee-45dd-b817-66cd4cd315de",
   "metadata": {},
   "source": [
    "# My Math Functions"
   ]
  },
  {
   "cell_type": "markdown",
   "id": "25ffd0fa-29fc-4e78-82db-9feee6217cf4",
   "metadata": {},
   "source": [
    "These are fairly standard; why aren't they in the standard math library?"
   ]
  },
  {
   "cell_type": "code",
   "execution_count": 2,
   "id": "9fdcfe32-0ec2-4eef-aeab-4cd815f55b42",
   "metadata": {},
   "outputs": [],
   "source": [
    "import my_math as mm"
   ]
  },
  {
   "cell_type": "markdown",
   "id": "7b6e06f6-8ad5-423b-8d62-30488df45a06",
   "metadata": {},
   "source": [
    "## is_prime"
   ]
  },
  {
   "cell_type": "code",
   "execution_count": 40,
   "id": "b9387402-4ef3-42f1-b6a0-79135c37379a",
   "metadata": {},
   "outputs": [
    {
     "name": "stdout",
     "output_type": "stream",
     "text": [
      "Help on function is_prime in module my_math:\n",
      "\n",
      "is_prime(n)\n",
      "    Returns True if n is a positive, prime integer; otherwise, False is returned.\n",
      "\n"
     ]
    }
   ],
   "source": [
    "help(mm.is_prime)"
   ]
  },
  {
   "cell_type": "code",
   "execution_count": 18,
   "id": "6ad00992-5f9f-4c8c-ac1e-0edc4cab47f3",
   "metadata": {},
   "outputs": [
    {
     "name": "stdout",
     "output_type": "stream",
     "text": [
      "Prime numbers less than 17:\n",
      "2\n",
      "3\n",
      "5\n",
      "7\n",
      "11\n",
      "13\n"
     ]
    }
   ],
   "source": [
    "n = 17\n",
    "print(f\"Prime numbers less than {n}:\")\n",
    "for x in range(n):\n",
    "    if mm.is_prime(x):\n",
    "        print(x)"
   ]
  },
  {
   "cell_type": "markdown",
   "id": "7b230557-333f-4c6d-8c29-cd2c2577ea5f",
   "metadata": {},
   "source": [
    "## is_relatively_prime"
   ]
  },
  {
   "cell_type": "code",
   "execution_count": 41,
   "id": "3dd9194c-a942-4f28-a46e-b9cd9452b01e",
   "metadata": {},
   "outputs": [
    {
     "name": "stdout",
     "output_type": "stream",
     "text": [
      "Help on function is_relatively_prime in module my_math:\n",
      "\n",
      "is_relatively_prime(n, m)\n",
      "    Return True if n & m are relatively prime, otherwise return False.\n",
      "\n"
     ]
    }
   ],
   "source": [
    "help(mm.is_relatively_prime)"
   ]
  },
  {
   "cell_type": "code",
   "execution_count": 24,
   "id": "44d9649e-7547-47a2-807a-73c69bb932c9",
   "metadata": {},
   "outputs": [
    {
     "name": "stdout",
     "output_type": "stream",
     "text": [
      "Non-prime numbers in [2, 17) that are relatively prime:\n",
      "4 9\n",
      "4 15\n",
      "8 9\n",
      "8 15\n",
      "9 10\n",
      "9 14\n",
      "9 16\n",
      "14 15\n",
      "15 16\n"
     ]
    }
   ],
   "source": [
    "m = 2\n",
    "print(f\"Non-prime numbers in [{m}, {n}) that are relatively prime:\")\n",
    "for x in range(m, n):\n",
    "    for y in range(x, n):\n",
    "        if not (mm.is_prime(x) or mm.is_prime(y)):\n",
    "            if mm.is_relatively_prime(x, y):\n",
    "                print(x, y)"
   ]
  },
  {
   "cell_type": "markdown",
   "id": "5c90791f-beb8-4da2-a550-df03bee1d53e",
   "metadata": {},
   "source": [
    "## relative_primes"
   ]
  },
  {
   "cell_type": "code",
   "execution_count": 43,
   "id": "9c6f87f6-2812-4707-abf7-31505e3f4ce7",
   "metadata": {},
   "outputs": [
    {
     "name": "stdout",
     "output_type": "stream",
     "text": [
      "Help on function relative_primes in module my_math:\n",
      "\n",
      "relative_primes(n)\n",
      "    Return the list of relative primes that are less than n.\n",
      "\n"
     ]
    }
   ],
   "source": [
    "help(mm.relative_primes)"
   ]
  },
  {
   "cell_type": "code",
   "execution_count": 32,
   "id": "7b645084-26d8-4055-b2e9-1b754c671947",
   "metadata": {},
   "outputs": [
    {
     "name": "stdout",
     "output_type": "stream",
     "text": [
      "Relative primes less than 12:\n"
     ]
    },
    {
     "data": {
      "text/plain": [
       "[1, 5, 7, 11]"
      ]
     },
     "execution_count": 32,
     "metadata": {},
     "output_type": "execute_result"
    }
   ],
   "source": [
    "k = 12\n",
    "print(f\"Relative primes less than {k}:\")\n",
    "mm.relative_primes(k)"
   ]
  },
  {
   "cell_type": "markdown",
   "id": "f5fba861-943a-4fae-b1c9-8576aa6fb3ab",
   "metadata": {},
   "source": [
    "## totient"
   ]
  },
  {
   "cell_type": "code",
   "execution_count": 44,
   "id": "b0423182-473d-463e-a336-680122b21dd0",
   "metadata": {},
   "outputs": [
    {
     "name": "stdout",
     "output_type": "stream",
     "text": [
      "Help on function totient in module my_math:\n",
      "\n",
      "totient(n)\n",
      "    Return the number of relative primes less than n.\n",
      "\n"
     ]
    }
   ],
   "source": [
    "help(mm.totient)"
   ]
  },
  {
   "cell_type": "code",
   "execution_count": 34,
   "id": "1c9ce0f9-8be8-4ed4-b2ce-9b0e953905d7",
   "metadata": {},
   "outputs": [
    {
     "name": "stdout",
     "output_type": "stream",
     "text": [
      "The number of relative primes less than 12:\n"
     ]
    },
    {
     "data": {
      "text/plain": [
       "4"
      ]
     },
     "execution_count": 34,
     "metadata": {},
     "output_type": "execute_result"
    }
   ],
   "source": [
    "print(f\"The number of relative primes less than {k}:\")\n",
    "mm.totient(k)"
   ]
  },
  {
   "cell_type": "markdown",
   "id": "5b59a620-523b-44f5-a694-9ada6fcc4a6c",
   "metadata": {},
   "source": [
    "## divisors"
   ]
  },
  {
   "cell_type": "code",
   "execution_count": 45,
   "id": "0634c708-da92-4f13-9181-4aa788be449b",
   "metadata": {},
   "outputs": [
    {
     "name": "stdout",
     "output_type": "stream",
     "text": [
      "Help on function divisors in module my_math:\n",
      "\n",
      "divisors(n, non_trivial=False)\n",
      "    Return the set of divisors of n.  Setting non_trivial=True, returns all\n",
      "    divisors except for 1 & n.\n",
      "\n"
     ]
    }
   ],
   "source": [
    "help(mm.divisors)"
   ]
  },
  {
   "cell_type": "code",
   "execution_count": 50,
   "id": "e54cc0c5-46a6-4a21-8439-6f6ee537578c",
   "metadata": {},
   "outputs": [
    {
     "name": "stdout",
     "output_type": "stream",
     "text": [
      "The divisors of 12:\n"
     ]
    },
    {
     "data": {
      "text/plain": [
       "[1, 2, 3, 4, 6, 12]"
      ]
     },
     "execution_count": 50,
     "metadata": {},
     "output_type": "execute_result"
    }
   ],
   "source": [
    "print(f\"The divisors of {k}:\")\n",
    "mm.divisors(k)"
   ]
  },
  {
   "cell_type": "code",
   "execution_count": 51,
   "id": "68e92eb2-3cac-452a-a7b8-ecb568898ab2",
   "metadata": {},
   "outputs": [
    {
     "name": "stdout",
     "output_type": "stream",
     "text": [
      "The non-trivial divisors of 12:\n"
     ]
    },
    {
     "data": {
      "text/plain": [
       "[2, 3, 4, 6]"
      ]
     },
     "execution_count": 51,
     "metadata": {},
     "output_type": "execute_result"
    }
   ],
   "source": [
    "print(f\"The non-trivial divisors of {k}:\")\n",
    "mm.divisors(k, non_trivial=True)"
   ]
  },
  {
   "cell_type": "markdown",
   "id": "9a65a9d8-704b-4bdb-a216-9b1b3e82460e",
   "metadata": {},
   "source": [
    "## xgcd"
   ]
  },
  {
   "cell_type": "code",
   "execution_count": 46,
   "id": "3e978d19-f539-4975-9add-5b91fe625c65",
   "metadata": {},
   "outputs": [
    {
     "name": "stdout",
     "output_type": "stream",
     "text": [
      "Help on function xgcd in module my_math:\n",
      "\n",
      "xgcd(a, b)\n",
      "    An implementation of the Extended Euclidean Algorithm.\n",
      "    Returns gcd, x, & y, such that gcd == a * x + b * y, where\n",
      "    gcd is the Greatest Common Divisor of a & b.\n",
      "    x & y are called Bézout's coefficients.\n",
      "    Reference: https://anh.cs.luc.edu/331/notes/xgcd.pdf\n",
      "\n"
     ]
    }
   ],
   "source": [
    "help(mm.xgcd)"
   ]
  },
  {
   "cell_type": "code",
   "execution_count": 53,
   "id": "8ae3ef9e-2e13-4ee6-9250-daccdfab9289",
   "metadata": {},
   "outputs": [
    {
     "name": "stdout",
     "output_type": "stream",
     "text": [
      "xgcd(24, 36) = 12, -1, 1\n",
      "12 == 24 * -1 + 36 * 1? True\n"
     ]
    }
   ],
   "source": [
    "a, b = 24, 36\n",
    "gcd, x, y = mm.xgcd(a, b)\n",
    "print(f\"xgcd({a}, {b}) = {gcd}, {x}, {y}\")\n",
    "print(f\"{gcd} == {a} * {x} + {b} * {y}? {gcd == a * x + b * y}\")"
   ]
  },
  {
   "cell_type": "code",
   "execution_count": 55,
   "id": "9424b7be-0a91-48bd-8cdd-6ea6281b6a1e",
   "metadata": {},
   "outputs": [
    {
     "name": "stdout",
     "output_type": "stream",
     "text": [
      "xgcd(36, 24) = 12, 1, -1\n",
      "12 == 36 * 1 + 24 * -1? True\n"
     ]
    }
   ],
   "source": [
    "a, b = 36, 24  # Switched arguments\n",
    "gcd, x, y = mm.xgcd(a, b)\n",
    "print(f\"xgcd({a}, {b}) = {gcd}, {x}, {y}\")\n",
    "print(f\"{gcd} == {a} * {x} + {b} * {y}? {gcd == a * x + b * y}\")"
   ]
  },
  {
   "cell_type": "code",
   "execution_count": null,
   "id": "940b7ea4-e198-4839-9c42-d9ed38ff6a03",
   "metadata": {},
   "outputs": [],
   "source": []
  }
 ],
 "metadata": {
  "kernelspec": {
   "display_name": "Python 3 (ipykernel)",
   "language": "python",
   "name": "python3"
  },
  "language_info": {
   "codemirror_mode": {
    "name": "ipython",
    "version": 3
   },
   "file_extension": ".py",
   "mimetype": "text/x-python",
   "name": "python",
   "nbconvert_exporter": "python",
   "pygments_lexer": "ipython3",
   "version": "3.11.5"
  }
 },
 "nbformat": 4,
 "nbformat_minor": 5
}
