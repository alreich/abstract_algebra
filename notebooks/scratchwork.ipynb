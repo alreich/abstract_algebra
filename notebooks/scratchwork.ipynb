{
 "cells": [
  {
   "cell_type": "markdown",
   "id": "d0cb705e",
   "metadata": {},
   "source": [
    "# Scratchwork"
   ]
  },
  {
   "cell_type": "markdown",
   "id": "340a05d4",
   "metadata": {},
   "source": [
    "This notebook is only used for trying out ideas."
   ]
  },
  {
   "cell_type": "code",
   "execution_count": 1,
   "id": "69fca66a",
   "metadata": {},
   "outputs": [],
   "source": [
    "import algebras as alg\n",
    "import json\n",
    "import os\n",
    "import numpy as np\n",
    "import itertools as it"
   ]
  },
  {
   "cell_type": "code",
   "execution_count": 2,
   "id": "d0377e2e",
   "metadata": {},
   "outputs": [],
   "source": [
    "# Path to this repo\n",
    "aa_path = os.path.join(os.getenv('PYPROJ'), 'abstract_algebra')\n",
    "\n",
    "# Path to a directory containing Algebra definitions in JSON\n",
    "alg_dir = os.path.join(aa_path, \"Algebras\")"
   ]
  },
  {
   "cell_type": "markdown",
   "id": "fc6937e9",
   "metadata": {},
   "source": [
    "## Groups for Testing"
   ]
  },
  {
   "cell_type": "code",
   "execution_count": 3,
   "id": "58f0cbab",
   "metadata": {},
   "outputs": [
    {
     "name": "stdout",
     "output_type": "stream",
     "text": [
      "{\"type\": \"Group\",\r\n",
      " \"name\": \"D_4\",\r\n",
      " \"description\": \"Dihedral group on four vertices\",\r\n",
      " \"element_names\": [\"e\", \"r\", \"r^2\", \"r^3\", \"f\", \"fr\", \"r^2f\", \"rf\"],\r\n",
      " \"alt_elem_names\": [\"()\", \"(0 1 2 3)\", \"(0 2)(1 3)\", \"(0 3 2 1)\",\r\n",
      "                    \"(0 1)(2 3)\", \"(1 3)\", \"(0 3)(1 2)\", \"(0 2)\"],\r\n",
      " \"mult_table\": [[0, 1, 2, 3, 4, 5, 6, 7],\r\n",
      "                [1, 2, 3, 0, 7, 4, 5, 6],\r\n",
      "                [2, 3, 0, 1, 6, 7, 4, 5],\r\n",
      "                [3, 0, 1, 2, 5, 6, 7, 4],\r\n",
      "                [4, 5, 6, 7, 0, 1, 2, 3],\r\n",
      "                [5, 6, 7, 4, 3, 0, 1, 2],\r\n",
      "                [6, 7, 4, 5, 2, 3, 0, 1],\r\n",
      "                [7, 4, 5, 6, 1, 2, 3, 0]]\r\n",
      "}"
     ]
    }
   ],
   "source": [
    "d4_path = os.path.join(alg_dir, \"d4_dihedral_group_on_4_vertices.json\")\n",
    "!cat {d4_path}"
   ]
  },
  {
   "cell_type": "code",
   "execution_count": 4,
   "id": "3ef95b91",
   "metadata": {},
   "outputs": [
    {
     "name": "stdout",
     "output_type": "stream",
     "text": [
      "\n",
      "Group : D_4 : Dihedral group on four vertices\n",
      "  Element Names: ['e', 'r', 'r^2', 'r^3', 'f', 'fr', 'r^2f', 'rf']\n",
      "  Is Abelian? False\n",
      "  Inverses:  (** - indicates that it is its own inverse)\n",
      "    inv(e) = e   **\n",
      "    inv(r) = r^3 \n",
      "    inv(r^2) = r^2   **\n",
      "    inv(r^3) = r \n",
      "    inv(f) = f   **\n",
      "    inv(fr) = fr   **\n",
      "    inv(r^2f) = r^2f   **\n",
      "    inv(rf) = rf   **\n",
      "Element Orders:\n",
      "{1: ['e'], 2: ['r^2', 'f', 'fr', 'r^2f', 'rf'], 4: ['r', 'r^3']}\n",
      "  Is associative? True\n",
      "  Cayley Table:\n",
      "[['e', 'r', 'r^2', 'r^3', 'f', 'fr', 'r^2f', 'rf'],\n",
      " ['r', 'r^2', 'r^3', 'e', 'rf', 'f', 'fr', 'r^2f'],\n",
      " ['r^2', 'r^3', 'e', 'r', 'r^2f', 'rf', 'f', 'fr'],\n",
      " ['r^3', 'e', 'r', 'r^2', 'fr', 'r^2f', 'rf', 'f'],\n",
      " ['f', 'fr', 'r^2f', 'rf', 'e', 'r', 'r^2', 'r^3'],\n",
      " ['fr', 'r^2f', 'rf', 'f', 'r^3', 'e', 'r', 'r^2'],\n",
      " ['r^2f', 'rf', 'f', 'fr', 'r^2', 'r^3', 'e', 'r'],\n",
      " ['rf', 'f', 'fr', 'r^2f', 'r', 'r^2', 'r^3', 'e']]\n"
     ]
    }
   ],
   "source": [
    "d4 = alg.Group(d4_path)\n",
    "d4.print_info()"
   ]
  },
  {
   "cell_type": "markdown",
   "id": "4114c446",
   "metadata": {},
   "source": [
    "## Order of an Element"
   ]
  },
  {
   "cell_type": "code",
   "execution_count": 5,
   "id": "a917e8db",
   "metadata": {},
   "outputs": [
    {
     "data": {
      "text/plain": [
       "4"
      ]
     },
     "execution_count": 5,
     "metadata": {},
     "output_type": "execute_result"
    }
   ],
   "source": [
    "d4.element_order('r')"
   ]
  },
  {
   "cell_type": "code",
   "execution_count": 6,
   "id": "4ab4f45f",
   "metadata": {},
   "outputs": [
    {
     "data": {
      "text/plain": [
       "{'e': 1, 'r': 4, 'r^2': 2, 'r^3': 4, 'f': 2, 'fr': 2, 'r^2f': 2, 'rf': 2}"
      ]
     },
     "execution_count": 6,
     "metadata": {},
     "output_type": "execute_result"
    }
   ],
   "source": [
    "d4.element_orders()"
   ]
  },
  {
   "cell_type": "code",
   "execution_count": 7,
   "id": "7a530f93",
   "metadata": {},
   "outputs": [
    {
     "data": {
      "text/plain": [
       "{1: ['e'], 4: ['r', 'r^3'], 2: ['r^2', 'f', 'fr', 'r^2f', 'rf']}"
      ]
     },
     "execution_count": 7,
     "metadata": {},
     "output_type": "execute_result"
    }
   ],
   "source": [
    "d4.element_orders(True)"
   ]
  },
  {
   "cell_type": "code",
   "execution_count": 8,
   "id": "d6c7a85f",
   "metadata": {},
   "outputs": [
    {
     "name": "stdout",
     "output_type": "stream",
     "text": [
      "{1: ['e'], 2: ['r^2', 'f', 'fr', 'r^2f', 'rf'], 4: ['r', 'r^3']}\n"
     ]
    }
   ],
   "source": [
    "from pprint import pprint\n",
    "\n",
    "pprint(d4.element_orders(True))"
   ]
  },
  {
   "cell_type": "code",
   "execution_count": 9,
   "id": "303a8506",
   "metadata": {},
   "outputs": [
    {
     "name": "stdout",
     "output_type": "stream",
     "text": [
      "Help on function pprint in module pprint:\n",
      "\n",
      "pprint(object, stream=None, indent=1, width=80, depth=None, *, compact=False)\n",
      "    Pretty-print a Python object to a stream [default is sys.stdout].\n",
      "\n"
     ]
    }
   ],
   "source": [
    "help(pprint)"
   ]
  },
  {
   "cell_type": "markdown",
   "id": "8f447fe3",
   "metadata": {},
   "source": [
    "## Experiments in Finding Generator Sets"
   ]
  },
  {
   "cell_type": "code",
   "execution_count": 10,
   "id": "666908b9",
   "metadata": {},
   "outputs": [
    {
     "data": {
      "text/plain": [
       "['e', 'r', 'r^2', 'r^3', 'f', 'fr', 'r^2f', 'rf']"
      ]
     },
     "execution_count": 10,
     "metadata": {},
     "output_type": "execute_result"
    }
   ],
   "source": [
    "d4.element_names"
   ]
  },
  {
   "cell_type": "code",
   "execution_count": 11,
   "id": "157974f5",
   "metadata": {},
   "outputs": [],
   "source": [
    "aa = set(d4.element_names[0])\n",
    "bb = set(d4.element_names[1:])"
   ]
  },
  {
   "cell_type": "code",
   "execution_count": 12,
   "id": "c1f4435c",
   "metadata": {},
   "outputs": [
    {
     "data": {
      "text/plain": [
       "{'e', 'f', 'fr', 'r', 'r^2', 'r^2f', 'r^3', 'rf'}"
      ]
     },
     "execution_count": 12,
     "metadata": {},
     "output_type": "execute_result"
    }
   ],
   "source": [
    "aa | bb"
   ]
  },
  {
   "cell_type": "code",
   "execution_count": 13,
   "id": "35a7cc9d",
   "metadata": {},
   "outputs": [],
   "source": [
    "def minimum_generators(grp):\n",
    "    gens = set()\n",
    "    n = len(grp.element_names)\n",
    "    init = set(grp.element_names[0])\n",
    "    remain = set(grp.element_names[1:])\n",
    "    for i in range(1, n - 2):\n",
    "        for combo in it.combinations(remain, i):\n",
    "            candidate = init | set(combo)\n",
    "            clo = grp.closure(candidate)\n",
    "            if len(clo) == n:\n",
    "                gens.add(frozenset(candidate))\n",
    "    gens_as_lists = list(map(lambda x: list(x), gens))\n",
    "    min_gen_len = min({len(gen) for gen in gens_as_lists})\n",
    "    min_gens = [gen for gen in gens_as_lists if len(gen) == min_gen_len]\n",
    "    return min_gens"
   ]
  },
  {
   "cell_type": "code",
   "execution_count": 14,
   "id": "f1a9880a",
   "metadata": {},
   "outputs": [],
   "source": [
    "def minimum_generators(grp):\n",
    "    gens = set()\n",
    "    n = len(grp.element_names)\n",
    "    remain = set(grp.element_names[1:])\n",
    "    for i in range(2, n - 1):\n",
    "        for combo in it.combinations(remain, i):\n",
    "            candidate = set(combo)\n",
    "            clo = grp.closure(candidate)\n",
    "            if len(clo) == n:\n",
    "                gens.add(frozenset(candidate))\n",
    "    gens_as_lists = list(map(lambda x: list(x), gens))\n",
    "    min_gen_len = min({len(gen) for gen in gens_as_lists})\n",
    "    min_gens = [gen for gen in gens_as_lists if len(gen) == min_gen_len]\n",
    "    return min_gens"
   ]
  },
  {
   "cell_type": "code",
   "execution_count": 15,
   "id": "53deb813",
   "metadata": {},
   "outputs": [
    {
     "data": {
      "text/plain": [
       "[['fr', 'r^2f'],\n",
       " ['r', 'r^2f'],\n",
       " ['r', 'f'],\n",
       " ['rf', 'r^2f'],\n",
       " ['r^3', 'r^2f'],\n",
       " ['rf', 'r^3'],\n",
       " ['r', 'fr'],\n",
       " ['f', 'fr'],\n",
       " ['rf', 'f'],\n",
       " ['r^3', 'f'],\n",
       " ['rf', 'r'],\n",
       " ['r^3', 'fr']]"
      ]
     },
     "execution_count": 15,
     "metadata": {},
     "output_type": "execute_result"
    }
   ],
   "source": [
    "minimum_generators(d4)"
   ]
  },
  {
   "cell_type": "code",
   "execution_count": 16,
   "id": "9729da7e",
   "metadata": {},
   "outputs": [
    {
     "name": "stdout",
     "output_type": "stream",
     "text": [
      "('e', 'r') r\n",
      "('r', 'e') r\n",
      "('e', 'fr') fr\n",
      "('fr', 'e') fr\n",
      "('r', 'fr') f\n",
      "('fr', 'r') r^2f\n",
      "[('e', 'r'), ('r', 'e'), ('e', 'fr'), ('fr', 'e'), ('r', 'fr'), ('fr', 'r')]\n"
     ]
    }
   ],
   "source": [
    "grp = d4\n",
    "gen = ['e', 'r', 'fr']\n",
    "\n",
    "def swap_pair(pair):\n",
    "    return (pair[1], pair[0])\n",
    "\n",
    "all_pairs = []\n",
    "elems = set(gen)\n",
    "for pair in it.combinations(gen, 2):\n",
    "    all_pairs.append(pair)\n",
    "    pair_prod = d4.mult(*pair)\n",
    "    \n",
    "    print(pair, pair_prod)\n",
    "    swap = swap_pair(pair)\n",
    "    all_pairs.append(swap)\n",
    "    swap_prod = d4.mult(*swap)\n",
    "    print(swap, swap_prod)\n",
    "print(all_pairs)"
   ]
  },
  {
   "cell_type": "markdown",
   "id": "3ab40a20",
   "metadata": {},
   "source": [
    "## Generating Possible Multiplication Tables"
   ]
  },
  {
   "cell_type": "code",
   "execution_count": 17,
   "id": "5fa384be",
   "metadata": {},
   "outputs": [],
   "source": [
    "from itertools import permutations\n",
    "\n",
    "def no_conflict(p1, p2):\n",
    "    \"\"\"Returns True only if no element of p1 equals the corresponding element of p2.\"\"\"\n",
    "    return all([p1[i] != p2[i] for i in range(len(p1))])"
   ]
  },
  {
   "cell_type": "code",
   "execution_count": 18,
   "id": "7c1025b9",
   "metadata": {},
   "outputs": [
    {
     "name": "stdout",
     "output_type": "stream",
     "text": [
      "True\n",
      "False\n"
     ]
    }
   ],
   "source": [
    "p1 = (0, 1, 2, 3)\n",
    "p2 = (1, 0, 3, 2)\n",
    "p3 = (0, 1, 3, 2)\n",
    "\n",
    "print(no_conflict(p1, p2))\n",
    "print(no_conflict(p1, p3))"
   ]
  },
  {
   "cell_type": "code",
   "execution_count": 19,
   "id": "06e555e5",
   "metadata": {},
   "outputs": [
    {
     "name": "stdout",
     "output_type": "stream",
     "text": [
      "row0: [0, 1, 2, 3]\n",
      "# of permutations: 24\n",
      "Permutations of first row: \n",
      "[(0, 1, 2, 3), (0, 1, 3, 2), (0, 2, 1, 3), (0, 2, 3, 1), (0, 3, 1, 2), (0, 3, 2, 1), (1, 0, 2, 3), (1, 0, 3, 2), (1, 2, 0, 3), (1, 2, 3, 0), (1, 3, 0, 2), (1, 3, 2, 0), (2, 0, 1, 3), (2, 0, 3, 1), (2, 1, 0, 3), (2, 1, 3, 0), (2, 3, 0, 1), (2, 3, 1, 0), (3, 0, 1, 2), (3, 0, 2, 1), (3, 1, 0, 2), (3, 1, 2, 0), (3, 2, 0, 1), (3, 2, 1, 0)]\n"
     ]
    }
   ],
   "source": [
    "order = 4\n",
    "row0 = list(range(order))\n",
    "print(f\"row0: {row0}\")\n",
    "\n",
    "all_rows = list(permutations(row0))\n",
    "print(f\"# of permutations: {len(all_rows)}\")\n",
    "print(f\"Permutations of first row: \\n{all_rows}\")"
   ]
  },
  {
   "cell_type": "code",
   "execution_count": 20,
   "id": "22e81933",
   "metadata": {},
   "outputs": [],
   "source": [
    "def filter(perms, perm, n):\n",
    "    \"\"\"Filter out all permutations in perms that confict with perm,\n",
    "    and have n as the first element.\"\"\"\n",
    "    nperms = [q for q in perms if q[0] == n]\n",
    "    return [p for p in nperms if no_conflict(p, perm)]"
   ]
  },
  {
   "cell_type": "markdown",
   "id": "c156383b",
   "metadata": {},
   "source": [
    "### row0"
   ]
  },
  {
   "cell_type": "code",
   "execution_count": 21,
   "id": "c22fb61b",
   "metadata": {},
   "outputs": [
    {
     "data": {
      "text/plain": [
       "[0, 1, 2, 3]"
      ]
     },
     "execution_count": 21,
     "metadata": {},
     "output_type": "execute_result"
    }
   ],
   "source": [
    "row0"
   ]
  },
  {
   "cell_type": "markdown",
   "id": "90fe937b",
   "metadata": {},
   "source": [
    "### all possible row1, row2, and row3, resp., that don't conflict with row0"
   ]
  },
  {
   "cell_type": "code",
   "execution_count": 22,
   "id": "bdfb1eba",
   "metadata": {},
   "outputs": [
    {
     "data": {
      "text/plain": [
       "[(1, 0, 3, 2), (1, 2, 3, 0), (1, 3, 0, 2)]"
      ]
     },
     "execution_count": 22,
     "metadata": {},
     "output_type": "execute_result"
    }
   ],
   "source": [
    "rows1a = filter(all_rows, row0, 1)\n",
    "rows1a"
   ]
  },
  {
   "cell_type": "code",
   "execution_count": 23,
   "id": "c4ee287e",
   "metadata": {},
   "outputs": [
    {
     "data": {
      "text/plain": [
       "[(2, 0, 3, 1), (2, 3, 0, 1), (2, 3, 1, 0)]"
      ]
     },
     "execution_count": 23,
     "metadata": {},
     "output_type": "execute_result"
    }
   ],
   "source": [
    "rows2a = filter(all_rows, row0, 2)\n",
    "rows2a"
   ]
  },
  {
   "cell_type": "code",
   "execution_count": 24,
   "id": "7cc7aef4",
   "metadata": {},
   "outputs": [
    {
     "data": {
      "text/plain": [
       "[(3, 0, 1, 2), (3, 2, 0, 1), (3, 2, 1, 0)]"
      ]
     },
     "execution_count": 24,
     "metadata": {},
     "output_type": "execute_result"
    }
   ],
   "source": [
    "rows3a = filter(all_rows, row0, 3)\n",
    "rows3a"
   ]
  },
  {
   "cell_type": "markdown",
   "id": "16ede43b",
   "metadata": {},
   "source": [
    "### all possible row2 that don't conflict with a row1"
   ]
  },
  {
   "cell_type": "code",
   "execution_count": 25,
   "id": "36a0c688",
   "metadata": {},
   "outputs": [
    {
     "data": {
      "text/plain": [
       "{(1, 0, 3, 2): [(2, 3, 0, 1), (2, 3, 1, 0)],\n",
       " (1, 2, 3, 0): [(2, 3, 0, 1)],\n",
       " (1, 3, 0, 2): [(2, 0, 3, 1)]}"
      ]
     },
     "execution_count": 25,
     "metadata": {},
     "output_type": "execute_result"
    }
   ],
   "source": [
    "rows2b = {r: filter(rows2a, r, 2) for r in rows1a}\n",
    "rows2b"
   ]
  },
  {
   "cell_type": "markdown",
   "id": "8410bb22",
   "metadata": {},
   "source": [
    "### all possible row3 that don't conflict with a row1"
   ]
  },
  {
   "cell_type": "code",
   "execution_count": 32,
   "id": "0b55c262",
   "metadata": {},
   "outputs": [
    {
     "data": {
      "text/plain": [
       "{(1, 0, 3, 2): [(3, 2, 0, 1), (3, 2, 1, 0)],\n",
       " (1, 2, 3, 0): [(3, 0, 1, 2)],\n",
       " (1, 3, 0, 2): [(3, 2, 1, 0)]}"
      ]
     },
     "execution_count": 32,
     "metadata": {},
     "output_type": "execute_result"
    }
   ],
   "source": [
    "rows3b = {r: filter(rows3a, r, 3) for r in rows1a}\n",
    "rows3b"
   ]
  },
  {
   "cell_type": "code",
   "execution_count": null,
   "id": "eefa3e13",
   "metadata": {},
   "outputs": [],
   "source": []
  },
  {
   "cell_type": "code",
   "execution_count": null,
   "id": "83c848f2",
   "metadata": {},
   "outputs": [],
   "source": []
  },
  {
   "cell_type": "code",
   "execution_count": 31,
   "id": "601f421f",
   "metadata": {},
   "outputs": [
    {
     "name": "stdout",
     "output_type": "stream",
     "text": [
      "(1, 0, 3, 2)\n"
     ]
    },
    {
     "data": {
      "text/plain": [
       "[(2, 3, 0, 1), (2, 3, 1, 0)]"
      ]
     },
     "execution_count": 31,
     "metadata": {},
     "output_type": "execute_result"
    }
   ],
   "source": [
    "r1a = rows1a[0]\n",
    "print(r1a)\n",
    "rows2b[r1a]"
   ]
  },
  {
   "cell_type": "code",
   "execution_count": null,
   "id": "02d78248",
   "metadata": {},
   "outputs": [],
   "source": [
    "rows2b = {r: filter(rows2a, r, 2) for r in rows1a}\n",
    "rows2b"
   ]
  },
  {
   "cell_type": "code",
   "execution_count": null,
   "id": "15251312",
   "metadata": {},
   "outputs": [],
   "source": []
  },
  {
   "cell_type": "code",
   "execution_count": null,
   "id": "521562e5",
   "metadata": {},
   "outputs": [],
   "source": []
  },
  {
   "cell_type": "code",
   "execution_count": null,
   "id": "992a6ffb",
   "metadata": {},
   "outputs": [],
   "source": [
    "r1a = rows1a[0]\n",
    "print(r1a)\n",
    "filter(rows2a, r1a, 2)"
   ]
  },
  {
   "cell_type": "code",
   "execution_count": null,
   "id": "7d0043f2",
   "metadata": {},
   "outputs": [],
   "source": []
  },
  {
   "cell_type": "code",
   "execution_count": null,
   "id": "3396d176",
   "metadata": {},
   "outputs": [],
   "source": []
  },
  {
   "cell_type": "code",
   "execution_count": null,
   "id": "6a6ca81b",
   "metadata": {},
   "outputs": [],
   "source": [
    "rows2 = {r1: filter(rows1, r1, 2) for r1 in rows1}\n",
    "print(\"For each row1, here are the rows that don't conflict with it:\")\n",
    "rows2"
   ]
  },
  {
   "cell_type": "code",
   "execution_count": null,
   "id": "743eea0a",
   "metadata": {},
   "outputs": [],
   "source": [
    "foo = rows2[(1, 0, 3, 2)]\n",
    "foo"
   ]
  },
  {
   "cell_type": "code",
   "execution_count": null,
   "id": "5b6abe80",
   "metadata": {},
   "outputs": [],
   "source": [
    "bar = {r2: filter(foo, r2) for r2 in foo}\n",
    "bar"
   ]
  },
  {
   "cell_type": "code",
   "execution_count": null,
   "id": "8555d254",
   "metadata": {},
   "outputs": [],
   "source": [
    "rows3 = {r1: {r2: filter(rows2[r1], r2) for r2 in rows2[r1]} for r1 in rows2}\n",
    "pprint(rows3)"
   ]
  },
  {
   "cell_type": "code",
   "execution_count": null,
   "id": "9d6849d1",
   "metadata": {},
   "outputs": [],
   "source": [
    "for row1 in rows3:\n",
    "    for row2 in rows2:\n",
    "        for row3 in rows1:\n",
    "            pprint(np.array([row0, row1, row2, row3]))"
   ]
  },
  {
   "cell_type": "code",
   "execution_count": null,
   "id": "5ed8e9d5",
   "metadata": {},
   "outputs": [],
   "source": []
  }
 ],
 "metadata": {
  "kernelspec": {
   "display_name": "Python 3",
   "language": "python",
   "name": "python3"
  },
  "language_info": {
   "codemirror_mode": {
    "name": "ipython",
    "version": 3
   },
   "file_extension": ".py",
   "mimetype": "text/x-python",
   "name": "python",
   "nbconvert_exporter": "python",
   "pygments_lexer": "ipython3",
   "version": "3.7.7"
  }
 },
 "nbformat": 4,
 "nbformat_minor": 5
}
