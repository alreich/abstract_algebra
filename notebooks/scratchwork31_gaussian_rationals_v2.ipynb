{
 "cells": [
  {
   "cell_type": "markdown",
   "id": "1def3528",
   "metadata": {},
   "source": [
    "# Gaussian Rationals"
   ]
  },
  {
   "cell_type": "markdown",
   "id": "16e2dc13",
   "metadata": {},
   "source": [
    "<i>Version 2</i>"
   ]
  },
  {
   "cell_type": "markdown",
   "id": "b3975dcd",
   "metadata": {},
   "source": [
    "The set of rational numbers is denoted by $\\mathbb{Q}$, and the set of complex numbers is denoted by $\\mathbb{C}$.\n",
    "\n",
    "The set of **Gaussian rational numbers** is denoted by $\\mathbb{Q}[i]$, and consists of all complex numbers, $a + bi \\in \\mathbb{C}$, such that $a, b \\in \\mathbb{Q}$."
   ]
  },
  {
   "cell_type": "markdown",
   "id": "a88d9448",
   "metadata": {},
   "source": [
    "## References"
   ]
  },
  {
   "cell_type": "markdown",
   "id": "a3dd41ef",
   "metadata": {},
   "source": [
    "* [Python Fractions - Rational Numbers](https://docs.python.org/3/library/fractions.html)"
   ]
  },
  {
   "cell_type": "markdown",
   "id": "55476da2",
   "metadata": {},
   "source": [
    "## Qi, the Class of Gaussian Rationals"
   ]
  },
  {
   "cell_type": "markdown",
   "id": "1704912c",
   "metadata": {},
   "source": [
    "The Python module, ``gaussian_rationals``, defines a class, ``Qi``, that implements an object with Gaussian rational functionality.\n",
    "\n",
    "A ``Qi`` has only two fields, ``real`` and ``imag``; both are rational numbers, implemented here in the form of ``Fractions`` using the [Python fractions module](https://docs.python.org/3/library/fractions.html).\n",
    "\n",
    "The ``gaussian_integers`` module is closely related to this module. For example, the division of two Gaussian integers will produce a Gaussian rational.\n",
    "<p>That is, $\\alpha, \\beta \\in \\mathbb{Z}[i] \\Rightarrow {\\large \\frac{\\alpha}{\\beta}} \\in \\mathbb{Q}[i]$.</p>\n",
    "\n",
    "The source code, along with this Jupyter notebook and others, can be found on Github: https://github.com/alreich/abstract_algebra"
   ]
  },
  {
   "cell_type": "code",
   "execution_count": 1,
   "id": "63abefd8",
   "metadata": {},
   "outputs": [],
   "source": [
    "from gaussian_rationals import Qi\n",
    "from gaussian_integers import Zi\n",
    "from fractions import Fraction"
   ]
  },
  {
   "cell_type": "markdown",
   "id": "9f5e7172",
   "metadata": {},
   "source": [
    "## Creating Gaussian Rationals"
   ]
  },
  {
   "cell_type": "markdown",
   "id": "57df1167",
   "metadata": {},
   "source": [
    "Constructing a Qi from two Fractions:"
   ]
  },
  {
   "cell_type": "code",
   "execution_count": 2,
   "id": "3bd58d12",
   "metadata": {},
   "outputs": [
    {
     "name": "stdout",
     "output_type": "stream",
     "text": [
      "1/2\n",
      "3/5\n"
     ]
    }
   ],
   "source": [
    "f1 = Fraction(1, 2)\n",
    "f2 = Fraction(3, 5)\n",
    "print(f1)\n",
    "print(f2)"
   ]
  },
  {
   "cell_type": "code",
   "execution_count": 3,
   "id": "1b34e40c",
   "metadata": {},
   "outputs": [
    {
     "data": {
      "text/plain": [
       "Qi('1/2', '3/5')"
      ]
     },
     "execution_count": 3,
     "metadata": {},
     "output_type": "execute_result"
    }
   ],
   "source": [
    "a = Qi(f1, f2)\n",
    "a"
   ]
  },
  {
   "cell_type": "markdown",
   "id": "6b511ce8",
   "metadata": {},
   "source": [
    "Constructing a Qi from two fractions, input as strings.\n",
    "\n",
    "Strings must be used because entering two actual fractions, such as $4/6$ and $-1/7$, will not work, because Python will interpret them as floating point values, 0.6666666666666666 and -0.14285714285714285."
   ]
  },
  {
   "cell_type": "code",
   "execution_count": 4,
   "id": "98977b96",
   "metadata": {},
   "outputs": [
    {
     "data": {
      "text/plain": [
       "Qi('2/3', '-1/7')"
      ]
     },
     "execution_count": 4,
     "metadata": {},
     "output_type": "execute_result"
    }
   ],
   "source": [
    "b = Qi(\"4/6\", \"-1/7\")\n",
    "b"
   ]
  },
  {
   "cell_type": "markdown",
   "id": "bbd20874",
   "metadata": {},
   "source": [
    "On the other hand, actual integers, such as 3 & 8, can be used to construct a Qi. The Qi constructor will convert them to the fractions, ``Fraction(3, 1)`` and ``Fraction(8, 1)``. In printed form, they appear as strings, as shown below."
   ]
  },
  {
   "cell_type": "code",
   "execution_count": 5,
   "id": "79047890",
   "metadata": {},
   "outputs": [
    {
     "data": {
      "text/plain": [
       "Qi('3', '8')"
      ]
     },
     "execution_count": 5,
     "metadata": {},
     "output_type": "execute_result"
    }
   ],
   "source": [
    "c = Qi(3, 8)\n",
    "c"
   ]
  },
  {
   "cell_type": "markdown",
   "id": "2753d03d",
   "metadata": {},
   "source": [
    "## Printing Gaussian Rationals"
   ]
  },
  {
   "cell_type": "markdown",
   "id": "040bed7f",
   "metadata": {},
   "source": [
    "When printed, Gaussian rationals look like ordinary complex numbers."
   ]
  },
  {
   "cell_type": "code",
   "execution_count": 6,
   "id": "73813222",
   "metadata": {},
   "outputs": [
    {
     "name": "stdout",
     "output_type": "stream",
     "text": [
      "(1/2+3/5j)\n",
      "(2/3-1/7j)\n",
      "(3+8j)\n"
     ]
    }
   ],
   "source": [
    "print(a)\n",
    "print(b)\n",
    "print(c)"
   ]
  },
  {
   "cell_type": "markdown",
   "id": "9bbab31b",
   "metadata": {},
   "source": [
    "When printed in the form above, Gaussian rationals (Qi) cannot be cut-and-pasted into code, however, there is a convenience function, ``parse_printed_form``, which allows the printed form to be parsed, as a string, into an instance of a Qi, as shown in the tests below."
   ]
  },
  {
   "cell_type": "code",
   "execution_count": 7,
   "id": "ab242d85",
   "metadata": {},
   "outputs": [
    {
     "name": "stdout",
     "output_type": "stream",
     "text": [
      "parse_printed_form('(1/2+3/5j)') -> Qi('1/2', '3/5')\n",
      "parse_printed_form('(1/2-3/5j)') -> Qi('1/2', '-3/5')\n",
      "parse_printed_form('(-1/2+3/5j)') -> Qi('-1/2', '3/5')\n",
      "parse_printed_form('(-1/2-3/5j)') -> Qi('-1/2', '-3/5')\n",
      "parse_printed_form('(+1/2+3/5j)') -> Qi('1/2', '3/5')\n",
      "parse_printed_form('(+1/2-3/5j)') -> Qi('1/2', '-3/5')\n"
     ]
    }
   ],
   "source": [
    "from gaussian_rationals import parse_printed_form\n",
    "\n",
    "s1 = \"(1/2+3/5j)\"\n",
    "s2 = \"(1/2-3/5j)\"\n",
    "s3 = \"(-1/2+3/5j)\"\n",
    "s4 = \"(-1/2-3/5j)\"\n",
    "# Wrt s5 & s6, there usually isn't a leading + sign on the\n",
    "# real part, but just in case, they're handled anyway.\n",
    "s5 = \"(+1/2+3/5j)\"\n",
    "s6 = \"(+1/2-3/5j)\"\n",
    "\n",
    "test_strings = [s1, s2, s3, s4, s5, s6]\n",
    "\n",
    "for ts in test_strings:\n",
    "    print(f\"parse_printed_form('{ts}') -> {repr(parse_printed_form(ts))}\")"
   ]
  },
  {
   "cell_type": "markdown",
   "id": "30e9f290",
   "metadata": {},
   "source": [
    "## Gaussian Rational Arithmetic"
   ]
  },
  {
   "cell_type": "markdown",
   "id": "8d014792",
   "metadata": {},
   "source": [
    "### Addition"
   ]
  },
  {
   "cell_type": "code",
   "execution_count": 8,
   "id": "0e0f7b7b",
   "metadata": {},
   "outputs": [
    {
     "name": "stdout",
     "output_type": "stream",
     "text": [
      "(1/2+3/5j) + (2/3-1/7j) = (7/6+16/35j)\n",
      "(1/2+3/5j) + 1 = (3/2+3/5j)\n",
      "1 + (1/2+3/5j) = (3/2+3/5j)\n"
     ]
    }
   ],
   "source": [
    "print(f\"{a} + {b} = {a + b}\")\n",
    "\n",
    "print(f\"{a} + 1 = {a + 1}\")\n",
    "print(f\"1 + {a} = {1 + a}\")"
   ]
  },
  {
   "cell_type": "markdown",
   "id": "0344bebd",
   "metadata": {},
   "source": [
    "### Subtraction"
   ]
  },
  {
   "cell_type": "code",
   "execution_count": 9,
   "id": "ee7c771e",
   "metadata": {},
   "outputs": [
    {
     "name": "stdout",
     "output_type": "stream",
     "text": [
      "(1/2+3/5j) - (2/3-1/7j) = (-1/6+26/35j)\n",
      "(1/2+3/5j) - 1 = (-1/2+3/5j)\n",
      "1 - (1/2+3/5j) = (1/2-3/5j)\n"
     ]
    }
   ],
   "source": [
    "print(f\"{a} - {b} = {a - b}\")\n",
    "\n",
    "print(f\"{a} - 1 = {a - 1}\")\n",
    "print(f\"1 - {a} = {1 - a}\")"
   ]
  },
  {
   "cell_type": "markdown",
   "id": "cc759e17",
   "metadata": {},
   "source": [
    "### Multiplication"
   ]
  },
  {
   "cell_type": "code",
   "execution_count": 10,
   "id": "3d96fc0d",
   "metadata": {},
   "outputs": [
    {
     "name": "stdout",
     "output_type": "stream",
     "text": [
      "(1/2+3/5j) * (2/3-1/7j) = (44/105+23/70j)\n",
      "(1/2+3/5j) * 2 = (1+6/5j)\n",
      "2 * (1/2+3/5j) = (1+6/5j)\n"
     ]
    }
   ],
   "source": [
    "print(f\"{a} * {b} = {a * b}\")\n",
    "# print(f\"{complex(a)} * {complex(b)} = {complex(a * b)}\")  # For checking\n",
    "\n",
    "print(f\"{a} * 2 = {a * 2}\")\n",
    "print(f\"2 * {a} = {2 * a}\")"
   ]
  },
  {
   "cell_type": "markdown",
   "id": "407293c7",
   "metadata": {},
   "source": [
    "### Inverses"
   ]
  },
  {
   "cell_type": "code",
   "execution_count": 11,
   "id": "ab81b438",
   "metadata": {},
   "outputs": [
    {
     "name": "stdout",
     "output_type": "stream",
     "text": [
      "(50/61-60/61j)\n"
     ]
    }
   ],
   "source": [
    "print(a.inverse)"
   ]
  },
  {
   "cell_type": "code",
   "execution_count": 12,
   "id": "4b0cfae2",
   "metadata": {},
   "outputs": [
    {
     "name": "stdout",
     "output_type": "stream",
     "text": [
      "(1+0j)\n"
     ]
    }
   ],
   "source": [
    "print(a * a.inverse)"
   ]
  },
  {
   "cell_type": "markdown",
   "id": "ae32b894",
   "metadata": {},
   "source": [
    "### Division"
   ]
  },
  {
   "cell_type": "code",
   "execution_count": 13,
   "id": "002d807b",
   "metadata": {},
   "outputs": [
    {
     "name": "stdout",
     "output_type": "stream",
     "text": [
      "(1/2+3/5j)\n",
      "(2/3-1/7j)\n",
      "(546/1025+2079/2050j)\n"
     ]
    }
   ],
   "source": [
    "print(a)\n",
    "print(b)\n",
    "print(a / b)\n",
    "# print(complex(a / b))  # For checking"
   ]
  },
  {
   "cell_type": "code",
   "execution_count": 14,
   "id": "678e8926",
   "metadata": {},
   "outputs": [
    {
     "name": "stdout",
     "output_type": "stream",
     "text": [
      "(294/205+63/205j)\n",
      "(546/1025+2079/2050j)\n",
      "(1+0j)\n"
     ]
    }
   ],
   "source": [
    "print(b.inverse)\n",
    "print(a * b.inverse)\n",
    "print(b * b.inverse)"
   ]
  },
  {
   "cell_type": "markdown",
   "id": "34512aa5",
   "metadata": {},
   "source": [
    "### Powers"
   ]
  },
  {
   "cell_type": "code",
   "execution_count": 15,
   "id": "5f92f281",
   "metadata": {},
   "outputs": [
    {
     "name": "stdout",
     "output_type": "stream",
     "text": [
      "(-83/200+117/500j)\n"
     ]
    }
   ],
   "source": [
    "print(a**3)"
   ]
  },
  {
   "cell_type": "code",
   "execution_count": 16,
   "id": "4b1efc3e",
   "metadata": {},
   "outputs": [
    {
     "name": "stdout",
     "output_type": "stream",
     "text": [
      "(-83/200+117/500j)\n"
     ]
    }
   ],
   "source": [
    "print(a * a * a)"
   ]
  },
  {
   "cell_type": "markdown",
   "id": "d750b9da",
   "metadata": {},
   "source": [
    "### Conjugation & Norms"
   ]
  },
  {
   "cell_type": "code",
   "execution_count": 17,
   "id": "76a9b456",
   "metadata": {
    "scrolled": true
   },
   "outputs": [
    {
     "name": "stdout",
     "output_type": "stream",
     "text": [
      "(1/2-3/5j)\n"
     ]
    }
   ],
   "source": [
    "print(a.conjugate)"
   ]
  },
  {
   "cell_type": "code",
   "execution_count": 18,
   "id": "2a4bc8ad",
   "metadata": {},
   "outputs": [
    {
     "name": "stdout",
     "output_type": "stream",
     "text": [
      "61/100\n"
     ]
    }
   ],
   "source": [
    "print(a.norm)"
   ]
  },
  {
   "cell_type": "code",
   "execution_count": 19,
   "id": "adfe7298-1d71-4d6e-86a5-3e2c0989285f",
   "metadata": {},
   "outputs": [
    {
     "data": {
      "text/plain": [
       "0.7810249675906654"
      ]
     },
     "execution_count": 19,
     "metadata": {},
     "output_type": "execute_result"
    }
   ],
   "source": [
    "abs(a)"
   ]
  },
  {
   "cell_type": "markdown",
   "id": "45f725f4",
   "metadata": {},
   "source": [
    "### Negation"
   ]
  },
  {
   "cell_type": "code",
   "execution_count": 20,
   "id": "edd90298",
   "metadata": {},
   "outputs": [
    {
     "name": "stdout",
     "output_type": "stream",
     "text": [
      "(2/3-1/7j)\n",
      "(-2/3+1/7j)\n"
     ]
    }
   ],
   "source": [
    "print(b)\n",
    "print(-b)"
   ]
  },
  {
   "cell_type": "markdown",
   "id": "6f5a0f8b",
   "metadata": {},
   "source": [
    "## Equality & Inequality"
   ]
  },
  {
   "cell_type": "code",
   "execution_count": 21,
   "id": "10e4fbf7",
   "metadata": {},
   "outputs": [],
   "source": [
    "# TBD"
   ]
  },
  {
   "cell_type": "markdown",
   "id": "cee93bd5",
   "metadata": {},
   "source": [
    "## Associates"
   ]
  },
  {
   "cell_type": "code",
   "execution_count": 22,
   "id": "3bac199a",
   "metadata": {},
   "outputs": [],
   "source": [
    "# not implemented yet"
   ]
  },
  {
   "cell_type": "markdown",
   "id": "fad70ef4",
   "metadata": {},
   "source": [
    "## Units"
   ]
  },
  {
   "cell_type": "code",
   "execution_count": 23,
   "id": "ef9e50b2",
   "metadata": {},
   "outputs": [],
   "source": [
    "# not implemented yet"
   ]
  },
  {
   "cell_type": "markdown",
   "id": "a0b83f31",
   "metadata": {},
   "source": [
    "## Conversion to Complex Type"
   ]
  },
  {
   "cell_type": "code",
   "execution_count": 24,
   "id": "49d709ea",
   "metadata": {},
   "outputs": [
    {
     "name": "stdout",
     "output_type": "stream",
     "text": [
      "(546/1025+2079/2050j)\n"
     ]
    },
    {
     "data": {
      "text/plain": [
       "(0.5326829268292683+1.0141463414634146j)"
      ]
     },
     "execution_count": 24,
     "metadata": {},
     "output_type": "execute_result"
    }
   ],
   "source": [
    "print(a/b)\n",
    "complex(a/b)"
   ]
  },
  {
   "cell_type": "code",
   "execution_count": 25,
   "id": "4890c2d4",
   "metadata": {},
   "outputs": [
    {
     "data": {
      "text/plain": [
       "(0.5326829268292683+1.0141463414634146j)"
      ]
     },
     "execution_count": 25,
     "metadata": {},
     "output_type": "execute_result"
    }
   ],
   "source": [
    "complex(a) / complex(b)"
   ]
  },
  {
   "cell_type": "markdown",
   "id": "955b7a5d",
   "metadata": {},
   "source": [
    "## Gaussian Integers to Gaussian Rationals"
   ]
  },
  {
   "cell_type": "markdown",
   "id": "21828753",
   "metadata": {},
   "source": [
    "If $\\alpha, \\beta \\in \\mathbb{Z}[i]$, then ${\\large \\frac{\\alpha}{\\beta}} \\in \\mathbb{Q}[i].$"
   ]
  },
  {
   "cell_type": "code",
   "execution_count": 26,
   "id": "29823d32",
   "metadata": {},
   "outputs": [
    {
     "name": "stdout",
     "output_type": "stream",
     "text": [
      "alpha = (2+6j)\n",
      " beta = (4+5j)\n"
     ]
    }
   ],
   "source": [
    "alpha = Zi(2, 6)\n",
    "beta = Zi(4, 5)\n",
    "print(f\"alpha = {alpha}\")\n",
    "print(f\" beta = {beta}\")"
   ]
  },
  {
   "cell_type": "code",
   "execution_count": 27,
   "id": "8da5a663",
   "metadata": {},
   "outputs": [
    {
     "name": "stdout",
     "output_type": "stream",
     "text": [
      "(38/41+14/41j)\n",
      "(0.926829268292683+0.34146341463414637j)\n",
      "(0.926829268292683+0.3414634146341464j)\n"
     ]
    }
   ],
   "source": [
    "rat = alpha / beta\n",
    "print(rat)\n",
    "\n",
    "# Check\n",
    "print(complex(rat))\n",
    "print(complex(alpha) / complex(beta))"
   ]
  },
  {
   "cell_type": "markdown",
   "id": "6c334c55",
   "metadata": {},
   "source": [
    "## Examples from Wolfram"
   ]
  },
  {
   "cell_type": "markdown",
   "id": "9e2740b2",
   "metadata": {},
   "source": [
    "* [Irreducible fractions](https://mathworld.wolfram.com/IrreducibleFraction.html) - Wolfram"
   ]
  },
  {
   "cell_type": "markdown",
   "id": "03967434",
   "metadata": {},
   "source": [
    "**Example 1**"
   ]
  },
  {
   "cell_type": "code",
   "execution_count": 28,
   "id": "6ebb61e6",
   "metadata": {},
   "outputs": [],
   "source": [
    "from gaussian_integers import gcd, xgcd, mod_divmod"
   ]
  },
  {
   "cell_type": "code",
   "execution_count": 29,
   "id": "9e38e9a5",
   "metadata": {},
   "outputs": [],
   "source": [
    "a = Zi(4, 7)\n",
    "b = Zi(2, 1)"
   ]
  },
  {
   "cell_type": "code",
   "execution_count": 30,
   "id": "2f8aec06",
   "metadata": {},
   "outputs": [
    {
     "name": "stdout",
     "output_type": "stream",
     "text": [
      "a = (4+7j)\n",
      "b = (2+1j)\n",
      "gcd(a, b) = (2+1j)\n"
     ]
    },
    {
     "data": {
      "text/plain": [
       "Qi('3', '2')"
      ]
     },
     "execution_count": 30,
     "metadata": {},
     "output_type": "execute_result"
    }
   ],
   "source": [
    "print(f\"a = {a}\")\n",
    "print(f\"b = {b}\")\n",
    "print(f\"gcd(a, b) = {gcd(a, b)}\")\n",
    "\n",
    "a / b"
   ]
  },
  {
   "cell_type": "markdown",
   "id": "78da68fe",
   "metadata": {},
   "source": [
    "**Example 2**"
   ]
  },
  {
   "cell_type": "code",
   "execution_count": 31,
   "id": "38a66f3e",
   "metadata": {},
   "outputs": [],
   "source": [
    "a = Zi(5, 5)\n",
    "b = Zi(7, 1)"
   ]
  },
  {
   "cell_type": "code",
   "execution_count": 32,
   "id": "d33e52d1",
   "metadata": {},
   "outputs": [
    {
     "name": "stdout",
     "output_type": "stream",
     "text": [
      "a = (5+5j)\n",
      "b = (7+1j)\n",
      "gcd(a, b) = (-1-3j)\n"
     ]
    },
    {
     "data": {
      "text/plain": [
       "Qi('4/5', '3/5')"
      ]
     },
     "execution_count": 32,
     "metadata": {},
     "output_type": "execute_result"
    }
   ],
   "source": [
    "print(f\"a = {a}\")\n",
    "print(f\"b = {b}\")\n",
    "print(f\"gcd(a, b) = {gcd(a, b)}\")\n",
    "\n",
    "a / b"
   ]
  },
  {
   "cell_type": "markdown",
   "id": "c2424093-9806-4ec9-aec1-e53c45d9748e",
   "metadata": {},
   "source": [
    "## Scratchwork"
   ]
  },
  {
   "cell_type": "code",
   "execution_count": null,
   "id": "fa5418d1",
   "metadata": {},
   "outputs": [],
   "source": []
  }
 ],
 "metadata": {
  "kernelspec": {
   "display_name": "Python 3 (ipykernel)",
   "language": "python",
   "name": "python3"
  },
  "language_info": {
   "codemirror_mode": {
    "name": "ipython",
    "version": 3
   },
   "file_extension": ".py",
   "mimetype": "text/x-python",
   "name": "python",
   "nbconvert_exporter": "python",
   "pygments_lexer": "ipython3",
   "version": "3.11.5"
  }
 },
 "nbformat": 4,
 "nbformat_minor": 5
}
