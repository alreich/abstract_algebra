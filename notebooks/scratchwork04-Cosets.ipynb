{
 "cells": [
  {
   "cell_type": "markdown",
   "id": "9e6e51fd",
   "metadata": {},
   "source": [
    "# Scratchwork 4  - Cosets of Algebras"
   ]
  },
  {
   "cell_type": "code",
   "execution_count": 1,
   "id": "8b1e8190",
   "metadata": {},
   "outputs": [],
   "source": [
    "import finite_algebras as alg\n",
    "# from cayley_table import *\n",
    "# from permutations import *"
   ]
  },
  {
   "cell_type": "code",
   "execution_count": 2,
   "id": "dde42cdc",
   "metadata": {},
   "outputs": [],
   "source": [
    "import os\n",
    "aa_path = os.path.join(os.getenv(\"PYPROJ\"), \"abstract_algebra\")\n",
    "alg_dir = os.path.join(aa_path, \"Algebras\")"
   ]
  },
  {
   "cell_type": "code",
   "execution_count": 3,
   "id": "54f2287f",
   "metadata": {},
   "outputs": [
    {
     "name": "stdout",
     "output_type": "stream",
     "text": [
      "======================================================================\n",
      "                           Example Algebras\n",
      "----------------------------------------------------------------------\n",
      "  17 example algebras are available.\n",
      "  Use \"Examples[INDEX]\" to retrieve a specific example,\n",
      "  where INDEX is the first number on each line below:\n",
      "----------------------------------------------------------------------\n",
      "0: A4 -- Alternating group on 4 letters (AKA Tetrahedral group)\n",
      "1: D3 -- https://en.wikipedia.org/wiki/Dihedral_group_of_order_6\n",
      "2: D4 -- Dihedral group on four vertices\n",
      "3: Pinter29 -- Non-abelian group, p.29, 'A Book of Abstract Algebra' by Charles C. Pinter\n",
      "4: RPS -- Rock, Paper, Scissors Magma\n",
      "5: S3 -- Symmetric group on 3 letters\n",
      "6: S3X -- Another version of the symmetric group on 3 letters\n",
      "7: V4 -- Klein-4 group\n",
      "8: Z4 -- Cyclic group of order 4\n",
      "9: F4 -- Field with 4 elements (from Wikipedia)\n",
      "10: mag_id -- Magma with Identity\n",
      "11: Example 1.4.1 -- See: Groupoids and Smarandache Groupoids by W. B. Vasantha Kandasamy\n",
      "12: Ex6 -- Example 6: http://www-groups.mcs.st-andrews.ac.uk/~john/MT4517/Lectures/L3.html\n",
      "13: Q8 -- Quaternion Group\n",
      "14: SD16 -- Semidihedral group of order 16\n",
      "15: A5 -- Alternating group on 5 letters\n",
      "16: F2 -- Field with 2 elements from paper: 236w06fields.pdf\n",
      "======================================================================\n"
     ]
    }
   ],
   "source": [
    "ex = alg.Examples(alg_dir)"
   ]
  },
  {
   "cell_type": "markdown",
   "id": "0c58cdde",
   "metadata": {},
   "source": [
    "## The Group $A_4$"
   ]
  },
  {
   "cell_type": "code",
   "execution_count": 5,
   "id": "96658e46",
   "metadata": {},
   "outputs": [
    {
     "name": "stdout",
     "output_type": "stream",
     "text": [
      "\n",
      "** Group **\n",
      "Name: A4\n",
      "Instance ID: 4471216592\n",
      "Description: Alternating group on 4 letters (AKA Tetrahedral group)\n",
      "Order: 12\n",
      "Identity: '()'\n",
      "Commutative? No\n",
      "Cyclic?: No\n",
      "Elements:\n",
      "   Index   Name   Inverse  Order\n",
      "      0    '()'    '()'       0\n",
      "      1 '(1 3 2)' '(1 2 3)'       0\n",
      "      2 '(1 2 3)' '(1 3 2)'       0\n",
      "      3 '(0 1)(2 3)' '(0 1)(2 3)'       0\n",
      "      4 '(0 1 2)' '(0 2 1)'       0\n",
      "      5 '(0 1 3)' '(0 3 1)'       0\n",
      "      6 '(0 3 1)' '(0 1 3)'       0\n",
      "      7 '(0 3 2)' '(0 2 3)'       0\n",
      "      8 '(0 3)(1 2)' '(0 3)(1 2)'       0\n",
      "      9 '(0 2 3)' '(0 3 2)'       0\n",
      "     10 '(0 2 1)' '(0 1 2)'       0\n",
      "     11 '(0 2)(1 3)' '(0 2)(1 3)'       0\n",
      "Cayley Table (showing indices):\n",
      "[[0, 1, 2, 3, 4, 5, 6, 7, 8, 9, 10, 11],\n",
      " [1, 2, 0, 6, 7, 8, 10, 11, 9, 5, 3, 4],\n",
      " [2, 0, 1, 10, 11, 9, 3, 4, 5, 8, 6, 7],\n",
      " [3, 4, 5, 0, 1, 2, 9, 10, 11, 6, 7, 8],\n",
      " [4, 5, 3, 9, 10, 11, 7, 8, 6, 2, 0, 1],\n",
      " [5, 3, 4, 7, 8, 6, 0, 1, 2, 11, 9, 10],\n",
      " [6, 7, 8, 1, 2, 0, 5, 3, 4, 10, 11, 9],\n",
      " [7, 8, 6, 5, 3, 4, 11, 9, 10, 0, 1, 2],\n",
      " [8, 6, 7, 11, 9, 10, 1, 2, 0, 4, 5, 3],\n",
      " [9, 10, 11, 4, 5, 3, 2, 0, 1, 7, 8, 6],\n",
      " [10, 11, 9, 2, 0, 1, 8, 6, 7, 3, 4, 5],\n",
      " [11, 9, 10, 8, 6, 7, 4, 5, 3, 1, 2, 0]]\n"
     ]
    },
    {
     "data": {
      "text/plain": [
       "'<Group:A4, ID:4471216592>'"
      ]
     },
     "execution_count": 5,
     "metadata": {},
     "output_type": "execute_result"
    }
   ],
   "source": [
    "a4 = ex[0]\n",
    "a4.about()"
   ]
  },
  {
   "cell_type": "code",
   "execution_count": 8,
   "id": "2fadc785",
   "metadata": {},
   "outputs": [
    {
     "name": "stdout",
     "output_type": "stream",
     "text": [
      "\n",
      "Subalgebras of <Group:A4, ID:4471216592>\n",
      "  There are 3 unique proper subalgebras, up to isomorphism, out of 8 total subalgebras.\n",
      "  as shown by the partitions below:\n",
      "\n",
      "1 Commutative Normal Group of order 4 with identity '()':\n",
      "      Group: A4_subalgebra_0: ['()', '(0 1)(2 3)', '(0 3)(1 2)', '(0 2)(1 3)']\n",
      "\n",
      "4 Isomorphic Commutative Groups of order 3 with identity '()':\n",
      "      Group: A4_subalgebra_1: ['()', '(0 1 2)', '(0 2 1)']\n",
      "      Group: A4_subalgebra_2: ['()', '(0 1 3)', '(0 3 1)']\n",
      "      Group: A4_subalgebra_4: ['()', '(0 3 2)', '(0 2 3)']\n",
      "      Group: A4_subalgebra_7: ['()', '(1 3 2)', '(1 2 3)']\n",
      "\n",
      "3 Isomorphic Commutative Groups of order 2 with identity '()':\n",
      "      Group: A4_subalgebra_3: ['()', '(0 2)(1 3)']\n",
      "      Group: A4_subalgebra_5: ['()', '(0 1)(2 3)']\n",
      "      Group: A4_subalgebra_6: ['()', '(0 3)(1 2)']\n",
      "\n"
     ]
    }
   ],
   "source": [
    "_ = alg.about_subalgebras(a4)"
   ]
  },
  {
   "cell_type": "code",
   "execution_count": 9,
   "id": "c7100724-d775-4fab-a1cb-23e7f151fa06",
   "metadata": {},
   "outputs": [
    {
     "data": {
      "text/plain": [
       "[Group(\n",
       " 'A4_subalgebra_0',\n",
       " 'Subalgebra of: Alternating group on 4 letters (AKA Tetrahedral group)',\n",
       " ['()', '(0 1)(2 3)', '(0 3)(1 2)', '(0 2)(1 3)'],\n",
       " [[0, 1, 2, 3], [1, 0, 3, 2], [2, 3, 0, 1], [3, 2, 1, 0]]\n",
       " ),\n",
       " Group(\n",
       " 'A4_subalgebra_1',\n",
       " 'Subalgebra of: Alternating group on 4 letters (AKA Tetrahedral group)',\n",
       " ['()', '(0 1 2)', '(0 2 1)'],\n",
       " [[0, 1, 2], [1, 2, 0], [2, 0, 1]]\n",
       " ),\n",
       " Group(\n",
       " 'A4_subalgebra_2',\n",
       " 'Subalgebra of: Alternating group on 4 letters (AKA Tetrahedral group)',\n",
       " ['()', '(0 1 3)', '(0 3 1)'],\n",
       " [[0, 1, 2], [1, 2, 0], [2, 0, 1]]\n",
       " ),\n",
       " Group(\n",
       " 'A4_subalgebra_3',\n",
       " 'Subalgebra of: Alternating group on 4 letters (AKA Tetrahedral group)',\n",
       " ['()', '(0 2)(1 3)'],\n",
       " [[0, 1], [1, 0]]\n",
       " ),\n",
       " Group(\n",
       " 'A4_subalgebra_4',\n",
       " 'Subalgebra of: Alternating group on 4 letters (AKA Tetrahedral group)',\n",
       " ['()', '(0 3 2)', '(0 2 3)'],\n",
       " [[0, 1, 2], [1, 2, 0], [2, 0, 1]]\n",
       " ),\n",
       " Group(\n",
       " 'A4_subalgebra_5',\n",
       " 'Subalgebra of: Alternating group on 4 letters (AKA Tetrahedral group)',\n",
       " ['()', '(0 1)(2 3)'],\n",
       " [[0, 1], [1, 0]]\n",
       " ),\n",
       " Group(\n",
       " 'A4_subalgebra_6',\n",
       " 'Subalgebra of: Alternating group on 4 letters (AKA Tetrahedral group)',\n",
       " ['()', '(0 3)(1 2)'],\n",
       " [[0, 1], [1, 0]]\n",
       " ),\n",
       " Group(\n",
       " 'A4_subalgebra_7',\n",
       " 'Subalgebra of: Alternating group on 4 letters (AKA Tetrahedral group)',\n",
       " ['()', '(1 3 2)', '(1 2 3)'],\n",
       " [[0, 1, 2], [1, 2, 0], [2, 0, 1]]\n",
       " )]"
      ]
     },
     "execution_count": 9,
     "metadata": {},
     "output_type": "execute_result"
    }
   ],
   "source": [
    "a4_subs = a4.proper_subalgebras()\n",
    "a4_subs"
   ]
  },
  {
   "cell_type": "markdown",
   "id": "5499601a-c618-4752-abb8-7e3a0ca17011",
   "metadata": {},
   "source": [
    "The following subgroups of $A_4$ are of order 4, 3, and 2:"
   ]
  },
  {
   "cell_type": "code",
   "execution_count": 16,
   "id": "cd96ac23-e92b-43d1-b839-681c5a59cec6",
   "metadata": {},
   "outputs": [],
   "source": [
    "a4_4 = alg.Group(\n",
    "    'A4_subalgebra_0',\n",
    "    'Subalgebra of: Alternating group on 4 letters (AKA Tetrahedral group)',\n",
    "    ['()', '(0 1)(2 3)', '(0 3)(1 2)', '(0 2)(1 3)'],\n",
    "    [[0, 1, 2, 3], [1, 0, 3, 2], [2, 3, 0, 1], [3, 2, 1, 0]]\n",
    ")"
   ]
  },
  {
   "cell_type": "code",
   "execution_count": 17,
   "id": "a9e4133e-9547-4697-a874-546686298b2c",
   "metadata": {},
   "outputs": [],
   "source": [
    "a4_3 = alg.Group(\n",
    "    'A4_subalgebra_1',\n",
    "    'Subalgebra of: Alternating group on 4 letters (AKA Tetrahedral group)',\n",
    "    ['()', '(0 1 2)', '(0 2 1)'],\n",
    "    [[0, 1, 2], [1, 2, 0], [2, 0, 1]]\n",
    ")"
   ]
  },
  {
   "cell_type": "code",
   "execution_count": 18,
   "id": "258c923d-c128-4fb8-b1a1-9fbd2353820a",
   "metadata": {},
   "outputs": [],
   "source": [
    "a4_2 = alg.Group(\n",
    "    'A4_subalgebra_3',\n",
    "    'Subalgebra of: Alternating group on 4 letters (AKA Tetrahedral group)',\n",
    "    ['()', '(0 2)(1 3)'],\n",
    "    [[0, 1], [1, 0]]\n",
    ")"
   ]
  },
  {
   "cell_type": "markdown",
   "id": "e578abcb-8387-48a3-a1e4-1d9168f44eef",
   "metadata": {},
   "source": [
    "Note how the three subgroups, above, are isomorphic to $C_2 \\times C_2$, $C_3$, and $C_2$, as shown below."
   ]
  },
  {
   "cell_type": "code",
   "execution_count": 19,
   "id": "1e52bdfe-af90-4648-a0cc-2e2099ec9569",
   "metadata": {},
   "outputs": [],
   "source": [
    "c2 = alg.generate_cyclic_group(2)\n",
    "c3 = alg.generate_cyclic_group(3)\n",
    "c2xc2 = c2 * c2"
   ]
  },
  {
   "cell_type": "code",
   "execution_count": 20,
   "id": "5df763b6-9f92-447b-8327-146f427edf2a",
   "metadata": {},
   "outputs": [
    {
     "data": {
      "text/plain": [
       "{'()': '0:0', '(0 1)(2 3)': '0:1', '(0 3)(1 2)': '1:0', '(0 2)(1 3)': '1:1'}"
      ]
     },
     "execution_count": 20,
     "metadata": {},
     "output_type": "execute_result"
    }
   ],
   "source": [
    "a4_4.isomorphic(c2xc2)"
   ]
  },
  {
   "cell_type": "code",
   "execution_count": 21,
   "id": "d4a72e23-2400-41d7-b49e-efaca253b103",
   "metadata": {},
   "outputs": [
    {
     "data": {
      "text/plain": [
       "{'()': '0', '(0 1 2)': '1', '(0 2 1)': '2'}"
      ]
     },
     "execution_count": 21,
     "metadata": {},
     "output_type": "execute_result"
    }
   ],
   "source": [
    "a4_3.isomorphic(c3)"
   ]
  },
  {
   "cell_type": "code",
   "execution_count": 22,
   "id": "f96f4d0c-94f0-40e6-bdce-81f684e39e81",
   "metadata": {},
   "outputs": [
    {
     "data": {
      "text/plain": [
       "{'()': '0', '(0 2)(1 3)': '1'}"
      ]
     },
     "execution_count": 22,
     "metadata": {},
     "output_type": "execute_result"
    }
   ],
   "source": [
    "a4_2.isomorphic(c2)"
   ]
  },
  {
   "cell_type": "markdown",
   "id": "7e18cf88",
   "metadata": {},
   "source": [
    "### Cosets of a Non-Normal Subgroup"
   ]
  },
  {
   "cell_type": "markdown",
   "id": "2b642b3a",
   "metadata": {},
   "source": [
    "The left & right cosets are not necessarily the same for non-normal subgroups"
   ]
  },
  {
   "cell_type": "code",
   "execution_count": 23,
   "id": "8e07899c-9ace-4294-9656-57dadfe58cca",
   "metadata": {},
   "outputs": [
    {
     "data": {
      "text/plain": [
       "False"
      ]
     },
     "execution_count": 23,
     "metadata": {},
     "output_type": "execute_result"
    }
   ],
   "source": [
    "a4.is_normal(a4_3)"
   ]
  },
  {
   "cell_type": "code",
   "execution_count": 32,
   "id": "97a527c9",
   "metadata": {},
   "outputs": [
    {
     "data": {
      "text/plain": [
       "[['(0 1)(2 3)', '(0 3 2)', '(1 3 2)'],\n",
       " ['()', '(0 1 2)', '(0 2 1)'],\n",
       " ['(0 1 3)', '(0 2 3)', '(0 3)(1 2)'],\n",
       " ['(0 2)(1 3)', '(0 3 1)', '(1 2 3)']]"
      ]
     },
     "execution_count": 32,
     "metadata": {},
     "output_type": "execute_result"
    }
   ],
   "source": [
    "a4_3_lc = list(a4.left_cosets(a4_3))\n",
    "a4_3_lc"
   ]
  },
  {
   "cell_type": "code",
   "execution_count": 33,
   "id": "27042538",
   "metadata": {},
   "outputs": [
    {
     "data": {
      "text/plain": [
       "[['(0 1 3)', '(0 2)(1 3)', '(1 3 2)'],\n",
       " ['()', '(0 1 2)', '(0 2 1)'],\n",
       " ['(0 3 1)', '(0 3 2)', '(0 3)(1 2)'],\n",
       " ['(0 1)(2 3)', '(0 2 3)', '(1 2 3)']]"
      ]
     },
     "execution_count": 33,
     "metadata": {},
     "output_type": "execute_result"
    }
   ],
   "source": [
    "a4_3_rc = list(a4.right_cosets(a4_3))\n",
    "a4_3_rc"
   ]
  },
  {
   "cell_type": "code",
   "execution_count": 37,
   "id": "b05961e8-754e-4fa6-a3b3-b1a921bf4a4c",
   "metadata": {},
   "outputs": [],
   "source": [
    "def symm_diff_of_two_lists_of_lists (list1, list2):\n",
    "    \"\"\"Return the symmetric difference between two lists of lists\"\"\"\n",
    "    # Turn the inner lists into tuples, because tuples\n",
    "    # are hashable and lists are not. Then turn the outer\n",
    "    # lists into sets, before applying the symm diff operator.\n",
    "    return set(map(tuple, list1)) ^ set(map(tuple, list2))\n",
    "\n",
    "def same_cosets(cosets1, cosets2):\n",
    "    return not symm_diff_of_two_lists_of_lists(cosets1, cosets2)"
   ]
  },
  {
   "cell_type": "code",
   "execution_count": 38,
   "id": "2218b343-7ea7-42ee-86a8-c9c001abb8ef",
   "metadata": {},
   "outputs": [
    {
     "data": {
      "text/plain": [
       "{('(0 1 3)', '(0 2 3)', '(0 3)(1 2)'),\n",
       " ('(0 1 3)', '(0 2)(1 3)', '(1 3 2)'),\n",
       " ('(0 1)(2 3)', '(0 2 3)', '(1 2 3)'),\n",
       " ('(0 1)(2 3)', '(0 3 2)', '(1 3 2)'),\n",
       " ('(0 2)(1 3)', '(0 3 1)', '(1 2 3)'),\n",
       " ('(0 3 1)', '(0 3 2)', '(0 3)(1 2)')}"
      ]
     },
     "execution_count": 38,
     "metadata": {},
     "output_type": "execute_result"
    }
   ],
   "source": [
    "symm_diff_of_two_lists_of_lists(a4_3_lc, a4_3_rc)"
   ]
  },
  {
   "cell_type": "code",
   "execution_count": 39,
   "id": "98c3c702-1d0c-4f95-b55c-8b288e56de36",
   "metadata": {},
   "outputs": [
    {
     "data": {
      "text/plain": [
       "False"
      ]
     },
     "execution_count": 39,
     "metadata": {},
     "output_type": "execute_result"
    }
   ],
   "source": [
    "same_cosets(a4_3_lc, a4_3_rc)"
   ]
  },
  {
   "cell_type": "markdown",
   "id": "5b4cdc57",
   "metadata": {},
   "source": [
    "### Cosets of a Normal Subgroup"
   ]
  },
  {
   "cell_type": "markdown",
   "id": "6371485d",
   "metadata": {},
   "source": [
    "The left & right cosets are the same for normal subgroups"
   ]
  },
  {
   "cell_type": "code",
   "execution_count": 42,
   "id": "88353915-3d7d-4b6b-9446-740bf859a407",
   "metadata": {},
   "outputs": [],
   "source": [
    "a42 = alg.Group(\n",
    "    'A4_subalgebra_2',\n",
    "    'Subalgebra of: Alternating group on 4 letters (AKA Tetrahedral group)',\n",
    "    ['()', '(0 1)(2 3)', '(0 3)(1 2)', '(0 2)(1 3)'],\n",
    "    [[0, 1, 2, 3], [1, 0, 3, 2], [2, 3, 0, 1], [3, 2, 1, 0]]\n",
    ")"
   ]
  },
  {
   "cell_type": "code",
   "execution_count": 43,
   "id": "fcfe8933",
   "metadata": {},
   "outputs": [
    {
     "data": {
      "text/plain": [
       "[['()', '(0 1)(2 3)', '(0 2)(1 3)', '(0 3)(1 2)'],\n",
       " ['(0 1 2)', '(0 2 3)', '(0 3 1)', '(1 3 2)'],\n",
       " ['(0 1 3)', '(0 2 1)', '(0 3 2)', '(1 2 3)']]"
      ]
     },
     "execution_count": 43,
     "metadata": {},
     "output_type": "execute_result"
    }
   ],
   "source": [
    "a4_2_lc = list(a4.left_cosets(a42))\n",
    "a4_2_lc"
   ]
  },
  {
   "cell_type": "code",
   "execution_count": 44,
   "id": "b4738d7e",
   "metadata": {},
   "outputs": [
    {
     "data": {
      "text/plain": [
       "[['()', '(0 1)(2 3)', '(0 2)(1 3)', '(0 3)(1 2)'],\n",
       " ['(0 1 2)', '(0 2 3)', '(0 3 1)', '(1 3 2)'],\n",
       " ['(0 1 3)', '(0 2 1)', '(0 3 2)', '(1 2 3)']]"
      ]
     },
     "execution_count": 44,
     "metadata": {},
     "output_type": "execute_result"
    }
   ],
   "source": [
    "a4_2_rc = list(a4.right_cosets(a42))\n",
    "a4_2_rc"
   ]
  },
  {
   "cell_type": "code",
   "execution_count": 45,
   "id": "97165ed9-3ba7-4371-97d0-142b9e7f6f0b",
   "metadata": {},
   "outputs": [
    {
     "data": {
      "text/plain": [
       "True"
      ]
     },
     "execution_count": 45,
     "metadata": {},
     "output_type": "execute_result"
    }
   ],
   "source": [
    "same_cosets(a4_2_lc, a4_2_rc)"
   ]
  },
  {
   "cell_type": "markdown",
   "id": "d0d7b09c",
   "metadata": {},
   "source": [
    "## Cosets of a Monoid"
   ]
  },
  {
   "cell_type": "markdown",
   "id": "28fca225",
   "metadata": {},
   "source": [
    "Generate a Monoid by generating a Ring and then extracting its multiplicative algebra."
   ]
  },
  {
   "cell_type": "code",
   "execution_count": 46,
   "id": "f472ed84",
   "metadata": {},
   "outputs": [
    {
     "name": "stdout",
     "output_type": "stream",
     "text": [
      "\n",
      "** Ring **\n",
      "Name: R8\n",
      "Instance ID: 4507143184\n",
      "Description: Autogenerated Ring of integers mod 8\n",
      "Order: 8\n",
      "Identity: '0'\n",
      "Commutative? Yes\n",
      "Cyclic?: Yes\n",
      "Generators: ['3', '7', '5', '1']\n",
      "Elements:\n",
      "   Index   Name   Inverse  Order\n",
      "      0     '0'     '0'       0\n",
      "      1     '1'     '7'       0\n",
      "      2     '2'     '6'       0\n",
      "      3     '3'     '5'       0\n",
      "      4     '4'     '4'       0\n",
      "      5     '5'     '3'       0\n",
      "      6     '6'     '2'       0\n",
      "      7     '7'     '1'       0\n",
      "Cayley Table (showing indices):\n",
      "[[0, 1, 2, 3, 4, 5, 6, 7],\n",
      " [1, 2, 3, 4, 5, 6, 7, 0],\n",
      " [2, 3, 4, 5, 6, 7, 0, 1],\n",
      " [3, 4, 5, 6, 7, 0, 1, 2],\n",
      " [4, 5, 6, 7, 0, 1, 2, 3],\n",
      " [5, 6, 7, 0, 1, 2, 3, 4],\n",
      " [6, 7, 0, 1, 2, 3, 4, 5],\n",
      " [7, 0, 1, 2, 3, 4, 5, 6]]\n",
      "Mult. Identity: '1'\n",
      "Mult. Commutative? Yes\n",
      "Zero Divisors: ['2', '4', '6']\n",
      "Multiplicative Cayley Table (showing indices):\n",
      "[[0, 0, 0, 0, 0, 0, 0, 0],\n",
      " [0, 1, 2, 3, 4, 5, 6, 7],\n",
      " [0, 2, 4, 6, 0, 2, 4, 6],\n",
      " [0, 3, 6, 1, 4, 7, 2, 5],\n",
      " [0, 4, 0, 4, 0, 4, 0, 4],\n",
      " [0, 5, 2, 7, 4, 1, 6, 3],\n",
      " [0, 6, 4, 2, 0, 6, 4, 2],\n",
      " [0, 7, 6, 5, 4, 3, 2, 1]]\n"
     ]
    }
   ],
   "source": [
    "m8 = alg.generate_algebra_mod_n(8)\n",
    "m8.about()"
   ]
  },
  {
   "cell_type": "code",
   "execution_count": 47,
   "id": "4dafb75c",
   "metadata": {},
   "outputs": [
    {
     "name": "stdout",
     "output_type": "stream",
     "text": [
      "\n",
      "** Monoid **\n",
      "Name: R8.Mult\n",
      "Instance ID: 4491554320\n",
      "Description: Multiplicative-only portion of R8\n",
      "Order: 8\n",
      "Identity: 1\n",
      "Associative? Yes\n",
      "Commutative? Yes\n",
      "Cyclic?: No\n",
      "Elements: ['0', '1', '2', '3', '4', '5', '6', '7']\n",
      "Has Inverses? No\n",
      "Cayley Table (showing indices):\n",
      "[[0, 0, 0, 0, 0, 0, 0, 0],\n",
      " [0, 1, 2, 3, 4, 5, 6, 7],\n",
      " [0, 2, 4, 6, 0, 2, 4, 6],\n",
      " [0, 3, 6, 1, 4, 7, 2, 5],\n",
      " [0, 4, 0, 4, 0, 4, 0, 4],\n",
      " [0, 5, 2, 7, 4, 1, 6, 3],\n",
      " [0, 6, 4, 2, 0, 6, 4, 2],\n",
      " [0, 7, 6, 5, 4, 3, 2, 1]]\n"
     ]
    }
   ],
   "source": [
    "m8_mul = m8.extract_multiplicative_algebra()\n",
    "m8_mul.about()"
   ]
  },
  {
   "cell_type": "code",
   "execution_count": 49,
   "id": "ddaabd72",
   "metadata": {},
   "outputs": [
    {
     "name": "stdout",
     "output_type": "stream",
     "text": [
      "\n",
      "Subalgebras of <Monoid:R8.Mult, ID:4491554320>\n",
      "  There are 16 unique proper subalgebras, up to isomorphism, out of 26 total subalgebras.\n",
      "  as shown by the partitions below:\n",
      "\n",
      "1 Commutative Monoid of order 5 with identity '1':\n",
      "      Monoid: R8.Mult_subalgebra_0: ['0', '1', '2', '4', '6']\n",
      "\n",
      "2 Isomorphic Commutative Monoids of order 5 with identity '1':\n",
      "      Monoid: R8.Mult_subalgebra_1: ['0', '1', '2', '4', '5']\n",
      "      Monoid: R8.Mult_subalgebra_14: ['0', '1', '4', '5', '6']\n",
      "\n",
      "2 Isomorphic Commutative Monoids of order 4 with identity '1':\n",
      "      Monoid: R8.Mult_subalgebra_2: ['0', '1', '4', '6']\n",
      "      Monoid: R8.Mult_subalgebra_17: ['0', '1', '2', '4']\n",
      "\n",
      "2 Isomorphic Commutative Semigroups of order 3:\n",
      "      Semigroup: R8.Mult_subalgebra_3: ['0', '2', '4']\n",
      "      Semigroup: R8.Mult_subalgebra_13: ['0', '4', '6']\n",
      "\n",
      "3 Isomorphic Commutative Monoids of order 3 with identity '1':\n",
      "      Monoid: R8.Mult_subalgebra_4: ['0', '1', '5']\n",
      "      Monoid: R8.Mult_subalgebra_7: ['0', '1', '7']\n",
      "      Monoid: R8.Mult_subalgebra_12: ['0', '1', '3']\n",
      "\n",
      "1 Commutative Semigroup of order 2:\n",
      "      Semigroup: R8.Mult_subalgebra_5: ['0', '4']\n",
      "\n",
      "3 Isomorphic Commutative Monoids of order 4 with identity '1':\n",
      "      Monoid: R8.Mult_subalgebra_6: ['0', '1', '4', '7']\n",
      "      Monoid: R8.Mult_subalgebra_9: ['0', '1', '4', '5']\n",
      "      Monoid: R8.Mult_subalgebra_11: ['0', '1', '3', '4']\n",
      "\n",
      "1 Commutative Monoid of order 2 with identity '1':\n",
      "      Monoid: R8.Mult_subalgebra_8: ['0', '1']\n",
      "\n",
      "1 Commutative Monoid of order 3 with identity '1':\n",
      "      Monoid: R8.Mult_subalgebra_10: ['0', '1', '4']\n",
      "\n",
      "3 Isomorphic Commutative Groups of order 2 with identity '1':\n",
      "      Group: R8.Mult_subalgebra_15: ['1', '7']\n",
      "      Group: R8.Mult_subalgebra_19: ['1', '3']\n",
      "      Group: R8.Mult_subalgebra_20: ['1', '5']\n",
      "\n",
      "2 Isomorphic Commutative Monoids of order 6 with identity '1':\n",
      "      Monoid: R8.Mult_subalgebra_16: ['0', '1', '2', '4', '6', '7']\n",
      "      Monoid: R8.Mult_subalgebra_25: ['0', '1', '2', '3', '4', '6']\n",
      "\n",
      "1 Commutative Semigroup of order 4:\n",
      "      Semigroup: R8.Mult_subalgebra_18: ['0', '2', '4', '6']\n",
      "\n",
      "1 Commutative Group of order 4 with identity '1':\n",
      "      Group: R8.Mult_subalgebra_21: ['1', '3', '5', '7']\n",
      "\n",
      "1 Commutative Monoid of order 5 with identity '1':\n",
      "      Monoid: R8.Mult_subalgebra_22: ['0', '1', '3', '5', '7']\n",
      "\n",
      "1 Commutative Monoid of order 6 with identity '1':\n",
      "      Monoid: R8.Mult_subalgebra_23: ['0', '1', '2', '4', '5', '6']\n",
      "\n",
      "1 Commutative Monoid of order 6 with identity '1':\n",
      "      Monoid: R8.Mult_subalgebra_24: ['0', '1', '3', '4', '5', '7']\n",
      "\n"
     ]
    }
   ],
   "source": [
    "m8_mul_subs = alg.about_subalgebras(m8_mul)"
   ]
  },
  {
   "cell_type": "markdown",
   "id": "d203d825",
   "metadata": {},
   "source": [
    "### Cosets a Subgroup of a Monoid"
   ]
  },
  {
   "cell_type": "code",
   "execution_count": 50,
   "id": "e3598f9d-d83f-4473-b7f6-6d46679587bc",
   "metadata": {},
   "outputs": [],
   "source": [
    "m83 = alg.Group(\n",
    "    'R8.Mult_subalgebra_3',\n",
    "    'Subalgebra of: Multiplicative-only portion of R8',\n",
    "    ['1', '3', '5', '7'],\n",
    "    [[0, 1, 2, 3], [1, 0, 3, 2], [2, 3, 0, 1], [3, 2, 1, 0]]\n",
    ")"
   ]
  },
  {
   "cell_type": "markdown",
   "id": "4e1791ce",
   "metadata": {},
   "source": [
    "By the way, this subgroup is isomorphic to the Klein-4 Group."
   ]
  },
  {
   "cell_type": "code",
   "execution_count": 51,
   "id": "be5238cf",
   "metadata": {},
   "outputs": [
    {
     "data": {
      "text/plain": [
       "'Klein-4 group'"
      ]
     },
     "execution_count": 51,
     "metadata": {},
     "output_type": "execute_result"
    }
   ],
   "source": [
    "v4 = ex[7]\n",
    "v4.description"
   ]
  },
  {
   "cell_type": "code",
   "execution_count": 52,
   "id": "ec945a7c",
   "metadata": {},
   "outputs": [
    {
     "data": {
      "text/plain": [
       "{'e': '1', 'h': '3', 'v': '5', 'r': '7'}"
      ]
     },
     "execution_count": 52,
     "metadata": {},
     "output_type": "execute_result"
    }
   ],
   "source": [
    "v4.isomorphic(m83)"
   ]
  },
  {
   "cell_type": "code",
   "execution_count": 53,
   "id": "50649e10",
   "metadata": {},
   "outputs": [
    {
     "data": {
      "text/plain": [
       "[['2', '6'], ['1', '3', '5', '7'], ['4'], ['0']]"
      ]
     },
     "execution_count": 53,
     "metadata": {},
     "output_type": "execute_result"
    }
   ],
   "source": [
    "m8_mul_3_lc = list(m8_mul.left_cosets(m83))\n",
    "m8_mul_3_lc"
   ]
  },
  {
   "cell_type": "code",
   "execution_count": 54,
   "id": "61b74cac",
   "metadata": {},
   "outputs": [
    {
     "data": {
      "text/plain": [
       "[['2', '6'], ['1', '3', '5', '7'], ['4'], ['0']]"
      ]
     },
     "execution_count": 54,
     "metadata": {},
     "output_type": "execute_result"
    }
   ],
   "source": [
    "m8_mul_3_rc = list(m8_mul.right_cosets(m83))\n",
    "m8_mul_3_rc"
   ]
  },
  {
   "cell_type": "code",
   "execution_count": 55,
   "id": "1970620b-69e2-4e41-958b-829acce43d2a",
   "metadata": {},
   "outputs": [
    {
     "data": {
      "text/plain": [
       "True"
      ]
     },
     "execution_count": 55,
     "metadata": {},
     "output_type": "execute_result"
    }
   ],
   "source": [
    "same_cosets(m8_mul_3_lc, m8_mul_3_rc)"
   ]
  },
  {
   "cell_type": "markdown",
   "id": "a6625be4",
   "metadata": {},
   "source": [
    "### Cosets of Submonoid of a Monoid"
   ]
  },
  {
   "cell_type": "code",
   "execution_count": 57,
   "id": "138c1500-7d30-4304-a614-7776fe8c51c0",
   "metadata": {},
   "outputs": [],
   "source": [
    "m87 = alg.Monoid(\n",
    "    'R8.Mult_subalgebra_7',\n",
    "    'Subalgebra of: Multiplicative-only portion of R8',\n",
    "    ['0', '1', '4', '7'],\n",
    "    [[0, 0, 0, 0], [0, 1, 2, 3], [0, 2, 0, 2], [0, 3, 2, 1]]\n",
    ")"
   ]
  },
  {
   "cell_type": "code",
   "execution_count": 58,
   "id": "b33e630d",
   "metadata": {},
   "outputs": [
    {
     "data": {
      "text/plain": [
       "[['0', '4'],\n",
       " ['0', '3', '4', '5'],\n",
       " ['0'],\n",
       " ['0', '2', '6'],\n",
       " ['0', '1', '4', '7']]"
      ]
     },
     "execution_count": 58,
     "metadata": {},
     "output_type": "execute_result"
    }
   ],
   "source": [
    "m8_mul_7_lc = list(m8_mul.left_cosets(m87))\n",
    "m8_mul_7_lc"
   ]
  },
  {
   "cell_type": "code",
   "execution_count": 59,
   "id": "ed9670f1",
   "metadata": {},
   "outputs": [
    {
     "data": {
      "text/plain": [
       "[['0', '4'],\n",
       " ['0', '3', '4', '5'],\n",
       " ['0'],\n",
       " ['0', '2', '6'],\n",
       " ['0', '1', '4', '7']]"
      ]
     },
     "execution_count": 59,
     "metadata": {},
     "output_type": "execute_result"
    }
   ],
   "source": [
    "m8_mul_7_rc = list(m8_mul.right_cosets(m87))\n",
    "m8_mul_7_rc"
   ]
  },
  {
   "cell_type": "code",
   "execution_count": 60,
   "id": "b7d460a7",
   "metadata": {},
   "outputs": [
    {
     "data": {
      "text/plain": [
       "True"
      ]
     },
     "execution_count": 60,
     "metadata": {},
     "output_type": "execute_result"
    }
   ],
   "source": [
    "same_cosets(m8_mul_7_lc, m8_mul_7_rc)"
   ]
  },
  {
   "cell_type": "markdown",
   "id": "a3a75082-061d-4108-bb85-c3e036cc9122",
   "metadata": {},
   "source": [
    "## Multiplying Coset Elements"
   ]
  },
  {
   "cell_type": "code",
   "execution_count": 63,
   "id": "d3dd2d7d-c371-4e19-90bc-c5647d2b6663",
   "metadata": {},
   "outputs": [
    {
     "data": {
      "text/plain": [
       "[['()', '(0 1)(2 3)', '(0 2)(1 3)', '(0 3)(1 2)'],\n",
       " ['(0 1 2)', '(0 2 3)', '(0 3 1)', '(1 3 2)'],\n",
       " ['(0 1 3)', '(0 2 1)', '(0 3 2)', '(1 2 3)']]"
      ]
     },
     "execution_count": 63,
     "metadata": {},
     "output_type": "execute_result"
    }
   ],
   "source": [
    "a4_2_lc"
   ]
  },
  {
   "cell_type": "code",
   "execution_count": 84,
   "id": "7d4e9955-37f5-426b-a6b7-f16514bd960e",
   "metadata": {},
   "outputs": [
    {
     "name": "stdout",
     "output_type": "stream",
     "text": [
      "\n",
      "c = ['()', '(0 1)(2 3)', '(0 2)(1 3)', '(0 3)(1 2)']\n",
      "d = ['()', '(0 1)(2 3)', '(0 2)(1 3)', '(0 3)(1 2)']\n",
      "() * () = ()\n",
      "(0 1)(2 3) * () = (0 1)(2 3)\n",
      "(0 2)(1 3) * () = (0 2)(1 3)\n",
      "(0 3)(1 2) * () = (0 3)(1 2)\n",
      "d = ['(0 1 2)', '(0 2 3)', '(0 3 1)', '(1 3 2)']\n",
      "(0 1 2) * () = (0 1 2)\n",
      "(0 2 3) * () = (0 2 3)\n",
      "(0 3 1) * () = (0 3 1)\n",
      "(1 3 2) * () = (1 3 2)\n",
      "d = ['(0 1 3)', '(0 2 1)', '(0 3 2)', '(1 2 3)']\n",
      "(0 1 3) * () = (0 1 3)\n",
      "(0 2 1) * () = (0 2 1)\n",
      "(0 3 2) * () = (0 3 2)\n",
      "(1 2 3) * () = (1 2 3)\n",
      "d = ['()', '(0 1)(2 3)', '(0 2)(1 3)', '(0 3)(1 2)']\n",
      "() * (0 1)(2 3) = (0 1)(2 3)\n",
      "(0 1)(2 3) * (0 1)(2 3) = ()\n",
      "(0 2)(1 3) * (0 1)(2 3) = (0 3)(1 2)\n",
      "(0 3)(1 2) * (0 1)(2 3) = (0 2)(1 3)\n",
      "d = ['(0 1 2)', '(0 2 3)', '(0 3 1)', '(1 3 2)']\n",
      "(0 1 2) * (0 1)(2 3) = (0 2 3)\n",
      "(0 2 3) * (0 1)(2 3) = (0 1 2)\n",
      "(0 3 1) * (0 1)(2 3) = (1 3 2)\n",
      "(1 3 2) * (0 1)(2 3) = (0 3 1)\n",
      "d = ['(0 1 3)', '(0 2 1)', '(0 3 2)', '(1 2 3)']\n",
      "(0 1 3) * (0 1)(2 3) = (0 3 2)\n",
      "(0 2 1) * (0 1)(2 3) = (1 2 3)\n",
      "(0 3 2) * (0 1)(2 3) = (0 1 3)\n",
      "(1 2 3) * (0 1)(2 3) = (0 2 1)\n",
      "d = ['()', '(0 1)(2 3)', '(0 2)(1 3)', '(0 3)(1 2)']\n",
      "() * (0 2)(1 3) = (0 2)(1 3)\n",
      "(0 1)(2 3) * (0 2)(1 3) = (0 3)(1 2)\n",
      "(0 2)(1 3) * (0 2)(1 3) = ()\n",
      "(0 3)(1 2) * (0 2)(1 3) = (0 1)(2 3)\n",
      "d = ['(0 1 2)', '(0 2 3)', '(0 3 1)', '(1 3 2)']\n",
      "(0 1 2) * (0 2)(1 3) = (1 3 2)\n",
      "(0 2 3) * (0 2)(1 3) = (0 3 1)\n",
      "(0 3 1) * (0 2)(1 3) = (0 2 3)\n",
      "(1 3 2) * (0 2)(1 3) = (0 1 2)\n",
      "d = ['(0 1 3)', '(0 2 1)', '(0 3 2)', '(1 2 3)']\n",
      "(0 1 3) * (0 2)(1 3) = (0 2 1)\n",
      "(0 2 1) * (0 2)(1 3) = (0 1 3)\n",
      "(0 3 2) * (0 2)(1 3) = (1 2 3)\n",
      "(1 2 3) * (0 2)(1 3) = (0 3 2)\n",
      "d = ['()', '(0 1)(2 3)', '(0 2)(1 3)', '(0 3)(1 2)']\n",
      "() * (0 3)(1 2) = (0 3)(1 2)\n",
      "(0 1)(2 3) * (0 3)(1 2) = (0 2)(1 3)\n",
      "(0 2)(1 3) * (0 3)(1 2) = (0 1)(2 3)\n",
      "(0 3)(1 2) * (0 3)(1 2) = ()\n",
      "d = ['(0 1 2)', '(0 2 3)', '(0 3 1)', '(1 3 2)']\n",
      "(0 1 2) * (0 3)(1 2) = (0 3 1)\n",
      "(0 2 3) * (0 3)(1 2) = (1 3 2)\n",
      "(0 3 1) * (0 3)(1 2) = (0 1 2)\n",
      "(1 3 2) * (0 3)(1 2) = (0 2 3)\n",
      "d = ['(0 1 3)', '(0 2 1)', '(0 3 2)', '(1 2 3)']\n",
      "(0 1 3) * (0 3)(1 2) = (1 2 3)\n",
      "(0 2 1) * (0 3)(1 2) = (0 3 2)\n",
      "(0 3 2) * (0 3)(1 2) = (0 2 1)\n",
      "(1 2 3) * (0 3)(1 2) = (0 1 3)\n",
      "\n",
      "c = ['(0 1 2)', '(0 2 3)', '(0 3 1)', '(1 3 2)']\n",
      "d = ['()', '(0 1)(2 3)', '(0 2)(1 3)', '(0 3)(1 2)']\n",
      "() * (0 1 2) = (0 1 2)\n",
      "(0 1)(2 3) * (0 1 2) = (1 3 2)\n",
      "(0 2)(1 3) * (0 1 2) = (0 3 1)\n",
      "(0 3)(1 2) * (0 1 2) = (0 2 3)\n",
      "d = ['(0 1 2)', '(0 2 3)', '(0 3 1)', '(1 3 2)']\n",
      "(0 1 2) * (0 1 2) = (0 2 1)\n",
      "(0 2 3) * (0 1 2) = (0 1 3)\n",
      "(0 3 1) * (0 1 2) = (1 2 3)\n",
      "(1 3 2) * (0 1 2) = (0 3 2)\n",
      "d = ['(0 1 3)', '(0 2 1)', '(0 3 2)', '(1 2 3)']\n",
      "(0 1 3) * (0 1 2) = (0 3)(1 2)\n",
      "(0 2 1) * (0 1 2) = ()\n",
      "(0 3 2) * (0 1 2) = (0 1)(2 3)\n",
      "(1 2 3) * (0 1 2) = (0 2)(1 3)\n",
      "d = ['()', '(0 1)(2 3)', '(0 2)(1 3)', '(0 3)(1 2)']\n",
      "() * (0 2 3) = (0 2 3)\n",
      "(0 1)(2 3) * (0 2 3) = (0 3 1)\n",
      "(0 2)(1 3) * (0 2 3) = (1 3 2)\n",
      "(0 3)(1 2) * (0 2 3) = (0 1 2)\n",
      "d = ['(0 1 2)', '(0 2 3)', '(0 3 1)', '(1 3 2)']\n",
      "(0 1 2) * (0 2 3) = (1 2 3)\n",
      "(0 2 3) * (0 2 3) = (0 3 2)\n",
      "(0 3 1) * (0 2 3) = (0 2 1)\n",
      "(1 3 2) * (0 2 3) = (0 1 3)\n",
      "d = ['(0 1 3)', '(0 2 1)', '(0 3 2)', '(1 2 3)']\n",
      "(0 1 3) * (0 2 3) = (0 2)(1 3)\n",
      "(0 2 1) * (0 2 3) = (0 1)(2 3)\n",
      "(0 3 2) * (0 2 3) = ()\n",
      "(1 2 3) * (0 2 3) = (0 3)(1 2)\n",
      "d = ['()', '(0 1)(2 3)', '(0 2)(1 3)', '(0 3)(1 2)']\n",
      "() * (0 3 1) = (0 3 1)\n",
      "(0 1)(2 3) * (0 3 1) = (0 2 3)\n",
      "(0 2)(1 3) * (0 3 1) = (0 1 2)\n",
      "(0 3)(1 2) * (0 3 1) = (1 3 2)\n",
      "d = ['(0 1 2)', '(0 2 3)', '(0 3 1)', '(1 3 2)']\n",
      "(0 1 2) * (0 3 1) = (0 3 2)\n",
      "(0 2 3) * (0 3 1) = (1 2 3)\n",
      "(0 3 1) * (0 3 1) = (0 1 3)\n",
      "(1 3 2) * (0 3 1) = (0 2 1)\n",
      "d = ['(0 1 3)', '(0 2 1)', '(0 3 2)', '(1 2 3)']\n",
      "(0 1 3) * (0 3 1) = ()\n",
      "(0 2 1) * (0 3 1) = (0 3)(1 2)\n",
      "(0 3 2) * (0 3 1) = (0 2)(1 3)\n",
      "(1 2 3) * (0 3 1) = (0 1)(2 3)\n",
      "d = ['()', '(0 1)(2 3)', '(0 2)(1 3)', '(0 3)(1 2)']\n",
      "() * (1 3 2) = (1 3 2)\n",
      "(0 1)(2 3) * (1 3 2) = (0 1 2)\n",
      "(0 2)(1 3) * (1 3 2) = (0 2 3)\n",
      "(0 3)(1 2) * (1 3 2) = (0 3 1)\n",
      "d = ['(0 1 2)', '(0 2 3)', '(0 3 1)', '(1 3 2)']\n",
      "(0 1 2) * (1 3 2) = (0 1 3)\n",
      "(0 2 3) * (1 3 2) = (0 2 1)\n",
      "(0 3 1) * (1 3 2) = (0 3 2)\n",
      "(1 3 2) * (1 3 2) = (1 2 3)\n",
      "d = ['(0 1 3)', '(0 2 1)', '(0 3 2)', '(1 2 3)']\n",
      "(0 1 3) * (1 3 2) = (0 1)(2 3)\n",
      "(0 2 1) * (1 3 2) = (0 2)(1 3)\n",
      "(0 3 2) * (1 3 2) = (0 3)(1 2)\n",
      "(1 2 3) * (1 3 2) = ()\n",
      "\n",
      "c = ['(0 1 3)', '(0 2 1)', '(0 3 2)', '(1 2 3)']\n",
      "d = ['()', '(0 1)(2 3)', '(0 2)(1 3)', '(0 3)(1 2)']\n",
      "() * (0 1 3) = (0 1 3)\n",
      "(0 1)(2 3) * (0 1 3) = (1 2 3)\n",
      "(0 2)(1 3) * (0 1 3) = (0 3 2)\n",
      "(0 3)(1 2) * (0 1 3) = (0 2 1)\n",
      "d = ['(0 1 2)', '(0 2 3)', '(0 3 1)', '(1 3 2)']\n",
      "(0 1 2) * (0 1 3) = (0 2)(1 3)\n",
      "(0 2 3) * (0 1 3) = (0 1)(2 3)\n",
      "(0 3 1) * (0 1 3) = ()\n",
      "(1 3 2) * (0 1 3) = (0 3)(1 2)\n",
      "d = ['(0 1 3)', '(0 2 1)', '(0 3 2)', '(1 2 3)']\n",
      "(0 1 3) * (0 1 3) = (0 3 1)\n",
      "(0 2 1) * (0 1 3) = (1 3 2)\n",
      "(0 3 2) * (0 1 3) = (0 1 2)\n",
      "(1 2 3) * (0 1 3) = (0 2 3)\n",
      "d = ['()', '(0 1)(2 3)', '(0 2)(1 3)', '(0 3)(1 2)']\n",
      "() * (0 2 1) = (0 2 1)\n",
      "(0 1)(2 3) * (0 2 1) = (0 3 2)\n",
      "(0 2)(1 3) * (0 2 1) = (1 2 3)\n",
      "(0 3)(1 2) * (0 2 1) = (0 1 3)\n",
      "d = ['(0 1 2)', '(0 2 3)', '(0 3 1)', '(1 3 2)']\n",
      "(0 1 2) * (0 2 1) = ()\n",
      "(0 2 3) * (0 2 1) = (0 3)(1 2)\n",
      "(0 3 1) * (0 2 1) = (0 2)(1 3)\n",
      "(1 3 2) * (0 2 1) = (0 1)(2 3)\n",
      "d = ['(0 1 3)', '(0 2 1)', '(0 3 2)', '(1 2 3)']\n",
      "(0 1 3) * (0 2 1) = (0 2 3)\n",
      "(0 2 1) * (0 2 1) = (0 1 2)\n",
      "(0 3 2) * (0 2 1) = (1 3 2)\n",
      "(1 2 3) * (0 2 1) = (0 3 1)\n",
      "d = ['()', '(0 1)(2 3)', '(0 2)(1 3)', '(0 3)(1 2)']\n",
      "() * (0 3 2) = (0 3 2)\n",
      "(0 1)(2 3) * (0 3 2) = (0 2 1)\n",
      "(0 2)(1 3) * (0 3 2) = (0 1 3)\n",
      "(0 3)(1 2) * (0 3 2) = (1 2 3)\n",
      "d = ['(0 1 2)', '(0 2 3)', '(0 3 1)', '(1 3 2)']\n",
      "(0 1 2) * (0 3 2) = (0 3)(1 2)\n",
      "(0 2 3) * (0 3 2) = ()\n",
      "(0 3 1) * (0 3 2) = (0 1)(2 3)\n",
      "(1 3 2) * (0 3 2) = (0 2)(1 3)\n",
      "d = ['(0 1 3)', '(0 2 1)', '(0 3 2)', '(1 2 3)']\n",
      "(0 1 3) * (0 3 2) = (1 3 2)\n",
      "(0 2 1) * (0 3 2) = (0 3 1)\n",
      "(0 3 2) * (0 3 2) = (0 2 3)\n",
      "(1 2 3) * (0 3 2) = (0 1 2)\n",
      "d = ['()', '(0 1)(2 3)', '(0 2)(1 3)', '(0 3)(1 2)']\n",
      "() * (1 2 3) = (1 2 3)\n",
      "(0 1)(2 3) * (1 2 3) = (0 1 3)\n",
      "(0 2)(1 3) * (1 2 3) = (0 2 1)\n",
      "(0 3)(1 2) * (1 2 3) = (0 3 2)\n",
      "d = ['(0 1 2)', '(0 2 3)', '(0 3 1)', '(1 3 2)']\n",
      "(0 1 2) * (1 2 3) = (0 1)(2 3)\n",
      "(0 2 3) * (1 2 3) = (0 2)(1 3)\n",
      "(0 3 1) * (1 2 3) = (0 3)(1 2)\n",
      "(1 3 2) * (1 2 3) = ()\n",
      "d = ['(0 1 3)', '(0 2 1)', '(0 3 2)', '(1 2 3)']\n",
      "(0 1 3) * (1 2 3) = (0 1 2)\n",
      "(0 2 1) * (1 2 3) = (0 2 3)\n",
      "(0 3 2) * (1 2 3) = (0 3 1)\n",
      "(1 2 3) * (1 2 3) = (1 3 2)\n"
     ]
    }
   ],
   "source": [
    "for c in a4_2_lc:\n",
    "    print(f\"\\n{c = }\")\n",
    "    for y in c:\n",
    "        for d in a4_2_lc:\n",
    "            print(f\"{d = }\")\n",
    "            for x in d:\n",
    "                print(f\"{x} * {y} = {a4.op(x, y)}\")"
   ]
  },
  {
   "cell_type": "code",
   "execution_count": null,
   "id": "db4c3440-4c65-43e6-8f43-bceb4bea40bc",
   "metadata": {},
   "outputs": [],
   "source": []
  }
 ],
 "metadata": {
  "kernelspec": {
   "display_name": "Python 3 (ipykernel)",
   "language": "python",
   "name": "python3"
  },
  "language_info": {
   "codemirror_mode": {
    "name": "ipython",
    "version": 3
   },
   "file_extension": ".py",
   "mimetype": "text/x-python",
   "name": "python",
   "nbconvert_exporter": "python",
   "pygments_lexer": "ipython3",
   "version": "3.11.5"
  }
 },
 "nbformat": 4,
 "nbformat_minor": 5
}
