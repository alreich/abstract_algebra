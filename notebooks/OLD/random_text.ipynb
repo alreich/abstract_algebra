{
 "cells": [
  {
   "cell_type": "markdown",
   "id": "840bb508",
   "metadata": {},
   "source": [
    "# Random Text"
   ]
  },
  {
   "cell_type": "markdown",
   "id": "32f49d05",
   "metadata": {},
   "source": [
    "## Abstract Algebra"
   ]
  },
  {
   "cell_type": "markdown",
   "id": "9aef8bce",
   "metadata": {},
   "source": [
    "To understand what is meant by *Abstract Algebra*, first consider the \"concrete\" version of algebra that most of us were taught in school.  It involved the arithmetic operations, addition ($+$), subtraction ($-$), multiplication ($\\times$), and division ($\\div$), along with the use of letters of the alphabet ($a,b,x,y,...$) as placeholders for numbers.\n",
    "\n",
    "Our teachers presented us with various *algebraic expressions* (equations) and asked us to perform tasks with them, such as \"plugging in values\" (replacing letters with actual numbers) or solving equations for one of the letters, a so-called *unknown quantity* or *variable*, usually denoted by $x$.\n",
    "\n",
    "Although, we were taught four basic arithmetic operations, $+$, $-$, $\\times$, and $\\div$, it is useful to view them as just two operations, addition and multiplication, where\n",
    "* subtraction is addition using negative numbers, $5 - 2 = 5 + (-2)$, and\n",
    "* division is multiplication using reciprocals, $5 \\div 2 = 5 \\times \\frac{1}{2}$.\n",
    "\n",
    "This view uses the concept of *inverses*.  The *additive inverse* of 2 is -2, and the *multiplicative inverse* of 2 is $\\frac{1}{2}$.  The concept of inverses is symmetric, so the converse statements are also true.  That is, the additive inverse of -2 is 2, and the multiplicative inverse of $\\frac{1}{2}$ is 2.\n",
    "\n",
    "An important related concept is that of *identity element*:\n",
    "* 0 is the *additive identity element*:\n",
    "  * Adding 0 to any number leaves the number unchanged: $a + 0 = 0 + a = a$,\n",
    "  * Adding any number to its additive inverse results in the additive identity element: $a + (-a) = (-a) + a = 0$\n",
    "* 1 is the *multiplicative identity element*:\n",
    "  * $a \\times 1 = 1 \\times a = a$\n",
    "  * $a \\times \\frac{1}{a} = 1$\n",
    "  \n",
    "Note that in several of the examples, above, the order of elements were swapped, for example, $a + 0 = 0 + a$.  This might seem to be unnecessary, because we all learned that, with respect to numbers, addition and multiplication are *commutative*.  That is, $a + b = b + a$ and $a \\times b = b \\times a$.  What we will learn here, shortly, is that, although having inverses and identity elements is absolutely necessary to solve equations, commutivity is not.\n",
    "\n",
    "There is, however, one other property that is essential is very useful for solving equations, and that is *associativity*.  Basically, for numbers, both addition and multiplication are associative.  That is, $(a + b) + c = a + (b + c)$ and $(a \\times b) \\times c = a \\times (b \\times c)$.  Also, because of associative, we can unabiquously write, $a + b + c$ and $a \\times b \\times c$."
   ]
  },
  {
   "cell_type": "markdown",
   "id": "c3d75138",
   "metadata": {},
   "source": [
    "We can apply a geometric perspective to numbers by thinking of positive numbers as measuring length. Addition combines lengths into a total length, and multiplication combines lengths into a measure of area.  If we generalize to volumes, do we need a third operation?  No, the two operations of addition and multiplication suffice."
   ]
  },
  {
   "cell_type": "markdown",
   "id": "d257f835",
   "metadata": {},
   "source": [
    "Expressing quantities in the form of equations and finding solutions to unknown quantities in those equations is how the study of algebra began.  In the same way that, over 2000 years ago, the Greek mathematician, Euclid, produced hundreds of results in geometry from a handful of fundamental axioms, algebraists, over the last few hundred years, have also found the fundamental axioms required to solve algebraic equations. And, in the process, have realized that those axioms need not only apply to numbers.\n",
    "\n",
    "For example, take any geometric object that has one or more symmetries to it, say, a rectangle in a specific orientation, and perform actions on it that preserve its orientation.  So, for a rectangle, flipping it either horizontally (H) or vertically (V), or rotating it by 180˚ (R), will preserve its original orientation.  Flipping or rotating your mattress so that it still fits into its stationary bedframe provides a very concrete example of such a rectangle.  Now, if we also include the \"do nothing\" action, E then we can define an *algebraic structure* known as a *Group*, by letting S be the set of four actions (the group's *elements*), $S = \\{E, H, V, R\\}$, and define an operation, $\\circ$, that combines two elements into one element.  For example, if we flip the rectangle horizontally and then flip it vertically, that's the same as just rotating it by 180˚, written, $H \\circ V = R$.\n"
   ]
  },
  {
   "cell_type": "code",
   "execution_count": null,
   "id": "865b26b5",
   "metadata": {},
   "outputs": [],
   "source": []
  }
 ],
 "metadata": {
  "kernelspec": {
   "display_name": "Python 3",
   "language": "python",
   "name": "python3"
  },
  "language_info": {
   "codemirror_mode": {
    "name": "ipython",
    "version": 3
   },
   "file_extension": ".py",
   "mimetype": "text/x-python",
   "name": "python",
   "nbconvert_exporter": "python",
   "pygments_lexer": "ipython3",
   "version": "3.7.7"
  }
 },
 "nbformat": 4,
 "nbformat_minor": 5
}
