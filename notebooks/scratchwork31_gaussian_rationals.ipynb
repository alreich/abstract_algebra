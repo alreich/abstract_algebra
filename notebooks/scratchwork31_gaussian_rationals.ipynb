{
 "cells": [
  {
   "cell_type": "markdown",
   "id": "1def3528",
   "metadata": {},
   "source": [
    "# Gaussian Rationals"
   ]
  },
  {
   "cell_type": "markdown",
   "id": "a3dd41ef",
   "metadata": {},
   "source": [
    "See [Python fractions](https://docs.python.org/3/library/fractions.html)"
   ]
  },
  {
   "cell_type": "code",
   "execution_count": 1,
   "id": "63abefd8",
   "metadata": {},
   "outputs": [],
   "source": [
    "from gaussian_integers import Gint\n",
    "from fractions import Fraction\n",
    "from gaussian_rationals import Grat"
   ]
  },
  {
   "cell_type": "markdown",
   "id": "45f725f4",
   "metadata": {},
   "source": [
    "## Resources"
   ]
  },
  {
   "cell_type": "markdown",
   "id": "6b1cc6f2",
   "metadata": {},
   "source": [
    "* [Irreducible fractions](https://mathworld.wolfram.com/IrreducibleFraction.html) - Wolfram"
   ]
  },
  {
   "cell_type": "raw",
   "id": "6a7d19da",
   "metadata": {},
   "source": [
    "class Grat:\n",
    "    \"\"\"Gaussian Rational Number Class\"\"\"\n",
    "    \n",
    "    def __init__(self, re, im):\n",
    "        # re & im must be Fractions\n",
    "        if isinstance(re, Fraction) and isinstance(im, Fraction):\n",
    "            self.real = re\n",
    "            self.imag = im\n",
    "        elif isinstance(re, str) and isinstance(im, str):\n",
    "            self.real = Fraction(re)\n",
    "            self.imag = Fraction(im)\n",
    "        \n",
    "    def __repr__(self):\n",
    "        return f\"Grat({repr(self.real)}, {repr(self.imag)})\"\n",
    "    \n",
    "    def __str__(self):\n",
    "        return f\"({self.real}, {self.imag}j)\"\n",
    "    \n",
    "    def __add__(self, other):\n",
    "        return Grat(self.real + other.real, self.imag + other.imag)\n",
    "    \n",
    "    def __sub__(self, other):\n",
    "        return Grat(self.real - other.real, self.imag - other.imag)\n",
    "    \n",
    "    def __mul__(self, other):\n",
    "        a = self.real; b = self.imag\n",
    "        c = other.real; d = other.imag\n",
    "        return Grat(a * c - b * d, a * d + b * c)\n",
    "    \n",
    "    def __neg__(self):\n",
    "        return Grat(-self.real, -self.imag)\n",
    "    \n",
    "    def __complex__(self) -> complex:\n",
    "        re = self.real.numerator / self.real.denominator\n",
    "        im = self.imag.numerator / self.imag.denominator\n",
    "        return complex(re, im)\n",
    "    \n",
    "    @property\n",
    "    def conj(self):\n",
    "        return Grat(self.real, -self.imag)\n",
    "    \n",
    "    @property\n",
    "    def norm(self) -> Fraction:\n",
    "        tmp = self * self.conj\n",
    "        return tmp.real\n",
    "    \n",
    "    @property\n",
    "    def inv(self):\n",
    "        norm = self.norm\n",
    "        conj = self.conj\n",
    "        return Grat(conj.real / norm, conj.imag / norm)\n",
    "    \n",
    "    def __truediv__(self, other):\n",
    "        return self * other.inv"
   ]
  },
  {
   "cell_type": "code",
   "execution_count": 2,
   "id": "1b34e40c",
   "metadata": {},
   "outputs": [
    {
     "data": {
      "text/plain": [
       "Grat(Fraction(1, 2), Fraction(3, 5))"
      ]
     },
     "execution_count": 2,
     "metadata": {},
     "output_type": "execute_result"
    }
   ],
   "source": [
    "foo = Grat(Fraction(\"1/2\"), Fraction(\"3/5\"))\n",
    "foo"
   ]
  },
  {
   "cell_type": "code",
   "execution_count": 3,
   "id": "79047890",
   "metadata": {},
   "outputs": [
    {
     "data": {
      "text/plain": [
       "Grat(Fraction(2, 3), Fraction(1, 7))"
      ]
     },
     "execution_count": 3,
     "metadata": {},
     "output_type": "execute_result"
    }
   ],
   "source": [
    "bar = Grat(Fraction(\"2/3\"), Fraction(\"1/7\"))\n",
    "bar"
   ]
  },
  {
   "cell_type": "code",
   "execution_count": 4,
   "id": "73813222",
   "metadata": {},
   "outputs": [
    {
     "name": "stdout",
     "output_type": "stream",
     "text": [
      "(1/2, 3/5j)\n",
      "(2/3, 1/7j)\n"
     ]
    }
   ],
   "source": [
    "print(foo)\n",
    "print(bar)"
   ]
  },
  {
   "cell_type": "code",
   "execution_count": 5,
   "id": "0e0f7b7b",
   "metadata": {},
   "outputs": [
    {
     "name": "stdout",
     "output_type": "stream",
     "text": [
      "(7/6, 26/35j)\n"
     ]
    }
   ],
   "source": [
    "print(foo + bar)"
   ]
  },
  {
   "cell_type": "code",
   "execution_count": 6,
   "id": "3d96fc0d",
   "metadata": {},
   "outputs": [
    {
     "name": "stdout",
     "output_type": "stream",
     "text": [
      "(26/105, 33/70j)\n"
     ]
    }
   ],
   "source": [
    "print(foo * bar)"
   ]
  },
  {
   "cell_type": "code",
   "execution_count": 7,
   "id": "76a9b456",
   "metadata": {},
   "outputs": [
    {
     "name": "stdout",
     "output_type": "stream",
     "text": [
      "(1/2, -3/5j)\n"
     ]
    }
   ],
   "source": [
    "print(foo.conj)"
   ]
  },
  {
   "cell_type": "code",
   "execution_count": 8,
   "id": "2a4bc8ad",
   "metadata": {},
   "outputs": [
    {
     "name": "stdout",
     "output_type": "stream",
     "text": [
      "61/100\n"
     ]
    }
   ],
   "source": [
    "print(foo.norm)"
   ]
  },
  {
   "cell_type": "code",
   "execution_count": 9,
   "id": "ab81b438",
   "metadata": {},
   "outputs": [
    {
     "name": "stdout",
     "output_type": "stream",
     "text": [
      "(50/61, -60/61j)\n"
     ]
    }
   ],
   "source": [
    "print(foo.inv)"
   ]
  },
  {
   "cell_type": "code",
   "execution_count": 10,
   "id": "4b0cfae2",
   "metadata": {},
   "outputs": [
    {
     "name": "stdout",
     "output_type": "stream",
     "text": [
      "(1, 0j)\n"
     ]
    }
   ],
   "source": [
    "print(foo * foo.inv)"
   ]
  },
  {
   "cell_type": "code",
   "execution_count": 11,
   "id": "76e122e8",
   "metadata": {},
   "outputs": [
    {
     "name": "stdout",
     "output_type": "stream",
     "text": [
      "(1/2, 3/5j) / (2/3, 1/7j) -> (924/1025, 1449/2050j)\n"
     ]
    }
   ],
   "source": [
    "print(f\"{foo} / {bar} -> {foo/bar}\")"
   ]
  },
  {
   "cell_type": "code",
   "execution_count": 12,
   "id": "49d709ea",
   "metadata": {},
   "outputs": [
    {
     "name": "stdout",
     "output_type": "stream",
     "text": [
      "(0.5+0.6j)\n",
      "(0.6666666666666666+0.14285714285714285j)\n",
      "(0.9014634146341464+0.7068292682926829j)\n",
      "(0.9014634146341464+0.7068292682926829j)\n"
     ]
    }
   ],
   "source": [
    "cfoo = complex(foo)\n",
    "cbar = complex(bar)\n",
    "print(cfoo)\n",
    "print(cbar)\n",
    "print(cfoo / cbar)\n",
    "print(complex(foo/bar))"
   ]
  },
  {
   "cell_type": "code",
   "execution_count": 13,
   "id": "edd90298",
   "metadata": {},
   "outputs": [
    {
     "name": "stdout",
     "output_type": "stream",
     "text": [
      "(2/3, 1/7j)\n",
      "(-2/3, -1/7j)\n"
     ]
    }
   ],
   "source": [
    "print(bar)\n",
    "print(-bar)"
   ]
  },
  {
   "cell_type": "code",
   "execution_count": null,
   "id": "010cc15b",
   "metadata": {},
   "outputs": [],
   "source": []
  },
  {
   "cell_type": "code",
   "execution_count": 14,
   "id": "29823d32",
   "metadata": {},
   "outputs": [],
   "source": [
    "g1 = Gint(2, 6)\n",
    "g2 = Gint(4, 5)"
   ]
  },
  {
   "cell_type": "code",
   "execution_count": 15,
   "id": "fe1bbd19",
   "metadata": {},
   "outputs": [
    {
     "data": {
      "text/plain": [
       "(0.926829268292683+0.3414634146341464j)"
      ]
     },
     "execution_count": 15,
     "metadata": {},
     "output_type": "execute_result"
    }
   ],
   "source": [
    "g1 / g2"
   ]
  },
  {
   "cell_type": "raw",
   "id": "cc056016",
   "metadata": {},
   "source": [
    "def gint2grat(a, b):\n",
    "    nrm = b.norm\n",
    "    prd = a * b.conj\n",
    "    re = Fraction(prd.real, nrm)\n",
    "    im = Fraction(prd.imag, nrm)\n",
    "    return Grat(re, im)"
   ]
  },
  {
   "cell_type": "code",
   "execution_count": 16,
   "id": "8da5a663",
   "metadata": {},
   "outputs": [
    {
     "data": {
      "text/plain": [
       "Grat(Fraction(38, 41), Fraction(14, 41))"
      ]
     },
     "execution_count": 16,
     "metadata": {},
     "output_type": "execute_result"
    }
   ],
   "source": [
    "# rat = gint2grat(g1, g2)\n",
    "rat = Grat(g1, g2)\n",
    "rat"
   ]
  },
  {
   "cell_type": "code",
   "execution_count": 17,
   "id": "7cdfed48",
   "metadata": {},
   "outputs": [
    {
     "name": "stdout",
     "output_type": "stream",
     "text": [
      "(38/41, 14/41j)\n"
     ]
    }
   ],
   "source": [
    "print(rat)"
   ]
  },
  {
   "cell_type": "code",
   "execution_count": 18,
   "id": "b8ee6ae6",
   "metadata": {},
   "outputs": [
    {
     "data": {
      "text/plain": [
       "(0.926829268292683+0.34146341463414637j)"
      ]
     },
     "execution_count": 18,
     "metadata": {},
     "output_type": "execute_result"
    }
   ],
   "source": [
    "complex(rat)"
   ]
  },
  {
   "cell_type": "code",
   "execution_count": 19,
   "id": "5f92f281",
   "metadata": {},
   "outputs": [
    {
     "name": "stdout",
     "output_type": "stream",
     "text": [
      "(-83/200, 117/500j)\n"
     ]
    }
   ],
   "source": [
    "print(foo**3)"
   ]
  },
  {
   "cell_type": "code",
   "execution_count": 20,
   "id": "4b1efc3e",
   "metadata": {},
   "outputs": [
    {
     "name": "stdout",
     "output_type": "stream",
     "text": [
      "(-83/200, 117/500j)\n"
     ]
    }
   ],
   "source": [
    "print(foo * foo * foo)"
   ]
  },
  {
   "cell_type": "markdown",
   "id": "6c334c55",
   "metadata": {},
   "source": [
    "### Example 1 from Wolfram"
   ]
  },
  {
   "cell_type": "code",
   "execution_count": 21,
   "id": "6ebb61e6",
   "metadata": {},
   "outputs": [],
   "source": [
    "from gaussian_integers import gcd, xgcd, mod_divmod"
   ]
  },
  {
   "cell_type": "code",
   "execution_count": 41,
   "id": "9e38e9a5",
   "metadata": {},
   "outputs": [],
   "source": [
    "a = Gint(4, 7)\n",
    "b = Gint(2, 1)"
   ]
  },
  {
   "cell_type": "code",
   "execution_count": 42,
   "id": "2f8aec06",
   "metadata": {},
   "outputs": [
    {
     "name": "stdout",
     "output_type": "stream",
     "text": [
      "a = (4+7j)\n",
      "b = (2+1j)\n",
      "gcd((4+7j), (2+1j)) = (2+1j)\n",
      "(3+2j)\n",
      "(3, 2j)\n"
     ]
    }
   ],
   "source": [
    "print(f\"a = {a}\\nb = {b}\")\n",
    "\n",
    "g = gcd(a, b)\n",
    "print(f\"gcd({a}, {b}) = {gcd(a, b)}\")\n",
    "\n",
    "q, r = mod_divmod(a, b)\n",
    "# print(f\"{a} = {b} * {q} + {r}\")\n",
    "\n",
    "print(a / b)\n",
    "print(Grat(a, b))"
   ]
  },
  {
   "cell_type": "code",
   "execution_count": null,
   "id": "abe2aff5",
   "metadata": {},
   "outputs": [],
   "source": []
  },
  {
   "cell_type": "markdown",
   "id": "78da68fe",
   "metadata": {},
   "source": [
    "### Example 2 from Wolfram"
   ]
  },
  {
   "cell_type": "code",
   "execution_count": 43,
   "id": "38a66f3e",
   "metadata": {},
   "outputs": [],
   "source": [
    "a = Gint(5, 5)\n",
    "b = Gint(7, 1)"
   ]
  },
  {
   "cell_type": "code",
   "execution_count": 45,
   "id": "d33e52d1",
   "metadata": {},
   "outputs": [
    {
     "name": "stdout",
     "output_type": "stream",
     "text": [
      "a = (5+5j)\n",
      "b = (7+1j)\n",
      "gcd((5+5j), (7+1j)) = (-1-3j)\n",
      "(5+5j) = (7+1j) * (1+1j) + (-1-3j)\n",
      "(0.7999999999999999+0.6j)\n",
      "(4/5, 3/5j)\n"
     ]
    }
   ],
   "source": [
    "print(f\"a = {a}\\nb = {b}\")\n",
    "\n",
    "g = gcd(a, b)\n",
    "print(f\"gcd({a}, {b}) = {gcd(a, b)}\")\n",
    "\n",
    "q, r = mod_divmod(a, b)\n",
    "print(f\"{a} = {b} * {q} + {r}\")\n",
    "\n",
    "print(a / b)\n",
    "print(Grat(a, b))"
   ]
  },
  {
   "cell_type": "code",
   "execution_count": null,
   "id": "f47283bc",
   "metadata": {},
   "outputs": [],
   "source": []
  }
 ],
 "metadata": {
  "kernelspec": {
   "display_name": "Python 3 (ipykernel)",
   "language": "python",
   "name": "python3"
  },
  "language_info": {
   "codemirror_mode": {
    "name": "ipython",
    "version": 3
   },
   "file_extension": ".py",
   "mimetype": "text/x-python",
   "name": "python",
   "nbconvert_exporter": "python",
   "pygments_lexer": "ipython3",
   "version": "3.11.5"
  }
 },
 "nbformat": 4,
 "nbformat_minor": 5
}
