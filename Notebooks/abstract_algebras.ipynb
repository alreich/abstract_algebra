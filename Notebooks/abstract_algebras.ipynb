{
 "cells": [
  {
   "cell_type": "markdown",
   "id": "04789e04",
   "metadata": {},
   "source": [
    "# Abstract Algebras"
   ]
  },
  {
   "cell_type": "markdown",
   "id": "91f1ff2a",
   "metadata": {},
   "source": [
    "<i>Version 2</i>"
   ]
  },
  {
   "cell_type": "markdown",
   "id": "364eea49",
   "metadata": {},
   "source": [
    "## References"
   ]
  },
  {
   "cell_type": "markdown",
   "id": "a846ea61",
   "metadata": {},
   "source": [
    "* [Group Explorer](https://nathancarter.github.io/group-explorer/index.html) -- Visualization software for the abstract algebra classroom\n",
    "* [Groupprops, The Group Properties Wiki (beta)](https://groupprops.subwiki.org/wiki/Main_Page)\n",
    "* [Klein four-group, V4](https://en.wikipedia.org/wiki/Klein_four-group)\n",
    "* [Cyclic group](https://en.wikipedia.org/wiki/Cyclic_group)"
   ]
  },
  {
   "cell_type": "markdown",
   "id": "3239c760",
   "metadata": {},
   "source": [
    "## Imports and Paths"
   ]
  },
  {
   "cell_type": "code",
   "execution_count": 1,
   "id": "bd80f935",
   "metadata": {},
   "outputs": [],
   "source": [
    "import algebras as alg\n",
    "import numpy as np\n",
    "import json\n",
    "import os"
   ]
  },
  {
   "cell_type": "code",
   "execution_count": 2,
   "id": "594bb885",
   "metadata": {},
   "outputs": [],
   "source": [
    "# Path to this repo\n",
    "aa_path = os.path.join(os.getenv('PYPROJ'), 'abstract_algebra')\n",
    "\n",
    "# Path to a directory containing Algebra definitions in JSON\n",
    "alg_dir = os.path.join(aa_path, \"Algebras\")"
   ]
  },
  {
   "cell_type": "markdown",
   "id": "3eb7396d",
   "metadata": {},
   "source": [
    "### A Very Simple Group"
   ]
  },
  {
   "cell_type": "code",
   "execution_count": 3,
   "id": "a8ff8fc7",
   "metadata": {},
   "outputs": [],
   "source": [
    "simp = alg.Group(\"Simple\",\n",
    "                 \"A very simple group\",\n",
    "                 [\"1\", \"-1\"],\n",
    "                 [[0, 1],\n",
    "                  [1, 0]])"
   ]
  },
  {
   "cell_type": "code",
   "execution_count": 4,
   "id": "deb5f9a7",
   "metadata": {},
   "outputs": [
    {
     "data": {
      "text/plain": [
       "Group('Simple', 'A very simple group', ['1', '-1'], [[0 1]\n",
       " [1 0]])"
      ]
     },
     "execution_count": 4,
     "metadata": {},
     "output_type": "execute_result"
    }
   ],
   "source": [
    "simp"
   ]
  },
  {
   "cell_type": "code",
   "execution_count": 5,
   "id": "e1cb4d52",
   "metadata": {},
   "outputs": [
    {
     "data": {
      "text/plain": [
       "[['1', '-1'], ['-1', '1']]"
      ]
     },
     "execution_count": 5,
     "metadata": {},
     "output_type": "execute_result"
    }
   ],
   "source": [
    "simp.addition_table_with_names()"
   ]
  },
  {
   "cell_type": "code",
   "execution_count": 6,
   "id": "cacf27e6",
   "metadata": {},
   "outputs": [
    {
     "data": {
      "text/plain": [
       "True"
      ]
     },
     "execution_count": 6,
     "metadata": {},
     "output_type": "execute_result"
    }
   ],
   "source": [
    "simp.abelian()"
   ]
  },
  {
   "cell_type": "code",
   "execution_count": 7,
   "id": "205ddc23",
   "metadata": {},
   "outputs": [
    {
     "data": {
      "text/plain": [
       "{'1': '1', '-1': '-1'}"
      ]
     },
     "execution_count": 7,
     "metadata": {},
     "output_type": "execute_result"
    }
   ],
   "source": [
    "simp.inverse_lookup_dict"
   ]
  },
  {
   "cell_type": "code",
   "execution_count": 8,
   "id": "6e4c7f9e",
   "metadata": {},
   "outputs": [
    {
     "name": "stdout",
     "output_type": "stream",
     "text": [
      "inv(1) = 1\n",
      "inv(-1) = -1\n"
     ]
    }
   ],
   "source": [
    "for elem in simp.element_names:\n",
    "    print(f\"inv({elem}) = {simp.inverse(elem)}\")"
   ]
  },
  {
   "cell_type": "code",
   "execution_count": 9,
   "id": "c66d35b0",
   "metadata": {},
   "outputs": [
    {
     "name": "stdout",
     "output_type": "stream",
     "text": [
      "   1  -1\n",
      "  -1   1\n"
     ]
    }
   ],
   "source": [
    "simp.pretty_print_addition_table()"
   ]
  },
  {
   "cell_type": "markdown",
   "id": "b9581398",
   "metadata": {},
   "source": [
    "### Klein-4 Group"
   ]
  },
  {
   "cell_type": "markdown",
   "id": "33c1091f",
   "metadata": {},
   "source": [
    "See this [definition at GitHub](https://github.com/nathancarter/group-explorer/blob/master/groups/V_4.group)."
   ]
  },
  {
   "cell_type": "code",
   "execution_count": 10,
   "id": "eefe38f0",
   "metadata": {},
   "outputs": [
    {
     "name": "stdout",
     "output_type": "stream",
     "text": [
      "{\"type\": \"Group\",\r\n",
      " \"name\": \"V4\",\r\n",
      " \"description\": \"Klein-4 group\",\r\n",
      " \"element_names\": [\"e\", \"h\", \"v\", \"hv\"],\r\n",
      " \"addition_table\": [[0, 1, 2, 3],\r\n",
      "                    [1, 0, 3, 2],\r\n",
      "                    [2, 3, 0, 1],\r\n",
      "                    [3, 2, 1, 0]]\r\n",
      "}\r\n"
     ]
    }
   ],
   "source": [
    "v4_json = os.path.join(alg_dir, \"v4_klein_4_group.json\")\n",
    "\n",
    "!cat {v4_json}"
   ]
  },
  {
   "cell_type": "code",
   "execution_count": 11,
   "id": "6c81ddbf",
   "metadata": {},
   "outputs": [
    {
     "data": {
      "text/plain": [
       "Group('V4', 'Klein-4 group', ['e', 'h', 'v', 'hv'], [[0 1 2 3]\n",
       " [1 0 3 2]\n",
       " [2 3 0 1]\n",
       " [3 2 1 0]])"
      ]
     },
     "execution_count": 11,
     "metadata": {},
     "output_type": "execute_result"
    }
   ],
   "source": [
    "v4 = alg.Group(v4_json)\n",
    "v4"
   ]
  },
  {
   "cell_type": "code",
   "execution_count": 12,
   "id": "e3c5f92b",
   "metadata": {},
   "outputs": [
    {
     "data": {
      "text/plain": [
       "{'type': 'Group',\n",
       " 'name': 'V4',\n",
       " 'description': 'Klein-4 group',\n",
       " 'element_names': ['e', 'h', 'v', 'hv'],\n",
       " 'addition_table': [[0, 1, 2, 3], [1, 0, 3, 2], [2, 3, 0, 1], [3, 2, 1, 0]]}"
      ]
     },
     "execution_count": 12,
     "metadata": {},
     "output_type": "execute_result"
    }
   ],
   "source": [
    "v4.to_dict()"
   ]
  },
  {
   "cell_type": "code",
   "execution_count": 13,
   "id": "a0a155d1",
   "metadata": {},
   "outputs": [
    {
     "data": {
      "text/plain": [
       "[['e', 'h', 'v', 'hv'],\n",
       " ['h', 'e', 'hv', 'v'],\n",
       " ['v', 'hv', 'e', 'h'],\n",
       " ['hv', 'v', 'h', 'e']]"
      ]
     },
     "execution_count": 13,
     "metadata": {},
     "output_type": "execute_result"
    }
   ],
   "source": [
    "v4.addition_table_with_names()"
   ]
  },
  {
   "cell_type": "code",
   "execution_count": 14,
   "id": "502848aa",
   "metadata": {},
   "outputs": [
    {
     "name": "stdout",
     "output_type": "stream",
     "text": [
      "   e   h   v  hv\n",
      "   h   e  hv   v\n",
      "   v  hv   e   h\n",
      "  hv   v   h   e\n"
     ]
    }
   ],
   "source": [
    "v4.pretty_print_addition_table()"
   ]
  },
  {
   "cell_type": "code",
   "execution_count": 15,
   "id": "e66112cc",
   "metadata": {},
   "outputs": [
    {
     "data": {
      "text/plain": [
       "True"
      ]
     },
     "execution_count": 15,
     "metadata": {},
     "output_type": "execute_result"
    }
   ],
   "source": [
    "v4.abelian()"
   ]
  },
  {
   "cell_type": "code",
   "execution_count": 16,
   "id": "a48fc47c",
   "metadata": {},
   "outputs": [
    {
     "data": {
      "text/plain": [
       "True"
      ]
     },
     "execution_count": 16,
     "metadata": {},
     "output_type": "execute_result"
    }
   ],
   "source": [
    "v4.associative()"
   ]
  },
  {
   "cell_type": "markdown",
   "id": "e9053cdc",
   "metadata": {},
   "source": [
    "The group can also be created at the command line:"
   ]
  },
  {
   "cell_type": "code",
   "execution_count": 17,
   "id": "7efb6830",
   "metadata": {},
   "outputs": [
    {
     "data": {
      "text/plain": [
       "Group('V4x', 'Klein-4 group', ['e', 'h', 'v', 'hv'], [[0 1 2 3]\n",
       " [1 0 3 2]\n",
       " [2 3 0 1]\n",
       " [3 2 1 0]])"
      ]
     },
     "execution_count": 17,
     "metadata": {},
     "output_type": "execute_result"
    }
   ],
   "source": [
    "v4x = alg.Group('V4x',\n",
    "                'Klein-4 group',\n",
    "                ['e',  'h',  'v', 'hv'],\n",
    "                [[0, 1, 2, 3],\n",
    "                 [1, 0, 3, 2],\n",
    "                 [2, 3, 0, 1],\n",
    "                 [3, 2, 1, 0]]\n",
    "               )\n",
    "\n",
    "v4x"
   ]
  },
  {
   "cell_type": "code",
   "execution_count": 18,
   "id": "aead037b",
   "metadata": {},
   "outputs": [
    {
     "data": {
      "text/plain": [
       "'hv'"
      ]
     },
     "execution_count": 18,
     "metadata": {},
     "output_type": "execute_result"
    }
   ],
   "source": [
    "v4.add('h','v')"
   ]
  },
  {
   "cell_type": "code",
   "execution_count": 19,
   "id": "e27f58bf",
   "metadata": {},
   "outputs": [
    {
     "name": "stdout",
     "output_type": "stream",
     "text": [
      "inv(e) = e\n",
      "inv(h) = h\n",
      "inv(v) = v\n",
      "inv(hv) = hv\n"
     ]
    }
   ],
   "source": [
    "for elem in v4.element_names:\n",
    "    print(f\"inv({elem}) = {v4.inverse(elem)}\")"
   ]
  },
  {
   "cell_type": "code",
   "execution_count": 20,
   "id": "3e672a02",
   "metadata": {},
   "outputs": [
    {
     "name": "stdout",
     "output_type": "stream",
     "text": [
      "<Group: V4, Klein-4 group>\n"
     ]
    }
   ],
   "source": [
    "print(v4)"
   ]
  },
  {
   "cell_type": "code",
   "execution_count": 21,
   "id": "dc1f68a8",
   "metadata": {},
   "outputs": [
    {
     "data": {
      "text/plain": [
       "'{\"type\": \"Group\", \"name\": \"V4\", \"description\": \"Klein-4 group\", \"element_names\": [\"e\", \"h\", \"v\", \"hv\"], \"addition_table\": [[0, 1, 2, 3], [1, 0, 3, 2], [2, 3, 0, 1], [3, 2, 1, 0]]}'"
      ]
     },
     "execution_count": 21,
     "metadata": {},
     "output_type": "execute_result"
    }
   ],
   "source": [
    "v4json = json.dumps(v4.to_dict())\n",
    "v4json"
   ]
  },
  {
   "cell_type": "markdown",
   "id": "8ad45941",
   "metadata": {},
   "source": [
    "### Cyclic group of order 4"
   ]
  },
  {
   "cell_type": "markdown",
   "id": "124b8d1f",
   "metadata": {},
   "source": [
    "See this [definition at GitHub](https://github.com/nathancarter/group-explorer/blob/master/groups/Z_4.group)."
   ]
  },
  {
   "cell_type": "code",
   "execution_count": 22,
   "id": "20c46e39",
   "metadata": {},
   "outputs": [],
   "source": [
    "z4 = alg.Group('Z4',\n",
    "           'Cyclic group of order 4',\n",
    "           ['e', 'a', 'a^2', 'a^3'],\n",
    "           [[0, 1, 2, 3],\n",
    "            [1, 2, 3, 0],\n",
    "            [2, 3, 0, 1],\n",
    "            [3, 0, 1, 2]]\n",
    "          )"
   ]
  },
  {
   "cell_type": "code",
   "execution_count": 23,
   "id": "1512e4ed",
   "metadata": {},
   "outputs": [
    {
     "data": {
      "text/plain": [
       "[['e', 'a', 'a^2', 'a^3'],\n",
       " ['a', 'a^2', 'a^3', 'e'],\n",
       " ['a^2', 'a^3', 'e', 'a'],\n",
       " ['a^3', 'e', 'a', 'a^2']]"
      ]
     },
     "execution_count": 23,
     "metadata": {},
     "output_type": "execute_result"
    }
   ],
   "source": [
    "z4.addition_table_with_names()"
   ]
  },
  {
   "cell_type": "code",
   "execution_count": 24,
   "id": "a79f811d",
   "metadata": {},
   "outputs": [
    {
     "name": "stdout",
     "output_type": "stream",
     "text": [
      "    e    a  a^2  a^3\n",
      "    a  a^2  a^3    e\n",
      "  a^2  a^3    e    a\n",
      "  a^3    e    a  a^2\n"
     ]
    }
   ],
   "source": [
    "z4.pretty_print_addition_table()"
   ]
  },
  {
   "cell_type": "code",
   "execution_count": 25,
   "id": "43fc49f3",
   "metadata": {},
   "outputs": [
    {
     "name": "stdout",
     "output_type": "stream",
     "text": [
      "[[0 1 2 3]\n",
      " [1 2 3 0]\n",
      " [2 3 0 1]\n",
      " [3 0 1 2]]\n"
     ]
    }
   ],
   "source": [
    "print(z4.addition_table)"
   ]
  },
  {
   "cell_type": "code",
   "execution_count": 26,
   "id": "74920701",
   "metadata": {},
   "outputs": [
    {
     "name": "stdout",
     "output_type": "stream",
     "text": [
      "<Group: Z4, Cyclic group of order 4>\n"
     ]
    }
   ],
   "source": [
    "print(z4)"
   ]
  },
  {
   "cell_type": "code",
   "execution_count": 27,
   "id": "88ca7f1a",
   "metadata": {},
   "outputs": [
    {
     "data": {
      "text/plain": [
       "'e'"
      ]
     },
     "execution_count": 27,
     "metadata": {},
     "output_type": "execute_result"
    }
   ],
   "source": [
    "z4.add('a^2','a^2')"
   ]
  },
  {
   "cell_type": "code",
   "execution_count": 28,
   "id": "abfd11b9",
   "metadata": {},
   "outputs": [
    {
     "data": {
      "text/plain": [
       "'a'"
      ]
     },
     "execution_count": 28,
     "metadata": {},
     "output_type": "execute_result"
    }
   ],
   "source": [
    "z4.add('a^2', 'a^3')"
   ]
  },
  {
   "cell_type": "code",
   "execution_count": null,
   "id": "87168c38",
   "metadata": {},
   "outputs": [],
   "source": []
  },
  {
   "cell_type": "code",
   "execution_count": 29,
   "id": "9281a8f9",
   "metadata": {},
   "outputs": [
    {
     "name": "stdout",
     "output_type": "stream",
     "text": [
      "inv(e) = e\n",
      "inv(a) = a^3\n",
      "inv(a^2) = a^2\n",
      "inv(a^3) = a\n"
     ]
    }
   ],
   "source": [
    "for elem in z4.element_names:\n",
    "    print(f\"inv({elem}) = {z4.inverse(elem)}\")"
   ]
  },
  {
   "cell_type": "code",
   "execution_count": 30,
   "id": "64ca711b",
   "metadata": {},
   "outputs": [
    {
     "data": {
      "text/plain": [
       "True"
      ]
     },
     "execution_count": 30,
     "metadata": {},
     "output_type": "execute_result"
    }
   ],
   "source": [
    "z4.abelian()"
   ]
  },
  {
   "cell_type": "code",
   "execution_count": 31,
   "id": "fb8d9913",
   "metadata": {},
   "outputs": [
    {
     "data": {
      "text/plain": [
       "True"
      ]
     },
     "execution_count": 31,
     "metadata": {},
     "output_type": "execute_result"
    }
   ],
   "source": [
    "z4.associative()"
   ]
  },
  {
   "cell_type": "markdown",
   "id": "5b27cfbd",
   "metadata": {},
   "source": [
    "### Symmetric group on 3 letters"
   ]
  },
  {
   "cell_type": "markdown",
   "id": "fe357a58",
   "metadata": {},
   "source": [
    "See this [definition at GitHub](https://github.com/nathancarter/group-explorer/blob/master/groups/S_3.group). \"Another name for this group is \"Dihedral group on 3 vertices.\""
   ]
  },
  {
   "cell_type": "code",
   "execution_count": 32,
   "id": "c3eade4e",
   "metadata": {},
   "outputs": [],
   "source": [
    "s3 = alg.Group('S3',\n",
    "           'Symmetric group on 3 letters',\n",
    "           ['e', 'r', 'r^2', 'f', 'fr', 'rf'],\n",
    "           [[0, 1, 2, 3, 4, 5],\n",
    "            [1, 2, 0, 5, 3, 4],\n",
    "            [2, 0, 1, 4, 5, 3],\n",
    "            [3, 4, 5, 0, 1, 2],\n",
    "            [4, 5, 3, 2, 0, 1],\n",
    "            [5, 3, 4, 1, 2, 0]]\n",
    "          )"
   ]
  },
  {
   "cell_type": "code",
   "execution_count": 33,
   "id": "66aa6c0f",
   "metadata": {},
   "outputs": [
    {
     "data": {
      "text/plain": [
       "[['e', 'r', 'r^2', 'f', 'fr', 'rf'],\n",
       " ['r', 'r^2', 'e', 'rf', 'f', 'fr'],\n",
       " ['r^2', 'e', 'r', 'fr', 'rf', 'f'],\n",
       " ['f', 'fr', 'rf', 'e', 'r', 'r^2'],\n",
       " ['fr', 'rf', 'f', 'r^2', 'e', 'r'],\n",
       " ['rf', 'f', 'fr', 'r', 'r^2', 'e']]"
      ]
     },
     "execution_count": 33,
     "metadata": {},
     "output_type": "execute_result"
    }
   ],
   "source": [
    "s3.addition_table_with_names()"
   ]
  },
  {
   "cell_type": "code",
   "execution_count": 34,
   "id": "14a891e4",
   "metadata": {},
   "outputs": [
    {
     "data": {
      "text/plain": [
       "'f'"
      ]
     },
     "execution_count": 34,
     "metadata": {},
     "output_type": "execute_result"
    }
   ],
   "source": [
    "s3.add('fr', 'r^2')"
   ]
  },
  {
   "cell_type": "code",
   "execution_count": 35,
   "id": "40865f1a",
   "metadata": {},
   "outputs": [
    {
     "data": {
      "text/plain": [
       "'rf'"
      ]
     },
     "execution_count": 35,
     "metadata": {},
     "output_type": "execute_result"
    }
   ],
   "source": [
    "s3.add('r^2', 'fr')"
   ]
  },
  {
   "cell_type": "code",
   "execution_count": 36,
   "id": "0935d912",
   "metadata": {},
   "outputs": [
    {
     "name": "stdout",
     "output_type": "stream",
     "text": [
      "    e    r  r^2    f   fr   rf\n",
      "    r  r^2    e   rf    f   fr\n",
      "  r^2    e    r   fr   rf    f\n",
      "    f   fr   rf    e    r  r^2\n",
      "   fr   rf    f  r^2    e    r\n",
      "   rf    f   fr    r  r^2    e\n"
     ]
    }
   ],
   "source": [
    "s3.pretty_print_addition_table()"
   ]
  },
  {
   "cell_type": "code",
   "execution_count": 37,
   "id": "d6269f4b",
   "metadata": {},
   "outputs": [
    {
     "name": "stdout",
     "output_type": "stream",
     "text": [
      "<Group: S3, Symmetric group on 3 letters>\n"
     ]
    }
   ],
   "source": [
    "print(s3)"
   ]
  },
  {
   "cell_type": "code",
   "execution_count": 38,
   "id": "b8751a0d",
   "metadata": {},
   "outputs": [
    {
     "data": {
      "text/plain": [
       "'f'"
      ]
     },
     "execution_count": 38,
     "metadata": {},
     "output_type": "execute_result"
    }
   ],
   "source": [
    "s3.add('fr', 'r^2')"
   ]
  },
  {
   "cell_type": "code",
   "execution_count": 39,
   "id": "54a11f04",
   "metadata": {},
   "outputs": [
    {
     "data": {
      "text/plain": [
       "False"
      ]
     },
     "execution_count": 39,
     "metadata": {},
     "output_type": "execute_result"
    }
   ],
   "source": [
    "s3.abelian()"
   ]
  },
  {
   "cell_type": "code",
   "execution_count": 40,
   "id": "1c63377a",
   "metadata": {},
   "outputs": [
    {
     "data": {
      "text/plain": [
       "True"
      ]
     },
     "execution_count": 40,
     "metadata": {},
     "output_type": "execute_result"
    }
   ],
   "source": [
    "s3.associative()"
   ]
  },
  {
   "cell_type": "code",
   "execution_count": 41,
   "id": "07c65fe7",
   "metadata": {},
   "outputs": [
    {
     "name": "stdout",
     "output_type": "stream",
     "text": [
      "inv(e) = e\n",
      "inv(r) = r^2\n",
      "inv(r^2) = r\n",
      "inv(f) = f\n",
      "inv(fr) = fr\n",
      "inv(rf) = rf\n"
     ]
    }
   ],
   "source": [
    "for elem in s3.element_names:\n",
    "    print(f\"inv({elem}) = {s3.inverse(elem)}\")"
   ]
  },
  {
   "cell_type": "code",
   "execution_count": 42,
   "id": "57ac0400",
   "metadata": {},
   "outputs": [
    {
     "data": {
      "text/plain": [
       "Group('S3', 'Symmetric group on 3 letters', ['e', 'r', 'r^2', 'f', 'fr', 'rf'], [[0 1 2 3 4 5]\n",
       " [1 2 0 5 3 4]\n",
       " [2 0 1 4 5 3]\n",
       " [3 4 5 0 1 2]\n",
       " [4 5 3 2 0 1]\n",
       " [5 3 4 1 2 0]])"
      ]
     },
     "execution_count": 42,
     "metadata": {},
     "output_type": "execute_result"
    }
   ],
   "source": [
    "s3"
   ]
  },
  {
   "cell_type": "markdown",
   "id": "0065a7cb",
   "metadata": {},
   "source": [
    "### Symmetric Group, S3 (not same as S3, above)"
   ]
  },
  {
   "cell_type": "markdown",
   "id": "55e08d7f",
   "metadata": {},
   "source": [
    "This is the [Symmetric group, S3, as specified at Groupprops](https://groupprops.subwiki.org/wiki/Symmetric_group:S3).\n",
    "\n",
    "W.r.t., how to interpret the addition table, the following quote helps:\n",
    "\n",
    "[[from Wikipedia](https://groupprops.subwiki.org/wiki/Symmetric_group:S3)] \"We portray elements as permutations on the set \\{ 1,2,3 \\} using the cycle decomposition. The row element is added on the left and the column element on the right, with the assumption of functions written on the left. This means that the column element is applied first and the row element is applied next.\""
   ]
  },
  {
   "cell_type": "code",
   "execution_count": 43,
   "id": "e419c71d",
   "metadata": {},
   "outputs": [],
   "source": [
    "s3x = alg.Group('S3X',\n",
    "           'Another version of the symmetric group on 3 letters',\n",
    "           ['()', '(1,2)', '(2,3)', '(1,3)', '(1,2,3)', '(1,3,2)'],\n",
    "           [[0, 1, 2, 3, 4, 5],\n",
    "            [1, 0, 4, 5, 2, 3],\n",
    "            [2, 5, 0, 4, 3, 1],\n",
    "            [3, 4, 5, 0, 1, 2],\n",
    "            [4, 3, 1, 2, 5, 0],\n",
    "            [5, 2, 3, 1, 0, 4]]\n",
    "          )"
   ]
  },
  {
   "cell_type": "code",
   "execution_count": 44,
   "id": "edcaa486",
   "metadata": {},
   "outputs": [
    {
     "data": {
      "text/plain": [
       "False"
      ]
     },
     "execution_count": 44,
     "metadata": {},
     "output_type": "execute_result"
    }
   ],
   "source": [
    "s3x.abelian()"
   ]
  },
  {
   "cell_type": "code",
   "execution_count": 45,
   "id": "bcb853d3",
   "metadata": {},
   "outputs": [
    {
     "data": {
      "text/plain": [
       "True"
      ]
     },
     "execution_count": 45,
     "metadata": {},
     "output_type": "execute_result"
    }
   ],
   "source": [
    "s3x.associative()"
   ]
  },
  {
   "cell_type": "code",
   "execution_count": 46,
   "id": "8e9cf7ff",
   "metadata": {},
   "outputs": [
    {
     "data": {
      "text/plain": [
       "[['()', '(1,2)', '(2,3)', '(1,3)', '(1,2,3)', '(1,3,2)'],\n",
       " ['(1,2)', '()', '(1,2,3)', '(1,3,2)', '(2,3)', '(1,3)'],\n",
       " ['(2,3)', '(1,3,2)', '()', '(1,2,3)', '(1,3)', '(1,2)'],\n",
       " ['(1,3)', '(1,2,3)', '(1,3,2)', '()', '(1,2)', '(2,3)'],\n",
       " ['(1,2,3)', '(1,3)', '(1,2)', '(2,3)', '(1,3,2)', '()'],\n",
       " ['(1,3,2)', '(2,3)', '(1,3)', '(1,2)', '()', '(1,2,3)']]"
      ]
     },
     "execution_count": 46,
     "metadata": {},
     "output_type": "execute_result"
    }
   ],
   "source": [
    "s3x.addition_table_with_names()"
   ]
  },
  {
   "cell_type": "code",
   "execution_count": 47,
   "id": "b5b72fb4",
   "metadata": {},
   "outputs": [
    {
     "name": "stdout",
     "output_type": "stream",
     "text": [
      "       ()    (1,2)    (2,3)    (1,3)  (1,2,3)  (1,3,2)\n",
      "    (1,2)       ()  (1,2,3)  (1,3,2)    (2,3)    (1,3)\n",
      "    (2,3)  (1,3,2)       ()  (1,2,3)    (1,3)    (1,2)\n",
      "    (1,3)  (1,2,3)  (1,3,2)       ()    (1,2)    (2,3)\n",
      "  (1,2,3)    (1,3)    (1,2)    (2,3)  (1,3,2)       ()\n",
      "  (1,3,2)    (2,3)    (1,3)    (1,2)       ()  (1,2,3)\n"
     ]
    }
   ],
   "source": [
    "s3x.pretty_print_addition_table()"
   ]
  },
  {
   "cell_type": "code",
   "execution_count": 48,
   "id": "6dfe87e8",
   "metadata": {},
   "outputs": [
    {
     "data": {
      "text/plain": [
       "'(1,2,3)'"
      ]
     },
     "execution_count": 48,
     "metadata": {},
     "output_type": "execute_result"
    }
   ],
   "source": [
    "s3x.add('(1,2)', '(2,3)')"
   ]
  },
  {
   "cell_type": "code",
   "execution_count": 49,
   "id": "31c7b518",
   "metadata": {},
   "outputs": [
    {
     "name": "stdout",
     "output_type": "stream",
     "text": [
      "inv(()) = ()\n",
      "inv((1,2)) = (1,2)\n",
      "inv((2,3)) = (2,3)\n",
      "inv((1,3)) = (1,3)\n",
      "inv((1,2,3)) = (1,3,2)\n",
      "inv((1,3,2)) = (1,2,3)\n"
     ]
    }
   ],
   "source": [
    "for elem in s3x.element_names:\n",
    "    print(f\"inv({elem}) = {s3x.inverse(elem)}\")"
   ]
  },
  {
   "cell_type": "markdown",
   "id": "11b467d8",
   "metadata": {},
   "source": [
    "## Z_2 x Z_2 x Z_2"
   ]
  },
  {
   "cell_type": "code",
   "execution_count": 50,
   "id": "de136165",
   "metadata": {},
   "outputs": [],
   "source": [
    "Z2xZ2xZ2 = alg.Group('Z_2 x Z_2 x Z_2',\n",
    "                 'no description',\n",
    "                 ['eee', 'aee', 'eae', 'aae', 'eea', 'aea', 'eaa', 'aaa'],\n",
    "                 [[0, 1, 2, 3, 4, 5, 6, 7],\n",
    "                  [1, 0, 3, 2, 5, 4, 7, 6],\n",
    "                  [2, 3, 0, 1, 6, 7, 4, 5],\n",
    "                  [3, 2, 1, 0, 7, 6, 5, 4],\n",
    "                  [4, 5, 6, 7, 0, 1, 2, 3],\n",
    "                  [5, 4, 7, 6, 1, 0, 3, 2],\n",
    "                  [6, 7, 4, 5, 2, 3, 0, 1],\n",
    "                  [7, 6, 5, 4, 3, 2, 1, 0]]\n",
    "                )"
   ]
  },
  {
   "cell_type": "code",
   "execution_count": 51,
   "id": "2ddb2d3d",
   "metadata": {},
   "outputs": [
    {
     "data": {
      "text/plain": [
       "True"
      ]
     },
     "execution_count": 51,
     "metadata": {},
     "output_type": "execute_result"
    }
   ],
   "source": [
    "Z2xZ2xZ2.abelian()"
   ]
  },
  {
   "cell_type": "code",
   "execution_count": 52,
   "id": "810c5fcb",
   "metadata": {},
   "outputs": [
    {
     "data": {
      "text/plain": [
       "True"
      ]
     },
     "execution_count": 52,
     "metadata": {},
     "output_type": "execute_result"
    }
   ],
   "source": [
    "Z2xZ2xZ2.associative()"
   ]
  },
  {
   "cell_type": "code",
   "execution_count": 53,
   "id": "403c4128",
   "metadata": {},
   "outputs": [
    {
     "data": {
      "text/plain": [
       "[['eee', 'aee', 'eae', 'aae', 'eea', 'aea', 'eaa', 'aaa'],\n",
       " ['aee', 'eee', 'aae', 'eae', 'aea', 'eea', 'aaa', 'eaa'],\n",
       " ['eae', 'aae', 'eee', 'aee', 'eaa', 'aaa', 'eea', 'aea'],\n",
       " ['aae', 'eae', 'aee', 'eee', 'aaa', 'eaa', 'aea', 'eea'],\n",
       " ['eea', 'aea', 'eaa', 'aaa', 'eee', 'aee', 'eae', 'aae'],\n",
       " ['aea', 'eea', 'aaa', 'eaa', 'aee', 'eee', 'aae', 'eae'],\n",
       " ['eaa', 'aaa', 'eea', 'aea', 'eae', 'aae', 'eee', 'aee'],\n",
       " ['aaa', 'eaa', 'aea', 'eea', 'aae', 'eae', 'aee', 'eee']]"
      ]
     },
     "execution_count": 53,
     "metadata": {},
     "output_type": "execute_result"
    }
   ],
   "source": [
    "Z2xZ2xZ2.addition_table_with_names()"
   ]
  },
  {
   "cell_type": "code",
   "execution_count": 54,
   "id": "99b02d70",
   "metadata": {},
   "outputs": [
    {
     "name": "stdout",
     "output_type": "stream",
     "text": [
      "  eee  aee  eae  aae  eea  aea  eaa  aaa\n",
      "  aee  eee  aae  eae  aea  eea  aaa  eaa\n",
      "  eae  aae  eee  aee  eaa  aaa  eea  aea\n",
      "  aae  eae  aee  eee  aaa  eaa  aea  eea\n",
      "  eea  aea  eaa  aaa  eee  aee  eae  aae\n",
      "  aea  eea  aaa  eaa  aee  eee  aae  eae\n",
      "  eaa  aaa  eea  aea  eae  aae  eee  aee\n",
      "  aaa  eaa  aea  eea  aae  eae  aee  eee\n"
     ]
    }
   ],
   "source": [
    "Z2xZ2xZ2.pretty_print_addition_table()"
   ]
  },
  {
   "cell_type": "code",
   "execution_count": 55,
   "id": "658a5a02",
   "metadata": {},
   "outputs": [
    {
     "name": "stdout",
     "output_type": "stream",
     "text": [
      "inv(eee) = eee\n",
      "inv(aee) = aee\n",
      "inv(eae) = eae\n",
      "inv(aae) = aae\n",
      "inv(eea) = eea\n",
      "inv(aea) = aea\n",
      "inv(eaa) = eaa\n",
      "inv(aaa) = aaa\n"
     ]
    }
   ],
   "source": [
    "for elem in Z2xZ2xZ2.element_names:\n",
    "    print(f\"inv({elem}) = {Z2xZ2xZ2.inverse(elem)}\")"
   ]
  },
  {
   "cell_type": "markdown",
   "id": "3c327a07",
   "metadata": {},
   "source": [
    "## Direct Products"
   ]
  },
  {
   "cell_type": "code",
   "execution_count": 56,
   "id": "32fc2c80",
   "metadata": {},
   "outputs": [],
   "source": [
    "z2 = alg.Group('Z2',\n",
    "           'Cyclic group of order 2',\n",
    "           ['E', 'A'],\n",
    "           [[0, 1],\n",
    "            [1, 0]]\n",
    "          )\n",
    "\n",
    "z3 = alg.Group('Z3',\n",
    "           'Cyclic group of order 3',\n",
    "           ['E', 'A', 'B'],\n",
    "           [[0, 1, 2],\n",
    "            [1, 2, 0],\n",
    "            [2, 0, 1]]\n",
    "          )"
   ]
  },
  {
   "cell_type": "code",
   "execution_count": 57,
   "id": "cdadbe0e",
   "metadata": {},
   "outputs": [
    {
     "data": {
      "text/plain": [
       "Group('Z3_x_Z3', 'Direct product of Z3 & Z3', ['E,E', 'E,A', 'E,B', 'A,E', 'A,A', 'A,B', 'B,E', 'B,A', 'B,B'], [[0 1 2 3 4 5 6 7 8]\n",
       " [1 2 0 4 5 3 7 8 6]\n",
       " [2 0 1 5 3 4 8 6 7]\n",
       " [3 4 5 6 7 8 0 1 2]\n",
       " [4 5 3 7 8 6 1 2 0]\n",
       " [5 3 4 8 6 7 2 0 1]\n",
       " [6 7 8 0 1 2 3 4 5]\n",
       " [7 8 6 1 2 0 4 5 3]\n",
       " [8 6 7 2 0 1 5 3 4]])"
      ]
     },
     "execution_count": 57,
     "metadata": {},
     "output_type": "execute_result"
    }
   ],
   "source": [
    "z3_x_z3 = z3 * z3\n",
    "z3_x_z3"
   ]
  },
  {
   "cell_type": "code",
   "execution_count": 58,
   "id": "347ec4ee",
   "metadata": {},
   "outputs": [
    {
     "data": {
      "text/plain": [
       "['E,E', 'E,A', 'E,B', 'A,E', 'A,A', 'A,B', 'B,E', 'B,A', 'B,B']"
      ]
     },
     "execution_count": 58,
     "metadata": {},
     "output_type": "execute_result"
    }
   ],
   "source": [
    "z3_x_z3.element_names"
   ]
  },
  {
   "cell_type": "code",
   "execution_count": 59,
   "id": "70bafc7d",
   "metadata": {},
   "outputs": [
    {
     "data": {
      "text/plain": [
       "array([[0, 1, 2, 3, 4, 5, 6, 7, 8],\n",
       "       [1, 2, 0, 4, 5, 3, 7, 8, 6],\n",
       "       [2, 0, 1, 5, 3, 4, 8, 6, 7],\n",
       "       [3, 4, 5, 6, 7, 8, 0, 1, 2],\n",
       "       [4, 5, 3, 7, 8, 6, 1, 2, 0],\n",
       "       [5, 3, 4, 8, 6, 7, 2, 0, 1],\n",
       "       [6, 7, 8, 0, 1, 2, 3, 4, 5],\n",
       "       [7, 8, 6, 1, 2, 0, 4, 5, 3],\n",
       "       [8, 6, 7, 2, 0, 1, 5, 3, 4]])"
      ]
     },
     "execution_count": 59,
     "metadata": {},
     "output_type": "execute_result"
    }
   ],
   "source": [
    "z3_x_z3.addition_table"
   ]
  },
  {
   "cell_type": "code",
   "execution_count": 60,
   "id": "a88ee5e4",
   "metadata": {},
   "outputs": [
    {
     "data": {
      "text/plain": [
       "[['E,E', 'E,A', 'E,B', 'A,E', 'A,A', 'A,B', 'B,E', 'B,A', 'B,B'],\n",
       " ['E,A', 'E,B', 'E,E', 'A,A', 'A,B', 'A,E', 'B,A', 'B,B', 'B,E'],\n",
       " ['E,B', 'E,E', 'E,A', 'A,B', 'A,E', 'A,A', 'B,B', 'B,E', 'B,A'],\n",
       " ['A,E', 'A,A', 'A,B', 'B,E', 'B,A', 'B,B', 'E,E', 'E,A', 'E,B'],\n",
       " ['A,A', 'A,B', 'A,E', 'B,A', 'B,B', 'B,E', 'E,A', 'E,B', 'E,E'],\n",
       " ['A,B', 'A,E', 'A,A', 'B,B', 'B,E', 'B,A', 'E,B', 'E,E', 'E,A'],\n",
       " ['B,E', 'B,A', 'B,B', 'E,E', 'E,A', 'E,B', 'A,E', 'A,A', 'A,B'],\n",
       " ['B,A', 'B,B', 'B,E', 'E,A', 'E,B', 'E,E', 'A,A', 'A,B', 'A,E'],\n",
       " ['B,B', 'B,E', 'B,A', 'E,B', 'E,E', 'E,A', 'A,B', 'A,E', 'A,A']]"
      ]
     },
     "execution_count": 60,
     "metadata": {},
     "output_type": "execute_result"
    }
   ],
   "source": [
    "z3_x_z3.addition_table_with_names()"
   ]
  },
  {
   "cell_type": "code",
   "execution_count": 61,
   "id": "c3d50b9c",
   "metadata": {},
   "outputs": [
    {
     "name": "stdout",
     "output_type": "stream",
     "text": [
      "  E,E  E,A  E,B  A,E  A,A  A,B  B,E  B,A  B,B\n",
      "  E,A  E,B  E,E  A,A  A,B  A,E  B,A  B,B  B,E\n",
      "  E,B  E,E  E,A  A,B  A,E  A,A  B,B  B,E  B,A\n",
      "  A,E  A,A  A,B  B,E  B,A  B,B  E,E  E,A  E,B\n",
      "  A,A  A,B  A,E  B,A  B,B  B,E  E,A  E,B  E,E\n",
      "  A,B  A,E  A,A  B,B  B,E  B,A  E,B  E,E  E,A\n",
      "  B,E  B,A  B,B  E,E  E,A  E,B  A,E  A,A  A,B\n",
      "  B,A  B,B  B,E  E,A  E,B  E,E  A,A  A,B  A,E\n",
      "  B,B  B,E  B,A  E,B  E,E  E,A  A,B  A,E  A,A\n"
     ]
    }
   ],
   "source": [
    "z3_x_z3.pretty_print_addition_table()"
   ]
  },
  {
   "cell_type": "code",
   "execution_count": 62,
   "id": "72b923e2",
   "metadata": {},
   "outputs": [
    {
     "name": "stdout",
     "output_type": "stream",
     "text": [
      "inv(E,E) = E,E\n",
      "inv(E,A) = E,B\n",
      "inv(E,B) = E,A\n",
      "inv(A,E) = B,E\n",
      "inv(A,A) = B,B\n",
      "inv(A,B) = B,A\n",
      "inv(B,E) = A,E\n",
      "inv(B,A) = A,B\n",
      "inv(B,B) = A,A\n"
     ]
    }
   ],
   "source": [
    "for elem in z3_x_z3.element_names:\n",
    "    print(f\"inv({elem}) = {z3_x_z3.inverse(elem)}\")"
   ]
  },
  {
   "cell_type": "code",
   "execution_count": 63,
   "id": "bd3577a7",
   "metadata": {},
   "outputs": [
    {
     "data": {
      "text/plain": [
       "True"
      ]
     },
     "execution_count": 63,
     "metadata": {},
     "output_type": "execute_result"
    }
   ],
   "source": [
    "z3_x_z3.abelian()"
   ]
  },
  {
   "cell_type": "code",
   "execution_count": 64,
   "id": "63536dbf",
   "metadata": {},
   "outputs": [
    {
     "data": {
      "text/plain": [
       "True"
      ]
     },
     "execution_count": 64,
     "metadata": {},
     "output_type": "execute_result"
    }
   ],
   "source": [
    "z3_x_z3.associative()"
   ]
  },
  {
   "cell_type": "code",
   "execution_count": 65,
   "id": "25b435e4",
   "metadata": {},
   "outputs": [],
   "source": [
    "z2_x_z2_x_z2 = z2 * z2 * z2"
   ]
  },
  {
   "cell_type": "code",
   "execution_count": 66,
   "id": "ac01f452",
   "metadata": {},
   "outputs": [
    {
     "data": {
      "text/plain": [
       "['E,E,E', 'E,E,A', 'E,A,E', 'E,A,A', 'A,E,E', 'A,E,A', 'A,A,E', 'A,A,A']"
      ]
     },
     "execution_count": 66,
     "metadata": {},
     "output_type": "execute_result"
    }
   ],
   "source": [
    "z2_x_z2_x_z2.element_names"
   ]
  },
  {
   "cell_type": "code",
   "execution_count": 67,
   "id": "fff687c4",
   "metadata": {},
   "outputs": [
    {
     "data": {
      "text/plain": [
       "array([[0, 1, 2, 3, 4, 5, 6, 7],\n",
       "       [1, 0, 3, 2, 5, 4, 7, 6],\n",
       "       [2, 3, 0, 1, 6, 7, 4, 5],\n",
       "       [3, 2, 1, 0, 7, 6, 5, 4],\n",
       "       [4, 5, 6, 7, 0, 1, 2, 3],\n",
       "       [5, 4, 7, 6, 1, 0, 3, 2],\n",
       "       [6, 7, 4, 5, 2, 3, 0, 1],\n",
       "       [7, 6, 5, 4, 3, 2, 1, 0]])"
      ]
     },
     "execution_count": 67,
     "metadata": {},
     "output_type": "execute_result"
    }
   ],
   "source": [
    "z2_x_z2_x_z2.addition_table"
   ]
  },
  {
   "cell_type": "code",
   "execution_count": 68,
   "id": "6ea27c37",
   "metadata": {
    "scrolled": true
   },
   "outputs": [
    {
     "name": "stdout",
     "output_type": "stream",
     "text": [
      "inv(E,E,E) = E,E,E\n",
      "inv(E,E,A) = E,E,A\n",
      "inv(E,A,E) = E,A,E\n",
      "inv(E,A,A) = E,A,A\n",
      "inv(A,E,E) = A,E,E\n",
      "inv(A,E,A) = A,E,A\n",
      "inv(A,A,E) = A,A,E\n",
      "inv(A,A,A) = A,A,A\n"
     ]
    }
   ],
   "source": [
    "for elem in z2_x_z2_x_z2.element_names:\n",
    "    print(f\"inv({elem}) = {z2_x_z2_x_z2.inverse(elem)}\")"
   ]
  },
  {
   "cell_type": "markdown",
   "id": "166123c6",
   "metadata": {},
   "source": [
    "## Tesseract group"
   ]
  },
  {
   "cell_type": "markdown",
   "id": "d94c997a",
   "metadata": {},
   "source": [
    "This group has 384 elements and was converted to JSON from [this definition](https://github.com/nathancarter/group-explorer/blob/master/groups/Tesseract.group)."
   ]
  },
  {
   "cell_type": "code",
   "execution_count": 69,
   "id": "15292e66",
   "metadata": {},
   "outputs": [
    {
     "name": "stdout",
     "output_type": "stream",
     "text": [
      "<Group: Tesseract, The symmetries of the hypercube>\n"
     ]
    }
   ],
   "source": [
    "tesseract_path = os.path.join(alg_dir, \"tesseract.json\")\n",
    "tesseract = alg.Group(tesseract_path)\n",
    "print(tesseract)"
   ]
  },
  {
   "cell_type": "code",
   "execution_count": 70,
   "id": "261336a4",
   "metadata": {},
   "outputs": [
    {
     "data": {
      "text/plain": [
       "False"
      ]
     },
     "execution_count": 70,
     "metadata": {},
     "output_type": "execute_result"
    }
   ],
   "source": [
    "tesseract.abelian()"
   ]
  },
  {
   "cell_type": "code",
   "execution_count": 71,
   "id": "dca72b0f",
   "metadata": {},
   "outputs": [],
   "source": [
    "#tesseract.associative() # True"
   ]
  },
  {
   "cell_type": "code",
   "execution_count": 72,
   "id": "356db5e8",
   "metadata": {},
   "outputs": [
    {
     "data": {
      "text/plain": [
       "384"
      ]
     },
     "execution_count": 72,
     "metadata": {},
     "output_type": "execute_result"
    }
   ],
   "source": [
    "len(tesseract.element_names)"
   ]
  },
  {
   "cell_type": "markdown",
   "id": "923766cf",
   "metadata": {},
   "source": [
    "Here are the first n elements:"
   ]
  },
  {
   "cell_type": "code",
   "execution_count": 73,
   "id": "397e7ffa",
   "metadata": {},
   "outputs": [
    {
     "data": {
      "text/plain": [
       "['e',\n",
       " 'a',\n",
       " 'b',\n",
       " 'ba',\n",
       " 'bb',\n",
       " 'bba',\n",
       " 'ab',\n",
       " 'aba',\n",
       " 'bab',\n",
       " 'baba',\n",
       " 'bbab',\n",
       " 'abababba',\n",
       " 'abb',\n",
       " 'abba',\n",
       " 'babb',\n",
       " 'abababbab',\n",
       " 'ababa',\n",
       " 'abab',\n",
       " 'abbab',\n",
       " 'acabababbac',\n",
       " 'babbab',\n",
       " 'ababbab',\n",
       " 'ababb',\n",
       " 'ababba',\n",
       " 'c']"
      ]
     },
     "execution_count": 73,
     "metadata": {},
     "output_type": "execute_result"
    }
   ],
   "source": [
    "n = 25\n",
    "tesseract.element_names[:n]"
   ]
  },
  {
   "cell_type": "code",
   "execution_count": 74,
   "id": "75fd8dec",
   "metadata": {},
   "outputs": [
    {
     "data": {
      "text/plain": [
       "'babbab'"
      ]
     },
     "execution_count": 74,
     "metadata": {},
     "output_type": "execute_result"
    }
   ],
   "source": [
    "tesseract.add('abab', 'baba')"
   ]
  },
  {
   "cell_type": "markdown",
   "id": "8c5294bf",
   "metadata": {},
   "source": [
    "## Scratch Work"
   ]
  },
  {
   "cell_type": "code",
   "execution_count": 75,
   "id": "37dc9795",
   "metadata": {},
   "outputs": [
    {
     "data": {
      "text/plain": [
       "Group('Z3_x_Z3', 'Direct product of Z3 & Z3', ['E,E', 'E,A', 'E,B', 'A,E', 'A,A', 'A,B', 'B,E', 'B,A', 'B,B'], [[0 1 2 3 4 5 6 7 8]\n",
       " [1 2 0 4 5 3 7 8 6]\n",
       " [2 0 1 5 3 4 8 6 7]\n",
       " [3 4 5 6 7 8 0 1 2]\n",
       " [4 5 3 7 8 6 1 2 0]\n",
       " [5 3 4 8 6 7 2 0 1]\n",
       " [6 7 8 0 1 2 3 4 5]\n",
       " [7 8 6 1 2 0 4 5 3]\n",
       " [8 6 7 2 0 1 5 3 4]])"
      ]
     },
     "execution_count": 75,
     "metadata": {},
     "output_type": "execute_result"
    }
   ],
   "source": [
    "z3_x_z3"
   ]
  },
  {
   "cell_type": "code",
   "execution_count": 76,
   "id": "3cccb743",
   "metadata": {},
   "outputs": [
    {
     "data": {
      "text/plain": [
       "['E,E', 'E,A', 'E,B', 'A,E', 'A,A', 'A,B', 'B,E', 'B,A', 'B,B']"
      ]
     },
     "execution_count": 76,
     "metadata": {},
     "output_type": "execute_result"
    }
   ],
   "source": [
    "z3_x_z3.element_names"
   ]
  },
  {
   "cell_type": "code",
   "execution_count": 77,
   "id": "c19a7bf0",
   "metadata": {},
   "outputs": [
    {
     "data": {
      "text/plain": [
       "Group('Z3', 'Cyclic group of order 3', ['E', 'A', 'B'], [[0 1 2]\n",
       " [1 2 0]\n",
       " [2 0 1]])"
      ]
     },
     "execution_count": 77,
     "metadata": {},
     "output_type": "execute_result"
    }
   ],
   "source": [
    "z3"
   ]
  },
  {
   "cell_type": "code",
   "execution_count": 78,
   "id": "b64afe7c",
   "metadata": {},
   "outputs": [
    {
     "data": {
      "text/plain": [
       "Group('S3', 'Symmetric group on 3 letters', ['e', 'r', 'r^2', 'f', 'fr', 'rf'], [[0 1 2 3 4 5]\n",
       " [1 2 0 5 3 4]\n",
       " [2 0 1 4 5 3]\n",
       " [3 4 5 0 1 2]\n",
       " [4 5 3 2 0 1]\n",
       " [5 3 4 1 2 0]])"
      ]
     },
     "execution_count": 78,
     "metadata": {},
     "output_type": "execute_result"
    }
   ],
   "source": [
    "s3"
   ]
  },
  {
   "cell_type": "code",
   "execution_count": null,
   "id": "34cb0f18",
   "metadata": {},
   "outputs": [],
   "source": []
  },
  {
   "cell_type": "code",
   "execution_count": 79,
   "id": "954c6c7a",
   "metadata": {},
   "outputs": [
    {
     "name": "stdout",
     "output_type": "stream",
     "text": [
      "inv(e) = e\n",
      "inv(r) = r^2\n",
      "inv(r^2) = r\n",
      "inv(f) = f\n",
      "inv(fr) = fr\n",
      "inv(rf) = rf\n"
     ]
    }
   ],
   "source": [
    "for elem in s3.element_names:\n",
    "    print(f\"inv({elem}) = {s3.inverse(elem)}\")"
   ]
  },
  {
   "cell_type": "code",
   "execution_count": null,
   "id": "b0d1f0f0",
   "metadata": {},
   "outputs": [],
   "source": []
  },
  {
   "cell_type": "code",
   "execution_count": null,
   "id": "ba447828",
   "metadata": {},
   "outputs": [],
   "source": []
  },
  {
   "cell_type": "code",
   "execution_count": null,
   "id": "813c42da",
   "metadata": {},
   "outputs": [],
   "source": []
  },
  {
   "cell_type": "code",
   "execution_count": 80,
   "id": "c4b07f86",
   "metadata": {},
   "outputs": [],
   "source": [
    "s3.set_direct_product_delimiter(':')"
   ]
  },
  {
   "cell_type": "code",
   "execution_count": 81,
   "id": "b6d1311a",
   "metadata": {},
   "outputs": [
    {
     "data": {
      "text/plain": [
       "Group('S3_x_Z3', 'Direct product of S3 & Z3', ['e:E', 'e:A', 'e:B', 'r:E', 'r:A', 'r:B', 'r^2:E', 'r^2:A', 'r^2:B', 'f:E', 'f:A', 'f:B', 'fr:E', 'fr:A', 'fr:B', 'rf:E', 'rf:A', 'rf:B'], [[ 0  1  2  3  4  5  6  7  8  9 10 11 12 13 14 15 16 17]\n",
       " [ 1  2  0  4  5  3  7  8  6 10 11  9 13 14 12 16 17 15]\n",
       " [ 2  0  1  5  3  4  8  6  7 11  9 10 14 12 13 17 15 16]\n",
       " [ 3  4  5  6  7  8  0  1  2 15 16 17  9 10 11 12 13 14]\n",
       " [ 4  5  3  7  8  6  1  2  0 16 17 15 10 11  9 13 14 12]\n",
       " [ 5  3  4  8  6  7  2  0  1 17 15 16 11  9 10 14 12 13]\n",
       " [ 6  7  8  0  1  2  3  4  5 12 13 14 15 16 17  9 10 11]\n",
       " [ 7  8  6  1  2  0  4  5  3 13 14 12 16 17 15 10 11  9]\n",
       " [ 8  6  7  2  0  1  5  3  4 14 12 13 17 15 16 11  9 10]\n",
       " [ 9 10 11 12 13 14 15 16 17  0  1  2  3  4  5  6  7  8]\n",
       " [10 11  9 13 14 12 16 17 15  1  2  0  4  5  3  7  8  6]\n",
       " [11  9 10 14 12 13 17 15 16  2  0  1  5  3  4  8  6  7]\n",
       " [12 13 14 15 16 17  9 10 11  6  7  8  0  1  2  3  4  5]\n",
       " [13 14 12 16 17 15 10 11  9  7  8  6  1  2  0  4  5  3]\n",
       " [14 12 13 17 15 16 11  9 10  8  6  7  2  0  1  5  3  4]\n",
       " [15 16 17  9 10 11 12 13 14  3  4  5  6  7  8  0  1  2]\n",
       " [16 17 15 10 11  9 13 14 12  4  5  3  7  8  6  1  2  0]\n",
       " [17 15 16 11  9 10 14 12 13  5  3  4  8  6  7  2  0  1]])"
      ]
     },
     "execution_count": 81,
     "metadata": {},
     "output_type": "execute_result"
    }
   ],
   "source": [
    "foo = s3 * z3\n",
    "foo"
   ]
  },
  {
   "cell_type": "code",
   "execution_count": 82,
   "id": "5c278514",
   "metadata": {},
   "outputs": [
    {
     "data": {
      "text/plain": [
       "False"
      ]
     },
     "execution_count": 82,
     "metadata": {},
     "output_type": "execute_result"
    }
   ],
   "source": [
    "foo.abelian()"
   ]
  },
  {
   "cell_type": "code",
   "execution_count": 83,
   "id": "e5e29b08",
   "metadata": {},
   "outputs": [
    {
     "name": "stdout",
     "output_type": "stream",
     "text": [
      "   e:E   e:A   e:B   r:E   r:A   r:B r^2:E r^2:A r^2:B   f:E   f:A   f:B  fr:E  fr:A  fr:B  rf:E  rf:A  rf:B\n",
      "   e:A   e:B   e:E   r:A   r:B   r:E r^2:A r^2:B r^2:E   f:A   f:B   f:E  fr:A  fr:B  fr:E  rf:A  rf:B  rf:E\n",
      "   e:B   e:E   e:A   r:B   r:E   r:A r^2:B r^2:E r^2:A   f:B   f:E   f:A  fr:B  fr:E  fr:A  rf:B  rf:E  rf:A\n",
      "   r:E   r:A   r:B r^2:E r^2:A r^2:B   e:E   e:A   e:B  rf:E  rf:A  rf:B   f:E   f:A   f:B  fr:E  fr:A  fr:B\n",
      "   r:A   r:B   r:E r^2:A r^2:B r^2:E   e:A   e:B   e:E  rf:A  rf:B  rf:E   f:A   f:B   f:E  fr:A  fr:B  fr:E\n",
      "   r:B   r:E   r:A r^2:B r^2:E r^2:A   e:B   e:E   e:A  rf:B  rf:E  rf:A   f:B   f:E   f:A  fr:B  fr:E  fr:A\n",
      " r^2:E r^2:A r^2:B   e:E   e:A   e:B   r:E   r:A   r:B  fr:E  fr:A  fr:B  rf:E  rf:A  rf:B   f:E   f:A   f:B\n",
      " r^2:A r^2:B r^2:E   e:A   e:B   e:E   r:A   r:B   r:E  fr:A  fr:B  fr:E  rf:A  rf:B  rf:E   f:A   f:B   f:E\n",
      " r^2:B r^2:E r^2:A   e:B   e:E   e:A   r:B   r:E   r:A  fr:B  fr:E  fr:A  rf:B  rf:E  rf:A   f:B   f:E   f:A\n",
      "   f:E   f:A   f:B  fr:E  fr:A  fr:B  rf:E  rf:A  rf:B   e:E   e:A   e:B   r:E   r:A   r:B r^2:E r^2:A r^2:B\n",
      "   f:A   f:B   f:E  fr:A  fr:B  fr:E  rf:A  rf:B  rf:E   e:A   e:B   e:E   r:A   r:B   r:E r^2:A r^2:B r^2:E\n",
      "   f:B   f:E   f:A  fr:B  fr:E  fr:A  rf:B  rf:E  rf:A   e:B   e:E   e:A   r:B   r:E   r:A r^2:B r^2:E r^2:A\n",
      "  fr:E  fr:A  fr:B  rf:E  rf:A  rf:B   f:E   f:A   f:B r^2:E r^2:A r^2:B   e:E   e:A   e:B   r:E   r:A   r:B\n",
      "  fr:A  fr:B  fr:E  rf:A  rf:B  rf:E   f:A   f:B   f:E r^2:A r^2:B r^2:E   e:A   e:B   e:E   r:A   r:B   r:E\n",
      "  fr:B  fr:E  fr:A  rf:B  rf:E  rf:A   f:B   f:E   f:A r^2:B r^2:E r^2:A   e:B   e:E   e:A   r:B   r:E   r:A\n",
      "  rf:E  rf:A  rf:B   f:E   f:A   f:B  fr:E  fr:A  fr:B   r:E   r:A   r:B r^2:E r^2:A r^2:B   e:E   e:A   e:B\n",
      "  rf:A  rf:B  rf:E   f:A   f:B   f:E  fr:A  fr:B  fr:E   r:A   r:B   r:E r^2:A r^2:B r^2:E   e:A   e:B   e:E\n",
      "  rf:B  rf:E  rf:A   f:B   f:E   f:A  fr:B  fr:E  fr:A   r:B   r:E   r:A r^2:B r^2:E r^2:A   e:B   e:E   e:A\n"
     ]
    }
   ],
   "source": [
    "foo.pretty_print_addition_table(delimiter='')"
   ]
  },
  {
   "cell_type": "code",
   "execution_count": null,
   "id": "e912ad18",
   "metadata": {},
   "outputs": [],
   "source": []
  },
  {
   "cell_type": "code",
   "execution_count": 84,
   "id": "05fb3e66",
   "metadata": {},
   "outputs": [
    {
     "data": {
      "text/plain": [
       "array([[0, 1, 2, 3, 4, 5],\n",
       "       [1, 2, 0, 5, 3, 4],\n",
       "       [2, 0, 1, 4, 5, 3],\n",
       "       [3, 4, 5, 0, 1, 2],\n",
       "       [4, 5, 3, 2, 0, 1],\n",
       "       [5, 3, 4, 1, 2, 0]])"
      ]
     },
     "execution_count": 84,
     "metadata": {},
     "output_type": "execute_result"
    }
   ],
   "source": [
    "s3.addition_table"
   ]
  },
  {
   "cell_type": "code",
   "execution_count": 85,
   "id": "04728825",
   "metadata": {},
   "outputs": [
    {
     "ename": "AttributeError",
     "evalue": "'Group' object has no attribute 'table_column'",
     "output_type": "error",
     "traceback": [
      "\u001b[0;31m---------------------------------------------------------------------------\u001b[0m",
      "\u001b[0;31mAttributeError\u001b[0m                            Traceback (most recent call last)",
      "\u001b[0;32m<ipython-input-85-43eba91f4e0d>\u001b[0m in \u001b[0;36m<module>\u001b[0;34m\u001b[0m\n\u001b[0;32m----> 1\u001b[0;31m \u001b[0ms3\u001b[0m\u001b[0;34m.\u001b[0m\u001b[0mtable_column\u001b[0m\u001b[0;34m(\u001b[0m\u001b[0;36m0\u001b[0m\u001b[0;34m)\u001b[0m\u001b[0;34m\u001b[0m\u001b[0;34m\u001b[0m\u001b[0m\n\u001b[0m",
      "\u001b[0;31mAttributeError\u001b[0m: 'Group' object has no attribute 'table_column'"
     ]
    }
   ],
   "source": [
    "s3.table_column(0)"
   ]
  },
  {
   "cell_type": "code",
   "execution_count": null,
   "id": "fb256d6b",
   "metadata": {},
   "outputs": [],
   "source": [
    "s3.table_column(0)"
   ]
  },
  {
   "cell_type": "code",
   "execution_count": null,
   "id": "b6de17f8",
   "metadata": {},
   "outputs": [],
   "source": [
    "s3.table_column(2)"
   ]
  },
  {
   "cell_type": "code",
   "execution_count": null,
   "id": "0143b0fe",
   "metadata": {},
   "outputs": [],
   "source": [
    "def get_table_column(table, n):\n",
    "    return [row[n] for row in table]"
   ]
  },
  {
   "cell_type": "code",
   "execution_count": null,
   "id": "22578ab4",
   "metadata": {},
   "outputs": [],
   "source": [
    "s3.check_addition_table()"
   ]
  },
  {
   "cell_type": "code",
   "execution_count": null,
   "id": "62adddc2",
   "metadata": {},
   "outputs": [],
   "source": [
    "tesseract.check_addition_table()"
   ]
  },
  {
   "cell_type": "code",
   "execution_count": null,
   "id": "a707a0d3",
   "metadata": {},
   "outputs": [],
   "source": [
    "len(tesseract.element_names)"
   ]
  },
  {
   "cell_type": "code",
   "execution_count": null,
   "id": "6c6bc88f",
   "metadata": {},
   "outputs": [],
   "source": []
  },
  {
   "cell_type": "code",
   "execution_count": null,
   "id": "9e409590",
   "metadata": {},
   "outputs": [],
   "source": [
    "arr = [[0, 1, 2, 3], [1, 0, 3, 2], [2, 3, 0, 1], [3, 2, 1, 0]]"
   ]
  },
  {
   "cell_type": "code",
   "execution_count": null,
   "id": "da661d81",
   "metadata": {},
   "outputs": [],
   "source": [
    "np_arr = np.array(arr, dtype=np.int64)"
   ]
  },
  {
   "cell_type": "code",
   "execution_count": null,
   "id": "80b60787",
   "metadata": {},
   "outputs": [],
   "source": [
    "np_arr"
   ]
  },
  {
   "cell_type": "code",
   "execution_count": null,
   "id": "8712cd58",
   "metadata": {},
   "outputs": [],
   "source": [
    "2**32"
   ]
  },
  {
   "cell_type": "code",
   "execution_count": null,
   "id": "32688605",
   "metadata": {},
   "outputs": [],
   "source": []
  },
  {
   "cell_type": "code",
   "execution_count": null,
   "id": "22fd2086",
   "metadata": {},
   "outputs": [],
   "source": []
  }
 ],
 "metadata": {
  "kernelspec": {
   "display_name": "Python 3",
   "language": "python",
   "name": "python3"
  },
  "language_info": {
   "codemirror_mode": {
    "name": "ipython",
    "version": 3
   },
   "file_extension": ".py",
   "mimetype": "text/x-python",
   "name": "python",
   "nbconvert_exporter": "python",
   "pygments_lexer": "ipython3",
   "version": "3.7.7"
  }
 },
 "nbformat": 4,
 "nbformat_minor": 5
}
