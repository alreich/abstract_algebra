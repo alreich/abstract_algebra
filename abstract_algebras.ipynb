{
 "cells": [
  {
   "cell_type": "markdown",
   "id": "28c7005d",
   "metadata": {},
   "source": [
    "# Abstract Algebras"
   ]
  },
  {
   "cell_type": "markdown",
   "id": "b57b971b",
   "metadata": {},
   "source": [
    "## References"
   ]
  },
  {
   "cell_type": "markdown",
   "id": "90e0b42b",
   "metadata": {},
   "source": [
    "* [Group Explorer](https://nathancarter.github.io/group-explorer/index.html) -- Visualization software for the abstract algebra classroom\n",
    "* [Groupprops, The Group Properties Wiki (beta)](https://groupprops.subwiki.org/wiki/Main_Page)\n",
    "* [Klein four-group, V4](https://en.wikipedia.org/wiki/Klein_four-group)\n",
    "* [Cyclic group](https://en.wikipedia.org/wiki/Cyclic_group)"
   ]
  },
  {
   "cell_type": "markdown",
   "id": "ad5cea4f",
   "metadata": {},
   "source": [
    "## Algebra Definition"
   ]
  },
  {
   "cell_type": "code",
   "execution_count": 1,
   "id": "a3973ec4",
   "metadata": {},
   "outputs": [],
   "source": [
    "import itertools as it\n",
    "\n",
    "class Algebra:\n",
    "    '''An abstract algbra with a finite number of elements and an addition table.'''\n",
    "    \n",
    "    def __init__(self, name, description, element_names, addition_table):\n",
    "        self.name = name\n",
    "        self.desc = description\n",
    "        self.elements = element_names\n",
    "        self.table = addition_table\n",
    "        # For efficiency, calculate the headers up front\n",
    "        self.col_header = self.table[0]\n",
    "        self.row_header = [row[0] for row in self.table]\n",
    "        \n",
    "    def __str__(self):\n",
    "        return f\"<{self.__class__.__name__}: {self.name}, {self.desc}>\"\n",
    "    \n",
    "    def __repr__(self):\n",
    "        return f\"{self.__class__.__name__}('{self.name}', '{self.desc}', {self.elements}, {self.table})\"\n",
    "    \n",
    "    def inverse(self, element):\n",
    "        elem_index = self.elements.index(element)\n",
    "        row_index = self.row_header.index(elem_index)\n",
    "        col_index = self.table[row_index].index(0)\n",
    "        return self.elements[self.col_header[col_index]]\n",
    "    \n",
    "    def addition_table_with_names(self):\n",
    "        return [[self.elements[x] for x in row] for row in self.table]\n",
    "        \n",
    "    def add(self, r, c):\n",
    "        '''Return the sum of elements, r & c.\n",
    "        The inputs, r & c, can be numbers or strings, but if either\n",
    "        input is a number, then a number will be returned, otherwise\n",
    "        the sum's element name (a string) will be returned.'''\n",
    "\n",
    "        # Table lookup requires numbers\n",
    "        r_ = r; c_ = c\n",
    "        str_result = False\n",
    "        if type(r) == str:\n",
    "            r_ = self.elements.index(r)\n",
    "            str_result = True\n",
    "        if type(c) == str:\n",
    "            c_ = self.elements.index(c)\n",
    "            str_result = True\n",
    "        \n",
    "        # Lookup the product based on the row & column indices\n",
    "        row_index = self.row_header.index(r_)\n",
    "        col_index = self.col_header.index(c_)\n",
    "        product = self.table[row_index][col_index]\n",
    "        \n",
    "        # If either input value was a string, then return a string,\n",
    "        # otherwise return a number\n",
    "        if str_result:\n",
    "            return self.elements[product]\n",
    "        else:\n",
    "            return product\n",
    "        \n",
    "    def __mul__(self, other):\n",
    "        '''Return the direct product of this algebra with the input algebra, other.'''\n",
    "        new_name = self.name + \"_x_\" + other.name\n",
    "        new_desc = \"Direct product of \" + self.name + \" & \" + other.name\n",
    "        new_elements = list(it.product(self.elements, other.elements))\n",
    "        new_table = list()\n",
    "        for e in new_elements:\n",
    "            new_row = list()\n",
    "            for f in new_elements:\n",
    "                new_row.append(new_elements.index((self.add(e[0], f[0]), other.add(e[1], f[1]))))\n",
    "            new_table.append(new_row)\n",
    "        return self.__class__(new_name, new_desc, new_elements, new_table)\n",
    "    \n",
    "    def swap(self, a, b):\n",
    "        '''Change the algbra's definition by swapping the order of two elements, a & b.'''\n",
    "        elem = self.elements\n",
    "        i, j = elem.index(a), elem.index(b)\n",
    "        elem[j], elem[i] = elem[i], elem[j]\n",
    "        for row in self.table:\n",
    "            k, m = row.index(i), row.index(j)\n",
    "            row[k], row[m] = row[m], row[k]\n",
    "        return None\n",
    "    \n",
    "    def elements(self):\n",
    "        return self.table[0]"
   ]
  },
  {
   "cell_type": "markdown",
   "id": "38e3fe9f",
   "metadata": {},
   "source": [
    "# Utilities"
   ]
  },
  {
   "cell_type": "markdown",
   "id": "4cc59177",
   "metadata": {},
   "source": [
    "<b>make-table</b> helps turn the XML-based tables at Groupprops into a list of lists for use here.\n",
    "\n",
    "INSTRUCTIONS FOR USE:\n",
    "1. Copy the table from there and paste it here\n",
    "1. Find & Replace the strings, \"\\<row\\>\" and \"\\<\\/row\\>\", with nothing\n",
    "1. Place triple quotes around the result and give it a variable name"
   ]
  },
  {
   "cell_type": "code",
   "execution_count": 2,
   "id": "0cd8fd4e",
   "metadata": {},
   "outputs": [],
   "source": [
    "def make_table(table_string):\n",
    "    return [[int(n) for n in row.strip().split(\" \")]\n",
    "            for row in table_string.splitlines()]\n",
    "\n",
    "def swap_list_items(lst, item1, item2):\n",
    "    a, b = lst.index(item1), lst.index(item2)\n",
    "    lst[b], lst[a] = lst[a], lst[b]\n",
    "    return None"
   ]
  },
  {
   "cell_type": "markdown",
   "id": "68ae1b1b",
   "metadata": {},
   "source": [
    "## Group Definition"
   ]
  },
  {
   "cell_type": "code",
   "execution_count": 3,
   "id": "170f8203",
   "metadata": {},
   "outputs": [],
   "source": [
    "class Group(Algebra):\n",
    "    pass"
   ]
  },
  {
   "cell_type": "markdown",
   "id": "03491375",
   "metadata": {},
   "source": [
    "### Klein-4 Group"
   ]
  },
  {
   "cell_type": "markdown",
   "id": "f6f23b1d",
   "metadata": {},
   "source": [
    "See this [definition at GitHub](https://github.com/nathancarter/group-explorer/blob/master/groups/V_4.group)."
   ]
  },
  {
   "cell_type": "code",
   "execution_count": 4,
   "id": "4d461d1c",
   "metadata": {},
   "outputs": [],
   "source": [
    "v4 = Group('V4',\n",
    "           'Klein-4 group',\n",
    "           ['e',  'h',  'v', 'hv'],\n",
    "           [[0, 1, 2, 3],\n",
    "            [1, 0, 3, 2],\n",
    "            [2, 3, 0, 1],\n",
    "            [3, 2, 1, 0]]\n",
    "          )"
   ]
  },
  {
   "cell_type": "code",
   "execution_count": 5,
   "id": "1f8392d1",
   "metadata": {},
   "outputs": [
    {
     "data": {
      "text/plain": [
       "[['e', 'h', 'v', 'hv'],\n",
       " ['h', 'e', 'hv', 'v'],\n",
       " ['v', 'hv', 'e', 'h'],\n",
       " ['hv', 'v', 'h', 'e']]"
      ]
     },
     "execution_count": 5,
     "metadata": {},
     "output_type": "execute_result"
    }
   ],
   "source": [
    "v4.addition_table_with_names()"
   ]
  },
  {
   "cell_type": "code",
   "execution_count": 6,
   "id": "fdf11682",
   "metadata": {},
   "outputs": [
    {
     "data": {
      "text/plain": [
       "'hv'"
      ]
     },
     "execution_count": 6,
     "metadata": {},
     "output_type": "execute_result"
    }
   ],
   "source": [
    "v4.add('h','v')"
   ]
  },
  {
   "cell_type": "code",
   "execution_count": 7,
   "id": "b005a041",
   "metadata": {},
   "outputs": [
    {
     "name": "stdout",
     "output_type": "stream",
     "text": [
      "inv(e) = e\n",
      "inv(h) = h\n",
      "inv(v) = v\n",
      "inv(hv) = hv\n"
     ]
    }
   ],
   "source": [
    "for elem in v4.elements:\n",
    "    print(f\"inv({elem}) = {v4.inverse(elem)}\")"
   ]
  },
  {
   "cell_type": "code",
   "execution_count": 8,
   "id": "acf195a7",
   "metadata": {},
   "outputs": [
    {
     "name": "stdout",
     "output_type": "stream",
     "text": [
      "<Group: V4, Klein-4 group>\n"
     ]
    }
   ],
   "source": [
    "print(v4)"
   ]
  },
  {
   "cell_type": "markdown",
   "id": "a04fa50f",
   "metadata": {},
   "source": [
    "### Cyclic group of order 4"
   ]
  },
  {
   "cell_type": "markdown",
   "id": "2caec980",
   "metadata": {},
   "source": [
    "See this [definition at GitHub](https://github.com/nathancarter/group-explorer/blob/master/groups/Z_4.group)."
   ]
  },
  {
   "cell_type": "code",
   "execution_count": 9,
   "id": "c9b2487b",
   "metadata": {},
   "outputs": [],
   "source": [
    "z4 = Group('Z4',\n",
    "           'Cyclic group of order 4',\n",
    "           ['e', 'a', 'a^2', 'a^3'],\n",
    "           [[0, 1, 2, 3],\n",
    "            [1, 2, 3, 0],\n",
    "            [2, 3, 0, 1],\n",
    "            [3, 0, 1, 2]]\n",
    "          )"
   ]
  },
  {
   "cell_type": "code",
   "execution_count": 10,
   "id": "c43d0433",
   "metadata": {},
   "outputs": [
    {
     "data": {
      "text/plain": [
       "[['e', 'a', 'a^2', 'a^3'],\n",
       " ['a', 'a^2', 'a^3', 'e'],\n",
       " ['a^2', 'a^3', 'e', 'a'],\n",
       " ['a^3', 'e', 'a', 'a^2']]"
      ]
     },
     "execution_count": 10,
     "metadata": {},
     "output_type": "execute_result"
    }
   ],
   "source": [
    "z4.addition_table_with_names()"
   ]
  },
  {
   "cell_type": "code",
   "execution_count": 11,
   "id": "19b8dba9",
   "metadata": {},
   "outputs": [
    {
     "name": "stdout",
     "output_type": "stream",
     "text": [
      "<Group: Z4, Cyclic group of order 4>\n"
     ]
    }
   ],
   "source": [
    "print(z4)"
   ]
  },
  {
   "cell_type": "code",
   "execution_count": 12,
   "id": "a0ff2a0d",
   "metadata": {},
   "outputs": [
    {
     "data": {
      "text/plain": [
       "0"
      ]
     },
     "execution_count": 12,
     "metadata": {},
     "output_type": "execute_result"
    }
   ],
   "source": [
    "z4.add(2,2)"
   ]
  },
  {
   "cell_type": "code",
   "execution_count": 13,
   "id": "ed111b84",
   "metadata": {},
   "outputs": [
    {
     "data": {
      "text/plain": [
       "'a'"
      ]
     },
     "execution_count": 13,
     "metadata": {},
     "output_type": "execute_result"
    }
   ],
   "source": [
    "z4.add('a^2', 'a^3')"
   ]
  },
  {
   "cell_type": "code",
   "execution_count": 14,
   "id": "43d6c17e",
   "metadata": {},
   "outputs": [
    {
     "name": "stdout",
     "output_type": "stream",
     "text": [
      "inv(e) = e\n",
      "inv(a) = a^3\n",
      "inv(a^2) = a^2\n",
      "inv(a^3) = a\n"
     ]
    }
   ],
   "source": [
    "for elem in z4.elements:\n",
    "    print(f\"inv({elem}) = {z4.inverse(elem)}\")"
   ]
  },
  {
   "cell_type": "markdown",
   "id": "37958739",
   "metadata": {},
   "source": [
    "### Symmetric group on 3 letters"
   ]
  },
  {
   "cell_type": "markdown",
   "id": "4bf6a781",
   "metadata": {},
   "source": [
    "See this [definition at GitHub](https://github.com/nathancarter/group-explorer/blob/master/groups/S_3.group). \"Another name for this group is \"Dihedral group on 3 vertices.\""
   ]
  },
  {
   "cell_type": "code",
   "execution_count": 15,
   "id": "51106987",
   "metadata": {},
   "outputs": [],
   "source": [
    "s3 = Group('S3',\n",
    "           'Symmetric group on 3 letters',\n",
    "           ['e', 'r', 'r^2', 'f', 'fr', 'rf'],\n",
    "           [[0, 1, 2, 3, 4, 5],\n",
    "            [1, 2, 0, 5, 3, 4],\n",
    "            [2, 0, 1, 4, 5, 3],\n",
    "            [3, 4, 5, 0, 1, 2],\n",
    "            [4, 5, 3, 2, 0, 1],\n",
    "            [5, 3, 4, 1, 2, 0]]\n",
    "          )"
   ]
  },
  {
   "cell_type": "code",
   "execution_count": 16,
   "id": "3cb45598",
   "metadata": {},
   "outputs": [
    {
     "data": {
      "text/plain": [
       "[['e', 'r', 'r^2', 'f', 'fr', 'rf'],\n",
       " ['r', 'r^2', 'e', 'rf', 'f', 'fr'],\n",
       " ['r^2', 'e', 'r', 'fr', 'rf', 'f'],\n",
       " ['f', 'fr', 'rf', 'e', 'r', 'r^2'],\n",
       " ['fr', 'rf', 'f', 'r^2', 'e', 'r'],\n",
       " ['rf', 'f', 'fr', 'r', 'r^2', 'e']]"
      ]
     },
     "execution_count": 16,
     "metadata": {},
     "output_type": "execute_result"
    }
   ],
   "source": [
    "s3.addition_table_with_names()"
   ]
  },
  {
   "cell_type": "code",
   "execution_count": 17,
   "id": "639ecbda",
   "metadata": {},
   "outputs": [
    {
     "name": "stdout",
     "output_type": "stream",
     "text": [
      "<Group: S3, Symmetric group on 3 letters>\n"
     ]
    }
   ],
   "source": [
    "print(s3)"
   ]
  },
  {
   "cell_type": "code",
   "execution_count": 18,
   "id": "fcd07fc5",
   "metadata": {},
   "outputs": [
    {
     "data": {
      "text/plain": [
       "'f'"
      ]
     },
     "execution_count": 18,
     "metadata": {},
     "output_type": "execute_result"
    }
   ],
   "source": [
    "s3.add('fr', 'r^2')"
   ]
  },
  {
   "cell_type": "code",
   "execution_count": 19,
   "id": "4064d78a",
   "metadata": {},
   "outputs": [
    {
     "name": "stdout",
     "output_type": "stream",
     "text": [
      "inv(e) = e\n",
      "inv(r) = r^2\n",
      "inv(r^2) = r\n",
      "inv(f) = f\n",
      "inv(fr) = fr\n",
      "inv(rf) = rf\n"
     ]
    }
   ],
   "source": [
    "for elem in s3.elements:\n",
    "    print(f\"inv({elem}) = {s3.inverse(elem)}\")"
   ]
  },
  {
   "cell_type": "code",
   "execution_count": 20,
   "id": "96092b7b",
   "metadata": {},
   "outputs": [
    {
     "data": {
      "text/plain": [
       "Group('S3', 'Symmetric group on 3 letters', ['e', 'r', 'r^2', 'f', 'fr', 'rf'], [[0, 1, 2, 3, 4, 5], [1, 2, 0, 5, 3, 4], [2, 0, 1, 4, 5, 3], [3, 4, 5, 0, 1, 2], [4, 5, 3, 2, 0, 1], [5, 3, 4, 1, 2, 0]])"
      ]
     },
     "execution_count": 20,
     "metadata": {},
     "output_type": "execute_result"
    }
   ],
   "source": [
    "s3"
   ]
  },
  {
   "cell_type": "markdown",
   "id": "a28912ef",
   "metadata": {},
   "source": [
    "### Symmetric Group, S3 (not same as S3, above)"
   ]
  },
  {
   "cell_type": "markdown",
   "id": "120c3a89",
   "metadata": {},
   "source": [
    "This is the [Symmetric group, S3, as specified at Groupprops](https://groupprops.subwiki.org/wiki/Symmetric_group:S3).\n",
    "\n",
    "W.r.t., how to interpret the addition table, the following quote helps:\n",
    "\n",
    "[[from Wikipedia](https://groupprops.subwiki.org/wiki/Symmetric_group:S3)] \"We portray elements as permutations on the set \\{ 1,2,3 \\} using the cycle decomposition. The row element is added on the left and the column element on the right, with the assumption of functions written on the left. This means that the column element is applied first and the row element is applied next.\""
   ]
  },
  {
   "cell_type": "code",
   "execution_count": 21,
   "id": "3750b2fc",
   "metadata": {},
   "outputs": [],
   "source": [
    "s3x = Group('S3X',\n",
    "           'Another version of the symmetric group on 3 letters',\n",
    "           ['()', '(1,2)', '(2,3)', '(1,3)', '(1,2,3)', '(1,3,2)'],\n",
    "           [[0, 1, 2, 3, 4, 5],\n",
    "            [1, 0, 4, 5, 2, 3],\n",
    "            [2, 5, 0, 4, 3, 1],\n",
    "            [3, 4, 5, 0, 1, 2],\n",
    "            [4, 3, 1, 2, 5, 0],\n",
    "            [5, 2, 3, 1, 0, 4]]\n",
    "          )"
   ]
  },
  {
   "cell_type": "code",
   "execution_count": 22,
   "id": "c1bd0118",
   "metadata": {},
   "outputs": [
    {
     "data": {
      "text/plain": [
       "[['()', '(1,2)', '(2,3)', '(1,3)', '(1,2,3)', '(1,3,2)'],\n",
       " ['(1,2)', '()', '(1,2,3)', '(1,3,2)', '(2,3)', '(1,3)'],\n",
       " ['(2,3)', '(1,3,2)', '()', '(1,2,3)', '(1,3)', '(1,2)'],\n",
       " ['(1,3)', '(1,2,3)', '(1,3,2)', '()', '(1,2)', '(2,3)'],\n",
       " ['(1,2,3)', '(1,3)', '(1,2)', '(2,3)', '(1,3,2)', '()'],\n",
       " ['(1,3,2)', '(2,3)', '(1,3)', '(1,2)', '()', '(1,2,3)']]"
      ]
     },
     "execution_count": 22,
     "metadata": {},
     "output_type": "execute_result"
    }
   ],
   "source": [
    "s3x.addition_table_with_names()"
   ]
  },
  {
   "cell_type": "code",
   "execution_count": 23,
   "id": "195bad75",
   "metadata": {},
   "outputs": [
    {
     "data": {
      "text/plain": [
       "'(1,2,3)'"
      ]
     },
     "execution_count": 23,
     "metadata": {},
     "output_type": "execute_result"
    }
   ],
   "source": [
    "s3x.add('(1,2)', '(2,3)')"
   ]
  },
  {
   "cell_type": "code",
   "execution_count": 24,
   "id": "f5aceef7",
   "metadata": {},
   "outputs": [
    {
     "name": "stdout",
     "output_type": "stream",
     "text": [
      "inv(()) = ()\n",
      "inv((1,2)) = (1,2)\n",
      "inv((2,3)) = (2,3)\n",
      "inv((1,3)) = (1,3)\n",
      "inv((1,2,3)) = (1,3,2)\n",
      "inv((1,3,2)) = (1,2,3)\n"
     ]
    }
   ],
   "source": [
    "for elem in s3x.elements:\n",
    "    print(f\"inv({elem}) = {s3x.inverse(elem)}\")"
   ]
  },
  {
   "cell_type": "markdown",
   "id": "6b04d360",
   "metadata": {},
   "source": [
    "## Z_2 x Z_2 x Z_2"
   ]
  },
  {
   "cell_type": "code",
   "execution_count": 25,
   "id": "0557911f",
   "metadata": {},
   "outputs": [],
   "source": [
    "Z2xZ2xZ2 = Group('Z_2 x Z_2 x Z_2',\n",
    "                 'no description',\n",
    "                 ['eee', 'aee', 'eae', 'aae', 'eea', 'aea', 'eaa', 'aaa'],\n",
    "                 [[0, 1, 2, 3, 4, 5, 6, 7],\n",
    "                  [1, 0, 3, 2, 5, 4, 7, 6],\n",
    "                  [2, 3, 0, 1, 6, 7, 4, 5],\n",
    "                  [3, 2, 1, 0, 7, 6, 5, 4],\n",
    "                  [4, 5, 6, 7, 0, 1, 2, 3],\n",
    "                  [5, 4, 7, 6, 1, 0, 3, 2],\n",
    "                  [6, 7, 4, 5, 2, 3, 0, 1],\n",
    "                  [7, 6, 5, 4, 3, 2, 1, 0]]\n",
    "                )"
   ]
  },
  {
   "cell_type": "code",
   "execution_count": 26,
   "id": "4981e393",
   "metadata": {},
   "outputs": [
    {
     "data": {
      "text/plain": [
       "[['eee', 'aee', 'eae', 'aae', 'eea', 'aea', 'eaa', 'aaa'],\n",
       " ['aee', 'eee', 'aae', 'eae', 'aea', 'eea', 'aaa', 'eaa'],\n",
       " ['eae', 'aae', 'eee', 'aee', 'eaa', 'aaa', 'eea', 'aea'],\n",
       " ['aae', 'eae', 'aee', 'eee', 'aaa', 'eaa', 'aea', 'eea'],\n",
       " ['eea', 'aea', 'eaa', 'aaa', 'eee', 'aee', 'eae', 'aae'],\n",
       " ['aea', 'eea', 'aaa', 'eaa', 'aee', 'eee', 'aae', 'eae'],\n",
       " ['eaa', 'aaa', 'eea', 'aea', 'eae', 'aae', 'eee', 'aee'],\n",
       " ['aaa', 'eaa', 'aea', 'eea', 'aae', 'eae', 'aee', 'eee']]"
      ]
     },
     "execution_count": 26,
     "metadata": {},
     "output_type": "execute_result"
    }
   ],
   "source": [
    "Z2xZ2xZ2.addition_table_with_names()"
   ]
  },
  {
   "cell_type": "code",
   "execution_count": 27,
   "id": "e3454dd3",
   "metadata": {},
   "outputs": [
    {
     "name": "stdout",
     "output_type": "stream",
     "text": [
      "inv(eee) = eee\n",
      "inv(aee) = aee\n",
      "inv(eae) = eae\n",
      "inv(aae) = aae\n",
      "inv(eea) = eea\n",
      "inv(aea) = aea\n",
      "inv(eaa) = eaa\n",
      "inv(aaa) = aaa\n"
     ]
    }
   ],
   "source": [
    "for elem in Z2xZ2xZ2.elements:\n",
    "    print(f\"inv({elem}) = {Z2xZ2xZ2.inverse(elem)}\")"
   ]
  },
  {
   "cell_type": "code",
   "execution_count": null,
   "id": "54090238",
   "metadata": {},
   "outputs": [],
   "source": []
  },
  {
   "cell_type": "markdown",
   "id": "5623dcf7",
   "metadata": {},
   "source": [
    "### Example"
   ]
  },
  {
   "cell_type": "code",
   "execution_count": 28,
   "id": "e082f1c3",
   "metadata": {},
   "outputs": [],
   "source": [
    "foo = '''         0 1 2 3 4 5 6 7 \n",
    "         1 0 3 2 5 4 7 6 \n",
    "         2 3 0 1 6 7 4 5 \n",
    "         3 2 1 0 7 6 5 4 \n",
    "         4 5 6 7 0 1 2 3 \n",
    "         5 4 7 6 1 0 3 2 \n",
    "         6 7 4 5 2 3 0 1 \n",
    "         7 6 5 4 3 2 1 0 '''"
   ]
  },
  {
   "cell_type": "code",
   "execution_count": 29,
   "id": "a1928f37",
   "metadata": {},
   "outputs": [
    {
     "data": {
      "text/plain": [
       "[[0, 1, 2, 3, 4, 5, 6, 7],\n",
       " [1, 0, 3, 2, 5, 4, 7, 6],\n",
       " [2, 3, 0, 1, 6, 7, 4, 5],\n",
       " [3, 2, 1, 0, 7, 6, 5, 4],\n",
       " [4, 5, 6, 7, 0, 1, 2, 3],\n",
       " [5, 4, 7, 6, 1, 0, 3, 2],\n",
       " [6, 7, 4, 5, 2, 3, 0, 1],\n",
       " [7, 6, 5, 4, 3, 2, 1, 0]]"
      ]
     },
     "execution_count": 29,
     "metadata": {},
     "output_type": "execute_result"
    }
   ],
   "source": [
    "z2_x_z2_x_z2 = make_table(foo)\n",
    "z2_x_z2_x_z2"
   ]
  },
  {
   "cell_type": "code",
   "execution_count": 30,
   "id": "8d816f65",
   "metadata": {},
   "outputs": [],
   "source": [
    "fu = \"<e,e,e> <a,e,e> <e,a,e> <a,a,e> <e,e,a> <a,e,a> <e,a,a> <a,a,a>\""
   ]
  },
  {
   "cell_type": "code",
   "execution_count": 31,
   "id": "1c2f3fd5",
   "metadata": {},
   "outputs": [
    {
     "data": {
      "text/plain": [
       "['<e,e,e>',\n",
       " '<a,e,e>',\n",
       " '<e,a,e>',\n",
       " '<a,a,e>',\n",
       " '<e,e,a>',\n",
       " '<a,e,a>',\n",
       " '<e,a,a>',\n",
       " '<a,a,a>']"
      ]
     },
     "execution_count": 31,
     "metadata": {},
     "output_type": "execute_result"
    }
   ],
   "source": [
    "fubar = fu.split(\" \")\n",
    "fubar"
   ]
  },
  {
   "cell_type": "markdown",
   "id": "ed1e4e11",
   "metadata": {},
   "source": [
    "## Direct Products"
   ]
  },
  {
   "cell_type": "code",
   "execution_count": 32,
   "id": "3f208658",
   "metadata": {},
   "outputs": [],
   "source": [
    "z3 = Group('Z3',\n",
    "           'Cyclic group of order 3',\n",
    "           ['E', 'A', 'B'],\n",
    "           [[0, 1, 2],\n",
    "            [1, 2, 0],\n",
    "            [2, 0, 1]]\n",
    "          )"
   ]
  },
  {
   "cell_type": "code",
   "execution_count": 33,
   "id": "de1984a2",
   "metadata": {},
   "outputs": [],
   "source": [
    "def direct_product(g1, g2):\n",
    "    new_elements = list(it.product(g1.elements, g2.elements))\n",
    "    new_table = list()\n",
    "    for e1 in new_elements:\n",
    "        new_row = list()\n",
    "        for e2 in new_elements:\n",
    "            new_row.append(new_elements.index((g1.add(e1[0], e2[0]), g2.add(e1[1], e2[1]))))\n",
    "        new_table.append(new_row)\n",
    "    return new_elements, new_table            "
   ]
  },
  {
   "cell_type": "code",
   "execution_count": 34,
   "id": "a6b2f460",
   "metadata": {},
   "outputs": [
    {
     "data": {
      "text/plain": [
       "([('E', 'E'),\n",
       "  ('E', 'A'),\n",
       "  ('E', 'B'),\n",
       "  ('A', 'E'),\n",
       "  ('A', 'A'),\n",
       "  ('A', 'B'),\n",
       "  ('B', 'E'),\n",
       "  ('B', 'A'),\n",
       "  ('B', 'B')],\n",
       " [[0, 1, 2, 3, 4, 5, 6, 7, 8],\n",
       "  [1, 2, 0, 4, 5, 3, 7, 8, 6],\n",
       "  [2, 0, 1, 5, 3, 4, 8, 6, 7],\n",
       "  [3, 4, 5, 6, 7, 8, 0, 1, 2],\n",
       "  [4, 5, 3, 7, 8, 6, 1, 2, 0],\n",
       "  [5, 3, 4, 8, 6, 7, 2, 0, 1],\n",
       "  [6, 7, 8, 0, 1, 2, 3, 4, 5],\n",
       "  [7, 8, 6, 1, 2, 0, 4, 5, 3],\n",
       "  [8, 6, 7, 2, 0, 1, 5, 3, 4]])"
      ]
     },
     "execution_count": 34,
     "metadata": {},
     "output_type": "execute_result"
    }
   ],
   "source": [
    "direct_product(z3, z3)"
   ]
  },
  {
   "cell_type": "code",
   "execution_count": 35,
   "id": "fd095a33",
   "metadata": {},
   "outputs": [
    {
     "data": {
      "text/plain": [
       "Group('Z3_x_Z3', 'Direct product of Z3 & Z3', [('E', 'E'), ('E', 'A'), ('E', 'B'), ('A', 'E'), ('A', 'A'), ('A', 'B'), ('B', 'E'), ('B', 'A'), ('B', 'B')], [[0, 1, 2, 3, 4, 5, 6, 7, 8], [1, 2, 0, 4, 5, 3, 7, 8, 6], [2, 0, 1, 5, 3, 4, 8, 6, 7], [3, 4, 5, 6, 7, 8, 0, 1, 2], [4, 5, 3, 7, 8, 6, 1, 2, 0], [5, 3, 4, 8, 6, 7, 2, 0, 1], [6, 7, 8, 0, 1, 2, 3, 4, 5], [7, 8, 6, 1, 2, 0, 4, 5, 3], [8, 6, 7, 2, 0, 1, 5, 3, 4]])"
      ]
     },
     "execution_count": 35,
     "metadata": {},
     "output_type": "execute_result"
    }
   ],
   "source": [
    "z3_x_z3 = z3 * z3\n",
    "z3_x_z3"
   ]
  },
  {
   "cell_type": "code",
   "execution_count": 36,
   "id": "6144ad1b",
   "metadata": {},
   "outputs": [
    {
     "data": {
      "text/plain": [
       "[('E', 'E'),\n",
       " ('E', 'A'),\n",
       " ('E', 'B'),\n",
       " ('A', 'E'),\n",
       " ('A', 'A'),\n",
       " ('A', 'B'),\n",
       " ('B', 'E'),\n",
       " ('B', 'A'),\n",
       " ('B', 'B')]"
      ]
     },
     "execution_count": 36,
     "metadata": {},
     "output_type": "execute_result"
    }
   ],
   "source": [
    "z3_x_z3.elements"
   ]
  },
  {
   "cell_type": "code",
   "execution_count": 37,
   "id": "8f964421",
   "metadata": {},
   "outputs": [
    {
     "data": {
      "text/plain": [
       "[[0, 1, 2, 3, 4, 5, 6, 7, 8],\n",
       " [1, 2, 0, 4, 5, 3, 7, 8, 6],\n",
       " [2, 0, 1, 5, 3, 4, 8, 6, 7],\n",
       " [3, 4, 5, 6, 7, 8, 0, 1, 2],\n",
       " [4, 5, 3, 7, 8, 6, 1, 2, 0],\n",
       " [5, 3, 4, 8, 6, 7, 2, 0, 1],\n",
       " [6, 7, 8, 0, 1, 2, 3, 4, 5],\n",
       " [7, 8, 6, 1, 2, 0, 4, 5, 3],\n",
       " [8, 6, 7, 2, 0, 1, 5, 3, 4]]"
      ]
     },
     "execution_count": 37,
     "metadata": {},
     "output_type": "execute_result"
    }
   ],
   "source": [
    "z3_x_z3.table"
   ]
  },
  {
   "cell_type": "code",
   "execution_count": null,
   "id": "a5dd548e",
   "metadata": {},
   "outputs": [],
   "source": []
  },
  {
   "cell_type": "code",
   "execution_count": null,
   "id": "ed998c70",
   "metadata": {},
   "outputs": [],
   "source": []
  }
 ],
 "metadata": {
  "kernelspec": {
   "display_name": "Python 3",
   "language": "python",
   "name": "python3"
  },
  "language_info": {
   "codemirror_mode": {
    "name": "ipython",
    "version": 3
   },
   "file_extension": ".py",
   "mimetype": "text/x-python",
   "name": "python",
   "nbconvert_exporter": "python",
   "pygments_lexer": "ipython3",
   "version": "3.7.7"
  }
 },
 "nbformat": 4,
 "nbformat_minor": 5
}
