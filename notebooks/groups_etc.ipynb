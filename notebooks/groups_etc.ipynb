{
 "cells": [
  {
   "cell_type": "markdown",
   "id": "4d514578",
   "metadata": {},
   "source": [
    "# Groups, Monoids, Semigroups, & Magmas"
   ]
  },
  {
   "cell_type": "markdown",
   "id": "d80aa546",
   "metadata": {},
   "source": [
    "This section provides numerous examples of finite algebra creation and manipulation, specifically, for algebras with only one set of elements and one binary operation: Groups, Monoids, Semigroups, and Magmas.  See the previous section, \"Definitions\", for definitions of these algebraic structures."
   ]
  },
  {
   "cell_type": "markdown",
   "id": "7de6d112",
   "metadata": {},
   "source": [
    "## Internal Representation of Groups, Monoids, Semigroups, & Magmas\n",
    "\n",
    "Internally, a ``FiniteAlgebra`` can take several different forms.  For algebras that have only one set of elements and one binary operation, such as Groups, Monoids, Semigroups, and Magmas, the internal representation is as shown below.\n",
    "\n",
    "* **name**: (``str``) A short name for the algebra;\n",
    "* **description**: (``str``) Any additional, useful information about the algebra;\n",
    "* **elements**: (``list`` of ``str``) Names of the algebras’s elements.\n",
    "* **table**: (``list`` of ``list`` of ``int``) The algebra’s multiplication\n",
    "  table, where each list in the list represents a row of the table, and\n",
    "  each integer represents the position of an element in ‘element_names’.\n",
    "  For input and ouput, element names (``str``) may be used in the table, rather than integers, but integers are still used internally.\n",
    "  \n",
    "**NOTE**: The type of table required here is known as a [Cayley Table](https://en.wikipedia.org/wiki/Cayley_table).  All of the properties of a finite algebra can be derived from its Cayley Table.  For this reason, this module includes a ``CayleyTable`` class for storing the table and methods associated with it."
   ]
  },
  {
   "cell_type": "markdown",
   "id": "32ba0b43",
   "metadata": {},
   "source": [
    "## Algebra Constuction Examples"
   ]
  },
  {
   "cell_type": "markdown",
   "id": "8763c4ac",
   "metadata": {},
   "source": [
    "In a nutshell, use the function, ``make_finite_algebra`` for all algebra construction.\n",
    "\n",
    "Although individual algebras (Magma, Semigroup, etc.) have their own individual constructors, requiring the quantities described above, the **recommended** way to construct an algebra is to use the function, ``make_finite_algebra``, using one of the following three approaches to inputs:\n",
    "\n",
    "1. Enter **individual values** corresponding to the quantities in its Internal Representation, described above.\n",
    "1. Enter a **Python dictionary** (``dict``), with keys and values corresponding to the individual values, described above.\n",
    "1. Enter the **path to a JSON file** (``str``) that corresponds to the dictionary, described above.\n",
    "   \n",
    "``make_finite_algebra`` uses the input table to determine what type of algebra it supports and returns the appropriate algebra."
   ]
  },
  {
   "cell_type": "markdown",
   "id": "68740e75",
   "metadata": {},
   "source": [
    "In the following examples, the only algebra constructor used is ``make_finite_algebra``."
   ]
  },
  {
   "cell_type": "markdown",
   "id": "b7a1a9c4",
   "metadata": {},
   "source": [
    "### Group"
   ]
  },
  {
   "cell_type": "markdown",
   "id": "d87ed870",
   "metadata": {},
   "source": [
    "We'll start the examples in the middle of the hierarchy of algebras, with  Groups.\n",
    "\n",
    "The element names in a finite algebra's element list are **always** represented as strings; and, although a Cayley table can be entered (and displayed) using the same string names, within a Cayley table they are represented and displayed using a 2-dimensional, square array of integers that denote the positions of element names in the element list.  To see this, look at the following input table vs. output table."
   ]
  },
  {
   "cell_type": "code",
   "execution_count": 1,
   "id": "4f6854da",
   "metadata": {},
   "outputs": [
    {
     "data": {
      "text/plain": [
       "Group(\n",
       "'Z3',\n",
       "'Cyclic group of order 3',\n",
       "['e', 'a', 'a^2'],\n",
       "[[0, 1, 2], [1, 2, 0], [2, 0, 1]]\n",
       ")"
      ]
     },
     "execution_count": 1,
     "metadata": {},
     "output_type": "execute_result"
    }
   ],
   "source": [
    ">>> from finite_algebras import make_finite_algebra\n",
    "\n",
    ">>> z3 = make_finite_algebra('Z3',\n",
    "                             'Cyclic group of order 3',\n",
    "                             ['e', 'a', 'a^2'],\n",
    "                             [[ 'e' ,  'a' , 'a^2'],\n",
    "                              [ 'a' , 'a^2',  'e' ],\n",
    "                              ['a^2',  'e' ,  'a' ]]\n",
    "                            )\n",
    "\n",
    ">>> z3"
   ]
  },
  {
   "cell_type": "markdown",
   "id": "514dde11",
   "metadata": {},
   "source": [
    "Following Python convention, the representation (``__repr__``) of an algebra can be used to construct the same algebra, via cut-and-paste.\n",
    "\n",
    "On the other hand, printing an algebra converts it to a compact string representation that contains its class name, algebra name, and the unique ID of the algebra instance:"
   ]
  },
  {
   "cell_type": "code",
   "execution_count": 2,
   "id": "29b4d256",
   "metadata": {},
   "outputs": [
    {
     "name": "stdout",
     "output_type": "stream",
     "text": [
      "<Group:Z3, ID:140728899848400>\n"
     ]
    }
   ],
   "source": [
    ">>> print(z3)"
   ]
  },
  {
   "cell_type": "markdown",
   "id": "eee7b78f",
   "metadata": {},
   "source": [
    "The ``about`` method prints information about an algebra.  Set ``use_element_names`` to ``True`` to see the Cayley table printed using element names (``str``) rather than element positions (``int``)."
   ]
  },
  {
   "cell_type": "code",
   "execution_count": 3,
   "id": "92b90f00",
   "metadata": {},
   "outputs": [
    {
     "name": "stdout",
     "output_type": "stream",
     "text": [
      "\n",
      "** Group **\n",
      "Name: Z3\n",
      "Instance ID: 140728899848400\n",
      "Description: Cyclic group of order 3\n",
      "Order: 3\n",
      "Identity: e\n",
      "Associative? Yes\n",
      "Commutative? Yes\n",
      "Cyclic?: Yes\n",
      "  Generators: ['a', 'a^2']\n",
      "Elements:\n",
      "   Index   Name   Inverse  Order\n",
      "      0       e       e       1\n",
      "      1       a     a^2       3\n",
      "      2     a^2       a       3\n",
      "Cayley Table (showing names):\n",
      "[['e', 'a', 'a^2'], ['a', 'a^2', 'e'], ['a^2', 'e', 'a']]\n"
     ]
    }
   ],
   "source": [
    ">>> z3.about(use_table_names=True)"
   ]
  },
  {
   "cell_type": "markdown",
   "id": "a7cd03e0",
   "metadata": {},
   "source": [
    "### Group Properties"
   ]
  },
  {
   "cell_type": "code",
   "execution_count": 4,
   "id": "fce09c45",
   "metadata": {},
   "outputs": [
    {
     "data": {
      "text/plain": [
       "True"
      ]
     },
     "execution_count": 4,
     "metadata": {},
     "output_type": "execute_result"
    }
   ],
   "source": [
    ">>> z3.is_associative()  # Only Magmas are non-associative"
   ]
  },
  {
   "cell_type": "code",
   "execution_count": 5,
   "id": "e36633ae",
   "metadata": {},
   "outputs": [
    {
     "data": {
      "text/plain": [
       "True"
      ]
     },
     "execution_count": 5,
     "metadata": {},
     "output_type": "execute_result"
    }
   ],
   "source": [
    ">>> z3.is_commutative()"
   ]
  },
  {
   "cell_type": "code",
   "execution_count": 6,
   "id": "5d65c980",
   "metadata": {},
   "outputs": [
    {
     "data": {
      "text/plain": [
       "True"
      ]
     },
     "execution_count": 6,
     "metadata": {},
     "output_type": "execute_result"
    }
   ],
   "source": [
    ">>> z3.is_abelian()"
   ]
  },
  {
   "cell_type": "markdown",
   "id": "048a1c57",
   "metadata": {},
   "source": [
    "The ``identity`` method (property) returns the algebra's identity element, if it exists.  This method is implemented as a property, so no trailing parentheses (\"()\") are required.  See the API documentation to see what other methods are implemented as properties.\n",
    "\n",
    "If the identity doesn't exist, then ``None`` is returned."
   ]
  },
  {
   "cell_type": "code",
   "execution_count": 7,
   "id": "3ff801d8",
   "metadata": {},
   "outputs": [
    {
     "data": {
      "text/plain": [
       "'e'"
      ]
     },
     "execution_count": 7,
     "metadata": {},
     "output_type": "execute_result"
    }
   ],
   "source": [
    ">>> z3.identity"
   ]
  },
  {
   "cell_type": "code",
   "execution_count": 8,
   "id": "a01fdc07",
   "metadata": {},
   "outputs": [
    {
     "data": {
      "text/plain": [
       "'a^2'"
      ]
     },
     "execution_count": 8,
     "metadata": {},
     "output_type": "execute_result"
    }
   ],
   "source": [
    ">>> z3.inv('a')  # Get an element's inverse, if it exists"
   ]
  },
  {
   "cell_type": "markdown",
   "id": "fc5ad76f",
   "metadata": {},
   "source": [
    "Internal to algebras, tables are stored as instances of the ``CayleyTable`` class.  Under normal usage, there should be no need to deal with a ``CayleyTable``."
   ]
  },
  {
   "cell_type": "code",
   "execution_count": 9,
   "id": "ea7b6a43",
   "metadata": {},
   "outputs": [
    {
     "data": {
      "text/plain": [
       "CayleyTable([[0, 1, 2], [1, 2, 0], [2, 0, 1]])"
      ]
     },
     "execution_count": 9,
     "metadata": {},
     "output_type": "execute_result"
    }
   ],
   "source": [
    ">>> z3.table"
   ]
  },
  {
   "cell_type": "markdown",
   "id": "25a0876e",
   "metadata": {},
   "source": [
    "### Binary Operation"
   ]
  },
  {
   "cell_type": "markdown",
   "id": "45489b82",
   "metadata": {},
   "source": [
    "The binary operation, implicitely defined by a Cayley table, is made explicit by an algebra's ``op`` method.  Obviously, ``op`` should be able to take two algebraic elements as input, and it does, but it can also take any number of inputs from none to as many as needed, as shown below."
   ]
  },
  {
   "cell_type": "markdown",
   "id": "8bdb1278",
   "metadata": {},
   "source": [
    "For the example Group, Z3, created above, we have that $a \\circ a = a^2$ and this is verified below."
   ]
  },
  {
   "cell_type": "code",
   "execution_count": 10,
   "id": "3bc12c9c",
   "metadata": {},
   "outputs": [
    {
     "data": {
      "text/plain": [
       "'a^2'"
      ]
     },
     "execution_count": 10,
     "metadata": {},
     "output_type": "execute_result"
    }
   ],
   "source": [
    ">>> z3.op('a', 'a')"
   ]
  },
  {
   "cell_type": "markdown",
   "id": "39c9d103",
   "metadata": {},
   "source": [
    "Also, the following holds, $a \\circ a \\circ a = a \\circ a^2 = a^2 \\circ a = e$, as shown below"
   ]
  },
  {
   "cell_type": "code",
   "execution_count": 11,
   "id": "a796a3c9",
   "metadata": {},
   "outputs": [
    {
     "data": {
      "text/plain": [
       "True"
      ]
     },
     "execution_count": 11,
     "metadata": {},
     "output_type": "execute_result"
    }
   ],
   "source": [
    ">>> z3.op('a', 'a', 'a') == z3.op('a', 'a^2') == z3.op('a^2', 'a') == 'e'"
   ]
  },
  {
   "cell_type": "markdown",
   "id": "3a69ae5c",
   "metadata": {},
   "source": [
    "If only one argument is given to the binary operation, then that argument is simply returned; unless it is not a valid element of the algebra, in which case an exception is raised."
   ]
  },
  {
   "cell_type": "code",
   "execution_count": 12,
   "id": "4e49cf18",
   "metadata": {},
   "outputs": [
    {
     "data": {
      "text/plain": [
       "'a'"
      ]
     },
     "execution_count": 12,
     "metadata": {},
     "output_type": "execute_result"
    }
   ],
   "source": [
    ">>> z3.op('a')"
   ]
  },
  {
   "cell_type": "markdown",
   "id": "da534e21",
   "metadata": {},
   "source": [
    "With zero arguments, ``op`` returns the identity, if it exists."
   ]
  },
  {
   "cell_type": "code",
   "execution_count": 13,
   "id": "a71b1717",
   "metadata": {},
   "outputs": [
    {
     "data": {
      "text/plain": [
       "'e'"
      ]
     },
     "execution_count": 13,
     "metadata": {},
     "output_type": "execute_result"
    }
   ],
   "source": [
    ">>> z3.op()"
   ]
  },
  {
   "cell_type": "markdown",
   "id": "e46e53e4",
   "metadata": {},
   "source": [
    "Note, however, that ``op`` can only be used with elements (``str``) that are members of an algebra's element list.  So, since 'a^3' is not a string in Z3's element list, it cannot be used in ``op``."
   ]
  },
  {
   "cell_type": "code",
   "execution_count": 14,
   "id": "f5ae535b",
   "metadata": {},
   "outputs": [
    {
     "name": "stdout",
     "output_type": "stream",
     "text": [
      "a^3 is not a valid element name\n"
     ]
    }
   ],
   "source": [
    ">>> try:\n",
    ">>>     z3.op('a^3')\n",
    ">>> except Exception as exc:\n",
    ">>>     print(exc)"
   ]
  },
  {
   "cell_type": "markdown",
   "id": "e9de3c4a",
   "metadata": {},
   "source": [
    "**A final word on ``op``**\n",
    "\n",
    "Since the binary operation here is implemented as a function (i.e., in prefix notation) rather than an infix operator, the convention for handling none, one, or more arguments is borrowed from the long-standing Lisp convention for addition and subtraction."
   ]
  },
  {
   "cell_type": "markdown",
   "id": "976318b2",
   "metadata": {},
   "source": [
    "### \"Subtraction\" in Groups"
   ]
  },
  {
   "cell_type": "markdown",
   "id": "b28922b4",
   "metadata": {},
   "source": [
    "The method, ``sub``, is a convenience method for computing \"$x - y$\", that is, $x \\circ y^{-1}$ where $x, y \\in S$ and $\\langle S, \\circ \\rangle$ is a Group."
   ]
  },
  {
   "cell_type": "code",
   "execution_count": 15,
   "id": "bd1a9cc1",
   "metadata": {},
   "outputs": [
    {
     "name": "stdout",
     "output_type": "stream",
     "text": [
      "For example, \"a - a^2\" = a * inv(a^2) = a * a = a^2\n"
     ]
    }
   ],
   "source": [
    ">>> x = 'a'\n",
    ">>> y = 'a^2'\n",
    ">>> print(f\"For example, \\\"{x} - {y}\\\" = {x} * inv({y}) = {x} * {z3.inv(y)} = {z3.op(x, z3.inv(y))}\")"
   ]
  },
  {
   "cell_type": "markdown",
   "id": "adef2578",
   "metadata": {},
   "source": [
    "Or, more succinctly using ``sub``:"
   ]
  },
  {
   "cell_type": "code",
   "execution_count": 16,
   "id": "ed8f3b28",
   "metadata": {
    "scrolled": true
   },
   "outputs": [
    {
     "data": {
      "text/plain": [
       "'a^2'"
      ]
     },
     "execution_count": 16,
     "metadata": {},
     "output_type": "execute_result"
    }
   ],
   "source": [
    ">>> z3.sub(x, y)"
   ]
  },
  {
   "cell_type": "markdown",
   "id": "063c4743",
   "metadata": {},
   "source": [
    "### Magma"
   ]
  },
  {
   "cell_type": "markdown",
   "id": "03c5d785",
   "metadata": {},
   "source": [
    "A Magma is the most fundamental type of algebra that we can instantiate with ``make_finite_algebra``."
   ]
  },
  {
   "cell_type": "markdown",
   "id": "8e61bfe5",
   "metadata": {},
   "source": [
    "**Magma** - a set with a binary operation:  $\\langle S, \\circ \\rangle$, where $S$ is a finite set and $\\circ: S \\times S \\to S$"
   ]
  },
  {
   "cell_type": "markdown",
   "id": "df1aab3e",
   "metadata": {},
   "source": [
    "**Example: Rock-Paper-Scissors**\n",
    "\n",
    "* paper covers rock\n",
    "* rock crushes scissors\n",
    "* scissors cuts paper\n",
    "\n",
    "Expressing this in algebraic form (see https://en.wikipedia.org/wiki/Commutative_magma), where p *beats* r, and r *beats* s, and s *beats* p, we have:\n",
    "\n",
    "* $\\langle S, \\circ \\rangle$, where $S = \\{r,p,s\\}$\n",
    "* For all $x, y \\in S$, if $x$ *beats* $y$, then $x \\circ y = y \\circ x = x$\n",
    "* Also, for all $x \\in S$, $x \\circ x = x$\n",
    "\n",
    "From the rule in the second bullet, above, this algebra is obviously commutative."
   ]
  },
  {
   "cell_type": "code",
   "execution_count": 17,
   "id": "dddb9c5f",
   "metadata": {},
   "outputs": [
    {
     "name": "stdout",
     "output_type": "stream",
     "text": [
      "\n",
      "** Magma **\n",
      "Name: RPS\n",
      "Instance ID: 140727556455504\n",
      "Description: Rock, Paper, Scissors Magma\n",
      "Order: 3\n",
      "Identity: None\n",
      "Associative? No\n",
      "Commutative? Yes\n",
      "Cyclic?: No\n",
      "Elements: ['r', 'p', 's']\n",
      "Has Inverses? No\n",
      "Cayley Table (showing indices):\n",
      "[[0, 1, 0], [1, 1, 2], [0, 2, 2]]\n"
     ]
    }
   ],
   "source": [
    ">>> rps = make_finite_algebra('RPS',\n",
    "                              'Rock, Paper, Scissors Magma',\n",
    "                              ['r', 'p', 's'],\n",
    "                              [['r', 'p', 'r'],\n",
    "                               ['p', 'p', 's'],\n",
    "                               ['r', 's', 's']])\n",
    "\n",
    ">>> rps.about()"
   ]
  },
  {
   "cell_type": "markdown",
   "id": "aedc48cb",
   "metadata": {},
   "source": [
    "Paper beats Rock:"
   ]
  },
  {
   "cell_type": "code",
   "execution_count": 18,
   "id": "2795d0d2",
   "metadata": {},
   "outputs": [
    {
     "data": {
      "text/plain": [
       "'p'"
      ]
     },
     "execution_count": 18,
     "metadata": {},
     "output_type": "execute_result"
    }
   ],
   "source": [
    ">>> rps.op('r', 'p')"
   ]
  },
  {
   "cell_type": "code",
   "execution_count": 19,
   "id": "4cf1e849",
   "metadata": {},
   "outputs": [
    {
     "name": "stdout",
     "output_type": "stream",
     "text": [
      "RPS does not have an identity element\n"
     ]
    }
   ],
   "source": [
    ">>> if rps.identity is None:\n",
    ">>>     print(\"RPS does not have an identity element\")"
   ]
  },
  {
   "cell_type": "markdown",
   "id": "3b941242",
   "metadata": {},
   "source": [
    "For convenience, the method, ``has_identity``, returns True or False, depending on whether an algebra has an identity."
   ]
  },
  {
   "cell_type": "code",
   "execution_count": 20,
   "id": "62ce4831",
   "metadata": {},
   "outputs": [
    {
     "data": {
      "text/plain": [
       "False"
      ]
     },
     "execution_count": 20,
     "metadata": {},
     "output_type": "execute_result"
    }
   ],
   "source": [
    ">>> rps.has_identity()"
   ]
  },
  {
   "cell_type": "markdown",
   "id": "816ca8d6",
   "metadata": {},
   "source": [
    "The next section demonstrates that a Magma can have an identity element, as long as the Magma is not associative, otherwise ``make_finite_algebra`` would output a Monoid.\n",
    "\n",
    "A convention often used with abstract algebras is to denote an identity element with the letter \"e\".  That is done in the example below, but the function, ``make_finite_algebra``, ignores that convention and derives the identity element, if it exists, from the table properties alone."
   ]
  },
  {
   "cell_type": "markdown",
   "id": "47c38524",
   "metadata": {},
   "source": [
    "### Magma with Identity Element"
   ]
  },
  {
   "cell_type": "code",
   "execution_count": 21,
   "id": "a645ae26",
   "metadata": {},
   "outputs": [
    {
     "name": "stdout",
     "output_type": "stream",
     "text": [
      "\n",
      "** Magma **\n",
      "Name: Whatever\n",
      "Instance ID: 140727556443984\n",
      "Description: Magma with Identity\n",
      "Order: 3\n",
      "Identity: e\n",
      "Associative? No\n",
      "Commutative? No\n",
      "Cyclic?: Yes\n",
      "  Generators: ['b']\n",
      "Elements: ['e', 'a', 'b']\n",
      "Has Inverses? No\n",
      "Cayley Table (showing indices):\n",
      "[[0, 1, 2], [1, 0, 1], [2, 2, 1]]\n"
     ]
    }
   ],
   "source": [
    ">>> mag = make_finite_algebra('Whatever',\n",
    "                              'Magma with Identity',\n",
    "                              ['e', 'a', 'b'],\n",
    "                              [['e', 'a', 'b'],\n",
    "                               ['a', 'e', 'a'],\n",
    "                               ['b', 'b', 'a']])\n",
    "\n",
    ">>> mag.about()"
   ]
  },
  {
   "cell_type": "markdown",
   "id": "058ddbb9",
   "metadata": {},
   "source": [
    "### Semigroup"
   ]
  },
  {
   "cell_type": "markdown",
   "id": "3e1cdf7c",
   "metadata": {},
   "source": [
    "**Semigroup** -- an associative Magma:  for any $a,b,c \\in S \\Rightarrow a \\circ (b \\circ c) = (a \\circ b) \\circ c$\n",
    "\n",
    "**Example:**\n",
    "\n",
    "Reference: [Groupoids and Smarandache Groupoids](https://arxiv.org/ftp/math/papers/0304/0304490.pdf) by W. B. Vasantha Kandasamy"
   ]
  },
  {
   "cell_type": "code",
   "execution_count": 22,
   "id": "55610e91",
   "metadata": {
    "scrolled": true
   },
   "outputs": [
    {
     "name": "stdout",
     "output_type": "stream",
     "text": [
      "\n",
      "** Semigroup **\n",
      "Name: Example 1.4.1\n",
      "Instance ID: 140727289003728\n",
      "Description: See: Groupoids and Smarandache Groupoids by W. B. Vasantha Kandasamy\n",
      "Order: 6\n",
      "Identity: None\n",
      "Associative? Yes\n",
      "Commutative? No\n",
      "Cyclic?: No\n",
      "Elements: ['a', 'b', 'c', 'd', 'e', 'f']\n",
      "Has Inverses? No\n",
      "Cayley Table (showing indices):\n",
      "[[0, 3, 0, 3, 0, 3],\n",
      " [1, 4, 1, 4, 1, 4],\n",
      " [2, 5, 2, 5, 2, 5],\n",
      " [3, 0, 3, 0, 3, 0],\n",
      " [4, 1, 4, 1, 4, 1],\n",
      " [5, 2, 5, 2, 5, 2]]\n"
     ]
    }
   ],
   "source": [
    ">>> sg = make_finite_algebra(\n",
    "    'Example 1.4.1',\n",
    "    'See: Groupoids and Smarandache Groupoids by W. B. Vasantha Kandasamy',\n",
    "    ['a', 'b', 'c', 'd', 'e', 'f'],\n",
    "    [[0, 3, 0, 3, 0, 3],\n",
    "     [1, 4, 1, 4, 1, 4],\n",
    "     [2, 5, 2, 5, 2, 5],\n",
    "     [3, 0, 3, 0, 3, 0],\n",
    "     [4, 1, 4, 1, 4, 1],\n",
    "     [5, 2, 5, 2, 5, 2]]\n",
    ")\n",
    "\n",
    ">>> sg.about()"
   ]
  },
  {
   "cell_type": "markdown",
   "id": "f7cb7d17",
   "metadata": {},
   "source": [
    "Since the element in the 0,1 position of the table is 3, it follows that, $a \\circ b = d$:"
   ]
  },
  {
   "cell_type": "code",
   "execution_count": 23,
   "id": "2fb389d7",
   "metadata": {},
   "outputs": [
    {
     "data": {
      "text/plain": [
       "'d'"
      ]
     },
     "execution_count": 23,
     "metadata": {},
     "output_type": "execute_result"
    }
   ],
   "source": [
    ">>> sg.op('a', 'b')"
   ]
  },
  {
   "cell_type": "markdown",
   "id": "6ba56e1e",
   "metadata": {},
   "source": [
    "This Semigroup is regular and every element is a weak inverse of every other element."
   ]
  },
  {
   "cell_type": "code",
   "execution_count": 24,
   "id": "cd983307",
   "metadata": {},
   "outputs": [
    {
     "data": {
      "text/plain": [
       "True"
      ]
     },
     "execution_count": 24,
     "metadata": {},
     "output_type": "execute_result"
    }
   ],
   "source": [
    ">>> sg.is_regular()"
   ]
  },
  {
   "cell_type": "code",
   "execution_count": 25,
   "id": "fd2f2eb6",
   "metadata": {},
   "outputs": [
    {
     "data": {
      "text/plain": [
       "{'a': ['a', 'c', 'e'],\n",
       " 'b': ['b', 'd', 'f'],\n",
       " 'c': ['a', 'c', 'e'],\n",
       " 'd': ['b', 'd', 'f'],\n",
       " 'e': ['a', 'c', 'e'],\n",
       " 'f': ['b', 'd', 'f']}"
      ]
     },
     "execution_count": 25,
     "metadata": {},
     "output_type": "execute_result"
    }
   ],
   "source": [
    ">>> sg.weak_inverses()"
   ]
  },
  {
   "cell_type": "markdown",
   "id": "fa7b2444",
   "metadata": {},
   "source": [
    "### Monoid"
   ]
  },
  {
   "cell_type": "markdown",
   "id": "2c4be2e1",
   "metadata": {},
   "source": [
    "**Monoid** -- a Semigroup with identity element:  $\\exists e \\in S$, such that, for all $a \\in S, a \\circ e = e \\circ a = a$"
   ]
  },
  {
   "cell_type": "code",
   "execution_count": 26,
   "id": "1ffc9b9c",
   "metadata": {},
   "outputs": [
    {
     "name": "stdout",
     "output_type": "stream",
     "text": [
      "\n",
      "** Monoid **\n",
      "Name: M4\n",
      "Instance ID: 140727556504912\n",
      "Description: Example of a commutative monoid\n",
      "Order: 4\n",
      "Identity: b\n",
      "Associative? Yes\n",
      "Commutative? Yes\n",
      "Cyclic?: No\n",
      "Elements: ['a', 'b', 'c', 'd']\n",
      "Has Inverses? No\n",
      "Cayley Table (showing names):\n",
      "[['a', 'a', 'a', 'a'],\n",
      " ['a', 'b', 'c', 'd'],\n",
      " ['a', 'c', 'a', 'c'],\n",
      " ['a', 'd', 'c', 'b']]\n"
     ]
    }
   ],
   "source": [
    ">>> m4 = make_finite_algebra('M4',\n",
    "                             'Example of a commutative monoid',\n",
    "                             ['a', 'b', 'c', 'd'],\n",
    "                             [[0, 0, 0, 0],\n",
    "                              [0, 1, 2, 3],\n",
    "                              [0, 2, 0, 2],\n",
    "                              [0, 3, 2, 1]])\n",
    "\n",
    ">>> m4.about(use_table_names=True)"
   ]
  },
  {
   "cell_type": "markdown",
   "id": "bbe3ccf2",
   "metadata": {},
   "source": [
    "By the way, the Monoid, above, and others like it of different orders, can be automatically generated using the function, ``generate_commutative_monoid``.  It is based on integer multiplication modulo the desired order."
   ]
  },
  {
   "cell_type": "code",
   "execution_count": 27,
   "id": "ec20e53b",
   "metadata": {},
   "outputs": [
    {
     "data": {
      "text/plain": [
       "'b'"
      ]
     },
     "execution_count": 27,
     "metadata": {},
     "output_type": "execute_result"
    }
   ],
   "source": [
    ">>> m4.identity  # Returns the identity element"
   ]
  },
  {
   "cell_type": "code",
   "execution_count": 28,
   "id": "3557b985",
   "metadata": {},
   "outputs": [
    {
     "data": {
      "text/plain": [
       "'c'"
      ]
     },
     "execution_count": 28,
     "metadata": {},
     "output_type": "execute_result"
    }
   ],
   "source": [
    ">>> m4.op('c', 'b')  # since 'b' is the identity element"
   ]
  },
  {
   "cell_type": "markdown",
   "id": "7c0621f2",
   "metadata": {},
   "source": [
    "## Serialization"
   ]
  },
  {
   "cell_type": "markdown",
   "id": "50335a87",
   "metadata": {},
   "source": [
    "Algebras can be converted to and from JSON strings/files and Python dictionaries."
   ]
  },
  {
   "cell_type": "markdown",
   "id": "8478251b",
   "metadata": {},
   "source": [
    "### Instantiate Algebra from JSON File"
   ]
  },
  {
   "cell_type": "markdown",
   "id": "c8efb64b",
   "metadata": {},
   "source": [
    "First setup some path variables:\n",
    "\n",
    "* one that points to the abstract_algebra directory\n",
    "* and the other points to a subdirectory containing algebra definitions in JSON format\n",
    "\n",
    "Also, the code here assumes that there is an environment\n",
    "variable, ``PYPROJ``, that points to the parent directory of the abstract_algebra directory."
   ]
  },
  {
   "cell_type": "code",
   "execution_count": 29,
   "id": "48d96eee",
   "metadata": {},
   "outputs": [],
   "source": [
    ">>> import os\n",
    ">>> aa_path = os.path.join(os.getenv(\"PYPROJ\"), \"abstract_algebra\")\n",
    ">>> alg_dir = os.path.join(aa_path, \"Algebras\")"
   ]
  },
  {
   "cell_type": "markdown",
   "id": "efda14dc",
   "metadata": {},
   "source": [
    "Here's the **JSON file**:\n",
    "\n",
    "The path to the JSON file is constructed by using Python's *os.path.join* to join strings together.  So, the quantity, ``v4_json``, below, is a string.  And then we've used Jupyter Notebook's ability to \"reach out\" into the external environment (via \"!\") and printout the file using the UNIX command, ``cat``."
   ]
  },
  {
   "cell_type": "code",
   "execution_count": 30,
   "id": "75da97ff",
   "metadata": {},
   "outputs": [
    {
     "name": "stdout",
     "output_type": "stream",
     "text": [
      "{\"name\": \"V4\",\r\n",
      " \"description\": \"Klein-4 group\",\r\n",
      " \"elements\": [\"e\", \"h\", \"v\", \"r\"],\r\n",
      " \"table\": [[0, 1, 2, 3],\r\n",
      "           [1, 0, 3, 2],\r\n",
      "           [2, 3, 0, 1],\r\n",
      "           [3, 2, 1, 0]]\r\n",
      "}\r\n"
     ]
    }
   ],
   "source": [
    ">>> v4_json = os.path.join(alg_dir, \"v4_klein_4_group.json\")\n",
    "\n",
    ">>> !cat {v4_json}"
   ]
  },
  {
   "cell_type": "markdown",
   "id": "61d26817",
   "metadata": {},
   "source": [
    "And, here's the **algebra** that is loaded from the JSON file:"
   ]
  },
  {
   "cell_type": "code",
   "execution_count": 31,
   "id": "507eda13",
   "metadata": {},
   "outputs": [
    {
     "data": {
      "text/plain": [
       "Group(\n",
       "'V4',\n",
       "'Klein-4 group',\n",
       "['e', 'h', 'v', 'r'],\n",
       "[[0, 1, 2, 3], [1, 0, 3, 2], [2, 3, 0, 1], [3, 2, 1, 0]]\n",
       ")"
      ]
     },
     "execution_count": 31,
     "metadata": {},
     "output_type": "execute_result"
    }
   ],
   "source": [
    ">>> v4 = make_finite_algebra(v4_json)\n",
    "\n",
    ">>> v4"
   ]
  },
  {
   "cell_type": "markdown",
   "id": "c82bbed8",
   "metadata": {},
   "source": [
    "### Convert Algebra to Python Dictionary"
   ]
  },
  {
   "cell_type": "markdown",
   "id": "77a2a4e4",
   "metadata": {},
   "source": [
    "The examples, below, show a Magma and a Group being converted into dictionaries."
   ]
  },
  {
   "cell_type": "code",
   "execution_count": 32,
   "id": "aff3f07b",
   "metadata": {},
   "outputs": [
    {
     "data": {
      "text/plain": [
       "{'name': 'RPS',\n",
       " 'description': 'Rock, Paper, Scissors Magma',\n",
       " 'elements': ['r', 'p', 's'],\n",
       " 'table': [[0, 1, 0], [1, 1, 2], [0, 2, 2]]}"
      ]
     },
     "execution_count": 32,
     "metadata": {},
     "output_type": "execute_result"
    }
   ],
   "source": [
    ">>> rps.to_dict()"
   ]
  },
  {
   "cell_type": "markdown",
   "id": "695e20b4",
   "metadata": {},
   "source": [
    "Note that the only difference between the JSON and Python dictionary representations of an algebra is the type of quotes used aroung strings.  JSON requires that double quotes be used, while Python uses single quotes by default."
   ]
  },
  {
   "cell_type": "markdown",
   "id": "611faad7",
   "metadata": {},
   "source": [
    "In the second example, below, the **type** of algebra (e.g., Magma) can be included in the dictionary for readability, however, the *type* field is ignored when ``make_finite_algebra`` reads a dictionary or JSON file.  Again, the type of algebra and its properties are always derived from its Cayley table."
   ]
  },
  {
   "cell_type": "code",
   "execution_count": 33,
   "id": "d5b17bcf",
   "metadata": {},
   "outputs": [
    {
     "data": {
      "text/plain": [
       "{'name': 'RPS',\n",
       " 'description': 'Rock, Paper, Scissors Magma',\n",
       " 'elements': ['r', 'p', 's'],\n",
       " 'table': [[0, 1, 0], [1, 1, 2], [0, 2, 2]],\n",
       " 'type': 'Magma'}"
      ]
     },
     "execution_count": 33,
     "metadata": {},
     "output_type": "execute_result"
    }
   ],
   "source": [
    ">>> rps_dict = rps.to_dict(include_classname=True)\n",
    "\n",
    ">>> rps_dict"
   ]
  },
  {
   "cell_type": "code",
   "execution_count": 34,
   "id": "5e667092",
   "metadata": {},
   "outputs": [
    {
     "data": {
      "text/plain": [
       "{'name': 'V4',\n",
       " 'description': 'Klein-4 group',\n",
       " 'elements': ['e', 'h', 'v', 'r'],\n",
       " 'table': [[0, 1, 2, 3], [1, 0, 3, 2], [2, 3, 0, 1], [3, 2, 1, 0]]}"
      ]
     },
     "execution_count": 34,
     "metadata": {},
     "output_type": "execute_result"
    }
   ],
   "source": [
    ">>> v4_dict = v4.to_dict()\n",
    "\n",
    ">>> v4_dict"
   ]
  },
  {
   "cell_type": "markdown",
   "id": "a2e45998",
   "metadata": {},
   "source": [
    "### Instantiate Algebra from Python Dictionary"
   ]
  },
  {
   "cell_type": "markdown",
   "id": "20c97e5b",
   "metadata": {},
   "source": [
    "For these examples, we'll use the Python dictionaries, created above, as inputs to ``make_finite_algebra``."
   ]
  },
  {
   "cell_type": "code",
   "execution_count": 35,
   "id": "216cb60d",
   "metadata": {},
   "outputs": [
    {
     "data": {
      "text/plain": [
       "Magma(\n",
       "'RPS',\n",
       "'Rock, Paper, Scissors Magma',\n",
       "['r', 'p', 's'],\n",
       "[[0, 1, 0], [1, 1, 2], [0, 2, 2]]\n",
       ")"
      ]
     },
     "execution_count": 35,
     "metadata": {},
     "output_type": "execute_result"
    }
   ],
   "source": [
    ">>> rps_from_dict = make_finite_algebra(rps_dict)\n",
    "\n",
    ">>> rps_from_dict"
   ]
  },
  {
   "cell_type": "code",
   "execution_count": 36,
   "id": "3e4c7178",
   "metadata": {},
   "outputs": [
    {
     "data": {
      "text/plain": [
       "Group(\n",
       "'V4',\n",
       "'Klein-4 group',\n",
       "['e', 'h', 'v', 'r'],\n",
       "[[0, 1, 2, 3], [1, 0, 3, 2], [2, 3, 0, 1], [3, 2, 1, 0]]\n",
       ")"
      ]
     },
     "execution_count": 36,
     "metadata": {},
     "output_type": "execute_result"
    }
   ],
   "source": [
    ">>> v4_from_dict = make_finite_algebra(v4_dict)\n",
    "\n",
    ">>> v4_from_dict"
   ]
  },
  {
   "cell_type": "markdown",
   "id": "4ead0950",
   "metadata": {},
   "source": [
    "### Convert Algebra to JSON String"
   ]
  },
  {
   "cell_type": "markdown",
   "id": "aa7f282b",
   "metadata": {},
   "source": [
    "Note that the conversion example here outputs a single Python string (i.e., enclosed by single quotes), within which, all the strings are enclosed by double quotes, as required by JSON."
   ]
  },
  {
   "cell_type": "code",
   "execution_count": 37,
   "id": "9c246408",
   "metadata": {},
   "outputs": [
    {
     "data": {
      "text/plain": [
       "'{\"name\": \"V4\", \"description\": \"Klein-4 group\", \"elements\": [\"e\", \"h\", \"v\", \"r\"], \"table\": [[0, 1, 2, 3], [1, 0, 3, 2], [2, 3, 0, 1], [3, 2, 1, 0]]}'"
      ]
     },
     "execution_count": 37,
     "metadata": {},
     "output_type": "execute_result"
    }
   ],
   "source": [
    ">>> v4_json_string = v4.dumps()\n",
    "\n",
    ">>> v4_json_string"
   ]
  },
  {
   "cell_type": "markdown",
   "id": "a33aebda",
   "metadata": {},
   "source": [
    "**WARNING**: Although an algebra can be constructed by loading its definition from a JSON file, it cannot be constructed directly from a JSON string, because ``make_finite_algebra`` interprets a single string input as a JSON file name.  To load an algebra from a JSON string, first convert the string to a Python dictionary, then input that to ``make_finite_algebra``, as shown below, using the JSON string constructed above:"
   ]
  },
  {
   "cell_type": "code",
   "execution_count": 38,
   "id": "53490b4a",
   "metadata": {},
   "outputs": [
    {
     "data": {
      "text/plain": [
       "Group(\n",
       "'V4',\n",
       "'Klein-4 group',\n",
       "['e', 'h', 'v', 'r'],\n",
       "[[0, 1, 2, 3], [1, 0, 3, 2], [2, 3, 0, 1], [3, 2, 1, 0]]\n",
       ")"
      ]
     },
     "execution_count": 38,
     "metadata": {},
     "output_type": "execute_result"
    }
   ],
   "source": [
    ">>> import json\n",
    "\n",
    ">>> make_finite_algebra(json.loads(v4_json_string))"
   ]
  },
  {
   "cell_type": "markdown",
   "id": "aaf2a628",
   "metadata": {},
   "source": [
    "## Autogeneration of Finite Algebras\n",
    "\n",
    "There are several functions for autogenerating finite algebras of any desired size:\n",
    "\n",
    "**Groups**\n",
    "\n",
    "* ``generate_cyclic_group(n)``: $Z_n$, where $a \\circ b \\equiv a+b$ mod $n$, where $a,b \\in \\{0,1,...,n-1\\}$; order is $n$\n",
    "* ``generate_symmetric_group(n)``: $S_n$, where $\\circ$ is composition of permutations of $(0, 1, ..., n-1)$; order is $n!$\n",
    "* ``generate_powerset_group(n)``: $A \\circ B \\equiv A \\bigtriangleup B$, where $A,B \\in P(\\{0, 1, ..., n-1\\})$; order is $2^n$\n",
    "\n",
    "**Monoid**\n",
    "\n",
    "* ``generate_commutative_monoid(n)``: $a \\circ b \\equiv ab$ mod $n$, where $a,b \\in \\{0,1,...,n-1\\}$; order is $n$"
   ]
  },
  {
   "cell_type": "markdown",
   "id": "fd0ca94e",
   "metadata": {},
   "source": [
    "### Autogenerated Cyclic Group"
   ]
  },
  {
   "cell_type": "markdown",
   "id": "6d95cd65",
   "metadata": {},
   "source": [
    "A cyclic group of any desired order can be generated.  A very small one is created, below, because it will be used later to demonstrate Direct Products and Isomorphisms."
   ]
  },
  {
   "cell_type": "code",
   "execution_count": 39,
   "id": "dd0c6e8a",
   "metadata": {},
   "outputs": [
    {
     "name": "stdout",
     "output_type": "stream",
     "text": [
      "\n",
      "** Group **\n",
      "Name: Z2\n",
      "Instance ID: 140727825364048\n",
      "Description: Autogenerated cyclic Group of order 2\n",
      "Order: 2\n",
      "Identity: e\n",
      "Associative? Yes\n",
      "Commutative? Yes\n",
      "Cyclic?: Yes\n",
      "  Generators: ['a']\n",
      "Elements:\n",
      "   Index   Name   Inverse  Order\n",
      "      0       e       e       1\n",
      "      1       a       a       2\n",
      "Cayley Table (showing indices):\n",
      "[[0, 1], [1, 0]]\n"
     ]
    }
   ],
   "source": [
    ">>> from finite_algebras import generate_cyclic_group\n",
    "\n",
    ">>> z2 = generate_cyclic_group(2)\n",
    "\n",
    ">>> z2.about()"
   ]
  },
  {
   "cell_type": "markdown",
   "id": "5c0a9a8f",
   "metadata": {},
   "source": [
    "### Autogenerated Symmetric Group"
   ]
  },
  {
   "cell_type": "markdown",
   "id": "1ce5eacb",
   "metadata": {},
   "source": [
    "The symmetric group, based on the permutations of <b>n</b> elements, (1, 2, 3, ..., n), can be generated as follows:\n",
    "\n",
    "**WARNING**: Since the order of an autogenerated symmetric group is **n!**, even a small value of **n** can result in a very large group."
   ]
  },
  {
   "cell_type": "code",
   "execution_count": 40,
   "id": "2bff6f91",
   "metadata": {},
   "outputs": [
    {
     "name": "stdout",
     "output_type": "stream",
     "text": [
      "\n",
      "** Group **\n",
      "Name: S3\n",
      "Instance ID: 140727825363920\n",
      "Description: Autogenerated symmetric Group on 3 elements\n",
      "Order: 6\n",
      "Identity: (1, 2, 3)\n",
      "Associative? Yes\n",
      "Commutative? No\n",
      "Cyclic?: No\n",
      "Elements:\n",
      "   Index   Name   Inverse  Order\n",
      "      0 (1, 2, 3) (1, 2, 3)       1\n",
      "      1 (1, 3, 2) (1, 3, 2)       2\n",
      "      2 (2, 1, 3) (2, 1, 3)       2\n",
      "      3 (2, 3, 1) (3, 1, 2)       3\n",
      "      4 (3, 1, 2) (2, 3, 1)       3\n",
      "      5 (3, 2, 1) (3, 2, 1)       2\n",
      "Cayley Table (showing indices):\n",
      "[[0, 1, 2, 3, 4, 5],\n",
      " [1, 0, 4, 5, 2, 3],\n",
      " [2, 3, 0, 1, 5, 4],\n",
      " [3, 2, 5, 4, 0, 1],\n",
      " [4, 5, 1, 0, 3, 2],\n",
      " [5, 4, 3, 2, 1, 0]]\n"
     ]
    }
   ],
   "source": [
    ">>> from finite_algebras import generate_symmetric_group\n",
    "\n",
    ">>> s3 = generate_symmetric_group(3)\n",
    "\n",
    ">>> s3.about()"
   ]
  },
  {
   "cell_type": "markdown",
   "id": "15a23b9e",
   "metadata": {},
   "source": [
    "### Autogenerated Powerset Group\n",
    "\n",
    "The function, ``generate_powerset_group``, will generate a group on the powerset of {0, 1, 2, ..., n-1} with **symmetric difference** as the group's binary operation.  This group is useful because it can be used to form a ring with set intersection as the second operator.\n",
    "\n",
    "This means that the order of the autogenerated powerset group will be $2^n$, so the same WARNING as above applies with regard to large values of n."
   ]
  },
  {
   "cell_type": "code",
   "execution_count": 41,
   "id": "c9b7be62",
   "metadata": {},
   "outputs": [
    {
     "name": "stdout",
     "output_type": "stream",
     "text": [
      "\n",
      "** Group **\n",
      "Name: PS3\n",
      "Instance ID: 140727825366608\n",
      "Description: Autogenerated Group on the powerset of 3 elements, with symmetric difference operator\n",
      "Order: 8\n",
      "Identity: {}\n",
      "Associative? Yes\n",
      "Commutative? Yes\n",
      "Cyclic?: No\n",
      "Elements:\n",
      "   Index   Name   Inverse  Order\n",
      "      0      {}      {}       1\n",
      "      1     {0}     {0}       2\n",
      "      2     {1}     {1}       2\n",
      "      3     {2}     {2}       2\n",
      "      4  {0, 1}  {0, 1}       2\n",
      "      5  {0, 2}  {0, 2}       2\n",
      "      6  {1, 2}  {1, 2}       2\n",
      "      7 {0, 1, 2} {0, 1, 2}       2\n",
      "Cayley Table (showing indices):\n",
      "[[0, 1, 2, 3, 4, 5, 6, 7],\n",
      " [1, 0, 4, 5, 2, 3, 7, 6],\n",
      " [2, 4, 0, 6, 1, 7, 3, 5],\n",
      " [3, 5, 6, 0, 7, 1, 2, 4],\n",
      " [4, 2, 1, 7, 0, 6, 5, 3],\n",
      " [5, 3, 7, 1, 6, 0, 4, 2],\n",
      " [6, 7, 3, 2, 5, 4, 0, 1],\n",
      " [7, 6, 5, 4, 3, 2, 1, 0]]\n"
     ]
    }
   ],
   "source": [
    ">>> from finite_algebras import generate_powerset_group\n",
    "\n",
    ">>> ps3 = generate_powerset_group(3)\n",
    "\n",
    ">>> ps3.about()"
   ]
  },
  {
   "cell_type": "markdown",
   "id": "2f646dea",
   "metadata": {},
   "source": [
    "### Autogenerated Monoid"
   ]
  },
  {
   "cell_type": "markdown",
   "id": "97f206c5",
   "metadata": {},
   "source": [
    "The function, ``generate_commutative_monoid``, is based on integer multiplication modulo the desired order."
   ]
  },
  {
   "cell_type": "code",
   "execution_count": 42,
   "id": "67295011",
   "metadata": {},
   "outputs": [
    {
     "name": "stdout",
     "output_type": "stream",
     "text": [
      "\n",
      "** Monoid **\n",
      "Name: M7\n",
      "Instance ID: 140727825353872\n",
      "Description: Autogenerated commutative Monoid of order 7\n",
      "Order: 7\n",
      "Identity: a1\n",
      "Associative? Yes\n",
      "Commutative? Yes\n",
      "Cyclic?: No\n",
      "Elements: ['a0', 'a1', 'a2', 'a3', 'a4', 'a5', 'a6']\n",
      "Has Inverses? No\n",
      "Cayley Table (showing indices):\n",
      "[[0, 0, 0, 0, 0, 0, 0],\n",
      " [0, 1, 2, 3, 4, 5, 6],\n",
      " [0, 2, 4, 6, 1, 3, 5],\n",
      " [0, 3, 6, 2, 5, 1, 4],\n",
      " [0, 4, 1, 5, 2, 6, 3],\n",
      " [0, 5, 3, 1, 6, 4, 2],\n",
      " [0, 6, 5, 4, 3, 2, 1]]\n"
     ]
    }
   ],
   "source": [
    ">>> from finite_algebras import generate_commutative_monoid\n",
    "\n",
    ">>> m7 = generate_commutative_monoid(7)\n",
    "\n",
    ">>> m7.about()"
   ]
  },
  {
   "cell_type": "markdown",
   "id": "ee7e57f6",
   "metadata": {},
   "source": [
    "## Direct Products"
   ]
  },
  {
   "cell_type": "markdown",
   "id": "1fd7d5b2",
   "metadata": {},
   "source": [
    "The **direct product** of two or more algebras can be generated using Python's multiplication operator, ``*``:"
   ]
  },
  {
   "cell_type": "markdown",
   "id": "181342ee",
   "metadata": {},
   "source": [
    "### Direct Product of Multiple Groups"
   ]
  },
  {
   "cell_type": "code",
   "execution_count": 43,
   "id": "84244b84",
   "metadata": {},
   "outputs": [
    {
     "name": "stdout",
     "output_type": "stream",
     "text": [
      "\n",
      "** Group **\n",
      "Name: Z2_x_Z2_x_Z2\n",
      "Instance ID: 140727289000848\n",
      "Description: Direct product of Z2_x_Z2 & Z2\n",
      "Order: 8\n",
      "Identity: e:e:e\n",
      "Associative? Yes\n",
      "Commutative? Yes\n",
      "Cyclic?: No\n",
      "Elements:\n",
      "   Index   Name   Inverse  Order\n",
      "      0   e:e:e   e:e:e       1\n",
      "      1   e:e:a   e:e:a       2\n",
      "      2   e:a:e   e:a:e       2\n",
      "      3   e:a:a   e:a:a       2\n",
      "      4   a:e:e   a:e:e       2\n",
      "      5   a:e:a   a:e:a       2\n",
      "      6   a:a:e   a:a:e       2\n",
      "      7   a:a:a   a:a:a       2\n",
      "Cayley Table (showing indices):\n",
      "[[0, 1, 2, 3, 4, 5, 6, 7],\n",
      " [1, 0, 3, 2, 5, 4, 7, 6],\n",
      " [2, 3, 0, 1, 6, 7, 4, 5],\n",
      " [3, 2, 1, 0, 7, 6, 5, 4],\n",
      " [4, 5, 6, 7, 0, 1, 2, 3],\n",
      " [5, 4, 7, 6, 1, 0, 3, 2],\n",
      " [6, 7, 4, 5, 2, 3, 0, 1],\n",
      " [7, 6, 5, 4, 3, 2, 1, 0]]\n"
     ]
    }
   ],
   "source": [
    ">>> z2_cubed = z2 * z2 * z2\n",
    "\n",
    ">>> z2_cubed.about()"
   ]
  },
  {
   "cell_type": "markdown",
   "id": "5043fa4c",
   "metadata": {},
   "source": [
    "### Direct Product of Monoids"
   ]
  },
  {
   "cell_type": "code",
   "execution_count": 44,
   "id": "c85b0c0d",
   "metadata": {},
   "outputs": [
    {
     "data": {
      "text/plain": [
       "Monoid(\n",
       "'M3',\n",
       "'Autogenerated commutative Monoid of order 3',\n",
       "['a0', 'a1', 'a2'],\n",
       "[[0, 0, 0], [0, 1, 2], [0, 2, 1]]\n",
       ")"
      ]
     },
     "execution_count": 44,
     "metadata": {},
     "output_type": "execute_result"
    }
   ],
   "source": [
    ">>> mon3 = generate_commutative_monoid(3)\n",
    "\n",
    ">>> mon3"
   ]
  },
  {
   "cell_type": "code",
   "execution_count": 45,
   "id": "b7e9b6a4",
   "metadata": {},
   "outputs": [
    {
     "name": "stdout",
     "output_type": "stream",
     "text": [
      "\n",
      "** Monoid **\n",
      "Name: M3_x_M3\n",
      "Instance ID: 140727825351184\n",
      "Description: Direct product of M3 & M3\n",
      "Order: 9\n",
      "Identity: a1:a1\n",
      "Associative? Yes\n",
      "Commutative? Yes\n",
      "Cyclic?: No\n",
      "Elements: ['a0:a0', 'a0:a1', 'a0:a2', 'a1:a0', 'a1:a1', 'a1:a2', 'a2:a0', 'a2:a1', 'a2:a2']\n",
      "Has Inverses? No\n",
      "Cayley Table (showing indices):\n",
      "[[0, 0, 0, 0, 0, 0, 0, 0, 0],\n",
      " [0, 1, 2, 0, 1, 2, 0, 1, 2],\n",
      " [0, 2, 1, 0, 2, 1, 0, 2, 1],\n",
      " [0, 0, 0, 3, 3, 3, 6, 6, 6],\n",
      " [0, 1, 2, 3, 4, 5, 6, 7, 8],\n",
      " [0, 2, 1, 3, 5, 4, 6, 8, 7],\n",
      " [0, 0, 0, 6, 6, 6, 3, 3, 3],\n",
      " [0, 1, 2, 6, 7, 8, 3, 4, 5],\n",
      " [0, 2, 1, 6, 8, 7, 3, 5, 4]]\n"
     ]
    }
   ],
   "source": [
    ">>> m3_sqr = mon3 * mon3\n",
    ">>> m3_sqr.about()"
   ]
  },
  {
   "cell_type": "markdown",
   "id": "9d6c47a9",
   "metadata": {},
   "source": [
    "## Isomorphisms"
   ]
  },
  {
   "cell_type": "markdown",
   "id": "398d1bc7",
   "metadata": {},
   "source": [
    "If two algebras are isomorphic, then the mapping between their elements is returned as a Python dictionary.\n",
    "\n",
    "Here is a well-known example, using two small groups created above, v4 and the direct product of z2 with itself, z2 * z2:"
   ]
  },
  {
   "cell_type": "markdown",
   "id": "79bb49bd",
   "metadata": {},
   "source": [
    "### Group Isomorphism"
   ]
  },
  {
   "cell_type": "code",
   "execution_count": 46,
   "id": "35c7c8bc",
   "metadata": {},
   "outputs": [
    {
     "data": {
      "text/plain": [
       "{'e': 'e:e', 'h': 'e:a', 'v': 'a:e', 'r': 'a:a'}"
      ]
     },
     "execution_count": 46,
     "metadata": {},
     "output_type": "execute_result"
    }
   ],
   "source": [
    ">>> z2_sqr = z2 * z2\n",
    "\n",
    ">>> v4.isomorphic(z2_sqr)"
   ]
  },
  {
   "cell_type": "markdown",
   "id": "92bb54fe",
   "metadata": {},
   "source": [
    "If two algebras are not isomorphic, then ``False`` is returned."
   ]
  },
  {
   "cell_type": "code",
   "execution_count": 47,
   "id": "63218519",
   "metadata": {},
   "outputs": [
    {
     "data": {
      "text/plain": [
       "False"
      ]
     },
     "execution_count": 47,
     "metadata": {},
     "output_type": "execute_result"
    }
   ],
   "source": [
    ">>> z4 = generate_cyclic_group(4)\n",
    "\n",
    ">>> z4.isomorphic(z2_sqr)"
   ]
  },
  {
   "cell_type": "markdown",
   "id": "f58251b9",
   "metadata": {},
   "source": [
    "### Magma Isomorphism"
   ]
  },
  {
   "cell_type": "markdown",
   "id": "cf5b0468",
   "metadata": {},
   "source": [
    "In this example, we'll use a made-up Magma, similar to Rock, Paper, Scissors.\n",
    "\n",
    "**Water, Fire, Stick:**\n",
    "\n",
    "* Water quenches Fire\n",
    "* Fire burns Stick\n",
    "* Stick floats on Water"
   ]
  },
  {
   "cell_type": "code",
   "execution_count": 48,
   "id": "d91b3e78",
   "metadata": {},
   "outputs": [
    {
     "data": {
      "text/plain": [
       "Magma(\n",
       "'WFS',\n",
       "'Water, Fire, Stick Magma',\n",
       "['water', 'fire', 'stick'],\n",
       "[[0, 0, 2], [0, 1, 1], [2, 1, 2]]\n",
       ")"
      ]
     },
     "execution_count": 48,
     "metadata": {},
     "output_type": "execute_result"
    }
   ],
   "source": [
    ">>> wfs = make_finite_algebra('WFS',\n",
    "                              'Water, Fire, Stick Magma',\n",
    "                              ['water', 'fire', 'stick'],\n",
    "                              [[0, 0, 2],\n",
    "                               [0, 1, 1],\n",
    "                               [2, 1, 2]])\n",
    ">>> wfs"
   ]
  },
  {
   "cell_type": "markdown",
   "id": "3b1b91f5",
   "metadata": {},
   "source": [
    "Here's the isomorphism between rps and wfs:"
   ]
  },
  {
   "cell_type": "code",
   "execution_count": 49,
   "id": "bb00dc18",
   "metadata": {},
   "outputs": [
    {
     "data": {
      "text/plain": [
       "{'r': 'water', 'p': 'stick', 's': 'fire'}"
      ]
     },
     "execution_count": 49,
     "metadata": {},
     "output_type": "execute_result"
    }
   ],
   "source": [
    ">>> rps.isomorphic(wfs)"
   ]
  },
  {
   "cell_type": "markdown",
   "id": "ae2aecd2",
   "metadata": {},
   "source": [
    "## Subalgebras (Subgroups)"
   ]
  },
  {
   "cell_type": "markdown",
   "id": "638e7da0",
   "metadata": {},
   "source": [
    "An algebra can contain subalgebras (e.g., a Group can have subgroups).  In fact, sometimes the subalgebra may not even be of the same type as the parent algebra.  For, example, we'll see below that a Semigroup can contain a Group as a subalgebra.\n",
    "\n",
    "The method, ``proper_subalgebras``, extracts all possible proper subalgebras that exist within an algebra, regardless of whether they are isomorphic to each other or not, or even of the same algebraic class as the parent algebra.\n",
    "\n",
    "A subalgebra is constructed from a subset of elements that are closed under the algebra's binary operation."
   ]
  },
  {
   "cell_type": "markdown",
   "id": "2718d508",
   "metadata": {},
   "source": [
    "### Example: Proper Subgroups"
   ]
  },
  {
   "cell_type": "code",
   "execution_count": 50,
   "id": "26e774dd",
   "metadata": {},
   "outputs": [
    {
     "name": "stdout",
     "output_type": "stream",
     "text": [
      "\n",
      "** Group **\n",
      "Name: Z8\n",
      "Instance ID: 140727556576656\n",
      "Description: Autogenerated cyclic Group of order 8\n",
      "Order: 8\n",
      "Identity: e\n",
      "Associative? Yes\n",
      "Commutative? Yes\n",
      "Cyclic?: Yes\n",
      "  Generators: ['a', 'a^3', 'a^5', 'a^7']\n",
      "Elements:\n",
      "   Index   Name   Inverse  Order\n",
      "      0       e       e       1\n",
      "      1       a     a^7       8\n",
      "      2     a^2     a^6       4\n",
      "      3     a^3     a^5       8\n",
      "      4     a^4     a^4       2\n",
      "      5     a^5     a^3       8\n",
      "      6     a^6     a^2       4\n",
      "      7     a^7       a       8\n",
      "Cayley Table (showing indices):\n",
      "[[0, 1, 2, 3, 4, 5, 6, 7],\n",
      " [1, 2, 3, 4, 5, 6, 7, 0],\n",
      " [2, 3, 4, 5, 6, 7, 0, 1],\n",
      " [3, 4, 5, 6, 7, 0, 1, 2],\n",
      " [4, 5, 6, 7, 0, 1, 2, 3],\n",
      " [5, 6, 7, 0, 1, 2, 3, 4],\n",
      " [6, 7, 0, 1, 2, 3, 4, 5],\n",
      " [7, 0, 1, 2, 3, 4, 5, 6]]\n"
     ]
    }
   ],
   "source": [
    ">>> z8 = generate_cyclic_group(8)\n",
    ">>> z8.about()"
   ]
  },
  {
   "cell_type": "code",
   "execution_count": 51,
   "id": "0ad5e0d6",
   "metadata": {},
   "outputs": [
    {
     "name": "stdout",
     "output_type": "stream",
     "text": [
      "\n",
      "** Group **\n",
      "Name: Z8_subalgebra_0\n",
      "Instance ID: 140727825438672\n",
      "Description: Subalgebra of: Autogenerated cyclic Group of order 8\n",
      "Order: 4\n",
      "Identity: e\n",
      "Associative? Yes\n",
      "Commutative? Yes\n",
      "Cyclic?: Yes\n",
      "  Generators: ['a^2', 'a^6']\n",
      "Elements:\n",
      "   Index   Name   Inverse  Order\n",
      "      0       e       e       1\n",
      "      1     a^2     a^6       4\n",
      "      2     a^4     a^4       2\n",
      "      3     a^6     a^2       4\n",
      "Cayley Table (showing indices):\n",
      "[[0, 1, 2, 3], [1, 2, 3, 0], [2, 3, 0, 1], [3, 0, 1, 2]]\n",
      "\n",
      "** Group **\n",
      "Name: Z8_subalgebra_1\n",
      "Instance ID: 140727825439760\n",
      "Description: Subalgebra of: Autogenerated cyclic Group of order 8\n",
      "Order: 2\n",
      "Identity: e\n",
      "Associative? Yes\n",
      "Commutative? Yes\n",
      "Cyclic?: Yes\n",
      "  Generators: ['a^4']\n",
      "Elements:\n",
      "   Index   Name   Inverse  Order\n",
      "      0       e       e       1\n",
      "      1     a^4     a^4       2\n",
      "Cayley Table (showing indices):\n",
      "[[0, 1], [1, 0]]\n"
     ]
    }
   ],
   "source": [
    ">>> z8_proper_subs = z8.proper_subalgebras()\n",
    "\n",
    ">>> for sub in z8_proper_subs:\n",
    ">>>     sub.about()"
   ]
  },
  {
   "cell_type": "markdown",
   "id": "01f827d1",
   "metadata": {},
   "source": [
    "### Normal Subgroups"
   ]
  },
  {
   "cell_type": "markdown",
   "id": "bc2a9f91",
   "metadata": {},
   "source": [
    "Both of the subgroups of Z8, derived above, are **normal**:"
   ]
  },
  {
   "cell_type": "code",
   "execution_count": 52,
   "id": "6c8bc3a8",
   "metadata": {},
   "outputs": [
    {
     "data": {
      "text/plain": [
       "[True, True]"
      ]
     },
     "execution_count": 52,
     "metadata": {},
     "output_type": "execute_result"
    }
   ],
   "source": [
    ">>> [z8.is_normal(g) for g in z8_proper_subs]"
   ]
  },
  {
   "cell_type": "markdown",
   "id": "688cbea7",
   "metadata": {},
   "source": [
    "### Proper Subalgebras up to Isomorphism"
   ]
  },
  {
   "cell_type": "markdown",
   "id": "018a3b4d",
   "metadata": {},
   "source": [
    "The function, ``partition_into_isomorphic_lists``, partitions a list of algebras (subgroups in this case) into a list of lists, where each sublist contains subalgebras that are all isomophic to each other.\n",
    "\n",
    "The function, ``about_isomorphic_partitions``, prints out a summary of information about the partitions output by ``partition_into_isomorphic_list``."
   ]
  },
  {
   "cell_type": "code",
   "execution_count": 53,
   "id": "ead27957",
   "metadata": {},
   "outputs": [],
   "source": [
    "from finite_algebras import partition_into_isomorphic_lists, about_isomorphic_partitions"
   ]
  },
  {
   "cell_type": "markdown",
   "id": "fc4cc800",
   "metadata": {},
   "source": [
    "The example, below, uses the autogenerated powerset group, **ps3**, that was created earlier."
   ]
  },
  {
   "cell_type": "code",
   "execution_count": 54,
   "id": "b7b3bb11",
   "metadata": {},
   "outputs": [
    {
     "name": "stdout",
     "output_type": "stream",
     "text": [
      "\n",
      "Subalgebras of <Group:PS3, ID:140727825366608>\n",
      "  There are 2 unique proper subalgebras, up to isomorphism, out of 14 total subalgebras.\n",
      "  as shown by the partitions below:\n",
      "\n",
      "7 Isomorphic Commutative Normal Groups of order 4 with identity '{}':\n",
      "      Group: PS3_subalgebra_0: ['{}', '{1}', '{2}', '{1, 2}']\n",
      "      Group: PS3_subalgebra_4: ['{}', '{1}', '{0, 2}', '{0, 1, 2}']\n",
      "      Group: PS3_subalgebra_6: ['{}', '{0}', '{2}', '{0, 2}']\n",
      "      Group: PS3_subalgebra_7: ['{}', '{0, 1}', '{0, 2}', '{1, 2}']\n",
      "      Group: PS3_subalgebra_8: ['{}', '{0}', '{1}', '{0, 1}']\n",
      "      Group: PS3_subalgebra_10: ['{}', '{2}', '{0, 1}', '{0, 1, 2}']\n",
      "      Group: PS3_subalgebra_11: ['{}', '{0}', '{1, 2}', '{0, 1, 2}']\n",
      "\n",
      "7 Isomorphic Commutative Normal Groups of order 2 with identity '{}':\n",
      "      Group: PS3_subalgebra_1: ['{}', '{1, 2}']\n",
      "      Group: PS3_subalgebra_2: ['{}', '{0, 1, 2}']\n",
      "      Group: PS3_subalgebra_3: ['{}', '{2}']\n",
      "      Group: PS3_subalgebra_5: ['{}', '{0, 1}']\n",
      "      Group: PS3_subalgebra_9: ['{}', '{0, 2}']\n",
      "      Group: PS3_subalgebra_12: ['{}', '{1}']\n",
      "      Group: PS3_subalgebra_13: ['{}', '{0}']\n",
      "\n"
     ]
    }
   ],
   "source": [
    ">>> ps3_proper_subs = ps3.proper_subalgebras()\n",
    "\n",
    ">>> partitions = partition_into_isomorphic_lists(ps3_proper_subs)\n",
    "\n",
    ">>> about_isomorphic_partitions(ps3, partitions)"
   ]
  },
  {
   "cell_type": "markdown",
   "id": "2efc3cc7",
   "metadata": {},
   "source": [
    "### Subalgebras of Semigroups, Etc."
   ]
  },
  {
   "cell_type": "markdown",
   "id": "e9474159",
   "metadata": {},
   "source": [
    "Recall the Semigroup example from above:"
   ]
  },
  {
   "cell_type": "code",
   "execution_count": 55,
   "id": "cdf40c2f",
   "metadata": {},
   "outputs": [
    {
     "name": "stdout",
     "output_type": "stream",
     "text": [
      "\n",
      "** Semigroup **\n",
      "Name: Example 1.4.1\n",
      "Instance ID: 140727289003728\n",
      "Description: See: Groupoids and Smarandache Groupoids by W. B. Vasantha Kandasamy\n",
      "Order: 6\n",
      "Identity: None\n",
      "Associative? Yes\n",
      "Commutative? No\n",
      "Cyclic?: No\n",
      "Elements: ['a', 'b', 'c', 'd', 'e', 'f']\n",
      "Has Inverses? No\n",
      "Cayley Table (showing indices):\n",
      "[[0, 3, 0, 3, 0, 3],\n",
      " [1, 4, 1, 4, 1, 4],\n",
      " [2, 5, 2, 5, 2, 5],\n",
      " [3, 0, 3, 0, 3, 0],\n",
      " [4, 1, 4, 1, 4, 1],\n",
      " [5, 2, 5, 2, 5, 2]]\n"
     ]
    }
   ],
   "source": [
    ">>> sg.about()"
   ]
  },
  {
   "cell_type": "markdown",
   "id": "394c7801",
   "metadata": {},
   "source": [
    "As we will see, below, the Semigroup, sg, contains 4 unique subalgebras, up to isomorphism:\n",
    "\n",
    "* 3 Semigroups and\n",
    "* 1 Group"
   ]
  },
  {
   "cell_type": "markdown",
   "id": "dc754840",
   "metadata": {},
   "source": [
    "However, instead of running the three commands:\n",
    "\n",
    "* sg_proper_subs = sg.proper_subalgebras()\n",
    "* partitions = partition_into_isomorphic_lists(sg_proper_subs)\n",
    "* about_isomorphic_partitions(sg, partitions)\n",
    "\n",
    "as we did above, we'll use a single function, ``about_subalgebras``, that wraps up those three commands into one, for convenience.  It also returns the partitions, but we'll ignore the returned value in this example:"
   ]
  },
  {
   "cell_type": "code",
   "execution_count": 56,
   "id": "ed1e8cdf",
   "metadata": {},
   "outputs": [],
   "source": [
    ">>> from finite_algebras import about_subalgebras"
   ]
  },
  {
   "cell_type": "code",
   "execution_count": 57,
   "id": "22551c54",
   "metadata": {},
   "outputs": [
    {
     "name": "stdout",
     "output_type": "stream",
     "text": [
      "\n",
      "Subalgebras of <Semigroup:Example 1.4.1, ID:140727289003728>\n",
      "  There are 4 unique proper subalgebras, up to isomorphism, out of 10 total subalgebras.\n",
      "  as shown by the partitions below:\n",
      "\n",
      "3 Isomorphic Semigroups of order 4:\n",
      "      Semigroup: Example 1.4.1_subalgebra_0: ['a', 'b', 'd', 'e']\n",
      "      Semigroup: Example 1.4.1_subalgebra_1: ['b', 'c', 'e', 'f']\n",
      "      Semigroup: Example 1.4.1_subalgebra_6: ['a', 'c', 'd', 'f']\n",
      "\n",
      "3 Isomorphic Commutative Groups of order 2:\n",
      "      Group: Example 1.4.1_subalgebra_2: ['a', 'd'] with identity 'a'\n",
      "      Group: Example 1.4.1_subalgebra_3: ['c', 'f'] with identity 'c'\n",
      "      Group: Example 1.4.1_subalgebra_9: ['b', 'e'] with identity 'e'\n",
      "\n",
      "3 Isomorphic Semigroups of order 2:\n",
      "      Semigroup: Example 1.4.1_subalgebra_4: ['c', 'e']\n",
      "      Semigroup: Example 1.4.1_subalgebra_5: ['a', 'c']\n",
      "      Semigroup: Example 1.4.1_subalgebra_8: ['a', 'e']\n",
      "\n",
      "1 Semigroup of order 3:\n",
      "      Semigroup: Example 1.4.1_subalgebra_7: ['a', 'c', 'e']\n",
      "\n"
     ]
    }
   ],
   "source": [
    ">>> _ = about_subalgebras(sg)"
   ]
  },
  {
   "cell_type": "markdown",
   "id": "2fed9993",
   "metadata": {},
   "source": [
    "## Built-In Examples"
   ]
  },
  {
   "cell_type": "markdown",
   "id": "93329aec",
   "metadata": {},
   "source": [
    "``Examples`` is a convenience class for accessing some of the example algebras in the algebras directory.  To add or subtract algebras to its default list, see the file, 'examples.json', in the algebras directory."
   ]
  },
  {
   "cell_type": "code",
   "execution_count": 58,
   "id": "8b72695b",
   "metadata": {},
   "outputs": [
    {
     "name": "stdout",
     "output_type": "stream",
     "text": [
      "======================================================================\n",
      "                           Example Algebras\n",
      "----------------------------------------------------------------------\n",
      "  15 example algebras are available.\n",
      "  Use \"Examples[INDEX]\" to retrieve a specific example,\n",
      "  where INDEX is the first number on each line below:\n",
      "----------------------------------------------------------------------\n",
      "0: A4 -- Alternating group on 4 letters (AKA Tetrahedral group)\n",
      "1: D3 -- https://en.wikipedia.org/wiki/Dihedral_group_of_order_6\n",
      "2: D4 -- Dihedral group on four vertices\n",
      "3: Pinter29 -- Non-abelian group, p.29, 'A Book of Abstract Algebra' by Charles C. Pinter\n",
      "4: RPS -- Rock, Paper, Scissors Magma\n",
      "5: S3 -- Symmetric group on 3 letters\n",
      "6: S3X -- Another version of the symmetric group on 3 letters\n",
      "7: V4 -- Klein-4 group\n",
      "8: Z4 -- Cyclic group of order 4\n",
      "9: F4 -- Field with 4 elements (from Wikipedia)\n",
      "10: mag_id -- Magma with Identity\n",
      "11: Example 1.4.1 -- See: Groupoids and Smarandache Groupoids by W. B. Vasantha Kandasamy\n",
      "12: Ex6 -- Example 6: http://www-groups.mcs.st-andrews.ac.uk/~john/MT4517/Lectures/L3.html\n",
      "13: Q8 -- Quaternion Group\n",
      "14: SD16 -- Semidihedral group of order 16\n",
      "======================================================================\n"
     ]
    }
   ],
   "source": [
    ">>> from finite_algebras import Examples\n",
    "\n",
    ">>> ex = Examples(alg_dir)  # Requires path to directory containing algebras' JSON files"
   ]
  },
  {
   "cell_type": "markdown",
   "id": "f50fc48f",
   "metadata": {},
   "source": [
    "**Example**:"
   ]
  },
  {
   "cell_type": "code",
   "execution_count": 59,
   "id": "182abd99",
   "metadata": {
    "scrolled": false
   },
   "outputs": [
    {
     "name": "stdout",
     "output_type": "stream",
     "text": [
      "\n",
      "** Group **\n",
      "Name: Pinter29\n",
      "Instance ID: 140727825370000\n",
      "Description: Non-abelian group, p.29, 'A Book of Abstract Algebra' by Charles C. Pinter\n",
      "Order: 6\n",
      "Identity: I\n",
      "Associative? Yes\n",
      "Commutative? No\n",
      "Cyclic?: No\n",
      "Elements:\n",
      "   Index   Name   Inverse  Order\n",
      "      0       I       I       1\n",
      "      1       A       A       2\n",
      "      2       B       D       3\n",
      "      3       C       C       2\n",
      "      4       D       B       3\n",
      "      5       K       K       2\n",
      "Cayley Table (showing names):\n",
      "[['I', 'A', 'B', 'C', 'D', 'K'],\n",
      " ['A', 'I', 'C', 'B', 'K', 'D'],\n",
      " ['B', 'K', 'D', 'A', 'I', 'C'],\n",
      " ['C', 'D', 'K', 'I', 'A', 'B'],\n",
      " ['D', 'C', 'I', 'K', 'B', 'A'],\n",
      " ['K', 'B', 'A', 'D', 'C', 'I']]\n"
     ]
    }
   ],
   "source": [
    ">>> alg = ex[3]  # i.e., the 4th algebra in the list, above.\n",
    ">>> alg.about(use_table_names=True)"
   ]
  },
  {
   "cell_type": "markdown",
   "id": "2a940cb8",
   "metadata": {},
   "source": [
    "## Resources"
   ]
  },
  {
   "cell_type": "markdown",
   "id": "cb27a81b",
   "metadata": {},
   "source": [
    "* <b>Book</b>: [\"Visual Group Theory\" by Nathan Carter](https://bookstore.ams.org/clrm-32)\n",
    "* [Group Explorer](https://nathancarter.github.io/group-explorer/index.html) -- Visualization software for the abstract algebra classroom\n",
    "* [Groupprops, The Group Properties Wiki (beta)](https://groupprops.subwiki.org/wiki/Main_Page)\n",
    "* [GroupNames](https://people.maths.bris.ac.uk/~matyd/GroupNames/index.html) -- \"A database, under construction, of names, extensions, properties and character tables of finite groups of small order.\"\n",
    "* [GAP](https://www.gap-system.org/#:~:text=What%20is%20GAP%3F,data%20libraries%20of%20algebraic%20objects.) -- \"Groups, Algorithms, Programming - a System for Computational Discrete Algebra\"\n",
    "* [Groups of small order](http://www.math.ucsd.edu/~atparris/small_groups.html): Compiled by John Pedersen, Dept of Mathematics, University of South Florida\n",
    "* [List of small groups](https://en.wikipedia.org/wiki/List_of_small_groups): Finite groups of small order up to group isomorphism\n",
    "* [Classification of Groups of Order n ≤ 8 (PDF)](http://www2.lawrence.edu/fast/corrys/Math300/8Groups.pdf)\n",
    "* [Subgroups of Order 4 (PDF)](http://newton.uor.edu/facultyfolder/beery/abstract_algebra/08_SbgrpsOrder4.pdf)\n",
    "* Klein four-group, V4\n",
    "  * [Wikipedia](https://en.wikipedia.org/wiki/Klein_four-group)\n",
    "  * [Group Explorer](https://github.com/nathancarter/group-explorer/blob/master/groups/V_4.group)\n",
    "* Cyclic group\n",
    "  * [Wikipedia](https://en.wikipedia.org/wiki/Cyclic_group)\n",
    "  * [Z4, cyclic group of order 4](https://github.com/nathancarter/group-explorer/blob/master/groups/Z_4.group)\n",
    "* Symmetric group\n",
    "  * [Symmetric group on 3 letters](https://github.com/nathancarter/group-explorer/blob/master/groups/S_3.group). Another name for this group is <i>\"Dihedral group on 3 vertices\"</i>\n",
    "* [Groupoids and Smarandache Groupoids](https://arxiv.org/ftp/math/papers/0304/0304490.pdf) by W. B. Vasantha Kandasamy\n",
    "* [\"Rings and Fields\"](http://www-groups.mcs.st-andrews.ac.uk/~john/MT4517/index.html), John O'Connor & Edmund Robertson, School of Math. & Stat., Univ. of St Andrews, Scotland\n",
    "* [SACK](https://github.com/johnkerl/sack) A simple abstract-algebra calculator. Includes some elementary group routines."
   ]
  }
 ],
 "metadata": {
  "kernelspec": {
   "display_name": "Python 3 (ipykernel)",
   "language": "python",
   "name": "python3"
  },
  "language_info": {
   "codemirror_mode": {
    "name": "ipython",
    "version": 3
   },
   "file_extension": ".py",
   "mimetype": "text/x-python",
   "name": "python",
   "nbconvert_exporter": "python",
   "pygments_lexer": "ipython3",
   "version": "3.7.7"
  }
 },
 "nbformat": 4,
 "nbformat_minor": 5
}
