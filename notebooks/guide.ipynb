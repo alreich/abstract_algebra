{
 "cells": [
  {
   "cell_type": "markdown",
   "id": "51b7c98f",
   "metadata": {},
   "source": [
    "# User Guide"
   ]
  },
  {
   "cell_type": "markdown",
   "id": "5e409c1b",
   "metadata": {},
   "source": [
    "## Class Hierarchy"
   ]
  },
  {
   "cell_type": "markdown",
   "id": "6a7bafb3",
   "metadata": {},
   "source": [
    "$\\langle FiniteAlgebra \\rangle \\rightarrow$ Magma $\\rightarrow$ Semigroup $\\rightarrow$ Monoid $\\rightarrow$ Group $\\rightarrow$ Ring $\\rightarrow$ Field"
   ]
  },
  {
   "cell_type": "markdown",
   "id": "12d8d007",
   "metadata": {},
   "source": [
    "* **Magma** -- a set with a binary operation:  $\\langle S, \\circ \\rangle$, where $S$ is a finite set and $\\circ: S \\times S \\to S$\n",
    "\n",
    "* **Semigroup** -- an associative Magma:  for any $a,b,c \\in S \\Rightarrow a \\circ (b \\circ c) = (a \\circ b) \\circ c$\n",
    "\n",
    "* **Monoid** -- a Semigroup with identity element:  $\\exists e \\in S$, such that, for all $a \\in S, a \\circ e = e \\circ a = a$\n",
    "\n",
    "* **Group** -- a Monoid with inverse elements:  $\\forall a \\in S, \\exists a^{-1} \\in S$, such that, $a \\circ a^{-1} = a^{-1} \n",
    "\\circ a = e$\n",
    "\n",
    "* **Ring** -- $\\langle S, +, \\times \\rangle$, where $\\langle S, + \\rangle$ is a commutative Group, $\\langle S, \\times \\rangle$ is a Semigroup, and $\\times$ distributes over $+$\n",
    "\n",
    "* **Field** -- a Ring $\\langle S, +, \\times \\rangle$, where $\\langle S\\setminus{\\{0\\}}, \\times \\rangle$ is a commutative Group."
   ]
  },
  {
   "cell_type": "markdown",
   "id": "f93e4913",
   "metadata": {},
   "source": [
    "## Finite Algebra: Internal Representation\n",
    "\n",
    "Internally, a ``FiniteAlgebra`` consists of the following quantities:\n",
    "\n",
    "* **name**: (``str``) A short name for the algebra;\n",
    "* **description**: (``str``) Any additional, useful information about the algebra;\n",
    "* **elements**: (``list`` of ``str``) Names of the algebras’s elements.\n",
    "* **table**: (``list`` of ``list`` of ``int``) The algebra’s multiplication\n",
    "  table, where each list in the list represents a row of the table, and\n",
    "  each integer represents the position of an element in ‘element_names’.\n",
    "  Optionally, element names (``str``) may be used in the table, rather \n",
    "  than integers.\n",
    "* **table2**: (OPTIONAL) Similar to *table*, above. Required when defining a Ring or Field.\n",
    "\n",
    "**NOTE**: The type of table required here is known as a [Cayley Table](https://en.wikipedia.org/wiki/Cayley_table).  All of the properties of a finite algebra can be derived from its Cayley Table.  For this reason, this module includes a ``CayleyTable`` class for storing the table and methods associated with it."
   ]
  },
  {
   "cell_type": "markdown",
   "id": "b8799ca0",
   "metadata": {},
   "source": [
    "## Algebra Constuction Examples"
   ]
  },
  {
   "cell_type": "markdown",
   "id": "256c04e1",
   "metadata": {},
   "source": [
    "In a nutshell, use the function, ``make_finite_algebra`` for all algebra construction.\n",
    "\n",
    "Although individual algebras (Magma, Semigroup, etc.) have their own individual constructors, requiring the quantities described above, the **recommended** way to construct an algebra is to use the function, ``make_finite_algebra``, using one of the following three approaches to inputs:\n",
    "\n",
    "1. Enter **individual values** corresponding to the quantities in its Internal Representation, described above.\n",
    "1. Enter a **Python dictionary** (``dict``), with keys and values corresponding to the individual values, described above.\n",
    "1. Enter the **path to a JSON file** (``str``) that corresponds to the dictionary, described above.\n",
    "   \n",
    "``make_finite_algebra`` uses the table(s) to determine what type of algebra it supports and returns the appropriate algebra."
   ]
  },
  {
   "cell_type": "markdown",
   "id": "867ef71e",
   "metadata": {},
   "source": [
    "In the following examples, the only algebra constructor used is ``make_finite_algebra``."
   ]
  },
  {
   "cell_type": "markdown",
   "id": "f3c87acd",
   "metadata": {},
   "source": [
    "### Group"
   ]
  },
  {
   "cell_type": "code",
   "execution_count": 1,
   "id": "6bf3a486",
   "metadata": {},
   "outputs": [
    {
     "data": {
      "text/plain": [
       "Group(\n",
       "'Z3',\n",
       "'Cyclic group of order 3',\n",
       "['e', 'a', 'a^2'],\n",
       "[[0, 1, 2], [1, 2, 0], [2, 0, 1]]\n",
       ")"
      ]
     },
     "execution_count": 1,
     "metadata": {},
     "output_type": "execute_result"
    }
   ],
   "source": [
    ">>> from finite_algebras import make_finite_algebra\n",
    "\n",
    ">>> z3 = make_finite_algebra('Z3',\n",
    "                             'Cyclic group of order 3',\n",
    "                             ['e', 'a', 'a^2'],\n",
    "                             [[ 'e' ,  'a' , 'a^2'],\n",
    "                              [ 'a' , 'a^2',  'e' ],\n",
    "                              ['a^2',  'e' ,  'a' ]]\n",
    "                            )\n",
    ">>> z3"
   ]
  },
  {
   "cell_type": "markdown",
   "id": "b1c981e3",
   "metadata": {},
   "source": [
    "Printing an algebra converts it to a string containing its class name, algebra name, and the unique ID of the algebra instance:"
   ]
  },
  {
   "cell_type": "code",
   "execution_count": 2,
   "id": "3c9a3f05",
   "metadata": {},
   "outputs": [
    {
     "name": "stdout",
     "output_type": "stream",
     "text": [
      "<Group:Z3, ID:140666224660752>\n"
     ]
    }
   ],
   "source": [
    ">>> print(z3)"
   ]
  },
  {
   "cell_type": "markdown",
   "id": "cfd457eb",
   "metadata": {},
   "source": [
    "### Group Properties"
   ]
  },
  {
   "cell_type": "code",
   "execution_count": 3,
   "id": "096cbca1",
   "metadata": {},
   "outputs": [
    {
     "data": {
      "text/plain": [
       "True"
      ]
     },
     "execution_count": 3,
     "metadata": {},
     "output_type": "execute_result"
    }
   ],
   "source": [
    ">>> z3.is_associative()  # Only Magmas are non-associative"
   ]
  },
  {
   "cell_type": "code",
   "execution_count": 4,
   "id": "84392fe8",
   "metadata": {},
   "outputs": [
    {
     "data": {
      "text/plain": [
       "True"
      ]
     },
     "execution_count": 4,
     "metadata": {},
     "output_type": "execute_result"
    }
   ],
   "source": [
    ">>> z3.is_commutative()"
   ]
  },
  {
   "cell_type": "code",
   "execution_count": 5,
   "id": "1814d87a",
   "metadata": {},
   "outputs": [
    {
     "data": {
      "text/plain": [
       "True"
      ]
     },
     "execution_count": 5,
     "metadata": {},
     "output_type": "execute_result"
    }
   ],
   "source": [
    ">>> z3.is_abelian()"
   ]
  },
  {
   "cell_type": "markdown",
   "id": "8e6cc28f",
   "metadata": {},
   "source": [
    "The ``identity`` method (property) returns the algebra's identity element, if it exists.\n",
    "\n",
    "If the identity doesn't exist, then ``None`` is returned."
   ]
  },
  {
   "cell_type": "code",
   "execution_count": 6,
   "id": "9c5051da",
   "metadata": {},
   "outputs": [
    {
     "data": {
      "text/plain": [
       "'e'"
      ]
     },
     "execution_count": 6,
     "metadata": {},
     "output_type": "execute_result"
    }
   ],
   "source": [
    ">>> z3.identity"
   ]
  },
  {
   "cell_type": "markdown",
   "id": "f02a8681",
   "metadata": {},
   "source": [
    "Internal to algebras, tables are stored as instances of the ``CayleyTable`` class:"
   ]
  },
  {
   "cell_type": "code",
   "execution_count": 7,
   "id": "49d821f5",
   "metadata": {},
   "outputs": [
    {
     "data": {
      "text/plain": [
       "CayleyTable([[0, 1, 2], [1, 2, 0], [2, 0, 1]])"
      ]
     },
     "execution_count": 7,
     "metadata": {},
     "output_type": "execute_result"
    }
   ],
   "source": [
    ">>> z3.table"
   ]
  },
  {
   "cell_type": "code",
   "execution_count": 8,
   "id": "b7448e8c",
   "metadata": {},
   "outputs": [
    {
     "data": {
      "text/plain": [
       "'a^2'"
      ]
     },
     "execution_count": 8,
     "metadata": {},
     "output_type": "execute_result"
    }
   ],
   "source": [
    ">>> z3.inv('a')  # Get an element's inverse, if it exists"
   ]
  },
  {
   "cell_type": "markdown",
   "id": "b17367bb",
   "metadata": {},
   "source": [
    "### Binary Operation"
   ]
  },
  {
   "cell_type": "code",
   "execution_count": 9,
   "id": "a19b501d",
   "metadata": {},
   "outputs": [
    {
     "data": {
      "text/plain": [
       "'e'"
      ]
     },
     "execution_count": 9,
     "metadata": {},
     "output_type": "execute_result"
    }
   ],
   "source": [
    ">>> z3.op()  # zero arguments returns the identity, if it exists"
   ]
  },
  {
   "cell_type": "markdown",
   "id": "2e6022a2",
   "metadata": {},
   "source": [
    "If only one argument is given to the binary operation, then that argument is simply returned; unless it is not a valid element of the algebra, in which case an exception is raised."
   ]
  },
  {
   "cell_type": "code",
   "execution_count": 10,
   "id": "a1199bd6",
   "metadata": {},
   "outputs": [
    {
     "data": {
      "text/plain": [
       "'a'"
      ]
     },
     "execution_count": 10,
     "metadata": {},
     "output_type": "execute_result"
    }
   ],
   "source": [
    ">>> z3.op('a')"
   ]
  },
  {
   "cell_type": "code",
   "execution_count": 11,
   "id": "0e6a4f3b",
   "metadata": {},
   "outputs": [
    {
     "data": {
      "text/plain": [
       "'a^2'"
      ]
     },
     "execution_count": 11,
     "metadata": {},
     "output_type": "execute_result"
    }
   ],
   "source": [
    ">>> z3.op('a', 'a')"
   ]
  },
  {
   "cell_type": "code",
   "execution_count": 12,
   "id": "17b1edf2",
   "metadata": {},
   "outputs": [
    {
     "data": {
      "text/plain": [
       "'e'"
      ]
     },
     "execution_count": 12,
     "metadata": {},
     "output_type": "execute_result"
    }
   ],
   "source": [
    ">>> z3.op('a', 'a', 'a')"
   ]
  },
  {
   "cell_type": "markdown",
   "id": "5ca6e7e3",
   "metadata": {},
   "source": [
    "### The ``about`` Method"
   ]
  },
  {
   "cell_type": "markdown",
   "id": "5a8ba88f",
   "metadata": {},
   "source": [
    "``about`` prints information about an algebra."
   ]
  },
  {
   "cell_type": "code",
   "execution_count": 13,
   "id": "ab26ef7c",
   "metadata": {},
   "outputs": [
    {
     "name": "stdout",
     "output_type": "stream",
     "text": [
      "\n",
      "Group: Z3\n",
      "Instance ID: 140666224660752\n",
      "Description: Cyclic group of order 3\n",
      "Identity: e\n",
      "Associative? Yes\n",
      "Commutative? Yes\n",
      "Elements:\n",
      "   Index   Name   Inverse  Order\n",
      "      0       e       e       1\n",
      "      1       a     a^2       3\n",
      "      2     a^2       a       3\n",
      "Cayley Table (showing indices):\n",
      "[[0, 1, 2], [1, 2, 0], [2, 0, 1]]\n"
     ]
    }
   ],
   "source": [
    ">>> z3.about()"
   ]
  },
  {
   "cell_type": "markdown",
   "id": "a88e8d0d",
   "metadata": {},
   "source": [
    "### Magma"
   ]
  },
  {
   "cell_type": "markdown",
   "id": "3fc49e9c",
   "metadata": {},
   "source": [
    "**Rock-Paper-Scissors**\n",
    "\n",
    "See https://en.wikipedia.org/wiki/Commutative_magma\n",
    "\n",
    "* $\\langle S, \\circ \\rangle$, where $S = \\{r,p,s\\}$\n",
    "* For all $x, y \\in S$, if $x$ *beats* $y$, then $x \\circ y = y \\circ x = x$\n",
    "* Also, for all $x \\in S$, $xx = x$\n",
    "\n",
    "From the rule in the second bullet, above, this algebra is obviously commutative."
   ]
  },
  {
   "cell_type": "code",
   "execution_count": 14,
   "id": "d3d0635b",
   "metadata": {},
   "outputs": [
    {
     "name": "stdout",
     "output_type": "stream",
     "text": [
      "\n",
      "Magma: RPS\n",
      "Instance ID: 140667299364560\n",
      "Description: Rock, Paper, Scissors Magma\n",
      "Elements: ['r', 'p', 's']\n",
      "Identity: None\n",
      "Associative? No\n",
      "Commutative? Yes\n",
      "Has Inverses? No\n",
      "Cayley Table (showing indices):\n",
      "[[0, 1, 0], [1, 1, 2], [0, 2, 2]]\n"
     ]
    }
   ],
   "source": [
    ">>> rps = make_finite_algebra('RPS',\n",
    "                              'Rock, Paper, Scissors Magma',\n",
    "                              ['r', 'p', 's'],\n",
    "                              [['r', 'p', 'r'],\n",
    "                               ['p', 'p', 's'],\n",
    "                               ['r', 's', 's']])\n",
    "\n",
    ">>> rps.about()"
   ]
  },
  {
   "cell_type": "markdown",
   "id": "55135686",
   "metadata": {},
   "source": [
    "By default, the ``about`` method prints the table using element positions, but it can also printout a table using element names:"
   ]
  },
  {
   "cell_type": "code",
   "execution_count": 15,
   "id": "dc2d6ad8",
   "metadata": {},
   "outputs": [
    {
     "name": "stdout",
     "output_type": "stream",
     "text": [
      "\n",
      "Magma: RPS\n",
      "Instance ID: 140667299364560\n",
      "Description: Rock, Paper, Scissors Magma\n",
      "Elements: ['r', 'p', 's']\n",
      "Identity: None\n",
      "Associative? No\n",
      "Commutative? Yes\n",
      "Has Inverses? No\n",
      "Cayley Table (showing names):\n",
      "[['r', 'p', 'r'], ['p', 'p', 's'], ['r', 's', 's']]\n"
     ]
    }
   ],
   "source": [
    ">>> rps.about(use_table_names=True)"
   ]
  },
  {
   "cell_type": "markdown",
   "id": "f537eeb1",
   "metadata": {},
   "source": [
    "Paper beats Rock:"
   ]
  },
  {
   "cell_type": "code",
   "execution_count": 16,
   "id": "4488240a",
   "metadata": {},
   "outputs": [
    {
     "data": {
      "text/plain": [
       "'p'"
      ]
     },
     "execution_count": 16,
     "metadata": {},
     "output_type": "execute_result"
    }
   ],
   "source": [
    ">>> rps.op('r', 'p')"
   ]
  },
  {
   "cell_type": "code",
   "execution_count": 17,
   "id": "a13081ab",
   "metadata": {},
   "outputs": [
    {
     "name": "stdout",
     "output_type": "stream",
     "text": [
      "RPS does not have an identity element\n"
     ]
    }
   ],
   "source": [
    ">>> if rps.identity is None:\n",
    "    print(\"RPS does not have an identity element\")"
   ]
  },
  {
   "cell_type": "markdown",
   "id": "4356f673",
   "metadata": {},
   "source": [
    "### Magma with Identity Element"
   ]
  },
  {
   "cell_type": "code",
   "execution_count": 18,
   "id": "343f0aa0",
   "metadata": {},
   "outputs": [
    {
     "name": "stdout",
     "output_type": "stream",
     "text": [
      "\n",
      "Magma: Whatever\n",
      "Instance ID: 140667299362960\n",
      "Description: Magma with Identity\n",
      "Elements: ['e', 'a', 'b']\n",
      "Identity: e\n",
      "Associative? No\n",
      "Commutative? No\n",
      "Has Inverses? No\n",
      "Cayley Table (showing indices):\n",
      "[[0, 1, 2], [1, 0, 1], [2, 2, 1]]\n"
     ]
    }
   ],
   "source": [
    ">>> mag = make_finite_algebra('Whatever',\n",
    "                              'Magma with Identity',\n",
    "                              ['e', 'a', 'b'],\n",
    "                              [['e', 'a', 'b'],\n",
    "                               ['a', 'e', 'a'],\n",
    "                               ['b', 'b', 'a']])\n",
    "\n",
    ">>> mag.about()"
   ]
  },
  {
   "cell_type": "markdown",
   "id": "f90fd25f",
   "metadata": {},
   "source": [
    "### Semigroup"
   ]
  },
  {
   "cell_type": "markdown",
   "id": "5ee7c532",
   "metadata": {},
   "source": [
    "Reference: [Groupoids and Smarandache Groupoids](https://arxiv.org/ftp/math/papers/0304/0304490.pdf) by W. B. Vasantha Kandasamy"
   ]
  },
  {
   "cell_type": "code",
   "execution_count": 19,
   "id": "4f0d2bd0",
   "metadata": {},
   "outputs": [
    {
     "name": "stdout",
     "output_type": "stream",
     "text": [
      "\n",
      "Semigroup: Example 1.4.1\n",
      "Instance ID: 140667299309776\n",
      "Description: See: Groupoids and Smarandache Groupoids by W. B. Vasantha Kandasamy\n",
      "Elements: ['a', 'b', 'c', 'd', 'e', 'f']\n",
      "Identity: None\n",
      "Associative? Yes\n",
      "Commutative? No\n",
      "Has Inverses? No\n",
      "Cayley Table (showing indices):\n",
      "[[0, 3, 0, 3, 0, 3],\n",
      " [1, 4, 1, 4, 1, 4],\n",
      " [2, 5, 2, 5, 2, 5],\n",
      " [3, 0, 3, 0, 3, 0],\n",
      " [4, 1, 4, 1, 4, 1],\n",
      " [5, 2, 5, 2, 5, 2]]\n"
     ]
    }
   ],
   "source": [
    ">>> sg = make_finite_algebra('Example 1.4.1',\n",
    "                         'See: Groupoids and Smarandache Groupoids by W. B. Vasantha Kandasamy',\n",
    "                         ['a', 'b', 'c', 'd', 'e', 'f'],\n",
    "                         [[0, 3, 0, 3, 0, 3],\n",
    "                          [1, 4, 1, 4, 1, 4],\n",
    "                          [2, 5, 2, 5, 2, 5],\n",
    "                          [3, 0, 3, 0, 3, 0],\n",
    "                          [4, 1, 4, 1, 4, 1],\n",
    "                          [5, 2, 5, 2, 5, 2]]\n",
    "                        )\n",
    ">>> sg.about()"
   ]
  },
  {
   "cell_type": "markdown",
   "id": "d57a0c89",
   "metadata": {},
   "source": [
    "Since the element in the 0,1 position of the table is 3, it follows that, $a \\circ b = d$:"
   ]
  },
  {
   "cell_type": "code",
   "execution_count": 20,
   "id": "c7f23f71",
   "metadata": {},
   "outputs": [
    {
     "data": {
      "text/plain": [
       "'d'"
      ]
     },
     "execution_count": 20,
     "metadata": {},
     "output_type": "execute_result"
    }
   ],
   "source": [
    ">>> sg.op('a', 'b')"
   ]
  },
  {
   "cell_type": "code",
   "execution_count": 21,
   "id": "9d1dc1ed",
   "metadata": {},
   "outputs": [
    {
     "name": "stdout",
     "output_type": "stream",
     "text": [
      "There is no identity element\n"
     ]
    }
   ],
   "source": [
    ">>> if sg.identity is None:\n",
    "    print(\"There is no identity element\")"
   ]
  },
  {
   "cell_type": "markdown",
   "id": "30d62399",
   "metadata": {},
   "source": [
    "### Monoid"
   ]
  },
  {
   "cell_type": "code",
   "execution_count": 22,
   "id": "65926171",
   "metadata": {},
   "outputs": [
    {
     "name": "stdout",
     "output_type": "stream",
     "text": [
      "\n",
      "Monoid: M4\n",
      "Instance ID: 140667299329296\n",
      "Description: Example of a commutative monoid\n",
      "Elements: ['a', 'b', 'c', 'd']\n",
      "Identity: b\n",
      "Associative? Yes\n",
      "Commutative? Yes\n",
      "Has Inverses? No\n",
      "Cayley Table (showing names):\n",
      "[['a', 'a', 'a', 'a'],\n",
      " ['a', 'b', 'c', 'd'],\n",
      " ['a', 'c', 'a', 'c'],\n",
      " ['a', 'd', 'c', 'b']]\n"
     ]
    }
   ],
   "source": [
    ">>> m4 = make_finite_algebra('M4',\n",
    "                             'Example of a commutative monoid',\n",
    "                             ['a', 'b', 'c', 'd'],\n",
    "                             [[0, 0, 0, 0],\n",
    "                              [0, 1, 2, 3],\n",
    "                              [0, 2, 0, 2],\n",
    "                              [0, 3, 2, 1]])\n",
    "\n",
    ">>> m4.about(use_table_names=True)"
   ]
  },
  {
   "cell_type": "code",
   "execution_count": 23,
   "id": "c8aa1d9a",
   "metadata": {},
   "outputs": [
    {
     "data": {
      "text/plain": [
       "'b'"
      ]
     },
     "execution_count": 23,
     "metadata": {},
     "output_type": "execute_result"
    }
   ],
   "source": [
    ">>> m4.identity  # Returns the identity element"
   ]
  },
  {
   "cell_type": "code",
   "execution_count": 24,
   "id": "87917322",
   "metadata": {},
   "outputs": [
    {
     "data": {
      "text/plain": [
       "'c'"
      ]
     },
     "execution_count": 24,
     "metadata": {},
     "output_type": "execute_result"
    }
   ],
   "source": [
    ">>> m4.op('c', 'b')  # since 'b' is the identity element"
   ]
  },
  {
   "cell_type": "markdown",
   "id": "9e422405",
   "metadata": {},
   "source": [
    "## Rings"
   ]
  },
  {
   "cell_type": "markdown",
   "id": "8738d6f9",
   "metadata": {},
   "source": [
    "### Ring Based on Powerset of a Set"
   ]
  },
  {
   "cell_type": "markdown",
   "id": "0bb44213",
   "metadata": {},
   "source": [
    "In this ring, *\"addition\"* is symmetric difference and *\"multiplication\"* is intersection."
   ]
  },
  {
   "cell_type": "code",
   "execution_count": 25,
   "id": "c9084d7e",
   "metadata": {},
   "outputs": [
    {
     "data": {
      "text/plain": [
       "Ring(\n",
       "'Powerset Ring 2',\n",
       "'Ring on powerset of {0, 1}',\n",
       "['{}', '{0}', '{1}', '{0, 1}'],\n",
       "[[0, 1, 2, 3], [1, 0, 3, 2], [2, 3, 0, 1], [3, 2, 1, 0]],\n",
       "[[0, 0, 0, 0], [0, 1, 0, 1], [0, 0, 2, 2], [0, 1, 2, 3]]\n",
       ")"
      ]
     },
     "execution_count": 25,
     "metadata": {},
     "output_type": "execute_result"
    }
   ],
   "source": [
    ">>> rng = make_finite_algebra('Powerset Ring 2',\n",
    "                              'Ring on powerset of {0, 1}',\n",
    "                              ['{}', '{0}', '{1}', '{0, 1}'],\n",
    "                              [[0, 1, 2, 3],\n",
    "                               [1, 0, 3, 2],\n",
    "                               [2, 3, 0, 1],\n",
    "                               [3, 2, 1, 0]],\n",
    "                              [[0, 0, 0, 0],\n",
    "                               [0, 1, 0, 1],\n",
    "                               [0, 0, 2, 2],\n",
    "                               [0, 1, 2, 3]]\n",
    "                             )\n",
    ">>> rng"
   ]
  },
  {
   "cell_type": "code",
   "execution_count": 26,
   "id": "a1b41670",
   "metadata": {},
   "outputs": [
    {
     "name": "stdout",
     "output_type": "stream",
     "text": [
      "\n",
      "Ring: Powerset Ring 2\n",
      "Instance ID: 140667299343632\n",
      "Description: Ring on powerset of {0, 1}\n",
      "Identity: {}\n",
      "Associative? Yes\n",
      "Commutative? Yes\n",
      "Elements:\n",
      "   Index   Name   Inverse  Order\n",
      "      0      {}      {}       1\n",
      "      1     {0}     {0}       2\n",
      "      2     {1}     {1}       2\n",
      "      3  {0, 1}  {0, 1}       2\n",
      "Cayley Table (showing names):\n",
      "[['{}', '{0}', '{1}', '{0, 1}'],\n",
      " ['{0}', '{}', '{0, 1}', '{1}'],\n",
      " ['{1}', '{0, 1}', '{}', '{0}'],\n",
      " ['{0, 1}', '{1}', '{0}', '{}']]\n",
      "Mult. Identity: {0, 1}\n",
      "Mult. Commutative? Yes\n",
      "Multiplicative Cayley Table (showing names):\n",
      "[['{}', '{}', '{}', '{}'],\n",
      " ['{}', '{0}', '{}', '{0}'],\n",
      " ['{}', '{}', '{1}', '{1}'],\n",
      " ['{}', '{0}', '{1}', '{0, 1}']]\n"
     ]
    }
   ],
   "source": [
    ">>> rng.about(use_table_names=True)"
   ]
  },
  {
   "cell_type": "markdown",
   "id": "020628f7",
   "metadata": {},
   "source": [
    "### Ring Addition and Multiplication"
   ]
  },
  {
   "cell_type": "code",
   "execution_count": 27,
   "id": "13e9af86",
   "metadata": {},
   "outputs": [
    {
     "data": {
      "text/plain": [
       "{0}"
      ]
     },
     "execution_count": 27,
     "metadata": {},
     "output_type": "execute_result"
    }
   ],
   "source": [
    ">>> {1} ^ {0,1}  # Symmetric Difference using actual sets"
   ]
  },
  {
   "cell_type": "code",
   "execution_count": 28,
   "id": "2ceab042",
   "metadata": {},
   "outputs": [
    {
     "data": {
      "text/plain": [
       "'{0}'"
      ]
     },
     "execution_count": 28,
     "metadata": {},
     "output_type": "execute_result"
    }
   ],
   "source": [
    ">>> rng.add(\"{1}\", \"{0, 1}\")"
   ]
  },
  {
   "cell_type": "code",
   "execution_count": 29,
   "id": "ba941e1b",
   "metadata": {},
   "outputs": [
    {
     "data": {
      "text/plain": [
       "{1}"
      ]
     },
     "execution_count": 29,
     "metadata": {},
     "output_type": "execute_result"
    }
   ],
   "source": [
    ">>> {1} & {0,1}  # Intersection using actual sets"
   ]
  },
  {
   "cell_type": "code",
   "execution_count": 30,
   "id": "ff70151d",
   "metadata": {},
   "outputs": [
    {
     "data": {
      "text/plain": [
       "'{1}'"
      ]
     },
     "execution_count": 30,
     "metadata": {},
     "output_type": "execute_result"
    }
   ],
   "source": [
    ">>> rng.mult(\"{1}\", \"{0, 1}\")"
   ]
  },
  {
   "cell_type": "markdown",
   "id": "d0175a29",
   "metadata": {},
   "source": [
    "### Zero Divisors of a Ring"
   ]
  },
  {
   "cell_type": "markdown",
   "id": "2962a82e",
   "metadata": {},
   "source": [
    "The Ring just created has two zero divisors:"
   ]
  },
  {
   "cell_type": "code",
   "execution_count": 31,
   "id": "fd38b01e",
   "metadata": {},
   "outputs": [
    {
     "data": {
      "text/plain": [
       "['{0}', '{1}']"
      ]
     },
     "execution_count": 31,
     "metadata": {},
     "output_type": "execute_result"
    }
   ],
   "source": [
    "rng.zero_divisors()"
   ]
  },
  {
   "cell_type": "markdown",
   "id": "aa904153",
   "metadata": {},
   "source": [
    "### Autogeneration of a Powerset Ring"
   ]
  },
  {
   "cell_type": "code",
   "execution_count": 32,
   "id": "3a6ae546",
   "metadata": {},
   "outputs": [
    {
     "data": {
      "text/plain": [
       "Ring(\n",
       "'PSRing3',\n",
       "'Autogenerated Ring on powerset of {0, 1, 2} w/ symm. diff. (add) & intersection (mult)',\n",
       "['{}', '{0}', '{1}', '{2}', '{0, 1}', '{0, 2}', '{1, 2}', '{0, 1, 2}'],\n",
       "[[0, 1, 2, 3, 4, 5, 6, 7], [1, 0, 4, 5, 2, 3, 7, 6], [2, 4, 0, 6, 1, 7, 3, 5], [3, 5, 6, 0, 7, 1, 2, 4], [4, 2, 1, 7, 0, 6, 5, 3], [5, 3, 7, 1, 6, 0, 4, 2], [6, 7, 3, 2, 5, 4, 0, 1], [7, 6, 5, 4, 3, 2, 1, 0]],\n",
       "[[0, 0, 0, 0, 0, 0, 0, 0], [0, 1, 0, 0, 1, 1, 0, 1], [0, 0, 2, 0, 2, 0, 2, 2], [0, 0, 0, 3, 0, 3, 3, 3], [0, 1, 2, 0, 4, 1, 2, 4], [0, 1, 0, 3, 1, 5, 3, 5], [0, 0, 2, 3, 2, 3, 6, 6], [0, 1, 2, 3, 4, 5, 6, 7]]\n",
       ")"
      ]
     },
     "execution_count": 32,
     "metadata": {},
     "output_type": "execute_result"
    }
   ],
   "source": [
    ">>> from finite_algebras import generate_powerset_ring\n",
    "\n",
    ">>> psr3 = generate_powerset_ring(3)  # Ring order will be 3!\n",
    "\n",
    ">>> psr3"
   ]
  },
  {
   "cell_type": "code",
   "execution_count": 33,
   "id": "2c6519ef",
   "metadata": {
    "scrolled": true
   },
   "outputs": [
    {
     "name": "stdout",
     "output_type": "stream",
     "text": [
      "\n",
      "Ring: PSRing3\n",
      "Instance ID: 140666493580624\n",
      "Description: Autogenerated Ring on powerset of {0, 1, 2} w/ symm. diff. (add) & intersection (mult)\n",
      "Identity: {}\n",
      "Associative? Yes\n",
      "Commutative? Yes\n",
      "Elements:\n",
      "   Index   Name   Inverse  Order\n",
      "      0      {}      {}       1\n",
      "      1     {0}     {0}       2\n",
      "      2     {1}     {1}       2\n",
      "      3     {2}     {2}       2\n",
      "      4  {0, 1}  {0, 1}       2\n",
      "      5  {0, 2}  {0, 2}       2\n",
      "      6  {1, 2}  {1, 2}       2\n",
      "      7 {0, 1, 2} {0, 1, 2}       2\n",
      "Cayley Table (showing names):\n",
      "[['{}', '{0}', '{1}', '{2}', '{0, 1}', '{0, 2}', '{1, 2}', '{0, 1, 2}'],\n",
      " ['{0}', '{}', '{0, 1}', '{0, 2}', '{1}', '{2}', '{0, 1, 2}', '{1, 2}'],\n",
      " ['{1}', '{0, 1}', '{}', '{1, 2}', '{0}', '{0, 1, 2}', '{2}', '{0, 2}'],\n",
      " ['{2}', '{0, 2}', '{1, 2}', '{}', '{0, 1, 2}', '{0}', '{1}', '{0, 1}'],\n",
      " ['{0, 1}', '{1}', '{0}', '{0, 1, 2}', '{}', '{1, 2}', '{0, 2}', '{2}'],\n",
      " ['{0, 2}', '{2}', '{0, 1, 2}', '{0}', '{1, 2}', '{}', '{0, 1}', '{1}'],\n",
      " ['{1, 2}', '{0, 1, 2}', '{2}', '{1}', '{0, 2}', '{0, 1}', '{}', '{0}'],\n",
      " ['{0, 1, 2}', '{1, 2}', '{0, 2}', '{0, 1}', '{2}', '{1}', '{0}', '{}']]\n",
      "Mult. Identity: {0, 1, 2}\n",
      "Mult. Commutative? Yes\n",
      "Multiplicative Cayley Table (showing names):\n",
      "[['{}', '{}', '{}', '{}', '{}', '{}', '{}', '{}'],\n",
      " ['{}', '{0}', '{}', '{}', '{0}', '{0}', '{}', '{0}'],\n",
      " ['{}', '{}', '{1}', '{}', '{1}', '{}', '{1}', '{1}'],\n",
      " ['{}', '{}', '{}', '{2}', '{}', '{2}', '{2}', '{2}'],\n",
      " ['{}', '{0}', '{1}', '{}', '{0, 1}', '{0}', '{1}', '{0, 1}'],\n",
      " ['{}', '{0}', '{}', '{2}', '{0}', '{0, 2}', '{2}', '{0, 2}'],\n",
      " ['{}', '{}', '{1}', '{2}', '{1}', '{2}', '{1, 2}', '{1, 2}'],\n",
      " ['{}', '{0}', '{1}', '{2}', '{0, 1}', '{0, 2}', '{1, 2}', '{0, 1, 2}']]\n"
     ]
    }
   ],
   "source": [
    ">>> psr3.about(use_table_names=True)"
   ]
  },
  {
   "cell_type": "markdown",
   "id": "25d9d835",
   "metadata": {},
   "source": [
    "### Ring Based on 2x2 Matrices"
   ]
  },
  {
   "cell_type": "markdown",
   "id": "fe0726dc",
   "metadata": {},
   "source": [
    "See Example 6 in this reference: http://www-groups.mcs.st-andrews.ac.uk/~john/MT4517/Lectures/L3.html"
   ]
  },
  {
   "cell_type": "code",
   "execution_count": 34,
   "id": "ff3a9759",
   "metadata": {},
   "outputs": [],
   "source": [
    "addtbl = [['0', 'a', 'b', 'c'],\n",
    "          ['a', '0', 'c', 'b'],\n",
    "          ['b', 'c', '0', 'a'],\n",
    "          ['c', 'b', 'a', '0']]"
   ]
  },
  {
   "cell_type": "code",
   "execution_count": 35,
   "id": "b66d14d4",
   "metadata": {},
   "outputs": [],
   "source": [
    "multbl = [['0', '0', '0', '0'],\n",
    "          ['0', '0', 'a', 'a'],\n",
    "          ['0', '0', 'b', 'b'],\n",
    "          ['0', '0', 'c', 'c']]"
   ]
  },
  {
   "cell_type": "code",
   "execution_count": 36,
   "id": "c97f2825",
   "metadata": {
    "scrolled": true
   },
   "outputs": [
    {
     "data": {
      "text/plain": [
       "Ring(\n",
       "'Ex6',\n",
       "'Example 6: http://www-groups.mcs.st-andrews.ac.uk/~john/MT4517/Lectures/L3.html',\n",
       "['0', 'a', 'b', 'c'],\n",
       "[[0, 1, 2, 3], [1, 0, 3, 2], [2, 3, 0, 1], [3, 2, 1, 0]],\n",
       "[[0, 0, 0, 0], [0, 0, 1, 1], [0, 0, 2, 2], [0, 0, 3, 3]]\n",
       ")"
      ]
     },
     "execution_count": 36,
     "metadata": {},
     "output_type": "execute_result"
    }
   ],
   "source": [
    "ex6 = make_finite_algebra('Ex6',\n",
    "                          'Example 6: http://www-groups.mcs.st-andrews.ac.uk/~john/MT4517/Lectures/L3.html',\n",
    "                          ['0', 'a', 'b', 'c'],\n",
    "                          addtbl,\n",
    "                          multbl)\n",
    "\n",
    "ex6"
   ]
  },
  {
   "cell_type": "code",
   "execution_count": 37,
   "id": "1c7aa7ec",
   "metadata": {
    "scrolled": true
   },
   "outputs": [
    {
     "name": "stdout",
     "output_type": "stream",
     "text": [
      "\n",
      "Ring: Ex6\n",
      "Instance ID: 140667299342288\n",
      "Description: Example 6: http://www-groups.mcs.st-andrews.ac.uk/~john/MT4517/Lectures/L3.html\n",
      "Identity: 0\n",
      "Associative? Yes\n",
      "Commutative? Yes\n",
      "Elements:\n",
      "   Index   Name   Inverse  Order\n",
      "      0       0       0       1\n",
      "      1       a       a       2\n",
      "      2       b       b       2\n",
      "      3       c       c       2\n",
      "Cayley Table (showing names):\n",
      "[['0', 'a', 'b', 'c'],\n",
      " ['a', '0', 'c', 'b'],\n",
      " ['b', 'c', '0', 'a'],\n",
      " ['c', 'b', 'a', '0']]\n",
      "Mult. Identity: None\n",
      "Mult. Commutative? No\n",
      "Multiplicative Cayley Table (showing names):\n",
      "[['0', '0', '0', '0'],\n",
      " ['0', '0', 'a', 'a'],\n",
      " ['0', '0', 'b', 'b'],\n",
      " ['0', '0', 'c', 'c']]\n"
     ]
    }
   ],
   "source": [
    "ex6.about(use_table_names=True)"
   ]
  },
  {
   "cell_type": "markdown",
   "id": "b99ce9af",
   "metadata": {},
   "source": [
    "### Extracting a Ring's Additive & Multiplicative \"Subalgebras\""
   ]
  },
  {
   "cell_type": "markdown",
   "id": "3cf3b0b2",
   "metadata": {},
   "source": [
    "At the beginning of this User Guide, in the *Algebra Definitions* section, a Ring is described as being a combination of a commutative Group, under addition, and a Semigroup, under multiplication (with distributivity of multiplication over addition). This section shows how those algebraic components of a Ring can be extracted.\n",
    "\n",
    "**NOTE**: The implementation of the two extraction methods, illustrated below, operates by calling ``make_finite_algebra`` using the relevant portions of the Ring.  That way, the appropriate algebras are returned: a commutative Group for the additive portion, and, at a minimum, a Semigroup for the multiplicative portion."
   ]
  },
  {
   "cell_type": "code",
   "execution_count": 38,
   "id": "4697e817",
   "metadata": {},
   "outputs": [
    {
     "data": {
      "text/plain": [
       "Ring(\n",
       "'Ex6',\n",
       "'Example 6: http://www-groups.mcs.st-andrews.ac.uk/~john/MT4517/Lectures/L3.html',\n",
       "['0', 'a', 'b', 'c'],\n",
       "[[0, 1, 2, 3], [1, 0, 3, 2], [2, 3, 0, 1], [3, 2, 1, 0]],\n",
       "[[0, 0, 0, 0], [0, 0, 1, 1], [0, 0, 2, 2], [0, 0, 3, 3]]\n",
       ")"
      ]
     },
     "execution_count": 38,
     "metadata": {},
     "output_type": "execute_result"
    }
   ],
   "source": [
    "ex6"
   ]
  },
  {
   "cell_type": "markdown",
   "id": "96d1d9be",
   "metadata": {},
   "source": [
    "The **additive portion** of this example ring is a commutative Group, as expected:"
   ]
  },
  {
   "cell_type": "code",
   "execution_count": 39,
   "id": "7ca93ed9",
   "metadata": {},
   "outputs": [
    {
     "name": "stdout",
     "output_type": "stream",
     "text": [
      "\n",
      "Group: Ex6.Add\n",
      "Instance ID: 140667299201936\n",
      "Description: Additive-only portion of Ex6\n",
      "Identity: 0\n",
      "Associative? Yes\n",
      "Commutative? Yes\n",
      "Elements:\n",
      "   Index   Name   Inverse  Order\n",
      "      0       0       0       1\n",
      "      1       a       a       2\n",
      "      2       b       b       2\n",
      "      3       c       c       2\n",
      "Cayley Table (showing indices):\n",
      "[[0, 1, 2, 3], [1, 0, 3, 2], [2, 3, 0, 1], [3, 2, 1, 0]]\n"
     ]
    }
   ],
   "source": [
    "ex6_add = ex6.extract_additive_algebra()\n",
    "ex6_add.about()"
   ]
  },
  {
   "cell_type": "markdown",
   "id": "b8ddec0d",
   "metadata": {},
   "source": [
    "And, the **multiplicative portion** is a Semigroup:"
   ]
  },
  {
   "cell_type": "code",
   "execution_count": 40,
   "id": "056f5775",
   "metadata": {},
   "outputs": [
    {
     "data": {
      "text/plain": [
       "Semigroup(\n",
       "'Ex6.Mult',\n",
       "'Multiplicative-only portion of Ex6',\n",
       "['0', 'a', 'b', 'c'],\n",
       "[[0, 0, 0, 0], [0, 0, 1, 1], [0, 0, 2, 2], [0, 0, 3, 3]]\n",
       ")"
      ]
     },
     "execution_count": 40,
     "metadata": {},
     "output_type": "execute_result"
    }
   ],
   "source": [
    "ex6_mult = ex6.extract_multiplicative_algebra()\n",
    "ex6_mult"
   ]
  },
  {
   "cell_type": "markdown",
   "id": "608378cd",
   "metadata": {},
   "source": [
    "### Autogenerating a Commutative Ring"
   ]
  },
  {
   "cell_type": "markdown",
   "id": "8564cbfc",
   "metadata": {},
   "source": [
    "This Ring autogeneration function is based on example 2 here: http://www-groups.mcs.st-andrews.ac.uk/~john/MT4517/Lectures/L3.html"
   ]
  },
  {
   "cell_type": "code",
   "execution_count": 41,
   "id": "1978f16c",
   "metadata": {},
   "outputs": [],
   "source": [
    "from finite_algebras import generate_commutative_ring"
   ]
  },
  {
   "cell_type": "code",
   "execution_count": 42,
   "id": "beb641ad",
   "metadata": {
    "scrolled": true
   },
   "outputs": [
    {
     "data": {
      "text/plain": [
       "Ring(\n",
       "'R5',\n",
       "'Autogenerated commutative Ring of order 5',\n",
       "['a0', 'a1', 'a2', 'a3', 'a4'],\n",
       "[[0, 1, 2, 3, 4], [1, 2, 3, 4, 0], [2, 3, 4, 0, 1], [3, 4, 0, 1, 2], [4, 0, 1, 2, 3]],\n",
       "[[0, 0, 0, 0, 0], [0, 1, 2, 3, 4], [0, 2, 4, 1, 3], [0, 3, 1, 4, 2], [0, 4, 3, 2, 1]]\n",
       ")"
      ]
     },
     "execution_count": 42,
     "metadata": {},
     "output_type": "execute_result"
    }
   ],
   "source": [
    "r5 = generate_commutative_ring(5)\n",
    "r5"
   ]
  },
  {
   "cell_type": "code",
   "execution_count": 43,
   "id": "4c5064e0",
   "metadata": {},
   "outputs": [
    {
     "name": "stdout",
     "output_type": "stream",
     "text": [
      "\n",
      "Ring: R5\n",
      "Instance ID: 140666493644880\n",
      "Description: Autogenerated commutative Ring of order 5\n",
      "Identity: a0\n",
      "Associative? Yes\n",
      "Commutative? Yes\n",
      "Elements:\n",
      "   Index   Name   Inverse  Order\n",
      "      0      a0      a0       1\n",
      "      1      a1      a4       5\n",
      "      2      a2      a3       5\n",
      "      3      a3      a2       5\n",
      "      4      a4      a1       5\n",
      "Cayley Table (showing names):\n",
      "[['a0', 'a1', 'a2', 'a3', 'a4'],\n",
      " ['a1', 'a2', 'a3', 'a4', 'a0'],\n",
      " ['a2', 'a3', 'a4', 'a0', 'a1'],\n",
      " ['a3', 'a4', 'a0', 'a1', 'a2'],\n",
      " ['a4', 'a0', 'a1', 'a2', 'a3']]\n",
      "Mult. Identity: a1\n",
      "Mult. Commutative? Yes\n",
      "Multiplicative Cayley Table (showing names):\n",
      "[['a0', 'a0', 'a0', 'a0', 'a0'],\n",
      " ['a0', 'a1', 'a2', 'a3', 'a4'],\n",
      " ['a0', 'a2', 'a4', 'a1', 'a3'],\n",
      " ['a0', 'a3', 'a1', 'a4', 'a2'],\n",
      " ['a0', 'a4', 'a3', 'a2', 'a1']]\n"
     ]
    }
   ],
   "source": [
    "r5.about(use_table_names=True)"
   ]
  },
  {
   "cell_type": "markdown",
   "id": "86b01178",
   "metadata": {},
   "source": [
    "**Extracting it's component algebras**\n",
    "\n",
    "In the following, we extract the component algebras of this Ring as a commutative Group and a Monoid.\n",
    "\n",
    "The Monoid occurs since this Ring's multiplicative portion includes a multiplicative identity element ('a1')."
   ]
  },
  {
   "cell_type": "code",
   "execution_count": 44,
   "id": "6700c55d",
   "metadata": {},
   "outputs": [
    {
     "name": "stdout",
     "output_type": "stream",
     "text": [
      "\n",
      "Group: R5.Add\n",
      "Instance ID: 140666493635920\n",
      "Description: Additive-only portion of R5\n",
      "Identity: a0\n",
      "Associative? Yes\n",
      "Commutative? Yes\n",
      "Elements:\n",
      "   Index   Name   Inverse  Order\n",
      "      0      a0      a0       1\n",
      "      1      a1      a4       5\n",
      "      2      a2      a3       5\n",
      "      3      a3      a2       5\n",
      "      4      a4      a1       5\n",
      "Cayley Table (showing indices):\n",
      "[[0, 1, 2, 3, 4],\n",
      " [1, 2, 3, 4, 0],\n",
      " [2, 3, 4, 0, 1],\n",
      " [3, 4, 0, 1, 2],\n",
      " [4, 0, 1, 2, 3]]\n"
     ]
    }
   ],
   "source": [
    "r5add = r5.extract_additive_algebra()\n",
    "r5add.about()"
   ]
  },
  {
   "cell_type": "code",
   "execution_count": 45,
   "id": "26098592",
   "metadata": {},
   "outputs": [
    {
     "name": "stdout",
     "output_type": "stream",
     "text": [
      "\n",
      "Monoid: R5.Mult\n",
      "Instance ID: 140666493646288\n",
      "Description: Multiplicative-only portion of R5\n",
      "Elements: ['a0', 'a1', 'a2', 'a3', 'a4']\n",
      "Identity: a1\n",
      "Associative? Yes\n",
      "Commutative? Yes\n",
      "Has Inverses? No\n",
      "Cayley Table (showing indices):\n",
      "[[0, 0, 0, 0, 0],\n",
      " [0, 1, 2, 3, 4],\n",
      " [0, 2, 4, 1, 3],\n",
      " [0, 3, 1, 4, 2],\n",
      " [0, 4, 3, 2, 1]]\n"
     ]
    }
   ],
   "source": [
    "r5mult = r5.extract_multiplicative_algebra()\n",
    "r5mult.about()"
   ]
  },
  {
   "cell_type": "markdown",
   "id": "7426bd02",
   "metadata": {},
   "source": [
    "## Serialization"
   ]
  },
  {
   "cell_type": "markdown",
   "id": "5deae51c",
   "metadata": {},
   "source": [
    "Algebras can be converted to and from JSON strings/files and Python dictionaries."
   ]
  },
  {
   "cell_type": "markdown",
   "id": "5a2e944c",
   "metadata": {},
   "source": [
    "### Instantiate Algebra from JSON File"
   ]
  },
  {
   "cell_type": "markdown",
   "id": "9498924d",
   "metadata": {},
   "source": [
    "First setup some path variables:\n",
    "\n",
    "* one that points to the abstract_algebra directory\n",
    "* and the other points to a subdirectory containing algebra definitions in JSON format\n",
    "\n",
    "Also, the code here assumes that there is an environment\n",
    "variable, ``PYPROJ``, that points to the parent directory of the abstract_algebra directory."
   ]
  },
  {
   "cell_type": "code",
   "execution_count": 46,
   "id": "af0092b6",
   "metadata": {},
   "outputs": [],
   "source": [
    ">>> import os\n",
    ">>> aa_path = os.path.join(os.getenv(\"PYPROJ\"), \"abstract_algebra\")\n",
    ">>> alg_dir = os.path.join(aa_path, \"Algebras\")"
   ]
  },
  {
   "cell_type": "markdown",
   "id": "9b50c106",
   "metadata": {},
   "source": [
    "Here's the **JSON file**:"
   ]
  },
  {
   "cell_type": "code",
   "execution_count": 47,
   "id": "47a34bb0",
   "metadata": {},
   "outputs": [
    {
     "name": "stdout",
     "output_type": "stream",
     "text": [
      "{\"name\": \"V4\",\r\n",
      " \"description\": \"Klein-4 group\",\r\n",
      " \"elements\": [\"e\", \"h\", \"v\", \"r\"],\r\n",
      " \"table\": [[0, 1, 2, 3],\r\n",
      "           [1, 0, 3, 2],\r\n",
      "           [2, 3, 0, 1],\r\n",
      "           [3, 2, 1, 0]]\r\n",
      "}\r\n"
     ]
    }
   ],
   "source": [
    ">>> v4_json = os.path.join(alg_dir, \"v4_klein_4_group.json\")\n",
    "\n",
    ">>> !cat {v4_json}"
   ]
  },
  {
   "cell_type": "markdown",
   "id": "dba4c075",
   "metadata": {},
   "source": [
    "And, here's the **algebra**:"
   ]
  },
  {
   "cell_type": "code",
   "execution_count": 48,
   "id": "06ffc0fd",
   "metadata": {},
   "outputs": [
    {
     "data": {
      "text/plain": [
       "Group(\n",
       "'V4',\n",
       "'Klein-4 group',\n",
       "['e', 'h', 'v', 'r'],\n",
       "[[0, 1, 2, 3], [1, 0, 3, 2], [2, 3, 0, 1], [3, 2, 1, 0]]\n",
       ")"
      ]
     },
     "execution_count": 48,
     "metadata": {},
     "output_type": "execute_result"
    }
   ],
   "source": [
    ">>> v4 = make_finite_algebra(v4_json)\n",
    "\n",
    ">>> v4"
   ]
  },
  {
   "cell_type": "markdown",
   "id": "ee120c2d",
   "metadata": {},
   "source": [
    "### Convert Algebra to Python Dictionary"
   ]
  },
  {
   "cell_type": "code",
   "execution_count": 49,
   "id": "e79aa4ee",
   "metadata": {},
   "outputs": [
    {
     "data": {
      "text/plain": [
       "{'name': 'V4',\n",
       " 'description': 'Klein-4 group',\n",
       " 'elements': ['e', 'h', 'v', 'r'],\n",
       " 'table': [[0, 1, 2, 3], [1, 0, 3, 2], [2, 3, 0, 1], [3, 2, 1, 0]]}"
      ]
     },
     "execution_count": 49,
     "metadata": {},
     "output_type": "execute_result"
    }
   ],
   "source": [
    ">>> v4_dict = v4.to_dict()\n",
    "\n",
    ">>> v4_dict"
   ]
  },
  {
   "cell_type": "markdown",
   "id": "7852896b",
   "metadata": {},
   "source": [
    "### Instantiate Algebra from Python Dictionary"
   ]
  },
  {
   "cell_type": "code",
   "execution_count": 50,
   "id": "6ca879fe",
   "metadata": {},
   "outputs": [
    {
     "data": {
      "text/plain": [
       "Group(\n",
       "'V4',\n",
       "'Klein-4 group',\n",
       "['e', 'h', 'v', 'r'],\n",
       "[[0, 1, 2, 3], [1, 0, 3, 2], [2, 3, 0, 1], [3, 2, 1, 0]]\n",
       ")"
      ]
     },
     "execution_count": 50,
     "metadata": {},
     "output_type": "execute_result"
    }
   ],
   "source": [
    ">>> v4_from_dict = make_finite_algebra(v4_dict)\n",
    "\n",
    ">>> v4_from_dict"
   ]
  },
  {
   "cell_type": "markdown",
   "id": "d91ea580",
   "metadata": {},
   "source": [
    "### Convert Algebra to JSON String"
   ]
  },
  {
   "cell_type": "code",
   "execution_count": 51,
   "id": "0f8f3da6",
   "metadata": {},
   "outputs": [
    {
     "data": {
      "text/plain": [
       "'{\"name\": \"V4\", \"description\": \"Klein-4 group\", \"elements\": [\"e\", \"h\", \"v\", \"r\"], \"table\": [[0, 1, 2, 3], [1, 0, 3, 2], [2, 3, 0, 1], [3, 2, 1, 0]]}'"
      ]
     },
     "execution_count": 51,
     "metadata": {},
     "output_type": "execute_result"
    }
   ],
   "source": [
    ">>> v4_json_string = v4.dumps()\n",
    "\n",
    ">>> v4_json_string"
   ]
  },
  {
   "cell_type": "markdown",
   "id": "7138b93e",
   "metadata": {},
   "source": [
    "**WARNING**: Although an algebra can be constructed by loading its definition from a JSON file, it cannot be constructed directly from a JSON string, because ``make_finite_algebra`` interprets a single string input as a JSON file name.  To load an algebra from a JSON string, first convert the string to a Python dictionary, then input that to ``make_finite_algebra``, as shown below:"
   ]
  },
  {
   "cell_type": "code",
   "execution_count": 52,
   "id": "449cb192",
   "metadata": {},
   "outputs": [
    {
     "data": {
      "text/plain": [
       "Group(\n",
       "'V4',\n",
       "'Klein-4 group',\n",
       "['e', 'h', 'v', 'r'],\n",
       "[[0, 1, 2, 3], [1, 0, 3, 2], [2, 3, 0, 1], [3, 2, 1, 0]]\n",
       ")"
      ]
     },
     "execution_count": 52,
     "metadata": {},
     "output_type": "execute_result"
    }
   ],
   "source": [
    ">>> import json\n",
    "\n",
    ">>> make_finite_algebra(json.loads(v4_json_string))"
   ]
  },
  {
   "cell_type": "markdown",
   "id": "ece08dcc",
   "metadata": {},
   "source": [
    "## Autogeneration of Finite Algebras\n",
    "\n",
    "There are several functions for autogenerating finite algebras of specified orders:\n",
    "\n",
    "**Groups**\n",
    "\n",
    "* ``generate_cyclic_group(order)``\n",
    "* ``generate_symmetric_group(order)``\n",
    "* ``generate_powerset_group(order)``\n",
    "\n",
    "**Monoid**\n",
    "\n",
    "* ``generate_commutative_monoid(order)``\n",
    "\n",
    "**Rings**\n",
    "\n",
    "* ``generate_powerset_ring``\n",
    "* ``generate_commutative_ring``"
   ]
  },
  {
   "cell_type": "markdown",
   "id": "67598cc9",
   "metadata": {},
   "source": [
    "### Autogenerated Cyclic Group"
   ]
  },
  {
   "cell_type": "markdown",
   "id": "dbf073cc",
   "metadata": {},
   "source": [
    "A cyclic group of any desired order can be generated as follows:"
   ]
  },
  {
   "cell_type": "code",
   "execution_count": 53,
   "id": "4ebb9ce6",
   "metadata": {},
   "outputs": [
    {
     "name": "stdout",
     "output_type": "stream",
     "text": [
      "\n",
      "Group: Z2\n",
      "Instance ID: 140665816863440\n",
      "Description: Autogenerated cyclic Group of order 2\n",
      "Identity: e\n",
      "Associative? Yes\n",
      "Commutative? Yes\n",
      "Elements:\n",
      "   Index   Name   Inverse  Order\n",
      "      0       e       e       1\n",
      "      1       a       a       2\n",
      "Cayley Table (showing indices):\n",
      "[[0, 1], [1, 0]]\n"
     ]
    }
   ],
   "source": [
    ">>> from finite_algebras import generate_cyclic_group\n",
    "\n",
    ">>> z2 = generate_cyclic_group(2)\n",
    "\n",
    ">>> z2.about()"
   ]
  },
  {
   "cell_type": "markdown",
   "id": "9c1e5f2c",
   "metadata": {},
   "source": [
    "### Autogenerated Symmetric Group"
   ]
  },
  {
   "cell_type": "markdown",
   "id": "b47448d9",
   "metadata": {},
   "source": [
    "The symmetric group, based on the permutations of <b>n</b> elements, (1, 2, 3, ..., n), can be generated as follows:\n",
    "\n",
    "**WARNING**: Since the order of an autogenerated symmetric group is **n!**, even a small value of **n** can result in a very large group."
   ]
  },
  {
   "cell_type": "code",
   "execution_count": 54,
   "id": "ed8d696a",
   "metadata": {},
   "outputs": [
    {
     "name": "stdout",
     "output_type": "stream",
     "text": [
      "\n",
      "Group: S3\n",
      "Instance ID: 140666493581072\n",
      "Description: Autogenerated symmetric Group on 3 elements\n",
      "Identity: (1, 2, 3)\n",
      "Associative? Yes\n",
      "Commutative? No\n",
      "Elements:\n",
      "   Index   Name   Inverse  Order\n",
      "      0 (1, 2, 3) (1, 2, 3)       1\n",
      "      1 (1, 3, 2) (1, 3, 2)       2\n",
      "      2 (2, 1, 3) (2, 1, 3)       2\n",
      "      3 (2, 3, 1) (3, 1, 2)       3\n",
      "      4 (3, 1, 2) (2, 3, 1)       3\n",
      "      5 (3, 2, 1) (3, 2, 1)       2\n",
      "Cayley Table (showing indices):\n",
      "[[0, 1, 2, 3, 4, 5],\n",
      " [1, 0, 4, 5, 2, 3],\n",
      " [2, 3, 0, 1, 5, 4],\n",
      " [3, 2, 5, 4, 0, 1],\n",
      " [4, 5, 1, 0, 3, 2],\n",
      " [5, 4, 3, 2, 1, 0]]\n"
     ]
    }
   ],
   "source": [
    ">>> from finite_algebras import generate_symmetric_group\n",
    "\n",
    ">>> s3 = generate_symmetric_group(3)\n",
    "\n",
    ">>> s3.about()"
   ]
  },
  {
   "cell_type": "markdown",
   "id": "a5db4649",
   "metadata": {},
   "source": [
    "### Autogenerated Powerset Group\n",
    "\n",
    "The function, ``generate_powerset_group``, will generate a group on the powerset of {0, 1, 2, ..., n} with **symmetric difference** as the group's binary operation.  This group is useful because it can be used to form a ring with set intersection as the second operator.\n",
    "\n",
    "This means that the order of the autogenerated powerset group will be $2^n$, so the same WARNING as above applies with regard to large values of n."
   ]
  },
  {
   "cell_type": "code",
   "execution_count": 55,
   "id": "6673b361",
   "metadata": {},
   "outputs": [
    {
     "name": "stdout",
     "output_type": "stream",
     "text": [
      "\n",
      "Group: PS3\n",
      "Instance ID: 140666493582160\n",
      "Description: Autogenerated Group on the powerset of 3 elements, with symmetric difference operator\n",
      "Identity: {}\n",
      "Associative? Yes\n",
      "Commutative? Yes\n",
      "Elements:\n",
      "   Index   Name   Inverse  Order\n",
      "      0      {}      {}       1\n",
      "      1     {0}     {0}       2\n",
      "      2     {1}     {1}       2\n",
      "      3     {2}     {2}       2\n",
      "      4  {0, 1}  {0, 1}       2\n",
      "      5  {0, 2}  {0, 2}       2\n",
      "      6  {1, 2}  {1, 2}       2\n",
      "      7 {0, 1, 2} {0, 1, 2}       2\n",
      "Cayley Table (showing indices):\n",
      "[[0, 1, 2, 3, 4, 5, 6, 7],\n",
      " [1, 0, 4, 5, 2, 3, 7, 6],\n",
      " [2, 4, 0, 6, 1, 7, 3, 5],\n",
      " [3, 5, 6, 0, 7, 1, 2, 4],\n",
      " [4, 2, 1, 7, 0, 6, 5, 3],\n",
      " [5, 3, 7, 1, 6, 0, 4, 2],\n",
      " [6, 7, 3, 2, 5, 4, 0, 1],\n",
      " [7, 6, 5, 4, 3, 2, 1, 0]]\n"
     ]
    }
   ],
   "source": [
    ">>> from finite_algebras import generate_powerset_group\n",
    "\n",
    ">>> ps3 = generate_powerset_group(3)\n",
    "\n",
    ">>> ps3.about()"
   ]
  },
  {
   "cell_type": "markdown",
   "id": "b4106d2f",
   "metadata": {},
   "source": [
    "### Autogenerated Monoid"
   ]
  },
  {
   "cell_type": "code",
   "execution_count": 56,
   "id": "636b55bb",
   "metadata": {},
   "outputs": [
    {
     "name": "stdout",
     "output_type": "stream",
     "text": [
      "\n",
      "Monoid: M7\n",
      "Instance ID: 140665816865424\n",
      "Description: Autogenerated commutative Monoid of order 7\n",
      "Elements: ['a0', 'a1', 'a2', 'a3', 'a4', 'a5', 'a6']\n",
      "Identity: a1\n",
      "Associative? Yes\n",
      "Commutative? Yes\n",
      "Has Inverses? No\n",
      "Cayley Table (showing indices):\n",
      "[[0, 0, 0, 0, 0, 0, 0],\n",
      " [0, 1, 2, 3, 4, 5, 6],\n",
      " [0, 2, 4, 6, 1, 3, 5],\n",
      " [0, 3, 6, 2, 5, 1, 4],\n",
      " [0, 4, 1, 5, 2, 6, 3],\n",
      " [0, 5, 3, 1, 6, 4, 2],\n",
      " [0, 6, 5, 4, 3, 2, 1]]\n"
     ]
    }
   ],
   "source": [
    ">>> from finite_algebras import generate_commutative_monoid\n",
    "\n",
    ">>> m7 = generate_commutative_monoid(7)\n",
    "\n",
    ">>> m7.about()"
   ]
  },
  {
   "cell_type": "markdown",
   "id": "65baec3c",
   "metadata": {},
   "source": [
    "## Direct Products"
   ]
  },
  {
   "cell_type": "markdown",
   "id": "731cb9e8",
   "metadata": {},
   "source": [
    "The **direct product** of two or more algebras can be generated using Python's multiplication operator, ``*``:"
   ]
  },
  {
   "cell_type": "markdown",
   "id": "4a5253e9",
   "metadata": {},
   "source": [
    "### Direct Product of Multiple Groups"
   ]
  },
  {
   "cell_type": "code",
   "execution_count": 57,
   "id": "0d1b6314",
   "metadata": {},
   "outputs": [
    {
     "name": "stdout",
     "output_type": "stream",
     "text": [
      "\n",
      "Group: Z2_x_Z2_x_Z2\n",
      "Instance ID: 140666493526608\n",
      "Description: Direct product of Z2_x_Z2 & Z2\n",
      "Identity: e:e:e\n",
      "Associative? Yes\n",
      "Commutative? Yes\n",
      "Elements:\n",
      "   Index   Name   Inverse  Order\n",
      "      0   e:e:e   e:e:e       1\n",
      "      1   e:e:a   e:e:a       2\n",
      "      2   e:a:e   e:a:e       2\n",
      "      3   e:a:a   e:a:a       2\n",
      "      4   a:e:e   a:e:e       2\n",
      "      5   a:e:a   a:e:a       2\n",
      "      6   a:a:e   a:a:e       2\n",
      "      7   a:a:a   a:a:a       2\n",
      "Cayley Table (showing indices):\n",
      "[[0, 1, 2, 3, 4, 5, 6, 7],\n",
      " [1, 0, 3, 2, 5, 4, 7, 6],\n",
      " [2, 3, 0, 1, 6, 7, 4, 5],\n",
      " [3, 2, 1, 0, 7, 6, 5, 4],\n",
      " [4, 5, 6, 7, 0, 1, 2, 3],\n",
      " [5, 4, 7, 6, 1, 0, 3, 2],\n",
      " [6, 7, 4, 5, 2, 3, 0, 1],\n",
      " [7, 6, 5, 4, 3, 2, 1, 0]]\n"
     ]
    }
   ],
   "source": [
    ">>> z2_cubed = z2 * z2 * z2\n",
    "\n",
    ">>> z2_cubed.about()"
   ]
  },
  {
   "cell_type": "markdown",
   "id": "66c5936d",
   "metadata": {},
   "source": [
    "### Direct Product of Monoids"
   ]
  },
  {
   "cell_type": "code",
   "execution_count": 58,
   "id": "ca9f4b80",
   "metadata": {},
   "outputs": [
    {
     "data": {
      "text/plain": [
       "Monoid(\n",
       "'M3',\n",
       "'Autogenerated commutative Monoid of order 3',\n",
       "['a0', 'a1', 'a2'],\n",
       "[[0, 0, 0], [0, 1, 2], [0, 2, 1]]\n",
       ")"
      ]
     },
     "execution_count": 58,
     "metadata": {},
     "output_type": "execute_result"
    }
   ],
   "source": [
    ">>> mon3 = generate_commutative_monoid(3)\n",
    "\n",
    ">>> mon3"
   ]
  },
  {
   "cell_type": "code",
   "execution_count": 59,
   "id": "a20a4870",
   "metadata": {},
   "outputs": [
    {
     "name": "stdout",
     "output_type": "stream",
     "text": [
      "\n",
      "Monoid: M3_x_M3\n",
      "Instance ID: 140665816888720\n",
      "Description: Direct product of M3 & M3\n",
      "Elements: ['a0:a0', 'a0:a1', 'a0:a2', 'a1:a0', 'a1:a1', 'a1:a2', 'a2:a0', 'a2:a1', 'a2:a2']\n",
      "Identity: a1:a1\n",
      "Associative? Yes\n",
      "Commutative? Yes\n",
      "Has Inverses? No\n",
      "Cayley Table (showing indices):\n",
      "[[0, 0, 0, 0, 0, 0, 0, 0, 0],\n",
      " [0, 1, 2, 0, 1, 2, 0, 1, 2],\n",
      " [0, 2, 1, 0, 2, 1, 0, 2, 1],\n",
      " [0, 0, 0, 3, 3, 3, 6, 6, 6],\n",
      " [0, 1, 2, 3, 4, 5, 6, 7, 8],\n",
      " [0, 2, 1, 3, 5, 4, 6, 8, 7],\n",
      " [0, 0, 0, 6, 6, 6, 3, 3, 3],\n",
      " [0, 1, 2, 6, 7, 8, 3, 4, 5],\n",
      " [0, 2, 1, 6, 8, 7, 3, 5, 4]]\n"
     ]
    }
   ],
   "source": [
    ">>> m3_sqr = mon3 * mon3\n",
    ">>> m3_sqr.about()"
   ]
  },
  {
   "cell_type": "markdown",
   "id": "91b63b5f",
   "metadata": {},
   "source": [
    "## Isomorphisms"
   ]
  },
  {
   "cell_type": "markdown",
   "id": "5d73c610",
   "metadata": {},
   "source": [
    "If two groups are isomorphic, then the mapping between their elements is returned as a Python dictionary.\n",
    "\n",
    "Here'a a well-known example, using two small groups created above:"
   ]
  },
  {
   "cell_type": "markdown",
   "id": "f6162a70",
   "metadata": {},
   "source": [
    "### Group Isomorphism"
   ]
  },
  {
   "cell_type": "code",
   "execution_count": 60,
   "id": "db351470",
   "metadata": {},
   "outputs": [
    {
     "data": {
      "text/plain": [
       "{'e': 'e:e', 'h': 'e:a', 'v': 'a:e', 'r': 'a:a'}"
      ]
     },
     "execution_count": 60,
     "metadata": {},
     "output_type": "execute_result"
    }
   ],
   "source": [
    ">>> z2_sqr = z2 * z2\n",
    "\n",
    ">>> v4.isomorphic(z2_sqr)"
   ]
  },
  {
   "cell_type": "markdown",
   "id": "192b3a52",
   "metadata": {},
   "source": [
    "If two groups are not isomorphic, then ``False`` is returned."
   ]
  },
  {
   "cell_type": "code",
   "execution_count": 61,
   "id": "1cb207cb",
   "metadata": {},
   "outputs": [
    {
     "data": {
      "text/plain": [
       "False"
      ]
     },
     "execution_count": 61,
     "metadata": {},
     "output_type": "execute_result"
    }
   ],
   "source": [
    ">>> z4 = generate_cyclic_group(4)\n",
    "\n",
    ">>> z4.isomorphic(z2_sqr)"
   ]
  },
  {
   "cell_type": "markdown",
   "id": "f71a0673",
   "metadata": {},
   "source": [
    "### Magma Isomorphism"
   ]
  },
  {
   "cell_type": "markdown",
   "id": "c8af2c62",
   "metadata": {},
   "source": [
    "**Water, Fire, Stick Magma**"
   ]
  },
  {
   "cell_type": "markdown",
   "id": "119c4a99",
   "metadata": {},
   "source": [
    "A made-up Magma, similar to Rock, Paper, Scissors:\n",
    "\n",
    "* Water quenches Fire\n",
    "* Fire burns Stick\n",
    "* Stick floats on Water"
   ]
  },
  {
   "cell_type": "code",
   "execution_count": 62,
   "id": "413e8cef",
   "metadata": {},
   "outputs": [
    {
     "data": {
      "text/plain": [
       "Magma(\n",
       "'WFS',\n",
       "'Water, Fire, Stick Magma',\n",
       "['water', 'fire', 'stick'],\n",
       "[[0, 0, 2], [0, 1, 1], [2, 1, 2]]\n",
       ")"
      ]
     },
     "execution_count": 62,
     "metadata": {},
     "output_type": "execute_result"
    }
   ],
   "source": [
    "wfs = make_finite_algebra('WFS',\n",
    "                          'Water, Fire, Stick Magma',\n",
    "                          ['water', 'fire', 'stick'],\n",
    "                          [[0, 0, 2],\n",
    "                           [0, 1, 1],\n",
    "                           [2, 1, 2]])\n",
    "wfs"
   ]
  },
  {
   "cell_type": "markdown",
   "id": "cc12332e",
   "metadata": {},
   "source": [
    "Here's the isomorphism between rps and wfs:"
   ]
  },
  {
   "cell_type": "code",
   "execution_count": 63,
   "id": "963b2165",
   "metadata": {},
   "outputs": [
    {
     "data": {
      "text/plain": [
       "{'r': 'water', 'p': 'stick', 's': 'fire'}"
      ]
     },
     "execution_count": 63,
     "metadata": {},
     "output_type": "execute_result"
    }
   ],
   "source": [
    "rps.isomorphic(wfs)"
   ]
  },
  {
   "cell_type": "markdown",
   "id": "e26e2c68",
   "metadata": {},
   "source": [
    "## Subalgebras (Subgroups)"
   ]
  },
  {
   "cell_type": "markdown",
   "id": "246a119d",
   "metadata": {},
   "source": [
    "### Proper Subgroups"
   ]
  },
  {
   "cell_type": "code",
   "execution_count": 64,
   "id": "cb918e15",
   "metadata": {},
   "outputs": [
    {
     "data": {
      "text/plain": [
       "[Group(\n",
       " 'Z8_subgroup_0',\n",
       " 'Subgroup of: Autogenerated cyclic Group of order 8',\n",
       " ['e', 'a^4'],\n",
       " [[0, 1], [1, 0]]\n",
       " ),\n",
       " Group(\n",
       " 'Z8_subgroup_1',\n",
       " 'Subgroup of: Autogenerated cyclic Group of order 8',\n",
       " ['e', 'a^2', 'a^4', 'a^6'],\n",
       " [[0, 1, 2, 3], [1, 2, 3, 0], [2, 3, 0, 1], [3, 0, 1, 2]]\n",
       " )]"
      ]
     },
     "execution_count": 64,
     "metadata": {},
     "output_type": "execute_result"
    }
   ],
   "source": [
    ">>> z8 = generate_cyclic_group(8)\n",
    "\n",
    ">>> z8.proper_subgroups()"
   ]
  },
  {
   "cell_type": "markdown",
   "id": "a4060d05",
   "metadata": {},
   "source": [
    "### Proper Subgroups up to Isomorphism"
   ]
  },
  {
   "cell_type": "code",
   "execution_count": 65,
   "id": "24bfd767",
   "metadata": {},
   "outputs": [
    {
     "name": "stdout",
     "output_type": "stream",
     "text": [
      "PS3 has 14 proper subgroups.\n",
      "But, up to isomorphisms, only 2 are proper and unique.\n"
     ]
    }
   ],
   "source": [
    ">>> from finite_algebras import partition_into_isomorphic_lists\n",
    "\n",
    ">>> ps3_proper_subgroups = ps3.proper_subgroups()\n",
    "\n",
    ">>> print(f\"{ps3.name} has {len(ps3_proper_subgroups)} proper subgroups.\")\n",
    "\n",
    ">>> unique_subgroups = partition_into_isomorphic_lists(ps3_proper_subgroups)\n",
    "\n",
    ">>> print(f\"But, up to isomorphisms, only {len(unique_subgroups)} are proper and unique.\")"
   ]
  },
  {
   "cell_type": "markdown",
   "id": "208c745e",
   "metadata": {},
   "source": [
    "The function, ``partition_into_isomorphic_lists``, does just that; it partitions a list of groups (subgroups in this case) into a list of lists, where each sublist contains groups that are all isomophic to each other.\n",
    "\n",
    "So, in the following, the ``about`` method is called on the first group of each sublist:"
   ]
  },
  {
   "cell_type": "code",
   "execution_count": 66,
   "id": "8cce7723",
   "metadata": {},
   "outputs": [
    {
     "name": "stdout",
     "output_type": "stream",
     "text": [
      "\n",
      "Group: PS3_subgroup_0\n",
      "Instance ID: 140665816934416\n",
      "Description: Subgroup of: Autogenerated Group on the powerset of 3 elements, with symmetric difference operator\n",
      "Identity: {}\n",
      "Associative? Yes\n",
      "Commutative? Yes\n",
      "Elements:\n",
      "   Index   Name   Inverse  Order\n",
      "      0      {}      {}       1\n",
      "      1  {0, 2}  {0, 2}       2\n",
      "Cayley Table (showing indices):\n",
      "[[0, 1], [1, 0]]\n",
      "\n",
      "Group: PS3_subgroup_1\n",
      "Instance ID: 140665816934736\n",
      "Description: Subgroup of: Autogenerated Group on the powerset of 3 elements, with symmetric difference operator\n",
      "Identity: {}\n",
      "Associative? Yes\n",
      "Commutative? Yes\n",
      "Elements:\n",
      "   Index   Name   Inverse  Order\n",
      "      0      {}      {}       1\n",
      "      1     {0}     {0}       2\n",
      "      2  {1, 2}  {1, 2}       2\n",
      "      3 {0, 1, 2} {0, 1, 2}       2\n",
      "Cayley Table (showing indices):\n",
      "[[0, 1, 2, 3], [1, 0, 3, 2], [2, 3, 0, 1], [3, 2, 1, 0]]\n"
     ]
    }
   ],
   "source": [
    ">>> _ = [subgroup[0].about() for subgroup in unique_subgroups]"
   ]
  },
  {
   "cell_type": "markdown",
   "id": "9bfe12d4",
   "metadata": {},
   "source": [
    "## Built-In Examples"
   ]
  },
  {
   "cell_type": "markdown",
   "id": "c56df4a9",
   "metadata": {},
   "source": [
    "``Examples`` is a convenience class for accessing some of the example algebras in the algebras directory.  To add or subtract algebras to its default list, see the file, 'examples.json', in the algebras directory."
   ]
  },
  {
   "cell_type": "code",
   "execution_count": 67,
   "id": "f57ea685",
   "metadata": {},
   "outputs": [
    {
     "name": "stdout",
     "output_type": "stream",
     "text": [
      "======================================================================\n",
      "                           Example Algebras\n",
      "----------------------------------------------------------------------\n",
      "  9 example algebras are available.\n",
      "  Use \"get_example(INDEX)\" to retrieve a specific example,\n",
      "  where INDEX is the first number on each line below:\n",
      "----------------------------------------------------------------------\n",
      "0: A4 -- Alternating group on 4 letters (AKA Tetrahedral group)\n",
      "1: D3 -- https://en.wikipedia.org/wiki/Dihedral_group_of_order_6\n",
      "2: D4 -- Dihedral group on four vertices\n",
      "3: Pinter29 -- Non-abelian group, p.29, 'A Book of Abstract Algebra' by Charles C. Pinter\n",
      "4: RPS -- Rock, Paper, Scissors Magma\n",
      "5: S3 -- Symmetric group on 3 letters\n",
      "6: S3X -- Another version of the symmetric group on 3 letters\n",
      "7: V4 -- Klein-4 group\n",
      "8: Z4 -- Cyclic group of order 4\n",
      "======================================================================\n"
     ]
    }
   ],
   "source": [
    "from finite_algebras import Examples\n",
    "\n",
    "ex = Examples(alg_dir)  # Requires path to directory containing algebras' JSON files"
   ]
  },
  {
   "cell_type": "code",
   "execution_count": 68,
   "id": "6b08dd44",
   "metadata": {
    "scrolled": false
   },
   "outputs": [
    {
     "name": "stdout",
     "output_type": "stream",
     "text": [
      "\n",
      "Group: Pinter29\n",
      "Instance ID: 140665816983824\n",
      "Description: Non-abelian group, p.29, 'A Book of Abstract Algebra' by Charles C. Pinter\n",
      "Identity: I\n",
      "Associative? Yes\n",
      "Commutative? No\n",
      "Elements:\n",
      "   Index   Name   Inverse  Order\n",
      "      0       I       I       1\n",
      "      1       A       A       2\n",
      "      2       B       D       3\n",
      "      3       C       C       2\n",
      "      4       D       B       3\n",
      "      5       K       K       2\n",
      "Cayley Table (showing indices):\n",
      "[[0, 1, 2, 3, 4, 5],\n",
      " [1, 0, 3, 2, 5, 4],\n",
      " [2, 5, 4, 1, 0, 3],\n",
      " [3, 4, 5, 0, 1, 2],\n",
      " [4, 3, 0, 5, 2, 1],\n",
      " [5, 2, 1, 4, 3, 0]]\n"
     ]
    }
   ],
   "source": [
    "grp = ex.get_example(3)\n",
    "grp.about()"
   ]
  },
  {
   "cell_type": "markdown",
   "id": "a3bee70e",
   "metadata": {},
   "source": [
    "## Cayley Tables"
   ]
  },
  {
   "cell_type": "markdown",
   "id": "e700d1f4",
   "metadata": {},
   "source": [
    "Under normal usage, there should be no need to directly create Cayley Tables. This section, however, provides a brief glimse at the ``CayleyTable`` class.\n",
    "\n",
    "All of the properties of a finite algebra can be determined from its Cayley Table, or in the case of this Python module, its ``CayleyTable``.  That functionality is passed through to the appropriate methods of the various algebras.  Below, is a demonstration of how **distributivity** between two binary operations can be determined using their Cayley Tables."
   ]
  },
  {
   "cell_type": "markdown",
   "id": "fae2b771",
   "metadata": {},
   "source": [
    "The two tables, below, were generated from the powerset of a 3 element set, where \"addition\" is **symmetric difference** and \"multiplication\" is **intersection**.  Recall, the order of the powerset is $2^n$, where $n$ is the size of the set."
   ]
  },
  {
   "cell_type": "markdown",
   "id": "8351de32",
   "metadata": {},
   "source": [
    "The element names are simply the string representations of the sets in the powerset:\n",
    "\n",
    "['{}', '{0}', '{1}', '{2}', '{0, 1}', '{0, 2}', '{1, 2}', '{0, 1, 2}']\n",
    "\n",
    "And the tables, below, contain the positions (indices) of the 8 elements in the powerset:"
   ]
  },
  {
   "cell_type": "code",
   "execution_count": 69,
   "id": "daa6db19",
   "metadata": {},
   "outputs": [],
   "source": [
    "addtbl = [[0, 1, 2, 3, 4, 5, 6, 7],\n",
    "          [1, 0, 4, 5, 2, 3, 7, 6],\n",
    "          [2, 4, 0, 6, 1, 7, 3, 5],\n",
    "          [3, 5, 6, 0, 7, 1, 2, 4],\n",
    "          [4, 2, 1, 7, 0, 6, 5, 3],\n",
    "          [5, 3, 7, 1, 6, 0, 4, 2],\n",
    "          [6, 7, 3, 2, 5, 4, 0, 1],\n",
    "          [7, 6, 5, 4, 3, 2, 1, 0]]"
   ]
  },
  {
   "cell_type": "code",
   "execution_count": 70,
   "id": "46c38f7c",
   "metadata": {},
   "outputs": [],
   "source": [
    "multbl = [[0, 0, 0, 0, 0, 0, 0, 0],\n",
    "          [0, 1, 0, 0, 1, 1, 0, 1],\n",
    "          [0, 0, 2, 0, 2, 0, 2, 2],\n",
    "          [0, 0, 0, 3, 0, 3, 3, 3],\n",
    "          [0, 1, 2, 0, 4, 1, 2, 4],\n",
    "          [0, 1, 0, 3, 1, 5, 3, 5],\n",
    "          [0, 0, 2, 3, 2, 3, 6, 6],\n",
    "          [0, 1, 2, 3, 4, 5, 6, 7]]"
   ]
  },
  {
   "cell_type": "code",
   "execution_count": 71,
   "id": "d69f2959",
   "metadata": {},
   "outputs": [],
   "source": [
    "from cayley_table import CayleyTable"
   ]
  },
  {
   "cell_type": "code",
   "execution_count": 72,
   "id": "f27bcb84",
   "metadata": {},
   "outputs": [
    {
     "name": "stdout",
     "output_type": "stream",
     "text": [
      "  Order  Associative?  Commutative?  Left Id?  Right Id?  Identity?  Inverses?\n",
      "-------------------------------------------------------------------------------------\n",
      "     8        True         True            0         0          0       True\n"
     ]
    }
   ],
   "source": [
    "addct = CayleyTable(addtbl)\n",
    "addct.about(True)"
   ]
  },
  {
   "cell_type": "code",
   "execution_count": 73,
   "id": "edbe0bc2",
   "metadata": {
    "scrolled": true
   },
   "outputs": [
    {
     "name": "stdout",
     "output_type": "stream",
     "text": [
      "  Order  Associative?  Commutative?  Left Id?  Right Id?  Identity?  Inverses?\n",
      "-------------------------------------------------------------------------------------\n",
      "     8        True         True            7         7          7      False\n"
     ]
    }
   ],
   "source": [
    "mulct = CayleyTable(multbl)\n",
    "mulct.about(True)"
   ]
  },
  {
   "cell_type": "markdown",
   "id": "661ce496",
   "metadata": {},
   "source": [
    "### Checking Tables for Distributivity"
   ]
  },
  {
   "cell_type": "markdown",
   "id": "e576a619",
   "metadata": {},
   "source": [
    "Multiplication distributes over addition."
   ]
  },
  {
   "cell_type": "code",
   "execution_count": 74,
   "id": "5e6e2ac3",
   "metadata": {},
   "outputs": [
    {
     "data": {
      "text/plain": [
       "True"
      ]
     },
     "execution_count": 74,
     "metadata": {},
     "output_type": "execute_result"
    }
   ],
   "source": [
    "mulct.distributes_over(addct)"
   ]
  },
  {
   "cell_type": "markdown",
   "id": "78feb06a",
   "metadata": {},
   "source": [
    "But, addition does not distribute over multiplication."
   ]
  },
  {
   "cell_type": "code",
   "execution_count": 75,
   "id": "d9efe499",
   "metadata": {},
   "outputs": [
    {
     "data": {
      "text/plain": [
       "False"
      ]
     },
     "execution_count": 75,
     "metadata": {},
     "output_type": "execute_result"
    }
   ],
   "source": [
    "addct.distributes_over(mulct)"
   ]
  },
  {
   "cell_type": "markdown",
   "id": "a9273f49",
   "metadata": {},
   "source": [
    "## Resources"
   ]
  },
  {
   "cell_type": "markdown",
   "id": "4a962dd4",
   "metadata": {},
   "source": [
    "* <b>Book</b>: [\"Visual Group Theory\" by Nathan Carter](https://bookstore.ams.org/clrm-32)\n",
    "* [Group Explorer](https://nathancarter.github.io/group-explorer/index.html) -- Visualization software for the abstract algebra classroom\n",
    "* [Groupprops, The Group Properties Wiki (beta)](https://groupprops.subwiki.org/wiki/Main_Page)\n",
    "* [GroupNames](https://people.maths.bris.ac.uk/~matyd/GroupNames/index.html) -- \"A database, under construction, of names, extensions, properties and character tables of finite groups of small order.\"\n",
    "* [GAP](https://www.gap-system.org/#:~:text=What%20is%20GAP%3F,data%20libraries%20of%20algebraic%20objects.) -- \"Groups, Algorithms, Programming - a System for Computational Discrete Algebra\"\n",
    "* [Groups of small order](http://www.math.ucsd.edu/~atparris/small_groups.html): Compiled by John Pedersen, Dept of Mathematics, University of South Florida\n",
    "* [List of small groups](https://en.wikipedia.org/wiki/List_of_small_groups): Finite groups of small order up to group isomorphism\n",
    "* [Classification of Groups of Order n ≤ 8 (PDF)](http://www2.lawrence.edu/fast/corrys/Math300/8Groups.pdf)\n",
    "* [Subgroups of Order 4 (PDF)](http://newton.uor.edu/facultyfolder/beery/abstract_algebra/08_SbgrpsOrder4.pdf)\n",
    "* Klein four-group, V4\n",
    "  * [Wikipedia](https://en.wikipedia.org/wiki/Klein_four-group)\n",
    "  * [Group Explorer](https://github.com/nathancarter/group-explorer/blob/master/groups/V_4.group)\n",
    "* Cyclic group\n",
    "  * [Wikipedia](https://en.wikipedia.org/wiki/Cyclic_group)\n",
    "  * [Z4, cyclic group of order 4](https://github.com/nathancarter/group-explorer/blob/master/groups/Z_4.group)\n",
    "* Symmetric group\n",
    "  * [Symmetric group on 3 letters](https://github.com/nathancarter/group-explorer/blob/master/groups/S_3.group). Another name for this group is <i>\"Dihedral group on 3 vertices\"</i>\n",
    "* [Groupoids and Smarandache Groupoids](https://arxiv.org/ftp/math/papers/0304/0304490.pdf) by W. B. Vasantha Kandasamy\n",
    "* [\"Rings and Fields\"](http://www-groups.mcs.st-andrews.ac.uk/~john/MT4517/index.html), John O'Connor & Edmund Robertson, School of Math. & Stat., Univ. of St Andrews, Scotland"
   ]
  }
 ],
 "metadata": {
  "kernelspec": {
   "display_name": "Python 3",
   "language": "python",
   "name": "python3"
  },
  "language_info": {
   "codemirror_mode": {
    "name": "ipython",
    "version": 3
   },
   "file_extension": ".py",
   "mimetype": "text/x-python",
   "name": "python",
   "nbconvert_exporter": "python",
   "pygments_lexer": "ipython3",
   "version": "3.7.7"
  }
 },
 "nbformat": 4,
 "nbformat_minor": 5
}
