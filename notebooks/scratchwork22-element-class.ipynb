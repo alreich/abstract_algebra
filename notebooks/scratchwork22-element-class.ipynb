{
 "cells": [
  {
   "cell_type": "markdown",
   "id": "f173c05c",
   "metadata": {},
   "source": [
    "# Element Class"
   ]
  },
  {
   "cell_type": "markdown",
   "id": "bb3e30fa",
   "metadata": {},
   "source": [
    "Exploring ways to turn elements from string names into objects that can be added/multiplied."
   ]
  },
  {
   "cell_type": "code",
   "execution_count": 1,
   "id": "6b1d9e25",
   "metadata": {},
   "outputs": [],
   "source": [
    "from finite_algebras import *"
   ]
  },
  {
   "cell_type": "code",
   "execution_count": 2,
   "id": "a26deae0",
   "metadata": {},
   "outputs": [],
   "source": [
    "class Element():\n",
    "    \n",
    "    def __init__(self, name, algebra):\n",
    "        \n",
    "        self.__can_add = False\n",
    "        self.__can_subtract = False\n",
    "        self.__can_multiply = False\n",
    "        self.__can_divide = False\n",
    "        \n",
    "        if isinstance(algebra, FiniteAlgebra):\n",
    "            self.__algebra = algebra\n",
    "            self.__can_add = True\n",
    "            self.__can_subtract = self.__algebra.has_inverses()\n",
    "            if isinstance(algebra, Ring):\n",
    "                self.__can_multiply = True\n",
    "                if isinstance(algebra, Field):\n",
    "                    self.__can_divide = True\n",
    "        else:\n",
    "            raise ValueError(f\"algebra must be a FiniteAlgebra\")\n",
    "            \n",
    "        if isinstance(name, str):\n",
    "            if name in self.__algebra:\n",
    "                self.__name = name\n",
    "            else:\n",
    "                raise ValueError(f\"name must be an element of algebra\")\n",
    "        else:\n",
    "            raise ValueError(f\"name must be a string\")\n",
    "\n",
    "    @property\n",
    "    def name(self):\n",
    "        return self.__name\n",
    "    \n",
    "    @property\n",
    "    def algebra(self):\n",
    "        return self.__algebra\n",
    "    \n",
    "    @property\n",
    "    def can_add(self):\n",
    "        return True\n",
    "    \n",
    "    @property\n",
    "    def can_subtract(self):\n",
    "        return self.__can_subtract\n",
    "    \n",
    "    @property\n",
    "    def can_multiply(self):\n",
    "        return self.__can_multiply\n",
    "    \n",
    "    @property\n",
    "    def can_divide(self):\n",
    "        return self.__can_divide\n",
    "    \n",
    "    def __str__(self):\n",
    "        return self.__name\n",
    "    \n",
    "    def __repr__(self):\n",
    "        return repr(self.__name)\n",
    "    \n",
    "    def __add__(self, other):\n",
    "        elem = self.__algebra.op(self.__name, other.name)\n",
    "        return Element(elem, self.__algebra)\n",
    "    \n",
    "    def __sub__(self, other):\n",
    "        if self.__can_subtract:\n",
    "            elem = self.__algebra.sub(self.__name, other.name)\n",
    "            return Element(elem, self.__algebra)\n",
    "        else:\n",
    "            raise ValueError(f\"{self.__algebra.name} does not support subtraction\")\n",
    "    \n",
    "    def __neg__(self):\n",
    "        if self.__can_subtract:\n",
    "            elem = self.__algebra.inv(self.__name)\n",
    "            return Element(elem, self.__algebra)\n",
    "            \n",
    "    def __mul__(self, other):\n",
    "        if self.__can_multiply:\n",
    "            elem = self.__algebra.mult(self.__name, other.name)\n",
    "            return Element(elem, self.__algebra)\n",
    "        else:\n",
    "            raise ValueError(f\"{self.__algebra.name} does not support multiplication\")\n",
    "    \n",
    "    def __truediv__(self, other):\n",
    "        if self.__can_divide:\n",
    "            elem = self.__algebra.div(self.__name, other.name)\n",
    "            return Element(elem, self.__algebra)\n",
    "        else:\n",
    "            raise ValueError(f\"{self.__algebra.name} does not support division\")\n",
    "    \n",
    "    def __pow__(self, n):\n",
    "        result = self\n",
    "        if self.__can_multiply:\n",
    "            if isinstance(n, int) and n > 0:\n",
    "                for _ in range(n - 1):\n",
    "                    result = result * self\n",
    "            else:\n",
    "                raise ValueError(f\"n = {n}, but the power must be a positive integer.\")\n",
    "        else:\n",
    "            raise ValueError(f\"{self.__algebra.name} does not support multiplication\")\n",
    "        return result\n",
    "    \n",
    "    def __key(self):\n",
    "        return tuple([self.__name, self.__algebra.__hash__()])\n",
    "\n",
    "    def __hash__(self):\n",
    "        return hash(self.__key)\n",
    "\n",
    "    def __eq__(self, other):\n",
    "        if isinstance(other, Element):\n",
    "            return self.__key() == other.__key() and self.__algebra == other.algebra\n",
    "        else:\n",
    "            return NotImplemented"
   ]
  },
  {
   "cell_type": "code",
   "execution_count": 3,
   "id": "373adb08",
   "metadata": {},
   "outputs": [],
   "source": [
    "def element_map(algebra):\n",
    "    \"\"\"Returns a dictionary where element names (str) are keys and the corresponding Elements\n",
    "    are the values.\"\"\"\n",
    "    return {elem : Element(elem, algebra) for elem in algebra.elements}"
   ]
  },
  {
   "cell_type": "code",
   "execution_count": 36,
   "id": "efea20b7",
   "metadata": {},
   "outputs": [],
   "source": [
    "class Algebra:\n",
    "    \"\"\"Creates a context manager for doing finite algebra calculations.\n",
    "    Example:\n",
    "    >>> with Algebra(s3) as f:\n",
    "    >>>     print(f['(2, 1, 3)']+ f['(3, 2, 1)'])\n",
    "    \"\"\"\n",
    "    def __init__(self, algebra):\n",
    "        self.element_map = element_map(algebra)\n",
    "    def __enter__(self):\n",
    "        return self.element_map\n",
    "    def __exit__(self, type, value, traceback):\n",
    "        pass"
   ]
  },
  {
   "cell_type": "markdown",
   "id": "bfdb91f7",
   "metadata": {},
   "source": [
    "## Test Group"
   ]
  },
  {
   "cell_type": "code",
   "execution_count": 4,
   "id": "e090833e",
   "metadata": {
    "scrolled": true
   },
   "outputs": [
    {
     "name": "stdout",
     "output_type": "stream",
     "text": [
      "\n",
      "** Group **\n",
      "Name: S3\n",
      "Instance ID: 4599729680\n",
      "Description: Autogenerated symmetric Group on 3 elements\n",
      "Order: 6\n",
      "Identity: '(1, 2, 3)'\n",
      "Commutative? No\n",
      "Cyclic?: No\n",
      "Elements:\n",
      "   Index   Name   Inverse  Order\n",
      "      0 '(1, 2, 3)' '(1, 2, 3)'       1\n",
      "      1 '(1, 3, 2)' '(1, 3, 2)'       2\n",
      "      2 '(2, 1, 3)' '(2, 1, 3)'       2\n",
      "      3 '(2, 3, 1)' '(3, 1, 2)'       3\n",
      "      4 '(3, 1, 2)' '(2, 3, 1)'       3\n",
      "      5 '(3, 2, 1)' '(3, 2, 1)'       2\n",
      "Cayley Table (showing names):\n",
      "[['(1, 2, 3)', '(1, 3, 2)', '(2, 1, 3)', '(2, 3, 1)', '(3, 1, 2)', '(3, 2, 1)'],\n",
      " ['(1, 3, 2)', '(1, 2, 3)', '(3, 1, 2)', '(3, 2, 1)', '(2, 1, 3)', '(2, 3, 1)'],\n",
      " ['(2, 1, 3)', '(2, 3, 1)', '(1, 2, 3)', '(1, 3, 2)', '(3, 2, 1)', '(3, 1, 2)'],\n",
      " ['(2, 3, 1)', '(2, 1, 3)', '(3, 2, 1)', '(3, 1, 2)', '(1, 2, 3)', '(1, 3, 2)'],\n",
      " ['(3, 1, 2)', '(3, 2, 1)', '(1, 3, 2)', '(1, 2, 3)', '(2, 3, 1)', '(2, 1, 3)'],\n",
      " ['(3, 2, 1)', '(3, 1, 2)', '(2, 3, 1)', '(2, 1, 3)', '(1, 3, 2)', '(1, 2, 3)']]\n"
     ]
    }
   ],
   "source": [
    "s3 = generate_symmetric_group(3)\n",
    "s3.about(use_table_names=True)"
   ]
  },
  {
   "cell_type": "code",
   "execution_count": 5,
   "id": "0f5407b4",
   "metadata": {},
   "outputs": [
    {
     "data": {
      "text/plain": [
       "'(2, 1, 3)'"
      ]
     },
     "execution_count": 5,
     "metadata": {},
     "output_type": "execute_result"
    }
   ],
   "source": [
    "a1 = Element('(2, 1, 3)', s3)\n",
    "a1"
   ]
  },
  {
   "cell_type": "code",
   "execution_count": 6,
   "id": "135fd567",
   "metadata": {},
   "outputs": [
    {
     "name": "stdout",
     "output_type": "stream",
     "text": [
      "True\n",
      "True\n",
      "False\n",
      "False\n"
     ]
    }
   ],
   "source": [
    "elem = a1\n",
    "print(elem.can_add)\n",
    "print(elem.can_subtract)\n",
    "print(elem.can_multiply)\n",
    "print(elem.can_divide)"
   ]
  },
  {
   "cell_type": "code",
   "execution_count": 7,
   "id": "76eb8064",
   "metadata": {},
   "outputs": [
    {
     "data": {
      "text/plain": [
       "'(3, 2, 1)'"
      ]
     },
     "execution_count": 7,
     "metadata": {},
     "output_type": "execute_result"
    }
   ],
   "source": [
    "a2 = Element('(3, 2, 1)', s3)\n",
    "a2"
   ]
  },
  {
   "cell_type": "code",
   "execution_count": 8,
   "id": "a20bd989",
   "metadata": {},
   "outputs": [
    {
     "data": {
      "text/plain": [
       "'(3, 1, 2)'"
      ]
     },
     "execution_count": 8,
     "metadata": {},
     "output_type": "execute_result"
    }
   ],
   "source": [
    "a1 + a2"
   ]
  },
  {
   "cell_type": "code",
   "execution_count": 9,
   "id": "dd7ecf27",
   "metadata": {},
   "outputs": [
    {
     "data": {
      "text/plain": [
       "True"
      ]
     },
     "execution_count": 9,
     "metadata": {},
     "output_type": "execute_result"
    }
   ],
   "source": [
    "(a2 - a1) + a1 == a2"
   ]
  },
  {
   "cell_type": "code",
   "execution_count": 10,
   "id": "8aa5d3f5",
   "metadata": {},
   "outputs": [
    {
     "name": "stdout",
     "output_type": "stream",
     "text": [
      "S3 does not support multiplication\n"
     ]
    }
   ],
   "source": [
    "try:\n",
    "    print(a1 * a2)\n",
    "except Exception as exc:\n",
    "    print(exc)"
   ]
  },
  {
   "cell_type": "code",
   "execution_count": 11,
   "id": "7fa506d2",
   "metadata": {},
   "outputs": [
    {
     "name": "stdout",
     "output_type": "stream",
     "text": [
      "S3 does not support division\n"
     ]
    }
   ],
   "source": [
    "try:\n",
    "    print(a1 / a2)\n",
    "except Exception as exc:\n",
    "    print(exc)"
   ]
  },
  {
   "cell_type": "code",
   "execution_count": 12,
   "id": "a82afbb4",
   "metadata": {},
   "outputs": [
    {
     "data": {
      "text/plain": [
       "'(2, 3, 1)'"
      ]
     },
     "execution_count": 12,
     "metadata": {},
     "output_type": "execute_result"
    }
   ],
   "source": [
    "a3 = Element('(2, 3, 1)', s3)\n",
    "a3"
   ]
  },
  {
   "cell_type": "code",
   "execution_count": 13,
   "id": "02678785",
   "metadata": {},
   "outputs": [
    {
     "data": {
      "text/plain": [
       "'(3, 1, 2)'"
      ]
     },
     "execution_count": 13,
     "metadata": {},
     "output_type": "execute_result"
    }
   ],
   "source": [
    "-a3"
   ]
  },
  {
   "cell_type": "code",
   "execution_count": 14,
   "id": "c3b912cf",
   "metadata": {},
   "outputs": [
    {
     "name": "stdout",
     "output_type": "stream",
     "text": [
      "S3 does not support multiplication\n"
     ]
    }
   ],
   "source": [
    "try:\n",
    "    print(a1**2)\n",
    "except Exception as exc:\n",
    "    print(exc)"
   ]
  },
  {
   "cell_type": "code",
   "execution_count": null,
   "id": "6fc30132",
   "metadata": {},
   "outputs": [],
   "source": []
  },
  {
   "cell_type": "code",
   "execution_count": 48,
   "id": "02938b87",
   "metadata": {},
   "outputs": [
    {
     "name": "stdout",
     "output_type": "stream",
     "text": [
      "(3, 1, 2)\n"
     ]
    }
   ],
   "source": [
    "with Algebra(s3) as f:\n",
    "    print(f['(2, 1, 3)']+ f['(3, 2, 1)'])"
   ]
  },
  {
   "cell_type": "code",
   "execution_count": null,
   "id": "a12bee2b",
   "metadata": {},
   "outputs": [],
   "source": []
  },
  {
   "cell_type": "markdown",
   "id": "86b743bf",
   "metadata": {},
   "source": [
    "## Test Monoid"
   ]
  },
  {
   "cell_type": "code",
   "execution_count": 15,
   "id": "b9fe7a29",
   "metadata": {
    "scrolled": true
   },
   "outputs": [
    {
     "name": "stdout",
     "output_type": "stream",
     "text": [
      "\n",
      "** Monoid **\n",
      "Name: M5\n",
      "Instance ID: 4599951568\n",
      "Description: Autogenerated commutative Monoid of order 5\n",
      "Order: 5\n",
      "Identity: a1\n",
      "Associative? Yes\n",
      "Commutative? Yes\n",
      "Cyclic?: No\n",
      "Elements: ['a0', 'a1', 'a2', 'a3', 'a4']\n",
      "Has Inverses? No\n",
      "Cayley Table (showing names):\n",
      "[['a0', 'a0', 'a0', 'a0', 'a0'],\n",
      " ['a0', 'a1', 'a2', 'a3', 'a4'],\n",
      " ['a0', 'a2', 'a4', 'a1', 'a3'],\n",
      " ['a0', 'a3', 'a1', 'a4', 'a2'],\n",
      " ['a0', 'a4', 'a3', 'a2', 'a1']]\n"
     ]
    }
   ],
   "source": [
    "m5 = generate_commutative_monoid(5)\n",
    "m5.about(use_table_names=True)"
   ]
  },
  {
   "cell_type": "code",
   "execution_count": 16,
   "id": "1b6376ea",
   "metadata": {},
   "outputs": [],
   "source": [
    "b2 = Element('a2', m5)\n",
    "b3 = Element('a3', m5)"
   ]
  },
  {
   "cell_type": "code",
   "execution_count": 17,
   "id": "ee4dc42f",
   "metadata": {},
   "outputs": [
    {
     "name": "stdout",
     "output_type": "stream",
     "text": [
      "True\n",
      "False\n",
      "False\n",
      "False\n"
     ]
    }
   ],
   "source": [
    "elem = b2\n",
    "print(elem.can_add)\n",
    "print(elem.can_subtract)\n",
    "print(elem.can_multiply)\n",
    "print(elem.can_divide)"
   ]
  },
  {
   "cell_type": "code",
   "execution_count": 18,
   "id": "939d86b3",
   "metadata": {},
   "outputs": [
    {
     "data": {
      "text/plain": [
       "'a1'"
      ]
     },
     "execution_count": 18,
     "metadata": {},
     "output_type": "execute_result"
    }
   ],
   "source": [
    "b2 + b3"
   ]
  },
  {
   "cell_type": "code",
   "execution_count": 19,
   "id": "732cfb2c",
   "metadata": {},
   "outputs": [
    {
     "name": "stdout",
     "output_type": "stream",
     "text": [
      "M5 does not support subtraction\n"
     ]
    }
   ],
   "source": [
    "try:\n",
    "    print(b2 - b3)\n",
    "except Exception as exc:\n",
    "    print(exc)"
   ]
  },
  {
   "cell_type": "markdown",
   "id": "0dcd42f4",
   "metadata": {},
   "source": [
    "## Test Field"
   ]
  },
  {
   "cell_type": "code",
   "execution_count": 20,
   "id": "bdcdfc0e",
   "metadata": {},
   "outputs": [
    {
     "name": "stdout",
     "output_type": "stream",
     "text": [
      "\n",
      "** Field **\n",
      "Name: F5\n",
      "Instance ID: 4592700752\n",
      "Description: Autogenerated Field of integers mod 5\n",
      "Order: 5\n",
      "Identity: 'a0'\n",
      "Commutative? Yes\n",
      "Cyclic?: Yes\n",
      "  Generators: ['a1', 'a2', 'a3', 'a4']\n",
      "Elements:\n",
      "   Index   Name   Inverse  Order\n",
      "      0    'a0'    'a0'       1\n",
      "      1    'a1'    'a4'       5\n",
      "      2    'a2'    'a3'       5\n",
      "      3    'a3'    'a2'       5\n",
      "      4    'a4'    'a1'       5\n",
      "Cayley Table (showing indices):\n",
      "[[0, 1, 2, 3, 4],\n",
      " [1, 2, 3, 4, 0],\n",
      " [2, 3, 4, 0, 1],\n",
      " [3, 4, 0, 1, 2],\n",
      " [4, 0, 1, 2, 3]]\n",
      "Mult. Identity: 'a1'\n",
      "Mult. Commutative? Yes\n",
      "Zero Divisors: None\n",
      "Multiplicative Cayley Table (showing indices):\n",
      "[[0, 0, 0, 0, 0],\n",
      " [0, 1, 2, 3, 4],\n",
      " [0, 2, 4, 1, 3],\n",
      " [0, 3, 1, 4, 2],\n",
      " [0, 4, 3, 2, 1]]\n"
     ]
    }
   ],
   "source": [
    "f5 = generate_algebra_mod_n(5)\n",
    "f5.about()"
   ]
  },
  {
   "cell_type": "code",
   "execution_count": 21,
   "id": "2ea221a9",
   "metadata": {},
   "outputs": [],
   "source": [
    "c0 = Element('a0', f5)"
   ]
  },
  {
   "cell_type": "code",
   "execution_count": 22,
   "id": "5818dee8",
   "metadata": {},
   "outputs": [
    {
     "name": "stdout",
     "output_type": "stream",
     "text": [
      "True\n",
      "True\n",
      "True\n",
      "True\n"
     ]
    }
   ],
   "source": [
    "elem = c1\n",
    "print(elem.can_add)\n",
    "print(elem.can_subtract)\n",
    "print(elem.can_multiply)\n",
    "print(elem.can_divide)"
   ]
  },
  {
   "cell_type": "code",
   "execution_count": 50,
   "id": "4307dd28",
   "metadata": {},
   "outputs": [
    {
     "name": "stdout",
     "output_type": "stream",
     "text": [
      "a0\n",
      "a4\n",
      "a1\n",
      "a4\n"
     ]
    }
   ],
   "source": [
    "with Algebra(f5) as f:\n",
    "    print(f['a2'] + f['a3'])\n",
    "    print(f['a2'] - f['a3'])\n",
    "    print(f['a2'] * f['a3'])\n",
    "    print(f['a2'] / f['a3'])"
   ]
  },
  {
   "cell_type": "code",
   "execution_count": 24,
   "id": "fb82f010",
   "metadata": {},
   "outputs": [
    {
     "name": "stdout",
     "output_type": "stream",
     "text": [
      "a2^4 = a1\n"
     ]
    }
   ],
   "source": [
    "k = 4\n",
    "elem = c1\n",
    "print(f\"{elem}^{k} = {elem**k}\")"
   ]
  },
  {
   "cell_type": "code",
   "execution_count": 25,
   "id": "44bec663",
   "metadata": {},
   "outputs": [
    {
     "name": "stdout",
     "output_type": "stream",
     "text": [
      "n = 4.7, but the power must be a positive integer.\n"
     ]
    }
   ],
   "source": [
    "try:\n",
    "    print(c1**4.7)\n",
    "except Exception as exc:\n",
    "    print(exc)"
   ]
  },
  {
   "cell_type": "markdown",
   "id": "458341ee",
   "metadata": {},
   "source": [
    "## Test Ring"
   ]
  },
  {
   "cell_type": "code",
   "execution_count": 26,
   "id": "89019de2",
   "metadata": {},
   "outputs": [
    {
     "name": "stdout",
     "output_type": "stream",
     "text": [
      "\n",
      "** Ring **\n",
      "Name: R6\n",
      "Instance ID: 4600205136\n",
      "Description: Autogenerated Ring of integers mod 6\n",
      "Order: 6\n",
      "Identity: 'a0'\n",
      "Commutative? Yes\n",
      "Cyclic?: Yes\n",
      "  Generators: ['a1', 'a5']\n",
      "Elements:\n",
      "   Index   Name   Inverse  Order\n",
      "      0    'a0'    'a0'       1\n",
      "      1    'a1'    'a5'       6\n",
      "      2    'a2'    'a4'       3\n",
      "      3    'a3'    'a3'       2\n",
      "      4    'a4'    'a2'       3\n",
      "      5    'a5'    'a1'       6\n",
      "Cayley Table (showing indices):\n",
      "[[0, 1, 2, 3, 4, 5],\n",
      " [1, 2, 3, 4, 5, 0],\n",
      " [2, 3, 4, 5, 0, 1],\n",
      " [3, 4, 5, 0, 1, 2],\n",
      " [4, 5, 0, 1, 2, 3],\n",
      " [5, 0, 1, 2, 3, 4]]\n",
      "Mult. Identity: 'a1'\n",
      "Mult. Commutative? Yes\n",
      "Zero Divisors: ['a2', 'a3', 'a4']\n",
      "Multiplicative Cayley Table (showing indices):\n",
      "[[0, 0, 0, 0, 0, 0],\n",
      " [0, 1, 2, 3, 4, 5],\n",
      " [0, 2, 4, 0, 2, 4],\n",
      " [0, 3, 0, 3, 0, 3],\n",
      " [0, 4, 2, 0, 4, 2],\n",
      " [0, 5, 4, 3, 2, 1]]\n"
     ]
    }
   ],
   "source": [
    "r6 = generate_algebra_mod_n(6)\n",
    "r6.about()"
   ]
  },
  {
   "cell_type": "code",
   "execution_count": 27,
   "id": "34fb952a",
   "metadata": {},
   "outputs": [],
   "source": [
    "d0 = Element('a0', r6)\n",
    "d1 = Element('a1', r6)\n",
    "d2 = Element('a2', r6)\n",
    "d3 = Element('a3', r6)"
   ]
  },
  {
   "cell_type": "code",
   "execution_count": 28,
   "id": "1bf520aa",
   "metadata": {},
   "outputs": [
    {
     "name": "stdout",
     "output_type": "stream",
     "text": [
      "True\n",
      "True\n",
      "True\n",
      "False\n"
     ]
    }
   ],
   "source": [
    "elem = d2\n",
    "print(elem.can_add)\n",
    "print(elem.can_subtract)\n",
    "print(elem.can_multiply)\n",
    "print(elem.can_divide)"
   ]
  },
  {
   "cell_type": "code",
   "execution_count": 29,
   "id": "852e1c61",
   "metadata": {},
   "outputs": [
    {
     "name": "stdout",
     "output_type": "stream",
     "text": [
      "a3\n",
      "a5\n",
      "a2\n"
     ]
    }
   ],
   "source": [
    "print(d1 + d2)\n",
    "print(d1 - d2)\n",
    "print(d1 * d2)\n",
    "#print(c1 / c2)"
   ]
  },
  {
   "cell_type": "code",
   "execution_count": 30,
   "id": "7bf96f12",
   "metadata": {
    "scrolled": true
   },
   "outputs": [
    {
     "name": "stdout",
     "output_type": "stream",
     "text": [
      "R6 does not support division\n"
     ]
    }
   ],
   "source": [
    "try:\n",
    "    print(d1 / d2)\n",
    "except Exception as exc:\n",
    "    print(exc)"
   ]
  },
  {
   "cell_type": "code",
   "execution_count": 31,
   "id": "25de0b9e",
   "metadata": {},
   "outputs": [
    {
     "name": "stdout",
     "output_type": "stream",
     "text": [
      "a2^2 = a4\n"
     ]
    }
   ],
   "source": [
    "k = 2\n",
    "elem = d2\n",
    "print(f\"{elem}^{k} = {elem**k}\")"
   ]
  },
  {
   "cell_type": "markdown",
   "id": "4fbcd933",
   "metadata": {},
   "source": [
    "## Element Maps"
   ]
  },
  {
   "cell_type": "markdown",
   "id": "cf6e69bb",
   "metadata": {},
   "source": [
    "An element map is a dictionary where the element names (strings) are the keys and their corresponding Element objects are the values."
   ]
  },
  {
   "cell_type": "code",
   "execution_count": 32,
   "id": "7c694593",
   "metadata": {},
   "outputs": [
    {
     "data": {
      "text/plain": [
       "{'(1, 2, 3)': '(1, 2, 3)',\n",
       " '(1, 3, 2)': '(1, 3, 2)',\n",
       " '(2, 1, 3)': '(2, 1, 3)',\n",
       " '(2, 3, 1)': '(2, 3, 1)',\n",
       " '(3, 1, 2)': '(3, 1, 2)',\n",
       " '(3, 2, 1)': '(3, 2, 1)'}"
      ]
     },
     "execution_count": 32,
     "metadata": {},
     "output_type": "execute_result"
    }
   ],
   "source": [
    "s3elems = element_map(s3)\n",
    "s3elems"
   ]
  },
  {
   "cell_type": "code",
   "execution_count": 33,
   "id": "05794501",
   "metadata": {},
   "outputs": [
    {
     "data": {
      "text/plain": [
       "'(1, 3, 2)'"
      ]
     },
     "execution_count": 33,
     "metadata": {},
     "output_type": "execute_result"
    }
   ],
   "source": [
    "s3elems['(1, 3, 2)']"
   ]
  },
  {
   "cell_type": "code",
   "execution_count": 34,
   "id": "be9d32ed",
   "metadata": {},
   "outputs": [
    {
     "data": {
      "text/plain": [
       "{'a0': 'a0', 'a1': 'a1', 'a2': 'a2', 'a3': 'a3', 'a4': 'a4'}"
      ]
     },
     "execution_count": 34,
     "metadata": {},
     "output_type": "execute_result"
    }
   ],
   "source": [
    "f5elems = element_map(f5)\n",
    "f5elems"
   ]
  },
  {
   "cell_type": "code",
   "execution_count": 35,
   "id": "78f0490a",
   "metadata": {},
   "outputs": [
    {
     "data": {
      "text/plain": [
       "'a2'"
      ]
     },
     "execution_count": 35,
     "metadata": {},
     "output_type": "execute_result"
    }
   ],
   "source": [
    "f5elems['a2']"
   ]
  },
  {
   "cell_type": "code",
   "execution_count": null,
   "id": "7bdbbdae",
   "metadata": {},
   "outputs": [],
   "source": []
  }
 ],
 "metadata": {
  "kernelspec": {
   "display_name": "Python 3 (ipykernel)",
   "language": "python",
   "name": "python3"
  },
  "language_info": {
   "codemirror_mode": {
    "name": "ipython",
    "version": 3
   },
   "file_extension": ".py",
   "mimetype": "text/x-python",
   "name": "python",
   "nbconvert_exporter": "python",
   "pygments_lexer": "ipython3",
   "version": "3.11.4"
  }
 },
 "nbformat": 4,
 "nbformat_minor": 5
}
