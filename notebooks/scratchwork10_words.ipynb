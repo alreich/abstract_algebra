{
 "cells": [
  {
   "cell_type": "markdown",
   "id": "e379744b",
   "metadata": {},
   "source": [
    "# Scratchwork: experimenting with \"words\""
   ]
  },
  {
   "cell_type": "code",
   "execution_count": 1,
   "id": "eaad8095",
   "metadata": {},
   "outputs": [],
   "source": [
    "import finite_algebras as alg"
   ]
  },
  {
   "cell_type": "code",
   "execution_count": 2,
   "id": "effdab79",
   "metadata": {},
   "outputs": [],
   "source": [
    "import os\n",
    "aa_path = os.path.join(os.getenv(\"PYPROJ\"), \"abstract_algebra\")\n",
    "alg_dir = os.path.join(aa_path, \"Algebras\")"
   ]
  },
  {
   "cell_type": "code",
   "execution_count": 3,
   "id": "17a4507f",
   "metadata": {},
   "outputs": [
    {
     "name": "stdout",
     "output_type": "stream",
     "text": [
      "======================================================================\n",
      "                           Example Algebras\n",
      "----------------------------------------------------------------------\n",
      "  16 example algebras are available.\n",
      "  Use \"Examples[INDEX]\" to retrieve a specific example,\n",
      "  where INDEX is the first number on each line below:\n",
      "----------------------------------------------------------------------\n",
      "0: A4 -- Alternating group on 4 letters (AKA Tetrahedral group)\n",
      "1: D3 -- https://en.wikipedia.org/wiki/Dihedral_group_of_order_6\n",
      "2: D4 -- Dihedral group on four vertices\n",
      "3: Pinter29 -- Non-abelian group, p.29, 'A Book of Abstract Algebra' by Charles C. Pinter\n",
      "4: RPS -- Rock, Paper, Scissors Magma\n",
      "5: S3 -- Symmetric group on 3 letters\n",
      "6: S3X -- Another version of the symmetric group on 3 letters\n",
      "7: V4 -- Klein-4 group\n",
      "8: Z4 -- Cyclic group of order 4\n",
      "9: F4 -- Field with 4 elements (from Wikipedia)\n",
      "10: mag_id -- Magma with Identity\n",
      "11: Example 1.4.1 -- See: Groupoids and Smarandache Groupoids by W. B. Vasantha Kandasamy\n",
      "12: Ex6 -- Example 6: http://www-groups.mcs.st-andrews.ac.uk/~john/MT4517/Lectures/L3.html\n",
      "13: Q8 -- Quaternion Group\n",
      "14: SD16 -- Semidihedral group of order 16\n",
      "15: A5 -- Alternating group on 5 letters\n",
      "======================================================================\n"
     ]
    }
   ],
   "source": [
    "ex = alg.Examples(alg_dir)"
   ]
  },
  {
   "cell_type": "markdown",
   "id": "aa0ea0f5",
   "metadata": {},
   "source": [
    "## Klein-4 Group"
   ]
  },
  {
   "cell_type": "code",
   "execution_count": 4,
   "id": "3ddc2523",
   "metadata": {},
   "outputs": [
    {
     "data": {
      "text/plain": [
       "Group(\n",
       "'V4',\n",
       "'Klein-4 group',\n",
       "['e', 'h', 'v', 'r'],\n",
       "[[0, 1, 2, 3], [1, 0, 3, 2], [2, 3, 0, 1], [3, 2, 1, 0]]\n",
       ")"
      ]
     },
     "execution_count": 4,
     "metadata": {},
     "output_type": "execute_result"
    }
   ],
   "source": [
    "v4 = ex[7]\n",
    "v4"
   ]
  },
  {
   "cell_type": "code",
   "execution_count": 5,
   "id": "af74c831",
   "metadata": {},
   "outputs": [
    {
     "name": "stdout",
     "output_type": "stream",
     "text": [
      "\n",
      "** Group **\n",
      "Name: V4\n",
      "Instance ID: 140592146921616\n",
      "Description: Klein-4 group\n",
      "Order: 4\n",
      "Identity: e\n",
      "Commutative? Yes\n",
      "Cyclic?: No\n",
      "Elements:\n",
      "   Index   Name   Inverse  Order\n",
      "      0       e       e       1\n",
      "      1       h       h       2\n",
      "      2       v       v       2\n",
      "      3       r       r       2\n",
      "Cayley Table (showing indices):\n",
      "[[0, 1, 2, 3], [1, 0, 3, 2], [2, 3, 0, 1], [3, 2, 1, 0]]\n"
     ]
    }
   ],
   "source": [
    "v4.about()"
   ]
  },
  {
   "cell_type": "markdown",
   "id": "a183190e",
   "metadata": {},
   "source": [
    "### Finite Presentation"
   ]
  },
  {
   "cell_type": "markdown",
   "id": "ff0e5b5c",
   "metadata": {},
   "source": [
    "$V_4 = \\langle h, v | h^2 = v^2 = (hv)^2 = e \\rangle$"
   ]
  },
  {
   "cell_type": "code",
   "execution_count": 6,
   "id": "b2ddf5ce",
   "metadata": {},
   "outputs": [],
   "source": [
    "import itertools as it"
   ]
  },
  {
   "cell_type": "code",
   "execution_count": 35,
   "id": "0b7fc944",
   "metadata": {},
   "outputs": [],
   "source": [
    "def cartesian_product(elems):\n",
    "    '''EXAMPLE: cartesian_product(['h', 'v'])\n",
    "    ==> ['h_h', 'h_v', 'v_h', 'v_v']'''\n",
    "    return map(lambda x: '_'.join(x),\n",
    "               it.product(elems, elems))\n",
    "\n",
    "def remove_items_from_list(lst, items):\n",
    "    '''Return the list that results from removing all items in\n",
    "    items from lst.'''\n",
    "    if items == []:\n",
    "        return lst\n",
    "    else:\n",
    "        return remove_items_from_list([x for x in lst if x != items[0]],\n",
    "                                      items[1:])\n",
    "\n",
    "def reduce_word_by_rel(word, rel):\n",
    "    rel_ = rel + '_'\n",
    "    _rel = '_' + rel\n",
    "    if word == rel:\n",
    "        return ''\n",
    "    elif rel_ in word:\n",
    "        return word.replace(rel_, '')\n",
    "    elif _rel in word:\n",
    "        return word.replace(_rel, '')\n",
    "    else:\n",
    "        return word\n",
    "    \n",
    "def reduce_word_once(word, rels):\n",
    "    if rels == []:\n",
    "        return word\n",
    "    elif rels[0] in word:\n",
    "        return reduce_word_by_rel(word, rels[0])\n",
    "    else:\n",
    "        return reduce_word_once(word, rels[1:])\n",
    "\n",
    "def reduce_word_recursively(word, rels):\n",
    "    def reduce_word_aux(old, new):\n",
    "        if new == old:\n",
    "            return new\n",
    "        else:\n",
    "            return reduce_word_aux(new, reduce_word_once(new, rels))\n",
    "    return reduce_word_aux('', word)\n",
    "\n",
    "def multiply_words_OLD(word1, word2, rels):\n",
    "    prod0 = word1 + '_' + word2\n",
    "    prod1 = reduce_word_recursively(prod0, rels)\n",
    "    return prod1\n",
    "\n",
    "def multiply_words(word1, word2, rels):\n",
    "    if word1 == '':\n",
    "        if word2 == '':\n",
    "            return ''\n",
    "        else:\n",
    "            return reduce_word_recursively(word2, rels)\n",
    "    else:\n",
    "        if word2 == '':\n",
    "            return reduce_word_recursively(word1, rels)\n",
    "        else:\n",
    "            return reduce_word_recursively(word1 + '_' + word2, rels)\n",
    "\n",
    "def reduce_words(words, rels):\n",
    "    return list(set(map(lambda x: reduce_word_recursively(x, rels),\n",
    "                        words)))"
   ]
  },
  {
   "cell_type": "markdown",
   "id": "cfdf8efd",
   "metadata": {},
   "source": [
    "Generators and Relators:"
   ]
  },
  {
   "cell_type": "code",
   "execution_count": 36,
   "id": "1c703f96",
   "metadata": {},
   "outputs": [],
   "source": [
    "gens = ['h', 'v']\n",
    "rels = ['h_h', 'v_v', 'h_v_h_v']"
   ]
  },
  {
   "cell_type": "code",
   "execution_count": 37,
   "id": "405ae3a9",
   "metadata": {},
   "outputs": [
    {
     "data": {
      "text/plain": [
       "['h_h', 'h_v', 'v_h', 'v_v']"
      ]
     },
     "execution_count": 37,
     "metadata": {},
     "output_type": "execute_result"
    }
   ],
   "source": [
    "cartprod = list(cartesian_product(gens))\n",
    "cartprod"
   ]
  },
  {
   "cell_type": "markdown",
   "id": "c53a0ffd",
   "metadata": {},
   "source": [
    "Remove relations that occur in whole form in the list:"
   ]
  },
  {
   "cell_type": "code",
   "execution_count": 38,
   "id": "3a580eae",
   "metadata": {},
   "outputs": [
    {
     "data": {
      "text/plain": [
       "['h_v', 'v_h']"
      ]
     },
     "execution_count": 38,
     "metadata": {},
     "output_type": "execute_result"
    }
   ],
   "source": [
    "new_items = remove_items_from_list(cartprod, rels)\n",
    "new_items"
   ]
  },
  {
   "cell_type": "markdown",
   "id": "886deb83",
   "metadata": {},
   "source": [
    "Add new items to the generators to create a new list of element candidates:"
   ]
  },
  {
   "cell_type": "code",
   "execution_count": 39,
   "id": "87128a98",
   "metadata": {},
   "outputs": [
    {
     "data": {
      "text/plain": [
       "['h', 'v', 'h_v', 'v_h']"
      ]
     },
     "execution_count": 39,
     "metadata": {},
     "output_type": "execute_result"
    }
   ],
   "source": [
    "elems = gens + new_items\n",
    "elems"
   ]
  },
  {
   "cell_type": "markdown",
   "id": "bdce58ce",
   "metadata": {},
   "source": [
    "Now, cross-multiply the new list of element candidates:"
   ]
  },
  {
   "cell_type": "code",
   "execution_count": 40,
   "id": "aa292e96",
   "metadata": {},
   "outputs": [
    {
     "data": {
      "text/plain": [
       "['h_h',\n",
       " 'h_v',\n",
       " 'h_h_v',\n",
       " 'h_v_h',\n",
       " 'v_h',\n",
       " 'v_v',\n",
       " 'v_h_v',\n",
       " 'v_v_h',\n",
       " 'h_v_h',\n",
       " 'h_v_v',\n",
       " 'h_v_h_v',\n",
       " 'h_v_v_h',\n",
       " 'v_h_h',\n",
       " 'v_h_v',\n",
       " 'v_h_h_v',\n",
       " 'v_h_v_h']"
      ]
     },
     "execution_count": 40,
     "metadata": {},
     "output_type": "execute_result"
    }
   ],
   "source": [
    "foo = list(cartesian_product(elems))\n",
    "foo"
   ]
  },
  {
   "cell_type": "code",
   "execution_count": 41,
   "id": "87babd82",
   "metadata": {},
   "outputs": [
    {
     "data": {
      "text/plain": [
       "['h_h_v',\n",
       " 'h_v_h',\n",
       " 'v_h_v',\n",
       " 'v_v_h',\n",
       " 'h_v_h',\n",
       " 'h_v_v',\n",
       " 'h_v_v_h',\n",
       " 'v_h_h',\n",
       " 'v_h_v',\n",
       " 'v_h_h_v',\n",
       " 'v_h_v_h']"
      ]
     },
     "execution_count": 41,
     "metadata": {},
     "output_type": "execute_result"
    }
   ],
   "source": [
    "foo = remove_items_from_list(foo, elems + rels)\n",
    "foo"
   ]
  },
  {
   "cell_type": "code",
   "execution_count": 42,
   "id": "56aee4c6",
   "metadata": {},
   "outputs": [
    {
     "data": {
      "text/plain": [
       "['', 'v_h_v_h', 'h_v_h', 'h', 'v', 'v_h_v']"
      ]
     },
     "execution_count": 42,
     "metadata": {},
     "output_type": "execute_result"
    }
   ],
   "source": [
    "foo2 = reduce_words(foo, rels)\n",
    "foo2"
   ]
  },
  {
   "cell_type": "code",
   "execution_count": 43,
   "id": "466456de",
   "metadata": {},
   "outputs": [
    {
     "data": {
      "text/plain": [
       "['', 'v_h_v_h', 'h_v_h', 'v_h_v']"
      ]
     },
     "execution_count": 43,
     "metadata": {},
     "output_type": "execute_result"
    }
   ],
   "source": [
    "foo3 = remove_items_from_list(foo2, elems + rels)\n",
    "foo3"
   ]
  },
  {
   "cell_type": "code",
   "execution_count": null,
   "id": "25d64d63",
   "metadata": {},
   "outputs": [],
   "source": []
  },
  {
   "cell_type": "code",
   "execution_count": 44,
   "id": "5d393654",
   "metadata": {},
   "outputs": [
    {
     "name": "stdout",
     "output_type": "stream",
     "text": [
      "v_h_v == h\n",
      "h_v_h == v\n"
     ]
    }
   ],
   "source": [
    "for g in gens:\n",
    "    for r in rels:\n",
    "        a = multiply_words(g, r, rels)\n",
    "        b = multiply_words(r, g, rels)\n",
    "        if a != b:\n",
    "            if len(a) >= len(b):\n",
    "                print(f\"{a} == {b}\")\n",
    "            else:\n",
    "                print(f\"{b} == {a}\")"
   ]
  },
  {
   "cell_type": "code",
   "execution_count": null,
   "id": "ec19b601",
   "metadata": {},
   "outputs": [],
   "source": []
  },
  {
   "cell_type": "code",
   "execution_count": 54,
   "id": "f47c9975",
   "metadata": {},
   "outputs": [
    {
     "data": {
      "text/plain": [
       "'h_v'"
      ]
     },
     "execution_count": 54,
     "metadata": {},
     "output_type": "execute_result"
    }
   ],
   "source": [
    "multiply_words('h', 'v', rels)"
   ]
  },
  {
   "cell_type": "code",
   "execution_count": null,
   "id": "86426828",
   "metadata": {},
   "outputs": [],
   "source": []
  },
  {
   "cell_type": "code",
   "execution_count": null,
   "id": "9a45c77d",
   "metadata": {},
   "outputs": [],
   "source": []
  },
  {
   "cell_type": "code",
   "execution_count": 55,
   "id": "727a71ef",
   "metadata": {},
   "outputs": [
    {
     "data": {
      "text/plain": [
       "['h', 'v']"
      ]
     },
     "execution_count": 55,
     "metadata": {},
     "output_type": "execute_result"
    }
   ],
   "source": [
    "gens"
   ]
  },
  {
   "cell_type": "code",
   "execution_count": 56,
   "id": "6133661c",
   "metadata": {},
   "outputs": [
    {
     "name": "stdout",
     "output_type": "stream",
     "text": [
      "[('h', 'h'), ('h', 'v'), ('v', 'h'), ('v', 'v')]\n",
      "['h_v', 'v_h']\n"
     ]
    }
   ],
   "source": [
    "pairs = list(it.product(gens, gens))\n",
    "print(pairs)\n",
    "\n",
    "fubar = list(set(map(lambda x: multiply_words(*x, rels), pairs)))\n",
    "fubar.remove('')\n",
    "print(fubar)"
   ]
  },
  {
   "cell_type": "code",
   "execution_count": 57,
   "id": "3bf0ce9e",
   "metadata": {},
   "outputs": [
    {
     "name": "stdout",
     "output_type": "stream",
     "text": [
      "[('h', 'h'), ('h', 'v'), ('h', 'h_v'), ('h', 'v_h'), ('v', 'h'), ('v', 'v'), ('v', 'h_v'), ('v', 'v_h'), ('h_v', 'h'), ('h_v', 'v'), ('h_v', 'h_v'), ('h_v', 'v_h'), ('v_h', 'h'), ('v_h', 'v'), ('v_h', 'h_v'), ('v_h', 'v_h')]\n",
      "['v_h', 'v_h_v_h', 'h_v', 'h_v_h', 'h', 'v', 'v_h_v']\n"
     ]
    }
   ],
   "source": [
    "elems = gens + fubar\n",
    "\n",
    "pairs = list(it.product(elems, elems))\n",
    "print(pairs)\n",
    "\n",
    "fubar = list(set(map(lambda x: multiply_words(*x, rels), pairs)))\n",
    "fubar.remove('')\n",
    "print(fubar)"
   ]
  },
  {
   "cell_type": "code",
   "execution_count": null,
   "id": "e4f10d04",
   "metadata": {},
   "outputs": [],
   "source": []
  },
  {
   "cell_type": "code",
   "execution_count": null,
   "id": "3a2ec77b",
   "metadata": {},
   "outputs": [],
   "source": []
  }
 ],
 "metadata": {
  "kernelspec": {
   "display_name": "Python 3 (ipykernel)",
   "language": "python",
   "name": "python3"
  },
  "language_info": {
   "codemirror_mode": {
    "name": "ipython",
    "version": 3
   },
   "file_extension": ".py",
   "mimetype": "text/x-python",
   "name": "python",
   "nbconvert_exporter": "python",
   "pygments_lexer": "ipython3",
   "version": "3.7.7"
  }
 },
 "nbformat": 4,
 "nbformat_minor": 5
}
