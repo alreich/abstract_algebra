{
 "cells": [
  {
   "cell_type": "markdown",
   "id": "6ef26608",
   "metadata": {},
   "source": [
    "# Abstract Matrices"
   ]
  },
  {
   "cell_type": "code",
   "execution_count": 15,
   "id": "4d3ccce8",
   "metadata": {},
   "outputs": [
    {
     "name": "stdout",
     "output_type": "stream",
     "text": [
      "======================================================================\n",
      "                           Example Algebras\n",
      "----------------------------------------------------------------------\n",
      "  17 example algebras are available.\n",
      "  Use \"Examples[INDEX]\" to retrieve a specific example,\n",
      "  where INDEX is the first number on each line below:\n",
      "----------------------------------------------------------------------\n",
      "0: A4 -- Alternating group on 4 letters (AKA Tetrahedral group)\n",
      "1: D3 -- https://en.wikipedia.org/wiki/Dihedral_group_of_order_6\n",
      "2: D4 -- Dihedral group on four vertices\n",
      "3: Pinter29 -- Non-abelian group, p.29, 'A Book of Abstract Algebra' by Charles C. Pinter\n",
      "4: RPS -- Rock, Paper, Scissors Magma\n",
      "5: S3 -- Symmetric group on 3 letters\n",
      "6: S3X -- Another version of the symmetric group on 3 letters\n",
      "7: V4 -- Klein-4 group\n",
      "8: Z4 -- Cyclic group of order 4\n",
      "9: F4 -- Field with 4 elements (from Wikipedia)\n",
      "10: mag_id -- Magma with Identity\n",
      "11: Example 1.4.1 -- See: Groupoids and Smarandache Groupoids by W. B. Vasantha Kandasamy\n",
      "12: Ex6 -- Example 6: http://www-groups.mcs.st-andrews.ac.uk/~john/MT4517/Lectures/L3.html\n",
      "13: Q8 -- Quaternion Group\n",
      "14: SD16 -- Semidihedral group of order 16\n",
      "15: A5 -- Alternating group on 5 letters\n",
      "16: F2 -- Field with 2 elements from paper: 236w06fields.pdf\n",
      "======================================================================\n"
     ]
    }
   ],
   "source": [
    "import finite_algebras as alg\n",
    "import numpy as np\n",
    "from abstract_matrix import AbstractMatrix\n",
    "\n",
    "import itertools as it\n",
    "\n",
    "import os\n",
    "aa_path = os.path.join(os.getenv(\"PYPROJ\"), \"abstract_algebra\")\n",
    "alg_dir = os.path.join(aa_path, \"Algebras\")\n",
    "\n",
    "ex = alg.Examples(alg_dir)"
   ]
  },
  {
   "cell_type": "markdown",
   "id": "c2e5fa3f",
   "metadata": {},
   "source": [
    "## Abstract Matrix over a Finite Field"
   ]
  },
  {
   "cell_type": "markdown",
   "id": "11541eb5",
   "metadata": {},
   "source": [
    "First, create a finite field, in this case, the [field with 4 elements from Wikipedia](https://en.wikipedia.org/wiki/Finite_field#Field_with_four_elements)."
   ]
  },
  {
   "cell_type": "code",
   "execution_count": 16,
   "id": "bb3b848d",
   "metadata": {},
   "outputs": [
    {
     "name": "stdout",
     "output_type": "stream",
     "text": [
      "\n",
      "** Field **\n",
      "Name: F2\n",
      "Instance ID: 4807836432\n",
      "Description: Field with 2 elements from paper: 236w06fields.pdf\n",
      "Order: 2\n",
      "Identity: 0\n",
      "Commutative? Yes\n",
      "Cyclic?: Yes\n",
      "  Generators: ['1']\n",
      "Elements:\n",
      "   Index   Name   Inverse  Order\n",
      "      0       0       0       1\n",
      "      1       1       1       2\n",
      "Cayley Table (showing indices):\n",
      "[[0, 1], [1, 0]]\n",
      "Mult. Identity: 1\n",
      "Mult. Commutative? Yes\n",
      "Zero Divisors: None\n",
      "Multiplicative Cayley Table (showing indices):\n",
      "[[0, 0], [0, 1]]\n"
     ]
    }
   ],
   "source": [
    "f2 = ex[16]  # No. 16 in the list above\n",
    "f2.about()"
   ]
  },
  {
   "cell_type": "code",
   "execution_count": 17,
   "id": "a3f1e070",
   "metadata": {},
   "outputs": [
    {
     "name": "stdout",
     "output_type": "stream",
     "text": [
      "\n",
      "** Field **\n",
      "Name: F4\n",
      "Instance ID: 4807886096\n",
      "Description: Field with 4 elements (from Wikipedia)\n",
      "Order: 4\n",
      "Identity: 0\n",
      "Commutative? Yes\n",
      "Cyclic?: Yes\n",
      "  Generators: ['1+a', 'a']\n",
      "Elements:\n",
      "   Index   Name   Inverse  Order\n",
      "      0       0       0       1\n",
      "      1       1       1       2\n",
      "      2       a       a       2\n",
      "      3     1+a     1+a       2\n",
      "Cayley Table (showing indices):\n",
      "[[0, 1, 2, 3], [1, 0, 3, 2], [2, 3, 0, 1], [3, 2, 1, 0]]\n",
      "Mult. Identity: 1\n",
      "Mult. Commutative? Yes\n",
      "Zero Divisors: None\n",
      "Multiplicative Cayley Table (showing indices):\n",
      "[[0, 0, 0, 0], [0, 1, 2, 3], [0, 2, 3, 1], [0, 3, 1, 2]]\n"
     ]
    }
   ],
   "source": [
    "f4 = ex[9]  # No. 9 in the list above\n",
    "f4.about()"
   ]
  },
  {
   "cell_type": "markdown",
   "id": "8cc15091",
   "metadata": {},
   "source": [
    "The class method, <i>random</i>, will create an Abstract Matrix, of a specified <i>shape</i>, with elements that are randomly chosen from a specified ring or field. (Fixed seed ONLY used to make the random call, below, repeatable.)"
   ]
  },
  {
   "cell_type": "code",
   "execution_count": 18,
   "id": "7f1fc07f",
   "metadata": {},
   "outputs": [],
   "source": [
    "def random_matrix_test(shape, algebra, seed=None):\n",
    "    if seed:\n",
    "        np.random.seed(seed)\n",
    "    mat = AbstractMatrix.random(shape, algebra)\n",
    "    det, inv = print_matrix_info(mat)\n",
    "    #print(f\"\\nRandom Matrix over {algebra.name}:\\n{mat}\")\n",
    "    return mat, det, inv\n",
    "\n",
    "def print_matrix_info(mat):\n",
    "    print(\"=\"*20)\n",
    "    print(f\"Matrix over {mat.algebra.name}:\\n{mat}\")\n",
    "    det = mat.determinant()\n",
    "    print(f\"\\nDeterminant = {det}\")\n",
    "    print(f\"\\nCofactor Matrix:\\n{mat.cofactor_matrix()}\")\n",
    "    inv = mat.inverse()\n",
    "    print(f\"\\nInverse:\\n{inv}\")\n",
    "    print(f\"\\nMatrix * Inverse:\\n{mat * mat.inverse()}\")\n",
    "    print(f\"\\nInverse * Matrix:\\n{mat.inverse() * mat}\\n\")\n",
    "    print(\"-\"*5)\n",
    "    return det, inv"
   ]
  },
  {
   "cell_type": "code",
   "execution_count": 19,
   "id": "0abe297f-ecaa-4cf0-bbf3-9df9433aaf17",
   "metadata": {},
   "outputs": [
    {
     "name": "stdout",
     "output_type": "stream",
     "text": [
      "====================\n",
      "Matrix over F4:\n",
      "[['1' '1+a' '0']\n",
      " ['0' '1+a' '1']\n",
      " ['1+a' '1' '1+a']]\n",
      "\n",
      "Determinant = 1\n",
      "\n",
      "Cofactor Matrix:\n",
      "[['1+a' '1+a' 'a']\n",
      " ['a' '1+a' '1+a']\n",
      " ['1+a' '1' '1+a']]\n",
      "\n",
      "Inverse:\n",
      "[['1+a' 'a' '1+a']\n",
      " ['1+a' '1+a' '1']\n",
      " ['a' '1+a' '1+a']]\n",
      "\n",
      "Matrix * Inverse:\n",
      "[['1' '0' '0']\n",
      " ['0' '1' '0']\n",
      " ['0' '0' '1']]\n",
      "\n",
      "Inverse * Matrix:\n",
      "[['1' '0' '0']\n",
      " ['0' '1' '0']\n",
      " ['0' '0' '1']]\n",
      "\n",
      "-----\n"
     ]
    }
   ],
   "source": [
    "m1, d1, i1 = random_matrix_test((3, 3), f4, seed=1)"
   ]
  },
  {
   "cell_type": "markdown",
   "id": "5b78a9f2",
   "metadata": {},
   "source": [
    "## Invertible 2x2 Matrices over a Finite Field"
   ]
  },
  {
   "cell_type": "markdown",
   "id": "4e7e8aa2",
   "metadata": {},
   "source": [
    "### Generate all Possible NxN Matrices over an Algebra"
   ]
  },
  {
   "cell_type": "code",
   "execution_count": 20,
   "id": "e6963e61",
   "metadata": {},
   "outputs": [],
   "source": [
    "def generate_all_NxN_matrices_over_algebra(algebra, N):\n",
    "    \"\"\"Generate list of all possible NxN matrices using elements from 'algebra'.\n",
    "    \"\"\"\n",
    "    Nsqr = N * N\n",
    "    combos = list(it.combinations_with_replacement(algebra.elements, Nsqr))\n",
    "    perms = [list(set(it.permutations(combo))) for combo in combos]\n",
    "    arrays = [AbstractMatrix(np.array((item)).reshape(N, N), algebra)\n",
    "              for p in perms for item in p]\n",
    "    return arrays\n",
    "\n",
    "def name_mapping(matrices, prefix = 'a', id_element = None, id_name = 'e'):\n",
    "    n = len(matrices)\n",
    "    nfill = len(str(n - 1))  # Number of zeros to left-fill integers in element names\n",
    "    names = [prefix + str(i).zfill(nfill) for i in range(n)]\n",
    "    if id_element:\n",
    "        names[matrices.index(id_element)] = id_name\n",
    "    return dict(zip(names, matrices))"
   ]
  },
  {
   "cell_type": "code",
   "execution_count": 21,
   "id": "8edb836f",
   "metadata": {},
   "outputs": [
    {
     "name": "stdout",
     "output_type": "stream",
     "text": [
      "16\n"
     ]
    },
    {
     "data": {
      "text/plain": [
       "[[['0' '0']\n",
       "  ['0' '0']],\n",
       " [['1' '0']\n",
       "  ['0' '0']],\n",
       " [['0' '0']\n",
       "  ['0' '1']],\n",
       " [['0' '0']\n",
       "  ['1' '0']],\n",
       " [['0' '1']\n",
       "  ['0' '0']],\n",
       " [['0' '1']\n",
       "  ['1' '0']],\n",
       " [['1' '0']\n",
       "  ['1' '0']],\n",
       " [['0' '0']\n",
       "  ['1' '1']],\n",
       " [['1' '0']\n",
       "  ['0' '1']],\n",
       " [['1' '1']\n",
       "  ['0' '0']],\n",
       " [['0' '1']\n",
       "  ['0' '1']],\n",
       " [['0' '1']\n",
       "  ['1' '1']],\n",
       " [['1' '0']\n",
       "  ['1' '1']],\n",
       " [['1' '1']\n",
       "  ['0' '1']],\n",
       " [['1' '1']\n",
       "  ['1' '0']],\n",
       " [['1' '1']\n",
       "  ['1' '1']]]"
      ]
     },
     "execution_count": 21,
     "metadata": {},
     "output_type": "execute_result"
    }
   ],
   "source": [
    "allmats = generate_all_NxN_matrices_over_algebra(f2, 2)\n",
    "print(len(allmats))\n",
    "allmats"
   ]
  },
  {
   "cell_type": "markdown",
   "id": "e301d526-6900-4b9f-9c44-f9c0427f5f74",
   "metadata": {},
   "source": [
    "## Find All Matrices with Determinant '1'"
   ]
  },
  {
   "cell_type": "code",
   "execution_count": 22,
   "id": "bf9ddc22",
   "metadata": {},
   "outputs": [
    {
     "name": "stdout",
     "output_type": "stream",
     "text": [
      "6\n"
     ]
    },
    {
     "data": {
      "text/plain": [
       "[[['0' '1']\n",
       "  ['1' '0']],\n",
       " [['1' '0']\n",
       "  ['0' '1']],\n",
       " [['0' '1']\n",
       "  ['1' '1']],\n",
       " [['1' '0']\n",
       "  ['1' '1']],\n",
       " [['1' '1']\n",
       "  ['0' '1']],\n",
       " [['1' '1']\n",
       "  ['1' '0']]]"
      ]
     },
     "execution_count": 22,
     "metadata": {},
     "output_type": "execute_result"
    }
   ],
   "source": [
    "det1s = [m for m in allmats if m.determinant() == '1']\n",
    "print(len(det1s))\n",
    "det1s"
   ]
  },
  {
   "cell_type": "code",
   "execution_count": 23,
   "id": "1f2756d0",
   "metadata": {},
   "outputs": [],
   "source": [
    "def swap_items(lst, index1, index2):\n",
    "    \"\"\"Swap two items in a list. This changes the input list.\n",
    "    \"\"\"\n",
    "    lst[index1], lst[index2] = lst[index2], lst[index1]\n",
    "    return lst"
   ]
  },
  {
   "cell_type": "raw",
   "id": "f130dcfb",
   "metadata": {},
   "source": [
    "swap_items(det1s, 3, 4)"
   ]
  },
  {
   "cell_type": "markdown",
   "id": "ba7612b7",
   "metadata": {},
   "source": [
    "## Closure of Matrices"
   ]
  },
  {
   "cell_type": "code",
   "execution_count": 24,
   "id": "ee81a2c6",
   "metadata": {},
   "outputs": [],
   "source": [
    "def closure_of_matrices(matrices):\n",
    "    \"\"\"Given a list of AbstractMatrix, return its closure.\n",
    "    \"\"\"\n",
    "    result = matrices\n",
    "\n",
    "    # For every pair of matrices, compute their product\n",
    "    # and, if new, add the product to the list\n",
    "    for pair in it.product(result, result):\n",
    "        prod = pair[0] * pair[1]\n",
    "        if prod not in result:\n",
    "            result.append(prod)\n",
    "\n",
    "    # If the operations above have enlarged the list,\n",
    "    # then recursively call the function with the new,\n",
    "    # expanded list.\n",
    "    if len(result) > len(matrices):\n",
    "        return closure_of_matrices(result)\n",
    "    else:\n",
    "        # Otherwise, if there's been no change to the\n",
    "        # list of matrices, then return it\n",
    "        return result"
   ]
  },
  {
   "cell_type": "markdown",
   "id": "aaaa8fa4",
   "metadata": {},
   "source": [
    "Matrices with determinant '1' are a closed subset of the 256 possible matrices."
   ]
  },
  {
   "cell_type": "code",
   "execution_count": 25,
   "id": "507e47ef-95e4-4f7e-9ce1-424e587220da",
   "metadata": {},
   "outputs": [
    {
     "name": "stdout",
     "output_type": "stream",
     "text": [
      "6\n"
     ]
    }
   ],
   "source": [
    "det1sc = closure_of_matrices(det1s)\n",
    "print(len(det1sc))"
   ]
  },
  {
   "cell_type": "markdown",
   "id": "c8d91d70",
   "metadata": {},
   "source": [
    "## Create Dict of Matrices"
   ]
  },
  {
   "cell_type": "code",
   "execution_count": null,
   "id": "681f687d",
   "metadata": {},
   "outputs": [],
   "source": []
  },
  {
   "cell_type": "code",
   "execution_count": 26,
   "id": "7bcba689",
   "metadata": {},
   "outputs": [],
   "source": [
    "def derive_algebra_from_matrices(matrices, element_name_prefix='a', identity_name='e'):\n",
    "\n",
    "    m0 = matrices[0]\n",
    "    A = m0.algebra\n",
    "    n = m0.shape[0]\n",
    "    e = AbstractMatrix.identity(n, A)\n",
    "\n",
    "    mapping = name_mapping(matrices, element_name_prefix, e, identity_name)\n",
    "    \n",
    "    def get_matrix(name):\n",
    "        return mapping[name]\n",
    "    \n",
    "    def matrix_to_tuple(matrix):\n",
    "        return tuple(map(lambda x: tuple(x), matrix.array.tolist()))\n",
    "    \n",
    "    inv_mapping = {matrix_to_tuple(matrix): name for name, matrix in mapping.items()}\n",
    "    \n",
    "    def get_elem(matrix):\n",
    "        return inv_mapping[matrix_to_tuple(matrix)]\n",
    "    \n",
    "    elems = list(mapping.keys())\n",
    "    \n",
    "    table = [[get_elem(get_matrix(a) * get_matrix(b)) for b in elems] for a in elems]\n",
    "    \n",
    "    matrix_alg = alg.make_finite_algebra(f\"{A.name} Matrix Algebra\",\n",
    "                                         f\"Algebra derived from {n}x{n} matrices over {A.name}\",\n",
    "                                         elems,\n",
    "                                         table\n",
    "                                        )\n",
    "    \n",
    "    return matrix_alg, get_matrix, get_elem, mapping"
   ]
  },
  {
   "cell_type": "code",
   "execution_count": 27,
   "id": "1775354d",
   "metadata": {},
   "outputs": [
    {
     "data": {
      "text/plain": [
       "Group(\n",
       "'F2 Matrix Algebra',\n",
       "'Algebra derived from 2x2 matrices over F2',\n",
       "['a0', 'e', 'a2', 'a3', 'a4', 'a5'],\n",
       "[[1, 0, 4, 5, 2, 3], [0, 1, 2, 3, 4, 5], [3, 2, 5, 4, 0, 1], [2, 3, 0, 1, 5, 4], [5, 4, 3, 2, 1, 0], [4, 5, 1, 0, 3, 2]]\n",
       ")"
      ]
     },
     "execution_count": 27,
     "metadata": {},
     "output_type": "execute_result"
    }
   ],
   "source": [
    "foo, xmat, xelem, xmap = derive_algebra_from_matrices(det1s, 'a', 'e')\n",
    "foo"
   ]
  },
  {
   "cell_type": "code",
   "execution_count": 29,
   "id": "4edc670e",
   "metadata": {},
   "outputs": [
    {
     "data": {
      "text/plain": [
       "[['0' '1']\n",
       " ['1' '1']]"
      ]
     },
     "execution_count": 29,
     "metadata": {},
     "output_type": "execute_result"
    }
   ],
   "source": [
    "a2 = xmat('a2')\n",
    "a2"
   ]
  },
  {
   "cell_type": "code",
   "execution_count": 30,
   "id": "481967ee",
   "metadata": {},
   "outputs": [
    {
     "data": {
      "text/plain": [
       "'a2'"
      ]
     },
     "execution_count": 30,
     "metadata": {},
     "output_type": "execute_result"
    }
   ],
   "source": [
    "xelem(a2)"
   ]
  },
  {
   "cell_type": "code",
   "execution_count": 31,
   "id": "090df35f",
   "metadata": {},
   "outputs": [
    {
     "data": {
      "text/plain": [
       "{'a0': [['0' '1']\n",
       "  ['1' '0']],\n",
       " 'e': [['1' '0']\n",
       "  ['0' '1']],\n",
       " 'a2': [['0' '1']\n",
       "  ['1' '1']],\n",
       " 'a3': [['1' '0']\n",
       "  ['1' '1']],\n",
       " 'a4': [['1' '1']\n",
       "  ['0' '1']],\n",
       " 'a5': [['1' '1']\n",
       "  ['1' '0']]}"
      ]
     },
     "execution_count": 31,
     "metadata": {},
     "output_type": "execute_result"
    }
   ],
   "source": [
    "xmap"
   ]
  },
  {
   "cell_type": "code",
   "execution_count": null,
   "id": "370e2691",
   "metadata": {},
   "outputs": [],
   "source": []
  },
  {
   "cell_type": "code",
   "execution_count": 32,
   "id": "9ba77f8d",
   "metadata": {},
   "outputs": [],
   "source": [
    "bar, ymat, yelem, ymap = derive_algebra_from_matrices(allmats, 'b', 'e')"
   ]
  },
  {
   "cell_type": "code",
   "execution_count": 33,
   "id": "ed023329",
   "metadata": {},
   "outputs": [
    {
     "name": "stdout",
     "output_type": "stream",
     "text": [
      "\n",
      "** Monoid **\n",
      "Name: F2 Matrix Algebra\n",
      "Instance ID: 4808180688\n",
      "Description: Algebra derived from 2x2 matrices over F2\n",
      "Order: 16\n",
      "Identity: e\n",
      "Associative? Yes\n",
      "Commutative? No\n",
      "Cyclic?: No\n",
      "Elements: ['b00', 'b01', 'b02', 'b03', 'b04', 'b05', 'b06', 'b07', 'e', 'b09', 'b10', 'b11', 'b12', 'b13', 'b14', 'b15']\n",
      "Has Inverses? No\n",
      "Cayley Table (showing indices):\n",
      "[[0, 0, 0, 0, 0, 0, 0, 0, 0, 0, 0, 0, 0, 0, 0, 0],\n",
      " [0, 1, 0, 0, 4, 4, 1, 0, 1, 9, 4, 4, 1, 9, 9, 9],\n",
      " [0, 0, 2, 3, 0, 3, 3, 7, 2, 0, 2, 7, 7, 2, 3, 7],\n",
      " [0, 3, 0, 0, 2, 2, 3, 0, 3, 7, 2, 2, 3, 7, 7, 7],\n",
      " [0, 0, 4, 1, 0, 1, 1, 9, 4, 0, 4, 9, 9, 4, 1, 9],\n",
      " [0, 3, 4, 1, 2, 8, 6, 9, 5, 7, 10, 13, 14, 11, 12, 15],\n",
      " [0, 6, 0, 0, 10, 10, 6, 0, 6, 15, 10, 10, 6, 15, 15, 15],\n",
      " [0, 3, 2, 3, 2, 7, 0, 7, 7, 7, 0, 3, 2, 3, 2, 0],\n",
      " [0, 1, 2, 3, 4, 5, 6, 7, 8, 9, 10, 11, 12, 13, 14, 15],\n",
      " [0, 1, 4, 1, 4, 9, 0, 9, 9, 9, 0, 1, 4, 1, 4, 0],\n",
      " [0, 0, 10, 6, 0, 6, 6, 15, 10, 0, 10, 15, 15, 10, 6, 15],\n",
      " [0, 3, 10, 6, 2, 12, 1, 15, 11, 7, 4, 14, 13, 5, 8, 9],\n",
      " [0, 6, 2, 3, 10, 11, 1, 7, 12, 15, 4, 5, 8, 14, 13, 9],\n",
      " [0, 1, 10, 6, 4, 14, 3, 15, 13, 9, 2, 12, 11, 8, 5, 7],\n",
      " [0, 6, 4, 1, 10, 13, 3, 9, 14, 15, 2, 8, 5, 12, 11, 7],\n",
      " [0, 6, 10, 6, 10, 15, 0, 15, 15, 15, 0, 6, 10, 6, 10, 0]]\n"
     ]
    }
   ],
   "source": [
    "bar.about(max_size=16)"
   ]
  },
  {
   "cell_type": "code",
   "execution_count": 34,
   "id": "2f5c6613",
   "metadata": {},
   "outputs": [
    {
     "data": {
      "text/plain": [
       "[['1' '0']\n",
       " ['0' '1']]"
      ]
     },
     "execution_count": 34,
     "metadata": {},
     "output_type": "execute_result"
    }
   ],
   "source": [
    "ymat('e')"
   ]
  },
  {
   "cell_type": "code",
   "execution_count": 35,
   "id": "72065999",
   "metadata": {},
   "outputs": [],
   "source": [
    "bar_subs = bar.proper_subalgebras()"
   ]
  },
  {
   "cell_type": "code",
   "execution_count": 36,
   "id": "f43ef41b",
   "metadata": {},
   "outputs": [],
   "source": [
    "bar_subgrps = [bs for bs in bar_subs if isinstance(bs, alg.Group)]"
   ]
  },
  {
   "cell_type": "code",
   "execution_count": 37,
   "id": "8c0ee7b9",
   "metadata": {},
   "outputs": [
    {
     "name": "stdout",
     "output_type": "stream",
     "text": [
      "-------------------------------------\n",
      "\n",
      "** Group **\n",
      "Name: F2 Matrix Algebra_subalgebra_30\n",
      "Instance ID: 4808331280\n",
      "Description: Subalgebra of: Algebra derived from 2x2 matrices over F2\n",
      "Order: 6\n",
      "Identity: e\n",
      "Commutative? No\n",
      "Cyclic?: No\n",
      "Elements:\n",
      "   Index   Name   Inverse  Order\n",
      "      0     b05     b05       2\n",
      "      1       e       e       1\n",
      "      2     b11     b14       3\n",
      "      3     b12     b12       2\n",
      "      4     b13     b13       2\n",
      "      5     b14     b11       3\n",
      "Cayley Table (showing indices):\n",
      "[[1, 0, 4, 5, 2, 3],\n",
      " [0, 1, 2, 3, 4, 5],\n",
      " [3, 2, 5, 4, 0, 1],\n",
      " [2, 3, 0, 1, 5, 4],\n",
      " [5, 4, 3, 2, 1, 0],\n",
      " [4, 5, 1, 0, 3, 2]]\n",
      "-------------------------------------\n",
      "\n",
      "** Group **\n",
      "Name: F2 Matrix Algebra_subalgebra_63\n",
      "Instance ID: 4808330704\n",
      "Description: Subalgebra of: Algebra derived from 2x2 matrices over F2\n",
      "Order: 2\n",
      "Identity: e\n",
      "Commutative? Yes\n",
      "Cyclic?: Yes\n",
      "  Generators: ['b12']\n",
      "Elements:\n",
      "   Index   Name   Inverse  Order\n",
      "      0       e       e       1\n",
      "      1     b12     b12       2\n",
      "Cayley Table (showing indices):\n",
      "[[0, 1], [1, 0]]\n",
      "-------------------------------------\n",
      "\n",
      "** Group **\n",
      "Name: F2 Matrix Algebra_subalgebra_74\n",
      "Instance ID: 4808338832\n",
      "Description: Subalgebra of: Algebra derived from 2x2 matrices over F2\n",
      "Order: 2\n",
      "Identity: e\n",
      "Commutative? Yes\n",
      "Cyclic?: Yes\n",
      "  Generators: ['b13']\n",
      "Elements:\n",
      "   Index   Name   Inverse  Order\n",
      "      0       e       e       1\n",
      "      1     b13     b13       2\n",
      "Cayley Table (showing indices):\n",
      "[[0, 1], [1, 0]]\n",
      "-------------------------------------\n",
      "\n",
      "** Group **\n",
      "Name: F2 Matrix Algebra_subalgebra_142\n",
      "Instance ID: 4466516048\n",
      "Description: Subalgebra of: Algebra derived from 2x2 matrices over F2\n",
      "Order: 3\n",
      "Identity: e\n",
      "Commutative? Yes\n",
      "Cyclic?: Yes\n",
      "  Generators: ['b11', 'b14']\n",
      "Elements:\n",
      "   Index   Name   Inverse  Order\n",
      "      0       e       e       1\n",
      "      1     b11     b14       3\n",
      "      2     b14     b11       3\n",
      "Cayley Table (showing indices):\n",
      "[[0, 1, 2], [1, 2, 0], [2, 0, 1]]\n",
      "-------------------------------------\n",
      "\n",
      "** Group **\n",
      "Name: F2 Matrix Algebra_subalgebra_172\n",
      "Instance ID: 4466440976\n",
      "Description: Subalgebra of: Algebra derived from 2x2 matrices over F2\n",
      "Order: 2\n",
      "Identity: e\n",
      "Commutative? Yes\n",
      "Cyclic?: Yes\n",
      "  Generators: ['b05']\n",
      "Elements:\n",
      "   Index   Name   Inverse  Order\n",
      "      0     b05     b05       2\n",
      "      1       e       e       1\n",
      "Cayley Table (showing indices):\n",
      "[[1, 0], [0, 1]]\n"
     ]
    }
   ],
   "source": [
    "for grp in bar_subgrps:\n",
    "    print(\"-------------------------------------\")\n",
    "    grp.about()"
   ]
  },
  {
   "cell_type": "code",
   "execution_count": null,
   "id": "1b07ecbe",
   "metadata": {},
   "outputs": [],
   "source": []
  },
  {
   "cell_type": "code",
   "execution_count": null,
   "id": "971f94ea",
   "metadata": {},
   "outputs": [],
   "source": []
  },
  {
   "cell_type": "code",
   "execution_count": 38,
   "id": "6a0ab515-9d5d-4e51-a0ed-3a49feb9c997",
   "metadata": {},
   "outputs": [
    {
     "data": {
      "text/plain": [
       "{'a0': [['0' '1']\n",
       "  ['1' '0']],\n",
       " 'e': [['1' '0']\n",
       "  ['0' '1']],\n",
       " 'a2': [['0' '1']\n",
       "  ['1' '1']],\n",
       " 'a3': [['1' '0']\n",
       "  ['1' '1']],\n",
       " 'a4': [['1' '1']\n",
       "  ['0' '1']],\n",
       " 'a5': [['1' '1']\n",
       "  ['1' '0']]}"
      ]
     },
     "execution_count": 38,
     "metadata": {},
     "output_type": "execute_result"
    }
   ],
   "source": [
    "det1dict = name_mapping(det1s, prefix = 'a', id_element = AbstractMatrix.identity(2, f2), id_name = 'e')\n",
    "det1dict"
   ]
  },
  {
   "cell_type": "code",
   "execution_count": 39,
   "id": "92e61768",
   "metadata": {},
   "outputs": [],
   "source": [
    "def matrix(name):\n",
    "    return det1dict[name]"
   ]
  },
  {
   "cell_type": "code",
   "execution_count": 40,
   "id": "d6b64ba8",
   "metadata": {},
   "outputs": [
    {
     "ename": "KeyError",
     "evalue": "'a1'",
     "output_type": "error",
     "traceback": [
      "\u001b[0;31m---------------------------------------------------------------------------\u001b[0m",
      "\u001b[0;31mKeyError\u001b[0m                                  Traceback (most recent call last)",
      "Cell \u001b[0;32mIn[40], line 1\u001b[0m\n\u001b[0;32m----> 1\u001b[0m A1 \u001b[38;5;241m=\u001b[39m matrix(\u001b[38;5;124m'\u001b[39m\u001b[38;5;124ma1\u001b[39m\u001b[38;5;124m'\u001b[39m)\n\u001b[1;32m      2\u001b[0m A1\n",
      "Cell \u001b[0;32mIn[39], line 2\u001b[0m, in \u001b[0;36mmatrix\u001b[0;34m(name)\u001b[0m\n\u001b[1;32m      1\u001b[0m \u001b[38;5;28;01mdef\u001b[39;00m \u001b[38;5;21mmatrix\u001b[39m(name):\n\u001b[0;32m----> 2\u001b[0m     \u001b[38;5;28;01mreturn\u001b[39;00m det1dict[name]\n",
      "\u001b[0;31mKeyError\u001b[0m: 'a1'"
     ]
    }
   ],
   "source": [
    "A1 = matrix('a1')\n",
    "A1"
   ]
  },
  {
   "cell_type": "code",
   "execution_count": null,
   "id": "737dc22b",
   "metadata": {},
   "outputs": [],
   "source": [
    "def matrix_to_tuple(matrix):\n",
    "    return tuple(map(lambda x: tuple(x), matrix.array.tolist()))"
   ]
  },
  {
   "cell_type": "code",
   "execution_count": null,
   "id": "24af77ce",
   "metadata": {},
   "outputs": [],
   "source": [
    "matrix_to_tuple(A1)"
   ]
  },
  {
   "cell_type": "code",
   "execution_count": null,
   "id": "5f27fced",
   "metadata": {},
   "outputs": [],
   "source": [
    "inv_mapping = {matrix_to_tuple(matrix): name for name, matrix in det1dict.items()}"
   ]
  },
  {
   "cell_type": "code",
   "execution_count": null,
   "id": "80da4aac",
   "metadata": {},
   "outputs": [],
   "source": [
    "def elem(matrix):\n",
    "    return inv_mapping[matrix_to_tuple(matrix)]"
   ]
  },
  {
   "cell_type": "code",
   "execution_count": null,
   "id": "9125cbf9",
   "metadata": {},
   "outputs": [],
   "source": [
    "elem(A1)"
   ]
  },
  {
   "cell_type": "code",
   "execution_count": null,
   "id": "409935f0",
   "metadata": {},
   "outputs": [],
   "source": [
    "elems = list(det1dict.keys())\n",
    "print(elems)"
   ]
  },
  {
   "cell_type": "code",
   "execution_count": null,
   "id": "1386395a",
   "metadata": {},
   "outputs": [],
   "source": [
    "f2_table = [[elem(matrix(a) * matrix(b)) for b in elems] for a in elems]"
   ]
  },
  {
   "cell_type": "code",
   "execution_count": null,
   "id": "fcab02bd",
   "metadata": {},
   "outputs": [],
   "source": [
    "len(f2_table)"
   ]
  },
  {
   "cell_type": "code",
   "execution_count": null,
   "id": "3392bfd2",
   "metadata": {},
   "outputs": [],
   "source": [
    "f2_table"
   ]
  },
  {
   "cell_type": "code",
   "execution_count": null,
   "id": "f0c98ba2",
   "metadata": {},
   "outputs": [],
   "source": [
    "f2_matrix_alg = alg.make_finite_algebra(\"F2 Matrix Algebra\",\n",
    "                                        \"Algebra derived from 2x2 matrices over F2\",\n",
    "                                        elems,\n",
    "                                        f2_table)"
   ]
  },
  {
   "cell_type": "code",
   "execution_count": null,
   "id": "7d913a8f",
   "metadata": {},
   "outputs": [],
   "source": [
    "f2_matrix_alg.about()"
   ]
  },
  {
   "cell_type": "raw",
   "id": "8f22af89",
   "metadata": {},
   "source": [
    ">>> ps3_proper_subs = ps3.proper_subalgebras()\n",
    "\n",
    ">>> partitions = partition_into_isomorphic_lists(ps3_proper_subs)\n",
    "\n",
    ">>> about_isomorphic_partitions(ps3, partitions)\n"
   ]
  },
  {
   "cell_type": "code",
   "execution_count": null,
   "id": "f889cb06",
   "metadata": {},
   "outputs": [],
   "source": [
    "f2_matrix_alg_subs = f2_matrix_alg.proper_subalgebras()\n",
    "f2_matrix_alg_subs"
   ]
  },
  {
   "cell_type": "code",
   "execution_count": null,
   "id": "8182313f",
   "metadata": {},
   "outputs": [],
   "source": [
    "partitions = alg.partition_into_isomorphic_lists(f2_matrix_alg_subs)\n",
    "partitions"
   ]
  },
  {
   "cell_type": "code",
   "execution_count": null,
   "id": "73d28321",
   "metadata": {},
   "outputs": [],
   "source": [
    "alg.about_isomorphic_partitions(f2_matrix_alg, partitions)"
   ]
  },
  {
   "cell_type": "code",
   "execution_count": null,
   "id": "d2bf4d1d",
   "metadata": {},
   "outputs": [],
   "source": [
    "g0 = alg.generate_symmetric_group(3)\n",
    "g0.about()"
   ]
  },
  {
   "cell_type": "code",
   "execution_count": null,
   "id": "cb9d94dc",
   "metadata": {},
   "outputs": [],
   "source": [
    "f2_matrix_alg.isomorphic(g0)"
   ]
  },
  {
   "cell_type": "code",
   "execution_count": null,
   "id": "b5db6edc",
   "metadata": {},
   "outputs": [],
   "source": []
  },
  {
   "cell_type": "code",
   "execution_count": null,
   "id": "1f20a54b-dd83-4dc2-9e4d-ad5130062f7d",
   "metadata": {},
   "outputs": [],
   "source": []
  },
  {
   "cell_type": "code",
   "execution_count": null,
   "id": "cfd7848f-cfc6-461e-aec6-408f263e0080",
   "metadata": {},
   "outputs": [],
   "source": []
  },
  {
   "cell_type": "markdown",
   "id": "8cafc18a",
   "metadata": {},
   "source": [
    "## Test Matrices"
   ]
  },
  {
   "cell_type": "code",
   "execution_count": null,
   "id": "db1f2b58",
   "metadata": {},
   "outputs": [],
   "source": [
    "ps3 = alg.generate_powerset_ring(3)\n",
    "ps3.about()"
   ]
  },
  {
   "cell_type": "code",
   "execution_count": null,
   "id": "3422a5ac",
   "metadata": {},
   "outputs": [],
   "source": [
    "arr0 = np.array([['{1, 2}', '{0, 1, 2}'],\n",
    "                 ['{0, 2}', '{}']], dtype='<U32')"
   ]
  },
  {
   "cell_type": "code",
   "execution_count": null,
   "id": "f908415d",
   "metadata": {},
   "outputs": [],
   "source": [
    "arr0"
   ]
  },
  {
   "cell_type": "code",
   "execution_count": null,
   "id": "0ed1e560",
   "metadata": {},
   "outputs": [],
   "source": [
    "np.array([['{1, 2}', '{0, 1, 2}'],\n",
    "       ['{0, 2}', '{}']], dtype='<U32')"
   ]
  },
  {
   "cell_type": "code",
   "execution_count": null,
   "id": "51327b12",
   "metadata": {},
   "outputs": [],
   "source": [
    "mat0 = AbstractMatrix(arr0, ps3)\n",
    "mat0"
   ]
  },
  {
   "cell_type": "code",
   "execution_count": null,
   "id": "01b17f2a",
   "metadata": {},
   "outputs": [],
   "source": [
    "arr0"
   ]
  },
  {
   "cell_type": "code",
   "execution_count": null,
   "id": "fb153737",
   "metadata": {},
   "outputs": [],
   "source": [
    "print(mat0)"
   ]
  },
  {
   "cell_type": "code",
   "execution_count": null,
   "id": "2284ef36",
   "metadata": {},
   "outputs": [],
   "source": [
    "mat0.array"
   ]
  },
  {
   "cell_type": "code",
   "execution_count": null,
   "id": "b225e560",
   "metadata": {},
   "outputs": [],
   "source": [
    "mat0"
   ]
  },
  {
   "cell_type": "code",
   "execution_count": null,
   "id": "2d158a84",
   "metadata": {},
   "outputs": [],
   "source": []
  },
  {
   "cell_type": "code",
   "execution_count": null,
   "id": "9f9afef3",
   "metadata": {},
   "outputs": [],
   "source": [
    "arr1 = np.array([['{1, 2}', '{0, 1, 2}', '{0, 2}'],\n",
    "                 ['{0, 2}', '{}', '{1}'],\n",
    "                 ['{0}', '{1}', '{0, 1}']], dtype='<U32')\n",
    "\n",
    "mat1 = AbstractMatrix(arr1, ps3)\n",
    "mat1"
   ]
  },
  {
   "cell_type": "code",
   "execution_count": null,
   "id": "bd7f0d42",
   "metadata": {},
   "outputs": [],
   "source": [
    "arr2 = [['{0, 1}', '{0, 2}', '{1, 2}'],\n",
    "        ['{0}'   , '{1, 2}',    '{2}'],\n",
    "        ['{0, 1}',     '{}',     '{}']]\n",
    "\n",
    "mat2 = AbstractMatrix(arr2, ps3)\n",
    "mat2"
   ]
  },
  {
   "cell_type": "code",
   "execution_count": null,
   "id": "aaa83e3a",
   "metadata": {},
   "outputs": [],
   "source": [
    "arr3 = np.array([['{}', '{0, 1, 2}', '{0, 1, 2}', '{}'],\n",
    "                 ['{0, 1}', '{0, 2}', '{1, 2}', '{2}'],\n",
    "                 ['{0, 2}', '{}', '{}', '{0, 1}'],\n",
    "                 ['{1}', '{0}', '{0, 2}', '{}']], dtype='<U32')\n",
    "\n",
    "mat3 = AbstractMatrix(arr3, ps3)\n",
    "mat3"
   ]
  },
  {
   "cell_type": "code",
   "execution_count": null,
   "id": "359f264b",
   "metadata": {},
   "outputs": [],
   "source": [
    "arr4 = np.array([['{1, 2}']], dtype='<U32')\n",
    "\n",
    "mat4 = AbstractMatrix(arr4, ps3)\n",
    "mat4"
   ]
  },
  {
   "cell_type": "code",
   "execution_count": null,
   "id": "8384ebe1",
   "metadata": {},
   "outputs": [],
   "source": [
    "arr5 = np.array([['0', '1', 'a'],\n",
    "                 ['1', 'a', '1+a'],\n",
    "                 ['1+a', '0', '1']], dtype='<U32')\n",
    "\n",
    "mat5 = AbstractMatrix(arr5, f4)\n",
    "mat5"
   ]
  },
  {
   "cell_type": "code",
   "execution_count": null,
   "id": "3a5aabe7",
   "metadata": {},
   "outputs": [],
   "source": [
    "arr6 = np.array([['1+a', '0', 'a'],\n",
    "                 ['1+a', '1+a', '0'],\n",
    "                 ['1', '1', '0']], dtype='<U32')\n",
    "\n",
    "mat6 = AbstractMatrix(arr6, f4)\n",
    "mat6"
   ]
  },
  {
   "cell_type": "markdown",
   "id": "2eb178e3",
   "metadata": {},
   "source": [
    "## Matrix Addition & Subtraction"
   ]
  },
  {
   "cell_type": "code",
   "execution_count": null,
   "id": "692d4e4e",
   "metadata": {},
   "outputs": [],
   "source": [
    "mat1 + mat2"
   ]
  },
  {
   "cell_type": "code",
   "execution_count": null,
   "id": "e71775f2",
   "metadata": {},
   "outputs": [],
   "source": [
    "try:\n",
    "    mat2p3 = mat2 + mat3\n",
    "    print(mat2p3)\n",
    "except Exception as exc:\n",
    "    print(exc)"
   ]
  },
  {
   "cell_type": "code",
   "execution_count": null,
   "id": "eaaa9e10",
   "metadata": {},
   "outputs": [],
   "source": [
    "mat5 + mat6"
   ]
  },
  {
   "cell_type": "code",
   "execution_count": null,
   "id": "210136aa",
   "metadata": {},
   "outputs": [],
   "source": [
    "mat2 - mat2"
   ]
  },
  {
   "cell_type": "code",
   "execution_count": null,
   "id": "47a60cbd",
   "metadata": {},
   "outputs": [],
   "source": [
    "try:\n",
    "    mat2p3 = mat2 - mat3\n",
    "    print(mat2p3)\n",
    "except Exception as exc:\n",
    "    print(exc)"
   ]
  },
  {
   "cell_type": "markdown",
   "id": "4bb68cd6-854f-4699-bb49-5c0c0ce560e6",
   "metadata": {},
   "source": [
    "## Matrix Multiplication"
   ]
  },
  {
   "cell_type": "code",
   "execution_count": null,
   "id": "0cb5fc85-2431-4e40-ac3f-50d7c36f06e5",
   "metadata": {},
   "outputs": [],
   "source": [
    "mat1 * mat2"
   ]
  },
  {
   "cell_type": "code",
   "execution_count": null,
   "id": "6524fc43",
   "metadata": {},
   "outputs": [],
   "source": [
    "mat2 * mat1"
   ]
  },
  {
   "cell_type": "code",
   "execution_count": null,
   "id": "6003150c",
   "metadata": {},
   "outputs": [],
   "source": [
    "try:\n",
    "    mat2x3 = mat2 * mat3\n",
    "    print(mat2x3)\n",
    "except Exception as exc:\n",
    "    print(exc)"
   ]
  },
  {
   "cell_type": "code",
   "execution_count": null,
   "id": "5fd2889f",
   "metadata": {},
   "outputs": [],
   "source": [
    "mat5 * mat6"
   ]
  },
  {
   "cell_type": "markdown",
   "id": "234666cb",
   "metadata": {},
   "source": [
    "## Abstract Matrix of \"Zeros\""
   ]
  },
  {
   "cell_type": "code",
   "execution_count": null,
   "id": "583b68e0",
   "metadata": {},
   "outputs": [],
   "source": [
    "matz = AbstractMatrix.zeros((2, 3), ps3)\n",
    "matz"
   ]
  },
  {
   "cell_type": "code",
   "execution_count": null,
   "id": "32de3d20",
   "metadata": {},
   "outputs": [],
   "source": [
    "matf = AbstractMatrix.zeros((3, 3), f4)\n",
    "matf"
   ]
  },
  {
   "cell_type": "markdown",
   "id": "6172db1b",
   "metadata": {},
   "source": [
    "## Abstract Identity Matrix"
   ]
  },
  {
   "cell_type": "code",
   "execution_count": null,
   "id": "b74dec91",
   "metadata": {},
   "outputs": [],
   "source": [
    "AbstractMatrix.identity(4, ps3)"
   ]
  },
  {
   "cell_type": "code",
   "execution_count": null,
   "id": "9558a899",
   "metadata": {},
   "outputs": [],
   "source": [
    "mat1"
   ]
  },
  {
   "cell_type": "code",
   "execution_count": null,
   "id": "c3350745",
   "metadata": {},
   "outputs": [],
   "source": [
    "id3 = AbstractMatrix.identity(3, ps3)\n",
    "\n",
    "mat1 * id3"
   ]
  },
  {
   "cell_type": "code",
   "execution_count": null,
   "id": "ecc54819",
   "metadata": {},
   "outputs": [],
   "source": [
    "id3 * mat1"
   ]
  },
  {
   "cell_type": "code",
   "execution_count": null,
   "id": "8c62a867",
   "metadata": {},
   "outputs": [],
   "source": [
    "id3f = AbstractMatrix.identity(3, f4)\n",
    "id3f"
   ]
  },
  {
   "cell_type": "code",
   "execution_count": null,
   "id": "e8f343e9",
   "metadata": {},
   "outputs": [],
   "source": [
    "mat5 * id3f - mat5"
   ]
  },
  {
   "cell_type": "markdown",
   "id": "09fd1964",
   "metadata": {},
   "source": [
    "## Random Abstract Matrix"
   ]
  },
  {
   "cell_type": "code",
   "execution_count": null,
   "id": "47b625e0",
   "metadata": {},
   "outputs": [],
   "source": [
    "AbstractMatrix.random((3, 3), ps3)"
   ]
  },
  {
   "cell_type": "markdown",
   "id": "1576f0a8-41bb-460c-af55-7ae2e6c70c5c",
   "metadata": {},
   "source": [
    "## Get/Set Matrix Element Values"
   ]
  },
  {
   "cell_type": "code",
   "execution_count": null,
   "id": "4491e4bf-5231-4d2b-9401-6eb511fddc24",
   "metadata": {},
   "outputs": [],
   "source": [
    "mat2"
   ]
  },
  {
   "cell_type": "code",
   "execution_count": null,
   "id": "4094590e-be48-47be-85f7-1aae62411281",
   "metadata": {},
   "outputs": [],
   "source": [
    "mat2[0, 1]"
   ]
  },
  {
   "cell_type": "code",
   "execution_count": null,
   "id": "ca4a48e2-b9f1-4784-bad4-0dec810cbe1b",
   "metadata": {},
   "outputs": [],
   "source": [
    "mat2[2, 2] = '{0, 1, 2}'\n",
    "mat2"
   ]
  },
  {
   "cell_type": "code",
   "execution_count": null,
   "id": "7decf719",
   "metadata": {},
   "outputs": [],
   "source": [
    "mat2[2, 2] = '{}'\n",
    "mat2"
   ]
  },
  {
   "cell_type": "markdown",
   "id": "9eb7801d-157b-424b-b3b8-26d2d3bb59db",
   "metadata": {},
   "source": [
    "## Matrix Minor"
   ]
  },
  {
   "cell_type": "code",
   "execution_count": null,
   "id": "62c40a05-b625-4fa8-aa84-4789a9ebedd1",
   "metadata": {},
   "outputs": [],
   "source": [
    "mnr2 = mat2.minor(0,0)\n",
    "mnr2"
   ]
  },
  {
   "cell_type": "code",
   "execution_count": null,
   "id": "b4c74c5c",
   "metadata": {},
   "outputs": [],
   "source": [
    "mnr3 = mat5.minor(1, 1)\n",
    "mnr3"
   ]
  },
  {
   "cell_type": "markdown",
   "id": "a9b39686",
   "metadata": {},
   "source": [
    "## Abstract Cofactor Matrix"
   ]
  },
  {
   "cell_type": "code",
   "execution_count": null,
   "id": "306772f1",
   "metadata": {},
   "outputs": [],
   "source": [
    "cof2 = mat2.cofactor_matrix()\n",
    "cof2"
   ]
  },
  {
   "cell_type": "code",
   "execution_count": null,
   "id": "55b59c33",
   "metadata": {},
   "outputs": [],
   "source": [
    "cof3 = mat5.cofactor_matrix()\n",
    "cof3"
   ]
  },
  {
   "cell_type": "markdown",
   "id": "e1d944f6",
   "metadata": {},
   "source": [
    "## Abstract Matrix Transpose"
   ]
  },
  {
   "cell_type": "code",
   "execution_count": null,
   "id": "7031890b",
   "metadata": {},
   "outputs": [],
   "source": [
    "cof2_trans = cof2.transpose()\n",
    "cof2_trans"
   ]
  },
  {
   "cell_type": "code",
   "execution_count": null,
   "id": "2130a554",
   "metadata": {},
   "outputs": [],
   "source": [
    "cof3.transpose()"
   ]
  },
  {
   "cell_type": "markdown",
   "id": "646a0202",
   "metadata": {},
   "source": [
    "## Abstract Matrix Determinant"
   ]
  },
  {
   "cell_type": "code",
   "execution_count": null,
   "id": "55b36d62",
   "metadata": {},
   "outputs": [],
   "source": [
    "mat2.determinant()"
   ]
  },
  {
   "cell_type": "markdown",
   "id": "126d6bcb",
   "metadata": {},
   "source": [
    "Here's a breaksdown of the basic computations required to get the determinant.\n",
    "\n",
    "NOTE: Addition & multiplication for the ring, ps3, is commutative, so the order of adds and mults is irrelevant, below."
   ]
  },
  {
   "cell_type": "code",
   "execution_count": null,
   "id": "df58ffe3",
   "metadata": {},
   "outputs": [],
   "source": [
    "minor_det_0 = ps3.sub(ps3.mult('{1, 2}', '{}'), ps3.mult('{2}', '{}'))\n",
    "minor_det_0"
   ]
  },
  {
   "cell_type": "code",
   "execution_count": null,
   "id": "1d6d232a",
   "metadata": {},
   "outputs": [],
   "source": [
    "minor_det_1 = ps3.sub(ps3.mult('{0}', '{}'), ps3.mult('{2}', '{0, 1}'))\n",
    "minor_det_1"
   ]
  },
  {
   "cell_type": "code",
   "execution_count": null,
   "id": "46947f51",
   "metadata": {},
   "outputs": [],
   "source": [
    "minor_det_2 = ps3.sub(ps3.mult('{0}', '{}'), ps3.mult('{1, 2}', '{0, 1}'))\n",
    "minor_det_2"
   ]
  },
  {
   "cell_type": "code",
   "execution_count": null,
   "id": "ec46b2aa",
   "metadata": {},
   "outputs": [],
   "source": [
    "det = ps3.sub(ps3.add(ps3.mult('{0, 1}', minor_det_0),\n",
    "                      ps3.mult('{1, 2}', minor_det_2)),\n",
    "              ps3.mult('{0, 2}', minor_det_1))\n",
    "det"
   ]
  },
  {
   "cell_type": "code",
   "execution_count": null,
   "id": "b8b1f37d",
   "metadata": {},
   "outputs": [],
   "source": [
    "mat5.determinant()"
   ]
  },
  {
   "cell_type": "markdown",
   "id": "0c00e4fb-82e8-42ed-8fd2-f24d6824ffcd",
   "metadata": {},
   "source": [
    "## Abstract Matrix Inverse"
   ]
  },
  {
   "cell_type": "code",
   "execution_count": null,
   "id": "588b5a7c-c190-4a2b-9d28-0413d006e5c4",
   "metadata": {},
   "outputs": [],
   "source": [
    "mat2_inv = mat2.inverse()\n",
    "mat2_inv"
   ]
  },
  {
   "cell_type": "code",
   "execution_count": null,
   "id": "412176a0-037a-4327-b230-ce02f6f1e27b",
   "metadata": {},
   "outputs": [],
   "source": [
    "mat2 * mat2_inv"
   ]
  },
  {
   "cell_type": "code",
   "execution_count": null,
   "id": "682292b9-fe96-4fba-bb4a-b64ac41f727c",
   "metadata": {},
   "outputs": [],
   "source": [
    "mat2_inv * mat2"
   ]
  },
  {
   "cell_type": "code",
   "execution_count": null,
   "id": "08b12933",
   "metadata": {},
   "outputs": [],
   "source": [
    "mat5_inv = mat5.inverse()\n",
    "mat5_inv"
   ]
  },
  {
   "cell_type": "code",
   "execution_count": null,
   "id": "e7a4bbc8",
   "metadata": {},
   "outputs": [],
   "source": [
    "mat5 * mat5_inv"
   ]
  },
  {
   "cell_type": "code",
   "execution_count": null,
   "id": "2778ba17",
   "metadata": {},
   "outputs": [],
   "source": [
    "mat5_inv * mat5"
   ]
  },
  {
   "cell_type": "code",
   "execution_count": null,
   "id": "1eb57e39",
   "metadata": {},
   "outputs": [],
   "source": []
  }
 ],
 "metadata": {
  "kernelspec": {
   "display_name": "Python 3 (ipykernel)",
   "language": "python",
   "name": "python3"
  },
  "language_info": {
   "codemirror_mode": {
    "name": "ipython",
    "version": 3
   },
   "file_extension": ".py",
   "mimetype": "text/x-python",
   "name": "python",
   "nbconvert_exporter": "python",
   "pygments_lexer": "ipython3",
   "version": "3.11.4"
  }
 },
 "nbformat": 4,
 "nbformat_minor": 5
}
