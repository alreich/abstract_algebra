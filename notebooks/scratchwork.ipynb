{
 "cells": [
  {
   "cell_type": "markdown",
   "id": "4e44fe3b",
   "metadata": {},
   "source": [
    "# Scratchwork"
   ]
  },
  {
   "cell_type": "markdown",
   "id": "c4137652",
   "metadata": {},
   "source": [
    "This notebook is only used for trying out ideas."
   ]
  },
  {
   "cell_type": "code",
   "execution_count": 1,
   "id": "ff3b433b",
   "metadata": {},
   "outputs": [],
   "source": [
    "import algebras as alg\n",
    "import json\n",
    "import os\n",
    "import numpy as np\n",
    "import itertools as it\n",
    "# from pprint import pprint\n",
    "import pprint as pp\n",
    "\n",
    "# from itertools import combinations, permutations, product\n",
    "import itertools as it"
   ]
  },
  {
   "cell_type": "code",
   "execution_count": 2,
   "id": "62e88ecd",
   "metadata": {},
   "outputs": [],
   "source": [
    "# Path to this repo\n",
    "aa_path = os.path.join(os.getenv('PYPROJ'), 'abstract_algebra')\n",
    "\n",
    "# Path to a directory containing Algebra definitions in JSON\n",
    "alg_dir = os.path.join(aa_path, \"Algebras\")"
   ]
  },
  {
   "cell_type": "markdown",
   "id": "4559f347",
   "metadata": {},
   "source": [
    "## Groups for Testing"
   ]
  },
  {
   "cell_type": "markdown",
   "id": "65a30089",
   "metadata": {},
   "source": [
    "### D4 - Dihedral Group on 4 Vertices"
   ]
  },
  {
   "cell_type": "code",
   "execution_count": 3,
   "id": "c93b1c12",
   "metadata": {},
   "outputs": [
    {
     "name": "stdout",
     "output_type": "stream",
     "text": [
      "{\"type\": \"Group\",\r\n",
      " \"name\": \"D_4\",\r\n",
      " \"description\": \"Dihedral group on four vertices\",\r\n",
      " \"element_names\": [\"e\", \"r\", \"r^2\", \"r^3\", \"f\", \"fr\", \"r^2f\", \"rf\"],\r\n",
      " \"alt_elem_names\": [\"()\", \"(0 1 2 3)\", \"(0 2)(1 3)\", \"(0 3 2 1)\",\r\n",
      "                    \"(0 1)(2 3)\", \"(1 3)\", \"(0 3)(1 2)\", \"(0 2)\"],\r\n",
      " \"mult_table\": [[0, 1, 2, 3, 4, 5, 6, 7],\r\n",
      "                [1, 2, 3, 0, 7, 4, 5, 6],\r\n",
      "                [2, 3, 0, 1, 6, 7, 4, 5],\r\n",
      "                [3, 0, 1, 2, 5, 6, 7, 4],\r\n",
      "                [4, 5, 6, 7, 0, 1, 2, 3],\r\n",
      "                [5, 6, 7, 4, 3, 0, 1, 2],\r\n",
      "                [6, 7, 4, 5, 2, 3, 0, 1],\r\n",
      "                [7, 4, 5, 6, 1, 2, 3, 0]]\r\n",
      "}"
     ]
    }
   ],
   "source": [
    "d4_path = os.path.join(alg_dir, \"d4_dihedral_group_on_4_vertices.json\")\n",
    "!cat {d4_path}"
   ]
  },
  {
   "cell_type": "code",
   "execution_count": 4,
   "id": "8a2962ba",
   "metadata": {},
   "outputs": [
    {
     "name": "stdout",
     "output_type": "stream",
     "text": [
      "\n",
      "Group: D_4\n",
      "Dihedral group on four vertices\n",
      "Abelian? False\n",
      "Elements:\n",
      "   Index   Name   Inverse  Order\n",
      "      0       e       e       1\n",
      "      1       r     r^3       4\n",
      "      2     r^2     r^2       2\n",
      "      3     r^3       r       4\n",
      "      4       f       f       2\n",
      "      5      fr      fr       2\n",
      "      6    r^2f    r^2f       2\n",
      "      7      rf      rf       2\n",
      "Cayley Table (showing indices):\n",
      "[[0, 1, 2, 3, 4, 5, 6, 7],\n",
      " [1, 2, 3, 0, 7, 4, 5, 6],\n",
      " [2, 3, 0, 1, 6, 7, 4, 5],\n",
      " [3, 0, 1, 2, 5, 6, 7, 4],\n",
      " [4, 5, 6, 7, 0, 1, 2, 3],\n",
      " [5, 6, 7, 4, 3, 0, 1, 2],\n",
      " [6, 7, 4, 5, 2, 3, 0, 1],\n",
      " [7, 4, 5, 6, 1, 2, 3, 0]]\n"
     ]
    }
   ],
   "source": [
    "d4 = alg.Group(d4_path)\n",
    "d4.about()"
   ]
  },
  {
   "cell_type": "markdown",
   "id": "a8a75c32",
   "metadata": {},
   "source": [
    "### V4 - Klein 4 Group"
   ]
  },
  {
   "cell_type": "code",
   "execution_count": 5,
   "id": "acfee8f3",
   "metadata": {},
   "outputs": [
    {
     "name": "stdout",
     "output_type": "stream",
     "text": [
      "{\"type\": \"Group\",\r\n",
      " \"name\": \"V4\",\r\n",
      " \"description\": \"Klein-4 group\",\r\n",
      " \"element_names\": [\"e\", \"h\", \"v\", \"hv\"],\r\n",
      " \"mult_table\": [[0, 1, 2, 3],\r\n",
      "                [1, 0, 3, 2],\r\n",
      "                [2, 3, 0, 1],\r\n",
      "                [3, 2, 1, 0]]\r\n",
      "}\r\n"
     ]
    }
   ],
   "source": [
    "v4_path = os.path.join(alg_dir, \"v4_klein_4_group.json\")\n",
    "!cat {v4_path}"
   ]
  },
  {
   "cell_type": "code",
   "execution_count": 6,
   "id": "e2e98c98",
   "metadata": {},
   "outputs": [
    {
     "name": "stdout",
     "output_type": "stream",
     "text": [
      "\n",
      "Group: V4\n",
      "Klein-4 group\n",
      "Abelian? True\n",
      "Elements:\n",
      "   Index   Name   Inverse  Order\n",
      "      0       e       e       1\n",
      "      1       h       h       2\n",
      "      2       v       v       2\n",
      "      3      hv      hv       2\n",
      "Cayley Table (showing indices):\n",
      "[[0, 1, 2, 3], [1, 0, 3, 2], [2, 3, 0, 1], [3, 2, 1, 0]]\n"
     ]
    }
   ],
   "source": [
    "v4 = alg.Group(v4_path)\n",
    "v4.about()"
   ]
  },
  {
   "cell_type": "code",
   "execution_count": 7,
   "id": "47691a3d",
   "metadata": {},
   "outputs": [
    {
     "data": {
      "text/plain": [
       "Group('Z2',\n",
       "'Autogenerated cyclic group of order 2',\n",
       "['e', 'a'],\n",
       "[[0, 1], [1, 0]]) "
      ]
     },
     "execution_count": 7,
     "metadata": {},
     "output_type": "execute_result"
    }
   ],
   "source": [
    "z2 = alg.generate_cyclic_group(2)\n",
    "z2"
   ]
  },
  {
   "cell_type": "code",
   "execution_count": 8,
   "id": "d8e69526",
   "metadata": {},
   "outputs": [
    {
     "data": {
      "text/plain": [
       "Group('Z2_x_Z2',\n",
       "'Direct product of Z2 & Z2',\n",
       "['e:e', 'e:a', 'a:e', 'a:a'],\n",
       "[[0, 1, 2, 3], [1, 0, 3, 2], [2, 3, 0, 1], [3, 2, 1, 0]]) "
      ]
     },
     "execution_count": 8,
     "metadata": {},
     "output_type": "execute_result"
    }
   ],
   "source": [
    "z2_x_z2 = z2 * z2\n",
    "z2_x_z2"
   ]
  },
  {
   "cell_type": "code",
   "execution_count": 9,
   "id": "dbf47ba6",
   "metadata": {},
   "outputs": [
    {
     "data": {
      "text/plain": [
       "Group('Z4',\n",
       "'Autogenerated cyclic group of order 4',\n",
       "['e', 'a', 'a^2', 'a^3'],\n",
       "[[0, 1, 2, 3], [1, 2, 3, 0], [2, 3, 0, 1], [3, 0, 1, 2]]) "
      ]
     },
     "execution_count": 9,
     "metadata": {},
     "output_type": "execute_result"
    }
   ],
   "source": [
    "z4 = alg.generate_cyclic_group(4)\n",
    "z4"
   ]
  },
  {
   "cell_type": "markdown",
   "id": "bb1c3ac6",
   "metadata": {},
   "source": [
    "## Finite Rings"
   ]
  },
  {
   "cell_type": "markdown",
   "id": "82c4bd2f",
   "metadata": {},
   "source": [
    "\"Consider any finite set. Then its power set with respect to symmetric difference (as 1st operation) and set intersection (as 2nd operation) is an example of a finite ring.\" -- [Quora](https://www.quora.com/What-are-examples-of-finite-rings#:~:text=Matrices%20over%20any%20ring%20make,a%20finite%20ring%20with%20elements.)"
   ]
  },
  {
   "cell_type": "markdown",
   "id": "6f03a51b",
   "metadata": {},
   "source": [
    "### Powerset Functions"
   ]
  },
  {
   "cell_type": "code",
   "execution_count": 10,
   "id": "922321d6",
   "metadata": {},
   "outputs": [
    {
     "data": {
      "text/plain": [
       "{0, 1, 2, 3, 4, 5, 6, 7, 8, 9, 10, 11, 12, 13, 14, 15, 16, 17, 18, 19}"
      ]
     },
     "execution_count": 10,
     "metadata": {},
     "output_type": "execute_result"
    }
   ],
   "source": [
    "n = 20\n",
    "ints_n = set(list(range(n)))\n",
    "ints_n"
   ]
  },
  {
   "cell_type": "markdown",
   "id": "4bc28258",
   "metadata": {},
   "source": [
    "[Source of powerset code](https://docs.python.org/3/library/itertools.html#itertools-recipes)"
   ]
  },
  {
   "cell_type": "code",
   "execution_count": 11,
   "id": "5101e8c5",
   "metadata": {},
   "outputs": [
    {
     "name": "stdout",
     "output_type": "stream",
     "text": [
      "CPU times: user 2.03 s, sys: 238 ms, total: 2.27 s\n",
      "Wall time: 2.28 s\n"
     ]
    },
    {
     "data": {
      "text/plain": [
       "1048576"
      ]
     },
     "execution_count": 11,
     "metadata": {},
     "output_type": "execute_result"
    }
   ],
   "source": [
    "%time foo1 = [set(x) for x in list(alg.powerset(ints_n))]\n",
    "len(foo1)"
   ]
  },
  {
   "cell_type": "markdown",
   "id": "e98673a0",
   "metadata": {},
   "source": [
    "### Set Operations"
   ]
  },
  {
   "cell_type": "code",
   "execution_count": 12,
   "id": "e336dd64",
   "metadata": {},
   "outputs": [
    {
     "name": "stdout",
     "output_type": "stream",
     "text": [
      "               Union: {0, 1, 2, 3, 4, 5, 6, 8}\n",
      "        Intersection: {2, 4}\n",
      "          Difference: {0, 8, 6}\n",
      "Symmetric Difference: {0, 1, 3, 5, 6, 8}\n"
     ]
    }
   ],
   "source": [
    "A = {0, 2, 4, 6, 8}\n",
    "B = {1, 2, 3, 4, 5}\n",
    "\n",
    "print(f\"               Union: {A | B}\")\n",
    "print(f\"        Intersection: {A & B}\")\n",
    "print(f\"          Difference: {A - B}\")\n",
    "print(f\"Symmetric Difference: {A ^ B}\")"
   ]
  },
  {
   "cell_type": "markdown",
   "id": "8556bf62",
   "metadata": {},
   "source": [
    "TODO: Look for the paper by Carolyn Bean, \"Group operations on the power set\", Journal of Undergraduate Mathematics 8 #1 (March 1976), 13-17."
   ]
  },
  {
   "cell_type": "markdown",
   "id": "c620ee77",
   "metadata": {},
   "source": [
    "## Summarize Proper Subgroups of a Group"
   ]
  },
  {
   "cell_type": "code",
   "execution_count": 13,
   "id": "80667009",
   "metadata": {},
   "outputs": [
    {
     "name": "stdout",
     "output_type": "stream",
     "text": [
      "Group('PS3',\n",
      "'Autogenerated group on the powerset of 3 elements, with symmetric difference operator',\n",
      "[(), (0,), (1,), (2,), (0, 1), (0, 2), (1, 2), (0, 1, 2)],\n",
      "[[0, 1, 2, 3, 4, 5, 6, 7],\n",
      " [1, 0, 4, 5, 2, 3, 7, 6],\n",
      " [2, 4, 0, 6, 1, 7, 3, 5],\n",
      " [3, 5, 6, 0, 7, 1, 2, 4],\n",
      " [4, 2, 1, 7, 0, 6, 5, 3],\n",
      " [5, 3, 7, 1, 6, 0, 4, 2],\n",
      " [6, 7, 3, 2, 5, 4, 0, 1],\n",
      " [7, 6, 5, 4, 3, 2, 1, 0]]\n",
      ")\n",
      "\n",
      "Identity Element: ()\n",
      "Abelian? True\n",
      "\n",
      "PS3 has the following 14 proper subgroups:\n",
      "\n",
      "Group('PS3_subgroup_0',\n",
      "'Subgroup of: Autogenerated group on the powerset of 3 elements, with symmetric difference operator',\n",
      "[(), (1, 2)],\n",
      "[[0, 1], [1, 0]]\n",
      ")\n",
      "Group('PS3_subgroup_1',\n",
      "'Subgroup of: Autogenerated group on the powerset of 3 elements, with symmetric difference operator',\n",
      "[(), (2,), (0, 1), (0, 1, 2)],\n",
      "[[0, 1, 2, 3], [1, 0, 3, 2], [2, 3, 0, 1], [3, 2, 1, 0]]\n",
      ")\n",
      "Group('PS3_subgroup_2',\n",
      "'Subgroup of: Autogenerated group on the powerset of 3 elements, with symmetric difference operator',\n",
      "[(), (0,)],\n",
      "[[0, 1], [1, 0]]\n",
      ")\n",
      "Group('PS3_subgroup_3',\n",
      "'Subgroup of: Autogenerated group on the powerset of 3 elements, with symmetric difference operator',\n",
      "[(), (1,)],\n",
      "[[0, 1], [1, 0]]\n",
      ")\n",
      "Group('PS3_subgroup_4',\n",
      "'Subgroup of: Autogenerated group on the powerset of 3 elements, with symmetric difference operator',\n",
      "[(), (1,), (2,), (1, 2)],\n",
      "[[0, 1, 2, 3], [1, 0, 3, 2], [2, 3, 0, 1], [3, 2, 1, 0]]\n",
      ")\n",
      "Group('PS3_subgroup_5',\n",
      "'Subgroup of: Autogenerated group on the powerset of 3 elements, with symmetric difference operator',\n",
      "[(), (0,), (2,), (0, 2)],\n",
      "[[0, 1, 2, 3], [1, 0, 3, 2], [2, 3, 0, 1], [3, 2, 1, 0]]\n",
      ")\n",
      "Group('PS3_subgroup_6',\n",
      "'Subgroup of: Autogenerated group on the powerset of 3 elements, with symmetric difference operator',\n",
      "[(), (2,)],\n",
      "[[0, 1], [1, 0]]\n",
      ")\n",
      "Group('PS3_subgroup_7',\n",
      "'Subgroup of: Autogenerated group on the powerset of 3 elements, with symmetric difference operator',\n",
      "[(), (0,), (1,), (0, 1)],\n",
      "[[0, 1, 2, 3], [1, 0, 3, 2], [2, 3, 0, 1], [3, 2, 1, 0]]\n",
      ")\n",
      "Group('PS3_subgroup_8',\n",
      "'Subgroup of: Autogenerated group on the powerset of 3 elements, with symmetric difference operator',\n",
      "[(), (0, 2)],\n",
      "[[0, 1], [1, 0]]\n",
      ")\n",
      "Group('PS3_subgroup_9',\n",
      "'Subgroup of: Autogenerated group on the powerset of 3 elements, with symmetric difference operator',\n",
      "[(), (0, 1), (0, 2), (1, 2)],\n",
      "[[0, 1, 2, 3], [1, 0, 3, 2], [2, 3, 0, 1], [3, 2, 1, 0]]\n",
      ")\n",
      "Group('PS3_subgroup_10',\n",
      "'Subgroup of: Autogenerated group on the powerset of 3 elements, with symmetric difference operator',\n",
      "[(), (1,), (0, 2), (0, 1, 2)],\n",
      "[[0, 1, 2, 3], [1, 0, 3, 2], [2, 3, 0, 1], [3, 2, 1, 0]]\n",
      ")\n",
      "Group('PS3_subgroup_11',\n",
      "'Subgroup of: Autogenerated group on the powerset of 3 elements, with symmetric difference operator',\n",
      "[(), (0, 1, 2)],\n",
      "[[0, 1], [1, 0]]\n",
      ")\n",
      "Group('PS3_subgroup_12',\n",
      "'Subgroup of: Autogenerated group on the powerset of 3 elements, with symmetric difference operator',\n",
      "[(), (0, 1)],\n",
      "[[0, 1], [1, 0]]\n",
      ")\n",
      "Group('PS3_subgroup_13',\n",
      "'Subgroup of: Autogenerated group on the powerset of 3 elements, with symmetric difference operator',\n",
      "[(), (0,), (1, 2), (0, 1, 2)],\n",
      "[[0, 1, 2, 3], [1, 0, 3, 2], [2, 3, 0, 1], [3, 2, 1, 0]]\n",
      ")\n"
     ]
    }
   ],
   "source": [
    "ps3 = alg.generate_powerset_group(3)\n",
    "ps3.pprint()\n",
    "\n",
    "print(f\"\\nIdentity Element: {ps3.identity}\")\n",
    "print(f\"Abelian? {ps3.abelian()}\\n\")\n",
    "\n",
    "ps3_prop_subs = ps3.proper_subgroups()\n",
    "print(f\"{ps3.name} has the following {len(ps3_prop_subs)} proper subgroups:\\n\")\n",
    "for subgroup in ps3_prop_subs:\n",
    "    subgroup.pprint()"
   ]
  },
  {
   "cell_type": "code",
   "execution_count": 14,
   "id": "6faca642",
   "metadata": {},
   "outputs": [
    {
     "data": {
      "text/plain": [
       "Group('PS3_subgroup_0',\n",
       "'Subgroup of: Autogenerated group on the powerset of 3 elements, with symmetric difference operator',\n",
       "[(), (1, 2)],\n",
       "[[0, 1], [1, 0]]) "
      ]
     },
     "execution_count": 14,
     "metadata": {},
     "output_type": "execute_result"
    }
   ],
   "source": [
    "g0 = ps3_prop_subs[0]\n",
    "gs = ps3_prop_subs[1:]\n",
    "g0"
   ]
  },
  {
   "cell_type": "code",
   "execution_count": 15,
   "id": "f6e733e6",
   "metadata": {},
   "outputs": [
    {
     "data": {
      "text/plain": [
       "[False,\n",
       " {(1, 2): (0,), (): ()},\n",
       " {(1, 2): (1,), (): ()},\n",
       " False,\n",
       " False,\n",
       " {(1, 2): (2,), (): ()},\n",
       " False,\n",
       " {(1, 2): (0, 2), (): ()},\n",
       " False,\n",
       " False,\n",
       " {(1, 2): (0, 1, 2), (): ()},\n",
       " {(1, 2): (0, 1), (): ()},\n",
       " False]"
      ]
     },
     "execution_count": 15,
     "metadata": {},
     "output_type": "execute_result"
    }
   ],
   "source": [
    "[g0.isomorphic(g) for g in gs]"
   ]
  },
  {
   "cell_type": "code",
   "execution_count": 16,
   "id": "c3754dbb",
   "metadata": {},
   "outputs": [
    {
     "data": {
      "text/plain": [
       "Group('PS3_subgroup_1',\n",
       "'Subgroup of: Autogenerated group on the powerset of 3 elements, with symmetric difference operator',\n",
       "[(), (2,), (0, 1), (0, 1, 2)],\n",
       "[[0, 1, 2, 3], [1, 0, 3, 2], [2, 3, 0, 1], [3, 2, 1, 0]]) "
      ]
     },
     "execution_count": 16,
     "metadata": {},
     "output_type": "execute_result"
    }
   ],
   "source": [
    "g1 = ps3_prop_subs[1]\n",
    "gs2 = ps3_prop_subs[2:]\n",
    "g1"
   ]
  },
  {
   "cell_type": "code",
   "execution_count": 17,
   "id": "73c30103",
   "metadata": {},
   "outputs": [
    {
     "data": {
      "text/plain": [
       "[False,\n",
       " False,\n",
       " {(2,): (1,), (0, 1): (2,), (0, 1, 2): (1, 2), (): ()},\n",
       " {(2,): (0,), (0, 1): (2,), (0, 1, 2): (0, 2), (): ()},\n",
       " False,\n",
       " {(2,): (0,), (0, 1): (1,), (0, 1, 2): (0, 1), (): ()},\n",
       " False,\n",
       " {(2,): (0, 1), (0, 1): (0, 2), (0, 1, 2): (1, 2), (): ()},\n",
       " {(2,): (1,), (0, 1): (0, 2), (0, 1, 2): (0, 1, 2), (): ()},\n",
       " False,\n",
       " False,\n",
       " {(2,): (0,), (0, 1): (1, 2), (0, 1, 2): (0, 1, 2), (): ()}]"
      ]
     },
     "execution_count": 17,
     "metadata": {},
     "output_type": "execute_result"
    }
   ],
   "source": [
    "[g1.isomorphic(g) for g in gs2]"
   ]
  },
  {
   "cell_type": "code",
   "execution_count": null,
   "id": "ee333b2e",
   "metadata": {},
   "outputs": [],
   "source": []
  }
 ],
 "metadata": {
  "kernelspec": {
   "display_name": "Python 3",
   "language": "python",
   "name": "python3"
  },
  "language_info": {
   "codemirror_mode": {
    "name": "ipython",
    "version": 3
   },
   "file_extension": ".py",
   "mimetype": "text/x-python",
   "name": "python",
   "nbconvert_exporter": "python",
   "pygments_lexer": "ipython3",
   "version": "3.7.7"
  }
 },
 "nbformat": 4,
 "nbformat_minor": 5
}
