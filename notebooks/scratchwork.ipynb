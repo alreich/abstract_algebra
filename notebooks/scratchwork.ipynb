{
 "cells": [
  {
   "cell_type": "markdown",
   "id": "3896843b",
   "metadata": {},
   "source": [
    "# Scratchwork"
   ]
  },
  {
   "cell_type": "markdown",
   "id": "e51641e4",
   "metadata": {},
   "source": [
    "This notebook is only used for trying out ideas."
   ]
  },
  {
   "cell_type": "code",
   "execution_count": 1,
   "id": "218a7049",
   "metadata": {},
   "outputs": [],
   "source": [
    "import algebras as alg\n",
    "import json\n",
    "import os\n",
    "import numpy as np\n",
    "import itertools as it\n",
    "# from pprint import pprint\n",
    "import pprint as pp\n",
    "\n",
    "# from itertools import combinations, permutations, product\n",
    "import itertools as it"
   ]
  },
  {
   "cell_type": "code",
   "execution_count": 2,
   "id": "3e035a7e",
   "metadata": {},
   "outputs": [],
   "source": [
    "# Path to this repo\n",
    "aa_path = os.path.join(os.getenv('PYPROJ'), 'abstract_algebra')\n",
    "\n",
    "# Path to a directory containing Algebra definitions in JSON\n",
    "alg_dir = os.path.join(aa_path, \"Algebras\")"
   ]
  },
  {
   "cell_type": "markdown",
   "id": "c1b814d1",
   "metadata": {},
   "source": [
    "## Groups for Testing"
   ]
  },
  {
   "cell_type": "markdown",
   "id": "76dde766",
   "metadata": {},
   "source": [
    "### D4 - Dihedral Group on 4 Vertices"
   ]
  },
  {
   "cell_type": "code",
   "execution_count": 3,
   "id": "2b21096a",
   "metadata": {},
   "outputs": [
    {
     "name": "stdout",
     "output_type": "stream",
     "text": [
      "{\"type\": \"Group\",\r\n",
      " \"name\": \"D_4\",\r\n",
      " \"description\": \"Dihedral group on four vertices\",\r\n",
      " \"element_names\": [\"e\", \"r\", \"r^2\", \"r^3\", \"f\", \"fr\", \"r^2f\", \"rf\"],\r\n",
      " \"alt_elem_names\": [\"()\", \"(0 1 2 3)\", \"(0 2)(1 3)\", \"(0 3 2 1)\",\r\n",
      "                    \"(0 1)(2 3)\", \"(1 3)\", \"(0 3)(1 2)\", \"(0 2)\"],\r\n",
      " \"mult_table\": [[0, 1, 2, 3, 4, 5, 6, 7],\r\n",
      "                [1, 2, 3, 0, 7, 4, 5, 6],\r\n",
      "                [2, 3, 0, 1, 6, 7, 4, 5],\r\n",
      "                [3, 0, 1, 2, 5, 6, 7, 4],\r\n",
      "                [4, 5, 6, 7, 0, 1, 2, 3],\r\n",
      "                [5, 6, 7, 4, 3, 0, 1, 2],\r\n",
      "                [6, 7, 4, 5, 2, 3, 0, 1],\r\n",
      "                [7, 4, 5, 6, 1, 2, 3, 0]]\r\n",
      "}"
     ]
    }
   ],
   "source": [
    "d4_path = os.path.join(alg_dir, \"d4_dihedral_group_on_4_vertices.json\")\n",
    "!cat {d4_path}"
   ]
  },
  {
   "cell_type": "code",
   "execution_count": 4,
   "id": "d8dfaead",
   "metadata": {},
   "outputs": [
    {
     "name": "stdout",
     "output_type": "stream",
     "text": [
      "\n",
      "Group : D_4 : Dihedral group on four vertices\n",
      "  Element Names: ['e', 'r', 'r^2', 'r^3', 'f', 'fr', 'r^2f', 'rf']\n",
      "  Is Abelian? False\n",
      "  Inverses:  (** - indicates that it is its own inverse)\n",
      "    inv(e) = e   **\n",
      "    inv(r) = r^3 \n",
      "    inv(r^2) = r^2   **\n",
      "    inv(r^3) = r \n",
      "    inv(f) = f   **\n",
      "    inv(fr) = fr   **\n",
      "    inv(r^2f) = r^2f   **\n",
      "    inv(rf) = rf   **\n",
      "Element Orders:\n",
      "{1: ['e'], 2: ['r^2', 'f', 'fr', 'r^2f', 'rf'], 4: ['r', 'r^3']}\n",
      "  Is associative? True\n",
      "  Cayley Table:\n",
      "[['e', 'r', 'r^2', 'r^3', 'f', 'fr', 'r^2f', 'rf'],\n",
      " ['r', 'r^2', 'r^3', 'e', 'rf', 'f', 'fr', 'r^2f'],\n",
      " ['r^2', 'r^3', 'e', 'r', 'r^2f', 'rf', 'f', 'fr'],\n",
      " ['r^3', 'e', 'r', 'r^2', 'fr', 'r^2f', 'rf', 'f'],\n",
      " ['f', 'fr', 'r^2f', 'rf', 'e', 'r', 'r^2', 'r^3'],\n",
      " ['fr', 'r^2f', 'rf', 'f', 'r^3', 'e', 'r', 'r^2'],\n",
      " ['r^2f', 'rf', 'f', 'fr', 'r^2', 'r^3', 'e', 'r'],\n",
      " ['rf', 'f', 'fr', 'r^2f', 'r', 'r^2', 'r^3', 'e']]\n"
     ]
    }
   ],
   "source": [
    "d4 = alg.Group(d4_path)\n",
    "d4.print_info()"
   ]
  },
  {
   "cell_type": "markdown",
   "id": "99aa2722",
   "metadata": {},
   "source": [
    "### V4 - Klein 4 Group"
   ]
  },
  {
   "cell_type": "code",
   "execution_count": 5,
   "id": "08503e10",
   "metadata": {},
   "outputs": [
    {
     "name": "stdout",
     "output_type": "stream",
     "text": [
      "{\"type\": \"Group\",\r\n",
      " \"name\": \"V4\",\r\n",
      " \"description\": \"Klein-4 group\",\r\n",
      " \"element_names\": [\"e\", \"h\", \"v\", \"hv\"],\r\n",
      " \"mult_table\": [[0, 1, 2, 3],\r\n",
      "                [1, 0, 3, 2],\r\n",
      "                [2, 3, 0, 1],\r\n",
      "                [3, 2, 1, 0]]\r\n",
      "}\r\n"
     ]
    }
   ],
   "source": [
    "v4_path = os.path.join(alg_dir, \"v4_klein_4_group.json\")\n",
    "!cat {v4_path}"
   ]
  },
  {
   "cell_type": "code",
   "execution_count": 6,
   "id": "1c0839be",
   "metadata": {},
   "outputs": [
    {
     "name": "stdout",
     "output_type": "stream",
     "text": [
      "\n",
      "Group : V4 : Klein-4 group\n",
      "  Element Names: ['e', 'h', 'v', 'hv']\n",
      "  Is Abelian? True\n",
      "  Inverses:  (** - indicates that it is its own inverse)\n",
      "    inv(e) = e   **\n",
      "    inv(h) = h   **\n",
      "    inv(v) = v   **\n",
      "    inv(hv) = hv   **\n",
      "Element Orders:\n",
      "{1: ['e'], 2: ['h', 'v', 'hv']}\n",
      "  Is associative? True\n",
      "  Cayley Table:\n",
      "[['e', 'h', 'v', 'hv'],\n",
      " ['h', 'e', 'hv', 'v'],\n",
      " ['v', 'hv', 'e', 'h'],\n",
      " ['hv', 'v', 'h', 'e']]\n"
     ]
    }
   ],
   "source": [
    "v4 = alg.Group(v4_path)\n",
    "v4.print_info()"
   ]
  },
  {
   "cell_type": "code",
   "execution_count": 7,
   "id": "5b54cef1",
   "metadata": {},
   "outputs": [
    {
     "data": {
      "text/plain": [
       "Group('Z2',\n",
       "'Autogenerated cyclic group of order 2',\n",
       "['e', 'a'],\n",
       "[[0, 1], [1, 0]]) "
      ]
     },
     "execution_count": 7,
     "metadata": {},
     "output_type": "execute_result"
    }
   ],
   "source": [
    "z2 = alg.generate_cyclic_group(2)\n",
    "z2"
   ]
  },
  {
   "cell_type": "code",
   "execution_count": 8,
   "id": "8d3232d6",
   "metadata": {},
   "outputs": [
    {
     "data": {
      "text/plain": [
       "Group('Z2_x_Z2',\n",
       "'Direct product of Z2 & Z2',\n",
       "['e:e', 'e:a', 'a:e', 'a:a'],\n",
       "[[0, 1, 2, 3], [1, 0, 3, 2], [2, 3, 0, 1], [3, 2, 1, 0]]) "
      ]
     },
     "execution_count": 8,
     "metadata": {},
     "output_type": "execute_result"
    }
   ],
   "source": [
    "z2_x_z2 = z2 * z2\n",
    "z2_x_z2"
   ]
  },
  {
   "cell_type": "code",
   "execution_count": 9,
   "id": "914666c6",
   "metadata": {},
   "outputs": [
    {
     "data": {
      "text/plain": [
       "Group('Z4',\n",
       "'Autogenerated cyclic group of order 4',\n",
       "['e', 'a', 'a^2', 'a^3'],\n",
       "[[0, 1, 2, 3], [1, 2, 3, 0], [2, 3, 0, 1], [3, 0, 1, 2]]) "
      ]
     },
     "execution_count": 9,
     "metadata": {},
     "output_type": "execute_result"
    }
   ],
   "source": [
    "z4 = alg.generate_cyclic_group(4)\n",
    "z4"
   ]
  },
  {
   "cell_type": "markdown",
   "id": "f5e6e526",
   "metadata": {},
   "source": [
    "## Changing the Order of Elements"
   ]
  },
  {
   "cell_type": "markdown",
   "id": "314174d3",
   "metadata": {},
   "source": [
    "<b>Observation</b>: If the group is abelian, then changing the order of the elements does <b>not</b> affect the order of the indices in the <i>mult_table</i>.  <b>Why?</b>"
   ]
  },
  {
   "cell_type": "code",
   "execution_count": 10,
   "id": "871a7cb6",
   "metadata": {},
   "outputs": [],
   "source": [
    "# new_elem_order = v4.element_names\n",
    "# new_v4_elem_order = ['e', 'v', 'h', 'hv']\n",
    "new_v4_elem_order = [\"e\", \"hv\", \"h\", \"v\"]"
   ]
  },
  {
   "cell_type": "code",
   "execution_count": 11,
   "id": "bbee9c96",
   "metadata": {},
   "outputs": [
    {
     "data": {
      "text/plain": [
       "Group('V4_REORDERED',\n",
       "'Klein-4 group (elements reordered)',\n",
       "['e', 'hv', 'h', 'v'],\n",
       "[[0, 1, 2, 3], [1, 0, 3, 2], [2, 3, 0, 1], [3, 2, 1, 0]]) "
      ]
     },
     "execution_count": 11,
     "metadata": {},
     "output_type": "execute_result"
    }
   ],
   "source": [
    "#table_from_reordered_elements(v4, new_v4_elem_order)\n",
    "v4_reordered = v4.reorder_elements(new_v4_elem_order)\n",
    "v4_reordered"
   ]
  },
  {
   "cell_type": "code",
   "execution_count": 12,
   "id": "949901f1",
   "metadata": {},
   "outputs": [
    {
     "name": "stdout",
     "output_type": "stream",
     "text": [
      "[['e', 'hv', 'h', 'v'],\n",
      " ['hv', 'e', 'v', 'h'],\n",
      " ['h', 'v', 'e', 'hv'],\n",
      " ['v', 'h', 'hv', 'e']]\n"
     ]
    }
   ],
   "source": [
    "pp.pprint(v4_reordered.mult_table_with_names())"
   ]
  },
  {
   "cell_type": "code",
   "execution_count": 13,
   "id": "fcfcf413",
   "metadata": {},
   "outputs": [
    {
     "data": {
      "text/plain": [
       "array([[0, 1, 2, 3],\n",
       "       [1, 0, 3, 2],\n",
       "       [2, 3, 0, 1],\n",
       "       [3, 2, 1, 0]])"
      ]
     },
     "execution_count": 13,
     "metadata": {},
     "output_type": "execute_result"
    }
   ],
   "source": [
    "v4_reordered.mult_table"
   ]
  },
  {
   "cell_type": "code",
   "execution_count": 14,
   "id": "0ba8f876",
   "metadata": {},
   "outputs": [
    {
     "name": "stdout",
     "output_type": "stream",
     "text": [
      "[['e', 'h', 'v', 'hv'],\n",
      " ['h', 'e', 'hv', 'v'],\n",
      " ['v', 'hv', 'e', 'h'],\n",
      " ['hv', 'v', 'h', 'e']]\n"
     ]
    }
   ],
   "source": [
    "pp.pprint(v4.mult_table_with_names())"
   ]
  },
  {
   "cell_type": "code",
   "execution_count": 15,
   "id": "001290fd",
   "metadata": {},
   "outputs": [
    {
     "data": {
      "text/plain": [
       "array([[0, 1, 2, 3],\n",
       "       [1, 0, 3, 2],\n",
       "       [2, 3, 0, 1],\n",
       "       [3, 2, 1, 0]])"
      ]
     },
     "execution_count": 15,
     "metadata": {},
     "output_type": "execute_result"
    }
   ],
   "source": [
    "v4.mult_table"
   ]
  },
  {
   "cell_type": "code",
   "execution_count": 16,
   "id": "332f17d6",
   "metadata": {},
   "outputs": [],
   "source": [
    "new_d4_elem_order = [\"e\", \"r\", \"r^2\", \"f\", \"r^3\", \"fr\", \"r^2f\", \"rf\"]"
   ]
  },
  {
   "cell_type": "code",
   "execution_count": 17,
   "id": "a8054e53",
   "metadata": {},
   "outputs": [
    {
     "data": {
      "text/plain": [
       "Group('D_4_REORDERED',\n",
       "'Dihedral group on four vertices (elements reordered)',\n",
       "['e', 'r', 'r^2', 'f', 'r^3', 'fr', 'r^2f', 'rf'],\n",
       "[[0, 1, 2, 3, 4, 5, 6, 7], [1, 2, 4, 7, 0, 3, 5, 6], [2, 4, 0, 6, 1, 7, 3, 5], [3, 5, 6, 0, 7, 1, 2, 4], [4, 0, 1, 5, 2, 6, 7, 3], [5, 6, 7, 4, 3, 0, 1, 2], [6, 7, 3, 2, 5, 4, 0, 1], [7, 3, 5, 1, 6, 2, 4, 0]]) "
      ]
     },
     "execution_count": 17,
     "metadata": {},
     "output_type": "execute_result"
    }
   ],
   "source": [
    "d4_reordered = d4.reorder_elements(new_d4_elem_order)\n",
    "d4_reordered"
   ]
  },
  {
   "cell_type": "code",
   "execution_count": 18,
   "id": "fb21c84e",
   "metadata": {},
   "outputs": [
    {
     "data": {
      "text/plain": [
       "array([[0, 1, 2, 3, 4, 5, 6, 7],\n",
       "       [1, 2, 4, 7, 0, 3, 5, 6],\n",
       "       [2, 4, 0, 6, 1, 7, 3, 5],\n",
       "       [3, 5, 6, 0, 7, 1, 2, 4],\n",
       "       [4, 0, 1, 5, 2, 6, 7, 3],\n",
       "       [5, 6, 7, 4, 3, 0, 1, 2],\n",
       "       [6, 7, 3, 2, 5, 4, 0, 1],\n",
       "       [7, 3, 5, 1, 6, 2, 4, 0]])"
      ]
     },
     "execution_count": 18,
     "metadata": {},
     "output_type": "execute_result"
    }
   ],
   "source": [
    "d4_reordered.mult_table"
   ]
  },
  {
   "cell_type": "code",
   "execution_count": 19,
   "id": "f34f9adf",
   "metadata": {},
   "outputs": [
    {
     "data": {
      "text/plain": [
       "array([[0, 1, 2, 3, 4, 5, 6, 7],\n",
       "       [1, 2, 3, 0, 7, 4, 5, 6],\n",
       "       [2, 3, 0, 1, 6, 7, 4, 5],\n",
       "       [3, 0, 1, 2, 5, 6, 7, 4],\n",
       "       [4, 5, 6, 7, 0, 1, 2, 3],\n",
       "       [5, 6, 7, 4, 3, 0, 1, 2],\n",
       "       [6, 7, 4, 5, 2, 3, 0, 1],\n",
       "       [7, 4, 5, 6, 1, 2, 3, 0]])"
      ]
     },
     "execution_count": 19,
     "metadata": {},
     "output_type": "execute_result"
    }
   ],
   "source": [
    "d4.mult_table"
   ]
  },
  {
   "cell_type": "code",
   "execution_count": 20,
   "id": "3bdf3b9f",
   "metadata": {},
   "outputs": [
    {
     "data": {
      "text/plain": [
       "{'e': 1, 'r': 4, 'r^2': 2, 'r^3': 4, 'f': 2, 'fr': 2, 'r^2f': 2, 'rf': 2}"
      ]
     },
     "execution_count": 20,
     "metadata": {},
     "output_type": "execute_result"
    }
   ],
   "source": [
    "d4.element_orders()"
   ]
  },
  {
   "cell_type": "code",
   "execution_count": 21,
   "id": "912df6ed",
   "metadata": {},
   "outputs": [
    {
     "data": {
      "text/plain": [
       "{'e': 1, 'r': 4, 'r^2': 2, 'f': 2, 'r^3': 4, 'fr': 2, 'r^2f': 2, 'rf': 2}"
      ]
     },
     "execution_count": 21,
     "metadata": {},
     "output_type": "execute_result"
    }
   ],
   "source": [
    "d4_reordered.element_orders()"
   ]
  },
  {
   "cell_type": "markdown",
   "id": "4480998e",
   "metadata": {},
   "source": [
    "## Generating Possible Multiplication Tables"
   ]
  },
  {
   "cell_type": "code",
   "execution_count": 22,
   "id": "62f016fc",
   "metadata": {},
   "outputs": [
    {
     "data": {
      "text/plain": [
       "[([0, 1, 2, 3], (1, 0, 3, 2), (2, 3, 0, 1), (3, 2, 1, 0)),\n",
       " ([0, 1, 2, 3], (1, 0, 3, 2), (2, 3, 1, 0), (3, 2, 0, 1)),\n",
       " ([0, 1, 2, 3], (1, 2, 3, 0), (2, 3, 0, 1), (3, 0, 1, 2)),\n",
       " ([0, 1, 2, 3], (1, 3, 0, 2), (2, 0, 3, 1), (3, 2, 1, 0))]"
      ]
     },
     "execution_count": 22,
     "metadata": {},
     "output_type": "execute_result"
    }
   ],
   "source": [
    "tables4 = alg.generate_all_group_tables(4)\n",
    "tables4"
   ]
  },
  {
   "cell_type": "code",
   "execution_count": 23,
   "id": "78a5d29d",
   "metadata": {},
   "outputs": [
    {
     "name": "stdout",
     "output_type": "stream",
     "text": [
      "array([[0, 1, 2, 3],\n",
      "       [1, 0, 3, 2],\n",
      "       [2, 3, 0, 1],\n",
      "       [3, 2, 1, 0]])\n",
      "array([[0, 1, 2, 3],\n",
      "       [1, 0, 3, 2],\n",
      "       [2, 3, 1, 0],\n",
      "       [3, 2, 0, 1]])\n",
      "array([[0, 1, 2, 3],\n",
      "       [1, 2, 3, 0],\n",
      "       [2, 3, 0, 1],\n",
      "       [3, 0, 1, 2]])\n",
      "array([[0, 1, 2, 3],\n",
      "       [1, 3, 0, 2],\n",
      "       [2, 0, 3, 1],\n",
      "       [3, 2, 1, 0]])\n"
     ]
    }
   ],
   "source": [
    "for t in tables4:\n",
    "    pp.pprint(np.array(t))"
   ]
  },
  {
   "cell_type": "code",
   "execution_count": 24,
   "id": "e62ccc57",
   "metadata": {},
   "outputs": [
    {
     "name": "stdout",
     "output_type": "stream",
     "text": [
      "Group('G0',\n",
      "'Group 0 of order 4',\n",
      "['e0', 'a0_1', 'a0_2', 'a0_3'],\n",
      "[[0, 1, 2, 3], [1, 0, 3, 2], [2, 3, 0, 1], [3, 2, 1, 0]]\n",
      ")\n",
      "Group('G1',\n",
      "'Group 1 of order 4',\n",
      "['e1', 'a1_1', 'a1_2', 'a1_3'],\n",
      "[[0, 1, 2, 3], [1, 0, 3, 2], [2, 3, 1, 0], [3, 2, 0, 1]]\n",
      ")\n",
      "Group('G2',\n",
      "'Group 2 of order 4',\n",
      "['e2', 'a2_1', 'a2_2', 'a2_3'],\n",
      "[[0, 1, 2, 3], [1, 2, 3, 0], [2, 3, 0, 1], [3, 0, 1, 2]]\n",
      ")\n",
      "Group('G3',\n",
      "'Group 3 of order 4',\n",
      "['e3', 'a3_1', 'a3_2', 'a3_3'],\n",
      "[[0, 1, 2, 3], [1, 3, 0, 2], [2, 0, 3, 1], [3, 2, 1, 0]]\n",
      ")\n"
     ]
    }
   ],
   "source": [
    "groups4 = alg.tables_to_groups(tables4)\n",
    "for g in groups4:\n",
    "    g.pprint()"
   ]
  },
  {
   "cell_type": "code",
   "execution_count": 25,
   "id": "b942f5e1",
   "metadata": {},
   "outputs": [],
   "source": [
    "g0 = groups4[0]\n",
    "g1 = groups4[1]\n",
    "g2 = groups4[2]\n",
    "g3 = groups4[3]"
   ]
  },
  {
   "cell_type": "markdown",
   "id": "08b72e20",
   "metadata": {},
   "source": [
    "Below, it can be seen that...\n",
    "\n",
    "* <b>g0</b> is isomorphic to, v4, the Klein-4 group (and to the direct product, z2 * z2)\n",
    "* <b>g1, g2, & g3</b> are isomorphic to each other and to, z4, the cyclic group of order 4"
   ]
  },
  {
   "cell_type": "markdown",
   "id": "9c629d0e",
   "metadata": {},
   "source": [
    "### G0"
   ]
  },
  {
   "cell_type": "code",
   "execution_count": 26,
   "id": "af4701e3",
   "metadata": {},
   "outputs": [
    {
     "data": {
      "text/plain": [
       "Group('G0',\n",
       "'Group 0 of order 4',\n",
       "['e0', 'a0_1', 'a0_2', 'a0_3'],\n",
       "[[0, 1, 2, 3], [1, 0, 3, 2], [2, 3, 0, 1], [3, 2, 1, 0]]) "
      ]
     },
     "execution_count": 26,
     "metadata": {},
     "output_type": "execute_result"
    }
   ],
   "source": [
    "g0  # Isomorphic to v4 and z2_x_z2"
   ]
  },
  {
   "cell_type": "code",
   "execution_count": 27,
   "id": "fb5e99e3",
   "metadata": {},
   "outputs": [
    {
     "name": "stdout",
     "output_type": "stream",
     "text": [
      "Group('V4',\n",
      "'Klein-4 group',\n",
      "['e', 'h', 'v', 'hv'],\n",
      "[[0, 1, 2, 3], [1, 0, 3, 2], [2, 3, 0, 1], [3, 2, 1, 0]]\n",
      ")\n"
     ]
    }
   ],
   "source": [
    "v4.pprint()"
   ]
  },
  {
   "cell_type": "code",
   "execution_count": 28,
   "id": "b939941e",
   "metadata": {},
   "outputs": [
    {
     "data": {
      "text/plain": [
       "{'a0_1': 'h', 'a0_2': 'v', 'a0_3': 'hv', 'e0': 'e'}"
      ]
     },
     "execution_count": 28,
     "metadata": {},
     "output_type": "execute_result"
    }
   ],
   "source": [
    "g0.isomorphic(v4)"
   ]
  },
  {
   "cell_type": "code",
   "execution_count": 29,
   "id": "1d2e9142",
   "metadata": {},
   "outputs": [
    {
     "data": {
      "text/plain": [
       "{'a0_1': 'e:a', 'a0_2': 'a:e', 'a0_3': 'a:a', 'e0': 'e:e'}"
      ]
     },
     "execution_count": 29,
     "metadata": {},
     "output_type": "execute_result"
    }
   ],
   "source": [
    "g0.isomorphic(z2_x_z2)"
   ]
  },
  {
   "cell_type": "code",
   "execution_count": 30,
   "id": "a16a42b4",
   "metadata": {},
   "outputs": [
    {
     "data": {
      "text/plain": [
       "{'h': 'e:a', 'v': 'a:e', 'hv': 'a:a', 'e': 'e:e'}"
      ]
     },
     "execution_count": 30,
     "metadata": {},
     "output_type": "execute_result"
    }
   ],
   "source": [
    "v4.isomorphic(z2_x_z2)"
   ]
  },
  {
   "cell_type": "markdown",
   "id": "dd540623",
   "metadata": {},
   "source": [
    "### G1"
   ]
  },
  {
   "cell_type": "code",
   "execution_count": 31,
   "id": "99b13ace",
   "metadata": {},
   "outputs": [
    {
     "data": {
      "text/plain": [
       "Group('G1',\n",
       "'Group 1 of order 4',\n",
       "['e1', 'a1_1', 'a1_2', 'a1_3'],\n",
       "[[0, 1, 2, 3], [1, 0, 3, 2], [2, 3, 1, 0], [3, 2, 0, 1]]) "
      ]
     },
     "execution_count": 31,
     "metadata": {},
     "output_type": "execute_result"
    }
   ],
   "source": [
    "g1"
   ]
  },
  {
   "cell_type": "code",
   "execution_count": 32,
   "id": "0fad706a",
   "metadata": {},
   "outputs": [
    {
     "data": {
      "text/plain": [
       "False"
      ]
     },
     "execution_count": 32,
     "metadata": {},
     "output_type": "execute_result"
    }
   ],
   "source": [
    "g1.isomorphic(g0)"
   ]
  },
  {
   "cell_type": "markdown",
   "id": "a3957f91",
   "metadata": {},
   "source": [
    "### G2"
   ]
  },
  {
   "cell_type": "code",
   "execution_count": 33,
   "id": "9f6d3205",
   "metadata": {},
   "outputs": [
    {
     "data": {
      "text/plain": [
       "Group('G2',\n",
       "'Group 2 of order 4',\n",
       "['e2', 'a2_1', 'a2_2', 'a2_3'],\n",
       "[[0, 1, 2, 3], [1, 2, 3, 0], [2, 3, 0, 1], [3, 0, 1, 2]]) "
      ]
     },
     "execution_count": 33,
     "metadata": {},
     "output_type": "execute_result"
    }
   ],
   "source": [
    "g2  # Same as z4, below"
   ]
  },
  {
   "cell_type": "code",
   "execution_count": 34,
   "id": "33e90fc8",
   "metadata": {},
   "outputs": [
    {
     "data": {
      "text/plain": [
       "{'a2_1': 'a', 'a2_2': 'a^2', 'a2_3': 'a^3', 'e2': 'e'}"
      ]
     },
     "execution_count": 34,
     "metadata": {},
     "output_type": "execute_result"
    }
   ],
   "source": [
    "g2.isomorphic(z4)"
   ]
  },
  {
   "cell_type": "code",
   "execution_count": 35,
   "id": "2830ef49",
   "metadata": {},
   "outputs": [
    {
     "data": {
      "text/plain": [
       "False"
      ]
     },
     "execution_count": 35,
     "metadata": {},
     "output_type": "execute_result"
    }
   ],
   "source": [
    "g2.isomorphic(g0)"
   ]
  },
  {
   "cell_type": "code",
   "execution_count": 36,
   "id": "c955c484",
   "metadata": {},
   "outputs": [
    {
     "data": {
      "text/plain": [
       "{'a2_1': 'a1_2', 'a2_2': 'a1_1', 'a2_3': 'a1_3', 'e2': 'e1'}"
      ]
     },
     "execution_count": 36,
     "metadata": {},
     "output_type": "execute_result"
    }
   ],
   "source": [
    "g2.isomorphic(g1)"
   ]
  },
  {
   "cell_type": "markdown",
   "id": "f759362d",
   "metadata": {},
   "source": [
    "### G3"
   ]
  },
  {
   "cell_type": "code",
   "execution_count": 37,
   "id": "8cdab60d",
   "metadata": {
    "scrolled": true
   },
   "outputs": [
    {
     "data": {
      "text/plain": [
       "Group('G3',\n",
       "'Group 3 of order 4',\n",
       "['e3', 'a3_1', 'a3_2', 'a3_3'],\n",
       "[[0, 1, 2, 3], [1, 3, 0, 2], [2, 0, 3, 1], [3, 2, 1, 0]]) "
      ]
     },
     "execution_count": 37,
     "metadata": {},
     "output_type": "execute_result"
    }
   ],
   "source": [
    "g3"
   ]
  },
  {
   "cell_type": "code",
   "execution_count": 38,
   "id": "60528733",
   "metadata": {},
   "outputs": [
    {
     "data": {
      "text/plain": [
       "False"
      ]
     },
     "execution_count": 38,
     "metadata": {},
     "output_type": "execute_result"
    }
   ],
   "source": [
    "g3.isomorphic(g0)"
   ]
  },
  {
   "cell_type": "code",
   "execution_count": 39,
   "id": "3ed4982f",
   "metadata": {},
   "outputs": [
    {
     "data": {
      "text/plain": [
       "{'a3_1': 'a1_2', 'a3_2': 'a1_3', 'a3_3': 'a1_1', 'e3': 'e1'}"
      ]
     },
     "execution_count": 39,
     "metadata": {},
     "output_type": "execute_result"
    }
   ],
   "source": [
    "g3.isomorphic(g1)"
   ]
  },
  {
   "cell_type": "code",
   "execution_count": 40,
   "id": "05a51510",
   "metadata": {},
   "outputs": [
    {
     "data": {
      "text/plain": [
       "{'a3_1': 'a2_1', 'a3_2': 'a2_3', 'a3_3': 'a2_2', 'e3': 'e2'}"
      ]
     },
     "execution_count": 40,
     "metadata": {},
     "output_type": "execute_result"
    }
   ],
   "source": [
    "g3.isomorphic(g2)"
   ]
  },
  {
   "cell_type": "markdown",
   "id": "9e77931d",
   "metadata": {},
   "source": [
    "### A Group of Prime Order"
   ]
  },
  {
   "cell_type": "code",
   "execution_count": 41,
   "id": "d0890d51",
   "metadata": {},
   "outputs": [],
   "source": [
    "order = 5"
   ]
  },
  {
   "cell_type": "code",
   "execution_count": 42,
   "id": "2acee314",
   "metadata": {},
   "outputs": [],
   "source": [
    "z5 = alg.generate_cyclic_group(order)"
   ]
  },
  {
   "cell_type": "code",
   "execution_count": 43,
   "id": "2aa6d9ce",
   "metadata": {},
   "outputs": [
    {
     "name": "stdout",
     "output_type": "stream",
     "text": [
      "Group('Z5',\n",
      "'Autogenerated cyclic group of order 5',\n",
      "['e', 'a', 'a^2', 'a^3', 'a^4'],\n",
      "[[0, 1, 2, 3, 4],\n",
      " [1, 2, 3, 4, 0],\n",
      " [2, 3, 4, 0, 1],\n",
      " [3, 4, 0, 1, 2],\n",
      " [4, 0, 1, 2, 3]]\n",
      ")\n"
     ]
    }
   ],
   "source": [
    "z5.pprint()"
   ]
  },
  {
   "cell_type": "code",
   "execution_count": 44,
   "id": "67cf494b",
   "metadata": {},
   "outputs": [
    {
     "name": "stdout",
     "output_type": "stream",
     "text": [
      "CPU times: user 230 ms, sys: 2.64 ms, total: 233 ms\n",
      "Wall time: 231 ms\n"
     ]
    },
    {
     "data": {
      "text/plain": [
       "6"
      ]
     },
     "execution_count": 44,
     "metadata": {},
     "output_type": "execute_result"
    }
   ],
   "source": [
    "%time tables5 = alg.generate_all_group_tables(order)\n",
    "len(tables5)"
   ]
  },
  {
   "cell_type": "code",
   "execution_count": 45,
   "id": "bc84514d",
   "metadata": {},
   "outputs": [
    {
     "data": {
      "text/plain": [
       "[('a', 'a'),\n",
       " ('a', 'b'),\n",
       " ('a', 'c'),\n",
       " ('a', 'd'),\n",
       " ('a', 'e'),\n",
       " ('b', 'a'),\n",
       " ('b', 'b'),\n",
       " ('b', 'c'),\n",
       " ('b', 'd'),\n",
       " ('b', 'e'),\n",
       " ('c', 'a'),\n",
       " ('c', 'b'),\n",
       " ('c', 'c'),\n",
       " ('c', 'd'),\n",
       " ('c', 'e'),\n",
       " ('d', 'a'),\n",
       " ('d', 'b'),\n",
       " ('d', 'c'),\n",
       " ('d', 'd'),\n",
       " ('d', 'e'),\n",
       " ('e', 'a'),\n",
       " ('e', 'b'),\n",
       " ('e', 'c'),\n",
       " ('e', 'd'),\n",
       " ('e', 'e')]"
      ]
     },
     "execution_count": 45,
     "metadata": {},
     "output_type": "execute_result"
    }
   ],
   "source": [
    "list(it.product('abcde', 'abcde'))"
   ]
  },
  {
   "cell_type": "code",
   "execution_count": 46,
   "id": "a3bec404",
   "metadata": {},
   "outputs": [
    {
     "name": "stdout",
     "output_type": "stream",
     "text": [
      "Group('G0',\n",
      "'Group 0 of order 5',\n",
      "['e0', 'a0_1', 'a0_2', 'a0_3', 'a0_4'],\n",
      "[[0, 1, 2, 3, 4],\n",
      " [1, 2, 3, 4, 0],\n",
      " [2, 3, 4, 0, 1],\n",
      " [3, 4, 0, 1, 2],\n",
      " [4, 0, 1, 2, 3]]\n",
      ")\n",
      "Group('G1',\n",
      "'Group 1 of order 5',\n",
      "['e1', 'a1_1', 'a1_2', 'a1_3', 'a1_4'],\n",
      "[[0, 1, 2, 3, 4],\n",
      " [1, 2, 4, 0, 3],\n",
      " [2, 4, 3, 1, 0],\n",
      " [3, 0, 1, 4, 2],\n",
      " [4, 3, 0, 2, 1]]\n",
      ")\n",
      "Group('G2',\n",
      "'Group 2 of order 5',\n",
      "['e2', 'a2_1', 'a2_2', 'a2_3', 'a2_4'],\n",
      "[[0, 1, 2, 3, 4],\n",
      " [1, 3, 0, 4, 2],\n",
      " [2, 0, 4, 1, 3],\n",
      " [3, 4, 1, 2, 0],\n",
      " [4, 2, 3, 0, 1]]\n",
      ")\n",
      "Group('G3',\n",
      "'Group 3 of order 5',\n",
      "['e3', 'a3_1', 'a3_2', 'a3_3', 'a3_4'],\n",
      "[[0, 1, 2, 3, 4],\n",
      " [1, 3, 4, 2, 0],\n",
      " [2, 4, 1, 0, 3],\n",
      " [3, 2, 0, 4, 1],\n",
      " [4, 0, 3, 1, 2]]\n",
      ")\n",
      "Group('G4',\n",
      "'Group 4 of order 5',\n",
      "['e4', 'a4_1', 'a4_2', 'a4_3', 'a4_4'],\n",
      "[[0, 1, 2, 3, 4],\n",
      " [1, 4, 0, 2, 3],\n",
      " [2, 0, 3, 4, 1],\n",
      " [3, 2, 4, 1, 0],\n",
      " [4, 3, 1, 0, 2]]\n",
      ")\n",
      "Group('G5',\n",
      "'Group 5 of order 5',\n",
      "['e5', 'a5_1', 'a5_2', 'a5_3', 'a5_4'],\n",
      "[[0, 1, 2, 3, 4],\n",
      " [1, 4, 3, 0, 2],\n",
      " [2, 3, 1, 4, 0],\n",
      " [3, 0, 4, 2, 1],\n",
      " [4, 2, 0, 1, 3]]\n",
      ")\n"
     ]
    }
   ],
   "source": [
    "groups5 = alg.tables_to_groups(tables5)\n",
    "for grp in groups5:\n",
    "    grp.pprint()"
   ]
  },
  {
   "cell_type": "code",
   "execution_count": 47,
   "id": "7d4d92e9",
   "metadata": {},
   "outputs": [],
   "source": [
    "# No two tables in groups5 are the same:\n",
    "\n",
    "np_tables5 = [g.mult_table for g in groups5]\n",
    "\n",
    "for combo in it.combinations(groups5, 2):\n",
    "    if combo[0] == combo[1]:\n",
    "        print(combo[0])"
   ]
  },
  {
   "cell_type": "code",
   "execution_count": 48,
   "id": "e9bf5f9c",
   "metadata": {},
   "outputs": [
    {
     "data": {
      "text/plain": [
       "[Group('G0',\n",
       " 'Group 0 of order 5',\n",
       " ['e0', 'a0_1', 'a0_2', 'a0_3', 'a0_4'],\n",
       " [[0, 1, 2, 3, 4], [1, 2, 3, 4, 0], [2, 3, 4, 0, 1], [3, 4, 0, 1, 2], [4, 0, 1, 2, 3]]) ,\n",
       " Group('G1',\n",
       " 'Group 1 of order 5',\n",
       " ['e1', 'a1_1', 'a1_2', 'a1_3', 'a1_4'],\n",
       " [[0, 1, 2, 3, 4], [1, 2, 4, 0, 3], [2, 4, 3, 1, 0], [3, 0, 1, 4, 2], [4, 3, 0, 2, 1]]) ,\n",
       " Group('G2',\n",
       " 'Group 2 of order 5',\n",
       " ['e2', 'a2_1', 'a2_2', 'a2_3', 'a2_4'],\n",
       " [[0, 1, 2, 3, 4], [1, 3, 0, 4, 2], [2, 0, 4, 1, 3], [3, 4, 1, 2, 0], [4, 2, 3, 0, 1]]) ,\n",
       " Group('G3',\n",
       " 'Group 3 of order 5',\n",
       " ['e3', 'a3_1', 'a3_2', 'a3_3', 'a3_4'],\n",
       " [[0, 1, 2, 3, 4], [1, 3, 4, 2, 0], [2, 4, 1, 0, 3], [3, 2, 0, 4, 1], [4, 0, 3, 1, 2]]) ,\n",
       " Group('G4',\n",
       " 'Group 4 of order 5',\n",
       " ['e4', 'a4_1', 'a4_2', 'a4_3', 'a4_4'],\n",
       " [[0, 1, 2, 3, 4], [1, 4, 0, 2, 3], [2, 0, 3, 4, 1], [3, 2, 4, 1, 0], [4, 3, 1, 0, 2]]) ,\n",
       " Group('G5',\n",
       " 'Group 5 of order 5',\n",
       " ['e5', 'a5_1', 'a5_2', 'a5_3', 'a5_4'],\n",
       " [[0, 1, 2, 3, 4], [1, 4, 3, 0, 2], [2, 3, 1, 4, 0], [3, 0, 4, 2, 1], [4, 2, 0, 1, 3]]) ]"
      ]
     },
     "execution_count": 48,
     "metadata": {},
     "output_type": "execute_result"
    }
   ],
   "source": [
    "# And yet, six of the groups are abelian:\n",
    "\n",
    "abelian_tables5 = [g for g in groups5 if g.abelian()]\n",
    "abelian_tables5"
   ]
  },
  {
   "cell_type": "code",
   "execution_count": 49,
   "id": "9d6810aa",
   "metadata": {},
   "outputs": [
    {
     "name": "stdout",
     "output_type": "stream",
     "text": [
      "([0, 1, 2, 3, 4], (1, 2, 3, 4, 0), (2, 3, 4, 0, 1), (3, 4, 0, 1, 2), (4, 0, 1, 2, 3))\n"
     ]
    }
   ],
   "source": [
    "tbl0 = tables5[0]\n",
    "print(tbl0)"
   ]
  },
  {
   "cell_type": "code",
   "execution_count": 50,
   "id": "40068312",
   "metadata": {},
   "outputs": [
    {
     "data": {
      "text/plain": [
       "True"
      ]
     },
     "execution_count": 50,
     "metadata": {},
     "output_type": "execute_result"
    }
   ],
   "source": [
    "alg.associative_table(tbl0)"
   ]
  },
  {
   "cell_type": "code",
   "execution_count": 51,
   "id": "454254a2",
   "metadata": {},
   "outputs": [
    {
     "data": {
      "text/plain": [
       "[([0, 1, 2, 3], (1, 0, 3, 2), (2, 3, 0, 1), (3, 2, 1, 0)),\n",
       " ([0, 1, 2, 3], (1, 0, 3, 2), (2, 3, 1, 0), (3, 2, 0, 1)),\n",
       " ([0, 1, 2, 3], (1, 2, 3, 0), (2, 3, 0, 1), (3, 0, 1, 2)),\n",
       " ([0, 1, 2, 3], (1, 3, 0, 2), (2, 0, 3, 1), (3, 2, 1, 0))]"
      ]
     },
     "execution_count": 51,
     "metadata": {},
     "output_type": "execute_result"
    }
   ],
   "source": [
    "alg.generate_all_group_tables(4)"
   ]
  },
  {
   "cell_type": "markdown",
   "id": "57f04ab9",
   "metadata": {},
   "source": [
    "### All Tables of Order 6 (WARNING: Long Compute Time)"
   ]
  },
  {
   "cell_type": "markdown",
   "id": "c251158c",
   "metadata": {},
   "source": [
    "<b>IMPORTANT NOTE:</b>The computation of all group tables of order 6 currently takes between 4.5 & 6 hours, so the resuls have been saved in a file, tables5.py.  The file, groups5.py, was also saved."
   ]
  },
  {
   "cell_type": "raw",
   "id": "e539b451",
   "metadata": {},
   "source": [
    "tables6 = gen_all_group_tables(6)"
   ]
  },
  {
   "cell_type": "code",
   "execution_count": 52,
   "id": "5f2caf9f",
   "metadata": {},
   "outputs": [],
   "source": [
    "%run -i '../misc/tables6.py'"
   ]
  },
  {
   "cell_type": "code",
   "execution_count": 53,
   "id": "ac42768b",
   "metadata": {},
   "outputs": [
    {
     "data": {
      "text/plain": [
       "80"
      ]
     },
     "execution_count": 53,
     "metadata": {},
     "output_type": "execute_result"
    }
   ],
   "source": [
    "tables6\n",
    "len(tables6)"
   ]
  },
  {
   "cell_type": "code",
   "execution_count": 54,
   "id": "d10623bd",
   "metadata": {},
   "outputs": [
    {
     "data": {
      "text/plain": [
       "[Group('G0',\n",
       " 'Group 0 of order 6',\n",
       " ['e0', 'a0_1', 'a0_2', 'a0_3', 'a0_4', 'a0_5'],\n",
       " [[0, 1, 2, 3, 4, 5], [1, 0, 3, 2, 5, 4], [2, 3, 4, 5, 0, 1], [3, 2, 5, 4, 1, 0], [4, 5, 0, 1, 2, 3], [5, 4, 1, 0, 3, 2]]) ,\n",
       " Group('G1',\n",
       " 'Group 1 of order 6',\n",
       " ['e1', 'a1_1', 'a1_2', 'a1_3', 'a1_4', 'a1_5'],\n",
       " [[0, 1, 2, 3, 4, 5], [1, 0, 3, 2, 5, 4], [2, 3, 4, 5, 1, 0], [3, 2, 5, 4, 0, 1], [4, 5, 1, 0, 3, 2], [5, 4, 0, 1, 2, 3]]) ,\n",
       " Group('G2',\n",
       " 'Group 2 of order 6',\n",
       " ['e2', 'a2_1', 'a2_2', 'a2_3', 'a2_4', 'a2_5'],\n",
       " [[0, 1, 2, 3, 4, 5], [1, 0, 3, 2, 5, 4], [2, 3, 5, 4, 0, 1], [3, 2, 4, 5, 1, 0], [4, 5, 0, 1, 3, 2], [5, 4, 1, 0, 2, 3]]) ,\n",
       " Group('G3',\n",
       " 'Group 3 of order 6',\n",
       " ['e3', 'a3_1', 'a3_2', 'a3_3', 'a3_4', 'a3_5'],\n",
       " [[0, 1, 2, 3, 4, 5], [1, 0, 3, 2, 5, 4], [2, 3, 5, 4, 1, 0], [3, 2, 4, 5, 0, 1], [4, 5, 1, 0, 2, 3], [5, 4, 0, 1, 3, 2]]) ,\n",
       " Group('G4',\n",
       " 'Group 4 of order 6',\n",
       " ['e4', 'a4_1', 'a4_2', 'a4_3', 'a4_4', 'a4_5'],\n",
       " [[0, 1, 2, 3, 4, 5], [1, 0, 3, 2, 5, 4], [2, 4, 0, 5, 1, 3], [3, 5, 1, 4, 0, 2], [4, 2, 5, 0, 3, 1], [5, 3, 4, 1, 2, 0]]) ,\n",
       " Group('G5',\n",
       " 'Group 5 of order 6',\n",
       " ['e5', 'a5_1', 'a5_2', 'a5_3', 'a5_4', 'a5_5'],\n",
       " [[0, 1, 2, 3, 4, 5], [1, 0, 3, 2, 5, 4], [2, 4, 5, 1, 3, 0], [3, 5, 4, 0, 2, 1], [4, 2, 1, 5, 0, 3], [5, 3, 0, 4, 1, 2]]) ,\n",
       " Group('G6',\n",
       " 'Group 6 of order 6',\n",
       " ['e6', 'a6_1', 'a6_2', 'a6_3', 'a6_4', 'a6_5'],\n",
       " [[0, 1, 2, 3, 4, 5], [1, 0, 3, 2, 5, 4], [2, 5, 0, 4, 3, 1], [3, 4, 1, 5, 2, 0], [4, 3, 5, 1, 0, 2], [5, 2, 4, 0, 1, 3]]) ,\n",
       " Group('G7',\n",
       " 'Group 7 of order 6',\n",
       " ['e7', 'a7_1', 'a7_2', 'a7_3', 'a7_4', 'a7_5'],\n",
       " [[0, 1, 2, 3, 4, 5], [1, 0, 3, 2, 5, 4], [2, 5, 4, 1, 0, 3], [3, 4, 5, 0, 1, 2], [4, 3, 0, 5, 2, 1], [5, 2, 1, 4, 3, 0]]) ,\n",
       " Group('G8',\n",
       " 'Group 8 of order 6',\n",
       " ['e8', 'a8_1', 'a8_2', 'a8_3', 'a8_4', 'a8_5'],\n",
       " [[0, 1, 2, 3, 4, 5], [1, 0, 4, 5, 2, 3], [2, 3, 0, 1, 5, 4], [3, 2, 5, 4, 0, 1], [4, 5, 1, 0, 3, 2], [5, 4, 3, 2, 1, 0]]) ,\n",
       " Group('G9',\n",
       " 'Group 9 of order 6',\n",
       " ['e9', 'a9_1', 'a9_2', 'a9_3', 'a9_4', 'a9_5'],\n",
       " [[0, 1, 2, 3, 4, 5], [1, 0, 4, 5, 2, 3], [2, 3, 5, 4, 1, 0], [3, 2, 1, 0, 5, 4], [4, 5, 3, 2, 0, 1], [5, 4, 0, 1, 3, 2]]) ,\n",
       " Group('G10',\n",
       " 'Group 10 of order 6',\n",
       " ['e10', 'a10_1', 'a10_2', 'a10_3', 'a10_4', 'a10_5'],\n",
       " [[0, 1, 2, 3, 4, 5], [1, 0, 4, 5, 2, 3], [2, 4, 3, 0, 5, 1], [3, 5, 0, 2, 1, 4], [4, 2, 5, 1, 3, 0], [5, 3, 1, 4, 0, 2]]) ,\n",
       " Group('G11',\n",
       " 'Group 11 of order 6',\n",
       " ['e11', 'a11_1', 'a11_2', 'a11_3', 'a11_4', 'a11_5'],\n",
       " [[0, 1, 2, 3, 4, 5], [1, 0, 4, 5, 2, 3], [2, 4, 3, 1, 5, 0], [3, 5, 1, 4, 0, 2], [4, 2, 5, 0, 3, 1], [5, 3, 0, 2, 1, 4]]) ,\n",
       " Group('G12',\n",
       " 'Group 12 of order 6',\n",
       " ['e12', 'a12_1', 'a12_2', 'a12_3', 'a12_4', 'a12_5'],\n",
       " [[0, 1, 2, 3, 4, 5], [1, 0, 4, 5, 2, 3], [2, 4, 5, 0, 3, 1], [3, 5, 0, 4, 1, 2], [4, 2, 3, 1, 5, 0], [5, 3, 1, 2, 0, 4]]) ,\n",
       " Group('G13',\n",
       " 'Group 13 of order 6',\n",
       " ['e13', 'a13_1', 'a13_2', 'a13_3', 'a13_4', 'a13_5'],\n",
       " [[0, 1, 2, 3, 4, 5], [1, 0, 4, 5, 2, 3], [2, 4, 5, 1, 3, 0], [3, 5, 1, 2, 0, 4], [4, 2, 3, 0, 5, 1], [5, 3, 0, 4, 1, 2]]) ,\n",
       " Group('G14',\n",
       " 'Group 14 of order 6',\n",
       " ['e14', 'a14_1', 'a14_2', 'a14_3', 'a14_4', 'a14_5'],\n",
       " [[0, 1, 2, 3, 4, 5], [1, 0, 4, 5, 2, 3], [2, 5, 0, 4, 3, 1], [3, 4, 5, 0, 1, 2], [4, 3, 1, 2, 5, 0], [5, 2, 3, 1, 0, 4]]) ,\n",
       " Group('G15',\n",
       " 'Group 15 of order 6',\n",
       " ['e15', 'a15_1', 'a15_2', 'a15_3', 'a15_4', 'a15_5'],\n",
       " [[0, 1, 2, 3, 4, 5], [1, 0, 4, 5, 2, 3], [2, 5, 3, 0, 1, 4], [3, 4, 0, 2, 5, 1], [4, 3, 5, 1, 0, 2], [5, 2, 1, 4, 3, 0]]) ,\n",
       " Group('G16',\n",
       " 'Group 16 of order 6',\n",
       " ['e16', 'a16_1', 'a16_2', 'a16_3', 'a16_4', 'a16_5'],\n",
       " [[0, 1, 2, 3, 4, 5], [1, 0, 5, 4, 3, 2], [2, 3, 0, 1, 5, 4], [3, 2, 4, 5, 1, 0], [4, 5, 3, 2, 0, 1], [5, 4, 1, 0, 2, 3]]) ,\n",
       " Group('G17',\n",
       " 'Group 17 of order 6',\n",
       " ['e17', 'a17_1', 'a17_2', 'a17_3', 'a17_4', 'a17_5'],\n",
       " [[0, 1, 2, 3, 4, 5], [1, 0, 5, 4, 3, 2], [2, 3, 4, 5, 0, 1], [3, 2, 1, 0, 5, 4], [4, 5, 0, 1, 2, 3], [5, 4, 3, 2, 1, 0]]) ,\n",
       " Group('G18',\n",
       " 'Group 18 of order 6',\n",
       " ['e18', 'a18_1', 'a18_2', 'a18_3', 'a18_4', 'a18_5'],\n",
       " [[0, 1, 2, 3, 4, 5], [1, 0, 5, 4, 3, 2], [2, 4, 0, 5, 1, 3], [3, 5, 4, 0, 2, 1], [4, 2, 3, 1, 5, 0], [5, 3, 1, 2, 0, 4]]) ,\n",
       " Group('G19',\n",
       " 'Group 19 of order 6',\n",
       " ['e19', 'a19_1', 'a19_2', 'a19_3', 'a19_4', 'a19_5'],\n",
       " [[0, 1, 2, 3, 4, 5], [1, 0, 5, 4, 3, 2], [2, 4, 3, 0, 5, 1], [3, 5, 0, 2, 1, 4], [4, 2, 1, 5, 0, 3], [5, 3, 4, 1, 2, 0]]) ,\n",
       " Group('G20',\n",
       " 'Group 20 of order 6',\n",
       " ['e20', 'a20_1', 'a20_2', 'a20_3', 'a20_4', 'a20_5'],\n",
       " [[0, 1, 2, 3, 4, 5], [1, 0, 5, 4, 3, 2], [2, 5, 3, 0, 1, 4], [3, 4, 0, 2, 5, 1], [4, 3, 1, 5, 2, 0], [5, 2, 4, 1, 0, 3]]) ,\n",
       " Group('G21',\n",
       " 'Group 21 of order 6',\n",
       " ['e21', 'a21_1', 'a21_2', 'a21_3', 'a21_4', 'a21_5'],\n",
       " [[0, 1, 2, 3, 4, 5], [1, 0, 5, 4, 3, 2], [2, 5, 3, 1, 0, 4], [3, 4, 1, 5, 2, 0], [4, 3, 0, 2, 5, 1], [5, 2, 4, 0, 1, 3]]) ,\n",
       " Group('G22',\n",
       " 'Group 22 of order 6',\n",
       " ['e22', 'a22_1', 'a22_2', 'a22_3', 'a22_4', 'a22_5'],\n",
       " [[0, 1, 2, 3, 4, 5], [1, 0, 5, 4, 3, 2], [2, 5, 4, 0, 1, 3], [3, 4, 0, 5, 2, 1], [4, 3, 1, 2, 5, 0], [5, 2, 3, 1, 0, 4]]) ,\n",
       " Group('G23',\n",
       " 'Group 23 of order 6',\n",
       " ['e23', 'a23_1', 'a23_2', 'a23_3', 'a23_4', 'a23_5'],\n",
       " [[0, 1, 2, 3, 4, 5], [1, 0, 5, 4, 3, 2], [2, 5, 4, 1, 0, 3], [3, 4, 1, 2, 5, 0], [4, 3, 0, 5, 2, 1], [5, 2, 3, 0, 1, 4]]) ,\n",
       " Group('G24',\n",
       " 'Group 24 of order 6',\n",
       " ['e24', 'a24_1', 'a24_2', 'a24_3', 'a24_4', 'a24_5'],\n",
       " [[0, 1, 2, 3, 4, 5], [1, 2, 0, 4, 5, 3], [2, 0, 1, 5, 3, 4], [3, 4, 5, 0, 1, 2], [4, 5, 3, 1, 2, 0], [5, 3, 4, 2, 0, 1]]) ,\n",
       " Group('G25',\n",
       " 'Group 25 of order 6',\n",
       " ['e25', 'a25_1', 'a25_2', 'a25_3', 'a25_4', 'a25_5'],\n",
       " [[0, 1, 2, 3, 4, 5], [1, 2, 0, 4, 5, 3], [2, 0, 1, 5, 3, 4], [3, 4, 5, 1, 2, 0], [4, 5, 3, 2, 0, 1], [5, 3, 4, 0, 1, 2]]) ,\n",
       " Group('G26',\n",
       " 'Group 26 of order 6',\n",
       " ['e26', 'a26_1', 'a26_2', 'a26_3', 'a26_4', 'a26_5'],\n",
       " [[0, 1, 2, 3, 4, 5], [1, 2, 0, 4, 5, 3], [2, 0, 1, 5, 3, 4], [3, 4, 5, 2, 0, 1], [4, 5, 3, 0, 1, 2], [5, 3, 4, 1, 2, 0]]) ,\n",
       " Group('G27',\n",
       " 'Group 27 of order 6',\n",
       " ['e27', 'a27_1', 'a27_2', 'a27_3', 'a27_4', 'a27_5'],\n",
       " [[0, 1, 2, 3, 4, 5], [1, 2, 0, 4, 5, 3], [2, 0, 1, 5, 3, 4], [3, 5, 4, 0, 2, 1], [4, 3, 5, 1, 0, 2], [5, 4, 3, 2, 1, 0]]) ,\n",
       " Group('G28',\n",
       " 'Group 28 of order 6',\n",
       " ['e28', 'a28_1', 'a28_2', 'a28_3', 'a28_4', 'a28_5'],\n",
       " [[0, 1, 2, 3, 4, 5], [1, 2, 0, 5, 3, 4], [2, 0, 1, 4, 5, 3], [3, 4, 5, 0, 1, 2], [4, 5, 3, 2, 0, 1], [5, 3, 4, 1, 2, 0]]) ,\n",
       " Group('G29',\n",
       " 'Group 29 of order 6',\n",
       " ['e29', 'a29_1', 'a29_2', 'a29_3', 'a29_4', 'a29_5'],\n",
       " [[0, 1, 2, 3, 4, 5], [1, 2, 0, 5, 3, 4], [2, 0, 1, 4, 5, 3], [3, 5, 4, 0, 2, 1], [4, 3, 5, 2, 1, 0], [5, 4, 3, 1, 0, 2]]) ,\n",
       " Group('G30',\n",
       " 'Group 30 of order 6',\n",
       " ['e30', 'a30_1', 'a30_2', 'a30_3', 'a30_4', 'a30_5'],\n",
       " [[0, 1, 2, 3, 4, 5], [1, 2, 0, 5, 3, 4], [2, 0, 1, 4, 5, 3], [3, 5, 4, 1, 0, 2], [4, 3, 5, 0, 2, 1], [5, 4, 3, 2, 1, 0]]) ,\n",
       " Group('G31',\n",
       " 'Group 31 of order 6',\n",
       " ['e31', 'a31_1', 'a31_2', 'a31_3', 'a31_4', 'a31_5'],\n",
       " [[0, 1, 2, 3, 4, 5], [1, 2, 0, 5, 3, 4], [2, 0, 1, 4, 5, 3], [3, 5, 4, 2, 1, 0], [4, 3, 5, 1, 0, 2], [5, 4, 3, 0, 2, 1]]) ,\n",
       " Group('G32',\n",
       " 'Group 32 of order 6',\n",
       " ['e32', 'a32_1', 'a32_2', 'a32_3', 'a32_4', 'a32_5'],\n",
       " [[0, 1, 2, 3, 4, 5], [1, 2, 3, 4, 5, 0], [2, 3, 4, 5, 0, 1], [3, 4, 5, 0, 1, 2], [4, 5, 0, 1, 2, 3], [5, 0, 1, 2, 3, 4]]) ,\n",
       " Group('G33',\n",
       " 'Group 33 of order 6',\n",
       " ['e33', 'a33_1', 'a33_2', 'a33_3', 'a33_4', 'a33_5'],\n",
       " [[0, 1, 2, 3, 4, 5], [1, 2, 3, 5, 0, 4], [2, 3, 5, 4, 1, 0], [3, 5, 4, 0, 2, 1], [4, 0, 1, 2, 5, 3], [5, 4, 0, 1, 3, 2]]) ,\n",
       " Group('G34',\n",
       " 'Group 34 of order 6',\n",
       " ['e34', 'a34_1', 'a34_2', 'a34_3', 'a34_4', 'a34_5'],\n",
       " [[0, 1, 2, 3, 4, 5], [1, 2, 4, 0, 5, 3], [2, 4, 5, 1, 3, 0], [3, 0, 1, 5, 2, 4], [4, 5, 3, 2, 0, 1], [5, 3, 0, 4, 1, 2]]) ,\n",
       " Group('G35',\n",
       " 'Group 35 of order 6',\n",
       " ['e35', 'a35_1', 'a35_2', 'a35_3', 'a35_4', 'a35_5'],\n",
       " [[0, 1, 2, 3, 4, 5], [1, 2, 4, 5, 3, 0], [2, 4, 3, 0, 5, 1], [3, 5, 0, 2, 1, 4], [4, 3, 5, 1, 0, 2], [5, 0, 1, 4, 2, 3]]) ,\n",
       " Group('G36',\n",
       " 'Group 36 of order 6',\n",
       " ['e36', 'a36_1', 'a36_2', 'a36_3', 'a36_4', 'a36_5'],\n",
       " [[0, 1, 2, 3, 4, 5], [1, 2, 5, 0, 3, 4], [2, 5, 4, 1, 0, 3], [3, 0, 1, 4, 5, 2], [4, 3, 0, 5, 2, 1], [5, 4, 3, 2, 1, 0]]) ,\n",
       " Group('G37',\n",
       " 'Group 37 of order 6',\n",
       " ['e37', 'a37_1', 'a37_2', 'a37_3', 'a37_4', 'a37_5'],\n",
       " [[0, 1, 2, 3, 4, 5], [1, 2, 5, 4, 0, 3], [2, 5, 3, 0, 1, 4], [3, 4, 0, 2, 5, 1], [4, 0, 1, 5, 3, 2], [5, 3, 4, 1, 2, 0]]) ,\n",
       " Group('G38',\n",
       " 'Group 38 of order 6',\n",
       " ['e38', 'a38_1', 'a38_2', 'a38_3', 'a38_4', 'a38_5'],\n",
       " [[0, 1, 2, 3, 4, 5], [1, 3, 0, 4, 5, 2], [2, 0, 5, 1, 3, 4], [3, 4, 1, 5, 2, 0], [4, 5, 3, 2, 0, 1], [5, 2, 4, 0, 1, 3]]) ,\n",
       " Group('G39',\n",
       " 'Group 39 of order 6',\n",
       " ['e39', 'a39_1', 'a39_2', 'a39_3', 'a39_4', 'a39_5'],\n",
       " [[0, 1, 2, 3, 4, 5], [1, 3, 0, 5, 2, 4], [2, 0, 4, 1, 5, 3], [3, 5, 1, 4, 0, 2], [4, 2, 5, 0, 3, 1], [5, 4, 3, 2, 1, 0]]) ,\n",
       " Group('G40',\n",
       " 'Group 40 of order 6',\n",
       " ['e40', 'a40_1', 'a40_2', 'a40_3', 'a40_4', 'a40_5'],\n",
       " [[0, 1, 2, 3, 4, 5], [1, 3, 4, 0, 5, 2], [2, 4, 0, 5, 1, 3], [3, 0, 5, 1, 2, 4], [4, 5, 1, 2, 3, 0], [5, 2, 3, 4, 0, 1]]) ,\n",
       " Group('G41',\n",
       " 'Group 41 of order 6',\n",
       " ['e41', 'a41_1', 'a41_2', 'a41_3', 'a41_4', 'a41_5'],\n",
       " [[0, 1, 2, 3, 4, 5], [1, 3, 4, 0, 5, 2], [2, 4, 1, 5, 3, 0], [3, 0, 5, 1, 2, 4], [4, 5, 3, 2, 0, 1], [5, 2, 0, 4, 1, 3]]) ,\n",
       " Group('G42',\n",
       " 'Group 42 of order 6',\n",
       " ['e42', 'a42_1', 'a42_2', 'a42_3', 'a42_4', 'a42_5'],\n",
       " [[0, 1, 2, 3, 4, 5], [1, 3, 4, 0, 5, 2], [2, 4, 3, 5, 0, 1], [3, 0, 5, 1, 2, 4], [4, 5, 0, 2, 1, 3], [5, 2, 1, 4, 3, 0]]) ,\n",
       " Group('G43',\n",
       " 'Group 43 of order 6',\n",
       " ['e43', 'a43_1', 'a43_2', 'a43_3', 'a43_4', 'a43_5'],\n",
       " [[0, 1, 2, 3, 4, 5], [1, 3, 4, 0, 5, 2], [2, 5, 0, 4, 3, 1], [3, 0, 5, 1, 2, 4], [4, 2, 1, 5, 0, 3], [5, 4, 3, 2, 1, 0]]) ,\n",
       " Group('G44',\n",
       " 'Group 44 of order 6',\n",
       " ['e44', 'a44_1', 'a44_2', 'a44_3', 'a44_4', 'a44_5'],\n",
       " [[0, 1, 2, 3, 4, 5], [1, 3, 4, 2, 5, 0], [2, 4, 0, 5, 1, 3], [3, 2, 5, 4, 0, 1], [4, 5, 1, 0, 3, 2], [5, 0, 3, 1, 2, 4]]) ,\n",
       " Group('G45',\n",
       " 'Group 45 of order 6',\n",
       " ['e45', 'a45_1', 'a45_2', 'a45_3', 'a45_4', 'a45_5'],\n",
       " [[0, 1, 2, 3, 4, 5], [1, 3, 4, 5, 0, 2], [2, 4, 3, 0, 5, 1], [3, 5, 0, 2, 1, 4], [4, 0, 5, 1, 2, 3], [5, 2, 1, 4, 3, 0]]) ,\n",
       " Group('G46',\n",
       " 'Group 46 of order 6',\n",
       " ['e46', 'a46_1', 'a46_2', 'a46_3', 'a46_4', 'a46_5'],\n",
       " [[0, 1, 2, 3, 4, 5], [1, 3, 5, 0, 2, 4], [2, 4, 0, 5, 1, 3], [3, 0, 4, 1, 5, 2], [4, 5, 3, 2, 0, 1], [5, 2, 1, 4, 3, 0]]) ,\n",
       " Group('G47',\n",
       " 'Group 47 of order 6',\n",
       " ['e47', 'a47_1', 'a47_2', 'a47_3', 'a47_4', 'a47_5'],\n",
       " [[0, 1, 2, 3, 4, 5], [1, 3, 5, 0, 2, 4], [2, 5, 0, 4, 3, 1], [3, 0, 4, 1, 5, 2], [4, 2, 3, 5, 1, 0], [5, 4, 1, 2, 0, 3]]) ,\n",
       " Group('G48',\n",
       " 'Group 48 of order 6',\n",
       " ['e48', 'a48_1', 'a48_2', 'a48_3', 'a48_4', 'a48_5'],\n",
       " [[0, 1, 2, 3, 4, 5], [1, 3, 5, 0, 2, 4], [2, 5, 1, 4, 0, 3], [3, 0, 4, 1, 5, 2], [4, 2, 0, 5, 3, 1], [5, 4, 3, 2, 1, 0]]) ,\n",
       " Group('G49',\n",
       " 'Group 49 of order 6',\n",
       " ['e49', 'a49_1', 'a49_2', 'a49_3', 'a49_4', 'a49_5'],\n",
       " [[0, 1, 2, 3, 4, 5], [1, 3, 5, 0, 2, 4], [2, 5, 3, 4, 1, 0], [3, 0, 4, 1, 5, 2], [4, 2, 1, 5, 0, 3], [5, 4, 0, 2, 3, 1]]) ,\n",
       " Group('G50',\n",
       " 'Group 50 of order 6',\n",
       " ['e50', 'a50_1', 'a50_2', 'a50_3', 'a50_4', 'a50_5'],\n",
       " [[0, 1, 2, 3, 4, 5], [1, 3, 5, 2, 0, 4], [2, 5, 0, 4, 3, 1], [3, 2, 4, 5, 1, 0], [4, 0, 3, 1, 5, 2], [5, 4, 1, 0, 2, 3]]) ,\n",
       " Group('G51',\n",
       " 'Group 51 of order 6',\n",
       " ['e51', 'a51_1', 'a51_2', 'a51_3', 'a51_4', 'a51_5'],\n",
       " [[0, 1, 2, 3, 4, 5], [1, 3, 5, 4, 2, 0], [2, 5, 3, 0, 1, 4], [3, 4, 0, 2, 5, 1], [4, 2, 1, 5, 0, 3], [5, 0, 4, 1, 3, 2]]) ,\n",
       " Group('G52',\n",
       " 'Group 52 of order 6',\n",
       " ['e52', 'a52_1', 'a52_2', 'a52_3', 'a52_4', 'a52_5'],\n",
       " [[0, 1, 2, 3, 4, 5], [1, 4, 0, 2, 5, 3], [2, 0, 3, 5, 1, 4], [3, 2, 5, 4, 0, 1], [4, 5, 1, 0, 3, 2], [5, 3, 4, 1, 2, 0]]) ,\n",
       " Group('G53',\n",
       " 'Group 53 of order 6',\n",
       " ['e53', 'a53_1', 'a53_2', 'a53_3', 'a53_4', 'a53_5'],\n",
       " [[0, 1, 2, 3, 4, 5], [1, 4, 0, 5, 3, 2], [2, 0, 5, 4, 1, 3], [3, 5, 4, 0, 2, 1], [4, 3, 1, 2, 5, 0], [5, 2, 3, 1, 0, 4]]) ,\n",
       " Group('G54',\n",
       " 'Group 54 of order 6',\n",
       " ['e54', 'a54_1', 'a54_2', 'a54_3', 'a54_4', 'a54_5'],\n",
       " [[0, 1, 2, 3, 4, 5], [1, 4, 3, 0, 5, 2], [2, 3, 4, 5, 0, 1], [3, 0, 5, 2, 1, 4], [4, 5, 0, 1, 2, 3], [5, 2, 1, 4, 3, 0]]) ,\n",
       " Group('G55',\n",
       " 'Group 55 of order 6',\n",
       " ['e55', 'a55_1', 'a55_2', 'a55_3', 'a55_4', 'a55_5'],\n",
       " [[0, 1, 2, 3, 4, 5], [1, 4, 3, 5, 0, 2], [2, 3, 0, 1, 5, 4], [3, 5, 1, 4, 2, 0], [4, 0, 5, 2, 1, 3], [5, 2, 4, 0, 3, 1]]) ,\n",
       " Group('G56',\n",
       " 'Group 56 of order 6',\n",
       " ['e56', 'a56_1', 'a56_2', 'a56_3', 'a56_4', 'a56_5'],\n",
       " [[0, 1, 2, 3, 4, 5], [1, 4, 3, 5, 0, 2], [2, 3, 1, 4, 5, 0], [3, 5, 4, 0, 2, 1], [4, 0, 5, 2, 1, 3], [5, 2, 0, 1, 3, 4]]) ,\n",
       " Group('G57',\n",
       " 'Group 57 of order 6',\n",
       " ['e57', 'a57_1', 'a57_2', 'a57_3', 'a57_4', 'a57_5'],\n",
       " [[0, 1, 2, 3, 4, 5], [1, 4, 3, 5, 0, 2], [2, 3, 4, 0, 5, 1], [3, 5, 0, 1, 2, 4], [4, 0, 5, 2, 1, 3], [5, 2, 1, 4, 3, 0]]) ,\n",
       " Group('G58',\n",
       " 'Group 58 of order 6',\n",
       " ['e58', 'a58_1', 'a58_2', 'a58_3', 'a58_4', 'a58_5'],\n",
       " [[0, 1, 2, 3, 4, 5], [1, 4, 3, 5, 0, 2], [2, 5, 0, 4, 3, 1], [3, 2, 1, 0, 5, 4], [4, 0, 5, 2, 1, 3], [5, 3, 4, 1, 2, 0]]) ,\n",
       " Group('G59',\n",
       " 'Group 59 of order 6',\n",
       " ['e59', 'a59_1', 'a59_2', 'a59_3', 'a59_4', 'a59_5'],\n",
       " [[0, 1, 2, 3, 4, 5], [1, 4, 3, 5, 2, 0], [2, 3, 0, 1, 5, 4], [3, 5, 1, 4, 0, 2], [4, 2, 5, 0, 3, 1], [5, 0, 4, 2, 1, 3]]) ,\n",
       " Group('G60',\n",
       " 'Group 60 of order 6',\n",
       " ['e60', 'a60_1', 'a60_2', 'a60_3', 'a60_4', 'a60_5'],\n",
       " [[0, 1, 2, 3, 4, 5], [1, 4, 5, 0, 2, 3], [2, 5, 0, 4, 3, 1], [3, 0, 4, 5, 1, 2], [4, 2, 3, 1, 5, 0], [5, 3, 1, 2, 0, 4]]) ,\n",
       " Group('G61',\n",
       " 'Group 61 of order 6',\n",
       " ['e61', 'a61_1', 'a61_2', 'a61_3', 'a61_4', 'a61_5'],\n",
       " [[0, 1, 2, 3, 4, 5], [1, 4, 5, 2, 0, 3], [2, 3, 0, 1, 5, 4], [3, 5, 4, 0, 2, 1], [4, 0, 3, 5, 1, 2], [5, 2, 1, 4, 3, 0]]) ,\n",
       " Group('G62',\n",
       " 'Group 62 of order 6',\n",
       " ['e62', 'a62_1', 'a62_2', 'a62_3', 'a62_4', 'a62_5'],\n",
       " [[0, 1, 2, 3, 4, 5], [1, 4, 5, 2, 0, 3], [2, 5, 0, 4, 3, 1], [3, 2, 4, 1, 5, 0], [4, 0, 3, 5, 1, 2], [5, 3, 1, 0, 2, 4]]) ,\n",
       " Group('G63',\n",
       " 'Group 63 of order 6',\n",
       " ['e63', 'a63_1', 'a63_2', 'a63_3', 'a63_4', 'a63_5'],\n",
       " [[0, 1, 2, 3, 4, 5], [1, 4, 5, 2, 0, 3], [2, 5, 1, 0, 3, 4], [3, 2, 0, 4, 5, 1], [4, 0, 3, 5, 1, 2], [5, 3, 4, 1, 2, 0]]) ,\n",
       " Group('G64',\n",
       " 'Group 64 of order 6',\n",
       " ['e64', 'a64_1', 'a64_2', 'a64_3', 'a64_4', 'a64_5'],\n",
       " [[0, 1, 2, 3, 4, 5], [1, 4, 5, 2, 0, 3], [2, 5, 4, 1, 3, 0], [3, 2, 1, 0, 5, 4], [4, 0, 3, 5, 1, 2], [5, 3, 0, 4, 2, 1]]) ,\n",
       " Group('G65',\n",
       " 'Group 65 of order 6',\n",
       " ['e65', 'a65_1', 'a65_2', 'a65_3', 'a65_4', 'a65_5'],\n",
       " [[0, 1, 2, 3, 4, 5], [1, 4, 5, 2, 3, 0], [2, 5, 4, 1, 0, 3], [3, 2, 1, 0, 5, 4], [4, 3, 0, 5, 2, 1], [5, 0, 3, 4, 1, 2]]) ,\n",
       " Group('G66',\n",
       " 'Group 66 of order 6',\n",
       " ['e66', 'a66_1', 'a66_2', 'a66_3', 'a66_4', 'a66_5'],\n",
       " [[0, 1, 2, 3, 4, 5], [1, 5, 0, 2, 3, 4], [2, 0, 3, 4, 5, 1], [3, 2, 4, 5, 1, 0], [4, 3, 5, 1, 0, 2], [5, 4, 1, 0, 2, 3]]) ,\n",
       " Group('G67',\n",
       " 'Group 67 of order 6',\n",
       " ['e67', 'a67_1', 'a67_2', 'a67_3', 'a67_4', 'a67_5'],\n",
       " [[0, 1, 2, 3, 4, 5], [1, 5, 0, 4, 2, 3], [2, 0, 4, 5, 3, 1], [3, 4, 5, 0, 1, 2], [4, 2, 3, 1, 5, 0], [5, 3, 1, 2, 0, 4]]) ,\n",
       " Group('G68',\n",
       " 'Group 68 of order 6',\n",
       " ['e68', 'a68_1', 'a68_2', 'a68_3', 'a68_4', 'a68_5'],\n",
       " [[0, 1, 2, 3, 4, 5], [1, 5, 3, 0, 2, 4], [2, 3, 5, 4, 1, 0], [3, 0, 4, 2, 5, 1], [4, 2, 1, 5, 0, 3], [5, 4, 0, 1, 3, 2]]) ,\n",
       " Group('G69',\n",
       " 'Group 69 of order 6',\n",
       " ['e69', 'a69_1', 'a69_2', 'a69_3', 'a69_4', 'a69_5'],\n",
       " [[0, 1, 2, 3, 4, 5], [1, 5, 3, 4, 0, 2], [2, 3, 0, 1, 5, 4], [3, 4, 1, 5, 2, 0], [4, 0, 5, 2, 3, 1], [5, 2, 4, 0, 1, 3]]) ,\n",
       " Group('G70',\n",
       " 'Group 70 of order 6',\n",
       " ['e70', 'a70_1', 'a70_2', 'a70_3', 'a70_4', 'a70_5'],\n",
       " [[0, 1, 2, 3, 4, 5], [1, 5, 3, 4, 2, 0], [2, 3, 0, 1, 5, 4], [3, 4, 1, 5, 0, 2], [4, 2, 5, 0, 1, 3], [5, 0, 4, 2, 3, 1]]) ,\n",
       " Group('G71',\n",
       " 'Group 71 of order 6',\n",
       " ['e71', 'a71_1', 'a71_2', 'a71_3', 'a71_4', 'a71_5'],\n",
       " [[0, 1, 2, 3, 4, 5], [1, 5, 3, 4, 2, 0], [2, 3, 1, 5, 0, 4], [3, 4, 5, 0, 1, 2], [4, 2, 0, 1, 5, 3], [5, 0, 4, 2, 3, 1]]) ,\n",
       " Group('G72',\n",
       " 'Group 72 of order 6',\n",
       " ['e72', 'a72_1', 'a72_2', 'a72_3', 'a72_4', 'a72_5'],\n",
       " [[0, 1, 2, 3, 4, 5], [1, 5, 3, 4, 2, 0], [2, 3, 5, 0, 1, 4], [3, 4, 0, 1, 5, 2], [4, 2, 1, 5, 0, 3], [5, 0, 4, 2, 3, 1]]) ,\n",
       " Group('G73',\n",
       " 'Group 73 of order 6',\n",
       " ['e73', 'a73_1', 'a73_2', 'a73_3', 'a73_4', 'a73_5'],\n",
       " [[0, 1, 2, 3, 4, 5], [1, 5, 3, 4, 2, 0], [2, 4, 0, 5, 1, 3], [3, 2, 1, 0, 5, 4], [4, 3, 5, 1, 0, 2], [5, 0, 4, 2, 3, 1]]) ,\n",
       " Group('G74',\n",
       " 'Group 74 of order 6',\n",
       " ['e74', 'a74_1', 'a74_2', 'a74_3', 'a74_4', 'a74_5'],\n",
       " [[0, 1, 2, 3, 4, 5], [1, 5, 4, 0, 3, 2], [2, 4, 0, 5, 1, 3], [3, 0, 5, 4, 2, 1], [4, 3, 1, 2, 5, 0], [5, 2, 3, 1, 0, 4]]) ,\n",
       " Group('G75',\n",
       " 'Group 75 of order 6',\n",
       " ['e75', 'a75_1', 'a75_2', 'a75_3', 'a75_4', 'a75_5'],\n",
       " [[0, 1, 2, 3, 4, 5], [1, 5, 4, 2, 0, 3], [2, 4, 5, 1, 3, 0], [3, 2, 1, 0, 5, 4], [4, 0, 3, 5, 2, 1], [5, 3, 0, 4, 1, 2]]) ,\n",
       " Group('G76',\n",
       " 'Group 76 of order 6',\n",
       " ['e76', 'a76_1', 'a76_2', 'a76_3', 'a76_4', 'a76_5'],\n",
       " [[0, 1, 2, 3, 4, 5], [1, 5, 4, 2, 3, 0], [2, 3, 0, 1, 5, 4], [3, 4, 5, 0, 1, 2], [4, 2, 1, 5, 0, 3], [5, 0, 3, 4, 2, 1]]) ,\n",
       " Group('G77',\n",
       " 'Group 77 of order 6',\n",
       " ['e77', 'a77_1', 'a77_2', 'a77_3', 'a77_4', 'a77_5'],\n",
       " [[0, 1, 2, 3, 4, 5], [1, 5, 4, 2, 3, 0], [2, 4, 0, 5, 1, 3], [3, 2, 5, 1, 0, 4], [4, 3, 1, 0, 5, 2], [5, 0, 3, 4, 2, 1]]) ,\n",
       " Group('G78',\n",
       " 'Group 78 of order 6',\n",
       " ['e78', 'a78_1', 'a78_2', 'a78_3', 'a78_4', 'a78_5'],\n",
       " [[0, 1, 2, 3, 4, 5], [1, 5, 4, 2, 3, 0], [2, 4, 1, 0, 5, 3], [3, 2, 0, 5, 1, 4], [4, 3, 5, 1, 0, 2], [5, 0, 3, 4, 2, 1]]) ,\n",
       " Group('G79',\n",
       " 'Group 79 of order 6',\n",
       " ['e79', 'a79_1', 'a79_2', 'a79_3', 'a79_4', 'a79_5'],\n",
       " [[0, 1, 2, 3, 4, 5], [1, 5, 4, 2, 3, 0], [2, 4, 5, 1, 0, 3], [3, 2, 1, 0, 5, 4], [4, 3, 0, 5, 1, 2], [5, 0, 3, 4, 2, 1]]) ]"
      ]
     },
     "execution_count": 54,
     "metadata": {},
     "output_type": "execute_result"
    }
   ],
   "source": [
    "groups6 = alg.tables_to_groups(tables6)\n",
    "groups6"
   ]
  },
  {
   "cell_type": "code",
   "execution_count": 55,
   "id": "946b16fc",
   "metadata": {},
   "outputs": [
    {
     "name": "stdout",
     "output_type": "stream",
     "text": [
      "['G4', 'G5', 'G6', 'G7', 'G8', 'G9', 'G14', 'G15', 'G16', 'G17', 'G18', 'G19', 'G27', 'G28', 'G43', 'G46', 'G58', 'G61', 'G73', 'G76']\n"
     ]
    }
   ],
   "source": [
    "not_abelian6 = [g.name for g in groups6 if not g.abelian()]\n",
    "print(not_abelian6)"
   ]
  },
  {
   "cell_type": "code",
   "execution_count": 56,
   "id": "23345e79",
   "metadata": {},
   "outputs": [
    {
     "data": {
      "text/plain": [
       "20"
      ]
     },
     "execution_count": 56,
     "metadata": {},
     "output_type": "execute_result"
    }
   ],
   "source": [
    "iso_to_g4 = [g for g in groups6 if groups6[4].isomorphic(g)]\n",
    "len(iso_to_g4)"
   ]
  },
  {
   "cell_type": "code",
   "execution_count": 57,
   "id": "bb66b226",
   "metadata": {},
   "outputs": [
    {
     "data": {
      "text/plain": [
       "60"
      ]
     },
     "execution_count": 57,
     "metadata": {},
     "output_type": "execute_result"
    }
   ],
   "source": [
    "iso_to_g0 = [g for g in groups6 if groups6[0].isomorphic(g)]\n",
    "len(iso_to_g0)"
   ]
  },
  {
   "cell_type": "code",
   "execution_count": 58,
   "id": "91115156",
   "metadata": {},
   "outputs": [],
   "source": [
    "g6_0 = groups6[0]  # abelian\n",
    "g6_4 = groups6[4]  # not abelian"
   ]
  },
  {
   "cell_type": "code",
   "execution_count": 59,
   "id": "9b62eaab",
   "metadata": {},
   "outputs": [
    {
     "name": "stdout",
     "output_type": "stream",
     "text": [
      "Group('G0',\n",
      "'Group 0 of order 6',\n",
      "['e0', 'a0_1', 'a0_2', 'a0_3', 'a0_4', 'a0_5'],\n",
      "[[0, 1, 2, 3, 4, 5],\n",
      " [1, 0, 3, 2, 5, 4],\n",
      " [2, 3, 4, 5, 0, 1],\n",
      " [3, 2, 5, 4, 1, 0],\n",
      " [4, 5, 0, 1, 2, 3],\n",
      " [5, 4, 1, 0, 3, 2]]\n",
      ")\n"
     ]
    }
   ],
   "source": [
    "g6_0.pprint()"
   ]
  },
  {
   "cell_type": "code",
   "execution_count": 60,
   "id": "2fe4404b",
   "metadata": {},
   "outputs": [
    {
     "name": "stdout",
     "output_type": "stream",
     "text": [
      "Group('G4',\n",
      "'Group 4 of order 6',\n",
      "['e4', 'a4_1', 'a4_2', 'a4_3', 'a4_4', 'a4_5'],\n",
      "[[0, 1, 2, 3, 4, 5],\n",
      " [1, 0, 3, 2, 5, 4],\n",
      " [2, 4, 0, 5, 1, 3],\n",
      " [3, 5, 1, 4, 0, 2],\n",
      " [4, 2, 5, 0, 3, 1],\n",
      " [5, 3, 4, 1, 2, 0]]\n",
      ")\n"
     ]
    }
   ],
   "source": [
    "g6_4.pprint()"
   ]
  },
  {
   "cell_type": "code",
   "execution_count": 61,
   "id": "8db16f65",
   "metadata": {},
   "outputs": [
    {
     "data": {
      "text/plain": [
       "[Group('G0_subgroup_0',\n",
       " 'Subgroup of: Group 0 of order 6',\n",
       " ['e0', 'a0_2', 'a0_4'],\n",
       " [[0, 1, 2], [1, 2, 0], [2, 0, 1]]) ,\n",
       " Group('G0_subgroup_1',\n",
       " 'Subgroup of: Group 0 of order 6',\n",
       " ['e0', 'a0_1'],\n",
       " [[0, 1], [1, 0]]) ]"
      ]
     },
     "execution_count": 61,
     "metadata": {},
     "output_type": "execute_result"
    }
   ],
   "source": [
    "g6_0.proper_subgroups()"
   ]
  },
  {
   "cell_type": "code",
   "execution_count": 62,
   "id": "e88d729b",
   "metadata": {},
   "outputs": [
    {
     "data": {
      "text/plain": [
       "[Group('G4_subgroup_0',\n",
       " 'Subgroup of: Group 4 of order 6',\n",
       " ['e4', 'a4_3', 'a4_4'],\n",
       " [[0, 1, 2], [1, 2, 0], [2, 0, 1]]) ,\n",
       " Group('G4_subgroup_1',\n",
       " 'Subgroup of: Group 4 of order 6',\n",
       " ['e4', 'a4_1'],\n",
       " [[0, 1], [1, 0]]) ,\n",
       " Group('G4_subgroup_2',\n",
       " 'Subgroup of: Group 4 of order 6',\n",
       " ['e4', 'a4_2'],\n",
       " [[0, 1], [1, 0]]) ,\n",
       " Group('G4_subgroup_3',\n",
       " 'Subgroup of: Group 4 of order 6',\n",
       " ['e4', 'a4_5'],\n",
       " [[0, 1], [1, 0]]) ]"
      ]
     },
     "execution_count": 62,
     "metadata": {},
     "output_type": "execute_result"
    }
   ],
   "source": [
    "g6_4.proper_subgroups()"
   ]
  },
  {
   "cell_type": "markdown",
   "id": "b253950e",
   "metadata": {},
   "source": [
    "## Turn isomorphisms into permutations"
   ]
  },
  {
   "cell_type": "code",
   "execution_count": 63,
   "id": "51809e11",
   "metadata": {},
   "outputs": [
    {
     "data": {
      "text/plain": [
       "[Group('G0',\n",
       " 'Group 0 of order 4',\n",
       " ['e0', 'a0_1', 'a0_2', 'a0_3'],\n",
       " [[0, 1, 2, 3], [1, 0, 3, 2], [2, 3, 0, 1], [3, 2, 1, 0]]) ,\n",
       " Group('G1',\n",
       " 'Group 1 of order 4',\n",
       " ['e1', 'a1_1', 'a1_2', 'a1_3'],\n",
       " [[0, 1, 2, 3], [1, 0, 3, 2], [2, 3, 1, 0], [3, 2, 0, 1]]) ,\n",
       " Group('G2',\n",
       " 'Group 2 of order 4',\n",
       " ['e2', 'a2_1', 'a2_2', 'a2_3'],\n",
       " [[0, 1, 2, 3], [1, 2, 3, 0], [2, 3, 0, 1], [3, 0, 1, 2]]) ,\n",
       " Group('G3',\n",
       " 'Group 3 of order 4',\n",
       " ['e3', 'a3_1', 'a3_2', 'a3_3'],\n",
       " [[0, 1, 2, 3], [1, 3, 0, 2], [2, 0, 3, 1], [3, 2, 1, 0]]) ]"
      ]
     },
     "execution_count": 63,
     "metadata": {},
     "output_type": "execute_result"
    }
   ],
   "source": [
    "groups4"
   ]
  },
  {
   "cell_type": "code",
   "execution_count": 64,
   "id": "c151fcaa",
   "metadata": {},
   "outputs": [
    {
     "name": "stdout",
     "output_type": "stream",
     "text": [
      "G0 G1 False\n",
      "G0 G2 False\n",
      "G0 G3 False\n",
      "G1 G2 {'a1_1': 'a2_2', 'a1_2': 'a2_1', 'a1_3': 'a2_3', 'e1': 'e2'}\n",
      "G1 G3 {'a1_1': 'a3_3', 'a1_2': 'a3_1', 'a1_3': 'a3_2', 'e1': 'e3'}\n",
      "G2 G3 {'a2_1': 'a3_1', 'a2_2': 'a3_3', 'a2_3': 'a3_2', 'e2': 'e3'}\n"
     ]
    }
   ],
   "source": [
    "for combo in it.combinations(groups4,2):\n",
    "    mp = combo[0].isomorphic(combo[1])\n",
    "    print(combo[0].name, combo[1].name, mp)"
   ]
  },
  {
   "cell_type": "raw",
   "id": "83e4424c",
   "metadata": {},
   "source": [
    "def get_integer_form(elem_list):\n",
    "    \"\"\"For an element list like ['e1', 'a1_2', 'a1_1', 'a1_3'],\n",
    "    return the integer 213, i.e., the 'subscripts' of the elements that\n",
    "    follow the identity element.\"\"\"\n",
    "    return int(''.join(map(lambda x: x.split(\"_\")[1], elem_list[1:])))"
   ]
  },
  {
   "cell_type": "code",
   "execution_count": 65,
   "id": "f9f117c2",
   "metadata": {},
   "outputs": [
    {
     "data": {
      "text/plain": [
       "[{'a': 'a1_2', 'a^2': 'a1_1', 'a^3': 'a1_3', 'e': 'e1'},\n",
       " {'a': 'a2_1', 'a^2': 'a2_2', 'a^3': 'a2_3', 'e': 'e2'},\n",
       " {'a': 'a3_1', 'a^2': 'a3_3', 'a^3': 'a3_2', 'e': 'e3'}]"
      ]
     },
     "execution_count": 65,
     "metadata": {},
     "output_type": "execute_result"
    }
   ],
   "source": [
    "z4_iso_groups4 = [z4.isomorphic(grp) for grp in groups4[1:]]\n",
    "z4_iso_groups4"
   ]
  },
  {
   "cell_type": "code",
   "execution_count": 66,
   "id": "f55cd259",
   "metadata": {},
   "outputs": [
    {
     "data": {
      "text/plain": [
       "['e1', 'a1_2', 'a1_1', 'a1_3']"
      ]
     },
     "execution_count": 66,
     "metadata": {},
     "output_type": "execute_result"
    }
   ],
   "source": [
    "# Get values from the iso mapping in the same order as the elements in z4\n",
    "\n",
    "test_iso = z4_iso_groups4[0]\n",
    "#[test_iso[elem] for elem in z4.element_names]\n",
    "[test_iso[elem] for elem in z4]"
   ]
  },
  {
   "cell_type": "code",
   "execution_count": 67,
   "id": "23b8aff9",
   "metadata": {},
   "outputs": [
    {
     "data": {
      "text/plain": [
       "[213, 123, 132]"
      ]
     },
     "execution_count": 67,
     "metadata": {},
     "output_type": "execute_result"
    }
   ],
   "source": [
    "alg.get_int_forms(z4, z4_iso_groups4)"
   ]
  },
  {
   "cell_type": "code",
   "execution_count": 68,
   "id": "f5eac8f5",
   "metadata": {},
   "outputs": [
    {
     "data": {
      "text/plain": [
       "[123, 213, 312]"
      ]
     },
     "execution_count": 68,
     "metadata": {},
     "output_type": "execute_result"
    }
   ],
   "source": [
    "g1_iso_groups4 = [g1.isomorphic(grp) for grp in groups4[1:]]\n",
    "g1_iso_groups4\n",
    "\n",
    "int_forms_4 = alg.get_int_forms(g1, g1_iso_groups4)\n",
    "int_forms_4"
   ]
  },
  {
   "cell_type": "code",
   "execution_count": 69,
   "id": "e516ee52",
   "metadata": {},
   "outputs": [],
   "source": [
    "def int_form_to_tuple(int_form):\n",
    "    \"\"\"Example:\n",
    "    >>> int_form_to_tuple(123)\n",
    "    '(1, 2, 3)'\n",
    "    \"\"\"\n",
    "    return str(tuple([int(x) for x in list(str(int_form))]))"
   ]
  },
  {
   "cell_type": "code",
   "execution_count": 70,
   "id": "2fe63fcf",
   "metadata": {},
   "outputs": [
    {
     "data": {
      "text/plain": [
       "'(1, 2, 3)'"
      ]
     },
     "execution_count": 70,
     "metadata": {},
     "output_type": "execute_result"
    }
   ],
   "source": [
    "int_form_to_tuple(123)"
   ]
  },
  {
   "cell_type": "code",
   "execution_count": 71,
   "id": "48ddfa3a",
   "metadata": {},
   "outputs": [
    {
     "data": {
      "text/plain": [
       "['(1, 2, 3)', '(2, 1, 3)', '(3, 1, 2)']"
      ]
     },
     "execution_count": 71,
     "metadata": {},
     "output_type": "execute_result"
    }
   ],
   "source": [
    "int_forms_4_ext = [int_form_to_tuple(x) for x in int_forms_4]\n",
    "int_forms_4_ext"
   ]
  },
  {
   "cell_type": "code",
   "execution_count": 72,
   "id": "fff5ebec",
   "metadata": {},
   "outputs": [
    {
     "name": "stdout",
     "output_type": "stream",
     "text": [
      "['(1, 2, 3)', '(1, 3, 2)', '(2, 1, 3)', '(2, 3, 1)', '(3, 1, 2)', '(3, 2, 1)']\n"
     ]
    }
   ],
   "source": [
    "s3 = alg.generate_symmetric_group(3, base=1)\n",
    "print(s3.element_names)"
   ]
  },
  {
   "cell_type": "code",
   "execution_count": 73,
   "id": "24104fe4",
   "metadata": {},
   "outputs": [
    {
     "data": {
      "text/plain": [
       "['(1, 2, 3)', '(2, 1, 3)', '(3, 2, 1)', '(1, 3, 2)', '(3, 1, 2)', '(2, 3, 1)']"
      ]
     },
     "execution_count": 73,
     "metadata": {},
     "output_type": "execute_result"
    }
   ],
   "source": [
    "s3.closure(int_forms_4_ext)"
   ]
  },
  {
   "cell_type": "code",
   "execution_count": 74,
   "id": "d0d70dd9",
   "metadata": {},
   "outputs": [
    {
     "data": {
      "text/plain": [
       "Group('Z5',\n",
       "'Autogenerated cyclic group of order 5',\n",
       "['e', 'a', 'a^2', 'a^3', 'a^4'],\n",
       "[[0, 1, 2, 3, 4], [1, 2, 3, 4, 0], [2, 3, 4, 0, 1], [3, 4, 0, 1, 2], [4, 0, 1, 2, 3]]) "
      ]
     },
     "execution_count": 74,
     "metadata": {},
     "output_type": "execute_result"
    }
   ],
   "source": [
    "z5"
   ]
  },
  {
   "cell_type": "code",
   "execution_count": 75,
   "id": "26f31a9c",
   "metadata": {},
   "outputs": [
    {
     "data": {
      "text/plain": [
       "[Group('G0',\n",
       " 'Group 0 of order 5',\n",
       " ['e0', 'a0_1', 'a0_2', 'a0_3', 'a0_4'],\n",
       " [[0, 1, 2, 3, 4], [1, 2, 3, 4, 0], [2, 3, 4, 0, 1], [3, 4, 0, 1, 2], [4, 0, 1, 2, 3]]) ,\n",
       " Group('G1',\n",
       " 'Group 1 of order 5',\n",
       " ['e1', 'a1_1', 'a1_2', 'a1_3', 'a1_4'],\n",
       " [[0, 1, 2, 3, 4], [1, 2, 4, 0, 3], [2, 4, 3, 1, 0], [3, 0, 1, 4, 2], [4, 3, 0, 2, 1]]) ,\n",
       " Group('G2',\n",
       " 'Group 2 of order 5',\n",
       " ['e2', 'a2_1', 'a2_2', 'a2_3', 'a2_4'],\n",
       " [[0, 1, 2, 3, 4], [1, 3, 0, 4, 2], [2, 0, 4, 1, 3], [3, 4, 1, 2, 0], [4, 2, 3, 0, 1]]) ,\n",
       " Group('G3',\n",
       " 'Group 3 of order 5',\n",
       " ['e3', 'a3_1', 'a3_2', 'a3_3', 'a3_4'],\n",
       " [[0, 1, 2, 3, 4], [1, 3, 4, 2, 0], [2, 4, 1, 0, 3], [3, 2, 0, 4, 1], [4, 0, 3, 1, 2]]) ,\n",
       " Group('G4',\n",
       " 'Group 4 of order 5',\n",
       " ['e4', 'a4_1', 'a4_2', 'a4_3', 'a4_4'],\n",
       " [[0, 1, 2, 3, 4], [1, 4, 0, 2, 3], [2, 0, 3, 4, 1], [3, 2, 4, 1, 0], [4, 3, 1, 0, 2]]) ,\n",
       " Group('G5',\n",
       " 'Group 5 of order 5',\n",
       " ['e5', 'a5_1', 'a5_2', 'a5_3', 'a5_4'],\n",
       " [[0, 1, 2, 3, 4], [1, 4, 3, 0, 2], [2, 3, 1, 4, 0], [3, 0, 4, 2, 1], [4, 2, 0, 1, 3]]) ]"
      ]
     },
     "execution_count": 75,
     "metadata": {},
     "output_type": "execute_result"
    }
   ],
   "source": [
    "groups5"
   ]
  },
  {
   "cell_type": "code",
   "execution_count": 76,
   "id": "3945731c",
   "metadata": {},
   "outputs": [
    {
     "data": {
      "text/plain": [
       "[{'a': 'a0_1', 'a^2': 'a0_2', 'a^3': 'a0_3', 'a^4': 'a0_4', 'e': 'e0'},\n",
       " {'a': 'a1_1', 'a^2': 'a1_2', 'a^3': 'a1_4', 'a^4': 'a1_3', 'e': 'e1'},\n",
       " {'a': 'a2_1', 'a^2': 'a2_3', 'a^3': 'a2_4', 'a^4': 'a2_2', 'e': 'e2'},\n",
       " {'a': 'a3_1', 'a^2': 'a3_3', 'a^3': 'a3_2', 'a^4': 'a3_4', 'e': 'e3'},\n",
       " {'a': 'a4_1', 'a^2': 'a4_4', 'a^3': 'a4_3', 'a^4': 'a4_2', 'e': 'e4'},\n",
       " {'a': 'a5_1', 'a^2': 'a5_4', 'a^3': 'a5_2', 'a^4': 'a5_3', 'e': 'e5'}]"
      ]
     },
     "execution_count": 76,
     "metadata": {},
     "output_type": "execute_result"
    }
   ],
   "source": [
    "z5_iso_groups5 = [z5.isomorphic(grp) for grp in groups5]\n",
    "z5_iso_groups5"
   ]
  },
  {
   "cell_type": "code",
   "execution_count": 77,
   "id": "bbddf33a",
   "metadata": {},
   "outputs": [
    {
     "data": {
      "text/plain": [
       "[1234, 1243, 1342, 1324, 1432, 1423]"
      ]
     },
     "execution_count": 77,
     "metadata": {},
     "output_type": "execute_result"
    }
   ],
   "source": [
    "int_forms_5 = alg.get_int_forms(z5, z5_iso_groups5)\n",
    "int_forms_5"
   ]
  },
  {
   "cell_type": "code",
   "execution_count": 78,
   "id": "becd9788",
   "metadata": {},
   "outputs": [
    {
     "data": {
      "text/plain": [
       "['(1, 2, 3, 4)',\n",
       " '(1, 2, 4, 3)',\n",
       " '(1, 3, 4, 2)',\n",
       " '(1, 3, 2, 4)',\n",
       " '(1, 4, 3, 2)',\n",
       " '(1, 4, 2, 3)']"
      ]
     },
     "execution_count": 78,
     "metadata": {},
     "output_type": "execute_result"
    }
   ],
   "source": [
    "int_forms_5_ext = [int_form_to_tuple(x) for x in int_forms_5]\n",
    "int_forms_5_ext"
   ]
  },
  {
   "cell_type": "code",
   "execution_count": 79,
   "id": "e88966fc",
   "metadata": {},
   "outputs": [
    {
     "name": "stdout",
     "output_type": "stream",
     "text": [
      "['(1, 2, 3, 4)', '(1, 2, 4, 3)', '(1, 3, 2, 4)', '(1, 3, 4, 2)', '(1, 4, 2, 3)', '(1, 4, 3, 2)', '(2, 1, 3, 4)', '(2, 1, 4, 3)', '(2, 3, 1, 4)', '(2, 3, 4, 1)', '(2, 4, 1, 3)', '(2, 4, 3, 1)', '(3, 1, 2, 4)', '(3, 1, 4, 2)', '(3, 2, 1, 4)', '(3, 2, 4, 1)', '(3, 4, 1, 2)', '(3, 4, 2, 1)', '(4, 1, 2, 3)', '(4, 1, 3, 2)', '(4, 2, 1, 3)', '(4, 2, 3, 1)', '(4, 3, 1, 2)', '(4, 3, 2, 1)']\n"
     ]
    }
   ],
   "source": [
    "s4 = alg.generate_symmetric_group(4, base=1)\n",
    "print(s4.element_names)"
   ]
  },
  {
   "cell_type": "code",
   "execution_count": 80,
   "id": "cb750b8d",
   "metadata": {},
   "outputs": [
    {
     "data": {
      "text/plain": [
       "['(1, 2, 3, 4)',\n",
       " '(1, 3, 4, 2)',\n",
       " '(1, 2, 4, 3)',\n",
       " '(1, 4, 2, 3)',\n",
       " '(1, 4, 3, 2)',\n",
       " '(1, 3, 2, 4)']"
      ]
     },
     "execution_count": 80,
     "metadata": {},
     "output_type": "execute_result"
    }
   ],
   "source": [
    "s4.closure(int_forms_5_ext)"
   ]
  },
  {
   "cell_type": "markdown",
   "id": "512294ab",
   "metadata": {},
   "source": [
    "## Automorphisms and Conjugates"
   ]
  },
  {
   "cell_type": "markdown",
   "id": "da0225ee",
   "metadata": {},
   "source": [
    "NOTE: Conjugation only changes elements when the group is non-abelian."
   ]
  },
  {
   "cell_type": "code",
   "execution_count": 81,
   "id": "1520943f",
   "metadata": {},
   "outputs": [
    {
     "name": "stdout",
     "output_type": "stream",
     "text": [
      "Group('G4',\n",
      "'Group 4 of order 6',\n",
      "[['e4', 'a4_1', 'a4_2', 'a4_3', 'a4_4', 'a4_5'],\n",
      " ['a4_1', 'e4', 'a4_3', 'a4_2', 'a4_5', 'a4_4'],\n",
      " ['a4_2', 'a4_4', 'e4', 'a4_5', 'a4_1', 'a4_3'],\n",
      " ['a4_3', 'a4_5', 'a4_1', 'a4_4', 'e4', 'a4_2'],\n",
      " ['a4_4', 'a4_2', 'a4_5', 'e4', 'a4_3', 'a4_1'],\n",
      " ['a4_5', 'a4_3', 'a4_4', 'a4_1', 'a4_2', 'e4']]\n",
      ")\n"
     ]
    }
   ],
   "source": [
    "g6_4.pprint(True)  # Not abelian"
   ]
  },
  {
   "cell_type": "code",
   "execution_count": 82,
   "id": "43689d3f",
   "metadata": {},
   "outputs": [
    {
     "name": "stdout",
     "output_type": "stream",
     "text": [
      "Group: G4, Element: a4_1, Inverse: a4_1\n",
      "Abelian: False\n"
     ]
    },
    {
     "data": {
      "text/plain": [
       "['e4', 'a4_1', 'a4_5', 'a4_4', 'a4_3', 'a4_2']"
      ]
     },
     "execution_count": 82,
     "metadata": {},
     "output_type": "execute_result"
    }
   ],
   "source": [
    "grp = g6_4\n",
    "ele = grp.element_names[1]\n",
    "ele_inv = grp.inverse(ele)\n",
    "\n",
    "print(f\"Group: {grp.name}, Element: {ele}, Inverse: {ele_inv}\")\n",
    "print(f\"Abelian: {grp.abelian()}\")\n",
    "\n",
    "conjugates = [grp.mult(grp.mult(ele, x), ele_inv) for x in grp]\n",
    "\n",
    "conjugates"
   ]
  },
  {
   "cell_type": "code",
   "execution_count": 83,
   "id": "43632bfe",
   "metadata": {},
   "outputs": [
    {
     "name": "stdout",
     "output_type": "stream",
     "text": [
      "Group('G0',\n",
      "'Group 0 of order 6',\n",
      "[['e0', 'a0_1', 'a0_2', 'a0_3', 'a0_4', 'a0_5'],\n",
      " ['a0_1', 'e0', 'a0_3', 'a0_2', 'a0_5', 'a0_4'],\n",
      " ['a0_2', 'a0_3', 'a0_4', 'a0_5', 'e0', 'a0_1'],\n",
      " ['a0_3', 'a0_2', 'a0_5', 'a0_4', 'a0_1', 'e0'],\n",
      " ['a0_4', 'a0_5', 'e0', 'a0_1', 'a0_2', 'a0_3'],\n",
      " ['a0_5', 'a0_4', 'a0_1', 'e0', 'a0_3', 'a0_2']]\n",
      ")\n"
     ]
    }
   ],
   "source": [
    "g6_0.pprint(True)  # Abelian"
   ]
  },
  {
   "cell_type": "code",
   "execution_count": 84,
   "id": "ce3c4ea4",
   "metadata": {},
   "outputs": [
    {
     "name": "stdout",
     "output_type": "stream",
     "text": [
      "Group: G0, Element: a0_1, Inverse: a0_1\n",
      "Abelian: True\n"
     ]
    },
    {
     "data": {
      "text/plain": [
       "['e0', 'a0_1', 'a0_2', 'a0_3', 'a0_4', 'a0_5']"
      ]
     },
     "execution_count": 84,
     "metadata": {},
     "output_type": "execute_result"
    }
   ],
   "source": [
    "grp = g6_0\n",
    "ele = grp.element_names[1]\n",
    "ele_inv = grp.inverse(ele)\n",
    "\n",
    "print(f\"Group: {grp.name}, Element: {ele}, Inverse: {ele_inv}\")\n",
    "print(f\"Abelian: {grp.abelian()}\")\n",
    "\n",
    "conjugates = [grp.mult(grp.mult(ele, x), ele_inv) for x in grp]\n",
    "conjugates"
   ]
  },
  {
   "cell_type": "markdown",
   "id": "396152ab",
   "metadata": {},
   "source": [
    "## Finite Rings"
   ]
  },
  {
   "cell_type": "markdown",
   "id": "9ad6860b",
   "metadata": {},
   "source": [
    "\"Consider any finite set. Then its power set with respect to symmetric difference (as 1st operation) and set intersection (as 2nd operation) is an example of a finite ring.\" -- [Quora](https://www.quora.com/What-are-examples-of-finite-rings#:~:text=Matrices%20over%20any%20ring%20make,a%20finite%20ring%20with%20elements.)"
   ]
  },
  {
   "cell_type": "markdown",
   "id": "69e16fff",
   "metadata": {},
   "source": [
    "### Powerset Functions"
   ]
  },
  {
   "cell_type": "code",
   "execution_count": 85,
   "id": "1b074d54",
   "metadata": {},
   "outputs": [
    {
     "data": {
      "text/plain": [
       "{0, 1, 2, 3, 4, 5, 6, 7, 8, 9, 10, 11, 12, 13, 14, 15, 16, 17, 18, 19}"
      ]
     },
     "execution_count": 85,
     "metadata": {},
     "output_type": "execute_result"
    }
   ],
   "source": [
    "n = 20\n",
    "ints_n = set(list(range(n)))\n",
    "ints_n"
   ]
  },
  {
   "cell_type": "markdown",
   "id": "71612bac",
   "metadata": {},
   "source": [
    "[Source of powerset code](https://docs.python.org/3/library/itertools.html#itertools-recipes)"
   ]
  },
  {
   "cell_type": "code",
   "execution_count": 86,
   "id": "ab57a1ab",
   "metadata": {},
   "outputs": [],
   "source": [
    "# from itertools import chain, combinations\n",
    "\n",
    "def powerset(iterable):\n",
    "    \"powerset([1,2,3]) --> () (1,) (2,) (3,) (1,2) (1,3) (2,3) (1,2,3)\"\n",
    "    s = list(iterable)\n",
    "    return it.chain.from_iterable(it.combinations(s, r) for r in range(len(s)+1))"
   ]
  },
  {
   "cell_type": "code",
   "execution_count": 87,
   "id": "95b5c292",
   "metadata": {},
   "outputs": [
    {
     "name": "stdout",
     "output_type": "stream",
     "text": [
      "CPU times: user 2.28 s, sys: 217 ms, total: 2.49 s\n",
      "Wall time: 2.49 s\n"
     ]
    },
    {
     "data": {
      "text/plain": [
       "1048576"
      ]
     },
     "execution_count": 87,
     "metadata": {},
     "output_type": "execute_result"
    }
   ],
   "source": [
    "%time foo1 = [set(x) for x in list(powerset(ints_n))]\n",
    "len(foo1)"
   ]
  },
  {
   "cell_type": "markdown",
   "id": "30886c47",
   "metadata": {},
   "source": [
    "### Set Operations"
   ]
  },
  {
   "cell_type": "code",
   "execution_count": 88,
   "id": "5c3aa79c",
   "metadata": {},
   "outputs": [
    {
     "name": "stdout",
     "output_type": "stream",
     "text": [
      "               Union: {0, 1, 2, 3, 4, 5, 6, 8}\n",
      "        Intersection: {2, 4}\n",
      "          Difference: {0, 8, 6}\n",
      "Symmetric Difference: {0, 1, 3, 5, 6, 8}\n"
     ]
    }
   ],
   "source": [
    "A = {0, 2, 4, 6, 8}\n",
    "B = {1, 2, 3, 4, 5}\n",
    "\n",
    "print(f\"               Union: {A | B}\")\n",
    "print(f\"        Intersection: {A & B}\")\n",
    "print(f\"          Difference: {A - B}\")\n",
    "print(f\"Symmetric Difference: {A ^ B}\")"
   ]
  },
  {
   "cell_type": "code",
   "execution_count": 89,
   "id": "1cae3d2f",
   "metadata": {},
   "outputs": [
    {
     "name": "stdout",
     "output_type": "stream",
     "text": [
      "{0, 1, 2}\n",
      "CPU times: user 14 µs, sys: 1e+03 ns, total: 15 µs\n",
      "Wall time: 16 µs\n"
     ]
    },
    {
     "data": {
      "text/plain": [
       "8"
      ]
     },
     "execution_count": 89,
     "metadata": {},
     "output_type": "execute_result"
    }
   ],
   "source": [
    "n = 3\n",
    "set_of_n = set(list(range(n)))\n",
    "print(set_of_n)\n",
    "\n",
    "%time powerset_n = [set(x) for x in list(powerset(set_of_n))]\n",
    "len(powerset_n)"
   ]
  },
  {
   "cell_type": "code",
   "execution_count": 90,
   "id": "81691c29",
   "metadata": {},
   "outputs": [
    {
     "data": {
      "text/plain": [
       "[set(), {0}, {1}, {2}, {0, 1}, {0, 2}, {1, 2}, {0, 1, 2}]"
      ]
     },
     "execution_count": 90,
     "metadata": {},
     "output_type": "execute_result"
    }
   ],
   "source": [
    "powerset_n"
   ]
  },
  {
   "cell_type": "code",
   "execution_count": 91,
   "id": "e8711535",
   "metadata": {},
   "outputs": [
    {
     "data": {
      "text/plain": [
       "[(), (0,), (1,), (2,), (0, 1), (0, 2), (1, 2), (0, 1, 2)]"
      ]
     },
     "execution_count": 91,
     "metadata": {},
     "output_type": "execute_result"
    }
   ],
   "source": [
    "tuples_n = [tuple(x) for x in powerset_n]\n",
    "tuples_n"
   ]
  },
  {
   "cell_type": "code",
   "execution_count": 92,
   "id": "0eb43e35",
   "metadata": {},
   "outputs": [
    {
     "data": {
      "text/plain": [
       "4"
      ]
     },
     "execution_count": 92,
     "metadata": {},
     "output_type": "execute_result"
    }
   ],
   "source": [
    "powerset_n.index({0,1})"
   ]
  },
  {
   "cell_type": "code",
   "execution_count": 93,
   "id": "d50d2589",
   "metadata": {},
   "outputs": [],
   "source": [
    "table = [[powerset_n.index(a ^ b) for b in powerset_n] for a in powerset_n]"
   ]
  },
  {
   "cell_type": "code",
   "execution_count": 94,
   "id": "f83555f9",
   "metadata": {},
   "outputs": [
    {
     "data": {
      "text/plain": [
       "[[0, 1, 2, 3, 4, 5, 6, 7],\n",
       " [1, 0, 4, 5, 2, 3, 7, 6],\n",
       " [2, 4, 0, 6, 1, 7, 3, 5],\n",
       " [3, 5, 6, 0, 7, 1, 2, 4],\n",
       " [4, 2, 1, 7, 0, 6, 5, 3],\n",
       " [5, 3, 7, 1, 6, 0, 4, 2],\n",
       " [6, 7, 3, 2, 5, 4, 0, 1],\n",
       " [7, 6, 5, 4, 3, 2, 1, 0]]"
      ]
     },
     "execution_count": 94,
     "metadata": {},
     "output_type": "execute_result"
    }
   ],
   "source": [
    "table"
   ]
  },
  {
   "cell_type": "code",
   "execution_count": 95,
   "id": "d6978075",
   "metadata": {},
   "outputs": [],
   "source": [
    "foo = alg.Group(\"PS3\", \"Group from powerset of 3 elements\", tuples_n, table)"
   ]
  },
  {
   "cell_type": "code",
   "execution_count": 96,
   "id": "fc6d34c7",
   "metadata": {},
   "outputs": [
    {
     "name": "stdout",
     "output_type": "stream",
     "text": [
      "Group('PS3',\n",
      "'Group from powerset of 3 elements',\n",
      "[(), (0,), (1,), (2,), (0, 1), (0, 2), (1, 2), (0, 1, 2)],\n",
      "[[0, 1, 2, 3, 4, 5, 6, 7],\n",
      " [1, 0, 4, 5, 2, 3, 7, 6],\n",
      " [2, 4, 0, 6, 1, 7, 3, 5],\n",
      " [3, 5, 6, 0, 7, 1, 2, 4],\n",
      " [4, 2, 1, 7, 0, 6, 5, 3],\n",
      " [5, 3, 7, 1, 6, 0, 4, 2],\n",
      " [6, 7, 3, 2, 5, 4, 0, 1],\n",
      " [7, 6, 5, 4, 3, 2, 1, 0]]\n",
      ")\n"
     ]
    }
   ],
   "source": [
    "foo.pprint()"
   ]
  },
  {
   "cell_type": "code",
   "execution_count": 97,
   "id": "abde102d",
   "metadata": {},
   "outputs": [
    {
     "data": {
      "text/plain": [
       "14"
      ]
     },
     "execution_count": 97,
     "metadata": {},
     "output_type": "execute_result"
    }
   ],
   "source": [
    "len(foo.proper_subgroups())"
   ]
  },
  {
   "cell_type": "code",
   "execution_count": 98,
   "id": "1a694a12",
   "metadata": {},
   "outputs": [
    {
     "data": {
      "text/plain": [
       "()"
      ]
     },
     "execution_count": 98,
     "metadata": {},
     "output_type": "execute_result"
    }
   ],
   "source": [
    "foo.identity"
   ]
  },
  {
   "cell_type": "code",
   "execution_count": 99,
   "id": "34e957db",
   "metadata": {},
   "outputs": [
    {
     "name": "stdout",
     "output_type": "stream",
     "text": [
      "Group('PS3',\n",
      "'Autogenerated group on the powerset of 3 elements, with symmetric difference operator',\n",
      "[(), (0,), (1,), (2,), (0, 1), (0, 2), (1, 2), (0, 1, 2)],\n",
      "[[0, 1, 2, 3, 4, 5, 6, 7],\n",
      " [1, 0, 4, 5, 2, 3, 7, 6],\n",
      " [2, 4, 0, 6, 1, 7, 3, 5],\n",
      " [3, 5, 6, 0, 7, 1, 2, 4],\n",
      " [4, 2, 1, 7, 0, 6, 5, 3],\n",
      " [5, 3, 7, 1, 6, 0, 4, 2],\n",
      " [6, 7, 3, 2, 5, 4, 0, 1],\n",
      " [7, 6, 5, 4, 3, 2, 1, 0]]\n",
      ")\n"
     ]
    }
   ],
   "source": [
    "ps3 = alg.generate_powerset_group(3)\n",
    "ps3.pprint()"
   ]
  },
  {
   "cell_type": "code",
   "execution_count": 100,
   "id": "51ecff98",
   "metadata": {},
   "outputs": [
    {
     "name": "stdout",
     "output_type": "stream",
     "text": [
      "Group('PS4',\n",
      "'Autogenerated group on the powerset of 4 elements, with symmetric difference operator',\n",
      "[(), (0,), (1,), (2,), (3,), (0, 1), (0, 2), (0, 3), (1, 2), (1, 3), (2, 3), (0, 1, 2), (0, 1, 3), (0, 2, 3), (1, 2, 3), (0, 1, 2, 3)],\n",
      "[[0, 1, 2, 3, 4, 5, 6, 7, 8, 9, 10, 11, 12, 13, 14, 15],\n",
      " [1, 0, 5, 6, 7, 2, 3, 4, 11, 12, 13, 8, 9, 10, 15, 14],\n",
      " [2, 5, 0, 8, 9, 1, 11, 12, 3, 4, 14, 6, 7, 15, 10, 13],\n",
      " [3, 6, 8, 0, 10, 11, 1, 13, 2, 14, 4, 5, 15, 7, 9, 12],\n",
      " [4, 7, 9, 10, 0, 12, 13, 1, 14, 2, 3, 15, 5, 6, 8, 11],\n",
      " [5, 2, 1, 11, 12, 0, 8, 9, 6, 7, 15, 3, 4, 14, 13, 10],\n",
      " [6, 3, 11, 1, 13, 8, 0, 10, 5, 15, 7, 2, 14, 4, 12, 9],\n",
      " [7, 4, 12, 13, 1, 9, 10, 0, 15, 5, 6, 14, 2, 3, 11, 8],\n",
      " [8, 11, 3, 2, 14, 6, 5, 15, 0, 10, 9, 1, 13, 12, 4, 7],\n",
      " [9, 12, 4, 14, 2, 7, 15, 5, 10, 0, 8, 13, 1, 11, 3, 6],\n",
      " [10, 13, 14, 4, 3, 15, 7, 6, 9, 8, 0, 12, 11, 1, 2, 5],\n",
      " [11, 8, 6, 5, 15, 3, 2, 14, 1, 13, 12, 0, 10, 9, 7, 4],\n",
      " [12, 9, 7, 15, 5, 4, 14, 2, 13, 1, 11, 10, 0, 8, 6, 3],\n",
      " [13, 10, 15, 7, 6, 14, 4, 3, 12, 11, 1, 9, 8, 0, 5, 2],\n",
      " [14, 15, 10, 9, 8, 13, 12, 11, 4, 3, 2, 7, 6, 5, 0, 1],\n",
      " [15, 14, 13, 12, 11, 10, 9, 8, 7, 6, 5, 4, 3, 2, 1, 0]]\n",
      ")\n"
     ]
    }
   ],
   "source": [
    "ps4 = alg.generate_powerset_group(4)\n",
    "ps4.pprint()"
   ]
  },
  {
   "cell_type": "markdown",
   "id": "a91e594c",
   "metadata": {},
   "source": [
    "TODO: Look for the paper by Carolyn Bean, \"Group operations on the power set\", Journal of Undergraduate Mathematics 8 #1 (March 1976), 13-17."
   ]
  },
  {
   "cell_type": "markdown",
   "id": "61293e9d",
   "metadata": {},
   "source": [
    "### Ring Definition"
   ]
  },
  {
   "cell_type": "code",
   "execution_count": 135,
   "id": "8d7a596e",
   "metadata": {},
   "outputs": [],
   "source": [
    "class Ring(alg.Group):\n",
    "    \n",
    "    def __init__(self, *args):\n",
    "        \n",
    "        if len(args) == 5:\n",
    "            \n",
    "            super().__init__(args[:4])\n",
    "        \n",
    "        self.rmult_table = args[4]\n",
    "        \n",
    "    def rmult_table_with_names(self):\n",
    "        return [[self.element_names[elem_pos]\n",
    "                 for elem_pos in row]\n",
    "                for row in self.rmult_table]\n",
    "        \n",
    "    def pprint(self, use_element_names=False):\n",
    "        print(f\"{self.__class__.__name__}('{self.name}',\")\n",
    "        print(f\"'{self.description}',\")\n",
    "        if use_element_names:\n",
    "            pp.pprint(self.mult_table_with_names())\n",
    "            pp.pprint(self.rmult_table_with_names())\n",
    "        else:\n",
    "            print(f\"{self.element_names},\")\n",
    "            pp.pprint(self.mult_table.tolist())\n",
    "            pp.pprint(self.rmult_table.tolist())\n",
    "        print(\")\")\n",
    "        return None\n"
   ]
  },
  {
   "cell_type": "code",
   "execution_count": 136,
   "id": "c5f3e0d8",
   "metadata": {},
   "outputs": [],
   "source": [
    "test = alg.Ring('RPS3',\n",
    "                'Test Ring',\n",
    "                ps3.element_names,\n",
    "                ps3.mult_table,\n",
    "                ps3.mult_table\n",
    "               )"
   ]
  },
  {
   "cell_type": "code",
   "execution_count": 137,
   "id": "6588fedb",
   "metadata": {},
   "outputs": [
    {
     "data": {
      "text/plain": [
       "array([[0, 1, 2, 3, 4, 5, 6, 7],\n",
       "       [1, 0, 4, 5, 2, 3, 7, 6],\n",
       "       [2, 4, 0, 6, 1, 7, 3, 5],\n",
       "       [3, 5, 6, 0, 7, 1, 2, 4],\n",
       "       [4, 2, 1, 7, 0, 6, 5, 3],\n",
       "       [5, 3, 7, 1, 6, 0, 4, 2],\n",
       "       [6, 7, 3, 2, 5, 4, 0, 1],\n",
       "       [7, 6, 5, 4, 3, 2, 1, 0]])"
      ]
     },
     "execution_count": 137,
     "metadata": {},
     "output_type": "execute_result"
    }
   ],
   "source": [
    "test.mult_table"
   ]
  },
  {
   "cell_type": "code",
   "execution_count": 138,
   "id": "867db104",
   "metadata": {},
   "outputs": [
    {
     "ename": "AttributeError",
     "evalue": "'Ring' object has no attribute 'rmult_table'",
     "output_type": "error",
     "traceback": [
      "\u001b[0;31m---------------------------------------------------------------------------\u001b[0m",
      "\u001b[0;31mAttributeError\u001b[0m                            Traceback (most recent call last)",
      "\u001b[0;32m~/Documents/Programming/Python/Repos/abstract_algebra/misc/tables6.py\u001b[0m in \u001b[0;36m<module>\u001b[0;34m\u001b[0m\n\u001b[0;32m----> 1\u001b[0;31m \u001b[0mtest\u001b[0m\u001b[0;34m.\u001b[0m\u001b[0mrmult_table\u001b[0m\u001b[0;34m\u001b[0m\u001b[0;34m\u001b[0m\u001b[0m\n\u001b[0m",
      "\u001b[0;31mAttributeError\u001b[0m: 'Ring' object has no attribute 'rmult_table'"
     ]
    }
   ],
   "source": [
    "test.rmult_table"
   ]
  },
  {
   "cell_type": "code",
   "execution_count": null,
   "id": "1f4a9efb",
   "metadata": {},
   "outputs": [],
   "source": []
  },
  {
   "cell_type": "code",
   "execution_count": null,
   "id": "63127c43",
   "metadata": {},
   "outputs": [],
   "source": []
  },
  {
   "cell_type": "code",
   "execution_count": 139,
   "id": "b53949bc",
   "metadata": {},
   "outputs": [
    {
     "name": "stdout",
     "output_type": "stream",
     "text": [
      "Ring('RPS3',\n",
      "'Test Ring',\n",
      "[[(), (0,), (1,), (2,), (0, 1), (0, 2), (1, 2), (0, 1, 2)],\n",
      " [(0,), (), (0, 1), (0, 2), (1,), (2,), (0, 1, 2), (1, 2)],\n",
      " [(1,), (0, 1), (), (1, 2), (0,), (0, 1, 2), (2,), (0, 2)],\n",
      " [(2,), (0, 2), (1, 2), (), (0, 1, 2), (0,), (1,), (0, 1)],\n",
      " [(0, 1), (1,), (0,), (0, 1, 2), (), (1, 2), (0, 2), (2,)],\n",
      " [(0, 2), (2,), (0, 1, 2), (0,), (1, 2), (), (0, 1), (1,)],\n",
      " [(1, 2), (0, 1, 2), (2,), (1,), (0, 2), (0, 1), (), (0,)],\n",
      " [(0, 1, 2), (1, 2), (0, 2), (0, 1), (2,), (1,), (0,), ()]]\n",
      ")\n"
     ]
    }
   ],
   "source": [
    "test.pprint(True)"
   ]
  },
  {
   "cell_type": "code",
   "execution_count": 106,
   "id": "91b39058",
   "metadata": {},
   "outputs": [],
   "source": [
    "foo = [1, 2, 3, 4, 5]"
   ]
  },
  {
   "cell_type": "code",
   "execution_count": 107,
   "id": "bc25d644",
   "metadata": {},
   "outputs": [
    {
     "data": {
      "text/plain": [
       "[1, 2, 3, 4]"
      ]
     },
     "execution_count": 107,
     "metadata": {},
     "output_type": "execute_result"
    }
   ],
   "source": [
    "foo[:4]"
   ]
  },
  {
   "cell_type": "code",
   "execution_count": null,
   "id": "6e5433ad",
   "metadata": {},
   "outputs": [],
   "source": []
  }
 ],
 "metadata": {
  "kernelspec": {
   "display_name": "Python 3",
   "language": "python",
   "name": "python3"
  },
  "language_info": {
   "codemirror_mode": {
    "name": "ipython",
    "version": 3
   },
   "file_extension": ".py",
   "mimetype": "text/x-python",
   "name": "python",
   "nbconvert_exporter": "python",
   "pygments_lexer": "ipython3",
   "version": "3.7.7"
  }
 },
 "nbformat": 4,
 "nbformat_minor": 5
}
