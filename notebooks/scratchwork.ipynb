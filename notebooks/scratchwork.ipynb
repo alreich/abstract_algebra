{
 "cells": [
  {
   "cell_type": "markdown",
   "id": "09ba9765",
   "metadata": {},
   "source": [
    "# Scratchwork"
   ]
  },
  {
   "cell_type": "code",
   "execution_count": 28,
   "id": "3f6a11bb",
   "metadata": {},
   "outputs": [],
   "source": [
    "from finite_algebras import make_finite_algebra, generate_prime_field\n",
    "from finite_algebras import Group, Field\n",
    "\n",
    "import numpy as np"
   ]
  },
  {
   "cell_type": "code",
   "execution_count": 2,
   "id": "75458706",
   "metadata": {},
   "outputs": [],
   "source": [
    "import os\n",
    "aa_path = os.path.join(os.getenv(\"PYPROJ\"), \"abstract_algebra\")\n",
    "alg_dir = os.path.join(aa_path, \"Algebras\")"
   ]
  },
  {
   "cell_type": "markdown",
   "id": "08bbbb1c",
   "metadata": {},
   "source": [
    "## Checking for Field"
   ]
  },
  {
   "cell_type": "markdown",
   "id": "dd3288b8",
   "metadata": {},
   "source": [
    "### Rings"
   ]
  },
  {
   "cell_type": "code",
   "execution_count": 4,
   "id": "8ee3000b",
   "metadata": {},
   "outputs": [
    {
     "name": "stdout",
     "output_type": "stream",
     "text": [
      "\n",
      "Ring: Powerset Ring 2\n",
      "Instance ID: 140589585375824\n",
      "Description: Ring on powerset of {0, 1}\n",
      "Identity: {}\n",
      "Associative? Yes\n",
      "Commutative? Yes\n",
      "Elements:\n",
      "   Index   Name   Inverse  Order\n",
      "      0      {}      {}       1\n",
      "      1     {0}     {0}       2\n",
      "      2     {1}     {1}       2\n",
      "      3  {0, 1}  {0, 1}       2\n",
      "Cayley Table (showing indices):\n",
      "[[0, 1, 2, 3], [1, 0, 3, 2], [2, 3, 0, 1], [3, 2, 1, 0]]\n",
      "Mult. Identity: {0, 1}\n",
      "Mult. Commutative? Yes\n",
      "Multiplicative Cayley Table (showing indices):\n",
      "[[0, 0, 0, 0], [0, 1, 0, 1], [0, 0, 2, 2], [0, 1, 2, 3]]\n"
     ]
    }
   ],
   "source": [
    "rng = make_finite_algebra('Powerset Ring 2',\n",
    "                          'Ring on powerset of {0, 1}',\n",
    "                          ['{}', '{0}', '{1}', '{0, 1}'],\n",
    "                          [[0, 1, 2, 3],\n",
    "                           [1, 0, 3, 2],\n",
    "                           [2, 3, 0, 1],\n",
    "                           [3, 2, 1, 0]],\n",
    "                          [[0, 0, 0, 0],\n",
    "                           [0, 1, 0, 1],\n",
    "                           [0, 0, 2, 2],\n",
    "                           [0, 1, 2, 3]]\n",
    "                         )\n",
    "rng.about()"
   ]
  },
  {
   "cell_type": "markdown",
   "id": "b6391b34",
   "metadata": {},
   "source": [
    "## Fields"
   ]
  },
  {
   "cell_type": "markdown",
   "id": "e2595dd5",
   "metadata": {},
   "source": [
    "$GF(4) = GF(2)[X]/(X^2 + X + 1)$"
   ]
  },
  {
   "cell_type": "markdown",
   "id": "1bb8b066",
   "metadata": {},
   "source": [
    "See Wikipedia: [\"Field with four elements\"](https://en.wikipedia.org/wiki/Finite_field#Field_with_four_elements)"
   ]
  },
  {
   "cell_type": "code",
   "execution_count": 31,
   "id": "238f86c3",
   "metadata": {},
   "outputs": [],
   "source": [
    "elems = ['0', '1', 'a', '1+a']\n",
    "\n",
    "add_table = [[ '0' ,  '1' ,  'a' , '1+a'],\n",
    "             [ '1' ,  '0' , '1+a',  'a' ],\n",
    "             [ 'a' , '1+a',  '0' ,  '1' ],\n",
    "             ['1+a',  'a' ,  '1' ,  '0' ]]\n",
    "\n",
    "mult_table = [['0',  '0' ,  '0' ,  '0' ],\n",
    "              ['0',  '1' ,  'a' , '1+a'],\n",
    "              ['0',  'a' , '1+a',  '1' ],\n",
    "              ['0', '1+a',  '1' ,  'a' ]]"
   ]
  },
  {
   "cell_type": "code",
   "execution_count": 32,
   "id": "941cc8a2",
   "metadata": {},
   "outputs": [
    {
     "data": {
      "text/plain": [
       "Group(\n",
       "'foo',\n",
       "'FOOBAR',\n",
       "['0', '1', 'a', '1+a'],\n",
       "[[0, 1, 2, 3], [1, 0, 3, 2], [2, 3, 0, 1], [3, 2, 1, 0]]\n",
       ")"
      ]
     },
     "execution_count": 32,
     "metadata": {},
     "output_type": "execute_result"
    }
   ],
   "source": [
    "make_finite_algebra(\"foo\", \"FOOBAR\", elems, add_table)"
   ]
  },
  {
   "cell_type": "code",
   "execution_count": 33,
   "id": "fff2ba99",
   "metadata": {},
   "outputs": [
    {
     "name": "stdout",
     "output_type": "stream",
     "text": [
      "\n",
      "Field: F4\n",
      "Instance ID: 140589051766032\n",
      "Description: Field with 4 elements\n",
      "Identity: 0\n",
      "Associative? Yes\n",
      "Commutative? Yes\n",
      "Elements:\n",
      "   Index   Name   Inverse  Order\n",
      "      0       0       0       1\n",
      "      1       1       1       2\n",
      "      2       a       a       2\n",
      "      3     1+a     1+a       2\n",
      "Cayley Table (showing indices):\n",
      "[[0, 1, 2, 3], [1, 0, 3, 2], [2, 3, 0, 1], [3, 2, 1, 0]]\n",
      "Mult. Identity: 1\n",
      "Mult. Commutative? Yes\n",
      "Multiplicative Cayley Table (showing indices):\n",
      "[[0, 0, 0, 0], [0, 1, 2, 3], [0, 2, 3, 1], [0, 3, 1, 2]]\n"
     ]
    }
   ],
   "source": [
    "f4 = Field('F4',\n",
    "           'Field with 4 elements',\n",
    "           elems,\n",
    "           add_table,\n",
    "           mult_table\n",
    "          )\n",
    "\n",
    "f4.about()"
   ]
  },
  {
   "cell_type": "markdown",
   "id": "3a02dbf2",
   "metadata": {},
   "source": [
    "### Generate Field of Prime Order"
   ]
  },
  {
   "cell_type": "code",
   "execution_count": 11,
   "id": "51779bc4",
   "metadata": {},
   "outputs": [
    {
     "name": "stdout",
     "output_type": "stream",
     "text": [
      "\n",
      "Ring: F7\n",
      "Instance ID: 140589050915536\n",
      "Description: Autogenerated prime field of order 7\n",
      "Identity: a0\n",
      "Associative? Yes\n",
      "Commutative? Yes\n",
      "Elements:\n",
      "   Index   Name   Inverse  Order\n",
      "      0      a0      a0       1\n",
      "      1      a1      a6       7\n",
      "      2      a2      a5       7\n",
      "      3      a3      a4       7\n",
      "      4      a4      a3       7\n",
      "      5      a5      a2       7\n",
      "      6      a6      a1       7\n",
      "Cayley Table (showing indices):\n",
      "[[0, 1, 2, 3, 4, 5, 6],\n",
      " [1, 2, 3, 4, 5, 6, 0],\n",
      " [2, 3, 4, 5, 6, 0, 1],\n",
      " [3, 4, 5, 6, 0, 1, 2],\n",
      " [4, 5, 6, 0, 1, 2, 3],\n",
      " [5, 6, 0, 1, 2, 3, 4],\n",
      " [6, 0, 1, 2, 3, 4, 5]]\n",
      "Mult. Identity: a1\n",
      "Mult. Commutative? Yes\n",
      "Multiplicative Cayley Table (showing indices):\n",
      "[[0, 0, 0, 0, 0, 0, 0],\n",
      " [0, 1, 2, 3, 4, 5, 6],\n",
      " [0, 2, 4, 6, 1, 3, 5],\n",
      " [0, 3, 6, 2, 5, 1, 4],\n",
      " [0, 4, 1, 5, 2, 6, 3],\n",
      " [0, 5, 3, 1, 6, 4, 2],\n",
      " [0, 6, 5, 4, 3, 2, 1]]\n"
     ]
    }
   ],
   "source": [
    "f7 = generate_prime_field(7)\n",
    "f7.about()"
   ]
  },
  {
   "cell_type": "code",
   "execution_count": 12,
   "id": "5c9e4fe9",
   "metadata": {},
   "outputs": [
    {
     "name": "stdout",
     "output_type": "stream",
     "text": [
      "\n",
      "Group: F7.Add\n",
      "Instance ID: 140589050878736\n",
      "Description: Additive-only portion of F7\n",
      "Identity: a0\n",
      "Associative? Yes\n",
      "Commutative? Yes\n",
      "Elements:\n",
      "   Index   Name   Inverse  Order\n",
      "      0      a0      a0       1\n",
      "      1      a1      a6       7\n",
      "      2      a2      a5       7\n",
      "      3      a3      a4       7\n",
      "      4      a4      a3       7\n",
      "      5      a5      a2       7\n",
      "      6      a6      a1       7\n",
      "Cayley Table (showing indices):\n",
      "[[0, 1, 2, 3, 4, 5, 6],\n",
      " [1, 2, 3, 4, 5, 6, 0],\n",
      " [2, 3, 4, 5, 6, 0, 1],\n",
      " [3, 4, 5, 6, 0, 1, 2],\n",
      " [4, 5, 6, 0, 1, 2, 3],\n",
      " [5, 6, 0, 1, 2, 3, 4],\n",
      " [6, 0, 1, 2, 3, 4, 5]]\n"
     ]
    }
   ],
   "source": [
    "f7_add = f7.extract_additive_algebra()\n",
    "f7_add.about()"
   ]
  },
  {
   "cell_type": "code",
   "execution_count": 13,
   "id": "e604b0cd",
   "metadata": {},
   "outputs": [
    {
     "name": "stdout",
     "output_type": "stream",
     "text": [
      "\n",
      "Monoid: F7.Mult\n",
      "Instance ID: 140589050877520\n",
      "Description: Multiplicative-only portion of F7\n",
      "Elements: ['a0', 'a1', 'a2', 'a3', 'a4', 'a5', 'a6']\n",
      "Identity: a1\n",
      "Associative? Yes\n",
      "Commutative? Yes\n",
      "Has Inverses? No\n",
      "Cayley Table (showing indices):\n",
      "[[0, 0, 0, 0, 0, 0, 0],\n",
      " [0, 1, 2, 3, 4, 5, 6],\n",
      " [0, 2, 4, 6, 1, 3, 5],\n",
      " [0, 3, 6, 2, 5, 1, 4],\n",
      " [0, 4, 1, 5, 2, 6, 3],\n",
      " [0, 5, 3, 1, 6, 4, 2],\n",
      " [0, 6, 5, 4, 3, 2, 1]]\n"
     ]
    }
   ],
   "source": [
    "f7_mult = f7.extract_multiplicative_algebra()\n",
    "f7_mult.about()"
   ]
  },
  {
   "cell_type": "code",
   "execution_count": 16,
   "id": "d5ba8dc2",
   "metadata": {},
   "outputs": [
    {
     "name": "stdout",
     "output_type": "stream",
     "text": [
      "[('Monoid', 4), ('Group', 6), ('Group', 3), ('Monoid', 2), ('Monoid', 3), ('Group', 2)]\n"
     ]
    },
    {
     "data": {
      "text/plain": [
       "[Group(\n",
       " 'F7.Mult_subalgebra_1',\n",
       " 'Subalgebra of: Multiplicative-only portion of F7',\n",
       " ['a1', 'a2', 'a3', 'a4', 'a5', 'a6'],\n",
       " [[0, 1, 2, 3, 4, 5], [1, 3, 5, 0, 2, 4], [2, 5, 1, 4, 0, 3], [3, 0, 4, 1, 5, 2], [4, 2, 0, 5, 3, 1], [5, 4, 3, 2, 1, 0]]\n",
       " ),\n",
       " Group(\n",
       " 'F7.Mult_subalgebra_2',\n",
       " 'Subalgebra of: Multiplicative-only portion of F7',\n",
       " ['a1', 'a2', 'a4'],\n",
       " [[0, 1, 2], [1, 2, 0], [2, 0, 1]]\n",
       " ),\n",
       " Group(\n",
       " 'F7.Mult_subalgebra_5',\n",
       " 'Subalgebra of: Multiplicative-only portion of F7',\n",
       " ['a1', 'a6'],\n",
       " [[0, 1], [1, 0]]\n",
       " )]"
      ]
     },
     "execution_count": 16,
     "metadata": {},
     "output_type": "execute_result"
    }
   ],
   "source": [
    "f7_mult_subs = f7_mult.proper_subalgebras()\n",
    "\n",
    "print([(alg.__class__.__name__, alg.order) for alg in f7_mult_subs])\n",
    "\n",
    "[alg for alg in f7_mult_subs if isinstance(alg, Group)]"
   ]
  },
  {
   "cell_type": "code",
   "execution_count": 17,
   "id": "a3e00538",
   "metadata": {},
   "outputs": [
    {
     "name": "stdout",
     "output_type": "stream",
     "text": [
      "\n",
      "Group: F7.Mult_subalgebra_2\n",
      "Instance ID: 140589049111376\n",
      "Description: Subalgebra of: Multiplicative-only portion of F7\n",
      "Identity: a1\n",
      "Associative? Yes\n",
      "Commutative? Yes\n",
      "Elements:\n",
      "   Index   Name   Inverse  Order\n",
      "      0      a1      a1       1\n",
      "      1      a2      a4       3\n",
      "      2      a4      a2       3\n",
      "Cayley Table (showing indices):\n",
      "[[0, 1, 2], [1, 2, 0], [2, 0, 1]]\n"
     ]
    }
   ],
   "source": [
    "f7_mult_sub2 = f7_mult_subs[2]\n",
    "f7_mult_sub2.about()"
   ]
  },
  {
   "cell_type": "code",
   "execution_count": null,
   "id": "ddff4ba9",
   "metadata": {},
   "outputs": [],
   "source": []
  },
  {
   "cell_type": "code",
   "execution_count": null,
   "id": "b7a34648",
   "metadata": {},
   "outputs": [],
   "source": []
  },
  {
   "cell_type": "code",
   "execution_count": 18,
   "id": "94171884",
   "metadata": {},
   "outputs": [
    {
     "name": "stdout",
     "output_type": "stream",
     "text": [
      "\n",
      "Ring: F7\n",
      "Instance ID: 140589050915536\n",
      "Description: Autogenerated prime field of order 7\n",
      "Identity: a0\n",
      "Associative? Yes\n",
      "Commutative? Yes\n",
      "Elements:\n",
      "   Index   Name   Inverse  Order\n",
      "      0      a0      a0       1\n",
      "      1      a1      a6       7\n",
      "      2      a2      a5       7\n",
      "      3      a3      a4       7\n",
      "      4      a4      a3       7\n",
      "      5      a5      a2       7\n",
      "      6      a6      a1       7\n",
      "Cayley Table (showing indices):\n",
      "[[0, 1, 2, 3, 4, 5, 6],\n",
      " [1, 2, 3, 4, 5, 6, 0],\n",
      " [2, 3, 4, 5, 6, 0, 1],\n",
      " [3, 4, 5, 6, 0, 1, 2],\n",
      " [4, 5, 6, 0, 1, 2, 3],\n",
      " [5, 6, 0, 1, 2, 3, 4],\n",
      " [6, 0, 1, 2, 3, 4, 5]]\n",
      "Mult. Identity: a1\n",
      "Mult. Commutative? Yes\n",
      "Multiplicative Cayley Table (showing indices):\n",
      "[[0, 0, 0, 0, 0, 0, 0],\n",
      " [0, 1, 2, 3, 4, 5, 6],\n",
      " [0, 2, 4, 6, 1, 3, 5],\n",
      " [0, 3, 6, 2, 5, 1, 4],\n",
      " [0, 4, 1, 5, 2, 6, 3],\n",
      " [0, 5, 3, 1, 6, 4, 2],\n",
      " [0, 6, 5, 4, 3, 2, 1]]\n"
     ]
    }
   ],
   "source": [
    "rng = f7\n",
    "rng.about()"
   ]
  },
  {
   "cell_type": "code",
   "execution_count": 19,
   "id": "294870d6",
   "metadata": {},
   "outputs": [
    {
     "name": "stdout",
     "output_type": "stream",
     "text": [
      "\n",
      "Monoid: F7.Mult\n",
      "Instance ID: 140589050877520\n",
      "Description: Multiplicative-only portion of F7\n",
      "Elements: ['a0', 'a1', 'a2', 'a3', 'a4', 'a5', 'a6']\n",
      "Identity: a1\n",
      "Associative? Yes\n",
      "Commutative? Yes\n",
      "Has Inverses? No\n",
      "Cayley Table (showing indices):\n",
      "[[0, 0, 0, 0, 0, 0, 0],\n",
      " [0, 1, 2, 3, 4, 5, 6],\n",
      " [0, 2, 4, 6, 1, 3, 5],\n",
      " [0, 3, 6, 2, 5, 1, 4],\n",
      " [0, 4, 1, 5, 2, 6, 3],\n",
      " [0, 5, 3, 1, 6, 4, 2],\n",
      " [0, 6, 5, 4, 3, 2, 1]]\n"
     ]
    }
   ],
   "source": [
    "rng_mult = f7_mult\n",
    "rng_mult.about()"
   ]
  },
  {
   "cell_type": "code",
   "execution_count": 20,
   "id": "13a153b8",
   "metadata": {},
   "outputs": [
    {
     "data": {
      "text/plain": [
       "'a0'"
      ]
     },
     "execution_count": 20,
     "metadata": {},
     "output_type": "execute_result"
    }
   ],
   "source": [
    "add_id = rng.add_identity\n",
    "add_id"
   ]
  },
  {
   "cell_type": "code",
   "execution_count": 21,
   "id": "d84f0807",
   "metadata": {},
   "outputs": [],
   "source": [
    "# rng_mult = make_finite_algebra_2(\"tmp\", \"Temp\", elements, mult_table.table)"
   ]
  },
  {
   "cell_type": "code",
   "execution_count": 22,
   "id": "46117bf3",
   "metadata": {},
   "outputs": [
    {
     "data": {
      "text/plain": [
       "['a0', 'a1', 'a2', 'a3', 'a4', 'a5', 'a6']"
      ]
     },
     "execution_count": 22,
     "metadata": {},
     "output_type": "execute_result"
    }
   ],
   "source": [
    "elems = rng_mult.elements.copy()\n",
    "elems"
   ]
  },
  {
   "cell_type": "code",
   "execution_count": 23,
   "id": "6eceacca",
   "metadata": {},
   "outputs": [
    {
     "data": {
      "text/plain": [
       "['a1', 'a2', 'a3', 'a4', 'a5', 'a6']"
      ]
     },
     "execution_count": 23,
     "metadata": {},
     "output_type": "execute_result"
    }
   ],
   "source": [
    "elems.remove(add_id)\n",
    "elems"
   ]
  },
  {
   "cell_type": "code",
   "execution_count": 24,
   "id": "b65a258a",
   "metadata": {},
   "outputs": [
    {
     "data": {
      "text/plain": [
       "['a1', 'a2', 'a3', 'a4', 'a5', 'a6']"
      ]
     },
     "execution_count": 24,
     "metadata": {},
     "output_type": "execute_result"
    }
   ],
   "source": [
    "elems_closed = sorted(rng_mult.closure(elems))\n",
    "elems_closed"
   ]
  },
  {
   "cell_type": "code",
   "execution_count": 25,
   "id": "5cd66ff9",
   "metadata": {},
   "outputs": [
    {
     "data": {
      "text/plain": [
       "True"
      ]
     },
     "execution_count": 25,
     "metadata": {},
     "output_type": "execute_result"
    }
   ],
   "source": [
    "set(elems) == set(elems_closed)"
   ]
  },
  {
   "cell_type": "code",
   "execution_count": 26,
   "id": "282c4c68",
   "metadata": {},
   "outputs": [
    {
     "data": {
      "text/plain": [
       "Group(\n",
       "'No name',\n",
       "'No description',\n",
       "['a1', 'a2', 'a3', 'a4', 'a5', 'a6'],\n",
       "[[0, 1, 2, 3, 4, 5], [1, 3, 5, 0, 2, 4], [2, 5, 1, 4, 0, 3], [3, 0, 4, 1, 5, 2], [4, 2, 0, 5, 3, 1], [5, 4, 3, 2, 1, 0]]\n",
       ")"
      ]
     },
     "execution_count": 26,
     "metadata": {},
     "output_type": "execute_result"
    }
   ],
   "source": [
    "alg = rng_mult.subalgebra_from_elements(elems)\n",
    "alg"
   ]
  },
  {
   "cell_type": "code",
   "execution_count": 27,
   "id": "9d35b887",
   "metadata": {},
   "outputs": [
    {
     "data": {
      "text/plain": [
       "True"
      ]
     },
     "execution_count": 27,
     "metadata": {},
     "output_type": "execute_result"
    }
   ],
   "source": [
    "isinstance(alg, Group) and alg.is_commutative()"
   ]
  },
  {
   "cell_type": "code",
   "execution_count": null,
   "id": "9c9d4e4b",
   "metadata": {},
   "outputs": [],
   "source": []
  },
  {
   "cell_type": "code",
   "execution_count": null,
   "id": "18d9779c",
   "metadata": {},
   "outputs": [],
   "source": []
  },
  {
   "cell_type": "code",
   "execution_count": null,
   "id": "81eef5f4",
   "metadata": {},
   "outputs": [],
   "source": []
  }
 ],
 "metadata": {
  "kernelspec": {
   "display_name": "Python 3",
   "language": "python",
   "name": "python3"
  },
  "language_info": {
   "codemirror_mode": {
    "name": "ipython",
    "version": 3
   },
   "file_extension": ".py",
   "mimetype": "text/x-python",
   "name": "python",
   "nbconvert_exporter": "python",
   "pygments_lexer": "ipython3",
   "version": "3.7.7"
  }
 },
 "nbformat": 4,
 "nbformat_minor": 5
}
