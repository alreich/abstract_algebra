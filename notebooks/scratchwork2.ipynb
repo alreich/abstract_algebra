{
 "cells": [
  {
   "cell_type": "markdown",
   "id": "ac066dc5",
   "metadata": {},
   "source": [
    "# Scratchwork 2"
   ]
  },
  {
   "cell_type": "code",
   "execution_count": 1,
   "id": "34630837",
   "metadata": {},
   "outputs": [],
   "source": [
    "from cayley_table import CayleyTable\n",
    "from finite_algebras import *"
   ]
  },
  {
   "cell_type": "code",
   "execution_count": 2,
   "id": "80f3307f",
   "metadata": {},
   "outputs": [],
   "source": [
    "rps_table = [[0, 1, 0], [1, 1, 2], [0, 2, 2]]"
   ]
  },
  {
   "cell_type": "code",
   "execution_count": 3,
   "id": "d75a337c",
   "metadata": {},
   "outputs": [
    {
     "data": {
      "text/plain": [
       "Magma(\n",
       "RPS,\n",
       "Rock, Paper, Scissors,\n",
       "['r', 'p', 's'],\n",
       "[[0, 1, 0], [1, 1, 2], [0, 2, 2]]\n",
       ")"
      ]
     },
     "execution_count": 3,
     "metadata": {},
     "output_type": "execute_result"
    }
   ],
   "source": [
    "rps0 = make_finite_algebra('RPS', \"Rock, Paper, Scissors\", ['r', 'p', 's'], rps_table)\n",
    "rps0"
   ]
  },
  {
   "cell_type": "code",
   "execution_count": 4,
   "id": "7b633bf1",
   "metadata": {},
   "outputs": [
    {
     "data": {
      "text/plain": [
       "Magma(\n",
       "RPS,\n",
       "Rock, Paper, Scissors,\n",
       "['r', 'p', 's'],\n",
       "[[0, 1, 0], [1, 1, 2], [0, 2, 2]]\n",
       ")"
      ]
     },
     "execution_count": 4,
     "metadata": {},
     "output_type": "execute_result"
    }
   ],
   "source": [
    "rps = Magma('RPS', \"Rock, Paper, Scissors\", ['r', 'p', 's'], rps_table)\n",
    "rps"
   ]
  },
  {
   "cell_type": "code",
   "execution_count": 5,
   "id": "00a700a5",
   "metadata": {},
   "outputs": [],
   "source": [
    "def index_table_from_name_table(elements, name_table):\n",
    "    return [[elements.index(elem_name) for elem_name in row] for row in name_table]"
   ]
  },
  {
   "cell_type": "code",
   "execution_count": 6,
   "id": "d1663fe9",
   "metadata": {},
   "outputs": [
    {
     "data": {
      "text/plain": [
       "[[0, 1, 0], [1, 1, 2], [0, 2, 2]]"
      ]
     },
     "execution_count": 6,
     "metadata": {},
     "output_type": "execute_result"
    }
   ],
   "source": [
    "rps_table"
   ]
  },
  {
   "cell_type": "code",
   "execution_count": 7,
   "id": "bd0b0b20",
   "metadata": {},
   "outputs": [
    {
     "data": {
      "text/plain": [
       "Magma(\n",
       "RPS,\n",
       "Rock, Paper, Scissors,\n",
       "['r', 'p', 's'],\n",
       "[[0, 1, 0], [1, 1, 2], [0, 2, 2]]\n",
       ")"
      ]
     },
     "execution_count": 7,
     "metadata": {},
     "output_type": "execute_result"
    }
   ],
   "source": [
    "make_finite_algebra('RPS', \"Rock, Paper, Scissors\", ['r', 'p', 's'], rps_table)"
   ]
  },
  {
   "cell_type": "code",
   "execution_count": 8,
   "id": "ac41c4b0",
   "metadata": {},
   "outputs": [
    {
     "data": {
      "text/plain": [
       "Magma(\n",
       "RPS,\n",
       "Rock, Paper, Scissors,\n",
       "['r', 'p', 's'],\n",
       "[[0, 1, 0], [1, 1, 2], [0, 2, 2]]\n",
       ")"
      ]
     },
     "execution_count": 8,
     "metadata": {},
     "output_type": "execute_result"
    }
   ],
   "source": [
    "Magma('RPS', \"Rock, Paper, Scissors\", ['r', 'p', 's'], rps_table)"
   ]
  },
  {
   "cell_type": "code",
   "execution_count": null,
   "id": "9640d2e3",
   "metadata": {},
   "outputs": [],
   "source": []
  },
  {
   "cell_type": "code",
   "execution_count": null,
   "id": "eb8cfc87",
   "metadata": {},
   "outputs": [],
   "source": []
  },
  {
   "cell_type": "code",
   "execution_count": 9,
   "id": "67c3c8cf",
   "metadata": {},
   "outputs": [],
   "source": [
    "ex141_tbl = [[0, 3, 0, 3, 0, 3],\n",
    "             [1, 4, 1, 4, 1, 4],\n",
    "             [2, 5, 2, 5, 2, 5],\n",
    "             [3, 0, 3, 0, 3, 0],\n",
    "             [4, 1, 4, 1, 4, 1],\n",
    "             [5, 2, 5, 2, 5, 2]]"
   ]
  },
  {
   "cell_type": "code",
   "execution_count": null,
   "id": "0fda26eb",
   "metadata": {},
   "outputs": [],
   "source": []
  },
  {
   "cell_type": "code",
   "execution_count": 10,
   "id": "61d13e3d",
   "metadata": {},
   "outputs": [
    {
     "data": {
      "text/plain": [
       "Semigroup(\n",
       "Example 141,\n",
       "Smarandache,\n",
       "['a', 'b', 'c', 'd', 'e', 'f'],\n",
       "[[0, 3, 0, 3, 0, 3], [1, 4, 1, 4, 1, 4], [2, 5, 2, 5, 2, 5], [3, 0, 3, 0, 3, 0], [4, 1, 4, 1, 4, 1], [5, 2, 5, 2, 5, 2]]\n",
       ")"
      ]
     },
     "execution_count": 10,
     "metadata": {},
     "output_type": "execute_result"
    }
   ],
   "source": [
    "ex141_magma = make_finite_algebra(\"Example 141\", \"Smarandache\", ['a', 'b', 'c', 'd', 'e', 'f'], ex141_tbl)\n",
    "ex141_magma"
   ]
  },
  {
   "cell_type": "code",
   "execution_count": 11,
   "id": "97a5ed3f",
   "metadata": {},
   "outputs": [],
   "source": [
    "import os, json\n",
    "aa_path = os.path.join(os.getenv(\"PYPROJ\"), \"abstract_algebra\")\n",
    "alg_dir = os.path.join(aa_path, \"Algebras\")"
   ]
  },
  {
   "cell_type": "code",
   "execution_count": 12,
   "id": "c76cf49d",
   "metadata": {},
   "outputs": [
    {
     "name": "stdout",
     "output_type": "stream",
     "text": [
      "{\"type\": \"Group\",\r\n",
      " \"name\": \"V4\",\r\n",
      " \"description\": \"Klein-4 group\",\r\n",
      " \"element_names\": [\"e\", \"h\", \"v\", \"r\"],\r\n",
      " \"mult_table\": [[0, 1, 2, 3],\r\n",
      "                [1, 0, 3, 2],\r\n",
      "                [2, 3, 0, 1],\r\n",
      "                [3, 2, 1, 0]]\r\n",
      "}\r\n"
     ]
    }
   ],
   "source": [
    "v4_json = os.path.join(alg_dir, \"v4_klein_4_group.json\")\n",
    "!cat {v4_json}"
   ]
  },
  {
   "cell_type": "code",
   "execution_count": 13,
   "id": "e6a411ef",
   "metadata": {},
   "outputs": [
    {
     "data": {
      "text/plain": [
       "Group(\n",
       "V4,\n",
       "Klein-4 group,\n",
       "['e', 'h', 'v', 'r'],\n",
       "[[0, 1, 2, 3], [1, 0, 3, 2], [2, 3, 0, 1], [3, 2, 1, 0]]\n",
       ")"
      ]
     },
     "execution_count": 13,
     "metadata": {},
     "output_type": "execute_result"
    }
   ],
   "source": [
    "v4_dict = make_finite_algebra(v4_json)\n",
    "v4_dict"
   ]
  },
  {
   "cell_type": "markdown",
   "id": "7f3316e8",
   "metadata": {},
   "source": [
    "## For Unit Tests"
   ]
  },
  {
   "cell_type": "code",
   "execution_count": 14,
   "id": "c1fc533f",
   "metadata": {},
   "outputs": [],
   "source": [
    "import pprint as pp"
   ]
  },
  {
   "cell_type": "code",
   "execution_count": 15,
   "id": "b91f4efe",
   "metadata": {},
   "outputs": [
    {
     "data": {
      "text/plain": [
       "\"Group(Z4, Cyclic group, ['e', 'a', 'a^2', 'a^3'], [[0, 1, 2, 3], [1, 2, 3, 0], [2, 3, 0, 1], [3, 0, 1, 2]])\""
      ]
     },
     "execution_count": 15,
     "metadata": {},
     "output_type": "execute_result"
    }
   ],
   "source": [
    "z4 = generate_cyclic_group(4, name=\"Z4\", description=\"Cyclic group\")\n",
    "str(z4)"
   ]
  },
  {
   "cell_type": "code",
   "execution_count": 16,
   "id": "02f70203",
   "metadata": {},
   "outputs": [
    {
     "data": {
      "text/plain": [
       "['e', 'a', 'a^2', 'a^3']"
      ]
     },
     "execution_count": 16,
     "metadata": {},
     "output_type": "execute_result"
    }
   ],
   "source": [
    "z4.elements"
   ]
  },
  {
   "cell_type": "code",
   "execution_count": 17,
   "id": "f8c326f9",
   "metadata": {},
   "outputs": [
    {
     "data": {
      "text/plain": [
       "CayleyTable([[0, 1, 2, 3], [1, 2, 3, 0], [2, 3, 0, 1], [3, 0, 1, 2]])"
      ]
     },
     "execution_count": 17,
     "metadata": {},
     "output_type": "execute_result"
    }
   ],
   "source": [
    "z4.table"
   ]
  },
  {
   "cell_type": "code",
   "execution_count": 18,
   "id": "d4d0eba5",
   "metadata": {},
   "outputs": [
    {
     "data": {
      "text/plain": [
       "True"
      ]
     },
     "execution_count": 18,
     "metadata": {},
     "output_type": "execute_result"
    }
   ],
   "source": [
    "z4.is_associative()"
   ]
  },
  {
   "cell_type": "code",
   "execution_count": 19,
   "id": "47dd3b58",
   "metadata": {},
   "outputs": [
    {
     "data": {
      "text/plain": [
       "True"
      ]
     },
     "execution_count": 19,
     "metadata": {},
     "output_type": "execute_result"
    }
   ],
   "source": [
    "z4.is_commutative()"
   ]
  },
  {
   "cell_type": "code",
   "execution_count": 22,
   "id": "0db99901",
   "metadata": {},
   "outputs": [
    {
     "data": {
      "text/plain": [
       "0"
      ]
     },
     "execution_count": 22,
     "metadata": {},
     "output_type": "execute_result"
    }
   ],
   "source": [
    "z4.identity"
   ]
  },
  {
   "cell_type": "code",
   "execution_count": 23,
   "id": "94538a6b",
   "metadata": {},
   "outputs": [],
   "source": [
    "def generate_symmetric_group(n, name=None, description=None, base=1):\n",
    "    \"\"\"Generates a symmetric group on n elements. The 'base' is a non-negative integer\n",
    "    (typically, 0 or 1), so permutations will be tuples, like (1, 2, 3, ..., n), where\n",
    "    n is the order, or (0, 1, 2, ..., n-1).\"\"\"\n",
    "    if name:\n",
    "        nm = name\n",
    "    else:\n",
    "        nm = \"S\" + str(n)\n",
    "    if description:\n",
    "        desc = description\n",
    "    else:\n",
    "        desc = f\"Autogenerated symmetric group on {n} elements\"\n",
    "    ident = tuple(range(base, n + base))\n",
    "    perms = list(it.permutations(ident))\n",
    "    elem_dict = {str(p): Perm(p) for p in perms}\n",
    "    rev_elem_dict = {val: key for key, val in elem_dict.items()}\n",
    "    mul_tbl = [[rev_elem_dict[elem_dict[a] * elem_dict[b]]\n",
    "                for b in elem_dict]\n",
    "               for a in elem_dict]\n",
    "    index_table = index_table_from_name_table(list(elem_dict.keys()), mul_tbl)\n",
    "    return Group(nm, desc, list(elem_dict.keys()), index_table)"
   ]
  },
  {
   "cell_type": "code",
   "execution_count": 24,
   "id": "2eec69c0",
   "metadata": {},
   "outputs": [
    {
     "data": {
      "text/plain": [
       "Group(\n",
       "S3,\n",
       "Symmetric group,\n",
       "['(0, 1, 2)', '(0, 2, 1)', '(1, 0, 2)', '(1, 2, 0)', '(2, 0, 1)', '(2, 1, 0)'],\n",
       "[[0, 1, 2, 3, 4, 5], [1, 0, 4, 5, 2, 3], [2, 3, 0, 1, 5, 4], [3, 2, 5, 4, 0, 1], [4, 5, 1, 0, 3, 2], [5, 4, 3, 2, 1, 0]]\n",
       ")"
      ]
     },
     "execution_count": 24,
     "metadata": {},
     "output_type": "execute_result"
    }
   ],
   "source": [
    "s3 = generate_symmetric_group(3, name=\"S3\", description=\"Symmetric group\", base=0)\n",
    "s3"
   ]
  },
  {
   "cell_type": "code",
   "execution_count": 25,
   "id": "c23db706",
   "metadata": {},
   "outputs": [
    {
     "data": {
      "text/plain": [
       "['(0, 1, 2)', '(0, 2, 1)', '(1, 0, 2)', '(1, 2, 0)', '(2, 0, 1)', '(2, 1, 0)']"
      ]
     },
     "execution_count": 25,
     "metadata": {},
     "output_type": "execute_result"
    }
   ],
   "source": [
    "s3.elements"
   ]
  },
  {
   "cell_type": "code",
   "execution_count": 26,
   "id": "e89f3d1f",
   "metadata": {},
   "outputs": [
    {
     "data": {
      "text/plain": [
       "CayleyTable([[0, 1, 2, 3, 4, 5], [1, 0, 4, 5, 2, 3], [2, 3, 0, 1, 5, 4], [3, 2, 5, 4, 0, 1], [4, 5, 1, 0, 3, 2], [5, 4, 3, 2, 1, 0]])"
      ]
     },
     "execution_count": 26,
     "metadata": {},
     "output_type": "execute_result"
    }
   ],
   "source": [
    "s3.table"
   ]
  },
  {
   "cell_type": "code",
   "execution_count": 27,
   "id": "23fe9f91",
   "metadata": {},
   "outputs": [
    {
     "data": {
      "text/plain": [
       "True"
      ]
     },
     "execution_count": 27,
     "metadata": {},
     "output_type": "execute_result"
    }
   ],
   "source": [
    "s3.is_associative()"
   ]
  },
  {
   "cell_type": "code",
   "execution_count": 28,
   "id": "b35b565c",
   "metadata": {},
   "outputs": [
    {
     "data": {
      "text/plain": [
       "False"
      ]
     },
     "execution_count": 28,
     "metadata": {},
     "output_type": "execute_result"
    }
   ],
   "source": [
    "s3.is_commutative()"
   ]
  },
  {
   "cell_type": "code",
   "execution_count": 29,
   "id": "520b2a64",
   "metadata": {},
   "outputs": [
    {
     "data": {
      "text/plain": [
       "0"
      ]
     },
     "execution_count": 29,
     "metadata": {},
     "output_type": "execute_result"
    }
   ],
   "source": [
    "s3.identity"
   ]
  },
  {
   "cell_type": "code",
   "execution_count": null,
   "id": "8923b33f",
   "metadata": {},
   "outputs": [],
   "source": []
  }
 ],
 "metadata": {
  "kernelspec": {
   "display_name": "Python 3",
   "language": "python",
   "name": "python3"
  },
  "language_info": {
   "codemirror_mode": {
    "name": "ipython",
    "version": 3
   },
   "file_extension": ".py",
   "mimetype": "text/x-python",
   "name": "python",
   "nbconvert_exporter": "python",
   "pygments_lexer": "ipython3",
   "version": "3.7.7"
  }
 },
 "nbformat": 4,
 "nbformat_minor": 5
}
