{
 "cells": [
  {
   "cell_type": "markdown",
   "id": "d7c1a34e",
   "metadata": {},
   "source": [
    "# Gaussian Integers"
   ]
  },
  {
   "cell_type": "markdown",
   "id": "78d12b9c-d027-4465-a0d6-010afaef30b1",
   "metadata": {},
   "source": [
    "> <i>In number theory, a Gaussian integer is a complex number whose real and imaginary parts are both integers. The Gaussian integers, with ordinary addition and multiplication of complex numbers, form an integral domain, usually written as $\\mathbb{Z}[i]$.</i>\n",
    "> \n",
    "> <i>Gaussian integers are named after the German mathematician Carl Friedrich Gauss.</i>\n",
    "> \n",
    "> -- [Wikipedia](https://en.wikipedia.org/wiki/Gaussian_integer)"
   ]
  },
  {
   "cell_type": "markdown",
   "id": "a4f1b845-dd43-41ef-8c6d-54ba8fc4becf",
   "metadata": {},
   "source": [
    "## References"
   ]
  },
  {
   "cell_type": "markdown",
   "id": "75df8af6-cc44-48ae-9453-9736d0bc0c9b",
   "metadata": {},
   "source": [
    "* [The Gaussian Integers](https://kconrad.math.uconn.edu/blurbs/ugradnumthy/Zinotes.pdf) by Keith Conrad\n",
    "* [1.13: The Gaussian Integers](https://math.libretexts.org/Bookshelves/Combinatorics_and_Discrete_Mathematics/Elementary_Number_Theory_(Barrus_and_Clark)/01%3A_Chapters/1.13%3A_The_Gaussian_Integers) in [Elementary Number Theory](https://math.libretexts.org/Bookshelves/Combinatorics_and_Discrete_Mathematics/Elementary_Number_Theory_(Barrus_and_Clark)) by Barrus and Clark\n",
    "* [Gaussian Integers and Rings of Algebraic Integers](https://www.math.uci.edu/~ndonalds/math180b/6gaussian.pdf) in lecture notes by Neil Donaldson\n",
    "* [Gaussian integer -- Wikipedia](https://en.wikipedia.org/wiki/Gaussian_integer)\n",
    "* Python:\n",
    "  * [divmod](https://docs.python.org/3/library/functions.html#divmod) - implements the division theorem for Python integers or floats\n",
    "  * [Emulating Numeric Types](https://docs.python.org/3/reference/datamodel.html#emulating-numeric-types)\n",
    "  * [cmath — Mathematical functions for complex numbers](https://docs.python.org/3/library/cmath.html)\n",
    "  * [math — Mathematical functions](https://docs.python.org/3/library/math.html)\n",
    "  * [Python standard operators](https://docs.python.org/3/library/operator.html)"
   ]
  },
  {
   "cell_type": "markdown",
   "id": "f61934d4-1336-4066-b6ec-5244c170c0ff",
   "metadata": {},
   "source": [
    "## The Gint Class"
   ]
  },
  {
   "cell_type": "markdown",
   "id": "12a7040a-1a27-4c8a-9ab3-76ec2349c523",
   "metadata": {},
   "source": [
    "The Python module, ``gaussian_integers``, defines a class, ``Gint``, that implements an object with Gaussian integer functionality.\n",
    "\n",
    "A ``Gint`` has only two fields, ``real`` and ``imag``; both are integers.\n",
    "\n",
    "The source code, along with this Jupyter notebook and others, can be found on Github: https://github.com/alreich/abstract_algebra"
   ]
  },
  {
   "cell_type": "code",
   "execution_count": 1,
   "id": "ddfb290e",
   "metadata": {},
   "outputs": [],
   "source": [
    "from gaussian_integers import Gint, xgcd"
   ]
  },
  {
   "cell_type": "markdown",
   "id": "fe7551f5-0f7d-4ef8-8285-7784cf08200d",
   "metadata": {},
   "source": [
    "## Creating Gints"
   ]
  },
  {
   "cell_type": "code",
   "execution_count": 2,
   "id": "95b2e594-5821-458c-9885-ba091b26d296",
   "metadata": {},
   "outputs": [
    {
     "data": {
      "text/plain": [
       "Gint(4, 5)"
      ]
     },
     "execution_count": 2,
     "metadata": {},
     "output_type": "execute_result"
    }
   ],
   "source": [
    "c1 = Gint(4, 5)\n",
    "c1"
   ]
  },
  {
   "cell_type": "code",
   "execution_count": 3,
   "id": "d27667e0-e674-46be-908d-14e13041cda3",
   "metadata": {},
   "outputs": [
    {
     "data": {
      "text/plain": [
       "Gint(1, -2)"
      ]
     },
     "execution_count": 3,
     "metadata": {},
     "output_type": "execute_result"
    }
   ],
   "source": [
    "c2 = Gint(1, -2)\n",
    "c2"
   ]
  },
  {
   "cell_type": "code",
   "execution_count": 4,
   "id": "477b5afb-6158-4799-869d-df2fc7ee9039",
   "metadata": {},
   "outputs": [
    {
     "data": {
      "text/plain": [
       "Gint(0, 0)"
      ]
     },
     "execution_count": 4,
     "metadata": {},
     "output_type": "execute_result"
    }
   ],
   "source": [
    "zero = Gint()\n",
    "zero"
   ]
  },
  {
   "cell_type": "code",
   "execution_count": 5,
   "id": "9a9aa156-5693-498b-8ce7-913ac4192405",
   "metadata": {},
   "outputs": [
    {
     "data": {
      "text/plain": [
       "Gint(1, 0)"
      ]
     },
     "execution_count": 5,
     "metadata": {},
     "output_type": "execute_result"
    }
   ],
   "source": [
    "one = Gint(1)\n",
    "one"
   ]
  },
  {
   "cell_type": "markdown",
   "id": "9c976d46",
   "metadata": {},
   "source": [
    "``Gint.eye()`` is a **class method** that produces the ``Gint`` version of $i$, the so-called \"square root of -1\": $\\sqrt{-1}$"
   ]
  },
  {
   "cell_type": "code",
   "execution_count": 6,
   "id": "cd426515-fdb5-4350-90ac-5b2c93f4b829",
   "metadata": {},
   "outputs": [
    {
     "data": {
      "text/plain": [
       "Gint(0, 1)"
      ]
     },
     "execution_count": 6,
     "metadata": {},
     "output_type": "execute_result"
    }
   ],
   "source": [
    "eye = Gint.eye()  # i (the so-called \"square root of -1\")\n",
    "eye"
   ]
  },
  {
   "cell_type": "markdown",
   "id": "1ac6b97b",
   "metadata": {},
   "source": [
    "Floating point numbers are rounded to the nearest integer.\n",
    "\n",
    "This behavior comes in handy in the implementation of the **Modified Division Theorem**, illustrated farther down in this document."
   ]
  },
  {
   "cell_type": "code",
   "execution_count": 7,
   "id": "fec9cce5",
   "metadata": {},
   "outputs": [
    {
     "data": {
      "text/plain": [
       "Gint(2, 5)"
      ]
     },
     "execution_count": 7,
     "metadata": {},
     "output_type": "execute_result"
    }
   ],
   "source": [
    "Gint(2.1, 5)"
   ]
  },
  {
   "cell_type": "code",
   "execution_count": 8,
   "id": "5cdeb5bc",
   "metadata": {},
   "outputs": [
    {
     "data": {
      "text/plain": [
       "Gint(-2, 7)"
      ]
     },
     "execution_count": 8,
     "metadata": {},
     "output_type": "execute_result"
    }
   ],
   "source": [
    "Gint(-2, 6.7)"
   ]
  },
  {
   "cell_type": "code",
   "execution_count": 9,
   "id": "2a8e96b5",
   "metadata": {},
   "outputs": [
    {
     "data": {
      "text/plain": [
       "Gint(2, 6)"
      ]
     },
     "execution_count": 9,
     "metadata": {},
     "output_type": "execute_result"
    }
   ],
   "source": [
    "Gint(2.5, 6.3)"
   ]
  },
  {
   "cell_type": "markdown",
   "id": "4319516d",
   "metadata": {},
   "source": [
    "The first argument can be a complex number. If so, the second argument is ignored.\n",
    "\n",
    "The real & imag parts of the complex number are rounded to nearest integers."
   ]
  },
  {
   "cell_type": "code",
   "execution_count": 10,
   "id": "13767f32",
   "metadata": {},
   "outputs": [
    {
     "data": {
      "text/plain": [
       "Gint(2, -4)"
      ]
     },
     "execution_count": 10,
     "metadata": {},
     "output_type": "execute_result"
    }
   ],
   "source": [
    "Gint((2.2 - 3.9j))"
   ]
  },
  {
   "cell_type": "markdown",
   "id": "935156e1-81e5-4b5b-a1b9-132cff13b15a",
   "metadata": {},
   "source": [
    "If first argument to ``Gint()`` is complex, then the second argument, if there is one, is ignored."
   ]
  },
  {
   "cell_type": "code",
   "execution_count": 11,
   "id": "8a9aba73",
   "metadata": {},
   "outputs": [
    {
     "data": {
      "text/plain": [
       "Gint(2, -4)"
      ]
     },
     "execution_count": 11,
     "metadata": {},
     "output_type": "execute_result"
    }
   ],
   "source": [
    "Gint((2.2 - 3.9j))"
   ]
  },
  {
   "cell_type": "code",
   "execution_count": 12,
   "id": "60ec2810",
   "metadata": {},
   "outputs": [
    {
     "data": {
      "text/plain": [
       "Gint(2, -3)"
      ]
     },
     "execution_count": 12,
     "metadata": {},
     "output_type": "execute_result"
    }
   ],
   "source": [
    "Gint((2-3j))"
   ]
  },
  {
   "cell_type": "code",
   "execution_count": 13,
   "id": "687707c8",
   "metadata": {},
   "outputs": [
    {
     "data": {
      "text/plain": [
       "Gint(0, 1)"
      ]
     },
     "execution_count": 13,
     "metadata": {},
     "output_type": "execute_result"
    }
   ],
   "source": [
    "Gint(1j)"
   ]
  },
  {
   "cell_type": "code",
   "execution_count": 14,
   "id": "6929c44b",
   "metadata": {},
   "outputs": [
    {
     "data": {
      "text/plain": [
       "Gint(1, 0)"
      ]
     },
     "execution_count": 14,
     "metadata": {},
     "output_type": "execute_result"
    }
   ],
   "source": [
    "Gint((1+0j))"
   ]
  },
  {
   "cell_type": "markdown",
   "id": "02ea550f-6950-487d-924d-9fa8fe2d9473",
   "metadata": {},
   "source": [
    "## Conversion to a Complex Number"
   ]
  },
  {
   "cell_type": "code",
   "execution_count": 15,
   "id": "8fd88746-f2c0-432e-ac5a-1807df5737c1",
   "metadata": {},
   "outputs": [
    {
     "data": {
      "text/plain": [
       "(4+5j)"
      ]
     },
     "execution_count": 15,
     "metadata": {},
     "output_type": "execute_result"
    }
   ],
   "source": [
    "complex(c1)"
   ]
  },
  {
   "cell_type": "markdown",
   "id": "c1d9d268-8036-43e1-b6c6-af3e8c2dab04",
   "metadata": {},
   "source": [
    "The string function, ``str``, will convert a Gint to the string version of its corresponding complex number.\n",
    "\n",
    "Also, see the section, \"Printing Gints\" below."
   ]
  },
  {
   "cell_type": "code",
   "execution_count": 16,
   "id": "3c40a322-489e-4970-82d1-81259eeb29ef",
   "metadata": {},
   "outputs": [
    {
     "data": {
      "text/plain": [
       "'(4+5j)'"
      ]
     },
     "execution_count": 16,
     "metadata": {},
     "output_type": "execute_result"
    }
   ],
   "source": [
    "str(c1)"
   ]
  },
  {
   "cell_type": "markdown",
   "id": "1976191e",
   "metadata": {},
   "source": [
    "## Gint Accessors"
   ]
  },
  {
   "cell_type": "code",
   "execution_count": 17,
   "id": "ab959875",
   "metadata": {},
   "outputs": [
    {
     "data": {
      "text/plain": [
       "4"
      ]
     },
     "execution_count": 17,
     "metadata": {},
     "output_type": "execute_result"
    }
   ],
   "source": [
    "c1.real"
   ]
  },
  {
   "cell_type": "code",
   "execution_count": 18,
   "id": "52254671",
   "metadata": {},
   "outputs": [
    {
     "data": {
      "text/plain": [
       "5"
      ]
     },
     "execution_count": 18,
     "metadata": {},
     "output_type": "execute_result"
    }
   ],
   "source": [
    "c1.imag"
   ]
  },
  {
   "cell_type": "markdown",
   "id": "2cff2fb1-82c4-4201-b1ab-db3977532178",
   "metadata": {},
   "source": [
    "The **norm** and **conjugate** are not accessors, but they are implemented as properties, so they behave like accessors."
   ]
  },
  {
   "cell_type": "code",
   "execution_count": 19,
   "id": "18086d5e-0dbc-401c-a2db-a3efe8479c2f",
   "metadata": {},
   "outputs": [
    {
     "data": {
      "text/plain": [
       "41"
      ]
     },
     "execution_count": 19,
     "metadata": {},
     "output_type": "execute_result"
    }
   ],
   "source": [
    "c1.norm"
   ]
  },
  {
   "cell_type": "code",
   "execution_count": 20,
   "id": "21980a48-c202-46e7-885e-8c904d3c5f8e",
   "metadata": {},
   "outputs": [
    {
     "data": {
      "text/plain": [
       "Gint(4, -5)"
      ]
     },
     "execution_count": 20,
     "metadata": {},
     "output_type": "execute_result"
    }
   ],
   "source": [
    "c1.conj"
   ]
  },
  {
   "cell_type": "markdown",
   "id": "e246e72d-7267-4248-8147-e9ee823b63da",
   "metadata": {},
   "source": [
    "## Printing Gints"
   ]
  },
  {
   "cell_type": "markdown",
   "id": "f57e835d-bc87-4fa1-9342-ab52742d0dd4",
   "metadata": {},
   "source": [
    "When Python prints an object it calls the built-in method, ``__str__``, for the object, if it exists, and uses its output to print the object.\n",
    "\n",
    "For ``Gint``, the string representation is the same as that of a complex number in Python.  So, in printed form, a ``Gint`` looks like an ordinary Python complex number (which uses $j$ rather than $i$)."
   ]
  },
  {
   "cell_type": "code",
   "execution_count": 21,
   "id": "9d7a4cbb-f4fd-45fd-9a7e-5b0787356e58",
   "metadata": {},
   "outputs": [
    {
     "name": "stdout",
     "output_type": "stream",
     "text": [
      "(2-3j)\n",
      "1j\n",
      "0j\n"
     ]
    }
   ],
   "source": [
    "print(Gint(2, -3))\n",
    "print(eye)\n",
    "print(zero)"
   ]
  },
  {
   "cell_type": "markdown",
   "id": "80751cc9-0c8f-49fb-b9f3-4ed65bb3e3fc",
   "metadata": {},
   "source": [
    "## Gint Arithmetic"
   ]
  },
  {
   "cell_type": "markdown",
   "id": "34d6d752-6ce1-4690-aec2-d27c0dace1c2",
   "metadata": {},
   "source": [
    "### Addition"
   ]
  },
  {
   "cell_type": "code",
   "execution_count": 22,
   "id": "09f3245e-7542-4a79-b305-76be47ea0807",
   "metadata": {},
   "outputs": [
    {
     "name": "stdout",
     "output_type": "stream",
     "text": [
      "(4+5j) + (1-2j) = (5+3j)\n",
      "(4+5j) + 2 = (6+5j)\n",
      "2 + (4+5j) = (6+5j)\n"
     ]
    }
   ],
   "source": [
    "print(f\"{c1} + {c2} = {c1 + c2}\")\n",
    "print(f\"{c1} + 2 = {c1 + 2}\")\n",
    "print(f\"2 + {c1} = {2 + c1}\")"
   ]
  },
  {
   "cell_type": "markdown",
   "id": "42a6b791",
   "metadata": {},
   "source": [
    "In-place assignment for addition:"
   ]
  },
  {
   "cell_type": "code",
   "execution_count": 23,
   "id": "981ed5b1",
   "metadata": {},
   "outputs": [
    {
     "name": "stdout",
     "output_type": "stream",
     "text": [
      "10 (10+10j)\n"
     ]
    }
   ],
   "source": [
    "sum = Gint()\n",
    "check = 0\n",
    "\n",
    "for k in range(5):\n",
    "    check += k\n",
    "    sum += Gint(k, k)\n",
    "\n",
    "print(check, sum)"
   ]
  },
  {
   "cell_type": "markdown",
   "id": "bb9dfafb-1cd8-446b-8a56-7d73cc23169c",
   "metadata": {},
   "source": [
    "### Subtraction"
   ]
  },
  {
   "cell_type": "code",
   "execution_count": 24,
   "id": "6e9296f5-979b-4ae6-b9ec-840cd1813105",
   "metadata": {},
   "outputs": [
    {
     "name": "stdout",
     "output_type": "stream",
     "text": [
      "(4+5j) - (1-2j) = (3+7j)\n",
      "(4+5j) - 2 = (2+5j)\n",
      "2 - (4+5j) = (-2-5j)\n"
     ]
    }
   ],
   "source": [
    "print(f\"{c1} - {c2} = {c1 - c2}\")\n",
    "print(f\"{c1} - 2 = {c1 - 2}\")\n",
    "print(f\"2 - {c1} = {2 - c1}\")"
   ]
  },
  {
   "cell_type": "markdown",
   "id": "f4916d26",
   "metadata": {},
   "source": [
    "In-place assignment for subtraction:"
   ]
  },
  {
   "cell_type": "code",
   "execution_count": 25,
   "id": "2f5e255a",
   "metadata": {},
   "outputs": [
    {
     "name": "stdout",
     "output_type": "stream",
     "text": [
      "0 0j\n"
     ]
    }
   ],
   "source": [
    "diff = Gint(10, 10)\n",
    "check = 10\n",
    "\n",
    "for k in range(5):\n",
    "    check -= k\n",
    "    diff -= Gint(k, k)\n",
    "\n",
    "print(check, diff)"
   ]
  },
  {
   "cell_type": "markdown",
   "id": "1dee2598-1bde-46b1-86aa-018145898d17",
   "metadata": {},
   "source": [
    "### Multiplication"
   ]
  },
  {
   "cell_type": "code",
   "execution_count": 26,
   "id": "58610822-f13c-4100-99aa-988289c47439",
   "metadata": {},
   "outputs": [
    {
     "name": "stdout",
     "output_type": "stream",
     "text": [
      "(4+5j) x (1-2j) = (14-3j)\n",
      "(4+5j) x 2 = (8+10j)\n",
      "2 x (4+5j) = (8+10j)\n"
     ]
    }
   ],
   "source": [
    "print(f\"{c1} x {c2} = {c1 * c2}\")\n",
    "print(f\"{c1} x 2 = {c1 * 2}\")\n",
    "print(f\"2 x {c1} = {2 * c1}\")"
   ]
  },
  {
   "cell_type": "markdown",
   "id": "f82c0f43",
   "metadata": {},
   "source": [
    "In-place assignment for multiplication:"
   ]
  },
  {
   "cell_type": "code",
   "execution_count": 27,
   "id": "614748b8",
   "metadata": {},
   "outputs": [
    {
     "name": "stdout",
     "output_type": "stream",
     "text": [
      "24 (24+0j)\n"
     ]
    }
   ],
   "source": [
    "prod = Gint(1, 0)\n",
    "check = 1\n",
    "\n",
    "for k in range(1, 5):\n",
    "    check *= k\n",
    "    prod *= Gint(k, 0)\n",
    "\n",
    "print(check, prod)"
   ]
  },
  {
   "cell_type": "markdown",
   "id": "3aead9eb",
   "metadata": {},
   "source": [
    "### Division"
   ]
  },
  {
   "cell_type": "markdown",
   "id": "958da258",
   "metadata": {},
   "source": [
    "There are four ways to perform \"division\", illustrated below."
   ]
  },
  {
   "cell_type": "markdown",
   "id": "95649f02",
   "metadata": {},
   "source": [
    "**1. truediv, using the operator, ``/``**"
   ]
  },
  {
   "cell_type": "code",
   "execution_count": 28,
   "id": "348b15c5-0a61-495f-84e2-40ad264e9fa1",
   "metadata": {},
   "outputs": [
    {
     "name": "stdout",
     "output_type": "stream",
     "text": [
      "Help on function __truediv__ in module gaussian_integers:\n",
      "\n",
      "__truediv__(self, other)\n",
      "    Divide self by other, exactly, and return the resulting complex number.\n",
      "    \n",
      "    Implements the / operator, and returns the exact, complex result\n",
      "    of dividing this Gint by another Gint, int, float, or complex number.\n",
      "\n"
     ]
    }
   ],
   "source": [
    "help(Gint.__truediv__)"
   ]
  },
  {
   "cell_type": "code",
   "execution_count": 29,
   "id": "409928c6",
   "metadata": {},
   "outputs": [
    {
     "name": "stdout",
     "output_type": "stream",
     "text": [
      "Gint(4, 5) / Gint(1, -2) -> (-1.2+2.6j)\n",
      "Gint(4, 5) / (1-2j) -> (-1.2+2.6j)\n",
      "Gint(4, 5) / 5.0 -> (0.8+1j)\n",
      "Gint(4, 5) / 5 -> (0.8+1j)\n"
     ]
    }
   ],
   "source": [
    "print(f\"Gint(4, 5) / Gint(1, -2) -> {Gint(4, 5) / Gint(1, -2)}\")\n",
    "print(f\"Gint(4, 5) / (1-2j) -> {Gint(4, 5) / (1-2j)}\")\n",
    "print(f\"Gint(4, 5) / 5.0 -> {Gint(4, 5) / 5.0}\")\n",
    "print(f\"Gint(4, 5) / 5 -> {Gint(4, 5) / 5}\")"
   ]
  },
  {
   "cell_type": "code",
   "execution_count": 30,
   "id": "28583c3d",
   "metadata": {},
   "outputs": [
    {
     "name": "stdout",
     "output_type": "stream",
     "text": [
      "(1-2j) / Gint(4, 5) -> (-0.14634146341463417-0.3170731707317074j)\n",
      "5.0 / Gint(4, 5) -> (0.48780487804878053-0.6097560975609757j)\n",
      "5 / Gint(4, 5) -> (0.48780487804878053-0.6097560975609757j)\n"
     ]
    }
   ],
   "source": [
    "print(f\"(1-2j) / Gint(4, 5) -> {(1-2j) / Gint(4, 5)}\")\n",
    "print(f\"5.0 / Gint(4, 5) -> {5.0 / Gint(4, 5)}\")\n",
    "print(f\"5 / Gint(4, 5) -> {5 / Gint(4, 5)}\")"
   ]
  },
  {
   "cell_type": "markdown",
   "id": "a9dbc200",
   "metadata": {},
   "source": [
    "**2. floordiv, using the operator, ``//``**"
   ]
  },
  {
   "cell_type": "code",
   "execution_count": 31,
   "id": "19957a75",
   "metadata": {},
   "outputs": [
    {
     "name": "stdout",
     "output_type": "stream",
     "text": [
      "Help on function __floordiv__ in module gaussian_integers:\n",
      "\n",
      "__floordiv__(self, other)\n",
      "    Implements the // operator using 'round', instead of 'floor'.\n",
      "    \n",
      "    Returns the closest integer approximation to the quotient, self / other,\n",
      "    as a Gint, by rounding the real and imag parts after division, not flooring.\n",
      "    'other' can be an int, float, complex, or Gint.\n",
      "\n"
     ]
    }
   ],
   "source": [
    "help(Gint.__floordiv__)  # WARNING: Uses round, instead of floor"
   ]
  },
  {
   "cell_type": "code",
   "execution_count": 32,
   "id": "449c0dfe",
   "metadata": {},
   "outputs": [
    {
     "name": "stdout",
     "output_type": "stream",
     "text": [
      "Gint(4, 5) // Gint(1, -2) -> (-1+3j)\n",
      "Gint(4, 5) // (1-2j) -> (-1+3j)\n",
      "Gint(4, 5) // 5.0 -> (1+1j)\n",
      "Gint(4, 5) // 5 -> (1+1j)\n"
     ]
    }
   ],
   "source": [
    "print(f\"Gint(4, 5) // Gint(1, -2) -> {Gint(4, 5) // Gint(1, -2)}\")\n",
    "print(f\"Gint(4, 5) // (1-2j) -> {Gint(4, 5) // (1-2j)}\")\n",
    "print(f\"Gint(4, 5) // 5.0 -> {Gint(4, 5) // 5.0}\")\n",
    "print(f\"Gint(4, 5) // 5 -> {Gint(4, 5) // 5}\")"
   ]
  },
  {
   "cell_type": "code",
   "execution_count": 33,
   "id": "79b393e4",
   "metadata": {},
   "outputs": [
    {
     "name": "stdout",
     "output_type": "stream",
     "text": [
      "(8-12j) // Gint(4, 5) -> (-1-2j)\n",
      "20.0 // Gint(4, 5) -> (2-2j)\n",
      "20 // Gint(4, 5) -> (2-2j)\n"
     ]
    }
   ],
   "source": [
    "print(f\"(8-12j) // Gint(4, 5) -> {(8-12j) // Gint(4, 5)}\")\n",
    "print(f\"20.0 // Gint(4, 5) -> {20.0 // Gint(4, 5)}\")\n",
    "print(f\"20 // Gint(4, 5) -> {20 // Gint(4, 5)}\")"
   ]
  },
  {
   "cell_type": "markdown",
   "id": "b250d5d0",
   "metadata": {},
   "source": [
    "**3. The Gint method, divmod**"
   ]
  },
  {
   "cell_type": "code",
   "execution_count": 34,
   "id": "1942d7f4",
   "metadata": {},
   "outputs": [
    {
     "name": "stdout",
     "output_type": "stream",
     "text": [
      "Help on function divmod in module gaussian_integers:\n",
      "\n",
      "divmod(self, other)\n",
      "    A modified division theorem.\n",
      "    \n",
      "    Let a = self & b = other, then this method computes q & r,\n",
      "    such that a = b * q + r, where (1/2) * r.norm < b.norm.\n",
      "    It returns q & r (i.e., the quotient and remainder).\n",
      "    This is the Modified Division Theorem described in\n",
      "    'The Gaussian Integers' by Keith Conrad\n",
      "\n"
     ]
    }
   ],
   "source": [
    "help(Gint.divmod)"
   ]
  },
  {
   "cell_type": "code",
   "execution_count": 35,
   "id": "cbc0360a",
   "metadata": {},
   "outputs": [
    {
     "name": "stdout",
     "output_type": "stream",
     "text": [
      "(4+5j) = (1-2j) * (-1+3j) + (-1+0j)\n"
     ]
    }
   ],
   "source": [
    "a = Gint(4, 5)\n",
    "b = Gint(1, -2)\n",
    "\n",
    "q, r = a.divmod(b)\n",
    "\n",
    "print(f\"{b * q + r} = {b} * {q} + {r}\")"
   ]
  },
  {
   "cell_type": "code",
   "execution_count": 36,
   "id": "c4d32ae3",
   "metadata": {},
   "outputs": [
    {
     "name": "stdout",
     "output_type": "stream",
     "text": [
      "r.norm = 1\n",
      "b.norm = 5\n"
     ]
    },
    {
     "data": {
      "text/plain": [
       "True"
      ]
     },
     "execution_count": 36,
     "metadata": {},
     "output_type": "execute_result"
    }
   ],
   "source": [
    "print(f\"r.norm = {r.norm}\")\n",
    "print(f\"b.norm = {b.norm}\")\n",
    "\n",
    "(1/2) * r.norm < b.norm"
   ]
  },
  {
   "cell_type": "markdown",
   "id": "6f691bdc",
   "metadata": {},
   "source": [
    "**4. mod, using the operator, ``%``**"
   ]
  },
  {
   "cell_type": "code",
   "execution_count": 37,
   "id": "250f544c",
   "metadata": {},
   "outputs": [
    {
     "name": "stdout",
     "output_type": "stream",
     "text": [
      "Help on function __mod__ in module gaussian_integers:\n",
      "\n",
      "__mod__(self, other)\n",
      "    Implements the % operator.\n",
      "    \n",
      "    Returns the remainder of the result from self.divmod(other)\n",
      "\n"
     ]
    }
   ],
   "source": [
    "help(Gint.__mod__)"
   ]
  },
  {
   "cell_type": "code",
   "execution_count": 38,
   "id": "70cb7164",
   "metadata": {},
   "outputs": [
    {
     "name": "stdout",
     "output_type": "stream",
     "text": [
      "(4+5j) % (1-2j) = (-1+0j)\n"
     ]
    }
   ],
   "source": [
    "print(f\"{a} % {b} = {a % b}\")"
   ]
  },
  {
   "cell_type": "markdown",
   "id": "112b1ff3",
   "metadata": {},
   "source": [
    "### More divmod Examples"
   ]
  },
  {
   "cell_type": "markdown",
   "id": "e9587967",
   "metadata": {},
   "source": [
    "The following four examples are from [Conrad]"
   ]
  },
  {
   "cell_type": "markdown",
   "id": "069c98d4",
   "metadata": {},
   "source": [
    "**Example 3.2 in [Conrad]**"
   ]
  },
  {
   "cell_type": "code",
   "execution_count": 39,
   "id": "e8f907b8",
   "metadata": {},
   "outputs": [
    {
     "name": "stdout",
     "output_type": "stream",
     "text": [
      "(27-23j) = (8+1j) x (3-3j) + -2j\n"
     ]
    }
   ],
   "source": [
    "alpha = Gint((27-23j))\n",
    "beta = Gint((8+1j))\n",
    "\n",
    "quot, rem = alpha.divmod(beta)\n",
    "\n",
    "if beta * quot + rem == alpha:\n",
    "    print(f\"{beta * quot + rem} = {beta} x {quot} + {rem}\")\n",
    "else:\n",
    "    print(\"Fail\")"
   ]
  },
  {
   "cell_type": "markdown",
   "id": "f1c21ddc",
   "metadata": {},
   "source": [
    "**Example 3.3 in [Conrad]**"
   ]
  },
  {
   "cell_type": "code",
   "execution_count": 40,
   "id": "944487d9",
   "metadata": {},
   "outputs": [
    {
     "name": "stdout",
     "output_type": "stream",
     "text": [
      "(11+10j) = (4+1j) x (3+2j) + (1-1j)\n"
     ]
    }
   ],
   "source": [
    "alpha = Gint((11+10j))\n",
    "beta = Gint((4+1j))\n",
    "\n",
    "quot, rem = alpha.divmod(beta)\n",
    "\n",
    "if beta * quot + rem == alpha:\n",
    "    print(f\"{beta * quot + rem} = {beta} x {quot} + {rem}\")\n",
    "else:\n",
    "    print(\"Fail\")"
   ]
  },
  {
   "cell_type": "markdown",
   "id": "bab66e35",
   "metadata": {},
   "source": [
    "**Example 3.4 in [Conrad]**"
   ]
  },
  {
   "cell_type": "code",
   "execution_count": 41,
   "id": "57d1137d",
   "metadata": {},
   "outputs": [
    {
     "name": "stdout",
     "output_type": "stream",
     "text": [
      "(41+24j) = (11-2j) x (3+3j) + (2-3j)\n"
     ]
    }
   ],
   "source": [
    "alpha = Gint((41+24j))\n",
    "beta = Gint((11-2j))\n",
    "\n",
    "quot, rem = alpha.divmod(beta)\n",
    "\n",
    "if beta * quot + rem == alpha:\n",
    "    print(f\"{beta * quot + rem} = {beta} x {quot} + {rem}\")\n",
    "else:\n",
    "    print(\"Fail\")"
   ]
  },
  {
   "cell_type": "markdown",
   "id": "a554c4f9",
   "metadata": {},
   "source": [
    "**Example 3.5 in [Conrad]**"
   ]
  },
  {
   "cell_type": "code",
   "execution_count": 42,
   "id": "9358029a",
   "metadata": {},
   "outputs": [
    {
     "name": "stdout",
     "output_type": "stream",
     "text": [
      "(37+2j) = (11+2j) x (3+0j) + (4-4j)\n"
     ]
    }
   ],
   "source": [
    "alpha = Gint((37+2j))\n",
    "beta = Gint((11+2j))\n",
    "\n",
    "quot, rem = alpha.divmod(beta)\n",
    "\n",
    "if beta * quot + rem == alpha:\n",
    "    print(f\"{beta * quot + rem} = {beta} x {quot} + {rem}\")\n",
    "else:\n",
    "    print(\"Fail\")"
   ]
  },
  {
   "cell_type": "markdown",
   "id": "042f5f89",
   "metadata": {},
   "source": [
    "### Powers"
   ]
  },
  {
   "cell_type": "code",
   "execution_count": 43,
   "id": "e1ffe6a0",
   "metadata": {},
   "outputs": [
    {
     "data": {
      "text/plain": [
       "Gint(-236, 115)"
      ]
     },
     "execution_count": 43,
     "metadata": {},
     "output_type": "execute_result"
    }
   ],
   "source": [
    "c1 * c1 * c1"
   ]
  },
  {
   "cell_type": "code",
   "execution_count": 44,
   "id": "5101464d",
   "metadata": {},
   "outputs": [
    {
     "data": {
      "text/plain": [
       "Gint(-236, 115)"
      ]
     },
     "execution_count": 44,
     "metadata": {},
     "output_type": "execute_result"
    }
   ],
   "source": [
    "c1**3"
   ]
  },
  {
   "cell_type": "markdown",
   "id": "3be5983d",
   "metadata": {},
   "source": [
    "Raising any ``Gint`` to the power 0 will result in the ``Gint`` equivalent of 1, i.e., Gint(1, 0)."
   ]
  },
  {
   "cell_type": "code",
   "execution_count": 45,
   "id": "9d77375c",
   "metadata": {},
   "outputs": [
    {
     "data": {
      "text/plain": [
       "Gint(0, 0)"
      ]
     },
     "execution_count": 45,
     "metadata": {},
     "output_type": "execute_result"
    }
   ],
   "source": [
    "c1**0"
   ]
  },
  {
   "cell_type": "markdown",
   "id": "3a2cb338",
   "metadata": {},
   "source": [
    "The power must a a non-negative integer."
   ]
  },
  {
   "cell_type": "code",
   "execution_count": 46,
   "id": "e78f7889",
   "metadata": {},
   "outputs": [
    {
     "name": "stdout",
     "output_type": "stream",
     "text": [
      "The power, -2, is not a positive integer.\n"
     ]
    }
   ],
   "source": [
    "try:\n",
    "    c1**-2\n",
    "except Exception as exc:\n",
    "    print(exc)"
   ]
  },
  {
   "cell_type": "markdown",
   "id": "1662e8bf-b86e-41f3-8c65-adfdeae38889",
   "metadata": {},
   "source": [
    "### Negation"
   ]
  },
  {
   "cell_type": "code",
   "execution_count": 47,
   "id": "9675dcc0",
   "metadata": {},
   "outputs": [
    {
     "data": {
      "text/plain": [
       "Gint(1, -2)"
      ]
     },
     "execution_count": 47,
     "metadata": {},
     "output_type": "execute_result"
    }
   ],
   "source": [
    "c2"
   ]
  },
  {
   "cell_type": "code",
   "execution_count": 48,
   "id": "7384ef74",
   "metadata": {},
   "outputs": [
    {
     "data": {
      "text/plain": [
       "Gint(-1, 2)"
      ]
     },
     "execution_count": 48,
     "metadata": {},
     "output_type": "execute_result"
    }
   ],
   "source": [
    "-c2"
   ]
  },
  {
   "cell_type": "markdown",
   "id": "907d5579-368b-4f4a-beee-65e650fd341d",
   "metadata": {},
   "source": [
    "### Equality or Inequality Tests"
   ]
  },
  {
   "cell_type": "code",
   "execution_count": 49,
   "id": "fff33780",
   "metadata": {},
   "outputs": [
    {
     "data": {
      "text/plain": [
       "Gint(4, 5)"
      ]
     },
     "execution_count": 49,
     "metadata": {},
     "output_type": "execute_result"
    }
   ],
   "source": [
    "c1"
   ]
  },
  {
   "cell_type": "code",
   "execution_count": 50,
   "id": "b27cd75b",
   "metadata": {},
   "outputs": [],
   "source": [
    "c1_dup = Gint(4, 5)"
   ]
  },
  {
   "cell_type": "code",
   "execution_count": 51,
   "id": "1158d727",
   "metadata": {},
   "outputs": [
    {
     "data": {
      "text/plain": [
       "True"
      ]
     },
     "execution_count": 51,
     "metadata": {},
     "output_type": "execute_result"
    }
   ],
   "source": [
    "c1 == Gint(4, 5)"
   ]
  },
  {
   "cell_type": "code",
   "execution_count": 52,
   "id": "08d55e55",
   "metadata": {},
   "outputs": [
    {
     "data": {
      "text/plain": [
       "False"
      ]
     },
     "execution_count": 52,
     "metadata": {},
     "output_type": "execute_result"
    }
   ],
   "source": [
    "c1 == c2"
   ]
  },
  {
   "cell_type": "code",
   "execution_count": 53,
   "id": "e2173d4f",
   "metadata": {},
   "outputs": [
    {
     "data": {
      "text/plain": [
       "True"
      ]
     },
     "execution_count": 53,
     "metadata": {},
     "output_type": "execute_result"
    }
   ],
   "source": [
    "c1 != c2"
   ]
  },
  {
   "cell_type": "markdown",
   "id": "b6013aac",
   "metadata": {},
   "source": [
    "## Associates"
   ]
  },
  {
   "cell_type": "code",
   "execution_count": 54,
   "id": "97f85a3f",
   "metadata": {},
   "outputs": [
    {
     "name": "stdout",
     "output_type": "stream",
     "text": [
      "(4+5j)\n",
      "(-4-5j)\n",
      "(-5+4j)\n",
      "(5-4j)\n"
     ]
    }
   ],
   "source": [
    "print(c1)\n",
    "_ = [print(a) for a in c1.associates()]"
   ]
  },
  {
   "cell_type": "code",
   "execution_count": 55,
   "id": "2a85f447",
   "metadata": {},
   "outputs": [
    {
     "data": {
      "text/plain": [
       "True"
      ]
     },
     "execution_count": 55,
     "metadata": {},
     "output_type": "execute_result"
    }
   ],
   "source": [
    "c1.is_associate(Gint(-4, -5))"
   ]
  },
  {
   "cell_type": "code",
   "execution_count": 56,
   "id": "7174fcce",
   "metadata": {},
   "outputs": [
    {
     "data": {
      "text/plain": [
       "False"
      ]
     },
     "execution_count": 56,
     "metadata": {},
     "output_type": "execute_result"
    }
   ],
   "source": [
    "c1.is_associate(c2)"
   ]
  },
  {
   "cell_type": "markdown",
   "id": "609a1f80-3c8f-4dd1-b1ee-d1235e3d11ac",
   "metadata": {},
   "source": [
    "## Units"
   ]
  },
  {
   "cell_type": "markdown",
   "id": "86335149",
   "metadata": {},
   "source": [
    "**units** is a **class method** that returns the four Gaussian integer units."
   ]
  },
  {
   "cell_type": "code",
   "execution_count": 57,
   "id": "a37a2a1d-5be3-4ad4-9d2b-773f17ecbf64",
   "metadata": {},
   "outputs": [
    {
     "data": {
      "text/plain": [
       "[Gint(1, 0), Gint(-1, 0), Gint(0, 1), Gint(0, -1)]"
      ]
     },
     "execution_count": 57,
     "metadata": {},
     "output_type": "execute_result"
    }
   ],
   "source": [
    "Gint.units()"
   ]
  },
  {
   "cell_type": "markdown",
   "id": "ce1901e0",
   "metadata": {},
   "source": [
    "## Greatest Common Divisor"
   ]
  },
  {
   "cell_type": "code",
   "execution_count": 58,
   "id": "681e4ddf",
   "metadata": {},
   "outputs": [
    {
     "name": "stdout",
     "output_type": "stream",
     "text": [
      "Help on function gcd in module gaussian_integers:\n",
      "\n",
      "gcd(self, other, verbose=False)\n",
      "    Return the greatest common divisor of self and other.\n",
      "    \n",
      "    This function implements the Euclidean algorithm for Gaussian integers.\n",
      "\n"
     ]
    }
   ],
   "source": [
    "help(Gint.gcd)"
   ]
  },
  {
   "cell_type": "markdown",
   "id": "5611403d",
   "metadata": {},
   "source": [
    "Examples 4.4-4.6 in [Conrad]"
   ]
  },
  {
   "cell_type": "code",
   "execution_count": 59,
   "id": "2242c073",
   "metadata": {},
   "outputs": [
    {
     "name": "stdout",
     "output_type": "stream",
     "text": [
      "   (32+9j) = (4+11j) * (2-2j) + (2-5j)\n",
      "   (4+11j) = (2-5j) * (-2+1j) + (3-1j)\n",
      "   (2-5j) = (3-1j) * (1-1j) + -1j\n",
      "   (3-1j) = -1j * (1+3j) + 0j\n",
      "EX 4.4: gcd((32+9j), (4+11j)) -> -1j\n",
      "\n",
      "   (4+5j) = (4-5j) * 1j + (-1+1j)\n",
      "   (4-5j) = (-1+1j) * (-4+0j) + -1j\n",
      "   (-1+1j) = -1j * (-1-1j) + 0j\n",
      "EX 4.5: gcd((4+5j), (4-5j)) -> -1j\n",
      "\n",
      "   (11+3j) = (1+8j) * (1-1j) + (2-4j)\n",
      "   (1+8j) = (2-4j) * (-2+1j) + (1-2j)\n",
      "   (2-4j) = (1-2j) * (2+0j) + 0j\n",
      "EX 4.6: gcd((11+3j), (1+8j)) -> (1-2j)\n",
      "\n"
     ]
    }
   ],
   "source": [
    "verbosity = True\n",
    "\n",
    "alpha = Gint(32, 9)\n",
    "beta = Gint(4, 11)\n",
    "print(f\"EX 4.4: gcd({alpha}, {beta}) -> {alpha.gcd(beta, verbose=verbosity)}\\n\")\n",
    "\n",
    "alpha = Gint(4, 5)\n",
    "beta = Gint(4, -5)\n",
    "print(f\"EX 4.5: gcd({alpha}, {beta}) -> {alpha.gcd(beta, verbose=verbosity)}\\n\")\n",
    "\n",
    "alpha = Gint(11, 3)\n",
    "beta = Gint(1, 8)\n",
    "print(f\"EX 4.6: gcd({alpha}, {beta}) -> {alpha.gcd(beta, verbose=verbosity)}\\n\")"
   ]
  },
  {
   "cell_type": "markdown",
   "id": "10d38aed",
   "metadata": {},
   "source": [
    "## Extended Euclidean Algorithm"
   ]
  },
  {
   "cell_type": "code",
   "execution_count": 66,
   "id": "edd070f9",
   "metadata": {},
   "outputs": [
    {
     "name": "stdout",
     "output_type": "stream",
     "text": [
      "Help on function xgcd in module gaussian_integers:\n",
      "\n",
      "xgcd(alpha, beta)\n",
      "    The Extended Euclidean Algorithm for Gaussian Integers.\n",
      "    \n",
      "    Three values are returned: a, x, & y, such that\n",
      "    the Greatest Common Divisor (gcd) of a & b can be\n",
      "    written as gcd = a * x + b * y. x & y are called\n",
      "    Bézout's coefficients.\n",
      "\n"
     ]
    }
   ],
   "source": [
    "help(xgcd)"
   ]
  },
  {
   "cell_type": "code",
   "execution_count": 60,
   "id": "0d06a983",
   "metadata": {},
   "outputs": [],
   "source": [
    "alpha = Gint(11, 3)\n",
    "beta = Gint(1, 8)"
   ]
  },
  {
   "cell_type": "code",
   "execution_count": 61,
   "id": "cb4fc8bc",
   "metadata": {},
   "outputs": [],
   "source": [
    "a, x, y = xgcd(alpha, beta)"
   ]
  },
  {
   "cell_type": "code",
   "execution_count": 62,
   "id": "235218af",
   "metadata": {},
   "outputs": [
    {
     "name": "stdout",
     "output_type": "stream",
     "text": [
      "a = (1-2j)\n",
      "x = (2-1j)\n",
      "y = 3j\n"
     ]
    }
   ],
   "source": [
    "print(f\"a = {a}\\nx = {x}\\ny = {y}\")"
   ]
  },
  {
   "cell_type": "code",
   "execution_count": 63,
   "id": "2b935c04",
   "metadata": {},
   "outputs": [
    {
     "data": {
      "text/plain": [
       "True"
      ]
     },
     "execution_count": 63,
     "metadata": {},
     "output_type": "execute_result"
    }
   ],
   "source": [
    "a == alpha * x + beta * y"
   ]
  },
  {
   "cell_type": "code",
   "execution_count": 64,
   "id": "6c9c7f3e",
   "metadata": {},
   "outputs": [
    {
     "name": "stdout",
     "output_type": "stream",
     "text": [
      "(1-2j) = (11+3j) * (2-1j) + (1+8j) * 3j\n"
     ]
    }
   ],
   "source": [
    "print(f\"{alpha * x + beta * y} = {alpha} * {x} + {beta} * {y}\")"
   ]
  },
  {
   "cell_type": "code",
   "execution_count": 65,
   "id": "e7551c97",
   "metadata": {},
   "outputs": [
    {
     "name": "stdout",
     "output_type": "stream",
     "text": [
      "(11+3j).gcd((1+8j)) -> (1-2j)\n"
     ]
    }
   ],
   "source": [
    "print(f\"{alpha}.gcd({beta}) -> {alpha.gcd(beta)}\")"
   ]
  },
  {
   "cell_type": "code",
   "execution_count": null,
   "id": "c2686d64",
   "metadata": {},
   "outputs": [],
   "source": []
  }
 ],
 "metadata": {
  "kernelspec": {
   "display_name": "Python 3 (ipykernel)",
   "language": "python",
   "name": "python3"
  },
  "language_info": {
   "codemirror_mode": {
    "name": "ipython",
    "version": 3
   },
   "file_extension": ".py",
   "mimetype": "text/x-python",
   "name": "python",
   "nbconvert_exporter": "python",
   "pygments_lexer": "ipython3",
   "version": "3.11.5"
  }
 },
 "nbformat": 4,
 "nbformat_minor": 5
}
