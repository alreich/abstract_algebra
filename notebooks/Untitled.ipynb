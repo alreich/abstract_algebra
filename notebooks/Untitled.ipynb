{
 "cells": [
  {
   "cell_type": "markdown",
   "id": "772868a2",
   "metadata": {},
   "source": [
    "# Polynomials in SymPy & NumPy"
   ]
  },
  {
   "cell_type": "markdown",
   "id": "681a1107",
   "metadata": {},
   "source": [
    "## SymPy"
   ]
  },
  {
   "cell_type": "markdown",
   "id": "6e81f36f",
   "metadata": {},
   "source": [
    "### Refererences"
   ]
  },
  {
   "cell_type": "markdown",
   "id": "d7b8958b",
   "metadata": {},
   "source": [
    "[SymPy documentation](https://docs.sympy.org/latest/index.html)\n",
    "\n",
    "* [Polynomial Manipulation](https://docs.sympy.org/latest/modules/polys/index.html)"
   ]
  },
  {
   "cell_type": "code",
   "execution_count": 19,
   "id": "e1562857",
   "metadata": {},
   "outputs": [],
   "source": [
    "from sympy import *"
   ]
  },
  {
   "cell_type": "markdown",
   "id": "99e7e6c6",
   "metadata": {},
   "source": [
    "Initialize the pretty-printer depending on the environment."
   ]
  },
  {
   "cell_type": "code",
   "execution_count": 20,
   "id": "e117591e",
   "metadata": {},
   "outputs": [],
   "source": [
    "init_printing(use_unicode=False, wrap_line=False)"
   ]
  },
  {
   "cell_type": "markdown",
   "id": "a582222a",
   "metadata": {},
   "source": [
    "Create some *symbols* (sympy.core.symbol.Symbol)."
   ]
  },
  {
   "cell_type": "code",
   "execution_count": 21,
   "id": "b1c4e820",
   "metadata": {},
   "outputs": [],
   "source": [
    "x, y, z = symbols('x,y,z')"
   ]
  },
  {
   "cell_type": "markdown",
   "id": "ef89af8c",
   "metadata": {},
   "source": [
    "### SymPy Polynomials"
   ]
  },
  {
   "cell_type": "code",
   "execution_count": 24,
   "id": "22874321",
   "metadata": {},
   "outputs": [
    {
     "data": {
      "image/png": "[encoded data removed]",
      "text/latex": [
       "$\\displaystyle \\left(x + y\\right) \\left(y - 2 z\\right)$"
      ],
      "text/plain": [
       "(x + y)*(y - 2*z)"
      ]
     },
     "execution_count": 24,
     "metadata": {},
     "output_type": "execute_result"
    }
   ],
   "source": [
    "e1 = (x + y)*(y - 2*z)\n",
    "e1"
   ]
  },
  {
   "cell_type": "code",
   "execution_count": 25,
   "id": "6e875f7c",
   "metadata": {},
   "outputs": [
    {
     "data": {
      "image/png": "[encoded data removed]",
      "text/latex": [
       "$\\displaystyle \\operatorname{Poly}{\\left( xy - 2 xz + y^{2} - 2 yz, x, y, z, domain=\\mathbb{Z} \\right)}$"
      ],
      "text/plain": [
       "Poly(x*y - 2*x*z + y**2 - 2*y*z, x, y, z, domain='ZZ')"
      ]
     },
     "execution_count": 25,
     "metadata": {},
     "output_type": "execute_result"
    }
   ],
   "source": [
    "e1.as_poly()"
   ]
  },
  {
   "cell_type": "code",
   "execution_count": 26,
   "id": "412d2289",
   "metadata": {},
   "outputs": [
    {
     "data": {
      "image/png": "[encoded data removed]",
      "text/latex": [
       "$\\displaystyle \\left(\\frac{3 x}{2} + y\\right) \\left(z - 1\\right)$"
      ],
      "text/plain": [
       "/3*x    \\        \n",
       "|--- + y|*(z - 1)\n",
       "\\ 2     /        "
      ]
     },
     "execution_count": 26,
     "metadata": {},
     "output_type": "execute_result"
    }
   ],
   "source": [
    "e2 = (3*x/2 + y)*(z - 1)\n",
    "e2"
   ]
  },
  {
   "cell_type": "code",
   "execution_count": 27,
   "id": "92b91d87",
   "metadata": {},
   "outputs": [
    {
     "data": {
      "image/png": "[encoded data removed]",
      "text/latex": [
       "$\\displaystyle \\operatorname{Poly}{\\left( \\frac{3}{2} xz -  \\frac{3}{2} x + yz - y, x, y, z, domain=\\mathbb{Q} \\right)}$"
      ],
      "text/plain": [
       "Poly(3/2*x*z - 3/2*x + y*z - y, x, y, z, domain='QQ')"
      ]
     },
     "execution_count": 27,
     "metadata": {},
     "output_type": "execute_result"
    }
   ],
   "source": [
    "e2.as_poly()"
   ]
  },
  {
   "cell_type": "code",
   "execution_count": 28,
   "id": "ed508bcc",
   "metadata": {},
   "outputs": [
    {
     "data": {
      "image/png": "[encoded data removed]",
      "text/latex": [
       "$\\displaystyle y \\left(x + 2 \\pi\\right)$"
      ],
      "text/plain": [
       "y*(x + 2*pi)"
      ]
     },
     "execution_count": 28,
     "metadata": {},
     "output_type": "execute_result"
    }
   ],
   "source": [
    "e3 = (x + 2*pi)*y\n",
    "e3"
   ]
  },
  {
   "cell_type": "code",
   "execution_count": 29,
   "id": "c5799709",
   "metadata": {},
   "outputs": [
    {
     "data": {
      "image/png": "[encoded data removed]",
      "text/latex": [
       "$\\displaystyle \\operatorname{Poly}{\\left( xy + 2 y\\pi, x, y, \\pi, domain=\\mathbb{Z} \\right)}$"
      ],
      "text/plain": [
       "Poly(x*y + 2*y*pi, x, y, pi, domain='ZZ')"
      ]
     },
     "execution_count": 29,
     "metadata": {},
     "output_type": "execute_result"
    }
   ],
   "source": [
    "e3.as_poly()"
   ]
  },
  {
   "cell_type": "code",
   "execution_count": 30,
   "id": "06fcebad",
   "metadata": {},
   "outputs": [
    {
     "data": {
      "image/png": "[encoded data removed]",
      "text/latex": [
       "$\\displaystyle \\operatorname{Poly}{\\left( xy + 2 \\pi y, x, y, domain=\\mathbb{Z}\\left[\\pi\\right] \\right)}$"
      ],
      "text/plain": [
       "Poly(x*y + 2*pi*y, x, y, domain='ZZ[pi]')"
      ]
     },
     "execution_count": 30,
     "metadata": {},
     "output_type": "execute_result"
    }
   ],
   "source": [
    "e3.as_poly(x, y)"
   ]
  },
  {
   "cell_type": "code",
   "execution_count": 32,
   "id": "563b5ef1",
   "metadata": {},
   "outputs": [
    {
     "data": {
      "image/png": "[encoded data removed]",
      "text/latex": [
       "$\\displaystyle \\operatorname{Poly}{\\left( xy + 2 \\pi y, x, y, domain=\\mathbb{Z}\\left[\\pi\\right] \\right)}$"
      ],
      "text/plain": [
       "Poly(x*y + 2*pi*y, x, y, domain='ZZ[pi]')"
      ]
     },
     "execution_count": 32,
     "metadata": {},
     "output_type": "execute_result"
    }
   ],
   "source": [
    "e3.as_poly(domain=ZZ[pi])"
   ]
  },
  {
   "cell_type": "code",
   "execution_count": 33,
   "id": "70bfd4f4",
   "metadata": {},
   "outputs": [
    {
     "data": {
      "image/png": "[encoded data removed]",
      "text/latex": [
       "$\\displaystyle x + \\sqrt{2}$"
      ],
      "text/plain": [
       "      ___\n",
       "x + \\/ 2 "
      ]
     },
     "execution_count": 33,
     "metadata": {},
     "output_type": "execute_result"
    }
   ],
   "source": [
    "e4 = x + sqrt(2)\n",
    "e4"
   ]
  },
  {
   "cell_type": "code",
   "execution_count": 34,
   "id": "b29473b0",
   "metadata": {},
   "outputs": [
    {
     "data": {
      "image/png": "[encoded data removed]",
      "text/latex": [
       "$\\displaystyle \\operatorname{Poly}{\\left( x + \\sqrt{2}, x, \\sqrt{2}, domain=\\mathbb{Z} \\right)}$"
      ],
      "text/plain": [
       "Poly(x + (sqrt(2)), x, sqrt(2), domain='ZZ')"
      ]
     },
     "execution_count": 34,
     "metadata": {},
     "output_type": "execute_result"
    }
   ],
   "source": [
    "e4.as_poly()"
   ]
  },
  {
   "cell_type": "code",
   "execution_count": 35,
   "id": "fedb40b2",
   "metadata": {},
   "outputs": [
    {
     "data": {
      "image/png": "[encoded data removed]",
      "text/latex": [
       "$\\displaystyle \\operatorname{Poly}{\\left( x + \\sqrt{2}, x, domain=\\mathtt{\\text{QQ<sqrt(2)>}} \\right)}$"
      ],
      "text/plain": [
       "Poly(x + sqrt(2), x, domain='QQ<sqrt(2)>')"
      ]
     },
     "execution_count": 35,
     "metadata": {},
     "output_type": "execute_result"
    }
   ],
   "source": [
    "e4.as_poly(extension=True)"
   ]
  },
  {
   "cell_type": "code",
   "execution_count": null,
   "id": "e7679537",
   "metadata": {},
   "outputs": [],
   "source": []
  },
  {
   "cell_type": "code",
   "execution_count": null,
   "id": "cf25a7f7",
   "metadata": {},
   "outputs": [],
   "source": []
  },
  {
   "cell_type": "code",
   "execution_count": null,
   "id": "785d59f0",
   "metadata": {},
   "outputs": [],
   "source": []
  }
 ],
 "metadata": {
  "kernelspec": {
   "display_name": "Python 3",
   "language": "python",
   "name": "python3"
  },
  "language_info": {
   "codemirror_mode": {
    "name": "ipython",
    "version": 3
   },
   "file_extension": ".py",
   "mimetype": "text/x-python",
   "name": "python",
   "nbconvert_exporter": "python",
   "pygments_lexer": "ipython3",
   "version": "3.7.7"
  }
 },
 "nbformat": 4,
 "nbformat_minor": 5
}
