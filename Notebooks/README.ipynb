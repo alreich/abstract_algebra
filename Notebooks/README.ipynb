{
 "cells": [
  {
   "cell_type": "markdown",
   "id": "7d5241ab",
   "metadata": {},
   "source": [
    "# Abstract Algebra"
   ]
  },
  {
   "cell_type": "markdown",
   "id": "fb2b75a6",
   "metadata": {},
   "source": [
    "#### Experimental implementation of finite groups--for now--and (maybe) later rings, fields, etc."
   ]
  },
  {
   "cell_type": "code",
   "execution_count": 1,
   "id": "78bb48e1",
   "metadata": {},
   "outputs": [],
   "source": [
    "import algebras as alg\n",
    "import json\n",
    "import os"
   ]
  },
  {
   "cell_type": "code",
   "execution_count": 2,
   "id": "920cbdcc",
   "metadata": {},
   "outputs": [],
   "source": [
    "# Path to this repo\n",
    "aa_path = os.path.join(os.getenv('PYPROJ'), 'abstract_algebra')\n",
    "\n",
    "# Path to a directory containing Algebra definitions in JSON\n",
    "alg_dir = os.path.join(aa_path, \"Algebras\")"
   ]
  },
  {
   "cell_type": "markdown",
   "id": "46fa91c5",
   "metadata": {},
   "source": [
    "## Store Group in JSON format"
   ]
  },
  {
   "cell_type": "markdown",
   "id": "9af85df2",
   "metadata": {},
   "source": [
    "* The <b>addition_table</b> <u>must</u> reference group elements according to their index (position) in the <b>element_names</b> list.\n",
    "* <b>0</b> <u>must</u> always refer to the <b>identity element</b>.\n",
    "* The first row and first column must be the integers in order, (0, 1, 2, ..., n-1), where n is the number of elements"
   ]
  },
  {
   "cell_type": "code",
   "execution_count": 3,
   "id": "04036f34",
   "metadata": {},
   "outputs": [
    {
     "name": "stdout",
     "output_type": "stream",
     "text": [
      "{\"type\": \"Group\",\r\n",
      " \"name\": \"V4\",\r\n",
      " \"description\": \"Klein-4 group\",\r\n",
      " \"element_names\": [\"e\", \"h\", \"v\", \"hv\"],\r\n",
      " \"addition_table\": [[0, 1, 2, 3],\r\n",
      "                    [1, 0, 3, 2],\r\n",
      "                    [2, 3, 0, 1],\r\n",
      "                    [3, 2, 1, 0]]\r\n",
      "}\r\n"
     ]
    }
   ],
   "source": [
    "# Path to a JSON file that defines the group V4\n",
    "v4_json = os.path.join(alg_dir, \"v4_klein_4_group.json\")\n",
    "\n",
    "!cat {v4_json}"
   ]
  },
  {
   "cell_type": "markdown",
   "id": "1ba2ffbd",
   "metadata": {},
   "source": [
    "## Read JSON Definition to Instantiate a Group Object"
   ]
  },
  {
   "cell_type": "code",
   "execution_count": 4,
   "id": "3a289c97",
   "metadata": {},
   "outputs": [
    {
     "data": {
      "text/plain": [
       "Group('V4', 'Klein-4 group', ['e', 'h', 'v', 'hv'], [[0 1 2 3]\n",
       " [1 0 3 2]\n",
       " [2 3 0 1]\n",
       " [3 2 1 0]]) "
      ]
     },
     "execution_count": 4,
     "metadata": {},
     "output_type": "execute_result"
    }
   ],
   "source": [
    "v4 = alg.Group(v4_json)\n",
    "v4"
   ]
  },
  {
   "cell_type": "markdown",
   "id": "ec891ce6",
   "metadata": {},
   "source": [
    "#### The group can also be created using the Group constuctor."
   ]
  },
  {
   "cell_type": "code",
   "execution_count": 5,
   "id": "98c98b96",
   "metadata": {},
   "outputs": [
    {
     "data": {
      "text/plain": [
       "Group('V4', 'Another way to construct V4', ['e', 'h', 'v', 'hv'], [[0 1 2 3]\n",
       " [1 0 3 2]\n",
       " [2 3 0 1]\n",
       " [3 2 1 0]]) "
      ]
     },
     "execution_count": 5,
     "metadata": {},
     "output_type": "execute_result"
    }
   ],
   "source": [
    "alg.Group('V4',\n",
    "          'Another way to construct V4',\n",
    "          ['e',  'h',  'v', 'hv'],\n",
    "          [[0, 1, 2, 3],\n",
    "           [1, 0, 3, 2],\n",
    "           [2, 3, 0, 1],\n",
    "           [3, 2, 1, 0]]\n",
    "         )"
   ]
  },
  {
   "cell_type": "markdown",
   "id": "e0ea3965",
   "metadata": {},
   "source": [
    "#### And the group can be created from a Python dictionary:"
   ]
  },
  {
   "cell_type": "code",
   "execution_count": 6,
   "id": "4fdc3445",
   "metadata": {},
   "outputs": [
    {
     "data": {
      "text/plain": [
       "Group('V4', 'Yet another way to define V4', ['e', 'h', 'v', 'hv'], [[0 1 2 3]\n",
       " [1 0 3 2]\n",
       " [2 3 0 1]\n",
       " [3 2 1 0]]) "
      ]
     },
     "execution_count": 6,
     "metadata": {},
     "output_type": "execute_result"
    }
   ],
   "source": [
    "v4_dict = {'type': 'Group',\n",
    "           'name': 'V4',\n",
    "           'description': 'Yet another way to define V4',\n",
    "           'element_names': ['e', 'h', 'v', 'hv'],\n",
    "           'addition_table': [[0, 1, 2, 3], [1, 0, 3, 2], [2, 3, 0, 1], [3, 2, 1, 0]]}\n",
    "\n",
    "alg.Group(v4_dict)"
   ]
  },
  {
   "cell_type": "markdown",
   "id": "ef12d444",
   "metadata": {},
   "source": [
    "For other ways to create groups, see the Jupyter Notebook, <b>ways_to_create_a_group</b>."
   ]
  },
  {
   "cell_type": "markdown",
   "id": "462f17b7",
   "metadata": {},
   "source": [
    "## View Addition Table using Element Names"
   ]
  },
  {
   "cell_type": "markdown",
   "id": "02b06aeb",
   "metadata": {},
   "source": [
    "The addition table is known as a [Cayley Table](https://en.wikipedia.org/wiki/Cayley_table).\n",
    "\n",
    "The group operation is referred to here as <i>addition</i> to distinguish it from ring or field <i>multiplication</i> operations."
   ]
  },
  {
   "cell_type": "code",
   "execution_count": 7,
   "id": "260352ec",
   "metadata": {},
   "outputs": [
    {
     "name": "stdout",
     "output_type": "stream",
     "text": [
      "   e   h   v  hv\n",
      "   h   e  hv   v\n",
      "   v  hv   e   h\n",
      "  hv   v   h   e\n"
     ]
    }
   ],
   "source": [
    "v4.pretty_print_addition_table()"
   ]
  },
  {
   "cell_type": "markdown",
   "id": "80769d8d",
   "metadata": {},
   "source": [
    "## Add Elements"
   ]
  },
  {
   "cell_type": "code",
   "execution_count": 8,
   "id": "82f5763f",
   "metadata": {},
   "outputs": [
    {
     "data": {
      "text/plain": [
       "'e'"
      ]
     },
     "execution_count": 8,
     "metadata": {},
     "output_type": "execute_result"
    }
   ],
   "source": [
    "v4.add()"
   ]
  },
  {
   "cell_type": "code",
   "execution_count": 9,
   "id": "31159122",
   "metadata": {},
   "outputs": [
    {
     "data": {
      "text/plain": [
       "'h'"
      ]
     },
     "execution_count": 9,
     "metadata": {},
     "output_type": "execute_result"
    }
   ],
   "source": [
    "v4.add('h')"
   ]
  },
  {
   "cell_type": "code",
   "execution_count": 10,
   "id": "78008ba7",
   "metadata": {},
   "outputs": [
    {
     "data": {
      "text/plain": [
       "'hv'"
      ]
     },
     "execution_count": 10,
     "metadata": {},
     "output_type": "execute_result"
    }
   ],
   "source": [
    "v4.add('h','v')"
   ]
  },
  {
   "cell_type": "code",
   "execution_count": 11,
   "id": "8fd51791",
   "metadata": {},
   "outputs": [
    {
     "data": {
      "text/plain": [
       "'e'"
      ]
     },
     "execution_count": 11,
     "metadata": {},
     "output_type": "execute_result"
    }
   ],
   "source": [
    "v4.add('h', 'v', 'hv')"
   ]
  },
  {
   "cell_type": "markdown",
   "id": "954953a6",
   "metadata": {},
   "source": [
    "## Get Inverse Element"
   ]
  },
  {
   "cell_type": "code",
   "execution_count": 12,
   "id": "d85cfd08",
   "metadata": {},
   "outputs": [
    {
     "data": {
      "text/plain": [
       "'h'"
      ]
     },
     "execution_count": 12,
     "metadata": {},
     "output_type": "execute_result"
    }
   ],
   "source": [
    "v4.inverse('h')"
   ]
  },
  {
   "cell_type": "markdown",
   "id": "dc36778d",
   "metadata": {},
   "source": [
    "## Check if Abelian"
   ]
  },
  {
   "cell_type": "code",
   "execution_count": 13,
   "id": "135d9462",
   "metadata": {},
   "outputs": [
    {
     "data": {
      "text/plain": [
       "True"
      ]
     },
     "execution_count": 13,
     "metadata": {},
     "output_type": "execute_result"
    }
   ],
   "source": [
    "v4.abelian()"
   ]
  },
  {
   "cell_type": "code",
   "execution_count": 14,
   "id": "781090d8",
   "metadata": {},
   "outputs": [
    {
     "data": {
      "text/plain": [
       "True"
      ]
     },
     "execution_count": 14,
     "metadata": {},
     "output_type": "execute_result"
    }
   ],
   "source": [
    "v4.associative()"
   ]
  },
  {
   "cell_type": "markdown",
   "id": "3af83367",
   "metadata": {},
   "source": [
    "## Derive Direct Product"
   ]
  },
  {
   "cell_type": "code",
   "execution_count": 15,
   "id": "b21014d4",
   "metadata": {},
   "outputs": [
    {
     "data": {
      "text/plain": [
       "Group('V4_x_V4', 'Direct product of V4 & V4', ['e-e', 'e-h', 'e-v', 'e-hv', 'h-e', 'h-h', 'h-v', 'h-hv', 'v-e', 'v-h', 'v-v', 'v-hv', 'hv-e', 'hv-h', 'hv-v', 'hv-hv'], [[ 0  1  2  3  4  5  6  7  8  9 10 11 12 13 14 15]\n",
       " [ 1  0  3  2  5  4  7  6  9  8 11 10 13 12 15 14]\n",
       " [ 2  3  0  1  6  7  4  5 10 11  8  9 14 15 12 13]\n",
       " [ 3  2  1  0  7  6  5  4 11 10  9  8 15 14 13 12]\n",
       " [ 4  5  6  7  0  1  2  3 12 13 14 15  8  9 10 11]\n",
       " [ 5  4  7  6  1  0  3  2 13 12 15 14  9  8 11 10]\n",
       " [ 6  7  4  5  2  3  0  1 14 15 12 13 10 11  8  9]\n",
       " [ 7  6  5  4  3  2  1  0 15 14 13 12 11 10  9  8]\n",
       " [ 8  9 10 11 12 13 14 15  0  1  2  3  4  5  6  7]\n",
       " [ 9  8 11 10 13 12 15 14  1  0  3  2  5  4  7  6]\n",
       " [10 11  8  9 14 15 12 13  2  3  0  1  6  7  4  5]\n",
       " [11 10  9  8 15 14 13 12  3  2  1  0  7  6  5  4]\n",
       " [12 13 14 15  8  9 10 11  4  5  6  7  0  1  2  3]\n",
       " [13 12 15 14  9  8 11 10  5  4  7  6  1  0  3  2]\n",
       " [14 15 12 13 10 11  8  9  6  7  4  5  2  3  0  1]\n",
       " [15 14 13 12 11 10  9  8  7  6  5  4  3  2  1  0]]) "
      ]
     },
     "execution_count": 15,
     "metadata": {},
     "output_type": "execute_result"
    }
   ],
   "source": [
    "v4.set_direct_product_delimiter('-')  # Default delimiter is ':'\n",
    "v4_x_v4 = v4 * v4\n",
    "v4_x_v4"
   ]
  },
  {
   "cell_type": "markdown",
   "id": "16e1c808",
   "metadata": {},
   "source": [
    "## Convert to Dictionary or JSON"
   ]
  },
  {
   "cell_type": "code",
   "execution_count": 16,
   "id": "3ce61af9",
   "metadata": {},
   "outputs": [
    {
     "data": {
      "text/plain": [
       "{'type': 'Group',\n",
       " 'name': 'V4',\n",
       " 'description': 'Klein-4 group',\n",
       " 'element_names': ['e', 'h', 'v', 'hv'],\n",
       " 'addition_table': [[0, 1, 2, 3], [1, 0, 3, 2], [2, 3, 0, 1], [3, 2, 1, 0]]}"
      ]
     },
     "execution_count": 16,
     "metadata": {},
     "output_type": "execute_result"
    }
   ],
   "source": [
    "v4.to_dict()"
   ]
  },
  {
   "cell_type": "code",
   "execution_count": 17,
   "id": "a3699ad4",
   "metadata": {},
   "outputs": [
    {
     "data": {
      "text/plain": [
       "'{\"type\": \"Group\", \"name\": \"V4\", \"description\": \"Klein-4 group\", \"element_names\": [\"e\", \"h\", \"v\", \"hv\"], \"addition_table\": [[0, 1, 2, 3], [1, 0, 3, 2], [2, 3, 0, 1], [3, 2, 1, 0]]}'"
      ]
     },
     "execution_count": 17,
     "metadata": {},
     "output_type": "execute_result"
    }
   ],
   "source": [
    "v4.dumps()"
   ]
  },
  {
   "cell_type": "markdown",
   "id": "66a27397",
   "metadata": {},
   "source": [
    "## Group Generators"
   ]
  },
  {
   "cell_type": "markdown",
   "id": "2b08513f",
   "metadata": {},
   "source": [
    "For now, there is only one generator, for cyclic groups of any finite order:"
   ]
  },
  {
   "cell_type": "code",
   "execution_count": 18,
   "id": "637a680a",
   "metadata": {},
   "outputs": [
    {
     "data": {
      "text/plain": [
       "Group('Z7', 'Cyclic group of order 7', ['e', 'a', 'a^2', 'a^3', 'a^4', 'a^5', 'a^6'], [[0 1 2 3 4 5 6]\n",
       " [1 2 3 4 5 6 0]\n",
       " [2 3 4 5 6 0 1]\n",
       " [3 4 5 6 0 1 2]\n",
       " [4 5 6 0 1 2 3]\n",
       " [5 6 0 1 2 3 4]\n",
       " [6 0 1 2 3 4 5]]) "
      ]
     },
     "execution_count": 18,
     "metadata": {},
     "output_type": "execute_result"
    }
   ],
   "source": [
    "z7 = alg.generate_cyclic_group(7)\n",
    "z7"
   ]
  },
  {
   "cell_type": "markdown",
   "id": "3d3aaab4",
   "metadata": {},
   "source": [
    "The printout above makes it hard to see the structure of the addition table, so here's the table by itself:"
   ]
  },
  {
   "cell_type": "code",
   "execution_count": 19,
   "id": "338988e8",
   "metadata": {},
   "outputs": [
    {
     "data": {
      "text/plain": [
       "array([[0, 1, 2, 3, 4, 5, 6],\n",
       "       [1, 2, 3, 4, 5, 6, 0],\n",
       "       [2, 3, 4, 5, 6, 0, 1],\n",
       "       [3, 4, 5, 6, 0, 1, 2],\n",
       "       [4, 5, 6, 0, 1, 2, 3],\n",
       "       [5, 6, 0, 1, 2, 3, 4],\n",
       "       [6, 0, 1, 2, 3, 4, 5]])"
      ]
     },
     "execution_count": 19,
     "metadata": {},
     "output_type": "execute_result"
    }
   ],
   "source": [
    "z7.addition_table"
   ]
  },
  {
   "cell_type": "markdown",
   "id": "d3500cee",
   "metadata": {},
   "source": [
    "## Print Information about a Group"
   ]
  },
  {
   "cell_type": "code",
   "execution_count": 20,
   "id": "971ec475",
   "metadata": {},
   "outputs": [
    {
     "name": "stdout",
     "output_type": "stream",
     "text": [
      "\n",
      "Group : Z7 : Cyclic group of order 7\n",
      "  Element Names: ['e', 'a', 'a^2', 'a^3', 'a^4', 'a^5', 'a^6']\n",
      "  Is Abelian? True\n",
      "  Inverses:  (** - indicates that it is its own inverse)\n",
      "    inv(e) = e   **\n",
      "    inv(a) = a^6 \n",
      "    inv(a^2) = a^5 \n",
      "    inv(a^3) = a^4 \n",
      "    inv(a^4) = a^3 \n",
      "    inv(a^5) = a^2 \n",
      "    inv(a^6) = a \n",
      "  Is associative? True\n",
      "  Cayley Table:\n",
      "      e    a  a^2  a^3  a^4  a^5  a^6\n",
      "      a  a^2  a^3  a^4  a^5  a^6    e\n",
      "    a^2  a^3  a^4  a^5  a^6    e    a\n",
      "    a^3  a^4  a^5  a^6    e    a  a^2\n",
      "    a^4  a^5  a^6    e    a  a^2  a^3\n",
      "    a^5  a^6    e    a  a^2  a^3  a^4\n",
      "    a^6    e    a  a^2  a^3  a^4  a^5\n"
     ]
    }
   ],
   "source": [
    "z7.print_info()"
   ]
  }
 ],
 "metadata": {
  "kernelspec": {
   "display_name": "Python 3",
   "language": "python",
   "name": "python3"
  },
  "language_info": {
   "codemirror_mode": {
    "name": "ipython",
    "version": 3
   },
   "file_extension": ".py",
   "mimetype": "text/x-python",
   "name": "python",
   "nbconvert_exporter": "python",
   "pygments_lexer": "ipython3",
   "version": "3.7.7"
  }
 },
 "nbformat": 4,
 "nbformat_minor": 5
}
