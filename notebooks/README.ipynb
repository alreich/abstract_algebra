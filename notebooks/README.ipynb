{
 "cells": [
  {
   "cell_type": "markdown",
   "id": "ac971643",
   "metadata": {},
   "source": [
    "# Abstract Algebra"
   ]
  },
  {
   "cell_type": "markdown",
   "id": "b565d19d",
   "metadata": {},
   "source": [
    "This is an implementation of **Finite Algebras** in Python: Groups, Rings, Fields, Vector Spaces, Modules, Monoids, Semigroups, and Magmas (Groupoids).\n",
    "\n",
    "The representation of an algebra here depends on being able to explicitely represent its multiplication/addition table (Cayley table). Large finite algebras--more than a few hundred elements--are possible, but may take a significant amount of time to process."
   ]
  },
  {
   "cell_type": "markdown",
   "id": "d507cc12",
   "metadata": {},
   "source": [
    "## Summary"
   ]
  },
  {
   "cell_type": "markdown",
   "id": "c77fb9bf",
   "metadata": {},
   "source": [
    "The ``finite_algebras`` module contains class definitions, methods, and functions for working with algebras that  have a **finite number of elements**.\n",
    "\n",
    "* The primary constructor of a finite algebra is the function, ``make_finite_algebra``. It examines the properties of the input table(s) and returns the appropriate instance of an algebra.\n",
    "* Algebras can be input from, or output to, JSON files/strings or Python dictionaries.\n",
    "* Each algebra is defined by:\n",
    "  * A name (``str``),\n",
    "  * A description (``str``),\n",
    "  * A list of *element names* (``list`` of ``str``),\n",
    "    * All elements must be represented by strings,\n",
    "  * One or two square, 2-dimensional tables that define binary operations (``list`` of ``lists`` of ``int``),\n",
    "    * The <i>ints</i> in a table represent indices in the list of element names,\n",
    "    * Magmas, Semigroups, Monoids, & Groups have one table; Rings & Fields have two.\n",
    "* Each algebra has methods for examining its properties (e.g., ``is_associative``, ``is_commutative``, ``center``, ``commutators``, etc.).\n",
    "* Algebraic elements can be \"added\" (or \"multiplied\") via their binary operations (e.g., ``v4.op('h','v')`` $\\Rightarrow$ ``'r'``).\n",
    "* Inverses & identities can be obtained, if the algebra supports them (e.g., ``z3.inv('a')`` $\\Rightarrow$ ``'a^2'``, ``z3.identity`` $\\Rightarrow$ ``'e'``).\n",
    "* Direct products of two or more algebras can be computed using Python's multiplication operator (e.g., ``z4 * v4``), and using Python's power operator (e.g., ``v4**3 == v4 * v4 * v4``).\n",
    "* If two algebras are isomorphic, the mapping between their elements can be found and returned as a Python dictionary (e.g., ``v4.isomorphic(z2 * z2)`` $\\Rightarrow$ ``{'h': 'e:a', 'v': 'a:e', 'r': 'a:a', 'e': 'e:e'}``)\n",
    "* Autogeneration of some types of algebras, of arbitrary order, is supported (e.g., symmetric, cyclic).\n",
    "* Subalgebras (e.g., subgroups) can be determined, along with related functionality (e.g, ``is_normal()``).\n",
    "* Groups, Rings, and Fields can be used to construct Modules and Vector Spaces, including n-dimensional Modules and Vector Spaces using the direct products of Rings and Fields, resp.\n",
    "* The Regular Representation of a Monoid, Group, or the additive abelian Group of a Ring or Field, can be computed in either dense or sparse matrix form.\n",
    "* Abstract Matrices over Rings/Fields can be represented and used in operations similar to numeric matrices (e.g., $+$, $-$, $\\times$, determinant, inverse, etc.)"
   ]
  },
  {
   "cell_type": "markdown",
   "id": "3bf1f8b5",
   "metadata": {},
   "source": [
    "## Installation"
   ]
  },
  {
   "cell_type": "markdown",
   "id": "b24ac494",
   "metadata": {},
   "source": [
    "This module runs under Python 3.7+ and requires **numpy**.  The sparse matrix <b>option</b> for Regular Representations requires **scipy.sparse**.\n",
    "\n",
    "Clone the github repository to install:"
   ]
  },
  {
   "cell_type": "raw",
   "id": "55a7025f",
   "metadata": {},
   "source": [
    "$ git clone https://github.com/alreich/abstract_algebra.git"
   ]
  },
  {
   "cell_type": "markdown",
   "id": "0fcdc62c",
   "metadata": {},
   "source": [
    "Once installed, you can follow along the examples here by setting an <b>environment variable</b>, that \"points\" to the parent directory of the <i>abstract_algebra</i> directory.\n",
    "\n",
    "For example, if you clone this module into the directory, '/Users/myname/myrepos', then you can do the following to create an environment variable, PYPROJ, like the one used here.\n",
    "\n",
    ">import os\n",
    "> <p> os.environ['PYPROJ'] = '/Users/myname/myrepos'</p>\n",
    "\n",
    "An environment variable constructed like this only lasts for the duration of the Python session. Consult your implementation of Python to find out how to make the environment variable more \"durable\"."
   ]
  },
  {
   "cell_type": "markdown",
   "id": "8f2c889d",
   "metadata": {},
   "source": [
    "## Documentation"
   ]
  },
  {
   "cell_type": "markdown",
   "id": "d34bbd8b",
   "metadata": {},
   "source": [
    "See full documentation at <i>ReadTheDocs</i>: [https://abstract-algebra.readthedocs.io/](https://abstract-algebra.readthedocs.io/en/latest/index.html)"
   ]
  },
  {
   "cell_type": "markdown",
   "id": "27fe981f",
   "metadata": {},
   "source": [
    "## Quick Look"
   ]
  },
  {
   "cell_type": "markdown",
   "id": "b8b613fa",
   "metadata": {},
   "source": [
    "### Create an Algebra"
   ]
  },
  {
   "cell_type": "markdown",
   "id": "6683f4e3",
   "metadata": {},
   "source": [
    "As mentioned above, the integers in the 4x4 table, below, are indices of the 4 elements in the element list, ``['e', 'h', 'v', 'r']``."
   ]
  },
  {
   "cell_type": "code",
   "execution_count": 1,
   "id": "9db1550f",
   "metadata": {},
   "outputs": [
    {
     "data": {
      "text/plain": [
       "Group(\n",
       "'V4',\n",
       "'Klein-4 group',\n",
       "['e', 'h', 'v', 'r'],\n",
       "[[0, 1, 2, 3], [1, 0, 3, 2], [2, 3, 0, 1], [3, 2, 1, 0]]\n",
       ")"
      ]
     },
     "execution_count": 1,
     "metadata": {},
     "output_type": "execute_result"
    }
   ],
   "source": [
    ">>> from finite_algebras import make_finite_algebra\n",
    "\n",
    ">>> V4 = make_finite_algebra('V4',\n",
    "                             'Klein-4 group',\n",
    "                             ['e', 'h', 'v', 'r'],\n",
    "                             [[0, 1, 2, 3],\n",
    "                              [1, 0, 3, 2],\n",
    "                              [2, 3, 0, 1],\n",
    "                              [3, 2, 1, 0]])\n",
    ">>> V4"
   ]
  },
  {
   "cell_type": "markdown",
   "id": "74affba6",
   "metadata": {},
   "source": [
    "### Look at the Algebra's Properties"
   ]
  },
  {
   "cell_type": "markdown",
   "id": "e001890e",
   "metadata": {},
   "source": [
    "All of the information, provided by the ``about`` method, below, is derived from the table, input above, including the identity element, if it exists."
   ]
  },
  {
   "cell_type": "code",
   "execution_count": 2,
   "id": "60994f8c",
   "metadata": {},
   "outputs": [
    {
     "name": "stdout",
     "output_type": "stream",
     "text": [
      "\n",
      "** Group **\n",
      "Name: V4\n",
      "Instance ID: 4597746640\n",
      "Description: Klein-4 group\n",
      "Order: 4\n",
      "Identity: 'e'\n",
      "Commutative? Yes\n",
      "Cyclic?: No\n",
      "Elements:\n",
      "   Index   Name   Inverse  Order\n",
      "      0     'e'     'e'       1\n",
      "      1     'h'     'h'       2\n",
      "      2     'v'     'v'       2\n",
      "      3     'r'     'r'       2\n",
      "Cayley Table (showing names):\n",
      "[['e', 'h', 'v', 'r'],\n",
      " ['h', 'e', 'r', 'v'],\n",
      " ['v', 'r', 'e', 'h'],\n",
      " ['r', 'v', 'h', 'e']]\n"
     ]
    }
   ],
   "source": [
    ">>> V4.about(use_table_names=True)"
   ]
  },
  {
   "cell_type": "markdown",
   "id": "1d4adb77",
   "metadata": {},
   "source": [
    "### Autogenerate a Small Cyclic Group"
   ]
  },
  {
   "cell_type": "code",
   "execution_count": 3,
   "id": "21a070c5",
   "metadata": {},
   "outputs": [
    {
     "name": "stdout",
     "output_type": "stream",
     "text": [
      "\n",
      "** Group **\n",
      "Name: Z2\n",
      "Instance ID: 4372024528\n",
      "Description: Autogenerated cyclic Group of order 2\n",
      "Order: 2\n",
      "Identity: 'e'\n",
      "Commutative? Yes\n",
      "Cyclic?: Yes\n",
      "  Generators: ['a']\n",
      "Elements:\n",
      "   Index   Name   Inverse  Order\n",
      "      0     'e'     'e'       1\n",
      "      1     'a'     'a'       2\n",
      "Cayley Table (showing indices):\n",
      "[[0, 1], [1, 0]]\n"
     ]
    }
   ],
   "source": [
    ">>> from finite_algebras import generate_cyclic_group\n",
    "\n",
    ">>> Z2 = generate_cyclic_group(2)\n",
    "\n",
    ">>> Z2.about()"
   ]
  },
  {
   "cell_type": "markdown",
   "id": "bebc2419",
   "metadata": {},
   "source": [
    "### Compute a Direct Product"
   ]
  },
  {
   "cell_type": "markdown",
   "id": "b752f3ec",
   "metadata": {},
   "source": [
    "If A & B are finite algebras, then A * B and A\\*\\*3 will also be Direct Products of the algebras. NOTE: A\\*\\*3 == A * A * A."
   ]
  },
  {
   "cell_type": "code",
   "execution_count": 4,
   "id": "ea48a00e",
   "metadata": {},
   "outputs": [
    {
     "name": "stdout",
     "output_type": "stream",
     "text": [
      "\n",
      "** Group **\n",
      "Name: Z2_x_Z2\n",
      "Instance ID: 4602714896\n",
      "Description: Direct product of Z2 & Z2\n",
      "Order: 4\n",
      "Identity: 'e:e'\n",
      "Commutative? Yes\n",
      "Cyclic?: No\n",
      "Elements:\n",
      "   Index   Name   Inverse  Order\n",
      "      0   'e:e'   'e:e'       1\n",
      "      1   'e:a'   'e:a'       2\n",
      "      2   'a:e'   'a:e'       2\n",
      "      3   'a:a'   'a:a'       2\n",
      "Cayley Table (showing names):\n",
      "[['e:e', 'e:a', 'a:e', 'a:a'],\n",
      " ['e:a', 'e:e', 'a:a', 'a:e'],\n",
      " ['a:e', 'a:a', 'e:e', 'e:a'],\n",
      " ['a:a', 'a:e', 'e:a', 'e:e']]\n"
     ]
    }
   ],
   "source": [
    ">>> Z2_sqr = Z2 * Z2  # NOTE: Z2**2 will also do the same thing\n",
    "\n",
    ">>> Z2_sqr.about(use_table_names=True)"
   ]
  },
  {
   "cell_type": "markdown",
   "id": "64e3d35f",
   "metadata": {},
   "source": [
    "### Find an Isomorphism"
   ]
  },
  {
   "cell_type": "markdown",
   "id": "d4a7176a",
   "metadata": {},
   "source": [
    "It is well known that z2_sqr & v4 are isomorphic. The method ``isomorphic`` confirms this by finding the following mapping between their elements.\n",
    "\n",
    "If an isomorphism between two algebras does not exist, then ``False`` is returned."
   ]
  },
  {
   "cell_type": "code",
   "execution_count": 5,
   "id": "232a3cc1",
   "metadata": {},
   "outputs": [
    {
     "data": {
      "text/plain": [
       "{'e': 'e:e', 'h': 'e:a', 'v': 'a:e', 'r': 'a:a'}"
      ]
     },
     "execution_count": 5,
     "metadata": {},
     "output_type": "execute_result"
    }
   ],
   "source": [
    ">>> V4.isomorphic(Z2_sqr)"
   ]
  },
  {
   "cell_type": "markdown",
   "id": "94ffcc75",
   "metadata": {},
   "source": [
    "### Regular Representation"
   ]
  },
  {
   "cell_type": "markdown",
   "id": "2eb1d2d4-d433-4552-a3d4-ffd415f684be",
   "metadata": {},
   "source": [
    "The method, ``regular_representation``, constructs an isomorphic mapping between a group, or monoid, and a set of square matrices such that the group's identity element corresponds to the identity matrix."
   ]
  },
  {
   "cell_type": "code",
   "execution_count": 6,
   "id": "58d84e58-8df0-478d-a41d-a470340a3890",
   "metadata": {},
   "outputs": [
    {
     "name": "stdout",
     "output_type": "stream",
     "text": [
      "e\n",
      "[[1. 0. 0. 0.]\n",
      " [0. 1. 0. 0.]\n",
      " [0. 0. 1. 0.]\n",
      " [0. 0. 0. 1.]]\n",
      "\n",
      "h\n",
      "[[0. 1. 0. 0.]\n",
      " [1. 0. 0. 0.]\n",
      " [0. 0. 0. 1.]\n",
      " [0. 0. 1. 0.]]\n",
      "\n",
      "v\n",
      "[[0. 0. 1. 0.]\n",
      " [0. 0. 0. 1.]\n",
      " [1. 0. 0. 0.]\n",
      " [0. 1. 0. 0.]]\n",
      "\n",
      "r\n",
      "[[0. 0. 0. 1.]\n",
      " [0. 0. 1. 0.]\n",
      " [0. 1. 0. 0.]\n",
      " [1. 0. 0. 0.]]\n",
      "\n"
     ]
    }
   ],
   "source": [
    ">>> mapping, _, _, _ = V4.regular_representation()\n",
    ">>> for elem in mapping:\n",
    ">>>     print(elem)\n",
    ">>>     print(mapping[elem])\n",
    ">>>     print()"
   ]
  },
  {
   "cell_type": "markdown",
   "id": "fe2a0065",
   "metadata": {},
   "source": [
    "### Create a Finite Field"
   ]
  },
  {
   "cell_type": "markdown",
   "id": "46763bf7",
   "metadata": {},
   "source": [
    "The following small, finite field is used to illustrate Abstract Matrices, farther below."
   ]
  },
  {
   "cell_type": "code",
   "execution_count": 7,
   "id": "f4fe60c6",
   "metadata": {},
   "outputs": [],
   "source": [
    ">>> f4 = make_finite_algebra('F4',\n",
    ">>>                          'Field with 4 elements (from Wikipedia)',\n",
    ">>>                          ['0', '1', 'a', '1+a'],\n",
    ">>>                          [[0, 1, 2, 3],\n",
    ">>>                           [1, 0, 3, 2],\n",
    ">>>                           [2, 3, 0, 1],\n",
    ">>>                           [3, 2, 1, 0]],\n",
    ">>>                          [[0, 0, 0, 0],\n",
    ">>>                           [0, 1, 2, 3],\n",
    ">>>                           [0, 2, 3, 1],\n",
    ">>>                           [0, 3, 1, 2]]\n",
    ">>>                         )"
   ]
  },
  {
   "cell_type": "code",
   "execution_count": 8,
   "id": "f5d523aa",
   "metadata": {},
   "outputs": [
    {
     "name": "stdout",
     "output_type": "stream",
     "text": [
      "\n",
      "** Field **\n",
      "Name: F4\n",
      "Instance ID: 4602473168\n",
      "Description: Field with 4 elements (from Wikipedia)\n",
      "Order: 4\n",
      "Identity: '0'\n",
      "Commutative? Yes\n",
      "Cyclic?: Yes\n",
      "  Generators: ['1+a', 'a']\n",
      "Elements:\n",
      "   Index   Name   Inverse  Order\n",
      "      0     '0'     '0'       1\n",
      "      1     '1'     '1'       2\n",
      "      2     'a'     'a'       2\n",
      "      3   '1+a'   '1+a'       2\n",
      "Cayley Table (showing names):\n",
      "[['0', '1', 'a', '1+a'],\n",
      " ['1', '0', '1+a', 'a'],\n",
      " ['a', '1+a', '0', '1'],\n",
      " ['1+a', 'a', '1', '0']]\n",
      "Mult. Identity: '1'\n",
      "Mult. Commutative? Yes\n",
      "Zero Divisors: None\n",
      "Multiplicative Cayley Table (showing names):\n",
      "[['0', '0', '0', '0'],\n",
      " ['0', '1', 'a', '1+a'],\n",
      " ['0', 'a', '1+a', '1'],\n",
      " ['0', '1+a', '1', 'a']]\n"
     ]
    }
   ],
   "source": [
    ">>> f4.about(use_table_names=True)"
   ]
  },
  {
   "cell_type": "markdown",
   "id": "45cd67a5",
   "metadata": {},
   "source": [
    "### Abstract Matrices over a Finite Field"
   ]
  },
  {
   "cell_type": "markdown",
   "id": "4145ddce",
   "metadata": {},
   "source": [
    "Abstract Matrices can be constructed over a Ring or Field.  Abstract Matrices can be added, subtracted, multiplied, transposed, and inverted, if the inverse exists."
   ]
  },
  {
   "cell_type": "code",
   "execution_count": 9,
   "id": "1e596de8",
   "metadata": {},
   "outputs": [
    {
     "data": {
      "text/plain": [
       "[['0', '1', 'a'],\n",
       " ['1', 'a', '1+a'],\n",
       " ['1+a', '0', '1']]"
      ]
     },
     "execution_count": 9,
     "metadata": {},
     "output_type": "execute_result"
    }
   ],
   "source": [
    ">>> from abstract_matrix import AbstractMatrix\n",
    "\n",
    ">>> arr = [[  '0', '1',   'a'],\n",
    ">>>        [  '1', 'a', '1+a'],\n",
    ">>>        ['1+a', '0',   '1']]\n",
    "\n",
    ">>> mat = AbstractMatrix(arr, f4)\n",
    ">>> mat"
   ]
  },
  {
   "cell_type": "code",
   "execution_count": 10,
   "id": "a23abe02",
   "metadata": {},
   "outputs": [
    {
     "data": {
      "text/plain": [
       "'1'"
      ]
     },
     "execution_count": 10,
     "metadata": {},
     "output_type": "execute_result"
    }
   ],
   "source": [
    ">>> mat.determinant()"
   ]
  },
  {
   "cell_type": "code",
   "execution_count": 11,
   "id": "cab75723",
   "metadata": {},
   "outputs": [
    {
     "data": {
      "text/plain": [
       "[['a', '1', '0'],\n",
       " ['1+a', '1', 'a'],\n",
       " ['1', '1+a', '1']]"
      ]
     },
     "execution_count": 11,
     "metadata": {},
     "output_type": "execute_result"
    }
   ],
   "source": [
    ">>> mat_inv = mat.inverse()\n",
    ">>> mat_inv"
   ]
  },
  {
   "cell_type": "code",
   "execution_count": 12,
   "id": "5047abdf",
   "metadata": {},
   "outputs": [
    {
     "data": {
      "text/plain": [
       "[['1', '0', '0'],\n",
       " ['0', '1', '0'],\n",
       " ['0', '0', '1']]"
      ]
     },
     "execution_count": 12,
     "metadata": {},
     "output_type": "execute_result"
    }
   ],
   "source": [
    ">>> mat * mat.inverse()"
   ]
  }
 ],
 "metadata": {
  "kernelspec": {
   "display_name": "Python 3 (ipykernel)",
   "language": "python",
   "name": "python3"
  },
  "language_info": {
   "codemirror_mode": {
    "name": "ipython",
    "version": 3
   },
   "file_extension": ".py",
   "mimetype": "text/x-python",
   "name": "python",
   "nbconvert_exporter": "python",
   "pygments_lexer": "ipython3",
   "version": "3.11.4"
  }
 },
 "nbformat": 4,
 "nbformat_minor": 5
}
