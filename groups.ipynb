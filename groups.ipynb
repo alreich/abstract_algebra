{
 "cells": [
  {
   "cell_type": "markdown",
   "id": "f48ee3c6",
   "metadata": {},
   "source": [
    "# Groups"
   ]
  },
  {
   "cell_type": "markdown",
   "id": "61a4e869",
   "metadata": {},
   "source": [
    "## References"
   ]
  },
  {
   "cell_type": "markdown",
   "id": "d59027e3",
   "metadata": {},
   "source": [
    "* [Group Explorer](https://nathancarter.github.io/group-explorer/index.html) -- Visualization software for the abstract algebra classroom\n",
    "* A <b>group</b> is a set equipped with a binary operation that combines any two elements to form a third element in such a way that three conditions called group axioms are satisfied, namely [closure,] associativity, identity and invertibility. [Wikipedia](https://en.wikipedia.org/wiki/Group_(mathematics))"
   ]
  },
  {
   "cell_type": "markdown",
   "id": "9e2579ec",
   "metadata": {},
   "source": [
    "### The Group, V4"
   ]
  },
  {
   "cell_type": "markdown",
   "id": "f0829623",
   "metadata": {},
   "source": [
    "Group Dictionary:\n",
    "* Type\n",
    "* Name\n",
    "* Description\n",
    "* List of elements\n",
    "* List of elements and their inverses\n",
    "* Multiplication table"
   ]
  },
  {
   "cell_type": "code",
   "execution_count": null,
   "id": "37deea8a",
   "metadata": {},
   "outputs": [],
   "source": [
    "v4 = {'type':'group',\n",
    "      'name':'V4',\n",
    "      'description':'yada yada yada'\n",
    "      'elements': [('e', 'e'), ('h', 'h'), ('v', 'v'), ('hv', 'hv')],\n",
    "      'table': {'e':\n",
    "                {'e':'e',\n",
    "                 'h':'h',\n",
    "                 'v':'v',\n",
    "                 'hv':'hv'}\n",
    "                {}\n",
    "\n",
    "     }"
   ]
  }
 ],
 "metadata": {
  "kernelspec": {
   "display_name": "Python 3",
   "language": "python",
   "name": "python3"
  },
  "language_info": {
   "codemirror_mode": {
    "name": "ipython",
    "version": 3
   },
   "file_extension": ".py",
   "mimetype": "text/x-python",
   "name": "python",
   "nbconvert_exporter": "python",
   "pygments_lexer": "ipython3",
   "version": "3.7.7"
  }
 },
 "nbformat": 4,
 "nbformat_minor": 5
}
