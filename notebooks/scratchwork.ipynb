{
 "cells": [
  {
   "cell_type": "markdown",
   "id": "ba882710",
   "metadata": {},
   "source": [
    "# Scratchwork"
   ]
  },
  {
   "cell_type": "code",
   "execution_count": 1,
   "id": "6cbb4aa2",
   "metadata": {},
   "outputs": [],
   "source": [
    "from finite_algebras import make_finite_algebra, generate_prime_field\n",
    "from finite_algebras import Group, Field\n",
    "\n",
    "import numpy as np"
   ]
  },
  {
   "cell_type": "code",
   "execution_count": 2,
   "id": "247e9bab",
   "metadata": {},
   "outputs": [],
   "source": [
    "import os\n",
    "aa_path = os.path.join(os.getenv(\"PYPROJ\"), \"abstract_algebra\")\n",
    "alg_dir = os.path.join(aa_path, \"Algebras\")"
   ]
  },
  {
   "cell_type": "markdown",
   "id": "fc6950f5",
   "metadata": {},
   "source": [
    "## Checking for Field"
   ]
  },
  {
   "cell_type": "markdown",
   "id": "fa79d4b7",
   "metadata": {},
   "source": [
    "### Rings"
   ]
  },
  {
   "cell_type": "code",
   "execution_count": 3,
   "id": "86c66e18",
   "metadata": {},
   "outputs": [
    {
     "name": "stdout",
     "output_type": "stream",
     "text": [
      "\n",
      "Ring: Powerset Ring 2\n",
      "Instance ID: 140430270573392\n",
      "Description: Ring on powerset of {0, 1}\n",
      "Identity: {}\n",
      "Associative? Yes\n",
      "Commutative? Yes\n",
      "Elements:\n",
      "   Index   Name   Inverse  Order\n",
      "      0      {}      {}       1\n",
      "      1     {0}     {0}       2\n",
      "      2     {1}     {1}       2\n",
      "      3  {0, 1}  {0, 1}       2\n",
      "Cayley Table (showing indices):\n",
      "[[0, 1, 2, 3], [1, 0, 3, 2], [2, 3, 0, 1], [3, 2, 1, 0]]\n",
      "Mult. Identity: {0, 1}\n",
      "Mult. Commutative? Yes\n",
      "Multiplicative Cayley Table (showing indices):\n",
      "[[0, 0, 0, 0], [0, 1, 0, 1], [0, 0, 2, 2], [0, 1, 2, 3]]\n"
     ]
    }
   ],
   "source": [
    "rng = make_finite_algebra('Powerset Ring 2',\n",
    "                          'Ring on powerset of {0, 1}',\n",
    "                          ['{}', '{0}', '{1}', '{0, 1}'],\n",
    "                          [[0, 1, 2, 3],\n",
    "                           [1, 0, 3, 2],\n",
    "                           [2, 3, 0, 1],\n",
    "                           [3, 2, 1, 0]],\n",
    "                          [[0, 0, 0, 0],\n",
    "                           [0, 1, 0, 1],\n",
    "                           [0, 0, 2, 2],\n",
    "                           [0, 1, 2, 3]]\n",
    "                         )\n",
    "rng.about()"
   ]
  },
  {
   "cell_type": "markdown",
   "id": "b08b64e5",
   "metadata": {},
   "source": [
    "## Fields"
   ]
  },
  {
   "cell_type": "markdown",
   "id": "989cb6de",
   "metadata": {},
   "source": [
    "$GF(4) = GF(2)[X]/(X^2 + X + 1)$"
   ]
  },
  {
   "cell_type": "markdown",
   "id": "f8eadab4",
   "metadata": {},
   "source": [
    "See Wikipedia: [\"Field with four elements\"](https://en.wikipedia.org/wiki/Finite_field#Field_with_four_elements)"
   ]
  },
  {
   "cell_type": "code",
   "execution_count": 4,
   "id": "2d6416ce",
   "metadata": {},
   "outputs": [],
   "source": [
    "elems = ['0', '1', 'a', '1+a']\n",
    "\n",
    "add_table = [[ '0' ,  '1' ,  'a' , '1+a'],\n",
    "             [ '1' ,  '0' , '1+a',  'a' ],\n",
    "             [ 'a' , '1+a',  '0' ,  '1' ],\n",
    "             ['1+a',  'a' ,  '1' ,  '0' ]]\n",
    "\n",
    "mult_table = [['0',  '0' ,  '0' ,  '0' ],\n",
    "              ['0',  '1' ,  'a' , '1+a'],\n",
    "              ['0',  'a' , '1+a',  '1' ],\n",
    "              ['0', '1+a',  '1' ,  'a' ]]"
   ]
  },
  {
   "cell_type": "code",
   "execution_count": 9,
   "id": "ff336e20",
   "metadata": {},
   "outputs": [
    {
     "name": "stdout",
     "output_type": "stream",
     "text": [
      "\n",
      "Group: foo\n",
      "Instance ID: 140430270570960\n",
      "Description: FOOBAR\n",
      "Identity: 0\n",
      "Associative? Yes\n",
      "Commutative? Yes\n",
      "Elements:\n",
      "   Index   Name   Inverse  Order\n",
      "      0       0       0       1\n",
      "      1       1       1       2\n",
      "      2       a       a       2\n",
      "      3     1+a     1+a       2\n",
      "Cayley Table (showing indices):\n",
      "[[0, 1, 2, 3], [1, 0, 3, 2], [2, 3, 0, 1], [3, 2, 1, 0]]\n"
     ]
    }
   ],
   "source": [
    "f4_add = make_finite_algebra(\"foo\", \"FOOBAR\", elems, add_table)\n",
    "f4_add.about()"
   ]
  },
  {
   "cell_type": "code",
   "execution_count": 10,
   "id": "c46ec83a",
   "metadata": {},
   "outputs": [
    {
     "name": "stdout",
     "output_type": "stream",
     "text": [
      "\n",
      "Monoid: foo\n",
      "Instance ID: 140430270570576\n",
      "Description: FOOBAR\n",
      "Elements: ['0', '1', 'a', '1+a']\n",
      "Identity: 1\n",
      "Associative? Yes\n",
      "Commutative? Yes\n",
      "Has Inverses? No\n",
      "Cayley Table (showing indices):\n",
      "[[0, 0, 0, 0], [0, 1, 2, 3], [0, 2, 3, 1], [0, 3, 1, 2]]\n"
     ]
    }
   ],
   "source": [
    "f4_mult = make_finite_algebra(\"foo\", \"FOOBAR\", elems, mult_table)\n",
    "f4_mult.about()"
   ]
  },
  {
   "cell_type": "code",
   "execution_count": 11,
   "id": "1e035d35",
   "metadata": {},
   "outputs": [
    {
     "name": "stdout",
     "output_type": "stream",
     "text": [
      "\n",
      "Field: F4\n",
      "Instance ID: 140430270614224\n",
      "Description: Field with 4 elements\n",
      "Identity: 0\n",
      "Associative? Yes\n",
      "Commutative? Yes\n",
      "Elements:\n",
      "   Index   Name   Inverse  Order\n",
      "      0       0       0       1\n",
      "      1       1       1       2\n",
      "      2       a       a       2\n",
      "      3     1+a     1+a       2\n",
      "Cayley Table (showing indices):\n",
      "[[0, 1, 2, 3], [1, 0, 3, 2], [2, 3, 0, 1], [3, 2, 1, 0]]\n",
      "Mult. Identity: 1\n",
      "Mult. Commutative? Yes\n",
      "Multiplicative Cayley Table (showing indices):\n",
      "[[0, 0, 0, 0], [0, 1, 2, 3], [0, 2, 3, 1], [0, 3, 1, 2]]\n"
     ]
    }
   ],
   "source": [
    "f4 = Field('F4',\n",
    "           'Field with 4 elements',\n",
    "           elems,\n",
    "           add_table,\n",
    "           mult_table\n",
    "          )\n",
    "\n",
    "f4.about()"
   ]
  },
  {
   "cell_type": "markdown",
   "id": "bc3e2579",
   "metadata": {},
   "source": [
    "### Generate Field of Prime Order"
   ]
  },
  {
   "cell_type": "code",
   "execution_count": 12,
   "id": "a16e0573",
   "metadata": {},
   "outputs": [
    {
     "name": "stdout",
     "output_type": "stream",
     "text": [
      "\n",
      "Ring: F7\n",
      "Instance ID: 140430270573776\n",
      "Description: Autogenerated prime field of order 7\n",
      "Identity: a0\n",
      "Associative? Yes\n",
      "Commutative? Yes\n",
      "Elements:\n",
      "   Index   Name   Inverse  Order\n",
      "      0      a0      a0       1\n",
      "      1      a1      a6       7\n",
      "      2      a2      a5       7\n",
      "      3      a3      a4       7\n",
      "      4      a4      a3       7\n",
      "      5      a5      a2       7\n",
      "      6      a6      a1       7\n",
      "Cayley Table (showing indices):\n",
      "[[0, 1, 2, 3, 4, 5, 6],\n",
      " [1, 2, 3, 4, 5, 6, 0],\n",
      " [2, 3, 4, 5, 6, 0, 1],\n",
      " [3, 4, 5, 6, 0, 1, 2],\n",
      " [4, 5, 6, 0, 1, 2, 3],\n",
      " [5, 6, 0, 1, 2, 3, 4],\n",
      " [6, 0, 1, 2, 3, 4, 5]]\n",
      "Mult. Identity: a1\n",
      "Mult. Commutative? Yes\n",
      "Multiplicative Cayley Table (showing indices):\n",
      "[[0, 0, 0, 0, 0, 0, 0],\n",
      " [0, 1, 2, 3, 4, 5, 6],\n",
      " [0, 2, 4, 6, 1, 3, 5],\n",
      " [0, 3, 6, 2, 5, 1, 4],\n",
      " [0, 4, 1, 5, 2, 6, 3],\n",
      " [0, 5, 3, 1, 6, 4, 2],\n",
      " [0, 6, 5, 4, 3, 2, 1]]\n"
     ]
    }
   ],
   "source": [
    "f7 = generate_prime_field(7)\n",
    "f7.about()"
   ]
  },
  {
   "cell_type": "code",
   "execution_count": 13,
   "id": "853430f5",
   "metadata": {},
   "outputs": [
    {
     "name": "stdout",
     "output_type": "stream",
     "text": [
      "\n",
      "Group: F7.Add\n",
      "Instance ID: 140430270726480\n",
      "Description: Additive-only portion of F7\n",
      "Identity: a0\n",
      "Associative? Yes\n",
      "Commutative? Yes\n",
      "Elements:\n",
      "   Index   Name   Inverse  Order\n",
      "      0      a0      a0       1\n",
      "      1      a1      a6       7\n",
      "      2      a2      a5       7\n",
      "      3      a3      a4       7\n",
      "      4      a4      a3       7\n",
      "      5      a5      a2       7\n",
      "      6      a6      a1       7\n",
      "Cayley Table (showing indices):\n",
      "[[0, 1, 2, 3, 4, 5, 6],\n",
      " [1, 2, 3, 4, 5, 6, 0],\n",
      " [2, 3, 4, 5, 6, 0, 1],\n",
      " [3, 4, 5, 6, 0, 1, 2],\n",
      " [4, 5, 6, 0, 1, 2, 3],\n",
      " [5, 6, 0, 1, 2, 3, 4],\n",
      " [6, 0, 1, 2, 3, 4, 5]]\n"
     ]
    }
   ],
   "source": [
    "f7_add = f7.extract_additive_algebra()\n",
    "f7_add.about()"
   ]
  },
  {
   "cell_type": "code",
   "execution_count": 14,
   "id": "f56baf4a",
   "metadata": {},
   "outputs": [
    {
     "name": "stdout",
     "output_type": "stream",
     "text": [
      "\n",
      "Monoid: F7.Mult\n",
      "Instance ID: 140430270613968\n",
      "Description: Multiplicative-only portion of F7\n",
      "Elements: ['a0', 'a1', 'a2', 'a3', 'a4', 'a5', 'a6']\n",
      "Identity: a1\n",
      "Associative? Yes\n",
      "Commutative? Yes\n",
      "Has Inverses? No\n",
      "Cayley Table (showing indices):\n",
      "[[0, 0, 0, 0, 0, 0, 0],\n",
      " [0, 1, 2, 3, 4, 5, 6],\n",
      " [0, 2, 4, 6, 1, 3, 5],\n",
      " [0, 3, 6, 2, 5, 1, 4],\n",
      " [0, 4, 1, 5, 2, 6, 3],\n",
      " [0, 5, 3, 1, 6, 4, 2],\n",
      " [0, 6, 5, 4, 3, 2, 1]]\n"
     ]
    }
   ],
   "source": [
    "f7_mult = f7.extract_multiplicative_algebra()\n",
    "f7_mult.about()"
   ]
  },
  {
   "cell_type": "code",
   "execution_count": 15,
   "id": "db94337f",
   "metadata": {},
   "outputs": [
    {
     "name": "stdout",
     "output_type": "stream",
     "text": [
      "[('Group', 2), ('Monoid', 4), ('Monoid', 3), ('Monoid', 2), ('Group', 6), ('Group', 3)]\n"
     ]
    },
    {
     "data": {
      "text/plain": [
       "[Group(\n",
       " 'F7.Mult_subalgebra_0',\n",
       " 'Subalgebra of: Multiplicative-only portion of F7',\n",
       " ['a1', 'a6'],\n",
       " [[0, 1], [1, 0]]\n",
       " ),\n",
       " Group(\n",
       " 'F7.Mult_subalgebra_4',\n",
       " 'Subalgebra of: Multiplicative-only portion of F7',\n",
       " ['a1', 'a2', 'a3', 'a4', 'a5', 'a6'],\n",
       " [[0, 1, 2, 3, 4, 5], [1, 3, 5, 0, 2, 4], [2, 5, 1, 4, 0, 3], [3, 0, 4, 1, 5, 2], [4, 2, 0, 5, 3, 1], [5, 4, 3, 2, 1, 0]]\n",
       " ),\n",
       " Group(\n",
       " 'F7.Mult_subalgebra_5',\n",
       " 'Subalgebra of: Multiplicative-only portion of F7',\n",
       " ['a1', 'a2', 'a4'],\n",
       " [[0, 1, 2], [1, 2, 0], [2, 0, 1]]\n",
       " )]"
      ]
     },
     "execution_count": 15,
     "metadata": {},
     "output_type": "execute_result"
    }
   ],
   "source": [
    "f7_mult_subs = f7_mult.proper_subalgebras()\n",
    "\n",
    "print([(alg.__class__.__name__, alg.order) for alg in f7_mult_subs])\n",
    "\n",
    "[alg for alg in f7_mult_subs if isinstance(alg, Group)]"
   ]
  },
  {
   "cell_type": "code",
   "execution_count": 16,
   "id": "921c809a",
   "metadata": {},
   "outputs": [
    {
     "name": "stdout",
     "output_type": "stream",
     "text": [
      "\n",
      "Monoid: F7.Mult_subalgebra_2\n",
      "Instance ID: 140430270763152\n",
      "Description: Subalgebra of: Multiplicative-only portion of F7\n",
      "Elements: ['a0', 'a1', 'a6']\n",
      "Identity: a1\n",
      "Associative? Yes\n",
      "Commutative? Yes\n",
      "Has Inverses? No\n",
      "Cayley Table (showing indices):\n",
      "[[0, 0, 0], [0, 1, 2], [0, 2, 1]]\n"
     ]
    }
   ],
   "source": [
    "f7_mult_sub2 = f7_mult_subs[2]\n",
    "f7_mult_sub2.about()"
   ]
  },
  {
   "cell_type": "code",
   "execution_count": null,
   "id": "9442ac4a",
   "metadata": {},
   "outputs": [],
   "source": []
  },
  {
   "cell_type": "code",
   "execution_count": null,
   "id": "e2db50c5",
   "metadata": {},
   "outputs": [],
   "source": []
  },
  {
   "cell_type": "code",
   "execution_count": 18,
   "id": "5e14cf46",
   "metadata": {},
   "outputs": [
    {
     "name": "stdout",
     "output_type": "stream",
     "text": [
      "\n",
      "Ring: F7\n",
      "Instance ID: 140430270573776\n",
      "Description: Autogenerated prime field of order 7\n",
      "Identity: a0\n",
      "Associative? Yes\n",
      "Commutative? Yes\n",
      "Elements:\n",
      "   Index   Name   Inverse  Order\n",
      "      0      a0      a0       1\n",
      "      1      a1      a6       7\n",
      "      2      a2      a5       7\n",
      "      3      a3      a4       7\n",
      "      4      a4      a3       7\n",
      "      5      a5      a2       7\n",
      "      6      a6      a1       7\n",
      "Cayley Table (showing indices):\n",
      "[[0, 1, 2, 3, 4, 5, 6],\n",
      " [1, 2, 3, 4, 5, 6, 0],\n",
      " [2, 3, 4, 5, 6, 0, 1],\n",
      " [3, 4, 5, 6, 0, 1, 2],\n",
      " [4, 5, 6, 0, 1, 2, 3],\n",
      " [5, 6, 0, 1, 2, 3, 4],\n",
      " [6, 0, 1, 2, 3, 4, 5]]\n",
      "Mult. Identity: a1\n",
      "Mult. Commutative? Yes\n",
      "Multiplicative Cayley Table (showing indices):\n",
      "[[0, 0, 0, 0, 0, 0, 0],\n",
      " [0, 1, 2, 3, 4, 5, 6],\n",
      " [0, 2, 4, 6, 1, 3, 5],\n",
      " [0, 3, 6, 2, 5, 1, 4],\n",
      " [0, 4, 1, 5, 2, 6, 3],\n",
      " [0, 5, 3, 1, 6, 4, 2],\n",
      " [0, 6, 5, 4, 3, 2, 1]]\n"
     ]
    }
   ],
   "source": [
    "rng = f7\n",
    "rng.about()"
   ]
  },
  {
   "cell_type": "code",
   "execution_count": 19,
   "id": "58d29d46",
   "metadata": {},
   "outputs": [
    {
     "name": "stdout",
     "output_type": "stream",
     "text": [
      "\n",
      "Monoid: F7.Mult\n",
      "Instance ID: 140430270613968\n",
      "Description: Multiplicative-only portion of F7\n",
      "Elements: ['a0', 'a1', 'a2', 'a3', 'a4', 'a5', 'a6']\n",
      "Identity: a1\n",
      "Associative? Yes\n",
      "Commutative? Yes\n",
      "Has Inverses? No\n",
      "Cayley Table (showing indices):\n",
      "[[0, 0, 0, 0, 0, 0, 0],\n",
      " [0, 1, 2, 3, 4, 5, 6],\n",
      " [0, 2, 4, 6, 1, 3, 5],\n",
      " [0, 3, 6, 2, 5, 1, 4],\n",
      " [0, 4, 1, 5, 2, 6, 3],\n",
      " [0, 5, 3, 1, 6, 4, 2],\n",
      " [0, 6, 5, 4, 3, 2, 1]]\n"
     ]
    }
   ],
   "source": [
    "rng_mult = f7_mult\n",
    "rng_mult.about()"
   ]
  },
  {
   "cell_type": "code",
   "execution_count": 20,
   "id": "4d08ffba",
   "metadata": {},
   "outputs": [
    {
     "data": {
      "text/plain": [
       "'a0'"
      ]
     },
     "execution_count": 20,
     "metadata": {},
     "output_type": "execute_result"
    }
   ],
   "source": [
    "add_id = rng.add_identity\n",
    "add_id"
   ]
  },
  {
   "cell_type": "code",
   "execution_count": 21,
   "id": "7eb1cceb",
   "metadata": {},
   "outputs": [],
   "source": [
    "# rng_mult = make_finite_algebra_2(\"tmp\", \"Temp\", elements, mult_table.table)"
   ]
  },
  {
   "cell_type": "code",
   "execution_count": 22,
   "id": "24fd2cff",
   "metadata": {},
   "outputs": [
    {
     "data": {
      "text/plain": [
       "['a0', 'a1', 'a2', 'a3', 'a4', 'a5', 'a6']"
      ]
     },
     "execution_count": 22,
     "metadata": {},
     "output_type": "execute_result"
    }
   ],
   "source": [
    "elems = rng_mult.elements.copy()\n",
    "elems"
   ]
  },
  {
   "cell_type": "code",
   "execution_count": 23,
   "id": "c45a5408",
   "metadata": {},
   "outputs": [
    {
     "data": {
      "text/plain": [
       "['a1', 'a2', 'a3', 'a4', 'a5', 'a6']"
      ]
     },
     "execution_count": 23,
     "metadata": {},
     "output_type": "execute_result"
    }
   ],
   "source": [
    "elems.remove(add_id)\n",
    "elems"
   ]
  },
  {
   "cell_type": "code",
   "execution_count": 24,
   "id": "0b533c8d",
   "metadata": {},
   "outputs": [
    {
     "data": {
      "text/plain": [
       "['a1', 'a2', 'a3', 'a4', 'a5', 'a6']"
      ]
     },
     "execution_count": 24,
     "metadata": {},
     "output_type": "execute_result"
    }
   ],
   "source": [
    "elems_closed = sorted(rng_mult.closure(elems))\n",
    "elems_closed"
   ]
  },
  {
   "cell_type": "code",
   "execution_count": 25,
   "id": "7e470f18",
   "metadata": {},
   "outputs": [
    {
     "data": {
      "text/plain": [
       "True"
      ]
     },
     "execution_count": 25,
     "metadata": {},
     "output_type": "execute_result"
    }
   ],
   "source": [
    "set(elems) == set(elems_closed)"
   ]
  },
  {
   "cell_type": "code",
   "execution_count": 26,
   "id": "3c0312a5",
   "metadata": {},
   "outputs": [
    {
     "data": {
      "text/plain": [
       "Group(\n",
       "'No name',\n",
       "'No description',\n",
       "['a1', 'a2', 'a3', 'a4', 'a5', 'a6'],\n",
       "[[0, 1, 2, 3, 4, 5], [1, 3, 5, 0, 2, 4], [2, 5, 1, 4, 0, 3], [3, 0, 4, 1, 5, 2], [4, 2, 0, 5, 3, 1], [5, 4, 3, 2, 1, 0]]\n",
       ")"
      ]
     },
     "execution_count": 26,
     "metadata": {},
     "output_type": "execute_result"
    }
   ],
   "source": [
    "alg = rng_mult.subalgebra_from_elements(elems)\n",
    "alg"
   ]
  },
  {
   "cell_type": "code",
   "execution_count": 27,
   "id": "bf7d0f5f",
   "metadata": {},
   "outputs": [
    {
     "data": {
      "text/plain": [
       "True"
      ]
     },
     "execution_count": 27,
     "metadata": {},
     "output_type": "execute_result"
    }
   ],
   "source": [
    "isinstance(alg, Group) and alg.is_commutative()"
   ]
  },
  {
   "cell_type": "code",
   "execution_count": null,
   "id": "959d8790",
   "metadata": {},
   "outputs": [],
   "source": []
  },
  {
   "cell_type": "code",
   "execution_count": null,
   "id": "eee50801",
   "metadata": {},
   "outputs": [],
   "source": [
    "    # def is_field(self):\n",
    "    #     \"\"\"Determine whether the Ring is actually a Field.\"\"\"\n",
    "    #     # Get the algebra defined by the multiplicative portion of the Ring\n",
    "    #     rng_mult_alg = make_finite_algebra(\"tmp\", \"Temp\", self.elements, self.mult_table.table)\n",
    "    #     # Create a copy of the element list without the additive identity element\n",
    "    #     elems = rng_mult_alg.elements.copy()\n",
    "    #     elems.remove(self.add_identity)\n",
    "    #     # Generate an algebra with the element list just created\n",
    "    #     alg = rng_mult_alg.subalgebra_from_elements(elems)\n",
    "    #     # If the algebra is a commutative Group, then this Ring is a Field\n",
    "    #     return isinstance(alg, Group) and alg.is_commutative()"
   ]
  },
  {
   "cell_type": "code",
   "execution_count": null,
   "id": "ade2a259",
   "metadata": {},
   "outputs": [],
   "source": [
    "# def is_field(rng):\n",
    "#     \"\"\"Given a Ring, determine whether it is also a Field.\"\"\"\n",
    "#     rng_mult = make_finite_algebra(\"tmp\", \"Temp\", rng.elements, rng.mult_table.table)\n",
    "#     elems = rng_mult.elements.copy()\n",
    "#     elems.remove(rng.add_identity)\n",
    "#     alg = rng_mult.subalgebra_from_elements(elems)\n",
    "#     return isinstance(alg, Group) and alg.is_commutative()\n",
    "\n",
    "# def is_field(add_id, elements, mult_table):\n",
    "#     mult_alg = make_finite_algebra(\"tmp\", \"Temp\", elements, mult_table)\n",
    "#     elems = mult_alg.elements.copy()\n",
    "#     if isinstance(add_id, int):\n",
    "#         elems.remove(elems[add_id])\n",
    "#     elif isinstance(add_id, str):\n",
    "#         elems.remove(add_id)\n",
    "#     else:\n",
    "#         raise ValueError(f\"Additive identity, {add_id}, is not an integer or string.\")\n",
    "#     alg = mult_alg.subalgebra_from_elements(elems)\n",
    "#     return isinstance(alg, Group) and alg.is_commutative()\n",
    "\n",
    "# def is_field(add_id, elements, mult_table):\n",
    "#     # mult_alg = make_finite_algebra(\"tmp\", \"Temp\", elements, mult_table)\n",
    "#     # elems = mult_alg.elements.copy()\n",
    "#     # # elems.remove(elems[add_id_index])\n",
    "#     # elems.remove(add_id)\n",
    "#     # alg = mult_alg.subalgebra_from_elements(elems)\n",
    "#     # return isinstance(alg, Group) and alg.is_commutative()\n",
    "#     return False"
   ]
  }
 ],
 "metadata": {
  "kernelspec": {
   "display_name": "Python 3",
   "language": "python",
   "name": "python3"
  },
  "language_info": {
   "codemirror_mode": {
    "name": "ipython",
    "version": 3
   },
   "file_extension": ".py",
   "mimetype": "text/x-python",
   "name": "python",
   "nbconvert_exporter": "python",
   "pygments_lexer": "ipython3",
   "version": "3.7.7"
  }
 },
 "nbformat": 4,
 "nbformat_minor": 5
}
