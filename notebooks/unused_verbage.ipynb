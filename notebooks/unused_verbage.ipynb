{
 "cells": [
  {
   "cell_type": "markdown",
   "id": "7fb366a9",
   "metadata": {},
   "source": [
    "# Unused Verbage"
   ]
  },
  {
   "cell_type": "markdown",
   "id": "93c4ab95",
   "metadata": {},
   "source": [
    "Sometimes I spend a lot of time writing something, and then, later, decide not to use it, and then even later, I change my mind and decide that I **do** want to use it.\n",
    "\n",
    "This notebook contains text that I labored to write, but later decided to \"delete\", but I can't bring myself to deleted it for good.  Not yet, at least."
   ]
  },
  {
   "cell_type": "markdown",
   "id": "01e38b18",
   "metadata": {},
   "source": [
    "## Symbol used for a binary operation"
   ]
  },
  {
   "cell_type": "markdown",
   "id": "073e05b0",
   "metadata": {},
   "source": [
    "The symbol, $\\circ$, is used here to emphasize that it is not the same as numeric addition, $+$, or multiplication, $\\times$.  It can be more abstract, and sometimes not; it depends on which group is being discussed. For this reason, other symbols might be used to describe a group's binary operation, often $+$, $\\times$, and $\\cdot$.  Very often, no symbol at all is used, e.g., $ab$ instead of $a \\circ b$. That will be the case here\n"
   ]
  },
  {
   "cell_type": "markdown",
   "id": "fade22d0",
   "metadata": {},
   "source": [
    "## Motivation for Group Definition"
   ]
  },
  {
   "cell_type": "markdown",
   "id": "a1eacf12",
   "metadata": {},
   "source": [
    "A motivation for the specific group axioms, above, is provided by considering the assumptions required to solve the simplest equation.\n",
    "\n",
    "Let $ax = b$, where $a,b,x$ are elements of a group, $G$,\n",
    "<p>and solve for $x$:</p>\n",
    "\n",
    "* from assumption #1, all of the operations here will be well-defined\n",
    "* <p>from assumption #4, $a$ has inverse $a^{-1} \\Rightarrow a^{-1}(ax) = a^{-1}b$</p>\n",
    "* <p>from assumption #2, G is associatve $\\Rightarrow (a^{-1}a)x = a^{-1}b$</p>\n",
    "* <p>from assumption #4, $a^{-1}a=e \\Rightarrow ex = a^{-1}b$</p>\n",
    "* <p>from assumption #3, $ex = x \\Rightarrow x = a^{-1}b$</p>\n",
    "\n",
    "The assumptions are exactly those that make up the group definition.\n",
    "\n",
    "Note that cummutability is not necessary."
   ]
  },
  {
   "cell_type": "markdown",
   "id": "ae587730",
   "metadata": {},
   "source": [
    "## Set Operations"
   ]
  },
  {
   "cell_type": "code",
   "execution_count": 1,
   "id": "623b9b68",
   "metadata": {},
   "outputs": [
    {
     "name": "stdout",
     "output_type": "stream",
     "text": [
      "               Union: {0, 1, 2, 3, 4, 5, 6, 8}\n",
      "        Intersection: {2, 4}\n",
      "          Difference: {0, 8, 6}\n",
      "Symmetric Difference: {0, 1, 3, 5, 6, 8}\n"
     ]
    }
   ],
   "source": [
    "A = {0, 2, 4, 6, 8}\n",
    "B = {1, 2, 3, 4, 5}\n",
    "\n",
    "print(f\"               Union: {A | B}\")\n",
    "print(f\"        Intersection: {A & B}\")\n",
    "print(f\"          Difference: {A - B}\")\n",
    "print(f\"Symmetric Difference: {A ^ B}\")"
   ]
  },
  {
   "cell_type": "code",
   "execution_count": null,
   "id": "35c0d7d7",
   "metadata": {},
   "outputs": [],
   "source": []
  }
 ],
 "metadata": {
  "kernelspec": {
   "display_name": "Python 3",
   "language": "python",
   "name": "python3"
  },
  "language_info": {
   "codemirror_mode": {
    "name": "ipython",
    "version": 3
   },
   "file_extension": ".py",
   "mimetype": "text/x-python",
   "name": "python",
   "nbconvert_exporter": "python",
   "pygments_lexer": "ipython3",
   "version": "3.7.7"
  }
 },
 "nbformat": 4,
 "nbformat_minor": 5
}
