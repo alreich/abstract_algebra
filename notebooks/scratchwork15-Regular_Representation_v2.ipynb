{
 "cells": [
  {
   "cell_type": "markdown",
   "id": "f217c120",
   "metadata": {},
   "source": [
    "# Regular Representation of a Group"
   ]
  },
  {
   "cell_type": "code",
   "execution_count": 1,
   "id": "dd8ac761",
   "metadata": {},
   "outputs": [],
   "source": [
    "import numpy as np"
   ]
  },
  {
   "cell_type": "markdown",
   "id": "987e7540",
   "metadata": {},
   "source": [
    "## Introduction"
   ]
  },
  {
   "cell_type": "markdown",
   "id": "b598a424",
   "metadata": {},
   "source": [
    "The following definition was adapted from the definition in [Georgi, 2018].\n",
    "\n",
    "A <i>representation</i> of a group, $G = \\langle A, \\circ \\rangle$, is a mapping, $V$ of the elements of $G$ onto a set of linear operators with the following properties:\n",
    "* $V(e) = \\hat{1}$, where $e$ is the group's identity element and $\\hat{1}$ is the identity operator in the space on which the linear operators act\n",
    "* $V(a_i) \\cdot V(a_j) = V(a_i \\circ a_j)$. That is, the group multiplication law (denoted by $\\circ$) is mapped onto the natural multiplication in the linear space on which the linear operators act (denoted by $\\cdot$).\n",
    "\n",
    "The <i>regular representation</i> of a group is a mapping of each group element to an $nxn$ matrix. In this case, $\\hat{1}$ is the $nxn$ identity matrix.\n",
    "\n",
    "For example, the regular representation of the cyclic group, $Z_4$, with elements, $A = \\left\\{ R_0, R_{90}, R_{180}, R_{270} \\right\\}$, consists of the mapping shown below, as a Python dictionary."
   ]
  },
  {
   "cell_type": "code",
   "execution_count": 2,
   "id": "8e945370",
   "metadata": {},
   "outputs": [],
   "source": [
    "z4_reg_rep = {\n",
    "    'R0': np.array([[1, 0, 0, 0],\n",
    "                    [0, 1, 0, 0],\n",
    "                    [0, 0, 1, 0],\n",
    "                    [0, 0, 0, 1]]),\n",
    "    'R90': np.array([[0, 0, 0, 1],\n",
    "                     [1, 0, 0, 0],\n",
    "                     [0, 1, 0, 0],\n",
    "                     [0, 0, 1, 0]]),\n",
    "    'R180': np.array([[0, 0, 1, 0],\n",
    "                      [0, 0, 0, 1],\n",
    "                      [1, 0, 0, 0],\n",
    "                      [0, 1, 0, 0]]),\n",
    "    'R270': np.array([[0, 1, 0, 0],\n",
    "                      [0, 0, 1, 0],\n",
    "                      [0, 0, 0, 1],\n",
    "                      [1, 0, 0, 0]])\n",
    "}"
   ]
  },
  {
   "cell_type": "markdown",
   "id": "33c2386c",
   "metadata": {},
   "source": [
    "## References"
   ]
  },
  {
   "cell_type": "markdown",
   "id": "cc60edb4",
   "metadata": {},
   "source": [
    "* Huang, Jiaqi (2012), <i>\"Lie Groups and their applications to Particle Physics: A Tutorial for Undergraduate Physics Majors\"</i>, [arXiv:2012.00834v1](https://arxiv.org/abs/2012.00834)\n",
    "* Georgi, Howard (2018), <i>\"Lie algebras in particle physics: from isospin to unified theories\"</i>, CRC Press, [Open Access](https://www.taylorfrancis.com/books/oa-mono/10.1201/9780429499210/lie-algebras-particle-physics-howard-georgi?context=ubx&refId=1530fefc-3778-48ae-99ec-cba2935af2fb)"
   ]
  },
  {
   "cell_type": "markdown",
   "id": "975ab9f2",
   "metadata": {},
   "source": [
    "## Theory"
   ]
  },
  {
   "cell_type": "markdown",
   "id": "cc21905f",
   "metadata": {},
   "source": [
    "The following theoretical description of the algorithm for computing a regular representation was adapted from [Huang, 2012]."
   ]
  },
  {
   "cell_type": "markdown",
   "id": "a2280e06",
   "metadata": {},
   "source": [
    "Let $G = \\langle A, \\circ \\rangle$, be a group, where $A = \\{a_0, a_1, \\dots , a_{n - 1}\\}$ is the set of the group's elements, and $\\circ$ is its binary operator."
   ]
  },
  {
   "cell_type": "markdown",
   "id": "a03b3468",
   "metadata": {},
   "source": [
    "Also, let $B = \\{\\hat{b}_0, \\hat{b}_1, \\dots , \\hat{b}_{n-1} \\}$ be a set of $nx1$ orthogonal unit vectors:\n",
    "\n",
    "$\\hat{b}_0 = \\begin{bmatrix}\n",
    "1 \\\\\n",
    "0 \\\\\n",
    "0 \\\\\n",
    "\\vdots \\\\\n",
    "0 \\end{bmatrix},\n",
    "\\hat{b}_1 = \\begin{bmatrix}\n",
    "0 \\\\\n",
    "1 \\\\\n",
    "0 \\\\\n",
    "\\vdots \\\\\n",
    "0 \\end{bmatrix},\n",
    "\\dots,\n",
    "\\hat{b}_{n-1} = \\begin{bmatrix}\n",
    "0 \\\\\n",
    "0 \\\\\n",
    "0 \\\\\n",
    "\\vdots \\\\\n",
    "1 \\end{bmatrix}$"
   ]
  },
  {
   "cell_type": "markdown",
   "id": "2618ff51",
   "metadata": {},
   "source": [
    "Define the a bijection between $A$ and $B$ as follows: $V(a_i) = \\hat{b}_i$ for $i = 0, \\dots , n - 1$.\n",
    "\n",
    "Let $\\cdot$ denote matrix-vector multiplication, and define the $nxn$ matrix,\n",
    "\n",
    "$C_k = (c^k_{ij})_{i,j=0,\\dots,n-1}$\n",
    "\n",
    "where $c^k_{ij} = \\hat{b}_i^T \\cdot V(a_k \\circ V^{-1}(\\hat{b}_j))$\n",
    "\n"
   ]
  },
  {
   "cell_type": "markdown",
   "id": "38f0ad4e",
   "metadata": {},
   "source": [
    "Then, the group, $H = \\langle R, \\cdot \\rangle$, where $R = \\{C_0, C_1, \\dots , C_{n - 1}\\}$, is the <b>regular representation</b> of the group $G = \\langle A, \\circ \\rangle$, where the mapping from group elements to operators is $V(a_i) = C_i$ for $i = 0, \\dots , n - 1$."
   ]
  },
  {
   "cell_type": "markdown",
   "id": "211e6bbf",
   "metadata": {},
   "source": [
    "Define $\\mathcal{R}$ to be a function that, given a group, produces its regular representation. That is, $\\mathcal{R}(G) = H$.\n",
    "\n",
    "The purpose of the remainder of this notebook is to develop an implementation of $\\mathcal{R}$, using the Python module, <b>finite_algebras</b>."
   ]
  },
  {
   "cell_type": "markdown",
   "id": "e0aaac14",
   "metadata": {},
   "source": [
    "## A Small Test Group"
   ]
  },
  {
   "cell_type": "code",
   "execution_count": 3,
   "id": "ebc457fb",
   "metadata": {},
   "outputs": [],
   "source": [
    "import finite_algebras as alg"
   ]
  },
  {
   "cell_type": "code",
   "execution_count": 4,
   "id": "a7d05981",
   "metadata": {},
   "outputs": [
    {
     "name": "stdout",
     "output_type": "stream",
     "text": [
      "\n",
      "** Group **\n",
      "Name: Z4\n",
      "Instance ID: 4545520912\n",
      "Description: Cyclic group of order 4\n",
      "Order: 4\n",
      "Identity: R0\n",
      "Commutative? Yes\n",
      "Cyclic?: Yes\n",
      "  Generators: ['R270', 'R90']\n",
      "Elements:\n",
      "   Index   Name   Inverse  Order\n",
      "      0      R0      R0       1\n",
      "      1     R90    R270       4\n",
      "      2    R180    R180       2\n",
      "      3    R270     R90       4\n",
      "Cayley Table (showing indices):\n",
      "[[0, 1, 2, 3], [1, 2, 3, 0], [2, 3, 0, 1], [3, 0, 1, 2]]\n"
     ]
    }
   ],
   "source": [
    "grp = alg.make_finite_algebra(\n",
    "    'Z4',\n",
    "    'Cyclic group of order 4',\n",
    "    ['R0', 'R90', 'R180', 'R270'],\n",
    "    [[0, 1, 2, 3], [1, 2, 3, 0], [2, 3, 0, 1], [3, 0, 1, 2]]\n",
    ")\n",
    "\n",
    "grp.about()"
   ]
  },
  {
   "cell_type": "code",
   "execution_count": 5,
   "id": "1717bc4c",
   "metadata": {},
   "outputs": [],
   "source": [
    "a = grp.elements\n",
    "n = grp.order"
   ]
  },
  {
   "cell_type": "markdown",
   "id": "064f7828",
   "metadata": {},
   "source": [
    "## The Bijection between Group Elements and Vectors"
   ]
  },
  {
   "cell_type": "markdown",
   "id": "0e669ed6",
   "metadata": {},
   "source": [
    "Create a list of $n$ $nx1$ orthogonal unit vectors."
   ]
  },
  {
   "cell_type": "code",
   "execution_count": 6,
   "id": "144fc2d6",
   "metadata": {},
   "outputs": [
    {
     "data": {
      "text/plain": [
       "[array([[1],\n",
       "        [0],\n",
       "        [0],\n",
       "        [0]]),\n",
       " array([[0],\n",
       "        [1],\n",
       "        [0],\n",
       "        [0]]),\n",
       " array([[0],\n",
       "        [0],\n",
       "        [1],\n",
       "        [0]]),\n",
       " array([[0],\n",
       "        [0],\n",
       "        [0],\n",
       "        [1]])]"
      ]
     },
     "execution_count": 6,
     "metadata": {},
     "output_type": "execute_result"
    }
   ],
   "source": [
    "b = [np.zeros((n,1), dtype=int) for _ in range(n)]\n",
    "\n",
    "i = 0\n",
    "for x in b:\n",
    "    x[i] = 1\n",
    "    i += 1\n",
    "    \n",
    "b"
   ]
  },
  {
   "cell_type": "markdown",
   "id": "6057b418",
   "metadata": {},
   "source": [
    "Now, map the group's elements to the vectors."
   ]
  },
  {
   "cell_type": "code",
   "execution_count": 7,
   "id": "a696bcc6",
   "metadata": {},
   "outputs": [
    {
     "data": {
      "text/plain": [
       "{'R0': array([[1],\n",
       "        [0],\n",
       "        [0],\n",
       "        [0]]),\n",
       " 'R90': array([[0],\n",
       "        [1],\n",
       "        [0],\n",
       "        [0]]),\n",
       " 'R180': array([[0],\n",
       "        [0],\n",
       "        [1],\n",
       "        [0]]),\n",
       " 'R270': array([[0],\n",
       "        [0],\n",
       "        [0],\n",
       "        [1]])}"
      ]
     },
     "execution_count": 7,
     "metadata": {},
     "output_type": "execute_result"
    }
   ],
   "source": [
    "mapping = dict(zip(a, b))\n",
    "mapping"
   ]
  },
  {
   "cell_type": "markdown",
   "id": "60ba46f6",
   "metadata": {},
   "source": [
    "The dictionary, above, maps group elements to \"vectors\" (NumPy arrays). To complete the bijection, we need another dictionary that goes in the reverse direction, \"vectors\" to group elements. However, dictionary keys must be immutable, and NumPy arrays are mutable, so the code, below, transforms NumPy arrays to tuples, which <i>are</i> immutable."
   ]
  },
  {
   "cell_type": "code",
   "execution_count": 8,
   "id": "9a340c67",
   "metadata": {},
   "outputs": [
    {
     "data": {
      "text/plain": [
       "{(1, 0, 0, 0): 'R0',\n",
       " (0, 1, 0, 0): 'R90',\n",
       " (0, 0, 1, 0): 'R180',\n",
       " (0, 0, 0, 1): 'R270'}"
      ]
     },
     "execution_count": 8,
     "metadata": {},
     "output_type": "execute_result"
    }
   ],
   "source": [
    "def to_tuple(vec):\n",
    "    '''Turns a column vector into a tuple, for use as a dictionary key.'''\n",
    "    return tuple(map(lambda x: x[0], list(vec)))\n",
    "\n",
    "inv_mapping = {to_tuple(val): key for key, val in mapping.items()}\n",
    "inv_mapping"
   ]
  },
  {
   "cell_type": "markdown",
   "id": "a5a3a034",
   "metadata": {},
   "source": [
    "Now define the bijection, $V$, and its inverse, $V^{-1}$."
   ]
  },
  {
   "cell_type": "code",
   "execution_count": 9,
   "id": "6406d3bc",
   "metadata": {},
   "outputs": [
    {
     "name": "stdout",
     "output_type": "stream",
     "text": [
      "R90\n",
      "[[0]\n",
      " [1]\n",
      " [0]\n",
      " [0]]\n",
      "R90\n"
     ]
    }
   ],
   "source": [
    "def V(elem):\n",
    "    '''Given a group element name, return the corresponding vector.'''\n",
    "    return mapping[elem]\n",
    "\n",
    "def Vinv(vec):\n",
    "    '''Given a vector, return the corresponding element.'''\n",
    "    return inv_mapping[to_tuple(vec)]\n",
    "\n",
    "elem = a[1]\n",
    "vec = V(elem)\n",
    "elem2 = Vinv(vec)\n",
    "\n",
    "print(elem)\n",
    "print(vec)\n",
    "print(elem2)"
   ]
  },
  {
   "cell_type": "markdown",
   "id": "3dc71907",
   "metadata": {},
   "source": [
    "## The Regular Representation Matrices"
   ]
  },
  {
   "cell_type": "markdown",
   "id": "7719023b",
   "metadata": {},
   "source": [
    "Now, the regular represention matrices can be derived using the formula presented in the Theory section, above,\n",
    "\n",
    "$C_k = (c^k_{ij})_{i,j=0,\\dots,n-1}$ where $c^k_{ij} = \\hat{b}_i^T \\cdot V(a_k \\circ V^{-1}(\\hat{b}_j))$"
   ]
  },
  {
   "cell_type": "code",
   "execution_count": 10,
   "id": "7d9a2c2c",
   "metadata": {
    "scrolled": true
   },
   "outputs": [
    {
     "data": {
      "text/plain": [
       "{'R0': array([[1., 0., 0., 0.],\n",
       "        [0., 1., 0., 0.],\n",
       "        [0., 0., 1., 0.],\n",
       "        [0., 0., 0., 1.]]),\n",
       " 'R90': array([[0., 0., 0., 1.],\n",
       "        [1., 0., 0., 0.],\n",
       "        [0., 1., 0., 0.],\n",
       "        [0., 0., 1., 0.]]),\n",
       " 'R180': array([[0., 0., 1., 0.],\n",
       "        [0., 0., 0., 1.],\n",
       "        [1., 0., 0., 0.],\n",
       "        [0., 1., 0., 0.]]),\n",
       " 'R270': array([[0., 1., 0., 0.],\n",
       "        [0., 0., 1., 0.],\n",
       "        [0., 0., 0., 1.],\n",
       "        [1., 0., 0., 0.]])}"
      ]
     },
     "execution_count": 10,
     "metadata": {},
     "output_type": "execute_result"
    }
   ],
   "source": [
    "reg_rep = dict()\n",
    "\n",
    "for k in range(n):\n",
    "    c_k = np.zeros((n, n))\n",
    "    for i in range(n):\n",
    "        for j in range(n):\n",
    "            c_k[i][j] = np.dot(b[i].transpose(), V(grp.op(a[k], Vinv(b[j]))))\n",
    "    reg_rep[a[k]] = c_k\n",
    "\n",
    "reg_rep"
   ]
  },
  {
   "cell_type": "markdown",
   "id": "f5dad79e",
   "metadata": {},
   "source": [
    "### Verification"
   ]
  },
  {
   "cell_type": "markdown",
   "id": "2b88671b",
   "metadata": {},
   "source": [
    "The dictionary below was entered by hand, and has the correct regular representation mapping for the test group used above."
   ]
  },
  {
   "cell_type": "markdown",
   "id": "d5a25d45",
   "metadata": {},
   "source": [
    "Test to see if each matrix, computed for <b>reg_rep</b>, equals its counterpart in <b>z4_reg_rep</b>."
   ]
  },
  {
   "cell_type": "code",
   "execution_count": 11,
   "id": "5553751e",
   "metadata": {},
   "outputs": [
    {
     "data": {
      "text/plain": [
       "True"
      ]
     },
     "execution_count": 11,
     "metadata": {},
     "output_type": "execute_result"
    }
   ],
   "source": [
    "all([np.array_equal(reg_rep[elem], z4_reg_rep[elem]) for elem in a])"
   ]
  }
 ],
 "metadata": {
  "kernelspec": {
   "display_name": "Python 3 (ipykernel)",
   "language": "python",
   "name": "python3"
  },
  "language_info": {
   "codemirror_mode": {
    "name": "ipython",
    "version": 3
   },
   "file_extension": ".py",
   "mimetype": "text/x-python",
   "name": "python",
   "nbconvert_exporter": "python",
   "pygments_lexer": "ipython3",
   "version": "3.11.5"
  }
 },
 "nbformat": 4,
 "nbformat_minor": 5
}
