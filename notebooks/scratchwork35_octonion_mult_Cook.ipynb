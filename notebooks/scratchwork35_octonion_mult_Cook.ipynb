{
 "cells": [
  {
   "cell_type": "markdown",
   "id": "0016e677",
   "metadata": {},
   "source": [
    "# Octonion Multiplication"
   ]
  },
  {
   "cell_type": "markdown",
   "id": "1ec1e6cc",
   "metadata": {},
   "source": [
    "Examples from blog posts by [John D. Cook](https://www.johndcook.com/blog/services-2/)"
   ]
  },
  {
   "cell_type": "markdown",
   "id": "8ec98832",
   "metadata": {},
   "source": [
    "## How far is xy from yx on average for quaternions? [5 July 2018](https://www.johndcook.com/blog/2018/07/05/quaternion-multiplication/)"
   ]
  },
  {
   "cell_type": "code",
   "execution_count": 1,
   "id": "7e56e302",
   "metadata": {},
   "outputs": [
    {
     "name": "stdout",
     "output_type": "stream",
     "text": [
      "1.1298974836513174\n"
     ]
    }
   ],
   "source": [
    "import numpy as np\n",
    "    \n",
    "def random_unit_quaternion():\n",
    "    x = np.random.normal(size=4)\n",
    "    return x / np.linalg.norm(x)\n",
    "    \n",
    "def mult(x, y):\n",
    "    return np.array([\n",
    "        x[0]*y[0] - x[1]*y[1] - x[2]*y[2] - x[3]*y[3],\n",
    "        x[0]*y[1] + x[1]*y[0] + x[2]*y[3] - x[3]*y[2],\n",
    "        x[0]*y[2] - x[1]*y[3] + x[2]*y[0] + x[3]*y[1],\n",
    "        x[0]*y[3] + x[1]*y[2] - x[2]*y[1] + x[3]*y[0]\n",
    "    ])\n",
    "    \n",
    "    \n",
    "N = 10000\n",
    "s = 0\n",
    "for _ in range(N):\n",
    "    x = random_unit_quaternion()\n",
    "    y = random_unit_quaternion()\n",
    "    s += np.linalg.norm(mult(x, y) - mult(y, x))\n",
    "  \n",
    "print(s/N)"
   ]
  },
  {
   "cell_type": "markdown",
   "id": "9ff8b276",
   "metadata": {},
   "source": [
    "## Weakening the requirements of a group [8 July 2018](https://www.johndcook.com/blog/2018/07/08/weak-groups/)"
   ]
  },
  {
   "cell_type": "markdown",
   "id": "d16e18da",
   "metadata": {},
   "source": [
    "## Python code for octonion and sedenion multiplication [9 July 2018](https://www.johndcook.com/blog/2018/07/09/octonioin-multiplication/)"
   ]
  },
  {
   "cell_type": "code",
   "execution_count": 2,
   "id": "4e20208e",
   "metadata": {},
   "outputs": [],
   "source": [
    "import numpy as np\n",
    "\n",
    "# quaternion multiplication\n",
    "def qmult(x, y):\n",
    "    return np.array([\n",
    "        x[0]*y[0] - x[1]*y[1] - x[2]*y[2] - x[3]*y[3],\n",
    "        x[0]*y[1] + x[1]*y[0] + x[2]*y[3] - x[3]*y[2],\n",
    "        x[0]*y[2] - x[1]*y[3] + x[2]*y[0] + x[3]*y[1],\n",
    "        x[0]*y[3] + x[1]*y[2] - x[2]*y[1] + x[3]*y[0]\n",
    "   ])\n",
    "\n",
    "# quaternion conjugate\n",
    "def qstar(x):\n",
    "    return x*np.array([1, -1, -1, -1])\n",
    "\n",
    "# octonion multiplication\n",
    "def omult(x, y):\n",
    "    # Split octonions into pairs of quaternions\n",
    "    a, b = x[:4], x[4:]\n",
    "    c, d = y[:4], y[4:]\n",
    "   \n",
    "    z = np.zeros(8)\n",
    "    z[:4] = qmult(a, c) - qmult(qstar(d), b)\n",
    "    z[4:] = qmult(d, a) + qmult(b, qstar(c))\n",
    "    return z"
   ]
  },
  {
   "cell_type": "code",
   "execution_count": 3,
   "id": "27f4e682",
   "metadata": {},
   "outputs": [],
   "source": [
    "from numpy.linalg import norm\n",
    "\n",
    "def random_unit_octonion():\n",
    "    x = np.random.normal(size=8)\n",
    "    return x / norm(x)\n",
    "\n",
    "x = random_unit_octonion()\n",
    "y = random_unit_octonion()\n",
    "z = random_unit_octonion()"
   ]
  },
  {
   "cell_type": "code",
   "execution_count": 4,
   "id": "2a321947",
   "metadata": {},
   "outputs": [
    {
     "name": "stdout",
     "output_type": "stream",
     "text": [
      "[-0.27081526  0.02633699  0.25724809 -0.00074405  0.42925884 -0.72749247\n",
      "  0.28694677 -0.25286643]\n",
      "[-0.4886542  -0.01375817 -0.62936828  0.27150134 -0.07340038  0.39324629\n",
      " -0.14854765  0.33032365]\n",
      "[ 0.51745201 -0.29500003  0.24069908 -0.0691771  -0.0820579  -0.39132859\n",
      "  0.6491547   0.03497861]\n"
     ]
    }
   ],
   "source": [
    "print(x)\n",
    "print(y)\n",
    "print(z)"
   ]
  },
  {
   "cell_type": "code",
   "execution_count": 5,
   "id": "f41da4cf",
   "metadata": {},
   "outputs": [],
   "source": [
    "eps = 1e-15\n",
    "\n",
    "# alternative identities\n",
    "\n",
    "a = omult(omult(x, x), y)\n",
    "b = omult(x, omult(x, y))\n",
    "assert( norm(a - b) < eps )\n",
    "\n",
    "a = omult(omult(x, y), y)\n",
    "b = omult(x, omult(y, y))\n",
    "assert( norm(a - b) < eps )"
   ]
  },
  {
   "cell_type": "code",
   "execution_count": 6,
   "id": "82e87077",
   "metadata": {},
   "outputs": [],
   "source": [
    "# Moufang identities\n",
    "    \n",
    "a = omult(z, omult(x, omult(z, y)))\n",
    "b = omult(omult(omult(z, x), z), y)\n",
    "assert( norm(a - b) < eps )\n",
    "\n",
    "a = omult(x, omult(z, omult(y, z)))\n",
    "b = omult(omult(omult(x, z), y), z)\n",
    "assert( norm(a - b) < eps )\n",
    "\n",
    "a = omult(omult(z,x), omult(y, z))\n",
    "b = omult(omult(z, omult(x, y)), z)\n",
    "assert( norm(a  - b) < eps )\n",
    "\n",
    "a = omult(omult(z,x), omult(y, z))\n",
    "b = omult(z, omult(omult(x, y), z))\n",
    "assert( norm(a - b) < eps )"
   ]
  },
  {
   "cell_type": "code",
   "execution_count": 7,
   "id": "0f1eadab",
   "metadata": {},
   "outputs": [],
   "source": [
    "# norm condition\n",
    "n = norm(omult(omult(x, y), z))\n",
    "assert( abs(n - 1) < eps )"
   ]
  },
  {
   "cell_type": "code",
   "execution_count": 8,
   "id": "b136179a",
   "metadata": {},
   "outputs": [],
   "source": [
    "def ostar(x):\n",
    "    mask = -np.ones(8)\n",
    "    mask[0] = 1\n",
    "    return x*mask\n",
    " \n",
    "# sedenion multiplication\n",
    "def smult(x, y):\n",
    "    # Split sedenions into pairs of octonions\n",
    "    a, b = x[:8], x[8:]\n",
    "    c, d = y[:8], y[8:]\n",
    "    z = np.zeros(16)\n",
    "    z[:8] = omult(a, c) - omult(ostar(d), b)\n",
    "    e[8:] = omult(d, a) + omult(b, ostar(c))\n",
    "    return z"
   ]
  },
  {
   "cell_type": "code",
   "execution_count": 9,
   "id": "142b69b1",
   "metadata": {},
   "outputs": [
    {
     "data": {
      "text/plain": [
       "array([-0.27081526,  0.02633699,  0.25724809, -0.00074405,  0.42925884,\n",
       "       -0.72749247,  0.28694677, -0.25286643])"
      ]
     },
     "execution_count": 9,
     "metadata": {},
     "output_type": "execute_result"
    }
   ],
   "source": [
    "x"
   ]
  },
  {
   "cell_type": "code",
   "execution_count": 10,
   "id": "8561bd9a",
   "metadata": {},
   "outputs": [
    {
     "data": {
      "text/plain": [
       "array([-0.27081526, -0.02633699, -0.25724809,  0.00074405, -0.42925884,\n",
       "        0.72749247, -0.28694677,  0.25286643])"
      ]
     },
     "execution_count": 10,
     "metadata": {},
     "output_type": "execute_result"
    }
   ],
   "source": [
    "ostar(x)"
   ]
  },
  {
   "cell_type": "markdown",
   "id": "a3984f14",
   "metadata": {},
   "source": [
    "## Refactored code for division algebras [10 July 2018](https://www.johndcook.com/blog/2018/07/10/cayley-dickson/)"
   ]
  },
  {
   "cell_type": "code",
   "execution_count": 11,
   "id": "fb2e5316",
   "metadata": {},
   "outputs": [],
   "source": [
    "def conj(x):\n",
    "        xstar = -x\n",
    "        xstar[0] *= -1\n",
    "        return xstar \n",
    "\n",
    "def CayleyDickson(x, y):\n",
    "    n = len(x)\n",
    "\n",
    "    if n == 1:\n",
    "        return x*y\n",
    "\n",
    "    m = n // 2\n",
    "\n",
    "    a, b = x[:m], x[m:]\n",
    "    c, d = y[:m], y[m:]\n",
    "    z = np.zeros(n)\n",
    "    z[:m] = CayleyDickson(a, c) - CayleyDickson(conj(d), b)\n",
    "    z[m:] = CayleyDickson(d, a) + CayleyDickson(b, conj(c))\n",
    "    return z"
   ]
  },
  {
   "cell_type": "code",
   "execution_count": 12,
   "id": "64be3f60",
   "metadata": {},
   "outputs": [
    {
     "name": "stdout",
     "output_type": "stream",
     "text": [
      "[-0.27081526  0.02633699  0.25724809 -0.00074405  0.42925884 -0.72749247\n",
      "  0.28694677 -0.25286643]\n",
      "[-0.27081526 -0.02633699 -0.25724809  0.00074405 -0.42925884  0.72749247\n",
      " -0.28694677  0.25286643]\n"
     ]
    }
   ],
   "source": [
    "print(x)\n",
    "print(conj(x))"
   ]
  },
  {
   "cell_type": "code",
   "execution_count": 13,
   "id": "3b942788",
   "metadata": {},
   "outputs": [
    {
     "name": "stdout",
     "output_type": "stream",
     "text": [
      "[ 0.73854767  0.11841479 -0.14597569  0.04180779 -0.40101854  0.2493429\n",
      " -0.04071081 -0.43911657]\n"
     ]
    }
   ],
   "source": [
    "print(CayleyDickson(x, y))"
   ]
  },
  {
   "cell_type": "markdown",
   "id": "25585f42-a956-4765-b338-65174f36f38a",
   "metadata": {},
   "source": [
    "## Scratchwork"
   ]
  },
  {
   "cell_type": "code",
   "execution_count": 14,
   "id": "262b6c69-6556-4128-ad90-70732b53f823",
   "metadata": {},
   "outputs": [],
   "source": [
    "def nparr(arr):\n",
    "    return np.array(arr)"
   ]
  },
  {
   "cell_type": "code",
   "execution_count": 15,
   "id": "5365544a-b80b-4eb8-9546-3856ead74334",
   "metadata": {},
   "outputs": [
    {
     "name": "stdout",
     "output_type": "stream",
     "text": [
      "qmult(q1, q2) = array([35, -8, 24,  5])\n",
      "CayleyDickson(q1, q2) = array([35., -8., 24.,  5.])\n"
     ]
    }
   ],
   "source": [
    "q1 = nparr([2, 3, 1, 4])\n",
    "q2 = nparr([3, -1, 2, -7])\n",
    "\n",
    "print(f\"{qmult(q1, q2) = }\")\n",
    "print(f\"{CayleyDickson(q1, q2) = }\")"
   ]
  },
  {
   "cell_type": "code",
   "execution_count": 16,
   "id": "c80e436a-c7d0-423f-8074-8f20b477ccaa",
   "metadata": {},
   "outputs": [],
   "source": [
    "# Complex multiplication (for testing)\n",
    "def cmult(x, y):\n",
    "    return np.array([x[0] * y[0] - x[1] * y[1],\n",
    "                     x[0] * y[1] + x[1] * y[0]])"
   ]
  },
  {
   "cell_type": "code",
   "execution_count": 17,
   "id": "22dd555b-2534-4e50-b01e-4b11a7c0a86d",
   "metadata": {},
   "outputs": [
    {
     "name": "stdout",
     "output_type": "stream",
     "text": [
      "cmult(c1, d1) = array([9, 7])\n",
      "CayleyDickson(c1, d1) = array([9., 7.])\n"
     ]
    }
   ],
   "source": [
    "c1 = nparr([2, 3])\n",
    "d1 = nparr([3, -1])\n",
    "\n",
    "print(f\"{cmult(c1, d1) = }\")\n",
    "print(f\"{CayleyDickson(c1, d1) = }\")"
   ]
  },
  {
   "cell_type": "code",
   "execution_count": 18,
   "id": "f48d1df3-9995-47bd-84dd-38c00c96d1cf",
   "metadata": {},
   "outputs": [],
   "source": [
    "# Three versions of Cayley-Dickson multiplication, based on versions found in the literature and online\n",
    "\n",
    "def cayley_dickson(x, y, vers=1):\n",
    "    \"\"\"Cayley-Dickson multiplication\n",
    "\n",
    "    Version 1: defined in [Schafer 1966], Encycl. of Math, & [Baez 2002]\n",
    "    Version 2: defined in Wikipedia & [Schafer 1953], and implemented by J.D. Cook\n",
    "    Version 3: No conjugation; no mu (just to see what happens here)\n",
    "\n",
    "    NOTE: In several of references an additional quantity is included in the calculation\n",
    "    (i.e., denoted by mu in Schafer 1966, by gamma in Schafer 1953, and by delta in Encycl\n",
    "    of Math). Here, the versions have been coded in a form that makes this quantity\n",
    "    essentially equal to -1.\n",
    "    \"\"\"\n",
    "    n = len(x)\n",
    "\n",
    "    if n == 1:\n",
    "        return x * y\n",
    "\n",
    "    m = n // 2\n",
    "\n",
    "    a, b = x[:m], x[m:]\n",
    "    c, d = y[:m], y[m:]\n",
    "    \n",
    "    z = np.zeros(n, dtype=int)  # Don't force conversion to floats\n",
    "\n",
    "    if vers == 1:\n",
    "        # (ac + db^, a^d + cb), where x^ denotes conjugate of x\n",
    "        z[:m] = cayley_dickson(a, c, vers) - cayley_dickson(d, conj(b), vers)\n",
    "        z[m:] = cayley_dickson(conj(a), d, vers) + cayley_dickson(c, b, vers)\n",
    "    elif vers == 2:\n",
    "        # (ac + d^b, da + bc^)\n",
    "        z[:m] = cayley_dickson(a, c, vers) - cayley_dickson(conj(d), b, vers)\n",
    "        z[m:] = cayley_dickson(d, a, vers) + cayley_dickson(b, conj(c), vers)\n",
    "    elif vers == 3:\n",
    "        # (ac + bd, ad + bc))\n",
    "        z[:m] = cayley_dickson(a, c, vers) - cayley_dickson(b, d, vers)\n",
    "        z[m:] = cayley_dickson(a, d, vers) + cayley_dickson(b, c, vers)\n",
    "    else:\n",
    "        raise ValueError(f\"{vers} must be in [1, 2, 3]\")\n",
    "    return z"
   ]
  },
  {
   "cell_type": "code",
   "execution_count": 19,
   "id": "2eb264ab-0ac0-4950-9b6a-cb2194257ce1",
   "metadata": {},
   "outputs": [
    {
     "name": "stdout",
     "output_type": "stream",
     "text": [
      "cmult(c1, d1) = array([9, 7])\n",
      "CayleyDickson(c1, d1) = array([9., 7.])\n",
      "cayley_dickson(c1, d1, 1) = array([9, 7])\n",
      "cayley_dickson(c1, d1, 2) = array([9, 7])\n",
      "cayley_dickson(c1, d1, 3) = array([9, 7])\n"
     ]
    }
   ],
   "source": [
    "print(f\"{cmult(c1, d1) = }\")\n",
    "print(f\"{CayleyDickson(c1, d1) = }\")\n",
    "print(f\"{cayley_dickson(c1, d1, 1) = }\")\n",
    "print(f\"{cayley_dickson(c1, d1, 2) = }\")\n",
    "print(f\"{cayley_dickson(c1, d1, 3) = }\")"
   ]
  },
  {
   "cell_type": "code",
   "execution_count": 20,
   "id": "78d93838-a9f0-4d72-89b1-06cce86cb1b1",
   "metadata": {},
   "outputs": [
    {
     "name": "stdout",
     "output_type": "stream",
     "text": [
      "qmult(q1, q2) = array([35, -8, 24,  5])\n",
      "CayleyDickson(q1, q2) = array([35., -8., 24.,  5.])\n",
      "cayley_dickson(q1, q2, 1) = array([ 35,  22, -10,  -9])\n",
      "cayley_dickson(q1, q2, 2) = array([35, -8, 24,  5])\n",
      "cayley_dickson(q1, q2, 3) = array([-21,   6,  32,   3])\n"
     ]
    }
   ],
   "source": [
    "print(f\"{qmult(q1, q2) = }\")\n",
    "print(f\"{CayleyDickson(q1, q2) = }\")\n",
    "print(f\"{cayley_dickson(q1, q2, 1) = }\")\n",
    "print(f\"{cayley_dickson(q1, q2, 2) = }\")\n",
    "print(f\"{cayley_dickson(q1, q2, 3) = }\")"
   ]
  },
  {
   "cell_type": "code",
   "execution_count": null,
   "id": "1ef9f6f8-941a-4236-b21f-60eb175334dd",
   "metadata": {},
   "outputs": [],
   "source": []
  }
 ],
 "metadata": {
  "kernelspec": {
   "display_name": "Python 3 (ipykernel)",
   "language": "python",
   "name": "python3"
  },
  "language_info": {
   "codemirror_mode": {
    "name": "ipython",
    "version": 3
   },
   "file_extension": ".py",
   "mimetype": "text/x-python",
   "name": "python",
   "nbconvert_exporter": "python",
   "pygments_lexer": "ipython3",
   "version": "3.11.5"
  }
 },
 "nbformat": 4,
 "nbformat_minor": 5
}
