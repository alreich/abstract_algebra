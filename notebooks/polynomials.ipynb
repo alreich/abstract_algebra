{
 "cells": [
  {
   "cell_type": "markdown",
   "id": "16a1af94",
   "metadata": {},
   "source": [
    "# Polynomials"
   ]
  },
  {
   "cell_type": "markdown",
   "id": "688f879f",
   "metadata": {},
   "source": [
    "This is an experimental notebook."
   ]
  },
  {
   "cell_type": "markdown",
   "id": "d729377a",
   "metadata": {},
   "source": [
    "# My Polynomials"
   ]
  },
  {
   "cell_type": "markdown",
   "id": "c18dd63d",
   "metadata": {},
   "source": [
    "Right now, it's all based on integer or floating point coefficients and values.\n",
    "\n",
    "I wrote this so that I can explore polynomials over non-traditional (non-numeric) algebras (e.g, Rings, Fields)"
   ]
  },
  {
   "cell_type": "code",
   "execution_count": 1,
   "id": "2d302a28",
   "metadata": {},
   "outputs": [],
   "source": [
    "from polynomials import *"
   ]
  },
  {
   "cell_type": "markdown",
   "id": "6969c4d4",
   "metadata": {},
   "source": [
    "## Polynomial Basics"
   ]
  },
  {
   "cell_type": "markdown",
   "id": "143fe6f3",
   "metadata": {},
   "source": [
    "A polynomial, ``Poly``, can be constructed from a 1D array of integers or floats that represent coefficients, where the index of a coefficient in the array is its order in the polynomial.\n",
    "\n",
    "Other methods of polynomial creation are described farther below."
   ]
  },
  {
   "cell_type": "code",
   "execution_count": 2,
   "id": "39b4e1c1",
   "metadata": {},
   "outputs": [
    {
     "data": {
      "text/plain": [
       "Poly([-2, -4, 7, 0, -3])"
      ]
     },
     "execution_count": 2,
     "metadata": {},
     "output_type": "execute_result"
    }
   ],
   "source": [
    "coeffs = [-2, -4, 7, 0, -3]\n",
    "\n",
    "p = Poly(coeffs)\n",
    "p"
   ]
  },
  {
   "cell_type": "markdown",
   "id": "bff009d1",
   "metadata": {},
   "source": [
    "By default, 'x' is assumed to be the variable in a polynomial."
   ]
  },
  {
   "cell_type": "code",
   "execution_count": 3,
   "id": "139a459f",
   "metadata": {},
   "outputs": [
    {
     "name": "stdout",
     "output_type": "stream",
     "text": [
      "-2 -4x +7x^2 -3x^4\n"
     ]
    }
   ],
   "source": [
    "print(p)"
   ]
  },
  {
   "cell_type": "markdown",
   "id": "207af5ca",
   "metadata": {},
   "source": [
    "A ``Poly`` is callable."
   ]
  },
  {
   "cell_type": "code",
   "execution_count": 4,
   "id": "871f091c",
   "metadata": {},
   "outputs": [],
   "source": [
    "a = 3  # A test value"
   ]
  },
  {
   "cell_type": "code",
   "execution_count": 5,
   "id": "13d0b38e",
   "metadata": {},
   "outputs": [
    {
     "data": {
      "text/plain": [
       "-194"
      ]
     },
     "execution_count": 5,
     "metadata": {},
     "output_type": "execute_result"
    }
   ],
   "source": [
    "p(a)"
   ]
  },
  {
   "cell_type": "markdown",
   "id": "08dc6bc7",
   "metadata": {},
   "source": [
    "Here's a check of the arithmetic in the call made, above."
   ]
  },
  {
   "cell_type": "code",
   "execution_count": 6,
   "id": "52c96a36",
   "metadata": {},
   "outputs": [
    {
     "name": "stdout",
     "output_type": "stream",
     "text": [
      "-194\n"
     ]
    }
   ],
   "source": [
    "print(-2 - 4*a + 7*a**2 - 3*a**4)"
   ]
  },
  {
   "cell_type": "markdown",
   "id": "c455e10a",
   "metadata": {},
   "source": [
    "Internally, a ``Poly`` is made up of a list of ``Terms`` and a ``varname`` (variable name string).\n",
    "\n",
    "A polynomial's term list is immutable, so it is a *property*; however, ``varname`` is a method, because it can be used to change the polynomials variable (e.g., 'x' -> 'y')"
   ]
  },
  {
   "cell_type": "code",
   "execution_count": 7,
   "id": "06bc609b",
   "metadata": {},
   "outputs": [
    {
     "data": {
      "text/plain": [
       "[Term(-2, 0), Term(-4, 1), Term(7, 2), Term(-3, 4)]"
      ]
     },
     "execution_count": 7,
     "metadata": {},
     "output_type": "execute_result"
    }
   ],
   "source": [
    "p.terms"
   ]
  },
  {
   "cell_type": "code",
   "execution_count": 8,
   "id": "b5b6dea4",
   "metadata": {},
   "outputs": [
    {
     "data": {
      "text/plain": [
       "'x'"
      ]
     },
     "execution_count": 8,
     "metadata": {},
     "output_type": "execute_result"
    }
   ],
   "source": [
    "p.varname()"
   ]
  },
  {
   "cell_type": "markdown",
   "id": "e6b1e14a",
   "metadata": {},
   "source": [
    "A ``Term`` can be retrieved, by its order, using the polynomial's ``term`` method."
   ]
  },
  {
   "cell_type": "code",
   "execution_count": 9,
   "id": "35334753",
   "metadata": {},
   "outputs": [
    {
     "data": {
      "text/plain": [
       "Term(7, 2)"
      ]
     },
     "execution_count": 9,
     "metadata": {},
     "output_type": "execute_result"
    }
   ],
   "source": [
    "t2 = p.term(2)\n",
    "t2"
   ]
  },
  {
   "cell_type": "markdown",
   "id": "4bd462b3",
   "metadata": {},
   "source": [
    "A ``Term`` consists of a *coefficient*, an *order*, and a *varname*."
   ]
  },
  {
   "cell_type": "code",
   "execution_count": 10,
   "id": "eae88a2c",
   "metadata": {},
   "outputs": [
    {
     "data": {
      "text/plain": [
       "7"
      ]
     },
     "execution_count": 10,
     "metadata": {},
     "output_type": "execute_result"
    }
   ],
   "source": [
    "t2.coefficient"
   ]
  },
  {
   "cell_type": "code",
   "execution_count": 11,
   "id": "92c173f0",
   "metadata": {},
   "outputs": [
    {
     "data": {
      "text/plain": [
       "2"
      ]
     },
     "execution_count": 11,
     "metadata": {},
     "output_type": "execute_result"
    }
   ],
   "source": [
    "t2.order"
   ]
  },
  {
   "cell_type": "markdown",
   "id": "bbfc9cf3",
   "metadata": {},
   "source": [
    "Terms have a human-readable print representation."
   ]
  },
  {
   "cell_type": "code",
   "execution_count": 12,
   "id": "bee79a1d",
   "metadata": {},
   "outputs": [
    {
     "name": "stdout",
     "output_type": "stream",
     "text": [
      "+7x^2\n"
     ]
    }
   ],
   "source": [
    "print(t2)"
   ]
  },
  {
   "cell_type": "markdown",
   "id": "3d50b0cb",
   "metadata": {},
   "source": [
    "By default, terms use 'x' as a variable name."
   ]
  },
  {
   "cell_type": "code",
   "execution_count": 13,
   "id": "801aeedc",
   "metadata": {},
   "outputs": [
    {
     "data": {
      "text/plain": [
       "'x'"
      ]
     },
     "execution_count": 13,
     "metadata": {},
     "output_type": "execute_result"
    }
   ],
   "source": [
    "t2.varname()"
   ]
  },
  {
   "cell_type": "markdown",
   "id": "21501862",
   "metadata": {},
   "source": [
    "Here's an example of a polynomial that doesn't use the default *varname* of 'x'."
   ]
  },
  {
   "cell_type": "code",
   "execution_count": 14,
   "id": "33c7f7cd",
   "metadata": {},
   "outputs": [
    {
     "data": {
      "text/plain": [
       "Poly([-2, -4, 7, 0, -3], 'y')"
      ]
     },
     "execution_count": 14,
     "metadata": {},
     "output_type": "execute_result"
    }
   ],
   "source": [
    "py = Poly(coeffs, 'y')\n",
    "py"
   ]
  },
  {
   "cell_type": "code",
   "execution_count": 15,
   "id": "8b75aea5",
   "metadata": {},
   "outputs": [
    {
     "name": "stdout",
     "output_type": "stream",
     "text": [
      "-2 -4y +7y^2 -3y^4\n"
     ]
    }
   ],
   "source": [
    "print(py)"
   ]
  },
  {
   "cell_type": "code",
   "execution_count": 16,
   "id": "9c0fa814",
   "metadata": {},
   "outputs": [
    {
     "data": {
      "text/plain": [
       "-194"
      ]
     },
     "execution_count": 16,
     "metadata": {},
     "output_type": "execute_result"
    }
   ],
   "source": [
    "py(3)"
   ]
  },
  {
   "cell_type": "code",
   "execution_count": 17,
   "id": "c43290d6",
   "metadata": {},
   "outputs": [
    {
     "data": {
      "text/plain": [
       "[Term(-2, 0, y), Term(-4, 1, y), Term(7, 2, y), Term(-3, 4, y)]"
      ]
     },
     "execution_count": 17,
     "metadata": {},
     "output_type": "execute_result"
    }
   ],
   "source": [
    "py.terms"
   ]
  },
  {
   "cell_type": "markdown",
   "id": "1676e345",
   "metadata": {},
   "source": [
    "We can check if a term is *constant*, *linear*, or *quadratic*.  If it is, then the coeffient of the term is returned, otherwise ``False`` is returned."
   ]
  },
  {
   "cell_type": "code",
   "execution_count": 18,
   "id": "8dc03453",
   "metadata": {},
   "outputs": [
    {
     "data": {
      "text/plain": [
       "False"
      ]
     },
     "execution_count": 18,
     "metadata": {},
     "output_type": "execute_result"
    }
   ],
   "source": [
    "py.terms[0].is_linear()"
   ]
  },
  {
   "cell_type": "code",
   "execution_count": 19,
   "id": "0df9af8c",
   "metadata": {},
   "outputs": [
    {
     "data": {
      "text/plain": [
       "-2"
      ]
     },
     "execution_count": 19,
     "metadata": {},
     "output_type": "execute_result"
    }
   ],
   "source": [
    "py.terms[0].is_constant()"
   ]
  },
  {
   "cell_type": "code",
   "execution_count": 20,
   "id": "df082ab5",
   "metadata": {},
   "outputs": [
    {
     "data": {
      "text/plain": [
       "7"
      ]
     },
     "execution_count": 20,
     "metadata": {},
     "output_type": "execute_result"
    }
   ],
   "source": [
    "py.terms[2].is_quadratic()"
   ]
  },
  {
   "cell_type": "markdown",
   "id": "02f14ca7",
   "metadata": {},
   "source": [
    "## Other Ways to Construct Polynomials"
   ]
  },
  {
   "cell_type": "markdown",
   "id": "9319aba1",
   "metadata": {},
   "source": [
    "### From a String Representation"
   ]
  },
  {
   "cell_type": "markdown",
   "id": "f0737a80",
   "metadata": {},
   "source": [
    "A ``Poly`` can also be constructed from a string representation of a polynomial, such as \"-2 -4x +7x^2 -3x^4\", where...\n",
    "\n",
    "* there **must** be a space between each term,\n",
    "* and, except for the first term, every term must begin with a + or - sign, and then a number, unless the number is a 1."
   ]
  },
  {
   "cell_type": "code",
   "execution_count": 21,
   "id": "cb8ea2d9",
   "metadata": {},
   "outputs": [
    {
     "name": "stdout",
     "output_type": "stream",
     "text": [
      "-2 -4x +7x^2 -3x^4\n"
     ]
    },
    {
     "data": {
      "text/plain": [
       "Poly([-2, -4, 7, 0, -3])"
      ]
     },
     "execution_count": 21,
     "metadata": {},
     "output_type": "execute_result"
    }
   ],
   "source": [
    "polystr = \"-2 -4x +7x^2 -3x^4\"\n",
    "\n",
    "p2 = Poly(polystr)\n",
    "print(p2)\n",
    "p2"
   ]
  },
  {
   "cell_type": "code",
   "execution_count": 23,
   "id": "e53ca750",
   "metadata": {},
   "outputs": [],
   "source": [
    "polystry = \"7 +3y -y^2 -9y^3\"\n",
    "\n",
    "p2y = Poly(polystry)"
   ]
  },
  {
   "cell_type": "code",
   "execution_count": 24,
   "id": "9b604341",
   "metadata": {},
   "outputs": [
    {
     "data": {
      "text/plain": [
       "[Term(7, 0, y), Term(3, 1, y), Term(-1, 2, y), Term(-9, 3, y)]"
      ]
     },
     "execution_count": 24,
     "metadata": {},
     "output_type": "execute_result"
    }
   ],
   "source": [
    "p2y.terms"
   ]
  },
  {
   "cell_type": "code",
   "execution_count": 25,
   "id": "ec76ab4a",
   "metadata": {},
   "outputs": [
    {
     "name": "stdout",
     "output_type": "stream",
     "text": [
      "+7 +3y -1y^2 -9y^3\n"
     ]
    },
    {
     "data": {
      "text/plain": [
       "Poly([7, 3, -1, -9], 'y')"
      ]
     },
     "execution_count": 25,
     "metadata": {},
     "output_type": "execute_result"
    }
   ],
   "source": [
    "print(p2y)\n",
    "p2y"
   ]
  },
  {
   "cell_type": "markdown",
   "id": "dee0c0eb",
   "metadata": {},
   "source": [
    "### From a List of Pairs (Tuples)"
   ]
  },
  {
   "cell_type": "code",
   "execution_count": 26,
   "id": "63315d61",
   "metadata": {},
   "outputs": [
    {
     "name": "stdout",
     "output_type": "stream",
     "text": [
      "-2 -4x +7x^2 -3x^4\n"
     ]
    },
    {
     "data": {
      "text/plain": [
       "Poly([-2, -4, 7, 0, -3])"
      ]
     },
     "execution_count": 26,
     "metadata": {},
     "output_type": "execute_result"
    }
   ],
   "source": [
    "coef_order_pairs_a = [(-2,0), (-4,1), (7, 2), (-3, 4)]\n",
    "\n",
    "p3a = Poly(coef_order_pairs_a)\n",
    "print(p3a)\n",
    "p3a"
   ]
  },
  {
   "cell_type": "markdown",
   "id": "afce8abe",
   "metadata": {},
   "source": [
    "### From a List of Pairs (Lists)"
   ]
  },
  {
   "cell_type": "code",
   "execution_count": 27,
   "id": "df2640d9",
   "metadata": {},
   "outputs": [
    {
     "name": "stdout",
     "output_type": "stream",
     "text": [
      "-2 -4x +7x^2 -3x^4\n"
     ]
    },
    {
     "data": {
      "text/plain": [
       "Poly([-2, -4, 7, 0, -3])"
      ]
     },
     "execution_count": 27,
     "metadata": {},
     "output_type": "execute_result"
    }
   ],
   "source": [
    "coef_order_pairs_b = [[-2,0], [-4,1], [7, 2], [-3, 4]]\n",
    "\n",
    "p3b = Poly(coef_order_pairs_b)\n",
    "print(p3b)\n",
    "p3b"
   ]
  },
  {
   "cell_type": "markdown",
   "id": "0447ff70",
   "metadata": {},
   "source": [
    "### From a List of Terms"
   ]
  },
  {
   "cell_type": "code",
   "execution_count": 28,
   "id": "b5d13e61",
   "metadata": {},
   "outputs": [
    {
     "name": "stdout",
     "output_type": "stream",
     "text": [
      "-2 -4x +7x^2 -3x^4\n"
     ]
    },
    {
     "data": {
      "text/plain": [
       "Poly([-2, -4, 7, 0, -3])"
      ]
     },
     "execution_count": 28,
     "metadata": {},
     "output_type": "execute_result"
    }
   ],
   "source": [
    "list_of_terms = [Term(-2,0), Term(-4,1), Term(7, 2), Term(-3, 4)]\n",
    "\n",
    "p4 = Poly(list_of_terms)\n",
    "print(p4)\n",
    "p4"
   ]
  },
  {
   "cell_type": "markdown",
   "id": "8db15667",
   "metadata": {},
   "source": [
    "### From a List of Roots"
   ]
  },
  {
   "cell_type": "code",
   "execution_count": 29,
   "id": "ca85e0a9",
   "metadata": {},
   "outputs": [
    {
     "name": "stdout",
     "output_type": "stream",
     "text": [
      "+6 -11x +6x^2 -1x^3\n"
     ]
    },
    {
     "data": {
      "text/plain": [
       "Poly([6, -11, 6, -1])"
      ]
     },
     "execution_count": 29,
     "metadata": {},
     "output_type": "execute_result"
    }
   ],
   "source": [
    "roots = [1, 2, 3]\n",
    "\n",
    "p5 = from_roots(roots)\n",
    "print(p5)\n",
    "p5"
   ]
  },
  {
   "cell_type": "markdown",
   "id": "5b4ff4a8",
   "metadata": {},
   "source": [
    "## Combining Like Terms"
   ]
  },
  {
   "cell_type": "markdown",
   "id": "ae746b52",
   "metadata": {},
   "source": [
    "Like terms (i.e., same order terms) are automatically combined during various polynomial operations, include the construction of polynomials."
   ]
  },
  {
   "cell_type": "code",
   "execution_count": 30,
   "id": "f92b3754",
   "metadata": {},
   "outputs": [],
   "source": [
    "test_terms = [Term(-2,0), Term(-4,1), Term(-1,0), Term(7,2), Term(-3,4), Term(-2,2)]"
   ]
  },
  {
   "cell_type": "code",
   "execution_count": 31,
   "id": "294100bc",
   "metadata": {},
   "outputs": [
    {
     "name": "stdout",
     "output_type": "stream",
     "text": [
      "[Term(-2, 0), Term(-4, 1), Term(-1, 0), Term(7, 2), Term(-3, 4), Term(-2, 2)]\n",
      "[Term(-3, 0), Term(-4, 1), Term(5, 2), Term(-3, 4)]\n"
     ]
    }
   ],
   "source": [
    "print(test_terms)\n",
    "print(combine_like_terms(test_terms))"
   ]
  },
  {
   "cell_type": "code",
   "execution_count": 32,
   "id": "ade8f849",
   "metadata": {},
   "outputs": [
    {
     "name": "stdout",
     "output_type": "stream",
     "text": [
      "-3 -4x +5x^2 -3x^4\n"
     ]
    },
    {
     "data": {
      "text/plain": [
       "Poly([-3, -4, 5, 0, -3])"
      ]
     },
     "execution_count": 32,
     "metadata": {},
     "output_type": "execute_result"
    }
   ],
   "source": [
    "polystr2 = \"-2 -4x -1 +7x^2 -3x^4 -2x^2\"\n",
    "p2 = Poly(polystr2)\n",
    "print(p2)\n",
    "p2"
   ]
  },
  {
   "cell_type": "code",
   "execution_count": 33,
   "id": "817c27f6",
   "metadata": {},
   "outputs": [
    {
     "name": "stdout",
     "output_type": "stream",
     "text": [
      "0\n"
     ]
    },
    {
     "data": {
      "text/plain": [
       "Poly([0])"
      ]
     },
     "execution_count": 33,
     "metadata": {},
     "output_type": "execute_result"
    }
   ],
   "source": [
    "polystr3 = \"-2 +3x^4 -4x +2 +7x^2 +4x -3x^4 -7x^2\"\n",
    "p3 = Poly(polystr3)\n",
    "print(p3)\n",
    "p3"
   ]
  },
  {
   "cell_type": "markdown",
   "id": "4b0eb608",
   "metadata": {},
   "source": [
    "## Testing Some Polynomial Strings"
   ]
  },
  {
   "cell_type": "code",
   "execution_count": 34,
   "id": "87587190",
   "metadata": {},
   "outputs": [
    {
     "name": "stdout",
     "output_type": "stream",
     "text": [
      "-2 -4x +7x^2 -3x^4\n"
     ]
    },
    {
     "data": {
      "text/plain": [
       "[Term(-2, 0), Term(-4, 1), Term(7, 2), Term(-3, 4)]"
      ]
     },
     "execution_count": 34,
     "metadata": {},
     "output_type": "execute_result"
    }
   ],
   "source": [
    "polystr = \"-2 -4x^1 +7x^2 -3x^4\"  # Added '^1' to linear term\n",
    "\n",
    "p = Poly(polystr)\n",
    "print(p)\n",
    "p.terms"
   ]
  },
  {
   "cell_type": "code",
   "execution_count": 35,
   "id": "d30a47a6",
   "metadata": {},
   "outputs": [
    {
     "name": "stdout",
     "output_type": "stream",
     "text": [
      "-2 -4x +7x^2 -3x^4\n"
     ]
    },
    {
     "data": {
      "text/plain": [
       "[Term(-2, 0), Term(-4, 1), Term(7, 2), Term(-3, 4)]"
      ]
     },
     "execution_count": 35,
     "metadata": {},
     "output_type": "execute_result"
    }
   ],
   "source": [
    "polystr = \"-2x^0 -4x^1 +7x^2 -3x^4\"  # Added 'x^0' to constant term\n",
    "\n",
    "p = Poly(polystr)\n",
    "print(p)\n",
    "p.terms"
   ]
  },
  {
   "cell_type": "code",
   "execution_count": 36,
   "id": "26d56e1b",
   "metadata": {},
   "outputs": [
    {
     "name": "stdout",
     "output_type": "stream",
     "text": [
      "-2 -4x +7x^2 -3x^4\n"
     ]
    },
    {
     "data": {
      "text/plain": [
       "[Term(-2, 0), Term(-4, 1), Term(7, 2), Term(-3, 4)]"
      ]
     },
     "execution_count": 36,
     "metadata": {},
     "output_type": "execute_result"
    }
   ],
   "source": [
    "polystr = \"-4x -2 -3x^4 +7x^2\"  #  Terms not in order \n",
    "\n",
    "p = Poly(polystr)\n",
    "print(p)\n",
    "p.terms"
   ]
  },
  {
   "cell_type": "code",
   "execution_count": 37,
   "id": "44afa013",
   "metadata": {},
   "outputs": [
    {
     "name": "stdout",
     "output_type": "stream",
     "text": [
      "-1 -1x +7x^2 -3x^4\n"
     ]
    },
    {
     "data": {
      "text/plain": [
       "[Term(-1, 0), Term(-1, 1), Term(7, 2), Term(-3, 4)]"
      ]
     },
     "execution_count": 37,
     "metadata": {},
     "output_type": "execute_result"
    }
   ],
   "source": [
    "polystr = \"2 -x -3 +7x^2 -3x^4\"  # No coefficient on linear term, 'x'\n",
    "\n",
    "p = Poly(polystr)\n",
    "print(p)\n",
    "p.terms"
   ]
  },
  {
   "cell_type": "code",
   "execution_count": 38,
   "id": "f60725c1",
   "metadata": {},
   "outputs": [
    {
     "name": "stdout",
     "output_type": "stream",
     "text": [
      "-1 +7x^2 -3x^4\n"
     ]
    },
    {
     "data": {
      "text/plain": [
       "[Term(-1, 0), Term(7, 2), Term(-3, 4)]"
      ]
     },
     "execution_count": 38,
     "metadata": {},
     "output_type": "execute_result"
    }
   ],
   "source": [
    "polystr = \"2 -x -3 +7x^2 +x -3x^4\"  # linear terms cancel\n",
    "\n",
    "p = Poly(polystr)\n",
    "print(p)\n",
    "p.terms"
   ]
  },
  {
   "cell_type": "code",
   "execution_count": 39,
   "id": "586f90df",
   "metadata": {},
   "outputs": [
    {
     "name": "stdout",
     "output_type": "stream",
     "text": [
      "-3\n"
     ]
    },
    {
     "data": {
      "text/plain": [
       "[Term(-3, 0)]"
      ]
     },
     "execution_count": 39,
     "metadata": {},
     "output_type": "execute_result"
    }
   ],
   "source": [
    "polystr = \"-4x^2 -x -3 +7x^2 +x -3x^2\"  # Quadratic terms collapse and cancel\n",
    "\n",
    "p = Poly(polystr)\n",
    "print(p)\n",
    "p.terms"
   ]
  },
  {
   "cell_type": "markdown",
   "id": "58be276a",
   "metadata": {},
   "source": [
    "## Polynomial Arithmetic"
   ]
  },
  {
   "cell_type": "markdown",
   "id": "4903c13a",
   "metadata": {},
   "source": [
    "Polynomials can be added, subtracted, multiplied, negated, and raised to a positive integer power."
   ]
  },
  {
   "cell_type": "code",
   "execution_count": 40,
   "id": "94d67ae4",
   "metadata": {},
   "outputs": [
    {
     "name": "stdout",
     "output_type": "stream",
     "text": [
      "q1 = +1 +2x\n",
      "q2 = +1 -2x\n"
     ]
    }
   ],
   "source": [
    "q1 = Poly('1 +2x')\n",
    "print(f\"q1 = {q1}\")\n",
    "\n",
    "q2 = Poly('1 -2x')\n",
    "print(f\"q2 = {q2}\")"
   ]
  },
  {
   "cell_type": "code",
   "execution_count": 41,
   "id": "8d2ca4ae",
   "metadata": {},
   "outputs": [
    {
     "name": "stdout",
     "output_type": "stream",
     "text": [
      "(+1 +2x) + (+1 -2x) = +2\n"
     ]
    }
   ],
   "source": [
    "print(f\"({q1}) + ({q2}) = {q1 + q2}\")"
   ]
  },
  {
   "cell_type": "code",
   "execution_count": 42,
   "id": "241aff03",
   "metadata": {},
   "outputs": [
    {
     "name": "stdout",
     "output_type": "stream",
     "text": [
      "(+1 +2x) - (+1 -2x) = +4x\n"
     ]
    }
   ],
   "source": [
    "print(f\"({q1}) - ({q2}) = {q1 - q2}\")"
   ]
  },
  {
   "cell_type": "code",
   "execution_count": 43,
   "id": "dfcdaf4b",
   "metadata": {},
   "outputs": [
    {
     "name": "stdout",
     "output_type": "stream",
     "text": [
      "(+1 +2x) * (+1 -2x) = +1 -4x^2\n"
     ]
    }
   ],
   "source": [
    "print(f\"({q1}) * ({q2}) = {q1 * q2}\")"
   ]
  },
  {
   "cell_type": "code",
   "execution_count": 44,
   "id": "09529b2b",
   "metadata": {},
   "outputs": [
    {
     "name": "stdout",
     "output_type": "stream",
     "text": [
      "(+1 +2x) * (+1 +2x) = +1 +4x +4x^2\n"
     ]
    }
   ],
   "source": [
    "print(f\"({q1}) * ({q1}) = {q1 * q1}\")"
   ]
  },
  {
   "cell_type": "code",
   "execution_count": 45,
   "id": "3ff1c9db",
   "metadata": {},
   "outputs": [
    {
     "name": "stdout",
     "output_type": "stream",
     "text": [
      "(+1 -2x) * (+1 -2x) = +1 -4x +4x^2\n"
     ]
    }
   ],
   "source": [
    "print(f\"({q2}) * ({q2}) = {q2 * q2}\")"
   ]
  },
  {
   "cell_type": "code",
   "execution_count": 46,
   "id": "a51193a8",
   "metadata": {},
   "outputs": [
    {
     "name": "stdout",
     "output_type": "stream",
     "text": [
      "-(+1 +2x) = -1 -2x\n"
     ]
    }
   ],
   "source": [
    "print(f\"-({q1}) = {-q1}\")"
   ]
  },
  {
   "cell_type": "code",
   "execution_count": 47,
   "id": "bbe13714",
   "metadata": {},
   "outputs": [
    {
     "name": "stdout",
     "output_type": "stream",
     "text": [
      "-(+1 -2x) = -1 +2x\n"
     ]
    }
   ],
   "source": [
    "print(f\"-({q2}) = {-q2}\")"
   ]
  },
  {
   "cell_type": "code",
   "execution_count": 50,
   "id": "b68d7e90",
   "metadata": {},
   "outputs": [
    {
     "name": "stdout",
     "output_type": "stream",
     "text": [
      "(+1 +2x)**2 = +1 +4x +4x^2\n"
     ]
    }
   ],
   "source": [
    "print(f\"({q1})**2 = {q1**2}\")"
   ]
  },
  {
   "cell_type": "code",
   "execution_count": 51,
   "id": "fa3f3b8e",
   "metadata": {},
   "outputs": [
    {
     "name": "stdout",
     "output_type": "stream",
     "text": [
      "(+1 -2x)**2 = +1 -4x +4x^2\n"
     ]
    }
   ],
   "source": [
    "print(f\"({q2})**2 = {q2**2}\")"
   ]
  },
  {
   "cell_type": "markdown",
   "id": "5acef6be",
   "metadata": {},
   "source": [
    "## Polynomial Representation"
   ]
  },
  {
   "cell_type": "markdown",
   "id": "cda65e03",
   "metadata": {},
   "source": [
    "The representation of a polynomial changes between two options, depending the estimated length of the representation.  The representation heuristic tries to produce the shortest representation possible, while still allow it to be one that can be used to recreate the polynomial."
   ]
  },
  {
   "cell_type": "code",
   "execution_count": 52,
   "id": "3a6e342b",
   "metadata": {},
   "outputs": [
    {
     "data": {
      "text/plain": [
       "Poly([(1, 0), (7, 19)])"
      ]
     },
     "execution_count": 52,
     "metadata": {},
     "output_type": "execute_result"
    }
   ],
   "source": [
    "coeffs1 = [1, 0, 0, 0, 0, 0, 0, 0, 0, 0, 0, 0, 0, 0, 0, 0, 0, 0, 0, 7]\n",
    "p_large_order1 = Poly(coeffs1)\n",
    "p_large_order1"
   ]
  },
  {
   "cell_type": "code",
   "execution_count": 53,
   "id": "62046f0f",
   "metadata": {},
   "outputs": [
    {
     "data": {
      "text/plain": [
       "Poly([(1, 0), (7, 6)])"
      ]
     },
     "execution_count": 53,
     "metadata": {},
     "output_type": "execute_result"
    }
   ],
   "source": [
    "coeffs2 = [1, 0, 0, 0, 0, 0, 7]\n",
    "p_large_order2 = Poly(coeffs2)\n",
    "p_large_order2"
   ]
  },
  {
   "cell_type": "code",
   "execution_count": 54,
   "id": "c9a74da9",
   "metadata": {},
   "outputs": [
    {
     "data": {
      "text/plain": [
       "Poly([1, 0, 0, 0, 0, 7])"
      ]
     },
     "execution_count": 54,
     "metadata": {},
     "output_type": "execute_result"
    }
   ],
   "source": [
    "coeffs3 = [1, 0, 0, 0, 0, 7]\n",
    "p_large_order3 = Poly(coeffs3)\n",
    "p_large_order3"
   ]
  },
  {
   "cell_type": "markdown",
   "id": "8289e2b2",
   "metadata": {},
   "source": [
    "## Using Floats"
   ]
  },
  {
   "cell_type": "markdown",
   "id": "bfb7d9d4",
   "metadata": {},
   "source": [
    "Polynomial coefficients can be floats, as well as integers, or a mix of the two."
   ]
  },
  {
   "cell_type": "code",
   "execution_count": 55,
   "id": "b28f5ff7",
   "metadata": {},
   "outputs": [
    {
     "name": "stdout",
     "output_type": "stream",
     "text": [
      "-2.2 -4x +7.3x^2 -3x^4\n"
     ]
    },
    {
     "data": {
      "text/plain": [
       "Poly([-2.2, -4, 7.3, 0, -3])"
      ]
     },
     "execution_count": 55,
     "metadata": {},
     "output_type": "execute_result"
    }
   ],
   "source": [
    "coeffs = [-2.2, -4, 7.3, -0.0, -3]\n",
    "\n",
    "p1 = Poly(coeffs)\n",
    "print(p1)\n",
    "p1"
   ]
  },
  {
   "cell_type": "code",
   "execution_count": 56,
   "id": "db423650",
   "metadata": {},
   "outputs": [
    {
     "name": "stdout",
     "output_type": "stream",
     "text": [
      "-2.2 -4x +7.3x^2 -3x^4\n"
     ]
    },
    {
     "data": {
      "text/plain": [
       "Poly([-2.2, -4, 7.3, 0, -3])"
      ]
     },
     "execution_count": 56,
     "metadata": {},
     "output_type": "execute_result"
    }
   ],
   "source": [
    "p2 = Poly('-2.2 -4x +7.3x^2 -3x^4')\n",
    "print(p2)\n",
    "p2"
   ]
  },
  {
   "cell_type": "markdown",
   "id": "468800b9",
   "metadata": {},
   "source": [
    "## Polynomial Derivatives and Antiderivatives"
   ]
  },
  {
   "cell_type": "code",
   "execution_count": 57,
   "id": "8acac016",
   "metadata": {},
   "outputs": [
    {
     "name": "stdout",
     "output_type": "stream",
     "text": [
      "-2.2 -4x +7.3x^2 -3x^4\n",
      "-4 +14.6x -12x^3\n"
     ]
    }
   ],
   "source": [
    "print(p1)\n",
    "p1_der = p1.derivative()\n",
    "print(p1_der)"
   ]
  },
  {
   "cell_type": "code",
   "execution_count": 58,
   "id": "fed40746",
   "metadata": {},
   "outputs": [
    {
     "name": "stdout",
     "output_type": "stream",
     "text": [
      "+111 -4.0x +7.3x^2 -3.0x^4\n"
     ]
    }
   ],
   "source": [
    "p1_der_antider = p1_der.antiderivative(111)\n",
    "print(p1_der_antider)"
   ]
  },
  {
   "cell_type": "markdown",
   "id": "8953212c",
   "metadata": {},
   "source": [
    "## Scratchwork"
   ]
  },
  {
   "cell_type": "code",
   "execution_count": 73,
   "id": "22829519",
   "metadata": {},
   "outputs": [
    {
     "name": "stdout",
     "output_type": "stream",
     "text": [
      "r = -3 +2x +7x^2\n"
     ]
    }
   ],
   "source": [
    "r = Poly('-3 +2x +7x^2')\n",
    "print(f\"r = {r}\")"
   ]
  },
  {
   "cell_type": "code",
   "execution_count": 74,
   "id": "709e612f",
   "metadata": {},
   "outputs": [
    {
     "name": "stdout",
     "output_type": "stream",
     "text": [
      "s = +5 +4y\n"
     ]
    }
   ],
   "source": [
    "s = Poly('5 +4y', 'y')\n",
    "print(f\"s = {s}\")"
   ]
  },
  {
   "cell_type": "code",
   "execution_count": 76,
   "id": "dd1cc8a8",
   "metadata": {},
   "outputs": [
    {
     "name": "stdout",
     "output_type": "stream",
     "text": [
      "-6 +4x +14x^2\n"
     ]
    }
   ],
   "source": [
    "print(2*r)"
   ]
  },
  {
   "cell_type": "code",
   "execution_count": 77,
   "id": "5b973327",
   "metadata": {},
   "outputs": [
    {
     "name": "stdout",
     "output_type": "stream",
     "text": [
      "-6 +4x +14x^2\n"
     ]
    }
   ],
   "source": [
    "print(r*2)"
   ]
  },
  {
   "cell_type": "code",
   "execution_count": 78,
   "id": "af1bcccc",
   "metadata": {},
   "outputs": [
    {
     "name": "stdout",
     "output_type": "stream",
     "text": [
      "-7 +8x +28x^2\n"
     ]
    }
   ],
   "source": [
    "print(s(r))"
   ]
  },
  {
   "cell_type": "code",
   "execution_count": 79,
   "id": "37e3b114",
   "metadata": {},
   "outputs": [
    {
     "ename": "ValueError",
     "evalue": "Mult: Variables must be the same, x != y",
     "output_type": "error",
     "traceback": [
      "\u001b[0;31m---------------------------------------------------------------------------\u001b[0m",
      "\u001b[0;31mValueError\u001b[0m                                Traceback (most recent call last)",
      "\u001b[0;32m/var/folders/jb/k6t8_tx135q328w99173mr680000gn/T/ipykernel_19555/79012391.py\u001b[0m in \u001b[0;36m<module>\u001b[0;34m\u001b[0m\n\u001b[0;32m----> 1\u001b[0;31m \u001b[0mprint\u001b[0m\u001b[0;34m(\u001b[0m\u001b[0mr\u001b[0m\u001b[0;34m(\u001b[0m\u001b[0ms\u001b[0m\u001b[0;34m)\u001b[0m\u001b[0;34m)\u001b[0m\u001b[0;34m\u001b[0m\u001b[0;34m\u001b[0m\u001b[0m\n\u001b[0m",
      "\u001b[0;32m~/Documents/Programming/Python/Repos/abstract_algebra/src/polynomials.py\u001b[0m in \u001b[0;36m__call__\u001b[0;34m(self, x)\u001b[0m\n\u001b[1;32m    254\u001b[0m \u001b[0;34m\u001b[0m\u001b[0m\n\u001b[1;32m    255\u001b[0m     \u001b[0;32mdef\u001b[0m \u001b[0m__call__\u001b[0m\u001b[0;34m(\u001b[0m\u001b[0mself\u001b[0m\u001b[0;34m,\u001b[0m \u001b[0mx\u001b[0m\u001b[0;34m)\u001b[0m\u001b[0;34m:\u001b[0m\u001b[0;34m\u001b[0m\u001b[0;34m\u001b[0m\u001b[0m\n\u001b[0;32m--> 256\u001b[0;31m         \u001b[0;32mreturn\u001b[0m \u001b[0mfnc\u001b[0m\u001b[0;34m.\u001b[0m\u001b[0mreduce\u001b[0m\u001b[0;34m(\u001b[0m\u001b[0;32mlambda\u001b[0m \u001b[0ma\u001b[0m\u001b[0;34m,\u001b[0m \u001b[0mb\u001b[0m\u001b[0;34m:\u001b[0m \u001b[0ma\u001b[0m \u001b[0;34m+\u001b[0m \u001b[0mb\u001b[0m\u001b[0;34m,\u001b[0m \u001b[0mmap\u001b[0m\u001b[0;34m(\u001b[0m\u001b[0;32mlambda\u001b[0m \u001b[0mterm\u001b[0m\u001b[0;34m:\u001b[0m \u001b[0mterm\u001b[0m\u001b[0;34m(\u001b[0m\u001b[0mx\u001b[0m\u001b[0;34m)\u001b[0m\u001b[0;34m,\u001b[0m \u001b[0mself\u001b[0m\u001b[0;34m.\u001b[0m\u001b[0m__terms\u001b[0m\u001b[0;34m)\u001b[0m\u001b[0;34m)\u001b[0m\u001b[0;34m\u001b[0m\u001b[0;34m\u001b[0m\u001b[0m\n\u001b[0m\u001b[1;32m    257\u001b[0m \u001b[0;34m\u001b[0m\u001b[0m\n\u001b[1;32m    258\u001b[0m     \u001b[0;32mdef\u001b[0m \u001b[0m__add__\u001b[0m\u001b[0;34m(\u001b[0m\u001b[0mself\u001b[0m\u001b[0;34m,\u001b[0m \u001b[0mother\u001b[0m\u001b[0;34m)\u001b[0m\u001b[0;34m:\u001b[0m\u001b[0;34m\u001b[0m\u001b[0;34m\u001b[0m\u001b[0m\n",
      "\u001b[0;32m~/Documents/Programming/Python/Repos/abstract_algebra/src/polynomials.py\u001b[0m in \u001b[0;36m<lambda>\u001b[0;34m(term)\u001b[0m\n\u001b[1;32m    254\u001b[0m \u001b[0;34m\u001b[0m\u001b[0m\n\u001b[1;32m    255\u001b[0m     \u001b[0;32mdef\u001b[0m \u001b[0m__call__\u001b[0m\u001b[0;34m(\u001b[0m\u001b[0mself\u001b[0m\u001b[0;34m,\u001b[0m \u001b[0mx\u001b[0m\u001b[0;34m)\u001b[0m\u001b[0;34m:\u001b[0m\u001b[0;34m\u001b[0m\u001b[0;34m\u001b[0m\u001b[0m\n\u001b[0;32m--> 256\u001b[0;31m         \u001b[0;32mreturn\u001b[0m \u001b[0mfnc\u001b[0m\u001b[0;34m.\u001b[0m\u001b[0mreduce\u001b[0m\u001b[0;34m(\u001b[0m\u001b[0;32mlambda\u001b[0m \u001b[0ma\u001b[0m\u001b[0;34m,\u001b[0m \u001b[0mb\u001b[0m\u001b[0;34m:\u001b[0m \u001b[0ma\u001b[0m \u001b[0;34m+\u001b[0m \u001b[0mb\u001b[0m\u001b[0;34m,\u001b[0m \u001b[0mmap\u001b[0m\u001b[0;34m(\u001b[0m\u001b[0;32mlambda\u001b[0m \u001b[0mterm\u001b[0m\u001b[0;34m:\u001b[0m \u001b[0mterm\u001b[0m\u001b[0;34m(\u001b[0m\u001b[0mx\u001b[0m\u001b[0;34m)\u001b[0m\u001b[0;34m,\u001b[0m \u001b[0mself\u001b[0m\u001b[0;34m.\u001b[0m\u001b[0m__terms\u001b[0m\u001b[0;34m)\u001b[0m\u001b[0;34m)\u001b[0m\u001b[0;34m\u001b[0m\u001b[0;34m\u001b[0m\u001b[0m\n\u001b[0m\u001b[1;32m    257\u001b[0m \u001b[0;34m\u001b[0m\u001b[0m\n\u001b[1;32m    258\u001b[0m     \u001b[0;32mdef\u001b[0m \u001b[0m__add__\u001b[0m\u001b[0;34m(\u001b[0m\u001b[0mself\u001b[0m\u001b[0;34m,\u001b[0m \u001b[0mother\u001b[0m\u001b[0;34m)\u001b[0m\u001b[0;34m:\u001b[0m\u001b[0;34m\u001b[0m\u001b[0;34m\u001b[0m\u001b[0m\n",
      "\u001b[0;32m~/Documents/Programming/Python/Repos/abstract_algebra/src/polynomials.py\u001b[0m in \u001b[0;36m__call__\u001b[0;34m(self, x)\u001b[0m\n\u001b[1;32m     47\u001b[0m     \u001b[0;32mdef\u001b[0m \u001b[0m__call__\u001b[0m\u001b[0;34m(\u001b[0m\u001b[0mself\u001b[0m\u001b[0;34m,\u001b[0m \u001b[0mx\u001b[0m\u001b[0;34m)\u001b[0m\u001b[0;34m:\u001b[0m\u001b[0;34m\u001b[0m\u001b[0;34m\u001b[0m\u001b[0m\n\u001b[1;32m     48\u001b[0m         \u001b[0;34m\"\"\"Compute and return the value of the term for x\"\"\"\u001b[0m\u001b[0;34m\u001b[0m\u001b[0;34m\u001b[0m\u001b[0m\n\u001b[0;32m---> 49\u001b[0;31m         \u001b[0;32mreturn\u001b[0m \u001b[0mself\u001b[0m\u001b[0;34m.\u001b[0m\u001b[0m__coefficient\u001b[0m \u001b[0;34m*\u001b[0m \u001b[0;34m(\u001b[0m\u001b[0mx\u001b[0m \u001b[0;34m**\u001b[0m \u001b[0mself\u001b[0m\u001b[0;34m.\u001b[0m\u001b[0m__order\u001b[0m\u001b[0;34m)\u001b[0m\u001b[0;34m\u001b[0m\u001b[0;34m\u001b[0m\u001b[0m\n\u001b[0m\u001b[1;32m     50\u001b[0m \u001b[0;34m\u001b[0m\u001b[0m\n\u001b[1;32m     51\u001b[0m     \u001b[0;32mdef\u001b[0m \u001b[0m__add__\u001b[0m\u001b[0;34m(\u001b[0m\u001b[0mself\u001b[0m\u001b[0;34m,\u001b[0m \u001b[0mother\u001b[0m\u001b[0;34m)\u001b[0m\u001b[0;34m:\u001b[0m\u001b[0;34m\u001b[0m\u001b[0;34m\u001b[0m\u001b[0m\n",
      "\u001b[0;32m~/Documents/Programming/Python/Repos/abstract_algebra/src/polynomials.py\u001b[0m in \u001b[0;36m__mul__\u001b[0;34m(self, other)\u001b[0m\n\u001b[1;32m    274\u001b[0m     \u001b[0;32mdef\u001b[0m \u001b[0m__mul__\u001b[0m\u001b[0;34m(\u001b[0m\u001b[0mself\u001b[0m\u001b[0;34m,\u001b[0m \u001b[0mother\u001b[0m\u001b[0;34m)\u001b[0m\u001b[0;34m:\u001b[0m\u001b[0;34m\u001b[0m\u001b[0;34m\u001b[0m\u001b[0m\n\u001b[1;32m    275\u001b[0m         \u001b[0;32mif\u001b[0m \u001b[0misinstance\u001b[0m\u001b[0;34m(\u001b[0m\u001b[0mother\u001b[0m\u001b[0;34m,\u001b[0m \u001b[0mint\u001b[0m\u001b[0;34m)\u001b[0m \u001b[0;32mor\u001b[0m \u001b[0misinstance\u001b[0m\u001b[0;34m(\u001b[0m\u001b[0mother\u001b[0m\u001b[0;34m,\u001b[0m \u001b[0mfloat\u001b[0m\u001b[0;34m)\u001b[0m\u001b[0;34m:\u001b[0m\u001b[0;34m\u001b[0m\u001b[0;34m\u001b[0m\u001b[0m\n\u001b[0;32m--> 276\u001b[0;31m             \u001b[0;32mreturn\u001b[0m \u001b[0mself\u001b[0m\u001b[0;34m.\u001b[0m\u001b[0m__mul__\u001b[0m\u001b[0;34m(\u001b[0m\u001b[0mPoly\u001b[0m\u001b[0;34m(\u001b[0m\u001b[0;34m[\u001b[0m\u001b[0mother\u001b[0m\u001b[0;34m,\u001b[0m \u001b[0;36m0\u001b[0m\u001b[0;34m]\u001b[0m\u001b[0;34m,\u001b[0m \u001b[0mself\u001b[0m\u001b[0;34m.\u001b[0m\u001b[0mvarname\u001b[0m\u001b[0;34m(\u001b[0m\u001b[0;34m)\u001b[0m\u001b[0;34m)\u001b[0m\u001b[0;34m)\u001b[0m\u001b[0;34m\u001b[0m\u001b[0;34m\u001b[0m\u001b[0m\n\u001b[0m\u001b[1;32m    277\u001b[0m         \u001b[0;32melif\u001b[0m \u001b[0mself\u001b[0m\u001b[0;34m.\u001b[0m\u001b[0m__varname\u001b[0m \u001b[0;34m==\u001b[0m \u001b[0mother\u001b[0m\u001b[0;34m.\u001b[0m\u001b[0mvarname\u001b[0m\u001b[0;34m(\u001b[0m\u001b[0;34m)\u001b[0m\u001b[0;34m:\u001b[0m\u001b[0;34m\u001b[0m\u001b[0;34m\u001b[0m\u001b[0m\n\u001b[1;32m    278\u001b[0m             \u001b[0mprod_terms\u001b[0m \u001b[0;34m=\u001b[0m \u001b[0mlist\u001b[0m\u001b[0;34m(\u001b[0m\u001b[0;34m)\u001b[0m\u001b[0;34m\u001b[0m\u001b[0;34m\u001b[0m\u001b[0m\n",
      "\u001b[0;32m~/Documents/Programming/Python/Repos/abstract_algebra/src/polynomials.py\u001b[0m in \u001b[0;36m__mul__\u001b[0;34m(self, other)\u001b[0m\n\u001b[1;32m    278\u001b[0m             \u001b[0mprod_terms\u001b[0m \u001b[0;34m=\u001b[0m \u001b[0mlist\u001b[0m\u001b[0;34m(\u001b[0m\u001b[0;34m)\u001b[0m\u001b[0;34m\u001b[0m\u001b[0;34m\u001b[0m\u001b[0m\n\u001b[1;32m    279\u001b[0m             \u001b[0;32mfor\u001b[0m \u001b[0mt1\u001b[0m \u001b[0;32min\u001b[0m \u001b[0mself\u001b[0m\u001b[0;34m.\u001b[0m\u001b[0m__terms\u001b[0m\u001b[0;34m:\u001b[0m\u001b[0;34m\u001b[0m\u001b[0;34m\u001b[0m\u001b[0m\n\u001b[0;32m--> 280\u001b[0;31m                 \u001b[0mprod_terms\u001b[0m \u001b[0;34m+=\u001b[0m \u001b[0;34m[\u001b[0m\u001b[0mt1\u001b[0m \u001b[0;34m*\u001b[0m \u001b[0mt2\u001b[0m \u001b[0;32mfor\u001b[0m \u001b[0mt2\u001b[0m \u001b[0;32min\u001b[0m \u001b[0mother\u001b[0m\u001b[0;34m.\u001b[0m\u001b[0mterms\u001b[0m\u001b[0;34m]\u001b[0m\u001b[0;34m\u001b[0m\u001b[0;34m\u001b[0m\u001b[0m\n\u001b[0m\u001b[1;32m    281\u001b[0m             \u001b[0;32mreturn\u001b[0m \u001b[0mPoly\u001b[0m\u001b[0;34m(\u001b[0m\u001b[0mprod_terms\u001b[0m\u001b[0;34m,\u001b[0m \u001b[0mself\u001b[0m\u001b[0;34m.\u001b[0m\u001b[0m__varname\u001b[0m\u001b[0;34m)\u001b[0m\u001b[0;34m\u001b[0m\u001b[0;34m\u001b[0m\u001b[0m\n\u001b[1;32m    282\u001b[0m         \u001b[0;32melse\u001b[0m\u001b[0;34m:\u001b[0m\u001b[0;34m\u001b[0m\u001b[0;34m\u001b[0m\u001b[0m\n",
      "\u001b[0;32m~/Documents/Programming/Python/Repos/abstract_algebra/src/polynomials.py\u001b[0m in \u001b[0;36m<listcomp>\u001b[0;34m(.0)\u001b[0m\n\u001b[1;32m    278\u001b[0m             \u001b[0mprod_terms\u001b[0m \u001b[0;34m=\u001b[0m \u001b[0mlist\u001b[0m\u001b[0;34m(\u001b[0m\u001b[0;34m)\u001b[0m\u001b[0;34m\u001b[0m\u001b[0;34m\u001b[0m\u001b[0m\n\u001b[1;32m    279\u001b[0m             \u001b[0;32mfor\u001b[0m \u001b[0mt1\u001b[0m \u001b[0;32min\u001b[0m \u001b[0mself\u001b[0m\u001b[0;34m.\u001b[0m\u001b[0m__terms\u001b[0m\u001b[0;34m:\u001b[0m\u001b[0;34m\u001b[0m\u001b[0;34m\u001b[0m\u001b[0m\n\u001b[0;32m--> 280\u001b[0;31m                 \u001b[0mprod_terms\u001b[0m \u001b[0;34m+=\u001b[0m \u001b[0;34m[\u001b[0m\u001b[0mt1\u001b[0m \u001b[0;34m*\u001b[0m \u001b[0mt2\u001b[0m \u001b[0;32mfor\u001b[0m \u001b[0mt2\u001b[0m \u001b[0;32min\u001b[0m \u001b[0mother\u001b[0m\u001b[0;34m.\u001b[0m\u001b[0mterms\u001b[0m\u001b[0;34m]\u001b[0m\u001b[0;34m\u001b[0m\u001b[0;34m\u001b[0m\u001b[0m\n\u001b[0m\u001b[1;32m    281\u001b[0m             \u001b[0;32mreturn\u001b[0m \u001b[0mPoly\u001b[0m\u001b[0;34m(\u001b[0m\u001b[0mprod_terms\u001b[0m\u001b[0;34m,\u001b[0m \u001b[0mself\u001b[0m\u001b[0;34m.\u001b[0m\u001b[0m__varname\u001b[0m\u001b[0;34m)\u001b[0m\u001b[0;34m\u001b[0m\u001b[0;34m\u001b[0m\u001b[0m\n\u001b[1;32m    282\u001b[0m         \u001b[0;32melse\u001b[0m\u001b[0;34m:\u001b[0m\u001b[0;34m\u001b[0m\u001b[0;34m\u001b[0m\u001b[0m\n",
      "\u001b[0;32m~/Documents/Programming/Python/Repos/abstract_algebra/src/polynomials.py\u001b[0m in \u001b[0;36m__mul__\u001b[0;34m(self, other)\u001b[0m\n\u001b[1;32m     74\u001b[0m                         self.__varname)\n\u001b[1;32m     75\u001b[0m         \u001b[0;32melse\u001b[0m\u001b[0;34m:\u001b[0m\u001b[0;34m\u001b[0m\u001b[0;34m\u001b[0m\u001b[0m\n\u001b[0;32m---> 76\u001b[0;31m             \u001b[0;32mraise\u001b[0m \u001b[0mValueError\u001b[0m\u001b[0;34m(\u001b[0m\u001b[0;34mf\"Mult: Variables must be the same, {self.__varname} != {other.varname()}\"\u001b[0m\u001b[0;34m)\u001b[0m\u001b[0;34m\u001b[0m\u001b[0;34m\u001b[0m\u001b[0m\n\u001b[0m\u001b[1;32m     77\u001b[0m \u001b[0;34m\u001b[0m\u001b[0m\n\u001b[1;32m     78\u001b[0m     \u001b[0;32mdef\u001b[0m \u001b[0m__pow__\u001b[0m\u001b[0;34m(\u001b[0m\u001b[0mself\u001b[0m\u001b[0;34m,\u001b[0m \u001b[0mn\u001b[0m\u001b[0;34m)\u001b[0m\u001b[0;34m:\u001b[0m\u001b[0;34m\u001b[0m\u001b[0;34m\u001b[0m\u001b[0m\n",
      "\u001b[0;31mValueError\u001b[0m: Mult: Variables must be the same, x != y"
     ]
    }
   ],
   "source": [
    "print(r(s))"
   ]
  },
  {
   "cell_type": "markdown",
   "id": "f15cdfcc",
   "metadata": {},
   "source": [
    "# NumPy Polynomials"
   ]
  },
  {
   "cell_type": "markdown",
   "id": "278ab764",
   "metadata": {},
   "source": [
    "This is a better library for polynomials."
   ]
  },
  {
   "cell_type": "code",
   "execution_count": 80,
   "id": "81315d85",
   "metadata": {},
   "outputs": [
    {
     "data": {
      "text/latex": [
       "$x \\mapsto \\text{-2.0} - \\text{4.0}\\,x + \\text{7.0}\\,x^{2}\\color{LightGray}{ + \\text{0.0}\\,x^{3}} - \\text{3.0}\\,x^{4}$"
      ],
      "text/plain": [
       "Polynomial([-2., -4.,  7.,  0., -3.], domain=[-1,  1], window=[-1,  1])"
      ]
     },
     "execution_count": 80,
     "metadata": {},
     "output_type": "execute_result"
    }
   ],
   "source": [
    "from numpy.polynomial import Polynomial\n",
    "\n",
    "poly_coeff = [-2, -4, 7, 0, -3]\n",
    "poly = Polynomial(poly_coeff)\n",
    "poly"
   ]
  },
  {
   "cell_type": "code",
   "execution_count": 81,
   "id": "9395084a",
   "metadata": {},
   "outputs": [
    {
     "data": {
      "text/plain": [
       "-194.0"
      ]
     },
     "execution_count": 81,
     "metadata": {},
     "output_type": "execute_result"
    }
   ],
   "source": [
    "poly(3)"
   ]
  },
  {
   "cell_type": "code",
   "execution_count": 82,
   "id": "e1f1d2d7",
   "metadata": {},
   "outputs": [
    {
     "name": "stdout",
     "output_type": "stream",
     "text": [
      "-2.0 - 4.0·x¹ + 7.0·x² + 0.0·x³ - 3.0·x⁴\n"
     ]
    }
   ],
   "source": [
    "print(poly)"
   ]
  },
  {
   "cell_type": "code",
   "execution_count": 83,
   "id": "950108dd",
   "metadata": {},
   "outputs": [
    {
     "data": {
      "text/latex": [
       "$x \\mapsto \\text{1.0} + \\text{1.0}\\,x$"
      ],
      "text/plain": [
       "Polynomial([1., 1.], domain=[-1,  1], window=[-1,  1])"
      ]
     },
     "execution_count": 83,
     "metadata": {},
     "output_type": "execute_result"
    }
   ],
   "source": [
    "poly1 = Polynomial([1, 1])\n",
    "poly1"
   ]
  },
  {
   "cell_type": "code",
   "execution_count": 84,
   "id": "7bd8ce7c",
   "metadata": {},
   "outputs": [
    {
     "data": {
      "text/latex": [
       "$x \\mapsto \\text{1.0} - \\text{1.0}\\,x$"
      ],
      "text/plain": [
       "Polynomial([ 1., -1.], domain=[-1,  1], window=[-1,  1])"
      ]
     },
     "execution_count": 84,
     "metadata": {},
     "output_type": "execute_result"
    }
   ],
   "source": [
    "poly2 = Polynomial([1, -1])\n",
    "poly2"
   ]
  },
  {
   "cell_type": "code",
   "execution_count": 85,
   "id": "711d0e53",
   "metadata": {},
   "outputs": [
    {
     "data": {
      "text/latex": [
       "$x \\mapsto \\text{1.0}\\color{LightGray}{ + \\text{0.0}\\,x} - \\text{1.0}\\,x^{2}$"
      ],
      "text/plain": [
       "Polynomial([ 1.,  0., -1.], domain=[-1.,  1.], window=[-1.,  1.])"
      ]
     },
     "execution_count": 85,
     "metadata": {},
     "output_type": "execute_result"
    }
   ],
   "source": [
    "poly1 * poly2"
   ]
  },
  {
   "cell_type": "code",
   "execution_count": null,
   "id": "431c00eb",
   "metadata": {},
   "outputs": [],
   "source": [
    "# help(Polynomial)"
   ]
  }
 ],
 "metadata": {
  "kernelspec": {
   "display_name": "Python 3 (ipykernel)",
   "language": "python",
   "name": "python3"
  },
  "language_info": {
   "codemirror_mode": {
    "name": "ipython",
    "version": 3
   },
   "file_extension": ".py",
   "mimetype": "text/x-python",
   "name": "python",
   "nbconvert_exporter": "python",
   "pygments_lexer": "ipython3",
   "version": "3.7.7"
  }
 },
 "nbformat": 4,
 "nbformat_minor": 5
}
