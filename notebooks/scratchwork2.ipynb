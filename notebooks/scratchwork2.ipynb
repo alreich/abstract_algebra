{
 "cells": [
  {
   "cell_type": "markdown",
   "id": "2c2fe242",
   "metadata": {},
   "source": [
    "# Scratchwork 2"
   ]
  },
  {
   "cell_type": "code",
   "execution_count": 1,
   "id": "1ea1cdb4",
   "metadata": {},
   "outputs": [],
   "source": [
    "from cayley_table import CayleyTable\n",
    "from finite_algebras import *"
   ]
  },
  {
   "cell_type": "code",
   "execution_count": 2,
   "id": "cf3b37b6",
   "metadata": {},
   "outputs": [],
   "source": [
    "rps_table = [[0, 1, 0], [1, 1, 2], [0, 2, 2]]"
   ]
  },
  {
   "cell_type": "code",
   "execution_count": 3,
   "id": "3ef48ca0",
   "metadata": {},
   "outputs": [
    {
     "data": {
      "text/plain": [
       "Magma(\n",
       "RPS,\n",
       "Rock, Paper, Scissors,\n",
       "['r', 'p', 's'],\n",
       "[[0, 1, 0], [1, 1, 2], [0, 2, 2]]\n",
       ")"
      ]
     },
     "execution_count": 3,
     "metadata": {},
     "output_type": "execute_result"
    }
   ],
   "source": [
    "rps0 = make_finite_algebra('RPS', \"Rock, Paper, Scissors\", ['r', 'p', 's'], rps_table)\n",
    "rps0"
   ]
  },
  {
   "cell_type": "code",
   "execution_count": 4,
   "id": "91ebe057",
   "metadata": {},
   "outputs": [
    {
     "data": {
      "text/plain": [
       "Magma(\n",
       "RPS,\n",
       "Rock, Paper, Scissors,\n",
       "['r', 'p', 's'],\n",
       "[[0, 1, 0], [1, 1, 2], [0, 2, 2]]\n",
       ")"
      ]
     },
     "execution_count": 4,
     "metadata": {},
     "output_type": "execute_result"
    }
   ],
   "source": [
    "rps = Magma('RPS', \"Rock, Paper, Scissors\", ['r', 'p', 's'], rps_table)\n",
    "rps"
   ]
  },
  {
   "cell_type": "code",
   "execution_count": 5,
   "id": "e3848f66",
   "metadata": {},
   "outputs": [],
   "source": [
    "def index_table_from_name_table(elements, name_table):\n",
    "    return [[elements.index(elem_name) for elem_name in row] for row in name_table]"
   ]
  },
  {
   "cell_type": "code",
   "execution_count": 6,
   "id": "4eb54992",
   "metadata": {},
   "outputs": [
    {
     "data": {
      "text/plain": [
       "[[0, 1, 0], [1, 1, 2], [0, 2, 2]]"
      ]
     },
     "execution_count": 6,
     "metadata": {},
     "output_type": "execute_result"
    }
   ],
   "source": [
    "rps_table"
   ]
  },
  {
   "cell_type": "code",
   "execution_count": 7,
   "id": "ed5c2335",
   "metadata": {},
   "outputs": [
    {
     "data": {
      "text/plain": [
       "Magma(\n",
       "RPS,\n",
       "Rock, Paper, Scissors,\n",
       "['r', 'p', 's'],\n",
       "[[0, 1, 0], [1, 1, 2], [0, 2, 2]]\n",
       ")"
      ]
     },
     "execution_count": 7,
     "metadata": {},
     "output_type": "execute_result"
    }
   ],
   "source": [
    "make_finite_algebra('RPS', \"Rock, Paper, Scissors\", ['r', 'p', 's'], rps_table)"
   ]
  },
  {
   "cell_type": "code",
   "execution_count": 8,
   "id": "d7673895",
   "metadata": {},
   "outputs": [
    {
     "data": {
      "text/plain": [
       "Magma(\n",
       "RPS,\n",
       "Rock, Paper, Scissors,\n",
       "['r', 'p', 's'],\n",
       "[[0, 1, 0], [1, 1, 2], [0, 2, 2]]\n",
       ")"
      ]
     },
     "execution_count": 8,
     "metadata": {},
     "output_type": "execute_result"
    }
   ],
   "source": [
    "Magma('RPS', \"Rock, Paper, Scissors\", ['r', 'p', 's'], rps_table)"
   ]
  },
  {
   "cell_type": "code",
   "execution_count": null,
   "id": "cd27005d",
   "metadata": {},
   "outputs": [],
   "source": []
  },
  {
   "cell_type": "code",
   "execution_count": null,
   "id": "679a6192",
   "metadata": {},
   "outputs": [],
   "source": []
  },
  {
   "cell_type": "code",
   "execution_count": 9,
   "id": "4e8bc08d",
   "metadata": {},
   "outputs": [],
   "source": [
    "import os, json\n",
    "aa_path = os.path.join(os.getenv(\"PYPROJ\"), \"abstract_algebra\")\n",
    "alg_dir = os.path.join(aa_path, \"Algebras\")"
   ]
  },
  {
   "cell_type": "code",
   "execution_count": 10,
   "id": "9dd0e42a",
   "metadata": {},
   "outputs": [
    {
     "name": "stdout",
     "output_type": "stream",
     "text": [
      "{\"type\": \"Group\",\r\n",
      " \"name\": \"V4\",\r\n",
      " \"description\": \"Klein-4 group\",\r\n",
      " \"element_names\": [\"e\", \"h\", \"v\", \"r\"],\r\n",
      " \"mult_table\": [[0, 1, 2, 3],\r\n",
      "                [1, 0, 3, 2],\r\n",
      "                [2, 3, 0, 1],\r\n",
      "                [3, 2, 1, 0]]\r\n",
      "}\r\n"
     ]
    }
   ],
   "source": [
    "v4_json = os.path.join(alg_dir, \"v4_klein_4_group.json\")\n",
    "!cat {v4_json}"
   ]
  },
  {
   "cell_type": "code",
   "execution_count": 11,
   "id": "cb9c9e29",
   "metadata": {},
   "outputs": [
    {
     "data": {
      "text/plain": [
       "Group(\n",
       "V4,\n",
       "Klein-4 group,\n",
       "['e', 'h', 'v', 'r'],\n",
       "[[0, 1, 2, 3], [1, 0, 3, 2], [2, 3, 0, 1], [3, 2, 1, 0]]\n",
       ")"
      ]
     },
     "execution_count": 11,
     "metadata": {},
     "output_type": "execute_result"
    }
   ],
   "source": [
    "v4_dict = make_finite_algebra(v4_json)\n",
    "v4_dict"
   ]
  },
  {
   "cell_type": "markdown",
   "id": "3d044928",
   "metadata": {},
   "source": [
    "## For Unit Tests"
   ]
  },
  {
   "cell_type": "code",
   "execution_count": 12,
   "id": "259fd88d",
   "metadata": {},
   "outputs": [],
   "source": [
    "import pprint as pp"
   ]
  },
  {
   "cell_type": "code",
   "execution_count": 13,
   "id": "c5b75a9f",
   "metadata": {},
   "outputs": [
    {
     "data": {
      "text/plain": [
       "\"Group(Z4, Cyclic group, ['e', 'a', 'a^2', 'a^3'], [[0, 1, 2, 3], [1, 2, 3, 0], [2, 3, 0, 1], [3, 0, 1, 2]])\""
      ]
     },
     "execution_count": 13,
     "metadata": {},
     "output_type": "execute_result"
    }
   ],
   "source": [
    "z4 = generate_cyclic_group(4, name=\"Z4\", description=\"Cyclic group\")\n",
    "str(z4)"
   ]
  },
  {
   "cell_type": "code",
   "execution_count": 14,
   "id": "1e42b8d4",
   "metadata": {},
   "outputs": [
    {
     "data": {
      "text/plain": [
       "['e', 'a', 'a^2', 'a^3']"
      ]
     },
     "execution_count": 14,
     "metadata": {},
     "output_type": "execute_result"
    }
   ],
   "source": [
    "z4.elements"
   ]
  },
  {
   "cell_type": "code",
   "execution_count": 15,
   "id": "f37843f1",
   "metadata": {},
   "outputs": [
    {
     "data": {
      "text/plain": [
       "CayleyTable([[0, 1, 2, 3], [1, 2, 3, 0], [2, 3, 0, 1], [3, 0, 1, 2]])"
      ]
     },
     "execution_count": 15,
     "metadata": {},
     "output_type": "execute_result"
    }
   ],
   "source": [
    "z4.table"
   ]
  },
  {
   "cell_type": "code",
   "execution_count": 16,
   "id": "fbc0342b",
   "metadata": {},
   "outputs": [
    {
     "data": {
      "text/plain": [
       "True"
      ]
     },
     "execution_count": 16,
     "metadata": {},
     "output_type": "execute_result"
    }
   ],
   "source": [
    "z4.is_associative()"
   ]
  },
  {
   "cell_type": "code",
   "execution_count": 17,
   "id": "c40f919a",
   "metadata": {},
   "outputs": [
    {
     "data": {
      "text/plain": [
       "True"
      ]
     },
     "execution_count": 17,
     "metadata": {},
     "output_type": "execute_result"
    }
   ],
   "source": [
    "z4.is_commutative()"
   ]
  },
  {
   "cell_type": "code",
   "execution_count": 18,
   "id": "adf6b4f8",
   "metadata": {},
   "outputs": [
    {
     "data": {
      "text/plain": [
       "'e'"
      ]
     },
     "execution_count": 18,
     "metadata": {},
     "output_type": "execute_result"
    }
   ],
   "source": [
    "z4.identity"
   ]
  },
  {
   "cell_type": "code",
   "execution_count": 19,
   "id": "4114e170",
   "metadata": {},
   "outputs": [
    {
     "data": {
      "text/plain": [
       "Group(\n",
       "S3,\n",
       "Symmetric group,\n",
       "['(1, 2, 3)', '(1, 3, 2)', '(2, 1, 3)', '(2, 3, 1)', '(3, 1, 2)', '(3, 2, 1)'],\n",
       "[[0, 1, 2, 3, 4, 5], [1, 0, 4, 5, 2, 3], [2, 3, 0, 1, 5, 4], [3, 2, 5, 4, 0, 1], [4, 5, 1, 0, 3, 2], [5, 4, 3, 2, 1, 0]]\n",
       ")"
      ]
     },
     "execution_count": 19,
     "metadata": {},
     "output_type": "execute_result"
    }
   ],
   "source": [
    "s3 = generate_symmetric_group(3, name=\"S3\", description=\"Symmetric group\")\n",
    "s3"
   ]
  },
  {
   "cell_type": "code",
   "execution_count": 20,
   "id": "28088e26",
   "metadata": {},
   "outputs": [
    {
     "data": {
      "text/plain": [
       "['(1, 2, 3)', '(1, 3, 2)', '(2, 1, 3)', '(2, 3, 1)', '(3, 1, 2)', '(3, 2, 1)']"
      ]
     },
     "execution_count": 20,
     "metadata": {},
     "output_type": "execute_result"
    }
   ],
   "source": [
    "s3.elements"
   ]
  },
  {
   "cell_type": "code",
   "execution_count": 21,
   "id": "301cb505",
   "metadata": {},
   "outputs": [
    {
     "data": {
      "text/plain": [
       "CayleyTable([[0, 1, 2, 3, 4, 5], [1, 0, 4, 5, 2, 3], [2, 3, 0, 1, 5, 4], [3, 2, 5, 4, 0, 1], [4, 5, 1, 0, 3, 2], [5, 4, 3, 2, 1, 0]])"
      ]
     },
     "execution_count": 21,
     "metadata": {},
     "output_type": "execute_result"
    }
   ],
   "source": [
    "s3.table"
   ]
  },
  {
   "cell_type": "code",
   "execution_count": 22,
   "id": "cd7c1d5a",
   "metadata": {},
   "outputs": [
    {
     "data": {
      "text/plain": [
       "True"
      ]
     },
     "execution_count": 22,
     "metadata": {},
     "output_type": "execute_result"
    }
   ],
   "source": [
    "s3.is_associative()"
   ]
  },
  {
   "cell_type": "code",
   "execution_count": 23,
   "id": "65976198",
   "metadata": {},
   "outputs": [
    {
     "data": {
      "text/plain": [
       "False"
      ]
     },
     "execution_count": 23,
     "metadata": {},
     "output_type": "execute_result"
    }
   ],
   "source": [
    "s3.is_commutative()"
   ]
  },
  {
   "cell_type": "code",
   "execution_count": 24,
   "id": "a099e912",
   "metadata": {},
   "outputs": [
    {
     "data": {
      "text/plain": [
       "'(1, 2, 3)'"
      ]
     },
     "execution_count": 24,
     "metadata": {},
     "output_type": "execute_result"
    }
   ],
   "source": [
    "s3.identity"
   ]
  },
  {
   "cell_type": "code",
   "execution_count": null,
   "id": "7bb8e8c8",
   "metadata": {},
   "outputs": [],
   "source": []
  },
  {
   "cell_type": "code",
   "execution_count": 25,
   "id": "8348d317",
   "metadata": {},
   "outputs": [
    {
     "data": {
      "text/plain": [
       "Semigroup(\n",
       "Example 141,\n",
       "Smarandache,\n",
       "['a', 'b', 'c', 'd', 'e', 'f'],\n",
       "[[0, 3, 0, 3, 0, 3], [1, 4, 1, 4, 1, 4], [2, 5, 2, 5, 2, 5], [3, 0, 3, 0, 3, 0], [4, 1, 4, 1, 4, 1], [5, 2, 5, 2, 5, 2]]\n",
       ")"
      ]
     },
     "execution_count": 25,
     "metadata": {},
     "output_type": "execute_result"
    }
   ],
   "source": [
    "ex141_tbl = [[0, 3, 0, 3, 0, 3],\n",
    "             [1, 4, 1, 4, 1, 4],\n",
    "             [2, 5, 2, 5, 2, 5],\n",
    "             [3, 0, 3, 0, 3, 0],\n",
    "             [4, 1, 4, 1, 4, 1],\n",
    "             [5, 2, 5, 2, 5, 2]]\n",
    "\n",
    "ex141 = make_finite_algebra(\"Example 141\", \"Smarandache\", ['a', 'b', 'c', 'd', 'e', 'f'], ex141_tbl)\n",
    "ex141"
   ]
  },
  {
   "cell_type": "code",
   "execution_count": 26,
   "id": "be54d98d",
   "metadata": {},
   "outputs": [
    {
     "data": {
      "text/plain": [
       "'d'"
      ]
     },
     "execution_count": 26,
     "metadata": {},
     "output_type": "execute_result"
    }
   ],
   "source": [
    "ex141.op(\"a\", \"b\", \"c\")"
   ]
  },
  {
   "cell_type": "code",
   "execution_count": null,
   "id": "521588bb",
   "metadata": {},
   "outputs": [],
   "source": []
  },
  {
   "cell_type": "code",
   "execution_count": 27,
   "id": "0d8785e4",
   "metadata": {},
   "outputs": [
    {
     "data": {
      "text/plain": [
       "Group(\n",
       "PS3,\n",
       "Powerset group,\n",
       "['{}', '{0}', '{1}', '{2}', '{0, 1}', '{0, 2}', '{1, 2}', '{0, 1, 2}'],\n",
       "[[0, 1, 2, 3, 4, 5, 6, 7], [1, 0, 4, 5, 2, 3, 7, 6], [2, 4, 0, 6, 1, 7, 3, 5], [3, 5, 6, 0, 7, 1, 2, 4], [4, 2, 1, 7, 0, 6, 5, 3], [5, 3, 7, 1, 6, 0, 4, 2], [6, 7, 3, 2, 5, 4, 0, 1], [7, 6, 5, 4, 3, 2, 1, 0]]\n",
       ")"
      ]
     },
     "execution_count": 27,
     "metadata": {},
     "output_type": "execute_result"
    }
   ],
   "source": [
    "ps3 = generate_powerset_group(3, \"PS3\", \"Powerset group\")\n",
    "ps3"
   ]
  },
  {
   "cell_type": "code",
   "execution_count": 28,
   "id": "eca53cf7",
   "metadata": {},
   "outputs": [
    {
     "data": {
      "text/plain": [
       "True"
      ]
     },
     "execution_count": 28,
     "metadata": {},
     "output_type": "execute_result"
    }
   ],
   "source": [
    "ps3.is_associative()"
   ]
  },
  {
   "cell_type": "code",
   "execution_count": 29,
   "id": "9933edaf",
   "metadata": {},
   "outputs": [
    {
     "data": {
      "text/plain": [
       "True"
      ]
     },
     "execution_count": 29,
     "metadata": {},
     "output_type": "execute_result"
    }
   ],
   "source": [
    "ps3.is_commutative()"
   ]
  },
  {
   "cell_type": "code",
   "execution_count": 32,
   "id": "33b8294b",
   "metadata": {},
   "outputs": [
    {
     "data": {
      "text/plain": [
       "'{}'"
      ]
     },
     "execution_count": 32,
     "metadata": {},
     "output_type": "execute_result"
    }
   ],
   "source": [
    "ps3.identity"
   ]
  },
  {
   "cell_type": "code",
   "execution_count": 30,
   "id": "3872f6ba",
   "metadata": {},
   "outputs": [
    {
     "data": {
      "text/plain": [
       "[[0, 0, 0, 0, 0, 0, 0, 0],\n",
       " [0, 1, 0, 0, 1, 1, 0, 1],\n",
       " [0, 0, 2, 0, 2, 0, 2, 2],\n",
       " [0, 0, 0, 3, 0, 3, 3, 3],\n",
       " [0, 1, 2, 0, 4, 1, 2, 4],\n",
       " [0, 1, 0, 3, 1, 5, 3, 5],\n",
       " [0, 0, 2, 3, 2, 3, 6, 6],\n",
       " [0, 1, 2, 3, 4, 5, 6, 7]]"
      ]
     },
     "execution_count": 30,
     "metadata": {},
     "output_type": "execute_result"
    }
   ],
   "source": [
    "ps3_mult_tbl = powerset_mult_table(3)\n",
    "ps3_mult_tbl"
   ]
  },
  {
   "cell_type": "code",
   "execution_count": null,
   "id": "03f1c60e",
   "metadata": {},
   "outputs": [],
   "source": []
  },
  {
   "cell_type": "code",
   "execution_count": 33,
   "id": "8642b5a8",
   "metadata": {},
   "outputs": [],
   "source": [
    "psr = generate_powerset_ring(3, \"PSR3\", \"Powerset ring\")"
   ]
  },
  {
   "cell_type": "code",
   "execution_count": 34,
   "id": "8c0c72e2",
   "metadata": {},
   "outputs": [
    {
     "data": {
      "text/plain": [
       "Ring(\n",
       "PSR3,\n",
       "Powerset ring,\n",
       "['{}', '{0}', '{1}', '{2}', '{0, 1}', '{0, 2}', '{1, 2}', '{0, 1, 2}'],\n",
       "[[0, 1, 2, 3, 4, 5, 6, 7], [1, 0, 4, 5, 2, 3, 7, 6], [2, 4, 0, 6, 1, 7, 3, 5], [3, 5, 6, 0, 7, 1, 2, 4], [4, 2, 1, 7, 0, 6, 5, 3], [5, 3, 7, 1, 6, 0, 4, 2], [6, 7, 3, 2, 5, 4, 0, 1], [7, 6, 5, 4, 3, 2, 1, 0]]\n",
       ")"
      ]
     },
     "execution_count": 34,
     "metadata": {},
     "output_type": "execute_result"
    }
   ],
   "source": [
    "psr"
   ]
  },
  {
   "cell_type": "code",
   "execution_count": null,
   "id": "9b6b0e1d",
   "metadata": {},
   "outputs": [],
   "source": []
  }
 ],
 "metadata": {
  "kernelspec": {
   "display_name": "Python 3",
   "language": "python",
   "name": "python3"
  },
  "language_info": {
   "codemirror_mode": {
    "name": "ipython",
    "version": 3
   },
   "file_extension": ".py",
   "mimetype": "text/x-python",
   "name": "python",
   "nbconvert_exporter": "python",
   "pygments_lexer": "ipython3",
   "version": "3.7.7"
  }
 },
 "nbformat": 4,
 "nbformat_minor": 5
}
