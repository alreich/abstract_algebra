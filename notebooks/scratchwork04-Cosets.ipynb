{
 "cells": [
  {
   "cell_type": "markdown",
   "id": "9e6e51fd",
   "metadata": {},
   "source": [
    "# Scratchwork 4  - Cosets"
   ]
  },
  {
   "cell_type": "code",
   "execution_count": 1,
   "id": "8b1e8190",
   "metadata": {},
   "outputs": [],
   "source": [
    "from finite_algebras import *\n",
    "from cayley_table import *\n",
    "from permutations import *"
   ]
  },
  {
   "cell_type": "code",
   "execution_count": 2,
   "id": "dde42cdc",
   "metadata": {},
   "outputs": [],
   "source": [
    "import os\n",
    "aa_path = os.path.join(os.getenv(\"PYPROJ\"), \"abstract_algebra\")\n",
    "alg_dir = os.path.join(aa_path, \"Algebras\")"
   ]
  },
  {
   "cell_type": "code",
   "execution_count": 3,
   "id": "54f2287f",
   "metadata": {},
   "outputs": [
    {
     "name": "stdout",
     "output_type": "stream",
     "text": [
      "======================================================================\n",
      "                           Example Algebras\n",
      "----------------------------------------------------------------------\n",
      "  17 example algebras are available.\n",
      "  Use \"Examples[INDEX]\" to retrieve a specific example,\n",
      "  where INDEX is the first number on each line below:\n",
      "----------------------------------------------------------------------\n",
      "0: A4 -- Alternating group on 4 letters (AKA Tetrahedral group)\n",
      "1: D3 -- https://en.wikipedia.org/wiki/Dihedral_group_of_order_6\n",
      "2: D4 -- Dihedral group on four vertices\n",
      "3: Pinter29 -- Non-abelian group, p.29, 'A Book of Abstract Algebra' by Charles C. Pinter\n",
      "4: RPS -- Rock, Paper, Scissors Magma\n",
      "5: S3 -- Symmetric group on 3 letters\n",
      "6: S3X -- Another version of the symmetric group on 3 letters\n",
      "7: V4 -- Klein-4 group\n",
      "8: Z4 -- Cyclic group of order 4\n",
      "9: F4 -- Field with 4 elements (from Wikipedia)\n",
      "10: mag_id -- Magma with Identity\n",
      "11: Example 1.4.1 -- See: Groupoids and Smarandache Groupoids by W. B. Vasantha Kandasamy\n",
      "12: Ex6 -- Example 6: http://www-groups.mcs.st-andrews.ac.uk/~john/MT4517/Lectures/L3.html\n",
      "13: Q8 -- Quaternion Group\n",
      "14: SD16 -- Semidihedral group of order 16\n",
      "15: A5 -- Alternating group on 5 letters\n",
      "16: F2 -- Field with 2 elements from paper: 236w06fields.pdf\n",
      "======================================================================\n"
     ]
    }
   ],
   "source": [
    "ex = Examples(alg_dir)"
   ]
  },
  {
   "cell_type": "markdown",
   "id": "0c58cdde",
   "metadata": {},
   "source": [
    "## Cosets of a Group"
   ]
  },
  {
   "cell_type": "code",
   "execution_count": 4,
   "id": "96658e46",
   "metadata": {},
   "outputs": [
    {
     "name": "stdout",
     "output_type": "stream",
     "text": [
      "\n",
      "** Group **\n",
      "Name: A4\n",
      "Instance ID: 4432435792\n",
      "Description: Alternating group on 4 letters (AKA Tetrahedral group)\n",
      "Order: 12\n",
      "Identity: '()'\n",
      "Commutative? No\n",
      "Cyclic?: No\n",
      "Elements:\n",
      "   Index   Name   Inverse  Order\n",
      "      0    '()'    '()'       0\n",
      "      1 '(1 3 2)' '(1 2 3)'       0\n",
      "      2 '(1 2 3)' '(1 3 2)'       0\n",
      "      3 '(0 1)(2 3)' '(0 1)(2 3)'       0\n",
      "      4 '(0 1 2)' '(0 2 1)'       0\n",
      "      5 '(0 1 3)' '(0 3 1)'       0\n",
      "      6 '(0 3 1)' '(0 1 3)'       0\n",
      "      7 '(0 3 2)' '(0 2 3)'       0\n",
      "      8 '(0 3)(1 2)' '(0 3)(1 2)'       0\n",
      "      9 '(0 2 3)' '(0 3 2)'       0\n",
      "     10 '(0 2 1)' '(0 1 2)'       0\n",
      "     11 '(0 2)(1 3)' '(0 2)(1 3)'       0\n",
      "Cayley Table (showing indices):\n",
      "[[0, 1, 2, 3, 4, 5, 6, 7, 8, 9, 10, 11],\n",
      " [1, 2, 0, 6, 7, 8, 10, 11, 9, 5, 3, 4],\n",
      " [2, 0, 1, 10, 11, 9, 3, 4, 5, 8, 6, 7],\n",
      " [3, 4, 5, 0, 1, 2, 9, 10, 11, 6, 7, 8],\n",
      " [4, 5, 3, 9, 10, 11, 7, 8, 6, 2, 0, 1],\n",
      " [5, 3, 4, 7, 8, 6, 0, 1, 2, 11, 9, 10],\n",
      " [6, 7, 8, 1, 2, 0, 5, 3, 4, 10, 11, 9],\n",
      " [7, 8, 6, 5, 3, 4, 11, 9, 10, 0, 1, 2],\n",
      " [8, 6, 7, 11, 9, 10, 1, 2, 0, 4, 5, 3],\n",
      " [9, 10, 11, 4, 5, 3, 2, 0, 1, 7, 8, 6],\n",
      " [10, 11, 9, 2, 0, 1, 8, 6, 7, 3, 4, 5],\n",
      " [11, 9, 10, 8, 6, 7, 4, 5, 3, 1, 2, 0]]\n"
     ]
    },
    {
     "data": {
      "text/plain": [
       "'<Group:A4, ID:4432435792>'"
      ]
     },
     "execution_count": 4,
     "metadata": {},
     "output_type": "execute_result"
    }
   ],
   "source": [
    "a4 = ex[0]\n",
    "a4.about()"
   ]
  },
  {
   "cell_type": "code",
   "execution_count": 5,
   "id": "2fadc785",
   "metadata": {},
   "outputs": [
    {
     "name": "stdout",
     "output_type": "stream",
     "text": [
      "\n",
      "Subalgebras of <Group:A4, ID:4432435792>\n",
      "  There are 3 unique proper subalgebras, up to isomorphism, out of 8 total subalgebras.\n",
      "  as shown by the partitions below:\n",
      "\n",
      "4 Isomorphic Commutative Groups of order 3 with identity '()':\n",
      "      Group: A4_subalgebra_0: ['()', '(1 3 2)', '(1 2 3)']\n",
      "      Group: A4_subalgebra_1: ['()', '(0 3 2)', '(0 2 3)']\n",
      "      Group: A4_subalgebra_3: ['()', '(0 1 2)', '(0 2 1)']\n",
      "      Group: A4_subalgebra_4: ['()', '(0 1 3)', '(0 3 1)']\n",
      "\n",
      "1 Commutative Normal Group of order 4 with identity '()':\n",
      "      Group: A4_subalgebra_2: ['()', '(0 1)(2 3)', '(0 3)(1 2)', '(0 2)(1 3)']\n",
      "\n",
      "3 Isomorphic Commutative Groups of order 2 with identity '()':\n",
      "      Group: A4_subalgebra_5: ['()', '(0 2)(1 3)']\n",
      "      Group: A4_subalgebra_6: ['()', '(0 1)(2 3)']\n",
      "      Group: A4_subalgebra_7: ['()', '(0 3)(1 2)']\n",
      "\n"
     ]
    }
   ],
   "source": [
    "a4_subs = about_subalgebras(a4)"
   ]
  },
  {
   "cell_type": "markdown",
   "id": "7e18cf88",
   "metadata": {},
   "source": [
    "### Cosets of a Non-Normal Subgroup"
   ]
  },
  {
   "cell_type": "markdown",
   "id": "2b642b3a",
   "metadata": {},
   "source": [
    "The left & right cosets are not necessarily the same for non-normal subgroups"
   ]
  },
  {
   "cell_type": "code",
   "execution_count": 6,
   "id": "485d2fa2",
   "metadata": {},
   "outputs": [
    {
     "data": {
      "text/plain": [
       "Group(\n",
       "'A4_subalgebra_0',\n",
       "'Subalgebra of: Alternating group on 4 letters (AKA Tetrahedral group)',\n",
       "['()', '(1 3 2)', '(1 2 3)'],\n",
       "[[0, 1, 2], [1, 2, 0], [2, 0, 1]]\n",
       ")"
      ]
     },
     "execution_count": 6,
     "metadata": {},
     "output_type": "execute_result"
    }
   ],
   "source": [
    "a40 = a4_subs[0][0]\n",
    "a40"
   ]
  },
  {
   "cell_type": "code",
   "execution_count": 8,
   "id": "97a527c9",
   "metadata": {},
   "outputs": [
    {
     "data": {
      "text/plain": [
       "[['()', '(1 2 3)', '(1 3 2)'],\n",
       " ['(0 3 1)', '(0 3 2)', '(0 3)(1 2)'],\n",
       " ['(0 1 2)', '(0 1 3)', '(0 1)(2 3)'],\n",
       " ['(0 2 1)', '(0 2 3)', '(0 2)(1 3)']]"
      ]
     },
     "execution_count": 8,
     "metadata": {},
     "output_type": "execute_result"
    }
   ],
   "source": [
    "list(a4.left_cosets(a40))"
   ]
  },
  {
   "cell_type": "code",
   "execution_count": 9,
   "id": "27042538",
   "metadata": {},
   "outputs": [
    {
     "data": {
      "text/plain": [
       "[['()', '(1 2 3)', '(1 3 2)'],\n",
       " ['(0 1 3)', '(0 2 3)', '(0 3)(1 2)'],\n",
       " ['(0 1 2)', '(0 2)(1 3)', '(0 3 2)'],\n",
       " ['(0 1)(2 3)', '(0 2 1)', '(0 3 1)']]"
      ]
     },
     "execution_count": 9,
     "metadata": {},
     "output_type": "execute_result"
    }
   ],
   "source": [
    "list(a4.right_cosets(a40))"
   ]
  },
  {
   "cell_type": "markdown",
   "id": "5b4cdc57",
   "metadata": {},
   "source": [
    "### Cosets of a Normal Subgroup"
   ]
  },
  {
   "cell_type": "markdown",
   "id": "6371485d",
   "metadata": {},
   "source": [
    "The left & right cosets are the same for normal subgroups"
   ]
  },
  {
   "cell_type": "code",
   "execution_count": 11,
   "id": "9d1b9019",
   "metadata": {},
   "outputs": [
    {
     "data": {
      "text/plain": [
       "Group(\n",
       "'A4_subalgebra_2',\n",
       "'Subalgebra of: Alternating group on 4 letters (AKA Tetrahedral group)',\n",
       "['()', '(0 1)(2 3)', '(0 3)(1 2)', '(0 2)(1 3)'],\n",
       "[[0, 1, 2, 3], [1, 0, 3, 2], [2, 3, 0, 1], [3, 2, 1, 0]]\n",
       ")"
      ]
     },
     "execution_count": 11,
     "metadata": {},
     "output_type": "execute_result"
    }
   ],
   "source": [
    "a42 = a4_subs[1][0]\n",
    "a42"
   ]
  },
  {
   "cell_type": "code",
   "execution_count": 12,
   "id": "fcfe8933",
   "metadata": {},
   "outputs": [
    {
     "data": {
      "text/plain": [
       "[['(0 1 2)', '(0 2 3)', '(0 3 1)', '(1 3 2)'],\n",
       " ['()', '(0 1)(2 3)', '(0 2)(1 3)', '(0 3)(1 2)'],\n",
       " ['(0 1 3)', '(0 2 1)', '(0 3 2)', '(1 2 3)']]"
      ]
     },
     "execution_count": 12,
     "metadata": {},
     "output_type": "execute_result"
    }
   ],
   "source": [
    "list(a4.left_cosets(a42))"
   ]
  },
  {
   "cell_type": "code",
   "execution_count": 13,
   "id": "b4738d7e",
   "metadata": {},
   "outputs": [
    {
     "data": {
      "text/plain": [
       "[['(0 1 2)', '(0 2 3)', '(0 3 1)', '(1 3 2)'],\n",
       " ['()', '(0 1)(2 3)', '(0 2)(1 3)', '(0 3)(1 2)'],\n",
       " ['(0 1 3)', '(0 2 1)', '(0 3 2)', '(1 2 3)']]"
      ]
     },
     "execution_count": 13,
     "metadata": {},
     "output_type": "execute_result"
    }
   ],
   "source": [
    "list(a4.right_cosets(a42))"
   ]
  },
  {
   "cell_type": "markdown",
   "id": "d0d7b09c",
   "metadata": {},
   "source": [
    "## Cosets of a Monoid"
   ]
  },
  {
   "cell_type": "markdown",
   "id": "28fca225",
   "metadata": {},
   "source": [
    "Generate a Monoid by generating a Ring and then extracting its multiplicative algebra."
   ]
  },
  {
   "cell_type": "code",
   "execution_count": 14,
   "id": "f472ed84",
   "metadata": {},
   "outputs": [
    {
     "name": "stdout",
     "output_type": "stream",
     "text": [
      "\n",
      "** Ring **\n",
      "Name: R8\n",
      "Instance ID: 4468227600\n",
      "Description: Autogenerated Ring of integers mod 8\n",
      "Order: 8\n",
      "Identity: '0'\n",
      "Commutative? Yes\n",
      "Cyclic?: Yes\n",
      "Generators: ['5', '3', '1', '7']\n",
      "Elements:\n",
      "   Index   Name   Inverse  Order\n",
      "      0     '0'     '0'       0\n",
      "      1     '1'     '7'       0\n",
      "      2     '2'     '6'       0\n",
      "      3     '3'     '5'       0\n",
      "      4     '4'     '4'       0\n",
      "      5     '5'     '3'       0\n",
      "      6     '6'     '2'       0\n",
      "      7     '7'     '1'       0\n",
      "Cayley Table (showing indices):\n",
      "[[0, 1, 2, 3, 4, 5, 6, 7],\n",
      " [1, 2, 3, 4, 5, 6, 7, 0],\n",
      " [2, 3, 4, 5, 6, 7, 0, 1],\n",
      " [3, 4, 5, 6, 7, 0, 1, 2],\n",
      " [4, 5, 6, 7, 0, 1, 2, 3],\n",
      " [5, 6, 7, 0, 1, 2, 3, 4],\n",
      " [6, 7, 0, 1, 2, 3, 4, 5],\n",
      " [7, 0, 1, 2, 3, 4, 5, 6]]\n",
      "Mult. Identity: '1'\n",
      "Mult. Commutative? Yes\n",
      "Zero Divisors: ['2', '4', '6']\n",
      "Multiplicative Cayley Table (showing indices):\n",
      "[[0, 0, 0, 0, 0, 0, 0, 0],\n",
      " [0, 1, 2, 3, 4, 5, 6, 7],\n",
      " [0, 2, 4, 6, 0, 2, 4, 6],\n",
      " [0, 3, 6, 1, 4, 7, 2, 5],\n",
      " [0, 4, 0, 4, 0, 4, 0, 4],\n",
      " [0, 5, 2, 7, 4, 1, 6, 3],\n",
      " [0, 6, 4, 2, 0, 6, 4, 2],\n",
      " [0, 7, 6, 5, 4, 3, 2, 1]]\n"
     ]
    }
   ],
   "source": [
    "m8 = generate_algebra_mod_n(8)\n",
    "m8.about()"
   ]
  },
  {
   "cell_type": "code",
   "execution_count": 15,
   "id": "4dafb75c",
   "metadata": {},
   "outputs": [
    {
     "name": "stdout",
     "output_type": "stream",
     "text": [
      "\n",
      "** Monoid **\n",
      "Name: R8.Mult\n",
      "Instance ID: 4429716048\n",
      "Description: Multiplicative-only portion of R8\n",
      "Order: 8\n",
      "Identity: 1\n",
      "Associative? Yes\n",
      "Commutative? Yes\n",
      "Cyclic?: No\n",
      "Elements: ['0', '1', '2', '3', '4', '5', '6', '7']\n",
      "Has Inverses? No\n",
      "Cayley Table (showing indices):\n",
      "[[0, 0, 0, 0, 0, 0, 0, 0],\n",
      " [0, 1, 2, 3, 4, 5, 6, 7],\n",
      " [0, 2, 4, 6, 0, 2, 4, 6],\n",
      " [0, 3, 6, 1, 4, 7, 2, 5],\n",
      " [0, 4, 0, 4, 0, 4, 0, 4],\n",
      " [0, 5, 2, 7, 4, 1, 6, 3],\n",
      " [0, 6, 4, 2, 0, 6, 4, 2],\n",
      " [0, 7, 6, 5, 4, 3, 2, 1]]\n"
     ]
    }
   ],
   "source": [
    "m8_mul = m8.extract_multiplicative_algebra()\n",
    "m8_mul.about()"
   ]
  },
  {
   "cell_type": "code",
   "execution_count": 16,
   "id": "ddaabd72",
   "metadata": {},
   "outputs": [
    {
     "name": "stdout",
     "output_type": "stream",
     "text": [
      "\n",
      "Subalgebras of <Monoid:R8.Mult, ID:4429716048>\n",
      "  There are 16 unique proper subalgebras, up to isomorphism, out of 26 total subalgebras.\n",
      "  as shown by the partitions below:\n",
      "\n",
      "1 Commutative Monoid of order 3 with identity '1':\n",
      "      Monoid: R8.Mult_subalgebra_0: ['0', '1', '4']\n",
      "\n",
      "1 Commutative Monoid of order 2 with identity '1':\n",
      "      Monoid: R8.Mult_subalgebra_1: ['0', '1']\n",
      "\n",
      "3 Isomorphic Commutative Groups of order 2 with identity '1':\n",
      "      Group: R8.Mult_subalgebra_2: ['1', '3']\n",
      "      Group: R8.Mult_subalgebra_19: ['1', '7']\n",
      "      Group: R8.Mult_subalgebra_23: ['1', '5']\n",
      "\n",
      "3 Isomorphic Commutative Monoids of order 3 with identity '1':\n",
      "      Monoid: R8.Mult_subalgebra_3: ['0', '1', '7']\n",
      "      Monoid: R8.Mult_subalgebra_20: ['0', '1', '5']\n",
      "      Monoid: R8.Mult_subalgebra_24: ['0', '1', '3']\n",
      "\n",
      "3 Isomorphic Commutative Monoids of order 4 with identity '1':\n",
      "      Monoid: R8.Mult_subalgebra_4: ['0', '1', '4', '7']\n",
      "      Monoid: R8.Mult_subalgebra_13: ['0', '1', '4', '5']\n",
      "      Monoid: R8.Mult_subalgebra_25: ['0', '1', '3', '4']\n",
      "\n",
      "2 Isomorphic Commutative Semigroups of order 3:\n",
      "      Semigroup: R8.Mult_subalgebra_5: ['0', '4', '6']\n",
      "      Semigroup: R8.Mult_subalgebra_14: ['0', '2', '4']\n",
      "\n",
      "1 Commutative Monoid of order 5 with identity '1':\n",
      "      Monoid: R8.Mult_subalgebra_6: ['0', '1', '2', '4', '6']\n",
      "\n",
      "1 Commutative Semigroup of order 4:\n",
      "      Semigroup: R8.Mult_subalgebra_7: ['0', '2', '4', '6']\n",
      "\n",
      "2 Isomorphic Commutative Monoids of order 5 with identity '1':\n",
      "      Monoid: R8.Mult_subalgebra_8: ['0', '1', '2', '4', '5']\n",
      "      Monoid: R8.Mult_subalgebra_17: ['0', '1', '4', '5', '6']\n",
      "\n",
      "2 Isomorphic Commutative Monoids of order 6 with identity '1':\n",
      "      Monoid: R8.Mult_subalgebra_9: ['0', '1', '2', '4', '6', '7']\n",
      "      Monoid: R8.Mult_subalgebra_16: ['0', '1', '2', '3', '4', '6']\n",
      "\n",
      "2 Isomorphic Commutative Monoids of order 4 with identity '1':\n",
      "      Monoid: R8.Mult_subalgebra_10: ['0', '1', '2', '4']\n",
      "      Monoid: R8.Mult_subalgebra_22: ['0', '1', '4', '6']\n",
      "\n",
      "1 Commutative Monoid of order 6 with identity '1':\n",
      "      Monoid: R8.Mult_subalgebra_11: ['0', '1', '2', '4', '5', '6']\n",
      "\n",
      "1 Commutative Group of order 4 with identity '1':\n",
      "      Group: R8.Mult_subalgebra_12: ['1', '3', '5', '7']\n",
      "\n",
      "1 Commutative Semigroup of order 2:\n",
      "      Semigroup: R8.Mult_subalgebra_15: ['0', '4']\n",
      "\n",
      "1 Commutative Monoid of order 6 with identity '1':\n",
      "      Monoid: R8.Mult_subalgebra_18: ['0', '1', '3', '4', '5', '7']\n",
      "\n",
      "1 Commutative Monoid of order 5 with identity '1':\n",
      "      Monoid: R8.Mult_subalgebra_21: ['0', '1', '3', '5', '7']\n",
      "\n"
     ]
    }
   ],
   "source": [
    "m8_mul_subs = about_subalgebras(m8_mul)"
   ]
  },
  {
   "cell_type": "markdown",
   "id": "d203d825",
   "metadata": {},
   "source": [
    "### Cosets a Subgroup of a Monoid"
   ]
  },
  {
   "cell_type": "code",
   "execution_count": 23,
   "id": "27b76b0e",
   "metadata": {},
   "outputs": [
    {
     "name": "stdout",
     "output_type": "stream",
     "text": [
      "\n",
      "** Group **\n",
      "Name: R8.Mult_subalgebra_12\n",
      "Instance ID: 4476052560\n",
      "Description: Subalgebra of: Multiplicative-only portion of R8\n",
      "Order: 4\n",
      "Identity: '1'\n",
      "Commutative? Yes\n",
      "Cyclic?: No\n",
      "Elements:\n",
      "   Index   Name   Inverse  Order\n",
      "      0     '1'     '1'       0\n",
      "      1     '3'     '3'       0\n",
      "      2     '5'     '5'       0\n",
      "      3     '7'     '7'       0\n",
      "Cayley Table (showing indices):\n",
      "[[0, 1, 2, 3], [1, 0, 3, 2], [2, 3, 0, 1], [3, 2, 1, 0]]\n"
     ]
    },
    {
     "data": {
      "text/plain": [
       "'<Group:R8.Mult_subalgebra_12, ID:4476052560>'"
      ]
     },
     "execution_count": 23,
     "metadata": {},
     "output_type": "execute_result"
    }
   ],
   "source": [
    "m812 = m8_mul_subs[12][0]\n",
    "m812.about()"
   ]
  },
  {
   "cell_type": "markdown",
   "id": "4e1791ce",
   "metadata": {},
   "source": [
    "By the way, this subgroup is isomorphic to the Klein-4 Group."
   ]
  },
  {
   "cell_type": "code",
   "execution_count": 24,
   "id": "be5238cf",
   "metadata": {},
   "outputs": [
    {
     "data": {
      "text/plain": [
       "'Klein-4 group'"
      ]
     },
     "execution_count": 24,
     "metadata": {},
     "output_type": "execute_result"
    }
   ],
   "source": [
    "v4 = ex[7]\n",
    "v4.description"
   ]
  },
  {
   "cell_type": "code",
   "execution_count": 25,
   "id": "ec945a7c",
   "metadata": {},
   "outputs": [
    {
     "data": {
      "text/plain": [
       "{'e': '1', 'h': '3', 'v': '5', 'r': '7'}"
      ]
     },
     "execution_count": 25,
     "metadata": {},
     "output_type": "execute_result"
    }
   ],
   "source": [
    "v4.isomorphic(m812)"
   ]
  },
  {
   "cell_type": "code",
   "execution_count": 26,
   "id": "50649e10",
   "metadata": {},
   "outputs": [
    {
     "data": {
      "text/plain": [
       "[['1', '3', '5', '7'], ['4'], ['2', '6'], ['0']]"
      ]
     },
     "execution_count": 26,
     "metadata": {},
     "output_type": "execute_result"
    }
   ],
   "source": [
    "list(m8_mul.left_cosets(m812))"
   ]
  },
  {
   "cell_type": "code",
   "execution_count": 27,
   "id": "61b74cac",
   "metadata": {},
   "outputs": [
    {
     "data": {
      "text/plain": [
       "[['1', '3', '5', '7'], ['4'], ['2', '6'], ['0']]"
      ]
     },
     "execution_count": 27,
     "metadata": {},
     "output_type": "execute_result"
    }
   ],
   "source": [
    "list(m8_mul.right_cosets(m812))"
   ]
  },
  {
   "cell_type": "markdown",
   "id": "a6625be4",
   "metadata": {},
   "source": [
    "### Cosets of Submonoid of a Monoid"
   ]
  },
  {
   "cell_type": "code",
   "execution_count": 28,
   "id": "0064c7bb",
   "metadata": {},
   "outputs": [
    {
     "name": "stdout",
     "output_type": "stream",
     "text": [
      "\n",
      "** Monoid **\n",
      "Name: R8.Mult_subalgebra_4\n",
      "Instance ID: 4476050000\n",
      "Description: Subalgebra of: Multiplicative-only portion of R8\n",
      "Order: 4\n",
      "Identity: 1\n",
      "Associative? Yes\n",
      "Commutative? Yes\n",
      "Cyclic?: No\n",
      "Elements: ['0', '1', '4', '7']\n",
      "Has Inverses? No\n",
      "Cayley Table (showing indices):\n",
      "[[0, 0, 0, 0], [0, 1, 2, 3], [0, 2, 0, 2], [0, 3, 2, 1]]\n"
     ]
    }
   ],
   "source": [
    "m84 = m8_mul_subs[4][0]\n",
    "m84.about()"
   ]
  },
  {
   "cell_type": "code",
   "execution_count": 29,
   "id": "b33e630d",
   "metadata": {},
   "outputs": [
    {
     "data": {
      "text/plain": [
       "[['0', '3', '4', '5'],\n",
       " ['0', '1', '4', '7'],\n",
       " ['0', '2', '6'],\n",
       " ['0'],\n",
       " ['0', '4']]"
      ]
     },
     "execution_count": 29,
     "metadata": {},
     "output_type": "execute_result"
    }
   ],
   "source": [
    "list(m8_mul.left_cosets(m84))"
   ]
  },
  {
   "cell_type": "code",
   "execution_count": 30,
   "id": "ed9670f1",
   "metadata": {},
   "outputs": [
    {
     "data": {
      "text/plain": [
       "[['0', '3', '4', '5'],\n",
       " ['0', '1', '4', '7'],\n",
       " ['0', '2', '6'],\n",
       " ['0'],\n",
       " ['0', '4']]"
      ]
     },
     "execution_count": 30,
     "metadata": {},
     "output_type": "execute_result"
    }
   ],
   "source": [
    "list(m8_mul.right_cosets(m84))"
   ]
  },
  {
   "cell_type": "code",
   "execution_count": null,
   "id": "b7d460a7",
   "metadata": {},
   "outputs": [],
   "source": []
  }
 ],
 "metadata": {
  "kernelspec": {
   "display_name": "Python 3 (ipykernel)",
   "language": "python",
   "name": "python3"
  },
  "language_info": {
   "codemirror_mode": {
    "name": "ipython",
    "version": 3
   },
   "file_extension": ".py",
   "mimetype": "text/x-python",
   "name": "python",
   "nbconvert_exporter": "python",
   "pygments_lexer": "ipython3",
   "version": "3.11.5"
  }
 },
 "nbformat": 4,
 "nbformat_minor": 5
}
