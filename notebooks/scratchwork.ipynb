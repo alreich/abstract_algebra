{
 "cells": [
  {
   "cell_type": "markdown",
   "id": "10f4658a",
   "metadata": {},
   "source": [
    "# Scratchwork"
   ]
  },
  {
   "cell_type": "code",
   "execution_count": 1,
   "id": "896f6746",
   "metadata": {},
   "outputs": [],
   "source": [
    "from finite_algebras import make_finite_algebra"
   ]
  },
  {
   "cell_type": "code",
   "execution_count": 2,
   "id": "a3973099",
   "metadata": {},
   "outputs": [],
   "source": [
    "import os\n",
    "aa_path = os.path.join(os.getenv(\"PYPROJ\"), \"abstract_algebra\")\n",
    "alg_dir = os.path.join(aa_path, \"Algebras\")"
   ]
  },
  {
   "cell_type": "markdown",
   "id": "376ec46f",
   "metadata": {},
   "source": [
    "## Example Ring"
   ]
  },
  {
   "cell_type": "markdown",
   "id": "bef7defe",
   "metadata": {},
   "source": [
    "This is example 6 here: http://www-groups.mcs.st-andrews.ac.uk/~john/MT4517/Lectures/L3.html"
   ]
  },
  {
   "cell_type": "code",
   "execution_count": 3,
   "id": "c1fb5ff3",
   "metadata": {},
   "outputs": [],
   "source": [
    "addtbl = [['0', 'a', 'b', 'c'],\n",
    "          ['a', '0', 'c', 'b'],\n",
    "          ['b', 'c', '0', 'a'],\n",
    "          ['c', 'b', 'a', '0']]"
   ]
  },
  {
   "cell_type": "code",
   "execution_count": 4,
   "id": "86e24094",
   "metadata": {},
   "outputs": [],
   "source": [
    "multbl = [['0', '0', '0', '0'],\n",
    "          ['0', '0', 'a', 'a'],\n",
    "          ['0', '0', 'b', 'b'],\n",
    "          ['0', '0', 'c', 'c']]"
   ]
  },
  {
   "cell_type": "code",
   "execution_count": 5,
   "id": "ffe2a6dc",
   "metadata": {
    "scrolled": true
   },
   "outputs": [
    {
     "data": {
      "text/plain": [
       "Ring(\n",
       "'Ex6',\n",
       "'Example 6: http://www-groups.mcs.st-andrews.ac.uk/~john/MT4517/Lectures/L3.html',\n",
       "['0', 'a', 'b', 'c'],\n",
       "[[0, 1, 2, 3], [1, 0, 3, 2], [2, 3, 0, 1], [3, 2, 1, 0]],\n",
       "[[0, 0, 0, 0], [0, 0, 1, 1], [0, 0, 2, 2], [0, 0, 3, 3]]\n",
       ")"
      ]
     },
     "execution_count": 5,
     "metadata": {},
     "output_type": "execute_result"
    }
   ],
   "source": [
    "ex6 = make_finite_algebra('Ex6',\n",
    "                          'Example 6: http://www-groups.mcs.st-andrews.ac.uk/~john/MT4517/Lectures/L3.html',\n",
    "                          ['0', 'a', 'b', 'c'],\n",
    "                          addtbl,\n",
    "                          multbl)\n",
    "\n",
    "ex6"
   ]
  },
  {
   "cell_type": "code",
   "execution_count": 6,
   "id": "a3d7819a",
   "metadata": {
    "scrolled": true
   },
   "outputs": [
    {
     "name": "stdout",
     "output_type": "stream",
     "text": [
      "\n",
      "Ring: Ex6\n",
      "Instance ID: 140694136411472\n",
      "Description: Example 6: http://www-groups.mcs.st-andrews.ac.uk/~john/MT4517/Lectures/L3.html\n",
      "Identity: 0\n",
      "Associative? Yes\n",
      "Commutative? Yes\n",
      "Elements:\n",
      "   Index   Name   Inverse  Order\n",
      "      0       0       0       1\n",
      "      1       a       a       2\n",
      "      2       b       b       2\n",
      "      3       c       c       2\n",
      "Cayley Table (showing names):\n",
      "[['0', 'a', 'b', 'c'],\n",
      " ['a', '0', 'c', 'b'],\n",
      " ['b', 'c', '0', 'a'],\n",
      " ['c', 'b', 'a', '0']]\n",
      "Mult. Identity: None\n",
      "Mult. Commutative? No\n",
      "Multiplicative Cayley Table (showing names):\n",
      "[['0', '0', '0', '0'],\n",
      " ['0', '0', 'a', 'a'],\n",
      " ['0', '0', 'b', 'b'],\n",
      " ['0', '0', 'c', 'c']]\n"
     ]
    }
   ],
   "source": [
    "ex6.about(use_table_names=True)"
   ]
  },
  {
   "cell_type": "markdown",
   "id": "084700e9",
   "metadata": {},
   "source": [
    "## Extracting a Ring's Group & Semigroup"
   ]
  },
  {
   "cell_type": "code",
   "execution_count": 7,
   "id": "0dc326d2",
   "metadata": {},
   "outputs": [
    {
     "data": {
      "text/plain": [
       "Ring(\n",
       "'Ex6',\n",
       "'Example 6: http://www-groups.mcs.st-andrews.ac.uk/~john/MT4517/Lectures/L3.html',\n",
       "['0', 'a', 'b', 'c'],\n",
       "[[0, 1, 2, 3], [1, 0, 3, 2], [2, 3, 0, 1], [3, 2, 1, 0]],\n",
       "[[0, 0, 0, 0], [0, 0, 1, 1], [0, 0, 2, 2], [0, 0, 3, 3]]\n",
       ")"
      ]
     },
     "execution_count": 7,
     "metadata": {},
     "output_type": "execute_result"
    }
   ],
   "source": [
    "ex6"
   ]
  },
  {
   "cell_type": "code",
   "execution_count": 8,
   "id": "15651785",
   "metadata": {},
   "outputs": [
    {
     "data": {
      "text/plain": [
       "Group(\n",
       "'Ex6.Add',\n",
       "'Additive-only portion of Ex6',\n",
       "['0', 'a', 'b', 'c'],\n",
       "[[0, 1, 2, 3], [1, 0, 3, 2], [2, 3, 0, 1], [3, 2, 1, 0]]\n",
       ")"
      ]
     },
     "execution_count": 8,
     "metadata": {},
     "output_type": "execute_result"
    }
   ],
   "source": [
    "ex6_grp = ex6.extract_additive_algebra()\n",
    "ex6_grp"
   ]
  },
  {
   "cell_type": "code",
   "execution_count": 9,
   "id": "71d06365",
   "metadata": {},
   "outputs": [
    {
     "data": {
      "text/plain": [
       "Semigroup(\n",
       "'Ex6.Mult',\n",
       "'Multiplicative-only portion of Ex6',\n",
       "['0', 'a', 'b', 'c'],\n",
       "[[0, 0, 0, 0], [0, 0, 1, 1], [0, 0, 2, 2], [0, 0, 3, 3]]\n",
       ")"
      ]
     },
     "execution_count": 9,
     "metadata": {},
     "output_type": "execute_result"
    }
   ],
   "source": [
    "ex6_sg = ex6.extract_multiplicative_algebra()\n",
    "ex6_sg"
   ]
  },
  {
   "cell_type": "markdown",
   "id": "061a7d59",
   "metadata": {},
   "source": [
    "## Autogenerate a Commutative Ring"
   ]
  },
  {
   "cell_type": "code",
   "execution_count": 10,
   "id": "01360728",
   "metadata": {},
   "outputs": [],
   "source": [
    "from finite_algebras import generate_commutative_ring"
   ]
  },
  {
   "cell_type": "code",
   "execution_count": 11,
   "id": "554fea58",
   "metadata": {},
   "outputs": [
    {
     "data": {
      "text/plain": [
       "Ring(\n",
       "'R5',\n",
       "'Autogenerated commutative Ring of order 5',\n",
       "['a0', 'a1', 'a2', 'a3', 'a4'],\n",
       "[[0, 1, 2, 3, 4], [1, 2, 3, 4, 0], [2, 3, 4, 0, 1], [3, 4, 0, 1, 2], [4, 0, 1, 2, 3]],\n",
       "[[0, 0, 0, 0, 0], [0, 1, 2, 3, 4], [0, 2, 4, 1, 3], [0, 3, 1, 4, 2], [0, 4, 3, 2, 1]]\n",
       ")"
      ]
     },
     "execution_count": 11,
     "metadata": {},
     "output_type": "execute_result"
    }
   ],
   "source": [
    "r5 = generate_commutative_ring(5)\n",
    "r5"
   ]
  },
  {
   "cell_type": "code",
   "execution_count": 12,
   "id": "55c6aeea",
   "metadata": {},
   "outputs": [
    {
     "name": "stdout",
     "output_type": "stream",
     "text": [
      "\n",
      "Ring: R5\n",
      "Instance ID: 140694136546064\n",
      "Description: Autogenerated commutative Ring of order 5\n",
      "Identity: a0\n",
      "Associative? Yes\n",
      "Commutative? Yes\n",
      "Elements:\n",
      "   Index   Name   Inverse  Order\n",
      "      0      a0      a0       1\n",
      "      1      a1      a4       5\n",
      "      2      a2      a3       5\n",
      "      3      a3      a2       5\n",
      "      4      a4      a1       5\n",
      "Cayley Table (showing names):\n",
      "[['a0', 'a1', 'a2', 'a3', 'a4'],\n",
      " ['a1', 'a2', 'a3', 'a4', 'a0'],\n",
      " ['a2', 'a3', 'a4', 'a0', 'a1'],\n",
      " ['a3', 'a4', 'a0', 'a1', 'a2'],\n",
      " ['a4', 'a0', 'a1', 'a2', 'a3']]\n",
      "Mult. Identity: a1\n",
      "Mult. Commutative? Yes\n",
      "Multiplicative Cayley Table (showing names):\n",
      "[['a0', 'a0', 'a0', 'a0', 'a0'],\n",
      " ['a0', 'a1', 'a2', 'a3', 'a4'],\n",
      " ['a0', 'a2', 'a4', 'a1', 'a3'],\n",
      " ['a0', 'a3', 'a1', 'a4', 'a2'],\n",
      " ['a0', 'a4', 'a3', 'a2', 'a1']]\n"
     ]
    }
   ],
   "source": [
    "r5.about(use_table_names=True)"
   ]
  },
  {
   "cell_type": "code",
   "execution_count": 13,
   "id": "cf137f8d",
   "metadata": {},
   "outputs": [
    {
     "data": {
      "text/plain": [
       "Group(\n",
       "'R5.Add',\n",
       "'Additive-only portion of R5',\n",
       "['a0', 'a1', 'a2', 'a3', 'a4'],\n",
       "[[0, 1, 2, 3, 4], [1, 2, 3, 4, 0], [2, 3, 4, 0, 1], [3, 4, 0, 1, 2], [4, 0, 1, 2, 3]]\n",
       ")"
      ]
     },
     "execution_count": 13,
     "metadata": {},
     "output_type": "execute_result"
    }
   ],
   "source": [
    "r5.extract_additive_algebra()"
   ]
  },
  {
   "cell_type": "code",
   "execution_count": 14,
   "id": "ae2c29a3",
   "metadata": {},
   "outputs": [
    {
     "data": {
      "text/plain": [
       "Monoid(\n",
       "'R5.Mult',\n",
       "'Multiplicative-only portion of R5',\n",
       "['a0', 'a1', 'a2', 'a3', 'a4'],\n",
       "[[0, 0, 0, 0, 0], [0, 1, 2, 3, 4], [0, 2, 4, 1, 3], [0, 3, 1, 4, 2], [0, 4, 3, 2, 1]]\n",
       ")"
      ]
     },
     "execution_count": 14,
     "metadata": {},
     "output_type": "execute_result"
    }
   ],
   "source": [
    "r5.extract_multiplicative_algebra()"
   ]
  },
  {
   "cell_type": "code",
   "execution_count": null,
   "id": "64101fe4",
   "metadata": {},
   "outputs": [],
   "source": []
  }
 ],
 "metadata": {
  "kernelspec": {
   "display_name": "Python 3",
   "language": "python",
   "name": "python3"
  },
  "language_info": {
   "codemirror_mode": {
    "name": "ipython",
    "version": 3
   },
   "file_extension": ".py",
   "mimetype": "text/x-python",
   "name": "python",
   "nbconvert_exporter": "python",
   "pygments_lexer": "ipython3",
   "version": "3.7.7"
  }
 },
 "nbformat": 4,
 "nbformat_minor": 5
}
