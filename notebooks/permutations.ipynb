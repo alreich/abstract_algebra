{
 "cells": [
  {
   "cell_type": "markdown",
   "id": "afef587e",
   "metadata": {},
   "source": [
    "# Permutation Group"
   ]
  },
  {
   "cell_type": "code",
   "execution_count": 1,
   "id": "33d49cf6",
   "metadata": {},
   "outputs": [],
   "source": [
    "from algebras import Group, Perm\n",
    "import os"
   ]
  },
  {
   "cell_type": "code",
   "execution_count": 2,
   "id": "42c263e0",
   "metadata": {},
   "outputs": [],
   "source": [
    "# Path to this repo\n",
    "aa_path = os.path.join(os.getenv('PYPROJ'), 'abstract_algebra')\n",
    "\n",
    "# Path to a directory containing Algebra definitions in JSON\n",
    "alg_dir = os.path.join(aa_path, \"Algebras\")"
   ]
  },
  {
   "cell_type": "markdown",
   "id": "655fc7e8",
   "metadata": {},
   "source": [
    "## Reference:"
   ]
  },
  {
   "cell_type": "markdown",
   "id": "8baf3b4b",
   "metadata": {},
   "source": [
    "<b>[Pinter, 1990]</b> : <i>\"A Book of Abstract Algebra\" 2nd Ed., Charles C. Pinter, Dover Publications, Inc. 1990."
   ]
  },
  {
   "cell_type": "markdown",
   "id": "9f4df4e8",
   "metadata": {},
   "source": [
    "## Example"
   ]
  },
  {
   "cell_type": "markdown",
   "id": "7e872796",
   "metadata": {},
   "source": [
    "The example here is from [Pinter, 1990], pages 70-71."
   ]
  },
  {
   "cell_type": "markdown",
   "id": "aafb662b",
   "metadata": {},
   "source": [
    "####  Permutations of (1,2,3)"
   ]
  },
  {
   "cell_type": "markdown",
   "id": "5da20bae",
   "metadata": {},
   "source": [
    "The 6 permutations are given names in a dictionary, allowing permutations to be reference by name."
   ]
  },
  {
   "cell_type": "code",
   "execution_count": 3,
   "id": "77e3bd25",
   "metadata": {},
   "outputs": [],
   "source": [
    "s3 = {'epsilon' : Perm((1, 2, 3)),\n",
    "      'alpha' : Perm((1, 3, 2)),\n",
    "      'beta' : Perm((3, 1, 2)),\n",
    "      'gamma' : Perm((2, 1, 3)),\n",
    "      'delta' : Perm((2, 3, 1)),\n",
    "      'kappa' : Perm((3, 2, 1))}"
   ]
  },
  {
   "cell_type": "markdown",
   "id": "de3f62d6",
   "metadata": {},
   "source": [
    "A reverse lookup dictionary is also derived so that names can be looked up by permutation.\n",
    "\n",
    "This is used when creating the multiplication table."
   ]
  },
  {
   "cell_type": "code",
   "execution_count": 4,
   "id": "739c34fa",
   "metadata": {},
   "outputs": [],
   "source": [
    "s3_rev = {val: key for key, val in s3.items()}"
   ]
  },
  {
   "cell_type": "markdown",
   "id": "ab9b9b46",
   "metadata": {},
   "source": [
    "#### Composition of Alpha & Beta"
   ]
  },
  {
   "cell_type": "markdown",
   "id": "50e61108",
   "metadata": {},
   "source": [
    "$\\alpha \\circ \\beta = \\alpha( \\beta((1,2,3)) ) = \\alpha( (3,1,2) ) = (2,1,3)$"
   ]
  },
  {
   "cell_type": "code",
   "execution_count": 5,
   "id": "f36adec1",
   "metadata": {},
   "outputs": [
    {
     "name": "stdout",
     "output_type": "stream",
     "text": [
      "Perm((1, 3, 2)) o Perm((3, 1, 2)) = Perm((2, 1, 3))\n",
      "(i.e., alpha o beta = gamma)\n"
     ]
    }
   ],
   "source": [
    "a = s3['alpha']\n",
    "b = s3['beta']\n",
    "c = a * b\n",
    "print(f\"{a} o {b} = {a * b}\")\n",
    "print(f\"(i.e., {s3_rev[a]} o {s3_rev[b]} = {s3_rev[a * b]})\")"
   ]
  },
  {
   "cell_type": "markdown",
   "id": "708dd635",
   "metadata": {},
   "source": [
    "#### Multiplication Table for s3"
   ]
  },
  {
   "cell_type": "code",
   "execution_count": 6,
   "id": "29d87505",
   "metadata": {},
   "outputs": [
    {
     "data": {
      "text/plain": [
       "[['epsilon', 'alpha', 'beta', 'gamma', 'delta', 'kappa'],\n",
       " ['alpha', 'epsilon', 'gamma', 'beta', 'kappa', 'delta'],\n",
       " ['beta', 'kappa', 'delta', 'alpha', 'epsilon', 'gamma'],\n",
       " ['gamma', 'delta', 'kappa', 'epsilon', 'alpha', 'beta'],\n",
       " ['delta', 'gamma', 'epsilon', 'kappa', 'beta', 'alpha'],\n",
       " ['kappa', 'beta', 'alpha', 'delta', 'gamma', 'epsilon']]"
      ]
     },
     "execution_count": 6,
     "metadata": {},
     "output_type": "execute_result"
    }
   ],
   "source": [
    "mul_tbl = [[s3_rev[s3[a] * s3[b]] for b in s3] for a in s3]\n",
    "mul_tbl"
   ]
  },
  {
   "cell_type": "markdown",
   "id": "c0684b8f",
   "metadata": {},
   "source": [
    "#### The s3 Group"
   ]
  },
  {
   "cell_type": "code",
   "execution_count": 7,
   "id": "d6085917",
   "metadata": {},
   "outputs": [
    {
     "name": "stdout",
     "output_type": "stream",
     "text": [
      "Group('s3',\n",
      "'Symmetric group on three elements',\n",
      "['epsilon', 'alpha', 'beta', 'gamma', 'delta', 'kappa'],\n",
      "[[0, 1, 2, 3, 4, 5],\n",
      " [1, 0, 3, 2, 5, 4],\n",
      " [2, 5, 4, 1, 0, 3],\n",
      " [3, 4, 5, 0, 1, 2],\n",
      " [4, 3, 0, 5, 2, 1],\n",
      " [5, 2, 1, 4, 3, 0]]\n",
      ")\n"
     ]
    }
   ],
   "source": [
    "s3_group = Group('s3', 'Symmetric group on three elements', mul_tbl)\n",
    "s3_group.pprint()"
   ]
  },
  {
   "cell_type": "code",
   "execution_count": 33,
   "id": "d19945fe",
   "metadata": {},
   "outputs": [
    {
     "name": "stdout",
     "output_type": "stream",
     "text": [
      "\n",
      "Group : s3 : Symmetric group on three elements\n",
      "  Element Names: ['epsilon', 'alpha', 'beta', 'gamma', 'delta', 'kappa']\n",
      "  Is Abelian? False\n",
      "  Inverses:  (** - indicates that it is its own inverse)\n",
      "    inv(epsilon) = epsilon   **\n",
      "    inv(alpha) = alpha   **\n",
      "    inv(beta) = delta \n",
      "    inv(gamma) = gamma   **\n",
      "    inv(delta) = beta \n",
      "    inv(kappa) = kappa   **\n",
      "Element Orders:\n",
      "{1: ['epsilon'], 2: ['alpha', 'gamma', 'kappa'], 3: ['beta', 'delta']}\n",
      "  Is associative? True\n",
      "  Cayley Table:\n",
      "[['epsilon', 'alpha', 'beta', 'gamma', 'delta', 'kappa'],\n",
      " ['alpha', 'epsilon', 'gamma', 'beta', 'kappa', 'delta'],\n",
      " ['beta', 'kappa', 'delta', 'alpha', 'epsilon', 'gamma'],\n",
      " ['gamma', 'delta', 'kappa', 'epsilon', 'alpha', 'beta'],\n",
      " ['delta', 'gamma', 'epsilon', 'kappa', 'beta', 'alpha'],\n",
      " ['kappa', 'beta', 'alpha', 'delta', 'gamma', 'epsilon']]\n"
     ]
    }
   ],
   "source": [
    "s3_group.print_info()"
   ]
  },
  {
   "cell_type": "markdown",
   "id": "ed8d52cc",
   "metadata": {},
   "source": [
    "## Symmetric Groups in General"
   ]
  },
  {
   "cell_type": "code",
   "execution_count": 10,
   "id": "f6fb5cb1",
   "metadata": {},
   "outputs": [],
   "source": [
    "from itertools import permutations"
   ]
  },
  {
   "cell_type": "code",
   "execution_count": 28,
   "id": "50ad9a12",
   "metadata": {},
   "outputs": [],
   "source": [
    "order = 3\n",
    "base = 1"
   ]
  },
  {
   "cell_type": "code",
   "execution_count": 29,
   "id": "97689eb4",
   "metadata": {},
   "outputs": [
    {
     "data": {
      "text/plain": [
       "(1, 2, 3)"
      ]
     },
     "execution_count": 29,
     "metadata": {},
     "output_type": "execute_result"
    }
   ],
   "source": [
    "id = tuple(range(base, order + base))\n",
    "id"
   ]
  },
  {
   "cell_type": "code",
   "execution_count": 32,
   "id": "bfeb0e04",
   "metadata": {},
   "outputs": [
    {
     "data": {
      "text/plain": [
       "[(1, 2, 3), (1, 3, 2), (2, 1, 3), (2, 3, 1), (3, 1, 2), (3, 2, 1)]"
      ]
     },
     "execution_count": 32,
     "metadata": {},
     "output_type": "execute_result"
    }
   ],
   "source": [
    "perms = list(permutations(id))\n",
    "perms"
   ]
  },
  {
   "cell_type": "code",
   "execution_count": 34,
   "id": "db5aebf2",
   "metadata": {},
   "outputs": [
    {
     "data": {
      "text/plain": [
       "{'(1, 2, 3)': (1, 2, 3),\n",
       " '(1, 3, 2)': (1, 3, 2),\n",
       " '(2, 1, 3)': (2, 1, 3),\n",
       " '(2, 3, 1)': (2, 3, 1),\n",
       " '(3, 1, 2)': (3, 1, 2),\n",
       " '(3, 2, 1)': (3, 2, 1)}"
      ]
     },
     "execution_count": 34,
     "metadata": {},
     "output_type": "execute_result"
    }
   ],
   "source": [
    "elem_dict = {str(p):p for p in perms}\n",
    "elem_dict"
   ]
  },
  {
   "cell_type": "code",
   "execution_count": 35,
   "id": "b2db699c",
   "metadata": {},
   "outputs": [
    {
     "data": {
      "text/plain": [
       "{(1, 2, 3): '(1, 2, 3)',\n",
       " (1, 3, 2): '(1, 3, 2)',\n",
       " (2, 1, 3): '(2, 1, 3)',\n",
       " (2, 3, 1): '(2, 3, 1)',\n",
       " (3, 1, 2): '(3, 1, 2)',\n",
       " (3, 2, 1): '(3, 2, 1)'}"
      ]
     },
     "execution_count": 35,
     "metadata": {},
     "output_type": "execute_result"
    }
   ],
   "source": [
    "rev_elem_dict = {val: key for key, val in elem_dict.items()}\n",
    "rev_elem_dict"
   ]
  },
  {
   "cell_type": "code",
   "execution_count": null,
   "id": "6b182338",
   "metadata": {},
   "outputs": [],
   "source": [
    "mul_tbl = [[s3_rev[s3[a] * s3[b]] for b in s3] for a in s3]\n",
    "mul_tbl"
   ]
  }
 ],
 "metadata": {
  "kernelspec": {
   "display_name": "Python 3",
   "language": "python",
   "name": "python3"
  },
  "language_info": {
   "codemirror_mode": {
    "name": "ipython",
    "version": 3
   },
   "file_extension": ".py",
   "mimetype": "text/x-python",
   "name": "python",
   "nbconvert_exporter": "python",
   "pygments_lexer": "ipython3",
   "version": "3.7.7"
  }
 },
 "nbformat": 4,
 "nbformat_minor": 5
}
