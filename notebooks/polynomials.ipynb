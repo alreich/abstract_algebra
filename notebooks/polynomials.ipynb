{
 "cells": [
  {
   "cell_type": "markdown",
   "id": "33ad099f",
   "metadata": {},
   "source": [
    "# Abstract Polynomials"
   ]
  },
  {
   "cell_type": "markdown",
   "id": "cca6f9c2",
   "metadata": {},
   "source": [
    "This is an experimental notebook."
   ]
  },
  {
   "cell_type": "markdown",
   "id": "0d6f9ea4",
   "metadata": {},
   "source": [
    "## Ordinary Polynomials"
   ]
  },
  {
   "cell_type": "markdown",
   "id": "4e14550c",
   "metadata": {},
   "source": [
    "Rolling my own polynomials just to see how difficult/useful this might be..."
   ]
  },
  {
   "cell_type": "code",
   "execution_count": 1,
   "id": "ff9f51c7",
   "metadata": {},
   "outputs": [],
   "source": [
    "from polynomials import *"
   ]
  },
  {
   "cell_type": "code",
   "execution_count": 2,
   "id": "7ff8e8ca",
   "metadata": {},
   "outputs": [
    {
     "data": {
      "text/plain": [
       "-2 -4x +7x^2 -3x^4"
      ]
     },
     "execution_count": 2,
     "metadata": {},
     "output_type": "execute_result"
    }
   ],
   "source": [
    "polystr = \"-2 -4x +7x^2 -3x^4\"\n",
    "coeffs = [-2, -4, 7, 0, -3]\n",
    "\n",
    "p = Polynomial(coeffs)\n",
    "p"
   ]
  },
  {
   "cell_type": "code",
   "execution_count": 3,
   "id": "e01ae740",
   "metadata": {},
   "outputs": [
    {
     "data": {
      "text/plain": [
       "[Term(-2,0), Term(-4,1), Term(7,2), Term(-3,4)]"
      ]
     },
     "execution_count": 3,
     "metadata": {},
     "output_type": "execute_result"
    }
   ],
   "source": [
    "p.terms()"
   ]
  },
  {
   "cell_type": "code",
   "execution_count": 4,
   "id": "42edb3e8",
   "metadata": {},
   "outputs": [
    {
     "name": "stdout",
     "output_type": "stream",
     "text": [
      "-194\n"
     ]
    }
   ],
   "source": [
    "y = 3\n",
    "print(-2 - 4*y + 7*y**2 - 3*y**4)"
   ]
  },
  {
   "cell_type": "code",
   "execution_count": 5,
   "id": "0c0e0162",
   "metadata": {},
   "outputs": [
    {
     "data": {
      "text/plain": [
       "-194"
      ]
     },
     "execution_count": 5,
     "metadata": {},
     "output_type": "execute_result"
    }
   ],
   "source": [
    "p(3)"
   ]
  },
  {
   "cell_type": "code",
   "execution_count": 6,
   "id": "e3bdf498",
   "metadata": {},
   "outputs": [
    {
     "name": "stdout",
     "output_type": "stream",
     "text": [
      "-2 -4x +7x^2 -3x^4\n"
     ]
    },
    {
     "data": {
      "text/plain": [
       "[Term(-2,0), Term(-4,1), Term(7,2), Term(-3,4)]"
      ]
     },
     "execution_count": 6,
     "metadata": {},
     "output_type": "execute_result"
    }
   ],
   "source": [
    "coeffs = [(-3, 4), (-4,1), (7, 2), (-2,0)]\n",
    "\n",
    "p = Polynomial(coeffs)\n",
    "print(p)\n",
    "p.terms()"
   ]
  },
  {
   "cell_type": "code",
   "execution_count": 7,
   "id": "570e0bee",
   "metadata": {},
   "outputs": [
    {
     "name": "stdout",
     "output_type": "stream",
     "text": [
      "-2 -4x +7x^2 -3x^4\n"
     ]
    },
    {
     "data": {
      "text/plain": [
       "[Term(-2,0), Term(-4,1), Term(7,2), Term(-3,4)]"
      ]
     },
     "execution_count": 7,
     "metadata": {},
     "output_type": "execute_result"
    }
   ],
   "source": [
    "coeffs = [[-4,1], [7, 2], [-2,0], [-3, 4]]\n",
    "\n",
    "p = Polynomial(coeffs)\n",
    "print(p)\n",
    "p.terms()"
   ]
  },
  {
   "cell_type": "code",
   "execution_count": 8,
   "id": "26073274",
   "metadata": {},
   "outputs": [
    {
     "name": "stdout",
     "output_type": "stream",
     "text": [
      "-2 -4x +7x^2 -3x^4\n"
     ]
    },
    {
     "data": {
      "text/plain": [
       "[Term(-2,0), Term(-4,1), Term(7,2), Term(-3,4)]"
      ]
     },
     "execution_count": 8,
     "metadata": {},
     "output_type": "execute_result"
    }
   ],
   "source": [
    "coeffs = \"-2 -4x +7x^2 -3x^4\"\n",
    "\n",
    "p = Polynomial(coeffs)\n",
    "print(p)\n",
    "p.terms()"
   ]
  },
  {
   "cell_type": "code",
   "execution_count": 9,
   "id": "b919059b",
   "metadata": {},
   "outputs": [
    {
     "name": "stdout",
     "output_type": "stream",
     "text": [
      "-2 -4x +7x^2 -3x^4\n"
     ]
    },
    {
     "data": {
      "text/plain": [
       "[Term(-2,0), Term(-4,1), Term(7,2), Term(-3,4)]"
      ]
     },
     "execution_count": 9,
     "metadata": {},
     "output_type": "execute_result"
    }
   ],
   "source": [
    "coeffs = [Term(-2,0), Term(-4,1), Term(7,2), Term(-3,4)]\n",
    "\n",
    "p = Polynomial(coeffs)\n",
    "print(p)\n",
    "p.terms()"
   ]
  },
  {
   "cell_type": "code",
   "execution_count": 10,
   "id": "5df349d5",
   "metadata": {},
   "outputs": [
    {
     "data": {
      "text/plain": [
       "-194"
      ]
     },
     "execution_count": 10,
     "metadata": {},
     "output_type": "execute_result"
    }
   ],
   "source": [
    "p(3)"
   ]
  },
  {
   "cell_type": "code",
   "execution_count": null,
   "id": "e289e71f",
   "metadata": {},
   "outputs": [],
   "source": []
  },
  {
   "cell_type": "code",
   "execution_count": 11,
   "id": "55dd78bd",
   "metadata": {},
   "outputs": [
    {
     "name": "stdout",
     "output_type": "stream",
     "text": [
      "-2 -4x +7x^2 -3x^4\n"
     ]
    },
    {
     "data": {
      "text/plain": [
       "[Term(-2,0), Term(-4,1), Term(7,2), Term(-3,4)]"
      ]
     },
     "execution_count": 11,
     "metadata": {},
     "output_type": "execute_result"
    }
   ],
   "source": [
    "polystr = \"-2 -4x^1 +7x^2 -3x^4\"  # Added '^1' to linear term\n",
    "\n",
    "p = Polynomial(polystr)\n",
    "print(p)\n",
    "p.terms()"
   ]
  },
  {
   "cell_type": "code",
   "execution_count": 12,
   "id": "09410d0a",
   "metadata": {},
   "outputs": [
    {
     "name": "stdout",
     "output_type": "stream",
     "text": [
      "-2 -4x +7x^2 -3x^4\n"
     ]
    },
    {
     "data": {
      "text/plain": [
       "[Term(-2,0), Term(-4,1), Term(7,2), Term(-3,4)]"
      ]
     },
     "execution_count": 12,
     "metadata": {},
     "output_type": "execute_result"
    }
   ],
   "source": [
    "polystr = \"-2x^0 -4x^1 +7x^2 -3x^4\"  # Added 'x^0' to constant term\n",
    "\n",
    "p = Polynomial(polystr)\n",
    "print(p)\n",
    "p.terms()"
   ]
  },
  {
   "cell_type": "code",
   "execution_count": 13,
   "id": "1fbd68ea",
   "metadata": {},
   "outputs": [
    {
     "name": "stdout",
     "output_type": "stream",
     "text": [
      "-2 -4x +7x^2 -3x^4\n"
     ]
    },
    {
     "data": {
      "text/plain": [
       "[Term(-2,0), Term(-4,1), Term(7,2), Term(-3,4)]"
      ]
     },
     "execution_count": 13,
     "metadata": {},
     "output_type": "execute_result"
    }
   ],
   "source": [
    "polystr = \"-4x -2 -3x^4 +7x^2\"  #  Terms not in order \n",
    "\n",
    "p = Polynomial(polystr)\n",
    "print(p)\n",
    "p.terms()"
   ]
  },
  {
   "cell_type": "code",
   "execution_count": 14,
   "id": "8d6071a9",
   "metadata": {},
   "outputs": [
    {
     "name": "stdout",
     "output_type": "stream",
     "text": [
      "-1 -1x +7x^2 -3x^4\n"
     ]
    },
    {
     "data": {
      "text/plain": [
       "[Term(-1,0), Term(-1,1), Term(7,2), Term(-3,4)]"
      ]
     },
     "execution_count": 14,
     "metadata": {},
     "output_type": "execute_result"
    }
   ],
   "source": [
    "polystr = \"2 -x -3 +7x^2 -3x^4\"  # No coefficient on linear term, 'x'\n",
    "\n",
    "p = Polynomial(polystr)\n",
    "print(p)\n",
    "p.terms()"
   ]
  },
  {
   "cell_type": "code",
   "execution_count": 15,
   "id": "8bc3364c",
   "metadata": {},
   "outputs": [
    {
     "name": "stdout",
     "output_type": "stream",
     "text": [
      "-1 +7x^2 -3x^4\n"
     ]
    },
    {
     "data": {
      "text/plain": [
       "[Term(-1,0), Term(7,2), Term(-3,4)]"
      ]
     },
     "execution_count": 15,
     "metadata": {},
     "output_type": "execute_result"
    }
   ],
   "source": [
    "polystr = \"2 -x -3 +7x^2 +x -3x^4\"  # linear terms cancel\n",
    "\n",
    "p = Polynomial(polystr)\n",
    "print(p)\n",
    "p.terms()"
   ]
  },
  {
   "cell_type": "code",
   "execution_count": 16,
   "id": "9cbf5cce",
   "metadata": {},
   "outputs": [
    {
     "name": "stdout",
     "output_type": "stream",
     "text": [
      "-3\n"
     ]
    },
    {
     "data": {
      "text/plain": [
       "[Term(-3,0)]"
      ]
     },
     "execution_count": 16,
     "metadata": {},
     "output_type": "execute_result"
    }
   ],
   "source": [
    "polystr = \"-4x^2 -x -3 +7x^2 +x -3x^2\"  # Quadratic terms collapse and cancel\n",
    "\n",
    "p = Polynomial(polystr)\n",
    "print(p)\n",
    "p.terms()"
   ]
  },
  {
   "cell_type": "code",
   "execution_count": 17,
   "id": "085845cd",
   "metadata": {},
   "outputs": [],
   "source": [
    "test_terms = [Term(-2,0), Term(-4,1), Term(-1,0), Term(7,2), Term(-3,4), Term(-2,2)]"
   ]
  },
  {
   "cell_type": "code",
   "execution_count": 18,
   "id": "1ef719ce",
   "metadata": {},
   "outputs": [
    {
     "name": "stdout",
     "output_type": "stream",
     "text": [
      "[Term(-2,0), Term(-4,1), Term(-1,0), Term(7,2), Term(-3,4), Term(-2,2)]\n",
      "[Term(-3,0), Term(-4,1), Term(5,2), Term(-3,4)]\n"
     ]
    }
   ],
   "source": [
    "print(test_terms)\n",
    "print(combine_like_terms(test_terms))"
   ]
  },
  {
   "cell_type": "code",
   "execution_count": 19,
   "id": "182045fd",
   "metadata": {},
   "outputs": [
    {
     "data": {
      "text/plain": [
       "-3 -4x +5x^2 -3x^4"
      ]
     },
     "execution_count": 19,
     "metadata": {},
     "output_type": "execute_result"
    }
   ],
   "source": [
    "polystr2 = \"-2 -4x -1 +7x^2 -3x^4 -2x^2\"\n",
    "p2 = Polynomial(polystr2)\n",
    "p2"
   ]
  },
  {
   "cell_type": "code",
   "execution_count": 20,
   "id": "83d8a407",
   "metadata": {},
   "outputs": [
    {
     "data": {
      "text/plain": [
       "0"
      ]
     },
     "execution_count": 20,
     "metadata": {},
     "output_type": "execute_result"
    }
   ],
   "source": [
    "polystr3 = \"-2 +3x^4 -4x +2 +7x^2 +4x -3x^4 -7x^2\"\n",
    "p3 = Polynomial(polystr3)\n",
    "p3"
   ]
  },
  {
   "cell_type": "markdown",
   "id": "c09e78a6",
   "metadata": {},
   "source": [
    "## NumPy Polynomials"
   ]
  },
  {
   "cell_type": "code",
   "execution_count": null,
   "id": "2a3eb661",
   "metadata": {},
   "outputs": [],
   "source": [
    "from numpy.polynomial import Polynomial\n",
    "\n",
    "poly_coeff = [-2, -4, 7, 0, -3]\n",
    "poly = Polynomial(poly_coeff)\n",
    "poly"
   ]
  },
  {
   "cell_type": "code",
   "execution_count": null,
   "id": "2705fcb6",
   "metadata": {},
   "outputs": [],
   "source": [
    "poly(3)"
   ]
  },
  {
   "cell_type": "code",
   "execution_count": null,
   "id": "8bd764b5",
   "metadata": {},
   "outputs": [],
   "source": [
    "print(poly)"
   ]
  },
  {
   "cell_type": "code",
   "execution_count": null,
   "id": "6931ea7f",
   "metadata": {},
   "outputs": [],
   "source": [
    "poly1 = Polynomial([1, 1])\n",
    "poly1"
   ]
  },
  {
   "cell_type": "code",
   "execution_count": null,
   "id": "2f7017cd",
   "metadata": {},
   "outputs": [],
   "source": [
    "poly2 = Polynomial([1, -1])\n",
    "poly2"
   ]
  },
  {
   "cell_type": "code",
   "execution_count": null,
   "id": "6007522c",
   "metadata": {},
   "outputs": [],
   "source": [
    "poly1 * poly2"
   ]
  },
  {
   "cell_type": "code",
   "execution_count": null,
   "id": "8bcd3b57",
   "metadata": {},
   "outputs": [],
   "source": []
  }
 ],
 "metadata": {
  "kernelspec": {
   "display_name": "Python 3",
   "language": "python",
   "name": "python3"
  },
  "language_info": {
   "codemirror_mode": {
    "name": "ipython",
    "version": 3
   },
   "file_extension": ".py",
   "mimetype": "text/x-python",
   "name": "python",
   "nbconvert_exporter": "python",
   "pygments_lexer": "ipython3",
   "version": "3.7.7"
  }
 },
 "nbformat": 4,
 "nbformat_minor": 5
}
