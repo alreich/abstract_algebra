{
 "cells": [
  {
   "cell_type": "markdown",
   "id": "d7c1a34e",
   "metadata": {},
   "source": [
    "# Gaussian Integers"
   ]
  },
  {
   "cell_type": "markdown",
   "id": "78d12b9c-d027-4465-a0d6-010afaef30b1",
   "metadata": {},
   "source": [
    "> <i>In number theory, a Gaussian integer is a complex number whose real and imaginary parts are both integers. The Gaussian integers, with ordinary addition and multiplication of complex numbers, form an integral domain, usually written as $\\mathbb{Z}[i]$.</i>\n",
    "> \n",
    "> <i>Gaussian integers are named after the German mathematician Carl Friedrich Gauss.</i>\n",
    "> \n",
    "> -- [Wikipedia](https://en.wikipedia.org/wiki/Gaussian_integer)"
   ]
  },
  {
   "cell_type": "markdown",
   "id": "a4f1b845-dd43-41ef-8c6d-54ba8fc4becf",
   "metadata": {},
   "source": [
    "## References"
   ]
  },
  {
   "cell_type": "markdown",
   "id": "75df8af6-cc44-48ae-9453-9736d0bc0c9b",
   "metadata": {},
   "source": [
    "* [The Gaussian Integers](https://kconrad.math.uconn.edu/blurbs/ugradnumthy/Zinotes.pdf) by Keith Conrad\n",
    "* [1.13: The Gaussian Integers](https://math.libretexts.org/Bookshelves/Combinatorics_and_Discrete_Mathematics/Elementary_Number_Theory_(Barrus_and_Clark)/01%3A_Chapters/1.13%3A_The_Gaussian_Integers) in [Elementary Number Theory](https://math.libretexts.org/Bookshelves/Combinatorics_and_Discrete_Mathematics/Elementary_Number_Theory_(Barrus_and_Clark)) by Barrus and Clark\n",
    "* [Gaussian Integers and Rings of Algebraic Integers](https://www.math.uci.edu/~ndonalds/math180b/6gaussian.pdf) in lecture notes by Neil Donaldson\n",
    "* [Gaussian integer -- Wikipedia](https://en.wikipedia.org/wiki/Gaussian_integer)\n",
    "* Python:\n",
    "  * [divmod](https://docs.python.org/3/library/functions.html#divmod) - implements the division theorem for Python integers or floats\n",
    "  * [cmath — Mathematical functions for complex numbers](https://docs.python.org/3/library/cmath.html)\n",
    "  * [math — Mathematical functions](https://docs.python.org/3/library/math.html)\n",
    "* [Python standard operators](https://docs.python.org/3/library/operator.html)\n",
    "* [divmod - Python documentation](https://docs.python.org/3/library/functions.html#divmod)"
   ]
  },
  {
   "cell_type": "markdown",
   "id": "f61934d4-1336-4066-b6ec-5244c170c0ff",
   "metadata": {},
   "source": [
    "## The Gint Class"
   ]
  },
  {
   "cell_type": "markdown",
   "id": "12a7040a-1a27-4c8a-9ab3-76ec2349c523",
   "metadata": {},
   "source": [
    "The Python module, ``gaussian_integers``, defines a class, ``Gint``, that implements an object with Gaussian integer functionality.\n",
    "\n",
    "A ``Gint`` has only two fields, ``real`` and ``imag``; both are integers.\n",
    "\n",
    "The source code, along with this Jupyter notebook and others, can be found on Github: https://github.com/alreich/abstract_algebra"
   ]
  },
  {
   "cell_type": "code",
   "execution_count": 1,
   "id": "ddfb290e",
   "metadata": {},
   "outputs": [],
   "source": [
    "from gaussian_integers import Gint"
   ]
  },
  {
   "cell_type": "markdown",
   "id": "fe7551f5-0f7d-4ef8-8285-7784cf08200d",
   "metadata": {},
   "source": [
    "## Creating Gints"
   ]
  },
  {
   "cell_type": "code",
   "execution_count": 2,
   "id": "95b2e594-5821-458c-9885-ba091b26d296",
   "metadata": {},
   "outputs": [
    {
     "data": {
      "text/plain": [
       "Gint(4, 5)"
      ]
     },
     "execution_count": 2,
     "metadata": {},
     "output_type": "execute_result"
    }
   ],
   "source": [
    "c1 = Gint(4, 5)\n",
    "c1"
   ]
  },
  {
   "cell_type": "code",
   "execution_count": 3,
   "id": "d27667e0-e674-46be-908d-14e13041cda3",
   "metadata": {},
   "outputs": [
    {
     "data": {
      "text/plain": [
       "Gint(1, -2)"
      ]
     },
     "execution_count": 3,
     "metadata": {},
     "output_type": "execute_result"
    }
   ],
   "source": [
    "c2 = Gint(1, -2)\n",
    "c2"
   ]
  },
  {
   "cell_type": "code",
   "execution_count": 4,
   "id": "477b5afb-6158-4799-869d-df2fc7ee9039",
   "metadata": {},
   "outputs": [
    {
     "data": {
      "text/plain": [
       "Gint(1, 0)"
      ]
     },
     "execution_count": 4,
     "metadata": {},
     "output_type": "execute_result"
    }
   ],
   "source": [
    "one = Gint()\n",
    "one"
   ]
  },
  {
   "cell_type": "markdown",
   "id": "9c976d46",
   "metadata": {},
   "source": [
    "``Gint.eye()`` is a class method that produces the ``Gint`` version of $i$, the so-called \"square root of -1\": $\\sqrt{-1}$"
   ]
  },
  {
   "cell_type": "code",
   "execution_count": 5,
   "id": "cd426515-fdb5-4350-90ac-5b2c93f4b829",
   "metadata": {},
   "outputs": [
    {
     "data": {
      "text/plain": [
       "Gint(0, 1)"
      ]
     },
     "execution_count": 5,
     "metadata": {},
     "output_type": "execute_result"
    }
   ],
   "source": [
    "eye = Gint.eye()  # i\n",
    "eye"
   ]
  },
  {
   "cell_type": "markdown",
   "id": "1ac6b97b",
   "metadata": {},
   "source": [
    "Floating point numbers are rounded to the nearest integer.\n",
    "\n",
    "This behavior comes in handy in the implementation of the **Modified Division Theorem** farther down in this document."
   ]
  },
  {
   "cell_type": "code",
   "execution_count": 6,
   "id": "fec9cce5",
   "metadata": {},
   "outputs": [
    {
     "data": {
      "text/plain": [
       "Gint(2, 5)"
      ]
     },
     "execution_count": 6,
     "metadata": {},
     "output_type": "execute_result"
    }
   ],
   "source": [
    "Gint(2.1, 5)"
   ]
  },
  {
   "cell_type": "code",
   "execution_count": 7,
   "id": "5cdeb5bc",
   "metadata": {},
   "outputs": [
    {
     "data": {
      "text/plain": [
       "Gint(-2, 7)"
      ]
     },
     "execution_count": 7,
     "metadata": {},
     "output_type": "execute_result"
    }
   ],
   "source": [
    "Gint(-2, 6.7)"
   ]
  },
  {
   "cell_type": "code",
   "execution_count": 8,
   "id": "2a8e96b5",
   "metadata": {},
   "outputs": [
    {
     "data": {
      "text/plain": [
       "Gint(2, 6)"
      ]
     },
     "execution_count": 8,
     "metadata": {},
     "output_type": "execute_result"
    }
   ],
   "source": [
    "Gint(2.5, 6.3)"
   ]
  },
  {
   "cell_type": "markdown",
   "id": "4319516d",
   "metadata": {},
   "source": [
    "The first argument can be a complex number. If so, the second argument is ignored.\n",
    "\n",
    "The real & imag parts of the complex number are rounded to nearest integers."
   ]
  },
  {
   "cell_type": "code",
   "execution_count": 9,
   "id": "13767f32",
   "metadata": {},
   "outputs": [
    {
     "data": {
      "text/plain": [
       "Gint(2, -4)"
      ]
     },
     "execution_count": 9,
     "metadata": {},
     "output_type": "execute_result"
    }
   ],
   "source": [
    "Gint((2.2 - 3.9j))"
   ]
  },
  {
   "cell_type": "code",
   "execution_count": 10,
   "id": "8a9aba73",
   "metadata": {},
   "outputs": [
    {
     "data": {
      "text/plain": [
       "Gint(2, -4)"
      ]
     },
     "execution_count": 10,
     "metadata": {},
     "output_type": "execute_result"
    }
   ],
   "source": [
    "Gint((2.2 - 3.9j), 11)  # if the first arg is a complex number, the second arg is ignored"
   ]
  },
  {
   "cell_type": "code",
   "execution_count": 11,
   "id": "60ec2810",
   "metadata": {},
   "outputs": [
    {
     "data": {
      "text/plain": [
       "Gint(2, -3)"
      ]
     },
     "execution_count": 11,
     "metadata": {},
     "output_type": "execute_result"
    }
   ],
   "source": [
    "Gint((2-3j))"
   ]
  },
  {
   "cell_type": "code",
   "execution_count": 12,
   "id": "687707c8",
   "metadata": {},
   "outputs": [
    {
     "data": {
      "text/plain": [
       "Gint(0, 1)"
      ]
     },
     "execution_count": 12,
     "metadata": {},
     "output_type": "execute_result"
    }
   ],
   "source": [
    "Gint(1j)"
   ]
  },
  {
   "cell_type": "code",
   "execution_count": 13,
   "id": "6929c44b",
   "metadata": {},
   "outputs": [
    {
     "data": {
      "text/plain": [
       "Gint(1, 0)"
      ]
     },
     "execution_count": 13,
     "metadata": {},
     "output_type": "execute_result"
    }
   ],
   "source": [
    "Gint((1+0j))"
   ]
  },
  {
   "cell_type": "markdown",
   "id": "1976191e",
   "metadata": {},
   "source": [
    "## Gint Accessors"
   ]
  },
  {
   "cell_type": "code",
   "execution_count": 14,
   "id": "ab959875",
   "metadata": {},
   "outputs": [
    {
     "data": {
      "text/plain": [
       "4"
      ]
     },
     "execution_count": 14,
     "metadata": {},
     "output_type": "execute_result"
    }
   ],
   "source": [
    "c1.real"
   ]
  },
  {
   "cell_type": "code",
   "execution_count": 15,
   "id": "52254671",
   "metadata": {},
   "outputs": [
    {
     "data": {
      "text/plain": [
       "5"
      ]
     },
     "execution_count": 15,
     "metadata": {},
     "output_type": "execute_result"
    }
   ],
   "source": [
    "c1.imag"
   ]
  },
  {
   "cell_type": "markdown",
   "id": "2cff2fb1-82c4-4201-b1ab-db3977532178",
   "metadata": {},
   "source": [
    "The **norm** and **conjugate** are not accessors, but they are implemented as properties, so they kind of look like accessors."
   ]
  },
  {
   "cell_type": "code",
   "execution_count": 16,
   "id": "18086d5e-0dbc-401c-a2db-a3efe8479c2f",
   "metadata": {},
   "outputs": [
    {
     "data": {
      "text/plain": [
       "41"
      ]
     },
     "execution_count": 16,
     "metadata": {},
     "output_type": "execute_result"
    }
   ],
   "source": [
    "c1.norm"
   ]
  },
  {
   "cell_type": "code",
   "execution_count": 17,
   "id": "21980a48-c202-46e7-885e-8c904d3c5f8e",
   "metadata": {},
   "outputs": [
    {
     "data": {
      "text/plain": [
       "Gint(4, -5)"
      ]
     },
     "execution_count": 17,
     "metadata": {},
     "output_type": "execute_result"
    }
   ],
   "source": [
    "c1.conj"
   ]
  },
  {
   "cell_type": "markdown",
   "id": "e246e72d-7267-4248-8147-e9ee823b63da",
   "metadata": {},
   "source": [
    "## Printing Gints"
   ]
  },
  {
   "cell_type": "markdown",
   "id": "f57e835d-bc87-4fa1-9342-ab52742d0dd4",
   "metadata": {},
   "source": [
    "When Python prints an object it calls the built-in method, ``__str__``, for the object, if it exists, and uses its output to print the object.\n",
    "\n",
    "For ``Gint``, the string representation is the same as that of a complex number in Python.  So, in printed form, a ``Gint`` looks like an ordinary Python complex number (which uses $j$ rather than $i$)."
   ]
  },
  {
   "cell_type": "code",
   "execution_count": 18,
   "id": "9d7a4cbb-f4fd-45fd-9a7e-5b0787356e58",
   "metadata": {},
   "outputs": [
    {
     "name": "stdout",
     "output_type": "stream",
     "text": [
      "(2-3j)\n",
      "1j\n",
      "(1+0j)\n"
     ]
    }
   ],
   "source": [
    "print(Gint(2, -3))\n",
    "print(eye)\n",
    "print(one)"
   ]
  },
  {
   "cell_type": "markdown",
   "id": "80751cc9-0c8f-49fb-b9f3-4ed65bb3e3fc",
   "metadata": {},
   "source": [
    "## Gint Arithmetic"
   ]
  },
  {
   "cell_type": "markdown",
   "id": "34d6d752-6ce1-4690-aec2-d27c0dace1c2",
   "metadata": {},
   "source": [
    "### Addition"
   ]
  },
  {
   "cell_type": "code",
   "execution_count": 19,
   "id": "09f3245e-7542-4a79-b305-76be47ea0807",
   "metadata": {},
   "outputs": [
    {
     "name": "stdout",
     "output_type": "stream",
     "text": [
      "(4+5j) + (1-2j) = (5+3j)\n"
     ]
    }
   ],
   "source": [
    "print(f\"{c1} + {c2} = {c1 + c2}\")"
   ]
  },
  {
   "cell_type": "markdown",
   "id": "bb9dfafb-1cd8-446b-8a56-7d73cc23169c",
   "metadata": {},
   "source": [
    "### Subtraction"
   ]
  },
  {
   "cell_type": "code",
   "execution_count": 20,
   "id": "6e9296f5-979b-4ae6-b9ec-840cd1813105",
   "metadata": {},
   "outputs": [
    {
     "name": "stdout",
     "output_type": "stream",
     "text": [
      "(4+5j) - (1-2j) = (3+7j)\n"
     ]
    }
   ],
   "source": [
    "print(f\"{c1} - {c2} = {c1 - c2}\")"
   ]
  },
  {
   "cell_type": "markdown",
   "id": "1dee2598-1bde-46b1-86aa-018145898d17",
   "metadata": {},
   "source": [
    "### Multiplication"
   ]
  },
  {
   "cell_type": "code",
   "execution_count": 21,
   "id": "58610822-f13c-4100-99aa-988289c47439",
   "metadata": {},
   "outputs": [
    {
     "name": "stdout",
     "output_type": "stream",
     "text": [
      "(4+5j) x (1-2j) = (14-3j)\n"
     ]
    }
   ],
   "source": [
    "print(f\"{c1} x {c2} = {c1 * c2}\")"
   ]
  },
  {
   "cell_type": "markdown",
   "id": "3aead9eb",
   "metadata": {},
   "source": [
    "### Division"
   ]
  },
  {
   "cell_type": "markdown",
   "id": "f6db2509-5a43-439f-a0a1-c058a56a415a",
   "metadata": {},
   "source": [
    "To understand how division for Gints is implemented, it's useful to review how Python handles division of numbers: int, float, and complex."
   ]
  },
  {
   "cell_type": "markdown",
   "id": "23d5a259",
   "metadata": {},
   "source": [
    "**Division of Python Ints, Floats, & Complex Numbers**"
   ]
  },
  {
   "cell_type": "markdown",
   "id": "a496c3f1-dbd5-46ea-a1a1-5e31ad1c4f75",
   "metadata": {},
   "source": [
    "**truediv(a, b)**\n",
    "\n",
    "* The standard operator for truediv is ``/``, e.g., ``a / b``\n",
    "* a & b can be int, float, or complex\n",
    "* If a and b are int or float, then ``a / b`` will be a float\n",
    "* If a or b is complex, then ``a / b`` will be complex\n",
    "\n",
    "**floordiv(a, b)**\n",
    "\n",
    "* The standard operator for floordiv is ``//``, e.g., ``a // b``\n",
    "* floordiv returns the integer (as an int or float) that is less than a/b.\n",
    "* a & b can be int, float, but not complex\n",
    "* If a and b are both ints, then ``a // b`` will be an int\n",
    "* If either a or b is a float, then ``a // b`` will be a float\n",
    "\n",
    "**mod(a, b)**\n",
    "\n",
    "* The standard operator for mod is ``%``, e.g., ``a % b``\n",
    "* mod returns the integer remainder, r, after dividing by b, e.g., r = a - (a // b)\n",
    "* a & b can be int, float, but not complex\n",
    "* If a and b are both ints, then ``a % b`` will be an int\n",
    "* If either a or b is a float, then ``a % b`` will be a float\n",
    "\n",
    "**divmod(a, b)**\n",
    "\n",
    "* There is no standard operator for this function.\n",
    "* divmod implements the Division Theorem (see next line)\n",
    "* divmod(a, b) -> (q, r) such that a == b * q + r, where r >= 0\n",
    "* a and b can be ints or floats, but not complex\n",
    "* If either a or b is a float, then q & r will be floats, otherwise they will be ints\n",
    "* NOTE: floordiv & mod can be used to compute divmod, i.e., divmod(a, b) = (a // b, a % b)\n",
    "\n",
    "Here are a few examples:"
   ]
  },
  {
   "cell_type": "code",
   "execution_count": 22,
   "id": "76658a5d",
   "metadata": {},
   "outputs": [
    {
     "name": "stdout",
     "output_type": "stream",
     "text": [
      "13 / 3 -> 4.333333333333333\n",
      "13 // 3 -> 4\n",
      "13 % 3 -> 1\n",
      "divmod(13, 3) -> (4, 1)\n",
      "divmod(13, 3.0) -> (4.0, 1.0)\n",
      "(4+5j) / (1-2j) -> (-1.2+2.6j)\n"
     ]
    }
   ],
   "source": [
    "print(f\"13 / 3 -> {13 / 3}\")\n",
    "print(f\"13 // 3 -> {13 // 3}\")\n",
    "print(f\"13 % 3 -> {13 % 3}\")\n",
    "print(f\"divmod(13, 3) -> {divmod(13, 3)}\")\n",
    "print(f\"divmod(13, 3.0) -> {divmod(13, 3.0)}\")\n",
    "\n",
    "h1 = complex(c1)\n",
    "h2 = complex(c2)\n",
    "print(f\"{h1} / {h2} -> {h1 / h2}\")"
   ]
  },
  {
   "cell_type": "markdown",
   "id": "1b6f8133",
   "metadata": {},
   "source": [
    "**Division of Gints**"
   ]
  },
  {
   "cell_type": "markdown",
   "id": "12005fad",
   "metadata": {},
   "source": [
    "The Gint class implements the operators, ``/``, ``//``, ``%``, and the method, ``divmod``, as described below.\n",
    "\n",
    "Let a & b be Gints, then\n",
    "\n",
    "**truediv**\n",
    "\n",
    "* a / b returns a complex number, not a Gint\n",
    "* b can be an int, float, complex, or Gint\n",
    "* Example: Gint(4, 5) / Gint(1, -2) -> (-1.2+2.6j)\n"
   ]
  },
  {
   "cell_type": "code",
   "execution_count": 26,
   "id": "348b15c5-0a61-495f-84e2-40ad264e9fa1",
   "metadata": {},
   "outputs": [
    {
     "name": "stdout",
     "output_type": "stream",
     "text": [
      "Help on function __truediv__ in module gaussian_integers:\n",
      "\n",
      "__truediv__(self, other)\n",
      "    Return the exact, complex result of dividing this Gint by other\n",
      "\n"
     ]
    }
   ],
   "source": [
    "help(Gint.__truediv__)"
   ]
  },
  {
   "cell_type": "code",
   "execution_count": 34,
   "id": "409928c6",
   "metadata": {},
   "outputs": [
    {
     "name": "stdout",
     "output_type": "stream",
     "text": [
      "Gint(4, 5) / Gint(1, -2) -> (-1.2+2.6j)\n",
      "Gint(4, 5) / (1-2j) -> (-1.2+2.6j)\n",
      "Gint(4, 5) / 5.0 -> (0.8+1j)\n",
      "Gint(4, 5) / 5 -> (0.8+1j)\n"
     ]
    }
   ],
   "source": [
    "print(f\"Gint(4, 5) / Gint(1, -2) -> {Gint(4, 5) / Gint(1, -2)}\")\n",
    "print(f\"Gint(4, 5) / (1-2j) -> {Gint(4, 5) / (1-2j)}\")\n",
    "print(f\"Gint(4, 5) / 5.0 -> {Gint(4, 5) / 5.0}\")\n",
    "print(f\"Gint(4, 5) / 5 -> {Gint(4, 5) / 5}\")"
   ]
  },
  {
   "cell_type": "code",
   "execution_count": null,
   "id": "b5f0690b",
   "metadata": {},
   "outputs": [],
   "source": []
  },
  {
   "cell_type": "code",
   "execution_count": null,
   "id": "d7e1b5a7",
   "metadata": {},
   "outputs": [],
   "source": [
    "print(9//2)\n",
    "print(9//3)\n",
    "print(Gint(27, -4) // Gint(-8, 5))\n",
    "print((c1 * c2) // c1)"
   ]
  },
  {
   "cell_type": "code",
   "execution_count": null,
   "id": "ecdbf480",
   "metadata": {},
   "outputs": [],
   "source": [
    "(27-4j) / (-8+5j)"
   ]
  },
  {
   "cell_type": "code",
   "execution_count": null,
   "id": "9dafff7e",
   "metadata": {},
   "outputs": [],
   "source": [
    "print(Gint(27, -4) / 4)\n",
    "print(Gint(27, -4) / 4.1)\n",
    "print()\n",
    "print(Gint(27, -4) // 4)\n",
    "print(Gint(27, -4) // 4.1)"
   ]
  },
  {
   "cell_type": "code",
   "execution_count": null,
   "id": "78c28302",
   "metadata": {},
   "outputs": [],
   "source": []
  },
  {
   "cell_type": "markdown",
   "id": "609c6459-043f-4dd8-9dd9-5ffebc83ecb4",
   "metadata": {},
   "source": [
    "Below, the product $c_3 \\equiv c_1 \\times c_2$ is used to demonstrate the following division operations: $c_3 / c_1$ and $c_3 / c_2$"
   ]
  },
  {
   "cell_type": "code",
   "execution_count": null,
   "id": "90e280f3-8cb8-4b38-9dc4-de8d0c95da4a",
   "metadata": {},
   "outputs": [],
   "source": [
    "c3 = c1 * c2"
   ]
  },
  {
   "cell_type": "code",
   "execution_count": null,
   "id": "5054e6f8-766c-4a92-b625-b2e6fbce4465",
   "metadata": {},
   "outputs": [],
   "source": []
  },
  {
   "cell_type": "code",
   "execution_count": null,
   "id": "02d7a3e1-91eb-4741-a51a-0433e26a75b5",
   "metadata": {},
   "outputs": [],
   "source": [
    "print(f\"{c1} x {c2} -> {c3}\")"
   ]
  },
  {
   "cell_type": "code",
   "execution_count": null,
   "id": "3c0f79ad",
   "metadata": {},
   "outputs": [],
   "source": [
    "print(f\"{c3} / {c1} -> {c3 / c1}\")  # Example 2.1 in [Conrad]"
   ]
  },
  {
   "cell_type": "code",
   "execution_count": null,
   "id": "ea6bbf71",
   "metadata": {},
   "outputs": [],
   "source": [
    "print(f\"{c3} / {c2} = {c3 / c2}\")"
   ]
  },
  {
   "cell_type": "markdown",
   "id": "bdbc9268-f6b8-4c15-93e0-8a3b57fe31d7",
   "metadata": {},
   "source": [
    "And, here's what happens if a Gint cannot be divided by another Gint:"
   ]
  },
  {
   "cell_type": "code",
   "execution_count": null,
   "id": "4ff8d4ce",
   "metadata": {},
   "outputs": [],
   "source": [
    "Gint(14, 3) / Gint(4, 5)  # Example 2.2 in [Conrad]"
   ]
  },
  {
   "cell_type": "markdown",
   "id": "4b13dba1-03da-46ca-9b4b-f846ffa49e20",
   "metadata": {},
   "source": [
    "So, in ``gaussian_integers``, division, via the operator ``/``, is a test. If true, it returns the actual quotient as a ``Gint``, otherwise it returns ``False``."
   ]
  },
  {
   "cell_type": "markdown",
   "id": "b6783b2f-d059-4ede-81ea-70d9bdaa1d3b",
   "metadata": {},
   "source": [
    "**Division by an integer, maybe**"
   ]
  },
  {
   "cell_type": "code",
   "execution_count": null,
   "id": "bb09eb13-8f16-437a-a2c7-c604476a12b5",
   "metadata": {},
   "outputs": [],
   "source": [
    "c4 = Gint(4, 12)\n",
    "d = 4\n",
    "\n",
    "print(f\"{c4} / {d} = {c4 / d}\")"
   ]
  },
  {
   "cell_type": "code",
   "execution_count": null,
   "id": "9e19450b-8cb7-4dd9-98e0-acbe7231d820",
   "metadata": {},
   "outputs": [],
   "source": [
    "c4 / 3"
   ]
  },
  {
   "cell_type": "markdown",
   "id": "87d9c92f-fdd1-4623-8eea-5168ee59c496",
   "metadata": {},
   "source": [
    "**Multiplication by ordinary integers:**"
   ]
  },
  {
   "cell_type": "markdown",
   "id": "1c8f63ed",
   "metadata": {},
   "source": [
    "Multiplication of a ``Gint`` by an integer works, regardless of which side the integer is on in the multiplication expression."
   ]
  },
  {
   "cell_type": "code",
   "execution_count": null,
   "id": "70147d66",
   "metadata": {},
   "outputs": [],
   "source": [
    "print(f\"{c1} x 2 = {c1 * 2}\")  # Integer is on the right side"
   ]
  },
  {
   "cell_type": "code",
   "execution_count": null,
   "id": "5bdfa75a",
   "metadata": {},
   "outputs": [],
   "source": [
    "print(f\"2 x {c1} = {2 * c1}\")  # Integer is on the left side"
   ]
  },
  {
   "cell_type": "code",
   "execution_count": null,
   "id": "f77038bc",
   "metadata": {},
   "outputs": [],
   "source": [
    "try:\n",
    "    print('a' * c1)\n",
    "except Exception as exc:\n",
    "    print(exc)"
   ]
  },
  {
   "cell_type": "code",
   "execution_count": null,
   "id": "bc852c7e",
   "metadata": {},
   "outputs": [],
   "source": [
    "2 * c1 * 3"
   ]
  },
  {
   "cell_type": "markdown",
   "id": "042f5f89",
   "metadata": {},
   "source": [
    "**Non-Negative Integer Powers of a Gint:**"
   ]
  },
  {
   "cell_type": "code",
   "execution_count": null,
   "id": "e1ffe6a0",
   "metadata": {},
   "outputs": [],
   "source": [
    "c1 * c1 * c1"
   ]
  },
  {
   "cell_type": "code",
   "execution_count": null,
   "id": "5101464d",
   "metadata": {},
   "outputs": [],
   "source": [
    "c1**3"
   ]
  },
  {
   "cell_type": "markdown",
   "id": "3be5983d",
   "metadata": {},
   "source": [
    "Raising any ``Gint`` to the power 0 will result in the ``Gint`` equivalent of 1, i.e., Gint(1, 0)."
   ]
  },
  {
   "cell_type": "code",
   "execution_count": null,
   "id": "9d77375c",
   "metadata": {},
   "outputs": [],
   "source": [
    "c1**0"
   ]
  },
  {
   "cell_type": "markdown",
   "id": "3a2cb338",
   "metadata": {},
   "source": [
    "The power must a a non-negative integer."
   ]
  },
  {
   "cell_type": "code",
   "execution_count": null,
   "id": "e78f7889",
   "metadata": {},
   "outputs": [],
   "source": [
    "try:\n",
    "    c1**-2\n",
    "except Exception as exc:\n",
    "    print(exc)"
   ]
  },
  {
   "cell_type": "markdown",
   "id": "1662e8bf-b86e-41f3-8c65-adfdeae38889",
   "metadata": {},
   "source": [
    "**Negation**"
   ]
  },
  {
   "cell_type": "code",
   "execution_count": null,
   "id": "9675dcc0",
   "metadata": {},
   "outputs": [],
   "source": [
    "c2"
   ]
  },
  {
   "cell_type": "code",
   "execution_count": null,
   "id": "7384ef74",
   "metadata": {},
   "outputs": [],
   "source": [
    "-c2"
   ]
  },
  {
   "cell_type": "markdown",
   "id": "907d5579-368b-4f4a-beee-65e650fd341d",
   "metadata": {},
   "source": [
    "## Testing for Equality or Inequality"
   ]
  },
  {
   "cell_type": "code",
   "execution_count": null,
   "id": "fff33780",
   "metadata": {},
   "outputs": [],
   "source": [
    "c1"
   ]
  },
  {
   "cell_type": "code",
   "execution_count": null,
   "id": "b27cd75b",
   "metadata": {},
   "outputs": [],
   "source": [
    "c1_dup = Gint(4, 5)"
   ]
  },
  {
   "cell_type": "code",
   "execution_count": null,
   "id": "1158d727",
   "metadata": {},
   "outputs": [],
   "source": [
    "c1 == Gint(4, 5)"
   ]
  },
  {
   "cell_type": "code",
   "execution_count": null,
   "id": "08d55e55",
   "metadata": {},
   "outputs": [],
   "source": [
    "c1 == c2"
   ]
  },
  {
   "cell_type": "code",
   "execution_count": null,
   "id": "e2173d4f",
   "metadata": {},
   "outputs": [],
   "source": [
    "c1 != c2"
   ]
  },
  {
   "cell_type": "markdown",
   "id": "381f41b9-e20d-4444-b557-4ede0a5b1458",
   "metadata": {},
   "source": [
    "## The Norm is Multiplicative"
   ]
  },
  {
   "cell_type": "markdown",
   "id": "e4013289-d6ea-4790-8793-055e6123a242",
   "metadata": {},
   "source": [
    "The following identity holds for norms of Gaussian integers: $N(c_1) \\times N(c_2) = N(c_1 \\times c_2)$"
   ]
  },
  {
   "cell_type": "markdown",
   "id": "e8443108-a644-48fc-8764-ef8ac586011e",
   "metadata": {},
   "source": [
    "Recall that $c_3 \\equiv c_1 \\times c_2$"
   ]
  },
  {
   "cell_type": "code",
   "execution_count": null,
   "id": "aee51ac2-5e1c-474b-84aa-a6879add444b",
   "metadata": {},
   "outputs": [],
   "source": [
    "print(f\"{c1.norm} x {c2.norm} = {c1.norm * c2.norm} = {c3.norm}\")"
   ]
  },
  {
   "cell_type": "markdown",
   "id": "bdec2ff4",
   "metadata": {},
   "source": [
    "## Divides"
   ]
  },
  {
   "cell_type": "code",
   "execution_count": null,
   "id": "eaae593f",
   "metadata": {},
   "outputs": [],
   "source": [
    "c1.divides(c3)"
   ]
  },
  {
   "cell_type": "code",
   "execution_count": null,
   "id": "99f097da",
   "metadata": {},
   "outputs": [],
   "source": [
    "c1.divides(c2)"
   ]
  },
  {
   "cell_type": "code",
   "execution_count": null,
   "id": "b208cc16",
   "metadata": {},
   "outputs": [],
   "source": [
    "c3.divided_by(c1)"
   ]
  },
  {
   "cell_type": "code",
   "execution_count": null,
   "id": "a152e4fb",
   "metadata": {},
   "outputs": [],
   "source": [
    "c2.divided_by(c1)"
   ]
  },
  {
   "cell_type": "code",
   "execution_count": null,
   "id": "91ab62a2",
   "metadata": {},
   "outputs": [],
   "source": [
    "print(f\"{c4} / 4 = {c4.divided_by(4)}\")"
   ]
  },
  {
   "cell_type": "code",
   "execution_count": null,
   "id": "d28bc37a",
   "metadata": {},
   "outputs": [],
   "source": [
    "print(f\"{c4} / 3 = {c4.divided_by(3)}\")"
   ]
  },
  {
   "cell_type": "markdown",
   "id": "3bfae184-a61f-490f-8764-54b54706c4cd",
   "metadata": {},
   "source": [
    "## Conjugates"
   ]
  },
  {
   "cell_type": "code",
   "execution_count": null,
   "id": "1fa6a8a5",
   "metadata": {},
   "outputs": [],
   "source": [
    "print(f\"conj{c1} = {c1.conj}\")"
   ]
  },
  {
   "cell_type": "markdown",
   "id": "67b56ae0",
   "metadata": {},
   "source": [
    "In mathematical notation, an overline is often used to denote conjugation. That is $\\overline{(a + bj)} \\equiv (a - bj)$.\n",
    "\n",
    "And, $N(c)$ is the **real part** of $c \\times \\overline{c}$:"
   ]
  },
  {
   "cell_type": "code",
   "execution_count": null,
   "id": "c5f0d690-631a-45f4-9a06-09ce5f38854c",
   "metadata": {},
   "outputs": [],
   "source": [
    "c1 * c1.conj"
   ]
  },
  {
   "cell_type": "markdown",
   "id": "b6013aac",
   "metadata": {},
   "source": [
    "## Associates"
   ]
  },
  {
   "cell_type": "code",
   "execution_count": null,
   "id": "97f85a3f",
   "metadata": {},
   "outputs": [],
   "source": [
    "print(c1)\n",
    "_ = [print(a) for a in c1.associates()]"
   ]
  },
  {
   "cell_type": "code",
   "execution_count": null,
   "id": "2a85f447",
   "metadata": {},
   "outputs": [],
   "source": [
    "c1.is_associate(Gint(-4, -5))"
   ]
  },
  {
   "cell_type": "code",
   "execution_count": null,
   "id": "7174fcce",
   "metadata": {},
   "outputs": [],
   "source": [
    "c1.is_associate(c2)"
   ]
  },
  {
   "cell_type": "markdown",
   "id": "609a1f80-3c8f-4dd1-b1ee-d1235e3d11ac",
   "metadata": {},
   "source": [
    "## Class Methods"
   ]
  },
  {
   "cell_type": "code",
   "execution_count": null,
   "id": "91949d72-607d-403c-bcd1-de810010b858",
   "metadata": {},
   "outputs": [],
   "source": [
    "i = Gint.eye()\n",
    "i"
   ]
  },
  {
   "cell_type": "markdown",
   "id": "b47706cf",
   "metadata": {},
   "source": [
    "\"$i^2 = -1$\""
   ]
  },
  {
   "cell_type": "code",
   "execution_count": null,
   "id": "62e6c7c0",
   "metadata": {},
   "outputs": [],
   "source": [
    "i**2"
   ]
  },
  {
   "cell_type": "code",
   "execution_count": null,
   "id": "602a5e89",
   "metadata": {},
   "outputs": [],
   "source": [
    "i**2 == -one"
   ]
  },
  {
   "cell_type": "code",
   "execution_count": null,
   "id": "a37a2a1d-5be3-4ad4-9d2b-773f17ecbf64",
   "metadata": {},
   "outputs": [],
   "source": [
    "Gint.units()"
   ]
  },
  {
   "cell_type": "markdown",
   "id": "d4d3ff0a",
   "metadata": {},
   "source": [
    "## The Division Theorem"
   ]
  },
  {
   "cell_type": "markdown",
   "id": "4f4cabfa",
   "metadata": {},
   "source": [
    "$\\large \\alpha = \\beta \\times \\gamma + \\rho$"
   ]
  },
  {
   "cell_type": "code",
   "execution_count": null,
   "id": "55baa44d",
   "metadata": {},
   "outputs": [],
   "source": [
    "help(Gint.division)"
   ]
  },
  {
   "cell_type": "raw",
   "id": "f27dd9ad",
   "metadata": {},
   "source": [
    "def division_theorem(a, b):\n",
    "    \"\"\"Compute q & r, such that a = bq + r\n",
    "    \"\"\"\n",
    "    q = Gint(complex(a * b.conj) / b.norm)  # Gint rounds the complex parts here\n",
    "    r = a - b * q\n",
    "    return q, r"
   ]
  },
  {
   "cell_type": "markdown",
   "id": "069c98d4",
   "metadata": {},
   "source": [
    "**Example 3.2 in [Conrad]**"
   ]
  },
  {
   "cell_type": "code",
   "execution_count": null,
   "id": "e8f907b8",
   "metadata": {},
   "outputs": [],
   "source": [
    "alpha = Gint((27-23j))\n",
    "beta = Gint((8+1j))\n",
    "\n",
    "quot, rem = alpha.division(beta)\n",
    "\n",
    "print(f\"{beta * quot + rem} = {beta} x {quot} + {rem}\")"
   ]
  },
  {
   "cell_type": "markdown",
   "id": "f1c21ddc",
   "metadata": {},
   "source": [
    "**Example 3.3 in [Conrad]**"
   ]
  },
  {
   "cell_type": "code",
   "execution_count": null,
   "id": "944487d9",
   "metadata": {},
   "outputs": [],
   "source": [
    "alpha = Gint((11+10j))\n",
    "beta = Gint((4+1j))\n",
    "\n",
    "quot, rem = alpha.division(beta)\n",
    "\n",
    "print(f\"{beta * quot + rem} = {beta} x {quot} + {rem}\")"
   ]
  },
  {
   "cell_type": "markdown",
   "id": "bab66e35",
   "metadata": {},
   "source": [
    "**Example 3.4 in [Conrad]**"
   ]
  },
  {
   "cell_type": "code",
   "execution_count": null,
   "id": "57d1137d",
   "metadata": {},
   "outputs": [],
   "source": [
    "alpha = Gint((41+24j))\n",
    "beta = Gint((11-2j))\n",
    "\n",
    "quot, rem = alpha.division(beta)\n",
    "\n",
    "print(f\"{beta * quot + rem} = {beta} x {quot} + {rem}\")"
   ]
  },
  {
   "cell_type": "markdown",
   "id": "a554c4f9",
   "metadata": {},
   "source": [
    "**Example 3.5 in [Conrad]**"
   ]
  },
  {
   "cell_type": "code",
   "execution_count": null,
   "id": "9358029a",
   "metadata": {},
   "outputs": [],
   "source": [
    "alpha = Gint((37+2j))\n",
    "beta = Gint((11+2j))\n",
    "\n",
    "quot, rem = alpha.division(beta)\n",
    "\n",
    "print(f\"{beta * quot + rem} = {beta} x {quot} + {rem}\")"
   ]
  },
  {
   "cell_type": "markdown",
   "id": "dc2ed53a",
   "metadata": {},
   "source": [
    "# Scratchwork"
   ]
  },
  {
   "cell_type": "code",
   "execution_count": null,
   "id": "a1506336",
   "metadata": {},
   "outputs": [],
   "source": [
    "alpha = c3\n",
    "beta = c1\n",
    "\n",
    "quot, rem = alpha.division(beta)\n",
    "\n",
    "print(f\"{beta * quot + rem} = {beta} x {quot} + {rem}\")"
   ]
  },
  {
   "cell_type": "code",
   "execution_count": null,
   "id": "3339d4ba-03a5-4e0e-b658-cfe93b1c9097",
   "metadata": {},
   "outputs": [],
   "source": [
    "rem == 0"
   ]
  },
  {
   "cell_type": "code",
   "execution_count": null,
   "id": "72fbf2ec-3ba7-4a58-b4fc-9a09e8ec8af4",
   "metadata": {},
   "outputs": [],
   "source": [
    "alpha = c3\n",
    "beta = c2\n",
    "\n",
    "quot, rem = alpha.division(beta)\n",
    "\n",
    "print(f\"{beta * quot + rem} = {beta} x {quot} + {rem}\")"
   ]
  },
  {
   "cell_type": "code",
   "execution_count": null,
   "id": "c3a63824-8329-4b93-8dd3-78a865ec00ba",
   "metadata": {},
   "outputs": [],
   "source": [
    "alpha = Gint(14, 3)\n",
    "beta = Gint(4, 5)\n",
    "\n",
    "quot, rem = alpha.division(beta)\n",
    "\n",
    "print(f\"{beta * quot + rem} = {beta} x {quot} + {rem}\")"
   ]
  },
  {
   "cell_type": "code",
   "execution_count": null,
   "id": "a6128972-cd8d-41d7-97d1-3b705bf5a7df",
   "metadata": {},
   "outputs": [],
   "source": [
    "alpha.norm"
   ]
  },
  {
   "cell_type": "code",
   "execution_count": null,
   "id": "86a61cd0-210d-422c-8e31-c5611525d53b",
   "metadata": {},
   "outputs": [],
   "source": [
    "rem.norm"
   ]
  },
  {
   "cell_type": "code",
   "execution_count": null,
   "id": "c651a745-99b9-48fc-823f-2525f6694b39",
   "metadata": {},
   "outputs": [],
   "source": [
    "alpha = c4\n",
    "beta = Gint(4, 0)  # beta = 4\n",
    "\n",
    "quot, rem = alpha.division(beta)\n",
    "\n",
    "print(f\"{beta * quot + rem} = {beta} x {quot} + {rem}\")"
   ]
  },
  {
   "cell_type": "code",
   "execution_count": null,
   "id": "9457d38a-7c5d-4d2a-a4b2-28d9e8c529a0",
   "metadata": {},
   "outputs": [],
   "source": [
    "alpha = c4\n",
    "beta = Gint(3, 0)  # beta = 3\n",
    "\n",
    "quot, rem = alpha.division(beta)\n",
    "\n",
    "print(f\"{beta * quot + rem} = {beta} x {quot} + {rem}\")"
   ]
  },
  {
   "cell_type": "code",
   "execution_count": null,
   "id": "28f12a67-090a-4777-a6eb-355c8d3280b3",
   "metadata": {},
   "outputs": [],
   "source": [
    "alpha.norm"
   ]
  },
  {
   "cell_type": "code",
   "execution_count": null,
   "id": "6f06aa1d-615c-4b88-9b96-6a6667c6a07f",
   "metadata": {},
   "outputs": [],
   "source": [
    "rem.norm"
   ]
  },
  {
   "cell_type": "code",
   "execution_count": null,
   "id": "5ea093d0-9519-45a3-bcf4-8382cdb56f6b",
   "metadata": {},
   "outputs": [],
   "source": [
    "5/2"
   ]
  },
  {
   "cell_type": "code",
   "execution_count": null,
   "id": "667c965d",
   "metadata": {},
   "outputs": [],
   "source": [
    "6/2"
   ]
  },
  {
   "cell_type": "code",
   "execution_count": null,
   "id": "9eda35a8",
   "metadata": {},
   "outputs": [],
   "source": [
    "5//2"
   ]
  },
  {
   "cell_type": "code",
   "execution_count": null,
   "id": "13f24995",
   "metadata": {},
   "outputs": [],
   "source": [
    "c3 / c1"
   ]
  },
  {
   "cell_type": "code",
   "execution_count": null,
   "id": "3fe981cd",
   "metadata": {},
   "outputs": [],
   "source": [
    "c3 // c1"
   ]
  },
  {
   "cell_type": "code",
   "execution_count": null,
   "id": "ef65b26e",
   "metadata": {},
   "outputs": [],
   "source": [
    "def truediv(this, other):\n",
    "    \"\"\"Return the exact, complex result of dividing this Gint by other\"\"\"\n",
    "    return complex(this) / complex(other)"
   ]
  },
  {
   "cell_type": "code",
   "execution_count": null,
   "id": "3e5be9e9",
   "metadata": {},
   "outputs": [],
   "source": [
    "truediv(c3, 4)"
   ]
  },
  {
   "cell_type": "code",
   "execution_count": null,
   "id": "d4643636",
   "metadata": {},
   "outputs": [],
   "source": [
    "Gint(truediv(c3, 4))"
   ]
  },
  {
   "cell_type": "code",
   "execution_count": null,
   "id": "3327f6b9",
   "metadata": {},
   "outputs": [],
   "source": [
    "def floordiv(a, b):\n",
    "    \"\"\"Return q, such that a = b*q + r and |r| < |b|\n",
    "    \"\"\"\n",
    "    q = Gint(complex(this * b.conj) / b.norm)  # Gint rounds the complex parts here\n",
    "    return q"
   ]
  },
  {
   "cell_type": "code",
   "execution_count": null,
   "id": "cefa3a12",
   "metadata": {},
   "outputs": [],
   "source": [
    "floordiv(c3, c1)"
   ]
  },
  {
   "cell_type": "code",
   "execution_count": null,
   "id": "54457c52",
   "metadata": {},
   "outputs": [],
   "source": [
    "floordiv(Gint(14, 3), Gint(4, 5))"
   ]
  },
  {
   "cell_type": "code",
   "execution_count": null,
   "id": "4c1aeb77",
   "metadata": {},
   "outputs": [],
   "source": []
  }
 ],
 "metadata": {
  "kernelspec": {
   "display_name": "Python 3 (ipykernel)",
   "language": "python",
   "name": "python3"
  },
  "language_info": {
   "codemirror_mode": {
    "name": "ipython",
    "version": 3
   },
   "file_extension": ".py",
   "mimetype": "text/x-python",
   "name": "python",
   "nbconvert_exporter": "python",
   "pygments_lexer": "ipython3",
   "version": "3.11.5"
  }
 },
 "nbformat": 4,
 "nbformat_minor": 5
}
