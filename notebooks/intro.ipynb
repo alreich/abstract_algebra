{
 "cells": [
  {
   "cell_type": "markdown",
   "id": "10747390",
   "metadata": {},
   "source": [
    "# Introduction"
   ]
  },
  {
   "cell_type": "markdown",
   "id": "e63b0351",
   "metadata": {},
   "source": [
    "## Groups"
   ]
  },
  {
   "cell_type": "markdown",
   "id": "fe4b2471",
   "metadata": {},
   "source": [
    "A group, $G = \\langle S, \\otimes \\rangle$, consists of a set, $S$, and a binary operation, $\\otimes: S \\times S \\to S$ such that:\n",
    "\n",
    "1. $\\otimes$ assigns a unique value, $a \\otimes b \\in S$, for every $(a,b) \\in S \\times S$.\n",
    "1. $\\otimes$ is <i>associative</i>.  That is, for any $a,b,c \\in S \\Rightarrow a \\otimes (b \\otimes c) = (a \\otimes b) \\otimes c$.\n",
    "1. There is an <i>identity</i> element $e \\in S$, such that, for all $a \\in S, a \\otimes e = e \\otimes a = a$. Sometimes, $e$ is referred to as the <i>natural</i> element of the group.\n",
    "1. Every element $a \\in S$ has an <i>inverse</i> element, $a^{-1} \\in S$, such that, $a \\otimes a^{-1} = a^{-1} \n",
    "\\otimes a = e$.\n",
    "\n",
    "The symbol, $\\otimes$, is used here to emphasize that it is not the same as numeric addition, $+$, or multiplication, $\\times$.  It can be more abstract...and sometimes not; it depends on which group is being discussed. For this reason, other symbols might be used to describe a group's binary operation, even $+$ and $\\times$.  Very often, no symbol at all is used, e.g., $ab$ instead of $a \\otimes b$.  And, since groups are associative, there is no ambiquity in writing, $abc$ to denote $a \\otimes b \\otimes c$.\n",
    "\n",
    "With that in mind, we'll define an <i>abelian</i> group to be a group where the binary operation is commutative.  That is, if for all $a,b \\in S \\Rightarrow ab = ba$.\n",
    "\n",
    "Finally, when someone says that an element, $a$, is in a group, $G = \\langle S, \\otimes \\rangle$, sometimes written, $a \\in G$, what is meant is that $a \\in S$."
   ]
  },
  {
   "cell_type": "markdown",
   "id": "80d15339",
   "metadata": {},
   "source": [
    "## Motivation for Group Definition"
   ]
  },
  {
   "cell_type": "markdown",
   "id": "30f18aca",
   "metadata": {},
   "source": [
    "A motivation for the specific group axioms, above, is provided by considering the assumptions required to solve the simplest equation:\n",
    "\n",
    "Let $ax = b$, where $a,b,x \\in G$. Solve for $x$:\n",
    "\n",
    "* from assumption #1, all of the operations below make sense\n",
    "* <p>from assumption #4, $a$ has inverse $a^{-1} \\Rightarrow a^{-1}(ax) = a^{-1}b$</p>\n",
    "* <p>from assumption #2, G is associatve $\\Rightarrow (a^{-1}a)x = a^{-1}b$</p>\n",
    "* <p>from assumption #4, $a^{-1}a=e \\Rightarrow ex = a^{-1}b$</p>\n",
    "* <p>from assumption #3, $ex = x \\Rightarrow x = a^{-1}b$</p>\n",
    "\n",
    "The assumptions are exactly those that make up the group definition.\n",
    "\n",
    "Note that cummutability is not necessary."
   ]
  },
  {
   "cell_type": "markdown",
   "id": "b76e5931",
   "metadata": {},
   "source": [
    "## Finite Groups"
   ]
  },
  {
   "cell_type": "markdown",
   "id": "58e230c5",
   "metadata": {},
   "source": [
    "TBD"
   ]
  },
  {
   "cell_type": "markdown",
   "id": "caac0a70",
   "metadata": {},
   "source": [
    "## Subgroups"
   ]
  },
  {
   "cell_type": "markdown",
   "id": "7cbcbe22",
   "metadata": {},
   "source": [
    "Given a group, $G = \\langle S, \\otimes \\rangle$, suppose that $T \\subseteq S$, such that $H = \\langle T, \\otimes \\rangle$ forms a group itself, then $H$ is said to be a subgroup of $G$, usually denoted by $H \\le G$.\n",
    "\n",
    "There are two <i>trivial subgroups</i> of $G$: the group consisting of just the identity element, $\\langle \\{e\\}, \\otimes \\rangle$, and entire group, $G$, itself.  All other subgroups are <i>proper subgroups</i>, denoted by $H \\lt G$.\n",
    "\n",
    "A subgroup, $H$, is a <i>normal subgroup</i> of a group G, if, for all elements $g \\in G$ and for all $h \\in H \\Rightarrow ghg^{-1} \\in H$."
   ]
  },
  {
   "cell_type": "markdown",
   "id": "afda495f",
   "metadata": {},
   "source": [
    "## Isomorphisms"
   ]
  },
  {
   "cell_type": "markdown",
   "id": "f188b3c7",
   "metadata": {},
   "source": [
    "TBD"
   ]
  },
  {
   "cell_type": "markdown",
   "id": "e5f9673f",
   "metadata": {},
   "source": [
    "## References"
   ]
  },
  {
   "cell_type": "markdown",
   "id": "9b12ca48",
   "metadata": {},
   "source": [
    "TBD"
   ]
  }
 ],
 "metadata": {
  "kernelspec": {
   "display_name": "Python 3",
   "language": "python",
   "name": "python3"
  },
  "language_info": {
   "codemirror_mode": {
    "name": "ipython",
    "version": 3
   },
   "file_extension": ".py",
   "mimetype": "text/x-python",
   "name": "python",
   "nbconvert_exporter": "python",
   "pygments_lexer": "ipython3",
   "version": "3.7.7"
  }
 },
 "nbformat": 4,
 "nbformat_minor": 5
}
