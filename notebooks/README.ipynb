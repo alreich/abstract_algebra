{
 "cells": [
  {
   "cell_type": "markdown",
   "id": "d722bfe5",
   "metadata": {},
   "source": [
    "# Abstract Algebra"
   ]
  },
  {
   "cell_type": "markdown",
   "id": "1991ffb5",
   "metadata": {},
   "source": [
    "A Python implementation of **Finite Algebras**: Magma, Semigroup, Monoid, Group, Ring, and Field"
   ]
  },
  {
   "cell_type": "markdown",
   "id": "a0441372",
   "metadata": {},
   "source": [
    "## Summary"
   ]
  },
  {
   "cell_type": "markdown",
   "id": "3a2c5626",
   "metadata": {},
   "source": [
    "The ``finite_algebras`` module contains class definitions, methods, and functions for working with algebras that only have a **finite number of elements**.\n",
    "\n",
    "* The primary constructor of algebras is the function, ``make_finite_algebra``. It examines the properties of the input table and returns the appropriate instance of an algebra.\n",
    "* Algebras can be input from, or output to, JSON files/strings or Python dictionaries.\n",
    "* Each algebra is defined by name (``str``), a description (``str``), a list of *element names* (``str``) and a square, 2-dimensional table that defines a binary operation (``list`` of ``lists`` of ``int``).  Rings & Fields have two such tables.\n",
    "* Each algebra has methods for examining its properties (e.g., ``is_associative()``, ``is_commutative()``)\n",
    "* Algebraic elements can be \"added\" (or \"multiplied\") via their binary operations (e.g., ``v4.op('h','v') ==> 'r'``).\n",
    "* Inverses & identities can be obtained, if the algebra supports them (e.g., ``z3.inv('a') = 'a^2'``, ``z3.identity ==> 'e'``).\n",
    "* Direct products of two or more algebras can be computed using Python's multiplication operator (e.g., ``z4 * v4``).\n",
    "* If two algebras are isomorphic, the mapping between their elements can be determined (e.g., ``v4.isomorphic(z2 * z2) ==> {'h': 'e:a', 'v': 'a:e', 'r': 'a:a', 'e': 'e:e'}``)\n",
    "* Autogeneration of some types of algebras, of arbitrary order, is supported (e.g., symmetric, cyclic).\n",
    "* Subalgebras (e.g., subgroups) can be determined, along with related functionality (e.g, ``is_normal()``)."
   ]
  },
  {
   "cell_type": "markdown",
   "id": "e2767e08",
   "metadata": {},
   "source": [
    "## Installation\n",
    "\n",
    "This module runs under Python 3.7+ and requires **NumPy**.\n",
    "\n",
    "Clone the github repository to install:"
   ]
  },
  {
   "cell_type": "raw",
   "id": "e0914775",
   "metadata": {},
   "source": [
    "$ git clone https://github.com/alreich/abstract_algebra.git"
   ]
  },
  {
   "cell_type": "markdown",
   "id": "3f05cee4",
   "metadata": {},
   "source": [
    "## Documentation"
   ]
  },
  {
   "cell_type": "markdown",
   "id": "6ef6e231",
   "metadata": {},
   "source": [
    "See full documentation at [ReadTheDocs](https://abstract-algebra.readthedocs.io/en/latest/index.html)."
   ]
  },
  {
   "cell_type": "markdown",
   "id": "18aeaf2b",
   "metadata": {},
   "source": [
    "## Quick Look"
   ]
  },
  {
   "cell_type": "markdown",
   "id": "3a489a8f",
   "metadata": {},
   "source": [
    "**Create an algebra:**"
   ]
  },
  {
   "cell_type": "code",
   "execution_count": 1,
   "id": "aba6dca0",
   "metadata": {},
   "outputs": [
    {
     "data": {
      "text/plain": [
       "Group(\n",
       "'V4',\n",
       "'Klein-4 group',\n",
       "['e', 'h', 'v', 'r'],\n",
       "[[0, 1, 2, 3], [1, 0, 3, 2], [2, 3, 0, 1], [3, 2, 1, 0]]\n",
       ")"
      ]
     },
     "execution_count": 1,
     "metadata": {},
     "output_type": "execute_result"
    }
   ],
   "source": [
    ">>> from finite_algebras import make_finite_algebra\n",
    "\n",
    ">>> v4 = make_finite_algebra('V4',\n",
    "                             'Klein-4 group',\n",
    "                             ['e', 'h', 'v', 'r'],\n",
    "                             [[0, 1, 2, 3],\n",
    "                              [1, 0, 3, 2],\n",
    "                              [2, 3, 0, 1],\n",
    "                              [3, 2, 1, 0]])\n",
    ">>> v4"
   ]
  },
  {
   "cell_type": "markdown",
   "id": "5917b7ab",
   "metadata": {},
   "source": [
    "**Look at the algebra's properties:**"
   ]
  },
  {
   "cell_type": "code",
   "execution_count": 2,
   "id": "4eacc5ca",
   "metadata": {},
   "outputs": [
    {
     "name": "stdout",
     "output_type": "stream",
     "text": [
      "\n",
      "Group: V4\n",
      "Instance ID: 140619114186512\n",
      "Description: Klein-4 group\n",
      "Identity: e\n",
      "Associative? Yes\n",
      "Commutative? Yes\n",
      "Elements:\n",
      "   Index   Name   Inverse  Order\n",
      "      0       e       e       1\n",
      "      1       h       h       2\n",
      "      2       v       v       2\n",
      "      3       r       r       2\n",
      "Cayley Table (showing names):\n",
      "[['e', 'h', 'v', 'r'],\n",
      " ['h', 'e', 'r', 'v'],\n",
      " ['v', 'r', 'e', 'h'],\n",
      " ['r', 'v', 'h', 'e']]\n"
     ]
    }
   ],
   "source": [
    ">>> v4.about(use_table_names=True)"
   ]
  },
  {
   "cell_type": "markdown",
   "id": "833dedb1",
   "metadata": {},
   "source": [
    "**Autogenerate a small cyclic group:**"
   ]
  },
  {
   "cell_type": "code",
   "execution_count": 3,
   "id": "ae6789e6",
   "metadata": {},
   "outputs": [
    {
     "name": "stdout",
     "output_type": "stream",
     "text": [
      "\n",
      "Group: Z2\n",
      "Instance ID: 140618314409104\n",
      "Description: Autogenerated cyclic Group of order 2\n",
      "Identity: e\n",
      "Associative? Yes\n",
      "Commutative? Yes\n",
      "Elements:\n",
      "   Index   Name   Inverse  Order\n",
      "      0       e       e       1\n",
      "      1       a       a       2\n",
      "Cayley Table (showing indices):\n",
      "[[0, 1], [1, 0]]\n"
     ]
    }
   ],
   "source": [
    ">>> from finite_algebras import generate_cyclic_group\n",
    "\n",
    ">>> z2 = generate_cyclic_group(2)\n",
    "\n",
    ">>> z2.about()"
   ]
  },
  {
   "cell_type": "markdown",
   "id": "e6517091",
   "metadata": {},
   "source": [
    "**Compute the Direct Product of the cyclic group with itself:**"
   ]
  },
  {
   "cell_type": "code",
   "execution_count": 4,
   "id": "59028d8b",
   "metadata": {},
   "outputs": [
    {
     "name": "stdout",
     "output_type": "stream",
     "text": [
      "\n",
      "Group: Z2_x_Z2\n",
      "Instance ID: 140618314411280\n",
      "Description: Direct product of Z2 & Z2\n",
      "Identity: e:e\n",
      "Associative? Yes\n",
      "Commutative? Yes\n",
      "Elements:\n",
      "   Index   Name   Inverse  Order\n",
      "      0     e:e     e:e       1\n",
      "      1     e:a     e:a       2\n",
      "      2     a:e     a:e       2\n",
      "      3     a:a     a:a       2\n",
      "Cayley Table (showing names):\n",
      "[['e:e', 'e:a', 'a:e', 'a:a'],\n",
      " ['e:a', 'e:e', 'a:a', 'a:e'],\n",
      " ['a:e', 'a:a', 'e:e', 'e:a'],\n",
      " ['a:a', 'a:e', 'e:a', 'e:e']]\n"
     ]
    }
   ],
   "source": [
    ">>> z2_sqr = z2 * z2\n",
    "\n",
    ">>> z2_sqr.about(use_table_names=True)"
   ]
  },
  {
   "cell_type": "markdown",
   "id": "c9861376",
   "metadata": {},
   "source": [
    "**Are z2_sqr & v4 isomorphic?**\n",
    "\n",
    "**Yes, and here's the mapping between their elements:**"
   ]
  },
  {
   "cell_type": "code",
   "execution_count": 5,
   "id": "11e58a73",
   "metadata": {},
   "outputs": [
    {
     "data": {
      "text/plain": [
       "{'e': 'e:e', 'h': 'e:a', 'v': 'a:e', 'r': 'a:a'}"
      ]
     },
     "execution_count": 5,
     "metadata": {},
     "output_type": "execute_result"
    }
   ],
   "source": [
    ">>> v4.isomorphic(z2_sqr)"
   ]
  }
 ],
 "metadata": {
  "kernelspec": {
   "display_name": "Python 3",
   "language": "python",
   "name": "python3"
  },
  "language_info": {
   "codemirror_mode": {
    "name": "ipython",
    "version": 3
   },
   "file_extension": ".py",
   "mimetype": "text/x-python",
   "name": "python",
   "nbconvert_exporter": "python",
   "pygments_lexer": "ipython3",
   "version": "3.7.7"
  }
 },
 "nbformat": 4,
 "nbformat_minor": 5
}
