{
 "cells": [
  {
   "cell_type": "markdown",
   "id": "08bd6835",
   "metadata": {},
   "source": [
    "# Vector Spaces & Modules"
   ]
  },
  {
   "cell_type": "markdown",
   "id": "c7139137",
   "metadata": {},
   "source": [
    "Vector Spaces and Modules are defined using Groups, Rings, and Fields."
   ]
  },
  {
   "cell_type": "markdown",
   "id": "252eeabf",
   "metadata": {},
   "source": [
    "## Vector Space"
   ]
  },
  {
   "cell_type": "markdown",
   "id": "368fc072",
   "metadata": {},
   "source": [
    "A **Vector Space**, $\\mathscr{V} = \\langle \\mathscr{G}, \\mathscr{F}, \\circ \\rangle$, consists of the following:\n",
    "\n",
    "* an **abelian Group**, $\\mathscr{G} = \\langle V, \\oplus \\rangle$ (i.e., the \"vectors\")\n",
    "* a **field**, $\\mathscr{F} = \\langle S, +, \\times \\rangle$ (i.e., the \"scalars\")\n",
    "* and a **binary operator**, $\\circ : S \\times V \\to V$\n",
    "\n",
    "where the following conditions hold:\n",
    "\n",
    "1. Scaled Vectors: For all $s \\in S$ and $v \\in V \\Rightarrow s \\circ v \\in V$\n",
    "1. Scaling by One: If $\\underline{1} \\in S$ is the multiplicative identity element of $\\mathscr{F}$, then $\\underline{1} \\circ v = v$\n",
    "1. Distributivity of Scalars Over Vector Addition: $s \\circ (v_1 \\oplus v_2) = (s \\circ v_1) \\oplus (s \\circ v_2)$\n",
    "1. Distributivity of Vectors Over Scalar Addition: $(s_1 + s_2) \\circ v = (s_1 \\circ v) \\oplus (s_2 \\circ v)$\n",
    "1. Scalar-Vector Associativity: $s_1 \\circ (s_2 \\circ v) = (s_1 \\times s_2) \\circ v$\n",
    "\n",
    "A **Module**, $\\mathscr{M} = \\langle \\mathscr{G}, \\mathscr{R}, \\circ \\rangle$, has the same conditions as a Vector Space, except that the Field is replaced by a **Ring**, $\\mathscr{R} = \\langle S, +, \\times \\rangle$."
   ]
  },
  {
   "cell_type": "markdown",
   "id": "12c1d232",
   "metadata": {},
   "source": [
    "## Internal Representation of Vector Spaces & Modules\n",
    "\n",
    "Unlike Groups, Rings, Fields, and such, Vector Spaces and Modules have more than one set of elements and more than one or two binary operations.  Within the ``finite_algebra`` implementation, the internal representation is as shown below. The five elements listed must be input to the function, ``make_finite_algebra``, in the order shown, to construct a Module or VectorSpace.\n",
    "\n",
    "* **name**: (``str``) A short name for the algebra;\n",
    "* **description**: (``str``) Any additional, useful information about the algebra;\n",
    "* **scalars**: A ``Ring`` or a ``Field``. The Ring or Field elements are called *scalars* and the scalar addition and multiplication operations are those of the Ring or Field;\n",
    "* **vectors**: An abelian ``Group``. Its elements are *vectors* and its operation is *vector addition*;\n",
    "* **sv_op**: A scalar-vector binary operation, $\\circ : S \\times V \\to V$, for \"scaling vectors\"\n",
    "\n",
    "If the scalars are a Field, then ``make_finite_algebra`` will construct a VectorSpace. Otherwise, if the scalars are a Ring, then a Module will be constructed."
   ]
  },
  {
   "cell_type": "markdown",
   "id": "7cdb2888",
   "metadata": {},
   "source": [
    "## Examples"
   ]
  },
  {
   "cell_type": "markdown",
   "id": "7f7b43c4",
   "metadata": {},
   "source": [
    "### $\\mathbb{R}^n$"
   ]
  },
  {
   "cell_type": "markdown",
   "id": "f6c5a6bd",
   "metadata": {},
   "source": [
    "Perhaps the most well-known example of a vector space is $\\mathbb{R}^n$, the n-dimensional vector space over the real numbers.  Of course, $\\mathbb{R}^n$ satisfies all of the conditions listed in the definition above.  The scalar field of $\\mathbb{R}^n$ is $\\mathbb{R}$ itself, and the abelian group of $\\mathbb{R}^n$ is the direct product, $\\mathscr{G} = \\mathbb{R} \\times \\dots \\times \\mathbb{R} \\equiv \\times^n \\mathbb{R}$, where the group's binary operation is component-wise addition in $\\mathbb{R}$ and its identity element is $0_n = (0, \\dots, 0)$, commonly called *the origin*."
   ]
  },
  {
   "cell_type": "markdown",
   "id": "61fbb32f",
   "metadata": {},
   "source": [
    "### A Finite, n-Dimensional Vector Space (similar to $\\mathbb{R}^n$)"
   ]
  },
  {
   "cell_type": "markdown",
   "id": "c4b5e980",
   "metadata": {},
   "source": [
    "Given a finite Field (or finite Ring) and a positive integer dimension, the function, ``generate_n_dim_module``, constructs an n-dimensional Vector Space (or Module) similar to how $\\mathbb{R}^n$ is constructed.\n",
    "\n",
    "This will be demonstrated using the following [\"field with 4 elements\" (see Wikipedia)](https://en.wikipedia.org/wiki/Finite_field#Field_with_four_elements):"
   ]
  },
  {
   "cell_type": "code",
   "execution_count": 1,
   "id": "a40ab883",
   "metadata": {},
   "outputs": [],
   "source": [
    ">>> from finite_algebras import make_finite_algebra"
   ]
  },
  {
   "cell_type": "code",
   "execution_count": 2,
   "id": "6f5859b2",
   "metadata": {},
   "outputs": [
    {
     "data": {
      "text/plain": [
       "Field(\n",
       "'F4',\n",
       "'Field with 4 elements (from Wikipedia)',\n",
       "['0', '1', 'a', '1+a'],\n",
       "[[0, 1, 2, 3], [1, 0, 3, 2], [2, 3, 0, 1], [3, 2, 1, 0]],\n",
       "[[0, 0, 0, 0], [0, 1, 2, 3], [0, 2, 3, 1], [0, 3, 1, 2]]\n",
       ")"
      ]
     },
     "execution_count": 2,
     "metadata": {},
     "output_type": "execute_result"
    }
   ],
   "source": [
    ">>> f4 = make_finite_algebra('F4',\n",
    "                             'Field with 4 elements (from Wikipedia)',\n",
    "                             ['0', '1', 'a', '1+a'],\n",
    "                             [['0', '1', 'a', '1+a'],\n",
    "                              ['1', '0', '1+a', 'a'],\n",
    "                              ['a', '1+a', '0', '1'],\n",
    "                              ['1+a', 'a', '1', '0']],\n",
    "                             [['0', '0', '0', '0'],\n",
    "                              ['0', '1', 'a', '1+a'],\n",
    "                              ['0', 'a', '1+a', '1'],\n",
    "                              ['0', '1+a', '1', 'a']]\n",
    "                            )\n",
    "\n",
    ">>> f4"
   ]
  },
  {
   "cell_type": "markdown",
   "id": "ba4cc851",
   "metadata": {},
   "source": [
    "f4 is used, below, to create a finite, n-dimensional VectorSpace.\n",
    "\n",
    "NOTE: ``generate_n_dim_module`` is a convenience function.  Within it, the requisite Field (or Ring), Group, and scalar-vector operation are constructed and then fed to the all-purpose algebra construction function, ``make_finite_algebra``, to create a VectorSpace or Module.  The five conditions, listed in the definition above, are also checked.  If any of them fail, then an exception will be raised."
   ]
  },
  {
   "cell_type": "code",
   "execution_count": 3,
   "id": "840c326d",
   "metadata": {},
   "outputs": [
    {
     "name": "stdout",
     "output_type": "stream",
     "text": [
      "\n",
      "VectorSpace: VS2-F4\n",
      "Instance ID: 140255520281424\n",
      "Description: 2-dimensional Vector Space over F4\n",
      "\n",
      "SCALARS:\n",
      "\n",
      "** Field **\n",
      "Name: F4\n",
      "Instance ID: 140254585350992\n",
      "Description: Field with 4 elements (from Wikipedia)\n",
      "Order: 4\n",
      "Identity: 0\n",
      "Associative? Yes\n",
      "Commutative? Yes\n",
      "Cyclic?: Yes\n",
      "  Generators: ['1+a', 'a']\n",
      "Elements:\n",
      "   Index   Name   Inverse  Order\n",
      "      0       0       0       1\n",
      "      1       1       1       2\n",
      "      2       a       a       2\n",
      "      3     1+a     1+a       2\n",
      "Cayley Table (showing indices):\n",
      "[[0, 1, 2, 3], [1, 0, 3, 2], [2, 3, 0, 1], [3, 2, 1, 0]]\n",
      "Mult. Identity: 1\n",
      "Mult. Commutative? Yes\n",
      "Zero Divisors: None\n",
      "Multiplicative Cayley Table (showing indices):\n",
      "[[0, 0, 0, 0], [0, 1, 2, 3], [0, 2, 3, 1], [0, 3, 1, 2]]\n",
      "\n",
      "VECTORS:\n",
      "\n",
      "** Group **\n",
      "Name: F4_x_F4\n",
      "Instance ID: 140254585349904\n",
      "Description: Direct product of F4 & F4\n",
      "Order: 16\n",
      "Identity: 0:0\n",
      "Associative? Yes\n",
      "Commutative? Yes\n",
      "Cyclic?: No\n",
      "Elements:\n",
      "   Index   Name   Inverse  Order\n",
      "      0     0:0     0:0       1\n",
      "      1     0:1     0:1       2\n",
      "      2     0:a     0:a       2\n",
      "      3   0:1+a   0:1+a       2\n",
      "      4     1:0     1:0       2\n",
      "      5     1:1     1:1       2\n",
      "      6     1:a     1:a       2\n",
      "      7   1:1+a   1:1+a       2\n",
      "      8     a:0     a:0       2\n",
      "      9     a:1     a:1       2\n",
      "     10     a:a     a:a       2\n",
      "     11   a:1+a   a:1+a       2\n",
      "     12   1+a:0   1+a:0       2\n",
      "     13   1+a:1   1+a:1       2\n",
      "     14   1+a:a   1+a:a       2\n",
      "     15 1+a:1+a 1+a:1+a       2\n",
      "Cayley Table (showing indices):\n",
      "[[0, 1, 2, 3, 4, 5, 6, 7, 8, 9, 10, 11, 12, 13, 14, 15],\n",
      " [1, 0, 3, 2, 5, 4, 7, 6, 9, 8, 11, 10, 13, 12, 15, 14],\n",
      " [2, 3, 0, 1, 6, 7, 4, 5, 10, 11, 8, 9, 14, 15, 12, 13],\n",
      " [3, 2, 1, 0, 7, 6, 5, 4, 11, 10, 9, 8, 15, 14, 13, 12],\n",
      " [4, 5, 6, 7, 0, 1, 2, 3, 12, 13, 14, 15, 8, 9, 10, 11],\n",
      " [5, 4, 7, 6, 1, 0, 3, 2, 13, 12, 15, 14, 9, 8, 11, 10],\n",
      " [6, 7, 4, 5, 2, 3, 0, 1, 14, 15, 12, 13, 10, 11, 8, 9],\n",
      " [7, 6, 5, 4, 3, 2, 1, 0, 15, 14, 13, 12, 11, 10, 9, 8],\n",
      " [8, 9, 10, 11, 12, 13, 14, 15, 0, 1, 2, 3, 4, 5, 6, 7],\n",
      " [9, 8, 11, 10, 13, 12, 15, 14, 1, 0, 3, 2, 5, 4, 7, 6],\n",
      " [10, 11, 8, 9, 14, 15, 12, 13, 2, 3, 0, 1, 6, 7, 4, 5],\n",
      " [11, 10, 9, 8, 15, 14, 13, 12, 3, 2, 1, 0, 7, 6, 5, 4],\n",
      " [12, 13, 14, 15, 8, 9, 10, 11, 4, 5, 6, 7, 0, 1, 2, 3],\n",
      " [13, 12, 15, 14, 9, 8, 11, 10, 5, 4, 7, 6, 1, 0, 3, 2],\n",
      " [14, 15, 12, 13, 10, 11, 8, 9, 6, 7, 4, 5, 2, 3, 0, 1],\n",
      " [15, 14, 13, 12, 11, 10, 9, 8, 7, 6, 5, 4, 3, 2, 1, 0]]\n"
     ]
    }
   ],
   "source": [
    ">>> from finite_algebras import generate_n_dim_module\n",
    "\n",
    ">>> n = 2  # We're using a small number of dimensions to limit the amount of printout below\n",
    "\n",
    ">>> vs = generate_n_dim_module(f4, n)\n",
    "\n",
    ">>> vs.about(max_size=16)"
   ]
  },
  {
   "cell_type": "markdown",
   "id": "02812dec",
   "metadata": {},
   "source": [
    "The scalar and vector elements of the VectorSpace can be obtained as follows:"
   ]
  },
  {
   "cell_type": "code",
   "execution_count": 4,
   "id": "0309696b",
   "metadata": {},
   "outputs": [
    {
     "data": {
      "text/plain": [
       "['0', '1', 'a', '1+a']"
      ]
     },
     "execution_count": 4,
     "metadata": {},
     "output_type": "execute_result"
    }
   ],
   "source": [
    ">>> vs.scalar.elements"
   ]
  },
  {
   "cell_type": "code",
   "execution_count": 5,
   "id": "0d68bb8e",
   "metadata": {},
   "outputs": [
    {
     "data": {
      "text/plain": [
       "['0:0',\n",
       " '0:1',\n",
       " '0:a',\n",
       " '0:1+a',\n",
       " '1:0',\n",
       " '1:1',\n",
       " '1:a',\n",
       " '1:1+a',\n",
       " 'a:0',\n",
       " 'a:1',\n",
       " 'a:a',\n",
       " 'a:1+a',\n",
       " '1+a:0',\n",
       " '1+a:1',\n",
       " '1+a:a',\n",
       " '1+a:1+a']"
      ]
     },
     "execution_count": 5,
     "metadata": {},
     "output_type": "execute_result"
    }
   ],
   "source": [
    ">>> vs.vector.elements"
   ]
  },
  {
   "cell_type": "markdown",
   "id": "3ad7b1f4",
   "metadata": {},
   "source": [
    "Scalar addition and multiplication is just the addition and multiplication operations of the Field (Scalars) used to create the VectorSpace (or Module)"
   ]
  },
  {
   "cell_type": "code",
   "execution_count": 6,
   "id": "bf299185",
   "metadata": {},
   "outputs": [
    {
     "data": {
      "text/plain": [
       "'1+a'"
      ]
     },
     "execution_count": 6,
     "metadata": {},
     "output_type": "execute_result"
    }
   ],
   "source": [
    ">>> vs.scalar.add('1', 'a')"
   ]
  },
  {
   "cell_type": "code",
   "execution_count": 7,
   "id": "f7d5ed8a",
   "metadata": {},
   "outputs": [
    {
     "data": {
      "text/plain": [
       "'1+a'"
      ]
     },
     "execution_count": 7,
     "metadata": {},
     "output_type": "execute_result"
    }
   ],
   "source": [
    ">>> vs.scalar.mult('a', 'a')"
   ]
  },
  {
   "cell_type": "markdown",
   "id": "e5e5d081",
   "metadata": {},
   "source": [
    "Vector addition is just the binary operation of the Group (Vectors) used to create the Vector Space (or Module)"
   ]
  },
  {
   "cell_type": "code",
   "execution_count": 8,
   "id": "5fb223b6",
   "metadata": {},
   "outputs": [
    {
     "data": {
      "text/plain": [
       "'a:1+a'"
      ]
     },
     "execution_count": 8,
     "metadata": {},
     "output_type": "execute_result"
    }
   ],
   "source": [
    ">>> vs.vector_add('1+a:1', '1:a')  # Same as vs.vector.op('1+a:1', '1:a')"
   ]
  },
  {
   "cell_type": "markdown",
   "id": "16a88c2e",
   "metadata": {},
   "source": [
    "And, since the *scalar* part of a VectorSpace is a Field, we can obtain it's identity elements as follows:"
   ]
  },
  {
   "cell_type": "code",
   "execution_count": 9,
   "id": "3a6e8479",
   "metadata": {},
   "outputs": [
    {
     "data": {
      "text/plain": [
       "'0'"
      ]
     },
     "execution_count": 9,
     "metadata": {},
     "output_type": "execute_result"
    }
   ],
   "source": [
    ">>> vs.scalar.zero"
   ]
  },
  {
   "cell_type": "code",
   "execution_count": 10,
   "id": "394209f0",
   "metadata": {},
   "outputs": [
    {
     "data": {
      "text/plain": [
       "'1'"
      ]
     },
     "execution_count": 10,
     "metadata": {},
     "output_type": "execute_result"
    }
   ],
   "source": [
    ">>> vs.scalar.one"
   ]
  },
  {
   "cell_type": "markdown",
   "id": "48242c46",
   "metadata": {},
   "source": [
    "The scalar-vector operation for scaling Vectors (or Modules) is the VectorSpace method, ``sv_op``, and takes two inputs: a scalar and vector, resp."
   ]
  },
  {
   "cell_type": "code",
   "execution_count": 11,
   "id": "fdbc49d0",
   "metadata": {},
   "outputs": [
    {
     "data": {
      "text/plain": [
       "'1:a'"
      ]
     },
     "execution_count": 11,
     "metadata": {},
     "output_type": "execute_result"
    }
   ],
   "source": [
    "vs.sv_op('a', '1+a:1')"
   ]
  },
  {
   "cell_type": "markdown",
   "id": "c4d60f34",
   "metadata": {},
   "source": [
    "### Checking the VectorSpace/Module Conditions"
   ]
  },
  {
   "cell_type": "markdown",
   "id": "fe20ffb0",
   "metadata": {},
   "source": [
    "The following are four examples that illustrate the method calls required to check the requirements of a Vector Space or Module.  During VectorSpace or Module construction, function ``make_finite_algebra`` automatically calls the function ``check_module_conditions`` to make sure that the requirements for a Vector Space or Module are met."
   ]
  },
  {
   "cell_type": "markdown",
   "id": "08f9302b",
   "metadata": {},
   "source": [
    "**Scaling by 1**"
   ]
  },
  {
   "cell_type": "markdown",
   "id": "c7386af5",
   "metadata": {},
   "source": [
    "If $\\mathscr{1} \\in S$ is the multiplicative identity element of $\\mathscr{F}$, then $\\mathscr{1} \\circ v = v$"
   ]
  },
  {
   "cell_type": "code",
   "execution_count": 12,
   "id": "79049b0b",
   "metadata": {},
   "outputs": [
    {
     "name": "stdout",
     "output_type": "stream",
     "text": [
      "a:1+a\n"
     ]
    }
   ],
   "source": [
    ">>> print(vs.sv_op(vs.scalar.one, 'a:1+a'))"
   ]
  },
  {
   "cell_type": "markdown",
   "id": "966b1281",
   "metadata": {},
   "source": [
    "**Distributivity of scalars over vector addition**"
   ]
  },
  {
   "cell_type": "markdown",
   "id": "25fdcddc",
   "metadata": {},
   "source": [
    "$s \\circ (v_1 \\oplus v_2) = (s \\circ v_1) \\oplus (s \\circ v_2)$"
   ]
  },
  {
   "cell_type": "code",
   "execution_count": 13,
   "id": "dc0d2b06",
   "metadata": {},
   "outputs": [],
   "source": [
    ">>> s = 'a'\n",
    ">>> v1 = 'a:1+a'\n",
    ">>> v2 = 'a:1'"
   ]
  },
  {
   "cell_type": "markdown",
   "id": "f027df0c",
   "metadata": {},
   "source": [
    "$s \\circ (v_1 \\oplus v_2)$"
   ]
  },
  {
   "cell_type": "code",
   "execution_count": 14,
   "id": "7d20f5a1",
   "metadata": {},
   "outputs": [
    {
     "name": "stdout",
     "output_type": "stream",
     "text": [
      "0:1+a\n"
     ]
    }
   ],
   "source": [
    ">>> print(vs.sv_op(s, vs.vector_add(v1, v2)))"
   ]
  },
  {
   "cell_type": "markdown",
   "id": "44ddb559",
   "metadata": {},
   "source": [
    "$(s \\circ v_1) \\oplus (s \\circ v_2)$"
   ]
  },
  {
   "cell_type": "code",
   "execution_count": 15,
   "id": "6d7f2c2b",
   "metadata": {},
   "outputs": [
    {
     "name": "stdout",
     "output_type": "stream",
     "text": [
      "0:1+a\n"
     ]
    }
   ],
   "source": [
    ">>> print(vs.vector_add(vs.sv_op(s, v1), vs.sv_op(s, v2)))"
   ]
  },
  {
   "cell_type": "markdown",
   "id": "ae09bbe2",
   "metadata": {},
   "source": [
    "**Distributivity of vectors over scalar addition**"
   ]
  },
  {
   "cell_type": "markdown",
   "id": "8b6ed7d8",
   "metadata": {},
   "source": [
    "$(s_1 + s_2) \\circ v = (s_1 \\circ v) \\oplus (s_2 \\circ v)$"
   ]
  },
  {
   "cell_type": "code",
   "execution_count": 16,
   "id": "8e60c8bd",
   "metadata": {},
   "outputs": [],
   "source": [
    ">>> s1 = 'a'\n",
    ">>> s2 = '1+a'\n",
    ">>> v = 'a:1'"
   ]
  },
  {
   "cell_type": "markdown",
   "id": "312c09eb",
   "metadata": {},
   "source": [
    "$(s_1 + s_2) \\circ v$"
   ]
  },
  {
   "cell_type": "code",
   "execution_count": 17,
   "id": "5cf62332",
   "metadata": {},
   "outputs": [
    {
     "name": "stdout",
     "output_type": "stream",
     "text": [
      "a:1\n"
     ]
    }
   ],
   "source": [
    ">>> print(vs.sv_op(vs.scalar.add(s1, s2), v))"
   ]
  },
  {
   "cell_type": "markdown",
   "id": "50e65e5d",
   "metadata": {},
   "source": [
    "$(s_1 \\circ v) \\oplus (s_2 \\circ v)$"
   ]
  },
  {
   "cell_type": "code",
   "execution_count": 18,
   "id": "656e304c",
   "metadata": {},
   "outputs": [
    {
     "name": "stdout",
     "output_type": "stream",
     "text": [
      "a:1\n"
     ]
    }
   ],
   "source": [
    ">>> print(vs.vector_add(vs.sv_op(s1, v), vs.sv_op(s2, v)))"
   ]
  },
  {
   "cell_type": "markdown",
   "id": "e9adfb25",
   "metadata": {},
   "source": [
    "**Associativity**"
   ]
  },
  {
   "cell_type": "markdown",
   "id": "337124cf",
   "metadata": {},
   "source": [
    "$s_1 \\circ (s_2 \\circ v) = (s_1 \\times s_2) \\circ v$"
   ]
  },
  {
   "cell_type": "code",
   "execution_count": 19,
   "id": "042bf8f4",
   "metadata": {},
   "outputs": [],
   "source": [
    ">>> s1 = 'a'\n",
    ">>> s2 = '1+a'\n",
    ">>> v = 'a:1'"
   ]
  },
  {
   "cell_type": "markdown",
   "id": "452a2050",
   "metadata": {},
   "source": [
    "$s_1 \\circ (s_2 \\circ v)$"
   ]
  },
  {
   "cell_type": "code",
   "execution_count": 20,
   "id": "f3e890e5",
   "metadata": {},
   "outputs": [
    {
     "name": "stdout",
     "output_type": "stream",
     "text": [
      "a:1\n"
     ]
    }
   ],
   "source": [
    ">>> print(vs.sv_op(s1, vs.sv_op(s2, v)))"
   ]
  },
  {
   "cell_type": "markdown",
   "id": "4e89ea57",
   "metadata": {},
   "source": [
    "$(s_1 \\times s_2) \\circ v$"
   ]
  },
  {
   "cell_type": "code",
   "execution_count": 21,
   "id": "52cc959e",
   "metadata": {},
   "outputs": [
    {
     "name": "stdout",
     "output_type": "stream",
     "text": [
      "a:1\n"
     ]
    }
   ],
   "source": [
    ">>> print(vs.sv_op(vs.scalar.mult(s1, s2), v))"
   ]
  },
  {
   "cell_type": "markdown",
   "id": "8239eaf3",
   "metadata": {},
   "source": [
    "## Module based on a Ring"
   ]
  },
  {
   "cell_type": "markdown",
   "id": "2305d4da",
   "metadata": {},
   "source": [
    "Another example, using the technique presented above, but this time with a Ring, instead of a Field.\n",
    "\n",
    "Here's the Ring:"
   ]
  },
  {
   "cell_type": "code",
   "execution_count": 22,
   "id": "856c9d26",
   "metadata": {},
   "outputs": [
    {
     "name": "stdout",
     "output_type": "stream",
     "text": [
      "\n",
      "** Ring **\n",
      "Name: PSRing2\n",
      "Instance ID: 140254585273168\n",
      "Description: Autogenerated Ring on powerset of {0, 1} w/ symm. diff. (add) & intersection (mult)\n",
      "Order: 4\n",
      "Identity: {}\n",
      "Associative? Yes\n",
      "Commutative? Yes\n",
      "Cyclic?: No\n",
      "Elements:\n",
      "   Index   Name   Inverse  Order\n",
      "      0      {}      {}       1\n",
      "      1     {0}     {0}       2\n",
      "      2     {1}     {1}       2\n",
      "      3  {0, 1}  {0, 1}       2\n",
      "Cayley Table (showing indices):\n",
      "[[0, 1, 2, 3], [1, 0, 3, 2], [2, 3, 0, 1], [3, 2, 1, 0]]\n",
      "Mult. Identity: {0, 1}\n",
      "Mult. Commutative? Yes\n",
      "Zero Divisors: ['{0}', '{1}']\n",
      "Multiplicative Cayley Table (showing indices):\n",
      "[[0, 0, 0, 0], [0, 1, 0, 1], [0, 0, 2, 2], [0, 1, 2, 3]]\n"
     ]
    }
   ],
   "source": [
    ">>> from finite_algebras import generate_powerset_ring\n",
    ">>> psr2 = generate_powerset_ring(2)\n",
    ">>> psr2.about()"
   ]
  },
  {
   "cell_type": "markdown",
   "id": "37553fe2",
   "metadata": {},
   "source": [
    "And here's the finite, n-dimensional Module based on the Ring, above:"
   ]
  },
  {
   "cell_type": "code",
   "execution_count": 23,
   "id": "007e2c27",
   "metadata": {},
   "outputs": [
    {
     "name": "stdout",
     "output_type": "stream",
     "text": [
      "\n",
      "Module: Mod2-PSRing2\n",
      "Instance ID: 140254585445968\n",
      "Description: 2-dimensional Module over PSRing2\n",
      "\n",
      "SCALARS:\n",
      "\n",
      "** Ring **\n",
      "Name: PSRing2\n",
      "Instance ID: 140254585273168\n",
      "Description: Autogenerated Ring on powerset of {0, 1} w/ symm. diff. (add) & intersection (mult)\n",
      "Order: 4\n",
      "Identity: {}\n",
      "Associative? Yes\n",
      "Commutative? Yes\n",
      "Cyclic?: No\n",
      "Elements:\n",
      "   Index   Name   Inverse  Order\n",
      "      0      {}      {}       1\n",
      "      1     {0}     {0}       2\n",
      "      2     {1}     {1}       2\n",
      "      3  {0, 1}  {0, 1}       2\n",
      "Cayley Table (showing indices):\n",
      "[[0, 1, 2, 3], [1, 0, 3, 2], [2, 3, 0, 1], [3, 2, 1, 0]]\n",
      "Mult. Identity: {0, 1}\n",
      "Mult. Commutative? Yes\n",
      "Zero Divisors: ['{0}', '{1}']\n",
      "Multiplicative Cayley Table (showing indices):\n",
      "[[0, 0, 0, 0], [0, 1, 0, 1], [0, 0, 2, 2], [0, 1, 2, 3]]\n",
      "\n",
      "VECTORS:\n",
      "\n",
      "** Group **\n",
      "Name: PSRing2_x_PSRing2\n",
      "Instance ID: 140254585459152\n",
      "Description: Direct product of PSRing2 & PSRing2\n",
      "Order: 16\n",
      "Identity: {}:{}\n",
      "Associative? Yes\n",
      "Commutative? Yes\n",
      "Cyclic?: No\n",
      "Elements:\n",
      "   Index   Name   Inverse  Order\n",
      "      0   {}:{}   {}:{}       1\n",
      "      1  {}:{0}  {}:{0}       2\n",
      "      2  {}:{1}  {}:{1}       2\n",
      "      3 {}:{0, 1} {}:{0, 1}       2\n",
      "      4  {0}:{}  {0}:{}       2\n",
      "      5 {0}:{0} {0}:{0}       2\n",
      "      6 {0}:{1} {0}:{1}       2\n",
      "      7 {0}:{0, 1} {0}:{0, 1}       2\n",
      "      8  {1}:{}  {1}:{}       2\n",
      "      9 {1}:{0} {1}:{0}       2\n",
      "     10 {1}:{1} {1}:{1}       2\n",
      "     11 {1}:{0, 1} {1}:{0, 1}       2\n",
      "     12 {0, 1}:{} {0, 1}:{}       2\n",
      "     13 {0, 1}:{0} {0, 1}:{0}       2\n",
      "     14 {0, 1}:{1} {0, 1}:{1}       2\n",
      "     15 {0, 1}:{0, 1} {0, 1}:{0, 1}       2\n",
      "Cayley Table (showing indices):\n",
      "[[0, 1, 2, 3, 4, 5, 6, 7, 8, 9, 10, 11, 12, 13, 14, 15],\n",
      " [1, 0, 3, 2, 5, 4, 7, 6, 9, 8, 11, 10, 13, 12, 15, 14],\n",
      " [2, 3, 0, 1, 6, 7, 4, 5, 10, 11, 8, 9, 14, 15, 12, 13],\n",
      " [3, 2, 1, 0, 7, 6, 5, 4, 11, 10, 9, 8, 15, 14, 13, 12],\n",
      " [4, 5, 6, 7, 0, 1, 2, 3, 12, 13, 14, 15, 8, 9, 10, 11],\n",
      " [5, 4, 7, 6, 1, 0, 3, 2, 13, 12, 15, 14, 9, 8, 11, 10],\n",
      " [6, 7, 4, 5, 2, 3, 0, 1, 14, 15, 12, 13, 10, 11, 8, 9],\n",
      " [7, 6, 5, 4, 3, 2, 1, 0, 15, 14, 13, 12, 11, 10, 9, 8],\n",
      " [8, 9, 10, 11, 12, 13, 14, 15, 0, 1, 2, 3, 4, 5, 6, 7],\n",
      " [9, 8, 11, 10, 13, 12, 15, 14, 1, 0, 3, 2, 5, 4, 7, 6],\n",
      " [10, 11, 8, 9, 14, 15, 12, 13, 2, 3, 0, 1, 6, 7, 4, 5],\n",
      " [11, 10, 9, 8, 15, 14, 13, 12, 3, 2, 1, 0, 7, 6, 5, 4],\n",
      " [12, 13, 14, 15, 8, 9, 10, 11, 4, 5, 6, 7, 0, 1, 2, 3],\n",
      " [13, 12, 15, 14, 9, 8, 11, 10, 5, 4, 7, 6, 1, 0, 3, 2],\n",
      " [14, 15, 12, 13, 10, 11, 8, 9, 6, 7, 4, 5, 2, 3, 0, 1],\n",
      " [15, 14, 13, 12, 11, 10, 9, 8, 7, 6, 5, 4, 3, 2, 1, 0]]\n"
     ]
    }
   ],
   "source": [
    ">>> n = 2\n",
    ">>> psr_mod = generate_n_dim_module(psr2, n)\n",
    ">>> psr_mod.about(max_size=16)"
   ]
  }
 ],
 "metadata": {
  "kernelspec": {
   "display_name": "Python 3",
   "language": "python",
   "name": "python3"
  },
  "language_info": {
   "codemirror_mode": {
    "name": "ipython",
    "version": 3
   },
   "file_extension": ".py",
   "mimetype": "text/x-python",
   "name": "python",
   "nbconvert_exporter": "python",
   "pygments_lexer": "ipython3",
   "version": "3.7.7"
  }
 },
 "nbformat": 4,
 "nbformat_minor": 5
}
