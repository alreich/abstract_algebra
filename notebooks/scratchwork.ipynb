{
 "cells": [
  {
   "cell_type": "markdown",
   "id": "1b60b817",
   "metadata": {},
   "source": [
    "# Scratchwork"
   ]
  },
  {
   "cell_type": "markdown",
   "id": "006c48a6",
   "metadata": {},
   "source": [
    "This notebook is only used for trying out ideas."
   ]
  },
  {
   "cell_type": "code",
   "execution_count": 1,
   "id": "80c5468c",
   "metadata": {},
   "outputs": [],
   "source": [
    "import algebras as alg\n",
    "import json\n",
    "import os\n",
    "import numpy as np\n",
    "import itertools as it\n",
    "# from pprint import pprint\n",
    "import pprint as pp\n",
    "\n",
    "# from itertools import combinations, permutations, product\n",
    "import itertools as it"
   ]
  },
  {
   "cell_type": "code",
   "execution_count": 2,
   "id": "49beb55a",
   "metadata": {},
   "outputs": [],
   "source": [
    "# Path to this repo\n",
    "aa_path = os.path.join(os.getenv('PYPROJ'), 'abstract_algebra')\n",
    "\n",
    "# Path to a directory containing Algebra definitions in JSON\n",
    "alg_dir = os.path.join(aa_path, \"Algebras\")"
   ]
  },
  {
   "cell_type": "markdown",
   "id": "0a1078c2",
   "metadata": {},
   "source": [
    "## Groups for Testing"
   ]
  },
  {
   "cell_type": "markdown",
   "id": "bb40f93e",
   "metadata": {},
   "source": [
    "### D4 - Dihedral Group on 4 Vertices"
   ]
  },
  {
   "cell_type": "code",
   "execution_count": 3,
   "id": "48681b76",
   "metadata": {},
   "outputs": [
    {
     "name": "stdout",
     "output_type": "stream",
     "text": [
      "{\"type\": \"Group\",\r\n",
      " \"name\": \"D_4\",\r\n",
      " \"description\": \"Dihedral group on four vertices\",\r\n",
      " \"element_names\": [\"e\", \"r\", \"r^2\", \"r^3\", \"f\", \"fr\", \"r^2f\", \"rf\"],\r\n",
      " \"alt_elem_names\": [\"()\", \"(0 1 2 3)\", \"(0 2)(1 3)\", \"(0 3 2 1)\",\r\n",
      "                    \"(0 1)(2 3)\", \"(1 3)\", \"(0 3)(1 2)\", \"(0 2)\"],\r\n",
      " \"mult_table\": [[0, 1, 2, 3, 4, 5, 6, 7],\r\n",
      "                [1, 2, 3, 0, 7, 4, 5, 6],\r\n",
      "                [2, 3, 0, 1, 6, 7, 4, 5],\r\n",
      "                [3, 0, 1, 2, 5, 6, 7, 4],\r\n",
      "                [4, 5, 6, 7, 0, 1, 2, 3],\r\n",
      "                [5, 6, 7, 4, 3, 0, 1, 2],\r\n",
      "                [6, 7, 4, 5, 2, 3, 0, 1],\r\n",
      "                [7, 4, 5, 6, 1, 2, 3, 0]]\r\n",
      "}"
     ]
    }
   ],
   "source": [
    "d4_path = os.path.join(alg_dir, \"d4_dihedral_group_on_4_vertices.json\")\n",
    "!cat {d4_path}"
   ]
  },
  {
   "cell_type": "code",
   "execution_count": 4,
   "id": "42c05db2",
   "metadata": {},
   "outputs": [
    {
     "name": "stdout",
     "output_type": "stream",
     "text": [
      "\n",
      "Group: D_4\n",
      "Dihedral group on four vertices\n",
      "Abelian? False\n",
      "Elements:\n",
      "   Index   Name   Inverse  Order\n",
      "      0       e       e       1\n",
      "      1       r     r^3       4\n",
      "      2     r^2     r^2       2\n",
      "      3     r^3       r       4\n",
      "      4       f       f       2\n",
      "      5      fr      fr       2\n",
      "      6    r^2f    r^2f       2\n",
      "      7      rf      rf       2\n",
      "Cayley Table (showing indices):\n",
      "[[0, 1, 2, 3, 4, 5, 6, 7],\n",
      " [1, 2, 3, 0, 7, 4, 5, 6],\n",
      " [2, 3, 0, 1, 6, 7, 4, 5],\n",
      " [3, 0, 1, 2, 5, 6, 7, 4],\n",
      " [4, 5, 6, 7, 0, 1, 2, 3],\n",
      " [5, 6, 7, 4, 3, 0, 1, 2],\n",
      " [6, 7, 4, 5, 2, 3, 0, 1],\n",
      " [7, 4, 5, 6, 1, 2, 3, 0]]\n"
     ]
    }
   ],
   "source": [
    "d4 = alg.Group(d4_path)\n",
    "d4.about()"
   ]
  },
  {
   "cell_type": "markdown",
   "id": "628c3e46",
   "metadata": {},
   "source": [
    "### V4 - Klein 4 Group"
   ]
  },
  {
   "cell_type": "code",
   "execution_count": 5,
   "id": "fd7cf629",
   "metadata": {},
   "outputs": [
    {
     "name": "stdout",
     "output_type": "stream",
     "text": [
      "{\"type\": \"Group\",\r\n",
      " \"name\": \"V4\",\r\n",
      " \"description\": \"Klein-4 group\",\r\n",
      " \"element_names\": [\"e\", \"h\", \"v\", \"r\"],\r\n",
      " \"mult_table\": [[0, 1, 2, 3],\r\n",
      "                [1, 0, 3, 2],\r\n",
      "                [2, 3, 0, 1],\r\n",
      "                [3, 2, 1, 0]]\r\n",
      "}\r\n"
     ]
    }
   ],
   "source": [
    "v4_path = os.path.join(alg_dir, \"v4_klein_4_group.json\")\n",
    "!cat {v4_path}"
   ]
  },
  {
   "cell_type": "code",
   "execution_count": 6,
   "id": "e8125ff1",
   "metadata": {},
   "outputs": [
    {
     "name": "stdout",
     "output_type": "stream",
     "text": [
      "\n",
      "Group: V4\n",
      "Klein-4 group\n",
      "Abelian? True\n",
      "Elements:\n",
      "   Index   Name   Inverse  Order\n",
      "      0       e       e       1\n",
      "      1       h       h       2\n",
      "      2       v       v       2\n",
      "      3       r       r       2\n",
      "Cayley Table (showing indices):\n",
      "[[0, 1, 2, 3], [1, 0, 3, 2], [2, 3, 0, 1], [3, 2, 1, 0]]\n"
     ]
    }
   ],
   "source": [
    "v4 = alg.Group(v4_path)\n",
    "v4.about()"
   ]
  },
  {
   "cell_type": "code",
   "execution_count": 7,
   "id": "232603d2",
   "metadata": {},
   "outputs": [
    {
     "data": {
      "text/plain": [
       "Group('Z2',\n",
       "'Autogenerated cyclic group of order 2',\n",
       "['e', 'a'],\n",
       "[[0, 1], [1, 0]]) "
      ]
     },
     "execution_count": 7,
     "metadata": {},
     "output_type": "execute_result"
    }
   ],
   "source": [
    "z2 = alg.generate_cyclic_group(2)\n",
    "z2"
   ]
  },
  {
   "cell_type": "code",
   "execution_count": 8,
   "id": "aaa2bd19",
   "metadata": {},
   "outputs": [
    {
     "data": {
      "text/plain": [
       "Group('Z2_x_Z2',\n",
       "'Direct product of Z2 & Z2',\n",
       "['e:e', 'e:a', 'a:e', 'a:a'],\n",
       "[[0, 1, 2, 3], [1, 0, 3, 2], [2, 3, 0, 1], [3, 2, 1, 0]]) "
      ]
     },
     "execution_count": 8,
     "metadata": {},
     "output_type": "execute_result"
    }
   ],
   "source": [
    "z2_x_z2 = z2 * z2\n",
    "z2_x_z2"
   ]
  },
  {
   "cell_type": "code",
   "execution_count": 9,
   "id": "6482c0b1",
   "metadata": {},
   "outputs": [
    {
     "data": {
      "text/plain": [
       "Group('Z4',\n",
       "'Autogenerated cyclic group of order 4',\n",
       "['e', 'a', 'a^2', 'a^3'],\n",
       "[[0, 1, 2, 3], [1, 2, 3, 0], [2, 3, 0, 1], [3, 0, 1, 2]]) "
      ]
     },
     "execution_count": 9,
     "metadata": {},
     "output_type": "execute_result"
    }
   ],
   "source": [
    "z4 = alg.generate_cyclic_group(4)\n",
    "z4"
   ]
  },
  {
   "cell_type": "markdown",
   "id": "868f2675",
   "metadata": {},
   "source": [
    "### Powerset Group on 3 Items"
   ]
  },
  {
   "cell_type": "markdown",
   "id": "d2d8086d",
   "metadata": {},
   "source": [
    "TODO: Look for the paper by Carolyn Bean, \"Group operations on the power set\", Journal of Undergraduate Mathematics 8 #1 (March 1976), 13-17."
   ]
  },
  {
   "cell_type": "code",
   "execution_count": 10,
   "id": "e454a7fd",
   "metadata": {},
   "outputs": [
    {
     "name": "stdout",
     "output_type": "stream",
     "text": [
      "\n",
      "Group: PS3\n",
      "Autogenerated group on the powerset of 3 elements, with symmetric difference operator\n",
      "Abelian? True\n",
      "Elements:\n",
      "   Index   Name   Inverse  Order\n",
      "      0      {}      {}       1\n",
      "      1     {0}     {0}       2\n",
      "      2     {1}     {1}       2\n",
      "      3     {2}     {2}       2\n",
      "      4  {0, 1}  {0, 1}       2\n",
      "      5  {0, 2}  {0, 2}       2\n",
      "      6  {1, 2}  {1, 2}       2\n",
      "      7 {0, 1, 2} {0, 1, 2}       2\n",
      "Cayley Table (showing indices):\n",
      "[[0, 1, 2, 3, 4, 5, 6, 7],\n",
      " [1, 0, 4, 5, 2, 3, 7, 6],\n",
      " [2, 4, 0, 6, 1, 7, 3, 5],\n",
      " [3, 5, 6, 0, 7, 1, 2, 4],\n",
      " [4, 2, 1, 7, 0, 6, 5, 3],\n",
      " [5, 3, 7, 1, 6, 0, 4, 2],\n",
      " [6, 7, 3, 2, 5, 4, 0, 1],\n",
      " [7, 6, 5, 4, 3, 2, 1, 0]]\n"
     ]
    }
   ],
   "source": [
    "ps3 = alg.generate_powerset_group(3)\n",
    "ps3.about()"
   ]
  },
  {
   "cell_type": "markdown",
   "id": "41721c6f",
   "metadata": {},
   "source": [
    "## Finite Rings"
   ]
  },
  {
   "cell_type": "markdown",
   "id": "91d69fb7",
   "metadata": {},
   "source": [
    "### Set Operations"
   ]
  },
  {
   "cell_type": "code",
   "execution_count": 11,
   "id": "9788c2ef",
   "metadata": {},
   "outputs": [
    {
     "name": "stdout",
     "output_type": "stream",
     "text": [
      "               Union: {0, 1, 2, 3, 4, 5, 6, 8}\n",
      "        Intersection: {2, 4}\n",
      "          Difference: {0, 8, 6}\n",
      "Symmetric Difference: {0, 1, 3, 5, 6, 8}\n"
     ]
    }
   ],
   "source": [
    "A = {0, 2, 4, 6, 8}\n",
    "B = {1, 2, 3, 4, 5}\n",
    "\n",
    "print(f\"               Union: {A | B}\")\n",
    "print(f\"        Intersection: {A & B}\")\n",
    "print(f\"          Difference: {A - B}\")\n",
    "print(f\"Symmetric Difference: {A ^ B}\")"
   ]
  },
  {
   "cell_type": "markdown",
   "id": "3cff14b9",
   "metadata": {},
   "source": [
    "\"Consider any finite set. Then its power set with respect to symmetric difference (as 1st operation) and set intersection (as 2nd operation) is an example of a finite ring.\" -- [Quora](https://www.quora.com/What-are-examples-of-finite-rings#:~:text=Matrices%20over%20any%20ring%20make,a%20finite%20ring%20with%20elements.)"
   ]
  },
  {
   "cell_type": "markdown",
   "id": "3c126d00",
   "metadata": {},
   "source": [
    "### Powerset Ring"
   ]
  },
  {
   "cell_type": "code",
   "execution_count": 12,
   "id": "5a16a144",
   "metadata": {},
   "outputs": [],
   "source": [
    "psr = alg.generate_powerset_ring(3)"
   ]
  },
  {
   "cell_type": "code",
   "execution_count": 13,
   "id": "117b1992",
   "metadata": {},
   "outputs": [
    {
     "data": {
      "text/plain": [
       "'{0, 1}'"
      ]
     },
     "execution_count": 13,
     "metadata": {},
     "output_type": "execute_result"
    }
   ],
   "source": [
    "psr.add('{0}', '{1}')"
   ]
  },
  {
   "cell_type": "code",
   "execution_count": 14,
   "id": "36bab31d",
   "metadata": {},
   "outputs": [],
   "source": [
    "#psr.rmult_table"
   ]
  },
  {
   "cell_type": "code",
   "execution_count": 15,
   "id": "9acf7b29",
   "metadata": {},
   "outputs": [],
   "source": [
    "#psr.rmult_table_with_names()"
   ]
  },
  {
   "cell_type": "code",
   "execution_count": 17,
   "id": "bd5b5057",
   "metadata": {},
   "outputs": [
    {
     "data": {
      "text/plain": [
       "'{}'"
      ]
     },
     "execution_count": 17,
     "metadata": {},
     "output_type": "execute_result"
    }
   ],
   "source": [
    "psr.ring_mult('{0}', '{1}')"
   ]
  },
  {
   "cell_type": "code",
   "execution_count": 18,
   "id": "17343f0d",
   "metadata": {},
   "outputs": [
    {
     "name": "stdout",
     "output_type": "stream",
     "text": [
      "CPU times: user 4 µs, sys: 1 µs, total: 5 µs\n",
      "Wall time: 7.15 µs\n"
     ]
    },
    {
     "data": {
      "text/plain": [
       "True"
      ]
     },
     "execution_count": 18,
     "metadata": {},
     "output_type": "execute_result"
    }
   ],
   "source": [
    "%time psr.is_distributive()"
   ]
  },
  {
   "cell_type": "code",
   "execution_count": 19,
   "id": "31e3260b",
   "metadata": {},
   "outputs": [],
   "source": [
    "psr.has_mult_identity"
   ]
  },
  {
   "cell_type": "code",
   "execution_count": 20,
   "id": "58aa6348",
   "metadata": {},
   "outputs": [
    {
     "data": {
      "text/plain": [
       "'{0, 1, 2}'"
      ]
     },
     "execution_count": 20,
     "metadata": {},
     "output_type": "execute_result"
    }
   ],
   "source": [
    "psr.mult_identity"
   ]
  },
  {
   "cell_type": "code",
   "execution_count": 21,
   "id": "6c2826ad",
   "metadata": {},
   "outputs": [
    {
     "data": {
      "text/plain": [
       "True"
      ]
     },
     "execution_count": 21,
     "metadata": {},
     "output_type": "execute_result"
    }
   ],
   "source": [
    "psr.has_mult_identity"
   ]
  },
  {
   "cell_type": "code",
   "execution_count": 22,
   "id": "1c1de7ee",
   "metadata": {},
   "outputs": [
    {
     "name": "stdout",
     "output_type": "stream",
     "text": [
      "CPU times: user 3 µs, sys: 0 ns, total: 3 µs\n",
      "Wall time: 6.91 µs\n"
     ]
    },
    {
     "data": {
      "text/plain": [
       "True"
      ]
     },
     "execution_count": 22,
     "metadata": {},
     "output_type": "execute_result"
    }
   ],
   "source": [
    "%time psr.is_distributive()"
   ]
  },
  {
   "cell_type": "code",
   "execution_count": null,
   "id": "c37b5914",
   "metadata": {},
   "outputs": [],
   "source": []
  },
  {
   "cell_type": "code",
   "execution_count": null,
   "id": "23b984dd",
   "metadata": {},
   "outputs": [],
   "source": []
  },
  {
   "cell_type": "code",
   "execution_count": null,
   "id": "1b345c65",
   "metadata": {},
   "outputs": [],
   "source": []
  },
  {
   "cell_type": "markdown",
   "id": "86242475",
   "metadata": {},
   "source": [
    "## Summarize Proper Subgroups of a Group"
   ]
  },
  {
   "cell_type": "code",
   "execution_count": 23,
   "id": "91d4b14a",
   "metadata": {},
   "outputs": [],
   "source": [
    "psr3 = alg.generate_powerset_ring(3)"
   ]
  },
  {
   "cell_type": "code",
   "execution_count": 24,
   "id": "66311d8b",
   "metadata": {},
   "outputs": [
    {
     "name": "stdout",
     "output_type": "stream",
     "text": [
      "\n",
      "PS3 has 14 proper subgroups.\n",
      "\n"
     ]
    }
   ],
   "source": [
    "ps3_prop_subs = ps3.proper_subgroups()\n",
    "print(f\"\\n{ps3.name} has {len(ps3_prop_subs)} proper subgroups.\\n\")"
   ]
  },
  {
   "cell_type": "code",
   "execution_count": 25,
   "id": "6c6fd8d3",
   "metadata": {},
   "outputs": [],
   "source": [
    "iso_sets_of_groups = alg.divide_groups_into_isomorphic_sets(ps3_prop_subs)"
   ]
  },
  {
   "cell_type": "code",
   "execution_count": 28,
   "id": "b540ca71",
   "metadata": {},
   "outputs": [
    {
     "data": {
      "text/plain": [
       "[['PS3_subgroup_0',\n",
       "  'PS3_subgroup_1',\n",
       "  'PS3_subgroup_2',\n",
       "  'PS3_subgroup_4',\n",
       "  'PS3_subgroup_6',\n",
       "  'PS3_subgroup_11',\n",
       "  'PS3_subgroup_12'],\n",
       " ['PS3_subgroup_3',\n",
       "  'PS3_subgroup_5',\n",
       "  'PS3_subgroup_7',\n",
       "  'PS3_subgroup_8',\n",
       "  'PS3_subgroup_9',\n",
       "  'PS3_subgroup_10',\n",
       "  'PS3_subgroup_13']]"
      ]
     },
     "execution_count": 28,
     "metadata": {},
     "output_type": "execute_result"
    }
   ],
   "source": [
    "[[g.name for g in iso_set] for iso_set in iso_sets_of_groups]"
   ]
  },
  {
   "cell_type": "code",
   "execution_count": 29,
   "id": "19cea748",
   "metadata": {},
   "outputs": [
    {
     "name": "stdout",
     "output_type": "stream",
     "text": [
      "\n",
      "Group: PS3_subgroup_0\n",
      "Subgroup of: Autogenerated group on the powerset of 3 elements, with symmetric difference operator\n",
      "Abelian? True\n",
      "Elements:\n",
      "   Index   Name   Inverse  Order\n",
      "      0      {}      {}       1\n",
      "      1  {1, 2}  {1, 2}       2\n",
      "Cayley Table (showing indices):\n",
      "[[0, 1], [1, 0]]\n",
      "\n",
      "Group: PS3_subgroup_3\n",
      "Subgroup of: Autogenerated group on the powerset of 3 elements, with symmetric difference operator\n",
      "Abelian? True\n",
      "Elements:\n",
      "   Index   Name   Inverse  Order\n",
      "      0      {}      {}       1\n",
      "      1  {0, 1}  {0, 1}       2\n",
      "      2  {0, 2}  {0, 2}       2\n",
      "      3  {1, 2}  {1, 2}       2\n",
      "Cayley Table (showing indices):\n",
      "[[0, 1, 2, 3], [1, 0, 3, 2], [2, 3, 0, 1], [3, 2, 1, 0]]\n"
     ]
    },
    {
     "data": {
      "text/plain": [
       "[None, None]"
      ]
     },
     "execution_count": 29,
     "metadata": {},
     "output_type": "execute_result"
    }
   ],
   "source": [
    "[iso_set[0].about() for iso_set in iso_sets_of_groups]"
   ]
  },
  {
   "cell_type": "markdown",
   "id": "f4b2d913",
   "metadata": {},
   "source": [
    "## Conjugation & Normal Subgroups"
   ]
  },
  {
   "cell_type": "markdown",
   "id": "97346522",
   "metadata": {},
   "source": [
    "### V4"
   ]
  },
  {
   "cell_type": "code",
   "execution_count": 30,
   "id": "3d955d89",
   "metadata": {},
   "outputs": [
    {
     "data": {
      "text/plain": [
       "[Group('V4_subgroup_0',\n",
       " 'Subgroup of: Klein-4 group',\n",
       " ['e', 'r'],\n",
       " [[0, 1], [1, 0]]) ,\n",
       " Group('V4_subgroup_1',\n",
       " 'Subgroup of: Klein-4 group',\n",
       " ['e', 'v'],\n",
       " [[0, 1], [1, 0]]) ,\n",
       " Group('V4_subgroup_2',\n",
       " 'Subgroup of: Klein-4 group',\n",
       " ['e', 'h'],\n",
       " [[0, 1], [1, 0]]) ]"
      ]
     },
     "execution_count": 30,
     "metadata": {},
     "output_type": "execute_result"
    }
   ],
   "source": [
    "v4_subs = v4.proper_subgroups()\n",
    "v4_subs"
   ]
  },
  {
   "cell_type": "code",
   "execution_count": 31,
   "id": "89e81c58",
   "metadata": {},
   "outputs": [
    {
     "data": {
      "text/plain": [
       "[Group('V4_subgroup_0',\n",
       " 'Subgroup of: Klein-4 group',\n",
       " ['e', 'r'],\n",
       " [[0, 1], [1, 0]]) ]"
      ]
     },
     "execution_count": 31,
     "metadata": {},
     "output_type": "execute_result"
    }
   ],
   "source": [
    "v4.unique_proper_subgroups()"
   ]
  },
  {
   "cell_type": "code",
   "execution_count": 32,
   "id": "43b70bd4",
   "metadata": {},
   "outputs": [
    {
     "data": {
      "text/plain": [
       "True"
      ]
     },
     "execution_count": 32,
     "metadata": {},
     "output_type": "execute_result"
    }
   ],
   "source": [
    "v4.is_normal(v4_subs[0])"
   ]
  },
  {
   "cell_type": "markdown",
   "id": "a1c6c12e",
   "metadata": {},
   "source": [
    "### D4"
   ]
  },
  {
   "cell_type": "code",
   "execution_count": 33,
   "id": "9f4c337c",
   "metadata": {},
   "outputs": [
    {
     "name": "stdout",
     "output_type": "stream",
     "text": [
      "\n",
      "Group: D_4\n",
      "Dihedral group on four vertices\n",
      "Abelian? False\n",
      "Elements:\n",
      "   Index   Name   Inverse  Order\n",
      "      0       e       e       1\n",
      "      1       r     r^3       4\n",
      "      2     r^2     r^2       2\n",
      "      3     r^3       r       4\n",
      "      4       f       f       2\n",
      "      5      fr      fr       2\n",
      "      6    r^2f    r^2f       2\n",
      "      7      rf      rf       2\n",
      "Cayley Table (showing indices):\n",
      "[[0, 1, 2, 3, 4, 5, 6, 7],\n",
      " [1, 2, 3, 0, 7, 4, 5, 6],\n",
      " [2, 3, 0, 1, 6, 7, 4, 5],\n",
      " [3, 0, 1, 2, 5, 6, 7, 4],\n",
      " [4, 5, 6, 7, 0, 1, 2, 3],\n",
      " [5, 6, 7, 4, 3, 0, 1, 2],\n",
      " [6, 7, 4, 5, 2, 3, 0, 1],\n",
      " [7, 4, 5, 6, 1, 2, 3, 0]]\n"
     ]
    }
   ],
   "source": [
    "d4.about()"
   ]
  },
  {
   "cell_type": "code",
   "execution_count": 34,
   "id": "33e269ff",
   "metadata": {},
   "outputs": [
    {
     "data": {
      "text/plain": [
       "8"
      ]
     },
     "execution_count": 34,
     "metadata": {},
     "output_type": "execute_result"
    }
   ],
   "source": [
    "len(d4.proper_subgroups())"
   ]
  },
  {
   "cell_type": "code",
   "execution_count": 35,
   "id": "9bd88c29",
   "metadata": {},
   "outputs": [
    {
     "data": {
      "text/plain": [
       "[Group('D_4_subgroup_0',\n",
       " 'Subgroup of: Dihedral group on four vertices',\n",
       " ['e', 'r^2f'],\n",
       " [[0, 1], [1, 0]]) ,\n",
       " Group('D_4_subgroup_2',\n",
       " 'Subgroup of: Dihedral group on four vertices',\n",
       " ['e', 'r', 'r^2', 'r^3'],\n",
       " [[0, 1, 2, 3], [1, 2, 3, 0], [2, 3, 0, 1], [3, 0, 1, 2]]) ,\n",
       " Group('D_4_subgroup_5',\n",
       " 'Subgroup of: Dihedral group on four vertices',\n",
       " ['e', 'r^2', 'fr', 'rf'],\n",
       " [[0, 1, 2, 3], [1, 0, 3, 2], [2, 3, 0, 1], [3, 2, 1, 0]]) ]"
      ]
     },
     "execution_count": 35,
     "metadata": {},
     "output_type": "execute_result"
    }
   ],
   "source": [
    "d4_subs = d4.unique_proper_subgroups()\n",
    "d4_subs"
   ]
  },
  {
   "cell_type": "markdown",
   "id": "b544ced7",
   "metadata": {},
   "source": [
    "The result below matches the comment in the last paragraph of this section:\n",
    "https://en.wikipedia.org/wiki/Dihedral_group#Properties"
   ]
  },
  {
   "cell_type": "code",
   "execution_count": 36,
   "id": "a7f7278d",
   "metadata": {},
   "outputs": [
    {
     "data": {
      "text/plain": [
       "[False, True, True]"
      ]
     },
     "execution_count": 36,
     "metadata": {},
     "output_type": "execute_result"
    }
   ],
   "source": [
    "[d4.is_normal(sub) for sub in d4_subs]"
   ]
  },
  {
   "cell_type": "markdown",
   "id": "8ef39361",
   "metadata": {},
   "source": [
    "### V4"
   ]
  },
  {
   "cell_type": "code",
   "execution_count": 37,
   "id": "5ace5d5d",
   "metadata": {},
   "outputs": [
    {
     "data": {
      "text/plain": [
       "[True, True, True]"
      ]
     },
     "execution_count": 37,
     "metadata": {},
     "output_type": "execute_result"
    }
   ],
   "source": [
    "grp = v4\n",
    "grp_subs = grp.proper_subgroups()\n",
    "[grp.is_normal(sub) for sub in grp_subs]"
   ]
  },
  {
   "cell_type": "markdown",
   "id": "185236d6",
   "metadata": {},
   "source": [
    "### PS3"
   ]
  },
  {
   "cell_type": "code",
   "execution_count": 38,
   "id": "9d7c5185",
   "metadata": {},
   "outputs": [
    {
     "data": {
      "text/plain": [
       "[True, True]"
      ]
     },
     "execution_count": 38,
     "metadata": {},
     "output_type": "execute_result"
    }
   ],
   "source": [
    "grp = ps3\n",
    "grp_unique_subs = grp.unique_proper_subgroups()\n",
    "[grp.is_normal(sub) for sub in grp_unique_subs]"
   ]
  },
  {
   "cell_type": "markdown",
   "id": "f66dbe00",
   "metadata": {},
   "source": [
    "### WORK IN PROGRESS"
   ]
  },
  {
   "cell_type": "code",
   "execution_count": 39,
   "id": "2fa4b8c3",
   "metadata": {},
   "outputs": [
    {
     "data": {
      "text/plain": [
       "[[['{}', '{1, 2}'],\n",
       "  ['{}', '{0, 1}'],\n",
       "  ['{}', '{2}'],\n",
       "  ['{}', '{0, 2}'],\n",
       "  ['{}', '{0, 1, 2}'],\n",
       "  ['{}', '{0}'],\n",
       "  ['{}', '{1}']],\n",
       " [['{}', '{0, 1}', '{0, 2}', '{1, 2}'],\n",
       "  ['{}', '{0}', '{2}', '{0, 2}'],\n",
       "  ['{}', '{0}', '{1, 2}', '{0, 1, 2}'],\n",
       "  ['{}', '{1}', '{2}', '{1, 2}'],\n",
       "  ['{}', '{2}', '{0, 1}', '{0, 1, 2}'],\n",
       "  ['{}', '{0}', '{1}', '{0, 1}'],\n",
       "  ['{}', '{1}', '{0, 2}', '{0, 1, 2}']]]"
      ]
     },
     "execution_count": 39,
     "metadata": {},
     "output_type": "execute_result"
    }
   ],
   "source": [
    "subs = grp.proper_subgroups()\n",
    "iso_subs = alg.divide_groups_into_isomorphic_sets(subs)\n",
    "elem_name_lists = [[g.elements for g in iso_sub] for iso_sub in iso_subs]\n",
    "elem_name_lists"
   ]
  },
  {
   "cell_type": "code",
   "execution_count": 40,
   "id": "ded5e54b",
   "metadata": {},
   "outputs": [],
   "source": [
    "def about_proper_subgroups2(grp, unique=False, show_elements=True):\n",
    "    if unique:\n",
    "        subs = grp.unique_proper_subgroups()\n",
    "    else:\n",
    "        subs = grp.proper_subgroups()\n",
    "    print(f\"\\nSubgroups of {grp.name}:\")\n",
    "    for sub in subs:\n",
    "        print(f\"\\n  {sub.name}:\")\n",
    "        print(f\"       order: {sub.order}\")\n",
    "        if show_elements:\n",
    "            print(f\"    elements: {sub.elements}\")\n",
    "        print(f\"    abelian?: {sub.is_abelian()}\")\n",
    "        print(f\"     normal?: {grp.is_normal(sub)}\")\n",
    "    return None"
   ]
  },
  {
   "cell_type": "code",
   "execution_count": 41,
   "id": "aca0ae8e",
   "metadata": {},
   "outputs": [],
   "source": [
    "def about_proper_subgroups3(grp, unique=False, show_elements=True):\n",
    "    subs = grp.proper_subgroups()\n",
    "    if unique:\n",
    "        iso_subs = alg.divide_groups_into_isomorphic_sets(subs)\n",
    "        elem_name_lists = [g.element_names for g in iso_subs[0]]\n",
    "        elem_name_lists[1:]\n",
    "    print(f\"\\nSubgroups of {grp.name}:\")\n",
    "    for sub in subs:\n",
    "        print(f\"\\n  {sub.name}:\")\n",
    "        print(f\"       order: {sub.order}\")\n",
    "        if show_elements:\n",
    "            print(f\"    elements: {sub.elements}\")\n",
    "        print(f\"    abelian?: {sub.is_abelian()}\")\n",
    "        print(f\"     normal?: {grp.is_normal(sub)}\")\n",
    "    return None"
   ]
  },
  {
   "cell_type": "code",
   "execution_count": 42,
   "id": "60f1bf14",
   "metadata": {},
   "outputs": [
    {
     "name": "stdout",
     "output_type": "stream",
     "text": [
      "\n",
      "Subgroups of PS3:\n",
      "\n",
      "  PS3_subgroup_0:\n",
      "       order: 2\n",
      "    elements: ['{}', '{1, 2}']\n",
      "    abelian?: True\n",
      "     normal?: True\n",
      "\n",
      "  PS3_subgroup_3:\n",
      "       order: 4\n",
      "    elements: ['{}', '{0, 1}', '{0, 2}', '{1, 2}']\n",
      "    abelian?: True\n",
      "     normal?: True\n"
     ]
    }
   ],
   "source": [
    "about_proper_subgroups2(ps3, unique=True)"
   ]
  },
  {
   "cell_type": "code",
   "execution_count": null,
   "id": "eaef6fd3",
   "metadata": {},
   "outputs": [],
   "source": []
  },
  {
   "cell_type": "code",
   "execution_count": null,
   "id": "5d8310aa",
   "metadata": {},
   "outputs": [],
   "source": []
  },
  {
   "cell_type": "code",
   "execution_count": 43,
   "id": "7422b986",
   "metadata": {},
   "outputs": [
    {
     "name": "stdout",
     "output_type": "stream",
     "text": [
      "\n",
      "Group: PS3\n",
      "Autogenerated group on the powerset of 3 elements, with symmetric difference operator\n",
      "Abelian? True\n",
      "Elements:\n",
      "   Index   Name   Inverse  Order\n",
      "      0      {}      {}       1\n",
      "      1     {0}     {0}       2\n",
      "      2     {1}     {1}       2\n",
      "      3     {2}     {2}       2\n",
      "      4  {0, 1}  {0, 1}       2\n",
      "      5  {0, 2}  {0, 2}       2\n",
      "      6  {1, 2}  {1, 2}       2\n",
      "      7 {0, 1, 2} {0, 1, 2}       2\n",
      "Cayley Table (showing indices):\n",
      "[[0, 1, 2, 3, 4, 5, 6, 7],\n",
      " [1, 0, 4, 5, 2, 3, 7, 6],\n",
      " [2, 4, 0, 6, 1, 7, 3, 5],\n",
      " [3, 5, 6, 0, 7, 1, 2, 4],\n",
      " [4, 2, 1, 7, 0, 6, 5, 3],\n",
      " [5, 3, 7, 1, 6, 0, 4, 2],\n",
      " [6, 7, 3, 2, 5, 4, 0, 1],\n",
      " [7, 6, 5, 4, 3, 2, 1, 0]]\n"
     ]
    }
   ],
   "source": [
    "ps3 = alg.generate_powerset_group(3)\n",
    "ps3.about()"
   ]
  },
  {
   "cell_type": "code",
   "execution_count": 44,
   "id": "8952cf3a",
   "metadata": {},
   "outputs": [],
   "source": [
    "foo = ['e', 'a', 'b', 'c', 'd', 'f', 'g', 'h']\n",
    "\n",
    "rev_mapping = dict(zip(foo, ps3.elements))\n",
    "mapping = dict(zip(ps3.elements, foo))"
   ]
  },
  {
   "cell_type": "code",
   "execution_count": 45,
   "id": "fec57c89",
   "metadata": {},
   "outputs": [
    {
     "data": {
      "text/plain": [
       "[Group('PS3_subgroup_0',\n",
       " 'Subgroup of: Autogenerated group on the powerset of 3 elements, with symmetric difference operator',\n",
       " ['{}', '{1, 2}'],\n",
       " [[0, 1], [1, 0]]) ,\n",
       " Group('PS3_subgroup_1',\n",
       " 'Subgroup of: Autogenerated group on the powerset of 3 elements, with symmetric difference operator',\n",
       " ['{}', '{0, 1}'],\n",
       " [[0, 1], [1, 0]]) ,\n",
       " Group('PS3_subgroup_2',\n",
       " 'Subgroup of: Autogenerated group on the powerset of 3 elements, with symmetric difference operator',\n",
       " ['{}', '{2}'],\n",
       " [[0, 1], [1, 0]]) ,\n",
       " Group('PS3_subgroup_3',\n",
       " 'Subgroup of: Autogenerated group on the powerset of 3 elements, with symmetric difference operator',\n",
       " ['{}', '{0, 1}', '{0, 2}', '{1, 2}'],\n",
       " [[0, 1, 2, 3], [1, 0, 3, 2], [2, 3, 0, 1], [3, 2, 1, 0]]) ,\n",
       " Group('PS3_subgroup_4',\n",
       " 'Subgroup of: Autogenerated group on the powerset of 3 elements, with symmetric difference operator',\n",
       " ['{}', '{0, 2}'],\n",
       " [[0, 1], [1, 0]]) ,\n",
       " Group('PS3_subgroup_5',\n",
       " 'Subgroup of: Autogenerated group on the powerset of 3 elements, with symmetric difference operator',\n",
       " ['{}', '{0}', '{2}', '{0, 2}'],\n",
       " [[0, 1, 2, 3], [1, 0, 3, 2], [2, 3, 0, 1], [3, 2, 1, 0]]) ,\n",
       " Group('PS3_subgroup_6',\n",
       " 'Subgroup of: Autogenerated group on the powerset of 3 elements, with symmetric difference operator',\n",
       " ['{}', '{0, 1, 2}'],\n",
       " [[0, 1], [1, 0]]) ,\n",
       " Group('PS3_subgroup_7',\n",
       " 'Subgroup of: Autogenerated group on the powerset of 3 elements, with symmetric difference operator',\n",
       " ['{}', '{0}', '{1, 2}', '{0, 1, 2}'],\n",
       " [[0, 1, 2, 3], [1, 0, 3, 2], [2, 3, 0, 1], [3, 2, 1, 0]]) ,\n",
       " Group('PS3_subgroup_8',\n",
       " 'Subgroup of: Autogenerated group on the powerset of 3 elements, with symmetric difference operator',\n",
       " ['{}', '{1}', '{2}', '{1, 2}'],\n",
       " [[0, 1, 2, 3], [1, 0, 3, 2], [2, 3, 0, 1], [3, 2, 1, 0]]) ,\n",
       " Group('PS3_subgroup_9',\n",
       " 'Subgroup of: Autogenerated group on the powerset of 3 elements, with symmetric difference operator',\n",
       " ['{}', '{2}', '{0, 1}', '{0, 1, 2}'],\n",
       " [[0, 1, 2, 3], [1, 0, 3, 2], [2, 3, 0, 1], [3, 2, 1, 0]]) ,\n",
       " Group('PS3_subgroup_10',\n",
       " 'Subgroup of: Autogenerated group on the powerset of 3 elements, with symmetric difference operator',\n",
       " ['{}', '{0}', '{1}', '{0, 1}'],\n",
       " [[0, 1, 2, 3], [1, 0, 3, 2], [2, 3, 0, 1], [3, 2, 1, 0]]) ,\n",
       " Group('PS3_subgroup_11',\n",
       " 'Subgroup of: Autogenerated group on the powerset of 3 elements, with symmetric difference operator',\n",
       " ['{}', '{0}'],\n",
       " [[0, 1], [1, 0]]) ,\n",
       " Group('PS3_subgroup_12',\n",
       " 'Subgroup of: Autogenerated group on the powerset of 3 elements, with symmetric difference operator',\n",
       " ['{}', '{1}'],\n",
       " [[0, 1], [1, 0]]) ,\n",
       " Group('PS3_subgroup_13',\n",
       " 'Subgroup of: Autogenerated group on the powerset of 3 elements, with symmetric difference operator',\n",
       " ['{}', '{1}', '{0, 2}', '{0, 1, 2}'],\n",
       " [[0, 1, 2, 3], [1, 0, 3, 2], [2, 3, 0, 1], [3, 2, 1, 0]]) ]"
      ]
     },
     "execution_count": 45,
     "metadata": {},
     "output_type": "execute_result"
    }
   ],
   "source": [
    "ps3_psubs = ps3.proper_subgroups()\n",
    "ps3_psubs"
   ]
  },
  {
   "cell_type": "code",
   "execution_count": 46,
   "id": "d298ec83",
   "metadata": {},
   "outputs": [],
   "source": [
    "ps3_psubs_x = [psub.set_elements(mapping) for psub in ps3_psubs]"
   ]
  },
  {
   "cell_type": "code",
   "execution_count": 47,
   "id": "611d9691",
   "metadata": {},
   "outputs": [],
   "source": [
    "foo = sorted(ps3_psubs_x, key=lambda x: x.elements)"
   ]
  },
  {
   "cell_type": "code",
   "execution_count": 48,
   "id": "33e85d9b",
   "metadata": {},
   "outputs": [
    {
     "data": {
      "text/plain": [
       "[['e', 'a'],\n",
       " ['e', 'a', 'b', 'd'],\n",
       " ['e', 'a', 'c', 'f'],\n",
       " ['e', 'a', 'g', 'h'],\n",
       " ['e', 'b'],\n",
       " ['e', 'b', 'c', 'g'],\n",
       " ['e', 'b', 'f', 'h'],\n",
       " ['e', 'c'],\n",
       " ['e', 'c', 'd', 'h'],\n",
       " ['e', 'd'],\n",
       " ['e', 'd', 'f', 'g'],\n",
       " ['e', 'f'],\n",
       " ['e', 'g'],\n",
       " ['e', 'h']]"
      ]
     },
     "execution_count": 48,
     "metadata": {},
     "output_type": "execute_result"
    }
   ],
   "source": [
    "[z.elements for z in foo]"
   ]
  },
  {
   "cell_type": "code",
   "execution_count": 49,
   "id": "599d04ba",
   "metadata": {},
   "outputs": [
    {
     "name": "stdout",
     "output_type": "stream",
     "text": [
      "\n",
      "Group: PS3\n",
      "Autogenerated group on the powerset of 3 elements, with symmetric difference operator\n",
      "Abelian? True\n",
      "Elements:\n",
      "   Index   Name   Inverse  Order\n",
      "      0       e       e       1\n",
      "      1       a       a       2\n",
      "      2       b       b       2\n",
      "      3       c       c       2\n",
      "      4       d       d       2\n",
      "      5       f       f       2\n",
      "      6       g       g       2\n",
      "      7       h       h       2\n",
      "Cayley Table (showing indices):\n",
      "[[0, 1, 2, 3, 4, 5, 6, 7],\n",
      " [1, 0, 4, 5, 2, 3, 7, 6],\n",
      " [2, 4, 0, 6, 1, 7, 3, 5],\n",
      " [3, 5, 6, 0, 7, 1, 2, 4],\n",
      " [4, 2, 1, 7, 0, 6, 5, 3],\n",
      " [5, 3, 7, 1, 6, 0, 4, 2],\n",
      " [6, 7, 3, 2, 5, 4, 0, 1],\n",
      " [7, 6, 5, 4, 3, 2, 1, 0]]\n"
     ]
    }
   ],
   "source": [
    "#rmap = ps3.set_elements(['e', 'a', 'b', 'c', 'd', 'f', 'g', 'h'])\n",
    "rmap = ps3.set_elements(mapping)\n",
    "ps3.about()"
   ]
  },
  {
   "cell_type": "code",
   "execution_count": null,
   "id": "c623b8ed",
   "metadata": {},
   "outputs": [],
   "source": []
  },
  {
   "cell_type": "code",
   "execution_count": 50,
   "id": "beb0db97",
   "metadata": {},
   "outputs": [
    {
     "data": {
      "text/plain": [
       "{'{}': 'e',\n",
       " '{0}': 'a',\n",
       " '{1}': 'b',\n",
       " '{2}': 'c',\n",
       " '{0, 1}': 'd',\n",
       " '{0, 2}': 'f',\n",
       " '{1, 2}': 'g',\n",
       " '{0, 1, 2}': 'h'}"
      ]
     },
     "execution_count": 50,
     "metadata": {},
     "output_type": "execute_result"
    }
   ],
   "source": [
    "mapping"
   ]
  },
  {
   "cell_type": "code",
   "execution_count": 51,
   "id": "939e176a",
   "metadata": {},
   "outputs": [
    {
     "ename": "NameError",
     "evalue": "name 'ps3_subs' is not defined",
     "output_type": "error",
     "traceback": [
      "\u001b[0;31m---------------------------------------------------------------------------\u001b[0m",
      "\u001b[0;31mNameError\u001b[0m                                 Traceback (most recent call last)",
      "\u001b[0;32m<ipython-input-51-29d84655e61c>\u001b[0m in \u001b[0;36m<module>\u001b[0;34m\u001b[0m\n\u001b[0;32m----> 1\u001b[0;31m \u001b[0msub2\u001b[0m \u001b[0;34m=\u001b[0m \u001b[0mps3_subs\u001b[0m\u001b[0;34m[\u001b[0m\u001b[0;36m2\u001b[0m\u001b[0;34m]\u001b[0m\u001b[0;34m\u001b[0m\u001b[0;34m\u001b[0m\u001b[0m\n\u001b[0m\u001b[1;32m      2\u001b[0m \u001b[0msub2\u001b[0m\u001b[0;34m\u001b[0m\u001b[0;34m\u001b[0m\u001b[0m\n\u001b[1;32m      3\u001b[0m \u001b[0;31m#ps3_subs_x = [sub.set_elements(mapping) for sub in ps3_subs]\u001b[0m\u001b[0;34m\u001b[0m\u001b[0;34m\u001b[0m\u001b[0;34m\u001b[0m\u001b[0m\n",
      "\u001b[0;31mNameError\u001b[0m: name 'ps3_subs' is not defined"
     ]
    }
   ],
   "source": [
    "sub2 = ps3_subs[2]\n",
    "sub2\n",
    "#ps3_subs_x = [sub.set_elements(mapping) for sub in ps3_subs]"
   ]
  },
  {
   "cell_type": "code",
   "execution_count": null,
   "id": "f3580bd1",
   "metadata": {},
   "outputs": [],
   "source": []
  }
 ],
 "metadata": {
  "kernelspec": {
   "display_name": "Python 3",
   "language": "python",
   "name": "python3"
  },
  "language_info": {
   "codemirror_mode": {
    "name": "ipython",
    "version": 3
   },
   "file_extension": ".py",
   "mimetype": "text/x-python",
   "name": "python",
   "nbconvert_exporter": "python",
   "pygments_lexer": "ipython3",
   "version": "3.7.7"
  }
 },
 "nbformat": 4,
 "nbformat_minor": 5
}
