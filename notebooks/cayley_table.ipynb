{
 "cells": [
  {
   "cell_type": "markdown",
   "id": "c8152c29",
   "metadata": {},
   "source": [
    "# Cayley Table"
   ]
  },
  {
   "cell_type": "markdown",
   "id": "a9c72445",
   "metadata": {},
   "source": [
    "This notebook complements the file, \"src/test_cayley_table.py\""
   ]
  },
  {
   "cell_type": "code",
   "execution_count": 3,
   "id": "528336a5",
   "metadata": {},
   "outputs": [],
   "source": [
    "from cayley_table import CayleyTable, about_tables"
   ]
  },
  {
   "cell_type": "code",
   "execution_count": 4,
   "id": "16e8d257",
   "metadata": {},
   "outputs": [
    {
     "name": "stdout",
     "output_type": "stream",
     "text": [
      "   Table  Order  Associative?  Commutative?  Left Id?  Right Id?  Identity?  Inverses?\n",
      "-------------------------------------------------------------------------------------\n",
      "     1      3       False         True         None      None       None      False\n",
      "     2      6        True        False            0         0          0       True\n",
      "     3      4        True         True            0         0          0       True\n",
      "     4      8        True         True            0         0          0       True\n",
      "     5      6        True        False         None         0       None      False\n"
     ]
    }
   ],
   "source": [
    "# not assoc; is comm; no identities -- the RPS magma table, above\n",
    "arr1 = [[0, 1, 0], [1, 1, 2], [0, 2, 2]]\n",
    "\n",
    "# is assoc; not comm; has identity (0) --- the S3 group table\n",
    "arr2 = [[0, 1, 2, 3, 4, 5], [1, 2, 0, 5, 3, 4], [2, 0, 1, 4, 5, 3],\n",
    "        [3, 4, 5, 0, 1, 2], [4, 5, 3, 2, 0, 1], [5, 3, 4, 1, 2, 0]]\n",
    "\n",
    "# is assoc; is comm; has identity (0) --- the Z4 group table\n",
    "arr3 = [[0, 1, 2, 3], [1, 2, 3, 0], [2, 3, 0, 1], [3, 0, 1, 2]]\n",
    "\n",
    "# is assoc; is comm; has identity (0) --- powerset(3) group table\n",
    "arr4 = [[0, 1, 2, 3, 4, 5, 6, 7], [1, 0, 4, 5, 2, 3, 7, 6], [2, 4, 0, 6, 1, 7, 3, 5],\n",
    "        [3, 5, 6, 0, 7, 1, 2, 4], [4, 2, 1, 7, 0, 6, 5, 3], [5, 3, 7, 1, 6, 0, 4, 2],\n",
    "        [6, 7, 3, 2, 5, 4, 0, 1], [7, 6, 5, 4, 3, 2, 1, 0]]\n",
    "\n",
    "arr5 = [[0, 3, 0, 3, 0, 3], [1, 4, 1, 4, 1, 4], [2, 5, 2, 5, 2, 5],\n",
    "        [3, 0, 3, 0, 3, 0], [4, 1, 4, 1, 4, 1], [5, 2, 5, 2, 5, 2]]\n",
    "\n",
    "# is assoc; is not comm; no left id; has right id --- Smarandache Groupoid\n",
    "test_arrays = [arr1, arr2, arr3, arr4, arr5]\n",
    "test_cayley_tables = [CayleyTable(arr) for arr in test_arrays]\n",
    "\n",
    "about_tables(test_cayley_tables)"
   ]
  },
  {
   "cell_type": "code",
   "execution_count": 13,
   "id": "4c3248c7",
   "metadata": {},
   "outputs": [
    {
     "data": {
      "text/plain": [
       "CayleyTable(\n",
       "[[0, 1, 2, 3], [1, 2, 3, 0], [2, 3, 0, 1], [3, 0, 1, 2]]\n",
       ")"
      ]
     },
     "execution_count": 13,
     "metadata": {},
     "output_type": "execute_result"
    }
   ],
   "source": [
    "arr = arr3\n",
    "\n",
    "ct = CayleyTable(arr)\n",
    "ct"
   ]
  },
  {
   "cell_type": "code",
   "execution_count": 14,
   "id": "96b654ad",
   "metadata": {},
   "outputs": [
    {
     "data": {
      "text/plain": [
       "[[0, 1, 2, 3], [1, 2, 3, 0], [2, 3, 0, 1], [3, 0, 1, 2]]"
      ]
     },
     "execution_count": 14,
     "metadata": {},
     "output_type": "execute_result"
    }
   ],
   "source": [
    "ct.tolist()"
   ]
  },
  {
   "cell_type": "code",
   "execution_count": 15,
   "id": "ff02358d",
   "metadata": {},
   "outputs": [
    {
     "name": "stdout",
     "output_type": "stream",
     "text": [
      "CayleyTable([[0, 1, 2, 3], [1, 2, 3, 0], [2, 3, 0, 1], [3, 0, 1, 2]])\n"
     ]
    }
   ],
   "source": [
    "print(ct)"
   ]
  },
  {
   "cell_type": "code",
   "execution_count": 16,
   "id": "e13da9b6",
   "metadata": {},
   "outputs": [
    {
     "data": {
      "text/plain": [
       "'CayleyTable([[0, 1, 2, 3], [1, 2, 3, 0], [2, 3, 0, 1], [3, 0, 1, 2]])'"
      ]
     },
     "execution_count": 16,
     "metadata": {},
     "output_type": "execute_result"
    }
   ],
   "source": [
    "str(ct)"
   ]
  },
  {
   "cell_type": "code",
   "execution_count": null,
   "id": "77f26e75",
   "metadata": {},
   "outputs": [],
   "source": []
  },
  {
   "cell_type": "code",
   "execution_count": null,
   "id": "a0e8c571",
   "metadata": {},
   "outputs": [],
   "source": []
  },
  {
   "cell_type": "code",
   "execution_count": null,
   "id": "3ce6074e",
   "metadata": {},
   "outputs": [],
   "source": []
  }
 ],
 "metadata": {
  "kernelspec": {
   "display_name": "Python 3",
   "language": "python",
   "name": "python3"
  },
  "language_info": {
   "codemirror_mode": {
    "name": "ipython",
    "version": 3
   },
   "file_extension": ".py",
   "mimetype": "text/x-python",
   "name": "python",
   "nbconvert_exporter": "python",
   "pygments_lexer": "ipython3",
   "version": "3.7.7"
  }
 },
 "nbformat": 4,
 "nbformat_minor": 5
}
