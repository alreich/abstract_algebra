{
 "cells": [
  {
   "cell_type": "markdown",
   "id": "269f9ab3",
   "metadata": {},
   "source": [
    "# Abstract Algebras"
   ]
  },
  {
   "cell_type": "markdown",
   "id": "07514a92",
   "metadata": {},
   "source": [
    "<i>Version 2</i>"
   ]
  },
  {
   "cell_type": "markdown",
   "id": "b7bb6042",
   "metadata": {},
   "source": [
    "## References"
   ]
  },
  {
   "cell_type": "markdown",
   "id": "35926d9a",
   "metadata": {},
   "source": [
    "* [Group Explorer](https://nathancarter.github.io/group-explorer/index.html) -- Visualization software for the abstract algebra classroom\n",
    "* [Groupprops, The Group Properties Wiki (beta)](https://groupprops.subwiki.org/wiki/Main_Page)\n",
    "* [Klein four-group, V4](https://en.wikipedia.org/wiki/Klein_four-group)\n",
    "* [Cyclic group](https://en.wikipedia.org/wiki/Cyclic_group)"
   ]
  },
  {
   "cell_type": "markdown",
   "id": "05f3a389",
   "metadata": {},
   "source": [
    "## Imports and Paths"
   ]
  },
  {
   "cell_type": "code",
   "execution_count": 1,
   "id": "5a145c57",
   "metadata": {},
   "outputs": [],
   "source": [
    "import algebras as alg\n",
    "import numpy as np\n",
    "import json\n",
    "import os"
   ]
  },
  {
   "cell_type": "code",
   "execution_count": 2,
   "id": "e7bb908d",
   "metadata": {},
   "outputs": [],
   "source": [
    "# Path to this repo\n",
    "aa_path = os.path.join(os.getenv('PYPROJ'), 'abstract_algebra')\n",
    "\n",
    "# Path to a directory containing Algebra definitions in JSON\n",
    "alg_dir = os.path.join(aa_path, \"Algebras\")"
   ]
  },
  {
   "cell_type": "markdown",
   "id": "85979523",
   "metadata": {},
   "source": [
    "### A Very Simple Group"
   ]
  },
  {
   "cell_type": "code",
   "execution_count": 3,
   "id": "eb3392e6",
   "metadata": {},
   "outputs": [],
   "source": [
    "simp = alg.Group(\"Simple\",\n",
    "                 \"A very simple group\",\n",
    "                 [\"1\", \"-1\"],\n",
    "                 [[0, 1],\n",
    "                  [1, 0]])"
   ]
  },
  {
   "cell_type": "code",
   "execution_count": 4,
   "id": "e96fa8b6",
   "metadata": {},
   "outputs": [
    {
     "name": "stdout",
     "output_type": "stream",
     "text": [
      "\n",
      "Group : Simple : A very simple group\n",
      "  Element Names: ['1', '-1']\n",
      "  Is Abelian? True\n",
      "  Inverses:  (** - indicates that it is its own inverse)\n",
      "    inv(1) = 1   **\n",
      "    inv(-1) = -1   **\n",
      "  Is associative? True\n",
      "  Cayley Table:\n",
      "     1  -1\n",
      "    -1   1\n"
     ]
    }
   ],
   "source": [
    "simp.print_info()"
   ]
  },
  {
   "cell_type": "markdown",
   "id": "da0d13ef",
   "metadata": {},
   "source": [
    "### Klein-4 Group"
   ]
  },
  {
   "cell_type": "markdown",
   "id": "ca98e18d",
   "metadata": {},
   "source": [
    "See this [definition at GitHub](https://github.com/nathancarter/group-explorer/blob/master/groups/V_4.group)."
   ]
  },
  {
   "cell_type": "code",
   "execution_count": 5,
   "id": "28209d13",
   "metadata": {},
   "outputs": [
    {
     "name": "stdout",
     "output_type": "stream",
     "text": [
      "{\"type\": \"Group\",\r\n",
      " \"name\": \"V4\",\r\n",
      " \"description\": \"Klein-4 group\",\r\n",
      " \"element_names\": [\"e\", \"h\", \"v\", \"hv\"],\r\n",
      " \"addition_table\": [[0, 1, 2, 3],\r\n",
      "                    [1, 0, 3, 2],\r\n",
      "                    [2, 3, 0, 1],\r\n",
      "                    [3, 2, 1, 0]]\r\n",
      "}\r\n"
     ]
    }
   ],
   "source": [
    "v4_json = os.path.join(alg_dir, \"v4_klein_4_group.json\")\n",
    "\n",
    "!cat {v4_json}"
   ]
  },
  {
   "cell_type": "code",
   "execution_count": 6,
   "id": "7b3ba2b5",
   "metadata": {},
   "outputs": [
    {
     "data": {
      "text/plain": [
       "Group('V4', 'Klein-4 group', ['e', 'h', 'v', 'hv'], [[0 1 2 3]\n",
       " [1 0 3 2]\n",
       " [2 3 0 1]\n",
       " [3 2 1 0]])"
      ]
     },
     "execution_count": 6,
     "metadata": {},
     "output_type": "execute_result"
    }
   ],
   "source": [
    "v4 = alg.Group(v4_json)\n",
    "v4"
   ]
  },
  {
   "cell_type": "markdown",
   "id": "e92ae95c",
   "metadata": {},
   "source": [
    "The group can also be created at the command line:"
   ]
  },
  {
   "cell_type": "code",
   "execution_count": 7,
   "id": "02b9139b",
   "metadata": {},
   "outputs": [
    {
     "data": {
      "text/plain": [
       "Group('V4x', 'Klein-4 group', ['e', 'h', 'v', 'hv'], [[0 1 2 3]\n",
       " [1 0 3 2]\n",
       " [2 3 0 1]\n",
       " [3 2 1 0]])"
      ]
     },
     "execution_count": 7,
     "metadata": {},
     "output_type": "execute_result"
    }
   ],
   "source": [
    "v4x = alg.Group('V4x',\n",
    "                'Klein-4 group',\n",
    "                ['e',  'h',  'v', 'hv'],\n",
    "                [[0, 1, 2, 3],\n",
    "                 [1, 0, 3, 2],\n",
    "                 [2, 3, 0, 1],\n",
    "                 [3, 2, 1, 0]]\n",
    "               )\n",
    "\n",
    "v4x"
   ]
  },
  {
   "cell_type": "code",
   "execution_count": 8,
   "id": "15bb6707",
   "metadata": {},
   "outputs": [
    {
     "data": {
      "text/plain": [
       "'hv'"
      ]
     },
     "execution_count": 8,
     "metadata": {},
     "output_type": "execute_result"
    }
   ],
   "source": [
    "v4.add('h','v')"
   ]
  },
  {
   "cell_type": "code",
   "execution_count": 9,
   "id": "e98f84b6",
   "metadata": {},
   "outputs": [
    {
     "name": "stdout",
     "output_type": "stream",
     "text": [
      "\n",
      "Group : V4 : Klein-4 group\n",
      "  Element Names: ['e', 'h', 'v', 'hv']\n",
      "  Is Abelian? True\n",
      "  Inverses:  (** - indicates that it is its own inverse)\n",
      "    inv(e) = e   **\n",
      "    inv(h) = h   **\n",
      "    inv(v) = v   **\n",
      "    inv(hv) = hv   **\n",
      "  Is associative? True\n",
      "  Cayley Table:\n",
      "     e   h   v  hv\n",
      "     h   e  hv   v\n",
      "     v  hv   e   h\n",
      "    hv   v   h   e\n"
     ]
    }
   ],
   "source": [
    "v4.print_info()"
   ]
  },
  {
   "cell_type": "code",
   "execution_count": 10,
   "id": "dabb0ebe",
   "metadata": {},
   "outputs": [
    {
     "data": {
      "text/plain": [
       "{'type': 'Group',\n",
       " 'name': 'V4',\n",
       " 'description': 'Klein-4 group',\n",
       " 'element_names': ['e', 'h', 'v', 'hv'],\n",
       " 'addition_table': [[0, 1, 2, 3], [1, 0, 3, 2], [2, 3, 0, 1], [3, 2, 1, 0]]}"
      ]
     },
     "execution_count": 10,
     "metadata": {},
     "output_type": "execute_result"
    }
   ],
   "source": [
    "v4.to_dict()"
   ]
  },
  {
   "cell_type": "code",
   "execution_count": 11,
   "id": "00380f4b",
   "metadata": {},
   "outputs": [
    {
     "data": {
      "text/plain": [
       "'{\"type\": \"Group\", \"name\": \"V4\", \"description\": \"Klein-4 group\", \"element_names\": [\"e\", \"h\", \"v\", \"hv\"], \"addition_table\": [[0, 1, 2, 3], [1, 0, 3, 2], [2, 3, 0, 1], [3, 2, 1, 0]]}'"
      ]
     },
     "execution_count": 11,
     "metadata": {},
     "output_type": "execute_result"
    }
   ],
   "source": [
    "v4json = json.dumps(v4.to_dict())\n",
    "v4json"
   ]
  },
  {
   "cell_type": "markdown",
   "id": "6508ac86",
   "metadata": {},
   "source": [
    "### Cyclic group of order 4"
   ]
  },
  {
   "cell_type": "markdown",
   "id": "0a3d2e50",
   "metadata": {},
   "source": [
    "See this [definition at GitHub](https://github.com/nathancarter/group-explorer/blob/master/groups/Z_4.group)."
   ]
  },
  {
   "cell_type": "code",
   "execution_count": 12,
   "id": "ae274a7d",
   "metadata": {},
   "outputs": [
    {
     "name": "stdout",
     "output_type": "stream",
     "text": [
      "{\"type\": \"Group\",\r\n",
      " \"name\": \"Z4\",\r\n",
      " \"description\": \"Cyclic group of order 4\",\r\n",
      " \"element_names\": [\"e\", \"a\", \"a^2\", \"a^3\"],\r\n",
      " \"addition_table\": [[0, 1, 2, 3],\r\n",
      "                    [1, 2, 3, 0],\r\n",
      "                    [2, 3, 0, 1],\r\n",
      "                    [3, 0, 1, 2]]\r\n",
      "}\r\n"
     ]
    }
   ],
   "source": [
    "z4_json = os.path.join(alg_dir, \"z4_cyclic_group_of_order_4.json\")\n",
    "\n",
    "!cat {z4_json}"
   ]
  },
  {
   "cell_type": "code",
   "execution_count": 13,
   "id": "f2c3c5af",
   "metadata": {},
   "outputs": [
    {
     "name": "stdout",
     "output_type": "stream",
     "text": [
      "\n",
      "Group : Z4 : Cyclic group of order 4\n",
      "  Element Names: ['e', 'a', 'a^2', 'a^3']\n",
      "  Is Abelian? True\n",
      "  Inverses:  (** - indicates that it is its own inverse)\n",
      "    inv(e) = e   **\n",
      "    inv(a) = a^3 \n",
      "    inv(a^2) = a^2   **\n",
      "    inv(a^3) = a \n",
      "  Is associative? True\n",
      "  Cayley Table:\n",
      "      e    a  a^2  a^3\n",
      "      a  a^2  a^3    e\n",
      "    a^2  a^3    e    a\n",
      "    a^3    e    a  a^2\n"
     ]
    }
   ],
   "source": [
    "z4 = alg.Group(z4_json)\n",
    "\n",
    "z4.print_info()"
   ]
  },
  {
   "cell_type": "code",
   "execution_count": 14,
   "id": "a2141221",
   "metadata": {},
   "outputs": [
    {
     "data": {
      "text/plain": [
       "'e'"
      ]
     },
     "execution_count": 14,
     "metadata": {},
     "output_type": "execute_result"
    }
   ],
   "source": [
    "z4.add('a^2','a^2')"
   ]
  },
  {
   "cell_type": "code",
   "execution_count": 15,
   "id": "3e0cf3cf",
   "metadata": {},
   "outputs": [
    {
     "data": {
      "text/plain": [
       "'a'"
      ]
     },
     "execution_count": 15,
     "metadata": {},
     "output_type": "execute_result"
    }
   ],
   "source": [
    "z4.add('a^2', 'a^3')"
   ]
  },
  {
   "cell_type": "markdown",
   "id": "c987e387",
   "metadata": {},
   "source": [
    "### Symmetric group on 3 letters"
   ]
  },
  {
   "cell_type": "markdown",
   "id": "53168e9c",
   "metadata": {},
   "source": [
    "See this [definition at GitHub](https://github.com/nathancarter/group-explorer/blob/master/groups/S_3.group). \"Another name for this group is \"Dihedral group on 3 vertices.\""
   ]
  },
  {
   "cell_type": "code",
   "execution_count": 16,
   "id": "b9798a05",
   "metadata": {},
   "outputs": [
    {
     "name": "stdout",
     "output_type": "stream",
     "text": [
      "{\"type\": \"Group\",\r\n",
      " \"name\": \"S3\",\r\n",
      " \"description\": \"Symmetric group on 3 letters\",\r\n",
      " \"element_names\": [\"e\", \"r\", \"r^2\", \"f\", \"fr\", \"rf\"],\r\n",
      " \"addition_table\": [[0, 1, 2, 3, 4, 5],\r\n",
      "                    [1, 2, 0, 5, 3, 4],\r\n",
      "                    [2, 0, 1, 4, 5, 3],\r\n",
      "                    [3, 4, 5, 0, 1, 2],\r\n",
      "                    [4, 5, 3, 2, 0, 1],\r\n",
      "                    [5, 3, 4, 1, 2, 0]]\r\n",
      "}\r\n"
     ]
    }
   ],
   "source": [
    "s3_json = os.path.join(alg_dir, \"s3_symmetric_group_on_3_letters.json\")\n",
    "\n",
    "!cat {s3_json}"
   ]
  },
  {
   "cell_type": "code",
   "execution_count": 17,
   "id": "8ab28bfb",
   "metadata": {},
   "outputs": [
    {
     "name": "stdout",
     "output_type": "stream",
     "text": [
      "\n",
      "Group : S3 : Symmetric group on 3 letters\n",
      "  Element Names: ['e', 'r', 'r^2', 'f', 'fr', 'rf']\n",
      "  Is Abelian? False\n",
      "  Inverses:  (** - indicates that it is its own inverse)\n",
      "    inv(e) = e   **\n",
      "    inv(r) = r^2 \n",
      "    inv(r^2) = r \n",
      "    inv(f) = f   **\n",
      "    inv(fr) = fr   **\n",
      "    inv(rf) = rf   **\n",
      "  Is associative? True\n",
      "  Cayley Table:\n",
      "      e    r  r^2    f   fr   rf\n",
      "      r  r^2    e   rf    f   fr\n",
      "    r^2    e    r   fr   rf    f\n",
      "      f   fr   rf    e    r  r^2\n",
      "     fr   rf    f  r^2    e    r\n",
      "     rf    f   fr    r  r^2    e\n"
     ]
    }
   ],
   "source": [
    "s3 = alg.Group(s3_json)\n",
    "\n",
    "s3.print_info()"
   ]
  },
  {
   "cell_type": "code",
   "execution_count": 18,
   "id": "c8730e5b",
   "metadata": {},
   "outputs": [
    {
     "data": {
      "text/plain": [
       "'f'"
      ]
     },
     "execution_count": 18,
     "metadata": {},
     "output_type": "execute_result"
    }
   ],
   "source": [
    "s3.add('fr', 'r^2')"
   ]
  },
  {
   "cell_type": "code",
   "execution_count": 19,
   "id": "7d3f22c3",
   "metadata": {},
   "outputs": [
    {
     "data": {
      "text/plain": [
       "'rf'"
      ]
     },
     "execution_count": 19,
     "metadata": {},
     "output_type": "execute_result"
    }
   ],
   "source": [
    "s3.add('r^2', 'fr')"
   ]
  },
  {
   "cell_type": "markdown",
   "id": "71af941b",
   "metadata": {},
   "source": [
    "### Symmetric Group, S3 (not same as S3, above)"
   ]
  },
  {
   "cell_type": "markdown",
   "id": "703316ea",
   "metadata": {},
   "source": [
    "This is the [Symmetric group, S3, as specified at Groupprops](https://groupprops.subwiki.org/wiki/Symmetric_group:S3).\n",
    "\n",
    "W.r.t., how to interpret the addition table, the following quote helps:\n",
    "\n",
    "[[from Wikipedia](https://groupprops.subwiki.org/wiki/Symmetric_group:S3)] \"We portray elements as permutations on the set \\{ 1,2,3 \\} using the cycle decomposition. The row element is added on the left and the column element on the right, with the assumption of functions written on the left. This means that the column element is applied first and the row element is applied next.\""
   ]
  },
  {
   "cell_type": "code",
   "execution_count": 20,
   "id": "a854d84e",
   "metadata": {},
   "outputs": [],
   "source": [
    "s3x = alg.Group('S3X',\n",
    "           'Another version of the symmetric group on 3 letters',\n",
    "           ['()', '(1,2)', '(2,3)', '(1,3)', '(1,2,3)', '(1,3,2)'],\n",
    "           [[0, 1, 2, 3, 4, 5],\n",
    "            [1, 0, 4, 5, 2, 3],\n",
    "            [2, 5, 0, 4, 3, 1],\n",
    "            [3, 4, 5, 0, 1, 2],\n",
    "            [4, 3, 1, 2, 5, 0],\n",
    "            [5, 2, 3, 1, 0, 4]]\n",
    "          )"
   ]
  },
  {
   "cell_type": "code",
   "execution_count": 21,
   "id": "712c197e",
   "metadata": {},
   "outputs": [
    {
     "data": {
      "text/plain": [
       "'{\"type\": \"Group\", \"name\": \"S3X\", \"description\": \"Another version of the symmetric group on 3 letters\", \"element_names\": [\"()\", \"(1,2)\", \"(2,3)\", \"(1,3)\", \"(1,2,3)\", \"(1,3,2)\"], \"addition_table\": [[0, 1, 2, 3, 4, 5], [1, 0, 4, 5, 2, 3], [2, 5, 0, 4, 3, 1], [3, 4, 5, 0, 1, 2], [4, 3, 1, 2, 5, 0], [5, 2, 3, 1, 0, 4]]}'"
      ]
     },
     "execution_count": 21,
     "metadata": {},
     "output_type": "execute_result"
    }
   ],
   "source": [
    "s3x.dumps()"
   ]
  },
  {
   "cell_type": "code",
   "execution_count": 22,
   "id": "4fc4af70",
   "metadata": {},
   "outputs": [
    {
     "name": "stdout",
     "output_type": "stream",
     "text": [
      "{\"type\": \"Group\",\r\n",
      " \"name\": \"S3X\",\r\n",
      " \"description\":\"Another version of the symmetric group on 3 letters\",\r\n",
      " \"element_names\": [\"()\", \"(1,2)\", \"(2,3)\", \"(1,3)\", \"(1,2,3)\", \"(1,3,2)\"],\r\n",
      " \"addition_table\": [[0, 1, 2, 3, 4, 5],\r\n",
      "                    [1, 0, 4, 5, 2, 3],\r\n",
      "                    [2, 5, 0, 4, 3, 1],\r\n",
      "                    [3, 4, 5, 0, 1, 2],\r\n",
      "                    [4, 3, 1, 2, 5, 0],\r\n",
      "                    [5, 2, 3, 1, 0, 4]]\r\n",
      "}\r\n"
     ]
    }
   ],
   "source": [
    "s3x_json = os.path.join(alg_dir, \"s3x_symmetric_group_OTHER.json\")\n",
    "\n",
    "!cat {s3x_json}"
   ]
  },
  {
   "cell_type": "code",
   "execution_count": 23,
   "id": "485ca64f",
   "metadata": {},
   "outputs": [
    {
     "name": "stdout",
     "output_type": "stream",
     "text": [
      "\n",
      "Group : S3X : Another version of the symmetric group on 3 letters\n",
      "  Element Names: ['()', '(1,2)', '(2,3)', '(1,3)', '(1,2,3)', '(1,3,2)']\n",
      "  Is Abelian? False\n",
      "  Inverses:  (** - indicates that it is its own inverse)\n",
      "    inv(()) = ()   **\n",
      "    inv((1,2)) = (1,2)   **\n",
      "    inv((2,3)) = (2,3)   **\n",
      "    inv((1,3)) = (1,3)   **\n",
      "    inv((1,2,3)) = (1,3,2) \n",
      "    inv((1,3,2)) = (1,2,3) \n",
      "  Is associative? True\n",
      "  Cayley Table:\n",
      "         ()    (1,2)    (2,3)    (1,3)  (1,2,3)  (1,3,2)\n",
      "      (1,2)       ()  (1,2,3)  (1,3,2)    (2,3)    (1,3)\n",
      "      (2,3)  (1,3,2)       ()  (1,2,3)    (1,3)    (1,2)\n",
      "      (1,3)  (1,2,3)  (1,3,2)       ()    (1,2)    (2,3)\n",
      "    (1,2,3)    (1,3)    (1,2)    (2,3)  (1,3,2)       ()\n",
      "    (1,3,2)    (2,3)    (1,3)    (1,2)       ()  (1,2,3)\n"
     ]
    }
   ],
   "source": [
    "s3x = alg.Group(s3x_json)\n",
    "\n",
    "s3x.print_info()"
   ]
  },
  {
   "cell_type": "code",
   "execution_count": 24,
   "id": "33233661",
   "metadata": {},
   "outputs": [
    {
     "data": {
      "text/plain": [
       "'(1,2,3)'"
      ]
     },
     "execution_count": 24,
     "metadata": {},
     "output_type": "execute_result"
    }
   ],
   "source": [
    "s3x.add('(1,2)', '(2,3)')"
   ]
  },
  {
   "cell_type": "markdown",
   "id": "c9aa7c06",
   "metadata": {},
   "source": [
    "## Z_2 x Z_2 x Z_2"
   ]
  },
  {
   "cell_type": "code",
   "execution_count": 25,
   "id": "27b39964",
   "metadata": {},
   "outputs": [],
   "source": [
    "Z2xZ2xZ2 = alg.Group('Z_2 x Z_2 x Z_2',\n",
    "                 'no description',\n",
    "                 ['eee', 'aee', 'eae', 'aae', 'eea', 'aea', 'eaa', 'aaa'],\n",
    "                 [[0, 1, 2, 3, 4, 5, 6, 7],\n",
    "                  [1, 0, 3, 2, 5, 4, 7, 6],\n",
    "                  [2, 3, 0, 1, 6, 7, 4, 5],\n",
    "                  [3, 2, 1, 0, 7, 6, 5, 4],\n",
    "                  [4, 5, 6, 7, 0, 1, 2, 3],\n",
    "                  [5, 4, 7, 6, 1, 0, 3, 2],\n",
    "                  [6, 7, 4, 5, 2, 3, 0, 1],\n",
    "                  [7, 6, 5, 4, 3, 2, 1, 0]]\n",
    "                )"
   ]
  },
  {
   "cell_type": "code",
   "execution_count": 26,
   "id": "093668ed",
   "metadata": {},
   "outputs": [
    {
     "data": {
      "text/plain": [
       "'{\"type\": \"Group\", \"name\": \"Z_2 x Z_2 x Z_2\", \"description\": \"no description\", \"element_names\": [\"eee\", \"aee\", \"eae\", \"aae\", \"eea\", \"aea\", \"eaa\", \"aaa\"], \"addition_table\": [[0, 1, 2, 3, 4, 5, 6, 7], [1, 0, 3, 2, 5, 4, 7, 6], [2, 3, 0, 1, 6, 7, 4, 5], [3, 2, 1, 0, 7, 6, 5, 4], [4, 5, 6, 7, 0, 1, 2, 3], [5, 4, 7, 6, 1, 0, 3, 2], [6, 7, 4, 5, 2, 3, 0, 1], [7, 6, 5, 4, 3, 2, 1, 0]]}'"
      ]
     },
     "execution_count": 26,
     "metadata": {},
     "output_type": "execute_result"
    }
   ],
   "source": [
    "Z2xZ2xZ2.dumps()"
   ]
  },
  {
   "cell_type": "markdown",
   "id": "23c515df",
   "metadata": {},
   "source": [
    "## Direct Products"
   ]
  },
  {
   "cell_type": "code",
   "execution_count": 27,
   "id": "6f7c71b7",
   "metadata": {},
   "outputs": [],
   "source": [
    "z2 = alg.Group('Z2',\n",
    "           'Cyclic group of order 2',\n",
    "           ['E', 'A'],\n",
    "           [[0, 1],\n",
    "            [1, 0]]\n",
    "          )\n",
    "\n",
    "z3 = alg.Group('Z3',\n",
    "           'Cyclic group of order 3',\n",
    "           ['E', 'A', 'B'],\n",
    "           [[0, 1, 2],\n",
    "            [1, 2, 0],\n",
    "            [2, 0, 1]]\n",
    "          )"
   ]
  },
  {
   "cell_type": "code",
   "execution_count": 28,
   "id": "8a6546f3",
   "metadata": {},
   "outputs": [
    {
     "data": {
      "text/plain": [
       "Group('Z3_x_Z3', 'Direct product of Z3 & Z3', ['E,E', 'E,A', 'E,B', 'A,E', 'A,A', 'A,B', 'B,E', 'B,A', 'B,B'], [[0 1 2 3 4 5 6 7 8]\n",
       " [1 2 0 4 5 3 7 8 6]\n",
       " [2 0 1 5 3 4 8 6 7]\n",
       " [3 4 5 6 7 8 0 1 2]\n",
       " [4 5 3 7 8 6 1 2 0]\n",
       " [5 3 4 8 6 7 2 0 1]\n",
       " [6 7 8 0 1 2 3 4 5]\n",
       " [7 8 6 1 2 0 4 5 3]\n",
       " [8 6 7 2 0 1 5 3 4]])"
      ]
     },
     "execution_count": 28,
     "metadata": {},
     "output_type": "execute_result"
    }
   ],
   "source": [
    "z3_x_z3 = z3 * z3\n",
    "z3_x_z3"
   ]
  },
  {
   "cell_type": "code",
   "execution_count": 29,
   "id": "438c3ca3",
   "metadata": {},
   "outputs": [
    {
     "data": {
      "text/plain": [
       "['E,E', 'E,A', 'E,B', 'A,E', 'A,A', 'A,B', 'B,E', 'B,A', 'B,B']"
      ]
     },
     "execution_count": 29,
     "metadata": {},
     "output_type": "execute_result"
    }
   ],
   "source": [
    "z3_x_z3.element_names"
   ]
  },
  {
   "cell_type": "code",
   "execution_count": 30,
   "id": "c578d133",
   "metadata": {},
   "outputs": [
    {
     "data": {
      "text/plain": [
       "array([[0, 1, 2, 3, 4, 5, 6, 7, 8],\n",
       "       [1, 2, 0, 4, 5, 3, 7, 8, 6],\n",
       "       [2, 0, 1, 5, 3, 4, 8, 6, 7],\n",
       "       [3, 4, 5, 6, 7, 8, 0, 1, 2],\n",
       "       [4, 5, 3, 7, 8, 6, 1, 2, 0],\n",
       "       [5, 3, 4, 8, 6, 7, 2, 0, 1],\n",
       "       [6, 7, 8, 0, 1, 2, 3, 4, 5],\n",
       "       [7, 8, 6, 1, 2, 0, 4, 5, 3],\n",
       "       [8, 6, 7, 2, 0, 1, 5, 3, 4]])"
      ]
     },
     "execution_count": 30,
     "metadata": {},
     "output_type": "execute_result"
    }
   ],
   "source": [
    "z3_x_z3.addition_table"
   ]
  },
  {
   "cell_type": "code",
   "execution_count": 31,
   "id": "c6cdf079",
   "metadata": {},
   "outputs": [
    {
     "data": {
      "text/plain": [
       "[['E,E', 'E,A', 'E,B', 'A,E', 'A,A', 'A,B', 'B,E', 'B,A', 'B,B'],\n",
       " ['E,A', 'E,B', 'E,E', 'A,A', 'A,B', 'A,E', 'B,A', 'B,B', 'B,E'],\n",
       " ['E,B', 'E,E', 'E,A', 'A,B', 'A,E', 'A,A', 'B,B', 'B,E', 'B,A'],\n",
       " ['A,E', 'A,A', 'A,B', 'B,E', 'B,A', 'B,B', 'E,E', 'E,A', 'E,B'],\n",
       " ['A,A', 'A,B', 'A,E', 'B,A', 'B,B', 'B,E', 'E,A', 'E,B', 'E,E'],\n",
       " ['A,B', 'A,E', 'A,A', 'B,B', 'B,E', 'B,A', 'E,B', 'E,E', 'E,A'],\n",
       " ['B,E', 'B,A', 'B,B', 'E,E', 'E,A', 'E,B', 'A,E', 'A,A', 'A,B'],\n",
       " ['B,A', 'B,B', 'B,E', 'E,A', 'E,B', 'E,E', 'A,A', 'A,B', 'A,E'],\n",
       " ['B,B', 'B,E', 'B,A', 'E,B', 'E,E', 'E,A', 'A,B', 'A,E', 'A,A']]"
      ]
     },
     "execution_count": 31,
     "metadata": {},
     "output_type": "execute_result"
    }
   ],
   "source": [
    "z3_x_z3.addition_table_with_names()"
   ]
  },
  {
   "cell_type": "code",
   "execution_count": 32,
   "id": "b8484d3d",
   "metadata": {},
   "outputs": [
    {
     "name": "stdout",
     "output_type": "stream",
     "text": [
      "  E,E  E,A  E,B  A,E  A,A  A,B  B,E  B,A  B,B\n",
      "  E,A  E,B  E,E  A,A  A,B  A,E  B,A  B,B  B,E\n",
      "  E,B  E,E  E,A  A,B  A,E  A,A  B,B  B,E  B,A\n",
      "  A,E  A,A  A,B  B,E  B,A  B,B  E,E  E,A  E,B\n",
      "  A,A  A,B  A,E  B,A  B,B  B,E  E,A  E,B  E,E\n",
      "  A,B  A,E  A,A  B,B  B,E  B,A  E,B  E,E  E,A\n",
      "  B,E  B,A  B,B  E,E  E,A  E,B  A,E  A,A  A,B\n",
      "  B,A  B,B  B,E  E,A  E,B  E,E  A,A  A,B  A,E\n",
      "  B,B  B,E  B,A  E,B  E,E  E,A  A,B  A,E  A,A\n"
     ]
    }
   ],
   "source": [
    "z3_x_z3.pretty_print_addition_table()"
   ]
  },
  {
   "cell_type": "code",
   "execution_count": 33,
   "id": "53fc3fbf",
   "metadata": {},
   "outputs": [
    {
     "name": "stdout",
     "output_type": "stream",
     "text": [
      "inv(E,E) = E,E\n",
      "inv(E,A) = E,B\n",
      "inv(E,B) = E,A\n",
      "inv(A,E) = B,E\n",
      "inv(A,A) = B,B\n",
      "inv(A,B) = B,A\n",
      "inv(B,E) = A,E\n",
      "inv(B,A) = A,B\n",
      "inv(B,B) = A,A\n"
     ]
    }
   ],
   "source": [
    "for elem in z3_x_z3.element_names:\n",
    "    print(f\"inv({elem}) = {z3_x_z3.inverse(elem)}\")"
   ]
  },
  {
   "cell_type": "code",
   "execution_count": 34,
   "id": "a2795eed",
   "metadata": {},
   "outputs": [
    {
     "data": {
      "text/plain": [
       "True"
      ]
     },
     "execution_count": 34,
     "metadata": {},
     "output_type": "execute_result"
    }
   ],
   "source": [
    "z3_x_z3.abelian()"
   ]
  },
  {
   "cell_type": "code",
   "execution_count": 35,
   "id": "4302fc0f",
   "metadata": {},
   "outputs": [
    {
     "data": {
      "text/plain": [
       "True"
      ]
     },
     "execution_count": 35,
     "metadata": {},
     "output_type": "execute_result"
    }
   ],
   "source": [
    "z3_x_z3.associative()"
   ]
  },
  {
   "cell_type": "code",
   "execution_count": 36,
   "id": "5ada3d40",
   "metadata": {},
   "outputs": [],
   "source": [
    "z2_x_z2_x_z2 = z2 * z2 * z2"
   ]
  },
  {
   "cell_type": "code",
   "execution_count": 37,
   "id": "265a3785",
   "metadata": {},
   "outputs": [
    {
     "data": {
      "text/plain": [
       "['E,E,E', 'E,E,A', 'E,A,E', 'E,A,A', 'A,E,E', 'A,E,A', 'A,A,E', 'A,A,A']"
      ]
     },
     "execution_count": 37,
     "metadata": {},
     "output_type": "execute_result"
    }
   ],
   "source": [
    "z2_x_z2_x_z2.element_names"
   ]
  },
  {
   "cell_type": "code",
   "execution_count": 38,
   "id": "ba714011",
   "metadata": {},
   "outputs": [
    {
     "data": {
      "text/plain": [
       "array([[0, 1, 2, 3, 4, 5, 6, 7],\n",
       "       [1, 0, 3, 2, 5, 4, 7, 6],\n",
       "       [2, 3, 0, 1, 6, 7, 4, 5],\n",
       "       [3, 2, 1, 0, 7, 6, 5, 4],\n",
       "       [4, 5, 6, 7, 0, 1, 2, 3],\n",
       "       [5, 4, 7, 6, 1, 0, 3, 2],\n",
       "       [6, 7, 4, 5, 2, 3, 0, 1],\n",
       "       [7, 6, 5, 4, 3, 2, 1, 0]])"
      ]
     },
     "execution_count": 38,
     "metadata": {},
     "output_type": "execute_result"
    }
   ],
   "source": [
    "z2_x_z2_x_z2.addition_table"
   ]
  },
  {
   "cell_type": "code",
   "execution_count": 39,
   "id": "f66783d4",
   "metadata": {
    "scrolled": true
   },
   "outputs": [
    {
     "name": "stdout",
     "output_type": "stream",
     "text": [
      "inv(E,E,E) = E,E,E\n",
      "inv(E,E,A) = E,E,A\n",
      "inv(E,A,E) = E,A,E\n",
      "inv(E,A,A) = E,A,A\n",
      "inv(A,E,E) = A,E,E\n",
      "inv(A,E,A) = A,E,A\n",
      "inv(A,A,E) = A,A,E\n",
      "inv(A,A,A) = A,A,A\n"
     ]
    }
   ],
   "source": [
    "for elem in z2_x_z2_x_z2.element_names:\n",
    "    print(f\"inv({elem}) = {z2_x_z2_x_z2.inverse(elem)}\")"
   ]
  },
  {
   "cell_type": "markdown",
   "id": "0214bb07",
   "metadata": {},
   "source": [
    "## Tesseract group"
   ]
  },
  {
   "cell_type": "markdown",
   "id": "a1aa5e40",
   "metadata": {},
   "source": [
    "This group has 384 elements and was converted to JSON from [this definition](https://github.com/nathancarter/group-explorer/blob/master/groups/Tesseract.group)."
   ]
  },
  {
   "cell_type": "code",
   "execution_count": 40,
   "id": "4a43e287",
   "metadata": {},
   "outputs": [
    {
     "name": "stdout",
     "output_type": "stream",
     "text": [
      "<Group: Tesseract, The symmetries of the hypercube>\n"
     ]
    }
   ],
   "source": [
    "tesseract_path = os.path.join(alg_dir, \"tesseract.json\")\n",
    "tesseract = alg.Group(tesseract_path)\n",
    "print(tesseract)"
   ]
  },
  {
   "cell_type": "code",
   "execution_count": 41,
   "id": "4fb3ec17",
   "metadata": {},
   "outputs": [
    {
     "data": {
      "text/plain": [
       "False"
      ]
     },
     "execution_count": 41,
     "metadata": {},
     "output_type": "execute_result"
    }
   ],
   "source": [
    "tesseract.abelian()"
   ]
  },
  {
   "cell_type": "code",
   "execution_count": 42,
   "id": "7b6de6e9",
   "metadata": {},
   "outputs": [],
   "source": [
    "#tesseract.associative() # True"
   ]
  },
  {
   "cell_type": "code",
   "execution_count": 43,
   "id": "5c9a8a20",
   "metadata": {},
   "outputs": [
    {
     "data": {
      "text/plain": [
       "384"
      ]
     },
     "execution_count": 43,
     "metadata": {},
     "output_type": "execute_result"
    }
   ],
   "source": [
    "len(tesseract.element_names)"
   ]
  },
  {
   "cell_type": "markdown",
   "id": "b6908144",
   "metadata": {},
   "source": [
    "Here are the first n elements:"
   ]
  },
  {
   "cell_type": "code",
   "execution_count": 44,
   "id": "8897a656",
   "metadata": {},
   "outputs": [
    {
     "data": {
      "text/plain": [
       "['e',\n",
       " 'a',\n",
       " 'b',\n",
       " 'ba',\n",
       " 'bb',\n",
       " 'bba',\n",
       " 'ab',\n",
       " 'aba',\n",
       " 'bab',\n",
       " 'baba',\n",
       " 'bbab',\n",
       " 'abababba',\n",
       " 'abb',\n",
       " 'abba',\n",
       " 'babb',\n",
       " 'abababbab',\n",
       " 'ababa',\n",
       " 'abab',\n",
       " 'abbab',\n",
       " 'acabababbac',\n",
       " 'babbab',\n",
       " 'ababbab',\n",
       " 'ababb',\n",
       " 'ababba',\n",
       " 'c']"
      ]
     },
     "execution_count": 44,
     "metadata": {},
     "output_type": "execute_result"
    }
   ],
   "source": [
    "n = 25\n",
    "tesseract.element_names[:n]"
   ]
  },
  {
   "cell_type": "code",
   "execution_count": 45,
   "id": "edcc46ba",
   "metadata": {},
   "outputs": [
    {
     "data": {
      "text/plain": [
       "'babbab'"
      ]
     },
     "execution_count": 45,
     "metadata": {},
     "output_type": "execute_result"
    }
   ],
   "source": [
    "tesseract.add('abab', 'baba')"
   ]
  },
  {
   "cell_type": "markdown",
   "id": "3403374e",
   "metadata": {},
   "source": [
    "## Scratch Work"
   ]
  },
  {
   "cell_type": "code",
   "execution_count": 65,
   "id": "ad26b2d2",
   "metadata": {},
   "outputs": [
    {
     "name": "stdout",
     "output_type": "stream",
     "text": [
      "{\"type\": \"Group\",\r\n",
      " \"name\": \"S3\",\r\n",
      " \"description\": \"Symmetric group on 3 letters\",\r\n",
      " \"element_names\": [\"e\", \"r\", \"r^2\", \"f\", \"fr\", \"rf\"],\r\n",
      " \"addition_table\": [[0, 1, 2, 3, 4, 5],\r\n",
      "                    [1, 2, 0, 5, 3, 4],\r\n",
      "                    [2, 0, 1, 4, 5, 3],\r\n",
      "                    [3, 4, 5, 0, 1, 2],\r\n",
      "                    [4, 5, 3, 2, 0, 1],\r\n",
      "                    [5, 3, 4, 1, 2, 0]]\r\n",
      "}\r\n"
     ]
    }
   ],
   "source": [
    "!cat {s3_json}"
   ]
  },
  {
   "cell_type": "code",
   "execution_count": 66,
   "id": "a86248c9",
   "metadata": {},
   "outputs": [
    {
     "data": {
      "text/plain": [
       "Group('S3X', 'Another version of the symmetric group on 3 letters', ['()', '(1,2)', '(2,3)', '(1,3)', '(1,2,3)', '(1,3,2)'], [[0 1 2 3 4 5]\n",
       " [1 0 4 5 2 3]\n",
       " [2 5 0 4 3 1]\n",
       " [3 4 5 0 1 2]\n",
       " [4 3 1 2 5 0]\n",
       " [5 2 3 1 0 4]])"
      ]
     },
     "execution_count": 66,
     "metadata": {},
     "output_type": "execute_result"
    }
   ],
   "source": [
    "s3x = alg.Group(s3x_json)\n",
    "s3x"
   ]
  },
  {
   "cell_type": "code",
   "execution_count": 67,
   "id": "51a66ba6",
   "metadata": {},
   "outputs": [
    {
     "data": {
      "text/plain": [
       "['()', '(1,2)', '(2,3)', '(1,3)', '(1,2,3)', '(1,3,2)']"
      ]
     },
     "execution_count": 67,
     "metadata": {},
     "output_type": "execute_result"
    }
   ],
   "source": [
    "s3x.element_names"
   ]
  },
  {
   "cell_type": "code",
   "execution_count": 68,
   "id": "ae16eb2c",
   "metadata": {},
   "outputs": [
    {
     "name": "stdout",
     "output_type": "stream",
     "text": [
      "       ()    (1,2)    (2,3)    (1,3)  (1,2,3)  (1,3,2)\n",
      "    (1,2)       ()  (1,2,3)  (1,3,2)    (2,3)    (1,3)\n",
      "    (2,3)  (1,3,2)       ()  (1,2,3)    (1,3)    (1,2)\n",
      "    (1,3)  (1,2,3)  (1,3,2)       ()    (1,2)    (2,3)\n",
      "  (1,2,3)    (1,3)    (1,2)    (2,3)  (1,3,2)       ()\n",
      "  (1,3,2)    (2,3)    (1,3)    (1,2)       ()  (1,2,3)\n"
     ]
    }
   ],
   "source": [
    "s3x.pretty_print_addition_table()"
   ]
  },
  {
   "cell_type": "code",
   "execution_count": 69,
   "id": "22b485e4",
   "metadata": {},
   "outputs": [
    {
     "data": {
      "text/plain": [
       "array([[0, 1, 2, 3, 4, 5],\n",
       "       [1, 0, 4, 5, 2, 3],\n",
       "       [2, 5, 0, 4, 3, 1],\n",
       "       [3, 4, 5, 0, 1, 2],\n",
       "       [4, 3, 1, 2, 5, 0],\n",
       "       [5, 2, 3, 1, 0, 4]])"
      ]
     },
     "execution_count": 69,
     "metadata": {},
     "output_type": "execute_result"
    }
   ],
   "source": [
    "s3x.addition_table"
   ]
  },
  {
   "cell_type": "code",
   "execution_count": 70,
   "id": "20acbd94",
   "metadata": {},
   "outputs": [],
   "source": [
    "# my_array[:, [2, 0]] = my_array[:, [0, 2]]\n",
    "\n",
    "s3x.addition_table[:, [5, 4]] = s3x.addition_table[:, [4, 5]]\n",
    "s3x.addition_table[[5, 4], :] = s3x.addition_table[[4, 5], :]\n",
    "s3x.element_names[5], s3x.element_names[4] = s3x.element_names[4], s3x.element_names[5]"
   ]
  },
  {
   "cell_type": "code",
   "execution_count": 71,
   "id": "dd6d7564",
   "metadata": {},
   "outputs": [
    {
     "data": {
      "text/plain": [
       "['()', '(1,2)', '(2,3)', '(1,3)', '(1,3,2)', '(1,2,3)']"
      ]
     },
     "execution_count": 71,
     "metadata": {},
     "output_type": "execute_result"
    }
   ],
   "source": [
    "s3x.element_names"
   ]
  },
  {
   "cell_type": "code",
   "execution_count": 72,
   "id": "0d69327e",
   "metadata": {},
   "outputs": [
    {
     "data": {
      "text/plain": [
       "array([[0, 1, 2, 3, 5, 4],\n",
       "       [1, 0, 4, 5, 3, 2],\n",
       "       [2, 5, 0, 4, 1, 3],\n",
       "       [3, 4, 5, 0, 2, 1],\n",
       "       [5, 2, 3, 1, 4, 0],\n",
       "       [4, 3, 1, 2, 0, 5]])"
      ]
     },
     "execution_count": 72,
     "metadata": {},
     "output_type": "execute_result"
    }
   ],
   "source": [
    "s3x.addition_table"
   ]
  },
  {
   "cell_type": "code",
   "execution_count": 73,
   "id": "2d70ce35",
   "metadata": {},
   "outputs": [
    {
     "name": "stdout",
     "output_type": "stream",
     "text": [
      "       ()    (1,2)    (2,3)    (1,3)  (1,3,2)  (1,2,3)\n",
      "    (1,2)       ()  (1,3,2)  (1,2,3)    (2,3)    (1,3)\n",
      "    (2,3)  (1,2,3)       ()  (1,3,2)    (1,3)    (1,2)\n",
      "    (1,3)  (1,3,2)  (1,2,3)       ()    (1,2)    (2,3)\n",
      "  (1,3,2)    (1,3)    (1,2)    (2,3)  (1,2,3)       ()\n",
      "  (1,2,3)    (2,3)    (1,3)    (1,2)       ()  (1,3,2)\n"
     ]
    }
   ],
   "source": [
    "s3x.pretty_print_addition_table()"
   ]
  },
  {
   "cell_type": "code",
   "execution_count": null,
   "id": "aed4d92f",
   "metadata": {},
   "outputs": [],
   "source": []
  }
 ],
 "metadata": {
  "kernelspec": {
   "display_name": "Python 3",
   "language": "python",
   "name": "python3"
  },
  "language_info": {
   "codemirror_mode": {
    "name": "ipython",
    "version": 3
   },
   "file_extension": ".py",
   "mimetype": "text/x-python",
   "name": "python",
   "nbconvert_exporter": "python",
   "pygments_lexer": "ipython3",
   "version": "3.7.7"
  }
 },
 "nbformat": 4,
 "nbformat_minor": 5
}
