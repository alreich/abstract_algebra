{
 "cells": [
  {
   "cell_type": "markdown",
   "id": "5d5b4308",
   "metadata": {},
   "source": [
    "# Scratchwork 2"
   ]
  },
  {
   "cell_type": "code",
   "execution_count": 1,
   "id": "424836d9",
   "metadata": {},
   "outputs": [],
   "source": [
    "from cayley_table import CayleyTable\n",
    "from finite_algebras import *"
   ]
  },
  {
   "cell_type": "code",
   "execution_count": 2,
   "id": "e2661927",
   "metadata": {},
   "outputs": [],
   "source": [
    "rps_table = [[0, 1, 0], [1, 1, 2], [0, 2, 2]]"
   ]
  },
  {
   "cell_type": "code",
   "execution_count": 3,
   "id": "fcb64df9",
   "metadata": {},
   "outputs": [
    {
     "data": {
      "text/plain": [
       "Magma(\n",
       "RPS,\n",
       "Rock, Paper, Scissors,\n",
       "['r', 'p', 's'],\n",
       "[[0, 1, 0], [1, 1, 2], [0, 2, 2]]\n",
       ")"
      ]
     },
     "execution_count": 3,
     "metadata": {},
     "output_type": "execute_result"
    }
   ],
   "source": [
    "rps0 = make_finite_algebra('RPS', \"Rock, Paper, Scissors\", ['r', 'p', 's'], rps_table)\n",
    "rps0"
   ]
  },
  {
   "cell_type": "code",
   "execution_count": 4,
   "id": "17e820c2",
   "metadata": {},
   "outputs": [
    {
     "data": {
      "text/plain": [
       "Magma(\n",
       "RPS,\n",
       "Rock, Paper, Scissors,\n",
       "['r', 'p', 's'],\n",
       "[[0, 1, 0], [1, 1, 2], [0, 2, 2]]\n",
       ")"
      ]
     },
     "execution_count": 4,
     "metadata": {},
     "output_type": "execute_result"
    }
   ],
   "source": [
    "rps = Magma('RPS', \"Rock, Paper, Scissors\", ['r', 'p', 's'], rps_table)\n",
    "rps"
   ]
  },
  {
   "cell_type": "code",
   "execution_count": 5,
   "id": "c44cb68f",
   "metadata": {},
   "outputs": [],
   "source": [
    "def index_table_from_name_table(elements, name_table):\n",
    "    return [[elements.index(elem_name) for elem_name in row] for row in name_table]"
   ]
  },
  {
   "cell_type": "code",
   "execution_count": 6,
   "id": "c6f34976",
   "metadata": {},
   "outputs": [
    {
     "data": {
      "text/plain": [
       "[[0, 1, 0], [1, 1, 2], [0, 2, 2]]"
      ]
     },
     "execution_count": 6,
     "metadata": {},
     "output_type": "execute_result"
    }
   ],
   "source": [
    "rps_table"
   ]
  },
  {
   "cell_type": "code",
   "execution_count": 7,
   "id": "20ed98c7",
   "metadata": {},
   "outputs": [
    {
     "data": {
      "text/plain": [
       "Magma(\n",
       "RPS,\n",
       "Rock, Paper, Scissors,\n",
       "['r', 'p', 's'],\n",
       "[[0, 1, 0], [1, 1, 2], [0, 2, 2]]\n",
       ")"
      ]
     },
     "execution_count": 7,
     "metadata": {},
     "output_type": "execute_result"
    }
   ],
   "source": [
    "make_finite_algebra('RPS', \"Rock, Paper, Scissors\", ['r', 'p', 's'], rps_table)"
   ]
  },
  {
   "cell_type": "code",
   "execution_count": 8,
   "id": "ab6a60d2",
   "metadata": {},
   "outputs": [
    {
     "data": {
      "text/plain": [
       "Magma(\n",
       "RPS,\n",
       "Rock, Paper, Scissors,\n",
       "['r', 'p', 's'],\n",
       "[[0, 1, 0], [1, 1, 2], [0, 2, 2]]\n",
       ")"
      ]
     },
     "execution_count": 8,
     "metadata": {},
     "output_type": "execute_result"
    }
   ],
   "source": [
    "Magma('RPS', \"Rock, Paper, Scissors\", ['r', 'p', 's'], rps_table)"
   ]
  },
  {
   "cell_type": "code",
   "execution_count": null,
   "id": "c6193b69",
   "metadata": {},
   "outputs": [],
   "source": []
  },
  {
   "cell_type": "code",
   "execution_count": null,
   "id": "051e55a1",
   "metadata": {},
   "outputs": [],
   "source": []
  },
  {
   "cell_type": "code",
   "execution_count": 9,
   "id": "8d338b4b",
   "metadata": {},
   "outputs": [],
   "source": [
    "ex141_tbl = [[0, 3, 0, 3, 0, 3],\n",
    "             [1, 4, 1, 4, 1, 4],\n",
    "             [2, 5, 2, 5, 2, 5],\n",
    "             [3, 0, 3, 0, 3, 0],\n",
    "             [4, 1, 4, 1, 4, 1],\n",
    "             [5, 2, 5, 2, 5, 2]]"
   ]
  },
  {
   "cell_type": "code",
   "execution_count": null,
   "id": "b8751e95",
   "metadata": {},
   "outputs": [],
   "source": []
  },
  {
   "cell_type": "code",
   "execution_count": 10,
   "id": "f46c782d",
   "metadata": {},
   "outputs": [
    {
     "data": {
      "text/plain": [
       "Semigroup(\n",
       "Example 141,\n",
       "Smarandache,\n",
       "['a', 'b', 'c', 'd', 'e', 'f'],\n",
       "[[0, 3, 0, 3, 0, 3], [1, 4, 1, 4, 1, 4], [2, 5, 2, 5, 2, 5], [3, 0, 3, 0, 3, 0], [4, 1, 4, 1, 4, 1], [5, 2, 5, 2, 5, 2]]\n",
       ")"
      ]
     },
     "execution_count": 10,
     "metadata": {},
     "output_type": "execute_result"
    }
   ],
   "source": [
    "ex141_magma = make_finite_algebra(\"Example 141\", \"Smarandache\", ['a', 'b', 'c', 'd', 'e', 'f'], ex141_tbl)\n",
    "ex141_magma"
   ]
  },
  {
   "cell_type": "code",
   "execution_count": 11,
   "id": "892af087",
   "metadata": {},
   "outputs": [],
   "source": [
    "import os, json\n",
    "aa_path = os.path.join(os.getenv(\"PYPROJ\"), \"abstract_algebra\")\n",
    "alg_dir = os.path.join(aa_path, \"Algebras\")"
   ]
  },
  {
   "cell_type": "code",
   "execution_count": 12,
   "id": "a44140cb",
   "metadata": {},
   "outputs": [
    {
     "name": "stdout",
     "output_type": "stream",
     "text": [
      "{\"type\": \"Group\",\r\n",
      " \"name\": \"V4\",\r\n",
      " \"description\": \"Klein-4 group\",\r\n",
      " \"element_names\": [\"e\", \"h\", \"v\", \"r\"],\r\n",
      " \"mult_table\": [[0, 1, 2, 3],\r\n",
      "                [1, 0, 3, 2],\r\n",
      "                [2, 3, 0, 1],\r\n",
      "                [3, 2, 1, 0]]\r\n",
      "}\r\n"
     ]
    }
   ],
   "source": [
    "v4_json = os.path.join(alg_dir, \"v4_klein_4_group.json\")\n",
    "!cat {v4_json}"
   ]
  },
  {
   "cell_type": "code",
   "execution_count": 13,
   "id": "a8ee428a",
   "metadata": {},
   "outputs": [
    {
     "data": {
      "text/plain": [
       "Group(\n",
       "V4,\n",
       "Klein-4 group,\n",
       "['e', 'h', 'v', 'r'],\n",
       "[[0, 1, 2, 3], [1, 0, 3, 2], [2, 3, 0, 1], [3, 2, 1, 0]]\n",
       ")"
      ]
     },
     "execution_count": 13,
     "metadata": {},
     "output_type": "execute_result"
    }
   ],
   "source": [
    "v4_dict = make_finite_algebra(v4_json)\n",
    "v4_dict"
   ]
  },
  {
   "cell_type": "code",
   "execution_count": null,
   "id": "b7c5fb50",
   "metadata": {},
   "outputs": [],
   "source": []
  }
 ],
 "metadata": {
  "kernelspec": {
   "display_name": "Python 3",
   "language": "python",
   "name": "python3"
  },
  "language_info": {
   "codemirror_mode": {
    "name": "ipython",
    "version": 3
   },
   "file_extension": ".py",
   "mimetype": "text/x-python",
   "name": "python",
   "nbconvert_exporter": "python",
   "pygments_lexer": "ipython3",
   "version": "3.7.7"
  }
 },
 "nbformat": 4,
 "nbformat_minor": 5
}
