{
 "cells": [
  {
   "cell_type": "markdown",
   "id": "909f56f5",
   "metadata": {},
   "source": [
    "# Scratchwork 1 - Subalgebras"
   ]
  },
  {
   "cell_type": "code",
   "execution_count": 1,
   "id": "7647336f",
   "metadata": {},
   "outputs": [],
   "source": [
    "from finite_algebras import *\n",
    "from cayley_table import *\n",
    "from permutations import *"
   ]
  },
  {
   "cell_type": "code",
   "execution_count": 2,
   "id": "ec7e611c",
   "metadata": {},
   "outputs": [],
   "source": [
    "import os\n",
    "aa_path = os.path.join(os.getenv(\"PYPROJ\"), \"abstract_algebra\")\n",
    "alg_dir = os.path.join(aa_path, \"Algebras\")"
   ]
  },
  {
   "cell_type": "code",
   "execution_count": 3,
   "id": "0fe0d587",
   "metadata": {},
   "outputs": [
    {
     "name": "stdout",
     "output_type": "stream",
     "text": [
      "======================================================================\n",
      "                           Example Algebras\n",
      "----------------------------------------------------------------------\n",
      "  16 example algebras are available.\n",
      "  Use \"Examples[INDEX]\" to retrieve a specific example,\n",
      "  where INDEX is the first number on each line below:\n",
      "----------------------------------------------------------------------\n",
      "0: A4 -- Alternating group on 4 letters (AKA Tetrahedral group)\n",
      "1: D3 -- https://en.wikipedia.org/wiki/Dihedral_group_of_order_6\n",
      "2: D4 -- Dihedral group on four vertices\n",
      "3: Pinter29 -- Non-abelian group, p.29, 'A Book of Abstract Algebra' by Charles C. Pinter\n",
      "4: RPS -- Rock, Paper, Scissors Magma\n",
      "5: S3 -- Symmetric group on 3 letters\n",
      "6: S3X -- Another version of the symmetric group on 3 letters\n",
      "7: V4 -- Klein-4 group\n",
      "8: Z4 -- Cyclic group of order 4\n",
      "9: F4 -- Field with 4 elements (from Wikipedia)\n",
      "10: mag_id -- Magma with Identity\n",
      "11: Example 1.4.1 -- See: Groupoids and Smarandache Groupoids by W. B. Vasantha Kandasamy\n",
      "12: Ex6 -- Example 6: http://www-groups.mcs.st-andrews.ac.uk/~john/MT4517/Lectures/L3.html\n",
      "13: Q8 -- Quaternion Group\n",
      "14: SD16 -- Semidihedral group of order 16\n",
      "15: A5 -- Alternating group on 5 letters\n",
      "======================================================================\n"
     ]
    }
   ],
   "source": [
    "ex = Examples(alg_dir)"
   ]
  },
  {
   "cell_type": "markdown",
   "id": "cab2bb80",
   "metadata": {},
   "source": [
    "## Subalgebras of a Semigroup"
   ]
  },
  {
   "cell_type": "code",
   "execution_count": 33,
   "id": "424b0c61",
   "metadata": {},
   "outputs": [
    {
     "name": "stdout",
     "output_type": "stream",
     "text": [
      "\n",
      "** Semigroup **\n",
      "Name: Example 1.4.1\n",
      "Instance ID: 140644887222352\n",
      "Description: See: Groupoids and Smarandache Groupoids by W. B. Vasantha Kandasamy\n",
      "Order: 6\n",
      "Identity: None\n",
      "Associative? Yes\n",
      "Commutative? No\n",
      "Cyclic?: No\n",
      "Elements: ['a', 'b', 'c', 'd', 'e', 'f']\n",
      "Has Inverses? No\n",
      "Cayley Table (showing indices):\n",
      "[[0, 3, 0, 3, 0, 3],\n",
      " [1, 4, 1, 4, 1, 4],\n",
      " [2, 5, 2, 5, 2, 5],\n",
      " [3, 0, 3, 0, 3, 0],\n",
      " [4, 1, 4, 1, 4, 1],\n",
      " [5, 2, 5, 2, 5, 2]]\n"
     ]
    }
   ],
   "source": [
    "sg = ex[11]\n",
    "sg.about()"
   ]
  },
  {
   "cell_type": "code",
   "execution_count": 34,
   "id": "666f660e",
   "metadata": {},
   "outputs": [
    {
     "name": "stdout",
     "output_type": "stream",
     "text": [
      "\n",
      "Subalgebras of <Semigroup:Example 1.4.1, ID:140644887222352>\n",
      "  There are 4 unique proper subalgebras, up to isomorphism, out of 10 total subalgebras.\n",
      "  as shown by the partitions below:\n",
      "\n",
      "3 Isomorphic Semigroups of order 2:\n",
      "      Semigroup: Example 1.4.1_subalgebra_0: ['a', 'e']\n",
      "      Semigroup: Example 1.4.1_subalgebra_4: ['c', 'e']\n",
      "      Semigroup: Example 1.4.1_subalgebra_6: ['a', 'c']\n",
      "\n",
      "3 Isomorphic Semigroups of order 4:\n",
      "      Semigroup: Example 1.4.1_subalgebra_1: ['a', 'c', 'd', 'f']\n",
      "      Semigroup: Example 1.4.1_subalgebra_2: ['b', 'c', 'e', 'f']\n",
      "      Semigroup: Example 1.4.1_subalgebra_7: ['a', 'b', 'd', 'e']\n",
      "\n",
      "3 Isomorphic Commutative Groups of order 2:\n",
      "      Group: Example 1.4.1_subalgebra_3: ['c', 'f'] with identity 'c'\n",
      "      Group: Example 1.4.1_subalgebra_5: ['b', 'e'] with identity 'e'\n",
      "      Group: Example 1.4.1_subalgebra_9: ['a', 'd'] with identity 'a'\n",
      "\n",
      "1 Semigroup of order 3:\n",
      "      Semigroup: Example 1.4.1_subalgebra_8: ['a', 'c', 'e']\n",
      "\n"
     ]
    }
   ],
   "source": [
    "alg = sg\n",
    "alg_subs = alg.proper_subalgebras()\n",
    "partitions = partition_into_isomorphic_lists(alg_subs)\n",
    "about_isomorphic_partitions(sg, partitions)"
   ]
  },
  {
   "cell_type": "markdown",
   "id": "dfc5d375",
   "metadata": {},
   "source": [
    "### A closer look at the commutative Groups"
   ]
  },
  {
   "cell_type": "code",
   "execution_count": 44,
   "id": "7340e3c5",
   "metadata": {},
   "outputs": [
    {
     "name": "stdout",
     "output_type": "stream",
     "text": [
      "\n",
      "----------------------------------------\n",
      "\n",
      "** Group **\n",
      "Name: Example 1.4.1_subalgebra_3\n",
      "Instance ID: 140645426496592\n",
      "Description: Subalgebra of: See: Groupoids and Smarandache Groupoids by W. B. Vasantha Kandasamy\n",
      "Order: 2\n",
      "Identity: c\n",
      "Associative? Yes\n",
      "Commutative? Yes\n",
      "Cyclic?: Yes\n",
      "  Generators: ['f']\n",
      "Elements:\n",
      "   Index   Name   Inverse  Order\n",
      "      0       c       c       1\n",
      "      1       f       f       2\n",
      "Cayley Table (showing names):\n",
      "[['c', 'f'], ['f', 'c']]\n",
      "\n",
      "----------------------------------------\n",
      "\n",
      "** Group **\n",
      "Name: Example 1.4.1_subalgebra_5\n",
      "Instance ID: 140645426497040\n",
      "Description: Subalgebra of: See: Groupoids and Smarandache Groupoids by W. B. Vasantha Kandasamy\n",
      "Order: 2\n",
      "Identity: e\n",
      "Associative? Yes\n",
      "Commutative? Yes\n",
      "Cyclic?: Yes\n",
      "  Generators: ['b']\n",
      "Elements:\n",
      "   Index   Name   Inverse  Order\n",
      "      0       b       b       2\n",
      "      1       e       e       1\n",
      "Cayley Table (showing names):\n",
      "[['e', 'b'], ['b', 'e']]\n",
      "\n",
      "----------------------------------------\n",
      "\n",
      "** Group **\n",
      "Name: Example 1.4.1_subalgebra_9\n",
      "Instance ID: 140645426497808\n",
      "Description: Subalgebra of: See: Groupoids and Smarandache Groupoids by W. B. Vasantha Kandasamy\n",
      "Order: 2\n",
      "Identity: a\n",
      "Associative? Yes\n",
      "Commutative? Yes\n",
      "Cyclic?: Yes\n",
      "  Generators: ['d']\n",
      "Elements:\n",
      "   Index   Name   Inverse  Order\n",
      "      0       a       a       1\n",
      "      1       d       d       2\n",
      "Cayley Table (showing names):\n",
      "[['a', 'd'], ['d', 'a']]\n",
      "\n",
      "----------------------------------------\n"
     ]
    }
   ],
   "source": [
    "print(\"\\n\" + \"-\"*40)\n",
    "for sub in alg_subs:\n",
    "    if isinstance(sub, Group):\n",
    "        sub.about(use_table_names=True)\n",
    "        print(\"\\n\" + \"-\"*40)"
   ]
  },
  {
   "cell_type": "markdown",
   "id": "d42614da",
   "metadata": {},
   "source": [
    "## Subgroups of an Alternating Group"
   ]
  },
  {
   "cell_type": "code",
   "execution_count": 45,
   "id": "d965e391",
   "metadata": {},
   "outputs": [
    {
     "name": "stdout",
     "output_type": "stream",
     "text": [
      "\n",
      "** Group **\n",
      "Name: A4\n",
      "Instance ID: 140644887031696\n",
      "Description: Alternating group on 4 letters (AKA Tetrahedral group)\n",
      "Order: 12\n",
      "Identity: ()\n",
      "Associative? Yes\n",
      "Commutative? No\n",
      "Cyclic?: No\n",
      "Elements:\n",
      "   Index   Name   Inverse  Order\n",
      "      0      ()      ()       1\n",
      "      1 (1 3 2) (1 2 3)       3\n",
      "      2 (1 2 3) (1 3 2)       3\n",
      "      3 (0 1)(2 3) (0 1)(2 3)       2\n",
      "      4 (0 1 2) (0 2 1)       3\n",
      "      5 (0 1 3) (0 3 1)       3\n",
      "      6 (0 3 1) (0 1 3)       3\n",
      "      7 (0 3 2) (0 2 3)       3\n",
      "      8 (0 3)(1 2) (0 3)(1 2)       2\n",
      "      9 (0 2 3) (0 3 2)       3\n",
      "     10 (0 2 1) (0 1 2)       3\n",
      "     11 (0 2)(1 3) (0 2)(1 3)       2\n",
      "Cayley Table (showing indices):\n",
      "[[0, 1, 2, 3, 4, 5, 6, 7, 8, 9, 10, 11],\n",
      " [1, 2, 0, 6, 7, 8, 10, 11, 9, 5, 3, 4],\n",
      " [2, 0, 1, 10, 11, 9, 3, 4, 5, 8, 6, 7],\n",
      " [3, 4, 5, 0, 1, 2, 9, 10, 11, 6, 7, 8],\n",
      " [4, 5, 3, 9, 10, 11, 7, 8, 6, 2, 0, 1],\n",
      " [5, 3, 4, 7, 8, 6, 0, 1, 2, 11, 9, 10],\n",
      " [6, 7, 8, 1, 2, 0, 5, 3, 4, 10, 11, 9],\n",
      " [7, 8, 6, 5, 3, 4, 11, 9, 10, 0, 1, 2],\n",
      " [8, 6, 7, 11, 9, 10, 1, 2, 0, 4, 5, 3],\n",
      " [9, 10, 11, 4, 5, 3, 2, 0, 1, 7, 8, 6],\n",
      " [10, 11, 9, 2, 0, 1, 8, 6, 7, 3, 4, 5],\n",
      " [11, 9, 10, 8, 6, 7, 4, 5, 3, 1, 2, 0]]\n"
     ]
    }
   ],
   "source": [
    "a4 = ex[0]\n",
    "a4.about()"
   ]
  },
  {
   "cell_type": "code",
   "execution_count": 46,
   "id": "1e398283",
   "metadata": {},
   "outputs": [
    {
     "name": "stdout",
     "output_type": "stream",
     "text": [
      "\n",
      "Subalgebras of <Group:A4, ID:140644887031696>\n",
      "  There are 3 unique proper subalgebras, up to isomorphism, out of 8 total subalgebras.\n",
      "  as shown by the partitions below:\n",
      "\n",
      "3 Isomorphic Commutative Groups of order 2 with identity '()':\n",
      "      Group: A4_subalgebra_0: ['()', '(0 2)(1 3)']\n",
      "      Group: A4_subalgebra_1: ['()', '(0 1)(2 3)']\n",
      "      Group: A4_subalgebra_6: ['()', '(0 3)(1 2)']\n",
      "\n",
      "1 Commutative Normal Group of order 4 with identity '()':\n",
      "      Group: A4_subalgebra_2: ['()', '(0 1)(2 3)', '(0 3)(1 2)', '(0 2)(1 3)']\n",
      "\n",
      "4 Isomorphic Commutative Groups of order 3 with identity '()':\n",
      "      Group: A4_subalgebra_3: ['()', '(0 1 3)', '(0 3 1)']\n",
      "      Group: A4_subalgebra_4: ['()', '(0 1 2)', '(0 2 1)']\n",
      "      Group: A4_subalgebra_5: ['()', '(1 3 2)', '(1 2 3)']\n",
      "      Group: A4_subalgebra_7: ['()', '(0 3 2)', '(0 2 3)']\n",
      "\n"
     ]
    }
   ],
   "source": [
    "alg = a4\n",
    "alg_subs = alg.proper_subalgebras(divisors_only=False, include_inverses=False)\n",
    "partitions = partition_into_isomorphic_lists(alg_subs)\n",
    "about_isomorphic_partitions(alg, partitions)"
   ]
  },
  {
   "cell_type": "markdown",
   "id": "a745f5fa",
   "metadata": {},
   "source": [
    "**NOTE**: The single commutative normal (sub)group, above, is actually the **commutator subgroup** of A4, as shown by the derivation below:"
   ]
  },
  {
   "cell_type": "code",
   "execution_count": 47,
   "id": "8ca6b632",
   "metadata": {},
   "outputs": [
    {
     "data": {
      "text/plain": [
       "Group(\n",
       "'A4_CG',\n",
       "'A4 commutator subgroup',\n",
       "['()', '(0 1)(2 3)', '(0 3)(1 2)', '(0 2)(1 3)'],\n",
       "[[0, 1, 2, 3], [1, 0, 3, 2], [2, 3, 0, 1], [3, 2, 1, 0]]\n",
       ")"
      ]
     },
     "execution_count": 47,
     "metadata": {},
     "output_type": "execute_result"
    }
   ],
   "source": [
    "a4.commutator_subgroup()"
   ]
  },
  {
   "cell_type": "markdown",
   "id": "608295d7",
   "metadata": {},
   "source": [
    "## Subalgebras of a Powerset Group"
   ]
  },
  {
   "cell_type": "code",
   "execution_count": 48,
   "id": "76bf0d5a",
   "metadata": {
    "scrolled": false
   },
   "outputs": [
    {
     "name": "stdout",
     "output_type": "stream",
     "text": [
      "\n",
      "** Group **\n",
      "Name: PS4\n",
      "Instance ID: 140645431208400\n",
      "Description: Autogenerated Group on the powerset of 4 elements, with symmetric difference operator\n",
      "Order: 16\n",
      "Identity: {}\n",
      "Associative? Yes\n",
      "Commutative? Yes\n",
      "Cyclic?: No\n",
      "Elements:\n",
      "   Index   Name   Inverse  Order\n",
      "      0      {}      {}       1\n",
      "      1     {0}     {0}       2\n",
      "      2     {1}     {1}       2\n",
      "      3     {2}     {2}       2\n",
      "      4     {3}     {3}       2\n",
      "      5  {0, 1}  {0, 1}       2\n",
      "      6  {0, 2}  {0, 2}       2\n",
      "      7  {0, 3}  {0, 3}       2\n",
      "      8  {1, 2}  {1, 2}       2\n",
      "      9  {1, 3}  {1, 3}       2\n",
      "     10  {2, 3}  {2, 3}       2\n",
      "     11 {0, 1, 2} {0, 1, 2}       2\n",
      "     12 {0, 1, 3} {0, 1, 3}       2\n",
      "     13 {0, 2, 3} {0, 2, 3}       2\n",
      "     14 {1, 2, 3} {1, 2, 3}       2\n",
      "     15 {0, 1, 2, 3} {0, 1, 2, 3}       2\n",
      "Cayley Table (showing indices):\n",
      "[[0, 1, 2, 3, 4, 5, 6, 7, 8, 9, 10, 11, 12, 13, 14, 15],\n",
      " [1, 0, 5, 6, 7, 2, 3, 4, 11, 12, 13, 8, 9, 10, 15, 14],\n",
      " [2, 5, 0, 8, 9, 1, 11, 12, 3, 4, 14, 6, 7, 15, 10, 13],\n",
      " [3, 6, 8, 0, 10, 11, 1, 13, 2, 14, 4, 5, 15, 7, 9, 12],\n",
      " [4, 7, 9, 10, 0, 12, 13, 1, 14, 2, 3, 15, 5, 6, 8, 11],\n",
      " [5, 2, 1, 11, 12, 0, 8, 9, 6, 7, 15, 3, 4, 14, 13, 10],\n",
      " [6, 3, 11, 1, 13, 8, 0, 10, 5, 15, 7, 2, 14, 4, 12, 9],\n",
      " [7, 4, 12, 13, 1, 9, 10, 0, 15, 5, 6, 14, 2, 3, 11, 8],\n",
      " [8, 11, 3, 2, 14, 6, 5, 15, 0, 10, 9, 1, 13, 12, 4, 7],\n",
      " [9, 12, 4, 14, 2, 7, 15, 5, 10, 0, 8, 13, 1, 11, 3, 6],\n",
      " [10, 13, 14, 4, 3, 15, 7, 6, 9, 8, 0, 12, 11, 1, 2, 5],\n",
      " [11, 8, 6, 5, 15, 3, 2, 14, 1, 13, 12, 0, 10, 9, 7, 4],\n",
      " [12, 9, 7, 15, 5, 4, 14, 2, 13, 1, 11, 10, 0, 8, 6, 3],\n",
      " [13, 10, 15, 7, 6, 14, 4, 3, 12, 11, 1, 9, 8, 0, 5, 2],\n",
      " [14, 15, 10, 9, 8, 13, 12, 11, 4, 3, 2, 7, 6, 5, 0, 1],\n",
      " [15, 14, 13, 12, 11, 10, 9, 8, 7, 6, 5, 4, 3, 2, 1, 0]]\n"
     ]
    }
   ],
   "source": [
    "psr = generate_powerset_group(4)\n",
    "psr.about(max_size=16)"
   ]
  },
  {
   "cell_type": "code",
   "execution_count": 49,
   "id": "722598dc",
   "metadata": {},
   "outputs": [
    {
     "name": "stdout",
     "output_type": "stream",
     "text": [
      "CPU times: user 8.17 s, sys: 32.5 ms, total: 8.2 s\n",
      "Wall time: 8.24 s\n",
      "\n",
      "Subalgebras of <Group:PS4, ID:140645431208400>\n",
      "  There are 3 unique proper subalgebras, up to isomorphism, out of 65 total subalgebras.\n",
      "  as shown by the partitions below:\n",
      "\n",
      "35 Isomorphic Commutative Normal Groups of order 4 with identity '{}':\n",
      "      Group: PS4_subalgebra_0: ['{}', '{1}', '{3}', '{1, 3}']\n",
      "      Group: PS4_subalgebra_1: ['{}', '{3}', '{0, 1, 2}', '{0, 1, 2, 3}']\n",
      "      Group: PS4_subalgebra_2: ['{}', '{3}', '{0, 1}', '{0, 1, 3}']\n",
      "      Group: PS4_subalgebra_4: ['{}', '{0}', '{1, 2}', '{0, 1, 2}']\n",
      "      Group: PS4_subalgebra_5: ['{}', '{0}', '{1, 2, 3}', '{0, 1, 2, 3}']\n",
      "      Group: PS4_subalgebra_6: ['{}', '{0, 2}', '{0, 1, 3}', '{1, 2, 3}']\n",
      "      Group: PS4_subalgebra_10: ['{}', '{0}', '{2}', '{0, 2}']\n",
      "      Group: PS4_subalgebra_11: ['{}', '{2}', '{0, 1, 3}', '{0, 1, 2, 3}']\n",
      "      Group: PS4_subalgebra_13: ['{}', '{3}', '{1, 2}', '{1, 2, 3}']\n",
      "      Group: PS4_subalgebra_14: ['{}', '{0, 1}', '{0, 3}', '{1, 3}']\n",
      "      Group: PS4_subalgebra_15: ['{}', '{2, 3}', '{0, 1, 2}', '{0, 1, 3}']\n",
      "      Group: PS4_subalgebra_19: ['{}', '{0, 2}', '{1, 3}', '{0, 1, 2, 3}']\n",
      "      Group: PS4_subalgebra_20: ['{}', '{2}', '{0, 3}', '{0, 2, 3}']\n",
      "      Group: PS4_subalgebra_21: ['{}', '{1}', '{2}', '{1, 2}']\n",
      "      Group: PS4_subalgebra_27: ['{}', '{1}', '{0, 2}', '{0, 1, 2}']\n",
      "      Group: PS4_subalgebra_28: ['{}', '{1}', '{0, 3}', '{0, 1, 3}']\n",
      "      Group: PS4_subalgebra_29: ['{}', '{0}', '{3}', '{0, 3}']\n",
      "      Group: PS4_subalgebra_31: ['{}', '{2}', '{3}', '{2, 3}']\n",
      "      Group: PS4_subalgebra_34: ['{}', '{0, 3}', '{0, 1, 2}', '{1, 2, 3}']\n",
      "      Group: PS4_subalgebra_36: ['{}', '{0, 3}', '{1, 2}', '{0, 1, 2, 3}']\n",
      "      Group: PS4_subalgebra_39: ['{}', '{0, 1}', '{2, 3}', '{0, 1, 2, 3}']\n",
      "      Group: PS4_subalgebra_41: ['{}', '{0, 2}', '{0, 3}', '{2, 3}']\n",
      "      Group: PS4_subalgebra_44: ['{}', '{0}', '{2, 3}', '{0, 2, 3}']\n",
      "      Group: PS4_subalgebra_46: ['{}', '{0, 1}', '{0, 2}', '{1, 2}']\n",
      "      Group: PS4_subalgebra_48: ['{}', '{0, 1}', '{0, 2, 3}', '{1, 2, 3}']\n",
      "      Group: PS4_subalgebra_49: ['{}', '{1, 2}', '{0, 1, 3}', '{0, 2, 3}']\n",
      "      Group: PS4_subalgebra_50: ['{}', '{1, 3}', '{0, 1, 2}', '{0, 2, 3}']\n",
      "      Group: PS4_subalgebra_51: ['{}', '{1, 2}', '{1, 3}', '{2, 3}']\n",
      "      Group: PS4_subalgebra_52: ['{}', '{1}', '{2, 3}', '{1, 2, 3}']\n",
      "      Group: PS4_subalgebra_53: ['{}', '{2}', '{0, 1}', '{0, 1, 2}']\n",
      "      Group: PS4_subalgebra_54: ['{}', '{2}', '{1, 3}', '{1, 2, 3}']\n",
      "      Group: PS4_subalgebra_58: ['{}', '{0}', '{1}', '{0, 1}']\n",
      "      Group: PS4_subalgebra_59: ['{}', '{0}', '{1, 3}', '{0, 1, 3}']\n",
      "      Group: PS4_subalgebra_61: ['{}', '{3}', '{0, 2}', '{0, 2, 3}']\n",
      "      Group: PS4_subalgebra_63: ['{}', '{1}', '{0, 2, 3}', '{0, 1, 2, 3}']\n",
      "\n",
      "15 Isomorphic Commutative Normal Groups of order 2 with identity '{}':\n",
      "      Group: PS4_subalgebra_3: ['{}', '{3}']\n",
      "      Group: PS4_subalgebra_8: ['{}', '{0}']\n",
      "      Group: PS4_subalgebra_16: ['{}', '{0, 1, 3}']\n",
      "      Group: PS4_subalgebra_17: ['{}', '{0, 1}']\n",
      "      Group: PS4_subalgebra_18: ['{}', '{1, 2}']\n",
      "      Group: PS4_subalgebra_24: ['{}', '{0, 3}']\n",
      "      Group: PS4_subalgebra_25: ['{}', '{1, 2, 3}']\n",
      "      Group: PS4_subalgebra_26: ['{}', '{2, 3}']\n",
      "      Group: PS4_subalgebra_35: ['{}', '{0, 1, 2}']\n",
      "      Group: PS4_subalgebra_37: ['{}', '{0, 1, 2, 3}']\n",
      "      Group: PS4_subalgebra_38: ['{}', '{1}']\n",
      "      Group: PS4_subalgebra_42: ['{}', '{0, 2}']\n",
      "      Group: PS4_subalgebra_47: ['{}', '{0, 2, 3}']\n",
      "      Group: PS4_subalgebra_56: ['{}', '{2}']\n",
      "      Group: PS4_subalgebra_64: ['{}', '{1, 3}']\n",
      "\n",
      "15 Isomorphic Commutative Normal Groups of order 8 with identity '{}':\n",
      "      Group: PS4_subalgebra_7: ['{}', '{0}', '{1}', '{0, 1}', '{2, 3}', '{0, 2, 3}', '{1, 2, 3}', '{0, 1, 2, 3}']\n",
      "      Group: PS4_subalgebra_9: ['{}', '{0}', '{2}', '{3}', '{0, 2}', '{0, 3}', '{2, 3}', '{0, 2, 3}']\n",
      "      Group: PS4_subalgebra_12: ['{}', '{0}', '{1, 2}', '{1, 3}', '{2, 3}', '{0, 1, 2}', '{0, 1, 3}', '{0, 2, 3}']\n",
      "      Group: PS4_subalgebra_22: ['{}', '{0}', '{1}', '{2}', '{0, 1}', '{0, 2}', '{1, 2}', '{0, 1, 2}']\n",
      "      Group: PS4_subalgebra_23: ['{}', '{0, 1}', '{0, 2}', '{0, 3}', '{1, 2}', '{1, 3}', '{2, 3}', '{0, 1, 2, 3}']\n",
      "      Group: PS4_subalgebra_30: ['{}', '{0}', '{1}', '{3}', '{0, 1}', '{0, 3}', '{1, 3}', '{0, 1, 3}']\n",
      "      Group: PS4_subalgebra_32: ['{}', '{2}', '{3}', '{0, 1}', '{2, 3}', '{0, 1, 2}', '{0, 1, 3}', '{0, 1, 2, 3}']\n",
      "      Group: PS4_subalgebra_33: ['{}', '{2}', '{0, 1}', '{0, 3}', '{1, 3}', '{0, 1, 2}', '{0, 2, 3}', '{1, 2, 3}']\n",
      "      Group: PS4_subalgebra_40: ['{}', '{1}', '{3}', '{0, 2}', '{1, 3}', '{0, 1, 2}', '{0, 2, 3}', '{0, 1, 2, 3}']\n",
      "      Group: PS4_subalgebra_43: ['{}', '{1}', '{2}', '{0, 3}', '{1, 2}', '{0, 1, 3}', '{0, 2, 3}', '{0, 1, 2, 3}']\n",
      "      Group: PS4_subalgebra_45: ['{}', '{3}', '{0, 1}', '{0, 2}', '{1, 2}', '{0, 1, 3}', '{0, 2, 3}', '{1, 2, 3}']\n",
      "      Group: PS4_subalgebra_55: ['{}', '{1}', '{2}', '{3}', '{1, 2}', '{1, 3}', '{2, 3}', '{1, 2, 3}']\n",
      "      Group: PS4_subalgebra_57: ['{}', '{1}', '{0, 2}', '{0, 3}', '{2, 3}', '{0, 1, 2}', '{0, 1, 3}', '{1, 2, 3}']\n",
      "      Group: PS4_subalgebra_60: ['{}', '{0}', '{3}', '{0, 3}', '{1, 2}', '{0, 1, 2}', '{1, 2, 3}', '{0, 1, 2, 3}']\n",
      "      Group: PS4_subalgebra_62: ['{}', '{0}', '{2}', '{0, 2}', '{1, 3}', '{0, 1, 3}', '{1, 2, 3}', '{0, 1, 2, 3}']\n",
      "\n"
     ]
    }
   ],
   "source": [
    "alg = psr\n",
    "%time alg_subs = alg.proper_subalgebras()\n",
    "partitions = partition_into_isomorphic_lists(alg_subs)\n",
    "about_isomorphic_partitions(alg, partitions)"
   ]
  },
  {
   "cell_type": "code",
   "execution_count": 50,
   "id": "3d8007bf",
   "metadata": {},
   "outputs": [
    {
     "data": {
      "text/plain": [
       "{'{}'}"
      ]
     },
     "execution_count": 50,
     "metadata": {},
     "output_type": "execute_result"
    }
   ],
   "source": [
    "psr.commutators()"
   ]
  },
  {
   "cell_type": "code",
   "execution_count": 51,
   "id": "9f8d7bf2",
   "metadata": {},
   "outputs": [
    {
     "data": {
      "text/plain": [
       "Group(\n",
       "'PS4_CG',\n",
       "'PS4 commutator subgroup',\n",
       "['{}'],\n",
       "[[0]]\n",
       ")"
      ]
     },
     "execution_count": 51,
     "metadata": {},
     "output_type": "execute_result"
    }
   ],
   "source": [
    "psr.commutator_subgroup()"
   ]
  },
  {
   "cell_type": "code",
   "execution_count": 52,
   "id": "53acd7ff",
   "metadata": {},
   "outputs": [
    {
     "name": "stdout",
     "output_type": "stream",
     "text": [
      "\n",
      "** Group **\n",
      "Name: Q8\n",
      "Instance ID: 140644887223440\n",
      "Description: Quaternion Group\n",
      "Order: 8\n",
      "Identity: 1\n",
      "Associative? Yes\n",
      "Commutative? No\n",
      "Cyclic?: No\n",
      "Elements:\n",
      "   Index   Name   Inverse  Order\n",
      "      0       1       1       1\n",
      "      1       i      -i       4\n",
      "      2      -1      -1       2\n",
      "      3      -i       i       4\n",
      "      4       j      -j       4\n",
      "      5       k      -k       4\n",
      "      6      -j       j       4\n",
      "      7      -k       k       4\n",
      "Cayley Table (showing indices):\n",
      "[[0, 1, 2, 3, 4, 5, 6, 7],\n",
      " [1, 2, 3, 0, 7, 4, 5, 6],\n",
      " [2, 3, 0, 1, 6, 7, 4, 5],\n",
      " [3, 0, 1, 2, 5, 6, 7, 4],\n",
      " [4, 5, 6, 7, 2, 3, 0, 1],\n",
      " [5, 6, 7, 4, 1, 2, 3, 0],\n",
      " [6, 7, 4, 5, 0, 1, 2, 3],\n",
      " [7, 4, 5, 6, 3, 0, 1, 2]]\n"
     ]
    }
   ],
   "source": [
    "q8 = ex[13]\n",
    "q8.about()"
   ]
  },
  {
   "cell_type": "code",
   "execution_count": 53,
   "id": "d10fc8ae",
   "metadata": {},
   "outputs": [
    {
     "name": "stdout",
     "output_type": "stream",
     "text": [
      "\n",
      "Subalgebras of <Group:Q8, ID:140644887223440>\n",
      "  There are 2 unique proper subalgebras, up to isomorphism, out of 4 total subalgebras.\n",
      "  as shown by the partitions below:\n",
      "\n",
      "1 Commutative Normal Group of order 2 with identity '1':\n",
      "      Group: Q8_subalgebra_0: ['1', '-1']\n",
      "\n",
      "3 Isomorphic Commutative Normal Groups of order 4 with identity '1':\n",
      "      Group: Q8_subalgebra_1: ['1', 'i', '-1', '-i']\n",
      "      Group: Q8_subalgebra_2: ['1', '-1', 'k', '-k']\n",
      "      Group: Q8_subalgebra_3: ['1', '-1', 'j', '-j']\n",
      "\n"
     ]
    }
   ],
   "source": [
    "alg = q8\n",
    "alg_subs = alg.proper_subalgebras()\n",
    "partitions = partition_into_isomorphic_lists(alg_subs)\n",
    "about_isomorphic_partitions(alg, partitions)"
   ]
  },
  {
   "cell_type": "markdown",
   "id": "89e1d6e3",
   "metadata": {},
   "source": [
    "The order 2 normal subgroup, above, is the **commutator subgroup**, as shown below:"
   ]
  },
  {
   "cell_type": "code",
   "execution_count": 55,
   "id": "b0f65969",
   "metadata": {},
   "outputs": [
    {
     "name": "stdout",
     "output_type": "stream",
     "text": [
      "\n",
      "** Group **\n",
      "Name: Q8_CG\n",
      "Instance ID: 140645161806544\n",
      "Description: Q8 commutator subgroup\n",
      "Order: 2\n",
      "Identity: 1\n",
      "Associative? Yes\n",
      "Commutative? Yes\n",
      "Cyclic?: Yes\n",
      "  Generators: ['-1']\n",
      "Elements:\n",
      "   Index   Name   Inverse  Order\n",
      "      0       1       1       1\n",
      "      1      -1      -1       2\n",
      "Cayley Table (showing indices):\n",
      "[[0, 1], [1, 0]]\n"
     ]
    }
   ],
   "source": [
    "alg.commutator_subgroup().about()"
   ]
  },
  {
   "cell_type": "code",
   "execution_count": null,
   "id": "ca162467",
   "metadata": {},
   "outputs": [],
   "source": []
  },
  {
   "cell_type": "code",
   "execution_count": null,
   "id": "8e218d3e",
   "metadata": {},
   "outputs": [],
   "source": []
  },
  {
   "cell_type": "code",
   "execution_count": 56,
   "id": "0e03d11d",
   "metadata": {},
   "outputs": [
    {
     "name": "stdout",
     "output_type": "stream",
     "text": [
      "\n",
      "** Group **\n",
      "Name: SD16\n",
      "Instance ID: 140644887223952\n",
      "Description: Semidihedral group of order 16\n",
      "Order: 16\n",
      "Identity: e\n",
      "Associative? Yes\n",
      "Commutative? No\n",
      "Cyclic?: No\n",
      "Elements:\n",
      "   Index   Name   Inverse  Order\n",
      "      0       e       e       1\n",
      "      1       t       t       2\n",
      "      2       s  ts^2ts       8\n",
      "      3      st   s^2ts       4\n",
      "      4     s^2   ts^2t       4\n",
      "      5    s^2t    s^2t       2\n",
      "      6     tst  tsts^2       8\n",
      "      7      ts   sts^2       4\n",
      "      8    tsts    tsts       2\n",
      "      9     sts     sts       2\n",
      "     10  tsts^2     tst       8\n",
      "     11   s^2ts      st       4\n",
      "     12   ts^2t     s^2       4\n",
      "     13    ts^2    ts^2       2\n",
      "     14  ts^2ts       s       8\n",
      "     15   sts^2      ts       4\n",
      "Cayley Table (showing indices):\n",
      "[[0, 1, 2, 3, 4, 5, 6, 7, 8, 9, 10, 11, 12, 13, 14, 15],\n",
      " [1, 0, 7, 6, 13, 12, 3, 2, 9, 8, 15, 14, 5, 4, 11, 10],\n",
      " [2, 3, 4, 5, 6, 7, 8, 9, 10, 11, 12, 13, 14, 15, 0, 1],\n",
      " [3, 2, 9, 8, 15, 14, 5, 4, 11, 10, 1, 0, 7, 6, 13, 12],\n",
      " [4, 5, 6, 7, 8, 9, 10, 11, 12, 13, 14, 15, 0, 1, 2, 3],\n",
      " [5, 4, 11, 10, 1, 0, 7, 6, 13, 12, 3, 2, 9, 8, 15, 14],\n",
      " [6, 7, 8, 9, 10, 11, 12, 13, 14, 15, 0, 1, 2, 3, 4, 5],\n",
      " [7, 6, 13, 12, 3, 2, 9, 8, 15, 14, 5, 4, 11, 10, 1, 0],\n",
      " [8, 9, 10, 11, 12, 13, 14, 15, 0, 1, 2, 3, 4, 5, 6, 7],\n",
      " [9, 8, 15, 14, 5, 4, 11, 10, 1, 0, 7, 6, 13, 12, 3, 2],\n",
      " [10, 11, 12, 13, 14, 15, 0, 1, 2, 3, 4, 5, 6, 7, 8, 9],\n",
      " [11, 10, 1, 0, 7, 6, 13, 12, 3, 2, 9, 8, 15, 14, 5, 4],\n",
      " [12, 13, 14, 15, 0, 1, 2, 3, 4, 5, 6, 7, 8, 9, 10, 11],\n",
      " [13, 12, 3, 2, 9, 8, 15, 14, 5, 4, 11, 10, 1, 0, 7, 6],\n",
      " [14, 15, 0, 1, 2, 3, 4, 5, 6, 7, 8, 9, 10, 11, 12, 13],\n",
      " [15, 14, 5, 4, 11, 10, 1, 0, 7, 6, 13, 12, 3, 2, 9, 8]]\n"
     ]
    }
   ],
   "source": [
    "sd16 = ex[14]\n",
    "sd16.about(max_size=16)"
   ]
  },
  {
   "cell_type": "code",
   "execution_count": 69,
   "id": "ba2df0cd",
   "metadata": {
    "scrolled": true
   },
   "outputs": [
    {
     "name": "stdout",
     "output_type": "stream",
     "text": [
      "CPU times: user 8.66 s, sys: 14.5 ms, total: 8.68 s\n",
      "Wall time: 8.69 s\n",
      "CPU times: user 20.5 s, sys: 29.2 ms, total: 20.5 s\n",
      "Wall time: 20.5 s\n",
      "\n",
      "Subalgebras of <Group:SD16, ID:140644887223952>\n",
      "  There are 6 unique proper subalgebras, up to isomorphism, out of 13 total subalgebras.\n",
      "  as shown by the partitions below:\n",
      "\n",
      "5 Isomorphic Commutative Groups of order 2 with identity 'e':\n",
      "      Group: SD16_subalgebra_0: ['e', 't']\n",
      "      Group: SD16_subalgebra_2: ['e', 's^2t']\n",
      "      Group: SD16_subalgebra_4: ['e', 'tsts']\n",
      "      Group: SD16_subalgebra_6: ['e', 'sts']\n",
      "      Group: SD16_subalgebra_12: ['e', 'ts^2']\n",
      "\n",
      "1 Normal Group of order 8 with identity 'e':\n",
      "      Group: SD16_subalgebra_1: ['e', 't', 's^2', 's^2t', 'tsts', 'sts', 'ts^2t', 'ts^2']\n",
      "\n",
      "3 Isomorphic Commutative Groups of order 4 with identity 'e':\n",
      "      Group: SD16_subalgebra_3: ['e', 'ts', 'tsts', 'sts^2']\n",
      "      Group: SD16_subalgebra_8: ['e', 'st', 'tsts', 's^2ts']\n",
      "      Group: SD16_subalgebra_10: ['e', 's^2', 'tsts', 'ts^2t']\n",
      "\n",
      "2 Isomorphic Commutative Groups of order 4 with identity 'e':\n",
      "      Group: SD16_subalgebra_5: ['e', 't', 'tsts', 'sts']\n",
      "      Group: SD16_subalgebra_11: ['e', 's^2t', 'tsts', 'ts^2']\n",
      "\n",
      "1 Normal Group of order 8 with identity 'e':\n",
      "      Group: SD16_subalgebra_7: ['e', 'st', 's^2', 'ts', 'tsts', 's^2ts', 'ts^2t', 'sts^2']\n",
      "\n",
      "1 Commutative Normal Group of order 8 with identity 'e':\n",
      "      Group: SD16_subalgebra_9: ['e', 's', 's^2', 'tst', 'tsts', 'tsts^2', 'ts^2t', 'ts^2ts']\n",
      "\n"
     ]
    }
   ],
   "source": [
    "alg = sd16\n",
    "%time alg_subs = alg.proper_subalgebras()\n",
    "%time partitions = partition_into_isomorphic_lists(alg_subs)\n",
    "about_isomorphic_partitions(alg, partitions)"
   ]
  },
  {
   "cell_type": "markdown",
   "id": "20b1e043",
   "metadata": {},
   "source": [
    "**ISSUE**: subs 4 & 9 are normal, as shown below, but that is not indicated in the summary above."
   ]
  },
  {
   "cell_type": "code",
   "execution_count": 68,
   "id": "95f661c3",
   "metadata": {},
   "outputs": [
    {
     "name": "stdout",
     "output_type": "stream",
     "text": [
      "\n",
      "----------------------------------------\n",
      "<Group:SD16_subalgebra_1, ID:140644898959184>\n",
      "\n",
      "----------------------------------------\n",
      "<Group:SD16_subalgebra_4, ID:140644898956496>\n",
      "\n",
      "----------------------------------------\n",
      "<Group:SD16_subalgebra_7, ID:140644898958032>\n",
      "\n",
      "----------------------------------------\n",
      "<Group:SD16_subalgebra_9, ID:140644898956368>\n",
      "\n",
      "----------------------------------------\n",
      "<Group:SD16_subalgebra_10, ID:140644898956176>\n",
      "\n",
      "----------------------------------------\n"
     ]
    }
   ],
   "source": [
    "print(\"\\n\" + \"-\"*40)\n",
    "for sub in alg_subs:\n",
    "    if alg.is_normal(sub):\n",
    "        # sub.about(use_table_names=True)\n",
    "        print(\"\\n\" + \"-\"*40)"
   ]
  },
  {
   "cell_type": "markdown",
   "id": "0af49faf",
   "metadata": {},
   "source": [
    "**ISSUE**: Why isn't the order 4 commutator subgroup (derived below) one of the subgroups reported by the summary above?"
   ]
  },
  {
   "cell_type": "code",
   "execution_count": 59,
   "id": "85995f6b",
   "metadata": {},
   "outputs": [
    {
     "name": "stdout",
     "output_type": "stream",
     "text": [
      "\n",
      "** Group **\n",
      "Name: SD16_CG\n",
      "Instance ID: 140645161901008\n",
      "Description: SD16 commutator subgroup\n",
      "Order: 4\n",
      "Identity: e\n",
      "Associative? Yes\n",
      "Commutative? Yes\n",
      "Cyclic?: Yes\n",
      "  Generators: ['s^2', 'ts^2t']\n",
      "Elements:\n",
      "   Index   Name   Inverse  Order\n",
      "      0       e       e       1\n",
      "      1     s^2   ts^2t       4\n",
      "      2    tsts    tsts       2\n",
      "      3   ts^2t     s^2       4\n",
      "Cayley Table (showing indices):\n",
      "[[0, 1, 2, 3], [1, 2, 3, 0], [2, 3, 0, 1], [3, 0, 1, 2]]\n"
     ]
    }
   ],
   "source": [
    "alg.commutator_subgroup().about()"
   ]
  },
  {
   "cell_type": "markdown",
   "id": "058660d7",
   "metadata": {},
   "source": [
    "**Observation**: The intersections of the element sets belonging to the 3 order 8 normal subgroups is the set of elements of the commutator subgroup."
   ]
  },
  {
   "cell_type": "code",
   "execution_count": 60,
   "id": "3bba021a",
   "metadata": {},
   "outputs": [],
   "source": [
    "x1 = ['e', 't', 's^2', 's^2t', 'tsts', 'sts', 'ts^2t', 'ts^2']\n",
    "x2 = ['e', 'st', 's^2', 'ts', 'tsts', 's^2ts', 'ts^2t', 'sts^2']\n",
    "x3 = ['e', 's', 's^2', 'tst', 'tsts', 'tsts^2', 'ts^2t', 'ts^2ts']"
   ]
  },
  {
   "cell_type": "code",
   "execution_count": 63,
   "id": "2678ca88",
   "metadata": {},
   "outputs": [
    {
     "data": {
      "text/plain": [
       "{'e', 's^2', 'ts^2t', 'tsts'}"
      ]
     },
     "execution_count": 63,
     "metadata": {},
     "output_type": "execute_result"
    }
   ],
   "source": [
    "set(x1) & set(x2)"
   ]
  },
  {
   "cell_type": "code",
   "execution_count": 64,
   "id": "2b79dee5",
   "metadata": {},
   "outputs": [
    {
     "data": {
      "text/plain": [
       "{'e', 's^2', 'ts^2t', 'tsts'}"
      ]
     },
     "execution_count": 64,
     "metadata": {},
     "output_type": "execute_result"
    }
   ],
   "source": [
    "set(x1) & set(x3)"
   ]
  },
  {
   "cell_type": "code",
   "execution_count": 65,
   "id": "4a72d904",
   "metadata": {},
   "outputs": [
    {
     "data": {
      "text/plain": [
       "{'e', 's^2', 'ts^2t', 'tsts'}"
      ]
     },
     "execution_count": 65,
     "metadata": {},
     "output_type": "execute_result"
    }
   ],
   "source": [
    "set(x2) & set(x3)"
   ]
  },
  {
   "cell_type": "code",
   "execution_count": 74,
   "id": "19e5f038",
   "metadata": {},
   "outputs": [
    {
     "data": {
      "text/plain": [
       "{'e', 's^2', 'ts^2t', 'tsts'}"
      ]
     },
     "execution_count": 74,
     "metadata": {},
     "output_type": "execute_result"
    }
   ],
   "source": [
    "alg.commutators()"
   ]
  },
  {
   "cell_type": "code",
   "execution_count": 78,
   "id": "9dcfb790",
   "metadata": {},
   "outputs": [
    {
     "name": "stdout",
     "output_type": "stream",
     "text": [
      "\n",
      "** Group **\n",
      "Name: SD16_subalgebra_3\n",
      "Instance ID: 140644894022992\n",
      "Description: Subalgebra of: Semidihedral group of order 16\n",
      "Order: 4\n",
      "Identity: e\n",
      "Associative? Yes\n",
      "Commutative? Yes\n",
      "Cyclic?: Yes\n",
      "  Generators: ['sts^2', 'ts']\n",
      "Elements:\n",
      "   Index   Name   Inverse  Order\n",
      "      0       e       e       1\n",
      "      1      ts   sts^2       4\n",
      "      2    tsts    tsts       2\n",
      "      3   sts^2      ts       4\n",
      "Cayley Table (showing indices):\n",
      "[[0, 1, 2, 3], [1, 2, 3, 0], [2, 3, 0, 1], [3, 0, 1, 2]]\n"
     ]
    }
   ],
   "source": [
    "alg_subs[3].about()"
   ]
  },
  {
   "cell_type": "code",
   "execution_count": 79,
   "id": "461ed7b7",
   "metadata": {},
   "outputs": [
    {
     "name": "stdout",
     "output_type": "stream",
     "text": [
      "\n",
      "** Group **\n",
      "Name: SD16_subalgebra_8\n",
      "Instance ID: 140644894078032\n",
      "Description: Subalgebra of: Semidihedral group of order 16\n",
      "Order: 4\n",
      "Identity: e\n",
      "Associative? Yes\n",
      "Commutative? Yes\n",
      "Cyclic?: Yes\n",
      "  Generators: ['s^2ts', 'st']\n",
      "Elements:\n",
      "   Index   Name   Inverse  Order\n",
      "      0       e       e       1\n",
      "      1      st   s^2ts       4\n",
      "      2    tsts    tsts       2\n",
      "      3   s^2ts      st       4\n",
      "Cayley Table (showing indices):\n",
      "[[0, 1, 2, 3], [1, 2, 3, 0], [2, 3, 0, 1], [3, 0, 1, 2]]\n"
     ]
    }
   ],
   "source": [
    "alg_subs[8].about()"
   ]
  },
  {
   "cell_type": "code",
   "execution_count": 80,
   "id": "8467e67a",
   "metadata": {},
   "outputs": [
    {
     "name": "stdout",
     "output_type": "stream",
     "text": [
      "\n",
      "** Group **\n",
      "Name: SD16_subalgebra_10\n",
      "Instance ID: 140644894080528\n",
      "Description: Subalgebra of: Semidihedral group of order 16\n",
      "Order: 4\n",
      "Identity: e\n",
      "Associative? Yes\n",
      "Commutative? Yes\n",
      "Cyclic?: Yes\n",
      "  Generators: ['s^2', 'ts^2t']\n",
      "Elements:\n",
      "   Index   Name   Inverse  Order\n",
      "      0       e       e       1\n",
      "      1     s^2   ts^2t       4\n",
      "      2    tsts    tsts       2\n",
      "      3   ts^2t     s^2       4\n",
      "Cayley Table (showing indices):\n",
      "[[0, 1, 2, 3], [1, 2, 3, 0], [2, 3, 0, 1], [3, 0, 1, 2]]\n"
     ]
    }
   ],
   "source": [
    "alg_subs[10].about()"
   ]
  },
  {
   "cell_type": "code",
   "execution_count": null,
   "id": "0c726cb3",
   "metadata": {},
   "outputs": [],
   "source": []
  },
  {
   "cell_type": "code",
   "execution_count": null,
   "id": "500c4879",
   "metadata": {},
   "outputs": [],
   "source": []
  },
  {
   "cell_type": "markdown",
   "id": "5ec0384b",
   "metadata": {},
   "source": [
    "## More Work Needed Past This Point"
   ]
  },
  {
   "cell_type": "markdown",
   "id": "edcdce39",
   "metadata": {},
   "source": [
    "Deriving subalgebras of Rings and Fields needs more work, as does the method for reporting on them: *about_isomorphic_partitions*"
   ]
  },
  {
   "cell_type": "code",
   "execution_count": 20,
   "id": "0746f887",
   "metadata": {},
   "outputs": [
    {
     "name": "stdout",
     "output_type": "stream",
     "text": [
      "\n",
      "** Field **\n",
      "Name: F4\n",
      "Instance ID: 140645691123600\n",
      "Description: Field with 4 elements (from Wikipedia)\n",
      "Order: 4\n",
      "Identity: 0\n",
      "Associative? Yes\n",
      "Commutative? Yes\n",
      "Cyclic?: Yes\n",
      "  Generators: ['1+a', 'a']\n",
      "Elements:\n",
      "   Index   Name   Inverse  Order\n",
      "      0       0       0       1\n",
      "      1       1       1       2\n",
      "      2       a       a       2\n",
      "      3     1+a     1+a       2\n",
      "Cayley Table (showing indices):\n",
      "[[0, 1, 2, 3], [1, 0, 3, 2], [2, 3, 0, 1], [3, 2, 1, 0]]\n",
      "Mult. Identity: 1\n",
      "Mult. Commutative? Yes\n",
      "Zero Divisors: None\n",
      "Multiplicative Cayley Table (showing indices):\n",
      "[[0, 0, 0, 0], [0, 1, 2, 3], [0, 2, 3, 1], [0, 3, 1, 2]]\n"
     ]
    }
   ],
   "source": [
    "f4 = ex[9]\n",
    "f4.about()"
   ]
  },
  {
   "cell_type": "code",
   "execution_count": null,
   "id": "eef52c9b",
   "metadata": {},
   "outputs": [],
   "source": []
  },
  {
   "cell_type": "code",
   "execution_count": 21,
   "id": "1ba1e4a8",
   "metadata": {},
   "outputs": [
    {
     "name": "stdout",
     "output_type": "stream",
     "text": [
      "\n",
      "Subalgebras of <Field:F4, ID:140645691123600>\n",
      "  There is 1 unique proper subalgebra, up to isomorphism, out of 1 total subalgebras.\n",
      "  as shown by the partitions below:\n",
      "\n",
      "1 Commutative Normal Field of order 2 with identity '0':\n",
      "      Field: F4_subalgebra_0: ['0', '1']\n",
      "\n"
     ]
    }
   ],
   "source": [
    "alg = f4\n",
    "alg_subs = alg.proper_subalgebras()\n",
    "partitions = partition_into_isomorphic_lists(alg_subs)\n",
    "about_isomorphic_partitions(alg, partitions)"
   ]
  },
  {
   "cell_type": "code",
   "execution_count": null,
   "id": "dc116ef7",
   "metadata": {},
   "outputs": [],
   "source": []
  },
  {
   "cell_type": "code",
   "execution_count": null,
   "id": "452b6a90",
   "metadata": {},
   "outputs": [],
   "source": []
  },
  {
   "cell_type": "code",
   "execution_count": 22,
   "id": "f6bcfee7",
   "metadata": {},
   "outputs": [
    {
     "name": "stdout",
     "output_type": "stream",
     "text": [
      "\n",
      "** Ring **\n",
      "Name: Ex6\n",
      "Instance ID: 140644887222544\n",
      "Description: Example 6: http://www-groups.mcs.st-andrews.ac.uk/~john/MT4517/Lectures/L3.html\n",
      "Order: 4\n",
      "Identity: 0\n",
      "Associative? Yes\n",
      "Commutative? Yes\n",
      "Cyclic?: No\n",
      "Elements:\n",
      "   Index   Name   Inverse  Order\n",
      "      0       0       0       1\n",
      "      1       a       a       2\n",
      "      2       b       b       2\n",
      "      3       c       c       2\n",
      "Cayley Table (showing indices):\n",
      "[[0, 1, 2, 3], [1, 0, 3, 2], [2, 3, 0, 1], [3, 2, 1, 0]]\n",
      "Mult. Identity: None\n",
      "Mult. Commutative? No\n",
      "Zero Divisors: ['a', 'b', 'c']\n",
      "Multiplicative Cayley Table (showing indices):\n",
      "[[0, 0, 0, 0], [0, 0, 1, 1], [0, 0, 2, 2], [0, 0, 3, 3]]\n"
     ]
    }
   ],
   "source": [
    "ex6 = ex[12]\n",
    "ex6.about()"
   ]
  },
  {
   "cell_type": "code",
   "execution_count": 23,
   "id": "77f49e5b",
   "metadata": {
    "scrolled": true
   },
   "outputs": [
    {
     "name": "stdout",
     "output_type": "stream",
     "text": [
      "\n",
      "Subalgebras of <Ring:Ex6, ID:140644887222544>\n",
      "  There is 1 unique proper subalgebra, up to isomorphism, out of 3 total subalgebras.\n",
      "  as shown by the partitions below:\n",
      "\n",
      "3 Isomorphic Commutative Normal Rings of order 2 with identity '0':\n",
      "      Ring: Ex6_subalgebra_0: ['0', 'a']\n",
      "      Field: Ex6_subalgebra_1: ['0', 'b']\n",
      "      Field: Ex6_subalgebra_2: ['0', 'c']\n",
      "\n"
     ]
    }
   ],
   "source": [
    "alg = ex6\n",
    "alg_subs = alg.proper_subalgebras()\n",
    "partitions = partition_into_isomorphic_lists(alg_subs)\n",
    "about_isomorphic_partitions(alg, partitions)"
   ]
  },
  {
   "cell_type": "code",
   "execution_count": null,
   "id": "9346b78d",
   "metadata": {},
   "outputs": [],
   "source": []
  },
  {
   "cell_type": "code",
   "execution_count": 24,
   "id": "19e471e6",
   "metadata": {},
   "outputs": [
    {
     "name": "stdout",
     "output_type": "stream",
     "text": [
      "\n",
      "** Ring **\n",
      "Name: R12\n",
      "Instance ID: 140644887287824\n",
      "Description: Autogenerated Ring of integers mod 12\n",
      "Order: 12\n",
      "Identity: a00\n",
      "Associative? Yes\n",
      "Commutative? Yes\n",
      "Cyclic?: Yes\n",
      "  Generators: ['a01', 'a05', 'a07', 'a11']\n",
      "Elements:\n",
      "   Index   Name   Inverse  Order\n",
      "      0     a00     a00       1\n",
      "      1     a01     a11      12\n",
      "      2     a02     a10       6\n",
      "      3     a03     a09       4\n",
      "      4     a04     a08       3\n",
      "      5     a05     a07      12\n",
      "      6     a06     a06       2\n",
      "      7     a07     a05      12\n",
      "      8     a08     a04       3\n",
      "      9     a09     a03       4\n",
      "     10     a10     a02       6\n",
      "     11     a11     a01      12\n",
      "Cayley Table (showing names):\n",
      "[['a00',\n",
      "  'a01',\n",
      "  'a02',\n",
      "  'a03',\n",
      "  'a04',\n",
      "  'a05',\n",
      "  'a06',\n",
      "  'a07',\n",
      "  'a08',\n",
      "  'a09',\n",
      "  'a10',\n",
      "  'a11'],\n",
      " ['a01',\n",
      "  'a02',\n",
      "  'a03',\n",
      "  'a04',\n",
      "  'a05',\n",
      "  'a06',\n",
      "  'a07',\n",
      "  'a08',\n",
      "  'a09',\n",
      "  'a10',\n",
      "  'a11',\n",
      "  'a00'],\n",
      " ['a02',\n",
      "  'a03',\n",
      "  'a04',\n",
      "  'a05',\n",
      "  'a06',\n",
      "  'a07',\n",
      "  'a08',\n",
      "  'a09',\n",
      "  'a10',\n",
      "  'a11',\n",
      "  'a00',\n",
      "  'a01'],\n",
      " ['a03',\n",
      "  'a04',\n",
      "  'a05',\n",
      "  'a06',\n",
      "  'a07',\n",
      "  'a08',\n",
      "  'a09',\n",
      "  'a10',\n",
      "  'a11',\n",
      "  'a00',\n",
      "  'a01',\n",
      "  'a02'],\n",
      " ['a04',\n",
      "  'a05',\n",
      "  'a06',\n",
      "  'a07',\n",
      "  'a08',\n",
      "  'a09',\n",
      "  'a10',\n",
      "  'a11',\n",
      "  'a00',\n",
      "  'a01',\n",
      "  'a02',\n",
      "  'a03'],\n",
      " ['a05',\n",
      "  'a06',\n",
      "  'a07',\n",
      "  'a08',\n",
      "  'a09',\n",
      "  'a10',\n",
      "  'a11',\n",
      "  'a00',\n",
      "  'a01',\n",
      "  'a02',\n",
      "  'a03',\n",
      "  'a04'],\n",
      " ['a06',\n",
      "  'a07',\n",
      "  'a08',\n",
      "  'a09',\n",
      "  'a10',\n",
      "  'a11',\n",
      "  'a00',\n",
      "  'a01',\n",
      "  'a02',\n",
      "  'a03',\n",
      "  'a04',\n",
      "  'a05'],\n",
      " ['a07',\n",
      "  'a08',\n",
      "  'a09',\n",
      "  'a10',\n",
      "  'a11',\n",
      "  'a00',\n",
      "  'a01',\n",
      "  'a02',\n",
      "  'a03',\n",
      "  'a04',\n",
      "  'a05',\n",
      "  'a06'],\n",
      " ['a08',\n",
      "  'a09',\n",
      "  'a10',\n",
      "  'a11',\n",
      "  'a00',\n",
      "  'a01',\n",
      "  'a02',\n",
      "  'a03',\n",
      "  'a04',\n",
      "  'a05',\n",
      "  'a06',\n",
      "  'a07'],\n",
      " ['a09',\n",
      "  'a10',\n",
      "  'a11',\n",
      "  'a00',\n",
      "  'a01',\n",
      "  'a02',\n",
      "  'a03',\n",
      "  'a04',\n",
      "  'a05',\n",
      "  'a06',\n",
      "  'a07',\n",
      "  'a08'],\n",
      " ['a10',\n",
      "  'a11',\n",
      "  'a00',\n",
      "  'a01',\n",
      "  'a02',\n",
      "  'a03',\n",
      "  'a04',\n",
      "  'a05',\n",
      "  'a06',\n",
      "  'a07',\n",
      "  'a08',\n",
      "  'a09'],\n",
      " ['a11',\n",
      "  'a00',\n",
      "  'a01',\n",
      "  'a02',\n",
      "  'a03',\n",
      "  'a04',\n",
      "  'a05',\n",
      "  'a06',\n",
      "  'a07',\n",
      "  'a08',\n",
      "  'a09',\n",
      "  'a10']]\n",
      "Mult. Identity: a01\n",
      "Mult. Commutative? Yes\n",
      "Zero Divisors: ['a02', 'a03', 'a04', 'a06', 'a08', 'a09', 'a10']\n",
      "Multiplicative Cayley Table (showing names):\n",
      "[['a00',\n",
      "  'a00',\n",
      "  'a00',\n",
      "  'a00',\n",
      "  'a00',\n",
      "  'a00',\n",
      "  'a00',\n",
      "  'a00',\n",
      "  'a00',\n",
      "  'a00',\n",
      "  'a00',\n",
      "  'a00'],\n",
      " ['a00',\n",
      "  'a01',\n",
      "  'a02',\n",
      "  'a03',\n",
      "  'a04',\n",
      "  'a05',\n",
      "  'a06',\n",
      "  'a07',\n",
      "  'a08',\n",
      "  'a09',\n",
      "  'a10',\n",
      "  'a11'],\n",
      " ['a00',\n",
      "  'a02',\n",
      "  'a04',\n",
      "  'a06',\n",
      "  'a08',\n",
      "  'a10',\n",
      "  'a00',\n",
      "  'a02',\n",
      "  'a04',\n",
      "  'a06',\n",
      "  'a08',\n",
      "  'a10'],\n",
      " ['a00',\n",
      "  'a03',\n",
      "  'a06',\n",
      "  'a09',\n",
      "  'a00',\n",
      "  'a03',\n",
      "  'a06',\n",
      "  'a09',\n",
      "  'a00',\n",
      "  'a03',\n",
      "  'a06',\n",
      "  'a09'],\n",
      " ['a00',\n",
      "  'a04',\n",
      "  'a08',\n",
      "  'a00',\n",
      "  'a04',\n",
      "  'a08',\n",
      "  'a00',\n",
      "  'a04',\n",
      "  'a08',\n",
      "  'a00',\n",
      "  'a04',\n",
      "  'a08'],\n",
      " ['a00',\n",
      "  'a05',\n",
      "  'a10',\n",
      "  'a03',\n",
      "  'a08',\n",
      "  'a01',\n",
      "  'a06',\n",
      "  'a11',\n",
      "  'a04',\n",
      "  'a09',\n",
      "  'a02',\n",
      "  'a07'],\n",
      " ['a00',\n",
      "  'a06',\n",
      "  'a00',\n",
      "  'a06',\n",
      "  'a00',\n",
      "  'a06',\n",
      "  'a00',\n",
      "  'a06',\n",
      "  'a00',\n",
      "  'a06',\n",
      "  'a00',\n",
      "  'a06'],\n",
      " ['a00',\n",
      "  'a07',\n",
      "  'a02',\n",
      "  'a09',\n",
      "  'a04',\n",
      "  'a11',\n",
      "  'a06',\n",
      "  'a01',\n",
      "  'a08',\n",
      "  'a03',\n",
      "  'a10',\n",
      "  'a05'],\n",
      " ['a00',\n",
      "  'a08',\n",
      "  'a04',\n",
      "  'a00',\n",
      "  'a08',\n",
      "  'a04',\n",
      "  'a00',\n",
      "  'a08',\n",
      "  'a04',\n",
      "  'a00',\n",
      "  'a08',\n",
      "  'a04'],\n",
      " ['a00',\n",
      "  'a09',\n",
      "  'a06',\n",
      "  'a03',\n",
      "  'a00',\n",
      "  'a09',\n",
      "  'a06',\n",
      "  'a03',\n",
      "  'a00',\n",
      "  'a09',\n",
      "  'a06',\n",
      "  'a03'],\n",
      " ['a00',\n",
      "  'a10',\n",
      "  'a08',\n",
      "  'a06',\n",
      "  'a04',\n",
      "  'a02',\n",
      "  'a00',\n",
      "  'a10',\n",
      "  'a08',\n",
      "  'a06',\n",
      "  'a04',\n",
      "  'a02'],\n",
      " ['a00',\n",
      "  'a11',\n",
      "  'a10',\n",
      "  'a09',\n",
      "  'a08',\n",
      "  'a07',\n",
      "  'a06',\n",
      "  'a05',\n",
      "  'a04',\n",
      "  'a03',\n",
      "  'a02',\n",
      "  'a01']]\n"
     ]
    }
   ],
   "source": [
    "alg1 = generate_algebra_mod_n(12)\n",
    "alg1.about(use_table_names=True)"
   ]
  },
  {
   "cell_type": "code",
   "execution_count": 25,
   "id": "469bef69",
   "metadata": {},
   "outputs": [
    {
     "name": "stdout",
     "output_type": "stream",
     "text": [
      "\n",
      "Subalgebras of <Ring:R12, ID:140644887287824>\n",
      "  There are 4 unique proper subalgebras, up to isomorphism, out of 4 total subalgebras.\n",
      "  as shown by the partitions below:\n",
      "\n",
      "1 Commutative Normal Field of order 3 with identity 'a00':\n",
      "      Field: R12_subalgebra_0: ['a00', 'a04', 'a08']\n",
      "\n",
      "1 Commutative Normal Ring of order 6 with identity 'a00':\n",
      "      Ring: R12_subalgebra_1: ['a00', 'a02', 'a04', 'a06', 'a08', 'a10']\n",
      "\n",
      "1 Commutative Normal Ring of order 4 with identity 'a00':\n",
      "      Ring: R12_subalgebra_2: ['a00', 'a03', 'a06', 'a09']\n",
      "\n",
      "1 Commutative Normal Ring of order 2 with identity 'a00':\n",
      "      Ring: R12_subalgebra_3: ['a00', 'a06']\n",
      "\n"
     ]
    }
   ],
   "source": [
    "alg = alg1\n",
    "alg_subs = alg.proper_subalgebras()\n",
    "partitions = partition_into_isomorphic_lists(alg_subs)\n",
    "about_isomorphic_partitions(alg, partitions)"
   ]
  },
  {
   "cell_type": "code",
   "execution_count": 26,
   "id": "bb33dcd3",
   "metadata": {},
   "outputs": [
    {
     "data": {
      "text/plain": [
       "['a02', 'a03', 'a04', 'a06', 'a08', 'a09', 'a10']"
      ]
     },
     "execution_count": 26,
     "metadata": {},
     "output_type": "execute_result"
    }
   ],
   "source": [
    "alg.zero_divisors()"
   ]
  },
  {
   "cell_type": "code",
   "execution_count": 27,
   "id": "e5c8812b",
   "metadata": {},
   "outputs": [
    {
     "data": {
      "text/plain": [
       "'a01'"
      ]
     },
     "execution_count": 27,
     "metadata": {},
     "output_type": "execute_result"
    }
   ],
   "source": [
    "alg.mult_identity"
   ]
  },
  {
   "cell_type": "code",
   "execution_count": null,
   "id": "590e0734",
   "metadata": {},
   "outputs": [],
   "source": []
  }
 ],
 "metadata": {
  "kernelspec": {
   "display_name": "Python 3",
   "language": "python",
   "name": "python3"
  },
  "language_info": {
   "codemirror_mode": {
    "name": "ipython",
    "version": 3
   },
   "file_extension": ".py",
   "mimetype": "text/x-python",
   "name": "python",
   "nbconvert_exporter": "python",
   "pygments_lexer": "ipython3",
   "version": "3.7.7"
  }
 },
 "nbformat": 4,
 "nbformat_minor": 5
}
