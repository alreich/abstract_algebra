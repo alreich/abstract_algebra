{
 "cells": [
  {
   "cell_type": "markdown",
   "id": "52008698",
   "metadata": {},
   "source": [
    "# Introduction"
   ]
  },
  {
   "cell_type": "markdown",
   "id": "3fa32fe0",
   "metadata": {},
   "source": [
    "This section describes the organization of classes, methods, and functions in the ``finite_algebra`` module, by way of describing the algebraic entities they represent.  So, if we let $A \\leftarrow B$ denote \"B is a subclass of A\", then the class hierarchy of algebraic structures in ``finite_algebra`` is:"
   ]
  },
  {
   "cell_type": "markdown",
   "id": "ef6aa3c4",
   "metadata": {},
   "source": [
    "<center> FiniteAlgebra $\\leftarrow$ Magma $\\leftarrow$ Semigroup $\\leftarrow$ Monoid $\\leftarrow$ Group $\\leftarrow$ Ring $\\leftarrow$ Field"
   ]
  },
  {
   "cell_type": "markdown",
   "id": "6b5e450c",
   "metadata": {},
   "source": [
    "The definition of a Group is the easiest place to begin with this description."
   ]
  },
  {
   "cell_type": "markdown",
   "id": "380b3347",
   "metadata": {},
   "source": [
    "## Groups"
   ]
  },
  {
   "cell_type": "markdown",
   "id": "92aefd86",
   "metadata": {},
   "source": [
    "A group, $G = \\langle S, \\circ \\rangle$, consists of a set, $S$, and a binary operation, $\\circ: S \\times S \\to S$ such that:\n",
    "\n",
    "1. $\\circ$ assigns a unique value, $a \\circ b \\in S$, for every $(a,b) \\in S \\times S$.\n",
    "1. $\\circ$ is <i>associative</i>.  That is, for any $a,b,c \\in S \\Rightarrow a \\circ (b \\circ c) = (a \\circ b) \\circ c$.\n",
    "1. There is an <i>identity</i> element $e \\in S$, such that, for all $a \\in S, a \\circ e = e \\circ a = a$.\n",
    "1. Every element $a \\in S$ has an <i>inverse</i> element, $a^{-1} \\in S$, such that, $a \\circ a^{-1} = a^{-1} \n",
    "\\circ a = e$.\n",
    "\n",
    "The symbol, $\\circ$, is used above to emphasize that it is not the same as numeric addition, $+$, or multiplication, $\\times$.  Most of the time, though, no symbol at all is used, e.g., $ab$ instead of $a \\circ b$. That will be the case here.\n",
    "\n",
    "Also, since groups are associative, there is no ambiquity in writing products like, $abc$, without paretheses."
   ]
  },
  {
   "cell_type": "markdown",
   "id": "54e25159",
   "metadata": {},
   "source": [
    "## Magmas, Semigroups, and Monoids"
   ]
  },
  {
   "cell_type": "markdown",
   "id": "60830513",
   "metadata": {},
   "source": [
    "By relaxing one or more of the Group requirements, above, we obtain even more general algebraic structures:\n",
    "\n",
    "* If only assumption 1, above, holds, then we have a **Magma**\n",
    "* If both 1 and 2 hold, then we have a **Semigroup**\n",
    "* If 1, 2, and 3 hold, then we have a **Monoid**\n",
    "\n",
    "Rewriting this list as follows, suggests the class hiearchy, presented at the beginning:\n",
    "\n",
    "* binary operation $\\Rightarrow$ **Magma**\n",
    "* an *associative* Magma $\\Rightarrow$ **Semigroup**\n",
    "* a Semigroup with an *identity element* $\\Rightarrow$ **Monoid**\n",
    "* a Monoid with *inverses* $\\Rightarrow$ **Group**"
   ]
  },
  {
   "cell_type": "markdown",
   "id": "7c888700",
   "metadata": {},
   "source": [
    "## Finite Algebras"
   ]
  },
  {
   "cell_type": "markdown",
   "id": "be2b6393",
   "metadata": {},
   "source": [
    "The **FiniteAlgebra** class is not an algebraic structure--it has no binary operation--but rather, it is a *container* for functionality that is common to all classes below it in the hierarchy, to avoid cluttering the definitions of it's subclasses with a lot of \"bookkeeping\" details.\n",
    "\n",
    "Two of those \"bookkeeping\" details are quite important, though:\n",
    "* List of elements -- a list of ``str``\n",
    "* Cayley Table -- a NumPy array of integers representing the 0-based indices of elements in the element list\n",
    "\n",
    "Algebraic properties, such as associativity, commutativity, identities, and inverses, can be derived from the Cayley Table, so methods that test for those properties are contained in the **CayleyTable** class and can be accessed by methods in the **FiniteAlgebra** class."
   ]
  },
  {
   "cell_type": "markdown",
   "id": "66607687",
   "metadata": {},
   "source": [
    "## Rings and Fields"
   ]
  },
  {
   "cell_type": "markdown",
   "id": "6814ded7",
   "metadata": {},
   "source": [
    "Adding Ring and Field classes completes the set algebras supported by ``finite_algebras``.\n",
    "\n",
    "We can define a **Ring**, $R = \\langle S, +, \\cdot \\rangle$, on a set, $S$, with two binary operations, $+$ and $\\cdot$, abstractly called, *addition* and *multiplication*, where:\n",
    "\n",
    "1. $\\langle S, + \\rangle$ is an abelian Group\n",
    "1. $\\langle S, \\cdot \\rangle$ is Semigroup\n",
    "1. Multiplication distributes over addition:\n",
    "   * $a \\cdot (b + c) = a \\cdot b + a \\cdot c$\n",
    "   * $(b + c) \\cdot a = b \\cdot a + c \\cdot a$\n",
    "\n",
    "With Rings, the **additive identity** element is usually denoted by $0$, and, if it exists, a **multiplicative identity** is denoted by $1$."
   ]
  },
  {
   "cell_type": "markdown",
   "id": "82d563ea",
   "metadata": {},
   "source": [
    "With Rings, the **additive identity** element is usually denoted by $0$, and, if it exists, a **multiplicative identity** is denoted by $1$."
   ]
  },
  {
   "cell_type": "markdown",
   "id": "cae4b65c",
   "metadata": {},
   "source": [
    "A **Field**, $F = \\langle S, +, \\cdot \\rangle$, is a Ring, where $\\langle S\\setminus{\\{0\\}}, \\cdot \\rangle$ is an abelian Group."
   ]
  },
  {
   "cell_type": "markdown",
   "id": "6f24784e",
   "metadata": {},
   "source": [
    "## Commutative Magmas"
   ]
  },
  {
   "cell_type": "markdown",
   "id": "4c0ff994",
   "metadata": {},
   "source": [
    "A <i>commutative Magma</i> is a Magma where the binary operation is commutative.\n",
    "\n",
    "That is, for all $a,b \\in M \\Rightarrow ab = ba$.\n",
    "\n",
    "If the Magma also happens to be a Group, then it is often referred to as an <i>abelian Group</i>."
   ]
  },
  {
   "cell_type": "markdown",
   "id": "9095bf17",
   "metadata": {},
   "source": [
    "## Finite Groups"
   ]
  },
  {
   "cell_type": "markdown",
   "id": "d838e902",
   "metadata": {},
   "source": [
    "A <i>finite group</i> is a group, $G = \\langle S, \\cdot \\rangle$, where the number of elements is finite.\n",
    "\n",
    "So, for example, $S = \\{e, a_1, a_2, a_3, ... , a_{n-1}\\}$.  In this case, we say that the <i>order</i> of $G$ is $n$.\n",
    "\n",
    "For infinite groups, the operator, $\\circ$, is usually defined according to a rule or function. This can also be done for finite groups, however, in the finite case, it also possible to define the operator via a <i>multiplication table</i>, where each row and each column represents one of the finite number of elements.\n",
    "\n",
    "For example, if $S = \\{E, H, V, R\\}$, where $E$ is the identity element, then a possible multiplication table would be as shown below (i.e., the <i>Klein-4 Group</i>):"
   ]
  },
  {
   "cell_type": "markdown",
   "id": "7bad078d",
   "metadata": {},
   "source": [
    "  .  | E | H | V | R\n",
    "-----|---|---|---|---\n",
    "  <b>E</b> | E | H | V | R\n",
    "  <b>H</b>  | H | E | R | V\n",
    "  <b>V</b>  | R | R | E | H\n",
    "  <b>R</b>  | E | V | H | E"
   ]
  },
  {
   "cell_type": "markdown",
   "id": "d59c5dc0",
   "metadata": {},
   "source": [
    "## Subgroups"
   ]
  },
  {
   "cell_type": "markdown",
   "id": "9ea19ad4",
   "metadata": {},
   "source": [
    "Given a group, $G = \\langle S, \\circ \\rangle$, suppose that $T \\subseteq S$, such that $H = \\langle T, \\circ \\rangle$ forms a group itself, then $H$ is said to be a subgroup of $G$, sometimes denoted by $H \\trianglelefteq G$.\n",
    "\n",
    "There are two <i>trivial subgroups</i> of $G$: the group consisting of just the identity element, $\\langle \\{e\\}, \\circ \\rangle$, and entire group, $G$, itself.  All other subgroups are <i>proper subgroups</i>.\n",
    "\n",
    "A subgroup, $H$, is a <i>normal subgroup</i> of a group G, if, for all elements $g \\in G$ and for all $h \\in H \\Rightarrow ghg^{-1} \\in H$."
   ]
  },
  {
   "cell_type": "markdown",
   "id": "43cb7984",
   "metadata": {},
   "source": [
    "## Isomorphisms"
   ]
  },
  {
   "cell_type": "markdown",
   "id": "8f051575",
   "metadata": {},
   "source": [
    "TBD"
   ]
  },
  {
   "cell_type": "markdown",
   "id": "a7f0b8c4",
   "metadata": {},
   "source": [
    "## References"
   ]
  },
  {
   "cell_type": "markdown",
   "id": "1c0367a3",
   "metadata": {},
   "source": [
    "TBD"
   ]
  }
 ],
 "metadata": {
  "kernelspec": {
   "display_name": "Python 3",
   "language": "python",
   "name": "python3"
  },
  "language_info": {
   "codemirror_mode": {
    "name": "ipython",
    "version": 3
   },
   "file_extension": ".py",
   "mimetype": "text/x-python",
   "name": "python",
   "nbconvert_exporter": "python",
   "pygments_lexer": "ipython3",
   "version": "3.7.7"
  }
 },
 "nbformat": 4,
 "nbformat_minor": 5
}
