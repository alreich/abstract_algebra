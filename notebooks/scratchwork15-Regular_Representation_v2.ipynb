{
 "cells": [
  {
   "cell_type": "markdown",
   "id": "f217c120",
   "metadata": {},
   "source": [
    "# Regular Representation of a Group or Monoid"
   ]
  },
  {
   "cell_type": "markdown",
   "id": "33c2386c",
   "metadata": {},
   "source": [
    "## References"
   ]
  },
  {
   "cell_type": "markdown",
   "id": "cc60edb4",
   "metadata": {},
   "source": [
    "* Georgi, Howard (2018), <i>\"Lie algebras in particle physics: from isospin to unified theories\"</i>, CRC Press, [Open Access](https://www.taylorfrancis.com/books/oa-mono/10.1201/9780429499210/lie-algebras-particle-physics-howard-georgi?context=ubx&refId=1530fefc-3778-48ae-99ec-cba2935af2fb)\n",
    "* Huang, Jiaqi (2012), <i>\"Lie Groups and their applications to Particle Physics: A Tutorial for Undergraduate Physics Majors\"</i>, [arXiv:2012.00834v1](https://arxiv.org/abs/2012.00834)"
   ]
  },
  {
   "cell_type": "markdown",
   "id": "987e7540",
   "metadata": {},
   "source": [
    "## Introduction"
   ]
  },
  {
   "cell_type": "markdown",
   "id": "b598a424",
   "metadata": {},
   "source": [
    "The following definition was adapted from the definition in [Georgi, 2018].\n",
    "\n",
    "A <i>representation</i> of a group, $G = \\langle A, \\circ \\rangle$, is a mapping, $V$, of the elements of $G$ onto a set of linear operators with the following properties:\n",
    "* $V(e) = \\hat{1}$, where $e$ is the group's identity element and $\\hat{1}$ is the identity operator in the space on which the linear operators act\n",
    "* $V(a_i) \\cdot V(a_j) = V(a_i \\circ a_j)$. That is, the group multiplication law (denoted by $\\circ$) is mapped onto the natural multiplication in the linear space on which the linear operators act (denoted by $\\cdot$).\n",
    "\n",
    "The <i>regular representation</i> of a group is a mapping of each group element to an $nxn$ matrix. In this case, $\\hat{1}$ is the $nxn$ identity matrix.\n",
    "\n",
    "For example, the regular representation of the cyclic group, $Z_4$, with elements, $A = \\left\\{ R_0, R_{90}, R_{180}, R_{270} \\right\\}$, consists of the mapping shown below, as a Python dictionary."
   ]
  },
  {
   "cell_type": "code",
   "execution_count": 1,
   "id": "dd8ac761",
   "metadata": {},
   "outputs": [],
   "source": [
    "import numpy as np  # Use NumPy to represent matrices & vectors"
   ]
  },
  {
   "cell_type": "code",
   "execution_count": 2,
   "id": "8e945370",
   "metadata": {},
   "outputs": [],
   "source": [
    "z4_reg_rep = {\n",
    "    'R0': np.array([[1, 0, 0, 0],\n",
    "                    [0, 1, 0, 0],\n",
    "                    [0, 0, 1, 0],\n",
    "                    [0, 0, 0, 1]]),\n",
    "    'R90': np.array([[0, 0, 0, 1],\n",
    "                     [1, 0, 0, 0],\n",
    "                     [0, 1, 0, 0],\n",
    "                     [0, 0, 1, 0]]),\n",
    "    'R180': np.array([[0, 0, 1, 0],\n",
    "                      [0, 0, 0, 1],\n",
    "                      [1, 0, 0, 0],\n",
    "                      [0, 1, 0, 0]]),\n",
    "    'R270': np.array([[0, 1, 0, 0],\n",
    "                      [0, 0, 1, 0],\n",
    "                      [0, 0, 0, 1],\n",
    "                      [1, 0, 0, 0]])\n",
    "}"
   ]
  },
  {
   "cell_type": "markdown",
   "id": "f2cb16ac",
   "metadata": {},
   "source": [
    "### Note on Monoids"
   ]
  },
  {
   "cell_type": "markdown",
   "id": "872e78a9",
   "metadata": {},
   "source": [
    "The definition of a regular representation, given above, and the theory provided, below, doesn't preclude Monoids having regular represenations. The definition & theory require an algebra that has an identity element, but not inverses. Take away inverses from groups, and you have monoids. The discussion to follow will use groups as examples, but toward the end, some monoid examples will also be included."
   ]
  },
  {
   "cell_type": "markdown",
   "id": "975ab9f2",
   "metadata": {},
   "source": [
    "## Theory"
   ]
  },
  {
   "cell_type": "markdown",
   "id": "cc21905f",
   "metadata": {},
   "source": [
    "The following description of the algorithm for computing a regular representation was adapted from [Huang, 2012]."
   ]
  },
  {
   "cell_type": "markdown",
   "id": "a2280e06",
   "metadata": {},
   "source": [
    "Let $G = \\langle A, \\circ \\rangle$, be a group, where $A = \\{a_0, a_1, \\dots , a_{n - 1}\\}$ is the set of the group's elements, and $\\circ$ is its binary operator."
   ]
  },
  {
   "cell_type": "markdown",
   "id": "a03b3468",
   "metadata": {},
   "source": [
    "Also, let $B = \\{\\hat{b}_0, \\hat{b}_1, \\dots , \\hat{b}_{n-1} \\}$ be a set of $nx1$ orthogonal unit vectors:\n",
    "\n",
    "$\\hat{b}_0 = \\begin{bmatrix}\n",
    "1 \\\\\n",
    "0 \\\\\n",
    "0 \\\\\n",
    "\\vdots \\\\\n",
    "0 \\end{bmatrix},\n",
    "\\hat{b}_1 = \\begin{bmatrix}\n",
    "0 \\\\\n",
    "1 \\\\\n",
    "0 \\\\\n",
    "\\vdots \\\\\n",
    "0 \\end{bmatrix},\n",
    "\\dots,\n",
    "\\hat{b}_{n-1} = \\begin{bmatrix}\n",
    "0 \\\\\n",
    "0 \\\\\n",
    "0 \\\\\n",
    "\\vdots \\\\\n",
    "1 \\end{bmatrix}$"
   ]
  },
  {
   "cell_type": "markdown",
   "id": "2618ff51",
   "metadata": {},
   "source": [
    "Define the a bijection between $A$ and $B$ as follows: $V(a_i) = \\hat{b}_i$ for $i = 0, \\dots , n - 1$.\n",
    "\n",
    "Let $\\cdot$ denote matrix-vector multiplication, and define the $nxn$ matrix,\n",
    "\n",
    "$C_k = (c^k_{ij})_{i,j=0,\\dots,n-1}$\n",
    "\n",
    "where $c^k_{ij} = \\hat{b}_i^T \\cdot V(a_k \\circ V^{-1}(\\hat{b}_j))$\n",
    "\n"
   ]
  },
  {
   "cell_type": "markdown",
   "id": "38f0ad4e",
   "metadata": {},
   "source": [
    "Then $M = \\{C_0, C_1, \\dots , C_{n - 1}\\}$ is the <b>regular representation</b> of the group $G$, where the mapping between group elements and operators is $a_i \\leftrightarrow C_i$ for $i = 0, \\dots , n - 1$.\n",
    "\n",
    "The purpose of the remainder of this notebook is to develop an implementation, within the module <b>finite_algebras</b>, that produces the mapping, $a_i \\leftrightarrow C_i$, from a given group, $G$."
   ]
  },
  {
   "cell_type": "markdown",
   "id": "e0aaac14",
   "metadata": {},
   "source": [
    "## A Small Test Group"
   ]
  },
  {
   "cell_type": "code",
   "execution_count": 3,
   "id": "ebc457fb",
   "metadata": {},
   "outputs": [],
   "source": [
    "import finite_algebras as alg"
   ]
  },
  {
   "cell_type": "code",
   "execution_count": 4,
   "id": "a7d05981",
   "metadata": {},
   "outputs": [
    {
     "name": "stdout",
     "output_type": "stream",
     "text": [
      "\n",
      "** Group **\n",
      "Name: Z4\n",
      "Instance ID: 4611671824\n",
      "Description: Cyclic group of order 4\n",
      "Order: 4\n",
      "Identity: R0\n",
      "Commutative? Yes\n",
      "Cyclic?: Yes\n",
      "  Generators: ['R270', 'R90']\n",
      "Elements:\n",
      "   Index   Name   Inverse  Order\n",
      "      0      R0      R0       1\n",
      "      1     R90    R270       4\n",
      "      2    R180    R180       2\n",
      "      3    R270     R90       4\n",
      "Cayley Table (showing indices):\n",
      "[[0, 1, 2, 3], [1, 2, 3, 0], [2, 3, 0, 1], [3, 0, 1, 2]]\n"
     ]
    }
   ],
   "source": [
    "grp = alg.make_finite_algebra(\n",
    "    'Z4',\n",
    "    'Cyclic group of order 4',\n",
    "    ['R0', 'R90', 'R180', 'R270'],\n",
    "    [[0, 1, 2, 3], [1, 2, 3, 0], [2, 3, 0, 1], [3, 0, 1, 2]]\n",
    ")\n",
    "\n",
    "grp.about()  # Displays information about the group"
   ]
  },
  {
   "cell_type": "code",
   "execution_count": 5,
   "id": "1717bc4c",
   "metadata": {},
   "outputs": [],
   "source": [
    "a = grp.elements\n",
    "n = grp.order"
   ]
  },
  {
   "cell_type": "markdown",
   "id": "064f7828",
   "metadata": {},
   "source": [
    "## The Bijection between Group Elements and Vectors"
   ]
  },
  {
   "cell_type": "markdown",
   "id": "0e669ed6",
   "metadata": {},
   "source": [
    "First create a dictionary that maps each of the group's elements to an n-dimensional orthogonal basis vector."
   ]
  },
  {
   "cell_type": "code",
   "execution_count": 6,
   "id": "f2a48730",
   "metadata": {},
   "outputs": [
    {
     "data": {
      "text/plain": [
       "{'R0': array([[1],\n",
       "        [0],\n",
       "        [0],\n",
       "        [0]]),\n",
       " 'R90': array([[0],\n",
       "        [1],\n",
       "        [0],\n",
       "        [0]]),\n",
       " 'R180': array([[0],\n",
       "        [0],\n",
       "        [1],\n",
       "        [0]]),\n",
       " 'R270': array([[0],\n",
       "        [0],\n",
       "        [0],\n",
       "        [1]])}"
      ]
     },
     "execution_count": 6,
     "metadata": {},
     "output_type": "execute_result"
    }
   ],
   "source": [
    "id = np.eye(n, dtype=int)  # The nxn identity matrix\n",
    "b = [id[:,[i]] for i in range(n)]  # A list of the columns of the identity matrix\n",
    "mapping = dict(zip(a, b))\n",
    "mapping"
   ]
  },
  {
   "cell_type": "markdown",
   "id": "60ba46f6",
   "metadata": {},
   "source": [
    "The dictionary, above, maps group elements to \"vectors\" (NumPy arrays). To complete the bijection, we need another dictionary that goes in the reverse direction, \"vectors\" to group elements. However, dictionary keys must be immutable, and NumPy arrays are mutable, so the code, below, transforms NumPy arrays to tuples, which <i>are</i> immutable."
   ]
  },
  {
   "cell_type": "code",
   "execution_count": 7,
   "id": "9a340c67",
   "metadata": {},
   "outputs": [
    {
     "data": {
      "text/plain": [
       "{(1, 0, 0, 0): 'R0',\n",
       " (0, 1, 0, 0): 'R90',\n",
       " (0, 0, 1, 0): 'R180',\n",
       " (0, 0, 0, 1): 'R270'}"
      ]
     },
     "execution_count": 7,
     "metadata": {},
     "output_type": "execute_result"
    }
   ],
   "source": [
    "def to_tuple(vec):\n",
    "    '''Turns a column vector into a tuple, for use as a dictionary key.'''\n",
    "    return tuple(map(lambda x: x[0], list(vec)))\n",
    "\n",
    "inv_mapping = {to_tuple(val): key for key, val in mapping.items()}\n",
    "inv_mapping"
   ]
  },
  {
   "cell_type": "markdown",
   "id": "a5a3a034",
   "metadata": {},
   "source": [
    "Now define the bijection. That is, $V$, and its inverse, $V^{-1}$."
   ]
  },
  {
   "cell_type": "code",
   "execution_count": 8,
   "id": "6406d3bc",
   "metadata": {},
   "outputs": [
    {
     "name": "stdout",
     "output_type": "stream",
     "text": [
      "R90\n",
      "[[0]\n",
      " [1]\n",
      " [0]\n",
      " [0]]\n",
      "R90\n"
     ]
    }
   ],
   "source": [
    "def V(elem):\n",
    "    '''Given a group element name, return the corresponding vector.'''\n",
    "    return mapping[elem]\n",
    "\n",
    "def Vinv(vec):\n",
    "    '''Given a vector, return the corresponding element.'''\n",
    "    return inv_mapping[to_tuple(vec)]\n",
    "\n",
    "# Test/Example:\n",
    "elem = a[1]\n",
    "vec = V(elem)\n",
    "elem2 = Vinv(vec)\n",
    "print(elem)\n",
    "print(vec)\n",
    "print(elem2)"
   ]
  },
  {
   "cell_type": "markdown",
   "id": "3dc71907",
   "metadata": {},
   "source": [
    "## The Regular Representation Matrices"
   ]
  },
  {
   "cell_type": "markdown",
   "id": "7719023b",
   "metadata": {},
   "source": [
    "Now, the regular represention matrices can be derived using the formula presented in the Theory section, above,\n",
    "\n",
    "$C_k = (c^k_{ij})_{i,j=0,\\dots,n-1}$ where $c^k_{ij} = \\hat{b}_i^T \\cdot V(a_k \\circ V^{-1}(\\hat{b}_j))$"
   ]
  },
  {
   "cell_type": "code",
   "execution_count": 9,
   "id": "7d9a2c2c",
   "metadata": {
    "scrolled": true
   },
   "outputs": [
    {
     "data": {
      "text/plain": [
       "{'R0': array([[1., 0., 0., 0.],\n",
       "        [0., 1., 0., 0.],\n",
       "        [0., 0., 1., 0.],\n",
       "        [0., 0., 0., 1.]]),\n",
       " 'R90': array([[0., 0., 0., 1.],\n",
       "        [1., 0., 0., 0.],\n",
       "        [0., 1., 0., 0.],\n",
       "        [0., 0., 1., 0.]]),\n",
       " 'R180': array([[0., 0., 1., 0.],\n",
       "        [0., 0., 0., 1.],\n",
       "        [1., 0., 0., 0.],\n",
       "        [0., 1., 0., 0.]]),\n",
       " 'R270': array([[0., 1., 0., 0.],\n",
       "        [0., 0., 1., 0.],\n",
       "        [0., 0., 0., 1.],\n",
       "        [1., 0., 0., 0.]])}"
      ]
     },
     "execution_count": 9,
     "metadata": {},
     "output_type": "execute_result"
    }
   ],
   "source": [
    "reg_rep = dict()\n",
    "\n",
    "for k in range(n):\n",
    "    c_k = np.zeros((n, n))\n",
    "    for i in range(n):\n",
    "        for j in range(n):\n",
    "            c_k[i][j] = np.dot(b[i].transpose(), V(grp.op(a[k], Vinv(b[j]))))\n",
    "    reg_rep[a[k]] = c_k\n",
    "\n",
    "reg_rep"
   ]
  },
  {
   "cell_type": "markdown",
   "id": "f5dad79e",
   "metadata": {},
   "source": [
    "### Check Answer"
   ]
  },
  {
   "cell_type": "markdown",
   "id": "d5a25d45",
   "metadata": {},
   "source": [
    "Test to see if each matrix, computed for <b>reg_rep</b>, equals its counterpart in <b>z4_reg_rep</b>, defined in the Introduction section, above."
   ]
  },
  {
   "cell_type": "code",
   "execution_count": 10,
   "id": "5553751e",
   "metadata": {},
   "outputs": [
    {
     "data": {
      "text/plain": [
       "True"
      ]
     },
     "execution_count": 10,
     "metadata": {},
     "output_type": "execute_result"
    }
   ],
   "source": [
    "all([np.array_equal(reg_rep[elem], z4_reg_rep[elem]) for elem in grp.elements])"
   ]
  },
  {
   "cell_type": "markdown",
   "id": "d37ed918",
   "metadata": {},
   "source": [
    "## Putting it All Together"
   ]
  },
  {
   "cell_type": "markdown",
   "id": "031a8be3",
   "metadata": {},
   "source": [
    "Here is the desired implementation."
   ]
  },
  {
   "cell_type": "code",
   "execution_count": 11,
   "id": "e80e1197",
   "metadata": {},
   "outputs": [],
   "source": [
    "def regular_representation(grp):\n",
    "    '''Given a group, this function returns three things: (1) A dictionary that maps each group\n",
    "    element to its corresponding regular representation, (2) A function that maps a group element\n",
    "    to its corresponding regular representation matrix, and (3) Another function that maps in the\n",
    "    opposite direction, from regular represenation matrix to group element.'''\n",
    "    \n",
    "    a = grp.elements\n",
    "    n = grp.order\n",
    "    \n",
    "    # Create a list of n nx1 orthogonal unit vectors\n",
    "    id = np.eye(n, dtype=int)  # The nxn identity matrix\n",
    "    b = [id[:,[i]] for i in range(n)]  # A list of the columns of the identity matrix\n",
    "    \n",
    "    # map group elements to vectors\n",
    "    mapping = dict(zip(a, b))\n",
    "\n",
    "    def V(elem):\n",
    "        return mapping[elem]\n",
    "\n",
    "    # Turn a column vector into a tuple, for use as a dict key\n",
    "    def to_tuple(vec):\n",
    "        return tuple(map(lambda x: x[0], list(vec)))\n",
    "    \n",
    "    # map vectors to group elements\n",
    "    inv_mapping = {to_tuple(val): key for key, val in mapping.items()}\n",
    "    \n",
    "    def Vinv(vec):\n",
    "        return inv_mapping[to_tuple(vec)]\n",
    "\n",
    "    # Derive the n nxn matrices of the regular representation\n",
    "    reg_rep = dict()\n",
    "    for k in range(n):\n",
    "        c_k = np.zeros((n, n))\n",
    "        for i in range(n):\n",
    "            for j in range(n):\n",
    "                c_k[i][j] = np.dot(b[i].transpose(), V(grp.op(a[k], Vinv(b[j]))))\n",
    "        reg_rep[a[k]] = c_k\n",
    "        \n",
    "    def to_reg_rep(elem):\n",
    "        '''Given a group element, return the corresponding regular representation matrix.'''\n",
    "        return reg_rep[elem]\n",
    "    \n",
    "    def array_2d_to_tuple(arr):\n",
    "        '''Turn a 2D nd.array into a tuple of tuples, for use as a dictionary key'''\n",
    "        return tuple(map(lambda x: tuple(x), np.ndarray.tolist(arr)))\n",
    "    \n",
    "    inv_mapping_2d = {array_2d_to_tuple(arr): key for key, arr in reg_rep.items()}\n",
    "    \n",
    "    def to_group_element(arr):\n",
    "        '''Given a regular representation matrix, return the corresponding group element.'''\n",
    "        return inv_mapping_2d[array_2d_to_tuple(arr)]\n",
    "    \n",
    "    def verify_regular_representation(reg_rep, grp):\n",
    "        '''Verifies that rr(ai) x rr(aj) == rr(ai * aj), for all elements ai & aj of the group,\n",
    "        where rr is the regular representation (maps group elements to reg reps), x is matrix\n",
    "        multiplication, and * is the group operation.'''\n",
    "        return all([np.array_equal(np.dot(to_reg_rep(a), to_reg_rep(b)), to_reg_rep(grp.op(a, b)))\n",
    "                    for a in grp\n",
    "                    for b in grp])\n",
    "    \n",
    "    if not verify_regular_representation(reg_rep, grp):\n",
    "        raise AssertionError(\"Verification of Regular Represention failed\")\n",
    "\n",
    "    return reg_rep, to_reg_rep, to_group_element        "
   ]
  },
  {
   "cell_type": "markdown",
   "id": "8e0c16ec",
   "metadata": {},
   "source": [
    "### Test/Example"
   ]
  },
  {
   "cell_type": "markdown",
   "id": "dfaaf50c",
   "metadata": {},
   "source": [
    "A test and some printouts to see how it all works:"
   ]
  },
  {
   "cell_type": "code",
   "execution_count": 12,
   "id": "3e0843ee",
   "metadata": {},
   "outputs": [],
   "source": [
    "reg_rep, grp_to_rr, rr_to_grp = regular_representation(grp)"
   ]
  },
  {
   "cell_type": "code",
   "execution_count": 13,
   "id": "11913ef4",
   "metadata": {},
   "outputs": [
    {
     "name": "stdout",
     "output_type": "stream",
     "text": [
      "{'R0': array([[1., 0., 0., 0.],\n",
      "       [0., 1., 0., 0.],\n",
      "       [0., 0., 1., 0.],\n",
      "       [0., 0., 0., 1.]]), 'R90': array([[0., 0., 0., 1.],\n",
      "       [1., 0., 0., 0.],\n",
      "       [0., 1., 0., 0.],\n",
      "       [0., 0., 1., 0.]]), 'R180': array([[0., 0., 1., 0.],\n",
      "       [0., 0., 0., 1.],\n",
      "       [1., 0., 0., 0.],\n",
      "       [0., 1., 0., 0.]]), 'R270': array([[0., 1., 0., 0.],\n",
      "       [0., 0., 1., 0.],\n",
      "       [0., 0., 0., 1.],\n",
      "       [1., 0., 0., 0.]])}\n"
     ]
    }
   ],
   "source": [
    "print(reg_rep)"
   ]
  },
  {
   "cell_type": "code",
   "execution_count": 14,
   "id": "e0e31d52",
   "metadata": {},
   "outputs": [
    {
     "name": "stdout",
     "output_type": "stream",
     "text": [
      "R0\n",
      "[[1. 0. 0. 0.]\n",
      " [0. 1. 0. 0.]\n",
      " [0. 0. 1. 0.]\n",
      " [0. 0. 0. 1.]]\n",
      "R0\n",
      "\n",
      "R90\n",
      "[[0. 0. 0. 1.]\n",
      " [1. 0. 0. 0.]\n",
      " [0. 1. 0. 0.]\n",
      " [0. 0. 1. 0.]]\n",
      "R90\n",
      "\n",
      "R180\n",
      "[[0. 0. 1. 0.]\n",
      " [0. 0. 0. 1.]\n",
      " [1. 0. 0. 0.]\n",
      " [0. 1. 0. 0.]]\n",
      "R180\n",
      "\n",
      "R270\n",
      "[[0. 1. 0. 0.]\n",
      " [0. 0. 1. 0.]\n",
      " [0. 0. 0. 1.]\n",
      " [1. 0. 0. 0.]]\n",
      "R270\n",
      "\n"
     ]
    }
   ],
   "source": [
    "for elem in grp:\n",
    "    print(elem)\n",
    "    rr = grp_to_rr(elem)\n",
    "    print(rr)\n",
    "    print(rr_to_grp(rr))\n",
    "    print('')"
   ]
  },
  {
   "cell_type": "markdown",
   "id": "dcd64739",
   "metadata": {},
   "source": [
    "## More Tests / Examples"
   ]
  },
  {
   "cell_type": "code",
   "execution_count": 15,
   "id": "31921112",
   "metadata": {},
   "outputs": [
    {
     "name": "stdout",
     "output_type": "stream",
     "text": [
      "======================================================================\n",
      "                           Example Algebras\n",
      "----------------------------------------------------------------------\n",
      "  17 example algebras are available.\n",
      "  Use \"Examples[INDEX]\" to retrieve a specific example,\n",
      "  where INDEX is the first number on each line below:\n",
      "----------------------------------------------------------------------\n",
      "0: A4 -- Alternating group on 4 letters (AKA Tetrahedral group)\n",
      "1: D3 -- https://en.wikipedia.org/wiki/Dihedral_group_of_order_6\n",
      "2: D4 -- Dihedral group on four vertices\n",
      "3: Pinter29 -- Non-abelian group, p.29, 'A Book of Abstract Algebra' by Charles C. Pinter\n",
      "4: RPS -- Rock, Paper, Scissors Magma\n",
      "5: S3 -- Symmetric group on 3 letters\n",
      "6: S3X -- Another version of the symmetric group on 3 letters\n",
      "7: V4 -- Klein-4 group\n",
      "8: Z4 -- Cyclic group of order 4\n",
      "9: F4 -- Field with 4 elements (from Wikipedia)\n",
      "10: mag_id -- Magma with Identity\n",
      "11: Example 1.4.1 -- See: Groupoids and Smarandache Groupoids by W. B. Vasantha Kandasamy\n",
      "12: Ex6 -- Example 6: http://www-groups.mcs.st-andrews.ac.uk/~john/MT4517/Lectures/L3.html\n",
      "13: Q8 -- Quaternion Group\n",
      "14: SD16 -- Semidihedral group of order 16\n",
      "15: A5 -- Alternating group on 5 letters\n",
      "16: F2 -- Field with 2 elements from paper: 236w06fields.pdf\n",
      "======================================================================\n"
     ]
    }
   ],
   "source": [
    "import os\n",
    "aa_path = os.path.join(os.getenv(\"PYPROJ\"), \"abstract_algebra\")\n",
    "alg_dir = os.path.join(aa_path, \"Algebras\")\n",
    "\n",
    "ex = alg.Examples(alg_dir)"
   ]
  },
  {
   "cell_type": "markdown",
   "id": "e4cafc09",
   "metadata": {},
   "source": [
    "### $S_3$ the symmetric group on 3 letters"
   ]
  },
  {
   "cell_type": "code",
   "execution_count": 16,
   "id": "e1546eba",
   "metadata": {},
   "outputs": [
    {
     "name": "stdout",
     "output_type": "stream",
     "text": [
      "\n",
      "** Group **\n",
      "Name: S3\n",
      "Instance ID: 4636277264\n",
      "Description: Symmetric group on 3 letters\n",
      "Order: 6\n",
      "Identity: e\n",
      "Commutative? No\n",
      "Cyclic?: No\n",
      "Elements:\n",
      "   Index   Name   Inverse  Order\n",
      "      0       e       e       1\n",
      "      1       r     r^2       3\n",
      "      2     r^2       r       3\n",
      "      3       f       f       2\n",
      "      4      fr      fr       2\n",
      "      5      rf      rf       2\n",
      "Cayley Table (showing indices):\n",
      "[[0, 1, 2, 3, 4, 5],\n",
      " [1, 2, 0, 5, 3, 4],\n",
      " [2, 0, 1, 4, 5, 3],\n",
      " [3, 4, 5, 0, 1, 2],\n",
      " [4, 5, 3, 2, 0, 1],\n",
      " [5, 3, 4, 1, 2, 0]]\n"
     ]
    }
   ],
   "source": [
    "s3 = ex[5]\n",
    "s3.about()"
   ]
  },
  {
   "cell_type": "code",
   "execution_count": 17,
   "id": "e6f367b5",
   "metadata": {},
   "outputs": [],
   "source": [
    "s3_reg_rep, s3_to_rr, rr_to_s3 = regular_representation(s3)"
   ]
  },
  {
   "cell_type": "code",
   "execution_count": 18,
   "id": "ac1659b8",
   "metadata": {},
   "outputs": [
    {
     "data": {
      "text/plain": [
       "{'e': array([[1., 0., 0., 0., 0., 0.],\n",
       "        [0., 1., 0., 0., 0., 0.],\n",
       "        [0., 0., 1., 0., 0., 0.],\n",
       "        [0., 0., 0., 1., 0., 0.],\n",
       "        [0., 0., 0., 0., 1., 0.],\n",
       "        [0., 0., 0., 0., 0., 1.]]),\n",
       " 'r': array([[0., 0., 1., 0., 0., 0.],\n",
       "        [1., 0., 0., 0., 0., 0.],\n",
       "        [0., 1., 0., 0., 0., 0.],\n",
       "        [0., 0., 0., 0., 1., 0.],\n",
       "        [0., 0., 0., 0., 0., 1.],\n",
       "        [0., 0., 0., 1., 0., 0.]]),\n",
       " 'r^2': array([[0., 1., 0., 0., 0., 0.],\n",
       "        [0., 0., 1., 0., 0., 0.],\n",
       "        [1., 0., 0., 0., 0., 0.],\n",
       "        [0., 0., 0., 0., 0., 1.],\n",
       "        [0., 0., 0., 1., 0., 0.],\n",
       "        [0., 0., 0., 0., 1., 0.]]),\n",
       " 'f': array([[0., 0., 0., 1., 0., 0.],\n",
       "        [0., 0., 0., 0., 1., 0.],\n",
       "        [0., 0., 0., 0., 0., 1.],\n",
       "        [1., 0., 0., 0., 0., 0.],\n",
       "        [0., 1., 0., 0., 0., 0.],\n",
       "        [0., 0., 1., 0., 0., 0.]]),\n",
       " 'fr': array([[0., 0., 0., 0., 1., 0.],\n",
       "        [0., 0., 0., 0., 0., 1.],\n",
       "        [0., 0., 0., 1., 0., 0.],\n",
       "        [0., 0., 1., 0., 0., 0.],\n",
       "        [1., 0., 0., 0., 0., 0.],\n",
       "        [0., 1., 0., 0., 0., 0.]]),\n",
       " 'rf': array([[0., 0., 0., 0., 0., 1.],\n",
       "        [0., 0., 0., 1., 0., 0.],\n",
       "        [0., 0., 0., 0., 1., 0.],\n",
       "        [0., 1., 0., 0., 0., 0.],\n",
       "        [0., 0., 1., 0., 0., 0.],\n",
       "        [1., 0., 0., 0., 0., 0.]])}"
      ]
     },
     "execution_count": 18,
     "metadata": {},
     "output_type": "execute_result"
    }
   ],
   "source": [
    "s3_reg_rep"
   ]
  },
  {
   "cell_type": "code",
   "execution_count": 19,
   "id": "56241816",
   "metadata": {},
   "outputs": [
    {
     "name": "stdout",
     "output_type": "stream",
     "text": [
      "e\n",
      "[[1. 0. 0. 0. 0. 0.]\n",
      " [0. 1. 0. 0. 0. 0.]\n",
      " [0. 0. 1. 0. 0. 0.]\n",
      " [0. 0. 0. 1. 0. 0.]\n",
      " [0. 0. 0. 0. 1. 0.]\n",
      " [0. 0. 0. 0. 0. 1.]]\n",
      "e\n",
      "\n",
      "r\n",
      "[[0. 0. 1. 0. 0. 0.]\n",
      " [1. 0. 0. 0. 0. 0.]\n",
      " [0. 1. 0. 0. 0. 0.]\n",
      " [0. 0. 0. 0. 1. 0.]\n",
      " [0. 0. 0. 0. 0. 1.]\n",
      " [0. 0. 0. 1. 0. 0.]]\n",
      "r\n",
      "\n",
      "r^2\n",
      "[[0. 1. 0. 0. 0. 0.]\n",
      " [0. 0. 1. 0. 0. 0.]\n",
      " [1. 0. 0. 0. 0. 0.]\n",
      " [0. 0. 0. 0. 0. 1.]\n",
      " [0. 0. 0. 1. 0. 0.]\n",
      " [0. 0. 0. 0. 1. 0.]]\n",
      "r^2\n",
      "\n",
      "f\n",
      "[[0. 0. 0. 1. 0. 0.]\n",
      " [0. 0. 0. 0. 1. 0.]\n",
      " [0. 0. 0. 0. 0. 1.]\n",
      " [1. 0. 0. 0. 0. 0.]\n",
      " [0. 1. 0. 0. 0. 0.]\n",
      " [0. 0. 1. 0. 0. 0.]]\n",
      "f\n",
      "\n",
      "fr\n",
      "[[0. 0. 0. 0. 1. 0.]\n",
      " [0. 0. 0. 0. 0. 1.]\n",
      " [0. 0. 0. 1. 0. 0.]\n",
      " [0. 0. 1. 0. 0. 0.]\n",
      " [1. 0. 0. 0. 0. 0.]\n",
      " [0. 1. 0. 0. 0. 0.]]\n",
      "fr\n",
      "\n",
      "rf\n",
      "[[0. 0. 0. 0. 0. 1.]\n",
      " [0. 0. 0. 1. 0. 0.]\n",
      " [0. 0. 0. 0. 1. 0.]\n",
      " [0. 1. 0. 0. 0. 0.]\n",
      " [0. 0. 1. 0. 0. 0.]\n",
      " [1. 0. 0. 0. 0. 0.]]\n",
      "rf\n",
      "\n"
     ]
    }
   ],
   "source": [
    "for elem in s3:\n",
    "    print(elem)\n",
    "    rr = s3_to_rr(elem)\n",
    "    print(rr)\n",
    "    print(rr_to_s3(rr))\n",
    "    print('')"
   ]
  },
  {
   "cell_type": "markdown",
   "id": "294d3fde",
   "metadata": {},
   "source": [
    "### $v_4$ the Klein-4 group"
   ]
  },
  {
   "cell_type": "code",
   "execution_count": 20,
   "id": "96a3c405",
   "metadata": {},
   "outputs": [
    {
     "name": "stdout",
     "output_type": "stream",
     "text": [
      "\n",
      "** Group **\n",
      "Name: V4\n",
      "Instance ID: 4636142864\n",
      "Description: Klein-4 group\n",
      "Order: 4\n",
      "Identity: e\n",
      "Commutative? Yes\n",
      "Cyclic?: No\n",
      "Elements:\n",
      "   Index   Name   Inverse  Order\n",
      "      0       e       e       1\n",
      "      1       h       h       2\n",
      "      2       v       v       2\n",
      "      3       r       r       2\n",
      "Cayley Table (showing indices):\n",
      "[[0, 1, 2, 3], [1, 0, 3, 2], [2, 3, 0, 1], [3, 2, 1, 0]]\n"
     ]
    }
   ],
   "source": [
    "v4 = ex[7]\n",
    "v4.about()"
   ]
  },
  {
   "cell_type": "code",
   "execution_count": 21,
   "id": "40612a22",
   "metadata": {},
   "outputs": [],
   "source": [
    "v4_reg_rep, v4_to_rr, rr_to_v4 = regular_representation(v4)"
   ]
  },
  {
   "cell_type": "code",
   "execution_count": 22,
   "id": "e1c9a54f",
   "metadata": {},
   "outputs": [
    {
     "data": {
      "text/plain": [
       "{'e': array([[1., 0., 0., 0.],\n",
       "        [0., 1., 0., 0.],\n",
       "        [0., 0., 1., 0.],\n",
       "        [0., 0., 0., 1.]]),\n",
       " 'h': array([[0., 1., 0., 0.],\n",
       "        [1., 0., 0., 0.],\n",
       "        [0., 0., 0., 1.],\n",
       "        [0., 0., 1., 0.]]),\n",
       " 'v': array([[0., 0., 1., 0.],\n",
       "        [0., 0., 0., 1.],\n",
       "        [1., 0., 0., 0.],\n",
       "        [0., 1., 0., 0.]]),\n",
       " 'r': array([[0., 0., 0., 1.],\n",
       "        [0., 0., 1., 0.],\n",
       "        [0., 1., 0., 0.],\n",
       "        [1., 0., 0., 0.]])}"
      ]
     },
     "execution_count": 22,
     "metadata": {},
     "output_type": "execute_result"
    }
   ],
   "source": [
    "v4_reg_rep"
   ]
  },
  {
   "cell_type": "code",
   "execution_count": 23,
   "id": "9295aaf3",
   "metadata": {},
   "outputs": [
    {
     "name": "stdout",
     "output_type": "stream",
     "text": [
      "e\n",
      "[[1. 0. 0. 0.]\n",
      " [0. 1. 0. 0.]\n",
      " [0. 0. 1. 0.]\n",
      " [0. 0. 0. 1.]]\n",
      "e\n",
      "\n",
      "h\n",
      "[[0. 1. 0. 0.]\n",
      " [1. 0. 0. 0.]\n",
      " [0. 0. 0. 1.]\n",
      " [0. 0. 1. 0.]]\n",
      "h\n",
      "\n",
      "v\n",
      "[[0. 0. 1. 0.]\n",
      " [0. 0. 0. 1.]\n",
      " [1. 0. 0. 0.]\n",
      " [0. 1. 0. 0.]]\n",
      "v\n",
      "\n",
      "r\n",
      "[[0. 0. 0. 1.]\n",
      " [0. 0. 1. 0.]\n",
      " [0. 1. 0. 0.]\n",
      " [1. 0. 0. 0.]]\n",
      "r\n",
      "\n"
     ]
    }
   ],
   "source": [
    "for elem in v4:\n",
    "    print(elem)\n",
    "    rr = v4_to_rr(elem)\n",
    "    print(rr)\n",
    "    print(rr_to_v4(rr))\n",
    "    print('')"
   ]
  },
  {
   "cell_type": "markdown",
   "id": "ba069a3f",
   "metadata": {},
   "source": [
    "## Monoids Work as Well"
   ]
  },
  {
   "cell_type": "code",
   "execution_count": 24,
   "id": "72fa1133",
   "metadata": {},
   "outputs": [
    {
     "name": "stdout",
     "output_type": "stream",
     "text": [
      "\n",
      "** Monoid **\n",
      "Name: M4\n",
      "Instance ID: 4644826704\n",
      "Description: Autogenerated commutative Monoid of order 4\n",
      "Order: 4\n",
      "Identity: a1\n",
      "Associative? Yes\n",
      "Commutative? Yes\n",
      "Cyclic?: No\n",
      "Elements: ['a0', 'a1', 'a2', 'a3']\n",
      "Has Inverses? No\n",
      "Cayley Table (showing indices):\n",
      "[[0, 0, 0, 0], [0, 1, 2, 3], [0, 2, 0, 2], [0, 3, 2, 1]]\n"
     ]
    }
   ],
   "source": [
    "m4 = alg.generate_commutative_monoid(4)\n",
    "m4.about()"
   ]
  },
  {
   "cell_type": "code",
   "execution_count": 25,
   "id": "d6980ea3",
   "metadata": {},
   "outputs": [],
   "source": [
    "m4_reg_rep, m4_to_rr, rr_to_m4 = regular_representation(m4)"
   ]
  },
  {
   "cell_type": "code",
   "execution_count": 26,
   "id": "be856a41",
   "metadata": {},
   "outputs": [
    {
     "data": {
      "text/plain": [
       "{'a0': array([[1., 1., 1., 1.],\n",
       "        [0., 0., 0., 0.],\n",
       "        [0., 0., 0., 0.],\n",
       "        [0., 0., 0., 0.]]),\n",
       " 'a1': array([[1., 0., 0., 0.],\n",
       "        [0., 1., 0., 0.],\n",
       "        [0., 0., 1., 0.],\n",
       "        [0., 0., 0., 1.]]),\n",
       " 'a2': array([[1., 0., 1., 0.],\n",
       "        [0., 0., 0., 0.],\n",
       "        [0., 1., 0., 1.],\n",
       "        [0., 0., 0., 0.]]),\n",
       " 'a3': array([[1., 0., 0., 0.],\n",
       "        [0., 0., 0., 1.],\n",
       "        [0., 0., 1., 0.],\n",
       "        [0., 1., 0., 0.]])}"
      ]
     },
     "execution_count": 26,
     "metadata": {},
     "output_type": "execute_result"
    }
   ],
   "source": [
    "m4_reg_rep"
   ]
  },
  {
   "cell_type": "code",
   "execution_count": 27,
   "id": "c3ec9582",
   "metadata": {},
   "outputs": [
    {
     "name": "stdout",
     "output_type": "stream",
     "text": [
      "\n",
      "** Monoid **\n",
      "Name: M5\n",
      "Instance ID: 4644833040\n",
      "Description: Autogenerated commutative Monoid of order 5\n",
      "Order: 5\n",
      "Identity: a1\n",
      "Associative? Yes\n",
      "Commutative? Yes\n",
      "Cyclic?: No\n",
      "Elements: ['a0', 'a1', 'a2', 'a3', 'a4']\n",
      "Has Inverses? No\n",
      "Cayley Table (showing indices):\n",
      "[[0, 0, 0, 0, 0],\n",
      " [0, 1, 2, 3, 4],\n",
      " [0, 2, 4, 1, 3],\n",
      " [0, 3, 1, 4, 2],\n",
      " [0, 4, 3, 2, 1]]\n"
     ]
    }
   ],
   "source": [
    "m5 = alg.generate_commutative_monoid(5)\n",
    "m5.about()"
   ]
  },
  {
   "cell_type": "code",
   "execution_count": 28,
   "id": "078e83f4",
   "metadata": {},
   "outputs": [],
   "source": [
    "m5_reg_rep, m5_to_rr, rr_to_m5 = regular_representation(m5)"
   ]
  },
  {
   "cell_type": "code",
   "execution_count": 29,
   "id": "37166496",
   "metadata": {},
   "outputs": [
    {
     "data": {
      "text/plain": [
       "{'a0': array([[1., 1., 1., 1., 1.],\n",
       "        [0., 0., 0., 0., 0.],\n",
       "        [0., 0., 0., 0., 0.],\n",
       "        [0., 0., 0., 0., 0.],\n",
       "        [0., 0., 0., 0., 0.]]),\n",
       " 'a1': array([[1., 0., 0., 0., 0.],\n",
       "        [0., 1., 0., 0., 0.],\n",
       "        [0., 0., 1., 0., 0.],\n",
       "        [0., 0., 0., 1., 0.],\n",
       "        [0., 0., 0., 0., 1.]]),\n",
       " 'a2': array([[1., 0., 0., 0., 0.],\n",
       "        [0., 0., 0., 1., 0.],\n",
       "        [0., 1., 0., 0., 0.],\n",
       "        [0., 0., 0., 0., 1.],\n",
       "        [0., 0., 1., 0., 0.]]),\n",
       " 'a3': array([[1., 0., 0., 0., 0.],\n",
       "        [0., 0., 1., 0., 0.],\n",
       "        [0., 0., 0., 0., 1.],\n",
       "        [0., 1., 0., 0., 0.],\n",
       "        [0., 0., 0., 1., 0.]]),\n",
       " 'a4': array([[1., 0., 0., 0., 0.],\n",
       "        [0., 0., 0., 0., 1.],\n",
       "        [0., 0., 0., 1., 0.],\n",
       "        [0., 0., 1., 0., 0.],\n",
       "        [0., 1., 0., 0., 0.]])}"
      ]
     },
     "execution_count": 29,
     "metadata": {},
     "output_type": "execute_result"
    }
   ],
   "source": [
    "m5_reg_rep"
   ]
  },
  {
   "cell_type": "code",
   "execution_count": null,
   "id": "19e4e28a",
   "metadata": {},
   "outputs": [],
   "source": []
  }
 ],
 "metadata": {
  "kernelspec": {
   "display_name": "Python 3 (ipykernel)",
   "language": "python",
   "name": "python3"
  },
  "language_info": {
   "codemirror_mode": {
    "name": "ipython",
    "version": 3
   },
   "file_extension": ".py",
   "mimetype": "text/x-python",
   "name": "python",
   "nbconvert_exporter": "python",
   "pygments_lexer": "ipython3",
   "version": "3.11.4"
  }
 },
 "nbformat": 4,
 "nbformat_minor": 5
}
