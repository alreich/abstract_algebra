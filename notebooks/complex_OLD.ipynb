{
 "cells": [
  {
   "cell_type": "markdown",
   "id": "6ef26608",
   "metadata": {},
   "source": [
    "# Abstract Complex Algebras"
   ]
  },
  {
   "cell_type": "markdown",
   "id": "e96d087c",
   "metadata": {},
   "source": [
    "This notebook describes how a finite field or ring, $\\mathbb{F_n}$, can be used to construct an <i>Abstract Complex Algebra</i>, $\\mathbb{C(\\mathbb{F_n})}$.\n",
    "\n",
    "My work here has led me to make the following conjecture:\n",
    "\n",
    "**CONJECTURE**: $\\mathbb{C(\\mathbb{F_n})}$ will be a field if and only if $\\mathbb{F_n}$ is a field of order $q$, where $q$ is a prime number of the form, $q = 4k+3$, for $k \\in \\mathbb{W}$, the whole numbers. Otherwise, $\\mathbb{C(\\mathbb{F_n})}$ will be a ring.\n",
    "\n",
    "NOTE: The primes of the form $4k+3$ are known as [Gaussian primes](https://mathworld.wolfram.com/GaussianPrime.html) (3, 7, 11, 19, 23, 31, 43, ...).  Also, see [OEIS A002145](https://oeis.org/A002145)."
   ]
  },
  {
   "cell_type": "markdown",
   "id": "fad4853b",
   "metadata": {},
   "source": [
    "## Definition"
   ]
  },
  {
   "cell_type": "markdown",
   "id": "9af8a734",
   "metadata": {},
   "source": [
    "If $u, v \\in \\mathbb{R}$, are real numbers, then we often see complex numbers written as, $u + vi$.\n",
    "\n",
    "However, complex numbers can simply be written as tuples, $(u, v) \\in \\mathbb{C}$, without resorting to the use of the symbol, $i$.\n",
    "\n",
    "Since $\\mathbb{R}$ is a field, this suggests that we might replace it with an arbitrary finite field (or ring), $\\mathbb{F_n}$, of order $n$, and use elements from it to create an abstraction of complex numbers.\n",
    "\n",
    "That is, let $\\mathbb{F_n} = \\langle S, +, \\cdot \\rangle$ be a finite field or ring with elements $S = \\{a_0, a_1, a_2, \\cdots, a_{n-1} \\}$, and define $\\mathbb{C(\\mathbb{F_n})} = \\langle S \\times S, \\oplus, \\odot \\rangle$, where addition and multiplication are defined as follows:\n",
    "\n",
    "<b>Addition</b>: $(a, b) \\oplus (c, d) \\equiv (a + c, b + d)$\n",
    "\n",
    "<b>Multiplication</b>: $(a, b) \\odot (c, d) \\equiv (a \\cdot c - b \\cdot d, a \\cdot d + b \\cdot c)$"
   ]
  },
  {
   "cell_type": "markdown",
   "id": "befceb5f",
   "metadata": {},
   "source": [
    "<b>Subtraction</b>: $(a, b) - (c, d) \\equiv (a - c, b - d)$\n",
    "\n",
    "<b>Scalar Multiplication</b>: $a \\times (c, d) \\equiv (a \\times c, a \\times d)$\n",
    "\n",
    "<b>Negation</b>: $-(a, b) \\equiv (-a, -b)$\n",
    "\n",
    "<b>Conjugation</b>: $\\overline{(a, b)} \\equiv (a, -b)$\n",
    "\n",
    "<b>Squared Absolute Value</b>: $|(a, b)|^2 \\equiv (a, b) \\odot \\overline{(a, b)}$\n",
    "\n",
    "<b>Inverses</b>: ${(a, b)}^{-1} \\equiv \\large \\frac{\\overline{(a,b)}}{|(a, b)|^2}$"
   ]
  },
  {
   "cell_type": "markdown",
   "id": "6dae2557",
   "metadata": {},
   "source": [
    "### Spoiler Alert"
   ]
  },
  {
   "cell_type": "markdown",
   "id": "6e25a13c",
   "metadata": {},
   "source": [
    "<b>Even though $\\mathbb{R}$ can be replaced by finite field $\\mathbb{F_n}$, where n is its order, and the arithmetic operations, described above, can be performed.  For the <u>finite</u> algebras tested here, not all of the resulting algebras of abstract complex \"numbers\" are Fields. Some will be Rings. Only the algebras where the order, $n$ of the generating field, $\\mathbb{F_n}$, is a [Gaussian prime](https://mathworld.wolfram.com/GaussianPrime.html) (n = 3, 7, 11, 19, 23, 31, ...) become fields themselves.</b>\n",
    "\n",
    "Specifically, at the end of this notebook, we see that for finite Fields over the integers mod n (n prime between 1 & 31), the corresponding Abstract Complex Algebras will also be Fields only for n = 3, 7, 11, 19, 23, 31, ...; otherwise they are Rings.\n",
    "\n",
    "NOTE: The sequence 3, 7, 11, 19, 23, 31,... are primes of the form 4n + 3, also known as <b>Gaussian primes</b> (sequence [A002145](https://oeis.org/A002145) in the [OEIS](https://en.wikipedia.org/wiki/On-Line_Encyclopedia_of_Integer_Sequences)).  [Also see Wikipedia](https://en.wikipedia.org/wiki/Dirichlet%27s_theorem_on_arithmetic_progressions)"
   ]
  },
  {
   "cell_type": "markdown",
   "id": "0ecfd658",
   "metadata": {},
   "source": [
    "## References"
   ]
  },
  {
   "cell_type": "markdown",
   "id": "d7b1bda9",
   "metadata": {},
   "source": [
    "I'm still looking for relevant references, but for now, this section serves as a place for references that might. be related to this topic:\n",
    "\n",
    "* <i>\"Introduction to finite fields\"</i>, from David Forney's course 6.451 (principles of digital communication) at MIT. [(PDF online)](https://web.stanford.edu/~marykw/classes/CS250_W19/readings/Forney_Introduction_to_Finite_Fields.pdf)\n",
    "* <i>\"Galois: A performant NumPy extension for Galois fields\"</i>, Hostetter, M. (2020). ([Computer software](https://galois.readthedocs.io/en/v0.0.21/index.html))\n",
    "\n",
    "* <i>\"Algebra over a field\"</i>, [Wikipedia](https://en.wikipedia.org/wiki/Algebra_over_a_field)\n",
    "* <i>\"Definitions of a Linear Associative Algebra by Independent Postulates\"</i> by Leonard Eugene Dickson, Transactions of the American Mathematical Society, 1903. [(PDF online)](https://www.ams.org/journals/tran/1903-004-01/S0002-9947-1903-1500620-0/S0002-9947-1903-1500620-0.pdf)\n"
   ]
  },
  {
   "cell_type": "markdown",
   "id": "cfc8369d",
   "metadata": {},
   "source": [
    "## A Field for Testing/Examples"
   ]
  },
  {
   "cell_type": "code",
   "execution_count": 1,
   "id": "8204211b",
   "metadata": {},
   "outputs": [],
   "source": [
    "import finite_algebras as alg\n",
    "# from abstract_complex_number import AbstractComplexElement"
   ]
  },
  {
   "cell_type": "code",
   "execution_count": 2,
   "id": "fa29bd3f",
   "metadata": {},
   "outputs": [
    {
     "name": "stdout",
     "output_type": "stream",
     "text": [
      "\n",
      "** Field **\n",
      "Name: F7\n",
      "Instance ID: 4388350160\n",
      "Description: Autogenerated Field of integers mod 7\n",
      "Order: 7\n",
      "Identity: '0'\n",
      "Commutative? Yes\n",
      "Cyclic?: Yes\n",
      "  Generators: ['1', '2', '3', '4', '5', '6']\n",
      "Elements:\n",
      "   Index   Name   Inverse  Order\n",
      "      0     '0'     '0'       1\n",
      "      1     '1'     '6'       7\n",
      "      2     '2'     '5'       7\n",
      "      3     '3'     '4'       7\n",
      "      4     '4'     '3'       7\n",
      "      5     '5'     '2'       7\n",
      "      6     '6'     '1'       7\n",
      "Cayley Table (showing indices):\n",
      "[[0, 1, 2, 3, 4, 5, 6],\n",
      " [1, 2, 3, 4, 5, 6, 0],\n",
      " [2, 3, 4, 5, 6, 0, 1],\n",
      " [3, 4, 5, 6, 0, 1, 2],\n",
      " [4, 5, 6, 0, 1, 2, 3],\n",
      " [5, 6, 0, 1, 2, 3, 4],\n",
      " [6, 0, 1, 2, 3, 4, 5]]\n",
      "Mult. Identity: '1'\n",
      "Mult. Commutative? Yes\n",
      "Zero Divisors: None\n",
      "Multiplicative Cayley Table (showing indices):\n",
      "[[0, 0, 0, 0, 0, 0, 0],\n",
      " [0, 1, 2, 3, 4, 5, 6],\n",
      " [0, 2, 4, 6, 1, 3, 5],\n",
      " [0, 3, 6, 2, 5, 1, 4],\n",
      " [0, 4, 1, 5, 2, 6, 3],\n",
      " [0, 5, 3, 1, 6, 4, 2],\n",
      " [0, 6, 5, 4, 3, 2, 1]]\n"
     ]
    }
   ],
   "source": [
    "# Recall, here, all elements are strings that represent abstract symbols, not numbers.\n",
    "# In the call below, elem_name, is set to nothing, '', instead of the default prefix, 'a'.\n",
    "\n",
    "f7 = alg.generate_algebra_mod_n(7, elem_name='')\n",
    "\n",
    "f7.about()"
   ]
  },
  {
   "cell_type": "markdown",
   "id": "e0684e3a",
   "metadata": {},
   "source": [
    "## Abstract Complex \"Number\" Examples"
   ]
  },
  {
   "cell_type": "code",
   "execution_count": 3,
   "id": "bc59da50",
   "metadata": {
    "scrolled": true
   },
   "outputs": [
    {
     "data": {
      "text/plain": [
       "['0', '1', '2', '3', '4', '5', '6']"
      ]
     },
     "execution_count": 3,
     "metadata": {},
     "output_type": "execute_result"
    }
   ],
   "source": [
    "f7.elements"
   ]
  },
  {
   "cell_type": "code",
   "execution_count": 4,
   "id": "dc245a37",
   "metadata": {},
   "outputs": [],
   "source": [
    "a0 = '0'\n",
    "a1 = '1'\n",
    "a2 = '2'\n",
    "a3 = '3'\n",
    "a4 = '4'\n",
    "a5 = '5'\n",
    "a6 = '6'"
   ]
  },
  {
   "cell_type": "code",
   "execution_count": 5,
   "id": "3ee3f91a",
   "metadata": {},
   "outputs": [
    {
     "data": {
      "text/plain": [
       "('3', '5')"
      ]
     },
     "execution_count": 5,
     "metadata": {},
     "output_type": "execute_result"
    }
   ],
   "source": [
    "a = '3'\n",
    "b = '5'\n",
    "ab = alg.AbstractComplexElement(a, b, f7)\n",
    "ab"
   ]
  },
  {
   "cell_type": "code",
   "execution_count": 6,
   "id": "e200d880",
   "metadata": {},
   "outputs": [
    {
     "data": {
      "text/plain": [
       "('2', '4')"
      ]
     },
     "execution_count": 6,
     "metadata": {},
     "output_type": "execute_result"
    }
   ],
   "source": [
    "c = '2'\n",
    "d = '4'\n",
    "cd = alg.AbstractComplexElement(c, d, f7)\n",
    "cd"
   ]
  },
  {
   "cell_type": "markdown",
   "id": "e9080644",
   "metadata": {},
   "source": [
    "<b>Addition</b>: $(a, b) + (c, d) = (a + c, b + d)$"
   ]
  },
  {
   "cell_type": "code",
   "execution_count": 7,
   "id": "a9c6c225",
   "metadata": {},
   "outputs": [
    {
     "data": {
      "text/plain": [
       "('5', '2')"
      ]
     },
     "execution_count": 7,
     "metadata": {},
     "output_type": "execute_result"
    }
   ],
   "source": [
    "ab + cd"
   ]
  },
  {
   "cell_type": "markdown",
   "id": "10313922",
   "metadata": {},
   "source": [
    "Check:"
   ]
  },
  {
   "cell_type": "code",
   "execution_count": 8,
   "id": "256bfbdf",
   "metadata": {},
   "outputs": [
    {
     "name": "stdout",
     "output_type": "stream",
     "text": [
      "(5, 2)\n"
     ]
    }
   ],
   "source": [
    "with alg.InfixNotation(f7) as x:\n",
    "    print(f\"({x[a] + x[c]}, {x[b] + x[d]})\")"
   ]
  },
  {
   "cell_type": "markdown",
   "id": "37586038",
   "metadata": {},
   "source": [
    "<b>Subtraction</b>: $(a, b) - (c, d) = (a - c, b - d)$"
   ]
  },
  {
   "cell_type": "code",
   "execution_count": 9,
   "id": "407caf70",
   "metadata": {},
   "outputs": [
    {
     "data": {
      "text/plain": [
       "('1', '1')"
      ]
     },
     "execution_count": 9,
     "metadata": {},
     "output_type": "execute_result"
    }
   ],
   "source": [
    "ab - cd"
   ]
  },
  {
   "cell_type": "markdown",
   "id": "2baef818",
   "metadata": {},
   "source": [
    "Check:"
   ]
  },
  {
   "cell_type": "code",
   "execution_count": 10,
   "id": "e24ec060",
   "metadata": {},
   "outputs": [
    {
     "name": "stdout",
     "output_type": "stream",
     "text": [
      "(1, 1)\n"
     ]
    }
   ],
   "source": [
    "with alg.InfixNotation(f7) as x:\n",
    "    print(f\"({x[a] - x[c]}, {x[b] - x[d]})\")"
   ]
  },
  {
   "cell_type": "markdown",
   "id": "fb1a1e64",
   "metadata": {},
   "source": [
    "<b>Multiplication</b>: $(a, b) \\times (c, d) = (ac - bd, ad + bc)$"
   ]
  },
  {
   "cell_type": "code",
   "execution_count": 11,
   "id": "90ecdd5a",
   "metadata": {},
   "outputs": [
    {
     "data": {
      "text/plain": [
       "('0', '1')"
      ]
     },
     "execution_count": 11,
     "metadata": {},
     "output_type": "execute_result"
    }
   ],
   "source": [
    "ab * cd"
   ]
  },
  {
   "cell_type": "markdown",
   "id": "4d534bea",
   "metadata": {},
   "source": [
    "Check:"
   ]
  },
  {
   "cell_type": "code",
   "execution_count": 12,
   "id": "2830028c",
   "metadata": {},
   "outputs": [
    {
     "name": "stdout",
     "output_type": "stream",
     "text": [
      "(0, 1)\n"
     ]
    }
   ],
   "source": [
    "with alg.InfixNotation(f7) as x:\n",
    "    print(f\"({x[a]*x[c] - x[b]*x[d]}, {x[a]*x[d] + x[b]*x[c]})\")"
   ]
  },
  {
   "cell_type": "markdown",
   "id": "54d90683",
   "metadata": {},
   "source": [
    "**Example: Negation**"
   ]
  },
  {
   "cell_type": "code",
   "execution_count": 13,
   "id": "27500074",
   "metadata": {},
   "outputs": [
    {
     "name": "stdout",
     "output_type": "stream",
     "text": [
      "('3', '5')\n",
      "('4', '2')\n"
     ]
    }
   ],
   "source": [
    "print(ab)\n",
    "print(-ab)"
   ]
  },
  {
   "cell_type": "markdown",
   "id": "2feb98c0",
   "metadata": {},
   "source": [
    "Check:"
   ]
  },
  {
   "cell_type": "code",
   "execution_count": 14,
   "id": "38014ee4",
   "metadata": {},
   "outputs": [
    {
     "name": "stdout",
     "output_type": "stream",
     "text": [
      "(4, 2)\n"
     ]
    }
   ],
   "source": [
    "with alg.InfixNotation(f7) as x:\n",
    "    print(f\"({-x[a]}, {-x[b]})\")"
   ]
  },
  {
   "cell_type": "markdown",
   "id": "050bfddb",
   "metadata": {},
   "source": [
    "<b>Conjugation</b>: $\\overline{(a, b)} = (a, -b)$"
   ]
  },
  {
   "cell_type": "code",
   "execution_count": 15,
   "id": "fd60ad7c",
   "metadata": {},
   "outputs": [
    {
     "data": {
      "text/plain": [
       "('3', '2')"
      ]
     },
     "execution_count": 15,
     "metadata": {},
     "output_type": "execute_result"
    }
   ],
   "source": [
    "ab.conj()"
   ]
  },
  {
   "cell_type": "markdown",
   "id": "4876cbce",
   "metadata": {},
   "source": [
    "Check:"
   ]
  },
  {
   "cell_type": "code",
   "execution_count": 16,
   "id": "d19feff2",
   "metadata": {},
   "outputs": [
    {
     "name": "stdout",
     "output_type": "stream",
     "text": [
      "(3, 2)\n"
     ]
    }
   ],
   "source": [
    "with alg.InfixNotation(f7) as x:\n",
    "    print(f\"({x[a]}, {-x[b]})\")"
   ]
  },
  {
   "cell_type": "markdown",
   "id": "b288b23d",
   "metadata": {},
   "source": [
    "<b>Squared Absolute Value</b>: $|(a, b)|^2 = (a, b) \\times \\overline{(a, b)}$"
   ]
  },
  {
   "cell_type": "code",
   "execution_count": 17,
   "id": "844a47d3",
   "metadata": {},
   "outputs": [
    {
     "data": {
      "text/plain": [
       "'6'"
      ]
     },
     "execution_count": 17,
     "metadata": {},
     "output_type": "execute_result"
    }
   ],
   "source": [
    "ab.sqr_abs_val()"
   ]
  },
  {
   "cell_type": "markdown",
   "id": "43d4cee9",
   "metadata": {},
   "source": [
    "Check:"
   ]
  },
  {
   "cell_type": "code",
   "execution_count": 18,
   "id": "6b66c5e9",
   "metadata": {},
   "outputs": [
    {
     "name": "stdout",
     "output_type": "stream",
     "text": [
      "6\n",
      "True\n"
     ]
    }
   ],
   "source": [
    "y = ab * ab.conj()\n",
    "print(y.real)\n",
    "print(y.imag == f7.zero)"
   ]
  },
  {
   "cell_type": "markdown",
   "id": "caf07df2",
   "metadata": {},
   "source": [
    "<b>Scalar Multiplication</b>: $a \\times (c, d) = (ac, ad)$"
   ]
  },
  {
   "cell_type": "code",
   "execution_count": 19,
   "id": "9077ffe5",
   "metadata": {},
   "outputs": [
    {
     "data": {
      "text/plain": [
       "('6', '5')"
      ]
     },
     "execution_count": 19,
     "metadata": {},
     "output_type": "execute_result"
    }
   ],
   "source": [
    "cd.scalar_mult(a)"
   ]
  },
  {
   "cell_type": "markdown",
   "id": "ad3891c5",
   "metadata": {},
   "source": [
    "Check:"
   ]
  },
  {
   "cell_type": "code",
   "execution_count": 20,
   "id": "730456e2",
   "metadata": {},
   "outputs": [
    {
     "name": "stdout",
     "output_type": "stream",
     "text": [
      "(6, 5)\n"
     ]
    }
   ],
   "source": [
    "with alg.InfixNotation(f7) as x:\n",
    "    print(f\"({x[a]*x[c]}, {x[a]*x[d]})\")"
   ]
  },
  {
   "cell_type": "markdown",
   "id": "d4b35c93",
   "metadata": {},
   "source": [
    "**Inverses:** ${(a, b)}^{-1} = \\large \\frac{\\overline{(a,b)}}{|(a, b)|^2}$"
   ]
  },
  {
   "cell_type": "code",
   "execution_count": 21,
   "id": "31590842",
   "metadata": {},
   "outputs": [
    {
     "data": {
      "text/plain": [
       "('4', '5')"
      ]
     },
     "execution_count": 21,
     "metadata": {},
     "output_type": "execute_result"
    }
   ],
   "source": [
    "ab.inv()"
   ]
  },
  {
   "cell_type": "markdown",
   "id": "c4fca673",
   "metadata": {},
   "source": [
    "Check:"
   ]
  },
  {
   "cell_type": "code",
   "execution_count": 22,
   "id": "efccec19",
   "metadata": {},
   "outputs": [
    {
     "name": "stdout",
     "output_type": "stream",
     "text": [
      "(1, 0)\n"
     ]
    }
   ],
   "source": [
    "print(f\"({f7.one}, {f7.zero})\")  # (1, 0)"
   ]
  },
  {
   "cell_type": "code",
   "execution_count": 23,
   "id": "9f0ebae5",
   "metadata": {},
   "outputs": [
    {
     "data": {
      "text/plain": [
       "('1', '0')"
      ]
     },
     "execution_count": 23,
     "metadata": {},
     "output_type": "execute_result"
    }
   ],
   "source": [
    "ab * ab.inv()"
   ]
  },
  {
   "cell_type": "code",
   "execution_count": 24,
   "id": "692e3398",
   "metadata": {},
   "outputs": [
    {
     "data": {
      "text/plain": [
       "('1', '0')"
      ]
     },
     "execution_count": 24,
     "metadata": {},
     "output_type": "execute_result"
    }
   ],
   "source": [
    "ab.inv() * ab"
   ]
  },
  {
   "cell_type": "markdown",
   "id": "4800f831",
   "metadata": {},
   "source": [
    "**Example: Equality & Inequality**"
   ]
  },
  {
   "cell_type": "code",
   "execution_count": 25,
   "id": "7018ac4b",
   "metadata": {},
   "outputs": [
    {
     "name": "stdout",
     "output_type": "stream",
     "text": [
      "('3', '5')\n",
      "('2', '4')\n"
     ]
    }
   ],
   "source": [
    "print(ab)\n",
    "print(cd)"
   ]
  },
  {
   "cell_type": "code",
   "execution_count": 26,
   "id": "9c2f1e16",
   "metadata": {},
   "outputs": [
    {
     "data": {
      "text/plain": [
       "False"
      ]
     },
     "execution_count": 26,
     "metadata": {},
     "output_type": "execute_result"
    }
   ],
   "source": [
    "ab == cd"
   ]
  },
  {
   "cell_type": "code",
   "execution_count": 27,
   "id": "94062195",
   "metadata": {},
   "outputs": [
    {
     "data": {
      "text/plain": [
       "True"
      ]
     },
     "execution_count": 27,
     "metadata": {},
     "output_type": "execute_result"
    }
   ],
   "source": [
    "ab != cd"
   ]
  },
  {
   "cell_type": "code",
   "execution_count": 28,
   "id": "af14ef02",
   "metadata": {},
   "outputs": [
    {
     "data": {
      "text/plain": [
       "('3', '5')"
      ]
     },
     "execution_count": 28,
     "metadata": {},
     "output_type": "execute_result"
    }
   ],
   "source": [
    "abx = alg.AbstractComplexElement(a, b, f7)  # Should be equal to x1\n",
    "abx"
   ]
  },
  {
   "cell_type": "code",
   "execution_count": 29,
   "id": "2491f7e7",
   "metadata": {},
   "outputs": [
    {
     "data": {
      "text/plain": [
       "True"
      ]
     },
     "execution_count": 29,
     "metadata": {},
     "output_type": "execute_result"
    }
   ],
   "source": [
    "ab == abx"
   ]
  },
  {
   "cell_type": "code",
   "execution_count": 30,
   "id": "4e62ca04",
   "metadata": {},
   "outputs": [
    {
     "data": {
      "text/plain": [
       "False"
      ]
     },
     "execution_count": 30,
     "metadata": {},
     "output_type": "execute_result"
    }
   ],
   "source": [
    "ab != abx"
   ]
  },
  {
   "cell_type": "markdown",
   "id": "91d97788",
   "metadata": {},
   "source": [
    "**Example: Division (for Fields only)**"
   ]
  },
  {
   "cell_type": "code",
   "execution_count": 31,
   "id": "579928d5",
   "metadata": {},
   "outputs": [
    {
     "data": {
      "text/plain": [
       "('1', '0')"
      ]
     },
     "execution_count": 31,
     "metadata": {},
     "output_type": "execute_result"
    }
   ],
   "source": [
    "ab / ab"
   ]
  },
  {
   "cell_type": "code",
   "execution_count": 32,
   "id": "bd1fb0f2",
   "metadata": {},
   "outputs": [
    {
     "data": {
      "text/plain": [
       "('2', '2')"
      ]
     },
     "execution_count": 32,
     "metadata": {},
     "output_type": "execute_result"
    }
   ],
   "source": [
    "ab / cd"
   ]
  },
  {
   "cell_type": "code",
   "execution_count": 33,
   "id": "63d72b2d",
   "metadata": {},
   "outputs": [
    {
     "data": {
      "text/plain": [
       "('2', '5')"
      ]
     },
     "execution_count": 33,
     "metadata": {},
     "output_type": "execute_result"
    }
   ],
   "source": [
    "cd / ab"
   ]
  },
  {
   "cell_type": "code",
   "execution_count": 34,
   "id": "6175786b",
   "metadata": {},
   "outputs": [
    {
     "data": {
      "text/plain": [
       "('1', '0')"
      ]
     },
     "execution_count": 34,
     "metadata": {},
     "output_type": "execute_result"
    }
   ],
   "source": [
    "(ab / cd) * (cd / ab)"
   ]
  },
  {
   "cell_type": "markdown",
   "id": "d47660c8",
   "metadata": {},
   "source": [
    "## Create Algebras from Abstract Complex Numbers"
   ]
  },
  {
   "cell_type": "raw",
   "id": "518fe14f",
   "metadata": {},
   "source": [
    "def make_abstract_complex_number_algebra(algebra, name_gen=None, alg_name=None, alg_desc=None):\n",
    "    if not isinstance(algebra, alg.Ring):\n",
    "        raise ValueError(f\"{algebra.name} is not at least a Ring\")\n",
    "    if name_gen is None:\n",
    "        name_gen = lambda x : x.real + \":\" + x.imag\n",
    "    if alg_name is None:\n",
    "        alg_name = algebra.name + \"_ACN\"\n",
    "    if alg_desc is None:\n",
    "        alg_desc = \"Abstract Complex Algebra based on \" + algebra.description\n",
    "    elems = [AbstractComplexElement(a, b, algebra) for a in algebra.elements for b in algebra.elements]\n",
    "    add_table = [[name_gen(u + v) for v in elems] for u in elems]\n",
    "    mul_table = [[name_gen(u * v) for v in elems] for u in elems]\n",
    "    enames = list(map(name_gen, elems))\n",
    "    name_element_map = {name_gen(elem) : elem for elem in elems}\n",
    "    new_alg = alg.make_finite_algebra(alg_name, alg_desc, enames, add_table, mul_table)\n",
    "    return new_alg, name_element_map"
   ]
  },
  {
   "cell_type": "code",
   "execution_count": 35,
   "id": "7c002bd9",
   "metadata": {},
   "outputs": [],
   "source": [
    "f4 = alg.make_finite_algebra('F4',\n",
    "                             'Field with 4 elements (from Wikipedia)',\n",
    "                             ['0', '1', 'a', '1+a'],\n",
    "                             [[0, 1, 2, 3],\n",
    "                              [1, 0, 3, 2],\n",
    "                              [2, 3, 0, 1],\n",
    "                              [3, 2, 1, 0]\n",
    "                             ],\n",
    "                             [[0, 0, 0, 0],\n",
    "                              [0, 1, 2, 3],\n",
    "                              [0, 2, 3, 1],\n",
    "                              [0, 3, 1, 2]\n",
    "                             ]\n",
    "                            )                     \n",
    "# f4.about()"
   ]
  },
  {
   "cell_type": "code",
   "execution_count": 36,
   "id": "8fa76162",
   "metadata": {},
   "outputs": [],
   "source": [
    "cf4, cf4_map = f4.make_abstract_complex_algebra()"
   ]
  },
  {
   "cell_type": "code",
   "execution_count": 37,
   "id": "8410e083",
   "metadata": {},
   "outputs": [
    {
     "name": "stdout",
     "output_type": "stream",
     "text": [
      "\n",
      "** Ring **\n",
      "Name: F4_ACN\n",
      "Instance ID: 4848715984\n",
      "Description: Abstract Complex Number Algebra based on Field with 4 elements (from Wikipedia)\n",
      "Order: 16\n",
      "Identity: '0:0'\n",
      "Commutative? Yes\n",
      "Cyclic?: Yes\n",
      "  Generators: ['0:1+a', '0:a', '1+a:1', '1:1+a', '1:a', 'a:1']\n",
      "Elements:\n",
      "   Index   Name   Inverse  Order\n",
      "      0   '0:0'   '0:0'       1\n",
      "      1   '0:1'   '0:1'       2\n",
      "      2   '0:a'   '0:a'       2\n",
      "      3 '0:1+a' '0:1+a'       2\n",
      "      4   '1:0'   '1:0'       2\n",
      "      5   '1:1'   '1:1'       2\n",
      "      6   '1:a'   '1:a'       2\n",
      "      7 '1:1+a' '1:1+a'       2\n",
      "      8   'a:0'   'a:0'       2\n",
      "      9   'a:1'   'a:1'       2\n",
      "     10   'a:a'   'a:a'       2\n",
      "     11 'a:1+a' 'a:1+a'       2\n",
      "     12 '1+a:0' '1+a:0'       2\n",
      "     13 '1+a:1' '1+a:1'       2\n",
      "     14 '1+a:a' '1+a:a'       2\n",
      "     15 '1+a:1+a' '1+a:1+a'       2\n",
      "Cayley Table (showing indices):\n",
      "[[0, 1, 2, 3, 4, 5, 6, 7, 8, 9, 10, 11, 12, 13, 14, 15],\n",
      " [1, 0, 3, 2, 5, 4, 7, 6, 9, 8, 11, 10, 13, 12, 15, 14],\n",
      " [2, 3, 0, 1, 6, 7, 4, 5, 10, 11, 8, 9, 14, 15, 12, 13],\n",
      " [3, 2, 1, 0, 7, 6, 5, 4, 11, 10, 9, 8, 15, 14, 13, 12],\n",
      " [4, 5, 6, 7, 0, 1, 2, 3, 12, 13, 14, 15, 8, 9, 10, 11],\n",
      " [5, 4, 7, 6, 1, 0, 3, 2, 13, 12, 15, 14, 9, 8, 11, 10],\n",
      " [6, 7, 4, 5, 2, 3, 0, 1, 14, 15, 12, 13, 10, 11, 8, 9],\n",
      " [7, 6, 5, 4, 3, 2, 1, 0, 15, 14, 13, 12, 11, 10, 9, 8],\n",
      " [8, 9, 10, 11, 12, 13, 14, 15, 0, 1, 2, 3, 4, 5, 6, 7],\n",
      " [9, 8, 11, 10, 13, 12, 15, 14, 1, 0, 3, 2, 5, 4, 7, 6],\n",
      " [10, 11, 8, 9, 14, 15, 12, 13, 2, 3, 0, 1, 6, 7, 4, 5],\n",
      " [11, 10, 9, 8, 15, 14, 13, 12, 3, 2, 1, 0, 7, 6, 5, 4],\n",
      " [12, 13, 14, 15, 8, 9, 10, 11, 4, 5, 6, 7, 0, 1, 2, 3],\n",
      " [13, 12, 15, 14, 9, 8, 11, 10, 5, 4, 7, 6, 1, 0, 3, 2],\n",
      " [14, 15, 12, 13, 10, 11, 8, 9, 6, 7, 4, 5, 2, 3, 0, 1],\n",
      " [15, 14, 13, 12, 11, 10, 9, 8, 7, 6, 5, 4, 3, 2, 1, 0]]\n",
      "Mult. Identity: '1:0'\n",
      "Mult. Commutative? Yes\n",
      "Zero Divisors: ['1:1', 'a:a', '1+a:1+a']\n",
      "Multiplicative Cayley Table (showing indices):\n",
      "[[0, 0, 0, 0, 0, 0, 0, 0, 0, 0, 0, 0, 0, 0, 0, 0],\n",
      " [0, 4, 8, 12, 1, 5, 9, 13, 2, 6, 10, 14, 3, 7, 11, 15],\n",
      " [0, 8, 12, 4, 2, 10, 14, 6, 3, 11, 15, 7, 1, 9, 13, 5],\n",
      " [0, 12, 4, 8, 3, 15, 7, 11, 1, 13, 5, 9, 2, 14, 6, 10],\n",
      " [0, 1, 2, 3, 4, 5, 6, 7, 8, 9, 10, 11, 12, 13, 14, 15],\n",
      " [0, 5, 10, 15, 5, 0, 15, 10, 10, 15, 0, 5, 15, 10, 5, 0],\n",
      " [0, 9, 14, 7, 6, 15, 8, 1, 11, 2, 5, 12, 13, 4, 3, 10],\n",
      " [0, 13, 6, 11, 7, 10, 1, 12, 9, 4, 15, 2, 14, 3, 8, 5],\n",
      " [0, 2, 3, 1, 8, 10, 11, 9, 12, 14, 15, 13, 4, 6, 7, 5],\n",
      " [0, 6, 11, 13, 9, 15, 2, 4, 14, 8, 5, 3, 7, 1, 12, 10],\n",
      " [0, 10, 15, 5, 10, 0, 5, 15, 15, 5, 0, 10, 5, 15, 10, 0],\n",
      " [0, 14, 7, 9, 11, 5, 12, 2, 13, 3, 10, 4, 6, 8, 1, 15],\n",
      " [0, 3, 1, 2, 12, 15, 13, 14, 4, 7, 5, 6, 8, 11, 9, 10],\n",
      " [0, 7, 9, 14, 13, 10, 4, 3, 6, 1, 15, 8, 11, 12, 2, 5],\n",
      " [0, 11, 13, 6, 14, 5, 3, 8, 7, 12, 10, 1, 9, 2, 4, 15],\n",
      " [0, 15, 5, 10, 15, 0, 10, 5, 5, 10, 0, 15, 10, 5, 15, 0]]\n"
     ]
    }
   ],
   "source": [
    "cf4.about(max_size=16)"
   ]
  },
  {
   "cell_type": "code",
   "execution_count": 38,
   "id": "99795a5a",
   "metadata": {},
   "outputs": [
    {
     "data": {
      "text/plain": [
       "{'0:0': ('0', '0'),\n",
       " '0:1': ('0', '1'),\n",
       " '0:a': ('0', 'a'),\n",
       " '0:1+a': ('0', '1+a'),\n",
       " '1:0': ('1', '0'),\n",
       " '1:1': ('1', '1'),\n",
       " '1:a': ('1', 'a'),\n",
       " '1:1+a': ('1', '1+a'),\n",
       " 'a:0': ('a', '0'),\n",
       " 'a:1': ('a', '1'),\n",
       " 'a:a': ('a', 'a'),\n",
       " 'a:1+a': ('a', '1+a'),\n",
       " '1+a:0': ('1+a', '0'),\n",
       " '1+a:1': ('1+a', '1'),\n",
       " '1+a:a': ('1+a', 'a'),\n",
       " '1+a:1+a': ('1+a', '1+a')}"
      ]
     },
     "execution_count": 38,
     "metadata": {},
     "output_type": "execute_result"
    }
   ],
   "source": [
    "cf4_map"
   ]
  },
  {
   "cell_type": "code",
   "execution_count": 39,
   "id": "e64f1f18",
   "metadata": {},
   "outputs": [
    {
     "name": "stdout",
     "output_type": "stream",
     "text": [
      "CPU times: user 6.49 s, sys: 1.68 ms, total: 6.49 s\n",
      "Wall time: 6.5 s\n"
     ]
    },
    {
     "data": {
      "text/plain": [
       "[Ring(\n",
       " 'F4_ACN_subalgebra_0',\n",
       " 'Subalgebra of: Abstract Complex Number Algebra based on Field with 4 elements (from Wikipedia)',\n",
       " ['0:0', '1:0', 'a:1+a', '1+a:1+a'],\n",
       " [[0, 1, 2, 3], [1, 0, 3, 2], [2, 3, 0, 1], [3, 2, 1, 0]],\n",
       " [[0, 0, 0, 0], [0, 1, 2, 3], [0, 2, 1, 3], [0, 3, 3, 0]]\n",
       " ),\n",
       " Field(\n",
       " 'F4_ACN_subalgebra_1',\n",
       " 'Subalgebra of: Abstract Complex Number Algebra based on Field with 4 elements (from Wikipedia)',\n",
       " ['0:0', '1:0'],\n",
       " [[0, 1], [1, 0]],\n",
       " [[0, 0], [0, 1]]\n",
       " ),\n",
       " Ring(\n",
       " 'F4_ACN_subalgebra_2',\n",
       " 'Subalgebra of: Abstract Complex Number Algebra based on Field with 4 elements (from Wikipedia)',\n",
       " ['0:0', '1:1', 'a:a', '1+a:1+a'],\n",
       " [[0, 1, 2, 3], [1, 0, 3, 2], [2, 3, 0, 1], [3, 2, 1, 0]],\n",
       " [[0, 0, 0, 0], [0, 0, 0, 0], [0, 0, 0, 0], [0, 0, 0, 0]]\n",
       " ),\n",
       " Ring(\n",
       " 'F4_ACN_subalgebra_3',\n",
       " 'Subalgebra of: Abstract Complex Number Algebra based on Field with 4 elements (from Wikipedia)',\n",
       " ['0:0', '1:0', 'a:a', '1+a:a'],\n",
       " [[0, 1, 2, 3], [1, 0, 3, 2], [2, 3, 0, 1], [3, 2, 1, 0]],\n",
       " [[0, 0, 0, 0], [0, 1, 2, 3], [0, 2, 0, 2], [0, 3, 2, 1]]\n",
       " ),\n",
       " Field(\n",
       " 'F4_ACN_subalgebra_4',\n",
       " 'Subalgebra of: Abstract Complex Number Algebra based on Field with 4 elements (from Wikipedia)',\n",
       " ['0:0', '1:0', 'a:0', '1+a:0'],\n",
       " [[0, 1, 2, 3], [1, 0, 3, 2], [2, 3, 0, 1], [3, 2, 1, 0]],\n",
       " [[0, 0, 0, 0], [0, 1, 2, 3], [0, 2, 3, 1], [0, 3, 1, 2]]\n",
       " ),\n",
       " Ring(\n",
       " 'F4_ACN_subalgebra_5',\n",
       " 'Subalgebra of: Abstract Complex Number Algebra based on Field with 4 elements (from Wikipedia)',\n",
       " ['0:0', '0:1', '1:0', '1:1', 'a:a', 'a:1+a', '1+a:a', '1+a:1+a'],\n",
       " [[0, 1, 2, 3, 4, 5, 6, 7], [1, 0, 3, 2, 5, 4, 7, 6], [2, 3, 0, 1, 6, 7, 4, 5], [3, 2, 1, 0, 7, 6, 5, 4], [4, 5, 6, 7, 0, 1, 2, 3], [5, 4, 7, 6, 1, 0, 3, 2], [6, 7, 4, 5, 2, 3, 0, 1], [7, 6, 5, 4, 3, 2, 1, 0]],\n",
       " [[0, 0, 0, 0, 0, 0, 0, 0], [0, 2, 1, 3, 4, 6, 5, 7], [0, 1, 2, 3, 4, 5, 6, 7], [0, 3, 3, 0, 0, 3, 3, 0], [0, 4, 4, 0, 0, 4, 4, 0], [0, 6, 5, 3, 4, 2, 1, 7], [0, 5, 6, 3, 4, 1, 2, 7], [0, 7, 7, 0, 0, 7, 7, 0]]\n",
       " ),\n",
       " Ring(\n",
       " 'F4_ACN_subalgebra_6',\n",
       " 'Subalgebra of: Abstract Complex Number Algebra based on Field with 4 elements (from Wikipedia)',\n",
       " ['0:0', '0:1', '1:0', '1:1'],\n",
       " [[0, 1, 2, 3], [1, 0, 3, 2], [2, 3, 0, 1], [3, 2, 1, 0]],\n",
       " [[0, 0, 0, 0], [0, 2, 1, 3], [0, 1, 2, 3], [0, 3, 3, 0]]\n",
       " ),\n",
       " Ring(\n",
       " 'F4_ACN_subalgebra_7',\n",
       " 'Subalgebra of: Abstract Complex Number Algebra based on Field with 4 elements (from Wikipedia)',\n",
       " ['0:0', '1:1'],\n",
       " [[0, 1], [1, 0]],\n",
       " [[0, 0], [0, 0]]\n",
       " ),\n",
       " Ring(\n",
       " 'F4_ACN_subalgebra_8',\n",
       " 'Subalgebra of: Abstract Complex Number Algebra based on Field with 4 elements (from Wikipedia)',\n",
       " ['0:0', '1+a:1+a'],\n",
       " [[0, 1], [1, 0]],\n",
       " [[0, 0], [0, 0]]\n",
       " ),\n",
       " Ring(\n",
       " 'F4_ACN_subalgebra_9',\n",
       " 'Subalgebra of: Abstract Complex Number Algebra based on Field with 4 elements (from Wikipedia)',\n",
       " ['0:0', 'a:a'],\n",
       " [[0, 1], [1, 0]],\n",
       " [[0, 0], [0, 0]]\n",
       " )]"
      ]
     },
     "execution_count": 39,
     "metadata": {},
     "output_type": "execute_result"
    }
   ],
   "source": [
    "%%time\n",
    "cf4_proper_subs = cf4.proper_subalgebras()\n",
    "cf4_proper_subs"
   ]
  },
  {
   "cell_type": "code",
   "execution_count": 40,
   "id": "d4d26be0",
   "metadata": {},
   "outputs": [
    {
     "name": "stdout",
     "output_type": "stream",
     "text": [
      "\n",
      "Subalgebras of <Ring:F4_ACN, ID:4848715984>\n",
      "  There are 3 unique proper subalgebras, up to isomorphism, out of 10 total subalgebras.\n",
      "  as shown by the partitions below:\n",
      "\n",
      "5 Isomorphic Commutative Normal Rings of order 4 with identity '0:0':\n",
      "      Ring: F4_ACN_subalgebra_0: ['0:0', '1:0', 'a:1+a', '1+a:1+a']\n",
      "      Ring: F4_ACN_subalgebra_2: ['0:0', '1:1', 'a:a', '1+a:1+a']\n",
      "      Ring: F4_ACN_subalgebra_3: ['0:0', '1:0', 'a:a', '1+a:a']\n",
      "      Field: F4_ACN_subalgebra_4: ['0:0', '1:0', 'a:0', '1+a:0']\n",
      "      Ring: F4_ACN_subalgebra_6: ['0:0', '0:1', '1:0', '1:1']\n",
      "\n",
      "4 Isomorphic Commutative Normal Fields of order 2 with identity '0:0':\n",
      "      Field: F4_ACN_subalgebra_1: ['0:0', '1:0']\n",
      "      Ring: F4_ACN_subalgebra_7: ['0:0', '1:1']\n",
      "      Ring: F4_ACN_subalgebra_8: ['0:0', '1+a:1+a']\n",
      "      Ring: F4_ACN_subalgebra_9: ['0:0', 'a:a']\n",
      "\n",
      "1 Commutative Normal Ring of order 8 with identity '0:0':\n",
      "      Ring: F4_ACN_subalgebra_5: ['0:0', '0:1', '1:0', '1:1', 'a:a', 'a:1+a', '1+a:a', '1+a:1+a']\n",
      "\n"
     ]
    }
   ],
   "source": [
    "partitions = alg.partition_into_isomorphic_lists(cf4_proper_subs)\n",
    "\n",
    "alg.about_isomorphic_partitions(cf4, partitions)"
   ]
  },
  {
   "cell_type": "code",
   "execution_count": 41,
   "id": "392babd4",
   "metadata": {},
   "outputs": [
    {
     "name": "stdout",
     "output_type": "stream",
     "text": [
      "\n",
      "** Field **\n",
      "Name: F2\n",
      "Instance ID: 4388322064\n",
      "Description: Autogenerated Field of integers mod 2\n",
      "Order: 2\n",
      "Identity: '0'\n",
      "Commutative? Yes\n",
      "Cyclic?: Yes\n",
      "  Generators: ['1']\n",
      "Elements:\n",
      "   Index   Name   Inverse  Order\n",
      "      0     '0'     '0'       1\n",
      "      1     '1'     '1'       2\n",
      "Cayley Table (showing indices):\n",
      "[[0, 1], [1, 0]]\n",
      "Mult. Identity: '1'\n",
      "Mult. Commutative? Yes\n",
      "Zero Divisors: None\n",
      "Multiplicative Cayley Table (showing indices):\n",
      "[[0, 0], [0, 1]]\n"
     ]
    }
   ],
   "source": [
    "f2 = alg.generate_algebra_mod_n(2, elem_name='')\n",
    "f2.about()"
   ]
  },
  {
   "cell_type": "markdown",
   "id": "09fe8480",
   "metadata": {},
   "source": [
    "Becase 2 is not a Gaussian prime, the Abstract Complex Number algebra generated below using $F_2$ is a Ring."
   ]
  },
  {
   "cell_type": "code",
   "execution_count": 42,
   "id": "640443bd",
   "metadata": {},
   "outputs": [
    {
     "name": "stdout",
     "output_type": "stream",
     "text": [
      "\n",
      "** Ring **\n",
      "Name: F2_ACN\n",
      "Instance ID: 4848686032\n",
      "Description: Abstract Complex Number Algebra based on Autogenerated Field of integers mod 2\n",
      "Order: 4\n",
      "Identity: '0:0'\n",
      "Commutative? Yes\n",
      "Cyclic?: Yes\n",
      "  Generators: ['0:1']\n",
      "Elements:\n",
      "   Index   Name   Inverse  Order\n",
      "      0   '0:0'   '0:0'       1\n",
      "      1   '0:1'   '0:1'       2\n",
      "      2   '1:0'   '1:0'       2\n",
      "      3   '1:1'   '1:1'       2\n",
      "Cayley Table (showing indices):\n",
      "[[0, 1, 2, 3], [1, 0, 3, 2], [2, 3, 0, 1], [3, 2, 1, 0]]\n",
      "Mult. Identity: '1:0'\n",
      "Mult. Commutative? Yes\n",
      "Zero Divisors: ['1:1']\n",
      "Multiplicative Cayley Table (showing indices):\n",
      "[[0, 0, 0, 0], [0, 2, 1, 3], [0, 1, 2, 3], [0, 3, 3, 0]]\n"
     ]
    }
   ],
   "source": [
    "cf2, cf2_map = f2.make_abstract_complex_algebra()\n",
    "\n",
    "cf2.about()"
   ]
  },
  {
   "cell_type": "markdown",
   "id": "2ca0aa45",
   "metadata": {},
   "source": [
    "Since 3 is a Gaussian prime, the Abstract Complex Number algebra generated below using $F_3$ is a Field."
   ]
  },
  {
   "cell_type": "code",
   "execution_count": 43,
   "id": "38a36ccc",
   "metadata": {},
   "outputs": [
    {
     "name": "stdout",
     "output_type": "stream",
     "text": [
      "\n",
      "** Field **\n",
      "Name: F3\n",
      "Instance ID: 4395596688\n",
      "Description: Autogenerated Field of integers mod 3\n",
      "Order: 3\n",
      "Identity: '0'\n",
      "Commutative? Yes\n",
      "Cyclic?: Yes\n",
      "  Generators: ['1', '2']\n",
      "Elements:\n",
      "   Index   Name   Inverse  Order\n",
      "      0     '0'     '0'       1\n",
      "      1     '1'     '2'       3\n",
      "      2     '2'     '1'       3\n",
      "Cayley Table (showing indices):\n",
      "[[0, 1, 2], [1, 2, 0], [2, 0, 1]]\n",
      "Mult. Identity: '1'\n",
      "Mult. Commutative? Yes\n",
      "Zero Divisors: None\n",
      "Multiplicative Cayley Table (showing indices):\n",
      "[[0, 0, 0], [0, 1, 2], [0, 2, 1]]\n"
     ]
    }
   ],
   "source": [
    "f3 = alg.generate_algebra_mod_n(3, elem_name='')\n",
    "f3.about()"
   ]
  },
  {
   "cell_type": "code",
   "execution_count": 44,
   "id": "ca38a9b1",
   "metadata": {},
   "outputs": [
    {
     "name": "stdout",
     "output_type": "stream",
     "text": [
      "\n",
      "** Field **\n",
      "Name: F3_ACN\n",
      "Instance ID: 4395680848\n",
      "Description: Abstract Complex Number Algebra based on Autogenerated Field of integers mod 3\n",
      "Order: 9\n",
      "Identity: '0:0'\n",
      "Commutative? Yes\n",
      "Cyclic?: Yes\n",
      "  Generators: ['0:1', '0:2', '1:1', '1:2', '2:1', '2:2']\n",
      "Elements:\n",
      "   Index   Name   Inverse  Order\n",
      "      0   '0:0'   '0:0'       1\n",
      "      1   '0:1'   '0:2'       3\n",
      "      2   '0:2'   '0:1'       3\n",
      "      3   '1:0'   '2:0'       3\n",
      "      4   '1:1'   '2:2'       3\n",
      "      5   '1:2'   '2:1'       3\n",
      "      6   '2:0'   '1:0'       3\n",
      "      7   '2:1'   '1:2'       3\n",
      "      8   '2:2'   '1:1'       3\n",
      "Cayley Table (showing indices):\n",
      "[[0, 1, 2, 3, 4, 5, 6, 7, 8],\n",
      " [1, 2, 0, 4, 5, 3, 7, 8, 6],\n",
      " [2, 0, 1, 5, 3, 4, 8, 6, 7],\n",
      " [3, 4, 5, 6, 7, 8, 0, 1, 2],\n",
      " [4, 5, 3, 7, 8, 6, 1, 2, 0],\n",
      " [5, 3, 4, 8, 6, 7, 2, 0, 1],\n",
      " [6, 7, 8, 0, 1, 2, 3, 4, 5],\n",
      " [7, 8, 6, 1, 2, 0, 4, 5, 3],\n",
      " [8, 6, 7, 2, 0, 1, 5, 3, 4]]\n",
      "Mult. Identity: '1:0'\n",
      "Mult. Commutative? Yes\n",
      "Zero Divisors: None\n",
      "Multiplicative Cayley Table (showing indices):\n",
      "[[0, 0, 0, 0, 0, 0, 0, 0, 0],\n",
      " [0, 6, 3, 1, 7, 4, 2, 8, 5],\n",
      " [0, 3, 6, 2, 5, 8, 1, 4, 7],\n",
      " [0, 1, 2, 3, 4, 5, 6, 7, 8],\n",
      " [0, 7, 5, 4, 2, 6, 8, 3, 1],\n",
      " [0, 4, 8, 5, 6, 1, 7, 2, 3],\n",
      " [0, 2, 1, 6, 8, 7, 3, 5, 4],\n",
      " [0, 8, 4, 7, 3, 2, 5, 1, 6],\n",
      " [0, 5, 7, 8, 1, 3, 4, 6, 2]]\n"
     ]
    }
   ],
   "source": [
    "cf3, cf3_map = f3.make_abstract_complex_algebra()\n",
    "\n",
    "cf3.about()"
   ]
  },
  {
   "cell_type": "markdown",
   "id": "69df801d",
   "metadata": {},
   "source": [
    "In the code below, we see that for finite Fields over the integers mod n (n prime between 1 & 20), the corresponding Abstract Complex Algebras will also be Fields only for n = 3, 7, 11, 19; otherwise they are Rings for n = 2, 5, 13, 17."
   ]
  },
  {
   "cell_type": "code",
   "execution_count": 45,
   "id": "47172f8d-a0c9-49fc-809a-c6dc6f35fcbc",
   "metadata": {},
   "outputs": [],
   "source": [
    "import os, json\n",
    "aa_path = os.path.join(os.getenv(\"PYPROJ\"), \"abstract_algebra\")\n",
    "alg_dir = os.path.join(aa_path, \"algebras\")"
   ]
  },
  {
   "cell_type": "markdown",
   "id": "10cd0363",
   "metadata": {},
   "source": [
    "**The cells below have been raw text, so that they are not rerun accidentally (they take a while)**"
   ]
  },
  {
   "cell_type": "code",
   "execution_count": 46,
   "id": "ae00bebf",
   "metadata": {},
   "outputs": [
    {
     "name": "stdout",
     "output_type": "stream",
     "text": [
      "F3_ACN\n",
      "Done\n",
      "CPU times: user 29.6 ms, sys: 1 ms, total: 30.6 ms\n",
      "Wall time: 29.9 ms\n"
     ]
    }
   ],
   "source": [
    "%%time\n",
    "# n = 24\n",
    "n = 6\n",
    "print_out = True\n",
    "for i in range(1,n):\n",
    "    if alg.is_prime(i):\n",
    "        fi = alg.generate_algebra_mod_n(i, elem_name='')\n",
    "        cfi, cfi_map = fi.make_abstract_complex_algebra()\n",
    "        if isinstance(cfi, alg.Field):\n",
    "            print(cfi.name)\n",
    "            if print_out:\n",
    "                filename = os.path.join(alg_dir, fi.name + \"_ACN_algebra.json\")\n",
    "                with open(filename, \"w\") as out:\n",
    "                    json.dump(cfi.to_dict(), out, indent=4)\n",
    "print(\"Done\")"
   ]
  },
  {
   "cell_type": "raw",
   "id": "1cb8bdd6",
   "metadata": {},
   "source": [
    "F3_ACN\n",
    "F7_ACN\n",
    "F11_ACN\n",
    "F19_ACN\n",
    "F23_ACN\n",
    "Done\n",
    "CPU times: user 6min 42s, sys: 81.7 ms, total: 6min 42s\n",
    "Wall time: 6min 43s"
   ]
  },
  {
   "cell_type": "raw",
   "id": "05304ee5",
   "metadata": {},
   "source": [
    "%%time\n",
    "i = 31\n",
    "fi = alg.generate_algebra_mod_n(i)\n",
    "cfi, _ = make_abstract_complex_number_algebra(fi)\n",
    "print(i, cfi.__class__)\n",
    "\n",
    "# Result\n",
    "# 31 <class 'finite_algebras.Field'>\n",
    "# CPU times: user 27min 3s, sys: 588 ms, total: 27min 3s\n",
    "# Wall time: 27min 6s"
   ]
  },
  {
   "cell_type": "markdown",
   "id": "9988fd48",
   "metadata": {},
   "source": [
    "Here is more of the A002145 sequence of primes of the form 4*k + 3:\n",
    "\n",
    "3, 7, 11, 19, 23, 31, 43, 47, 59, 67, 71, 79, 83, 103, 107, 127, 131, 139, 151, 163, 167, 179, 191, 199, 211, 223, 227, 239, 251, 263, 271, 283, 307, 311, 331, 347, 359, 367, 379, 383, 419, 431, 439, 443, 463, 467, 479, 487, 491, 499, 503, 523, 547, 563, 571, ..."
   ]
  },
  {
   "cell_type": "markdown",
   "id": "4680a1cc",
   "metadata": {},
   "source": [
    "## Square a Ring and Field"
   ]
  },
  {
   "cell_type": "code",
   "execution_count": 47,
   "id": "5a56e1dc",
   "metadata": {},
   "outputs": [
    {
     "data": {
      "text/plain": [
       "Field(\n",
       "'F7',\n",
       "'Autogenerated Field of integers mod 7',\n",
       "['0', '1', '2', '3', '4', '5', '6'],\n",
       "[[0, 1, 2, 3, 4, 5, 6], [1, 2, 3, 4, 5, 6, 0], [2, 3, 4, 5, 6, 0, 1], [3, 4, 5, 6, 0, 1, 2], [4, 5, 6, 0, 1, 2, 3], [5, 6, 0, 1, 2, 3, 4], [6, 0, 1, 2, 3, 4, 5]],\n",
       "[[0, 0, 0, 0, 0, 0, 0], [0, 1, 2, 3, 4, 5, 6], [0, 2, 4, 6, 1, 3, 5], [0, 3, 6, 2, 5, 1, 4], [0, 4, 1, 5, 2, 6, 3], [0, 5, 3, 1, 6, 4, 2], [0, 6, 5, 4, 3, 2, 1]]\n",
       ")"
      ]
     },
     "execution_count": 47,
     "metadata": {},
     "output_type": "execute_result"
    }
   ],
   "source": [
    "f7"
   ]
  },
  {
   "cell_type": "code",
   "execution_count": 48,
   "id": "f046e7ff",
   "metadata": {},
   "outputs": [
    {
     "name": "stdout",
     "output_type": "stream",
     "text": [
      "\n",
      "** Field **\n",
      "Name: F7_SQR\n",
      "Instance ID: 4388422928\n",
      "Description: Direct product of F7 with itself using complex multiplication\n",
      "Order: 49\n",
      "Identity: '0:0'\n",
      "Commutative? Yes\n",
      "Cyclic?: Yes\n",
      "  Generators: ['0:1', '0:2', '0:3', '0:4', '0:5', '0:6', '1:1', '1:2', '1:3', '1:4', '1:5', '1:6', '2:1', '2:2', '2:3', '2:4', '2:5', '2:6', '3:1', '3:2', '3:3', '3:4', '3:5', '3:6', '4:1', '4:2', '4:3', '4:4', '4:5', '4:6', '5:1', '5:2', '5:3', '5:4', '5:5', '5:6', '6:1', '6:2', '6:3', '6:4', '6:5', '6:6']\n",
      "Elements:\n",
      "   Index   Name   Inverse  Order\n",
      "      0   '0:0'   '0:0'       1\n",
      "      1   '0:1'   '0:6'       7\n",
      "      2   '0:2'   '0:5'       7\n",
      "      3   '0:3'   '0:4'       7\n",
      "      4   '0:4'   '0:3'       7\n",
      "      5   '0:5'   '0:2'       7\n",
      "      6   '0:6'   '0:1'       7\n",
      "      7   '1:0'   '6:0'       7\n",
      "      8   '1:1'   '6:6'       7\n",
      "      9   '1:2'   '6:5'       7\n",
      "     10   '1:3'   '6:4'       7\n",
      "     11   '1:4'   '6:3'       7\n",
      "     12   '1:5'   '6:2'       7\n",
      "     13   '1:6'   '6:1'       7\n",
      "     14   '2:0'   '5:0'       7\n",
      "     15   '2:1'   '5:6'       7\n",
      "     16   '2:2'   '5:5'       7\n",
      "     17   '2:3'   '5:4'       7\n",
      "     18   '2:4'   '5:3'       7\n",
      "     19   '2:5'   '5:2'       7\n",
      "     20   '2:6'   '5:1'       7\n",
      "     21   '3:0'   '4:0'       7\n",
      "     22   '3:1'   '4:6'       7\n",
      "     23   '3:2'   '4:5'       7\n",
      "     24   '3:3'   '4:4'       7\n",
      "     25   '3:4'   '4:3'       7\n",
      "     26   '3:5'   '4:2'       7\n",
      "     27   '3:6'   '4:1'       7\n",
      "     28   '4:0'   '3:0'       7\n",
      "     29   '4:1'   '3:6'       7\n",
      "     30   '4:2'   '3:5'       7\n",
      "     31   '4:3'   '3:4'       7\n",
      "     32   '4:4'   '3:3'       7\n",
      "     33   '4:5'   '3:2'       7\n",
      "     34   '4:6'   '3:1'       7\n",
      "     35   '5:0'   '2:0'       7\n",
      "     36   '5:1'   '2:6'       7\n",
      "     37   '5:2'   '2:5'       7\n",
      "     38   '5:3'   '2:4'       7\n",
      "     39   '5:4'   '2:3'       7\n",
      "     40   '5:5'   '2:2'       7\n",
      "     41   '5:6'   '2:1'       7\n",
      "     42   '6:0'   '1:0'       7\n",
      "     43   '6:1'   '1:6'       7\n",
      "     44   '6:2'   '1:5'       7\n",
      "     45   '6:3'   '1:4'       7\n",
      "     46   '6:4'   '1:3'       7\n",
      "     47   '6:5'   '1:2'       7\n",
      "     48   '6:6'   '1:1'       7\n",
      "Field order is 49 > 12, so no further info calculated/printed.\n",
      "Mult. Identity: '1:0'\n",
      "Mult. Commutative? Yes\n",
      "Zero Divisors: None\n",
      "Field order is 49 > 12, so no further info calculated/printed.\n"
     ]
    }
   ],
   "source": [
    "f7_sqr = f7.sqr()\n",
    "f7_sqr.about()"
   ]
  },
  {
   "cell_type": "code",
   "execution_count": 49,
   "id": "c1c9d07a",
   "metadata": {},
   "outputs": [
    {
     "data": {
      "text/plain": [
       "Ring(\n",
       "'F7_x_F7',\n",
       "'Direct product of F7 & F7',\n",
       "['0:0', '0:1', '0:2', '0:3', '0:4', '0:5', '0:6', '1:0', '1:1', '1:2', '1:3', '1:4', '1:5', '1:6', '2:0', '2:1', '2:2', '2:3', '2:4', '2:5', '2:6', '3:0', '3:1', '3:2', '3:3', '3:4', '3:5', '3:6', '4:0', '4:1', '4:2', '4:3', '4:4', '4:5', '4:6', '5:0', '5:1', '5:2', '5:3', '5:4', '5:5', '5:6', '6:0', '6:1', '6:2', '6:3', '6:4', '6:5', '6:6'],\n",
       "[[0, 1, 2, 3, 4, 5, 6, 7, 8, 9, 10, 11, 12, 13, 14, 15, 16, 17, 18, 19, 20, 21, 22, 23, 24, 25, 26, 27, 28, 29, 30, 31, 32, 33, 34, 35, 36, 37, 38, 39, 40, 41, 42, 43, 44, 45, 46, 47, 48], [1, 2, 3, 4, 5, 6, 0, 8, 9, 10, 11, 12, 13, 7, 15, 16, 17, 18, 19, 20, 14, 22, 23, 24, 25, 26, 27, 21, 29, 30, 31, 32, 33, 34, 28, 36, 37, 38, 39, 40, 41, 35, 43, 44, 45, 46, 47, 48, 42], [2, 3, 4, 5, 6, 0, 1, 9, 10, 11, 12, 13, 7, 8, 16, 17, 18, 19, 20, 14, 15, 23, 24, 25, 26, 27, 21, 22, 30, 31, 32, 33, 34, 28, 29, 37, 38, 39, 40, 41, 35, 36, 44, 45, 46, 47, 48, 42, 43], [3, 4, 5, 6, 0, 1, 2, 10, 11, 12, 13, 7, 8, 9, 17, 18, 19, 20, 14, 15, 16, 24, 25, 26, 27, 21, 22, 23, 31, 32, 33, 34, 28, 29, 30, 38, 39, 40, 41, 35, 36, 37, 45, 46, 47, 48, 42, 43, 44], [4, 5, 6, 0, 1, 2, 3, 11, 12, 13, 7, 8, 9, 10, 18, 19, 20, 14, 15, 16, 17, 25, 26, 27, 21, 22, 23, 24, 32, 33, 34, 28, 29, 30, 31, 39, 40, 41, 35, 36, 37, 38, 46, 47, 48, 42, 43, 44, 45], [5, 6, 0, 1, 2, 3, 4, 12, 13, 7, 8, 9, 10, 11, 19, 20, 14, 15, 16, 17, 18, 26, 27, 21, 22, 23, 24, 25, 33, 34, 28, 29, 30, 31, 32, 40, 41, 35, 36, 37, 38, 39, 47, 48, 42, 43, 44, 45, 46], [6, 0, 1, 2, 3, 4, 5, 13, 7, 8, 9, 10, 11, 12, 20, 14, 15, 16, 17, 18, 19, 27, 21, 22, 23, 24, 25, 26, 34, 28, 29, 30, 31, 32, 33, 41, 35, 36, 37, 38, 39, 40, 48, 42, 43, 44, 45, 46, 47], [7, 8, 9, 10, 11, 12, 13, 14, 15, 16, 17, 18, 19, 20, 21, 22, 23, 24, 25, 26, 27, 28, 29, 30, 31, 32, 33, 34, 35, 36, 37, 38, 39, 40, 41, 42, 43, 44, 45, 46, 47, 48, 0, 1, 2, 3, 4, 5, 6], [8, 9, 10, 11, 12, 13, 7, 15, 16, 17, 18, 19, 20, 14, 22, 23, 24, 25, 26, 27, 21, 29, 30, 31, 32, 33, 34, 28, 36, 37, 38, 39, 40, 41, 35, 43, 44, 45, 46, 47, 48, 42, 1, 2, 3, 4, 5, 6, 0], [9, 10, 11, 12, 13, 7, 8, 16, 17, 18, 19, 20, 14, 15, 23, 24, 25, 26, 27, 21, 22, 30, 31, 32, 33, 34, 28, 29, 37, 38, 39, 40, 41, 35, 36, 44, 45, 46, 47, 48, 42, 43, 2, 3, 4, 5, 6, 0, 1], [10, 11, 12, 13, 7, 8, 9, 17, 18, 19, 20, 14, 15, 16, 24, 25, 26, 27, 21, 22, 23, 31, 32, 33, 34, 28, 29, 30, 38, 39, 40, 41, 35, 36, 37, 45, 46, 47, 48, 42, 43, 44, 3, 4, 5, 6, 0, 1, 2], [11, 12, 13, 7, 8, 9, 10, 18, 19, 20, 14, 15, 16, 17, 25, 26, 27, 21, 22, 23, 24, 32, 33, 34, 28, 29, 30, 31, 39, 40, 41, 35, 36, 37, 38, 46, 47, 48, 42, 43, 44, 45, 4, 5, 6, 0, 1, 2, 3], [12, 13, 7, 8, 9, 10, 11, 19, 20, 14, 15, 16, 17, 18, 26, 27, 21, 22, 23, 24, 25, 33, 34, 28, 29, 30, 31, 32, 40, 41, 35, 36, 37, 38, 39, 47, 48, 42, 43, 44, 45, 46, 5, 6, 0, 1, 2, 3, 4], [13, 7, 8, 9, 10, 11, 12, 20, 14, 15, 16, 17, 18, 19, 27, 21, 22, 23, 24, 25, 26, 34, 28, 29, 30, 31, 32, 33, 41, 35, 36, 37, 38, 39, 40, 48, 42, 43, 44, 45, 46, 47, 6, 0, 1, 2, 3, 4, 5], [14, 15, 16, 17, 18, 19, 20, 21, 22, 23, 24, 25, 26, 27, 28, 29, 30, 31, 32, 33, 34, 35, 36, 37, 38, 39, 40, 41, 42, 43, 44, 45, 46, 47, 48, 0, 1, 2, 3, 4, 5, 6, 7, 8, 9, 10, 11, 12, 13], [15, 16, 17, 18, 19, 20, 14, 22, 23, 24, 25, 26, 27, 21, 29, 30, 31, 32, 33, 34, 28, 36, 37, 38, 39, 40, 41, 35, 43, 44, 45, 46, 47, 48, 42, 1, 2, 3, 4, 5, 6, 0, 8, 9, 10, 11, 12, 13, 7], [16, 17, 18, 19, 20, 14, 15, 23, 24, 25, 26, 27, 21, 22, 30, 31, 32, 33, 34, 28, 29, 37, 38, 39, 40, 41, 35, 36, 44, 45, 46, 47, 48, 42, 43, 2, 3, 4, 5, 6, 0, 1, 9, 10, 11, 12, 13, 7, 8], [17, 18, 19, 20, 14, 15, 16, 24, 25, 26, 27, 21, 22, 23, 31, 32, 33, 34, 28, 29, 30, 38, 39, 40, 41, 35, 36, 37, 45, 46, 47, 48, 42, 43, 44, 3, 4, 5, 6, 0, 1, 2, 10, 11, 12, 13, 7, 8, 9], [18, 19, 20, 14, 15, 16, 17, 25, 26, 27, 21, 22, 23, 24, 32, 33, 34, 28, 29, 30, 31, 39, 40, 41, 35, 36, 37, 38, 46, 47, 48, 42, 43, 44, 45, 4, 5, 6, 0, 1, 2, 3, 11, 12, 13, 7, 8, 9, 10], [19, 20, 14, 15, 16, 17, 18, 26, 27, 21, 22, 23, 24, 25, 33, 34, 28, 29, 30, 31, 32, 40, 41, 35, 36, 37, 38, 39, 47, 48, 42, 43, 44, 45, 46, 5, 6, 0, 1, 2, 3, 4, 12, 13, 7, 8, 9, 10, 11], [20, 14, 15, 16, 17, 18, 19, 27, 21, 22, 23, 24, 25, 26, 34, 28, 29, 30, 31, 32, 33, 41, 35, 36, 37, 38, 39, 40, 48, 42, 43, 44, 45, 46, 47, 6, 0, 1, 2, 3, 4, 5, 13, 7, 8, 9, 10, 11, 12], [21, 22, 23, 24, 25, 26, 27, 28, 29, 30, 31, 32, 33, 34, 35, 36, 37, 38, 39, 40, 41, 42, 43, 44, 45, 46, 47, 48, 0, 1, 2, 3, 4, 5, 6, 7, 8, 9, 10, 11, 12, 13, 14, 15, 16, 17, 18, 19, 20], [22, 23, 24, 25, 26, 27, 21, 29, 30, 31, 32, 33, 34, 28, 36, 37, 38, 39, 40, 41, 35, 43, 44, 45, 46, 47, 48, 42, 1, 2, 3, 4, 5, 6, 0, 8, 9, 10, 11, 12, 13, 7, 15, 16, 17, 18, 19, 20, 14], [23, 24, 25, 26, 27, 21, 22, 30, 31, 32, 33, 34, 28, 29, 37, 38, 39, 40, 41, 35, 36, 44, 45, 46, 47, 48, 42, 43, 2, 3, 4, 5, 6, 0, 1, 9, 10, 11, 12, 13, 7, 8, 16, 17, 18, 19, 20, 14, 15], [24, 25, 26, 27, 21, 22, 23, 31, 32, 33, 34, 28, 29, 30, 38, 39, 40, 41, 35, 36, 37, 45, 46, 47, 48, 42, 43, 44, 3, 4, 5, 6, 0, 1, 2, 10, 11, 12, 13, 7, 8, 9, 17, 18, 19, 20, 14, 15, 16], [25, 26, 27, 21, 22, 23, 24, 32, 33, 34, 28, 29, 30, 31, 39, 40, 41, 35, 36, 37, 38, 46, 47, 48, 42, 43, 44, 45, 4, 5, 6, 0, 1, 2, 3, 11, 12, 13, 7, 8, 9, 10, 18, 19, 20, 14, 15, 16, 17], [26, 27, 21, 22, 23, 24, 25, 33, 34, 28, 29, 30, 31, 32, 40, 41, 35, 36, 37, 38, 39, 47, 48, 42, 43, 44, 45, 46, 5, 6, 0, 1, 2, 3, 4, 12, 13, 7, 8, 9, 10, 11, 19, 20, 14, 15, 16, 17, 18], [27, 21, 22, 23, 24, 25, 26, 34, 28, 29, 30, 31, 32, 33, 41, 35, 36, 37, 38, 39, 40, 48, 42, 43, 44, 45, 46, 47, 6, 0, 1, 2, 3, 4, 5, 13, 7, 8, 9, 10, 11, 12, 20, 14, 15, 16, 17, 18, 19], [28, 29, 30, 31, 32, 33, 34, 35, 36, 37, 38, 39, 40, 41, 42, 43, 44, 45, 46, 47, 48, 0, 1, 2, 3, 4, 5, 6, 7, 8, 9, 10, 11, 12, 13, 14, 15, 16, 17, 18, 19, 20, 21, 22, 23, 24, 25, 26, 27], [29, 30, 31, 32, 33, 34, 28, 36, 37, 38, 39, 40, 41, 35, 43, 44, 45, 46, 47, 48, 42, 1, 2, 3, 4, 5, 6, 0, 8, 9, 10, 11, 12, 13, 7, 15, 16, 17, 18, 19, 20, 14, 22, 23, 24, 25, 26, 27, 21], [30, 31, 32, 33, 34, 28, 29, 37, 38, 39, 40, 41, 35, 36, 44, 45, 46, 47, 48, 42, 43, 2, 3, 4, 5, 6, 0, 1, 9, 10, 11, 12, 13, 7, 8, 16, 17, 18, 19, 20, 14, 15, 23, 24, 25, 26, 27, 21, 22], [31, 32, 33, 34, 28, 29, 30, 38, 39, 40, 41, 35, 36, 37, 45, 46, 47, 48, 42, 43, 44, 3, 4, 5, 6, 0, 1, 2, 10, 11, 12, 13, 7, 8, 9, 17, 18, 19, 20, 14, 15, 16, 24, 25, 26, 27, 21, 22, 23], [32, 33, 34, 28, 29, 30, 31, 39, 40, 41, 35, 36, 37, 38, 46, 47, 48, 42, 43, 44, 45, 4, 5, 6, 0, 1, 2, 3, 11, 12, 13, 7, 8, 9, 10, 18, 19, 20, 14, 15, 16, 17, 25, 26, 27, 21, 22, 23, 24], [33, 34, 28, 29, 30, 31, 32, 40, 41, 35, 36, 37, 38, 39, 47, 48, 42, 43, 44, 45, 46, 5, 6, 0, 1, 2, 3, 4, 12, 13, 7, 8, 9, 10, 11, 19, 20, 14, 15, 16, 17, 18, 26, 27, 21, 22, 23, 24, 25], [34, 28, 29, 30, 31, 32, 33, 41, 35, 36, 37, 38, 39, 40, 48, 42, 43, 44, 45, 46, 47, 6, 0, 1, 2, 3, 4, 5, 13, 7, 8, 9, 10, 11, 12, 20, 14, 15, 16, 17, 18, 19, 27, 21, 22, 23, 24, 25, 26], [35, 36, 37, 38, 39, 40, 41, 42, 43, 44, 45, 46, 47, 48, 0, 1, 2, 3, 4, 5, 6, 7, 8, 9, 10, 11, 12, 13, 14, 15, 16, 17, 18, 19, 20, 21, 22, 23, 24, 25, 26, 27, 28, 29, 30, 31, 32, 33, 34], [36, 37, 38, 39, 40, 41, 35, 43, 44, 45, 46, 47, 48, 42, 1, 2, 3, 4, 5, 6, 0, 8, 9, 10, 11, 12, 13, 7, 15, 16, 17, 18, 19, 20, 14, 22, 23, 24, 25, 26, 27, 21, 29, 30, 31, 32, 33, 34, 28], [37, 38, 39, 40, 41, 35, 36, 44, 45, 46, 47, 48, 42, 43, 2, 3, 4, 5, 6, 0, 1, 9, 10, 11, 12, 13, 7, 8, 16, 17, 18, 19, 20, 14, 15, 23, 24, 25, 26, 27, 21, 22, 30, 31, 32, 33, 34, 28, 29], [38, 39, 40, 41, 35, 36, 37, 45, 46, 47, 48, 42, 43, 44, 3, 4, 5, 6, 0, 1, 2, 10, 11, 12, 13, 7, 8, 9, 17, 18, 19, 20, 14, 15, 16, 24, 25, 26, 27, 21, 22, 23, 31, 32, 33, 34, 28, 29, 30], [39, 40, 41, 35, 36, 37, 38, 46, 47, 48, 42, 43, 44, 45, 4, 5, 6, 0, 1, 2, 3, 11, 12, 13, 7, 8, 9, 10, 18, 19, 20, 14, 15, 16, 17, 25, 26, 27, 21, 22, 23, 24, 32, 33, 34, 28, 29, 30, 31], [40, 41, 35, 36, 37, 38, 39, 47, 48, 42, 43, 44, 45, 46, 5, 6, 0, 1, 2, 3, 4, 12, 13, 7, 8, 9, 10, 11, 19, 20, 14, 15, 16, 17, 18, 26, 27, 21, 22, 23, 24, 25, 33, 34, 28, 29, 30, 31, 32], [41, 35, 36, 37, 38, 39, 40, 48, 42, 43, 44, 45, 46, 47, 6, 0, 1, 2, 3, 4, 5, 13, 7, 8, 9, 10, 11, 12, 20, 14, 15, 16, 17, 18, 19, 27, 21, 22, 23, 24, 25, 26, 34, 28, 29, 30, 31, 32, 33], [42, 43, 44, 45, 46, 47, 48, 0, 1, 2, 3, 4, 5, 6, 7, 8, 9, 10, 11, 12, 13, 14, 15, 16, 17, 18, 19, 20, 21, 22, 23, 24, 25, 26, 27, 28, 29, 30, 31, 32, 33, 34, 35, 36, 37, 38, 39, 40, 41], [43, 44, 45, 46, 47, 48, 42, 1, 2, 3, 4, 5, 6, 0, 8, 9, 10, 11, 12, 13, 7, 15, 16, 17, 18, 19, 20, 14, 22, 23, 24, 25, 26, 27, 21, 29, 30, 31, 32, 33, 34, 28, 36, 37, 38, 39, 40, 41, 35], [44, 45, 46, 47, 48, 42, 43, 2, 3, 4, 5, 6, 0, 1, 9, 10, 11, 12, 13, 7, 8, 16, 17, 18, 19, 20, 14, 15, 23, 24, 25, 26, 27, 21, 22, 30, 31, 32, 33, 34, 28, 29, 37, 38, 39, 40, 41, 35, 36], [45, 46, 47, 48, 42, 43, 44, 3, 4, 5, 6, 0, 1, 2, 10, 11, 12, 13, 7, 8, 9, 17, 18, 19, 20, 14, 15, 16, 24, 25, 26, 27, 21, 22, 23, 31, 32, 33, 34, 28, 29, 30, 38, 39, 40, 41, 35, 36, 37], [46, 47, 48, 42, 43, 44, 45, 4, 5, 6, 0, 1, 2, 3, 11, 12, 13, 7, 8, 9, 10, 18, 19, 20, 14, 15, 16, 17, 25, 26, 27, 21, 22, 23, 24, 32, 33, 34, 28, 29, 30, 31, 39, 40, 41, 35, 36, 37, 38], [47, 48, 42, 43, 44, 45, 46, 5, 6, 0, 1, 2, 3, 4, 12, 13, 7, 8, 9, 10, 11, 19, 20, 14, 15, 16, 17, 18, 26, 27, 21, 22, 23, 24, 25, 33, 34, 28, 29, 30, 31, 32, 40, 41, 35, 36, 37, 38, 39], [48, 42, 43, 44, 45, 46, 47, 6, 0, 1, 2, 3, 4, 5, 13, 7, 8, 9, 10, 11, 12, 20, 14, 15, 16, 17, 18, 19, 27, 21, 22, 23, 24, 25, 26, 34, 28, 29, 30, 31, 32, 33, 41, 35, 36, 37, 38, 39, 40]],\n",
       "[[0, 0, 0, 0, 0, 0, 0, 0, 0, 0, 0, 0, 0, 0, 0, 0, 0, 0, 0, 0, 0, 0, 0, 0, 0, 0, 0, 0, 0, 0, 0, 0, 0, 0, 0, 0, 0, 0, 0, 0, 0, 0, 0, 0, 0, 0, 0, 0, 0], [0, 1, 2, 3, 4, 5, 6, 0, 1, 2, 3, 4, 5, 6, 0, 1, 2, 3, 4, 5, 6, 0, 1, 2, 3, 4, 5, 6, 0, 1, 2, 3, 4, 5, 6, 0, 1, 2, 3, 4, 5, 6, 0, 1, 2, 3, 4, 5, 6], [0, 2, 4, 6, 1, 3, 5, 0, 2, 4, 6, 1, 3, 5, 0, 2, 4, 6, 1, 3, 5, 0, 2, 4, 6, 1, 3, 5, 0, 2, 4, 6, 1, 3, 5, 0, 2, 4, 6, 1, 3, 5, 0, 2, 4, 6, 1, 3, 5], [0, 3, 6, 2, 5, 1, 4, 0, 3, 6, 2, 5, 1, 4, 0, 3, 6, 2, 5, 1, 4, 0, 3, 6, 2, 5, 1, 4, 0, 3, 6, 2, 5, 1, 4, 0, 3, 6, 2, 5, 1, 4, 0, 3, 6, 2, 5, 1, 4], [0, 4, 1, 5, 2, 6, 3, 0, 4, 1, 5, 2, 6, 3, 0, 4, 1, 5, 2, 6, 3, 0, 4, 1, 5, 2, 6, 3, 0, 4, 1, 5, 2, 6, 3, 0, 4, 1, 5, 2, 6, 3, 0, 4, 1, 5, 2, 6, 3], [0, 5, 3, 1, 6, 4, 2, 0, 5, 3, 1, 6, 4, 2, 0, 5, 3, 1, 6, 4, 2, 0, 5, 3, 1, 6, 4, 2, 0, 5, 3, 1, 6, 4, 2, 0, 5, 3, 1, 6, 4, 2, 0, 5, 3, 1, 6, 4, 2], [0, 6, 5, 4, 3, 2, 1, 0, 6, 5, 4, 3, 2, 1, 0, 6, 5, 4, 3, 2, 1, 0, 6, 5, 4, 3, 2, 1, 0, 6, 5, 4, 3, 2, 1, 0, 6, 5, 4, 3, 2, 1, 0, 6, 5, 4, 3, 2, 1], [0, 0, 0, 0, 0, 0, 0, 7, 7, 7, 7, 7, 7, 7, 14, 14, 14, 14, 14, 14, 14, 21, 21, 21, 21, 21, 21, 21, 28, 28, 28, 28, 28, 28, 28, 35, 35, 35, 35, 35, 35, 35, 42, 42, 42, 42, 42, 42, 42], [0, 1, 2, 3, 4, 5, 6, 7, 8, 9, 10, 11, 12, 13, 14, 15, 16, 17, 18, 19, 20, 21, 22, 23, 24, 25, 26, 27, 28, 29, 30, 31, 32, 33, 34, 35, 36, 37, 38, 39, 40, 41, 42, 43, 44, 45, 46, 47, 48], [0, 2, 4, 6, 1, 3, 5, 7, 9, 11, 13, 8, 10, 12, 14, 16, 18, 20, 15, 17, 19, 21, 23, 25, 27, 22, 24, 26, 28, 30, 32, 34, 29, 31, 33, 35, 37, 39, 41, 36, 38, 40, 42, 44, 46, 48, 43, 45, 47], [0, 3, 6, 2, 5, 1, 4, 7, 10, 13, 9, 12, 8, 11, 14, 17, 20, 16, 19, 15, 18, 21, 24, 27, 23, 26, 22, 25, 28, 31, 34, 30, 33, 29, 32, 35, 38, 41, 37, 40, 36, 39, 42, 45, 48, 44, 47, 43, 46], [0, 4, 1, 5, 2, 6, 3, 7, 11, 8, 12, 9, 13, 10, 14, 18, 15, 19, 16, 20, 17, 21, 25, 22, 26, 23, 27, 24, 28, 32, 29, 33, 30, 34, 31, 35, 39, 36, 40, 37, 41, 38, 42, 46, 43, 47, 44, 48, 45], [0, 5, 3, 1, 6, 4, 2, 7, 12, 10, 8, 13, 11, 9, 14, 19, 17, 15, 20, 18, 16, 21, 26, 24, 22, 27, 25, 23, 28, 33, 31, 29, 34, 32, 30, 35, 40, 38, 36, 41, 39, 37, 42, 47, 45, 43, 48, 46, 44], [0, 6, 5, 4, 3, 2, 1, 7, 13, 12, 11, 10, 9, 8, 14, 20, 19, 18, 17, 16, 15, 21, 27, 26, 25, 24, 23, 22, 28, 34, 33, 32, 31, 30, 29, 35, 41, 40, 39, 38, 37, 36, 42, 48, 47, 46, 45, 44, 43], [0, 0, 0, 0, 0, 0, 0, 14, 14, 14, 14, 14, 14, 14, 28, 28, 28, 28, 28, 28, 28, 42, 42, 42, 42, 42, 42, 42, 7, 7, 7, 7, 7, 7, 7, 21, 21, 21, 21, 21, 21, 21, 35, 35, 35, 35, 35, 35, 35], [0, 1, 2, 3, 4, 5, 6, 14, 15, 16, 17, 18, 19, 20, 28, 29, 30, 31, 32, 33, 34, 42, 43, 44, 45, 46, 47, 48, 7, 8, 9, 10, 11, 12, 13, 21, 22, 23, 24, 25, 26, 27, 35, 36, 37, 38, 39, 40, 41], [0, 2, 4, 6, 1, 3, 5, 14, 16, 18, 20, 15, 17, 19, 28, 30, 32, 34, 29, 31, 33, 42, 44, 46, 48, 43, 45, 47, 7, 9, 11, 13, 8, 10, 12, 21, 23, 25, 27, 22, 24, 26, 35, 37, 39, 41, 36, 38, 40], [0, 3, 6, 2, 5, 1, 4, 14, 17, 20, 16, 19, 15, 18, 28, 31, 34, 30, 33, 29, 32, 42, 45, 48, 44, 47, 43, 46, 7, 10, 13, 9, 12, 8, 11, 21, 24, 27, 23, 26, 22, 25, 35, 38, 41, 37, 40, 36, 39], [0, 4, 1, 5, 2, 6, 3, 14, 18, 15, 19, 16, 20, 17, 28, 32, 29, 33, 30, 34, 31, 42, 46, 43, 47, 44, 48, 45, 7, 11, 8, 12, 9, 13, 10, 21, 25, 22, 26, 23, 27, 24, 35, 39, 36, 40, 37, 41, 38], [0, 5, 3, 1, 6, 4, 2, 14, 19, 17, 15, 20, 18, 16, 28, 33, 31, 29, 34, 32, 30, 42, 47, 45, 43, 48, 46, 44, 7, 12, 10, 8, 13, 11, 9, 21, 26, 24, 22, 27, 25, 23, 35, 40, 38, 36, 41, 39, 37], [0, 6, 5, 4, 3, 2, 1, 14, 20, 19, 18, 17, 16, 15, 28, 34, 33, 32, 31, 30, 29, 42, 48, 47, 46, 45, 44, 43, 7, 13, 12, 11, 10, 9, 8, 21, 27, 26, 25, 24, 23, 22, 35, 41, 40, 39, 38, 37, 36], [0, 0, 0, 0, 0, 0, 0, 21, 21, 21, 21, 21, 21, 21, 42, 42, 42, 42, 42, 42, 42, 14, 14, 14, 14, 14, 14, 14, 35, 35, 35, 35, 35, 35, 35, 7, 7, 7, 7, 7, 7, 7, 28, 28, 28, 28, 28, 28, 28], [0, 1, 2, 3, 4, 5, 6, 21, 22, 23, 24, 25, 26, 27, 42, 43, 44, 45, 46, 47, 48, 14, 15, 16, 17, 18, 19, 20, 35, 36, 37, 38, 39, 40, 41, 7, 8, 9, 10, 11, 12, 13, 28, 29, 30, 31, 32, 33, 34], [0, 2, 4, 6, 1, 3, 5, 21, 23, 25, 27, 22, 24, 26, 42, 44, 46, 48, 43, 45, 47, 14, 16, 18, 20, 15, 17, 19, 35, 37, 39, 41, 36, 38, 40, 7, 9, 11, 13, 8, 10, 12, 28, 30, 32, 34, 29, 31, 33], [0, 3, 6, 2, 5, 1, 4, 21, 24, 27, 23, 26, 22, 25, 42, 45, 48, 44, 47, 43, 46, 14, 17, 20, 16, 19, 15, 18, 35, 38, 41, 37, 40, 36, 39, 7, 10, 13, 9, 12, 8, 11, 28, 31, 34, 30, 33, 29, 32], [0, 4, 1, 5, 2, 6, 3, 21, 25, 22, 26, 23, 27, 24, 42, 46, 43, 47, 44, 48, 45, 14, 18, 15, 19, 16, 20, 17, 35, 39, 36, 40, 37, 41, 38, 7, 11, 8, 12, 9, 13, 10, 28, 32, 29, 33, 30, 34, 31], [0, 5, 3, 1, 6, 4, 2, 21, 26, 24, 22, 27, 25, 23, 42, 47, 45, 43, 48, 46, 44, 14, 19, 17, 15, 20, 18, 16, 35, 40, 38, 36, 41, 39, 37, 7, 12, 10, 8, 13, 11, 9, 28, 33, 31, 29, 34, 32, 30], [0, 6, 5, 4, 3, 2, 1, 21, 27, 26, 25, 24, 23, 22, 42, 48, 47, 46, 45, 44, 43, 14, 20, 19, 18, 17, 16, 15, 35, 41, 40, 39, 38, 37, 36, 7, 13, 12, 11, 10, 9, 8, 28, 34, 33, 32, 31, 30, 29], [0, 0, 0, 0, 0, 0, 0, 28, 28, 28, 28, 28, 28, 28, 7, 7, 7, 7, 7, 7, 7, 35, 35, 35, 35, 35, 35, 35, 14, 14, 14, 14, 14, 14, 14, 42, 42, 42, 42, 42, 42, 42, 21, 21, 21, 21, 21, 21, 21], [0, 1, 2, 3, 4, 5, 6, 28, 29, 30, 31, 32, 33, 34, 7, 8, 9, 10, 11, 12, 13, 35, 36, 37, 38, 39, 40, 41, 14, 15, 16, 17, 18, 19, 20, 42, 43, 44, 45, 46, 47, 48, 21, 22, 23, 24, 25, 26, 27], [0, 2, 4, 6, 1, 3, 5, 28, 30, 32, 34, 29, 31, 33, 7, 9, 11, 13, 8, 10, 12, 35, 37, 39, 41, 36, 38, 40, 14, 16, 18, 20, 15, 17, 19, 42, 44, 46, 48, 43, 45, 47, 21, 23, 25, 27, 22, 24, 26], [0, 3, 6, 2, 5, 1, 4, 28, 31, 34, 30, 33, 29, 32, 7, 10, 13, 9, 12, 8, 11, 35, 38, 41, 37, 40, 36, 39, 14, 17, 20, 16, 19, 15, 18, 42, 45, 48, 44, 47, 43, 46, 21, 24, 27, 23, 26, 22, 25], [0, 4, 1, 5, 2, 6, 3, 28, 32, 29, 33, 30, 34, 31, 7, 11, 8, 12, 9, 13, 10, 35, 39, 36, 40, 37, 41, 38, 14, 18, 15, 19, 16, 20, 17, 42, 46, 43, 47, 44, 48, 45, 21, 25, 22, 26, 23, 27, 24], [0, 5, 3, 1, 6, 4, 2, 28, 33, 31, 29, 34, 32, 30, 7, 12, 10, 8, 13, 11, 9, 35, 40, 38, 36, 41, 39, 37, 14, 19, 17, 15, 20, 18, 16, 42, 47, 45, 43, 48, 46, 44, 21, 26, 24, 22, 27, 25, 23], [0, 6, 5, 4, 3, 2, 1, 28, 34, 33, 32, 31, 30, 29, 7, 13, 12, 11, 10, 9, 8, 35, 41, 40, 39, 38, 37, 36, 14, 20, 19, 18, 17, 16, 15, 42, 48, 47, 46, 45, 44, 43, 21, 27, 26, 25, 24, 23, 22], [0, 0, 0, 0, 0, 0, 0, 35, 35, 35, 35, 35, 35, 35, 21, 21, 21, 21, 21, 21, 21, 7, 7, 7, 7, 7, 7, 7, 42, 42, 42, 42, 42, 42, 42, 28, 28, 28, 28, 28, 28, 28, 14, 14, 14, 14, 14, 14, 14], [0, 1, 2, 3, 4, 5, 6, 35, 36, 37, 38, 39, 40, 41, 21, 22, 23, 24, 25, 26, 27, 7, 8, 9, 10, 11, 12, 13, 42, 43, 44, 45, 46, 47, 48, 28, 29, 30, 31, 32, 33, 34, 14, 15, 16, 17, 18, 19, 20], [0, 2, 4, 6, 1, 3, 5, 35, 37, 39, 41, 36, 38, 40, 21, 23, 25, 27, 22, 24, 26, 7, 9, 11, 13, 8, 10, 12, 42, 44, 46, 48, 43, 45, 47, 28, 30, 32, 34, 29, 31, 33, 14, 16, 18, 20, 15, 17, 19], [0, 3, 6, 2, 5, 1, 4, 35, 38, 41, 37, 40, 36, 39, 21, 24, 27, 23, 26, 22, 25, 7, 10, 13, 9, 12, 8, 11, 42, 45, 48, 44, 47, 43, 46, 28, 31, 34, 30, 33, 29, 32, 14, 17, 20, 16, 19, 15, 18], [0, 4, 1, 5, 2, 6, 3, 35, 39, 36, 40, 37, 41, 38, 21, 25, 22, 26, 23, 27, 24, 7, 11, 8, 12, 9, 13, 10, 42, 46, 43, 47, 44, 48, 45, 28, 32, 29, 33, 30, 34, 31, 14, 18, 15, 19, 16, 20, 17], [0, 5, 3, 1, 6, 4, 2, 35, 40, 38, 36, 41, 39, 37, 21, 26, 24, 22, 27, 25, 23, 7, 12, 10, 8, 13, 11, 9, 42, 47, 45, 43, 48, 46, 44, 28, 33, 31, 29, 34, 32, 30, 14, 19, 17, 15, 20, 18, 16], [0, 6, 5, 4, 3, 2, 1, 35, 41, 40, 39, 38, 37, 36, 21, 27, 26, 25, 24, 23, 22, 7, 13, 12, 11, 10, 9, 8, 42, 48, 47, 46, 45, 44, 43, 28, 34, 33, 32, 31, 30, 29, 14, 20, 19, 18, 17, 16, 15], [0, 0, 0, 0, 0, 0, 0, 42, 42, 42, 42, 42, 42, 42, 35, 35, 35, 35, 35, 35, 35, 28, 28, 28, 28, 28, 28, 28, 21, 21, 21, 21, 21, 21, 21, 14, 14, 14, 14, 14, 14, 14, 7, 7, 7, 7, 7, 7, 7], [0, 1, 2, 3, 4, 5, 6, 42, 43, 44, 45, 46, 47, 48, 35, 36, 37, 38, 39, 40, 41, 28, 29, 30, 31, 32, 33, 34, 21, 22, 23, 24, 25, 26, 27, 14, 15, 16, 17, 18, 19, 20, 7, 8, 9, 10, 11, 12, 13], [0, 2, 4, 6, 1, 3, 5, 42, 44, 46, 48, 43, 45, 47, 35, 37, 39, 41, 36, 38, 40, 28, 30, 32, 34, 29, 31, 33, 21, 23, 25, 27, 22, 24, 26, 14, 16, 18, 20, 15, 17, 19, 7, 9, 11, 13, 8, 10, 12], [0, 3, 6, 2, 5, 1, 4, 42, 45, 48, 44, 47, 43, 46, 35, 38, 41, 37, 40, 36, 39, 28, 31, 34, 30, 33, 29, 32, 21, 24, 27, 23, 26, 22, 25, 14, 17, 20, 16, 19, 15, 18, 7, 10, 13, 9, 12, 8, 11], [0, 4, 1, 5, 2, 6, 3, 42, 46, 43, 47, 44, 48, 45, 35, 39, 36, 40, 37, 41, 38, 28, 32, 29, 33, 30, 34, 31, 21, 25, 22, 26, 23, 27, 24, 14, 18, 15, 19, 16, 20, 17, 7, 11, 8, 12, 9, 13, 10], [0, 5, 3, 1, 6, 4, 2, 42, 47, 45, 43, 48, 46, 44, 35, 40, 38, 36, 41, 39, 37, 28, 33, 31, 29, 34, 32, 30, 21, 26, 24, 22, 27, 25, 23, 14, 19, 17, 15, 20, 18, 16, 7, 12, 10, 8, 13, 11, 9], [0, 6, 5, 4, 3, 2, 1, 42, 48, 47, 46, 45, 44, 43, 35, 41, 40, 39, 38, 37, 36, 28, 34, 33, 32, 31, 30, 29, 21, 27, 26, 25, 24, 23, 22, 14, 20, 19, 18, 17, 16, 15, 7, 13, 12, 11, 10, 9, 8]]\n",
       ")"
      ]
     },
     "execution_count": 49,
     "metadata": {},
     "output_type": "execute_result"
    }
   ],
   "source": [
    "f7 * f7"
   ]
  },
  {
   "cell_type": "code",
   "execution_count": 50,
   "id": "9bf4b8de",
   "metadata": {},
   "outputs": [
    {
     "data": {
      "text/plain": [
       "Field(\n",
       "'F5',\n",
       "'Autogenerated Field of integers mod 5',\n",
       "['0', '1', '2', '3', '4'],\n",
       "[[0, 1, 2, 3, 4], [1, 2, 3, 4, 0], [2, 3, 4, 0, 1], [3, 4, 0, 1, 2], [4, 0, 1, 2, 3]],\n",
       "[[0, 0, 0, 0, 0], [0, 1, 2, 3, 4], [0, 2, 4, 1, 3], [0, 3, 1, 4, 2], [0, 4, 3, 2, 1]]\n",
       ")"
      ]
     },
     "execution_count": 50,
     "metadata": {},
     "output_type": "execute_result"
    }
   ],
   "source": [
    "f5 = alg.generate_algebra_mod_n(5, elem_name='')\n",
    "f5"
   ]
  },
  {
   "cell_type": "code",
   "execution_count": 51,
   "id": "f43e463c",
   "metadata": {},
   "outputs": [
    {
     "name": "stdout",
     "output_type": "stream",
     "text": [
      "\n",
      "** Ring **\n",
      "Name: F5_SQR\n",
      "Instance ID: 4848796752\n",
      "Description: Direct product of F5 with itself using complex multiplication\n",
      "Order: 25\n",
      "Identity: '0:0'\n",
      "Commutative? Yes\n",
      "Cyclic?: Yes\n",
      "  Generators: ['0:1', '0:2', '0:3', '0:4', '1:1', '1:4', '2:2', '2:3', '3:2', '3:3', '4:1', '4:4']\n",
      "Elements:\n",
      "   Index   Name   Inverse  Order\n",
      "      0   '0:0'   '0:0'       1\n",
      "      1   '0:1'   '0:4'       5\n",
      "      2   '0:2'   '0:3'       5\n",
      "      3   '0:3'   '0:2'       5\n",
      "      4   '0:4'   '0:1'       5\n",
      "      5   '1:0'   '4:0'       5\n",
      "      6   '1:1'   '4:4'       5\n",
      "      7   '1:2'   '4:3'       5\n",
      "      8   '1:3'   '4:2'       5\n",
      "      9   '1:4'   '4:1'       5\n",
      "     10   '2:0'   '3:0'       5\n",
      "     11   '2:1'   '3:4'       5\n",
      "     12   '2:2'   '3:3'       5\n",
      "     13   '2:3'   '3:2'       5\n",
      "     14   '2:4'   '3:1'       5\n",
      "     15   '3:0'   '2:0'       5\n",
      "     16   '3:1'   '2:4'       5\n",
      "     17   '3:2'   '2:3'       5\n",
      "     18   '3:3'   '2:2'       5\n",
      "     19   '3:4'   '2:1'       5\n",
      "     20   '4:0'   '1:0'       5\n",
      "     21   '4:1'   '1:4'       5\n",
      "     22   '4:2'   '1:3'       5\n",
      "     23   '4:3'   '1:2'       5\n",
      "     24   '4:4'   '1:1'       5\n",
      "Ring order is 25 > 12, so no further info calculated/printed.\n",
      "Mult. Identity: '1:0'\n",
      "Mult. Commutative? Yes\n",
      "Zero Divisors: ['1:2', '1:3', '2:1', '2:4', '3:1', '3:4', '4:2', '4:3']\n",
      "Ring order is 25 > 12, so no further info calculated/printed.\n"
     ]
    }
   ],
   "source": [
    "f5_sqr = f5.sqr()\n",
    "f5_sqr.about()"
   ]
  },
  {
   "cell_type": "code",
   "execution_count": 52,
   "id": "b7a799f4",
   "metadata": {},
   "outputs": [
    {
     "data": {
      "text/plain": [
       "'0:0'"
      ]
     },
     "execution_count": 52,
     "metadata": {},
     "output_type": "execute_result"
    }
   ],
   "source": [
    "f5_sqr.mult('1:2', '1:3')"
   ]
  },
  {
   "cell_type": "code",
   "execution_count": 53,
   "id": "f70b86fa",
   "metadata": {},
   "outputs": [
    {
     "data": {
      "text/plain": [
       "0"
      ]
     },
     "execution_count": 53,
     "metadata": {},
     "output_type": "execute_result"
    }
   ],
   "source": [
    "((1 * 1 % 5) - (2 * 3 % 5)) % 5"
   ]
  },
  {
   "cell_type": "code",
   "execution_count": 54,
   "id": "15c239c4",
   "metadata": {},
   "outputs": [
    {
     "data": {
      "text/plain": [
       "0"
      ]
     },
     "execution_count": 54,
     "metadata": {},
     "output_type": "execute_result"
    }
   ],
   "source": [
    "((1 * 3 % 5) + (2 * 1 % 5)) % 5"
   ]
  },
  {
   "cell_type": "code",
   "execution_count": 55,
   "id": "c8ebeb6f",
   "metadata": {},
   "outputs": [],
   "source": [
    "import os"
   ]
  },
  {
   "cell_type": "code",
   "execution_count": 57,
   "id": "c0ff07dc",
   "metadata": {},
   "outputs": [
    {
     "name": "stdout",
     "output_type": "stream",
     "text": [
      "F3_SQR\n",
      "F7_SQR\n",
      "F11_SQR\n",
      "F19_SQR\n",
      "F23_SQR\n",
      "CPU times: user 6min 29s, sys: 61.2 ms, total: 6min 29s\n",
      "Wall time: 6min 29s\n"
     ]
    }
   ],
   "source": [
    "%%time\n",
    "n = 24\n",
    "# n = 6\n",
    "print_out = True\n",
    "for i in range(1,n):\n",
    "    if alg.is_prime(i):\n",
    "        fi = alg.generate_algebra_mod_n(i, elem_name='')\n",
    "        fi_sqr = fi.sqr()\n",
    "        if isinstance(fi_sqr, alg.Field):\n",
    "            print(fi_sqr.name)\n",
    "            if print_out:\n",
    "                filename = os.path.join(alg_dir, fi_sqr.name + \".json\")\n",
    "                with open(filename, \"w\") as out:\n",
    "                    json.dump(fi_sqr.to_dict(), out, indent=4)"
   ]
  },
  {
   "cell_type": "code",
   "execution_count": null,
   "id": "5758f49e",
   "metadata": {},
   "outputs": [],
   "source": []
  }
 ],
 "metadata": {
  "kernelspec": {
   "display_name": "Python 3 (ipykernel)",
   "language": "python",
   "name": "python3"
  },
  "language_info": {
   "codemirror_mode": {
    "name": "ipython",
    "version": 3
   },
   "file_extension": ".py",
   "mimetype": "text/x-python",
   "name": "python",
   "nbconvert_exporter": "python",
   "pygments_lexer": "ipython3",
   "version": "3.11.5"
  }
 },
 "nbformat": 4,
 "nbformat_minor": 5
}
