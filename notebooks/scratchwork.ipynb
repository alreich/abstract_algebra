{
 "cells": [
  {
   "cell_type": "markdown",
   "id": "65753b6d",
   "metadata": {},
   "source": [
    "# Scratchwork"
   ]
  },
  {
   "cell_type": "code",
   "execution_count": 2,
   "id": "ad4120ea",
   "metadata": {},
   "outputs": [],
   "source": [
    "from finite_algebras import *\n",
    "from cayley_table import *\n",
    "from permutations import *\n",
    "from modules_and_vector_spaces import *"
   ]
  },
  {
   "cell_type": "code",
   "execution_count": 3,
   "id": "65b4dd57",
   "metadata": {},
   "outputs": [],
   "source": [
    "import os\n",
    "aa_path = os.path.join(os.getenv(\"PYPROJ\"), \"abstract_algebra\")\n",
    "alg_dir = os.path.join(aa_path, \"Algebras\")"
   ]
  },
  {
   "cell_type": "code",
   "execution_count": 4,
   "id": "b0eed9ba",
   "metadata": {},
   "outputs": [
    {
     "name": "stdout",
     "output_type": "stream",
     "text": [
      "======================================================================\n",
      "                           Example Algebras\n",
      "----------------------------------------------------------------------\n",
      "  15 example algebras are available.\n",
      "  Use \"get_example(INDEX)\" to retrieve a specific example,\n",
      "  where INDEX is the first number on each line below:\n",
      "----------------------------------------------------------------------\n",
      "0: A4 -- Alternating group on 4 letters (AKA Tetrahedral group)\n",
      "1: D3 -- https://en.wikipedia.org/wiki/Dihedral_group_of_order_6\n",
      "2: D4 -- Dihedral group on four vertices\n",
      "3: Pinter29 -- Non-abelian group, p.29, 'A Book of Abstract Algebra' by Charles C. Pinter\n",
      "4: RPS -- Rock, Paper, Scissors Magma\n",
      "5: S3 -- Symmetric group on 3 letters\n",
      "6: S3X -- Another version of the symmetric group on 3 letters\n",
      "7: V4 -- Klein-4 group\n",
      "8: Z4 -- Cyclic group of order 4\n",
      "9: F4 -- Field with 4 elements (from Wikipedia)\n",
      "10: mag_id -- Magma with Identity\n",
      "11: Example 1.4.1 -- See: Groupoids and Smarandache Groupoids by W. B. Vasantha Kandasamy\n",
      "12: Ex6 -- Example 6: http://www-groups.mcs.st-andrews.ac.uk/~john/MT4517/Lectures/L3.html\n",
      "13: Q8 -- Quaternion Group\n",
      "14: SD16 -- Semidihedral group of order 16\n",
      "======================================================================\n"
     ]
    }
   ],
   "source": [
    "ex = Examples(alg_dir)"
   ]
  },
  {
   "cell_type": "code",
   "execution_count": 6,
   "id": "515b4ac1",
   "metadata": {},
   "outputs": [
    {
     "name": "stdout",
     "output_type": "stream",
     "text": [
      "\n",
      "Semigroup: Example 1.4.1\n",
      "Instance ID: 140354042563856\n",
      "Description: See: Groupoids and Smarandache Groupoids by W. B. Vasantha Kandasamy\n",
      "Order: 6\n",
      "Elements: ['a', 'b', 'c', 'd', 'e', 'f']\n",
      "Identity: None\n",
      "Associative? Yes\n",
      "Commutative? No\n",
      "Has Inverses? No\n",
      "Cayley Table (showing indices):\n",
      "[[0, 3, 0, 3, 0, 3],\n",
      " [1, 4, 1, 4, 1, 4],\n",
      " [2, 5, 2, 5, 2, 5],\n",
      " [3, 0, 3, 0, 3, 0],\n",
      " [4, 1, 4, 1, 4, 1],\n",
      " [5, 2, 5, 2, 5, 2]]\n"
     ]
    }
   ],
   "source": [
    "sg = ex.get_example(11)\n",
    "sg.about()"
   ]
  },
  {
   "cell_type": "code",
   "execution_count": 7,
   "id": "1b3c807c",
   "metadata": {},
   "outputs": [
    {
     "name": "stdout",
     "output_type": "stream",
     "text": [
      "\n",
      "Subalgebras of <Semigroup:Example 1.4.1, ID:140354042563856>\n",
      "  There are 4 unique subalgebras, up to isomorphisms, out of 10 total subalgebras\n",
      "  as shown by the partitions below:\n",
      "\n",
      "3 Commutative Groups of Order 2:\n",
      "      Example 1.4.1_subalgebra_0: ['c', 'f'] with identity 'c'\n",
      "      Example 1.4.1_subalgebra_1: ['b', 'e'] with identity 'e'\n",
      "      Example 1.4.1_subalgebra_5: ['a', 'd'] with identity 'a'\n",
      "\n",
      "3 Semigroups of Order 4:\n",
      "      Example 1.4.1_subalgebra_2: ['a', 'c', 'd', 'f']\n",
      "      Example 1.4.1_subalgebra_6: ['b', 'c', 'e', 'f']\n",
      "      Example 1.4.1_subalgebra_9: ['a', 'b', 'd', 'e']\n",
      "\n",
      "1 Semigroup of Order 3:\n",
      "      Example 1.4.1_subalgebra_3: ['a', 'c', 'e']\n",
      "\n",
      "3 Semigroups of Order 2:\n",
      "      Example 1.4.1_subalgebra_4: ['a', 'c']\n",
      "      Example 1.4.1_subalgebra_7: ['a', 'e']\n",
      "      Example 1.4.1_subalgebra_8: ['c', 'e']\n",
      "\n"
     ]
    }
   ],
   "source": [
    "alg = sg\n",
    "alg_subs = alg.proper_subalgebras()\n",
    "partitions = partition_into_isomorphic_lists(alg_subs)\n",
    "about_isomorphic_partitions(sg, partitions)"
   ]
  },
  {
   "cell_type": "code",
   "execution_count": null,
   "id": "021064a4",
   "metadata": {},
   "outputs": [],
   "source": []
  },
  {
   "cell_type": "code",
   "execution_count": 13,
   "id": "5c882a4e",
   "metadata": {},
   "outputs": [
    {
     "name": "stdout",
     "output_type": "stream",
     "text": [
      "\n",
      "Group: A4\n",
      "Instance ID: 140354843816592\n",
      "Description: Alternating group on 4 letters (AKA Tetrahedral group)\n",
      "Order: 12\n",
      "Identity: ()\n",
      "Associative? Yes\n",
      "Commutative? No\n",
      "Elements:\n",
      "   Index   Name   Inverse  Order\n",
      "      0      ()      ()       1\n",
      "      1 (1 3 2) (1 2 3)       3\n",
      "      2 (1 2 3) (1 3 2)       3\n",
      "      3 (0 1)(2 3) (0 1)(2 3)       2\n",
      "      4 (0 1 2) (0 2 1)       3\n",
      "      5 (0 1 3) (0 3 1)       3\n",
      "      6 (0 3 1) (0 1 3)       3\n",
      "      7 (0 3 2) (0 2 3)       3\n",
      "      8 (0 3)(1 2) (0 3)(1 2)       2\n",
      "      9 (0 2 3) (0 3 2)       3\n",
      "     10 (0 2 1) (0 1 2)       3\n",
      "     11 (0 2)(1 3) (0 2)(1 3)       2\n",
      "Cayley Table (showing indices):\n",
      "[[0, 1, 2, 3, 4, 5, 6, 7, 8, 9, 10, 11],\n",
      " [1, 2, 0, 6, 7, 8, 10, 11, 9, 5, 3, 4],\n",
      " [2, 0, 1, 10, 11, 9, 3, 4, 5, 8, 6, 7],\n",
      " [3, 4, 5, 0, 1, 2, 9, 10, 11, 6, 7, 8],\n",
      " [4, 5, 3, 9, 10, 11, 7, 8, 6, 2, 0, 1],\n",
      " [5, 3, 4, 7, 8, 6, 0, 1, 2, 11, 9, 10],\n",
      " [6, 7, 8, 1, 2, 0, 5, 3, 4, 10, 11, 9],\n",
      " [7, 8, 6, 5, 3, 4, 11, 9, 10, 0, 1, 2],\n",
      " [8, 6, 7, 11, 9, 10, 1, 2, 0, 4, 5, 3],\n",
      " [9, 10, 11, 4, 5, 3, 2, 0, 1, 7, 8, 6],\n",
      " [10, 11, 9, 2, 0, 1, 8, 6, 7, 3, 4, 5],\n",
      " [11, 9, 10, 8, 6, 7, 4, 5, 3, 1, 2, 0]]\n"
     ]
    }
   ],
   "source": [
    "a4 = ex.get_example(0)\n",
    "a4.about()"
   ]
  },
  {
   "cell_type": "code",
   "execution_count": 14,
   "id": "59b1eac5",
   "metadata": {},
   "outputs": [
    {
     "name": "stdout",
     "output_type": "stream",
     "text": [
      "\n",
      "Subalgebras of <Group:A4, ID:140354843816592>\n",
      "  There are 3 unique subalgebras, up to isomorphisms, out of 8 total subalgebras\n",
      "  as shown by the partitions below:\n",
      "\n",
      "4 Commutative Groups of Order 3 with identity '()':\n",
      "      A4_subalgebra_0: ['()', '(1 3 2)', '(1 2 3)']\n",
      "      A4_subalgebra_2: ['()', '(0 1 3)', '(0 3 1)']\n",
      "      A4_subalgebra_4: ['()', '(0 1 2)', '(0 2 1)']\n",
      "      A4_subalgebra_6: ['()', '(0 3 2)', '(0 2 3)']\n",
      "\n",
      "3 Commutative Groups of Order 2 with identity '()':\n",
      "      A4_subalgebra_1: ['()', '(0 1)(2 3)']\n",
      "      A4_subalgebra_3: ['()', '(0 3)(1 2)']\n",
      "      A4_subalgebra_5: ['()', '(0 2)(1 3)']\n",
      "\n",
      "1 Commutative Normal Group of Order 4 with identity '()':\n",
      "      A4_subalgebra_7: ['()', '(0 1)(2 3)', '(0 3)(1 2)', '(0 2)(1 3)']\n",
      "\n"
     ]
    }
   ],
   "source": [
    "alg = a4\n",
    "alg_subs = alg.proper_subalgebras(divisors_only=False, include_inverses=False)\n",
    "partitions = partition_into_isomorphic_lists(alg_subs)\n",
    "about_isomorphic_partitions(alg, partitions)"
   ]
  },
  {
   "cell_type": "code",
   "execution_count": null,
   "id": "9c7d2c0e",
   "metadata": {},
   "outputs": [],
   "source": []
  },
  {
   "cell_type": "code",
   "execution_count": null,
   "id": "6af72991",
   "metadata": {},
   "outputs": [],
   "source": []
  },
  {
   "cell_type": "code",
   "execution_count": 15,
   "id": "0d423489",
   "metadata": {},
   "outputs": [
    {
     "name": "stdout",
     "output_type": "stream",
     "text": [
      "\n",
      "Field: F4\n",
      "Instance ID: 140353230866640\n",
      "Description: Field with 4 elements (from Wikipedia)\n",
      "Order: 4\n",
      "Identity: 0\n",
      "Associative? Yes\n",
      "Commutative? Yes\n",
      "Elements:\n",
      "   Index   Name   Inverse  Order\n",
      "      0       0       0       1\n",
      "      1       1       1       2\n",
      "      2       a       a       2\n",
      "      3     1+a     1+a       2\n",
      "Cayley Table (showing indices):\n",
      "[[0, 1, 2, 3], [1, 0, 3, 2], [2, 3, 0, 1], [3, 2, 1, 0]]\n",
      "Mult. Identity: 1\n",
      "Mult. Commutative? Yes\n",
      "Multiplicative Cayley Table (showing indices):\n",
      "[[0, 0, 0, 0], [0, 1, 2, 3], [0, 2, 3, 1], [0, 3, 1, 2]]\n"
     ]
    }
   ],
   "source": [
    "f4 = ex.get_example(9)\n",
    "f4.about()"
   ]
  },
  {
   "cell_type": "code",
   "execution_count": 16,
   "id": "8409758b",
   "metadata": {},
   "outputs": [
    {
     "name": "stdout",
     "output_type": "stream",
     "text": [
      "\n",
      "Subalgebras of <Field:F4, ID:140353230866640>\n",
      "  There are 1 unique subalgebras, up to isomorphisms, out of 3 total subalgebras\n",
      "  as shown by the partitions below:\n",
      "\n",
      "3 Commutative Normal Groups of Order 2 with identity '0':\n",
      "      F4_subalgebra_0: ['0', '1+a']\n",
      "      F4_subalgebra_1: ['0', 'a']\n",
      "      F4_subalgebra_2: ['0', '1']\n",
      "\n"
     ]
    }
   ],
   "source": [
    "alg = f4\n",
    "alg_subs = alg.proper_subalgebras()\n",
    "partitions = partition_into_isomorphic_lists(alg_subs)\n",
    "about_isomorphic_partitions(alg, partitions)"
   ]
  },
  {
   "cell_type": "code",
   "execution_count": null,
   "id": "1e5412b4",
   "metadata": {},
   "outputs": [],
   "source": []
  },
  {
   "cell_type": "code",
   "execution_count": null,
   "id": "7156182f",
   "metadata": {},
   "outputs": [],
   "source": []
  },
  {
   "cell_type": "code",
   "execution_count": 47,
   "id": "8e44eaf0",
   "metadata": {},
   "outputs": [
    {
     "name": "stdout",
     "output_type": "stream",
     "text": [
      "\n",
      "Ring: Ex6\n",
      "Instance ID: 140354042564496\n",
      "Description: Example 6: http://www-groups.mcs.st-andrews.ac.uk/~john/MT4517/Lectures/L3.html\n",
      "Order: 4\n",
      "Identity: 0\n",
      "Associative? Yes\n",
      "Commutative? Yes\n",
      "Elements:\n",
      "   Index   Name   Inverse  Order\n",
      "      0       0       0       1\n",
      "      1       a       a       2\n",
      "      2       b       b       2\n",
      "      3       c       c       2\n",
      "Cayley Table (showing indices):\n",
      "[[0, 1, 2, 3], [1, 0, 3, 2], [2, 3, 0, 1], [3, 2, 1, 0]]\n",
      "Mult. Identity: None\n",
      "Mult. Commutative? No\n",
      "Multiplicative Cayley Table (showing indices):\n",
      "[[0, 0, 0, 0], [0, 0, 1, 1], [0, 0, 2, 2], [0, 0, 3, 3]]\n"
     ]
    }
   ],
   "source": [
    "ex6 = ex.get_example(12)\n",
    "ex6.about()"
   ]
  },
  {
   "cell_type": "code",
   "execution_count": 46,
   "id": "1e7de0bc",
   "metadata": {},
   "outputs": [
    {
     "name": "stdout",
     "output_type": "stream",
     "text": [
      "\n",
      "Subalgebras of <Ring:Ex6, ID:140354042564496>\n",
      "  There are 1 unique subalgebras, up to isomorphisms, out of 3 total subalgebras\n",
      "  as shown by the partitions below:\n",
      "\n",
      "3 Commutative Normal Groups of Order 2 with identity '0':\n",
      "      Ex6_subalgebra_0: ['0', 'b']\n",
      "      Ex6_subalgebra_1: ['0', 'c']\n",
      "      Ex6_subalgebra_2: ['0', 'a']\n",
      "\n"
     ]
    }
   ],
   "source": [
    "alg = ex6\n",
    "alg_subs = alg.proper_subalgebras()\n",
    "partitions = partition_into_isomorphic_lists(alg_subs)\n",
    "about_isomorphic_partitions(alg, partitions)"
   ]
  },
  {
   "cell_type": "code",
   "execution_count": null,
   "id": "2f33f96f",
   "metadata": {},
   "outputs": [],
   "source": []
  },
  {
   "cell_type": "code",
   "execution_count": 18,
   "id": "d25612f2",
   "metadata": {},
   "outputs": [
    {
     "data": {
      "text/plain": [
       "16"
      ]
     },
     "execution_count": 18,
     "metadata": {},
     "output_type": "execute_result"
    }
   ],
   "source": [
    "psr = generate_powerset_group(4)\n",
    "psr.order"
   ]
  },
  {
   "cell_type": "code",
   "execution_count": 19,
   "id": "6c12159c",
   "metadata": {},
   "outputs": [
    {
     "name": "stdout",
     "output_type": "stream",
     "text": [
      "\n",
      "Group: PS4\n",
      "Instance ID: 140353230879888\n",
      "Description: Autogenerated Group on the powerset of 4 elements, with symmetric difference operator\n",
      "Order: 16\n",
      "Identity: {}\n",
      "Associative? Yes\n",
      "Commutative? Yes\n",
      "Elements:\n",
      "   Index   Name   Inverse  Order\n",
      "      0      {}      {}       1\n",
      "      1     {0}     {0}       2\n",
      "      2     {1}     {1}       2\n",
      "      3     {2}     {2}       2\n",
      "      4     {3}     {3}       2\n",
      "      5  {0, 1}  {0, 1}       2\n",
      "      6  {0, 2}  {0, 2}       2\n",
      "      7  {0, 3}  {0, 3}       2\n",
      "      8  {1, 2}  {1, 2}       2\n",
      "      9  {1, 3}  {1, 3}       2\n",
      "     10  {2, 3}  {2, 3}       2\n",
      "     11 {0, 1, 2} {0, 1, 2}       2\n",
      "     12 {0, 1, 3} {0, 1, 3}       2\n",
      "     13 {0, 2, 3} {0, 2, 3}       2\n",
      "     14 {1, 2, 3} {1, 2, 3}       2\n",
      "     15 {0, 1, 2, 3} {0, 1, 2, 3}       2\n",
      "Group order is 16 > 12, so no further info calculated/printed.\n"
     ]
    }
   ],
   "source": [
    "psr.about()"
   ]
  },
  {
   "cell_type": "code",
   "execution_count": 20,
   "id": "ffc64aa0",
   "metadata": {},
   "outputs": [
    {
     "name": "stdout",
     "output_type": "stream",
     "text": [
      "\n",
      "Subalgebras of <Group:PS4, ID:140353230879888>\n",
      "  There are 3 unique subalgebras, up to isomorphisms, out of 65 total subalgebras\n",
      "  as shown by the partitions below:\n",
      "\n",
      "35 Commutative Normal Groups of Order 4 with identity '{}':\n",
      "      PS4_subalgebra_0: ['{}', '{2}', '{0, 1, 3}', '{0, 1, 2, 3}']\n",
      "      PS4_subalgebra_1: ['{}', '{2}', '{1, 3}', '{1, 2, 3}']\n",
      "      PS4_subalgebra_2: ['{}', '{0}', '{1}', '{0, 1}']\n",
      "      PS4_subalgebra_4: ['{}', '{0}', '{1, 2}', '{0, 1, 2}']\n",
      "      PS4_subalgebra_8: ['{}', '{0, 1}', '{0, 2, 3}', '{1, 2, 3}']\n",
      "      PS4_subalgebra_10: ['{}', '{0, 1}', '{0, 2}', '{1, 2}']\n",
      "      PS4_subalgebra_13: ['{}', '{1}', '{0, 2}', '{0, 1, 2}']\n",
      "      PS4_subalgebra_18: ['{}', '{0}', '{1, 2, 3}', '{0, 1, 2, 3}']\n",
      "      PS4_subalgebra_19: ['{}', '{1, 3}', '{0, 1, 2}', '{0, 2, 3}']\n",
      "      PS4_subalgebra_20: ['{}', '{3}', '{0, 1}', '{0, 1, 3}']\n",
      "      PS4_subalgebra_21: ['{}', '{0, 2}', '{0, 1, 3}', '{1, 2, 3}']\n",
      "      PS4_subalgebra_22: ['{}', '{3}', '{0, 1, 2}', '{0, 1, 2, 3}']\n",
      "      PS4_subalgebra_25: ['{}', '{0, 2}', '{0, 3}', '{2, 3}']\n",
      "      PS4_subalgebra_27: ['{}', '{2}', '{3}', '{2, 3}']\n",
      "      PS4_subalgebra_29: ['{}', '{1}', '{3}', '{1, 3}']\n",
      "      PS4_subalgebra_31: ['{}', '{0, 3}', '{1, 2}', '{0, 1, 2, 3}']\n",
      "      PS4_subalgebra_33: ['{}', '{2}', '{0, 1}', '{0, 1, 2}']\n",
      "      PS4_subalgebra_35: ['{}', '{1}', '{0, 2, 3}', '{0, 1, 2, 3}']\n",
      "      PS4_subalgebra_36: ['{}', '{0, 1}', '{0, 3}', '{1, 3}']\n",
      "      PS4_subalgebra_37: ['{}', '{0}', '{1, 3}', '{0, 1, 3}']\n",
      "      PS4_subalgebra_38: ['{}', '{1}', '{2, 3}', '{1, 2, 3}']\n",
      "      PS4_subalgebra_39: ['{}', '{0, 1}', '{2, 3}', '{0, 1, 2, 3}']\n",
      "      PS4_subalgebra_42: ['{}', '{0}', '{2}', '{0, 2}']\n",
      "      PS4_subalgebra_45: ['{}', '{1}', '{0, 3}', '{0, 1, 3}']\n",
      "      PS4_subalgebra_47: ['{}', '{0}', '{3}', '{0, 3}']\n",
      "      PS4_subalgebra_49: ['{}', '{3}', '{1, 2}', '{1, 2, 3}']\n",
      "      PS4_subalgebra_50: ['{}', '{1}', '{2}', '{1, 2}']\n",
      "      PS4_subalgebra_51: ['{}', '{1, 2}', '{1, 3}', '{2, 3}']\n",
      "      PS4_subalgebra_53: ['{}', '{0, 3}', '{0, 1, 2}', '{1, 2, 3}']\n",
      "      PS4_subalgebra_54: ['{}', '{1, 2}', '{0, 1, 3}', '{0, 2, 3}']\n",
      "      PS4_subalgebra_56: ['{}', '{2}', '{0, 3}', '{0, 2, 3}']\n",
      "      PS4_subalgebra_57: ['{}', '{0, 2}', '{1, 3}', '{0, 1, 2, 3}']\n",
      "      PS4_subalgebra_60: ['{}', '{3}', '{0, 2}', '{0, 2, 3}']\n",
      "      PS4_subalgebra_61: ['{}', '{2, 3}', '{0, 1, 2}', '{0, 1, 3}']\n",
      "      PS4_subalgebra_63: ['{}', '{0}', '{2, 3}', '{0, 2, 3}']\n",
      "\n",
      "15 Commutative Normal Groups of Order 8 with identity '{}':\n",
      "      PS4_subalgebra_3: ['{}', '{1}', '{3}', '{0, 2}', '{1, 3}', '{0, 1, 2}', '{0, 2, 3}', '{0, 1, 2, 3}']\n",
      "      PS4_subalgebra_5: ['{}', '{3}', '{0, 1}', '{0, 2}', '{1, 2}', '{0, 1, 3}', '{0, 2, 3}', '{1, 2, 3}']\n",
      "      PS4_subalgebra_6: ['{}', '{2}', '{3}', '{0, 1}', '{2, 3}', '{0, 1, 2}', '{0, 1, 3}', '{0, 1, 2, 3}']\n",
      "      PS4_subalgebra_9: ['{}', '{1}', '{2}', '{0, 3}', '{1, 2}', '{0, 1, 3}', '{0, 2, 3}', '{0, 1, 2, 3}']\n",
      "      PS4_subalgebra_14: ['{}', '{2}', '{0, 1}', '{0, 3}', '{1, 3}', '{0, 1, 2}', '{0, 2, 3}', '{1, 2, 3}']\n",
      "      PS4_subalgebra_17: ['{}', '{0}', '{1}', '{2}', '{0, 1}', '{0, 2}', '{1, 2}', '{0, 1, 2}']\n",
      "      PS4_subalgebra_24: ['{}', '{0}', '{1}', '{3}', '{0, 1}', '{0, 3}', '{1, 3}', '{0, 1, 3}']\n",
      "      PS4_subalgebra_30: ['{}', '{0}', '{2}', '{0, 2}', '{1, 3}', '{0, 1, 3}', '{1, 2, 3}', '{0, 1, 2, 3}']\n",
      "      PS4_subalgebra_32: ['{}', '{0}', '{3}', '{0, 3}', '{1, 2}', '{0, 1, 2}', '{1, 2, 3}', '{0, 1, 2, 3}']\n",
      "      PS4_subalgebra_34: ['{}', '{0}', '{1}', '{0, 1}', '{2, 3}', '{0, 2, 3}', '{1, 2, 3}', '{0, 1, 2, 3}']\n",
      "      PS4_subalgebra_40: ['{}', '{1}', '{0, 2}', '{0, 3}', '{2, 3}', '{0, 1, 2}', '{0, 1, 3}', '{1, 2, 3}']\n",
      "      PS4_subalgebra_43: ['{}', '{0}', '{2}', '{3}', '{0, 2}', '{0, 3}', '{2, 3}', '{0, 2, 3}']\n",
      "      PS4_subalgebra_48: ['{}', '{1}', '{2}', '{3}', '{1, 2}', '{1, 3}', '{2, 3}', '{1, 2, 3}']\n",
      "      PS4_subalgebra_52: ['{}', '{0}', '{1, 2}', '{1, 3}', '{2, 3}', '{0, 1, 2}', '{0, 1, 3}', '{0, 2, 3}']\n",
      "      PS4_subalgebra_64: ['{}', '{0, 1}', '{0, 2}', '{0, 3}', '{1, 2}', '{1, 3}', '{2, 3}', '{0, 1, 2, 3}']\n",
      "\n",
      "15 Commutative Normal Groups of Order 2 with identity '{}':\n",
      "      PS4_subalgebra_7: ['{}', '{1}']\n",
      "      PS4_subalgebra_11: ['{}', '{3}']\n",
      "      PS4_subalgebra_12: ['{}', '{0, 1, 2, 3}']\n",
      "      PS4_subalgebra_15: ['{}', '{0, 3}']\n",
      "      PS4_subalgebra_16: ['{}', '{0, 1, 3}']\n",
      "      PS4_subalgebra_23: ['{}', '{0, 1, 2}']\n",
      "      PS4_subalgebra_26: ['{}', '{0, 2}']\n",
      "      PS4_subalgebra_28: ['{}', '{2, 3}']\n",
      "      PS4_subalgebra_41: ['{}', '{0}']\n",
      "      PS4_subalgebra_44: ['{}', '{0, 2, 3}']\n",
      "      PS4_subalgebra_46: ['{}', '{1, 2, 3}']\n",
      "      PS4_subalgebra_55: ['{}', '{1, 3}']\n",
      "      PS4_subalgebra_58: ['{}', '{0, 1}']\n",
      "      PS4_subalgebra_59: ['{}', '{1, 2}']\n",
      "      PS4_subalgebra_62: ['{}', '{2}']\n",
      "\n"
     ]
    }
   ],
   "source": [
    "alg = psr\n",
    "alg_subs = alg.proper_subalgebras()\n",
    "partitions = partition_into_isomorphic_lists(alg_subs)\n",
    "about_isomorphic_partitions(alg, partitions)"
   ]
  },
  {
   "cell_type": "raw",
   "id": "40f660b3",
   "metadata": {},
   "source": [
    "alg = psr\n",
    "alg_subs = alg.proper_subalgebras(divisors_only=False, include_inverses=False)\n",
    "partitions = partition_into_isomorphic_lists(alg_subs)\n",
    "about_isomorphic_partitions(alg, partitions)"
   ]
  },
  {
   "cell_type": "code",
   "execution_count": 21,
   "id": "9489b6ec",
   "metadata": {},
   "outputs": [],
   "source": [
    "# %time foo1 = psr.closed_subsets_of_elements(False)"
   ]
  },
  {
   "cell_type": "code",
   "execution_count": 22,
   "id": "a404ac13",
   "metadata": {},
   "outputs": [],
   "source": [
    "# {len(x) for x in foo1}"
   ]
  },
  {
   "cell_type": "code",
   "execution_count": 23,
   "id": "7269ece8",
   "metadata": {},
   "outputs": [],
   "source": [
    "# %time foo2 = psr.closed_subsets_of_elements(True)"
   ]
  },
  {
   "cell_type": "code",
   "execution_count": 24,
   "id": "97fc9a0d",
   "metadata": {},
   "outputs": [],
   "source": [
    "# {len(x) for x in foo2}"
   ]
  },
  {
   "cell_type": "code",
   "execution_count": null,
   "id": "9445ebb9",
   "metadata": {},
   "outputs": [],
   "source": []
  },
  {
   "cell_type": "code",
   "execution_count": 25,
   "id": "368df26d",
   "metadata": {},
   "outputs": [],
   "source": [
    "# %time psr_subs = psr.unique_proper_subgroups()"
   ]
  },
  {
   "cell_type": "code",
   "execution_count": 26,
   "id": "4a5585ed",
   "metadata": {},
   "outputs": [],
   "source": [
    "# [psr_sub.order for psr_sub in psr_subs]"
   ]
  },
  {
   "cell_type": "code",
   "execution_count": null,
   "id": "d3c5edc1",
   "metadata": {},
   "outputs": [],
   "source": []
  },
  {
   "cell_type": "code",
   "execution_count": null,
   "id": "ddd79433",
   "metadata": {},
   "outputs": [],
   "source": []
  },
  {
   "cell_type": "code",
   "execution_count": 27,
   "id": "39a57b0e",
   "metadata": {},
   "outputs": [
    {
     "name": "stdout",
     "output_type": "stream",
     "text": [
      "\n",
      "Group: Q8\n",
      "Instance ID: 140354042561040\n",
      "Description: Quaternion Group\n",
      "Order: 8\n",
      "Identity: 1\n",
      "Associative? Yes\n",
      "Commutative? No\n",
      "Elements:\n",
      "   Index   Name   Inverse  Order\n",
      "      0       1       1       1\n",
      "      1       i      -i       4\n",
      "      2      -1      -1       2\n",
      "      3      -i       i       4\n",
      "      4       j      -j       4\n",
      "      5       k      -k       4\n",
      "      6      -j       j       4\n",
      "      7      -k       k       4\n",
      "Cayley Table (showing indices):\n",
      "[[0, 1, 2, 3, 4, 5, 6, 7],\n",
      " [1, 2, 3, 0, 7, 4, 5, 6],\n",
      " [2, 3, 0, 1, 6, 7, 4, 5],\n",
      " [3, 0, 1, 2, 5, 6, 7, 4],\n",
      " [4, 5, 6, 7, 2, 3, 0, 1],\n",
      " [5, 6, 7, 4, 1, 2, 3, 0],\n",
      " [6, 7, 4, 5, 0, 1, 2, 3],\n",
      " [7, 4, 5, 6, 3, 0, 1, 2]]\n"
     ]
    }
   ],
   "source": [
    "q8 = ex.get_example(13)\n",
    "q8.about()"
   ]
  },
  {
   "cell_type": "code",
   "execution_count": 28,
   "id": "b49a202c",
   "metadata": {},
   "outputs": [
    {
     "name": "stdout",
     "output_type": "stream",
     "text": [
      "\n",
      "Subalgebras of <Group:Q8, ID:140354042561040>\n",
      "  There are 2 unique subalgebras, up to isomorphisms, out of 4 total subalgebras\n",
      "  as shown by the partitions below:\n",
      "\n",
      "3 Commutative Normal Groups of Order 4 with identity '1':\n",
      "      Q8_subalgebra_0: ['1', 'i', '-1', '-i']\n",
      "      Q8_subalgebra_1: ['1', '-1', 'j', '-j']\n",
      "      Q8_subalgebra_2: ['1', '-1', 'k', '-k']\n",
      "\n",
      "1 Commutative Normal Group of Order 2 with identity '1':\n",
      "      Q8_subalgebra_3: ['1', '-1']\n",
      "\n"
     ]
    }
   ],
   "source": [
    "alg = q8\n",
    "alg_subs = alg.proper_subalgebras()\n",
    "partitions = partition_into_isomorphic_lists(alg_subs)\n",
    "about_isomorphic_partitions(alg, partitions)"
   ]
  },
  {
   "cell_type": "code",
   "execution_count": null,
   "id": "a564362f",
   "metadata": {},
   "outputs": [],
   "source": []
  },
  {
   "cell_type": "code",
   "execution_count": 29,
   "id": "ca15c6f1",
   "metadata": {},
   "outputs": [
    {
     "name": "stdout",
     "output_type": "stream",
     "text": [
      "\n",
      "Group: SD16\n",
      "Instance ID: 140353230939152\n",
      "Description: Semidihedral group of order 16\n",
      "Order: 16\n",
      "Identity: e\n",
      "Associative? Yes\n",
      "Commutative? No\n",
      "Elements:\n",
      "   Index   Name   Inverse  Order\n",
      "      0       e       e       1\n",
      "      1       t       t       2\n",
      "      2       s  ts^2ts       8\n",
      "      3      st   s^2ts       4\n",
      "      4     s^2   ts^2t       4\n",
      "      5    s^2t    s^2t       2\n",
      "      6     tst  tsts^2       8\n",
      "      7      ts   sts^2       4\n",
      "      8    tsts    tsts       2\n",
      "      9     sts     sts       2\n",
      "     10  tsts^2     tst       8\n",
      "     11   s^2ts      st       4\n",
      "     12   ts^2t     s^2       4\n",
      "     13    ts^2    ts^2       2\n",
      "     14  ts^2ts       s       8\n",
      "     15   sts^2      ts       4\n",
      "Cayley Table (showing indices):\n",
      "[[0, 1, 2, 3, 4, 5, 6, 7, 8, 9, 10, 11, 12, 13, 14, 15],\n",
      " [1, 0, 7, 6, 13, 12, 3, 2, 9, 8, 15, 14, 5, 4, 11, 10],\n",
      " [2, 3, 4, 5, 6, 7, 8, 9, 10, 11, 12, 13, 14, 15, 0, 1],\n",
      " [3, 2, 9, 8, 15, 14, 5, 4, 11, 10, 1, 0, 7, 6, 13, 12],\n",
      " [4, 5, 6, 7, 8, 9, 10, 11, 12, 13, 14, 15, 0, 1, 2, 3],\n",
      " [5, 4, 11, 10, 1, 0, 7, 6, 13, 12, 3, 2, 9, 8, 15, 14],\n",
      " [6, 7, 8, 9, 10, 11, 12, 13, 14, 15, 0, 1, 2, 3, 4, 5],\n",
      " [7, 6, 13, 12, 3, 2, 9, 8, 15, 14, 5, 4, 11, 10, 1, 0],\n",
      " [8, 9, 10, 11, 12, 13, 14, 15, 0, 1, 2, 3, 4, 5, 6, 7],\n",
      " [9, 8, 15, 14, 5, 4, 11, 10, 1, 0, 7, 6, 13, 12, 3, 2],\n",
      " [10, 11, 12, 13, 14, 15, 0, 1, 2, 3, 4, 5, 6, 7, 8, 9],\n",
      " [11, 10, 1, 0, 7, 6, 13, 12, 3, 2, 9, 8, 15, 14, 5, 4],\n",
      " [12, 13, 14, 15, 0, 1, 2, 3, 4, 5, 6, 7, 8, 9, 10, 11],\n",
      " [13, 12, 3, 2, 9, 8, 15, 14, 5, 4, 11, 10, 1, 0, 7, 6],\n",
      " [14, 15, 0, 1, 2, 3, 4, 5, 6, 7, 8, 9, 10, 11, 12, 13],\n",
      " [15, 14, 5, 4, 11, 10, 1, 0, 7, 6, 13, 12, 3, 2, 9, 8]]\n"
     ]
    }
   ],
   "source": [
    "sd16 = ex.get_example(14)\n",
    "sd16.about(max_size=16)"
   ]
  },
  {
   "cell_type": "code",
   "execution_count": 30,
   "id": "dd5ad9e9",
   "metadata": {},
   "outputs": [
    {
     "name": "stdout",
     "output_type": "stream",
     "text": [
      "\n",
      "Subalgebras of <Group:SD16, ID:140353230939152>\n",
      "  There are 6 unique subalgebras, up to isomorphisms, out of 13 total subalgebras\n",
      "  as shown by the partitions below:\n",
      "\n",
      "5 Commutative Groups of Order 2 with identity 'e':\n",
      "      SD16_subalgebra_0: ['e', 'sts']\n",
      "      SD16_subalgebra_7: ['e', 's^2t']\n",
      "      SD16_subalgebra_8: ['e', 't']\n",
      "      SD16_subalgebra_9: ['e', 'ts^2']\n",
      "      SD16_subalgebra_12: ['e', 'tsts']\n",
      "\n",
      "1 Normal Group of Order 8 with identity 'e':\n",
      "      SD16_subalgebra_1: ['e', 't', 's^2', 's^2t', 'tsts', 'sts', 'ts^2t', 'ts^2']\n",
      "\n",
      "2 Commutative Groups of Order 4 with identity 'e':\n",
      "      SD16_subalgebra_2: ['e', 's^2t', 'tsts', 'ts^2']\n",
      "      SD16_subalgebra_6: ['e', 't', 'tsts', 'sts']\n",
      "\n",
      "3 Commutative Groups of Order 4 with identity 'e':\n",
      "      SD16_subalgebra_3: ['e', 'st', 'tsts', 's^2ts']\n",
      "      SD16_subalgebra_10: ['e', 'ts', 'tsts', 'sts^2']\n",
      "      SD16_subalgebra_11: ['e', 's^2', 'tsts', 'ts^2t']\n",
      "\n",
      "1 Commutative Normal Group of Order 8 with identity 'e':\n",
      "      SD16_subalgebra_4: ['e', 's', 's^2', 'tst', 'tsts', 'tsts^2', 'ts^2t', 'ts^2ts']\n",
      "\n",
      "1 Normal Group of Order 8 with identity 'e':\n",
      "      SD16_subalgebra_5: ['e', 'st', 's^2', 'ts', 'tsts', 's^2ts', 'ts^2t', 'sts^2']\n",
      "\n"
     ]
    }
   ],
   "source": [
    "alg = sd16\n",
    "alg_subs = alg.proper_subalgebras()\n",
    "partitions = partition_into_isomorphic_lists(alg_subs)\n",
    "about_isomorphic_partitions(alg, partitions)"
   ]
  },
  {
   "cell_type": "code",
   "execution_count": null,
   "id": "4ff32f31",
   "metadata": {},
   "outputs": [],
   "source": []
  },
  {
   "cell_type": "code",
   "execution_count": null,
   "id": "eca245b8",
   "metadata": {},
   "outputs": [],
   "source": []
  },
  {
   "cell_type": "code",
   "execution_count": 31,
   "id": "2c89a91d",
   "metadata": {},
   "outputs": [],
   "source": [
    "def closure(alg, subset_of_elements, include_inverses):\n",
    "\n",
    "    result = set(subset_of_elements)\n",
    "\n",
    "    # Include inverses, maybe.\n",
    "    if include_inverses and alg.has_inverses():\n",
    "        for elem in subset_of_elements:\n",
    "            result.add(alg.inv(elem))\n",
    "\n",
    "    # Add the products of all possible pairs\n",
    "    for pair in it.product(result, result):\n",
    "        result.add(alg.op(*pair))\n",
    "\n",
    "    # If the input set of elements increased, recurse ...\n",
    "    if len(result) > len(subset_of_elements):\n",
    "        return alg.closure(list(result), include_inverses)\n",
    "\n",
    "    # ...otherwise, stop and return the result\n",
    "    else:\n",
    "        return list(result)"
   ]
  },
  {
   "cell_type": "code",
   "execution_count": 42,
   "id": "d76ddfcd",
   "metadata": {},
   "outputs": [],
   "source": [
    "def ring_closure(ring, subset_of_elements, include_inverses):\n",
    "\n",
    "    result = set(subset_of_elements)\n",
    "\n",
    "    # Include inverses, maybe.\n",
    "    if include_inverses and ring.has_inverses():\n",
    "        for elem in subset_of_elements:\n",
    "            result.add(ring.inv(elem))\n",
    "\n",
    "    # Add the products of all possible pairs\n",
    "    for pair in it.product(result, result):\n",
    "        result.add(ring.op(*pair))\n",
    "\n",
    "    # If the input set of elements increased, recurse ...\n",
    "    if len(result) > len(subset_of_elements):\n",
    "        return ring.closure(list(result), include_inverses)\n",
    "\n",
    "    # ...otherwise, stop and return the result\n",
    "    else:\n",
    "        return list(result)"
   ]
  },
  {
   "cell_type": "code",
   "execution_count": 45,
   "id": "95a15434",
   "metadata": {},
   "outputs": [
    {
     "name": "stdout",
     "output_type": "stream",
     "text": [
      "\n",
      "Ring: Ex6\n",
      "Instance ID: 140354042564496\n",
      "Description: Example 6: http://www-groups.mcs.st-andrews.ac.uk/~john/MT4517/Lectures/L3.html\n",
      "Order: 4\n",
      "Identity: 0\n",
      "Associative? Yes\n",
      "Commutative? Yes\n",
      "Elements:\n",
      "   Index   Name   Inverse  Order\n",
      "      0       0       0       1\n",
      "      1       a       a       2\n",
      "      2       b       b       2\n",
      "      3       c       c       2\n",
      "Cayley Table (showing indices):\n",
      "[[0, 1, 2, 3], [1, 0, 3, 2], [2, 3, 0, 1], [3, 2, 1, 0]]\n",
      "Mult. Identity: None\n",
      "Mult. Commutative? No\n",
      "Multiplicative Cayley Table (showing indices):\n",
      "[[0, 0, 0, 0], [0, 0, 1, 1], [0, 0, 2, 2], [0, 0, 3, 3]]\n"
     ]
    }
   ],
   "source": [
    "ex6.about()"
   ]
  },
  {
   "cell_type": "code",
   "execution_count": 44,
   "id": "46b378b5",
   "metadata": {},
   "outputs": [
    {
     "data": {
      "text/plain": [
       "['a', 'd', 'f', 'c']"
      ]
     },
     "execution_count": 44,
     "metadata": {},
     "output_type": "execute_result"
    }
   ],
   "source": [
    "ring_closure(sg, ['d', 'c'], True)"
   ]
  },
  {
   "cell_type": "code",
   "execution_count": null,
   "id": "06d28bb2",
   "metadata": {},
   "outputs": [],
   "source": []
  }
 ],
 "metadata": {
  "kernelspec": {
   "display_name": "Python 3",
   "language": "python",
   "name": "python3"
  },
  "language_info": {
   "codemirror_mode": {
    "name": "ipython",
    "version": 3
   },
   "file_extension": ".py",
   "mimetype": "text/x-python",
   "name": "python",
   "nbconvert_exporter": "python",
   "pygments_lexer": "ipython3",
   "version": "3.7.7"
  }
 },
 "nbformat": 4,
 "nbformat_minor": 5
}
