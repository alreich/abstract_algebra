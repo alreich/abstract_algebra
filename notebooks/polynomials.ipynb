{
 "cells": [
  {
   "cell_type": "markdown",
   "id": "f928f7a3",
   "metadata": {},
   "source": [
    "# Abstract Polynomials"
   ]
  },
  {
   "cell_type": "markdown",
   "id": "29c09137",
   "metadata": {},
   "source": [
    "This is an experimental notebook."
   ]
  },
  {
   "cell_type": "markdown",
   "id": "88d3b6a2",
   "metadata": {},
   "source": [
    "## Ordinary Polynomials"
   ]
  },
  {
   "cell_type": "markdown",
   "id": "9417a7f0",
   "metadata": {},
   "source": [
    "Rolling my own polynomials just to see how difficult/useful this might be..."
   ]
  },
  {
   "cell_type": "code",
   "execution_count": 47,
   "id": "6ebf00d4",
   "metadata": {},
   "outputs": [],
   "source": [
    "import functools as fnc\n",
    "\n",
    "\n",
    "def power(x, n):\n",
    "    result = 1\n",
    "    for _ in range(n):\n",
    "        result = result * x\n",
    "    return result\n",
    "\n",
    "\n",
    "class Term:\n",
    "    \"\"\"Represents a term of a polynomial.  Here's an example polynomial with four\n",
    "    terms, separated by spaces: -2 -4x +7x^2 -3x^4\n",
    "    \"\"\"\n",
    "    \n",
    "    def __init__(self, coefficient, order):\n",
    "        self.__coefficient = coefficient\n",
    "        self.__order = order\n",
    "        self.__varname = \"x\"\n",
    "        \n",
    "    def __repr__(self):\n",
    "        return f\"Term({self.__coefficient},{self.__order})\"\n",
    "    \n",
    "    def __str__(self):\n",
    "        if self.__order == 0:\n",
    "            return f\"{self.__coefficient}\"\n",
    "        elif self.__order == 1:\n",
    "            return f\"{self.__coefficient}{self.__varname}\"\n",
    "        else:\n",
    "            return f\"{self.__coefficient}{self.__varname}^{self.__order}\"\n",
    "        \n",
    "    def __call__(self, x):\n",
    "        return self.__coefficient * power(x, self.__order)\n",
    "    \n",
    "    def __add__(self, other):\n",
    "        if self.__order == other.__order:\n",
    "            return Term(self.__coefficient + other.__coefficient, self.__order)\n",
    "        else:\n",
    "            raise ValueError(f\"Terms must be of the same order, {self.__order} != {other.__order}\")\n",
    "    \n",
    "    def __mul__(self, other):\n",
    "        return Term(self.__coefficient * other.__coefficient,\n",
    "                    self.__order + other.__order)\n",
    "    \n",
    "    def __eq__(self, other):\n",
    "        return (self.__varname == other.__varname and\n",
    "                self.__order == other.__order and\n",
    "                self.__coefficient == other.__coefficient)\n",
    "    \n",
    "    @property\n",
    "    def coefficient(self):\n",
    "        return self.__coefficient\n",
    "    \n",
    "    @property\n",
    "    def order(self):\n",
    "        return self.__order\n",
    "    \n",
    "    def varname(self, newname=None):\n",
    "        if newname is not None:\n",
    "            if isinstance(newname, str):\n",
    "                self.__varname = newname\n",
    "            else:\n",
    "                raise ValueError(\"Variable name must be a string.\")\n",
    "        return self.__varname\n",
    "    \n",
    "    def is_constant(self):\n",
    "        if self.__order == 0:\n",
    "            return self.__coefficient\n",
    "        else:\n",
    "            return False\n",
    "        \n",
    "    def is_linear(self):\n",
    "        if self.__order == 1:\n",
    "            return self.__coefficient\n",
    "        else:\n",
    "            return False\n",
    "\n",
    "\n",
    "class Polynomial:\n",
    "    \n",
    "    def __init__(self, poly_string, varname):\n",
    "        self.__terms = sorted(parse_polynomial(poly_string, varname),\n",
    "                              key=lambda t: t.order)\n",
    "\n",
    "    def __repr__(self):\n",
    "        poly_str = \"\"\n",
    "        for term in self.__terms:\n",
    "            poly_str += \" \" + str(term)\n",
    "        return poly_str\n",
    "    \n",
    "    def __call__(self, x):\n",
    "        return fnc.reduce(lambda a,b: a + b,\n",
    "                          map(lambda term: term(x), self.__terms))\n",
    "    \n",
    "    def terms(self):\n",
    "        return self.__terms\n",
    "\n",
    "\n",
    "def parse_term(term_str, varname):\n",
    "    \"\"\"A hacky term string parser.  Returns a Term from the input string.\"\"\"\n",
    "\n",
    "    if varname in term_str:\n",
    "        varpower = varname + \"^\"\n",
    "        if varpower in term_str:\n",
    "            args = list(map(lambda x: int(x), term_str.split(varpower)))\n",
    "        else:\n",
    "            args = [int(term_str.split(varname)[0]), 1]\n",
    "    else:\n",
    "        args = [int(term_str), 0]\n",
    "\n",
    "    return Term(args[0], args[1])\n",
    "\n",
    "\n",
    "def parse_polynomial(poly_str, varname):\n",
    "    \"\"\"An extreme hack.  Terms in polynomials have to be separated by a space.\n",
    "    Example polynomial string where varname is 'x': '-2 -4x +7x^2 -3x^4'\n",
    "    \"\"\"\n",
    "    return [parse_term(term, varname) for term in poly_str.split()]"
   ]
  },
  {
   "cell_type": "code",
   "execution_count": 52,
   "id": "bbc05781",
   "metadata": {},
   "outputs": [
    {
     "name": "stdout",
     "output_type": "stream",
     "text": [
      " -2 -4x 7x^2 -3x^4\n"
     ]
    },
    {
     "data": {
      "text/plain": [
       "[Term(-2,0), Term(-4,1), Term(7,2), Term(-3,4)]"
      ]
     },
     "execution_count": 52,
     "metadata": {},
     "output_type": "execute_result"
    }
   ],
   "source": [
    "polystr = \"-2 -4x +7x^2 -3x^4\"\n",
    "\n",
    "p = Polynomial(polystr, 'x')\n",
    "print(p)\n",
    "p.terms()"
   ]
  },
  {
   "cell_type": "code",
   "execution_count": 53,
   "id": "e9342e64",
   "metadata": {},
   "outputs": [
    {
     "name": "stdout",
     "output_type": "stream",
     "text": [
      "-194\n"
     ]
    }
   ],
   "source": [
    "y = 3\n",
    "print(-2 - 4*y + 7*y**2 - 3*y**4)"
   ]
  },
  {
   "cell_type": "code",
   "execution_count": 54,
   "id": "05966b1d",
   "metadata": {},
   "outputs": [
    {
     "data": {
      "text/plain": [
       "-194"
      ]
     },
     "execution_count": 54,
     "metadata": {},
     "output_type": "execute_result"
    }
   ],
   "source": [
    "p(3)"
   ]
  },
  {
   "cell_type": "code",
   "execution_count": 55,
   "id": "6887b433",
   "metadata": {},
   "outputs": [
    {
     "name": "stdout",
     "output_type": "stream",
     "text": [
      " -2 -4x 7x^2 -3x^4\n"
     ]
    },
    {
     "data": {
      "text/plain": [
       "[Term(-2,0), Term(-4,1), Term(7,2), Term(-3,4)]"
      ]
     },
     "execution_count": 55,
     "metadata": {},
     "output_type": "execute_result"
    }
   ],
   "source": [
    "polystr = \"-2 -4x^1 +7x^2 -3x^4\"  # Added '^1' to linear term\n",
    "\n",
    "p = Polynomial(polystr, 'x')\n",
    "print(p)\n",
    "p.terms()"
   ]
  },
  {
   "cell_type": "code",
   "execution_count": 56,
   "id": "8df1bbd9",
   "metadata": {},
   "outputs": [
    {
     "name": "stdout",
     "output_type": "stream",
     "text": [
      " -2 -4x 7x^2 -3x^4\n"
     ]
    },
    {
     "data": {
      "text/plain": [
       "[Term(-2,0), Term(-4,1), Term(7,2), Term(-3,4)]"
      ]
     },
     "execution_count": 56,
     "metadata": {},
     "output_type": "execute_result"
    }
   ],
   "source": [
    "polystr = \"-2x^0 -4x^1 +7x^2 -3x^4\"  # Added 'x^0' to constant term\n",
    "\n",
    "p = Polynomial(polystr, 'x')\n",
    "print(p)\n",
    "p.terms()"
   ]
  },
  {
   "cell_type": "code",
   "execution_count": 57,
   "id": "c7d7c93e",
   "metadata": {},
   "outputs": [
    {
     "name": "stdout",
     "output_type": "stream",
     "text": [
      " -2 -4x 7x^2 -3x^4\n"
     ]
    },
    {
     "data": {
      "text/plain": [
       "[Term(-2,0), Term(-4,1), Term(7,2), Term(-3,4)]"
      ]
     },
     "execution_count": 57,
     "metadata": {},
     "output_type": "execute_result"
    }
   ],
   "source": [
    "polystr = \"-4x -2 -3x^4 +7x^2\"  #  Terms not in order \n",
    "\n",
    "p = Polynomial(polystr, 'x')\n",
    "print(p)\n",
    "p.terms()"
   ]
  },
  {
   "cell_type": "markdown",
   "id": "8eab0c81",
   "metadata": {},
   "source": [
    "## NumPy Polynomials"
   ]
  },
  {
   "cell_type": "code",
   "execution_count": 31,
   "id": "3c270537",
   "metadata": {},
   "outputs": [
    {
     "data": {
      "text/latex": [
       "$x \\mapsto \\text{-2.0} - \\text{4.0}\\,x + \\text{7.0}\\,x^{2}\\color{LightGray}{ + \\text{0.0}\\,x^{3}} - \\text{3.0}\\,x^{4}$"
      ],
      "text/plain": [
       "Polynomial([-2., -4.,  7.,  0., -3.], domain=[-1,  1], window=[-1,  1])"
      ]
     },
     "execution_count": 31,
     "metadata": {},
     "output_type": "execute_result"
    }
   ],
   "source": [
    "from numpy.polynomial import Polynomial\n",
    "\n",
    "poly_coeff = [-2, -4, 7, 0, -3]\n",
    "poly = Polynomial(poly_coeff)\n",
    "poly"
   ]
  },
  {
   "cell_type": "code",
   "execution_count": 32,
   "id": "f43f61ce",
   "metadata": {},
   "outputs": [
    {
     "data": {
      "text/plain": [
       "-194.0"
      ]
     },
     "execution_count": 32,
     "metadata": {},
     "output_type": "execute_result"
    }
   ],
   "source": [
    "poly(3)"
   ]
  },
  {
   "cell_type": "code",
   "execution_count": 35,
   "id": "795c8d93",
   "metadata": {},
   "outputs": [
    {
     "name": "stdout",
     "output_type": "stream",
     "text": [
      "-2.0 - 4.0·x¹ + 7.0·x² + 0.0·x³ - 3.0·x⁴\n"
     ]
    }
   ],
   "source": [
    "print(poly)"
   ]
  },
  {
   "cell_type": "code",
   "execution_count": 37,
   "id": "de728ab2",
   "metadata": {},
   "outputs": [
    {
     "data": {
      "text/latex": [
       "$x \\mapsto \\text{1.0} + \\text{1.0}\\,x$"
      ],
      "text/plain": [
       "Polynomial([1., 1.], domain=[-1,  1], window=[-1,  1])"
      ]
     },
     "execution_count": 37,
     "metadata": {},
     "output_type": "execute_result"
    }
   ],
   "source": [
    "poly1 = Polynomial([1, 1])\n",
    "poly1"
   ]
  },
  {
   "cell_type": "code",
   "execution_count": 38,
   "id": "f2e45064",
   "metadata": {},
   "outputs": [
    {
     "data": {
      "text/latex": [
       "$x \\mapsto \\text{1.0} - \\text{1.0}\\,x$"
      ],
      "text/plain": [
       "Polynomial([ 1., -1.], domain=[-1,  1], window=[-1,  1])"
      ]
     },
     "execution_count": 38,
     "metadata": {},
     "output_type": "execute_result"
    }
   ],
   "source": [
    "poly2 = Polynomial([1, -1])\n",
    "poly2"
   ]
  },
  {
   "cell_type": "code",
   "execution_count": 41,
   "id": "461397af",
   "metadata": {},
   "outputs": [
    {
     "data": {
      "text/latex": [
       "$x \\mapsto \\text{1.0}\\color{LightGray}{ + \\text{0.0}\\,x} - \\text{1.0}\\,x^{2}$"
      ],
      "text/plain": [
       "Polynomial([ 1.,  0., -1.], domain=[-1.,  1.], window=[-1.,  1.])"
      ]
     },
     "execution_count": 41,
     "metadata": {},
     "output_type": "execute_result"
    }
   ],
   "source": [
    "poly1 * poly2"
   ]
  },
  {
   "cell_type": "code",
   "execution_count": null,
   "id": "8df5f300",
   "metadata": {},
   "outputs": [],
   "source": []
  }
 ],
 "metadata": {
  "kernelspec": {
   "display_name": "Python 3",
   "language": "python",
   "name": "python3"
  },
  "language_info": {
   "codemirror_mode": {
    "name": "ipython",
    "version": 3
   },
   "file_extension": ".py",
   "mimetype": "text/x-python",
   "name": "python",
   "nbconvert_exporter": "python",
   "pygments_lexer": "ipython3",
   "version": "3.7.7"
  }
 },
 "nbformat": 4,
 "nbformat_minor": 5
}
