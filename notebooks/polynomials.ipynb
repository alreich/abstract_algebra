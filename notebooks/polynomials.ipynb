{
 "cells": [
  {
   "cell_type": "markdown",
   "id": "131b773c",
   "metadata": {},
   "source": [
    "# Polynomials"
   ]
  },
  {
   "cell_type": "markdown",
   "id": "b1ed7780",
   "metadata": {},
   "source": [
    "Work-In-Progress: This is an experimental notebook"
   ]
  },
  {
   "cell_type": "code",
   "execution_count": 1,
   "id": "754eb39d",
   "metadata": {},
   "outputs": [],
   "source": [
    "from polynomials import *"
   ]
  },
  {
   "cell_type": "markdown",
   "id": "732021a5",
   "metadata": {},
   "source": [
    "There are only two classes involved here: **Term** and **Poly**.\n",
    "\n",
    "A **Poly** is a list of **Term**.\n",
    "\n",
    "**Example**:\n",
    "\n",
    "$-2 -4x +7x^2 -3x^4$ is a polynomial that consists of four terms,\n",
    "\n",
    "where each term has a coefficient, order, and the same variable:\n",
    "\n",
    "$-2x^0$ and $-4x^1$ and $+7x^2$ and $-3x^4$."
   ]
  },
  {
   "cell_type": "markdown",
   "id": "a48a646e",
   "metadata": {},
   "source": [
    "## Terms"
   ]
  },
  {
   "cell_type": "markdown",
   "id": "1d877d5d",
   "metadata": {},
   "source": [
    "A ``Term`` consists of:\n",
    "\n",
    "* **coefficient** (``int`` or ``float``)\n",
    "* **order** (non-negative ``int``)\n",
    "* **varname** (``string`` variable name)"
   ]
  },
  {
   "cell_type": "markdown",
   "id": "ca39cfba",
   "metadata": {},
   "source": [
    "The term $-2y^3$ is represented as follows:"
   ]
  },
  {
   "cell_type": "code",
   "execution_count": 42,
   "id": "2cbda19e",
   "metadata": {},
   "outputs": [
    {
     "name": "stdout",
     "output_type": "stream",
     "text": [
      "-2y^3\n"
     ]
    },
    {
     "data": {
      "text/plain": [
       "Term(-2, 3, y)"
      ]
     },
     "execution_count": 42,
     "metadata": {},
     "output_type": "execute_result"
    }
   ],
   "source": [
    "t1 = Term(-2, 3, 'y')\n",
    "print(t1)\n",
    "t1"
   ]
  },
  {
   "cell_type": "markdown",
   "id": "a4068942",
   "metadata": {},
   "source": [
    "Within a Jupyter notebook like this one, the function, ``latex``, will output a string using Latex formatting."
   ]
  },
  {
   "cell_type": "code",
   "execution_count": 55,
   "id": "eac237ca",
   "metadata": {},
   "outputs": [
    {
     "data": {
      "text/latex": [
       "$\\displaystyle -2y^3$"
      ],
      "text/plain": [
       "<IPython.core.display.Math object>"
      ]
     },
     "metadata": {},
     "output_type": "display_data"
    }
   ],
   "source": [
    "latex(t1)"
   ]
  },
  {
   "cell_type": "markdown",
   "id": "58e9d24c",
   "metadata": {},
   "source": [
    "If no variable name is entered, then the default is **'x'**.\n",
    "\n",
    "The default variable name is not output in the print representation."
   ]
  },
  {
   "cell_type": "code",
   "execution_count": 57,
   "id": "5500f679",
   "metadata": {},
   "outputs": [
    {
     "name": "stdout",
     "output_type": "stream",
     "text": [
      "+1x^2\n"
     ]
    },
    {
     "data": {
      "text/latex": [
       "$\\displaystyle +1x^2$"
      ],
      "text/plain": [
       "<IPython.core.display.Math object>"
      ]
     },
     "metadata": {},
     "output_type": "display_data"
    },
    {
     "data": {
      "text/plain": [
       "Term(1, 2)"
      ]
     },
     "execution_count": 57,
     "metadata": {},
     "output_type": "execute_result"
    }
   ],
   "source": [
    "t2 = Term(1, 2)\n",
    "print(t2)\n",
    "latex(t2)\n",
    "t2"
   ]
  },
  {
   "cell_type": "markdown",
   "id": "28bf0a64",
   "metadata": {},
   "source": [
    "### Term: Equality"
   ]
  },
  {
   "cell_type": "markdown",
   "id": "39602930",
   "metadata": {},
   "source": [
    "The method, ``unpack``, returns the three quantities that make up a Term.  It's used below to create a copy of a Term and then check for equality."
   ]
  },
  {
   "cell_type": "code",
   "execution_count": 4,
   "id": "988a22ae",
   "metadata": {},
   "outputs": [
    {
     "name": "stdout",
     "output_type": "stream",
     "text": [
      "t1  = -2y^3\n",
      "t1b = -2y^3\n",
      "t1 == t1b ? True\n"
     ]
    }
   ],
   "source": [
    "coef, ord, var = t1.unpack()\n",
    "t1b = Term(coef, ord, var)\n",
    "print(f\"t1  = {t1}\")\n",
    "print(f\"t1b = {t1b}\")\n",
    "print(f\"t1 == t1b ? {t1 == t1b}\")"
   ]
  },
  {
   "cell_type": "markdown",
   "id": "d1719688",
   "metadata": {},
   "source": [
    "The method, ``copy``, will create an exact copy of a Term."
   ]
  },
  {
   "cell_type": "code",
   "execution_count": 5,
   "id": "114c2676",
   "metadata": {},
   "outputs": [
    {
     "name": "stdout",
     "output_type": "stream",
     "text": [
      "t1 == t1c ? True\n",
      "t1  object ID: 140395368978512\n",
      "t1c object ID: 140394566342416\n"
     ]
    }
   ],
   "source": [
    "t1c = t1.copy()\n",
    "print(f\"t1 == t1c ? {t1 == t1c}\")\n",
    "print(f\"t1  object ID: {id(t1)}\")\n",
    "print(f\"t1c object ID: {id(t1c)}\")"
   ]
  },
  {
   "cell_type": "markdown",
   "id": "bf306f09",
   "metadata": {},
   "source": [
    "### Term: Power"
   ]
  },
  {
   "cell_type": "markdown",
   "id": "a885ea31",
   "metadata": {},
   "source": [
    "Terms can be raised to a non-negative integer power."
   ]
  },
  {
   "cell_type": "code",
   "execution_count": 6,
   "id": "771e8ee7",
   "metadata": {},
   "outputs": [
    {
     "name": "stdout",
     "output_type": "stream",
     "text": [
      "-2y^3\n"
     ]
    }
   ],
   "source": [
    "print(t1)  # Test with this term"
   ]
  },
  {
   "cell_type": "code",
   "execution_count": 7,
   "id": "704363f0",
   "metadata": {},
   "outputs": [
    {
     "name": "stdout",
     "output_type": "stream",
     "text": [
      "+4y^6\n"
     ]
    },
    {
     "data": {
      "text/plain": [
       "Term(4, 6, y)"
      ]
     },
     "execution_count": 7,
     "metadata": {},
     "output_type": "execute_result"
    }
   ],
   "source": [
    "t3a = t1**2\n",
    "print(t3a)\n",
    "t3a"
   ]
  },
  {
   "cell_type": "markdown",
   "id": "ce77a111",
   "metadata": {},
   "source": [
    "Raising a term to the zero power yields 1, as expected."
   ]
  },
  {
   "cell_type": "code",
   "execution_count": 8,
   "id": "579709a5",
   "metadata": {},
   "outputs": [
    {
     "name": "stdout",
     "output_type": "stream",
     "text": [
      "+1\n"
     ]
    },
    {
     "data": {
      "text/plain": [
       "Term(1, 0, y)"
      ]
     },
     "execution_count": 8,
     "metadata": {},
     "output_type": "execute_result"
    }
   ],
   "source": [
    "t3b = t1**0\n",
    "print(t3b)\n",
    "t3b"
   ]
  },
  {
   "cell_type": "markdown",
   "id": "874f6229",
   "metadata": {},
   "source": [
    "### Term: Multiplication"
   ]
  },
  {
   "cell_type": "markdown",
   "id": "a641fc7e",
   "metadata": {},
   "source": [
    "Terms can be multiplied by an ``int`` or a ``float``, on the left or the right."
   ]
  },
  {
   "cell_type": "code",
   "execution_count": 9,
   "id": "3d42b14e",
   "metadata": {},
   "outputs": [
    {
     "name": "stdout",
     "output_type": "stream",
     "text": [
      "+4y^6\n"
     ]
    }
   ],
   "source": [
    "num = 5.1  # Test with this value,\n",
    "print(t3a)  # and this term"
   ]
  },
  {
   "cell_type": "code",
   "execution_count": 10,
   "id": "05755643",
   "metadata": {},
   "outputs": [
    {
     "name": "stdout",
     "output_type": "stream",
     "text": [
      "+20.4y^6\n"
     ]
    },
    {
     "data": {
      "text/plain": [
       "Term(20.4, 6, y)"
      ]
     },
     "execution_count": 10,
     "metadata": {},
     "output_type": "execute_result"
    }
   ],
   "source": [
    "t4 = num * t3a\n",
    "print(t4)\n",
    "t4"
   ]
  },
  {
   "cell_type": "code",
   "execution_count": 11,
   "id": "11b908ef",
   "metadata": {},
   "outputs": [
    {
     "data": {
      "text/plain": [
       "True"
      ]
     },
     "execution_count": 11,
     "metadata": {},
     "output_type": "execute_result"
    }
   ],
   "source": [
    "num * t3a == t3a * num"
   ]
  },
  {
   "cell_type": "markdown",
   "id": "736ca796",
   "metadata": {},
   "source": [
    "### Term: Like terms"
   ]
  },
  {
   "cell_type": "markdown",
   "id": "e6163cfa",
   "metadata": {},
   "source": [
    "Like terms have the same variable and the same order.\n",
    "\n",
    "e.g., $-2x^7$ and $8x^7$ are like terms.\n",
    "<p>$-2x^7$ and $8x^3$ are **not** like terms.</p>"
   ]
  },
  {
   "cell_type": "code",
   "execution_count": 12,
   "id": "87444f5a",
   "metadata": {},
   "outputs": [
    {
     "name": "stdout",
     "output_type": "stream",
     "text": [
      "t5 = -2x^7\n",
      "t6 = +8x^7\n",
      "t7 = +8x^3\n"
     ]
    }
   ],
   "source": [
    "# Test with these terms\n",
    "\n",
    "t5 = Term(-2, 7)\n",
    "t6 = Term( 8, 7)\n",
    "t7 = Term( 8, 3)\n",
    "\n",
    "print(f\"t5 = {t5}\")\n",
    "print(f\"t6 = {t6}\")\n",
    "print(f\"t7 = {t7}\")"
   ]
  },
  {
   "cell_type": "code",
   "execution_count": 13,
   "id": "15761e62",
   "metadata": {},
   "outputs": [
    {
     "data": {
      "text/plain": [
       "True"
      ]
     },
     "execution_count": 13,
     "metadata": {},
     "output_type": "execute_result"
    }
   ],
   "source": [
    "t6.like_term(t5)"
   ]
  },
  {
   "cell_type": "code",
   "execution_count": 14,
   "id": "f21e570a",
   "metadata": {},
   "outputs": [
    {
     "data": {
      "text/plain": [
       "False"
      ]
     },
     "execution_count": 14,
     "metadata": {},
     "output_type": "execute_result"
    }
   ],
   "source": [
    "t6.like_term(t7)"
   ]
  },
  {
   "cell_type": "markdown",
   "id": "29d9e61f",
   "metadata": {},
   "source": [
    "### Term: Substitution"
   ]
  },
  {
   "cell_type": "markdown",
   "id": "542ffcc5",
   "metadata": {},
   "source": [
    "Terms are callable using numeric values and even other terms (\"variable substitution\")"
   ]
  },
  {
   "cell_type": "markdown",
   "id": "09a7eb41",
   "metadata": {},
   "source": [
    "**Example**:\n",
    "\n",
    "If $t_1 = -2y^3$ and $y=5$,\n",
    "\n",
    "then $t_1(5) = -2(5^3) = -250$"
   ]
  },
  {
   "cell_type": "code",
   "execution_count": 15,
   "id": "8cf0c28e",
   "metadata": {},
   "outputs": [
    {
     "name": "stdout",
     "output_type": "stream",
     "text": [
      "-2y^3\n",
      "-250\n"
     ]
    }
   ],
   "source": [
    "print(t1)\n",
    "print(t1(5))"
   ]
  },
  {
   "cell_type": "markdown",
   "id": "acae4d34",
   "metadata": {},
   "source": [
    "A Term can be called (evaluated) at another Term.\n",
    "\n",
    "Effectively, this allows for **variable substitution**.\n",
    "\n",
    "**Example**:\n",
    "\n",
    "If $t_1 = -2y^3$ and $t_2 = x^2$,\n",
    "\n",
    "then $t_1(t_2) = -2(x^2)^3 = -2x^6$\n",
    "\n",
    "and $t_2(t_1) = (-2y^3)^2 = 4y^6$"
   ]
  },
  {
   "cell_type": "code",
   "execution_count": 16,
   "id": "4ee7c6cb",
   "metadata": {},
   "outputs": [
    {
     "name": "stdout",
     "output_type": "stream",
     "text": [
      "t1 = -2y^3\n",
      "t2 = +1x^2\n",
      "t1(t2) = t1(+1x^2) = -2x^6\n",
      "t2(t1) = t2(-2y^3) = +4y^6\n"
     ]
    }
   ],
   "source": [
    "print(f\"t1 = {t1}\")\n",
    "print(f\"t2 = {t2}\")\n",
    "\n",
    "print(f\"t1(t2) = t1({t2}) = {t1(t2)}\")\n",
    "print(f\"t2(t1) = t2({t1}) = {t2(t1)}\")"
   ]
  },
  {
   "cell_type": "code",
   "execution_count": null,
   "id": "8dd25f75",
   "metadata": {},
   "outputs": [],
   "source": []
  },
  {
   "cell_type": "code",
   "execution_count": 17,
   "id": "dba0e3b4",
   "metadata": {},
   "outputs": [
    {
     "name": "stdout",
     "output_type": "stream",
     "text": [
      "+1\n",
      "+1\n"
     ]
    }
   ],
   "source": [
    "t0x = Term(1, 0, 'x')\n",
    "t0y = Term(1, 0, 'y')\n",
    "print(t0x)\n",
    "print(t0y)"
   ]
  },
  {
   "cell_type": "code",
   "execution_count": 19,
   "id": "4f806139",
   "metadata": {},
   "outputs": [
    {
     "data": {
      "text/plain": [
       "Term(1, 0, y)"
      ]
     },
     "execution_count": 19,
     "metadata": {},
     "output_type": "execute_result"
    }
   ],
   "source": [
    "t0x(t1)"
   ]
  },
  {
   "cell_type": "code",
   "execution_count": 20,
   "id": "a26e7a44",
   "metadata": {},
   "outputs": [
    {
     "data": {
      "text/plain": [
       "Term(1, 0)"
      ]
     },
     "execution_count": 20,
     "metadata": {},
     "output_type": "execute_result"
    }
   ],
   "source": [
    "t0x(t2)"
   ]
  },
  {
   "cell_type": "code",
   "execution_count": null,
   "id": "c98ab83c",
   "metadata": {},
   "outputs": [],
   "source": []
  },
  {
   "cell_type": "code",
   "execution_count": null,
   "id": "b7a02a47",
   "metadata": {},
   "outputs": [],
   "source": []
  },
  {
   "cell_type": "code",
   "execution_count": null,
   "id": "7716c0b3",
   "metadata": {},
   "outputs": [],
   "source": []
  },
  {
   "cell_type": "code",
   "execution_count": null,
   "id": "bb7612a5",
   "metadata": {},
   "outputs": [],
   "source": []
  },
  {
   "cell_type": "markdown",
   "id": "06bb1148",
   "metadata": {},
   "source": [
    "## Polynomial Basics"
   ]
  },
  {
   "cell_type": "markdown",
   "id": "1d099561",
   "metadata": {},
   "source": [
    "A polynomial, ``Poly``, can be constructed from a 1D array of integers or floats that represent coefficients, where the index of a coefficient in the array is its order in the polynomial.\n",
    "\n",
    "Other methods of polynomial creation are described farther below."
   ]
  },
  {
   "cell_type": "code",
   "execution_count": 51,
   "id": "085cedcc",
   "metadata": {},
   "outputs": [
    {
     "data": {
      "text/plain": [
       "Poly([-2, -4, 7, 0, -3])"
      ]
     },
     "execution_count": 51,
     "metadata": {},
     "output_type": "execute_result"
    }
   ],
   "source": [
    "coeffs = [-2, -4, 7, 0, -3]\n",
    "\n",
    "p = Poly(coeffs)\n",
    "p"
   ]
  },
  {
   "cell_type": "markdown",
   "id": "072ffaaf",
   "metadata": {},
   "source": [
    "By default, 'x' is assumed to be the variable in a polynomial."
   ]
  },
  {
   "cell_type": "code",
   "execution_count": 52,
   "id": "352a3aa8",
   "metadata": {},
   "outputs": [
    {
     "name": "stdout",
     "output_type": "stream",
     "text": [
      "-2 -4x +7x^2 -3x^4\n"
     ]
    }
   ],
   "source": [
    "print(p)"
   ]
  },
  {
   "cell_type": "code",
   "execution_count": 54,
   "id": "ad91324f",
   "metadata": {},
   "outputs": [
    {
     "data": {
      "text/latex": [
       "$\\displaystyle -2 -4x +7x^2 -3x^4$"
      ],
      "text/plain": [
       "<IPython.core.display.Math object>"
      ]
     },
     "metadata": {},
     "output_type": "display_data"
    }
   ],
   "source": [
    "latex(p)"
   ]
  },
  {
   "cell_type": "markdown",
   "id": "0ab98d6f",
   "metadata": {},
   "source": [
    "A ``Poly`` is callable."
   ]
  },
  {
   "cell_type": "code",
   "execution_count": null,
   "id": "ba43da41",
   "metadata": {},
   "outputs": [],
   "source": [
    "a = 3  # A test value"
   ]
  },
  {
   "cell_type": "code",
   "execution_count": null,
   "id": "907d9913",
   "metadata": {},
   "outputs": [],
   "source": [
    "p(a)"
   ]
  },
  {
   "cell_type": "markdown",
   "id": "89a39a82",
   "metadata": {},
   "source": [
    "Here's a check of the arithmetic in the call made, above."
   ]
  },
  {
   "cell_type": "code",
   "execution_count": null,
   "id": "562c591c",
   "metadata": {},
   "outputs": [],
   "source": [
    "print(-2 - 4*a + 7*a**2 - 3*a**4)"
   ]
  },
  {
   "cell_type": "markdown",
   "id": "d7566458",
   "metadata": {},
   "source": [
    "Internally, a ``Poly`` is made up of a list of ``Terms`` and a ``varname`` (variable name string).\n",
    "\n",
    "A polynomial's term list is immutable, so it is a *property*; however, ``varname`` is a method, because it can be used to change the polynomials variable (e.g., 'x' -> 'y')"
   ]
  },
  {
   "cell_type": "code",
   "execution_count": null,
   "id": "3cdbc2c6",
   "metadata": {},
   "outputs": [],
   "source": [
    "p.terms"
   ]
  },
  {
   "cell_type": "code",
   "execution_count": null,
   "id": "52e17cf8",
   "metadata": {},
   "outputs": [],
   "source": [
    "p.varname()"
   ]
  },
  {
   "cell_type": "markdown",
   "id": "533dd3c3",
   "metadata": {},
   "source": [
    "A ``Term`` can be retrieved, by its order, using the polynomial's ``term`` method."
   ]
  },
  {
   "cell_type": "code",
   "execution_count": null,
   "id": "9933db61",
   "metadata": {},
   "outputs": [],
   "source": [
    "t2 = p.term(2)\n",
    "t2"
   ]
  },
  {
   "cell_type": "markdown",
   "id": "38645be9",
   "metadata": {},
   "source": [
    "A ``Term`` consists of a *coefficient*, an *order*, and a *varname*."
   ]
  },
  {
   "cell_type": "code",
   "execution_count": null,
   "id": "bb454397",
   "metadata": {},
   "outputs": [],
   "source": [
    "t2.coefficient"
   ]
  },
  {
   "cell_type": "code",
   "execution_count": null,
   "id": "4757c448",
   "metadata": {},
   "outputs": [],
   "source": [
    "t2.order"
   ]
  },
  {
   "cell_type": "markdown",
   "id": "17a2c543",
   "metadata": {},
   "source": [
    "Terms have a human-readable print representation."
   ]
  },
  {
   "cell_type": "code",
   "execution_count": null,
   "id": "1688b437",
   "metadata": {},
   "outputs": [],
   "source": [
    "print(t2)"
   ]
  },
  {
   "cell_type": "markdown",
   "id": "1f1ee7f5",
   "metadata": {},
   "source": [
    "By default, terms use 'x' as a variable name."
   ]
  },
  {
   "cell_type": "code",
   "execution_count": null,
   "id": "eecc3a21",
   "metadata": {},
   "outputs": [],
   "source": [
    "t2.varname()"
   ]
  },
  {
   "cell_type": "markdown",
   "id": "b203c318",
   "metadata": {},
   "source": [
    "Here's an example of a polynomial that doesn't use the default *varname* of 'x'."
   ]
  },
  {
   "cell_type": "code",
   "execution_count": null,
   "id": "c938a2c1",
   "metadata": {},
   "outputs": [],
   "source": [
    "py = Poly(coeffs, 'y')\n",
    "py"
   ]
  },
  {
   "cell_type": "code",
   "execution_count": null,
   "id": "373ba934",
   "metadata": {},
   "outputs": [],
   "source": [
    "print(py)"
   ]
  },
  {
   "cell_type": "code",
   "execution_count": null,
   "id": "af7ac863",
   "metadata": {},
   "outputs": [],
   "source": [
    "py(3)"
   ]
  },
  {
   "cell_type": "code",
   "execution_count": null,
   "id": "5c08ed66",
   "metadata": {},
   "outputs": [],
   "source": [
    "py.terms"
   ]
  },
  {
   "cell_type": "markdown",
   "id": "827791fd",
   "metadata": {},
   "source": [
    "We can check if a term is *constant*, *linear*, or *quadratic*.  If it is, then the coeffient of the term is returned, otherwise ``False`` is returned."
   ]
  },
  {
   "cell_type": "code",
   "execution_count": null,
   "id": "d62e4136",
   "metadata": {},
   "outputs": [],
   "source": [
    "py.terms[0].is_linear()"
   ]
  },
  {
   "cell_type": "code",
   "execution_count": null,
   "id": "1adf535d",
   "metadata": {},
   "outputs": [],
   "source": [
    "py.terms[0].is_constant()"
   ]
  },
  {
   "cell_type": "code",
   "execution_count": null,
   "id": "eabbbb0e",
   "metadata": {},
   "outputs": [],
   "source": [
    "py.terms[2].is_quadratic()"
   ]
  },
  {
   "cell_type": "markdown",
   "id": "5fcf0370",
   "metadata": {},
   "source": [
    "## Other Ways to Construct Polynomials"
   ]
  },
  {
   "cell_type": "markdown",
   "id": "76994a6f",
   "metadata": {},
   "source": [
    "### From a String Representation"
   ]
  },
  {
   "cell_type": "markdown",
   "id": "b8463acb",
   "metadata": {},
   "source": [
    "A ``Poly`` can also be constructed from a string representation of a polynomial, such as \"-2 -4x +7x^2 -3x^4\", where...\n",
    "\n",
    "* there **must** be a space between each term,\n",
    "* and, except for the first term, every term must begin with a + or - sign, and then a number, unless the number is a 1."
   ]
  },
  {
   "cell_type": "code",
   "execution_count": null,
   "id": "2324628b",
   "metadata": {},
   "outputs": [],
   "source": [
    "polystr = \"-2 -4x +7x^2 -3x^4\"\n",
    "\n",
    "p2 = Poly(polystr)\n",
    "print(p2)\n",
    "p2"
   ]
  },
  {
   "cell_type": "code",
   "execution_count": null,
   "id": "712a44a5",
   "metadata": {},
   "outputs": [],
   "source": [
    "polystry = \"7 +3y -y^2 -9y^3\"\n",
    "\n",
    "p2y = Poly(polystry)"
   ]
  },
  {
   "cell_type": "code",
   "execution_count": null,
   "id": "9408e603",
   "metadata": {},
   "outputs": [],
   "source": [
    "p2y.terms"
   ]
  },
  {
   "cell_type": "code",
   "execution_count": null,
   "id": "04885785",
   "metadata": {},
   "outputs": [],
   "source": [
    "print(p2y)\n",
    "p2y"
   ]
  },
  {
   "cell_type": "markdown",
   "id": "bc838af6",
   "metadata": {},
   "source": [
    "### From a List of Pairs (Tuples)"
   ]
  },
  {
   "cell_type": "code",
   "execution_count": null,
   "id": "0eb16b1c",
   "metadata": {},
   "outputs": [],
   "source": [
    "coef_order_pairs_a = [(-2,0), (-4,1), (7, 2), (-3, 4)]\n",
    "\n",
    "p3a = Poly(coef_order_pairs_a)\n",
    "print(p3a)\n",
    "p3a"
   ]
  },
  {
   "cell_type": "markdown",
   "id": "2d563ddc",
   "metadata": {},
   "source": [
    "### From a List of Pairs (Lists)"
   ]
  },
  {
   "cell_type": "code",
   "execution_count": null,
   "id": "415d670d",
   "metadata": {},
   "outputs": [],
   "source": [
    "coef_order_pairs_b = [[-2,0], [-4,1], [7, 2], [-3, 4]]\n",
    "\n",
    "p3b = Poly(coef_order_pairs_b)\n",
    "print(p3b)\n",
    "p3b"
   ]
  },
  {
   "cell_type": "markdown",
   "id": "6289132e",
   "metadata": {},
   "source": [
    "### From a List of Terms"
   ]
  },
  {
   "cell_type": "code",
   "execution_count": null,
   "id": "9760faaa",
   "metadata": {},
   "outputs": [],
   "source": [
    "list_of_terms = [Term(-2,0), Term(-4,1), Term(7, 2), Term(-3, 4)]\n",
    "\n",
    "p4 = Poly(list_of_terms)\n",
    "print(p4)\n",
    "p4"
   ]
  },
  {
   "cell_type": "markdown",
   "id": "1ad16142",
   "metadata": {},
   "source": [
    "### From a List of Roots"
   ]
  },
  {
   "cell_type": "code",
   "execution_count": null,
   "id": "d4e0de59",
   "metadata": {},
   "outputs": [],
   "source": [
    "roots = [1, 2, 3]\n",
    "\n",
    "p5 = from_roots(roots)\n",
    "print(p5)\n",
    "p5"
   ]
  },
  {
   "cell_type": "markdown",
   "id": "21b14a8c",
   "metadata": {},
   "source": [
    "## Combining Like Terms"
   ]
  },
  {
   "cell_type": "markdown",
   "id": "1fb1aea4",
   "metadata": {},
   "source": [
    "Like terms (i.e., same order terms) are automatically combined during various polynomial operations, include the construction of polynomials."
   ]
  },
  {
   "cell_type": "code",
   "execution_count": null,
   "id": "ed6c5c58",
   "metadata": {},
   "outputs": [],
   "source": [
    "test_terms = [Term(-2,0), Term(-4,1), Term(-1,0), Term(7,2), Term(-3,4), Term(-2,2)]"
   ]
  },
  {
   "cell_type": "code",
   "execution_count": null,
   "id": "2ef6eacd",
   "metadata": {},
   "outputs": [],
   "source": [
    "print(test_terms)\n",
    "print(combine_like_terms(test_terms))"
   ]
  },
  {
   "cell_type": "code",
   "execution_count": null,
   "id": "0a2f78b7",
   "metadata": {},
   "outputs": [],
   "source": [
    "polystr2 = \"-2 -4x -1 +7x^2 -3x^4 -2x^2\"\n",
    "p2 = Poly(polystr2)\n",
    "print(p2)\n",
    "p2"
   ]
  },
  {
   "cell_type": "code",
   "execution_count": null,
   "id": "978ce7cc",
   "metadata": {},
   "outputs": [],
   "source": [
    "polystr3 = \"-2 +3x^4 -4x +2 +7x^2 +4x -3x^4 -7x^2\"\n",
    "p3 = Poly(polystr3)\n",
    "print(p3)\n",
    "p3"
   ]
  },
  {
   "cell_type": "markdown",
   "id": "c51f7dca",
   "metadata": {},
   "source": [
    "## Testing Some Polynomial Strings"
   ]
  },
  {
   "cell_type": "code",
   "execution_count": null,
   "id": "d73b6d4c",
   "metadata": {},
   "outputs": [],
   "source": [
    "polystr = \"-2 -4x^1 +7x^2 -3x^4\"  # Added '^1' to linear term\n",
    "\n",
    "p = Poly(polystr)\n",
    "print(p)\n",
    "p.terms"
   ]
  },
  {
   "cell_type": "code",
   "execution_count": null,
   "id": "f2f05d4c",
   "metadata": {},
   "outputs": [],
   "source": [
    "polystr = \"-2x^0 -4x^1 +7x^2 -3x^4\"  # Added 'x^0' to constant term\n",
    "\n",
    "p = Poly(polystr)\n",
    "print(p)\n",
    "p.terms"
   ]
  },
  {
   "cell_type": "code",
   "execution_count": null,
   "id": "6164d41f",
   "metadata": {},
   "outputs": [],
   "source": [
    "polystr = \"-4x -2 -3x^4 +7x^2\"  #  Terms not in order \n",
    "\n",
    "p = Poly(polystr)\n",
    "print(p)\n",
    "p.terms"
   ]
  },
  {
   "cell_type": "code",
   "execution_count": null,
   "id": "885f8bc5",
   "metadata": {},
   "outputs": [],
   "source": [
    "polystr = \"2 -x -3 +7x^2 -3x^4\"  # No coefficient on linear term, 'x'\n",
    "\n",
    "p = Poly(polystr)\n",
    "print(p)\n",
    "p.terms"
   ]
  },
  {
   "cell_type": "code",
   "execution_count": null,
   "id": "19c5e2d0",
   "metadata": {},
   "outputs": [],
   "source": [
    "polystr = \"2 -x -3 +7x^2 +x -3x^4\"  # linear terms cancel\n",
    "\n",
    "p = Poly(polystr)\n",
    "print(p)\n",
    "p.terms"
   ]
  },
  {
   "cell_type": "code",
   "execution_count": null,
   "id": "4e58a7b6",
   "metadata": {},
   "outputs": [],
   "source": [
    "polystr = \"-4x^2 -x -3 +7x^2 +x -3x^2\"  # Quadratic terms collapse and cancel\n",
    "\n",
    "p = Poly(polystr)\n",
    "print(p)\n",
    "p.terms"
   ]
  },
  {
   "cell_type": "markdown",
   "id": "c1cfad2f",
   "metadata": {},
   "source": [
    "## Polynomial Arithmetic"
   ]
  },
  {
   "cell_type": "markdown",
   "id": "77515043",
   "metadata": {},
   "source": [
    "Polynomials can be added, subtracted, multiplied, negated, and raised to a positive integer power."
   ]
  },
  {
   "cell_type": "code",
   "execution_count": null,
   "id": "d25b03af",
   "metadata": {},
   "outputs": [],
   "source": [
    "q1 = Poly('1 +2x')\n",
    "print(f\"q1 = {q1}\")\n",
    "\n",
    "q2 = Poly('1 -2x')\n",
    "print(f\"q2 = {q2}\")"
   ]
  },
  {
   "cell_type": "code",
   "execution_count": null,
   "id": "1681991f",
   "metadata": {},
   "outputs": [],
   "source": [
    "print(q1 + 1)\n",
    "print(1 + q1)"
   ]
  },
  {
   "cell_type": "code",
   "execution_count": null,
   "id": "17b36ffb",
   "metadata": {},
   "outputs": [],
   "source": [
    "print(q1)\n",
    "print(-q1)\n",
    "print(3*q1)\n",
    "print(1 + q1)\n",
    "print(q1 + 1)\n",
    "print(1 + -q1)\n",
    "print(1 - q1)\n",
    "print(q1 - 1)"
   ]
  },
  {
   "cell_type": "code",
   "execution_count": null,
   "id": "022f107e",
   "metadata": {},
   "outputs": [],
   "source": []
  },
  {
   "cell_type": "code",
   "execution_count": null,
   "id": "ea6ceef5",
   "metadata": {},
   "outputs": [],
   "source": [
    "foo = Poly([2], 'x')\n",
    "print(foo)"
   ]
  },
  {
   "cell_type": "code",
   "execution_count": null,
   "id": "728f7a6e",
   "metadata": {},
   "outputs": [],
   "source": [
    "foo.terms"
   ]
  },
  {
   "cell_type": "code",
   "execution_count": null,
   "id": "887a6996",
   "metadata": {},
   "outputs": [],
   "source": []
  },
  {
   "cell_type": "code",
   "execution_count": null,
   "id": "562de131",
   "metadata": {},
   "outputs": [],
   "source": []
  },
  {
   "cell_type": "code",
   "execution_count": null,
   "id": "ec4e3761",
   "metadata": {},
   "outputs": [],
   "source": [
    "print(f\"({q1}) + ({q2}) = {q1 + q2}\")"
   ]
  },
  {
   "cell_type": "code",
   "execution_count": null,
   "id": "bc56f0b7",
   "metadata": {},
   "outputs": [],
   "source": [
    "print(f\"({q1}) - ({q2}) = {q1 - q2}\")"
   ]
  },
  {
   "cell_type": "code",
   "execution_count": null,
   "id": "96a002a8",
   "metadata": {},
   "outputs": [],
   "source": [
    "print(f\"({q1}) * ({q2}) = {q1 * q2}\")"
   ]
  },
  {
   "cell_type": "code",
   "execution_count": null,
   "id": "7675d659",
   "metadata": {},
   "outputs": [],
   "source": [
    "print(f\"({q1}) * ({q1}) = {q1 * q1}\")"
   ]
  },
  {
   "cell_type": "code",
   "execution_count": null,
   "id": "390cc3f5",
   "metadata": {},
   "outputs": [],
   "source": [
    "print(f\"({q2}) * ({q2}) = {q2 * q2}\")"
   ]
  },
  {
   "cell_type": "code",
   "execution_count": null,
   "id": "08717a8a",
   "metadata": {},
   "outputs": [],
   "source": [
    "print(f\"-({q1}) = {-q1}\")"
   ]
  },
  {
   "cell_type": "code",
   "execution_count": null,
   "id": "5e6d519e",
   "metadata": {},
   "outputs": [],
   "source": [
    "print(f\"-({q2}) = {-q2}\")"
   ]
  },
  {
   "cell_type": "code",
   "execution_count": null,
   "id": "474c8a5e",
   "metadata": {},
   "outputs": [],
   "source": [
    "print(f\"({q1})**2 = {q1**2}\")"
   ]
  },
  {
   "cell_type": "code",
   "execution_count": null,
   "id": "22db2f7c",
   "metadata": {},
   "outputs": [],
   "source": [
    "print(f\"({q2})**2 = {q2**2}\")"
   ]
  },
  {
   "cell_type": "markdown",
   "id": "899af4d1",
   "metadata": {},
   "source": [
    "## Polynomial Representation"
   ]
  },
  {
   "cell_type": "markdown",
   "id": "a051bf7a",
   "metadata": {},
   "source": [
    "The representation of a polynomial changes between two options, depending the estimated length of the representation.  The representation heuristic tries to produce the shortest representation possible, while still allow it to be one that can be used to recreate the polynomial."
   ]
  },
  {
   "cell_type": "code",
   "execution_count": null,
   "id": "e7f250eb",
   "metadata": {},
   "outputs": [],
   "source": [
    "coeffs1 = [1, 0, 0, 0, 0, 0, 0, 0, 0, 0, 0, 0, 0, 0, 0, 0, 0, 0, 0, 7]\n",
    "p_large_order1 = Poly(coeffs1)\n",
    "p_large_order1"
   ]
  },
  {
   "cell_type": "code",
   "execution_count": null,
   "id": "6235e3f9",
   "metadata": {},
   "outputs": [],
   "source": [
    "coeffs2 = [1, 0, 0, 0, 0, 0, 7]\n",
    "p_large_order2 = Poly(coeffs2)\n",
    "p_large_order2"
   ]
  },
  {
   "cell_type": "code",
   "execution_count": null,
   "id": "f09923ba",
   "metadata": {},
   "outputs": [],
   "source": [
    "coeffs3 = [1, 0, 0, 0, 0, 7]\n",
    "p_large_order3 = Poly(coeffs3)\n",
    "p_large_order3"
   ]
  },
  {
   "cell_type": "markdown",
   "id": "13257aba",
   "metadata": {},
   "source": [
    "## Using Floats"
   ]
  },
  {
   "cell_type": "markdown",
   "id": "910a7ca0",
   "metadata": {},
   "source": [
    "Polynomial coefficients can be floats, as well as integers, or a mix of the two."
   ]
  },
  {
   "cell_type": "code",
   "execution_count": null,
   "id": "3a8497a7",
   "metadata": {},
   "outputs": [],
   "source": [
    "coeffs = [-2.2, -4, 7.3, -0.0, -3]\n",
    "\n",
    "p1 = Poly(coeffs)\n",
    "print(p1)\n",
    "p1"
   ]
  },
  {
   "cell_type": "code",
   "execution_count": null,
   "id": "7ebff584",
   "metadata": {},
   "outputs": [],
   "source": [
    "p2 = Poly('-2.2 -4x +7.3x^2 -3x^4')\n",
    "print(p2)\n",
    "p2"
   ]
  },
  {
   "cell_type": "markdown",
   "id": "34f1951f",
   "metadata": {},
   "source": [
    "## Polynomial Derivatives and Antiderivatives"
   ]
  },
  {
   "cell_type": "code",
   "execution_count": null,
   "id": "d6b6f83f",
   "metadata": {},
   "outputs": [],
   "source": [
    "print(p1)\n",
    "p1_der = p1.derivative()\n",
    "print(p1_der)"
   ]
  },
  {
   "cell_type": "code",
   "execution_count": null,
   "id": "ef83c837",
   "metadata": {},
   "outputs": [],
   "source": [
    "p1_der_antider = p1_der.antiderivative(111)\n",
    "print(p1_der_antider)"
   ]
  },
  {
   "cell_type": "markdown",
   "id": "34b345d0",
   "metadata": {},
   "source": [
    "## Scratchwork"
   ]
  },
  {
   "cell_type": "code",
   "execution_count": null,
   "id": "8072ee7b",
   "metadata": {},
   "outputs": [],
   "source": [
    "r = Poly('-3 +2x +7x^2')\n",
    "print(f\"r = {r}\")"
   ]
  },
  {
   "cell_type": "code",
   "execution_count": null,
   "id": "9186b2dd",
   "metadata": {},
   "outputs": [],
   "source": [
    "s = Poly('5 +4y', 'y')\n",
    "print(f\"s = {s}\")"
   ]
  },
  {
   "cell_type": "code",
   "execution_count": null,
   "id": "96463afc",
   "metadata": {},
   "outputs": [],
   "source": [
    "print(2*r)"
   ]
  },
  {
   "cell_type": "code",
   "execution_count": null,
   "id": "87b1ee6c",
   "metadata": {},
   "outputs": [],
   "source": [
    "print(r*2)"
   ]
  },
  {
   "cell_type": "code",
   "execution_count": null,
   "id": "20d27efb",
   "metadata": {},
   "outputs": [],
   "source": [
    "print(s(r))"
   ]
  },
  {
   "cell_type": "code",
   "execution_count": null,
   "id": "fc09f725",
   "metadata": {},
   "outputs": [],
   "source": [
    "# print(r(s))  # ValueError: Mult: Variables must be the same, x != y"
   ]
  },
  {
   "cell_type": "markdown",
   "id": "5d3fa518",
   "metadata": {},
   "source": [
    "# NumPy Polynomials"
   ]
  },
  {
   "cell_type": "markdown",
   "id": "a2de3097",
   "metadata": {},
   "source": [
    "This is a better library for polynomials."
   ]
  },
  {
   "cell_type": "code",
   "execution_count": null,
   "id": "44043f51",
   "metadata": {},
   "outputs": [],
   "source": [
    "from numpy.polynomial import Polynomial\n",
    "\n",
    "poly_coeff = [-2, -4, 7, 0, -3]\n",
    "poly = Polynomial(poly_coeff)\n",
    "poly"
   ]
  },
  {
   "cell_type": "code",
   "execution_count": null,
   "id": "559b2841",
   "metadata": {},
   "outputs": [],
   "source": [
    "poly(3)"
   ]
  },
  {
   "cell_type": "code",
   "execution_count": null,
   "id": "6d6868c5",
   "metadata": {},
   "outputs": [],
   "source": [
    "print(poly)"
   ]
  },
  {
   "cell_type": "code",
   "execution_count": null,
   "id": "f9ea5432",
   "metadata": {},
   "outputs": [],
   "source": [
    "poly1 = Polynomial([1, 1])\n",
    "poly1"
   ]
  },
  {
   "cell_type": "code",
   "execution_count": null,
   "id": "8d26d601",
   "metadata": {},
   "outputs": [],
   "source": [
    "poly2 = Polynomial([1, -1])\n",
    "poly2"
   ]
  },
  {
   "cell_type": "code",
   "execution_count": null,
   "id": "bd8501d0",
   "metadata": {},
   "outputs": [],
   "source": [
    "poly1 * poly2"
   ]
  },
  {
   "cell_type": "code",
   "execution_count": null,
   "id": "54df657b",
   "metadata": {},
   "outputs": [],
   "source": [
    "# help(Polynomial)"
   ]
  }
 ],
 "metadata": {
  "kernelspec": {
   "display_name": "Python 3 (ipykernel)",
   "language": "python",
   "name": "python3"
  },
  "language_info": {
   "codemirror_mode": {
    "name": "ipython",
    "version": 3
   },
   "file_extension": ".py",
   "mimetype": "text/x-python",
   "name": "python",
   "nbconvert_exporter": "python",
   "pygments_lexer": "ipython3",
   "version": "3.7.7"
  }
 },
 "nbformat": 4,
 "nbformat_minor": 5
}
