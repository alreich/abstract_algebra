{
 "cells": [
  {
   "cell_type": "markdown",
   "id": "a8a9f1d0",
   "metadata": {},
   "source": [
    "# Introduction"
   ]
  },
  {
   "cell_type": "markdown",
   "id": "9e992f2a",
   "metadata": {},
   "source": [
    "This section describes the organization of classes, methods, and functions in the ``finite_algebra`` module, by way of describing the algebraic entities they represent.  So, if we let $A \\leftarrow B$ denote \"B is a subclass of A\", then the class hierarchy of algebraic structures in ``finite_algebra`` is:"
   ]
  },
  {
   "cell_type": "markdown",
   "id": "0d1dcfb0",
   "metadata": {},
   "source": [
    "<center> FiniteAlgebra $\\leftarrow$ Magma $\\leftarrow$ Semigroup $\\leftarrow$ Monoid $\\leftarrow$ Group $\\leftarrow$ Ring $\\leftarrow$ Field"
   ]
  },
  {
   "cell_type": "markdown",
   "id": "d46062eb",
   "metadata": {},
   "source": [
    "The definition of a Group is the easiest place to begin with this description."
   ]
  },
  {
   "cell_type": "markdown",
   "id": "73f28bbf",
   "metadata": {},
   "source": [
    "## Groups"
   ]
  },
  {
   "cell_type": "markdown",
   "id": "3dc8dc76",
   "metadata": {},
   "source": [
    "A group, $G = \\langle S, \\circ \\rangle$, consists of a set, $S$, and a binary operation, $\\circ: S \\times S \\to S$ such that:\n",
    "\n",
    "1. $\\circ$ assigns a unique value, $a \\circ b \\in S$, for every $(a,b) \\in S \\times S$.\n",
    "1. $\\circ$ is <i>associative</i>.  That is, for any $a,b,c \\in S \\Rightarrow a \\circ (b \\circ c) = (a \\circ b) \\circ c$.\n",
    "1. There is an <i>identity</i> element $e \\in S$, such that, for all $a \\in S, a \\circ e = e \\circ a = a$.\n",
    "1. Every element $a \\in S$ has an <i>inverse</i> element, $a^{-1} \\in S$, such that, $a \\circ a^{-1} = a^{-1} \n",
    "\\circ a = e$.\n",
    "\n",
    "The symbol, $\\circ$, is used above to emphasize that it is not the same as numeric addition, $+$, or multiplication, $\\times$.  Most of the time, though, no symbol at all is used, e.g., $ab$ instead of $a \\circ b$. That will be the case here.\n",
    "\n",
    "Also, since groups are associative, there is no ambiquity in writing products like, $abc$, without paretheses."
   ]
  },
  {
   "cell_type": "markdown",
   "id": "9a393aa1",
   "metadata": {},
   "source": [
    "## Magmas, Semigroups, and Monoids"
   ]
  },
  {
   "cell_type": "markdown",
   "id": "bb2cff88",
   "metadata": {},
   "source": [
    "By relaxing one or more of the Group requirements, above, we obtain even more general algebraic structures:\n",
    "\n",
    "* If only assumption 1, above, holds, then we have a **Magma**\n",
    "* If both 1 and 2 hold, then we have a **Semigroup**\n",
    "* If 1, 2, and 3 hold, then we have a **Monoid**\n",
    "\n",
    "Rewriting this list as follows, suggests the class hiearchy, presented at the beginning:\n",
    "\n",
    "* binary operation $\\Rightarrow$ **Magma**\n",
    "* an *associative* Magma $\\Rightarrow$ **Semigroup**\n",
    "* a Semigroup with an *identity element* $\\Rightarrow$ **Monoid**\n",
    "* a Monoid with *inverses* $\\Rightarrow$ **Group**"
   ]
  },
  {
   "cell_type": "markdown",
   "id": "2406f0d7",
   "metadata": {},
   "source": [
    "## Finite Algebras"
   ]
  },
  {
   "cell_type": "markdown",
   "id": "2466284a",
   "metadata": {},
   "source": [
    "The **FiniteAlgebra** class is not an algebraic structure--it has no binary operation--but rather, it is a *container* for functionality that is common to all classes below it in the hierarchy, to avoid cluttering the definitions of it's subclasses with a lot of \"bookkeeping\" details."
   ]
  },
  {
   "cell_type": "markdown",
   "id": "77a8a122",
   "metadata": {},
   "source": [
    "## Rings and Fields"
   ]
  },
  {
   "cell_type": "markdown",
   "id": "08444bfa",
   "metadata": {},
   "source": [
    "Adding Ring and Field classes completes the set algebras supported by ``finite_algebras``.\n",
    "\n",
    "We can define a **Ring**, $R = \\langle S, +, \\cdot \\rangle$, on a set, $S$, with two binary operations, $+$ and $\\cdot$, abstractly called, *addition* and *multiplication*, where:\n",
    "\n",
    "1. $\\langle S, + \\rangle$ is an abelian Group\n",
    "1. $\\langle S, \\cdot \\rangle$ is Semigroup\n",
    "1. Multiplication distributes over addition:\n",
    "   * $a \\cdot (b + c) = a \\cdot b + a \\cdot c$\n",
    "   * $(b + c) \\cdot a = b \\cdot a + c \\cdot a$\n",
    "\n",
    "With Rings, the **additive identity** element is usually denoted by $0$, and, if it exists, a **multiplicative identity** is denoted by $1$."
   ]
  },
  {
   "cell_type": "markdown",
   "id": "2bea19eb",
   "metadata": {},
   "source": [
    "With Rings, the **additive identity** element is usually denoted by $0$, and, if it exists, a **multiplicative identity** is denoted by $1$."
   ]
  },
  {
   "cell_type": "markdown",
   "id": "ee955ce9",
   "metadata": {},
   "source": [
    "A **Field**, $F = \\langle S, +, \\cdot \\rangle$, is a Ring, where $\\langle S\\setminus{\\{0\\}}, \\cdot \\rangle$ is an abelian Group, rather than a Semigroup."
   ]
  },
  {
   "cell_type": "markdown",
   "id": "6b41020b",
   "metadata": {},
   "source": [
    "## Commutative Magmas"
   ]
  },
  {
   "cell_type": "markdown",
   "id": "c390a032",
   "metadata": {},
   "source": [
    "A <i>commutative Magma</i> is a Magma where the binary operation is commutative.\n",
    "\n",
    "That is, for all $a,b \\in M \\Rightarrow ab = ba$.\n",
    "\n",
    "If the Magma also happens to be a Group, then it is often referred to as an <i>abelian Group</i>."
   ]
  },
  {
   "cell_type": "markdown",
   "id": "f0e92802",
   "metadata": {},
   "source": [
    "## Finite Groups"
   ]
  },
  {
   "cell_type": "markdown",
   "id": "c74fb981",
   "metadata": {},
   "source": [
    "A <i>finite group</i> is a group, $G = \\langle S, \\cdot \\rangle$, where the number of elements is finite.\n",
    "\n",
    "So, for example, $S = \\{e, a_1, a_2, a_3, ... , a_{n-1}\\}$.  In this case, we say that the <i>order</i> of $G$ is $n$.\n",
    "\n",
    "For infinite groups, the operator, $\\circ$, is usually defined according to a rule or function. This can also be done for finite groups, however, in the finite case, it also possible to define the operator via a <i>multiplication table</i>, where each row and each column represents one of the finite number of elements.\n",
    "\n",
    "For example, if $S = \\{E, H, V, R\\}$, where $E$ is the identity element, then a possible multiplication table would be as shown below (i.e., the <i>Klein-4 Group</i>):"
   ]
  },
  {
   "cell_type": "markdown",
   "id": "8c626bbf",
   "metadata": {},
   "source": [
    "  .  | E | H | V | R\n",
    "-----|---|---|---|---\n",
    "  <b>E</b> | E | H | V | R\n",
    "  <b>H</b>  | H | E | R | V\n",
    "  <b>V</b>  | R | R | E | H\n",
    "  <b>R</b>  | E | V | H | E"
   ]
  },
  {
   "cell_type": "markdown",
   "id": "2822905d",
   "metadata": {},
   "source": [
    "## Subgroups"
   ]
  },
  {
   "cell_type": "markdown",
   "id": "153e547e",
   "metadata": {},
   "source": [
    "Given a group, $G = \\langle S, \\circ \\rangle$, suppose that $T \\subseteq S$, such that $H = \\langle T, \\circ \\rangle$ forms a group itself, then $H$ is said to be a subgroup of $G$, sometimes denoted by $H \\trianglelefteq G$.\n",
    "\n",
    "There are two <i>trivial subgroups</i> of $G$: the group consisting of just the identity element, $\\langle \\{e\\}, \\circ \\rangle$, and entire group, $G$, itself.  All other subgroups are <i>proper subgroups</i>.\n",
    "\n",
    "A subgroup, $H$, is a <i>normal subgroup</i> of a group G, if, for all elements $g \\in G$ and for all $h \\in H \\Rightarrow ghg^{-1} \\in H$."
   ]
  },
  {
   "cell_type": "markdown",
   "id": "0e804de8",
   "metadata": {},
   "source": [
    "## Isomorphisms"
   ]
  },
  {
   "cell_type": "markdown",
   "id": "6bc771e7",
   "metadata": {},
   "source": [
    "TBD"
   ]
  },
  {
   "cell_type": "markdown",
   "id": "c70b3b07",
   "metadata": {},
   "source": [
    "## References"
   ]
  },
  {
   "cell_type": "markdown",
   "id": "b97393f5",
   "metadata": {},
   "source": [
    "TBD"
   ]
  }
 ],
 "metadata": {
  "kernelspec": {
   "display_name": "Python 3",
   "language": "python",
   "name": "python3"
  },
  "language_info": {
   "codemirror_mode": {
    "name": "ipython",
    "version": 3
   },
   "file_extension": ".py",
   "mimetype": "text/x-python",
   "name": "python",
   "nbconvert_exporter": "python",
   "pygments_lexer": "ipython3",
   "version": "3.7.7"
  }
 },
 "nbformat": 4,
 "nbformat_minor": 5
}
