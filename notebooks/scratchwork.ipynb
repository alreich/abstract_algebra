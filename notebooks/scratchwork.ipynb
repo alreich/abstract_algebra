{
 "cells": [
  {
   "cell_type": "markdown",
   "id": "1d4e02a0",
   "metadata": {},
   "source": [
    "# Scratchwork"
   ]
  },
  {
   "cell_type": "code",
   "execution_count": 1,
   "id": "f6b91b6b",
   "metadata": {},
   "outputs": [],
   "source": [
    "from finite_algebras import make_finite_algebra, generate_algebra_mod_n\n",
    "from finite_algebras import Group, Field, is_field\n",
    "\n",
    "import numpy as np"
   ]
  },
  {
   "cell_type": "code",
   "execution_count": 2,
   "id": "403e925a",
   "metadata": {},
   "outputs": [],
   "source": [
    "import os\n",
    "aa_path = os.path.join(os.getenv(\"PYPROJ\"), \"abstract_algebra\")\n",
    "alg_dir = os.path.join(aa_path, \"Algebras\")"
   ]
  },
  {
   "cell_type": "markdown",
   "id": "ae743ffe",
   "metadata": {},
   "source": [
    "## Checking for Field"
   ]
  },
  {
   "cell_type": "markdown",
   "id": "341a322d",
   "metadata": {},
   "source": [
    "### Rings"
   ]
  },
  {
   "cell_type": "code",
   "execution_count": 3,
   "id": "40b3c342",
   "metadata": {},
   "outputs": [
    {
     "name": "stdout",
     "output_type": "stream",
     "text": [
      "\n",
      "Ring: Powerset Ring 2\n",
      "Instance ID: 140261554583888\n",
      "Description: Ring on powerset of {0, 1}\n",
      "Identity: {}\n",
      "Associative? Yes\n",
      "Commutative? Yes\n",
      "Elements:\n",
      "   Index   Name   Inverse  Order\n",
      "      0      {}      {}       1\n",
      "      1     {0}     {0}       2\n",
      "      2     {1}     {1}       2\n",
      "      3  {0, 1}  {0, 1}       2\n",
      "Cayley Table (showing indices):\n",
      "[[0, 1, 2, 3], [1, 0, 3, 2], [2, 3, 0, 1], [3, 2, 1, 0]]\n",
      "Mult. Identity: {0, 1}\n",
      "Mult. Commutative? Yes\n",
      "Multiplicative Cayley Table (showing indices):\n",
      "[[0, 0, 0, 0], [0, 1, 0, 1], [0, 0, 2, 2], [0, 1, 2, 3]]\n"
     ]
    }
   ],
   "source": [
    "rng = make_finite_algebra('Powerset Ring 2',\n",
    "                          'Ring on powerset of {0, 1}',\n",
    "                          ['{}', '{0}', '{1}', '{0, 1}'],\n",
    "                          [[0, 1, 2, 3],\n",
    "                           [1, 0, 3, 2],\n",
    "                           [2, 3, 0, 1],\n",
    "                           [3, 2, 1, 0]],\n",
    "                          [[0, 0, 0, 0],\n",
    "                           [0, 1, 0, 1],\n",
    "                           [0, 0, 2, 2],\n",
    "                           [0, 1, 2, 3]]\n",
    "                         )\n",
    "rng.about()"
   ]
  },
  {
   "cell_type": "markdown",
   "id": "cca8c26c",
   "metadata": {},
   "source": [
    "## Fields"
   ]
  },
  {
   "cell_type": "markdown",
   "id": "363a985f",
   "metadata": {},
   "source": [
    "$GF(4) = GF(2)[X]/(X^2 + X + 1)$"
   ]
  },
  {
   "cell_type": "markdown",
   "id": "b9bf7b4e",
   "metadata": {},
   "source": [
    "See Wikipedia: [\"Field with four elements\"](https://en.wikipedia.org/wiki/Finite_field#Field_with_four_elements)"
   ]
  },
  {
   "cell_type": "code",
   "execution_count": 4,
   "id": "86f6a313",
   "metadata": {},
   "outputs": [
    {
     "name": "stdout",
     "output_type": "stream",
     "text": [
      "\n",
      "Field: F4\n",
      "Instance ID: 140261559763984\n",
      "Description: Field with 4 elements\n",
      "Identity: 0\n",
      "Associative? Yes\n",
      "Commutative? Yes\n",
      "Elements:\n",
      "   Index   Name   Inverse  Order\n",
      "      0       0       0       1\n",
      "      1       1       1       2\n",
      "      2       a       a       2\n",
      "      3     1+a     1+a       2\n",
      "Cayley Table (showing indices):\n",
      "[[0, 1, 2, 3], [1, 0, 3, 2], [2, 3, 0, 1], [3, 2, 1, 0]]\n",
      "Mult. Identity: 1\n",
      "Mult. Commutative? Yes\n",
      "Multiplicative Cayley Table (showing indices):\n",
      "[[0, 0, 0, 0], [0, 1, 2, 3], [0, 2, 3, 1], [0, 3, 1, 2]]\n"
     ]
    }
   ],
   "source": [
    "elems = ['0', '1', 'a', '1+a']\n",
    "\n",
    "add_table = [[ '0' ,  '1' ,  'a' , '1+a'],\n",
    "             [ '1' ,  '0' , '1+a',  'a' ],\n",
    "             [ 'a' , '1+a',  '0' ,  '1' ],\n",
    "             ['1+a',  'a' ,  '1' ,  '0' ]]\n",
    "\n",
    "mult_table = [['0',  '0' ,  '0' ,  '0' ],\n",
    "              ['0',  '1' ,  'a' , '1+a'],\n",
    "              ['0',  'a' , '1+a',  '1' ],\n",
    "              ['0', '1+a',  '1' ,  'a' ]]\n",
    "\n",
    "f4 = make_finite_algebra('F4',\n",
    "                         'Field with 4 elements',\n",
    "                         elems,\n",
    "                         add_table,\n",
    "                         mult_table\n",
    "                        )\n",
    "f4.about()"
   ]
  },
  {
   "cell_type": "code",
   "execution_count": null,
   "id": "036cca75",
   "metadata": {},
   "outputs": [],
   "source": []
  },
  {
   "cell_type": "code",
   "execution_count": 5,
   "id": "560113e4",
   "metadata": {},
   "outputs": [
    {
     "name": "stdout",
     "output_type": "stream",
     "text": [
      "\n",
      "Field: F4X\n",
      "Instance ID: 140261559732304\n",
      "Description: Also a Field with 4 elements\n",
      "Identity: 0\n",
      "Associative? Yes\n",
      "Commutative? Yes\n",
      "Elements:\n",
      "   Index   Name   Inverse  Order\n",
      "      0       0       0       1\n",
      "      1       1       1       2\n",
      "      2       a       a       2\n",
      "      3     1+a     1+a       2\n",
      "Cayley Table (showing indices):\n",
      "[[0, 1, 2, 3], [1, 0, 3, 2], [2, 3, 0, 1], [3, 2, 1, 0]]\n",
      "Mult. Identity: 1\n",
      "Mult. Commutative? Yes\n",
      "Multiplicative Cayley Table (showing indices):\n",
      "[[0, 0, 0, 0], [0, 1, 2, 3], [0, 2, 3, 1], [0, 3, 1, 2]]\n"
     ]
    }
   ],
   "source": [
    "f4x = Field('F4X',\n",
    "            'Also a Field with 4 elements',\n",
    "            elems,\n",
    "            add_table,\n",
    "            mult_table\n",
    "           )\n",
    "\n",
    "f4x.about()"
   ]
  },
  {
   "cell_type": "code",
   "execution_count": 6,
   "id": "dcd613f6",
   "metadata": {},
   "outputs": [
    {
     "name": "stdout",
     "output_type": "stream",
     "text": [
      "\n",
      "Group: No name\n",
      "Instance ID: 140261559688720\n",
      "Description: No description\n",
      "Identity: 1\n",
      "Associative? Yes\n",
      "Commutative? Yes\n",
      "Elements:\n",
      "   Index   Name   Inverse  Order\n",
      "      0       1       1       1\n",
      "      1       a     1+a       3\n",
      "      2     1+a       a       3\n",
      "Cayley Table (showing indices):\n",
      "[[0, 1, 2], [1, 2, 0], [2, 0, 1]]\n"
     ]
    }
   ],
   "source": [
    "foo = f4x.mult_abelian_subgroup()\n",
    "foo.about()"
   ]
  },
  {
   "cell_type": "code",
   "execution_count": null,
   "id": "3a6c41ff",
   "metadata": {},
   "outputs": [],
   "source": []
  },
  {
   "cell_type": "code",
   "execution_count": null,
   "id": "56e0ba5b",
   "metadata": {},
   "outputs": [],
   "source": []
  },
  {
   "cell_type": "code",
   "execution_count": 7,
   "id": "1355038e",
   "metadata": {},
   "outputs": [
    {
     "name": "stdout",
     "output_type": "stream",
     "text": [
      "\n",
      "Group: No name\n",
      "Instance ID: 140261559765392\n",
      "Description: No description\n",
      "Identity: 1\n",
      "Associative? Yes\n",
      "Commutative? Yes\n",
      "Elements:\n",
      "   Index   Name   Inverse  Order\n",
      "      0       1       1       1\n",
      "      1       a     1+a       3\n",
      "      2     1+a       a       3\n",
      "Cayley Table (showing names):\n",
      "[['1', 'a', '1+a'], ['a', '1+a', '1'], ['1+a', '1', 'a']]\n"
     ]
    }
   ],
   "source": [
    "mult_sub_grp = f4.mult_abelian_subgroup()\n",
    "mult_sub_grp.about(use_table_names=True)"
   ]
  },
  {
   "cell_type": "code",
   "execution_count": 8,
   "id": "96f86a7b",
   "metadata": {},
   "outputs": [
    {
     "data": {
      "text/plain": [
       "'1+a'"
      ]
     },
     "execution_count": 8,
     "metadata": {},
     "output_type": "execute_result"
    }
   ],
   "source": [
    "mult_sub_grp.op('a', mult_sub_grp.inv('1+a'))"
   ]
  },
  {
   "cell_type": "code",
   "execution_count": 9,
   "id": "24bccb2c",
   "metadata": {},
   "outputs": [
    {
     "data": {
      "text/plain": [
       "[[None, '0', '0', '0'],\n",
       " [None, '1', '1+a', 'a'],\n",
       " [None, 'a', '1', '1+a'],\n",
       " [None, '1+a', 'a', '1']]"
      ]
     },
     "execution_count": 9,
     "metadata": {},
     "output_type": "execute_result"
    }
   ],
   "source": [
    "div_table = [[f4.div(x, y) for y in f4.elements] for x in f4.elements]\n",
    "\n",
    "div_table"
   ]
  },
  {
   "cell_type": "code",
   "execution_count": 10,
   "id": "e53b3b80",
   "metadata": {},
   "outputs": [
    {
     "data": {
      "text/plain": [
       "Group(\n",
       "'No name',\n",
       "'No description',\n",
       "['1', 'a', '1+a'],\n",
       "[[0, 1, 2], [1, 2, 0], [2, 0, 1]]\n",
       ")"
      ]
     },
     "execution_count": 10,
     "metadata": {},
     "output_type": "execute_result"
    }
   ],
   "source": [
    "# is_field(f4)\n",
    "is_field(f4.identity, f4.elements, f4.mult_table.table)"
   ]
  },
  {
   "cell_type": "markdown",
   "id": "f72177f5",
   "metadata": {},
   "source": [
    "### Generate Field of Prime Order"
   ]
  },
  {
   "cell_type": "code",
   "execution_count": 11,
   "id": "d2de9622",
   "metadata": {},
   "outputs": [
    {
     "name": "stdout",
     "output_type": "stream",
     "text": [
      "\n",
      "Field: F7\n",
      "Instance ID: 140261559803536\n",
      "Description: Autogenerated Field of integers mod 7\n",
      "Identity: a0\n",
      "Associative? Yes\n",
      "Commutative? Yes\n",
      "Elements:\n",
      "   Index   Name   Inverse  Order\n",
      "      0      a0      a0       1\n",
      "      1      a1      a6       7\n",
      "      2      a2      a5       7\n",
      "      3      a3      a4       7\n",
      "      4      a4      a3       7\n",
      "      5      a5      a2       7\n",
      "      6      a6      a1       7\n",
      "Cayley Table (showing indices):\n",
      "[[0, 1, 2, 3, 4, 5, 6],\n",
      " [1, 2, 3, 4, 5, 6, 0],\n",
      " [2, 3, 4, 5, 6, 0, 1],\n",
      " [3, 4, 5, 6, 0, 1, 2],\n",
      " [4, 5, 6, 0, 1, 2, 3],\n",
      " [5, 6, 0, 1, 2, 3, 4],\n",
      " [6, 0, 1, 2, 3, 4, 5]]\n",
      "Mult. Identity: a1\n",
      "Mult. Commutative? Yes\n",
      "Multiplicative Cayley Table (showing indices):\n",
      "[[0, 0, 0, 0, 0, 0, 0],\n",
      " [0, 1, 2, 3, 4, 5, 6],\n",
      " [0, 2, 4, 6, 1, 3, 5],\n",
      " [0, 3, 6, 2, 5, 1, 4],\n",
      " [0, 4, 1, 5, 2, 6, 3],\n",
      " [0, 5, 3, 1, 6, 4, 2],\n",
      " [0, 6, 5, 4, 3, 2, 1]]\n"
     ]
    }
   ],
   "source": [
    "f7 = generate_algebra_mod_n(7)\n",
    "f7.about()"
   ]
  },
  {
   "cell_type": "code",
   "execution_count": 12,
   "id": "04fd2681",
   "metadata": {},
   "outputs": [
    {
     "name": "stdout",
     "output_type": "stream",
     "text": [
      "\n",
      "Group: F7.Add\n",
      "Instance ID: 140261559764880\n",
      "Description: Additive-only portion of F7\n",
      "Identity: a0\n",
      "Associative? Yes\n",
      "Commutative? Yes\n",
      "Elements:\n",
      "   Index   Name   Inverse  Order\n",
      "      0      a0      a0       1\n",
      "      1      a1      a6       7\n",
      "      2      a2      a5       7\n",
      "      3      a3      a4       7\n",
      "      4      a4      a3       7\n",
      "      5      a5      a2       7\n",
      "      6      a6      a1       7\n",
      "Cayley Table (showing indices):\n",
      "[[0, 1, 2, 3, 4, 5, 6],\n",
      " [1, 2, 3, 4, 5, 6, 0],\n",
      " [2, 3, 4, 5, 6, 0, 1],\n",
      " [3, 4, 5, 6, 0, 1, 2],\n",
      " [4, 5, 6, 0, 1, 2, 3],\n",
      " [5, 6, 0, 1, 2, 3, 4],\n",
      " [6, 0, 1, 2, 3, 4, 5]]\n"
     ]
    }
   ],
   "source": [
    "f7_add = f7.extract_additive_algebra()\n",
    "f7_add.about()"
   ]
  },
  {
   "cell_type": "code",
   "execution_count": 13,
   "id": "632346dd",
   "metadata": {},
   "outputs": [
    {
     "name": "stdout",
     "output_type": "stream",
     "text": [
      "\n",
      "Monoid: F7.Mult\n",
      "Instance ID: 140261559791312\n",
      "Description: Multiplicative-only portion of F7\n",
      "Elements: ['a0', 'a1', 'a2', 'a3', 'a4', 'a5', 'a6']\n",
      "Identity: a1\n",
      "Associative? Yes\n",
      "Commutative? Yes\n",
      "Has Inverses? No\n",
      "Cayley Table (showing indices):\n",
      "[[0, 0, 0, 0, 0, 0, 0],\n",
      " [0, 1, 2, 3, 4, 5, 6],\n",
      " [0, 2, 4, 6, 1, 3, 5],\n",
      " [0, 3, 6, 2, 5, 1, 4],\n",
      " [0, 4, 1, 5, 2, 6, 3],\n",
      " [0, 5, 3, 1, 6, 4, 2],\n",
      " [0, 6, 5, 4, 3, 2, 1]]\n"
     ]
    }
   ],
   "source": [
    "f7_mult = f7.extract_multiplicative_algebra()\n",
    "f7_mult.about()"
   ]
  },
  {
   "cell_type": "code",
   "execution_count": 14,
   "id": "40094490",
   "metadata": {},
   "outputs": [
    {
     "name": "stdout",
     "output_type": "stream",
     "text": [
      "[('Group', 6), ('Group', 2), ('Monoid', 3), ('Monoid', 4), ('Monoid', 2), ('Group', 3)]\n",
      "\n",
      "Group: F7.Mult_subalgebra_0\n",
      "Instance ID: 140261559766608\n",
      "Description: Subalgebra of: Multiplicative-only portion of F7\n",
      "Identity: a1\n",
      "Associative? Yes\n",
      "Commutative? Yes\n",
      "Elements:\n",
      "   Index   Name   Inverse  Order\n",
      "      0      a1      a1       1\n",
      "      1      a2      a4       3\n",
      "      2      a3      a5       6\n",
      "      3      a4      a2       3\n",
      "      4      a5      a3       6\n",
      "      5      a6      a6       2\n",
      "Cayley Table (showing indices):\n",
      "[[0, 1, 2, 3, 4, 5],\n",
      " [1, 3, 5, 0, 2, 4],\n",
      " [2, 5, 1, 4, 0, 3],\n",
      " [3, 0, 4, 1, 5, 2],\n",
      " [4, 2, 0, 5, 3, 1],\n",
      " [5, 4, 3, 2, 1, 0]]\n",
      "\n",
      "Group: F7.Mult_subalgebra_1\n",
      "Instance ID: 140261559765648\n",
      "Description: Subalgebra of: Multiplicative-only portion of F7\n",
      "Identity: a1\n",
      "Associative? Yes\n",
      "Commutative? Yes\n",
      "Elements:\n",
      "   Index   Name   Inverse  Order\n",
      "      0      a1      a1       1\n",
      "      1      a6      a6       2\n",
      "Cayley Table (showing indices):\n",
      "[[0, 1], [1, 0]]\n",
      "\n",
      "Group: F7.Mult_subalgebra_5\n",
      "Instance ID: 140261559764304\n",
      "Description: Subalgebra of: Multiplicative-only portion of F7\n",
      "Identity: a1\n",
      "Associative? Yes\n",
      "Commutative? Yes\n",
      "Elements:\n",
      "   Index   Name   Inverse  Order\n",
      "      0      a1      a1       1\n",
      "      1      a2      a4       3\n",
      "      2      a4      a2       3\n",
      "Cayley Table (showing indices):\n",
      "[[0, 1, 2], [1, 2, 0], [2, 0, 1]]\n"
     ]
    },
    {
     "data": {
      "text/plain": [
       "[None, None, None]"
      ]
     },
     "execution_count": 14,
     "metadata": {},
     "output_type": "execute_result"
    }
   ],
   "source": [
    "f7_mult_subs = f7_mult.proper_subalgebras()\n",
    "\n",
    "print([(alg.__class__.__name__, alg.order) for alg in f7_mult_subs])\n",
    "\n",
    "[alg.about() for alg in f7_mult_subs if isinstance(alg, Group)]"
   ]
  }
 ],
 "metadata": {
  "kernelspec": {
   "display_name": "Python 3",
   "language": "python",
   "name": "python3"
  },
  "language_info": {
   "codemirror_mode": {
    "name": "ipython",
    "version": 3
   },
   "file_extension": ".py",
   "mimetype": "text/x-python",
   "name": "python",
   "nbconvert_exporter": "python",
   "pygments_lexer": "ipython3",
   "version": "3.7.7"
  }
 },
 "nbformat": 4,
 "nbformat_minor": 5
}
