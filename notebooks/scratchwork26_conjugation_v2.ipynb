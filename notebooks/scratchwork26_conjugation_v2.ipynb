{
 "cells": [
  {
   "cell_type": "markdown",
   "id": "a50b27f4",
   "metadata": {},
   "source": [
    "# Conjugation"
   ]
  },
  {
   "cell_type": "code",
   "execution_count": 1,
   "id": "3151c155",
   "metadata": {},
   "outputs": [],
   "source": [
    "import finite_algebras as alg\n",
    "import numpy as np"
   ]
  },
  {
   "cell_type": "code",
   "execution_count": 2,
   "id": "d95ad7c5-7e41-4625-8906-0ae7007c7f95",
   "metadata": {},
   "outputs": [],
   "source": [
    "vers = 2"
   ]
  },
  {
   "cell_type": "code",
   "execution_count": 3,
   "id": "d47580a9",
   "metadata": {},
   "outputs": [],
   "source": [
    "F3 = alg.generate_algebra_mod_n(3)\n",
    "F3cda = F3.make_cayley_dickson_algebra(version=vers)\n",
    "F3cda2 = F3cda.make_cayley_dickson_algebra(version=vers)"
   ]
  },
  {
   "cell_type": "code",
   "execution_count": 4,
   "id": "ff68122c",
   "metadata": {},
   "outputs": [],
   "source": [
    "R4 = alg.generate_algebra_mod_n(4)\n",
    "R4cda = R4.make_cayley_dickson_algebra(version=vers)"
   ]
  },
  {
   "cell_type": "code",
   "execution_count": 5,
   "id": "aa96f363",
   "metadata": {},
   "outputs": [],
   "source": [
    "F5 = alg.generate_algebra_mod_n(5)\n",
    "F5cda = F5.make_cayley_dickson_algebra(version=vers)"
   ]
  },
  {
   "cell_type": "code",
   "execution_count": 6,
   "id": "1ddb1f62",
   "metadata": {},
   "outputs": [],
   "source": [
    "F7 = alg.generate_algebra_mod_n(7)\n",
    "F7cda = F7.make_cayley_dickson_algebra(version=vers)"
   ]
  },
  {
   "cell_type": "code",
   "execution_count": 7,
   "id": "94002ae6-8597-444e-813c-52ab16eef647",
   "metadata": {},
   "outputs": [
    {
     "name": "stdout",
     "output_type": "stream",
     "text": [
      "CPU times: user 5.62 s, sys: 5.99 ms, total: 5.63 s\n",
      "Wall time: 5.63 s\n"
     ]
    }
   ],
   "source": [
    "%%time\n",
    "\n",
    "F11 = alg.generate_algebra_mod_n(11)\n",
    "F11cda = F11.make_cayley_dickson_algebra(version=vers)"
   ]
  },
  {
   "cell_type": "code",
   "execution_count": 8,
   "id": "c41d9ab7-3578-40c2-bcd1-e8bb9db3ea7e",
   "metadata": {},
   "outputs": [
    {
     "name": "stdout",
     "output_type": "stream",
     "text": [
      "CPU times: user 11.3 s, sys: 9.52 ms, total: 11.3 s\n",
      "Wall time: 11.3 s\n"
     ]
    }
   ],
   "source": [
    "%%time\n",
    "\n",
    "F13 = alg.generate_algebra_mod_n(13)\n",
    "F13cda = F13.make_cayley_dickson_algebra(version=vers)"
   ]
  },
  {
   "cell_type": "code",
   "execution_count": 9,
   "id": "f1caf080",
   "metadata": {},
   "outputs": [
    {
     "name": "stdout",
     "output_type": "stream",
     "text": [
      "F3 : Field\n",
      "F3_CDA53 : Field\n",
      "F3_CDA53_CDA53 : Ring\n",
      "F5 : Field\n",
      "F5_CDA53 : Ring\n",
      "F7 : Field\n",
      "F7_CDA53 : Field\n",
      "R4 : Ring\n",
      "R4_CDA53 : Ring\n",
      "F11 : Field\n",
      "F11_CDA53 : Field\n",
      "F13 : Field\n",
      "F13_CDA53 : Ring\n"
     ]
    }
   ],
   "source": [
    "cdas =[F3, F3cda, F3cda2, F5, F5cda, F7, F7cda, R4, R4cda, F11, F11cda, F13, F13cda]\n",
    "\n",
    "for cda in cdas:\n",
    "    print(f\"{cda.name} : {cda.__class__.__name__}\")"
   ]
  },
  {
   "cell_type": "code",
   "execution_count": 10,
   "id": "077dc5a7",
   "metadata": {},
   "outputs": [
    {
     "data": {
      "text/plain": [
       "{'0:0': '0:0',\n",
       " '0:1': '0:2',\n",
       " '0:2': '0:1',\n",
       " '1:0': '1:0',\n",
       " '1:1': '1:2',\n",
       " '1:2': '1:1',\n",
       " '2:0': '2:0',\n",
       " '2:1': '2:2',\n",
       " '2:2': '2:1'}"
      ]
     },
     "execution_count": 10,
     "metadata": {},
     "output_type": "execute_result"
    }
   ],
   "source": [
    "F3cda.conjugates()"
   ]
  },
  {
   "cell_type": "code",
   "execution_count": 11,
   "id": "2050e8c5",
   "metadata": {},
   "outputs": [
    {
     "data": {
      "text/plain": [
       "True"
      ]
     },
     "execution_count": 11,
     "metadata": {},
     "output_type": "execute_result"
    }
   ],
   "source": [
    "F3cda.conj('0:2') == '0:1'"
   ]
  },
  {
   "cell_type": "code",
   "execution_count": 12,
   "id": "447b9fca",
   "metadata": {},
   "outputs": [
    {
     "data": {
      "text/plain": [
       "True"
      ]
     },
     "execution_count": 12,
     "metadata": {},
     "output_type": "execute_result"
    }
   ],
   "source": [
    "F3.conj('1') == '1'"
   ]
  },
  {
   "cell_type": "code",
   "execution_count": 13,
   "id": "36d1ec02",
   "metadata": {},
   "outputs": [
    {
     "name": "stdout",
     "output_type": "stream",
     "text": [
      "['0:0:0:0', '0:0:0:1', '0:0:0:2', '0:0:1:0', '0:0:1:1', '0:0:1:2', '0:0:2:0', '0:0:2:1', '0:0:2:2', '0:1:0:0', '0:1:0:1', '0:1:0:2', '0:1:1:0', '0:1:1:1', '0:1:1:2', '0:1:2:0', '0:1:2:1', '0:1:2:2', '0:2:0:0', '0:2:0:1', '0:2:0:2', '0:2:1:0', '0:2:1:1', '0:2:1:2', '0:2:2:0', '0:2:2:1', '0:2:2:2', '1:0:0:0', '1:0:0:1', '1:0:0:2', '1:0:1:0', '1:0:1:1', '1:0:1:2', '1:0:2:0', '1:0:2:1', '1:0:2:2', '1:1:0:0', '1:1:0:1', '1:1:0:2', '1:1:1:0', '1:1:1:1', '1:1:1:2', '1:1:2:0', '1:1:2:1', '1:1:2:2', '1:2:0:0', '1:2:0:1', '1:2:0:2', '1:2:1:0', '1:2:1:1', '1:2:1:2', '1:2:2:0', '1:2:2:1', '1:2:2:2', '2:0:0:0', '2:0:0:1', '2:0:0:2', '2:0:1:0', '2:0:1:1', '2:0:1:2', '2:0:2:0', '2:0:2:1', '2:0:2:2', '2:1:0:0', '2:1:0:1', '2:1:0:2', '2:1:1:0', '2:1:1:1', '2:1:1:2', '2:1:2:0', '2:1:2:1', '2:1:2:2', '2:2:0:0', '2:2:0:1', '2:2:0:2', '2:2:1:0', '2:2:1:1', '2:2:1:2', '2:2:2:0', '2:2:2:1', '2:2:2:2']\n"
     ]
    }
   ],
   "source": [
    "print(F3cda2.elements)"
   ]
  },
  {
   "cell_type": "code",
   "execution_count": 14,
   "id": "b6fde45b",
   "metadata": {},
   "outputs": [
    {
     "data": {
      "text/plain": [
       "True"
      ]
     },
     "execution_count": 14,
     "metadata": {},
     "output_type": "execute_result"
    }
   ],
   "source": [
    "F3cda2.conj('1:2:1:2') == '1:1:2:1'"
   ]
  },
  {
   "cell_type": "code",
   "execution_count": 15,
   "id": "3ba2df4f",
   "metadata": {},
   "outputs": [],
   "source": [
    "# F3cda2.conjugates()"
   ]
  },
  {
   "cell_type": "code",
   "execution_count": null,
   "id": "3cb99360",
   "metadata": {},
   "outputs": [],
   "source": []
  }
 ],
 "metadata": {
  "kernelspec": {
   "display_name": "Python 3 (ipykernel)",
   "language": "python",
   "name": "python3"
  },
  "language_info": {
   "codemirror_mode": {
    "name": "ipython",
    "version": 3
   },
   "file_extension": ".py",
   "mimetype": "text/x-python",
   "name": "python",
   "nbconvert_exporter": "python",
   "pygments_lexer": "ipython3",
   "version": "3.11.5"
  }
 },
 "nbformat": 4,
 "nbformat_minor": 5
}
