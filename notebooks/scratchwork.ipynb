{
 "cells": [
  {
   "cell_type": "markdown",
   "id": "e97087ca",
   "metadata": {},
   "source": [
    "# Scratchwork"
   ]
  },
  {
   "cell_type": "markdown",
   "id": "cd0e3fab",
   "metadata": {},
   "source": [
    "This notebook is only used for trying out ideas."
   ]
  },
  {
   "cell_type": "code",
   "execution_count": 28,
   "id": "115b3a2b",
   "metadata": {},
   "outputs": [],
   "source": [
    "import algebras as alg\n",
    "import json\n",
    "import os\n",
    "import numpy as np\n",
    "import itertools as it\n",
    "from pprint import pprint"
   ]
  },
  {
   "cell_type": "code",
   "execution_count": 29,
   "id": "4abfcec3",
   "metadata": {},
   "outputs": [],
   "source": [
    "# Path to this repo\n",
    "aa_path = os.path.join(os.getenv('PYPROJ'), 'abstract_algebra')\n",
    "\n",
    "# Path to a directory containing Algebra definitions in JSON\n",
    "alg_dir = os.path.join(aa_path, \"Algebras\")"
   ]
  },
  {
   "cell_type": "markdown",
   "id": "904b4aa5",
   "metadata": {},
   "source": [
    "## Groups for Testing"
   ]
  },
  {
   "cell_type": "markdown",
   "id": "fc155d39",
   "metadata": {},
   "source": [
    "### D4 - Dihedral Group on 4 Vertices"
   ]
  },
  {
   "cell_type": "code",
   "execution_count": 30,
   "id": "4ca4a05a",
   "metadata": {},
   "outputs": [
    {
     "name": "stdout",
     "output_type": "stream",
     "text": [
      "{\"type\": \"Group\",\r\n",
      " \"name\": \"D_4\",\r\n",
      " \"description\": \"Dihedral group on four vertices\",\r\n",
      " \"element_names\": [\"e\", \"r\", \"r^2\", \"r^3\", \"f\", \"fr\", \"r^2f\", \"rf\"],\r\n",
      " \"alt_elem_names\": [\"()\", \"(0 1 2 3)\", \"(0 2)(1 3)\", \"(0 3 2 1)\",\r\n",
      "                    \"(0 1)(2 3)\", \"(1 3)\", \"(0 3)(1 2)\", \"(0 2)\"],\r\n",
      " \"mult_table\": [[0, 1, 2, 3, 4, 5, 6, 7],\r\n",
      "                [1, 2, 3, 0, 7, 4, 5, 6],\r\n",
      "                [2, 3, 0, 1, 6, 7, 4, 5],\r\n",
      "                [3, 0, 1, 2, 5, 6, 7, 4],\r\n",
      "                [4, 5, 6, 7, 0, 1, 2, 3],\r\n",
      "                [5, 6, 7, 4, 3, 0, 1, 2],\r\n",
      "                [6, 7, 4, 5, 2, 3, 0, 1],\r\n",
      "                [7, 4, 5, 6, 1, 2, 3, 0]]\r\n",
      "}"
     ]
    }
   ],
   "source": [
    "d4_path = os.path.join(alg_dir, \"d4_dihedral_group_on_4_vertices.json\")\n",
    "!cat {d4_path}"
   ]
  },
  {
   "cell_type": "code",
   "execution_count": 31,
   "id": "a416ba0e",
   "metadata": {},
   "outputs": [
    {
     "name": "stdout",
     "output_type": "stream",
     "text": [
      "\n",
      "Group : D_4 : Dihedral group on four vertices\n",
      "  Element Names: ['e', 'r', 'r^2', 'r^3', 'f', 'fr', 'r^2f', 'rf']\n",
      "  Is Abelian? False\n",
      "  Inverses:  (** - indicates that it is its own inverse)\n",
      "    inv(e) = e   **\n",
      "    inv(r) = r^3 \n",
      "    inv(r^2) = r^2   **\n",
      "    inv(r^3) = r \n",
      "    inv(f) = f   **\n",
      "    inv(fr) = fr   **\n",
      "    inv(r^2f) = r^2f   **\n",
      "    inv(rf) = rf   **\n",
      "Element Orders:\n",
      "{1: ['e'], 2: ['r^2', 'f', 'fr', 'r^2f', 'rf'], 4: ['r', 'r^3']}\n",
      "  Is associative? True\n",
      "  Cayley Table:\n",
      "[['e', 'r', 'r^2', 'r^3', 'f', 'fr', 'r^2f', 'rf'],\n",
      " ['r', 'r^2', 'r^3', 'e', 'rf', 'f', 'fr', 'r^2f'],\n",
      " ['r^2', 'r^3', 'e', 'r', 'r^2f', 'rf', 'f', 'fr'],\n",
      " ['r^3', 'e', 'r', 'r^2', 'fr', 'r^2f', 'rf', 'f'],\n",
      " ['f', 'fr', 'r^2f', 'rf', 'e', 'r', 'r^2', 'r^3'],\n",
      " ['fr', 'r^2f', 'rf', 'f', 'r^3', 'e', 'r', 'r^2'],\n",
      " ['r^2f', 'rf', 'f', 'fr', 'r^2', 'r^3', 'e', 'r'],\n",
      " ['rf', 'f', 'fr', 'r^2f', 'r', 'r^2', 'r^3', 'e']]\n"
     ]
    }
   ],
   "source": [
    "d4 = alg.Group(d4_path)\n",
    "d4.print_info()"
   ]
  },
  {
   "cell_type": "markdown",
   "id": "44ce5e6c",
   "metadata": {},
   "source": [
    "### V4 - Klein 4 Group"
   ]
  },
  {
   "cell_type": "code",
   "execution_count": 32,
   "id": "463d1195",
   "metadata": {},
   "outputs": [
    {
     "name": "stdout",
     "output_type": "stream",
     "text": [
      "{\"type\": \"Group\",\r\n",
      " \"name\": \"V4\",\r\n",
      " \"description\": \"Klein-4 group\",\r\n",
      " \"element_names\": [\"e\", \"h\", \"v\", \"hv\"],\r\n",
      " \"mult_table\": [[0, 1, 2, 3],\r\n",
      "                [1, 0, 3, 2],\r\n",
      "                [2, 3, 0, 1],\r\n",
      "                [3, 2, 1, 0]]\r\n",
      "}\r\n"
     ]
    }
   ],
   "source": [
    "v4_path = os.path.join(alg_dir, \"v4_klein_4_group.json\")\n",
    "!cat {v4_path}"
   ]
  },
  {
   "cell_type": "code",
   "execution_count": 33,
   "id": "8a0c714c",
   "metadata": {},
   "outputs": [
    {
     "name": "stdout",
     "output_type": "stream",
     "text": [
      "\n",
      "Group : V4 : Klein-4 group\n",
      "  Element Names: ['e', 'h', 'v', 'hv']\n",
      "  Is Abelian? True\n",
      "  Inverses:  (** - indicates that it is its own inverse)\n",
      "    inv(e) = e   **\n",
      "    inv(h) = h   **\n",
      "    inv(v) = v   **\n",
      "    inv(hv) = hv   **\n",
      "Element Orders:\n",
      "{1: ['e'], 2: ['h', 'v', 'hv']}\n",
      "  Is associative? True\n",
      "  Cayley Table:\n",
      "[['e', 'h', 'v', 'hv'],\n",
      " ['h', 'e', 'hv', 'v'],\n",
      " ['v', 'hv', 'e', 'h'],\n",
      " ['hv', 'v', 'h', 'e']]\n"
     ]
    }
   ],
   "source": [
    "v4 = alg.Group(v4_path)\n",
    "v4.print_info()"
   ]
  },
  {
   "cell_type": "markdown",
   "id": "ceeed040",
   "metadata": {},
   "source": [
    "## Changing the Order of Elements"
   ]
  },
  {
   "cell_type": "markdown",
   "id": "c87d4e5b",
   "metadata": {},
   "source": [
    "<b>Observation</b>: If the group is abelian, then changing the order of the elements does <b>not</b> affect the order of the indices in the <i>mult_table</i>.  <b>Why?</b>"
   ]
  },
  {
   "cell_type": "raw",
   "id": "d8f4a6b3",
   "metadata": {},
   "source": [
    "def table_from_reordered_elements(grp, reordered_elements, verbose=False):\n",
    "    order = grp.order()\n",
    "    new_table = np.full((order, order), 0)\n",
    "    for row in range(order):\n",
    "        r = reordered_elements[row]\n",
    "        for col in range(order):\n",
    "            c = reordered_elements[col]\n",
    "            prod = grp.mult(r, c)\n",
    "            prod_index = reordered_elements.index(prod)\n",
    "            if verbose:\n",
    "                print(f\"{r} x {c} = {prod} ({prod_index})\")\n",
    "            new_table[row, col] = prod_index\n",
    "    return new_table"
   ]
  },
  {
   "cell_type": "raw",
   "id": "98b1ba36",
   "metadata": {},
   "source": [
    "def table_from_reordered_elements(grp, reordered_elements):\n",
    "    order = grp.order()\n",
    "    new_table = np.full((order, order), 0)\n",
    "    for row in range(order):\n",
    "        for col in range(order):\n",
    "            prod = grp.mult(reordered_elements[row], reordered_elements[col])\n",
    "            new_table[row, col] = reordered_elements.index(prod)\n",
    "    return new_table"
   ]
  },
  {
   "cell_type": "code",
   "execution_count": 34,
   "id": "26a63ac5",
   "metadata": {},
   "outputs": [],
   "source": [
    "# new_elem_order = v4.element_names\n",
    "# new_v4_elem_order = ['e', 'v', 'h', 'hv']\n",
    "new_v4_elem_order = [\"e\", \"hv\", \"h\", \"v\"]"
   ]
  },
  {
   "cell_type": "code",
   "execution_count": 35,
   "id": "d686cf03",
   "metadata": {},
   "outputs": [
    {
     "data": {
      "text/plain": [
       "Group('V4_REORDERED',\n",
       "'Klein-4 group (elements reordered)',\n",
       "['e', 'hv', 'h', 'v'],\n",
       "[[0, 1, 2, 3], [1, 0, 3, 2], [2, 3, 0, 1], [3, 2, 1, 0]]) "
      ]
     },
     "execution_count": 35,
     "metadata": {},
     "output_type": "execute_result"
    }
   ],
   "source": [
    "#table_from_reordered_elements(v4, new_v4_elem_order)\n",
    "v4_reordered = v4.reorder_elements(new_v4_elem_order)\n",
    "v4_reordered"
   ]
  },
  {
   "cell_type": "code",
   "execution_count": 36,
   "id": "0c8f78c3",
   "metadata": {},
   "outputs": [
    {
     "name": "stdout",
     "output_type": "stream",
     "text": [
      "[['e', 'hv', 'h', 'v'],\n",
      " ['hv', 'e', 'v', 'h'],\n",
      " ['h', 'v', 'e', 'hv'],\n",
      " ['v', 'h', 'hv', 'e']]\n"
     ]
    }
   ],
   "source": [
    "pprint(v4_reordered.mult_table_with_names())"
   ]
  },
  {
   "cell_type": "code",
   "execution_count": 37,
   "id": "d784c4d5",
   "metadata": {},
   "outputs": [
    {
     "data": {
      "text/plain": [
       "array([[0, 1, 2, 3],\n",
       "       [1, 0, 3, 2],\n",
       "       [2, 3, 0, 1],\n",
       "       [3, 2, 1, 0]])"
      ]
     },
     "execution_count": 37,
     "metadata": {},
     "output_type": "execute_result"
    }
   ],
   "source": [
    "v4_reordered.mult_table"
   ]
  },
  {
   "cell_type": "code",
   "execution_count": 38,
   "id": "2f9e3080",
   "metadata": {},
   "outputs": [
    {
     "name": "stdout",
     "output_type": "stream",
     "text": [
      "[['e', 'h', 'v', 'hv'],\n",
      " ['h', 'e', 'hv', 'v'],\n",
      " ['v', 'hv', 'e', 'h'],\n",
      " ['hv', 'v', 'h', 'e']]\n"
     ]
    }
   ],
   "source": [
    "pprint(v4.mult_table_with_names())"
   ]
  },
  {
   "cell_type": "code",
   "execution_count": 39,
   "id": "b55d70ba",
   "metadata": {},
   "outputs": [
    {
     "data": {
      "text/plain": [
       "array([[0, 1, 2, 3],\n",
       "       [1, 0, 3, 2],\n",
       "       [2, 3, 0, 1],\n",
       "       [3, 2, 1, 0]])"
      ]
     },
     "execution_count": 39,
     "metadata": {},
     "output_type": "execute_result"
    }
   ],
   "source": [
    "v4.mult_table"
   ]
  },
  {
   "cell_type": "code",
   "execution_count": null,
   "id": "68724d76",
   "metadata": {},
   "outputs": [],
   "source": []
  },
  {
   "cell_type": "code",
   "execution_count": 40,
   "id": "585b8b3c",
   "metadata": {},
   "outputs": [],
   "source": [
    "new_d4_elem_order = [\"e\", \"r\", \"r^2\", \"f\", \"r^3\", \"fr\", \"r^2f\", \"rf\"]"
   ]
  },
  {
   "cell_type": "code",
   "execution_count": 41,
   "id": "41a2dd0d",
   "metadata": {},
   "outputs": [
    {
     "data": {
      "text/plain": [
       "Group('D_4_REORDERED',\n",
       "'Dihedral group on four vertices (elements reordered)',\n",
       "['e', 'r', 'r^2', 'f', 'r^3', 'fr', 'r^2f', 'rf'],\n",
       "[[0, 1, 2, 3, 4, 5, 6, 7], [1, 2, 4, 7, 0, 3, 5, 6], [2, 4, 0, 6, 1, 7, 3, 5], [3, 5, 6, 0, 7, 1, 2, 4], [4, 0, 1, 5, 2, 6, 7, 3], [5, 6, 7, 4, 3, 0, 1, 2], [6, 7, 3, 2, 5, 4, 0, 1], [7, 3, 5, 1, 6, 2, 4, 0]]) "
      ]
     },
     "execution_count": 41,
     "metadata": {},
     "output_type": "execute_result"
    }
   ],
   "source": [
    "d4_reordered = d4.reorder_elements(new_d4_elem_order)\n",
    "d4_reordered"
   ]
  },
  {
   "cell_type": "code",
   "execution_count": 42,
   "id": "dd89235a",
   "metadata": {},
   "outputs": [
    {
     "data": {
      "text/plain": [
       "array([[0, 1, 2, 3, 4, 5, 6, 7],\n",
       "       [1, 2, 4, 7, 0, 3, 5, 6],\n",
       "       [2, 4, 0, 6, 1, 7, 3, 5],\n",
       "       [3, 5, 6, 0, 7, 1, 2, 4],\n",
       "       [4, 0, 1, 5, 2, 6, 7, 3],\n",
       "       [5, 6, 7, 4, 3, 0, 1, 2],\n",
       "       [6, 7, 3, 2, 5, 4, 0, 1],\n",
       "       [7, 3, 5, 1, 6, 2, 4, 0]])"
      ]
     },
     "execution_count": 42,
     "metadata": {},
     "output_type": "execute_result"
    }
   ],
   "source": [
    "d4_reordered.mult_table"
   ]
  },
  {
   "cell_type": "code",
   "execution_count": 43,
   "id": "c09653e6",
   "metadata": {},
   "outputs": [
    {
     "data": {
      "text/plain": [
       "array([[0, 1, 2, 3, 4, 5, 6, 7],\n",
       "       [1, 2, 3, 0, 7, 4, 5, 6],\n",
       "       [2, 3, 0, 1, 6, 7, 4, 5],\n",
       "       [3, 0, 1, 2, 5, 6, 7, 4],\n",
       "       [4, 5, 6, 7, 0, 1, 2, 3],\n",
       "       [5, 6, 7, 4, 3, 0, 1, 2],\n",
       "       [6, 7, 4, 5, 2, 3, 0, 1],\n",
       "       [7, 4, 5, 6, 1, 2, 3, 0]])"
      ]
     },
     "execution_count": 43,
     "metadata": {},
     "output_type": "execute_result"
    }
   ],
   "source": [
    "d4.mult_table"
   ]
  },
  {
   "cell_type": "code",
   "execution_count": null,
   "id": "f1f8addf",
   "metadata": {},
   "outputs": [],
   "source": []
  },
  {
   "cell_type": "code",
   "execution_count": 24,
   "id": "771488b7",
   "metadata": {},
   "outputs": [
    {
     "data": {
      "text/plain": [
       "{'e': 1, 'r': 4, 'r^2': 2, 'r^3': 4, 'f': 2, 'fr': 2, 'r^2f': 2, 'rf': 2}"
      ]
     },
     "execution_count": 24,
     "metadata": {},
     "output_type": "execute_result"
    }
   ],
   "source": [
    "d4.element_orders()"
   ]
  },
  {
   "cell_type": "code",
   "execution_count": 25,
   "id": "2894d2bf",
   "metadata": {},
   "outputs": [
    {
     "data": {
      "text/plain": [
       "{'e': 1, 'r': 4, 'r^2': 2, 'f': 2, 'r^3': 4, 'fr': 2, 'r^2f': 2, 'rf': 2}"
      ]
     },
     "execution_count": 25,
     "metadata": {},
     "output_type": "execute_result"
    }
   ],
   "source": [
    "d4_reordered.element_orders()"
   ]
  },
  {
   "cell_type": "markdown",
   "id": "0c91890d",
   "metadata": {},
   "source": [
    "## Generating Possible Multiplication Tables"
   ]
  },
  {
   "cell_type": "code",
   "execution_count": null,
   "id": "2cbd1121",
   "metadata": {},
   "outputs": [],
   "source": [
    "from itertools import permutations\n",
    "\n",
    "def no_conflict(p1, p2):\n",
    "    \"\"\"Returns True only if no element of p1 equals the corresponding element of p2.\"\"\"\n",
    "    return all([p1[i] != p2[i] for i in range(len(p1))])"
   ]
  },
  {
   "cell_type": "code",
   "execution_count": null,
   "id": "c06e7e12",
   "metadata": {},
   "outputs": [],
   "source": [
    "p1 = (0, 1, 2, 3)\n",
    "p2 = (1, 0, 3, 2)\n",
    "p3 = (0, 1, 3, 2)\n",
    "\n",
    "print(no_conflict(p1, p2))\n",
    "print(no_conflict(p1, p3))"
   ]
  },
  {
   "cell_type": "code",
   "execution_count": null,
   "id": "68cc3aee",
   "metadata": {},
   "outputs": [],
   "source": [
    "order = 4\n",
    "row0 = list(range(order))\n",
    "print(f\"row0: {row0}\")\n",
    "\n",
    "all_rows = list(permutations(row0))\n",
    "print(f\"# of permutations: {len(all_rows)}\")\n",
    "print(f\"Permutations of first row: \\n{all_rows}\")"
   ]
  },
  {
   "cell_type": "code",
   "execution_count": null,
   "id": "6543fe10",
   "metadata": {},
   "outputs": [],
   "source": [
    "def filter(perms, perm, n):\n",
    "    \"\"\"Filter out all permutations in perms that confict with perm,\n",
    "    and don't have n as the first element.\"\"\"\n",
    "    nperms = [q for q in perms if q[0] == n]\n",
    "    return [p for p in nperms if no_conflict(p, perm)]"
   ]
  },
  {
   "cell_type": "markdown",
   "id": "4d1b3c13",
   "metadata": {},
   "source": [
    "### row0"
   ]
  },
  {
   "cell_type": "code",
   "execution_count": null,
   "id": "0437bf82",
   "metadata": {},
   "outputs": [],
   "source": [
    "row0"
   ]
  },
  {
   "cell_type": "markdown",
   "id": "5a6d70d6",
   "metadata": {},
   "source": [
    "### all possible row1, row2, and row3, resp., that don't conflict with row0"
   ]
  },
  {
   "cell_type": "code",
   "execution_count": null,
   "id": "f1968750",
   "metadata": {},
   "outputs": [],
   "source": [
    "rows1a = filter(all_rows, row0, 1)\n",
    "rows1a"
   ]
  },
  {
   "cell_type": "code",
   "execution_count": null,
   "id": "d95d63d6",
   "metadata": {},
   "outputs": [],
   "source": [
    "rows2a = filter(all_rows, row0, 2)\n",
    "rows2a"
   ]
  },
  {
   "cell_type": "code",
   "execution_count": null,
   "id": "de5bf247",
   "metadata": {},
   "outputs": [],
   "source": [
    "rows3a = filter(all_rows, row0, 3)\n",
    "rows3a"
   ]
  },
  {
   "cell_type": "code",
   "execution_count": null,
   "id": "0eac09fa",
   "metadata": {},
   "outputs": [],
   "source": []
  },
  {
   "cell_type": "code",
   "execution_count": null,
   "id": "26d59332",
   "metadata": {},
   "outputs": [],
   "source": []
  },
  {
   "cell_type": "code",
   "execution_count": null,
   "id": "8dda5fd3",
   "metadata": {},
   "outputs": [],
   "source": []
  },
  {
   "cell_type": "code",
   "execution_count": null,
   "id": "55860868",
   "metadata": {},
   "outputs": [],
   "source": []
  },
  {
   "cell_type": "code",
   "execution_count": null,
   "id": "6355379d",
   "metadata": {},
   "outputs": [],
   "source": [
    "from itertools import product\n",
    "import algebras as alg"
   ]
  },
  {
   "cell_type": "code",
   "execution_count": null,
   "id": "4d09c2e1",
   "metadata": {},
   "outputs": [],
   "source": [
    "x = [[tuple(row0)], rows1a, rows2a, rows3a]\n",
    "x"
   ]
  },
  {
   "cell_type": "code",
   "execution_count": null,
   "id": "5f2b0137",
   "metadata": {},
   "outputs": [],
   "source": [
    "tables = list(product(*x))\n",
    "tables"
   ]
  },
  {
   "cell_type": "code",
   "execution_count": null,
   "id": "ad7b518b",
   "metadata": {},
   "outputs": [],
   "source": [
    "elems = [\"e\", \"a\", \"b\", \"c\"]\n",
    "\n",
    "list(map(lambda tbl: alg.check_inputs(elems, tbl), tables))"
   ]
  },
  {
   "cell_type": "markdown",
   "id": "f7c11a46",
   "metadata": {},
   "source": [
    "### all possible row2 that don't conflict with a row1"
   ]
  },
  {
   "cell_type": "code",
   "execution_count": null,
   "id": "dcc53d6d",
   "metadata": {},
   "outputs": [],
   "source": [
    "rows2b = {r: filter(rows2a, r, 2) for r in rows1a}\n",
    "rows2b"
   ]
  },
  {
   "cell_type": "markdown",
   "id": "a0e86f3f",
   "metadata": {},
   "source": [
    "### all possible row3 that don't conflict with a row1"
   ]
  },
  {
   "cell_type": "code",
   "execution_count": null,
   "id": "b6ce9090",
   "metadata": {},
   "outputs": [],
   "source": [
    "rows3b = {r: filter(rows3a, r, 3) for r in rows1a}\n",
    "rows3b"
   ]
  },
  {
   "cell_type": "code",
   "execution_count": null,
   "id": "95f0cbba",
   "metadata": {},
   "outputs": [],
   "source": []
  },
  {
   "cell_type": "code",
   "execution_count": null,
   "id": "4718beab",
   "metadata": {},
   "outputs": [],
   "source": [
    "foo = {tuple(row0): rows1a}\n",
    "foo"
   ]
  },
  {
   "cell_type": "code",
   "execution_count": null,
   "id": "5f7c4563",
   "metadata": {},
   "outputs": [],
   "source": [
    "for r0 in foo:\n",
    "    for r1 in foo[r0]:\n",
    "        \n",
    "        print(r1)"
   ]
  },
  {
   "cell_type": "code",
   "execution_count": null,
   "id": "52d5a9df",
   "metadata": {},
   "outputs": [],
   "source": []
  }
 ],
 "metadata": {
  "kernelspec": {
   "display_name": "Python 3",
   "language": "python",
   "name": "python3"
  },
  "language_info": {
   "codemirror_mode": {
    "name": "ipython",
    "version": 3
   },
   "file_extension": ".py",
   "mimetype": "text/x-python",
   "name": "python",
   "nbconvert_exporter": "python",
   "pygments_lexer": "ipython3",
   "version": "3.7.7"
  }
 },
 "nbformat": 4,
 "nbformat_minor": 5
}
