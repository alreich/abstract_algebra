{
 "cells": [
  {
   "cell_type": "markdown",
   "id": "f8de4331",
   "metadata": {},
   "source": [
    "# Scratchwork 6 - Comutators"
   ]
  },
  {
   "cell_type": "code",
   "execution_count": 1,
   "id": "4b4e2e52",
   "metadata": {},
   "outputs": [],
   "source": [
    "from finite_algebras import *\n",
    "from cayley_table import *\n",
    "from permutations import *"
   ]
  },
  {
   "cell_type": "code",
   "execution_count": 2,
   "id": "90ff1dce",
   "metadata": {},
   "outputs": [],
   "source": [
    "import os\n",
    "aa_path = os.path.join(os.getenv(\"PYPROJ\"), \"abstract_algebra\")\n",
    "alg_dir = os.path.join(aa_path, \"Algebras\")"
   ]
  },
  {
   "cell_type": "code",
   "execution_count": 3,
   "id": "3664455e",
   "metadata": {},
   "outputs": [
    {
     "name": "stdout",
     "output_type": "stream",
     "text": [
      "======================================================================\n",
      "                           Example Algebras\n",
      "----------------------------------------------------------------------\n",
      "  16 example algebras are available.\n",
      "  Use \"Examples[INDEX]\" to retrieve a specific example,\n",
      "  where INDEX is the first number on each line below:\n",
      "----------------------------------------------------------------------\n",
      "0: A4 -- Alternating group on 4 letters (AKA Tetrahedral group)\n",
      "1: D3 -- https://en.wikipedia.org/wiki/Dihedral_group_of_order_6\n",
      "2: D4 -- Dihedral group on four vertices\n",
      "3: Pinter29 -- Non-abelian group, p.29, 'A Book of Abstract Algebra' by Charles C. Pinter\n",
      "4: RPS -- Rock, Paper, Scissors Magma\n",
      "5: S3 -- Symmetric group on 3 letters\n",
      "6: S3X -- Another version of the symmetric group on 3 letters\n",
      "7: V4 -- Klein-4 group\n",
      "8: Z4 -- Cyclic group of order 4\n",
      "9: F4 -- Field with 4 elements (from Wikipedia)\n",
      "10: mag_id -- Magma with Identity\n",
      "11: Example 1.4.1 -- See: Groupoids and Smarandache Groupoids by W. B. Vasantha Kandasamy\n",
      "12: Ex6 -- Example 6: http://www-groups.mcs.st-andrews.ac.uk/~john/MT4517/Lectures/L3.html\n",
      "13: Q8 -- Quaternion Group\n",
      "14: SD16 -- Semidihedral group of order 16\n",
      "15: A5 -- Alternating group on 5 letters\n",
      "======================================================================\n"
     ]
    }
   ],
   "source": [
    "ex = Examples(alg_dir)"
   ]
  },
  {
   "cell_type": "code",
   "execution_count": 4,
   "id": "b01bb74d",
   "metadata": {},
   "outputs": [
    {
     "name": "stdout",
     "output_type": "stream",
     "text": [
      "\n",
      "** Group **\n",
      "Name: V4\n",
      "Instance ID: 140478986620304\n",
      "Description: Klein-4 group\n",
      "Order: 4\n",
      "Identity: e\n",
      "Associative? Yes\n",
      "Commutative? Yes\n",
      "Cyclic?: No\n",
      "Elements:\n",
      "   Index   Name   Inverse  Order\n",
      "      0       e       e       1\n",
      "      1       h       h       2\n",
      "      2       v       v       2\n",
      "      3       r       r       2\n",
      "Cayley Table (showing indices):\n",
      "[[0, 1, 2, 3], [1, 0, 3, 2], [2, 3, 0, 1], [3, 2, 1, 0]]\n"
     ]
    }
   ],
   "source": [
    "v4 = ex[7]\n",
    "v4.about()"
   ]
  },
  {
   "cell_type": "code",
   "execution_count": 5,
   "id": "927088e5",
   "metadata": {},
   "outputs": [
    {
     "name": "stdout",
     "output_type": "stream",
     "text": [
      "\n",
      "** Group **\n",
      "Name: A4\n",
      "Instance ID: 140479792867728\n",
      "Description: Alternating group on 4 letters (AKA Tetrahedral group)\n",
      "Order: 12\n",
      "Identity: ()\n",
      "Associative? Yes\n",
      "Commutative? No\n",
      "Cyclic?: No\n",
      "Elements:\n",
      "   Index   Name   Inverse  Order\n",
      "      0      ()      ()       1\n",
      "      1 (1 3 2) (1 2 3)       3\n",
      "      2 (1 2 3) (1 3 2)       3\n",
      "      3 (0 1)(2 3) (0 1)(2 3)       2\n",
      "      4 (0 1 2) (0 2 1)       3\n",
      "      5 (0 1 3) (0 3 1)       3\n",
      "      6 (0 3 1) (0 1 3)       3\n",
      "      7 (0 3 2) (0 2 3)       3\n",
      "      8 (0 3)(1 2) (0 3)(1 2)       2\n",
      "      9 (0 2 3) (0 3 2)       3\n",
      "     10 (0 2 1) (0 1 2)       3\n",
      "     11 (0 2)(1 3) (0 2)(1 3)       2\n",
      "Cayley Table (showing indices):\n",
      "[[0, 1, 2, 3, 4, 5, 6, 7, 8, 9, 10, 11],\n",
      " [1, 2, 0, 6, 7, 8, 10, 11, 9, 5, 3, 4],\n",
      " [2, 0, 1, 10, 11, 9, 3, 4, 5, 8, 6, 7],\n",
      " [3, 4, 5, 0, 1, 2, 9, 10, 11, 6, 7, 8],\n",
      " [4, 5, 3, 9, 10, 11, 7, 8, 6, 2, 0, 1],\n",
      " [5, 3, 4, 7, 8, 6, 0, 1, 2, 11, 9, 10],\n",
      " [6, 7, 8, 1, 2, 0, 5, 3, 4, 10, 11, 9],\n",
      " [7, 8, 6, 5, 3, 4, 11, 9, 10, 0, 1, 2],\n",
      " [8, 6, 7, 11, 9, 10, 1, 2, 0, 4, 5, 3],\n",
      " [9, 10, 11, 4, 5, 3, 2, 0, 1, 7, 8, 6],\n",
      " [10, 11, 9, 2, 0, 1, 8, 6, 7, 3, 4, 5],\n",
      " [11, 9, 10, 8, 6, 7, 4, 5, 3, 1, 2, 0]]\n"
     ]
    }
   ],
   "source": [
    "a4 = ex[0]\n",
    "a4.about()"
   ]
  },
  {
   "cell_type": "code",
   "execution_count": 6,
   "id": "beca3e93",
   "metadata": {},
   "outputs": [],
   "source": [
    "alg = a4\n",
    "id = alg.identity"
   ]
  },
  {
   "cell_type": "raw",
   "id": "abc73eb4",
   "metadata": {},
   "source": [
    "none_found = True\n",
    "id_commutator_count = 0\n",
    "non_id_commutator_count = 0\n",
    "for g in alg:\n",
    "    for h in alg:\n",
    "        c = alg.commutator(g, h)\n",
    "        if c != id:\n",
    "            non_id_commutator_count += 1\n",
    "            print(f\"Commutator({g}, {h}) = {c}\")\n",
    "        else:\n",
    "            id_commutator_count += 1\n",
    "            print(f\"*** Commutator({g}, {h}) = {c}\")\n",
    "\n",
    "print(f\"{non_id_commutator_count} pairs of elements produced non-identity commutators\")\n",
    "print(f\"{id_commutator_count} pairs of elements produced the identity\")"
   ]
  },
  {
   "cell_type": "code",
   "execution_count": 7,
   "id": "73be7233",
   "metadata": {},
   "outputs": [
    {
     "data": {
      "text/plain": [
       "{'e'}"
      ]
     },
     "execution_count": 7,
     "metadata": {},
     "output_type": "execute_result"
    }
   ],
   "source": [
    "v4.commutators()"
   ]
  },
  {
   "cell_type": "code",
   "execution_count": 8,
   "id": "47b96605",
   "metadata": {},
   "outputs": [
    {
     "data": {
      "text/plain": [
       "{'()', '(0 1)(2 3)', '(0 2)(1 3)', '(0 3)(1 2)'}"
      ]
     },
     "execution_count": 8,
     "metadata": {},
     "output_type": "execute_result"
    }
   ],
   "source": [
    "foo = a4.commutators()\n",
    "foo"
   ]
  },
  {
   "cell_type": "code",
   "execution_count": 9,
   "id": "0080831d",
   "metadata": {},
   "outputs": [
    {
     "name": "stdout",
     "output_type": "stream",
     "text": [
      "\n",
      "** Group **\n",
      "Name: No name\n",
      "Instance ID: 140478986688720\n",
      "Description: No description\n",
      "Order: 4\n",
      "Identity: ()\n",
      "Associative? Yes\n",
      "Commutative? Yes\n",
      "Cyclic?: No\n",
      "Elements:\n",
      "   Index   Name   Inverse  Order\n",
      "      0      ()      ()       1\n",
      "      1 (0 1)(2 3) (0 1)(2 3)       2\n",
      "      2 (0 3)(1 2) (0 3)(1 2)       2\n",
      "      3 (0 2)(1 3) (0 2)(1 3)       2\n",
      "Cayley Table (showing indices):\n",
      "[[0, 1, 2, 3], [1, 0, 3, 2], [2, 3, 0, 1], [3, 2, 1, 0]]\n"
     ]
    }
   ],
   "source": [
    "foo_alg = a4.subalgebra_from_elements(a4.closure(foo, include_inverses=True))\n",
    "foo_alg.about()"
   ]
  },
  {
   "cell_type": "code",
   "execution_count": 10,
   "id": "7ee342b4",
   "metadata": {},
   "outputs": [
    {
     "data": {
      "text/plain": [
       "True"
      ]
     },
     "execution_count": 10,
     "metadata": {},
     "output_type": "execute_result"
    }
   ],
   "source": [
    "a4.is_normal(foo_alg)"
   ]
  },
  {
   "cell_type": "code",
   "execution_count": 12,
   "id": "2b8f8f15",
   "metadata": {},
   "outputs": [
    {
     "name": "stdout",
     "output_type": "stream",
     "text": [
      "\n",
      "** Group **\n",
      "Name: A4_CG\n",
      "Instance ID: 140479264177808\n",
      "Description: A4 commutator subgroup\n",
      "Order: 4\n",
      "Identity: ()\n",
      "Associative? Yes\n",
      "Commutative? Yes\n",
      "Cyclic?: No\n",
      "Elements:\n",
      "   Index   Name   Inverse  Order\n",
      "      0      ()      ()       1\n",
      "      1 (0 1)(2 3) (0 1)(2 3)       2\n",
      "      2 (0 3)(1 2) (0 3)(1 2)       2\n",
      "      3 (0 2)(1 3) (0 2)(1 3)       2\n",
      "Cayley Table (showing indices):\n",
      "[[0, 1, 2, 3], [1, 0, 3, 2], [2, 3, 0, 1], [3, 2, 1, 0]]\n"
     ]
    }
   ],
   "source": [
    "a4.commutator_subgroup().about()"
   ]
  },
  {
   "cell_type": "code",
   "execution_count": null,
   "id": "08af9b3d",
   "metadata": {},
   "outputs": [],
   "source": []
  },
  {
   "cell_type": "code",
   "execution_count": null,
   "id": "3677e414",
   "metadata": {},
   "outputs": [],
   "source": [
    "for alg in ex:\n",
    "    if isinstance(alg, Group):\n",
    "        print(f\"{alg.name}  {alg.order}  {len(alg.commutators())}\")"
   ]
  },
  {
   "cell_type": "code",
   "execution_count": null,
   "id": "2d3df4ef",
   "metadata": {},
   "outputs": [],
   "source": []
  }
 ],
 "metadata": {
  "kernelspec": {
   "display_name": "Python 3",
   "language": "python",
   "name": "python3"
  },
  "language_info": {
   "codemirror_mode": {
    "name": "ipython",
    "version": 3
   },
   "file_extension": ".py",
   "mimetype": "text/x-python",
   "name": "python",
   "nbconvert_exporter": "python",
   "pygments_lexer": "ipython3",
   "version": "3.7.7"
  }
 },
 "nbformat": 4,
 "nbformat_minor": 5
}
