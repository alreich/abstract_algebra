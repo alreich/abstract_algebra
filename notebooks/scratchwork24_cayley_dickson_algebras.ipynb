{
 "cells": [
  {
   "cell_type": "markdown",
   "id": "b6523b92",
   "metadata": {},
   "source": [
    "# Scratchwork: Cayley-Dickson Algebras"
   ]
  },
  {
   "cell_type": "code",
   "execution_count": 26,
   "id": "68cea7ff",
   "metadata": {},
   "outputs": [],
   "source": [
    "import finite_algebras as alg\n",
    "import re\n",
    "from cayley_dickson_utilities import *"
   ]
  },
  {
   "cell_type": "markdown",
   "id": "81513aad",
   "metadata": {},
   "source": [
    "The purpose of this notebook is to develop the functions required to perform the Cayley-Dickson construction within the ``finite_algebras`` module.\n",
    "\n",
    "In the Python module, ``finite_algebras``, all elements are strings.\n",
    "\n",
    "When direct products or Cayley-Dickson algebras are constructed, the component algebras' elements are concatentated (joined) using a string delimiter (':' by default).\n",
    "\n",
    "So, operations like scalar multiplication, negation, conjugation, etc, on the newly constructed \"compound\" elements, require some string manipulation to accomplish."
   ]
  },
  {
   "cell_type": "markdown",
   "id": "75a00d9a",
   "metadata": {},
   "source": [
    "According to [Shafer, 1966]\n",
    "\n",
    "$a,b,c,d,\\mu \\in F$, $\\mu \\neq 0$, then $(a, b) \\times (c, d) = (a c + \\mu d \\overline{b}, \\overline{a} d + c b)$,\n",
    "\n",
    "where $\\overline{a} = a$ and $\\overline{(a, b)} = (\\overline{a}, -b)$"
   ]
  },
  {
   "cell_type": "markdown",
   "id": "7b79999a",
   "metadata": {},
   "source": [
    "## Test Algebras"
   ]
  },
  {
   "cell_type": "code",
   "execution_count": 27,
   "id": "37a0cd3b",
   "metadata": {},
   "outputs": [],
   "source": [
    "F3 = alg.generate_algebra_mod_n(3, elem_name='')\n",
    "F3sqr = F3.sqr()\n",
    "F3quad = F3sqr.sqr()\n",
    "\n",
    "F4 = alg.generate_algebra_mod_n(4, elem_name='')\n",
    "F4sqr = F4.sqr()\n",
    "\n",
    "F5 = alg.generate_algebra_mod_n(5, elem_name='')\n",
    "F5sqr = F5.sqr()\n",
    "\n",
    "F7 = alg.generate_algebra_mod_n(7, elem_name='')\n",
    "F7sqr = F7.sqr()"
   ]
  },
  {
   "cell_type": "markdown",
   "id": "4f34c91e",
   "metadata": {},
   "source": [
    "## Code Tests"
   ]
  },
  {
   "cell_type": "code",
   "execution_count": 28,
   "id": "82e7ed79",
   "metadata": {},
   "outputs": [],
   "source": [
    "tests = ['2', '1:2', '2:1:0:2', '0:0']"
   ]
  },
  {
   "cell_type": "code",
   "execution_count": 29,
   "id": "264a4e06",
   "metadata": {},
   "outputs": [],
   "source": [
    "Fn = F3\n",
    "FnSqr = F3sqr\n",
    "FnQuad = F3quad"
   ]
  },
  {
   "cell_type": "code",
   "execution_count": 30,
   "id": "3ba5c29d",
   "metadata": {},
   "outputs": [
    {
     "name": "stdout",
     "output_type": "stream",
     "text": [
      "2 x 2 = 1\n",
      "2 x 1:2 = 2:1\n",
      "2 x 2:1:0:2 = 1:2:0:1\n",
      "2 x 0:0 = 0:0\n"
     ]
    }
   ],
   "source": [
    "scalar = '2'\n",
    "for test in tests:\n",
    "    print(f\"{scalar} x {test} = {scalar_mult(scalar, test, Fn)}\")"
   ]
  },
  {
   "cell_type": "code",
   "execution_count": 31,
   "id": "42d8993e",
   "metadata": {},
   "outputs": [
    {
     "name": "stdout",
     "output_type": "stream",
     "text": [
      "-(2) = 1\n",
      "-(1:2) = 2:1\n",
      "-(2:1:0:2) = 1:2:0:1\n",
      "-(0:0) = 0:0\n"
     ]
    }
   ],
   "source": [
    "for test in tests:\n",
    "    print(f\"-({test}) = {negate(test, Fn)}\")"
   ]
  },
  {
   "cell_type": "code",
   "execution_count": 32,
   "id": "35504a5b",
   "metadata": {},
   "outputs": [
    {
     "name": "stdout",
     "output_type": "stream",
     "text": [
      "conj(2) = 2\n",
      "conj(1:2) = 1:1\n",
      "conj(2:1:0:2) = 2:2:0:1\n",
      "conj(0:0) = 0:0\n"
     ]
    }
   ],
   "source": [
    "for test in tests:\n",
    "    print(f\"conj({test}) = {conjugate(test, Fn)}\")"
   ]
  },
  {
   "cell_type": "code",
   "execution_count": 33,
   "id": "95f76fb4",
   "metadata": {},
   "outputs": [
    {
     "name": "stdout",
     "output_type": "stream",
     "text": [
      "|2|^2 = 1\n",
      "|1:2|^2 = 2\n"
     ]
    }
   ],
   "source": [
    "for test in tests[:2]: # just look at the first two items in tests\n",
    "    print(f\"|{test}|^2 = {norm(test, Fn, FnSqr)}\")"
   ]
  },
  {
   "cell_type": "code",
   "execution_count": 34,
   "id": "2bd7a191",
   "metadata": {},
   "outputs": [
    {
     "name": "stdout",
     "output_type": "stream",
     "text": [
      "inv(1:2) = 2:2\n"
     ]
    }
   ],
   "source": [
    "for test in tests[1:2]: # just look at the first two items in tests\n",
    "    print(f\"inv({test}) = {inverse(test, Fn, FnSqr)}\")"
   ]
  },
  {
   "cell_type": "code",
   "execution_count": 35,
   "id": "282a40c6",
   "metadata": {},
   "outputs": [
    {
     "data": {
      "text/plain": [
       "'2:2'"
      ]
     },
     "execution_count": 35,
     "metadata": {},
     "output_type": "execute_result"
    }
   ],
   "source": [
    "FnSqr.mult_inv(tests[1])  # The better way to obtain an inverse"
   ]
  },
  {
   "cell_type": "code",
   "execution_count": 36,
   "id": "154ead3a",
   "metadata": {},
   "outputs": [
    {
     "data": {
      "text/plain": [
       "'1:0'"
      ]
     },
     "execution_count": 36,
     "metadata": {},
     "output_type": "execute_result"
    }
   ],
   "source": [
    "FnSqr.mult(tests[1], inverse(tests[1], Fn, FnSqr))"
   ]
  },
  {
   "cell_type": "code",
   "execution_count": 37,
   "id": "033700f4",
   "metadata": {},
   "outputs": [
    {
     "name": "stdout",
     "output_type": "stream",
     "text": [
      "The additive identity element, 0:0, does not have an inverse.\n"
     ]
    }
   ],
   "source": [
    "try:\n",
    "    inverse('0:0', Fn, FnSqr)\n",
    "except Exception as exc:\n",
    "    print(exc)"
   ]
  },
  {
   "cell_type": "markdown",
   "id": "e4aa882a",
   "metadata": {},
   "source": [
    "## String Manipulation"
   ]
  },
  {
   "cell_type": "code",
   "execution_count": 38,
   "id": "9760f17f",
   "metadata": {},
   "outputs": [
    {
     "data": {
      "text/plain": [
       "('a:b', 'c:d')"
      ]
     },
     "execution_count": 38,
     "metadata": {},
     "output_type": "execute_result"
    }
   ],
   "source": [
    "x, y = split_element('a:b:c:d')\n",
    "x, y"
   ]
  },
  {
   "cell_type": "code",
   "execution_count": 39,
   "id": "71eaa674",
   "metadata": {},
   "outputs": [
    {
     "data": {
      "text/plain": [
       "('a', 'b')"
      ]
     },
     "execution_count": 39,
     "metadata": {},
     "output_type": "execute_result"
    }
   ],
   "source": [
    "u, v = split_element(x)\n",
    "u, v"
   ]
  },
  {
   "cell_type": "code",
   "execution_count": 40,
   "id": "5ed0cf0e",
   "metadata": {},
   "outputs": [
    {
     "data": {
      "text/plain": [
       "('a:b:c:d', 'e:f:g:h')"
      ]
     },
     "execution_count": 40,
     "metadata": {},
     "output_type": "execute_result"
    }
   ],
   "source": [
    "split_element('a:b:c:d:e:f:g:h')"
   ]
  },
  {
   "cell_type": "code",
   "execution_count": 41,
   "id": "3afc041a",
   "metadata": {},
   "outputs": [
    {
     "data": {
      "text/plain": [
       "'a'"
      ]
     },
     "execution_count": 41,
     "metadata": {},
     "output_type": "execute_result"
    }
   ],
   "source": [
    "split_element('a')"
   ]
  },
  {
   "cell_type": "code",
   "execution_count": 42,
   "id": "9b6ecb1a",
   "metadata": {},
   "outputs": [
    {
     "data": {
      "text/plain": [
       "''"
      ]
     },
     "execution_count": 42,
     "metadata": {},
     "output_type": "execute_result"
    }
   ],
   "source": [
    "split_element('')"
   ]
  },
  {
   "cell_type": "markdown",
   "id": "82562210",
   "metadata": {},
   "source": [
    "## Cayley-Dickson Conjugates & Multiplication"
   ]
  },
  {
   "cell_type": "code",
   "execution_count": 43,
   "id": "12b5c747",
   "metadata": {},
   "outputs": [],
   "source": [
    "conj = conjugate"
   ]
  },
  {
   "cell_type": "code",
   "execution_count": 44,
   "id": "aef8ab16",
   "metadata": {},
   "outputs": [
    {
     "name": "stdout",
     "output_type": "stream",
     "text": [
      "1\n",
      "1:5\n",
      "1:5:4:3\n"
     ]
    }
   ],
   "source": [
    "print(conjugate('1', F7))\n",
    "print(conjugate('1:2', F7))\n",
    "print(conjugate('1:2:3:4', F7))"
   ]
  },
  {
   "cell_type": "code",
   "execution_count": 45,
   "id": "d6a1dd3b",
   "metadata": {},
   "outputs": [],
   "source": [
    "x1 = '5:3'\n",
    "y1 = '2:4'"
   ]
  },
  {
   "cell_type": "code",
   "execution_count": 46,
   "id": "eae1f1ee",
   "metadata": {},
   "outputs": [
    {
     "name": "stdout",
     "output_type": "stream",
     "text": [
      "5:3 * 2:4 = 5:5\n",
      "5:5\n"
     ]
    },
    {
     "data": {
      "text/plain": [
       "True"
      ]
     },
     "execution_count": 46,
     "metadata": {},
     "output_type": "execute_result"
    }
   ],
   "source": [
    "x1y1 = multiply(x1, y1, F7)\n",
    "print(f\"{x1} * {y1} = {x1y1}\")\n",
    "print(F7sqr.mult(x1, y1))\n",
    "\n",
    "x1y1 == F7sqr.mult(x1, y1)"
   ]
  },
  {
   "cell_type": "code",
   "execution_count": 47,
   "id": "ec667ff4",
   "metadata": {},
   "outputs": [
    {
     "name": "stdout",
     "output_type": "stream",
     "text": [
      "All 2401 products OK? True\n"
     ]
    }
   ],
   "source": [
    "All_OK = True\n",
    "count = 0\n",
    "\n",
    "for x1 in F7sqr.elements:\n",
    "    for y1 in F7sqr.elements:\n",
    "        count += 1\n",
    "        xy_sqr = F7sqr.mult(x1, y1)\n",
    "        xy_str = multiply(x1, y1, F7)\n",
    "        if not xy_sqr == xy_str:\n",
    "            print(x1, y1, xy_sqr, xy_str)\n",
    "            All_OK = False\n",
    "\n",
    "print(f\"All {count} products OK? {All_OK}\")"
   ]
  },
  {
   "cell_type": "code",
   "execution_count": 48,
   "id": "6ba34b8d",
   "metadata": {},
   "outputs": [],
   "source": [
    "x2 = '5'\n",
    "y2 = '2'"
   ]
  },
  {
   "cell_type": "code",
   "execution_count": 49,
   "id": "7e14e933",
   "metadata": {},
   "outputs": [
    {
     "data": {
      "text/plain": [
       "['0', '1', '2', '3', '4', '5', '6']"
      ]
     },
     "execution_count": 49,
     "metadata": {},
     "output_type": "execute_result"
    }
   ],
   "source": [
    "F7.elements"
   ]
  },
  {
   "cell_type": "code",
   "execution_count": 50,
   "id": "008a1743",
   "metadata": {},
   "outputs": [
    {
     "name": "stdout",
     "output_type": "stream",
     "text": [
      "5 * 2 = 3\n",
      "3\n"
     ]
    },
    {
     "data": {
      "text/plain": [
       "True"
      ]
     },
     "execution_count": 50,
     "metadata": {},
     "output_type": "execute_result"
    }
   ],
   "source": [
    "x2y2 = multiply(x2, y2, F7)\n",
    "print(f\"{x2} * {y2} = {x2y2}\")\n",
    "print(F7.mult(x2, y2))\n",
    "\n",
    "x2y2 == F7.mult(x2, y2)"
   ]
  }
 ],
 "metadata": {
  "kernelspec": {
   "display_name": "Python 3 (ipykernel)",
   "language": "python",
   "name": "python3"
  },
  "language_info": {
   "codemirror_mode": {
    "name": "ipython",
    "version": 3
   },
   "file_extension": ".py",
   "mimetype": "text/x-python",
   "name": "python",
   "nbconvert_exporter": "python",
   "pygments_lexer": "ipython3",
   "version": "3.11.5"
  }
 },
 "nbformat": 4,
 "nbformat_minor": 5
}
