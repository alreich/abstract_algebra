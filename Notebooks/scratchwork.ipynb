{
 "cells": [
  {
   "cell_type": "markdown",
   "id": "fe698e4b",
   "metadata": {},
   "source": [
    "# Scratchwork"
   ]
  },
  {
   "cell_type": "markdown",
   "id": "de21e42b",
   "metadata": {},
   "source": [
    "This notebook is only used for trying out ideas."
   ]
  },
  {
   "cell_type": "code",
   "execution_count": 1,
   "id": "8e2415ec",
   "metadata": {},
   "outputs": [],
   "source": [
    "import algebras as alg\n",
    "import json\n",
    "import os\n",
    "import numpy as np\n",
    "import itertools as it"
   ]
  },
  {
   "cell_type": "code",
   "execution_count": 2,
   "id": "10476d46",
   "metadata": {},
   "outputs": [],
   "source": [
    "# Path to this repo\n",
    "aa_path = os.path.join(os.getenv('PYPROJ'), 'abstract_algebra')\n",
    "\n",
    "# Path to a directory containing Algebra definitions in JSON\n",
    "alg_dir = os.path.join(aa_path, \"Algebras\")"
   ]
  },
  {
   "cell_type": "markdown",
   "id": "f7e96005",
   "metadata": {},
   "source": [
    "## Groups for Testing"
   ]
  },
  {
   "cell_type": "code",
   "execution_count": 3,
   "id": "5cb413ee",
   "metadata": {},
   "outputs": [
    {
     "name": "stdout",
     "output_type": "stream",
     "text": [
      "{\"type\": \"Group\",\r\n",
      " \"name\": \"D_4\",\r\n",
      " \"description\": \"Dihedral group on four vertices\",\r\n",
      " \"element_names\": [\"e\", \"r\", \"r^2\", \"r^3\", \"f\", \"fr\", \"r^2f\", \"rf\"],\r\n",
      " \"alt_elem_names\": [\"()\", \"(0 1 2 3)\", \"(0 2)(1 3)\", \"(0 3 2 1)\",\r\n",
      "                    \"(0 1)(2 3)\", \"(1 3)\", \"(0 3)(1 2)\", \"(0 2)\"],\r\n",
      " \"mult_table\": [[0, 1, 2, 3, 4, 5, 6, 7],\r\n",
      "                [1, 2, 3, 0, 7, 4, 5, 6],\r\n",
      "                [2, 3, 0, 1, 6, 7, 4, 5],\r\n",
      "                [3, 0, 1, 2, 5, 6, 7, 4],\r\n",
      "                [4, 5, 6, 7, 0, 1, 2, 3],\r\n",
      "                [5, 6, 7, 4, 3, 0, 1, 2],\r\n",
      "                [6, 7, 4, 5, 2, 3, 0, 1],\r\n",
      "                [7, 4, 5, 6, 1, 2, 3, 0]]\r\n",
      "}"
     ]
    }
   ],
   "source": [
    "d4_path = os.path.join(alg_dir, \"d4_dihedral_group_on_4_vertices.json\")\n",
    "!cat {d4_path}"
   ]
  },
  {
   "cell_type": "code",
   "execution_count": 4,
   "id": "38b37a98",
   "metadata": {},
   "outputs": [
    {
     "name": "stdout",
     "output_type": "stream",
     "text": [
      "\n",
      "Group : D_4 : Dihedral group on four vertices\n",
      "  Element Names: ['e', 'r', 'r^2', 'r^3', 'f', 'fr', 'r^2f', 'rf']\n",
      "  Is Abelian? False\n",
      "  Inverses:  (** - indicates that it is its own inverse)\n",
      "    inv(e) = e   **\n",
      "    inv(r) = r^3 \n",
      "    inv(r^2) = r^2   **\n",
      "    inv(r^3) = r \n",
      "    inv(f) = f   **\n",
      "    inv(fr) = fr   **\n",
      "    inv(r^2f) = r^2f   **\n",
      "    inv(rf) = rf   **\n",
      "  Is associative? True\n",
      "  Cayley Table:\n",
      "       e     r   r^2   r^3     f    fr  r^2f    rf\n",
      "       r   r^2   r^3     e    rf     f    fr  r^2f\n",
      "     r^2   r^3     e     r  r^2f    rf     f    fr\n",
      "     r^3     e     r   r^2    fr  r^2f    rf     f\n",
      "       f    fr  r^2f    rf     e     r   r^2   r^3\n",
      "      fr  r^2f    rf     f   r^3     e     r   r^2\n",
      "    r^2f    rf     f    fr   r^2   r^3     e     r\n",
      "      rf     f    fr  r^2f     r   r^2   r^3     e\n"
     ]
    }
   ],
   "source": [
    "d4 = alg.Group(d4_path)\n",
    "d4.print_info()"
   ]
  },
  {
   "cell_type": "markdown",
   "id": "b9349b1d",
   "metadata": {},
   "source": [
    "## Experiments in Finding Generator Sets"
   ]
  },
  {
   "cell_type": "code",
   "execution_count": 39,
   "id": "55965147",
   "metadata": {},
   "outputs": [
    {
     "data": {
      "text/plain": [
       "['e', 'r', 'r^2', 'r^3', 'f', 'fr', 'r^2f', 'rf']"
      ]
     },
     "execution_count": 39,
     "metadata": {},
     "output_type": "execute_result"
    }
   ],
   "source": [
    "d4.element_names"
   ]
  },
  {
   "cell_type": "code",
   "execution_count": 14,
   "id": "43201df1",
   "metadata": {},
   "outputs": [],
   "source": [
    "aa = set(d4.element_names[0])\n",
    "bb = set(d4.element_names[1:])"
   ]
  },
  {
   "cell_type": "code",
   "execution_count": 17,
   "id": "10c5d7b3",
   "metadata": {},
   "outputs": [
    {
     "data": {
      "text/plain": [
       "{'e', 'f', 'fr', 'r', 'r^2', 'r^2f', 'r^3', 'rf'}"
      ]
     },
     "execution_count": 17,
     "metadata": {},
     "output_type": "execute_result"
    }
   ],
   "source": [
    "aa | bb"
   ]
  },
  {
   "cell_type": "code",
   "execution_count": 42,
   "id": "2cf9e5f4",
   "metadata": {},
   "outputs": [],
   "source": [
    "def minimum_generators(grp):\n",
    "    gens = set()\n",
    "    n = len(grp.element_names)\n",
    "    init = set(grp.element_names[0])\n",
    "    remain = set(grp.element_names[1:])\n",
    "    for i in range(1, n - 2):\n",
    "        for combo in it.combinations(remain, i):\n",
    "            candidate = init | set(combo)\n",
    "            clo = grp.closure(candidate)\n",
    "            if len(clo) == n:\n",
    "                gens.add(frozenset(candidate))\n",
    "    gens_as_lists = list(map(lambda x: list(x), gens))\n",
    "    min_gen_len = min({len(gen) for gen in gens_as_lists})\n",
    "    min_gens = [gen for gen in gens_as_lists if len(gen) == min_gen_len]\n",
    "    return min_gens"
   ]
  },
  {
   "cell_type": "code",
   "execution_count": 43,
   "id": "39fed6dd",
   "metadata": {},
   "outputs": [
    {
     "data": {
      "text/plain": [
       "[['e', 'r', 'fr'],\n",
       " ['e', 'r^3', 'r^2f'],\n",
       " ['e', 'f', 'fr'],\n",
       " ['e', 'r', 'f'],\n",
       " ['rf', 'e', 'r'],\n",
       " ['rf', 'e', 'f'],\n",
       " ['e', 'r', 'r^2f'],\n",
       " ['e', 'r^3', 'fr'],\n",
       " ['rf', 'e', 'r^3'],\n",
       " ['rf', 'e', 'r^2f'],\n",
       " ['e', 'fr', 'r^2f'],\n",
       " ['e', 'r^3', 'f']]"
      ]
     },
     "execution_count": 43,
     "metadata": {},
     "output_type": "execute_result"
    }
   ],
   "source": [
    "minimum_generators(d4)"
   ]
  },
  {
   "cell_type": "code",
   "execution_count": 52,
   "id": "719b99d4",
   "metadata": {},
   "outputs": [
    {
     "name": "stdout",
     "output_type": "stream",
     "text": [
      "('e', 'r') r\n",
      "('r', 'e') r\n",
      "('e', 'fr') fr\n",
      "('fr', 'e') fr\n",
      "('r', 'fr') f\n",
      "('fr', 'r') r^2f\n",
      "[('e', 'r'), ('r', 'e'), ('e', 'fr'), ('fr', 'e'), ('r', 'fr'), ('fr', 'r')]\n"
     ]
    }
   ],
   "source": [
    "grp = d4\n",
    "gen = ['e', 'r', 'fr']\n",
    "\n",
    "def swap_pair(pair):\n",
    "    return (pair[1], pair[0])\n",
    "\n",
    "all_pairs = []\n",
    "elems = set(gen)\n",
    "for pair in it.combinations(gen, 2):\n",
    "    all_pairs.append(pair)\n",
    "    pair_prod = d4.mult(*pair)\n",
    "    \n",
    "    print(pair, pair_prod)\n",
    "    swap = swap_pair(pair)\n",
    "    all_pairs.append(swap)\n",
    "    swap_prod = d4.mult(*swap)\n",
    "    print(swap, swap_prod)\n",
    "print(all_pairs)"
   ]
  },
  {
   "cell_type": "code",
   "execution_count": null,
   "id": "5ff973b1",
   "metadata": {},
   "outputs": [],
   "source": []
  },
  {
   "cell_type": "code",
   "execution_count": null,
   "id": "05ad1b84",
   "metadata": {},
   "outputs": [],
   "source": []
  }
 ],
 "metadata": {
  "kernelspec": {
   "display_name": "Python 3",
   "language": "python",
   "name": "python3"
  },
  "language_info": {
   "codemirror_mode": {
    "name": "ipython",
    "version": 3
   },
   "file_extension": ".py",
   "mimetype": "text/x-python",
   "name": "python",
   "nbconvert_exporter": "python",
   "pygments_lexer": "ipython3",
   "version": "3.7.7"
  }
 },
 "nbformat": 4,
 "nbformat_minor": 5
}
