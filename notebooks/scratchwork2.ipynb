{
 "cells": [
  {
   "cell_type": "markdown",
   "id": "0cb84765",
   "metadata": {},
   "source": [
    "# Scratchwork 2"
   ]
  },
  {
   "cell_type": "code",
   "execution_count": 1,
   "id": "93476262",
   "metadata": {},
   "outputs": [],
   "source": [
    "from cayley_table import CayleyTable\n",
    "from finite_algebras import Magma"
   ]
  },
  {
   "cell_type": "code",
   "execution_count": 2,
   "id": "e496d961",
   "metadata": {},
   "outputs": [],
   "source": [
    "rps_table = [[0, 1, 0], [1, 1, 2], [0, 2, 2]]"
   ]
  },
  {
   "cell_type": "code",
   "execution_count": 3,
   "id": "a68137d3",
   "metadata": {},
   "outputs": [
    {
     "data": {
      "text/plain": [
       "Magma(\n",
       "RPS,\n",
       "Rock, Paper, Scissors,\n",
       "['r', 'p', 's'],\n",
       "[[0, 1, 0], [1, 1, 2], [0, 2, 2]]\n",
       ")"
      ]
     },
     "execution_count": 3,
     "metadata": {},
     "output_type": "execute_result"
    }
   ],
   "source": [
    "rps = Magma('RPS', \"Rock, Paper, Scissors\", ['r', 'p', 's'], rps_table)\n",
    "rps"
   ]
  },
  {
   "cell_type": "code",
   "execution_count": 12,
   "id": "dcf6bdf5",
   "metadata": {},
   "outputs": [],
   "source": [
    "def finite_algebra_dict(*args):\n",
    "    \"\"\"Return a dictionary that specifies the type of algebra that the input arguments support\n",
    "    and some of its properties.\"\"\"\n",
    "\n",
    "    if len(args) == 1:\n",
    "\n",
    "        # Create from a JSON file\n",
    "        if isinstance(args[0], str):\n",
    "            with open(args[0], 'r') as fin:\n",
    "                finalg_dict = json.load(fin)\n",
    "\n",
    "        # Create from a dictionary\n",
    "        elif isinstance(args[0], dict):\n",
    "            finalg_dict = args[0]\n",
    "\n",
    "        else:\n",
    "            raise ValueError(\"If there's a single input, then it must be a string or a dictionary.\")\n",
    "\n",
    "    elif len(args) == 4:\n",
    "\n",
    "        finalg_dict = {'name': args[0],\n",
    "                       'description': args[1],\n",
    "                       'element_names': args[2],\n",
    "                       'mult_table': args[3]\n",
    "                       }\n",
    "    else:\n",
    "        raise ValueError(\"Incorrect number of input arguments.\")\n",
    "\n",
    "    tbl = finalg_dict['mult_table']\n",
    "    # Check if first element in table is a string\n",
    "    if isinstance(tbl[0][0], str):\n",
    "        tbl = index_table_from_name_table(finalg_dict['element_names'], tbl)\n",
    "    finalg_dict['table'] = CayleyTable(tbl)\n",
    "    del finalg_dict['mult_table']\n",
    "\n",
    "    finalg_dict['is_associative'] = finalg_dict['table'].is_associative()\n",
    "    finalg_dict['is_commutative'] = finalg_dict['table'].is_commutative()\n",
    "    finalg_dict['identity'] = finalg_dict['table'].identity()\n",
    "\n",
    "    if finalg_dict['identity'] is not None:\n",
    "        finalg_dict['inverses'] = finalg_dict['table'].inverse_lookup_dict(finalg_dict['identity'])\n",
    "    else:\n",
    "        inverses = None\n",
    "\n",
    "\n",
    "    if finalg_dict['is_associative']:\n",
    "        if finalg_dict['identity'] is not None:\n",
    "            if finalg_dict['inverses']:\n",
    "                finalg_dict['type'] = 'Group'\n",
    "            else:\n",
    "                finalg_dict['type'] = 'Monoid'\n",
    "        else:\n",
    "            finalg_dict['type'] = 'Semigroup'\n",
    "    else:\n",
    "        finalg_dict['type'] = 'Magma'\n",
    "    \n",
    "    return finalg_dict"
   ]
  },
  {
   "cell_type": "code",
   "execution_count": 13,
   "id": "4ae614d4",
   "metadata": {},
   "outputs": [],
   "source": [
    "def index_table_from_name_table(elements, name_table):\n",
    "    return [[elements.index(elem_name) for elem_name in row] for row in name_table]"
   ]
  },
  {
   "cell_type": "code",
   "execution_count": 14,
   "id": "fa5c0b50",
   "metadata": {},
   "outputs": [
    {
     "data": {
      "text/plain": [
       "{'name': 'RPS',\n",
       " 'description': 'Rock, Paper, Scissors',\n",
       " 'element_names': ['r', 'p', 's'],\n",
       " 'table': CayleyTable([[0, 1, 0], [1, 1, 2], [0, 2, 2]]),\n",
       " 'is_associative': False,\n",
       " 'is_commutative': True,\n",
       " 'identity': None,\n",
       " 'type': 'Magma'}"
      ]
     },
     "execution_count": 14,
     "metadata": {},
     "output_type": "execute_result"
    }
   ],
   "source": [
    "rps_dict = finite_algebra_dict('RPS', \"Rock, Paper, Scissors\", ['r', 'p', 's'], rps_table)\n",
    "rps_dict"
   ]
  },
  {
   "cell_type": "code",
   "execution_count": 15,
   "id": "9e8efb0d",
   "metadata": {},
   "outputs": [],
   "source": [
    "ex141_tbl = [[0, 3, 0, 3, 0, 3],\n",
    "             [1, 4, 1, 4, 1, 4],\n",
    "             [2, 5, 2, 5, 2, 5],\n",
    "             [3, 0, 3, 0, 3, 0],\n",
    "             [4, 1, 4, 1, 4, 1],\n",
    "             [5, 2, 5, 2, 5, 2]]"
   ]
  },
  {
   "cell_type": "code",
   "execution_count": null,
   "id": "220e6619",
   "metadata": {},
   "outputs": [],
   "source": []
  },
  {
   "cell_type": "code",
   "execution_count": 16,
   "id": "0fab6774",
   "metadata": {},
   "outputs": [
    {
     "data": {
      "text/plain": [
       "{'name': 'Example 141',\n",
       " 'description': 'Smarandache',\n",
       " 'element_names': ['a', 'b', 'c', 'd', 'e', 'f'],\n",
       " 'table': CayleyTable([[0, 3, 0, 3, 0, 3], [1, 4, 1, 4, 1, 4], [2, 5, 2, 5, 2, 5], [3, 0, 3, 0, 3, 0], [4, 1, 4, 1, 4, 1], [5, 2, 5, 2, 5, 2]]),\n",
       " 'is_associative': True,\n",
       " 'is_commutative': False,\n",
       " 'identity': None,\n",
       " 'type': 'Semigroup'}"
      ]
     },
     "execution_count": 16,
     "metadata": {},
     "output_type": "execute_result"
    }
   ],
   "source": [
    "ex141_magma = finite_algebra_dict(\"Example 141\", \"Smarandache\", ['a', 'b', 'c', 'd', 'e', 'f'], ex141_tbl)\n",
    "ex141_magma"
   ]
  },
  {
   "cell_type": "code",
   "execution_count": 17,
   "id": "30b1fe2a",
   "metadata": {},
   "outputs": [],
   "source": [
    "import os, json\n",
    "aa_path = os.path.join(os.getenv(\"PYPROJ\"), \"abstract_algebra\")\n",
    "alg_dir = os.path.join(aa_path, \"Algebras\")"
   ]
  },
  {
   "cell_type": "code",
   "execution_count": 18,
   "id": "f8e8d8ce",
   "metadata": {},
   "outputs": [
    {
     "name": "stdout",
     "output_type": "stream",
     "text": [
      "{\"type\": \"Group\",\r\n",
      " \"name\": \"V4\",\r\n",
      " \"description\": \"Klein-4 group\",\r\n",
      " \"element_names\": [\"e\", \"h\", \"v\", \"r\"],\r\n",
      " \"mult_table\": [[0, 1, 2, 3],\r\n",
      "                [1, 0, 3, 2],\r\n",
      "                [2, 3, 0, 1],\r\n",
      "                [3, 2, 1, 0]]\r\n",
      "}\r\n"
     ]
    }
   ],
   "source": [
    "v4_json = os.path.join(alg_dir, \"v4_klein_4_group.json\")\n",
    "!cat {v4_json}"
   ]
  },
  {
   "cell_type": "code",
   "execution_count": 19,
   "id": "4648ff1b",
   "metadata": {},
   "outputs": [
    {
     "data": {
      "text/plain": [
       "{'type': 'Group',\n",
       " 'name': 'V4',\n",
       " 'description': 'Klein-4 group',\n",
       " 'element_names': ['e', 'h', 'v', 'r'],\n",
       " 'table': CayleyTable([[0, 1, 2, 3], [1, 0, 3, 2], [2, 3, 0, 1], [3, 2, 1, 0]]),\n",
       " 'is_associative': True,\n",
       " 'is_commutative': True,\n",
       " 'identity': 0,\n",
       " 'inverses': {0: 0, 1: 1, 2: 2, 3: 3}}"
      ]
     },
     "execution_count": 19,
     "metadata": {},
     "output_type": "execute_result"
    }
   ],
   "source": [
    "v4_dict = finite_algebra_dict(v4_json)\n",
    "v4_dict"
   ]
  },
  {
   "cell_type": "code",
   "execution_count": null,
   "id": "35f16f49",
   "metadata": {},
   "outputs": [],
   "source": []
  },
  {
   "cell_type": "markdown",
   "id": "f4d867e7",
   "metadata": {},
   "source": [
    "## Look into these made-up algebras more"
   ]
  },
  {
   "cell_type": "code",
   "execution_count": 46,
   "id": "36cc8b44",
   "metadata": {},
   "outputs": [],
   "source": [
    "tbl1 = [[0, 1, 2, 3],\n",
    "        [1, 2, 2, 0],\n",
    "        [2, 3, 0, 1],\n",
    "        [3, 0, 1, 1]]"
   ]
  },
  {
   "cell_type": "code",
   "execution_count": 47,
   "id": "d4fbce8d",
   "metadata": {},
   "outputs": [],
   "source": [
    "fa1 = finite_algebra_dict(\"fa1\", \"Testing\", ['e', 'a', 'b', 'c'], tbl1)"
   ]
  },
  {
   "cell_type": "code",
   "execution_count": 48,
   "id": "7011e5fb",
   "metadata": {},
   "outputs": [
    {
     "data": {
      "text/plain": [
       "{'name': 'fa1',\n",
       " 'description': 'Testing',\n",
       " 'element_names': ['e', 'a', 'b', 'c'],\n",
       " 'table': CayleyTable([[0, 1, 2, 3], [1, 2, 2, 0], [2, 3, 0, 1], [3, 0, 1, 1]]),\n",
       " 'is_associative': False,\n",
       " 'is_commutative': False,\n",
       " 'identity': 0,\n",
       " 'inverses': {0: 0, 1: 3, 2: 2, 3: 1},\n",
       " 'type': 'Magma'}"
      ]
     },
     "execution_count": 48,
     "metadata": {},
     "output_type": "execute_result"
    }
   ],
   "source": [
    "fa1"
   ]
  },
  {
   "cell_type": "code",
   "execution_count": null,
   "id": "96a0bf27",
   "metadata": {},
   "outputs": [],
   "source": []
  },
  {
   "cell_type": "code",
   "execution_count": 49,
   "id": "9d5b0363",
   "metadata": {},
   "outputs": [],
   "source": [
    "tbl2 = [[0, 1, 2, 3],\n",
    "        [1, 2, 2, 1],\n",
    "        [2, 3, 0, 1],\n",
    "        [3, 0, 1, 1]]"
   ]
  },
  {
   "cell_type": "code",
   "execution_count": 50,
   "id": "5e2b4320",
   "metadata": {},
   "outputs": [],
   "source": [
    "fa2 = finite_algebra_dict(\"fa2\", \"Testing\", ['e', 'a', 'b', 'c'], tbl2)"
   ]
  },
  {
   "cell_type": "code",
   "execution_count": 51,
   "id": "c082f6d3",
   "metadata": {},
   "outputs": [
    {
     "data": {
      "text/plain": [
       "{'name': 'fa2',\n",
       " 'description': 'Testing',\n",
       " 'element_names': ['e', 'a', 'b', 'c'],\n",
       " 'table': CayleyTable([[0, 1, 2, 3], [1, 2, 2, 1], [2, 3, 0, 1], [3, 0, 1, 1]]),\n",
       " 'is_associative': False,\n",
       " 'is_commutative': False,\n",
       " 'identity': 0,\n",
       " 'inverses': {0: 0, 2: 2, 3: 1},\n",
       " 'type': 'Magma'}"
      ]
     },
     "execution_count": 51,
     "metadata": {},
     "output_type": "execute_result"
    }
   ],
   "source": [
    "fa2"
   ]
  },
  {
   "cell_type": "code",
   "execution_count": null,
   "id": "6a253eb3",
   "metadata": {},
   "outputs": [],
   "source": []
  }
 ],
 "metadata": {
  "kernelspec": {
   "display_name": "Python 3",
   "language": "python",
   "name": "python3"
  },
  "language_info": {
   "codemirror_mode": {
    "name": "ipython",
    "version": 3
   },
   "file_extension": ".py",
   "mimetype": "text/x-python",
   "name": "python",
   "nbconvert_exporter": "python",
   "pygments_lexer": "ipython3",
   "version": "3.7.7"
  }
 },
 "nbformat": 4,
 "nbformat_minor": 5
}
