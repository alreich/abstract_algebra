{
 "cells": [
  {
   "cell_type": "markdown",
   "id": "a904a44c",
   "metadata": {},
   "source": [
    "# Permutation Groups"
   ]
  },
  {
   "cell_type": "code",
   "execution_count": 138,
   "id": "e1aa59f5",
   "metadata": {},
   "outputs": [],
   "source": [
    "def permutation_mapping(perm, base=0):\n",
    "    return {i:perm[i - base] for i in range(base, len(perm) + base)}\n",
    "\n",
    "def compose_perms(q, p, base=0):\n",
    "    \"\"\"Apply permutation q to permutation p.  That is q o p = q(p).\n",
    "\n",
    "    Example: from Pinter, page 71\n",
    "\n",
    "     beta =  1  2  3\n",
    "             |  |  |\n",
    "             3  1  2\n",
    "            \n",
    "    alpha =  1  2  3\n",
    "             |  |  |\n",
    "             1  3  2\n",
    "             \n",
    "    compose_perms(alpha, beta, 1) = \n",
    "             \n",
    "             1  2  3\n",
    "             |  |  |\n",
    "             2  1  3\n",
    "    \"\"\"\n",
    "    qmap = permutation_mapping(q, base)\n",
    "    pmap = permutation_mapping(p, base)\n",
    "    return tuple([qmap[pmap[i]] for i in range(base, len(q) + base)])"
   ]
  },
  {
   "cell_type": "code",
   "execution_count": 139,
   "id": "3523403e",
   "metadata": {},
   "outputs": [
    {
     "name": "stdout",
     "output_type": "stream",
     "text": [
      "{0: 0, 1: 1, 2: 2, 3: 3}\n",
      "{1: 3, 2: 1, 3: 2}\n"
     ]
    }
   ],
   "source": [
    "print(mapping((0, 1, 2, 3)))\n",
    "print(mapping((3,1,2), 1))"
   ]
  },
  {
   "cell_type": "markdown",
   "id": "f86a12ce",
   "metadata": {},
   "source": [
    "The following tests are from Pinter, p. 71"
   ]
  },
  {
   "cell_type": "code",
   "execution_count": 151,
   "id": "8b9350bc",
   "metadata": {},
   "outputs": [],
   "source": [
    "s3 = {'epsilon' : (1, 2, 3),\n",
    "      'alpha' : (1, 3, 2),\n",
    "      'beta' : (3, 1, 2),\n",
    "      'gamma' : (2, 1, 3),\n",
    "      'delta' : (2, 3, 1),\n",
    "      'kappa' : (3, 2, 1)}"
   ]
  },
  {
   "cell_type": "code",
   "execution_count": 152,
   "id": "834e9b73",
   "metadata": {},
   "outputs": [],
   "source": [
    "s3_inv = {val: key for key, val in s3.items()}"
   ]
  },
  {
   "cell_type": "code",
   "execution_count": 153,
   "id": "2bdad474",
   "metadata": {},
   "outputs": [
    {
     "data": {
      "text/plain": [
       "(3, 1, 2)"
      ]
     },
     "execution_count": 153,
     "metadata": {},
     "output_type": "execute_result"
    }
   ],
   "source": [
    "compose_perms(s3['beta'], s3['epsilon'], 1)  # Should be (3, 1, 2)"
   ]
  },
  {
   "cell_type": "code",
   "execution_count": 154,
   "id": "30ee8b0f",
   "metadata": {},
   "outputs": [
    {
     "data": {
      "text/plain": [
       "(2, 1, 3)"
      ]
     },
     "execution_count": 154,
     "metadata": {},
     "output_type": "execute_result"
    }
   ],
   "source": [
    "compose_perms(s3['alpha'], s3['beta'], 1)  # Should be (2, 1, 3)"
   ]
  },
  {
   "cell_type": "code",
   "execution_count": 156,
   "id": "823113cc",
   "metadata": {},
   "outputs": [
    {
     "data": {
      "text/plain": [
       "[(1, 2, 3), (1, 2, 3), (2, 3, 1), (1, 2, 3), (3, 1, 2), (1, 2, 3)]"
      ]
     },
     "execution_count": 156,
     "metadata": {},
     "output_type": "execute_result"
    }
   ],
   "source": [
    "[compose_perms(s3[x], s3[x], 1) for x in s3]"
   ]
  },
  {
   "cell_type": "code",
   "execution_count": 155,
   "id": "d1f058f7",
   "metadata": {},
   "outputs": [
    {
     "data": {
      "text/plain": [
       "[['epsilon', 'alpha', 'beta', 'gamma', 'delta', 'kappa'],\n",
       " ['alpha', 'epsilon', 'kappa', 'delta', 'gamma', 'beta'],\n",
       " ['beta', 'gamma', 'delta', 'kappa', 'epsilon', 'alpha'],\n",
       " ['gamma', 'beta', 'alpha', 'epsilon', 'kappa', 'delta'],\n",
       " ['delta', 'kappa', 'epsilon', 'alpha', 'beta', 'gamma'],\n",
       " ['kappa', 'delta', 'gamma', 'beta', 'alpha', 'epsilon']]"
      ]
     },
     "execution_count": 155,
     "metadata": {},
     "output_type": "execute_result"
    }
   ],
   "source": [
    "[[s3_inv[compose_perms(s3[a], s3[b], 1)] for a in s3] for b in s3]"
   ]
  },
  {
   "cell_type": "code",
   "execution_count": null,
   "id": "70fd2759",
   "metadata": {},
   "outputs": [],
   "source": []
  }
 ],
 "metadata": {
  "kernelspec": {
   "display_name": "Python 3",
   "language": "python",
   "name": "python3"
  },
  "language_info": {
   "codemirror_mode": {
    "name": "ipython",
    "version": 3
   },
   "file_extension": ".py",
   "mimetype": "text/x-python",
   "name": "python",
   "nbconvert_exporter": "python",
   "pygments_lexer": "ipython3",
   "version": "3.7.7"
  }
 },
 "nbformat": 4,
 "nbformat_minor": 5
}
