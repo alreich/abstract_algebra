{
 "cells": [
  {
   "cell_type": "markdown",
   "id": "16a1af94",
   "metadata": {},
   "source": [
    "# Abstract Polynomials"
   ]
  },
  {
   "cell_type": "markdown",
   "id": "688f879f",
   "metadata": {},
   "source": [
    "This is an experimental notebook."
   ]
  },
  {
   "cell_type": "markdown",
   "id": "d729377a",
   "metadata": {},
   "source": [
    "# My Polynomials"
   ]
  },
  {
   "cell_type": "markdown",
   "id": "c18dd63d",
   "metadata": {},
   "source": [
    "Right now, it's all based on integer or floating point coefficients and values.\n",
    "\n",
    "I wrote this so that I can explore polynomials over non-traditional (non-numeric) algebras (e.g, Rings, Fields)"
   ]
  },
  {
   "cell_type": "code",
   "execution_count": 1,
   "id": "2d302a28",
   "metadata": {},
   "outputs": [],
   "source": [
    "from polynomials import *"
   ]
  },
  {
   "cell_type": "markdown",
   "id": "6969c4d4",
   "metadata": {},
   "source": [
    "## Polynomial Basics"
   ]
  },
  {
   "cell_type": "markdown",
   "id": "143fe6f3",
   "metadata": {},
   "source": [
    "A polynomial, ``Poly``, can be constructed from a 1D array of integers or floats that represent coefficients, where the index of a coefficient in the array is its order in the polynomial.\n",
    "\n",
    "Other methods of polynomial creation are described farther below."
   ]
  },
  {
   "cell_type": "code",
   "execution_count": 2,
   "id": "39b4e1c1",
   "metadata": {},
   "outputs": [
    {
     "data": {
      "text/plain": [
       "Poly([-2, -4, 7, 0, -3])"
      ]
     },
     "execution_count": 2,
     "metadata": {},
     "output_type": "execute_result"
    }
   ],
   "source": [
    "coeffs = [-2, -4, 7, 0, -3]\n",
    "\n",
    "p = Poly(coeffs)\n",
    "p"
   ]
  },
  {
   "cell_type": "markdown",
   "id": "bff009d1",
   "metadata": {},
   "source": [
    "By default, 'x' is assumed to be the variable in a polynomial."
   ]
  },
  {
   "cell_type": "code",
   "execution_count": 3,
   "id": "139a459f",
   "metadata": {},
   "outputs": [
    {
     "name": "stdout",
     "output_type": "stream",
     "text": [
      "-2 -4x +7x^2 -3x^4\n"
     ]
    }
   ],
   "source": [
    "print(p)"
   ]
  },
  {
   "cell_type": "markdown",
   "id": "207af5ca",
   "metadata": {},
   "source": [
    "A ``Poly`` is callable."
   ]
  },
  {
   "cell_type": "code",
   "execution_count": 4,
   "id": "13d0b38e",
   "metadata": {},
   "outputs": [
    {
     "data": {
      "text/plain": [
       "-194"
      ]
     },
     "execution_count": 4,
     "metadata": {},
     "output_type": "execute_result"
    }
   ],
   "source": [
    "p(3)"
   ]
  },
  {
   "cell_type": "markdown",
   "id": "08dc6bc7",
   "metadata": {},
   "source": [
    "Here's a check of the arithmetic in the call made, above."
   ]
  },
  {
   "cell_type": "code",
   "execution_count": 5,
   "id": "52c96a36",
   "metadata": {},
   "outputs": [
    {
     "name": "stdout",
     "output_type": "stream",
     "text": [
      "-194\n"
     ]
    }
   ],
   "source": [
    "a = 3\n",
    "print(-2 - 4*a + 7*a**2 - 3*a**4)"
   ]
  },
  {
   "cell_type": "markdown",
   "id": "c455e10a",
   "metadata": {},
   "source": [
    "Internally, a ``Poly`` is made up of a list of ``Terms`` and a ``varname`` (variable name string).\n",
    "\n",
    "A polynomial's term list is immutable, so it is a *property*; however, ``varname`` is a method, because it can be used to change the polynomials variable (e.g., 'x' -> 'y')"
   ]
  },
  {
   "cell_type": "code",
   "execution_count": 6,
   "id": "06bc609b",
   "metadata": {},
   "outputs": [
    {
     "data": {
      "text/plain": [
       "[Term(-2, 0), Term(-4, 1), Term(7, 2), Term(-3, 4)]"
      ]
     },
     "execution_count": 6,
     "metadata": {},
     "output_type": "execute_result"
    }
   ],
   "source": [
    "p.terms"
   ]
  },
  {
   "cell_type": "code",
   "execution_count": 7,
   "id": "b5b6dea4",
   "metadata": {},
   "outputs": [
    {
     "data": {
      "text/plain": [
       "'x'"
      ]
     },
     "execution_count": 7,
     "metadata": {},
     "output_type": "execute_result"
    }
   ],
   "source": [
    "p.varname()"
   ]
  },
  {
   "cell_type": "markdown",
   "id": "e6b1e14a",
   "metadata": {},
   "source": [
    "A ``Term`` can be retrieved, by its order, using the polynomial's ``term`` method."
   ]
  },
  {
   "cell_type": "code",
   "execution_count": 8,
   "id": "35334753",
   "metadata": {},
   "outputs": [
    {
     "data": {
      "text/plain": [
       "Term(7, 2)"
      ]
     },
     "execution_count": 8,
     "metadata": {},
     "output_type": "execute_result"
    }
   ],
   "source": [
    "t2 = p.term(2)\n",
    "t2"
   ]
  },
  {
   "cell_type": "markdown",
   "id": "4bd462b3",
   "metadata": {},
   "source": [
    "A ``Term`` consists of a *coefficient*, an *order*, and a *varname*."
   ]
  },
  {
   "cell_type": "code",
   "execution_count": 9,
   "id": "eae88a2c",
   "metadata": {},
   "outputs": [
    {
     "data": {
      "text/plain": [
       "7"
      ]
     },
     "execution_count": 9,
     "metadata": {},
     "output_type": "execute_result"
    }
   ],
   "source": [
    "t2.coefficient"
   ]
  },
  {
   "cell_type": "code",
   "execution_count": 10,
   "id": "92c173f0",
   "metadata": {},
   "outputs": [
    {
     "data": {
      "text/plain": [
       "2"
      ]
     },
     "execution_count": 10,
     "metadata": {},
     "output_type": "execute_result"
    }
   ],
   "source": [
    "t2.order"
   ]
  },
  {
   "cell_type": "markdown",
   "id": "3d50b0cb",
   "metadata": {},
   "source": [
    "By default, terms use 'x' as a variable name."
   ]
  },
  {
   "cell_type": "code",
   "execution_count": 11,
   "id": "801aeedc",
   "metadata": {},
   "outputs": [
    {
     "data": {
      "text/plain": [
       "'x'"
      ]
     },
     "execution_count": 11,
     "metadata": {},
     "output_type": "execute_result"
    }
   ],
   "source": [
    "t2.varname()"
   ]
  },
  {
   "cell_type": "markdown",
   "id": "21501862",
   "metadata": {},
   "source": [
    "Here's an example of a polynomial that doesn't use the default *varname* of 'x'."
   ]
  },
  {
   "cell_type": "code",
   "execution_count": 12,
   "id": "33c7f7cd",
   "metadata": {},
   "outputs": [
    {
     "data": {
      "text/plain": [
       "Poly([-2, -4, 7, 0, -3], 'y')"
      ]
     },
     "execution_count": 12,
     "metadata": {},
     "output_type": "execute_result"
    }
   ],
   "source": [
    "py = Poly(coeffs, 'y')\n",
    "py"
   ]
  },
  {
   "cell_type": "code",
   "execution_count": 13,
   "id": "8b75aea5",
   "metadata": {},
   "outputs": [
    {
     "name": "stdout",
     "output_type": "stream",
     "text": [
      "-2 -4y +7y^2 -3y^4\n"
     ]
    }
   ],
   "source": [
    "print(py)"
   ]
  },
  {
   "cell_type": "code",
   "execution_count": 14,
   "id": "9c0fa814",
   "metadata": {},
   "outputs": [
    {
     "data": {
      "text/plain": [
       "-194"
      ]
     },
     "execution_count": 14,
     "metadata": {},
     "output_type": "execute_result"
    }
   ],
   "source": [
    "py(3)"
   ]
  },
  {
   "cell_type": "code",
   "execution_count": 15,
   "id": "c43290d6",
   "metadata": {},
   "outputs": [
    {
     "data": {
      "text/plain": [
       "[Term(-2, 0, y), Term(-4, 1, y), Term(7, 2, y), Term(-3, 4, y)]"
      ]
     },
     "execution_count": 15,
     "metadata": {},
     "output_type": "execute_result"
    }
   ],
   "source": [
    "py.terms"
   ]
  },
  {
   "cell_type": "markdown",
   "id": "02f14ca7",
   "metadata": {},
   "source": [
    "## Other Ways to Construct Polynomials"
   ]
  },
  {
   "cell_type": "markdown",
   "id": "9319aba1",
   "metadata": {},
   "source": [
    "### From a String Representation"
   ]
  },
  {
   "cell_type": "markdown",
   "id": "f0737a80",
   "metadata": {},
   "source": [
    "A ``Poly`` can also be constructed from a string representation of a polynomial, such as \"-2 -4x +7x^2 -3x^4\", where there must be a space between each term, and, except for the first term, every term must begin with a + or - sign, and then a number, unless the number is a 1."
   ]
  },
  {
   "cell_type": "code",
   "execution_count": 16,
   "id": "cb8ea2d9",
   "metadata": {},
   "outputs": [
    {
     "name": "stdout",
     "output_type": "stream",
     "text": [
      "-2 -4x +7x^2 -3x^4\n"
     ]
    },
    {
     "data": {
      "text/plain": [
       "Poly([-2, -4, 7, 0, -3])"
      ]
     },
     "execution_count": 16,
     "metadata": {},
     "output_type": "execute_result"
    }
   ],
   "source": [
    "polystr = \"-2 -4x +7x^2 -3x^4\"\n",
    "\n",
    "p2 = Poly(polystr)\n",
    "print(p2)\n",
    "p2"
   ]
  },
  {
   "cell_type": "markdown",
   "id": "dee0c0eb",
   "metadata": {},
   "source": [
    "### From a List of Pairs (Tuples)"
   ]
  },
  {
   "cell_type": "code",
   "execution_count": 17,
   "id": "63315d61",
   "metadata": {},
   "outputs": [
    {
     "name": "stdout",
     "output_type": "stream",
     "text": [
      "-2 -4x +7x^2 -3x^4\n"
     ]
    },
    {
     "data": {
      "text/plain": [
       "Poly([-2, -4, 7, 0, -3])"
      ]
     },
     "execution_count": 17,
     "metadata": {},
     "output_type": "execute_result"
    }
   ],
   "source": [
    "coef_order_pairs_a = [(-2,0), (-4,1), (7, 2), (-3, 4)]\n",
    "\n",
    "p3a = Poly(coef_order_pairs_a)\n",
    "print(p3a)\n",
    "p3a"
   ]
  },
  {
   "cell_type": "markdown",
   "id": "afce8abe",
   "metadata": {},
   "source": [
    "### From a List of Pairs (Lists)"
   ]
  },
  {
   "cell_type": "code",
   "execution_count": 18,
   "id": "df2640d9",
   "metadata": {},
   "outputs": [
    {
     "name": "stdout",
     "output_type": "stream",
     "text": [
      "-2 -4x +7x^2 -3x^4\n"
     ]
    },
    {
     "data": {
      "text/plain": [
       "Poly([-2, -4, 7, 0, -3])"
      ]
     },
     "execution_count": 18,
     "metadata": {},
     "output_type": "execute_result"
    }
   ],
   "source": [
    "coef_order_pairs_b = [[-2,0], [-4,1], [7, 2], [-3, 4]]\n",
    "\n",
    "p3b = Poly(coef_order_pairs_b)\n",
    "print(p3b)\n",
    "p3b"
   ]
  },
  {
   "cell_type": "markdown",
   "id": "0447ff70",
   "metadata": {},
   "source": [
    "### From a List of Terms"
   ]
  },
  {
   "cell_type": "code",
   "execution_count": 19,
   "id": "b5d13e61",
   "metadata": {},
   "outputs": [
    {
     "name": "stdout",
     "output_type": "stream",
     "text": [
      "-2 -4x +7x^2 -3x^4\n"
     ]
    },
    {
     "data": {
      "text/plain": [
       "Poly([-2, -4, 7, 0, -3])"
      ]
     },
     "execution_count": 19,
     "metadata": {},
     "output_type": "execute_result"
    }
   ],
   "source": [
    "list_of_terms = [Term(-2,0), Term(-4,1), Term(7, 2), Term(-3, 4)]\n",
    "\n",
    "p4 = Poly(list_of_terms)\n",
    "print(p4)\n",
    "p4"
   ]
  },
  {
   "cell_type": "markdown",
   "id": "8db15667",
   "metadata": {},
   "source": [
    "### From a List of Roots"
   ]
  },
  {
   "cell_type": "code",
   "execution_count": 20,
   "id": "ca85e0a9",
   "metadata": {},
   "outputs": [
    {
     "name": "stdout",
     "output_type": "stream",
     "text": [
      "+6 -11x +6x^2 -1x^3\n"
     ]
    },
    {
     "data": {
      "text/plain": [
       "Poly([6, -11, 6, -1])"
      ]
     },
     "execution_count": 20,
     "metadata": {},
     "output_type": "execute_result"
    }
   ],
   "source": [
    "roots = [1, 2, 3]\n",
    "\n",
    "p5 = fromroots(roots)\n",
    "print(p5)\n",
    "p5"
   ]
  },
  {
   "cell_type": "markdown",
   "id": "5b4ff4a8",
   "metadata": {},
   "source": [
    "## Combining Like Terms"
   ]
  },
  {
   "cell_type": "markdown",
   "id": "ae746b52",
   "metadata": {},
   "source": [
    "Like terms (same order) are automatically combined during various polynomial operations, include the construction of polynomials."
   ]
  },
  {
   "cell_type": "code",
   "execution_count": 21,
   "id": "f92b3754",
   "metadata": {},
   "outputs": [],
   "source": [
    "test_terms = [Term(-2,0), Term(-4,1), Term(-1,0), Term(7,2), Term(-3,4), Term(-2,2)]"
   ]
  },
  {
   "cell_type": "code",
   "execution_count": 22,
   "id": "294100bc",
   "metadata": {},
   "outputs": [
    {
     "name": "stdout",
     "output_type": "stream",
     "text": [
      "[Term(-2, 0), Term(-4, 1), Term(-1, 0), Term(7, 2), Term(-3, 4), Term(-2, 2)]\n",
      "[Term(-3, 0), Term(-4, 1), Term(5, 2), Term(-3, 4)]\n"
     ]
    }
   ],
   "source": [
    "print(test_terms)\n",
    "print(combine_like_terms(test_terms))"
   ]
  },
  {
   "cell_type": "code",
   "execution_count": 23,
   "id": "ade8f849",
   "metadata": {},
   "outputs": [
    {
     "name": "stdout",
     "output_type": "stream",
     "text": [
      "-3 -4x +5x^2 -3x^4\n"
     ]
    },
    {
     "data": {
      "text/plain": [
       "Poly([-3, -4, 5, 0, -3])"
      ]
     },
     "execution_count": 23,
     "metadata": {},
     "output_type": "execute_result"
    }
   ],
   "source": [
    "polystr2 = \"-2 -4x -1 +7x^2 -3x^4 -2x^2\"\n",
    "p2 = Poly(polystr2)\n",
    "print(p2)\n",
    "p2"
   ]
  },
  {
   "cell_type": "code",
   "execution_count": 24,
   "id": "817c27f6",
   "metadata": {},
   "outputs": [
    {
     "name": "stdout",
     "output_type": "stream",
     "text": [
      "0\n"
     ]
    },
    {
     "data": {
      "text/plain": [
       "Poly([0])"
      ]
     },
     "execution_count": 24,
     "metadata": {},
     "output_type": "execute_result"
    }
   ],
   "source": [
    "polystr3 = \"-2 +3x^4 -4x +2 +7x^2 +4x -3x^4 -7x^2\"\n",
    "p3 = Poly(polystr3)\n",
    "print(p3)\n",
    "p3"
   ]
  },
  {
   "cell_type": "markdown",
   "id": "4b0eb608",
   "metadata": {},
   "source": [
    "## Testing Some Polynomial Strings"
   ]
  },
  {
   "cell_type": "code",
   "execution_count": 25,
   "id": "87587190",
   "metadata": {},
   "outputs": [
    {
     "name": "stdout",
     "output_type": "stream",
     "text": [
      "-2 -4x +7x^2 -3x^4\n"
     ]
    },
    {
     "data": {
      "text/plain": [
       "[Term(-2, 0), Term(-4, 1), Term(7, 2), Term(-3, 4)]"
      ]
     },
     "execution_count": 25,
     "metadata": {},
     "output_type": "execute_result"
    }
   ],
   "source": [
    "polystr = \"-2 -4x^1 +7x^2 -3x^4\"  # Added '^1' to linear term\n",
    "\n",
    "p = Poly(polystr)\n",
    "print(p)\n",
    "p.terms"
   ]
  },
  {
   "cell_type": "code",
   "execution_count": 26,
   "id": "d30a47a6",
   "metadata": {},
   "outputs": [
    {
     "name": "stdout",
     "output_type": "stream",
     "text": [
      "-2 -4x +7x^2 -3x^4\n"
     ]
    },
    {
     "data": {
      "text/plain": [
       "[Term(-2, 0), Term(-4, 1), Term(7, 2), Term(-3, 4)]"
      ]
     },
     "execution_count": 26,
     "metadata": {},
     "output_type": "execute_result"
    }
   ],
   "source": [
    "polystr = \"-2x^0 -4x^1 +7x^2 -3x^4\"  # Added 'x^0' to constant term\n",
    "\n",
    "p = Poly(polystr)\n",
    "print(p)\n",
    "p.terms"
   ]
  },
  {
   "cell_type": "code",
   "execution_count": 27,
   "id": "26d56e1b",
   "metadata": {},
   "outputs": [
    {
     "name": "stdout",
     "output_type": "stream",
     "text": [
      "-2 -4x +7x^2 -3x^4\n"
     ]
    },
    {
     "data": {
      "text/plain": [
       "[Term(-2, 0), Term(-4, 1), Term(7, 2), Term(-3, 4)]"
      ]
     },
     "execution_count": 27,
     "metadata": {},
     "output_type": "execute_result"
    }
   ],
   "source": [
    "polystr = \"-4x -2 -3x^4 +7x^2\"  #  Terms not in order \n",
    "\n",
    "p = Poly(polystr)\n",
    "print(p)\n",
    "p.terms"
   ]
  },
  {
   "cell_type": "code",
   "execution_count": 28,
   "id": "44afa013",
   "metadata": {},
   "outputs": [
    {
     "name": "stdout",
     "output_type": "stream",
     "text": [
      "-1 -1x +7x^2 -3x^4\n"
     ]
    },
    {
     "data": {
      "text/plain": [
       "[Term(-1, 0), Term(-1, 1), Term(7, 2), Term(-3, 4)]"
      ]
     },
     "execution_count": 28,
     "metadata": {},
     "output_type": "execute_result"
    }
   ],
   "source": [
    "polystr = \"2 -x -3 +7x^2 -3x^4\"  # No coefficient on linear term, 'x'\n",
    "\n",
    "p = Poly(polystr)\n",
    "print(p)\n",
    "p.terms"
   ]
  },
  {
   "cell_type": "code",
   "execution_count": 29,
   "id": "f60725c1",
   "metadata": {},
   "outputs": [
    {
     "name": "stdout",
     "output_type": "stream",
     "text": [
      "-1 +7x^2 -3x^4\n"
     ]
    },
    {
     "data": {
      "text/plain": [
       "[Term(-1, 0), Term(7, 2), Term(-3, 4)]"
      ]
     },
     "execution_count": 29,
     "metadata": {},
     "output_type": "execute_result"
    }
   ],
   "source": [
    "polystr = \"2 -x -3 +7x^2 +x -3x^4\"  # linear terms cancel\n",
    "\n",
    "p = Poly(polystr)\n",
    "print(p)\n",
    "p.terms"
   ]
  },
  {
   "cell_type": "code",
   "execution_count": 30,
   "id": "586f90df",
   "metadata": {},
   "outputs": [
    {
     "name": "stdout",
     "output_type": "stream",
     "text": [
      "-3\n"
     ]
    },
    {
     "data": {
      "text/plain": [
       "[Term(-3, 0)]"
      ]
     },
     "execution_count": 30,
     "metadata": {},
     "output_type": "execute_result"
    }
   ],
   "source": [
    "polystr = \"-4x^2 -x -3 +7x^2 +x -3x^2\"  # Quadratic terms collapse and cancel\n",
    "\n",
    "p = Poly(polystr)\n",
    "print(p)\n",
    "p.terms"
   ]
  },
  {
   "cell_type": "markdown",
   "id": "58be276a",
   "metadata": {},
   "source": [
    "## Polynomial Arithmetic"
   ]
  },
  {
   "cell_type": "markdown",
   "id": "4903c13a",
   "metadata": {},
   "source": [
    "Polynomials can be added, subtracted, multiplied, and negated."
   ]
  },
  {
   "cell_type": "code",
   "execution_count": 31,
   "id": "94d67ae4",
   "metadata": {},
   "outputs": [
    {
     "name": "stdout",
     "output_type": "stream",
     "text": [
      "q1 = +1 +2x\n",
      "q2 = +1 -2x\n"
     ]
    }
   ],
   "source": [
    "q1 = Poly('1 +2x')\n",
    "print(f\"q1 = {q1}\")\n",
    "\n",
    "q2 = Poly('1 -2x')\n",
    "print(f\"q2 = {q2}\")"
   ]
  },
  {
   "cell_type": "code",
   "execution_count": 32,
   "id": "8d2ca4ae",
   "metadata": {},
   "outputs": [
    {
     "name": "stdout",
     "output_type": "stream",
     "text": [
      "(+1 +2x) + (+1 -2x) = +2\n"
     ]
    }
   ],
   "source": [
    "print(f\"({q1}) + ({q2}) = {q1 + q2}\")"
   ]
  },
  {
   "cell_type": "code",
   "execution_count": 33,
   "id": "241aff03",
   "metadata": {},
   "outputs": [
    {
     "name": "stdout",
     "output_type": "stream",
     "text": [
      "(+1 +2x) - (+1 -2x) = +4x\n"
     ]
    }
   ],
   "source": [
    "print(f\"({q1}) - ({q2}) = {q1 - q2}\")"
   ]
  },
  {
   "cell_type": "code",
   "execution_count": 34,
   "id": "dfcdaf4b",
   "metadata": {},
   "outputs": [
    {
     "name": "stdout",
     "output_type": "stream",
     "text": [
      "(+1 +2x) * (+1 -2x) = +1 -4x^2\n"
     ]
    }
   ],
   "source": [
    "print(f\"({q1}) * ({q2}) = {q1 * q2}\")"
   ]
  },
  {
   "cell_type": "code",
   "execution_count": 35,
   "id": "09529b2b",
   "metadata": {},
   "outputs": [
    {
     "name": "stdout",
     "output_type": "stream",
     "text": [
      "(+1 +2x) * (+1 +2x) = +1 +4x +4x^2\n"
     ]
    }
   ],
   "source": [
    "print(f\"({q1}) * ({q1}) = {q1 * q1}\")"
   ]
  },
  {
   "cell_type": "code",
   "execution_count": 36,
   "id": "3ff1c9db",
   "metadata": {},
   "outputs": [
    {
     "name": "stdout",
     "output_type": "stream",
     "text": [
      "(+1 -2x) * (+1 -2x) = +1 -4x +4x^2\n"
     ]
    }
   ],
   "source": [
    "print(f\"({q2}) * ({q2}) = {q2 * q2}\")"
   ]
  },
  {
   "cell_type": "markdown",
   "id": "5acef6be",
   "metadata": {},
   "source": [
    "## Polynomial Representation"
   ]
  },
  {
   "cell_type": "markdown",
   "id": "cda65e03",
   "metadata": {},
   "source": [
    "The representation of a polynomial changes between two options, depending the estimated length of the representation.  The representation heuristic tries to produce the shortest representation possible, while still allow it to be one that can be used to recreate the polynomial."
   ]
  },
  {
   "cell_type": "code",
   "execution_count": 37,
   "id": "3a6e342b",
   "metadata": {},
   "outputs": [
    {
     "data": {
      "text/plain": [
       "Poly([(1, 0), (7, 19)])"
      ]
     },
     "execution_count": 37,
     "metadata": {},
     "output_type": "execute_result"
    }
   ],
   "source": [
    "coeffs1 = [1, 0, 0, 0, 0, 0, 0, 0, 0, 0, 0, 0, 0, 0, 0, 0, 0, 0, 0, 7]\n",
    "p_large_order1 = Poly(coeffs1)\n",
    "p_large_order1"
   ]
  },
  {
   "cell_type": "code",
   "execution_count": 38,
   "id": "62046f0f",
   "metadata": {},
   "outputs": [
    {
     "data": {
      "text/plain": [
       "Poly([(1, 0), (7, 6)])"
      ]
     },
     "execution_count": 38,
     "metadata": {},
     "output_type": "execute_result"
    }
   ],
   "source": [
    "coeffs2 = [1, 0, 0, 0, 0, 0, 7]\n",
    "p_large_order2 = Poly(coeffs2)\n",
    "p_large_order2"
   ]
  },
  {
   "cell_type": "code",
   "execution_count": 39,
   "id": "c9a74da9",
   "metadata": {},
   "outputs": [
    {
     "data": {
      "text/plain": [
       "Poly([1, 0, 0, 0, 0, 7])"
      ]
     },
     "execution_count": 39,
     "metadata": {},
     "output_type": "execute_result"
    }
   ],
   "source": [
    "coeffs3 = [1, 0, 0, 0, 0, 7]\n",
    "p_large_order3 = Poly(coeffs3)\n",
    "p_large_order3"
   ]
  },
  {
   "cell_type": "markdown",
   "id": "8289e2b2",
   "metadata": {},
   "source": [
    "## Using Floats"
   ]
  },
  {
   "cell_type": "markdown",
   "id": "bfb7d9d4",
   "metadata": {},
   "source": [
    "Polynomial coefficients can be floats, as well as integers, or a mix of the two."
   ]
  },
  {
   "cell_type": "code",
   "execution_count": 40,
   "id": "b28f5ff7",
   "metadata": {},
   "outputs": [
    {
     "name": "stdout",
     "output_type": "stream",
     "text": [
      "-2.2 -4x +7.3x^2 -3x^4\n"
     ]
    },
    {
     "data": {
      "text/plain": [
       "Poly([-2.2, -4, 7.3, 0, -3])"
      ]
     },
     "execution_count": 40,
     "metadata": {},
     "output_type": "execute_result"
    }
   ],
   "source": [
    "coeffs = [-2.2, -4, 7.3, -0.0, -3]\n",
    "\n",
    "p1 = Poly(coeffs)\n",
    "print(p1)\n",
    "p1"
   ]
  },
  {
   "cell_type": "code",
   "execution_count": 41,
   "id": "db423650",
   "metadata": {},
   "outputs": [
    {
     "name": "stdout",
     "output_type": "stream",
     "text": [
      "-2.2 -4x +7.3x^2 -3x^4\n"
     ]
    },
    {
     "data": {
      "text/plain": [
       "Poly([-2.2, -4, 7.3, 0, -3])"
      ]
     },
     "execution_count": 41,
     "metadata": {},
     "output_type": "execute_result"
    }
   ],
   "source": [
    "p2 = Poly('-2.2 -4x +7.3x^2 -3x^4')\n",
    "print(p2)\n",
    "p2"
   ]
  },
  {
   "cell_type": "markdown",
   "id": "468800b9",
   "metadata": {},
   "source": [
    "## Polynomial Derivatives and Antiderivatives"
   ]
  },
  {
   "cell_type": "code",
   "execution_count": 42,
   "id": "8acac016",
   "metadata": {},
   "outputs": [
    {
     "name": "stdout",
     "output_type": "stream",
     "text": [
      "-2.2 -4x +7.3x^2 -3x^4\n",
      "-4 +14.6x -12x^3\n"
     ]
    }
   ],
   "source": [
    "print(p1)\n",
    "p1_der = p1.derivative()\n",
    "print(p1_der)"
   ]
  },
  {
   "cell_type": "code",
   "execution_count": 43,
   "id": "fed40746",
   "metadata": {},
   "outputs": [
    {
     "name": "stdout",
     "output_type": "stream",
     "text": [
      "+111 -4.0x +7.3x^2 -3.0x^4\n"
     ]
    }
   ],
   "source": [
    "p1_der_antider = p1_der.antiderivative(111)\n",
    "print(p1_der_antider)"
   ]
  },
  {
   "cell_type": "markdown",
   "id": "f15cdfcc",
   "metadata": {},
   "source": [
    "# NumPy Polynomials"
   ]
  },
  {
   "cell_type": "markdown",
   "id": "278ab764",
   "metadata": {},
   "source": [
    "This is a better library for polynomials."
   ]
  },
  {
   "cell_type": "code",
   "execution_count": 44,
   "id": "81315d85",
   "metadata": {},
   "outputs": [
    {
     "data": {
      "text/latex": [
       "$x \\mapsto \\text{-2.0} - \\text{4.0}\\,x + \\text{7.0}\\,x^{2}\\color{LightGray}{ + \\text{0.0}\\,x^{3}} - \\text{3.0}\\,x^{4}$"
      ],
      "text/plain": [
       "Polynomial([-2., -4.,  7.,  0., -3.], domain=[-1,  1], window=[-1,  1])"
      ]
     },
     "execution_count": 44,
     "metadata": {},
     "output_type": "execute_result"
    }
   ],
   "source": [
    "from numpy.polynomial import Polynomial\n",
    "\n",
    "poly_coeff = [-2, -4, 7, 0, -3]\n",
    "poly = Polynomial(poly_coeff)\n",
    "poly"
   ]
  },
  {
   "cell_type": "code",
   "execution_count": 45,
   "id": "9395084a",
   "metadata": {},
   "outputs": [
    {
     "data": {
      "text/plain": [
       "-194.0"
      ]
     },
     "execution_count": 45,
     "metadata": {},
     "output_type": "execute_result"
    }
   ],
   "source": [
    "poly(3)"
   ]
  },
  {
   "cell_type": "code",
   "execution_count": 46,
   "id": "e1f1d2d7",
   "metadata": {},
   "outputs": [
    {
     "name": "stdout",
     "output_type": "stream",
     "text": [
      "-2.0 - 4.0·x¹ + 7.0·x² + 0.0·x³ - 3.0·x⁴\n"
     ]
    }
   ],
   "source": [
    "print(poly)"
   ]
  },
  {
   "cell_type": "code",
   "execution_count": 47,
   "id": "950108dd",
   "metadata": {},
   "outputs": [
    {
     "data": {
      "text/latex": [
       "$x \\mapsto \\text{1.0} + \\text{1.0}\\,x$"
      ],
      "text/plain": [
       "Polynomial([1., 1.], domain=[-1,  1], window=[-1,  1])"
      ]
     },
     "execution_count": 47,
     "metadata": {},
     "output_type": "execute_result"
    }
   ],
   "source": [
    "poly1 = Polynomial([1, 1])\n",
    "poly1"
   ]
  },
  {
   "cell_type": "code",
   "execution_count": 48,
   "id": "7bd8ce7c",
   "metadata": {},
   "outputs": [
    {
     "data": {
      "text/latex": [
       "$x \\mapsto \\text{1.0} - \\text{1.0}\\,x$"
      ],
      "text/plain": [
       "Polynomial([ 1., -1.], domain=[-1,  1], window=[-1,  1])"
      ]
     },
     "execution_count": 48,
     "metadata": {},
     "output_type": "execute_result"
    }
   ],
   "source": [
    "poly2 = Polynomial([1, -1])\n",
    "poly2"
   ]
  },
  {
   "cell_type": "code",
   "execution_count": 49,
   "id": "711d0e53",
   "metadata": {},
   "outputs": [
    {
     "data": {
      "text/latex": [
       "$x \\mapsto \\text{1.0}\\color{LightGray}{ + \\text{0.0}\\,x} - \\text{1.0}\\,x^{2}$"
      ],
      "text/plain": [
       "Polynomial([ 1.,  0., -1.], domain=[-1.,  1.], window=[-1.,  1.])"
      ]
     },
     "execution_count": 49,
     "metadata": {},
     "output_type": "execute_result"
    }
   ],
   "source": [
    "poly1 * poly2"
   ]
  },
  {
   "cell_type": "code",
   "execution_count": 50,
   "id": "431c00eb",
   "metadata": {},
   "outputs": [],
   "source": [
    "# help(Polynomial)"
   ]
  }
 ],
 "metadata": {
  "kernelspec": {
   "display_name": "Python 3",
   "language": "python",
   "name": "python3"
  },
  "language_info": {
   "codemirror_mode": {
    "name": "ipython",
    "version": 3
   },
   "file_extension": ".py",
   "mimetype": "text/x-python",
   "name": "python",
   "nbconvert_exporter": "python",
   "pygments_lexer": "ipython3",
   "version": "3.7.7"
  }
 },
 "nbformat": 4,
 "nbformat_minor": 5
}
