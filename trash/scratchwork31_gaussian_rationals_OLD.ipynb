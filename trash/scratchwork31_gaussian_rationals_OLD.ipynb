{
 "cells": [
  {
   "cell_type": "markdown",
   "id": "1def3528",
   "metadata": {},
   "source": [
    "# Gaussian Rationals"
   ]
  },
  {
   "cell_type": "code",
   "execution_count": 1,
   "id": "63abefd8",
   "metadata": {},
   "outputs": [],
   "source": [
    "from gaussian_integers import Gint\n",
    "from fractions import Fraction\n",
    "from gaussian_rationals import Grat"
   ]
  },
  {
   "cell_type": "markdown",
   "id": "a88d9448",
   "metadata": {},
   "source": [
    "## References"
   ]
  },
  {
   "cell_type": "markdown",
   "id": "a3dd41ef",
   "metadata": {},
   "source": [
    "* [Python fractions](https://docs.python.org/3/library/fractions.html)"
   ]
  },
  {
   "cell_type": "markdown",
   "id": "55476da2",
   "metadata": {},
   "source": [
    "## The Grat Clas"
   ]
  },
  {
   "cell_type": "markdown",
   "id": "b3975dcd",
   "metadata": {},
   "source": []
  },
  {
   "cell_type": "markdown",
   "id": "9f5e7172",
   "metadata": {},
   "source": [
    "## Creating Grats"
   ]
  },
  {
   "cell_type": "code",
   "execution_count": 32,
   "id": "1b34e40c",
   "metadata": {},
   "outputs": [
    {
     "data": {
      "text/plain": [
       "Grat(Fraction(1, 2), Fraction(3, 5))"
      ]
     },
     "execution_count": 32,
     "metadata": {},
     "output_type": "execute_result"
    }
   ],
   "source": [
    "a = Grat(Fraction(\"1/2\"), Fraction(\"3/5\"))\n",
    "a"
   ]
  },
  {
   "cell_type": "code",
   "execution_count": 34,
   "id": "79047890",
   "metadata": {},
   "outputs": [
    {
     "data": {
      "text/plain": [
       "Grat(Fraction(2, 3), Fraction(1, 7))"
      ]
     },
     "execution_count": 34,
     "metadata": {},
     "output_type": "execute_result"
    }
   ],
   "source": [
    "b = Grat(Fraction(\"2/3\"), Fraction(\"1/7\"))\n",
    "b"
   ]
  },
  {
   "cell_type": "markdown",
   "id": "2753d03d",
   "metadata": {},
   "source": [
    "## Printing Grats"
   ]
  },
  {
   "cell_type": "code",
   "execution_count": 35,
   "id": "73813222",
   "metadata": {},
   "outputs": [
    {
     "name": "stdout",
     "output_type": "stream",
     "text": [
      "(1/2+3/5j)\n",
      "(2/3+1/7j)\n"
     ]
    }
   ],
   "source": [
    "print(a)\n",
    "print(b)"
   ]
  },
  {
   "cell_type": "markdown",
   "id": "30e9f290",
   "metadata": {},
   "source": [
    "## Grat Arithmetic"
   ]
  },
  {
   "cell_type": "markdown",
   "id": "8d014792",
   "metadata": {},
   "source": [
    "### Addition"
   ]
  },
  {
   "cell_type": "code",
   "execution_count": 37,
   "id": "0e0f7b7b",
   "metadata": {},
   "outputs": [
    {
     "name": "stdout",
     "output_type": "stream",
     "text": [
      "(7/6+26/35j)\n"
     ]
    }
   ],
   "source": [
    "print(a + b)"
   ]
  },
  {
   "cell_type": "markdown",
   "id": "0344bebd",
   "metadata": {},
   "source": [
    "### Subtraction"
   ]
  },
  {
   "cell_type": "code",
   "execution_count": 39,
   "id": "ee7c771e",
   "metadata": {},
   "outputs": [
    {
     "name": "stdout",
     "output_type": "stream",
     "text": [
      "(-1/6+16/35j)\n"
     ]
    }
   ],
   "source": [
    "print(a - b)"
   ]
  },
  {
   "cell_type": "markdown",
   "id": "cc759e17",
   "metadata": {},
   "source": [
    "### Multiplication"
   ]
  },
  {
   "cell_type": "code",
   "execution_count": 40,
   "id": "3d96fc0d",
   "metadata": {},
   "outputs": [
    {
     "name": "stdout",
     "output_type": "stream",
     "text": [
      "(26/105+33/70j)\n"
     ]
    }
   ],
   "source": [
    "print(a * b)"
   ]
  },
  {
   "cell_type": "markdown",
   "id": "407293c7",
   "metadata": {},
   "source": [
    "### Inverses"
   ]
  },
  {
   "cell_type": "code",
   "execution_count": 43,
   "id": "ab81b438",
   "metadata": {},
   "outputs": [
    {
     "name": "stdout",
     "output_type": "stream",
     "text": [
      "(50/61-60/61j)\n"
     ]
    }
   ],
   "source": [
    "print(a.inv)"
   ]
  },
  {
   "cell_type": "code",
   "execution_count": 44,
   "id": "4b0cfae2",
   "metadata": {},
   "outputs": [
    {
     "name": "stdout",
     "output_type": "stream",
     "text": [
      "(1+0j)\n"
     ]
    }
   ],
   "source": [
    "print(a * a.inv)"
   ]
  },
  {
   "cell_type": "markdown",
   "id": "ae32b894",
   "metadata": {},
   "source": [
    "### Division"
   ]
  },
  {
   "cell_type": "code",
   "execution_count": 48,
   "id": "002d807b",
   "metadata": {},
   "outputs": [
    {
     "name": "stdout",
     "output_type": "stream",
     "text": [
      "(1/2+3/5j)\n",
      "(2/3+1/7j)\n",
      "(924/1025+1449/2050j)\n"
     ]
    }
   ],
   "source": [
    "print(a)\n",
    "print(b)\n",
    "print(a / b)"
   ]
  },
  {
   "cell_type": "code",
   "execution_count": 49,
   "id": "678e8926",
   "metadata": {},
   "outputs": [
    {
     "name": "stdout",
     "output_type": "stream",
     "text": [
      "(294/205-63/205j)\n",
      "(924/1025+1449/2050j)\n"
     ]
    }
   ],
   "source": [
    "print(b.inv)\n",
    "print(a * b.inv)"
   ]
  },
  {
   "cell_type": "code",
   "execution_count": 11,
   "id": "76e122e8",
   "metadata": {},
   "outputs": [
    {
     "name": "stdout",
     "output_type": "stream",
     "text": [
      "(1/2+3/5j) / (2/3+1/7j) -> (924/1025+1449/2050j)\n"
     ]
    }
   ],
   "source": [
    "print(f\"{foo} / {bar} -> {foo/bar}\")"
   ]
  },
  {
   "cell_type": "markdown",
   "id": "34512aa5",
   "metadata": {},
   "source": [
    "### Powers"
   ]
  },
  {
   "cell_type": "code",
   "execution_count": 73,
   "id": "5f92f281",
   "metadata": {},
   "outputs": [
    {
     "name": "stdout",
     "output_type": "stream",
     "text": [
      "(-83/200+117/500j)\n"
     ]
    }
   ],
   "source": [
    "print(foo**3)"
   ]
  },
  {
   "cell_type": "code",
   "execution_count": 74,
   "id": "4b1efc3e",
   "metadata": {},
   "outputs": [
    {
     "name": "stdout",
     "output_type": "stream",
     "text": [
      "(-83/200+117/500j)\n"
     ]
    }
   ],
   "source": [
    "print(foo * foo * foo)"
   ]
  },
  {
   "cell_type": "markdown",
   "id": "d750b9da",
   "metadata": {},
   "source": [
    "### Conjugation & Norms"
   ]
  },
  {
   "cell_type": "code",
   "execution_count": 75,
   "id": "76a9b456",
   "metadata": {
    "scrolled": true
   },
   "outputs": [
    {
     "name": "stdout",
     "output_type": "stream",
     "text": [
      "(1/2-3/5j)\n"
     ]
    }
   ],
   "source": [
    "print(a.conj)"
   ]
  },
  {
   "cell_type": "code",
   "execution_count": 76,
   "id": "2a4bc8ad",
   "metadata": {},
   "outputs": [
    {
     "name": "stdout",
     "output_type": "stream",
     "text": [
      "61/100\n"
     ]
    }
   ],
   "source": [
    "print(a.norm)"
   ]
  },
  {
   "cell_type": "markdown",
   "id": "45f725f4",
   "metadata": {},
   "source": [
    "### Negation"
   ]
  },
  {
   "cell_type": "code",
   "execution_count": 77,
   "id": "edd90298",
   "metadata": {},
   "outputs": [
    {
     "name": "stdout",
     "output_type": "stream",
     "text": [
      "(1/2+3/5j)\n",
      "(-1/2-3/5j)\n"
     ]
    }
   ],
   "source": [
    "print(a)\n",
    "print(-a)"
   ]
  },
  {
   "cell_type": "markdown",
   "id": "6f5a0f8b",
   "metadata": {},
   "source": [
    "## Equality & Inequality"
   ]
  },
  {
   "cell_type": "code",
   "execution_count": 80,
   "id": "10e4fbf7",
   "metadata": {},
   "outputs": [],
   "source": [
    "# TBD"
   ]
  },
  {
   "cell_type": "markdown",
   "id": "cee93bd5",
   "metadata": {},
   "source": [
    "## Associates"
   ]
  },
  {
   "cell_type": "code",
   "execution_count": 79,
   "id": "3bac199a",
   "metadata": {},
   "outputs": [],
   "source": [
    "# not implemented yet"
   ]
  },
  {
   "cell_type": "markdown",
   "id": "fad70ef4",
   "metadata": {},
   "source": [
    "## Units"
   ]
  },
  {
   "cell_type": "code",
   "execution_count": 56,
   "id": "ef9e50b2",
   "metadata": {},
   "outputs": [],
   "source": [
    "# not implemented yet"
   ]
  },
  {
   "cell_type": "markdown",
   "id": "a0b83f31",
   "metadata": {},
   "source": [
    "## Conversion to Complex Type"
   ]
  },
  {
   "cell_type": "code",
   "execution_count": 60,
   "id": "49d709ea",
   "metadata": {},
   "outputs": [
    {
     "name": "stdout",
     "output_type": "stream",
     "text": [
      "(0.9014634146341464+0.7068292682926829j)\n",
      "(0.9014634146341464+0.7068292682926829j)\n"
     ]
    }
   ],
   "source": [
    "print(complex(a) / complex(b))\n",
    "print(complex(a/b))"
   ]
  },
  {
   "cell_type": "markdown",
   "id": "955b7a5d",
   "metadata": {},
   "source": [
    "## Grat from Gints"
   ]
  },
  {
   "cell_type": "markdown",
   "id": "21828753",
   "metadata": {},
   "source": [
    "When two Gaussian integers, $\\alpha, \\beta \\in \\mathbb{Z}[i]$ are input to the Gaussian rational, $\\mathbb{Q}[i]$, constructor, as shown below, they are interpreted as **numerator** and **denominator**, respectively, **NOT** as real and imaginary parts. A Gaussian rational is returned.\n",
    "\n",
    "That is, if $\\alpha, \\beta \\in \\mathbb{Z}[i]$, then Grat$(\\alpha, \\beta) \\rightarrow {\\large \\frac{\\alpha}{\\beta}} \\in \\mathbb{Q}[i].$"
   ]
  },
  {
   "cell_type": "code",
   "execution_count": 85,
   "id": "29823d32",
   "metadata": {},
   "outputs": [
    {
     "name": "stdout",
     "output_type": "stream",
     "text": [
      "alpha = (2+6j)\n",
      " beta = (4+5j)\n"
     ]
    }
   ],
   "source": [
    "alpha = Gint(2, 6)\n",
    "beta = Gint(4, 5)\n",
    "print(f\"alpha = {alpha}\")\n",
    "print(f\" beta = {beta}\")"
   ]
  },
  {
   "cell_type": "code",
   "execution_count": 84,
   "id": "8da5a663",
   "metadata": {},
   "outputs": [
    {
     "name": "stdout",
     "output_type": "stream",
     "text": [
      "(38/41+14/41j)\n",
      "(0.926829268292683+0.34146341463414637j)\n",
      "(0.926829268292683+0.3414634146341464j)\n"
     ]
    }
   ],
   "source": [
    "rat = Grat(alpha, beta)\n",
    "\n",
    "print(rat)\n",
    "\n",
    "print(complex(rat))\n",
    "\n",
    "print(alpha / beta)  # TODO: make this return a Grat instead"
   ]
  },
  {
   "cell_type": "markdown",
   "id": "6c334c55",
   "metadata": {},
   "source": [
    "## Examples from Wolfram"
   ]
  },
  {
   "cell_type": "markdown",
   "id": "9e2740b2",
   "metadata": {},
   "source": [
    "* [Irreducible fractions](https://mathworld.wolfram.com/IrreducibleFraction.html) - Wolfram"
   ]
  },
  {
   "cell_type": "markdown",
   "id": "03967434",
   "metadata": {},
   "source": [
    "**Example 1**"
   ]
  },
  {
   "cell_type": "code",
   "execution_count": 21,
   "id": "6ebb61e6",
   "metadata": {},
   "outputs": [],
   "source": [
    "from gaussian_integers import gcd, xgcd, mod_divmod"
   ]
  },
  {
   "cell_type": "code",
   "execution_count": 22,
   "id": "9e38e9a5",
   "metadata": {},
   "outputs": [],
   "source": [
    "a = Gint(4, 7)\n",
    "b = Gint(2, 1)"
   ]
  },
  {
   "cell_type": "code",
   "execution_count": 23,
   "id": "2f8aec06",
   "metadata": {},
   "outputs": [
    {
     "name": "stdout",
     "output_type": "stream",
     "text": [
      "a = (4+7j)\n",
      "b = (2+1j)\n",
      "gcd((4+7j), (2+1j)) = (2+1j)\n",
      "(4+7j) = (2+1j) * (3+2j) + 0j\n",
      "(3+2j)\n",
      "(3+2j)\n"
     ]
    }
   ],
   "source": [
    "print(f\"a = {a}\\nb = {b}\")\n",
    "\n",
    "g = gcd(a, b)\n",
    "print(f\"gcd({a}, {b}) = {gcd(a, b)}\")\n",
    "\n",
    "q, r = mod_divmod(a, b)\n",
    "print(f\"{a} = {b} * {q} + {r}\")\n",
    "\n",
    "print(a / b)\n",
    "print(Grat(a, b))"
   ]
  },
  {
   "cell_type": "markdown",
   "id": "78da68fe",
   "metadata": {},
   "source": [
    "**Example 2**"
   ]
  },
  {
   "cell_type": "code",
   "execution_count": 24,
   "id": "38a66f3e",
   "metadata": {},
   "outputs": [],
   "source": [
    "a = Gint(5, 5)\n",
    "b = Gint(7, 1)"
   ]
  },
  {
   "cell_type": "code",
   "execution_count": 25,
   "id": "d33e52d1",
   "metadata": {},
   "outputs": [
    {
     "name": "stdout",
     "output_type": "stream",
     "text": [
      "a = (5+5j)\n",
      "b = (7+1j)\n",
      "gcd((5+5j), (7+1j)) = (-1-3j)\n",
      "(5+5j) = (7+1j) * (1+1j) + (-1-3j)\n",
      "(0.7999999999999999+0.6j)\n",
      "(4/5+3/5j)\n"
     ]
    }
   ],
   "source": [
    "print(f\"a = {a}\\nb = {b}\")\n",
    "\n",
    "g = gcd(a, b)\n",
    "print(f\"gcd({a}, {b}) = {gcd(a, b)}\")\n",
    "\n",
    "q, r = mod_divmod(a, b)\n",
    "print(f\"{a} = {b} * {q} + {r}\")\n",
    "\n",
    "print(a / b)\n",
    "print(Grat(a, b))"
   ]
  },
  {
   "cell_type": "code",
   "execution_count": null,
   "id": "72120d54",
   "metadata": {},
   "outputs": [],
   "source": []
  }
 ],
 "metadata": {
  "kernelspec": {
   "display_name": "Python 3 (ipykernel)",
   "language": "python",
   "name": "python3"
  },
  "language_info": {
   "codemirror_mode": {
    "name": "ipython",
    "version": 3
   },
   "file_extension": ".py",
   "mimetype": "text/x-python",
   "name": "python",
   "nbconvert_exporter": "python",
   "pygments_lexer": "ipython3",
   "version": "3.11.5"
  }
 },
 "nbformat": 4,
 "nbformat_minor": 5
}
