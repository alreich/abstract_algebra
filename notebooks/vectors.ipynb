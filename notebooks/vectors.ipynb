{
 "cells": [
  {
   "cell_type": "markdown",
   "id": "f8669db4",
   "metadata": {},
   "source": [
    "# Vector Spaces & Modules"
   ]
  },
  {
   "cell_type": "markdown",
   "id": "ab6fec29",
   "metadata": {},
   "source": [
    "Vector Spaces and Modules can be implemented using Finite Algebra components, such as Groups, Rings, and Fields. See the previous section, \"Definitions\", for definitions of these algebraic structures."
   ]
  },
  {
   "cell_type": "markdown",
   "id": "a19f3910",
   "metadata": {},
   "source": [
    "## Internal Representation of Vector Spaces & Modules\n",
    "\n",
    "Internally, a ``FiniteAlgebra`` can take several different forms.  For algebras that have more than one set of elements and multiple binary operations, such as Vector Spaces and Modules, the internal representation is as shown below. These five elements must be input to the function, ``make_finite_algebra``, in the order shown, to construct a Module or VectorSpace.\n",
    "\n",
    "* **name**: (``str``) A short name for the algebra;\n",
    "* **description**: (``str``) Any additional, useful information about the algebra;\n",
    "* **scalars**: A ``Ring`` or a ``Field``. The Ring or Field elements are called *scalars* and the scalar addition and multiplication operations are those of the Ring or Field;\n",
    "* **vectors**: An abelian ``Group``. Its elements are *vectors* and its operation is *vector addition*;\n",
    "* **sv_op**: A scalar-vector binary operation, $\\circ : S \\times V \\to V$, for \"scaling vectors\"\n",
    "\n",
    "If the scalars are a Field, then ``make_finite_algebra`` will construct a VectorSpace. Otherwise, if the scalars are a Ring, then a Module will be constructed."
   ]
  },
  {
   "cell_type": "markdown",
   "id": "10cb44b4",
   "metadata": {},
   "source": [
    "## Example: N-Dimensional Vector Space"
   ]
  },
  {
   "cell_type": "markdown",
   "id": "475d0739",
   "metadata": {},
   "source": [
    "$\\mathbb{R}^n$ is a classic, and very useful, type of Vector Space.  The scalar field of $\\mathbb{R}^n$ is $\\mathbb{R}$ itself, and the abelian group of $\\mathbb{R}^n$ is the direct product, $\\mathbb{G} = \\mathbb{R} \\times \\dots \\times \\mathbb{R} \\equiv \\times^n \\mathbb{R}$, where the group operation is component-wise addition in $\\mathbb{R}$.\n",
    "\n",
    "The *functionality* of the ``finite_algebra`` module allows for the construction of a similar, n-dimensional, finite VectorSpace or Module using the function, ``generate_n_dim_module``.  Only two inputs are required: a Field (or Ring) and a positive integer (i.e., the number of dimensions).\n",
    "\n",
    "This will be demonstrated using the following [\"field with 4 elements\" (see Wikipedia)](https://en.wikipedia.org/wiki/Finite_field#Field_with_four_elements):"
   ]
  },
  {
   "cell_type": "code",
   "execution_count": 1,
   "id": "acfa44e9",
   "metadata": {},
   "outputs": [],
   "source": [
    ">>> from finite_algebras import make_finite_algebra, generate_n_dim_module"
   ]
  },
  {
   "cell_type": "code",
   "execution_count": 2,
   "id": "5ffb19c5",
   "metadata": {},
   "outputs": [
    {
     "data": {
      "text/plain": [
       "Field(\n",
       "'F4',\n",
       "'Field with 4 elements (from Wikipedia)',\n",
       "['0', '1', 'a', '1+a'],\n",
       "[[0, 1, 2, 3], [1, 0, 3, 2], [2, 3, 0, 1], [3, 2, 1, 0]],\n",
       "[[0, 0, 0, 0], [0, 1, 2, 3], [0, 2, 3, 1], [0, 3, 1, 2]]\n",
       ")"
      ]
     },
     "execution_count": 2,
     "metadata": {},
     "output_type": "execute_result"
    }
   ],
   "source": [
    ">>> f4 = make_finite_algebra('F4',\n",
    "                             'Field with 4 elements (from Wikipedia)',\n",
    "                             ['0', '1', 'a', '1+a'],\n",
    "                             [['0', '1', 'a', '1+a'],\n",
    "                              ['1', '0', '1+a', 'a'],\n",
    "                              ['a', '1+a', '0', '1'],\n",
    "                              ['1+a', 'a', '1', '0']],\n",
    "                             [['0', '0', '0', '0'],\n",
    "                              ['0', '1', 'a', '1+a'],\n",
    "                              ['0', 'a', '1+a', '1'],\n",
    "                              ['0', '1+a', '1', 'a']]\n",
    "                            )\n",
    "\n",
    ">>> f4"
   ]
  },
  {
   "cell_type": "markdown",
   "id": "edf9c1ba",
   "metadata": {},
   "source": [
    "f4 is used, below, to create a finite, 2-dimensional VectorSpace."
   ]
  },
  {
   "cell_type": "code",
   "execution_count": 3,
   "id": "4b99718b",
   "metadata": {},
   "outputs": [
    {
     "data": {
      "text/plain": [
       "<VectorSpace:VS2-F4, ID:140370278737360, Scalars:F4, Vectors:F4_x_F4>"
      ]
     },
     "execution_count": 3,
     "metadata": {},
     "output_type": "execute_result"
    }
   ],
   "source": [
    "vs4 = generate_n_dim_module(f4, 2)\n",
    "vs4"
   ]
  },
  {
   "cell_type": "code",
   "execution_count": 4,
   "id": "3576794c",
   "metadata": {},
   "outputs": [
    {
     "name": "stdout",
     "output_type": "stream",
     "text": [
      "\n",
      "VectorSpace: VS2-F4\n",
      "Instance ID: 140370278737360\n",
      "Description: 2-dimensional Vector Space over <Field:F4, ID:140370278738512>\n",
      "Order: 4\n",
      "\n",
      "SCALARS:\n",
      "\n",
      "** Field **\n",
      "Name: F4\n",
      "Instance ID: 140370278738512\n",
      "Description: Field with 4 elements (from Wikipedia)\n",
      "Order: 4\n",
      "Identity: 0\n",
      "Associative? Yes\n",
      "Commutative? Yes\n",
      "Cyclic?: Yes\n",
      "  Generators: ['1+a', 'a']\n",
      "Elements:\n",
      "   Index   Name   Inverse  Order\n",
      "      0       0       0       1\n",
      "      1       1       1       2\n",
      "      2       a       a       2\n",
      "      3     1+a     1+a       2\n",
      "Cayley Table (showing indices):\n",
      "[[0, 1, 2, 3], [1, 0, 3, 2], [2, 3, 0, 1], [3, 2, 1, 0]]\n",
      "Mult. Identity: 1\n",
      "Mult. Commutative? Yes\n",
      "Zero Divisors: None\n",
      "Multiplicative Cayley Table (showing indices):\n",
      "[[0, 0, 0, 0], [0, 1, 2, 3], [0, 2, 3, 1], [0, 3, 1, 2]]\n",
      "\n",
      "VECTORS:\n",
      "\n",
      "** Group **\n",
      "Name: F4_x_F4\n",
      "Instance ID: 140370278737168\n",
      "Description: Direct product of F4 & F4\n",
      "Order: 16\n",
      "Identity: 0:0\n",
      "Associative? Yes\n",
      "Commutative? Yes\n",
      "Cyclic?: No\n",
      "Elements:\n",
      "   Index   Name   Inverse  Order\n",
      "      0     0:0     0:0       1\n",
      "      1     0:1     0:1       2\n",
      "      2     0:a     0:a       2\n",
      "      3   0:1+a   0:1+a       2\n",
      "      4     1:0     1:0       2\n",
      "      5     1:1     1:1       2\n",
      "      6     1:a     1:a       2\n",
      "      7   1:1+a   1:1+a       2\n",
      "      8     a:0     a:0       2\n",
      "      9     a:1     a:1       2\n",
      "     10     a:a     a:a       2\n",
      "     11   a:1+a   a:1+a       2\n",
      "     12   1+a:0   1+a:0       2\n",
      "     13   1+a:1   1+a:1       2\n",
      "     14   1+a:a   1+a:a       2\n",
      "     15 1+a:1+a 1+a:1+a       2\n",
      "Cayley Table (showing indices):\n",
      "[[0, 1, 2, 3, 4, 5, 6, 7, 8, 9, 10, 11, 12, 13, 14, 15],\n",
      " [1, 0, 3, 2, 5, 4, 7, 6, 9, 8, 11, 10, 13, 12, 15, 14],\n",
      " [2, 3, 0, 1, 6, 7, 4, 5, 10, 11, 8, 9, 14, 15, 12, 13],\n",
      " [3, 2, 1, 0, 7, 6, 5, 4, 11, 10, 9, 8, 15, 14, 13, 12],\n",
      " [4, 5, 6, 7, 0, 1, 2, 3, 12, 13, 14, 15, 8, 9, 10, 11],\n",
      " [5, 4, 7, 6, 1, 0, 3, 2, 13, 12, 15, 14, 9, 8, 11, 10],\n",
      " [6, 7, 4, 5, 2, 3, 0, 1, 14, 15, 12, 13, 10, 11, 8, 9],\n",
      " [7, 6, 5, 4, 3, 2, 1, 0, 15, 14, 13, 12, 11, 10, 9, 8],\n",
      " [8, 9, 10, 11, 12, 13, 14, 15, 0, 1, 2, 3, 4, 5, 6, 7],\n",
      " [9, 8, 11, 10, 13, 12, 15, 14, 1, 0, 3, 2, 5, 4, 7, 6],\n",
      " [10, 11, 8, 9, 14, 15, 12, 13, 2, 3, 0, 1, 6, 7, 4, 5],\n",
      " [11, 10, 9, 8, 15, 14, 13, 12, 3, 2, 1, 0, 7, 6, 5, 4],\n",
      " [12, 13, 14, 15, 8, 9, 10, 11, 4, 5, 6, 7, 0, 1, 2, 3],\n",
      " [13, 12, 15, 14, 9, 8, 11, 10, 5, 4, 7, 6, 1, 0, 3, 2],\n",
      " [14, 15, 12, 13, 10, 11, 8, 9, 6, 7, 4, 5, 2, 3, 0, 1],\n",
      " [15, 14, 13, 12, 11, 10, 9, 8, 7, 6, 5, 4, 3, 2, 1, 0]]\n"
     ]
    }
   ],
   "source": [
    "vs4.about(max_size=16)"
   ]
  },
  {
   "cell_type": "markdown",
   "id": "3f8ff661",
   "metadata": {},
   "source": [
    "The scalar and vector elements can be obtained as follows:"
   ]
  },
  {
   "cell_type": "code",
   "execution_count": 5,
   "id": "2121e0a2",
   "metadata": {},
   "outputs": [
    {
     "data": {
      "text/plain": [
       "['0', '1', 'a', '1+a']"
      ]
     },
     "execution_count": 5,
     "metadata": {},
     "output_type": "execute_result"
    }
   ],
   "source": [
    ">>> vs4.scalar.elements"
   ]
  },
  {
   "cell_type": "code",
   "execution_count": 6,
   "id": "efd86f0b",
   "metadata": {},
   "outputs": [
    {
     "data": {
      "text/plain": [
       "['0:0',\n",
       " '0:1',\n",
       " '0:a',\n",
       " '0:1+a',\n",
       " '1:0',\n",
       " '1:1',\n",
       " '1:a',\n",
       " '1:1+a',\n",
       " 'a:0',\n",
       " 'a:1',\n",
       " 'a:a',\n",
       " 'a:1+a',\n",
       " '1+a:0',\n",
       " '1+a:1',\n",
       " '1+a:a',\n",
       " '1+a:1+a']"
      ]
     },
     "execution_count": 6,
     "metadata": {},
     "output_type": "execute_result"
    }
   ],
   "source": [
    ">>> vs4.vector.elements"
   ]
  },
  {
   "cell_type": "markdown",
   "id": "b704f133",
   "metadata": {},
   "source": [
    "Scalar addition and multiplication is just the addition and multiplication operations of the Field (Scalars) used to create the Vector Space (or Module)"
   ]
  },
  {
   "cell_type": "code",
   "execution_count": 7,
   "id": "c72691e5",
   "metadata": {},
   "outputs": [
    {
     "data": {
      "text/plain": [
       "'1+a'"
      ]
     },
     "execution_count": 7,
     "metadata": {},
     "output_type": "execute_result"
    }
   ],
   "source": [
    ">>> vs4.scalar.add('1', 'a')"
   ]
  },
  {
   "cell_type": "code",
   "execution_count": 8,
   "id": "ea348203",
   "metadata": {},
   "outputs": [
    {
     "data": {
      "text/plain": [
       "'1+a'"
      ]
     },
     "execution_count": 8,
     "metadata": {},
     "output_type": "execute_result"
    }
   ],
   "source": [
    ">>> vs4.scalar.mult('a', 'a')"
   ]
  },
  {
   "cell_type": "markdown",
   "id": "ca7375a8",
   "metadata": {},
   "source": [
    "Vector addition is just the binary operation of the Group (Vectors) used to create the Vector Space (or Module)"
   ]
  },
  {
   "cell_type": "code",
   "execution_count": 9,
   "id": "99eb6f89",
   "metadata": {},
   "outputs": [
    {
     "data": {
      "text/plain": [
       "'a:1+a'"
      ]
     },
     "execution_count": 9,
     "metadata": {},
     "output_type": "execute_result"
    }
   ],
   "source": [
    ">>> vs4.vector_add('1+a:1', '1:a')  # Same as vs4.vector.op('1+a:1', '1:a')"
   ]
  },
  {
   "cell_type": "markdown",
   "id": "078aed53",
   "metadata": {},
   "source": [
    "And, since the *scalar* part of a VectorSpace is a Field, we can obtain it's identity elements as follows:"
   ]
  },
  {
   "cell_type": "code",
   "execution_count": 10,
   "id": "3600261f",
   "metadata": {},
   "outputs": [
    {
     "data": {
      "text/plain": [
       "'0'"
      ]
     },
     "execution_count": 10,
     "metadata": {},
     "output_type": "execute_result"
    }
   ],
   "source": [
    ">>> vs4.scalar.zero"
   ]
  },
  {
   "cell_type": "code",
   "execution_count": 11,
   "id": "2b486511",
   "metadata": {},
   "outputs": [
    {
     "data": {
      "text/plain": [
       "'1'"
      ]
     },
     "execution_count": 11,
     "metadata": {},
     "output_type": "execute_result"
    }
   ],
   "source": [
    ">>> vs4.scalar.one"
   ]
  },
  {
   "cell_type": "markdown",
   "id": "61b0f55d",
   "metadata": {},
   "source": [
    "The scalar-vector operation for scaling vectors is called ``sv_op``, and can be used by inputing a scalar and vector, respectively."
   ]
  },
  {
   "cell_type": "code",
   "execution_count": 12,
   "id": "36a63a85",
   "metadata": {},
   "outputs": [
    {
     "data": {
      "text/plain": [
       "'1:a'"
      ]
     },
     "execution_count": 12,
     "metadata": {},
     "output_type": "execute_result"
    }
   ],
   "source": [
    "vs4.sv_op('a', '1+a:1')"
   ]
  },
  {
   "cell_type": "markdown",
   "id": "093acb45",
   "metadata": {},
   "source": [
    "### Scaling by 1"
   ]
  },
  {
   "cell_type": "markdown",
   "id": "40c811e1",
   "metadata": {},
   "source": [
    "If $\\mathscr{1} \\in S$ is the multiplicative identity element of $\\mathscr{F}$, then $\\mathscr{1} \\circ v = v$"
   ]
  },
  {
   "cell_type": "code",
   "execution_count": 23,
   "id": "9ea74f32",
   "metadata": {},
   "outputs": [
    {
     "name": "stdout",
     "output_type": "stream",
     "text": [
      "a:1+a\n"
     ]
    }
   ],
   "source": [
    ">>> print(vs4.sv_op(vs4.scalar.one, 'a:1+a'))"
   ]
  },
  {
   "cell_type": "markdown",
   "id": "0fe75b36",
   "metadata": {},
   "source": [
    "### Distributivity of scalars over vector addition"
   ]
  },
  {
   "cell_type": "markdown",
   "id": "2a6c9919",
   "metadata": {},
   "source": [
    "$s \\circ (v_1 \\oplus v_2) = (s \\circ v_1) \\oplus (s \\circ v_2)$"
   ]
  },
  {
   "cell_type": "code",
   "execution_count": 14,
   "id": "92b06aa3",
   "metadata": {},
   "outputs": [
    {
     "name": "stdout",
     "output_type": "stream",
     "text": [
      "0:1+a\n",
      "0:1+a\n"
     ]
    }
   ],
   "source": [
    ">>> # Example\n",
    ">>> \n",
    ">>> s = 'a'\n",
    ">>> v1 = 'a:1+a'\n",
    ">>> v2 = 'a:1'\n",
    ">>> print(vs4.sv_op(s, vs4.vector_add(v1, v2)))\n",
    ">>> print(vs4.vector_add(vs4.sv_op(s, v1), vs4.sv_op(s, v2)))"
   ]
  },
  {
   "cell_type": "markdown",
   "id": "51d2853d",
   "metadata": {},
   "source": [
    "### Distributivity of vectors over scalar addition"
   ]
  },
  {
   "cell_type": "markdown",
   "id": "43ded1e4",
   "metadata": {},
   "source": [
    "$(s_1 + s_2) \\circ v = (s_1 \\circ v) \\oplus (s_2 \\circ v)$"
   ]
  },
  {
   "cell_type": "code",
   "execution_count": 15,
   "id": "b12f6c04",
   "metadata": {},
   "outputs": [
    {
     "name": "stdout",
     "output_type": "stream",
     "text": [
      "a:1\n",
      "a:1\n"
     ]
    }
   ],
   "source": [
    ">>> # Example\n",
    ">>> \n",
    ">>> s1 = 'a'\n",
    ">>> s2 = '1+a'\n",
    ">>> v = 'a:1'\n",
    ">>> print(vs4.sv_op(vs4.scalar.add(s1, s2), v))\n",
    ">>> print(vs4.vector_add(vs4.sv_op(s1, v), vs4.sv_op(s2, v)))"
   ]
  },
  {
   "cell_type": "markdown",
   "id": "889eb43c",
   "metadata": {},
   "source": [
    "### Associativity"
   ]
  },
  {
   "cell_type": "markdown",
   "id": "5f0f9dd8",
   "metadata": {},
   "source": [
    "$s_1 \\circ (s_2 \\circ v) = (s_1 \\times s_2) \\circ v$"
   ]
  },
  {
   "cell_type": "code",
   "execution_count": 16,
   "id": "c7c64ed9",
   "metadata": {},
   "outputs": [
    {
     "name": "stdout",
     "output_type": "stream",
     "text": [
      "a:1\n",
      "a:1\n"
     ]
    }
   ],
   "source": [
    ">>> # Example\n",
    ">>> \n",
    ">>> s1 = 'a'\n",
    ">>> s2 = '1+a'\n",
    ">>> v = 'a:1'\n",
    ">>> print(vs4.sv_op(s1, vs4.sv_op(s2, v)))\n",
    ">>> print(vs4.sv_op(vs4.scalar.mult(s1, s2), v))"
   ]
  },
  {
   "cell_type": "markdown",
   "id": "263e9f53",
   "metadata": {},
   "source": [
    "## Module based on a Ring"
   ]
  },
  {
   "cell_type": "markdown",
   "id": "dd6c6ca7",
   "metadata": {},
   "source": [
    "Another example, using the technique presented above, but this time with a Ring, instead of a Field."
   ]
  },
  {
   "cell_type": "code",
   "execution_count": 17,
   "id": "962aa428",
   "metadata": {},
   "outputs": [
    {
     "name": "stdout",
     "output_type": "stream",
     "text": [
      "\n",
      "** Ring **\n",
      "Name: PSRing2\n",
      "Instance ID: 140368926602704\n",
      "Description: Autogenerated Ring on powerset of {0, 1} w/ symm. diff. (add) & intersection (mult)\n",
      "Order: 4\n",
      "Identity: {}\n",
      "Associative? Yes\n",
      "Commutative? Yes\n",
      "Cyclic?: No\n",
      "Elements:\n",
      "   Index   Name   Inverse  Order\n",
      "      0      {}      {}       1\n",
      "      1     {0}     {0}       2\n",
      "      2     {1}     {1}       2\n",
      "      3  {0, 1}  {0, 1}       2\n",
      "Cayley Table (showing indices):\n",
      "[[0, 1, 2, 3], [1, 0, 3, 2], [2, 3, 0, 1], [3, 2, 1, 0]]\n",
      "Mult. Identity: {0, 1}\n",
      "Mult. Commutative? Yes\n",
      "Zero Divisors: ['{0}', '{1}']\n",
      "Multiplicative Cayley Table (showing indices):\n",
      "[[0, 0, 0, 0], [0, 1, 0, 1], [0, 0, 2, 2], [0, 1, 2, 3]]\n"
     ]
    }
   ],
   "source": [
    ">>> from finite_algebras import generate_powerset_ring\n",
    ">>> psr2 = generate_powerset_ring(2)\n",
    ">>> psr2.about()"
   ]
  },
  {
   "cell_type": "code",
   "execution_count": 18,
   "id": "0c623a92",
   "metadata": {},
   "outputs": [
    {
     "name": "stdout",
     "output_type": "stream",
     "text": [
      "\n",
      "Module: Mod2-PSRing2\n",
      "Instance ID: 140370278863248\n",
      "Description: 2-dimensional Module over <Ring:PSRing2, ID:140368926602704>\n",
      "Order: 4\n",
      "\n",
      "SCALARS:\n",
      "\n",
      "** Ring **\n",
      "Name: PSRing2\n",
      "Instance ID: 140368926602704\n",
      "Description: Autogenerated Ring on powerset of {0, 1} w/ symm. diff. (add) & intersection (mult)\n",
      "Order: 4\n",
      "Identity: {}\n",
      "Associative? Yes\n",
      "Commutative? Yes\n",
      "Cyclic?: No\n",
      "Elements:\n",
      "   Index   Name   Inverse  Order\n",
      "      0      {}      {}       1\n",
      "      1     {0}     {0}       2\n",
      "      2     {1}     {1}       2\n",
      "      3  {0, 1}  {0, 1}       2\n",
      "Cayley Table (showing indices):\n",
      "[[0, 1, 2, 3], [1, 0, 3, 2], [2, 3, 0, 1], [3, 2, 1, 0]]\n",
      "Mult. Identity: {0, 1}\n",
      "Mult. Commutative? Yes\n",
      "Zero Divisors: ['{0}', '{1}']\n",
      "Multiplicative Cayley Table (showing indices):\n",
      "[[0, 0, 0, 0], [0, 1, 0, 1], [0, 0, 2, 2], [0, 1, 2, 3]]\n",
      "\n",
      "VECTORS:\n",
      "\n",
      "** Group **\n",
      "Name: PSRing2_x_PSRing2\n",
      "Instance ID: 140370278866384\n",
      "Description: Direct product of PSRing2 & PSRing2\n",
      "Order: 16\n",
      "Identity: {}:{}\n",
      "Associative? Yes\n",
      "Commutative? Yes\n",
      "Cyclic?: No\n",
      "Elements:\n",
      "   Index   Name   Inverse  Order\n",
      "      0   {}:{}   {}:{}       1\n",
      "      1  {}:{0}  {}:{0}       2\n",
      "      2  {}:{1}  {}:{1}       2\n",
      "      3 {}:{0, 1} {}:{0, 1}       2\n",
      "      4  {0}:{}  {0}:{}       2\n",
      "      5 {0}:{0} {0}:{0}       2\n",
      "      6 {0}:{1} {0}:{1}       2\n",
      "      7 {0}:{0, 1} {0}:{0, 1}       2\n",
      "      8  {1}:{}  {1}:{}       2\n",
      "      9 {1}:{0} {1}:{0}       2\n",
      "     10 {1}:{1} {1}:{1}       2\n",
      "     11 {1}:{0, 1} {1}:{0, 1}       2\n",
      "     12 {0, 1}:{} {0, 1}:{}       2\n",
      "     13 {0, 1}:{0} {0, 1}:{0}       2\n",
      "     14 {0, 1}:{1} {0, 1}:{1}       2\n",
      "     15 {0, 1}:{0, 1} {0, 1}:{0, 1}       2\n",
      "Cayley Table (showing indices):\n",
      "[[0, 1, 2, 3, 4, 5, 6, 7, 8, 9, 10, 11, 12, 13, 14, 15],\n",
      " [1, 0, 3, 2, 5, 4, 7, 6, 9, 8, 11, 10, 13, 12, 15, 14],\n",
      " [2, 3, 0, 1, 6, 7, 4, 5, 10, 11, 8, 9, 14, 15, 12, 13],\n",
      " [3, 2, 1, 0, 7, 6, 5, 4, 11, 10, 9, 8, 15, 14, 13, 12],\n",
      " [4, 5, 6, 7, 0, 1, 2, 3, 12, 13, 14, 15, 8, 9, 10, 11],\n",
      " [5, 4, 7, 6, 1, 0, 3, 2, 13, 12, 15, 14, 9, 8, 11, 10],\n",
      " [6, 7, 4, 5, 2, 3, 0, 1, 14, 15, 12, 13, 10, 11, 8, 9],\n",
      " [7, 6, 5, 4, 3, 2, 1, 0, 15, 14, 13, 12, 11, 10, 9, 8],\n",
      " [8, 9, 10, 11, 12, 13, 14, 15, 0, 1, 2, 3, 4, 5, 6, 7],\n",
      " [9, 8, 11, 10, 13, 12, 15, 14, 1, 0, 3, 2, 5, 4, 7, 6],\n",
      " [10, 11, 8, 9, 14, 15, 12, 13, 2, 3, 0, 1, 6, 7, 4, 5],\n",
      " [11, 10, 9, 8, 15, 14, 13, 12, 3, 2, 1, 0, 7, 6, 5, 4],\n",
      " [12, 13, 14, 15, 8, 9, 10, 11, 4, 5, 6, 7, 0, 1, 2, 3],\n",
      " [13, 12, 15, 14, 9, 8, 11, 10, 5, 4, 7, 6, 1, 0, 3, 2],\n",
      " [14, 15, 12, 13, 10, 11, 8, 9, 6, 7, 4, 5, 2, 3, 0, 1],\n",
      " [15, 14, 13, 12, 11, 10, 9, 8, 7, 6, 5, 4, 3, 2, 1, 0]]\n"
     ]
    }
   ],
   "source": [
    ">>> psr_mod = generate_n_dim_module(psr2, 2)\n",
    ">>> psr_mod.about(max_size=16)"
   ]
  }
 ],
 "metadata": {
  "kernelspec": {
   "display_name": "Python 3",
   "language": "python",
   "name": "python3"
  },
  "language_info": {
   "codemirror_mode": {
    "name": "ipython",
    "version": 3
   },
   "file_extension": ".py",
   "mimetype": "text/x-python",
   "name": "python",
   "nbconvert_exporter": "python",
   "pygments_lexer": "ipython3",
   "version": "3.7.7"
  }
 },
 "nbformat": 4,
 "nbformat_minor": 5
}
