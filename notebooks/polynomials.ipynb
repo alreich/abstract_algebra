{
 "cells": [
  {
   "cell_type": "markdown",
   "id": "d130daaa",
   "metadata": {},
   "source": [
    "# Abstract Polynomials"
   ]
  },
  {
   "cell_type": "markdown",
   "id": "66f96e75",
   "metadata": {},
   "source": [
    "This is an experimental notebook."
   ]
  },
  {
   "cell_type": "markdown",
   "id": "0bed019e",
   "metadata": {},
   "source": [
    "## Ordinary Polynomials"
   ]
  },
  {
   "cell_type": "markdown",
   "id": "c13c2a47",
   "metadata": {},
   "source": [
    "Rolling my own polynomials just to see how difficult/useful this might be..."
   ]
  },
  {
   "cell_type": "code",
   "execution_count": 1,
   "id": "2cbeb533",
   "metadata": {},
   "outputs": [],
   "source": [
    "from polynomials import *"
   ]
  },
  {
   "cell_type": "code",
   "execution_count": 2,
   "id": "638844eb",
   "metadata": {},
   "outputs": [
    {
     "data": {
      "text/plain": [
       "-2 -4x +7x^2 -3x^4"
      ]
     },
     "execution_count": 2,
     "metadata": {},
     "output_type": "execute_result"
    }
   ],
   "source": [
    "polystr = \"-2 -4x +7x^2 -3x^4\"\n",
    "coeffs = [-2, -4, 7, 0, -3]\n",
    "\n",
    "p = Polynomial(coeffs)\n",
    "p"
   ]
  },
  {
   "cell_type": "code",
   "execution_count": 3,
   "id": "24bf8868",
   "metadata": {},
   "outputs": [
    {
     "data": {
      "text/plain": [
       "[Term(-2,0), Term(-4,1), Term(7,2), Term(-3,4)]"
      ]
     },
     "execution_count": 3,
     "metadata": {},
     "output_type": "execute_result"
    }
   ],
   "source": [
    "p.terms()"
   ]
  },
  {
   "cell_type": "code",
   "execution_count": 4,
   "id": "40400ff1",
   "metadata": {},
   "outputs": [
    {
     "name": "stdout",
     "output_type": "stream",
     "text": [
      "-194\n"
     ]
    }
   ],
   "source": [
    "y = 3\n",
    "print(-2 - 4*y + 7*y**2 - 3*y**4)"
   ]
  },
  {
   "cell_type": "code",
   "execution_count": 5,
   "id": "b87cc858",
   "metadata": {},
   "outputs": [
    {
     "data": {
      "text/plain": [
       "-194"
      ]
     },
     "execution_count": 5,
     "metadata": {},
     "output_type": "execute_result"
    }
   ],
   "source": [
    "p(3)"
   ]
  },
  {
   "cell_type": "code",
   "execution_count": 6,
   "id": "031968b0",
   "metadata": {},
   "outputs": [
    {
     "name": "stdout",
     "output_type": "stream",
     "text": [
      "-2 -4x +7x^2 -3x^4\n"
     ]
    },
    {
     "data": {
      "text/plain": [
       "[Term(-2,0), Term(-4,1), Term(7,2), Term(-3,4)]"
      ]
     },
     "execution_count": 6,
     "metadata": {},
     "output_type": "execute_result"
    }
   ],
   "source": [
    "coeffs = [(-3, 4), (-4,1), (7, 2), (-2,0)]\n",
    "\n",
    "p = Polynomial(coeffs)\n",
    "print(p)\n",
    "p.terms()"
   ]
  },
  {
   "cell_type": "code",
   "execution_count": 7,
   "id": "8f5919bf",
   "metadata": {},
   "outputs": [
    {
     "name": "stdout",
     "output_type": "stream",
     "text": [
      "-2 -4x +7x^2 -3x^4\n"
     ]
    },
    {
     "data": {
      "text/plain": [
       "[Term(-2,0), Term(-4,1), Term(7,2), Term(-3,4)]"
      ]
     },
     "execution_count": 7,
     "metadata": {},
     "output_type": "execute_result"
    }
   ],
   "source": [
    "coeffs = [[-4,1], [7, 2], [-2,0], [-3, 4]]\n",
    "\n",
    "p = Polynomial(coeffs)\n",
    "print(p)\n",
    "p.terms()"
   ]
  },
  {
   "cell_type": "code",
   "execution_count": 8,
   "id": "f565ffc9",
   "metadata": {},
   "outputs": [
    {
     "name": "stdout",
     "output_type": "stream",
     "text": [
      "-2 -4x +7x^2 -3x^4\n"
     ]
    },
    {
     "data": {
      "text/plain": [
       "[Term(-2,0), Term(-4,1), Term(7,2), Term(-3,4)]"
      ]
     },
     "execution_count": 8,
     "metadata": {},
     "output_type": "execute_result"
    }
   ],
   "source": [
    "coeffs = \"-2 -4x +7x^2 -3x^4\"\n",
    "\n",
    "p = Polynomial(coeffs)\n",
    "print(p)\n",
    "p.terms()"
   ]
  },
  {
   "cell_type": "code",
   "execution_count": 9,
   "id": "28c76875",
   "metadata": {},
   "outputs": [
    {
     "name": "stdout",
     "output_type": "stream",
     "text": [
      "-2 -4x +7x^2 -3x^4\n"
     ]
    },
    {
     "data": {
      "text/plain": [
       "[Term(-2,0), Term(-4,1), Term(7,2), Term(-3,4)]"
      ]
     },
     "execution_count": 9,
     "metadata": {},
     "output_type": "execute_result"
    }
   ],
   "source": [
    "coeffs = [Term(-2,0), Term(-4,1), Term(7,2), Term(-3,4)]\n",
    "\n",
    "p = Polynomial(coeffs)\n",
    "print(p)\n",
    "p.terms()"
   ]
  },
  {
   "cell_type": "code",
   "execution_count": 10,
   "id": "62483919",
   "metadata": {},
   "outputs": [
    {
     "data": {
      "text/plain": [
       "-194"
      ]
     },
     "execution_count": 10,
     "metadata": {},
     "output_type": "execute_result"
    }
   ],
   "source": [
    "p(3)"
   ]
  },
  {
   "cell_type": "code",
   "execution_count": null,
   "id": "a51338e3",
   "metadata": {},
   "outputs": [],
   "source": []
  },
  {
   "cell_type": "code",
   "execution_count": 11,
   "id": "a48160de",
   "metadata": {},
   "outputs": [
    {
     "name": "stdout",
     "output_type": "stream",
     "text": [
      "-2 -4x +7x^2 -3x^4\n"
     ]
    },
    {
     "data": {
      "text/plain": [
       "[Term(-2,0), Term(-4,1), Term(7,2), Term(-3,4)]"
      ]
     },
     "execution_count": 11,
     "metadata": {},
     "output_type": "execute_result"
    }
   ],
   "source": [
    "polystr = \"-2 -4x^1 +7x^2 -3x^4\"  # Added '^1' to linear term\n",
    "\n",
    "p = Polynomial(polystr)\n",
    "print(p)\n",
    "p.terms()"
   ]
  },
  {
   "cell_type": "code",
   "execution_count": 12,
   "id": "9cc29b7c",
   "metadata": {},
   "outputs": [
    {
     "name": "stdout",
     "output_type": "stream",
     "text": [
      "-2 -4x +7x^2 -3x^4\n"
     ]
    },
    {
     "data": {
      "text/plain": [
       "[Term(-2,0), Term(-4,1), Term(7,2), Term(-3,4)]"
      ]
     },
     "execution_count": 12,
     "metadata": {},
     "output_type": "execute_result"
    }
   ],
   "source": [
    "polystr = \"-2x^0 -4x^1 +7x^2 -3x^4\"  # Added 'x^0' to constant term\n",
    "\n",
    "p = Polynomial(polystr)\n",
    "print(p)\n",
    "p.terms()"
   ]
  },
  {
   "cell_type": "code",
   "execution_count": 13,
   "id": "0d2f5e53",
   "metadata": {},
   "outputs": [
    {
     "name": "stdout",
     "output_type": "stream",
     "text": [
      "-2 -4x +7x^2 -3x^4\n"
     ]
    },
    {
     "data": {
      "text/plain": [
       "[Term(-2,0), Term(-4,1), Term(7,2), Term(-3,4)]"
      ]
     },
     "execution_count": 13,
     "metadata": {},
     "output_type": "execute_result"
    }
   ],
   "source": [
    "polystr = \"-4x -2 -3x^4 +7x^2\"  #  Terms not in order \n",
    "\n",
    "p = Polynomial(polystr)\n",
    "print(p)\n",
    "p.terms()"
   ]
  },
  {
   "cell_type": "code",
   "execution_count": 14,
   "id": "475d837d",
   "metadata": {},
   "outputs": [
    {
     "name": "stdout",
     "output_type": "stream",
     "text": [
      "-1 -1x +7x^2 -3x^4\n"
     ]
    },
    {
     "data": {
      "text/plain": [
       "[Term(-1,0), Term(-1,1), Term(7,2), Term(-3,4)]"
      ]
     },
     "execution_count": 14,
     "metadata": {},
     "output_type": "execute_result"
    }
   ],
   "source": [
    "polystr = \"2 -x -3 +7x^2 -3x^4\"  # No coefficient on linear term, 'x'\n",
    "\n",
    "p = Polynomial(polystr)\n",
    "print(p)\n",
    "p.terms()"
   ]
  },
  {
   "cell_type": "code",
   "execution_count": 15,
   "id": "6cf31116",
   "metadata": {},
   "outputs": [
    {
     "name": "stdout",
     "output_type": "stream",
     "text": [
      "-1 +7x^2 -3x^4\n"
     ]
    },
    {
     "data": {
      "text/plain": [
       "[Term(-1,0), Term(7,2), Term(-3,4)]"
      ]
     },
     "execution_count": 15,
     "metadata": {},
     "output_type": "execute_result"
    }
   ],
   "source": [
    "polystr = \"2 -x -3 +7x^2 +x -3x^4\"  # linear terms cancel\n",
    "\n",
    "p = Polynomial(polystr)\n",
    "print(p)\n",
    "p.terms()"
   ]
  },
  {
   "cell_type": "code",
   "execution_count": 16,
   "id": "14218692",
   "metadata": {},
   "outputs": [
    {
     "name": "stdout",
     "output_type": "stream",
     "text": [
      "-3\n"
     ]
    },
    {
     "data": {
      "text/plain": [
       "[Term(-3,0)]"
      ]
     },
     "execution_count": 16,
     "metadata": {},
     "output_type": "execute_result"
    }
   ],
   "source": [
    "polystr = \"-4x^2 -x -3 +7x^2 +x -3x^2\"  # Quadratic terms collapse and cancel\n",
    "\n",
    "p = Polynomial(polystr)\n",
    "print(p)\n",
    "p.terms()"
   ]
  },
  {
   "cell_type": "code",
   "execution_count": 17,
   "id": "beb0c07c",
   "metadata": {},
   "outputs": [],
   "source": [
    "test_terms = [Term(-2,0), Term(-4,1), Term(-1,0), Term(7,2), Term(-3,4), Term(-2,2)]"
   ]
  },
  {
   "cell_type": "code",
   "execution_count": 18,
   "id": "7fddcd0b",
   "metadata": {},
   "outputs": [
    {
     "name": "stdout",
     "output_type": "stream",
     "text": [
      "[Term(-2,0), Term(-4,1), Term(-1,0), Term(7,2), Term(-3,4), Term(-2,2)]\n",
      "[Term(-3,0), Term(-4,1), Term(5,2), Term(-3,4)]\n"
     ]
    }
   ],
   "source": [
    "print(test_terms)\n",
    "print(combine_like_terms(test_terms))"
   ]
  },
  {
   "cell_type": "code",
   "execution_count": 19,
   "id": "07109347",
   "metadata": {},
   "outputs": [
    {
     "data": {
      "text/plain": [
       "-3 -4x +5x^2 -3x^4"
      ]
     },
     "execution_count": 19,
     "metadata": {},
     "output_type": "execute_result"
    }
   ],
   "source": [
    "polystr2 = \"-2 -4x -1 +7x^2 -3x^4 -2x^2\"\n",
    "p2 = Polynomial(polystr2)\n",
    "p2"
   ]
  },
  {
   "cell_type": "code",
   "execution_count": 20,
   "id": "3a7abc9f",
   "metadata": {},
   "outputs": [
    {
     "data": {
      "text/plain": [
       "0"
      ]
     },
     "execution_count": 20,
     "metadata": {},
     "output_type": "execute_result"
    }
   ],
   "source": [
    "polystr3 = \"-2 +3x^4 -4x +2 +7x^2 +4x -3x^4 -7x^2\"\n",
    "p3 = Polynomial(polystr3)\n",
    "p3"
   ]
  },
  {
   "cell_type": "code",
   "execution_count": 21,
   "id": "5bd1a96e",
   "metadata": {},
   "outputs": [
    {
     "name": "stdout",
     "output_type": "stream",
     "text": [
      "+1 +2x\n",
      "+1 -2x\n"
     ]
    }
   ],
   "source": [
    "q1 = Polynomial('1 +2x')\n",
    "print(q1)\n",
    "q2 = Polynomial('1 -2x')\n",
    "print(q2)"
   ]
  },
  {
   "cell_type": "code",
   "execution_count": 22,
   "id": "ed78ccb8",
   "metadata": {},
   "outputs": [
    {
     "data": {
      "text/plain": [
       "+2"
      ]
     },
     "execution_count": 22,
     "metadata": {},
     "output_type": "execute_result"
    }
   ],
   "source": [
    "q1 + q2"
   ]
  },
  {
   "cell_type": "code",
   "execution_count": 23,
   "id": "f39577ed",
   "metadata": {},
   "outputs": [
    {
     "data": {
      "text/plain": [
       "+1 -4x^2"
      ]
     },
     "execution_count": 23,
     "metadata": {},
     "output_type": "execute_result"
    }
   ],
   "source": [
    "q1 * q2"
   ]
  },
  {
   "cell_type": "code",
   "execution_count": 24,
   "id": "5771ac0e",
   "metadata": {},
   "outputs": [
    {
     "data": {
      "text/plain": [
       "+1 +4x +4x^2"
      ]
     },
     "execution_count": 24,
     "metadata": {},
     "output_type": "execute_result"
    }
   ],
   "source": [
    "q1 * q1"
   ]
  },
  {
   "cell_type": "code",
   "execution_count": 25,
   "id": "7b726d09",
   "metadata": {},
   "outputs": [
    {
     "data": {
      "text/plain": [
       "+1 -4x +4x^2"
      ]
     },
     "execution_count": 25,
     "metadata": {},
     "output_type": "execute_result"
    }
   ],
   "source": [
    "q2 * q2"
   ]
  },
  {
   "cell_type": "code",
   "execution_count": 26,
   "id": "6891b0ff",
   "metadata": {},
   "outputs": [
    {
     "data": {
      "text/plain": [
       "Term(-3,4)"
      ]
     },
     "execution_count": 26,
     "metadata": {},
     "output_type": "execute_result"
    }
   ],
   "source": [
    "parse_term('-3x^4', 'x')"
   ]
  },
  {
   "cell_type": "code",
   "execution_count": 27,
   "id": "bda2a3ed",
   "metadata": {},
   "outputs": [
    {
     "data": {
      "text/plain": [
       "[Term(-2,0), Term(-4,1), Term(7,2), Term(-3,4)]"
      ]
     },
     "execution_count": 27,
     "metadata": {},
     "output_type": "execute_result"
    }
   ],
   "source": [
    "parse_polynomial('-2 -4x +7x^2 -3x^4', 'x')"
   ]
  },
  {
   "cell_type": "code",
   "execution_count": 28,
   "id": "9a37572c",
   "metadata": {},
   "outputs": [],
   "source": [
    "input = [Term(-2,0), Term(-4,1), Term(7,2), Term(-3,1), Term(5, 0)]"
   ]
  },
  {
   "cell_type": "code",
   "execution_count": 29,
   "id": "b14ecf1e",
   "metadata": {},
   "outputs": [
    {
     "data": {
      "text/plain": [
       "[Term(3,0), Term(-7,1), Term(7,2)]"
      ]
     },
     "execution_count": 29,
     "metadata": {},
     "output_type": "execute_result"
    }
   ],
   "source": [
    "combine_like_terms(input)"
   ]
  },
  {
   "cell_type": "code",
   "execution_count": 30,
   "id": "0448273a",
   "metadata": {},
   "outputs": [
    {
     "data": {
      "text/plain": [
       "Term(-3,4)"
      ]
     },
     "execution_count": 30,
     "metadata": {},
     "output_type": "execute_result"
    }
   ],
   "source": [
    "Term(-3, 4)"
   ]
  },
  {
   "cell_type": "markdown",
   "id": "e54c5546",
   "metadata": {},
   "source": [
    "## NumPy Polynomials"
   ]
  },
  {
   "cell_type": "code",
   "execution_count": 31,
   "id": "371309da",
   "metadata": {},
   "outputs": [
    {
     "data": {
      "text/latex": [
       "$x \\mapsto \\text{-2.0} - \\text{4.0}\\,x + \\text{7.0}\\,x^{2}\\color{LightGray}{ + \\text{0.0}\\,x^{3}} - \\text{3.0}\\,x^{4}$"
      ],
      "text/plain": [
       "Polynomial([-2., -4.,  7.,  0., -3.], domain=[-1,  1], window=[-1,  1])"
      ]
     },
     "execution_count": 31,
     "metadata": {},
     "output_type": "execute_result"
    }
   ],
   "source": [
    "from numpy.polynomial import Polynomial\n",
    "\n",
    "poly_coeff = [-2, -4, 7, 0, -3]\n",
    "poly = Polynomial(poly_coeff)\n",
    "poly"
   ]
  },
  {
   "cell_type": "code",
   "execution_count": 32,
   "id": "f451d216",
   "metadata": {},
   "outputs": [
    {
     "data": {
      "text/plain": [
       "-194.0"
      ]
     },
     "execution_count": 32,
     "metadata": {},
     "output_type": "execute_result"
    }
   ],
   "source": [
    "poly(3)"
   ]
  },
  {
   "cell_type": "code",
   "execution_count": 33,
   "id": "6b786fc3",
   "metadata": {},
   "outputs": [
    {
     "name": "stdout",
     "output_type": "stream",
     "text": [
      "-2.0 - 4.0·x¹ + 7.0·x² + 0.0·x³ - 3.0·x⁴\n"
     ]
    }
   ],
   "source": [
    "print(poly)"
   ]
  },
  {
   "cell_type": "code",
   "execution_count": 34,
   "id": "dd2ccf00",
   "metadata": {},
   "outputs": [
    {
     "data": {
      "text/latex": [
       "$x \\mapsto \\text{1.0} + \\text{1.0}\\,x$"
      ],
      "text/plain": [
       "Polynomial([1., 1.], domain=[-1,  1], window=[-1,  1])"
      ]
     },
     "execution_count": 34,
     "metadata": {},
     "output_type": "execute_result"
    }
   ],
   "source": [
    "poly1 = Polynomial([1, 1])\n",
    "poly1"
   ]
  },
  {
   "cell_type": "code",
   "execution_count": 35,
   "id": "530fb4d1",
   "metadata": {},
   "outputs": [
    {
     "data": {
      "text/latex": [
       "$x \\mapsto \\text{1.0} - \\text{1.0}\\,x$"
      ],
      "text/plain": [
       "Polynomial([ 1., -1.], domain=[-1,  1], window=[-1,  1])"
      ]
     },
     "execution_count": 35,
     "metadata": {},
     "output_type": "execute_result"
    }
   ],
   "source": [
    "poly2 = Polynomial([1, -1])\n",
    "poly2"
   ]
  },
  {
   "cell_type": "code",
   "execution_count": 36,
   "id": "b08753fa",
   "metadata": {},
   "outputs": [
    {
     "data": {
      "text/latex": [
       "$x \\mapsto \\text{1.0}\\color{LightGray}{ + \\text{0.0}\\,x} - \\text{1.0}\\,x^{2}$"
      ],
      "text/plain": [
       "Polynomial([ 1.,  0., -1.], domain=[-1.,  1.], window=[-1.,  1.])"
      ]
     },
     "execution_count": 36,
     "metadata": {},
     "output_type": "execute_result"
    }
   ],
   "source": [
    "poly1 * poly2"
   ]
  },
  {
   "cell_type": "code",
   "execution_count": null,
   "id": "260e10da",
   "metadata": {},
   "outputs": [],
   "source": []
  }
 ],
 "metadata": {
  "kernelspec": {
   "display_name": "Python 3",
   "language": "python",
   "name": "python3"
  },
  "language_info": {
   "codemirror_mode": {
    "name": "ipython",
    "version": 3
   },
   "file_extension": ".py",
   "mimetype": "text/x-python",
   "name": "python",
   "nbconvert_exporter": "python",
   "pygments_lexer": "ipython3",
   "version": "3.7.7"
  }
 },
 "nbformat": 4,
 "nbformat_minor": 5
}
