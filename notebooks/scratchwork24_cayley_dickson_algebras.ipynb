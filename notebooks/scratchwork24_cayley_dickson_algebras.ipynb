{
 "cells": [
  {
   "cell_type": "markdown",
   "id": "b6523b92",
   "metadata": {},
   "source": [
    "# Scratchwork: Cayley-Dickson Algebras"
   ]
  },
  {
   "cell_type": "markdown",
   "id": "34735043",
   "metadata": {},
   "source": [
    "The purpose of this notebook is to develop the functions required to perform the Cayley-Dickson construction within the ``finite_algebras`` module."
   ]
  },
  {
   "cell_type": "code",
   "execution_count": 20,
   "id": "68cea7ff",
   "metadata": {},
   "outputs": [],
   "source": [
    "import finite_algebras as alg\n",
    "import numpy as np\n",
    "# import re\n",
    "# from cayley_dickson_utilities import *"
   ]
  },
  {
   "cell_type": "markdown",
   "id": "81513aad",
   "metadata": {},
   "source": [
    "In the Python module, ``finite_algebras``, all elements are strings.\n",
    "\n",
    "When direct products or Cayley-Dickson algebras are constructed, the component algebras' elements are concatentated (joined) using a string delimiter (':' by default).\n",
    "\n",
    "So, operations like scalar multiplication, negation, conjugation, etc, on the newly constructed \"compound\" elements, require some string manipulation to accomplish."
   ]
  },
  {
   "cell_type": "markdown",
   "id": "75a00d9a",
   "metadata": {},
   "source": [
    "According to [Shafer, 1966]\n",
    "\n",
    "$a,b,c,d,\\mu \\in F$, $\\mu \\neq 0$, then $(a, b) \\times (c, d) = (a c + \\mu d \\overline{b}, \\overline{a} d + c b)$,\n",
    "\n",
    "where $\\overline{a} = a$ and $\\overline{(a, b)} = (\\overline{a}, -b)$"
   ]
  },
  {
   "cell_type": "markdown",
   "id": "7b79999a",
   "metadata": {},
   "source": [
    "## Test Algebras"
   ]
  },
  {
   "cell_type": "code",
   "execution_count": 2,
   "id": "37a0cd3b",
   "metadata": {},
   "outputs": [],
   "source": [
    "F3 = alg.generate_algebra_mod_n(3, elem_name='')\n",
    "F3sqr = F3.sqr()\n",
    "F3quad = F3sqr.sqr()\n",
    "\n",
    "F4 = alg.generate_algebra_mod_n(4, elem_name='')\n",
    "F4sqr = F4.sqr()\n",
    "\n",
    "F5 = alg.generate_algebra_mod_n(5, elem_name='')\n",
    "F5sqr = F5.sqr()\n",
    "\n",
    "F7 = alg.generate_algebra_mod_n(7, elem_name='')\n",
    "F7sqr = F7.sqr()"
   ]
  },
  {
   "cell_type": "code",
   "execution_count": 3,
   "id": "f7752b67",
   "metadata": {},
   "outputs": [
    {
     "name": "stdout",
     "output_type": "stream",
     "text": [
      "\n",
      "** Field **\n",
      "Name: F3_CDA\n",
      "Instance ID: 4612165264\n",
      "Description: Cayley-Dickson algebra based on F3\n",
      "Order: 9\n",
      "Identity: '0:0'\n",
      "Commutative? Yes\n",
      "Cyclic?: Yes\n",
      "  Generators: ['0:1', '0:2', '1:1', '1:2', '2:1', '2:2']\n",
      "Elements:\n",
      "   Index   Name   Inverse  Order\n",
      "      0   '0:0'   '0:0'       1\n",
      "      1   '0:1'   '0:2'       3\n",
      "      2   '0:2'   '0:1'       3\n",
      "      3   '1:0'   '2:0'       3\n",
      "      4   '1:1'   '2:2'       3\n",
      "      5   '1:2'   '2:1'       3\n",
      "      6   '2:0'   '1:0'       3\n",
      "      7   '2:1'   '1:2'       3\n",
      "      8   '2:2'   '1:1'       3\n",
      "Cayley Table (showing indices):\n",
      "[[0, 1, 2, 3, 4, 5, 6, 7, 8],\n",
      " [1, 2, 0, 4, 5, 3, 7, 8, 6],\n",
      " [2, 0, 1, 5, 3, 4, 8, 6, 7],\n",
      " [3, 4, 5, 6, 7, 8, 0, 1, 2],\n",
      " [4, 5, 3, 7, 8, 6, 1, 2, 0],\n",
      " [5, 3, 4, 8, 6, 7, 2, 0, 1],\n",
      " [6, 7, 8, 0, 1, 2, 3, 4, 5],\n",
      " [7, 8, 6, 1, 2, 0, 4, 5, 3],\n",
      " [8, 6, 7, 2, 0, 1, 5, 3, 4]]\n",
      "Mult. Identity: '1:0'\n",
      "Mult. Commutative? Yes\n",
      "Zero Divisors: None\n",
      "Multiplicative Cayley Table (showing indices):\n",
      "[[0, 0, 0, 0, 0, 0, 0, 0, 0],\n",
      " [0, 6, 3, 1, 7, 4, 2, 8, 5],\n",
      " [0, 3, 6, 2, 5, 8, 1, 4, 7],\n",
      " [0, 1, 2, 3, 4, 5, 6, 7, 8],\n",
      " [0, 7, 5, 4, 2, 6, 8, 3, 1],\n",
      " [0, 4, 8, 5, 6, 1, 7, 2, 3],\n",
      " [0, 2, 1, 6, 8, 7, 3, 5, 4],\n",
      " [0, 8, 4, 7, 3, 2, 5, 1, 6],\n",
      " [0, 5, 7, 8, 1, 3, 4, 6, 2]]\n"
     ]
    }
   ],
   "source": [
    "F3cda = F3.make_cayley_dickson_algebra()\n",
    "F3cda.about()"
   ]
  },
  {
   "cell_type": "code",
   "execution_count": 4,
   "id": "e0322bb5",
   "metadata": {},
   "outputs": [
    {
     "data": {
      "text/plain": [
       "True"
      ]
     },
     "execution_count": 4,
     "metadata": {},
     "output_type": "execute_result"
    }
   ],
   "source": [
    "F3sqr == F3cda"
   ]
  },
  {
   "cell_type": "code",
   "execution_count": 22,
   "id": "8381600d",
   "metadata": {},
   "outputs": [
    {
     "data": {
      "text/plain": [
       "9"
      ]
     },
     "execution_count": 22,
     "metadata": {},
     "output_type": "execute_result"
    }
   ],
   "source": [
    "F3cda.order"
   ]
  },
  {
   "cell_type": "code",
   "execution_count": 21,
   "id": "ec487865",
   "metadata": {},
   "outputs": [
    {
     "name": "stdout",
     "output_type": "stream",
     "text": [
      "\n",
      "** Ring **\n",
      "Name: F3_CDA_CDA\n",
      "Instance ID: 4686569232\n",
      "Description: Cayley-Dickson algebra based on F3_CDA\n",
      "Order: 81\n",
      "Identity: '0:0:0:0'\n",
      "Commutative? Yes\n",
      "Cyclic?: No\n",
      "Elements:\n",
      "   Index   Name   Inverse  Order\n",
      "      0 '0:0:0:0' '0:0:0:0'       1\n",
      "      1 '0:0:0:1' '0:0:0:2'       3\n",
      "      2 '0:0:0:2' '0:0:0:1'       3\n",
      "      3 '0:0:1:0' '0:0:2:0'       3\n",
      "      4 '0:0:1:1' '0:0:2:2'       3\n",
      "      5 '0:0:1:2' '0:0:2:1'       3\n",
      "      6 '0:0:2:0' '0:0:1:0'       3\n",
      "      7 '0:0:2:1' '0:0:1:2'       3\n",
      "      8 '0:0:2:2' '0:0:1:1'       3\n",
      "      9 '0:1:0:0' '0:2:0:0'       3\n",
      "     10 '0:1:0:1' '0:2:0:2'       3\n",
      "     11 '0:1:0:2' '0:2:0:1'       3\n",
      "     12 '0:1:1:0' '0:2:2:0'       3\n",
      "     13 '0:1:1:1' '0:2:2:2'       3\n",
      "     14 '0:1:1:2' '0:2:2:1'       3\n",
      "     15 '0:1:2:0' '0:2:1:0'       3\n",
      "     16 '0:1:2:1' '0:2:1:2'       3\n",
      "     17 '0:1:2:2' '0:2:1:1'       3\n",
      "     18 '0:2:0:0' '0:1:0:0'       3\n",
      "     19 '0:2:0:1' '0:1:0:2'       3\n",
      "     20 '0:2:0:2' '0:1:0:1'       3\n",
      "     21 '0:2:1:0' '0:1:2:0'       3\n",
      "     22 '0:2:1:1' '0:1:2:2'       3\n",
      "     23 '0:2:1:2' '0:1:2:1'       3\n",
      "     24 '0:2:2:0' '0:1:1:0'       3\n",
      "     25 '0:2:2:1' '0:1:1:2'       3\n",
      "     26 '0:2:2:2' '0:1:1:1'       3\n",
      "     27 '1:0:0:0' '2:0:0:0'       3\n",
      "     28 '1:0:0:1' '2:0:0:2'       3\n",
      "     29 '1:0:0:2' '2:0:0:1'       3\n",
      "     30 '1:0:1:0' '2:0:2:0'       3\n",
      "     31 '1:0:1:1' '2:0:2:2'       3\n",
      "     32 '1:0:1:2' '2:0:2:1'       3\n",
      "     33 '1:0:2:0' '2:0:1:0'       3\n",
      "     34 '1:0:2:1' '2:0:1:2'       3\n",
      "     35 '1:0:2:2' '2:0:1:1'       3\n",
      "     36 '1:1:0:0' '2:2:0:0'       3\n",
      "     37 '1:1:0:1' '2:2:0:2'       3\n",
      "     38 '1:1:0:2' '2:2:0:1'       3\n",
      "     39 '1:1:1:0' '2:2:2:0'       3\n",
      "     40 '1:1:1:1' '2:2:2:2'       3\n",
      "     41 '1:1:1:2' '2:2:2:1'       3\n",
      "     42 '1:1:2:0' '2:2:1:0'       3\n",
      "     43 '1:1:2:1' '2:2:1:2'       3\n",
      "     44 '1:1:2:2' '2:2:1:1'       3\n",
      "     45 '1:2:0:0' '2:1:0:0'       3\n",
      "     46 '1:2:0:1' '2:1:0:2'       3\n",
      "     47 '1:2:0:2' '2:1:0:1'       3\n",
      "     48 '1:2:1:0' '2:1:2:0'       3\n",
      "     49 '1:2:1:1' '2:1:2:2'       3\n",
      "     50 '1:2:1:2' '2:1:2:1'       3\n",
      "     51 '1:2:2:0' '2:1:1:0'       3\n",
      "     52 '1:2:2:1' '2:1:1:2'       3\n",
      "     53 '1:2:2:2' '2:1:1:1'       3\n",
      "     54 '2:0:0:0' '1:0:0:0'       3\n",
      "     55 '2:0:0:1' '1:0:0:2'       3\n",
      "     56 '2:0:0:2' '1:0:0:1'       3\n",
      "     57 '2:0:1:0' '1:0:2:0'       3\n",
      "     58 '2:0:1:1' '1:0:2:2'       3\n",
      "     59 '2:0:1:2' '1:0:2:1'       3\n",
      "     60 '2:0:2:0' '1:0:1:0'       3\n",
      "     61 '2:0:2:1' '1:0:1:2'       3\n",
      "     62 '2:0:2:2' '1:0:1:1'       3\n",
      "     63 '2:1:0:0' '1:2:0:0'       3\n",
      "     64 '2:1:0:1' '1:2:0:2'       3\n",
      "     65 '2:1:0:2' '1:2:0:1'       3\n",
      "     66 '2:1:1:0' '1:2:2:0'       3\n",
      "     67 '2:1:1:1' '1:2:2:2'       3\n",
      "     68 '2:1:1:2' '1:2:2:1'       3\n",
      "     69 '2:1:2:0' '1:2:1:0'       3\n",
      "     70 '2:1:2:1' '1:2:1:2'       3\n",
      "     71 '2:1:2:2' '1:2:1:1'       3\n",
      "     72 '2:2:0:0' '1:1:0:0'       3\n",
      "     73 '2:2:0:1' '1:1:0:2'       3\n",
      "     74 '2:2:0:2' '1:1:0:1'       3\n",
      "     75 '2:2:1:0' '1:1:2:0'       3\n",
      "     76 '2:2:1:1' '1:1:2:2'       3\n",
      "     77 '2:2:1:2' '1:1:2:1'       3\n",
      "     78 '2:2:2:0' '1:1:1:0'       3\n",
      "     79 '2:2:2:1' '1:1:1:2'       3\n",
      "     80 '2:2:2:2' '1:1:1:1'       3\n",
      "Ring order is 81 > 12, so no further info calculated/printed.\n",
      "Mult. Identity: '1:0:0:0'\n",
      "Mult. Commutative? No\n",
      "Zero Divisors: ['0:1:1:1', '0:1:1:2', '0:1:2:1', '0:1:2:2', '0:2:1:1', '0:2:1:2', '0:2:2:1', '0:2:2:2', '1:0:1:1', '1:0:1:2', '1:0:2:1', '1:0:2:2', '1:1:0:1', '1:1:0:2', '1:1:1:0', '1:1:2:0', '1:2:0:1', '1:2:0:2', '1:2:1:0', '1:2:2:0', '2:0:1:1', '2:0:1:2', '2:0:2:1', '2:0:2:2', '2:1:0:1', '2:1:0:2', '2:1:1:0', '2:1:2:0', '2:2:0:1', '2:2:0:2', '2:2:1:0', '2:2:2:0']\n",
      "Ring order is 81 > 12, so no further info calculated/printed.\n"
     ]
    }
   ],
   "source": [
    "F3cda2 = F3cda.make_cayley_dickson_algebra()\n",
    "F3cda2.about()"
   ]
  },
  {
   "cell_type": "code",
   "execution_count": 23,
   "id": "aa96c91e",
   "metadata": {},
   "outputs": [
    {
     "data": {
      "text/plain": [
       "False"
      ]
     },
     "execution_count": 23,
     "metadata": {},
     "output_type": "execute_result"
    }
   ],
   "source": [
    "F3quad == F3cda2"
   ]
  },
  {
   "cell_type": "code",
   "execution_count": 25,
   "id": "2b18ba28",
   "metadata": {},
   "outputs": [
    {
     "data": {
      "text/plain": [
       "['2:1:1:1',\n",
       " '2:1:2:2',\n",
       " '0:1:1:0',\n",
       " '2:2:1:2',\n",
       " '0:1:2:0',\n",
       " '2:2:2:1',\n",
       " '0:2:1:0',\n",
       " '0:2:2:0',\n",
       " '1:0:0:1',\n",
       " '1:0:0:2',\n",
       " '1:1:1:2',\n",
       " '1:1:2:1',\n",
       " '1:2:1:1',\n",
       " '1:2:2:2',\n",
       " '2:0:0:1',\n",
       " '2:0:0:2']"
      ]
     },
     "execution_count": 25,
     "metadata": {},
     "output_type": "execute_result"
    }
   ],
   "source": [
    "F3quad.zero_divisors()"
   ]
  },
  {
   "cell_type": "code",
   "execution_count": 26,
   "id": "b6118ce7",
   "metadata": {},
   "outputs": [
    {
     "data": {
      "text/plain": [
       "['0:1:1:1',\n",
       " '0:1:1:2',\n",
       " '0:1:2:1',\n",
       " '0:1:2:2',\n",
       " '0:2:1:1',\n",
       " '0:2:1:2',\n",
       " '0:2:2:1',\n",
       " '0:2:2:2',\n",
       " '1:0:1:1',\n",
       " '1:0:1:2',\n",
       " '1:0:2:1',\n",
       " '1:0:2:2',\n",
       " '1:1:0:1',\n",
       " '1:1:0:2',\n",
       " '1:1:1:0',\n",
       " '1:1:2:0',\n",
       " '1:2:0:1',\n",
       " '1:2:0:2',\n",
       " '1:2:1:0',\n",
       " '1:2:2:0',\n",
       " '2:0:1:1',\n",
       " '2:0:1:2',\n",
       " '2:0:2:1',\n",
       " '2:0:2:2',\n",
       " '2:1:0:1',\n",
       " '2:1:0:2',\n",
       " '2:1:1:0',\n",
       " '2:1:2:0',\n",
       " '2:2:0:1',\n",
       " '2:2:0:2',\n",
       " '2:2:1:0',\n",
       " '2:2:2:0']"
      ]
     },
     "execution_count": 26,
     "metadata": {},
     "output_type": "execute_result"
    }
   ],
   "source": [
    "F3cda2.zero_divisors()"
   ]
  },
  {
   "cell_type": "markdown",
   "id": "4f34c91e",
   "metadata": {},
   "source": [
    "## Code Tests"
   ]
  },
  {
   "cell_type": "code",
   "execution_count": 6,
   "id": "b9fff247",
   "metadata": {},
   "outputs": [
    {
     "data": {
      "text/plain": [
       "'1'"
      ]
     },
     "execution_count": 6,
     "metadata": {},
     "output_type": "execute_result"
    }
   ],
   "source": [
    "F3.inv('2')"
   ]
  },
  {
   "cell_type": "code",
   "execution_count": 27,
   "id": "8082a17a",
   "metadata": {},
   "outputs": [
    {
     "name": "stdout",
     "output_type": "stream",
     "text": [
      "conj(0:0) = 0:0\n",
      "conj(0:1) = 0:2\n",
      "conj(0:2) = 0:1\n",
      "conj(1:0) = 1:0\n",
      "conj(1:1) = 1:2\n",
      "conj(1:2) = 1:1\n",
      "conj(2:0) = 2:0\n",
      "conj(2:1) = 2:2\n",
      "conj(2:2) = 2:1\n"
     ]
    }
   ],
   "source": [
    "for el in F3cda.elements:\n",
    "    print(f\"conj({el}) = {F3cda.conj(el)}\")"
   ]
  },
  {
   "cell_type": "code",
   "execution_count": 28,
   "id": "4a8f6f3f",
   "metadata": {},
   "outputs": [
    {
     "data": {
      "text/plain": [
       "('1:2:3', '4:5:6')"
      ]
     },
     "execution_count": 28,
     "metadata": {},
     "output_type": "execute_result"
    }
   ],
   "source": [
    "F3cda.split_element('1:2:3:4:5:6')"
   ]
  }
 ],
 "metadata": {
  "kernelspec": {
   "display_name": "Python 3 (ipykernel)",
   "language": "python",
   "name": "python3"
  },
  "language_info": {
   "codemirror_mode": {
    "name": "ipython",
    "version": 3
   },
   "file_extension": ".py",
   "mimetype": "text/x-python",
   "name": "python",
   "nbconvert_exporter": "python",
   "pygments_lexer": "ipython3",
   "version": "3.11.5"
  }
 },
 "nbformat": 4,
 "nbformat_minor": 5
}
