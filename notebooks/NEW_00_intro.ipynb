{
 "cells": [
  {
   "cell_type": "markdown",
   "id": "bdd51e6d-8aa6-4ab5-a397-afa52528137d",
   "metadata": {},
   "source": [
    "# Introduction to Abstract Algebra"
   ]
  },
  {
   "attachments": {},
   "cell_type": "markdown",
   "id": "48f1a34e-08f7-438b-92f0-91abbe39f318",
   "metadata": {},
   "source": [
    "**YOU:**\n",
    "\n",
    "Ugh, algebra, and not just algebra, but *abstract* algebra!\n",
    "\n",
    "I was terrible at algebra in school. All that stuff about *polynomials* and *PEMDAS*. Yuck!\n",
    "\n",
    "And here, you want to tell me about **abstract** algebra? That sounds even worse. I'm just not good with numbers."
   ]
  },
  {
   "cell_type": "markdown",
   "id": "86c5cf98-95cd-4480-aebc-b46423d35b97",
   "metadata": {},
   "source": [
    "**ME:**\n",
    "\n",
    "Not to worry; this is more fundamental.\n",
    "\n",
    "Examples of it are everywhere in nature, in your life.\n",
    "\n",
    "And, it's about much more than just numbers; that's why it's *abstract*.\"\n",
    "\n",
    "For example, **Rock-Paper-Scissors** is an abstract algebra."
   ]
  },
  {
   "cell_type": "markdown",
   "id": "0396db7f-0e85-4171-85ce-d71aaa02db73",
   "metadata": {},
   "source": [
    "## Rock-Paper-Scissors"
   ]
  },
  {
   "cell_type": "markdown",
   "id": "ae932b35-171b-45a2-b9e6-10bbc999ad7e",
   "metadata": {},
   "source": [
    "The rules of Rock-Paper-Scissors are simple. It has two participants. On a signal, the participants simultaneously put one hand out in one of three shapes, either signifying a rock (fist), paper (flat, palm down), or scissors (two fingers extended like scissors). The extended hands will show one of three possible combinations: rock-scissors, paper-rock, or scissors-paper. (NOTE: scissors-rock is the same as rock-scissors, and so on.)\n",
    "\n",
    "The winner is decided as follows:\n",
    "\n",
    "1. rock crushes scissors, so rock wins\n",
    "1. paper covers rock, so paper wins\n",
    "1. scissors cuts paper, so scissors wins\n",
    "\n",
    "*\"So, how is this an algebra?\"*\n",
    "\n",
    "Well, to understand how it's an algebra, we need to look at the game more abstractly. (See what I did there?)\n",
    "\n",
    "First, let's use $R$, $P$, and $S$ in place of the words *rock*, *paper*, and *scissors*, respectively.\n",
    "\n",
    "So, the set, $\\{R,P,S\\}$, contains the **elements** of this algebra."
   ]
  },
  {
   "cell_type": "code",
   "execution_count": null,
   "id": "0d8bf1f4-3a79-4e03-88f0-f0828e354c4e",
   "metadata": {},
   "outputs": [],
   "source": []
  }
 ],
 "metadata": {
  "kernelspec": {
   "display_name": "Python 3 (ipykernel)",
   "language": "python",
   "name": "python3"
  },
  "language_info": {
   "codemirror_mode": {
    "name": "ipython",
    "version": 3
   },
   "file_extension": ".py",
   "mimetype": "text/x-python",
   "name": "python",
   "nbconvert_exporter": "python",
   "pygments_lexer": "ipython3",
   "version": "3.11.5"
  }
 },
 "nbformat": 4,
 "nbformat_minor": 5
}
