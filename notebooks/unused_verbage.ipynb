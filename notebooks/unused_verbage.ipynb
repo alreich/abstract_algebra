{
 "cells": [
  {
   "cell_type": "markdown",
   "id": "fda27bed",
   "metadata": {},
   "source": [
    "# Unused Verbage"
   ]
  },
  {
   "cell_type": "markdown",
   "id": "475c87f4",
   "metadata": {},
   "source": [
    "Sometimes I spend a lot of time writing something, and then, later, decide not to use it, and then even later, I change my mind and decide that I **do** want to use it.\n",
    "\n",
    "This notebook contains text that I labored to write, but later decided to \"delete\", but I can't bring myself to deleted it for good.  Not yet, at least."
   ]
  },
  {
   "cell_type": "markdown",
   "id": "0ebe1b54",
   "metadata": {},
   "source": [
    "## Symbol used for a binary operation"
   ]
  },
  {
   "cell_type": "markdown",
   "id": "1c6fb0c4",
   "metadata": {},
   "source": [
    "The symbol, $\\circ$, is used here to emphasize that it is not the same as numeric addition, $+$, or multiplication, $\\times$.  It can be more abstract, and sometimes not; it depends on which group is being discussed. For this reason, other symbols might be used to describe a group's binary operation, often $+$, $\\times$, and $\\cdot$.  Very often, no symbol at all is used, e.g., $ab$ instead of $a \\circ b$. That will be the case here\n"
   ]
  },
  {
   "cell_type": "markdown",
   "id": "230fdb10",
   "metadata": {},
   "source": [
    "## Motivation for the Definition of a Group\n",
    "\n",
    "A motivation for the definition of a group is provided by considering the assumptions required to solve an equation involving the group's elements and operation.\n",
    "\n",
    "To see this, let $ax = b$, where $a,b,x \\in S$ are elements of a group, $G$,\n",
    "<p>and solve for $x$:</p>\n",
    "\n",
    "* First, we assume that the group's <b>binary operation is closed</b>, therefore $a, b \\in S \\Rightarrow ab \\in S$\n",
    "* <p>Assume that <b>every element has an inverse</b>, therefore, multiplying on both sides, $a^{-1}(ax) = a^{-1}b$</p>\n",
    "* <p>Assume that <b>the group is associatve</b>, therefore $(a^{-1}a)x = a^{-1}b$</p>\n",
    "* <p>Assume that <b>the group has an identity element</b>, $e$, therefore $ex = a^{-1}b$</p>\n",
    "* <p>And finally, since $e$ is an identity element, $ex = x \\Rightarrow x = a^{-1}b$</p>\n",
    "\n",
    "The assumptions made above are exactly those that make up the definition of a group.\n",
    "\n",
    "Note that <b>cummutability was not necessary</b> to solve the equation, so it is not required of a group."
   ]
  },
  {
   "cell_type": "markdown",
   "id": "fe961977",
   "metadata": {},
   "source": [
    "## Set Operations"
   ]
  },
  {
   "cell_type": "code",
   "execution_count": 1,
   "id": "a1676b96",
   "metadata": {},
   "outputs": [
    {
     "name": "stdout",
     "output_type": "stream",
     "text": [
      "               Union: {0, 1, 2, 3, 4, 5, 6, 8}\n",
      "        Intersection: {2, 4}\n",
      "          Difference: {0, 8, 6}\n",
      "Symmetric Difference: {0, 1, 3, 5, 6, 8}\n"
     ]
    }
   ],
   "source": [
    "A = {0, 2, 4, 6, 8}\n",
    "B = {1, 2, 3, 4, 5}\n",
    "\n",
    "print(f\"               Union: {A | B}\")\n",
    "print(f\"        Intersection: {A & B}\")\n",
    "print(f\"          Difference: {A - B}\")\n",
    "print(f\"Symmetric Difference: {A ^ B}\")"
   ]
  },
  {
   "cell_type": "code",
   "execution_count": null,
   "id": "81426a41",
   "metadata": {},
   "outputs": [],
   "source": []
  }
 ],
 "metadata": {
  "kernelspec": {
   "display_name": "Python 3",
   "language": "python",
   "name": "python3"
  },
  "language_info": {
   "codemirror_mode": {
    "name": "ipython",
    "version": 3
   },
   "file_extension": ".py",
   "mimetype": "text/x-python",
   "name": "python",
   "nbconvert_exporter": "python",
   "pygments_lexer": "ipython3",
   "version": "3.7.7"
  }
 },
 "nbformat": 4,
 "nbformat_minor": 5
}
