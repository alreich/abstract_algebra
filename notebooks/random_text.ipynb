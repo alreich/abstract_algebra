{
 "cells": [
  {
   "cell_type": "markdown",
   "id": "840bb508",
   "metadata": {},
   "source": [
    "# Random Text"
   ]
  },
  {
   "cell_type": "markdown",
   "id": "32f49d05",
   "metadata": {},
   "source": [
    "## Abstract Algebra"
   ]
  },
  {
   "cell_type": "markdown",
   "id": "c3d75138",
   "metadata": {},
   "source": [
    "To understand what is meant by *Abstract Algebra*, consider the \"concrete\" version of algebra that most of us were taught in school.  It involved the arithmetic operations of addition ($+$), subtraction ($-$), multiplication ($\\times$), and division ($\\div$), along with the use of letters of the alphabet ($a,b,x,y,...$) as placeholders for numbers, such as whole numbers, fractions, and decimal numbers -- what mathematicians refer to as integers (denoted by $\\mathbb{Z}$), rational numbers ($\\mathbb{Q}$), and real numbers ($\\mathbb{R}$).\n",
    "\n",
    "Our teachers presented us with various *expressions* (\"formulas\" and equations) and asked us to perform tasks with them, such as \"plugging in values\" (replacing letters with actual numbers) or solving equations for one of the letters, a so-called *unknown quantity* or *variable*, usually denoted by $x$.\n",
    "\n",
    "Although we were taught four operation of arithmetic, $+$, $-$, $\\times$, and $\\div$, they can be thought of as just two opersions, addition and multiplication.  Subtraction is addition using negative numbers, $5 - 2 = 5 + (-2)$, and division is multiplication using reciprocals, $5 \\div 2 = 5 \\times \\frac{1}{2}$.  Here, we've used a something called *inverses*.  The additive inverse of 2 is -2, and the multiplicative inverse of 2 is $\\frac{1}{2}$.\n",
    "\n",
    "We can apply a geometric perspective to numbers by thinking of positive numbers as measuring length. Addition combines lengths into a total length, and multiplication combines lengths into a measure of area.  If we generalize to volumes, do we need a third operation?  No, the two operations of addition and multiplication suffice."
   ]
  },
  {
   "cell_type": "code",
   "execution_count": null,
   "id": "de168c78",
   "metadata": {},
   "outputs": [],
   "source": []
  }
 ],
 "metadata": {
  "kernelspec": {
   "display_name": "Python 3",
   "language": "python",
   "name": "python3"
  },
  "language_info": {
   "codemirror_mode": {
    "name": "ipython",
    "version": 3
   },
   "file_extension": ".py",
   "mimetype": "text/x-python",
   "name": "python",
   "nbconvert_exporter": "python",
   "pygments_lexer": "ipython3",
   "version": "3.7.7"
  }
 },
 "nbformat": 4,
 "nbformat_minor": 5
}
