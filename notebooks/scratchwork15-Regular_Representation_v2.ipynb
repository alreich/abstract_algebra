{
 "cells": [
  {
   "cell_type": "markdown",
   "id": "f217c120",
   "metadata": {},
   "source": [
    "# Regular Representation"
   ]
  },
  {
   "cell_type": "markdown",
   "id": "b9fe5b82",
   "metadata": {},
   "source": [
    "<i>Version 2</i>"
   ]
  },
  {
   "cell_type": "markdown",
   "id": "a2280e06",
   "metadata": {},
   "source": [
    "Let $G = \\langle A, \\circ \\rangle$, be a group, where $A = \\{a_0, a_1, \\dots , a_{n - 1}\\}$ is the set of the group's elements, and $\\circ$ is its binary operator."
   ]
  },
  {
   "cell_type": "markdown",
   "id": "a03b3468",
   "metadata": {},
   "source": [
    "Also, let $B = \\{\\hat{b}_0, \\hat{b}_1, \\dots , \\hat{b}_{n-1} \\}$ be a set of $nx1$ vectors:\n",
    "\n",
    "$\\hat{b}_0 = \\begin{bmatrix}\n",
    "1 \\\\\n",
    "0 \\\\\n",
    "0 \\\\\n",
    "\\vdots \\\\\n",
    "0 \\end{bmatrix},\n",
    "\\hat{b}_1 = \\begin{bmatrix}\n",
    "0 \\\\\n",
    "1 \\\\\n",
    "0 \\\\\n",
    "\\vdots \\\\\n",
    "0 \\end{bmatrix},\n",
    "\\dots,\n",
    "\\hat{b}_{n-1} = \\begin{bmatrix}\n",
    "0 \\\\\n",
    "0 \\\\\n",
    "0 \\\\\n",
    "\\vdots \\\\\n",
    "1 \\end{bmatrix}$"
   ]
  },
  {
   "cell_type": "markdown",
   "id": "2618ff51",
   "metadata": {},
   "source": [
    "And, define the following bijection between $A$ and $B$:\n",
    "\n",
    "$V(a_i) = \\hat{b}_i$ for $i = 0, \\dots , n - 1$"
   ]
  },
  {
   "cell_type": "markdown",
   "id": "b3a13e86",
   "metadata": {},
   "source": [
    "Then, let $\\cdot$ denote matrix-vector multiplication, and define the matrix, $C_k = (c^k_{ij})_{i,j=1,\\dots,n-1}$, where $c^k_{ij} = \\hat{b}_i \\cdot V(a_k \\circ V^{-1}(\\hat{b}_j))$."
   ]
  },
  {
   "cell_type": "code",
   "execution_count": null,
   "id": "e0a599f3",
   "metadata": {},
   "outputs": [],
   "source": []
  },
  {
   "cell_type": "code",
   "execution_count": null,
   "id": "ff35bbb8",
   "metadata": {},
   "outputs": [],
   "source": []
  },
  {
   "cell_type": "code",
   "execution_count": 1,
   "id": "c97e4689",
   "metadata": {},
   "outputs": [],
   "source": [
    "import numpy as np\n",
    "import finite_algebras as alg"
   ]
  },
  {
   "cell_type": "code",
   "execution_count": 2,
   "id": "a7d05981",
   "metadata": {},
   "outputs": [
    {
     "name": "stdout",
     "output_type": "stream",
     "text": [
      "\n",
      "** Group **\n",
      "Name: Z4\n",
      "Instance ID: 4402881552\n",
      "Description: Cyclic group of order 4\n",
      "Order: 4\n",
      "Identity: R0\n",
      "Commutative? Yes\n",
      "Cyclic?: Yes\n",
      "  Generators: ['R270', 'R90']\n",
      "Elements:\n",
      "   Index   Name   Inverse  Order\n",
      "      0      R0      R0       1\n",
      "      1     R90    R270       4\n",
      "      2    R180    R180       2\n",
      "      3    R270     R90       4\n",
      "Cayley Table (showing indices):\n",
      "[[0, 1, 2, 3], [1, 2, 3, 0], [2, 3, 0, 1], [3, 0, 1, 2]]\n"
     ]
    }
   ],
   "source": [
    "z4 = alg.make_finite_algebra(\n",
    "    'Z4',\n",
    "    'Cyclic group of order 4',\n",
    "    ['R0', 'R90', 'R180', 'R270'],\n",
    "    [[0, 1, 2, 3], [1, 2, 3, 0], [2, 3, 0, 1], [3, 0, 1, 2]]\n",
    ")\n",
    "\n",
    "z4.about()"
   ]
  },
  {
   "cell_type": "code",
   "execution_count": 3,
   "id": "1717bc4c",
   "metadata": {},
   "outputs": [],
   "source": [
    "grp = z4\n",
    "elems = grp.elements\n",
    "n = grp.order"
   ]
  },
  {
   "cell_type": "code",
   "execution_count": 4,
   "id": "144fc2d6",
   "metadata": {},
   "outputs": [
    {
     "data": {
      "text/plain": [
       "[array([[1],\n",
       "        [0],\n",
       "        [0],\n",
       "        [0]]),\n",
       " array([[0],\n",
       "        [1],\n",
       "        [0],\n",
       "        [0]]),\n",
       " array([[0],\n",
       "        [0],\n",
       "        [1],\n",
       "        [0]]),\n",
       " array([[0],\n",
       "        [0],\n",
       "        [0],\n",
       "        [1]])]"
      ]
     },
     "execution_count": 4,
     "metadata": {},
     "output_type": "execute_result"
    }
   ],
   "source": [
    "vecs = [np.zeros((n,1), dtype=int) for _ in range(n)]\n",
    "\n",
    "i = 0\n",
    "for vec in vecs:\n",
    "    vec[i] = 1\n",
    "    i += 1\n",
    "    \n",
    "vecs"
   ]
  },
  {
   "cell_type": "code",
   "execution_count": 5,
   "id": "a696bcc6",
   "metadata": {},
   "outputs": [
    {
     "data": {
      "text/plain": [
       "{'R0': array([[1],\n",
       "        [0],\n",
       "        [0],\n",
       "        [0]]),\n",
       " 'R90': array([[0],\n",
       "        [1],\n",
       "        [0],\n",
       "        [0]]),\n",
       " 'R180': array([[0],\n",
       "        [0],\n",
       "        [1],\n",
       "        [0]]),\n",
       " 'R270': array([[0],\n",
       "        [0],\n",
       "        [0],\n",
       "        [1]])}"
      ]
     },
     "execution_count": 5,
     "metadata": {},
     "output_type": "execute_result"
    }
   ],
   "source": [
    "mapping = dict(zip(grp.elements, vecs))\n",
    "mapping"
   ]
  },
  {
   "cell_type": "code",
   "execution_count": 6,
   "id": "9a340c67",
   "metadata": {},
   "outputs": [
    {
     "data": {
      "text/plain": [
       "{(1, 0, 0, 0): 'R0',\n",
       " (0, 1, 0, 0): 'R90',\n",
       " (0, 0, 1, 0): 'R180',\n",
       " (0, 0, 0, 1): 'R270'}"
      ]
     },
     "execution_count": 6,
     "metadata": {},
     "output_type": "execute_result"
    }
   ],
   "source": [
    "def to_tuple(vec):\n",
    "    '''Turns a column vector into a tuple, for use as a dictionary key.'''\n",
    "    return tuple(map(lambda x: x[0], list(vec)))\n",
    "\n",
    "inv_mapping = {to_tuple(val): key for key, val in mapping.items()}\n",
    "inv_mapping"
   ]
  },
  {
   "cell_type": "code",
   "execution_count": 7,
   "id": "6406d3bc",
   "metadata": {},
   "outputs": [
    {
     "name": "stdout",
     "output_type": "stream",
     "text": [
      "R90\n",
      "[[0]\n",
      " [1]\n",
      " [0]\n",
      " [0]]\n",
      "R90\n"
     ]
    }
   ],
   "source": [
    "def B(elem):\n",
    "    '''Given a group element name, return the corresponding vector.'''\n",
    "    return mapping[elem]\n",
    "\n",
    "def Binv(vec):\n",
    "    '''Given a vector, return the corresponding element.'''\n",
    "    return inv_mapping[to_tuple(vec)]\n",
    "\n",
    "elem = elems[1]\n",
    "vec = B(elem)\n",
    "elem2 = Binv(vec)\n",
    "\n",
    "print(elem)\n",
    "print(vec)\n",
    "print(elem2)"
   ]
  },
  {
   "cell_type": "code",
   "execution_count": 11,
   "id": "0f597cdc",
   "metadata": {},
   "outputs": [
    {
     "name": "stdout",
     "output_type": "stream",
     "text": [
      "R90\n",
      "[[0]\n",
      " [1]\n",
      " [0]\n",
      " [0]]\n",
      "[[0]\n",
      " [0]\n",
      " [1]\n",
      " [0]]\n"
     ]
    }
   ],
   "source": [
    "# k(R)bj = B(f(R, Binv(bj)))\n",
    "\n",
    "j = elems[1]\n",
    "\n",
    "jvec = mapping[j]\n",
    "\n",
    "print(j)\n",
    "print(jvec)\n",
    "print(B(grp.op(j, Binv(jvec))))"
   ]
  },
  {
   "cell_type": "code",
   "execution_count": 13,
   "id": "182720b1",
   "metadata": {},
   "outputs": [],
   "source": [
    "# [B(grp.op(elem, Binv(vec))) for (elem, vec) in zip(elems, vecs)]"
   ]
  },
  {
   "cell_type": "code",
   "execution_count": null,
   "id": "dbb56c9e",
   "metadata": {},
   "outputs": [],
   "source": []
  },
  {
   "cell_type": "code",
   "execution_count": null,
   "id": "7d9a2c2c",
   "metadata": {},
   "outputs": [],
   "source": []
  },
  {
   "cell_type": "code",
   "execution_count": null,
   "id": "68babf27",
   "metadata": {},
   "outputs": [],
   "source": []
  },
  {
   "cell_type": "code",
   "execution_count": null,
   "id": "c63523a4",
   "metadata": {},
   "outputs": [],
   "source": [
    "rot_dict = {\n",
    "    'R0': np.array([[1, 0, 0, 0],\n",
    "                    [0, 1, 0, 0],\n",
    "                    [0, 0, 1, 0],\n",
    "                    [0, 0, 0, 1]]),\n",
    "    'R90': np.array([[0, 0, 0, 1],\n",
    "                     [1, 0, 0, 0],\n",
    "                     [0, 1, 0, 0],\n",
    "                     [0, 0, 1, 0]]),\n",
    "    'R180': np.array([[0, 0, 1, 0],\n",
    "                      [0, 0, 0, 1],\n",
    "                      [1, 0, 0, 0],\n",
    "                      [0, 1, 0, 0]]),\n",
    "    'R270': np.array([[0, 1, 0, 0],\n",
    "                      [0, 0, 1, 0],\n",
    "                      [0, 0, 0, 1],\n",
    "                      [1, 0, 0, 0]])\n",
    "}\n",
    "\n",
    "def k(R):\n",
    "    return rot_dict[R]\n",
    "\n",
    "k('R90')  # Example"
   ]
  }
 ],
 "metadata": {
  "kernelspec": {
   "display_name": "Python 3 (ipykernel)",
   "language": "python",
   "name": "python3"
  },
  "language_info": {
   "codemirror_mode": {
    "name": "ipython",
    "version": 3
   },
   "file_extension": ".py",
   "mimetype": "text/x-python",
   "name": "python",
   "nbconvert_exporter": "python",
   "pygments_lexer": "ipython3",
   "version": "3.11.4"
  }
 },
 "nbformat": 4,
 "nbformat_minor": 5
}
