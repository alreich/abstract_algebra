{
 "cells": [
  {
   "cell_type": "markdown",
   "id": "6ef26608",
   "metadata": {},
   "source": [
    "# Abstract Complex \"Numbers\""
   ]
  },
  {
   "cell_type": "markdown",
   "id": "e96d087c",
   "metadata": {},
   "source": [
    "EXPERIMENTAL: This notebook describes how an arbitrary field can be used to define <i>Abstract Complex \"Numbers\"</i>, and also demonstrates it using finite fields."
   ]
  },
  {
   "cell_type": "markdown",
   "id": "fad4853b",
   "metadata": {},
   "source": [
    "## Discussion"
   ]
  },
  {
   "cell_type": "markdown",
   "id": "befceb5f",
   "metadata": {},
   "source": [
    "If $u, v \\in \\mathbb{R}$, are real numbers, then we often see complex numbers written as, $u + vi$.\n",
    "\n",
    "However, complex numbers can simply be written as tuples, $(u, v) \\in \\mathbb{C}$, without resorting to the use of the symbol, $i$.\n",
    "\n",
    "Since $\\mathbb{R}$ is a field, this suggests that we might replace it with an arbitrary field, $\\mathbb{F}$ and use elements from it to create an abstraction of complex numbers.\n",
    "\n",
    "That is, let $a, b, c, d \\in \\mathbb{F}$, and define $(a, b), (c, d) \\in \\mathbb{C_{\\mathbb{F}}}$ to be <i>\"Abstract Complex Numbers\"</i>.\n",
    "\n",
    "We can then adapt the usual definitions of addition, multiplication, etc. for complex numbers for elements of $\\mathbb{C_{\\mathbb{F}}}$, as shown below:\n",
    "\n",
    "<b>Addition</b>: $(a, b) + (c, d) \\equiv (a + c, b + d)$\n",
    "\n",
    "<b>Subtraction</b>: $(a, b) - (c, d) \\equiv (a - c, b - d)$\n",
    "\n",
    "<b>Multiplication</b>: $(a, b) \\times (c, d) \\equiv (ac - bd, ad + bc)$\n",
    "\n",
    "<b>Scalar Multiplication</b>: $a \\times (c, d) \\equiv (ac, ad)$\n",
    "\n",
    "<b>Negation</b>: $-(a, b) \\equiv (-a, -b)$\n",
    "\n",
    "<b>Conjugation</b>: $\\overline{(a, b)} \\equiv (a, -b)$\n",
    "\n",
    "<b>Squared Absolute Value</b>: $|(a, b)|^2 \\equiv (a, b) \\times \\overline{(a, b)}$\n",
    "\n",
    "<b>Inverses</b>: ${(a, b)}^{-1} \\equiv \\large \\frac{\\overline{(a,b)}}{|(a, b)|^2}$"
   ]
  },
  {
   "cell_type": "markdown",
   "id": "6dae2557",
   "metadata": {},
   "source": [
    "### Spoiler Alert"
   ]
  },
  {
   "cell_type": "markdown",
   "id": "6e25a13c",
   "metadata": {},
   "source": [
    "<b>Even though $\\mathbb{R}$ can be replaced by finite field $\\mathbb{F_n}$, where n is its order, and the arithmetic operations, described above, can be performed.  For the <u>finite</u> algebras tested here, not all of the resulting algebras of abstract complex \"numbers\" are Fields. Some will be Rings. Only the algebras where the order, $n$ of the generating field, $\\mathbb{F_n}$, is a [Gaussian prime](https://mathworld.wolfram.com/GaussianPrime.html) (n = 3, 7, 11, 19, 23, 31, ...) become fields themselves.</b>\n",
    "\n",
    "Specifically, at the end of this notebook, we see that for finite Fields over the integers mod n (n prime between 1 & 31), the corresponding Abstract Complex Algebras will also be Fields only for n = 3, 7, 11, 19, 23, 31, ...; otherwise they are Rings.\n",
    "\n",
    "NOTE: The sequence 3, 7, 11, 19, 23, 31,... are primes of the form 4n + 3, also known as <b>Gaussian primes</b> (sequence [A002145](https://oeis.org/A002145) in the [OEIS](https://en.wikipedia.org/wiki/On-Line_Encyclopedia_of_Integer_Sequences)).  [Also see Wikipedia](https://en.wikipedia.org/wiki/Dirichlet%27s_theorem_on_arithmetic_progressions)"
   ]
  },
  {
   "cell_type": "markdown",
   "id": "0ecfd658",
   "metadata": {},
   "source": [
    "## References"
   ]
  },
  {
   "cell_type": "markdown",
   "id": "d7b1bda9",
   "metadata": {},
   "source": [
    "I'm still looking for relevant references, but for now, this section serves as a place for references that might. be related to this topic:\n",
    "\n",
    "* <i>\"Introduction to finite fields\"</i>, from David Forney's course 6.451 (principles of digital communication) at MIT. [(PDF online)](https://web.stanford.edu/~marykw/classes/CS250_W19/readings/Forney_Introduction_to_Finite_Fields.pdf)\n",
    "* <i>\"Galois: A performant NumPy extension for Galois fields\"</i>, Hostetter, M. (2020). ([Computer software](https://galois.readthedocs.io/en/v0.0.21/index.html))\n",
    "\n",
    "* <i>\"Algebra over a field\"</i>, [Wikipedia](https://en.wikipedia.org/wiki/Algebra_over_a_field)\n",
    "* <i>\"Definitions of a Linear Associative Algebra by Independent Postulates\"</i> by Leonard Eugene Dickson, Transactions of the American Mathematical Society, 1903. [(PDF online)](https://www.ams.org/journals/tran/1903-004-01/S0002-9947-1903-1500620-0/S0002-9947-1903-1500620-0.pdf)\n"
   ]
  },
  {
   "cell_type": "markdown",
   "id": "cfc8369d",
   "metadata": {},
   "source": [
    "## A Field for Testing/Examples"
   ]
  },
  {
   "cell_type": "code",
   "execution_count": 1,
   "id": "8204211b",
   "metadata": {},
   "outputs": [],
   "source": [
    "import finite_algebras as alg\n",
    "# from abstract_complex_number import AbstractComplexNumber"
   ]
  },
  {
   "cell_type": "code",
   "execution_count": 2,
   "id": "fa29bd3f",
   "metadata": {},
   "outputs": [
    {
     "name": "stdout",
     "output_type": "stream",
     "text": [
      "\n",
      "** Field **\n",
      "Name: F7\n",
      "Instance ID: 4639005328\n",
      "Description: Autogenerated Field of integers mod 7\n",
      "Order: 7\n",
      "Identity: '0'\n",
      "Commutative? Yes\n",
      "Cyclic?: Yes\n",
      "  Generators: ['1', '2', '3', '4', '5', '6']\n",
      "Elements:\n",
      "   Index   Name   Inverse  Order\n",
      "      0     '0'     '0'       1\n",
      "      1     '1'     '6'       7\n",
      "      2     '2'     '5'       7\n",
      "      3     '3'     '4'       7\n",
      "      4     '4'     '3'       7\n",
      "      5     '5'     '2'       7\n",
      "      6     '6'     '1'       7\n",
      "Cayley Table (showing indices):\n",
      "[[0, 1, 2, 3, 4, 5, 6],\n",
      " [1, 2, 3, 4, 5, 6, 0],\n",
      " [2, 3, 4, 5, 6, 0, 1],\n",
      " [3, 4, 5, 6, 0, 1, 2],\n",
      " [4, 5, 6, 0, 1, 2, 3],\n",
      " [5, 6, 0, 1, 2, 3, 4],\n",
      " [6, 0, 1, 2, 3, 4, 5]]\n",
      "Mult. Identity: '1'\n",
      "Mult. Commutative? Yes\n",
      "Zero Divisors: None\n",
      "Multiplicative Cayley Table (showing indices):\n",
      "[[0, 0, 0, 0, 0, 0, 0],\n",
      " [0, 1, 2, 3, 4, 5, 6],\n",
      " [0, 2, 4, 6, 1, 3, 5],\n",
      " [0, 3, 6, 2, 5, 1, 4],\n",
      " [0, 4, 1, 5, 2, 6, 3],\n",
      " [0, 5, 3, 1, 6, 4, 2],\n",
      " [0, 6, 5, 4, 3, 2, 1]]\n"
     ]
    }
   ],
   "source": [
    "# Recall, here, all elements are strings that represent abstract symbols, not numbers.\n",
    "# In the call below, elem_name, is set to nothing, '', instead of the default prefix, 'a'.\n",
    "\n",
    "f7 = alg.generate_algebra_mod_n(7, elem_name='')\n",
    "\n",
    "f7.about()"
   ]
  },
  {
   "cell_type": "markdown",
   "id": "e0684e3a",
   "metadata": {},
   "source": [
    "## Abstract Complex \"Number\" Examples"
   ]
  },
  {
   "cell_type": "code",
   "execution_count": 3,
   "id": "bc59da50",
   "metadata": {},
   "outputs": [
    {
     "data": {
      "text/plain": [
       "['0', '1', '2', '3', '4', '5', '6']"
      ]
     },
     "execution_count": 3,
     "metadata": {},
     "output_type": "execute_result"
    }
   ],
   "source": [
    "f7.elements"
   ]
  },
  {
   "cell_type": "code",
   "execution_count": 4,
   "id": "dc245a37",
   "metadata": {},
   "outputs": [],
   "source": [
    "a0 = '0'\n",
    "a1 = '1'\n",
    "a2 = '2'\n",
    "a3 = '3'\n",
    "a4 = '4'\n",
    "a5 = '5'\n",
    "a6 = '6'"
   ]
  },
  {
   "cell_type": "code",
   "execution_count": 5,
   "id": "3ee3f91a",
   "metadata": {},
   "outputs": [
    {
     "data": {
      "text/plain": [
       "('3', '5')"
      ]
     },
     "execution_count": 5,
     "metadata": {},
     "output_type": "execute_result"
    }
   ],
   "source": [
    "a = '3'\n",
    "b = '5'\n",
    "ab = alg.AbstractComplexNumber(a, b, f7)\n",
    "ab"
   ]
  },
  {
   "cell_type": "code",
   "execution_count": 6,
   "id": "e200d880",
   "metadata": {},
   "outputs": [
    {
     "data": {
      "text/plain": [
       "('2', '4')"
      ]
     },
     "execution_count": 6,
     "metadata": {},
     "output_type": "execute_result"
    }
   ],
   "source": [
    "c = '2'\n",
    "d = '4'\n",
    "cd = alg.AbstractComplexNumber(c, d, f7)\n",
    "cd"
   ]
  },
  {
   "cell_type": "markdown",
   "id": "e9080644",
   "metadata": {},
   "source": [
    "<b>Addition</b>: $(a, b) + (c, d) = (a + c, b + d)$"
   ]
  },
  {
   "cell_type": "code",
   "execution_count": 7,
   "id": "a9c6c225",
   "metadata": {},
   "outputs": [
    {
     "data": {
      "text/plain": [
       "('5', '2')"
      ]
     },
     "execution_count": 7,
     "metadata": {},
     "output_type": "execute_result"
    }
   ],
   "source": [
    "ab + cd"
   ]
  },
  {
   "cell_type": "markdown",
   "id": "10313922",
   "metadata": {},
   "source": [
    "Check:"
   ]
  },
  {
   "cell_type": "code",
   "execution_count": 8,
   "id": "256bfbdf",
   "metadata": {},
   "outputs": [
    {
     "name": "stdout",
     "output_type": "stream",
     "text": [
      "(5, 2)\n"
     ]
    }
   ],
   "source": [
    "with alg.Algebra(f7) as x:\n",
    "    print(f\"({x[a] + x[c]}, {x[b] + x[d]})\")"
   ]
  },
  {
   "cell_type": "markdown",
   "id": "37586038",
   "metadata": {},
   "source": [
    "<b>Subtraction</b>: $(a, b) - (c, d) = (a - c, b - d)$"
   ]
  },
  {
   "cell_type": "code",
   "execution_count": 9,
   "id": "407caf70",
   "metadata": {},
   "outputs": [
    {
     "data": {
      "text/plain": [
       "('1', '1')"
      ]
     },
     "execution_count": 9,
     "metadata": {},
     "output_type": "execute_result"
    }
   ],
   "source": [
    "ab - cd"
   ]
  },
  {
   "cell_type": "markdown",
   "id": "2baef818",
   "metadata": {},
   "source": [
    "Check:"
   ]
  },
  {
   "cell_type": "code",
   "execution_count": 10,
   "id": "e24ec060",
   "metadata": {},
   "outputs": [
    {
     "name": "stdout",
     "output_type": "stream",
     "text": [
      "(1, 1)\n"
     ]
    }
   ],
   "source": [
    "with alg.Algebra(f7) as x:\n",
    "    print(f\"({x[a] - x[c]}, {x[b] - x[d]})\")"
   ]
  },
  {
   "cell_type": "markdown",
   "id": "fb1a1e64",
   "metadata": {},
   "source": [
    "<b>Multiplication</b>: $(a, b) \\times (c, d) = (ac - bd, ad + bc)$"
   ]
  },
  {
   "cell_type": "code",
   "execution_count": 11,
   "id": "90ecdd5a",
   "metadata": {},
   "outputs": [
    {
     "data": {
      "text/plain": [
       "('0', '1')"
      ]
     },
     "execution_count": 11,
     "metadata": {},
     "output_type": "execute_result"
    }
   ],
   "source": [
    "ab * cd"
   ]
  },
  {
   "cell_type": "markdown",
   "id": "4d534bea",
   "metadata": {},
   "source": [
    "Check:"
   ]
  },
  {
   "cell_type": "code",
   "execution_count": 12,
   "id": "2830028c",
   "metadata": {},
   "outputs": [
    {
     "name": "stdout",
     "output_type": "stream",
     "text": [
      "(0, 1)\n"
     ]
    }
   ],
   "source": [
    "with alg.Algebra(f7) as x:\n",
    "    print(f\"({x[a]*x[c] - x[b]*x[d]}, {x[a]*x[d] + x[b]*x[c]})\")"
   ]
  },
  {
   "cell_type": "markdown",
   "id": "54d90683",
   "metadata": {},
   "source": [
    "**Example: Negation**"
   ]
  },
  {
   "cell_type": "code",
   "execution_count": 13,
   "id": "27500074",
   "metadata": {},
   "outputs": [
    {
     "name": "stdout",
     "output_type": "stream",
     "text": [
      "('3', '5')\n",
      "('4', '2')\n"
     ]
    }
   ],
   "source": [
    "print(ab)\n",
    "print(-ab)"
   ]
  },
  {
   "cell_type": "markdown",
   "id": "2feb98c0",
   "metadata": {},
   "source": [
    "Check:"
   ]
  },
  {
   "cell_type": "code",
   "execution_count": 14,
   "id": "38014ee4",
   "metadata": {},
   "outputs": [
    {
     "name": "stdout",
     "output_type": "stream",
     "text": [
      "(4, 2)\n"
     ]
    }
   ],
   "source": [
    "with alg.Algebra(f7) as x:\n",
    "    print(f\"({-x[a]}, {-x[b]})\")"
   ]
  },
  {
   "cell_type": "markdown",
   "id": "050bfddb",
   "metadata": {},
   "source": [
    "<b>Conjugation</b>: $\\overline{(a, b)} = (a, -b)$"
   ]
  },
  {
   "cell_type": "code",
   "execution_count": 15,
   "id": "fd60ad7c",
   "metadata": {},
   "outputs": [
    {
     "data": {
      "text/plain": [
       "('3', '2')"
      ]
     },
     "execution_count": 15,
     "metadata": {},
     "output_type": "execute_result"
    }
   ],
   "source": [
    "ab.conj()"
   ]
  },
  {
   "cell_type": "markdown",
   "id": "4876cbce",
   "metadata": {},
   "source": [
    "Check:"
   ]
  },
  {
   "cell_type": "code",
   "execution_count": 16,
   "id": "d19feff2",
   "metadata": {},
   "outputs": [
    {
     "name": "stdout",
     "output_type": "stream",
     "text": [
      "(3, 2)\n"
     ]
    }
   ],
   "source": [
    "with alg.Algebra(f7) as x:\n",
    "    print(f\"({x[a]}, {-x[b]})\")"
   ]
  },
  {
   "cell_type": "markdown",
   "id": "b288b23d",
   "metadata": {},
   "source": [
    "<b>Squared Absolute Value</b>: $|(a, b)|^2 = (a, b) \\times \\overline{(a, b)}$"
   ]
  },
  {
   "cell_type": "code",
   "execution_count": 17,
   "id": "844a47d3",
   "metadata": {},
   "outputs": [
    {
     "data": {
      "text/plain": [
       "'6'"
      ]
     },
     "execution_count": 17,
     "metadata": {},
     "output_type": "execute_result"
    }
   ],
   "source": [
    "ab.sqr_abs_val()"
   ]
  },
  {
   "cell_type": "markdown",
   "id": "43d4cee9",
   "metadata": {},
   "source": [
    "Check:"
   ]
  },
  {
   "cell_type": "code",
   "execution_count": 18,
   "id": "6b66c5e9",
   "metadata": {},
   "outputs": [
    {
     "name": "stdout",
     "output_type": "stream",
     "text": [
      "6\n",
      "True\n"
     ]
    }
   ],
   "source": [
    "y = ab * ab.conj()\n",
    "print(y.real)\n",
    "print(y.imag == f7.zero)"
   ]
  },
  {
   "cell_type": "markdown",
   "id": "caf07df2",
   "metadata": {},
   "source": [
    "<b>Scalar Multiplication</b>: $a \\times (c, d) = (ac, ad)$"
   ]
  },
  {
   "cell_type": "code",
   "execution_count": 19,
   "id": "9077ffe5",
   "metadata": {},
   "outputs": [
    {
     "data": {
      "text/plain": [
       "('6', '5')"
      ]
     },
     "execution_count": 19,
     "metadata": {},
     "output_type": "execute_result"
    }
   ],
   "source": [
    "cd.scalar_mult(a)"
   ]
  },
  {
   "cell_type": "markdown",
   "id": "ad3891c5",
   "metadata": {},
   "source": [
    "Check:"
   ]
  },
  {
   "cell_type": "code",
   "execution_count": 20,
   "id": "730456e2",
   "metadata": {},
   "outputs": [
    {
     "name": "stdout",
     "output_type": "stream",
     "text": [
      "(6, 5)\n"
     ]
    }
   ],
   "source": [
    "with alg.Algebra(f7) as x:\n",
    "    print(f\"({x[a]*x[c]}, {x[a]*x[d]})\")"
   ]
  },
  {
   "cell_type": "markdown",
   "id": "d4b35c93",
   "metadata": {},
   "source": [
    "**Inverses:** ${(a, b)}^{-1} = \\large \\frac{\\overline{(a,b)}}{|(a, b)|^2}$"
   ]
  },
  {
   "cell_type": "code",
   "execution_count": 21,
   "id": "31590842",
   "metadata": {},
   "outputs": [
    {
     "data": {
      "text/plain": [
       "('4', '5')"
      ]
     },
     "execution_count": 21,
     "metadata": {},
     "output_type": "execute_result"
    }
   ],
   "source": [
    "ab.inv()"
   ]
  },
  {
   "cell_type": "markdown",
   "id": "c4fca673",
   "metadata": {},
   "source": [
    "Check:"
   ]
  },
  {
   "cell_type": "code",
   "execution_count": 22,
   "id": "efccec19",
   "metadata": {},
   "outputs": [
    {
     "name": "stdout",
     "output_type": "stream",
     "text": [
      "(1, 0)\n"
     ]
    }
   ],
   "source": [
    "print(f\"({f7.one}, {f7.zero})\")  # (1, 0)"
   ]
  },
  {
   "cell_type": "code",
   "execution_count": 23,
   "id": "9f0ebae5",
   "metadata": {},
   "outputs": [
    {
     "data": {
      "text/plain": [
       "('1', '0')"
      ]
     },
     "execution_count": 23,
     "metadata": {},
     "output_type": "execute_result"
    }
   ],
   "source": [
    "ab * ab.inv()"
   ]
  },
  {
   "cell_type": "code",
   "execution_count": 24,
   "id": "692e3398",
   "metadata": {},
   "outputs": [
    {
     "data": {
      "text/plain": [
       "('1', '0')"
      ]
     },
     "execution_count": 24,
     "metadata": {},
     "output_type": "execute_result"
    }
   ],
   "source": [
    "ab.inv() * ab"
   ]
  },
  {
   "cell_type": "markdown",
   "id": "4800f831",
   "metadata": {},
   "source": [
    "**Example: Equality & Inequality**"
   ]
  },
  {
   "cell_type": "code",
   "execution_count": 25,
   "id": "7018ac4b",
   "metadata": {},
   "outputs": [
    {
     "name": "stdout",
     "output_type": "stream",
     "text": [
      "('3', '5')\n",
      "('2', '4')\n"
     ]
    }
   ],
   "source": [
    "print(ab)\n",
    "print(cd)"
   ]
  },
  {
   "cell_type": "code",
   "execution_count": 26,
   "id": "9c2f1e16",
   "metadata": {},
   "outputs": [
    {
     "data": {
      "text/plain": [
       "False"
      ]
     },
     "execution_count": 26,
     "metadata": {},
     "output_type": "execute_result"
    }
   ],
   "source": [
    "ab == cd"
   ]
  },
  {
   "cell_type": "code",
   "execution_count": 27,
   "id": "94062195",
   "metadata": {},
   "outputs": [
    {
     "data": {
      "text/plain": [
       "True"
      ]
     },
     "execution_count": 27,
     "metadata": {},
     "output_type": "execute_result"
    }
   ],
   "source": [
    "ab != cd"
   ]
  },
  {
   "cell_type": "code",
   "execution_count": 28,
   "id": "af14ef02",
   "metadata": {},
   "outputs": [
    {
     "data": {
      "text/plain": [
       "('3', '5')"
      ]
     },
     "execution_count": 28,
     "metadata": {},
     "output_type": "execute_result"
    }
   ],
   "source": [
    "abx = alg.AbstractComplexNumber(a, b, f7)  # Should be equal to x1\n",
    "abx"
   ]
  },
  {
   "cell_type": "code",
   "execution_count": 29,
   "id": "2491f7e7",
   "metadata": {},
   "outputs": [
    {
     "data": {
      "text/plain": [
       "True"
      ]
     },
     "execution_count": 29,
     "metadata": {},
     "output_type": "execute_result"
    }
   ],
   "source": [
    "ab == abx"
   ]
  },
  {
   "cell_type": "code",
   "execution_count": 30,
   "id": "4e62ca04",
   "metadata": {},
   "outputs": [
    {
     "data": {
      "text/plain": [
       "False"
      ]
     },
     "execution_count": 30,
     "metadata": {},
     "output_type": "execute_result"
    }
   ],
   "source": [
    "ab != abx"
   ]
  },
  {
   "cell_type": "markdown",
   "id": "91d97788",
   "metadata": {},
   "source": [
    "**Example: Division (for Fields only)**"
   ]
  },
  {
   "cell_type": "code",
   "execution_count": 31,
   "id": "579928d5",
   "metadata": {},
   "outputs": [
    {
     "data": {
      "text/plain": [
       "('1', '0')"
      ]
     },
     "execution_count": 31,
     "metadata": {},
     "output_type": "execute_result"
    }
   ],
   "source": [
    "ab / ab"
   ]
  },
  {
   "cell_type": "code",
   "execution_count": 32,
   "id": "bd1fb0f2",
   "metadata": {},
   "outputs": [
    {
     "data": {
      "text/plain": [
       "('2', '2')"
      ]
     },
     "execution_count": 32,
     "metadata": {},
     "output_type": "execute_result"
    }
   ],
   "source": [
    "ab / cd"
   ]
  },
  {
   "cell_type": "code",
   "execution_count": 33,
   "id": "63d72b2d",
   "metadata": {},
   "outputs": [
    {
     "data": {
      "text/plain": [
       "('2', '5')"
      ]
     },
     "execution_count": 33,
     "metadata": {},
     "output_type": "execute_result"
    }
   ],
   "source": [
    "cd / ab"
   ]
  },
  {
   "cell_type": "code",
   "execution_count": 34,
   "id": "6175786b",
   "metadata": {},
   "outputs": [
    {
     "data": {
      "text/plain": [
       "('1', '0')"
      ]
     },
     "execution_count": 34,
     "metadata": {},
     "output_type": "execute_result"
    }
   ],
   "source": [
    "(ab / cd) * (cd / ab)"
   ]
  },
  {
   "cell_type": "markdown",
   "id": "d47660c8",
   "metadata": {},
   "source": [
    "## Create Algebras from Abstract Complex Numbers"
   ]
  },
  {
   "cell_type": "raw",
   "id": "518fe14f",
   "metadata": {},
   "source": [
    "def make_abstract_complex_number_algebra(algebra, name_gen=None, alg_name=None, alg_desc=None):\n",
    "    if not isinstance(algebra, alg.Ring):\n",
    "        raise ValueError(f\"{algebra.name} is not at least a Ring\")\n",
    "    if name_gen is None:\n",
    "        name_gen = lambda x : x.real + \":\" + x.imag\n",
    "    if alg_name is None:\n",
    "        alg_name = algebra.name + \"_ACN\"\n",
    "    if alg_desc is None:\n",
    "        alg_desc = \"Abstract Complex Number Algebra based on \" + algebra.description\n",
    "    elems = [AbstractComplexNumber(a, b, algebra) for a in algebra.elements for b in algebra.elements]\n",
    "    add_table = [[name_gen(u + v) for v in elems] for u in elems]\n",
    "    mul_table = [[name_gen(u * v) for v in elems] for u in elems]\n",
    "    enames = list(map(name_gen, elems))\n",
    "    name_element_map = {name_gen(elem) : elem for elem in elems}\n",
    "    new_alg = alg.make_finite_algebra(alg_name, alg_desc, enames, add_table, mul_table)\n",
    "    return new_alg, name_element_map"
   ]
  },
  {
   "cell_type": "code",
   "execution_count": 35,
   "id": "7c002bd9",
   "metadata": {},
   "outputs": [],
   "source": [
    "f4 = alg.make_finite_algebra('F4',\n",
    "                             'Field with 4 elements (from Wikipedia)',\n",
    "                             ['0', '1', 'a', '1+a'],\n",
    "                             [[0, 1, 2, 3],\n",
    "                              [1, 0, 3, 2],\n",
    "                              [2, 3, 0, 1],\n",
    "                              [3, 2, 1, 0]\n",
    "                             ],\n",
    "                             [[0, 0, 0, 0],\n",
    "                              [0, 1, 2, 3],\n",
    "                              [0, 2, 3, 1],\n",
    "                              [0, 3, 1, 2]\n",
    "                             ]\n",
    "                            )                     \n",
    "# f4.about()"
   ]
  },
  {
   "cell_type": "code",
   "execution_count": 36,
   "id": "8fa76162",
   "metadata": {},
   "outputs": [],
   "source": [
    "cf4, cf4_map = f4.make_abstract_complex_number_algebra()"
   ]
  },
  {
   "cell_type": "code",
   "execution_count": 37,
   "id": "8410e083",
   "metadata": {},
   "outputs": [
    {
     "name": "stdout",
     "output_type": "stream",
     "text": [
      "\n",
      "** Ring **\n",
      "Name: F4_ACN\n",
      "Instance ID: 4639368592\n",
      "Description: Abstract Complex Number Algebra based on Field with 4 elements (from Wikipedia)\n",
      "Order: 16\n",
      "Identity: '0:0'\n",
      "Commutative? Yes\n",
      "Cyclic?: Yes\n",
      "  Generators: ['0:1+a', '0:a', '1+a:1', '1:1+a', '1:a', 'a:1']\n",
      "Elements:\n",
      "   Index   Name   Inverse  Order\n",
      "      0   '0:0'   '0:0'       1\n",
      "      1   '0:1'   '0:1'       2\n",
      "      2   '0:a'   '0:a'       2\n",
      "      3 '0:1+a' '0:1+a'       2\n",
      "      4   '1:0'   '1:0'       2\n",
      "      5   '1:1'   '1:1'       2\n",
      "      6   '1:a'   '1:a'       2\n",
      "      7 '1:1+a' '1:1+a'       2\n",
      "      8   'a:0'   'a:0'       2\n",
      "      9   'a:1'   'a:1'       2\n",
      "     10   'a:a'   'a:a'       2\n",
      "     11 'a:1+a' 'a:1+a'       2\n",
      "     12 '1+a:0' '1+a:0'       2\n",
      "     13 '1+a:1' '1+a:1'       2\n",
      "     14 '1+a:a' '1+a:a'       2\n",
      "     15 '1+a:1+a' '1+a:1+a'       2\n",
      "Cayley Table (showing indices):\n",
      "[[0, 1, 2, 3, 4, 5, 6, 7, 8, 9, 10, 11, 12, 13, 14, 15],\n",
      " [1, 0, 3, 2, 5, 4, 7, 6, 9, 8, 11, 10, 13, 12, 15, 14],\n",
      " [2, 3, 0, 1, 6, 7, 4, 5, 10, 11, 8, 9, 14, 15, 12, 13],\n",
      " [3, 2, 1, 0, 7, 6, 5, 4, 11, 10, 9, 8, 15, 14, 13, 12],\n",
      " [4, 5, 6, 7, 0, 1, 2, 3, 12, 13, 14, 15, 8, 9, 10, 11],\n",
      " [5, 4, 7, 6, 1, 0, 3, 2, 13, 12, 15, 14, 9, 8, 11, 10],\n",
      " [6, 7, 4, 5, 2, 3, 0, 1, 14, 15, 12, 13, 10, 11, 8, 9],\n",
      " [7, 6, 5, 4, 3, 2, 1, 0, 15, 14, 13, 12, 11, 10, 9, 8],\n",
      " [8, 9, 10, 11, 12, 13, 14, 15, 0, 1, 2, 3, 4, 5, 6, 7],\n",
      " [9, 8, 11, 10, 13, 12, 15, 14, 1, 0, 3, 2, 5, 4, 7, 6],\n",
      " [10, 11, 8, 9, 14, 15, 12, 13, 2, 3, 0, 1, 6, 7, 4, 5],\n",
      " [11, 10, 9, 8, 15, 14, 13, 12, 3, 2, 1, 0, 7, 6, 5, 4],\n",
      " [12, 13, 14, 15, 8, 9, 10, 11, 4, 5, 6, 7, 0, 1, 2, 3],\n",
      " [13, 12, 15, 14, 9, 8, 11, 10, 5, 4, 7, 6, 1, 0, 3, 2],\n",
      " [14, 15, 12, 13, 10, 11, 8, 9, 6, 7, 4, 5, 2, 3, 0, 1],\n",
      " [15, 14, 13, 12, 11, 10, 9, 8, 7, 6, 5, 4, 3, 2, 1, 0]]\n",
      "Mult. Identity: '1:0'\n",
      "Mult. Commutative? Yes\n",
      "Zero Divisors: ['1:1', 'a:a', '1+a:1+a']\n",
      "Multiplicative Cayley Table (showing indices):\n",
      "[[0, 0, 0, 0, 0, 0, 0, 0, 0, 0, 0, 0, 0, 0, 0, 0],\n",
      " [0, 4, 8, 12, 1, 5, 9, 13, 2, 6, 10, 14, 3, 7, 11, 15],\n",
      " [0, 8, 12, 4, 2, 10, 14, 6, 3, 11, 15, 7, 1, 9, 13, 5],\n",
      " [0, 12, 4, 8, 3, 15, 7, 11, 1, 13, 5, 9, 2, 14, 6, 10],\n",
      " [0, 1, 2, 3, 4, 5, 6, 7, 8, 9, 10, 11, 12, 13, 14, 15],\n",
      " [0, 5, 10, 15, 5, 0, 15, 10, 10, 15, 0, 5, 15, 10, 5, 0],\n",
      " [0, 9, 14, 7, 6, 15, 8, 1, 11, 2, 5, 12, 13, 4, 3, 10],\n",
      " [0, 13, 6, 11, 7, 10, 1, 12, 9, 4, 15, 2, 14, 3, 8, 5],\n",
      " [0, 2, 3, 1, 8, 10, 11, 9, 12, 14, 15, 13, 4, 6, 7, 5],\n",
      " [0, 6, 11, 13, 9, 15, 2, 4, 14, 8, 5, 3, 7, 1, 12, 10],\n",
      " [0, 10, 15, 5, 10, 0, 5, 15, 15, 5, 0, 10, 5, 15, 10, 0],\n",
      " [0, 14, 7, 9, 11, 5, 12, 2, 13, 3, 10, 4, 6, 8, 1, 15],\n",
      " [0, 3, 1, 2, 12, 15, 13, 14, 4, 7, 5, 6, 8, 11, 9, 10],\n",
      " [0, 7, 9, 14, 13, 10, 4, 3, 6, 1, 15, 8, 11, 12, 2, 5],\n",
      " [0, 11, 13, 6, 14, 5, 3, 8, 7, 12, 10, 1, 9, 2, 4, 15],\n",
      " [0, 15, 5, 10, 15, 0, 10, 5, 5, 10, 0, 15, 10, 5, 15, 0]]\n"
     ]
    }
   ],
   "source": [
    "cf4.about(max_size=16)"
   ]
  },
  {
   "cell_type": "code",
   "execution_count": 38,
   "id": "99795a5a",
   "metadata": {},
   "outputs": [
    {
     "data": {
      "text/plain": [
       "{'0:0': ('0', '0'),\n",
       " '0:1': ('0', '1'),\n",
       " '0:a': ('0', 'a'),\n",
       " '0:1+a': ('0', '1+a'),\n",
       " '1:0': ('1', '0'),\n",
       " '1:1': ('1', '1'),\n",
       " '1:a': ('1', 'a'),\n",
       " '1:1+a': ('1', '1+a'),\n",
       " 'a:0': ('a', '0'),\n",
       " 'a:1': ('a', '1'),\n",
       " 'a:a': ('a', 'a'),\n",
       " 'a:1+a': ('a', '1+a'),\n",
       " '1+a:0': ('1+a', '0'),\n",
       " '1+a:1': ('1+a', '1'),\n",
       " '1+a:a': ('1+a', 'a'),\n",
       " '1+a:1+a': ('1+a', '1+a')}"
      ]
     },
     "execution_count": 38,
     "metadata": {},
     "output_type": "execute_result"
    }
   ],
   "source": [
    "cf4_map"
   ]
  },
  {
   "cell_type": "code",
   "execution_count": 39,
   "id": "e64f1f18",
   "metadata": {},
   "outputs": [
    {
     "name": "stdout",
     "output_type": "stream",
     "text": [
      "CPU times: user 11.8 s, sys: 6.58 ms, total: 11.8 s\n",
      "Wall time: 11.8 s\n"
     ]
    },
    {
     "data": {
      "text/plain": [
       "[Ring(\n",
       " 'F4_ACN_subalgebra_0',\n",
       " 'Subalgebra of: Abstract Complex Number Algebra based on Field with 4 elements (from Wikipedia)',\n",
       " ['0:0', '1:1', 'a:a', '1+a:1+a'],\n",
       " [[0, 1, 2, 3], [1, 0, 3, 2], [2, 3, 0, 1], [3, 2, 1, 0]],\n",
       " [[0, 0, 0, 0], [0, 0, 0, 0], [0, 0, 0, 0], [0, 0, 0, 0]]\n",
       " ),\n",
       " Field(\n",
       " 'F4_ACN_subalgebra_1',\n",
       " 'Subalgebra of: Abstract Complex Number Algebra based on Field with 4 elements (from Wikipedia)',\n",
       " ['0:0', '1:0'],\n",
       " [[0, 1], [1, 0]],\n",
       " [[0, 0], [0, 1]]\n",
       " ),\n",
       " Ring(\n",
       " 'F4_ACN_subalgebra_2',\n",
       " 'Subalgebra of: Abstract Complex Number Algebra based on Field with 4 elements (from Wikipedia)',\n",
       " ['0:0', '1:1'],\n",
       " [[0, 1], [1, 0]],\n",
       " [[0, 0], [0, 0]]\n",
       " ),\n",
       " Ring(\n",
       " 'F4_ACN_subalgebra_3',\n",
       " 'Subalgebra of: Abstract Complex Number Algebra based on Field with 4 elements (from Wikipedia)',\n",
       " ['0:0', '0:1', '1:0', '1:1'],\n",
       " [[0, 1, 2, 3], [1, 0, 3, 2], [2, 3, 0, 1], [3, 2, 1, 0]],\n",
       " [[0, 0, 0, 0], [0, 2, 1, 3], [0, 1, 2, 3], [0, 3, 3, 0]]\n",
       " ),\n",
       " Ring(\n",
       " 'F4_ACN_subalgebra_4',\n",
       " 'Subalgebra of: Abstract Complex Number Algebra based on Field with 4 elements (from Wikipedia)',\n",
       " ['0:0', 'a:a'],\n",
       " [[0, 1], [1, 0]],\n",
       " [[0, 0], [0, 0]]\n",
       " ),\n",
       " Ring(\n",
       " 'F4_ACN_subalgebra_5',\n",
       " 'Subalgebra of: Abstract Complex Number Algebra based on Field with 4 elements (from Wikipedia)',\n",
       " ['0:0', '0:1', '1:0', '1:1', 'a:a', 'a:1+a', '1+a:a', '1+a:1+a'],\n",
       " [[0, 1, 2, 3, 4, 5, 6, 7], [1, 0, 3, 2, 5, 4, 7, 6], [2, 3, 0, 1, 6, 7, 4, 5], [3, 2, 1, 0, 7, 6, 5, 4], [4, 5, 6, 7, 0, 1, 2, 3], [5, 4, 7, 6, 1, 0, 3, 2], [6, 7, 4, 5, 2, 3, 0, 1], [7, 6, 5, 4, 3, 2, 1, 0]],\n",
       " [[0, 0, 0, 0, 0, 0, 0, 0], [0, 2, 1, 3, 4, 6, 5, 7], [0, 1, 2, 3, 4, 5, 6, 7], [0, 3, 3, 0, 0, 3, 3, 0], [0, 4, 4, 0, 0, 4, 4, 0], [0, 6, 5, 3, 4, 2, 1, 7], [0, 5, 6, 3, 4, 1, 2, 7], [0, 7, 7, 0, 0, 7, 7, 0]]\n",
       " ),\n",
       " Ring(\n",
       " 'F4_ACN_subalgebra_6',\n",
       " 'Subalgebra of: Abstract Complex Number Algebra based on Field with 4 elements (from Wikipedia)',\n",
       " ['0:0', '1:0', 'a:a', '1+a:a'],\n",
       " [[0, 1, 2, 3], [1, 0, 3, 2], [2, 3, 0, 1], [3, 2, 1, 0]],\n",
       " [[0, 0, 0, 0], [0, 1, 2, 3], [0, 2, 0, 2], [0, 3, 2, 1]]\n",
       " ),\n",
       " Field(\n",
       " 'F4_ACN_subalgebra_7',\n",
       " 'Subalgebra of: Abstract Complex Number Algebra based on Field with 4 elements (from Wikipedia)',\n",
       " ['0:0', '1:0', 'a:0', '1+a:0'],\n",
       " [[0, 1, 2, 3], [1, 0, 3, 2], [2, 3, 0, 1], [3, 2, 1, 0]],\n",
       " [[0, 0, 0, 0], [0, 1, 2, 3], [0, 2, 3, 1], [0, 3, 1, 2]]\n",
       " ),\n",
       " Ring(\n",
       " 'F4_ACN_subalgebra_8',\n",
       " 'Subalgebra of: Abstract Complex Number Algebra based on Field with 4 elements (from Wikipedia)',\n",
       " ['0:0', '1+a:1+a'],\n",
       " [[0, 1], [1, 0]],\n",
       " [[0, 0], [0, 0]]\n",
       " ),\n",
       " Ring(\n",
       " 'F4_ACN_subalgebra_9',\n",
       " 'Subalgebra of: Abstract Complex Number Algebra based on Field with 4 elements (from Wikipedia)',\n",
       " ['0:0', '1:0', 'a:1+a', '1+a:1+a'],\n",
       " [[0, 1, 2, 3], [1, 0, 3, 2], [2, 3, 0, 1], [3, 2, 1, 0]],\n",
       " [[0, 0, 0, 0], [0, 1, 2, 3], [0, 2, 1, 3], [0, 3, 3, 0]]\n",
       " )]"
      ]
     },
     "execution_count": 39,
     "metadata": {},
     "output_type": "execute_result"
    }
   ],
   "source": [
    "%%time\n",
    "cf4_proper_subs = cf4.proper_subalgebras()\n",
    "cf4_proper_subs"
   ]
  },
  {
   "cell_type": "code",
   "execution_count": 40,
   "id": "d4d26be0",
   "metadata": {},
   "outputs": [
    {
     "name": "stdout",
     "output_type": "stream",
     "text": [
      "\n",
      "Subalgebras of <Ring:F4_ACN, ID:4639368592>\n",
      "  There are 3 unique proper subalgebras, up to isomorphism, out of 10 total subalgebras.\n",
      "  as shown by the partitions below:\n",
      "\n",
      "5 Isomorphic Commutative Normal Rings of order 4 with identity '0:0':\n",
      "      Ring: F4_ACN_subalgebra_0: ['0:0', '1:1', 'a:a', '1+a:1+a']\n",
      "      Ring: F4_ACN_subalgebra_3: ['0:0', '0:1', '1:0', '1:1']\n",
      "      Ring: F4_ACN_subalgebra_6: ['0:0', '1:0', 'a:a', '1+a:a']\n",
      "      Field: F4_ACN_subalgebra_7: ['0:0', '1:0', 'a:0', '1+a:0']\n",
      "      Ring: F4_ACN_subalgebra_9: ['0:0', '1:0', 'a:1+a', '1+a:1+a']\n",
      "\n",
      "4 Isomorphic Commutative Normal Fields of order 2 with identity '0:0':\n",
      "      Field: F4_ACN_subalgebra_1: ['0:0', '1:0']\n",
      "      Ring: F4_ACN_subalgebra_2: ['0:0', '1:1']\n",
      "      Ring: F4_ACN_subalgebra_4: ['0:0', 'a:a']\n",
      "      Ring: F4_ACN_subalgebra_8: ['0:0', '1+a:1+a']\n",
      "\n",
      "1 Commutative Normal Ring of order 8 with identity '0:0':\n",
      "      Ring: F4_ACN_subalgebra_5: ['0:0', '0:1', '1:0', '1:1', 'a:a', 'a:1+a', '1+a:a', '1+a:1+a']\n",
      "\n"
     ]
    }
   ],
   "source": [
    "partitions = alg.partition_into_isomorphic_lists(cf4_proper_subs)\n",
    "\n",
    "alg.about_isomorphic_partitions(cf4, partitions)"
   ]
  },
  {
   "cell_type": "code",
   "execution_count": 41,
   "id": "392babd4",
   "metadata": {},
   "outputs": [
    {
     "name": "stdout",
     "output_type": "stream",
     "text": [
      "\n",
      "** Field **\n",
      "Name: F2\n",
      "Instance ID: 4639527376\n",
      "Description: Autogenerated Field of integers mod 2\n",
      "Order: 2\n",
      "Identity: '0'\n",
      "Commutative? Yes\n",
      "Cyclic?: Yes\n",
      "  Generators: ['1']\n",
      "Elements:\n",
      "   Index   Name   Inverse  Order\n",
      "      0     '0'     '0'       1\n",
      "      1     '1'     '1'       2\n",
      "Cayley Table (showing indices):\n",
      "[[0, 1], [1, 0]]\n",
      "Mult. Identity: '1'\n",
      "Mult. Commutative? Yes\n",
      "Zero Divisors: None\n",
      "Multiplicative Cayley Table (showing indices):\n",
      "[[0, 0], [0, 1]]\n"
     ]
    }
   ],
   "source": [
    "f2 = alg.generate_algebra_mod_n(2, elem_name='')\n",
    "f2.about()"
   ]
  },
  {
   "cell_type": "markdown",
   "id": "09fe8480",
   "metadata": {},
   "source": [
    "Becase 2 is not a Gaussian prime, the Abstract Complex Number algebra generated below using $F_2$ is a Ring."
   ]
  },
  {
   "cell_type": "code",
   "execution_count": 42,
   "id": "640443bd",
   "metadata": {},
   "outputs": [
    {
     "name": "stdout",
     "output_type": "stream",
     "text": [
      "\n",
      "** Ring **\n",
      "Name: F2_ACN\n",
      "Instance ID: 4639533648\n",
      "Description: Abstract Complex Number Algebra based on Autogenerated Field of integers mod 2\n",
      "Order: 4\n",
      "Identity: '0:0'\n",
      "Commutative? Yes\n",
      "Cyclic?: Yes\n",
      "  Generators: ['0:1']\n",
      "Elements:\n",
      "   Index   Name   Inverse  Order\n",
      "      0   '0:0'   '0:0'       1\n",
      "      1   '0:1'   '0:1'       2\n",
      "      2   '1:0'   '1:0'       2\n",
      "      3   '1:1'   '1:1'       2\n",
      "Cayley Table (showing indices):\n",
      "[[0, 1, 2, 3], [1, 0, 3, 2], [2, 3, 0, 1], [3, 2, 1, 0]]\n",
      "Mult. Identity: '1:0'\n",
      "Mult. Commutative? Yes\n",
      "Zero Divisors: ['1:1']\n",
      "Multiplicative Cayley Table (showing indices):\n",
      "[[0, 0, 0, 0], [0, 2, 1, 3], [0, 1, 2, 3], [0, 3, 3, 0]]\n"
     ]
    }
   ],
   "source": [
    "cf2, cf2_map = f2.make_abstract_complex_number_algebra()\n",
    "\n",
    "cf2.about()"
   ]
  },
  {
   "cell_type": "markdown",
   "id": "2ca0aa45",
   "metadata": {},
   "source": [
    "Since 3 is a Gaussian prime, the Abstract Complex Number algebra generated below using $F_3$ is a Field."
   ]
  },
  {
   "cell_type": "code",
   "execution_count": 43,
   "id": "38a36ccc",
   "metadata": {},
   "outputs": [
    {
     "name": "stdout",
     "output_type": "stream",
     "text": [
      "\n",
      "** Field **\n",
      "Name: F3\n",
      "Instance ID: 4639533840\n",
      "Description: Autogenerated Field of integers mod 3\n",
      "Order: 3\n",
      "Identity: '0'\n",
      "Commutative? Yes\n",
      "Cyclic?: Yes\n",
      "  Generators: ['1', '2']\n",
      "Elements:\n",
      "   Index   Name   Inverse  Order\n",
      "      0     '0'     '0'       1\n",
      "      1     '1'     '2'       3\n",
      "      2     '2'     '1'       3\n",
      "Cayley Table (showing indices):\n",
      "[[0, 1, 2], [1, 2, 0], [2, 0, 1]]\n",
      "Mult. Identity: '1'\n",
      "Mult. Commutative? Yes\n",
      "Zero Divisors: None\n",
      "Multiplicative Cayley Table (showing indices):\n",
      "[[0, 0, 0], [0, 1, 2], [0, 2, 1]]\n"
     ]
    }
   ],
   "source": [
    "f3 = alg.generate_algebra_mod_n(3, elem_name='')\n",
    "f3.about()"
   ]
  },
  {
   "cell_type": "code",
   "execution_count": 44,
   "id": "ca38a9b1",
   "metadata": {},
   "outputs": [
    {
     "name": "stdout",
     "output_type": "stream",
     "text": [
      "\n",
      "** Field **\n",
      "Name: F3_ACN\n",
      "Instance ID: 4639551760\n",
      "Description: Abstract Complex Number Algebra based on Autogenerated Field of integers mod 3\n",
      "Order: 9\n",
      "Identity: '0:0'\n",
      "Commutative? Yes\n",
      "Cyclic?: Yes\n",
      "  Generators: ['0:1', '0:2', '1:1', '1:2', '2:1', '2:2']\n",
      "Elements:\n",
      "   Index   Name   Inverse  Order\n",
      "      0   '0:0'   '0:0'       1\n",
      "      1   '0:1'   '0:2'       3\n",
      "      2   '0:2'   '0:1'       3\n",
      "      3   '1:0'   '2:0'       3\n",
      "      4   '1:1'   '2:2'       3\n",
      "      5   '1:2'   '2:1'       3\n",
      "      6   '2:0'   '1:0'       3\n",
      "      7   '2:1'   '1:2'       3\n",
      "      8   '2:2'   '1:1'       3\n",
      "Cayley Table (showing indices):\n",
      "[[0, 1, 2, 3, 4, 5, 6, 7, 8],\n",
      " [1, 2, 0, 4, 5, 3, 7, 8, 6],\n",
      " [2, 0, 1, 5, 3, 4, 8, 6, 7],\n",
      " [3, 4, 5, 6, 7, 8, 0, 1, 2],\n",
      " [4, 5, 3, 7, 8, 6, 1, 2, 0],\n",
      " [5, 3, 4, 8, 6, 7, 2, 0, 1],\n",
      " [6, 7, 8, 0, 1, 2, 3, 4, 5],\n",
      " [7, 8, 6, 1, 2, 0, 4, 5, 3],\n",
      " [8, 6, 7, 2, 0, 1, 5, 3, 4]]\n",
      "Mult. Identity: '1:0'\n",
      "Mult. Commutative? Yes\n",
      "Zero Divisors: None\n",
      "Multiplicative Cayley Table (showing indices):\n",
      "[[0, 0, 0, 0, 0, 0, 0, 0, 0],\n",
      " [0, 6, 3, 1, 7, 4, 2, 8, 5],\n",
      " [0, 3, 6, 2, 5, 8, 1, 4, 7],\n",
      " [0, 1, 2, 3, 4, 5, 6, 7, 8],\n",
      " [0, 7, 5, 4, 2, 6, 8, 3, 1],\n",
      " [0, 4, 8, 5, 6, 1, 7, 2, 3],\n",
      " [0, 2, 1, 6, 8, 7, 3, 5, 4],\n",
      " [0, 8, 4, 7, 3, 2, 5, 1, 6],\n",
      " [0, 5, 7, 8, 1, 3, 4, 6, 2]]\n"
     ]
    }
   ],
   "source": [
    "cf3, cf3_map = f3.make_abstract_complex_number_algebra()\n",
    "\n",
    "cf3.about()"
   ]
  },
  {
   "cell_type": "markdown",
   "id": "69df801d",
   "metadata": {},
   "source": [
    "In the code below, we see that for finite Fields over the integers mod n (n prime between 1 & 20), the corresponding Abstract Complex Algebras will also be Fields only for n = 3, 7, 11, 19; otherwise they are Rings for n = 2, 5, 13, 17."
   ]
  },
  {
   "cell_type": "code",
   "execution_count": 45,
   "id": "47172f8d-a0c9-49fc-809a-c6dc6f35fcbc",
   "metadata": {},
   "outputs": [],
   "source": [
    "import os, json\n",
    "aa_path = os.path.join(os.getenv(\"PYPROJ\"), \"abstract_algebra\")\n",
    "alg_dir = os.path.join(aa_path, \"algebras\")"
   ]
  },
  {
   "cell_type": "markdown",
   "id": "10cd0363",
   "metadata": {},
   "source": [
    "**The cells below have been raw text, so that they are not rerun accidentally (they take a while)**"
   ]
  },
  {
   "cell_type": "code",
   "execution_count": 46,
   "id": "ae00bebf",
   "metadata": {},
   "outputs": [
    {
     "name": "stdout",
     "output_type": "stream",
     "text": [
      "F3_ACN\n",
      "Done\n",
      "CPU times: user 62.7 ms, sys: 1.7 ms, total: 64.4 ms\n",
      "Wall time: 63.3 ms\n"
     ]
    }
   ],
   "source": [
    "%%time\n",
    "# n = 24\n",
    "n = 6\n",
    "print_out = True\n",
    "for i in range(1,n):\n",
    "    if alg.is_prime(i):\n",
    "        fi = alg.generate_algebra_mod_n(i, elem_name='')\n",
    "        cfi, cfi_map = fi.make_abstract_complex_number_algebra()\n",
    "        if isinstance(cfi, alg.Field):\n",
    "            print(cfi.name)\n",
    "            if print_out:\n",
    "                filename = os.path.join(alg_dir, fi.name + \"_ACN_algebra.json\")\n",
    "                with open(filename, \"w\") as out:\n",
    "                    json.dump(cfi.to_dict(), out, indent=4)\n",
    "print(\"Done\")"
   ]
  },
  {
   "cell_type": "raw",
   "id": "1cb8bdd6",
   "metadata": {},
   "source": [
    "F3_ACN\n",
    "F7_ACN\n",
    "F11_ACN\n",
    "F19_ACN\n",
    "F23_ACN\n",
    "Done\n",
    "CPU times: user 6min 42s, sys: 81.7 ms, total: 6min 42s\n",
    "Wall time: 6min 43s"
   ]
  },
  {
   "cell_type": "raw",
   "id": "05304ee5",
   "metadata": {},
   "source": [
    "%%time\n",
    "i = 31\n",
    "fi = alg.generate_algebra_mod_n(i)\n",
    "cfi, _ = make_abstract_complex_number_algebra(fi)\n",
    "print(i, cfi.__class__)\n",
    "\n",
    "# Result\n",
    "# 31 <class 'finite_algebras.Field'>\n",
    "# CPU times: user 27min 3s, sys: 588 ms, total: 27min 3s\n",
    "# Wall time: 27min 6s"
   ]
  },
  {
   "cell_type": "markdown",
   "id": "9988fd48",
   "metadata": {},
   "source": [
    "Here is more of the A002145 sequence of primes of the form 4*k + 3:\n",
    "\n",
    "3, 7, 11, 19, 23, 31, 43, 47, 59, 67, 71, 79, 83, 103, 107, 127, 131, 139, 151, 163, 167, 179, 191, 199, 211, 223, 227, 239, 251, 263, 271, 283, 307, 311, 331, 347, 359, 367, 379, 383, 419, 431, 439, 443, 463, 467, 479, 487, 491, 499, 503, 523, 547, 563, 571, ..."
   ]
  }
 ],
 "metadata": {
  "kernelspec": {
   "display_name": "Python 3 (ipykernel)",
   "language": "python",
   "name": "python3"
  },
  "language_info": {
   "codemirror_mode": {
    "name": "ipython",
    "version": 3
   },
   "file_extension": ".py",
   "mimetype": "text/x-python",
   "name": "python",
   "nbconvert_exporter": "python",
   "pygments_lexer": "ipython3",
   "version": "3.11.5"
  }
 },
 "nbformat": 4,
 "nbformat_minor": 5
}
