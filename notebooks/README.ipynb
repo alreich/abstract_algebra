{
 "cells": [
  {
   "cell_type": "markdown",
   "id": "906c71f8",
   "metadata": {},
   "source": [
    "# Abstract Algebra"
   ]
  },
  {
   "cell_type": "markdown",
   "id": "0db33e83",
   "metadata": {},
   "source": [
    "An experimental implementation of finite groups."
   ]
  },
  {
   "cell_type": "markdown",
   "id": "39301085",
   "metadata": {},
   "source": [
    "For API documentation see: https://abstract-algebra.readthedocs.io/en/latest/index.html"
   ]
  },
  {
   "cell_type": "code",
   "execution_count": 1,
   "id": "397a1d71",
   "metadata": {},
   "outputs": [],
   "source": [
    "import finite_algebras as alg\n",
    "import json\n",
    "import os"
   ]
  },
  {
   "cell_type": "code",
   "execution_count": 2,
   "id": "24d7aa25",
   "metadata": {},
   "outputs": [],
   "source": [
    "# Path to this repo\n",
    "aa_path = os.path.join(os.getenv('PYPROJ'), 'abstract_algebra')\n",
    "\n",
    "# Path to a directory containing Algebra definitions in JSON\n",
    "alg_dir = os.path.join(aa_path, \"Algebras\")"
   ]
  },
  {
   "cell_type": "markdown",
   "id": "821db7bf",
   "metadata": {},
   "source": [
    "## Groups"
   ]
  },
  {
   "cell_type": "markdown",
   "id": "26a7d7a8",
   "metadata": {},
   "source": [
    "### Store Group in JSON format"
   ]
  },
  {
   "cell_type": "code",
   "execution_count": 3,
   "id": "7a3a32fa",
   "metadata": {},
   "outputs": [
    {
     "name": "stdout",
     "output_type": "stream",
     "text": [
      "{\"name\": \"V4\",\r\n",
      " \"description\": \"Klein-4 group\",\r\n",
      " \"elements\": [\"e\", \"h\", \"v\", \"r\"],\r\n",
      " \"table\": [[0, 1, 2, 3],\r\n",
      "           [1, 0, 3, 2],\r\n",
      "           [2, 3, 0, 1],\r\n",
      "           [3, 2, 1, 0]]\r\n",
      "}\r\n"
     ]
    }
   ],
   "source": [
    "# Path to a JSON file that defines the group V4\n",
    "v4_json = os.path.join(alg_dir, \"v4_klein_4_group.json\")\n",
    "\n",
    "!cat {v4_json}"
   ]
  },
  {
   "cell_type": "markdown",
   "id": "02d3c27c",
   "metadata": {},
   "source": [
    "### Read JSON Definition to Instantiate a Group Object"
   ]
  },
  {
   "cell_type": "code",
   "execution_count": 4,
   "id": "ffee46e3",
   "metadata": {},
   "outputs": [
    {
     "data": {
      "text/plain": [
       "Group(\n",
       "V4,\n",
       "Klein-4 group,\n",
       "['e', 'h', 'v', 'r'],\n",
       "[[0, 1, 2, 3], [1, 0, 3, 2], [2, 3, 0, 1], [3, 2, 1, 0]]\n",
       ")"
      ]
     },
     "execution_count": 4,
     "metadata": {},
     "output_type": "execute_result"
    }
   ],
   "source": [
    "v4 = alg.make_finite_algebra(v4_json)\n",
    "v4"
   ]
  },
  {
   "cell_type": "markdown",
   "id": "aaeee2d4",
   "metadata": {},
   "source": [
    "The group can also be created using the Group constuctor."
   ]
  },
  {
   "cell_type": "code",
   "execution_count": 5,
   "id": "b8e96919",
   "metadata": {},
   "outputs": [
    {
     "data": {
      "text/plain": [
       "Group(\n",
       "V4,\n",
       "Another way to construct V4,\n",
       "['e', 'h', 'v', 'hv'],\n",
       "[[0, 1, 2, 3], [1, 0, 3, 2], [2, 3, 0, 1], [3, 2, 1, 0]]\n",
       ")"
      ]
     },
     "execution_count": 5,
     "metadata": {},
     "output_type": "execute_result"
    }
   ],
   "source": [
    "alg.Group('V4',\n",
    "          'Another way to construct V4',\n",
    "          ['e',  'h',  'v', 'hv'],\n",
    "          [[0, 1, 2, 3],\n",
    "           [1, 0, 3, 2],\n",
    "           [2, 3, 0, 1],\n",
    "           [3, 2, 1, 0]]\n",
    "         )"
   ]
  },
  {
   "cell_type": "markdown",
   "id": "e4f3b4f9",
   "metadata": {},
   "source": [
    "And the group can be created from a Python dictionary, but the more general algebra constructor, ``make_finite_algebra``, must be used:"
   ]
  },
  {
   "cell_type": "code",
   "execution_count": 6,
   "id": "402e9a04",
   "metadata": {},
   "outputs": [
    {
     "data": {
      "text/plain": [
       "Group(\n",
       "V4,\n",
       "Yet another way to define V4,\n",
       "['e', 'h', 'v', 'hv'],\n",
       "[[0, 1, 2, 3], [1, 0, 3, 2], [2, 3, 0, 1], [3, 2, 1, 0]]\n",
       ")"
      ]
     },
     "execution_count": 6,
     "metadata": {},
     "output_type": "execute_result"
    }
   ],
   "source": [
    "v4_dict = {'name': 'V4',\n",
    "           'description': 'Yet another way to define V4',\n",
    "           'elements': ['e', 'h', 'v', 'hv'],\n",
    "           'table': [[0, 1, 2, 3], [1, 0, 3, 2], [2, 3, 0, 1], [3, 2, 1, 0]]}\n",
    "\n",
    "alg.make_finite_algebra(v4_dict)"
   ]
  },
  {
   "cell_type": "markdown",
   "id": "0ae2ea46",
   "metadata": {},
   "source": [
    "## Finding \"About\" an Algebra"
   ]
  },
  {
   "cell_type": "markdown",
   "id": "55674619",
   "metadata": {},
   "source": [
    "The method, ``about``, will print information about a finite algebra.\n",
    "\n",
    "By default, ``about`` prints the algebra's Cayley Table as it is represented internally using element indices.  It can be printed, instead, using element names by setting the argument, ``use_table_names``, to ``True``."
   ]
  },
  {
   "cell_type": "code",
   "execution_count": 7,
   "id": "64f0bb77",
   "metadata": {},
   "outputs": [
    {
     "name": "stdout",
     "output_type": "stream",
     "text": [
      "\n",
      "Group: V4\n",
      "Description: Klein-4 group\n",
      "Identity: e\n",
      "Associative? Yes\n",
      "Commutative? Yes\n",
      "Elements:\n",
      "   Index   Name   Inverse  Order\n",
      "      0       e       e       1\n",
      "      1       h       h       2\n",
      "      2       v       v       2\n",
      "      3       r       r       2\n",
      "Cayley Table (showing names):\n",
      "[['e', 'h', 'v', 'r'],\n",
      " ['h', 'e', 'r', 'v'],\n",
      " ['v', 'r', 'e', 'h'],\n",
      " ['r', 'v', 'h', 'e']]\n"
     ]
    }
   ],
   "source": [
    "v4.about(use_table_names=True)"
   ]
  },
  {
   "cell_type": "markdown",
   "id": "90a09dac",
   "metadata": {},
   "source": [
    "## Multiply Group Elements"
   ]
  },
  {
   "cell_type": "markdown",
   "id": "6cf1a62c",
   "metadata": {},
   "source": [
    "Group multiplication operation takes zero or more arguments and returns the product according to the group's multiplication table (mult_table)."
   ]
  },
  {
   "cell_type": "markdown",
   "id": "50820f7c",
   "metadata": {},
   "source": [
    "If no argument is provided, then the group's identity element is returned"
   ]
  },
  {
   "cell_type": "code",
   "execution_count": 8,
   "id": "e76a1ed7",
   "metadata": {},
   "outputs": [
    {
     "data": {
      "text/plain": [
       "'e'"
      ]
     },
     "execution_count": 8,
     "metadata": {},
     "output_type": "execute_result"
    }
   ],
   "source": [
    "v4.op()"
   ]
  },
  {
   "cell_type": "markdown",
   "id": "8e110df2",
   "metadata": {},
   "source": [
    "If one argument is provided, then that argument is returned, assuming it's a valid element name."
   ]
  },
  {
   "cell_type": "code",
   "execution_count": 9,
   "id": "b8f100ac",
   "metadata": {},
   "outputs": [
    {
     "data": {
      "text/plain": [
       "'h'"
      ]
     },
     "execution_count": 9,
     "metadata": {},
     "output_type": "execute_result"
    }
   ],
   "source": [
    "v4.op('h')"
   ]
  },
  {
   "cell_type": "markdown",
   "id": "5ce194af",
   "metadata": {},
   "source": [
    "If the one argument is not a valid element name, then an exception is raised."
   ]
  },
  {
   "cell_type": "code",
   "execution_count": 10,
   "id": "e5ebbff1",
   "metadata": {},
   "outputs": [
    {
     "name": "stdout",
     "output_type": "stream",
     "text": [
      "Caught Error:\n",
      "  FOO is not a valid element name\n"
     ]
    }
   ],
   "source": [
    "try:\n",
    "    v4.op('FOO')\n",
    "except ValueError as err:\n",
    "    print(\"Caught Error:\")\n",
    "    print(f\"  {err}\")"
   ]
  },
  {
   "cell_type": "markdown",
   "id": "107283f0",
   "metadata": {},
   "source": [
    "If two or more arguments are provided, then their combined product is returned:"
   ]
  },
  {
   "cell_type": "code",
   "execution_count": 11,
   "id": "0f94fab1",
   "metadata": {},
   "outputs": [
    {
     "data": {
      "text/plain": [
       "'r'"
      ]
     },
     "execution_count": 11,
     "metadata": {},
     "output_type": "execute_result"
    }
   ],
   "source": [
    "v4.op('h','v')  # h * v"
   ]
  },
  {
   "cell_type": "code",
   "execution_count": 12,
   "id": "9e66f3e5",
   "metadata": {},
   "outputs": [
    {
     "data": {
      "text/plain": [
       "'e'"
      ]
     },
     "execution_count": 12,
     "metadata": {},
     "output_type": "execute_result"
    }
   ],
   "source": [
    "v4.op('h', 'v', 'r')  # h * v * hv"
   ]
  },
  {
   "cell_type": "markdown",
   "id": "baaa7198",
   "metadata": {},
   "source": [
    "### Inverse Elements"
   ]
  },
  {
   "cell_type": "code",
   "execution_count": 13,
   "id": "d85adc41",
   "metadata": {},
   "outputs": [
    {
     "data": {
      "text/plain": [
       "'h'"
      ]
     },
     "execution_count": 13,
     "metadata": {},
     "output_type": "execute_result"
    }
   ],
   "source": [
    "v4.inv('h')"
   ]
  },
  {
   "cell_type": "markdown",
   "id": "a110eff1",
   "metadata": {},
   "source": [
    "That is, $h * h^{-1} = e$"
   ]
  },
  {
   "cell_type": "code",
   "execution_count": 14,
   "id": "4d326df3",
   "metadata": {},
   "outputs": [
    {
     "data": {
      "text/plain": [
       "'e'"
      ]
     },
     "execution_count": 14,
     "metadata": {},
     "output_type": "execute_result"
    }
   ],
   "source": [
    "v4.op('h', v4.inv('h'))"
   ]
  },
  {
   "cell_type": "markdown",
   "id": "d173fcf9",
   "metadata": {},
   "source": [
    "### Check if Abelian"
   ]
  },
  {
   "cell_type": "code",
   "execution_count": 15,
   "id": "63d7a672",
   "metadata": {},
   "outputs": [
    {
     "data": {
      "text/plain": [
       "True"
      ]
     },
     "execution_count": 15,
     "metadata": {},
     "output_type": "execute_result"
    }
   ],
   "source": [
    "v4.is_abelian()"
   ]
  },
  {
   "cell_type": "markdown",
   "id": "31014279",
   "metadata": {},
   "source": [
    "### Check if Associative"
   ]
  },
  {
   "cell_type": "markdown",
   "id": "73ba63bc",
   "metadata": {},
   "source": [
    "NOTE: A group <u>must</u> be is_associative, so this check is done automatically when a group object is instantiated."
   ]
  },
  {
   "cell_type": "code",
   "execution_count": 16,
   "id": "1e6bff6c",
   "metadata": {},
   "outputs": [
    {
     "data": {
      "text/plain": [
       "True"
      ]
     },
     "execution_count": 16,
     "metadata": {},
     "output_type": "execute_result"
    }
   ],
   "source": [
    "v4.is_associative()"
   ]
  },
  {
   "cell_type": "markdown",
   "id": "5a021e23",
   "metadata": {},
   "source": [
    "### Group Generators"
   ]
  },
  {
   "cell_type": "markdown",
   "id": "240b7a1a",
   "metadata": {},
   "source": [
    "For now, there is only one group generator, for cyclic groups of any finite order:"
   ]
  },
  {
   "cell_type": "code",
   "execution_count": 17,
   "id": "377b490e",
   "metadata": {},
   "outputs": [
    {
     "name": "stdout",
     "output_type": "stream",
     "text": [
      "\n",
      "Group: Z7\n",
      "Description: Autogenerated cyclic group of order 7\n",
      "Identity: e\n",
      "Associative? Yes\n",
      "Commutative? Yes\n",
      "Elements:\n",
      "   Index   Name   Inverse  Order\n",
      "      0       e       e       1\n",
      "      1       a     a^6       7\n",
      "      2     a^2     a^5       7\n",
      "      3     a^3     a^4       7\n",
      "      4     a^4     a^3       7\n",
      "      5     a^5     a^2       7\n",
      "      6     a^6       a       7\n",
      "Cayley Table (showing indices):\n",
      "[[0, 1, 2, 3, 4, 5, 6],\n",
      " [1, 2, 3, 4, 5, 6, 0],\n",
      " [2, 3, 4, 5, 6, 0, 1],\n",
      " [3, 4, 5, 6, 0, 1, 2],\n",
      " [4, 5, 6, 0, 1, 2, 3],\n",
      " [5, 6, 0, 1, 2, 3, 4],\n",
      " [6, 0, 1, 2, 3, 4, 5]]\n"
     ]
    }
   ],
   "source": [
    "z7 = alg.generate_cyclic_group(7)\n",
    "z7.about()"
   ]
  },
  {
   "cell_type": "markdown",
   "id": "7a756654",
   "metadata": {},
   "source": [
    "### Derive Direct Product"
   ]
  },
  {
   "cell_type": "markdown",
   "id": "a4b116f2",
   "metadata": {},
   "source": [
    "The usual Python multiplication operator, ``*``, is overloaded for Groups to provide an easy method for computing Direct Products.  Element names are joined in Direct Products using the delimiter, \":\", but that can be changed, if desired.\n",
    "\n",
    "By default, the ``about`` method suppresses table output for Groups of order greater than 12, but than can be overridden, using ``max_size``, as shown below."
   ]
  },
  {
   "cell_type": "code",
   "execution_count": 18,
   "id": "9371e871",
   "metadata": {},
   "outputs": [
    {
     "name": "stdout",
     "output_type": "stream",
     "text": [
      "\n",
      "Group: V4_x_V4\n",
      "Description: Direct product of V4 & V4\n",
      "Identity: e-e\n",
      "Associative? Yes\n",
      "Commutative? Yes\n",
      "Elements:\n",
      "   Index   Name   Inverse  Order\n",
      "      0     e-e     e-e       1\n",
      "      1     e-h     e-h       2\n",
      "      2     e-v     e-v       2\n",
      "      3     e-r     e-r       2\n",
      "      4     h-e     h-e       2\n",
      "      5     h-h     h-h       2\n",
      "      6     h-v     h-v       2\n",
      "      7     h-r     h-r       2\n",
      "      8     v-e     v-e       2\n",
      "      9     v-h     v-h       2\n",
      "     10     v-v     v-v       2\n",
      "     11     v-r     v-r       2\n",
      "     12     r-e     r-e       2\n",
      "     13     r-h     r-h       2\n",
      "     14     r-v     r-v       2\n",
      "     15     r-r     r-r       2\n",
      "Cayley Table (showing indices):\n",
      "[[0, 1, 2, 3, 4, 5, 6, 7, 8, 9, 10, 11, 12, 13, 14, 15],\n",
      " [1, 0, 3, 2, 5, 4, 7, 6, 9, 8, 11, 10, 13, 12, 15, 14],\n",
      " [2, 3, 0, 1, 6, 7, 4, 5, 10, 11, 8, 9, 14, 15, 12, 13],\n",
      " [3, 2, 1, 0, 7, 6, 5, 4, 11, 10, 9, 8, 15, 14, 13, 12],\n",
      " [4, 5, 6, 7, 0, 1, 2, 3, 12, 13, 14, 15, 8, 9, 10, 11],\n",
      " [5, 4, 7, 6, 1, 0, 3, 2, 13, 12, 15, 14, 9, 8, 11, 10],\n",
      " [6, 7, 4, 5, 2, 3, 0, 1, 14, 15, 12, 13, 10, 11, 8, 9],\n",
      " [7, 6, 5, 4, 3, 2, 1, 0, 15, 14, 13, 12, 11, 10, 9, 8],\n",
      " [8, 9, 10, 11, 12, 13, 14, 15, 0, 1, 2, 3, 4, 5, 6, 7],\n",
      " [9, 8, 11, 10, 13, 12, 15, 14, 1, 0, 3, 2, 5, 4, 7, 6],\n",
      " [10, 11, 8, 9, 14, 15, 12, 13, 2, 3, 0, 1, 6, 7, 4, 5],\n",
      " [11, 10, 9, 8, 15, 14, 13, 12, 3, 2, 1, 0, 7, 6, 5, 4],\n",
      " [12, 13, 14, 15, 8, 9, 10, 11, 4, 5, 6, 7, 0, 1, 2, 3],\n",
      " [13, 12, 15, 14, 9, 8, 11, 10, 5, 4, 7, 6, 1, 0, 3, 2],\n",
      " [14, 15, 12, 13, 10, 11, 8, 9, 6, 7, 4, 5, 2, 3, 0, 1],\n",
      " [15, 14, 13, 12, 11, 10, 9, 8, 7, 6, 5, 4, 3, 2, 1, 0]]\n"
     ]
    }
   ],
   "source": [
    "v4.direct_product_delimiter('-')  # Default delimiter is ':'\n",
    "v4_x_v4 = v4 * v4\n",
    "v4_x_v4.about(max_size=16)"
   ]
  },
  {
   "cell_type": "markdown",
   "id": "0def1fed",
   "metadata": {},
   "source": [
    "### Convert to Dictionary"
   ]
  },
  {
   "cell_type": "code",
   "execution_count": 19,
   "id": "f70e4d13",
   "metadata": {},
   "outputs": [
    {
     "data": {
      "text/plain": [
       "{'type': 'Group',\n",
       " 'name': 'V4',\n",
       " 'description': 'Klein-4 group',\n",
       " 'elements': ['e', 'h', 'v', 'r'],\n",
       " 'table': [[0, 1, 2, 3], [1, 0, 3, 2], [2, 3, 0, 1], [3, 2, 1, 0]]}"
      ]
     },
     "execution_count": 19,
     "metadata": {},
     "output_type": "execute_result"
    }
   ],
   "source": [
    "v4.to_dict()"
   ]
  },
  {
   "cell_type": "markdown",
   "id": "6740f372",
   "metadata": {},
   "source": [
    "### Convert to JSON string"
   ]
  },
  {
   "cell_type": "code",
   "execution_count": 20,
   "id": "01ce4244",
   "metadata": {},
   "outputs": [
    {
     "data": {
      "text/plain": [
       "'{\"type\": \"Group\", \"name\": \"V4\", \"description\": \"Klein-4 group\", \"elements\": [\"e\", \"h\", \"v\", \"r\"], \"table\": [[0, 1, 2, 3], [1, 0, 3, 2], [2, 3, 0, 1], [3, 2, 1, 0]]}'"
      ]
     },
     "execution_count": 20,
     "metadata": {},
     "output_type": "execute_result"
    }
   ],
   "source": [
    "v4.dumps()"
   ]
  },
  {
   "cell_type": "markdown",
   "id": "ec7a6167",
   "metadata": {},
   "source": [
    "### Proper Subgroups"
   ]
  },
  {
   "cell_type": "code",
   "execution_count": 21,
   "id": "3687b5d1",
   "metadata": {},
   "outputs": [
    {
     "name": "stdout",
     "output_type": "stream",
     "text": [
      "\n",
      "All 3 of these proper subgroups are, obviously, isomorphic to each other.\n",
      "\n",
      "\n",
      "Group: V4_subgroup_0\n",
      "Description: Subgroup of: Klein-4 group\n",
      "Identity: e\n",
      "Associative? Yes\n",
      "Commutative? Yes\n",
      "Elements:\n",
      "   Index   Name   Inverse  Order\n",
      "      0       e       e       1\n",
      "      1       v       v       2\n",
      "Cayley Table (showing indices):\n",
      "[[0, 1], [1, 0]]\n",
      "\n",
      "--------------------------------------------------\n",
      "\n",
      "Group: V4_subgroup_1\n",
      "Description: Subgroup of: Klein-4 group\n",
      "Identity: e\n",
      "Associative? Yes\n",
      "Commutative? Yes\n",
      "Elements:\n",
      "   Index   Name   Inverse  Order\n",
      "      0       e       e       1\n",
      "      1       h       h       2\n",
      "Cayley Table (showing indices):\n",
      "[[0, 1], [1, 0]]\n",
      "\n",
      "--------------------------------------------------\n",
      "\n",
      "Group: V4_subgroup_2\n",
      "Description: Subgroup of: Klein-4 group\n",
      "Identity: e\n",
      "Associative? Yes\n",
      "Commutative? Yes\n",
      "Elements:\n",
      "   Index   Name   Inverse  Order\n",
      "      0       e       e       1\n",
      "      1       r       r       2\n",
      "Cayley Table (showing indices):\n",
      "[[0, 1], [1, 0]]\n",
      "\n",
      "--------------------------------------------------\n"
     ]
    }
   ],
   "source": [
    "subs = v4.proper_subgroups()\n",
    "\n",
    "print(f\"\\nAll {len(subs)} of these proper subgroups are, obviously, isomorphic to each other.\\n\")\n",
    "\n",
    "for sub in subs:\n",
    "    sub.about()\n",
    "    print(\"\\n\" + \"-\"*50)"
   ]
  },
  {
   "cell_type": "markdown",
   "id": "107b0133",
   "metadata": {},
   "source": [
    "### Resources"
   ]
  },
  {
   "cell_type": "markdown",
   "id": "18eb5284",
   "metadata": {},
   "source": [
    "* <b>Book</b>: [\"Visual Group Theory\" by Nathan Carter](https://bookstore.ams.org/clrm-32)\n",
    "* [Group Explorer](https://nathancarter.github.io/group-explorer/index.html) -- Visualization software for the abstract algebra classroom\n",
    "* [Groupprops, The Group Properties Wiki (beta)](https://groupprops.subwiki.org/wiki/Main_Page)\n",
    "* [GroupNames](https://people.maths.bris.ac.uk/~matyd/GroupNames/index.html) -- \"A database, under construction, of names, extensions, properties and character tables of finite groups of small order.\"\n",
    "* [GAP](https://www.gap-system.org/#:~:text=What%20is%20GAP%3F,data%20libraries%20of%20algebraic%20objects.) -- \"Groups, Algorithms, Programming - a System for Computational Discrete Algebra\"\n",
    "* [Groups of small order](http://www.math.ucsd.edu/~atparris/small_groups.html): Compiled by John Pedersen, Dept of Mathematics, University of South Florida\n",
    "* [List of small groups](https://en.wikipedia.org/wiki/List_of_small_groups): Finite groups of small order up to group isomorphism\n",
    "* [Classification of Groups of Order n ≤ 8 (PDF)](http://www2.lawrence.edu/fast/corrys/Math300/8Groups.pdf)\n",
    "* [Subgroups of Order 4 (PDF)](http://newton.uor.edu/facultyfolder/beery/abstract_algebra/08_SbgrpsOrder4.pdf)\n",
    "* Klein four-group, V4\n",
    "  * [Wikipedia](https://en.wikipedia.org/wiki/Klein_four-group)\n",
    "  * [Group Explorer](https://github.com/nathancarter/group-explorer/blob/master/groups/V_4.group)\n",
    "* Cyclic group\n",
    "  * [Wikipedia](https://en.wikipedia.org/wiki/Cyclic_group)\n",
    "  * [Z4, cyclic group of order 4](https://github.com/nathancarter/group-explorer/blob/master/groups/Z_4.group)\n",
    "* Symmetric group\n",
    "  * [Symmetric group on 3 letters](https://github.com/nathancarter/group-explorer/blob/master/groups/S_3.group). Another name for this group is <i>\"Dihedral group on 3 vertices\"</i>\n",
    "* [Groupoids and Smarandache Groupoids](https://arxiv.org/ftp/math/papers/0304/0304490.pdf) by W. B. Vasantha Kandasamy"
   ]
  },
  {
   "cell_type": "code",
   "execution_count": null,
   "id": "0034c008",
   "metadata": {},
   "outputs": [],
   "source": []
  }
 ],
 "metadata": {
  "kernelspec": {
   "display_name": "Python 3",
   "language": "python",
   "name": "python3"
  },
  "language_info": {
   "codemirror_mode": {
    "name": "ipython",
    "version": 3
   },
   "file_extension": ".py",
   "mimetype": "text/x-python",
   "name": "python",
   "nbconvert_exporter": "python",
   "pygments_lexer": "ipython3",
   "version": "3.7.7"
  }
 },
 "nbformat": 4,
 "nbformat_minor": 5
}
