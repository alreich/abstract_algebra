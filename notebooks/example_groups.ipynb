{
 "cells": [
  {
   "cell_type": "markdown",
   "id": "822f787b",
   "metadata": {},
   "source": [
    "# Example Groups"
   ]
  },
  {
   "cell_type": "markdown",
   "id": "4dcebbfd",
   "metadata": {},
   "source": [
    "I'm using this notebook to implement example groups using the JSON format defined here.\n",
    "\n",
    "Many of these groups were obtained from [Group Explorer](https://nathancarter.github.io/group-explorer/index.html): <i>\"Visualization software for the abstract algebra classroom\".</i>"
   ]
  },
  {
   "cell_type": "code",
   "execution_count": 42,
   "id": "a401f9c6",
   "metadata": {},
   "outputs": [],
   "source": [
    "import json\n",
    "import os\n",
    "import itertools as it\n",
    "\n",
    "import algebras as alg"
   ]
  },
  {
   "cell_type": "markdown",
   "id": "7fdf2f91",
   "metadata": {},
   "source": [
    "## Path Definitions"
   ]
  },
  {
   "cell_type": "code",
   "execution_count": 43,
   "id": "d1626628",
   "metadata": {},
   "outputs": [],
   "source": [
    "# Path to this repo\n",
    "aa_path = os.path.join(os.getenv('PYPROJ'), 'abstract_algebra')\n",
    "\n",
    "# Path to a directory containing Algebra definitions in JSON\n",
    "alg_dir = os.path.join(aa_path, \"Algebras\")"
   ]
  },
  {
   "cell_type": "markdown",
   "id": "efcdd0d2",
   "metadata": {},
   "source": [
    "## Table of Contents"
   ]
  },
  {
   "cell_type": "markdown",
   "id": "739abbe7",
   "metadata": {},
   "source": [
    "* [S3 -- Symmetric Group on 3 Letters](#S3)\n",
    "* [Symmetric Group, S3X (not same as S3, above)](#S3X)\n",
    "* [Z2 (Cyclic Group of Order 2) with Direct Products: Z2_x_Z2 and Z2_x_Z2_x_Z2](#cyclicgroups)\n",
    "* [Z4 -- Cyclic Group of Order 4](#Z4)\n",
    "* [Dihedral Group of Order 6](#dihedralgroup6)\n",
    "* [A4 -- Alternating Group on 4 Letters](#A4)\n",
    "* [D4 -- Dihedral Group on Four Vertices](#D4)\n",
    "* [V4 -- Klein-4 Group](#V4)\n",
    "* [Algebra from Pinter's book, top of page 29](#pinter29)\n",
    "* [Tesseract Group](#tesseract)"
   ]
  },
  {
   "cell_type": "markdown",
   "id": "343741d8",
   "metadata": {},
   "source": [
    "## S3 -- Symmetric Group on 3 Letters<a class=\"anchor\" id=\"S3\"></a>"
   ]
  },
  {
   "cell_type": "markdown",
   "id": "625a9a35",
   "metadata": {},
   "source": [
    "See this [definition at GitHub](https://github.com/nathancarter/group-explorer/blob/master/groups/S_3.group). \"Another name for this group is \"Dihedral group on 3 vertices.\""
   ]
  },
  {
   "cell_type": "code",
   "execution_count": 44,
   "id": "5a866f96",
   "metadata": {},
   "outputs": [
    {
     "name": "stdout",
     "output_type": "stream",
     "text": [
      "{\"type\": \"Group\",\r\n",
      " \"name\": \"S3\",\r\n",
      " \"description\": \"Symmetric group on 3 letters\",\r\n",
      " \"element_names\": [\"e\", \"r\", \"r^2\", \"f\", \"fr\", \"rf\"],\r\n",
      " \"mult_table\": [[0, 1, 2, 3, 4, 5],\r\n",
      "                [1, 2, 0, 5, 3, 4],\r\n",
      "                [2, 0, 1, 4, 5, 3],\r\n",
      "                [3, 4, 5, 0, 1, 2],\r\n",
      "                [4, 5, 3, 2, 0, 1],\r\n",
      "                [5, 3, 4, 1, 2, 0]]\r\n",
      "}\r\n"
     ]
    }
   ],
   "source": [
    "s3_path = os.path.join(alg_dir, \"s3_symmetric_group_on_3_letters.json\")\n",
    "!cat {s3_path}"
   ]
  },
  {
   "cell_type": "code",
   "execution_count": 45,
   "id": "4639610d",
   "metadata": {
    "scrolled": true
   },
   "outputs": [
    {
     "name": "stdout",
     "output_type": "stream",
     "text": [
      "Group('S3',\n",
      "'Symmetric group on 3 letters',\n",
      "['e', 'r', 'r^2', 'f', 'fr', 'rf'],\n",
      "[[0, 1, 2, 3, 4, 5],\n",
      " [1, 2, 0, 5, 3, 4],\n",
      " [2, 0, 1, 4, 5, 3],\n",
      " [3, 4, 5, 0, 1, 2],\n",
      " [4, 5, 3, 2, 0, 1],\n",
      " [5, 3, 4, 1, 2, 0]]\n",
      ")\n",
      "\n",
      "Abelian? False\n"
     ]
    }
   ],
   "source": [
    "s3 = alg.Group(s3_path)\n",
    "s3.pprint()\n",
    "print(f\"\\nAbelian? {s3.abelian()}\")"
   ]
  },
  {
   "cell_type": "markdown",
   "id": "4944fc93",
   "metadata": {},
   "source": [
    "## Symmetric Group, S3X (not same as S3, above)<a class=\"anchor\" id=\"S3X\"></a>"
   ]
  },
  {
   "cell_type": "markdown",
   "id": "04dba646",
   "metadata": {},
   "source": [
    "This is the [Symmetric group, S3, as specified at Groupprops](https://groupprops.subwiki.org/wiki/Symmetric_group:S3)."
   ]
  },
  {
   "cell_type": "code",
   "execution_count": 46,
   "id": "f1db98d8",
   "metadata": {},
   "outputs": [],
   "source": [
    "s3x = alg.Group('S3X',\n",
    "           'Another version of the symmetric group on 3 letters',\n",
    "           ['()', '(1,2)', '(2,3)', '(1,3)', '(1,2,3)', '(1,3,2)'],\n",
    "           [[0, 1, 2, 3, 4, 5],\n",
    "            [1, 0, 4, 5, 2, 3],\n",
    "            [2, 5, 0, 4, 3, 1],\n",
    "            [3, 4, 5, 0, 1, 2],\n",
    "            [4, 3, 1, 2, 5, 0],\n",
    "            [5, 2, 3, 1, 0, 4]]\n",
    "          )"
   ]
  },
  {
   "cell_type": "code",
   "execution_count": 47,
   "id": "5665cc2b",
   "metadata": {},
   "outputs": [
    {
     "name": "stdout",
     "output_type": "stream",
     "text": [
      "Group('S3X',\n",
      "'Another version of the symmetric group on 3 letters',\n",
      "['()', '(1,2)', '(2,3)', '(1,3)', '(1,2,3)', '(1,3,2)'],\n",
      "[[0, 1, 2, 3, 4, 5],\n",
      " [1, 0, 4, 5, 2, 3],\n",
      " [2, 5, 0, 4, 3, 1],\n",
      " [3, 4, 5, 0, 1, 2],\n",
      " [4, 3, 1, 2, 5, 0],\n",
      " [5, 2, 3, 1, 0, 4]]\n",
      ")\n"
     ]
    }
   ],
   "source": [
    "s3x.pprint()"
   ]
  },
  {
   "cell_type": "markdown",
   "id": "952e7ee3",
   "metadata": {},
   "source": [
    "## Z2 (Cyclic Group of Order 2) with Direct Products: Z2_x_Z2 and Z2_x_Z2_x_Z2<a class=\"anchor\" id=\"cyclicgroups\"></a>"
   ]
  },
  {
   "cell_type": "code",
   "execution_count": 48,
   "id": "90c95d06",
   "metadata": {},
   "outputs": [
    {
     "name": "stdout",
     "output_type": "stream",
     "text": [
      "Group('Z2',\n",
      "'Autogenerated cyclic group of order 2',\n",
      "['e', 'a'],\n",
      "[[0, 1], [1, 0]]\n",
      ")\n",
      "\n",
      "Abelian? False\n"
     ]
    }
   ],
   "source": [
    "z2 = alg.generate_cyclic_group(2)\n",
    "z2.pprint()\n",
    "print(f\"\\nAbelian? {s3.abelian()}\")"
   ]
  },
  {
   "cell_type": "code",
   "execution_count": 49,
   "id": "986cb29d",
   "metadata": {},
   "outputs": [
    {
     "name": "stdout",
     "output_type": "stream",
     "text": [
      "Group('Z2_x_Z2',\n",
      "'Direct product of Z2 & Z2',\n",
      "['e:e', 'e:a', 'a:e', 'a:a'],\n",
      "[[0, 1, 2, 3], [1, 0, 3, 2], [2, 3, 0, 1], [3, 2, 1, 0]]\n",
      ")\n",
      "\n",
      "Abelian? False\n"
     ]
    }
   ],
   "source": [
    "z2xz2 = z2 * z2\n",
    "z2xz2.pprint()\n",
    "print(f\"\\nAbelian? {s3.abelian()}\")"
   ]
  },
  {
   "cell_type": "code",
   "execution_count": 50,
   "id": "24484823",
   "metadata": {},
   "outputs": [
    {
     "name": "stdout",
     "output_type": "stream",
     "text": [
      "Group('Z2_x_Z2_x_Z2',\n",
      "'Direct product of Z2_x_Z2 & Z2',\n",
      "['e:e:e', 'e:e:a', 'e:a:e', 'e:a:a', 'a:e:e', 'a:e:a', 'a:a:e', 'a:a:a'],\n",
      "[[0, 1, 2, 3, 4, 5, 6, 7],\n",
      " [1, 0, 3, 2, 5, 4, 7, 6],\n",
      " [2, 3, 0, 1, 6, 7, 4, 5],\n",
      " [3, 2, 1, 0, 7, 6, 5, 4],\n",
      " [4, 5, 6, 7, 0, 1, 2, 3],\n",
      " [5, 4, 7, 6, 1, 0, 3, 2],\n",
      " [6, 7, 4, 5, 2, 3, 0, 1],\n",
      " [7, 6, 5, 4, 3, 2, 1, 0]]\n",
      ")\n",
      "\n",
      "Abelian? False\n"
     ]
    }
   ],
   "source": [
    "z2xz2xz2 = z2 * z2 * z2\n",
    "z2xz2xz2.pprint()\n",
    "print(f\"\\nAbelian? {s3.abelian()}\")"
   ]
  },
  {
   "cell_type": "code",
   "execution_count": 51,
   "id": "d688511d",
   "metadata": {},
   "outputs": [
    {
     "data": {
      "text/plain": [
       "[]"
      ]
     },
     "execution_count": 51,
     "metadata": {},
     "output_type": "execute_result"
    }
   ],
   "source": [
    "z2.proper_subgroups()"
   ]
  },
  {
   "cell_type": "code",
   "execution_count": 52,
   "id": "b08a9233",
   "metadata": {},
   "outputs": [
    {
     "data": {
      "text/plain": [
       "[Group('Z2_x_Z2_subgroup_0',\n",
       " 'Subgroup of: Direct product of Z2 & Z2',\n",
       " ['e:e', 'e:a'],\n",
       " [[0, 1], [1, 0]]) ,\n",
       " Group('Z2_x_Z2_subgroup_1',\n",
       " 'Subgroup of: Direct product of Z2 & Z2',\n",
       " ['e:e', 'a:e'],\n",
       " [[0, 1], [1, 0]]) ,\n",
       " Group('Z2_x_Z2_subgroup_2',\n",
       " 'Subgroup of: Direct product of Z2 & Z2',\n",
       " ['e:e', 'a:a'],\n",
       " [[0, 1], [1, 0]]) ]"
      ]
     },
     "execution_count": 52,
     "metadata": {},
     "output_type": "execute_result"
    }
   ],
   "source": [
    "z2xz2.proper_subgroups()"
   ]
  },
  {
   "cell_type": "code",
   "execution_count": 53,
   "id": "82227026",
   "metadata": {},
   "outputs": [],
   "source": [
    "z2xz2xz2_subgroups = z2xz2xz2.proper_subgroups()"
   ]
  },
  {
   "cell_type": "code",
   "execution_count": 54,
   "id": "0ae1cb79",
   "metadata": {},
   "outputs": [
    {
     "data": {
      "text/plain": [
       "14"
      ]
     },
     "execution_count": 54,
     "metadata": {},
     "output_type": "execute_result"
    }
   ],
   "source": [
    "len(z2xz2xz2_subgroups)"
   ]
  },
  {
   "cell_type": "code",
   "execution_count": 55,
   "id": "d9a42c86",
   "metadata": {},
   "outputs": [
    {
     "data": {
      "text/plain": [
       "[4, 4, 4, 2, 2, 4, 4, 2, 2, 2, 4, 4, 2, 2]"
      ]
     },
     "execution_count": 55,
     "metadata": {},
     "output_type": "execute_result"
    }
   ],
   "source": [
    "[g.order for g in z2xz2xz2_subgroups]"
   ]
  },
  {
   "cell_type": "code",
   "execution_count": 56,
   "id": "d3ba5b55",
   "metadata": {},
   "outputs": [
    {
     "name": "stdout",
     "output_type": "stream",
     "text": [
      "Group('Z2_x_Z2_x_Z2_subgroup_0',\n",
      "'Subgroup of: Direct product of Z2_x_Z2 & Z2',\n",
      "['e:e:e', 'e:a:a', 'a:e:a', 'a:a:e'],\n",
      "[[0, 1, 2, 3], [1, 0, 3, 2], [2, 3, 0, 1], [3, 2, 1, 0]]\n",
      ")\n",
      "Group('Z2_x_Z2_x_Z2_subgroup_1',\n",
      "'Subgroup of: Direct product of Z2_x_Z2 & Z2',\n",
      "['e:e:e', 'e:e:a', 'e:a:e', 'e:a:a'],\n",
      "[[0, 1, 2, 3], [1, 0, 3, 2], [2, 3, 0, 1], [3, 2, 1, 0]]\n",
      ")\n",
      "Group('Z2_x_Z2_x_Z2_subgroup_2',\n",
      "'Subgroup of: Direct product of Z2_x_Z2 & Z2',\n",
      "['e:e:e', 'e:a:a', 'a:e:e', 'a:a:a'],\n",
      "[[0, 1, 2, 3], [1, 0, 3, 2], [2, 3, 0, 1], [3, 2, 1, 0]]\n",
      ")\n",
      "Group('Z2_x_Z2_x_Z2_subgroup_3',\n",
      "'Subgroup of: Direct product of Z2_x_Z2 & Z2',\n",
      "['e:e:e', 'e:a:e'],\n",
      "[[0, 1], [1, 0]]\n",
      ")\n",
      "Group('Z2_x_Z2_x_Z2_subgroup_4',\n",
      "'Subgroup of: Direct product of Z2_x_Z2 & Z2',\n",
      "['e:e:e', 'a:e:a'],\n",
      "[[0, 1], [1, 0]]\n",
      ")\n",
      "Group('Z2_x_Z2_x_Z2_subgroup_5',\n",
      "'Subgroup of: Direct product of Z2_x_Z2 & Z2',\n",
      "['e:e:e', 'e:e:a', 'a:a:e', 'a:a:a'],\n",
      "[[0, 1, 2, 3], [1, 0, 3, 2], [2, 3, 0, 1], [3, 2, 1, 0]]\n",
      ")\n",
      "Group('Z2_x_Z2_x_Z2_subgroup_6',\n",
      "'Subgroup of: Direct product of Z2_x_Z2 & Z2',\n",
      "['e:e:e', 'e:a:e', 'a:e:e', 'a:a:e'],\n",
      "[[0, 1, 2, 3], [1, 0, 3, 2], [2, 3, 0, 1], [3, 2, 1, 0]]\n",
      ")\n",
      "Group('Z2_x_Z2_x_Z2_subgroup_7',\n",
      "'Subgroup of: Direct product of Z2_x_Z2 & Z2',\n",
      "['e:e:e', 'e:e:a'],\n",
      "[[0, 1], [1, 0]]\n",
      ")\n",
      "Group('Z2_x_Z2_x_Z2_subgroup_8',\n",
      "'Subgroup of: Direct product of Z2_x_Z2 & Z2',\n",
      "['e:e:e', 'a:a:a'],\n",
      "[[0, 1], [1, 0]]\n",
      ")\n",
      "Group('Z2_x_Z2_x_Z2_subgroup_9',\n",
      "'Subgroup of: Direct product of Z2_x_Z2 & Z2',\n",
      "['e:e:e', 'a:a:e'],\n",
      "[[0, 1], [1, 0]]\n",
      ")\n",
      "Group('Z2_x_Z2_x_Z2_subgroup_10',\n",
      "'Subgroup of: Direct product of Z2_x_Z2 & Z2',\n",
      "['e:e:e', 'e:e:a', 'a:e:e', 'a:e:a'],\n",
      "[[0, 1, 2, 3], [1, 0, 3, 2], [2, 3, 0, 1], [3, 2, 1, 0]]\n",
      ")\n",
      "Group('Z2_x_Z2_x_Z2_subgroup_11',\n",
      "'Subgroup of: Direct product of Z2_x_Z2 & Z2',\n",
      "['e:e:e', 'e:a:e', 'a:e:a', 'a:a:a'],\n",
      "[[0, 1, 2, 3], [1, 0, 3, 2], [2, 3, 0, 1], [3, 2, 1, 0]]\n",
      ")\n",
      "Group('Z2_x_Z2_x_Z2_subgroup_12',\n",
      "'Subgroup of: Direct product of Z2_x_Z2 & Z2',\n",
      "['e:e:e', 'a:e:e'],\n",
      "[[0, 1], [1, 0]]\n",
      ")\n",
      "Group('Z2_x_Z2_x_Z2_subgroup_13',\n",
      "'Subgroup of: Direct product of Z2_x_Z2 & Z2',\n",
      "['e:e:e', 'e:a:a'],\n",
      "[[0, 1], [1, 0]]\n",
      ")\n"
     ]
    }
   ],
   "source": [
    "subs = z2xz2xz2_subgroups\n",
    "for sub in subs:\n",
    "    sub.pprint()"
   ]
  },
  {
   "cell_type": "markdown",
   "id": "5e6e65fe",
   "metadata": {},
   "source": [
    "## Z4 -- Cyclic Group of Order 4<a class=\"anchor\" id=\"Z4\"></a>"
   ]
  },
  {
   "cell_type": "markdown",
   "id": "1e343aa5",
   "metadata": {},
   "source": [
    "See this [definition at GitHub](https://github.com/nathancarter/group-explorer/blob/master/groups/Z_4.group)."
   ]
  },
  {
   "cell_type": "code",
   "execution_count": 57,
   "id": "20b3a310",
   "metadata": {},
   "outputs": [
    {
     "name": "stdout",
     "output_type": "stream",
     "text": [
      "{\"type\": \"Group\",\r\n",
      " \"name\": \"Z4\",\r\n",
      " \"description\": \"Cyclic group of order 4\",\r\n",
      " \"element_names\": [\"e\", \"a\", \"a^2\", \"a^3\"],\r\n",
      " \"mult_table\": [[0, 1, 2, 3],\r\n",
      "                [1, 2, 3, 0],\r\n",
      "                [2, 3, 0, 1],\r\n",
      "                [3, 0, 1, 2]]\r\n",
      "}\r\n"
     ]
    }
   ],
   "source": [
    "z4_json = os.path.join(alg_dir, \"z4_cyclic_group_of_order_4.json\")\n",
    "!cat {z4_json}"
   ]
  },
  {
   "cell_type": "code",
   "execution_count": 58,
   "id": "be0ff79b",
   "metadata": {},
   "outputs": [
    {
     "name": "stdout",
     "output_type": "stream",
     "text": [
      "Group('Z4',\n",
      "'Cyclic group of order 4',\n",
      "['e', 'a', 'a^2', 'a^3'],\n",
      "[[0, 1, 2, 3], [1, 2, 3, 0], [2, 3, 0, 1], [3, 0, 1, 2]]\n",
      ")\n"
     ]
    }
   ],
   "source": [
    "z4 = alg.Group(z4_json)\n",
    "z4.pprint()"
   ]
  },
  {
   "cell_type": "markdown",
   "id": "3e8892cd",
   "metadata": {},
   "source": [
    "## Dihedral Group of Order 6<a class=\"anchor\" id=\"dihedralgroup6\"></a>"
   ]
  },
  {
   "cell_type": "markdown",
   "id": "31352ab6",
   "metadata": {},
   "source": [
    "[See Wikipedia](https://en.wikipedia.org/wiki/Dihedral_group_of_order_6)"
   ]
  },
  {
   "cell_type": "code",
   "execution_count": 59,
   "id": "a71784f1",
   "metadata": {},
   "outputs": [
    {
     "name": "stdout",
     "output_type": "stream",
     "text": [
      "{\"type\": \"Group\",\r\n",
      " \"name\": \"D3\",\r\n",
      " \"description\": \"https://en.wikipedia.org/wiki/Dihedral_group_of_order_6\",\r\n",
      " \"element_names\": [\"e\", \"a\", \"b\", \"aba\", \"ab\", \"ba\"],\r\n",
      " \"mult_table\": [[0, 1, 2, 3, 4, 5],\r\n",
      "                [1, 0, 4, 5, 2, 3],\r\n",
      "                [2, 5, 0, 4, 3, 1],\r\n",
      "                [3, 4, 5, 0, 1, 2],\r\n",
      "                [4, 3, 1, 2, 5, 0],\r\n",
      "                [5, 2, 3, 1, 0, 4]]\r\n",
      "}"
     ]
    }
   ],
   "source": [
    "d3_path = os.path.join(alg_dir, \"d3_dihedral_group_of_order_6.json\")\n",
    "\n",
    "!cat {d3_path}"
   ]
  },
  {
   "cell_type": "code",
   "execution_count": 60,
   "id": "df485552",
   "metadata": {},
   "outputs": [
    {
     "name": "stdout",
     "output_type": "stream",
     "text": [
      "Group('D3',\n",
      "'https://en.wikipedia.org/wiki/Dihedral_group_of_order_6',\n",
      "['e', 'a', 'b', 'aba', 'ab', 'ba'],\n",
      "[[0, 1, 2, 3, 4, 5],\n",
      " [1, 0, 4, 5, 2, 3],\n",
      " [2, 5, 0, 4, 3, 1],\n",
      " [3, 4, 5, 0, 1, 2],\n",
      " [4, 3, 1, 2, 5, 0],\n",
      " [5, 2, 3, 1, 0, 4]]\n",
      ")\n"
     ]
    }
   ],
   "source": [
    "d3 = alg.Group(d3_path)\n",
    "d3.pprint()"
   ]
  },
  {
   "cell_type": "code",
   "execution_count": 61,
   "id": "9841c811",
   "metadata": {},
   "outputs": [
    {
     "name": "stdout",
     "output_type": "stream",
     "text": [
      "Group('D3_subgroup_0',\n",
      "'Subgroup of: https://en.wikipedia.org/wiki/Dihedral_group_of_order_6',\n",
      "['e', 'aba'],\n",
      "[[0, 1], [1, 0]]\n",
      ")\n",
      "Group('D3_subgroup_1',\n",
      "'Subgroup of: https://en.wikipedia.org/wiki/Dihedral_group_of_order_6',\n",
      "['e', 'a'],\n",
      "[[0, 1], [1, 0]]\n",
      ")\n",
      "Group('D3_subgroup_2',\n",
      "'Subgroup of: https://en.wikipedia.org/wiki/Dihedral_group_of_order_6',\n",
      "['e', 'b'],\n",
      "[[0, 1], [1, 0]]\n",
      ")\n",
      "Group('D3_subgroup_3',\n",
      "'Subgroup of: https://en.wikipedia.org/wiki/Dihedral_group_of_order_6',\n",
      "['e', 'ab', 'ba'],\n",
      "[[0, 1, 2], [1, 2, 0], [2, 0, 1]]\n",
      ")\n"
     ]
    }
   ],
   "source": [
    "subs = d3.proper_subgroups()\n",
    "for sub in subs:\n",
    "    sub.pprint()"
   ]
  },
  {
   "cell_type": "markdown",
   "id": "cb575fc1",
   "metadata": {},
   "source": [
    "## D4 -- Dihedral Group on Four Vertices<a class=\"anchor\" id=\"D4\"></a>"
   ]
  },
  {
   "cell_type": "code",
   "execution_count": 62,
   "id": "4ec3ad60",
   "metadata": {},
   "outputs": [
    {
     "name": "stdout",
     "output_type": "stream",
     "text": [
      "{\"type\": \"Group\",\r\n",
      " \"name\": \"D_4\",\r\n",
      " \"description\": \"Dihedral group on four vertices\",\r\n",
      " \"element_names\": [\"e\", \"r\", \"r^2\", \"r^3\", \"f\", \"fr\", \"r^2f\", \"rf\"],\r\n",
      " \"alt_elem_names\": [\"()\", \"(0 1 2 3)\", \"(0 2)(1 3)\", \"(0 3 2 1)\",\r\n",
      "                    \"(0 1)(2 3)\", \"(1 3)\", \"(0 3)(1 2)\", \"(0 2)\"],\r\n",
      " \"mult_table\": [[0, 1, 2, 3, 4, 5, 6, 7],\r\n",
      "                [1, 2, 3, 0, 7, 4, 5, 6],\r\n",
      "                [2, 3, 0, 1, 6, 7, 4, 5],\r\n",
      "                [3, 0, 1, 2, 5, 6, 7, 4],\r\n",
      "                [4, 5, 6, 7, 0, 1, 2, 3],\r\n",
      "                [5, 6, 7, 4, 3, 0, 1, 2],\r\n",
      "                [6, 7, 4, 5, 2, 3, 0, 1],\r\n",
      "                [7, 4, 5, 6, 1, 2, 3, 0]]\r\n",
      "}"
     ]
    }
   ],
   "source": [
    "d4_path = os.path.join(alg_dir, \"d4_dihedral_group_on_4_vertices.json\")\n",
    "!cat {d4_path}"
   ]
  },
  {
   "cell_type": "code",
   "execution_count": 63,
   "id": "92221b29",
   "metadata": {},
   "outputs": [
    {
     "name": "stdout",
     "output_type": "stream",
     "text": [
      "Group('D_4',\n",
      "'Dihedral group on four vertices',\n",
      "['e', 'r', 'r^2', 'r^3', 'f', 'fr', 'r^2f', 'rf'],\n",
      "[[0, 1, 2, 3, 4, 5, 6, 7],\n",
      " [1, 2, 3, 0, 7, 4, 5, 6],\n",
      " [2, 3, 0, 1, 6, 7, 4, 5],\n",
      " [3, 0, 1, 2, 5, 6, 7, 4],\n",
      " [4, 5, 6, 7, 0, 1, 2, 3],\n",
      " [5, 6, 7, 4, 3, 0, 1, 2],\n",
      " [6, 7, 4, 5, 2, 3, 0, 1],\n",
      " [7, 4, 5, 6, 1, 2, 3, 0]]\n",
      ")\n"
     ]
    }
   ],
   "source": [
    "d4 = alg.Group(d4_path)\n",
    "d4.pprint()"
   ]
  },
  {
   "cell_type": "code",
   "execution_count": 64,
   "id": "37638b04",
   "metadata": {},
   "outputs": [
    {
     "name": "stdout",
     "output_type": "stream",
     "text": [
      "Group('D_4_subgroup_0',\n",
      "'Subgroup of: Dihedral group on four vertices',\n",
      "['e', 'r^2'],\n",
      "[[0, 1], [1, 0]]\n",
      ")\n",
      "Group('D_4_subgroup_1',\n",
      "'Subgroup of: Dihedral group on four vertices',\n",
      "['e', 'f'],\n",
      "[[0, 1], [1, 0]]\n",
      ")\n",
      "Group('D_4_subgroup_2',\n",
      "'Subgroup of: Dihedral group on four vertices',\n",
      "['e', 'rf'],\n",
      "[[0, 1], [1, 0]]\n",
      ")\n",
      "Group('D_4_subgroup_3',\n",
      "'Subgroup of: Dihedral group on four vertices',\n",
      "['e', 'r', 'r^2', 'r^3'],\n",
      "[[0, 1, 2, 3], [1, 2, 3, 0], [2, 3, 0, 1], [3, 0, 1, 2]]\n",
      ")\n",
      "Group('D_4_subgroup_4',\n",
      "'Subgroup of: Dihedral group on four vertices',\n",
      "['e', 'r^2', 'f', 'r^2f'],\n",
      "[[0, 1, 2, 3], [1, 0, 3, 2], [2, 3, 0, 1], [3, 2, 1, 0]]\n",
      ")\n",
      "Group('D_4_subgroup_5',\n",
      "'Subgroup of: Dihedral group on four vertices',\n",
      "['e', 'fr'],\n",
      "[[0, 1], [1, 0]]\n",
      ")\n",
      "Group('D_4_subgroup_6',\n",
      "'Subgroup of: Dihedral group on four vertices',\n",
      "['e', 'r^2', 'fr', 'rf'],\n",
      "[[0, 1, 2, 3], [1, 0, 3, 2], [2, 3, 0, 1], [3, 2, 1, 0]]\n",
      ")\n",
      "Group('D_4_subgroup_7',\n",
      "'Subgroup of: Dihedral group on four vertices',\n",
      "['e', 'r^2f'],\n",
      "[[0, 1], [1, 0]]\n",
      ")\n"
     ]
    }
   ],
   "source": [
    "subs = d4.proper_subgroups()\n",
    "for sub in subs:\n",
    "    sub.pprint()"
   ]
  },
  {
   "cell_type": "markdown",
   "id": "1b4220c3",
   "metadata": {},
   "source": [
    "## A4 -- Alternating Group on 4 Letters<a class=\"anchor\" id=\"A4\"></a>"
   ]
  },
  {
   "cell_type": "code",
   "execution_count": 65,
   "id": "1c349fa4",
   "metadata": {},
   "outputs": [
    {
     "name": "stdout",
     "output_type": "stream",
     "text": [
      "{\"type\": \"Group\",\r\n",
      " \"name\": \"A_4\",\r\n",
      " \"description\": \"Alternating group on 4 letters (AKA Tetrahedral group)\",\r\n",
      " \"element_names\": [\"()\", \"(1 3 2)\", \"(1 2 3)\", \"(0 1)(2 3)\", \"(0 1 2)\", \"(0 1 3)\", \"(0 3 1)\",\r\n",
      "                   \"(0 3 2)\", \"(0 3)(1 2)\", \"(0 2 3)\", \"(0 2 1)\", \"(0 2)(1 3)\"],\r\n",
      " \"mult_table\": [[0, 1, 2, 3, 4, 5, 6, 7, 8, 9, 10, 11],\r\n",
      "                [1, 2, 0, 6, 7, 8, 10, 11, 9, 5, 3, 4],\r\n",
      "                [2, 0, 1, 10, 11, 9, 3, 4, 5, 8, 6, 7],\r\n",
      "                [3, 4, 5, 0, 1, 2, 9, 10, 11, 6, 7, 8],\r\n",
      "                [4, 5, 3, 9, 10, 11, 7, 8, 6, 2, 0, 1],\r\n",
      "                [5, 3, 4, 7, 8, 6, 0, 1, 2, 11, 9, 10],\r\n",
      "                [6, 7, 8, 1, 2, 0, 5, 3, 4, 10, 11, 9],\r\n",
      "                [7, 8, 6, 5, 3, 4, 11, 9, 10, 0, 1, 2],\r\n",
      "                [8, 6, 7, 11, 9, 10, 1, 2, 0, 4, 5, 3],\r\n",
      "                [9, 10, 11, 4, 5, 3, 2, 0, 1, 7, 8, 6],\r\n",
      "                [10, 11, 9, 2, 0, 1, 8, 6, 7, 3, 4, 5],\r\n",
      "                [11, 9, 10, 8, 6, 7, 4, 5, 3, 1, 2, 0]]\r\n",
      "}\r\n"
     ]
    }
   ],
   "source": [
    "a4_path = os.path.join(alg_dir, \"a4_alternating_group_on_4_letters.json\")\n",
    "!cat {a4_path}"
   ]
  },
  {
   "cell_type": "code",
   "execution_count": 66,
   "id": "5dc6b5e6",
   "metadata": {},
   "outputs": [
    {
     "name": "stdout",
     "output_type": "stream",
     "text": [
      "Group('A_4',\n",
      "'Alternating group on 4 letters (AKA Tetrahedral group)',\n",
      "['()', '(1 3 2)', '(1 2 3)', '(0 1)(2 3)', '(0 1 2)', '(0 1 3)', '(0 3 1)', '(0 3 2)', '(0 3)(1 2)', '(0 2 3)', '(0 2 1)', '(0 2)(1 3)'],\n",
      "[[0, 1, 2, 3, 4, 5, 6, 7, 8, 9, 10, 11],\n",
      " [1, 2, 0, 6, 7, 8, 10, 11, 9, 5, 3, 4],\n",
      " [2, 0, 1, 10, 11, 9, 3, 4, 5, 8, 6, 7],\n",
      " [3, 4, 5, 0, 1, 2, 9, 10, 11, 6, 7, 8],\n",
      " [4, 5, 3, 9, 10, 11, 7, 8, 6, 2, 0, 1],\n",
      " [5, 3, 4, 7, 8, 6, 0, 1, 2, 11, 9, 10],\n",
      " [6, 7, 8, 1, 2, 0, 5, 3, 4, 10, 11, 9],\n",
      " [7, 8, 6, 5, 3, 4, 11, 9, 10, 0, 1, 2],\n",
      " [8, 6, 7, 11, 9, 10, 1, 2, 0, 4, 5, 3],\n",
      " [9, 10, 11, 4, 5, 3, 2, 0, 1, 7, 8, 6],\n",
      " [10, 11, 9, 2, 0, 1, 8, 6, 7, 3, 4, 5],\n",
      " [11, 9, 10, 8, 6, 7, 4, 5, 3, 1, 2, 0]]\n",
      ")\n"
     ]
    }
   ],
   "source": [
    "a4 = alg.Group(a4_path)\n",
    "a4.pprint()"
   ]
  },
  {
   "cell_type": "code",
   "execution_count": 67,
   "id": "89e8d65d",
   "metadata": {},
   "outputs": [
    {
     "name": "stdout",
     "output_type": "stream",
     "text": [
      "Group('A_4_subgroup_0',\n",
      "'Subgroup of: Alternating group on 4 letters (AKA Tetrahedral group)',\n",
      "['()', '(0 3)(1 2)'],\n",
      "[[0, 1], [1, 0]]\n",
      ")\n",
      "Group('A_4_subgroup_1',\n",
      "'Subgroup of: Alternating group on 4 letters (AKA Tetrahedral group)',\n",
      "['()', '(0 1 3)', '(0 3 1)'],\n",
      "[[0, 1, 2], [1, 2, 0], [2, 0, 1]]\n",
      ")\n",
      "Group('A_4_subgroup_2',\n",
      "'Subgroup of: Alternating group on 4 letters (AKA Tetrahedral group)',\n",
      "['()', '(1 3 2)', '(1 2 3)'],\n",
      "[[0, 1, 2], [1, 2, 0], [2, 0, 1]]\n",
      ")\n",
      "Group('A_4_subgroup_3',\n",
      "'Subgroup of: Alternating group on 4 letters (AKA Tetrahedral group)',\n",
      "['()', '(0 1)(2 3)', '(0 3)(1 2)', '(0 2)(1 3)'],\n",
      "[[0, 1, 2, 3], [1, 0, 3, 2], [2, 3, 0, 1], [3, 2, 1, 0]]\n",
      ")\n",
      "Group('A_4_subgroup_4',\n",
      "'Subgroup of: Alternating group on 4 letters (AKA Tetrahedral group)',\n",
      "['()', '(0 1 2)', '(0 2 1)'],\n",
      "[[0, 1, 2], [1, 2, 0], [2, 0, 1]]\n",
      ")\n",
      "Group('A_4_subgroup_5',\n",
      "'Subgroup of: Alternating group on 4 letters (AKA Tetrahedral group)',\n",
      "['()', '(0 1)(2 3)'],\n",
      "[[0, 1], [1, 0]]\n",
      ")\n",
      "Group('A_4_subgroup_6',\n",
      "'Subgroup of: Alternating group on 4 letters (AKA Tetrahedral group)',\n",
      "['()', '(0 2)(1 3)'],\n",
      "[[0, 1], [1, 0]]\n",
      ")\n",
      "Group('A_4_subgroup_7',\n",
      "'Subgroup of: Alternating group on 4 letters (AKA Tetrahedral group)',\n",
      "['()', '(0 3 2)', '(0 2 3)'],\n",
      "[[0, 1, 2], [1, 2, 0], [2, 0, 1]]\n",
      ")\n"
     ]
    }
   ],
   "source": [
    "subs = a4.proper_subgroups()\n",
    "for sub in subs:\n",
    "    sub.pprint()"
   ]
  },
  {
   "cell_type": "markdown",
   "id": "b51790d9",
   "metadata": {},
   "source": [
    "## Klein-4 Group<a class=\"anchor\" id=\"V4\"></a>"
   ]
  },
  {
   "cell_type": "markdown",
   "id": "e98252a1",
   "metadata": {},
   "source": [
    "See this [definition at GitHub](https://github.com/nathancarter/group-explorer/blob/master/groups/V_4.group)."
   ]
  },
  {
   "cell_type": "code",
   "execution_count": 68,
   "id": "9569f328",
   "metadata": {},
   "outputs": [
    {
     "name": "stdout",
     "output_type": "stream",
     "text": [
      "{\"type\": \"Group\",\r\n",
      " \"name\": \"V4\",\r\n",
      " \"description\": \"Klein-4 group\",\r\n",
      " \"element_names\": [\"e\", \"h\", \"v\", \"hv\"],\r\n",
      " \"mult_table\": [[0, 1, 2, 3],\r\n",
      "                [1, 0, 3, 2],\r\n",
      "                [2, 3, 0, 1],\r\n",
      "                [3, 2, 1, 0]]\r\n",
      "}\r\n"
     ]
    }
   ],
   "source": [
    "v4_json = os.path.join(alg_dir, \"v4_klein_4_group.json\")\n",
    "!cat {v4_json}"
   ]
  },
  {
   "cell_type": "code",
   "execution_count": 69,
   "id": "2c8d5bda",
   "metadata": {},
   "outputs": [
    {
     "name": "stdout",
     "output_type": "stream",
     "text": [
      "Group('V4',\n",
      "'Klein-4 group',\n",
      "['e', 'h', 'v', 'hv'],\n",
      "[[0, 1, 2, 3], [1, 0, 3, 2], [2, 3, 0, 1], [3, 2, 1, 0]]\n",
      ")\n"
     ]
    }
   ],
   "source": [
    "v4 = alg.Group(v4_json)\n",
    "v4.pprint()"
   ]
  },
  {
   "cell_type": "markdown",
   "id": "b99744d6",
   "metadata": {},
   "source": [
    "## Algebra from Pinter's book, top of page 29<a class=\"anchor\" id=\"pinter29\"></a>"
   ]
  },
  {
   "cell_type": "code",
   "execution_count": 70,
   "id": "cdb54292",
   "metadata": {},
   "outputs": [
    {
     "name": "stdout",
     "output_type": "stream",
     "text": [
      "Group('Non-Abelian_Example',\n",
      "'Example on page 29 of 'A Book of Abstract Algebra' by Charles C. Pinter',\n",
      "['I', 'A', 'B', 'C', 'D', 'K'],\n",
      "[[0, 1, 2, 3, 4, 5],\n",
      " [1, 0, 3, 2, 5, 4],\n",
      " [2, 5, 4, 1, 0, 3],\n",
      " [3, 4, 5, 0, 1, 2],\n",
      " [4, 3, 0, 5, 2, 1],\n",
      " [5, 2, 1, 4, 3, 0]]\n",
      ")\n"
     ]
    }
   ],
   "source": [
    "pinter_p29_path = os.path.join(alg_dir, \"Pinter_page_29.json\")\n",
    "pinter_p29 = alg.Group(pinter_p29_path)\n",
    "pinter_p29.pprint()"
   ]
  },
  {
   "cell_type": "markdown",
   "id": "411b80a4",
   "metadata": {},
   "source": [
    "## Tesseract group<a class=\"anchor\" id=\"tesseract\"></a>"
   ]
  },
  {
   "cell_type": "markdown",
   "id": "f1071ef9",
   "metadata": {},
   "source": [
    "This group has 384 elements and was converted to JSON from [this definition](https://github.com/nathancarter/group-explorer/blob/master/groups/Tesseract.group)."
   ]
  },
  {
   "cell_type": "code",
   "execution_count": 71,
   "id": "21d9a12c",
   "metadata": {},
   "outputs": [
    {
     "name": "stdout",
     "output_type": "stream",
     "text": [
      "<Group: Tesseract, The symmetries of the hypercube>\n"
     ]
    }
   ],
   "source": [
    "tesseract_path = os.path.join(alg_dir, \"tesseract.json\")\n",
    "tesseract = alg.Group(tesseract_path)\n",
    "print(tesseract)"
   ]
  },
  {
   "cell_type": "code",
   "execution_count": 72,
   "id": "240d5e85",
   "metadata": {},
   "outputs": [
    {
     "data": {
      "text/plain": [
       "False"
      ]
     },
     "execution_count": 72,
     "metadata": {},
     "output_type": "execute_result"
    }
   ],
   "source": [
    "tesseract.abelian()"
   ]
  },
  {
   "cell_type": "code",
   "execution_count": 73,
   "id": "1d563e5a",
   "metadata": {},
   "outputs": [],
   "source": [
    "#tesseract.is_associative() # True (WARNING: LONG RUNNING TIME)"
   ]
  },
  {
   "cell_type": "code",
   "execution_count": 74,
   "id": "08f7c595",
   "metadata": {},
   "outputs": [
    {
     "data": {
      "text/plain": [
       "384"
      ]
     },
     "execution_count": 74,
     "metadata": {},
     "output_type": "execute_result"
    }
   ],
   "source": [
    "tesseract.order"
   ]
  },
  {
   "cell_type": "markdown",
   "id": "a3ee3ab2",
   "metadata": {},
   "source": [
    "Here are the first n elements:"
   ]
  },
  {
   "cell_type": "code",
   "execution_count": 75,
   "id": "a8af30d7",
   "metadata": {},
   "outputs": [
    {
     "data": {
      "text/plain": [
       "['e',\n",
       " 'a',\n",
       " 'b',\n",
       " 'ba',\n",
       " 'bb',\n",
       " 'bba',\n",
       " 'ab',\n",
       " 'aba',\n",
       " 'bab',\n",
       " 'baba',\n",
       " 'bbab',\n",
       " 'abababba',\n",
       " 'abb',\n",
       " 'abba',\n",
       " 'babb',\n",
       " 'abababbab',\n",
       " 'ababa',\n",
       " 'abab',\n",
       " 'abbab',\n",
       " 'acabababbac',\n",
       " 'babbab',\n",
       " 'ababbab',\n",
       " 'ababb',\n",
       " 'ababba',\n",
       " 'c']"
      ]
     },
     "execution_count": 75,
     "metadata": {},
     "output_type": "execute_result"
    }
   ],
   "source": [
    "n = 25\n",
    "tesseract.element_names[:n]"
   ]
  },
  {
   "cell_type": "markdown",
   "id": "9fab7714",
   "metadata": {},
   "source": [
    "## Whatever"
   ]
  },
  {
   "cell_type": "code",
   "execution_count": 76,
   "id": "4266242c",
   "metadata": {},
   "outputs": [
    {
     "name": "stdout",
     "output_type": "stream",
     "text": [
      "Group('Whatever',\n",
      "'Experimenting',\n",
      "[['e', 'a', 'b', 'c'],\n",
      " ['a', 'e', 'c', 'b'],\n",
      " ['b', 'c', 'e', 'a'],\n",
      " ['c', 'b', 'a', 'e']]\n",
      ")\n"
     ]
    }
   ],
   "source": [
    "whatever = alg.Group(\"Whatever\",\n",
    "                     \"Experimenting\",\n",
    "                     ['e', 'a', 'b', 'c'],\n",
    "                     [[0, 1, 2, 3],\n",
    "                      [1, 0, 3, 2],\n",
    "                      [2, 3, 0, 1],\n",
    "                      [3, 2, 1, 0]])\n",
    "\n",
    "whatever.pprint(True)"
   ]
  },
  {
   "cell_type": "code",
   "execution_count": 77,
   "id": "cf5e2d4f",
   "metadata": {},
   "outputs": [],
   "source": [
    "foo = [z2xz2, z4, v4]"
   ]
  },
  {
   "cell_type": "code",
   "execution_count": 78,
   "id": "64f11841",
   "metadata": {},
   "outputs": [
    {
     "data": {
      "text/plain": [
       "[{'a': 'e:a', 'b': 'a:e', 'c': 'a:a', 'e': 'e:e'},\n",
       " False,\n",
       " {'a': 'h', 'b': 'v', 'c': 'hv', 'e': 'e'}]"
      ]
     },
     "execution_count": 78,
     "metadata": {},
     "output_type": "execute_result"
    }
   ],
   "source": [
    "[whatever.isomorphic(x) for x in foo]"
   ]
  },
  {
   "cell_type": "code",
   "execution_count": 79,
   "id": "7c8ed6ff",
   "metadata": {},
   "outputs": [
    {
     "data": {
      "text/plain": [
       "Group('Whatever',\n",
       "'Experimenting',\n",
       "['e', 'a', 'b', 'c'],\n",
       "[[0, 1, 2, 3], [1, 0, 3, 2], [2, 3, 0, 1], [3, 2, 1, 0]]) "
      ]
     },
     "execution_count": 79,
     "metadata": {},
     "output_type": "execute_result"
    }
   ],
   "source": [
    "whatever"
   ]
  },
  {
   "cell_type": "code",
   "execution_count": 80,
   "id": "0a9aac79",
   "metadata": {},
   "outputs": [
    {
     "data": {
      "text/plain": [
       "Group('V4',\n",
       "'Klein-4 group',\n",
       "['e', 'h', 'v', 'hv'],\n",
       "[[0, 1, 2, 3], [1, 0, 3, 2], [2, 3, 0, 1], [3, 2, 1, 0]]) "
      ]
     },
     "execution_count": 80,
     "metadata": {},
     "output_type": "execute_result"
    }
   ],
   "source": [
    "v4"
   ]
  },
  {
   "cell_type": "code",
   "execution_count": 81,
   "id": "94ad4260",
   "metadata": {},
   "outputs": [
    {
     "data": {
      "text/plain": [
       "Group('Z2_x_Z2',\n",
       "'Direct product of Z2 & Z2',\n",
       "['e:e', 'e:a', 'a:e', 'a:a'],\n",
       "[[0, 1, 2, 3], [1, 0, 3, 2], [2, 3, 0, 1], [3, 2, 1, 0]]) "
      ]
     },
     "execution_count": 81,
     "metadata": {},
     "output_type": "execute_result"
    }
   ],
   "source": [
    "z2xz2"
   ]
  },
  {
   "cell_type": "code",
   "execution_count": 82,
   "id": "c3696b96",
   "metadata": {},
   "outputs": [
    {
     "data": {
      "text/plain": [
       "Group('Z4',\n",
       "'Cyclic group of order 4',\n",
       "['e', 'a', 'a^2', 'a^3'],\n",
       "[[0, 1, 2, 3], [1, 2, 3, 0], [2, 3, 0, 1], [3, 0, 1, 2]]) "
      ]
     },
     "execution_count": 82,
     "metadata": {},
     "output_type": "execute_result"
    }
   ],
   "source": [
    "z4"
   ]
  },
  {
   "cell_type": "code",
   "execution_count": null,
   "id": "0e67e133",
   "metadata": {},
   "outputs": [],
   "source": []
  }
 ],
 "metadata": {
  "kernelspec": {
   "display_name": "Python 3",
   "language": "python",
   "name": "python3"
  },
  "language_info": {
   "codemirror_mode": {
    "name": "ipython",
    "version": 3
   },
   "file_extension": ".py",
   "mimetype": "text/x-python",
   "name": "python",
   "nbconvert_exporter": "python",
   "pygments_lexer": "ipython3",
   "version": "3.7.7"
  }
 },
 "nbformat": 4,
 "nbformat_minor": 5
}
