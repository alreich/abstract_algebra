{
 "cells": [
  {
   "cell_type": "markdown",
   "id": "6038f4e8",
   "metadata": {},
   "source": [
    "# New Object Hierarchy"
   ]
  },
  {
   "cell_type": "markdown",
   "id": "44a6978c",
   "metadata": {},
   "source": [
    "Version 2"
   ]
  },
  {
   "cell_type": "code",
   "execution_count": 1,
   "id": "c4b0f852",
   "metadata": {},
   "outputs": [],
   "source": [
    "from finite_algebras import *\n",
    "from table_utils import *"
   ]
  },
  {
   "cell_type": "markdown",
   "id": "ba68f0bb",
   "metadata": {},
   "source": [
    "### Magma Examples"
   ]
  },
  {
   "cell_type": "markdown",
   "id": "55eafc1f",
   "metadata": {},
   "source": [
    "#### Rock-Paper-Scisors Magma"
   ]
  },
  {
   "cell_type": "markdown",
   "id": "61b70365",
   "metadata": {},
   "source": [
    "This magma is obviously commutative, but not associative.\n",
    "\n",
    "See https://en.wikipedia.org/wiki/Commutative_magma\n",
    "\n",
    "* $M = \\langle \\{r,p,s\\}, \\cdot \\rangle$\n",
    "* For all $x, y \\in M$, if $x$ *beats* $y$, then $x \\cdot y = y \\cdot x = x$\n",
    "* Also, for all $x \\in M$, $xx = x$"
   ]
  },
  {
   "cell_type": "code",
   "execution_count": 2,
   "id": "df925c4d",
   "metadata": {},
   "outputs": [
    {
     "data": {
      "text/plain": [
       "Magma(\n",
       "['r', 'p', 's'],\n",
       "[[0, 1, 0], [1, 1, 2], [0, 2, 2]]\n",
       ")"
      ]
     },
     "execution_count": 2,
     "metadata": {},
     "output_type": "execute_result"
    }
   ],
   "source": [
    "rps = Magma(['r', 'p', 's'], [[0, 1, 0], [1, 1, 2], [0, 2, 2]])\n",
    "rps"
   ]
  },
  {
   "cell_type": "markdown",
   "id": "0d70259f",
   "metadata": {},
   "source": [
    "The following demonstrates that the rps magma is non-associative:"
   ]
  },
  {
   "cell_type": "code",
   "execution_count": 3,
   "id": "c2e1973f",
   "metadata": {},
   "outputs": [
    {
     "name": "stdout",
     "output_type": "stream",
     "text": [
      "    r(ps) = rs = r, \n",
      "but (rp)s = ps = s\n"
     ]
    }
   ],
   "source": [
    "ps = rps.op('p', 's')\n",
    "rp = rps.op('r', 'p')\n",
    "\n",
    "r_ps = rps.op('r', ps)\n",
    "rp_s = rps.op(rp, 's')\n",
    "\n",
    "print(f\"    r(ps) = r{ps} = {r_ps}, \\nbut (rp)s = {rp}s = {rp_s}\")"
   ]
  },
  {
   "cell_type": "markdown",
   "id": "6c28e882",
   "metadata": {},
   "source": [
    "For other magma examples, [see this discussion](https://math.stackexchange.com/questions/779507/can-you-give-me-some-concrete-examples-of-magmas).  Also, [see this paper on groupiods](https://arxiv.org/ftp/math/papers/0304/0304490.pdf)."
   ]
  },
  {
   "cell_type": "markdown",
   "id": "18b09f7a",
   "metadata": {},
   "source": [
    "#### Smarandache Groupoid"
   ]
  },
  {
   "cell_type": "markdown",
   "id": "d758f857",
   "metadata": {},
   "source": [
    "This is Example 1.4.1 in the paper referenced, above."
   ]
  },
  {
   "cell_type": "code",
   "execution_count": 4,
   "id": "d3368467",
   "metadata": {},
   "outputs": [],
   "source": [
    "ex141_tbl = [[0, 3, 0, 3, 0, 3], [1, 4, 1, 4, 1, 4], [2, 5, 2, 5, 2, 5],\n",
    "             [3, 0, 3, 0, 3, 0], [4, 1, 4, 1, 4, 1], [5, 2, 5, 2, 5, 2]]"
   ]
  },
  {
   "cell_type": "code",
   "execution_count": 5,
   "id": "d2a52cb5",
   "metadata": {},
   "outputs": [
    {
     "data": {
      "text/plain": [
       "Magma(\n",
       "['a', 'b', 'c', 'd', 'e', 'f'],\n",
       "[[0, 3, 0, 3, 0, 3], [1, 4, 1, 4, 1, 4], [2, 5, 2, 5, 2, 5], [3, 0, 3, 0, 3, 0], [4, 1, 4, 1, 4, 1], [5, 2, 5, 2, 5, 2]]\n",
       ")"
      ]
     },
     "execution_count": 5,
     "metadata": {},
     "output_type": "execute_result"
    }
   ],
   "source": [
    "ex141_magma = Magma(['a', 'b', 'c', 'd', 'e', 'f'], ex141_tbl)\n",
    "ex141_magma"
   ]
  },
  {
   "cell_type": "markdown",
   "id": "6db72124",
   "metadata": {},
   "source": [
    "### Testing Magma Methods"
   ]
  },
  {
   "cell_type": "markdown",
   "id": "77a541c3",
   "metadata": {},
   "source": [
    "#### Table and Element Accessors"
   ]
  },
  {
   "cell_type": "code",
   "execution_count": 6,
   "id": "0ba5c56b",
   "metadata": {},
   "outputs": [
    {
     "data": {
      "text/plain": [
       "array([[0, 1, 0],\n",
       "       [1, 1, 2],\n",
       "       [0, 2, 2]])"
      ]
     },
     "execution_count": 6,
     "metadata": {},
     "output_type": "execute_result"
    }
   ],
   "source": [
    "rps.table"
   ]
  },
  {
   "cell_type": "code",
   "execution_count": 7,
   "id": "f19f0d55",
   "metadata": {},
   "outputs": [
    {
     "data": {
      "text/plain": [
       "['r', 'p', 's']"
      ]
     },
     "execution_count": 7,
     "metadata": {},
     "output_type": "execute_result"
    }
   ],
   "source": [
    "rps.elements"
   ]
  },
  {
   "cell_type": "code",
   "execution_count": 8,
   "id": "b1e600f0",
   "metadata": {},
   "outputs": [
    {
     "data": {
      "text/plain": [
       "[['r', 'p', 'r'], ['p', 'p', 's'], ['r', 's', 's']]"
      ]
     },
     "execution_count": 8,
     "metadata": {},
     "output_type": "execute_result"
    }
   ],
   "source": [
    "rps.table_with_names()"
   ]
  },
  {
   "cell_type": "markdown",
   "id": "f16ae81b",
   "metadata": {},
   "source": [
    "#### Magma as an Iterator and Container of Elements"
   ]
  },
  {
   "cell_type": "code",
   "execution_count": 9,
   "id": "e6af42d8",
   "metadata": {},
   "outputs": [
    {
     "data": {
      "text/plain": [
       "['r', 'p', 's']"
      ]
     },
     "execution_count": 9,
     "metadata": {},
     "output_type": "execute_result"
    }
   ],
   "source": [
    "[el for el in rps]"
   ]
  },
  {
   "cell_type": "code",
   "execution_count": 10,
   "id": "e37da0bd",
   "metadata": {},
   "outputs": [
    {
     "data": {
      "text/plain": [
       "True"
      ]
     },
     "execution_count": 10,
     "metadata": {},
     "output_type": "execute_result"
    }
   ],
   "source": [
    "'r' in rps"
   ]
  },
  {
   "cell_type": "markdown",
   "id": "1ee10bdd",
   "metadata": {},
   "source": [
    "#### Replacing (\"Setting\") Element Names"
   ]
  },
  {
   "cell_type": "code",
   "execution_count": 11,
   "id": "e74763b3",
   "metadata": {},
   "outputs": [
    {
     "data": {
      "text/plain": [
       "Magma(\n",
       "['rock', 'paper', 'scissors'],\n",
       "[[0, 1, 0], [1, 1, 2], [0, 2, 2]]\n",
       ")"
      ]
     },
     "execution_count": 11,
     "metadata": {},
     "output_type": "execute_result"
    }
   ],
   "source": [
    "full_names = ['rock', 'paper', 'scissors']\n",
    "rps.set_elements(full_names)"
   ]
  },
  {
   "cell_type": "code",
   "execution_count": 12,
   "id": "e3a3c815",
   "metadata": {},
   "outputs": [
    {
     "name": "stdout",
     "output_type": "stream",
     "text": [
      "{'rock': 'r', 'paper': 'p', 'scissors': 's'}\n"
     ]
    },
    {
     "data": {
      "text/plain": [
       "Magma(\n",
       "['r', 'p', 's'],\n",
       "[[0, 1, 0], [1, 1, 2], [0, 2, 2]]\n",
       ")"
      ]
     },
     "execution_count": 12,
     "metadata": {},
     "output_type": "execute_result"
    }
   ],
   "source": [
    "orig_elems = ['r', 'p', 's']\n",
    "mapping = dict(zip(rps.elements, orig_elems))\n",
    "print(mapping)\n",
    "rps.set_elements(orig_elems)"
   ]
  },
  {
   "cell_type": "markdown",
   "id": "41383f95",
   "metadata": {},
   "source": [
    "### Testing Table Utilities"
   ]
  },
  {
   "cell_type": "code",
   "execution_count": 13,
   "id": "3d75540c",
   "metadata": {},
   "outputs": [],
   "source": [
    "# not assoc; is comm; no identities -- the RPS magma table, above\n",
    "tbl1 = [[0, 1, 0], [1, 1, 2], [0, 2, 2]]\n",
    "\n",
    "# is assoc; not comm; has identity (0) --- the S3 group table\n",
    "tbl2 = [[0, 1, 2, 3, 4, 5], [1, 2, 0, 5, 3, 4], [2, 0, 1, 4, 5, 3],\n",
    "        [3, 4, 5, 0, 1, 2], [4, 5, 3, 2, 0, 1], [5, 3, 4, 1, 2, 0]]\n",
    "\n",
    "# is assoc; is comm; has identity (0) --- the Z4 group table\n",
    "tbl3 = [[0, 1, 2, 3], [1, 2, 3, 0], [2, 3, 0, 1], [3, 0, 1, 2]]\n",
    "\n",
    "# is assoc; is comm; has identity (0) --- powerset(3) group table\n",
    "tbl4 = [[0, 1, 2, 3, 4, 5, 6, 7], [1, 0, 4, 5, 2, 3, 7, 6], [2, 4, 0, 6, 1, 7, 3, 5],\n",
    "        [3, 5, 6, 0, 7, 1, 2, 4], [4, 2, 1, 7, 0, 6, 5, 3], [5, 3, 7, 1, 6, 0, 4, 2],\n",
    "        [6, 7, 3, 2, 5, 4, 0, 1], [7, 6, 5, 4, 3, 2, 1, 0]]\n",
    "\n",
    "# is assoc; is not comm; no left id; has right id --- Smarandache Groupoid (see above)\n",
    "tbl5 = ex141_tbl\n",
    "\n",
    "test_tables = [tbl1, tbl2, tbl3, tbl4, tbl5]"
   ]
  },
  {
   "cell_type": "code",
   "execution_count": 14,
   "id": "91a65e53",
   "metadata": {},
   "outputs": [
    {
     "name": "stdout",
     "output_type": "stream",
     "text": [
      "   Table  Associative?  Commutative?  Left Id?  Right Id?  Identity?\n",
      "---------------------------------------------------------------------------\n",
      "     1       False         True         None      None       None\n",
      "     2        True        False            0         0          0\n",
      "     3        True         True            0         0          0\n",
      "     4        True         True            0         0          0\n",
      "     5        True        False         None         0       None\n"
     ]
    }
   ],
   "source": [
    "print(\"   Table  Associative?  Commutative?  Left Id?  Right Id?  Identity?\")\n",
    "print('-' * 75)\n",
    "for tbl in test_tables:\n",
    "    i = test_tables.index(tbl) + 1\n",
    "    is_assoc = str(is_associative(tbl))\n",
    "    is_comm = str(is_commutative(tbl))\n",
    "    lft_id = str(has_left_identity(tbl))\n",
    "    rgt_id = str(has_right_identity(tbl))\n",
    "    ident = str(has_identity(tbl))\n",
    "    print(f\"{i :>{6}} {is_assoc :>{11}} {is_comm :>{12}} {lft_id :>{12}} {rgt_id :>{9}} {ident :>{10}}\")"
   ]
  },
  {
   "cell_type": "code",
   "execution_count": 15,
   "id": "5d318451",
   "metadata": {},
   "outputs": [
    {
     "data": {
      "text/plain": [
       "array([[0, 3, 0, 3, 0, 3],\n",
       "       [1, 4, 1, 4, 1, 4],\n",
       "       [2, 5, 2, 5, 2, 5],\n",
       "       [3, 0, 3, 0, 3, 0],\n",
       "       [4, 1, 4, 1, 4, 1],\n",
       "       [5, 2, 5, 2, 5, 2]])"
      ]
     },
     "execution_count": 15,
     "metadata": {},
     "output_type": "execute_result"
    }
   ],
   "source": [
    "np.array(tbl5)"
   ]
  },
  {
   "cell_type": "code",
   "execution_count": 32,
   "id": "3247978a",
   "metadata": {},
   "outputs": [
    {
     "data": {
      "text/plain": [
       "[(0, 0), (0, 2), (0, 4), (3, 1), (3, 3), (3, 5)]"
      ]
     },
     "execution_count": 32,
     "metadata": {},
     "output_type": "execute_result"
    }
   ],
   "source": [
    "table = np.array(tbl5)\n",
    "id = 0\n",
    "row_indices, col_indices = np.where(table == id)\n",
    "list(zip(row_indices, col_indices))"
   ]
  },
  {
   "cell_type": "markdown",
   "id": "655219bd",
   "metadata": {},
   "source": [
    "From the list of pairs, above, we see the following:\n",
    "* 0 is a left-inverse of 3 other elements: 0, 2, & 4\n",
    "* 3 is also a left-inverse of 3 other elements: 1, 3, & 5\n",
    "* 3 also has 3 right-inverses: 1, 3, & 5"
   ]
  },
  {
   "cell_type": "code",
   "execution_count": 47,
   "id": "2d91a198",
   "metadata": {},
   "outputs": [
    {
     "name": "stdout",
     "output_type": "stream",
     "text": [
      "False\n",
      "False\n"
     ]
    }
   ],
   "source": [
    "table = np.array(tbl5)\n",
    "id = 0\n",
    "row_indices, col_indices = np.where(table == id)\n",
    "print(set(row_indices) == set(col_indices))\n",
    "print(len(set(row_indices)) == len(table))"
   ]
  },
  {
   "cell_type": "code",
   "execution_count": 18,
   "id": "e129e118",
   "metadata": {},
   "outputs": [
    {
     "data": {
      "text/plain": [
       "array([[0, 1, 2, 3, 4, 5],\n",
       "       [1, 2, 0, 5, 3, 4],\n",
       "       [2, 0, 1, 4, 5, 3],\n",
       "       [3, 4, 5, 0, 1, 2],\n",
       "       [4, 5, 3, 2, 0, 1],\n",
       "       [5, 3, 4, 1, 2, 0]])"
      ]
     },
     "execution_count": 18,
     "metadata": {},
     "output_type": "execute_result"
    }
   ],
   "source": [
    "np.array(tbl2)"
   ]
  },
  {
   "cell_type": "code",
   "execution_count": 17,
   "id": "bc31c478",
   "metadata": {},
   "outputs": [
    {
     "data": {
      "text/plain": [
       "[(0, 0), (1, 2), (2, 1), (3, 3), (4, 4), (5, 5)]"
      ]
     },
     "execution_count": 17,
     "metadata": {},
     "output_type": "execute_result"
    }
   ],
   "source": [
    "table = np.array(tbl2)\n",
    "id = 0\n",
    "row_indices, col_indices = np.where(table == id)\n",
    "foo = zip(row_indices, col_indices)\n",
    "list(foo)"
   ]
  },
  {
   "cell_type": "code",
   "execution_count": 42,
   "id": "8ddd12aa",
   "metadata": {},
   "outputs": [
    {
     "name": "stdout",
     "output_type": "stream",
     "text": [
      "True\n",
      "True\n"
     ]
    }
   ],
   "source": [
    "table = np.array(tbl2)\n",
    "id = 0\n",
    "row_indices, col_indices = np.where(table == id)\n",
    "print(set(row_indices) == set(col_indices))\n",
    "print(len(row_indices) == len(table))"
   ]
  },
  {
   "cell_type": "code",
   "execution_count": null,
   "id": "84e9d3e7",
   "metadata": {},
   "outputs": [],
   "source": []
  },
  {
   "cell_type": "markdown",
   "id": "78868b82",
   "metadata": {},
   "source": [
    "## Semigroup"
   ]
  },
  {
   "cell_type": "markdown",
   "id": "357b2290",
   "metadata": {},
   "source": [
    "A semigroup is an associative magma."
   ]
  },
  {
   "cell_type": "code",
   "execution_count": null,
   "id": "76948811",
   "metadata": {},
   "outputs": [],
   "source": [
    "is_table_associative(rps.table)"
   ]
  },
  {
   "cell_type": "markdown",
   "id": "29ec5226",
   "metadata": {},
   "source": [
    "The Semigroup constructor will fail if the table does not support associativity:"
   ]
  },
  {
   "cell_type": "code",
   "execution_count": null,
   "id": "76f20db5",
   "metadata": {},
   "outputs": [],
   "source": [
    "try:\n",
    "    Semigroup(['r', 'p', 's'], [[0, 1, 0], [1, 1, 2], [0, 2, 2]])\n",
    "except:\n",
    "    print(\"Something went wrong\")"
   ]
  },
  {
   "cell_type": "markdown",
   "id": "d040eb06",
   "metadata": {},
   "source": [
    "### See p. 67 in Pinter for a possible example"
   ]
  },
  {
   "cell_type": "markdown",
   "id": "69bab2b6",
   "metadata": {},
   "source": [
    "## Monoid"
   ]
  },
  {
   "cell_type": "markdown",
   "id": "d4914d76",
   "metadata": {},
   "source": [
    "A monoid is a semigroup with an identity element."
   ]
  },
  {
   "cell_type": "markdown",
   "id": "af6139e0",
   "metadata": {},
   "source": [
    "**NEED TESTS AND EXAMPLES HERE**"
   ]
  },
  {
   "cell_type": "markdown",
   "id": "cec3b9ba",
   "metadata": {},
   "source": [
    "## Group"
   ]
  },
  {
   "cell_type": "markdown",
   "id": "f8a50404",
   "metadata": {},
   "source": [
    "A group is a monoid where every element has an inverse."
   ]
  },
  {
   "cell_type": "markdown",
   "id": "3b0edf8c",
   "metadata": {},
   "source": [
    "TBD"
   ]
  },
  {
   "cell_type": "code",
   "execution_count": null,
   "id": "5bcb12a2",
   "metadata": {},
   "outputs": [],
   "source": []
  },
  {
   "cell_type": "code",
   "execution_count": null,
   "id": "b315f645",
   "metadata": {},
   "outputs": [],
   "source": []
  }
 ],
 "metadata": {
  "kernelspec": {
   "display_name": "Python 3",
   "language": "python",
   "name": "python3"
  },
  "language_info": {
   "codemirror_mode": {
    "name": "ipython",
    "version": 3
   },
   "file_extension": ".py",
   "mimetype": "text/x-python",
   "name": "python",
   "nbconvert_exporter": "python",
   "pygments_lexer": "ipython3",
   "version": "3.7.7"
  }
 },
 "nbformat": 4,
 "nbformat_minor": 5
}
