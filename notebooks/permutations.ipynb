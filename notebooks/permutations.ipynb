{
 "cells": [
  {
   "cell_type": "markdown",
   "id": "afef587e",
   "metadata": {},
   "source": [
    "# Symmetric / Permutation Groups"
   ]
  },
  {
   "cell_type": "code",
   "execution_count": 1,
   "id": "33d49cf6",
   "metadata": {},
   "outputs": [],
   "source": [
    "from algebras import Group, Perm, generate_symmetric_group\n",
    "import os"
   ]
  },
  {
   "cell_type": "code",
   "execution_count": 2,
   "id": "42c263e0",
   "metadata": {},
   "outputs": [],
   "source": [
    "# Path to this repo\n",
    "aa_path = os.path.join(os.getenv('PYPROJ'), 'abstract_algebra')\n",
    "\n",
    "# Path to a directory containing Algebra definitions in JSON\n",
    "alg_dir = os.path.join(aa_path, \"Algebras\")"
   ]
  },
  {
   "cell_type": "markdown",
   "id": "0eb216bb",
   "metadata": {},
   "source": [
    "## Reference:"
   ]
  },
  {
   "cell_type": "markdown",
   "id": "805fb413",
   "metadata": {},
   "source": [
    "<b>[Pinter, 1990]</b> : <i>\"A Book of Abstract Algebra\" 2nd Ed., Charles C. Pinter, Dover Publications, Inc. 1990."
   ]
  },
  {
   "cell_type": "markdown",
   "id": "9f4df4e8",
   "metadata": {},
   "source": [
    "## Example"
   ]
  },
  {
   "cell_type": "markdown",
   "id": "378846ad",
   "metadata": {},
   "source": [
    "The example here is from [Pinter, 1990], pages 70-71."
   ]
  },
  {
   "cell_type": "markdown",
   "id": "cad526d3",
   "metadata": {},
   "source": [
    "####  Permutations of (1,2,3)"
   ]
  },
  {
   "cell_type": "markdown",
   "id": "70ee587d",
   "metadata": {},
   "source": [
    "The 6 permutations are given names in a dictionary, allowing permutations to be reference by name."
   ]
  },
  {
   "cell_type": "code",
   "execution_count": 3,
   "id": "222b671a",
   "metadata": {},
   "outputs": [],
   "source": [
    "s3 = {'epsilon' : Perm((1, 2, 3)),\n",
    "      'alpha' : Perm((1, 3, 2)),\n",
    "      'beta' : Perm((3, 1, 2)),\n",
    "      'gamma' : Perm((2, 1, 3)),\n",
    "      'delta' : Perm((2, 3, 1)),\n",
    "      'kappa' : Perm((3, 2, 1))}"
   ]
  },
  {
   "cell_type": "markdown",
   "id": "53682d48",
   "metadata": {},
   "source": [
    "A reverse lookup dictionary is also derived so that names can be looked up by permutation.\n",
    "\n",
    "This is used when creating the multiplication table."
   ]
  },
  {
   "cell_type": "code",
   "execution_count": 4,
   "id": "739c34fa",
   "metadata": {},
   "outputs": [],
   "source": [
    "s3_rev = {val: key for key, val in s3.items()}"
   ]
  },
  {
   "cell_type": "markdown",
   "id": "7830ab3a",
   "metadata": {},
   "source": [
    "#### Composition of Alpha & Beta"
   ]
  },
  {
   "cell_type": "markdown",
   "id": "beaee43e",
   "metadata": {},
   "source": [
    "$\\alpha \\circ \\beta = \\alpha( \\beta((1,2,3)) ) = \\alpha( (3,1,2) ) = (2,1,3)$"
   ]
  },
  {
   "cell_type": "code",
   "execution_count": 5,
   "id": "f3d4db57",
   "metadata": {},
   "outputs": [
    {
     "name": "stdout",
     "output_type": "stream",
     "text": [
      "Perm((1, 3, 2)) o Perm((3, 1, 2)) = Perm((2, 1, 3))\n",
      "(i.e., alpha o beta = gamma)\n"
     ]
    }
   ],
   "source": [
    "a = s3['alpha']\n",
    "b = s3['beta']\n",
    "c = a * b\n",
    "print(f\"{a} o {b} = {a * b}\")\n",
    "print(f\"(i.e., {s3_rev[a]} o {s3_rev[b]} = {s3_rev[a * b]})\")"
   ]
  },
  {
   "cell_type": "markdown",
   "id": "cc67c7b5",
   "metadata": {},
   "source": [
    "#### Multiplication Table for s3"
   ]
  },
  {
   "cell_type": "code",
   "execution_count": 6,
   "id": "29d87505",
   "metadata": {},
   "outputs": [
    {
     "data": {
      "text/plain": [
       "[['epsilon', 'alpha', 'beta', 'gamma', 'delta', 'kappa'],\n",
       " ['alpha', 'epsilon', 'gamma', 'beta', 'kappa', 'delta'],\n",
       " ['beta', 'kappa', 'delta', 'alpha', 'epsilon', 'gamma'],\n",
       " ['gamma', 'delta', 'kappa', 'epsilon', 'alpha', 'beta'],\n",
       " ['delta', 'gamma', 'epsilon', 'kappa', 'beta', 'alpha'],\n",
       " ['kappa', 'beta', 'alpha', 'delta', 'gamma', 'epsilon']]"
      ]
     },
     "execution_count": 6,
     "metadata": {},
     "output_type": "execute_result"
    }
   ],
   "source": [
    "s3_mul_tbl = [[s3_rev[s3[a] * s3[b]] for b in s3] for a in s3]\n",
    "s3_mul_tbl"
   ]
  },
  {
   "cell_type": "markdown",
   "id": "a6d79d05",
   "metadata": {},
   "source": [
    "#### The s3 Group"
   ]
  },
  {
   "cell_type": "code",
   "execution_count": 7,
   "id": "8cf347df",
   "metadata": {},
   "outputs": [
    {
     "name": "stdout",
     "output_type": "stream",
     "text": [
      "Group('s3',\n",
      "'Symmetric group on three elements',\n",
      "['epsilon', 'alpha', 'beta', 'gamma', 'delta', 'kappa'],\n",
      "[[0, 1, 2, 3, 4, 5],\n",
      " [1, 0, 3, 2, 5, 4],\n",
      " [2, 5, 4, 1, 0, 3],\n",
      " [3, 4, 5, 0, 1, 2],\n",
      " [4, 3, 0, 5, 2, 1],\n",
      " [5, 2, 1, 4, 3, 0]]\n",
      ")\n"
     ]
    }
   ],
   "source": [
    "s3_group = Group('s3', 'Symmetric group on three elements', s3_mul_tbl)\n",
    "s3_group.pprint()"
   ]
  },
  {
   "cell_type": "code",
   "execution_count": 8,
   "id": "5913004b",
   "metadata": {},
   "outputs": [
    {
     "name": "stdout",
     "output_type": "stream",
     "text": [
      "\n",
      "Group : s3 : Symmetric group on three elements\n",
      "  Element Names: ['epsilon', 'alpha', 'beta', 'gamma', 'delta', 'kappa']\n",
      "  Is Abelian? False\n",
      "  Inverses:  (** - indicates that it is its own inverse)\n",
      "    inv(epsilon) = epsilon   **\n",
      "    inv(alpha) = alpha   **\n",
      "    inv(beta) = delta \n",
      "    inv(gamma) = gamma   **\n",
      "    inv(delta) = beta \n",
      "    inv(kappa) = kappa   **\n",
      "Element Orders:\n",
      "{1: ['epsilon'], 2: ['alpha', 'gamma', 'kappa'], 3: ['beta', 'delta']}\n",
      "  Is associative? True\n",
      "  Cayley Table:\n",
      "[['epsilon', 'alpha', 'beta', 'gamma', 'delta', 'kappa'],\n",
      " ['alpha', 'epsilon', 'gamma', 'beta', 'kappa', 'delta'],\n",
      " ['beta', 'kappa', 'delta', 'alpha', 'epsilon', 'gamma'],\n",
      " ['gamma', 'delta', 'kappa', 'epsilon', 'alpha', 'beta'],\n",
      " ['delta', 'gamma', 'epsilon', 'kappa', 'beta', 'alpha'],\n",
      " ['kappa', 'beta', 'alpha', 'delta', 'gamma', 'epsilon']]\n"
     ]
    }
   ],
   "source": [
    "s3_group.print_info()"
   ]
  },
  {
   "cell_type": "markdown",
   "id": "acf56829",
   "metadata": {},
   "source": [
    "## Symmetric Groups in General"
   ]
  },
  {
   "cell_type": "code",
   "execution_count": 9,
   "id": "1b61ba5c",
   "metadata": {},
   "outputs": [
    {
     "name": "stdout",
     "output_type": "stream",
     "text": [
      "Group('S3',\n",
      "'Autogenerated symmetric group of order 3',\n",
      "['(1, 2, 3)', '(1, 3, 2)', '(2, 1, 3)', '(2, 3, 1)', '(3, 1, 2)', '(3, 2, 1)'],\n",
      "[[0, 1, 2, 3, 4, 5],\n",
      " [1, 0, 4, 5, 2, 3],\n",
      " [2, 3, 0, 1, 5, 4],\n",
      " [3, 2, 5, 4, 0, 1],\n",
      " [4, 5, 1, 0, 3, 2],\n",
      " [5, 4, 3, 2, 1, 0]]\n",
      ")\n"
     ]
    }
   ],
   "source": [
    "s3_test = generate_symmetric_group(3)\n",
    "s3_test.pprint()"
   ]
  },
  {
   "cell_type": "code",
   "execution_count": 10,
   "id": "da68a03e",
   "metadata": {},
   "outputs": [
    {
     "data": {
      "text/plain": [
       "{'alpha': '(1, 3, 2)',\n",
       " 'beta': '(2, 3, 1)',\n",
       " 'gamma': '(3, 2, 1)',\n",
       " 'delta': '(3, 1, 2)',\n",
       " 'kappa': '(2, 1, 3)',\n",
       " 'epsilon': '(1, 2, 3)'}"
      ]
     },
     "execution_count": 10,
     "metadata": {},
     "output_type": "execute_result"
    }
   ],
   "source": [
    "s3_group.isomorphic(s3_test)"
   ]
  },
  {
   "cell_type": "code",
   "execution_count": 11,
   "id": "f1f86e6c",
   "metadata": {},
   "outputs": [
    {
     "data": {
      "text/plain": [
       "Group('S4',\n",
       "'Autogenerated symmetric group of order 4',\n",
       "['(1, 2, 3, 4)', '(1, 2, 4, 3)', '(1, 3, 2, 4)', '(1, 3, 4, 2)', '(1, 4, 2, 3)', '(1, 4, 3, 2)', '(2, 1, 3, 4)', '(2, 1, 4, 3)', '(2, 3, 1, 4)', '(2, 3, 4, 1)', '(2, 4, 1, 3)', '(2, 4, 3, 1)', '(3, 1, 2, 4)', '(3, 1, 4, 2)', '(3, 2, 1, 4)', '(3, 2, 4, 1)', '(3, 4, 1, 2)', '(3, 4, 2, 1)', '(4, 1, 2, 3)', '(4, 1, 3, 2)', '(4, 2, 1, 3)', '(4, 2, 3, 1)', '(4, 3, 1, 2)', '(4, 3, 2, 1)'],\n",
       "[[0, 1, 2, 3, 4, 5, 6, 7, 8, 9, 10, 11, 12, 13, 14, 15, 16, 17, 18, 19, 20, 21, 22, 23], [1, 0, 4, 5, 2, 3, 7, 6, 10, 11, 8, 9, 18, 19, 20, 21, 22, 23, 12, 13, 14, 15, 16, 17], [2, 3, 0, 1, 5, 4, 12, 13, 14, 15, 16, 17, 6, 7, 8, 9, 10, 11, 19, 18, 22, 23, 20, 21], [3, 2, 5, 4, 0, 1, 13, 12, 16, 17, 14, 15, 19, 18, 22, 23, 20, 21, 6, 7, 8, 9, 10, 11], [4, 5, 1, 0, 3, 2, 18, 19, 20, 21, 22, 23, 7, 6, 10, 11, 8, 9, 13, 12, 16, 17, 14, 15], [5, 4, 3, 2, 1, 0, 19, 18, 22, 23, 20, 21, 13, 12, 16, 17, 14, 15, 7, 6, 10, 11, 8, 9], [6, 7, 8, 9, 10, 11, 0, 1, 2, 3, 4, 5, 14, 15, 12, 13, 17, 16, 20, 21, 18, 19, 23, 22], [7, 6, 10, 11, 8, 9, 1, 0, 4, 5, 2, 3, 20, 21, 18, 19, 23, 22, 14, 15, 12, 13, 17, 16], [8, 9, 6, 7, 11, 10, 14, 15, 12, 13, 17, 16, 0, 1, 2, 3, 4, 5, 21, 20, 23, 22, 18, 19], [9, 8, 11, 10, 6, 7, 15, 14, 17, 16, 12, 13, 21, 20, 23, 22, 18, 19, 0, 1, 2, 3, 4, 5], [10, 11, 7, 6, 9, 8, 20, 21, 18, 19, 23, 22, 1, 0, 4, 5, 2, 3, 15, 14, 17, 16, 12, 13], [11, 10, 9, 8, 7, 6, 21, 20, 23, 22, 18, 19, 15, 14, 17, 16, 12, 13, 1, 0, 4, 5, 2, 3], [12, 13, 14, 15, 16, 17, 2, 3, 0, 1, 5, 4, 8, 9, 6, 7, 11, 10, 22, 23, 19, 18, 21, 20], [13, 12, 16, 17, 14, 15, 3, 2, 5, 4, 0, 1, 22, 23, 19, 18, 21, 20, 8, 9, 6, 7, 11, 10], [14, 15, 12, 13, 17, 16, 8, 9, 6, 7, 11, 10, 2, 3, 0, 1, 5, 4, 23, 22, 21, 20, 19, 18], [15, 14, 17, 16, 12, 13, 9, 8, 11, 10, 6, 7, 23, 22, 21, 20, 19, 18, 2, 3, 0, 1, 5, 4], [16, 17, 13, 12, 15, 14, 22, 23, 19, 18, 21, 20, 3, 2, 5, 4, 0, 1, 9, 8, 11, 10, 6, 7], [17, 16, 15, 14, 13, 12, 23, 22, 21, 20, 19, 18, 9, 8, 11, 10, 6, 7, 3, 2, 5, 4, 0, 1], [18, 19, 20, 21, 22, 23, 4, 5, 1, 0, 3, 2, 10, 11, 7, 6, 9, 8, 16, 17, 13, 12, 15, 14], [19, 18, 22, 23, 20, 21, 5, 4, 3, 2, 1, 0, 16, 17, 13, 12, 15, 14, 10, 11, 7, 6, 9, 8], [20, 21, 18, 19, 23, 22, 10, 11, 7, 6, 9, 8, 4, 5, 1, 0, 3, 2, 17, 16, 15, 14, 13, 12], [21, 20, 23, 22, 18, 19, 11, 10, 9, 8, 7, 6, 17, 16, 15, 14, 13, 12, 4, 5, 1, 0, 3, 2], [22, 23, 19, 18, 21, 20, 16, 17, 13, 12, 15, 14, 5, 4, 3, 2, 1, 0, 11, 10, 9, 8, 7, 6], [23, 22, 21, 20, 19, 18, 17, 16, 15, 14, 13, 12, 11, 10, 9, 8, 7, 6, 5, 4, 3, 2, 1, 0]]) "
      ]
     },
     "execution_count": 11,
     "metadata": {},
     "output_type": "execute_result"
    }
   ],
   "source": [
    "s4_test = generate_symmetric_group(4)\n",
    "s4_test"
   ]
  },
  {
   "cell_type": "code",
   "execution_count": 12,
   "id": "c0329c50",
   "metadata": {},
   "outputs": [
    {
     "name": "stdout",
     "output_type": "stream",
     "text": [
      "\n",
      "Group : S4 : Autogenerated symmetric group of order 4\n",
      "  Element Names: ['(1, 2, 3, 4)', '(1, 2, 4, 3)', '(1, 3, 2, 4)', '(1, 3, 4, 2)', '(1, 4, 2, 3)', '(1, 4, 3, 2)', '(2, 1, 3, 4)', '(2, 1, 4, 3)', '(2, 3, 1, 4)', '(2, 3, 4, 1)', '(2, 4, 1, 3)', '(2, 4, 3, 1)', '(3, 1, 2, 4)', '(3, 1, 4, 2)', '(3, 2, 1, 4)', '(3, 2, 4, 1)', '(3, 4, 1, 2)', '(3, 4, 2, 1)', '(4, 1, 2, 3)', '(4, 1, 3, 2)', '(4, 2, 1, 3)', '(4, 2, 3, 1)', '(4, 3, 1, 2)', '(4, 3, 2, 1)']\n",
      "  Is Abelian? False\n",
      "  Inverses:  (** - indicates that it is its own inverse)\n",
      "    inv((1, 2, 3, 4)) = (1, 2, 3, 4)   **\n",
      "    inv((1, 2, 4, 3)) = (1, 2, 4, 3)   **\n",
      "    inv((1, 3, 2, 4)) = (1, 3, 2, 4)   **\n",
      "    inv((1, 3, 4, 2)) = (1, 4, 2, 3) \n",
      "    inv((1, 4, 2, 3)) = (1, 3, 4, 2) \n",
      "    inv((1, 4, 3, 2)) = (1, 4, 3, 2)   **\n",
      "    inv((2, 1, 3, 4)) = (2, 1, 3, 4)   **\n",
      "    inv((2, 1, 4, 3)) = (2, 1, 4, 3)   **\n",
      "    inv((2, 3, 1, 4)) = (3, 1, 2, 4) \n",
      "    inv((2, 3, 4, 1)) = (4, 1, 2, 3) \n",
      "    inv((2, 4, 1, 3)) = (3, 1, 4, 2) \n",
      "    inv((2, 4, 3, 1)) = (4, 1, 3, 2) \n",
      "    inv((3, 1, 2, 4)) = (2, 3, 1, 4) \n",
      "    inv((3, 1, 4, 2)) = (2, 4, 1, 3) \n",
      "    inv((3, 2, 1, 4)) = (3, 2, 1, 4)   **\n",
      "    inv((3, 2, 4, 1)) = (4, 2, 1, 3) \n",
      "    inv((3, 4, 1, 2)) = (3, 4, 1, 2)   **\n",
      "    inv((3, 4, 2, 1)) = (4, 3, 1, 2) \n",
      "    inv((4, 1, 2, 3)) = (2, 3, 4, 1) \n",
      "    inv((4, 1, 3, 2)) = (2, 4, 3, 1) \n",
      "    inv((4, 2, 1, 3)) = (3, 2, 4, 1) \n",
      "    inv((4, 2, 3, 1)) = (4, 2, 3, 1)   **\n",
      "    inv((4, 3, 1, 2)) = (3, 4, 2, 1) \n",
      "    inv((4, 3, 2, 1)) = (4, 3, 2, 1)   **\n",
      "Element Orders:\n",
      "{ 1: ['(1, 2, 3, 4)'],\n",
      "  2: [ '(1, 2, 4, 3)',\n",
      "       '(1, 3, 2, 4)',\n",
      "       '(1, 4, 3, 2)',\n",
      "       '(2, 1, 3, 4)',\n",
      "       '(2, 1, 4, 3)',\n",
      "       '(3, 2, 1, 4)',\n",
      "       '(3, 4, 1, 2)',\n",
      "       '(4, 2, 3, 1)',\n",
      "       '(4, 3, 2, 1)'],\n",
      "  3: [ '(1, 3, 4, 2)',\n",
      "       '(1, 4, 2, 3)',\n",
      "       '(2, 3, 1, 4)',\n",
      "       '(2, 4, 3, 1)',\n",
      "       '(3, 1, 2, 4)',\n",
      "       '(3, 2, 4, 1)',\n",
      "       '(4, 1, 3, 2)',\n",
      "       '(4, 2, 1, 3)'],\n",
      "  4: [ '(2, 3, 4, 1)',\n",
      "       '(2, 4, 1, 3)',\n",
      "       '(3, 1, 4, 2)',\n",
      "       '(3, 4, 2, 1)',\n",
      "       '(4, 1, 2, 3)',\n",
      "       '(4, 3, 1, 2)']}\n",
      "Group order is 24 > 12, so no further info calculated/printed.\n"
     ]
    }
   ],
   "source": [
    "s4_test.print_info()"
   ]
  },
  {
   "cell_type": "markdown",
   "id": "41ff6dcf",
   "metadata": {},
   "source": [
    "## Cycle Notation"
   ]
  },
  {
   "cell_type": "raw",
   "id": "fcf0ae6c",
   "metadata": {},
   "source": [
    "def cycle(mapping):\n",
    "    order = len(mapping)\n",
    "    base = min(list(mapping.keys()))\n",
    "    cyc = [base]\n",
    "    for i in range(base, order):\n",
    "        last = cyc[-1]\n",
    "        next_ = test_map[last]\n",
    "        if next_ not in cyc:\n",
    "            cyc.append(next_)\n",
    "        else:\n",
    "            break\n",
    "    return cyc"
   ]
  },
  {
   "cell_type": "code",
   "execution_count": 134,
   "id": "dea38391",
   "metadata": {},
   "outputs": [],
   "source": [
    "def cycle(test_map, perm, order, base):\n",
    "    min_elem = min(perm)\n",
    "    cyc = [min_elem]\n",
    "    for i in range(min_elem, order):\n",
    "        last = cyc[-1]\n",
    "        next_ = test_map[last]\n",
    "        if next_ not in cyc:\n",
    "            cyc.append(next_)\n",
    "        else:\n",
    "            break\n",
    "    return cyc, remove_items(perm, cyc)"
   ]
  },
  {
   "cell_type": "code",
   "execution_count": 135,
   "id": "e507536e",
   "metadata": {},
   "outputs": [
    {
     "name": "stdout",
     "output_type": "stream",
     "text": [
      "(2, 1, 4, 3)\n",
      "{1: 2, 2: 1, 3: 4, 4: 3}\n"
     ]
    }
   ],
   "source": [
    "#test_perm = Perm((3, 1, 4, 2))\n",
    "#test_perm = Perm((1, 3, 2, 4))\n",
    "test = Perm((2, 1, 4, 3))\n",
    "test_map = test.mapping\n",
    "test_perm = test.perm\n",
    "\n",
    "print(test_perm)\n",
    "print(test_map)"
   ]
  },
  {
   "cell_type": "code",
   "execution_count": 137,
   "id": "3e8f1712",
   "metadata": {},
   "outputs": [
    {
     "name": "stdout",
     "output_type": "stream",
     "text": [
      "[1, 2] (4, 3)\n"
     ]
    }
   ],
   "source": [
    "cyc1, perm1 = cycle(test_map, test_perm, 3, 1)\n",
    "print(cyc1, perm1)"
   ]
  },
  {
   "cell_type": "code",
   "execution_count": 139,
   "id": "05d2b162",
   "metadata": {},
   "outputs": [
    {
     "name": "stdout",
     "output_type": "stream",
     "text": [
      "[3] (4,)\n"
     ]
    }
   ],
   "source": [
    "cyc2, perm2 = cycle(test_map, perm1, 3, 1)\n",
    "print(cyc2, perm2)"
   ]
  },
  {
   "cell_type": "code",
   "execution_count": null,
   "id": "f8c22a12",
   "metadata": {},
   "outputs": [],
   "source": []
  },
  {
   "cell_type": "code",
   "execution_count": 87,
   "id": "a53e1736",
   "metadata": {},
   "outputs": [],
   "source": [
    "from copy import copy"
   ]
  },
  {
   "cell_type": "code",
   "execution_count": 120,
   "id": "d94c79d4",
   "metadata": {},
   "outputs": [],
   "source": [
    "def remove_items(tup, items):\n",
    "    lst_copy = list(copy(tup))\n",
    "    for item in items:\n",
    "        lst_copy.remove(item)\n",
    "    return tuple(lst_copy)"
   ]
  },
  {
   "cell_type": "code",
   "execution_count": 121,
   "id": "70dd8fd3",
   "metadata": {},
   "outputs": [],
   "source": [
    "foo = (1, 2, 3, 4, 5)\n",
    "bar = (2, 4)"
   ]
  },
  {
   "cell_type": "code",
   "execution_count": 122,
   "id": "75a292a7",
   "metadata": {},
   "outputs": [
    {
     "name": "stdout",
     "output_type": "stream",
     "text": [
      "(1, 3, 5)\n",
      "(1, 2, 3, 4, 5)\n"
     ]
    }
   ],
   "source": [
    "foo2 = remove_items(foo, bar)\n",
    "print(foo2)\n",
    "print(foo)"
   ]
  },
  {
   "cell_type": "code",
   "execution_count": null,
   "id": "ba2957c9",
   "metadata": {},
   "outputs": [],
   "source": []
  },
  {
   "cell_type": "code",
   "execution_count": null,
   "id": "1adf068e",
   "metadata": {},
   "outputs": [],
   "source": []
  }
 ],
 "metadata": {
  "kernelspec": {
   "display_name": "Python 3",
   "language": "python",
   "name": "python3"
  },
  "language_info": {
   "codemirror_mode": {
    "name": "ipython",
    "version": 3
   },
   "file_extension": ".py",
   "mimetype": "text/x-python",
   "name": "python",
   "nbconvert_exporter": "python",
   "pygments_lexer": "ipython3",
   "version": "3.7.7"
  }
 },
 "nbformat": 4,
 "nbformat_minor": 5
}
