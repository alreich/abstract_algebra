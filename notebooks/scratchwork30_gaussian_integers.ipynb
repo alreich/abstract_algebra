{
 "cells": [
  {
   "cell_type": "markdown",
   "id": "d7c1a34e",
   "metadata": {},
   "source": [
    "# Complex Integers (aka Gaussian Integers)"
   ]
  },
  {
   "cell_type": "code",
   "execution_count": 1,
   "id": "3009812d",
   "metadata": {},
   "outputs": [],
   "source": [
    "import finite_algebras as alg\n",
    "import my_math as my\n",
    "import math, cmath\n",
    "import numpy as np"
   ]
  },
  {
   "cell_type": "code",
   "execution_count": 2,
   "id": "a405326c",
   "metadata": {},
   "outputs": [
    {
     "name": "stdout",
     "output_type": "stream",
     "text": [
      "(4+5j) x (1-2j) = (14-3j)\n"
     ]
    }
   ],
   "source": [
    "c1 = 4 + 5j\n",
    "c2 = 1 - 2j\n",
    "c3 = c1 * c2\n",
    "print(f\"{c1} x {c2} = {c3}\")"
   ]
  },
  {
   "cell_type": "code",
   "execution_count": 3,
   "id": "907b75d8",
   "metadata": {},
   "outputs": [],
   "source": [
    "def norm(c):\n",
    "    c2 = c * np.conj(c)\n",
    "    return c2.real"
   ]
  },
  {
   "cell_type": "raw",
   "id": "635e630c",
   "metadata": {},
   "source": [
    "def cround(c, ndigits=None):\n",
    "    if ndigits is None or ndigits == 0:\n",
    "        return complex(round(c.real),round(c.imag))\n",
    "    else:\n",
    "        return complex(round(c.real, ndigits), round(c.imag, ndigits))"
   ]
  },
  {
   "cell_type": "code",
   "execution_count": 4,
   "id": "5337b61d",
   "metadata": {},
   "outputs": [],
   "source": [
    "def is_within_tolerance(f, tolerance=1e-10):\n",
    "    return abs(f - round(f)) < abs(tolerance)"
   ]
  },
  {
   "cell_type": "code",
   "execution_count": 37,
   "id": "06684a34",
   "metadata": {},
   "outputs": [],
   "source": [
    "class cint(complex):\n",
    "\n",
    "    tol = 1e-10  # tolerance\n",
    "\n",
    "    def __init__(self, a=1, b=0):\n",
    "        \n",
    "        if isinstance(a, complex):  # ignore b\n",
    "            re = a.real\n",
    "            im = a.imag\n",
    "        else:\n",
    "            re = a\n",
    "            im = b\n",
    "\n",
    "        if isinstance(re, int):\n",
    "            if isinstance(im, int):\n",
    "                self.ci = complex(int(re), int(im))\n",
    "            elif is_within_tolerance(im, cint.tol):\n",
    "                self.ci = complex(re, round(im))\n",
    "            else:\n",
    "                raise ValueError(f\"{im} is not within {cint.tol} of an integer\")\n",
    "        elif is_within_tolerance(re, cint.tol):\n",
    "            if isinstance(im, int):\n",
    "                self.ci = complex(round(re), im)  \n",
    "            elif is_within_tolerance(im, cint.tol):\n",
    "                self.ci = complex(round(re), round(im))\n",
    "            else:\n",
    "                raise ValueError(f\"{im} is not within {cint.tol} of an integer\")\n",
    "        else:\n",
    "            raise ValueError(f\"{re} is not within {cint.tol} of an integer\")\n",
    "\n",
    "        \n",
    "    def __repr__(self):\n",
    "        re = int(self.ci.real)\n",
    "        im = int(self.ci.imag)\n",
    "        if im >= 0:\n",
    "            return f\"({re}+{im}j)\"\n",
    "        else:\n",
    "            return f\"({re}-{abs(im)}j)\"\n",
    "    \n",
    "    def __add__(self, other):\n",
    "        return cint(self.ci + other.ci)\n",
    "    \n",
    "    def __mul__(self, other):\n",
    "        return cint(self.ci * other.ci)"
   ]
  },
  {
   "cell_type": "code",
   "execution_count": 77,
   "id": "96f48192",
   "metadata": {},
   "outputs": [
    {
     "data": {
      "text/plain": [
       "(1+0j)"
      ]
     },
     "execution_count": 77,
     "metadata": {},
     "output_type": "execute_result"
    }
   ],
   "source": [
    "d1 = cint()\n",
    "d1"
   ]
  },
  {
   "cell_type": "code",
   "execution_count": 78,
   "id": "b5674fd0",
   "metadata": {},
   "outputs": [
    {
     "data": {
      "text/plain": [
       "(2+3j)"
      ]
     },
     "execution_count": 78,
     "metadata": {},
     "output_type": "execute_result"
    }
   ],
   "source": [
    "d2 = cint(2, 3)\n",
    "d2"
   ]
  },
  {
   "cell_type": "code",
   "execution_count": 79,
   "id": "5379d263",
   "metadata": {},
   "outputs": [
    {
     "data": {
      "text/plain": [
       "(3+3j)"
      ]
     },
     "execution_count": 79,
     "metadata": {},
     "output_type": "execute_result"
    }
   ],
   "source": [
    "d1 + d2"
   ]
  },
  {
   "cell_type": "code",
   "execution_count": 80,
   "id": "ff5a8dda",
   "metadata": {},
   "outputs": [
    {
     "data": {
      "text/plain": [
       "0j"
      ]
     },
     "execution_count": 80,
     "metadata": {},
     "output_type": "execute_result"
    }
   ],
   "source": [
    "d1 * d2"
   ]
  },
  {
   "cell_type": "code",
   "execution_count": 54,
   "id": "b8601334",
   "metadata": {},
   "outputs": [
    {
     "data": {
      "text/plain": [
       "(13+0j)"
      ]
     },
     "execution_count": 54,
     "metadata": {},
     "output_type": "execute_result"
    }
   ],
   "source": [
    "foo = d1 * np.conj(d1)\n",
    "foo"
   ]
  },
  {
   "cell_type": "code",
   "execution_count": 83,
   "id": "8037ddbd",
   "metadata": {},
   "outputs": [
    {
     "data": {
      "text/plain": [
       "(-2-5j)"
      ]
     },
     "execution_count": 83,
     "metadata": {},
     "output_type": "execute_result"
    }
   ],
   "source": [
    "cint(-2, -5)"
   ]
  },
  {
   "cell_type": "code",
   "execution_count": 84,
   "id": "10e06a2e",
   "metadata": {},
   "outputs": [
    {
     "data": {
      "text/plain": [
       "(29+0j)"
      ]
     },
     "execution_count": 84,
     "metadata": {},
     "output_type": "execute_result"
    }
   ],
   "source": [
    "(-2-5j)*np.conj((-2-5j))"
   ]
  },
  {
   "cell_type": "code",
   "execution_count": null,
   "id": "ee8b650a",
   "metadata": {},
   "outputs": [],
   "source": []
  },
  {
   "cell_type": "code",
   "execution_count": 56,
   "id": "7043549d",
   "metadata": {},
   "outputs": [
    {
     "data": {
      "text/plain": [
       "13.0"
      ]
     },
     "execution_count": 56,
     "metadata": {},
     "output_type": "execute_result"
    }
   ],
   "source": [
    "foo.real"
   ]
  },
  {
   "cell_type": "code",
   "execution_count": 57,
   "id": "5b2870eb",
   "metadata": {},
   "outputs": [
    {
     "data": {
      "text/plain": [
       "0.0"
      ]
     },
     "execution_count": 57,
     "metadata": {},
     "output_type": "execute_result"
    }
   ],
   "source": [
    "foo.imag"
   ]
  },
  {
   "cell_type": "code",
   "execution_count": null,
   "id": "c6cc2e63",
   "metadata": {},
   "outputs": [],
   "source": []
  },
  {
   "cell_type": "code",
   "execution_count": 19,
   "id": "9299b78a",
   "metadata": {},
   "outputs": [
    {
     "data": {
      "text/plain": [
       "5"
      ]
     },
     "execution_count": 19,
     "metadata": {},
     "output_type": "execute_result"
    }
   ],
   "source": [
    "round(5.2)"
   ]
  },
  {
   "cell_type": "code",
   "execution_count": 13,
   "id": "ca9ee401",
   "metadata": {},
   "outputs": [
    {
     "name": "stdout",
     "output_type": "stream",
     "text": [
      "41.0\n",
      "5.0\n"
     ]
    }
   ],
   "source": [
    "print(norm(c1))\n",
    "print(norm(c2))"
   ]
  },
  {
   "cell_type": "code",
   "execution_count": 14,
   "id": "5dd76609",
   "metadata": {},
   "outputs": [
    {
     "data": {
      "text/plain": [
       "True"
      ]
     },
     "execution_count": 14,
     "metadata": {},
     "output_type": "execute_result"
    }
   ],
   "source": [
    "norm(c1 * c2) == norm(c1) * norm(c2)"
   ]
  },
  {
   "cell_type": "code",
   "execution_count": 20,
   "id": "4d5f06db",
   "metadata": {},
   "outputs": [
    {
     "data": {
      "text/plain": [
       "(1.0000000000000002-2j)"
      ]
     },
     "execution_count": 20,
     "metadata": {},
     "output_type": "execute_result"
    }
   ],
   "source": [
    "d = c3 / c1\n",
    "d"
   ]
  },
  {
   "cell_type": "code",
   "execution_count": 21,
   "id": "88258760",
   "metadata": {},
   "outputs": [
    {
     "data": {
      "text/plain": [
       "1.0000000000000002"
      ]
     },
     "execution_count": 21,
     "metadata": {},
     "output_type": "execute_result"
    }
   ],
   "source": [
    "d.real"
   ]
  },
  {
   "cell_type": "code",
   "execution_count": 23,
   "id": "b43f7aee",
   "metadata": {},
   "outputs": [
    {
     "data": {
      "text/plain": [
       "1"
      ]
     },
     "execution_count": 23,
     "metadata": {},
     "output_type": "execute_result"
    }
   ],
   "source": [
    "round(d.real)"
   ]
  },
  {
   "cell_type": "code",
   "execution_count": 22,
   "id": "c9c789bc",
   "metadata": {},
   "outputs": [
    {
     "data": {
      "text/plain": [
       "-2.0"
      ]
     },
     "execution_count": 22,
     "metadata": {},
     "output_type": "execute_result"
    }
   ],
   "source": [
    "d.imag"
   ]
  },
  {
   "cell_type": "code",
   "execution_count": null,
   "id": "fedf762f",
   "metadata": {},
   "outputs": [],
   "source": []
  },
  {
   "cell_type": "code",
   "execution_count": 16,
   "id": "452ceb3d",
   "metadata": {},
   "outputs": [
    {
     "data": {
      "text/plain": [
       "(4+5j)"
      ]
     },
     "execution_count": 16,
     "metadata": {},
     "output_type": "execute_result"
    }
   ],
   "source": [
    "c3 / c2"
   ]
  },
  {
   "cell_type": "code",
   "execution_count": 17,
   "id": "8eadcc0d",
   "metadata": {},
   "outputs": [
    {
     "data": {
      "text/plain": [
       "cint(1.0, -2.0)"
      ]
     },
     "execution_count": 17,
     "metadata": {},
     "output_type": "execute_result"
    }
   ],
   "source": [
    "cint(c3 / c1)"
   ]
  },
  {
   "cell_type": "code",
   "execution_count": null,
   "id": "4c67dcb8",
   "metadata": {},
   "outputs": [],
   "source": [
    "cround(c1 / c3, 0)"
   ]
  },
  {
   "cell_type": "code",
   "execution_count": null,
   "id": "3fd2fc0b",
   "metadata": {},
   "outputs": [],
   "source": [
    "cround(1.2 - 2.9j)"
   ]
  },
  {
   "cell_type": "code",
   "execution_count": null,
   "id": "1f4d970b",
   "metadata": {},
   "outputs": [],
   "source": [
    "cround((14 + 3j) / (4 + 5j), ndigits=6)"
   ]
  },
  {
   "cell_type": "code",
   "execution_count": null,
   "id": "acbca4ce",
   "metadata": {},
   "outputs": [],
   "source": [
    "1e-10 == 0.0000000001"
   ]
  },
  {
   "cell_type": "markdown",
   "id": "80d1f014",
   "metadata": {},
   "source": [
    "## Complex Integer Class (aka Gaussian integer)"
   ]
  },
  {
   "cell_type": "code",
   "execution_count": null,
   "id": "a3c70d5f",
   "metadata": {},
   "outputs": [],
   "source": [
    "def round"
   ]
  },
  {
   "cell_type": "code",
   "execution_count": null,
   "id": "2db11ec1",
   "metadata": {},
   "outputs": [],
   "source": []
  },
  {
   "cell_type": "code",
   "execution_count": null,
   "id": "77584450",
   "metadata": {},
   "outputs": [],
   "source": [
    "u = cint(1, 2)\n",
    "u"
   ]
  },
  {
   "cell_type": "code",
   "execution_count": null,
   "id": "94fc7795",
   "metadata": {},
   "outputs": [],
   "source": [
    "isinstance(u, complex)"
   ]
  },
  {
   "cell_type": "code",
   "execution_count": null,
   "id": "fe53d95f",
   "metadata": {},
   "outputs": [],
   "source": [
    "v = cint(c1)\n",
    "v"
   ]
  },
  {
   "cell_type": "code",
   "execution_count": null,
   "id": "19b692c8",
   "metadata": {},
   "outputs": [],
   "source": [
    "u + v"
   ]
  },
  {
   "cell_type": "code",
   "execution_count": null,
   "id": "245d62b7",
   "metadata": {},
   "outputs": [],
   "source": [
    "u.real"
   ]
  },
  {
   "cell_type": "code",
   "execution_count": null,
   "id": "2c5c7a2a",
   "metadata": {},
   "outputs": [],
   "source": [
    "u.imag"
   ]
  },
  {
   "cell_type": "code",
   "execution_count": null,
   "id": "4c4e20ce",
   "metadata": {},
   "outputs": [],
   "source": [
    "round(6.00001, 3)"
   ]
  },
  {
   "cell_type": "code",
   "execution_count": null,
   "id": "0dda272b",
   "metadata": {},
   "outputs": [],
   "source": [
    "is_whole(6.00001, 0.0000000001)"
   ]
  },
  {
   "cell_type": "code",
   "execution_count": null,
   "id": "dcce1094",
   "metadata": {},
   "outputs": [],
   "source": [
    "is_whole((c3 / c1).real, 0.0000000001)"
   ]
  },
  {
   "cell_type": "code",
   "execution_count": null,
   "id": "e6a0c7da",
   "metadata": {},
   "outputs": [],
   "source": []
  }
 ],
 "metadata": {
  "kernelspec": {
   "display_name": "Python 3 (ipykernel)",
   "language": "python",
   "name": "python3"
  },
  "language_info": {
   "codemirror_mode": {
    "name": "ipython",
    "version": 3
   },
   "file_extension": ".py",
   "mimetype": "text/x-python",
   "name": "python",
   "nbconvert_exporter": "python",
   "pygments_lexer": "ipython3",
   "version": "3.11.5"
  }
 },
 "nbformat": 4,
 "nbformat_minor": 5
}
