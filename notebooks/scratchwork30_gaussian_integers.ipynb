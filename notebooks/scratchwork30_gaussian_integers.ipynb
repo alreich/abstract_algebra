{
 "cells": [
  {
   "cell_type": "markdown",
   "id": "d7c1a34e",
   "metadata": {},
   "source": [
    "# Gaussian Integers"
   ]
  },
  {
   "cell_type": "code",
   "execution_count": 1,
   "id": "958c3107",
   "metadata": {},
   "outputs": [],
   "source": [
    "def divides(m, n):\n",
    "    \"\"\"Returns True if m divides n.\"\"\"\n",
    "    if (abs(m) <= abs(n)) and (n % m == 0):\n",
    "        return True\n",
    "    else:\n",
    "        return False"
   ]
  },
  {
   "cell_type": "code",
   "execution_count": 2,
   "id": "6d0cbae2",
   "metadata": {},
   "outputs": [
    {
     "data": {
      "text/plain": [
       "True"
      ]
     },
     "execution_count": 2,
     "metadata": {},
     "output_type": "execute_result"
    }
   ],
   "source": [
    "divides(5, 25)"
   ]
  },
  {
   "cell_type": "code",
   "execution_count": 3,
   "id": "43ce3036",
   "metadata": {},
   "outputs": [
    {
     "data": {
      "text/plain": [
       "False"
      ]
     },
     "execution_count": 3,
     "metadata": {},
     "output_type": "execute_result"
    }
   ],
   "source": [
    "divides(5, 4)"
   ]
  },
  {
   "cell_type": "code",
   "execution_count": 4,
   "id": "52b6f54f",
   "metadata": {},
   "outputs": [
    {
     "data": {
      "text/plain": [
       "False"
      ]
     },
     "execution_count": 4,
     "metadata": {},
     "output_type": "execute_result"
    }
   ],
   "source": [
    "divides(6, 25)"
   ]
  },
  {
   "cell_type": "code",
   "execution_count": 22,
   "id": "06684a34",
   "metadata": {},
   "outputs": [],
   "source": [
    "class Gint():\n",
    "    \n",
    "    \"\"\"Gaussian Integer Class\"\"\"\n",
    "    \n",
    "    tol = 1e-10  # tolerance\n",
    "\n",
    "    def __init__(self, re=1, im=0):\n",
    "        \n",
    "        if not (isinstance(re, int) and isinstance(im, int)):\n",
    "            raise ValueError(f\"Both {re} and {im} must be Integers.\")\n",
    "        else:\n",
    "            self.real = re\n",
    "            self.imag = im\n",
    "    \n",
    "    def __repr__(self):\n",
    "        return f\"Gint({self.real}, {self.imag})\"\n",
    "    \n",
    "    # def __str__(self):\n",
    "    #     return str(complex(self))\n",
    "    \n",
    "    def __add__(self, other):\n",
    "        return Gint(self.real + other.real, self.imag + other.imag)\n",
    "    \n",
    "    def __sub__(self, other):\n",
    "        return Gint(self.real - other.real, self.imag - other.imag)\n",
    "\n",
    "    def __mul__(self, other):\n",
    "        a = self.real\n",
    "        b = self.imag\n",
    "        if isinstance(other, Gint):\n",
    "            c = other.real\n",
    "            d = other.imag\n",
    "        elif isinstance(other, int):\n",
    "            c = other\n",
    "            d = 0\n",
    "        else:\n",
    "            raise ValueError(f\"Multiplication by {other} not supported\")\n",
    "        # (a, b) * (c, d) = (a*c - b*d) + (a*d + b*c)\n",
    "        return Gint(a*c - b*d, a*d + b*c)\n",
    "    \n",
    "    def __rmul__(self, other):\n",
    "        a = self.real\n",
    "        b = self.imag\n",
    "        if isinstance(other, int):\n",
    "            c = other\n",
    "            d = 0\n",
    "        else:\n",
    "            raise ValueError(f\"Multiplication by {other} not supported\")\n",
    "        # (a, b) * (c, d) = (a*c - b*d) + (a*d + b*c)\n",
    "        return Gint(a*c - b*d, a*d + b*c)\n",
    "    \n",
    "    def __complex__(self):\n",
    "        return complex(self.real, self.imag)\n",
    "    \n",
    "    @property\n",
    "    def conj(self):\n",
    "        return Gint(self.real, - self.imag)\n",
    "    \n",
    "    @property\n",
    "    def norm(self):\n",
    "        n = self * self.conj\n",
    "        return n.real\n",
    "    \n",
    "    def divides(self, other):\n",
    "        \"\"\"Return True if this Gint divides the other Gint,\n",
    "        otherwise return False.\n",
    "        \"\"\"\n",
    "        a = self.norm\n",
    "        b = other.norm\n",
    "        if b % a == 0:\n",
    "            return True\n",
    "        else:\n",
    "            return False\n",
    "    \n",
    "    def is_divided_by(self, other):\n",
    "        \"\"\"Return True if the other Gint divides this Gint,\n",
    "        otherwise return False.\n",
    "        \"\"\"\n",
    "        if isinstance(other, Gint):\n",
    "            return other.divides(self)\n",
    "        elif isinstance(other, int):\n",
    "            if (self.real % other == 0) and (self.imag % other == 0):\n",
    "                return Gint(self.real // other, self.imag // other)\n",
    "            else:\n",
    "                return False\n",
    "        else:\n",
    "            raise ValueError(f\"{other} is not a valid input\")\n",
    "    \n",
    "    def __truediv__(self, other):\n",
    "        \"\"\"If other divides self, then self / other is returned,\n",
    "        otherwise False is returned.\n",
    "        \"\"\"\n",
    "        numer = self * other.conj\n",
    "        denom = other.norm\n",
    "        if divides(denom, numer.real) and divides(denom, numer.imag):\n",
    "            return Gint(numer.real // denom, numer.imag // denom)\n",
    "        else:\n",
    "            return False\n",
    "    \n",
    "    def __neg__(self):\n",
    "        return Gint(-self.real, -self.imag)\n",
    "    \n",
    "    def __eq__(self, other):\n",
    "        return (self.real == other.real) and (self.imag == other.imag)"
   ]
  },
  {
   "cell_type": "code",
   "execution_count": 23,
   "id": "41f6efc1",
   "metadata": {},
   "outputs": [
    {
     "name": "stdout",
     "output_type": "stream",
     "text": [
      "Gint(4, 5) x Gint(1, -2) = Gint(14, -3)\n"
     ]
    }
   ],
   "source": [
    "c1 = Gint(4, 5)\n",
    "c2 = Gint(1, -2)\n",
    "c3 = c1 * c2\n",
    "print(f\"{c1} x {c2} = {c3}\")"
   ]
  },
  {
   "cell_type": "code",
   "execution_count": 24,
   "id": "86d55087",
   "metadata": {},
   "outputs": [
    {
     "data": {
      "text/plain": [
       "Gint(1, -2)"
      ]
     },
     "execution_count": 24,
     "metadata": {},
     "output_type": "execute_result"
    }
   ],
   "source": [
    "c3 / c1"
   ]
  },
  {
   "cell_type": "code",
   "execution_count": 25,
   "id": "cb4e967e",
   "metadata": {},
   "outputs": [
    {
     "data": {
      "text/plain": [
       "Gint(4, 5)"
      ]
     },
     "execution_count": 25,
     "metadata": {},
     "output_type": "execute_result"
    }
   ],
   "source": [
    "c3 / c2"
   ]
  },
  {
   "cell_type": "code",
   "execution_count": 26,
   "id": "c9670714",
   "metadata": {},
   "outputs": [
    {
     "data": {
      "text/plain": [
       "Gint(8, 10)"
      ]
     },
     "execution_count": 26,
     "metadata": {},
     "output_type": "execute_result"
    }
   ],
   "source": [
    "c1 * 2"
   ]
  },
  {
   "cell_type": "code",
   "execution_count": 20,
   "id": "58952b91",
   "metadata": {},
   "outputs": [
    {
     "data": {
      "text/plain": [
       "Gint(8, 10)"
      ]
     },
     "execution_count": 20,
     "metadata": {},
     "output_type": "execute_result"
    }
   ],
   "source": [
    "2 * c1"
   ]
  },
  {
   "cell_type": "code",
   "execution_count": 27,
   "id": "3489ee18",
   "metadata": {},
   "outputs": [
    {
     "data": {
      "text/plain": [
       "Gint(-4, -5)"
      ]
     },
     "execution_count": 27,
     "metadata": {},
     "output_type": "execute_result"
    }
   ],
   "source": [
    "-c1"
   ]
  },
  {
   "cell_type": "code",
   "execution_count": 28,
   "id": "b0a7f654",
   "metadata": {},
   "outputs": [
    {
     "data": {
      "text/plain": [
       "Gint(-1, 2)"
      ]
     },
     "execution_count": 28,
     "metadata": {},
     "output_type": "execute_result"
    }
   ],
   "source": [
    "-c2"
   ]
  },
  {
   "cell_type": "code",
   "execution_count": 29,
   "id": "935e285d",
   "metadata": {},
   "outputs": [
    {
     "data": {
      "text/plain": [
       "True"
      ]
     },
     "execution_count": 29,
     "metadata": {},
     "output_type": "execute_result"
    }
   ],
   "source": [
    "c1 == Gint(4, 5)"
   ]
  },
  {
   "cell_type": "code",
   "execution_count": 30,
   "id": "a86c0079",
   "metadata": {},
   "outputs": [
    {
     "data": {
      "text/plain": [
       "False"
      ]
     },
     "execution_count": 30,
     "metadata": {},
     "output_type": "execute_result"
    }
   ],
   "source": [
    "c1 == c2"
   ]
  },
  {
   "cell_type": "code",
   "execution_count": null,
   "id": "86197aee",
   "metadata": {},
   "outputs": [],
   "source": []
  }
 ],
 "metadata": {
  "kernelspec": {
   "display_name": "Python 3 (ipykernel)",
   "language": "python",
   "name": "python3"
  },
  "language_info": {
   "codemirror_mode": {
    "name": "ipython",
    "version": 3
   },
   "file_extension": ".py",
   "mimetype": "text/x-python",
   "name": "python",
   "nbconvert_exporter": "python",
   "pygments_lexer": "ipython3",
   "version": "3.11.5"
  }
 },
 "nbformat": 4,
 "nbformat_minor": 5
}
