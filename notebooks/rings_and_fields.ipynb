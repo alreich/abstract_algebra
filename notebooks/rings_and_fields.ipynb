{
 "cells": [
  {
   "cell_type": "markdown",
   "id": "e69be22a",
   "metadata": {},
   "source": [
    "# Rings and Fields"
   ]
  },
  {
   "cell_type": "markdown",
   "id": "5524b092",
   "metadata": {},
   "source": [
    "Rings and Fields have a single set of elements, but have two binary operations on those elements.  This section provides examples of Ring and Field construction. See the section, \"Definitions\", for definitions of these algebraic structures"
   ]
  },
  {
   "cell_type": "markdown",
   "id": "26f952fa",
   "metadata": {},
   "source": [
    "## Internal Representation of Rings & Fields\n",
    "\n",
    "Internally, a ``FiniteAlgebra`` can take several different forms.  For algebras that have only one set of elements and two binary operations, such as Rings and Fields, the internal representation is as shown below.  The first four components are the same as for Groups, Monoids, etc.  The only difference is the addition of **table2**.  It defines Ring multiplication.\n",
    "\n",
    "* **name**: (``str``) A short name for the algebra;\n",
    "* **description**: (``str``) Any additional, useful information about the algebra;\n",
    "* **elements**: (``list`` of ``str``) Names of the algebras’s elements.\n",
    "* **table**: (``list`` of ``list`` of ``int``) The algebra’s multiplication\n",
    "  table, where each list in the list represents a row of the table, and\n",
    "  each integer represents the position of an element in ‘element_names’.\n",
    "  Optionally, element names (``str``) may be used in the table, rather \n",
    "  than integers.\n",
    "* **table2**: Similar to *table*, above. Required when defining a Ring or Field."
   ]
  },
  {
   "cell_type": "markdown",
   "id": "77b31e25",
   "metadata": {},
   "source": [
    "## Ring"
   ]
  },
  {
   "cell_type": "markdown",
   "id": "4b26da97",
   "metadata": {},
   "source": [
    "**Ring** - $\\langle S, +, \\times \\rangle$, where $\\langle S, + \\rangle$ is a commutative Group, $\\langle S, \\times \\rangle$ is a Semigroup, and $\\times$ distributes over $+$"
   ]
  },
  {
   "cell_type": "markdown",
   "id": "16ea3919",
   "metadata": {},
   "source": [
    "### Ring Based on Powerset of a Set"
   ]
  },
  {
   "cell_type": "markdown",
   "id": "492d97fb",
   "metadata": {},
   "source": [
    "In this ring, *\"addition\"* is symmetric difference, $\\bigtriangleup$, and *\"multiplication\"* is intersection, $\\cap$."
   ]
  },
  {
   "cell_type": "code",
   "execution_count": 1,
   "id": "5cd9ef71",
   "metadata": {},
   "outputs": [
    {
     "data": {
      "text/plain": [
       "Ring(\n",
       "'Powerset Ring 2',\n",
       "'Ring on powerset of {0, 1}',\n",
       "['{}', '{0}', '{1}', '{0, 1}'],\n",
       "[[0, 1, 2, 3], [1, 0, 3, 2], [2, 3, 0, 1], [3, 2, 1, 0]],\n",
       "[[0, 0, 0, 0], [0, 1, 0, 1], [0, 0, 2, 2], [0, 1, 2, 3]]\n",
       ")"
      ]
     },
     "execution_count": 1,
     "metadata": {},
     "output_type": "execute_result"
    }
   ],
   "source": [
    ">>> from finite_algebras import make_finite_algebra\n",
    "\n",
    ">>> rng = make_finite_algebra('Powerset Ring 2',\n",
    "                              'Ring on powerset of {0, 1}',\n",
    "                              ['{}', '{0}', '{1}', '{0, 1}'],\n",
    "                              [[0, 1, 2, 3],\n",
    "                               [1, 0, 3, 2],\n",
    "                               [2, 3, 0, 1],\n",
    "                               [3, 2, 1, 0]],\n",
    "                              [[0, 0, 0, 0],\n",
    "                               [0, 1, 0, 1],\n",
    "                               [0, 0, 2, 2],\n",
    "                               [0, 1, 2, 3]]\n",
    "                             )\n",
    ">>> rng"
   ]
  },
  {
   "cell_type": "code",
   "execution_count": 2,
   "id": "e466406d",
   "metadata": {},
   "outputs": [
    {
     "name": "stdout",
     "output_type": "stream",
     "text": [
      "\n",
      "** Ring **\n",
      "Name: Powerset Ring 2\n",
      "Instance ID: 140492681947344\n",
      "Description: Ring on powerset of {0, 1}\n",
      "Order: 4\n",
      "Identity: {}\n",
      "Commutative? Yes\n",
      "Cyclic?: No\n",
      "Elements:\n",
      "   Index   Name   Inverse  Order\n",
      "      0      {}      {}       1\n",
      "      1     {0}     {0}       2\n",
      "      2     {1}     {1}       2\n",
      "      3  {0, 1}  {0, 1}       2\n",
      "Cayley Table (showing names):\n",
      "[['{}', '{0}', '{1}', '{0, 1}'],\n",
      " ['{0}', '{}', '{0, 1}', '{1}'],\n",
      " ['{1}', '{0, 1}', '{}', '{0}'],\n",
      " ['{0, 1}', '{1}', '{0}', '{}']]\n",
      "Mult. Identity: {0, 1}\n",
      "Mult. Commutative? Yes\n",
      "Zero Divisors: ['{0}', '{1}']\n",
      "Multiplicative Cayley Table (showing names):\n",
      "[['{}', '{}', '{}', '{}'],\n",
      " ['{}', '{0}', '{}', '{0}'],\n",
      " ['{}', '{}', '{1}', '{1}'],\n",
      " ['{}', '{0}', '{1}', '{0, 1}']]\n"
     ]
    }
   ],
   "source": [
    ">>> rng.about(use_table_names=True)"
   ]
  },
  {
   "cell_type": "markdown",
   "id": "7dfa8c4f",
   "metadata": {},
   "source": [
    "### Additive & Multiplicative Identity Elements"
   ]
  },
  {
   "cell_type": "markdown",
   "id": "1fba36dd",
   "metadata": {},
   "source": [
    "A Ring's additive and multiplicative identity elements can be obtained as follows:"
   ]
  },
  {
   "cell_type": "code",
   "execution_count": 3,
   "id": "bf4439aa",
   "metadata": {},
   "outputs": [
    {
     "data": {
      "text/plain": [
       "'{}'"
      ]
     },
     "execution_count": 3,
     "metadata": {},
     "output_type": "execute_result"
    }
   ],
   "source": [
    "rng.add_identity"
   ]
  },
  {
   "cell_type": "code",
   "execution_count": 4,
   "id": "b8beeb05",
   "metadata": {},
   "outputs": [
    {
     "data": {
      "text/plain": [
       "'{0, 1}'"
      ]
     },
     "execution_count": 4,
     "metadata": {},
     "output_type": "execute_result"
    }
   ],
   "source": [
    "rng.mult_identity"
   ]
  },
  {
   "cell_type": "markdown",
   "id": "604679c2",
   "metadata": {},
   "source": [
    "Or, perhaps more suggestively as follows:"
   ]
  },
  {
   "cell_type": "code",
   "execution_count": 5,
   "id": "2b11396b",
   "metadata": {},
   "outputs": [
    {
     "data": {
      "text/plain": [
       "'{}'"
      ]
     },
     "execution_count": 5,
     "metadata": {},
     "output_type": "execute_result"
    }
   ],
   "source": [
    "rng.zero"
   ]
  },
  {
   "cell_type": "code",
   "execution_count": 6,
   "id": "be4503a2",
   "metadata": {},
   "outputs": [
    {
     "data": {
      "text/plain": [
       "'{0, 1}'"
      ]
     },
     "execution_count": 6,
     "metadata": {},
     "output_type": "execute_result"
    }
   ],
   "source": [
    "rng.one"
   ]
  },
  {
   "cell_type": "markdown",
   "id": "2006fa1a",
   "metadata": {},
   "source": [
    "### Ring Addition and Multiplication"
   ]
  },
  {
   "cell_type": "markdown",
   "id": "2dcab96a",
   "metadata": {},
   "source": [
    "Ring addition, ``add``, is the same as the operation, ``op``, inherited from its superclass, Group.\n",
    "\n",
    "Recall that, in this module, all elements are represented by strings (names).  So, even though the actual elements of a powerset Ring are sets (e.g., {0, 1}), those elements are represented as strings (e.g., \"{0, 1}\").  The two examples below show \"addition\" and \"multiplication\" operations in set notation, along with the same operations as performed by the Ring's ``add`` and ``mult`` operators."
   ]
  },
  {
   "cell_type": "markdown",
   "id": "00e90c71",
   "metadata": {},
   "source": [
    "Ring \"addition\" using set notation: $\\{1\\} \\bigtriangleup \\{0,1\\} = \\{0\\}$"
   ]
  },
  {
   "cell_type": "code",
   "execution_count": 7,
   "id": "4fa9896d",
   "metadata": {},
   "outputs": [
    {
     "data": {
      "text/plain": [
       "'{0}'"
      ]
     },
     "execution_count": 7,
     "metadata": {},
     "output_type": "execute_result"
    }
   ],
   "source": [
    ">>> rng.add(\"{1}\", \"{0, 1}\")"
   ]
  },
  {
   "cell_type": "markdown",
   "id": "04ee9a0d",
   "metadata": {},
   "source": [
    "Ring \"multiplication\" using set notation: $\\{1\\} \\cap \\{0,1\\} = \\{1\\}$"
   ]
  },
  {
   "cell_type": "code",
   "execution_count": 8,
   "id": "3231307c",
   "metadata": {},
   "outputs": [
    {
     "data": {
      "text/plain": [
       "'{1}'"
      ]
     },
     "execution_count": 8,
     "metadata": {},
     "output_type": "execute_result"
    }
   ],
   "source": [
    ">>> rng.mult(\"{1}\", \"{0, 1}\")"
   ]
  },
  {
   "cell_type": "markdown",
   "id": "2a340faa",
   "metadata": {},
   "source": [
    "### Zero Divisors of a Ring"
   ]
  },
  {
   "cell_type": "markdown",
   "id": "90492e2a",
   "metadata": {},
   "source": [
    "**This section needs more work**"
   ]
  },
  {
   "cell_type": "markdown",
   "id": "71ce432f",
   "metadata": {},
   "source": [
    "Suppose $\\alpha \\ne 0 \\in S$, where $0$ is the additive identity element of the Ring, $\\langle S, +, \\times \\rangle$.\n",
    "\n",
    "Then, $\\alpha$ is a **left zero divisor**, if $\\exists \\beta \\in S, \\beta \\ne 0$ such that $\\alpha \\times \\beta = 0$.\n",
    "\n",
    "Similarly, $\\alpha$ is a **right zero divisor**, if $\\exists \\gamma \\in S, \\gamma \\ne 0$ such that $\\gamma \\times \\alpha = 0$."
   ]
  },
  {
   "cell_type": "markdown",
   "id": "88f6b33d",
   "metadata": {},
   "source": [
    "The Ring just created has two zero divisors:"
   ]
  },
  {
   "cell_type": "code",
   "execution_count": 9,
   "id": "5c45e280",
   "metadata": {},
   "outputs": [
    {
     "data": {
      "text/plain": [
       "['{0}', '{1}']"
      ]
     },
     "execution_count": 9,
     "metadata": {},
     "output_type": "execute_result"
    }
   ],
   "source": [
    ">>> rng.zero_divisors()"
   ]
  },
  {
   "cell_type": "markdown",
   "id": "4a7406a4",
   "metadata": {},
   "source": [
    "### Autogeneration of a Powerset Ring"
   ]
  },
  {
   "cell_type": "code",
   "execution_count": 10,
   "id": "adfe0531",
   "metadata": {},
   "outputs": [
    {
     "data": {
      "text/plain": [
       "Ring(\n",
       "'PSRing3',\n",
       "'Autogenerated Ring on powerset of {0, 1, 2} w/ symm. diff. (add) & intersection (mult)',\n",
       "['{}', '{0}', '{1}', '{2}', '{0, 1}', '{0, 2}', '{1, 2}', '{0, 1, 2}'],\n",
       "[[0, 1, 2, 3, 4, 5, 6, 7], [1, 0, 4, 5, 2, 3, 7, 6], [2, 4, 0, 6, 1, 7, 3, 5], [3, 5, 6, 0, 7, 1, 2, 4], [4, 2, 1, 7, 0, 6, 5, 3], [5, 3, 7, 1, 6, 0, 4, 2], [6, 7, 3, 2, 5, 4, 0, 1], [7, 6, 5, 4, 3, 2, 1, 0]],\n",
       "[[0, 0, 0, 0, 0, 0, 0, 0], [0, 1, 0, 0, 1, 1, 0, 1], [0, 0, 2, 0, 2, 0, 2, 2], [0, 0, 0, 3, 0, 3, 3, 3], [0, 1, 2, 0, 4, 1, 2, 4], [0, 1, 0, 3, 1, 5, 3, 5], [0, 0, 2, 3, 2, 3, 6, 6], [0, 1, 2, 3, 4, 5, 6, 7]]\n",
       ")"
      ]
     },
     "execution_count": 10,
     "metadata": {},
     "output_type": "execute_result"
    }
   ],
   "source": [
    ">>> from finite_algebras import generate_powerset_ring\n",
    "\n",
    ">>> psr3 = generate_powerset_ring(3)  # Ring order will be 3!\n",
    "\n",
    ">>> psr3"
   ]
  },
  {
   "cell_type": "code",
   "execution_count": 11,
   "id": "751ef24a",
   "metadata": {
    "scrolled": true
   },
   "outputs": [
    {
     "name": "stdout",
     "output_type": "stream",
     "text": [
      "\n",
      "** Ring **\n",
      "Name: PSRing3\n",
      "Instance ID: 140492419016016\n",
      "Description: Autogenerated Ring on powerset of {0, 1, 2} w/ symm. diff. (add) & intersection (mult)\n",
      "Order: 8\n",
      "Identity: {}\n",
      "Commutative? Yes\n",
      "Cyclic?: No\n",
      "Elements:\n",
      "   Index   Name   Inverse  Order\n",
      "      0      {}      {}       1\n",
      "      1     {0}     {0}       2\n",
      "      2     {1}     {1}       2\n",
      "      3     {2}     {2}       2\n",
      "      4  {0, 1}  {0, 1}       2\n",
      "      5  {0, 2}  {0, 2}       2\n",
      "      6  {1, 2}  {1, 2}       2\n",
      "      7 {0, 1, 2} {0, 1, 2}       2\n",
      "Cayley Table (showing names):\n",
      "[['{}', '{0}', '{1}', '{2}', '{0, 1}', '{0, 2}', '{1, 2}', '{0, 1, 2}'],\n",
      " ['{0}', '{}', '{0, 1}', '{0, 2}', '{1}', '{2}', '{0, 1, 2}', '{1, 2}'],\n",
      " ['{1}', '{0, 1}', '{}', '{1, 2}', '{0}', '{0, 1, 2}', '{2}', '{0, 2}'],\n",
      " ['{2}', '{0, 2}', '{1, 2}', '{}', '{0, 1, 2}', '{0}', '{1}', '{0, 1}'],\n",
      " ['{0, 1}', '{1}', '{0}', '{0, 1, 2}', '{}', '{1, 2}', '{0, 2}', '{2}'],\n",
      " ['{0, 2}', '{2}', '{0, 1, 2}', '{0}', '{1, 2}', '{}', '{0, 1}', '{1}'],\n",
      " ['{1, 2}', '{0, 1, 2}', '{2}', '{1}', '{0, 2}', '{0, 1}', '{}', '{0}'],\n",
      " ['{0, 1, 2}', '{1, 2}', '{0, 2}', '{0, 1}', '{2}', '{1}', '{0}', '{}']]\n",
      "Mult. Identity: {0, 1, 2}\n",
      "Mult. Commutative? Yes\n",
      "Zero Divisors: ['{0}', '{1}', '{2}', '{0, 1}', '{0, 2}', '{1, 2}']\n",
      "Multiplicative Cayley Table (showing names):\n",
      "[['{}', '{}', '{}', '{}', '{}', '{}', '{}', '{}'],\n",
      " ['{}', '{0}', '{}', '{}', '{0}', '{0}', '{}', '{0}'],\n",
      " ['{}', '{}', '{1}', '{}', '{1}', '{}', '{1}', '{1}'],\n",
      " ['{}', '{}', '{}', '{2}', '{}', '{2}', '{2}', '{2}'],\n",
      " ['{}', '{0}', '{1}', '{}', '{0, 1}', '{0}', '{1}', '{0, 1}'],\n",
      " ['{}', '{0}', '{}', '{2}', '{0}', '{0, 2}', '{2}', '{0, 2}'],\n",
      " ['{}', '{}', '{1}', '{2}', '{1}', '{2}', '{1, 2}', '{1, 2}'],\n",
      " ['{}', '{0}', '{1}', '{2}', '{0, 1}', '{0, 2}', '{1, 2}', '{0, 1, 2}']]\n"
     ]
    }
   ],
   "source": [
    ">>> psr3.about(use_table_names=True)"
   ]
  },
  {
   "cell_type": "markdown",
   "id": "730d20ce",
   "metadata": {},
   "source": [
    "### Ring Based on 2x2 Matrices"
   ]
  },
  {
   "cell_type": "markdown",
   "id": "3ac7ff5d",
   "metadata": {},
   "source": [
    "See Example 6 in this reference: http://www-groups.mcs.st-andrews.ac.uk/~john/MT4517/Lectures/L3.html"
   ]
  },
  {
   "cell_type": "markdown",
   "id": "fcdcdb3e",
   "metadata": {},
   "source": [
    "Example 6 is a Ring based on the following matrices, where arithmetic is done modulo 2:\n",
    "\n",
    "$0 = \\begin{bmatrix} 0 & 0 \\\\ 0 & 0 \\end{bmatrix}, a = \\begin{bmatrix} 0 & 1 \\\\ 0 & 0 \\end{bmatrix}, b = \\begin{bmatrix} 0 & 1 \\\\ 0 & 1 \\end{bmatrix}, c = \\begin{bmatrix} 0 & 0 \\\\ 0 & 1 \\end{bmatrix}$"
   ]
  },
  {
   "cell_type": "code",
   "execution_count": 12,
   "id": "b45f962a",
   "metadata": {},
   "outputs": [
    {
     "data": {
      "text/plain": [
       "Ring(\n",
       "'Ex6',\n",
       "'Example 6: http://www-groups.mcs.st-andrews.ac.uk/~john/MT4517/Lectures/L3.html',\n",
       "['0', 'a', 'b', 'c'],\n",
       "[[0, 1, 2, 3], [1, 0, 3, 2], [2, 3, 0, 1], [3, 2, 1, 0]],\n",
       "[[0, 0, 0, 0], [0, 0, 1, 1], [0, 0, 2, 2], [0, 0, 3, 3]]\n",
       ")"
      ]
     },
     "execution_count": 12,
     "metadata": {},
     "output_type": "execute_result"
    }
   ],
   "source": [
    ">>> addtbl = [['0', 'a', 'b', 'c'],\n",
    "              ['a', '0', 'c', 'b'],\n",
    "              ['b', 'c', '0', 'a'],\n",
    "              ['c', 'b', 'a', '0']]\n",
    "\n",
    ">>> multbl = [['0', '0', '0', '0'],\n",
    "              ['0', '0', 'a', 'a'],\n",
    "              ['0', '0', 'b', 'b'],\n",
    "              ['0', '0', 'c', 'c']]\n",
    "\n",
    ">>> ex6 = make_finite_algebra(\n",
    "    'Ex6',\n",
    "    'Example 6: http://www-groups.mcs.st-andrews.ac.uk/~john/MT4517/Lectures/L3.html',\n",
    "    ['0', 'a', 'b', 'c'],\n",
    "    addtbl,\n",
    "    multbl)\n",
    "\n",
    ">>> ex6"
   ]
  },
  {
   "cell_type": "code",
   "execution_count": 13,
   "id": "90bdd80a",
   "metadata": {
    "scrolled": true
   },
   "outputs": [
    {
     "name": "stdout",
     "output_type": "stream",
     "text": [
      "\n",
      "** Ring **\n",
      "Name: Ex6\n",
      "Instance ID: 140492419058320\n",
      "Description: Example 6: http://www-groups.mcs.st-andrews.ac.uk/~john/MT4517/Lectures/L3.html\n",
      "Order: 4\n",
      "Identity: 0\n",
      "Commutative? Yes\n",
      "Cyclic?: No\n",
      "Elements:\n",
      "   Index   Name   Inverse  Order\n",
      "      0       0       0       1\n",
      "      1       a       a       2\n",
      "      2       b       b       2\n",
      "      3       c       c       2\n",
      "Cayley Table (showing names):\n",
      "[['0', 'a', 'b', 'c'],\n",
      " ['a', '0', 'c', 'b'],\n",
      " ['b', 'c', '0', 'a'],\n",
      " ['c', 'b', 'a', '0']]\n",
      "Mult. Identity: None\n",
      "Mult. Commutative? No\n",
      "Zero Divisors: ['a', 'b', 'c']\n",
      "Multiplicative Cayley Table (showing names):\n",
      "[['0', '0', '0', '0'],\n",
      " ['0', '0', 'a', 'a'],\n",
      " ['0', '0', 'b', 'b'],\n",
      " ['0', '0', 'c', 'c']]\n"
     ]
    }
   ],
   "source": [
    ">>> ex6.about(use_table_names=True)"
   ]
  },
  {
   "cell_type": "markdown",
   "id": "655aa72a",
   "metadata": {},
   "source": [
    "### Extracting a Ring's Additive & Multiplicative \"Subalgebras\""
   ]
  },
  {
   "cell_type": "markdown",
   "id": "1ef02dc8",
   "metadata": {},
   "source": [
    "In the Definitions section, a Ring is described as being a combination of a commutative Group, under addition, and a Semigroup, under multiplication (with distributivity of multiplication over addition). This section shows how those algebraic components of a Ring can be extracted.\n",
    "\n",
    "The implementation of the two extraction methods, illustrated below, operates by calling ``make_finite_algebra`` using the relevant portions of the Ring.  That way, the appropriate algebras are returned: a commutative Group for the additive portion, and, at a minimum, a Semigroup for the multiplicative portion.\n",
    "\n",
    "The example to follow uses the Ring, ``ex6``, created above."
   ]
  },
  {
   "cell_type": "code",
   "execution_count": 14,
   "id": "53a86446",
   "metadata": {},
   "outputs": [
    {
     "data": {
      "text/plain": [
       "Ring(\n",
       "'Ex6',\n",
       "'Example 6: http://www-groups.mcs.st-andrews.ac.uk/~john/MT4517/Lectures/L3.html',\n",
       "['0', 'a', 'b', 'c'],\n",
       "[[0, 1, 2, 3], [1, 0, 3, 2], [2, 3, 0, 1], [3, 2, 1, 0]],\n",
       "[[0, 0, 0, 0], [0, 0, 1, 1], [0, 0, 2, 2], [0, 0, 3, 3]]\n",
       ")"
      ]
     },
     "execution_count": 14,
     "metadata": {},
     "output_type": "execute_result"
    }
   ],
   "source": [
    ">>> ex6"
   ]
  },
  {
   "cell_type": "markdown",
   "id": "6a95bc45",
   "metadata": {},
   "source": [
    "The **additive portion** of this example ring is a commutative Group, as expected:"
   ]
  },
  {
   "cell_type": "code",
   "execution_count": 15,
   "id": "9c20ffdd",
   "metadata": {},
   "outputs": [
    {
     "name": "stdout",
     "output_type": "stream",
     "text": [
      "\n",
      "** Group **\n",
      "Name: Ex6.Add\n",
      "Instance ID: 140492419056720\n",
      "Description: Additive-only portion of Ex6\n",
      "Order: 4\n",
      "Identity: 0\n",
      "Commutative? Yes\n",
      "Cyclic?: No\n",
      "Elements:\n",
      "   Index   Name   Inverse  Order\n",
      "      0       0       0       1\n",
      "      1       a       a       2\n",
      "      2       b       b       2\n",
      "      3       c       c       2\n",
      "Cayley Table (showing indices):\n",
      "[[0, 1, 2, 3], [1, 0, 3, 2], [2, 3, 0, 1], [3, 2, 1, 0]]\n"
     ]
    }
   ],
   "source": [
    ">>> ex6_add = ex6.extract_additive_algebra()\n",
    ">>> ex6_add.about()"
   ]
  },
  {
   "cell_type": "markdown",
   "id": "f70e12f0",
   "metadata": {},
   "source": [
    "And, the **multiplicative portion** is a Semigroup:"
   ]
  },
  {
   "cell_type": "code",
   "execution_count": 16,
   "id": "2950632c",
   "metadata": {},
   "outputs": [
    {
     "data": {
      "text/plain": [
       "Semigroup(\n",
       "'Ex6.Mult',\n",
       "'Multiplicative-only portion of Ex6',\n",
       "['0', 'a', 'b', 'c'],\n",
       "[[0, 0, 0, 0], [0, 0, 1, 1], [0, 0, 2, 2], [0, 0, 3, 3]]\n",
       ")"
      ]
     },
     "execution_count": 16,
     "metadata": {},
     "output_type": "execute_result"
    }
   ],
   "source": [
    ">>> ex6_mult = ex6.extract_multiplicative_algebra()\n",
    ">>> ex6_mult"
   ]
  },
  {
   "cell_type": "markdown",
   "id": "8777f91f",
   "metadata": {},
   "source": [
    "### Autogenerating a Commutative Ring"
   ]
  },
  {
   "cell_type": "markdown",
   "id": "3d59e0c9",
   "metadata": {},
   "source": [
    "The function, ``generate_algebra_mod_n``, is based on [example 2 here](http://www-groups.mcs.st-andrews.ac.uk/~john/MT4517/Lectures/L3.html) and [Wikipedia here](https://en.wikipedia.org/wiki/Finite_field#Field_with_four_elements).  The $+$ and $\\times$ operations are the usual integer addition and multiplication modulo the order (n), resp.\n",
    "\n",
    "As long as the order (n) is not prime the function ``generate_algebra_mod_n`` will produce a Ring, but for a prime order, it will produce a Field."
   ]
  },
  {
   "cell_type": "code",
   "execution_count": 17,
   "id": "c02aded8",
   "metadata": {},
   "outputs": [],
   "source": [
    ">>> from finite_algebras import generate_algebra_mod_n"
   ]
  },
  {
   "cell_type": "code",
   "execution_count": 18,
   "id": "4d6a1a6d",
   "metadata": {
    "scrolled": true
   },
   "outputs": [
    {
     "data": {
      "text/plain": [
       "Ring(\n",
       "'R6',\n",
       "'Autogenerated Ring of integers mod 6',\n",
       "['a0', 'a1', 'a2', 'a3', 'a4', 'a5'],\n",
       "[[0, 1, 2, 3, 4, 5], [1, 2, 3, 4, 5, 0], [2, 3, 4, 5, 0, 1], [3, 4, 5, 0, 1, 2], [4, 5, 0, 1, 2, 3], [5, 0, 1, 2, 3, 4]],\n",
       "[[0, 0, 0, 0, 0, 0], [0, 1, 2, 3, 4, 5], [0, 2, 4, 0, 2, 4], [0, 3, 0, 3, 0, 3], [0, 4, 2, 0, 4, 2], [0, 5, 4, 3, 2, 1]]\n",
       ")"
      ]
     },
     "execution_count": 18,
     "metadata": {},
     "output_type": "execute_result"
    }
   ],
   "source": [
    ">>> r6 = generate_algebra_mod_n(6)\n",
    ">>> r6"
   ]
  },
  {
   "cell_type": "code",
   "execution_count": 19,
   "id": "018dfe39",
   "metadata": {},
   "outputs": [
    {
     "name": "stdout",
     "output_type": "stream",
     "text": [
      "\n",
      "** Ring **\n",
      "Name: R6\n",
      "Instance ID: 140492419071120\n",
      "Description: Autogenerated Ring of integers mod 6\n",
      "Order: 6\n",
      "Identity: a0\n",
      "Commutative? Yes\n",
      "Cyclic?: Yes\n",
      "  Generators: ['a1', 'a5']\n",
      "Elements:\n",
      "   Index   Name   Inverse  Order\n",
      "      0      a0      a0       1\n",
      "      1      a1      a5       6\n",
      "      2      a2      a4       3\n",
      "      3      a3      a3       2\n",
      "      4      a4      a2       3\n",
      "      5      a5      a1       6\n",
      "Cayley Table (showing names):\n",
      "[['a0', 'a1', 'a2', 'a3', 'a4', 'a5'],\n",
      " ['a1', 'a2', 'a3', 'a4', 'a5', 'a0'],\n",
      " ['a2', 'a3', 'a4', 'a5', 'a0', 'a1'],\n",
      " ['a3', 'a4', 'a5', 'a0', 'a1', 'a2'],\n",
      " ['a4', 'a5', 'a0', 'a1', 'a2', 'a3'],\n",
      " ['a5', 'a0', 'a1', 'a2', 'a3', 'a4']]\n",
      "Mult. Identity: a1\n",
      "Mult. Commutative? Yes\n",
      "Zero Divisors: ['a2', 'a3', 'a4']\n",
      "Multiplicative Cayley Table (showing names):\n",
      "[['a0', 'a0', 'a0', 'a0', 'a0', 'a0'],\n",
      " ['a0', 'a1', 'a2', 'a3', 'a4', 'a5'],\n",
      " ['a0', 'a2', 'a4', 'a0', 'a2', 'a4'],\n",
      " ['a0', 'a3', 'a0', 'a3', 'a0', 'a3'],\n",
      " ['a0', 'a4', 'a2', 'a0', 'a4', 'a2'],\n",
      " ['a0', 'a5', 'a4', 'a3', 'a2', 'a1']]\n"
     ]
    }
   ],
   "source": [
    ">>> r6.about(use_table_names=True)"
   ]
  },
  {
   "cell_type": "markdown",
   "id": "e22a91dc",
   "metadata": {},
   "source": [
    "Notice that there is a multiplicative identity in the Ring, above.  So, if we extract the multiplicative portion of that Ring we should expect to obtain a Monoid, instead of a Semigroup, and we do, as shown below."
   ]
  },
  {
   "cell_type": "code",
   "execution_count": 20,
   "id": "256e9ca0",
   "metadata": {},
   "outputs": [
    {
     "name": "stdout",
     "output_type": "stream",
     "text": [
      "\n",
      "** Monoid **\n",
      "Name: R6.Mult\n",
      "Instance ID: 140492419019728\n",
      "Description: Multiplicative-only portion of R6\n",
      "Order: 6\n",
      "Identity: a1\n",
      "Associative? Yes\n",
      "Commutative? Yes\n",
      "Cyclic?: No\n",
      "Elements: ['a0', 'a1', 'a2', 'a3', 'a4', 'a5']\n",
      "Has Inverses? No\n",
      "Cayley Table (showing indices):\n",
      "[[0, 0, 0, 0, 0, 0],\n",
      " [0, 1, 2, 3, 4, 5],\n",
      " [0, 2, 4, 0, 2, 4],\n",
      " [0, 3, 0, 3, 0, 3],\n",
      " [0, 4, 2, 0, 4, 2],\n",
      " [0, 5, 4, 3, 2, 1]]\n"
     ]
    }
   ],
   "source": [
    ">>> r6mult = r6.extract_multiplicative_algebra()\n",
    ">>> r6mult.about()"
   ]
  },
  {
   "cell_type": "markdown",
   "id": "97ad7092",
   "metadata": {},
   "source": [
    "## Field"
   ]
  },
  {
   "cell_type": "markdown",
   "id": "fc0b8ee1",
   "metadata": {},
   "source": [
    "**Field** -- a Ring $\\langle S, +, \\times \\rangle$, where $\\langle S\\setminus{\\{0\\}}, \\times \\rangle$ is a commutative Group.\n",
    "\n",
    "$S\\setminus{\\{0\\}}$ is the set $S$ with the additive identity element removed."
   ]
  },
  {
   "cell_type": "markdown",
   "id": "c04a0e72",
   "metadata": {},
   "source": [
    "### Example: A field with four elements"
   ]
  },
  {
   "cell_type": "markdown",
   "id": "7a5645c9",
   "metadata": {},
   "source": [
    "**Reference**: Wikipedia: [\"Field with four elements\"](https://en.wikipedia.org/wiki/Finite_field#Field_with_four_elements)"
   ]
  },
  {
   "cell_type": "code",
   "execution_count": 21,
   "id": "3704cbc8",
   "metadata": {},
   "outputs": [
    {
     "name": "stdout",
     "output_type": "stream",
     "text": [
      "\n",
      "** Field **\n",
      "Name: F4\n",
      "Instance ID: 140492419166480\n",
      "Description: Field with 4 elements\n",
      "Order: 4\n",
      "Identity: 0\n",
      "Commutative? Yes\n",
      "Cyclic?: Yes\n",
      "  Generators: ['1+a', 'a']\n",
      "Elements:\n",
      "   Index   Name   Inverse  Order\n",
      "      0       0       0       1\n",
      "      1       1       1       2\n",
      "      2       a       a       2\n",
      "      3     1+a     1+a       2\n",
      "Cayley Table (showing indices):\n",
      "[[0, 1, 2, 3], [1, 0, 3, 2], [2, 3, 0, 1], [3, 2, 1, 0]]\n",
      "Mult. Identity: 1\n",
      "Mult. Commutative? Yes\n",
      "Zero Divisors: None\n",
      "Multiplicative Cayley Table (showing indices):\n",
      "[[0, 0, 0, 0], [0, 1, 2, 3], [0, 2, 3, 1], [0, 3, 1, 2]]\n"
     ]
    }
   ],
   "source": [
    ">>> elems = ['0', '1', 'a', '1+a']\n",
    "\n",
    ">>> add_table = [[ '0' ,  '1' ,  'a' , '1+a'],\n",
    "                 [ '1' ,  '0' , '1+a',  'a' ],\n",
    "                 [ 'a' , '1+a',  '0' ,  '1' ],\n",
    "                 ['1+a',  'a' ,  '1' ,  '0' ]]\n",
    "\n",
    ">>> mult_table = [['0',  '0' ,  '0' ,  '0' ],\n",
    "                  ['0',  '1' ,  'a' , '1+a'],\n",
    "                  ['0',  'a' , '1+a',  '1' ],\n",
    "                  ['0', '1+a',  '1' ,  'a' ]]\n",
    "\n",
    ">>> f4 = make_finite_algebra('F4',\n",
    "                             'Field with 4 elements',\n",
    "                             elems,\n",
    "                             add_table,\n",
    "                             mult_table\n",
    "                            )\n",
    ">>> f4.about()"
   ]
  },
  {
   "cell_type": "markdown",
   "id": "af8326e5",
   "metadata": {},
   "source": [
    "### Addition & Multiplication in Fields"
   ]
  },
  {
   "cell_type": "markdown",
   "id": "30290859",
   "metadata": {},
   "source": [
    "A Field's addition and multiplication operations are inherited from its superclass, Ring."
   ]
  },
  {
   "cell_type": "code",
   "execution_count": 22,
   "id": "da47de11",
   "metadata": {},
   "outputs": [
    {
     "data": {
      "text/plain": [
       "'1+a'"
      ]
     },
     "execution_count": 22,
     "metadata": {},
     "output_type": "execute_result"
    }
   ],
   "source": [
    ">>> f4.add('a', '1')"
   ]
  },
  {
   "cell_type": "code",
   "execution_count": 23,
   "id": "5ea872eb",
   "metadata": {},
   "outputs": [
    {
     "data": {
      "text/plain": [
       "'1+a'"
      ]
     },
     "execution_count": 23,
     "metadata": {},
     "output_type": "execute_result"
    }
   ],
   "source": [
    ">>> f4.mult('a', 'a')"
   ]
  },
  {
   "cell_type": "markdown",
   "id": "c810a1a7",
   "metadata": {},
   "source": [
    "### Division in Fields"
   ]
  },
  {
   "cell_type": "markdown",
   "id": "de2bbf0c",
   "metadata": {},
   "source": [
    "The method, ``div``, is a convenience method in Fields for computing \"$\\alpha \\div \\beta, \\beta \\ne 0$\", that is, $\\alpha \\times \\beta^{-1}$ where $\\alpha, \\beta \\in \\langle F, +, \\times \\rangle$."
   ]
  },
  {
   "cell_type": "code",
   "execution_count": 24,
   "id": "e640d395",
   "metadata": {},
   "outputs": [
    {
     "name": "stdout",
     "output_type": "stream",
     "text": [
      "For example, \"a / 1+a\" = a * inv(1+a) = a * a = 1+a\n"
     ]
    }
   ],
   "source": [
    ">>> a = 'a'\n",
    ">>> b = '1+a'\n",
    ">>> print(f\"For example, \\\"{a} / {b}\\\" = {a} * inv({b}) = {a} * {f4.mult_inv(b)} = {f4.mult(a, f4.mult_inv(b))}\")"
   ]
  },
  {
   "cell_type": "code",
   "execution_count": 25,
   "id": "abccd59d",
   "metadata": {},
   "outputs": [
    {
     "data": {
      "text/plain": [
       "'1+a'"
      ]
     },
     "execution_count": 25,
     "metadata": {},
     "output_type": "execute_result"
    }
   ],
   "source": [
    ">>> f4.div(a, b)"
   ]
  },
  {
   "cell_type": "markdown",
   "id": "442ce45d",
   "metadata": {},
   "source": [
    "Recall the definition of a Field, given in the Definition section:\n",
    "\n",
    "**Field** -- a Ring $\\langle S, +, \\times \\rangle$, where $\\langle S\\setminus{\\{0\\}}, \\times \\rangle$ is a commutative Group.\n",
    "\n",
    "During Field construction, the commutative Group, mentioned in the definition, is also constructed and stored inside the Field instance.  It is used to obtain multiplicative inverses and to define a *division* method, ``div``.\n",
    "\n",
    "The ``div`` method, for example, can be used to construct the \"Division x/y\" table shown in the Wikipedia entry, [\"Field with four elements\"](https://en.wikipedia.org/wiki/Finite_field#Field_with_four_elements):"
   ]
  },
  {
   "cell_type": "code",
   "execution_count": 26,
   "id": "2a615acf",
   "metadata": {},
   "outputs": [
    {
     "name": "stdout",
     "output_type": "stream",
     "text": [
      "['0', '0', '0']\n",
      "['1', '1+a', 'a']\n",
      "['a', '1', '1+a']\n",
      "['1+a', 'a', '1']\n"
     ]
    }
   ],
   "source": [
    ">>> div_table = [[f4.div(x, y) for y in f4.elements if y != f4.zero] for x in f4.elements]\n",
    "\n",
    ">>> for row in div_table:\n",
    ">>>     print(row)"
   ]
  },
  {
   "cell_type": "markdown",
   "id": "cc7827be",
   "metadata": {},
   "source": [
    "### Autogenerated Prime Field"
   ]
  },
  {
   "cell_type": "markdown",
   "id": "75c15576",
   "metadata": {},
   "source": [
    "The example here uses the function, ``generate_algebra_mod_n``, described above.  As noted above, if the order, n, is prime, then it will produce a Field."
   ]
  },
  {
   "cell_type": "code",
   "execution_count": 27,
   "id": "8d3b6b15",
   "metadata": {},
   "outputs": [
    {
     "name": "stdout",
     "output_type": "stream",
     "text": [
      "\n",
      "** Field **\n",
      "Name: F7\n",
      "Instance ID: 140492419124752\n",
      "Description: Autogenerated Field of integers mod 7\n",
      "Order: 7\n",
      "Identity: a0\n",
      "Commutative? Yes\n",
      "Cyclic?: Yes\n",
      "  Generators: ['a1', 'a2', 'a3', 'a4', 'a5', 'a6']\n",
      "Elements:\n",
      "   Index   Name   Inverse  Order\n",
      "      0      a0      a0       1\n",
      "      1      a1      a6       7\n",
      "      2      a2      a5       7\n",
      "      3      a3      a4       7\n",
      "      4      a4      a3       7\n",
      "      5      a5      a2       7\n",
      "      6      a6      a1       7\n",
      "Cayley Table (showing indices):\n",
      "[[0, 1, 2, 3, 4, 5, 6],\n",
      " [1, 2, 3, 4, 5, 6, 0],\n",
      " [2, 3, 4, 5, 6, 0, 1],\n",
      " [3, 4, 5, 6, 0, 1, 2],\n",
      " [4, 5, 6, 0, 1, 2, 3],\n",
      " [5, 6, 0, 1, 2, 3, 4],\n",
      " [6, 0, 1, 2, 3, 4, 5]]\n",
      "Mult. Identity: a1\n",
      "Mult. Commutative? Yes\n",
      "Zero Divisors: None\n",
      "Multiplicative Cayley Table (showing indices):\n",
      "[[0, 0, 0, 0, 0, 0, 0],\n",
      " [0, 1, 2, 3, 4, 5, 6],\n",
      " [0, 2, 4, 6, 1, 3, 5],\n",
      " [0, 3, 6, 2, 5, 1, 4],\n",
      " [0, 4, 1, 5, 2, 6, 3],\n",
      " [0, 5, 3, 1, 6, 4, 2],\n",
      " [0, 6, 5, 4, 3, 2, 1]]\n"
     ]
    }
   ],
   "source": [
    ">>> from finite_algebras import generate_algebra_mod_n\n",
    "\n",
    ">>> f7 = generate_algebra_mod_n(7)\n",
    ">>> f7.about()"
   ]
  },
  {
   "cell_type": "markdown",
   "id": "bbfe3942",
   "metadata": {},
   "source": [
    "## Serialization"
   ]
  },
  {
   "cell_type": "markdown",
   "id": "e46efff2",
   "metadata": {},
   "source": [
    "Rings and Fields can be converted to and from JSON strings/files and Python dictionaries."
   ]
  },
  {
   "cell_type": "markdown",
   "id": "6af6d844",
   "metadata": {},
   "source": [
    "### Instantiate Algebra from JSON File"
   ]
  },
  {
   "cell_type": "markdown",
   "id": "773947f1",
   "metadata": {},
   "source": [
    "First setup some path variables:\n",
    "\n",
    "* one that points to the abstract_algebra directory\n",
    "* and the other points to a subdirectory containing algebra definitions in JSON format\n",
    "\n",
    "Also, the code here assumes that there is an environment\n",
    "variable, ``PYPROJ``, that points to the parent directory of the abstract_algebra directory."
   ]
  },
  {
   "cell_type": "code",
   "execution_count": 28,
   "id": "942bc539",
   "metadata": {},
   "outputs": [],
   "source": [
    ">>> import os\n",
    ">>> aa_path = os.path.join(os.getenv(\"PYPROJ\"), \"abstract_algebra\")\n",
    ">>> alg_dir = os.path.join(aa_path, \"Algebras\")"
   ]
  },
  {
   "cell_type": "markdown",
   "id": "9c20b46f",
   "metadata": {},
   "source": [
    "Here's the path to the JSON file for the \"field with four elements\", and a listing of the file itself."
   ]
  },
  {
   "cell_type": "code",
   "execution_count": 29,
   "id": "67298ea2",
   "metadata": {},
   "outputs": [
    {
     "name": "stdout",
     "output_type": "stream",
     "text": [
      "{\"name\": \"F4\",\r\n",
      " \"description\": \"Field with 4 elements (from Wikipedia)\",\r\n",
      " \"elements\": [\"0\", \"1\", \"a\", \"1+a\"],\r\n",
      " \"table\": [[0, 1, 2, 3],\r\n",
      "           [1, 0, 3, 2],\r\n",
      "           [2, 3, 0, 1],\r\n",
      "           [3, 2, 1, 0]],\r\n",
      " \"table2\": [[0, 0, 0, 0],\r\n",
      "            [0, 1, 2, 3],\r\n",
      "            [0, 2, 3, 1],\r\n",
      "            [0, 3, 1, 2]]\r\n",
      "}\r\n"
     ]
    }
   ],
   "source": [
    ">>> f4_json = os.path.join(alg_dir, \"field_with_four_elements.json\")\n",
    "\n",
    ">>> !cat {f4_json}"
   ]
  },
  {
   "cell_type": "markdown",
   "id": "57b7d60b",
   "metadata": {},
   "source": [
    "And here's the field created from the JSON file."
   ]
  },
  {
   "cell_type": "code",
   "execution_count": 30,
   "id": "da83c47d",
   "metadata": {},
   "outputs": [
    {
     "data": {
      "text/plain": [
       "Field(\n",
       "'F4',\n",
       "'Field with 4 elements (from Wikipedia)',\n",
       "['0', '1', 'a', '1+a'],\n",
       "[[0, 1, 2, 3], [1, 0, 3, 2], [2, 3, 0, 1], [3, 2, 1, 0]],\n",
       "[[0, 0, 0, 0], [0, 1, 2, 3], [0, 2, 3, 1], [0, 3, 1, 2]]\n",
       ")"
      ]
     },
     "execution_count": 30,
     "metadata": {},
     "output_type": "execute_result"
    }
   ],
   "source": [
    ">>> f4 = make_finite_algebra(f4_json)\n",
    "\n",
    ">>> f4"
   ]
  },
  {
   "cell_type": "markdown",
   "id": "b457b519",
   "metadata": {},
   "source": [
    "### Convert Algebra to Python Dictionary"
   ]
  },
  {
   "cell_type": "markdown",
   "id": "2c1a4bfb",
   "metadata": {},
   "source": [
    "The example, below, shows a Field, being converted into dictionary."
   ]
  },
  {
   "cell_type": "code",
   "execution_count": 31,
   "id": "4d994f7f",
   "metadata": {},
   "outputs": [
    {
     "data": {
      "text/plain": [
       "{'name': 'F4',\n",
       " 'description': 'Field with 4 elements (from Wikipedia)',\n",
       " 'elements': ['0', '1', 'a', '1+a'],\n",
       " 'table': [[0, 1, 2, 3], [1, 0, 3, 2], [2, 3, 0, 1], [3, 2, 1, 0]],\n",
       " 'table2': [[0, 0, 0, 0], [0, 1, 2, 3], [0, 2, 3, 1], [0, 3, 1, 2]]}"
      ]
     },
     "execution_count": 31,
     "metadata": {},
     "output_type": "execute_result"
    }
   ],
   "source": [
    ">>> f4_dict = f4.to_dict()\n",
    "\n",
    ">>> f4_dict"
   ]
  },
  {
   "cell_type": "markdown",
   "id": "03f410ac",
   "metadata": {},
   "source": [
    "### Instantiate Algebra from Python Dictionary"
   ]
  },
  {
   "cell_type": "code",
   "execution_count": 32,
   "id": "4906899e",
   "metadata": {},
   "outputs": [
    {
     "data": {
      "text/plain": [
       "Field(\n",
       "'F4',\n",
       "'Field with 4 elements (from Wikipedia)',\n",
       "['0', '1', 'a', '1+a'],\n",
       "[[0, 1, 2, 3], [1, 0, 3, 2], [2, 3, 0, 1], [3, 2, 1, 0]],\n",
       "[[0, 0, 0, 0], [0, 1, 2, 3], [0, 2, 3, 1], [0, 3, 1, 2]]\n",
       ")"
      ]
     },
     "execution_count": 32,
     "metadata": {},
     "output_type": "execute_result"
    }
   ],
   "source": [
    ">>> f4_from_dict = make_finite_algebra(f4_dict)\n",
    "\n",
    ">>> f4_from_dict"
   ]
  },
  {
   "cell_type": "markdown",
   "id": "554d6c6e",
   "metadata": {},
   "source": [
    "### Convert Algebra to JSON String"
   ]
  },
  {
   "cell_type": "code",
   "execution_count": 33,
   "id": "653ee02c",
   "metadata": {},
   "outputs": [
    {
     "data": {
      "text/plain": [
       "'{\"name\": \"F4\", \"description\": \"Field with 4 elements (from Wikipedia)\", \"elements\": [\"0\", \"1\", \"a\", \"1+a\"], \"table\": [[0, 1, 2, 3], [1, 0, 3, 2], [2, 3, 0, 1], [3, 2, 1, 0]], \"table2\": [[0, 0, 0, 0], [0, 1, 2, 3], [0, 2, 3, 1], [0, 3, 1, 2]]}'"
      ]
     },
     "execution_count": 33,
     "metadata": {},
     "output_type": "execute_result"
    }
   ],
   "source": [
    ">>> f4_json_string = f4.dumps()\n",
    "\n",
    ">>> f4_json_string"
   ]
  },
  {
   "cell_type": "markdown",
   "id": "61e48215",
   "metadata": {},
   "source": [
    "**WARNING**: Although an algebra can be constructed by loading its definition from a JSON file, it cannot be constructed directly from a JSON string, because ``make_finite_algebra`` interprets a single string input as a JSON file name.  To load an algebra from a JSON string, first convert the string to a Python dictionary, then input that to ``make_finite_algebra``, as shown below:"
   ]
  },
  {
   "cell_type": "code",
   "execution_count": 34,
   "id": "44492b8f",
   "metadata": {},
   "outputs": [
    {
     "data": {
      "text/plain": [
       "Field(\n",
       "'F4',\n",
       "'Field with 4 elements (from Wikipedia)',\n",
       "['0', '1', 'a', '1+a'],\n",
       "[[0, 1, 2, 3], [1, 0, 3, 2], [2, 3, 0, 1], [3, 2, 1, 0]],\n",
       "[[0, 0, 0, 0], [0, 1, 2, 3], [0, 2, 3, 1], [0, 3, 1, 2]]\n",
       ")"
      ]
     },
     "execution_count": 34,
     "metadata": {},
     "output_type": "execute_result"
    }
   ],
   "source": [
    ">>> import json\n",
    "\n",
    ">>> make_finite_algebra(json.loads(f4_json_string))"
   ]
  },
  {
   "cell_type": "markdown",
   "id": "67471021",
   "metadata": {},
   "source": [
    "## Autogeneration of Rings & Fields\n",
    "\n",
    "There are several functions for autogenerating finite Rings and Fields of specified size:\n",
    "\n",
    "* ``generate_powerset_ring``: $A+B \\equiv A \\bigtriangleup B$ and $A \\times B \\equiv A \\cap B$, where $A,B \\in P(\\{0, 1, ..., n-1\\})$\n",
    "* ``generate_algebra_mod_n``: Combination of <i>generate_cyclic_group</i> ($+$) and <i>generate_commutative_monoid</i> ($\\times$)\n",
    "  * If n is prime, then this will be a Field, otherwise it will be a Ring"
   ]
  },
  {
   "cell_type": "markdown",
   "id": "ff1e0e55",
   "metadata": {},
   "source": [
    "## Direct Products"
   ]
  },
  {
   "cell_type": "markdown",
   "id": "7c64e466",
   "metadata": {},
   "source": [
    "The **direct product** of two or more algebras can be generated using Python's multiplication operator, ``*``:"
   ]
  },
  {
   "cell_type": "markdown",
   "id": "16d67c95",
   "metadata": {},
   "source": [
    "### Direct Product of Multiple Fields"
   ]
  },
  {
   "cell_type": "markdown",
   "id": "513c1997",
   "metadata": {},
   "source": [
    "The direct product of a finite Field with itself will produce a finite abelian Group."
   ]
  },
  {
   "cell_type": "code",
   "execution_count": 35,
   "id": "a7f4e62f",
   "metadata": {},
   "outputs": [
    {
     "name": "stdout",
     "output_type": "stream",
     "text": [
      "\n",
      "** Ring **\n",
      "Name: F4_x_F4\n",
      "Instance ID: 140492419042256\n",
      "Description: Direct product of F4 & F4\n",
      "Order: 16\n",
      "Identity: 0:0\n",
      "Commutative? Yes\n",
      "Cyclic?: No\n",
      "Elements:\n",
      "   Index   Name   Inverse  Order\n",
      "      0     0:0     0:0       1\n",
      "      1     0:1     0:1       2\n",
      "      2     0:a     0:a       2\n",
      "      3   0:1+a   0:1+a       2\n",
      "      4     1:0     1:0       2\n",
      "      5     1:1     1:1       2\n",
      "      6     1:a     1:a       2\n",
      "      7   1:1+a   1:1+a       2\n",
      "      8     a:0     a:0       2\n",
      "      9     a:1     a:1       2\n",
      "     10     a:a     a:a       2\n",
      "     11   a:1+a   a:1+a       2\n",
      "     12   1+a:0   1+a:0       2\n",
      "     13   1+a:1   1+a:1       2\n",
      "     14   1+a:a   1+a:a       2\n",
      "     15 1+a:1+a 1+a:1+a       2\n",
      "Cayley Table (showing indices):\n",
      "[[0, 1, 2, 3, 4, 5, 6, 7, 8, 9, 10, 11, 12, 13, 14, 15],\n",
      " [1, 0, 3, 2, 5, 4, 7, 6, 9, 8, 11, 10, 13, 12, 15, 14],\n",
      " [2, 3, 0, 1, 6, 7, 4, 5, 10, 11, 8, 9, 14, 15, 12, 13],\n",
      " [3, 2, 1, 0, 7, 6, 5, 4, 11, 10, 9, 8, 15, 14, 13, 12],\n",
      " [4, 5, 6, 7, 0, 1, 2, 3, 12, 13, 14, 15, 8, 9, 10, 11],\n",
      " [5, 4, 7, 6, 1, 0, 3, 2, 13, 12, 15, 14, 9, 8, 11, 10],\n",
      " [6, 7, 4, 5, 2, 3, 0, 1, 14, 15, 12, 13, 10, 11, 8, 9],\n",
      " [7, 6, 5, 4, 3, 2, 1, 0, 15, 14, 13, 12, 11, 10, 9, 8],\n",
      " [8, 9, 10, 11, 12, 13, 14, 15, 0, 1, 2, 3, 4, 5, 6, 7],\n",
      " [9, 8, 11, 10, 13, 12, 15, 14, 1, 0, 3, 2, 5, 4, 7, 6],\n",
      " [10, 11, 8, 9, 14, 15, 12, 13, 2, 3, 0, 1, 6, 7, 4, 5],\n",
      " [11, 10, 9, 8, 15, 14, 13, 12, 3, 2, 1, 0, 7, 6, 5, 4],\n",
      " [12, 13, 14, 15, 8, 9, 10, 11, 4, 5, 6, 7, 0, 1, 2, 3],\n",
      " [13, 12, 15, 14, 9, 8, 11, 10, 5, 4, 7, 6, 1, 0, 3, 2],\n",
      " [14, 15, 12, 13, 10, 11, 8, 9, 6, 7, 4, 5, 2, 3, 0, 1],\n",
      " [15, 14, 13, 12, 11, 10, 9, 8, 7, 6, 5, 4, 3, 2, 1, 0]]\n",
      "Mult. Identity: 1:1\n",
      "Mult. Commutative? Yes\n",
      "Zero Divisors: ['0:1', '0:a', '0:1+a', '1:0', 'a:0', '1+a:0']\n",
      "Multiplicative Cayley Table (showing indices):\n",
      "[[0, 0, 0, 0, 0, 0, 0, 0, 0, 0, 0, 0, 0, 0, 0, 0],\n",
      " [0, 1, 2, 3, 0, 1, 2, 3, 0, 1, 2, 3, 0, 1, 2, 3],\n",
      " [0, 2, 3, 1, 0, 2, 3, 1, 0, 2, 3, 1, 0, 2, 3, 1],\n",
      " [0, 3, 1, 2, 0, 3, 1, 2, 0, 3, 1, 2, 0, 3, 1, 2],\n",
      " [0, 0, 0, 0, 4, 4, 4, 4, 8, 8, 8, 8, 12, 12, 12, 12],\n",
      " [0, 1, 2, 3, 4, 5, 6, 7, 8, 9, 10, 11, 12, 13, 14, 15],\n",
      " [0, 2, 3, 1, 4, 6, 7, 5, 8, 10, 11, 9, 12, 14, 15, 13],\n",
      " [0, 3, 1, 2, 4, 7, 5, 6, 8, 11, 9, 10, 12, 15, 13, 14],\n",
      " [0, 0, 0, 0, 8, 8, 8, 8, 12, 12, 12, 12, 4, 4, 4, 4],\n",
      " [0, 1, 2, 3, 8, 9, 10, 11, 12, 13, 14, 15, 4, 5, 6, 7],\n",
      " [0, 2, 3, 1, 8, 10, 11, 9, 12, 14, 15, 13, 4, 6, 7, 5],\n",
      " [0, 3, 1, 2, 8, 11, 9, 10, 12, 15, 13, 14, 4, 7, 5, 6],\n",
      " [0, 0, 0, 0, 12, 12, 12, 12, 4, 4, 4, 4, 8, 8, 8, 8],\n",
      " [0, 1, 2, 3, 12, 13, 14, 15, 4, 5, 6, 7, 8, 9, 10, 11],\n",
      " [0, 2, 3, 1, 12, 14, 15, 13, 4, 6, 7, 5, 8, 10, 11, 9],\n",
      " [0, 3, 1, 2, 12, 15, 13, 14, 4, 7, 5, 6, 8, 11, 9, 10]]\n"
     ]
    }
   ],
   "source": [
    ">>> f4_sqr = f4 * f4\n",
    "\n",
    ">>> f4_sqr.about(max_size=16)"
   ]
  },
  {
   "cell_type": "markdown",
   "id": "02becc39",
   "metadata": {},
   "source": [
    "## Cayley Tables"
   ]
  },
  {
   "cell_type": "markdown",
   "id": "312bfdc5",
   "metadata": {},
   "source": [
    "Under normal usage, there should be no need to directly create Cayley Tables. This section, however, provides a brief glimse at the ``CayleyTable`` class.\n",
    "\n",
    "All of the properties of a finite algebra can be determined from its Cayley Table, or in the case of this Python module, its ``CayleyTable``.  That functionality is passed through to the appropriate methods of the various algebras.  Below, is a demonstration of how **distributivity** between two binary operations can be determined using their Cayley Tables."
   ]
  },
  {
   "cell_type": "markdown",
   "id": "902d07e5",
   "metadata": {},
   "source": [
    "The two tables, below, were generated from the powerset of a 3 element set, where \"addition\" is **symmetric difference** and \"multiplication\" is **intersection**.  Recall, the order of the powerset is $2^n$, where $n$ is the size of the set."
   ]
  },
  {
   "cell_type": "markdown",
   "id": "882cd937",
   "metadata": {},
   "source": [
    "The element names are simply the string representations of the sets in the powerset:\n",
    "\n",
    "['{}', '{0}', '{1}', '{2}', '{0, 1}', '{0, 2}', '{1, 2}', '{0, 1, 2}']\n",
    "\n",
    "And the tables, below, contain the positions (indices) of the 8 elements in the powerset:"
   ]
  },
  {
   "cell_type": "code",
   "execution_count": 36,
   "id": "9c240f9a",
   "metadata": {},
   "outputs": [],
   "source": [
    ">>> addtbl = [[0, 1, 2, 3, 4, 5, 6, 7],\n",
    "              [1, 0, 4, 5, 2, 3, 7, 6],\n",
    "              [2, 4, 0, 6, 1, 7, 3, 5],\n",
    "              [3, 5, 6, 0, 7, 1, 2, 4],\n",
    "              [4, 2, 1, 7, 0, 6, 5, 3],\n",
    "              [5, 3, 7, 1, 6, 0, 4, 2],\n",
    "              [6, 7, 3, 2, 5, 4, 0, 1],\n",
    "              [7, 6, 5, 4, 3, 2, 1, 0]]"
   ]
  },
  {
   "cell_type": "code",
   "execution_count": 37,
   "id": "92f0ab00",
   "metadata": {},
   "outputs": [],
   "source": [
    ">>> multbl = [[0, 0, 0, 0, 0, 0, 0, 0],\n",
    "              [0, 1, 0, 0, 1, 1, 0, 1],\n",
    "              [0, 0, 2, 0, 2, 0, 2, 2],\n",
    "              [0, 0, 0, 3, 0, 3, 3, 3],\n",
    "              [0, 1, 2, 0, 4, 1, 2, 4],\n",
    "              [0, 1, 0, 3, 1, 5, 3, 5],\n",
    "              [0, 0, 2, 3, 2, 3, 6, 6],\n",
    "              [0, 1, 2, 3, 4, 5, 6, 7]]"
   ]
  },
  {
   "cell_type": "code",
   "execution_count": 38,
   "id": "f0c92805",
   "metadata": {},
   "outputs": [],
   "source": [
    ">>> from cayley_table import CayleyTable"
   ]
  },
  {
   "cell_type": "code",
   "execution_count": 39,
   "id": "34313353",
   "metadata": {},
   "outputs": [
    {
     "name": "stdout",
     "output_type": "stream",
     "text": [
      "  Order  Associative?  Commutative?  Left Id?  Right Id?  Identity?  Inverses?\n",
      "-------------------------------------------------------------------------------------\n",
      "     8        True         True            0         0          0       True\n"
     ]
    }
   ],
   "source": [
    ">>> addct = CayleyTable(addtbl)\n",
    ">>> addct.about(True)"
   ]
  },
  {
   "cell_type": "code",
   "execution_count": 40,
   "id": "e10863d7",
   "metadata": {
    "scrolled": true
   },
   "outputs": [
    {
     "name": "stdout",
     "output_type": "stream",
     "text": [
      "  Order  Associative?  Commutative?  Left Id?  Right Id?  Identity?  Inverses?\n",
      "-------------------------------------------------------------------------------------\n",
      "     8        True         True            7         7          7      False\n"
     ]
    }
   ],
   "source": [
    ">>> mulct = CayleyTable(multbl)\n",
    ">>> mulct.about(True)"
   ]
  },
  {
   "cell_type": "markdown",
   "id": "00dc3aff",
   "metadata": {},
   "source": [
    "### Checking Tables for Distributivity"
   ]
  },
  {
   "cell_type": "markdown",
   "id": "d95b37db",
   "metadata": {},
   "source": [
    "Multiplication distributes over addition."
   ]
  },
  {
   "cell_type": "code",
   "execution_count": 41,
   "id": "85d949da",
   "metadata": {},
   "outputs": [
    {
     "data": {
      "text/plain": [
       "True"
      ]
     },
     "execution_count": 41,
     "metadata": {},
     "output_type": "execute_result"
    }
   ],
   "source": [
    ">>> mulct.distributes_over(addct)"
   ]
  },
  {
   "cell_type": "markdown",
   "id": "8df0cf3d",
   "metadata": {},
   "source": [
    "But, addition does not distribute over multiplication."
   ]
  },
  {
   "cell_type": "code",
   "execution_count": 42,
   "id": "41913a29",
   "metadata": {},
   "outputs": [
    {
     "data": {
      "text/plain": [
       "False"
      ]
     },
     "execution_count": 42,
     "metadata": {},
     "output_type": "execute_result"
    }
   ],
   "source": [
    ">>> addct.distributes_over(mulct)"
   ]
  }
 ],
 "metadata": {
  "kernelspec": {
   "display_name": "Python 3",
   "language": "python",
   "name": "python3"
  },
  "language_info": {
   "codemirror_mode": {
    "name": "ipython",
    "version": 3
   },
   "file_extension": ".py",
   "mimetype": "text/x-python",
   "name": "python",
   "nbconvert_exporter": "python",
   "pygments_lexer": "ipython3",
   "version": "3.7.7"
  }
 },
 "nbformat": 4,
 "nbformat_minor": 5
}
