{
 "cells": [
  {
   "cell_type": "markdown",
   "id": "5fd4a254",
   "metadata": {},
   "source": [
    "# New Object Hierarchy"
   ]
  },
  {
   "cell_type": "markdown",
   "id": "1a6968df",
   "metadata": {},
   "source": [
    "Version 2"
   ]
  },
  {
   "cell_type": "code",
   "execution_count": 1,
   "id": "4a44a218",
   "metadata": {},
   "outputs": [],
   "source": [
    "from finite_algebras import *\n",
    "from table_utils import *"
   ]
  },
  {
   "cell_type": "markdown",
   "id": "e69e082d",
   "metadata": {},
   "source": [
    "### Magma Examples"
   ]
  },
  {
   "cell_type": "markdown",
   "id": "341aad25",
   "metadata": {},
   "source": [
    "#### Rock-Paper-Scisors Magma"
   ]
  },
  {
   "cell_type": "markdown",
   "id": "143592e9",
   "metadata": {},
   "source": [
    "This magma is obviously commutative, but not associative.\n",
    "\n",
    "See https://en.wikipedia.org/wiki/Commutative_magma\n",
    "\n",
    "* $M = \\langle \\{r,p,s\\}, \\cdot \\rangle$\n",
    "* For all $x, y \\in M$, if $x$ *beats* $y$, then $x \\cdot y = y \\cdot x = x$\n",
    "* Also, for all $x \\in M$, $xx = x$"
   ]
  },
  {
   "cell_type": "code",
   "execution_count": 2,
   "id": "54e8bfbf",
   "metadata": {},
   "outputs": [
    {
     "data": {
      "text/plain": [
       "Magma(\n",
       "['r', 'p', 's'],\n",
       "[[0, 1, 0], [1, 1, 2], [0, 2, 2]]\n",
       ")"
      ]
     },
     "execution_count": 2,
     "metadata": {},
     "output_type": "execute_result"
    }
   ],
   "source": [
    "rps = Magma(['r', 'p', 's'], [[0, 1, 0], [1, 1, 2], [0, 2, 2]])\n",
    "rps"
   ]
  },
  {
   "cell_type": "markdown",
   "id": "cb4effd1",
   "metadata": {},
   "source": [
    "The following demonstrates that the rps magma is non-associative:"
   ]
  },
  {
   "cell_type": "code",
   "execution_count": 3,
   "id": "0f28523d",
   "metadata": {},
   "outputs": [
    {
     "name": "stdout",
     "output_type": "stream",
     "text": [
      "    r(ps) = rs = r, \n",
      "but (rp)s = ps = s\n"
     ]
    }
   ],
   "source": [
    "ps = rps.op('p', 's')\n",
    "rp = rps.op('r', 'p')\n",
    "\n",
    "r_ps = rps.op('r', ps)\n",
    "rp_s = rps.op(rp, 's')\n",
    "\n",
    "print(f\"    r(ps) = r{ps} = {r_ps}, \\nbut (rp)s = {rp}s = {rp_s}\")"
   ]
  },
  {
   "cell_type": "markdown",
   "id": "d9734fc6",
   "metadata": {},
   "source": [
    "For other magma examples, [see this discussion](https://math.stackexchange.com/questions/779507/can-you-give-me-some-concrete-examples-of-magmas).  Also, [see this paper on groupiods](https://arxiv.org/ftp/math/papers/0304/0304490.pdf)."
   ]
  },
  {
   "cell_type": "markdown",
   "id": "adf9bf3b",
   "metadata": {},
   "source": [
    "#### Smarandache Groupoid"
   ]
  },
  {
   "cell_type": "markdown",
   "id": "f1c18703",
   "metadata": {},
   "source": [
    "This is Example 1.4.1 in the paper referenced, above."
   ]
  },
  {
   "cell_type": "code",
   "execution_count": 4,
   "id": "19854958",
   "metadata": {},
   "outputs": [],
   "source": [
    "ex141_tbl = [[0, 3, 0, 3, 0, 3], [1, 4, 1, 4, 1, 4], [2, 5, 2, 5, 2, 5],\n",
    "             [3, 0, 3, 0, 3, 0], [4, 1, 4, 1, 4, 1], [5, 2, 5, 2, 5, 2]]"
   ]
  },
  {
   "cell_type": "code",
   "execution_count": 5,
   "id": "dbeb5b31",
   "metadata": {},
   "outputs": [
    {
     "data": {
      "text/plain": [
       "Magma(\n",
       "['a', 'b', 'c', 'd', 'e', 'f'],\n",
       "[[0, 3, 0, 3, 0, 3], [1, 4, 1, 4, 1, 4], [2, 5, 2, 5, 2, 5], [3, 0, 3, 0, 3, 0], [4, 1, 4, 1, 4, 1], [5, 2, 5, 2, 5, 2]]\n",
       ")"
      ]
     },
     "execution_count": 5,
     "metadata": {},
     "output_type": "execute_result"
    }
   ],
   "source": [
    "ex141_magma = Magma(['a', 'b', 'c', 'd', 'e', 'f'], ex141_tbl)\n",
    "ex141_magma"
   ]
  },
  {
   "cell_type": "markdown",
   "id": "c8d290b6",
   "metadata": {},
   "source": [
    "### Testing Magma Methods"
   ]
  },
  {
   "cell_type": "markdown",
   "id": "20cd0f02",
   "metadata": {},
   "source": [
    "#### Table and Element Accessors"
   ]
  },
  {
   "cell_type": "code",
   "execution_count": 6,
   "id": "f5e3840f",
   "metadata": {},
   "outputs": [
    {
     "data": {
      "text/plain": [
       "array([[0, 1, 0],\n",
       "       [1, 1, 2],\n",
       "       [0, 2, 2]])"
      ]
     },
     "execution_count": 6,
     "metadata": {},
     "output_type": "execute_result"
    }
   ],
   "source": [
    "rps.table"
   ]
  },
  {
   "cell_type": "code",
   "execution_count": 7,
   "id": "30914153",
   "metadata": {},
   "outputs": [
    {
     "data": {
      "text/plain": [
       "['r', 'p', 's']"
      ]
     },
     "execution_count": 7,
     "metadata": {},
     "output_type": "execute_result"
    }
   ],
   "source": [
    "rps.elements"
   ]
  },
  {
   "cell_type": "code",
   "execution_count": 8,
   "id": "b2d65f22",
   "metadata": {},
   "outputs": [
    {
     "data": {
      "text/plain": [
       "[['r', 'p', 'r'], ['p', 'p', 's'], ['r', 's', 's']]"
      ]
     },
     "execution_count": 8,
     "metadata": {},
     "output_type": "execute_result"
    }
   ],
   "source": [
    "rps.table_with_names()"
   ]
  },
  {
   "cell_type": "markdown",
   "id": "40100bad",
   "metadata": {},
   "source": [
    "#### Magma as an Iterator and Container of Elements"
   ]
  },
  {
   "cell_type": "code",
   "execution_count": 9,
   "id": "0a56821b",
   "metadata": {},
   "outputs": [
    {
     "data": {
      "text/plain": [
       "['r', 'p', 's']"
      ]
     },
     "execution_count": 9,
     "metadata": {},
     "output_type": "execute_result"
    }
   ],
   "source": [
    "[el for el in rps]"
   ]
  },
  {
   "cell_type": "code",
   "execution_count": 10,
   "id": "c774264c",
   "metadata": {},
   "outputs": [
    {
     "data": {
      "text/plain": [
       "True"
      ]
     },
     "execution_count": 10,
     "metadata": {},
     "output_type": "execute_result"
    }
   ],
   "source": [
    "'r' in rps"
   ]
  },
  {
   "cell_type": "markdown",
   "id": "a8235a07",
   "metadata": {},
   "source": [
    "#### Replacing (\"Setting\") Element Names"
   ]
  },
  {
   "cell_type": "code",
   "execution_count": 11,
   "id": "5f78b31d",
   "metadata": {},
   "outputs": [
    {
     "data": {
      "text/plain": [
       "Magma(\n",
       "['rock', 'paper', 'scissors'],\n",
       "[[0, 1, 0], [1, 1, 2], [0, 2, 2]]\n",
       ")"
      ]
     },
     "execution_count": 11,
     "metadata": {},
     "output_type": "execute_result"
    }
   ],
   "source": [
    "full_names = ['rock', 'paper', 'scissors']\n",
    "rps.set_elements(full_names)"
   ]
  },
  {
   "cell_type": "code",
   "execution_count": 12,
   "id": "354289f4",
   "metadata": {},
   "outputs": [
    {
     "name": "stdout",
     "output_type": "stream",
     "text": [
      "{'rock': 'r', 'paper': 'p', 'scissors': 's'}\n"
     ]
    },
    {
     "data": {
      "text/plain": [
       "Magma(\n",
       "['r', 'p', 's'],\n",
       "[[0, 1, 0], [1, 1, 2], [0, 2, 2]]\n",
       ")"
      ]
     },
     "execution_count": 12,
     "metadata": {},
     "output_type": "execute_result"
    }
   ],
   "source": [
    "orig_elems = ['r', 'p', 's']\n",
    "mapping = dict(zip(rps.elements, orig_elems))\n",
    "print(mapping)\n",
    "rps.set_elements(orig_elems)"
   ]
  },
  {
   "cell_type": "markdown",
   "id": "7d518527",
   "metadata": {},
   "source": [
    "### Testing Table Utilities"
   ]
  },
  {
   "cell_type": "code",
   "execution_count": 13,
   "id": "94baa654",
   "metadata": {},
   "outputs": [],
   "source": [
    "# not assoc; is comm; no identities -- the RPS magma table, above\n",
    "tbl1 = [[0, 1, 0], [1, 1, 2], [0, 2, 2]]\n",
    "\n",
    "# is assoc; not comm; has identity (0) --- the S3 group table\n",
    "tbl2 = [[0, 1, 2, 3, 4, 5], [1, 2, 0, 5, 3, 4], [2, 0, 1, 4, 5, 3],\n",
    "        [3, 4, 5, 0, 1, 2], [4, 5, 3, 2, 0, 1], [5, 3, 4, 1, 2, 0]]\n",
    "\n",
    "# is assoc; is comm; has identity (0) --- the Z4 group table\n",
    "tbl3 = [[0, 1, 2, 3], [1, 2, 3, 0], [2, 3, 0, 1], [3, 0, 1, 2]]\n",
    "\n",
    "# is assoc; is comm; has identity (0) --- powerset(3) group table\n",
    "tbl4 = [[0, 1, 2, 3, 4, 5, 6, 7], [1, 0, 4, 5, 2, 3, 7, 6], [2, 4, 0, 6, 1, 7, 3, 5],\n",
    "        [3, 5, 6, 0, 7, 1, 2, 4], [4, 2, 1, 7, 0, 6, 5, 3], [5, 3, 7, 1, 6, 0, 4, 2],\n",
    "        [6, 7, 3, 2, 5, 4, 0, 1], [7, 6, 5, 4, 3, 2, 1, 0]]\n",
    "\n",
    "# is assoc; is not comm; no left id; has right id --- Smarandache Groupoid (see above)\n",
    "tbl5 = ex141_tbl\n",
    "\n",
    "test_tables = [tbl1, tbl2, tbl3, tbl4, tbl5]"
   ]
  },
  {
   "cell_type": "code",
   "execution_count": 14,
   "id": "2d132255",
   "metadata": {},
   "outputs": [
    {
     "name": "stdout",
     "output_type": "stream",
     "text": [
      "   Table  Associative?  Commutative?  Left Id?  Right Id?  Identity?\n",
      "---------------------------------------------------------------------------\n",
      "     1       False         True         None      None       None\n",
      "     2        True        False            0         0          0\n",
      "     3        True         True            0         0          0\n",
      "     4        True         True            0         0          0\n",
      "     5        True        False         None         0       None\n"
     ]
    }
   ],
   "source": [
    "print(\"   Table  Associative?  Commutative?  Left Id?  Right Id?  Identity?\")\n",
    "print('-' * 75)\n",
    "for tbl in test_tables:\n",
    "    i = test_tables.index(tbl) + 1\n",
    "    is_assoc = str(is_associative(tbl))\n",
    "    is_comm = str(is_commutative(tbl))\n",
    "    lft_id = str(has_left_identity(tbl))\n",
    "    rgt_id = str(has_right_identity(tbl))\n",
    "    ident = str(has_identity(tbl))\n",
    "    print(f\"{i :>{6}} {is_assoc :>{11}} {is_comm :>{12}} {lft_id :>{12}} {rgt_id :>{9}} {ident :>{10}}\")"
   ]
  },
  {
   "cell_type": "code",
   "execution_count": 15,
   "id": "870a9230",
   "metadata": {},
   "outputs": [
    {
     "data": {
      "text/plain": [
       "array([[0, 3, 0, 3, 0, 3],\n",
       "       [1, 4, 1, 4, 1, 4],\n",
       "       [2, 5, 2, 5, 2, 5],\n",
       "       [3, 0, 3, 0, 3, 0],\n",
       "       [4, 1, 4, 1, 4, 1],\n",
       "       [5, 2, 5, 2, 5, 2]])"
      ]
     },
     "execution_count": 15,
     "metadata": {},
     "output_type": "execute_result"
    }
   ],
   "source": [
    "np.array(tbl5)"
   ]
  },
  {
   "cell_type": "code",
   "execution_count": 16,
   "id": "1322f4fe",
   "metadata": {},
   "outputs": [
    {
     "data": {
      "text/plain": [
       "[(0, 0), (0, 2), (0, 4), (3, 1), (3, 3), (3, 5)]"
      ]
     },
     "execution_count": 16,
     "metadata": {},
     "output_type": "execute_result"
    }
   ],
   "source": [
    "table = np.array(tbl5)\n",
    "id = 0\n",
    "row_indices, col_indices = np.where(table == id)\n",
    "list(zip(row_indices, col_indices))"
   ]
  },
  {
   "cell_type": "markdown",
   "id": "434b68e3",
   "metadata": {},
   "source": [
    "From the list of pairs, above, we see the following:\n",
    "* 0 is a left-inverse of 3 other elements: 0, 2, & 4\n",
    "* 3 is also a left-inverse of 3 other elements: 1, 3, & 5\n",
    "* 3 also has 3 right-inverses: 1, 3, & 5"
   ]
  },
  {
   "cell_type": "code",
   "execution_count": 23,
   "id": "84f71164",
   "metadata": {},
   "outputs": [
    {
     "name": "stdout",
     "output_type": "stream",
     "text": [
      "6\n",
      "{0, 3}\n",
      "{0, 1, 2, 3, 4, 5}\n"
     ]
    }
   ],
   "source": [
    "table = np.array(tbl5)\n",
    "id = 0\n",
    "row_indices, col_indices = np.where(table == id)\n",
    "print(len(table))\n",
    "print(set(row_indices))\n",
    "print(set(col_indices))\n",
    "\n",
    "#print(set(row_indices) == set(col_indices))\n",
    "#print(len(set(row_indices)) == len(table))"
   ]
  },
  {
   "cell_type": "code",
   "execution_count": 18,
   "id": "d9706afc",
   "metadata": {},
   "outputs": [
    {
     "data": {
      "text/plain": [
       "array([[0, 1, 2, 3, 4, 5],\n",
       "       [1, 2, 0, 5, 3, 4],\n",
       "       [2, 0, 1, 4, 5, 3],\n",
       "       [3, 4, 5, 0, 1, 2],\n",
       "       [4, 5, 3, 2, 0, 1],\n",
       "       [5, 3, 4, 1, 2, 0]])"
      ]
     },
     "execution_count": 18,
     "metadata": {},
     "output_type": "execute_result"
    }
   ],
   "source": [
    "np.array(tbl2)"
   ]
  },
  {
   "cell_type": "code",
   "execution_count": 19,
   "id": "fa57a5a6",
   "metadata": {},
   "outputs": [
    {
     "data": {
      "text/plain": [
       "[(0, 0), (1, 2), (2, 1), (3, 3), (4, 4), (5, 5)]"
      ]
     },
     "execution_count": 19,
     "metadata": {},
     "output_type": "execute_result"
    }
   ],
   "source": [
    "table = np.array(tbl2)\n",
    "id = 0\n",
    "row_indices, col_indices = np.where(table == id)\n",
    "foo = zip(row_indices, col_indices)\n",
    "list(foo)"
   ]
  },
  {
   "cell_type": "code",
   "execution_count": 24,
   "id": "87c85f96",
   "metadata": {},
   "outputs": [
    {
     "name": "stdout",
     "output_type": "stream",
     "text": [
      "6\n",
      "{0, 1, 2, 3, 4, 5}\n",
      "{0, 1, 2, 3, 4, 5}\n"
     ]
    }
   ],
   "source": [
    "table = np.array(tbl2)\n",
    "id = 0\n",
    "row_indices, col_indices = np.where(table == id)\n",
    "print(len(table))\n",
    "print(set(row_indices))\n",
    "print(set(col_indices))\n",
    "\n",
    "#print(set(row_indices) == set(col_indices))\n",
    "#print(len(set(row_indices)) == len(table))"
   ]
  },
  {
   "cell_type": "code",
   "execution_count": null,
   "id": "c990578f",
   "metadata": {},
   "outputs": [],
   "source": []
  },
  {
   "cell_type": "markdown",
   "id": "276669ae",
   "metadata": {},
   "source": [
    "## Semigroup"
   ]
  },
  {
   "cell_type": "markdown",
   "id": "225b8b79",
   "metadata": {},
   "source": [
    "A semigroup is an associative magma."
   ]
  },
  {
   "cell_type": "code",
   "execution_count": 21,
   "id": "92724e33",
   "metadata": {},
   "outputs": [
    {
     "ename": "NameError",
     "evalue": "name 'is_table_associative' is not defined",
     "output_type": "error",
     "traceback": [
      "\u001b[0;31m---------------------------------------------------------------------------\u001b[0m",
      "\u001b[0;31mNameError\u001b[0m                                 Traceback (most recent call last)",
      "\u001b[0;32m<ipython-input-21-b909c6880df2>\u001b[0m in \u001b[0;36m<module>\u001b[0;34m\u001b[0m\n\u001b[0;32m----> 1\u001b[0;31m \u001b[0mis_table_associative\u001b[0m\u001b[0;34m(\u001b[0m\u001b[0mrps\u001b[0m\u001b[0;34m.\u001b[0m\u001b[0mtable\u001b[0m\u001b[0;34m)\u001b[0m\u001b[0;34m\u001b[0m\u001b[0;34m\u001b[0m\u001b[0m\n\u001b[0m",
      "\u001b[0;31mNameError\u001b[0m: name 'is_table_associative' is not defined"
     ]
    }
   ],
   "source": [
    "is_table_associative(rps.table)"
   ]
  },
  {
   "cell_type": "markdown",
   "id": "82c7b0c0",
   "metadata": {},
   "source": [
    "The Semigroup constructor will fail if the table does not support associativity:"
   ]
  },
  {
   "cell_type": "code",
   "execution_count": null,
   "id": "93dea00c",
   "metadata": {},
   "outputs": [],
   "source": [
    "try:\n",
    "    Semigroup(['r', 'p', 's'], [[0, 1, 0], [1, 1, 2], [0, 2, 2]])\n",
    "except:\n",
    "    print(\"Something went wrong\")"
   ]
  },
  {
   "cell_type": "markdown",
   "id": "0d582005",
   "metadata": {},
   "source": [
    "### See p. 67 in Pinter for a possible example"
   ]
  },
  {
   "cell_type": "markdown",
   "id": "6d45df8f",
   "metadata": {},
   "source": [
    "## Monoid"
   ]
  },
  {
   "cell_type": "markdown",
   "id": "be5f8fe7",
   "metadata": {},
   "source": [
    "A monoid is a semigroup with an identity element."
   ]
  },
  {
   "cell_type": "markdown",
   "id": "c823dbf3",
   "metadata": {},
   "source": [
    "**NEED TESTS AND EXAMPLES HERE**"
   ]
  },
  {
   "cell_type": "markdown",
   "id": "99783160",
   "metadata": {},
   "source": [
    "## Group"
   ]
  },
  {
   "cell_type": "markdown",
   "id": "85acf8a0",
   "metadata": {},
   "source": [
    "A group is a monoid where every element has an inverse."
   ]
  },
  {
   "cell_type": "markdown",
   "id": "594b4abd",
   "metadata": {},
   "source": [
    "TBD"
   ]
  },
  {
   "cell_type": "code",
   "execution_count": null,
   "id": "61195109",
   "metadata": {},
   "outputs": [],
   "source": []
  },
  {
   "cell_type": "code",
   "execution_count": null,
   "id": "7bb6e540",
   "metadata": {},
   "outputs": [],
   "source": []
  }
 ],
 "metadata": {
  "kernelspec": {
   "display_name": "Python 3",
   "language": "python",
   "name": "python3"
  },
  "language_info": {
   "codemirror_mode": {
    "name": "ipython",
    "version": 3
   },
   "file_extension": ".py",
   "mimetype": "text/x-python",
   "name": "python",
   "nbconvert_exporter": "python",
   "pygments_lexer": "ipython3",
   "version": "3.7.7"
  }
 },
 "nbformat": 4,
 "nbformat_minor": 5
}
