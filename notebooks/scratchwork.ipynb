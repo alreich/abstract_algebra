{
 "cells": [
  {
   "cell_type": "markdown",
   "id": "1aecd2be",
   "metadata": {},
   "source": [
    "# Scratchwork"
   ]
  },
  {
   "cell_type": "code",
   "execution_count": 1,
   "id": "c6d611a4",
   "metadata": {},
   "outputs": [],
   "source": [
    "from finite_algebras import *\n",
    "from cayley_table import *\n",
    "from permutations import *"
   ]
  },
  {
   "cell_type": "code",
   "execution_count": 2,
   "id": "f5d8ee84",
   "metadata": {},
   "outputs": [],
   "source": [
    "import os\n",
    "aa_path = os.path.join(os.getenv(\"PYPROJ\"), \"abstract_algebra\")\n",
    "alg_dir = os.path.join(aa_path, \"Algebras\")"
   ]
  },
  {
   "cell_type": "code",
   "execution_count": 3,
   "id": "1090a4a9",
   "metadata": {},
   "outputs": [
    {
     "name": "stdout",
     "output_type": "stream",
     "text": [
      "======================================================================\n",
      "                           Example Algebras\n",
      "----------------------------------------------------------------------\n",
      "  15 example algebras are available.\n",
      "  Use \"get_example(INDEX)\" to retrieve a specific example,\n",
      "  where INDEX is the first number on each line below:\n",
      "----------------------------------------------------------------------\n",
      "0: A4 -- Alternating group on 4 letters (AKA Tetrahedral group)\n",
      "1: D3 -- https://en.wikipedia.org/wiki/Dihedral_group_of_order_6\n",
      "2: D4 -- Dihedral group on four vertices\n",
      "3: Pinter29 -- Non-abelian group, p.29, 'A Book of Abstract Algebra' by Charles C. Pinter\n",
      "4: RPS -- Rock, Paper, Scissors Magma\n",
      "5: S3 -- Symmetric group on 3 letters\n",
      "6: S3X -- Another version of the symmetric group on 3 letters\n",
      "7: V4 -- Klein-4 group\n",
      "8: Z4 -- Cyclic group of order 4\n",
      "9: F4 -- Field with 4 elements (from Wikipedia)\n",
      "10: mag_id -- Magma with Identity\n",
      "11: Example 1.4.1 -- See: Groupoids and Smarandache Groupoids by W. B. Vasantha Kandasamy\n",
      "12: Ex6 -- Example 6: http://www-groups.mcs.st-andrews.ac.uk/~john/MT4517/Lectures/L3.html\n",
      "13: Q8 -- Quaternion Group\n",
      "14: SD16 -- Semidihedral group of order 16\n",
      "======================================================================\n"
     ]
    }
   ],
   "source": [
    "ex = Examples(alg_dir)"
   ]
  },
  {
   "cell_type": "markdown",
   "id": "351d52d8",
   "metadata": {},
   "source": [
    "## Subalgebras of a Semigroup"
   ]
  },
  {
   "cell_type": "code",
   "execution_count": 4,
   "id": "28904c8d",
   "metadata": {},
   "outputs": [
    {
     "name": "stdout",
     "output_type": "stream",
     "text": [
      "\n",
      "Semigroup: Example 1.4.1\n",
      "Instance ID: 140596974097552\n",
      "Description: See: Groupoids and Smarandache Groupoids by W. B. Vasantha Kandasamy\n",
      "Order: 6\n",
      "Elements: ['a', 'b', 'c', 'd', 'e', 'f']\n",
      "Identity: None\n",
      "Associative? Yes\n",
      "Commutative? No\n",
      "Has Inverses? No\n",
      "Cayley Table (showing indices):\n",
      "[[0, 3, 0, 3, 0, 3],\n",
      " [1, 4, 1, 4, 1, 4],\n",
      " [2, 5, 2, 5, 2, 5],\n",
      " [3, 0, 3, 0, 3, 0],\n",
      " [4, 1, 4, 1, 4, 1],\n",
      " [5, 2, 5, 2, 5, 2]]\n"
     ]
    }
   ],
   "source": [
    "sg = ex.get_example(11)\n",
    "sg.about()"
   ]
  },
  {
   "cell_type": "code",
   "execution_count": 5,
   "id": "9ddee8ee",
   "metadata": {},
   "outputs": [
    {
     "name": "stdout",
     "output_type": "stream",
     "text": [
      "\n",
      "Subalgebras of <Semigroup:Example 1.4.1, ID:140596974097552>\n",
      "  There are 4 unique subalgebras, up to isomorphisms, out of 10 total subalgebras\n",
      "  as shown by the partitions below:\n",
      "\n",
      "3 Isomorphic Semigroups of order 2:\n",
      "      Example 1.4.1_subalgebra_0: ['c', 'e']\n",
      "      Example 1.4.1_subalgebra_1: ['a', 'c']\n",
      "      Example 1.4.1_subalgebra_8: ['a', 'e']\n",
      "\n",
      "3 Isomorphic Commutative Groups of order 2:\n",
      "      Example 1.4.1_subalgebra_2: ['b', 'e'] with identity 'e'\n",
      "      Example 1.4.1_subalgebra_3: ['c', 'f'] with identity 'c'\n",
      "      Example 1.4.1_subalgebra_9: ['a', 'd'] with identity 'a'\n",
      "\n",
      "3 Isomorphic Semigroups of order 4:\n",
      "      Example 1.4.1_subalgebra_4: ['a', 'c', 'd', 'f']\n",
      "      Example 1.4.1_subalgebra_5: ['a', 'b', 'd', 'e']\n",
      "      Example 1.4.1_subalgebra_7: ['b', 'c', 'e', 'f']\n",
      "\n",
      "1 Semigroup of order 3:\n",
      "      Example 1.4.1_subalgebra_6: ['a', 'c', 'e']\n",
      "\n"
     ]
    }
   ],
   "source": [
    "alg = sg\n",
    "alg_subs = alg.proper_subalgebras()\n",
    "partitions = partition_into_isomorphic_lists(alg_subs)\n",
    "about_isomorphic_partitions(sg, partitions)"
   ]
  },
  {
   "cell_type": "markdown",
   "id": "ed6abf49",
   "metadata": {},
   "source": [
    "## Subgroups of an Alternating Group"
   ]
  },
  {
   "cell_type": "code",
   "execution_count": 6,
   "id": "e7c792c1",
   "metadata": {},
   "outputs": [
    {
     "name": "stdout",
     "output_type": "stream",
     "text": [
      "\n",
      "Group: A4\n",
      "Instance ID: 140596973906000\n",
      "Description: Alternating group on 4 letters (AKA Tetrahedral group)\n",
      "Order: 12\n",
      "Identity: ()\n",
      "Associative? Yes\n",
      "Commutative? No\n",
      "Elements:\n",
      "   Index   Name   Inverse  Order\n",
      "      0      ()      ()       1\n",
      "      1 (1 3 2) (1 2 3)       3\n",
      "      2 (1 2 3) (1 3 2)       3\n",
      "      3 (0 1)(2 3) (0 1)(2 3)       2\n",
      "      4 (0 1 2) (0 2 1)       3\n",
      "      5 (0 1 3) (0 3 1)       3\n",
      "      6 (0 3 1) (0 1 3)       3\n",
      "      7 (0 3 2) (0 2 3)       3\n",
      "      8 (0 3)(1 2) (0 3)(1 2)       2\n",
      "      9 (0 2 3) (0 3 2)       3\n",
      "     10 (0 2 1) (0 1 2)       3\n",
      "     11 (0 2)(1 3) (0 2)(1 3)       2\n",
      "Cayley Table (showing indices):\n",
      "[[0, 1, 2, 3, 4, 5, 6, 7, 8, 9, 10, 11],\n",
      " [1, 2, 0, 6, 7, 8, 10, 11, 9, 5, 3, 4],\n",
      " [2, 0, 1, 10, 11, 9, 3, 4, 5, 8, 6, 7],\n",
      " [3, 4, 5, 0, 1, 2, 9, 10, 11, 6, 7, 8],\n",
      " [4, 5, 3, 9, 10, 11, 7, 8, 6, 2, 0, 1],\n",
      " [5, 3, 4, 7, 8, 6, 0, 1, 2, 11, 9, 10],\n",
      " [6, 7, 8, 1, 2, 0, 5, 3, 4, 10, 11, 9],\n",
      " [7, 8, 6, 5, 3, 4, 11, 9, 10, 0, 1, 2],\n",
      " [8, 6, 7, 11, 9, 10, 1, 2, 0, 4, 5, 3],\n",
      " [9, 10, 11, 4, 5, 3, 2, 0, 1, 7, 8, 6],\n",
      " [10, 11, 9, 2, 0, 1, 8, 6, 7, 3, 4, 5],\n",
      " [11, 9, 10, 8, 6, 7, 4, 5, 3, 1, 2, 0]]\n"
     ]
    }
   ],
   "source": [
    "a4 = ex.get_example(0)\n",
    "a4.about()"
   ]
  },
  {
   "cell_type": "code",
   "execution_count": 7,
   "id": "2dc644f6",
   "metadata": {},
   "outputs": [
    {
     "name": "stdout",
     "output_type": "stream",
     "text": [
      "\n",
      "Subalgebras of <Group:A4, ID:140596973906000>\n",
      "  There are 3 unique subalgebras, up to isomorphisms, out of 8 total subalgebras\n",
      "  as shown by the partitions below:\n",
      "\n",
      "3 Isomorphic Commutative Groups of order 2 with identity '()':\n",
      "      A4_subalgebra_0: ['()', '(0 1)(2 3)']\n",
      "      A4_subalgebra_1: ['()', '(0 2)(1 3)']\n",
      "      A4_subalgebra_4: ['()', '(0 3)(1 2)']\n",
      "\n",
      "4 Isomorphic Commutative Groups of order 3 with identity '()':\n",
      "      A4_subalgebra_2: ['()', '(1 3 2)', '(1 2 3)']\n",
      "      A4_subalgebra_3: ['()', '(0 3 2)', '(0 2 3)']\n",
      "      A4_subalgebra_5: ['()', '(0 1 3)', '(0 3 1)']\n",
      "      A4_subalgebra_7: ['()', '(0 1 2)', '(0 2 1)']\n",
      "\n",
      "1 Commutative Normal Group of order 4 with identity '()':\n",
      "      A4_subalgebra_6: ['()', '(0 1)(2 3)', '(0 3)(1 2)', '(0 2)(1 3)']\n",
      "\n"
     ]
    }
   ],
   "source": [
    "alg = a4\n",
    "alg_subs = alg.proper_subalgebras(divisors_only=False, include_inverses=False)\n",
    "partitions = partition_into_isomorphic_lists(alg_subs)\n",
    "about_isomorphic_partitions(alg, partitions)"
   ]
  },
  {
   "cell_type": "code",
   "execution_count": null,
   "id": "9e654514",
   "metadata": {},
   "outputs": [],
   "source": []
  },
  {
   "cell_type": "code",
   "execution_count": null,
   "id": "a43366e0",
   "metadata": {},
   "outputs": [],
   "source": []
  },
  {
   "cell_type": "code",
   "execution_count": 8,
   "id": "efaf98a3",
   "metadata": {},
   "outputs": [
    {
     "name": "stdout",
     "output_type": "stream",
     "text": [
      "\n",
      "Field: F4\n",
      "Instance ID: 140596974088144\n",
      "Description: Field with 4 elements (from Wikipedia)\n",
      "Order: 4\n",
      "Identity: 0\n",
      "Associative? Yes\n",
      "Commutative? Yes\n",
      "Elements:\n",
      "   Index   Name   Inverse  Order\n",
      "      0       0       0       1\n",
      "      1       1       1       2\n",
      "      2       a       a       2\n",
      "      3     1+a     1+a       2\n",
      "Cayley Table (showing indices):\n",
      "[[0, 1, 2, 3], [1, 0, 3, 2], [2, 3, 0, 1], [3, 2, 1, 0]]\n",
      "Mult. Identity: 1\n",
      "Mult. Commutative? Yes\n",
      "Multiplicative Cayley Table (showing indices):\n",
      "[[0, 0, 0, 0], [0, 1, 2, 3], [0, 2, 3, 1], [0, 3, 1, 2]]\n"
     ]
    }
   ],
   "source": [
    "f4 = ex.get_example(9)\n",
    "f4.about()"
   ]
  },
  {
   "cell_type": "code",
   "execution_count": 9,
   "id": "19068748",
   "metadata": {},
   "outputs": [
    {
     "name": "stdout",
     "output_type": "stream",
     "text": [
      "\n",
      "Subalgebras of <Field:F4, ID:140596974088144>\n",
      "  There are 1 unique subalgebras, up to isomorphisms, out of 3 total subalgebras\n",
      "  as shown by the partitions below:\n",
      "\n",
      "3 Isomorphic Commutative Normal Groups of order 2 with identity '0':\n",
      "      F4_subalgebra_0: ['0', '1']\n",
      "      F4_subalgebra_1: ['0', '1+a']\n",
      "      F4_subalgebra_2: ['0', 'a']\n",
      "\n"
     ]
    }
   ],
   "source": [
    "alg = f4\n",
    "alg_subs = alg.proper_subalgebras()\n",
    "partitions = partition_into_isomorphic_lists(alg_subs)\n",
    "about_isomorphic_partitions(alg, partitions)"
   ]
  },
  {
   "cell_type": "code",
   "execution_count": null,
   "id": "d71e83dd",
   "metadata": {},
   "outputs": [],
   "source": []
  },
  {
   "cell_type": "code",
   "execution_count": null,
   "id": "e149abeb",
   "metadata": {},
   "outputs": [],
   "source": []
  },
  {
   "cell_type": "code",
   "execution_count": 10,
   "id": "4158853c",
   "metadata": {},
   "outputs": [
    {
     "name": "stdout",
     "output_type": "stream",
     "text": [
      "\n",
      "Ring: Ex6\n",
      "Instance ID: 140596974097744\n",
      "Description: Example 6: http://www-groups.mcs.st-andrews.ac.uk/~john/MT4517/Lectures/L3.html\n",
      "Order: 4\n",
      "Identity: 0\n",
      "Associative? Yes\n",
      "Commutative? Yes\n",
      "Elements:\n",
      "   Index   Name   Inverse  Order\n",
      "      0       0       0       1\n",
      "      1       a       a       2\n",
      "      2       b       b       2\n",
      "      3       c       c       2\n",
      "Cayley Table (showing indices):\n",
      "[[0, 1, 2, 3], [1, 0, 3, 2], [2, 3, 0, 1], [3, 2, 1, 0]]\n",
      "Mult. Identity: None\n",
      "Mult. Commutative? No\n",
      "Multiplicative Cayley Table (showing indices):\n",
      "[[0, 0, 0, 0], [0, 0, 1, 1], [0, 0, 2, 2], [0, 0, 3, 3]]\n"
     ]
    }
   ],
   "source": [
    "ex6 = ex.get_example(12)\n",
    "ex6.about()"
   ]
  },
  {
   "cell_type": "code",
   "execution_count": 11,
   "id": "133d8362",
   "metadata": {},
   "outputs": [
    {
     "name": "stdout",
     "output_type": "stream",
     "text": [
      "\n",
      "Subalgebras of <Ring:Ex6, ID:140596974097744>\n",
      "  There are 1 unique subalgebras, up to isomorphisms, out of 3 total subalgebras\n",
      "  as shown by the partitions below:\n",
      "\n",
      "3 Isomorphic Commutative Normal Groups of order 2 with identity '0':\n",
      "      Ex6_subalgebra_0: ['0', 'b']\n",
      "      Ex6_subalgebra_1: ['0', 'c']\n",
      "      Ex6_subalgebra_2: ['0', 'a']\n",
      "\n"
     ]
    }
   ],
   "source": [
    "alg = ex6\n",
    "alg_subs = alg.proper_subalgebras()\n",
    "partitions = partition_into_isomorphic_lists(alg_subs)\n",
    "about_isomorphic_partitions(alg, partitions)"
   ]
  },
  {
   "cell_type": "code",
   "execution_count": null,
   "id": "48bf53c1",
   "metadata": {},
   "outputs": [],
   "source": []
  },
  {
   "cell_type": "code",
   "execution_count": 12,
   "id": "f3516339",
   "metadata": {},
   "outputs": [
    {
     "name": "stdout",
     "output_type": "stream",
     "text": [
      "\n",
      "Group: PS4\n",
      "Instance ID: 140596426412368\n",
      "Description: Autogenerated Group on the powerset of 4 elements, with symmetric difference operator\n",
      "Order: 16\n",
      "Identity: {}\n",
      "Associative? Yes\n",
      "Commutative? Yes\n",
      "Elements:\n",
      "   Index   Name   Inverse  Order\n",
      "      0      {}      {}       1\n",
      "      1     {0}     {0}       2\n",
      "      2     {1}     {1}       2\n",
      "      3     {2}     {2}       2\n",
      "      4     {3}     {3}       2\n",
      "      5  {0, 1}  {0, 1}       2\n",
      "      6  {0, 2}  {0, 2}       2\n",
      "      7  {0, 3}  {0, 3}       2\n",
      "      8  {1, 2}  {1, 2}       2\n",
      "      9  {1, 3}  {1, 3}       2\n",
      "     10  {2, 3}  {2, 3}       2\n",
      "     11 {0, 1, 2} {0, 1, 2}       2\n",
      "     12 {0, 1, 3} {0, 1, 3}       2\n",
      "     13 {0, 2, 3} {0, 2, 3}       2\n",
      "     14 {1, 2, 3} {1, 2, 3}       2\n",
      "     15 {0, 1, 2, 3} {0, 1, 2, 3}       2\n",
      "Cayley Table (showing indices):\n",
      "[[0, 1, 2, 3, 4, 5, 6, 7, 8, 9, 10, 11, 12, 13, 14, 15],\n",
      " [1, 0, 5, 6, 7, 2, 3, 4, 11, 12, 13, 8, 9, 10, 15, 14],\n",
      " [2, 5, 0, 8, 9, 1, 11, 12, 3, 4, 14, 6, 7, 15, 10, 13],\n",
      " [3, 6, 8, 0, 10, 11, 1, 13, 2, 14, 4, 5, 15, 7, 9, 12],\n",
      " [4, 7, 9, 10, 0, 12, 13, 1, 14, 2, 3, 15, 5, 6, 8, 11],\n",
      " [5, 2, 1, 11, 12, 0, 8, 9, 6, 7, 15, 3, 4, 14, 13, 10],\n",
      " [6, 3, 11, 1, 13, 8, 0, 10, 5, 15, 7, 2, 14, 4, 12, 9],\n",
      " [7, 4, 12, 13, 1, 9, 10, 0, 15, 5, 6, 14, 2, 3, 11, 8],\n",
      " [8, 11, 3, 2, 14, 6, 5, 15, 0, 10, 9, 1, 13, 12, 4, 7],\n",
      " [9, 12, 4, 14, 2, 7, 15, 5, 10, 0, 8, 13, 1, 11, 3, 6],\n",
      " [10, 13, 14, 4, 3, 15, 7, 6, 9, 8, 0, 12, 11, 1, 2, 5],\n",
      " [11, 8, 6, 5, 15, 3, 2, 14, 1, 13, 12, 0, 10, 9, 7, 4],\n",
      " [12, 9, 7, 15, 5, 4, 14, 2, 13, 1, 11, 10, 0, 8, 6, 3],\n",
      " [13, 10, 15, 7, 6, 14, 4, 3, 12, 11, 1, 9, 8, 0, 5, 2],\n",
      " [14, 15, 10, 9, 8, 13, 12, 11, 4, 3, 2, 7, 6, 5, 0, 1],\n",
      " [15, 14, 13, 12, 11, 10, 9, 8, 7, 6, 5, 4, 3, 2, 1, 0]]\n"
     ]
    }
   ],
   "source": [
    "psr = generate_powerset_group(4)\n",
    "psr.about(max_size=16)"
   ]
  },
  {
   "cell_type": "code",
   "execution_count": 13,
   "id": "aaed7abc",
   "metadata": {},
   "outputs": [
    {
     "name": "stdout",
     "output_type": "stream",
     "text": [
      "CPU times: user 7.23 s, sys: 20.8 ms, total: 7.25 s\n",
      "Wall time: 7.25 s\n",
      "\n",
      "Subalgebras of <Group:PS4, ID:140596426412368>\n",
      "  There are 3 unique subalgebras, up to isomorphisms, out of 65 total subalgebras\n",
      "  as shown by the partitions below:\n",
      "\n",
      "35 Isomorphic Commutative Normal Groups of order 4 with identity '{}':\n",
      "      PS4_subalgebra_0: ['{}', '{0}', '{3}', '{0, 3}']\n",
      "      PS4_subalgebra_1: ['{}', '{2, 3}', '{0, 1, 2}', '{0, 1, 3}']\n",
      "      PS4_subalgebra_2: ['{}', '{0}', '{2}', '{0, 2}']\n",
      "      PS4_subalgebra_3: ['{}', '{1}', '{2, 3}', '{1, 2, 3}']\n",
      "      PS4_subalgebra_4: ['{}', '{3}', '{1, 2}', '{1, 2, 3}']\n",
      "      PS4_subalgebra_7: ['{}', '{1}', '{2}', '{1, 2}']\n",
      "      PS4_subalgebra_10: ['{}', '{0}', '{1}', '{0, 1}']\n",
      "      PS4_subalgebra_12: ['{}', '{0}', '{1, 2, 3}', '{0, 1, 2, 3}']\n",
      "      PS4_subalgebra_13: ['{}', '{0, 3}', '{0, 1, 2}', '{1, 2, 3}']\n",
      "      PS4_subalgebra_16: ['{}', '{0, 1}', '{0, 2}', '{1, 2}']\n",
      "      PS4_subalgebra_17: ['{}', '{1, 2}', '{0, 1, 3}', '{0, 2, 3}']\n",
      "      PS4_subalgebra_18: ['{}', '{0, 2}', '{1, 3}', '{0, 1, 2, 3}']\n",
      "      PS4_subalgebra_19: ['{}', '{1}', '{3}', '{1, 3}']\n",
      "      PS4_subalgebra_20: ['{}', '{2}', '{3}', '{2, 3}']\n",
      "      PS4_subalgebra_21: ['{}', '{0, 1}', '{0, 3}', '{1, 3}']\n",
      "      PS4_subalgebra_26: ['{}', '{2}', '{0, 1, 3}', '{0, 1, 2, 3}']\n",
      "      PS4_subalgebra_30: ['{}', '{0, 1}', '{2, 3}', '{0, 1, 2, 3}']\n",
      "      PS4_subalgebra_33: ['{}', '{1}', '{0, 2}', '{0, 1, 2}']\n",
      "      PS4_subalgebra_34: ['{}', '{3}', '{0, 1, 2}', '{0, 1, 2, 3}']\n",
      "      PS4_subalgebra_35: ['{}', '{1, 2}', '{1, 3}', '{2, 3}']\n",
      "      PS4_subalgebra_36: ['{}', '{0, 1}', '{0, 2, 3}', '{1, 2, 3}']\n",
      "      PS4_subalgebra_37: ['{}', '{3}', '{0, 1}', '{0, 1, 3}']\n",
      "      PS4_subalgebra_38: ['{}', '{1}', '{0, 3}', '{0, 1, 3}']\n",
      "      PS4_subalgebra_42: ['{}', '{2}', '{1, 3}', '{1, 2, 3}']\n",
      "      PS4_subalgebra_43: ['{}', '{0}', '{1, 2}', '{0, 1, 2}']\n",
      "      PS4_subalgebra_45: ['{}', '{0}', '{2, 3}', '{0, 2, 3}']\n",
      "      PS4_subalgebra_47: ['{}', '{0, 2}', '{0, 3}', '{2, 3}']\n",
      "      PS4_subalgebra_51: ['{}', '{0, 2}', '{0, 1, 3}', '{1, 2, 3}']\n",
      "      PS4_subalgebra_52: ['{}', '{1, 3}', '{0, 1, 2}', '{0, 2, 3}']\n",
      "      PS4_subalgebra_55: ['{}', '{2}', '{0, 3}', '{0, 2, 3}']\n",
      "      PS4_subalgebra_58: ['{}', '{2}', '{0, 1}', '{0, 1, 2}']\n",
      "      PS4_subalgebra_59: ['{}', '{0, 3}', '{1, 2}', '{0, 1, 2, 3}']\n",
      "      PS4_subalgebra_60: ['{}', '{0}', '{1, 3}', '{0, 1, 3}']\n",
      "      PS4_subalgebra_62: ['{}', '{3}', '{0, 2}', '{0, 2, 3}']\n",
      "      PS4_subalgebra_63: ['{}', '{1}', '{0, 2, 3}', '{0, 1, 2, 3}']\n",
      "\n",
      "15 Isomorphic Commutative Normal Groups of order 8 with identity '{}':\n",
      "      PS4_subalgebra_5: ['{}', '{0}', '{1}', '{3}', '{0, 1}', '{0, 3}', '{1, 3}', '{0, 1, 3}']\n",
      "      PS4_subalgebra_6: ['{}', '{3}', '{0, 1}', '{0, 2}', '{1, 2}', '{0, 1, 3}', '{0, 2, 3}', '{1, 2, 3}']\n",
      "      PS4_subalgebra_15: ['{}', '{1}', '{3}', '{0, 2}', '{1, 3}', '{0, 1, 2}', '{0, 2, 3}', '{0, 1, 2, 3}']\n",
      "      PS4_subalgebra_22: ['{}', '{0}', '{3}', '{0, 3}', '{1, 2}', '{0, 1, 2}', '{1, 2, 3}', '{0, 1, 2, 3}']\n",
      "      PS4_subalgebra_24: ['{}', '{1}', '{0, 2}', '{0, 3}', '{2, 3}', '{0, 1, 2}', '{0, 1, 3}', '{1, 2, 3}']\n",
      "      PS4_subalgebra_27: ['{}', '{0}', '{1, 2}', '{1, 3}', '{2, 3}', '{0, 1, 2}', '{0, 1, 3}', '{0, 2, 3}']\n",
      "      PS4_subalgebra_31: ['{}', '{1}', '{2}', '{0, 3}', '{1, 2}', '{0, 1, 3}', '{0, 2, 3}', '{0, 1, 2, 3}']\n",
      "      PS4_subalgebra_39: ['{}', '{1}', '{2}', '{3}', '{1, 2}', '{1, 3}', '{2, 3}', '{1, 2, 3}']\n",
      "      PS4_subalgebra_41: ['{}', '{0}', '{2}', '{0, 2}', '{1, 3}', '{0, 1, 3}', '{1, 2, 3}', '{0, 1, 2, 3}']\n",
      "      PS4_subalgebra_44: ['{}', '{2}', '{3}', '{0, 1}', '{2, 3}', '{0, 1, 2}', '{0, 1, 3}', '{0, 1, 2, 3}']\n",
      "      PS4_subalgebra_48: ['{}', '{0}', '{2}', '{3}', '{0, 2}', '{0, 3}', '{2, 3}', '{0, 2, 3}']\n",
      "      PS4_subalgebra_49: ['{}', '{2}', '{0, 1}', '{0, 3}', '{1, 3}', '{0, 1, 2}', '{0, 2, 3}', '{1, 2, 3}']\n",
      "      PS4_subalgebra_56: ['{}', '{0}', '{1}', '{2}', '{0, 1}', '{0, 2}', '{1, 2}', '{0, 1, 2}']\n",
      "      PS4_subalgebra_57: ['{}', '{0, 1}', '{0, 2}', '{0, 3}', '{1, 2}', '{1, 3}', '{2, 3}', '{0, 1, 2, 3}']\n",
      "      PS4_subalgebra_64: ['{}', '{0}', '{1}', '{0, 1}', '{2, 3}', '{0, 2, 3}', '{1, 2, 3}', '{0, 1, 2, 3}']\n",
      "\n",
      "15 Isomorphic Commutative Normal Groups of order 2 with identity '{}':\n",
      "      PS4_subalgebra_8: ['{}', '{1}']\n",
      "      PS4_subalgebra_9: ['{}', '{0}']\n",
      "      PS4_subalgebra_11: ['{}', '{0, 1, 3}']\n",
      "      PS4_subalgebra_14: ['{}', '{0, 1}']\n",
      "      PS4_subalgebra_23: ['{}', '{2, 3}']\n",
      "      PS4_subalgebra_25: ['{}', '{0, 3}']\n",
      "      PS4_subalgebra_28: ['{}', '{0, 1, 2, 3}']\n",
      "      PS4_subalgebra_29: ['{}', '{0, 1, 2}']\n",
      "      PS4_subalgebra_32: ['{}', '{1, 2, 3}']\n",
      "      PS4_subalgebra_40: ['{}', '{2}']\n",
      "      PS4_subalgebra_46: ['{}', '{0, 2}']\n",
      "      PS4_subalgebra_50: ['{}', '{3}']\n",
      "      PS4_subalgebra_53: ['{}', '{1, 2}']\n",
      "      PS4_subalgebra_54: ['{}', '{0, 2, 3}']\n",
      "      PS4_subalgebra_61: ['{}', '{1, 3}']\n",
      "\n"
     ]
    }
   ],
   "source": [
    "alg = psr\n",
    "%time alg_subs = alg.proper_subalgebras()\n",
    "partitions = partition_into_isomorphic_lists(alg_subs)\n",
    "about_isomorphic_partitions(alg, partitions)"
   ]
  },
  {
   "cell_type": "raw",
   "id": "f0d011d2",
   "metadata": {},
   "source": [
    "alg = psr\n",
    "%time alg_subs = alg.proper_subalgebras(divisors_only=False, include_inverses=False)\n",
    "partitions = partition_into_isomorphic_lists(alg_subs)\n",
    "about_isomorphic_partitions(alg, partitions)"
   ]
  },
  {
   "cell_type": "code",
   "execution_count": 14,
   "id": "110fa83e",
   "metadata": {},
   "outputs": [],
   "source": [
    "# %time foo1 = psr.closed_subsets_of_elements(False)"
   ]
  },
  {
   "cell_type": "code",
   "execution_count": 15,
   "id": "a6e03d52",
   "metadata": {},
   "outputs": [],
   "source": [
    "# {len(x) for x in foo1}"
   ]
  },
  {
   "cell_type": "code",
   "execution_count": 16,
   "id": "aeddffac",
   "metadata": {},
   "outputs": [],
   "source": [
    "# %time foo2 = psr.closed_subsets_of_elements(True)"
   ]
  },
  {
   "cell_type": "code",
   "execution_count": 17,
   "id": "02fd9faf",
   "metadata": {},
   "outputs": [],
   "source": [
    "# {len(x) for x in foo2}"
   ]
  },
  {
   "cell_type": "code",
   "execution_count": null,
   "id": "fbed27a3",
   "metadata": {},
   "outputs": [],
   "source": []
  },
  {
   "cell_type": "code",
   "execution_count": 18,
   "id": "25e6839b",
   "metadata": {},
   "outputs": [],
   "source": [
    "# %time psr_subs = psr.unique_proper_subgroups()"
   ]
  },
  {
   "cell_type": "code",
   "execution_count": 19,
   "id": "e80a42a0",
   "metadata": {},
   "outputs": [],
   "source": [
    "# [psr_sub.order for psr_sub in psr_subs]"
   ]
  },
  {
   "cell_type": "code",
   "execution_count": null,
   "id": "4ce45565",
   "metadata": {},
   "outputs": [],
   "source": []
  },
  {
   "cell_type": "code",
   "execution_count": null,
   "id": "a9e25685",
   "metadata": {},
   "outputs": [],
   "source": []
  },
  {
   "cell_type": "code",
   "execution_count": 20,
   "id": "b36c06a8",
   "metadata": {},
   "outputs": [
    {
     "name": "stdout",
     "output_type": "stream",
     "text": [
      "\n",
      "Group: Q8\n",
      "Instance ID: 140596974098640\n",
      "Description: Quaternion Group\n",
      "Order: 8\n",
      "Identity: 1\n",
      "Associative? Yes\n",
      "Commutative? No\n",
      "Elements:\n",
      "   Index   Name   Inverse  Order\n",
      "      0       1       1       1\n",
      "      1       i      -i       4\n",
      "      2      -1      -1       2\n",
      "      3      -i       i       4\n",
      "      4       j      -j       4\n",
      "      5       k      -k       4\n",
      "      6      -j       j       4\n",
      "      7      -k       k       4\n",
      "Cayley Table (showing indices):\n",
      "[[0, 1, 2, 3, 4, 5, 6, 7],\n",
      " [1, 2, 3, 0, 7, 4, 5, 6],\n",
      " [2, 3, 0, 1, 6, 7, 4, 5],\n",
      " [3, 0, 1, 2, 5, 6, 7, 4],\n",
      " [4, 5, 6, 7, 2, 3, 0, 1],\n",
      " [5, 6, 7, 4, 1, 2, 3, 0],\n",
      " [6, 7, 4, 5, 0, 1, 2, 3],\n",
      " [7, 4, 5, 6, 3, 0, 1, 2]]\n"
     ]
    }
   ],
   "source": [
    "q8 = ex.get_example(13)\n",
    "q8.about()"
   ]
  },
  {
   "cell_type": "code",
   "execution_count": 21,
   "id": "7edd8c99",
   "metadata": {},
   "outputs": [
    {
     "name": "stdout",
     "output_type": "stream",
     "text": [
      "\n",
      "Subalgebras of <Group:Q8, ID:140596974098640>\n",
      "  There are 2 unique subalgebras, up to isomorphisms, out of 4 total subalgebras\n",
      "  as shown by the partitions below:\n",
      "\n",
      "1 Commutative Normal Group of order 2 with identity '1':\n",
      "      Q8_subalgebra_0: ['1', '-1']\n",
      "\n",
      "3 Isomorphic Commutative Normal Groups of order 4 with identity '1':\n",
      "      Q8_subalgebra_1: ['1', '-1', 'k', '-k']\n",
      "      Q8_subalgebra_2: ['1', '-1', 'j', '-j']\n",
      "      Q8_subalgebra_3: ['1', 'i', '-1', '-i']\n",
      "\n"
     ]
    }
   ],
   "source": [
    "alg = q8\n",
    "alg_subs = alg.proper_subalgebras()\n",
    "partitions = partition_into_isomorphic_lists(alg_subs)\n",
    "about_isomorphic_partitions(alg, partitions)"
   ]
  },
  {
   "cell_type": "code",
   "execution_count": null,
   "id": "a2e99cf0",
   "metadata": {},
   "outputs": [],
   "source": []
  },
  {
   "cell_type": "code",
   "execution_count": 22,
   "id": "eff9e004",
   "metadata": {},
   "outputs": [
    {
     "name": "stdout",
     "output_type": "stream",
     "text": [
      "\n",
      "Group: SD16\n",
      "Instance ID: 140596974099152\n",
      "Description: Semidihedral group of order 16\n",
      "Order: 16\n",
      "Identity: e\n",
      "Associative? Yes\n",
      "Commutative? No\n",
      "Elements:\n",
      "   Index   Name   Inverse  Order\n",
      "      0       e       e       1\n",
      "      1       t       t       2\n",
      "      2       s  ts^2ts       8\n",
      "      3      st   s^2ts       4\n",
      "      4     s^2   ts^2t       4\n",
      "      5    s^2t    s^2t       2\n",
      "      6     tst  tsts^2       8\n",
      "      7      ts   sts^2       4\n",
      "      8    tsts    tsts       2\n",
      "      9     sts     sts       2\n",
      "     10  tsts^2     tst       8\n",
      "     11   s^2ts      st       4\n",
      "     12   ts^2t     s^2       4\n",
      "     13    ts^2    ts^2       2\n",
      "     14  ts^2ts       s       8\n",
      "     15   sts^2      ts       4\n",
      "Cayley Table (showing indices):\n",
      "[[0, 1, 2, 3, 4, 5, 6, 7, 8, 9, 10, 11, 12, 13, 14, 15],\n",
      " [1, 0, 7, 6, 13, 12, 3, 2, 9, 8, 15, 14, 5, 4, 11, 10],\n",
      " [2, 3, 4, 5, 6, 7, 8, 9, 10, 11, 12, 13, 14, 15, 0, 1],\n",
      " [3, 2, 9, 8, 15, 14, 5, 4, 11, 10, 1, 0, 7, 6, 13, 12],\n",
      " [4, 5, 6, 7, 8, 9, 10, 11, 12, 13, 14, 15, 0, 1, 2, 3],\n",
      " [5, 4, 11, 10, 1, 0, 7, 6, 13, 12, 3, 2, 9, 8, 15, 14],\n",
      " [6, 7, 8, 9, 10, 11, 12, 13, 14, 15, 0, 1, 2, 3, 4, 5],\n",
      " [7, 6, 13, 12, 3, 2, 9, 8, 15, 14, 5, 4, 11, 10, 1, 0],\n",
      " [8, 9, 10, 11, 12, 13, 14, 15, 0, 1, 2, 3, 4, 5, 6, 7],\n",
      " [9, 8, 15, 14, 5, 4, 11, 10, 1, 0, 7, 6, 13, 12, 3, 2],\n",
      " [10, 11, 12, 13, 14, 15, 0, 1, 2, 3, 4, 5, 6, 7, 8, 9],\n",
      " [11, 10, 1, 0, 7, 6, 13, 12, 3, 2, 9, 8, 15, 14, 5, 4],\n",
      " [12, 13, 14, 15, 0, 1, 2, 3, 4, 5, 6, 7, 8, 9, 10, 11],\n",
      " [13, 12, 3, 2, 9, 8, 15, 14, 5, 4, 11, 10, 1, 0, 7, 6],\n",
      " [14, 15, 0, 1, 2, 3, 4, 5, 6, 7, 8, 9, 10, 11, 12, 13],\n",
      " [15, 14, 5, 4, 11, 10, 1, 0, 7, 6, 13, 12, 3, 2, 9, 8]]\n"
     ]
    }
   ],
   "source": [
    "sd16 = ex.get_example(14)\n",
    "sd16.about(max_size=16)"
   ]
  },
  {
   "cell_type": "code",
   "execution_count": 23,
   "id": "268d3a4d",
   "metadata": {},
   "outputs": [
    {
     "name": "stdout",
     "output_type": "stream",
     "text": [
      "\n",
      "Subalgebras of <Group:SD16, ID:140596974099152>\n",
      "  There are 6 unique subalgebras, up to isomorphisms, out of 13 total subalgebras\n",
      "  as shown by the partitions below:\n",
      "\n",
      "3 Isomorphic Commutative Groups of order 4 with identity 'e':\n",
      "      SD16_subalgebra_0: ['e', 'ts', 'tsts', 'sts^2']\n",
      "      SD16_subalgebra_10: ['e', 'st', 'tsts', 's^2ts']\n",
      "      SD16_subalgebra_12: ['e', 's^2', 'tsts', 'ts^2t']\n",
      "\n",
      "2 Isomorphic Commutative Groups of order 4 with identity 'e':\n",
      "      SD16_subalgebra_1: ['e', 't', 'tsts', 'sts']\n",
      "      SD16_subalgebra_2: ['e', 's^2t', 'tsts', 'ts^2']\n",
      "\n",
      "5 Isomorphic Commutative Groups of order 2 with identity 'e':\n",
      "      SD16_subalgebra_3: ['e', 'sts']\n",
      "      SD16_subalgebra_4: ['e', 'ts^2']\n",
      "      SD16_subalgebra_5: ['e', 'tsts']\n",
      "      SD16_subalgebra_6: ['e', 't']\n",
      "      SD16_subalgebra_7: ['e', 's^2t']\n",
      "\n",
      "1 Normal Group of order 8 with identity 'e':\n",
      "      SD16_subalgebra_8: ['e', 'st', 's^2', 'ts', 'tsts', 's^2ts', 'ts^2t', 'sts^2']\n",
      "\n",
      "1 Normal Group of order 8 with identity 'e':\n",
      "      SD16_subalgebra_9: ['e', 't', 's^2', 's^2t', 'tsts', 'sts', 'ts^2t', 'ts^2']\n",
      "\n",
      "1 Commutative Normal Group of order 8 with identity 'e':\n",
      "      SD16_subalgebra_11: ['e', 's', 's^2', 'tst', 'tsts', 'tsts^2', 'ts^2t', 'ts^2ts']\n",
      "\n"
     ]
    }
   ],
   "source": [
    "alg = sd16\n",
    "alg_subs = alg.proper_subalgebras()\n",
    "partitions = partition_into_isomorphic_lists(alg_subs)\n",
    "about_isomorphic_partitions(alg, partitions)"
   ]
  },
  {
   "cell_type": "code",
   "execution_count": null,
   "id": "e2def180",
   "metadata": {},
   "outputs": [],
   "source": []
  },
  {
   "cell_type": "code",
   "execution_count": null,
   "id": "80d1e78c",
   "metadata": {},
   "outputs": [],
   "source": []
  },
  {
   "cell_type": "raw",
   "id": "b840c027",
   "metadata": {},
   "source": [
    "def closure(alg, subset_of_elements, include_inverses):\n",
    "\n",
    "    result = set(subset_of_elements)\n",
    "\n",
    "    # Include inverses, maybe.\n",
    "    if include_inverses and alg.has_inverses():\n",
    "        for elem in subset_of_elements:\n",
    "            result.add(alg.inv(elem))\n",
    "\n",
    "    # Add the products of all possible pairs\n",
    "    for pair in it.product(result, result):\n",
    "        result.add(alg.op(*pair))\n",
    "\n",
    "    # If the input set of elements increased, recurse ...\n",
    "    if len(result) > len(subset_of_elements):\n",
    "        return alg.closure(list(result), include_inverses)\n",
    "\n",
    "    # ...otherwise, stop and return the result\n",
    "    else:\n",
    "        return list(result)"
   ]
  },
  {
   "cell_type": "code",
   "execution_count": 24,
   "id": "460e962d",
   "metadata": {},
   "outputs": [],
   "source": [
    "def ring_closure(alg, subset_of_elements):\n",
    "\n",
    "    result = set(subset_of_elements)\n",
    "\n",
    "    # Include additive inverses\n",
    "    for elem in subset_of_elements:\n",
    "        result.add(alg.inv(elem))\n",
    "\n",
    "    # Add the sum of all possible pairs\n",
    "    for pair in it.product(result, result):\n",
    "        result.add(alg.add(*pair))\n",
    "        \n",
    "    # Add the product of all possible pairs\n",
    "    for pair in it.product(result, result):\n",
    "        result.add(alg.mult(*pair))\n",
    "        \n",
    "    # If the input set of elements increased, recurse ...\n",
    "    if len(result) > len(subset_of_elements):\n",
    "        return ring_closure(alg, list(result))\n",
    "\n",
    "    # ...otherwise, stop and return the result\n",
    "    else:\n",
    "        return list(result)"
   ]
  },
  {
   "cell_type": "code",
   "execution_count": 40,
   "id": "ff34daaa",
   "metadata": {},
   "outputs": [
    {
     "name": "stdout",
     "output_type": "stream",
     "text": [
      "\n",
      "Ring: R12\n",
      "Instance ID: 140596976092112\n",
      "Description: Autogenerated Ring of integers mod 12\n",
      "Order: 12\n",
      "Identity: a0\n",
      "Associative? Yes\n",
      "Commutative? Yes\n",
      "Elements:\n",
      "   Index   Name   Inverse  Order\n",
      "      0      a0      a0       1\n",
      "      1      a1     a11      12\n",
      "      2      a2     a10       6\n",
      "      3      a3      a9       4\n",
      "      4      a4      a8       3\n",
      "      5      a5      a7      12\n",
      "      6      a6      a6       2\n",
      "      7      a7      a5      12\n",
      "      8      a8      a4       3\n",
      "      9      a9      a3       4\n",
      "     10     a10      a2       6\n",
      "     11     a11      a1      12\n",
      "Cayley Table (showing names):\n",
      "[['a0', 'a1', 'a2', 'a3', 'a4', 'a5', 'a6', 'a7', 'a8', 'a9', 'a10', 'a11'],\n",
      " ['a1', 'a2', 'a3', 'a4', 'a5', 'a6', 'a7', 'a8', 'a9', 'a10', 'a11', 'a0'],\n",
      " ['a2', 'a3', 'a4', 'a5', 'a6', 'a7', 'a8', 'a9', 'a10', 'a11', 'a0', 'a1'],\n",
      " ['a3', 'a4', 'a5', 'a6', 'a7', 'a8', 'a9', 'a10', 'a11', 'a0', 'a1', 'a2'],\n",
      " ['a4', 'a5', 'a6', 'a7', 'a8', 'a9', 'a10', 'a11', 'a0', 'a1', 'a2', 'a3'],\n",
      " ['a5', 'a6', 'a7', 'a8', 'a9', 'a10', 'a11', 'a0', 'a1', 'a2', 'a3', 'a4'],\n",
      " ['a6', 'a7', 'a8', 'a9', 'a10', 'a11', 'a0', 'a1', 'a2', 'a3', 'a4', 'a5'],\n",
      " ['a7', 'a8', 'a9', 'a10', 'a11', 'a0', 'a1', 'a2', 'a3', 'a4', 'a5', 'a6'],\n",
      " ['a8', 'a9', 'a10', 'a11', 'a0', 'a1', 'a2', 'a3', 'a4', 'a5', 'a6', 'a7'],\n",
      " ['a9', 'a10', 'a11', 'a0', 'a1', 'a2', 'a3', 'a4', 'a5', 'a6', 'a7', 'a8'],\n",
      " ['a10', 'a11', 'a0', 'a1', 'a2', 'a3', 'a4', 'a5', 'a6', 'a7', 'a8', 'a9'],\n",
      " ['a11', 'a0', 'a1', 'a2', 'a3', 'a4', 'a5', 'a6', 'a7', 'a8', 'a9', 'a10']]\n",
      "Mult. Identity: a1\n",
      "Mult. Commutative? Yes\n",
      "Multiplicative Cayley Table (showing names):\n",
      "[['a0', 'a0', 'a0', 'a0', 'a0', 'a0', 'a0', 'a0', 'a0', 'a0', 'a0', 'a0'],\n",
      " ['a0', 'a1', 'a2', 'a3', 'a4', 'a5', 'a6', 'a7', 'a8', 'a9', 'a10', 'a11'],\n",
      " ['a0', 'a2', 'a4', 'a6', 'a8', 'a10', 'a0', 'a2', 'a4', 'a6', 'a8', 'a10'],\n",
      " ['a0', 'a3', 'a6', 'a9', 'a0', 'a3', 'a6', 'a9', 'a0', 'a3', 'a6', 'a9'],\n",
      " ['a0', 'a4', 'a8', 'a0', 'a4', 'a8', 'a0', 'a4', 'a8', 'a0', 'a4', 'a8'],\n",
      " ['a0', 'a5', 'a10', 'a3', 'a8', 'a1', 'a6', 'a11', 'a4', 'a9', 'a2', 'a7'],\n",
      " ['a0', 'a6', 'a0', 'a6', 'a0', 'a6', 'a0', 'a6', 'a0', 'a6', 'a0', 'a6'],\n",
      " ['a0', 'a7', 'a2', 'a9', 'a4', 'a11', 'a6', 'a1', 'a8', 'a3', 'a10', 'a5'],\n",
      " ['a0', 'a8', 'a4', 'a0', 'a8', 'a4', 'a0', 'a8', 'a4', 'a0', 'a8', 'a4'],\n",
      " ['a0', 'a9', 'a6', 'a3', 'a0', 'a9', 'a6', 'a3', 'a0', 'a9', 'a6', 'a3'],\n",
      " ['a0', 'a10', 'a8', 'a6', 'a4', 'a2', 'a0', 'a10', 'a8', 'a6', 'a4', 'a2'],\n",
      " ['a0', 'a11', 'a10', 'a9', 'a8', 'a7', 'a6', 'a5', 'a4', 'a3', 'a2', 'a1']]\n"
     ]
    }
   ],
   "source": [
    "alg1 = generate_algebra_mod_n(12)\n",
    "alg1.about(use_table_names=True)"
   ]
  },
  {
   "cell_type": "code",
   "execution_count": 42,
   "id": "67ec66e2",
   "metadata": {},
   "outputs": [
    {
     "name": "stdout",
     "output_type": "stream",
     "text": [
      "\n",
      "Subalgebras of <Ring:R12, ID:140596976092112>\n",
      "  There are 4 unique subalgebras, up to isomorphisms, out of 4 total subalgebras\n",
      "  as shown by the partitions below:\n",
      "\n",
      "1 Commutative Normal Group of order 4 with identity 'a0':\n",
      "      R12_subalgebra_0: ['a0', 'a3', 'a6', 'a9']\n",
      "\n",
      "1 Commutative Normal Group of order 6 with identity 'a0':\n",
      "      R12_subalgebra_1: ['a0', 'a2', 'a4', 'a6', 'a8', 'a10']\n",
      "\n",
      "1 Commutative Normal Group of order 2 with identity 'a0':\n",
      "      R12_subalgebra_2: ['a0', 'a6']\n",
      "\n",
      "1 Commutative Normal Group of order 3 with identity 'a0':\n",
      "      R12_subalgebra_3: ['a0', 'a4', 'a8']\n",
      "\n"
     ]
    }
   ],
   "source": [
    "alg = alg1\n",
    "alg_subs = alg.proper_subalgebras()\n",
    "partitions = partition_into_isomorphic_lists(alg_subs)\n",
    "about_isomorphic_partitions(alg, partitions)"
   ]
  },
  {
   "cell_type": "code",
   "execution_count": 52,
   "id": "bb2ec464",
   "metadata": {},
   "outputs": [],
   "source": [
    "elems = ['a0', 'a4']"
   ]
  },
  {
   "cell_type": "code",
   "execution_count": 53,
   "id": "51e6d4c9",
   "metadata": {},
   "outputs": [
    {
     "data": {
      "text/plain": [
       "['a8', 'a4', 'a0']"
      ]
     },
     "execution_count": 53,
     "metadata": {},
     "output_type": "execute_result"
    }
   ],
   "source": [
    "alg1.closure(elems, True)"
   ]
  },
  {
   "cell_type": "code",
   "execution_count": 54,
   "id": "4b58dad2",
   "metadata": {},
   "outputs": [
    {
     "data": {
      "text/plain": [
       "['a8', 'a4', 'a0']"
      ]
     },
     "execution_count": 54,
     "metadata": {},
     "output_type": "execute_result"
    }
   ],
   "source": [
    "ring_closure(alg1, elems)"
   ]
  },
  {
   "cell_type": "code",
   "execution_count": null,
   "id": "e27a30fc",
   "metadata": {},
   "outputs": [],
   "source": []
  }
 ],
 "metadata": {
  "kernelspec": {
   "display_name": "Python 3 (ipykernel)",
   "language": "python",
   "name": "python3"
  },
  "language_info": {
   "codemirror_mode": {
    "name": "ipython",
    "version": 3
   },
   "file_extension": ".py",
   "mimetype": "text/x-python",
   "name": "python",
   "nbconvert_exporter": "python",
   "pygments_lexer": "ipython3",
   "version": "3.7.7"
  }
 },
 "nbformat": 4,
 "nbformat_minor": 5
}
