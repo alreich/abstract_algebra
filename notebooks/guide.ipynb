{
 "cells": [
  {
   "cell_type": "markdown",
   "id": "0894d6a3",
   "metadata": {},
   "source": [
    "# User Guide"
   ]
  },
  {
   "cell_type": "markdown",
   "id": "7cd0a19e",
   "metadata": {},
   "source": [
    "## Installation\n",
    "\n",
    "This module runs under Python 3.7+ and requires **numpy**.\n",
    "\n",
    "Clone the github repository to install:"
   ]
  },
  {
   "cell_type": "markdown",
   "id": "505c14fe",
   "metadata": {},
   "source": [
    ".. code:: bash\n",
    "\n",
    "    $ git clone https://github.com/alreich/abstract_algebra.git"
   ]
  },
  {
   "cell_type": "markdown",
   "id": "3752bc8e",
   "metadata": {},
   "source": [
    "Add the *abstract_algebra* directory to your *PYTHONPATH*.\n",
    "\n",
    "<b>Note</b>: In the examples, below, an environment variable, *PYPROJ*, points to the directory containing the *abstract_algebra* directory."
   ]
  },
  {
   "cell_type": "markdown",
   "id": "c22b1f31",
   "metadata": {},
   "source": [
    "## Internal Representation of a Group\n",
    "\n",
    "Internally, the (finite) Group object consists of four quantities:\n",
    "\n",
    "* **name**: (``str``) A short name for the Group;\n",
    "* **description**: (``str``) Any additional, useful information about the Group;\n",
    "* **element_names**: (``list`` of ``str``) The Group’s element names, where the\n",
    "  first element in the list is the Group’s identity element (usually denoted by ``e``);\n",
    "* **mult_table**: (``list`` of ``list`` of ``int``) The Group’s multiplication\n",
    "  table, where each list in the list represents a row of the table, and\n",
    "  each integer represents the position of an element in ‘element_names’.\n",
    "  The table must be:\n",
    "\n",
    "  * Square. The row & column length equal the number of elements, say, n;\n",
    "  * The first row and first column should be the [0, 1, 2, …, n-1], in that exact order;\n",
    "  * Every row and column should contain the same integers, in a different order,\n",
    "    so that no row or column contains the same integer twice.\n",
    "  * Capable of supporting associativity of the multiplication operator"
   ]
  },
  {
   "cell_type": "markdown",
   "id": "f2afc19a",
   "metadata": {},
   "source": [
    "## Group Constuction\n",
    "\n",
    "A Group object can be instantiated in several ways:\n",
    "\n",
    "1. Enter **four values** corresponding to the quantities described above, in\n",
    "   the order shown above.\n",
    "2. Enter **three values** corresponding to ``name``, ``description``, and ``mult_table``,\n",
    "   where ``mult_table`` uses element names (``str``) instead of ``int`` positions.\n",
    "   The string-based ``mult_table`` must follow rules, similar to those described\n",
    "   above:\n",
    "   * The identity element comes first in the first row and first column;\n",
    "   * The order of names in the first row and first column should be identical;\n",
    "   * No row or column contains the same element name twice.\n",
    "\n",
    "3. Enter a **Python dictionary**, with keys and values corresponding to\n",
    "   either the four value or three value input schemes, described above.\n",
    "4. Enter the **path to a JSON file** (``str``) that corresponds to the\n",
    "   dictionary described above."
   ]
  },
  {
   "cell_type": "markdown",
   "id": "38b519ac",
   "metadata": {},
   "source": [
    "## Usage"
   ]
  },
  {
   "cell_type": "code",
   "execution_count": 1,
   "id": "fcea3a5b",
   "metadata": {},
   "outputs": [
    {
     "data": {
      "text/plain": [
       "Group('Z3',\n",
       "'Cyclic group of order 3',\n",
       "['e', 'a', 'a^2'],\n",
       "[[0, 1, 2], [1, 2, 0], [2, 0, 1]]) "
      ]
     },
     "execution_count": 1,
     "metadata": {},
     "output_type": "execute_result"
    }
   ],
   "source": [
    ">>> import algebras as alg\n",
    "\n",
    ">>> z3 = alg.Group('Z3',\n",
    "                   'Cyclic group of order 3',\n",
    "                   [[ 'e' ,  'a' , 'a^2'],\n",
    "                    [ 'a' , 'a^2',  'e' ],\n",
    "                    ['a^2',  'e' ,  'a' ]]\n",
    "                  )\n",
    ">>> z3"
   ]
  },
  {
   "cell_type": "markdown",
   "id": "12d9ef33",
   "metadata": {},
   "source": [
    "Instantiation of a group defined in JSON format, contained in the algebras\n",
    "directory, is depicted below, and assumes that there is an environment\n",
    "variable, **PYPROJ**, that points to the directory containing the\n",
    "abstract_algebra directory."
   ]
  },
  {
   "cell_type": "code",
   "execution_count": 2,
   "id": "678f8ad3",
   "metadata": {},
   "outputs": [
    {
     "data": {
      "text/plain": [
       "Group('V4',\n",
       "'Klein-4 group',\n",
       "['e', 'h', 'v', 'hv'],\n",
       "[[0, 1, 2, 3], [1, 0, 3, 2], [2, 3, 0, 1], [3, 2, 1, 0]]) "
      ]
     },
     "execution_count": 2,
     "metadata": {},
     "output_type": "execute_result"
    }
   ],
   "source": [
    ">>> import os\n",
    "\n",
    "# Setup some useful path variables\n",
    ">>> aa_path = os.path.join(os.getenv(\"PYPROJ\"), \"abstract_algebra\")\n",
    ">>> alg_dir = os.path.join(aa_path, \"Algebras\")\n",
    "\n",
    "# Load a group from it's definition in a JSON file\n",
    ">>> v4_json = os.path.join(alg_dir, \"v4_klein_4_group.json\")\n",
    ">>> v4 = alg.Group(v4_json)\n",
    ">>> v4"
   ]
  },
  {
   "cell_type": "markdown",
   "id": "3bc54938",
   "metadata": {},
   "source": [
    "Pretty print, ``pprint``, tries to print the table in human-readable form.  Calling it with its single argument set to ``True`` will print the multiplication table using element names, rather than the positions of element names in the element name list:"
   ]
  },
  {
   "cell_type": "code",
   "execution_count": 3,
   "id": "b966d7b8",
   "metadata": {},
   "outputs": [
    {
     "name": "stdout",
     "output_type": "stream",
     "text": [
      "Group('V4',\n",
      "'Klein-4 group',\n",
      "[['e', 'h', 'v', 'hv'],\n",
      " ['h', 'e', 'hv', 'v'],\n",
      " ['v', 'hv', 'e', 'h'],\n",
      " ['hv', 'v', 'h', 'e']]\n",
      ")\n"
     ]
    }
   ],
   "source": [
    ">>> v4.pprint(True)"
   ]
  },
  {
   "cell_type": "markdown",
   "id": "c4afe627",
   "metadata": {},
   "source": [
    "Algebra elements can be *multiplied* using the Group method, ``mult``."
   ]
  },
  {
   "cell_type": "code",
   "execution_count": 4,
   "id": "51f86a1b",
   "metadata": {},
   "outputs": [
    {
     "data": {
      "text/plain": [
       "'hv'"
      ]
     },
     "execution_count": 4,
     "metadata": {},
     "output_type": "execute_result"
    }
   ],
   "source": [
    ">>> v4.mult('h', 'v')"
   ]
  },
  {
   "cell_type": "code",
   "execution_count": 5,
   "id": "8b47a731",
   "metadata": {},
   "outputs": [
    {
     "data": {
      "text/plain": [
       "'h'"
      ]
     },
     "execution_count": 5,
     "metadata": {},
     "output_type": "execute_result"
    }
   ],
   "source": [
    ">>> v4.mult('hv', 'v')"
   ]
  },
  {
   "cell_type": "code",
   "execution_count": 6,
   "id": "c6bfb359",
   "metadata": {},
   "outputs": [
    {
     "data": {
      "text/plain": [
       "'h'"
      ]
     },
     "execution_count": 6,
     "metadata": {},
     "output_type": "execute_result"
    }
   ],
   "source": [
    ">>> v4.mult('v', 'hv')"
   ]
  },
  {
   "cell_type": "markdown",
   "id": "778a2967",
   "metadata": {},
   "source": [
    "A group can be tested to determine if it's **abelian**:"
   ]
  },
  {
   "cell_type": "code",
   "execution_count": 7,
   "id": "f707b30e",
   "metadata": {},
   "outputs": [
    {
     "data": {
      "text/plain": [
       "True"
      ]
     },
     "execution_count": 7,
     "metadata": {},
     "output_type": "execute_result"
    }
   ],
   "source": [
    ">>> v4.abelian()"
   ]
  },
  {
   "cell_type": "markdown",
   "id": "de5ba1f1",
   "metadata": {},
   "source": [
    "An elements inverse can be obtained using the ``inverse`` method:"
   ]
  },
  {
   "cell_type": "code",
   "execution_count": 8,
   "id": "1f7258ab",
   "metadata": {},
   "outputs": [
    {
     "data": {
      "text/plain": [
       "'hv'"
      ]
     },
     "execution_count": 8,
     "metadata": {},
     "output_type": "execute_result"
    }
   ],
   "source": [
    ">>> v4.inverse('hv')"
   ]
  },
  {
   "cell_type": "markdown",
   "id": "fd54d63c",
   "metadata": {},
   "source": [
    "A **cyclic group** of any order can be automatically generated:"
   ]
  },
  {
   "cell_type": "code",
   "execution_count": 9,
   "id": "e045b79b",
   "metadata": {},
   "outputs": [
    {
     "data": {
      "text/plain": [
       "Group('Z4',\n",
       "'Autogenerated cyclic group of order 4',\n",
       "['e', 'a', 'a^2', 'a^3'],\n",
       "[[0, 1, 2, 3], [1, 2, 3, 0], [2, 3, 0, 1], [3, 0, 1, 2]]) "
      ]
     },
     "execution_count": 9,
     "metadata": {},
     "output_type": "execute_result"
    }
   ],
   "source": [
    ">>> z4 = alg.generate_cyclic_group(4)\n",
    ">>> z4"
   ]
  },
  {
   "cell_type": "markdown",
   "id": "aae1443f",
   "metadata": {},
   "source": [
    "The **direct product** of two or more groups can be generated using Python's multiplication operator, ``*``:"
   ]
  },
  {
   "cell_type": "code",
   "execution_count": 10,
   "id": "e452a86b",
   "metadata": {},
   "outputs": [
    {
     "data": {
      "text/plain": [
       "Group('Z2',\n",
       "'Autogenerated cyclic group of order 2',\n",
       "['e', 'a'],\n",
       "[[0, 1], [1, 0]]) "
      ]
     },
     "execution_count": 10,
     "metadata": {},
     "output_type": "execute_result"
    }
   ],
   "source": [
    ">>> z2 = alg.generate_cyclic_group(2)\n",
    ">>> z2"
   ]
  },
  {
   "cell_type": "code",
   "execution_count": 11,
   "id": "53a2b96e",
   "metadata": {},
   "outputs": [
    {
     "data": {
      "text/plain": [
       "Group('Z2_x_Z2',\n",
       "'Direct product of Z2 & Z2',\n",
       "['e:e', 'e:a', 'a:e', 'a:a'],\n",
       "[[0, 1, 2, 3], [1, 0, 3, 2], [2, 3, 0, 1], [3, 2, 1, 0]]) "
      ]
     },
     "execution_count": 11,
     "metadata": {},
     "output_type": "execute_result"
    }
   ],
   "source": [
    ">>> z2_x_z2 = z2 * z2\n",
    ">>> z2_x_z2"
   ]
  },
  {
   "cell_type": "markdown",
   "id": "492972cc",
   "metadata": {},
   "source": [
    "If two groups are isomorphic, then the mapping between their elements is returned as a dictionary."
   ]
  },
  {
   "cell_type": "code",
   "execution_count": 12,
   "id": "4b9354ac",
   "metadata": {},
   "outputs": [
    {
     "data": {
      "text/plain": [
       "{'h': 'e:a', 'v': 'a:e', 'hv': 'a:a', 'e': 'e:e'}"
      ]
     },
     "execution_count": 12,
     "metadata": {},
     "output_type": "execute_result"
    }
   ],
   "source": [
    ">>> v4.isomorphic(z2_x_z2)"
   ]
  },
  {
   "cell_type": "markdown",
   "id": "6062735e",
   "metadata": {},
   "source": [
    "If two groups are not isomorphic, then ``False`` is returned."
   ]
  },
  {
   "cell_type": "code",
   "execution_count": 13,
   "id": "621d94b2",
   "metadata": {},
   "outputs": [
    {
     "data": {
      "text/plain": [
       "False"
      ]
     },
     "execution_count": 13,
     "metadata": {},
     "output_type": "execute_result"
    }
   ],
   "source": [
    ">>> z4.isomorphic(z2_x_z2)"
   ]
  },
  {
   "cell_type": "markdown",
   "id": "05dd4913",
   "metadata": {},
   "source": [
    "The proper subgroups of a group can also be computed.\n",
    "**WARNING** Currently, this returns *ALL* subgroups, even ones that are isomorphic to each other.\n",
    "This will be \"fixed\", soon, in a future release."
   ]
  },
  {
   "cell_type": "code",
   "execution_count": 14,
   "id": "48aa9522",
   "metadata": {},
   "outputs": [
    {
     "data": {
      "text/plain": [
       "[Group('Z4_subgroup_0',\n",
       " 'Subgroup of: Autogenerated cyclic group of order 4',\n",
       " ['e', 'a^2'],\n",
       " [[0, 1], [1, 0]]) ]"
      ]
     },
     "execution_count": 14,
     "metadata": {},
     "output_type": "execute_result"
    }
   ],
   "source": [
    ">>> z4.proper_subgroups()"
   ]
  },
  {
   "cell_type": "markdown",
   "id": "e9cda0b4",
   "metadata": {},
   "source": [
    "## Autogeneration of Groups\n",
    "\n",
    "There are three functions for autogenerating groups:\n",
    "* ``autogenerate_cyclic_group``\n",
    "* ``autogenerate_symmetric_group``\n",
    "* ``autogenerate_powerset_group``\n",
    "\n",
    "The autogeneration of cyclic groups was demonstrated above.  Usage of the other two functions is illustrated below:"
   ]
  },
  {
   "cell_type": "code",
   "execution_count": 15,
   "id": "74cecd7d",
   "metadata": {},
   "outputs": [
    {
     "name": "stdout",
     "output_type": "stream",
     "text": [
      "Group('S3',\n",
      "'Autogenerated symmetric group on 3 elements',\n",
      "['(1, 2, 3)', '(1, 3, 2)', '(2, 1, 3)', '(2, 3, 1)', '(3, 1, 2)', '(3, 2, 1)'],\n",
      "[[0, 1, 2, 3, 4, 5],\n",
      " [1, 0, 4, 5, 2, 3],\n",
      " [2, 3, 0, 1, 5, 4],\n",
      " [3, 2, 5, 4, 0, 1],\n",
      " [4, 5, 1, 0, 3, 2],\n",
      " [5, 4, 3, 2, 1, 0]]\n",
      ")\n"
     ]
    }
   ],
   "source": [
    "s3 = alg.generate_symmetric_group(3)\n",
    "s3.pprint()"
   ]
  },
  {
   "cell_type": "markdown",
   "id": "3c9052a0",
   "metadata": {},
   "source": [
    "Note that, in the powerset example below, tuples are used as elements, rather than sets, because the implementation needs to index elements, and you can't do that with sets."
   ]
  },
  {
   "cell_type": "code",
   "execution_count": 16,
   "id": "5df2826c",
   "metadata": {},
   "outputs": [
    {
     "name": "stdout",
     "output_type": "stream",
     "text": [
      "Group('PS3',\n",
      "'Autogenerated group on the powerset of 3 elements, with symmetric difference operator',\n",
      "[(), (0,), (1,), (2,), (0, 1), (0, 2), (1, 2), (0, 1, 2)],\n",
      "[[0, 1, 2, 3, 4, 5, 6, 7],\n",
      " [1, 0, 4, 5, 2, 3, 7, 6],\n",
      " [2, 4, 0, 6, 1, 7, 3, 5],\n",
      " [3, 5, 6, 0, 7, 1, 2, 4],\n",
      " [4, 2, 1, 7, 0, 6, 5, 3],\n",
      " [5, 3, 7, 1, 6, 0, 4, 2],\n",
      " [6, 7, 3, 2, 5, 4, 0, 1],\n",
      " [7, 6, 5, 4, 3, 2, 1, 0]]\n",
      ")\n"
     ]
    }
   ],
   "source": [
    "ps3 = alg.generate_powerset_group(3)\n",
    "ps3.pprint()"
   ]
  }
 ],
 "metadata": {
  "kernelspec": {
   "display_name": "Python 3",
   "language": "python",
   "name": "python3"
  },
  "language_info": {
   "codemirror_mode": {
    "name": "ipython",
    "version": 3
   },
   "file_extension": ".py",
   "mimetype": "text/x-python",
   "name": "python",
   "nbconvert_exporter": "python",
   "pygments_lexer": "ipython3",
   "version": "3.7.7"
  }
 },
 "nbformat": 4,
 "nbformat_minor": 5
}
