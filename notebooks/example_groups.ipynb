{
 "cells": [
  {
   "cell_type": "markdown",
   "id": "7eaefc3e",
   "metadata": {},
   "source": [
    "# Example Groups"
   ]
  },
  {
   "cell_type": "markdown",
   "id": "5fb9358f",
   "metadata": {},
   "source": [
    "I'm using this notebook to implement example groups using the JSON format defined here.\n",
    "\n",
    "Many of these groups were obtained from [Group Explorer](https://nathancarter.github.io/group-explorer/index.html): <i>\"Visualization software for the abstract algebra classroom\".</i>"
   ]
  },
  {
   "cell_type": "code",
   "execution_count": 1,
   "id": "ae014f6d",
   "metadata": {},
   "outputs": [],
   "source": [
    "import json\n",
    "import os\n",
    "import itertools as it\n",
    "\n",
    "import algebras as alg"
   ]
  },
  {
   "cell_type": "markdown",
   "id": "357c5a0f",
   "metadata": {},
   "source": [
    "## Path Definitions"
   ]
  },
  {
   "cell_type": "code",
   "execution_count": 2,
   "id": "d25b0b63",
   "metadata": {},
   "outputs": [],
   "source": [
    "# Path to this repo\n",
    "aa_path = os.path.join(os.getenv('PYPROJ'), 'abstract_algebra')\n",
    "\n",
    "# Path to a directory containing Algebra definitions in JSON\n",
    "alg_dir = os.path.join(aa_path, \"Algebras\")"
   ]
  },
  {
   "cell_type": "markdown",
   "id": "820d4680",
   "metadata": {},
   "source": [
    "## Table of Contents"
   ]
  },
  {
   "cell_type": "markdown",
   "id": "cbc1ef55",
   "metadata": {},
   "source": [
    "* [S3 -- Symmetric Group on 3 Letters](#S3)\n",
    "* [Symmetric Group, S3X (not same as S3, above)](#S3X)\n",
    "* [Z2 (Cyclic Group of Order 2) with Direct Products: Z2_x_Z2 and Z2_x_Z2_x_Z2](#cyclicgroups)\n",
    "* [Z4 -- Cyclic Group of Order 4](#Z4)\n",
    "* [Dihedral Group of Order 6](#dihedralgroup6)\n",
    "* [A4 -- Alternating Group on 4 Letters](#A4)\n",
    "* [D4 -- Dihedral Group on Four Vertices](#D4)\n",
    "* [V4 -- Klein-4 Group](#V4)\n",
    "* [Algebra from Pinter's book, top of page 29](#pinter29)\n",
    "* [Tesseract Group](#tesseract)"
   ]
  },
  {
   "cell_type": "markdown",
   "id": "51d6dbb6",
   "metadata": {},
   "source": [
    "## S3 -- Symmetric Group on 3 Letters<a class=\"anchor\" id=\"S3\"></a>"
   ]
  },
  {
   "cell_type": "markdown",
   "id": "3cab6a40",
   "metadata": {},
   "source": [
    "See this [definition at GitHub](https://github.com/nathancarter/group-explorer/blob/master/groups/S_3.group). \"Another name for this group is \"Dihedral group on 3 vertices.\""
   ]
  },
  {
   "cell_type": "code",
   "execution_count": 3,
   "id": "066739c3",
   "metadata": {},
   "outputs": [
    {
     "name": "stdout",
     "output_type": "stream",
     "text": [
      "{\"type\": \"Group\",\r\n",
      " \"name\": \"S3\",\r\n",
      " \"description\": \"Symmetric group on 3 letters\",\r\n",
      " \"element_names\": [\"e\", \"r\", \"r^2\", \"f\", \"fr\", \"rf\"],\r\n",
      " \"mult_table\": [[0, 1, 2, 3, 4, 5],\r\n",
      "                [1, 2, 0, 5, 3, 4],\r\n",
      "                [2, 0, 1, 4, 5, 3],\r\n",
      "                [3, 4, 5, 0, 1, 2],\r\n",
      "                [4, 5, 3, 2, 0, 1],\r\n",
      "                [5, 3, 4, 1, 2, 0]]\r\n",
      "}\r\n"
     ]
    }
   ],
   "source": [
    "s3_path = os.path.join(alg_dir, \"s3_symmetric_group_on_3_letters.json\")\n",
    "!cat {s3_path}"
   ]
  },
  {
   "cell_type": "code",
   "execution_count": 4,
   "id": "47d4ded0",
   "metadata": {
    "scrolled": true
   },
   "outputs": [
    {
     "name": "stdout",
     "output_type": "stream",
     "text": [
      "Group('S3',\n",
      "'Symmetric group on 3 letters',\n",
      "['e', 'r', 'r^2', 'f', 'fr', 'rf'],\n",
      "[[0, 1, 2, 3, 4, 5],\n",
      " [1, 2, 0, 5, 3, 4],\n",
      " [2, 0, 1, 4, 5, 3],\n",
      " [3, 4, 5, 0, 1, 2],\n",
      " [4, 5, 3, 2, 0, 1],\n",
      " [5, 3, 4, 1, 2, 0]]\n",
      ")\n",
      "\n",
      "Abelian? False\n"
     ]
    }
   ],
   "source": [
    "s3 = alg.Group(s3_path)\n",
    "s3.pprint()\n",
    "print(f\"\\nAbelian? {s3.is_abelian()}\")"
   ]
  },
  {
   "cell_type": "markdown",
   "id": "7cab439d",
   "metadata": {},
   "source": [
    "## Symmetric Group, S3X (not same as S3, above)<a class=\"anchor\" id=\"S3X\"></a>"
   ]
  },
  {
   "cell_type": "markdown",
   "id": "aeeee8a3",
   "metadata": {},
   "source": [
    "This is the [Symmetric group, S3, as specified at Groupprops](https://groupprops.subwiki.org/wiki/Symmetric_group:S3)."
   ]
  },
  {
   "cell_type": "code",
   "execution_count": 5,
   "id": "d2d575e7",
   "metadata": {},
   "outputs": [],
   "source": [
    "s3x = alg.Group('S3X',\n",
    "           'Another version of the symmetric group on 3 letters',\n",
    "           ['()', '(1,2)', '(2,3)', '(1,3)', '(1,2,3)', '(1,3,2)'],\n",
    "           [[0, 1, 2, 3, 4, 5],\n",
    "            [1, 0, 4, 5, 2, 3],\n",
    "            [2, 5, 0, 4, 3, 1],\n",
    "            [3, 4, 5, 0, 1, 2],\n",
    "            [4, 3, 1, 2, 5, 0],\n",
    "            [5, 2, 3, 1, 0, 4]]\n",
    "          )"
   ]
  },
  {
   "cell_type": "code",
   "execution_count": 6,
   "id": "55d87d5a",
   "metadata": {},
   "outputs": [
    {
     "name": "stdout",
     "output_type": "stream",
     "text": [
      "Group('S3X',\n",
      "'Another version of the symmetric group on 3 letters',\n",
      "['()', '(1,2)', '(2,3)', '(1,3)', '(1,2,3)', '(1,3,2)'],\n",
      "[[0, 1, 2, 3, 4, 5],\n",
      " [1, 0, 4, 5, 2, 3],\n",
      " [2, 5, 0, 4, 3, 1],\n",
      " [3, 4, 5, 0, 1, 2],\n",
      " [4, 3, 1, 2, 5, 0],\n",
      " [5, 2, 3, 1, 0, 4]]\n",
      ")\n"
     ]
    }
   ],
   "source": [
    "s3x.pprint()"
   ]
  },
  {
   "cell_type": "markdown",
   "id": "21c24e04",
   "metadata": {},
   "source": [
    "## Z2 (Cyclic Group of Order 2) with Direct Products: Z2_x_Z2 and Z2_x_Z2_x_Z2<a class=\"anchor\" id=\"cyclicgroups\"></a>"
   ]
  },
  {
   "cell_type": "code",
   "execution_count": 7,
   "id": "c8f4a644",
   "metadata": {},
   "outputs": [
    {
     "name": "stdout",
     "output_type": "stream",
     "text": [
      "Group('Z2',\n",
      "'Autogenerated cyclic group of order 2',\n",
      "['e', 'a'],\n",
      "[[0, 1], [1, 0]]\n",
      ")\n",
      "\n",
      "Abelian? False\n"
     ]
    }
   ],
   "source": [
    "z2 = alg.generate_cyclic_group(2)\n",
    "z2.pprint()\n",
    "print(f\"\\nAbelian? {s3.is_abelian()}\")"
   ]
  },
  {
   "cell_type": "code",
   "execution_count": 8,
   "id": "f187f35d",
   "metadata": {},
   "outputs": [
    {
     "name": "stdout",
     "output_type": "stream",
     "text": [
      "Group('Z2_x_Z2',\n",
      "'Direct product of Z2 & Z2',\n",
      "['e:e', 'e:a', 'a:e', 'a:a'],\n",
      "[[0, 1, 2, 3], [1, 0, 3, 2], [2, 3, 0, 1], [3, 2, 1, 0]]\n",
      ")\n",
      "\n",
      "Abelian? False\n"
     ]
    }
   ],
   "source": [
    "z2xz2 = z2 * z2\n",
    "z2xz2.pprint()\n",
    "print(f\"\\nAbelian? {s3.is_abelian()}\")"
   ]
  },
  {
   "cell_type": "code",
   "execution_count": 9,
   "id": "49dfde40",
   "metadata": {},
   "outputs": [
    {
     "name": "stdout",
     "output_type": "stream",
     "text": [
      "Group('Z2_x_Z2_x_Z2',\n",
      "'Direct product of Z2_x_Z2 & Z2',\n",
      "['e:e:e', 'e:e:a', 'e:a:e', 'e:a:a', 'a:e:e', 'a:e:a', 'a:a:e', 'a:a:a'],\n",
      "[[0, 1, 2, 3, 4, 5, 6, 7],\n",
      " [1, 0, 3, 2, 5, 4, 7, 6],\n",
      " [2, 3, 0, 1, 6, 7, 4, 5],\n",
      " [3, 2, 1, 0, 7, 6, 5, 4],\n",
      " [4, 5, 6, 7, 0, 1, 2, 3],\n",
      " [5, 4, 7, 6, 1, 0, 3, 2],\n",
      " [6, 7, 4, 5, 2, 3, 0, 1],\n",
      " [7, 6, 5, 4, 3, 2, 1, 0]]\n",
      ")\n",
      "\n",
      "Abelian? False\n"
     ]
    }
   ],
   "source": [
    "z2xz2xz2 = z2 * z2 * z2\n",
    "z2xz2xz2.pprint()\n",
    "print(f\"\\nAbelian? {s3.is_abelian()}\")"
   ]
  },
  {
   "cell_type": "code",
   "execution_count": 10,
   "id": "f2baaf6a",
   "metadata": {},
   "outputs": [
    {
     "data": {
      "text/plain": [
       "[]"
      ]
     },
     "execution_count": 10,
     "metadata": {},
     "output_type": "execute_result"
    }
   ],
   "source": [
    "z2.proper_subgroups()"
   ]
  },
  {
   "cell_type": "code",
   "execution_count": 11,
   "id": "7c67375d",
   "metadata": {},
   "outputs": [
    {
     "data": {
      "text/plain": [
       "[Group('Z2_x_Z2_subgroup_0',\n",
       " 'Subgroup of: Direct product of Z2 & Z2',\n",
       " ['e:e', 'e:a'],\n",
       " [[0, 1], [1, 0]]) ,\n",
       " Group('Z2_x_Z2_subgroup_1',\n",
       " 'Subgroup of: Direct product of Z2 & Z2',\n",
       " ['e:e', 'a:a'],\n",
       " [[0, 1], [1, 0]]) ,\n",
       " Group('Z2_x_Z2_subgroup_2',\n",
       " 'Subgroup of: Direct product of Z2 & Z2',\n",
       " ['e:e', 'a:e'],\n",
       " [[0, 1], [1, 0]]) ]"
      ]
     },
     "execution_count": 11,
     "metadata": {},
     "output_type": "execute_result"
    }
   ],
   "source": [
    "z2xz2.proper_subgroups()"
   ]
  },
  {
   "cell_type": "code",
   "execution_count": 12,
   "id": "8f3fc08b",
   "metadata": {},
   "outputs": [],
   "source": [
    "z2xz2xz2_subgroups = z2xz2xz2.proper_subgroups()"
   ]
  },
  {
   "cell_type": "code",
   "execution_count": 13,
   "id": "906c4b15",
   "metadata": {},
   "outputs": [
    {
     "data": {
      "text/plain": [
       "14"
      ]
     },
     "execution_count": 13,
     "metadata": {},
     "output_type": "execute_result"
    }
   ],
   "source": [
    "len(z2xz2xz2_subgroups)"
   ]
  },
  {
   "cell_type": "code",
   "execution_count": 14,
   "id": "a353af5c",
   "metadata": {},
   "outputs": [
    {
     "data": {
      "text/plain": [
       "[2, 4, 4, 4, 2, 4, 4, 2, 2, 2, 2, 2, 4, 4]"
      ]
     },
     "execution_count": 14,
     "metadata": {},
     "output_type": "execute_result"
    }
   ],
   "source": [
    "[g.order for g in z2xz2xz2_subgroups]"
   ]
  },
  {
   "cell_type": "code",
   "execution_count": 15,
   "id": "2ab1a0e0",
   "metadata": {},
   "outputs": [
    {
     "name": "stdout",
     "output_type": "stream",
     "text": [
      "Group('Z2_x_Z2_x_Z2_subgroup_0',\n",
      "'Subgroup of: Direct product of Z2_x_Z2 & Z2',\n",
      "['e:e:e', 'e:a:e'],\n",
      "[[0, 1], [1, 0]]\n",
      ")\n",
      "Group('Z2_x_Z2_x_Z2_subgroup_1',\n",
      "'Subgroup of: Direct product of Z2_x_Z2 & Z2',\n",
      "['e:e:e', 'e:a:a', 'a:e:a', 'a:a:e'],\n",
      "[[0, 1, 2, 3], [1, 0, 3, 2], [2, 3, 0, 1], [3, 2, 1, 0]]\n",
      ")\n",
      "Group('Z2_x_Z2_x_Z2_subgroup_2',\n",
      "'Subgroup of: Direct product of Z2_x_Z2 & Z2',\n",
      "['e:e:e', 'e:a:e', 'a:e:a', 'a:a:a'],\n",
      "[[0, 1, 2, 3], [1, 0, 3, 2], [2, 3, 0, 1], [3, 2, 1, 0]]\n",
      ")\n",
      "Group('Z2_x_Z2_x_Z2_subgroup_3',\n",
      "'Subgroup of: Direct product of Z2_x_Z2 & Z2',\n",
      "['e:e:e', 'e:e:a', 'a:e:e', 'a:e:a'],\n",
      "[[0, 1, 2, 3], [1, 0, 3, 2], [2, 3, 0, 1], [3, 2, 1, 0]]\n",
      ")\n",
      "Group('Z2_x_Z2_x_Z2_subgroup_4',\n",
      "'Subgroup of: Direct product of Z2_x_Z2 & Z2',\n",
      "['e:e:e', 'a:a:e'],\n",
      "[[0, 1], [1, 0]]\n",
      ")\n",
      "Group('Z2_x_Z2_x_Z2_subgroup_5',\n",
      "'Subgroup of: Direct product of Z2_x_Z2 & Z2',\n",
      "['e:e:e', 'e:a:a', 'a:e:e', 'a:a:a'],\n",
      "[[0, 1, 2, 3], [1, 0, 3, 2], [2, 3, 0, 1], [3, 2, 1, 0]]\n",
      ")\n",
      "Group('Z2_x_Z2_x_Z2_subgroup_6',\n",
      "'Subgroup of: Direct product of Z2_x_Z2 & Z2',\n",
      "['e:e:e', 'e:e:a', 'a:a:e', 'a:a:a'],\n",
      "[[0, 1, 2, 3], [1, 0, 3, 2], [2, 3, 0, 1], [3, 2, 1, 0]]\n",
      ")\n",
      "Group('Z2_x_Z2_x_Z2_subgroup_7',\n",
      "'Subgroup of: Direct product of Z2_x_Z2 & Z2',\n",
      "['e:e:e', 'a:a:a'],\n",
      "[[0, 1], [1, 0]]\n",
      ")\n",
      "Group('Z2_x_Z2_x_Z2_subgroup_8',\n",
      "'Subgroup of: Direct product of Z2_x_Z2 & Z2',\n",
      "['e:e:e', 'e:e:a'],\n",
      "[[0, 1], [1, 0]]\n",
      ")\n",
      "Group('Z2_x_Z2_x_Z2_subgroup_9',\n",
      "'Subgroup of: Direct product of Z2_x_Z2 & Z2',\n",
      "['e:e:e', 'a:e:a'],\n",
      "[[0, 1], [1, 0]]\n",
      ")\n",
      "Group('Z2_x_Z2_x_Z2_subgroup_10',\n",
      "'Subgroup of: Direct product of Z2_x_Z2 & Z2',\n",
      "['e:e:e', 'e:a:a'],\n",
      "[[0, 1], [1, 0]]\n",
      ")\n",
      "Group('Z2_x_Z2_x_Z2_subgroup_11',\n",
      "'Subgroup of: Direct product of Z2_x_Z2 & Z2',\n",
      "['e:e:e', 'a:e:e'],\n",
      "[[0, 1], [1, 0]]\n",
      ")\n",
      "Group('Z2_x_Z2_x_Z2_subgroup_12',\n",
      "'Subgroup of: Direct product of Z2_x_Z2 & Z2',\n",
      "['e:e:e', 'e:a:e', 'a:e:e', 'a:a:e'],\n",
      "[[0, 1, 2, 3], [1, 0, 3, 2], [2, 3, 0, 1], [3, 2, 1, 0]]\n",
      ")\n",
      "Group('Z2_x_Z2_x_Z2_subgroup_13',\n",
      "'Subgroup of: Direct product of Z2_x_Z2 & Z2',\n",
      "['e:e:e', 'e:e:a', 'e:a:e', 'e:a:a'],\n",
      "[[0, 1, 2, 3], [1, 0, 3, 2], [2, 3, 0, 1], [3, 2, 1, 0]]\n",
      ")\n"
     ]
    }
   ],
   "source": [
    "subs = z2xz2xz2_subgroups\n",
    "for sub in subs:\n",
    "    sub.pprint()"
   ]
  },
  {
   "cell_type": "markdown",
   "id": "d928b919",
   "metadata": {},
   "source": [
    "## Z4 -- Cyclic Group of Order 4<a class=\"anchor\" id=\"Z4\"></a>"
   ]
  },
  {
   "cell_type": "markdown",
   "id": "ef5e72c1",
   "metadata": {},
   "source": [
    "See this [definition at GitHub](https://github.com/nathancarter/group-explorer/blob/master/groups/Z_4.group)."
   ]
  },
  {
   "cell_type": "code",
   "execution_count": 16,
   "id": "42b0b3e2",
   "metadata": {},
   "outputs": [
    {
     "name": "stdout",
     "output_type": "stream",
     "text": [
      "{\"type\": \"Group\",\r\n",
      " \"name\": \"Z4\",\r\n",
      " \"description\": \"Cyclic group of order 4\",\r\n",
      " \"element_names\": [\"e\", \"a\", \"a^2\", \"a^3\"],\r\n",
      " \"mult_table\": [[0, 1, 2, 3],\r\n",
      "                [1, 2, 3, 0],\r\n",
      "                [2, 3, 0, 1],\r\n",
      "                [3, 0, 1, 2]]\r\n",
      "}\r\n"
     ]
    }
   ],
   "source": [
    "z4_json = os.path.join(alg_dir, \"z4_cyclic_group_of_order_4.json\")\n",
    "!cat {z4_json}"
   ]
  },
  {
   "cell_type": "code",
   "execution_count": 17,
   "id": "361a6c66",
   "metadata": {},
   "outputs": [
    {
     "name": "stdout",
     "output_type": "stream",
     "text": [
      "Group('Z4',\n",
      "'Cyclic group of order 4',\n",
      "['e', 'a', 'a^2', 'a^3'],\n",
      "[[0, 1, 2, 3], [1, 2, 3, 0], [2, 3, 0, 1], [3, 0, 1, 2]]\n",
      ")\n"
     ]
    }
   ],
   "source": [
    "z4 = alg.Group(z4_json)\n",
    "z4.pprint()"
   ]
  },
  {
   "cell_type": "markdown",
   "id": "b531e826",
   "metadata": {},
   "source": [
    "## Dihedral Group of Order 6<a class=\"anchor\" id=\"dihedralgroup6\"></a>"
   ]
  },
  {
   "cell_type": "markdown",
   "id": "a3977ac1",
   "metadata": {},
   "source": [
    "[See Wikipedia](https://en.wikipedia.org/wiki/Dihedral_group_of_order_6)"
   ]
  },
  {
   "cell_type": "code",
   "execution_count": 18,
   "id": "87cbe92f",
   "metadata": {},
   "outputs": [
    {
     "name": "stdout",
     "output_type": "stream",
     "text": [
      "{\"type\": \"Group\",\r\n",
      " \"name\": \"D3\",\r\n",
      " \"description\": \"https://en.wikipedia.org/wiki/Dihedral_group_of_order_6\",\r\n",
      " \"element_names\": [\"e\", \"a\", \"b\", \"aba\", \"ab\", \"ba\"],\r\n",
      " \"mult_table\": [[0, 1, 2, 3, 4, 5],\r\n",
      "                [1, 0, 4, 5, 2, 3],\r\n",
      "                [2, 5, 0, 4, 3, 1],\r\n",
      "                [3, 4, 5, 0, 1, 2],\r\n",
      "                [4, 3, 1, 2, 5, 0],\r\n",
      "                [5, 2, 3, 1, 0, 4]]\r\n",
      "}"
     ]
    }
   ],
   "source": [
    "d3_path = os.path.join(alg_dir, \"d3_dihedral_group_of_order_6.json\")\n",
    "\n",
    "!cat {d3_path}"
   ]
  },
  {
   "cell_type": "code",
   "execution_count": 19,
   "id": "b157f54a",
   "metadata": {},
   "outputs": [
    {
     "name": "stdout",
     "output_type": "stream",
     "text": [
      "Group('D3',\n",
      "'https://en.wikipedia.org/wiki/Dihedral_group_of_order_6',\n",
      "['e', 'a', 'b', 'aba', 'ab', 'ba'],\n",
      "[[0, 1, 2, 3, 4, 5],\n",
      " [1, 0, 4, 5, 2, 3],\n",
      " [2, 5, 0, 4, 3, 1],\n",
      " [3, 4, 5, 0, 1, 2],\n",
      " [4, 3, 1, 2, 5, 0],\n",
      " [5, 2, 3, 1, 0, 4]]\n",
      ")\n"
     ]
    }
   ],
   "source": [
    "d3 = alg.Group(d3_path)\n",
    "d3.pprint()"
   ]
  },
  {
   "cell_type": "code",
   "execution_count": 20,
   "id": "05360e8f",
   "metadata": {},
   "outputs": [
    {
     "name": "stdout",
     "output_type": "stream",
     "text": [
      "Group('D3_subgroup_0',\n",
      "'Subgroup of: https://en.wikipedia.org/wiki/Dihedral_group_of_order_6',\n",
      "['e', 'b'],\n",
      "[[0, 1], [1, 0]]\n",
      ")\n",
      "Group('D3_subgroup_1',\n",
      "'Subgroup of: https://en.wikipedia.org/wiki/Dihedral_group_of_order_6',\n",
      "['e', 'ab', 'ba'],\n",
      "[[0, 1, 2], [1, 2, 0], [2, 0, 1]]\n",
      ")\n",
      "Group('D3_subgroup_2',\n",
      "'Subgroup of: https://en.wikipedia.org/wiki/Dihedral_group_of_order_6',\n",
      "['e', 'a'],\n",
      "[[0, 1], [1, 0]]\n",
      ")\n",
      "Group('D3_subgroup_3',\n",
      "'Subgroup of: https://en.wikipedia.org/wiki/Dihedral_group_of_order_6',\n",
      "['e', 'aba'],\n",
      "[[0, 1], [1, 0]]\n",
      ")\n"
     ]
    }
   ],
   "source": [
    "subs = d3.proper_subgroups()\n",
    "for sub in subs:\n",
    "    sub.pprint()"
   ]
  },
  {
   "cell_type": "markdown",
   "id": "dfd67877",
   "metadata": {},
   "source": [
    "## D4 -- Dihedral Group on Four Vertices<a class=\"anchor\" id=\"D4\"></a>"
   ]
  },
  {
   "cell_type": "code",
   "execution_count": 21,
   "id": "5b1889b7",
   "metadata": {},
   "outputs": [
    {
     "name": "stdout",
     "output_type": "stream",
     "text": [
      "{\"type\": \"Group\",\r\n",
      " \"name\": \"D_4\",\r\n",
      " \"description\": \"Dihedral group on four vertices\",\r\n",
      " \"element_names\": [\"e\", \"r\", \"r^2\", \"r^3\", \"f\", \"fr\", \"r^2f\", \"rf\"],\r\n",
      " \"alt_elem_names\": [\"()\", \"(0 1 2 3)\", \"(0 2)(1 3)\", \"(0 3 2 1)\",\r\n",
      "                    \"(0 1)(2 3)\", \"(1 3)\", \"(0 3)(1 2)\", \"(0 2)\"],\r\n",
      " \"mult_table\": [[0, 1, 2, 3, 4, 5, 6, 7],\r\n",
      "                [1, 2, 3, 0, 7, 4, 5, 6],\r\n",
      "                [2, 3, 0, 1, 6, 7, 4, 5],\r\n",
      "                [3, 0, 1, 2, 5, 6, 7, 4],\r\n",
      "                [4, 5, 6, 7, 0, 1, 2, 3],\r\n",
      "                [5, 6, 7, 4, 3, 0, 1, 2],\r\n",
      "                [6, 7, 4, 5, 2, 3, 0, 1],\r\n",
      "                [7, 4, 5, 6, 1, 2, 3, 0]]\r\n",
      "}"
     ]
    }
   ],
   "source": [
    "d4_path = os.path.join(alg_dir, \"d4_dihedral_group_on_4_vertices.json\")\n",
    "!cat {d4_path}"
   ]
  },
  {
   "cell_type": "code",
   "execution_count": 22,
   "id": "1d10e6aa",
   "metadata": {},
   "outputs": [
    {
     "name": "stdout",
     "output_type": "stream",
     "text": [
      "Group('D_4',\n",
      "'Dihedral group on four vertices',\n",
      "['e', 'r', 'r^2', 'r^3', 'f', 'fr', 'r^2f', 'rf'],\n",
      "[[0, 1, 2, 3, 4, 5, 6, 7],\n",
      " [1, 2, 3, 0, 7, 4, 5, 6],\n",
      " [2, 3, 0, 1, 6, 7, 4, 5],\n",
      " [3, 0, 1, 2, 5, 6, 7, 4],\n",
      " [4, 5, 6, 7, 0, 1, 2, 3],\n",
      " [5, 6, 7, 4, 3, 0, 1, 2],\n",
      " [6, 7, 4, 5, 2, 3, 0, 1],\n",
      " [7, 4, 5, 6, 1, 2, 3, 0]]\n",
      ")\n"
     ]
    }
   ],
   "source": [
    "d4 = alg.Group(d4_path)\n",
    "d4.pprint()"
   ]
  },
  {
   "cell_type": "code",
   "execution_count": 23,
   "id": "6da5d66f",
   "metadata": {},
   "outputs": [
    {
     "name": "stdout",
     "output_type": "stream",
     "text": [
      "Group('D_4_subgroup_0',\n",
      "'Subgroup of: Dihedral group on four vertices',\n",
      "['e', 'r', 'r^2', 'r^3'],\n",
      "[[0, 1, 2, 3], [1, 2, 3, 0], [2, 3, 0, 1], [3, 0, 1, 2]]\n",
      ")\n",
      "Group('D_4_subgroup_1',\n",
      "'Subgroup of: Dihedral group on four vertices',\n",
      "['e', 'r^2', 'f', 'r^2f'],\n",
      "[[0, 1, 2, 3], [1, 0, 3, 2], [2, 3, 0, 1], [3, 2, 1, 0]]\n",
      ")\n",
      "Group('D_4_subgroup_2',\n",
      "'Subgroup of: Dihedral group on four vertices',\n",
      "['e', 'rf'],\n",
      "[[0, 1], [1, 0]]\n",
      ")\n",
      "Group('D_4_subgroup_3',\n",
      "'Subgroup of: Dihedral group on four vertices',\n",
      "['e', 'fr'],\n",
      "[[0, 1], [1, 0]]\n",
      ")\n",
      "Group('D_4_subgroup_4',\n",
      "'Subgroup of: Dihedral group on four vertices',\n",
      "['e', 'r^2'],\n",
      "[[0, 1], [1, 0]]\n",
      ")\n",
      "Group('D_4_subgroup_5',\n",
      "'Subgroup of: Dihedral group on four vertices',\n",
      "['e', 'r^2f'],\n",
      "[[0, 1], [1, 0]]\n",
      ")\n",
      "Group('D_4_subgroup_6',\n",
      "'Subgroup of: Dihedral group on four vertices',\n",
      "['e', 'r^2', 'fr', 'rf'],\n",
      "[[0, 1, 2, 3], [1, 0, 3, 2], [2, 3, 0, 1], [3, 2, 1, 0]]\n",
      ")\n",
      "Group('D_4_subgroup_7',\n",
      "'Subgroup of: Dihedral group on four vertices',\n",
      "['e', 'f'],\n",
      "[[0, 1], [1, 0]]\n",
      ")\n"
     ]
    }
   ],
   "source": [
    "subs = d4.proper_subgroups()\n",
    "for sub in subs:\n",
    "    sub.pprint()"
   ]
  },
  {
   "cell_type": "markdown",
   "id": "96214671",
   "metadata": {},
   "source": [
    "## A4 -- Alternating Group on 4 Letters<a class=\"anchor\" id=\"A4\"></a>"
   ]
  },
  {
   "cell_type": "code",
   "execution_count": 24,
   "id": "38fd797e",
   "metadata": {},
   "outputs": [
    {
     "name": "stdout",
     "output_type": "stream",
     "text": [
      "{\"type\": \"Group\",\r\n",
      " \"name\": \"A_4\",\r\n",
      " \"description\": \"Alternating group on 4 letters (AKA Tetrahedral group)\",\r\n",
      " \"element_names\": [\"()\", \"(1 3 2)\", \"(1 2 3)\", \"(0 1)(2 3)\", \"(0 1 2)\", \"(0 1 3)\", \"(0 3 1)\",\r\n",
      "                   \"(0 3 2)\", \"(0 3)(1 2)\", \"(0 2 3)\", \"(0 2 1)\", \"(0 2)(1 3)\"],\r\n",
      " \"mult_table\": [[0, 1, 2, 3, 4, 5, 6, 7, 8, 9, 10, 11],\r\n",
      "                [1, 2, 0, 6, 7, 8, 10, 11, 9, 5, 3, 4],\r\n",
      "                [2, 0, 1, 10, 11, 9, 3, 4, 5, 8, 6, 7],\r\n",
      "                [3, 4, 5, 0, 1, 2, 9, 10, 11, 6, 7, 8],\r\n",
      "                [4, 5, 3, 9, 10, 11, 7, 8, 6, 2, 0, 1],\r\n",
      "                [5, 3, 4, 7, 8, 6, 0, 1, 2, 11, 9, 10],\r\n",
      "                [6, 7, 8, 1, 2, 0, 5, 3, 4, 10, 11, 9],\r\n",
      "                [7, 8, 6, 5, 3, 4, 11, 9, 10, 0, 1, 2],\r\n",
      "                [8, 6, 7, 11, 9, 10, 1, 2, 0, 4, 5, 3],\r\n",
      "                [9, 10, 11, 4, 5, 3, 2, 0, 1, 7, 8, 6],\r\n",
      "                [10, 11, 9, 2, 0, 1, 8, 6, 7, 3, 4, 5],\r\n",
      "                [11, 9, 10, 8, 6, 7, 4, 5, 3, 1, 2, 0]]\r\n",
      "}\r\n"
     ]
    }
   ],
   "source": [
    "a4_path = os.path.join(alg_dir, \"a4_alternating_group_on_4_letters.json\")\n",
    "!cat {a4_path}"
   ]
  },
  {
   "cell_type": "code",
   "execution_count": 25,
   "id": "11bb5347",
   "metadata": {},
   "outputs": [
    {
     "name": "stdout",
     "output_type": "stream",
     "text": [
      "Group('A_4',\n",
      "'Alternating group on 4 letters (AKA Tetrahedral group)',\n",
      "['()', '(1 3 2)', '(1 2 3)', '(0 1)(2 3)', '(0 1 2)', '(0 1 3)', '(0 3 1)', '(0 3 2)', '(0 3)(1 2)', '(0 2 3)', '(0 2 1)', '(0 2)(1 3)'],\n",
      "[[0, 1, 2, 3, 4, 5, 6, 7, 8, 9, 10, 11],\n",
      " [1, 2, 0, 6, 7, 8, 10, 11, 9, 5, 3, 4],\n",
      " [2, 0, 1, 10, 11, 9, 3, 4, 5, 8, 6, 7],\n",
      " [3, 4, 5, 0, 1, 2, 9, 10, 11, 6, 7, 8],\n",
      " [4, 5, 3, 9, 10, 11, 7, 8, 6, 2, 0, 1],\n",
      " [5, 3, 4, 7, 8, 6, 0, 1, 2, 11, 9, 10],\n",
      " [6, 7, 8, 1, 2, 0, 5, 3, 4, 10, 11, 9],\n",
      " [7, 8, 6, 5, 3, 4, 11, 9, 10, 0, 1, 2],\n",
      " [8, 6, 7, 11, 9, 10, 1, 2, 0, 4, 5, 3],\n",
      " [9, 10, 11, 4, 5, 3, 2, 0, 1, 7, 8, 6],\n",
      " [10, 11, 9, 2, 0, 1, 8, 6, 7, 3, 4, 5],\n",
      " [11, 9, 10, 8, 6, 7, 4, 5, 3, 1, 2, 0]]\n",
      ")\n"
     ]
    }
   ],
   "source": [
    "a4 = alg.Group(a4_path)\n",
    "a4.pprint()"
   ]
  },
  {
   "cell_type": "code",
   "execution_count": 26,
   "id": "069a9d46",
   "metadata": {},
   "outputs": [
    {
     "name": "stdout",
     "output_type": "stream",
     "text": [
      "Group('A_4_subgroup_0',\n",
      "'Subgroup of: Alternating group on 4 letters (AKA Tetrahedral group)',\n",
      "['()', '(0 1)(2 3)'],\n",
      "[[0, 1], [1, 0]]\n",
      ")\n",
      "Group('A_4_subgroup_1',\n",
      "'Subgroup of: Alternating group on 4 letters (AKA Tetrahedral group)',\n",
      "['()', '(0 1 3)', '(0 3 1)'],\n",
      "[[0, 1, 2], [1, 2, 0], [2, 0, 1]]\n",
      ")\n",
      "Group('A_4_subgroup_2',\n",
      "'Subgroup of: Alternating group on 4 letters (AKA Tetrahedral group)',\n",
      "['()', '(0 3)(1 2)'],\n",
      "[[0, 1], [1, 0]]\n",
      ")\n",
      "Group('A_4_subgroup_3',\n",
      "'Subgroup of: Alternating group on 4 letters (AKA Tetrahedral group)',\n",
      "['()', '(0 3 2)', '(0 2 3)'],\n",
      "[[0, 1, 2], [1, 2, 0], [2, 0, 1]]\n",
      ")\n",
      "Group('A_4_subgroup_4',\n",
      "'Subgroup of: Alternating group on 4 letters (AKA Tetrahedral group)',\n",
      "['()', '(0 2)(1 3)'],\n",
      "[[0, 1], [1, 0]]\n",
      ")\n",
      "Group('A_4_subgroup_5',\n",
      "'Subgroup of: Alternating group on 4 letters (AKA Tetrahedral group)',\n",
      "['()', '(0 1 2)', '(0 2 1)'],\n",
      "[[0, 1, 2], [1, 2, 0], [2, 0, 1]]\n",
      ")\n",
      "Group('A_4_subgroup_6',\n",
      "'Subgroup of: Alternating group on 4 letters (AKA Tetrahedral group)',\n",
      "['()', '(1 3 2)', '(1 2 3)'],\n",
      "[[0, 1, 2], [1, 2, 0], [2, 0, 1]]\n",
      ")\n",
      "Group('A_4_subgroup_7',\n",
      "'Subgroup of: Alternating group on 4 letters (AKA Tetrahedral group)',\n",
      "['()', '(0 1)(2 3)', '(0 3)(1 2)', '(0 2)(1 3)'],\n",
      "[[0, 1, 2, 3], [1, 0, 3, 2], [2, 3, 0, 1], [3, 2, 1, 0]]\n",
      ")\n"
     ]
    }
   ],
   "source": [
    "subs = a4.proper_subgroups()\n",
    "for sub in subs:\n",
    "    sub.pprint()"
   ]
  },
  {
   "cell_type": "markdown",
   "id": "c94b5210",
   "metadata": {},
   "source": [
    "## Klein-4 Group<a class=\"anchor\" id=\"V4\"></a>"
   ]
  },
  {
   "cell_type": "markdown",
   "id": "6d01a762",
   "metadata": {},
   "source": [
    "See this [definition at GitHub](https://github.com/nathancarter/group-explorer/blob/master/groups/V_4.group)."
   ]
  },
  {
   "cell_type": "code",
   "execution_count": 27,
   "id": "89a4d6c6",
   "metadata": {},
   "outputs": [
    {
     "name": "stdout",
     "output_type": "stream",
     "text": [
      "{\"type\": \"Group\",\r\n",
      " \"name\": \"V4\",\r\n",
      " \"description\": \"Klein-4 group\",\r\n",
      " \"element_names\": [\"e\", \"h\", \"v\", \"r\"],\r\n",
      " \"mult_table\": [[0, 1, 2, 3],\r\n",
      "                [1, 0, 3, 2],\r\n",
      "                [2, 3, 0, 1],\r\n",
      "                [3, 2, 1, 0]]\r\n",
      "}\r\n"
     ]
    }
   ],
   "source": [
    "v4_json = os.path.join(alg_dir, \"v4_klein_4_group.json\")\n",
    "!cat {v4_json}"
   ]
  },
  {
   "cell_type": "code",
   "execution_count": 28,
   "id": "49fc31ee",
   "metadata": {},
   "outputs": [
    {
     "name": "stdout",
     "output_type": "stream",
     "text": [
      "Group('V4',\n",
      "'Klein-4 group',\n",
      "['e', 'h', 'v', 'r'],\n",
      "[[0, 1, 2, 3], [1, 0, 3, 2], [2, 3, 0, 1], [3, 2, 1, 0]]\n",
      ")\n"
     ]
    }
   ],
   "source": [
    "v4 = alg.Group(v4_json)\n",
    "v4.pprint()"
   ]
  },
  {
   "cell_type": "markdown",
   "id": "ed9b4607",
   "metadata": {},
   "source": [
    "## Algebra from Pinter's book, top of page 29<a class=\"anchor\" id=\"pinter29\"></a>"
   ]
  },
  {
   "cell_type": "code",
   "execution_count": 29,
   "id": "39149763",
   "metadata": {},
   "outputs": [
    {
     "name": "stdout",
     "output_type": "stream",
     "text": [
      "Group('Non-Abelian_Example',\n",
      "'Example on page 29 of 'A Book of Abstract Algebra' by Charles C. Pinter',\n",
      "['I', 'A', 'B', 'C', 'D', 'K'],\n",
      "[[0, 1, 2, 3, 4, 5],\n",
      " [1, 0, 3, 2, 5, 4],\n",
      " [2, 5, 4, 1, 0, 3],\n",
      " [3, 4, 5, 0, 1, 2],\n",
      " [4, 3, 0, 5, 2, 1],\n",
      " [5, 2, 1, 4, 3, 0]]\n",
      ")\n"
     ]
    }
   ],
   "source": [
    "pinter_p29_path = os.path.join(alg_dir, \"Pinter_page_29.json\")\n",
    "pinter_p29 = alg.Group(pinter_p29_path)\n",
    "pinter_p29.pprint()"
   ]
  },
  {
   "cell_type": "markdown",
   "id": "b3d80b01",
   "metadata": {},
   "source": [
    "## Tesseract group<a class=\"anchor\" id=\"tesseract\"></a>"
   ]
  },
  {
   "cell_type": "markdown",
   "id": "eae3c0cd",
   "metadata": {},
   "source": [
    "This group has 384 elements and was converted to JSON from [this definition](https://github.com/nathancarter/group-explorer/blob/master/groups/Tesseract.group)."
   ]
  },
  {
   "cell_type": "code",
   "execution_count": 30,
   "id": "0d463bd7",
   "metadata": {},
   "outputs": [
    {
     "name": "stdout",
     "output_type": "stream",
     "text": [
      "<Group: Tesseract, The symmetries of the hypercube>\n"
     ]
    }
   ],
   "source": [
    "tesseract_path = os.path.join(alg_dir, \"tesseract.json\")\n",
    "tesseract = alg.Group(tesseract_path)\n",
    "print(tesseract)"
   ]
  },
  {
   "cell_type": "code",
   "execution_count": 31,
   "id": "27837a34",
   "metadata": {},
   "outputs": [],
   "source": [
    "# %time tesseract.is_abelian()  # False"
   ]
  },
  {
   "cell_type": "code",
   "execution_count": 32,
   "id": "2433c63e",
   "metadata": {},
   "outputs": [],
   "source": [
    "# %time tesseract.is_associative() # True (WARNING: LONG RUNNING TIME)"
   ]
  },
  {
   "cell_type": "code",
   "execution_count": 33,
   "id": "3cc1f3bc",
   "metadata": {},
   "outputs": [
    {
     "data": {
      "text/plain": [
       "384"
      ]
     },
     "execution_count": 33,
     "metadata": {},
     "output_type": "execute_result"
    }
   ],
   "source": [
    "tesseract.order"
   ]
  },
  {
   "cell_type": "markdown",
   "id": "f3c3846d",
   "metadata": {},
   "source": [
    "Here are the first n elements:"
   ]
  },
  {
   "cell_type": "code",
   "execution_count": 34,
   "id": "8e93e32a",
   "metadata": {},
   "outputs": [
    {
     "data": {
      "text/plain": [
       "['e',\n",
       " 'a',\n",
       " 'b',\n",
       " 'ba',\n",
       " 'bb',\n",
       " 'bba',\n",
       " 'ab',\n",
       " 'aba',\n",
       " 'bab',\n",
       " 'baba',\n",
       " 'bbab',\n",
       " 'abababba',\n",
       " 'abb',\n",
       " 'abba',\n",
       " 'babb',\n",
       " 'abababbab',\n",
       " 'ababa',\n",
       " 'abab',\n",
       " 'abbab',\n",
       " 'acabababbac',\n",
       " 'babbab',\n",
       " 'ababbab',\n",
       " 'ababb',\n",
       " 'ababba',\n",
       " 'c']"
      ]
     },
     "execution_count": 34,
     "metadata": {},
     "output_type": "execute_result"
    }
   ],
   "source": [
    "n = 25\n",
    "tesseract.elements[:n]"
   ]
  },
  {
   "cell_type": "markdown",
   "id": "8a04264a",
   "metadata": {},
   "source": [
    "## Whatever"
   ]
  },
  {
   "cell_type": "code",
   "execution_count": 35,
   "id": "ebe2f834",
   "metadata": {},
   "outputs": [
    {
     "name": "stdout",
     "output_type": "stream",
     "text": [
      "Group('Whatever',\n",
      "'Experimenting',\n",
      "[['e', 'a', 'b', 'c'],\n",
      " ['a', 'e', 'c', 'b'],\n",
      " ['b', 'c', 'e', 'a'],\n",
      " ['c', 'b', 'a', 'e']]\n",
      ")\n"
     ]
    }
   ],
   "source": [
    "whatever = alg.Group(\"Whatever\",\n",
    "                     \"Experimenting\",\n",
    "                     ['e', 'a', 'b', 'c'],\n",
    "                     [[0, 1, 2, 3],\n",
    "                      [1, 0, 3, 2],\n",
    "                      [2, 3, 0, 1],\n",
    "                      [3, 2, 1, 0]])\n",
    "\n",
    "whatever.pprint(True)"
   ]
  },
  {
   "cell_type": "code",
   "execution_count": 36,
   "id": "09f8d2a9",
   "metadata": {},
   "outputs": [],
   "source": [
    "foo = [z2xz2, z4, v4]"
   ]
  },
  {
   "cell_type": "code",
   "execution_count": 37,
   "id": "222e7be3",
   "metadata": {},
   "outputs": [
    {
     "data": {
      "text/plain": [
       "[{'a': 'e:a', 'b': 'a:e', 'c': 'a:a', 'e': 'e:e'},\n",
       " False,\n",
       " {'a': 'h', 'b': 'v', 'c': 'r', 'e': 'e'}]"
      ]
     },
     "execution_count": 37,
     "metadata": {},
     "output_type": "execute_result"
    }
   ],
   "source": [
    "[whatever.isomorphic(x) for x in foo]"
   ]
  },
  {
   "cell_type": "code",
   "execution_count": 38,
   "id": "e003961f",
   "metadata": {},
   "outputs": [
    {
     "data": {
      "text/plain": [
       "Group('Whatever',\n",
       "'Experimenting',\n",
       "['e', 'a', 'b', 'c'],\n",
       "[[0, 1, 2, 3], [1, 0, 3, 2], [2, 3, 0, 1], [3, 2, 1, 0]]) "
      ]
     },
     "execution_count": 38,
     "metadata": {},
     "output_type": "execute_result"
    }
   ],
   "source": [
    "whatever"
   ]
  },
  {
   "cell_type": "code",
   "execution_count": 39,
   "id": "71ad5dde",
   "metadata": {},
   "outputs": [
    {
     "data": {
      "text/plain": [
       "Group('V4',\n",
       "'Klein-4 group',\n",
       "['e', 'h', 'v', 'r'],\n",
       "[[0, 1, 2, 3], [1, 0, 3, 2], [2, 3, 0, 1], [3, 2, 1, 0]]) "
      ]
     },
     "execution_count": 39,
     "metadata": {},
     "output_type": "execute_result"
    }
   ],
   "source": [
    "v4"
   ]
  },
  {
   "cell_type": "code",
   "execution_count": 40,
   "id": "16914759",
   "metadata": {},
   "outputs": [
    {
     "data": {
      "text/plain": [
       "Group('Z2_x_Z2',\n",
       "'Direct product of Z2 & Z2',\n",
       "['e:e', 'e:a', 'a:e', 'a:a'],\n",
       "[[0, 1, 2, 3], [1, 0, 3, 2], [2, 3, 0, 1], [3, 2, 1, 0]]) "
      ]
     },
     "execution_count": 40,
     "metadata": {},
     "output_type": "execute_result"
    }
   ],
   "source": [
    "z2xz2"
   ]
  },
  {
   "cell_type": "code",
   "execution_count": 41,
   "id": "34e72b76",
   "metadata": {},
   "outputs": [
    {
     "data": {
      "text/plain": [
       "Group('Z4',\n",
       "'Cyclic group of order 4',\n",
       "['e', 'a', 'a^2', 'a^3'],\n",
       "[[0, 1, 2, 3], [1, 2, 3, 0], [2, 3, 0, 1], [3, 0, 1, 2]]) "
      ]
     },
     "execution_count": 41,
     "metadata": {},
     "output_type": "execute_result"
    }
   ],
   "source": [
    "z4"
   ]
  },
  {
   "cell_type": "code",
   "execution_count": 42,
   "id": "755320a3",
   "metadata": {},
   "outputs": [
    {
     "name": "stdout",
     "output_type": "stream",
     "text": [
      "\n",
      "Group: Whatever\n",
      "Experimenting\n",
      "Abelian? True\n",
      "Elements:\n",
      "   Index   Name   Inverse  Order\n",
      "      0       e       e       1\n",
      "      1       a       a       2\n",
      "      2       b       b       2\n",
      "      3       c       c       2\n",
      "Cayley Table (showing names):\n",
      "[['e', 'a', 'b', 'c'],\n",
      " ['a', 'e', 'c', 'b'],\n",
      " ['b', 'c', 'e', 'a'],\n",
      " ['c', 'b', 'a', 'e']]\n"
     ]
    }
   ],
   "source": [
    "whatever2 = whatever.deepcopy()\n",
    "whatever2.about(use_table_names=True)"
   ]
  },
  {
   "cell_type": "code",
   "execution_count": 43,
   "id": "614e3435",
   "metadata": {},
   "outputs": [
    {
     "data": {
      "text/plain": [
       "Group('Whatever',\n",
       "'Experimenting',\n",
       "['E', 'A', 'B', 'C'],\n",
       "[[0, 1, 2, 3], [1, 0, 3, 2], [2, 3, 0, 1], [3, 2, 1, 0]]) "
      ]
     },
     "execution_count": 43,
     "metadata": {},
     "output_type": "execute_result"
    }
   ],
   "source": [
    "whatever2.set_elements(['E', 'A', 'B', 'C'])"
   ]
  },
  {
   "cell_type": "code",
   "execution_count": 44,
   "id": "9377a452",
   "metadata": {},
   "outputs": [
    {
     "name": "stdout",
     "output_type": "stream",
     "text": [
      "\n",
      "Group: Whatever\n",
      "Experimenting\n",
      "Abelian? True\n",
      "Elements:\n",
      "   Index   Name   Inverse  Order\n",
      "      0       E       E       1\n",
      "      1       A       A       2\n",
      "      2       B       B       2\n",
      "      3       C       C       2\n",
      "Cayley Table (showing names):\n",
      "[['E', 'A', 'B', 'C'],\n",
      " ['A', 'E', 'C', 'B'],\n",
      " ['B', 'C', 'E', 'A'],\n",
      " ['C', 'B', 'A', 'E']]\n"
     ]
    }
   ],
   "source": [
    "whatever2.about(use_table_names=True)"
   ]
  }
 ],
 "metadata": {
  "kernelspec": {
   "display_name": "Python 3",
   "language": "python",
   "name": "python3"
  },
  "language_info": {
   "codemirror_mode": {
    "name": "ipython",
    "version": 3
   },
   "file_extension": ".py",
   "mimetype": "text/x-python",
   "name": "python",
   "nbconvert_exporter": "python",
   "pygments_lexer": "ipython3",
   "version": "3.7.7"
  }
 },
 "nbformat": 4,
 "nbformat_minor": 5
}
