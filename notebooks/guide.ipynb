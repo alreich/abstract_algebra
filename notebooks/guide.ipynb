{
 "cells": [
  {
   "cell_type": "markdown",
   "id": "f341201d",
   "metadata": {},
   "source": [
    "# User Guide"
   ]
  },
  {
   "cell_type": "markdown",
   "id": "7f64aa54",
   "metadata": {},
   "source": [
    "## Installation\n",
    "\n",
    "This module runs under Python 3.7+ and requires **numpy**.\n",
    "\n",
    "Clone the github repository to install:"
   ]
  },
  {
   "cell_type": "markdown",
   "id": "d817ed4b",
   "metadata": {},
   "source": [
    ".. code:: bash\n",
    "\n",
    "    $ git clone https://github.com/alreich/abstract_algebra.git"
   ]
  },
  {
   "cell_type": "markdown",
   "id": "6c86c430",
   "metadata": {},
   "source": [
    "Add the *abstract_algebra* directory to your *PYTHONPATH*.\n",
    "\n",
    "<b>Note</b>: In the examples, below, an environment variable, *PYPROJ*, points to the directory containing the *abstract_algebra* directory."
   ]
  },
  {
   "cell_type": "markdown",
   "id": "65628726",
   "metadata": {},
   "source": [
    "## Internal Representation of a Finite Group\n",
    "\n",
    "Internally, the finite Group object consists of four quantities:\n",
    "\n",
    "* **name**: (``str``) A short name for the Group;\n",
    "* **description**: (``str``) Any additional, useful information about the Group;\n",
    "* **element_names**: (``list`` of ``str``) The Group’s element names, where the\n",
    "  first element in the list is the Group’s identity element (usually denoted by ``e``);\n",
    "* **mult_table**: (``list`` of ``list`` of ``int``) The Group’s multiplication\n",
    "  table, where each list in the list represents a row of the table, and\n",
    "  each integer represents the position of an element in ‘element_names’.\n",
    "  The table must be:\n",
    "\n",
    "  * Square. The row & column length equal the number of elements, say, n;\n",
    "  * The first row and first column should be the [0, 1, 2, …, n-1], in that exact order;\n",
    "  * Every row and column should contain the same integers, in a different order,\n",
    "    so that no row or column contains the same integer twice.\n",
    "  * Capable of supporting associativity of the multiplication operator"
   ]
  },
  {
   "cell_type": "markdown",
   "id": "939fe664",
   "metadata": {},
   "source": [
    "## Group Constuction\n",
    "\n",
    "A Group object can be instantiated in several ways:\n",
    "\n",
    "1. Enter **four values** corresponding to the quantities described above, in\n",
    "   the order shown above.\n",
    "2. Enter **three values** corresponding to ``name``, ``description``, and ``mult_table``,\n",
    "   where ``mult_table`` uses element names (``str``) instead of ``int`` positions.\n",
    "   The string-based ``mult_table`` must follow rules, similar to those described\n",
    "   above:\n",
    "   * The identity element comes first in the first row and first column;\n",
    "   * The order of names in the first row and first column should be identical;\n",
    "   * No row or column contains the same element name twice.\n",
    "\n",
    "3. Enter a **Python dictionary**, with keys and values corresponding to\n",
    "   either the four value or three value input schemes, described above.\n",
    "4. Enter the **path to a JSON file** (``str``) that corresponds to the\n",
    "   dictionary described above."
   ]
  },
  {
   "cell_type": "markdown",
   "id": "f0a6af22",
   "metadata": {},
   "source": [
    "## Usage"
   ]
  },
  {
   "cell_type": "code",
   "execution_count": 11,
   "id": "ce38626e",
   "metadata": {},
   "outputs": [
    {
     "data": {
      "text/plain": [
       "Group('Z3',\n",
       "'Cyclic group of order 3',\n",
       "['e', 'a', 'a^2'],\n",
       "[[0, 1, 2], [1, 2, 0], [2, 0, 1]]) "
      ]
     },
     "execution_count": 11,
     "metadata": {},
     "output_type": "execute_result"
    }
   ],
   "source": [
    ">>> import algebras as alg\n",
    "\n",
    ">>> z3 = alg.Group('Z3',\n",
    "                   'Cyclic group of order 3',\n",
    "                   [[ 'e' ,  'a' , 'a^2'],\n",
    "                    [ 'a' , 'a^2',  'e' ],\n",
    "                    ['a^2',  'e' ,  'a' ]]\n",
    "                  )\n",
    ">>> z3"
   ]
  },
  {
   "cell_type": "markdown",
   "id": "435c1fd8",
   "metadata": {},
   "source": [
    "Instantiation of a group defined in JSON format, contained in the algebras\n",
    "directory, is depicted below, and assumes that there is an environment\n",
    "variable, **PYPROJ**, that points to the directory containing the\n",
    "abstract_algebra directory."
   ]
  },
  {
   "cell_type": "code",
   "execution_count": 12,
   "id": "d07f7c92",
   "metadata": {},
   "outputs": [
    {
     "name": "stdout",
     "output_type": "stream",
     "text": [
      "{\"type\": \"Group\",\r\n",
      " \"name\": \"V4\",\r\n",
      " \"description\": \"Klein-4 group\",\r\n",
      " \"element_names\": [\"e\", \"h\", \"v\", \"hv\"],\r\n",
      " \"mult_table\": [[0, 1, 2, 3],\r\n",
      "                [1, 0, 3, 2],\r\n",
      "                [2, 3, 0, 1],\r\n",
      "                [3, 2, 1, 0]]\r\n",
      "}\r\n"
     ]
    }
   ],
   "source": [
    ">>> import os\n",
    "\n",
    "# Setup some useful path variables\n",
    ">>> aa_path = os.path.join(os.getenv(\"PYPROJ\"), \"abstract_algebra\")\n",
    ">>> alg_dir = os.path.join(aa_path, \"Algebras\")\n",
    "\n",
    "# Here's a look at the Klein-4 Group in JSON format\n",
    ">>> v4_json = os.path.join(alg_dir, \"v4_klein_4_group.json\")\n",
    ">>> !cat {v4_json}"
   ]
  },
  {
   "cell_type": "markdown",
   "id": "2a358f42",
   "metadata": {},
   "source": [
    "The JSON definition of a group can be used to instantiate a Group object:"
   ]
  },
  {
   "cell_type": "code",
   "execution_count": 13,
   "id": "f87d8012",
   "metadata": {},
   "outputs": [
    {
     "data": {
      "text/plain": [
       "Group('V4',\n",
       "'Klein-4 group',\n",
       "['e', 'h', 'v', 'hv'],\n",
       "[[0, 1, 2, 3], [1, 0, 3, 2], [2, 3, 0, 1], [3, 2, 1, 0]]) "
      ]
     },
     "execution_count": 13,
     "metadata": {},
     "output_type": "execute_result"
    }
   ],
   "source": [
    ">>> v4 = alg.Group(v4_json)\n",
    ">>> v4"
   ]
  },
  {
   "cell_type": "markdown",
   "id": "f527eb92",
   "metadata": {},
   "source": [
    "Pretty print, ``pprint``, tries to print the table in human-readable form.  Calling it with its single argument set to ``True`` will print the multiplication table using element names, rather than the positions of element names in the element name list:"
   ]
  },
  {
   "cell_type": "code",
   "execution_count": 14,
   "id": "0d4eb6a2",
   "metadata": {},
   "outputs": [
    {
     "name": "stdout",
     "output_type": "stream",
     "text": [
      "Group('V4',\n",
      "'Klein-4 group',\n",
      "[['e', 'h', 'v', 'hv'],\n",
      " ['h', 'e', 'hv', 'v'],\n",
      " ['v', 'hv', 'e', 'h'],\n",
      " ['hv', 'v', 'h', 'e']]\n",
      ")\n"
     ]
    }
   ],
   "source": [
    ">>> v4.pprint(True)"
   ]
  },
  {
   "cell_type": "markdown",
   "id": "8ad9f153",
   "metadata": {},
   "source": [
    "Algebra elements can be *multiplied* using the Group method, ``mult``."
   ]
  },
  {
   "cell_type": "code",
   "execution_count": 15,
   "id": "4b5c2451",
   "metadata": {},
   "outputs": [
    {
     "data": {
      "text/plain": [
       "'hv'"
      ]
     },
     "execution_count": 15,
     "metadata": {},
     "output_type": "execute_result"
    }
   ],
   "source": [
    ">>> v4.mult('h', 'v')  # h * v = hv"
   ]
  },
  {
   "cell_type": "code",
   "execution_count": 16,
   "id": "afaff3be",
   "metadata": {},
   "outputs": [
    {
     "data": {
      "text/plain": [
       "'h'"
      ]
     },
     "execution_count": 16,
     "metadata": {},
     "output_type": "execute_result"
    }
   ],
   "source": [
    ">>> v4.mult('hv', 'v')"
   ]
  },
  {
   "cell_type": "code",
   "execution_count": 17,
   "id": "7a79ba2c",
   "metadata": {},
   "outputs": [
    {
     "data": {
      "text/plain": [
       "'h'"
      ]
     },
     "execution_count": 17,
     "metadata": {},
     "output_type": "execute_result"
    }
   ],
   "source": [
    ">>> v4.mult('v', 'hv')"
   ]
  },
  {
   "cell_type": "markdown",
   "id": "5f2bf4e4",
   "metadata": {},
   "source": [
    "A group can be tested to determine if it's **abelian**:"
   ]
  },
  {
   "cell_type": "code",
   "execution_count": 18,
   "id": "1d55817d",
   "metadata": {},
   "outputs": [
    {
     "name": "stdout",
     "output_type": "stream",
     "text": [
      "Setting is_abelian to True\n",
      "Returning cached value of is_abelian.\n"
     ]
    },
    {
     "data": {
      "text/plain": [
       "True"
      ]
     },
     "execution_count": 18,
     "metadata": {},
     "output_type": "execute_result"
    }
   ],
   "source": [
    ">>> v4.is_abelian()"
   ]
  },
  {
   "cell_type": "markdown",
   "id": "8a5b7cfb",
   "metadata": {},
   "source": [
    "An elements inverse can be obtained using the ``inverse`` method:"
   ]
  },
  {
   "cell_type": "code",
   "execution_count": 19,
   "id": "fa90bc38",
   "metadata": {},
   "outputs": [
    {
     "data": {
      "text/plain": [
       "'hv'"
      ]
     },
     "execution_count": 19,
     "metadata": {},
     "output_type": "execute_result"
    }
   ],
   "source": [
    ">>> v4.inverse('hv')"
   ]
  },
  {
   "cell_type": "markdown",
   "id": "eb3a1a48",
   "metadata": {},
   "source": [
    "A **cyclic group** of any order can be automatically generated:"
   ]
  },
  {
   "cell_type": "code",
   "execution_count": 20,
   "id": "29309789",
   "metadata": {},
   "outputs": [
    {
     "data": {
      "text/plain": [
       "Group('Z4',\n",
       "'Autogenerated cyclic group of order 4',\n",
       "['e', 'a', 'a^2', 'a^3'],\n",
       "[[0, 1, 2, 3], [1, 2, 3, 0], [2, 3, 0, 1], [3, 0, 1, 2]]) "
      ]
     },
     "execution_count": 20,
     "metadata": {},
     "output_type": "execute_result"
    }
   ],
   "source": [
    ">>> z4 = alg.generate_cyclic_group(4)\n",
    ">>> z4"
   ]
  },
  {
   "cell_type": "markdown",
   "id": "59e4838d",
   "metadata": {},
   "source": [
    "The **direct product** of two or more groups can be generated using Python's multiplication operator, ``*``:"
   ]
  },
  {
   "cell_type": "code",
   "execution_count": 21,
   "id": "10eb110a",
   "metadata": {},
   "outputs": [
    {
     "data": {
      "text/plain": [
       "Group('Z2',\n",
       "'Autogenerated cyclic group of order 2',\n",
       "['e', 'a'],\n",
       "[[0, 1], [1, 0]]) "
      ]
     },
     "execution_count": 21,
     "metadata": {},
     "output_type": "execute_result"
    }
   ],
   "source": [
    ">>> z2 = alg.generate_cyclic_group(2)\n",
    ">>> z2"
   ]
  },
  {
   "cell_type": "code",
   "execution_count": 22,
   "id": "d6ed1363",
   "metadata": {},
   "outputs": [
    {
     "data": {
      "text/plain": [
       "Group('Z2_x_Z2',\n",
       "'Direct product of Z2 & Z2',\n",
       "['e:e', 'e:a', 'a:e', 'a:a'],\n",
       "[[0, 1, 2, 3], [1, 0, 3, 2], [2, 3, 0, 1], [3, 2, 1, 0]]) "
      ]
     },
     "execution_count": 22,
     "metadata": {},
     "output_type": "execute_result"
    }
   ],
   "source": [
    ">>> z2_x_z2 = z2 * z2\n",
    ">>> z2_x_z2"
   ]
  },
  {
   "cell_type": "markdown",
   "id": "124f2cfe",
   "metadata": {},
   "source": [
    "If two groups are isomorphic, then the mapping between their elements is returned as a Python dictionary."
   ]
  },
  {
   "cell_type": "code",
   "execution_count": 23,
   "id": "eafe287b",
   "metadata": {},
   "outputs": [
    {
     "data": {
      "text/plain": [
       "{'h': 'e:a', 'v': 'a:e', 'hv': 'a:a', 'e': 'e:e'}"
      ]
     },
     "execution_count": 23,
     "metadata": {},
     "output_type": "execute_result"
    }
   ],
   "source": [
    ">>> v4.isomorphic(z2_x_z2)"
   ]
  },
  {
   "cell_type": "markdown",
   "id": "a4945b2a",
   "metadata": {},
   "source": [
    "If two groups are not isomorphic, then ``False`` is returned."
   ]
  },
  {
   "cell_type": "code",
   "execution_count": 24,
   "id": "564d3df0",
   "metadata": {},
   "outputs": [
    {
     "data": {
      "text/plain": [
       "False"
      ]
     },
     "execution_count": 24,
     "metadata": {},
     "output_type": "execute_result"
    }
   ],
   "source": [
    ">>> z4.isomorphic(z2_x_z2)"
   ]
  },
  {
   "cell_type": "markdown",
   "id": "91ba1008",
   "metadata": {},
   "source": [
    "The proper subgroups of a group can also be computed."
   ]
  },
  {
   "cell_type": "code",
   "execution_count": 25,
   "id": "72279735",
   "metadata": {},
   "outputs": [
    {
     "data": {
      "text/plain": [
       "[Group('Z8_subgroup_0',\n",
       " 'Subgroup of: Autogenerated cyclic group of order 8',\n",
       " ['e', 'a^2', 'a^4', 'a^6'],\n",
       " [[0, 1, 2, 3], [1, 2, 3, 0], [2, 3, 0, 1], [3, 0, 1, 2]]) ,\n",
       " Group('Z8_subgroup_1',\n",
       " 'Subgroup of: Autogenerated cyclic group of order 8',\n",
       " ['e', 'a^4'],\n",
       " [[0, 1], [1, 0]]) ]"
      ]
     },
     "execution_count": 25,
     "metadata": {},
     "output_type": "execute_result"
    }
   ],
   "source": [
    ">>> z8 = alg.generate_cyclic_group(8)\n",
    ">>> z8.proper_subgroups()"
   ]
  },
  {
   "cell_type": "markdown",
   "id": "a2cb789b",
   "metadata": {},
   "source": [
    "## Autogeneration of Groups\n",
    "\n",
    "There are three functions for autogenerating groups:\n",
    "* ``autogenerate_cyclic_group``\n",
    "* ``autogenerate_symmetric_group``\n",
    "* ``autogenerate_powerset_group``\n",
    "\n",
    "The autogeneration of cyclic groups was demonstrated above.  Usage of the other two group autogenerators is illustrated below.\n",
    "\n",
    "The symmetric group, based on the permutations of <b>n</b> elements, (1, 2, 3, ..., n), can be generated using ``autogenerate_symmetric_group``.\n",
    "\n",
    "<b>WARNING</b>: Since the order of an autogenerated symmetric group is <b>n!</b>, even small values of n can result in large groups, which, in turn, can result in long runtimes associated with operations performed on them."
   ]
  },
  {
   "cell_type": "code",
   "execution_count": 26,
   "id": "597fe80a",
   "metadata": {},
   "outputs": [
    {
     "name": "stdout",
     "output_type": "stream",
     "text": [
      "Group('S3',\n",
      "'Autogenerated symmetric group on 3 elements',\n",
      "['(1, 2, 3)', '(1, 3, 2)', '(2, 1, 3)', '(2, 3, 1)', '(3, 1, 2)', '(3, 2, 1)'],\n",
      "[[0, 1, 2, 3, 4, 5],\n",
      " [1, 0, 4, 5, 2, 3],\n",
      " [2, 3, 0, 1, 5, 4],\n",
      " [3, 2, 5, 4, 0, 1],\n",
      " [4, 5, 1, 0, 3, 2],\n",
      " [5, 4, 3, 2, 1, 0]]\n",
      ")\n"
     ]
    }
   ],
   "source": [
    "s3 = alg.generate_symmetric_group(3)\n",
    "s3.pprint()"
   ]
  },
  {
   "cell_type": "markdown",
   "id": "8f2c913f",
   "metadata": {},
   "source": [
    "The function, ``autogenerate_powerset_group``, will generate a group on the powerset of {0, 1, 2, ..., n} with <b>symmetric difference</b> as the groups binary operation.  This group is useful because it can be used to form a ring with set intersection as the second operator.\n",
    "\n",
    "This means that the order of the autogenerated powerset group will be $2^n$, so the same WARNING as above applies.\n",
    "\n",
    "Note that, in the powerset example below, tuples are used as elements, rather than sets, because the implementation needs to index elements, and you can't do that with sets."
   ]
  },
  {
   "cell_type": "code",
   "execution_count": 27,
   "id": "8ee51c29",
   "metadata": {},
   "outputs": [
    {
     "name": "stdout",
     "output_type": "stream",
     "text": [
      "Group('PS3',\n",
      "'Autogenerated group on the powerset of 3 elements, with symmetric difference operator',\n",
      "[(), (0,), (1,), (2,), (0, 1), (0, 2), (1, 2), (0, 1, 2)],\n",
      "[[0, 1, 2, 3, 4, 5, 6, 7],\n",
      " [1, 0, 4, 5, 2, 3, 7, 6],\n",
      " [2, 4, 0, 6, 1, 7, 3, 5],\n",
      " [3, 5, 6, 0, 7, 1, 2, 4],\n",
      " [4, 2, 1, 7, 0, 6, 5, 3],\n",
      " [5, 3, 7, 1, 6, 0, 4, 2],\n",
      " [6, 7, 3, 2, 5, 4, 0, 1],\n",
      " [7, 6, 5, 4, 3, 2, 1, 0]]\n",
      ")\n",
      "\n",
      "Identity Element: ()\n",
      "Setting is_abelian to True\n",
      "Returning cached value of is_abelian.\n",
      "Abelian? True\n",
      "\n"
     ]
    }
   ],
   "source": [
    "ps3 = alg.generate_powerset_group(3)\n",
    "ps3.pprint()\n",
    "\n",
    "print(f\"\\nIdentity Element: {ps3.identity}\")\n",
    "print(f\"Abelian? {ps3.is_abelian()}\\n\")"
   ]
  },
  {
   "cell_type": "code",
   "execution_count": null,
   "id": "c24c409e",
   "metadata": {},
   "outputs": [],
   "source": []
  }
 ],
 "metadata": {
  "kernelspec": {
   "display_name": "Python 3",
   "language": "python",
   "name": "python3"
  },
  "language_info": {
   "codemirror_mode": {
    "name": "ipython",
    "version": 3
   },
   "file_extension": ".py",
   "mimetype": "text/x-python",
   "name": "python",
   "nbconvert_exporter": "python",
   "pygments_lexer": "ipython3",
   "version": "3.7.7"
  }
 },
 "nbformat": 4,
 "nbformat_minor": 5
}
