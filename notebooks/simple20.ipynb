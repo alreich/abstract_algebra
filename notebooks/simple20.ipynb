{
 "cells": [
  {
   "cell_type": "markdown",
   "id": "b8628732",
   "metadata": {},
   "source": [
    "# Simple Version 20"
   ]
  },
  {
   "cell_type": "markdown",
   "id": "1a796e50",
   "metadata": {},
   "source": [
    "This notebook is an attempt to create a very simple version of the finite algebra code."
   ]
  },
  {
   "cell_type": "code",
   "execution_count": 1,
   "id": "6cfcf3e7",
   "metadata": {},
   "outputs": [],
   "source": [
    "from simplified import *"
   ]
  },
  {
   "cell_type": "markdown",
   "id": "ad46b9fc",
   "metadata": {},
   "source": [
    "## Cayley Table"
   ]
  },
  {
   "cell_type": "markdown",
   "id": "a8f3bdfa",
   "metadata": {},
   "source": [
    "*\"Named after the 19th-century British mathematician Arthur Cayley, a Cayley table describes the structure of a finite group by arranging all the possible products of all the group's elements in a square table reminiscent of an addition or multiplication table. Many properties of a group – such as whether or not it is abelian, which elements are inverses of which elements, and the size and contents of the group's center – can be discovered from its Cayley table.\"* [Wikipedia](https://en.wikipedia.org/wiki/Cayley_table)"
   ]
  },
  {
   "cell_type": "markdown",
   "id": "7433cf95",
   "metadata": {},
   "source": [
    "Here, the **CayleyTable** class is used to represent a square array of indices, where the indices reference the positions of each of an algebra's elements within the list of all elements. For example, if there are 3 elements, [e, a, aa], then the corresponding instance of a CayleyTable will contain a 3x3 array where each array element is either a 0, 1, or 2."
   ]
  },
  {
   "cell_type": "code",
   "execution_count": 2,
   "id": "26efab23",
   "metadata": {},
   "outputs": [
    {
     "name": "stdout",
     "output_type": "stream",
     "text": [
      "Help on class CayleyTable in module simplified:\n",
      "\n",
      "class CayleyTable(builtins.object)\n",
      " |  CayleyTable(array: list[list[int]])\n",
      " |  \n",
      " |  Represents a finite algebra's binary operation as a square array of integers, 0...n-1,\n",
      " |  where n is the order of the algebra, and the integers are indices, NOT algebraic elements.\n",
      " |  The indices denote the positions of the algebra's elements in a list.\n",
      " |  \n",
      " |  Methods defined here:\n",
      " |  \n",
      " |  __getitem__(self, tup: tuple[int, int]) -> int\n",
      " |      Accesses a table element given its row & column indices\n",
      " |  \n",
      " |  __init__(self, array: list[list[int]])\n",
      " |      Initialize self.  See help(type(self)) for accurate signature.\n",
      " |  \n",
      " |  __repr__(self)\n",
      " |      Returns a text representation of the Cayley table that can be copied and pasted.\n",
      " |  \n",
      " |  tolist(self) -> list[list[int]]\n",
      " |      Returns the table's nparray as a list of lists of ints.\n",
      " |  \n",
      " |  ----------------------------------------------------------------------\n",
      " |  Readonly properties defined here:\n",
      " |  \n",
      " |  is_associative\n",
      " |      Returns True if the table represents an associative algebra, otherwise returns False\n",
      " |  \n",
      " |  is_commutative\n",
      " |      Returns True if the table supports a commutative algebra, otherwise returns False\n",
      " |  \n",
      " |  size\n",
      " |      Returns the number of rows, or columns, of the table\n",
      " |  \n",
      " |  ----------------------------------------------------------------------\n",
      " |  Data descriptors defined here:\n",
      " |  \n",
      " |  __dict__\n",
      " |      dictionary for instance variables (if defined)\n",
      " |  \n",
      " |  __weakref__\n",
      " |      list of weak references to the object (if defined)\n",
      "\n"
     ]
    }
   ],
   "source": [
    "help(CayleyTable)"
   ]
  },
  {
   "cell_type": "code",
   "execution_count": 3,
   "id": "b5a70553",
   "metadata": {},
   "outputs": [
    {
     "data": {
      "text/plain": [
       "[[0, 1, 2], [1, 2, 0], [2, 0, 1]]"
      ]
     },
     "execution_count": 3,
     "metadata": {},
     "output_type": "execute_result"
    }
   ],
   "source": [
    "arr0 = [[0, 1, 2], [1, 2, 0], [2, 0, 1]]\n",
    "arr0"
   ]
  },
  {
   "cell_type": "code",
   "execution_count": 4,
   "id": "8b9921d0",
   "metadata": {},
   "outputs": [
    {
     "name": "stdout",
     "output_type": "stream",
     "text": [
      "The array must be square.\n"
     ]
    }
   ],
   "source": [
    "arr1 = [[0, 1, 2], [1, 2, 0]]\n",
    "try:\n",
    "    CayleyTable(arr1)\n",
    "except Exception as msg:\n",
    "    print(msg)"
   ]
  },
  {
   "cell_type": "code",
   "execution_count": 5,
   "id": "4aa2a560",
   "metadata": {},
   "outputs": [
    {
     "name": "stdout",
     "output_type": "stream",
     "text": [
      "Array elements must be integers between 0 and 2, inclusive.\n"
     ]
    }
   ],
   "source": [
    "arr2 = [[0, 1, 2], [1, 7, 0], [2, 0, 1]]\n",
    "try:\n",
    "    CayleyTable(arr2)\n",
    "except Exception as msg:\n",
    "    print(msg)"
   ]
  },
  {
   "cell_type": "code",
   "execution_count": 6,
   "id": "b9c91d4d",
   "metadata": {},
   "outputs": [
    {
     "data": {
      "text/plain": [
       "CayleyTable([[0, 1, 2], [1, 2, 0], [2, 0, 1]])"
      ]
     },
     "execution_count": 6,
     "metadata": {},
     "output_type": "execute_result"
    }
   ],
   "source": [
    "tbl0 = CayleyTable(arr0)\n",
    "tbl0"
   ]
  },
  {
   "cell_type": "code",
   "execution_count": 7,
   "id": "9400a6df",
   "metadata": {},
   "outputs": [
    {
     "data": {
      "text/plain": [
       "[[0, 1, 2], [1, 2, 0], [2, 0, 1]]"
      ]
     },
     "execution_count": 7,
     "metadata": {},
     "output_type": "execute_result"
    }
   ],
   "source": [
    "tbl0.tolist()"
   ]
  },
  {
   "cell_type": "code",
   "execution_count": 8,
   "id": "8accb090",
   "metadata": {},
   "outputs": [
    {
     "data": {
      "text/plain": [
       "3"
      ]
     },
     "execution_count": 8,
     "metadata": {},
     "output_type": "execute_result"
    }
   ],
   "source": [
    "tbl0.size"
   ]
  },
  {
   "cell_type": "code",
   "execution_count": 9,
   "id": "a8248314",
   "metadata": {},
   "outputs": [
    {
     "data": {
      "text/plain": [
       "True"
      ]
     },
     "execution_count": 9,
     "metadata": {},
     "output_type": "execute_result"
    }
   ],
   "source": [
    "tbl0.is_associative"
   ]
  },
  {
   "cell_type": "code",
   "execution_count": 10,
   "id": "e3d0ae5a",
   "metadata": {},
   "outputs": [
    {
     "data": {
      "text/plain": [
       "True"
      ]
     },
     "execution_count": 10,
     "metadata": {},
     "output_type": "execute_result"
    }
   ],
   "source": [
    "tbl0.is_commutative"
   ]
  },
  {
   "cell_type": "markdown",
   "id": "cbf6662e",
   "metadata": {},
   "source": [
    "## Binary Operator"
   ]
  },
  {
   "cell_type": "markdown",
   "id": "cb5fcf92",
   "metadata": {},
   "source": [
    "The **BinaryOperator** class brings the list of elements (strings) together with the list's corresponding CayleyTable."
   ]
  },
  {
   "cell_type": "code",
   "execution_count": 11,
   "id": "1f9b5157",
   "metadata": {},
   "outputs": [
    {
     "name": "stdout",
     "output_type": "stream",
     "text": [
      "Help on class BinaryOperator in module simplified:\n",
      "\n",
      "class BinaryOperator(builtins.object)\n",
      " |  BinaryOperator(elements: list[str], cayley_table: simplified.CayleyTable)\n",
      " |  \n",
      " |  Implements an algebra's a binary operator. To instantiate this requires the algebra's\n",
      " |  list of elements and Cayley table, where the order of elements in the list matches the\n",
      " |  order of rows and columns in the Cayley table.\n",
      " |  \n",
      " |  Methods defined here:\n",
      " |  \n",
      " |  __call__(self, elem1: str, elem2: str) -> str\n",
      " |      Returns the algebra's sum of elem1 and elem2, according to its Cayley table.\n",
      " |  \n",
      " |  __init__(self, elements: list[str], cayley_table: simplified.CayleyTable)\n",
      " |      Initialize self.  See help(type(self)) for accurate signature.\n",
      " |  \n",
      " |  ----------------------------------------------------------------------\n",
      " |  Readonly properties defined here:\n",
      " |  \n",
      " |  elements\n",
      " |      Returns the algebra's list of elements.\n",
      " |  \n",
      " |  table\n",
      " |      Returns the algebra's Cayley table.\n",
      " |  \n",
      " |  ----------------------------------------------------------------------\n",
      " |  Data descriptors defined here:\n",
      " |  \n",
      " |  __dict__\n",
      " |      dictionary for instance variables (if defined)\n",
      " |  \n",
      " |  __weakref__\n",
      " |      list of weak references to the object (if defined)\n",
      "\n"
     ]
    }
   ],
   "source": [
    "help(BinaryOperator)"
   ]
  },
  {
   "cell_type": "code",
   "execution_count": 12,
   "id": "728d80a8",
   "metadata": {},
   "outputs": [],
   "source": [
    "elems = ['e', 'a', 'aa']"
   ]
  },
  {
   "cell_type": "code",
   "execution_count": 13,
   "id": "10d011b5",
   "metadata": {},
   "outputs": [],
   "source": [
    "op0 = BinaryOperator(elems, tbl0)"
   ]
  },
  {
   "cell_type": "code",
   "execution_count": 14,
   "id": "41e1e0a6",
   "metadata": {},
   "outputs": [
    {
     "data": {
      "text/plain": [
       "'a'"
      ]
     },
     "execution_count": 14,
     "metadata": {},
     "output_type": "execute_result"
    }
   ],
   "source": [
    "op0('e', 'a')"
   ]
  },
  {
   "cell_type": "code",
   "execution_count": 15,
   "id": "d9b0c507",
   "metadata": {},
   "outputs": [
    {
     "data": {
      "text/plain": [
       "'aa'"
      ]
     },
     "execution_count": 15,
     "metadata": {},
     "output_type": "execute_result"
    }
   ],
   "source": [
    "op0('a', 'a')"
   ]
  },
  {
   "cell_type": "code",
   "execution_count": 16,
   "id": "c248d029",
   "metadata": {},
   "outputs": [
    {
     "data": {
      "text/plain": [
       "'e'"
      ]
     },
     "execution_count": 16,
     "metadata": {},
     "output_type": "execute_result"
    }
   ],
   "source": [
    "op0('a', 'aa')"
   ]
  },
  {
   "cell_type": "code",
   "execution_count": 17,
   "id": "8aa0c2d6",
   "metadata": {},
   "outputs": [
    {
     "data": {
      "text/plain": [
       "['e', 'a', 'aa']"
      ]
     },
     "execution_count": 17,
     "metadata": {},
     "output_type": "execute_result"
    }
   ],
   "source": [
    "op0.elements"
   ]
  },
  {
   "cell_type": "code",
   "execution_count": 18,
   "id": "1f43246a",
   "metadata": {},
   "outputs": [
    {
     "data": {
      "text/plain": [
       "CayleyTable([[0, 1, 2], [1, 2, 0], [2, 0, 1]])"
      ]
     },
     "execution_count": 18,
     "metadata": {},
     "output_type": "execute_result"
    }
   ],
   "source": [
    "op0.table"
   ]
  },
  {
   "cell_type": "markdown",
   "id": "8d5933dd",
   "metadata": {},
   "source": [
    "## Algebra"
   ]
  },
  {
   "cell_type": "markdown",
   "id": "e1d58cea",
   "metadata": {},
   "source": [
    "An **Algebra** consists of a set of elements with an associated binary operator, usually referred to as \"multiplication\" or \"addition\", depending on whether the operator is represented as $\\times$ or $+$, resp."
   ]
  },
  {
   "cell_type": "code",
   "execution_count": 19,
   "id": "0c1032d8",
   "metadata": {},
   "outputs": [
    {
     "name": "stdout",
     "output_type": "stream",
     "text": [
      "Help on class FiniteAlgebra in module simplified:\n",
      "\n",
      "class FiniteAlgebra(builtins.object)\n",
      " |  FiniteAlgebra(elements: list[str], array: list[list[int]])\n",
      " |  \n",
      " |  Represents a finite algebra. To instantiate this requires a list of the algebra's\n",
      " |  elements and its Cayley table.\n",
      " |  \n",
      " |  Methods defined here:\n",
      " |  \n",
      " |  __getitem__(self, index: int) -> str\n",
      " |  \n",
      " |  __init__(self, elements: list[str], array: list[list[int]])\n",
      " |      Initialize self.  See help(type(self)) for accurate signature.\n",
      " |  \n",
      " |  __mul__(self, other)\n",
      " |      Return the direct product (a FiniteAlgebra) of self with other. Other must be an algebra\n",
      " |  \n",
      " |  __repr__(self) -> str\n",
      " |      Return repr(self).\n",
      " |  \n",
      " |  element_map(self)\n",
      " |      Returns a dictionary where element names (str) are keys and the corresponding\n",
      " |      Element instances are the values. This method's intended use is within the\n",
      " |      definition of a Context.\n",
      " |  \n",
      " |  info(self) -> None\n",
      " |      Printout information about this instance of an Algebra, including its elements and Cayley table.\n",
      " |  \n",
      " |  op(self, elem1: str, elem2: str) -> str\n",
      " |      Return the sum (or product) of the two algebra elements\n",
      " |  \n",
      " |  ----------------------------------------------------------------------\n",
      " |  Readonly properties defined here:\n",
      " |  \n",
      " |  elements\n",
      " |      Returns the algebra's list of elements.\n",
      " |  \n",
      " |  is_associative\n",
      " |      Returns True if the algebra is associative, otherwise returns False.\n",
      " |  \n",
      " |  is_commutative\n",
      " |      Returns True if the algebra is commutative, otherwise returns False.\n",
      " |  \n",
      " |  order\n",
      " |      Returns the number of elements in the algebra.\n",
      " |  \n",
      " |  table\n",
      " |      Returns the algebra's Cayley table.\n",
      " |  \n",
      " |  ----------------------------------------------------------------------\n",
      " |  Data descriptors defined here:\n",
      " |  \n",
      " |  __dict__\n",
      " |      dictionary for instance variables (if defined)\n",
      " |  \n",
      " |  __weakref__\n",
      " |      list of weak references to the object (if defined)\n",
      "\n"
     ]
    }
   ],
   "source": [
    "help(FiniteAlgebra)"
   ]
  },
  {
   "cell_type": "code",
   "execution_count": 20,
   "id": "58d384ac",
   "metadata": {},
   "outputs": [],
   "source": [
    "alg0 = FiniteAlgebra(elems, arr0)"
   ]
  },
  {
   "cell_type": "code",
   "execution_count": 21,
   "id": "d0e6a01f",
   "metadata": {},
   "outputs": [
    {
     "data": {
      "text/plain": [
       "FiniteAlgebra(\n",
       "['e', 'a', 'aa'],\n",
       "[[0, 1, 2], [1, 2, 0], [2, 0, 1]]\n",
       ")"
      ]
     },
     "execution_count": 21,
     "metadata": {},
     "output_type": "execute_result"
    }
   ],
   "source": [
    "alg0"
   ]
  },
  {
   "cell_type": "code",
   "execution_count": 22,
   "id": "9e01e349",
   "metadata": {},
   "outputs": [
    {
     "data": {
      "text/plain": [
       "['e', 'a', 'aa']"
      ]
     },
     "execution_count": 22,
     "metadata": {},
     "output_type": "execute_result"
    }
   ],
   "source": [
    "alg0.elements"
   ]
  },
  {
   "cell_type": "code",
   "execution_count": 23,
   "id": "cddb6c60",
   "metadata": {},
   "outputs": [
    {
     "data": {
      "text/plain": [
       "3"
      ]
     },
     "execution_count": 23,
     "metadata": {},
     "output_type": "execute_result"
    }
   ],
   "source": [
    "alg0.order"
   ]
  },
  {
   "cell_type": "code",
   "execution_count": 24,
   "id": "021d8756",
   "metadata": {},
   "outputs": [
    {
     "data": {
      "text/plain": [
       "CayleyTable([[0, 1, 2], [1, 2, 0], [2, 0, 1]])"
      ]
     },
     "execution_count": 24,
     "metadata": {},
     "output_type": "execute_result"
    }
   ],
   "source": [
    "alg0.table"
   ]
  },
  {
   "cell_type": "code",
   "execution_count": 25,
   "id": "dfb4e084",
   "metadata": {},
   "outputs": [
    {
     "data": {
      "text/plain": [
       "'e'"
      ]
     },
     "execution_count": 25,
     "metadata": {},
     "output_type": "execute_result"
    }
   ],
   "source": [
    "alg0.op('a', 'aa')"
   ]
  },
  {
   "cell_type": "code",
   "execution_count": 26,
   "id": "3a2412bb",
   "metadata": {},
   "outputs": [
    {
     "data": {
      "text/plain": [
       "True"
      ]
     },
     "execution_count": 26,
     "metadata": {},
     "output_type": "execute_result"
    }
   ],
   "source": [
    "alg0.is_associative"
   ]
  },
  {
   "cell_type": "code",
   "execution_count": 27,
   "id": "50364c6b",
   "metadata": {},
   "outputs": [
    {
     "data": {
      "text/plain": [
       "True"
      ]
     },
     "execution_count": 27,
     "metadata": {},
     "output_type": "execute_result"
    }
   ],
   "source": [
    "alg0.is_commutative"
   ]
  },
  {
   "cell_type": "code",
   "execution_count": 28,
   "id": "663bf8c1",
   "metadata": {},
   "outputs": [
    {
     "name": "stdout",
     "output_type": "stream",
     "text": [
      "\n",
      "** FiniteAlgebra **\n",
      "Instance ID: 4412362320\n",
      "Order: 3\n",
      "Associative? True\n",
      "Commutative? True\n",
      "Elements: ['e', 'a', 'aa']\n",
      "Table:\n",
      "[[0, 1, 2], [1, 2, 0], [2, 0, 1]]\n"
     ]
    }
   ],
   "source": [
    "alg0.info()"
   ]
  },
  {
   "cell_type": "code",
   "execution_count": 29,
   "id": "45925d66",
   "metadata": {},
   "outputs": [
    {
     "data": {
      "text/plain": [
       "FiniteAlgebra(\n",
       "['e:e', 'e:a', 'e:aa', 'a:e', 'a:a', 'a:aa', 'aa:e', 'aa:a', 'aa:aa'],\n",
       "[[0, 1, 2, 3, 4, 5, 6, 7, 8], [1, 2, 0, 4, 5, 3, 7, 8, 6], [2, 0, 1, 5, 3, 4, 8, 6, 7], [3, 4, 5, 6, 7, 8, 0, 1, 2], [4, 5, 3, 7, 8, 6, 1, 2, 0], [5, 3, 4, 8, 6, 7, 2, 0, 1], [6, 7, 8, 0, 1, 2, 3, 4, 5], [7, 8, 6, 1, 2, 0, 4, 5, 3], [8, 6, 7, 2, 0, 1, 5, 3, 4]]\n",
       ")"
      ]
     },
     "execution_count": 29,
     "metadata": {},
     "output_type": "execute_result"
    }
   ],
   "source": [
    "alg1 = alg0 * alg0\n",
    "alg1"
   ]
  },
  {
   "cell_type": "code",
   "execution_count": 30,
   "id": "f51d9a3c",
   "metadata": {},
   "outputs": [
    {
     "data": {
      "text/plain": [
       "9"
      ]
     },
     "execution_count": 30,
     "metadata": {},
     "output_type": "execute_result"
    }
   ],
   "source": [
    "alg1.order"
   ]
  },
  {
   "cell_type": "code",
   "execution_count": 31,
   "id": "35c7bbb2",
   "metadata": {},
   "outputs": [
    {
     "data": {
      "text/plain": [
       "True"
      ]
     },
     "execution_count": 31,
     "metadata": {},
     "output_type": "execute_result"
    }
   ],
   "source": [
    "alg1.is_associative"
   ]
  },
  {
   "cell_type": "code",
   "execution_count": 32,
   "id": "d6d7bd36",
   "metadata": {},
   "outputs": [
    {
     "data": {
      "text/plain": [
       "True"
      ]
     },
     "execution_count": 32,
     "metadata": {},
     "output_type": "execute_result"
    }
   ],
   "source": [
    "alg1.is_commutative"
   ]
  },
  {
   "cell_type": "code",
   "execution_count": 33,
   "id": "aa99bb71",
   "metadata": {},
   "outputs": [
    {
     "name": "stdout",
     "output_type": "stream",
     "text": [
      "\n",
      "** FiniteAlgebra **\n",
      "Instance ID: 4412431440\n",
      "Order: 9\n",
      "Associative? True\n",
      "Commutative? True\n",
      "Elements: ['e:e', 'e:a', 'e:aa', 'a:e', 'a:a', 'a:aa', 'aa:e', 'aa:a', 'aa:aa']\n",
      "Table:\n",
      "[[0, 1, 2, 3, 4, 5, 6, 7, 8],\n",
      " [1, 2, 0, 4, 5, 3, 7, 8, 6],\n",
      " [2, 0, 1, 5, 3, 4, 8, 6, 7],\n",
      " [3, 4, 5, 6, 7, 8, 0, 1, 2],\n",
      " [4, 5, 3, 7, 8, 6, 1, 2, 0],\n",
      " [5, 3, 4, 8, 6, 7, 2, 0, 1],\n",
      " [6, 7, 8, 0, 1, 2, 3, 4, 5],\n",
      " [7, 8, 6, 1, 2, 0, 4, 5, 3],\n",
      " [8, 6, 7, 2, 0, 1, 5, 3, 4]]\n"
     ]
    }
   ],
   "source": [
    "alg1.info()"
   ]
  },
  {
   "cell_type": "markdown",
   "id": "7806ba15",
   "metadata": {},
   "source": [
    "## Elements (for Infix Arithmetic)"
   ]
  },
  {
   "cell_type": "code",
   "execution_count": 34,
   "id": "366104b6",
   "metadata": {},
   "outputs": [
    {
     "name": "stdout",
     "output_type": "stream",
     "text": [
      "Help on class Element in module simplified:\n",
      "\n",
      "class Element(builtins.object)\n",
      " |  Element(elem_name: str, algebra: simplified.FiniteAlgebra)\n",
      " |  \n",
      " |  This class is used to turn the usual string elements of an algebra into a class\n",
      " |  that can have arithmetic methods, like + or *.\n",
      " |  \n",
      " |  Methods defined here:\n",
      " |  \n",
      " |  __add__(self, other)\n",
      " |  \n",
      " |  __init__(self, elem_name: str, algebra: simplified.FiniteAlgebra)\n",
      " |      Initialize self.  See help(type(self)) for accurate signature.\n",
      " |  \n",
      " |  __repr__(self)\n",
      " |      Return repr(self).\n",
      " |  \n",
      " |  ----------------------------------------------------------------------\n",
      " |  Readonly properties defined here:\n",
      " |  \n",
      " |  name\n",
      " |      Returns the Element's name, a string.\n",
      " |  \n",
      " |  ----------------------------------------------------------------------\n",
      " |  Data descriptors defined here:\n",
      " |  \n",
      " |  __dict__\n",
      " |      dictionary for instance variables (if defined)\n",
      " |  \n",
      " |  __weakref__\n",
      " |      list of weak references to the object (if defined)\n",
      "\n"
     ]
    }
   ],
   "source": [
    "help(Element)"
   ]
  },
  {
   "cell_type": "code",
   "execution_count": 35,
   "id": "5a6fa7b1",
   "metadata": {},
   "outputs": [
    {
     "name": "stdout",
     "output_type": "stream",
     "text": [
      "'a:aa'\n"
     ]
    }
   ],
   "source": [
    "with Context(alg1) as A:\n",
    "    print(A['a:aa'] + A['aa:aa'] + A['a:a'])"
   ]
  }
 ],
 "metadata": {
  "kernelspec": {
   "display_name": "Python 3 (ipykernel)",
   "language": "python",
   "name": "python3"
  },
  "language_info": {
   "codemirror_mode": {
    "name": "ipython",
    "version": 3
   },
   "file_extension": ".py",
   "mimetype": "text/x-python",
   "name": "python",
   "nbconvert_exporter": "python",
   "pygments_lexer": "ipython3",
   "version": "3.11.5"
  }
 },
 "nbformat": 4,
 "nbformat_minor": 5
}
