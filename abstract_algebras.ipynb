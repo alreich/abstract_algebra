{
 "cells": [
  {
   "cell_type": "markdown",
   "id": "7a56b40a",
   "metadata": {},
   "source": [
    "# Abstract Algebras"
   ]
  },
  {
   "cell_type": "markdown",
   "id": "624a058f",
   "metadata": {},
   "source": [
    "## References"
   ]
  },
  {
   "cell_type": "markdown",
   "id": "98e8e9fb",
   "metadata": {},
   "source": [
    "* [Group Explorer](https://nathancarter.github.io/group-explorer/index.html) -- Visualization software for the abstract algebra classroom\n",
    "* [Groupprops, The Group Properties Wiki (beta)](https://groupprops.subwiki.org/wiki/Main_Page)\n",
    "* [Klein four-group, V4](https://en.wikipedia.org/wiki/Klein_four-group)\n",
    "* [Cyclic group](https://en.wikipedia.org/wiki/Cyclic_group)"
   ]
  },
  {
   "cell_type": "markdown",
   "id": "f3533328",
   "metadata": {},
   "source": [
    "## Algebra Definition"
   ]
  },
  {
   "cell_type": "code",
   "execution_count": 1,
   "id": "183e30d2",
   "metadata": {},
   "outputs": [],
   "source": [
    "def swap_list_items(lst, item1, item2):\n",
    "    a, b = lst.index(item1), lst.index(item2)\n",
    "    lst[b], lst[a] = lst[a], lst[b]\n",
    "    return None\n",
    "\n",
    "class Algebra:\n",
    "    '''An abstract algebra with a finite number of elements and a multiplication table.'''\n",
    "    \n",
    "    def __init__(self, name, description, element_names, mult_table):\n",
    "        self.name = name\n",
    "        self.desc = description\n",
    "        self.elements = element_names\n",
    "        self.table = mult_table\n",
    "        # For efficiency, calculate the headers up front\n",
    "        self.col_header = self.table[0]\n",
    "        self.row_header = [row[0] for row in self.table]\n",
    "        \n",
    "    def __str__(self):\n",
    "        return f\"<{self.__class__.__name__}: {self.name}, {self.desc}>\"\n",
    "    \n",
    "    def __repr__(self):\n",
    "        return f\"{self.__class__.__name__}('{self.name}', '{self.desc}', {self.elements}, {self.table})\"\n",
    "    \n",
    "    def inverse(self, element):\n",
    "        elem_index = self.elements.index(element)\n",
    "        row_index = self.row_header.index(elem_index)\n",
    "        col_index = self.table[row_index].index(0)\n",
    "        return self.elements[self.col_header[col_index]]\n",
    "    \n",
    "    def mult_table_with_names(self):\n",
    "        return [[self.elements[x] for x in row] for row in self.table]\n",
    "        \n",
    "    def mult(self, r, c):\n",
    "        '''Return the product of elements, r & c.\n",
    "        The inputs, r & c, can be numbers or strings, but if either\n",
    "        input is a number, then a number will be returned, otherwise\n",
    "        the product's element name (a string) will be returned.'''\n",
    "\n",
    "        # Table lookup requires numbers\n",
    "        r_ = r; c_ = c\n",
    "        str_result = False\n",
    "        if type(r) == str:\n",
    "            r_ = self.elements.index(r)\n",
    "            str_result = True\n",
    "        if type(c) == str:\n",
    "            c_ = self.elements.index(c)\n",
    "            str_result = True\n",
    "        \n",
    "        # Lookup the product based on the row & column indices\n",
    "        row_index = self.row_header.index(r_)\n",
    "        col_index = self.col_header.index(c_)\n",
    "        product = self.table[row_index][col_index]\n",
    "        \n",
    "        # If either input value was a string, then return a string,\n",
    "        # otherwise return a number\n",
    "        if str_result:\n",
    "            return self.elements[product]\n",
    "        else:\n",
    "            return product\n",
    "    \n",
    "    def swap(self, a, b):\n",
    "        '''Change the algebra's definition by swapping the order of two elements, a & b.'''\n",
    "        elem = self.elements\n",
    "        i, j = elem.index(a), elem.index(b)\n",
    "        elem[j], elem[i] = elem[i], elem[j]\n",
    "        for row in self.table:\n",
    "            k, m = row.index(i), row.index(j)\n",
    "            row[k], row[m] = row[m], row[k]\n",
    "        return None\n",
    "    \n",
    "    def elements(self):\n",
    "        return self.table[0]"
   ]
  },
  {
   "cell_type": "markdown",
   "id": "9563b028",
   "metadata": {},
   "source": [
    "## Group Definition"
   ]
  },
  {
   "cell_type": "code",
   "execution_count": 2,
   "id": "5a933015",
   "metadata": {},
   "outputs": [],
   "source": [
    "class Group(Algebra):\n",
    "    pass"
   ]
  },
  {
   "cell_type": "markdown",
   "id": "40ba3f52",
   "metadata": {},
   "source": [
    "### Klein-4 Group"
   ]
  },
  {
   "cell_type": "markdown",
   "id": "6075ccaf",
   "metadata": {},
   "source": [
    "See this [definition at GitHub](https://github.com/nathancarter/group-explorer/blob/master/groups/V_4.group)."
   ]
  },
  {
   "cell_type": "code",
   "execution_count": 3,
   "id": "37aaaedf",
   "metadata": {},
   "outputs": [],
   "source": [
    "v4 = Group('V4',\n",
    "           'Klein-4 group',\n",
    "           ['e',  'h',  'v', 'hv'],\n",
    "           [[0, 1, 2, 3],\n",
    "            [1, 0, 3, 2],\n",
    "            [2, 3, 0, 1],\n",
    "            [3, 2, 1, 0]]\n",
    "          )"
   ]
  },
  {
   "cell_type": "code",
   "execution_count": 4,
   "id": "bb81075b",
   "metadata": {},
   "outputs": [
    {
     "data": {
      "text/plain": [
       "[['e', 'h', 'v', 'hv'],\n",
       " ['h', 'e', 'hv', 'v'],\n",
       " ['v', 'hv', 'e', 'h'],\n",
       " ['hv', 'v', 'h', 'e']]"
      ]
     },
     "execution_count": 4,
     "metadata": {},
     "output_type": "execute_result"
    }
   ],
   "source": [
    "v4.mult_table_with_names()"
   ]
  },
  {
   "cell_type": "code",
   "execution_count": 5,
   "id": "f0e19b59",
   "metadata": {},
   "outputs": [
    {
     "data": {
      "text/plain": [
       "'hv'"
      ]
     },
     "execution_count": 5,
     "metadata": {},
     "output_type": "execute_result"
    }
   ],
   "source": [
    "v4.mult('h','v')"
   ]
  },
  {
   "cell_type": "code",
   "execution_count": 6,
   "id": "cbb9fe64",
   "metadata": {},
   "outputs": [
    {
     "name": "stdout",
     "output_type": "stream",
     "text": [
      "inv(e) = e\n",
      "inv(h) = h\n",
      "inv(v) = v\n",
      "inv(hv) = hv\n"
     ]
    }
   ],
   "source": [
    "for elem in v4.elements:\n",
    "    print(f\"inv({elem}) = {v4.inverse(elem)}\")"
   ]
  },
  {
   "cell_type": "code",
   "execution_count": 7,
   "id": "80fad1be",
   "metadata": {},
   "outputs": [
    {
     "name": "stdout",
     "output_type": "stream",
     "text": [
      "<Group: V4, Klein-4 group>\n"
     ]
    }
   ],
   "source": [
    "print(v4)"
   ]
  },
  {
   "cell_type": "markdown",
   "id": "aed4e849",
   "metadata": {},
   "source": [
    "### Cyclic group of order 4"
   ]
  },
  {
   "cell_type": "markdown",
   "id": "520cca6b",
   "metadata": {},
   "source": [
    "See this [definition at GitHub](https://github.com/nathancarter/group-explorer/blob/master/groups/Z_4.group)."
   ]
  },
  {
   "cell_type": "code",
   "execution_count": 8,
   "id": "21899826",
   "metadata": {},
   "outputs": [],
   "source": [
    "z4 = Group('Z4',\n",
    "           'Cyclic group of order 4',\n",
    "           ['e', 'a', 'a^2', 'a^3'],\n",
    "           [[0, 1, 2, 3],\n",
    "            [1, 2, 3, 0],\n",
    "            [2, 3, 0, 1],\n",
    "            [3, 0, 1, 2]]\n",
    "          )"
   ]
  },
  {
   "cell_type": "code",
   "execution_count": 9,
   "id": "6408562c",
   "metadata": {},
   "outputs": [
    {
     "data": {
      "text/plain": [
       "[['e', 'a', 'a^2', 'a^3'],\n",
       " ['a', 'a^2', 'a^3', 'e'],\n",
       " ['a^2', 'a^3', 'e', 'a'],\n",
       " ['a^3', 'e', 'a', 'a^2']]"
      ]
     },
     "execution_count": 9,
     "metadata": {},
     "output_type": "execute_result"
    }
   ],
   "source": [
    "z4.mult_table_with_names()"
   ]
  },
  {
   "cell_type": "code",
   "execution_count": 10,
   "id": "396ecb09",
   "metadata": {},
   "outputs": [
    {
     "name": "stdout",
     "output_type": "stream",
     "text": [
      "<Group: Z4, Cyclic group of order 4>\n"
     ]
    }
   ],
   "source": [
    "print(z4)"
   ]
  },
  {
   "cell_type": "code",
   "execution_count": 11,
   "id": "496ce344",
   "metadata": {},
   "outputs": [
    {
     "data": {
      "text/plain": [
       "0"
      ]
     },
     "execution_count": 11,
     "metadata": {},
     "output_type": "execute_result"
    }
   ],
   "source": [
    "z4.mult(2,2)"
   ]
  },
  {
   "cell_type": "code",
   "execution_count": 12,
   "id": "39984dd6",
   "metadata": {},
   "outputs": [
    {
     "data": {
      "text/plain": [
       "'a'"
      ]
     },
     "execution_count": 12,
     "metadata": {},
     "output_type": "execute_result"
    }
   ],
   "source": [
    "z4.mult('a^2', 'a^3')"
   ]
  },
  {
   "cell_type": "code",
   "execution_count": 13,
   "id": "32ff1467",
   "metadata": {},
   "outputs": [
    {
     "name": "stdout",
     "output_type": "stream",
     "text": [
      "inv(e) = e\n",
      "inv(a) = a^3\n",
      "inv(a^2) = a^2\n",
      "inv(a^3) = a\n"
     ]
    }
   ],
   "source": [
    "for elem in z4.elements:\n",
    "    print(f\"inv({elem}) = {z4.inverse(elem)}\")"
   ]
  },
  {
   "cell_type": "markdown",
   "id": "aa5cfad5",
   "metadata": {},
   "source": [
    "### Symmetric group on 3 letters"
   ]
  },
  {
   "cell_type": "markdown",
   "id": "2cc0d318",
   "metadata": {},
   "source": [
    "See this [definition at GitHub](https://github.com/nathancarter/group-explorer/blob/master/groups/S_3.group). \"Another name for this group is \"Dihedral group on 3 vertices.\""
   ]
  },
  {
   "cell_type": "code",
   "execution_count": 14,
   "id": "184c2b94",
   "metadata": {},
   "outputs": [],
   "source": [
    "s3 = Group('S3',\n",
    "           'Symmetric group on 3 letters',\n",
    "           ['e', 'r', 'r^2', 'f', 'fr', 'rf'],\n",
    "           [[0, 1, 2, 3, 4, 5],\n",
    "            [1, 2, 0, 5, 3, 4],\n",
    "            [2, 0, 1, 4, 5, 3],\n",
    "            [3, 4, 5, 0, 1, 2],\n",
    "            [4, 5, 3, 2, 0, 1],\n",
    "            [5, 3, 4, 1, 2, 0]]\n",
    "          )"
   ]
  },
  {
   "cell_type": "code",
   "execution_count": 15,
   "id": "94e753be",
   "metadata": {},
   "outputs": [
    {
     "data": {
      "text/plain": [
       "[['e', 'r', 'r^2', 'f', 'fr', 'rf'],\n",
       " ['r', 'r^2', 'e', 'rf', 'f', 'fr'],\n",
       " ['r^2', 'e', 'r', 'fr', 'rf', 'f'],\n",
       " ['f', 'fr', 'rf', 'e', 'r', 'r^2'],\n",
       " ['fr', 'rf', 'f', 'r^2', 'e', 'r'],\n",
       " ['rf', 'f', 'fr', 'r', 'r^2', 'e']]"
      ]
     },
     "execution_count": 15,
     "metadata": {},
     "output_type": "execute_result"
    }
   ],
   "source": [
    "s3.mult_table_with_names()"
   ]
  },
  {
   "cell_type": "code",
   "execution_count": 16,
   "id": "17c2d4d3",
   "metadata": {},
   "outputs": [
    {
     "name": "stdout",
     "output_type": "stream",
     "text": [
      "<Group: S3, Symmetric group on 3 letters>\n"
     ]
    }
   ],
   "source": [
    "print(s3)"
   ]
  },
  {
   "cell_type": "code",
   "execution_count": 17,
   "id": "bf826e39",
   "metadata": {},
   "outputs": [
    {
     "data": {
      "text/plain": [
       "'f'"
      ]
     },
     "execution_count": 17,
     "metadata": {},
     "output_type": "execute_result"
    }
   ],
   "source": [
    "s3.mult('fr', 'r^2')"
   ]
  },
  {
   "cell_type": "code",
   "execution_count": 18,
   "id": "e2bd1253",
   "metadata": {},
   "outputs": [
    {
     "name": "stdout",
     "output_type": "stream",
     "text": [
      "inv(e) = e\n",
      "inv(r) = r^2\n",
      "inv(r^2) = r\n",
      "inv(f) = f\n",
      "inv(fr) = fr\n",
      "inv(rf) = rf\n"
     ]
    }
   ],
   "source": [
    "for elem in s3.elements:\n",
    "    print(f\"inv({elem}) = {s3.inverse(elem)}\")"
   ]
  },
  {
   "cell_type": "code",
   "execution_count": 19,
   "id": "cc83c4a4",
   "metadata": {},
   "outputs": [
    {
     "data": {
      "text/plain": [
       "Group('S3', 'Symmetric group on 3 letters', ['e', 'r', 'r^2', 'f', 'fr', 'rf'], [[0, 1, 2, 3, 4, 5], [1, 2, 0, 5, 3, 4], [2, 0, 1, 4, 5, 3], [3, 4, 5, 0, 1, 2], [4, 5, 3, 2, 0, 1], [5, 3, 4, 1, 2, 0]])"
      ]
     },
     "execution_count": 19,
     "metadata": {},
     "output_type": "execute_result"
    }
   ],
   "source": [
    "s3"
   ]
  },
  {
   "cell_type": "markdown",
   "id": "120ef802",
   "metadata": {},
   "source": [
    "### Symmetric Group, S3 (not same as S3, above)"
   ]
  },
  {
   "cell_type": "markdown",
   "id": "87140c8a",
   "metadata": {},
   "source": [
    "This is the [Symmetric group, S3, as specified at Groupprops](https://groupprops.subwiki.org/wiki/Symmetric_group:S3).\n",
    "\n",
    "W.r.t., how to interpret the multiplication table, the following quote helps:\n",
    "\n",
    "[[from Wikipedia](https://groupprops.subwiki.org/wiki/Symmetric_group:S3)] \"We portray elements as permutations on the set \\{ 1,2,3 \\} using the cycle decomposition. The row element is multiplied on the left and the column element on the right, with the assumption of functions written on the left. This means that the column element is applied first and the row element is applied next.\""
   ]
  },
  {
   "cell_type": "code",
   "execution_count": 20,
   "id": "83b61501",
   "metadata": {},
   "outputs": [],
   "source": [
    "s3x = Group('S3X',\n",
    "           'Another version of the symmetric group on 3 letters',\n",
    "           ['()', '(1,2)', '(2,3)', '(1,3)', '(1,2,3)', '(1,3,2)'],\n",
    "           [[0, 1, 2, 3, 4, 5],\n",
    "            [1, 0, 4, 5, 2, 3],\n",
    "            [2, 5, 0, 4, 3, 1],\n",
    "            [3, 4, 5, 0, 1, 2],\n",
    "            [4, 3, 1, 2, 5, 0],\n",
    "            [5, 2, 3, 1, 0, 4]]\n",
    "          )"
   ]
  },
  {
   "cell_type": "code",
   "execution_count": 21,
   "id": "a8805671",
   "metadata": {},
   "outputs": [
    {
     "data": {
      "text/plain": [
       "[['()', '(1,2)', '(2,3)', '(1,3)', '(1,2,3)', '(1,3,2)'],\n",
       " ['(1,2)', '()', '(1,2,3)', '(1,3,2)', '(2,3)', '(1,3)'],\n",
       " ['(2,3)', '(1,3,2)', '()', '(1,2,3)', '(1,3)', '(1,2)'],\n",
       " ['(1,3)', '(1,2,3)', '(1,3,2)', '()', '(1,2)', '(2,3)'],\n",
       " ['(1,2,3)', '(1,3)', '(1,2)', '(2,3)', '(1,3,2)', '()'],\n",
       " ['(1,3,2)', '(2,3)', '(1,3)', '(1,2)', '()', '(1,2,3)']]"
      ]
     },
     "execution_count": 21,
     "metadata": {},
     "output_type": "execute_result"
    }
   ],
   "source": [
    "s3x.mult_table_with_names()"
   ]
  },
  {
   "cell_type": "code",
   "execution_count": 22,
   "id": "8ac418ba",
   "metadata": {},
   "outputs": [
    {
     "data": {
      "text/plain": [
       "'(1,2,3)'"
      ]
     },
     "execution_count": 22,
     "metadata": {},
     "output_type": "execute_result"
    }
   ],
   "source": [
    "s3x.mult('(1,2)', '(2,3)')"
   ]
  },
  {
   "cell_type": "code",
   "execution_count": 23,
   "id": "3be06644",
   "metadata": {},
   "outputs": [
    {
     "name": "stdout",
     "output_type": "stream",
     "text": [
      "inv(()) = ()\n",
      "inv((1,2)) = (1,2)\n",
      "inv((2,3)) = (2,3)\n",
      "inv((1,3)) = (1,3)\n",
      "inv((1,2,3)) = (1,3,2)\n",
      "inv((1,3,2)) = (1,2,3)\n"
     ]
    }
   ],
   "source": [
    "for elem in s3x.elements:\n",
    "    print(f\"inv({elem}) = {s3x.inverse(elem)}\")"
   ]
  },
  {
   "cell_type": "markdown",
   "id": "2c5d7c24",
   "metadata": {},
   "source": [
    "# Utilities"
   ]
  },
  {
   "cell_type": "markdown",
   "id": "102aa663",
   "metadata": {},
   "source": [
    "This helps turn the XML-based tables at Groupprops into a list of lists for use here.\n",
    "\n",
    "INSTRUCTIONS FOR USE:\n",
    "1. Copy the table from there and paste it here\n",
    "1. Find & Replace the strings, \"\\<row\\>\" and \"\\<\\/row\\>\", with nothing\n",
    "1. Add triple quotes around the result and give it a variable name"
   ]
  },
  {
   "cell_type": "code",
   "execution_count": 37,
   "id": "0d3a5391",
   "metadata": {},
   "outputs": [],
   "source": [
    "def make_table(table_string):\n",
    "    return [[int(n) for n in row.strip().split(\" \")]\n",
    "            for row in table_string.splitlines()]"
   ]
  },
  {
   "cell_type": "markdown",
   "id": "497c0b2e",
   "metadata": {},
   "source": [
    "### Example"
   ]
  },
  {
   "cell_type": "code",
   "execution_count": 38,
   "id": "32d3984d",
   "metadata": {},
   "outputs": [],
   "source": [
    "foo = '''         0 1 2 3 4 5 6 7 \n",
    "         1 0 3 2 5 4 7 6 \n",
    "         2 3 0 1 6 7 4 5 \n",
    "         3 2 1 0 7 6 5 4 \n",
    "         4 5 6 7 0 1 2 3 \n",
    "         5 4 7 6 1 0 3 2 \n",
    "         6 7 4 5 2 3 0 1 \n",
    "         7 6 5 4 3 2 1 0 '''"
   ]
  },
  {
   "cell_type": "code",
   "execution_count": 39,
   "id": "f30e52de",
   "metadata": {},
   "outputs": [
    {
     "data": {
      "text/plain": [
       "[[0, 1, 2, 3, 4, 5, 6, 7],\n",
       " [1, 0, 3, 2, 5, 4, 7, 6],\n",
       " [2, 3, 0, 1, 6, 7, 4, 5],\n",
       " [3, 2, 1, 0, 7, 6, 5, 4],\n",
       " [4, 5, 6, 7, 0, 1, 2, 3],\n",
       " [5, 4, 7, 6, 1, 0, 3, 2],\n",
       " [6, 7, 4, 5, 2, 3, 0, 1],\n",
       " [7, 6, 5, 4, 3, 2, 1, 0]]"
      ]
     },
     "execution_count": 39,
     "metadata": {},
     "output_type": "execute_result"
    }
   ],
   "source": [
    "z2_x_z2_x_z2 = make_table(foo)\n",
    "z2_x_z2_x_z2"
   ]
  },
  {
   "cell_type": "code",
   "execution_count": null,
   "id": "f385d5c8",
   "metadata": {},
   "outputs": [],
   "source": []
  },
  {
   "cell_type": "code",
   "execution_count": 40,
   "id": "cfc32b3d",
   "metadata": {},
   "outputs": [],
   "source": [
    "fu = \"<e,e,e> <a,e,e> <e,a,e> <a,a,e> <e,e,a> <a,e,a> <e,a,a> <a,a,a>\""
   ]
  },
  {
   "cell_type": "code",
   "execution_count": 41,
   "id": "2b388a9a",
   "metadata": {},
   "outputs": [
    {
     "data": {
      "text/plain": [
       "['<e,e,e>',\n",
       " '<a,e,e>',\n",
       " '<e,a,e>',\n",
       " '<a,a,e>',\n",
       " '<e,e,a>',\n",
       " '<a,e,a>',\n",
       " '<e,a,a>',\n",
       " '<a,a,a>']"
      ]
     },
     "execution_count": 41,
     "metadata": {},
     "output_type": "execute_result"
    }
   ],
   "source": [
    "fubar = fu.split(\" \")\n",
    "fubar"
   ]
  },
  {
   "cell_type": "code",
   "execution_count": null,
   "id": "39c5dafe",
   "metadata": {},
   "outputs": [],
   "source": []
  }
 ],
 "metadata": {
  "kernelspec": {
   "display_name": "Python 3",
   "language": "python",
   "name": "python3"
  },
  "language_info": {
   "codemirror_mode": {
    "name": "ipython",
    "version": 3
   },
   "file_extension": ".py",
   "mimetype": "text/x-python",
   "name": "python",
   "nbconvert_exporter": "python",
   "pygments_lexer": "ipython3",
   "version": "3.7.7"
  }
 },
 "nbformat": 4,
 "nbformat_minor": 5
}
