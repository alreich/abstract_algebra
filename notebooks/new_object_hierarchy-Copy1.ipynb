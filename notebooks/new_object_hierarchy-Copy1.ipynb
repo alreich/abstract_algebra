{
 "cells": [
  {
   "cell_type": "markdown",
   "id": "1c58af98",
   "metadata": {},
   "source": [
    "# New Object Hierarchy"
   ]
  },
  {
   "cell_type": "markdown",
   "id": "203edb99",
   "metadata": {},
   "source": [
    "Version 2"
   ]
  },
  {
   "cell_type": "code",
   "execution_count": 1,
   "id": "aecf80f5",
   "metadata": {},
   "outputs": [],
   "source": [
    "from finite_algebras import *"
   ]
  },
  {
   "cell_type": "markdown",
   "id": "2082e4b2",
   "metadata": {},
   "source": [
    "### Magma Examples"
   ]
  },
  {
   "cell_type": "markdown",
   "id": "0a16e55c",
   "metadata": {},
   "source": [
    "#### Rock-Paper-Scisors Magma"
   ]
  },
  {
   "cell_type": "markdown",
   "id": "ed2ac631",
   "metadata": {},
   "source": [
    "This magma is obviously commutative, but not associative.\n",
    "\n",
    "See https://en.wikipedia.org/wiki/Commutative_magma\n",
    "\n",
    "* $M = \\langle \\{r,p,s\\}, \\cdot \\rangle$\n",
    "* For all $x, y \\in M$, if $x$ *beats* $y$, then $x \\cdot y = y \\cdot x = x$\n",
    "* Also, for all $x \\in M$, $xx = x$"
   ]
  },
  {
   "cell_type": "code",
   "execution_count": 2,
   "id": "2554895b",
   "metadata": {},
   "outputs": [
    {
     "data": {
      "text/plain": [
       "Magma(\n",
       "['r', 'p', 's'], \n",
       "[[0 1 0]\n",
       " [1 1 2]\n",
       " [0 2 2]])"
      ]
     },
     "execution_count": 2,
     "metadata": {},
     "output_type": "execute_result"
    }
   ],
   "source": [
    "rps = Magma(['r', 'p', 's'], [[0, 1, 0], [1, 1, 2], [0, 2, 2]])\n",
    "rps"
   ]
  },
  {
   "cell_type": "markdown",
   "id": "fd889fdb",
   "metadata": {},
   "source": [
    "The following demonstrates that the rps magma is non-associative:"
   ]
  },
  {
   "cell_type": "code",
   "execution_count": 3,
   "id": "36e6c0a5",
   "metadata": {},
   "outputs": [
    {
     "name": "stdout",
     "output_type": "stream",
     "text": [
      "    r(ps) = rs = r, \n",
      "but (rp)s = ps = s\n"
     ]
    }
   ],
   "source": [
    "ps = rps.op('p', 's')\n",
    "rp = rps.op('r', 'p')\n",
    "\n",
    "r_ps = rps.op('r', ps)\n",
    "rp_s = rps.op(rp, 's')\n",
    "\n",
    "print(f\"    r(ps) = r{ps} = {r_ps}, \\nbut (rp)s = {rp}s = {rp_s}\")"
   ]
  },
  {
   "cell_type": "markdown",
   "id": "1232b5eb",
   "metadata": {},
   "source": [
    "For other magma examples, [see this discussion](https://math.stackexchange.com/questions/779507/can-you-give-me-some-concrete-examples-of-magmas).  Also, [see this paper on groupiods](https://arxiv.org/ftp/math/papers/0304/0304490.pdf)."
   ]
  },
  {
   "cell_type": "markdown",
   "id": "62b5e453",
   "metadata": {},
   "source": [
    "#### Smarandache Groupoid"
   ]
  },
  {
   "cell_type": "markdown",
   "id": "b12f7c3f",
   "metadata": {},
   "source": [
    "This is Example 1.4.1 in the paper referenced, above."
   ]
  },
  {
   "cell_type": "code",
   "execution_count": 4,
   "id": "63595047",
   "metadata": {},
   "outputs": [],
   "source": [
    "ex141_tbl = [[0, 3, 0, 3, 0, 3], [1, 4, 1, 4, 1, 4], [2, 5, 2, 5, 2, 5],\n",
    "             [3, 0, 3, 0, 3, 0], [4, 1, 4, 1, 4, 1], [5, 2, 5, 2, 5, 2]]"
   ]
  },
  {
   "cell_type": "code",
   "execution_count": 5,
   "id": "976b063a",
   "metadata": {},
   "outputs": [
    {
     "data": {
      "text/plain": [
       "Magma(\n",
       "['a', 'b', 'c', 'd', 'e', 'f'], \n",
       "[[0 3 0 3 0 3]\n",
       " [1 4 1 4 1 4]\n",
       " [2 5 2 5 2 5]\n",
       " [3 0 3 0 3 0]\n",
       " [4 1 4 1 4 1]\n",
       " [5 2 5 2 5 2]])"
      ]
     },
     "execution_count": 5,
     "metadata": {},
     "output_type": "execute_result"
    }
   ],
   "source": [
    "ex141_magma = Magma(['a', 'b', 'c', 'd', 'e', 'f'], ex141_tbl)\n",
    "ex141_magma"
   ]
  },
  {
   "cell_type": "code",
   "execution_count": null,
   "id": "bac2cba8",
   "metadata": {},
   "outputs": [],
   "source": []
  },
  {
   "cell_type": "markdown",
   "id": "52160db9",
   "metadata": {},
   "source": [
    "### Testing Magma Methods"
   ]
  },
  {
   "cell_type": "markdown",
   "id": "0f7f14b5",
   "metadata": {},
   "source": [
    "#### Table and Element Accessors"
   ]
  },
  {
   "cell_type": "code",
   "execution_count": 6,
   "id": "faf8cade",
   "metadata": {},
   "outputs": [
    {
     "data": {
      "text/plain": [
       "array([[0, 1, 0],\n",
       "       [1, 1, 2],\n",
       "       [0, 2, 2]])"
      ]
     },
     "execution_count": 6,
     "metadata": {},
     "output_type": "execute_result"
    }
   ],
   "source": [
    "rps.table"
   ]
  },
  {
   "cell_type": "code",
   "execution_count": 7,
   "id": "0305f40b",
   "metadata": {},
   "outputs": [
    {
     "data": {
      "text/plain": [
       "['r', 'p', 's']"
      ]
     },
     "execution_count": 7,
     "metadata": {},
     "output_type": "execute_result"
    }
   ],
   "source": [
    "rps.elements"
   ]
  },
  {
   "cell_type": "code",
   "execution_count": 8,
   "id": "5fe29bb8",
   "metadata": {},
   "outputs": [
    {
     "data": {
      "text/plain": [
       "[['r', 'p', 'r'], ['p', 'p', 's'], ['r', 's', 's']]"
      ]
     },
     "execution_count": 8,
     "metadata": {},
     "output_type": "execute_result"
    }
   ],
   "source": [
    "rps.table_with_names()"
   ]
  },
  {
   "cell_type": "markdown",
   "id": "10b139c2",
   "metadata": {},
   "source": [
    "#### Magma as an Iterator and Container of Elements"
   ]
  },
  {
   "cell_type": "code",
   "execution_count": 9,
   "id": "a2cd3cf2",
   "metadata": {},
   "outputs": [
    {
     "data": {
      "text/plain": [
       "['r', 'p', 's']"
      ]
     },
     "execution_count": 9,
     "metadata": {},
     "output_type": "execute_result"
    }
   ],
   "source": [
    "[el for el in rps]"
   ]
  },
  {
   "cell_type": "code",
   "execution_count": 10,
   "id": "4256565f",
   "metadata": {},
   "outputs": [
    {
     "data": {
      "text/plain": [
       "True"
      ]
     },
     "execution_count": 10,
     "metadata": {},
     "output_type": "execute_result"
    }
   ],
   "source": [
    "'r' in rps"
   ]
  },
  {
   "cell_type": "markdown",
   "id": "d4f1dfb4",
   "metadata": {},
   "source": [
    "#### Replacing (\"Setting\") Element Names"
   ]
  },
  {
   "cell_type": "code",
   "execution_count": 11,
   "id": "4a12ea5e",
   "metadata": {},
   "outputs": [
    {
     "data": {
      "text/plain": [
       "Magma(\n",
       "['rock', 'paper', 'scissors'], \n",
       "[[0 1 0]\n",
       " [1 1 2]\n",
       " [0 2 2]])"
      ]
     },
     "execution_count": 11,
     "metadata": {},
     "output_type": "execute_result"
    }
   ],
   "source": [
    "full_names = ['rock', 'paper', 'scissors']\n",
    "rps.set_elements(full_names)"
   ]
  },
  {
   "cell_type": "code",
   "execution_count": 12,
   "id": "c9e9c2dc",
   "metadata": {},
   "outputs": [
    {
     "name": "stdout",
     "output_type": "stream",
     "text": [
      "{'rock': 'r', 'paper': 'p', 'scissors': 's'}\n"
     ]
    },
    {
     "data": {
      "text/plain": [
       "Magma(\n",
       "['r', 'p', 's'], \n",
       "[[0 1 0]\n",
       " [1 1 2]\n",
       " [0 2 2]])"
      ]
     },
     "execution_count": 12,
     "metadata": {},
     "output_type": "execute_result"
    }
   ],
   "source": [
    "orig_elems = ['r', 'p', 's']\n",
    "mapping = dict(zip(rps.elements, orig_elems))\n",
    "print(mapping)\n",
    "rps.set_elements(orig_elems)"
   ]
  },
  {
   "cell_type": "markdown",
   "id": "9aa15d8b",
   "metadata": {},
   "source": [
    "### Testing Table Utilities"
   ]
  },
  {
   "cell_type": "code",
   "execution_count": 13,
   "id": "95a09e7a",
   "metadata": {},
   "outputs": [],
   "source": [
    "# not assoc; is comm; no identity -- the RPS magma table, above\n",
    "tbl1 = [[0, 1, 0], [1, 1, 2], [0, 2, 2]]\n",
    "\n",
    "# is assoc; not comm; has identity (0) --- the S3 group table\n",
    "tbl2 = [[0, 1, 2, 3, 4, 5], [1, 2, 0, 5, 3, 4], [2, 0, 1, 4, 5, 3],\n",
    "        [3, 4, 5, 0, 1, 2], [4, 5, 3, 2, 0, 1], [5, 3, 4, 1, 2, 0]]\n",
    "\n",
    "# is assoc; is comm; has identity (0) --- the Z4 group table\n",
    "tbl3 = [[0, 1, 2, 3], [1, 2, 3, 0], [2, 3, 0, 1], [3, 0, 1, 2]]\n",
    "\n",
    "# powerset(3) group table\n",
    "tbl4 = [[0, 1, 2, 3, 4, 5, 6, 7], [1, 0, 4, 5, 2, 3, 7, 6], [2, 4, 0, 6, 1, 7, 3, 5],\n",
    "        [3, 5, 6, 0, 7, 1, 2, 4], [4, 2, 1, 7, 0, 6, 5, 3], [5, 3, 7, 1, 6, 0, 4, 2],\n",
    "        [6, 7, 3, 2, 5, 4, 0, 1], [7, 6, 5, 4, 3, 2, 1, 0]]\n",
    "\n",
    "tbl5 = ex141_tbl  # Defined in magma section, above\n",
    "\n",
    "test_tables = [tbl1, tbl2, tbl3, tbl4, tbl5]"
   ]
  },
  {
   "cell_type": "code",
   "execution_count": 14,
   "id": "e5448324",
   "metadata": {},
   "outputs": [
    {
     "name": "stdout",
     "output_type": "stream",
     "text": [
      "   Table     Associative?  Commutative?  Identity?\n",
      "-------------------------------------------------------\n",
      "     1          False         True         None\n",
      "     2           True        False            0\n",
      "     3           True         True            0\n",
      "     4           True         True            0\n",
      "     5           True        False         None\n"
     ]
    }
   ],
   "source": [
    "print(\"   Table     Associative?  Commutative?  Identity?\")\n",
    "print('-'*55)\n",
    "for tbl in test_tables:\n",
    "    i = test_tables.index(tbl) + 1\n",
    "    is_assoc = str(is_table_associative(tbl))\n",
    "    is_comm = str(is_table_commutative(tbl))\n",
    "    tbl_id = str(table_has_identity(tbl))\n",
    "    print(f\"{i :>{6}} {is_assoc :>{14}} {is_comm :>{12}} {tbl_id :>{12}}\")"
   ]
  },
  {
   "cell_type": "markdown",
   "id": "8f13e9be",
   "metadata": {},
   "source": [
    "## Semigroup"
   ]
  },
  {
   "cell_type": "markdown",
   "id": "c7713d2c",
   "metadata": {},
   "source": [
    "A semigroup is an associative magma."
   ]
  },
  {
   "cell_type": "code",
   "execution_count": 15,
   "id": "481f0e47",
   "metadata": {},
   "outputs": [
    {
     "data": {
      "text/plain": [
       "False"
      ]
     },
     "execution_count": 15,
     "metadata": {},
     "output_type": "execute_result"
    }
   ],
   "source": [
    "is_table_associative(rps.table)"
   ]
  },
  {
   "cell_type": "markdown",
   "id": "a2005f9b",
   "metadata": {},
   "source": [
    "The Semigroup constructor will fail if the table does not support associativity:"
   ]
  },
  {
   "cell_type": "code",
   "execution_count": 16,
   "id": "c23131e9",
   "metadata": {},
   "outputs": [
    {
     "name": "stdout",
     "output_type": "stream",
     "text": [
      "Something went wrong\n"
     ]
    }
   ],
   "source": [
    "try:\n",
    "    Semigroup(['r', 'p', 's'], [[0, 1, 0], [1, 1, 2], [0, 2, 2]])\n",
    "except:\n",
    "    print(\"Something went wrong\")"
   ]
  },
  {
   "cell_type": "markdown",
   "id": "4af1cdd5",
   "metadata": {},
   "source": [
    "### See p. 67 in Pinter for a possible example"
   ]
  },
  {
   "cell_type": "markdown",
   "id": "172bd745",
   "metadata": {},
   "source": [
    "## Monoid"
   ]
  },
  {
   "cell_type": "markdown",
   "id": "aaa6ce17",
   "metadata": {},
   "source": [
    "A monoid is a semigroup with an identity element."
   ]
  },
  {
   "cell_type": "markdown",
   "id": "086f7bdc",
   "metadata": {},
   "source": [
    "**NEED TESTS AND EXAMPLES HERE**"
   ]
  },
  {
   "cell_type": "markdown",
   "id": "e3e04bdd",
   "metadata": {},
   "source": [
    "## Group"
   ]
  },
  {
   "cell_type": "markdown",
   "id": "7b3494ad",
   "metadata": {},
   "source": [
    "A group is a monoid where every element has an inverse."
   ]
  },
  {
   "cell_type": "markdown",
   "id": "ca7ba44d",
   "metadata": {},
   "source": [
    "TBD"
   ]
  },
  {
   "cell_type": "code",
   "execution_count": null,
   "id": "61542ab1",
   "metadata": {},
   "outputs": [],
   "source": []
  },
  {
   "cell_type": "code",
   "execution_count": null,
   "id": "e9160bab",
   "metadata": {},
   "outputs": [],
   "source": []
  }
 ],
 "metadata": {
  "kernelspec": {
   "display_name": "Python 3",
   "language": "python",
   "name": "python3"
  },
  "language_info": {
   "codemirror_mode": {
    "name": "ipython",
    "version": 3
   },
   "file_extension": ".py",
   "mimetype": "text/x-python",
   "name": "python",
   "nbconvert_exporter": "python",
   "pygments_lexer": "ipython3",
   "version": "3.7.7"
  }
 },
 "nbformat": 4,
 "nbformat_minor": 5
}
