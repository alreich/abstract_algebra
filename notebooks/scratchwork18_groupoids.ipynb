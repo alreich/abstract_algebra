{
 "cells": [
  {
   "cell_type": "markdown",
   "id": "4fa54c70",
   "metadata": {},
   "source": [
    "# Groupoids"
   ]
  },
  {
   "cell_type": "markdown",
   "id": "bbfa23e2",
   "metadata": {},
   "source": [
    "## References"
   ]
  },
  {
   "cell_type": "markdown",
   "id": "a48febb8",
   "metadata": {},
   "source": [
    "1. Kandasamy, W. B. Vasantha, \"Groupoids and Smarandache Groupoids\", 2003, https://arxiv.org/abs/math/0304490\n",
    "1. Reich, Alfred J., Abstract Algebra (github.com), https://github.com/alreich/abstract_algebra"
   ]
  },
  {
   "cell_type": "code",
   "execution_count": 11,
   "id": "52f4adc7",
   "metadata": {},
   "outputs": [],
   "source": [
    "import os\n",
    "aa_path = os.path.join(os.getenv(\"PYPROJ\"), \"abstract_algebra\")\n",
    "alg_dir = os.path.join(aa_path, \"Algebras\")\n",
    "\n",
    "import finite_algebras as alg"
   ]
  },
  {
   "cell_type": "markdown",
   "id": "548df250",
   "metadata": {},
   "source": [
    "## Example 1.2.7"
   ]
  },
  {
   "cell_type": "markdown",
   "id": "63c24ddf",
   "metadata": {},
   "source": [
    "Kandasamy points out that the following groupoid (magma) has 3 subgroupoids of order 4.\n",
    "\n",
    "It does contain them, but it also contains much more, including groupoids, semigroups, and even groups."
   ]
  },
  {
   "cell_type": "code",
   "execution_count": 5,
   "id": "3e9b0b88",
   "metadata": {},
   "outputs": [
    {
     "name": "stdout",
     "output_type": "stream",
     "text": [
      "\n",
      "** Magma **\n",
      "Name: Example 1.2.7\n",
      "Instance ID: 4652355344\n",
      "Description: See: Groupoids and Smarandache Groupoids by W. B. Vasantha Kandasamy\n",
      "Order: 12\n",
      "Identity: None\n",
      "Associative? No\n",
      "Commutative? No\n",
      "Cyclic?: No\n",
      "Elements: ['a0', 'a1', 'a2', 'a3', 'a4', 'a5', 'a6', 'a7', 'a8', 'a9', 'a10', 'a11']\n",
      "Has Inverses? No\n",
      "Cayley Table (showing indices):\n",
      "[[0, 3, 6, 9, 0, 3, 6, 9, 0, 3, 6, 9],\n",
      " [1, 4, 7, 10, 1, 4, 7, 10, 1, 4, 7, 10],\n",
      " [2, 5, 8, 11, 2, 5, 8, 11, 2, 5, 8, 11],\n",
      " [3, 6, 9, 0, 3, 6, 9, 0, 3, 6, 9, 0],\n",
      " [4, 7, 10, 1, 4, 7, 10, 1, 4, 7, 10, 1],\n",
      " [5, 8, 11, 2, 5, 8, 11, 2, 5, 8, 11, 2],\n",
      " [6, 9, 0, 3, 6, 9, 0, 3, 6, 9, 0, 3],\n",
      " [7, 10, 1, 4, 7, 10, 1, 4, 7, 10, 1, 4],\n",
      " [8, 11, 2, 5, 8, 11, 2, 5, 8, 11, 2, 5],\n",
      " [9, 0, 3, 6, 9, 0, 3, 6, 9, 0, 3, 6],\n",
      " [10, 1, 4, 7, 10, 1, 4, 7, 10, 1, 4, 7],\n",
      " [11, 2, 5, 8, 11, 2, 5, 8, 11, 2, 5, 8]]\n"
     ]
    }
   ],
   "source": [
    "ex127 = alg.make_finite_algebra(\n",
    "    'Example 1.2.7',\n",
    "    'See: Groupoids and Smarandache Groupoids by W. B. Vasantha Kandasamy',\n",
    "    [\"a0\", \"a1\", \"a2\", \"a3\", \"a4\", \"a5\", \"a6\", \"a7\", \"a8\", \"a9\", \"a10\", \"a11\"],\n",
    "    [[\"a0\", \"a3\", \"a6\", \"a9\", \"a0\", \"a3\", \"a6\", \"a9\", \"a0\", \"a3\", \"a6\", \"a9\"],\n",
    "     [\"a1\", \"a4\", \"a7\", \"a10\", \"a1\", \"a4\", \"a7\", \"a10\", \"a1\", \"a4\", \"a7\", \"a10\"],\n",
    "     [\"a2\", \"a5\", \"a8\", \"a11\", \"a2\", \"a5\", \"a8\", \"a11\", \"a2\", \"a5\", \"a8\", \"a11\"],\n",
    "     [\"a3\", \"a6\", \"a9\", \"a0\", \"a3\", \"a6\", \"a9\", \"a0\", \"a3\", \"a6\", \"a9\", \"a0\"],\n",
    "     [\"a4\", \"a7\", \"a10\", \"a1\", \"a4\", \"a7\", \"a10\", \"a1\", \"a4\", \"a7\", \"a10\", \"a1\"],\n",
    "     [\"a5\", \"a8\", \"a11\", \"a2\", \"a5\", \"a8\", \"a11\", \"a2\", \"a5\", \"a8\", \"a11\", \"a2\"],\n",
    "     [\"a6\", \"a9\", \"a0\", \"a3\", \"a6\", \"a9\", \"a0\", \"a3\", \"a6\", \"a9\", \"a0\", \"a3\"],\n",
    "     [\"a7\", \"a10\", \"a1\", \"a4\", \"a7\", \"a10\", \"a1\", \"a4\", \"a7\", \"a10\", \"a1\", \"a4\"],\n",
    "     [\"a8\", \"a11\", \"a2\", \"a5\", \"a8\", \"a11\", \"a2\", \"a5\", \"a8\", \"a11\", \"a2\", \"a5\"],\n",
    "     [\"a9\", \"a0\", \"a3\", \"a6\", \"a9\", \"a0\", \"a3\", \"a6\", \"a9\", \"a0\", \"a3\", \"a6\"],\n",
    "     [\"a10\", \"a1\", \"a4\", \"a7\", \"a10\", \"a1\", \"a4\", \"a7\", \"a10\", \"a1\", \"a4\", \"a7\"],\n",
    "     [\"a11\", \"a2\", \"a5\", \"a8\", \"a11\", \"a2\", \"a5\", \"a8\", \"a11\", \"a2\", \"a5\", \"a8\"]]\n",
    ")\n",
    "\n",
    "ex127.about()"
   ]
  },
  {
   "cell_type": "markdown",
   "id": "6e704829",
   "metadata": {},
   "source": [
    "The following call to <b>about_subalgebras</b> not only finds the 3 subgroupoids (magmas) identified in Kandasamys example, but it also finds much, much more; 17 subalgebras in total, including groupoids, semigroups, and groups."
   ]
  },
  {
   "cell_type": "code",
   "execution_count": 12,
   "id": "f2ae812a",
   "metadata": {},
   "outputs": [
    {
     "name": "stdout",
     "output_type": "stream",
     "text": [
      "\n",
      "Subalgebras of <Magma:Example 1.2.7, ID:4652355344>\n",
      "  There are 7 unique proper subalgebras, up to isomorphism, out of 17 total subalgebras.\n",
      "  as shown by the partitions below:\n",
      "\n",
      "3 Isomorphic Magmas of order 8:\n",
      "      Magma: Example 1.2.7_subalgebra_0: ['a0', 'a2', 'a3', 'a5', 'a6', 'a8', 'a9', 'a11']\n",
      "      Magma: Example 1.2.7_subalgebra_6: ['a1', 'a2', 'a4', 'a5', 'a7', 'a8', 'a10', 'a11']\n",
      "      Magma: Example 1.2.7_subalgebra_13: ['a0', 'a1', 'a3', 'a4', 'a6', 'a7', 'a9', 'a10']\n",
      "\n",
      "3 Isomorphic Semigroups of order 2:\n",
      "      Semigroup: Example 1.2.7_subalgebra_1: ['a0', 'a4']\n",
      "      Semigroup: Example 1.2.7_subalgebra_7: ['a4', 'a8']\n",
      "      Semigroup: Example 1.2.7_subalgebra_14: ['a0', 'a8']\n",
      "\n",
      "3 Isomorphic Semigroups of order 4:\n",
      "      Semigroup: Example 1.2.7_subalgebra_2: ['a0', 'a4', 'a6', 'a10']\n",
      "      Semigroup: Example 1.2.7_subalgebra_5: ['a0', 'a2', 'a6', 'a8']\n",
      "      Semigroup: Example 1.2.7_subalgebra_11: ['a2', 'a4', 'a8', 'a10']\n",
      "\n",
      "3 Isomorphic Magmas of order 4:\n",
      "      Magma: Example 1.2.7_subalgebra_3: ['a2', 'a5', 'a8', 'a11']\n",
      "      Magma: Example 1.2.7_subalgebra_10: ['a1', 'a4', 'a7', 'a10']\n",
      "      Magma: Example 1.2.7_subalgebra_15: ['a0', 'a3', 'a6', 'a9']\n",
      "\n",
      "3 Isomorphic Commutative Groups of order 2:\n",
      "      Group: Example 1.2.7_subalgebra_4: ['a4', 'a10'] with identity 'a4'\n",
      "      Group: Example 1.2.7_subalgebra_9: ['a2', 'a8'] with identity 'a8'\n",
      "      Group: Example 1.2.7_subalgebra_12: ['a0', 'a6'] with identity 'a0'\n",
      "\n",
      "1 Semigroup of order 6:\n",
      "      Semigroup: Example 1.2.7_subalgebra_8: ['a0', 'a2', 'a4', 'a6', 'a8', 'a10']\n",
      "\n",
      "1 Semigroup of order 3:\n",
      "      Semigroup: Example 1.2.7_subalgebra_16: ['a0', 'a4', 'a8']\n",
      "\n"
     ]
    }
   ],
   "source": [
    "_ = alg.about_subalgebras(ex127)"
   ]
  },
  {
   "cell_type": "markdown",
   "id": "8e625345",
   "metadata": {},
   "source": [
    "## MISCELLANEOUS"
   ]
  },
  {
   "cell_type": "code",
   "execution_count": 4,
   "id": "be523d54",
   "metadata": {},
   "outputs": [
    {
     "name": "stdout",
     "output_type": "stream",
     "text": [
      "\n",
      "** Magma **\n",
      "Name: Example 1.2.1\n",
      "Instance ID: 4652950736\n",
      "Description: See: Groupoids and Smarandache Groupoids by W. B. Vasantha Kandasamy\n",
      "Order: 5\n",
      "Identity: None\n",
      "Associative? No\n",
      "Commutative? No\n",
      "Cyclic?: Yes\n",
      "  Generators: ['a1', 'a2', 'a3', 'a4']\n",
      "Elements: ['a0', 'a1', 'a2', 'a3', 'a4']\n",
      "Has Inverses? No\n",
      "Cayley Table (showing indices):\n",
      "[[0, 4, 3, 2, 1],\n",
      " [1, 0, 4, 3, 2],\n",
      " [2, 1, 0, 4, 3],\n",
      " [3, 2, 1, 0, 4],\n",
      " [4, 3, 2, 1, 0]]\n"
     ]
    }
   ],
   "source": [
    "ex121 = alg.make_finite_algebra(\n",
    "    'Example 1.2.1',\n",
    "    'See: Groupoids and Smarandache Groupoids by W. B. Vasantha Kandasamy',\n",
    "    [\"a0\", \"a1\", \"a2\", \"a3\", \"a4\"],\n",
    "    [[\"a0\", \"a4\", \"a3\", \"a2\", \"a1\"],\n",
    "     [\"a1\", \"a0\", \"a4\", \"a3\", \"a2\"],\n",
    "     [\"a2\", \"a1\", \"a0\", \"a4\", \"a3\"],\n",
    "     [\"a3\", \"a2\", \"a1\", \"a0\", \"a4\"],\n",
    "     [\"a4\", \"a3\", \"a2\", \"a1\", \"a0\"]]\n",
    ")\n",
    "\n",
    "ex121.about()"
   ]
  }
 ],
 "metadata": {
  "kernelspec": {
   "display_name": "Python 3 (ipykernel)",
   "language": "python",
   "name": "python3"
  },
  "language_info": {
   "codemirror_mode": {
    "name": "ipython",
    "version": 3
   },
   "file_extension": ".py",
   "mimetype": "text/x-python",
   "name": "python",
   "nbconvert_exporter": "python",
   "pygments_lexer": "ipython3",
   "version": "3.11.4"
  }
 },
 "nbformat": 4,
 "nbformat_minor": 5
}
