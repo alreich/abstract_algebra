{
 "cells": [
  {
   "cell_type": "markdown",
   "id": "18036c70",
   "metadata": {},
   "source": [
    "# Abstract Polynomials"
   ]
  },
  {
   "cell_type": "markdown",
   "id": "0732e1ac",
   "metadata": {},
   "source": [
    "This is an experimental notebook."
   ]
  },
  {
   "cell_type": "markdown",
   "id": "11d88c96",
   "metadata": {},
   "source": [
    "## Ordinary Polynomials"
   ]
  },
  {
   "cell_type": "code",
   "execution_count": 1,
   "id": "9eb0f837",
   "metadata": {},
   "outputs": [],
   "source": [
    "def power(x, n):\n",
    "    result = 1\n",
    "    for _ in range(n):\n",
    "        result = result * x\n",
    "    return result"
   ]
  },
  {
   "cell_type": "code",
   "execution_count": 86,
   "id": "880c7332",
   "metadata": {},
   "outputs": [],
   "source": [
    "class Term:\n",
    "    \n",
    "    def __init__(self, coefficient, order):\n",
    "        self.__coefficient = coefficient\n",
    "        self.__order = order\n",
    "        self.__varname = \"x\"\n",
    "        \n",
    "    def __repr__(self):\n",
    "        return f\"Term({self.__coefficient},{self.__order})\"\n",
    "    \n",
    "    def __str__(self):\n",
    "        return f\"{self.__coefficient}{self.__varname}^{self.__order}\"\n",
    "        \n",
    "    def __call__(self, x):\n",
    "        return self.__coefficient * power(x, self.__order)\n",
    "    \n",
    "    def __add__(self, other):\n",
    "        if self.__order == other.__order:\n",
    "            return Term(self.__coefficient + other.__coefficient, self.__order)\n",
    "        else:\n",
    "            raise ValueError(f\"Terms must be of the same order, {self.__order} != {other.__order}\")\n",
    "    \n",
    "    def __mul__(self, other):\n",
    "        return Term(self.__coefficient * other.__coefficient,\n",
    "                    self.__order + other.__order)\n",
    "    \n",
    "    def __eq__(self, other):\n",
    "        return (self.__varname == other.__varname and\n",
    "                self.__order == other.__order and\n",
    "                self.__coefficient == other.__coefficient)\n",
    "    \n",
    "    @property\n",
    "    def coefficient(self):\n",
    "        return self.__coefficient\n",
    "    \n",
    "    @property\n",
    "    def order(self):\n",
    "        return self.__order\n",
    "    \n",
    "    def varname(self, newname=None):\n",
    "        if newname is not None:\n",
    "            if isinstance(newname, str):\n",
    "                self.__varname = newname\n",
    "            else:\n",
    "                raise ValueError(\"Variable name must be a string.\")\n",
    "        return self.__varname"
   ]
  },
  {
   "cell_type": "code",
   "execution_count": 87,
   "id": "3ef7c3eb",
   "metadata": {},
   "outputs": [
    {
     "name": "stdout",
     "output_type": "stream",
     "text": [
      "2x^3\n"
     ]
    }
   ],
   "source": [
    "t23 = Term(2, 3)\n",
    "print(t23)"
   ]
  },
  {
   "cell_type": "code",
   "execution_count": 88,
   "id": "4d461266",
   "metadata": {},
   "outputs": [
    {
     "name": "stdout",
     "output_type": "stream",
     "text": [
      "3x^3\n"
     ]
    }
   ],
   "source": [
    "t33 = Term(3, 3)\n",
    "print(t33)"
   ]
  },
  {
   "cell_type": "code",
   "execution_count": 89,
   "id": "dc3d4149",
   "metadata": {},
   "outputs": [
    {
     "data": {
      "text/plain": [
       "Term(5,3)"
      ]
     },
     "execution_count": 89,
     "metadata": {},
     "output_type": "execute_result"
    }
   ],
   "source": [
    "t23 + t33"
   ]
  },
  {
   "cell_type": "code",
   "execution_count": 90,
   "id": "fb27be59",
   "metadata": {},
   "outputs": [
    {
     "data": {
      "text/plain": [
       "Term(6,6)"
      ]
     },
     "execution_count": 90,
     "metadata": {},
     "output_type": "execute_result"
    }
   ],
   "source": [
    "t23 * t33"
   ]
  },
  {
   "cell_type": "code",
   "execution_count": 91,
   "id": "94ebbad4",
   "metadata": {},
   "outputs": [
    {
     "data": {
      "text/plain": [
       "16"
      ]
     },
     "execution_count": 91,
     "metadata": {},
     "output_type": "execute_result"
    }
   ],
   "source": [
    "t23(2)"
   ]
  },
  {
   "cell_type": "code",
   "execution_count": 92,
   "id": "0e66f438",
   "metadata": {},
   "outputs": [],
   "source": [
    "s23 = Term(2,3)"
   ]
  },
  {
   "cell_type": "code",
   "execution_count": 93,
   "id": "4d5c0a7a",
   "metadata": {},
   "outputs": [
    {
     "data": {
      "text/plain": [
       "True"
      ]
     },
     "execution_count": 93,
     "metadata": {},
     "output_type": "execute_result"
    }
   ],
   "source": [
    "s23 == t23"
   ]
  },
  {
   "cell_type": "code",
   "execution_count": 94,
   "id": "f52ad09e",
   "metadata": {},
   "outputs": [
    {
     "data": {
      "text/plain": [
       "False"
      ]
     },
     "execution_count": 94,
     "metadata": {},
     "output_type": "execute_result"
    }
   ],
   "source": [
    "t23 == t33"
   ]
  },
  {
   "cell_type": "code",
   "execution_count": 95,
   "id": "904cd7e1",
   "metadata": {},
   "outputs": [
    {
     "data": {
      "text/plain": [
       "'x'"
      ]
     },
     "execution_count": 95,
     "metadata": {},
     "output_type": "execute_result"
    }
   ],
   "source": [
    "t23.varname()"
   ]
  },
  {
   "cell_type": "code",
   "execution_count": 96,
   "id": "53c4bb5f",
   "metadata": {},
   "outputs": [
    {
     "data": {
      "text/plain": [
       "'y'"
      ]
     },
     "execution_count": 96,
     "metadata": {},
     "output_type": "execute_result"
    }
   ],
   "source": [
    "t23.varname('y')"
   ]
  },
  {
   "cell_type": "code",
   "execution_count": 97,
   "id": "32ad32ea",
   "metadata": {},
   "outputs": [
    {
     "name": "stdout",
     "output_type": "stream",
     "text": [
      "2y^3\n"
     ]
    }
   ],
   "source": [
    "print(t23)"
   ]
  },
  {
   "cell_type": "code",
   "execution_count": 98,
   "id": "b9d3ee29",
   "metadata": {},
   "outputs": [
    {
     "data": {
      "text/plain": [
       "3"
      ]
     },
     "execution_count": 98,
     "metadata": {},
     "output_type": "execute_result"
    }
   ],
   "source": [
    "t23.order"
   ]
  },
  {
   "cell_type": "code",
   "execution_count": 99,
   "id": "b8618cdd",
   "metadata": {},
   "outputs": [
    {
     "data": {
      "text/plain": [
       "2"
      ]
     },
     "execution_count": 99,
     "metadata": {},
     "output_type": "execute_result"
    }
   ],
   "source": [
    "t23.coefficient"
   ]
  },
  {
   "cell_type": "code",
   "execution_count": null,
   "id": "614a7712",
   "metadata": {},
   "outputs": [],
   "source": []
  }
 ],
 "metadata": {
  "kernelspec": {
   "display_name": "Python 3",
   "language": "python",
   "name": "python3"
  },
  "language_info": {
   "codemirror_mode": {
    "name": "ipython",
    "version": 3
   },
   "file_extension": ".py",
   "mimetype": "text/x-python",
   "name": "python",
   "nbconvert_exporter": "python",
   "pygments_lexer": "ipython3",
   "version": "3.7.7"
  }
 },
 "nbformat": 4,
 "nbformat_minor": 5
}
