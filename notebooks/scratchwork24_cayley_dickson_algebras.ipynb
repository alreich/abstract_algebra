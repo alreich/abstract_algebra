{
 "cells": [
  {
   "cell_type": "markdown",
   "id": "b6523b92",
   "metadata": {},
   "source": [
    "# Scratchwork: Cayley-Dickson Algebras"
   ]
  },
  {
   "cell_type": "markdown",
   "id": "34735043",
   "metadata": {},
   "source": [
    "The purpose of this notebook is to develop the functions required to perform the Cayley-Dickson construction within the ``finite_algebras`` module."
   ]
  },
  {
   "cell_type": "code",
   "execution_count": 1,
   "id": "68cea7ff",
   "metadata": {},
   "outputs": [],
   "source": [
    "import finite_algebras as alg\n",
    "import numpy as np"
   ]
  },
  {
   "cell_type": "markdown",
   "id": "c2fcbe98-df46-4a4b-8728-c0450e97a9f8",
   "metadata": {},
   "source": [
    "## The Cayley-Dickson Construction"
   ]
  },
  {
   "cell_type": "markdown",
   "id": "faff0b12-b56c-4f88-aaa4-57cde504cd26",
   "metadata": {},
   "source": [
    "The [Cayley-Dickson construction](https://en.wikipedia.org/wiki/Cayley%E2%80%93Dickson_construction) begins from a <i>base</i> algebra, $F$, usually a field, and then creates an algebra, $\\mathbb{C}(F)$, with compound elements, similar to those in the direct product, $F \\times F$, where addition is defined element-wise, like $F \\times F$, but multiplication is defined similar to complex number multiplication.\n",
    "\n",
    "> **Definition 1**\n",
    "> \n",
    "> $\\forall a,b,c,d \\in F$ and $(a,b),(c,d) \\in \\mathbb{C}(F)$,\n",
    "> \n",
    "> $(a,b) \\oplus (c,d) \\equiv (a + c, b + d)$\n",
    "> \n",
    "> $(a,b) \\otimes (c,d) \\equiv (ac - bd, ad + bc)$\n",
    "\n",
    "So, for example, if we apply the Cayley-Dickson construction to the field of real numbers, $\\mathbb{R}$, we obtain the algebra, $\\mathbb{C}(\\mathbb{R})$, of **complex numbers**.\n",
    " \n",
    "The Cayley-Dickson Algebra (CDA) construction, $\\mathbb{C}$, can be applied to another CDA, and so on.\n",
    "\n",
    "> **Definition 2**\n",
    "> \n",
    "> Let $k \\in Z^+$ and $\\mathbb{C}^0(F) \\equiv F$,\n",
    "> \n",
    "> then $\\mathbb{C}^k(F) \\equiv \\mathbb{C}(\\mathbb{C}^{k-1}(F))$,\n",
    "\n",
    "So, for example, $\\mathbb{C}^2(\\mathbb{R})$ is the algebra of **quaternions**, and $\\mathbb{C}^3(\\mathbb{R})$ is the algebra of **octonions**."
   ]
  },
  {
   "cell_type": "markdown",
   "id": "99cb115b-d9e8-43d6-9efd-2719160ae4a7",
   "metadata": {},
   "source": [
    "In many (all?) papers on the subject, a generalization of complex multiplication is used.\n",
    "\n",
    "The generalization begins with a recursive definition of conjugation:\n",
    "\n",
    "> **Definition 3**\n",
    "> \n",
    "> For $a \\in F$, let $\\overline{a} \\equiv a$.\n",
    "> \n",
    "> Then let $k \\in Z^+$; $p,q \\in \\mathbb{C}^{k-1}(F)$; and $(p,q) \\in \\mathbb{C}^k(F)$,\n",
    "> \n",
    "> and define $\\overline{(p, q)} \\equiv (\\overline{p}, -q)$\n",
    "\n",
    "In **Shafer (1966)**, the generalization of CDA multiplication is defined as follows:\n",
    "\n",
    "> **Definition 4**\n",
    "> \n",
    "> Let $k \\in Z^+$; $a,b,c,d,\\mu \\in \\mathbb{C}^{k-1}(F)$; and $\\mu \\neq 0$,\n",
    ">\n",
    "> then define multipication in $\\mathbb{C}^k(F)$\n",
    ">\n",
    "> as $(a, b) \\times (c, d) = (a c + \\mu d \\overline{b}, \\overline{a} d + c b)$,"
   ]
  },
  {
   "cell_type": "markdown",
   "id": "81513aad",
   "metadata": {},
   "source": [
    "In the Python module, ``finite_algebras``, all elements are strings.\n",
    "\n",
    "When direct products or Cayley-Dickson algebras are constructed, the component algebras' elements are concatentated (joined) using a string delimiter (':' by default).\n",
    "\n",
    "So, operations like scalar multiplication, negation, conjugation, etc, on the newly constructed \"compound\" elements, require some string manipulation to accomplish."
   ]
  },
  {
   "cell_type": "markdown",
   "id": "5c8c5366-b45e-4040-9078-a79f91923752",
   "metadata": {},
   "source": [
    "## Literature"
   ]
  },
  {
   "cell_type": "markdown",
   "id": "a3ff4ce6-8776-4abe-b574-7d207e04435c",
   "metadata": {},
   "source": [
    "* [\"Equivalence in a Class of Division Algebras of Order 16\"](https://core.ac.uk/reader/82141950) by R. D. Schafer"
   ]
  },
  {
   "cell_type": "code",
   "execution_count": null,
   "id": "93cd8b51-01eb-4821-abed-8366e2c31f19",
   "metadata": {},
   "outputs": [],
   "source": []
  },
  {
   "cell_type": "markdown",
   "id": "7b79999a",
   "metadata": {},
   "source": [
    "## Algebras"
   ]
  },
  {
   "cell_type": "markdown",
   "id": "34a99dfe",
   "metadata": {},
   "source": [
    "### Algebras by \"Squaring\""
   ]
  },
  {
   "cell_type": "code",
   "execution_count": 2,
   "id": "37a0cd3b",
   "metadata": {},
   "outputs": [],
   "source": [
    "F3 = alg.generate_algebra_mod_n(3, elem_name='')\n",
    "F3sqr = F3.sqr()\n",
    "\n",
    "F4 = alg.generate_algebra_mod_n(4, elem_name='')\n",
    "F4sqr = F4.sqr()\n",
    "\n",
    "F5 = alg.generate_algebra_mod_n(5, elem_name='')\n",
    "F5sqr = F5.sqr()\n",
    "\n",
    "F7 = alg.generate_algebra_mod_n(7, elem_name='')\n",
    "F7sqr = F7.sqr()"
   ]
  },
  {
   "cell_type": "code",
   "execution_count": 3,
   "id": "50c27a3e",
   "metadata": {},
   "outputs": [
    {
     "name": "stdout",
     "output_type": "stream",
     "text": [
      "\n",
      "** Field **\n",
      "Name: F3\n",
      "Instance ID: 4536454480\n",
      "Description: Autogenerated Field of integers mod 3\n",
      "Order: 3\n",
      "Identity: '0'\n",
      "Commutative? Yes\n",
      "Cyclic?: Yes\n",
      "  Generators: ['1', '2']\n",
      "Elements:\n",
      "   Index   Name   Inverse  Order\n",
      "      0     '0'     '0'       1\n",
      "      1     '1'     '2'       3\n",
      "      2     '2'     '1'       3\n",
      "Cayley Table (showing indices):\n",
      "[[0, 1, 2], [1, 2, 0], [2, 0, 1]]\n",
      "Mult. Identity: '1'\n",
      "Mult. Commutative? Yes\n",
      "Zero Divisors: None\n",
      "Multiplicative Cayley Table (showing indices):\n",
      "[[0, 0, 0], [0, 1, 2], [0, 2, 1]]\n"
     ]
    }
   ],
   "source": [
    "F3.about()"
   ]
  },
  {
   "cell_type": "markdown",
   "id": "28e12886",
   "metadata": {},
   "source": [
    "### One Application of Cayley-Dickson"
   ]
  },
  {
   "cell_type": "markdown",
   "id": "bbaa6109",
   "metadata": {},
   "source": [
    "Here, one application of Cayley-Dickson construction process is applied to the F3 & F5 fields.\n",
    "\n",
    "Note:\n",
    "3 - Gaussian prime\n",
    "4 - Not a prime\n",
    "5 - Prime, but not a Gaussian prime\n",
    "\n",
    "**Conclusion**: F3sqr, F3cda, F3cda66, & F3cda53 are all identical. Similar results for F4 & F5."
   ]
  },
  {
   "cell_type": "code",
   "execution_count": 4,
   "id": "f7752b67",
   "metadata": {},
   "outputs": [
    {
     "name": "stdout",
     "output_type": "stream",
     "text": [
      "Cayley-Dickson algebra based on F3, where mu = None, basic version.\n",
      "F3sqr == F3cda ?: True\n",
      "\n",
      "Cayley-Dickson algebra based on F3, where mu = 2, Schafer 1966 version.\n",
      "F3sqr == F3cda66 ?: True\n",
      "\n",
      "Cayley-Dickson algebra based on F3, where mu = 2, Schafer 1953 version.\n",
      "F3sqr == F3cda53 ?: True\n",
      "\n"
     ]
    }
   ],
   "source": [
    "F3cda = F3.make_cayley_dickson_algebra()\n",
    "print(f\"{F3cda.description}\")\n",
    "print(f\"F3sqr == F3cda ?: {F3sqr == F3cda}\\n\")\n",
    "\n",
    "F3cda66 = F3.make_cayley_dickson_algebra(version=1)\n",
    "print(f\"{F3cda66.description}\")\n",
    "print(f\"F3sqr == F3cda66 ?: {F3sqr == F3cda66}\\n\")\n",
    "\n",
    "F3cda53 = F3.make_cayley_dickson_algebra(version=2)\n",
    "print(f\"{F3cda53.description}\")\n",
    "print(f\"F3sqr == F3cda53 ?: {F3sqr == F3cda53}\\n\")"
   ]
  },
  {
   "cell_type": "code",
   "execution_count": 5,
   "id": "1de561a8",
   "metadata": {},
   "outputs": [
    {
     "name": "stdout",
     "output_type": "stream",
     "text": [
      "Cayley-Dickson algebra based on R4, where mu = None, basic version.\n",
      "F4sqr == F4cda ?: True\n",
      "\n",
      "Cayley-Dickson algebra based on R4, where mu = 3, Schafer 1966 version.\n",
      "F4sqr == F4cda66 ?: True\n",
      "\n",
      "Cayley-Dickson algebra based on R4, where mu = 3, Schafer 1953 version.\n",
      "F4sqr == F4cda53 ?: True\n",
      "\n"
     ]
    }
   ],
   "source": [
    "F4cda = F4.make_cayley_dickson_algebra()\n",
    "print(f\"{F4cda.description}\")\n",
    "print(f\"F4sqr == F4cda ?: {F4sqr == F4cda}\\n\")\n",
    "\n",
    "F4cda66 = F4.make_cayley_dickson_algebra(version=1)\n",
    "print(f\"{F4cda66.description}\")\n",
    "print(f\"F4sqr == F4cda66 ?: {F4sqr == F4cda66}\\n\")\n",
    "\n",
    "F4cda53 = F4.make_cayley_dickson_algebra(version=2)\n",
    "print(f\"{F4cda53.description}\")\n",
    "print(f\"F4sqr == F4cda53 ?: {F4sqr == F4cda53}\\n\")"
   ]
  },
  {
   "cell_type": "code",
   "execution_count": 6,
   "id": "d672d23b",
   "metadata": {},
   "outputs": [
    {
     "name": "stdout",
     "output_type": "stream",
     "text": [
      "Cayley-Dickson algebra based on F5, where mu = None, basic version.\n",
      "F5sqr == F5cda ?: True\n",
      "\n",
      "Cayley-Dickson algebra based on F5, where mu = 4, Schafer 1966 version.\n",
      "F5sqr == F5cda66 ?: True\n",
      "\n",
      "Cayley-Dickson algebra based on F5, where mu = 4, Schafer 1953 version.\n",
      "F5sqr == F5cda53 ?: False\n",
      "\n"
     ]
    }
   ],
   "source": [
    "F5cda = F5.make_cayley_dickson_algebra()\n",
    "print(f\"{F5cda.description}\")\n",
    "print(f\"F5sqr == F5cda ?: {F5sqr == F5cda}\\n\")\n",
    "\n",
    "F5cda66 = F5.make_cayley_dickson_algebra(version=1)\n",
    "print(f\"{F5cda66.description}\")\n",
    "print(f\"F5sqr == F5cda66 ?: {F5sqr == F5cda66}\\n\")\n",
    "\n",
    "F5cda53 = F5.make_cayley_dickson_algebra(version=2)\n",
    "print(f\"{F5cda53.description}\")\n",
    "print(f\"F5sqr == F5cda53 ?: {F5sqr == F3cda53}\\n\")"
   ]
  },
  {
   "cell_type": "markdown",
   "id": "2054364d",
   "metadata": {},
   "source": [
    "### Two Applications of Cayley-Dickson"
   ]
  },
  {
   "cell_type": "code",
   "execution_count": 7,
   "id": "daf756c1",
   "metadata": {},
   "outputs": [
    {
     "name": "stdout",
     "output_type": "stream",
     "text": [
      "CPU times: user 1.26 s, sys: 2.7 ms, total: 1.26 s\n",
      "Wall time: 1.26 s\n"
     ]
    }
   ],
   "source": [
    "%%time\n",
    "\n",
    "F3quad = F3sqr.sqr()\n",
    "#print(F3quad)"
   ]
  },
  {
   "cell_type": "code",
   "execution_count": 8,
   "id": "c75575e6",
   "metadata": {},
   "outputs": [
    {
     "name": "stdout",
     "output_type": "stream",
     "text": [
      "CPU times: user 3.75 s, sys: 4.28 ms, total: 3.76 s\n",
      "Wall time: 3.75 s\n"
     ]
    }
   ],
   "source": [
    "%%time\n",
    "\n",
    "F3cda2 = F3cda.make_cayley_dickson_algebra()\n",
    "\n",
    "F3cda2_66 = F3cda.make_cayley_dickson_algebra(version=1)\n",
    "\n",
    "F3cda2_53 = F3cda.make_cayley_dickson_algebra(version=2)"
   ]
  },
  {
   "cell_type": "code",
   "execution_count": 9,
   "id": "1f29ea03",
   "metadata": {},
   "outputs": [
    {
     "name": "stdout",
     "output_type": "stream",
     "text": [
      "<Ring:F3_Sqr_Sqr, ID:4559332816>\n",
      "F3cda2 == F3quad ?: True (This should be True)\n",
      "F3cda2 == F3cda2_66 ?: False\n",
      "F3cda2 == F3cda2_53 ?: False\n",
      "F3cda2_66 == F3cda2_53 ?: False\n"
     ]
    }
   ],
   "source": [
    "print(F3cda2)\n",
    "print(f\"F3cda2 == F3quad ?: {F3cda2 == F3quad} (This should be True)\")\n",
    "print(f\"F3cda2 == F3cda2_66 ?: {F3cda2 == F3cda2_66}\")\n",
    "print(f\"F3cda2 == F3cda2_53 ?: {F3cda2 == F3cda2_53}\")\n",
    "print(f\"F3cda2_66 == F3cda2_53 ?: {F3cda2_66 == F3cda2_53}\")"
   ]
  },
  {
   "cell_type": "code",
   "execution_count": 10,
   "id": "c6759537",
   "metadata": {},
   "outputs": [
    {
     "name": "stdout",
     "output_type": "stream",
     "text": [
      "16\n",
      "16\n",
      "32\n",
      "32\n"
     ]
    }
   ],
   "source": [
    "print(len(F3quad.zero_divisors()))\n",
    "print(len(F3cda2.zero_divisors()))\n",
    "print(len(F3cda2_66.zero_divisors()))\n",
    "print(len(F3cda2_53.zero_divisors()))"
   ]
  },
  {
   "cell_type": "code",
   "execution_count": 11,
   "id": "d20cfea2",
   "metadata": {},
   "outputs": [
    {
     "name": "stdout",
     "output_type": "stream",
     "text": [
      "5616 unequal out of 6561\n"
     ]
    }
   ],
   "source": [
    "alg1 = F3cda2_66\n",
    "alg2 = F3cda2_53\n",
    "\n",
    "total = 0\n",
    "count = 0\n",
    "for a in alg1:\n",
    "    for b in alg1:\n",
    "        total += 1\n",
    "        if not alg1.mult(a, b) == alg2.mult(a, b):\n",
    "            count += 1\n",
    "print(f\"{count} unequal out of {total}\")"
   ]
  },
  {
   "cell_type": "code",
   "execution_count": 12,
   "id": "c750e804",
   "metadata": {},
   "outputs": [
    {
     "name": "stdout",
     "output_type": "stream",
     "text": [
      "5184 unequal out of 6561\n"
     ]
    }
   ],
   "source": [
    "alg1 = F3cda2_66\n",
    "alg2 = F3cda2\n",
    "\n",
    "total = 0\n",
    "count = 0\n",
    "for a in alg1:\n",
    "    for b in alg1:\n",
    "        total += 1\n",
    "        if not alg1.mult(a, b) == alg2.mult(a, b):\n",
    "            count += 1\n",
    "print(f\"{count} unequal out of {total}\")"
   ]
  },
  {
   "cell_type": "code",
   "execution_count": 13,
   "id": "d148c3d2",
   "metadata": {},
   "outputs": [
    {
     "name": "stdout",
     "output_type": "stream",
     "text": [
      "5184 unequal out of 6561\n"
     ]
    }
   ],
   "source": [
    "alg1 = F3cda2\n",
    "alg2 = F3cda2_53\n",
    "\n",
    "total = 0\n",
    "count = 0\n",
    "for a in alg1:\n",
    "    for b in alg1:\n",
    "        total += 1\n",
    "        if not alg1.mult(a, b) == alg2.mult(a, b):\n",
    "            count += 1\n",
    "print(f\"{count} unequal out of {total}\")"
   ]
  },
  {
   "cell_type": "markdown",
   "id": "c35971c2",
   "metadata": {},
   "source": [
    "## Norm Squared"
   ]
  },
  {
   "cell_type": "markdown",
   "id": "f51008c6",
   "metadata": {},
   "source": [
    "This tests that the following relationship holds true: $\\forall x, y \\in F, N(x) \\cdot N(y) = N(xy)$"
   ]
  },
  {
   "cell_type": "code",
   "execution_count": 14,
   "id": "5761faf4",
   "metadata": {},
   "outputs": [
    {
     "name": "stdout",
     "output_type": "stream",
     "text": [
      "F3_Sqr_Sqr: 6561 OK, 0 not OK\n"
     ]
    }
   ],
   "source": [
    "A = F3cda2\n",
    "ok = 0\n",
    "not_ok = 0\n",
    "for x in A:\n",
    "    for y in A:\n",
    "        if not (A.mult(A.norm_sqr(x), A.norm_sqr(y)) == A.norm_sqr(A.mult(x, y))):\n",
    "            not_ok += 1\n",
    "            All_OK = False\n",
    "            print(x, y)\n",
    "        else:\n",
    "            ok += 1\n",
    "\n",
    "print(f\"{A.name}: {ok} OK, {not_ok} not OK\")"
   ]
  },
  {
   "cell_type": "code",
   "execution_count": 15,
   "id": "ef9c831f-c8fa-4113-915d-9d7f1bf92530",
   "metadata": {},
   "outputs": [
    {
     "name": "stdout",
     "output_type": "stream",
     "text": [
      "F3: 9 OK, 0 not OK\n",
      "F3_SQR: 81 OK, 0 not OK\n",
      "F3_SQR_SQR: 6561 OK, 0 not OK\n",
      "F3_Sqr: 81 OK, 0 not OK\n",
      "F3_CDA66: 81 OK, 0 not OK\n",
      "F3_CDA53: 81 OK, 0 not OK\n",
      "F3_Sqr_Sqr: 6561 OK, 0 not OK\n",
      "F3_Sqr_CDA66: 1265 OK, 5296 not OK\n",
      "F3_Sqr_CDA53: 1265 OK, 5296 not OK\n"
     ]
    }
   ],
   "source": [
    "algebras = [F3, F3sqr, F3quad, F3cda, F3cda66, F3cda53, F3cda2, F3cda2_66, F3cda2_53]\n",
    "\n",
    "for A in algebras:\n",
    "    ok = 0\n",
    "    not_ok = 0\n",
    "    for x in A:\n",
    "        for y in A:\n",
    "            if not (A.mult(A.norm_sqr(x), A.norm_sqr(y)) == A.norm_sqr(A.mult(x, y))):\n",
    "                not_ok += 1\n",
    "                All_OK = False\n",
    "                # print(x, y)\n",
    "            else:\n",
    "                ok += 1\n",
    "    print(f\"{A.name}: {ok} OK, {not_ok} not OK\")"
   ]
  },
  {
   "cell_type": "markdown",
   "id": "d7f82f27-80ea-4a86-bff9-0096a2ffe935",
   "metadata": {},
   "source": [
    "## Check Conjugate"
   ]
  },
  {
   "cell_type": "code",
   "execution_count": null,
   "id": "c1b82b60-25f4-4195-8e00-44c7f77d7b0f",
   "metadata": {},
   "outputs": [],
   "source": []
  }
 ],
 "metadata": {
  "kernelspec": {
   "display_name": "Python 3 (ipykernel)",
   "language": "python",
   "name": "python3"
  },
  "language_info": {
   "codemirror_mode": {
    "name": "ipython",
    "version": 3
   },
   "file_extension": ".py",
   "mimetype": "text/x-python",
   "name": "python",
   "nbconvert_exporter": "python",
   "pygments_lexer": "ipython3",
   "version": "3.11.5"
  }
 },
 "nbformat": 4,
 "nbformat_minor": 5
}
