{
 "cells": [
  {
   "cell_type": "markdown",
   "id": "60a68813",
   "metadata": {},
   "source": [
    "# Vector Spaces & Modules"
   ]
  },
  {
   "cell_type": "markdown",
   "id": "15978d66",
   "metadata": {},
   "source": [
    "Vector Spaces and Modules are defined using Groups, Rings, and Fields."
   ]
  },
  {
   "cell_type": "markdown",
   "id": "9d7b0e55",
   "metadata": {},
   "source": [
    "## Vector Space"
   ]
  },
  {
   "cell_type": "markdown",
   "id": "fa1496da",
   "metadata": {},
   "source": [
    "A **Vector Space**, $\\mathscr{V} = \\langle G, F, \\circ \\rangle$, consists of the following:\n",
    "\n",
    "* an **abelian Group**, $G = \\langle V, \\oplus \\rangle$ (i.e., the *\"vectors\"*)\n",
    "* a **field**, $F = \\langle S, +, \\cdot \\rangle$ (i.e., the *\"scalars\"*)\n",
    "* and a **binary operator**, $\\circ : S \\times V \\to V$\n",
    "\n",
    "where the following five conditions hold:\n",
    "\n",
    "1. Scaled Vectors: For all $s \\in S$ and $v \\in V \\Rightarrow s \\circ v \\in V$\n",
    "1. Scaling by One: If $1 \\in S$ is the multiplicative identity element of $F$, then $1 \\circ v = v$\n",
    "1. Distributivity of Scalars Over Vector Addition: $s \\circ (v_1 \\oplus v_2) = (s \\circ v_1) \\oplus (s \\circ v_2)$\n",
    "1. Distributivity of Vectors Over Scalar Addition: $(s_1 + s_2) \\circ v = (s_1 \\circ v) \\oplus (s_2 \\circ v)$\n",
    "1. Scalar-Vector Associativity: $s_1 \\circ (s_2 \\circ v) = (s_1 \\cdot s_2) \\circ v$"
   ]
  },
  {
   "cell_type": "markdown",
   "id": "d0283d05",
   "metadata": {},
   "source": [
    "A **Module**, $\\mathscr{M} = \\langle G, R, \\circ \\rangle$, has the same conditions as a Vector Space, except that the Field is replaced by a **Ring**, $R$."
   ]
  },
  {
   "cell_type": "markdown",
   "id": "154397c4",
   "metadata": {},
   "source": [
    "## Internal Representation of Vector Spaces & Modules\n",
    "\n",
    "Unlike Groups, Rings, Fields, and such, Vector Spaces and Modules have more than one set of elements and more than one or two binary operations.  Within the ``finite_algebra`` implementation, the internal representation is as shown below. The five elements listed must be input to the function, ``make_finite_algebra``, in the order shown, to construct a Module or VectorSpace.\n",
    "\n",
    "* **name**: (``str``) A short name for the algebra;\n",
    "* **description**: (``str``) Any additional, useful information about the algebra;\n",
    "* **scalars**: A ``Ring`` or a ``Field``. The Ring or Field elements are called *scalars* and the scalar addition and multiplication operations are those of the Ring or Field;\n",
    "* **vectors**: An abelian ``Group``. Its elements are *vectors* and its operation is *vector addition*;\n",
    "* **sv_op**: A scalar-vector binary operation, $\\circ : S \\times V \\to V$, for \"scaling vectors\"\n",
    "\n",
    "If the scalars are a Field, then ``make_finite_algebra`` will construct a VectorSpace. Otherwise, if the scalars are a Ring, then a Module will be constructed."
   ]
  },
  {
   "cell_type": "markdown",
   "id": "926240f9",
   "metadata": {},
   "source": [
    "## Examples"
   ]
  },
  {
   "cell_type": "markdown",
   "id": "8f1958ef",
   "metadata": {},
   "source": [
    "### $\\mathbb{R}^n$"
   ]
  },
  {
   "cell_type": "markdown",
   "id": "92c208e6",
   "metadata": {},
   "source": [
    "Perhaps the most well-known example of a vector space is $\\mathbb{R}^n$, the n-dimensional vector space over the real numbers.  Of course, $\\mathbb{R}^n$ satisfies all of the conditions listed in the definition above.  The scalar field of $\\mathbb{R}^n$ is $\\mathbb{R}$ itself, and the abelian group of $\\mathbb{R}^n$ is the direct product, $\\mathscr{G} = \\mathbb{R} \\times \\dots \\times \\mathbb{R} \\equiv \\times^n \\mathbb{R}$, where the group's binary operation is component-wise addition in $\\mathbb{R}$, its identity element is $0_n = (0, \\dots, 0)$, commonly called *the origin*, and the scalar-vector binary operation is defined as $s \\circ v \\equiv (s \\circ v_1, \\dots, s \\circ v_n)$, where $v = (v_1, \\dots, v_n)$.\n",
    "\n",
    "In the section to follow, this type of Vector Space (or Module), where the Group is created from the n-fold direct product of the Field, will be created using a finite Field or Ring."
   ]
  },
  {
   "cell_type": "markdown",
   "id": "72615389",
   "metadata": {},
   "source": [
    "### A Finite, n-Dimensional Vector Space (similar to $\\mathbb{R}^n$)"
   ]
  },
  {
   "cell_type": "markdown",
   "id": "f8c655e3",
   "metadata": {},
   "source": [
    "Given a finite Field, F, and a positive integer, n, the expression, ``NDimensionalVectorSpace(F, n)``, constructs an n-dimensional Vector Space similar to how $\\mathbb{R}^n$ is constructed. Similarly, Given a Ring, R, ``NDimensionalModule(R, n)`` constructs an n-dimensional Module.\n",
    "\n",
    "This is demonstrated, below, using a [\"field with 4 elements\" (see Wikipedia)](https://en.wikipedia.org/wiki/Finite_field#Field_with_four_elements).\n",
    "\n",
    "First, we create the field:"
   ]
  },
  {
   "cell_type": "code",
   "execution_count": 1,
   "id": "13566d72",
   "metadata": {},
   "outputs": [],
   "source": [
    ">>> from finite_algebras import make_finite_algebra"
   ]
  },
  {
   "cell_type": "code",
   "execution_count": 2,
   "id": "5f8c8e22",
   "metadata": {},
   "outputs": [
    {
     "data": {
      "text/plain": [
       "Field(\n",
       "'F4',\n",
       "'Field with 4 elements (from Wikipedia)',\n",
       "['0', '1', 'a', '1+a'],\n",
       "[[0, 1, 2, 3], [1, 0, 3, 2], [2, 3, 0, 1], [3, 2, 1, 0]],\n",
       "[[0, 0, 0, 0], [0, 1, 2, 3], [0, 2, 3, 1], [0, 3, 1, 2]]\n",
       ")"
      ]
     },
     "execution_count": 2,
     "metadata": {},
     "output_type": "execute_result"
    }
   ],
   "source": [
    ">>> f4 = make_finite_algebra('F4',\n",
    "                             'Field with 4 elements (from Wikipedia)',\n",
    "                             ['0', '1', 'a', '1+a'],\n",
    "                             [['0', '1', 'a', '1+a'],\n",
    "                              ['1', '0', '1+a', 'a'],\n",
    "                              ['a', '1+a', '0', '1'],\n",
    "                              ['1+a', 'a', '1', '0']],\n",
    "                             [['0', '0', '0', '0'],\n",
    "                              ['0', '1', 'a', '1+a'],\n",
    "                              ['0', 'a', '1+a', '1'],\n",
    "                              ['0', '1+a', '1', 'a']]\n",
    "                            )\n",
    "\n",
    ">>> f4"
   ]
  },
  {
   "cell_type": "markdown",
   "id": "d193386c",
   "metadata": {},
   "source": [
    "Now, <b>f4</b> is used to create a finite, n-dimensional VectorSpace, for $n=2$:"
   ]
  },
  {
   "cell_type": "code",
   "execution_count": 3,
   "id": "049bc9e0",
   "metadata": {},
   "outputs": [
    {
     "name": "stdout",
     "output_type": "stream",
     "text": [
      "\n",
      "NDimensionalVectorSpace: 2D-F4\n",
      "Instance ID: 4596837328\n",
      "Description: 2-dimensional Vector Space over F4\n",
      "\n",
      "SCALARS:\n",
      "\n",
      "** Field **\n",
      "Name: F4\n",
      "Instance ID: 4595353936\n",
      "Description: Field with 4 elements (from Wikipedia)\n",
      "Order: 4\n",
      "Identity: '0'\n",
      "Commutative? Yes\n",
      "Cyclic?: Yes\n",
      "Generators: ['1+a', 'a']\n",
      "Elements:\n",
      "   Index   Name   Inverse  Order\n",
      "      0     '0'     '0'       1\n",
      "      1     '1'     '1'       2\n",
      "      2     'a'     'a'       2\n",
      "      3   '1+a'   '1+a'       2\n",
      "Cayley Table (showing indices):\n",
      "[[0, 1, 2, 3], [1, 0, 3, 2], [2, 3, 0, 1], [3, 2, 1, 0]]\n",
      "Mult. Identity: '1'\n",
      "Mult. Commutative? Yes\n",
      "Zero Divisors: None\n",
      "Multiplicative Cayley Table (showing indices):\n",
      "[[0, 0, 0, 0], [0, 1, 2, 3], [0, 2, 3, 1], [0, 3, 1, 2]]\n",
      "\n",
      "VECTORS:\n",
      "\n",
      "** Ring **\n",
      "Name: F4_x_F4\n",
      "Instance ID: 4630938320\n",
      "Description: Direct product of F4 & F4\n",
      "Order: 16\n",
      "Identity: '0:0'\n",
      "Commutative? Yes\n",
      "Cyclic?: No\n",
      "Generators: [('0:1', '1+a:1+a'), ('0:1', '1+a:a')], plus 58 more.\n",
      "Elements:\n",
      "   Index   Name   Inverse  Order\n",
      "      0   '0:0'   '0:0'       1\n",
      "      1   '0:1'   '0:1'       2\n",
      "      2   '0:a'   '0:a'       2\n",
      "      3 '0:1+a' '0:1+a'       2\n",
      "      4   '1:0'   '1:0'       2\n",
      "      5   '1:1'   '1:1'       2\n",
      "      6   '1:a'   '1:a'       2\n",
      "      7 '1:1+a' '1:1+a'       2\n",
      "      8   'a:0'   'a:0'       2\n",
      "      9   'a:1'   'a:1'       2\n",
      "     10   'a:a'   'a:a'       2\n",
      "     11 'a:1+a' 'a:1+a'       2\n",
      "     12 '1+a:0' '1+a:0'       2\n",
      "     13 '1+a:1' '1+a:1'       2\n",
      "     14 '1+a:a' '1+a:a'       2\n",
      "     15 '1+a:1+a' '1+a:1+a'       2\n",
      "Cayley Table (showing indices):\n",
      "[[0, 1, 2, 3, 4, 5, 6, 7, 8, 9, 10, 11, 12, 13, 14, 15],\n",
      " [1, 0, 3, 2, 5, 4, 7, 6, 9, 8, 11, 10, 13, 12, 15, 14],\n",
      " [2, 3, 0, 1, 6, 7, 4, 5, 10, 11, 8, 9, 14, 15, 12, 13],\n",
      " [3, 2, 1, 0, 7, 6, 5, 4, 11, 10, 9, 8, 15, 14, 13, 12],\n",
      " [4, 5, 6, 7, 0, 1, 2, 3, 12, 13, 14, 15, 8, 9, 10, 11],\n",
      " [5, 4, 7, 6, 1, 0, 3, 2, 13, 12, 15, 14, 9, 8, 11, 10],\n",
      " [6, 7, 4, 5, 2, 3, 0, 1, 14, 15, 12, 13, 10, 11, 8, 9],\n",
      " [7, 6, 5, 4, 3, 2, 1, 0, 15, 14, 13, 12, 11, 10, 9, 8],\n",
      " [8, 9, 10, 11, 12, 13, 14, 15, 0, 1, 2, 3, 4, 5, 6, 7],\n",
      " [9, 8, 11, 10, 13, 12, 15, 14, 1, 0, 3, 2, 5, 4, 7, 6],\n",
      " [10, 11, 8, 9, 14, 15, 12, 13, 2, 3, 0, 1, 6, 7, 4, 5],\n",
      " [11, 10, 9, 8, 15, 14, 13, 12, 3, 2, 1, 0, 7, 6, 5, 4],\n",
      " [12, 13, 14, 15, 8, 9, 10, 11, 4, 5, 6, 7, 0, 1, 2, 3],\n",
      " [13, 12, 15, 14, 9, 8, 11, 10, 5, 4, 7, 6, 1, 0, 3, 2],\n",
      " [14, 15, 12, 13, 10, 11, 8, 9, 6, 7, 4, 5, 2, 3, 0, 1],\n",
      " [15, 14, 13, 12, 11, 10, 9, 8, 7, 6, 5, 4, 3, 2, 1, 0]]\n",
      "Mult. Identity: '1:1'\n",
      "Mult. Commutative? Yes\n",
      "Zero Divisors: ['0:1', '0:a', '0:1+a', '1:0', 'a:0', '1+a:0']\n",
      "Multiplicative Cayley Table (showing indices):\n",
      "[[0, 0, 0, 0, 0, 0, 0, 0, 0, 0, 0, 0, 0, 0, 0, 0],\n",
      " [0, 1, 2, 3, 0, 1, 2, 3, 0, 1, 2, 3, 0, 1, 2, 3],\n",
      " [0, 2, 3, 1, 0, 2, 3, 1, 0, 2, 3, 1, 0, 2, 3, 1],\n",
      " [0, 3, 1, 2, 0, 3, 1, 2, 0, 3, 1, 2, 0, 3, 1, 2],\n",
      " [0, 0, 0, 0, 4, 4, 4, 4, 8, 8, 8, 8, 12, 12, 12, 12],\n",
      " [0, 1, 2, 3, 4, 5, 6, 7, 8, 9, 10, 11, 12, 13, 14, 15],\n",
      " [0, 2, 3, 1, 4, 6, 7, 5, 8, 10, 11, 9, 12, 14, 15, 13],\n",
      " [0, 3, 1, 2, 4, 7, 5, 6, 8, 11, 9, 10, 12, 15, 13, 14],\n",
      " [0, 0, 0, 0, 8, 8, 8, 8, 12, 12, 12, 12, 4, 4, 4, 4],\n",
      " [0, 1, 2, 3, 8, 9, 10, 11, 12, 13, 14, 15, 4, 5, 6, 7],\n",
      " [0, 2, 3, 1, 8, 10, 11, 9, 12, 14, 15, 13, 4, 6, 7, 5],\n",
      " [0, 3, 1, 2, 8, 11, 9, 10, 12, 15, 13, 14, 4, 7, 5, 6],\n",
      " [0, 0, 0, 0, 12, 12, 12, 12, 4, 4, 4, 4, 8, 8, 8, 8],\n",
      " [0, 1, 2, 3, 12, 13, 14, 15, 4, 5, 6, 7, 8, 9, 10, 11],\n",
      " [0, 2, 3, 1, 12, 14, 15, 13, 4, 6, 7, 5, 8, 10, 11, 9],\n",
      " [0, 3, 1, 2, 12, 15, 13, 14, 4, 7, 5, 6, 8, 11, 9, 10]]\n"
     ]
    }
   ],
   "source": [
    ">>> from finite_algebras import NDimensionalVectorSpace\n",
    "\n",
    ">>> n = 2  # We're using a small number of dimensions to limit the amount of printout below\n",
    "\n",
    ">>> vs = NDimensionalVectorSpace(f4, n)\n",
    "\n",
    ">>> vs.about(max_size=16)"
   ]
  },
  {
   "cell_type": "markdown",
   "id": "f7f198da",
   "metadata": {},
   "source": [
    "The <i>scalar</i> and <i>vector</i> components of the Vector Space just created can be accessed as follows:"
   ]
  },
  {
   "cell_type": "code",
   "execution_count": 4,
   "id": "9357213c",
   "metadata": {},
   "outputs": [
    {
     "data": {
      "text/plain": [
       "Field(\n",
       "'F4',\n",
       "'Field with 4 elements (from Wikipedia)',\n",
       "['0', '1', 'a', '1+a'],\n",
       "[[0, 1, 2, 3], [1, 0, 3, 2], [2, 3, 0, 1], [3, 2, 1, 0]],\n",
       "[[0, 0, 0, 0], [0, 1, 2, 3], [0, 2, 3, 1], [0, 3, 1, 2]]\n",
       ")"
      ]
     },
     "execution_count": 4,
     "metadata": {},
     "output_type": "execute_result"
    }
   ],
   "source": [
    ">>> vs.scalar"
   ]
  },
  {
   "cell_type": "code",
   "execution_count": 5,
   "id": "6c845601",
   "metadata": {},
   "outputs": [
    {
     "data": {
      "text/plain": [
       "Ring(\n",
       "'F4_x_F4',\n",
       "'Direct product of F4 & F4',\n",
       "['0:0', '0:1', '0:a', '0:1+a', '1:0', '1:1', '1:a', '1:1+a', 'a:0', 'a:1', 'a:a', 'a:1+a', '1+a:0', '1+a:1', '1+a:a', '1+a:1+a'],\n",
       "[[0, 1, 2, 3, 4, 5, 6, 7, 8, 9, 10, 11, 12, 13, 14, 15], [1, 0, 3, 2, 5, 4, 7, 6, 9, 8, 11, 10, 13, 12, 15, 14], [2, 3, 0, 1, 6, 7, 4, 5, 10, 11, 8, 9, 14, 15, 12, 13], [3, 2, 1, 0, 7, 6, 5, 4, 11, 10, 9, 8, 15, 14, 13, 12], [4, 5, 6, 7, 0, 1, 2, 3, 12, 13, 14, 15, 8, 9, 10, 11], [5, 4, 7, 6, 1, 0, 3, 2, 13, 12, 15, 14, 9, 8, 11, 10], [6, 7, 4, 5, 2, 3, 0, 1, 14, 15, 12, 13, 10, 11, 8, 9], [7, 6, 5, 4, 3, 2, 1, 0, 15, 14, 13, 12, 11, 10, 9, 8], [8, 9, 10, 11, 12, 13, 14, 15, 0, 1, 2, 3, 4, 5, 6, 7], [9, 8, 11, 10, 13, 12, 15, 14, 1, 0, 3, 2, 5, 4, 7, 6], [10, 11, 8, 9, 14, 15, 12, 13, 2, 3, 0, 1, 6, 7, 4, 5], [11, 10, 9, 8, 15, 14, 13, 12, 3, 2, 1, 0, 7, 6, 5, 4], [12, 13, 14, 15, 8, 9, 10, 11, 4, 5, 6, 7, 0, 1, 2, 3], [13, 12, 15, 14, 9, 8, 11, 10, 5, 4, 7, 6, 1, 0, 3, 2], [14, 15, 12, 13, 10, 11, 8, 9, 6, 7, 4, 5, 2, 3, 0, 1], [15, 14, 13, 12, 11, 10, 9, 8, 7, 6, 5, 4, 3, 2, 1, 0]],\n",
       "[[0, 0, 0, 0, 0, 0, 0, 0, 0, 0, 0, 0, 0, 0, 0, 0], [0, 1, 2, 3, 0, 1, 2, 3, 0, 1, 2, 3, 0, 1, 2, 3], [0, 2, 3, 1, 0, 2, 3, 1, 0, 2, 3, 1, 0, 2, 3, 1], [0, 3, 1, 2, 0, 3, 1, 2, 0, 3, 1, 2, 0, 3, 1, 2], [0, 0, 0, 0, 4, 4, 4, 4, 8, 8, 8, 8, 12, 12, 12, 12], [0, 1, 2, 3, 4, 5, 6, 7, 8, 9, 10, 11, 12, 13, 14, 15], [0, 2, 3, 1, 4, 6, 7, 5, 8, 10, 11, 9, 12, 14, 15, 13], [0, 3, 1, 2, 4, 7, 5, 6, 8, 11, 9, 10, 12, 15, 13, 14], [0, 0, 0, 0, 8, 8, 8, 8, 12, 12, 12, 12, 4, 4, 4, 4], [0, 1, 2, 3, 8, 9, 10, 11, 12, 13, 14, 15, 4, 5, 6, 7], [0, 2, 3, 1, 8, 10, 11, 9, 12, 14, 15, 13, 4, 6, 7, 5], [0, 3, 1, 2, 8, 11, 9, 10, 12, 15, 13, 14, 4, 7, 5, 6], [0, 0, 0, 0, 12, 12, 12, 12, 4, 4, 4, 4, 8, 8, 8, 8], [0, 1, 2, 3, 12, 13, 14, 15, 4, 5, 6, 7, 8, 9, 10, 11], [0, 2, 3, 1, 12, 14, 15, 13, 4, 6, 7, 5, 8, 10, 11, 9], [0, 3, 1, 2, 12, 15, 13, 14, 4, 7, 5, 6, 8, 11, 9, 10]]\n",
       ")"
      ]
     },
     "execution_count": 5,
     "metadata": {},
     "output_type": "execute_result"
    }
   ],
   "source": [
    ">>> vs.vector"
   ]
  },
  {
   "cell_type": "markdown",
   "id": "575dbe0b",
   "metadata": {},
   "source": [
    "And the scalar and vector elements of the VectorSpace can be obtained as follows:"
   ]
  },
  {
   "cell_type": "code",
   "execution_count": 6,
   "id": "b26261bf",
   "metadata": {},
   "outputs": [
    {
     "data": {
      "text/plain": [
       "['0', '1', 'a', '1+a']"
      ]
     },
     "execution_count": 6,
     "metadata": {},
     "output_type": "execute_result"
    }
   ],
   "source": [
    ">>> vs.scalar.elements"
   ]
  },
  {
   "cell_type": "code",
   "execution_count": 7,
   "id": "b28de346",
   "metadata": {},
   "outputs": [
    {
     "data": {
      "text/plain": [
       "['0:0',\n",
       " '0:1',\n",
       " '0:a',\n",
       " '0:1+a',\n",
       " '1:0',\n",
       " '1:1',\n",
       " '1:a',\n",
       " '1:1+a',\n",
       " 'a:0',\n",
       " 'a:1',\n",
       " 'a:a',\n",
       " 'a:1+a',\n",
       " '1+a:0',\n",
       " '1+a:1',\n",
       " '1+a:a',\n",
       " '1+a:1+a']"
      ]
     },
     "execution_count": 7,
     "metadata": {},
     "output_type": "execute_result"
    }
   ],
   "source": [
    ">>> vs.vector.elements"
   ]
  },
  {
   "cell_type": "markdown",
   "id": "15759aed",
   "metadata": {},
   "source": [
    "Scalar addition and multiplication is just the addition and multiplication operations of the Field (Scalars) used to create the VectorSpace (or Module)"
   ]
  },
  {
   "cell_type": "code",
   "execution_count": 8,
   "id": "fc097143",
   "metadata": {},
   "outputs": [
    {
     "data": {
      "text/plain": [
       "'1+a'"
      ]
     },
     "execution_count": 8,
     "metadata": {},
     "output_type": "execute_result"
    }
   ],
   "source": [
    ">>> vs.scalar.add('1', 'a')"
   ]
  },
  {
   "cell_type": "code",
   "execution_count": 9,
   "id": "85ad0a51",
   "metadata": {},
   "outputs": [
    {
     "data": {
      "text/plain": [
       "'1+a'"
      ]
     },
     "execution_count": 9,
     "metadata": {},
     "output_type": "execute_result"
    }
   ],
   "source": [
    ">>> vs.scalar.mult('a', 'a')"
   ]
  },
  {
   "cell_type": "markdown",
   "id": "37dcd00a",
   "metadata": {},
   "source": [
    "Vector addition is just the binary operation of the Group (Vectors) used to create the Vector Space (or Module)"
   ]
  },
  {
   "cell_type": "code",
   "execution_count": 10,
   "id": "823c26e0",
   "metadata": {},
   "outputs": [
    {
     "data": {
      "text/plain": [
       "'a:1+a'"
      ]
     },
     "execution_count": 10,
     "metadata": {},
     "output_type": "execute_result"
    }
   ],
   "source": [
    ">>> vs.vector_add('1+a:1', '1:a')  # Same as vs.vector.op('1+a:1', '1:a')"
   ]
  },
  {
   "cell_type": "markdown",
   "id": "f39a9394",
   "metadata": {},
   "source": [
    "And, since the *scalar* part of a VectorSpace is a Field, we can obtain it's identity elements as follows:"
   ]
  },
  {
   "cell_type": "code",
   "execution_count": 11,
   "id": "52c85c39",
   "metadata": {},
   "outputs": [
    {
     "data": {
      "text/plain": [
       "'0'"
      ]
     },
     "execution_count": 11,
     "metadata": {},
     "output_type": "execute_result"
    }
   ],
   "source": [
    ">>> vs.scalar.zero"
   ]
  },
  {
   "cell_type": "code",
   "execution_count": 12,
   "id": "ffe6148a",
   "metadata": {},
   "outputs": [
    {
     "data": {
      "text/plain": [
       "'1'"
      ]
     },
     "execution_count": 12,
     "metadata": {},
     "output_type": "execute_result"
    }
   ],
   "source": [
    ">>> vs.scalar.one"
   ]
  },
  {
   "cell_type": "markdown",
   "id": "c33ae34b",
   "metadata": {},
   "source": [
    "The scalar-vector operation for scaling Vectors (or Modules) is the VectorSpace method, ``sv_mult``, and takes two inputs: a scalar and vector, resp."
   ]
  },
  {
   "cell_type": "code",
   "execution_count": 13,
   "id": "1b314754",
   "metadata": {},
   "outputs": [
    {
     "data": {
      "text/plain": [
       "'1:a'"
      ]
     },
     "execution_count": 13,
     "metadata": {},
     "output_type": "execute_result"
    }
   ],
   "source": [
    ">>> vs.sv_mult('a', '1+a:1')"
   ]
  },
  {
   "cell_type": "markdown",
   "id": "5da4f999",
   "metadata": {},
   "source": [
    "### VectorSpace/Module Conditions"
   ]
  },
  {
   "cell_type": "markdown",
   "id": "105f0981",
   "metadata": {},
   "source": [
    "Recall the five conditions imposed a VectorSpace or Module (listed below):\n",
    "\n",
    "1. Scaled Vectors: For all $s \\in S$ and $v \\in V \\Rightarrow s \\circ v \\in V$\n",
    "1. Scaling by One: If $1 \\in S$ is the multiplicative identity element of $F$, then $1 \\circ v = v$\n",
    "1. Distributivity of Scalars Over Vector Addition: $s \\circ (v_1 \\oplus v_2) = (s \\circ v_1) \\oplus (s \\circ v_2)$\n",
    "1. Distributivity of Vectors Over Scalar Addition: $(s_1 + s_2) \\circ v = (s_1 \\circ v) \\oplus (s_2 \\circ v)$\n",
    "1. Scalar-Vector Associativity: $s_1 \\circ (s_2 \\circ v) = (s_1 \\cdot s_2) \\circ v$\n",
    "\n",
    "The following five sections provide examples that illustrate each condition."
   ]
  },
  {
   "cell_type": "markdown",
   "id": "5ec6c55d",
   "metadata": {},
   "source": [
    "**1. Scaled Vectors**"
   ]
  },
  {
   "cell_type": "code",
   "execution_count": 14,
   "id": "0a6fdda4",
   "metadata": {},
   "outputs": [
    {
     "name": "stdout",
     "output_type": "stream",
     "text": [
      "sv = a * a:a = 1+a:1+a\n",
      "Is sv a vector? True\n"
     ]
    }
   ],
   "source": [
    ">>> s = 'a'\n",
    ">>> v = 'a:a'\n",
    ">>> sv = vs.sv_mult(s, v)\n",
    "\n",
    ">>> print(f\"sv = {s} * {v} = {vs.sv_mult(s, v)}\")\n",
    ">>> print(f\"Is sv a vector? {sv in vs.vector.elements}\")"
   ]
  },
  {
   "cell_type": "markdown",
   "id": "9e17ff35",
   "metadata": {},
   "source": [
    "**2. Scaling by One**"
   ]
  },
  {
   "cell_type": "markdown",
   "id": "39a8ead1",
   "metadata": {},
   "source": [
    "If $\\mathscr{1} \\in S$ is the multiplicative identity element of $\\mathscr{F}$, then $\\mathscr{1} \\circ v = v$"
   ]
  },
  {
   "cell_type": "code",
   "execution_count": 15,
   "id": "7f001dcd",
   "metadata": {},
   "outputs": [
    {
     "name": "stdout",
     "output_type": "stream",
     "text": [
      "a:1+a\n"
     ]
    }
   ],
   "source": [
    ">>> print(vs.sv_mult(vs.scalar.one, 'a:1+a'))"
   ]
  },
  {
   "cell_type": "markdown",
   "id": "5875cd80",
   "metadata": {},
   "source": [
    "**3. Distributivity of Scalars Over Vector Addition**"
   ]
  },
  {
   "cell_type": "markdown",
   "id": "c454dd68",
   "metadata": {},
   "source": [
    "$s \\circ (v_1 \\oplus v_2) = (s \\circ v_1) \\oplus (s \\circ v_2)$"
   ]
  },
  {
   "cell_type": "code",
   "execution_count": 16,
   "id": "4af54aab",
   "metadata": {},
   "outputs": [],
   "source": [
    ">>> s = 'a'\n",
    ">>> v1 = 'a:1+a'\n",
    ">>> v2 = 'a:1'"
   ]
  },
  {
   "cell_type": "markdown",
   "id": "baae79a3",
   "metadata": {},
   "source": [
    "$s \\circ (v_1 \\oplus v_2)$"
   ]
  },
  {
   "cell_type": "code",
   "execution_count": 17,
   "id": "53d774d1",
   "metadata": {},
   "outputs": [
    {
     "name": "stdout",
     "output_type": "stream",
     "text": [
      "0:1+a\n"
     ]
    }
   ],
   "source": [
    ">>> print(vs.sv_mult(s, vs.vector_add(v1, v2)))"
   ]
  },
  {
   "cell_type": "markdown",
   "id": "04f396b8",
   "metadata": {},
   "source": [
    "$(s \\circ v_1) \\oplus (s \\circ v_2)$"
   ]
  },
  {
   "cell_type": "code",
   "execution_count": 18,
   "id": "c8a2f37e",
   "metadata": {},
   "outputs": [
    {
     "name": "stdout",
     "output_type": "stream",
     "text": [
      "0:1+a\n"
     ]
    }
   ],
   "source": [
    ">>> print(vs.vector_add(vs.sv_mult(s, v1), vs.sv_mult(s, v2)))"
   ]
  },
  {
   "cell_type": "markdown",
   "id": "1654c147",
   "metadata": {},
   "source": [
    "**4. Distributivity of Vectors Over Scalar Addition**"
   ]
  },
  {
   "cell_type": "markdown",
   "id": "2b0963a6",
   "metadata": {},
   "source": [
    "$(s_1 + s_2) \\circ v = (s_1 \\circ v) \\oplus (s_2 \\circ v)$"
   ]
  },
  {
   "cell_type": "code",
   "execution_count": 19,
   "id": "6fc857da",
   "metadata": {},
   "outputs": [],
   "source": [
    ">>> s1 = 'a'\n",
    ">>> s2 = '1+a'\n",
    ">>> v = 'a:1'"
   ]
  },
  {
   "cell_type": "markdown",
   "id": "0b1245e5",
   "metadata": {},
   "source": [
    "$(s_1 + s_2) \\circ v$"
   ]
  },
  {
   "cell_type": "code",
   "execution_count": 20,
   "id": "7c6c0a00",
   "metadata": {},
   "outputs": [
    {
     "name": "stdout",
     "output_type": "stream",
     "text": [
      "a:1\n"
     ]
    }
   ],
   "source": [
    ">>> print(vs.sv_mult(vs.scalar.add(s1, s2), v))"
   ]
  },
  {
   "cell_type": "markdown",
   "id": "b20a58fa",
   "metadata": {},
   "source": [
    "$(s_1 \\circ v) \\oplus (s_2 \\circ v)$"
   ]
  },
  {
   "cell_type": "code",
   "execution_count": 21,
   "id": "1d93733f",
   "metadata": {},
   "outputs": [
    {
     "name": "stdout",
     "output_type": "stream",
     "text": [
      "a:1\n"
     ]
    }
   ],
   "source": [
    ">>> print(vs.vector_add(vs.sv_mult(s1, v), vs.sv_mult(s2, v)))"
   ]
  },
  {
   "cell_type": "markdown",
   "id": "e3d8cd4d",
   "metadata": {},
   "source": [
    "**5. Scalar-Vector Associativity**"
   ]
  },
  {
   "cell_type": "markdown",
   "id": "431f49be",
   "metadata": {},
   "source": [
    "$s_1 \\circ (s_2 \\circ v) = (s_1 \\times s_2) \\circ v$"
   ]
  },
  {
   "cell_type": "code",
   "execution_count": 22,
   "id": "9f1a37ff",
   "metadata": {},
   "outputs": [],
   "source": [
    ">>> s1 = 'a'\n",
    ">>> s2 = '1+a'\n",
    ">>> v = 'a:1'"
   ]
  },
  {
   "cell_type": "markdown",
   "id": "2c2bcfb0",
   "metadata": {},
   "source": [
    "$s_1 \\circ (s_2 \\circ v)$"
   ]
  },
  {
   "cell_type": "code",
   "execution_count": 23,
   "id": "4daa5bd3",
   "metadata": {},
   "outputs": [
    {
     "name": "stdout",
     "output_type": "stream",
     "text": [
      "a:1\n"
     ]
    }
   ],
   "source": [
    ">>> print(vs.sv_mult(s1, vs.sv_mult(s2, v)))"
   ]
  },
  {
   "cell_type": "markdown",
   "id": "b8beeb81",
   "metadata": {},
   "source": [
    "$(s_1 \\times s_2) \\circ v$"
   ]
  },
  {
   "cell_type": "code",
   "execution_count": 24,
   "id": "fc8a405d",
   "metadata": {},
   "outputs": [
    {
     "name": "stdout",
     "output_type": "stream",
     "text": [
      "a:1\n"
     ]
    }
   ],
   "source": [
    ">>> print(vs.sv_mult(vs.scalar.mult(s1, s2), v))"
   ]
  },
  {
   "cell_type": "markdown",
   "id": "c3bc25fe",
   "metadata": {},
   "source": [
    "## A Finite, n-Dimensional Module"
   ]
  },
  {
   "cell_type": "markdown",
   "id": "f7d384b9",
   "metadata": {},
   "source": [
    "Here's another example using the technique presented above, but this time with a Ring instead of a Field.\n",
    "\n",
    "First, the Ring:"
   ]
  },
  {
   "cell_type": "code",
   "execution_count": 25,
   "id": "05fcd81a",
   "metadata": {},
   "outputs": [
    {
     "name": "stdout",
     "output_type": "stream",
     "text": [
      "\n",
      "** Ring **\n",
      "Name: PSRing2\n",
      "Instance ID: 4596554320\n",
      "Description: Autogenerated Ring on powerset of {0, 1} w/ symm. diff. (add) & intersection (mult)\n",
      "Order: 4\n",
      "Identity: '{}'\n",
      "Commutative? Yes\n",
      "Cyclic?: No\n",
      "Generators: [('{0}', '{0, 1}'), ('{0}', '{1}')], plus 1 more.\n",
      "Elements:\n",
      "   Index   Name   Inverse  Order\n",
      "      0    '{}'    '{}'       1\n",
      "      1   '{0}'   '{0}'       2\n",
      "      2   '{1}'   '{1}'       2\n",
      "      3 '{0, 1}' '{0, 1}'       2\n",
      "Cayley Table (showing indices):\n",
      "[[0, 1, 2, 3], [1, 0, 3, 2], [2, 3, 0, 1], [3, 2, 1, 0]]\n",
      "Mult. Identity: '{0, 1}'\n",
      "Mult. Commutative? Yes\n",
      "Zero Divisors: ['{0}', '{1}']\n",
      "Multiplicative Cayley Table (showing indices):\n",
      "[[0, 0, 0, 0], [0, 1, 0, 1], [0, 0, 2, 2], [0, 1, 2, 3]]\n"
     ]
    }
   ],
   "source": [
    ">>> from finite_algebras import generate_powerset_ring\n",
    ">>> psr2 = generate_powerset_ring(2)\n",
    ">>> psr2.about()"
   ]
  },
  {
   "cell_type": "markdown",
   "id": "5161e876",
   "metadata": {},
   "source": [
    "And here's the finite, n-dimensional Module based on the Ring, above:"
   ]
  },
  {
   "cell_type": "code",
   "execution_count": 26,
   "id": "62e9d830",
   "metadata": {},
   "outputs": [
    {
     "name": "stdout",
     "output_type": "stream",
     "text": [
      "\n",
      "NDimensionalModule: 2D-PSRing2\n",
      "Instance ID: 4631063952\n",
      "Description: 2-dimensional Module over PSRing2\n",
      "\n",
      "SCALARS:\n",
      "\n",
      "** Ring **\n",
      "Name: PSRing2\n",
      "Instance ID: 4596554320\n",
      "Description: Autogenerated Ring on powerset of {0, 1} w/ symm. diff. (add) & intersection (mult)\n",
      "Order: 4\n",
      "Identity: '{}'\n",
      "Commutative? Yes\n",
      "Cyclic?: No\n",
      "Generators: [('{0}', '{0, 1}'), ('{0}', '{1}')], plus 1 more.\n",
      "Elements:\n",
      "   Index   Name   Inverse  Order\n",
      "      0    '{}'    '{}'       1\n",
      "      1   '{0}'   '{0}'       2\n",
      "      2   '{1}'   '{1}'       2\n",
      "      3 '{0, 1}' '{0, 1}'       2\n",
      "Cayley Table (showing indices):\n",
      "[[0, 1, 2, 3], [1, 0, 3, 2], [2, 3, 0, 1], [3, 2, 1, 0]]\n",
      "Mult. Identity: '{0, 1}'\n",
      "Mult. Commutative? Yes\n",
      "Zero Divisors: ['{0}', '{1}']\n",
      "Multiplicative Cayley Table (showing indices):\n",
      "[[0, 0, 0, 0], [0, 1, 0, 1], [0, 0, 2, 2], [0, 1, 2, 3]]\n",
      "\n",
      "VECTORS:\n",
      "\n",
      "** Ring **\n",
      "Name: PSRing2_x_PSRing2\n",
      "Instance ID: 4617336336\n",
      "Description: Direct product of PSRing2 & PSRing2\n",
      "Order: 16\n",
      "Identity: '{}:{}'\n",
      "Commutative? Yes\n",
      "Cyclic?: No\n",
      "Generators: [('{0}:{0, 1}', '{0, 1}:{0}', '{0, 1}:{1}'), ('{0}:{0, 1}', '{0, 1}:{}', '{0, 1}:{0}')], plus 138 more.\n",
      "Elements:\n",
      "   Index   Name   Inverse  Order\n",
      "      0 '{}:{}' '{}:{}'       1\n",
      "      1 '{}:{0}' '{}:{0}'       2\n",
      "      2 '{}:{1}' '{}:{1}'       2\n",
      "      3 '{}:{0, 1}' '{}:{0, 1}'       2\n",
      "      4 '{0}:{}' '{0}:{}'       2\n",
      "      5 '{0}:{0}' '{0}:{0}'       2\n",
      "      6 '{0}:{1}' '{0}:{1}'       2\n",
      "      7 '{0}:{0, 1}' '{0}:{0, 1}'       2\n",
      "      8 '{1}:{}' '{1}:{}'       2\n",
      "      9 '{1}:{0}' '{1}:{0}'       2\n",
      "     10 '{1}:{1}' '{1}:{1}'       2\n",
      "     11 '{1}:{0, 1}' '{1}:{0, 1}'       2\n",
      "     12 '{0, 1}:{}' '{0, 1}:{}'       2\n",
      "     13 '{0, 1}:{0}' '{0, 1}:{0}'       2\n",
      "     14 '{0, 1}:{1}' '{0, 1}:{1}'       2\n",
      "     15 '{0, 1}:{0, 1}' '{0, 1}:{0, 1}'       2\n",
      "Cayley Table (showing indices):\n",
      "[[0, 1, 2, 3, 4, 5, 6, 7, 8, 9, 10, 11, 12, 13, 14, 15],\n",
      " [1, 0, 3, 2, 5, 4, 7, 6, 9, 8, 11, 10, 13, 12, 15, 14],\n",
      " [2, 3, 0, 1, 6, 7, 4, 5, 10, 11, 8, 9, 14, 15, 12, 13],\n",
      " [3, 2, 1, 0, 7, 6, 5, 4, 11, 10, 9, 8, 15, 14, 13, 12],\n",
      " [4, 5, 6, 7, 0, 1, 2, 3, 12, 13, 14, 15, 8, 9, 10, 11],\n",
      " [5, 4, 7, 6, 1, 0, 3, 2, 13, 12, 15, 14, 9, 8, 11, 10],\n",
      " [6, 7, 4, 5, 2, 3, 0, 1, 14, 15, 12, 13, 10, 11, 8, 9],\n",
      " [7, 6, 5, 4, 3, 2, 1, 0, 15, 14, 13, 12, 11, 10, 9, 8],\n",
      " [8, 9, 10, 11, 12, 13, 14, 15, 0, 1, 2, 3, 4, 5, 6, 7],\n",
      " [9, 8, 11, 10, 13, 12, 15, 14, 1, 0, 3, 2, 5, 4, 7, 6],\n",
      " [10, 11, 8, 9, 14, 15, 12, 13, 2, 3, 0, 1, 6, 7, 4, 5],\n",
      " [11, 10, 9, 8, 15, 14, 13, 12, 3, 2, 1, 0, 7, 6, 5, 4],\n",
      " [12, 13, 14, 15, 8, 9, 10, 11, 4, 5, 6, 7, 0, 1, 2, 3],\n",
      " [13, 12, 15, 14, 9, 8, 11, 10, 5, 4, 7, 6, 1, 0, 3, 2],\n",
      " [14, 15, 12, 13, 10, 11, 8, 9, 6, 7, 4, 5, 2, 3, 0, 1],\n",
      " [15, 14, 13, 12, 11, 10, 9, 8, 7, 6, 5, 4, 3, 2, 1, 0]]\n",
      "Mult. Identity: '{0, 1}:{0, 1}'\n",
      "Mult. Commutative? Yes\n",
      "Zero Divisors: ['{}:{0}', '{}:{1}', '{}:{0, 1}', '{0}:{}', '{0}:{0}', '{0}:{1}', '{0}:{0, 1}', '{1}:{}', '{1}:{0}', '{1}:{1}', '{1}:{0, 1}', '{0, 1}:{}', '{0, 1}:{0}', '{0, 1}:{1}']\n",
      "Multiplicative Cayley Table (showing indices):\n",
      "[[0, 0, 0, 0, 0, 0, 0, 0, 0, 0, 0, 0, 0, 0, 0, 0],\n",
      " [0, 1, 0, 1, 0, 1, 0, 1, 0, 1, 0, 1, 0, 1, 0, 1],\n",
      " [0, 0, 2, 2, 0, 0, 2, 2, 0, 0, 2, 2, 0, 0, 2, 2],\n",
      " [0, 1, 2, 3, 0, 1, 2, 3, 0, 1, 2, 3, 0, 1, 2, 3],\n",
      " [0, 0, 0, 0, 4, 4, 4, 4, 0, 0, 0, 0, 4, 4, 4, 4],\n",
      " [0, 1, 0, 1, 4, 5, 4, 5, 0, 1, 0, 1, 4, 5, 4, 5],\n",
      " [0, 0, 2, 2, 4, 4, 6, 6, 0, 0, 2, 2, 4, 4, 6, 6],\n",
      " [0, 1, 2, 3, 4, 5, 6, 7, 0, 1, 2, 3, 4, 5, 6, 7],\n",
      " [0, 0, 0, 0, 0, 0, 0, 0, 8, 8, 8, 8, 8, 8, 8, 8],\n",
      " [0, 1, 0, 1, 0, 1, 0, 1, 8, 9, 8, 9, 8, 9, 8, 9],\n",
      " [0, 0, 2, 2, 0, 0, 2, 2, 8, 8, 10, 10, 8, 8, 10, 10],\n",
      " [0, 1, 2, 3, 0, 1, 2, 3, 8, 9, 10, 11, 8, 9, 10, 11],\n",
      " [0, 0, 0, 0, 4, 4, 4, 4, 8, 8, 8, 8, 12, 12, 12, 12],\n",
      " [0, 1, 0, 1, 4, 5, 4, 5, 8, 9, 8, 9, 12, 13, 12, 13],\n",
      " [0, 0, 2, 2, 4, 4, 6, 6, 8, 8, 10, 10, 12, 12, 14, 14],\n",
      " [0, 1, 2, 3, 4, 5, 6, 7, 8, 9, 10, 11, 12, 13, 14, 15]]\n"
     ]
    }
   ],
   "source": [
    ">>> from finite_algebras import NDimensionalModule\n",
    "\n",
    ">>> n = 2\n",
    ">>> psr_mod = NDimensionalModule(psr2, n)\n",
    ">>> psr_mod.about(max_size=16)"
   ]
  }
 ],
 "metadata": {
  "kernelspec": {
   "display_name": "Python 3 (ipykernel)",
   "language": "python",
   "name": "python3"
  },
  "language_info": {
   "codemirror_mode": {
    "name": "ipython",
    "version": 3
   },
   "file_extension": ".py",
   "mimetype": "text/x-python",
   "name": "python",
   "nbconvert_exporter": "python",
   "pygments_lexer": "ipython3",
   "version": "3.11.5"
  }
 },
 "nbformat": 4,
 "nbformat_minor": 5
}
