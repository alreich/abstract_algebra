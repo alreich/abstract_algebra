{
 "cells": [
  {
   "cell_type": "markdown",
   "id": "d730fcc0",
   "metadata": {},
   "source": [
    "# Introduction"
   ]
  },
  {
   "cell_type": "markdown",
   "id": "732e4ec6",
   "metadata": {},
   "source": [
    "## Groups"
   ]
  },
  {
   "cell_type": "markdown",
   "id": "1330c79e",
   "metadata": {},
   "source": [
    "A group, $G = (S, \\otimes)$, consists of a set, $S$, and a binary operation, $\\otimes: S \\times S \\to S$ such that:\n",
    "\n",
    "1. $\\otimes$ assigns a unique value, $a \\otimes b \\in S$, for every $(a,b) \\in S \\times S$.\n",
    "1. $\\otimes$ is <i>associative</i>.  That is, for any $a,b,c \\in S \\Rightarrow a \\otimes (b \\otimes c) = (a \\otimes b) \\otimes c$.\n",
    "1. There is an <i>identity</i> element $e \\in S$, such that, for all $a \\in S, a \\otimes e = e \\otimes a = a$.\n",
    "1. Every element $a \\in S$ has an <i>inverse</i> element, $a^{-1} \\in S$, such that, $a \\otimes a^{-1} = a^{-1} \n",
    "\\otimes a = e$."
   ]
  },
  {
   "cell_type": "code",
   "execution_count": null,
   "id": "02ae9ef0",
   "metadata": {},
   "outputs": [],
   "source": []
  }
 ],
 "metadata": {
  "kernelspec": {
   "display_name": "Python 3",
   "language": "python",
   "name": "python3"
  },
  "language_info": {
   "codemirror_mode": {
    "name": "ipython",
    "version": 3
   },
   "file_extension": ".py",
   "mimetype": "text/x-python",
   "name": "python",
   "nbconvert_exporter": "python",
   "pygments_lexer": "ipython3",
   "version": "3.7.7"
  }
 },
 "nbformat": 4,
 "nbformat_minor": 5
}
