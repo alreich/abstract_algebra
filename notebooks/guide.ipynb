{
 "cells": [
  {
   "cell_type": "markdown",
   "id": "2f0a316e",
   "metadata": {},
   "source": [
    "# User Guide"
   ]
  },
  {
   "cell_type": "markdown",
   "id": "83606ac9",
   "metadata": {},
   "source": [
    "## Class Hierarchy"
   ]
  },
  {
   "cell_type": "markdown",
   "id": "e0c148d0",
   "metadata": {},
   "source": [
    "$\\langle FiniteAlgebra \\rangle \\rightarrow$ Magma $\\rightarrow$ Semigroup $\\rightarrow$ Monoid $\\rightarrow$ Group $\\rightarrow$ Ring $\\rightarrow$ Field"
   ]
  },
  {
   "cell_type": "markdown",
   "id": "0c419bbd",
   "metadata": {},
   "source": [
    "* **Magma** -- a set with a binary operation:  $\\langle S, \\circ \\rangle$, where $S$ is a finite set and $\\circ: S \\times S \\to S$\n",
    "\n",
    "* **Semigroup** -- an associative Magma:  for any $a,b,c \\in S \\Rightarrow a \\circ (b \\circ c) = (a \\circ b) \\circ c$\n",
    "\n",
    "* **Monoid** -- a Semigroup with identity element:  $\\exists e \\in S$, such that, for all $a \\in S, a \\circ e = e \\circ a = a$\n",
    "\n",
    "* **Group** -- a Monoid with inverse elements:  $\\forall a \\in S, \\exists a^{-1} \\in S$, such that, $a \\circ a^{-1} = a^{-1} \n",
    "\\circ a = e$\n",
    "\n",
    "* **Ring** -- $\\langle S, +, \\times \\rangle$, where $\\langle S, + \\rangle$ is a commutative Group, $\\langle S, \\times \\rangle$ is a Semigroup, and $\\times$ distributes over $+$\n",
    "\n",
    "* **Field** -- a Ring $\\langle S, +, \\times \\rangle$, where $\\langle S\\setminus{\\{0\\}}, \\times \\rangle$ is a commutative Group."
   ]
  },
  {
   "cell_type": "markdown",
   "id": "3f31b247",
   "metadata": {},
   "source": [
    "## Finite Algebra: Internal Representation\n",
    "\n",
    "Internally, a ``FiniteAlgebra`` consists of the following quantities:\n",
    "\n",
    "* **name**: (``str``) A short name for the algebra;\n",
    "* **description**: (``str``) Any additional, useful information about the algebra;\n",
    "* **elements**: (``list`` of ``str``) Names of the algebras’s elements.\n",
    "* **table**: (``list`` of ``list`` of ``int``) The algebra’s multiplication\n",
    "  table, where each list in the list represents a row of the table, and\n",
    "  each integer represents the position of an element in ‘element_names’.\n",
    "  Optionally, element names (``str``) may be used in the table, rather \n",
    "  than integers.\n",
    "* **table2**: (OPTIONAL) Similar to *table*, above. Required when defining a Ring or Field.\n",
    "\n",
    "**NOTE**: The type of table required here is known as a [Cayley Table](https://en.wikipedia.org/wiki/Cayley_table).  All of the properties of a finite algebra can be derived from its Cayley Table.  For this reason, this module includes a ``CayleyTable`` class for storing the table and methods associated with it."
   ]
  },
  {
   "cell_type": "markdown",
   "id": "67608caa",
   "metadata": {},
   "source": [
    "## Algebra Constuction Examples"
   ]
  },
  {
   "cell_type": "markdown",
   "id": "eb6166d1",
   "metadata": {},
   "source": [
    "In a nutshell, use the function, ``make_finite_algebra`` for all algebra construction.\n",
    "\n",
    "Although individual algebras (Magma, Semigroup, etc.) have their own individual constructors, requiring the quantities described above, the **recommended** way to construct an algebra is to use the function, ``make_finite_algebra``, using one of the following three approaches to inputs:\n",
    "\n",
    "1. Enter **individual values** corresponding to the quantities in its Internal Representation, described above.\n",
    "1. Enter a **Python dictionary** (``dict``), with keys and values corresponding to the individual values, described above.\n",
    "1. Enter the **path to a JSON file** (``str``) that corresponds to the dictionary, described above.\n",
    "   \n",
    "``make_finite_algebra`` uses the table(s) to determine what type of algebra it supports and returns the appropriate algebra."
   ]
  },
  {
   "cell_type": "markdown",
   "id": "5d2ab04e",
   "metadata": {},
   "source": [
    "In the following examples, the only algebra constructor used is ``make_finite_algebra``."
   ]
  },
  {
   "cell_type": "markdown",
   "id": "1da3c781",
   "metadata": {},
   "source": [
    "### Group"
   ]
  },
  {
   "cell_type": "markdown",
   "id": "5ba77194",
   "metadata": {},
   "source": [
    "We'll start in the middle of the hierarchy of algebras, the Group.\n",
    "\n",
    "Finite algebra elements, here, are always represented as strings; and, although a Cayley table can be entered (and displayed) using strings, they are represented internally (and displayed by default) as 2-dimensional, square arrays of integers that represent the positions of elements in the element list."
   ]
  },
  {
   "cell_type": "code",
   "execution_count": 1,
   "id": "42096f2c",
   "metadata": {},
   "outputs": [
    {
     "data": {
      "text/plain": [
       "Group(\n",
       "'Z3',\n",
       "'Cyclic group of order 3',\n",
       "['e', 'a', 'a^2'],\n",
       "[[0, 1, 2], [1, 2, 0], [2, 0, 1]]\n",
       ")"
      ]
     },
     "execution_count": 1,
     "metadata": {},
     "output_type": "execute_result"
    }
   ],
   "source": [
    ">>> from finite_algebras import make_finite_algebra\n",
    "\n",
    ">>> z3 = make_finite_algebra('Z3',\n",
    "                             'Cyclic group of order 3',\n",
    "                             ['e', 'a', 'a^2'],\n",
    "                             [[ 'e' ,  'a' , 'a^2'],\n",
    "                              [ 'a' , 'a^2',  'e' ],\n",
    "                              ['a^2',  'e' ,  'a' ]]\n",
    "                            )\n",
    ">>> z3"
   ]
  },
  {
   "cell_type": "markdown",
   "id": "46fe66f8",
   "metadata": {},
   "source": [
    "Printing an algebra converts it to a string containing its class name, algebra name, and the unique ID of the algebra instance:"
   ]
  },
  {
   "cell_type": "code",
   "execution_count": 2,
   "id": "0382d4bd",
   "metadata": {},
   "outputs": [
    {
     "name": "stdout",
     "output_type": "stream",
     "text": [
      "<Group:Z3, ID:140614277101456>\n"
     ]
    }
   ],
   "source": [
    ">>> print(z3)"
   ]
  },
  {
   "cell_type": "markdown",
   "id": "1b2abb43",
   "metadata": {},
   "source": [
    "The ``about`` prints information about an algebra.  Set ``use_element_names`` to ``True`` to see the Cayley table printed using element names (``str``) rather than element positions (``int``)."
   ]
  },
  {
   "cell_type": "code",
   "execution_count": 3,
   "id": "811fd506",
   "metadata": {},
   "outputs": [
    {
     "name": "stdout",
     "output_type": "stream",
     "text": [
      "\n",
      "Group: Z3\n",
      "Instance ID: 140614277101456\n",
      "Description: Cyclic group of order 3\n",
      "Order: 3\n",
      "Identity: e\n",
      "Associative? Yes\n",
      "Commutative? Yes\n",
      "Elements:\n",
      "   Index   Name   Inverse  Order\n",
      "      0       e       e       1\n",
      "      1       a     a^2       3\n",
      "      2     a^2       a       3\n",
      "Cayley Table (showing names):\n",
      "[['e', 'a', 'a^2'], ['a', 'a^2', 'e'], ['a^2', 'e', 'a']]\n"
     ]
    }
   ],
   "source": [
    ">>> z3.about(use_table_names=True)"
   ]
  },
  {
   "cell_type": "markdown",
   "id": "55ff6459",
   "metadata": {},
   "source": [
    "### Group Properties"
   ]
  },
  {
   "cell_type": "code",
   "execution_count": 4,
   "id": "5ddc109a",
   "metadata": {},
   "outputs": [
    {
     "data": {
      "text/plain": [
       "True"
      ]
     },
     "execution_count": 4,
     "metadata": {},
     "output_type": "execute_result"
    }
   ],
   "source": [
    ">>> z3.is_associative()  # Only Magmas are non-associative"
   ]
  },
  {
   "cell_type": "code",
   "execution_count": 5,
   "id": "aa4c39dd",
   "metadata": {},
   "outputs": [
    {
     "data": {
      "text/plain": [
       "True"
      ]
     },
     "execution_count": 5,
     "metadata": {},
     "output_type": "execute_result"
    }
   ],
   "source": [
    ">>> z3.is_commutative()"
   ]
  },
  {
   "cell_type": "code",
   "execution_count": 6,
   "id": "6e6f44e9",
   "metadata": {},
   "outputs": [
    {
     "data": {
      "text/plain": [
       "True"
      ]
     },
     "execution_count": 6,
     "metadata": {},
     "output_type": "execute_result"
    }
   ],
   "source": [
    ">>> z3.is_abelian()"
   ]
  },
  {
   "cell_type": "markdown",
   "id": "71ca1806",
   "metadata": {},
   "source": [
    "The ``identity`` method (property) returns the algebra's identity element, if it exists.\n",
    "\n",
    "If the identity doesn't exist, then ``None`` is returned."
   ]
  },
  {
   "cell_type": "code",
   "execution_count": 7,
   "id": "bfac710f",
   "metadata": {},
   "outputs": [
    {
     "data": {
      "text/plain": [
       "'e'"
      ]
     },
     "execution_count": 7,
     "metadata": {},
     "output_type": "execute_result"
    }
   ],
   "source": [
    ">>> z3.identity"
   ]
  },
  {
   "cell_type": "code",
   "execution_count": 8,
   "id": "729a8189",
   "metadata": {},
   "outputs": [
    {
     "data": {
      "text/plain": [
       "'a^2'"
      ]
     },
     "execution_count": 8,
     "metadata": {},
     "output_type": "execute_result"
    }
   ],
   "source": [
    ">>> z3.inv('a')  # Get an element's inverse, if it exists"
   ]
  },
  {
   "cell_type": "markdown",
   "id": "2f579029",
   "metadata": {},
   "source": [
    "Internal to algebras, tables are stored as instances of the ``CayleyTable`` class:"
   ]
  },
  {
   "cell_type": "code",
   "execution_count": 9,
   "id": "42d3e5be",
   "metadata": {},
   "outputs": [
    {
     "data": {
      "text/plain": [
       "CayleyTable([[0, 1, 2], [1, 2, 0], [2, 0, 1]])"
      ]
     },
     "execution_count": 9,
     "metadata": {},
     "output_type": "execute_result"
    }
   ],
   "source": [
    ">>> z3.table"
   ]
  },
  {
   "cell_type": "markdown",
   "id": "0baf5036",
   "metadata": {},
   "source": [
    "### Binary Operation"
   ]
  },
  {
   "cell_type": "code",
   "execution_count": 10,
   "id": "91da308f",
   "metadata": {},
   "outputs": [
    {
     "data": {
      "text/plain": [
       "'e'"
      ]
     },
     "execution_count": 10,
     "metadata": {},
     "output_type": "execute_result"
    }
   ],
   "source": [
    ">>> z3.op()  # zero arguments returns the identity, if it exists"
   ]
  },
  {
   "cell_type": "markdown",
   "id": "2198e1af",
   "metadata": {},
   "source": [
    "If only one argument is given to the binary operation, then that argument is simply returned; unless it is not a valid element of the algebra, in which case an exception is raised."
   ]
  },
  {
   "cell_type": "code",
   "execution_count": 11,
   "id": "f1447a32",
   "metadata": {},
   "outputs": [
    {
     "data": {
      "text/plain": [
       "'a'"
      ]
     },
     "execution_count": 11,
     "metadata": {},
     "output_type": "execute_result"
    }
   ],
   "source": [
    ">>> z3.op('a')"
   ]
  },
  {
   "cell_type": "markdown",
   "id": "352e6628",
   "metadata": {},
   "source": [
    "For $Z_3$, $a \\circ a = a^2$"
   ]
  },
  {
   "cell_type": "code",
   "execution_count": 12,
   "id": "7b875dec",
   "metadata": {},
   "outputs": [
    {
     "data": {
      "text/plain": [
       "'a^2'"
      ]
     },
     "execution_count": 12,
     "metadata": {},
     "output_type": "execute_result"
    }
   ],
   "source": [
    ">>> z3.op('a', 'a')"
   ]
  },
  {
   "cell_type": "markdown",
   "id": "ff6a6e06",
   "metadata": {},
   "source": [
    "and $a \\circ a \\circ a = a \\circ a^2 = a^2 \\circ a = e$."
   ]
  },
  {
   "cell_type": "code",
   "execution_count": 13,
   "id": "5359fa77",
   "metadata": {},
   "outputs": [
    {
     "data": {
      "text/plain": [
       "True"
      ]
     },
     "execution_count": 13,
     "metadata": {},
     "output_type": "execute_result"
    }
   ],
   "source": [
    ">>> z3.op('a', 'a', 'a') == z3.op('a', 'a^2') == z3.op('a^2', 'a') == 'e'"
   ]
  },
  {
   "cell_type": "markdown",
   "id": "6694754b",
   "metadata": {},
   "source": [
    "Note, however, that the function, ``op``, can only be used with elements (``str``) that are members of the element list.  So, since 'a^3' is not a string in the element list, it cannot be used in function ``op``."
   ]
  },
  {
   "cell_type": "code",
   "execution_count": 14,
   "id": "82d028f9",
   "metadata": {},
   "outputs": [
    {
     "name": "stdout",
     "output_type": "stream",
     "text": [
      "a^3 is not a valid element name\n"
     ]
    }
   ],
   "source": [
    ">>> try:\n",
    ">>>     z3.op('a^3')\n",
    ">>> except Exception as exc:\n",
    ">>>     print(exc)"
   ]
  },
  {
   "cell_type": "markdown",
   "id": "9ad6e8ad",
   "metadata": {},
   "source": [
    "### \"Subtraction\" in Groups"
   ]
  },
  {
   "cell_type": "markdown",
   "id": "e1c33822",
   "metadata": {},
   "source": [
    "The method, ``sub``, is a convenience method for computing \"$x - y$\", that is, $x \\circ y^{-1}$ where $x, y \\in \\langle G, \\circ \\rangle$."
   ]
  },
  {
   "cell_type": "code",
   "execution_count": 15,
   "id": "92fbcdf9",
   "metadata": {},
   "outputs": [
    {
     "name": "stdout",
     "output_type": "stream",
     "text": [
      "For example, \"a - a^2\" = a * a = a^2\n"
     ]
    }
   ],
   "source": [
    ">>> x = 'a'\n",
    ">>> y = 'a^2'\n",
    ">>> print(f\"For example, \\\"{x} - {y}\\\" = {x} * {z3.inv(y)} = {z3.op(x, z3.inv(y))}\")"
   ]
  },
  {
   "cell_type": "markdown",
   "id": "e50ca67e",
   "metadata": {},
   "source": [
    "Or, more succinctly:"
   ]
  },
  {
   "cell_type": "code",
   "execution_count": 16,
   "id": "1d15437d",
   "metadata": {
    "scrolled": true
   },
   "outputs": [
    {
     "data": {
      "text/plain": [
       "'a^2'"
      ]
     },
     "execution_count": 16,
     "metadata": {},
     "output_type": "execute_result"
    }
   ],
   "source": [
    ">>> z3.sub(x, y)"
   ]
  },
  {
   "cell_type": "markdown",
   "id": "4e9ae1ac",
   "metadata": {},
   "source": [
    "### Magma"
   ]
  },
  {
   "cell_type": "markdown",
   "id": "5547c359",
   "metadata": {},
   "source": [
    "**Magma** -- a set with a binary operation:  $\\langle S, \\circ \\rangle$, where $S$ is a finite set and $\\circ: S \\times S \\to S$"
   ]
  },
  {
   "cell_type": "markdown",
   "id": "54030702",
   "metadata": {},
   "source": [
    "**Rock-Paper-Scissors**\n",
    "\n",
    "See https://en.wikipedia.org/wiki/Commutative_magma\n",
    "\n",
    "* $\\langle S, \\circ \\rangle$, where $S = \\{r,p,s\\}$\n",
    "* For all $x, y \\in S$, if $x$ *beats* $y$, then $x \\circ y = y \\circ x = x$\n",
    "* Also, for all $x \\in S$, $xx = x$\n",
    "\n",
    "From the rule in the second bullet, above, this algebra is obviously commutative."
   ]
  },
  {
   "cell_type": "code",
   "execution_count": 17,
   "id": "ff0ed501",
   "metadata": {},
   "outputs": [
    {
     "name": "stdout",
     "output_type": "stream",
     "text": [
      "\n",
      "Magma: RPS\n",
      "Instance ID: 140614281677712\n",
      "Description: Rock, Paper, Scissors Magma\n",
      "Order: 3\n",
      "Elements: ['r', 'p', 's']\n",
      "Identity: None\n",
      "Associative? No\n",
      "Commutative? Yes\n",
      "Has Inverses? No\n",
      "Cayley Table (showing indices):\n",
      "[[0, 1, 0], [1, 1, 2], [0, 2, 2]]\n"
     ]
    }
   ],
   "source": [
    ">>> rps = make_finite_algebra('RPS',\n",
    "                              'Rock, Paper, Scissors Magma',\n",
    "                              ['r', 'p', 's'],\n",
    "                              [['r', 'p', 'r'],\n",
    "                               ['p', 'p', 's'],\n",
    "                               ['r', 's', 's']])\n",
    "\n",
    ">>> rps.about()"
   ]
  },
  {
   "cell_type": "markdown",
   "id": "19ad5a90",
   "metadata": {},
   "source": [
    "Paper beats Rock:"
   ]
  },
  {
   "cell_type": "code",
   "execution_count": 18,
   "id": "d16e009f",
   "metadata": {},
   "outputs": [
    {
     "data": {
      "text/plain": [
       "'p'"
      ]
     },
     "execution_count": 18,
     "metadata": {},
     "output_type": "execute_result"
    }
   ],
   "source": [
    ">>> rps.op('r', 'p')"
   ]
  },
  {
   "cell_type": "code",
   "execution_count": 19,
   "id": "227bf50f",
   "metadata": {},
   "outputs": [
    {
     "name": "stdout",
     "output_type": "stream",
     "text": [
      "RPS does not have an identity element\n"
     ]
    }
   ],
   "source": [
    ">>> if rps.identity is None:\n",
    ">>>     print(\"RPS does not have an identity element\")"
   ]
  },
  {
   "cell_type": "markdown",
   "id": "5021c3e5",
   "metadata": {},
   "source": [
    "For convenience, the method, ``has_identity``, returns True or False, depending on whether an algebra has an identity."
   ]
  },
  {
   "cell_type": "code",
   "execution_count": 20,
   "id": "de6123b8",
   "metadata": {},
   "outputs": [
    {
     "data": {
      "text/plain": [
       "False"
      ]
     },
     "execution_count": 20,
     "metadata": {},
     "output_type": "execute_result"
    }
   ],
   "source": [
    ">>> rps.has_identity()"
   ]
  },
  {
   "cell_type": "markdown",
   "id": "0ddc7501",
   "metadata": {},
   "source": [
    "The next section demonstrates that a Magma can have an identity element, as long as the Magma is not associative, otherwise ``make_finite_algebra`` would output a Monoid."
   ]
  },
  {
   "cell_type": "markdown",
   "id": "8be3bb1f",
   "metadata": {},
   "source": [
    "### Magma with Identity Element"
   ]
  },
  {
   "cell_type": "code",
   "execution_count": 21,
   "id": "3eaf8a02",
   "metadata": {},
   "outputs": [
    {
     "name": "stdout",
     "output_type": "stream",
     "text": [
      "\n",
      "Magma: Whatever\n",
      "Instance ID: 140613203838480\n",
      "Description: Magma with Identity\n",
      "Order: 3\n",
      "Elements: ['e', 'a', 'b']\n",
      "Identity: e\n",
      "Associative? No\n",
      "Commutative? No\n",
      "Has Inverses? No\n",
      "Cayley Table (showing indices):\n",
      "[[0, 1, 2], [1, 0, 1], [2, 2, 1]]\n"
     ]
    }
   ],
   "source": [
    ">>> mag = make_finite_algebra('Whatever',\n",
    "                              'Magma with Identity',\n",
    "                              ['e', 'a', 'b'],\n",
    "                              [['e', 'a', 'b'],\n",
    "                               ['a', 'e', 'a'],\n",
    "                               ['b', 'b', 'a']])\n",
    "\n",
    ">>> mag.about()"
   ]
  },
  {
   "cell_type": "markdown",
   "id": "f79e1203",
   "metadata": {},
   "source": [
    "### Semigroup"
   ]
  },
  {
   "cell_type": "markdown",
   "id": "11a6cee8",
   "metadata": {},
   "source": [
    "**Semigroup** -- an associative Magma:  for any $a,b,c \\in S \\Rightarrow a \\circ (b \\circ c) = (a \\circ b) \\circ c$"
   ]
  },
  {
   "cell_type": "markdown",
   "id": "8cd470c7",
   "metadata": {},
   "source": [
    "Reference: [Groupoids and Smarandache Groupoids](https://arxiv.org/ftp/math/papers/0304/0304490.pdf) by W. B. Vasantha Kandasamy"
   ]
  },
  {
   "cell_type": "code",
   "execution_count": 22,
   "id": "8e0cb860",
   "metadata": {},
   "outputs": [
    {
     "name": "stdout",
     "output_type": "stream",
     "text": [
      "\n",
      "Semigroup: Example 1.4.1\n",
      "Instance ID: 140614281656976\n",
      "Description: See: Groupoids and Smarandache Groupoids by W. B. Vasantha Kandasamy\n",
      "Order: 6\n",
      "Elements: ['a', 'b', 'c', 'd', 'e', 'f']\n",
      "Identity: None\n",
      "Associative? Yes\n",
      "Commutative? No\n",
      "Has Inverses? No\n",
      "Cayley Table (showing indices):\n",
      "[[0, 3, 0, 3, 0, 3],\n",
      " [1, 4, 1, 4, 1, 4],\n",
      " [2, 5, 2, 5, 2, 5],\n",
      " [3, 0, 3, 0, 3, 0],\n",
      " [4, 1, 4, 1, 4, 1],\n",
      " [5, 2, 5, 2, 5, 2]]\n"
     ]
    }
   ],
   "source": [
    ">>> sg = make_finite_algebra(\n",
    "    'Example 1.4.1',\n",
    "    'See: Groupoids and Smarandache Groupoids by W. B. Vasantha Kandasamy',\n",
    "    ['a', 'b', 'c', 'd', 'e', 'f'],\n",
    "    [[0, 3, 0, 3, 0, 3],\n",
    "     [1, 4, 1, 4, 1, 4],\n",
    "     [2, 5, 2, 5, 2, 5],\n",
    "     [3, 0, 3, 0, 3, 0],\n",
    "     [4, 1, 4, 1, 4, 1],\n",
    "     [5, 2, 5, 2, 5, 2]]\n",
    ")\n",
    "\n",
    ">>> sg.about()"
   ]
  },
  {
   "cell_type": "markdown",
   "id": "0b682e44",
   "metadata": {},
   "source": [
    "Since the element in the 0,1 position of the table is 3, it follows that, $a \\circ b = d$:"
   ]
  },
  {
   "cell_type": "code",
   "execution_count": 23,
   "id": "93441815",
   "metadata": {},
   "outputs": [
    {
     "data": {
      "text/plain": [
       "'d'"
      ]
     },
     "execution_count": 23,
     "metadata": {},
     "output_type": "execute_result"
    }
   ],
   "source": [
    ">>> sg.op('a', 'b')"
   ]
  },
  {
   "cell_type": "markdown",
   "id": "11febcab",
   "metadata": {},
   "source": [
    "### Monoid"
   ]
  },
  {
   "cell_type": "markdown",
   "id": "f1684d1c",
   "metadata": {},
   "source": [
    "**Monoid** -- a Semigroup with identity element:  $\\exists e \\in S$, such that, for all $a \\in S, a \\circ e = e \\circ a = a$"
   ]
  },
  {
   "cell_type": "code",
   "execution_count": 24,
   "id": "3c439f8d",
   "metadata": {},
   "outputs": [
    {
     "name": "stdout",
     "output_type": "stream",
     "text": [
      "\n",
      "Monoid: M4\n",
      "Instance ID: 140614281631056\n",
      "Description: Example of a commutative monoid\n",
      "Order: 4\n",
      "Elements: ['a', 'b', 'c', 'd']\n",
      "Identity: b\n",
      "Associative? Yes\n",
      "Commutative? Yes\n",
      "Has Inverses? No\n",
      "Cayley Table (showing names):\n",
      "[['a', 'a', 'a', 'a'],\n",
      " ['a', 'b', 'c', 'd'],\n",
      " ['a', 'c', 'a', 'c'],\n",
      " ['a', 'd', 'c', 'b']]\n"
     ]
    }
   ],
   "source": [
    ">>> m4 = make_finite_algebra('M4',\n",
    "                             'Example of a commutative monoid',\n",
    "                             ['a', 'b', 'c', 'd'],\n",
    "                             [[0, 0, 0, 0],\n",
    "                              [0, 1, 2, 3],\n",
    "                              [0, 2, 0, 2],\n",
    "                              [0, 3, 2, 1]])\n",
    "\n",
    ">>> m4.about(use_table_names=True)"
   ]
  },
  {
   "cell_type": "markdown",
   "id": "b11a411c",
   "metadata": {},
   "source": [
    "By the way, the Monoid, above, and others like it of different orders, can be automatically generated using the function, ``generate_commutative_monoid``.  It is based on integer multiplication modulo the desired order."
   ]
  },
  {
   "cell_type": "code",
   "execution_count": 25,
   "id": "c22fb146",
   "metadata": {},
   "outputs": [
    {
     "data": {
      "text/plain": [
       "'b'"
      ]
     },
     "execution_count": 25,
     "metadata": {},
     "output_type": "execute_result"
    }
   ],
   "source": [
    ">>> m4.identity  # Returns the identity element"
   ]
  },
  {
   "cell_type": "code",
   "execution_count": 26,
   "id": "6bcce5c2",
   "metadata": {},
   "outputs": [
    {
     "data": {
      "text/plain": [
       "'c'"
      ]
     },
     "execution_count": 26,
     "metadata": {},
     "output_type": "execute_result"
    }
   ],
   "source": [
    ">>> m4.op('c', 'b')  # since 'b' is the identity element"
   ]
  },
  {
   "cell_type": "markdown",
   "id": "63171493",
   "metadata": {},
   "source": [
    "## Ring"
   ]
  },
  {
   "cell_type": "markdown",
   "id": "133d7211",
   "metadata": {},
   "source": [
    "**Ring** -- $\\langle S, +, \\times \\rangle$, where $\\langle S, + \\rangle$ is a commutative Group, $\\langle S, \\times \\rangle$ is a Semigroup, and $\\times$ distributes over $+$"
   ]
  },
  {
   "cell_type": "markdown",
   "id": "3cc94cf9",
   "metadata": {},
   "source": [
    "### Ring Based on Powerset of a Set"
   ]
  },
  {
   "cell_type": "markdown",
   "id": "893d5379",
   "metadata": {},
   "source": [
    "In this ring, *\"addition\"* is symmetric difference, $\\bigtriangleup$, and *\"multiplication\"* is intersection, $\\cap$."
   ]
  },
  {
   "cell_type": "code",
   "execution_count": 27,
   "id": "adf49607",
   "metadata": {},
   "outputs": [
    {
     "data": {
      "text/plain": [
       "Ring(\n",
       "'Powerset Ring 2',\n",
       "'Ring on powerset of {0, 1}',\n",
       "['{}', '{0}', '{1}', '{0, 1}'],\n",
       "[[0, 1, 2, 3], [1, 0, 3, 2], [2, 3, 0, 1], [3, 2, 1, 0]],\n",
       "[[0, 0, 0, 0], [0, 1, 0, 1], [0, 0, 2, 2], [0, 1, 2, 3]]\n",
       ")"
      ]
     },
     "execution_count": 27,
     "metadata": {},
     "output_type": "execute_result"
    }
   ],
   "source": [
    ">>> rng = make_finite_algebra('Powerset Ring 2',\n",
    "                              'Ring on powerset of {0, 1}',\n",
    "                              ['{}', '{0}', '{1}', '{0, 1}'],\n",
    "                              [[0, 1, 2, 3],\n",
    "                               [1, 0, 3, 2],\n",
    "                               [2, 3, 0, 1],\n",
    "                               [3, 2, 1, 0]],\n",
    "                              [[0, 0, 0, 0],\n",
    "                               [0, 1, 0, 1],\n",
    "                               [0, 0, 2, 2],\n",
    "                               [0, 1, 2, 3]]\n",
    "                             )\n",
    ">>> rng"
   ]
  },
  {
   "cell_type": "code",
   "execution_count": 28,
   "id": "63a5c985",
   "metadata": {},
   "outputs": [
    {
     "name": "stdout",
     "output_type": "stream",
     "text": [
      "\n",
      "Ring: Powerset Ring 2\n",
      "Instance ID: 140614281581520\n",
      "Description: Ring on powerset of {0, 1}\n",
      "Order: 4\n",
      "Identity: {}\n",
      "Associative? Yes\n",
      "Commutative? Yes\n",
      "Elements:\n",
      "   Index   Name   Inverse  Order\n",
      "      0      {}      {}       1\n",
      "      1     {0}     {0}       2\n",
      "      2     {1}     {1}       2\n",
      "      3  {0, 1}  {0, 1}       2\n",
      "Cayley Table (showing names):\n",
      "[['{}', '{0}', '{1}', '{0, 1}'],\n",
      " ['{0}', '{}', '{0, 1}', '{1}'],\n",
      " ['{1}', '{0, 1}', '{}', '{0}'],\n",
      " ['{0, 1}', '{1}', '{0}', '{}']]\n",
      "Mult. Identity: {0, 1}\n",
      "Mult. Commutative? Yes\n",
      "Multiplicative Cayley Table (showing names):\n",
      "[['{}', '{}', '{}', '{}'],\n",
      " ['{}', '{0}', '{}', '{0}'],\n",
      " ['{}', '{}', '{1}', '{1}'],\n",
      " ['{}', '{0}', '{1}', '{0, 1}']]\n"
     ]
    }
   ],
   "source": [
    ">>> rng.about(use_table_names=True)"
   ]
  },
  {
   "cell_type": "markdown",
   "id": "6324ee37",
   "metadata": {},
   "source": [
    "### Ring Addition and Multiplication"
   ]
  },
  {
   "cell_type": "markdown",
   "id": "5ab194b3",
   "metadata": {},
   "source": [
    "Ring addition, ``add``, is the same as the operation, ``op``, inherited from its superclass, Group."
   ]
  },
  {
   "cell_type": "markdown",
   "id": "a3668984",
   "metadata": {},
   "source": [
    "$\\{1\\} \\bigtriangleup \\{0,1\\} = \\{0\\}$"
   ]
  },
  {
   "cell_type": "code",
   "execution_count": 29,
   "id": "951c8d0d",
   "metadata": {},
   "outputs": [
    {
     "data": {
      "text/plain": [
       "'{0}'"
      ]
     },
     "execution_count": 29,
     "metadata": {},
     "output_type": "execute_result"
    }
   ],
   "source": [
    ">>> rng.add(\"{1}\", \"{0, 1}\")"
   ]
  },
  {
   "cell_type": "markdown",
   "id": "28578a60",
   "metadata": {},
   "source": [
    "$\\{1\\} \\cap \\{0,1\\} = \\{0\\}$"
   ]
  },
  {
   "cell_type": "code",
   "execution_count": 30,
   "id": "5c662ae0",
   "metadata": {},
   "outputs": [
    {
     "data": {
      "text/plain": [
       "'{1}'"
      ]
     },
     "execution_count": 30,
     "metadata": {},
     "output_type": "execute_result"
    }
   ],
   "source": [
    ">>> rng.mult(\"{1}\", \"{0, 1}\")"
   ]
  },
  {
   "cell_type": "markdown",
   "id": "9d5c395f",
   "metadata": {},
   "source": [
    "### Zero Divisors of a Ring"
   ]
  },
  {
   "cell_type": "markdown",
   "id": "f135009f",
   "metadata": {},
   "source": [
    "Suppose $\\alpha \\ne 0$ is an element of the Ring, $\\langle S, +, \\times \\rangle$.\n",
    "\n",
    "Then, $\\alpha$ is a **left zero divisor**, if $\\exists \\beta \\in S, \\beta \\ne 0$ such that $\\alpha \\times \\beta = 0$.\n",
    "\n",
    "Similarly, $\\alpha$ is a **right zero divisor**, if $\\exists \\gamma \\in S, \\gamma \\ne 0$ such that $\\gamma \\times \\alpha = 0$."
   ]
  },
  {
   "cell_type": "markdown",
   "id": "b96f34f2",
   "metadata": {},
   "source": [
    "The Ring just created has two zero divisors:"
   ]
  },
  {
   "cell_type": "code",
   "execution_count": 31,
   "id": "870a77b9",
   "metadata": {},
   "outputs": [
    {
     "data": {
      "text/plain": [
       "['{0}', '{1}']"
      ]
     },
     "execution_count": 31,
     "metadata": {},
     "output_type": "execute_result"
    }
   ],
   "source": [
    ">>> rng.zero_divisors()"
   ]
  },
  {
   "cell_type": "markdown",
   "id": "eab4fceb",
   "metadata": {},
   "source": [
    "To check this, recall, what the addititve identity is:"
   ]
  },
  {
   "cell_type": "code",
   "execution_count": 32,
   "id": "f746baf0",
   "metadata": {},
   "outputs": [
    {
     "data": {
      "text/plain": [
       "'{}'"
      ]
     },
     "execution_count": 32,
     "metadata": {},
     "output_type": "execute_result"
    }
   ],
   "source": [
    "zero = rng.add_identity\n",
    "zero"
   ]
  },
  {
   "cell_type": "markdown",
   "id": "1b821348",
   "metadata": {},
   "source": [
    "Multiplying an element by \"zero\" produces \"zero\":"
   ]
  },
  {
   "cell_type": "code",
   "execution_count": 33,
   "id": "27d0e206",
   "metadata": {},
   "outputs": [
    {
     "data": {
      "text/plain": [
       "['{}', '{}', '{}', '{}']"
      ]
     },
     "execution_count": 33,
     "metadata": {},
     "output_type": "execute_result"
    }
   ],
   "source": [
    "[rng.mult(x, zero) for x in rng.elements]"
   ]
  },
  {
   "cell_type": "code",
   "execution_count": 34,
   "id": "35ba5f2f",
   "metadata": {},
   "outputs": [
    {
     "data": {
      "text/plain": [
       "['{}', '{0}', '{}', '{0}']"
      ]
     },
     "execution_count": 34,
     "metadata": {},
     "output_type": "execute_result"
    }
   ],
   "source": [
    "[rng.mult(x, '{0}') for x in rng.elements]"
   ]
  },
  {
   "cell_type": "code",
   "execution_count": 35,
   "id": "1702dce9",
   "metadata": {},
   "outputs": [
    {
     "data": {
      "text/plain": [
       "'{}'"
      ]
     },
     "execution_count": 35,
     "metadata": {},
     "output_type": "execute_result"
    }
   ],
   "source": [
    "rng.mult('{0}', '{1}')"
   ]
  },
  {
   "cell_type": "markdown",
   "id": "d2cf5067",
   "metadata": {},
   "source": [
    "### Autogeneration of a Powerset Ring"
   ]
  },
  {
   "cell_type": "code",
   "execution_count": 36,
   "id": "fb6fce92",
   "metadata": {},
   "outputs": [
    {
     "data": {
      "text/plain": [
       "Ring(\n",
       "'PSRing3',\n",
       "'Autogenerated Ring on powerset of {0, 1, 2} w/ symm. diff. (add) & intersection (mult)',\n",
       "['{}', '{0}', '{1}', '{2}', '{0, 1}', '{0, 2}', '{1, 2}', '{0, 1, 2}'],\n",
       "[[0, 1, 2, 3, 4, 5, 6, 7], [1, 0, 4, 5, 2, 3, 7, 6], [2, 4, 0, 6, 1, 7, 3, 5], [3, 5, 6, 0, 7, 1, 2, 4], [4, 2, 1, 7, 0, 6, 5, 3], [5, 3, 7, 1, 6, 0, 4, 2], [6, 7, 3, 2, 5, 4, 0, 1], [7, 6, 5, 4, 3, 2, 1, 0]],\n",
       "[[0, 0, 0, 0, 0, 0, 0, 0], [0, 1, 0, 0, 1, 1, 0, 1], [0, 0, 2, 0, 2, 0, 2, 2], [0, 0, 0, 3, 0, 3, 3, 3], [0, 1, 2, 0, 4, 1, 2, 4], [0, 1, 0, 3, 1, 5, 3, 5], [0, 0, 2, 3, 2, 3, 6, 6], [0, 1, 2, 3, 4, 5, 6, 7]]\n",
       ")"
      ]
     },
     "execution_count": 36,
     "metadata": {},
     "output_type": "execute_result"
    }
   ],
   "source": [
    ">>> from finite_algebras import generate_powerset_ring\n",
    "\n",
    ">>> psr3 = generate_powerset_ring(3)  # Ring order will be 3!\n",
    "\n",
    ">>> psr3"
   ]
  },
  {
   "cell_type": "code",
   "execution_count": 37,
   "id": "ffa33205",
   "metadata": {
    "scrolled": true
   },
   "outputs": [
    {
     "name": "stdout",
     "output_type": "stream",
     "text": [
      "\n",
      "Ring: PSRing3\n",
      "Instance ID: 140613203938128\n",
      "Description: Autogenerated Ring on powerset of {0, 1, 2} w/ symm. diff. (add) & intersection (mult)\n",
      "Order: 8\n",
      "Identity: {}\n",
      "Associative? Yes\n",
      "Commutative? Yes\n",
      "Elements:\n",
      "   Index   Name   Inverse  Order\n",
      "      0      {}      {}       1\n",
      "      1     {0}     {0}       2\n",
      "      2     {1}     {1}       2\n",
      "      3     {2}     {2}       2\n",
      "      4  {0, 1}  {0, 1}       2\n",
      "      5  {0, 2}  {0, 2}       2\n",
      "      6  {1, 2}  {1, 2}       2\n",
      "      7 {0, 1, 2} {0, 1, 2}       2\n",
      "Cayley Table (showing names):\n",
      "[['{}', '{0}', '{1}', '{2}', '{0, 1}', '{0, 2}', '{1, 2}', '{0, 1, 2}'],\n",
      " ['{0}', '{}', '{0, 1}', '{0, 2}', '{1}', '{2}', '{0, 1, 2}', '{1, 2}'],\n",
      " ['{1}', '{0, 1}', '{}', '{1, 2}', '{0}', '{0, 1, 2}', '{2}', '{0, 2}'],\n",
      " ['{2}', '{0, 2}', '{1, 2}', '{}', '{0, 1, 2}', '{0}', '{1}', '{0, 1}'],\n",
      " ['{0, 1}', '{1}', '{0}', '{0, 1, 2}', '{}', '{1, 2}', '{0, 2}', '{2}'],\n",
      " ['{0, 2}', '{2}', '{0, 1, 2}', '{0}', '{1, 2}', '{}', '{0, 1}', '{1}'],\n",
      " ['{1, 2}', '{0, 1, 2}', '{2}', '{1}', '{0, 2}', '{0, 1}', '{}', '{0}'],\n",
      " ['{0, 1, 2}', '{1, 2}', '{0, 2}', '{0, 1}', '{2}', '{1}', '{0}', '{}']]\n",
      "Mult. Identity: {0, 1, 2}\n",
      "Mult. Commutative? Yes\n",
      "Multiplicative Cayley Table (showing names):\n",
      "[['{}', '{}', '{}', '{}', '{}', '{}', '{}', '{}'],\n",
      " ['{}', '{0}', '{}', '{}', '{0}', '{0}', '{}', '{0}'],\n",
      " ['{}', '{}', '{1}', '{}', '{1}', '{}', '{1}', '{1}'],\n",
      " ['{}', '{}', '{}', '{2}', '{}', '{2}', '{2}', '{2}'],\n",
      " ['{}', '{0}', '{1}', '{}', '{0, 1}', '{0}', '{1}', '{0, 1}'],\n",
      " ['{}', '{0}', '{}', '{2}', '{0}', '{0, 2}', '{2}', '{0, 2}'],\n",
      " ['{}', '{}', '{1}', '{2}', '{1}', '{2}', '{1, 2}', '{1, 2}'],\n",
      " ['{}', '{0}', '{1}', '{2}', '{0, 1}', '{0, 2}', '{1, 2}', '{0, 1, 2}']]\n"
     ]
    }
   ],
   "source": [
    ">>> psr3.about(use_table_names=True)"
   ]
  },
  {
   "cell_type": "markdown",
   "id": "16acea6b",
   "metadata": {},
   "source": [
    "### Ring Based on 2x2 Matrices"
   ]
  },
  {
   "cell_type": "markdown",
   "id": "f0e4cd45",
   "metadata": {},
   "source": [
    "See Example 6 in this reference: http://www-groups.mcs.st-andrews.ac.uk/~john/MT4517/Lectures/L3.html"
   ]
  },
  {
   "cell_type": "markdown",
   "id": "f7dff01c",
   "metadata": {},
   "source": [
    "Example 6 is a Ring based on the following matrices, where arithmetic is done modulo 2:\n",
    "\n",
    "$0 = \\begin{bmatrix} 0 & 0 \\\\ 0 & 0 \\end{bmatrix}, a = \\begin{bmatrix} 0 & 1 \\\\ 0 & 0 \\end{bmatrix}, b = \\begin{bmatrix} 0 & 1 \\\\ 0 & 1 \\end{bmatrix}, c = \\begin{bmatrix} 0 & 0 \\\\ 0 & 1 \\end{bmatrix}$"
   ]
  },
  {
   "cell_type": "code",
   "execution_count": 38,
   "id": "8df36dd0",
   "metadata": {},
   "outputs": [
    {
     "data": {
      "text/plain": [
       "Ring(\n",
       "'Ex6',\n",
       "'Example 6: http://www-groups.mcs.st-andrews.ac.uk/~john/MT4517/Lectures/L3.html',\n",
       "['0', 'a', 'b', 'c'],\n",
       "[[0, 1, 2, 3], [1, 0, 3, 2], [2, 3, 0, 1], [3, 2, 1, 0]],\n",
       "[[0, 0, 0, 0], [0, 0, 1, 1], [0, 0, 2, 2], [0, 0, 3, 3]]\n",
       ")"
      ]
     },
     "execution_count": 38,
     "metadata": {},
     "output_type": "execute_result"
    }
   ],
   "source": [
    ">>> addtbl = [['0', 'a', 'b', 'c'],\n",
    "              ['a', '0', 'c', 'b'],\n",
    "              ['b', 'c', '0', 'a'],\n",
    "              ['c', 'b', 'a', '0']]\n",
    "\n",
    ">>> multbl = [['0', '0', '0', '0'],\n",
    "              ['0', '0', 'a', 'a'],\n",
    "              ['0', '0', 'b', 'b'],\n",
    "              ['0', '0', 'c', 'c']]\n",
    "\n",
    ">>> ex6 = make_finite_algebra(\n",
    "    'Ex6',\n",
    "    'Example 6: http://www-groups.mcs.st-andrews.ac.uk/~john/MT4517/Lectures/L3.html',\n",
    "    ['0', 'a', 'b', 'c'],\n",
    "    addtbl,\n",
    "    multbl)\n",
    "\n",
    ">>> ex6"
   ]
  },
  {
   "cell_type": "code",
   "execution_count": 39,
   "id": "9b192efb",
   "metadata": {
    "scrolled": true
   },
   "outputs": [
    {
     "name": "stdout",
     "output_type": "stream",
     "text": [
      "\n",
      "Ring: Ex6\n",
      "Instance ID: 140614281657360\n",
      "Description: Example 6: http://www-groups.mcs.st-andrews.ac.uk/~john/MT4517/Lectures/L3.html\n",
      "Order: 4\n",
      "Identity: 0\n",
      "Associative? Yes\n",
      "Commutative? Yes\n",
      "Elements:\n",
      "   Index   Name   Inverse  Order\n",
      "      0       0       0       1\n",
      "      1       a       a       2\n",
      "      2       b       b       2\n",
      "      3       c       c       2\n",
      "Cayley Table (showing names):\n",
      "[['0', 'a', 'b', 'c'],\n",
      " ['a', '0', 'c', 'b'],\n",
      " ['b', 'c', '0', 'a'],\n",
      " ['c', 'b', 'a', '0']]\n",
      "Mult. Identity: None\n",
      "Mult. Commutative? No\n",
      "Multiplicative Cayley Table (showing names):\n",
      "[['0', '0', '0', '0'],\n",
      " ['0', '0', 'a', 'a'],\n",
      " ['0', '0', 'b', 'b'],\n",
      " ['0', '0', 'c', 'c']]\n"
     ]
    }
   ],
   "source": [
    ">>> ex6.about(use_table_names=True)"
   ]
  },
  {
   "cell_type": "markdown",
   "id": "4ffbdb29",
   "metadata": {},
   "source": [
    "### Extracting a Ring's Additive & Multiplicative \"Subalgebras\""
   ]
  },
  {
   "cell_type": "markdown",
   "id": "e9618be8",
   "metadata": {},
   "source": [
    "At the beginning of this User Guide, in the *Algebra Definitions* section, a Ring is described as being a combination of a commutative Group, under addition, and a Semigroup, under multiplication (with distributivity of multiplication over addition). This section shows how those algebraic components of a Ring can be extracted.\n",
    "\n",
    "**NOTE**: The implementation of the two extraction methods, illustrated below, operates by calling ``make_finite_algebra`` using the relevant portions of the Ring.  That way, the appropriate algebras are returned: a commutative Group for the additive portion, and, at a minimum, a Semigroup for the multiplicative portion."
   ]
  },
  {
   "cell_type": "code",
   "execution_count": 40,
   "id": "27053537",
   "metadata": {},
   "outputs": [
    {
     "data": {
      "text/plain": [
       "Ring(\n",
       "'Ex6',\n",
       "'Example 6: http://www-groups.mcs.st-andrews.ac.uk/~john/MT4517/Lectures/L3.html',\n",
       "['0', 'a', 'b', 'c'],\n",
       "[[0, 1, 2, 3], [1, 0, 3, 2], [2, 3, 0, 1], [3, 2, 1, 0]],\n",
       "[[0, 0, 0, 0], [0, 0, 1, 1], [0, 0, 2, 2], [0, 0, 3, 3]]\n",
       ")"
      ]
     },
     "execution_count": 40,
     "metadata": {},
     "output_type": "execute_result"
    }
   ],
   "source": [
    ">>> ex6"
   ]
  },
  {
   "cell_type": "markdown",
   "id": "33e47d30",
   "metadata": {},
   "source": [
    "The **additive portion** of this example ring is a commutative Group, as expected:"
   ]
  },
  {
   "cell_type": "code",
   "execution_count": 41,
   "id": "e30b9671",
   "metadata": {},
   "outputs": [
    {
     "name": "stdout",
     "output_type": "stream",
     "text": [
      "\n",
      "Group: Ex6.Add\n",
      "Instance ID: 140613203942032\n",
      "Description: Additive-only portion of Ex6\n",
      "Order: 4\n",
      "Identity: 0\n",
      "Associative? Yes\n",
      "Commutative? Yes\n",
      "Elements:\n",
      "   Index   Name   Inverse  Order\n",
      "      0       0       0       1\n",
      "      1       a       a       2\n",
      "      2       b       b       2\n",
      "      3       c       c       2\n",
      "Cayley Table (showing indices):\n",
      "[[0, 1, 2, 3], [1, 0, 3, 2], [2, 3, 0, 1], [3, 2, 1, 0]]\n"
     ]
    }
   ],
   "source": [
    ">>> ex6_add = ex6.extract_additive_algebra()\n",
    ">>> ex6_add.about()"
   ]
  },
  {
   "cell_type": "markdown",
   "id": "631571d5",
   "metadata": {},
   "source": [
    "And, the **multiplicative portion** is a Semigroup:"
   ]
  },
  {
   "cell_type": "code",
   "execution_count": 42,
   "id": "b3cdf493",
   "metadata": {},
   "outputs": [
    {
     "data": {
      "text/plain": [
       "Semigroup(\n",
       "'Ex6.Mult',\n",
       "'Multiplicative-only portion of Ex6',\n",
       "['0', 'a', 'b', 'c'],\n",
       "[[0, 0, 0, 0], [0, 0, 1, 1], [0, 0, 2, 2], [0, 0, 3, 3]]\n",
       ")"
      ]
     },
     "execution_count": 42,
     "metadata": {},
     "output_type": "execute_result"
    }
   ],
   "source": [
    ">>> ex6_mult = ex6.extract_multiplicative_algebra()\n",
    ">>> ex6_mult"
   ]
  },
  {
   "cell_type": "markdown",
   "id": "71977aad",
   "metadata": {},
   "source": [
    "### Autogenerating a Commutative Ring"
   ]
  },
  {
   "cell_type": "markdown",
   "id": "b015f2b4",
   "metadata": {},
   "source": [
    "The function, ``generate_algebra_mod_n``, is based on [example 2 here](http://www-groups.mcs.st-andrews.ac.uk/~john/MT4517/Lectures/L3.html) and in [Wikipedia here](https://en.wikipedia.org/wiki/Finite_field#Field_with_four_elements).  The $+$ and $\\times$ operations are the usual integer addition and multiplication modulo the order (n), resp.\n",
    "\n",
    "As long as the order (n) is not prime the function ``generate_algebra_mod_n`` will produce a Ring, but for a prime order, it will produce a Field."
   ]
  },
  {
   "cell_type": "code",
   "execution_count": 43,
   "id": "4256c109",
   "metadata": {},
   "outputs": [],
   "source": [
    ">>> from finite_algebras import generate_algebra_mod_n"
   ]
  },
  {
   "cell_type": "code",
   "execution_count": 44,
   "id": "c874a179",
   "metadata": {
    "scrolled": true
   },
   "outputs": [
    {
     "data": {
      "text/plain": [
       "Ring(\n",
       "'R6',\n",
       "'Autogenerated Ring of integers mod 6',\n",
       "['a0', 'a1', 'a2', 'a3', 'a4', 'a5'],\n",
       "[[0, 1, 2, 3, 4, 5], [1, 2, 3, 4, 5, 0], [2, 3, 4, 5, 0, 1], [3, 4, 5, 0, 1, 2], [4, 5, 0, 1, 2, 3], [5, 0, 1, 2, 3, 4]],\n",
       "[[0, 0, 0, 0, 0, 0], [0, 1, 2, 3, 4, 5], [0, 2, 4, 0, 2, 4], [0, 3, 0, 3, 0, 3], [0, 4, 2, 0, 4, 2], [0, 5, 4, 3, 2, 1]]\n",
       ")"
      ]
     },
     "execution_count": 44,
     "metadata": {},
     "output_type": "execute_result"
    }
   ],
   "source": [
    ">>> r6 = generate_algebra_mod_n(6)\n",
    ">>> r6"
   ]
  },
  {
   "cell_type": "code",
   "execution_count": 45,
   "id": "22f5021d",
   "metadata": {},
   "outputs": [
    {
     "name": "stdout",
     "output_type": "stream",
     "text": [
      "\n",
      "Ring: R6\n",
      "Instance ID: 140613204007376\n",
      "Description: Autogenerated Ring of integers mod 6\n",
      "Order: 6\n",
      "Identity: a0\n",
      "Associative? Yes\n",
      "Commutative? Yes\n",
      "Elements:\n",
      "   Index   Name   Inverse  Order\n",
      "      0      a0      a0       1\n",
      "      1      a1      a5       6\n",
      "      2      a2      a4       3\n",
      "      3      a3      a3       2\n",
      "      4      a4      a2       3\n",
      "      5      a5      a1       6\n",
      "Cayley Table (showing names):\n",
      "[['a0', 'a1', 'a2', 'a3', 'a4', 'a5'],\n",
      " ['a1', 'a2', 'a3', 'a4', 'a5', 'a0'],\n",
      " ['a2', 'a3', 'a4', 'a5', 'a0', 'a1'],\n",
      " ['a3', 'a4', 'a5', 'a0', 'a1', 'a2'],\n",
      " ['a4', 'a5', 'a0', 'a1', 'a2', 'a3'],\n",
      " ['a5', 'a0', 'a1', 'a2', 'a3', 'a4']]\n",
      "Mult. Identity: a1\n",
      "Mult. Commutative? Yes\n",
      "Multiplicative Cayley Table (showing names):\n",
      "[['a0', 'a0', 'a0', 'a0', 'a0', 'a0'],\n",
      " ['a0', 'a1', 'a2', 'a3', 'a4', 'a5'],\n",
      " ['a0', 'a2', 'a4', 'a0', 'a2', 'a4'],\n",
      " ['a0', 'a3', 'a0', 'a3', 'a0', 'a3'],\n",
      " ['a0', 'a4', 'a2', 'a0', 'a4', 'a2'],\n",
      " ['a0', 'a5', 'a4', 'a3', 'a2', 'a1']]\n"
     ]
    }
   ],
   "source": [
    ">>> r6.about(use_table_names=True)"
   ]
  },
  {
   "cell_type": "markdown",
   "id": "e124ecf8",
   "metadata": {},
   "source": [
    "**Extracting it's component algebras**\n",
    "\n",
    "In the following, we extract the component algebras of this Ring as a commutative Group and a Monoid.\n",
    "\n",
    "The Monoid occurs since this Ring's multiplicative portion includes a multiplicative identity element ('a1'), but does not include inverses of all elements."
   ]
  },
  {
   "cell_type": "code",
   "execution_count": 46,
   "id": "d803cd86",
   "metadata": {},
   "outputs": [
    {
     "name": "stdout",
     "output_type": "stream",
     "text": [
      "\n",
      "Group: R6.Add\n",
      "Instance ID: 140613204010000\n",
      "Description: Additive-only portion of R6\n",
      "Order: 6\n",
      "Identity: a0\n",
      "Associative? Yes\n",
      "Commutative? Yes\n",
      "Elements:\n",
      "   Index   Name   Inverse  Order\n",
      "      0      a0      a0       1\n",
      "      1      a1      a5       6\n",
      "      2      a2      a4       3\n",
      "      3      a3      a3       2\n",
      "      4      a4      a2       3\n",
      "      5      a5      a1       6\n",
      "Cayley Table (showing indices):\n",
      "[[0, 1, 2, 3, 4, 5],\n",
      " [1, 2, 3, 4, 5, 0],\n",
      " [2, 3, 4, 5, 0, 1],\n",
      " [3, 4, 5, 0, 1, 2],\n",
      " [4, 5, 0, 1, 2, 3],\n",
      " [5, 0, 1, 2, 3, 4]]\n"
     ]
    }
   ],
   "source": [
    ">>> r6add = r6.extract_additive_algebra()\n",
    ">>> r6add.about()"
   ]
  },
  {
   "cell_type": "code",
   "execution_count": 47,
   "id": "4fbeb7d4",
   "metadata": {},
   "outputs": [
    {
     "name": "stdout",
     "output_type": "stream",
     "text": [
      "\n",
      "Monoid: R6.Mult\n",
      "Instance ID: 140613204006544\n",
      "Description: Multiplicative-only portion of R6\n",
      "Order: 6\n",
      "Elements: ['a0', 'a1', 'a2', 'a3', 'a4', 'a5']\n",
      "Identity: a1\n",
      "Associative? Yes\n",
      "Commutative? Yes\n",
      "Has Inverses? No\n",
      "Cayley Table (showing indices):\n",
      "[[0, 0, 0, 0, 0, 0],\n",
      " [0, 1, 2, 3, 4, 5],\n",
      " [0, 2, 4, 0, 2, 4],\n",
      " [0, 3, 0, 3, 0, 3],\n",
      " [0, 4, 2, 0, 4, 2],\n",
      " [0, 5, 4, 3, 2, 1]]\n"
     ]
    }
   ],
   "source": [
    ">>> r6mult = r6.extract_multiplicative_algebra()\n",
    ">>> r6mult.about()"
   ]
  },
  {
   "cell_type": "markdown",
   "id": "1241cc5e",
   "metadata": {},
   "source": [
    "## Field"
   ]
  },
  {
   "cell_type": "markdown",
   "id": "5e0d84c0",
   "metadata": {},
   "source": [
    "**Field** -- a Ring $\\langle S, +, \\times \\rangle$, where $\\langle S\\setminus{\\{0\\}}, \\times \\rangle$ is a commutative Group.\n",
    "\n",
    "$S\\setminus{\\{0\\}}$ is the set $S$ with the additive identity element removed."
   ]
  },
  {
   "cell_type": "markdown",
   "id": "95000bb4",
   "metadata": {},
   "source": [
    "### Field with four elements"
   ]
  },
  {
   "cell_type": "markdown",
   "id": "aeab43f8",
   "metadata": {},
   "source": [
    "**Reference**: See Wikipedia: [\"Field with four elements\"](https://en.wikipedia.org/wiki/Finite_field#Field_with_four_elements)"
   ]
  },
  {
   "cell_type": "code",
   "execution_count": 48,
   "id": "c0dc71bd",
   "metadata": {},
   "outputs": [
    {
     "name": "stdout",
     "output_type": "stream",
     "text": [
      "\n",
      "Field: F4\n",
      "Instance ID: 140613204038992\n",
      "Description: Field with 4 elements\n",
      "Order: 4\n",
      "Identity: 0\n",
      "Associative? Yes\n",
      "Commutative? Yes\n",
      "Elements:\n",
      "   Index   Name   Inverse  Order\n",
      "      0       0       0       1\n",
      "      1       1       1       2\n",
      "      2       a       a       2\n",
      "      3     1+a     1+a       2\n",
      "Cayley Table (showing indices):\n",
      "[[0, 1, 2, 3], [1, 0, 3, 2], [2, 3, 0, 1], [3, 2, 1, 0]]\n",
      "Mult. Identity: 1\n",
      "Mult. Commutative? Yes\n",
      "Multiplicative Cayley Table (showing indices):\n",
      "[[0, 0, 0, 0], [0, 1, 2, 3], [0, 2, 3, 1], [0, 3, 1, 2]]\n"
     ]
    }
   ],
   "source": [
    ">>> elems = ['0', '1', 'a', '1+a']\n",
    "\n",
    ">>> add_table = [[ '0' ,  '1' ,  'a' , '1+a'],\n",
    "                 [ '1' ,  '0' , '1+a',  'a' ],\n",
    "                 [ 'a' , '1+a',  '0' ,  '1' ],\n",
    "                 ['1+a',  'a' ,  '1' ,  '0' ]]\n",
    "\n",
    ">>> mult_table = [['0',  '0' ,  '0' ,  '0' ],\n",
    "                  ['0',  '1' ,  'a' , '1+a'],\n",
    "                  ['0',  'a' , '1+a',  '1' ],\n",
    "                  ['0', '1+a',  '1' ,  'a' ]]\n",
    "\n",
    ">>> f4 = make_finite_algebra('F4',\n",
    "                             'Field with 4 elements',\n",
    "                             elems,\n",
    "                             add_table,\n",
    "                             mult_table\n",
    "                            )\n",
    ">>> f4.about()"
   ]
  },
  {
   "cell_type": "markdown",
   "id": "c5102d3d",
   "metadata": {},
   "source": [
    "### Addition & Multiplication in Fields"
   ]
  },
  {
   "cell_type": "markdown",
   "id": "86482c5a",
   "metadata": {},
   "source": [
    "A Field's addition and multiplication operations are inherited from its superclass, Ring."
   ]
  },
  {
   "cell_type": "code",
   "execution_count": 49,
   "id": "72f53e4d",
   "metadata": {},
   "outputs": [
    {
     "data": {
      "text/plain": [
       "'1+a'"
      ]
     },
     "execution_count": 49,
     "metadata": {},
     "output_type": "execute_result"
    }
   ],
   "source": [
    ">>> f4.add('a', '1')"
   ]
  },
  {
   "cell_type": "code",
   "execution_count": 50,
   "id": "797b6629",
   "metadata": {},
   "outputs": [
    {
     "data": {
      "text/plain": [
       "'1+a'"
      ]
     },
     "execution_count": 50,
     "metadata": {},
     "output_type": "execute_result"
    }
   ],
   "source": [
    ">>> f4.mult('a', 'a')"
   ]
  },
  {
   "cell_type": "markdown",
   "id": "eb183615",
   "metadata": {},
   "source": [
    "### Division in Fields"
   ]
  },
  {
   "cell_type": "markdown",
   "id": "14bcd72a",
   "metadata": {},
   "source": [
    "The method, ``div``, is a convenience method in Fields for computing \"$\\alpha \\div \\beta, \\beta \\ne 0$\", that is, $\\alpha \\times \\beta^{-1}$ where $\\alpha, \\beta \\in \\langle F, +, \\times \\rangle$."
   ]
  },
  {
   "cell_type": "code",
   "execution_count": 51,
   "id": "0552ac11",
   "metadata": {},
   "outputs": [
    {
     "name": "stdout",
     "output_type": "stream",
     "text": [
      "For example, \"a / 1+a\" = a * a = 1+a\n"
     ]
    }
   ],
   "source": [
    ">>> a = 'a'\n",
    ">>> b = '1+a'\n",
    ">>> print(f\"For example, \\\"{a} / {b}\\\" = {a} * {f4.mult_inv(b)} = {f4.mult(a, f4.mult_inv(b))}\")"
   ]
  },
  {
   "cell_type": "code",
   "execution_count": 52,
   "id": "bc63f8f1",
   "metadata": {},
   "outputs": [
    {
     "data": {
      "text/plain": [
       "'1+a'"
      ]
     },
     "execution_count": 52,
     "metadata": {},
     "output_type": "execute_result"
    }
   ],
   "source": [
    ">>> f4.div(a, b)"
   ]
  },
  {
   "cell_type": "markdown",
   "id": "894bd8b1",
   "metadata": {},
   "source": [
    "Recall the definition of a Field, given at the beginning of this User Guide:\n",
    "\n",
    "**Field** -- a Ring $\\langle S, +, \\times \\rangle$, where $\\langle S\\setminus{\\{0\\}}, \\times \\rangle$ is a commutative Group.\n",
    "\n",
    "During Field construction, the commutative Group, mentioned in the definition, is also constructed and stored inside the Field instance.  It is used to obtain multiplicative inverses and to define a *division* method, ``div``.\n",
    "\n",
    "The ``div`` method, for example, can be used to construct the \"Division\" table shown in the Wikipedia entry, [\"Field with four elements\"](https://en.wikipedia.org/wiki/Finite_field#Field_with_four_elements):"
   ]
  },
  {
   "cell_type": "code",
   "execution_count": 53,
   "id": "5dd4c7d8",
   "metadata": {},
   "outputs": [
    {
     "data": {
      "text/plain": [
       "[[None, '0', '0', '0'],\n",
       " [None, '1', '1+a', 'a'],\n",
       " [None, 'a', '1', '1+a'],\n",
       " [None, '1+a', 'a', '1']]"
      ]
     },
     "execution_count": 53,
     "metadata": {},
     "output_type": "execute_result"
    }
   ],
   "source": [
    ">>> div_table = [[f4.div(x, y) for y in f4.elements] for x in f4.elements]\n",
    ">>> div_table"
   ]
  },
  {
   "cell_type": "markdown",
   "id": "2d8e121c",
   "metadata": {},
   "source": [
    "### Autogenerated Prime Field"
   ]
  },
  {
   "cell_type": "markdown",
   "id": "09be7095",
   "metadata": {},
   "source": [
    "The example here uses the function, ``generate_algebra_mod_n``, described above.  As noted above, if the order, n, is prime, then it will produce a Field."
   ]
  },
  {
   "cell_type": "code",
   "execution_count": 54,
   "id": "4a9637c1",
   "metadata": {},
   "outputs": [
    {
     "name": "stdout",
     "output_type": "stream",
     "text": [
      "\n",
      "Field: F7\n",
      "Instance ID: 140613203961040\n",
      "Description: Autogenerated Field of integers mod 7\n",
      "Order: 7\n",
      "Identity: a0\n",
      "Associative? Yes\n",
      "Commutative? Yes\n",
      "Elements:\n",
      "   Index   Name   Inverse  Order\n",
      "      0      a0      a0       1\n",
      "      1      a1      a6       7\n",
      "      2      a2      a5       7\n",
      "      3      a3      a4       7\n",
      "      4      a4      a3       7\n",
      "      5      a5      a2       7\n",
      "      6      a6      a1       7\n",
      "Cayley Table (showing indices):\n",
      "[[0, 1, 2, 3, 4, 5, 6],\n",
      " [1, 2, 3, 4, 5, 6, 0],\n",
      " [2, 3, 4, 5, 6, 0, 1],\n",
      " [3, 4, 5, 6, 0, 1, 2],\n",
      " [4, 5, 6, 0, 1, 2, 3],\n",
      " [5, 6, 0, 1, 2, 3, 4],\n",
      " [6, 0, 1, 2, 3, 4, 5]]\n",
      "Mult. Identity: a1\n",
      "Mult. Commutative? Yes\n",
      "Multiplicative Cayley Table (showing indices):\n",
      "[[0, 0, 0, 0, 0, 0, 0],\n",
      " [0, 1, 2, 3, 4, 5, 6],\n",
      " [0, 2, 4, 6, 1, 3, 5],\n",
      " [0, 3, 6, 2, 5, 1, 4],\n",
      " [0, 4, 1, 5, 2, 6, 3],\n",
      " [0, 5, 3, 1, 6, 4, 2],\n",
      " [0, 6, 5, 4, 3, 2, 1]]\n"
     ]
    }
   ],
   "source": [
    ">>> from finite_algebras import generate_algebra_mod_n\n",
    "\n",
    ">>> f7 = generate_algebra_mod_n(7)\n",
    ">>> f7.about()"
   ]
  },
  {
   "cell_type": "markdown",
   "id": "ab82e380",
   "metadata": {},
   "source": [
    "## Serialization"
   ]
  },
  {
   "cell_type": "markdown",
   "id": "55249ea3",
   "metadata": {},
   "source": [
    "Algebras can be converted to and from JSON strings/files and Python dictionaries."
   ]
  },
  {
   "cell_type": "markdown",
   "id": "31b33f33",
   "metadata": {},
   "source": [
    "### Instantiate Algebra from JSON File"
   ]
  },
  {
   "cell_type": "markdown",
   "id": "68eed6c0",
   "metadata": {},
   "source": [
    "First setup some path variables:\n",
    "\n",
    "* one that points to the abstract_algebra directory\n",
    "* and the other points to a subdirectory containing algebra definitions in JSON format\n",
    "\n",
    "Also, the code here assumes that there is an environment\n",
    "variable, ``PYPROJ``, that points to the parent directory of the abstract_algebra directory."
   ]
  },
  {
   "cell_type": "code",
   "execution_count": 55,
   "id": "1f8ea059",
   "metadata": {},
   "outputs": [],
   "source": [
    ">>> import os\n",
    ">>> aa_path = os.path.join(os.getenv(\"PYPROJ\"), \"abstract_algebra\")\n",
    ">>> alg_dir = os.path.join(aa_path, \"Algebras\")"
   ]
  },
  {
   "cell_type": "markdown",
   "id": "6ec666e7",
   "metadata": {},
   "source": [
    "Here's the **JSON file**:"
   ]
  },
  {
   "cell_type": "code",
   "execution_count": 56,
   "id": "7ee460ef",
   "metadata": {},
   "outputs": [
    {
     "name": "stdout",
     "output_type": "stream",
     "text": [
      "{\"name\": \"V4\",\r\n",
      " \"description\": \"Klein-4 group\",\r\n",
      " \"elements\": [\"e\", \"h\", \"v\", \"r\"],\r\n",
      " \"table\": [[0, 1, 2, 3],\r\n",
      "           [1, 0, 3, 2],\r\n",
      "           [2, 3, 0, 1],\r\n",
      "           [3, 2, 1, 0]]\r\n",
      "}\r\n"
     ]
    }
   ],
   "source": [
    ">>> v4_json = os.path.join(alg_dir, \"v4_klein_4_group.json\")\n",
    "\n",
    ">>> !cat {v4_json}"
   ]
  },
  {
   "cell_type": "markdown",
   "id": "b1dc8bff",
   "metadata": {},
   "source": [
    "And, here's the **algebra**:"
   ]
  },
  {
   "cell_type": "code",
   "execution_count": 57,
   "id": "6a20e3fe",
   "metadata": {},
   "outputs": [
    {
     "data": {
      "text/plain": [
       "Group(\n",
       "'V4',\n",
       "'Klein-4 group',\n",
       "['e', 'h', 'v', 'r'],\n",
       "[[0, 1, 2, 3], [1, 0, 3, 2], [2, 3, 0, 1], [3, 2, 1, 0]]\n",
       ")"
      ]
     },
     "execution_count": 57,
     "metadata": {},
     "output_type": "execute_result"
    }
   ],
   "source": [
    ">>> v4 = make_finite_algebra(v4_json)\n",
    "\n",
    ">>> v4"
   ]
  },
  {
   "cell_type": "markdown",
   "id": "4ae248a8",
   "metadata": {},
   "source": [
    "### Convert Algebra to Python Dictionary"
   ]
  },
  {
   "cell_type": "markdown",
   "id": "f8a3d297",
   "metadata": {},
   "source": [
    "The examples, below, show a Magma, Group, & Field, being converted into dictionaries."
   ]
  },
  {
   "cell_type": "code",
   "execution_count": 58,
   "id": "5854182e",
   "metadata": {},
   "outputs": [
    {
     "data": {
      "text/plain": [
       "{'name': 'RPS',\n",
       " 'description': 'Rock, Paper, Scissors Magma',\n",
       " 'elements': ['r', 'p', 's'],\n",
       " 'table': [[0, 1, 0], [1, 1, 2], [0, 2, 2]]}"
      ]
     },
     "execution_count": 58,
     "metadata": {},
     "output_type": "execute_result"
    }
   ],
   "source": [
    ">>> rps.to_dict()"
   ]
  },
  {
   "cell_type": "markdown",
   "id": "473da92c",
   "metadata": {},
   "source": [
    "The **type** of algebra (e.g., Magma) can be included in the dictionary for readability, however, the *type* field is ignored when ``make_finite_algebra`` reads a dictionary or JSON file."
   ]
  },
  {
   "cell_type": "code",
   "execution_count": 59,
   "id": "87cdc31b",
   "metadata": {},
   "outputs": [
    {
     "data": {
      "text/plain": [
       "{'name': 'RPS',\n",
       " 'description': 'Rock, Paper, Scissors Magma',\n",
       " 'elements': ['r', 'p', 's'],\n",
       " 'table': [[0, 1, 0], [1, 1, 2], [0, 2, 2]],\n",
       " 'type': 'Magma'}"
      ]
     },
     "execution_count": 59,
     "metadata": {},
     "output_type": "execute_result"
    }
   ],
   "source": [
    ">>> rps_dict = rps.to_dict(include_classname=True)\n",
    "\n",
    ">>> rps_dict"
   ]
  },
  {
   "cell_type": "code",
   "execution_count": 60,
   "id": "dd12a2aa",
   "metadata": {},
   "outputs": [
    {
     "data": {
      "text/plain": [
       "{'name': 'V4',\n",
       " 'description': 'Klein-4 group',\n",
       " 'elements': ['e', 'h', 'v', 'r'],\n",
       " 'table': [[0, 1, 2, 3], [1, 0, 3, 2], [2, 3, 0, 1], [3, 2, 1, 0]]}"
      ]
     },
     "execution_count": 60,
     "metadata": {},
     "output_type": "execute_result"
    }
   ],
   "source": [
    ">>> v4_dict = v4.to_dict()\n",
    "\n",
    ">>> v4_dict"
   ]
  },
  {
   "cell_type": "code",
   "execution_count": 61,
   "id": "3756ce6a",
   "metadata": {},
   "outputs": [
    {
     "data": {
      "text/plain": [
       "{'name': 'F4',\n",
       " 'description': 'Field with 4 elements',\n",
       " 'elements': ['0', '1', 'a', '1+a'],\n",
       " 'table': [[0, 1, 2, 3], [1, 0, 3, 2], [2, 3, 0, 1], [3, 2, 1, 0]],\n",
       " 'table2': [[0, 0, 0, 0], [0, 1, 2, 3], [0, 2, 3, 1], [0, 3, 1, 2]]}"
      ]
     },
     "execution_count": 61,
     "metadata": {},
     "output_type": "execute_result"
    }
   ],
   "source": [
    ">>> f4_dict = f4.to_dict()\n",
    "\n",
    ">>> f4_dict"
   ]
  },
  {
   "cell_type": "markdown",
   "id": "7237669c",
   "metadata": {},
   "source": [
    "### Instantiate Algebra from Python Dictionary"
   ]
  },
  {
   "cell_type": "code",
   "execution_count": 62,
   "id": "56f5e24e",
   "metadata": {},
   "outputs": [
    {
     "data": {
      "text/plain": [
       "Magma(\n",
       "'RPS',\n",
       "'Rock, Paper, Scissors Magma',\n",
       "['r', 'p', 's'],\n",
       "[[0, 1, 0], [1, 1, 2], [0, 2, 2]]\n",
       ")"
      ]
     },
     "execution_count": 62,
     "metadata": {},
     "output_type": "execute_result"
    }
   ],
   "source": [
    ">>> rps_from_dict = make_finite_algebra(rps_dict)\n",
    "\n",
    ">>> rps_from_dict"
   ]
  },
  {
   "cell_type": "code",
   "execution_count": 63,
   "id": "b19bff55",
   "metadata": {},
   "outputs": [
    {
     "data": {
      "text/plain": [
       "Group(\n",
       "'V4',\n",
       "'Klein-4 group',\n",
       "['e', 'h', 'v', 'r'],\n",
       "[[0, 1, 2, 3], [1, 0, 3, 2], [2, 3, 0, 1], [3, 2, 1, 0]]\n",
       ")"
      ]
     },
     "execution_count": 63,
     "metadata": {},
     "output_type": "execute_result"
    }
   ],
   "source": [
    ">>> v4_from_dict = make_finite_algebra(v4_dict)\n",
    "\n",
    ">>> v4_from_dict"
   ]
  },
  {
   "cell_type": "code",
   "execution_count": 64,
   "id": "3b6ab30c",
   "metadata": {},
   "outputs": [
    {
     "data": {
      "text/plain": [
       "Field(\n",
       "'F4',\n",
       "'Field with 4 elements',\n",
       "['0', '1', 'a', '1+a'],\n",
       "[[0, 1, 2, 3], [1, 0, 3, 2], [2, 3, 0, 1], [3, 2, 1, 0]],\n",
       "[[0, 0, 0, 0], [0, 1, 2, 3], [0, 2, 3, 1], [0, 3, 1, 2]]\n",
       ")"
      ]
     },
     "execution_count": 64,
     "metadata": {},
     "output_type": "execute_result"
    }
   ],
   "source": [
    ">>> f4_from_dict = make_finite_algebra(f4_dict)\n",
    "\n",
    ">>> f4_from_dict"
   ]
  },
  {
   "cell_type": "markdown",
   "id": "a6b8e49c",
   "metadata": {},
   "source": [
    "### Convert Algebra to JSON String"
   ]
  },
  {
   "cell_type": "code",
   "execution_count": 65,
   "id": "a1e2a1fc",
   "metadata": {},
   "outputs": [
    {
     "data": {
      "text/plain": [
       "'{\"name\": \"V4\", \"description\": \"Klein-4 group\", \"elements\": [\"e\", \"h\", \"v\", \"r\"], \"table\": [[0, 1, 2, 3], [1, 0, 3, 2], [2, 3, 0, 1], [3, 2, 1, 0]]}'"
      ]
     },
     "execution_count": 65,
     "metadata": {},
     "output_type": "execute_result"
    }
   ],
   "source": [
    ">>> v4_json_string = v4.dumps()\n",
    "\n",
    ">>> v4_json_string"
   ]
  },
  {
   "cell_type": "markdown",
   "id": "cbab9e6f",
   "metadata": {},
   "source": [
    "**WARNING**: Although an algebra can be constructed by loading its definition from a JSON file, it cannot be constructed directly from a JSON string, because ``make_finite_algebra`` interprets a single string input as a JSON file name.  To load an algebra from a JSON string, first convert the string to a Python dictionary, then input that to ``make_finite_algebra``, as shown below:"
   ]
  },
  {
   "cell_type": "code",
   "execution_count": 66,
   "id": "22094689",
   "metadata": {},
   "outputs": [
    {
     "data": {
      "text/plain": [
       "Group(\n",
       "'V4',\n",
       "'Klein-4 group',\n",
       "['e', 'h', 'v', 'r'],\n",
       "[[0, 1, 2, 3], [1, 0, 3, 2], [2, 3, 0, 1], [3, 2, 1, 0]]\n",
       ")"
      ]
     },
     "execution_count": 66,
     "metadata": {},
     "output_type": "execute_result"
    }
   ],
   "source": [
    ">>> import json\n",
    "\n",
    ">>> make_finite_algebra(json.loads(v4_json_string))"
   ]
  },
  {
   "cell_type": "markdown",
   "id": "f26c3e6e",
   "metadata": {},
   "source": [
    "## Autogeneration of Finite Algebras\n",
    "\n",
    "There are several functions for autogenerating finite algebras of specified size:\n",
    "\n",
    "**Groups**\n",
    "\n",
    "* ``generate_cyclic_group(n)``: $Z_n$, where $a \\circ b \\equiv a+b$ mod $n$, where $a,b \\in \\{0,1,...,n-1\\}$\n",
    "* ``generate_symmetric_group(n)``: $S_n$, where $\\circ$ is composition of permutations of $(0, 1, ..., n-1)$\n",
    "* ``generate_powerset_group(n)``: $A \\circ B \\equiv A \\bigtriangleup B$, where $A,B \\in P(\\{0, 1, ..., n-1\\})$; order is $2^n$\n",
    "\n",
    "**Monoid**\n",
    "\n",
    "* ``generate_commutative_monoid(n)``: $a \\circ b \\equiv ab$ mod $n$, where $a,b \\in \\{0,1,...,n-1\\}$\n",
    "\n",
    "**Rings & Fields**\n",
    "\n",
    "* ``generate_powerset_ring``: $A+B \\equiv A \\bigtriangleup B$ and $A \\times B \\equiv A \\cap B$, where $A,B \\in P(\\{0, 1, ..., n-1\\})$\n",
    "* ``generate_algebra_mod_n``: Combination of <i>generate_cyclic_group</i> ($+$) and <i>generate_commutative_monoid</i> ($\\times$)\n",
    "  * If n is prime, then this will be a Field, otherwise it will be a Ring"
   ]
  },
  {
   "cell_type": "markdown",
   "id": "b78789b8",
   "metadata": {},
   "source": [
    "### Autogenerated Cyclic Group"
   ]
  },
  {
   "cell_type": "markdown",
   "id": "71c2e26f",
   "metadata": {},
   "source": [
    "A cyclic group of any desired order can be generated as follows:"
   ]
  },
  {
   "cell_type": "code",
   "execution_count": 67,
   "id": "be71c2b1",
   "metadata": {},
   "outputs": [
    {
     "name": "stdout",
     "output_type": "stream",
     "text": [
      "\n",
      "Group: Z2\n",
      "Instance ID: 140613755624592\n",
      "Description: Autogenerated cyclic Group of order 2\n",
      "Order: 2\n",
      "Identity: e\n",
      "Associative? Yes\n",
      "Commutative? Yes\n",
      "Elements:\n",
      "   Index   Name   Inverse  Order\n",
      "      0       e       e       1\n",
      "      1       a       a       2\n",
      "Cayley Table (showing indices):\n",
      "[[0, 1], [1, 0]]\n"
     ]
    }
   ],
   "source": [
    ">>> from finite_algebras import generate_cyclic_group\n",
    "\n",
    ">>> z2 = generate_cyclic_group(2)\n",
    "\n",
    ">>> z2.about()"
   ]
  },
  {
   "cell_type": "markdown",
   "id": "34c2e0e5",
   "metadata": {},
   "source": [
    "### Autogenerated Symmetric Group"
   ]
  },
  {
   "cell_type": "markdown",
   "id": "f42d60fa",
   "metadata": {},
   "source": [
    "The symmetric group, based on the permutations of <b>n</b> elements, (1, 2, 3, ..., n), can be generated as follows:\n",
    "\n",
    "**WARNING**: Since the order of an autogenerated symmetric group is **n!**, even a small value of **n** can result in a very large group."
   ]
  },
  {
   "cell_type": "code",
   "execution_count": 68,
   "id": "a47913d8",
   "metadata": {},
   "outputs": [
    {
     "name": "stdout",
     "output_type": "stream",
     "text": [
      "\n",
      "Group: S3\n",
      "Instance ID: 140613755543248\n",
      "Description: Autogenerated symmetric Group on 3 elements\n",
      "Order: 6\n",
      "Identity: (1, 2, 3)\n",
      "Associative? Yes\n",
      "Commutative? No\n",
      "Elements:\n",
      "   Index   Name   Inverse  Order\n",
      "      0 (1, 2, 3) (1, 2, 3)       1\n",
      "      1 (1, 3, 2) (1, 3, 2)       2\n",
      "      2 (2, 1, 3) (2, 1, 3)       2\n",
      "      3 (2, 3, 1) (3, 1, 2)       3\n",
      "      4 (3, 1, 2) (2, 3, 1)       3\n",
      "      5 (3, 2, 1) (3, 2, 1)       2\n",
      "Cayley Table (showing indices):\n",
      "[[0, 1, 2, 3, 4, 5],\n",
      " [1, 0, 4, 5, 2, 3],\n",
      " [2, 3, 0, 1, 5, 4],\n",
      " [3, 2, 5, 4, 0, 1],\n",
      " [4, 5, 1, 0, 3, 2],\n",
      " [5, 4, 3, 2, 1, 0]]\n"
     ]
    }
   ],
   "source": [
    ">>> from finite_algebras import generate_symmetric_group\n",
    "\n",
    ">>> s3 = generate_symmetric_group(3)\n",
    "\n",
    ">>> s3.about()"
   ]
  },
  {
   "cell_type": "markdown",
   "id": "f8a82a6f",
   "metadata": {},
   "source": [
    "### Autogenerated Powerset Group\n",
    "\n",
    "The function, ``generate_powerset_group``, will generate a group on the powerset of {0, 1, 2, ..., n-1} with **symmetric difference** as the group's binary operation.  This group is useful because it can be used to form a ring with set intersection as the second operator.\n",
    "\n",
    "This means that the order of the autogenerated powerset group will be $2^n$, so the same WARNING as above applies with regard to large values of n."
   ]
  },
  {
   "cell_type": "code",
   "execution_count": 69,
   "id": "4c343e3a",
   "metadata": {},
   "outputs": [
    {
     "name": "stdout",
     "output_type": "stream",
     "text": [
      "\n",
      "Group: PS3\n",
      "Instance ID: 140613755541456\n",
      "Description: Autogenerated Group on the powerset of 3 elements, with symmetric difference operator\n",
      "Order: 8\n",
      "Identity: {}\n",
      "Associative? Yes\n",
      "Commutative? Yes\n",
      "Elements:\n",
      "   Index   Name   Inverse  Order\n",
      "      0      {}      {}       1\n",
      "      1     {0}     {0}       2\n",
      "      2     {1}     {1}       2\n",
      "      3     {2}     {2}       2\n",
      "      4  {0, 1}  {0, 1}       2\n",
      "      5  {0, 2}  {0, 2}       2\n",
      "      6  {1, 2}  {1, 2}       2\n",
      "      7 {0, 1, 2} {0, 1, 2}       2\n",
      "Cayley Table (showing indices):\n",
      "[[0, 1, 2, 3, 4, 5, 6, 7],\n",
      " [1, 0, 4, 5, 2, 3, 7, 6],\n",
      " [2, 4, 0, 6, 1, 7, 3, 5],\n",
      " [3, 5, 6, 0, 7, 1, 2, 4],\n",
      " [4, 2, 1, 7, 0, 6, 5, 3],\n",
      " [5, 3, 7, 1, 6, 0, 4, 2],\n",
      " [6, 7, 3, 2, 5, 4, 0, 1],\n",
      " [7, 6, 5, 4, 3, 2, 1, 0]]\n"
     ]
    }
   ],
   "source": [
    ">>> from finite_algebras import generate_powerset_group\n",
    "\n",
    ">>> ps3 = generate_powerset_group(3)\n",
    "\n",
    ">>> ps3.about()"
   ]
  },
  {
   "cell_type": "markdown",
   "id": "38fd4e1e",
   "metadata": {},
   "source": [
    "### Autogenerated Monoid"
   ]
  },
  {
   "cell_type": "markdown",
   "id": "9907668d",
   "metadata": {},
   "source": [
    "The function, ``generate_commutative_monoid``, is based on integer multiplication modulo the desired order."
   ]
  },
  {
   "cell_type": "code",
   "execution_count": 70,
   "id": "77c9752f",
   "metadata": {},
   "outputs": [
    {
     "name": "stdout",
     "output_type": "stream",
     "text": [
      "\n",
      "Monoid: M7\n",
      "Instance ID: 140613755621264\n",
      "Description: Autogenerated commutative Monoid of order 7\n",
      "Order: 7\n",
      "Elements: ['a0', 'a1', 'a2', 'a3', 'a4', 'a5', 'a6']\n",
      "Identity: a1\n",
      "Associative? Yes\n",
      "Commutative? Yes\n",
      "Has Inverses? No\n",
      "Cayley Table (showing indices):\n",
      "[[0, 0, 0, 0, 0, 0, 0],\n",
      " [0, 1, 2, 3, 4, 5, 6],\n",
      " [0, 2, 4, 6, 1, 3, 5],\n",
      " [0, 3, 6, 2, 5, 1, 4],\n",
      " [0, 4, 1, 5, 2, 6, 3],\n",
      " [0, 5, 3, 1, 6, 4, 2],\n",
      " [0, 6, 5, 4, 3, 2, 1]]\n"
     ]
    }
   ],
   "source": [
    ">>> from finite_algebras import generate_commutative_monoid\n",
    "\n",
    ">>> m7 = generate_commutative_monoid(7)\n",
    "\n",
    ">>> m7.about()"
   ]
  },
  {
   "cell_type": "markdown",
   "id": "65ea5d25",
   "metadata": {},
   "source": [
    "## Direct Products"
   ]
  },
  {
   "cell_type": "markdown",
   "id": "e37b188b",
   "metadata": {},
   "source": [
    "The **direct product** of two or more algebras can be generated using Python's multiplication operator, ``*``:"
   ]
  },
  {
   "cell_type": "markdown",
   "id": "f70a6857",
   "metadata": {},
   "source": [
    "### Direct Product of Multiple Groups"
   ]
  },
  {
   "cell_type": "code",
   "execution_count": 71,
   "id": "d60ee4a9",
   "metadata": {},
   "outputs": [
    {
     "name": "stdout",
     "output_type": "stream",
     "text": [
      "\n",
      "Group: Z2_x_Z2_x_Z2\n",
      "Instance ID: 140613204008272\n",
      "Description: Direct product of Z2_x_Z2 & Z2\n",
      "Order: 8\n",
      "Identity: e:e:e\n",
      "Associative? Yes\n",
      "Commutative? Yes\n",
      "Elements:\n",
      "   Index   Name   Inverse  Order\n",
      "      0   e:e:e   e:e:e       1\n",
      "      1   e:e:a   e:e:a       2\n",
      "      2   e:a:e   e:a:e       2\n",
      "      3   e:a:a   e:a:a       2\n",
      "      4   a:e:e   a:e:e       2\n",
      "      5   a:e:a   a:e:a       2\n",
      "      6   a:a:e   a:a:e       2\n",
      "      7   a:a:a   a:a:a       2\n",
      "Cayley Table (showing indices):\n",
      "[[0, 1, 2, 3, 4, 5, 6, 7],\n",
      " [1, 0, 3, 2, 5, 4, 7, 6],\n",
      " [2, 3, 0, 1, 6, 7, 4, 5],\n",
      " [3, 2, 1, 0, 7, 6, 5, 4],\n",
      " [4, 5, 6, 7, 0, 1, 2, 3],\n",
      " [5, 4, 7, 6, 1, 0, 3, 2],\n",
      " [6, 7, 4, 5, 2, 3, 0, 1],\n",
      " [7, 6, 5, 4, 3, 2, 1, 0]]\n"
     ]
    }
   ],
   "source": [
    ">>> z2_cubed = z2 * z2 * z2\n",
    "\n",
    ">>> z2_cubed.about()"
   ]
  },
  {
   "cell_type": "markdown",
   "id": "35524646",
   "metadata": {},
   "source": [
    "### Direct Product of Monoids"
   ]
  },
  {
   "cell_type": "code",
   "execution_count": 72,
   "id": "3808bb19",
   "metadata": {},
   "outputs": [
    {
     "data": {
      "text/plain": [
       "Monoid(\n",
       "'M3',\n",
       "'Autogenerated commutative Monoid of order 3',\n",
       "['a0', 'a1', 'a2'],\n",
       "[[0, 0, 0], [0, 1, 2], [0, 2, 1]]\n",
       ")"
      ]
     },
     "execution_count": 72,
     "metadata": {},
     "output_type": "execute_result"
    }
   ],
   "source": [
    ">>> mon3 = generate_commutative_monoid(3)\n",
    "\n",
    ">>> mon3"
   ]
  },
  {
   "cell_type": "code",
   "execution_count": 73,
   "id": "130e38bd",
   "metadata": {},
   "outputs": [
    {
     "name": "stdout",
     "output_type": "stream",
     "text": [
      "\n",
      "Monoid: M3_x_M3\n",
      "Instance ID: 140613755542864\n",
      "Description: Direct product of M3 & M3\n",
      "Order: 9\n",
      "Elements: ['a0:a0', 'a0:a1', 'a0:a2', 'a1:a0', 'a1:a1', 'a1:a2', 'a2:a0', 'a2:a1', 'a2:a2']\n",
      "Identity: a1:a1\n",
      "Associative? Yes\n",
      "Commutative? Yes\n",
      "Has Inverses? No\n",
      "Cayley Table (showing indices):\n",
      "[[0, 0, 0, 0, 0, 0, 0, 0, 0],\n",
      " [0, 1, 2, 0, 1, 2, 0, 1, 2],\n",
      " [0, 2, 1, 0, 2, 1, 0, 2, 1],\n",
      " [0, 0, 0, 3, 3, 3, 6, 6, 6],\n",
      " [0, 1, 2, 3, 4, 5, 6, 7, 8],\n",
      " [0, 2, 1, 3, 5, 4, 6, 8, 7],\n",
      " [0, 0, 0, 6, 6, 6, 3, 3, 3],\n",
      " [0, 1, 2, 6, 7, 8, 3, 4, 5],\n",
      " [0, 2, 1, 6, 8, 7, 3, 5, 4]]\n"
     ]
    }
   ],
   "source": [
    ">>> m3_sqr = mon3 * mon3\n",
    ">>> m3_sqr.about()"
   ]
  },
  {
   "cell_type": "markdown",
   "id": "48845de2",
   "metadata": {},
   "source": [
    "## Isomorphisms"
   ]
  },
  {
   "cell_type": "markdown",
   "id": "e348cfc8",
   "metadata": {},
   "source": [
    "If two groups are isomorphic, then the mapping between their elements is returned as a Python dictionary.\n",
    "\n",
    "Here'a a well-known example, using two small groups created above:"
   ]
  },
  {
   "cell_type": "markdown",
   "id": "95cb12c7",
   "metadata": {},
   "source": [
    "### Group Isomorphism"
   ]
  },
  {
   "cell_type": "code",
   "execution_count": 74,
   "id": "264283d6",
   "metadata": {},
   "outputs": [
    {
     "data": {
      "text/plain": [
       "{'e': 'e:e', 'h': 'e:a', 'v': 'a:e', 'r': 'a:a'}"
      ]
     },
     "execution_count": 74,
     "metadata": {},
     "output_type": "execute_result"
    }
   ],
   "source": [
    ">>> z2_sqr = z2 * z2\n",
    "\n",
    ">>> v4.isomorphic(z2_sqr)"
   ]
  },
  {
   "cell_type": "markdown",
   "id": "b5ecc8fa",
   "metadata": {},
   "source": [
    "If two groups are not isomorphic, then ``False`` is returned."
   ]
  },
  {
   "cell_type": "code",
   "execution_count": 75,
   "id": "a71378a8",
   "metadata": {},
   "outputs": [
    {
     "data": {
      "text/plain": [
       "False"
      ]
     },
     "execution_count": 75,
     "metadata": {},
     "output_type": "execute_result"
    }
   ],
   "source": [
    ">>> z4 = generate_cyclic_group(4)\n",
    "\n",
    ">>> z4.isomorphic(z2_sqr)"
   ]
  },
  {
   "cell_type": "markdown",
   "id": "487d3872",
   "metadata": {},
   "source": [
    "### Magma Isomorphism"
   ]
  },
  {
   "cell_type": "markdown",
   "id": "920a2869",
   "metadata": {},
   "source": [
    "**Water, Fire, Stick Magma**"
   ]
  },
  {
   "cell_type": "markdown",
   "id": "117040f3",
   "metadata": {},
   "source": [
    "A made-up Magma, similar to Rock, Paper, Scissors:\n",
    "\n",
    "* Water quenches Fire\n",
    "* Fire burns Stick\n",
    "* Stick floats on Water"
   ]
  },
  {
   "cell_type": "code",
   "execution_count": 76,
   "id": "1a39a8c0",
   "metadata": {},
   "outputs": [
    {
     "data": {
      "text/plain": [
       "Magma(\n",
       "'WFS',\n",
       "'Water, Fire, Stick Magma',\n",
       "['water', 'fire', 'stick'],\n",
       "[[0, 0, 2], [0, 1, 1], [2, 1, 2]]\n",
       ")"
      ]
     },
     "execution_count": 76,
     "metadata": {},
     "output_type": "execute_result"
    }
   ],
   "source": [
    ">>> wfs = make_finite_algebra('WFS',\n",
    "                              'Water, Fire, Stick Magma',\n",
    "                              ['water', 'fire', 'stick'],\n",
    "                              [[0, 0, 2],\n",
    "                               [0, 1, 1],\n",
    "                               [2, 1, 2]])\n",
    ">>> wfs"
   ]
  },
  {
   "cell_type": "markdown",
   "id": "9d6a2998",
   "metadata": {},
   "source": [
    "Here's the isomorphism between rps and wfs:"
   ]
  },
  {
   "cell_type": "code",
   "execution_count": 77,
   "id": "c6d37646",
   "metadata": {},
   "outputs": [
    {
     "data": {
      "text/plain": [
       "{'r': 'water', 'p': 'stick', 's': 'fire'}"
      ]
     },
     "execution_count": 77,
     "metadata": {},
     "output_type": "execute_result"
    }
   ],
   "source": [
    ">>> rps.isomorphic(wfs)"
   ]
  },
  {
   "cell_type": "markdown",
   "id": "6e81fe0b",
   "metadata": {},
   "source": [
    "## Subalgebras (Subgroups)"
   ]
  },
  {
   "cell_type": "markdown",
   "id": "bc3958b5",
   "metadata": {},
   "source": [
    "A Group can contain subgroups, submonoids, subsemigroups, or submagmas.  In general, all of these are referred to here as *subalgebras*.\n",
    "\n",
    "The method, ``proper_subalgebras``, extracts all possible subalgebras that exist within an algebra, regardless of whether they are isomorphic to each other or not, or even of the same algebraic class as the parent algebra."
   ]
  },
  {
   "cell_type": "markdown",
   "id": "0f2e8628",
   "metadata": {},
   "source": [
    "### Proper Subgroups"
   ]
  },
  {
   "cell_type": "code",
   "execution_count": 78,
   "id": "9e9271ea",
   "metadata": {},
   "outputs": [
    {
     "name": "stdout",
     "output_type": "stream",
     "text": [
      "\n",
      "Group: Z8\n",
      "Instance ID: 140613755622544\n",
      "Description: Autogenerated cyclic Group of order 8\n",
      "Order: 8\n",
      "Identity: e\n",
      "Associative? Yes\n",
      "Commutative? Yes\n",
      "Elements:\n",
      "   Index   Name   Inverse  Order\n",
      "      0       e       e       1\n",
      "      1       a     a^7       8\n",
      "      2     a^2     a^6       4\n",
      "      3     a^3     a^5       8\n",
      "      4     a^4     a^4       2\n",
      "      5     a^5     a^3       8\n",
      "      6     a^6     a^2       4\n",
      "      7     a^7       a       8\n",
      "Cayley Table (showing indices):\n",
      "[[0, 1, 2, 3, 4, 5, 6, 7],\n",
      " [1, 2, 3, 4, 5, 6, 7, 0],\n",
      " [2, 3, 4, 5, 6, 7, 0, 1],\n",
      " [3, 4, 5, 6, 7, 0, 1, 2],\n",
      " [4, 5, 6, 7, 0, 1, 2, 3],\n",
      " [5, 6, 7, 0, 1, 2, 3, 4],\n",
      " [6, 7, 0, 1, 2, 3, 4, 5],\n",
      " [7, 0, 1, 2, 3, 4, 5, 6]]\n"
     ]
    }
   ],
   "source": [
    ">>> z8 = generate_cyclic_group(8)\n",
    ">>> z8.about()"
   ]
  },
  {
   "cell_type": "code",
   "execution_count": 79,
   "id": "700132da",
   "metadata": {},
   "outputs": [
    {
     "name": "stdout",
     "output_type": "stream",
     "text": [
      "\n",
      "Group: Z8_subalgebra_0\n",
      "Instance ID: 140614281590928\n",
      "Description: Subalgebra of: Autogenerated cyclic Group of order 8\n",
      "Order: 2\n",
      "Identity: e\n",
      "Associative? Yes\n",
      "Commutative? Yes\n",
      "Elements:\n",
      "   Index   Name   Inverse  Order\n",
      "      0       e       e       1\n",
      "      1     a^4     a^4       2\n",
      "Cayley Table (showing indices):\n",
      "[[0, 1], [1, 0]]\n",
      "\n",
      "Group: Z8_subalgebra_1\n",
      "Instance ID: 140614281589904\n",
      "Description: Subalgebra of: Autogenerated cyclic Group of order 8\n",
      "Order: 4\n",
      "Identity: e\n",
      "Associative? Yes\n",
      "Commutative? Yes\n",
      "Elements:\n",
      "   Index   Name   Inverse  Order\n",
      "      0       e       e       1\n",
      "      1     a^2     a^6       4\n",
      "      2     a^4     a^4       2\n",
      "      3     a^6     a^2       4\n",
      "Cayley Table (showing indices):\n",
      "[[0, 1, 2, 3], [1, 2, 3, 0], [2, 3, 0, 1], [3, 0, 1, 2]]\n"
     ]
    }
   ],
   "source": [
    ">>> z8_proper_subs = z8.proper_subalgebras()\n",
    "\n",
    ">>> _ = [z8_proper_sub.about() for z8_proper_sub in z8_proper_subs]"
   ]
  },
  {
   "cell_type": "markdown",
   "id": "86e2d60a",
   "metadata": {},
   "source": [
    "### Normal Subgroups"
   ]
  },
  {
   "cell_type": "markdown",
   "id": "c637ff8e",
   "metadata": {},
   "source": [
    "Both of the subgroups of Z8, derived above, are **normal**:"
   ]
  },
  {
   "cell_type": "code",
   "execution_count": 80,
   "id": "b7663b4b",
   "metadata": {},
   "outputs": [
    {
     "data": {
      "text/plain": [
       "[True, True]"
      ]
     },
     "execution_count": 80,
     "metadata": {},
     "output_type": "execute_result"
    }
   ],
   "source": [
    ">>> [z8.is_normal(g) for g in z8_proper_subs]"
   ]
  },
  {
   "cell_type": "markdown",
   "id": "5ee26f8a",
   "metadata": {},
   "source": [
    "### Proper Subalgebras up to Isomorphism"
   ]
  },
  {
   "cell_type": "markdown",
   "id": "54c9f712",
   "metadata": {},
   "source": [
    "The function, ``partition_into_isomorphic_lists``, does just that; it partitions a list of algebras (subgroups in this case) into a list of lists, where each sublist contains subalgebras that are all isomophic to each other.\n",
    "\n",
    "The function, ``about_isomorphic_partitions``, prints out a summary of information about the partitions output by ``partition_into_isomorphic_list``."
   ]
  },
  {
   "cell_type": "code",
   "execution_count": 81,
   "id": "f718c52f",
   "metadata": {},
   "outputs": [],
   "source": [
    "from finite_algebras import partition_into_isomorphic_lists, about_isomorphic_partitions"
   ]
  },
  {
   "cell_type": "markdown",
   "id": "e7ad6edd",
   "metadata": {},
   "source": [
    "The example, below, uses the autogenerated powerset group, **ps3**, that was created earlier."
   ]
  },
  {
   "cell_type": "code",
   "execution_count": 82,
   "id": "7608fb57",
   "metadata": {},
   "outputs": [
    {
     "name": "stdout",
     "output_type": "stream",
     "text": [
      "\n",
      "Subalgebras of <Group:PS3, ID:140613755541456>\n",
      "  There are 2 unique subalgebras, up to isomorphisms, out of 14 total subalgebras\n",
      "  as shown by the partitions below:\n",
      "\n",
      "7 Commutative Normal Groups of Order 2 with identity '{}':\n",
      "      PS3_subalgebra_0: ['{}', '{0, 2}']\n",
      "      PS3_subalgebra_3: ['{}', '{0, 1}']\n",
      "      PS3_subalgebra_4: ['{}', '{1, 2}']\n",
      "      PS3_subalgebra_5: ['{}', '{0, 1, 2}']\n",
      "      PS3_subalgebra_8: ['{}', '{0}']\n",
      "      PS3_subalgebra_12: ['{}', '{2}']\n",
      "      PS3_subalgebra_13: ['{}', '{1}']\n",
      "\n",
      "7 Commutative Normal Groups of Order 4 with identity '{}':\n",
      "      PS3_subalgebra_1: ['{}', '{0}', '{1}', '{0, 1}']\n",
      "      PS3_subalgebra_2: ['{}', '{0}', '{1, 2}', '{0, 1, 2}']\n",
      "      PS3_subalgebra_6: ['{}', '{1}', '{0, 2}', '{0, 1, 2}']\n",
      "      PS3_subalgebra_7: ['{}', '{0, 1}', '{0, 2}', '{1, 2}']\n",
      "      PS3_subalgebra_9: ['{}', '{1}', '{2}', '{1, 2}']\n",
      "      PS3_subalgebra_10: ['{}', '{0}', '{2}', '{0, 2}']\n",
      "      PS3_subalgebra_11: ['{}', '{2}', '{0, 1}', '{0, 1, 2}']\n",
      "\n"
     ]
    }
   ],
   "source": [
    ">>> ps3_proper_subs = ps3.proper_subalgebras()\n",
    "\n",
    ">>> partitions = partition_into_isomorphic_lists(ps3_proper_subs)\n",
    "\n",
    ">>> about_isomorphic_partitions(ps3, partitions)"
   ]
  },
  {
   "cell_type": "markdown",
   "id": "1a7ec40c",
   "metadata": {},
   "source": [
    "### Subalgebras of Semigroups, Etc."
   ]
  },
  {
   "cell_type": "markdown",
   "id": "ea125619",
   "metadata": {},
   "source": [
    "Recall the Semigroup example from above:"
   ]
  },
  {
   "cell_type": "code",
   "execution_count": 83,
   "id": "42fa0db5",
   "metadata": {},
   "outputs": [
    {
     "name": "stdout",
     "output_type": "stream",
     "text": [
      "\n",
      "Semigroup: Example 1.4.1\n",
      "Instance ID: 140614281656976\n",
      "Description: See: Groupoids and Smarandache Groupoids by W. B. Vasantha Kandasamy\n",
      "Order: 6\n",
      "Elements: ['a', 'b', 'c', 'd', 'e', 'f']\n",
      "Identity: None\n",
      "Associative? Yes\n",
      "Commutative? No\n",
      "Has Inverses? No\n",
      "Cayley Table (showing indices):\n",
      "[[0, 3, 0, 3, 0, 3],\n",
      " [1, 4, 1, 4, 1, 4],\n",
      " [2, 5, 2, 5, 2, 5],\n",
      " [3, 0, 3, 0, 3, 0],\n",
      " [4, 1, 4, 1, 4, 1],\n",
      " [5, 2, 5, 2, 5, 2]]\n"
     ]
    }
   ],
   "source": [
    ">>> sg.about()"
   ]
  },
  {
   "cell_type": "markdown",
   "id": "bc6a24f1",
   "metadata": {},
   "source": [
    "It contains 4 unique subalgebras, up to isomorphism, 3 Semigroups and 1 Group:"
   ]
  },
  {
   "cell_type": "code",
   "execution_count": 84,
   "id": "1d25e9e9",
   "metadata": {},
   "outputs": [
    {
     "name": "stdout",
     "output_type": "stream",
     "text": [
      "\n",
      "Subalgebras of <Semigroup:Example 1.4.1, ID:140614281656976>\n",
      "  There are 4 unique subalgebras, up to isomorphisms, out of 10 total subalgebras\n",
      "  as shown by the partitions below:\n",
      "\n",
      "3 Semigroups of Order 2:\n",
      "      Example 1.4.1_subalgebra_0: ['a', 'c']\n",
      "      Example 1.4.1_subalgebra_2: ['c', 'e']\n",
      "      Example 1.4.1_subalgebra_6: ['a', 'e']\n",
      "\n",
      "3 Semigroups of Order 4:\n",
      "      Example 1.4.1_subalgebra_1: ['b', 'c', 'e', 'f']\n",
      "      Example 1.4.1_subalgebra_3: ['a', 'c', 'd', 'f']\n",
      "      Example 1.4.1_subalgebra_7: ['a', 'b', 'd', 'e']\n",
      "\n",
      "3 Commutative Groups of Order 2:\n",
      "      Example 1.4.1_subalgebra_4: ['c', 'f'] with identity 'c'\n",
      "      Example 1.4.1_subalgebra_5: ['a', 'd'] with identity 'a'\n",
      "      Example 1.4.1_subalgebra_8: ['b', 'e'] with identity 'e'\n",
      "\n",
      "1 Semigroup of Order 3:\n",
      "      Example 1.4.1_subalgebra_9: ['a', 'c', 'e']\n",
      "\n"
     ]
    }
   ],
   "source": [
    ">>> sg_proper_subs = sg.proper_subalgebras()\n",
    "\n",
    ">>> partitions = partition_into_isomorphic_lists(sg_proper_subs)\n",
    "\n",
    ">>> about_isomorphic_partitions(sg, partitions)"
   ]
  },
  {
   "cell_type": "markdown",
   "id": "67f6060e",
   "metadata": {},
   "source": [
    "## Built-In Examples"
   ]
  },
  {
   "cell_type": "markdown",
   "id": "6ce4d63d",
   "metadata": {},
   "source": [
    "``Examples`` is a convenience class for accessing some of the example algebras in the algebras directory.  To add or subtract algebras to its default list, see the file, 'examples.json', in the algebras directory."
   ]
  },
  {
   "cell_type": "code",
   "execution_count": 85,
   "id": "c595ebac",
   "metadata": {},
   "outputs": [
    {
     "name": "stdout",
     "output_type": "stream",
     "text": [
      "======================================================================\n",
      "                           Example Algebras\n",
      "----------------------------------------------------------------------\n",
      "  15 example algebras are available.\n",
      "  Use \"get_example(INDEX)\" to retrieve a specific example,\n",
      "  where INDEX is the first number on each line below:\n",
      "----------------------------------------------------------------------\n",
      "0: A4 -- Alternating group on 4 letters (AKA Tetrahedral group)\n",
      "1: D3 -- https://en.wikipedia.org/wiki/Dihedral_group_of_order_6\n",
      "2: D4 -- Dihedral group on four vertices\n",
      "3: Pinter29 -- Non-abelian group, p.29, 'A Book of Abstract Algebra' by Charles C. Pinter\n",
      "4: RPS -- Rock, Paper, Scissors Magma\n",
      "5: S3 -- Symmetric group on 3 letters\n",
      "6: S3X -- Another version of the symmetric group on 3 letters\n",
      "7: V4 -- Klein-4 group\n",
      "8: Z4 -- Cyclic group of order 4\n",
      "9: F4 -- Field with 4 elements (from Wikipedia)\n",
      "10: mag_id -- Magma with Identity\n",
      "11: Example 1.4.1 -- See: Groupoids and Smarandache Groupoids by W. B. Vasantha Kandasamy\n",
      "12: Ex6 -- Example 6: http://www-groups.mcs.st-andrews.ac.uk/~john/MT4517/Lectures/L3.html\n",
      "13: Q8 -- Quaternion Group\n",
      "14: SD16 -- Semidihedral group of order 16\n",
      "======================================================================\n"
     ]
    }
   ],
   "source": [
    ">>> from finite_algebras import Examples\n",
    "\n",
    ">>> ex = Examples(alg_dir)  # Requires path to directory containing algebras' JSON files"
   ]
  },
  {
   "cell_type": "code",
   "execution_count": 86,
   "id": "c22e588c",
   "metadata": {
    "scrolled": false
   },
   "outputs": [
    {
     "name": "stdout",
     "output_type": "stream",
     "text": [
      "\n",
      "Group: Pinter29\n",
      "Instance ID: 140613203838160\n",
      "Description: Non-abelian group, p.29, 'A Book of Abstract Algebra' by Charles C. Pinter\n",
      "Order: 6\n",
      "Identity: I\n",
      "Associative? Yes\n",
      "Commutative? No\n",
      "Elements:\n",
      "   Index   Name   Inverse  Order\n",
      "      0       I       I       1\n",
      "      1       A       A       2\n",
      "      2       B       D       3\n",
      "      3       C       C       2\n",
      "      4       D       B       3\n",
      "      5       K       K       2\n",
      "Cayley Table (showing indices):\n",
      "[[0, 1, 2, 3, 4, 5],\n",
      " [1, 0, 3, 2, 5, 4],\n",
      " [2, 5, 4, 1, 0, 3],\n",
      " [3, 4, 5, 0, 1, 2],\n",
      " [4, 3, 0, 5, 2, 1],\n",
      " [5, 2, 1, 4, 3, 0]]\n"
     ]
    }
   ],
   "source": [
    ">>> grp = ex.get_example(3)\n",
    ">>> grp.about()"
   ]
  },
  {
   "cell_type": "markdown",
   "id": "8da9272c",
   "metadata": {},
   "source": [
    "## Cayley Tables"
   ]
  },
  {
   "cell_type": "markdown",
   "id": "84a2a3b6",
   "metadata": {},
   "source": [
    "Under normal usage, there should be no need to directly create Cayley Tables. This section, however, provides a brief glimse at the ``CayleyTable`` class.\n",
    "\n",
    "All of the properties of a finite algebra can be determined from its Cayley Table, or in the case of this Python module, its ``CayleyTable``.  That functionality is passed through to the appropriate methods of the various algebras.  Below, is a demonstration of how **distributivity** between two binary operations can be determined using their Cayley Tables."
   ]
  },
  {
   "cell_type": "markdown",
   "id": "3587df5c",
   "metadata": {},
   "source": [
    "The two tables, below, were generated from the powerset of a 3 element set, where \"addition\" is **symmetric difference** and \"multiplication\" is **intersection**.  Recall, the order of the powerset is $2^n$, where $n$ is the size of the set."
   ]
  },
  {
   "cell_type": "markdown",
   "id": "a9a62f0d",
   "metadata": {},
   "source": [
    "The element names are simply the string representations of the sets in the powerset:\n",
    "\n",
    "['{}', '{0}', '{1}', '{2}', '{0, 1}', '{0, 2}', '{1, 2}', '{0, 1, 2}']\n",
    "\n",
    "And the tables, below, contain the positions (indices) of the 8 elements in the powerset:"
   ]
  },
  {
   "cell_type": "code",
   "execution_count": 87,
   "id": "a5ed25e7",
   "metadata": {},
   "outputs": [],
   "source": [
    ">>> addtbl = [[0, 1, 2, 3, 4, 5, 6, 7],\n",
    "              [1, 0, 4, 5, 2, 3, 7, 6],\n",
    "              [2, 4, 0, 6, 1, 7, 3, 5],\n",
    "              [3, 5, 6, 0, 7, 1, 2, 4],\n",
    "              [4, 2, 1, 7, 0, 6, 5, 3],\n",
    "              [5, 3, 7, 1, 6, 0, 4, 2],\n",
    "              [6, 7, 3, 2, 5, 4, 0, 1],\n",
    "              [7, 6, 5, 4, 3, 2, 1, 0]]"
   ]
  },
  {
   "cell_type": "code",
   "execution_count": 88,
   "id": "40961259",
   "metadata": {},
   "outputs": [],
   "source": [
    ">>> multbl = [[0, 0, 0, 0, 0, 0, 0, 0],\n",
    "              [0, 1, 0, 0, 1, 1, 0, 1],\n",
    "              [0, 0, 2, 0, 2, 0, 2, 2],\n",
    "              [0, 0, 0, 3, 0, 3, 3, 3],\n",
    "              [0, 1, 2, 0, 4, 1, 2, 4],\n",
    "              [0, 1, 0, 3, 1, 5, 3, 5],\n",
    "              [0, 0, 2, 3, 2, 3, 6, 6],\n",
    "              [0, 1, 2, 3, 4, 5, 6, 7]]"
   ]
  },
  {
   "cell_type": "code",
   "execution_count": 89,
   "id": "3be3d0bf",
   "metadata": {},
   "outputs": [],
   "source": [
    ">>> from cayley_table import CayleyTable"
   ]
  },
  {
   "cell_type": "code",
   "execution_count": 90,
   "id": "ece8e70c",
   "metadata": {},
   "outputs": [
    {
     "name": "stdout",
     "output_type": "stream",
     "text": [
      "  Order  Associative?  Commutative?  Left Id?  Right Id?  Identity?  Inverses?\n",
      "-------------------------------------------------------------------------------------\n",
      "     8        True         True            0         0          0       True\n"
     ]
    }
   ],
   "source": [
    ">>> addct = CayleyTable(addtbl)\n",
    ">>> addct.about(True)"
   ]
  },
  {
   "cell_type": "code",
   "execution_count": 91,
   "id": "4dcc006d",
   "metadata": {
    "scrolled": true
   },
   "outputs": [
    {
     "name": "stdout",
     "output_type": "stream",
     "text": [
      "  Order  Associative?  Commutative?  Left Id?  Right Id?  Identity?  Inverses?\n",
      "-------------------------------------------------------------------------------------\n",
      "     8        True         True            7         7          7      False\n"
     ]
    }
   ],
   "source": [
    ">>> mulct = CayleyTable(multbl)\n",
    ">>> mulct.about(True)"
   ]
  },
  {
   "cell_type": "markdown",
   "id": "dfa6da2d",
   "metadata": {},
   "source": [
    "### Checking Tables for Distributivity"
   ]
  },
  {
   "cell_type": "markdown",
   "id": "d4d22d2f",
   "metadata": {},
   "source": [
    "Multiplication distributes over addition."
   ]
  },
  {
   "cell_type": "code",
   "execution_count": 92,
   "id": "c0453478",
   "metadata": {},
   "outputs": [
    {
     "data": {
      "text/plain": [
       "True"
      ]
     },
     "execution_count": 92,
     "metadata": {},
     "output_type": "execute_result"
    }
   ],
   "source": [
    ">>> mulct.distributes_over(addct)"
   ]
  },
  {
   "cell_type": "markdown",
   "id": "aa4d2b16",
   "metadata": {},
   "source": [
    "But, addition does not distribute over multiplication."
   ]
  },
  {
   "cell_type": "code",
   "execution_count": 93,
   "id": "ad6d38a1",
   "metadata": {},
   "outputs": [
    {
     "data": {
      "text/plain": [
       "False"
      ]
     },
     "execution_count": 93,
     "metadata": {},
     "output_type": "execute_result"
    }
   ],
   "source": [
    ">>> addct.distributes_over(mulct)"
   ]
  },
  {
   "cell_type": "markdown",
   "id": "e3203e34",
   "metadata": {},
   "source": [
    "## Resources"
   ]
  },
  {
   "cell_type": "markdown",
   "id": "4688f7cf",
   "metadata": {},
   "source": [
    "* <b>Book</b>: [\"Visual Group Theory\" by Nathan Carter](https://bookstore.ams.org/clrm-32)\n",
    "* [Group Explorer](https://nathancarter.github.io/group-explorer/index.html) -- Visualization software for the abstract algebra classroom\n",
    "* [Groupprops, The Group Properties Wiki (beta)](https://groupprops.subwiki.org/wiki/Main_Page)\n",
    "* [GroupNames](https://people.maths.bris.ac.uk/~matyd/GroupNames/index.html) -- \"A database, under construction, of names, extensions, properties and character tables of finite groups of small order.\"\n",
    "* [GAP](https://www.gap-system.org/#:~:text=What%20is%20GAP%3F,data%20libraries%20of%20algebraic%20objects.) -- \"Groups, Algorithms, Programming - a System for Computational Discrete Algebra\"\n",
    "* [Groups of small order](http://www.math.ucsd.edu/~atparris/small_groups.html): Compiled by John Pedersen, Dept of Mathematics, University of South Florida\n",
    "* [List of small groups](https://en.wikipedia.org/wiki/List_of_small_groups): Finite groups of small order up to group isomorphism\n",
    "* [Classification of Groups of Order n ≤ 8 (PDF)](http://www2.lawrence.edu/fast/corrys/Math300/8Groups.pdf)\n",
    "* [Subgroups of Order 4 (PDF)](http://newton.uor.edu/facultyfolder/beery/abstract_algebra/08_SbgrpsOrder4.pdf)\n",
    "* Klein four-group, V4\n",
    "  * [Wikipedia](https://en.wikipedia.org/wiki/Klein_four-group)\n",
    "  * [Group Explorer](https://github.com/nathancarter/group-explorer/blob/master/groups/V_4.group)\n",
    "* Cyclic group\n",
    "  * [Wikipedia](https://en.wikipedia.org/wiki/Cyclic_group)\n",
    "  * [Z4, cyclic group of order 4](https://github.com/nathancarter/group-explorer/blob/master/groups/Z_4.group)\n",
    "* Symmetric group\n",
    "  * [Symmetric group on 3 letters](https://github.com/nathancarter/group-explorer/blob/master/groups/S_3.group). Another name for this group is <i>\"Dihedral group on 3 vertices\"</i>\n",
    "* [Groupoids and Smarandache Groupoids](https://arxiv.org/ftp/math/papers/0304/0304490.pdf) by W. B. Vasantha Kandasamy\n",
    "* [\"Rings and Fields\"](http://www-groups.mcs.st-andrews.ac.uk/~john/MT4517/index.html), John O'Connor & Edmund Robertson, School of Math. & Stat., Univ. of St Andrews, Scotland"
   ]
  }
 ],
 "metadata": {
  "kernelspec": {
   "display_name": "Python 3",
   "language": "python",
   "name": "python3"
  },
  "language_info": {
   "codemirror_mode": {
    "name": "ipython",
    "version": 3
   },
   "file_extension": ".py",
   "mimetype": "text/x-python",
   "name": "python",
   "nbconvert_exporter": "python",
   "pygments_lexer": "ipython3",
   "version": "3.7.7"
  }
 },
 "nbformat": 4,
 "nbformat_minor": 5
}
