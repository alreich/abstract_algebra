{
 "cells": [
  {
   "cell_type": "markdown",
   "id": "ac971643",
   "metadata": {},
   "source": [
    "# Abstract Algebra"
   ]
  },
  {
   "cell_type": "markdown",
   "id": "b565d19d",
   "metadata": {},
   "source": [
    "This is an implementation of **Finite Algebras** in Python: Groups, Rings, Fields, Vector Spaces, Modules, Monoids, Semigroups, Magmas (Groupoids), regular (matrix) representations, abstract matrices, and Cayley-Dickson algebras.\n",
    "\n",
    "The representation of an algebra here depends on being able to explicitely represent its multiplication/addition table (Cayley table). Large finite algebras--more than a few hundred elements--are possible, but may take a significant amount of time to process.  Also, all algebraic elements here are represented as strings (\"symbols\").\n",
    "\n",
    "**NOTE: This Python module is a work-in-progress. Corrections and comments are welcome and appreciated. -- Al Reich, March 2024**"
   ]
  },
  {
   "cell_type": "markdown",
   "id": "d507cc12",
   "metadata": {},
   "source": [
    "## Summary"
   ]
  },
  {
   "cell_type": "markdown",
   "id": "c77fb9bf",
   "metadata": {},
   "source": [
    "The ``finite_algebras`` module contains class definitions, methods, and functions for working with algebras that  have a **finite number of elements**.\n",
    "\n",
    "* The primary constructor of a finite algebra is the function, ``make_finite_algebra``. It examines the properties of the input table(s) and returns the appropriate instance of an algebra.\n",
    "* Algebras can be input from, or output to, JSON files/strings or Python dictionaries.\n",
    "* Each algebra is defined by:\n",
    "  * A name (``str``),\n",
    "  * A description (``str``),\n",
    "  * A list of *element names* (``list`` of ``str``),\n",
    "    * **All elements must be represented by strings**,\n",
    "  * One or two square, 2-dimensional tables that define binary operations (``list`` of ``lists`` of ``int``),\n",
    "    * The <i>ints</i> in a table represent indices in the list of element names,\n",
    "    * Magmas, Semigroups, Monoids, & Groups have one table; Rings & Fields have two.\n",
    "* Each algebra has methods for examining its properties (e.g., ``is_associative``, ``is_commutative``, ``center``, ``commutators``, etc.).\n",
    "* Algebraic elements can be \"added\" (or \"multiplied\") via their binary operations (e.g., ``v4.op('h','v')`` $\\Rightarrow$ ``'r'``).\n",
    "* Inverses & identities can be obtained, if the algebra supports them (e.g., ``z3.inv('a')`` $\\Rightarrow$ ``'a^2'``, ``z3.identity`` $\\Rightarrow$ ``'e'``).\n",
    "* Direct products of two or more algebras can be computed using Python's multiplication operator (e.g., ``z4 * v4``), and using Python's power operator (e.g., ``v4**3 == v4 * v4 * v4``).\n",
    "* A Quotient Group is returned when a group, ``g``, is divided by one of it's normal subgroups, ``h``, using Python's true division operator (e.g., ``g / h``).\n",
    "* Infix arithmetic of algebraic elements is supported for the operators, +, -, *, /, and \\*\\*, by using the context manager, ``InfixNotation`` (e.g., ``with InfixNotation(v4) as v; hr = v['h'] * v['r']``)\n",
    "* If two algebras are isomorphic, the mapping between their elements can be found and returned as a Python dictionary (e.g., ``v4.isomorphic(z2 * z2)`` $\\Rightarrow$ ``{'h': 'e:a', 'v': 'a:e', 'r': 'a:a', 'e': 'e:e'}``)\n",
    "* Autogeneration of some types of algebras, of arbitrary order, is supported (e.g., symmetric, cyclic).\n",
    "* Subalgebras (e.g., subgroups) can be determined, along with related functionality (e.g, ``is_normal()``).\n",
    "* Groups, Rings, and Fields can be used to construct Modules and Vector Spaces, including n-dimensional Modules and Vector Spaces using the direct products of Rings and Fields, resp.\n",
    "* Rings and Fields can be used to construct Cayley-Dickson algebras (i.e., abstractions of the complex numbers, as well as quaternions, octonions, etc.)\n",
    "* The Regular Representation of a Monoid, Group, or the additive abelian Group of a Ring or Field, can be computed in either dense or sparse matrix form.\n",
    "* Abstract Matrices over Rings/Fields can be represented and used in operations similar to numeric matrices (e.g., $+$, $-$, $\\times$, determinant, inverse, etc.)"
   ]
  },
  {
   "cell_type": "markdown",
   "id": "3bf1f8b5",
   "metadata": {},
   "source": [
    "## Installation"
   ]
  },
  {
   "cell_type": "markdown",
   "id": "b24ac494",
   "metadata": {},
   "source": [
    "This module runs under Python 3.11+ and requires **numpy**.  The sparse matrix <b>option</b> for Regular Representations requires **scipy.sparse**.\n",
    "\n",
    "Clone the github repository to install:"
   ]
  },
  {
   "cell_type": "raw",
   "id": "55a7025f",
   "metadata": {},
   "source": [
    "$ git clone https://github.com/alreich/abstract_algebra.git"
   ]
  },
  {
   "cell_type": "markdown",
   "id": "0fcdc62c",
   "metadata": {},
   "source": [
    "Once installed, you can follow along the examples here by setting an <b>environment variable</b>, that \"points\" to the parent directory of the <i>abstract_algebra</i> directory.\n",
    "\n",
    "For example, if you clone this module into the directory, '/Users/myname/myrepos', then you can do the following to create an environment variable, PYPROJ, like the one used here.\n",
    "\n",
    ">import os\n",
    "> <p> os.environ['PYPROJ'] = '/Users/myname/myrepos'</p>\n",
    "\n",
    "An environment variable constructed like this only lasts for the duration of the Python session. Consult your implementation of Python to find out how to make the environment variable more \"durable\"."
   ]
  },
  {
   "cell_type": "markdown",
   "id": "8f2c889d",
   "metadata": {},
   "source": [
    "## Documentation"
   ]
  },
  {
   "cell_type": "markdown",
   "id": "d34bbd8b",
   "metadata": {},
   "source": [
    "See full documentation at <i>ReadTheDocs</i>: [https://abstract-algebra.readthedocs.io/](https://abstract-algebra.readthedocs.io/en/latest/index.html)"
   ]
  },
  {
   "cell_type": "markdown",
   "id": "27fe981f",
   "metadata": {},
   "source": [
    "## Quick Look"
   ]
  },
  {
   "cell_type": "code",
   "execution_count": 1,
   "id": "79bee020",
   "metadata": {},
   "outputs": [],
   "source": [
    ">>> from finite_algebras import *"
   ]
  },
  {
   "cell_type": "markdown",
   "id": "b8b613fa",
   "metadata": {},
   "source": [
    "### Create an Algebra"
   ]
  },
  {
   "cell_type": "markdown",
   "id": "6683f4e3",
   "metadata": {},
   "source": [
    "As mentioned above, the integers in the 4x4 table, below, are indices of the 4 elements in the element list, ``['e', 'h', 'v', 'r']``."
   ]
  },
  {
   "cell_type": "code",
   "execution_count": 2,
   "id": "9db1550f",
   "metadata": {},
   "outputs": [
    {
     "data": {
      "text/plain": [
       "Group(\n",
       "'V4',\n",
       "'Klein-4 group',\n",
       "['e', 'h', 'v', 'r'],\n",
       "[[0, 1, 2, 3], [1, 0, 3, 2], [2, 3, 0, 1], [3, 2, 1, 0]]\n",
       ")"
      ]
     },
     "execution_count": 2,
     "metadata": {},
     "output_type": "execute_result"
    }
   ],
   "source": [
    ">>> V4 = make_finite_algebra('V4',\n",
    ">>>                          'Klein-4 group',\n",
    ">>>                          ['e', 'h', 'v', 'r'],\n",
    ">>>                          [[0, 1, 2, 3],\n",
    ">>>                           [1, 0, 3, 2],\n",
    ">>>                           [2, 3, 0, 1],\n",
    ">>>                           [3, 2, 1, 0]])\n",
    ">>> V4"
   ]
  },
  {
   "cell_type": "markdown",
   "id": "c66d8323",
   "metadata": {},
   "source": [
    "The output above is the algebra's **repr**, and can be copied-and-pasted to produce another instance of the algebra.\n",
    "\n",
    "The **str** form, printed below, is more succinct and cannot be copied-and-pasted."
   ]
  },
  {
   "cell_type": "code",
   "execution_count": 3,
   "id": "9df03159",
   "metadata": {},
   "outputs": [
    {
     "name": "stdout",
     "output_type": "stream",
     "text": [
      "<Group:V4, ID:4692055504>\n"
     ]
    }
   ],
   "source": [
    ">>> print(V4)"
   ]
  },
  {
   "cell_type": "markdown",
   "id": "8af61055",
   "metadata": {},
   "source": [
    "### Perform Arithmetic"
   ]
  },
  {
   "cell_type": "markdown",
   "id": "6c123274",
   "metadata": {},
   "source": [
    "Using postfix or infix notation (e.g., $h + v - r = e$)"
   ]
  },
  {
   "cell_type": "code",
   "execution_count": 4,
   "id": "54e80d30",
   "metadata": {},
   "outputs": [
    {
     "data": {
      "text/plain": [
       "'e'"
      ]
     },
     "execution_count": 4,
     "metadata": {},
     "output_type": "execute_result"
    }
   ],
   "source": [
    ">>> x = V4.op('h', 'v', V4.inv('r'))\n",
    ">>> x"
   ]
  },
  {
   "cell_type": "code",
   "execution_count": 5,
   "id": "c31c4912",
   "metadata": {},
   "outputs": [
    {
     "data": {
      "text/plain": [
       "'e'"
      ]
     },
     "execution_count": 5,
     "metadata": {},
     "output_type": "execute_result"
    }
   ],
   "source": [
    ">>> with InfixNotation(V4) as v:\n",
    ">>>     x = v['h'] + v['v'] - v['r']\n",
    ">>> x"
   ]
  },
  {
   "cell_type": "markdown",
   "id": "74affba6",
   "metadata": {},
   "source": [
    "### Look at the Algebra's Properties"
   ]
  },
  {
   "cell_type": "markdown",
   "id": "e001890e",
   "metadata": {},
   "source": [
    "All of the information, provided by the ``about`` method, below, is derived from the table, input above, including the identity element, if it exists."
   ]
  },
  {
   "cell_type": "code",
   "execution_count": 6,
   "id": "60994f8c",
   "metadata": {},
   "outputs": [
    {
     "name": "stdout",
     "output_type": "stream",
     "text": [
      "\n",
      "** Group **\n",
      "Name: V4\n",
      "Instance ID: 4692055504\n",
      "Description: Klein-4 group\n",
      "Order: 4\n",
      "Identity: 'e'\n",
      "Commutative? Yes\n",
      "Cyclic?: No\n",
      "Elements:\n",
      "   Index   Name   Inverse  Order\n",
      "      0     'e'     'e'       0\n",
      "      1     'h'     'h'       0\n",
      "      2     'v'     'v'       0\n",
      "      3     'r'     'r'       0\n",
      "Cayley Table (showing names):\n",
      "[['e', 'h', 'v', 'r'],\n",
      " ['h', 'e', 'r', 'v'],\n",
      " ['v', 'r', 'e', 'h'],\n",
      " ['r', 'v', 'h', 'e']]\n"
     ]
    }
   ],
   "source": [
    ">>> _ = V4.about(use_table_names=True)  # 'about' prints info, but also returns the algebra itself"
   ]
  },
  {
   "cell_type": "markdown",
   "id": "a582925d",
   "metadata": {},
   "source": [
    "### Summarize an Algebra's Proper Subalgebras"
   ]
  },
  {
   "cell_type": "markdown",
   "id": "017c8b61",
   "metadata": {},
   "source": [
    "Get all proper subalgebras of an algebra."
   ]
  },
  {
   "cell_type": "code",
   "execution_count": 7,
   "id": "3ce4d0f2",
   "metadata": {},
   "outputs": [
    {
     "data": {
      "text/plain": [
       "[Group(\n",
       " 'V4_subalgebra_0',\n",
       " 'Subalgebra of: Klein-4 group',\n",
       " ['e', 'v'],\n",
       " [[0, 1], [1, 0]]\n",
       " ),\n",
       " Group(\n",
       " 'V4_subalgebra_1',\n",
       " 'Subalgebra of: Klein-4 group',\n",
       " ['e', 'h'],\n",
       " [[0, 1], [1, 0]]\n",
       " ),\n",
       " Group(\n",
       " 'V4_subalgebra_2',\n",
       " 'Subalgebra of: Klein-4 group',\n",
       " ['e', 'r'],\n",
       " [[0, 1], [1, 0]]\n",
       " )]"
      ]
     },
     "execution_count": 7,
     "metadata": {},
     "output_type": "execute_result"
    }
   ],
   "source": [
    ">>> V4.proper_subalgebras()"
   ]
  },
  {
   "cell_type": "markdown",
   "id": "4414d6af",
   "metadata": {},
   "source": [
    "Or, summarize the subalgebras by isomorphism."
   ]
  },
  {
   "cell_type": "code",
   "execution_count": 8,
   "id": "c063ac71",
   "metadata": {},
   "outputs": [
    {
     "name": "stdout",
     "output_type": "stream",
     "text": [
      "\n",
      "Subalgebras of <Group:V4, ID:4692055504>\n",
      "  There is 1 unique proper subalgebra, up to isomorphism, out of 3 total subalgebras.\n",
      "  as shown by the partitions below:\n",
      "\n",
      "3 Isomorphic Commutative Normal Groups of order 2 with identity 'e':\n",
      "      Group: V4_subalgebra_0: ['e', 'v']\n",
      "      Group: V4_subalgebra_1: ['e', 'h']\n",
      "      Group: V4_subalgebra_2: ['e', 'r']\n",
      "\n"
     ]
    }
   ],
   "source": [
    ">>> _ = about_subalgebras(V4)  # Returns a list of lists of proper subalgebras (ignored here)"
   ]
  },
  {
   "cell_type": "markdown",
   "id": "1d4adb77",
   "metadata": {},
   "source": [
    "### Autogenerate an Algebra"
   ]
  },
  {
   "cell_type": "code",
   "execution_count": 9,
   "id": "21a070c5",
   "metadata": {},
   "outputs": [
    {
     "name": "stdout",
     "output_type": "stream",
     "text": [
      "\n",
      "** Group **\n",
      "Name: Z2\n",
      "Instance ID: 5235504016\n",
      "Description: Autogenerated cyclic Group of order 2\n",
      "Order: 2\n",
      "Identity: '0'\n",
      "Commutative? Yes\n",
      "Cyclic?: Yes\n",
      "Generators: ['1']\n",
      "Elements:\n",
      "   Index   Name   Inverse  Order\n",
      "      0     '0'     '0'       0\n",
      "      1     '1'     '1'       0\n",
      "Cayley Table (showing indices):\n",
      "[[0, 1], [1, 0]]\n"
     ]
    }
   ],
   "source": [
    ">>> Z2 = generate_cyclic_group(2)  # Generates a cyclic group of order 2\n",
    "\n",
    ">>> _ = Z2.about()"
   ]
  },
  {
   "cell_type": "markdown",
   "id": "bebc2419",
   "metadata": {},
   "source": [
    "### Compute a Direct Product"
   ]
  },
  {
   "cell_type": "markdown",
   "id": "b752f3ec",
   "metadata": {},
   "source": [
    "If A & B are finite algebras, then A * B and A\\*\\*3 will also be Direct Products of the algebras. NOTE: A\\*\\*3 == A * A * A."
   ]
  },
  {
   "cell_type": "code",
   "execution_count": 10,
   "id": "ea48a00e",
   "metadata": {},
   "outputs": [
    {
     "name": "stdout",
     "output_type": "stream",
     "text": [
      "\n",
      "** Group **\n",
      "Name: Z2_x_Z2\n",
      "Instance ID: 5235500752\n",
      "Description: Direct product of Z2 & Z2\n",
      "Order: 4\n",
      "Identity: '0:0'\n",
      "Commutative? Yes\n",
      "Cyclic?: No\n",
      "Elements:\n",
      "   Index   Name   Inverse  Order\n",
      "      0   '0:0'   '0:0'       0\n",
      "      1   '0:1'   '0:1'       0\n",
      "      2   '1:0'   '1:0'       0\n",
      "      3   '1:1'   '1:1'       0\n",
      "Cayley Table (showing names):\n",
      "[['0:0', '0:1', '1:0', '1:1'],\n",
      " ['0:1', '0:0', '1:1', '1:0'],\n",
      " ['1:0', '1:1', '0:0', '0:1'],\n",
      " ['1:1', '1:0', '0:1', '0:0']]\n"
     ]
    }
   ],
   "source": [
    ">>> Z2_sqr = Z2 * Z2  # NOTE: Z2**2 will also do the same thing\n",
    "\n",
    ">>> _ = Z2_sqr.about(use_table_names=True)"
   ]
  },
  {
   "cell_type": "markdown",
   "id": "d6a9bb93",
   "metadata": {},
   "source": [
    "### Compute a Quotient Group"
   ]
  },
  {
   "cell_type": "markdown",
   "id": "79f8d4be",
   "metadata": {},
   "source": [
    "V4 is \"divided\" by one of its normal subgroups, V4sub."
   ]
  },
  {
   "cell_type": "code",
   "execution_count": 11,
   "id": "3d3ae919",
   "metadata": {},
   "outputs": [
    {
     "name": "stdout",
     "output_type": "stream",
     "text": [
      "\n",
      "** Group **\n",
      "Name: V4/V4sub\n",
      "Instance ID: 5236590608\n",
      "Description: Group V4 modulo subgroup V4sub\n",
      "Order: 2\n",
      "Identity: 'e'\n",
      "Commutative? Yes\n",
      "Cyclic?: Yes\n",
      "Generators: ['h']\n",
      "Elements:\n",
      "   Index   Name   Inverse  Order\n",
      "      0     'e'     'e'       0\n",
      "      1     'h'     'h'       0\n",
      "Cayley Table (showing indices):\n",
      "[[0, 1], [1, 0]]\n"
     ]
    }
   ],
   "source": [
    ">>> V4sub = Group('V4sub',\n",
    ">>>                'Subgroup of: Klein-4 group',\n",
    ">>>                ['e', 'r'],\n",
    ">>>                [[0, 1],\n",
    ">>>                 [1, 0]])\n",
    ">>> \n",
    ">>> quotient_group = V4 / V4sub\n",
    ">>> \n",
    ">>> _ = quotient_group.about()"
   ]
  },
  {
   "cell_type": "markdown",
   "id": "e766339a",
   "metadata": {},
   "source": [
    "Representative elements from each coset, below, make up the element list of the quotient group, above"
   ]
  },
  {
   "cell_type": "code",
   "execution_count": 12,
   "id": "5920f7ac",
   "metadata": {},
   "outputs": [
    {
     "data": {
      "text/plain": [
       "[['e', 'r'], ['h', 'v']]"
      ]
     },
     "execution_count": 12,
     "metadata": {},
     "output_type": "execute_result"
    }
   ],
   "source": [
    ">>> list(V4.left_cosets(V4sub))"
   ]
  },
  {
   "cell_type": "markdown",
   "id": "bb17f59a",
   "metadata": {},
   "source": [
    "Note that if we create the direct product of the subgroup, ``V4sub``, and ``quotient_group``, we obtain an algebra that is isomorphic to the original group, ``V4``.\n",
    "\n",
    "That is, V4sub $\\times$ (V4 / V4sub) $\\cong$ V4."
   ]
  },
  {
   "cell_type": "code",
   "execution_count": 13,
   "id": "a6d753a0",
   "metadata": {},
   "outputs": [
    {
     "name": "stdout",
     "output_type": "stream",
     "text": [
      "\n",
      "** Group **\n",
      "Name: V4sub_x_V4/V4sub\n",
      "Instance ID: 5236594128\n",
      "Description: Direct product of V4sub & V4/V4sub\n",
      "Order: 4\n",
      "Identity: 'e:e'\n",
      "Commutative? Yes\n",
      "Cyclic?: No\n",
      "Elements:\n",
      "   Index   Name   Inverse  Order\n",
      "      0   'e:e'   'e:e'       0\n",
      "      1   'e:h'   'e:h'       0\n",
      "      2   'r:e'   'r:e'       0\n",
      "      3   'r:h'   'r:h'       0\n",
      "Cayley Table (showing indices):\n",
      "[[0, 1, 2, 3], [1, 0, 3, 2], [2, 3, 0, 1], [3, 2, 1, 0]]\n"
     ]
    }
   ],
   "source": [
    ">>> prod = V4sub * quotient_group\n",
    ">>> _ = prod.about()"
   ]
  },
  {
   "cell_type": "code",
   "execution_count": 14,
   "id": "0385f62b",
   "metadata": {},
   "outputs": [
    {
     "data": {
      "text/plain": [
       "{'e': 'e:e', 'h': 'e:h', 'v': 'r:e', 'r': 'r:h'}"
      ]
     },
     "execution_count": 14,
     "metadata": {},
     "output_type": "execute_result"
    }
   ],
   "source": [
    ">>> V4.isomorphic(prod)"
   ]
  },
  {
   "cell_type": "markdown",
   "id": "64e3d35f",
   "metadata": {},
   "source": [
    "### Find an Isomorphism"
   ]
  },
  {
   "cell_type": "markdown",
   "id": "d4a7176a",
   "metadata": {},
   "source": [
    "It is well known that z2_sqr & v4 are isomorphic. The method ``isomorphic`` confirms this by finding the following mapping between their elements.\n",
    "\n",
    "If an isomorphism between two algebras does not exist, then ``False`` is returned."
   ]
  },
  {
   "cell_type": "code",
   "execution_count": 15,
   "id": "232a3cc1",
   "metadata": {},
   "outputs": [
    {
     "data": {
      "text/plain": [
       "{'e': '0:0', 'h': '0:1', 'v': '1:0', 'r': '1:1'}"
      ]
     },
     "execution_count": 15,
     "metadata": {},
     "output_type": "execute_result"
    }
   ],
   "source": [
    ">>> V4.isomorphic(Z2_sqr)"
   ]
  },
  {
   "cell_type": "markdown",
   "id": "94ffcc75",
   "metadata": {},
   "source": [
    "### Regular Representation"
   ]
  },
  {
   "cell_type": "markdown",
   "id": "2eb1d2d4-d433-4552-a3d4-ffd415f684be",
   "metadata": {},
   "source": [
    "The method, ``regular_representation``, constructs an isomorphic mapping between a group, or monoid, and a set of square matrices such that the group's identity element corresponds to the identity matrix."
   ]
  },
  {
   "cell_type": "code",
   "execution_count": 16,
   "id": "58d84e58-8df0-478d-a41d-a470340a3890",
   "metadata": {},
   "outputs": [
    {
     "name": "stdout",
     "output_type": "stream",
     "text": [
      "e\n",
      "[[1. 0. 0. 0.]\n",
      " [0. 1. 0. 0.]\n",
      " [0. 0. 1. 0.]\n",
      " [0. 0. 0. 1.]]\n",
      "\n",
      "h\n",
      "[[0. 1. 0. 0.]\n",
      " [1. 0. 0. 0.]\n",
      " [0. 0. 0. 1.]\n",
      " [0. 0. 1. 0.]]\n",
      "\n",
      "v\n",
      "[[0. 0. 1. 0.]\n",
      " [0. 0. 0. 1.]\n",
      " [1. 0. 0. 0.]\n",
      " [0. 1. 0. 0.]]\n",
      "\n",
      "r\n",
      "[[0. 0. 0. 1.]\n",
      " [0. 0. 1. 0.]\n",
      " [0. 1. 0. 0.]\n",
      " [1. 0. 0. 0.]]\n",
      "\n"
     ]
    }
   ],
   "source": [
    ">>> mapping, _, _, _ = V4.regular_representation()\n",
    ">>> for elem in mapping:\n",
    ">>>     print(elem)\n",
    ">>>     print(mapping[elem])\n",
    ">>>     print()"
   ]
  },
  {
   "cell_type": "markdown",
   "id": "fe2a0065",
   "metadata": {},
   "source": [
    "### Create a Finite Field"
   ]
  },
  {
   "cell_type": "markdown",
   "id": "46763bf7",
   "metadata": {},
   "source": [
    "The following small, [finite field with four elements](https://en.wikipedia.org/wiki/Finite_field#Field_with_four_elements) comes from Wikipedia."
   ]
  },
  {
   "cell_type": "code",
   "execution_count": 17,
   "id": "f4fe60c6",
   "metadata": {},
   "outputs": [],
   "source": [
    ">>> f4 = make_finite_algebra('F4',\n",
    ">>>                          'Field with 4 elements (from Wikipedia)',\n",
    ">>>                          ['0', '1', 'a', '1+a'],\n",
    ">>>                          [[0, 1, 2, 3],\n",
    ">>>                           [1, 0, 3, 2],\n",
    ">>>                           [2, 3, 0, 1],\n",
    ">>>                           [3, 2, 1, 0]],\n",
    ">>>                          [[0, 0, 0, 0],\n",
    ">>>                           [0, 1, 2, 3],\n",
    ">>>                           [0, 2, 3, 1],\n",
    ">>>                           [0, 3, 1, 2]]\n",
    ">>>                         )"
   ]
  },
  {
   "cell_type": "code",
   "execution_count": 18,
   "id": "f5d523aa",
   "metadata": {},
   "outputs": [
    {
     "name": "stdout",
     "output_type": "stream",
     "text": [
      "\n",
      "** Field **\n",
      "Name: F4\n",
      "Instance ID: 5234598992\n",
      "Description: Field with 4 elements (from Wikipedia)\n",
      "Order: 4\n",
      "Identity: '0'\n",
      "Commutative? Yes\n",
      "Cyclic?: Yes\n",
      "Generators: ['a', '1+a']\n",
      "Elements:\n",
      "   Index   Name   Inverse  Order\n",
      "      0     '0'     '0'       0\n",
      "      1     '1'     '1'       0\n",
      "      2     'a'     'a'       0\n",
      "      3   '1+a'   '1+a'       0\n",
      "Cayley Table (showing names):\n",
      "[['0', '1', 'a', '1+a'],\n",
      " ['1', '0', '1+a', 'a'],\n",
      " ['a', '1+a', '0', '1'],\n",
      " ['1+a', 'a', '1', '0']]\n",
      "Mult. Identity: '1'\n",
      "Mult. Commutative? Yes\n",
      "Zero Divisors: None\n",
      "Multiplicative Cayley Table (showing names):\n",
      "[['0', '0', '0', '0'],\n",
      " ['0', '1', 'a', '1+a'],\n",
      " ['0', 'a', '1+a', '1'],\n",
      " ['0', '1+a', '1', 'a']]\n"
     ]
    }
   ],
   "source": [
    ">>> _ = f4.about(use_table_names=True)"
   ]
  },
  {
   "cell_type": "markdown",
   "id": "45cd67a5",
   "metadata": {},
   "source": [
    "### Abstract Matrices over a Finite Field"
   ]
  },
  {
   "cell_type": "markdown",
   "id": "4145ddce",
   "metadata": {},
   "source": [
    "Abstract Matrices can be constructed over a Ring or Field.  Abstract Matrices can be added, subtracted, multiplied, transposed, and inverted, if the inverse exists."
   ]
  },
  {
   "cell_type": "code",
   "execution_count": 19,
   "id": "1e596de8",
   "metadata": {},
   "outputs": [
    {
     "data": {
      "text/plain": [
       "[['0', '1', 'a'],\n",
       " ['1', 'a', '1+a'],\n",
       " ['1+a', '0', '1']]"
      ]
     },
     "execution_count": 19,
     "metadata": {},
     "output_type": "execute_result"
    }
   ],
   "source": [
    ">>> from abstract_matrix import AbstractMatrix\n",
    "\n",
    ">>> arr = [[  '0', '1',   'a'],\n",
    ">>>        [  '1', 'a', '1+a'],\n",
    ">>>        ['1+a', '0',   '1']]\n",
    "\n",
    ">>> mat = AbstractMatrix(arr, f4)\n",
    ">>> mat"
   ]
  },
  {
   "cell_type": "code",
   "execution_count": 20,
   "id": "a23abe02",
   "metadata": {},
   "outputs": [
    {
     "data": {
      "text/plain": [
       "'1'"
      ]
     },
     "execution_count": 20,
     "metadata": {},
     "output_type": "execute_result"
    }
   ],
   "source": [
    ">>> mat.determinant()"
   ]
  },
  {
   "cell_type": "code",
   "execution_count": 21,
   "id": "cab75723",
   "metadata": {},
   "outputs": [
    {
     "data": {
      "text/plain": [
       "[['a', '1', '0'],\n",
       " ['1+a', '1', 'a'],\n",
       " ['1', '1+a', '1']]"
      ]
     },
     "execution_count": 21,
     "metadata": {},
     "output_type": "execute_result"
    }
   ],
   "source": [
    ">>> mat_inv = mat.inverse()\n",
    ">>> mat_inv"
   ]
  },
  {
   "cell_type": "code",
   "execution_count": 22,
   "id": "5047abdf",
   "metadata": {},
   "outputs": [
    {
     "data": {
      "text/plain": [
       "[['1', '0', '0'],\n",
       " ['0', '1', '0'],\n",
       " ['0', '0', '1']]"
      ]
     },
     "execution_count": 22,
     "metadata": {},
     "output_type": "execute_result"
    }
   ],
   "source": [
    ">>> mat * mat.inverse()"
   ]
  },
  {
   "cell_type": "markdown",
   "id": "40a56d0d",
   "metadata": {},
   "source": [
    "### Cayley-Dickson Algebra (CDA)"
   ]
  },
  {
   "cell_type": "markdown",
   "id": "7a9d1910",
   "metadata": {},
   "source": [
    "The following method constructs an abstraction of the complex numbers based on the field, f4, created above.\n",
    "\n",
    "The CDA constructed from f4 does **not** keep a copy of f4, so conjugates must be stored in a dictionary within the CDA. Note also that the equivalent of \"minus one\" in f4 is the element '1'."
   ]
  },
  {
   "cell_type": "code",
   "execution_count": 23,
   "id": "b8274fe2",
   "metadata": {},
   "outputs": [
    {
     "name": "stdout",
     "output_type": "stream",
     "text": [
      "\n",
      "** Ring **\n",
      "Name: F4_CDA_1966\n",
      "Instance ID: 4696791824\n",
      "Description: Cayley-Dickson algebra based on F4, where mu = 1, Schafer 1966 version.\n",
      "Order: 16\n",
      "Identity: '0:0'\n",
      "Commutative? Yes\n",
      "Cyclic?: Yes\n",
      "Generators: ['a:1', '0:a', '1:a', '0:1+a', '1+a:1', '1:1+a']\n",
      "Elements:\n",
      "   Index   Name   Inverse  Order\n",
      "      0   '0:0'   '0:0'       0\n",
      "      1   '0:1'   '0:1'       0\n",
      "      2   '0:a'   '0:a'       0\n",
      "      3 '0:1+a' '0:1+a'       0\n",
      "      4   '1:0'   '1:0'       0\n",
      "      5   '1:1'   '1:1'       0\n",
      "      6   '1:a'   '1:a'       0\n",
      "      7 '1:1+a' '1:1+a'       0\n",
      "      8   'a:0'   'a:0'       0\n",
      "      9   'a:1'   'a:1'       0\n",
      "     10   'a:a'   'a:a'       0\n",
      "     11 'a:1+a' 'a:1+a'       0\n",
      "     12 '1+a:0' '1+a:0'       0\n",
      "     13 '1+a:1' '1+a:1'       0\n",
      "     14 '1+a:a' '1+a:a'       0\n",
      "     15 '1+a:1+a' '1+a:1+a'       0\n",
      "Cayley Table (showing indices):\n",
      "[[0, 1, 2, 3, 4, 5, 6, 7, 8, 9, 10, 11, 12, 13, 14, 15],\n",
      " [1, 0, 3, 2, 5, 4, 7, 6, 9, 8, 11, 10, 13, 12, 15, 14],\n",
      " [2, 3, 0, 1, 6, 7, 4, 5, 10, 11, 8, 9, 14, 15, 12, 13],\n",
      " [3, 2, 1, 0, 7, 6, 5, 4, 11, 10, 9, 8, 15, 14, 13, 12],\n",
      " [4, 5, 6, 7, 0, 1, 2, 3, 12, 13, 14, 15, 8, 9, 10, 11],\n",
      " [5, 4, 7, 6, 1, 0, 3, 2, 13, 12, 15, 14, 9, 8, 11, 10],\n",
      " [6, 7, 4, 5, 2, 3, 0, 1, 14, 15, 12, 13, 10, 11, 8, 9],\n",
      " [7, 6, 5, 4, 3, 2, 1, 0, 15, 14, 13, 12, 11, 10, 9, 8],\n",
      " [8, 9, 10, 11, 12, 13, 14, 15, 0, 1, 2, 3, 4, 5, 6, 7],\n",
      " [9, 8, 11, 10, 13, 12, 15, 14, 1, 0, 3, 2, 5, 4, 7, 6],\n",
      " [10, 11, 8, 9, 14, 15, 12, 13, 2, 3, 0, 1, 6, 7, 4, 5],\n",
      " [11, 10, 9, 8, 15, 14, 13, 12, 3, 2, 1, 0, 7, 6, 5, 4],\n",
      " [12, 13, 14, 15, 8, 9, 10, 11, 4, 5, 6, 7, 0, 1, 2, 3],\n",
      " [13, 12, 15, 14, 9, 8, 11, 10, 5, 4, 7, 6, 1, 0, 3, 2],\n",
      " [14, 15, 12, 13, 10, 11, 8, 9, 6, 7, 4, 5, 2, 3, 0, 1],\n",
      " [15, 14, 13, 12, 11, 10, 9, 8, 7, 6, 5, 4, 3, 2, 1, 0]]\n",
      "Mult. Identity: '1:0'\n",
      "Mult. Commutative? Yes\n",
      "Zero Divisors: ['1:1', 'a:a', '1+a:1+a']\n",
      "Multiplicative Cayley Table (showing indices):\n",
      "[[0, 0, 0, 0, 0, 0, 0, 0, 0, 0, 0, 0, 0, 0, 0, 0],\n",
      " [0, 4, 8, 12, 1, 5, 9, 13, 2, 6, 10, 14, 3, 7, 11, 15],\n",
      " [0, 8, 12, 4, 2, 10, 14, 6, 3, 11, 15, 7, 1, 9, 13, 5],\n",
      " [0, 12, 4, 8, 3, 15, 7, 11, 1, 13, 5, 9, 2, 14, 6, 10],\n",
      " [0, 1, 2, 3, 4, 5, 6, 7, 8, 9, 10, 11, 12, 13, 14, 15],\n",
      " [0, 5, 10, 15, 5, 0, 15, 10, 10, 15, 0, 5, 15, 10, 5, 0],\n",
      " [0, 9, 14, 7, 6, 15, 8, 1, 11, 2, 5, 12, 13, 4, 3, 10],\n",
      " [0, 13, 6, 11, 7, 10, 1, 12, 9, 4, 15, 2, 14, 3, 8, 5],\n",
      " [0, 2, 3, 1, 8, 10, 11, 9, 12, 14, 15, 13, 4, 6, 7, 5],\n",
      " [0, 6, 11, 13, 9, 15, 2, 4, 14, 8, 5, 3, 7, 1, 12, 10],\n",
      " [0, 10, 15, 5, 10, 0, 5, 15, 15, 5, 0, 10, 5, 15, 10, 0],\n",
      " [0, 14, 7, 9, 11, 5, 12, 2, 13, 3, 10, 4, 6, 8, 1, 15],\n",
      " [0, 3, 1, 2, 12, 15, 13, 14, 4, 7, 5, 6, 8, 11, 9, 10],\n",
      " [0, 7, 9, 14, 13, 10, 4, 3, 6, 1, 15, 8, 11, 12, 2, 5],\n",
      " [0, 11, 13, 6, 14, 5, 3, 8, 7, 12, 10, 1, 9, 2, 4, 15],\n",
      " [0, 15, 5, 10, 15, 0, 10, 5, 5, 10, 0, 15, 10, 5, 15, 0]]\n",
      "Conjugate Mapping: {'0:0': '0:0', '0:1': '0:1', '0:a': '0:a', '0:1+a': '0:1+a', '1:0': '1:0', '1:1': '1:1', '1:a': '1:a', '1:1+a': '1:1+a', 'a:0': 'a:0', 'a:1': 'a:1', 'a:a': 'a:a', 'a:1+a': 'a:1+a', '1+a:0': '1+a:0', '1+a:1': '1+a:1', '1+a:a': '1+a:a', '1+a:1+a': '1+a:1+a'}\n"
     ]
    }
   ],
   "source": [
    ">>> f4cda = f4.make_cayley_dickson_algebra(version=2)\n",
    "\n",
    ">>> _ = f4cda.about(max_size=16, show_conjugates=True)"
   ]
  }
 ],
 "metadata": {
  "kernelspec": {
   "display_name": "Python 3 (ipykernel)",
   "language": "python",
   "name": "python3"
  },
  "language_info": {
   "codemirror_mode": {
    "name": "ipython",
    "version": 3
   },
   "file_extension": ".py",
   "mimetype": "text/x-python",
   "name": "python",
   "nbconvert_exporter": "python",
   "pygments_lexer": "ipython3",
   "version": "3.11.5"
  }
 },
 "nbformat": 4,
 "nbformat_minor": 5
}
