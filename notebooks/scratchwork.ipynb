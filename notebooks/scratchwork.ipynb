{
 "cells": [
  {
   "cell_type": "markdown",
   "id": "2b111fd1",
   "metadata": {},
   "source": [
    "# Scratchwork"
   ]
  },
  {
   "cell_type": "markdown",
   "id": "99657eb4",
   "metadata": {},
   "source": [
    "This notebook is only used for trying out ideas."
   ]
  },
  {
   "cell_type": "code",
   "execution_count": 1,
   "id": "18aa3b8a",
   "metadata": {},
   "outputs": [],
   "source": [
    "import algebras as alg\n",
    "import json\n",
    "import os\n",
    "import numpy as np\n",
    "import itertools as it\n",
    "from pprint import pprint\n",
    "\n",
    "from itertools import combinations, permutations, product"
   ]
  },
  {
   "cell_type": "code",
   "execution_count": 2,
   "id": "2301be94",
   "metadata": {},
   "outputs": [],
   "source": [
    "# Path to this repo\n",
    "aa_path = os.path.join(os.getenv('PYPROJ'), 'abstract_algebra')\n",
    "\n",
    "# Path to a directory containing Algebra definitions in JSON\n",
    "alg_dir = os.path.join(aa_path, \"Algebras\")"
   ]
  },
  {
   "cell_type": "markdown",
   "id": "49bb6fc7",
   "metadata": {},
   "source": [
    "## Groups for Testing"
   ]
  },
  {
   "cell_type": "markdown",
   "id": "75392133",
   "metadata": {},
   "source": [
    "### D4 - Dihedral Group on 4 Vertices"
   ]
  },
  {
   "cell_type": "code",
   "execution_count": 3,
   "id": "2b508bca",
   "metadata": {},
   "outputs": [
    {
     "name": "stdout",
     "output_type": "stream",
     "text": [
      "{\"type\": \"Group\",\r\n",
      " \"name\": \"D_4\",\r\n",
      " \"description\": \"Dihedral group on four vertices\",\r\n",
      " \"element_names\": [\"e\", \"r\", \"r^2\", \"r^3\", \"f\", \"fr\", \"r^2f\", \"rf\"],\r\n",
      " \"alt_elem_names\": [\"()\", \"(0 1 2 3)\", \"(0 2)(1 3)\", \"(0 3 2 1)\",\r\n",
      "                    \"(0 1)(2 3)\", \"(1 3)\", \"(0 3)(1 2)\", \"(0 2)\"],\r\n",
      " \"mult_table\": [[0, 1, 2, 3, 4, 5, 6, 7],\r\n",
      "                [1, 2, 3, 0, 7, 4, 5, 6],\r\n",
      "                [2, 3, 0, 1, 6, 7, 4, 5],\r\n",
      "                [3, 0, 1, 2, 5, 6, 7, 4],\r\n",
      "                [4, 5, 6, 7, 0, 1, 2, 3],\r\n",
      "                [5, 6, 7, 4, 3, 0, 1, 2],\r\n",
      "                [6, 7, 4, 5, 2, 3, 0, 1],\r\n",
      "                [7, 4, 5, 6, 1, 2, 3, 0]]\r\n",
      "}"
     ]
    }
   ],
   "source": [
    "d4_path = os.path.join(alg_dir, \"d4_dihedral_group_on_4_vertices.json\")\n",
    "!cat {d4_path}"
   ]
  },
  {
   "cell_type": "code",
   "execution_count": 4,
   "id": "cedd542d",
   "metadata": {},
   "outputs": [
    {
     "name": "stdout",
     "output_type": "stream",
     "text": [
      "\n",
      "Group : D_4 : Dihedral group on four vertices\n",
      "  Element Names: ['e', 'r', 'r^2', 'r^3', 'f', 'fr', 'r^2f', 'rf']\n",
      "  Is Abelian? False\n",
      "  Inverses:  (** - indicates that it is its own inverse)\n",
      "    inv(e) = e   **\n",
      "    inv(r) = r^3 \n",
      "    inv(r^2) = r^2   **\n",
      "    inv(r^3) = r \n",
      "    inv(f) = f   **\n",
      "    inv(fr) = fr   **\n",
      "    inv(r^2f) = r^2f   **\n",
      "    inv(rf) = rf   **\n",
      "Element Orders:\n",
      "{1: ['e'], 2: ['r^2', 'f', 'fr', 'r^2f', 'rf'], 4: ['r', 'r^3']}\n",
      "  Is associative? True\n",
      "  Cayley Table:\n",
      "[['e', 'r', 'r^2', 'r^3', 'f', 'fr', 'r^2f', 'rf'],\n",
      " ['r', 'r^2', 'r^3', 'e', 'rf', 'f', 'fr', 'r^2f'],\n",
      " ['r^2', 'r^3', 'e', 'r', 'r^2f', 'rf', 'f', 'fr'],\n",
      " ['r^3', 'e', 'r', 'r^2', 'fr', 'r^2f', 'rf', 'f'],\n",
      " ['f', 'fr', 'r^2f', 'rf', 'e', 'r', 'r^2', 'r^3'],\n",
      " ['fr', 'r^2f', 'rf', 'f', 'r^3', 'e', 'r', 'r^2'],\n",
      " ['r^2f', 'rf', 'f', 'fr', 'r^2', 'r^3', 'e', 'r'],\n",
      " ['rf', 'f', 'fr', 'r^2f', 'r', 'r^2', 'r^3', 'e']]\n"
     ]
    }
   ],
   "source": [
    "d4 = alg.Group(d4_path)\n",
    "d4.print_info()"
   ]
  },
  {
   "cell_type": "markdown",
   "id": "505f12a2",
   "metadata": {},
   "source": [
    "### V4 - Klein 4 Group"
   ]
  },
  {
   "cell_type": "code",
   "execution_count": 5,
   "id": "7d82efad",
   "metadata": {},
   "outputs": [
    {
     "name": "stdout",
     "output_type": "stream",
     "text": [
      "{\"type\": \"Group\",\r\n",
      " \"name\": \"V4\",\r\n",
      " \"description\": \"Klein-4 group\",\r\n",
      " \"element_names\": [\"e\", \"h\", \"v\", \"hv\"],\r\n",
      " \"mult_table\": [[0, 1, 2, 3],\r\n",
      "                [1, 0, 3, 2],\r\n",
      "                [2, 3, 0, 1],\r\n",
      "                [3, 2, 1, 0]]\r\n",
      "}\r\n"
     ]
    }
   ],
   "source": [
    "v4_path = os.path.join(alg_dir, \"v4_klein_4_group.json\")\n",
    "!cat {v4_path}"
   ]
  },
  {
   "cell_type": "code",
   "execution_count": 6,
   "id": "d8269fb3",
   "metadata": {},
   "outputs": [
    {
     "name": "stdout",
     "output_type": "stream",
     "text": [
      "\n",
      "Group : V4 : Klein-4 group\n",
      "  Element Names: ['e', 'h', 'v', 'hv']\n",
      "  Is Abelian? True\n",
      "  Inverses:  (** - indicates that it is its own inverse)\n",
      "    inv(e) = e   **\n",
      "    inv(h) = h   **\n",
      "    inv(v) = v   **\n",
      "    inv(hv) = hv   **\n",
      "Element Orders:\n",
      "{1: ['e'], 2: ['h', 'v', 'hv']}\n",
      "  Is associative? True\n",
      "  Cayley Table:\n",
      "[['e', 'h', 'v', 'hv'],\n",
      " ['h', 'e', 'hv', 'v'],\n",
      " ['v', 'hv', 'e', 'h'],\n",
      " ['hv', 'v', 'h', 'e']]\n"
     ]
    }
   ],
   "source": [
    "v4 = alg.Group(v4_path)\n",
    "v4.print_info()"
   ]
  },
  {
   "cell_type": "code",
   "execution_count": 7,
   "id": "30ae4f99",
   "metadata": {},
   "outputs": [
    {
     "data": {
      "text/plain": [
       "Group('Z2',\n",
       "'Autogenerated cyclic group of order 2',\n",
       "['e', 'a'],\n",
       "[[0, 1], [1, 0]]) "
      ]
     },
     "execution_count": 7,
     "metadata": {},
     "output_type": "execute_result"
    }
   ],
   "source": [
    "z2 = alg.generate_cyclic_group(2)\n",
    "z2"
   ]
  },
  {
   "cell_type": "code",
   "execution_count": 8,
   "id": "948c9bff",
   "metadata": {},
   "outputs": [
    {
     "data": {
      "text/plain": [
       "Group('Z2_x_Z2',\n",
       "'Direct product of Z2 & Z2',\n",
       "['e:e', 'e:a', 'a:e', 'a:a'],\n",
       "[[0, 1, 2, 3], [1, 0, 3, 2], [2, 3, 0, 1], [3, 2, 1, 0]]) "
      ]
     },
     "execution_count": 8,
     "metadata": {},
     "output_type": "execute_result"
    }
   ],
   "source": [
    "z2_x_z2 = z2 * z2\n",
    "z2_x_z2"
   ]
  },
  {
   "cell_type": "code",
   "execution_count": 9,
   "id": "cac12376",
   "metadata": {},
   "outputs": [
    {
     "data": {
      "text/plain": [
       "Group('Z4',\n",
       "'Autogenerated cyclic group of order 4',\n",
       "['e', 'a', 'a^2', 'a^3'],\n",
       "[[0, 1, 2, 3], [1, 2, 3, 0], [2, 3, 0, 1], [3, 0, 1, 2]]) "
      ]
     },
     "execution_count": 9,
     "metadata": {},
     "output_type": "execute_result"
    }
   ],
   "source": [
    "z4 = alg.generate_cyclic_group(4)\n",
    "z4"
   ]
  },
  {
   "cell_type": "markdown",
   "id": "97eaa07e",
   "metadata": {},
   "source": [
    "## Changing the Order of Elements"
   ]
  },
  {
   "cell_type": "markdown",
   "id": "aca2b3ac",
   "metadata": {},
   "source": [
    "<b>Observation</b>: If the group is abelian, then changing the order of the elements does <b>not</b> affect the order of the indices in the <i>mult_table</i>.  <b>Why?</b>"
   ]
  },
  {
   "cell_type": "code",
   "execution_count": 10,
   "id": "1a630849",
   "metadata": {},
   "outputs": [],
   "source": [
    "# new_elem_order = v4.element_names\n",
    "# new_v4_elem_order = ['e', 'v', 'h', 'hv']\n",
    "new_v4_elem_order = [\"e\", \"hv\", \"h\", \"v\"]"
   ]
  },
  {
   "cell_type": "code",
   "execution_count": 11,
   "id": "3f76bf86",
   "metadata": {},
   "outputs": [
    {
     "data": {
      "text/plain": [
       "Group('V4_REORDERED',\n",
       "'Klein-4 group (elements reordered)',\n",
       "['e', 'hv', 'h', 'v'],\n",
       "[[0, 1, 2, 3], [1, 0, 3, 2], [2, 3, 0, 1], [3, 2, 1, 0]]) "
      ]
     },
     "execution_count": 11,
     "metadata": {},
     "output_type": "execute_result"
    }
   ],
   "source": [
    "#table_from_reordered_elements(v4, new_v4_elem_order)\n",
    "v4_reordered = v4.reorder_elements(new_v4_elem_order)\n",
    "v4_reordered"
   ]
  },
  {
   "cell_type": "code",
   "execution_count": 12,
   "id": "d70683b2",
   "metadata": {},
   "outputs": [
    {
     "name": "stdout",
     "output_type": "stream",
     "text": [
      "[['e', 'hv', 'h', 'v'],\n",
      " ['hv', 'e', 'v', 'h'],\n",
      " ['h', 'v', 'e', 'hv'],\n",
      " ['v', 'h', 'hv', 'e']]\n"
     ]
    }
   ],
   "source": [
    "pprint(v4_reordered.mult_table_with_names())"
   ]
  },
  {
   "cell_type": "code",
   "execution_count": 13,
   "id": "4ab287e1",
   "metadata": {},
   "outputs": [
    {
     "data": {
      "text/plain": [
       "array([[0, 1, 2, 3],\n",
       "       [1, 0, 3, 2],\n",
       "       [2, 3, 0, 1],\n",
       "       [3, 2, 1, 0]])"
      ]
     },
     "execution_count": 13,
     "metadata": {},
     "output_type": "execute_result"
    }
   ],
   "source": [
    "v4_reordered.mult_table"
   ]
  },
  {
   "cell_type": "code",
   "execution_count": 14,
   "id": "e2da813c",
   "metadata": {},
   "outputs": [
    {
     "name": "stdout",
     "output_type": "stream",
     "text": [
      "[['e', 'h', 'v', 'hv'],\n",
      " ['h', 'e', 'hv', 'v'],\n",
      " ['v', 'hv', 'e', 'h'],\n",
      " ['hv', 'v', 'h', 'e']]\n"
     ]
    }
   ],
   "source": [
    "pprint(v4.mult_table_with_names())"
   ]
  },
  {
   "cell_type": "code",
   "execution_count": 15,
   "id": "686645e2",
   "metadata": {},
   "outputs": [
    {
     "data": {
      "text/plain": [
       "array([[0, 1, 2, 3],\n",
       "       [1, 0, 3, 2],\n",
       "       [2, 3, 0, 1],\n",
       "       [3, 2, 1, 0]])"
      ]
     },
     "execution_count": 15,
     "metadata": {},
     "output_type": "execute_result"
    }
   ],
   "source": [
    "v4.mult_table"
   ]
  },
  {
   "cell_type": "code",
   "execution_count": 16,
   "id": "5835198d",
   "metadata": {},
   "outputs": [],
   "source": [
    "new_d4_elem_order = [\"e\", \"r\", \"r^2\", \"f\", \"r^3\", \"fr\", \"r^2f\", \"rf\"]"
   ]
  },
  {
   "cell_type": "code",
   "execution_count": 17,
   "id": "8f77f574",
   "metadata": {},
   "outputs": [
    {
     "data": {
      "text/plain": [
       "Group('D_4_REORDERED',\n",
       "'Dihedral group on four vertices (elements reordered)',\n",
       "['e', 'r', 'r^2', 'f', 'r^3', 'fr', 'r^2f', 'rf'],\n",
       "[[0, 1, 2, 3, 4, 5, 6, 7], [1, 2, 4, 7, 0, 3, 5, 6], [2, 4, 0, 6, 1, 7, 3, 5], [3, 5, 6, 0, 7, 1, 2, 4], [4, 0, 1, 5, 2, 6, 7, 3], [5, 6, 7, 4, 3, 0, 1, 2], [6, 7, 3, 2, 5, 4, 0, 1], [7, 3, 5, 1, 6, 2, 4, 0]]) "
      ]
     },
     "execution_count": 17,
     "metadata": {},
     "output_type": "execute_result"
    }
   ],
   "source": [
    "d4_reordered = d4.reorder_elements(new_d4_elem_order)\n",
    "d4_reordered"
   ]
  },
  {
   "cell_type": "code",
   "execution_count": 18,
   "id": "34bc0fef",
   "metadata": {},
   "outputs": [
    {
     "data": {
      "text/plain": [
       "array([[0, 1, 2, 3, 4, 5, 6, 7],\n",
       "       [1, 2, 4, 7, 0, 3, 5, 6],\n",
       "       [2, 4, 0, 6, 1, 7, 3, 5],\n",
       "       [3, 5, 6, 0, 7, 1, 2, 4],\n",
       "       [4, 0, 1, 5, 2, 6, 7, 3],\n",
       "       [5, 6, 7, 4, 3, 0, 1, 2],\n",
       "       [6, 7, 3, 2, 5, 4, 0, 1],\n",
       "       [7, 3, 5, 1, 6, 2, 4, 0]])"
      ]
     },
     "execution_count": 18,
     "metadata": {},
     "output_type": "execute_result"
    }
   ],
   "source": [
    "d4_reordered.mult_table"
   ]
  },
  {
   "cell_type": "code",
   "execution_count": 19,
   "id": "98873654",
   "metadata": {},
   "outputs": [
    {
     "data": {
      "text/plain": [
       "array([[0, 1, 2, 3, 4, 5, 6, 7],\n",
       "       [1, 2, 3, 0, 7, 4, 5, 6],\n",
       "       [2, 3, 0, 1, 6, 7, 4, 5],\n",
       "       [3, 0, 1, 2, 5, 6, 7, 4],\n",
       "       [4, 5, 6, 7, 0, 1, 2, 3],\n",
       "       [5, 6, 7, 4, 3, 0, 1, 2],\n",
       "       [6, 7, 4, 5, 2, 3, 0, 1],\n",
       "       [7, 4, 5, 6, 1, 2, 3, 0]])"
      ]
     },
     "execution_count": 19,
     "metadata": {},
     "output_type": "execute_result"
    }
   ],
   "source": [
    "d4.mult_table"
   ]
  },
  {
   "cell_type": "code",
   "execution_count": 20,
   "id": "5c79e8b8",
   "metadata": {},
   "outputs": [
    {
     "data": {
      "text/plain": [
       "{'e': 1, 'r': 4, 'r^2': 2, 'r^3': 4, 'f': 2, 'fr': 2, 'r^2f': 2, 'rf': 2}"
      ]
     },
     "execution_count": 20,
     "metadata": {},
     "output_type": "execute_result"
    }
   ],
   "source": [
    "d4.element_orders()"
   ]
  },
  {
   "cell_type": "code",
   "execution_count": 21,
   "id": "83ff7b60",
   "metadata": {},
   "outputs": [
    {
     "data": {
      "text/plain": [
       "{'e': 1, 'r': 4, 'r^2': 2, 'f': 2, 'r^3': 4, 'fr': 2, 'r^2f': 2, 'rf': 2}"
      ]
     },
     "execution_count": 21,
     "metadata": {},
     "output_type": "execute_result"
    }
   ],
   "source": [
    "d4_reordered.element_orders()"
   ]
  },
  {
   "cell_type": "markdown",
   "id": "48a34cdf",
   "metadata": {},
   "source": [
    "## Generating Possible Multiplication Tables"
   ]
  },
  {
   "cell_type": "code",
   "execution_count": 22,
   "id": "e625ce1f",
   "metadata": {},
   "outputs": [
    {
     "data": {
      "text/plain": [
       "[([0, 1, 2, 3], (1, 0, 3, 2), (2, 3, 0, 1), (3, 2, 1, 0)),\n",
       " ([0, 1, 2, 3], (1, 0, 3, 2), (2, 3, 1, 0), (3, 2, 0, 1)),\n",
       " ([0, 1, 2, 3], (1, 2, 3, 0), (2, 3, 0, 1), (3, 0, 1, 2)),\n",
       " ([0, 1, 2, 3], (1, 3, 0, 2), (2, 0, 3, 1), (3, 2, 1, 0))]"
      ]
     },
     "execution_count": 22,
     "metadata": {},
     "output_type": "execute_result"
    }
   ],
   "source": [
    "tables4 = alg.generate_all_group_tables(4)\n",
    "tables4"
   ]
  },
  {
   "cell_type": "code",
   "execution_count": 23,
   "id": "99b58205",
   "metadata": {},
   "outputs": [
    {
     "name": "stdout",
     "output_type": "stream",
     "text": [
      "array([[0, 1, 2, 3],\n",
      "       [1, 0, 3, 2],\n",
      "       [2, 3, 0, 1],\n",
      "       [3, 2, 1, 0]])\n",
      "array([[0, 1, 2, 3],\n",
      "       [1, 0, 3, 2],\n",
      "       [2, 3, 1, 0],\n",
      "       [3, 2, 0, 1]])\n",
      "array([[0, 1, 2, 3],\n",
      "       [1, 2, 3, 0],\n",
      "       [2, 3, 0, 1],\n",
      "       [3, 0, 1, 2]])\n",
      "array([[0, 1, 2, 3],\n",
      "       [1, 3, 0, 2],\n",
      "       [2, 0, 3, 1],\n",
      "       [3, 2, 1, 0]])\n"
     ]
    }
   ],
   "source": [
    "for t in tables4:\n",
    "    pprint(np.array(t))"
   ]
  },
  {
   "cell_type": "code",
   "execution_count": 24,
   "id": "d55a5740",
   "metadata": {},
   "outputs": [
    {
     "name": "stdout",
     "output_type": "stream",
     "text": [
      "Group('G0',\n",
      "'Group 0 of order 4',\n",
      "['e0', 'a0_1', 'a0_2', 'a0_3'],\n",
      "[[0, 1, 2, 3], [1, 0, 3, 2], [2, 3, 0, 1], [3, 2, 1, 0]]\n",
      ")\n",
      "Group('G1',\n",
      "'Group 1 of order 4',\n",
      "['e1', 'a1_1', 'a1_2', 'a1_3'],\n",
      "[[0, 1, 2, 3], [1, 0, 3, 2], [2, 3, 1, 0], [3, 2, 0, 1]]\n",
      ")\n",
      "Group('G2',\n",
      "'Group 2 of order 4',\n",
      "['e2', 'a2_1', 'a2_2', 'a2_3'],\n",
      "[[0, 1, 2, 3], [1, 2, 3, 0], [2, 3, 0, 1], [3, 0, 1, 2]]\n",
      ")\n",
      "Group('G3',\n",
      "'Group 3 of order 4',\n",
      "['e3', 'a3_1', 'a3_2', 'a3_3'],\n",
      "[[0, 1, 2, 3], [1, 3, 0, 2], [2, 0, 3, 1], [3, 2, 1, 0]]\n",
      ")\n"
     ]
    }
   ],
   "source": [
    "groups4 = alg.tables_to_groups(tables4)\n",
    "for g in groups4:\n",
    "    g.pprint()"
   ]
  },
  {
   "cell_type": "code",
   "execution_count": 25,
   "id": "587e8770",
   "metadata": {},
   "outputs": [],
   "source": [
    "g0 = groups4[0]\n",
    "g1 = groups4[1]\n",
    "g2 = groups4[2]\n",
    "g3 = groups4[3]"
   ]
  },
  {
   "cell_type": "markdown",
   "id": "12a7c403",
   "metadata": {},
   "source": [
    "Below, it can be seen that...\n",
    "\n",
    "* <b>g0</b> is isomorphic to the Klein-4 group\n",
    "* <b>g1, g2, & g3</b> are isomorphic to each other and to the cyclic group of order 4"
   ]
  },
  {
   "cell_type": "markdown",
   "id": "0d3f3451",
   "metadata": {},
   "source": [
    "## G0"
   ]
  },
  {
   "cell_type": "code",
   "execution_count": 26,
   "id": "ae90d4bf",
   "metadata": {},
   "outputs": [
    {
     "data": {
      "text/plain": [
       "Group('G0',\n",
       "'Group 0 of order 4',\n",
       "['e0', 'a0_1', 'a0_2', 'a0_3'],\n",
       "[[0, 1, 2, 3], [1, 0, 3, 2], [2, 3, 0, 1], [3, 2, 1, 0]]) "
      ]
     },
     "execution_count": 26,
     "metadata": {},
     "output_type": "execute_result"
    }
   ],
   "source": [
    "g0  # Isomorphic to v4 and z2_x_z2"
   ]
  },
  {
   "cell_type": "code",
   "execution_count": 27,
   "id": "51c28b22",
   "metadata": {},
   "outputs": [
    {
     "name": "stdout",
     "output_type": "stream",
     "text": [
      "Group('V4',\n",
      "'Klein-4 group',\n",
      "['e', 'h', 'v', 'hv'],\n",
      "[[0, 1, 2, 3], [1, 0, 3, 2], [2, 3, 0, 1], [3, 2, 1, 0]]\n",
      ")\n"
     ]
    }
   ],
   "source": [
    "v4.pprint()"
   ]
  },
  {
   "cell_type": "code",
   "execution_count": 28,
   "id": "f9848fab",
   "metadata": {},
   "outputs": [
    {
     "data": {
      "text/plain": [
       "{'a0_1': 'h', 'a0_2': 'v', 'a0_3': 'hv', 'e0': 'e'}"
      ]
     },
     "execution_count": 28,
     "metadata": {},
     "output_type": "execute_result"
    }
   ],
   "source": [
    "g0.isomorphic(v4)"
   ]
  },
  {
   "cell_type": "code",
   "execution_count": 29,
   "id": "b5be998b",
   "metadata": {},
   "outputs": [
    {
     "data": {
      "text/plain": [
       "{'a0_1': 'e:a', 'a0_2': 'a:e', 'a0_3': 'a:a', 'e0': 'e:e'}"
      ]
     },
     "execution_count": 29,
     "metadata": {},
     "output_type": "execute_result"
    }
   ],
   "source": [
    "g0.isomorphic(z2_x_z2)"
   ]
  },
  {
   "cell_type": "code",
   "execution_count": 30,
   "id": "75456a0c",
   "metadata": {},
   "outputs": [
    {
     "data": {
      "text/plain": [
       "{'h': 'e:a', 'v': 'a:e', 'hv': 'a:a', 'e': 'e:e'}"
      ]
     },
     "execution_count": 30,
     "metadata": {},
     "output_type": "execute_result"
    }
   ],
   "source": [
    "v4.isomorphic(z2_x_z2)"
   ]
  },
  {
   "cell_type": "markdown",
   "id": "516e6399",
   "metadata": {},
   "source": [
    "## G1"
   ]
  },
  {
   "cell_type": "code",
   "execution_count": 31,
   "id": "534d4ff7",
   "metadata": {},
   "outputs": [
    {
     "data": {
      "text/plain": [
       "Group('G1',\n",
       "'Group 1 of order 4',\n",
       "['e1', 'a1_1', 'a1_2', 'a1_3'],\n",
       "[[0, 1, 2, 3], [1, 0, 3, 2], [2, 3, 1, 0], [3, 2, 0, 1]]) "
      ]
     },
     "execution_count": 31,
     "metadata": {},
     "output_type": "execute_result"
    }
   ],
   "source": [
    "g1"
   ]
  },
  {
   "cell_type": "code",
   "execution_count": 32,
   "id": "43f37e30",
   "metadata": {},
   "outputs": [
    {
     "data": {
      "text/plain": [
       "False"
      ]
     },
     "execution_count": 32,
     "metadata": {},
     "output_type": "execute_result"
    }
   ],
   "source": [
    "g1.isomorphic(g0)"
   ]
  },
  {
   "cell_type": "markdown",
   "id": "f3e7c44f",
   "metadata": {},
   "source": [
    "## G2"
   ]
  },
  {
   "cell_type": "code",
   "execution_count": 33,
   "id": "54923391",
   "metadata": {},
   "outputs": [
    {
     "data": {
      "text/plain": [
       "Group('G2',\n",
       "'Group 2 of order 4',\n",
       "['e2', 'a2_1', 'a2_2', 'a2_3'],\n",
       "[[0, 1, 2, 3], [1, 2, 3, 0], [2, 3, 0, 1], [3, 0, 1, 2]]) "
      ]
     },
     "execution_count": 33,
     "metadata": {},
     "output_type": "execute_result"
    }
   ],
   "source": [
    "g2  # Same as z4, below"
   ]
  },
  {
   "cell_type": "code",
   "execution_count": 34,
   "id": "74426a6a",
   "metadata": {},
   "outputs": [
    {
     "data": {
      "text/plain": [
       "{'a2_1': 'a', 'a2_2': 'a^2', 'a2_3': 'a^3', 'e2': 'e'}"
      ]
     },
     "execution_count": 34,
     "metadata": {},
     "output_type": "execute_result"
    }
   ],
   "source": [
    "g2.isomorphic(z4)"
   ]
  },
  {
   "cell_type": "code",
   "execution_count": 35,
   "id": "aed35ee8",
   "metadata": {},
   "outputs": [
    {
     "data": {
      "text/plain": [
       "False"
      ]
     },
     "execution_count": 35,
     "metadata": {},
     "output_type": "execute_result"
    }
   ],
   "source": [
    "g2.isomorphic(g0)"
   ]
  },
  {
   "cell_type": "code",
   "execution_count": 36,
   "id": "d9b65661",
   "metadata": {},
   "outputs": [
    {
     "data": {
      "text/plain": [
       "{'a2_1': 'a1_2', 'a2_2': 'a1_1', 'a2_3': 'a1_3', 'e2': 'e1'}"
      ]
     },
     "execution_count": 36,
     "metadata": {},
     "output_type": "execute_result"
    }
   ],
   "source": [
    "g2.isomorphic(g1)"
   ]
  },
  {
   "cell_type": "markdown",
   "id": "5f82758c",
   "metadata": {},
   "source": [
    "## G3"
   ]
  },
  {
   "cell_type": "code",
   "execution_count": 37,
   "id": "3d2c70cc",
   "metadata": {
    "scrolled": true
   },
   "outputs": [
    {
     "data": {
      "text/plain": [
       "Group('G3',\n",
       "'Group 3 of order 4',\n",
       "['e3', 'a3_1', 'a3_2', 'a3_3'],\n",
       "[[0, 1, 2, 3], [1, 3, 0, 2], [2, 0, 3, 1], [3, 2, 1, 0]]) "
      ]
     },
     "execution_count": 37,
     "metadata": {},
     "output_type": "execute_result"
    }
   ],
   "source": [
    "g3"
   ]
  },
  {
   "cell_type": "code",
   "execution_count": 38,
   "id": "db6287c8",
   "metadata": {},
   "outputs": [
    {
     "data": {
      "text/plain": [
       "False"
      ]
     },
     "execution_count": 38,
     "metadata": {},
     "output_type": "execute_result"
    }
   ],
   "source": [
    "g3.isomorphic(g0)"
   ]
  },
  {
   "cell_type": "code",
   "execution_count": 39,
   "id": "151bf1c1",
   "metadata": {},
   "outputs": [
    {
     "data": {
      "text/plain": [
       "{'a3_1': 'a1_2', 'a3_2': 'a1_3', 'a3_3': 'a1_1', 'e3': 'e1'}"
      ]
     },
     "execution_count": 39,
     "metadata": {},
     "output_type": "execute_result"
    }
   ],
   "source": [
    "g3.isomorphic(g1)"
   ]
  },
  {
   "cell_type": "code",
   "execution_count": 40,
   "id": "634e1dfe",
   "metadata": {},
   "outputs": [
    {
     "data": {
      "text/plain": [
       "{'a3_1': 'a2_1', 'a3_2': 'a2_3', 'a3_3': 'a2_2', 'e3': 'e2'}"
      ]
     },
     "execution_count": 40,
     "metadata": {},
     "output_type": "execute_result"
    }
   ],
   "source": [
    "g3.isomorphic(g2)"
   ]
  },
  {
   "cell_type": "markdown",
   "id": "e3c5ae33",
   "metadata": {},
   "source": [
    "## Groups of Prime Order"
   ]
  },
  {
   "cell_type": "code",
   "execution_count": 41,
   "id": "8b5dddf1",
   "metadata": {},
   "outputs": [],
   "source": [
    "order = 5"
   ]
  },
  {
   "cell_type": "code",
   "execution_count": 42,
   "id": "896e72c0",
   "metadata": {},
   "outputs": [],
   "source": [
    "z5 = alg.generate_cyclic_group(order)"
   ]
  },
  {
   "cell_type": "code",
   "execution_count": 43,
   "id": "be38006e",
   "metadata": {},
   "outputs": [
    {
     "name": "stdout",
     "output_type": "stream",
     "text": [
      "Group('Z5',\n",
      "'Autogenerated cyclic group of order 5',\n",
      "['e', 'a', 'a^2', 'a^3', 'a^4'],\n",
      "[[0, 1, 2, 3, 4],\n",
      " [1, 2, 3, 4, 0],\n",
      " [2, 3, 4, 0, 1],\n",
      " [3, 4, 0, 1, 2],\n",
      " [4, 0, 1, 2, 3]]\n",
      ")\n"
     ]
    }
   ],
   "source": [
    "z5.pprint()"
   ]
  },
  {
   "cell_type": "code",
   "execution_count": 44,
   "id": "36006f46",
   "metadata": {},
   "outputs": [
    {
     "data": {
      "text/plain": [
       "56"
      ]
     },
     "execution_count": 44,
     "metadata": {},
     "output_type": "execute_result"
    }
   ],
   "source": [
    "tables5 = alg.generate_all_group_tables(order)\n",
    "len(tables5)"
   ]
  },
  {
   "cell_type": "code",
   "execution_count": 45,
   "id": "d02bab98",
   "metadata": {},
   "outputs": [
    {
     "name": "stdout",
     "output_type": "stream",
     "text": [
      "Group('G0',\n",
      "'Group 0 of order 5',\n",
      "['e0', 'a0_1', 'a0_2', 'a0_3', 'a0_4'],\n",
      "[[0, 1, 2, 3, 4],\n",
      " [1, 0, 3, 4, 2],\n",
      " [2, 3, 4, 0, 1],\n",
      " [3, 4, 1, 2, 0],\n",
      " [4, 2, 0, 1, 3]]\n",
      ")\n",
      "Group('G1',\n",
      "'Group 1 of order 5',\n",
      "['e1', 'a1_1', 'a1_2', 'a1_3', 'a1_4'],\n",
      "[[0, 1, 2, 3, 4],\n",
      " [1, 0, 3, 4, 2],\n",
      " [2, 3, 4, 1, 0],\n",
      " [3, 4, 0, 2, 1],\n",
      " [4, 2, 1, 0, 3]]\n",
      ")\n",
      "Group('G2',\n",
      "'Group 2 of order 5',\n",
      "['e2', 'a2_1', 'a2_2', 'a2_3', 'a2_4'],\n",
      "[[0, 1, 2, 3, 4],\n",
      " [1, 0, 3, 4, 2],\n",
      " [2, 4, 0, 1, 3],\n",
      " [3, 2, 4, 0, 1],\n",
      " [4, 3, 1, 2, 0]]\n",
      ")\n",
      "Group('G3',\n",
      "'Group 3 of order 5',\n",
      "['e3', 'a3_1', 'a3_2', 'a3_3', 'a3_4'],\n",
      "[[0, 1, 2, 3, 4],\n",
      " [1, 0, 3, 4, 2],\n",
      " [2, 4, 1, 0, 3],\n",
      " [3, 2, 4, 1, 0],\n",
      " [4, 3, 0, 2, 1]]\n",
      ")\n",
      "Group('G4',\n",
      "'Group 4 of order 5',\n",
      "['e4', 'a4_1', 'a4_2', 'a4_3', 'a4_4'],\n",
      "[[0, 1, 2, 3, 4],\n",
      " [1, 0, 4, 2, 3],\n",
      " [2, 3, 0, 4, 1],\n",
      " [3, 4, 1, 0, 2],\n",
      " [4, 2, 3, 1, 0]]\n",
      ")\n",
      "Group('G5',\n",
      "'Group 5 of order 5',\n",
      "['e5', 'a5_1', 'a5_2', 'a5_3', 'a5_4'],\n",
      "[[0, 1, 2, 3, 4],\n",
      " [1, 0, 4, 2, 3],\n",
      " [2, 3, 1, 4, 0],\n",
      " [3, 4, 0, 1, 2],\n",
      " [4, 2, 3, 0, 1]]\n",
      ")\n",
      "Group('G6',\n",
      "'Group 6 of order 5',\n",
      "['e6', 'a6_1', 'a6_2', 'a6_3', 'a6_4'],\n",
      "[[0, 1, 2, 3, 4],\n",
      " [1, 0, 4, 2, 3],\n",
      " [2, 4, 3, 0, 1],\n",
      " [3, 2, 1, 4, 0],\n",
      " [4, 3, 0, 1, 2]]\n",
      ")\n",
      "Group('G7',\n",
      "'Group 7 of order 5',\n",
      "['e7', 'a7_1', 'a7_2', 'a7_3', 'a7_4'],\n",
      "[[0, 1, 2, 3, 4],\n",
      " [1, 0, 4, 2, 3],\n",
      " [2, 4, 3, 1, 0],\n",
      " [3, 2, 0, 4, 1],\n",
      " [4, 3, 1, 0, 2]]\n",
      ")\n",
      "Group('G8',\n",
      "'Group 8 of order 5',\n",
      "['e8', 'a8_1', 'a8_2', 'a8_3', 'a8_4'],\n",
      "[[0, 1, 2, 3, 4],\n",
      " [1, 2, 0, 4, 3],\n",
      " [2, 3, 4, 0, 1],\n",
      " [3, 4, 1, 2, 0],\n",
      " [4, 0, 3, 1, 2]]\n",
      ")\n",
      "Group('G9',\n",
      "'Group 9 of order 5',\n",
      "['e9', 'a9_1', 'a9_2', 'a9_3', 'a9_4'],\n",
      "[[0, 1, 2, 3, 4],\n",
      " [1, 2, 0, 4, 3],\n",
      " [2, 3, 4, 1, 0],\n",
      " [3, 4, 1, 0, 2],\n",
      " [4, 0, 3, 2, 1]]\n",
      ")\n",
      "Group('G10',\n",
      "'Group 10 of order 5',\n",
      "['e10', 'a10_1', 'a10_2', 'a10_3', 'a10_4'],\n",
      "[[0, 1, 2, 3, 4],\n",
      " [1, 2, 0, 4, 3],\n",
      " [2, 4, 3, 0, 1],\n",
      " [3, 0, 4, 1, 2],\n",
      " [4, 3, 1, 2, 0]]\n",
      ")\n",
      "Group('G11',\n",
      "'Group 11 of order 5',\n",
      "['e11', 'a11_1', 'a11_2', 'a11_3', 'a11_4'],\n",
      "[[0, 1, 2, 3, 4],\n",
      " [1, 2, 0, 4, 3],\n",
      " [2, 4, 3, 1, 0],\n",
      " [3, 0, 4, 2, 1],\n",
      " [4, 3, 1, 0, 2]]\n",
      ")\n",
      "Group('G12',\n",
      "'Group 12 of order 5',\n",
      "['e12', 'a12_1', 'a12_2', 'a12_3', 'a12_4'],\n",
      "[[0, 1, 2, 3, 4],\n",
      " [1, 2, 3, 4, 0],\n",
      " [2, 0, 4, 1, 3],\n",
      " [3, 4, 0, 2, 1],\n",
      " [4, 3, 1, 0, 2]]\n",
      ")\n",
      "Group('G13',\n",
      "'Group 13 of order 5',\n",
      "['e13', 'a13_1', 'a13_2', 'a13_3', 'a13_4'],\n",
      "[[0, 1, 2, 3, 4],\n",
      " [1, 2, 3, 4, 0],\n",
      " [2, 0, 4, 1, 3],\n",
      " [3, 4, 1, 0, 2],\n",
      " [4, 3, 0, 2, 1]]\n",
      ")\n",
      "Group('G14',\n",
      "'Group 14 of order 5',\n",
      "['e14', 'a14_1', 'a14_2', 'a14_3', 'a14_4'],\n",
      "[[0, 1, 2, 3, 4],\n",
      " [1, 2, 3, 4, 0],\n",
      " [2, 3, 4, 0, 1],\n",
      " [3, 4, 0, 1, 2],\n",
      " [4, 0, 1, 2, 3]]\n",
      ")\n",
      "Group('G15',\n",
      "'Group 15 of order 5',\n",
      "['e15', 'a15_1', 'a15_2', 'a15_3', 'a15_4'],\n",
      "[[0, 1, 2, 3, 4],\n",
      " [1, 2, 3, 4, 0],\n",
      " [2, 4, 0, 1, 3],\n",
      " [3, 0, 4, 2, 1],\n",
      " [4, 3, 1, 0, 2]]\n",
      ")\n",
      "Group('G16',\n",
      "'Group 16 of order 5',\n",
      "['e16', 'a16_1', 'a16_2', 'a16_3', 'a16_4'],\n",
      "[[0, 1, 2, 3, 4],\n",
      " [1, 2, 3, 4, 0],\n",
      " [2, 4, 1, 0, 3],\n",
      " [3, 0, 4, 1, 2],\n",
      " [4, 3, 0, 2, 1]]\n",
      ")\n",
      "Group('G17',\n",
      "'Group 17 of order 5',\n",
      "['e17', 'a17_1', 'a17_2', 'a17_3', 'a17_4'],\n",
      "[[0, 1, 2, 3, 4],\n",
      " [1, 2, 3, 4, 0],\n",
      " [2, 4, 1, 0, 3],\n",
      " [3, 0, 4, 2, 1],\n",
      " [4, 3, 0, 1, 2]]\n",
      ")\n",
      "Group('G18',\n",
      "'Group 18 of order 5',\n",
      "['e18', 'a18_1', 'a18_2', 'a18_3', 'a18_4'],\n",
      "[[0, 1, 2, 3, 4],\n",
      " [1, 2, 4, 0, 3],\n",
      " [2, 0, 3, 4, 1],\n",
      " [3, 4, 0, 1, 2],\n",
      " [4, 3, 1, 2, 0]]\n",
      ")\n",
      "Group('G19',\n",
      "'Group 19 of order 5',\n",
      "['e19', 'a19_1', 'a19_2', 'a19_3', 'a19_4'],\n",
      "[[0, 1, 2, 3, 4],\n",
      " [1, 2, 4, 0, 3],\n",
      " [2, 0, 3, 4, 1],\n",
      " [3, 4, 1, 2, 0],\n",
      " [4, 3, 0, 1, 2]]\n",
      ")\n",
      "Group('G20',\n",
      "'Group 20 of order 5',\n",
      "['e20', 'a20_1', 'a20_2', 'a20_3', 'a20_4'],\n",
      "[[0, 1, 2, 3, 4],\n",
      " [1, 2, 4, 0, 3],\n",
      " [2, 3, 0, 4, 1],\n",
      " [3, 4, 1, 2, 0],\n",
      " [4, 0, 3, 1, 2]]\n",
      ")\n",
      "Group('G21',\n",
      "'Group 21 of order 5',\n",
      "['e21', 'a21_1', 'a21_2', 'a21_3', 'a21_4'],\n",
      "[[0, 1, 2, 3, 4],\n",
      " [1, 2, 4, 0, 3],\n",
      " [2, 3, 1, 4, 0],\n",
      " [3, 4, 0, 1, 2],\n",
      " [4, 0, 3, 2, 1]]\n",
      ")\n",
      "Group('G22',\n",
      "'Group 22 of order 5',\n",
      "['e22', 'a22_1', 'a22_2', 'a22_3', 'a22_4'],\n",
      "[[0, 1, 2, 3, 4],\n",
      " [1, 2, 4, 0, 3],\n",
      " [2, 3, 1, 4, 0],\n",
      " [3, 4, 0, 2, 1],\n",
      " [4, 0, 3, 1, 2]]\n",
      ")\n",
      "Group('G23',\n",
      "'Group 23 of order 5',\n",
      "['e23', 'a23_1', 'a23_2', 'a23_3', 'a23_4'],\n",
      "[[0, 1, 2, 3, 4],\n",
      " [1, 2, 4, 0, 3],\n",
      " [2, 4, 3, 1, 0],\n",
      " [3, 0, 1, 4, 2],\n",
      " [4, 3, 0, 2, 1]]\n",
      ")\n",
      "Group('G24',\n",
      "'Group 24 of order 5',\n",
      "['e24', 'a24_1', 'a24_2', 'a24_3', 'a24_4'],\n",
      "[[0, 1, 2, 3, 4],\n",
      " [1, 3, 0, 4, 2],\n",
      " [2, 0, 4, 1, 3],\n",
      " [3, 4, 1, 2, 0],\n",
      " [4, 2, 3, 0, 1]]\n",
      ")\n",
      "Group('G25',\n",
      "'Group 25 of order 5',\n",
      "['e25', 'a25_1', 'a25_2', 'a25_3', 'a25_4'],\n",
      "[[0, 1, 2, 3, 4],\n",
      " [1, 3, 0, 4, 2],\n",
      " [2, 4, 1, 0, 3],\n",
      " [3, 0, 4, 2, 1],\n",
      " [4, 2, 3, 1, 0]]\n",
      ")\n",
      "Group('G26',\n",
      "'Group 26 of order 5',\n",
      "['e26', 'a26_1', 'a26_2', 'a26_3', 'a26_4'],\n",
      "[[0, 1, 2, 3, 4],\n",
      " [1, 3, 0, 4, 2],\n",
      " [2, 4, 1, 0, 3],\n",
      " [3, 2, 4, 1, 0],\n",
      " [4, 0, 3, 2, 1]]\n",
      ")\n",
      "Group('G27',\n",
      "'Group 27 of order 5',\n",
      "['e27', 'a27_1', 'a27_2', 'a27_3', 'a27_4'],\n",
      "[[0, 1, 2, 3, 4],\n",
      " [1, 3, 0, 4, 2],\n",
      " [2, 4, 3, 0, 1],\n",
      " [3, 2, 4, 1, 0],\n",
      " [4, 0, 1, 2, 3]]\n",
      ")\n",
      "Group('G28',\n",
      "'Group 28 of order 5',\n",
      "['e28', 'a28_1', 'a28_2', 'a28_3', 'a28_4'],\n",
      "[[0, 1, 2, 3, 4],\n",
      " [1, 3, 0, 4, 2],\n",
      " [2, 4, 3, 1, 0],\n",
      " [3, 0, 4, 2, 1],\n",
      " [4, 2, 1, 0, 3]]\n",
      ")\n",
      "Group('G29',\n",
      "'Group 29 of order 5',\n",
      "['e29', 'a29_1', 'a29_2', 'a29_3', 'a29_4'],\n",
      "[[0, 1, 2, 3, 4],\n",
      " [1, 3, 0, 4, 2],\n",
      " [2, 4, 3, 1, 0],\n",
      " [3, 2, 4, 0, 1],\n",
      " [4, 0, 1, 2, 3]]\n",
      ")\n",
      "Group('G30',\n",
      "'Group 30 of order 5',\n",
      "['e30', 'a30_1', 'a30_2', 'a30_3', 'a30_4'],\n",
      "[[0, 1, 2, 3, 4],\n",
      " [1, 3, 4, 0, 2],\n",
      " [2, 0, 1, 4, 3],\n",
      " [3, 4, 0, 2, 1],\n",
      " [4, 2, 3, 1, 0]]\n",
      ")\n",
      "Group('G31',\n",
      "'Group 31 of order 5',\n",
      "['e31', 'a31_1', 'a31_2', 'a31_3', 'a31_4'],\n",
      "[[0, 1, 2, 3, 4],\n",
      " [1, 3, 4, 0, 2],\n",
      " [2, 0, 3, 4, 1],\n",
      " [3, 4, 1, 2, 0],\n",
      " [4, 2, 0, 1, 3]]\n",
      ")\n",
      "Group('G32',\n",
      "'Group 32 of order 5',\n",
      "['e32', 'a32_1', 'a32_2', 'a32_3', 'a32_4'],\n",
      "[[0, 1, 2, 3, 4],\n",
      " [1, 3, 4, 0, 2],\n",
      " [2, 4, 0, 1, 3],\n",
      " [3, 2, 1, 4, 0],\n",
      " [4, 0, 3, 2, 1]]\n",
      ")\n",
      "Group('G33',\n",
      "'Group 33 of order 5',\n",
      "['e33', 'a33_1', 'a33_2', 'a33_3', 'a33_4'],\n",
      "[[0, 1, 2, 3, 4],\n",
      " [1, 3, 4, 0, 2],\n",
      " [2, 4, 3, 1, 0],\n",
      " [3, 2, 0, 4, 1],\n",
      " [4, 0, 1, 2, 3]]\n",
      ")\n",
      "Group('G34',\n",
      "'Group 34 of order 5',\n",
      "['e34', 'a34_1', 'a34_2', 'a34_3', 'a34_4'],\n",
      "[[0, 1, 2, 3, 4],\n",
      " [1, 3, 4, 2, 0],\n",
      " [2, 0, 1, 4, 3],\n",
      " [3, 4, 0, 1, 2],\n",
      " [4, 2, 3, 0, 1]]\n",
      ")\n",
      "Group('G35',\n",
      "'Group 35 of order 5',\n",
      "['e35', 'a35_1', 'a35_2', 'a35_3', 'a35_4'],\n",
      "[[0, 1, 2, 3, 4],\n",
      " [1, 3, 4, 2, 0],\n",
      " [2, 0, 3, 4, 1],\n",
      " [3, 4, 0, 1, 2],\n",
      " [4, 2, 1, 0, 3]]\n",
      ")\n",
      "Group('G36',\n",
      "'Group 36 of order 5',\n",
      "['e36', 'a36_1', 'a36_2', 'a36_3', 'a36_4'],\n",
      "[[0, 1, 2, 3, 4],\n",
      " [1, 3, 4, 2, 0],\n",
      " [2, 0, 3, 4, 1],\n",
      " [3, 4, 1, 0, 2],\n",
      " [4, 2, 0, 1, 3]]\n",
      ")\n",
      "Group('G37',\n",
      "'Group 37 of order 5',\n",
      "['e37', 'a37_1', 'a37_2', 'a37_3', 'a37_4'],\n",
      "[[0, 1, 2, 3, 4],\n",
      " [1, 3, 4, 2, 0],\n",
      " [2, 4, 0, 1, 3],\n",
      " [3, 0, 1, 4, 2],\n",
      " [4, 2, 3, 0, 1]]\n",
      ")\n",
      "Group('G38',\n",
      "'Group 38 of order 5',\n",
      "['e38', 'a38_1', 'a38_2', 'a38_3', 'a38_4'],\n",
      "[[0, 1, 2, 3, 4],\n",
      " [1, 3, 4, 2, 0],\n",
      " [2, 4, 1, 0, 3],\n",
      " [3, 2, 0, 4, 1],\n",
      " [4, 0, 3, 1, 2]]\n",
      ")\n",
      "Group('G39',\n",
      "'Group 39 of order 5',\n",
      "['e39', 'a39_1', 'a39_2', 'a39_3', 'a39_4'],\n",
      "[[0, 1, 2, 3, 4],\n",
      " [1, 3, 4, 2, 0],\n",
      " [2, 4, 3, 0, 1],\n",
      " [3, 0, 1, 4, 2],\n",
      " [4, 2, 0, 1, 3]]\n",
      ")\n",
      "Group('G40',\n",
      "'Group 40 of order 5',\n",
      "['e40', 'a40_1', 'a40_2', 'a40_3', 'a40_4'],\n",
      "[[0, 1, 2, 3, 4],\n",
      " [1, 4, 0, 2, 3],\n",
      " [2, 0, 3, 4, 1],\n",
      " [3, 2, 4, 1, 0],\n",
      " [4, 3, 1, 0, 2]]\n",
      ")\n",
      "Group('G41',\n",
      "'Group 41 of order 5',\n",
      "['e41', 'a41_1', 'a41_2', 'a41_3', 'a41_4'],\n",
      "[[0, 1, 2, 3, 4],\n",
      " [1, 4, 0, 2, 3],\n",
      " [2, 3, 1, 4, 0],\n",
      " [3, 0, 4, 1, 2],\n",
      " [4, 2, 3, 0, 1]]\n",
      ")\n",
      "Group('G42',\n",
      "'Group 42 of order 5',\n",
      "['e42', 'a42_1', 'a42_2', 'a42_3', 'a42_4'],\n",
      "[[0, 1, 2, 3, 4],\n",
      " [1, 4, 0, 2, 3],\n",
      " [2, 3, 1, 4, 0],\n",
      " [3, 2, 4, 0, 1],\n",
      " [4, 0, 3, 1, 2]]\n",
      ")\n",
      "Group('G43',\n",
      "'Group 43 of order 5',\n",
      "['e43', 'a43_1', 'a43_2', 'a43_3', 'a43_4'],\n",
      "[[0, 1, 2, 3, 4],\n",
      " [1, 4, 0, 2, 3],\n",
      " [2, 3, 4, 0, 1],\n",
      " [3, 0, 1, 4, 2],\n",
      " [4, 2, 3, 1, 0]]\n",
      ")\n",
      "Group('G44',\n",
      "'Group 44 of order 5',\n",
      "['e44', 'a44_1', 'a44_2', 'a44_3', 'a44_4'],\n",
      "[[0, 1, 2, 3, 4],\n",
      " [1, 4, 0, 2, 3],\n",
      " [2, 3, 4, 0, 1],\n",
      " [3, 2, 1, 4, 0],\n",
      " [4, 0, 3, 1, 2]]\n",
      ")\n",
      "Group('G45',\n",
      "'Group 45 of order 5',\n",
      "['e45', 'a45_1', 'a45_2', 'a45_3', 'a45_4'],\n",
      "[[0, 1, 2, 3, 4],\n",
      " [1, 4, 0, 2, 3],\n",
      " [2, 3, 4, 1, 0],\n",
      " [3, 0, 1, 4, 2],\n",
      " [4, 2, 3, 0, 1]]\n",
      ")\n",
      "Group('G46',\n",
      "'Group 46 of order 5',\n",
      "['e46', 'a46_1', 'a46_2', 'a46_3', 'a46_4'],\n",
      "[[0, 1, 2, 3, 4],\n",
      " [1, 4, 3, 0, 2],\n",
      " [2, 0, 1, 4, 3],\n",
      " [3, 2, 4, 1, 0],\n",
      " [4, 3, 0, 2, 1]]\n",
      ")\n",
      "Group('G47',\n",
      "'Group 47 of order 5',\n",
      "['e47', 'a47_1', 'a47_2', 'a47_3', 'a47_4'],\n",
      "[[0, 1, 2, 3, 4],\n",
      " [1, 4, 3, 0, 2],\n",
      " [2, 0, 4, 1, 3],\n",
      " [3, 2, 0, 4, 1],\n",
      " [4, 3, 1, 2, 0]]\n",
      ")\n",
      "Group('G48',\n",
      "'Group 48 of order 5',\n",
      "['e48', 'a48_1', 'a48_2', 'a48_3', 'a48_4'],\n",
      "[[0, 1, 2, 3, 4],\n",
      " [1, 4, 3, 0, 2],\n",
      " [2, 0, 4, 1, 3],\n",
      " [3, 2, 1, 4, 0],\n",
      " [4, 3, 0, 2, 1]]\n",
      ")\n",
      "Group('G49',\n",
      "'Group 49 of order 5',\n",
      "['e49', 'a49_1', 'a49_2', 'a49_3', 'a49_4'],\n",
      "[[0, 1, 2, 3, 4],\n",
      " [1, 4, 3, 0, 2],\n",
      " [2, 3, 0, 4, 1],\n",
      " [3, 2, 4, 1, 0],\n",
      " [4, 0, 1, 2, 3]]\n",
      ")\n",
      "Group('G50',\n",
      "'Group 50 of order 5',\n",
      "['e50', 'a50_1', 'a50_2', 'a50_3', 'a50_4'],\n",
      "[[0, 1, 2, 3, 4],\n",
      " [1, 4, 3, 0, 2],\n",
      " [2, 3, 1, 4, 0],\n",
      " [3, 0, 4, 2, 1],\n",
      " [4, 2, 0, 1, 3]]\n",
      ")\n",
      "Group('G51',\n",
      "'Group 51 of order 5',\n",
      "['e51', 'a51_1', 'a51_2', 'a51_3', 'a51_4'],\n",
      "[[0, 1, 2, 3, 4],\n",
      " [1, 4, 3, 0, 2],\n",
      " [2, 3, 4, 1, 0],\n",
      " [3, 2, 0, 4, 1],\n",
      " [4, 0, 1, 2, 3]]\n",
      ")\n",
      "Group('G52',\n",
      "'Group 52 of order 5',\n",
      "['e52', 'a52_1', 'a52_2', 'a52_3', 'a52_4'],\n",
      "[[0, 1, 2, 3, 4],\n",
      " [1, 4, 3, 2, 0],\n",
      " [2, 0, 1, 4, 3],\n",
      " [3, 2, 4, 0, 1],\n",
      " [4, 3, 0, 1, 2]]\n",
      ")\n",
      "Group('G53',\n",
      "'Group 53 of order 5',\n",
      "['e53', 'a53_1', 'a53_2', 'a53_3', 'a53_4'],\n",
      "[[0, 1, 2, 3, 4],\n",
      " [1, 4, 3, 2, 0],\n",
      " [2, 0, 4, 1, 3],\n",
      " [3, 2, 0, 4, 1],\n",
      " [4, 3, 1, 0, 2]]\n",
      ")\n",
      "Group('G54',\n",
      "'Group 54 of order 5',\n"
     ]
    },
    {
     "name": "stdout",
     "output_type": "stream",
     "text": [
      "['e54', 'a54_1', 'a54_2', 'a54_3', 'a54_4'],\n",
      "[[0, 1, 2, 3, 4],\n",
      " [1, 4, 3, 2, 0],\n",
      " [2, 3, 0, 4, 1],\n",
      " [3, 0, 4, 1, 2],\n",
      " [4, 2, 1, 0, 3]]\n",
      ")\n",
      "Group('G55',\n",
      "'Group 55 of order 5',\n",
      "['e55', 'a55_1', 'a55_2', 'a55_3', 'a55_4'],\n",
      "[[0, 1, 2, 3, 4],\n",
      " [1, 4, 3, 2, 0],\n",
      " [2, 3, 4, 0, 1],\n",
      " [3, 0, 1, 4, 2],\n",
      " [4, 2, 0, 1, 3]]\n",
      ")\n"
     ]
    }
   ],
   "source": [
    "groups5 = alg.tables_to_groups(tables5)\n",
    "for grp in groups5:\n",
    "    grp.pprint()"
   ]
  },
  {
   "cell_type": "code",
   "execution_count": 60,
   "id": "596bcdd6",
   "metadata": {},
   "outputs": [],
   "source": [
    "# No two tables in groups5 are the same:\n",
    "\n",
    "np_tables5 = [g.mult_table for g in groups5]\n",
    "\n",
    "for combo in combinations(groups5, 2):\n",
    "    if combo[0] == combo[1]:\n",
    "        print(combo[0])"
   ]
  },
  {
   "cell_type": "code",
   "execution_count": 58,
   "id": "847190ed",
   "metadata": {},
   "outputs": [
    {
     "data": {
      "text/plain": [
       "[Group('G14',\n",
       " 'Group 14 of order 5',\n",
       " ['e14', 'a14_1', 'a14_2', 'a14_3', 'a14_4'],\n",
       " [[0, 1, 2, 3, 4], [1, 2, 3, 4, 0], [2, 3, 4, 0, 1], [3, 4, 0, 1, 2], [4, 0, 1, 2, 3]]) ,\n",
       " Group('G23',\n",
       " 'Group 23 of order 5',\n",
       " ['e23', 'a23_1', 'a23_2', 'a23_3', 'a23_4'],\n",
       " [[0, 1, 2, 3, 4], [1, 2, 4, 0, 3], [2, 4, 3, 1, 0], [3, 0, 1, 4, 2], [4, 3, 0, 2, 1]]) ,\n",
       " Group('G24',\n",
       " 'Group 24 of order 5',\n",
       " ['e24', 'a24_1', 'a24_2', 'a24_3', 'a24_4'],\n",
       " [[0, 1, 2, 3, 4], [1, 3, 0, 4, 2], [2, 0, 4, 1, 3], [3, 4, 1, 2, 0], [4, 2, 3, 0, 1]]) ,\n",
       " Group('G38',\n",
       " 'Group 38 of order 5',\n",
       " ['e38', 'a38_1', 'a38_2', 'a38_3', 'a38_4'],\n",
       " [[0, 1, 2, 3, 4], [1, 3, 4, 2, 0], [2, 4, 1, 0, 3], [3, 2, 0, 4, 1], [4, 0, 3, 1, 2]]) ,\n",
       " Group('G40',\n",
       " 'Group 40 of order 5',\n",
       " ['e40', 'a40_1', 'a40_2', 'a40_3', 'a40_4'],\n",
       " [[0, 1, 2, 3, 4], [1, 4, 0, 2, 3], [2, 0, 3, 4, 1], [3, 2, 4, 1, 0], [4, 3, 1, 0, 2]]) ,\n",
       " Group('G50',\n",
       " 'Group 50 of order 5',\n",
       " ['e50', 'a50_1', 'a50_2', 'a50_3', 'a50_4'],\n",
       " [[0, 1, 2, 3, 4], [1, 4, 3, 0, 2], [2, 3, 1, 4, 0], [3, 0, 4, 2, 1], [4, 2, 0, 1, 3]]) ]"
      ]
     },
     "execution_count": 58,
     "metadata": {},
     "output_type": "execute_result"
    }
   ],
   "source": [
    "# And yet, six of the groups are abelian:\n",
    "\n",
    "abelian_tables5 = [g for g in groups5 if g.abelian()]\n",
    "abelian_tables5"
   ]
  },
  {
   "cell_type": "code",
   "execution_count": 61,
   "id": "6877cab4",
   "metadata": {},
   "outputs": [
    {
     "data": {
      "text/plain": [
       "[Group('G14',\n",
       " 'Group 14 of order 5',\n",
       " ['e14', 'a14_1', 'a14_2', 'a14_3', 'a14_4'],\n",
       " [[0, 1, 2, 3, 4], [1, 2, 3, 4, 0], [2, 3, 4, 0, 1], [3, 4, 0, 1, 2], [4, 0, 1, 2, 3]]) ,\n",
       " Group('G23',\n",
       " 'Group 23 of order 5',\n",
       " ['e23', 'a23_1', 'a23_2', 'a23_3', 'a23_4'],\n",
       " [[0, 1, 2, 3, 4], [1, 2, 4, 0, 3], [2, 4, 3, 1, 0], [3, 0, 1, 4, 2], [4, 3, 0, 2, 1]]) ,\n",
       " Group('G24',\n",
       " 'Group 24 of order 5',\n",
       " ['e24', 'a24_1', 'a24_2', 'a24_3', 'a24_4'],\n",
       " [[0, 1, 2, 3, 4], [1, 3, 0, 4, 2], [2, 0, 4, 1, 3], [3, 4, 1, 2, 0], [4, 2, 3, 0, 1]]) ,\n",
       " Group('G38',\n",
       " 'Group 38 of order 5',\n",
       " ['e38', 'a38_1', 'a38_2', 'a38_3', 'a38_4'],\n",
       " [[0, 1, 2, 3, 4], [1, 3, 4, 2, 0], [2, 4, 1, 0, 3], [3, 2, 0, 4, 1], [4, 0, 3, 1, 2]]) ,\n",
       " Group('G40',\n",
       " 'Group 40 of order 5',\n",
       " ['e40', 'a40_1', 'a40_2', 'a40_3', 'a40_4'],\n",
       " [[0, 1, 2, 3, 4], [1, 4, 0, 2, 3], [2, 0, 3, 4, 1], [3, 2, 4, 1, 0], [4, 3, 1, 0, 2]]) ,\n",
       " Group('G50',\n",
       " 'Group 50 of order 5',\n",
       " ['e50', 'a50_1', 'a50_2', 'a50_3', 'a50_4'],\n",
       " [[0, 1, 2, 3, 4], [1, 4, 3, 0, 2], [2, 3, 1, 4, 0], [3, 0, 4, 2, 1], [4, 2, 0, 1, 3]]) ]"
      ]
     },
     "execution_count": 61,
     "metadata": {},
     "output_type": "execute_result"
    }
   ],
   "source": [
    "assoc_tables5 = [g for g in groups5 if g.associative()]\n",
    "assoc_tables5"
   ]
  },
  {
   "cell_type": "code",
   "execution_count": 74,
   "id": "54a7ee57",
   "metadata": {},
   "outputs": [
    {
     "name": "stdout",
     "output_type": "stream",
     "text": [
      "([0, 1, 2, 3, 4], (1, 0, 3, 4, 2), (2, 3, 4, 0, 1), (3, 4, 1, 2, 0), (4, 2, 0, 1, 3))\n",
      "([0, 1, 2, 3, 4], (1, 2, 3, 4, 0), (2, 3, 4, 0, 1), (3, 4, 0, 1, 2), (4, 0, 1, 2, 3))\n"
     ]
    }
   ],
   "source": [
    "tbl0 = tables5[0]\n",
    "tbl14 = tables5[14]\n",
    "print(tbl0)\n",
    "print(tbl14)"
   ]
  },
  {
   "cell_type": "code",
   "execution_count": 66,
   "id": "505b41e8",
   "metadata": {},
   "outputs": [],
   "source": [
    "def table_mult(table, a, b):\n",
    "    prod = table[a][b]\n",
    "    return prod"
   ]
  },
  {
   "cell_type": "code",
   "execution_count": 68,
   "id": "8deed5ab",
   "metadata": {},
   "outputs": [
    {
     "data": {
      "text/plain": [
       "0"
      ]
     },
     "execution_count": 68,
     "metadata": {},
     "output_type": "execute_result"
    }
   ],
   "source": [
    "table_mult(tbl0, 2, 3)"
   ]
  },
  {
   "cell_type": "code",
   "execution_count": 70,
   "id": "936bbb98",
   "metadata": {},
   "outputs": [],
   "source": [
    "def associative_table(table):\n",
    "    \"\"\"A brute force test of whether a table supports associativity.\n",
    "    Returns True if the table does support associativity.\"\"\"\n",
    "    result = True\n",
    "    elements = table[0]  # The first row should correspond to the elements of a group\n",
    "    for a in elements:\n",
    "        for b in elements:\n",
    "            for c in elements:\n",
    "                ab = table[a][b]\n",
    "                bc = table[b][c]\n",
    "                if not (table[ab][c] == table[a][bc]):\n",
    "                    result = False\n",
    "                    break\n",
    "    return result"
   ]
  },
  {
   "cell_type": "code",
   "execution_count": 71,
   "id": "de62560d",
   "metadata": {},
   "outputs": [
    {
     "data": {
      "text/plain": [
       "False"
      ]
     },
     "execution_count": 71,
     "metadata": {},
     "output_type": "execute_result"
    }
   ],
   "source": [
    "associative_table(tbl0)"
   ]
  },
  {
   "cell_type": "code",
   "execution_count": 75,
   "id": "a9d025d4",
   "metadata": {},
   "outputs": [
    {
     "data": {
      "text/plain": [
       "True"
      ]
     },
     "execution_count": 75,
     "metadata": {},
     "output_type": "execute_result"
    }
   ],
   "source": [
    "associative_table(tbl14)"
   ]
  },
  {
   "cell_type": "code",
   "execution_count": 128,
   "id": "90d72c54",
   "metadata": {},
   "outputs": [],
   "source": [
    "def gen_all_group_tables(order):\n",
    "    \"\"\"Return a list of all arrays that correspond to multiplication tables for groups of a specific order \"\"\"\n",
    "    row0 = list(range(order))\n",
    "    row_candidates = [[row0]]\n",
    "    for row_num in range(1, order):\n",
    "        row_candidates.append(alg._filter_out_conflicts(permutations(row0), row0, row_num))\n",
    "    table_candidates = [cand for cand in product(*row_candidates) if associative_table(cand)]\n",
    "    return [tbl for tbl in table_candidates if alg._no_conflicts(tbl)]"
   ]
  },
  {
   "cell_type": "code",
   "execution_count": 131,
   "id": "21f2e74f",
   "metadata": {},
   "outputs": [
    {
     "data": {
      "text/plain": [
       "[([0, 1, 2, 3], (1, 0, 3, 2), (2, 3, 0, 1), (3, 2, 1, 0)),\n",
       " ([0, 1, 2, 3], (1, 0, 3, 2), (2, 3, 1, 0), (3, 2, 0, 1)),\n",
       " ([0, 1, 2, 3], (1, 2, 3, 0), (2, 3, 0, 1), (3, 0, 1, 2)),\n",
       " ([0, 1, 2, 3], (1, 3, 0, 2), (2, 0, 3, 1), (3, 2, 1, 0))]"
      ]
     },
     "execution_count": 131,
     "metadata": {},
     "output_type": "execute_result"
    }
   ],
   "source": [
    "gen_all_group_tables(4)"
   ]
  },
  {
   "cell_type": "code",
   "execution_count": 132,
   "id": "0aea92dc",
   "metadata": {},
   "outputs": [
    {
     "data": {
      "text/plain": [
       "80"
      ]
     },
     "execution_count": 132,
     "metadata": {},
     "output_type": "execute_result"
    }
   ],
   "source": [
    "tables6 = gen_all_group_tables(6)\n",
    "len(tables6)"
   ]
  },
  {
   "cell_type": "code",
   "execution_count": 133,
   "id": "b7bea823",
   "metadata": {},
   "outputs": [
    {
     "data": {
      "text/plain": [
       "[([0, 1, 2, 3, 4, 5],\n",
       "  (1, 0, 3, 2, 5, 4),\n",
       "  (2, 3, 4, 5, 0, 1),\n",
       "  (3, 2, 5, 4, 1, 0),\n",
       "  (4, 5, 0, 1, 2, 3),\n",
       "  (5, 4, 1, 0, 3, 2)),\n",
       " ([0, 1, 2, 3, 4, 5],\n",
       "  (1, 0, 3, 2, 5, 4),\n",
       "  (2, 3, 4, 5, 1, 0),\n",
       "  (3, 2, 5, 4, 0, 1),\n",
       "  (4, 5, 1, 0, 3, 2),\n",
       "  (5, 4, 0, 1, 2, 3)),\n",
       " ([0, 1, 2, 3, 4, 5],\n",
       "  (1, 0, 3, 2, 5, 4),\n",
       "  (2, 3, 5, 4, 0, 1),\n",
       "  (3, 2, 4, 5, 1, 0),\n",
       "  (4, 5, 0, 1, 3, 2),\n",
       "  (5, 4, 1, 0, 2, 3)),\n",
       " ([0, 1, 2, 3, 4, 5],\n",
       "  (1, 0, 3, 2, 5, 4),\n",
       "  (2, 3, 5, 4, 1, 0),\n",
       "  (3, 2, 4, 5, 0, 1),\n",
       "  (4, 5, 1, 0, 2, 3),\n",
       "  (5, 4, 0, 1, 3, 2)),\n",
       " ([0, 1, 2, 3, 4, 5],\n",
       "  (1, 0, 3, 2, 5, 4),\n",
       "  (2, 4, 0, 5, 1, 3),\n",
       "  (3, 5, 1, 4, 0, 2),\n",
       "  (4, 2, 5, 0, 3, 1),\n",
       "  (5, 3, 4, 1, 2, 0)),\n",
       " ([0, 1, 2, 3, 4, 5],\n",
       "  (1, 0, 3, 2, 5, 4),\n",
       "  (2, 4, 5, 1, 3, 0),\n",
       "  (3, 5, 4, 0, 2, 1),\n",
       "  (4, 2, 1, 5, 0, 3),\n",
       "  (5, 3, 0, 4, 1, 2)),\n",
       " ([0, 1, 2, 3, 4, 5],\n",
       "  (1, 0, 3, 2, 5, 4),\n",
       "  (2, 5, 0, 4, 3, 1),\n",
       "  (3, 4, 1, 5, 2, 0),\n",
       "  (4, 3, 5, 1, 0, 2),\n",
       "  (5, 2, 4, 0, 1, 3)),\n",
       " ([0, 1, 2, 3, 4, 5],\n",
       "  (1, 0, 3, 2, 5, 4),\n",
       "  (2, 5, 4, 1, 0, 3),\n",
       "  (3, 4, 5, 0, 1, 2),\n",
       "  (4, 3, 0, 5, 2, 1),\n",
       "  (5, 2, 1, 4, 3, 0)),\n",
       " ([0, 1, 2, 3, 4, 5],\n",
       "  (1, 0, 4, 5, 2, 3),\n",
       "  (2, 3, 0, 1, 5, 4),\n",
       "  (3, 2, 5, 4, 0, 1),\n",
       "  (4, 5, 1, 0, 3, 2),\n",
       "  (5, 4, 3, 2, 1, 0)),\n",
       " ([0, 1, 2, 3, 4, 5],\n",
       "  (1, 0, 4, 5, 2, 3),\n",
       "  (2, 3, 5, 4, 1, 0),\n",
       "  (3, 2, 1, 0, 5, 4),\n",
       "  (4, 5, 3, 2, 0, 1),\n",
       "  (5, 4, 0, 1, 3, 2)),\n",
       " ([0, 1, 2, 3, 4, 5],\n",
       "  (1, 0, 4, 5, 2, 3),\n",
       "  (2, 4, 3, 0, 5, 1),\n",
       "  (3, 5, 0, 2, 1, 4),\n",
       "  (4, 2, 5, 1, 3, 0),\n",
       "  (5, 3, 1, 4, 0, 2)),\n",
       " ([0, 1, 2, 3, 4, 5],\n",
       "  (1, 0, 4, 5, 2, 3),\n",
       "  (2, 4, 3, 1, 5, 0),\n",
       "  (3, 5, 1, 4, 0, 2),\n",
       "  (4, 2, 5, 0, 3, 1),\n",
       "  (5, 3, 0, 2, 1, 4)),\n",
       " ([0, 1, 2, 3, 4, 5],\n",
       "  (1, 0, 4, 5, 2, 3),\n",
       "  (2, 4, 5, 0, 3, 1),\n",
       "  (3, 5, 0, 4, 1, 2),\n",
       "  (4, 2, 3, 1, 5, 0),\n",
       "  (5, 3, 1, 2, 0, 4)),\n",
       " ([0, 1, 2, 3, 4, 5],\n",
       "  (1, 0, 4, 5, 2, 3),\n",
       "  (2, 4, 5, 1, 3, 0),\n",
       "  (3, 5, 1, 2, 0, 4),\n",
       "  (4, 2, 3, 0, 5, 1),\n",
       "  (5, 3, 0, 4, 1, 2)),\n",
       " ([0, 1, 2, 3, 4, 5],\n",
       "  (1, 0, 4, 5, 2, 3),\n",
       "  (2, 5, 0, 4, 3, 1),\n",
       "  (3, 4, 5, 0, 1, 2),\n",
       "  (4, 3, 1, 2, 5, 0),\n",
       "  (5, 2, 3, 1, 0, 4)),\n",
       " ([0, 1, 2, 3, 4, 5],\n",
       "  (1, 0, 4, 5, 2, 3),\n",
       "  (2, 5, 3, 0, 1, 4),\n",
       "  (3, 4, 0, 2, 5, 1),\n",
       "  (4, 3, 5, 1, 0, 2),\n",
       "  (5, 2, 1, 4, 3, 0)),\n",
       " ([0, 1, 2, 3, 4, 5],\n",
       "  (1, 0, 5, 4, 3, 2),\n",
       "  (2, 3, 0, 1, 5, 4),\n",
       "  (3, 2, 4, 5, 1, 0),\n",
       "  (4, 5, 3, 2, 0, 1),\n",
       "  (5, 4, 1, 0, 2, 3)),\n",
       " ([0, 1, 2, 3, 4, 5],\n",
       "  (1, 0, 5, 4, 3, 2),\n",
       "  (2, 3, 4, 5, 0, 1),\n",
       "  (3, 2, 1, 0, 5, 4),\n",
       "  (4, 5, 0, 1, 2, 3),\n",
       "  (5, 4, 3, 2, 1, 0)),\n",
       " ([0, 1, 2, 3, 4, 5],\n",
       "  (1, 0, 5, 4, 3, 2),\n",
       "  (2, 4, 0, 5, 1, 3),\n",
       "  (3, 5, 4, 0, 2, 1),\n",
       "  (4, 2, 3, 1, 5, 0),\n",
       "  (5, 3, 1, 2, 0, 4)),\n",
       " ([0, 1, 2, 3, 4, 5],\n",
       "  (1, 0, 5, 4, 3, 2),\n",
       "  (2, 4, 3, 0, 5, 1),\n",
       "  (3, 5, 0, 2, 1, 4),\n",
       "  (4, 2, 1, 5, 0, 3),\n",
       "  (5, 3, 4, 1, 2, 0)),\n",
       " ([0, 1, 2, 3, 4, 5],\n",
       "  (1, 0, 5, 4, 3, 2),\n",
       "  (2, 5, 3, 0, 1, 4),\n",
       "  (3, 4, 0, 2, 5, 1),\n",
       "  (4, 3, 1, 5, 2, 0),\n",
       "  (5, 2, 4, 1, 0, 3)),\n",
       " ([0, 1, 2, 3, 4, 5],\n",
       "  (1, 0, 5, 4, 3, 2),\n",
       "  (2, 5, 3, 1, 0, 4),\n",
       "  (3, 4, 1, 5, 2, 0),\n",
       "  (4, 3, 0, 2, 5, 1),\n",
       "  (5, 2, 4, 0, 1, 3)),\n",
       " ([0, 1, 2, 3, 4, 5],\n",
       "  (1, 0, 5, 4, 3, 2),\n",
       "  (2, 5, 4, 0, 1, 3),\n",
       "  (3, 4, 0, 5, 2, 1),\n",
       "  (4, 3, 1, 2, 5, 0),\n",
       "  (5, 2, 3, 1, 0, 4)),\n",
       " ([0, 1, 2, 3, 4, 5],\n",
       "  (1, 0, 5, 4, 3, 2),\n",
       "  (2, 5, 4, 1, 0, 3),\n",
       "  (3, 4, 1, 2, 5, 0),\n",
       "  (4, 3, 0, 5, 2, 1),\n",
       "  (5, 2, 3, 0, 1, 4)),\n",
       " ([0, 1, 2, 3, 4, 5],\n",
       "  (1, 2, 0, 4, 5, 3),\n",
       "  (2, 0, 1, 5, 3, 4),\n",
       "  (3, 4, 5, 0, 1, 2),\n",
       "  (4, 5, 3, 1, 2, 0),\n",
       "  (5, 3, 4, 2, 0, 1)),\n",
       " ([0, 1, 2, 3, 4, 5],\n",
       "  (1, 2, 0, 4, 5, 3),\n",
       "  (2, 0, 1, 5, 3, 4),\n",
       "  (3, 4, 5, 1, 2, 0),\n",
       "  (4, 5, 3, 2, 0, 1),\n",
       "  (5, 3, 4, 0, 1, 2)),\n",
       " ([0, 1, 2, 3, 4, 5],\n",
       "  (1, 2, 0, 4, 5, 3),\n",
       "  (2, 0, 1, 5, 3, 4),\n",
       "  (3, 4, 5, 2, 0, 1),\n",
       "  (4, 5, 3, 0, 1, 2),\n",
       "  (5, 3, 4, 1, 2, 0)),\n",
       " ([0, 1, 2, 3, 4, 5],\n",
       "  (1, 2, 0, 4, 5, 3),\n",
       "  (2, 0, 1, 5, 3, 4),\n",
       "  (3, 5, 4, 0, 2, 1),\n",
       "  (4, 3, 5, 1, 0, 2),\n",
       "  (5, 4, 3, 2, 1, 0)),\n",
       " ([0, 1, 2, 3, 4, 5],\n",
       "  (1, 2, 0, 5, 3, 4),\n",
       "  (2, 0, 1, 4, 5, 3),\n",
       "  (3, 4, 5, 0, 1, 2),\n",
       "  (4, 5, 3, 2, 0, 1),\n",
       "  (5, 3, 4, 1, 2, 0)),\n",
       " ([0, 1, 2, 3, 4, 5],\n",
       "  (1, 2, 0, 5, 3, 4),\n",
       "  (2, 0, 1, 4, 5, 3),\n",
       "  (3, 5, 4, 0, 2, 1),\n",
       "  (4, 3, 5, 2, 1, 0),\n",
       "  (5, 4, 3, 1, 0, 2)),\n",
       " ([0, 1, 2, 3, 4, 5],\n",
       "  (1, 2, 0, 5, 3, 4),\n",
       "  (2, 0, 1, 4, 5, 3),\n",
       "  (3, 5, 4, 1, 0, 2),\n",
       "  (4, 3, 5, 0, 2, 1),\n",
       "  (5, 4, 3, 2, 1, 0)),\n",
       " ([0, 1, 2, 3, 4, 5],\n",
       "  (1, 2, 0, 5, 3, 4),\n",
       "  (2, 0, 1, 4, 5, 3),\n",
       "  (3, 5, 4, 2, 1, 0),\n",
       "  (4, 3, 5, 1, 0, 2),\n",
       "  (5, 4, 3, 0, 2, 1)),\n",
       " ([0, 1, 2, 3, 4, 5],\n",
       "  (1, 2, 3, 4, 5, 0),\n",
       "  (2, 3, 4, 5, 0, 1),\n",
       "  (3, 4, 5, 0, 1, 2),\n",
       "  (4, 5, 0, 1, 2, 3),\n",
       "  (5, 0, 1, 2, 3, 4)),\n",
       " ([0, 1, 2, 3, 4, 5],\n",
       "  (1, 2, 3, 5, 0, 4),\n",
       "  (2, 3, 5, 4, 1, 0),\n",
       "  (3, 5, 4, 0, 2, 1),\n",
       "  (4, 0, 1, 2, 5, 3),\n",
       "  (5, 4, 0, 1, 3, 2)),\n",
       " ([0, 1, 2, 3, 4, 5],\n",
       "  (1, 2, 4, 0, 5, 3),\n",
       "  (2, 4, 5, 1, 3, 0),\n",
       "  (3, 0, 1, 5, 2, 4),\n",
       "  (4, 5, 3, 2, 0, 1),\n",
       "  (5, 3, 0, 4, 1, 2)),\n",
       " ([0, 1, 2, 3, 4, 5],\n",
       "  (1, 2, 4, 5, 3, 0),\n",
       "  (2, 4, 3, 0, 5, 1),\n",
       "  (3, 5, 0, 2, 1, 4),\n",
       "  (4, 3, 5, 1, 0, 2),\n",
       "  (5, 0, 1, 4, 2, 3)),\n",
       " ([0, 1, 2, 3, 4, 5],\n",
       "  (1, 2, 5, 0, 3, 4),\n",
       "  (2, 5, 4, 1, 0, 3),\n",
       "  (3, 0, 1, 4, 5, 2),\n",
       "  (4, 3, 0, 5, 2, 1),\n",
       "  (5, 4, 3, 2, 1, 0)),\n",
       " ([0, 1, 2, 3, 4, 5],\n",
       "  (1, 2, 5, 4, 0, 3),\n",
       "  (2, 5, 3, 0, 1, 4),\n",
       "  (3, 4, 0, 2, 5, 1),\n",
       "  (4, 0, 1, 5, 3, 2),\n",
       "  (5, 3, 4, 1, 2, 0)),\n",
       " ([0, 1, 2, 3, 4, 5],\n",
       "  (1, 3, 0, 4, 5, 2),\n",
       "  (2, 0, 5, 1, 3, 4),\n",
       "  (3, 4, 1, 5, 2, 0),\n",
       "  (4, 5, 3, 2, 0, 1),\n",
       "  (5, 2, 4, 0, 1, 3)),\n",
       " ([0, 1, 2, 3, 4, 5],\n",
       "  (1, 3, 0, 5, 2, 4),\n",
       "  (2, 0, 4, 1, 5, 3),\n",
       "  (3, 5, 1, 4, 0, 2),\n",
       "  (4, 2, 5, 0, 3, 1),\n",
       "  (5, 4, 3, 2, 1, 0)),\n",
       " ([0, 1, 2, 3, 4, 5],\n",
       "  (1, 3, 4, 0, 5, 2),\n",
       "  (2, 4, 0, 5, 1, 3),\n",
       "  (3, 0, 5, 1, 2, 4),\n",
       "  (4, 5, 1, 2, 3, 0),\n",
       "  (5, 2, 3, 4, 0, 1)),\n",
       " ([0, 1, 2, 3, 4, 5],\n",
       "  (1, 3, 4, 0, 5, 2),\n",
       "  (2, 4, 1, 5, 3, 0),\n",
       "  (3, 0, 5, 1, 2, 4),\n",
       "  (4, 5, 3, 2, 0, 1),\n",
       "  (5, 2, 0, 4, 1, 3)),\n",
       " ([0, 1, 2, 3, 4, 5],\n",
       "  (1, 3, 4, 0, 5, 2),\n",
       "  (2, 4, 3, 5, 0, 1),\n",
       "  (3, 0, 5, 1, 2, 4),\n",
       "  (4, 5, 0, 2, 1, 3),\n",
       "  (5, 2, 1, 4, 3, 0)),\n",
       " ([0, 1, 2, 3, 4, 5],\n",
       "  (1, 3, 4, 0, 5, 2),\n",
       "  (2, 5, 0, 4, 3, 1),\n",
       "  (3, 0, 5, 1, 2, 4),\n",
       "  (4, 2, 1, 5, 0, 3),\n",
       "  (5, 4, 3, 2, 1, 0)),\n",
       " ([0, 1, 2, 3, 4, 5],\n",
       "  (1, 3, 4, 2, 5, 0),\n",
       "  (2, 4, 0, 5, 1, 3),\n",
       "  (3, 2, 5, 4, 0, 1),\n",
       "  (4, 5, 1, 0, 3, 2),\n",
       "  (5, 0, 3, 1, 2, 4)),\n",
       " ([0, 1, 2, 3, 4, 5],\n",
       "  (1, 3, 4, 5, 0, 2),\n",
       "  (2, 4, 3, 0, 5, 1),\n",
       "  (3, 5, 0, 2, 1, 4),\n",
       "  (4, 0, 5, 1, 2, 3),\n",
       "  (5, 2, 1, 4, 3, 0)),\n",
       " ([0, 1, 2, 3, 4, 5],\n",
       "  (1, 3, 5, 0, 2, 4),\n",
       "  (2, 4, 0, 5, 1, 3),\n",
       "  (3, 0, 4, 1, 5, 2),\n",
       "  (4, 5, 3, 2, 0, 1),\n",
       "  (5, 2, 1, 4, 3, 0)),\n",
       " ([0, 1, 2, 3, 4, 5],\n",
       "  (1, 3, 5, 0, 2, 4),\n",
       "  (2, 5, 0, 4, 3, 1),\n",
       "  (3, 0, 4, 1, 5, 2),\n",
       "  (4, 2, 3, 5, 1, 0),\n",
       "  (5, 4, 1, 2, 0, 3)),\n",
       " ([0, 1, 2, 3, 4, 5],\n",
       "  (1, 3, 5, 0, 2, 4),\n",
       "  (2, 5, 1, 4, 0, 3),\n",
       "  (3, 0, 4, 1, 5, 2),\n",
       "  (4, 2, 0, 5, 3, 1),\n",
       "  (5, 4, 3, 2, 1, 0)),\n",
       " ([0, 1, 2, 3, 4, 5],\n",
       "  (1, 3, 5, 0, 2, 4),\n",
       "  (2, 5, 3, 4, 1, 0),\n",
       "  (3, 0, 4, 1, 5, 2),\n",
       "  (4, 2, 1, 5, 0, 3),\n",
       "  (5, 4, 0, 2, 3, 1)),\n",
       " ([0, 1, 2, 3, 4, 5],\n",
       "  (1, 3, 5, 2, 0, 4),\n",
       "  (2, 5, 0, 4, 3, 1),\n",
       "  (3, 2, 4, 5, 1, 0),\n",
       "  (4, 0, 3, 1, 5, 2),\n",
       "  (5, 4, 1, 0, 2, 3)),\n",
       " ([0, 1, 2, 3, 4, 5],\n",
       "  (1, 3, 5, 4, 2, 0),\n",
       "  (2, 5, 3, 0, 1, 4),\n",
       "  (3, 4, 0, 2, 5, 1),\n",
       "  (4, 2, 1, 5, 0, 3),\n",
       "  (5, 0, 4, 1, 3, 2)),\n",
       " ([0, 1, 2, 3, 4, 5],\n",
       "  (1, 4, 0, 2, 5, 3),\n",
       "  (2, 0, 3, 5, 1, 4),\n",
       "  (3, 2, 5, 4, 0, 1),\n",
       "  (4, 5, 1, 0, 3, 2),\n",
       "  (5, 3, 4, 1, 2, 0)),\n",
       " ([0, 1, 2, 3, 4, 5],\n",
       "  (1, 4, 0, 5, 3, 2),\n",
       "  (2, 0, 5, 4, 1, 3),\n",
       "  (3, 5, 4, 0, 2, 1),\n",
       "  (4, 3, 1, 2, 5, 0),\n",
       "  (5, 2, 3, 1, 0, 4)),\n",
       " ([0, 1, 2, 3, 4, 5],\n",
       "  (1, 4, 3, 0, 5, 2),\n",
       "  (2, 3, 4, 5, 0, 1),\n",
       "  (3, 0, 5, 2, 1, 4),\n",
       "  (4, 5, 0, 1, 2, 3),\n",
       "  (5, 2, 1, 4, 3, 0)),\n",
       " ([0, 1, 2, 3, 4, 5],\n",
       "  (1, 4, 3, 5, 0, 2),\n",
       "  (2, 3, 0, 1, 5, 4),\n",
       "  (3, 5, 1, 4, 2, 0),\n",
       "  (4, 0, 5, 2, 1, 3),\n",
       "  (5, 2, 4, 0, 3, 1)),\n",
       " ([0, 1, 2, 3, 4, 5],\n",
       "  (1, 4, 3, 5, 0, 2),\n",
       "  (2, 3, 1, 4, 5, 0),\n",
       "  (3, 5, 4, 0, 2, 1),\n",
       "  (4, 0, 5, 2, 1, 3),\n",
       "  (5, 2, 0, 1, 3, 4)),\n",
       " ([0, 1, 2, 3, 4, 5],\n",
       "  (1, 4, 3, 5, 0, 2),\n",
       "  (2, 3, 4, 0, 5, 1),\n",
       "  (3, 5, 0, 1, 2, 4),\n",
       "  (4, 0, 5, 2, 1, 3),\n",
       "  (5, 2, 1, 4, 3, 0)),\n",
       " ([0, 1, 2, 3, 4, 5],\n",
       "  (1, 4, 3, 5, 0, 2),\n",
       "  (2, 5, 0, 4, 3, 1),\n",
       "  (3, 2, 1, 0, 5, 4),\n",
       "  (4, 0, 5, 2, 1, 3),\n",
       "  (5, 3, 4, 1, 2, 0)),\n",
       " ([0, 1, 2, 3, 4, 5],\n",
       "  (1, 4, 3, 5, 2, 0),\n",
       "  (2, 3, 0, 1, 5, 4),\n",
       "  (3, 5, 1, 4, 0, 2),\n",
       "  (4, 2, 5, 0, 3, 1),\n",
       "  (5, 0, 4, 2, 1, 3)),\n",
       " ([0, 1, 2, 3, 4, 5],\n",
       "  (1, 4, 5, 0, 2, 3),\n",
       "  (2, 5, 0, 4, 3, 1),\n",
       "  (3, 0, 4, 5, 1, 2),\n",
       "  (4, 2, 3, 1, 5, 0),\n",
       "  (5, 3, 1, 2, 0, 4)),\n",
       " ([0, 1, 2, 3, 4, 5],\n",
       "  (1, 4, 5, 2, 0, 3),\n",
       "  (2, 3, 0, 1, 5, 4),\n",
       "  (3, 5, 4, 0, 2, 1),\n",
       "  (4, 0, 3, 5, 1, 2),\n",
       "  (5, 2, 1, 4, 3, 0)),\n",
       " ([0, 1, 2, 3, 4, 5],\n",
       "  (1, 4, 5, 2, 0, 3),\n",
       "  (2, 5, 0, 4, 3, 1),\n",
       "  (3, 2, 4, 1, 5, 0),\n",
       "  (4, 0, 3, 5, 1, 2),\n",
       "  (5, 3, 1, 0, 2, 4)),\n",
       " ([0, 1, 2, 3, 4, 5],\n",
       "  (1, 4, 5, 2, 0, 3),\n",
       "  (2, 5, 1, 0, 3, 4),\n",
       "  (3, 2, 0, 4, 5, 1),\n",
       "  (4, 0, 3, 5, 1, 2),\n",
       "  (5, 3, 4, 1, 2, 0)),\n",
       " ([0, 1, 2, 3, 4, 5],\n",
       "  (1, 4, 5, 2, 0, 3),\n",
       "  (2, 5, 4, 1, 3, 0),\n",
       "  (3, 2, 1, 0, 5, 4),\n",
       "  (4, 0, 3, 5, 1, 2),\n",
       "  (5, 3, 0, 4, 2, 1)),\n",
       " ([0, 1, 2, 3, 4, 5],\n",
       "  (1, 4, 5, 2, 3, 0),\n",
       "  (2, 5, 4, 1, 0, 3),\n",
       "  (3, 2, 1, 0, 5, 4),\n",
       "  (4, 3, 0, 5, 2, 1),\n",
       "  (5, 0, 3, 4, 1, 2)),\n",
       " ([0, 1, 2, 3, 4, 5],\n",
       "  (1, 5, 0, 2, 3, 4),\n",
       "  (2, 0, 3, 4, 5, 1),\n",
       "  (3, 2, 4, 5, 1, 0),\n",
       "  (4, 3, 5, 1, 0, 2),\n",
       "  (5, 4, 1, 0, 2, 3)),\n",
       " ([0, 1, 2, 3, 4, 5],\n",
       "  (1, 5, 0, 4, 2, 3),\n",
       "  (2, 0, 4, 5, 3, 1),\n",
       "  (3, 4, 5, 0, 1, 2),\n",
       "  (4, 2, 3, 1, 5, 0),\n",
       "  (5, 3, 1, 2, 0, 4)),\n",
       " ([0, 1, 2, 3, 4, 5],\n",
       "  (1, 5, 3, 0, 2, 4),\n",
       "  (2, 3, 5, 4, 1, 0),\n",
       "  (3, 0, 4, 2, 5, 1),\n",
       "  (4, 2, 1, 5, 0, 3),\n",
       "  (5, 4, 0, 1, 3, 2)),\n",
       " ([0, 1, 2, 3, 4, 5],\n",
       "  (1, 5, 3, 4, 0, 2),\n",
       "  (2, 3, 0, 1, 5, 4),\n",
       "  (3, 4, 1, 5, 2, 0),\n",
       "  (4, 0, 5, 2, 3, 1),\n",
       "  (5, 2, 4, 0, 1, 3)),\n",
       " ([0, 1, 2, 3, 4, 5],\n",
       "  (1, 5, 3, 4, 2, 0),\n",
       "  (2, 3, 0, 1, 5, 4),\n",
       "  (3, 4, 1, 5, 0, 2),\n",
       "  (4, 2, 5, 0, 1, 3),\n",
       "  (5, 0, 4, 2, 3, 1)),\n",
       " ([0, 1, 2, 3, 4, 5],\n",
       "  (1, 5, 3, 4, 2, 0),\n",
       "  (2, 3, 1, 5, 0, 4),\n",
       "  (3, 4, 5, 0, 1, 2),\n",
       "  (4, 2, 0, 1, 5, 3),\n",
       "  (5, 0, 4, 2, 3, 1)),\n",
       " ([0, 1, 2, 3, 4, 5],\n",
       "  (1, 5, 3, 4, 2, 0),\n",
       "  (2, 3, 5, 0, 1, 4),\n",
       "  (3, 4, 0, 1, 5, 2),\n",
       "  (4, 2, 1, 5, 0, 3),\n",
       "  (5, 0, 4, 2, 3, 1)),\n",
       " ([0, 1, 2, 3, 4, 5],\n",
       "  (1, 5, 3, 4, 2, 0),\n",
       "  (2, 4, 0, 5, 1, 3),\n",
       "  (3, 2, 1, 0, 5, 4),\n",
       "  (4, 3, 5, 1, 0, 2),\n",
       "  (5, 0, 4, 2, 3, 1)),\n",
       " ([0, 1, 2, 3, 4, 5],\n",
       "  (1, 5, 4, 0, 3, 2),\n",
       "  (2, 4, 0, 5, 1, 3),\n",
       "  (3, 0, 5, 4, 2, 1),\n",
       "  (4, 3, 1, 2, 5, 0),\n",
       "  (5, 2, 3, 1, 0, 4)),\n",
       " ([0, 1, 2, 3, 4, 5],\n",
       "  (1, 5, 4, 2, 0, 3),\n",
       "  (2, 4, 5, 1, 3, 0),\n",
       "  (3, 2, 1, 0, 5, 4),\n",
       "  (4, 0, 3, 5, 2, 1),\n",
       "  (5, 3, 0, 4, 1, 2)),\n",
       " ([0, 1, 2, 3, 4, 5],\n",
       "  (1, 5, 4, 2, 3, 0),\n",
       "  (2, 3, 0, 1, 5, 4),\n",
       "  (3, 4, 5, 0, 1, 2),\n",
       "  (4, 2, 1, 5, 0, 3),\n",
       "  (5, 0, 3, 4, 2, 1)),\n",
       " ([0, 1, 2, 3, 4, 5],\n",
       "  (1, 5, 4, 2, 3, 0),\n",
       "  (2, 4, 0, 5, 1, 3),\n",
       "  (3, 2, 5, 1, 0, 4),\n",
       "  (4, 3, 1, 0, 5, 2),\n",
       "  (5, 0, 3, 4, 2, 1)),\n",
       " ([0, 1, 2, 3, 4, 5],\n",
       "  (1, 5, 4, 2, 3, 0),\n",
       "  (2, 4, 1, 0, 5, 3),\n",
       "  (3, 2, 0, 5, 1, 4),\n",
       "  (4, 3, 5, 1, 0, 2),\n",
       "  (5, 0, 3, 4, 2, 1)),\n",
       " ([0, 1, 2, 3, 4, 5],\n",
       "  (1, 5, 4, 2, 3, 0),\n",
       "  (2, 4, 5, 1, 0, 3),\n",
       "  (3, 2, 1, 0, 5, 4),\n",
       "  (4, 3, 0, 5, 1, 2),\n",
       "  (5, 0, 3, 4, 2, 1))]"
      ]
     },
     "execution_count": 133,
     "metadata": {},
     "output_type": "execute_result"
    }
   ],
   "source": [
    "tables6"
   ]
  },
  {
   "cell_type": "code",
   "execution_count": null,
   "id": "a72c41fa",
   "metadata": {},
   "outputs": [],
   "source": []
  },
  {
   "cell_type": "code",
   "execution_count": null,
   "id": "470c6fb5",
   "metadata": {},
   "outputs": [],
   "source": []
  },
  {
   "cell_type": "markdown",
   "id": "f1534529",
   "metadata": {},
   "source": [
    "## Partitioning Subgroups of a Group into Isomorphic Sets"
   ]
  },
  {
   "cell_type": "code",
   "execution_count": 47,
   "id": "2e1209a2",
   "metadata": {},
   "outputs": [
    {
     "name": "stdout",
     "output_type": "stream",
     "text": [
      "G0 G1 False\n",
      "G0 G2 False\n",
      "G0 G3 False\n",
      "G1 G2 {'a1_1': 'a2_2', 'a1_2': 'a2_1', 'a1_3': 'a2_3', 'e1': 'e2'}\n",
      "G1 G3 {'a1_1': 'a3_3', 'a1_2': 'a3_1', 'a1_3': 'a3_2', 'e1': 'e3'}\n",
      "G2 G3 {'a2_1': 'a3_1', 'a2_2': 'a3_3', 'a2_3': 'a3_2', 'e2': 'e3'}\n"
     ]
    }
   ],
   "source": [
    "for combo in combinations(groups4,2):\n",
    "    mp = combo[0].isomorphic(combo[1])\n",
    "    print(combo[0].name, combo[1].name, mp)"
   ]
  },
  {
   "cell_type": "code",
   "execution_count": null,
   "id": "d1181a8c",
   "metadata": {},
   "outputs": [],
   "source": []
  }
 ],
 "metadata": {
  "kernelspec": {
   "display_name": "Python 3",
   "language": "python",
   "name": "python3"
  },
  "language_info": {
   "codemirror_mode": {
    "name": "ipython",
    "version": 3
   },
   "file_extension": ".py",
   "mimetype": "text/x-python",
   "name": "python",
   "nbconvert_exporter": "python",
   "pygments_lexer": "ipython3",
   "version": "3.7.7"
  }
 },
 "nbformat": 4,
 "nbformat_minor": 5
}
