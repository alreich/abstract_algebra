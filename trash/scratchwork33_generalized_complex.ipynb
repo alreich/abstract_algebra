{
 "cells": [
  {
   "cell_type": "markdown",
   "id": "69e70787",
   "metadata": {},
   "source": [
    "# Generalized Complex Class"
   ]
  },
  {
   "cell_type": "code",
   "execution_count": 1,
   "id": "69f516b4",
   "metadata": {},
   "outputs": [],
   "source": [
    "from cayley_dickson_algebra import Xi"
   ]
  },
  {
   "cell_type": "code",
   "execution_count": 2,
   "id": "95485cda",
   "metadata": {},
   "outputs": [
    {
     "data": {
      "text/plain": [
       "Xi(2, 3)"
      ]
     },
     "execution_count": 2,
     "metadata": {},
     "output_type": "execute_result"
    }
   ],
   "source": [
    "x1 = Xi(2, 3)\n",
    "x1"
   ]
  },
  {
   "cell_type": "code",
   "execution_count": 3,
   "id": "d77fd9b9",
   "metadata": {},
   "outputs": [
    {
     "data": {
      "text/plain": [
       "Xi(1, -7)"
      ]
     },
     "execution_count": 3,
     "metadata": {},
     "output_type": "execute_result"
    }
   ],
   "source": [
    "x2 = Xi(1, -7)\n",
    "x2"
   ]
  },
  {
   "cell_type": "code",
   "execution_count": 4,
   "id": "5d787918",
   "metadata": {},
   "outputs": [
    {
     "data": {
      "text/plain": [
       "Xi(3, -4)"
      ]
     },
     "execution_count": 4,
     "metadata": {},
     "output_type": "execute_result"
    }
   ],
   "source": [
    "x1 + x2"
   ]
  },
  {
   "cell_type": "code",
   "execution_count": 5,
   "id": "85026ae8",
   "metadata": {},
   "outputs": [
    {
     "data": {
      "text/plain": [
       "Xi(1, 10)"
      ]
     },
     "execution_count": 5,
     "metadata": {},
     "output_type": "execute_result"
    }
   ],
   "source": [
    "x1 - x2"
   ]
  },
  {
   "cell_type": "code",
   "execution_count": 6,
   "id": "2ebe3e3e",
   "metadata": {},
   "outputs": [
    {
     "data": {
      "text/plain": [
       "Xi(23, -11)"
      ]
     },
     "execution_count": 6,
     "metadata": {},
     "output_type": "execute_result"
    }
   ],
   "source": [
    "x1 * x2"
   ]
  },
  {
   "cell_type": "code",
   "execution_count": 7,
   "id": "ca3f751f",
   "metadata": {},
   "outputs": [
    {
     "data": {
      "text/plain": [
       "Xi(2, -3)"
      ]
     },
     "execution_count": 7,
     "metadata": {},
     "output_type": "execute_result"
    }
   ],
   "source": [
    "x1conj = x1.conjugate()\n",
    "x1conj"
   ]
  },
  {
   "cell_type": "code",
   "execution_count": 8,
   "id": "43e0b862",
   "metadata": {},
   "outputs": [
    {
     "ename": "TypeError",
     "evalue": "unsupported operand type(s) for /: 'int' and 'NoneType'",
     "output_type": "error",
     "traceback": [
      "\u001b[0;31m---------------------------------------------------------------------------\u001b[0m",
      "\u001b[0;31mTypeError\u001b[0m                                 Traceback (most recent call last)",
      "Cell \u001b[0;32mIn[8], line 1\u001b[0m\n\u001b[0;32m----> 1\u001b[0m x1\u001b[38;5;241m.\u001b[39minverse()\n",
      "File \u001b[0;32m~/Documents/Python/github/myrepos/abstract_algebra/src/cayley_dickson_algebra.py:122\u001b[0m, in \u001b[0;36mXi.inverse\u001b[0;34m(self)\u001b[0m\n\u001b[1;32m    120\u001b[0m norm \u001b[38;5;241m=\u001b[39m \u001b[38;5;28mself\u001b[39m\u001b[38;5;241m.\u001b[39mnorm()\n\u001b[1;32m    121\u001b[0m conj \u001b[38;5;241m=\u001b[39m \u001b[38;5;28mself\u001b[39m\u001b[38;5;241m.\u001b[39mconjugate()\n\u001b[0;32m--> 122\u001b[0m \u001b[38;5;28;01mreturn\u001b[39;00m Xi(conj\u001b[38;5;241m.\u001b[39mreal \u001b[38;5;241m/\u001b[39m norm, conj\u001b[38;5;241m.\u001b[39mimag \u001b[38;5;241m/\u001b[39m norm)\n",
      "\u001b[0;31mTypeError\u001b[0m: unsupported operand type(s) for /: 'int' and 'NoneType'"
     ]
    }
   ],
   "source": [
    "x1.inverse()"
   ]
  },
  {
   "cell_type": "code",
   "execution_count": null,
   "id": "bc92263a",
   "metadata": {},
   "outputs": [],
   "source": []
  }
 ],
 "metadata": {
  "kernelspec": {
   "display_name": "Python 3 (ipykernel)",
   "language": "python",
   "name": "python3"
  },
  "language_info": {
   "codemirror_mode": {
    "name": "ipython",
    "version": 3
   },
   "file_extension": ".py",
   "mimetype": "text/x-python",
   "name": "python",
   "nbconvert_exporter": "python",
   "pygments_lexer": "ipython3",
   "version": "3.11.5"
  }
 },
 "nbformat": 4,
 "nbformat_minor": 5
}
