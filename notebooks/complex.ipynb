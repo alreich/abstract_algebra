{
 "cells": [
  {
   "cell_type": "markdown",
   "id": "6ef26608",
   "metadata": {},
   "source": [
    "# Abstract Complex \"Numbers\""
   ]
  },
  {
   "cell_type": "markdown",
   "id": "e96d087c",
   "metadata": {},
   "source": [
    "EXPERIMENTAL: This notebook describes how an arbitrary field can be used to define <i>Abstract Complex \"Numbers\"</i>, and also demonstrates it using finite fields."
   ]
  },
  {
   "cell_type": "markdown",
   "id": "fad4853b",
   "metadata": {},
   "source": [
    "## Discussion"
   ]
  },
  {
   "cell_type": "markdown",
   "id": "befceb5f",
   "metadata": {},
   "source": [
    "If $u, v \\in \\mathbb{R}$, are real numbers, then we often see complex numbers written as, $u + vi$.\n",
    "\n",
    "However, complex numbers can simply be written as tuples, $(u, v) \\in \\mathbb{C}$, without resorting to the use of the symbol, $i$.\n",
    "\n",
    "Since $\\mathbb{R}$ is a field, this suggests that we might replace it with an arbitrary field, $\\mathbb{F}$ and use elements from it to create an abstraction of complex numbers.\n",
    "\n",
    "That is, let $a, b, c, d \\in \\mathbb{F}$, and define $(a, b), (c, d) \\in \\mathbb{C_{\\mathbb{F}}}$ to be <i>\"Abstract Complex Numbers\"</i>.\n",
    "\n",
    "We can then adapt the usual definitions of addition, multiplication, etc. for complex numbers for elements of $\\mathbb{C_{\\mathbb{F}}}$, as shown below:\n",
    "\n",
    "<b>Addition</b>: $(a, b) + (c, d) = (a + c, b + d)$\n",
    "\n",
    "<b>Subtraction</b>: $(a, b) - (c, d) = (a - c, b - d)$\n",
    "\n",
    "<b>Multiplication</b>: $(a, b) \\times (c, d) = (ac - bd, ad + bc)$\n",
    "\n",
    "<b>Scalar Multiplication</b>: $a \\times (c, d) = (ac, ad)$\n",
    "\n",
    "<b>Conjugation</b>: $\\overline{(a, b)} = (a, -b)$\n",
    "\n",
    "<b>Squared Absolute Value</b>: $|(a, b)|^2 = (a, b) \\times \\overline{(a, b)}$\n",
    "\n",
    "<b>Inverses</b>: ${(a, b)}^{-1} = \\large \\frac{\\overline{(a,b)}}{|(a, b)|^2}$"
   ]
  },
  {
   "cell_type": "markdown",
   "id": "6dae2557",
   "metadata": {},
   "source": [
    "### Spoiler Alert"
   ]
  },
  {
   "cell_type": "markdown",
   "id": "6e25a13c",
   "metadata": {},
   "source": [
    "<b>Even though $\\mathbb{R}$ can be replaced by $\\mathbb{F}$, and the arithmetic operations, described above, can be performed; for the <u>finite</u> algebras tested here, the resulting algebras of abstract complex \"numbers\" are Rings, not Fields.</b>"
   ]
  },
  {
   "cell_type": "markdown",
   "id": "0ecfd658",
   "metadata": {},
   "source": [
    "## References"
   ]
  },
  {
   "cell_type": "markdown",
   "id": "d7b1bda9",
   "metadata": {},
   "source": [
    "I'm still looking for relevant references, but for now, this section serves as a place for references that might. be related to this topic:\n",
    "\n",
    "* <i>\"Algebra over a field\"</i>, [Wikipedia](https://en.wikipedia.org/wiki/Algebra_over_a_field)\n",
    "\n",
    "* <i>\"Definitions of a Linear Associative Algebra by Independent Postulates\"</i> by Leonard Eugene Dickson, Transactions of the American Mathematical Society, 1903. [(PDF online)](https://www.ams.org/journals/tran/1903-004-01/S0002-9947-1903-1500620-0/S0002-9947-1903-1500620-0.pdf)\n"
   ]
  },
  {
   "cell_type": "markdown",
   "id": "cfc8369d",
   "metadata": {},
   "source": [
    "## Algebras for Examples & Tests"
   ]
  },
  {
   "cell_type": "code",
   "execution_count": 8,
   "id": "8204211b",
   "metadata": {},
   "outputs": [],
   "source": [
    "import finite_algebras as alg\n",
    "from abstract_complex_number import AbstractComplexNumber"
   ]
  },
  {
   "cell_type": "code",
   "execution_count": 9,
   "id": "64b156fa",
   "metadata": {},
   "outputs": [
    {
     "name": "stdout",
     "output_type": "stream",
     "text": [
      "\n",
      "** Field **\n",
      "Name: F2\n",
      "Instance ID: 4446252240\n",
      "Description: Field with 2 elements from paper: 236w06fields.pdf\n",
      "Order: 2\n",
      "Identity: '0'\n",
      "Commutative? Yes\n",
      "Cyclic?: Yes\n",
      "  Generators: ['1']\n",
      "Elements:\n",
      "   Index   Name   Inverse  Order\n",
      "      0     '0'     '0'       1\n",
      "      1     '1'     '1'       2\n",
      "Cayley Table (showing indices):\n",
      "[[0, 1], [1, 0]]\n",
      "Mult. Identity: '1'\n",
      "Mult. Commutative? Yes\n",
      "Zero Divisors: None\n",
      "Multiplicative Cayley Table (showing indices):\n",
      "[[0, 0], [0, 1]]\n"
     ]
    }
   ],
   "source": [
    "f2 = alg.make_finite_algebra('F2',\n",
    "                             'Field with 2 elements from paper: 236w06fields.pdf',\n",
    "                             ['0', '1'],\n",
    "                             [[0, 1],\n",
    "                              [1, 0]],\n",
    "                             [[0, 0],\n",
    "                              [0, 1]]\n",
    "                            )\n",
    "f2.about()"
   ]
  },
  {
   "cell_type": "code",
   "execution_count": 10,
   "id": "7c002bd9",
   "metadata": {},
   "outputs": [
    {
     "name": "stdout",
     "output_type": "stream",
     "text": [
      "\n",
      "** Field **\n",
      "Name: F4\n",
      "Instance ID: 4446252304\n",
      "Description: Field with 4 elements (from Wikipedia)\n",
      "Order: 4\n",
      "Identity: '0'\n",
      "Commutative? Yes\n",
      "Cyclic?: Yes\n",
      "  Generators: ['1+a', 'a']\n",
      "Elements:\n",
      "   Index   Name   Inverse  Order\n",
      "      0     '0'     '0'       1\n",
      "      1     '1'     '1'       2\n",
      "      2     'a'     'a'       2\n",
      "      3   '1+a'   '1+a'       2\n",
      "Cayley Table (showing indices):\n",
      "[[0, 1, 2, 3], [1, 0, 3, 2], [2, 3, 0, 1], [3, 2, 1, 0]]\n",
      "Mult. Identity: '1'\n",
      "Mult. Commutative? Yes\n",
      "Zero Divisors: None\n",
      "Multiplicative Cayley Table (showing indices):\n",
      "[[0, 0, 0, 0], [0, 1, 2, 3], [0, 2, 3, 1], [0, 3, 1, 2]]\n"
     ]
    }
   ],
   "source": [
    "f4 = alg.make_finite_algebra('F4',\n",
    "                             'Field with 4 elements (from Wikipedia)',\n",
    "                             ['0', '1', 'a', '1+a'],\n",
    "                             [[0, 1, 2, 3],\n",
    "                              [1, 0, 3, 2],\n",
    "                              [2, 3, 0, 1],\n",
    "                              [3, 2, 1, 0]\n",
    "                             ],\n",
    "                             [[0, 0, 0, 0],\n",
    "                              [0, 1, 2, 3],\n",
    "                              [0, 2, 3, 1],\n",
    "                              [0, 3, 1, 2]\n",
    "                             ]\n",
    "                            )                     \n",
    "f4.about()"
   ]
  },
  {
   "cell_type": "code",
   "execution_count": 11,
   "id": "fa29bd3f",
   "metadata": {},
   "outputs": [
    {
     "name": "stdout",
     "output_type": "stream",
     "text": [
      "\n",
      "** Field **\n",
      "Name: F7\n",
      "Instance ID: 4446308048\n",
      "Description: Autogenerated Field of integers mod 7\n",
      "Order: 7\n",
      "Identity: 'a0'\n",
      "Commutative? Yes\n",
      "Cyclic?: Yes\n",
      "  Generators: ['a1', 'a2', 'a3', 'a4', 'a5', 'a6']\n",
      "Elements:\n",
      "   Index   Name   Inverse  Order\n",
      "      0    'a0'    'a0'       1\n",
      "      1    'a1'    'a6'       7\n",
      "      2    'a2'    'a5'       7\n",
      "      3    'a3'    'a4'       7\n",
      "      4    'a4'    'a3'       7\n",
      "      5    'a5'    'a2'       7\n",
      "      6    'a6'    'a1'       7\n",
      "Cayley Table (showing indices):\n",
      "[[0, 1, 2, 3, 4, 5, 6],\n",
      " [1, 2, 3, 4, 5, 6, 0],\n",
      " [2, 3, 4, 5, 6, 0, 1],\n",
      " [3, 4, 5, 6, 0, 1, 2],\n",
      " [4, 5, 6, 0, 1, 2, 3],\n",
      " [5, 6, 0, 1, 2, 3, 4],\n",
      " [6, 0, 1, 2, 3, 4, 5]]\n",
      "Mult. Identity: 'a1'\n",
      "Mult. Commutative? Yes\n",
      "Zero Divisors: None\n",
      "Multiplicative Cayley Table (showing indices):\n",
      "[[0, 0, 0, 0, 0, 0, 0],\n",
      " [0, 1, 2, 3, 4, 5, 6],\n",
      " [0, 2, 4, 6, 1, 3, 5],\n",
      " [0, 3, 6, 2, 5, 1, 4],\n",
      " [0, 4, 1, 5, 2, 6, 3],\n",
      " [0, 5, 3, 1, 6, 4, 2],\n",
      " [0, 6, 5, 4, 3, 2, 1]]\n"
     ]
    }
   ],
   "source": [
    "f7 = alg.generate_algebra_mod_n(7)\n",
    "f7.about()"
   ]
  },
  {
   "cell_type": "markdown",
   "id": "e0684e3a",
   "metadata": {},
   "source": [
    "## Abstract Complex \"Number\" Examples"
   ]
  },
  {
   "cell_type": "code",
   "execution_count": 12,
   "id": "bc59da50",
   "metadata": {},
   "outputs": [
    {
     "data": {
      "text/plain": [
       "['a0', 'a1', 'a2', 'a3', 'a4', 'a5', 'a6']"
      ]
     },
     "execution_count": 12,
     "metadata": {},
     "output_type": "execute_result"
    }
   ],
   "source": [
    "f7.elements"
   ]
  },
  {
   "cell_type": "code",
   "execution_count": 13,
   "id": "dc245a37",
   "metadata": {},
   "outputs": [],
   "source": [
    "a0 = 'a0'\n",
    "a1 = 'a1'\n",
    "a2 = 'a2'\n",
    "a3 = 'a3'\n",
    "a4 = 'a4'\n",
    "a5 = 'a5'\n",
    "a6 = 'a6'"
   ]
  },
  {
   "cell_type": "code",
   "execution_count": 14,
   "id": "3ee3f91a",
   "metadata": {},
   "outputs": [
    {
     "data": {
      "text/plain": [
       "('a3', 'a5')"
      ]
     },
     "execution_count": 14,
     "metadata": {},
     "output_type": "execute_result"
    }
   ],
   "source": [
    "x1 = AbstractComplexNumber('a3', 'a5', f7)\n",
    "x1"
   ]
  },
  {
   "cell_type": "code",
   "execution_count": 15,
   "id": "e200d880",
   "metadata": {},
   "outputs": [
    {
     "data": {
      "text/plain": [
       "('a2', 'a4')"
      ]
     },
     "execution_count": 15,
     "metadata": {},
     "output_type": "execute_result"
    }
   ],
   "source": [
    "x2 = AbstractComplexNumber('a2', 'a4', f7)\n",
    "x2"
   ]
  },
  {
   "cell_type": "markdown",
   "id": "e9080644",
   "metadata": {},
   "source": [
    "<b>Addition</b>: $(a, b) + (c, d) = (a + c, b + d)$"
   ]
  },
  {
   "cell_type": "code",
   "execution_count": 18,
   "id": "a9c6c225",
   "metadata": {},
   "outputs": [
    {
     "data": {
      "text/plain": [
       "('a5', 'a2')"
      ]
     },
     "execution_count": 18,
     "metadata": {},
     "output_type": "execute_result"
    }
   ],
   "source": [
    "x1 + x2"
   ]
  },
  {
   "cell_type": "markdown",
   "id": "10313922",
   "metadata": {},
   "source": [
    "Check:"
   ]
  },
  {
   "cell_type": "code",
   "execution_count": 16,
   "id": "89fa18b5",
   "metadata": {},
   "outputs": [
    {
     "data": {
      "text/plain": [
       "'a5'"
      ]
     },
     "execution_count": 16,
     "metadata": {},
     "output_type": "execute_result"
    }
   ],
   "source": [
    "f7.add(a3, a2)"
   ]
  },
  {
   "cell_type": "code",
   "execution_count": 17,
   "id": "611bd76e",
   "metadata": {},
   "outputs": [
    {
     "data": {
      "text/plain": [
       "'a2'"
      ]
     },
     "execution_count": 17,
     "metadata": {},
     "output_type": "execute_result"
    }
   ],
   "source": [
    "f7.add(a5, a4)"
   ]
  },
  {
   "cell_type": "markdown",
   "id": "37586038",
   "metadata": {},
   "source": [
    "<b>Subtraction</b>: $(a, b) - (c, d) = (a - c, b - d)$"
   ]
  },
  {
   "cell_type": "code",
   "execution_count": 21,
   "id": "407caf70",
   "metadata": {},
   "outputs": [
    {
     "data": {
      "text/plain": [
       "('a1', 'a1')"
      ]
     },
     "execution_count": 21,
     "metadata": {},
     "output_type": "execute_result"
    }
   ],
   "source": [
    "x1 - x2"
   ]
  },
  {
   "cell_type": "markdown",
   "id": "2baef818",
   "metadata": {},
   "source": [
    "Check:"
   ]
  },
  {
   "cell_type": "code",
   "execution_count": 19,
   "id": "708c137f",
   "metadata": {},
   "outputs": [
    {
     "data": {
      "text/plain": [
       "'a1'"
      ]
     },
     "execution_count": 19,
     "metadata": {},
     "output_type": "execute_result"
    }
   ],
   "source": [
    "f7.sub(a3, a2)"
   ]
  },
  {
   "cell_type": "code",
   "execution_count": 20,
   "id": "9abda1e1",
   "metadata": {},
   "outputs": [
    {
     "data": {
      "text/plain": [
       "'a1'"
      ]
     },
     "execution_count": 20,
     "metadata": {},
     "output_type": "execute_result"
    }
   ],
   "source": [
    "f7.sub(a5, a4)"
   ]
  },
  {
   "cell_type": "markdown",
   "id": "fb1a1e64",
   "metadata": {},
   "source": [
    "<b>Multiplication</b>: $(a, b) \\times (c, d) = (ac - bd, ad + bc)$"
   ]
  },
  {
   "cell_type": "code",
   "execution_count": 24,
   "id": "90ecdd5a",
   "metadata": {},
   "outputs": [
    {
     "data": {
      "text/plain": [
       "('a0', 'a1')"
      ]
     },
     "execution_count": 24,
     "metadata": {},
     "output_type": "execute_result"
    }
   ],
   "source": [
    "x1 * x2"
   ]
  },
  {
   "cell_type": "markdown",
   "id": "4d534bea",
   "metadata": {},
   "source": [
    "Check:"
   ]
  },
  {
   "cell_type": "code",
   "execution_count": 71,
   "id": "757288b5",
   "metadata": {},
   "outputs": [
    {
     "name": "stdout",
     "output_type": "stream",
     "text": [
      "x1 * x2 = ('a3', 'a5') * ('a2', 'a4') = ('a0', 'a1')\n"
     ]
    }
   ],
   "source": [
    "print(f\"x1 * x2 = {x1} * {x2} = {x1 * x2}\")"
   ]
  },
  {
   "cell_type": "code",
   "execution_count": 22,
   "id": "06e8e784",
   "metadata": {},
   "outputs": [
    {
     "data": {
      "text/plain": [
       "'a0'"
      ]
     },
     "execution_count": 22,
     "metadata": {},
     "output_type": "execute_result"
    }
   ],
   "source": [
    "f7.sub(f7.mult(a3, a2), f7.mult(a5, a4))"
   ]
  },
  {
   "cell_type": "code",
   "execution_count": 23,
   "id": "ebb90b3e",
   "metadata": {},
   "outputs": [
    {
     "data": {
      "text/plain": [
       "'a1'"
      ]
     },
     "execution_count": 23,
     "metadata": {},
     "output_type": "execute_result"
    }
   ],
   "source": [
    "f7.add(f7.mult(a3, a4), f7.mult(a2, a5))"
   ]
  },
  {
   "cell_type": "markdown",
   "id": "54d90683",
   "metadata": {},
   "source": [
    "**Example: Negation**"
   ]
  },
  {
   "cell_type": "code",
   "execution_count": 27,
   "id": "27500074",
   "metadata": {},
   "outputs": [
    {
     "name": "stdout",
     "output_type": "stream",
     "text": [
      "('a3', 'a5')\n",
      "('a4', 'a2')\n"
     ]
    }
   ],
   "source": [
    "print(x1)\n",
    "print(-x1)"
   ]
  },
  {
   "cell_type": "markdown",
   "id": "2feb98c0",
   "metadata": {},
   "source": [
    "Check:"
   ]
  },
  {
   "cell_type": "code",
   "execution_count": 25,
   "id": "490bd256",
   "metadata": {},
   "outputs": [
    {
     "data": {
      "text/plain": [
       "'a4'"
      ]
     },
     "execution_count": 25,
     "metadata": {},
     "output_type": "execute_result"
    }
   ],
   "source": [
    "f7.inv(a3)"
   ]
  },
  {
   "cell_type": "code",
   "execution_count": 26,
   "id": "ad99aad3",
   "metadata": {},
   "outputs": [
    {
     "data": {
      "text/plain": [
       "'a2'"
      ]
     },
     "execution_count": 26,
     "metadata": {},
     "output_type": "execute_result"
    }
   ],
   "source": [
    "f7.inv(a5)"
   ]
  },
  {
   "cell_type": "markdown",
   "id": "050bfddb",
   "metadata": {},
   "source": [
    "<b>Conjugation</b>: $\\overline{(a, b)} = (a, -b)$"
   ]
  },
  {
   "cell_type": "code",
   "execution_count": 28,
   "id": "fd60ad7c",
   "metadata": {},
   "outputs": [
    {
     "data": {
      "text/plain": [
       "('a3', 'a2')"
      ]
     },
     "execution_count": 28,
     "metadata": {},
     "output_type": "execute_result"
    }
   ],
   "source": [
    "x1.conj()"
   ]
  },
  {
   "cell_type": "markdown",
   "id": "4876cbce",
   "metadata": {},
   "source": [
    "Check:"
   ]
  },
  {
   "cell_type": "code",
   "execution_count": 70,
   "id": "d19feff2",
   "metadata": {},
   "outputs": [
    {
     "name": "stdout",
     "output_type": "stream",
     "text": [
      "('a3', 'a5')\n",
      "a2\n"
     ]
    }
   ],
   "source": [
    "print(x1)\n",
    "print(f7.inv(a5))"
   ]
  },
  {
   "cell_type": "markdown",
   "id": "b288b23d",
   "metadata": {},
   "source": [
    "<b>Squared Absolute Value</b>: $|(a, b)|^2 = (a, b) \\times \\overline{(a, b)}$"
   ]
  },
  {
   "cell_type": "code",
   "execution_count": 30,
   "id": "844a47d3",
   "metadata": {},
   "outputs": [
    {
     "data": {
      "text/plain": [
       "'a6'"
      ]
     },
     "execution_count": 30,
     "metadata": {},
     "output_type": "execute_result"
    }
   ],
   "source": [
    "x1.sqr_abs_val()"
   ]
  },
  {
   "cell_type": "markdown",
   "id": "43d4cee9",
   "metadata": {},
   "source": [
    "Check:"
   ]
  },
  {
   "cell_type": "code",
   "execution_count": 62,
   "id": "c488afa8",
   "metadata": {},
   "outputs": [
    {
     "data": {
      "text/plain": [
       "('a3', 'a5')"
      ]
     },
     "execution_count": 62,
     "metadata": {},
     "output_type": "execute_result"
    }
   ],
   "source": [
    "x1"
   ]
  },
  {
   "cell_type": "code",
   "execution_count": 63,
   "id": "f313f47b",
   "metadata": {},
   "outputs": [
    {
     "data": {
      "text/plain": [
       "'a6'"
      ]
     },
     "execution_count": 63,
     "metadata": {},
     "output_type": "execute_result"
    }
   ],
   "source": [
    "f7.add(f7.mult(a3, a3), f7.mult(a5, a5))"
   ]
  },
  {
   "cell_type": "markdown",
   "id": "caf07df2",
   "metadata": {},
   "source": [
    "<b>Scalar Multiplication</b>: $a \\times (c, d) = (ac, ad)$"
   ]
  },
  {
   "cell_type": "code",
   "execution_count": 34,
   "id": "9077ffe5",
   "metadata": {},
   "outputs": [
    {
     "data": {
      "text/plain": [
       "('a6', 'a3')"
      ]
     },
     "execution_count": 34,
     "metadata": {},
     "output_type": "execute_result"
    }
   ],
   "source": [
    "x1.scalar_mult(a2)"
   ]
  },
  {
   "cell_type": "markdown",
   "id": "ad3891c5",
   "metadata": {},
   "source": [
    "Check:"
   ]
  },
  {
   "cell_type": "code",
   "execution_count": 31,
   "id": "2c74d1c4",
   "metadata": {},
   "outputs": [
    {
     "name": "stdout",
     "output_type": "stream",
     "text": [
      "a2\n",
      "('a3', 'a5')\n"
     ]
    }
   ],
   "source": [
    "print(a2)\n",
    "print(x1)"
   ]
  },
  {
   "cell_type": "code",
   "execution_count": 32,
   "id": "661f2d41",
   "metadata": {},
   "outputs": [
    {
     "data": {
      "text/plain": [
       "'a6'"
      ]
     },
     "execution_count": 32,
     "metadata": {},
     "output_type": "execute_result"
    }
   ],
   "source": [
    "f7.mult(a2, a3)"
   ]
  },
  {
   "cell_type": "code",
   "execution_count": 33,
   "id": "29ee72fc",
   "metadata": {},
   "outputs": [
    {
     "data": {
      "text/plain": [
       "'a3'"
      ]
     },
     "execution_count": 33,
     "metadata": {},
     "output_type": "execute_result"
    }
   ],
   "source": [
    "f7.mult(a2, a5)"
   ]
  },
  {
   "cell_type": "markdown",
   "id": "d4b35c93",
   "metadata": {},
   "source": [
    "**Inverses:** ${(a, b)}^{-1} = \\large \\frac{\\overline{(a,b)}}{|(a, b)|^2}$"
   ]
  },
  {
   "cell_type": "code",
   "execution_count": 36,
   "id": "31590842",
   "metadata": {},
   "outputs": [
    {
     "data": {
      "text/plain": [
       "('a4', 'a5')"
      ]
     },
     "execution_count": 36,
     "metadata": {},
     "output_type": "execute_result"
    }
   ],
   "source": [
    "x1.inv()"
   ]
  },
  {
   "cell_type": "markdown",
   "id": "c4fca673",
   "metadata": {},
   "source": [
    "Check:"
   ]
  },
  {
   "cell_type": "code",
   "execution_count": 37,
   "id": "9f0ebae5",
   "metadata": {},
   "outputs": [
    {
     "data": {
      "text/plain": [
       "('a1', 'a0')"
      ]
     },
     "execution_count": 37,
     "metadata": {},
     "output_type": "execute_result"
    }
   ],
   "source": [
    "x1 * x1.inv()"
   ]
  },
  {
   "cell_type": "code",
   "execution_count": 38,
   "id": "692e3398",
   "metadata": {},
   "outputs": [
    {
     "data": {
      "text/plain": [
       "('a1', 'a0')"
      ]
     },
     "execution_count": 38,
     "metadata": {},
     "output_type": "execute_result"
    }
   ],
   "source": [
    "x1.inv() * x1"
   ]
  },
  {
   "cell_type": "markdown",
   "id": "4800f831",
   "metadata": {},
   "source": [
    "**Example: Equality & Inequality**"
   ]
  },
  {
   "cell_type": "code",
   "execution_count": 39,
   "id": "7018ac4b",
   "metadata": {},
   "outputs": [
    {
     "name": "stdout",
     "output_type": "stream",
     "text": [
      "('a3', 'a5')\n",
      "('a2', 'a4')\n"
     ]
    }
   ],
   "source": [
    "print(x1)\n",
    "print(x2)"
   ]
  },
  {
   "cell_type": "code",
   "execution_count": 40,
   "id": "9c2f1e16",
   "metadata": {},
   "outputs": [
    {
     "data": {
      "text/plain": [
       "False"
      ]
     },
     "execution_count": 40,
     "metadata": {},
     "output_type": "execute_result"
    }
   ],
   "source": [
    "x1 == x2"
   ]
  },
  {
   "cell_type": "code",
   "execution_count": 43,
   "id": "94062195",
   "metadata": {},
   "outputs": [
    {
     "data": {
      "text/plain": [
       "True"
      ]
     },
     "execution_count": 43,
     "metadata": {},
     "output_type": "execute_result"
    }
   ],
   "source": [
    "x1 != x2"
   ]
  },
  {
   "cell_type": "code",
   "execution_count": 41,
   "id": "af14ef02",
   "metadata": {},
   "outputs": [
    {
     "data": {
      "text/plain": [
       "('a3', 'a5')"
      ]
     },
     "execution_count": 41,
     "metadata": {},
     "output_type": "execute_result"
    }
   ],
   "source": [
    "x3 = AbstractComplexNumber('a3', 'a5', f7)  # Should be equal to x1\n",
    "x3"
   ]
  },
  {
   "cell_type": "code",
   "execution_count": 42,
   "id": "2491f7e7",
   "metadata": {},
   "outputs": [
    {
     "data": {
      "text/plain": [
       "True"
      ]
     },
     "execution_count": 42,
     "metadata": {},
     "output_type": "execute_result"
    }
   ],
   "source": [
    "x1 == x3"
   ]
  },
  {
   "cell_type": "code",
   "execution_count": 44,
   "id": "4e62ca04",
   "metadata": {},
   "outputs": [
    {
     "data": {
      "text/plain": [
       "False"
      ]
     },
     "execution_count": 44,
     "metadata": {},
     "output_type": "execute_result"
    }
   ],
   "source": [
    "x1 != x3"
   ]
  },
  {
   "cell_type": "markdown",
   "id": "91d97788",
   "metadata": {},
   "source": [
    "**Example: Division (for Fields only)**"
   ]
  },
  {
   "cell_type": "code",
   "execution_count": 45,
   "id": "579928d5",
   "metadata": {},
   "outputs": [
    {
     "data": {
      "text/plain": [
       "('a1', 'a0')"
      ]
     },
     "execution_count": 45,
     "metadata": {},
     "output_type": "execute_result"
    }
   ],
   "source": [
    "x1 / x1"
   ]
  },
  {
   "cell_type": "code",
   "execution_count": 72,
   "id": "bd1fb0f2",
   "metadata": {},
   "outputs": [
    {
     "data": {
      "text/plain": [
       "('a2', 'a2')"
      ]
     },
     "execution_count": 72,
     "metadata": {},
     "output_type": "execute_result"
    }
   ],
   "source": [
    "y12 = x1 / x2\n",
    "y12"
   ]
  },
  {
   "cell_type": "code",
   "execution_count": 73,
   "id": "63d72b2d",
   "metadata": {},
   "outputs": [
    {
     "data": {
      "text/plain": [
       "('a2', 'a5')"
      ]
     },
     "execution_count": 73,
     "metadata": {},
     "output_type": "execute_result"
    }
   ],
   "source": [
    "y21 = x2 / x1\n",
    "y21"
   ]
  },
  {
   "cell_type": "code",
   "execution_count": 74,
   "id": "6175786b",
   "metadata": {},
   "outputs": [
    {
     "data": {
      "text/plain": [
       "('a1', 'a0')"
      ]
     },
     "execution_count": 74,
     "metadata": {},
     "output_type": "execute_result"
    }
   ],
   "source": [
    "y12 * y21"
   ]
  },
  {
   "cell_type": "markdown",
   "id": "d47660c8",
   "metadata": {},
   "source": [
    "## Create Algebras from Abstract Complex Numbers"
   ]
  },
  {
   "cell_type": "code",
   "execution_count": 82,
   "id": "a83860d9",
   "metadata": {},
   "outputs": [],
   "source": [
    "def complex_name(x):\n",
    "    return x.real + \":\" + x.imag\n",
    "\n",
    "def make_abstract_complex_number_algebra(algebra, name_gen, alg_name, alg_desc):\n",
    "    elems = [AbstractComplexNumber(a, b, algebra) for a in algebra.elements for b in algebra.elements]\n",
    "    add_table = [[name_gen(u + v) for v in elems] for u in elems]\n",
    "    mul_table = [[name_gen(u * v) for v in elems] for u in elems]\n",
    "    enames = list(map(name_gen, elems))\n",
    "    name_element_map = {name_gen(elem) : elem for elem in elems}\n",
    "    new_alg = alg.make_finite_algebra(alg_name, alg_desc, enames, add_table, mul_table)\n",
    "    return new_alg, name_element_map"
   ]
  },
  {
   "cell_type": "code",
   "execution_count": null,
   "id": "f5c03c6a",
   "metadata": {},
   "outputs": [],
   "source": [
    "\n",
    "\n",
    "def make_name_elememt_map(elems, name_gen):\n",
    "    return {name_gen(elem) : elem for elem in elems}\n",
    "\n",
    "def make_abstract_complex_number_algebra2(algebra, alg_name=None, alg_desc=None):\n",
    "    elems = [AbstractComplexNumber(a, b, algebra) for a in algebra.elements for b in algebra.elements]\n",
    "    add_table = [[name_gen(u + v) for v in elems] for u in elems]\n",
    "    mul_table = [[name_gen(u * v) for v in elems] for u in elems]\n",
    "    enames = list(map(name_gen, elems))\n",
    "    name_element_map = {name_gen(elem) : elem for elem in elems}\n",
    "    new_alg = alg.make_finite_algebra(alg_name, alg_desc, enames, add_table, mul_table)\n",
    "    return new_alg, name_element_map"
   ]
  },
  {
   "cell_type": "code",
   "execution_count": 84,
   "id": "1648d4d1",
   "metadata": {},
   "outputs": [
    {
     "name": "stdout",
     "output_type": "stream",
     "text": [
      "\n",
      "** Ring **\n",
      "Name: CF4\n",
      "Instance ID: 4439395024\n",
      "Description: 4-Element Field Abstract Complex Number Algebra\n",
      "Order: 16\n",
      "Identity: '0:0'\n",
      "Commutative? Yes\n",
      "Cyclic?: Yes\n",
      "  Generators: ['0:1+a', '0:a', '1+a:1', '1:1+a', '1:a', 'a:1']\n",
      "Elements:\n",
      "   Index   Name   Inverse  Order\n",
      "      0   '0:0'   '0:0'       1\n",
      "      1   '0:1'   '0:1'       2\n",
      "      2   '0:a'   '0:a'       2\n",
      "      3 '0:1+a' '0:1+a'       2\n",
      "      4   '1:0'   '1:0'       2\n",
      "      5   '1:1'   '1:1'       2\n",
      "      6   '1:a'   '1:a'       2\n",
      "      7 '1:1+a' '1:1+a'       2\n",
      "      8   'a:0'   'a:0'       2\n",
      "      9   'a:1'   'a:1'       2\n",
      "     10   'a:a'   'a:a'       2\n",
      "     11 'a:1+a' 'a:1+a'       2\n",
      "     12 '1+a:0' '1+a:0'       2\n",
      "     13 '1+a:1' '1+a:1'       2\n",
      "     14 '1+a:a' '1+a:a'       2\n",
      "     15 '1+a:1+a' '1+a:1+a'       2\n",
      "Cayley Table (showing indices):\n",
      "[[0, 1, 2, 3, 4, 5, 6, 7, 8, 9, 10, 11, 12, 13, 14, 15],\n",
      " [1, 0, 3, 2, 5, 4, 7, 6, 9, 8, 11, 10, 13, 12, 15, 14],\n",
      " [2, 3, 0, 1, 6, 7, 4, 5, 10, 11, 8, 9, 14, 15, 12, 13],\n",
      " [3, 2, 1, 0, 7, 6, 5, 4, 11, 10, 9, 8, 15, 14, 13, 12],\n",
      " [4, 5, 6, 7, 0, 1, 2, 3, 12, 13, 14, 15, 8, 9, 10, 11],\n",
      " [5, 4, 7, 6, 1, 0, 3, 2, 13, 12, 15, 14, 9, 8, 11, 10],\n",
      " [6, 7, 4, 5, 2, 3, 0, 1, 14, 15, 12, 13, 10, 11, 8, 9],\n",
      " [7, 6, 5, 4, 3, 2, 1, 0, 15, 14, 13, 12, 11, 10, 9, 8],\n",
      " [8, 9, 10, 11, 12, 13, 14, 15, 0, 1, 2, 3, 4, 5, 6, 7],\n",
      " [9, 8, 11, 10, 13, 12, 15, 14, 1, 0, 3, 2, 5, 4, 7, 6],\n",
      " [10, 11, 8, 9, 14, 15, 12, 13, 2, 3, 0, 1, 6, 7, 4, 5],\n",
      " [11, 10, 9, 8, 15, 14, 13, 12, 3, 2, 1, 0, 7, 6, 5, 4],\n",
      " [12, 13, 14, 15, 8, 9, 10, 11, 4, 5, 6, 7, 0, 1, 2, 3],\n",
      " [13, 12, 15, 14, 9, 8, 11, 10, 5, 4, 7, 6, 1, 0, 3, 2],\n",
      " [14, 15, 12, 13, 10, 11, 8, 9, 6, 7, 4, 5, 2, 3, 0, 1],\n",
      " [15, 14, 13, 12, 11, 10, 9, 8, 7, 6, 5, 4, 3, 2, 1, 0]]\n",
      "Mult. Identity: '1:0'\n",
      "Mult. Commutative? Yes\n",
      "Zero Divisors: ['1:1', 'a:a', '1+a:1+a']\n",
      "Multiplicative Cayley Table (showing indices):\n",
      "[[0, 0, 0, 0, 0, 0, 0, 0, 0, 0, 0, 0, 0, 0, 0, 0],\n",
      " [0, 4, 8, 12, 1, 5, 9, 13, 2, 6, 10, 14, 3, 7, 11, 15],\n",
      " [0, 8, 12, 4, 2, 10, 14, 6, 3, 11, 15, 7, 1, 9, 13, 5],\n",
      " [0, 12, 4, 8, 3, 15, 7, 11, 1, 13, 5, 9, 2, 14, 6, 10],\n",
      " [0, 1, 2, 3, 4, 5, 6, 7, 8, 9, 10, 11, 12, 13, 14, 15],\n",
      " [0, 5, 10, 15, 5, 0, 15, 10, 10, 15, 0, 5, 15, 10, 5, 0],\n",
      " [0, 9, 14, 7, 6, 15, 8, 1, 11, 2, 5, 12, 13, 4, 3, 10],\n",
      " [0, 13, 6, 11, 7, 10, 1, 12, 9, 4, 15, 2, 14, 3, 8, 5],\n",
      " [0, 2, 3, 1, 8, 10, 11, 9, 12, 14, 15, 13, 4, 6, 7, 5],\n",
      " [0, 6, 11, 13, 9, 15, 2, 4, 14, 8, 5, 3, 7, 1, 12, 10],\n",
      " [0, 10, 15, 5, 10, 0, 5, 15, 15, 5, 0, 10, 5, 15, 10, 0],\n",
      " [0, 14, 7, 9, 11, 5, 12, 2, 13, 3, 10, 4, 6, 8, 1, 15],\n",
      " [0, 3, 1, 2, 12, 15, 13, 14, 4, 7, 5, 6, 8, 11, 9, 10],\n",
      " [0, 7, 9, 14, 13, 10, 4, 3, 6, 1, 15, 8, 11, 12, 2, 5],\n",
      " [0, 11, 13, 6, 14, 5, 3, 8, 7, 12, 10, 1, 9, 2, 4, 15],\n",
      " [0, 15, 5, 10, 15, 0, 10, 5, 5, 10, 0, 15, 10, 5, 15, 0]]\n"
     ]
    }
   ],
   "source": [
    "alg_description = \"4-Element Field Abstract Complex Number Algebra\"\n",
    "cf4, mapping = make_abstract_complex_number_algebra(f4, ename, \"CF4\", alg_description)\n",
    "cf4.about(max_size=16)"
   ]
  },
  {
   "cell_type": "code",
   "execution_count": 85,
   "id": "7b3b0e05",
   "metadata": {},
   "outputs": [
    {
     "data": {
      "text/plain": [
       "{'0:0': ('0', '0'),\n",
       " '0:1': ('0', '1'),\n",
       " '0:a': ('0', 'a'),\n",
       " '0:1+a': ('0', '1+a'),\n",
       " '1:0': ('1', '0'),\n",
       " '1:1': ('1', '1'),\n",
       " '1:a': ('1', 'a'),\n",
       " '1:1+a': ('1', '1+a'),\n",
       " 'a:0': ('a', '0'),\n",
       " 'a:1': ('a', '1'),\n",
       " 'a:a': ('a', 'a'),\n",
       " 'a:1+a': ('a', '1+a'),\n",
       " '1+a:0': ('1+a', '0'),\n",
       " '1+a:1': ('1+a', '1'),\n",
       " '1+a:a': ('1+a', 'a'),\n",
       " '1+a:1+a': ('1+a', '1+a')}"
      ]
     },
     "execution_count": 85,
     "metadata": {},
     "output_type": "execute_result"
    }
   ],
   "source": [
    "mapping"
   ]
  },
  {
   "cell_type": "code",
   "execution_count": 54,
   "id": "4aff2dd4",
   "metadata": {},
   "outputs": [
    {
     "data": {
      "text/plain": [
       "['a:a', '1:1', '0:0', '1+a:1+a']"
      ]
     },
     "execution_count": 54,
     "metadata": {},
     "output_type": "execute_result"
    }
   ],
   "source": [
    "zero_divisors = ['1:1', 'a:a', '1+a:1+a']\n",
    "\n",
    "cf4.closure(zero_divisors, False)"
   ]
  },
  {
   "cell_type": "code",
   "execution_count": 55,
   "id": "7f4d1a8f",
   "metadata": {},
   "outputs": [
    {
     "data": {
      "text/plain": [
       "[Ring(\n",
       " 'CF4_subalgebra_0',\n",
       " 'Subalgebra of: 4-Element Field Abstract Complex Number Algebra',\n",
       " ['0:0', '0:1', '1:0', '1:1'],\n",
       " [[0, 1, 2, 3], [1, 0, 3, 2], [2, 3, 0, 1], [3, 2, 1, 0]],\n",
       " [[0, 0, 0, 0], [0, 2, 1, 3], [0, 1, 2, 3], [0, 3, 3, 0]]\n",
       " ),\n",
       " Ring(\n",
       " 'CF4_subalgebra_1',\n",
       " 'Subalgebra of: 4-Element Field Abstract Complex Number Algebra',\n",
       " ['0:0', '1:0', 'a:a', '1+a:a'],\n",
       " [[0, 1, 2, 3], [1, 0, 3, 2], [2, 3, 0, 1], [3, 2, 1, 0]],\n",
       " [[0, 0, 0, 0], [0, 1, 2, 3], [0, 2, 0, 2], [0, 3, 2, 1]]\n",
       " ),\n",
       " Ring(\n",
       " 'CF4_subalgebra_2',\n",
       " 'Subalgebra of: 4-Element Field Abstract Complex Number Algebra',\n",
       " ['0:0', 'a:a'],\n",
       " [[0, 1], [1, 0]],\n",
       " [[0, 0], [0, 0]]\n",
       " ),\n",
       " Ring(\n",
       " 'CF4_subalgebra_3',\n",
       " 'Subalgebra of: 4-Element Field Abstract Complex Number Algebra',\n",
       " ['0:0', '1+a:1+a'],\n",
       " [[0, 1], [1, 0]],\n",
       " [[0, 0], [0, 0]]\n",
       " ),\n",
       " Ring(\n",
       " 'CF4_subalgebra_4',\n",
       " 'Subalgebra of: 4-Element Field Abstract Complex Number Algebra',\n",
       " ['0:0', '1:1', 'a:a', '1+a:1+a'],\n",
       " [[0, 1, 2, 3], [1, 0, 3, 2], [2, 3, 0, 1], [3, 2, 1, 0]],\n",
       " [[0, 0, 0, 0], [0, 0, 0, 0], [0, 0, 0, 0], [0, 0, 0, 0]]\n",
       " ),\n",
       " Ring(\n",
       " 'CF4_subalgebra_5',\n",
       " 'Subalgebra of: 4-Element Field Abstract Complex Number Algebra',\n",
       " ['0:0', '0:1', '1:0', '1:1', 'a:a', 'a:1+a', '1+a:a', '1+a:1+a'],\n",
       " [[0, 1, 2, 3, 4, 5, 6, 7], [1, 0, 3, 2, 5, 4, 7, 6], [2, 3, 0, 1, 6, 7, 4, 5], [3, 2, 1, 0, 7, 6, 5, 4], [4, 5, 6, 7, 0, 1, 2, 3], [5, 4, 7, 6, 1, 0, 3, 2], [6, 7, 4, 5, 2, 3, 0, 1], [7, 6, 5, 4, 3, 2, 1, 0]],\n",
       " [[0, 0, 0, 0, 0, 0, 0, 0], [0, 2, 1, 3, 4, 6, 5, 7], [0, 1, 2, 3, 4, 5, 6, 7], [0, 3, 3, 0, 0, 3, 3, 0], [0, 4, 4, 0, 0, 4, 4, 0], [0, 6, 5, 3, 4, 2, 1, 7], [0, 5, 6, 3, 4, 1, 2, 7], [0, 7, 7, 0, 0, 7, 7, 0]]\n",
       " ),\n",
       " Ring(\n",
       " 'CF4_subalgebra_6',\n",
       " 'Subalgebra of: 4-Element Field Abstract Complex Number Algebra',\n",
       " ['0:0', '1:1'],\n",
       " [[0, 1], [1, 0]],\n",
       " [[0, 0], [0, 0]]\n",
       " ),\n",
       " Ring(\n",
       " 'CF4_subalgebra_7',\n",
       " 'Subalgebra of: 4-Element Field Abstract Complex Number Algebra',\n",
       " ['0:0', '1:0', 'a:1+a', '1+a:1+a'],\n",
       " [[0, 1, 2, 3], [1, 0, 3, 2], [2, 3, 0, 1], [3, 2, 1, 0]],\n",
       " [[0, 0, 0, 0], [0, 1, 2, 3], [0, 2, 1, 3], [0, 3, 3, 0]]\n",
       " ),\n",
       " Field(\n",
       " 'CF4_subalgebra_8',\n",
       " 'Subalgebra of: 4-Element Field Abstract Complex Number Algebra',\n",
       " ['0:0', '1:0'],\n",
       " [[0, 1], [1, 0]],\n",
       " [[0, 0], [0, 1]]\n",
       " ),\n",
       " Field(\n",
       " 'CF4_subalgebra_9',\n",
       " 'Subalgebra of: 4-Element Field Abstract Complex Number Algebra',\n",
       " ['0:0', '1:0', 'a:0', '1+a:0'],\n",
       " [[0, 1, 2, 3], [1, 0, 3, 2], [2, 3, 0, 1], [3, 2, 1, 0]],\n",
       " [[0, 0, 0, 0], [0, 1, 2, 3], [0, 2, 3, 1], [0, 3, 1, 2]]\n",
       " ),\n",
       " Group(\n",
       " 'Subgroup of CF4',\n",
       " 'Trivial subgroup: 4-Element Field Abstract Complex Number Algebra',\n",
       " ['0:0'],\n",
       " [[0]]\n",
       " ),\n",
       " Ring(\n",
       " 'CF4',\n",
       " '4-Element Field Abstract Complex Number Algebra',\n",
       " ['0:0', '0:1', '0:a', '0:1+a', '1:0', '1:1', '1:a', '1:1+a', 'a:0', 'a:1', 'a:a', 'a:1+a', '1+a:0', '1+a:1', '1+a:a', '1+a:1+a'],\n",
       " [[0, 1, 2, 3, 4, 5, 6, 7, 8, 9, 10, 11, 12, 13, 14, 15], [1, 0, 3, 2, 5, 4, 7, 6, 9, 8, 11, 10, 13, 12, 15, 14], [2, 3, 0, 1, 6, 7, 4, 5, 10, 11, 8, 9, 14, 15, 12, 13], [3, 2, 1, 0, 7, 6, 5, 4, 11, 10, 9, 8, 15, 14, 13, 12], [4, 5, 6, 7, 0, 1, 2, 3, 12, 13, 14, 15, 8, 9, 10, 11], [5, 4, 7, 6, 1, 0, 3, 2, 13, 12, 15, 14, 9, 8, 11, 10], [6, 7, 4, 5, 2, 3, 0, 1, 14, 15, 12, 13, 10, 11, 8, 9], [7, 6, 5, 4, 3, 2, 1, 0, 15, 14, 13, 12, 11, 10, 9, 8], [8, 9, 10, 11, 12, 13, 14, 15, 0, 1, 2, 3, 4, 5, 6, 7], [9, 8, 11, 10, 13, 12, 15, 14, 1, 0, 3, 2, 5, 4, 7, 6], [10, 11, 8, 9, 14, 15, 12, 13, 2, 3, 0, 1, 6, 7, 4, 5], [11, 10, 9, 8, 15, 14, 13, 12, 3, 2, 1, 0, 7, 6, 5, 4], [12, 13, 14, 15, 8, 9, 10, 11, 4, 5, 6, 7, 0, 1, 2, 3], [13, 12, 15, 14, 9, 8, 11, 10, 5, 4, 7, 6, 1, 0, 3, 2], [14, 15, 12, 13, 10, 11, 8, 9, 6, 7, 4, 5, 2, 3, 0, 1], [15, 14, 13, 12, 11, 10, 9, 8, 7, 6, 5, 4, 3, 2, 1, 0]],\n",
       " [[0, 0, 0, 0, 0, 0, 0, 0, 0, 0, 0, 0, 0, 0, 0, 0], [0, 4, 8, 12, 1, 5, 9, 13, 2, 6, 10, 14, 3, 7, 11, 15], [0, 8, 12, 4, 2, 10, 14, 6, 3, 11, 15, 7, 1, 9, 13, 5], [0, 12, 4, 8, 3, 15, 7, 11, 1, 13, 5, 9, 2, 14, 6, 10], [0, 1, 2, 3, 4, 5, 6, 7, 8, 9, 10, 11, 12, 13, 14, 15], [0, 5, 10, 15, 5, 0, 15, 10, 10, 15, 0, 5, 15, 10, 5, 0], [0, 9, 14, 7, 6, 15, 8, 1, 11, 2, 5, 12, 13, 4, 3, 10], [0, 13, 6, 11, 7, 10, 1, 12, 9, 4, 15, 2, 14, 3, 8, 5], [0, 2, 3, 1, 8, 10, 11, 9, 12, 14, 15, 13, 4, 6, 7, 5], [0, 6, 11, 13, 9, 15, 2, 4, 14, 8, 5, 3, 7, 1, 12, 10], [0, 10, 15, 5, 10, 0, 5, 15, 15, 5, 0, 10, 5, 15, 10, 0], [0, 14, 7, 9, 11, 5, 12, 2, 13, 3, 10, 4, 6, 8, 1, 15], [0, 3, 1, 2, 12, 15, 13, 14, 4, 7, 5, 6, 8, 11, 9, 10], [0, 7, 9, 14, 13, 10, 4, 3, 6, 1, 15, 8, 11, 12, 2, 5], [0, 11, 13, 6, 14, 5, 3, 8, 7, 12, 10, 1, 9, 2, 4, 15], [0, 15, 5, 10, 15, 0, 10, 5, 5, 10, 0, 15, 10, 5, 15, 0]]\n",
       " )]"
      ]
     },
     "execution_count": 55,
     "metadata": {},
     "output_type": "execute_result"
    }
   ],
   "source": [
    "cf4.subgroups()"
   ]
  },
  {
   "cell_type": "code",
   "execution_count": null,
   "id": "806467e0",
   "metadata": {},
   "outputs": [],
   "source": []
  },
  {
   "cell_type": "code",
   "execution_count": 56,
   "id": "38a36ccc",
   "metadata": {},
   "outputs": [
    {
     "name": "stdout",
     "output_type": "stream",
     "text": [
      "\n",
      "** Field **\n",
      "Name: F5\n",
      "Instance ID: 4446515600\n",
      "Description: Autogenerated Field of integers mod 5\n",
      "Order: 5\n",
      "Identity: 'a0'\n",
      "Commutative? Yes\n",
      "Cyclic?: Yes\n",
      "  Generators: ['a1', 'a2', 'a3', 'a4']\n",
      "Elements:\n",
      "   Index   Name   Inverse  Order\n",
      "      0    'a0'    'a0'       1\n",
      "      1    'a1'    'a4'       5\n",
      "      2    'a2'    'a3'       5\n",
      "      3    'a3'    'a2'       5\n",
      "      4    'a4'    'a1'       5\n",
      "Cayley Table (showing indices):\n",
      "[[0, 1, 2, 3, 4],\n",
      " [1, 2, 3, 4, 0],\n",
      " [2, 3, 4, 0, 1],\n",
      " [3, 4, 0, 1, 2],\n",
      " [4, 0, 1, 2, 3]]\n",
      "Mult. Identity: 'a1'\n",
      "Mult. Commutative? Yes\n",
      "Zero Divisors: None\n",
      "Multiplicative Cayley Table (showing indices):\n",
      "[[0, 0, 0, 0, 0],\n",
      " [0, 1, 2, 3, 4],\n",
      " [0, 2, 4, 1, 3],\n",
      " [0, 3, 1, 4, 2],\n",
      " [0, 4, 3, 2, 1]]\n"
     ]
    }
   ],
   "source": [
    "f5 = alg.generate_algebra_mod_n(5)\n",
    "f5.about()"
   ]
  },
  {
   "cell_type": "code",
   "execution_count": 57,
   "id": "ca38a9b1",
   "metadata": {},
   "outputs": [
    {
     "name": "stdout",
     "output_type": "stream",
     "text": [
      "\n",
      "** Ring **\n",
      "Name: CF5\n",
      "Instance ID: 4446469968\n",
      "Description: Abstract Complex Number Algebra from Field of integers mod 5\n",
      "Order: 25\n",
      "Identity: 'a0:a0'\n",
      "Commutative? Yes\n",
      "Cyclic?: Yes\n",
      "  Generators: ['a0:a1', 'a0:a2', 'a0:a3', 'a0:a4', 'a1:a1', 'a1:a4', 'a2:a2', 'a2:a3', 'a3:a2', 'a3:a3', 'a4:a1', 'a4:a4']\n",
      "Elements:\n",
      "   Index   Name   Inverse  Order\n",
      "      0 'a0:a0' 'a0:a0'       1\n",
      "      1 'a0:a1' 'a0:a4'       5\n",
      "      2 'a0:a2' 'a0:a3'       5\n",
      "      3 'a0:a3' 'a0:a2'       5\n",
      "      4 'a0:a4' 'a0:a1'       5\n",
      "      5 'a1:a0' 'a4:a0'       5\n",
      "      6 'a1:a1' 'a4:a4'       5\n",
      "      7 'a1:a2' 'a4:a3'       5\n",
      "      8 'a1:a3' 'a4:a2'       5\n",
      "      9 'a1:a4' 'a4:a1'       5\n",
      "     10 'a2:a0' 'a3:a0'       5\n",
      "     11 'a2:a1' 'a3:a4'       5\n",
      "     12 'a2:a2' 'a3:a3'       5\n",
      "     13 'a2:a3' 'a3:a2'       5\n",
      "     14 'a2:a4' 'a3:a1'       5\n",
      "     15 'a3:a0' 'a2:a0'       5\n",
      "     16 'a3:a1' 'a2:a4'       5\n",
      "     17 'a3:a2' 'a2:a3'       5\n",
      "     18 'a3:a3' 'a2:a2'       5\n",
      "     19 'a3:a4' 'a2:a1'       5\n",
      "     20 'a4:a0' 'a1:a0'       5\n",
      "     21 'a4:a1' 'a1:a4'       5\n",
      "     22 'a4:a2' 'a1:a3'       5\n",
      "     23 'a4:a3' 'a1:a2'       5\n",
      "     24 'a4:a4' 'a1:a1'       5\n",
      "Cayley Table (showing indices):\n",
      "[[0,\n",
      "  1,\n",
      "  2,\n",
      "  3,\n",
      "  4,\n",
      "  5,\n",
      "  6,\n",
      "  7,\n",
      "  8,\n",
      "  9,\n",
      "  10,\n",
      "  11,\n",
      "  12,\n",
      "  13,\n",
      "  14,\n",
      "  15,\n",
      "  16,\n",
      "  17,\n",
      "  18,\n",
      "  19,\n",
      "  20,\n",
      "  21,\n",
      "  22,\n",
      "  23,\n",
      "  24],\n",
      " [1,\n",
      "  2,\n",
      "  3,\n",
      "  4,\n",
      "  0,\n",
      "  6,\n",
      "  7,\n",
      "  8,\n",
      "  9,\n",
      "  5,\n",
      "  11,\n",
      "  12,\n",
      "  13,\n",
      "  14,\n",
      "  10,\n",
      "  16,\n",
      "  17,\n",
      "  18,\n",
      "  19,\n",
      "  15,\n",
      "  21,\n",
      "  22,\n",
      "  23,\n",
      "  24,\n",
      "  20],\n",
      " [2,\n",
      "  3,\n",
      "  4,\n",
      "  0,\n",
      "  1,\n",
      "  7,\n",
      "  8,\n",
      "  9,\n",
      "  5,\n",
      "  6,\n",
      "  12,\n",
      "  13,\n",
      "  14,\n",
      "  10,\n",
      "  11,\n",
      "  17,\n",
      "  18,\n",
      "  19,\n",
      "  15,\n",
      "  16,\n",
      "  22,\n",
      "  23,\n",
      "  24,\n",
      "  20,\n",
      "  21],\n",
      " [3,\n",
      "  4,\n",
      "  0,\n",
      "  1,\n",
      "  2,\n",
      "  8,\n",
      "  9,\n",
      "  5,\n",
      "  6,\n",
      "  7,\n",
      "  13,\n",
      "  14,\n",
      "  10,\n",
      "  11,\n",
      "  12,\n",
      "  18,\n",
      "  19,\n",
      "  15,\n",
      "  16,\n",
      "  17,\n",
      "  23,\n",
      "  24,\n",
      "  20,\n",
      "  21,\n",
      "  22],\n",
      " [4,\n",
      "  0,\n",
      "  1,\n",
      "  2,\n",
      "  3,\n",
      "  9,\n",
      "  5,\n",
      "  6,\n",
      "  7,\n",
      "  8,\n",
      "  14,\n",
      "  10,\n",
      "  11,\n",
      "  12,\n",
      "  13,\n",
      "  19,\n",
      "  15,\n",
      "  16,\n",
      "  17,\n",
      "  18,\n",
      "  24,\n",
      "  20,\n",
      "  21,\n",
      "  22,\n",
      "  23],\n",
      " [5,\n",
      "  6,\n",
      "  7,\n",
      "  8,\n",
      "  9,\n",
      "  10,\n",
      "  11,\n",
      "  12,\n",
      "  13,\n",
      "  14,\n",
      "  15,\n",
      "  16,\n",
      "  17,\n",
      "  18,\n",
      "  19,\n",
      "  20,\n",
      "  21,\n",
      "  22,\n",
      "  23,\n",
      "  24,\n",
      "  0,\n",
      "  1,\n",
      "  2,\n",
      "  3,\n",
      "  4],\n",
      " [6,\n",
      "  7,\n",
      "  8,\n",
      "  9,\n",
      "  5,\n",
      "  11,\n",
      "  12,\n",
      "  13,\n",
      "  14,\n",
      "  10,\n",
      "  16,\n",
      "  17,\n",
      "  18,\n",
      "  19,\n",
      "  15,\n",
      "  21,\n",
      "  22,\n",
      "  23,\n",
      "  24,\n",
      "  20,\n",
      "  1,\n",
      "  2,\n",
      "  3,\n",
      "  4,\n",
      "  0],\n",
      " [7,\n",
      "  8,\n",
      "  9,\n",
      "  5,\n",
      "  6,\n",
      "  12,\n",
      "  13,\n",
      "  14,\n",
      "  10,\n",
      "  11,\n",
      "  17,\n",
      "  18,\n",
      "  19,\n",
      "  15,\n",
      "  16,\n",
      "  22,\n",
      "  23,\n",
      "  24,\n",
      "  20,\n",
      "  21,\n",
      "  2,\n",
      "  3,\n",
      "  4,\n",
      "  0,\n",
      "  1],\n",
      " [8,\n",
      "  9,\n",
      "  5,\n",
      "  6,\n",
      "  7,\n",
      "  13,\n",
      "  14,\n",
      "  10,\n",
      "  11,\n",
      "  12,\n",
      "  18,\n",
      "  19,\n",
      "  15,\n",
      "  16,\n",
      "  17,\n",
      "  23,\n",
      "  24,\n",
      "  20,\n",
      "  21,\n",
      "  22,\n",
      "  3,\n",
      "  4,\n",
      "  0,\n",
      "  1,\n",
      "  2],\n",
      " [9,\n",
      "  5,\n",
      "  6,\n",
      "  7,\n",
      "  8,\n",
      "  14,\n",
      "  10,\n",
      "  11,\n",
      "  12,\n",
      "  13,\n",
      "  19,\n",
      "  15,\n",
      "  16,\n",
      "  17,\n",
      "  18,\n",
      "  24,\n",
      "  20,\n",
      "  21,\n",
      "  22,\n",
      "  23,\n",
      "  4,\n",
      "  0,\n",
      "  1,\n",
      "  2,\n",
      "  3],\n",
      " [10,\n",
      "  11,\n",
      "  12,\n",
      "  13,\n",
      "  14,\n",
      "  15,\n",
      "  16,\n",
      "  17,\n",
      "  18,\n",
      "  19,\n",
      "  20,\n",
      "  21,\n",
      "  22,\n",
      "  23,\n",
      "  24,\n",
      "  0,\n",
      "  1,\n",
      "  2,\n",
      "  3,\n",
      "  4,\n",
      "  5,\n",
      "  6,\n",
      "  7,\n",
      "  8,\n",
      "  9],\n",
      " [11,\n",
      "  12,\n",
      "  13,\n",
      "  14,\n",
      "  10,\n",
      "  16,\n",
      "  17,\n",
      "  18,\n",
      "  19,\n",
      "  15,\n",
      "  21,\n",
      "  22,\n",
      "  23,\n",
      "  24,\n",
      "  20,\n",
      "  1,\n",
      "  2,\n",
      "  3,\n",
      "  4,\n",
      "  0,\n",
      "  6,\n",
      "  7,\n",
      "  8,\n",
      "  9,\n",
      "  5],\n",
      " [12,\n",
      "  13,\n",
      "  14,\n",
      "  10,\n",
      "  11,\n",
      "  17,\n",
      "  18,\n",
      "  19,\n",
      "  15,\n",
      "  16,\n",
      "  22,\n",
      "  23,\n",
      "  24,\n",
      "  20,\n",
      "  21,\n",
      "  2,\n",
      "  3,\n",
      "  4,\n",
      "  0,\n",
      "  1,\n",
      "  7,\n",
      "  8,\n",
      "  9,\n",
      "  5,\n",
      "  6],\n",
      " [13,\n",
      "  14,\n",
      "  10,\n",
      "  11,\n",
      "  12,\n",
      "  18,\n",
      "  19,\n",
      "  15,\n",
      "  16,\n",
      "  17,\n",
      "  23,\n",
      "  24,\n",
      "  20,\n",
      "  21,\n",
      "  22,\n",
      "  3,\n",
      "  4,\n",
      "  0,\n",
      "  1,\n",
      "  2,\n",
      "  8,\n",
      "  9,\n",
      "  5,\n",
      "  6,\n",
      "  7],\n",
      " [14,\n",
      "  10,\n",
      "  11,\n",
      "  12,\n",
      "  13,\n",
      "  19,\n",
      "  15,\n",
      "  16,\n",
      "  17,\n",
      "  18,\n",
      "  24,\n",
      "  20,\n",
      "  21,\n",
      "  22,\n",
      "  23,\n",
      "  4,\n",
      "  0,\n",
      "  1,\n",
      "  2,\n",
      "  3,\n",
      "  9,\n",
      "  5,\n",
      "  6,\n",
      "  7,\n",
      "  8],\n",
      " [15,\n",
      "  16,\n",
      "  17,\n",
      "  18,\n",
      "  19,\n",
      "  20,\n",
      "  21,\n",
      "  22,\n",
      "  23,\n",
      "  24,\n",
      "  0,\n",
      "  1,\n",
      "  2,\n",
      "  3,\n",
      "  4,\n",
      "  5,\n",
      "  6,\n",
      "  7,\n",
      "  8,\n",
      "  9,\n",
      "  10,\n",
      "  11,\n",
      "  12,\n",
      "  13,\n",
      "  14],\n",
      " [16,\n",
      "  17,\n",
      "  18,\n",
      "  19,\n",
      "  15,\n",
      "  21,\n",
      "  22,\n",
      "  23,\n",
      "  24,\n",
      "  20,\n",
      "  1,\n",
      "  2,\n",
      "  3,\n",
      "  4,\n",
      "  0,\n",
      "  6,\n",
      "  7,\n",
      "  8,\n",
      "  9,\n",
      "  5,\n",
      "  11,\n",
      "  12,\n",
      "  13,\n",
      "  14,\n",
      "  10],\n",
      " [17,\n",
      "  18,\n",
      "  19,\n",
      "  15,\n",
      "  16,\n",
      "  22,\n",
      "  23,\n",
      "  24,\n",
      "  20,\n",
      "  21,\n",
      "  2,\n",
      "  3,\n",
      "  4,\n",
      "  0,\n",
      "  1,\n",
      "  7,\n",
      "  8,\n",
      "  9,\n",
      "  5,\n",
      "  6,\n",
      "  12,\n",
      "  13,\n",
      "  14,\n",
      "  10,\n",
      "  11],\n",
      " [18,\n",
      "  19,\n",
      "  15,\n",
      "  16,\n",
      "  17,\n",
      "  23,\n",
      "  24,\n",
      "  20,\n",
      "  21,\n",
      "  22,\n",
      "  3,\n",
      "  4,\n",
      "  0,\n",
      "  1,\n",
      "  2,\n",
      "  8,\n",
      "  9,\n",
      "  5,\n",
      "  6,\n",
      "  7,\n",
      "  13,\n",
      "  14,\n",
      "  10,\n",
      "  11,\n",
      "  12],\n",
      " [19,\n",
      "  15,\n",
      "  16,\n",
      "  17,\n",
      "  18,\n",
      "  24,\n",
      "  20,\n",
      "  21,\n",
      "  22,\n",
      "  23,\n",
      "  4,\n",
      "  0,\n",
      "  1,\n",
      "  2,\n",
      "  3,\n",
      "  9,\n",
      "  5,\n",
      "  6,\n",
      "  7,\n",
      "  8,\n",
      "  14,\n",
      "  10,\n",
      "  11,\n",
      "  12,\n",
      "  13],\n",
      " [20,\n",
      "  21,\n",
      "  22,\n",
      "  23,\n",
      "  24,\n",
      "  0,\n",
      "  1,\n",
      "  2,\n",
      "  3,\n",
      "  4,\n",
      "  5,\n",
      "  6,\n",
      "  7,\n",
      "  8,\n",
      "  9,\n",
      "  10,\n",
      "  11,\n",
      "  12,\n",
      "  13,\n",
      "  14,\n",
      "  15,\n",
      "  16,\n",
      "  17,\n",
      "  18,\n",
      "  19],\n",
      " [21,\n",
      "  22,\n",
      "  23,\n",
      "  24,\n",
      "  20,\n",
      "  1,\n",
      "  2,\n",
      "  3,\n",
      "  4,\n",
      "  0,\n",
      "  6,\n",
      "  7,\n",
      "  8,\n",
      "  9,\n",
      "  5,\n",
      "  11,\n",
      "  12,\n",
      "  13,\n",
      "  14,\n",
      "  10,\n",
      "  16,\n",
      "  17,\n",
      "  18,\n",
      "  19,\n",
      "  15],\n",
      " [22,\n",
      "  23,\n",
      "  24,\n",
      "  20,\n",
      "  21,\n",
      "  2,\n",
      "  3,\n",
      "  4,\n",
      "  0,\n",
      "  1,\n",
      "  7,\n",
      "  8,\n",
      "  9,\n",
      "  5,\n",
      "  6,\n",
      "  12,\n",
      "  13,\n",
      "  14,\n",
      "  10,\n",
      "  11,\n",
      "  17,\n",
      "  18,\n",
      "  19,\n",
      "  15,\n",
      "  16],\n",
      " [23,\n",
      "  24,\n",
      "  20,\n",
      "  21,\n",
      "  22,\n",
      "  3,\n",
      "  4,\n",
      "  0,\n",
      "  1,\n",
      "  2,\n",
      "  8,\n",
      "  9,\n",
      "  5,\n",
      "  6,\n",
      "  7,\n",
      "  13,\n",
      "  14,\n",
      "  10,\n",
      "  11,\n",
      "  12,\n",
      "  18,\n",
      "  19,\n",
      "  15,\n",
      "  16,\n",
      "  17],\n",
      " [24,\n",
      "  20,\n",
      "  21,\n",
      "  22,\n",
      "  23,\n",
      "  4,\n",
      "  0,\n",
      "  1,\n",
      "  2,\n",
      "  3,\n",
      "  9,\n",
      "  5,\n",
      "  6,\n",
      "  7,\n",
      "  8,\n",
      "  14,\n",
      "  10,\n",
      "  11,\n",
      "  12,\n",
      "  13,\n",
      "  19,\n",
      "  15,\n",
      "  16,\n",
      "  17,\n",
      "  18]]\n",
      "Mult. Identity: 'a1:a0'\n",
      "Mult. Commutative? Yes\n",
      "Zero Divisors: ['a1:a2', 'a1:a3', 'a2:a1', 'a2:a4', 'a3:a1', 'a3:a4', 'a4:a2', 'a4:a3']\n",
      "Multiplicative Cayley Table (showing indices):\n",
      "[[0, 0, 0, 0, 0, 0, 0, 0, 0, 0, 0, 0, 0, 0, 0, 0, 0, 0, 0, 0, 0, 0, 0, 0, 0],\n",
      " [0,\n",
      "  20,\n",
      "  15,\n",
      "  10,\n",
      "  5,\n",
      "  1,\n",
      "  21,\n",
      "  16,\n",
      "  11,\n",
      "  6,\n",
      "  2,\n",
      "  22,\n",
      "  17,\n",
      "  12,\n",
      "  7,\n",
      "  3,\n",
      "  23,\n",
      "  18,\n",
      "  13,\n",
      "  8,\n",
      "  4,\n",
      "  24,\n",
      "  19,\n",
      "  14,\n",
      "  9],\n",
      " [0,\n",
      "  15,\n",
      "  5,\n",
      "  20,\n",
      "  10,\n",
      "  2,\n",
      "  17,\n",
      "  7,\n",
      "  22,\n",
      "  12,\n",
      "  4,\n",
      "  19,\n",
      "  9,\n",
      "  24,\n",
      "  14,\n",
      "  1,\n",
      "  16,\n",
      "  6,\n",
      "  21,\n",
      "  11,\n",
      "  3,\n",
      "  18,\n",
      "  8,\n",
      "  23,\n",
      "  13],\n",
      " [0,\n",
      "  10,\n",
      "  20,\n",
      "  5,\n",
      "  15,\n",
      "  3,\n",
      "  13,\n",
      "  23,\n",
      "  8,\n",
      "  18,\n",
      "  1,\n",
      "  11,\n",
      "  21,\n",
      "  6,\n",
      "  16,\n",
      "  4,\n",
      "  14,\n",
      "  24,\n",
      "  9,\n",
      "  19,\n",
      "  2,\n",
      "  12,\n",
      "  22,\n",
      "  7,\n",
      "  17],\n",
      " [0,\n",
      "  5,\n",
      "  10,\n",
      "  15,\n",
      "  20,\n",
      "  4,\n",
      "  9,\n",
      "  14,\n",
      "  19,\n",
      "  24,\n",
      "  3,\n",
      "  8,\n",
      "  13,\n",
      "  18,\n",
      "  23,\n",
      "  2,\n",
      "  7,\n",
      "  12,\n",
      "  17,\n",
      "  22,\n",
      "  1,\n",
      "  6,\n",
      "  11,\n",
      "  16,\n",
      "  21],\n",
      " [0,\n",
      "  1,\n",
      "  2,\n",
      "  3,\n",
      "  4,\n",
      "  5,\n",
      "  6,\n",
      "  7,\n",
      "  8,\n",
      "  9,\n",
      "  10,\n",
      "  11,\n",
      "  12,\n",
      "  13,\n",
      "  14,\n",
      "  15,\n",
      "  16,\n",
      "  17,\n",
      "  18,\n",
      "  19,\n",
      "  20,\n",
      "  21,\n",
      "  22,\n",
      "  23,\n",
      "  24],\n",
      " [0,\n",
      "  21,\n",
      "  17,\n",
      "  13,\n",
      "  9,\n",
      "  6,\n",
      "  2,\n",
      "  23,\n",
      "  19,\n",
      "  10,\n",
      "  12,\n",
      "  8,\n",
      "  4,\n",
      "  20,\n",
      "  16,\n",
      "  18,\n",
      "  14,\n",
      "  5,\n",
      "  1,\n",
      "  22,\n",
      "  24,\n",
      "  15,\n",
      "  11,\n",
      "  7,\n",
      "  3],\n",
      " [0,\n",
      "  16,\n",
      "  7,\n",
      "  23,\n",
      "  14,\n",
      "  7,\n",
      "  23,\n",
      "  14,\n",
      "  0,\n",
      "  16,\n",
      "  14,\n",
      "  0,\n",
      "  16,\n",
      "  7,\n",
      "  23,\n",
      "  16,\n",
      "  7,\n",
      "  23,\n",
      "  14,\n",
      "  0,\n",
      "  23,\n",
      "  14,\n",
      "  0,\n",
      "  16,\n",
      "  7],\n",
      " [0,\n",
      "  11,\n",
      "  22,\n",
      "  8,\n",
      "  19,\n",
      "  8,\n",
      "  19,\n",
      "  0,\n",
      "  11,\n",
      "  22,\n",
      "  11,\n",
      "  22,\n",
      "  8,\n",
      "  19,\n",
      "  0,\n",
      "  19,\n",
      "  0,\n",
      "  11,\n",
      "  22,\n",
      "  8,\n",
      "  22,\n",
      "  8,\n",
      "  19,\n",
      "  0,\n",
      "  11],\n",
      " [0,\n",
      "  6,\n",
      "  12,\n",
      "  18,\n",
      "  24,\n",
      "  9,\n",
      "  10,\n",
      "  16,\n",
      "  22,\n",
      "  3,\n",
      "  13,\n",
      "  19,\n",
      "  20,\n",
      "  1,\n",
      "  7,\n",
      "  17,\n",
      "  23,\n",
      "  4,\n",
      "  5,\n",
      "  11,\n",
      "  21,\n",
      "  2,\n",
      "  8,\n",
      "  14,\n",
      "  15],\n",
      " [0,\n",
      "  2,\n",
      "  4,\n",
      "  1,\n",
      "  3,\n",
      "  10,\n",
      "  12,\n",
      "  14,\n",
      "  11,\n",
      "  13,\n",
      "  20,\n",
      "  22,\n",
      "  24,\n",
      "  21,\n",
      "  23,\n",
      "  5,\n",
      "  7,\n",
      "  9,\n",
      "  6,\n",
      "  8,\n",
      "  15,\n",
      "  17,\n",
      "  19,\n",
      "  16,\n",
      "  18],\n",
      " [0,\n",
      "  22,\n",
      "  19,\n",
      "  11,\n",
      "  8,\n",
      "  11,\n",
      "  8,\n",
      "  0,\n",
      "  22,\n",
      "  19,\n",
      "  22,\n",
      "  19,\n",
      "  11,\n",
      "  8,\n",
      "  0,\n",
      "  8,\n",
      "  0,\n",
      "  22,\n",
      "  19,\n",
      "  11,\n",
      "  19,\n",
      "  11,\n",
      "  8,\n",
      "  0,\n",
      "  22],\n",
      " [0,\n",
      "  17,\n",
      "  9,\n",
      "  21,\n",
      "  13,\n",
      "  12,\n",
      "  4,\n",
      "  16,\n",
      "  8,\n",
      "  20,\n",
      "  24,\n",
      "  11,\n",
      "  3,\n",
      "  15,\n",
      "  7,\n",
      "  6,\n",
      "  23,\n",
      "  10,\n",
      "  2,\n",
      "  19,\n",
      "  18,\n",
      "  5,\n",
      "  22,\n",
      "  14,\n",
      "  1],\n",
      " [0,\n",
      "  12,\n",
      "  24,\n",
      "  6,\n",
      "  18,\n",
      "  13,\n",
      "  20,\n",
      "  7,\n",
      "  19,\n",
      "  1,\n",
      "  21,\n",
      "  8,\n",
      "  15,\n",
      "  2,\n",
      "  14,\n",
      "  9,\n",
      "  16,\n",
      "  3,\n",
      "  10,\n",
      "  22,\n",
      "  17,\n",
      "  4,\n",
      "  11,\n",
      "  23,\n",
      "  5],\n",
      " [0,\n",
      "  7,\n",
      "  14,\n",
      "  16,\n",
      "  23,\n",
      "  14,\n",
      "  16,\n",
      "  23,\n",
      "  0,\n",
      "  7,\n",
      "  23,\n",
      "  0,\n",
      "  7,\n",
      "  14,\n",
      "  16,\n",
      "  7,\n",
      "  14,\n",
      "  16,\n",
      "  23,\n",
      "  0,\n",
      "  16,\n",
      "  23,\n",
      "  0,\n",
      "  7,\n",
      "  14],\n",
      " [0,\n",
      "  3,\n",
      "  1,\n",
      "  4,\n",
      "  2,\n",
      "  15,\n",
      "  18,\n",
      "  16,\n",
      "  19,\n",
      "  17,\n",
      "  5,\n",
      "  8,\n",
      "  6,\n",
      "  9,\n",
      "  7,\n",
      "  20,\n",
      "  23,\n",
      "  21,\n",
      "  24,\n",
      "  22,\n",
      "  10,\n",
      "  13,\n",
      "  11,\n",
      "  14,\n",
      "  12],\n",
      " [0,\n",
      "  23,\n",
      "  16,\n",
      "  14,\n",
      "  7,\n",
      "  16,\n",
      "  14,\n",
      "  7,\n",
      "  0,\n",
      "  23,\n",
      "  7,\n",
      "  0,\n",
      "  23,\n",
      "  16,\n",
      "  14,\n",
      "  23,\n",
      "  16,\n",
      "  14,\n",
      "  7,\n",
      "  0,\n",
      "  14,\n",
      "  7,\n",
      "  0,\n",
      "  23,\n",
      "  16],\n",
      " [0,\n",
      "  18,\n",
      "  6,\n",
      "  24,\n",
      "  12,\n",
      "  17,\n",
      "  5,\n",
      "  23,\n",
      "  11,\n",
      "  4,\n",
      "  9,\n",
      "  22,\n",
      "  10,\n",
      "  3,\n",
      "  16,\n",
      "  21,\n",
      "  14,\n",
      "  2,\n",
      "  15,\n",
      "  8,\n",
      "  13,\n",
      "  1,\n",
      "  19,\n",
      "  7,\n",
      "  20],\n",
      " [0,\n",
      "  13,\n",
      "  21,\n",
      "  9,\n",
      "  17,\n",
      "  18,\n",
      "  1,\n",
      "  14,\n",
      "  22,\n",
      "  5,\n",
      "  6,\n",
      "  19,\n",
      "  2,\n",
      "  10,\n",
      "  23,\n",
      "  24,\n",
      "  7,\n",
      "  15,\n",
      "  3,\n",
      "  11,\n",
      "  12,\n",
      "  20,\n",
      "  8,\n",
      "  16,\n",
      "  4],\n",
      " [0,\n",
      "  8,\n",
      "  11,\n",
      "  19,\n",
      "  22,\n",
      "  19,\n",
      "  22,\n",
      "  0,\n",
      "  8,\n",
      "  11,\n",
      "  8,\n",
      "  11,\n",
      "  19,\n",
      "  22,\n",
      "  0,\n",
      "  22,\n",
      "  0,\n",
      "  8,\n",
      "  11,\n",
      "  19,\n",
      "  11,\n",
      "  19,\n",
      "  22,\n",
      "  0,\n",
      "  8],\n",
      " [0,\n",
      "  4,\n",
      "  3,\n",
      "  2,\n",
      "  1,\n",
      "  20,\n",
      "  24,\n",
      "  23,\n",
      "  22,\n",
      "  21,\n",
      "  15,\n",
      "  19,\n",
      "  18,\n",
      "  17,\n",
      "  16,\n",
      "  10,\n",
      "  14,\n",
      "  13,\n",
      "  12,\n",
      "  11,\n",
      "  5,\n",
      "  9,\n",
      "  8,\n",
      "  7,\n",
      "  6],\n",
      " [0,\n",
      "  24,\n",
      "  18,\n",
      "  12,\n",
      "  6,\n",
      "  21,\n",
      "  15,\n",
      "  14,\n",
      "  8,\n",
      "  2,\n",
      "  17,\n",
      "  11,\n",
      "  5,\n",
      "  4,\n",
      "  23,\n",
      "  13,\n",
      "  7,\n",
      "  1,\n",
      "  20,\n",
      "  19,\n",
      "  9,\n",
      "  3,\n",
      "  22,\n",
      "  16,\n",
      "  10],\n",
      " [0,\n",
      "  19,\n",
      "  8,\n",
      "  22,\n",
      "  11,\n",
      "  22,\n",
      "  11,\n",
      "  0,\n",
      "  19,\n",
      "  8,\n",
      "  19,\n",
      "  8,\n",
      "  22,\n",
      "  11,\n",
      "  0,\n",
      "  11,\n",
      "  0,\n",
      "  19,\n",
      "  8,\n",
      "  22,\n",
      "  8,\n",
      "  22,\n",
      "  11,\n",
      "  0,\n",
      "  19],\n",
      " [0,\n",
      "  14,\n",
      "  23,\n",
      "  7,\n",
      "  16,\n",
      "  23,\n",
      "  7,\n",
      "  16,\n",
      "  0,\n",
      "  14,\n",
      "  16,\n",
      "  0,\n",
      "  14,\n",
      "  23,\n",
      "  7,\n",
      "  14,\n",
      "  23,\n",
      "  7,\n",
      "  16,\n",
      "  0,\n",
      "  7,\n",
      "  16,\n",
      "  0,\n",
      "  14,\n",
      "  23],\n",
      " [0,\n",
      "  9,\n",
      "  13,\n",
      "  17,\n",
      "  21,\n",
      "  24,\n",
      "  3,\n",
      "  7,\n",
      "  11,\n",
      "  15,\n",
      "  18,\n",
      "  22,\n",
      "  1,\n",
      "  5,\n",
      "  14,\n",
      "  12,\n",
      "  16,\n",
      "  20,\n",
      "  4,\n",
      "  8,\n",
      "  6,\n",
      "  10,\n",
      "  19,\n",
      "  23,\n",
      "  2]]\n"
     ]
    }
   ],
   "source": [
    "desc5 = \"Abstract Complex Number Algebra from Field of integers mod 5\"\n",
    "\n",
    "cf5 = make_abstract_complex_number_algebra(f5, \"CF5\", desc5)\n",
    "\n",
    "cf5.about(max_size=25)"
   ]
  },
  {
   "cell_type": "code",
   "execution_count": 58,
   "id": "95548295",
   "metadata": {},
   "outputs": [
    {
     "data": {
      "text/plain": [
       "Ring(\n",
       "'CF5',\n",
       "'Abstract Complex Number Algebra from Field of integers mod 5',\n",
       "['a0:a0', 'a0:a1', 'a0:a2', 'a0:a3', 'a0:a4', 'a1:a0', 'a1:a1', 'a1:a2', 'a1:a3', 'a1:a4', 'a2:a0', 'a2:a1', 'a2:a2', 'a2:a3', 'a2:a4', 'a3:a0', 'a3:a1', 'a3:a2', 'a3:a3', 'a3:a4', 'a4:a0', 'a4:a1', 'a4:a2', 'a4:a3', 'a4:a4'],\n",
       "[[0, 1, 2, 3, 4, 5, 6, 7, 8, 9, 10, 11, 12, 13, 14, 15, 16, 17, 18, 19, 20, 21, 22, 23, 24], [1, 2, 3, 4, 0, 6, 7, 8, 9, 5, 11, 12, 13, 14, 10, 16, 17, 18, 19, 15, 21, 22, 23, 24, 20], [2, 3, 4, 0, 1, 7, 8, 9, 5, 6, 12, 13, 14, 10, 11, 17, 18, 19, 15, 16, 22, 23, 24, 20, 21], [3, 4, 0, 1, 2, 8, 9, 5, 6, 7, 13, 14, 10, 11, 12, 18, 19, 15, 16, 17, 23, 24, 20, 21, 22], [4, 0, 1, 2, 3, 9, 5, 6, 7, 8, 14, 10, 11, 12, 13, 19, 15, 16, 17, 18, 24, 20, 21, 22, 23], [5, 6, 7, 8, 9, 10, 11, 12, 13, 14, 15, 16, 17, 18, 19, 20, 21, 22, 23, 24, 0, 1, 2, 3, 4], [6, 7, 8, 9, 5, 11, 12, 13, 14, 10, 16, 17, 18, 19, 15, 21, 22, 23, 24, 20, 1, 2, 3, 4, 0], [7, 8, 9, 5, 6, 12, 13, 14, 10, 11, 17, 18, 19, 15, 16, 22, 23, 24, 20, 21, 2, 3, 4, 0, 1], [8, 9, 5, 6, 7, 13, 14, 10, 11, 12, 18, 19, 15, 16, 17, 23, 24, 20, 21, 22, 3, 4, 0, 1, 2], [9, 5, 6, 7, 8, 14, 10, 11, 12, 13, 19, 15, 16, 17, 18, 24, 20, 21, 22, 23, 4, 0, 1, 2, 3], [10, 11, 12, 13, 14, 15, 16, 17, 18, 19, 20, 21, 22, 23, 24, 0, 1, 2, 3, 4, 5, 6, 7, 8, 9], [11, 12, 13, 14, 10, 16, 17, 18, 19, 15, 21, 22, 23, 24, 20, 1, 2, 3, 4, 0, 6, 7, 8, 9, 5], [12, 13, 14, 10, 11, 17, 18, 19, 15, 16, 22, 23, 24, 20, 21, 2, 3, 4, 0, 1, 7, 8, 9, 5, 6], [13, 14, 10, 11, 12, 18, 19, 15, 16, 17, 23, 24, 20, 21, 22, 3, 4, 0, 1, 2, 8, 9, 5, 6, 7], [14, 10, 11, 12, 13, 19, 15, 16, 17, 18, 24, 20, 21, 22, 23, 4, 0, 1, 2, 3, 9, 5, 6, 7, 8], [15, 16, 17, 18, 19, 20, 21, 22, 23, 24, 0, 1, 2, 3, 4, 5, 6, 7, 8, 9, 10, 11, 12, 13, 14], [16, 17, 18, 19, 15, 21, 22, 23, 24, 20, 1, 2, 3, 4, 0, 6, 7, 8, 9, 5, 11, 12, 13, 14, 10], [17, 18, 19, 15, 16, 22, 23, 24, 20, 21, 2, 3, 4, 0, 1, 7, 8, 9, 5, 6, 12, 13, 14, 10, 11], [18, 19, 15, 16, 17, 23, 24, 20, 21, 22, 3, 4, 0, 1, 2, 8, 9, 5, 6, 7, 13, 14, 10, 11, 12], [19, 15, 16, 17, 18, 24, 20, 21, 22, 23, 4, 0, 1, 2, 3, 9, 5, 6, 7, 8, 14, 10, 11, 12, 13], [20, 21, 22, 23, 24, 0, 1, 2, 3, 4, 5, 6, 7, 8, 9, 10, 11, 12, 13, 14, 15, 16, 17, 18, 19], [21, 22, 23, 24, 20, 1, 2, 3, 4, 0, 6, 7, 8, 9, 5, 11, 12, 13, 14, 10, 16, 17, 18, 19, 15], [22, 23, 24, 20, 21, 2, 3, 4, 0, 1, 7, 8, 9, 5, 6, 12, 13, 14, 10, 11, 17, 18, 19, 15, 16], [23, 24, 20, 21, 22, 3, 4, 0, 1, 2, 8, 9, 5, 6, 7, 13, 14, 10, 11, 12, 18, 19, 15, 16, 17], [24, 20, 21, 22, 23, 4, 0, 1, 2, 3, 9, 5, 6, 7, 8, 14, 10, 11, 12, 13, 19, 15, 16, 17, 18]],\n",
       "[[0, 0, 0, 0, 0, 0, 0, 0, 0, 0, 0, 0, 0, 0, 0, 0, 0, 0, 0, 0, 0, 0, 0, 0, 0], [0, 20, 15, 10, 5, 1, 21, 16, 11, 6, 2, 22, 17, 12, 7, 3, 23, 18, 13, 8, 4, 24, 19, 14, 9], [0, 15, 5, 20, 10, 2, 17, 7, 22, 12, 4, 19, 9, 24, 14, 1, 16, 6, 21, 11, 3, 18, 8, 23, 13], [0, 10, 20, 5, 15, 3, 13, 23, 8, 18, 1, 11, 21, 6, 16, 4, 14, 24, 9, 19, 2, 12, 22, 7, 17], [0, 5, 10, 15, 20, 4, 9, 14, 19, 24, 3, 8, 13, 18, 23, 2, 7, 12, 17, 22, 1, 6, 11, 16, 21], [0, 1, 2, 3, 4, 5, 6, 7, 8, 9, 10, 11, 12, 13, 14, 15, 16, 17, 18, 19, 20, 21, 22, 23, 24], [0, 21, 17, 13, 9, 6, 2, 23, 19, 10, 12, 8, 4, 20, 16, 18, 14, 5, 1, 22, 24, 15, 11, 7, 3], [0, 16, 7, 23, 14, 7, 23, 14, 0, 16, 14, 0, 16, 7, 23, 16, 7, 23, 14, 0, 23, 14, 0, 16, 7], [0, 11, 22, 8, 19, 8, 19, 0, 11, 22, 11, 22, 8, 19, 0, 19, 0, 11, 22, 8, 22, 8, 19, 0, 11], [0, 6, 12, 18, 24, 9, 10, 16, 22, 3, 13, 19, 20, 1, 7, 17, 23, 4, 5, 11, 21, 2, 8, 14, 15], [0, 2, 4, 1, 3, 10, 12, 14, 11, 13, 20, 22, 24, 21, 23, 5, 7, 9, 6, 8, 15, 17, 19, 16, 18], [0, 22, 19, 11, 8, 11, 8, 0, 22, 19, 22, 19, 11, 8, 0, 8, 0, 22, 19, 11, 19, 11, 8, 0, 22], [0, 17, 9, 21, 13, 12, 4, 16, 8, 20, 24, 11, 3, 15, 7, 6, 23, 10, 2, 19, 18, 5, 22, 14, 1], [0, 12, 24, 6, 18, 13, 20, 7, 19, 1, 21, 8, 15, 2, 14, 9, 16, 3, 10, 22, 17, 4, 11, 23, 5], [0, 7, 14, 16, 23, 14, 16, 23, 0, 7, 23, 0, 7, 14, 16, 7, 14, 16, 23, 0, 16, 23, 0, 7, 14], [0, 3, 1, 4, 2, 15, 18, 16, 19, 17, 5, 8, 6, 9, 7, 20, 23, 21, 24, 22, 10, 13, 11, 14, 12], [0, 23, 16, 14, 7, 16, 14, 7, 0, 23, 7, 0, 23, 16, 14, 23, 16, 14, 7, 0, 14, 7, 0, 23, 16], [0, 18, 6, 24, 12, 17, 5, 23, 11, 4, 9, 22, 10, 3, 16, 21, 14, 2, 15, 8, 13, 1, 19, 7, 20], [0, 13, 21, 9, 17, 18, 1, 14, 22, 5, 6, 19, 2, 10, 23, 24, 7, 15, 3, 11, 12, 20, 8, 16, 4], [0, 8, 11, 19, 22, 19, 22, 0, 8, 11, 8, 11, 19, 22, 0, 22, 0, 8, 11, 19, 11, 19, 22, 0, 8], [0, 4, 3, 2, 1, 20, 24, 23, 22, 21, 15, 19, 18, 17, 16, 10, 14, 13, 12, 11, 5, 9, 8, 7, 6], [0, 24, 18, 12, 6, 21, 15, 14, 8, 2, 17, 11, 5, 4, 23, 13, 7, 1, 20, 19, 9, 3, 22, 16, 10], [0, 19, 8, 22, 11, 22, 11, 0, 19, 8, 19, 8, 22, 11, 0, 11, 0, 19, 8, 22, 8, 22, 11, 0, 19], [0, 14, 23, 7, 16, 23, 7, 16, 0, 14, 16, 0, 14, 23, 7, 14, 23, 7, 16, 0, 7, 16, 0, 14, 23], [0, 9, 13, 17, 21, 24, 3, 7, 11, 15, 18, 22, 1, 5, 14, 12, 16, 20, 4, 8, 6, 10, 19, 23, 2]]\n",
       ")"
      ]
     },
     "execution_count": 58,
     "metadata": {},
     "output_type": "execute_result"
    }
   ],
   "source": [
    "cf5"
   ]
  },
  {
   "cell_type": "code",
   "execution_count": 59,
   "id": "59cb7356",
   "metadata": {},
   "outputs": [
    {
     "name": "stdout",
     "output_type": "stream",
     "text": [
      "\n",
      "** Field **\n",
      "Name: F2\n",
      "Instance ID: 4446252240\n",
      "Description: Field with 2 elements from paper: 236w06fields.pdf\n",
      "Order: 2\n",
      "Identity: '0'\n",
      "Commutative? Yes\n",
      "Cyclic?: Yes\n",
      "  Generators: ['1']\n",
      "Elements:\n",
      "   Index   Name   Inverse  Order\n",
      "      0     '0'     '0'       1\n",
      "      1     '1'     '1'       2\n",
      "Cayley Table (showing indices):\n",
      "[[0, 1], [1, 0]]\n",
      "Mult. Identity: '1'\n",
      "Mult. Commutative? Yes\n",
      "Zero Divisors: None\n",
      "Multiplicative Cayley Table (showing indices):\n",
      "[[0, 0], [0, 1]]\n"
     ]
    }
   ],
   "source": [
    "f2.about()"
   ]
  },
  {
   "cell_type": "code",
   "execution_count": 60,
   "id": "732c6635",
   "metadata": {},
   "outputs": [
    {
     "name": "stdout",
     "output_type": "stream",
     "text": [
      "\n",
      "** Ring **\n",
      "Name: CF2\n",
      "Instance ID: 4446382160\n",
      "Description: 2-Element Field Abstract Complex Number Algebra\n",
      "Order: 4\n",
      "Identity: '0:0'\n",
      "Commutative? Yes\n",
      "Cyclic?: Yes\n",
      "  Generators: ['0:1']\n",
      "Elements:\n",
      "   Index   Name   Inverse  Order\n",
      "      0   '0:0'   '0:0'       1\n",
      "      1   '0:1'   '0:1'       2\n",
      "      2   '1:0'   '1:0'       2\n",
      "      3   '1:1'   '1:1'       2\n",
      "Cayley Table (showing names):\n",
      "[['0:0', '0:1', '1:0', '1:1'],\n",
      " ['0:1', '0:0', '1:1', '1:0'],\n",
      " ['1:0', '1:1', '0:0', '0:1'],\n",
      " ['1:1', '1:0', '0:1', '0:0']]\n",
      "Mult. Identity: '1:0'\n",
      "Mult. Commutative? Yes\n",
      "Zero Divisors: ['1:1']\n",
      "Multiplicative Cayley Table (showing names):\n",
      "[['0:0', '0:0', '0:0', '0:0'],\n",
      " ['0:0', '1:0', '0:1', '1:1'],\n",
      " ['0:0', '0:1', '1:0', '1:1'],\n",
      " ['0:0', '1:1', '1:1', '0:0']]\n"
     ]
    }
   ],
   "source": [
    "cf2 = make_abstract_complex_number_algebra(f2, \"CF2\", \"2-Element Field Abstract Complex Number Algebra\")\n",
    "cf2.about(use_table_names=True)"
   ]
  },
  {
   "cell_type": "code",
   "execution_count": null,
   "id": "b74388ed",
   "metadata": {},
   "outputs": [],
   "source": []
  },
  {
   "cell_type": "code",
   "execution_count": null,
   "id": "6d623a86",
   "metadata": {},
   "outputs": [],
   "source": []
  }
 ],
 "metadata": {
  "kernelspec": {
   "display_name": "Python 3 (ipykernel)",
   "language": "python",
   "name": "python3"
  },
  "language_info": {
   "codemirror_mode": {
    "name": "ipython",
    "version": 3
   },
   "file_extension": ".py",
   "mimetype": "text/x-python",
   "name": "python",
   "nbconvert_exporter": "python",
   "pygments_lexer": "ipython3",
   "version": "3.11.4"
  }
 },
 "nbformat": 4,
 "nbformat_minor": 5
}
