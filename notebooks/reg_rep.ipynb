{
 "cells": [
  {
   "cell_type": "markdown",
   "id": "f217c120",
   "metadata": {},
   "source": [
    "# Regular Representation"
   ]
  },
  {
   "cell_type": "markdown",
   "id": "c580ac1e",
   "metadata": {},
   "source": [
    "This section describes the method, ``regular_representation``, which is defined in the ``Monoid`` class, so it also holds for all classes that inherit from ``Monoid``, that is, ``Group``, ``Ring``, and ``Field``.\n",
    "\n",
    "With respect to Rings and Fields, though, the regular representation only applies to the additive abelian Group of the Ring or Field."
   ]
  },
  {
   "cell_type": "markdown",
   "id": "33c2386c",
   "metadata": {},
   "source": [
    "## References"
   ]
  },
  {
   "cell_type": "markdown",
   "id": "cc60edb4",
   "metadata": {},
   "source": [
    "* Georgi, Howard (2018), <i>\"Lie algebras in particle physics: from isospin to unified theories\"</i>, CRC Press, [Open Access](https://www.taylorfrancis.com/books/oa-mono/10.1201/9780429499210/lie-algebras-particle-physics-howard-georgi?context=ubx&refId=1530fefc-3778-48ae-99ec-cba2935af2fb)\n",
    "* Huang, Jiaqi (2012), <i>\"Lie Groups and their applications to Particle Physics: A Tutorial for Undergraduate Physics Majors\"</i>, [arXiv:2012.00834v1](https://arxiv.org/abs/2012.00834)"
   ]
  },
  {
   "cell_type": "markdown",
   "id": "987e7540",
   "metadata": {},
   "source": [
    "## Introduction"
   ]
  },
  {
   "cell_type": "markdown",
   "id": "045881c9",
   "metadata": {},
   "source": [
    "The following definition was adapted from [Georgi, 2018].\n",
    "\n",
    "A <i>representation</i> of a group, $G = \\langle A, \\circ \\rangle$, is a mapping, $V$, of the elements of $G$ onto a set of linear operators with the following properties:\n",
    "* $V(e) = \\hat{1}$, where $e$ is the group's identity element and $\\hat{1}$ is the identity operator in the space on which the linear operators act\n",
    "* $V(a_i) \\cdot V(a_j) = V(a_i \\circ a_j)$ for all $a_i, a_j \\in A$. That is, the group multiplication law, \"$\\circ$\", is mapped onto the matrix multiplication law, \"$\\cdot$\".\n",
    "\n",
    "The <i>regular representation</i> of a group is a mapping of each group element to an $nxn$ matrix. In this case, $\\hat{1}$ is the $nxn$ identity matrix.\n",
    "\n",
    "Most often, the term <i>regular representation</i> applies to groups, but the definition of a regular representation and the algorithm, to be provided below, doesn't preclude monoids from having regular representations also. The definition & algorithm require an algebra that has an identity element, but not necessarily inverses."
   ]
  },
  {
   "cell_type": "markdown",
   "id": "975ab9f2",
   "metadata": {},
   "source": [
    "## Algorithm"
   ]
  },
  {
   "cell_type": "markdown",
   "id": "cc21905f",
   "metadata": {},
   "source": [
    "The following algorithm for computing a regular representation was adapted from [Huang, 2012].\n",
    "\n",
    "Let $G = \\langle A, \\circ \\rangle$, be a group, where $A = \\{a_0, a_1, \\dots , a_{n - 1}\\}$ is the set of the group's elements, and $\\circ$ is its binary operator.\n",
    "\n",
    "Also, let $B = \\{\\hat{b}_0, \\hat{b}_1, \\dots , \\hat{b}_{n-1} \\}$ be the following set of $nx1$ vectors:\n",
    "\n",
    "$\\hat{b}_0 = \\begin{bmatrix}\n",
    "1 \\\\\n",
    "0 \\\\\n",
    "0 \\\\\n",
    "\\vdots \\\\\n",
    "0 \\end{bmatrix},\n",
    "\\hat{b}_1 = \\begin{bmatrix}\n",
    "0 \\\\\n",
    "1 \\\\\n",
    "0 \\\\\n",
    "\\vdots \\\\\n",
    "0 \\end{bmatrix},\n",
    "\\dots,\n",
    "\\hat{b}_{n-1} = \\begin{bmatrix}\n",
    "0 \\\\\n",
    "0 \\\\\n",
    "0 \\\\\n",
    "\\vdots \\\\\n",
    "1 \\end{bmatrix}$\n",
    "\n",
    "Define the a bijection between $A$ and $B$ as follows: $V(a_i) = \\hat{b}_i$ for $i = 0, \\dots , n - 1$.\n",
    "\n",
    "Let $\\cdot$ denote matrix-vector multiplication, and define the $nxn$ matrix,\n",
    "\n",
    "$C_k = (c^k_{ij})_{i,j=0,\\dots,n-1}$\n",
    "\n",
    "where $c^k_{ij} = \\hat{b}_i^T \\cdot V(a_k \\circ V^{-1}(\\hat{b}_j))$\n",
    "\n",
    "\n",
    "\n",
    "Then $M = \\{C_0, C_1, \\dots , C_{n - 1}\\}$ is the <b>regular representation</b> of the group $G$, where the mapping between group elements and operators is $a_i \\leftrightarrow C_i$ for $i = 0, \\dots , n - 1$."
   ]
  },
  {
   "cell_type": "markdown",
   "id": "e0aaac14",
   "metadata": {},
   "source": [
    "## Example: Cyclic Group, $Z_4$"
   ]
  },
  {
   "cell_type": "markdown",
   "id": "ba2e02ef",
   "metadata": {},
   "source": [
    "In this example, we'll derive the regular representation of the cyclic group, $Z_4$, with elements, $A = \\left\\{ e, a, a^2, a^3 \\right\\}$."
   ]
  },
  {
   "cell_type": "code",
   "execution_count": 1,
   "id": "09d2dfab",
   "metadata": {},
   "outputs": [
    {
     "name": "stdout",
     "output_type": "stream",
     "text": [
      "\n",
      "** Group **\n",
      "Name: Z4\n",
      "Instance ID: 4472505168\n",
      "Description: Autogenerated cyclic Group of order 4\n",
      "Order: 4\n",
      "Identity: e\n",
      "Commutative? Yes\n",
      "Cyclic?: Yes\n",
      "  Generators: ['a', 'a^3']\n",
      "Elements:\n",
      "   Index   Name   Inverse  Order\n",
      "      0       e       e       1\n",
      "      1       a     a^3       4\n",
      "      2     a^2     a^2       2\n",
      "      3     a^3       a       4\n",
      "Cayley Table (showing names):\n",
      "[['e', 'a', 'a^2', 'a^3'],\n",
      " ['a', 'a^2', 'a^3', 'e'],\n",
      " ['a^2', 'a^3', 'e', 'a'],\n",
      " ['a^3', 'e', 'a', 'a^2']]\n"
     ]
    }
   ],
   "source": [
    "import finite_algebras as alg\n",
    "\n",
    "Z4 = alg.generate_cyclic_group(4)\n",
    "Z4.about(use_table_names=True)"
   ]
  },
  {
   "cell_type": "markdown",
   "id": "af292138",
   "metadata": {},
   "source": [
    "``regular_representation`` returns the following four items:\n",
    "\n",
    "1. A dictionary mapping each group element to its corresponding matrix\n",
    "1. A dictionary mapping each matrix (in tuple of tuples form) to its corresponding group element\n",
    "1. A function that takes a group element and returns the corresponding matrix\n",
    "1. A function that takes a matrix and returns the corresponding group element\n",
    "\n",
    "Now, here's the computation of the regular representation of $Z_4$:"
   ]
  },
  {
   "cell_type": "code",
   "execution_count": 2,
   "id": "06949c8d",
   "metadata": {},
   "outputs": [],
   "source": [
    "elem_to_array_mapping, array_to_elem_mapping, elem_to_array_fnc, array_to_elem_fnc = Z4.regular_representation()"
   ]
  },
  {
   "cell_type": "markdown",
   "id": "1fe9804a",
   "metadata": {},
   "source": [
    "The following code depicts the element-to-array mapping:"
   ]
  },
  {
   "cell_type": "code",
   "execution_count": 3,
   "id": "9b6f0bfa",
   "metadata": {},
   "outputs": [
    {
     "name": "stdout",
     "output_type": "stream",
     "text": [
      "e\n",
      "[[1. 0. 0. 0.]\n",
      " [0. 1. 0. 0.]\n",
      " [0. 0. 1. 0.]\n",
      " [0. 0. 0. 1.]]\n",
      "\n",
      "a\n",
      "[[0. 0. 0. 1.]\n",
      " [1. 0. 0. 0.]\n",
      " [0. 1. 0. 0.]\n",
      " [0. 0. 1. 0.]]\n",
      "\n",
      "a^2\n",
      "[[0. 0. 1. 0.]\n",
      " [0. 0. 0. 1.]\n",
      " [1. 0. 0. 0.]\n",
      " [0. 1. 0. 0.]]\n",
      "\n",
      "a^3\n",
      "[[0. 1. 0. 0.]\n",
      " [0. 0. 1. 0.]\n",
      " [0. 0. 0. 1.]\n",
      " [1. 0. 0. 0.]]\n",
      "\n"
     ]
    }
   ],
   "source": [
    "for elem in Z4:\n",
    "    print(elem)\n",
    "    print(elem_to_array_mapping[elem])\n",
    "    print()"
   ]
  },
  {
   "cell_type": "markdown",
   "id": "e4799f37",
   "metadata": {},
   "source": [
    "Here is the array-to-element mapping.\n",
    "\n",
    "<b>NOTE</b>: Dictionary keys must be immutable. But NumPy arrays are mutable. So, the method, ``regular_representation``, transforms NumPy arrays to tuples of tuples, which <u>are</u> immutable, and then uses them as dictionary keys. The tuple of tuples are, essentially, sparse matrix representations, and this transformation works for both NumPy dense arrays or SciPy sparse arrays."
   ]
  },
  {
   "cell_type": "code",
   "execution_count": 4,
   "id": "7be5433f",
   "metadata": {},
   "outputs": [
    {
     "data": {
      "text/plain": [
       "{((0, 0), (1, 1), (2, 2), (3, 3)): 'e',\n",
       " ((0, 3), (1, 0), (2, 1), (3, 2)): 'a',\n",
       " ((0, 2), (1, 3), (2, 0), (3, 1)): 'a^2',\n",
       " ((0, 1), (1, 2), (2, 3), (3, 0)): 'a^3'}"
      ]
     },
     "execution_count": 4,
     "metadata": {},
     "output_type": "execute_result"
    }
   ],
   "source": [
    "array_to_elem_mapping"
   ]
  },
  {
   "cell_type": "markdown",
   "id": "48a271db",
   "metadata": {},
   "source": [
    "Here is an example function call using the element to array function:"
   ]
  },
  {
   "cell_type": "code",
   "execution_count": 5,
   "id": "afadcc85",
   "metadata": {},
   "outputs": [
    {
     "data": {
      "text/plain": [
       "array([[0., 1., 0., 0.],\n",
       "       [0., 0., 1., 0.],\n",
       "       [0., 0., 0., 1.],\n",
       "       [1., 0., 0., 0.]])"
      ]
     },
     "execution_count": 5,
     "metadata": {},
     "output_type": "execute_result"
    }
   ],
   "source": [
    "a3_array = elem_to_array_fnc('a^3')\n",
    "a3_array"
   ]
  },
  {
   "cell_type": "markdown",
   "id": "a7c715e0",
   "metadata": {},
   "source": [
    "And, here's an example of the array-to-element function that goes in the reverse direction:"
   ]
  },
  {
   "cell_type": "code",
   "execution_count": 6,
   "id": "640d3420",
   "metadata": {},
   "outputs": [
    {
     "data": {
      "text/plain": [
       "'a^3'"
      ]
     },
     "execution_count": 6,
     "metadata": {},
     "output_type": "execute_result"
    }
   ],
   "source": [
    "array_to_elem_fnc(a3_array)"
   ]
  },
  {
   "cell_type": "markdown",
   "id": "3231f95c",
   "metadata": {},
   "source": [
    "## Verification"
   ]
  },
  {
   "cell_type": "markdown",
   "id": "c0598c1c",
   "metadata": {},
   "source": [
    "The method, ``verify_regular_representation``, verifies that the two bulleted conditions in the Introduction section, above, hold true for a given regular representation.\n",
    "\n",
    "It requires the two functions output by the regular representation method: element-to-array & array-to-element, in that order."
   ]
  },
  {
   "cell_type": "code",
   "execution_count": 7,
   "id": "fbad8140",
   "metadata": {},
   "outputs": [
    {
     "data": {
      "text/plain": [
       "True"
      ]
     },
     "execution_count": 7,
     "metadata": {},
     "output_type": "execute_result"
    }
   ],
   "source": [
    "Z4.verify_regular_representation(elem_to_array_fnc, array_to_elem_fnc)"
   ]
  },
  {
   "cell_type": "markdown",
   "id": "dcd64739",
   "metadata": {},
   "source": [
    "## Example: Klein-4 Group, $V_4$\n"
   ]
  },
  {
   "cell_type": "markdown",
   "id": "d44048b0",
   "metadata": {},
   "source": [
    "In this example, we'll derive the regular representation of the Klein-4 group, $Z_4$, with elements, $A = \\left\\{ e, h, v, r \\right\\}$.\n",
    "\n",
    "First, retrieve $V_4$ from the built-in examples:"
   ]
  },
  {
   "cell_type": "code",
   "execution_count": 8,
   "id": "31921112",
   "metadata": {},
   "outputs": [
    {
     "name": "stdout",
     "output_type": "stream",
     "text": [
      "======================================================================\n",
      "                           Example Algebras\n",
      "----------------------------------------------------------------------\n",
      "  17 example algebras are available.\n",
      "  Use \"Examples[INDEX]\" to retrieve a specific example,\n",
      "  where INDEX is the first number on each line below:\n",
      "----------------------------------------------------------------------\n",
      "0: A4 -- Alternating group on 4 letters (AKA Tetrahedral group)\n",
      "1: D3 -- https://en.wikipedia.org/wiki/Dihedral_group_of_order_6\n",
      "2: D4 -- Dihedral group on four vertices\n",
      "3: Pinter29 -- Non-abelian group, p.29, 'A Book of Abstract Algebra' by Charles C. Pinter\n",
      "4: RPS -- Rock, Paper, Scissors Magma\n",
      "5: S3 -- Symmetric group on 3 letters\n",
      "6: S3X -- Another version of the symmetric group on 3 letters\n",
      "7: V4 -- Klein-4 group\n",
      "8: Z4 -- Cyclic group of order 4\n",
      "9: F4 -- Field with 4 elements (from Wikipedia)\n",
      "10: mag_id -- Magma with Identity\n",
      "11: Example 1.4.1 -- See: Groupoids and Smarandache Groupoids by W. B. Vasantha Kandasamy\n",
      "12: Ex6 -- Example 6: http://www-groups.mcs.st-andrews.ac.uk/~john/MT4517/Lectures/L3.html\n",
      "13: Q8 -- Quaternion Group\n",
      "14: SD16 -- Semidihedral group of order 16\n",
      "15: A5 -- Alternating group on 5 letters\n",
      "16: F2 -- Field with 2 elements from paper: 236w06fields.pdf\n",
      "======================================================================\n"
     ]
    }
   ],
   "source": [
    "import os\n",
    "aa_path = os.path.join(os.getenv(\"PYPROJ\"), \"abstract_algebra\")\n",
    "alg_dir = os.path.join(aa_path, \"Algebras\")\n",
    "\n",
    "ex = alg.Examples(alg_dir)"
   ]
  },
  {
   "cell_type": "markdown",
   "id": "294d3fde",
   "metadata": {},
   "source": [
    "### $V_4$ the Klein-4 group"
   ]
  },
  {
   "cell_type": "code",
   "execution_count": 9,
   "id": "96a3c405",
   "metadata": {},
   "outputs": [
    {
     "name": "stdout",
     "output_type": "stream",
     "text": [
      "\n",
      "** Group **\n",
      "Name: V4\n",
      "Instance ID: 4482154640\n",
      "Description: Klein-4 group\n",
      "Order: 4\n",
      "Identity: e\n",
      "Commutative? Yes\n",
      "Cyclic?: No\n",
      "Elements:\n",
      "   Index   Name   Inverse  Order\n",
      "      0       e       e       1\n",
      "      1       h       h       2\n",
      "      2       v       v       2\n",
      "      3       r       r       2\n",
      "Cayley Table (showing indices):\n",
      "[[0, 1, 2, 3], [1, 0, 3, 2], [2, 3, 0, 1], [3, 2, 1, 0]]\n"
     ]
    }
   ],
   "source": [
    "V4 = ex[7]\n",
    "V4.about()"
   ]
  },
  {
   "cell_type": "code",
   "execution_count": 10,
   "id": "e6f367b5",
   "metadata": {},
   "outputs": [],
   "source": [
    "elem_to_array_mapping, X, Y, Z = V4.regular_representation()"
   ]
  },
  {
   "cell_type": "code",
   "execution_count": 11,
   "id": "6aafb97e",
   "metadata": {},
   "outputs": [
    {
     "data": {
      "text/plain": [
       "True"
      ]
     },
     "execution_count": 11,
     "metadata": {},
     "output_type": "execute_result"
    }
   ],
   "source": [
    "V4.verify_regular_representation(Y, Z)"
   ]
  },
  {
   "cell_type": "code",
   "execution_count": 12,
   "id": "ac1659b8",
   "metadata": {},
   "outputs": [
    {
     "data": {
      "text/plain": [
       "{'e': array([[1., 0., 0., 0.],\n",
       "        [0., 1., 0., 0.],\n",
       "        [0., 0., 1., 0.],\n",
       "        [0., 0., 0., 1.]]),\n",
       " 'h': array([[0., 1., 0., 0.],\n",
       "        [1., 0., 0., 0.],\n",
       "        [0., 0., 0., 1.],\n",
       "        [0., 0., 1., 0.]]),\n",
       " 'v': array([[0., 0., 1., 0.],\n",
       "        [0., 0., 0., 1.],\n",
       "        [1., 0., 0., 0.],\n",
       "        [0., 1., 0., 0.]]),\n",
       " 'r': array([[0., 0., 0., 1.],\n",
       "        [0., 0., 1., 0.],\n",
       "        [0., 1., 0., 0.],\n",
       "        [1., 0., 0., 0.]])}"
      ]
     },
     "execution_count": 12,
     "metadata": {},
     "output_type": "execute_result"
    }
   ],
   "source": [
    "elem_to_array_mapping"
   ]
  },
  {
   "cell_type": "markdown",
   "id": "ba069a3f",
   "metadata": {},
   "source": [
    "## Example: A Monoid"
   ]
  },
  {
   "cell_type": "code",
   "execution_count": 13,
   "id": "72fa1133",
   "metadata": {},
   "outputs": [
    {
     "name": "stdout",
     "output_type": "stream",
     "text": [
      "\n",
      "** Monoid **\n",
      "Name: M6\n",
      "Instance ID: 4482036496\n",
      "Description: Autogenerated commutative Monoid of order 6\n",
      "Order: 6\n",
      "Identity: a1\n",
      "Associative? Yes\n",
      "Commutative? Yes\n",
      "Cyclic?: No\n",
      "Elements: ['a0', 'a1', 'a2', 'a3', 'a4', 'a5']\n",
      "Has Inverses? No\n",
      "Cayley Table (showing indices):\n",
      "[[0, 0, 0, 0, 0, 0],\n",
      " [0, 1, 2, 3, 4, 5],\n",
      " [0, 2, 4, 0, 2, 4],\n",
      " [0, 3, 0, 3, 0, 3],\n",
      " [0, 4, 2, 0, 4, 2],\n",
      " [0, 5, 4, 3, 2, 1]]\n"
     ]
    }
   ],
   "source": [
    "M6 = alg.generate_commutative_monoid(6)\n",
    "M6.about()"
   ]
  },
  {
   "cell_type": "code",
   "execution_count": 14,
   "id": "d6980ea3",
   "metadata": {},
   "outputs": [],
   "source": [
    "elem_to_array_mapping, X, Y, Z = M6.regular_representation()"
   ]
  },
  {
   "cell_type": "code",
   "execution_count": 15,
   "id": "262e4c2d",
   "metadata": {},
   "outputs": [
    {
     "data": {
      "text/plain": [
       "True"
      ]
     },
     "execution_count": 15,
     "metadata": {},
     "output_type": "execute_result"
    }
   ],
   "source": [
    "M6.verify_regular_representation(Y, Z)"
   ]
  },
  {
   "cell_type": "code",
   "execution_count": 16,
   "id": "be856a41",
   "metadata": {},
   "outputs": [
    {
     "data": {
      "text/plain": [
       "{'a0': array([[1., 1., 1., 1., 1., 1.],\n",
       "        [0., 0., 0., 0., 0., 0.],\n",
       "        [0., 0., 0., 0., 0., 0.],\n",
       "        [0., 0., 0., 0., 0., 0.],\n",
       "        [0., 0., 0., 0., 0., 0.],\n",
       "        [0., 0., 0., 0., 0., 0.]]),\n",
       " 'a1': array([[1., 0., 0., 0., 0., 0.],\n",
       "        [0., 1., 0., 0., 0., 0.],\n",
       "        [0., 0., 1., 0., 0., 0.],\n",
       "        [0., 0., 0., 1., 0., 0.],\n",
       "        [0., 0., 0., 0., 1., 0.],\n",
       "        [0., 0., 0., 0., 0., 1.]]),\n",
       " 'a2': array([[1., 0., 0., 1., 0., 0.],\n",
       "        [0., 0., 0., 0., 0., 0.],\n",
       "        [0., 1., 0., 0., 1., 0.],\n",
       "        [0., 0., 0., 0., 0., 0.],\n",
       "        [0., 0., 1., 0., 0., 1.],\n",
       "        [0., 0., 0., 0., 0., 0.]]),\n",
       " 'a3': array([[1., 0., 1., 0., 1., 0.],\n",
       "        [0., 0., 0., 0., 0., 0.],\n",
       "        [0., 0., 0., 0., 0., 0.],\n",
       "        [0., 1., 0., 1., 0., 1.],\n",
       "        [0., 0., 0., 0., 0., 0.],\n",
       "        [0., 0., 0., 0., 0., 0.]]),\n",
       " 'a4': array([[1., 0., 0., 1., 0., 0.],\n",
       "        [0., 0., 0., 0., 0., 0.],\n",
       "        [0., 0., 1., 0., 0., 1.],\n",
       "        [0., 0., 0., 0., 0., 0.],\n",
       "        [0., 1., 0., 0., 1., 0.],\n",
       "        [0., 0., 0., 0., 0., 0.]]),\n",
       " 'a5': array([[1., 0., 0., 0., 0., 0.],\n",
       "        [0., 0., 0., 0., 0., 1.],\n",
       "        [0., 0., 0., 0., 1., 0.],\n",
       "        [0., 0., 0., 1., 0., 0.],\n",
       "        [0., 0., 1., 0., 0., 0.],\n",
       "        [0., 1., 0., 0., 0., 0.]])}"
      ]
     },
     "execution_count": 16,
     "metadata": {},
     "output_type": "execute_result"
    }
   ],
   "source": [
    "elem_to_array_mapping"
   ]
  },
  {
   "cell_type": "markdown",
   "id": "f0b00e85",
   "metadata": {},
   "source": [
    "## Optional Sparse Matrix Output"
   ]
  },
  {
   "cell_type": "markdown",
   "id": "0a95295e",
   "metadata": {},
   "source": [
    "The following updated implementation includes a sparse matrix option.\n",
    "\n",
    "By default, the matrices output by the reguarl representation method are dense arrays. SciPy sparse arrays can be output instead, by setting the input variable, <i>sparse</i>, to one of the following seven strings: \"BSR\", \"COO\", \"CSC\", \"CSR\", \"DIA\", \"DOK\", or \"LIL\". Each one of the seven strings corresponds to one of the seven classes of sparse array supported by SciPy."
   ]
  },
  {
   "cell_type": "markdown",
   "id": "04a7ac38",
   "metadata": {},
   "source": [
    "## Example: Cyclic Group, $Z_4$, with \"CSC\" Sparse Matrix Output"
   ]
  },
  {
   "cell_type": "markdown",
   "id": "baedeb63",
   "metadata": {},
   "source": [
    "CSC = Compressed Sparse Column, one of the seven sparse matrix formats supported by SciPy."
   ]
  },
  {
   "cell_type": "code",
   "execution_count": 17,
   "id": "3af926cd",
   "metadata": {},
   "outputs": [],
   "source": [
    "elem_to_array_mapping, array_to_elem_mapping, elem_to_array_fnc, array_to_elem_fnc = Z4.regular_representation(\"CSC\")"
   ]
  },
  {
   "cell_type": "code",
   "execution_count": 18,
   "id": "7277efcb",
   "metadata": {},
   "outputs": [
    {
     "data": {
      "text/plain": [
       "{'e': <4x4 sparse array of type '<class 'numpy.int64'>'\n",
       " \twith 4 stored elements in Compressed Sparse Column format>,\n",
       " 'a': <4x4 sparse array of type '<class 'numpy.int64'>'\n",
       " \twith 4 stored elements in Compressed Sparse Column format>,\n",
       " 'a^2': <4x4 sparse array of type '<class 'numpy.int64'>'\n",
       " \twith 4 stored elements in Compressed Sparse Column format>,\n",
       " 'a^3': <4x4 sparse array of type '<class 'numpy.int64'>'\n",
       " \twith 4 stored elements in Compressed Sparse Column format>}"
      ]
     },
     "execution_count": 18,
     "metadata": {},
     "output_type": "execute_result"
    }
   ],
   "source": [
    "elem_to_array_mapping"
   ]
  },
  {
   "cell_type": "code",
   "execution_count": 19,
   "id": "f9f0c593",
   "metadata": {},
   "outputs": [
    {
     "name": "stdout",
     "output_type": "stream",
     "text": [
      "e\n",
      "  (0, 0)\t1\n",
      "  (1, 1)\t1\n",
      "  (2, 2)\t1\n",
      "  (3, 3)\t1\n",
      "\n",
      "a\n",
      "  (1, 0)\t1\n",
      "  (2, 1)\t1\n",
      "  (3, 2)\t1\n",
      "  (0, 3)\t1\n",
      "\n",
      "a^2\n",
      "  (2, 0)\t1\n",
      "  (3, 1)\t1\n",
      "  (0, 2)\t1\n",
      "  (1, 3)\t1\n",
      "\n",
      "a^3\n",
      "  (3, 0)\t1\n",
      "  (0, 1)\t1\n",
      "  (1, 2)\t1\n",
      "  (2, 3)\t1\n",
      "\n"
     ]
    }
   ],
   "source": [
    "for elem in Z4:\n",
    "    print(elem)\n",
    "    print(elem_to_array_mapping[elem])\n",
    "    print()"
   ]
  },
  {
   "cell_type": "code",
   "execution_count": 20,
   "id": "9ac02cca",
   "metadata": {},
   "outputs": [
    {
     "data": {
      "text/plain": [
       "{((0, 0), (1, 1), (2, 2), (3, 3)): 'e',\n",
       " ((0, 3), (1, 0), (2, 1), (3, 2)): 'a',\n",
       " ((0, 2), (1, 3), (2, 0), (3, 1)): 'a^2',\n",
       " ((0, 1), (1, 2), (2, 3), (3, 0)): 'a^3'}"
      ]
     },
     "execution_count": 20,
     "metadata": {},
     "output_type": "execute_result"
    }
   ],
   "source": [
    "array_to_elem_mapping"
   ]
  },
  {
   "cell_type": "code",
   "execution_count": 21,
   "id": "0d8371a7",
   "metadata": {},
   "outputs": [
    {
     "name": "stdout",
     "output_type": "stream",
     "text": [
      "  (3, 0)\t1\n",
      "  (0, 1)\t1\n",
      "  (1, 2)\t1\n",
      "  (2, 3)\t1\n"
     ]
    }
   ],
   "source": [
    "a3_array = elem_to_array_fnc('a^3')\n",
    "print(a3_array)"
   ]
  },
  {
   "cell_type": "code",
   "execution_count": 22,
   "id": "e13ca72d",
   "metadata": {},
   "outputs": [
    {
     "data": {
      "text/plain": [
       "'a^3'"
      ]
     },
     "execution_count": 22,
     "metadata": {},
     "output_type": "execute_result"
    }
   ],
   "source": [
    "array_to_elem_fnc(a3_array)"
   ]
  }
 ],
 "metadata": {
  "kernelspec": {
   "display_name": "Python 3 (ipykernel)",
   "language": "python",
   "name": "python3"
  },
  "language_info": {
   "codemirror_mode": {
    "name": "ipython",
    "version": 3
   },
   "file_extension": ".py",
   "mimetype": "text/x-python",
   "name": "python",
   "nbconvert_exporter": "python",
   "pygments_lexer": "ipython3",
   "version": "3.11.4"
  }
 },
 "nbformat": 4,
 "nbformat_minor": 5
}
