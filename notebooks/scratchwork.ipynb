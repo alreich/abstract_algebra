{
 "cells": [
  {
   "cell_type": "markdown",
   "id": "49f64bf9",
   "metadata": {},
   "source": [
    "# Scratchwork"
   ]
  },
  {
   "cell_type": "code",
   "execution_count": 1,
   "id": "0cb5bde5",
   "metadata": {},
   "outputs": [],
   "source": [
    "from finite_algebras import *\n",
    "from cayley_table import *\n",
    "from permutations import *"
   ]
  },
  {
   "cell_type": "code",
   "execution_count": 2,
   "id": "b27f10d3",
   "metadata": {},
   "outputs": [],
   "source": [
    "import os\n",
    "aa_path = os.path.join(os.getenv(\"PYPROJ\"), \"abstract_algebra\")\n",
    "alg_dir = os.path.join(aa_path, \"Algebras\")"
   ]
  },
  {
   "cell_type": "code",
   "execution_count": 3,
   "id": "16d45aa6",
   "metadata": {},
   "outputs": [
    {
     "name": "stdout",
     "output_type": "stream",
     "text": [
      "======================================================================\n",
      "                           Example Algebras\n",
      "----------------------------------------------------------------------\n",
      "  13 example algebras are available.\n",
      "  Use \"get_example(INDEX)\" to retrieve a specific example,\n",
      "  where INDEX is the first number on each line below:\n",
      "----------------------------------------------------------------------\n",
      "0: A4 -- Alternating group on 4 letters (AKA Tetrahedral group)\n",
      "1: D3 -- https://en.wikipedia.org/wiki/Dihedral_group_of_order_6\n",
      "2: D4 -- Dihedral group on four vertices\n",
      "3: Pinter29 -- Non-abelian group, p.29, 'A Book of Abstract Algebra' by Charles C. Pinter\n",
      "4: RPS -- Rock, Paper, Scissors Magma\n",
      "5: S3 -- Symmetric group on 3 letters\n",
      "6: S3X -- Another version of the symmetric group on 3 letters\n",
      "7: V4 -- Klein-4 group\n",
      "8: Z4 -- Cyclic group of order 4\n",
      "9: F4 -- Field with 4 elements (from Wikipedia)\n",
      "10: mag_id -- Magma with Identity\n",
      "11: Example 1.4.1 -- See: Groupoids and Smarandache Groupoids by W. B. Vasantha Kandasamy\n",
      "12: Ex6 -- Example 6: http://www-groups.mcs.st-andrews.ac.uk/~john/MT4517/Lectures/L3.html\n",
      "======================================================================\n"
     ]
    }
   ],
   "source": [
    "ex = Examples(alg_dir)"
   ]
  },
  {
   "cell_type": "code",
   "execution_count": 4,
   "id": "2f2189e6",
   "metadata": {},
   "outputs": [
    {
     "data": {
      "text/plain": [
       "Group(\n",
       "'A4',\n",
       "'Alternating group on 4 letters (AKA Tetrahedral group)',\n",
       "['()', '(1 3 2)', '(1 2 3)', '(0 1)(2 3)', '(0 1 2)', '(0 1 3)', '(0 3 1)', '(0 3 2)', '(0 3)(1 2)', '(0 2 3)', '(0 2 1)', '(0 2)(1 3)'],\n",
       "[[0, 1, 2, 3, 4, 5, 6, 7, 8, 9, 10, 11], [1, 2, 0, 6, 7, 8, 10, 11, 9, 5, 3, 4], [2, 0, 1, 10, 11, 9, 3, 4, 5, 8, 6, 7], [3, 4, 5, 0, 1, 2, 9, 10, 11, 6, 7, 8], [4, 5, 3, 9, 10, 11, 7, 8, 6, 2, 0, 1], [5, 3, 4, 7, 8, 6, 0, 1, 2, 11, 9, 10], [6, 7, 8, 1, 2, 0, 5, 3, 4, 10, 11, 9], [7, 8, 6, 5, 3, 4, 11, 9, 10, 0, 1, 2], [8, 6, 7, 11, 9, 10, 1, 2, 0, 4, 5, 3], [9, 10, 11, 4, 5, 3, 2, 0, 1, 7, 8, 6], [10, 11, 9, 2, 0, 1, 8, 6, 7, 3, 4, 5], [11, 9, 10, 8, 6, 7, 4, 5, 3, 1, 2, 0]]\n",
       ")"
      ]
     },
     "execution_count": 4,
     "metadata": {},
     "output_type": "execute_result"
    }
   ],
   "source": [
    "a4 = ex.get_example(0)\n",
    "a4"
   ]
  },
  {
   "cell_type": "code",
   "execution_count": 5,
   "id": "62e3fdbd",
   "metadata": {},
   "outputs": [
    {
     "data": {
      "text/plain": [
       "{'name': 'A4',\n",
       " 'description': 'Alternating group on 4 letters (AKA Tetrahedral group)',\n",
       " 'elements': ['()',\n",
       "  '(1 3 2)',\n",
       "  '(1 2 3)',\n",
       "  '(0 1)(2 3)',\n",
       "  '(0 1 2)',\n",
       "  '(0 1 3)',\n",
       "  '(0 3 1)',\n",
       "  '(0 3 2)',\n",
       "  '(0 3)(1 2)',\n",
       "  '(0 2 3)',\n",
       "  '(0 2 1)',\n",
       "  '(0 2)(1 3)'],\n",
       " 'table': [[0, 1, 2, 3, 4, 5, 6, 7, 8, 9, 10, 11],\n",
       "  [1, 2, 0, 6, 7, 8, 10, 11, 9, 5, 3, 4],\n",
       "  [2, 0, 1, 10, 11, 9, 3, 4, 5, 8, 6, 7],\n",
       "  [3, 4, 5, 0, 1, 2, 9, 10, 11, 6, 7, 8],\n",
       "  [4, 5, 3, 9, 10, 11, 7, 8, 6, 2, 0, 1],\n",
       "  [5, 3, 4, 7, 8, 6, 0, 1, 2, 11, 9, 10],\n",
       "  [6, 7, 8, 1, 2, 0, 5, 3, 4, 10, 11, 9],\n",
       "  [7, 8, 6, 5, 3, 4, 11, 9, 10, 0, 1, 2],\n",
       "  [8, 6, 7, 11, 9, 10, 1, 2, 0, 4, 5, 3],\n",
       "  [9, 10, 11, 4, 5, 3, 2, 0, 1, 7, 8, 6],\n",
       "  [10, 11, 9, 2, 0, 1, 8, 6, 7, 3, 4, 5],\n",
       "  [11, 9, 10, 8, 6, 7, 4, 5, 3, 1, 2, 0]],\n",
       " 'type': 'Group'}"
      ]
     },
     "execution_count": 5,
     "metadata": {},
     "output_type": "execute_result"
    }
   ],
   "source": [
    "a4.to_dict(include_classname=True)"
   ]
  },
  {
   "cell_type": "code",
   "execution_count": 6,
   "id": "ab38bb47",
   "metadata": {},
   "outputs": [
    {
     "data": {
      "text/plain": [
       "Field(\n",
       "'F4',\n",
       "'Field with 4 elements (from Wikipedia)',\n",
       "['0', '1', 'a', '1+a'],\n",
       "[[0, 1, 2, 3], [1, 0, 3, 2], [2, 3, 0, 1], [3, 2, 1, 0]],\n",
       "[[0, 0, 0, 0], [0, 1, 2, 3], [0, 2, 3, 1], [0, 3, 1, 2]]\n",
       ")"
      ]
     },
     "execution_count": 6,
     "metadata": {},
     "output_type": "execute_result"
    }
   ],
   "source": [
    "f4 = ex.get_example(9)\n",
    "f4"
   ]
  },
  {
   "cell_type": "code",
   "execution_count": 7,
   "id": "aa0411d7",
   "metadata": {},
   "outputs": [
    {
     "data": {
      "text/plain": [
       "{'name': 'F4',\n",
       " 'description': 'Field with 4 elements (from Wikipedia)',\n",
       " 'elements': ['0', '1', 'a', '1+a'],\n",
       " 'table': [[0, 1, 2, 3], [1, 0, 3, 2], [2, 3, 0, 1], [3, 2, 1, 0]],\n",
       " 'table2': [[0, 0, 0, 0], [0, 1, 2, 3], [0, 2, 3, 1], [0, 3, 1, 2]],\n",
       " 'type': 'Field'}"
      ]
     },
     "execution_count": 7,
     "metadata": {},
     "output_type": "execute_result"
    }
   ],
   "source": [
    "f4_dict = f4.to_dict(include_classname=True)\n",
    "f4_dict"
   ]
  },
  {
   "cell_type": "code",
   "execution_count": 8,
   "id": "5f73bd49",
   "metadata": {},
   "outputs": [
    {
     "data": {
      "text/plain": [
       "Field(\n",
       "'F4',\n",
       "'Field with 4 elements (from Wikipedia)',\n",
       "['0', '1', 'a', '1+a'],\n",
       "[[0, 1, 2, 3], [1, 0, 3, 2], [2, 3, 0, 1], [3, 2, 1, 0]],\n",
       "[[0, 0, 0, 0], [0, 1, 2, 3], [0, 2, 3, 1], [0, 3, 1, 2]]\n",
       ")"
      ]
     },
     "execution_count": 8,
     "metadata": {},
     "output_type": "execute_result"
    }
   ],
   "source": [
    "f4x = make_finite_algebra(f4_dict)\n",
    "f4x"
   ]
  },
  {
   "cell_type": "code",
   "execution_count": 9,
   "id": "664a9821",
   "metadata": {},
   "outputs": [
    {
     "data": {
      "text/plain": [
       "False"
      ]
     },
     "execution_count": 9,
     "metadata": {},
     "output_type": "execute_result"
    }
   ],
   "source": [
    "f4 == f4x"
   ]
  },
  {
   "cell_type": "code",
   "execution_count": 10,
   "id": "9c74e405",
   "metadata": {},
   "outputs": [
    {
     "name": "stdout",
     "output_type": "stream",
     "text": [
      "<Field:F4, ID:140472147762448>\n"
     ]
    }
   ],
   "source": [
    "print(f4)"
   ]
  },
  {
   "cell_type": "code",
   "execution_count": 11,
   "id": "ca296389",
   "metadata": {},
   "outputs": [
    {
     "name": "stdout",
     "output_type": "stream",
     "text": [
      "<Field:F4, ID:140472147886864>\n"
     ]
    }
   ],
   "source": [
    "print(f4x)"
   ]
  },
  {
   "cell_type": "code",
   "execution_count": null,
   "id": "7b929b57",
   "metadata": {},
   "outputs": [],
   "source": []
  }
 ],
 "metadata": {
  "kernelspec": {
   "display_name": "Python 3",
   "language": "python",
   "name": "python3"
  },
  "language_info": {
   "codemirror_mode": {
    "name": "ipython",
    "version": 3
   },
   "file_extension": ".py",
   "mimetype": "text/x-python",
   "name": "python",
   "nbconvert_exporter": "python",
   "pygments_lexer": "ipython3",
   "version": "3.7.7"
  }
 },
 "nbformat": 4,
 "nbformat_minor": 5
}
