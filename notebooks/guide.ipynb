{
 "cells": [
  {
   "cell_type": "markdown",
   "id": "bfed4408",
   "metadata": {},
   "source": [
    "# User Guide"
   ]
  },
  {
   "cell_type": "markdown",
   "id": "b5737046",
   "metadata": {},
   "source": [
    "## Installation\n",
    "\n",
    "This module runs under Python 3.7+ and requires **numpy**.\n",
    "\n",
    "Clone the github repository to install:"
   ]
  },
  {
   "cell_type": "raw",
   "id": "8f0cf57c",
   "metadata": {},
   "source": [
    "$ git clone https://github.com/alreich/abstract_algebra.git"
   ]
  },
  {
   "cell_type": "markdown",
   "id": "688a56d1",
   "metadata": {},
   "source": [
    "Add the *abstract_algebra* directory to your *PYTHONPATH*.\n",
    "\n",
    "<b>Note</b>: In the examples, below, an environment variable, *PYPROJ*, points to the directory containing the *abstract_algebra* directory."
   ]
  },
  {
   "cell_type": "markdown",
   "id": "8f522dfd",
   "metadata": {},
   "source": [
    "## Internal Representation of a Finite Group\n",
    "\n",
    "Internally, the finite Group object consists of four quantities:\n",
    "\n",
    "* **name**: (``str``) A short name for the Group;\n",
    "* **description**: (``str``) Any additional, useful information about the Group;\n",
    "* **element_names**: (``list`` of ``str``) The Group’s element names, where the\n",
    "  first element in the list is the Group’s identity element (usually denoted by ``e``);\n",
    "* **mult_table**: (``list`` of ``list`` of ``int``) The Group’s multiplication\n",
    "  table, where each list in the list represents a row of the table, and\n",
    "  each integer represents the position of an element in ‘element_names’.\n",
    "  The table must be:\n",
    "\n",
    "  * Square. The row & column length equal the number of elements, say, n;\n",
    "  * The first row and first column should be the [0, 1, 2, …, n-1], in that exact order;\n",
    "  * Every row and column should contain the same integers, in a different order,\n",
    "    so that no row or column contains the same integer twice.  This is a consequence of\n",
    "    the fact that every element in a group is unique and has an inverse that is also in the group.\n",
    "  * Capable of supporting associativity of the multiplication operator.  This last requirement\n",
    "    is automatically checked by the group constructor."
   ]
  },
  {
   "cell_type": "markdown",
   "id": "2ced2e40",
   "metadata": {},
   "source": [
    "## Group Constuction\n",
    "\n",
    "A Group object can be instantiated in several ways:\n",
    "\n",
    "1. Enter **four values** corresponding to the quantities described above, in\n",
    "   the order shown above.\n",
    "2. Enter **three values** corresponding to ``name``, ``description``, and ``mult_table``,\n",
    "   where ``mult_table`` uses element names (``str``) instead of ``int`` positions.\n",
    "   The string-based ``mult_table`` must follow rules, similar to those described\n",
    "   above:\n",
    "   * The identity element comes first in the first row and first column;\n",
    "   * The order of names in the first row and first column should be identical;\n",
    "   * No row or column contains the same element name twice.\n",
    "\n",
    "3. Enter a **Python dictionary**, with keys and values corresponding to\n",
    "   either the four value or three value input schemes, described above.\n",
    "4. Enter the **path to a JSON file** (``str``) that corresponds to the\n",
    "   dictionary described above."
   ]
  },
  {
   "cell_type": "markdown",
   "id": "c3eb4a9c",
   "metadata": {},
   "source": [
    "## Usage"
   ]
  },
  {
   "cell_type": "code",
   "execution_count": 1,
   "id": "4bdff168",
   "metadata": {},
   "outputs": [
    {
     "data": {
      "text/plain": [
       "Group(\n",
       "Z3,\n",
       "Cyclic group of order 3,\n",
       "['e', 'a', 'a^2'],\n",
       "[[0, 1, 2], [1, 2, 0], [2, 0, 1]]\n",
       ")"
      ]
     },
     "execution_count": 1,
     "metadata": {},
     "output_type": "execute_result"
    }
   ],
   "source": [
    ">>> from finite_algebras import Group, make_finite_algebra\n",
    "\n",
    ">>> z3 = Group('Z3',\n",
    "               'Cyclic group of order 3',\n",
    "               ['e', 'a', 'a^2'],\n",
    "               [[ 'e' ,  'a' , 'a^2'],\n",
    "                [ 'a' , 'a^2',  'e' ],\n",
    "                ['a^2',  'e' ,  'a' ]]\n",
    "              )\n",
    ">>> z3"
   ]
  },
  {
   "cell_type": "markdown",
   "id": "56901fc4",
   "metadata": {},
   "source": [
    "Below, we setup some useful path variables, one the points to the abstract_algebra directory, and the other pointing to a subdirectory containing algebra definitions in JSON format.\n",
    "\n",
    "**Note**: The code here assumes that there is an environment\n",
    "variable, ``PYPROJ``, that points to the directory containing the abstract_algebra directory."
   ]
  },
  {
   "cell_type": "code",
   "execution_count": 2,
   "id": "575a0061",
   "metadata": {},
   "outputs": [],
   "source": [
    ">>> import os\n",
    ">>> aa_path = os.path.join(os.getenv(\"PYPROJ\"), \"abstract_algebra\")\n",
    ">>> alg_dir = os.path.join(aa_path, \"Algebras\")"
   ]
  },
  {
   "cell_type": "markdown",
   "id": "cfdb43e8",
   "metadata": {},
   "source": [
    "Here's a look at the Klein-4 Group in JSON format"
   ]
  },
  {
   "cell_type": "code",
   "execution_count": 3,
   "id": "9c7c9bed",
   "metadata": {},
   "outputs": [
    {
     "name": "stdout",
     "output_type": "stream",
     "text": [
      "{\"type\": \"Group\",\r\n",
      " \"name\": \"V4\",\r\n",
      " \"description\": \"Klein-4 group\",\r\n",
      " \"element_names\": [\"e\", \"h\", \"v\", \"r\"],\r\n",
      " \"mult_table\": [[0, 1, 2, 3],\r\n",
      "                [1, 0, 3, 2],\r\n",
      "                [2, 3, 0, 1],\r\n",
      "                [3, 2, 1, 0]]\r\n",
      "}\r\n"
     ]
    }
   ],
   "source": [
    ">>> v4_json = os.path.join(alg_dir, \"v4_klein_4_group.json\")\n",
    ">>> !cat {v4_json}"
   ]
  },
  {
   "cell_type": "markdown",
   "id": "bd36bd01",
   "metadata": {},
   "source": [
    "The JSON definition of a group can be used to instantiate a Group object:"
   ]
  },
  {
   "cell_type": "code",
   "execution_count": 4,
   "id": "be859466",
   "metadata": {},
   "outputs": [
    {
     "data": {
      "text/plain": [
       "Group(\n",
       "V4,\n",
       "Klein-4 group,\n",
       "['e', 'h', 'v', 'r'],\n",
       "[[0, 1, 2, 3], [1, 0, 3, 2], [2, 3, 0, 1], [3, 2, 1, 0]]\n",
       ")"
      ]
     },
     "execution_count": 4,
     "metadata": {},
     "output_type": "execute_result"
    }
   ],
   "source": [
    "#>>> v4 = Group(v4_json)\n",
    ">>> v4 = make_finite_algebra(v4_json)\n",
    ">>> v4"
   ]
  },
  {
   "cell_type": "markdown",
   "id": "2bab20e9",
   "metadata": {},
   "source": [
    "Pretty print, ``pprint``, tries to print the table in human-readable form.  Calling it with its single argument set to ``True`` will print the multiplication table using element names, rather than the positions of element names in the element name list:"
   ]
  },
  {
   "cell_type": "code",
   "execution_count": 7,
   "id": "7230a30a",
   "metadata": {},
   "outputs": [],
   "source": [
    "# >>> v4.pprint(True)"
   ]
  },
  {
   "cell_type": "markdown",
   "id": "b5b0b85e",
   "metadata": {},
   "source": [
    "An element's inverse can be obtained using the ``inverse`` method.\n",
    "\n",
    "**NOTE**: Every element in the Klein-4 group is its own inverse."
   ]
  },
  {
   "cell_type": "code",
   "execution_count": 8,
   "id": "9fbcc48d",
   "metadata": {},
   "outputs": [
    {
     "data": {
      "text/plain": [
       "'h'"
      ]
     },
     "execution_count": 8,
     "metadata": {},
     "output_type": "execute_result"
    }
   ],
   "source": [
    ">>> h_inv = v4.inv('h')\n",
    ">>> h_inv"
   ]
  },
  {
   "cell_type": "markdown",
   "id": "bf66eb42",
   "metadata": {},
   "source": [
    "Algebra elements can be *multiplied* using the Group method, ``mult``."
   ]
  },
  {
   "cell_type": "code",
   "execution_count": 10,
   "id": "56c839b1",
   "metadata": {},
   "outputs": [
    {
     "data": {
      "text/plain": [
       "'r'"
      ]
     },
     "execution_count": 10,
     "metadata": {},
     "output_type": "execute_result"
    }
   ],
   "source": [
    ">>> v4.op('h', 'v')  # h * v = hv"
   ]
  },
  {
   "cell_type": "markdown",
   "id": "9be36f67",
   "metadata": {},
   "source": [
    "``mult`` can be called with zero or more arguments.\n",
    "\n",
    "Calling ``mult`` without any arguments will return the identity element for the group."
   ]
  },
  {
   "cell_type": "code",
   "execution_count": 12,
   "id": "45748c49",
   "metadata": {},
   "outputs": [],
   "source": [
    "# >>> v4.op()"
   ]
  },
  {
   "cell_type": "markdown",
   "id": "8b44fe0e",
   "metadata": {},
   "source": [
    "Calling ``mult`` with only one argument will simply return that argument."
   ]
  },
  {
   "cell_type": "code",
   "execution_count": 14,
   "id": "7226663a",
   "metadata": {},
   "outputs": [
    {
     "data": {
      "text/plain": [
       "'h'"
      ]
     },
     "execution_count": 14,
     "metadata": {},
     "output_type": "execute_result"
    }
   ],
   "source": [
    ">>> v4.op('h')"
   ]
  },
  {
   "cell_type": "markdown",
   "id": "86807aa8",
   "metadata": {},
   "source": [
    "Calling ``mult`` with more than two arguments will return the product of all of the arguments.\n",
    "\n",
    "e.g., $h \\times v \\times h^{-1} = v$"
   ]
  },
  {
   "cell_type": "code",
   "execution_count": 15,
   "id": "5752f31b",
   "metadata": {},
   "outputs": [
    {
     "data": {
      "text/plain": [
       "'v'"
      ]
     },
     "execution_count": 15,
     "metadata": {},
     "output_type": "execute_result"
    }
   ],
   "source": [
    ">>> v4.op('h', 'v', h_inv)"
   ]
  },
  {
   "cell_type": "markdown",
   "id": "b7aa6518",
   "metadata": {},
   "source": [
    "A group can be tested to determine if it's **abelian**:"
   ]
  },
  {
   "cell_type": "code",
   "execution_count": 16,
   "id": "f2714665",
   "metadata": {},
   "outputs": [
    {
     "data": {
      "text/plain": [
       "True"
      ]
     },
     "execution_count": 16,
     "metadata": {},
     "output_type": "execute_result"
    }
   ],
   "source": [
    ">>> v4.is_abelian()"
   ]
  },
  {
   "cell_type": "markdown",
   "id": "b2accec1",
   "metadata": {},
   "source": [
    "A **cyclic group** of any order can be automatically generated:"
   ]
  },
  {
   "cell_type": "code",
   "execution_count": null,
   "id": "aba81d5a",
   "metadata": {},
   "outputs": [],
   "source": [
    ">>> z4 = alg.generate_cyclic_group(4)\n",
    ">>> z4"
   ]
  },
  {
   "cell_type": "markdown",
   "id": "28bec5ea",
   "metadata": {},
   "source": [
    "The ``about`` method provides information about a group."
   ]
  },
  {
   "cell_type": "code",
   "execution_count": 17,
   "id": "bd43c1be",
   "metadata": {},
   "outputs": [
    {
     "ename": "NameError",
     "evalue": "name 'z4' is not defined",
     "output_type": "error",
     "traceback": [
      "\u001b[0;31m---------------------------------------------------------------------------\u001b[0m",
      "\u001b[0;31mNameError\u001b[0m                                 Traceback (most recent call last)",
      "\u001b[0;32m<ipython-input-17-a60bb1138476>\u001b[0m in \u001b[0;36m<module>\u001b[0;34m\u001b[0m\n\u001b[0;32m----> 1\u001b[0;31m \u001b[0mz4\u001b[0m\u001b[0;34m.\u001b[0m\u001b[0mabout\u001b[0m\u001b[0;34m(\u001b[0m\u001b[0muse_table_names\u001b[0m\u001b[0;34m=\u001b[0m\u001b[0;32mTrue\u001b[0m\u001b[0;34m)\u001b[0m\u001b[0;34m\u001b[0m\u001b[0;34m\u001b[0m\u001b[0m\n\u001b[0m",
      "\u001b[0;31mNameError\u001b[0m: name 'z4' is not defined"
     ]
    }
   ],
   "source": [
    "z4.about(use_table_names=True)"
   ]
  },
  {
   "cell_type": "markdown",
   "id": "69f8ed33",
   "metadata": {},
   "source": [
    "The **direct product** of two or more groups can be generated using Python's multiplication operator, ``*``:"
   ]
  },
  {
   "cell_type": "code",
   "execution_count": null,
   "id": "d8e5b8eb",
   "metadata": {},
   "outputs": [],
   "source": [
    ">>> z2 = alg.generate_cyclic_group(2)\n",
    ">>> z2"
   ]
  },
  {
   "cell_type": "code",
   "execution_count": null,
   "id": "b5c39cc5",
   "metadata": {},
   "outputs": [],
   "source": [
    ">>> z2_x_z2 = z2 * z2\n",
    ">>> z2_x_z2"
   ]
  },
  {
   "cell_type": "markdown",
   "id": "fca67490",
   "metadata": {},
   "source": [
    "If two groups are isomorphic, then the mapping between their elements is returned as a Python dictionary."
   ]
  },
  {
   "cell_type": "code",
   "execution_count": null,
   "id": "50405ceb",
   "metadata": {},
   "outputs": [],
   "source": [
    ">>> v4.isomorphic(z2_x_z2)"
   ]
  },
  {
   "cell_type": "markdown",
   "id": "300d2294",
   "metadata": {},
   "source": [
    "If two groups are not isomorphic, then ``False`` is returned."
   ]
  },
  {
   "cell_type": "code",
   "execution_count": null,
   "id": "a2def333",
   "metadata": {},
   "outputs": [],
   "source": [
    ">>> z4.isomorphic(z2_x_z2)"
   ]
  },
  {
   "cell_type": "markdown",
   "id": "12816124",
   "metadata": {},
   "source": [
    "The proper subgroups of a group can also be computed."
   ]
  },
  {
   "cell_type": "code",
   "execution_count": null,
   "id": "7ffc6c98",
   "metadata": {},
   "outputs": [],
   "source": [
    ">>> z8 = alg.generate_cyclic_group(8)\n",
    ">>> z8.proper_subgroups()"
   ]
  },
  {
   "cell_type": "markdown",
   "id": "9c7d44b2",
   "metadata": {},
   "source": [
    "## Autogeneration of Groups\n",
    "\n",
    "There are three functions for autogenerating groups:\n",
    "* ``autogenerate_cyclic_group``\n",
    "* ``autogenerate_symmetric_group``\n",
    "* ``autogenerate_powerset_group``\n",
    "\n",
    "The autogeneration of cyclic groups was demonstrated above.  Usage of the other two group autogenerators is illustrated below.\n",
    "\n",
    "The symmetric group, based on the permutations of <b>n</b> elements, (1, 2, 3, ..., n), can be generated using ``autogenerate_symmetric_group``.\n",
    "\n",
    "<b>WARNING</b>: Since the order of an autogenerated symmetric group is <b>n!</b>, even small values of n can result in large groups, which, in turn, can result in long runtimes associated with operations performed on them."
   ]
  },
  {
   "cell_type": "code",
   "execution_count": null,
   "id": "ccc023ce",
   "metadata": {},
   "outputs": [],
   "source": [
    "s3 = alg.generate_symmetric_group(3)\n",
    "s3.about()"
   ]
  },
  {
   "cell_type": "markdown",
   "id": "e70f2964",
   "metadata": {},
   "source": [
    "The function, ``autogenerate_powerset_group``, will generate a group on the powerset of {0, 1, 2, ..., n} with <b>symmetric difference</b> as the groups binary operation.  This group is useful because it can be used to form a ring with set intersection as the second operator.\n",
    "\n",
    "This means that the order of the autogenerated powerset group will be $2^n$, so the same WARNING as above applies.\n",
    "\n",
    "Note that, in the powerset example below, tuples are used as elements, rather than sets, because the implementation needs to index elements, and you can't do that with sets."
   ]
  },
  {
   "cell_type": "code",
   "execution_count": null,
   "id": "e108002c",
   "metadata": {},
   "outputs": [],
   "source": [
    "ps3 = alg.generate_powerset_group(3)\n",
    "ps3.about()\n",
    "\n",
    "#print(f\"\\nIdentity Element: {ps3.identity}\")\n",
    "#print(f\"Abelian? {ps3.is_abelian()}\\n\")"
   ]
  },
  {
   "cell_type": "code",
   "execution_count": null,
   "id": "e5de69f7",
   "metadata": {},
   "outputs": [],
   "source": [
    "ps3_proper_subgroups = ps3.proper_subgroups()\n",
    "\n",
    "print(f\"{ps3.name} has {len(ps3_proper_subgroups)} proper subgroups.\")\n",
    "\n",
    "unique_subgroups = alg.divide_groups_into_isomorphic_sets(ps3_proper_subgroups)\n",
    "\n",
    "print(f\"But, up to isomorphisms, only {len(unique_subgroups)} are proper subgroups.\")"
   ]
  },
  {
   "cell_type": "markdown",
   "id": "be49889b",
   "metadata": {},
   "source": [
    "Here are the two unique, up to isomorphism, subgroups of PS3:"
   ]
  },
  {
   "cell_type": "code",
   "execution_count": null,
   "id": "d5e1af92",
   "metadata": {},
   "outputs": [],
   "source": [
    "_ = [subgroup[0].pprint() for subgroup in unique_subgroups]"
   ]
  },
  {
   "cell_type": "code",
   "execution_count": null,
   "id": "abef102f",
   "metadata": {},
   "outputs": [],
   "source": []
  }
 ],
 "metadata": {
  "kernelspec": {
   "display_name": "Python 3",
   "language": "python",
   "name": "python3"
  },
  "language_info": {
   "codemirror_mode": {
    "name": "ipython",
    "version": 3
   },
   "file_extension": ".py",
   "mimetype": "text/x-python",
   "name": "python",
   "nbconvert_exporter": "python",
   "pygments_lexer": "ipython3",
   "version": "3.7.7"
  }
 },
 "nbformat": 4,
 "nbformat_minor": 5
}
