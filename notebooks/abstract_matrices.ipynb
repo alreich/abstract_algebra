{
 "cells": [
  {
   "cell_type": "markdown",
   "id": "6ef26608",
   "metadata": {},
   "source": [
    "# Abstract Matrices"
   ]
  },
  {
   "cell_type": "code",
   "execution_count": 1,
   "id": "4d3ccce8",
   "metadata": {},
   "outputs": [
    {
     "name": "stdout",
     "output_type": "stream",
     "text": [
      "======================================================================\n",
      "                           Example Algebras\n",
      "----------------------------------------------------------------------\n",
      "  17 example algebras are available.\n",
      "  Use \"Examples[INDEX]\" to retrieve a specific example,\n",
      "  where INDEX is the first number on each line below:\n",
      "----------------------------------------------------------------------\n",
      "0: A4 -- Alternating group on 4 letters (AKA Tetrahedral group)\n",
      "1: D3 -- https://en.wikipedia.org/wiki/Dihedral_group_of_order_6\n",
      "2: D4 -- Dihedral group on four vertices\n",
      "3: Pinter29 -- Non-abelian group, p.29, 'A Book of Abstract Algebra' by Charles C. Pinter\n",
      "4: RPS -- Rock, Paper, Scissors Magma\n",
      "5: S3 -- Symmetric group on 3 letters\n",
      "6: S3X -- Another version of the symmetric group on 3 letters\n",
      "7: V4 -- Klein-4 group\n",
      "8: Z4 -- Cyclic group of order 4\n",
      "9: F4 -- Field with 4 elements (from Wikipedia)\n",
      "10: mag_id -- Magma with Identity\n",
      "11: Example 1.4.1 -- See: Groupoids and Smarandache Groupoids by W. B. Vasantha Kandasamy\n",
      "12: Ex6 -- Example 6: http://www-groups.mcs.st-andrews.ac.uk/~john/MT4517/Lectures/L3.html\n",
      "13: Q8 -- Quaternion Group\n",
      "14: SD16 -- Semidihedral group of order 16\n",
      "15: A5 -- Alternating group on 5 letters\n",
      "16: F2 -- Field with 2 elements from paper: 236w06fields.pdf\n",
      "======================================================================\n"
     ]
    }
   ],
   "source": [
    "import finite_algebras as alg\n",
    "import numpy as np\n",
    "from abstract_matrix import AbstractMatrix\n",
    "\n",
    "import os\n",
    "aa_path = os.path.join(os.getenv(\"PYPROJ\"), \"abstract_algebra\")\n",
    "alg_dir = os.path.join(aa_path, \"Algebras\")\n",
    "\n",
    "ex = alg.Examples(alg_dir)"
   ]
  },
  {
   "cell_type": "markdown",
   "id": "c2e5fa3f",
   "metadata": {},
   "source": [
    "## Abstract Matrix over a Finite Field"
   ]
  },
  {
   "cell_type": "markdown",
   "id": "11541eb5",
   "metadata": {},
   "source": [
    "First, create a finite field, in this case, the [field with 4 elements from Wikipedia](https://en.wikipedia.org/wiki/Finite_field#Field_with_four_elements)."
   ]
  },
  {
   "cell_type": "code",
   "execution_count": 2,
   "id": "bb3b848d",
   "metadata": {},
   "outputs": [
    {
     "name": "stdout",
     "output_type": "stream",
     "text": [
      "\n",
      "** Field **\n",
      "Name: F4\n",
      "Instance ID: 4510774864\n",
      "Description: Field with 4 elements (from Wikipedia)\n",
      "Order: 4\n",
      "Identity: 0\n",
      "Commutative? Yes\n",
      "Cyclic?: Yes\n",
      "  Generators: ['c', 'd']\n",
      "Elements:\n",
      "   Index   Name   Inverse  Order\n",
      "      0       0       0       1\n",
      "      1       1       1       2\n",
      "      2       c       c       2\n",
      "      3       d       d       2\n",
      "Cayley Table (showing names):\n",
      "[['0', '1', 'c', 'd'],\n",
      " ['1', '0', 'd', 'c'],\n",
      " ['c', 'd', '0', '1'],\n",
      " ['d', 'c', '1', '0']]\n",
      "Mult. Identity: 1\n",
      "Mult. Commutative? Yes\n",
      "Zero Divisors: None\n",
      "Multiplicative Cayley Table (showing names):\n",
      "[['0', '0', '0', '0'],\n",
      " ['0', '1', 'c', 'd'],\n",
      " ['0', 'c', 'd', '1'],\n",
      " ['0', 'd', '1', 'c']]\n"
     ]
    }
   ],
   "source": [
    "f4 = alg.make_finite_algebra('F4',\n",
    "                             'Field with 4 elements (from Wikipedia)',\n",
    "                             #['0', '1', 'a', '1+a'],\n",
    "                             ['0', '1', 'c', 'd'],\n",
    "                             [[0, 1, 2, 3], [1, 0, 3, 2], [2, 3, 0, 1], [3, 2, 1, 0]],\n",
    "                             [[0, 0, 0, 0], [0, 1, 2, 3], [0, 2, 3, 1], [0, 3, 1, 2]]\n",
    "                            )\n",
    "\n",
    "f4.about(use_table_names=True)"
   ]
  },
  {
   "cell_type": "markdown",
   "id": "8cc15091",
   "metadata": {},
   "source": [
    "The class method, <i>random</i>, will create an Abstract Matrix, of a specified <i>shape</i>, with elements that are randomly chosen from a specified ring or field. (Fixed seed ONLY used to make the random call, below, repeatable.)"
   ]
  },
  {
   "cell_type": "raw",
   "id": "7b53958c-f5ec-4278-b6ec-7bcd21dc901e",
   "metadata": {},
   "source": [
    "def random_matrix_test(shape, algebra, seed=None):\n",
    "    if seed:\n",
    "        np.random.seed(seed)\n",
    "    mat = AbstractMatrix.random(shape, algebra)\n",
    "    print(f\"\\nRandom Matrix over {algebra.name}:\\n{mat}\")\n",
    "    det = mat.determinant()\n",
    "    print(f\"\\nDeterminant = {det}\")\n",
    "    print(f\"\\nCofactor Matrix:\\n{mat.cofactor_matrix()}\")\n",
    "    inv = mat.inverse()\n",
    "    print(f\"\\nInverse:\\n{inv}\")\n",
    "    print(f\"\\nMatrix * Inverse:\\n{mat * mat.inverse()}\")\n",
    "    print(f\"\\nInverse * Matrix:\\n{mat.inverse() * mat}\")\n",
    "    return mat, det, inv"
   ]
  },
  {
   "cell_type": "code",
   "execution_count": 3,
   "id": "3d8e94b6",
   "metadata": {},
   "outputs": [],
   "source": [
    "def random_matrix_test(shape, algebra, seed=None):\n",
    "    if seed:\n",
    "        np.random.seed(seed)\n",
    "    mat = AbstractMatrix.random(shape, algebra)\n",
    "    det, inv = print_matrix_info(mat)\n",
    "    #print(f\"\\nRandom Matrix over {algebra.name}:\\n{mat}\")\n",
    "    return mat, det, inv"
   ]
  },
  {
   "cell_type": "code",
   "execution_count": 4,
   "id": "7f1fc07f",
   "metadata": {},
   "outputs": [],
   "source": [
    "def print_matrix_info(mat):\n",
    "    print(\"=\"*20)\n",
    "    print(f\"Matrix over {mat.algebra.name}:\\n{mat}\")\n",
    "    det = mat.determinant()\n",
    "    print(f\"\\nDeterminant = {det}\")\n",
    "    print(f\"\\nCofactor Matrix:\\n{mat.cofactor_matrix()}\")\n",
    "    inv = mat.inverse()\n",
    "    print(f\"\\nInverse:\\n{inv}\")\n",
    "    print(f\"\\nMatrix * Inverse:\\n{mat * mat.inverse()}\")\n",
    "    print(f\"\\nInverse * Matrix:\\n{mat.inverse() * mat}\\n\")\n",
    "    print(\"-\"*5)\n",
    "    return det, inv"
   ]
  },
  {
   "cell_type": "code",
   "execution_count": 5,
   "id": "0abe297f-ecaa-4cf0-bbf3-9df9433aaf17",
   "metadata": {},
   "outputs": [
    {
     "name": "stdout",
     "output_type": "stream",
     "text": [
      "====================\n",
      "Matrix over F4:\n",
      "[['1' 'd' '0']\n",
      " ['0' 'd' '1']\n",
      " ['d' '1' 'd']]\n",
      "\n",
      "Determinant = 1\n",
      "\n",
      "Cofactor Matrix:\n",
      "[['d' 'd' 'c']\n",
      " ['c' 'd' 'd']\n",
      " ['d' '1' 'd']]\n",
      "\n",
      "Inverse:\n",
      "[['d' 'c' 'd']\n",
      " ['d' 'd' '1']\n",
      " ['c' 'd' 'd']]\n",
      "\n",
      "Matrix * Inverse:\n",
      "[['1' '0' '0']\n",
      " ['0' '1' '0']\n",
      " ['0' '0' '1']]\n",
      "\n",
      "Inverse * Matrix:\n",
      "[['1' '0' '0']\n",
      " ['0' '1' '0']\n",
      " ['0' '0' '1']]\n",
      "\n",
      "-----\n"
     ]
    }
   ],
   "source": [
    "m1, d1, i1 = random_matrix_test((3, 3), f4, seed=1)"
   ]
  },
  {
   "cell_type": "code",
   "execution_count": 6,
   "id": "770c5b7d-beb5-41c3-9202-72d001257306",
   "metadata": {},
   "outputs": [
    {
     "name": "stdout",
     "output_type": "stream",
     "text": [
      "====================\n",
      "Matrix over F4:\n",
      "[['0' 'd' '1']\n",
      " ['0' 'c' 'd']\n",
      " ['c' 'd' '0']]\n",
      "\n",
      "Determinant = 0\n",
      "\n",
      "Cofactor Matrix:\n",
      "[['c' '1' 'd']\n",
      " ['d' 'c' '1']\n",
      " ['0' '0' '0']]\n",
      "\n",
      "Inverse:\n",
      "[['0' '0' '0']\n",
      " ['0' '0' '0']\n",
      " ['0' '0' '0']]\n",
      "\n",
      "Matrix * Inverse:\n",
      "[['0' '0' '0']\n",
      " ['0' '0' '0']\n",
      " ['0' '0' '0']]\n",
      "\n",
      "Inverse * Matrix:\n",
      "[['0' '0' '0']\n",
      " ['0' '0' '0']\n",
      " ['0' '0' '0']]\n",
      "\n",
      "-----\n"
     ]
    }
   ],
   "source": [
    "m0, d0, i0 = random_matrix_test((3, 3), f4, seed=2)"
   ]
  },
  {
   "cell_type": "code",
   "execution_count": 7,
   "id": "feb085a4-c596-4c3b-8a2f-1ece19f6824d",
   "metadata": {},
   "outputs": [
    {
     "name": "stdout",
     "output_type": "stream",
     "text": [
      "====================\n",
      "Matrix over F4:\n",
      "[['c' '0' '1']\n",
      " ['d' '0' '0']\n",
      " ['0' '1' '1']]\n",
      "\n",
      "Determinant = d\n",
      "\n",
      "Cofactor Matrix:\n",
      "[['0' 'd' 'd']\n",
      " ['1' 'c' 'c']\n",
      " ['0' 'd' '0']]\n",
      "\n",
      "Inverse:\n",
      "[['0' 'd' '0']\n",
      " ['c' '1' 'c']\n",
      " ['c' '1' '0']]\n",
      "\n",
      "Matrix * Inverse:\n",
      "[['c' '0' '0']\n",
      " ['0' 'c' '0']\n",
      " ['0' '0' 'c']]\n",
      "\n",
      "Inverse * Matrix:\n",
      "[['c' '0' '0']\n",
      " ['0' 'c' '0']\n",
      " ['0' '0' 'c']]\n",
      "\n",
      "-----\n"
     ]
    }
   ],
   "source": [
    "md, dd, id = random_matrix_test((3, 3), f4, seed=3)"
   ]
  },
  {
   "cell_type": "code",
   "execution_count": 8,
   "id": "d9e666c2-defd-4b00-9fb7-472b95d52702",
   "metadata": {},
   "outputs": [
    {
     "name": "stdout",
     "output_type": "stream",
     "text": [
      "====================\n",
      "Matrix over F4:\n",
      "[['c' 'c' 'd']\n",
      " ['1' '1' '0']\n",
      " ['d' '0' 'c']]\n",
      "\n",
      "Determinant = c\n",
      "\n",
      "Cofactor Matrix:\n",
      "[['c' 'c' 'd']\n",
      " ['d' '1' '1']\n",
      " ['d' 'd' '0']]\n",
      "\n",
      "Inverse:\n",
      "[['d' '1' '1']\n",
      " ['d' 'c' '1']\n",
      " ['1' 'c' '0']]\n",
      "\n",
      "Matrix * Inverse:\n",
      "[['d' '0' '0']\n",
      " ['0' 'd' '0']\n",
      " ['0' '0' 'd']]\n",
      "\n",
      "Inverse * Matrix:\n",
      "[['d' '0' '0']\n",
      " ['0' 'd' '0']\n",
      " ['0' '0' 'd']]\n",
      "\n",
      "-----\n"
     ]
    }
   ],
   "source": [
    "mc, dc, ic = random_matrix_test((3, 3), f4, seed=4)"
   ]
  },
  {
   "cell_type": "code",
   "execution_count": null,
   "id": "d37bf6e9-f70d-44b0-ba8e-3e456578571c",
   "metadata": {},
   "outputs": [],
   "source": []
  },
  {
   "cell_type": "code",
   "execution_count": 9,
   "id": "0aab2401-614b-4db7-b21d-5619d7079bdb",
   "metadata": {},
   "outputs": [
    {
     "name": "stdout",
     "output_type": "stream",
     "text": [
      "====================\n",
      "Matrix over F4:\n",
      "[['1' 'd' '0']\n",
      " ['0' 'd' '1']\n",
      " ['d' '1' 'd']]\n",
      "\n",
      "Determinant = 1\n",
      "\n",
      "Cofactor Matrix:\n",
      "[['d' 'd' 'c']\n",
      " ['c' 'd' 'd']\n",
      " ['d' '1' 'd']]\n",
      "\n",
      "Inverse:\n",
      "[['d' 'c' 'd']\n",
      " ['d' 'd' '1']\n",
      " ['c' 'd' 'd']]\n",
      "\n",
      "Matrix * Inverse:\n",
      "[['1' '0' '0']\n",
      " ['0' '1' '0']\n",
      " ['0' '0' '1']]\n",
      "\n",
      "Inverse * Matrix:\n",
      "[['1' '0' '0']\n",
      " ['0' '1' '0']\n",
      " ['0' '0' '1']]\n",
      "\n",
      "-----\n"
     ]
    },
    {
     "data": {
      "text/plain": [
       "('1',\n",
       " F4 Matrix:\n",
       " [['d' 'c' 'd']\n",
       "  ['d' 'd' '1']\n",
       "  ['c' 'd' 'd']])"
      ]
     },
     "execution_count": 9,
     "metadata": {},
     "output_type": "execute_result"
    }
   ],
   "source": [
    "print_matrix_info(m1)"
   ]
  },
  {
   "cell_type": "code",
   "execution_count": 10,
   "id": "c1b57bc9-f3ed-4826-9714-a5658356bda8",
   "metadata": {},
   "outputs": [
    {
     "name": "stdout",
     "output_type": "stream",
     "text": [
      "====================\n",
      "Matrix over F4:\n",
      "[['1' 'd' '0']\n",
      " ['0' 'd' '1']\n",
      " ['d' '1' 'd']]\n",
      "\n",
      "Determinant = 1\n",
      "\n",
      "Cofactor Matrix:\n",
      "[['d' 'd' 'c']\n",
      " ['c' 'd' 'd']\n",
      " ['d' '1' 'd']]\n",
      "\n",
      "Inverse:\n",
      "[['d' 'c' 'd']\n",
      " ['d' 'd' '1']\n",
      " ['c' 'd' 'd']]\n",
      "\n",
      "Matrix * Inverse:\n",
      "[['1' '0' '0']\n",
      " ['0' '1' '0']\n",
      " ['0' '0' '1']]\n",
      "\n",
      "Inverse * Matrix:\n",
      "[['1' '0' '0']\n",
      " ['0' '1' '0']\n",
      " ['0' '0' '1']]\n",
      "\n",
      "-----\n"
     ]
    }
   ],
   "source": [
    "m1, d1, i1 = random_matrix_test((3, 3), f4, seed=1)"
   ]
  },
  {
   "cell_type": "code",
   "execution_count": null,
   "id": "c5bd4c59-27d2-4c52-a4b9-1565fe4c9f52",
   "metadata": {},
   "outputs": [],
   "source": []
  },
  {
   "cell_type": "code",
   "execution_count": null,
   "id": "978d5ed0-ceb3-4fbb-8b66-14a1f7936871",
   "metadata": {},
   "outputs": [],
   "source": []
  },
  {
   "cell_type": "code",
   "execution_count": 11,
   "id": "b2075a7e",
   "metadata": {},
   "outputs": [
    {
     "name": "stdout",
     "output_type": "stream",
     "text": [
      "\n",
      "** Field **\n",
      "Name: F2\n",
      "Instance ID: 4510742608\n",
      "Description: Field with 2 elements from paper: 236w06fields.pdf\n",
      "Order: 2\n",
      "Identity: 0\n",
      "Commutative? Yes\n",
      "Cyclic?: Yes\n",
      "  Generators: ['1']\n",
      "Elements:\n",
      "   Index   Name   Inverse  Order\n",
      "      0       0       0       1\n",
      "      1       1       1       2\n",
      "Cayley Table (showing indices):\n",
      "[[0, 1], [1, 0]]\n",
      "Mult. Identity: 1\n",
      "Mult. Commutative? Yes\n",
      "Zero Divisors: None\n",
      "Multiplicative Cayley Table (showing indices):\n",
      "[[0, 0], [0, 1]]\n"
     ]
    }
   ],
   "source": [
    "f2 = ex[16]\n",
    "f2.about()"
   ]
  },
  {
   "cell_type": "code",
   "execution_count": 12,
   "id": "e3e71a51",
   "metadata": {},
   "outputs": [
    {
     "data": {
      "text/plain": [
       "F2 Matrix:\n",
       "[['1' '0']\n",
       " ['0' '1']]"
      ]
     },
     "execution_count": 12,
     "metadata": {},
     "output_type": "execute_result"
    }
   ],
   "source": [
    "AbstractMatrix.identity(2, f2)"
   ]
  },
  {
   "cell_type": "code",
   "execution_count": 13,
   "id": "d6182b1f",
   "metadata": {},
   "outputs": [
    {
     "data": {
      "text/plain": [
       "F2 Matrix:\n",
       "[['0' '1']\n",
       " ['1' '0']]"
      ]
     },
     "execution_count": 13,
     "metadata": {},
     "output_type": "execute_result"
    }
   ],
   "source": [
    "foo = AbstractMatrix(np.array([['0', '1'], ['1', '0']], dtype='<U32'), f2)\n",
    "foo"
   ]
  },
  {
   "cell_type": "code",
   "execution_count": 14,
   "id": "e2ac70f8",
   "metadata": {},
   "outputs": [
    {
     "data": {
      "text/plain": [
       "F2 Matrix:\n",
       "[['0' '1']\n",
       " ['1' '0']]"
      ]
     },
     "execution_count": 14,
     "metadata": {},
     "output_type": "execute_result"
    }
   ],
   "source": [
    "foo.inverse()"
   ]
  },
  {
   "cell_type": "code",
   "execution_count": 15,
   "id": "915c53a6",
   "metadata": {},
   "outputs": [
    {
     "data": {
      "text/plain": [
       "F2 Matrix:\n",
       "[['1' '0']\n",
       " ['0' '1']]"
      ]
     },
     "execution_count": 15,
     "metadata": {},
     "output_type": "execute_result"
    }
   ],
   "source": [
    "prod = foo * foo.inverse()\n",
    "prod"
   ]
  },
  {
   "cell_type": "code",
   "execution_count": 16,
   "id": "21fb1866",
   "metadata": {},
   "outputs": [
    {
     "data": {
      "text/plain": [
       "F2 Matrix:\n",
       "[['1' '0']\n",
       " ['0' '1']]"
      ]
     },
     "execution_count": 16,
     "metadata": {},
     "output_type": "execute_result"
    }
   ],
   "source": [
    "idt = AbstractMatrix.identity(2, f2)\n",
    "idt"
   ]
  },
  {
   "cell_type": "code",
   "execution_count": 17,
   "id": "0782f730",
   "metadata": {},
   "outputs": [
    {
     "data": {
      "text/plain": [
       "False"
      ]
     },
     "execution_count": 17,
     "metadata": {},
     "output_type": "execute_result"
    }
   ],
   "source": [
    "prod == idt"
   ]
  },
  {
   "cell_type": "code",
   "execution_count": 18,
   "id": "e69f0066",
   "metadata": {},
   "outputs": [
    {
     "data": {
      "text/plain": [
       "True"
      ]
     },
     "execution_count": 18,
     "metadata": {},
     "output_type": "execute_result"
    }
   ],
   "source": [
    "(idt.array == prod.array).all()"
   ]
  },
  {
   "cell_type": "code",
   "execution_count": 19,
   "id": "d2c52ff4",
   "metadata": {},
   "outputs": [
    {
     "data": {
      "text/plain": [
       "array([['1', '0'],\n",
       "       ['0', '1']], dtype='<U32')"
      ]
     },
     "execution_count": 19,
     "metadata": {},
     "output_type": "execute_result"
    }
   ],
   "source": [
    "prod.array"
   ]
  },
  {
   "cell_type": "code",
   "execution_count": 29,
   "id": "6067ee18",
   "metadata": {},
   "outputs": [
    {
     "ename": "TypeError",
     "evalue": "'AbstractMatrix' object is not callable",
     "output_type": "error",
     "traceback": [
      "\u001b[0;31m---------------------------------------------------------------------------\u001b[0m",
      "\u001b[0;31mTypeError\u001b[0m                                 Traceback (most recent call last)",
      "Cell \u001b[0;32mIn[29], line 1\u001b[0m\n\u001b[0;32m----> 1\u001b[0m \u001b[38;5;28mid\u001b[39m(prod)\n",
      "\u001b[0;31mTypeError\u001b[0m: 'AbstractMatrix' object is not callable"
     ]
    }
   ],
   "source": [
    "id(prod)"
   ]
  },
  {
   "cell_type": "code",
   "execution_count": null,
   "id": "f9f4cf1d-7ba9-4974-abbc-134a0eb18741",
   "metadata": {},
   "outputs": [],
   "source": []
  },
  {
   "cell_type": "code",
   "execution_count": null,
   "id": "2765d2de-1852-42c4-b1ab-d6cec2c11158",
   "metadata": {},
   "outputs": [],
   "source": []
  },
  {
   "cell_type": "code",
   "execution_count": null,
   "id": "b289dee6-fecc-4a9b-ab7b-c873ecdec731",
   "metadata": {},
   "outputs": [],
   "source": []
  },
  {
   "cell_type": "code",
   "execution_count": null,
   "id": "0b1cfbdd",
   "metadata": {},
   "outputs": [],
   "source": [
    "idt"
   ]
  },
  {
   "cell_type": "code",
   "execution_count": null,
   "id": "7711f862",
   "metadata": {},
   "outputs": [],
   "source": [
    "n = 2\n",
    "A = f2\n",
    "\n",
    "\n",
    "count = 0\n",
    "idt = AbstractMatrix.identity(n, A)\n",
    "mat = AbstractMatrix.zeros((n, n), A)\n",
    "for a in A.elements:\n",
    "    for b in A.elements:\n",
    "        for c in A.elements:\n",
    "            for d in A.elements:\n",
    "                count += 1\n",
    "                mat[0, 0] = a\n",
    "                mat[0, 1] = b\n",
    "                mat[1, 0] = c\n",
    "                mat[1, 1] = d\n",
    "                mat_inv = mat.inverse()\n",
    "                print(mat)\n",
    "                print()\n",
    "                print(mat * mat_inv)\n",
    "                print(\"-------\")\n",
    "                # if (mat * mat_inv) == idt:\n",
    "                #     print(mat)\n",
    "                #     print()\n",
    "                #     print(mat_inv)\n",
    "print(count)"
   ]
  },
  {
   "cell_type": "code",
   "execution_count": null,
   "id": "5bd16965",
   "metadata": {},
   "outputs": [],
   "source": []
  },
  {
   "cell_type": "code",
   "execution_count": null,
   "id": "f5d056a8",
   "metadata": {},
   "outputs": [],
   "source": []
  },
  {
   "cell_type": "code",
   "execution_count": null,
   "id": "7d6d7912",
   "metadata": {},
   "outputs": [],
   "source": [
    "for i in range(10):\n",
    "    m = AbstractMatrix.random((3, 3), f4)\n",
    "    print(m * m.inverse())\n",
    "    print()"
   ]
  },
  {
   "cell_type": "code",
   "execution_count": null,
   "id": "1fdc6b20",
   "metadata": {},
   "outputs": [],
   "source": []
  },
  {
   "cell_type": "code",
   "execution_count": null,
   "id": "561a58b6",
   "metadata": {},
   "outputs": [],
   "source": []
  },
  {
   "cell_type": "code",
   "execution_count": null,
   "id": "7e647ea9",
   "metadata": {},
   "outputs": [],
   "source": [
    "np.random.seed(1)  # Fixed seed ONLY used to make the random call, below, repeatable.\n",
    "\n",
    "shape = (3, 3)\n",
    "m2 = AbstractMatrix.random(shape, f4)\n",
    "m2"
   ]
  },
  {
   "cell_type": "code",
   "execution_count": null,
   "id": "c3329cea",
   "metadata": {},
   "outputs": [],
   "source": [
    "m2.determinant()"
   ]
  },
  {
   "cell_type": "code",
   "execution_count": null,
   "id": "dcff52fe",
   "metadata": {},
   "outputs": [],
   "source": [
    "m2.inverse()"
   ]
  },
  {
   "cell_type": "code",
   "execution_count": null,
   "id": "613195a2",
   "metadata": {},
   "outputs": [],
   "source": [
    "m1 * m1.inverse()"
   ]
  },
  {
   "cell_type": "code",
   "execution_count": null,
   "id": "8d28f604",
   "metadata": {},
   "outputs": [],
   "source": [
    "m2.inverse() * m2"
   ]
  },
  {
   "cell_type": "code",
   "execution_count": null,
   "id": "ad8d0b15",
   "metadata": {},
   "outputs": [],
   "source": []
  },
  {
   "cell_type": "code",
   "execution_count": null,
   "id": "1bac92be",
   "metadata": {},
   "outputs": [],
   "source": []
  },
  {
   "cell_type": "raw",
   "id": "74e1f2f9",
   "metadata": {},
   "source": [
    "arr1 = np.array([['a', '0', '1'],\n",
    "                 ['0', 'a', '1+a'],\n",
    "                 ['1+a', '1+a', '1']], dtype='<U32')\n",
    "\n",
    "m1 = AbstractMatrix(arr1, f4)\n",
    "m1"
   ]
  },
  {
   "cell_type": "code",
   "execution_count": null,
   "id": "1a9cf81a",
   "metadata": {},
   "outputs": [],
   "source": []
  },
  {
   "cell_type": "code",
   "execution_count": null,
   "id": "8af57dea",
   "metadata": {},
   "outputs": [],
   "source": [
    "h1 = alg.generate_algebra_mod_n(7)\n",
    "h1.about()"
   ]
  },
  {
   "cell_type": "code",
   "execution_count": null,
   "id": "65c60a57",
   "metadata": {},
   "outputs": [],
   "source": [
    "# np.random.seed(0)  # Fixed seed ONLY used to make the random call, below, repeatable.\n",
    "\n",
    "shape = (3, 3)\n",
    "k1 = AbstractMatrix.random(shape, h1)\n",
    "k1"
   ]
  },
  {
   "cell_type": "code",
   "execution_count": null,
   "id": "ef7a8574",
   "metadata": {},
   "outputs": [],
   "source": [
    "k1inv = k1.inverse()\n",
    "k1inv"
   ]
  },
  {
   "cell_type": "code",
   "execution_count": null,
   "id": "0c7c435e",
   "metadata": {},
   "outputs": [],
   "source": [
    "k1 * k1inv"
   ]
  },
  {
   "cell_type": "code",
   "execution_count": null,
   "id": "9beb0f80",
   "metadata": {},
   "outputs": [],
   "source": [
    "AbstractMatrix.identity(3, h1)"
   ]
  },
  {
   "cell_type": "code",
   "execution_count": null,
   "id": "bb8fc13d",
   "metadata": {},
   "outputs": [],
   "source": [
    "for i in range(10):\n",
    "    k = AbstractMatrix.random((3, 3), h1)\n",
    "    print(k * k.inverse())\n",
    "    print()"
   ]
  },
  {
   "cell_type": "code",
   "execution_count": null,
   "id": "fe1e172c",
   "metadata": {},
   "outputs": [],
   "source": []
  },
  {
   "cell_type": "code",
   "execution_count": null,
   "id": "06369167",
   "metadata": {},
   "outputs": [],
   "source": []
  },
  {
   "cell_type": "code",
   "execution_count": null,
   "id": "d549b6ab",
   "metadata": {},
   "outputs": [],
   "source": [
    "ps3 = alg.generate_powerset_ring(3)\n",
    "ps3.about()"
   ]
  },
  {
   "cell_type": "markdown",
   "id": "8cafc18a",
   "metadata": {},
   "source": [
    "## Test Matrices"
   ]
  },
  {
   "cell_type": "code",
   "execution_count": null,
   "id": "51327b12",
   "metadata": {},
   "outputs": [],
   "source": [
    "arr0 = np.array([['{1, 2}', '{0, 1, 2}'],\n",
    "                 ['{0, 2}', '{}']], dtype='<U32')\n",
    "\n",
    "mat0 = AbstractMatrix(arr0, ps3)\n",
    "mat0"
   ]
  },
  {
   "cell_type": "code",
   "execution_count": null,
   "id": "9f9afef3",
   "metadata": {},
   "outputs": [],
   "source": [
    "arr1 = np.array([['{1, 2}', '{0, 1, 2}', '{0, 2}'],\n",
    "                 ['{0, 2}', '{}', '{1}'],\n",
    "                 ['{0}', '{1}', '{0, 1}']], dtype='<U32')\n",
    "\n",
    "mat1 = AbstractMatrix(arr1, ps3)\n",
    "mat1"
   ]
  },
  {
   "cell_type": "code",
   "execution_count": null,
   "id": "bd7f0d42",
   "metadata": {},
   "outputs": [],
   "source": [
    "arr2 = [['{0, 1}', '{0, 2}', '{1, 2}'],\n",
    "        ['{0}'   , '{1, 2}',    '{2}'],\n",
    "        ['{0, 1}',     '{}',     '{}']]\n",
    "\n",
    "mat2 = AbstractMatrix(arr2, ps3)\n",
    "mat2"
   ]
  },
  {
   "cell_type": "code",
   "execution_count": null,
   "id": "aaa83e3a",
   "metadata": {},
   "outputs": [],
   "source": [
    "arr3 = np.array([['{}', '{0, 1, 2}', '{0, 1, 2}', '{}'],\n",
    "                 ['{0, 1}', '{0, 2}', '{1, 2}', '{2}'],\n",
    "                 ['{0, 2}', '{}', '{}', '{0, 1}'],\n",
    "                 ['{1}', '{0}', '{0, 2}', '{}']], dtype='<U32')\n",
    "\n",
    "mat3 = AbstractMatrix(arr3, ps3)\n",
    "mat3"
   ]
  },
  {
   "cell_type": "code",
   "execution_count": null,
   "id": "359f264b",
   "metadata": {},
   "outputs": [],
   "source": [
    "arr4 = np.array([['{1, 2}']], dtype='<U32')\n",
    "\n",
    "mat4 = AbstractMatrix(arr4, ps3)\n",
    "mat4"
   ]
  },
  {
   "cell_type": "code",
   "execution_count": null,
   "id": "8384ebe1",
   "metadata": {},
   "outputs": [],
   "source": [
    "arr5 = np.array([['0', '1', 'a'],\n",
    "                 ['1', 'a', '1+a'],\n",
    "                 ['1+a', '0', '1']], dtype='<U32')\n",
    "\n",
    "mat5 = AbstractMatrix(arr5, f4)\n",
    "mat5"
   ]
  },
  {
   "cell_type": "code",
   "execution_count": null,
   "id": "3a5aabe7",
   "metadata": {},
   "outputs": [],
   "source": [
    "arr6 = np.array([['1+a', '0', 'a'],\n",
    "                 ['1+a', '1+a', '0'],\n",
    "                 ['1', '1', '0']], dtype='<U32')\n",
    "\n",
    "mat6 = AbstractMatrix(arr6, f4)\n",
    "mat6"
   ]
  },
  {
   "cell_type": "markdown",
   "id": "2eb178e3",
   "metadata": {},
   "source": [
    "## Matrix Addition & Subtraction"
   ]
  },
  {
   "cell_type": "code",
   "execution_count": null,
   "id": "692d4e4e",
   "metadata": {},
   "outputs": [],
   "source": [
    "mat1 + mat2"
   ]
  },
  {
   "cell_type": "code",
   "execution_count": null,
   "id": "e71775f2",
   "metadata": {},
   "outputs": [],
   "source": [
    "try:\n",
    "    mat2p3 = mat2 + mat3\n",
    "    print(mat2p3)\n",
    "except Exception as exc:\n",
    "    print(exc)"
   ]
  },
  {
   "cell_type": "code",
   "execution_count": null,
   "id": "eaaa9e10",
   "metadata": {},
   "outputs": [],
   "source": [
    "mat5 + mat6"
   ]
  },
  {
   "cell_type": "code",
   "execution_count": null,
   "id": "210136aa",
   "metadata": {},
   "outputs": [],
   "source": [
    "mat2 - mat2"
   ]
  },
  {
   "cell_type": "code",
   "execution_count": null,
   "id": "47a60cbd",
   "metadata": {},
   "outputs": [],
   "source": [
    "try:\n",
    "    mat2p3 = mat2 - mat3\n",
    "    print(mat2p3)\n",
    "except Exception as exc:\n",
    "    print(exc)"
   ]
  },
  {
   "cell_type": "markdown",
   "id": "4bb68cd6-854f-4699-bb49-5c0c0ce560e6",
   "metadata": {},
   "source": [
    "## Matrix Multiplication"
   ]
  },
  {
   "cell_type": "code",
   "execution_count": null,
   "id": "0cb5fc85-2431-4e40-ac3f-50d7c36f06e5",
   "metadata": {},
   "outputs": [],
   "source": [
    "mat1 * mat2"
   ]
  },
  {
   "cell_type": "code",
   "execution_count": null,
   "id": "6524fc43",
   "metadata": {},
   "outputs": [],
   "source": [
    "mat2 * mat1"
   ]
  },
  {
   "cell_type": "code",
   "execution_count": null,
   "id": "6003150c",
   "metadata": {},
   "outputs": [],
   "source": [
    "try:\n",
    "    mat2x3 = mat2 * mat3\n",
    "    print(mat2x3)\n",
    "except Exception as exc:\n",
    "    print(exc)"
   ]
  },
  {
   "cell_type": "code",
   "execution_count": null,
   "id": "5fd2889f",
   "metadata": {},
   "outputs": [],
   "source": [
    "mat5 * mat6"
   ]
  },
  {
   "cell_type": "markdown",
   "id": "234666cb",
   "metadata": {},
   "source": [
    "## Abstract Matrix of \"Zeros\""
   ]
  },
  {
   "cell_type": "code",
   "execution_count": null,
   "id": "583b68e0",
   "metadata": {},
   "outputs": [],
   "source": [
    "matz = AbstractMatrix.zeros((2, 3), ps3)\n",
    "matz"
   ]
  },
  {
   "cell_type": "code",
   "execution_count": null,
   "id": "32de3d20",
   "metadata": {},
   "outputs": [],
   "source": [
    "matf = AbstractMatrix.zeros((3, 3), f4)\n",
    "matf"
   ]
  },
  {
   "cell_type": "markdown",
   "id": "6172db1b",
   "metadata": {},
   "source": [
    "## Abstract Identity Matrix"
   ]
  },
  {
   "cell_type": "code",
   "execution_count": null,
   "id": "b74dec91",
   "metadata": {},
   "outputs": [],
   "source": [
    "AbstractMatrix.identity(4, ps3)"
   ]
  },
  {
   "cell_type": "code",
   "execution_count": null,
   "id": "9558a899",
   "metadata": {},
   "outputs": [],
   "source": [
    "mat1"
   ]
  },
  {
   "cell_type": "code",
   "execution_count": null,
   "id": "c3350745",
   "metadata": {},
   "outputs": [],
   "source": [
    "id3 = AbstractMatrix.identity(3, ps3)\n",
    "\n",
    "mat1 * id3"
   ]
  },
  {
   "cell_type": "code",
   "execution_count": null,
   "id": "ecc54819",
   "metadata": {},
   "outputs": [],
   "source": [
    "id3 * mat1"
   ]
  },
  {
   "cell_type": "code",
   "execution_count": null,
   "id": "8c62a867",
   "metadata": {},
   "outputs": [],
   "source": [
    "id3f = AbstractMatrix.identity(3, f4)\n",
    "id3f"
   ]
  },
  {
   "cell_type": "code",
   "execution_count": null,
   "id": "e8f343e9",
   "metadata": {},
   "outputs": [],
   "source": [
    "mat5 * id3f - mat5"
   ]
  },
  {
   "cell_type": "markdown",
   "id": "09fd1964",
   "metadata": {},
   "source": [
    "## Random Abstract Matrix"
   ]
  },
  {
   "cell_type": "code",
   "execution_count": null,
   "id": "47b625e0",
   "metadata": {},
   "outputs": [],
   "source": [
    "AbstractMatrix.random((3, 3), ps3)"
   ]
  },
  {
   "cell_type": "markdown",
   "id": "1576f0a8-41bb-460c-af55-7ae2e6c70c5c",
   "metadata": {},
   "source": [
    "## Get/Set Matrix Element Values"
   ]
  },
  {
   "cell_type": "code",
   "execution_count": null,
   "id": "4491e4bf-5231-4d2b-9401-6eb511fddc24",
   "metadata": {},
   "outputs": [],
   "source": [
    "mat2"
   ]
  },
  {
   "cell_type": "code",
   "execution_count": null,
   "id": "4094590e-be48-47be-85f7-1aae62411281",
   "metadata": {},
   "outputs": [],
   "source": [
    "mat2[0, 1]"
   ]
  },
  {
   "cell_type": "code",
   "execution_count": null,
   "id": "ca4a48e2-b9f1-4784-bad4-0dec810cbe1b",
   "metadata": {},
   "outputs": [],
   "source": [
    "mat2[2, 2] = '{0, 1, 2}'\n",
    "mat2"
   ]
  },
  {
   "cell_type": "code",
   "execution_count": null,
   "id": "7decf719",
   "metadata": {},
   "outputs": [],
   "source": [
    "mat2[2, 2] = '{}'\n",
    "mat2"
   ]
  },
  {
   "cell_type": "markdown",
   "id": "9eb7801d-157b-424b-b3b8-26d2d3bb59db",
   "metadata": {},
   "source": [
    "## Matrix Minor"
   ]
  },
  {
   "cell_type": "code",
   "execution_count": null,
   "id": "62c40a05-b625-4fa8-aa84-4789a9ebedd1",
   "metadata": {},
   "outputs": [],
   "source": [
    "mnr2 = mat2.minor(0,0)\n",
    "mnr2"
   ]
  },
  {
   "cell_type": "code",
   "execution_count": null,
   "id": "b4c74c5c",
   "metadata": {},
   "outputs": [],
   "source": [
    "mnr3 = mat5.minor(1, 1)\n",
    "mnr3"
   ]
  },
  {
   "cell_type": "markdown",
   "id": "a9b39686",
   "metadata": {},
   "source": [
    "## Abstract Cofactor Matrix"
   ]
  },
  {
   "cell_type": "code",
   "execution_count": null,
   "id": "306772f1",
   "metadata": {},
   "outputs": [],
   "source": [
    "cof2 = mat2.cofactor_matrix()\n",
    "cof2"
   ]
  },
  {
   "cell_type": "code",
   "execution_count": null,
   "id": "55b59c33",
   "metadata": {},
   "outputs": [],
   "source": [
    "cof3 = mat5.cofactor_matrix()\n",
    "cof3"
   ]
  },
  {
   "cell_type": "markdown",
   "id": "e1d944f6",
   "metadata": {},
   "source": [
    "## Abstract Matrix Transpose"
   ]
  },
  {
   "cell_type": "code",
   "execution_count": null,
   "id": "7031890b",
   "metadata": {},
   "outputs": [],
   "source": [
    "cof2_trans = cof2.transpose()\n",
    "cof2_trans"
   ]
  },
  {
   "cell_type": "code",
   "execution_count": null,
   "id": "2130a554",
   "metadata": {},
   "outputs": [],
   "source": [
    "cof3.transpose()"
   ]
  },
  {
   "cell_type": "markdown",
   "id": "646a0202",
   "metadata": {},
   "source": [
    "## Abstract Matrix Determinant"
   ]
  },
  {
   "cell_type": "code",
   "execution_count": null,
   "id": "55b36d62",
   "metadata": {},
   "outputs": [],
   "source": [
    "mat2.determinant()"
   ]
  },
  {
   "cell_type": "markdown",
   "id": "126d6bcb",
   "metadata": {},
   "source": [
    "Here's a breaksdown of the basic computations required to get the determinant.\n",
    "\n",
    "NOTE: Addition & multiplication for the ring, ps3, is commutative, so the order of adds and mults is irrelevant, below."
   ]
  },
  {
   "cell_type": "code",
   "execution_count": null,
   "id": "df58ffe3",
   "metadata": {},
   "outputs": [],
   "source": [
    "minor_det_0 = ps3.sub(ps3.mult('{1, 2}', '{}'), ps3.mult('{2}', '{}'))\n",
    "minor_det_0"
   ]
  },
  {
   "cell_type": "code",
   "execution_count": null,
   "id": "1d6d232a",
   "metadata": {},
   "outputs": [],
   "source": [
    "minor_det_1 = ps3.sub(ps3.mult('{0}', '{}'), ps3.mult('{2}', '{0, 1}'))\n",
    "minor_det_1"
   ]
  },
  {
   "cell_type": "code",
   "execution_count": null,
   "id": "46947f51",
   "metadata": {},
   "outputs": [],
   "source": [
    "minor_det_2 = ps3.sub(ps3.mult('{0}', '{}'), ps3.mult('{1, 2}', '{0, 1}'))\n",
    "minor_det_2"
   ]
  },
  {
   "cell_type": "code",
   "execution_count": null,
   "id": "ec46b2aa",
   "metadata": {},
   "outputs": [],
   "source": [
    "det = ps3.sub(ps3.add(ps3.mult('{0, 1}', minor_det_0),\n",
    "                      ps3.mult('{1, 2}', minor_det_2)),\n",
    "              ps3.mult('{0, 2}', minor_det_1))\n",
    "det"
   ]
  },
  {
   "cell_type": "code",
   "execution_count": null,
   "id": "b8b1f37d",
   "metadata": {},
   "outputs": [],
   "source": [
    "mat5.determinant()"
   ]
  },
  {
   "cell_type": "markdown",
   "id": "0c00e4fb-82e8-42ed-8fd2-f24d6824ffcd",
   "metadata": {},
   "source": [
    "## Abstract Matrix Inverse"
   ]
  },
  {
   "cell_type": "code",
   "execution_count": null,
   "id": "588b5a7c-c190-4a2b-9d28-0413d006e5c4",
   "metadata": {},
   "outputs": [],
   "source": [
    "mat2_inv = mat2.inverse()\n",
    "mat2_inv"
   ]
  },
  {
   "cell_type": "code",
   "execution_count": null,
   "id": "412176a0-037a-4327-b230-ce02f6f1e27b",
   "metadata": {},
   "outputs": [],
   "source": [
    "mat2 * mat2_inv"
   ]
  },
  {
   "cell_type": "code",
   "execution_count": null,
   "id": "682292b9-fe96-4fba-bb4a-b64ac41f727c",
   "metadata": {},
   "outputs": [],
   "source": [
    "mat2_inv * mat2"
   ]
  },
  {
   "cell_type": "code",
   "execution_count": null,
   "id": "08b12933",
   "metadata": {},
   "outputs": [],
   "source": [
    "mat5_inv = mat5.inverse()\n",
    "mat5_inv"
   ]
  },
  {
   "cell_type": "code",
   "execution_count": null,
   "id": "e7a4bbc8",
   "metadata": {},
   "outputs": [],
   "source": [
    "mat5 * mat5_inv"
   ]
  },
  {
   "cell_type": "code",
   "execution_count": null,
   "id": "2778ba17",
   "metadata": {},
   "outputs": [],
   "source": [
    "mat5_inv * mat5"
   ]
  },
  {
   "cell_type": "code",
   "execution_count": null,
   "id": "1eb57e39",
   "metadata": {},
   "outputs": [],
   "source": []
  }
 ],
 "metadata": {
  "kernelspec": {
   "display_name": "Python 3 (ipykernel)",
   "language": "python",
   "name": "python3"
  },
  "language_info": {
   "codemirror_mode": {
    "name": "ipython",
    "version": 3
   },
   "file_extension": ".py",
   "mimetype": "text/x-python",
   "name": "python",
   "nbconvert_exporter": "python",
   "pygments_lexer": "ipython3",
   "version": "3.11.5"
  }
 },
 "nbformat": 4,
 "nbformat_minor": 5
}
