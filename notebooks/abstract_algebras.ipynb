{
 "cells": [
  {
   "cell_type": "markdown",
   "id": "494177aa",
   "metadata": {},
   "source": [
    "# Abstract Algebras (OLD; Not Up-To-Date)"
   ]
  },
  {
   "cell_type": "markdown",
   "id": "cfd05005",
   "metadata": {},
   "source": [
    "## WARNING: This notebook is a OLD, and no longer maintained."
   ]
  },
  {
   "cell_type": "markdown",
   "id": "f88ae97c",
   "metadata": {},
   "source": [
    "## References"
   ]
  },
  {
   "cell_type": "markdown",
   "id": "c83ce8c8",
   "metadata": {},
   "source": [
    "* [Group Explorer](https://nathancarter.github.io/group-explorer/index.html) -- Visualization software for the abstract algebra classroom\n",
    "* [Groupprops, The Group Properties Wiki (beta)](https://groupprops.subwiki.org/wiki/Main_Page)\n",
    "* [Klein four-group, V4](https://en.wikipedia.org/wiki/Klein_four-group)\n",
    "* [Cyclic group](https://en.wikipedia.org/wiki/Cyclic_group)"
   ]
  },
  {
   "cell_type": "markdown",
   "id": "ec8cc783",
   "metadata": {},
   "source": [
    "## Imports and Paths"
   ]
  },
  {
   "cell_type": "code",
   "execution_count": 53,
   "id": "776a4096",
   "metadata": {},
   "outputs": [],
   "source": [
    "import algebras as alg\n",
    "import numpy as np\n",
    "import json\n",
    "import os"
   ]
  },
  {
   "cell_type": "code",
   "execution_count": 54,
   "id": "37b3f048",
   "metadata": {},
   "outputs": [],
   "source": [
    "# Path to this repo\n",
    "aa_path = os.path.join(os.getenv('PYPROJ'), 'abstract_algebra')\n",
    "\n",
    "# Path to a directory containing Algebra definitions in JSON\n",
    "alg_dir = os.path.join(aa_path, \"Algebras\")"
   ]
  },
  {
   "cell_type": "markdown",
   "id": "a0e5fb3e",
   "metadata": {},
   "source": [
    "### A Very Simple Group"
   ]
  },
  {
   "cell_type": "code",
   "execution_count": 55,
   "id": "d153e857",
   "metadata": {},
   "outputs": [],
   "source": [
    "simp = alg.Group(\"Simple\",\n",
    "                 \"A very simple group\",\n",
    "                 [\"1\", \"-1\"],\n",
    "                 [[0, 1],\n",
    "                  [1, 0]])"
   ]
  },
  {
   "cell_type": "code",
   "execution_count": 56,
   "id": "77fe6077",
   "metadata": {},
   "outputs": [
    {
     "name": "stdout",
     "output_type": "stream",
     "text": [
      "\n",
      "Group : Simple : A very simple group\n",
      "  Element Names: ['1', '-1']\n",
      "  Is Abelian? True\n",
      "  Inverses:  (** - indicates that it is its own inverse)\n",
      "    inv(1) = 1   **\n",
      "    inv(-1) = -1   **\n",
      "Element Orders:\n",
      "{1: ['1'], 2: ['-1']}\n",
      "  Is associative? True\n",
      "  Cayley Table:\n",
      "[['1', '-1'], ['-1', '1']]\n"
     ]
    }
   ],
   "source": [
    "simp.print_info()"
   ]
  },
  {
   "cell_type": "markdown",
   "id": "eefd270f",
   "metadata": {},
   "source": [
    "### Klein-4 Group"
   ]
  },
  {
   "cell_type": "markdown",
   "id": "3ea02a87",
   "metadata": {},
   "source": [
    "See this [definition at GitHub](https://github.com/nathancarter/group-explorer/blob/master/groups/V_4.group)."
   ]
  },
  {
   "cell_type": "code",
   "execution_count": 57,
   "id": "60b8a26d",
   "metadata": {},
   "outputs": [
    {
     "name": "stdout",
     "output_type": "stream",
     "text": [
      "{\"type\": \"Group\",\r\n",
      " \"name\": \"V4\",\r\n",
      " \"description\": \"Klein-4 group\",\r\n",
      " \"element_names\": [\"e\", \"h\", \"v\", \"hv\"],\r\n",
      " \"mult_table\": [[0, 1, 2, 3],\r\n",
      "                [1, 0, 3, 2],\r\n",
      "                [2, 3, 0, 1],\r\n",
      "                [3, 2, 1, 0]]\r\n",
      "}\r\n"
     ]
    }
   ],
   "source": [
    "v4_json = os.path.join(alg_dir, \"v4_klein_4_group.json\")\n",
    "\n",
    "!cat {v4_json}"
   ]
  },
  {
   "cell_type": "code",
   "execution_count": 58,
   "id": "40ee08a1",
   "metadata": {},
   "outputs": [
    {
     "data": {
      "text/plain": [
       "Group('V4',\n",
       "'Klein-4 group',\n",
       "['e', 'h', 'v', 'hv'],\n",
       "[[0, 1, 2, 3], [1, 0, 3, 2], [2, 3, 0, 1], [3, 2, 1, 0]]) "
      ]
     },
     "execution_count": 58,
     "metadata": {},
     "output_type": "execute_result"
    }
   ],
   "source": [
    "v4 = alg.Group(v4_json)\n",
    "v4"
   ]
  },
  {
   "cell_type": "markdown",
   "id": "b54bd8b9",
   "metadata": {},
   "source": [
    "The group can also be created at the command line:"
   ]
  },
  {
   "cell_type": "code",
   "execution_count": 59,
   "id": "fbb6b1fc",
   "metadata": {},
   "outputs": [
    {
     "data": {
      "text/plain": [
       "Group('V4x',\n",
       "'Klein-4 group',\n",
       "['e', 'h', 'v', 'hv'],\n",
       "[[0, 1, 2, 3], [1, 0, 3, 2], [2, 3, 0, 1], [3, 2, 1, 0]]) "
      ]
     },
     "execution_count": 59,
     "metadata": {},
     "output_type": "execute_result"
    }
   ],
   "source": [
    "v4x = alg.Group('V4x',\n",
    "                'Klein-4 group',\n",
    "                ['e',  'h',  'v', 'hv'],\n",
    "                [[0, 1, 2, 3],\n",
    "                 [1, 0, 3, 2],\n",
    "                 [2, 3, 0, 1],\n",
    "                 [3, 2, 1, 0]]\n",
    "               )\n",
    "\n",
    "v4x"
   ]
  },
  {
   "cell_type": "code",
   "execution_count": 60,
   "id": "b053281f",
   "metadata": {},
   "outputs": [
    {
     "data": {
      "text/plain": [
       "'hv'"
      ]
     },
     "execution_count": 60,
     "metadata": {},
     "output_type": "execute_result"
    }
   ],
   "source": [
    "v4.mult('h','v')"
   ]
  },
  {
   "cell_type": "code",
   "execution_count": 61,
   "id": "863f002f",
   "metadata": {},
   "outputs": [
    {
     "name": "stdout",
     "output_type": "stream",
     "text": [
      "\n",
      "Group : V4 : Klein-4 group\n",
      "  Element Names: ['e', 'h', 'v', 'hv']\n",
      "  Is Abelian? True\n",
      "  Inverses:  (** - indicates that it is its own inverse)\n",
      "    inv(e) = e   **\n",
      "    inv(h) = h   **\n",
      "    inv(v) = v   **\n",
      "    inv(hv) = hv   **\n",
      "Element Orders:\n",
      "{1: ['e'], 2: ['h', 'v', 'hv']}\n",
      "  Is associative? True\n",
      "  Cayley Table:\n",
      "[['e', 'h', 'v', 'hv'],\n",
      " ['h', 'e', 'hv', 'v'],\n",
      " ['v', 'hv', 'e', 'h'],\n",
      " ['hv', 'v', 'h', 'e']]\n"
     ]
    }
   ],
   "source": [
    "v4.print_info()"
   ]
  },
  {
   "cell_type": "code",
   "execution_count": 62,
   "id": "3906a3c8",
   "metadata": {},
   "outputs": [
    {
     "data": {
      "text/plain": [
       "{'type': 'Group',\n",
       " 'name': 'V4',\n",
       " 'description': 'Klein-4 group',\n",
       " 'element_names': ['e', 'h', 'v', 'hv'],\n",
       " 'mult_table': [[0, 1, 2, 3], [1, 0, 3, 2], [2, 3, 0, 1], [3, 2, 1, 0]]}"
      ]
     },
     "execution_count": 62,
     "metadata": {},
     "output_type": "execute_result"
    }
   ],
   "source": [
    "v4.to_dict()"
   ]
  },
  {
   "cell_type": "code",
   "execution_count": 63,
   "id": "b3aa7bff",
   "metadata": {},
   "outputs": [
    {
     "data": {
      "text/plain": [
       "'{\"type\": \"Group\", \"name\": \"V4\", \"description\": \"Klein-4 group\", \"element_names\": [\"e\", \"h\", \"v\", \"hv\"], \"mult_table\": [[0, 1, 2, 3], [1, 0, 3, 2], [2, 3, 0, 1], [3, 2, 1, 0]]}'"
      ]
     },
     "execution_count": 63,
     "metadata": {},
     "output_type": "execute_result"
    }
   ],
   "source": [
    "v4json = json.dumps(v4.to_dict())\n",
    "v4json"
   ]
  },
  {
   "cell_type": "markdown",
   "id": "b95d5eac",
   "metadata": {},
   "source": [
    "### Cyclic group of order 4"
   ]
  },
  {
   "cell_type": "markdown",
   "id": "006265f9",
   "metadata": {},
   "source": [
    "See this [definition at GitHub](https://github.com/nathancarter/group-explorer/blob/master/groups/Z_4.group)."
   ]
  },
  {
   "cell_type": "code",
   "execution_count": 64,
   "id": "df532df0",
   "metadata": {},
   "outputs": [
    {
     "name": "stdout",
     "output_type": "stream",
     "text": [
      "{\"type\": \"Group\",\r\n",
      " \"name\": \"Z4\",\r\n",
      " \"description\": \"Cyclic group of order 4\",\r\n",
      " \"element_names\": [\"e\", \"a\", \"a^2\", \"a^3\"],\r\n",
      " \"mult_table\": [[0, 1, 2, 3],\r\n",
      "                [1, 2, 3, 0],\r\n",
      "                [2, 3, 0, 1],\r\n",
      "                [3, 0, 1, 2]]\r\n",
      "}\r\n"
     ]
    }
   ],
   "source": [
    "z4_json = os.path.join(alg_dir, \"z4_cyclic_group_of_order_4.json\")\n",
    "\n",
    "!cat {z4_json}"
   ]
  },
  {
   "cell_type": "code",
   "execution_count": 65,
   "id": "4244d748",
   "metadata": {},
   "outputs": [
    {
     "name": "stdout",
     "output_type": "stream",
     "text": [
      "\n",
      "Group : Z4 : Cyclic group of order 4\n",
      "  Element Names: ['e', 'a', 'a^2', 'a^3']\n",
      "  Is Abelian? True\n",
      "  Inverses:  (** - indicates that it is its own inverse)\n",
      "    inv(e) = e   **\n",
      "    inv(a) = a^3 \n",
      "    inv(a^2) = a^2   **\n",
      "    inv(a^3) = a \n",
      "Element Orders:\n",
      "{1: ['e'], 2: ['a^2'], 4: ['a', 'a^3']}\n",
      "  Is associative? True\n",
      "  Cayley Table:\n",
      "[['e', 'a', 'a^2', 'a^3'],\n",
      " ['a', 'a^2', 'a^3', 'e'],\n",
      " ['a^2', 'a^3', 'e', 'a'],\n",
      " ['a^3', 'e', 'a', 'a^2']]\n"
     ]
    }
   ],
   "source": [
    "z4 = alg.Group(z4_json)\n",
    "\n",
    "z4.print_info()"
   ]
  },
  {
   "cell_type": "code",
   "execution_count": 66,
   "id": "7173189c",
   "metadata": {},
   "outputs": [
    {
     "data": {
      "text/plain": [
       "'e'"
      ]
     },
     "execution_count": 66,
     "metadata": {},
     "output_type": "execute_result"
    }
   ],
   "source": [
    "z4.mult('a^2','a^2')"
   ]
  },
  {
   "cell_type": "code",
   "execution_count": 67,
   "id": "ac660187",
   "metadata": {},
   "outputs": [
    {
     "data": {
      "text/plain": [
       "'a'"
      ]
     },
     "execution_count": 67,
     "metadata": {},
     "output_type": "execute_result"
    }
   ],
   "source": [
    "z4.mult('a^2', 'a^3')"
   ]
  },
  {
   "cell_type": "markdown",
   "id": "9496d32a",
   "metadata": {},
   "source": [
    "### Symmetric group on 3 letters"
   ]
  },
  {
   "cell_type": "markdown",
   "id": "926ff1f7",
   "metadata": {},
   "source": [
    "See this [definition at GitHub](https://github.com/nathancarter/group-explorer/blob/master/groups/S_3.group). \"Another name for this group is \"Dihedral group on 3 vertices.\""
   ]
  },
  {
   "cell_type": "code",
   "execution_count": 68,
   "id": "5d2645a5",
   "metadata": {},
   "outputs": [
    {
     "name": "stdout",
     "output_type": "stream",
     "text": [
      "{\"type\": \"Group\",\r\n",
      " \"name\": \"S3\",\r\n",
      " \"description\": \"Symmetric group on 3 letters\",\r\n",
      " \"element_names\": [\"e\", \"r\", \"r^2\", \"f\", \"fr\", \"rf\"],\r\n",
      " \"mult_table\": [[0, 1, 2, 3, 4, 5],\r\n",
      "                [1, 2, 0, 5, 3, 4],\r\n",
      "                [2, 0, 1, 4, 5, 3],\r\n",
      "                [3, 4, 5, 0, 1, 2],\r\n",
      "                [4, 5, 3, 2, 0, 1],\r\n",
      "                [5, 3, 4, 1, 2, 0]]\r\n",
      "}\r\n"
     ]
    }
   ],
   "source": [
    "s3_json = os.path.join(alg_dir, \"s3_symmetric_group_on_3_letters.json\")\n",
    "\n",
    "!cat {s3_json}"
   ]
  },
  {
   "cell_type": "code",
   "execution_count": 69,
   "id": "5fe1ec7d",
   "metadata": {},
   "outputs": [
    {
     "name": "stdout",
     "output_type": "stream",
     "text": [
      "\n",
      "Group : S3 : Symmetric group on 3 letters\n",
      "  Element Names: ['e', 'r', 'r^2', 'f', 'fr', 'rf']\n",
      "  Is Abelian? False\n",
      "  Inverses:  (** - indicates that it is its own inverse)\n",
      "    inv(e) = e   **\n",
      "    inv(r) = r^2 \n",
      "    inv(r^2) = r \n",
      "    inv(f) = f   **\n",
      "    inv(fr) = fr   **\n",
      "    inv(rf) = rf   **\n",
      "Element Orders:\n",
      "{1: ['e'], 2: ['f', 'fr', 'rf'], 3: ['r', 'r^2']}\n",
      "  Is associative? True\n",
      "  Cayley Table:\n",
      "[['e', 'r', 'r^2', 'f', 'fr', 'rf'],\n",
      " ['r', 'r^2', 'e', 'rf', 'f', 'fr'],\n",
      " ['r^2', 'e', 'r', 'fr', 'rf', 'f'],\n",
      " ['f', 'fr', 'rf', 'e', 'r', 'r^2'],\n",
      " ['fr', 'rf', 'f', 'r^2', 'e', 'r'],\n",
      " ['rf', 'f', 'fr', 'r', 'r^2', 'e']]\n"
     ]
    }
   ],
   "source": [
    "s3 = alg.Group(s3_json)\n",
    "\n",
    "s3.print_info()"
   ]
  },
  {
   "cell_type": "code",
   "execution_count": 70,
   "id": "4c7896c3",
   "metadata": {},
   "outputs": [
    {
     "data": {
      "text/plain": [
       "'f'"
      ]
     },
     "execution_count": 70,
     "metadata": {},
     "output_type": "execute_result"
    }
   ],
   "source": [
    "s3.mult('fr', 'r^2')"
   ]
  },
  {
   "cell_type": "code",
   "execution_count": 71,
   "id": "1591d495",
   "metadata": {},
   "outputs": [
    {
     "data": {
      "text/plain": [
       "'rf'"
      ]
     },
     "execution_count": 71,
     "metadata": {},
     "output_type": "execute_result"
    }
   ],
   "source": [
    "s3.mult('r^2', 'fr')"
   ]
  },
  {
   "cell_type": "markdown",
   "id": "8b6f8937",
   "metadata": {},
   "source": [
    "### Symmetric Group, S3 (not same as S3, above)"
   ]
  },
  {
   "cell_type": "markdown",
   "id": "ffcc2a75",
   "metadata": {},
   "source": [
    "This is the [Symmetric group, S3, as specified at Groupprops](https://groupprops.subwiki.org/wiki/Symmetric_group:S3).\n",
    "\n",
    "W.r.t., how to interpret the multiplication table, the following quote helps:\n",
    "\n",
    "[[from Wikipedia](https://groupprops.subwiki.org/wiki/Symmetric_group:S3)] \"We portray elements as permutations on the set \\{ 1,2,3 \\} using the cycle decomposition. The row element is multiplied on the left and the column element on the right, with the assumption of functions written on the left. This means that the column element is applied first and the row element is applied next.\""
   ]
  },
  {
   "cell_type": "code",
   "execution_count": 72,
   "id": "d17e0d3e",
   "metadata": {},
   "outputs": [],
   "source": [
    "s3x = alg.Group('S3X',\n",
    "           'Another version of the symmetric group on 3 letters',\n",
    "           ['()', '(1,2)', '(2,3)', '(1,3)', '(1,2,3)', '(1,3,2)'],\n",
    "           [[0, 1, 2, 3, 4, 5],\n",
    "            [1, 0, 4, 5, 2, 3],\n",
    "            [2, 5, 0, 4, 3, 1],\n",
    "            [3, 4, 5, 0, 1, 2],\n",
    "            [4, 3, 1, 2, 5, 0],\n",
    "            [5, 2, 3, 1, 0, 4]]\n",
    "          )"
   ]
  },
  {
   "cell_type": "code",
   "execution_count": 73,
   "id": "d9805f24",
   "metadata": {},
   "outputs": [
    {
     "data": {
      "text/plain": [
       "'{\"type\": \"Group\", \"name\": \"S3X\", \"description\": \"Another version of the symmetric group on 3 letters\", \"element_names\": [\"()\", \"(1,2)\", \"(2,3)\", \"(1,3)\", \"(1,2,3)\", \"(1,3,2)\"], \"mult_table\": [[0, 1, 2, 3, 4, 5], [1, 0, 4, 5, 2, 3], [2, 5, 0, 4, 3, 1], [3, 4, 5, 0, 1, 2], [4, 3, 1, 2, 5, 0], [5, 2, 3, 1, 0, 4]]}'"
      ]
     },
     "execution_count": 73,
     "metadata": {},
     "output_type": "execute_result"
    }
   ],
   "source": [
    "s3x.dumps()"
   ]
  },
  {
   "cell_type": "code",
   "execution_count": 74,
   "id": "347b0cb1",
   "metadata": {},
   "outputs": [
    {
     "name": "stdout",
     "output_type": "stream",
     "text": [
      "{\"type\": \"Group\",\r\n",
      " \"name\": \"S3X\",\r\n",
      " \"description\":\"Another version of the symmetric group on 3 letters\",\r\n",
      " \"element_names\": [\"()\", \"(1,2)\", \"(2,3)\", \"(1,3)\", \"(1,2,3)\", \"(1,3,2)\"],\r\n",
      " \"mult_table\": [[0, 1, 2, 3, 4, 5],\r\n",
      "                [1, 0, 4, 5, 2, 3],\r\n",
      "                [2, 5, 0, 4, 3, 1],\r\n",
      "                [3, 4, 5, 0, 1, 2],\r\n",
      "                [4, 3, 1, 2, 5, 0],\r\n",
      "                [5, 2, 3, 1, 0, 4]]\r\n",
      "}\r\n"
     ]
    }
   ],
   "source": [
    "s3x_json = os.path.join(alg_dir, \"s3x_symmetric_group_OTHER.json\")\n",
    "\n",
    "!cat {s3x_json}"
   ]
  },
  {
   "cell_type": "code",
   "execution_count": 75,
   "id": "c19befe6",
   "metadata": {},
   "outputs": [
    {
     "name": "stdout",
     "output_type": "stream",
     "text": [
      "\n",
      "Group : S3X : Another version of the symmetric group on 3 letters\n",
      "  Element Names: ['()', '(1,2)', '(2,3)', '(1,3)', '(1,2,3)', '(1,3,2)']\n",
      "  Is Abelian? False\n",
      "  Inverses:  (** - indicates that it is its own inverse)\n",
      "    inv(()) = ()   **\n",
      "    inv((1,2)) = (1,2)   **\n",
      "    inv((2,3)) = (2,3)   **\n",
      "    inv((1,3)) = (1,3)   **\n",
      "    inv((1,2,3)) = (1,3,2) \n",
      "    inv((1,3,2)) = (1,2,3) \n",
      "Element Orders:\n",
      "{1: ['()'], 2: ['(1,2)', '(2,3)', '(1,3)'], 3: ['(1,2,3)', '(1,3,2)']}\n",
      "  Is associative? True\n",
      "  Cayley Table:\n",
      "[['()', '(1,2)', '(2,3)', '(1,3)', '(1,2,3)', '(1,3,2)'],\n",
      " ['(1,2)', '()', '(1,2,3)', '(1,3,2)', '(2,3)', '(1,3)'],\n",
      " ['(2,3)', '(1,3,2)', '()', '(1,2,3)', '(1,3)', '(1,2)'],\n",
      " ['(1,3)', '(1,2,3)', '(1,3,2)', '()', '(1,2)', '(2,3)'],\n",
      " ['(1,2,3)', '(1,3)', '(1,2)', '(2,3)', '(1,3,2)', '()'],\n",
      " ['(1,3,2)', '(2,3)', '(1,3)', '(1,2)', '()', '(1,2,3)']]\n"
     ]
    }
   ],
   "source": [
    "s3x = alg.Group(s3x_json)\n",
    "\n",
    "s3x.print_info()"
   ]
  },
  {
   "cell_type": "code",
   "execution_count": 76,
   "id": "9a61d909",
   "metadata": {},
   "outputs": [
    {
     "data": {
      "text/plain": [
       "'(1,2,3)'"
      ]
     },
     "execution_count": 76,
     "metadata": {},
     "output_type": "execute_result"
    }
   ],
   "source": [
    "s3x.mult('(1,2)', '(2,3)')"
   ]
  },
  {
   "cell_type": "markdown",
   "id": "d02f90cd",
   "metadata": {},
   "source": [
    "#### Write out group to JSON file"
   ]
  },
  {
   "cell_type": "code",
   "execution_count": 77,
   "id": "a566258f",
   "metadata": {},
   "outputs": [],
   "source": [
    "s3x_test_json_dump = os.path.join(alg_dir, \"s3x_TEST_JSON_DUMP.json\")\n",
    "\n",
    "s3x.dump(s3x_test_json_dump)"
   ]
  },
  {
   "cell_type": "markdown",
   "id": "f17a8e11",
   "metadata": {},
   "source": [
    "## Z_2 x Z_2 x Z_2"
   ]
  },
  {
   "cell_type": "code",
   "execution_count": 78,
   "id": "e925e3b8",
   "metadata": {},
   "outputs": [],
   "source": [
    "Z2xZ2xZ2 = alg.Group('Z_2 x Z_2 x Z_2',\n",
    "                 'no description',\n",
    "                 ['eee', 'aee', 'eae', 'aae', 'eea', 'aea', 'eaa', 'aaa'],\n",
    "                 [[0, 1, 2, 3, 4, 5, 6, 7],\n",
    "                  [1, 0, 3, 2, 5, 4, 7, 6],\n",
    "                  [2, 3, 0, 1, 6, 7, 4, 5],\n",
    "                  [3, 2, 1, 0, 7, 6, 5, 4],\n",
    "                  [4, 5, 6, 7, 0, 1, 2, 3],\n",
    "                  [5, 4, 7, 6, 1, 0, 3, 2],\n",
    "                  [6, 7, 4, 5, 2, 3, 0, 1],\n",
    "                  [7, 6, 5, 4, 3, 2, 1, 0]]\n",
    "                )"
   ]
  },
  {
   "cell_type": "code",
   "execution_count": 79,
   "id": "2bdd3d8d",
   "metadata": {},
   "outputs": [
    {
     "data": {
      "text/plain": [
       "'{\"type\": \"Group\", \"name\": \"Z_2 x Z_2 x Z_2\", \"description\": \"no description\", \"element_names\": [\"eee\", \"aee\", \"eae\", \"aae\", \"eea\", \"aea\", \"eaa\", \"aaa\"], \"mult_table\": [[0, 1, 2, 3, 4, 5, 6, 7], [1, 0, 3, 2, 5, 4, 7, 6], [2, 3, 0, 1, 6, 7, 4, 5], [3, 2, 1, 0, 7, 6, 5, 4], [4, 5, 6, 7, 0, 1, 2, 3], [5, 4, 7, 6, 1, 0, 3, 2], [6, 7, 4, 5, 2, 3, 0, 1], [7, 6, 5, 4, 3, 2, 1, 0]]}'"
      ]
     },
     "execution_count": 79,
     "metadata": {},
     "output_type": "execute_result"
    }
   ],
   "source": [
    "Z2xZ2xZ2.dumps()"
   ]
  },
  {
   "cell_type": "markdown",
   "id": "85acd5a6",
   "metadata": {},
   "source": [
    "## Direct Products"
   ]
  },
  {
   "cell_type": "code",
   "execution_count": 80,
   "id": "47b2661e",
   "metadata": {},
   "outputs": [],
   "source": [
    "z2 = alg.Group('Z2',\n",
    "           'Cyclic group of order 2',\n",
    "           ['E', 'A'],\n",
    "           [[0, 1],\n",
    "            [1, 0]]\n",
    "          )\n",
    "\n",
    "z3 = alg.Group('Z3',\n",
    "           'Cyclic group of order 3',\n",
    "           ['E', 'A', 'B'],\n",
    "           [[0, 1, 2],\n",
    "            [1, 2, 0],\n",
    "            [2, 0, 1]]\n",
    "          )"
   ]
  },
  {
   "cell_type": "code",
   "execution_count": 81,
   "id": "0134de51",
   "metadata": {},
   "outputs": [
    {
     "data": {
      "text/plain": [
       "Group('Z3_x_Z3',\n",
       "'Direct product of Z3 & Z3',\n",
       "['E:E', 'E:A', 'E:B', 'A:E', 'A:A', 'A:B', 'B:E', 'B:A', 'B:B'],\n",
       "[[0, 1, 2, 3, 4, 5, 6, 7, 8], [1, 2, 0, 4, 5, 3, 7, 8, 6], [2, 0, 1, 5, 3, 4, 8, 6, 7], [3, 4, 5, 6, 7, 8, 0, 1, 2], [4, 5, 3, 7, 8, 6, 1, 2, 0], [5, 3, 4, 8, 6, 7, 2, 0, 1], [6, 7, 8, 0, 1, 2, 3, 4, 5], [7, 8, 6, 1, 2, 0, 4, 5, 3], [8, 6, 7, 2, 0, 1, 5, 3, 4]]) "
      ]
     },
     "execution_count": 81,
     "metadata": {},
     "output_type": "execute_result"
    }
   ],
   "source": [
    "z3_x_z3 = z3 * z3\n",
    "z3_x_z3"
   ]
  },
  {
   "cell_type": "code",
   "execution_count": 82,
   "id": "33ccbf15",
   "metadata": {},
   "outputs": [
    {
     "data": {
      "text/plain": [
       "['E:E', 'E:A', 'E:B', 'A:E', 'A:A', 'A:B', 'B:E', 'B:A', 'B:B']"
      ]
     },
     "execution_count": 82,
     "metadata": {},
     "output_type": "execute_result"
    }
   ],
   "source": [
    "z3_x_z3.element_names"
   ]
  },
  {
   "cell_type": "code",
   "execution_count": 83,
   "id": "367fd42b",
   "metadata": {},
   "outputs": [
    {
     "data": {
      "text/plain": [
       "array([[0, 1, 2, 3, 4, 5, 6, 7, 8],\n",
       "       [1, 2, 0, 4, 5, 3, 7, 8, 6],\n",
       "       [2, 0, 1, 5, 3, 4, 8, 6, 7],\n",
       "       [3, 4, 5, 6, 7, 8, 0, 1, 2],\n",
       "       [4, 5, 3, 7, 8, 6, 1, 2, 0],\n",
       "       [5, 3, 4, 8, 6, 7, 2, 0, 1],\n",
       "       [6, 7, 8, 0, 1, 2, 3, 4, 5],\n",
       "       [7, 8, 6, 1, 2, 0, 4, 5, 3],\n",
       "       [8, 6, 7, 2, 0, 1, 5, 3, 4]])"
      ]
     },
     "execution_count": 83,
     "metadata": {},
     "output_type": "execute_result"
    }
   ],
   "source": [
    "z3_x_z3.mult_table"
   ]
  },
  {
   "cell_type": "code",
   "execution_count": 84,
   "id": "5c815278",
   "metadata": {},
   "outputs": [
    {
     "data": {
      "text/plain": [
       "[['E:E', 'E:A', 'E:B', 'A:E', 'A:A', 'A:B', 'B:E', 'B:A', 'B:B'],\n",
       " ['E:A', 'E:B', 'E:E', 'A:A', 'A:B', 'A:E', 'B:A', 'B:B', 'B:E'],\n",
       " ['E:B', 'E:E', 'E:A', 'A:B', 'A:E', 'A:A', 'B:B', 'B:E', 'B:A'],\n",
       " ['A:E', 'A:A', 'A:B', 'B:E', 'B:A', 'B:B', 'E:E', 'E:A', 'E:B'],\n",
       " ['A:A', 'A:B', 'A:E', 'B:A', 'B:B', 'B:E', 'E:A', 'E:B', 'E:E'],\n",
       " ['A:B', 'A:E', 'A:A', 'B:B', 'B:E', 'B:A', 'E:B', 'E:E', 'E:A'],\n",
       " ['B:E', 'B:A', 'B:B', 'E:E', 'E:A', 'E:B', 'A:E', 'A:A', 'A:B'],\n",
       " ['B:A', 'B:B', 'B:E', 'E:A', 'E:B', 'E:E', 'A:A', 'A:B', 'A:E'],\n",
       " ['B:B', 'B:E', 'B:A', 'E:B', 'E:E', 'E:A', 'A:B', 'A:E', 'A:A']]"
      ]
     },
     "execution_count": 84,
     "metadata": {},
     "output_type": "execute_result"
    }
   ],
   "source": [
    "z3_x_z3.mult_table_with_names()"
   ]
  },
  {
   "cell_type": "code",
   "execution_count": 85,
   "id": "551ec328",
   "metadata": {},
   "outputs": [],
   "source": [
    "# z3_x_z3.pretty_print_mult_table()"
   ]
  },
  {
   "cell_type": "code",
   "execution_count": 86,
   "id": "b03f2885",
   "metadata": {},
   "outputs": [
    {
     "name": "stdout",
     "output_type": "stream",
     "text": [
      "inv(E:E) = E:E\n",
      "inv(E:A) = E:B\n",
      "inv(E:B) = E:A\n",
      "inv(A:E) = B:E\n",
      "inv(A:A) = B:B\n",
      "inv(A:B) = B:A\n",
      "inv(B:E) = A:E\n",
      "inv(B:A) = A:B\n",
      "inv(B:B) = A:A\n"
     ]
    }
   ],
   "source": [
    "for elem in z3_x_z3.element_names:\n",
    "    print(f\"inv({elem}) = {z3_x_z3.inverse(elem)}\")"
   ]
  },
  {
   "cell_type": "code",
   "execution_count": 87,
   "id": "e7a34d1d",
   "metadata": {},
   "outputs": [
    {
     "data": {
      "text/plain": [
       "True"
      ]
     },
     "execution_count": 87,
     "metadata": {},
     "output_type": "execute_result"
    }
   ],
   "source": [
    "z3_x_z3.abelian()"
   ]
  },
  {
   "cell_type": "code",
   "execution_count": 88,
   "id": "0cfc9855",
   "metadata": {},
   "outputs": [
    {
     "data": {
      "text/plain": [
       "True"
      ]
     },
     "execution_count": 88,
     "metadata": {},
     "output_type": "execute_result"
    }
   ],
   "source": [
    "z3_x_z3.associative()"
   ]
  },
  {
   "cell_type": "code",
   "execution_count": 89,
   "id": "5b8fc292",
   "metadata": {},
   "outputs": [],
   "source": [
    "z2_x_z2_x_z2 = z2 * z2 * z2"
   ]
  },
  {
   "cell_type": "code",
   "execution_count": 90,
   "id": "77679fbb",
   "metadata": {},
   "outputs": [
    {
     "data": {
      "text/plain": [
       "['E:E:E', 'E:E:A', 'E:A:E', 'E:A:A', 'A:E:E', 'A:E:A', 'A:A:E', 'A:A:A']"
      ]
     },
     "execution_count": 90,
     "metadata": {},
     "output_type": "execute_result"
    }
   ],
   "source": [
    "z2_x_z2_x_z2.element_names"
   ]
  },
  {
   "cell_type": "code",
   "execution_count": 91,
   "id": "27d73dbe",
   "metadata": {},
   "outputs": [
    {
     "data": {
      "text/plain": [
       "array([[0, 1, 2, 3, 4, 5, 6, 7],\n",
       "       [1, 0, 3, 2, 5, 4, 7, 6],\n",
       "       [2, 3, 0, 1, 6, 7, 4, 5],\n",
       "       [3, 2, 1, 0, 7, 6, 5, 4],\n",
       "       [4, 5, 6, 7, 0, 1, 2, 3],\n",
       "       [5, 4, 7, 6, 1, 0, 3, 2],\n",
       "       [6, 7, 4, 5, 2, 3, 0, 1],\n",
       "       [7, 6, 5, 4, 3, 2, 1, 0]])"
      ]
     },
     "execution_count": 91,
     "metadata": {},
     "output_type": "execute_result"
    }
   ],
   "source": [
    "z2_x_z2_x_z2.mult_table"
   ]
  },
  {
   "cell_type": "code",
   "execution_count": 92,
   "id": "44e22279",
   "metadata": {
    "scrolled": true
   },
   "outputs": [
    {
     "name": "stdout",
     "output_type": "stream",
     "text": [
      "inv(E:E:E) = E:E:E\n",
      "inv(E:E:A) = E:E:A\n",
      "inv(E:A:E) = E:A:E\n",
      "inv(E:A:A) = E:A:A\n",
      "inv(A:E:E) = A:E:E\n",
      "inv(A:E:A) = A:E:A\n",
      "inv(A:A:E) = A:A:E\n",
      "inv(A:A:A) = A:A:A\n"
     ]
    }
   ],
   "source": [
    "for elem in z2_x_z2_x_z2.element_names:\n",
    "    print(f\"inv({elem}) = {z2_x_z2_x_z2.inverse(elem)}\")"
   ]
  },
  {
   "cell_type": "markdown",
   "id": "ab28b512",
   "metadata": {},
   "source": [
    "## Tesseract group"
   ]
  },
  {
   "cell_type": "markdown",
   "id": "3c954f75",
   "metadata": {},
   "source": [
    "This group has 384 elements and was converted to JSON from [this definition](https://github.com/nathancarter/group-explorer/blob/master/groups/Tesseract.group)."
   ]
  },
  {
   "cell_type": "code",
   "execution_count": 93,
   "id": "9979708d",
   "metadata": {},
   "outputs": [
    {
     "name": "stdout",
     "output_type": "stream",
     "text": [
      "<Group: Tesseract, The symmetries of the hypercube>\n"
     ]
    }
   ],
   "source": [
    "tesseract_path = os.path.join(alg_dir, \"tesseract.json\")\n",
    "tesseract = alg.Group(tesseract_path)\n",
    "print(tesseract)"
   ]
  },
  {
   "cell_type": "code",
   "execution_count": 94,
   "id": "d73c5352",
   "metadata": {},
   "outputs": [
    {
     "data": {
      "text/plain": [
       "False"
      ]
     },
     "execution_count": 94,
     "metadata": {},
     "output_type": "execute_result"
    }
   ],
   "source": [
    "tesseract.abelian()"
   ]
  },
  {
   "cell_type": "code",
   "execution_count": 95,
   "id": "c81833a7",
   "metadata": {},
   "outputs": [],
   "source": [
    "#tesseract.associative() # True"
   ]
  },
  {
   "cell_type": "code",
   "execution_count": 96,
   "id": "6351edc8",
   "metadata": {},
   "outputs": [
    {
     "data": {
      "text/plain": [
       "384"
      ]
     },
     "execution_count": 96,
     "metadata": {},
     "output_type": "execute_result"
    }
   ],
   "source": [
    "len(tesseract.element_names)"
   ]
  },
  {
   "cell_type": "markdown",
   "id": "7a562753",
   "metadata": {},
   "source": [
    "Here are the first n elements:"
   ]
  },
  {
   "cell_type": "code",
   "execution_count": 97,
   "id": "ce5d08e0",
   "metadata": {},
   "outputs": [
    {
     "data": {
      "text/plain": [
       "['e',\n",
       " 'a',\n",
       " 'b',\n",
       " 'ba',\n",
       " 'bb',\n",
       " 'bba',\n",
       " 'ab',\n",
       " 'aba',\n",
       " 'bab',\n",
       " 'baba',\n",
       " 'bbab',\n",
       " 'abababba',\n",
       " 'abb',\n",
       " 'abba',\n",
       " 'babb',\n",
       " 'abababbab',\n",
       " 'ababa',\n",
       " 'abab',\n",
       " 'abbab',\n",
       " 'acabababbac',\n",
       " 'babbab',\n",
       " 'ababbab',\n",
       " 'ababb',\n",
       " 'ababba',\n",
       " 'c']"
      ]
     },
     "execution_count": 97,
     "metadata": {},
     "output_type": "execute_result"
    }
   ],
   "source": [
    "n = 25\n",
    "tesseract.element_names[:n]"
   ]
  },
  {
   "cell_type": "code",
   "execution_count": 98,
   "id": "38f0a605",
   "metadata": {},
   "outputs": [
    {
     "data": {
      "text/plain": [
       "'babbab'"
      ]
     },
     "execution_count": 98,
     "metadata": {},
     "output_type": "execute_result"
    }
   ],
   "source": [
    "tesseract.mult('abab', 'baba')"
   ]
  },
  {
   "cell_type": "markdown",
   "id": "b7ef95f0",
   "metadata": {},
   "source": [
    "## Scratch Work"
   ]
  },
  {
   "cell_type": "code",
   "execution_count": 99,
   "id": "16c8ad3a",
   "metadata": {},
   "outputs": [
    {
     "name": "stdout",
     "output_type": "stream",
     "text": [
      "{\"type\": \"Group\",\r\n",
      " \"name\": \"S3\",\r\n",
      " \"description\": \"Symmetric group on 3 letters\",\r\n",
      " \"element_names\": [\"e\", \"r\", \"r^2\", \"f\", \"fr\", \"rf\"],\r\n",
      " \"mult_table\": [[0, 1, 2, 3, 4, 5],\r\n",
      "                [1, 2, 0, 5, 3, 4],\r\n",
      "                [2, 0, 1, 4, 5, 3],\r\n",
      "                [3, 4, 5, 0, 1, 2],\r\n",
      "                [4, 5, 3, 2, 0, 1],\r\n",
      "                [5, 3, 4, 1, 2, 0]]\r\n",
      "}\r\n"
     ]
    }
   ],
   "source": [
    "!cat {s3_json}"
   ]
  },
  {
   "cell_type": "code",
   "execution_count": 100,
   "id": "7dd41015",
   "metadata": {},
   "outputs": [
    {
     "data": {
      "text/plain": [
       "Group('S3X',\n",
       "'Another version of the symmetric group on 3 letters',\n",
       "['()', '(1,2)', '(2,3)', '(1,3)', '(1,2,3)', '(1,3,2)'],\n",
       "[[0, 1, 2, 3, 4, 5], [1, 0, 4, 5, 2, 3], [2, 5, 0, 4, 3, 1], [3, 4, 5, 0, 1, 2], [4, 3, 1, 2, 5, 0], [5, 2, 3, 1, 0, 4]]) "
      ]
     },
     "execution_count": 100,
     "metadata": {},
     "output_type": "execute_result"
    }
   ],
   "source": [
    "s3x = alg.Group(s3x_json)\n",
    "s3x"
   ]
  },
  {
   "cell_type": "code",
   "execution_count": 101,
   "id": "937fe4cb",
   "metadata": {},
   "outputs": [
    {
     "data": {
      "text/plain": [
       "['()', '(1,2)', '(2,3)', '(1,3)', '(1,2,3)', '(1,3,2)']"
      ]
     },
     "execution_count": 101,
     "metadata": {},
     "output_type": "execute_result"
    }
   ],
   "source": [
    "s3x.element_names"
   ]
  },
  {
   "cell_type": "code",
   "execution_count": 102,
   "id": "a5330f60",
   "metadata": {},
   "outputs": [],
   "source": [
    "# s3x.pretty_print_mult_table()"
   ]
  },
  {
   "cell_type": "code",
   "execution_count": 103,
   "id": "b6948ffa",
   "metadata": {},
   "outputs": [
    {
     "data": {
      "text/plain": [
       "array([[0, 1, 2, 3, 4, 5],\n",
       "       [1, 0, 4, 5, 2, 3],\n",
       "       [2, 5, 0, 4, 3, 1],\n",
       "       [3, 4, 5, 0, 1, 2],\n",
       "       [4, 3, 1, 2, 5, 0],\n",
       "       [5, 2, 3, 1, 0, 4]])"
      ]
     },
     "execution_count": 103,
     "metadata": {},
     "output_type": "execute_result"
    }
   ],
   "source": [
    "s3x.mult_table"
   ]
  },
  {
   "cell_type": "code",
   "execution_count": 104,
   "id": "c0889f3a",
   "metadata": {},
   "outputs": [],
   "source": [
    "# my_array[:, [2, 0]] = my_array[:, [0, 2]]\n",
    "\n",
    "s3x.mult_table[:, [5, 4]] = s3x.mult_table[:, [4, 5]]\n",
    "s3x.mult_table[[5, 4], :] = s3x.mult_table[[4, 5], :]\n",
    "s3x.element_names[5], s3x.element_names[4] = s3x.element_names[4], s3x.element_names[5]"
   ]
  },
  {
   "cell_type": "code",
   "execution_count": 105,
   "id": "c97e495e",
   "metadata": {},
   "outputs": [
    {
     "data": {
      "text/plain": [
       "['()', '(1,2)', '(2,3)', '(1,3)', '(1,3,2)', '(1,2,3)']"
      ]
     },
     "execution_count": 105,
     "metadata": {},
     "output_type": "execute_result"
    }
   ],
   "source": [
    "s3x.element_names"
   ]
  },
  {
   "cell_type": "code",
   "execution_count": 106,
   "id": "144ced47",
   "metadata": {},
   "outputs": [
    {
     "data": {
      "text/plain": [
       "array([[0, 1, 2, 3, 5, 4],\n",
       "       [1, 0, 4, 5, 3, 2],\n",
       "       [2, 5, 0, 4, 1, 3],\n",
       "       [3, 4, 5, 0, 2, 1],\n",
       "       [5, 2, 3, 1, 4, 0],\n",
       "       [4, 3, 1, 2, 0, 5]])"
      ]
     },
     "execution_count": 106,
     "metadata": {},
     "output_type": "execute_result"
    }
   ],
   "source": [
    "s3x.mult_table"
   ]
  },
  {
   "cell_type": "code",
   "execution_count": 107,
   "id": "a9d982e1",
   "metadata": {},
   "outputs": [],
   "source": [
    "# s3x.pretty_print_mult_table()"
   ]
  },
  {
   "cell_type": "markdown",
   "id": "7e3b8ab5",
   "metadata": {},
   "source": [
    "### Algebra from Pinter's book, top of page 29"
   ]
  },
  {
   "cell_type": "code",
   "execution_count": 108,
   "id": "1d54be24",
   "metadata": {},
   "outputs": [],
   "source": [
    "foo = [\"IABCDK\", \"AICBKD\", \"BKDAIC\", \"CDKIAB\", \"DCIKBA\", \"KBADCI\"]"
   ]
  },
  {
   "cell_type": "code",
   "execution_count": 109,
   "id": "6466fcbb",
   "metadata": {},
   "outputs": [
    {
     "data": {
      "text/plain": [
       "[['I', 'A', 'B', 'C', 'D', 'K'],\n",
       " ['A', 'I', 'C', 'B', 'K', 'D'],\n",
       " ['B', 'K', 'D', 'A', 'I', 'C'],\n",
       " ['C', 'D', 'K', 'I', 'A', 'B'],\n",
       " ['D', 'C', 'I', 'K', 'B', 'A'],\n",
       " ['K', 'B', 'A', 'D', 'C', 'I']]"
      ]
     },
     "execution_count": 109,
     "metadata": {},
     "output_type": "execute_result"
    }
   ],
   "source": [
    "table = list(map(list, foo))\n",
    "table"
   ]
  },
  {
   "cell_type": "code",
   "execution_count": 110,
   "id": "6d783a5d",
   "metadata": {},
   "outputs": [
    {
     "data": {
      "text/plain": [
       "[[0, 1, 2, 3, 4, 5],\n",
       " [1, 0, 3, 2, 5, 4],\n",
       " [2, 5, 4, 1, 0, 3],\n",
       " [3, 4, 5, 0, 1, 2],\n",
       " [4, 3, 0, 5, 2, 1],\n",
       " [5, 2, 1, 4, 3, 0]]"
      ]
     },
     "execution_count": 110,
     "metadata": {},
     "output_type": "execute_result"
    }
   ],
   "source": [
    "alg.index_table_from_name_table(table)"
   ]
  },
  {
   "cell_type": "code",
   "execution_count": 111,
   "id": "06163c08",
   "metadata": {},
   "outputs": [],
   "source": [
    "foo = alg.Group(\"Test\", \"yada, yada, yada, ...\", table)"
   ]
  },
  {
   "cell_type": "code",
   "execution_count": 112,
   "id": "a9f5c7fb",
   "metadata": {},
   "outputs": [
    {
     "data": {
      "text/plain": [
       "Group('Test',\n",
       "'yada, yada, yada, ...',\n",
       "['I', 'A', 'B', 'C', 'D', 'K'],\n",
       "[[0, 1, 2, 3, 4, 5], [1, 0, 3, 2, 5, 4], [2, 5, 4, 1, 0, 3], [3, 4, 5, 0, 1, 2], [4, 3, 0, 5, 2, 1], [5, 2, 1, 4, 3, 0]]) "
      ]
     },
     "execution_count": 112,
     "metadata": {},
     "output_type": "execute_result"
    }
   ],
   "source": [
    "foo"
   ]
  },
  {
   "cell_type": "code",
   "execution_count": 113,
   "id": "b550f815",
   "metadata": {},
   "outputs": [
    {
     "data": {
      "text/plain": [
       "'{\"type\": \"Group\", \"name\": \"Test\", \"description\": \"yada, yada, yada, ...\", \"element_names\": [\"I\", \"A\", \"B\", \"C\", \"D\", \"K\"], \"mult_table\": [[0, 1, 2, 3, 4, 5], [1, 0, 3, 2, 5, 4], [2, 5, 4, 1, 0, 3], [3, 4, 5, 0, 1, 2], [4, 3, 0, 5, 2, 1], [5, 2, 1, 4, 3, 0]]}'"
      ]
     },
     "execution_count": 113,
     "metadata": {},
     "output_type": "execute_result"
    }
   ],
   "source": [
    "foo.dumps()"
   ]
  },
  {
   "cell_type": "code",
   "execution_count": 114,
   "id": "b7356791",
   "metadata": {},
   "outputs": [
    {
     "data": {
      "text/plain": [
       "Group('Non-Abelian_Example',\n",
       "'Example on page 29 of 'A Book of Abstract Algebra' by Charles C. Pinter',\n",
       "['I', 'A', 'B', 'C', 'D', 'K'],\n",
       "[[0, 1, 2, 3, 4, 5], [1, 0, 3, 2, 5, 4], [2, 5, 4, 1, 0, 3], [3, 4, 5, 0, 1, 2], [4, 3, 0, 5, 2, 1], [5, 2, 1, 4, 3, 0]]) "
      ]
     },
     "execution_count": 114,
     "metadata": {},
     "output_type": "execute_result"
    }
   ],
   "source": [
    "pinter_p29_path = os.path.join(alg_dir, \"Pinter_page_29.json\")\n",
    "pinter_p29 = alg.Group(pinter_p29_path)\n",
    "pinter_p29"
   ]
  },
  {
   "cell_type": "code",
   "execution_count": 115,
   "id": "d04c9998",
   "metadata": {},
   "outputs": [
    {
     "name": "stdout",
     "output_type": "stream",
     "text": [
      "\n",
      "Group : Non-Abelian_Example : Example on page 29 of 'A Book of Abstract Algebra' by Charles C. Pinter\n",
      "  Element Names: ['I', 'A', 'B', 'C', 'D', 'K']\n",
      "  Is Abelian? False\n",
      "  Inverses:  (** - indicates that it is its own inverse)\n",
      "    inv(I) = I   **\n",
      "    inv(A) = A   **\n",
      "    inv(B) = D \n",
      "    inv(C) = C   **\n",
      "    inv(D) = B \n",
      "    inv(K) = K   **\n",
      "Element Orders:\n",
      "{1: ['I'], 2: ['A', 'C', 'K'], 3: ['B', 'D']}\n",
      "  Is associative? True\n",
      "  Cayley Table:\n",
      "[['I', 'A', 'B', 'C', 'D', 'K'],\n",
      " ['A', 'I', 'C', 'B', 'K', 'D'],\n",
      " ['B', 'K', 'D', 'A', 'I', 'C'],\n",
      " ['C', 'D', 'K', 'I', 'A', 'B'],\n",
      " ['D', 'C', 'I', 'K', 'B', 'A'],\n",
      " ['K', 'B', 'A', 'D', 'C', 'I']]\n"
     ]
    }
   ],
   "source": [
    "pinter_p29.print_info()"
   ]
  },
  {
   "cell_type": "markdown",
   "id": "09824b5a",
   "metadata": {},
   "source": [
    "### Check Table"
   ]
  },
  {
   "cell_type": "code",
   "execution_count": 116,
   "id": "efc74b72",
   "metadata": {},
   "outputs": [],
   "source": [
    "from collections import Counter\n",
    "\n",
    "def duplicates(lst):\n",
    "    return [item for item, count in Counter(lst).items() if count > 1]"
   ]
  },
  {
   "cell_type": "code",
   "execution_count": 117,
   "id": "5eef5939",
   "metadata": {},
   "outputs": [],
   "source": [
    "def check_mult_table(element_names, mult_table):\n",
    "    \"\"\"Check that each row and column in the table has a unique number of elements equal to the\n",
    "    expected number of elements.  Basically, each element should appear exactly once in each row\n",
    "    and each column. Returns True if the table is OK.\"\"\"\n",
    "    \n",
    "    # Check for duplicate element names\n",
    "    #element_set = set(element_names)\n",
    "    dups = duplicates(element_names)\n",
    "    if len(dups) == 0:\n",
    "        pass\n",
    "    else:\n",
    "        raise ValueError(f\"Duplicate element names: {dups}\")\n",
    "\n",
    "    # Check that table is square\n",
    "    rows, cols = mult_table.shape\n",
    "    if (rows == cols):\n",
    "        pass\n",
    "    else:\n",
    "        raise ValueError(f\"The table is not square: {rows}x{cols}\")\n",
    "        \n",
    "    # Check that the row-col dimensions are the same as the number of elements\n",
    "\n",
    "    num_elements = len(element_names)\n",
    "    if (rows == num_elements):\n",
    "        pass\n",
    "    else:\n",
    "        raise ValueError(f\"Number of elements is {num_elements}, but table size is {rows}x{cols}\")\n",
    "\n",
    "    # Check that each table row contains the correct values for a Cayley table\n",
    "    correct_indices = set(range(num_elements))  # {0, 1, 2, ..., n-1}\n",
    "    row_number = -1\n",
    "    for row in mult_table:\n",
    "        row_number += 1\n",
    "        if (set(row) == correct_indices):\n",
    "            pass\n",
    "        else:\n",
    "            raise ValueError(f\"A row {row_number} does not contain the correct values\")\n",
    "\n",
    "    # Check that each table col contains the correct values for a Cayley table\n",
    "    for col_number in range(num_elements):\n",
    "        if (set(mult_table[:, col_number]) == correct_indices):\n",
    "            pass\n",
    "        else:\n",
    "            raise ValueError(f\"Column {col_number} does not contain the correct values\")\n",
    "\n",
    "    return True"
   ]
  },
  {
   "cell_type": "raw",
   "id": "41318c14",
   "metadata": {},
   "source": [
    "# Everything is OK for this case\n",
    "check_mult_table(['()', '(1,2)', '(2,3)', '(1,3)', '(1,2,3)', '(1,3,2)'],\n",
    "                     np.array([[0, 1, 2, 3, 4, 5],\n",
    "                               [1, 0, 4, 5, 2, 3],\n",
    "                               [2, 5, 0, 4, 3, 1],\n",
    "                               [3, 4, 5, 0, 1, 2],\n",
    "                               [4, 3, 1, 2, 5, 0],\n",
    "                               [5, 2, 3, 1, 0, 4]]\n",
    "                             )\n",
    "                    )"
   ]
  },
  {
   "cell_type": "raw",
   "id": "91a5530f",
   "metadata": {},
   "source": [
    "# Duplicate element names\n",
    "check_mult_table(['()', '(1,2)', '(2,3)', '(1,3)', '(1,3,2)', '(1,3,2)'],\n",
    "                     np.array([[0, 1, 2, 3, 4, 5],\n",
    "                               [1, 0, 4, 5, 2, 3],\n",
    "                               [2, 5, 0, 4, 3, 1],\n",
    "                               [3, 4, 5, 0, 1, 2],\n",
    "                               [4, 3, 1, 2, 5, 0],\n",
    "                               [5, 2, 3, 1, 0, 4]]\n",
    "                             )\n",
    "                    )"
   ]
  },
  {
   "cell_type": "raw",
   "id": "905f78c5",
   "metadata": {},
   "source": [
    "# Too many elements in element list\n",
    "check_addition_table(['()', '(1,2)', '(2,3)', '(1,3)', '(1,2,3)', '(1,3,2)', 'FUBAR'],\n",
    "                     np.array([[0, 1, 2, 3, 4, 5],\n",
    "                               [1, 0, 4, 5, 2, 3],\n",
    "                               [2, 5, 0, 4, 3, 1],\n",
    "                               [3, 4, 5, 0, 1, 2],\n",
    "                               [4, 3, 1, 2, 5, 0],\n",
    "                               [5, 2, 3, 1, 0, 4]]\n",
    "                             )\n",
    "                    )"
   ]
  },
  {
   "cell_type": "raw",
   "id": "081d2691",
   "metadata": {},
   "source": [
    "# Too few elements in element list\n",
    "check_addition_table(['()', '(1,2)', '(2,3)', '(1,3)', '(1,2,3)'],\n",
    "                     np.array([[0, 1, 2, 3, 4, 5],\n",
    "                               [1, 0, 4, 5, 2, 3],\n",
    "                               [2, 5, 0, 4, 3, 1],\n",
    "                               [3, 4, 5, 0, 1, 2],\n",
    "                               [4, 3, 1, 2, 5, 0],\n",
    "                               [5, 2, 3, 1, 0, 4]]\n",
    "                             )\n",
    "                    )"
   ]
  },
  {
   "cell_type": "raw",
   "id": "75d879aa",
   "metadata": {},
   "source": [
    "# Duplicate index number in row 2\n",
    "check_addition_table(['()', '(1,2)', '(2,3)', '(1,3)', '(1,2,3)', '(1,3,2)'],\n",
    "                     np.array([[0, 1, 2, 3, 4, 5],\n",
    "                               [1, 0, 4, 5, 2, 3],\n",
    "                               [2, 5, 0, 4, 0, 1],  # Second 0 should be a 3\n",
    "                               [3, 4, 5, 0, 1, 2],\n",
    "                               [4, 3, 1, 2, 5, 0],\n",
    "                               [5, 2, 3, 1, 0, 4]]\n",
    "                             )\n",
    "                    )"
   ]
  },
  {
   "cell_type": "raw",
   "id": "4016f6ba",
   "metadata": {},
   "source": [
    "# Missing row\n",
    "check_addition_table(['()', '(1,2)', '(2,3)', '(1,3)', '(1,2,3)', '(1,3,2)'],\n",
    "                     np.array([[0, 1, 2, 3, 4, 5],\n",
    "                               [1, 0, 4, 5, 2, 3],\n",
    "                               #[2, 5, 0, 4, 3, 1],\n",
    "                               [3, 4, 5, 0, 1, 2],\n",
    "                               [4, 3, 1, 2, 5, 0],\n",
    "                               [5, 2, 3, 1, 0, 4]]\n",
    "                             )\n",
    "                    )"
   ]
  },
  {
   "cell_type": "raw",
   "id": "68a4ffe2",
   "metadata": {},
   "source": [
    "# Extra row\n",
    "check_addition_table(['()', '(1,2)', '(2,3)', '(1,3)', '(1,2,3)', '(1,3,2)'],\n",
    "                     np.array([[0, 1, 2, 3, 4, 5],\n",
    "                               [1, 0, 4, 5, 2, 3],\n",
    "                               [2, 5, 0, 4, 3, 1],\n",
    "                               [3, 4, 5, 0, 1, 2],\n",
    "                               [3, 4, 5, 0, 1, 2],\n",
    "                               [4, 3, 1, 2, 5, 0],\n",
    "                               [5, 2, 3, 1, 0, 4]]\n",
    "                             )\n",
    "                    )"
   ]
  },
  {
   "cell_type": "raw",
   "id": "a2d4a3f7",
   "metadata": {},
   "source": [
    "# Missing column\n",
    "check_addition_table(['()', '(1,2)', '(2,3)', '(1,3)', '(1,2,3)', '(1,3,2)'],\n",
    "                     np.array([[0, 1, 2, 4, 5],\n",
    "                               [1, 0, 4, 2, 3],\n",
    "                               [2, 5, 0, 3, 1],\n",
    "                               [3, 4, 5, 1, 2],\n",
    "                               [4, 3, 1, 5, 0],\n",
    "                               [5, 2, 3, 0, 4]]\n",
    "                             )\n",
    "                    )"
   ]
  },
  {
   "cell_type": "raw",
   "id": "c0008fc4",
   "metadata": {},
   "source": [
    "# Invalid entry in table\n",
    "check_addition_table(['()', '(1,2)', '(2,3)', '(1,3)', '(1,2,3)', '(1,3,2)'],\n",
    "                     np.array([[0, 1, 2, 3, 4, 5],\n",
    "                               [1, 0, 4, 5, 2, 3],\n",
    "                               [2, 5, 0, 444, 3, 1],  # Invalid value here\n",
    "                               [3, 4, 5, 0, 1, 2],\n",
    "                               [4, 3, 1, 2, 5, 0],\n",
    "                               [5, 2, 3, 1, 0, 4]]\n",
    "                             )\n",
    "                    )"
   ]
  },
  {
   "cell_type": "raw",
   "id": "98e4b5d2",
   "metadata": {},
   "source": [
    "# Elements switched in row 2\n",
    "check_addition_table(['()', '(1,2)', '(2,3)', '(1,3)', '(1,2,3)', '(1,3,2)'],\n",
    "                     np.array([[0, 1, 2, 3, 4, 5],\n",
    "                               [1, 0, 4, 5, 2, 3],\n",
    "                               [2, 4, 0, 5, 3, 1],  # Items 1 & 3 switched here\n",
    "                               [3, 4, 5, 0, 1, 2],\n",
    "                               [4, 3, 1, 2, 5, 0],\n",
    "                               [5, 2, 3, 1, 0, 4]]\n",
    "                             )\n",
    "                    )"
   ]
  },
  {
   "cell_type": "code",
   "execution_count": null,
   "id": "5d6ace5d",
   "metadata": {},
   "outputs": [],
   "source": []
  },
  {
   "cell_type": "code",
   "execution_count": null,
   "id": "d090c93a",
   "metadata": {},
   "outputs": [],
   "source": []
  }
 ],
 "metadata": {
  "kernelspec": {
   "display_name": "Python 3",
   "language": "python",
   "name": "python3"
  },
  "language_info": {
   "codemirror_mode": {
    "name": "ipython",
    "version": 3
   },
   "file_extension": ".py",
   "mimetype": "text/x-python",
   "name": "python",
   "nbconvert_exporter": "python",
   "pygments_lexer": "ipython3",
   "version": "3.7.7"
  }
 },
 "nbformat": 4,
 "nbformat_minor": 5
}
