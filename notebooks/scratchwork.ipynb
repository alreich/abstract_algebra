{
 "cells": [
  {
   "cell_type": "markdown",
   "id": "7c00b770",
   "metadata": {},
   "source": [
    "# Scratchwork"
   ]
  },
  {
   "cell_type": "markdown",
   "id": "763c33d8",
   "metadata": {},
   "source": [
    "This notebook is only used for trying out ideas."
   ]
  },
  {
   "cell_type": "code",
   "execution_count": 1,
   "id": "7793a6c1",
   "metadata": {},
   "outputs": [],
   "source": [
    "import algebras as alg\n",
    "import json\n",
    "import os\n",
    "import numpy as np\n",
    "import itertools as it\n",
    "from pprint import pprint"
   ]
  },
  {
   "cell_type": "code",
   "execution_count": 2,
   "id": "e6183e19",
   "metadata": {},
   "outputs": [],
   "source": [
    "# Path to this repo\n",
    "aa_path = os.path.join(os.getenv('PYPROJ'), 'abstract_algebra')\n",
    "\n",
    "# Path to a directory containing Algebra definitions in JSON\n",
    "alg_dir = os.path.join(aa_path, \"Algebras\")"
   ]
  },
  {
   "cell_type": "markdown",
   "id": "f22941f5",
   "metadata": {},
   "source": [
    "## Groups for Testing"
   ]
  },
  {
   "cell_type": "markdown",
   "id": "119fd910",
   "metadata": {},
   "source": [
    "### D4 - Dihedral Group on 4 Vertices"
   ]
  },
  {
   "cell_type": "code",
   "execution_count": 3,
   "id": "8c3d56c0",
   "metadata": {},
   "outputs": [
    {
     "name": "stdout",
     "output_type": "stream",
     "text": [
      "{\"type\": \"Group\",\r\n",
      " \"name\": \"D_4\",\r\n",
      " \"description\": \"Dihedral group on four vertices\",\r\n",
      " \"element_names\": [\"e\", \"r\", \"r^2\", \"r^3\", \"f\", \"fr\", \"r^2f\", \"rf\"],\r\n",
      " \"alt_elem_names\": [\"()\", \"(0 1 2 3)\", \"(0 2)(1 3)\", \"(0 3 2 1)\",\r\n",
      "                    \"(0 1)(2 3)\", \"(1 3)\", \"(0 3)(1 2)\", \"(0 2)\"],\r\n",
      " \"mult_table\": [[0, 1, 2, 3, 4, 5, 6, 7],\r\n",
      "                [1, 2, 3, 0, 7, 4, 5, 6],\r\n",
      "                [2, 3, 0, 1, 6, 7, 4, 5],\r\n",
      "                [3, 0, 1, 2, 5, 6, 7, 4],\r\n",
      "                [4, 5, 6, 7, 0, 1, 2, 3],\r\n",
      "                [5, 6, 7, 4, 3, 0, 1, 2],\r\n",
      "                [6, 7, 4, 5, 2, 3, 0, 1],\r\n",
      "                [7, 4, 5, 6, 1, 2, 3, 0]]\r\n",
      "}"
     ]
    }
   ],
   "source": [
    "d4_path = os.path.join(alg_dir, \"d4_dihedral_group_on_4_vertices.json\")\n",
    "!cat {d4_path}"
   ]
  },
  {
   "cell_type": "code",
   "execution_count": 4,
   "id": "24ebc21d",
   "metadata": {},
   "outputs": [
    {
     "name": "stdout",
     "output_type": "stream",
     "text": [
      "\n",
      "Group : D_4 : Dihedral group on four vertices\n",
      "  Element Names: ['e', 'r', 'r^2', 'r^3', 'f', 'fr', 'r^2f', 'rf']\n",
      "  Is Abelian? False\n",
      "  Inverses:  (** - indicates that it is its own inverse)\n",
      "    inv(e) = e   **\n",
      "    inv(r) = r^3 \n",
      "    inv(r^2) = r^2   **\n",
      "    inv(r^3) = r \n",
      "    inv(f) = f   **\n",
      "    inv(fr) = fr   **\n",
      "    inv(r^2f) = r^2f   **\n",
      "    inv(rf) = rf   **\n",
      "Element Orders:\n",
      "{1: ['e'], 2: ['r^2', 'f', 'fr', 'r^2f', 'rf'], 4: ['r', 'r^3']}\n",
      "  Is associative? True\n",
      "  Cayley Table:\n",
      "[['e', 'r', 'r^2', 'r^3', 'f', 'fr', 'r^2f', 'rf'],\n",
      " ['r', 'r^2', 'r^3', 'e', 'rf', 'f', 'fr', 'r^2f'],\n",
      " ['r^2', 'r^3', 'e', 'r', 'r^2f', 'rf', 'f', 'fr'],\n",
      " ['r^3', 'e', 'r', 'r^2', 'fr', 'r^2f', 'rf', 'f'],\n",
      " ['f', 'fr', 'r^2f', 'rf', 'e', 'r', 'r^2', 'r^3'],\n",
      " ['fr', 'r^2f', 'rf', 'f', 'r^3', 'e', 'r', 'r^2'],\n",
      " ['r^2f', 'rf', 'f', 'fr', 'r^2', 'r^3', 'e', 'r'],\n",
      " ['rf', 'f', 'fr', 'r^2f', 'r', 'r^2', 'r^3', 'e']]\n"
     ]
    }
   ],
   "source": [
    "d4 = alg.Group(d4_path)\n",
    "d4.print_info()"
   ]
  },
  {
   "cell_type": "markdown",
   "id": "5857a88d",
   "metadata": {},
   "source": [
    "### V4 - Klein 4 Group"
   ]
  },
  {
   "cell_type": "code",
   "execution_count": 5,
   "id": "70fc163f",
   "metadata": {},
   "outputs": [
    {
     "name": "stdout",
     "output_type": "stream",
     "text": [
      "{\"type\": \"Group\",\r\n",
      " \"name\": \"V4\",\r\n",
      " \"description\": \"Klein-4 group\",\r\n",
      " \"element_names\": [\"e\", \"h\", \"v\", \"hv\"],\r\n",
      " \"mult_table\": [[0, 1, 2, 3],\r\n",
      "                [1, 0, 3, 2],\r\n",
      "                [2, 3, 0, 1],\r\n",
      "                [3, 2, 1, 0]]\r\n",
      "}\r\n"
     ]
    }
   ],
   "source": [
    "v4_path = os.path.join(alg_dir, \"v4_klein_4_group.json\")\n",
    "!cat {v4_path}"
   ]
  },
  {
   "cell_type": "code",
   "execution_count": 6,
   "id": "c843fbbb",
   "metadata": {},
   "outputs": [
    {
     "name": "stdout",
     "output_type": "stream",
     "text": [
      "\n",
      "Group : V4 : Klein-4 group\n",
      "  Element Names: ['e', 'h', 'v', 'hv']\n",
      "  Is Abelian? True\n",
      "  Inverses:  (** - indicates that it is its own inverse)\n",
      "    inv(e) = e   **\n",
      "    inv(h) = h   **\n",
      "    inv(v) = v   **\n",
      "    inv(hv) = hv   **\n",
      "Element Orders:\n",
      "{1: ['e'], 2: ['h', 'v', 'hv']}\n",
      "  Is associative? True\n",
      "  Cayley Table:\n",
      "[['e', 'h', 'v', 'hv'],\n",
      " ['h', 'e', 'hv', 'v'],\n",
      " ['v', 'hv', 'e', 'h'],\n",
      " ['hv', 'v', 'h', 'e']]\n"
     ]
    }
   ],
   "source": [
    "v4 = alg.Group(v4_path)\n",
    "v4.print_info()"
   ]
  },
  {
   "cell_type": "markdown",
   "id": "2b18ef82",
   "metadata": {},
   "source": [
    "## Changing the Order of Elements"
   ]
  },
  {
   "cell_type": "markdown",
   "id": "19628109",
   "metadata": {},
   "source": [
    "<b>Observation</b>: If the group is abelian, then changing the order of the elements does <b>not</b> affect the order of the indices in the <i>mult_table</i>.  <b>Why?</b>"
   ]
  },
  {
   "cell_type": "code",
   "execution_count": 7,
   "id": "11787206",
   "metadata": {},
   "outputs": [],
   "source": [
    "# new_elem_order = v4.element_names\n",
    "# new_v4_elem_order = ['e', 'v', 'h', 'hv']\n",
    "new_v4_elem_order = [\"e\", \"hv\", \"h\", \"v\"]"
   ]
  },
  {
   "cell_type": "code",
   "execution_count": 8,
   "id": "6f3d925a",
   "metadata": {},
   "outputs": [
    {
     "data": {
      "text/plain": [
       "Group('V4_REORDERED',\n",
       "'Klein-4 group (elements reordered)',\n",
       "['e', 'hv', 'h', 'v'],\n",
       "[[0, 1, 2, 3], [1, 0, 3, 2], [2, 3, 0, 1], [3, 2, 1, 0]]) "
      ]
     },
     "execution_count": 8,
     "metadata": {},
     "output_type": "execute_result"
    }
   ],
   "source": [
    "#table_from_reordered_elements(v4, new_v4_elem_order)\n",
    "v4_reordered = v4.reorder_elements(new_v4_elem_order)\n",
    "v4_reordered"
   ]
  },
  {
   "cell_type": "code",
   "execution_count": 9,
   "id": "e5941c2b",
   "metadata": {},
   "outputs": [
    {
     "name": "stdout",
     "output_type": "stream",
     "text": [
      "[['e', 'hv', 'h', 'v'],\n",
      " ['hv', 'e', 'v', 'h'],\n",
      " ['h', 'v', 'e', 'hv'],\n",
      " ['v', 'h', 'hv', 'e']]\n"
     ]
    }
   ],
   "source": [
    "pprint(v4_reordered.mult_table_with_names())"
   ]
  },
  {
   "cell_type": "code",
   "execution_count": 10,
   "id": "4273a188",
   "metadata": {},
   "outputs": [
    {
     "data": {
      "text/plain": [
       "array([[0, 1, 2, 3],\n",
       "       [1, 0, 3, 2],\n",
       "       [2, 3, 0, 1],\n",
       "       [3, 2, 1, 0]])"
      ]
     },
     "execution_count": 10,
     "metadata": {},
     "output_type": "execute_result"
    }
   ],
   "source": [
    "v4_reordered.mult_table"
   ]
  },
  {
   "cell_type": "code",
   "execution_count": 11,
   "id": "48bd7cec",
   "metadata": {},
   "outputs": [
    {
     "name": "stdout",
     "output_type": "stream",
     "text": [
      "[['e', 'h', 'v', 'hv'],\n",
      " ['h', 'e', 'hv', 'v'],\n",
      " ['v', 'hv', 'e', 'h'],\n",
      " ['hv', 'v', 'h', 'e']]\n"
     ]
    }
   ],
   "source": [
    "pprint(v4.mult_table_with_names())"
   ]
  },
  {
   "cell_type": "code",
   "execution_count": 12,
   "id": "56062d4a",
   "metadata": {},
   "outputs": [
    {
     "data": {
      "text/plain": [
       "array([[0, 1, 2, 3],\n",
       "       [1, 0, 3, 2],\n",
       "       [2, 3, 0, 1],\n",
       "       [3, 2, 1, 0]])"
      ]
     },
     "execution_count": 12,
     "metadata": {},
     "output_type": "execute_result"
    }
   ],
   "source": [
    "v4.mult_table"
   ]
  },
  {
   "cell_type": "code",
   "execution_count": null,
   "id": "dd1ddc44",
   "metadata": {},
   "outputs": [],
   "source": []
  },
  {
   "cell_type": "code",
   "execution_count": 13,
   "id": "77864142",
   "metadata": {},
   "outputs": [],
   "source": [
    "new_d4_elem_order = [\"e\", \"r\", \"r^2\", \"f\", \"r^3\", \"fr\", \"r^2f\", \"rf\"]"
   ]
  },
  {
   "cell_type": "code",
   "execution_count": 14,
   "id": "c8368dfe",
   "metadata": {},
   "outputs": [
    {
     "data": {
      "text/plain": [
       "Group('D_4_REORDERED',\n",
       "'Dihedral group on four vertices (elements reordered)',\n",
       "['e', 'r', 'r^2', 'f', 'r^3', 'fr', 'r^2f', 'rf'],\n",
       "[[0, 1, 2, 3, 4, 5, 6, 7], [1, 2, 4, 7, 0, 3, 5, 6], [2, 4, 0, 6, 1, 7, 3, 5], [3, 5, 6, 0, 7, 1, 2, 4], [4, 0, 1, 5, 2, 6, 7, 3], [5, 6, 7, 4, 3, 0, 1, 2], [6, 7, 3, 2, 5, 4, 0, 1], [7, 3, 5, 1, 6, 2, 4, 0]]) "
      ]
     },
     "execution_count": 14,
     "metadata": {},
     "output_type": "execute_result"
    }
   ],
   "source": [
    "d4_reordered = d4.reorder_elements(new_d4_elem_order)\n",
    "d4_reordered"
   ]
  },
  {
   "cell_type": "code",
   "execution_count": 15,
   "id": "3eb16210",
   "metadata": {},
   "outputs": [
    {
     "data": {
      "text/plain": [
       "array([[0, 1, 2, 3, 4, 5, 6, 7],\n",
       "       [1, 2, 4, 7, 0, 3, 5, 6],\n",
       "       [2, 4, 0, 6, 1, 7, 3, 5],\n",
       "       [3, 5, 6, 0, 7, 1, 2, 4],\n",
       "       [4, 0, 1, 5, 2, 6, 7, 3],\n",
       "       [5, 6, 7, 4, 3, 0, 1, 2],\n",
       "       [6, 7, 3, 2, 5, 4, 0, 1],\n",
       "       [7, 3, 5, 1, 6, 2, 4, 0]])"
      ]
     },
     "execution_count": 15,
     "metadata": {},
     "output_type": "execute_result"
    }
   ],
   "source": [
    "d4_reordered.mult_table"
   ]
  },
  {
   "cell_type": "code",
   "execution_count": 16,
   "id": "1368d017",
   "metadata": {},
   "outputs": [
    {
     "data": {
      "text/plain": [
       "array([[0, 1, 2, 3, 4, 5, 6, 7],\n",
       "       [1, 2, 3, 0, 7, 4, 5, 6],\n",
       "       [2, 3, 0, 1, 6, 7, 4, 5],\n",
       "       [3, 0, 1, 2, 5, 6, 7, 4],\n",
       "       [4, 5, 6, 7, 0, 1, 2, 3],\n",
       "       [5, 6, 7, 4, 3, 0, 1, 2],\n",
       "       [6, 7, 4, 5, 2, 3, 0, 1],\n",
       "       [7, 4, 5, 6, 1, 2, 3, 0]])"
      ]
     },
     "execution_count": 16,
     "metadata": {},
     "output_type": "execute_result"
    }
   ],
   "source": [
    "d4.mult_table"
   ]
  },
  {
   "cell_type": "code",
   "execution_count": null,
   "id": "972e0ff0",
   "metadata": {},
   "outputs": [],
   "source": []
  },
  {
   "cell_type": "code",
   "execution_count": 17,
   "id": "ae4c4268",
   "metadata": {},
   "outputs": [
    {
     "data": {
      "text/plain": [
       "{'e': 1, 'r': 4, 'r^2': 2, 'r^3': 4, 'f': 2, 'fr': 2, 'r^2f': 2, 'rf': 2}"
      ]
     },
     "execution_count": 17,
     "metadata": {},
     "output_type": "execute_result"
    }
   ],
   "source": [
    "d4.element_orders()"
   ]
  },
  {
   "cell_type": "code",
   "execution_count": 18,
   "id": "0cfb9311",
   "metadata": {},
   "outputs": [
    {
     "data": {
      "text/plain": [
       "{'e': 1, 'r': 4, 'r^2': 2, 'f': 2, 'r^3': 4, 'fr': 2, 'r^2f': 2, 'rf': 2}"
      ]
     },
     "execution_count": 18,
     "metadata": {},
     "output_type": "execute_result"
    }
   ],
   "source": [
    "d4_reordered.element_orders()"
   ]
  },
  {
   "cell_type": "markdown",
   "id": "7153dff8",
   "metadata": {},
   "source": [
    "## Generating Possible Multiplication Tables"
   ]
  },
  {
   "cell_type": "raw",
   "id": "5772a214",
   "metadata": {},
   "source": [
    "from itertools import product, permutations, combinations\n",
    "\n",
    "def _no_conflict(p1, p2):\n",
    "    \"\"\"Returns True only if no element of p1 equals the corresponding element of p2.\"\"\"\n",
    "    return all([p1[i] != p2[i] for i in range(len(p1))])\n",
    "\n",
    "def _no_conflicts(items):\n",
    "    \"\"\"Return True if each possible pair, from a list of items, has no conflicts.\"\"\"\n",
    "    return all(_no_conflict(combo[0], combo[1]) for combo in combinations(items, 2))\n",
    "\n",
    "def _filter_out_conflicts(perms, perm, n):\n",
    "    \"\"\"Filter out all permutations in perms that confict with perm,\n",
    "    and don't have n as the first element.\"\"\"\n",
    "    nperms = [q for q in perms if q[0] == n]\n",
    "    return [p for p in nperms if _no_conflict(p, perm)]\n",
    "\n",
    "def generate_all_group_tables(order):\n",
    "    \"\"\"Return a list of all arrays that correspond to multiplication tables for groups of a specific order \"\"\"\n",
    "    row0 = list(range(order))\n",
    "    all_perms = permutations(row0)\n",
    "    row_candidates = [[row0]]\n",
    "    for row_num in range(1, order):\n",
    "        row_candidates.append(_filter_out_conflicts(permutations(row0), row0, row_num))\n",
    "    table_candidates = list(product(*row_candidates))\n",
    "    return [tbl for tbl in table_candidates if _no_conflicts(tbl)]"
   ]
  },
  {
   "cell_type": "code",
   "execution_count": 19,
   "id": "74963ee2",
   "metadata": {},
   "outputs": [
    {
     "data": {
      "text/plain": [
       "[([0, 1, 2, 3], (1, 0, 3, 2), (2, 3, 0, 1), (3, 2, 1, 0)),\n",
       " ([0, 1, 2, 3], (1, 0, 3, 2), (2, 3, 1, 0), (3, 2, 0, 1)),\n",
       " ([0, 1, 2, 3], (1, 2, 3, 0), (2, 3, 0, 1), (3, 0, 1, 2)),\n",
       " ([0, 1, 2, 3], (1, 3, 0, 2), (2, 0, 3, 1), (3, 2, 1, 0))]"
      ]
     },
     "execution_count": 19,
     "metadata": {},
     "output_type": "execute_result"
    }
   ],
   "source": [
    "foo = alg.generate_all_group_tables(4)\n",
    "foo"
   ]
  },
  {
   "cell_type": "code",
   "execution_count": 20,
   "id": "44c8504e",
   "metadata": {},
   "outputs": [],
   "source": [
    "order = 4"
   ]
  },
  {
   "cell_type": "code",
   "execution_count": 21,
   "id": "52c97d59",
   "metadata": {},
   "outputs": [
    {
     "data": {
      "text/plain": [
       "[0, 1, 2, 3]"
      ]
     },
     "execution_count": 21,
     "metadata": {},
     "output_type": "execute_result"
    }
   ],
   "source": [
    "row0 = list(range(order))\n",
    "row0"
   ]
  },
  {
   "cell_type": "code",
   "execution_count": 22,
   "id": "a2b1be52",
   "metadata": {},
   "outputs": [
    {
     "ename": "NameError",
     "evalue": "name 'permutations' is not defined",
     "output_type": "error",
     "traceback": [
      "\u001b[0;31m---------------------------------------------------------------------------\u001b[0m",
      "\u001b[0;31mNameError\u001b[0m                                 Traceback (most recent call last)",
      "\u001b[0;32m<ipython-input-22-05be3c707e8a>\u001b[0m in \u001b[0;36m<module>\u001b[0;34m\u001b[0m\n\u001b[1;32m      1\u001b[0m \u001b[0;31m# all_perms = list(map(lambda perm: list(perm), permutations(row0)))\u001b[0m\u001b[0;34m\u001b[0m\u001b[0;34m\u001b[0m\u001b[0;34m\u001b[0m\u001b[0m\n\u001b[0;32m----> 2\u001b[0;31m \u001b[0mall_perms\u001b[0m \u001b[0;34m=\u001b[0m \u001b[0mpermutations\u001b[0m\u001b[0;34m(\u001b[0m\u001b[0mrow0\u001b[0m\u001b[0;34m)\u001b[0m\u001b[0;34m\u001b[0m\u001b[0;34m\u001b[0m\u001b[0m\n\u001b[0m\u001b[1;32m      3\u001b[0m \u001b[0mall_perms\u001b[0m\u001b[0;34m\u001b[0m\u001b[0;34m\u001b[0m\u001b[0m\n",
      "\u001b[0;31mNameError\u001b[0m: name 'permutations' is not defined"
     ]
    }
   ],
   "source": [
    "# all_perms = list(map(lambda perm: list(perm), permutations(row0)))\n",
    "all_perms = permutations(row0)\n",
    "all_perms"
   ]
  },
  {
   "cell_type": "code",
   "execution_count": 23,
   "id": "70d4558c",
   "metadata": {},
   "outputs": [
    {
     "ename": "NameError",
     "evalue": "name 'permutations' is not defined",
     "output_type": "error",
     "traceback": [
      "\u001b[0;31m---------------------------------------------------------------------------\u001b[0m",
      "\u001b[0;31mNameError\u001b[0m                                 Traceback (most recent call last)",
      "\u001b[0;32m<ipython-input-23-ba090b220ad0>\u001b[0m in \u001b[0;36m<module>\u001b[0;34m\u001b[0m\n\u001b[0;32m----> 1\u001b[0;31m \u001b[0mrows1a\u001b[0m \u001b[0;34m=\u001b[0m \u001b[0mfilter\u001b[0m\u001b[0;34m(\u001b[0m\u001b[0mpermutations\u001b[0m\u001b[0;34m(\u001b[0m\u001b[0mrow0\u001b[0m\u001b[0;34m)\u001b[0m\u001b[0;34m,\u001b[0m \u001b[0mrow0\u001b[0m\u001b[0;34m,\u001b[0m \u001b[0;36m1\u001b[0m\u001b[0;34m)\u001b[0m\u001b[0;34m\u001b[0m\u001b[0;34m\u001b[0m\u001b[0m\n\u001b[0m\u001b[1;32m      2\u001b[0m \u001b[0mrows1a\u001b[0m\u001b[0;34m\u001b[0m\u001b[0;34m\u001b[0m\u001b[0m\n",
      "\u001b[0;31mNameError\u001b[0m: name 'permutations' is not defined"
     ]
    }
   ],
   "source": [
    "rows1a = filter(permutations(row0), row0, 1)\n",
    "rows1a"
   ]
  },
  {
   "cell_type": "code",
   "execution_count": null,
   "id": "2a4abbaf",
   "metadata": {},
   "outputs": [],
   "source": [
    "rows2a = filter(permutations(row0), row0, 2)\n",
    "rows2a"
   ]
  },
  {
   "cell_type": "code",
   "execution_count": null,
   "id": "1a3ec435",
   "metadata": {},
   "outputs": [],
   "source": [
    "rows3a = filter(permutations(row0), row0, 3)\n",
    "rows3a"
   ]
  },
  {
   "cell_type": "code",
   "execution_count": null,
   "id": "f558e8c0",
   "metadata": {},
   "outputs": [],
   "source": [
    "x = [[row0], rows1a, rows2a, rows3a]\n",
    "x"
   ]
  },
  {
   "cell_type": "code",
   "execution_count": null,
   "id": "3b4fc585",
   "metadata": {},
   "outputs": [],
   "source": [
    "ts = list(product(*x))"
   ]
  },
  {
   "cell_type": "code",
   "execution_count": null,
   "id": "51fcd02f",
   "metadata": {},
   "outputs": [],
   "source": [
    "foo = ts[0]\n",
    "foo"
   ]
  },
  {
   "cell_type": "code",
   "execution_count": null,
   "id": "27992521",
   "metadata": {},
   "outputs": [],
   "source": [
    "for combo in combinations(foo, 2):\n",
    "    print(combo, _no_conflict(combo[0], combo[1]))"
   ]
  },
  {
   "cell_type": "code",
   "execution_count": null,
   "id": "7839b7e1",
   "metadata": {},
   "outputs": [],
   "source": [
    "def _no_conflicts(items):\n",
    "    return all(_no_conflict(combo[0], combo[1]) for combo in combinations(items, 2))"
   ]
  },
  {
   "cell_type": "code",
   "execution_count": null,
   "id": "9a72c944",
   "metadata": {},
   "outputs": [],
   "source": [
    "_no_conflicts(foo)"
   ]
  },
  {
   "cell_type": "code",
   "execution_count": null,
   "id": "4e83c037",
   "metadata": {},
   "outputs": [],
   "source": [
    "for t in ts:\n",
    "    if _no_conflicts(t):\n",
    "        print(t)"
   ]
  },
  {
   "cell_type": "code",
   "execution_count": null,
   "id": "71e3713b",
   "metadata": {},
   "outputs": [],
   "source": [
    "[t for t in ts if _no_conflicts(t)]"
   ]
  }
 ],
 "metadata": {
  "kernelspec": {
   "display_name": "Python 3",
   "language": "python",
   "name": "python3"
  },
  "language_info": {
   "codemirror_mode": {
    "name": "ipython",
    "version": 3
   },
   "file_extension": ".py",
   "mimetype": "text/x-python",
   "name": "python",
   "nbconvert_exporter": "python",
   "pygments_lexer": "ipython3",
   "version": "3.7.7"
  }
 },
 "nbformat": 4,
 "nbformat_minor": 5
}
