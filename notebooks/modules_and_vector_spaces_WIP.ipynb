{
 "cells": [
  {
   "cell_type": "markdown",
   "id": "c26e1d39",
   "metadata": {},
   "source": [
    "# Modules and Vector Spaces"
   ]
  },
  {
   "cell_type": "markdown",
   "id": "69db42bb",
   "metadata": {},
   "source": [
    "This is an experimental notebook."
   ]
  },
  {
   "cell_type": "code",
   "execution_count": 1,
   "id": "2ec1c5f0",
   "metadata": {},
   "outputs": [],
   "source": [
    "import os\n",
    "aa_path = os.path.join(os.getenv(\"PYPROJ\"), \"abstract_algebra\")\n",
    "alg_dir = os.path.join(aa_path, \"Algebras\")"
   ]
  },
  {
   "cell_type": "code",
   "execution_count": 2,
   "id": "8ff5c052",
   "metadata": {},
   "outputs": [],
   "source": [
    "from finite_algebras import *"
   ]
  },
  {
   "cell_type": "markdown",
   "id": "f166ba2f",
   "metadata": {},
   "source": [
    "## Definitions"
   ]
  },
  {
   "cell_type": "markdown",
   "id": "57bbcc9a",
   "metadata": {},
   "source": [
    "Care is taken in the definitions below to not conflate the scalar-scalar, vector-vector, and scalar-vector operations."
   ]
  },
  {
   "cell_type": "markdown",
   "id": "53b821bd",
   "metadata": {},
   "source": [
    "### Vector Spaces"
   ]
  },
  {
   "cell_type": "markdown",
   "id": "86afa182",
   "metadata": {},
   "source": [
    "A vector space, $\\mathscr{V} = \\langle \\mathscr{G}, \\mathscr{F}, \\circ \\rangle$, consists of ...\n",
    "* an abelian Group, $\\mathscr{G} = \\langle V, \\oplus \\rangle$ (i.e., the *\"vectors\"*)\n",
    "* a field, $\\mathscr{F} = \\langle S, +, \\times \\rangle$ (i.e., the *\"scalars\"*)\n",
    "* and a binary operator, $\\circ : S \\times V \\to V$\n",
    "\n",
    "where the following conditions hold:\n",
    "\n",
    "1. Scaled vectors: If $s \\in S$ and $v \\in V$, then $s \\circ v \\in V$\n",
    "1. Scaling by 1: If $\\mathscr{1} \\in S$ is the multiplicative identity element of $\\mathscr{F}$, then $\\mathscr{1} \\circ v = v$\n",
    "1. Distributivity of scalars over vector addition: $s \\circ (v_1 \\oplus v_2) = (s \\circ v_1) \\oplus (s \\circ v_2)$\n",
    "1. Distributivity of vectors over scalar addition: $(s_1 + s_2) \\circ v = (s_1 \\circ v) \\oplus (s_2 \\circ v)$\n",
    "1. Associativity: $s_1 \\circ (s_2 \\circ v) = (s_1 \\times s_2) \\circ v$"
   ]
  },
  {
   "cell_type": "markdown",
   "id": "7c30b4dd",
   "metadata": {},
   "source": [
    "### Modules"
   ]
  },
  {
   "cell_type": "markdown",
   "id": "c65083ce",
   "metadata": {},
   "source": [
    "A Module, $\\mathscr{M} = \\langle \\mathscr{G}, \\mathscr{R}, \\circ \\rangle$, has the same conditions as a Vector Space, except that the Field is replaced by a Ring, $\\mathscr{R} = \\langle S, +, \\times \\rangle$."
   ]
  },
  {
   "cell_type": "markdown",
   "id": "96888780",
   "metadata": {},
   "source": [
    "## Experiments"
   ]
  },
  {
   "cell_type": "code",
   "execution_count": 5,
   "id": "bdf0cc38",
   "metadata": {},
   "outputs": [
    {
     "name": "stdout",
     "output_type": "stream",
     "text": [
      "======================================================================\n",
      "                           Example Algebras\n",
      "----------------------------------------------------------------------\n",
      "  15 example algebras are available.\n",
      "  Use \"get_example(INDEX)\" to retrieve a specific example,\n",
      "  where INDEX is the first number on each line below:\n",
      "----------------------------------------------------------------------\n",
      "0: A4 -- Alternating group on 4 letters (AKA Tetrahedral group)\n",
      "1: D3 -- https://en.wikipedia.org/wiki/Dihedral_group_of_order_6\n",
      "2: D4 -- Dihedral group on four vertices\n",
      "3: Pinter29 -- Non-abelian group, p.29, 'A Book of Abstract Algebra' by Charles C. Pinter\n",
      "4: RPS -- Rock, Paper, Scissors Magma\n",
      "5: S3 -- Symmetric group on 3 letters\n",
      "6: S3X -- Another version of the symmetric group on 3 letters\n",
      "7: V4 -- Klein-4 group\n",
      "8: Z4 -- Cyclic group of order 4\n",
      "9: F4 -- Field with 4 elements (from Wikipedia)\n",
      "10: mag_id -- Magma with Identity\n",
      "11: Example 1.4.1 -- See: Groupoids and Smarandache Groupoids by W. B. Vasantha Kandasamy\n",
      "12: Ex6 -- Example 6: http://www-groups.mcs.st-andrews.ac.uk/~john/MT4517/Lectures/L3.html\n",
      "13: Q8 -- Quaternion Group\n",
      "14: SD16 -- Semidihedral group of order 16\n",
      "======================================================================\n"
     ]
    }
   ],
   "source": [
    "ex = Examples(alg_dir)"
   ]
  },
  {
   "cell_type": "code",
   "execution_count": 18,
   "id": "c8d71e21",
   "metadata": {},
   "outputs": [],
   "source": [
    "class VectorSpace:\n",
    "    \n",
    "    def __init__(self, field, group, operator):\n",
    "        \n",
    "        self.scalar = field\n",
    "        self.vector = group\n",
    "        self.sv_op = operator  # scalar-vector operator\n",
    "        \n",
    "    def __repr__(self):\n",
    "        sname = self.scalar.name\n",
    "        vname = self.vector.name\n",
    "        return f\"<{self.__class__.__name__}: Scalars:{sname}, Vectors:{vname}>\"\n",
    "    \n",
    "    def vector_add(self, v1, v2):\n",
    "        return self.vector.op(v1, v2)"
   ]
  },
  {
   "cell_type": "code",
   "execution_count": 19,
   "id": "ef3800c5",
   "metadata": {},
   "outputs": [
    {
     "name": "stdout",
     "output_type": "stream",
     "text": [
      "\n",
      "Field: F4\n",
      "Instance ID: 140521535923920\n",
      "Description: Field with 4 elements (from Wikipedia)\n",
      "Order: 4\n",
      "Identity: 0\n",
      "Associative? Yes\n",
      "Commutative? Yes\n",
      "Elements:\n",
      "   Index   Name   Inverse  Order\n",
      "      0       0       0       1\n",
      "      1       1       1       2\n",
      "      2       a       a       2\n",
      "      3     1+a     1+a       2\n",
      "Cayley Table (showing names):\n",
      "[['0', '1', 'a', '1+a'],\n",
      " ['1', '0', '1+a', 'a'],\n",
      " ['a', '1+a', '0', '1'],\n",
      " ['1+a', 'a', '1', '0']]\n",
      "Mult. Identity: 1\n",
      "Mult. Commutative? Yes\n",
      "Multiplicative Cayley Table (showing names):\n",
      "[['0', '0', '0', '0'],\n",
      " ['0', '1', 'a', '1+a'],\n",
      " ['0', 'a', '1+a', '1'],\n",
      " ['0', '1+a', '1', 'a']]\n"
     ]
    }
   ],
   "source": [
    "f4 = ex.get_example(9)\n",
    "f4.about(use_table_names=True)"
   ]
  },
  {
   "cell_type": "code",
   "execution_count": 20,
   "id": "097ffc8a",
   "metadata": {},
   "outputs": [
    {
     "name": "stdout",
     "output_type": "stream",
     "text": [
      "\n",
      "Group: F4_x_F4\n",
      "Instance ID: 140521538468112\n",
      "Description: Direct product of F4 & F4\n",
      "Order: 16\n",
      "Identity: 0:0\n",
      "Associative? Yes\n",
      "Commutative? Yes\n",
      "Elements:\n",
      "   Index   Name   Inverse  Order\n",
      "      0     0:0     0:0       1\n",
      "      1     0:1     0:1       2\n",
      "      2     0:a     0:a       2\n",
      "      3   0:1+a   0:1+a       2\n",
      "      4     1:0     1:0       2\n",
      "      5     1:1     1:1       2\n",
      "      6     1:a     1:a       2\n",
      "      7   1:1+a   1:1+a       2\n",
      "      8     a:0     a:0       2\n",
      "      9     a:1     a:1       2\n",
      "     10     a:a     a:a       2\n",
      "     11   a:1+a   a:1+a       2\n",
      "     12   1+a:0   1+a:0       2\n",
      "     13   1+a:1   1+a:1       2\n",
      "     14   1+a:a   1+a:a       2\n",
      "     15 1+a:1+a 1+a:1+a       2\n",
      "Cayley Table (showing indices):\n",
      "[[0, 1, 2, 3, 4, 5, 6, 7, 8, 9, 10, 11, 12, 13, 14, 15],\n",
      " [1, 0, 3, 2, 5, 4, 7, 6, 9, 8, 11, 10, 13, 12, 15, 14],\n",
      " [2, 3, 0, 1, 6, 7, 4, 5, 10, 11, 8, 9, 14, 15, 12, 13],\n",
      " [3, 2, 1, 0, 7, 6, 5, 4, 11, 10, 9, 8, 15, 14, 13, 12],\n",
      " [4, 5, 6, 7, 0, 1, 2, 3, 12, 13, 14, 15, 8, 9, 10, 11],\n",
      " [5, 4, 7, 6, 1, 0, 3, 2, 13, 12, 15, 14, 9, 8, 11, 10],\n",
      " [6, 7, 4, 5, 2, 3, 0, 1, 14, 15, 12, 13, 10, 11, 8, 9],\n",
      " [7, 6, 5, 4, 3, 2, 1, 0, 15, 14, 13, 12, 11, 10, 9, 8],\n",
      " [8, 9, 10, 11, 12, 13, 14, 15, 0, 1, 2, 3, 4, 5, 6, 7],\n",
      " [9, 8, 11, 10, 13, 12, 15, 14, 1, 0, 3, 2, 5, 4, 7, 6],\n",
      " [10, 11, 8, 9, 14, 15, 12, 13, 2, 3, 0, 1, 6, 7, 4, 5],\n",
      " [11, 10, 9, 8, 15, 14, 13, 12, 3, 2, 1, 0, 7, 6, 5, 4],\n",
      " [12, 13, 14, 15, 8, 9, 10, 11, 4, 5, 6, 7, 0, 1, 2, 3],\n",
      " [13, 12, 15, 14, 9, 8, 11, 10, 5, 4, 7, 6, 1, 0, 3, 2],\n",
      " [14, 15, 12, 13, 10, 11, 8, 9, 6, 7, 4, 5, 2, 3, 0, 1],\n",
      " [15, 14, 13, 12, 11, 10, 9, 8, 7, 6, 5, 4, 3, 2, 1, 0]]\n"
     ]
    }
   ],
   "source": [
    "f4_2 = f4 * f4\n",
    "f4_2.about(max_size=16)"
   ]
  },
  {
   "cell_type": "code",
   "execution_count": 52,
   "id": "2dd35527",
   "metadata": {},
   "outputs": [],
   "source": [
    "def make_dp_sv_op(fld, delimiter):\n",
    "    \"\"\"Return a scalar-vector operator based on the direct product of a Ring or\n",
    "    Field with itself.\"\"\"\n",
    "    return lambda s,v: delimiter.join([fld.mult(s, x) for x in v.split(delimiter)])"
   ]
  },
  {
   "cell_type": "code",
   "execution_count": 65,
   "id": "514b443b",
   "metadata": {},
   "outputs": [
    {
     "data": {
      "text/plain": [
       "<VectorSpace: Scalars:F4, Vectors:F4_x_F4>"
      ]
     },
     "execution_count": 65,
     "metadata": {},
     "output_type": "execute_result"
    }
   ],
   "source": [
    "op = make_dp_sv_op(f4, ':')\n",
    "\n",
    "vs = VectorSpace(f4, f4_2, op)\n",
    "vs"
   ]
  },
  {
   "cell_type": "code",
   "execution_count": 66,
   "id": "48386446",
   "metadata": {},
   "outputs": [
    {
     "name": "stdout",
     "output_type": "stream",
     "text": [
      "['0:0', '0:1', '0:a', '0:1+a', '1:0', '1:1', '1:a', '1:1+a', 'a:0', 'a:1', 'a:a', 'a:1+a', '1+a:0', '1+a:1', '1+a:a', '1+a:1+a']\n"
     ]
    }
   ],
   "source": [
    "print(vs.vector.elements)"
   ]
  },
  {
   "cell_type": "code",
   "execution_count": 67,
   "id": "7078bc10",
   "metadata": {},
   "outputs": [
    {
     "name": "stdout",
     "output_type": "stream",
     "text": [
      "['0', '1', 'a', '1+a']\n"
     ]
    }
   ],
   "source": [
    "print(vs.scalar.elements)"
   ]
  },
  {
   "cell_type": "code",
   "execution_count": 68,
   "id": "ceb64363",
   "metadata": {},
   "outputs": [
    {
     "data": {
      "text/plain": [
       "'1+a'"
      ]
     },
     "execution_count": 68,
     "metadata": {},
     "output_type": "execute_result"
    }
   ],
   "source": [
    "vs.scalar.add('1', 'a')"
   ]
  },
  {
   "cell_type": "code",
   "execution_count": 69,
   "id": "4aad1a17",
   "metadata": {},
   "outputs": [
    {
     "data": {
      "text/plain": [
       "'1+a'"
      ]
     },
     "execution_count": 69,
     "metadata": {},
     "output_type": "execute_result"
    }
   ],
   "source": [
    "vs.scalar.mult('a', 'a')"
   ]
  },
  {
   "cell_type": "code",
   "execution_count": 70,
   "id": "216f4382",
   "metadata": {},
   "outputs": [
    {
     "data": {
      "text/plain": [
       "'1+a:0'"
      ]
     },
     "execution_count": 70,
     "metadata": {},
     "output_type": "execute_result"
    }
   ],
   "source": [
    "vs.vector_add('1:a', 'a:a')  # Same as vs.vector.op('1:a', 'a:a')"
   ]
  },
  {
   "cell_type": "code",
   "execution_count": 71,
   "id": "79a5931f",
   "metadata": {},
   "outputs": [
    {
     "data": {
      "text/plain": [
       "'0'"
      ]
     },
     "execution_count": 71,
     "metadata": {},
     "output_type": "execute_result"
    }
   ],
   "source": [
    "vs.scalar.zero"
   ]
  },
  {
   "cell_type": "code",
   "execution_count": 72,
   "id": "362dad39",
   "metadata": {},
   "outputs": [
    {
     "data": {
      "text/plain": [
       "'1'"
      ]
     },
     "execution_count": 72,
     "metadata": {},
     "output_type": "execute_result"
    }
   ],
   "source": [
    "vs.scalar.one"
   ]
  },
  {
   "cell_type": "markdown",
   "id": "d31f993d",
   "metadata": {},
   "source": [
    "### Check: Scaling by 1"
   ]
  },
  {
   "cell_type": "markdown",
   "id": "3996292e",
   "metadata": {},
   "source": [
    "If $\\mathscr{1} \\in S$ is the multiplicative identity element of $\\mathscr{F}$, then $\\mathscr{1} \\circ v = v$"
   ]
  },
  {
   "cell_type": "code",
   "execution_count": 86,
   "id": "54967c58",
   "metadata": {},
   "outputs": [
    {
     "name": "stdout",
     "output_type": "stream",
     "text": [
      "Is OK? Yes\n"
     ]
    }
   ],
   "source": [
    "one = vs.scalar.mult_identity\n",
    "\n",
    "is_ok = True\n",
    "for v in vs.vector:\n",
    "    if v != vs.sv_op(one, v):\n",
    "        is_ok = False\n",
    "        print(f\"{one} x {v} = {vs.sv_op(one, v)}\")\n",
    "print(f\"Is OK? {yes_or_no(is_ok)}\")"
   ]
  },
  {
   "cell_type": "code",
   "execution_count": 87,
   "id": "d6729128",
   "metadata": {},
   "outputs": [],
   "source": [
    "def check_scaling_by_one(vs, verbose=False):\n",
    "    is_ok = True\n",
    "    for v in vs.vector:\n",
    "        if v != vs.sv_op(one, v):\n",
    "            is_ok = False\n",
    "            if verbose:\n",
    "                print(f\"{one} x {v} = {vs.sv_op(one, v)}\")\n",
    "    return is_ok"
   ]
  },
  {
   "cell_type": "code",
   "execution_count": 88,
   "id": "32f780a6",
   "metadata": {},
   "outputs": [
    {
     "data": {
      "text/plain": [
       "True"
      ]
     },
     "execution_count": 88,
     "metadata": {},
     "output_type": "execute_result"
    }
   ],
   "source": [
    "check_scaling_by_one(vs)"
   ]
  },
  {
   "cell_type": "markdown",
   "id": "9480159b",
   "metadata": {},
   "source": [
    "### Check: Distributivity of scalars over vector addition"
   ]
  },
  {
   "cell_type": "markdown",
   "id": "6ad07a94",
   "metadata": {},
   "source": [
    "$s \\circ (v_1 \\oplus v_2) = (s \\circ v_1) \\oplus (s \\circ v_2)$"
   ]
  },
  {
   "cell_type": "code",
   "execution_count": 75,
   "id": "3fde6f01",
   "metadata": {},
   "outputs": [
    {
     "name": "stdout",
     "output_type": "stream",
     "text": [
      "0:1+a\n",
      "0:1+a\n"
     ]
    }
   ],
   "source": [
    "s = 'a'\n",
    "v1 = 'a:1+a'\n",
    "v2 = 'a:1'\n",
    "print(vs.sv_op(s, vs.vector_add(v1, v2)))\n",
    "print(vs.vector_add(vs.sv_op(s, v1), vs.sv_op(s, v2)))"
   ]
  },
  {
   "cell_type": "code",
   "execution_count": 77,
   "id": "caba2fa0",
   "metadata": {},
   "outputs": [
    {
     "name": "stdout",
     "output_type": "stream",
     "text": [
      "Is OK? Yes\n"
     ]
    }
   ],
   "source": [
    "is_ok = True\n",
    "for s in vs.scalar:\n",
    "    for v1 in vs.vector:\n",
    "        for v2 in vs.vector:\n",
    "            a = vs.sv_op(s, vs.vector_add(v1, v2))\n",
    "            b = vs.vector_add(vs.sv_op(s, v1), vs.sv_op(s, v2))\n",
    "            if a != b:\n",
    "                is_ok = False\n",
    "                print(f\"{a} != {b}\")\n",
    "print(f\"Is OK? {yes_or_no(is_ok)}\")"
   ]
  },
  {
   "cell_type": "code",
   "execution_count": 89,
   "id": "10fb65af",
   "metadata": {},
   "outputs": [],
   "source": [
    "def check_dist_of_scalars_over_vec_add(vs, verbose=False):\n",
    "    is_ok = True\n",
    "    for s in vs.scalar:\n",
    "        for v1 in vs.vector:\n",
    "            for v2 in vs.vector:\n",
    "                a = vs.sv_op(s, vs.vector_add(v1, v2))\n",
    "                b = vs.vector_add(vs.sv_op(s, v1), vs.sv_op(s, v2))\n",
    "                if a != b:\n",
    "                    is_ok = False\n",
    "                    if verbose:\n",
    "                        print(f\"{a} != {b}\")\n",
    "    return is_ok"
   ]
  },
  {
   "cell_type": "code",
   "execution_count": 90,
   "id": "f6f7aed3",
   "metadata": {},
   "outputs": [
    {
     "data": {
      "text/plain": [
       "True"
      ]
     },
     "execution_count": 90,
     "metadata": {},
     "output_type": "execute_result"
    }
   ],
   "source": [
    "check_dist_of_scalars_over_vec_add(vs)"
   ]
  },
  {
   "cell_type": "markdown",
   "id": "58983e5e",
   "metadata": {},
   "source": [
    "### Check: Distributivity of vectors over scalar addition"
   ]
  },
  {
   "cell_type": "markdown",
   "id": "cb89ebcf",
   "metadata": {},
   "source": [
    "$(s_1 + s_2) \\circ v = (s_1 \\circ v) \\oplus (s_2 \\circ v)$"
   ]
  },
  {
   "cell_type": "code",
   "execution_count": 80,
   "id": "b0cbade9",
   "metadata": {},
   "outputs": [
    {
     "name": "stdout",
     "output_type": "stream",
     "text": [
      "a:1\n",
      "a:1\n"
     ]
    }
   ],
   "source": [
    "s1 = 'a'\n",
    "s2 = '1+a'\n",
    "v = 'a:1'\n",
    "print(vs.sv_op(vs.scalar.add(s1, s2), v))\n",
    "print(vs.vector_add(vs.sv_op(s1, v), vs.sv_op(s2, v)))"
   ]
  },
  {
   "cell_type": "code",
   "execution_count": 81,
   "id": "9e20fec5",
   "metadata": {},
   "outputs": [
    {
     "name": "stdout",
     "output_type": "stream",
     "text": [
      "Is OK? Yes\n"
     ]
    }
   ],
   "source": [
    "is_ok = True\n",
    "for s1 in vs.scalar:\n",
    "    for s2 in vs.scalar:\n",
    "        for v in vs.vector:\n",
    "            a = vs.sv_op(vs.scalar.add(s1, s2), v)\n",
    "            b = vs.vector_add(vs.sv_op(s1, v), vs.sv_op(s2, v))\n",
    "            if a != b:\n",
    "                is_ok = False\n",
    "                print(f\"{a} != {b}\")\n",
    "print(f\"Is OK? {yes_or_no(is_ok)}\")"
   ]
  },
  {
   "cell_type": "code",
   "execution_count": 91,
   "id": "380db314",
   "metadata": {},
   "outputs": [],
   "source": [
    "def check_dist_of_vec_over_scalar_add(vs, verbose=False):\n",
    "    is_ok = True\n",
    "    for s1 in vs.scalar:\n",
    "        for s2 in vs.scalar:\n",
    "            for v in vs.vector:\n",
    "                a = vs.sv_op(vs.scalar.add(s1, s2), v)\n",
    "                b = vs.vector_add(vs.sv_op(s1, v), vs.sv_op(s2, v))\n",
    "                if a != b:\n",
    "                    is_ok = False\n",
    "                    if verbose:\n",
    "                        print(f\"{a} != {b}\")\n",
    "    return is_ok"
   ]
  },
  {
   "cell_type": "code",
   "execution_count": 92,
   "id": "14510b5b",
   "metadata": {},
   "outputs": [
    {
     "data": {
      "text/plain": [
       "True"
      ]
     },
     "execution_count": 92,
     "metadata": {},
     "output_type": "execute_result"
    }
   ],
   "source": [
    "check_dist_of_vec_over_scalar_add(vs)"
   ]
  },
  {
   "cell_type": "markdown",
   "id": "1c9f417a",
   "metadata": {},
   "source": [
    "### Check: Associativity"
   ]
  },
  {
   "cell_type": "markdown",
   "id": "825a0714",
   "metadata": {},
   "source": [
    "$s_1 \\circ (s_2 \\circ v) = (s_1 \\times s_2) \\circ v$"
   ]
  },
  {
   "cell_type": "code",
   "execution_count": 84,
   "id": "8bc6aea8",
   "metadata": {},
   "outputs": [
    {
     "name": "stdout",
     "output_type": "stream",
     "text": [
      "a:1\n",
      "a:1\n"
     ]
    }
   ],
   "source": [
    "s1 = 'a'\n",
    "s2 = '1+a'\n",
    "v = 'a:1'\n",
    "print(vs.sv_op(s1, vs.sv_op(s2, v)))\n",
    "print(vs.sv_op(vs.scalar.mult(s1, s2), v))"
   ]
  },
  {
   "cell_type": "code",
   "execution_count": 93,
   "id": "c205f6a5",
   "metadata": {},
   "outputs": [
    {
     "name": "stdout",
     "output_type": "stream",
     "text": [
      "Is OK? Yes\n"
     ]
    }
   ],
   "source": [
    "is_ok = True\n",
    "for s1 in vs.scalar:\n",
    "    for s2 in vs.scalar:\n",
    "        for v in vs.vector:\n",
    "            a = vs.sv_op(vs.scalar.add(s1, s2), v)\n",
    "            b = vs.vector_add(vs.sv_op(s1, v), vs.sv_op(s2, v))\n",
    "            if a != b:\n",
    "                is_ok = False\n",
    "                print(f\"{a} != {b}\")\n",
    "print(f\"Is OK? {yes_or_no(is_ok)}\")"
   ]
  },
  {
   "cell_type": "code",
   "execution_count": 94,
   "id": "21229af8",
   "metadata": {},
   "outputs": [],
   "source": [
    "def check_associativity(vs, verbose=False):\n",
    "    is_ok = True\n",
    "    for s1 in vs.scalar:\n",
    "        for s2 in vs.scalar:\n",
    "            for v in vs.vector:\n",
    "                a = vs.sv_op(vs.scalar.add(s1, s2), v)\n",
    "                b = vs.vector_add(vs.sv_op(s1, v), vs.sv_op(s2, v))\n",
    "                if a != b:\n",
    "                    is_ok = False\n",
    "                    if verbose:\n",
    "                        print(f\"{a} != {b}\")\n",
    "    return is_ok"
   ]
  },
  {
   "cell_type": "code",
   "execution_count": 95,
   "id": "c473513c",
   "metadata": {},
   "outputs": [
    {
     "data": {
      "text/plain": [
       "True"
      ]
     },
     "execution_count": 95,
     "metadata": {},
     "output_type": "execute_result"
    }
   ],
   "source": [
    "check_associativity(vs)"
   ]
  },
  {
   "cell_type": "markdown",
   "id": "f4b195ac",
   "metadata": {},
   "source": [
    "### 3D Vector Space"
   ]
  },
  {
   "cell_type": "code",
   "execution_count": 97,
   "id": "414cf21c",
   "metadata": {},
   "outputs": [
    {
     "data": {
      "text/plain": [
       "64"
      ]
     },
     "execution_count": 97,
     "metadata": {},
     "output_type": "execute_result"
    }
   ],
   "source": [
    "f4_3 = f4 * f4 * f4\n",
    "f4_3.order"
   ]
  },
  {
   "cell_type": "code",
   "execution_count": 103,
   "id": "869d4a5f",
   "metadata": {},
   "outputs": [
    {
     "name": "stdout",
     "output_type": "stream",
     "text": [
      "<Group:F4_x_F4_x_F4, ID:140521012405008>\n"
     ]
    }
   ],
   "source": [
    "print(f4_3)"
   ]
  },
  {
   "cell_type": "code",
   "execution_count": 104,
   "id": "3858db31",
   "metadata": {},
   "outputs": [
    {
     "data": {
      "text/plain": [
       "<VectorSpace: Scalars:F4, Vectors:F4_x_F4_x_F4>"
      ]
     },
     "execution_count": 104,
     "metadata": {},
     "output_type": "execute_result"
    }
   ],
   "source": [
    "op = make_dp_sv_op(f4, ':')\n",
    "\n",
    "vs3 = VectorSpace(f4, f4_3, op)\n",
    "vs3"
   ]
  },
  {
   "cell_type": "code",
   "execution_count": 105,
   "id": "3f6370c5",
   "metadata": {},
   "outputs": [
    {
     "data": {
      "text/plain": [
       "True"
      ]
     },
     "execution_count": 105,
     "metadata": {},
     "output_type": "execute_result"
    }
   ],
   "source": [
    "check_scaling_by_one(vs3)"
   ]
  },
  {
   "cell_type": "code",
   "execution_count": 106,
   "id": "5bbe2473",
   "metadata": {},
   "outputs": [
    {
     "data": {
      "text/plain": [
       "True"
      ]
     },
     "execution_count": 106,
     "metadata": {},
     "output_type": "execute_result"
    }
   ],
   "source": [
    "check_dist_of_scalars_over_vec_add(vs3)"
   ]
  },
  {
   "cell_type": "code",
   "execution_count": 107,
   "id": "3c05a556",
   "metadata": {},
   "outputs": [
    {
     "data": {
      "text/plain": [
       "True"
      ]
     },
     "execution_count": 107,
     "metadata": {},
     "output_type": "execute_result"
    }
   ],
   "source": [
    "check_dist_of_vec_over_scalar_add(vs3)"
   ]
  },
  {
   "cell_type": "code",
   "execution_count": 108,
   "id": "d4b26096",
   "metadata": {},
   "outputs": [
    {
     "data": {
      "text/plain": [
       "True"
      ]
     },
     "execution_count": 108,
     "metadata": {},
     "output_type": "execute_result"
    }
   ],
   "source": [
    "check_associativity(vs3)"
   ]
  },
  {
   "cell_type": "code",
   "execution_count": null,
   "id": "3d74bad9",
   "metadata": {},
   "outputs": [],
   "source": []
  }
 ],
 "metadata": {
  "kernelspec": {
   "display_name": "Python 3 (ipykernel)",
   "language": "python",
   "name": "python3"
  },
  "language_info": {
   "codemirror_mode": {
    "name": "ipython",
    "version": 3
   },
   "file_extension": ".py",
   "mimetype": "text/x-python",
   "name": "python",
   "nbconvert_exporter": "python",
   "pygments_lexer": "ipython3",
   "version": "3.7.7"
  }
 },
 "nbformat": 4,
 "nbformat_minor": 5
}
