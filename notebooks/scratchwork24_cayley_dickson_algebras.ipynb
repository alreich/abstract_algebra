{
 "cells": [
  {
   "cell_type": "markdown",
   "id": "b6523b92",
   "metadata": {},
   "source": [
    "# Scratchwork: Cayley-Dickson Algebras"
   ]
  },
  {
   "cell_type": "markdown",
   "id": "34735043",
   "metadata": {},
   "source": [
    "The purpose of this notebook is to develop the functions required to perform the Cayley-Dickson construction within the ``finite_algebras`` module."
   ]
  },
  {
   "cell_type": "code",
   "execution_count": 1,
   "id": "68cea7ff",
   "metadata": {},
   "outputs": [],
   "source": [
    "import finite_algebras as alg\n",
    "import numpy as np\n",
    "# import re\n",
    "# from cayley_dickson_utilities import *"
   ]
  },
  {
   "cell_type": "markdown",
   "id": "81513aad",
   "metadata": {},
   "source": [
    "In the Python module, ``finite_algebras``, all elements are strings.\n",
    "\n",
    "When direct products or Cayley-Dickson algebras are constructed, the component algebras' elements are concatentated (joined) using a string delimiter (':' by default).\n",
    "\n",
    "So, operations like scalar multiplication, negation, conjugation, etc, on the newly constructed \"compound\" elements, require some string manipulation to accomplish."
   ]
  },
  {
   "cell_type": "markdown",
   "id": "75a00d9a",
   "metadata": {},
   "source": [
    "According to [Shafer, 1966]\n",
    "\n",
    "$a,b,c,d,\\mu \\in F$, $\\mu \\neq 0$, then $(a, b) \\times (c, d) = (a c + \\mu d \\overline{b}, \\overline{a} d + c b)$,\n",
    "\n",
    "where $\\overline{a} = a$ and $\\overline{(a, b)} = (\\overline{a}, -b)$"
   ]
  },
  {
   "cell_type": "markdown",
   "id": "7b79999a",
   "metadata": {},
   "source": [
    "## Test Algebras"
   ]
  },
  {
   "cell_type": "code",
   "execution_count": 2,
   "id": "37a0cd3b",
   "metadata": {},
   "outputs": [],
   "source": [
    "F3 = alg.generate_algebra_mod_n(3, elem_name='')\n",
    "F3sqr = F3.sqr()\n",
    "F3quad = F3sqr.sqr()\n",
    "\n",
    "F4 = alg.generate_algebra_mod_n(4, elem_name='')\n",
    "F4sqr = F4.sqr()\n",
    "\n",
    "F5 = alg.generate_algebra_mod_n(5, elem_name='')\n",
    "F5sqr = F5.sqr()\n",
    "\n",
    "F7 = alg.generate_algebra_mod_n(7, elem_name='')\n",
    "F7sqr = F7.sqr()"
   ]
  },
  {
   "cell_type": "code",
   "execution_count": 3,
   "id": "50c27a3e",
   "metadata": {},
   "outputs": [
    {
     "name": "stdout",
     "output_type": "stream",
     "text": [
      "\n",
      "** Field **\n",
      "Name: F3_SQR\n",
      "Instance ID: 4380345872\n",
      "Description: Direct product of F3 with itself using complex multiplication\n",
      "Order: 9\n",
      "Identity: '0:0'\n",
      "Commutative? Yes\n",
      "Cyclic?: Yes\n",
      "  Generators: ['0:1', '0:2', '1:1', '1:2', '2:1', '2:2']\n",
      "Elements:\n",
      "   Index   Name   Inverse  Order\n",
      "      0   '0:0'   '0:0'       1\n",
      "      1   '0:1'   '0:2'       3\n",
      "      2   '0:2'   '0:1'       3\n",
      "      3   '1:0'   '2:0'       3\n",
      "      4   '1:1'   '2:2'       3\n",
      "      5   '1:2'   '2:1'       3\n",
      "      6   '2:0'   '1:0'       3\n",
      "      7   '2:1'   '1:2'       3\n",
      "      8   '2:2'   '1:1'       3\n",
      "Cayley Table (showing indices):\n",
      "[[0, 1, 2, 3, 4, 5, 6, 7, 8],\n",
      " [1, 2, 0, 4, 5, 3, 7, 8, 6],\n",
      " [2, 0, 1, 5, 3, 4, 8, 6, 7],\n",
      " [3, 4, 5, 6, 7, 8, 0, 1, 2],\n",
      " [4, 5, 3, 7, 8, 6, 1, 2, 0],\n",
      " [5, 3, 4, 8, 6, 7, 2, 0, 1],\n",
      " [6, 7, 8, 0, 1, 2, 3, 4, 5],\n",
      " [7, 8, 6, 1, 2, 0, 4, 5, 3],\n",
      " [8, 6, 7, 2, 0, 1, 5, 3, 4]]\n",
      "Mult. Identity: '1:0'\n",
      "Mult. Commutative? Yes\n",
      "Zero Divisors: None\n",
      "Multiplicative Cayley Table (showing indices):\n",
      "[[0, 0, 0, 0, 0, 0, 0, 0, 0],\n",
      " [0, 6, 3, 1, 7, 4, 2, 8, 5],\n",
      " [0, 3, 6, 2, 5, 8, 1, 4, 7],\n",
      " [0, 1, 2, 3, 4, 5, 6, 7, 8],\n",
      " [0, 7, 5, 4, 2, 6, 8, 3, 1],\n",
      " [0, 4, 8, 5, 6, 1, 7, 2, 3],\n",
      " [0, 2, 1, 6, 8, 7, 3, 5, 4],\n",
      " [0, 8, 4, 7, 3, 2, 5, 1, 6],\n",
      " [0, 5, 7, 8, 1, 3, 4, 6, 2]]\n"
     ]
    }
   ],
   "source": [
    "F3sqr.about()"
   ]
  },
  {
   "cell_type": "code",
   "execution_count": 4,
   "id": "f7752b67",
   "metadata": {},
   "outputs": [
    {
     "name": "stdout",
     "output_type": "stream",
     "text": [
      "\n",
      "** Field **\n",
      "Name: F3_CDA\n",
      "Instance ID: 4379608720\n",
      "Description: Cayley-Dickson algebra based on F3\n",
      "Order: 9\n",
      "Identity: '0:0'\n",
      "Commutative? Yes\n",
      "Cyclic?: Yes\n",
      "  Generators: ['0:1', '0:2', '1:1', '1:2', '2:1', '2:2']\n",
      "Elements:\n",
      "   Index   Name   Inverse  Order\n",
      "      0   '0:0'   '0:0'       1\n",
      "      1   '0:1'   '0:2'       3\n",
      "      2   '0:2'   '0:1'       3\n",
      "      3   '1:0'   '2:0'       3\n",
      "      4   '1:1'   '2:2'       3\n",
      "      5   '1:2'   '2:1'       3\n",
      "      6   '2:0'   '1:0'       3\n",
      "      7   '2:1'   '1:2'       3\n",
      "      8   '2:2'   '1:1'       3\n",
      "Cayley Table (showing indices):\n",
      "[[0, 1, 2, 3, 4, 5, 6, 7, 8],\n",
      " [1, 2, 0, 4, 5, 3, 7, 8, 6],\n",
      " [2, 0, 1, 5, 3, 4, 8, 6, 7],\n",
      " [3, 4, 5, 6, 7, 8, 0, 1, 2],\n",
      " [4, 5, 3, 7, 8, 6, 1, 2, 0],\n",
      " [5, 3, 4, 8, 6, 7, 2, 0, 1],\n",
      " [6, 7, 8, 0, 1, 2, 3, 4, 5],\n",
      " [7, 8, 6, 1, 2, 0, 4, 5, 3],\n",
      " [8, 6, 7, 2, 0, 1, 5, 3, 4]]\n",
      "Mult. Identity: '1:0'\n",
      "Mult. Commutative? Yes\n",
      "Zero Divisors: None\n",
      "Multiplicative Cayley Table (showing indices):\n",
      "[[0, 0, 0, 0, 0, 0, 0, 0, 0],\n",
      " [0, 6, 3, 1, 7, 4, 2, 8, 5],\n",
      " [0, 3, 6, 2, 5, 8, 1, 4, 7],\n",
      " [0, 1, 2, 3, 4, 5, 6, 7, 8],\n",
      " [0, 7, 5, 4, 2, 6, 8, 3, 1],\n",
      " [0, 4, 8, 5, 6, 1, 7, 2, 3],\n",
      " [0, 2, 1, 6, 8, 7, 3, 5, 4],\n",
      " [0, 8, 4, 7, 3, 2, 5, 1, 6],\n",
      " [0, 5, 7, 8, 1, 3, 4, 6, 2]]\n"
     ]
    }
   ],
   "source": [
    "F3cda = F3.make_cayley_dickson_algebra()\n",
    "F3cda.about()"
   ]
  },
  {
   "cell_type": "code",
   "execution_count": 5,
   "id": "e0322bb5",
   "metadata": {},
   "outputs": [
    {
     "data": {
      "text/plain": [
       "True"
      ]
     },
     "execution_count": 5,
     "metadata": {},
     "output_type": "execute_result"
    }
   ],
   "source": [
    "F3sqr == F3cda"
   ]
  },
  {
   "cell_type": "code",
   "execution_count": 6,
   "id": "ec487865",
   "metadata": {},
   "outputs": [
    {
     "name": "stdout",
     "output_type": "stream",
     "text": [
      "\n",
      "** Ring **\n",
      "Name: F3_CDA_CDA\n",
      "Instance ID: 4360656784\n",
      "Description: Cayley-Dickson algebra based on F3_CDA\n",
      "Order: 81\n",
      "Identity: '0:0:0:0'\n",
      "Commutative? Yes\n",
      "Cyclic?: Yes\n",
      "  Generators: ['0:0:1:1', '0:0:1:2', '0:0:2:1', '0:0:2:2', '0:1:0:1', '0:1:0:2', '0:2:0:1', '0:2:0:2', '1:0:1:1', '1:0:1:2', '1:0:2:1', '1:0:2:2', '1:1:0:1', '1:1:0:2', '1:2:0:1', '1:2:0:2', '2:0:1:1', '2:0:1:2', '2:0:2:1', '2:0:2:2', '2:1:0:1', '2:1:0:2', '2:2:0:1', '2:2:0:2']\n",
      "Elements:\n",
      "   Index   Name   Inverse  Order\n",
      "      0 '0:0:0:0' '0:0:0:0'       1\n",
      "      1 '0:0:0:1' '0:0:0:2'       3\n",
      "      2 '0:0:0:2' '0:0:0:1'       3\n",
      "      3 '0:0:1:0' '0:0:2:0'       3\n",
      "      4 '0:0:1:1' '0:0:2:2'       3\n",
      "      5 '0:0:1:2' '0:0:2:1'       3\n",
      "      6 '0:0:2:0' '0:0:1:0'       3\n",
      "      7 '0:0:2:1' '0:0:1:2'       3\n",
      "      8 '0:0:2:2' '0:0:1:1'       3\n",
      "      9 '0:1:0:0' '0:2:0:0'       3\n",
      "     10 '0:1:0:1' '0:2:0:2'       3\n",
      "     11 '0:1:0:2' '0:2:0:1'       3\n",
      "     12 '0:1:1:0' '0:2:2:0'       3\n",
      "     13 '0:1:1:1' '0:2:2:2'       3\n",
      "     14 '0:1:1:2' '0:2:2:1'       3\n",
      "     15 '0:1:2:0' '0:2:1:0'       3\n",
      "     16 '0:1:2:1' '0:2:1:2'       3\n",
      "     17 '0:1:2:2' '0:2:1:1'       3\n",
      "     18 '0:2:0:0' '0:1:0:0'       3\n",
      "     19 '0:2:0:1' '0:1:0:2'       3\n",
      "     20 '0:2:0:2' '0:1:0:1'       3\n",
      "     21 '0:2:1:0' '0:1:2:0'       3\n",
      "     22 '0:2:1:1' '0:1:2:2'       3\n",
      "     23 '0:2:1:2' '0:1:2:1'       3\n",
      "     24 '0:2:2:0' '0:1:1:0'       3\n",
      "     25 '0:2:2:1' '0:1:1:2'       3\n",
      "     26 '0:2:2:2' '0:1:1:1'       3\n",
      "     27 '1:0:0:0' '2:0:0:0'       3\n",
      "     28 '1:0:0:1' '2:0:0:2'       3\n",
      "     29 '1:0:0:2' '2:0:0:1'       3\n",
      "     30 '1:0:1:0' '2:0:2:0'       3\n",
      "     31 '1:0:1:1' '2:0:2:2'       3\n",
      "     32 '1:0:1:2' '2:0:2:1'       3\n",
      "     33 '1:0:2:0' '2:0:1:0'       3\n",
      "     34 '1:0:2:1' '2:0:1:2'       3\n",
      "     35 '1:0:2:2' '2:0:1:1'       3\n",
      "     36 '1:1:0:0' '2:2:0:0'       3\n",
      "     37 '1:1:0:1' '2:2:0:2'       3\n",
      "     38 '1:1:0:2' '2:2:0:1'       3\n",
      "     39 '1:1:1:0' '2:2:2:0'       3\n",
      "     40 '1:1:1:1' '2:2:2:2'       3\n",
      "     41 '1:1:1:2' '2:2:2:1'       3\n",
      "     42 '1:1:2:0' '2:2:1:0'       3\n",
      "     43 '1:1:2:1' '2:2:1:2'       3\n",
      "     44 '1:1:2:2' '2:2:1:1'       3\n",
      "     45 '1:2:0:0' '2:1:0:0'       3\n",
      "     46 '1:2:0:1' '2:1:0:2'       3\n",
      "     47 '1:2:0:2' '2:1:0:1'       3\n",
      "     48 '1:2:1:0' '2:1:2:0'       3\n",
      "     49 '1:2:1:1' '2:1:2:2'       3\n",
      "     50 '1:2:1:2' '2:1:2:1'       3\n",
      "     51 '1:2:2:0' '2:1:1:0'       3\n",
      "     52 '1:2:2:1' '2:1:1:2'       3\n",
      "     53 '1:2:2:2' '2:1:1:1'       3\n",
      "     54 '2:0:0:0' '1:0:0:0'       3\n",
      "     55 '2:0:0:1' '1:0:0:2'       3\n",
      "     56 '2:0:0:2' '1:0:0:1'       3\n",
      "     57 '2:0:1:0' '1:0:2:0'       3\n",
      "     58 '2:0:1:1' '1:0:2:2'       3\n",
      "     59 '2:0:1:2' '1:0:2:1'       3\n",
      "     60 '2:0:2:0' '1:0:1:0'       3\n",
      "     61 '2:0:2:1' '1:0:1:2'       3\n",
      "     62 '2:0:2:2' '1:0:1:1'       3\n",
      "     63 '2:1:0:0' '1:2:0:0'       3\n",
      "     64 '2:1:0:1' '1:2:0:2'       3\n",
      "     65 '2:1:0:2' '1:2:0:1'       3\n",
      "     66 '2:1:1:0' '1:2:2:0'       3\n",
      "     67 '2:1:1:1' '1:2:2:2'       3\n",
      "     68 '2:1:1:2' '1:2:2:1'       3\n",
      "     69 '2:1:2:0' '1:2:1:0'       3\n",
      "     70 '2:1:2:1' '1:2:1:2'       3\n",
      "     71 '2:1:2:2' '1:2:1:1'       3\n",
      "     72 '2:2:0:0' '1:1:0:0'       3\n",
      "     73 '2:2:0:1' '1:1:0:2'       3\n",
      "     74 '2:2:0:2' '1:1:0:1'       3\n",
      "     75 '2:2:1:0' '1:1:2:0'       3\n",
      "     76 '2:2:1:1' '1:1:2:2'       3\n",
      "     77 '2:2:1:2' '1:1:2:1'       3\n",
      "     78 '2:2:2:0' '1:1:1:0'       3\n",
      "     79 '2:2:2:1' '1:1:1:2'       3\n",
      "     80 '2:2:2:2' '1:1:1:1'       3\n",
      "Ring order is 81 > 12, so no further info calculated/printed.\n",
      "Mult. Identity: '1:0:0:0'\n",
      "Mult. Commutative? Yes\n",
      "Zero Divisors: ['2:1:1:1', '2:1:2:2', '0:1:1:0', '2:2:1:2', '0:1:2:0', '2:2:2:1', '0:2:1:0', '0:2:2:0', '1:0:0:1', '1:0:0:2', '1:1:1:2', '1:1:2:1', '1:2:1:1', '1:2:2:2', '2:0:0:1', '2:0:0:2']\n",
      "Ring order is 81 > 12, so no further info calculated/printed.\n"
     ]
    }
   ],
   "source": [
    "F3cda_sqr = F3cda.make_cayley_dickson_algebra()\n",
    "F3cda_sqr.about()"
   ]
  },
  {
   "cell_type": "code",
   "execution_count": 7,
   "id": "aa96c91e",
   "metadata": {},
   "outputs": [
    {
     "data": {
      "text/plain": [
       "True"
      ]
     },
     "execution_count": 7,
     "metadata": {},
     "output_type": "execute_result"
    }
   ],
   "source": [
    "F3quad == F3cda_sqr  # This should be True"
   ]
  },
  {
   "cell_type": "code",
   "execution_count": 8,
   "id": "2b18ba28",
   "metadata": {},
   "outputs": [
    {
     "data": {
      "text/plain": [
       "['2:1:1:1',\n",
       " '2:1:2:2',\n",
       " '0:1:1:0',\n",
       " '2:2:1:2',\n",
       " '0:1:2:0',\n",
       " '2:2:2:1',\n",
       " '0:2:1:0',\n",
       " '0:2:2:0',\n",
       " '1:0:0:1',\n",
       " '1:0:0:2',\n",
       " '1:1:1:2',\n",
       " '1:1:2:1',\n",
       " '1:2:1:1',\n",
       " '1:2:2:2',\n",
       " '2:0:0:1',\n",
       " '2:0:0:2']"
      ]
     },
     "execution_count": 8,
     "metadata": {},
     "output_type": "execute_result"
    }
   ],
   "source": [
    "F3quad.zero_divisors()  # Same as F3cda_sqr.zero_divisors()"
   ]
  },
  {
   "cell_type": "code",
   "execution_count": 9,
   "id": "45d1c516",
   "metadata": {},
   "outputs": [
    {
     "name": "stdout",
     "output_type": "stream",
     "text": [
      "\n",
      "** Ring **\n",
      "Name: F3_CDA_CDA\n",
      "Instance ID: 4387708688\n",
      "Description: Cayley-Dickson algebra based on F3_CDA\n",
      "Order: 81\n",
      "Identity: '0:0:0:0'\n",
      "Commutative? Yes\n",
      "Cyclic?: No\n",
      "Elements:\n",
      "   Index   Name   Inverse  Order\n",
      "      0 '0:0:0:0' '0:0:0:0'       1\n",
      "      1 '0:0:0:1' '0:0:0:2'       3\n",
      "      2 '0:0:0:2' '0:0:0:1'       3\n",
      "      3 '0:0:1:0' '0:0:2:0'       3\n",
      "      4 '0:0:1:1' '0:0:2:2'       3\n",
      "      5 '0:0:1:2' '0:0:2:1'       3\n",
      "      6 '0:0:2:0' '0:0:1:0'       3\n",
      "      7 '0:0:2:1' '0:0:1:2'       3\n",
      "      8 '0:0:2:2' '0:0:1:1'       3\n",
      "      9 '0:1:0:0' '0:2:0:0'       3\n",
      "     10 '0:1:0:1' '0:2:0:2'       3\n",
      "     11 '0:1:0:2' '0:2:0:1'       3\n",
      "     12 '0:1:1:0' '0:2:2:0'       3\n",
      "     13 '0:1:1:1' '0:2:2:2'       3\n",
      "     14 '0:1:1:2' '0:2:2:1'       3\n",
      "     15 '0:1:2:0' '0:2:1:0'       3\n",
      "     16 '0:1:2:1' '0:2:1:2'       3\n",
      "     17 '0:1:2:2' '0:2:1:1'       3\n",
      "     18 '0:2:0:0' '0:1:0:0'       3\n",
      "     19 '0:2:0:1' '0:1:0:2'       3\n",
      "     20 '0:2:0:2' '0:1:0:1'       3\n",
      "     21 '0:2:1:0' '0:1:2:0'       3\n",
      "     22 '0:2:1:1' '0:1:2:2'       3\n",
      "     23 '0:2:1:2' '0:1:2:1'       3\n",
      "     24 '0:2:2:0' '0:1:1:0'       3\n",
      "     25 '0:2:2:1' '0:1:1:2'       3\n",
      "     26 '0:2:2:2' '0:1:1:1'       3\n",
      "     27 '1:0:0:0' '2:0:0:0'       3\n",
      "     28 '1:0:0:1' '2:0:0:2'       3\n",
      "     29 '1:0:0:2' '2:0:0:1'       3\n",
      "     30 '1:0:1:0' '2:0:2:0'       3\n",
      "     31 '1:0:1:1' '2:0:2:2'       3\n",
      "     32 '1:0:1:2' '2:0:2:1'       3\n",
      "     33 '1:0:2:0' '2:0:1:0'       3\n",
      "     34 '1:0:2:1' '2:0:1:2'       3\n",
      "     35 '1:0:2:2' '2:0:1:1'       3\n",
      "     36 '1:1:0:0' '2:2:0:0'       3\n",
      "     37 '1:1:0:1' '2:2:0:2'       3\n",
      "     38 '1:1:0:2' '2:2:0:1'       3\n",
      "     39 '1:1:1:0' '2:2:2:0'       3\n",
      "     40 '1:1:1:1' '2:2:2:2'       3\n",
      "     41 '1:1:1:2' '2:2:2:1'       3\n",
      "     42 '1:1:2:0' '2:2:1:0'       3\n",
      "     43 '1:1:2:1' '2:2:1:2'       3\n",
      "     44 '1:1:2:2' '2:2:1:1'       3\n",
      "     45 '1:2:0:0' '2:1:0:0'       3\n",
      "     46 '1:2:0:1' '2:1:0:2'       3\n",
      "     47 '1:2:0:2' '2:1:0:1'       3\n",
      "     48 '1:2:1:0' '2:1:2:0'       3\n",
      "     49 '1:2:1:1' '2:1:2:2'       3\n",
      "     50 '1:2:1:2' '2:1:2:1'       3\n",
      "     51 '1:2:2:0' '2:1:1:0'       3\n",
      "     52 '1:2:2:1' '2:1:1:2'       3\n",
      "     53 '1:2:2:2' '2:1:1:1'       3\n",
      "     54 '2:0:0:0' '1:0:0:0'       3\n",
      "     55 '2:0:0:1' '1:0:0:2'       3\n",
      "     56 '2:0:0:2' '1:0:0:1'       3\n",
      "     57 '2:0:1:0' '1:0:2:0'       3\n",
      "     58 '2:0:1:1' '1:0:2:2'       3\n",
      "     59 '2:0:1:2' '1:0:2:1'       3\n",
      "     60 '2:0:2:0' '1:0:1:0'       3\n",
      "     61 '2:0:2:1' '1:0:1:2'       3\n",
      "     62 '2:0:2:2' '1:0:1:1'       3\n",
      "     63 '2:1:0:0' '1:2:0:0'       3\n",
      "     64 '2:1:0:1' '1:2:0:2'       3\n",
      "     65 '2:1:0:2' '1:2:0:1'       3\n",
      "     66 '2:1:1:0' '1:2:2:0'       3\n",
      "     67 '2:1:1:1' '1:2:2:2'       3\n",
      "     68 '2:1:1:2' '1:2:2:1'       3\n",
      "     69 '2:1:2:0' '1:2:1:0'       3\n",
      "     70 '2:1:2:1' '1:2:1:2'       3\n",
      "     71 '2:1:2:2' '1:2:1:1'       3\n",
      "     72 '2:2:0:0' '1:1:0:0'       3\n",
      "     73 '2:2:0:1' '1:1:0:2'       3\n",
      "     74 '2:2:0:2' '1:1:0:1'       3\n",
      "     75 '2:2:1:0' '1:1:2:0'       3\n",
      "     76 '2:2:1:1' '1:1:2:2'       3\n",
      "     77 '2:2:1:2' '1:1:2:1'       3\n",
      "     78 '2:2:2:0' '1:1:1:0'       3\n",
      "     79 '2:2:2:1' '1:1:1:2'       3\n",
      "     80 '2:2:2:2' '1:1:1:1'       3\n",
      "Ring order is 81 > 12, so no further info calculated/printed.\n",
      "Mult. Identity: '1:0:0:0'\n",
      "Mult. Commutative? No\n",
      "Zero Divisors: ['0:1:1:1', '0:1:1:2', '0:1:2:1', '0:1:2:2', '0:2:1:1', '0:2:1:2', '0:2:2:1', '0:2:2:2', '1:0:1:1', '1:0:1:2', '1:0:2:1', '1:0:2:2', '1:1:0:1', '1:1:0:2', '1:1:1:0', '1:1:2:0', '1:2:0:1', '1:2:0:2', '1:2:1:0', '1:2:2:0', '2:0:1:1', '2:0:1:2', '2:0:2:1', '2:0:2:2', '2:1:0:1', '2:1:0:2', '2:1:1:0', '2:1:2:0', '2:2:0:1', '2:2:0:2', '2:2:1:0', '2:2:2:0']\n",
      "Ring order is 81 > 12, so no further info calculated/printed.\n"
     ]
    }
   ],
   "source": [
    "F3cda_1966 = F3cda.make_cayley_dickson_algebra(version=1)\n",
    "F3cda_1966.about()"
   ]
  },
  {
   "cell_type": "code",
   "execution_count": 10,
   "id": "0dcfb532",
   "metadata": {},
   "outputs": [
    {
     "data": {
      "text/plain": [
       "False"
      ]
     },
     "execution_count": 10,
     "metadata": {},
     "output_type": "execute_result"
    }
   ],
   "source": [
    "F3quad == F3cda_1966"
   ]
  },
  {
   "cell_type": "code",
   "execution_count": 11,
   "id": "1a6cbc5b",
   "metadata": {},
   "outputs": [
    {
     "data": {
      "text/plain": [
       "['0:1:1:1',\n",
       " '0:1:1:2',\n",
       " '0:1:2:1',\n",
       " '0:1:2:2',\n",
       " '0:2:1:1',\n",
       " '0:2:1:2',\n",
       " '0:2:2:1',\n",
       " '0:2:2:2',\n",
       " '1:0:1:1',\n",
       " '1:0:1:2',\n",
       " '1:0:2:1',\n",
       " '1:0:2:2',\n",
       " '1:1:0:1',\n",
       " '1:1:0:2',\n",
       " '1:1:1:0',\n",
       " '1:1:2:0',\n",
       " '1:2:0:1',\n",
       " '1:2:0:2',\n",
       " '1:2:1:0',\n",
       " '1:2:2:0',\n",
       " '2:0:1:1',\n",
       " '2:0:1:2',\n",
       " '2:0:2:1',\n",
       " '2:0:2:2',\n",
       " '2:1:0:1',\n",
       " '2:1:0:2',\n",
       " '2:1:1:0',\n",
       " '2:1:2:0',\n",
       " '2:2:0:1',\n",
       " '2:2:0:2',\n",
       " '2:2:1:0',\n",
       " '2:2:2:0']"
      ]
     },
     "execution_count": 11,
     "metadata": {},
     "output_type": "execute_result"
    }
   ],
   "source": [
    "F3cda_1966.zero_divisors()"
   ]
  },
  {
   "cell_type": "code",
   "execution_count": 12,
   "id": "314dd0c2",
   "metadata": {},
   "outputs": [
    {
     "name": "stdout",
     "output_type": "stream",
     "text": [
      "\n",
      "** Ring **\n",
      "Name: F3_CDA_CDA\n",
      "Instance ID: 4387815568\n",
      "Description: Cayley-Dickson algebra based on F3_CDA\n",
      "Order: 81\n",
      "Identity: '0:0:0:0'\n",
      "Commutative? Yes\n",
      "Cyclic?: No\n",
      "Elements:\n",
      "   Index   Name   Inverse  Order\n",
      "      0 '0:0:0:0' '0:0:0:0'       1\n",
      "      1 '0:0:0:1' '0:0:0:2'       3\n",
      "      2 '0:0:0:2' '0:0:0:1'       3\n",
      "      3 '0:0:1:0' '0:0:2:0'       3\n",
      "      4 '0:0:1:1' '0:0:2:2'       3\n",
      "      5 '0:0:1:2' '0:0:2:1'       3\n",
      "      6 '0:0:2:0' '0:0:1:0'       3\n",
      "      7 '0:0:2:1' '0:0:1:2'       3\n",
      "      8 '0:0:2:2' '0:0:1:1'       3\n",
      "      9 '0:1:0:0' '0:2:0:0'       3\n",
      "     10 '0:1:0:1' '0:2:0:2'       3\n",
      "     11 '0:1:0:2' '0:2:0:1'       3\n",
      "     12 '0:1:1:0' '0:2:2:0'       3\n",
      "     13 '0:1:1:1' '0:2:2:2'       3\n",
      "     14 '0:1:1:2' '0:2:2:1'       3\n",
      "     15 '0:1:2:0' '0:2:1:0'       3\n",
      "     16 '0:1:2:1' '0:2:1:2'       3\n",
      "     17 '0:1:2:2' '0:2:1:1'       3\n",
      "     18 '0:2:0:0' '0:1:0:0'       3\n",
      "     19 '0:2:0:1' '0:1:0:2'       3\n",
      "     20 '0:2:0:2' '0:1:0:1'       3\n",
      "     21 '0:2:1:0' '0:1:2:0'       3\n",
      "     22 '0:2:1:1' '0:1:2:2'       3\n",
      "     23 '0:2:1:2' '0:1:2:1'       3\n",
      "     24 '0:2:2:0' '0:1:1:0'       3\n",
      "     25 '0:2:2:1' '0:1:1:2'       3\n",
      "     26 '0:2:2:2' '0:1:1:1'       3\n",
      "     27 '1:0:0:0' '2:0:0:0'       3\n",
      "     28 '1:0:0:1' '2:0:0:2'       3\n",
      "     29 '1:0:0:2' '2:0:0:1'       3\n",
      "     30 '1:0:1:0' '2:0:2:0'       3\n",
      "     31 '1:0:1:1' '2:0:2:2'       3\n",
      "     32 '1:0:1:2' '2:0:2:1'       3\n",
      "     33 '1:0:2:0' '2:0:1:0'       3\n",
      "     34 '1:0:2:1' '2:0:1:2'       3\n",
      "     35 '1:0:2:2' '2:0:1:1'       3\n",
      "     36 '1:1:0:0' '2:2:0:0'       3\n",
      "     37 '1:1:0:1' '2:2:0:2'       3\n",
      "     38 '1:1:0:2' '2:2:0:1'       3\n",
      "     39 '1:1:1:0' '2:2:2:0'       3\n",
      "     40 '1:1:1:1' '2:2:2:2'       3\n",
      "     41 '1:1:1:2' '2:2:2:1'       3\n",
      "     42 '1:1:2:0' '2:2:1:0'       3\n",
      "     43 '1:1:2:1' '2:2:1:2'       3\n",
      "     44 '1:1:2:2' '2:2:1:1'       3\n",
      "     45 '1:2:0:0' '2:1:0:0'       3\n",
      "     46 '1:2:0:1' '2:1:0:2'       3\n",
      "     47 '1:2:0:2' '2:1:0:1'       3\n",
      "     48 '1:2:1:0' '2:1:2:0'       3\n",
      "     49 '1:2:1:1' '2:1:2:2'       3\n",
      "     50 '1:2:1:2' '2:1:2:1'       3\n",
      "     51 '1:2:2:0' '2:1:1:0'       3\n",
      "     52 '1:2:2:1' '2:1:1:2'       3\n",
      "     53 '1:2:2:2' '2:1:1:1'       3\n",
      "     54 '2:0:0:0' '1:0:0:0'       3\n",
      "     55 '2:0:0:1' '1:0:0:2'       3\n",
      "     56 '2:0:0:2' '1:0:0:1'       3\n",
      "     57 '2:0:1:0' '1:0:2:0'       3\n",
      "     58 '2:0:1:1' '1:0:2:2'       3\n",
      "     59 '2:0:1:2' '1:0:2:1'       3\n",
      "     60 '2:0:2:0' '1:0:1:0'       3\n",
      "     61 '2:0:2:1' '1:0:1:2'       3\n",
      "     62 '2:0:2:2' '1:0:1:1'       3\n",
      "     63 '2:1:0:0' '1:2:0:0'       3\n",
      "     64 '2:1:0:1' '1:2:0:2'       3\n",
      "     65 '2:1:0:2' '1:2:0:1'       3\n",
      "     66 '2:1:1:0' '1:2:2:0'       3\n",
      "     67 '2:1:1:1' '1:2:2:2'       3\n",
      "     68 '2:1:1:2' '1:2:2:1'       3\n",
      "     69 '2:1:2:0' '1:2:1:0'       3\n",
      "     70 '2:1:2:1' '1:2:1:2'       3\n",
      "     71 '2:1:2:2' '1:2:1:1'       3\n",
      "     72 '2:2:0:0' '1:1:0:0'       3\n",
      "     73 '2:2:0:1' '1:1:0:2'       3\n",
      "     74 '2:2:0:2' '1:1:0:1'       3\n",
      "     75 '2:2:1:0' '1:1:2:0'       3\n",
      "     76 '2:2:1:1' '1:1:2:2'       3\n",
      "     77 '2:2:1:2' '1:1:2:1'       3\n",
      "     78 '2:2:2:0' '1:1:1:0'       3\n",
      "     79 '2:2:2:1' '1:1:1:2'       3\n",
      "     80 '2:2:2:2' '1:1:1:1'       3\n",
      "Ring order is 81 > 12, so no further info calculated/printed.\n",
      "Mult. Identity: '1:0:0:0'\n",
      "Mult. Commutative? No\n",
      "Zero Divisors: ['0:1:1:1', '0:1:1:2', '0:1:2:1', '0:1:2:2', '0:2:1:1', '0:2:1:2', '0:2:2:1', '0:2:2:2', '1:0:1:1', '1:0:1:2', '1:0:2:1', '1:0:2:2', '1:1:0:1', '1:1:0:2', '1:1:1:0', '1:1:2:0', '1:2:0:1', '1:2:0:2', '1:2:1:0', '1:2:2:0', '2:0:1:1', '2:0:1:2', '2:0:2:1', '2:0:2:2', '2:1:0:1', '2:1:0:2', '2:1:1:0', '2:1:2:0', '2:2:0:1', '2:2:0:2', '2:2:1:0', '2:2:2:0']\n",
      "Ring order is 81 > 12, so no further info calculated/printed.\n"
     ]
    }
   ],
   "source": [
    "F3cda_1953 = F3cda.make_cayley_dickson_algebra(version=2)\n",
    "F3cda_1953.about()"
   ]
  },
  {
   "cell_type": "code",
   "execution_count": 13,
   "id": "579c56ab",
   "metadata": {},
   "outputs": [
    {
     "data": {
      "text/plain": [
       "False"
      ]
     },
     "execution_count": 13,
     "metadata": {},
     "output_type": "execute_result"
    }
   ],
   "source": [
    "F3cda_1953 == F3cda_1966"
   ]
  },
  {
   "cell_type": "code",
   "execution_count": 14,
   "id": "9d3addf0",
   "metadata": {},
   "outputs": [
    {
     "data": {
      "text/plain": [
       "['0:1:1:1',\n",
       " '0:1:1:2',\n",
       " '0:1:2:1',\n",
       " '0:1:2:2',\n",
       " '0:2:1:1',\n",
       " '0:2:1:2',\n",
       " '0:2:2:1',\n",
       " '0:2:2:2',\n",
       " '1:0:1:1',\n",
       " '1:0:1:2',\n",
       " '1:0:2:1',\n",
       " '1:0:2:2',\n",
       " '1:1:0:1',\n",
       " '1:1:0:2',\n",
       " '1:1:1:0',\n",
       " '1:1:2:0',\n",
       " '1:2:0:1',\n",
       " '1:2:0:2',\n",
       " '1:2:1:0',\n",
       " '1:2:2:0',\n",
       " '2:0:1:1',\n",
       " '2:0:1:2',\n",
       " '2:0:2:1',\n",
       " '2:0:2:2',\n",
       " '2:1:0:1',\n",
       " '2:1:0:2',\n",
       " '2:1:1:0',\n",
       " '2:1:2:0',\n",
       " '2:2:0:1',\n",
       " '2:2:0:2',\n",
       " '2:2:1:0',\n",
       " '2:2:2:0']"
      ]
     },
     "execution_count": 14,
     "metadata": {},
     "output_type": "execute_result"
    }
   ],
   "source": [
    "F3cda_1953.zero_divisors()"
   ]
  },
  {
   "cell_type": "code",
   "execution_count": 15,
   "id": "4fb08767",
   "metadata": {},
   "outputs": [],
   "source": [
    "zd_sqr = set(F3cda_sqr.zero_divisors())\n",
    "zd_1966 = set(F3cda_1966.zero_divisors())\n",
    "zd_1953 = set(F3cda_1953.zero_divisors())"
   ]
  },
  {
   "cell_type": "code",
   "execution_count": 16,
   "id": "3d857877",
   "metadata": {},
   "outputs": [
    {
     "data": {
      "text/plain": [
       "32"
      ]
     },
     "execution_count": 16,
     "metadata": {},
     "output_type": "execute_result"
    }
   ],
   "source": [
    "len(zd_1966.intersection(zd_1953))"
   ]
  },
  {
   "cell_type": "code",
   "execution_count": 17,
   "id": "cd186e04",
   "metadata": {},
   "outputs": [
    {
     "data": {
      "text/plain": [
       "True"
      ]
     },
     "execution_count": 17,
     "metadata": {},
     "output_type": "execute_result"
    }
   ],
   "source": [
    "zd_1953 == zd_1966"
   ]
  },
  {
   "cell_type": "code",
   "execution_count": 18,
   "id": "c294ac3d",
   "metadata": {},
   "outputs": [
    {
     "data": {
      "text/plain": [
       "False"
      ]
     },
     "execution_count": 18,
     "metadata": {},
     "output_type": "execute_result"
    }
   ],
   "source": [
    "F3cda_1966 == F3cda_1953"
   ]
  },
  {
   "cell_type": "code",
   "execution_count": 19,
   "id": "d20cfea2",
   "metadata": {},
   "outputs": [
    {
     "name": "stdout",
     "output_type": "stream",
     "text": [
      "5616 unequal out of 6561\n"
     ]
    }
   ],
   "source": [
    "alg1 = F3cda_1966\n",
    "alg2 = F3cda_1953\n",
    "\n",
    "total = 0\n",
    "count = 0\n",
    "for a in alg1:\n",
    "    for b in alg1:\n",
    "        total += 1\n",
    "        if not alg1.mult(a, b) == alg2.mult(a, b):\n",
    "            count += 1\n",
    "print(f\"{count} unequal out of {total}\")"
   ]
  },
  {
   "cell_type": "code",
   "execution_count": 20,
   "id": "c750e804",
   "metadata": {},
   "outputs": [
    {
     "name": "stdout",
     "output_type": "stream",
     "text": [
      "5184 unequal out of 6561\n"
     ]
    }
   ],
   "source": [
    "alg1 = F3cda_1966\n",
    "alg2 = F3cda_sqr\n",
    "\n",
    "total = 0\n",
    "count = 0\n",
    "for a in alg1:\n",
    "    for b in alg1:\n",
    "        total += 1\n",
    "        if not alg1.mult(a, b) == alg2.mult(a, b):\n",
    "            count += 1\n",
    "print(f\"{count} unequal out of {total}\")"
   ]
  },
  {
   "cell_type": "code",
   "execution_count": 21,
   "id": "d148c3d2",
   "metadata": {},
   "outputs": [
    {
     "name": "stdout",
     "output_type": "stream",
     "text": [
      "5184 unequal out of 6561\n"
     ]
    }
   ],
   "source": [
    "alg1 = F3cda_sqr\n",
    "alg2 = F3cda_1953\n",
    "\n",
    "total = 0\n",
    "count = 0\n",
    "for a in alg1:\n",
    "    for b in alg1:\n",
    "        total += 1\n",
    "        if not alg1.mult(a, b) == alg2.mult(a, b):\n",
    "            count += 1\n",
    "print(f\"{count} unequal out of {total}\")"
   ]
  },
  {
   "cell_type": "code",
   "execution_count": 22,
   "id": "b028da56",
   "metadata": {},
   "outputs": [],
   "source": [
    "elem = '1:1:2:2'"
   ]
  },
  {
   "cell_type": "code",
   "execution_count": 23,
   "id": "1d38ead3",
   "metadata": {},
   "outputs": [
    {
     "data": {
      "text/plain": [
       "'1:1:1'"
      ]
     },
     "execution_count": 23,
     "metadata": {},
     "output_type": "execute_result"
    }
   ],
   "source": [
    "alg2.conj(elem)"
   ]
  },
  {
   "cell_type": "code",
   "execution_count": 24,
   "id": "e8cfe92e",
   "metadata": {},
   "outputs": [
    {
     "name": "stdout",
     "output_type": "stream",
     "text": [
      "1:1 2:2\n"
     ]
    }
   ],
   "source": [
    "head, tail = alg2.split_element(elem)\n",
    "print(head, tail)"
   ]
  },
  {
   "cell_type": "code",
   "execution_count": 25,
   "id": "e98c08bf",
   "metadata": {},
   "outputs": [
    {
     "data": {
      "text/plain": [
       "'0:0'"
      ]
     },
     "execution_count": 25,
     "metadata": {},
     "output_type": "execute_result"
    }
   ],
   "source": [
    "alg2.split_element(alg2.zero)[1]"
   ]
  },
  {
   "cell_type": "code",
   "execution_count": null,
   "id": "7579394d",
   "metadata": {},
   "outputs": [],
   "source": []
  },
  {
   "cell_type": "code",
   "execution_count": 26,
   "id": "e48653be",
   "metadata": {},
   "outputs": [
    {
     "data": {
      "text/plain": [
       "'2:2:0:0'"
      ]
     },
     "execution_count": 26,
     "metadata": {},
     "output_type": "execute_result"
    }
   ],
   "source": [
    "tailx = ':'.join([tail, alg2.split_element(alg2.zero)[1]])\n",
    "tailx"
   ]
  },
  {
   "cell_type": "code",
   "execution_count": null,
   "id": "2ef1777a",
   "metadata": {},
   "outputs": [],
   "source": []
  },
  {
   "cell_type": "code",
   "execution_count": null,
   "id": "5bf33647",
   "metadata": {},
   "outputs": [],
   "source": []
  },
  {
   "cell_type": "code",
   "execution_count": null,
   "id": "b7ae8d74",
   "metadata": {},
   "outputs": [],
   "source": []
  },
  {
   "cell_type": "code",
   "execution_count": null,
   "id": "13eae4e3",
   "metadata": {},
   "outputs": [],
   "source": []
  },
  {
   "cell_type": "code",
   "execution_count": 27,
   "id": "91668c96",
   "metadata": {},
   "outputs": [
    {
     "ename": "ValueError",
     "evalue": "'1:1:2' is not in list",
     "output_type": "error",
     "traceback": [
      "\u001b[0;31m---------------------------------------------------------------------------\u001b[0m",
      "\u001b[0;31mValueError\u001b[0m                                Traceback (most recent call last)",
      "Cell \u001b[0;32mIn[27], line 1\u001b[0m\n\u001b[0;32m----> 1\u001b[0m alg2\u001b[38;5;241m.\u001b[39mnorm_sqr(\u001b[38;5;124m'\u001b[39m\u001b[38;5;124m1:1:1:1\u001b[39m\u001b[38;5;124m'\u001b[39m)\n",
      "File \u001b[0;32m~/Documents/Python/github/myrepos/abstract_algebra/src/finite_algebras.py:1490\u001b[0m, in \u001b[0;36mRing.norm_sqr\u001b[0;34m(self, elem)\u001b[0m\n\u001b[1;32m   1488\u001b[0m \u001b[38;5;28;01mdef\u001b[39;00m \u001b[38;5;21mnorm_sqr\u001b[39m(\u001b[38;5;28mself\u001b[39m, elem):\n\u001b[1;32m   1489\u001b[0m \u001b[38;5;250m    \u001b[39m\u001b[38;5;124;03m\"\"\"Return the product of the input element and its conjugate.\"\"\"\u001b[39;00m\n\u001b[0;32m-> 1490\u001b[0m     \u001b[38;5;28mself\u001b[39m\u001b[38;5;241m.\u001b[39mmult(elem, \u001b[38;5;28mself\u001b[39m\u001b[38;5;241m.\u001b[39mconj(elem))\n",
      "File \u001b[0;32m~/Documents/Python/github/myrepos/abstract_algebra/src/finite_algebras.py:1294\u001b[0m, in \u001b[0;36mRing.mult\u001b[0;34m(self, *args)\u001b[0m\n\u001b[1;32m   1292\u001b[0m \u001b[38;5;28;01mdef\u001b[39;00m \u001b[38;5;21mmult\u001b[39m(\u001b[38;5;28mself\u001b[39m, \u001b[38;5;241m*\u001b[39margs):\n\u001b[1;32m   1293\u001b[0m \u001b[38;5;250m    \u001b[39m\u001b[38;5;124;03m\"\"\"Ring multiplication, based on the second table.\"\"\"\u001b[39;00m\n\u001b[0;32m-> 1294\u001b[0m     \u001b[38;5;28;01mreturn\u001b[39;00m \u001b[38;5;28mself\u001b[39m\u001b[38;5;241m.\u001b[39m__ring_mult(\u001b[38;5;241m*\u001b[39margs)\n",
      "File \u001b[0;32m~/Documents/Python/github/myrepos/abstract_algebra/src/finite_algebras.py:58\u001b[0m, in \u001b[0;36mFiniteOperator.__call__\u001b[0;34m(self, *args)\u001b[0m\n\u001b[1;32m     57\u001b[0m \u001b[38;5;28;01mdef\u001b[39;00m \u001b[38;5;21m__call__\u001b[39m(\u001b[38;5;28mself\u001b[39m, \u001b[38;5;241m*\u001b[39margs):\n\u001b[0;32m---> 58\u001b[0m     \u001b[38;5;28;01mreturn\u001b[39;00m \u001b[38;5;28mself\u001b[39m\u001b[38;5;241m.\u001b[39m__op(\u001b[38;5;241m*\u001b[39margs)\n",
      "File \u001b[0;32m~/Documents/Python/github/myrepos/abstract_algebra/src/finite_algebras.py:76\u001b[0m, in \u001b[0;36mFiniteOperator.__op\u001b[0;34m(self, *args)\u001b[0m\n\u001b[1;32m     74\u001b[0m         \u001b[38;5;28;01mraise\u001b[39;00m \u001b[38;5;167;01mValueError\u001b[39;00m(\u001b[38;5;124mf\u001b[39m\u001b[38;5;124m\"\u001b[39m\u001b[38;5;132;01m{\u001b[39;00margs[\u001b[38;5;241m0\u001b[39m]\u001b[38;5;132;01m}\u001b[39;00m\u001b[38;5;124m is not a valid element name\u001b[39m\u001b[38;5;124m\"\u001b[39m)\n\u001b[1;32m     75\u001b[0m \u001b[38;5;28;01melif\u001b[39;00m \u001b[38;5;28mlen\u001b[39m(args) \u001b[38;5;241m==\u001b[39m \u001b[38;5;241m2\u001b[39m:\n\u001b[0;32m---> 76\u001b[0m     \u001b[38;5;28;01mreturn\u001b[39;00m \u001b[38;5;28mself\u001b[39m\u001b[38;5;241m.\u001b[39m__binary_operation(args[\u001b[38;5;241m0\u001b[39m], args[\u001b[38;5;241m1\u001b[39m])\n\u001b[1;32m     77\u001b[0m \u001b[38;5;28;01melse\u001b[39;00m:\n\u001b[1;32m     78\u001b[0m     \u001b[38;5;28;01mreturn\u001b[39;00m reduce(\u001b[38;5;28;01mlambda\u001b[39;00m a, b: \u001b[38;5;28mself\u001b[39m\u001b[38;5;241m.\u001b[39m__op(a, b), args)\n",
      "File \u001b[0;32m~/Documents/Python/github/myrepos/abstract_algebra/src/finite_algebras.py:63\u001b[0m, in \u001b[0;36mFiniteOperator.__binary_operation\u001b[0;34m(self, elem1, elem2)\u001b[0m\n\u001b[1;32m     61\u001b[0m \u001b[38;5;250m\u001b[39m\u001b[38;5;124;03m\"\"\"Returns the 'sum' of exactly two elements.\"\"\"\u001b[39;00m\n\u001b[1;32m     62\u001b[0m row \u001b[38;5;241m=\u001b[39m \u001b[38;5;28mself\u001b[39m\u001b[38;5;241m.\u001b[39m__elements\u001b[38;5;241m.\u001b[39mindex(elem1)\n\u001b[0;32m---> 63\u001b[0m col \u001b[38;5;241m=\u001b[39m \u001b[38;5;28mself\u001b[39m\u001b[38;5;241m.\u001b[39m__elements\u001b[38;5;241m.\u001b[39mindex(elem2)\n\u001b[1;32m     64\u001b[0m index \u001b[38;5;241m=\u001b[39m \u001b[38;5;28mself\u001b[39m\u001b[38;5;241m.\u001b[39m__table[row, col]\n\u001b[1;32m     65\u001b[0m \u001b[38;5;28;01mreturn\u001b[39;00m \u001b[38;5;28mself\u001b[39m\u001b[38;5;241m.\u001b[39m__elements[index]\n",
      "\u001b[0;31mValueError\u001b[0m: '1:1:2' is not in list"
     ]
    }
   ],
   "source": [
    "alg2.norm_sqr('1:1:1:1')"
   ]
  },
  {
   "cell_type": "code",
   "execution_count": null,
   "id": "7c5b6a2f",
   "metadata": {},
   "outputs": [],
   "source": []
  }
 ],
 "metadata": {
  "kernelspec": {
   "display_name": "Python 3 (ipykernel)",
   "language": "python",
   "name": "python3"
  },
  "language_info": {
   "codemirror_mode": {
    "name": "ipython",
    "version": 3
   },
   "file_extension": ".py",
   "mimetype": "text/x-python",
   "name": "python",
   "nbconvert_exporter": "python",
   "pygments_lexer": "ipython3",
   "version": "3.11.5"
  }
 },
 "nbformat": 4,
 "nbformat_minor": 5
}
