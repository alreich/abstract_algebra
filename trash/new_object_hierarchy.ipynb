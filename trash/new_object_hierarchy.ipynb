{
 "cells": [
  {
   "cell_type": "markdown",
   "id": "180b6f07",
   "metadata": {},
   "source": [
    "# New Object Hierarchy"
   ]
  },
  {
   "cell_type": "code",
   "execution_count": 80,
   "id": "8bdbce00",
   "metadata": {},
   "outputs": [],
   "source": [
    "import numpy as np\n",
    "import functools as fnc\n",
    "import pprint as pp"
   ]
  },
  {
   "cell_type": "markdown",
   "id": "62f125c0",
   "metadata": {},
   "source": [
    "## Magma"
   ]
  },
  {
   "cell_type": "code",
   "execution_count": 81,
   "id": "1b7ead64",
   "metadata": {},
   "outputs": [],
   "source": [
    "class Magma:\n",
    "    \n",
    "    def __init__(self, elems, tbl):\n",
    "        self.__elements = elems\n",
    "        self.__table = np.array(tbl)\n",
    "        \n",
    "    def __contains__(self, element):\n",
    "        return element in self.__elements\n",
    "\n",
    "    def __getitem__(self, index):\n",
    "        return self.__elements[index]\n",
    "    \n",
    "    @property\n",
    "    def elements(self):\n",
    "        return self.__elements\n",
    "    \n",
    "    def set_elements(self, new_elements):\n",
    "        if isinstance(new_elements, list):\n",
    "            self.__elements = new_elements\n",
    "        elif isinstance(new_elements, dict):\n",
    "            self.__elements = [new_elements[elem] for elem in self.__elements]\n",
    "        return self\n",
    "    \n",
    "    @property\n",
    "    def table(self):\n",
    "        return self.__table\n",
    "\n",
    "    def op(self, *args):\n",
    "        if len(args) == 1:\n",
    "            if args[0] in self.__elements:\n",
    "                return args[0]\n",
    "            else:\n",
    "                raise ValueError(f\"{args[0]} is not a valid element name\")\n",
    "        elif len(args) == 2:\n",
    "            row = self.__elements.index(args[0])\n",
    "            col = self.__elements.index(args[1])\n",
    "            index = self.__table[row, col]\n",
    "            return self.__elements[index]\n",
    "        else:\n",
    "            return fnc.reduce(lambda a, b: self.op(a, b), args)\n",
    "    \n",
    "    def __repr__(self):\n",
    "        return f\"{self.__class__.__name__}(\\n{self.__elements}, \\n{self.__table})\"\n",
    "    \n",
    "    def table_with_names(self):\n",
    "        return [[self.__elements[index] for index in row] for row in self.__table]"
   ]
  },
  {
   "cell_type": "markdown",
   "id": "7592ac91",
   "metadata": {},
   "source": [
    "### Magma Examples"
   ]
  },
  {
   "cell_type": "markdown",
   "id": "18073bdc",
   "metadata": {},
   "source": [
    "#### Rock-Paper-Scisors Magma"
   ]
  },
  {
   "cell_type": "markdown",
   "id": "2981d2f7",
   "metadata": {},
   "source": [
    "This magma is obviously commutative, but not associative.\n",
    "\n",
    "See https://en.wikipedia.org/wiki/Commutative_magma\n",
    "\n",
    "* $M = \\langle \\{r,p,s\\}, \\cdot \\rangle$\n",
    "* For all $x, y \\in M$, if $x$ *beats* $y$, then $x \\cdot y = y \\cdot x = x$\n",
    "* Also, for all $x \\in M$, $xx = x$"
   ]
  },
  {
   "cell_type": "code",
   "execution_count": 82,
   "id": "d090e426",
   "metadata": {},
   "outputs": [
    {
     "data": {
      "text/plain": [
       "Magma(\n",
       "['r', 'p', 's'], \n",
       "[[0 1 0]\n",
       " [1 1 2]\n",
       " [0 2 2]])"
      ]
     },
     "execution_count": 82,
     "metadata": {},
     "output_type": "execute_result"
    }
   ],
   "source": [
    "rps = Magma(['r', 'p', 's'], [[0, 1, 0], [1, 1, 2], [0, 2, 2]])\n",
    "rps"
   ]
  },
  {
   "cell_type": "markdown",
   "id": "8111855c",
   "metadata": {},
   "source": [
    "The following demonstrates that the rps magma is non-associative:"
   ]
  },
  {
   "cell_type": "code",
   "execution_count": 83,
   "id": "018f2e12",
   "metadata": {},
   "outputs": [
    {
     "name": "stdout",
     "output_type": "stream",
     "text": [
      "    r(ps) = rs = r, \n",
      "but (rp)s = ps = s\n"
     ]
    }
   ],
   "source": [
    "ps = rps.op('p', 's')\n",
    "rp = rps.op('r', 'p')\n",
    "\n",
    "r_ps = rps.op('r', ps)\n",
    "rp_s = rps.op(rp, 's')\n",
    "\n",
    "print(f\"    r(ps) = r{ps} = {r_ps}, \\nbut (rp)s = {rp}s = {rp_s}\")"
   ]
  },
  {
   "cell_type": "markdown",
   "id": "5f0b5601",
   "metadata": {},
   "source": [
    "For other magma examples, [see this discussion](https://math.stackexchange.com/questions/779507/can-you-give-me-some-concrete-examples-of-magmas).  Also, [see this paper on groupiods](https://arxiv.org/ftp/math/papers/0304/0304490.pdf)."
   ]
  },
  {
   "cell_type": "markdown",
   "id": "c5a71a61",
   "metadata": {},
   "source": [
    "#### Smarandache Groupoid"
   ]
  },
  {
   "cell_type": "markdown",
   "id": "18bdd62a",
   "metadata": {},
   "source": [
    "This is Example 1.4.1 in the paper referenced, above."
   ]
  },
  {
   "cell_type": "code",
   "execution_count": 84,
   "id": "cc04877a",
   "metadata": {},
   "outputs": [],
   "source": [
    "ex141_tbl = [[0, 3, 0, 3, 0, 3], [1, 4, 1, 4, 1, 4], [2, 5, 2, 5, 2, 5],\n",
    "             [3, 0, 3, 0, 3, 0], [4, 1, 4, 1, 4, 1], [5, 2, 5, 2, 5, 2]]"
   ]
  },
  {
   "cell_type": "code",
   "execution_count": 85,
   "id": "8d49a25c",
   "metadata": {},
   "outputs": [
    {
     "data": {
      "text/plain": [
       "Magma(\n",
       "['a', 'b', 'c', 'd', 'e', 'f'], \n",
       "[[0 3 0 3 0 3]\n",
       " [1 4 1 4 1 4]\n",
       " [2 5 2 5 2 5]\n",
       " [3 0 3 0 3 0]\n",
       " [4 1 4 1 4 1]\n",
       " [5 2 5 2 5 2]])"
      ]
     },
     "execution_count": 85,
     "metadata": {},
     "output_type": "execute_result"
    }
   ],
   "source": [
    "ex141_magma = Magma(['a', 'b', 'c', 'd', 'e', 'f'], ex141_tbl)\n",
    "ex141_magma"
   ]
  },
  {
   "cell_type": "code",
   "execution_count": null,
   "id": "6ce914e2",
   "metadata": {},
   "outputs": [],
   "source": []
  },
  {
   "cell_type": "markdown",
   "id": "ae4a6360",
   "metadata": {},
   "source": [
    "### Testing Magma Methods"
   ]
  },
  {
   "cell_type": "markdown",
   "id": "ffcb7a9b",
   "metadata": {},
   "source": [
    "#### Table and Element Accessors"
   ]
  },
  {
   "cell_type": "code",
   "execution_count": 86,
   "id": "2ec118a6",
   "metadata": {},
   "outputs": [
    {
     "data": {
      "text/plain": [
       "array([[0, 1, 0],\n",
       "       [1, 1, 2],\n",
       "       [0, 2, 2]])"
      ]
     },
     "execution_count": 86,
     "metadata": {},
     "output_type": "execute_result"
    }
   ],
   "source": [
    "rps.table"
   ]
  },
  {
   "cell_type": "code",
   "execution_count": 87,
   "id": "28911df9",
   "metadata": {},
   "outputs": [
    {
     "data": {
      "text/plain": [
       "['r', 'p', 's']"
      ]
     },
     "execution_count": 87,
     "metadata": {},
     "output_type": "execute_result"
    }
   ],
   "source": [
    "rps.elements"
   ]
  },
  {
   "cell_type": "code",
   "execution_count": 88,
   "id": "9a9a8472",
   "metadata": {},
   "outputs": [
    {
     "data": {
      "text/plain": [
       "[['r', 'p', 'r'], ['p', 'p', 's'], ['r', 's', 's']]"
      ]
     },
     "execution_count": 88,
     "metadata": {},
     "output_type": "execute_result"
    }
   ],
   "source": [
    "rps.table_with_names()"
   ]
  },
  {
   "cell_type": "markdown",
   "id": "41e036d9",
   "metadata": {},
   "source": [
    "#### Magma as an Iterator and Container of Elements"
   ]
  },
  {
   "cell_type": "code",
   "execution_count": 89,
   "id": "22facabd",
   "metadata": {},
   "outputs": [
    {
     "data": {
      "text/plain": [
       "['r', 'p', 's']"
      ]
     },
     "execution_count": 89,
     "metadata": {},
     "output_type": "execute_result"
    }
   ],
   "source": [
    "[el for el in rps]"
   ]
  },
  {
   "cell_type": "code",
   "execution_count": 90,
   "id": "f14a60cd",
   "metadata": {},
   "outputs": [
    {
     "data": {
      "text/plain": [
       "True"
      ]
     },
     "execution_count": 90,
     "metadata": {},
     "output_type": "execute_result"
    }
   ],
   "source": [
    "'r' in rps"
   ]
  },
  {
   "cell_type": "markdown",
   "id": "163982b6",
   "metadata": {},
   "source": [
    "#### Replacing (\"Setting\") Element Names"
   ]
  },
  {
   "cell_type": "code",
   "execution_count": 91,
   "id": "3ebdda29",
   "metadata": {},
   "outputs": [
    {
     "data": {
      "text/plain": [
       "Magma(\n",
       "['rock', 'paper', 'scissors'], \n",
       "[[0 1 0]\n",
       " [1 1 2]\n",
       " [0 2 2]])"
      ]
     },
     "execution_count": 91,
     "metadata": {},
     "output_type": "execute_result"
    }
   ],
   "source": [
    "full_names = ['rock', 'paper', 'scissors']\n",
    "rps.set_elements(full_names)"
   ]
  },
  {
   "cell_type": "code",
   "execution_count": 92,
   "id": "502d6db7",
   "metadata": {},
   "outputs": [
    {
     "name": "stdout",
     "output_type": "stream",
     "text": [
      "{'rock': 'r', 'paper': 'p', 'scissors': 's'}\n"
     ]
    },
    {
     "data": {
      "text/plain": [
       "Magma(\n",
       "['r', 'p', 's'], \n",
       "[[0 1 0]\n",
       " [1 1 2]\n",
       " [0 2 2]])"
      ]
     },
     "execution_count": 92,
     "metadata": {},
     "output_type": "execute_result"
    }
   ],
   "source": [
    "orig_elems = ['r', 'p', 's']\n",
    "mapping = dict(zip(rps.elements, orig_elems))\n",
    "print(mapping)\n",
    "rps.set_elements(orig_elems)"
   ]
  },
  {
   "cell_type": "markdown",
   "id": "22be76d5",
   "metadata": {},
   "source": [
    "## Table Utilities"
   ]
  },
  {
   "cell_type": "code",
   "execution_count": 93,
   "id": "815286cd",
   "metadata": {},
   "outputs": [],
   "source": [
    "def is_table_associative(table):\n",
    "    result = True\n",
    "    indices = range(len(table))  # [0, 1, 2, ..., n-1]\n",
    "    for a in indices:\n",
    "        for b in indices:\n",
    "            for c in indices:\n",
    "                ab = table[a][b]\n",
    "                bc = table[b][c]\n",
    "                if not (table[ab][c] == table[a][bc]):\n",
    "                    result = False\n",
    "                    break\n",
    "    return result"
   ]
  },
  {
   "cell_type": "code",
   "execution_count": 94,
   "id": "9aed6fcb",
   "metadata": {},
   "outputs": [],
   "source": [
    "def is_table_commutative(table):\n",
    "    result = True\n",
    "    indices = range(len(table))  # [0, 1, 2, ..., n-1]\n",
    "    for a in indices:\n",
    "        for b in indices:\n",
    "            if table[a][b] != table[b][a]:\n",
    "                result = False\n",
    "                break\n",
    "    return result"
   ]
  },
  {
   "cell_type": "code",
   "execution_count": 95,
   "id": "59e0e9f9",
   "metadata": {},
   "outputs": [],
   "source": [
    "def table_has_identity(table):\n",
    "    indices = range(len(table))\n",
    "    id = None\n",
    "    for x in indices:\n",
    "        if all(table[x][y] == y for y in indices):\n",
    "            id = x\n",
    "            break\n",
    "    return id"
   ]
  },
  {
   "cell_type": "markdown",
   "id": "6c7b38a5",
   "metadata": {},
   "source": [
    "### Testing Table Utilities"
   ]
  },
  {
   "cell_type": "code",
   "execution_count": 96,
   "id": "b5b6031f",
   "metadata": {},
   "outputs": [],
   "source": [
    "# not assoc; is comm; no identity -- the RPS magma table, above\n",
    "tbl1 = [[0, 1, 0], [1, 1, 2], [0, 2, 2]]\n",
    "\n",
    "# is assoc; not comm; has identity (0) --- the S3 group table\n",
    "tbl2 = [[0, 1, 2, 3, 4, 5], [1, 2, 0, 5, 3, 4], [2, 0, 1, 4, 5, 3],\n",
    "        [3, 4, 5, 0, 1, 2], [4, 5, 3, 2, 0, 1], [5, 3, 4, 1, 2, 0]]\n",
    "\n",
    "# is assoc; is comm; has identity (0) --- the Z4 group table\n",
    "tbl3 = [[0, 1, 2, 3], [1, 2, 3, 0], [2, 3, 0, 1], [3, 0, 1, 2]]\n",
    "\n",
    "# powerset(3) group table\n",
    "tbl4 = [[0, 1, 2, 3, 4, 5, 6, 7], [1, 0, 4, 5, 2, 3, 7, 6], [2, 4, 0, 6, 1, 7, 3, 5],\n",
    "        [3, 5, 6, 0, 7, 1, 2, 4], [4, 2, 1, 7, 0, 6, 5, 3], [5, 3, 7, 1, 6, 0, 4, 2],\n",
    "        [6, 7, 3, 2, 5, 4, 0, 1], [7, 6, 5, 4, 3, 2, 1, 0]]\n",
    "\n",
    "tbl5 = ex141_tbl  # Defined in magma section, above\n",
    "\n",
    "test_tables = [tbl1, tbl2, tbl3, tbl4, tbl5]"
   ]
  },
  {
   "cell_type": "code",
   "execution_count": 97,
   "id": "942fdcf8",
   "metadata": {},
   "outputs": [
    {
     "name": "stdout",
     "output_type": "stream",
     "text": [
      "   Table     Associative?  Commutative?  Identity?\n",
      "-------------------------------------------------------\n",
      "     1          False         True         None\n",
      "     2           True        False            0\n",
      "     3           True         True            0\n",
      "     4           True         True            0\n",
      "     5           True        False         None\n"
     ]
    }
   ],
   "source": [
    "print(\"   Table     Associative?  Commutative?  Identity?\")\n",
    "print('-'*55)\n",
    "for tbl in test_tables:\n",
    "    i = test_tables.index(tbl) + 1\n",
    "    is_assoc = str(is_table_associative(tbl))\n",
    "    is_comm = str(is_table_commutative(tbl))\n",
    "    tbl_id = str(table_has_identity(tbl))\n",
    "    print(f\"{i :>{6}} {is_assoc :>{14}} {is_comm :>{12}} {tbl_id :>{12}}\")"
   ]
  },
  {
   "cell_type": "markdown",
   "id": "3275fe6d",
   "metadata": {},
   "source": [
    "## Semigroup"
   ]
  },
  {
   "cell_type": "markdown",
   "id": "479e547a",
   "metadata": {},
   "source": [
    "A semigroup is an associative magma."
   ]
  },
  {
   "cell_type": "code",
   "execution_count": 98,
   "id": "d9cca283",
   "metadata": {},
   "outputs": [
    {
     "data": {
      "text/plain": [
       "False"
      ]
     },
     "execution_count": 98,
     "metadata": {},
     "output_type": "execute_result"
    }
   ],
   "source": [
    "is_table_associative(rps.table)"
   ]
  },
  {
   "cell_type": "code",
   "execution_count": 99,
   "id": "88fabca1",
   "metadata": {},
   "outputs": [],
   "source": [
    "class Semigroup(Magma):\n",
    "    \n",
    "    def __init__(self, elems, tbl):\n",
    "        if is_table_associative(tbl):\n",
    "            super().__init__(elems, tbl)\n",
    "        else:\n",
    "            raise ValueError(\"Table does not support associativity\")"
   ]
  },
  {
   "cell_type": "markdown",
   "id": "1847cae8",
   "metadata": {},
   "source": [
    "The Semigroup constructor will fail if the table does not support associativity:"
   ]
  },
  {
   "cell_type": "code",
   "execution_count": 100,
   "id": "a3f9a4ce",
   "metadata": {},
   "outputs": [
    {
     "name": "stdout",
     "output_type": "stream",
     "text": [
      "Something went wrong\n"
     ]
    }
   ],
   "source": [
    "try:\n",
    "    Semigroup(['r', 'p', 's'], [[0, 1, 0], [1, 1, 2], [0, 2, 2]])\n",
    "except:\n",
    "    print(\"Something went wrong\")"
   ]
  },
  {
   "cell_type": "markdown",
   "id": "b7f16a67",
   "metadata": {},
   "source": [
    "### See p. 67 in Pinter for a possible example"
   ]
  },
  {
   "cell_type": "markdown",
   "id": "439f6105",
   "metadata": {},
   "source": [
    "## Monoid"
   ]
  },
  {
   "cell_type": "markdown",
   "id": "9948ac41",
   "metadata": {},
   "source": [
    "A monoid is a semigroup with an identity element."
   ]
  },
  {
   "cell_type": "code",
   "execution_count": 101,
   "id": "4f40aa72",
   "metadata": {},
   "outputs": [],
   "source": [
    "class Monoid(Semigroup):\n",
    "\n",
    "    def __init__(self, elems, tbl):\n",
    "        self.identity = has_identity(tbl)\n",
    "        if self.identity:\n",
    "            super().__init__(elems, tbl)\n",
    "        else:\n",
    "            raise ValueError(\"Table has no identity element\")"
   ]
  },
  {
   "cell_type": "markdown",
   "id": "32a0914e",
   "metadata": {},
   "source": [
    "**NEED TESTS AND EXAMPLES HERE**"
   ]
  },
  {
   "cell_type": "markdown",
   "id": "f79027de",
   "metadata": {},
   "source": [
    "## Group"
   ]
  },
  {
   "cell_type": "markdown",
   "id": "270b9acc",
   "metadata": {},
   "source": [
    "A group is a monoid where every element has an inverse."
   ]
  },
  {
   "cell_type": "markdown",
   "id": "cf985f96",
   "metadata": {},
   "source": [
    "TBD"
   ]
  },
  {
   "cell_type": "code",
   "execution_count": null,
   "id": "62577d32",
   "metadata": {},
   "outputs": [],
   "source": []
  }
 ],
 "metadata": {
  "kernelspec": {
   "display_name": "Python 3",
   "language": "python",
   "name": "python3"
  },
  "language_info": {
   "codemirror_mode": {
    "name": "ipython",
    "version": 3
   },
   "file_extension": ".py",
   "mimetype": "text/x-python",
   "name": "python",
   "nbconvert_exporter": "python",
   "pygments_lexer": "ipython3",
   "version": "3.7.7"
  }
 },
 "nbformat": 4,
 "nbformat_minor": 5
}
