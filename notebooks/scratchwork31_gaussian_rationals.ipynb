{
 "cells": [
  {
   "cell_type": "markdown",
   "id": "1def3528",
   "metadata": {},
   "source": [
    "# Gaussian Rationals"
   ]
  },
  {
   "cell_type": "markdown",
   "id": "a3dd41ef",
   "metadata": {},
   "source": [
    "See [Python fractions](https://docs.python.org/3/library/fractions.html)"
   ]
  },
  {
   "cell_type": "code",
   "execution_count": 1,
   "id": "c4ae1aba",
   "metadata": {},
   "outputs": [],
   "source": [
    "from gaussian_integers import Gint\n",
    "from fractions import Fraction"
   ]
  },
  {
   "cell_type": "code",
   "execution_count": 2,
   "id": "7c9539f8",
   "metadata": {},
   "outputs": [],
   "source": [
    "class Grat:\n",
    "    \"\"\"Gaussian Rational Number Class\"\"\"\n",
    "    \n",
    "    def __init__(self, re, im):\n",
    "        # re & im must be Fractions\n",
    "        if isinstance(re, Fraction) and isinstance(im, Fraction):\n",
    "            self.real = re\n",
    "            self.imag = im\n",
    "        elif isinstance(re, str) and isinstance(im, str):\n",
    "            self.real = Fraction(re)\n",
    "            self.imag = Fraction(im)\n",
    "        \n",
    "    def __repr__(self):\n",
    "        return f\"Grat({repr(self.real)}, {repr(self.imag)})\"\n",
    "    \n",
    "    def __str__(self):\n",
    "        return f\"({self.real}, {self.imag}j)\"\n",
    "    \n",
    "    def __add__(self, other):\n",
    "        return Grat(self.real + other.real, self.imag + other.imag)\n",
    "    \n",
    "    def __sub__(self, other):\n",
    "        return Grat(self.real - other.real, self.imag - other.imag)\n",
    "    \n",
    "    def __mul__(self, other):\n",
    "        a = self.real; b = self.imag\n",
    "        c = other.real; d = other.imag\n",
    "        return Grat(a * c - b * d, a * d + b * c)\n",
    "    \n",
    "    def __neg__(self):\n",
    "        return Grat(-self.real, -self.imag)\n",
    "    \n",
    "    def __complex__(self) -> complex:\n",
    "        re = self.real.numerator / self.real.denominator\n",
    "        im = self.imag.numerator / self.imag.denominator\n",
    "        return complex(re, im)\n",
    "    \n",
    "    @property\n",
    "    def conj(self):\n",
    "        return Grat(self.real, -self.imag)\n",
    "    \n",
    "    @property\n",
    "    def norm(self) -> Fraction:\n",
    "        tmp = self * self.conj\n",
    "        return tmp.real\n",
    "    \n",
    "    @property\n",
    "    def inv(self):\n",
    "        norm = self.norm\n",
    "        conj = self.conj\n",
    "        return Grat(conj.real / norm, conj.imag / norm)\n",
    "    \n",
    "    def __truediv__(self, other):\n",
    "        return self * other.inv"
   ]
  },
  {
   "cell_type": "code",
   "execution_count": 3,
   "id": "1b34e40c",
   "metadata": {},
   "outputs": [
    {
     "data": {
      "text/plain": [
       "Grat(Fraction(1, 2), Fraction(3, 5))"
      ]
     },
     "execution_count": 3,
     "metadata": {},
     "output_type": "execute_result"
    }
   ],
   "source": [
    "foo = Grat(Fraction(\"1/2\"), Fraction(\"3/5\"))\n",
    "foo"
   ]
  },
  {
   "cell_type": "code",
   "execution_count": 4,
   "id": "79047890",
   "metadata": {},
   "outputs": [
    {
     "data": {
      "text/plain": [
       "Grat(Fraction(2, 3), Fraction(1, 7))"
      ]
     },
     "execution_count": 4,
     "metadata": {},
     "output_type": "execute_result"
    }
   ],
   "source": [
    "bar = Grat(Fraction(\"2/3\"), Fraction(\"1/7\"))\n",
    "bar"
   ]
  },
  {
   "cell_type": "code",
   "execution_count": 5,
   "id": "73813222",
   "metadata": {},
   "outputs": [
    {
     "name": "stdout",
     "output_type": "stream",
     "text": [
      "(1/2, 3/5j)\n",
      "(2/3, 1/7j)\n"
     ]
    }
   ],
   "source": [
    "print(foo)\n",
    "print(bar)"
   ]
  },
  {
   "cell_type": "code",
   "execution_count": 6,
   "id": "0e0f7b7b",
   "metadata": {},
   "outputs": [
    {
     "name": "stdout",
     "output_type": "stream",
     "text": [
      "(7/6, 26/35j)\n"
     ]
    }
   ],
   "source": [
    "print(foo + bar)"
   ]
  },
  {
   "cell_type": "code",
   "execution_count": 7,
   "id": "3d96fc0d",
   "metadata": {},
   "outputs": [
    {
     "name": "stdout",
     "output_type": "stream",
     "text": [
      "(26/105, 33/70j)\n"
     ]
    }
   ],
   "source": [
    "print(foo * bar)"
   ]
  },
  {
   "cell_type": "code",
   "execution_count": 8,
   "id": "76a9b456",
   "metadata": {},
   "outputs": [
    {
     "name": "stdout",
     "output_type": "stream",
     "text": [
      "(1/2, -3/5j)\n"
     ]
    }
   ],
   "source": [
    "print(foo.conj)"
   ]
  },
  {
   "cell_type": "code",
   "execution_count": 9,
   "id": "2a4bc8ad",
   "metadata": {},
   "outputs": [
    {
     "name": "stdout",
     "output_type": "stream",
     "text": [
      "61/100\n"
     ]
    }
   ],
   "source": [
    "print(foo.norm)"
   ]
  },
  {
   "cell_type": "code",
   "execution_count": 10,
   "id": "ab81b438",
   "metadata": {},
   "outputs": [
    {
     "name": "stdout",
     "output_type": "stream",
     "text": [
      "(50/61, -60/61j)\n"
     ]
    }
   ],
   "source": [
    "print(foo.inv)"
   ]
  },
  {
   "cell_type": "code",
   "execution_count": 11,
   "id": "4b0cfae2",
   "metadata": {},
   "outputs": [
    {
     "name": "stdout",
     "output_type": "stream",
     "text": [
      "(1, 0j)\n"
     ]
    }
   ],
   "source": [
    "print(foo * foo.inv)"
   ]
  },
  {
   "cell_type": "code",
   "execution_count": 12,
   "id": "76e122e8",
   "metadata": {},
   "outputs": [
    {
     "name": "stdout",
     "output_type": "stream",
     "text": [
      "(1/2, 3/5j) / (2/3, 1/7j) -> (924/1025, 1449/2050j)\n"
     ]
    }
   ],
   "source": [
    "print(f\"{foo} / {bar} -> {foo/bar}\")"
   ]
  },
  {
   "cell_type": "code",
   "execution_count": 13,
   "id": "49d709ea",
   "metadata": {},
   "outputs": [
    {
     "name": "stdout",
     "output_type": "stream",
     "text": [
      "(0.5+0.6j)\n",
      "(0.6666666666666666+0.14285714285714285j)\n",
      "(0.9014634146341464+0.7068292682926829j)\n",
      "(0.9014634146341464+0.7068292682926829j)\n"
     ]
    }
   ],
   "source": [
    "cfoo = complex(foo)\n",
    "cbar = complex(bar)\n",
    "print(cfoo)\n",
    "print(cbar)\n",
    "print(cfoo / cbar)\n",
    "print(complex(foo/bar))"
   ]
  },
  {
   "cell_type": "code",
   "execution_count": 14,
   "id": "edd90298",
   "metadata": {},
   "outputs": [
    {
     "name": "stdout",
     "output_type": "stream",
     "text": [
      "(2/3, 1/7j)\n",
      "(-2/3, -1/7j)\n"
     ]
    }
   ],
   "source": [
    "print(bar)\n",
    "print(-bar)"
   ]
  },
  {
   "cell_type": "code",
   "execution_count": null,
   "id": "010cc15b",
   "metadata": {},
   "outputs": [],
   "source": []
  }
 ],
 "metadata": {
  "kernelspec": {
   "display_name": "Python 3 (ipykernel)",
   "language": "python",
   "name": "python3"
  },
  "language_info": {
   "codemirror_mode": {
    "name": "ipython",
    "version": 3
   },
   "file_extension": ".py",
   "mimetype": "text/x-python",
   "name": "python",
   "nbconvert_exporter": "python",
   "pygments_lexer": "ipython3",
   "version": "3.11.5"
  }
 },
 "nbformat": 4,
 "nbformat_minor": 5
}
