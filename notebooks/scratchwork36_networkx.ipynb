{
 "cells": [
  {
   "cell_type": "markdown",
   "id": "9b39425d",
   "metadata": {},
   "source": [
    "# Scratchwork - Graph Structure of Subalgebras"
   ]
  },
  {
   "cell_type": "code",
   "execution_count": 1,
   "id": "77ffeabc",
   "metadata": {},
   "outputs": [],
   "source": [
    "import finite_algebras as alg\n",
    "\n",
    "import os\n",
    "aa_path = os.path.join(os.getenv(\"PYPROJ\"), \"abstract_algebra\")\n",
    "alg_dir = os.path.join(aa_path, \"Algebras\")"
   ]
  },
  {
   "cell_type": "code",
   "execution_count": 2,
   "id": "31e702ae",
   "metadata": {},
   "outputs": [
    {
     "name": "stdout",
     "output_type": "stream",
     "text": [
      "======================================================================\n",
      "                           Example Algebras\n",
      "----------------------------------------------------------------------\n",
      "  17 example algebras are available.\n",
      "  Use \"Examples[INDEX]\" to retrieve a specific example,\n",
      "  where INDEX is the first number on each line below:\n",
      "----------------------------------------------------------------------\n",
      "0: A4 -- Alternating group on 4 letters (AKA Tetrahedral group)\n",
      "1: D3 -- https://en.wikipedia.org/wiki/Dihedral_group_of_order_6\n",
      "2: D4 -- Dihedral group on four vertices\n",
      "3: Pinter29 -- Non-abelian group, p.29, 'A Book of Abstract Algebra' by Charles C. Pinter\n",
      "4: RPS -- Rock, Paper, Scissors Magma\n",
      "5: S3 -- Symmetric group on 3 letters\n",
      "6: S3X -- Another version of the symmetric group on 3 letters\n",
      "7: V4 -- Klein-4 group\n",
      "8: Z4 -- Cyclic group of order 4\n",
      "9: F4 -- Field with 4 elements (from Wikipedia)\n",
      "10: mag_id -- Magma with Identity\n",
      "11: Example 1.4.1 -- See: Groupoids and Smarandache Groupoids by W. B. Vasantha Kandasamy\n",
      "12: Ex6 -- Example 6: http://www-groups.mcs.st-andrews.ac.uk/~john/MT4517/Lectures/L3.html\n",
      "13: Q8 -- Quaternion Group\n",
      "14: SD16 -- Semidihedral group of order 16\n",
      "15: A5 -- Alternating group on 5 letters\n",
      "16: F2 -- Field with 2 elements from paper: 236w06fields.pdf\n",
      "======================================================================\n"
     ]
    }
   ],
   "source": [
    "ex = alg.Examples(alg_dir)"
   ]
  },
  {
   "cell_type": "code",
   "execution_count": 3,
   "id": "8ac543b6",
   "metadata": {},
   "outputs": [],
   "source": [
    "sd16 = ex[14]"
   ]
  },
  {
   "cell_type": "code",
   "execution_count": 4,
   "id": "0d2ecd53",
   "metadata": {},
   "outputs": [
    {
     "name": "stdout",
     "output_type": "stream",
     "text": [
      "\n",
      "** Group **\n",
      "Name: SD16\n",
      "Instance ID: 4464251728\n",
      "Description: Semidihedral group of order 16\n",
      "Order: 16\n",
      "Identity: 'e'\n",
      "Commutative? No\n",
      "Cyclic?: No\n",
      "Elements:\n",
      "   Index   Name   Inverse  Order\n",
      "      0     'e'     'e'       0\n",
      "      1     't'     't'       0\n",
      "      2     's' 'ts^2ts'       0\n",
      "      3    'st' 's^2ts'       0\n",
      "      4   's^2' 'ts^2t'       0\n",
      "      5  's^2t'  's^2t'       0\n",
      "      6   'tst' 'tsts^2'       0\n",
      "      7    'ts' 'sts^2'       0\n",
      "      8  'tsts'  'tsts'       0\n",
      "      9   'sts'   'sts'       0\n",
      "     10 'tsts^2'   'tst'       0\n",
      "     11 's^2ts'    'st'       0\n",
      "     12 'ts^2t'   's^2'       0\n",
      "     13  'ts^2'  'ts^2'       0\n",
      "     14 'ts^2ts'     's'       0\n",
      "     15 'sts^2'    'ts'       0\n",
      "Cayley Table (showing indices):\n",
      "[[0, 1, 2, 3, 4, 5, 6, 7, 8, 9, 10, 11, 12, 13, 14, 15],\n",
      " [1, 0, 7, 6, 13, 12, 3, 2, 9, 8, 15, 14, 5, 4, 11, 10],\n",
      " [2, 3, 4, 5, 6, 7, 8, 9, 10, 11, 12, 13, 14, 15, 0, 1],\n",
      " [3, 2, 9, 8, 15, 14, 5, 4, 11, 10, 1, 0, 7, 6, 13, 12],\n",
      " [4, 5, 6, 7, 8, 9, 10, 11, 12, 13, 14, 15, 0, 1, 2, 3],\n",
      " [5, 4, 11, 10, 1, 0, 7, 6, 13, 12, 3, 2, 9, 8, 15, 14],\n",
      " [6, 7, 8, 9, 10, 11, 12, 13, 14, 15, 0, 1, 2, 3, 4, 5],\n",
      " [7, 6, 13, 12, 3, 2, 9, 8, 15, 14, 5, 4, 11, 10, 1, 0],\n",
      " [8, 9, 10, 11, 12, 13, 14, 15, 0, 1, 2, 3, 4, 5, 6, 7],\n",
      " [9, 8, 15, 14, 5, 4, 11, 10, 1, 0, 7, 6, 13, 12, 3, 2],\n",
      " [10, 11, 12, 13, 14, 15, 0, 1, 2, 3, 4, 5, 6, 7, 8, 9],\n",
      " [11, 10, 1, 0, 7, 6, 13, 12, 3, 2, 9, 8, 15, 14, 5, 4],\n",
      " [12, 13, 14, 15, 0, 1, 2, 3, 4, 5, 6, 7, 8, 9, 10, 11],\n",
      " [13, 12, 3, 2, 9, 8, 15, 14, 5, 4, 11, 10, 1, 0, 7, 6],\n",
      " [14, 15, 0, 1, 2, 3, 4, 5, 6, 7, 8, 9, 10, 11, 12, 13],\n",
      " [15, 14, 5, 4, 11, 10, 1, 0, 7, 6, 13, 12, 3, 2, 9, 8]]\n"
     ]
    },
    {
     "data": {
      "text/plain": [
       "'<Group:SD16, ID:4464251728>'"
      ]
     },
     "execution_count": 4,
     "metadata": {},
     "output_type": "execute_result"
    }
   ],
   "source": [
    "sd16.about(max_size=16)"
   ]
  },
  {
   "cell_type": "code",
   "execution_count": 5,
   "id": "afafb5c1",
   "metadata": {},
   "outputs": [
    {
     "name": "stdout",
     "output_type": "stream",
     "text": [
      "\n",
      "Subalgebras of <Group:SD16, ID:4464251728>\n",
      "  There are 6 unique proper subalgebras, up to isomorphism, out of 13 total subalgebras.\n",
      "  as shown by the partitions below:\n",
      "\n",
      "1 Normal Group of order 8 with identity 'e':\n",
      "      Group: SD16_subalgebra_0: ['e', 't', 's^2', 's^2t', 'tsts', 'sts', 'ts^2t', 'ts^2']\n",
      "\n",
      "3 Isomorphic Commutative Groups of order 4 with identity 'e':\n",
      "      Group: SD16_subalgebra_1: ['e', 'st', 'tsts', 's^2ts']\n",
      "      Group: SD16_subalgebra_3: ['e', 's^2', 'tsts', 'ts^2t']\n",
      "      Group: SD16_subalgebra_10: ['e', 'ts', 'tsts', 'sts^2']\n",
      "\n",
      "5 Isomorphic Commutative Groups of order 2 with identity 'e':\n",
      "      Group: SD16_subalgebra_2: ['e', 't']\n",
      "      Group: SD16_subalgebra_4: ['e', 'tsts']\n",
      "      Group: SD16_subalgebra_5: ['e', 'ts^2']\n",
      "      Group: SD16_subalgebra_7: ['e', 'sts']\n",
      "      Group: SD16_subalgebra_12: ['e', 's^2t']\n",
      "\n",
      "2 Isomorphic Commutative Groups of order 4 with identity 'e':\n",
      "      Group: SD16_subalgebra_6: ['e', 's^2t', 'tsts', 'ts^2']\n",
      "      Group: SD16_subalgebra_11: ['e', 't', 'tsts', 'sts']\n",
      "\n",
      "1 Normal Group of order 8 with identity 'e':\n",
      "      Group: SD16_subalgebra_8: ['e', 'st', 's^2', 'ts', 'tsts', 's^2ts', 'ts^2t', 'sts^2']\n",
      "\n",
      "1 Commutative Normal Group of order 8 with identity 'e':\n",
      "      Group: SD16_subalgebra_9: ['e', 's', 's^2', 'tst', 'tsts', 'tsts^2', 'ts^2t', 'ts^2ts']\n",
      "\n",
      "CPU times: user 9.82 s, sys: 25.2 ms, total: 9.85 s\n",
      "Wall time: 9.82 s\n"
     ]
    }
   ],
   "source": [
    "%time sd16_subs = alg.about_subalgebras(sd16)"
   ]
  },
  {
   "cell_type": "code",
   "execution_count": 6,
   "id": "0e2cfbc1",
   "metadata": {},
   "outputs": [
    {
     "data": {
      "text/plain": [
       "6"
      ]
     },
     "execution_count": 6,
     "metadata": {},
     "output_type": "execute_result"
    }
   ],
   "source": [
    "len(sd16_subs)"
   ]
  },
  {
   "cell_type": "code",
   "execution_count": 7,
   "id": "8807d7e4",
   "metadata": {},
   "outputs": [
    {
     "name": "stdout",
     "output_type": "stream",
     "text": [
      "8\n",
      "['e', 't', 's^2', 's^2t', 'tsts', 'sts', 'ts^2t', 'ts^2']\n",
      "4\n",
      "['e', 'st', 'tsts', 's^2ts']\n",
      "['e', 's^2', 'tsts', 'ts^2t']\n",
      "['e', 'ts', 'tsts', 'sts^2']\n",
      "2\n",
      "['e', 't']\n",
      "['e', 'tsts']\n",
      "['e', 'ts^2']\n",
      "['e', 'sts']\n",
      "['e', 's^2t']\n",
      "4\n",
      "['e', 's^2t', 'tsts', 'ts^2']\n",
      "['e', 't', 'tsts', 'sts']\n",
      "8\n",
      "['e', 'st', 's^2', 'ts', 'tsts', 's^2ts', 'ts^2t', 'sts^2']\n",
      "8\n",
      "['e', 's', 's^2', 'tst', 'tsts', 'tsts^2', 'ts^2t', 'ts^2ts']\n"
     ]
    }
   ],
   "source": [
    "for sub_list in sd16_subs:\n",
    "    print(sub_list[0].order)\n",
    "    for sub in sub_list:\n",
    "        print(sub.elements)"
   ]
  },
  {
   "cell_type": "code",
   "execution_count": 8,
   "id": "99240072",
   "metadata": {},
   "outputs": [],
   "source": [
    "def is_contained(seq1, seq2):\n",
    "    \"\"\"Returns True if sequence1 is contained in sequence2, otherwise False is returned.\"\"\"\n",
    "    for element in seq1:\n",
    "        if element not in seq2:\n",
    "            return False\n",
    "    return True\n",
    "\n",
    "# def flatten_list_of_lists(list_of_lists):\n",
    "#     return [item for list in list_of_lists for item in list]\n",
    "\n",
    "#sorted_algebras = sorted(algebras, key=lambda a: a.order)"
   ]
  },
  {
   "cell_type": "code",
   "execution_count": 9,
   "id": "97124cd7",
   "metadata": {},
   "outputs": [],
   "source": [
    "algebra = sd16"
   ]
  },
  {
   "cell_type": "code",
   "execution_count": 10,
   "id": "58814527",
   "metadata": {},
   "outputs": [],
   "source": [
    "subs = algebra.proper_subalgebras()\n",
    "subs_sorted = sorted(subs, key=lambda a: a.order)"
   ]
  },
  {
   "cell_type": "code",
   "execution_count": 11,
   "id": "b075c6ff",
   "metadata": {},
   "outputs": [
    {
     "data": {
      "text/plain": [
       "[2, 2, 2, 2, 2, 4, 4, 4, 4, 4, 8, 8, 8]"
      ]
     },
     "execution_count": 11,
     "metadata": {},
     "output_type": "execute_result"
    }
   ],
   "source": [
    "[a.order for a in subs_sorted]"
   ]
  },
  {
   "cell_type": "code",
   "execution_count": 13,
   "id": "2a9a44db",
   "metadata": {},
   "outputs": [
    {
     "data": {
      "text/plain": [
       "[Group(\n",
       " 'SD16_subalgebra_2',\n",
       " 'Subalgebra of: Semidihedral group of order 16',\n",
       " ['e', 't'],\n",
       " [[0, 1], [1, 0]]\n",
       " ),\n",
       " Group(\n",
       " 'SD16_subalgebra_4',\n",
       " 'Subalgebra of: Semidihedral group of order 16',\n",
       " ['e', 'tsts'],\n",
       " [[0, 1], [1, 0]]\n",
       " ),\n",
       " Group(\n",
       " 'SD16_subalgebra_5',\n",
       " 'Subalgebra of: Semidihedral group of order 16',\n",
       " ['e', 'ts^2'],\n",
       " [[0, 1], [1, 0]]\n",
       " ),\n",
       " Group(\n",
       " 'SD16_subalgebra_7',\n",
       " 'Subalgebra of: Semidihedral group of order 16',\n",
       " ['e', 'sts'],\n",
       " [[0, 1], [1, 0]]\n",
       " ),\n",
       " Group(\n",
       " 'SD16_subalgebra_12',\n",
       " 'Subalgebra of: Semidihedral group of order 16',\n",
       " ['e', 's^2t'],\n",
       " [[0, 1], [1, 0]]\n",
       " ),\n",
       " Group(\n",
       " 'SD16_subalgebra_1',\n",
       " 'Subalgebra of: Semidihedral group of order 16',\n",
       " ['e', 'st', 'tsts', 's^2ts'],\n",
       " [[0, 1, 2, 3], [1, 2, 3, 0], [2, 3, 0, 1], [3, 0, 1, 2]]\n",
       " ),\n",
       " Group(\n",
       " 'SD16_subalgebra_3',\n",
       " 'Subalgebra of: Semidihedral group of order 16',\n",
       " ['e', 's^2', 'tsts', 'ts^2t'],\n",
       " [[0, 1, 2, 3], [1, 2, 3, 0], [2, 3, 0, 1], [3, 0, 1, 2]]\n",
       " ),\n",
       " Group(\n",
       " 'SD16_subalgebra_6',\n",
       " 'Subalgebra of: Semidihedral group of order 16',\n",
       " ['e', 's^2t', 'tsts', 'ts^2'],\n",
       " [[0, 1, 2, 3], [1, 0, 3, 2], [2, 3, 0, 1], [3, 2, 1, 0]]\n",
       " ),\n",
       " Group(\n",
       " 'SD16_subalgebra_10',\n",
       " 'Subalgebra of: Semidihedral group of order 16',\n",
       " ['e', 'ts', 'tsts', 'sts^2'],\n",
       " [[0, 1, 2, 3], [1, 2, 3, 0], [2, 3, 0, 1], [3, 0, 1, 2]]\n",
       " ),\n",
       " Group(\n",
       " 'SD16_subalgebra_11',\n",
       " 'Subalgebra of: Semidihedral group of order 16',\n",
       " ['e', 't', 'tsts', 'sts'],\n",
       " [[0, 1, 2, 3], [1, 0, 3, 2], [2, 3, 0, 1], [3, 2, 1, 0]]\n",
       " ),\n",
       " Group(\n",
       " 'SD16_subalgebra_0',\n",
       " 'Subalgebra of: Semidihedral group of order 16',\n",
       " ['e', 't', 's^2', 's^2t', 'tsts', 'sts', 'ts^2t', 'ts^2'],\n",
       " [[0, 1, 2, 3, 4, 5, 6, 7], [1, 0, 7, 6, 5, 4, 3, 2], [2, 3, 4, 5, 6, 7, 0, 1], [3, 2, 1, 0, 7, 6, 5, 4], [4, 5, 6, 7, 0, 1, 2, 3], [5, 4, 3, 2, 1, 0, 7, 6], [6, 7, 0, 1, 2, 3, 4, 5], [7, 6, 5, 4, 3, 2, 1, 0]]\n",
       " ),\n",
       " Group(\n",
       " 'SD16_subalgebra_8',\n",
       " 'Subalgebra of: Semidihedral group of order 16',\n",
       " ['e', 'st', 's^2', 'ts', 'tsts', 's^2ts', 'ts^2t', 'sts^2'],\n",
       " [[0, 1, 2, 3, 4, 5, 6, 7], [1, 4, 7, 2, 5, 0, 3, 6], [2, 3, 4, 5, 6, 7, 0, 1], [3, 6, 1, 4, 7, 2, 5, 0], [4, 5, 6, 7, 0, 1, 2, 3], [5, 0, 3, 6, 1, 4, 7, 2], [6, 7, 0, 1, 2, 3, 4, 5], [7, 2, 5, 0, 3, 6, 1, 4]]\n",
       " ),\n",
       " Group(\n",
       " 'SD16_subalgebra_9',\n",
       " 'Subalgebra of: Semidihedral group of order 16',\n",
       " ['e', 's', 's^2', 'tst', 'tsts', 'tsts^2', 'ts^2t', 'ts^2ts'],\n",
       " [[0, 1, 2, 3, 4, 5, 6, 7], [1, 2, 3, 4, 5, 6, 7, 0], [2, 3, 4, 5, 6, 7, 0, 1], [3, 4, 5, 6, 7, 0, 1, 2], [4, 5, 6, 7, 0, 1, 2, 3], [5, 6, 7, 0, 1, 2, 3, 4], [6, 7, 0, 1, 2, 3, 4, 5], [7, 0, 1, 2, 3, 4, 5, 6]]\n",
       " )]"
      ]
     },
     "execution_count": 13,
     "metadata": {},
     "output_type": "execute_result"
    }
   ],
   "source": [
    "subs_sorted"
   ]
  },
  {
   "cell_type": "code",
   "execution_count": 30,
   "id": "e00d0127",
   "metadata": {},
   "outputs": [],
   "source": [
    "def foobar(subs):\n",
    "\n",
    "    def aux(first, rest):\n",
    "        # print(f\"\\n----- {first.name} : {len(rest)} -----\")\n",
    "        if len(rest) == 0:\n",
    "            return None\n",
    "        else:\n",
    "            n = first.order\n",
    "            for sub in rest:\n",
    "                if sub.order > n:                    \n",
    "                    if is_contained(first, sub):\n",
    "                        print(f\"({first.name[16:]}, {sub.name[16:]})\")\n",
    "        aux(rest[0], rest[1:])\n",
    "    \n",
    "    aux(subs[0], subs[1:])"
   ]
  },
  {
   "cell_type": "code",
   "execution_count": 31,
   "id": "ddd27d31",
   "metadata": {},
   "outputs": [
    {
     "name": "stdout",
     "output_type": "stream",
     "text": [
      "(2, 11)\n",
      "(2, 0)\n",
      "(4, 1)\n",
      "(4, 3)\n",
      "(4, 6)\n",
      "(4, 10)\n",
      "(4, 11)\n",
      "(4, 0)\n",
      "(4, 8)\n",
      "(4, 9)\n",
      "(5, 6)\n",
      "(5, 0)\n",
      "(7, 11)\n",
      "(7, 0)\n",
      "(12, 6)\n",
      "(12, 0)\n",
      "(1, 8)\n",
      "(3, 0)\n",
      "(3, 8)\n",
      "(3, 9)\n",
      "(6, 0)\n",
      "(10, 8)\n",
      "(11, 0)\n"
     ]
    }
   ],
   "source": [
    "foobar(subs_sorted)"
   ]
  },
  {
   "cell_type": "code",
   "execution_count": null,
   "id": "f61fe81a",
   "metadata": {},
   "outputs": [],
   "source": []
  }
 ],
 "metadata": {
  "kernelspec": {
   "display_name": "Python 3 (ipykernel)",
   "language": "python",
   "name": "python3"
  },
  "language_info": {
   "codemirror_mode": {
    "name": "ipython",
    "version": 3
   },
   "file_extension": ".py",
   "mimetype": "text/x-python",
   "name": "python",
   "nbconvert_exporter": "python",
   "pygments_lexer": "ipython3",
   "version": "3.11.5"
  }
 },
 "nbformat": 4,
 "nbformat_minor": 5
}
