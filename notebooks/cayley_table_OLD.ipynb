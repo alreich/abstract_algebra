{
 "cells": [
  {
   "cell_type": "markdown",
   "id": "72635190",
   "metadata": {},
   "source": [
    "# Cayley Table OLD"
   ]
  },
  {
   "cell_type": "markdown",
   "id": "576b2bc4",
   "metadata": {},
   "source": [
    "This notebook is only used for trying out ideas."
   ]
  },
  {
   "cell_type": "code",
   "execution_count": 13,
   "id": "a4d2daf2",
   "metadata": {},
   "outputs": [],
   "source": [
    "import numpy as np\n",
    "import pprint as pp"
   ]
  },
  {
   "cell_type": "code",
   "execution_count": 14,
   "id": "6846b049",
   "metadata": {},
   "outputs": [],
   "source": [
    "class CayleyTable:\n",
    "\n",
    "    def __init__(self, arr):\n",
    "        tmp = np.array(arr, dtype=int)\n",
    "        nrows, ncols = tmp.shape\n",
    "        if nrows == ncols:\n",
    "            if (tmp.min() >= 0) and (tmp.max() < nrows):\n",
    "                self.__order = nrows\n",
    "                self.__table = tmp\n",
    "            else:\n",
    "                raise Exception(f\"All integers must be between 0 and {nrows - 1}, inclusive.\")\n",
    "        else:\n",
    "            raise Exception(f\"Input arrays must be square; this one is {nrows}x{ncols}.\")\n",
    "\n",
    "    def __repr__(self):\n",
    "        return f\"{self.__class__.__name__}(\\n{pp.pformat(self.__table.tolist())}\\n)\"\n",
    "\n",
    "    def __str__(self):\n",
    "        return f\"{self.__class__.__name__}({self.__table.tolist()})\"\n",
    "\n",
    "    def __getitem__(self, tup):\n",
    "        row, col = tup\n",
    "        return self.__table[row][col]\n",
    "\n",
    "    @property\n",
    "    def order(self):\n",
    "        return self.__order\n",
    "\n",
    "    @property\n",
    "    def table(self):\n",
    "        return self.__table\n",
    "\n",
    "    def tolist(self):\n",
    "        return self.__table.tolist()\n",
    "\n",
    "    def is_associative(self):\n",
    "        indices = range(len(self.__table))\n",
    "        result = True\n",
    "        for a in indices:\n",
    "            for b in indices:\n",
    "                for c in indices:\n",
    "                    ab = self.__table[a][b]\n",
    "                    bc = self.__table[b][c]\n",
    "                    if not (self.__table[ab][c] == self.__table[a][bc]):\n",
    "                        result = False\n",
    "                        break\n",
    "        return result\n",
    "\n",
    "    def is_commutative(self):\n",
    "        n = self.__table.shape[0]\n",
    "        result = True\n",
    "        # Loop over the table's upper off-diagonal elements\n",
    "        for a in range(n):\n",
    "            for b in range(a + 1, n):\n",
    "                if self.__table[a][b] != self.__table[b][a]:\n",
    "                    result = False\n",
    "                    break\n",
    "        return result\n",
    "\n",
    "    def left_identity(self):\n",
    "        indices = range(len(self.__table))\n",
    "        identity = None\n",
    "        for x in indices:\n",
    "            if all(self.__table[x][y] == y for y in indices):\n",
    "                identity = x\n",
    "                break\n",
    "        return identity\n",
    "\n",
    "    def right_identity(self):\n",
    "        indices = range(len(self.__table))\n",
    "        identity = None\n",
    "        for x in indices:\n",
    "            if all(self.__table[y][x] == y for y in indices):\n",
    "                identity = x\n",
    "                break\n",
    "        return identity\n",
    "\n",
    "    def identity(self):\n",
    "        left_id = self.left_identity()\n",
    "        right_id = self.right_identity()\n",
    "        if (left_id is not None) and (right_id is not None):\n",
    "            return left_id\n",
    "        else:\n",
    "            return None\n",
    "\n",
    "    def has_inverses(self):\n",
    "        if self.identity:\n",
    "            row_indices, col_indices = np.where(self.__table == self.identity())\n",
    "            if set(row_indices) == set(col_indices):\n",
    "                if len(row_indices) == self.__order:\n",
    "                    return True\n",
    "                else:\n",
    "                    return False\n",
    "            else:\n",
    "                return False\n",
    "        else:\n",
    "            return False\n",
    "\n",
    "    def inverse_lookup_dict(self, identity):\n",
    "        elements = range(len(self.__table))\n",
    "        row_indices, col_indices = np.where(self.__table == identity)\n",
    "        return {elements[elem_index]: elements[elem_inv_index]\n",
    "                for (elem_index, elem_inv_index)\n",
    "                in zip(row_indices, col_indices)}\n",
    "\n",
    "    def about(self):\n",
    "        table_order = str(self.order)\n",
    "        is_associative = str(self.is_associative())\n",
    "        is_commutative = str(self.is_commutative())\n",
    "        left_id = str(self.left_identity())\n",
    "        right_id = str(self.right_identity())\n",
    "        id = str(self.identity())\n",
    "        has_inverses = str(self.has_inverses())\n",
    "        return table_order, is_associative, is_commutative, left_id, right_id, id, has_inverses"
   ]
  },
  {
   "cell_type": "markdown",
   "id": "da2164db",
   "metadata": {},
   "source": [
    "### A Handy Utility"
   ]
  },
  {
   "cell_type": "code",
   "execution_count": 15,
   "id": "1dd16ef8",
   "metadata": {},
   "outputs": [],
   "source": [
    "def about_tables(list_of_cayley_tables):\n",
    "    print(\"   Table  Order  Associative?  Commutative?  Left Id?  Right Id?  Identity?  Inverses?\")\n",
    "    print('-' * 85)\n",
    "    for tbl in list_of_cayley_tables:\n",
    "        i = list_of_cayley_tables.index(tbl) + 1\n",
    "        n, assoc, comm, lid, rid, id, invs = tbl.about()\n",
    "        print(f\"{i :>{6}} {n :>{6}} {assoc :>{11}} {comm :>{12}} {lid :>{12}} {rid :>{9}} {id :>{10}} {invs :>{10}}\")"
   ]
  },
  {
   "cell_type": "code",
   "execution_count": 16,
   "id": "88de2dac",
   "metadata": {},
   "outputs": [
    {
     "name": "stdout",
     "output_type": "stream",
     "text": [
      "   Table  Order  Associative?  Commutative?  Left Id?  Right Id?  Identity?  Inverses?\n",
      "-------------------------------------------------------------------------------------\n",
      "     1      3       False         True         None      None       None      False\n",
      "     2      6        True        False            0         0          0       True\n",
      "     3      4        True         True            0         0          0       True\n",
      "     4      8        True         True            0         0          0       True\n",
      "     5      6        True        False         None         0       None      False\n"
     ]
    }
   ],
   "source": [
    "# not assoc; is comm; no identities -- the RPS magma table, above\n",
    "arr1 = [[0, 1, 0], [1, 1, 2], [0, 2, 2]]\n",
    "\n",
    "# is assoc; not comm; has identity (0) --- the S3 group table\n",
    "arr2 = [[0, 1, 2, 3, 4, 5], [1, 2, 0, 5, 3, 4], [2, 0, 1, 4, 5, 3],\n",
    "        [3, 4, 5, 0, 1, 2], [4, 5, 3, 2, 0, 1], [5, 3, 4, 1, 2, 0]]\n",
    "\n",
    "# is assoc; is comm; has identity (0) --- the Z4 group table\n",
    "arr3 = [[0, 1, 2, 3], [1, 2, 3, 0], [2, 3, 0, 1], [3, 0, 1, 2]]\n",
    "\n",
    "# is assoc; is comm; has identity (0) --- powerset(3) group table\n",
    "arr4 = [[0, 1, 2, 3, 4, 5, 6, 7], [1, 0, 4, 5, 2, 3, 7, 6], [2, 4, 0, 6, 1, 7, 3, 5],\n",
    "        [3, 5, 6, 0, 7, 1, 2, 4], [4, 2, 1, 7, 0, 6, 5, 3], [5, 3, 7, 1, 6, 0, 4, 2],\n",
    "        [6, 7, 3, 2, 5, 4, 0, 1], [7, 6, 5, 4, 3, 2, 1, 0]]\n",
    "\n",
    "arr5 = [[0, 3, 0, 3, 0, 3], [1, 4, 1, 4, 1, 4], [2, 5, 2, 5, 2, 5],\n",
    "        [3, 0, 3, 0, 3, 0], [4, 1, 4, 1, 4, 1], [5, 2, 5, 2, 5, 2]]\n",
    "\n",
    "# is assoc; is not comm; no left id; has right id --- Smarandache Groupoid\n",
    "test_arrays = [arr1, arr2, arr3, arr4, arr5]\n",
    "test_cayley_tables = [CayleyTable(arr) for arr in test_arrays]\n",
    "\n",
    "about_tables(test_cayley_tables)"
   ]
  },
  {
   "cell_type": "raw",
   "id": "578f769b",
   "metadata": {},
   "source": [
    "print(\"   Table  Order  Associative?  Commutative?  Left Id?  Right Id?  Identity?  Inverses?\")\n",
    "print('-' * 85)\n",
    "for tbl in test_cayley_tables:\n",
    "    i = test_cayley_tables.index(tbl) + 1\n",
    "    n, assoc, comm, lid, rid, id, invs = tbl.about()\n",
    "    print(f\"{i :>{6}} {n :>{6}} {assoc :>{11}} {comm :>{12}} {lid :>{12}} {rid :>{9}} {id :>{10}} {invs :>{10}}\")"
   ]
  },
  {
   "cell_type": "code",
   "execution_count": 17,
   "id": "458a6f67",
   "metadata": {},
   "outputs": [
    {
     "data": {
      "text/plain": [
       "CayleyTable(\n",
       "[[0, 3, 0, 3, 0, 3],\n",
       " [1, 4, 1, 4, 1, 4],\n",
       " [2, 5, 2, 5, 2, 5],\n",
       " [3, 0, 3, 0, 3, 0],\n",
       " [4, 1, 4, 1, 4, 1],\n",
       " [5, 2, 5, 2, 5, 2]]\n",
       ")"
      ]
     },
     "execution_count": 17,
     "metadata": {},
     "output_type": "execute_result"
    }
   ],
   "source": [
    "ct1 = CayleyTable(arr5)\n",
    "ct1"
   ]
  },
  {
   "cell_type": "code",
   "execution_count": 18,
   "id": "2860e8b2",
   "metadata": {},
   "outputs": [
    {
     "data": {
      "text/plain": [
       "[[0, 3, 0, 3, 0, 3],\n",
       " [1, 4, 1, 4, 1, 4],\n",
       " [2, 5, 2, 5, 2, 5],\n",
       " [3, 0, 3, 0, 3, 0],\n",
       " [4, 1, 4, 1, 4, 1],\n",
       " [5, 2, 5, 2, 5, 2]]"
      ]
     },
     "execution_count": 18,
     "metadata": {},
     "output_type": "execute_result"
    }
   ],
   "source": [
    "ct1.tolist()"
   ]
  },
  {
   "cell_type": "code",
   "execution_count": 19,
   "id": "f74e3ab9",
   "metadata": {},
   "outputs": [
    {
     "name": "stdout",
     "output_type": "stream",
     "text": [
      "CayleyTable([[0, 3, 0, 3, 0, 3], [1, 4, 1, 4, 1, 4], [2, 5, 2, 5, 2, 5], [3, 0, 3, 0, 3, 0], [4, 1, 4, 1, 4, 1], [5, 2, 5, 2, 5, 2]])\n"
     ]
    }
   ],
   "source": [
    "print(ct1)"
   ]
  },
  {
   "cell_type": "code",
   "execution_count": 20,
   "id": "6826f328",
   "metadata": {},
   "outputs": [
    {
     "data": {
      "text/plain": [
       "'CayleyTable([[0, 3, 0, 3, 0, 3], [1, 4, 1, 4, 1, 4], [2, 5, 2, 5, 2, 5], [3, 0, 3, 0, 3, 0], [4, 1, 4, 1, 4, 1], [5, 2, 5, 2, 5, 2]])'"
      ]
     },
     "execution_count": 20,
     "metadata": {},
     "output_type": "execute_result"
    }
   ],
   "source": [
    "str(ct1)"
   ]
  },
  {
   "cell_type": "code",
   "execution_count": null,
   "id": "dacb2a61",
   "metadata": {},
   "outputs": [],
   "source": []
  }
 ],
 "metadata": {
  "kernelspec": {
   "display_name": "Python 3",
   "language": "python",
   "name": "python3"
  },
  "language_info": {
   "codemirror_mode": {
    "name": "ipython",
    "version": 3
   },
   "file_extension": ".py",
   "mimetype": "text/x-python",
   "name": "python",
   "nbconvert_exporter": "python",
   "pygments_lexer": "ipython3",
   "version": "3.7.7"
  }
 },
 "nbformat": 4,
 "nbformat_minor": 5
}
