{
 "cells": [
  {
   "cell_type": "markdown",
   "id": "bdd51e6d-8aa6-4ab5-a397-afa52528137d",
   "metadata": {},
   "source": [
    "# Introduction to Abstract Algebra"
   ]
  },
  {
   "cell_type": "markdown",
   "id": "48f1a34e-08f7-438b-92f0-91abbe39f318",
   "metadata": {},
   "source": [
    "**YOU:**\n",
    "\n",
    "Ugh, algebra, and not just algebra, but *abstract* algebra!\n",
    "\n",
    "I was terrible at algebra in school. All that stuff about *polynomials* and *PEMDAS*. Yuck!\n",
    "\n",
    "And here, you want to tell me about **abstract** algebra? That sounds even worse. I'm just not good with numbers."
   ]
  },
  {
   "cell_type": "markdown",
   "id": "86c5cf98-95cd-4480-aebc-b46423d35b97",
   "metadata": {},
   "source": [
    "**ME:**\n",
    "\n",
    "Not to worry; this is more fundamental.\n",
    "\n",
    "Examples of it are everywhere in nature, and in your own life, all around you.\n",
    "\n",
    "Also, it's about much more than just numbers; that's why it's *abstract*.\"\n",
    "\n",
    "For example, **Rock-Paper-Scissors** is an abstract algebra."
   ]
  },
  {
   "cell_type": "markdown",
   "id": "0396db7f-0e85-4171-85ce-d71aaa02db73",
   "metadata": {},
   "source": [
    "## Rock-Paper-Scissors"
   ]
  },
  {
   "cell_type": "markdown",
   "id": "109650a3",
   "metadata": {},
   "source": [
    "The rules of Rock-Paper-Scissors are simple. It has two participants. On a signal, the participants simultaneously put one hand out in one of three shapes shown in the figure below."
   ]
  },
  {
   "cell_type": "markdown",
   "id": "d5ba2d54",
   "metadata": {},
   "source": [
    "![Rock-Paper-Scissors](Rock-paper-scissors.png)"
   ]
  },
  {
   "cell_type": "markdown",
   "id": "068bd69a",
   "metadata": {},
   "source": [
    "<center>The Rock-Paper-Scissors Game (See https://en.wikipedia.org/wiki/Rock_paper_scissors)</center>"
   ]
  },
  {
   "cell_type": "markdown",
   "id": "ae932b35-171b-45a2-b9e6-10bbc999ad7e",
   "metadata": {},
   "source": [
    "The extended hands will show one of three possible combinations: rock-scissors, paper-rock, or scissors-paper. (NOTE: Order is not important, scissors-rock is the same as rock-scissors, and so on.)\n",
    "\n",
    "The winner is decided as follows:\n",
    "\n",
    "1. rock crushes scissors, so rock wins (rock beats scissors)\n",
    "1. paper covers rock, so paper wins\n",
    "1. scissors cuts paper, so scissors wins\n",
    "\n",
    "*\"OK, but how is this an algebra?\"*\n",
    "\n",
    "Well, to understand how it's an algebra, we need to look at the game more abstractly. (See what I did there?)\n",
    "\n",
    "First, let's use $R$, $P$, and $S$ in place of the words *rock*, *paper*, and *scissors*, respectively.\n",
    "\n",
    "So, the set, $\\{R,P,S\\}$, contains the three **elements** of this algebra.\n",
    "\n",
    "The operations mentioned above, *crushes*, *covers*, and *cuts*, will be combined into a single **operation**, denoted by the symbol \" $\\circ$ \". Then, the numbered list, above, can be written more succinctly, as:\n",
    "\n",
    "1. $R \\circ S = R$\n",
    "1. $P \\circ R = P$\n",
    "1. $S \\circ P = S$\n",
    "\n",
    "This is starting to look like some kind of \"multiplication\", right?\n",
    "\n",
    "And, since it doesn't matter what order the elements appear in on the left-hand-side (LHS) of the expressions, above, we have:\n",
    "\n",
    "4. $S \\circ R = R$\n",
    "4. $R \\circ P = P$\n",
    "4. $P \\circ S = S$\n",
    "\n",
    "But, what happens if both participants show the same shape. Well, that would be a tie, so:\n",
    "\n",
    "7. $R \\circ R = R$\n",
    "7. $P \\circ P = P$\n",
    "7. $S \\circ S = S$\n",
    "\n",
    "We can depict the nine rules above more compactly as a 3x3 table with row and column headers as shown below.\n",
    "\n",
    "|         |  $R$  |  $P$  |  $S$ |\n",
    "|---------|-------|-------|------|\n",
    "|    $R$  |  $R$  |  $P$  |  $S$ |\n",
    "|    $P$  |  $P$  |  $P$  |  $S$ |\n",
    "|    $S$  |  $R$  |  $S$  |  $S$ |\n",
    "\n",
    "The table is read in row-column order. The left-most, three-element column of the table contains the row headers. So, for example, for the expression, $S \\circ P$, we look at the row of the table where $S$ is the row header (bottom row), and then read across the table to the column where $P$ is the column header, and we find $S$, so $S \\circ P = S$.\n",
    "\n",
    "It looks like a multiplication operation, because we have a **multiplication table**. In general, this type of table is called a **Cayley Table**.\n",
    "\n",
    "Let's denote this algebra as $\\text{rps}$. So, $\\text{rps}$ consists of two things, a set of elements, $E = \\{R,P,S\\}$, and a \"multiplication\" operation, denoted by \" $\\circ$ \", and defined by the table, above. \n",
    "\n",
    "So, now we can denote the entire algebra using the following succinct notation, $\\text{rps} = \\langle E, \\circ \\rangle$.\n",
    "\n",
    "Now, we can do calculations with an algebra, but here we will be more interested in the algebra's properties.\n",
    "\n",
    "But first, some notation."
   ]
  },
  {
   "cell_type": "markdown",
   "id": "8038e63b",
   "metadata": {},
   "source": [
    "## Notation"
   ]
  },
  {
   "cell_type": "markdown",
   "id": "6152e146",
   "metadata": {},
   "source": [
    "Going forward, we'll use...\n",
    "\n",
    "* Caligraphic uppercase letters, like $\\mathcal{A}$, $\\mathcal{B}$, etc., to denote algebras\n",
    "* Capital letters, like $S$, $T$, etc, to denote sets\n",
    "* Lowercase Greek letters, like $\\alpha$, $\\beta$, etc., to denote elements of sets\n",
    "\n",
    "The expression, $\\alpha \\in S$, means \"$\\alpha$ is a member of the set $S$\".\n",
    "\n",
    "For more than one member we will write, $\\alpha, \\beta \\in S$, that is, \"$\\alpha$ and $\\beta$ are members of the set $S$\".\n",
    "\n",
    "To say that an element is **not** in a set, we use this notation: $\\alpha \\notin S$.\n",
    "\n",
    "The double arrow, $\\Rightarrow$, means \"implies that\", or \"it follows that\". For example, \"$\\mathbb{A}$ is a square\" $\\Rightarrow$ \"$\\mathbb{A}$ is a rectangle\". Note that, in general, the arrow cannot be reversed. (All squares are rectangles, but not all rectangles are squares.)"
   ]
  },
  {
   "cell_type": "markdown",
   "id": "6eace6b8",
   "metadata": {},
   "source": [
    "## The Closure Property"
   ]
  },
  {
   "cell_type": "markdown",
   "id": "872f8e07",
   "metadata": {},
   "source": [
    "One property that all algebras must possess is the of **closure**. That means that if $S$ is the algebra's set of elements, and $\\alpha$ and $\\beta$ are members of $S$, then $\\alpha \\circ \\beta$ is also a member of $S$.\n",
    "\n",
    "Or, more succinctly, an algebra, $\\mathcal{A} = \\langle S, \\circ \\rangle$ is **closed** if $\\alpha,\\beta \\in S \\Rightarrow \\alpha \\circ \\beta \\in S$\n",
    "\n",
    "Here's an example of an algebra that is not closed.\n",
    "\n",
    "Let $\\mathcal{B} = \\langle T, \\cdot \\rangle$, where $T = \\{\\alpha, \\beta, \\gamma \\}$ and the operation, \" $\\cdot$ \", is defined by the following Cayley table:\n",
    "\n",
    "|              |  $\\alpha$  |  $\\beta$   |  $\\gamma$  |\n",
    "|--------------|------------|------------|------------|\n",
    "|    $\\alpha$  |  $\\alpha$  |  $\\omega$  |  $\\gamma$  |\n",
    "|    $\\beta$   |  $\\gamma$  |  $\\alpha$  |  $\\beta$   |\n",
    "|    $\\gamma$  |  $\\alpha$  |  $\\gamma$  |  $\\beta$   |\n",
    "\n",
    "Do you see why $\\mathcal{B}$ is not closed?\n",
    "\n",
    "The product (multiplication) of any two elements of $T$, must be another element of $T$, but, according to the table, $\\alpha \\cdot \\beta = \\omega \\notin T$. That is, there's an extra element in the table that is not one of the algebra's elements.\n",
    "\n",
    "The algebra, rps, is closed. And, by the way, rps is what we call a **Magma**. The only property a Magma is required to obey is the closure property.\n",
    "\n",
    "Before we look at other properties that algebras can possess, let's look at another simple example of an algebra."
   ]
  },
  {
   "cell_type": "markdown",
   "id": "71cd35bb",
   "metadata": {},
   "source": [
    "## Rectangle Symmetries"
   ]
  },
  {
   "cell_type": "markdown",
   "id": "3cb93f2b",
   "metadata": {},
   "source": [
    "## The Commutative Property"
   ]
  },
  {
   "cell_type": "code",
   "execution_count": null,
   "id": "bf39f777",
   "metadata": {},
   "outputs": [],
   "source": []
  }
 ],
 "metadata": {
  "kernelspec": {
   "display_name": "Python 3 (ipykernel)",
   "language": "python",
   "name": "python3"
  },
  "language_info": {
   "codemirror_mode": {
    "name": "ipython",
    "version": 3
   },
   "file_extension": ".py",
   "mimetype": "text/x-python",
   "name": "python",
   "nbconvert_exporter": "python",
   "pygments_lexer": "ipython3",
   "version": "3.11.5"
  }
 },
 "nbformat": 4,
 "nbformat_minor": 5
}
