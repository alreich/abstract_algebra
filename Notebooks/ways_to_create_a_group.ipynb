{
 "cells": [
  {
   "cell_type": "markdown",
   "id": "f9a70088",
   "metadata": {},
   "source": [
    "# Different Ways to Create a Group"
   ]
  },
  {
   "cell_type": "markdown",
   "id": "82263074",
   "metadata": {},
   "source": [
    "This notebook features the different ways that a group can be created with the <b>algebras</b> module.\n",
    "\n",
    "Basically, the ways are:\n",
    "* Using the <b>Group object constructor</b> (there are six variations of this)\n",
    "* Calling a <b>group generator</b> (e.g., generate_cyclic_group)\n",
    "* Computing the <b>direct product</b> of two or more groups"
   ]
  },
  {
   "cell_type": "markdown",
   "id": "3f844be3",
   "metadata": {},
   "source": [
    "## Imports and Paths"
   ]
  },
  {
   "cell_type": "code",
   "execution_count": 1,
   "id": "04c0ebd2",
   "metadata": {},
   "outputs": [],
   "source": [
    "import algebras as alg\n",
    "import numpy as np\n",
    "import json\n",
    "import os"
   ]
  },
  {
   "cell_type": "code",
   "execution_count": 2,
   "id": "8c6256de",
   "metadata": {},
   "outputs": [],
   "source": [
    "# Path to this repo\n",
    "aa_path = os.path.join(os.getenv('PYPROJ'), 'abstract_algebra')\n",
    "\n",
    "# Path to a directory containing Algebra definitions in JSON\n",
    "alg_dir = os.path.join(aa_path, \"Algebras\")"
   ]
  },
  {
   "cell_type": "markdown",
   "id": "784ab880",
   "metadata": {},
   "source": [
    "## Using the Group Constructor"
   ]
  },
  {
   "cell_type": "markdown",
   "id": "efd07cd3",
   "metadata": {},
   "source": [
    "### Constructor Method 1"
   ]
  },
  {
   "cell_type": "markdown",
   "id": "70827066",
   "metadata": {},
   "source": [
    "This method of instantiation provides four inputs:\n",
    "\n",
    "1. <b>name</b>: A string name for the group;\n",
    "1. <b>description</b>: A string describing the group;\n",
    "1. <b>element_names</b>: A list of strings that represent the names of group elements;\n",
    "1. <b>addition_table</b>: a list of lists (2D array) of integers,The following requirements on the array must be adhered to:\n",
    "  * The elements of the array must be integers that reference the group's elements according to their index (position) in the list, element_names.  This implies that the integers must be from the set, {0, 1, 2, ..., n-1}, where n is the number of elements.\n",
    "  * 0 must always refer to the identity element for the group operation (addition).\n",
    "  * The first row and first column must be the integers in order, 0, 1, 2,..., n-1."
   ]
  },
  {
   "cell_type": "code",
   "execution_count": 3,
   "id": "42801e19",
   "metadata": {},
   "outputs": [
    {
     "name": "stdout",
     "output_type": "stream",
     "text": [
      "Group('V4',\n",
      "'Klein-4 group',\n",
      "['e', 'h', 'v', 'hv'],\n",
      "[[0, 1, 2, 3], [1, 0, 3, 2], [2, 3, 0, 1], [3, 2, 1, 0]]\n",
      ")\n"
     ]
    }
   ],
   "source": [
    "g1 = alg.Group('V4',\n",
    "               'Klein-4 group',\n",
    "               ['e',  'h',  'v', 'hv'],\n",
    "               [[0, 1, 2, 3],\n",
    "                [1, 0, 3, 2],\n",
    "                [2, 3, 0, 1],\n",
    "                [3, 2, 1, 0]]\n",
    "              )\n",
    "g1.pprint()"
   ]
  },
  {
   "cell_type": "markdown",
   "id": "c0620a54",
   "metadata": {},
   "source": [
    "### Constructor Method 2"
   ]
  },
  {
   "cell_type": "markdown",
   "id": "feaca4b6",
   "metadata": {},
   "source": [
    "This method of instantiation provides three inputs:\n",
    "\n",
    "1. <b>name</b>: A string name for the group;\n",
    "1. <b>description</b>: A string describing the group;\n",
    "1. <b>addition_table</b>: a list of lists (2D array) of strings, representing the names of elements, where:\n",
    "   * The name in the first row and first column is the name of the identity element;\n",
    "   * The order of elements in the first row and first column are the same."
   ]
  },
  {
   "cell_type": "code",
   "execution_count": 4,
   "id": "43ea4ba3",
   "metadata": {},
   "outputs": [
    {
     "name": "stdout",
     "output_type": "stream",
     "text": [
      "Group('V4',\n",
      "'Klein-4 group',\n",
      "['e', 'h', 'v', 'hv'],\n",
      "[[0, 1, 2, 3], [1, 0, 3, 2], [2, 3, 0, 1], [3, 2, 1, 0]]\n",
      ")\n"
     ]
    }
   ],
   "source": [
    "g2 = alg.Group('V4',\n",
    "               'Klein-4 group',\n",
    "               [[ 'e', 'h' ,  'v', 'hv'],\n",
    "                [ 'h', 'e' , 'hv', 'v' ],\n",
    "                [ 'v', 'hv',  'e', 'h' ],\n",
    "                ['hv', 'v' ,  'h', 'e' ]]\n",
    "              )\n",
    "g2.pprint()"
   ]
  },
  {
   "cell_type": "markdown",
   "id": "1ddf25ad",
   "metadata": {},
   "source": [
    "### Constructor Method 3"
   ]
  },
  {
   "cell_type": "markdown",
   "id": "46393e42",
   "metadata": {},
   "source": [
    "The group definition, similar to that of Method 1, can be stored in a file in JSON format and then read-in to instantiate a group."
   ]
  },
  {
   "cell_type": "code",
   "execution_count": 5,
   "id": "bd8a2293",
   "metadata": {},
   "outputs": [
    {
     "name": "stdout",
     "output_type": "stream",
     "text": [
      "\n",
      "Here's a look at the contents of the JSON file:\n",
      "\n",
      "{\"type\": \"Group\",\r\n",
      " \"name\": \"V4\",\r\n",
      " \"description\": \"Klein-4 group\",\r\n",
      " \"element_names\": [\"e\", \"h\", \"v\", \"hv\"],\r\n",
      " \"mult_table\": [[0, 1, 2, 3],\r\n",
      "                [1, 0, 3, 2],\r\n",
      "                [2, 3, 0, 1],\r\n",
      "                [3, 2, 1, 0]]\r\n",
      "}\r\n"
     ]
    }
   ],
   "source": [
    "v4_path = os.path.join(alg_dir, \"v4_klein_4_group.json\")\n",
    "\n",
    "print(\"\\nHere's a look at the contents of the JSON file:\\n\")\n",
    "!cat {v4_path}"
   ]
  },
  {
   "cell_type": "markdown",
   "id": "adbfe633",
   "metadata": {},
   "source": [
    "And, here's where the group is created by reading the JSON file.  Basically, if the first, and only argument, given to the Group constructor is a string, it is assumed to be a path to a JSON file definition of a Group."
   ]
  },
  {
   "cell_type": "code",
   "execution_count": 6,
   "id": "61bf38fc",
   "metadata": {},
   "outputs": [
    {
     "name": "stdout",
     "output_type": "stream",
     "text": [
      "Group('V4',\n",
      "'Klein-4 group',\n",
      "['e', 'h', 'v', 'hv'],\n",
      "[[0, 1, 2, 3], [1, 0, 3, 2], [2, 3, 0, 1], [3, 2, 1, 0]]\n",
      ")\n"
     ]
    }
   ],
   "source": [
    "g3 = alg.Group(v4_path)\n",
    "g3.pprint()"
   ]
  },
  {
   "cell_type": "markdown",
   "id": "74c40296",
   "metadata": {},
   "source": [
    "### Constructor Method 4"
   ]
  },
  {
   "cell_type": "markdown",
   "id": "498b6727",
   "metadata": {},
   "source": [
    "This method is a blend of Methods 3 & 4, wherein the group definition resides in a JSON file, but the table is defined using element names (strings) and there is no need to define the list of elements."
   ]
  },
  {
   "cell_type": "code",
   "execution_count": 7,
   "id": "86959dfb",
   "metadata": {},
   "outputs": [
    {
     "name": "stdout",
     "output_type": "stream",
     "text": [
      "{\"type\": \"Group\",\r\n",
      " \"name\": \"V4\",\r\n",
      " \"description\": \"Klein-4 group, Version 2\",\r\n",
      " \"mult_table\": [[ \"e\",  \"h\",  \"v\", \"hv\"],\r\n",
      "                [ \"h\",  \"e\", \"hv\",  \"v\"],\r\n",
      "                [ \"v\", \"hv\",  \"e\",  \"h\"],\r\n",
      "                [\"hv\",  \"v\",  \"h\",  \"e\"]]\r\n",
      "}\r\n"
     ]
    }
   ],
   "source": [
    "v4_path_VERS2 = os.path.join(alg_dir, \"v4_klein_4_group_VERS2.json\")\n",
    "\n",
    "!cat {v4_path_VERS2}"
   ]
  },
  {
   "cell_type": "code",
   "execution_count": 8,
   "id": "9c5c926d",
   "metadata": {},
   "outputs": [
    {
     "name": "stdout",
     "output_type": "stream",
     "text": [
      "Group('V4',\n",
      "'Klein-4 group, Version 2',\n",
      "['e', 'h', 'v', 'hv'],\n",
      "[[0, 1, 2, 3], [1, 0, 3, 2], [2, 3, 0, 1], [3, 2, 1, 0]]\n",
      ")\n"
     ]
    }
   ],
   "source": [
    "g4 = alg.Group(v4_path_VERS2)\n",
    "g4.pprint()"
   ]
  },
  {
   "cell_type": "markdown",
   "id": "3e112b1a",
   "metadata": {},
   "source": [
    "### Constructor Method 5"
   ]
  },
  {
   "cell_type": "markdown",
   "id": "f61fedaf",
   "metadata": {},
   "source": [
    "If the first, and only, argument to the Group constructor is a dictionary, it is assumed that it defines a Group, per the types of input arguments, above."
   ]
  },
  {
   "cell_type": "code",
   "execution_count": 9,
   "id": "ce8d9e82",
   "metadata": {},
   "outputs": [],
   "source": [
    "v4_dict = {'name': 'V4',\n",
    "           'description': 'Klein-4 group',\n",
    "           'element_names': ['e', 'h', 'v', 'hv'],\n",
    "           'mult_table': [[0, 1, 2, 3], [1, 0, 3, 2], [2, 3, 0, 1], [3, 2, 1, 0]]}"
   ]
  },
  {
   "cell_type": "code",
   "execution_count": 10,
   "id": "862a08af",
   "metadata": {},
   "outputs": [
    {
     "name": "stdout",
     "output_type": "stream",
     "text": [
      "Group('V4',\n",
      "'Klein-4 group',\n",
      "['e', 'h', 'v', 'hv'],\n",
      "[[0, 1, 2, 3], [1, 0, 3, 2], [2, 3, 0, 1], [3, 2, 1, 0]]\n",
      ")\n"
     ]
    }
   ],
   "source": [
    "g5 = alg.Group(v4_dict)\n",
    "g5.pprint()"
   ]
  },
  {
   "cell_type": "markdown",
   "id": "5c71120e",
   "metadata": {},
   "source": [
    "### Constructor Method 6"
   ]
  },
  {
   "cell_type": "code",
   "execution_count": 11,
   "id": "a10d5330",
   "metadata": {},
   "outputs": [],
   "source": [
    "v4_dict_VERS2 = {'name': 'V4',\n",
    "                 'description': 'Klein-4 group, Dictionary Version 2',\n",
    "                 'mult_table': [[ 'e', 'h' ,  'v', 'hv'],\n",
    "                                [ 'h', 'e' , 'hv', 'v' ],\n",
    "                                [ 'v', 'hv',  'e', 'h' ],\n",
    "                                ['hv', 'v' ,  'h', 'e' ]]\n",
    "                }"
   ]
  },
  {
   "cell_type": "code",
   "execution_count": 12,
   "id": "b2d77c48",
   "metadata": {},
   "outputs": [
    {
     "name": "stdout",
     "output_type": "stream",
     "text": [
      "Group('V4',\n",
      "'Klein-4 group, Dictionary Version 2',\n",
      "['e', 'h', 'v', 'hv'],\n",
      "[[0, 1, 2, 3], [1, 0, 3, 2], [2, 3, 0, 1], [3, 2, 1, 0]]\n",
      ")\n"
     ]
    }
   ],
   "source": [
    "g6 = alg.Group(v4_dict_VERS2)\n",
    "g6.pprint()"
   ]
  },
  {
   "cell_type": "markdown",
   "id": "76504914",
   "metadata": {},
   "source": [
    "## Group Generators"
   ]
  },
  {
   "cell_type": "code",
   "execution_count": 13,
   "id": "ccc94d6a",
   "metadata": {},
   "outputs": [
    {
     "name": "stdout",
     "output_type": "stream",
     "text": [
      "Group('Z8',\n",
      "'Cyclic group of order 8',\n",
      "['e', 'a', 'a^2', 'a^3', 'a^4', 'a^5', 'a^6', 'a^7'],\n",
      "[[0, 1, 2, 3, 4, 5, 6, 7],\n",
      " [1, 2, 3, 4, 5, 6, 7, 0],\n",
      " [2, 3, 4, 5, 6, 7, 0, 1],\n",
      " [3, 4, 5, 6, 7, 0, 1, 2],\n",
      " [4, 5, 6, 7, 0, 1, 2, 3],\n",
      " [5, 6, 7, 0, 1, 2, 3, 4],\n",
      " [6, 7, 0, 1, 2, 3, 4, 5],\n",
      " [7, 0, 1, 2, 3, 4, 5, 6]]\n",
      ")\n"
     ]
    }
   ],
   "source": [
    "z4_gen = alg.generate_cyclic_group(8)\n",
    "z4_gen.pprint()"
   ]
  },
  {
   "cell_type": "markdown",
   "id": "0f508eb0",
   "metadata": {},
   "source": [
    "## Direct Products"
   ]
  },
  {
   "cell_type": "code",
   "execution_count": 14,
   "id": "c6e0c467",
   "metadata": {},
   "outputs": [],
   "source": [
    "z2 = alg.generate_cyclic_group(2)"
   ]
  },
  {
   "cell_type": "code",
   "execution_count": 15,
   "id": "4416aead",
   "metadata": {},
   "outputs": [
    {
     "name": "stdout",
     "output_type": "stream",
     "text": [
      "Group('Z2_x_Z2_x_Z2',\n",
      "'Direct product of Z2_x_Z2 & Z2',\n",
      "['e:e:e', 'e:e:a', 'e:a:e', 'e:a:a', 'a:e:e', 'a:e:a', 'a:a:e', 'a:a:a'],\n",
      "[[0, 1, 2, 3, 4, 5, 6, 7],\n",
      " [1, 0, 3, 2, 5, 4, 7, 6],\n",
      " [2, 3, 0, 1, 6, 7, 4, 5],\n",
      " [3, 2, 1, 0, 7, 6, 5, 4],\n",
      " [4, 5, 6, 7, 0, 1, 2, 3],\n",
      " [5, 4, 7, 6, 1, 0, 3, 2],\n",
      " [6, 7, 4, 5, 2, 3, 0, 1],\n",
      " [7, 6, 5, 4, 3, 2, 1, 0]]\n",
      ")\n"
     ]
    }
   ],
   "source": [
    "z2_x_z2_x_z2 = z2 * z2 * z2\n",
    "\n",
    "z2_x_z2_x_z2.pprint()"
   ]
  }
 ],
 "metadata": {
  "kernelspec": {
   "display_name": "Python 3",
   "language": "python",
   "name": "python3"
  },
  "language_info": {
   "codemirror_mode": {
    "name": "ipython",
    "version": 3
   },
   "file_extension": ".py",
   "mimetype": "text/x-python",
   "name": "python",
   "nbconvert_exporter": "python",
   "pygments_lexer": "ipython3",
   "version": "3.7.7"
  }
 },
 "nbformat": 4,
 "nbformat_minor": 5
}
