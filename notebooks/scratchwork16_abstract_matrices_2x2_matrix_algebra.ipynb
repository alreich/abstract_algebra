{
 "cells": [
  {
   "cell_type": "markdown",
   "id": "9f21ee6b",
   "metadata": {},
   "source": [
    "# Abstract Matrices - Generate a 2x2 Matrix Algebra"
   ]
  },
  {
   "cell_type": "markdown",
   "id": "a6b32576",
   "metadata": {},
   "source": [
    "The purpose here is to try to generate an algebra based on 2x2 abstract matrices over a small field, such as [a four-element field](https://en.wikipedia.org/wiki/Field_(mathematics)#A_field_with_four_elements), F4."
   ]
  },
  {
   "cell_type": "code",
   "execution_count": 1,
   "id": "be8216cc",
   "metadata": {},
   "outputs": [],
   "source": [
    "import finite_algebras as alg\n",
    "# from finite_algebras import *\n",
    "import numpy as np\n",
    "from abstract_matrix import AbstractMatrix\n",
    "\n",
    "import os\n",
    "aa_path = os.path.join(os.getenv(\"PYPROJ\"), \"abstract_algebra\")\n",
    "alg_dir = os.path.join(aa_path, \"Algebras\")"
   ]
  },
  {
   "cell_type": "code",
   "execution_count": 2,
   "id": "62049bbb",
   "metadata": {},
   "outputs": [
    {
     "name": "stdout",
     "output_type": "stream",
     "text": [
      "======================================================================\n",
      "                           Example Algebras\n",
      "----------------------------------------------------------------------\n",
      "  17 example algebras are available.\n",
      "  Use \"Examples[INDEX]\" to retrieve a specific example,\n",
      "  where INDEX is the first number on each line below:\n",
      "----------------------------------------------------------------------\n",
      "0: A4 -- Alternating group on 4 letters (AKA Tetrahedral group)\n",
      "1: D3 -- https://en.wikipedia.org/wiki/Dihedral_group_of_order_6\n",
      "2: D4 -- Dihedral group on four vertices\n",
      "3: Pinter29 -- Non-abelian group, p.29, 'A Book of Abstract Algebra' by Charles C. Pinter\n",
      "4: RPS -- Rock, Paper, Scissors Magma\n",
      "5: S3 -- Symmetric group on 3 letters\n",
      "6: S3X -- Another version of the symmetric group on 3 letters\n",
      "7: V4 -- Klein-4 group\n",
      "8: Z4 -- Cyclic group of order 4\n",
      "9: F4 -- Field with 4 elements (from Wikipedia)\n",
      "10: mag_id -- Magma with Identity\n",
      "11: Example 1.4.1 -- See: Groupoids and Smarandache Groupoids by W. B. Vasantha Kandasamy\n",
      "12: Ex6 -- Example 6: http://www-groups.mcs.st-andrews.ac.uk/~john/MT4517/Lectures/L3.html\n",
      "13: Q8 -- Quaternion Group\n",
      "14: SD16 -- Semidihedral group of order 16\n",
      "15: A5 -- Alternating group on 5 letters\n",
      "16: F2 -- Field with 2 elements from paper: 236w06fields.pdf\n",
      "======================================================================\n"
     ]
    }
   ],
   "source": [
    "ex = alg.Examples(alg_dir)"
   ]
  },
  {
   "cell_type": "code",
   "execution_count": 3,
   "id": "7da8ce6d",
   "metadata": {},
   "outputs": [
    {
     "name": "stdout",
     "output_type": "stream",
     "text": [
      "\n",
      "** Field **\n",
      "Name: F2\n",
      "Instance ID: 4881083728\n",
      "Description: Field with 2 elements from paper: 236w06fields.pdf\n",
      "Order: 2\n",
      "Identity: '0'\n",
      "Commutative? Yes\n",
      "Cyclic?: Yes\n",
      "Generators: ['1']\n",
      "Elements:\n",
      "   Index   Name   Inverse  Order\n",
      "      0     '0'     '0'       0\n",
      "      1     '1'     '1'       0\n",
      "Cayley Table (showing names):\n",
      "[['0', '1'], ['1', '0']]\n",
      "Mult. Identity: '1'\n",
      "Mult. Commutative? Yes\n",
      "Zero Divisors: None\n",
      "Multiplicative Cayley Table (showing names):\n",
      "[['0', '0'], ['0', '1']]\n"
     ]
    }
   ],
   "source": [
    "f2 = ex[16]\n",
    "f2.about(use_table_names=True)"
   ]
  },
  {
   "cell_type": "code",
   "execution_count": 4,
   "id": "3891fb42",
   "metadata": {},
   "outputs": [
    {
     "name": "stdout",
     "output_type": "stream",
     "text": [
      "\n",
      "** Field **\n",
      "Name: F4\n",
      "Instance ID: 4616759568\n",
      "Description: Field with 4 elements (from Wikipedia)\n",
      "Order: 4\n",
      "Identity: '0'\n",
      "Commutative? Yes\n",
      "Cyclic?: Yes\n",
      "Generators: ['a', '1+a']\n",
      "Elements:\n",
      "   Index   Name   Inverse  Order\n",
      "      0     '0'     '0'       0\n",
      "      1     '1'     '1'       0\n",
      "      2     'a'     'a'       0\n",
      "      3   '1+a'   '1+a'       0\n",
      "Cayley Table (showing names):\n",
      "[['0', '1', 'a', '1+a'],\n",
      " ['1', '0', '1+a', 'a'],\n",
      " ['a', '1+a', '0', '1'],\n",
      " ['1+a', 'a', '1', '0']]\n",
      "Mult. Identity: '1'\n",
      "Mult. Commutative? Yes\n",
      "Zero Divisors: None\n",
      "Multiplicative Cayley Table (showing names):\n",
      "[['0', '0', '0', '0'],\n",
      " ['0', '1', 'a', '1+a'],\n",
      " ['0', 'a', '1+a', '1'],\n",
      " ['0', '1+a', '1', 'a']]\n"
     ]
    }
   ],
   "source": [
    "f4 = ex[9]\n",
    "f4.about(use_table_names=True)"
   ]
  },
  {
   "cell_type": "markdown",
   "id": "70a3e4be",
   "metadata": {},
   "source": [
    "## Function Definition"
   ]
  },
  {
   "cell_type": "code",
   "execution_count": 44,
   "id": "fdbe19ee",
   "metadata": {},
   "outputs": [],
   "source": [
    "def generate_2x2_matrix_algebra(ring, element_name_prefix='a'):\n",
    "\n",
    "    n = 2  # Square matrix dimension. Hardcoded to 2 for now.\n",
    "    elements = ring.elements\n",
    "    zero = ring.zero\n",
    "    \n",
    "    count = 0\n",
    "    elem_dict = dict()\n",
    "    rev_dict = dict()\n",
    "    \n",
    "    # Create all possible matrices, and give them names.\n",
    "    # Then create a dictionary that maps each name name (key) to its matrix (value).\n",
    "    # Also, create a reverse dictionary of matrices (as tuples) mapped to names.\n",
    "    for e00 in elements:\n",
    "        for e01 in elements:\n",
    "            for e10 in elements:\n",
    "                for e11 in elements:\n",
    "                    mat = AbstractMatrix([[e00, e01], [e10, e11]], ring)\n",
    "                    elem_name = prefix + str(count)\n",
    "                    elem_dict[elem_name] = mat\n",
    "                    rev_dict[mat.to_tuple()] = elem_name\n",
    "                    count += 1\n",
    "    \n",
    "    # Create the Cayley table for addition of the matrix elements\n",
    "    m = len(elem_dict)\n",
    "    add_table = np.empty((m, m), AbstractMatrix)\n",
    "    for row, elemr in enumerate(elem_dict.keys()):\n",
    "        for col, elemc in enumerate(elem_dict.keys()):\n",
    "            result = elem_dict[elemr] + elem_dict[elemc]\n",
    "            name = rev_dict[result.to_tuple()]\n",
    "            add_table[row][col] = name\n",
    "    \n",
    "    # Create the Cayley table for multiplication of the matrix elements\n",
    "    mul_table = np.empty((m, m), AbstractMatrix)\n",
    "    for row, elemr in enumerate(elem_dict.keys()):\n",
    "        for col, elemc in enumerate(elem_dict.keys()):\n",
    "            result = elem_dict[elemr] * elem_dict[elemc]\n",
    "            name = rev_dict[result.to_tuple()]\n",
    "            mul_table[row][col] = name\n",
    "    \n",
    "    \n",
    "    name = f\"{ring.name}_{n}x{n}\"\n",
    "    description = f\"Algebra of {n}x{n} abstract matrices based on {ring.name}\"\n",
    "    elements = list(elem_dict.keys())\n",
    "    algebra = alg.make_finite_algebra(name, description, elements, add_table, mul_table)\n",
    "\n",
    "    return algebra, elem_dict, rev_dict"
   ]
  },
  {
   "cell_type": "code",
   "execution_count": 45,
   "id": "8390894a",
   "metadata": {},
   "outputs": [
    {
     "data": {
      "text/plain": [
       "(Ring(\n",
       " 'F2_2x2',\n",
       " 'Algebra of 2x2 abstract matrices based on F2',\n",
       " ['m0', 'm1', 'm2', 'm3', 'm4', 'm5', 'm6', 'm7', 'm8', 'm9', 'm10', 'm11', 'm12', 'm13', 'm14', 'm15'],\n",
       " [[0, 1, 2, 3, 4, 5, 6, 7, 8, 9, 10, 11, 12, 13, 14, 15], [1, 0, 3, 2, 5, 4, 7, 6, 9, 8, 11, 10, 13, 12, 15, 14], [2, 3, 0, 1, 6, 7, 4, 5, 10, 11, 8, 9, 14, 15, 12, 13], [3, 2, 1, 0, 7, 6, 5, 4, 11, 10, 9, 8, 15, 14, 13, 12], [4, 5, 6, 7, 0, 1, 2, 3, 12, 13, 14, 15, 8, 9, 10, 11], [5, 4, 7, 6, 1, 0, 3, 2, 13, 12, 15, 14, 9, 8, 11, 10], [6, 7, 4, 5, 2, 3, 0, 1, 14, 15, 12, 13, 10, 11, 8, 9], [7, 6, 5, 4, 3, 2, 1, 0, 15, 14, 13, 12, 11, 10, 9, 8], [8, 9, 10, 11, 12, 13, 14, 15, 0, 1, 2, 3, 4, 5, 6, 7], [9, 8, 11, 10, 13, 12, 15, 14, 1, 0, 3, 2, 5, 4, 7, 6], [10, 11, 8, 9, 14, 15, 12, 13, 2, 3, 0, 1, 6, 7, 4, 5], [11, 10, 9, 8, 15, 14, 13, 12, 3, 2, 1, 0, 7, 6, 5, 4], [12, 13, 14, 15, 8, 9, 10, 11, 4, 5, 6, 7, 0, 1, 2, 3], [13, 12, 15, 14, 9, 8, 11, 10, 5, 4, 7, 6, 1, 0, 3, 2], [14, 15, 12, 13, 10, 11, 8, 9, 6, 7, 4, 5, 2, 3, 0, 1], [15, 14, 13, 12, 11, 10, 9, 8, 7, 6, 5, 4, 3, 2, 1, 0]],\n",
       " [[0, 0, 0, 0, 0, 0, 0, 0, 0, 0, 0, 0, 0, 0, 0, 0], [0, 1, 2, 3, 0, 1, 2, 3, 0, 1, 2, 3, 0, 1, 2, 3], [0, 0, 0, 0, 1, 1, 1, 1, 2, 2, 2, 2, 3, 3, 3, 3], [0, 1, 2, 3, 1, 0, 3, 2, 2, 3, 0, 1, 3, 2, 1, 0], [0, 4, 8, 12, 0, 4, 8, 12, 0, 4, 8, 12, 0, 4, 8, 12], [0, 5, 10, 15, 0, 5, 10, 15, 0, 5, 10, 15, 0, 5, 10, 15], [0, 4, 8, 12, 1, 5, 9, 13, 2, 6, 10, 14, 3, 7, 11, 15], [0, 5, 10, 15, 1, 4, 11, 14, 2, 7, 8, 13, 3, 6, 9, 12], [0, 0, 0, 0, 4, 4, 4, 4, 8, 8, 8, 8, 12, 12, 12, 12], [0, 1, 2, 3, 4, 5, 6, 7, 8, 9, 10, 11, 12, 13, 14, 15], [0, 0, 0, 0, 5, 5, 5, 5, 10, 10, 10, 10, 15, 15, 15, 15], [0, 1, 2, 3, 5, 4, 7, 6, 10, 11, 8, 9, 15, 14, 13, 12], [0, 4, 8, 12, 4, 0, 12, 8, 8, 12, 0, 4, 12, 8, 4, 0], [0, 5, 10, 15, 4, 1, 14, 11, 8, 13, 2, 7, 12, 9, 6, 3], [0, 4, 8, 12, 5, 1, 13, 9, 10, 14, 2, 6, 15, 11, 7, 3], [0, 5, 10, 15, 5, 0, 15, 10, 10, 15, 0, 5, 15, 10, 5, 0]]\n",
       " ),\n",
       " {'m0': [['0', '0'],\n",
       "   ['0', '0']],\n",
       "  'm1': [['0', '0'],\n",
       "   ['0', '1']],\n",
       "  'm2': [['0', '0'],\n",
       "   ['1', '0']],\n",
       "  'm3': [['0', '0'],\n",
       "   ['1', '1']],\n",
       "  'm4': [['0', '1'],\n",
       "   ['0', '0']],\n",
       "  'm5': [['0', '1'],\n",
       "   ['0', '1']],\n",
       "  'm6': [['0', '1'],\n",
       "   ['1', '0']],\n",
       "  'm7': [['0', '1'],\n",
       "   ['1', '1']],\n",
       "  'm8': [['1', '0'],\n",
       "   ['0', '0']],\n",
       "  'm9': [['1', '0'],\n",
       "   ['0', '1']],\n",
       "  'm10': [['1', '0'],\n",
       "   ['1', '0']],\n",
       "  'm11': [['1', '0'],\n",
       "   ['1', '1']],\n",
       "  'm12': [['1', '1'],\n",
       "   ['0', '0']],\n",
       "  'm13': [['1', '1'],\n",
       "   ['0', '1']],\n",
       "  'm14': [['1', '1'],\n",
       "   ['1', '0']],\n",
       "  'm15': [['1', '1'],\n",
       "   ['1', '1']]},\n",
       " {(('0', '0'), ('0', '0')): 'm0',\n",
       "  (('0', '0'), ('0', '1')): 'm1',\n",
       "  (('0', '0'), ('1', '0')): 'm2',\n",
       "  (('0', '0'), ('1', '1')): 'm3',\n",
       "  (('0', '1'), ('0', '0')): 'm4',\n",
       "  (('0', '1'), ('0', '1')): 'm5',\n",
       "  (('0', '1'), ('1', '0')): 'm6',\n",
       "  (('0', '1'), ('1', '1')): 'm7',\n",
       "  (('1', '0'), ('0', '0')): 'm8',\n",
       "  (('1', '0'), ('0', '1')): 'm9',\n",
       "  (('1', '0'), ('1', '0')): 'm10',\n",
       "  (('1', '0'), ('1', '1')): 'm11',\n",
       "  (('1', '1'), ('0', '0')): 'm12',\n",
       "  (('1', '1'), ('0', '1')): 'm13',\n",
       "  (('1', '1'), ('1', '0')): 'm14',\n",
       "  (('1', '1'), ('1', '1')): 'm15'})"
      ]
     },
     "execution_count": 45,
     "metadata": {},
     "output_type": "execute_result"
    }
   ],
   "source": [
    "generate_2x2_matrix_algebra(f2)"
   ]
  },
  {
   "cell_type": "markdown",
   "id": "e45baa7b",
   "metadata": {},
   "source": [
    "## Create Dictionary of Elements"
   ]
  },
  {
   "cell_type": "code",
   "execution_count": 5,
   "id": "3deb4370",
   "metadata": {},
   "outputs": [
    {
     "name": "stdout",
     "output_type": "stream",
     "text": [
      "16\n"
     ]
    },
    {
     "data": {
      "text/plain": [
       "{'m0': [['0', '0'],\n",
       "  ['0', '0']],\n",
       " 'm1': [['0', '0'],\n",
       "  ['0', '1']],\n",
       " 'm2': [['0', '0'],\n",
       "  ['1', '0']],\n",
       " 'm3': [['0', '0'],\n",
       "  ['1', '1']],\n",
       " 'm4': [['0', '1'],\n",
       "  ['0', '0']],\n",
       " 'm5': [['0', '1'],\n",
       "  ['0', '1']],\n",
       " 'm6': [['0', '1'],\n",
       "  ['1', '0']],\n",
       " 'm7': [['0', '1'],\n",
       "  ['1', '1']],\n",
       " 'm8': [['1', '0'],\n",
       "  ['0', '0']],\n",
       " 'm9': [['1', '0'],\n",
       "  ['0', '1']],\n",
       " 'm10': [['1', '0'],\n",
       "  ['1', '0']],\n",
       " 'm11': [['1', '0'],\n",
       "  ['1', '1']],\n",
       " 'm12': [['1', '1'],\n",
       "  ['0', '0']],\n",
       " 'm13': [['1', '1'],\n",
       "  ['0', '1']],\n",
       " 'm14': [['1', '1'],\n",
       "  ['1', '0']],\n",
       " 'm15': [['1', '1'],\n",
       "  ['1', '1']]}"
      ]
     },
     "execution_count": 5,
     "metadata": {},
     "output_type": "execute_result"
    }
   ],
   "source": [
    "algebra = f2\n",
    "n = len(algebra.elements)\n",
    "zero = algebra.zero\n",
    "# print(alg)\n",
    "\n",
    "count = 0\n",
    "prefix = 'm'\n",
    "\n",
    "# zero_name = prefix + '0'\n",
    "\n",
    "# The first dictionary entry will be the matrix of 'zeros'\n",
    "# zero_mat = AbstractMatrix.zeros((n, n), algebra)\n",
    "elem_dict = dict()  # { zero_name : zero_mat }\n",
    "rev_dict = dict()  # { zero_mat.to_tuple() : zero_name }\n",
    "\n",
    "elements = algebra.elements\n",
    "\n",
    "for e00 in elements:\n",
    "    for e01 in elements:\n",
    "        for e10 in elements:\n",
    "            for e11 in elements:\n",
    "                mat = AbstractMatrix([[e00, e01], [e10, e11]], algebra)\n",
    "                # elem_name = prefix + str(count + 1)\n",
    "                elem_name = prefix + str(count)\n",
    "                elem_dict[elem_name] = mat\n",
    "                rev_dict[mat.to_tuple()] = elem_name\n",
    "                count += 1\n",
    "print(count)\n",
    "elem_dict"
   ]
  },
  {
   "cell_type": "code",
   "execution_count": 6,
   "id": "bd27a1c0",
   "metadata": {},
   "outputs": [
    {
     "data": {
      "text/plain": [
       "{(('0', '0'), ('0', '0')): 'm0',\n",
       " (('0', '0'), ('0', '1')): 'm1',\n",
       " (('0', '0'), ('1', '0')): 'm2',\n",
       " (('0', '0'), ('1', '1')): 'm3',\n",
       " (('0', '1'), ('0', '0')): 'm4',\n",
       " (('0', '1'), ('0', '1')): 'm5',\n",
       " (('0', '1'), ('1', '0')): 'm6',\n",
       " (('0', '1'), ('1', '1')): 'm7',\n",
       " (('1', '0'), ('0', '0')): 'm8',\n",
       " (('1', '0'), ('0', '1')): 'm9',\n",
       " (('1', '0'), ('1', '0')): 'm10',\n",
       " (('1', '0'), ('1', '1')): 'm11',\n",
       " (('1', '1'), ('0', '0')): 'm12',\n",
       " (('1', '1'), ('0', '1')): 'm13',\n",
       " (('1', '1'), ('1', '0')): 'm14',\n",
       " (('1', '1'), ('1', '1')): 'm15'}"
      ]
     },
     "execution_count": 6,
     "metadata": {},
     "output_type": "execute_result"
    }
   ],
   "source": [
    "rev_dict"
   ]
  },
  {
   "cell_type": "markdown",
   "id": "39ad2f52",
   "metadata": {},
   "source": [
    "## Create Addition Table"
   ]
  },
  {
   "cell_type": "code",
   "execution_count": 7,
   "id": "c9f00163",
   "metadata": {},
   "outputs": [
    {
     "data": {
      "text/plain": [
       "array([['m0', 'm1', 'm2', 'm3', 'm4', 'm5', 'm6', 'm7', 'm8', 'm9',\n",
       "        'm10', 'm11', 'm12', 'm13', 'm14', 'm15'],\n",
       "       ['m1', 'm0', 'm3', 'm2', 'm5', 'm4', 'm7', 'm6', 'm9', 'm8',\n",
       "        'm11', 'm10', 'm13', 'm12', 'm15', 'm14'],\n",
       "       ['m2', 'm3', 'm0', 'm1', 'm6', 'm7', 'm4', 'm5', 'm10', 'm11',\n",
       "        'm8', 'm9', 'm14', 'm15', 'm12', 'm13'],\n",
       "       ['m3', 'm2', 'm1', 'm0', 'm7', 'm6', 'm5', 'm4', 'm11', 'm10',\n",
       "        'm9', 'm8', 'm15', 'm14', 'm13', 'm12'],\n",
       "       ['m4', 'm5', 'm6', 'm7', 'm0', 'm1', 'm2', 'm3', 'm12', 'm13',\n",
       "        'm14', 'm15', 'm8', 'm9', 'm10', 'm11'],\n",
       "       ['m5', 'm4', 'm7', 'm6', 'm1', 'm0', 'm3', 'm2', 'm13', 'm12',\n",
       "        'm15', 'm14', 'm9', 'm8', 'm11', 'm10'],\n",
       "       ['m6', 'm7', 'm4', 'm5', 'm2', 'm3', 'm0', 'm1', 'm14', 'm15',\n",
       "        'm12', 'm13', 'm10', 'm11', 'm8', 'm9'],\n",
       "       ['m7', 'm6', 'm5', 'm4', 'm3', 'm2', 'm1', 'm0', 'm15', 'm14',\n",
       "        'm13', 'm12', 'm11', 'm10', 'm9', 'm8'],\n",
       "       ['m8', 'm9', 'm10', 'm11', 'm12', 'm13', 'm14', 'm15', 'm0', 'm1',\n",
       "        'm2', 'm3', 'm4', 'm5', 'm6', 'm7'],\n",
       "       ['m9', 'm8', 'm11', 'm10', 'm13', 'm12', 'm15', 'm14', 'm1', 'm0',\n",
       "        'm3', 'm2', 'm5', 'm4', 'm7', 'm6'],\n",
       "       ['m10', 'm11', 'm8', 'm9', 'm14', 'm15', 'm12', 'm13', 'm2', 'm3',\n",
       "        'm0', 'm1', 'm6', 'm7', 'm4', 'm5'],\n",
       "       ['m11', 'm10', 'm9', 'm8', 'm15', 'm14', 'm13', 'm12', 'm3', 'm2',\n",
       "        'm1', 'm0', 'm7', 'm6', 'm5', 'm4'],\n",
       "       ['m12', 'm13', 'm14', 'm15', 'm8', 'm9', 'm10', 'm11', 'm4', 'm5',\n",
       "        'm6', 'm7', 'm0', 'm1', 'm2', 'm3'],\n",
       "       ['m13', 'm12', 'm15', 'm14', 'm9', 'm8', 'm11', 'm10', 'm5', 'm4',\n",
       "        'm7', 'm6', 'm1', 'm0', 'm3', 'm2'],\n",
       "       ['m14', 'm15', 'm12', 'm13', 'm10', 'm11', 'm8', 'm9', 'm6', 'm7',\n",
       "        'm4', 'm5', 'm2', 'm3', 'm0', 'm1'],\n",
       "       ['m15', 'm14', 'm13', 'm12', 'm11', 'm10', 'm9', 'm8', 'm7', 'm6',\n",
       "        'm5', 'm4', 'm3', 'm2', 'm1', 'm0']], dtype=object)"
      ]
     },
     "execution_count": 7,
     "metadata": {},
     "output_type": "execute_result"
    }
   ],
   "source": [
    "m = len(elem_dict)\n",
    "add_table = np.empty((m, m), AbstractMatrix)\n",
    "\n",
    "for row, elemr in enumerate(elem_dict.keys()):\n",
    "    for col, elemc in enumerate(elem_dict.keys()):\n",
    "        result = elem_dict[elemr] + elem_dict[elemc]\n",
    "        name = rev_dict[result.to_tuple()]\n",
    "        add_table[row][col] = name\n",
    "add_table"
   ]
  },
  {
   "cell_type": "markdown",
   "id": "dd833794",
   "metadata": {},
   "source": [
    "## Create Multiplication Table"
   ]
  },
  {
   "cell_type": "code",
   "execution_count": 8,
   "id": "729189db",
   "metadata": {},
   "outputs": [
    {
     "data": {
      "text/plain": [
       "array([['m0', 'm0', 'm0', 'm0', 'm0', 'm0', 'm0', 'm0', 'm0', 'm0', 'm0',\n",
       "        'm0', 'm0', 'm0', 'm0', 'm0'],\n",
       "       ['m0', 'm1', 'm2', 'm3', 'm0', 'm1', 'm2', 'm3', 'm0', 'm1', 'm2',\n",
       "        'm3', 'm0', 'm1', 'm2', 'm3'],\n",
       "       ['m0', 'm0', 'm0', 'm0', 'm1', 'm1', 'm1', 'm1', 'm2', 'm2', 'm2',\n",
       "        'm2', 'm3', 'm3', 'm3', 'm3'],\n",
       "       ['m0', 'm1', 'm2', 'm3', 'm1', 'm0', 'm3', 'm2', 'm2', 'm3', 'm0',\n",
       "        'm1', 'm3', 'm2', 'm1', 'm0'],\n",
       "       ['m0', 'm4', 'm8', 'm12', 'm0', 'm4', 'm8', 'm12', 'm0', 'm4',\n",
       "        'm8', 'm12', 'm0', 'm4', 'm8', 'm12'],\n",
       "       ['m0', 'm5', 'm10', 'm15', 'm0', 'm5', 'm10', 'm15', 'm0', 'm5',\n",
       "        'm10', 'm15', 'm0', 'm5', 'm10', 'm15'],\n",
       "       ['m0', 'm4', 'm8', 'm12', 'm1', 'm5', 'm9', 'm13', 'm2', 'm6',\n",
       "        'm10', 'm14', 'm3', 'm7', 'm11', 'm15'],\n",
       "       ['m0', 'm5', 'm10', 'm15', 'm1', 'm4', 'm11', 'm14', 'm2', 'm7',\n",
       "        'm8', 'm13', 'm3', 'm6', 'm9', 'm12'],\n",
       "       ['m0', 'm0', 'm0', 'm0', 'm4', 'm4', 'm4', 'm4', 'm8', 'm8', 'm8',\n",
       "        'm8', 'm12', 'm12', 'm12', 'm12'],\n",
       "       ['m0', 'm1', 'm2', 'm3', 'm4', 'm5', 'm6', 'm7', 'm8', 'm9',\n",
       "        'm10', 'm11', 'm12', 'm13', 'm14', 'm15'],\n",
       "       ['m0', 'm0', 'm0', 'm0', 'm5', 'm5', 'm5', 'm5', 'm10', 'm10',\n",
       "        'm10', 'm10', 'm15', 'm15', 'm15', 'm15'],\n",
       "       ['m0', 'm1', 'm2', 'm3', 'm5', 'm4', 'm7', 'm6', 'm10', 'm11',\n",
       "        'm8', 'm9', 'm15', 'm14', 'm13', 'm12'],\n",
       "       ['m0', 'm4', 'm8', 'm12', 'm4', 'm0', 'm12', 'm8', 'm8', 'm12',\n",
       "        'm0', 'm4', 'm12', 'm8', 'm4', 'm0'],\n",
       "       ['m0', 'm5', 'm10', 'm15', 'm4', 'm1', 'm14', 'm11', 'm8', 'm13',\n",
       "        'm2', 'm7', 'm12', 'm9', 'm6', 'm3'],\n",
       "       ['m0', 'm4', 'm8', 'm12', 'm5', 'm1', 'm13', 'm9', 'm10', 'm14',\n",
       "        'm2', 'm6', 'm15', 'm11', 'm7', 'm3'],\n",
       "       ['m0', 'm5', 'm10', 'm15', 'm5', 'm0', 'm15', 'm10', 'm10', 'm15',\n",
       "        'm0', 'm5', 'm15', 'm10', 'm5', 'm0']], dtype=object)"
      ]
     },
     "execution_count": 8,
     "metadata": {},
     "output_type": "execute_result"
    }
   ],
   "source": [
    "mul_table = np.empty((m, m), AbstractMatrix)\n",
    "\n",
    "for row, elemr in enumerate(elem_dict.keys()):\n",
    "    for col, elemc in enumerate(elem_dict.keys()):\n",
    "        result = elem_dict[elemr] * elem_dict[elemc]\n",
    "        name = rev_dict[result.to_tuple()]\n",
    "        mul_table[row][col] = name\n",
    "mul_table"
   ]
  },
  {
   "cell_type": "code",
   "execution_count": 9,
   "id": "0b710fc8",
   "metadata": {},
   "outputs": [
    {
     "name": "stdout",
     "output_type": "stream",
     "text": [
      "\n",
      "** Group **\n",
      "Name: mat2x2\n",
      "Instance ID: 4881142160\n",
      "Description: 2x2 matrix algebra\n",
      "Order: 16\n",
      "Identity: 'm0'\n",
      "Commutative? Yes\n",
      "Cyclic?: No\n",
      "Elements:\n",
      "   Index   Name   Inverse  Order\n",
      "      0    'm0'    'm0'       0\n",
      "      1    'm1'    'm1'       0\n",
      "      2    'm2'    'm2'       0\n",
      "      3    'm3'    'm3'       0\n",
      "      4    'm4'    'm4'       0\n",
      "      5    'm5'    'm5'       0\n",
      "      6    'm6'    'm6'       0\n",
      "      7    'm7'    'm7'       0\n",
      "      8    'm8'    'm8'       0\n",
      "      9    'm9'    'm9'       0\n",
      "     10   'm10'   'm10'       0\n",
      "     11   'm11'   'm11'       0\n",
      "     12   'm12'   'm12'       0\n",
      "     13   'm13'   'm13'       0\n",
      "     14   'm14'   'm14'       0\n",
      "     15   'm15'   'm15'       0\n",
      "Group order is 16 > 12, so no table is printed.\n"
     ]
    },
    {
     "data": {
      "text/plain": [
       "'<Group:mat2x2, ID:4881142160>'"
      ]
     },
     "execution_count": 9,
     "metadata": {},
     "output_type": "execute_result"
    }
   ],
   "source": [
    "mat2x2_add = alg.make_finite_algebra(\"mat2x2\", \"2x2 matrix algebra\", list(elem_dict.keys()), add_table)\n",
    "mat2x2_add.about()"
   ]
  },
  {
   "cell_type": "code",
   "execution_count": 10,
   "id": "6c17debd",
   "metadata": {},
   "outputs": [
    {
     "name": "stdout",
     "output_type": "stream",
     "text": [
      "\n",
      "Subalgebras of <Group:mat2x2, ID:4881142160>\n",
      "  There are 3 unique proper subalgebras, up to isomorphism, out of 65 total subalgebras.\n",
      "  as shown by the partitions below:\n",
      "\n",
      "35 Isomorphic Commutative Normal Groups of order 4 with identity 'm0':\n",
      "      Group: mat2x2_subalgebra_0: ['m0', 'm2', 'm12', 'm14']\n",
      "      Group: mat2x2_subalgebra_1: ['m0', 'm1', 'm14', 'm15']\n",
      "      Group: mat2x2_subalgebra_2: ['m0', 'm3', 'm5', 'm6']\n",
      "      Group: mat2x2_subalgebra_5: ['m0', 'm7', 'm8', 'm15']\n",
      "      Group: mat2x2_subalgebra_7: ['m0', 'm3', 'm12', 'm15']\n",
      "      Group: mat2x2_subalgebra_8: ['m0', 'm2', 'm9', 'm11']\n",
      "      Group: mat2x2_subalgebra_11: ['m0', 'm2', 'm5', 'm7']\n",
      "      Group: mat2x2_subalgebra_12: ['m0', 'm4', 'm8', 'm12']\n",
      "      Group: mat2x2_subalgebra_15: ['m0', 'm1', 'm4', 'm5']\n",
      "      Group: mat2x2_subalgebra_16: ['m0', 'm1', 'm10', 'm11']\n",
      "      Group: mat2x2_subalgebra_19: ['m0', 'm4', 'm11', 'm15']\n",
      "      Group: mat2x2_subalgebra_20: ['m0', 'm5', 'm10', 'm15']\n",
      "      Group: mat2x2_subalgebra_22: ['m0', 'm3', 'm8', 'm11']\n",
      "      Group: mat2x2_subalgebra_23: ['m0', 'm3', 'm4', 'm7']\n",
      "      Group: mat2x2_subalgebra_26: ['m0', 'm7', 'm11', 'm12']\n",
      "      Group: mat2x2_subalgebra_28: ['m0', 'm1', 'm6', 'm7']\n",
      "      Group: mat2x2_subalgebra_29: ['m0', 'm1', 'm2', 'm3']\n",
      "      Group: mat2x2_subalgebra_31: ['m0', 'm7', 'm9', 'm14']\n",
      "      Group: mat2x2_subalgebra_33: ['m0', 'm4', 'm10', 'm14']\n",
      "      Group: mat2x2_subalgebra_34: ['m0', 'm5', 'm11', 'm14']\n",
      "      Group: mat2x2_subalgebra_35: ['m0', 'm5', 'm8', 'm13']\n",
      "      Group: mat2x2_subalgebra_36: ['m0', 'm6', 'm9', 'm15']\n",
      "      Group: mat2x2_subalgebra_38: ['m0', 'm6', 'm11', 'm13']\n",
      "      Group: mat2x2_subalgebra_40: ['m0', 'm2', 'm8', 'm10']\n",
      "      Group: mat2x2_subalgebra_41: ['m0', 'm2', 'm13', 'm15']\n",
      "      Group: mat2x2_subalgebra_43: ['m0', 'm1', 'm12', 'm13']\n",
      "      Group: mat2x2_subalgebra_44: ['m0', 'm3', 'm13', 'm14']\n",
      "      Group: mat2x2_subalgebra_45: ['m0', 'm4', 'm9', 'm13']\n",
      "      Group: mat2x2_subalgebra_49: ['m0', 'm2', 'm4', 'm6']\n",
      "      Group: mat2x2_subalgebra_50: ['m0', 'm6', 'm10', 'm12']\n",
      "      Group: mat2x2_subalgebra_52: ['m0', 'm7', 'm10', 'm13']\n",
      "      Group: mat2x2_subalgebra_54: ['m0', 'm3', 'm9', 'm10']\n",
      "      Group: mat2x2_subalgebra_56: ['m0', 'm5', 'm9', 'm12']\n",
      "      Group: mat2x2_subalgebra_62: ['m0', 'm1', 'm8', 'm9']\n",
      "      Group: mat2x2_subalgebra_64: ['m0', 'm6', 'm8', 'm14']\n",
      "\n",
      "15 Isomorphic Commutative Normal Groups of order 2 with identity 'm0':\n",
      "      Group: mat2x2_subalgebra_3: ['m0', 'm13']\n",
      "      Group: mat2x2_subalgebra_4: ['m0', 'm7']\n",
      "      Group: mat2x2_subalgebra_6: ['m0', 'm8']\n",
      "      Group: mat2x2_subalgebra_10: ['m0', 'm9']\n",
      "      Group: mat2x2_subalgebra_14: ['m0', 'm6']\n",
      "      Group: mat2x2_subalgebra_18: ['m0', 'm11']\n",
      "      Group: mat2x2_subalgebra_25: ['m0', 'm5']\n",
      "      Group: mat2x2_subalgebra_30: ['m0', 'm2']\n",
      "      Group: mat2x2_subalgebra_37: ['m0', 'm1']\n",
      "      Group: mat2x2_subalgebra_48: ['m0', 'm3']\n",
      "      Group: mat2x2_subalgebra_51: ['m0', 'm10']\n",
      "      Group: mat2x2_subalgebra_53: ['m0', 'm14']\n",
      "      Group: mat2x2_subalgebra_58: ['m0', 'm4']\n",
      "      Group: mat2x2_subalgebra_59: ['m0', 'm15']\n",
      "      Group: mat2x2_subalgebra_60: ['m0', 'm12']\n",
      "\n",
      "15 Isomorphic Commutative Normal Groups of order 8 with identity 'm0':\n",
      "      Group: mat2x2_subalgebra_9: ['m0', 'm3', 'm5', 'm6', 'm9', 'm10', 'm12', 'm15']\n",
      "      Group: mat2x2_subalgebra_13: ['m0', 'm2', 'm5', 'm7', 'm8', 'm10', 'm13', 'm15']\n",
      "      Group: mat2x2_subalgebra_17: ['m0', 'm3', 'm5', 'm6', 'm8', 'm11', 'm13', 'm14']\n",
      "      Group: mat2x2_subalgebra_21: ['m0', 'm1', 'm6', 'm7', 'm8', 'm9', 'm14', 'm15']\n",
      "      Group: mat2x2_subalgebra_24: ['m0', 'm2', 'm5', 'm7', 'm9', 'm11', 'm12', 'm14']\n",
      "      Group: mat2x2_subalgebra_27: ['m0', 'm1', 'm2', 'm3', 'm8', 'm9', 'm10', 'm11']\n",
      "      Group: mat2x2_subalgebra_32: ['m0', 'm1', 'm4', 'm5', 'm8', 'm9', 'm12', 'm13']\n",
      "      Group: mat2x2_subalgebra_39: ['m0', 'm3', 'm4', 'm7', 'm8', 'm11', 'm12', 'm15']\n",
      "      Group: mat2x2_subalgebra_42: ['m0', 'm2', 'm4', 'm6', 'm9', 'm11', 'm13', 'm15']\n",
      "      Group: mat2x2_subalgebra_46: ['m0', 'm1', 'm2', 'm3', 'm12', 'm13', 'm14', 'm15']\n",
      "      Group: mat2x2_subalgebra_47: ['m0', 'm3', 'm4', 'm7', 'm9', 'm10', 'm13', 'm14']\n",
      "      Group: mat2x2_subalgebra_55: ['m0', 'm1', 'm4', 'm5', 'm10', 'm11', 'm14', 'm15']\n",
      "      Group: mat2x2_subalgebra_57: ['m0', 'm2', 'm4', 'm6', 'm8', 'm10', 'm12', 'm14']\n",
      "      Group: mat2x2_subalgebra_61: ['m0', 'm1', 'm2', 'm3', 'm4', 'm5', 'm6', 'm7']\n",
      "      Group: mat2x2_subalgebra_63: ['m0', 'm1', 'm6', 'm7', 'm10', 'm11', 'm12', 'm13']\n",
      "\n"
     ]
    }
   ],
   "source": [
    "alge = mat2x2_add\n",
    "\n",
    "alge_subs = alge.proper_subalgebras()\n",
    "partitions = alg.partition_into_isomorphic_lists(alge_subs)\n",
    "alg.about_isomorphic_partitions(alge, partitions)"
   ]
  },
  {
   "cell_type": "code",
   "execution_count": 11,
   "id": "f5441bbf",
   "metadata": {},
   "outputs": [
    {
     "name": "stdout",
     "output_type": "stream",
     "text": [
      "\n",
      "** Monoid **\n",
      "Name: mat2x2\n",
      "Instance ID: 4881124176\n",
      "Description: 2x2 matrix algebra\n",
      "Order: 16\n",
      "Identity: m9\n",
      "Associative? Yes\n",
      "Commutative? No\n",
      "Cyclic?: No\n",
      "Elements: ['m0', 'm1', 'm2', 'm3', 'm4', 'm5', 'm6', 'm7', 'm8', 'm9', 'm10', 'm11', 'm12', 'm13', 'm14', 'm15']\n",
      "Has Inverses? No\n",
      "Monoid order is 16 > 12, so the table is not output.\n"
     ]
    }
   ],
   "source": [
    "mat2x2_mul = alg.make_finite_algebra(\"mat2x2\", \"2x2 matrix algebra\", list(elem_dict.keys()), mul_table)\n",
    "mat2x2_mul.about()"
   ]
  },
  {
   "cell_type": "code",
   "execution_count": 12,
   "id": "e4f59978",
   "metadata": {},
   "outputs": [
    {
     "name": "stdout",
     "output_type": "stream",
     "text": [
      "\n",
      "** Ring **\n",
      "Name: mat2x2\n",
      "Instance ID: 4881194128\n",
      "Description: 2x2 matrix algebra\n",
      "Order: 16\n",
      "Identity: 'm0'\n",
      "Commutative? Yes\n",
      "Cyclic?: No\n",
      "Elements:\n",
      "   Index   Name   Inverse  Order\n",
      "      0    'm0'    'm0'       0\n",
      "      1    'm1'    'm1'       0\n",
      "      2    'm2'    'm2'       0\n",
      "      3    'm3'    'm3'       0\n",
      "      4    'm4'    'm4'       0\n",
      "      5    'm5'    'm5'       0\n",
      "      6    'm6'    'm6'       0\n",
      "      7    'm7'    'm7'       0\n",
      "      8    'm8'    'm8'       0\n",
      "      9    'm9'    'm9'       0\n",
      "     10   'm10'   'm10'       0\n",
      "     11   'm11'   'm11'       0\n",
      "     12   'm12'   'm12'       0\n",
      "     13   'm13'   'm13'       0\n",
      "     14   'm14'   'm14'       0\n",
      "     15   'm15'   'm15'       0\n",
      "Ring order is 16 > 12, so no table is printed.\n",
      "Mult. Identity: 'm9'\n",
      "Mult. Commutative? No\n",
      "Zero Divisors: ['m1', 'm2', 'm3', 'm4', 'm5', 'm8', 'm10', 'm12', 'm15']\n",
      "Ring order is 16 > 12, so the mult. table is not printed.\n"
     ]
    }
   ],
   "source": [
    "mat2x2_field = alg.make_finite_algebra(\"mat2x2\", \"2x2 matrix algebra\", list(elem_dict.keys()), add_table, mul_table)\n",
    "mat2x2_field.about()"
   ]
  },
  {
   "cell_type": "code",
   "execution_count": null,
   "id": "efc9c2f0",
   "metadata": {},
   "outputs": [],
   "source": []
  },
  {
   "cell_type": "code",
   "execution_count": 14,
   "id": "b0ee66e0",
   "metadata": {},
   "outputs": [
    {
     "name": "stdout",
     "output_type": "stream",
     "text": [
      "Help on method proper_subalgebras in module finite_algebras:\n",
      "\n",
      "proper_subalgebras(divisors_only=True, include_inverses=True) method of finite_algebras.Group instance\n",
      "    Return a list of proper subalgebras of the algebra.\n",
      "\n"
     ]
    }
   ],
   "source": [
    "help(alge.proper_subalgebras)"
   ]
  },
  {
   "cell_type": "raw",
   "id": "a241773c",
   "metadata": {},
   "source": [
    "alge = mat2x2_mul\n",
    "\n",
    "alge_subs = alge.proper_subalgebras()\n",
    "partitions = alg.partition_into_isomorphic_lists(alge_subs)\n",
    "alg.about_isomorphic_partitions(alge, partitions)"
   ]
  },
  {
   "cell_type": "code",
   "execution_count": null,
   "id": "b72564bd",
   "metadata": {},
   "outputs": [],
   "source": []
  }
 ],
 "metadata": {
  "kernelspec": {
   "display_name": "Python 3 (ipykernel)",
   "language": "python",
   "name": "python3"
  },
  "language_info": {
   "codemirror_mode": {
    "name": "ipython",
    "version": 3
   },
   "file_extension": ".py",
   "mimetype": "text/x-python",
   "name": "python",
   "nbconvert_exporter": "python",
   "pygments_lexer": "ipython3",
   "version": "3.11.5"
  }
 },
 "nbformat": 4,
 "nbformat_minor": 5
}
