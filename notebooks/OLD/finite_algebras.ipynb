{
 "cells": [
  {
   "cell_type": "markdown",
   "id": "0f020471",
   "metadata": {},
   "source": [
    "# Finite Algebras"
   ]
  },
  {
   "cell_type": "markdown",
   "id": "4672298b",
   "metadata": {},
   "source": [
    "# Algebras<a class=\"anchor\" id=\"algebras\"></a>"
   ]
  },
  {
   "cell_type": "code",
   "execution_count": 1,
   "id": "5f8deb69",
   "metadata": {},
   "outputs": [],
   "source": [
    "from finite_algebras import Magma, Semigroup, Monoid, Group, make_finite_algebra\n",
    "from cayley_table import CayleyTable\n",
    "import json"
   ]
  },
  {
   "cell_type": "markdown",
   "id": "14270c76",
   "metadata": {},
   "source": [
    "## Magmas<a class=\"anchor\" id=\"magmas\"></a>"
   ]
  },
  {
   "cell_type": "markdown",
   "id": "913313fa",
   "metadata": {},
   "source": [
    "Rock-Paper-Scisors Magma"
   ]
  },
  {
   "cell_type": "markdown",
   "id": "6738d433",
   "metadata": {},
   "source": [
    "From the rule in the second bullet, below, this magma is obviously commutative\n",
    "\n",
    "But the magma is not associative, otherwise it could be a semigroup.\n",
    "\n",
    "See https://en.wikipedia.org/wiki/Commutative_magma\n",
    "\n",
    "* $M = \\langle \\{r,p,s\\}, \\cdot \\rangle$\n",
    "* For all $x, y \\in M$, if $x$ *beats* $y$, then $x \\cdot y = y \\cdot x = x$\n",
    "* Also, for all $x \\in M$, $xx = x$"
   ]
  },
  {
   "cell_type": "code",
   "execution_count": 2,
   "id": "e3f20879",
   "metadata": {},
   "outputs": [
    {
     "data": {
      "text/plain": [
       "Magma(\n",
       "RPS,\n",
       "Rock, Paper, Scissors,\n",
       "['r', 'p', 's'],\n",
       "[[0, 1, 0], [1, 1, 2], [0, 2, 2]]\n",
       ")"
      ]
     },
     "execution_count": 2,
     "metadata": {},
     "output_type": "execute_result"
    }
   ],
   "source": [
    "rps = Magma(\"RPS\", \"Rock, Paper, Scissors\", ['r', 'p', 's'], CayleyTable([[0, 1, 0], [1, 1, 2], [0, 2, 2]]))\n",
    "rps"
   ]
  },
  {
   "cell_type": "code",
   "execution_count": 3,
   "id": "8918e014",
   "metadata": {},
   "outputs": [
    {
     "data": {
      "text/plain": [
       "False"
      ]
     },
     "execution_count": 3,
     "metadata": {},
     "output_type": "execute_result"
    }
   ],
   "source": [
    "rps.is_associative()"
   ]
  },
  {
   "cell_type": "code",
   "execution_count": 4,
   "id": "f64e47a1",
   "metadata": {},
   "outputs": [
    {
     "data": {
      "text/plain": [
       "True"
      ]
     },
     "execution_count": 4,
     "metadata": {},
     "output_type": "execute_result"
    }
   ],
   "source": [
    "rps.is_commutative()"
   ]
  },
  {
   "cell_type": "code",
   "execution_count": 5,
   "id": "05e65dc0",
   "metadata": {},
   "outputs": [
    {
     "data": {
      "text/plain": [
       "\"Magma(RPS, Rock, Paper, Scissors, ['r', 'p', 's'], [[0, 1, 0], [1, 1, 2], [0, 2, 2]])\""
      ]
     },
     "execution_count": 5,
     "metadata": {},
     "output_type": "execute_result"
    }
   ],
   "source": [
    "str(rps)"
   ]
  },
  {
   "cell_type": "markdown",
   "id": "fa737a5c",
   "metadata": {},
   "source": [
    "The following demonstrates that the rps magma is non-associative:"
   ]
  },
  {
   "cell_type": "code",
   "execution_count": 6,
   "id": "021d7fa1",
   "metadata": {},
   "outputs": [
    {
     "name": "stdout",
     "output_type": "stream",
     "text": [
      "    r(ps) = rs = r, \n",
      "but (rp)s = ps = s\n"
     ]
    }
   ],
   "source": [
    "ps = rps.op('p', 's')\n",
    "rp = rps.op('r', 'p')\n",
    "\n",
    "r_ps = rps.op('r', ps)\n",
    "rp_s = rps.op(rp, 's')\n",
    "\n",
    "print(f\"    r(ps) = r{ps} = {r_ps}, \\nbut (rp)s = {rp}s = {rp_s}\")"
   ]
  },
  {
   "cell_type": "markdown",
   "id": "18f2d2f5",
   "metadata": {},
   "source": [
    "For other magma examples, [see this discussion](https://math.stackexchange.com/questions/779507/can-you-give-me-some-concrete-examples-of-magmas).  Also, [see this paper on groupiods](https://arxiv.org/ftp/math/papers/0304/0304490.pdf)."
   ]
  },
  {
   "cell_type": "markdown",
   "id": "3dd4a263",
   "metadata": {},
   "source": [
    "**Testing Magma Table and Element Accessors**"
   ]
  },
  {
   "cell_type": "code",
   "execution_count": 7,
   "id": "733e2a9b",
   "metadata": {},
   "outputs": [
    {
     "data": {
      "text/plain": [
       "CayleyTable([[0, 1, 0], [1, 1, 2], [0, 2, 2]])"
      ]
     },
     "execution_count": 7,
     "metadata": {},
     "output_type": "execute_result"
    }
   ],
   "source": [
    "rps.table"
   ]
  },
  {
   "cell_type": "code",
   "execution_count": 8,
   "id": "348ea567",
   "metadata": {},
   "outputs": [
    {
     "data": {
      "text/plain": [
       "['r', 'p', 's']"
      ]
     },
     "execution_count": 8,
     "metadata": {},
     "output_type": "execute_result"
    }
   ],
   "source": [
    "rps.elements"
   ]
  },
  {
   "cell_type": "code",
   "execution_count": 9,
   "id": "972b1d13",
   "metadata": {},
   "outputs": [
    {
     "data": {
      "text/plain": [
       "[['r', 'p', 'r'], ['p', 'p', 's'], ['r', 's', 's']]"
      ]
     },
     "execution_count": 9,
     "metadata": {},
     "output_type": "execute_result"
    }
   ],
   "source": [
    "rps.table_as_list_with_names()"
   ]
  },
  {
   "cell_type": "code",
   "execution_count": 10,
   "id": "473e9b58",
   "metadata": {},
   "outputs": [
    {
     "name": "stdout",
     "output_type": "stream",
     "text": [
      "  Order  Associative?  Commutative?  Left Id?  Right Id?  Identity?  Inverses?\n",
      "-------------------------------------------------------------------------------------\n",
      "     3       False         True         None      None       None      False\n"
     ]
    }
   ],
   "source": [
    "rps.table.about(printout=True)"
   ]
  },
  {
   "cell_type": "markdown",
   "id": "59bb74e9",
   "metadata": {},
   "source": [
    "**Testing Magma as an Iterator and Container of Elements**"
   ]
  },
  {
   "cell_type": "code",
   "execution_count": 11,
   "id": "9e305294",
   "metadata": {},
   "outputs": [
    {
     "data": {
      "text/plain": [
       "['r', 'p', 's']"
      ]
     },
     "execution_count": 11,
     "metadata": {},
     "output_type": "execute_result"
    }
   ],
   "source": [
    "[el for el in rps]"
   ]
  },
  {
   "cell_type": "code",
   "execution_count": 12,
   "id": "c8c75071",
   "metadata": {},
   "outputs": [
    {
     "data": {
      "text/plain": [
       "True"
      ]
     },
     "execution_count": 12,
     "metadata": {},
     "output_type": "execute_result"
    }
   ],
   "source": [
    "'r' in rps"
   ]
  },
  {
   "cell_type": "markdown",
   "id": "f61ac7c4",
   "metadata": {},
   "source": [
    "**Testing Replacing (\"Setting\") Magma Element Names**"
   ]
  },
  {
   "cell_type": "code",
   "execution_count": 13,
   "id": "d4888ec8",
   "metadata": {},
   "outputs": [
    {
     "data": {
      "text/plain": [
       "Magma(\n",
       "RPS,\n",
       "Rock, Paper, Scissors,\n",
       "['rock', 'paper', 'scissors'],\n",
       "[[0, 1, 0], [1, 1, 2], [0, 2, 2]]\n",
       ")"
      ]
     },
     "execution_count": 13,
     "metadata": {},
     "output_type": "execute_result"
    }
   ],
   "source": [
    "full_names = ['rock', 'paper', 'scissors']\n",
    "rps.set_elements(full_names)"
   ]
  },
  {
   "cell_type": "code",
   "execution_count": 14,
   "id": "663242ac",
   "metadata": {},
   "outputs": [
    {
     "name": "stdout",
     "output_type": "stream",
     "text": [
      "{'rock': 'r', 'paper': 'p', 'scissors': 's'}\n"
     ]
    },
    {
     "data": {
      "text/plain": [
       "Magma(\n",
       "RPS,\n",
       "Rock, Paper, Scissors,\n",
       "['r', 'p', 's'],\n",
       "[[0, 1, 0], [1, 1, 2], [0, 2, 2]]\n",
       ")"
      ]
     },
     "execution_count": 14,
     "metadata": {},
     "output_type": "execute_result"
    }
   ],
   "source": [
    "orig_elems = ['r', 'p', 's']\n",
    "mapping = dict(zip(rps.elements, orig_elems))\n",
    "print(mapping)\n",
    "rps.set_elements(orig_elems)"
   ]
  },
  {
   "cell_type": "markdown",
   "id": "59dc3e34",
   "metadata": {},
   "source": [
    "[*back to Table of Contents*](#toc)"
   ]
  },
  {
   "cell_type": "markdown",
   "id": "c3d26598",
   "metadata": {},
   "source": [
    "### Testing Semigroups<a class=\"anchor\" id=\"testing_semigroups\"></a>"
   ]
  },
  {
   "cell_type": "markdown",
   "id": "b5bc2189",
   "metadata": {},
   "source": [
    "A semigroup is an associative magma."
   ]
  },
  {
   "cell_type": "code",
   "execution_count": 15,
   "id": "c0d62285",
   "metadata": {},
   "outputs": [
    {
     "data": {
      "text/plain": [
       "False"
      ]
     },
     "execution_count": 15,
     "metadata": {},
     "output_type": "execute_result"
    }
   ],
   "source": [
    "rps.is_associative()"
   ]
  },
  {
   "cell_type": "markdown",
   "id": "953612f0",
   "metadata": {},
   "source": [
    "The Semigroup constructor will fail if the table does not support associativity:"
   ]
  },
  {
   "cell_type": "code",
   "execution_count": 16,
   "id": "eca39c3a",
   "metadata": {},
   "outputs": [
    {
     "name": "stdout",
     "output_type": "stream",
     "text": [
      "Something went wrong\n"
     ]
    }
   ],
   "source": [
    "try:\n",
    "    Semigroup(\"RPS\", \"Rock-Paper-Scissors semigroup\", CayleyTable(['r', 'p', 's'], [[0, 1, 0], [1, 1, 2], [0, 2, 2]]))\n",
    "except:\n",
    "    print(\"Something went wrong\")"
   ]
  },
  {
   "cell_type": "markdown",
   "id": "ec0de5bc",
   "metadata": {},
   "source": [
    "Smarandache Semigroup"
   ]
  },
  {
   "cell_type": "markdown",
   "id": "ba007a60",
   "metadata": {},
   "source": [
    "This is Example 1.4.1 in the paper on groupoids referenced earlier.\n",
    "\n",
    "In that reference it is called a groupoid (AKA magma) but it is associative, so that makes it a semigroup."
   ]
  },
  {
   "cell_type": "code",
   "execution_count": 17,
   "id": "81d3f9c5",
   "metadata": {},
   "outputs": [],
   "source": [
    "ex141_tbl = CayleyTable([[0, 3, 0, 3, 0, 3], [1, 4, 1, 4, 1, 4], [2, 5, 2, 5, 2, 5],\n",
    "                         [3, 0, 3, 0, 3, 0], [4, 1, 4, 1, 4, 1], [5, 2, 5, 2, 5, 2]])"
   ]
  },
  {
   "cell_type": "markdown",
   "id": "2369cbfd",
   "metadata": {},
   "source": [
    "We can make a magma out of the table."
   ]
  },
  {
   "cell_type": "code",
   "execution_count": 18,
   "id": "bdadec1c",
   "metadata": {},
   "outputs": [
    {
     "data": {
      "text/plain": [
       "Magma(\n",
       "Example 141,\n",
       "Smarandache,\n",
       "['a', 'b', 'c', 'd', 'e', 'f'],\n",
       "[[0, 3, 0, 3, 0, 3], [1, 4, 1, 4, 1, 4], [2, 5, 2, 5, 2, 5], [3, 0, 3, 0, 3, 0], [4, 1, 4, 1, 4, 1], [5, 2, 5, 2, 5, 2]]\n",
       ")"
      ]
     },
     "execution_count": 18,
     "metadata": {},
     "output_type": "execute_result"
    }
   ],
   "source": [
    "ex141_magma = Magma(\"Example 141\", \"Smarandache\", ['a', 'b', 'c', 'd', 'e', 'f'], ex141_tbl)\n",
    "ex141_magma"
   ]
  },
  {
   "cell_type": "markdown",
   "id": "79aa5262",
   "metadata": {},
   "source": [
    "But we can also make a semigroup out of this table, since it is associative."
   ]
  },
  {
   "cell_type": "code",
   "execution_count": 19,
   "id": "86ef998c",
   "metadata": {},
   "outputs": [
    {
     "data": {
      "text/plain": [
       "Semigroup(\n",
       "Example 141,\n",
       "Smarandache,\n",
       "['a', 'b', 'c', 'd', 'e', 'f'],\n",
       "[[0, 3, 0, 3, 0, 3], [1, 4, 1, 4, 1, 4], [2, 5, 2, 5, 2, 5], [3, 0, 3, 0, 3, 0], [4, 1, 4, 1, 4, 1], [5, 2, 5, 2, 5, 2]]\n",
       ")"
      ]
     },
     "execution_count": 19,
     "metadata": {},
     "output_type": "execute_result"
    }
   ],
   "source": [
    "ex141_sg = make_finite_algebra(\"Example 141\", \"Smarandache\", ['a', 'b', 'c', 'd', 'e', 'f'], ex141_tbl.table)\n",
    "ex141_sg"
   ]
  },
  {
   "cell_type": "markdown",
   "id": "51ffc6fc",
   "metadata": {},
   "source": [
    "We cannot make a monoid from the table, because it does not have an identity element."
   ]
  },
  {
   "cell_type": "code",
   "execution_count": 20,
   "id": "fd46a7ed",
   "metadata": {},
   "outputs": [
    {
     "name": "stdout",
     "output_type": "stream",
     "text": [
      "ERROR: Table has no identity element\n"
     ]
    }
   ],
   "source": [
    "try:\n",
    "    ex141_mon = Monoid(\"ex141\", \"blah\", ['a', 'b', 'c', 'd', 'e', 'f'], ex141_tbl)\n",
    "    ex141_mon\n",
    "except:\n",
    "    print(\"ERROR: Table has no identity element\")"
   ]
  },
  {
   "cell_type": "markdown",
   "id": "38fe80a4",
   "metadata": {},
   "source": [
    "[*back to Table of Contents*](#toc)"
   ]
  },
  {
   "cell_type": "markdown",
   "id": "847a8389",
   "metadata": {},
   "source": [
    "**NEED TESTS AND EXAMPLES HERE**"
   ]
  },
  {
   "cell_type": "markdown",
   "id": "85ac1ef6",
   "metadata": {},
   "source": [
    "**See p. 67 in Pinter for a possible example**"
   ]
  },
  {
   "cell_type": "markdown",
   "id": "407310b4",
   "metadata": {},
   "source": [
    "### Testing Monoids<a class=\"anchor\" id=\"testing_monoids\"></a>"
   ]
  },
  {
   "cell_type": "markdown",
   "id": "c8c0868c",
   "metadata": {},
   "source": [
    "A monoid is a semigroup with an identity element."
   ]
  },
  {
   "cell_type": "markdown",
   "id": "5643dab3",
   "metadata": {},
   "source": [
    "TBD"
   ]
  },
  {
   "cell_type": "markdown",
   "id": "f7f3b85b",
   "metadata": {},
   "source": [
    "[*back to Table of Contents*](#toc)"
   ]
  },
  {
   "cell_type": "markdown",
   "id": "66c31c79",
   "metadata": {},
   "source": [
    "### Testing Groups<a class=\"anchor\" id=\"testing_groups\"></a>"
   ]
  },
  {
   "cell_type": "markdown",
   "id": "f4fe7e9e",
   "metadata": {},
   "source": [
    "A group is a monoid where every element has an inverse."
   ]
  },
  {
   "cell_type": "markdown",
   "id": "8fbe3814",
   "metadata": {},
   "source": [
    "TBD"
   ]
  },
  {
   "cell_type": "markdown",
   "id": "bc92eef1",
   "metadata": {},
   "source": [
    "[*back to Table of Contents*](#toc)"
   ]
  },
  {
   "cell_type": "markdown",
   "id": "b5d8ef74",
   "metadata": {},
   "source": [
    "### Testing Rings<a class=\"anchor\" id=\"testing_rings\"></a>"
   ]
  },
  {
   "cell_type": "markdown",
   "id": "90e6a9a7",
   "metadata": {},
   "source": [
    "TBD"
   ]
  },
  {
   "cell_type": "markdown",
   "id": "9cb7864d",
   "metadata": {},
   "source": [
    "[*back to Table of Contents*](#toc)"
   ]
  },
  {
   "cell_type": "markdown",
   "id": "6e855878",
   "metadata": {},
   "source": [
    "### Testing Fields<a class=\"anchor\" id=\"testing_fields\"></a>"
   ]
  },
  {
   "cell_type": "markdown",
   "id": "aea1b4e1",
   "metadata": {},
   "source": [
    "TBD"
   ]
  },
  {
   "cell_type": "markdown",
   "id": "dc9f7206",
   "metadata": {},
   "source": [
    "[*back to Table of Contents*](#toc)"
   ]
  },
  {
   "cell_type": "code",
   "execution_count": null,
   "id": "6ad4d25c",
   "metadata": {},
   "outputs": [],
   "source": []
  },
  {
   "cell_type": "markdown",
   "id": "84162af4",
   "metadata": {},
   "source": [
    "## Scratchwork"
   ]
  },
  {
   "cell_type": "markdown",
   "id": "e017fce1",
   "metadata": {},
   "source": [
    "Different ways to instantiate an algebra:\n",
    "* 1 arg:\n",
    "  * str: JSON File Name\n",
    "  * dict: Dictionary\n",
    "* 3 args: str, str, list of lists of str: Name, Description, Table(names)\n",
    "* 4 args: str, str, list of str, list of lists of ints: Name, Description, Elements, Table(ints) or CayleyTable"
   ]
  },
  {
   "cell_type": "code",
   "execution_count": 21,
   "id": "5340f30a",
   "metadata": {},
   "outputs": [],
   "source": [
    "import os\n",
    "aa_path = os.path.join(os.getenv(\"PYPROJ\"), \"abstract_algebra\")\n",
    "alg_dir = os.path.join(aa_path, \"Algebras\")"
   ]
  },
  {
   "cell_type": "code",
   "execution_count": 22,
   "id": "29fea451",
   "metadata": {},
   "outputs": [
    {
     "name": "stdout",
     "output_type": "stream",
     "text": [
      "{\"type\": \"Group\",\r\n",
      " \"name\": \"V4\",\r\n",
      " \"description\": \"Klein-4 group\",\r\n",
      " \"element_names\": [\"e\", \"h\", \"v\", \"r\"],\r\n",
      " \"mult_table\": [[0, 1, 2, 3],\r\n",
      "                [1, 0, 3, 2],\r\n",
      "                [2, 3, 0, 1],\r\n",
      "                [3, 2, 1, 0]]\r\n",
      "}\r\n"
     ]
    }
   ],
   "source": [
    "v4_json = os.path.join(alg_dir, \"v4_klein_4_group.json\")\n",
    "!cat {v4_json}"
   ]
  },
  {
   "cell_type": "code",
   "execution_count": 23,
   "id": "6333e81d",
   "metadata": {},
   "outputs": [],
   "source": [
    "alg = make_finite_algebra(v4_json)"
   ]
  },
  {
   "cell_type": "code",
   "execution_count": 24,
   "id": "7348a1b5",
   "metadata": {},
   "outputs": [
    {
     "data": {
      "text/plain": [
       "Group(\n",
       "V4,\n",
       "Klein-4 group,\n",
       "['e', 'h', 'v', 'r'],\n",
       "[[0, 1, 2, 3], [1, 0, 3, 2], [2, 3, 0, 1], [3, 2, 1, 0]]\n",
       ")"
      ]
     },
     "execution_count": 24,
     "metadata": {},
     "output_type": "execute_result"
    }
   ],
   "source": [
    "alg"
   ]
  },
  {
   "cell_type": "code",
   "execution_count": 25,
   "id": "3840bdc3",
   "metadata": {},
   "outputs": [],
   "source": [
    "fa1x = make_finite_algebra(\"V4\",\n",
    "                            \"Klein 4 group\",\n",
    "                            ['e', 'h', 'v', 'r'],\n",
    "                            [[0, 1, 2, 3], [1, 0, 3, 2], [2, 3, 0, 1], [3, 2, 1, 0]])"
   ]
  },
  {
   "cell_type": "code",
   "execution_count": 26,
   "id": "f760a4d0",
   "metadata": {},
   "outputs": [
    {
     "data": {
      "text/plain": [
       "Group(\n",
       "V4,\n",
       "Klein 4 group,\n",
       "['e', 'h', 'v', 'r'],\n",
       "[[0, 1, 2, 3], [1, 0, 3, 2], [2, 3, 0, 1], [3, 2, 1, 0]]\n",
       ")"
      ]
     },
     "execution_count": 26,
     "metadata": {},
     "output_type": "execute_result"
    }
   ],
   "source": [
    "fa1x"
   ]
  },
  {
   "cell_type": "code",
   "execution_count": 27,
   "id": "02d7b3ca",
   "metadata": {},
   "outputs": [],
   "source": [
    "fa2 = make_finite_algebra('RPS', 'Rock-Paper-Scissors', ['r', 'p', 's'], [[0, 1, 0], [1, 1, 2], [0, 2, 2]])"
   ]
  },
  {
   "cell_type": "code",
   "execution_count": 28,
   "id": "499d7603",
   "metadata": {},
   "outputs": [
    {
     "data": {
      "text/plain": [
       "Magma(\n",
       "RPS,\n",
       "Rock-Paper-Scissors,\n",
       "['r', 'p', 's'],\n",
       "[[0, 1, 0], [1, 1, 2], [0, 2, 2]]\n",
       ")"
      ]
     },
     "execution_count": 28,
     "metadata": {},
     "output_type": "execute_result"
    }
   ],
   "source": [
    "fa2"
   ]
  },
  {
   "cell_type": "code",
   "execution_count": 29,
   "id": "55eafae2",
   "metadata": {},
   "outputs": [],
   "source": [
    "fa3 = make_finite_algebra(\"V4\",\n",
    "                           \"blah\",\n",
    "                           ['e', 'h', 'v', 'r'],\n",
    "                           [[0, 1, 2, 3], [1, 0, 3, 2], [2, 3, 0, 1], [3, 2, 1, 0]])"
   ]
  },
  {
   "cell_type": "code",
   "execution_count": 30,
   "id": "ae9fb208",
   "metadata": {},
   "outputs": [
    {
     "data": {
      "text/plain": [
       "Group(\n",
       "V4,\n",
       "blah,\n",
       "['e', 'h', 'v', 'r'],\n",
       "[[0, 1, 2, 3], [1, 0, 3, 2], [2, 3, 0, 1], [3, 2, 1, 0]]\n",
       ")"
      ]
     },
     "execution_count": 30,
     "metadata": {},
     "output_type": "execute_result"
    }
   ],
   "source": [
    "fa3"
   ]
  },
  {
   "cell_type": "code",
   "execution_count": 31,
   "id": "82e7042a",
   "metadata": {},
   "outputs": [],
   "source": [
    "fa4 = make_finite_algebra(\"Example 141\",\n",
    "                           \"Smarandache\",\n",
    "                           ['a', 'b', 'c', 'd', 'e', 'f'],\n",
    "                           [[0, 3, 0, 3, 0, 3],\n",
    "                            [1, 4, 1, 4, 1, 4],\n",
    "                            [2, 5, 2, 5, 2, 5],\n",
    "                            [3, 0, 3, 0, 3, 0],\n",
    "                            [4, 1, 4, 1, 4, 1],\n",
    "                            [5, 2, 5, 2, 5, 2]]\n",
    "                          )"
   ]
  },
  {
   "cell_type": "code",
   "execution_count": 32,
   "id": "a55f988b",
   "metadata": {},
   "outputs": [
    {
     "data": {
      "text/plain": [
       "Semigroup(\n",
       "Example 141,\n",
       "Smarandache,\n",
       "['a', 'b', 'c', 'd', 'e', 'f'],\n",
       "[[0, 3, 0, 3, 0, 3], [1, 4, 1, 4, 1, 4], [2, 5, 2, 5, 2, 5], [3, 0, 3, 0, 3, 0], [4, 1, 4, 1, 4, 1], [5, 2, 5, 2, 5, 2]]\n",
       ")"
      ]
     },
     "execution_count": 32,
     "metadata": {},
     "output_type": "execute_result"
    }
   ],
   "source": [
    "fa4"
   ]
  },
  {
   "cell_type": "markdown",
   "id": "a46c13ec",
   "metadata": {},
   "source": [
    "## Rock, Paper, Scissors, Lizard, Spock "
   ]
  },
  {
   "cell_type": "markdown",
   "id": "ffd8533b",
   "metadata": {},
   "source": [
    "See https://bigbangtheory.fandom.com/wiki/Rock,_Paper,_Scissors,_Lizard,_Spock"
   ]
  },
  {
   "cell_type": "markdown",
   "id": "9cbf2fd7",
   "metadata": {},
   "source": [
    "Scissors cuts Paper\n",
    "Paper covers Rock\n",
    "Rock crushes Lizard\n",
    "Lizard poisons Spock\n",
    "Spock smashes Scissors\n",
    "Scissors decapitates Lizard\n",
    "Lizard eats Paper\n",
    "Paper disproves Spock\n",
    "Spock vaporizes Rock\n",
    "(and as it always has) Rock crushes Scissors"
   ]
  },
  {
   "cell_type": "code",
   "execution_count": 33,
   "id": "20a41548",
   "metadata": {},
   "outputs": [],
   "source": [
    "# elements = [\"Rock\", \"Paper\", \"Scissors\", \"Lizard\", \"Spock\"]"
   ]
  },
  {
   "cell_type": "code",
   "execution_count": 34,
   "id": "7080f6da",
   "metadata": {},
   "outputs": [],
   "source": [
    "elements = [\"r\", \"p\", \"s\", \"z\", \"k\"]"
   ]
  },
  {
   "cell_type": "raw",
   "id": "c5c7568b",
   "metadata": {},
   "source": [
    "s x p = s\n",
    "p x r = p\n",
    "r x z = r\n",
    "z x k = z\n",
    "k x s = k\n",
    "s x z = s\n",
    "z x p = z\n",
    "p x k = d\n",
    "k x r = k\n",
    "r x s = r"
   ]
  },
  {
   "cell_type": "code",
   "execution_count": 35,
   "id": "8dc797e8",
   "metadata": {},
   "outputs": [],
   "source": [
    "table = [[\"r\", \"p\", \"r\", \"r\", \"k\"],\n",
    "         [\"p\", \"p\", \"s\", \"z\", \"p\"],\n",
    "         [\"r\", \"s\", \"s\", \"s\", \"k\"],\n",
    "         [\"r\", \"z\", \"s\", \"z\", \"z\"],\n",
    "         [\"k\", \"p\", \"k\", \"z\", \"k\"]]"
   ]
  },
  {
   "cell_type": "code",
   "execution_count": 36,
   "id": "082fd556",
   "metadata": {},
   "outputs": [],
   "source": [
    "rpszk = make_finite_algebra(\"RPSZK\", \"Rock, Paper, Scissors, Lizard, Spock\", elements, table)"
   ]
  },
  {
   "cell_type": "code",
   "execution_count": 37,
   "id": "f77bc416",
   "metadata": {},
   "outputs": [
    {
     "data": {
      "text/plain": [
       "Magma(\n",
       "RPSZK,\n",
       "Rock, Paper, Scissors, Lizard, Spock,\n",
       "['r', 'p', 's', 'z', 'k'],\n",
       "[[0, 1, 0, 0, 4], [1, 1, 2, 3, 1], [0, 2, 2, 2, 4], [0, 3, 2, 3, 3], [4, 1, 4, 3, 4]]\n",
       ")"
      ]
     },
     "execution_count": 37,
     "metadata": {},
     "output_type": "execute_result"
    }
   ],
   "source": [
    "rpszk"
   ]
  },
  {
   "cell_type": "code",
   "execution_count": 38,
   "id": "2ff9fd46",
   "metadata": {},
   "outputs": [
    {
     "data": {
      "text/plain": [
       "'{\"type\": \"Magma\", \"name\": \"RPSZK\", \"description\": \"Rock, Paper, Scissors, Lizard, Spock\", \"element_names\": [\"r\", \"p\", \"s\", \"z\", \"k\"], \"mult_table\": [[0, 1, 0, 0, 4], [1, 1, 2, 3, 1], [0, 2, 2, 2, 4], [0, 3, 2, 3, 3], [4, 1, 4, 3, 4]]}'"
      ]
     },
     "execution_count": 38,
     "metadata": {},
     "output_type": "execute_result"
    }
   ],
   "source": [
    "rpszk.dumps()"
   ]
  },
  {
   "cell_type": "code",
   "execution_count": 39,
   "id": "a806e485",
   "metadata": {},
   "outputs": [
    {
     "data": {
      "text/plain": [
       "CayleyTable([[0, 1, 0, 0, 4], [1, 1, 2, 3, 1], [0, 2, 2, 2, 4], [0, 3, 2, 3, 3], [4, 1, 4, 3, 4]])"
      ]
     },
     "execution_count": 39,
     "metadata": {},
     "output_type": "execute_result"
    }
   ],
   "source": [
    "rpszk.table"
   ]
  },
  {
   "cell_type": "code",
   "execution_count": 40,
   "id": "6270f892",
   "metadata": {},
   "outputs": [
    {
     "data": {
      "text/plain": [
       "False"
      ]
     },
     "execution_count": 40,
     "metadata": {},
     "output_type": "execute_result"
    }
   ],
   "source": [
    "rpszk.table.is_associative()"
   ]
  },
  {
   "cell_type": "code",
   "execution_count": 41,
   "id": "05f4c4ae",
   "metadata": {},
   "outputs": [
    {
     "data": {
      "text/plain": [
       "True"
      ]
     },
     "execution_count": 41,
     "metadata": {},
     "output_type": "execute_result"
    }
   ],
   "source": [
    "rpszk.table.is_commutative()"
   ]
  },
  {
   "cell_type": "code",
   "execution_count": 42,
   "id": "d3d173aa",
   "metadata": {},
   "outputs": [
    {
     "data": {
      "text/plain": [
       "True"
      ]
     },
     "execution_count": 42,
     "metadata": {},
     "output_type": "execute_result"
    }
   ],
   "source": [
    "rpszk.table.identity() is None"
   ]
  },
  {
   "cell_type": "code",
   "execution_count": 43,
   "id": "f8228de7",
   "metadata": {},
   "outputs": [
    {
     "data": {
      "text/plain": [
       "False"
      ]
     },
     "execution_count": 43,
     "metadata": {},
     "output_type": "execute_result"
    }
   ],
   "source": [
    "rpszk.table.has_inverses()"
   ]
  },
  {
   "cell_type": "code",
   "execution_count": null,
   "id": "439ea6c4",
   "metadata": {},
   "outputs": [],
   "source": []
  }
 ],
 "metadata": {
  "kernelspec": {
   "display_name": "Python 3",
   "language": "python",
   "name": "python3"
  },
  "language_info": {
   "codemirror_mode": {
    "name": "ipython",
    "version": 3
   },
   "file_extension": ".py",
   "mimetype": "text/x-python",
   "name": "python",
   "nbconvert_exporter": "python",
   "pygments_lexer": "ipython3",
   "version": "3.7.7"
  }
 },
 "nbformat": 4,
 "nbformat_minor": 5
}
