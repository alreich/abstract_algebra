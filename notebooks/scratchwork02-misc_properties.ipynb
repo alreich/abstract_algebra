{
 "cells": [
  {
   "cell_type": "markdown",
   "id": "a917f9cd",
   "metadata": {},
   "source": [
    "# Scratchwork 2"
   ]
  },
  {
   "cell_type": "code",
   "execution_count": 1,
   "id": "6c7b35c7",
   "metadata": {},
   "outputs": [],
   "source": [
    "from finite_algebras import *\n",
    "from cayley_table import *\n",
    "from permutations import *"
   ]
  },
  {
   "cell_type": "code",
   "execution_count": 2,
   "id": "ebc302bf",
   "metadata": {},
   "outputs": [],
   "source": [
    "import os\n",
    "aa_path = os.path.join(os.getenv(\"PYPROJ\"), \"abstract_algebra\")\n",
    "alg_dir = os.path.join(aa_path, \"Algebras\")"
   ]
  },
  {
   "cell_type": "code",
   "execution_count": 3,
   "id": "d5340369",
   "metadata": {},
   "outputs": [
    {
     "name": "stdout",
     "output_type": "stream",
     "text": [
      "======================================================================\n",
      "                           Example Algebras\n",
      "----------------------------------------------------------------------\n",
      "  17 example algebras are available.\n",
      "  Use \"Examples[INDEX]\" to retrieve a specific example,\n",
      "  where INDEX is the first number on each line below:\n",
      "----------------------------------------------------------------------\n",
      "0: A4 -- Alternating group on 4 letters (AKA Tetrahedral group)\n",
      "1: D3 -- https://en.wikipedia.org/wiki/Dihedral_group_of_order_6\n",
      "2: D4 -- Dihedral group on four vertices\n",
      "3: Pinter29 -- Non-abelian group, p.29, 'A Book of Abstract Algebra' by Charles C. Pinter\n",
      "4: RPS -- Rock, Paper, Scissors Magma\n",
      "5: S3 -- Symmetric group on 3 letters\n",
      "6: S3X -- Another version of the symmetric group on 3 letters\n",
      "7: V4 -- Klein-4 group\n",
      "8: Z4 -- Cyclic group of order 4\n",
      "9: F4 -- Field with 4 elements (from Wikipedia)\n",
      "10: mag_id -- Magma with Identity\n",
      "11: Example 1.4.1 -- See: Groupoids and Smarandache Groupoids by W. B. Vasantha Kandasamy\n",
      "12: Ex6 -- Example 6: http://www-groups.mcs.st-andrews.ac.uk/~john/MT4517/Lectures/L3.html\n",
      "13: Q8 -- Quaternion Group\n",
      "14: SD16 -- Semidihedral group of order 16\n",
      "15: A5 -- Alternating group on 5 letters\n",
      "16: F2 -- Field with 2 elements from paper: 236w06fields.pdf\n",
      "======================================================================\n"
     ]
    }
   ],
   "source": [
    "ex = Examples(alg_dir)"
   ]
  },
  {
   "cell_type": "code",
   "execution_count": 4,
   "id": "dfb93629",
   "metadata": {},
   "outputs": [
    {
     "name": "stdout",
     "output_type": "stream",
     "text": [
      "\n",
      "** Magma **\n",
      "Name: mag_id\n",
      "Instance ID: 4560254032\n",
      "Description: Magma with Identity\n",
      "Order: 3\n",
      "Identity: e\n",
      "Associative? No\n",
      "Commutative? No\n",
      "Cyclic?: Yes\n",
      "  Generators: ['b']\n",
      "Elements: ['e', 'a', 'b']\n",
      "Has Inverses? No\n",
      "Cayley Table (showing names):\n",
      "[['e', 'a', 'b'], ['a', 'e', 'a'], ['b', 'b', 'a']]\n"
     ]
    }
   ],
   "source": [
    "mag_id = ex[10]\n",
    "mag_id.about(use_table_names=True)"
   ]
  },
  {
   "cell_type": "markdown",
   "id": "068170c1",
   "metadata": {},
   "source": [
    "### The Center of a Magma"
   ]
  },
  {
   "cell_type": "code",
   "execution_count": 5,
   "id": "178394c8",
   "metadata": {},
   "outputs": [
    {
     "data": {
      "text/plain": [
       "['e']"
      ]
     },
     "execution_count": 5,
     "metadata": {},
     "output_type": "execute_result"
    }
   ],
   "source": [
    "mag_id.center()"
   ]
  },
  {
   "cell_type": "markdown",
   "id": "3a1e562c",
   "metadata": {},
   "source": [
    "### Taking an Element to a Power"
   ]
  },
  {
   "cell_type": "markdown",
   "id": "e35ce68c",
   "metadata": {},
   "source": [
    "In the examples here, $b^3$ is computed for the \"Magma with identity\".\n",
    "\n",
    "Because Magmas are non-associative, it matters whether the powers are associated from the left or right. Both choices are illustrated below."
   ]
  },
  {
   "cell_type": "code",
   "execution_count": 6,
   "id": "3caa93e7",
   "metadata": {},
   "outputs": [
    {
     "name": "stdout",
     "output_type": "stream",
     "text": [
      "\n",
      "Using Left Associativity (the default):\n",
      "b^3 = a\n",
      "(b * b) * b = a\n",
      "\n",
      "Using Right Associativity:\n",
      "b^3 = b\n",
      "b * (b * b) = b\n"
     ]
    }
   ],
   "source": [
    "print(\"\\nUsing Left Associativity (the default):\")\n",
    "print(f\"b^3 = {mag_id.element_to_power('b', 3)}\")\n",
    "print(f\"(b * b) * b = {mag_id.op(mag_id.op('b', 'b'), 'b')}\")\n",
    "\n",
    "print(\"\\nUsing Right Associativity:\")\n",
    "print(f\"b^3 = {mag_id.element_to_power('b', 3, left_associative=False)}\")\n",
    "print(f\"b * (b * b) = {mag_id.op('b', mag_id.op('b', 'b'))}\")"
   ]
  },
  {
   "cell_type": "markdown",
   "id": "075b6288",
   "metadata": {},
   "source": [
    "### More..."
   ]
  },
  {
   "cell_type": "code",
   "execution_count": 7,
   "id": "e85e10a3",
   "metadata": {},
   "outputs": [
    {
     "name": "stdout",
     "output_type": "stream",
     "text": [
      "\n",
      "** Ring **\n",
      "Name: R12\n",
      "Instance ID: 4560400720\n",
      "Description: Autogenerated Ring of integers mod 12\n",
      "Order: 12\n",
      "Identity: a00\n",
      "Commutative? Yes\n",
      "Cyclic?: Yes\n",
      "  Generators: ['a01', 'a05', 'a07', 'a11']\n",
      "Elements:\n",
      "   Index   Name   Inverse  Order\n",
      "      0     a00     a00       1\n",
      "      1     a01     a11      12\n",
      "      2     a02     a10       6\n",
      "      3     a03     a09       4\n",
      "      4     a04     a08       3\n",
      "      5     a05     a07      12\n",
      "      6     a06     a06       2\n",
      "      7     a07     a05      12\n",
      "      8     a08     a04       3\n",
      "      9     a09     a03       4\n",
      "     10     a10     a02       6\n",
      "     11     a11     a01      12\n",
      "Cayley Table (showing indices):\n",
      "[[0, 1, 2, 3, 4, 5, 6, 7, 8, 9, 10, 11],\n",
      " [1, 2, 3, 4, 5, 6, 7, 8, 9, 10, 11, 0],\n",
      " [2, 3, 4, 5, 6, 7, 8, 9, 10, 11, 0, 1],\n",
      " [3, 4, 5, 6, 7, 8, 9, 10, 11, 0, 1, 2],\n",
      " [4, 5, 6, 7, 8, 9, 10, 11, 0, 1, 2, 3],\n",
      " [5, 6, 7, 8, 9, 10, 11, 0, 1, 2, 3, 4],\n",
      " [6, 7, 8, 9, 10, 11, 0, 1, 2, 3, 4, 5],\n",
      " [7, 8, 9, 10, 11, 0, 1, 2, 3, 4, 5, 6],\n",
      " [8, 9, 10, 11, 0, 1, 2, 3, 4, 5, 6, 7],\n",
      " [9, 10, 11, 0, 1, 2, 3, 4, 5, 6, 7, 8],\n",
      " [10, 11, 0, 1, 2, 3, 4, 5, 6, 7, 8, 9],\n",
      " [11, 0, 1, 2, 3, 4, 5, 6, 7, 8, 9, 10]]\n",
      "Mult. Identity: a01\n",
      "Mult. Commutative? Yes\n",
      "Zero Divisors: ['a02', 'a03', 'a04', 'a06', 'a08', 'a09', 'a10']\n",
      "Multiplicative Cayley Table (showing indices):\n",
      "[[0, 0, 0, 0, 0, 0, 0, 0, 0, 0, 0, 0],\n",
      " [0, 1, 2, 3, 4, 5, 6, 7, 8, 9, 10, 11],\n",
      " [0, 2, 4, 6, 8, 10, 0, 2, 4, 6, 8, 10],\n",
      " [0, 3, 6, 9, 0, 3, 6, 9, 0, 3, 6, 9],\n",
      " [0, 4, 8, 0, 4, 8, 0, 4, 8, 0, 4, 8],\n",
      " [0, 5, 10, 3, 8, 1, 6, 11, 4, 9, 2, 7],\n",
      " [0, 6, 0, 6, 0, 6, 0, 6, 0, 6, 0, 6],\n",
      " [0, 7, 2, 9, 4, 11, 6, 1, 8, 3, 10, 5],\n",
      " [0, 8, 4, 0, 8, 4, 0, 8, 4, 0, 8, 4],\n",
      " [0, 9, 6, 3, 0, 9, 6, 3, 0, 9, 6, 3],\n",
      " [0, 10, 8, 6, 4, 2, 0, 10, 8, 6, 4, 2],\n",
      " [0, 11, 10, 9, 8, 7, 6, 5, 4, 3, 2, 1]]\n"
     ]
    }
   ],
   "source": [
    "n12 = generate_algebra_mod_n(12)\n",
    "n12.about()"
   ]
  },
  {
   "cell_type": "code",
   "execution_count": 8,
   "id": "030f2189",
   "metadata": {},
   "outputs": [
    {
     "name": "stdout",
     "output_type": "stream",
     "text": [
      "\n",
      "Subalgebras of <Ring:R12, ID:4560400720>\n",
      "  There are 4 unique proper subalgebras, up to isomorphism, out of 4 total subalgebras.\n",
      "  as shown by the partitions below:\n",
      "\n",
      "1 Commutative Normal Field of order 3 with identity 'a00':\n",
      "      Field: R12_subalgebra_0: ['a00', 'a04', 'a08']\n",
      "\n",
      "1 Commutative Normal Ring of order 2 with identity 'a00':\n",
      "      Ring: R12_subalgebra_1: ['a00', 'a06']\n",
      "\n",
      "1 Commutative Normal Ring of order 4 with identity 'a00':\n",
      "      Ring: R12_subalgebra_2: ['a00', 'a03', 'a06', 'a09']\n",
      "\n",
      "1 Commutative Normal Ring of order 6 with identity 'a00':\n",
      "      Ring: R12_subalgebra_3: ['a00', 'a02', 'a04', 'a06', 'a08', 'a10']\n",
      "\n"
     ]
    }
   ],
   "source": [
    "parts12 = about_subalgebras(n12)"
   ]
  },
  {
   "cell_type": "code",
   "execution_count": 9,
   "id": "faf9facc",
   "metadata": {},
   "outputs": [
    {
     "name": "stdout",
     "output_type": "stream",
     "text": [
      "\n",
      "** Field **\n",
      "Name: F11\n",
      "Instance ID: 4560404240\n",
      "Description: Autogenerated Field of integers mod 11\n",
      "Order: 11\n",
      "Identity: a00\n",
      "Commutative? Yes\n",
      "Cyclic?: Yes\n",
      "  Generators: ['a01', 'a02', 'a03', 'a04', 'a05', 'a06', 'a07', 'a08', 'a09', 'a10']\n",
      "Elements:\n",
      "   Index   Name   Inverse  Order\n",
      "      0     a00     a00       1\n",
      "      1     a01     a10      11\n",
      "      2     a02     a09      11\n",
      "      3     a03     a08      11\n",
      "      4     a04     a07      11\n",
      "      5     a05     a06      11\n",
      "      6     a06     a05      11\n",
      "      7     a07     a04      11\n",
      "      8     a08     a03      11\n",
      "      9     a09     a02      11\n",
      "     10     a10     a01      11\n",
      "Cayley Table (showing indices):\n",
      "[[0, 1, 2, 3, 4, 5, 6, 7, 8, 9, 10],\n",
      " [1, 2, 3, 4, 5, 6, 7, 8, 9, 10, 0],\n",
      " [2, 3, 4, 5, 6, 7, 8, 9, 10, 0, 1],\n",
      " [3, 4, 5, 6, 7, 8, 9, 10, 0, 1, 2],\n",
      " [4, 5, 6, 7, 8, 9, 10, 0, 1, 2, 3],\n",
      " [5, 6, 7, 8, 9, 10, 0, 1, 2, 3, 4],\n",
      " [6, 7, 8, 9, 10, 0, 1, 2, 3, 4, 5],\n",
      " [7, 8, 9, 10, 0, 1, 2, 3, 4, 5, 6],\n",
      " [8, 9, 10, 0, 1, 2, 3, 4, 5, 6, 7],\n",
      " [9, 10, 0, 1, 2, 3, 4, 5, 6, 7, 8],\n",
      " [10, 0, 1, 2, 3, 4, 5, 6, 7, 8, 9]]\n",
      "Mult. Identity: a01\n",
      "Mult. Commutative? Yes\n",
      "Zero Divisors: None\n",
      "Multiplicative Cayley Table (showing indices):\n",
      "[[0, 0, 0, 0, 0, 0, 0, 0, 0, 0, 0],\n",
      " [0, 1, 2, 3, 4, 5, 6, 7, 8, 9, 10],\n",
      " [0, 2, 4, 6, 8, 10, 1, 3, 5, 7, 9],\n",
      " [0, 3, 6, 9, 1, 4, 7, 10, 2, 5, 8],\n",
      " [0, 4, 8, 1, 5, 9, 2, 6, 10, 3, 7],\n",
      " [0, 5, 10, 4, 9, 3, 8, 2, 7, 1, 6],\n",
      " [0, 6, 1, 7, 2, 8, 3, 9, 4, 10, 5],\n",
      " [0, 7, 3, 10, 6, 2, 9, 5, 1, 8, 4],\n",
      " [0, 8, 5, 2, 10, 7, 4, 1, 9, 6, 3],\n",
      " [0, 9, 7, 5, 3, 1, 10, 8, 6, 4, 2],\n",
      " [0, 10, 9, 8, 7, 6, 5, 4, 3, 2, 1]]\n"
     ]
    }
   ],
   "source": [
    "n11 = generate_algebra_mod_n(11)\n",
    "n11.about()"
   ]
  },
  {
   "cell_type": "code",
   "execution_count": 10,
   "id": "8401e186",
   "metadata": {},
   "outputs": [
    {
     "name": "stdout",
     "output_type": "stream",
     "text": [
      "There are no proper subalgebras.\n"
     ]
    }
   ],
   "source": [
    "parts11 = about_subalgebras(n11)"
   ]
  },
  {
   "cell_type": "markdown",
   "id": "ad1cb8a4",
   "metadata": {},
   "source": [
    "## Generators"
   ]
  },
  {
   "cell_type": "code",
   "execution_count": 11,
   "id": "8796feac",
   "metadata": {},
   "outputs": [
    {
     "name": "stdout",
     "output_type": "stream",
     "text": [
      "Z12 generators:\n",
      "['a^05', 'a', 'a^11', 'a^07']\n",
      "There are 4 generators.\n"
     ]
    }
   ],
   "source": [
    "n = 12\n",
    "alg = generate_cyclic_group(n)\n",
    "alg_gens = alg.generators()\n",
    "print(alg.name + \" generators:\")\n",
    "print(alg_gens)\n",
    "print(f\"There are {len(alg_gens)} generators.\")"
   ]
  },
  {
   "cell_type": "code",
   "execution_count": 12,
   "id": "621196b4",
   "metadata": {},
   "outputs": [
    {
     "name": "stdout",
     "output_type": "stream",
     "text": [
      "Z11 generators:\n",
      "['a^10', 'a^04', 'a^05', 'a', 'a^07', 'a^02', 'a^06', 'a^03', 'a^09', 'a^08']\n",
      "There are 10 generators.\n"
     ]
    }
   ],
   "source": [
    "n = 11\n",
    "alg = generate_cyclic_group(n)\n",
    "alg_gens = alg.generators()\n",
    "print(alg.name + \" generators:\")\n",
    "print(alg_gens)\n",
    "print(f\"There are {len(alg_gens)} generators.\")"
   ]
  },
  {
   "cell_type": "code",
   "execution_count": 13,
   "id": "e4901017",
   "metadata": {},
   "outputs": [
    {
     "data": {
      "text/plain": [
       "['a^10', 'a^04', 'a^05', 'a', 'a^07', 'a^02', 'a^06', 'a^03', 'a^09', 'a^08']"
      ]
     },
     "execution_count": 13,
     "metadata": {},
     "output_type": "execute_result"
    }
   ],
   "source": [
    "alg.is_cyclic()"
   ]
  },
  {
   "cell_type": "code",
   "execution_count": 14,
   "id": "7c65a4f8",
   "metadata": {},
   "outputs": [
    {
     "name": "stdout",
     "output_type": "stream",
     "text": [
      "A4\n",
      "  False\n",
      "D3\n",
      "  False\n",
      "D4\n",
      "  False\n",
      "Pinter29\n",
      "  False\n",
      "RPS\n",
      "  False\n",
      "S3\n",
      "  False\n",
      "S3X\n",
      "  False\n",
      "V4\n",
      "  False\n",
      "Z4\n",
      "  ['a^3', 'a']\n",
      "F4\n",
      "  ['1+a', 'a']\n",
      "mag_id\n",
      "  ['b']\n",
      "Example 1.4.1\n",
      "  False\n",
      "Ex6\n",
      "  False\n",
      "Q8\n",
      "  False\n",
      "SD16\n",
      "  False\n",
      "A5\n",
      "  False\n",
      "F2\n",
      "  ['1']\n"
     ]
    }
   ],
   "source": [
    "for alg in ex:\n",
    "    print(alg.name)\n",
    "    print(f\"  {alg.is_cyclic()}\")"
   ]
  },
  {
   "cell_type": "code",
   "execution_count": 15,
   "id": "98eb50db",
   "metadata": {},
   "outputs": [
    {
     "name": "stdout",
     "output_type": "stream",
     "text": [
      "<Group:Z5, ID:4560568976>\n",
      "Generators: ['a^3', 'a', 'a^4', 'a^2']\n"
     ]
    }
   ],
   "source": [
    "z5 = generate_cyclic_group(5)\n",
    "print(z5)\n",
    "print(f\"Generators: {z5.is_cyclic()}\")"
   ]
  },
  {
   "cell_type": "code",
   "execution_count": 16,
   "id": "0550fc7b",
   "metadata": {},
   "outputs": [
    {
     "name": "stdout",
     "output_type": "stream",
     "text": [
      "<Group:Z5_x_Z5, ID:4545698320>\n",
      "Generators: False\n"
     ]
    }
   ],
   "source": [
    "z5_sqr = z5 * z5\n",
    "print(z5_sqr)\n",
    "print(f\"Generators: {z5_sqr.is_cyclic()}\")"
   ]
  },
  {
   "cell_type": "code",
   "execution_count": 17,
   "id": "f5763236",
   "metadata": {},
   "outputs": [
    {
     "name": "stdout",
     "output_type": "stream",
     "text": [
      "\n",
      "** Magma **\n",
      "Name: mag_id\n",
      "Instance ID: 4560254032\n",
      "Description: Magma with Identity\n",
      "Order: 3\n",
      "Identity: e\n",
      "Associative? No\n",
      "Commutative? No\n",
      "Cyclic?: Yes\n",
      "  Generators: ['b']\n",
      "Elements: ['e', 'a', 'b']\n",
      "Has Inverses? No\n",
      "Cayley Table (showing names):\n",
      "[['e', 'a', 'b'], ['a', 'e', 'a'], ['b', 'b', 'a']]\n"
     ]
    }
   ],
   "source": [
    "mag_id = ex[10]\n",
    "mag_id.about(use_table_names=True)"
   ]
  },
  {
   "cell_type": "code",
   "execution_count": 18,
   "id": "495649cd",
   "metadata": {},
   "outputs": [
    {
     "data": {
      "text/plain": [
       "['b']"
      ]
     },
     "execution_count": 18,
     "metadata": {},
     "output_type": "execute_result"
    }
   ],
   "source": [
    "mag_id.is_cyclic()"
   ]
  },
  {
   "cell_type": "markdown",
   "id": "9187dc10",
   "metadata": {},
   "source": [
    "## Center of a Group"
   ]
  },
  {
   "cell_type": "code",
   "execution_count": 19,
   "id": "d6eba260",
   "metadata": {},
   "outputs": [
    {
     "name": "stdout",
     "output_type": "stream",
     "text": [
      "\n",
      "** Group **\n",
      "Name: Q8\n",
      "Instance ID: 4560256080\n",
      "Description: Quaternion Group\n",
      "Order: 8\n",
      "Identity: 1\n",
      "Commutative? No\n",
      "Cyclic?: No\n",
      "Elements:\n",
      "   Index   Name   Inverse  Order\n",
      "      0       1       1       1\n",
      "      1       i      -i       4\n",
      "      2      -1      -1       2\n",
      "      3      -i       i       4\n",
      "      4       j      -j       4\n",
      "      5       k      -k       4\n",
      "      6      -j       j       4\n",
      "      7      -k       k       4\n",
      "Cayley Table (showing indices):\n",
      "[[0, 1, 2, 3, 4, 5, 6, 7],\n",
      " [1, 2, 3, 0, 7, 4, 5, 6],\n",
      " [2, 3, 0, 1, 6, 7, 4, 5],\n",
      " [3, 0, 1, 2, 5, 6, 7, 4],\n",
      " [4, 5, 6, 7, 2, 3, 0, 1],\n",
      " [5, 6, 7, 4, 1, 2, 3, 0],\n",
      " [6, 7, 4, 5, 0, 1, 2, 3],\n",
      " [7, 4, 5, 6, 3, 0, 1, 2]]\n"
     ]
    }
   ],
   "source": [
    "q8 = ex[13]\n",
    "q8.about()"
   ]
  },
  {
   "cell_type": "code",
   "execution_count": 20,
   "id": "89d1ce29",
   "metadata": {},
   "outputs": [
    {
     "name": "stdout",
     "output_type": "stream",
     "text": [
      "\n",
      "** Group **\n",
      "Name: Q8_CENTER\n",
      "Instance ID: 4560506128\n",
      "Description: Center of Q8\n",
      "Order: 2\n",
      "Identity: 1\n",
      "Commutative? Yes\n",
      "Cyclic?: Yes\n",
      "  Generators: ['-1']\n",
      "Elements:\n",
      "   Index   Name   Inverse  Order\n",
      "      0       1       1       1\n",
      "      1      -1      -1       2\n",
      "Cayley Table (showing indices):\n",
      "[[0, 1], [1, 0]]\n"
     ]
    }
   ],
   "source": [
    "q8_ctr = q8.center_algebra()\n",
    "q8_ctr.about()"
   ]
  },
  {
   "cell_type": "code",
   "execution_count": 21,
   "id": "bc8883a0",
   "metadata": {},
   "outputs": [
    {
     "name": "stdout",
     "output_type": "stream",
     "text": [
      "\n",
      "** Group **\n",
      "Name: SD16\n",
      "Instance ID: 4560256912\n",
      "Description: Semidihedral group of order 16\n",
      "Order: 16\n",
      "Identity: e\n",
      "Commutative? No\n",
      "Cyclic?: No\n",
      "Elements:\n",
      "   Index   Name   Inverse  Order\n",
      "      0       e       e       1\n",
      "      1       t       t       2\n",
      "      2       s  ts^2ts       8\n",
      "      3      st   s^2ts       4\n",
      "      4     s^2   ts^2t       4\n",
      "      5    s^2t    s^2t       2\n",
      "      6     tst  tsts^2       8\n",
      "      7      ts   sts^2       4\n",
      "      8    tsts    tsts       2\n",
      "      9     sts     sts       2\n",
      "     10  tsts^2     tst       8\n",
      "     11   s^2ts      st       4\n",
      "     12   ts^2t     s^2       4\n",
      "     13    ts^2    ts^2       2\n",
      "     14  ts^2ts       s       8\n",
      "     15   sts^2      ts       4\n",
      "Cayley Table (showing indices):\n",
      "[[0, 1, 2, 3, 4, 5, 6, 7, 8, 9, 10, 11, 12, 13, 14, 15],\n",
      " [1, 0, 7, 6, 13, 12, 3, 2, 9, 8, 15, 14, 5, 4, 11, 10],\n",
      " [2, 3, 4, 5, 6, 7, 8, 9, 10, 11, 12, 13, 14, 15, 0, 1],\n",
      " [3, 2, 9, 8, 15, 14, 5, 4, 11, 10, 1, 0, 7, 6, 13, 12],\n",
      " [4, 5, 6, 7, 8, 9, 10, 11, 12, 13, 14, 15, 0, 1, 2, 3],\n",
      " [5, 4, 11, 10, 1, 0, 7, 6, 13, 12, 3, 2, 9, 8, 15, 14],\n",
      " [6, 7, 8, 9, 10, 11, 12, 13, 14, 15, 0, 1, 2, 3, 4, 5],\n",
      " [7, 6, 13, 12, 3, 2, 9, 8, 15, 14, 5, 4, 11, 10, 1, 0],\n",
      " [8, 9, 10, 11, 12, 13, 14, 15, 0, 1, 2, 3, 4, 5, 6, 7],\n",
      " [9, 8, 15, 14, 5, 4, 11, 10, 1, 0, 7, 6, 13, 12, 3, 2],\n",
      " [10, 11, 12, 13, 14, 15, 0, 1, 2, 3, 4, 5, 6, 7, 8, 9],\n",
      " [11, 10, 1, 0, 7, 6, 13, 12, 3, 2, 9, 8, 15, 14, 5, 4],\n",
      " [12, 13, 14, 15, 0, 1, 2, 3, 4, 5, 6, 7, 8, 9, 10, 11],\n",
      " [13, 12, 3, 2, 9, 8, 15, 14, 5, 4, 11, 10, 1, 0, 7, 6],\n",
      " [14, 15, 0, 1, 2, 3, 4, 5, 6, 7, 8, 9, 10, 11, 12, 13],\n",
      " [15, 14, 5, 4, 11, 10, 1, 0, 7, 6, 13, 12, 3, 2, 9, 8]]\n"
     ]
    }
   ],
   "source": [
    "sd16 = ex[14]\n",
    "sd16.about(max_size=16)"
   ]
  },
  {
   "cell_type": "code",
   "execution_count": 22,
   "id": "f259619f",
   "metadata": {},
   "outputs": [
    {
     "name": "stdout",
     "output_type": "stream",
     "text": [
      "\n",
      "** Group **\n",
      "Name: SD16_CENTER\n",
      "Instance ID: 4560512144\n",
      "Description: Center of SD16\n",
      "Order: 2\n",
      "Identity: e\n",
      "Commutative? Yes\n",
      "Cyclic?: Yes\n",
      "  Generators: ['tsts']\n",
      "Elements:\n",
      "   Index   Name   Inverse  Order\n",
      "      0       e       e       1\n",
      "      1    tsts    tsts       2\n",
      "Cayley Table (showing indices):\n",
      "[[0, 1], [1, 0]]\n"
     ]
    }
   ],
   "source": [
    "sd16_ctr = sd16.center_algebra()\n",
    "sd16_ctr.about()"
   ]
  },
  {
   "cell_type": "code",
   "execution_count": 23,
   "id": "845c2f3f",
   "metadata": {},
   "outputs": [
    {
     "name": "stdout",
     "output_type": "stream",
     "text": [
      "\n",
      "** Semigroup **\n",
      "Name: Example 1.4.1\n",
      "Instance ID: 4560254992\n",
      "Description: See: Groupoids and Smarandache Groupoids by W. B. Vasantha Kandasamy\n",
      "Order: 6\n",
      "Identity: None\n",
      "Associative? Yes\n",
      "Commutative? No\n",
      "Cyclic?: No\n",
      "Elements: ['a', 'b', 'c', 'd', 'e', 'f']\n",
      "Has Inverses? No\n",
      "Cayley Table (showing indices):\n",
      "[[0, 3, 0, 3, 0, 3],\n",
      " [1, 4, 1, 4, 1, 4],\n",
      " [2, 5, 2, 5, 2, 5],\n",
      " [3, 0, 3, 0, 3, 0],\n",
      " [4, 1, 4, 1, 4, 1],\n",
      " [5, 2, 5, 2, 5, 2]]\n"
     ]
    }
   ],
   "source": [
    "ex141 = ex[11]\n",
    "ex141.about()"
   ]
  },
  {
   "cell_type": "code",
   "execution_count": 24,
   "id": "4428c488",
   "metadata": {},
   "outputs": [
    {
     "name": "stdout",
     "output_type": "stream",
     "text": [
      "<Semigroup:Example 1.4.1, ID:4560254992> does not have a Center.\n"
     ]
    }
   ],
   "source": [
    "ex141.center_algebra(verbose=True)"
   ]
  },
  {
   "cell_type": "code",
   "execution_count": 25,
   "id": "49072d9a",
   "metadata": {},
   "outputs": [
    {
     "name": "stdout",
     "output_type": "stream",
     "text": [
      "<Group:A4, ID:4406067856> ['()']\n",
      "<Group:D3, ID:4560250064> ['e']\n",
      "<Group:D4, ID:4560251536> ['e', 'r^2']\n",
      "<Group:Pinter29, ID:4560250512> ['I']\n",
      "<Magma:RPS, ID:4560251344> ['r', 'p', 's']\n",
      "<Group:S3, ID:4560252048> ['e']\n",
      "<Group:S3X, ID:4560252816> ['()']\n",
      "<Group:V4, ID:4560251856> ['e', 'h', 'v', 'r']\n",
      "<Group:Z4, ID:4560253200> ['e', 'a', 'a^2', 'a^3']\n",
      "<Field:F4, ID:4405929488> ['0', '1', 'a', '1+a']\n",
      "<Magma:mag_id, ID:4560254032> ['e']\n",
      "<Semigroup:Example 1.4.1, ID:4560254992> []\n",
      "<Ring:Ex6, ID:4560253136> ['0', 'a', 'b', 'c']\n",
      "<Group:Q8, ID:4560256080> ['1', '-1']\n",
      "<Group:SD16, ID:4560256912> ['e', 'tsts']\n",
      "<Group:A5, ID:4545809360> ['()']\n",
      "<Field:F2, ID:4560363216> ['0', '1']\n"
     ]
    }
   ],
   "source": [
    "for x in ex:\n",
    "    xctr = x.center()\n",
    "    print(x, xctr)"
   ]
  },
  {
   "cell_type": "markdown",
   "id": "41fdc38b",
   "metadata": {},
   "source": [
    "## Cancellation"
   ]
  },
  {
   "cell_type": "markdown",
   "id": "23981035",
   "metadata": {},
   "source": [
    "A Magma, $M = \\langle S, \\circ \\rangle$ is a **division Magma** if $\\forall a,b \\in S, \\exists x,y \\in S$ such that $a \\circ x = b$ and $y \\circ a = b$."
   ]
  },
  {
   "cell_type": "code",
   "execution_count": 26,
   "id": "ccbe2cc7",
   "metadata": {},
   "outputs": [
    {
     "name": "stdout",
     "output_type": "stream",
     "text": [
      "======================================================================\n",
      "                           Example Algebras\n",
      "----------------------------------------------------------------------\n",
      "  17 example algebras are available.\n",
      "  Use \"Examples[INDEX]\" to retrieve a specific example,\n",
      "  where INDEX is the first number on each line below:\n",
      "----------------------------------------------------------------------\n",
      "0: A4 -- Alternating group on 4 letters (AKA Tetrahedral group)\n",
      "1: D3 -- https://en.wikipedia.org/wiki/Dihedral_group_of_order_6\n",
      "2: D4 -- Dihedral group on four vertices\n",
      "3: Pinter29 -- Non-abelian group, p.29, 'A Book of Abstract Algebra' by Charles C. Pinter\n",
      "4: RPS -- Rock, Paper, Scissors Magma\n",
      "5: S3 -- Symmetric group on 3 letters\n",
      "6: S3X -- Another version of the symmetric group on 3 letters\n",
      "7: V4 -- Klein-4 group\n",
      "8: Z4 -- Cyclic group of order 4\n",
      "9: F4 -- Field with 4 elements (from Wikipedia)\n",
      "10: mag_id -- Magma with Identity\n",
      "11: Example 1.4.1 -- See: Groupoids and Smarandache Groupoids by W. B. Vasantha Kandasamy\n",
      "12: Ex6 -- Example 6: http://www-groups.mcs.st-andrews.ac.uk/~john/MT4517/Lectures/L3.html\n",
      "13: Q8 -- Quaternion Group\n",
      "14: SD16 -- Semidihedral group of order 16\n",
      "15: A5 -- Alternating group on 5 letters\n",
      "16: F2 -- Field with 2 elements from paper: 236w06fields.pdf\n",
      "======================================================================\n"
     ]
    }
   ],
   "source": [
    "ex.about()"
   ]
  },
  {
   "cell_type": "code",
   "execution_count": 27,
   "id": "ff9c3cec",
   "metadata": {},
   "outputs": [
    {
     "name": "stdout",
     "output_type": "stream",
     "text": [
      "\n",
      "** Magma **\n",
      "Name: mag_id\n",
      "Instance ID: 4560254032\n",
      "Description: Magma with Identity\n",
      "Order: 3\n",
      "Identity: e\n",
      "Associative? No\n",
      "Commutative? No\n",
      "Cyclic?: Yes\n",
      "  Generators: ['b']\n",
      "Elements: ['e', 'a', 'b']\n",
      "Has Inverses? No\n",
      "Cayley Table (showing indices):\n",
      "[[0, 1, 2], [1, 0, 1], [2, 2, 1]]\n"
     ]
    }
   ],
   "source": [
    "alg = ex[10]\n",
    "alg.about()"
   ]
  },
  {
   "cell_type": "code",
   "execution_count": 28,
   "id": "68a5e262",
   "metadata": {},
   "outputs": [
    {
     "name": "stdout",
     "output_type": "stream",
     "text": [
      "\n",
      "<Magma:mag_id, ID:4560254032>\n",
      "\n",
      "('e', 'e') & ('e', 'e')\n",
      "('e', 'a') & ('a', 'a')\n",
      "('e', 'b') & ('b', 'b')\n",
      "('a', 'e') & ('a', 'a')\n",
      "('a', 'a') & ('e', 'e')\n",
      "('a', 'b') fail\n",
      "('b', 'e') fail\n",
      "('b', 'a') & ('b', 'a')\n",
      "('b', 'b') & ('e', 'e')\n"
     ]
    }
   ],
   "source": [
    "import itertools as it\n",
    "\n",
    "print(f\"\\n{alg}\\n\")\n",
    "\n",
    "for ab in it.product(alg.elements, alg.elements):\n",
    "    ab_ok = False\n",
    "    for xy in it.product(alg.elements, alg.elements):\n",
    "        a = ab[0]; b = ab[1]; x = xy[0]; y = xy[1]\n",
    "        if alg.op(a, x) == b and alg.op(y, a) == b:\n",
    "            print(f\"{ab} & {xy}\")\n",
    "            ab_ok = True\n",
    "            break\n",
    "    if not ab_ok:\n",
    "        print(f\"{ab} fail\")"
   ]
  },
  {
   "cell_type": "code",
   "execution_count": 29,
   "id": "a5cfd125",
   "metadata": {},
   "outputs": [],
   "source": [
    "import itertools as it\n",
    "\n",
    "def is_division_algebra(alg, verbose=False):\n",
    "    if verbose:\n",
    "        print(f\"\\n{alg}\\n\")\n",
    "    result = True\n",
    "    for ab in it.product(alg.elements, alg.elements):\n",
    "        ab_ok = False\n",
    "        for xy in it.product(alg.elements, alg.elements):\n",
    "            a = ab[0]; b = ab[1]; x = xy[0]; y = xy[1]\n",
    "            if alg.op(a, x) == b and alg.op(y, a) == b:\n",
    "                if verbose:\n",
    "                    print(f\"{ab} & {xy}\")\n",
    "                ab_ok = True\n",
    "                break\n",
    "        if not ab_ok:\n",
    "            result = False\n",
    "            if verbose:\n",
    "                print(f\"{ab} fail\")\n",
    "    return result"
   ]
  },
  {
   "cell_type": "code",
   "execution_count": 30,
   "id": "b03d9552",
   "metadata": {},
   "outputs": [
    {
     "name": "stdout",
     "output_type": "stream",
     "text": [
      "\n",
      "<Magma:RPS, ID:4560251344>\n",
      "\n",
      "('r', 'r') & ('r', 'r')\n",
      "('r', 'p') & ('p', 'p')\n",
      "('r', 's') fail\n",
      "('p', 'r') fail\n",
      "('p', 'p') & ('r', 'r')\n",
      "('p', 's') & ('s', 's')\n",
      "('s', 'r') & ('r', 'r')\n",
      "('s', 'p') fail\n",
      "('s', 's') & ('p', 'p')\n"
     ]
    },
    {
     "data": {
      "text/plain": [
       "False"
      ]
     },
     "execution_count": 30,
     "metadata": {},
     "output_type": "execute_result"
    }
   ],
   "source": [
    "is_division_algebra(ex[4], verbose=True)"
   ]
  },
  {
   "cell_type": "code",
   "execution_count": null,
   "id": "393fb8cf",
   "metadata": {},
   "outputs": [],
   "source": []
  },
  {
   "cell_type": "code",
   "execution_count": 31,
   "id": "0f3cccd2",
   "metadata": {},
   "outputs": [
    {
     "name": "stdout",
     "output_type": "stream",
     "text": [
      "A4? Yes\n",
      "D3? Yes\n",
      "D4? Yes\n",
      "Pinter29? Yes\n",
      "RPS? No\n",
      "S3? Yes\n",
      "S3X? Yes\n",
      "V4? Yes\n",
      "Z4? Yes\n",
      "F4? Yes\n",
      "mag_id? No\n",
      "Example 1.4.1? No\n",
      "Ex6? Yes\n",
      "Q8? Yes\n",
      "SD16? Yes\n",
      "A5? Yes\n",
      "F2? Yes\n"
     ]
    }
   ],
   "source": [
    "for alg in ex:\n",
    "    print(f\"{alg.name}? {yes_or_no(is_division_algebra(alg))}\")"
   ]
  },
  {
   "cell_type": "code",
   "execution_count": 32,
   "id": "cd61c1b7",
   "metadata": {},
   "outputs": [
    {
     "name": "stdout",
     "output_type": "stream",
     "text": [
      "======================================================================\n",
      "                           Example Algebras\n",
      "----------------------------------------------------------------------\n",
      "  17 example algebras are available.\n",
      "  Use \"Examples[INDEX]\" to retrieve a specific example,\n",
      "  where INDEX is the first number on each line below:\n",
      "----------------------------------------------------------------------\n",
      "0: A4 -- Alternating group on 4 letters (AKA Tetrahedral group)\n",
      "1: D3 -- https://en.wikipedia.org/wiki/Dihedral_group_of_order_6\n",
      "2: D4 -- Dihedral group on four vertices\n",
      "3: Pinter29 -- Non-abelian group, p.29, 'A Book of Abstract Algebra' by Charles C. Pinter\n",
      "4: RPS -- Rock, Paper, Scissors Magma\n",
      "5: S3 -- Symmetric group on 3 letters\n",
      "6: S3X -- Another version of the symmetric group on 3 letters\n",
      "7: V4 -- Klein-4 group\n",
      "8: Z4 -- Cyclic group of order 4\n",
      "9: F4 -- Field with 4 elements (from Wikipedia)\n",
      "10: mag_id -- Magma with Identity\n",
      "11: Example 1.4.1 -- See: Groupoids and Smarandache Groupoids by W. B. Vasantha Kandasamy\n",
      "12: Ex6 -- Example 6: http://www-groups.mcs.st-andrews.ac.uk/~john/MT4517/Lectures/L3.html\n",
      "13: Q8 -- Quaternion Group\n",
      "14: SD16 -- Semidihedral group of order 16\n",
      "15: A5 -- Alternating group on 5 letters\n",
      "16: F2 -- Field with 2 elements from paper: 236w06fields.pdf\n",
      "======================================================================\n"
     ]
    }
   ],
   "source": [
    "ex.about()"
   ]
  },
  {
   "cell_type": "markdown",
   "id": "fb6f15bb",
   "metadata": {},
   "source": [
    "## Regularity in Semigroups"
   ]
  },
  {
   "cell_type": "markdown",
   "id": "476df2f2",
   "metadata": {},
   "source": [
    "See the paper by John Howie (ref below)\n",
    "\n",
    "A Semigroup, $\\langle S, \\circ \\rangle$ is **regular** if $\\forall a \\in S, \\exists x \\in S$ such that $a \\circ x \\circ a = a$."
   ]
  },
  {
   "cell_type": "code",
   "execution_count": 33,
   "id": "be77795d",
   "metadata": {},
   "outputs": [
    {
     "name": "stdout",
     "output_type": "stream",
     "text": [
      "\n",
      "** Group **\n",
      "Name: D3\n",
      "Instance ID: 4560250064\n",
      "Description: https://en.wikipedia.org/wiki/Dihedral_group_of_order_6\n",
      "Order: 6\n",
      "Identity: e\n",
      "Commutative? No\n",
      "Cyclic?: No\n",
      "Elements:\n",
      "   Index   Name   Inverse  Order\n",
      "      0       e       e       1\n",
      "      1       a       a       2\n",
      "      2       b       b       2\n",
      "      3     aba     aba       2\n",
      "      4      ab      ba       3\n",
      "      5      ba      ab       3\n",
      "Cayley Table (showing indices):\n",
      "[[0, 1, 2, 3, 4, 5],\n",
      " [1, 0, 4, 5, 2, 3],\n",
      " [2, 5, 0, 4, 3, 1],\n",
      " [3, 4, 5, 0, 1, 2],\n",
      " [4, 3, 1, 2, 5, 0],\n",
      " [5, 2, 3, 1, 0, 4]]\n"
     ]
    }
   ],
   "source": [
    "alg = ex[1]\n",
    "alg.about()"
   ]
  },
  {
   "cell_type": "code",
   "execution_count": 34,
   "id": "e33ff21d",
   "metadata": {},
   "outputs": [
    {
     "name": "stdout",
     "output_type": "stream",
     "text": [
      "a = ab\n",
      "a_inv = ba\n",
      "[False, False, False, False, False, True]\n"
     ]
    },
    {
     "data": {
      "text/plain": [
       "True"
      ]
     },
     "execution_count": 34,
     "metadata": {},
     "output_type": "execute_result"
    }
   ],
   "source": [
    "a = alg.elements[4]\n",
    "print(f\"a = {a}\")\n",
    "print(f\"a_inv = {alg.inv(a)}\")\n",
    "\n",
    "[x for x in alg if alg.op(alg.op(a, x), a) == a]\n",
    "print([alg.op(alg.op(a, x), a) == a for x in alg])\n",
    "any([alg.op(alg.op(a, x), a) == a for x in alg])"
   ]
  },
  {
   "cell_type": "raw",
   "id": "68cde9c7",
   "metadata": {},
   "source": [
    "def is_regular(alg):\n",
    "    return all([any([alg.op(alg.op(a, x), a) == a for x in alg]) for a in alg])"
   ]
  },
  {
   "cell_type": "code",
   "execution_count": null,
   "id": "2383781b",
   "metadata": {},
   "outputs": [],
   "source": []
  },
  {
   "cell_type": "code",
   "execution_count": 35,
   "id": "0692b463",
   "metadata": {},
   "outputs": [
    {
     "name": "stdout",
     "output_type": "stream",
     "text": [
      "A4 True\n",
      "D3 True\n",
      "D4 True\n",
      "Pinter29 True\n",
      "S3 True\n",
      "S3X True\n",
      "V4 True\n",
      "Z4 True\n",
      "F4 True\n",
      "Example 1.4.1 True\n",
      "Ex6 True\n",
      "Q8 True\n",
      "SD16 True\n",
      "A5 True\n",
      "F2 True\n"
     ]
    }
   ],
   "source": [
    "for alg in ex:\n",
    "    #print(alg.name, all([any([alg.op(alg.op(a, x), a) == a for x in alg]) for a in alg]))\n",
    "    if isinstance(alg, Semigroup):\n",
    "        print(alg.name, alg.is_regular())"
   ]
  },
  {
   "cell_type": "code",
   "execution_count": 36,
   "id": "c9a3bec8",
   "metadata": {},
   "outputs": [
    {
     "name": "stdout",
     "output_type": "stream",
     "text": [
      "\n",
      "** Monoid **\n",
      "Name: M8\n",
      "Instance ID: 4560646288\n",
      "Description: Autogenerated commutative Monoid of order 8\n",
      "Order: 8\n",
      "Identity: a1\n",
      "Associative? Yes\n",
      "Commutative? Yes\n",
      "Cyclic?: No\n",
      "Elements: ['a0', 'a1', 'a2', 'a3', 'a4', 'a5', 'a6', 'a7']\n",
      "Has Inverses? No\n",
      "Cayley Table (showing indices):\n",
      "[[0, 0, 0, 0, 0, 0, 0, 0],\n",
      " [0, 1, 2, 3, 4, 5, 6, 7],\n",
      " [0, 2, 4, 6, 0, 2, 4, 6],\n",
      " [0, 3, 6, 1, 4, 7, 2, 5],\n",
      " [0, 4, 0, 4, 0, 4, 0, 4],\n",
      " [0, 5, 2, 7, 4, 1, 6, 3],\n",
      " [0, 6, 4, 2, 0, 6, 4, 2],\n",
      " [0, 7, 6, 5, 4, 3, 2, 1]]\n"
     ]
    }
   ],
   "source": [
    "alg = generate_commutative_monoid(8)\n",
    "alg.about()"
   ]
  },
  {
   "cell_type": "raw",
   "id": "76053eef",
   "metadata": {},
   "source": [
    "def weak_inverses(alg):\n",
    "    return {a:[x for x in alg if alg.op(alg.op(a, x), a) == a] for a in alg}"
   ]
  },
  {
   "cell_type": "code",
   "execution_count": 37,
   "id": "0ef0a948",
   "metadata": {},
   "outputs": [
    {
     "data": {
      "text/plain": [
       "False"
      ]
     },
     "execution_count": 37,
     "metadata": {},
     "output_type": "execute_result"
    }
   ],
   "source": [
    "alg.is_regular()"
   ]
  },
  {
   "cell_type": "code",
   "execution_count": 38,
   "id": "1870b917",
   "metadata": {},
   "outputs": [
    {
     "data": {
      "text/plain": [
       "{'a0': ['a0', 'a1', 'a2', 'a3', 'a4', 'a5', 'a6', 'a7'],\n",
       " 'a1': ['a1'],\n",
       " 'a2': [],\n",
       " 'a3': ['a3'],\n",
       " 'a4': [],\n",
       " 'a5': ['a5'],\n",
       " 'a6': [],\n",
       " 'a7': ['a7']}"
      ]
     },
     "execution_count": 38,
     "metadata": {},
     "output_type": "execute_result"
    }
   ],
   "source": [
    "alg.weak_inverses()"
   ]
  },
  {
   "cell_type": "code",
   "execution_count": 39,
   "id": "9177ba37",
   "metadata": {},
   "outputs": [
    {
     "data": {
      "text/plain": [
       "[4, 8, 9, 12, 16, 18, 20, 24, 25, 27, 28, 32, 36, 40, 44, 45, 48, 49]"
      ]
     },
     "execution_count": 39,
     "metadata": {},
     "output_type": "execute_result"
    }
   ],
   "source": [
    "[i for i in range(1, 50) if not generate_commutative_monoid(i).is_regular()]"
   ]
  },
  {
   "cell_type": "raw",
   "id": "63984d53",
   "metadata": {},
   "source": [
    "What is the pattern here w.r.t. non-regular Monoid orders?\n",
    "\n",
    "[i for i in range(1, 50) if not generate_commutative_monoid(i).is_regular()]\n",
    "\n",
    "[4, 8, 9, 12, 16, 18, 20, 24, 25, 27, 28, 32, 36, 40, 44, 45, 48, 49]"
   ]
  },
  {
   "cell_type": "markdown",
   "id": "7897ab68",
   "metadata": {},
   "source": [
    "See https://en.wikipedia.org/wiki/Cancellation_property\n",
    "\n",
    "and https://math.stackexchange.com/questions/4008196/defining-loops-why-is-divisibility-and-identitiy-implying-invertibility\n",
    "\n",
    "and [\"Why Study Semigroups?\" by John M. Howie](http://www.thebookshelf.auckland.ac.nz/docs/Maths/PDF2/mathschron016-001.pdf)"
   ]
  }
 ],
 "metadata": {
  "kernelspec": {
   "display_name": "Python 3 (ipykernel)",
   "language": "python",
   "name": "python3"
  },
  "language_info": {
   "codemirror_mode": {
    "name": "ipython",
    "version": 3
   },
   "file_extension": ".py",
   "mimetype": "text/x-python",
   "name": "python",
   "nbconvert_exporter": "python",
   "pygments_lexer": "ipython3",
   "version": "3.11.4"
  }
 },
 "nbformat": 4,
 "nbformat_minor": 5
}
