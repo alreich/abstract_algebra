{
 "cells": [
  {
   "cell_type": "markdown",
   "id": "0cb84765",
   "metadata": {},
   "source": [
    "# Scratchwork 2"
   ]
  },
  {
   "cell_type": "code",
   "execution_count": 1,
   "id": "93476262",
   "metadata": {},
   "outputs": [],
   "source": [
    "from cayley_table import CayleyTable\n",
    "from finite_algebras import *"
   ]
  },
  {
   "cell_type": "code",
   "execution_count": 2,
   "id": "e496d961",
   "metadata": {},
   "outputs": [],
   "source": [
    "rps_table = [[0, 1, 0], [1, 1, 2], [0, 2, 2]]"
   ]
  },
  {
   "cell_type": "code",
   "execution_count": 3,
   "id": "a68137d3",
   "metadata": {},
   "outputs": [
    {
     "data": {
      "text/plain": [
       "Magma(\n",
       "RPS,\n",
       "Rock, Paper, Scissors,\n",
       "['r', 'p', 's'],\n",
       "[[0, 1, 0], [1, 1, 2], [0, 2, 2]]\n",
       ")"
      ]
     },
     "execution_count": 3,
     "metadata": {},
     "output_type": "execute_result"
    }
   ],
   "source": [
    "rps = Magma('RPS', \"Rock, Paper, Scissors\", ['r', 'p', 's'], rps_table)\n",
    "rps"
   ]
  },
  {
   "cell_type": "raw",
   "id": "7bee876d",
   "metadata": {},
   "source": [
    "def finite_algebra_dict(*args):\n",
    "    \"\"\"Return a dictionary that specifies the type of algebra that the input arguments support\n",
    "    and some of its properties.\"\"\"\n",
    "\n",
    "    if len(args) == 1:\n",
    "\n",
    "        # Create from a JSON file\n",
    "        if isinstance(args[0], str):\n",
    "            with open(args[0], 'r') as fin:\n",
    "                finalg_dict = json.load(fin)\n",
    "\n",
    "        # Create from a dictionary\n",
    "        elif isinstance(args[0], dict):\n",
    "            finalg_dict = args[0]\n",
    "\n",
    "        else:\n",
    "            raise ValueError(\"If there's a single input, then it must be a string or a dictionary.\")\n",
    "\n",
    "    elif len(args) == 4:\n",
    "\n",
    "        finalg_dict = {'name': args[0],\n",
    "                       'description': args[1],\n",
    "                       'element_names': args[2],\n",
    "                       'mult_table': args[3]\n",
    "                       }\n",
    "    else:\n",
    "        raise ValueError(\"Incorrect number of input arguments.\")\n",
    "\n",
    "    tbl = finalg_dict['mult_table']\n",
    "    # Check if first element in table is a string\n",
    "    if isinstance(tbl[0][0], str):\n",
    "        tbl = index_table_from_name_table(finalg_dict['element_names'], tbl)\n",
    "    finalg_dict['table'] = CayleyTable(tbl)\n",
    "    del finalg_dict['mult_table']\n",
    "\n",
    "    finalg_dict['is_associative'] = finalg_dict['table'].is_associative()\n",
    "    finalg_dict['is_commutative'] = finalg_dict['table'].is_commutative()\n",
    "    finalg_dict['identity'] = finalg_dict['table'].identity()\n",
    "\n",
    "    if finalg_dict['identity'] is not None:\n",
    "        finalg_dict['inverses'] = finalg_dict['table'].inverse_lookup_dict(finalg_dict['identity'])\n",
    "    else:\n",
    "        inverses = None\n",
    "\n",
    "\n",
    "    if finalg_dict['is_associative']:\n",
    "        if finalg_dict['identity'] is not None:\n",
    "            if finalg_dict['inverses']:\n",
    "                finalg_dict['type'] = 'Group'\n",
    "            else:\n",
    "                finalg_dict['type'] = 'Monoid'\n",
    "        else:\n",
    "            finalg_dict['type'] = 'Semigroup'\n",
    "    else:\n",
    "        finalg_dict['type'] = 'Magma'\n",
    "    \n",
    "    return finalg_dict"
   ]
  },
  {
   "cell_type": "code",
   "execution_count": 17,
   "id": "3f046fea",
   "metadata": {},
   "outputs": [],
   "source": [
    "def make_finite_algebra(*args):\n",
    "    \"\"\"Return a finite algebra of the appropriate class, according to the input table.\"\"\"\n",
    "\n",
    "    if len(args) == 1:\n",
    "\n",
    "        # Create from a JSON file\n",
    "        if isinstance(args[0], str):\n",
    "            with open(args[0], 'r') as fin:\n",
    "                finalg_dict = json.load(fin)\n",
    "\n",
    "        # Create from a dictionary\n",
    "        elif isinstance(args[0], dict):\n",
    "            finalg_dict = args[0]\n",
    "\n",
    "        else:\n",
    "            raise ValueError(\"If there's a single input, then it must be a string or a dictionary.\")\n",
    "\n",
    "    elif len(args) == 4:\n",
    "\n",
    "        finalg_dict = {'name': args[0],\n",
    "                       'description': args[1],\n",
    "                       'element_names': args[2],\n",
    "                       'mult_table': args[3]\n",
    "                       }\n",
    "    else:\n",
    "        raise ValueError(\"Incorrect number of input arguments.\")\n",
    "    \n",
    "    name = finalg_dict['name']\n",
    "    desc = finalg_dict['description']\n",
    "    elems = finalg_dict['element_names']\n",
    "    tbl = finalg_dict['mult_table']\n",
    "    # Check if first element in table is a string\n",
    "    if isinstance(tbl[0][0], str):\n",
    "        tbl = index_table_from_name_table(elems, tbl)\n",
    "    table = CayleyTable(tbl)\n",
    "\n",
    "    is_assoc = table.is_associative()\n",
    "    # is_comm = table.is_commutative()\n",
    "    identity = table.identity()\n",
    "\n",
    "    if identity is not None:\n",
    "        inverses = table.inverse_lookup_dict(identity)\n",
    "    else:\n",
    "        inverses = None\n",
    "\n",
    "    if is_assoc:\n",
    "        if identity is not None:\n",
    "            print(f\"identity = {identity}\")\n",
    "            if inverses:\n",
    "                print(f\"inverses = {inverses}\")\n",
    "                return Group(name, desc, elems, table)\n",
    "            else:\n",
    "                return Monoid(name, desc, elems, table)\n",
    "        else:\n",
    "            return Semigroup(name, desc, elems, table)\n",
    "    else:\n",
    "        return Magma(name, desc, elems, table)"
   ]
  },
  {
   "cell_type": "code",
   "execution_count": 25,
   "id": "4ae614d4",
   "metadata": {},
   "outputs": [],
   "source": [
    "def index_table_from_name_table(elements, name_table):\n",
    "    return [[elements.index(elem_name) for elem_name in row] for row in name_table]"
   ]
  },
  {
   "cell_type": "raw",
   "id": "a9b0875d",
   "metadata": {},
   "source": [
    "rps_dict = finite_algebra_dict('RPS', \"Rock, Paper, Scissors\", ['r', 'p', 's'], rps_table)\n",
    "rps_dict"
   ]
  },
  {
   "cell_type": "code",
   "execution_count": 26,
   "id": "240cf05d",
   "metadata": {},
   "outputs": [
    {
     "data": {
      "text/plain": [
       "[[0, 1, 0], [1, 1, 2], [0, 2, 2]]"
      ]
     },
     "execution_count": 26,
     "metadata": {},
     "output_type": "execute_result"
    }
   ],
   "source": [
    "rps_table"
   ]
  },
  {
   "cell_type": "code",
   "execution_count": 27,
   "id": "5eaa0a21",
   "metadata": {},
   "outputs": [
    {
     "data": {
      "text/plain": [
       "Magma(\n",
       "RPS,\n",
       "Rock, Paper, Scissors,\n",
       "['r', 'p', 's'],\n",
       "[[0, 1, 0], [1, 1, 2], [0, 2, 2]]\n",
       ")"
      ]
     },
     "execution_count": 27,
     "metadata": {},
     "output_type": "execute_result"
    }
   ],
   "source": [
    "make_finite_algebra('RPS', \"Rock, Paper, Scissors\", ['r', 'p', 's'], rps_table)"
   ]
  },
  {
   "cell_type": "code",
   "execution_count": 28,
   "id": "1227a4e6",
   "metadata": {},
   "outputs": [
    {
     "data": {
      "text/plain": [
       "Magma(\n",
       "RPS,\n",
       "Rock, Paper, Scissors,\n",
       "['r', 'p', 's'],\n",
       "[[0, 1, 0], [1, 1, 2], [0, 2, 2]]\n",
       ")"
      ]
     },
     "execution_count": 28,
     "metadata": {},
     "output_type": "execute_result"
    }
   ],
   "source": [
    "finite_algebra_maker('RPS', \"Rock, Paper, Scissors\", ['r', 'p', 's'], rps_table)"
   ]
  },
  {
   "cell_type": "code",
   "execution_count": 29,
   "id": "997b32ef",
   "metadata": {},
   "outputs": [
    {
     "data": {
      "text/plain": [
       "Magma(\n",
       "RPS,\n",
       "Rock, Paper, Scissors,\n",
       "['r', 'p', 's'],\n",
       "[[0, 1, 0], [1, 1, 2], [0, 2, 2]]\n",
       ")"
      ]
     },
     "execution_count": 29,
     "metadata": {},
     "output_type": "execute_result"
    }
   ],
   "source": [
    "Magma('RPS', \"Rock, Paper, Scissors\", ['r', 'p', 's'], rps_table)"
   ]
  },
  {
   "cell_type": "code",
   "execution_count": null,
   "id": "e9c8a943",
   "metadata": {},
   "outputs": [],
   "source": []
  },
  {
   "cell_type": "code",
   "execution_count": null,
   "id": "5160b97e",
   "metadata": {},
   "outputs": [],
   "source": []
  },
  {
   "cell_type": "code",
   "execution_count": 30,
   "id": "9e8efb0d",
   "metadata": {},
   "outputs": [],
   "source": [
    "ex141_tbl = [[0, 3, 0, 3, 0, 3],\n",
    "             [1, 4, 1, 4, 1, 4],\n",
    "             [2, 5, 2, 5, 2, 5],\n",
    "             [3, 0, 3, 0, 3, 0],\n",
    "             [4, 1, 4, 1, 4, 1],\n",
    "             [5, 2, 5, 2, 5, 2]]"
   ]
  },
  {
   "cell_type": "code",
   "execution_count": null,
   "id": "220e6619",
   "metadata": {},
   "outputs": [],
   "source": []
  },
  {
   "cell_type": "code",
   "execution_count": 31,
   "id": "0fab6774",
   "metadata": {},
   "outputs": [
    {
     "name": "stdout",
     "output_type": "stream",
     "text": [
      "*** Check for associativity ***\n",
      "*** PASSED\n"
     ]
    },
    {
     "data": {
      "text/plain": [
       "Semigroup(\n",
       "Example 141,\n",
       "Smarandache,\n",
       "['a', 'b', 'c', 'd', 'e', 'f'],\n",
       "[[0, 3, 0, 3, 0, 3], [1, 4, 1, 4, 1, 4], [2, 5, 2, 5, 2, 5], [3, 0, 3, 0, 3, 0], [4, 1, 4, 1, 4, 1], [5, 2, 5, 2, 5, 2]]\n",
       ")"
      ]
     },
     "execution_count": 31,
     "metadata": {},
     "output_type": "execute_result"
    }
   ],
   "source": [
    "ex141_magma = make_finite_algebra(\"Example 141\", \"Smarandache\", ['a', 'b', 'c', 'd', 'e', 'f'], ex141_tbl)\n",
    "ex141_magma"
   ]
  },
  {
   "cell_type": "code",
   "execution_count": 32,
   "id": "d95b4bf4",
   "metadata": {},
   "outputs": [
    {
     "name": "stdout",
     "output_type": "stream",
     "text": [
      "*** Check for associativity ***\n",
      "*** PASSED\n"
     ]
    },
    {
     "data": {
      "text/plain": [
       "Semigroup(\n",
       "Example 141,\n",
       "Smarandache,\n",
       "['a', 'b', 'c', 'd', 'e', 'f'],\n",
       "[[0, 3, 0, 3, 0, 3], [1, 4, 1, 4, 1, 4], [2, 5, 2, 5, 2, 5], [3, 0, 3, 0, 3, 0], [4, 1, 4, 1, 4, 1], [5, 2, 5, 2, 5, 2]]\n",
       ")"
      ]
     },
     "execution_count": 32,
     "metadata": {},
     "output_type": "execute_result"
    }
   ],
   "source": [
    "ex141_magma = finite_algebra_maker(\"Example 141\", \"Smarandache\", ['a', 'b', 'c', 'd', 'e', 'f'], ex141_tbl)\n",
    "ex141_magma"
   ]
  },
  {
   "cell_type": "code",
   "execution_count": 33,
   "id": "30b1fe2a",
   "metadata": {},
   "outputs": [],
   "source": [
    "import os, json\n",
    "aa_path = os.path.join(os.getenv(\"PYPROJ\"), \"abstract_algebra\")\n",
    "alg_dir = os.path.join(aa_path, \"Algebras\")"
   ]
  },
  {
   "cell_type": "code",
   "execution_count": 34,
   "id": "f8e8d8ce",
   "metadata": {},
   "outputs": [
    {
     "name": "stdout",
     "output_type": "stream",
     "text": [
      "{\"type\": \"Group\",\r\n",
      " \"name\": \"V4\",\r\n",
      " \"description\": \"Klein-4 group\",\r\n",
      " \"element_names\": [\"e\", \"h\", \"v\", \"r\"],\r\n",
      " \"mult_table\": [[0, 1, 2, 3],\r\n",
      "                [1, 0, 3, 2],\r\n",
      "                [2, 3, 0, 1],\r\n",
      "                [3, 2, 1, 0]]\r\n",
      "}\r\n"
     ]
    }
   ],
   "source": [
    "v4_json = os.path.join(alg_dir, \"v4_klein_4_group.json\")\n",
    "!cat {v4_json}"
   ]
  },
  {
   "cell_type": "code",
   "execution_count": 35,
   "id": "4648ff1b",
   "metadata": {},
   "outputs": [
    {
     "name": "stdout",
     "output_type": "stream",
     "text": [
      "identity = 0\n",
      "inverses = {0: 0, 1: 1, 2: 2, 3: 3}\n",
      "*** Check for associativity ***\n",
      "*** PASSED\n",
      "*** Check for identity element ***\n"
     ]
    },
    {
     "ename": "ValueError",
     "evalue": "Table has no identity element",
     "output_type": "error",
     "traceback": [
      "\u001b[0;31m---------------------------------------------------------------------------\u001b[0m",
      "\u001b[0;31mValueError\u001b[0m                                Traceback (most recent call last)",
      "\u001b[0;32m<ipython-input-35-bf8d65a9ff64>\u001b[0m in \u001b[0;36m<module>\u001b[0;34m\u001b[0m\n\u001b[0;32m----> 1\u001b[0;31m \u001b[0mv4_dict\u001b[0m \u001b[0;34m=\u001b[0m \u001b[0mmake_finite_algebra\u001b[0m\u001b[0;34m(\u001b[0m\u001b[0mv4_json\u001b[0m\u001b[0;34m)\u001b[0m\u001b[0;34m\u001b[0m\u001b[0;34m\u001b[0m\u001b[0m\n\u001b[0m\u001b[1;32m      2\u001b[0m \u001b[0mv4_dict\u001b[0m\u001b[0;34m\u001b[0m\u001b[0;34m\u001b[0m\u001b[0m\n",
      "\u001b[0;32m<ipython-input-17-001a99f7aa9b>\u001b[0m in \u001b[0;36mmake_finite_algebra\u001b[0;34m(*args)\u001b[0m\n\u001b[1;32m     49\u001b[0m             \u001b[0;32mif\u001b[0m \u001b[0minverses\u001b[0m\u001b[0;34m:\u001b[0m\u001b[0;34m\u001b[0m\u001b[0;34m\u001b[0m\u001b[0m\n\u001b[1;32m     50\u001b[0m                 \u001b[0mprint\u001b[0m\u001b[0;34m(\u001b[0m\u001b[0;34mf\"inverses = {inverses}\"\u001b[0m\u001b[0;34m)\u001b[0m\u001b[0;34m\u001b[0m\u001b[0;34m\u001b[0m\u001b[0m\n\u001b[0;32m---> 51\u001b[0;31m                 \u001b[0;32mreturn\u001b[0m \u001b[0mGroup\u001b[0m\u001b[0;34m(\u001b[0m\u001b[0mname\u001b[0m\u001b[0;34m,\u001b[0m \u001b[0mdesc\u001b[0m\u001b[0;34m,\u001b[0m \u001b[0melems\u001b[0m\u001b[0;34m,\u001b[0m \u001b[0mtable\u001b[0m\u001b[0;34m)\u001b[0m\u001b[0;34m\u001b[0m\u001b[0;34m\u001b[0m\u001b[0m\n\u001b[0m\u001b[1;32m     52\u001b[0m             \u001b[0;32melse\u001b[0m\u001b[0;34m:\u001b[0m\u001b[0;34m\u001b[0m\u001b[0;34m\u001b[0m\u001b[0m\n\u001b[1;32m     53\u001b[0m                 \u001b[0;32mreturn\u001b[0m \u001b[0mMonoid\u001b[0m\u001b[0;34m(\u001b[0m\u001b[0mname\u001b[0m\u001b[0;34m,\u001b[0m \u001b[0mdesc\u001b[0m\u001b[0;34m,\u001b[0m \u001b[0melems\u001b[0m\u001b[0;34m,\u001b[0m \u001b[0mtable\u001b[0m\u001b[0;34m)\u001b[0m\u001b[0;34m\u001b[0m\u001b[0;34m\u001b[0m\u001b[0m\n",
      "\u001b[0;32m~/Documents/Programming/Python/Repos/abstract_algebra/src/finite_algebras.py\u001b[0m in \u001b[0;36m__init__\u001b[0;34m(self, name, description, elements, table)\u001b[0m\n\u001b[1;32m    167\u001b[0m     \u001b[0;34m\"\"\"A group is a monoid with inverses.\"\"\"\u001b[0m\u001b[0;34m\u001b[0m\u001b[0;34m\u001b[0m\u001b[0m\n\u001b[1;32m    168\u001b[0m     \u001b[0;32mdef\u001b[0m \u001b[0m__init__\u001b[0m\u001b[0;34m(\u001b[0m\u001b[0mself\u001b[0m\u001b[0;34m,\u001b[0m \u001b[0mname\u001b[0m\u001b[0;34m,\u001b[0m \u001b[0mdescription\u001b[0m\u001b[0;34m,\u001b[0m \u001b[0melements\u001b[0m\u001b[0;34m,\u001b[0m \u001b[0mtable\u001b[0m\u001b[0;34m)\u001b[0m\u001b[0;34m:\u001b[0m\u001b[0;34m\u001b[0m\u001b[0;34m\u001b[0m\u001b[0m\n\u001b[0;32m--> 169\u001b[0;31m         \u001b[0msuper\u001b[0m\u001b[0;34m(\u001b[0m\u001b[0;34m)\u001b[0m\u001b[0;34m.\u001b[0m\u001b[0m__init__\u001b[0m\u001b[0;34m(\u001b[0m\u001b[0mname\u001b[0m\u001b[0;34m,\u001b[0m \u001b[0mdescription\u001b[0m\u001b[0;34m,\u001b[0m \u001b[0melements\u001b[0m\u001b[0;34m,\u001b[0m \u001b[0mtable\u001b[0m\u001b[0;34m)\u001b[0m\u001b[0;34m\u001b[0m\u001b[0;34m\u001b[0m\u001b[0m\n\u001b[0m\u001b[1;32m    170\u001b[0m         \u001b[0mprint\u001b[0m\u001b[0;34m(\u001b[0m\u001b[0;34m\"*** Check for inverses ***\"\u001b[0m\u001b[0;34m)\u001b[0m\u001b[0;34m\u001b[0m\u001b[0;34m\u001b[0m\u001b[0m\n\u001b[1;32m    171\u001b[0m         \u001b[0;32mif\u001b[0m \u001b[0;32mnot\u001b[0m \u001b[0mself\u001b[0m\u001b[0;34m.\u001b[0m\u001b[0mtable\u001b[0m\u001b[0;34m.\u001b[0m\u001b[0mhas_inverses\u001b[0m\u001b[0;34m(\u001b[0m\u001b[0;34m)\u001b[0m\u001b[0;34m:\u001b[0m\u001b[0;34m\u001b[0m\u001b[0;34m\u001b[0m\u001b[0m\n",
      "\u001b[0;32m~/Documents/Programming/Python/Repos/abstract_algebra/src/finite_algebras.py\u001b[0m in \u001b[0;36m__init__\u001b[0;34m(self, name, description, elements, table)\u001b[0m\n\u001b[1;32m    156\u001b[0m         \u001b[0mprint\u001b[0m\u001b[0;34m(\u001b[0m\u001b[0;34m\"*** Check for identity element ***\"\u001b[0m\u001b[0;34m)\u001b[0m\u001b[0;34m\u001b[0m\u001b[0;34m\u001b[0m\u001b[0m\n\u001b[1;32m    157\u001b[0m         \u001b[0;32mif\u001b[0m \u001b[0mself\u001b[0m\u001b[0;34m.\u001b[0m\u001b[0mtable\u001b[0m\u001b[0;34m.\u001b[0m\u001b[0midentity\u001b[0m\u001b[0;34m(\u001b[0m\u001b[0;34m)\u001b[0m \u001b[0;32mis\u001b[0m \u001b[0;32mnot\u001b[0m \u001b[0;32mNone\u001b[0m\u001b[0;34m:\u001b[0m\u001b[0;34m\u001b[0m\u001b[0;34m\u001b[0m\u001b[0m\n\u001b[0;32m--> 158\u001b[0;31m             \u001b[0;32mraise\u001b[0m \u001b[0mValueError\u001b[0m\u001b[0;34m(\u001b[0m\u001b[0;34m\"Table has no identity element\"\u001b[0m\u001b[0;34m)\u001b[0m\u001b[0;34m\u001b[0m\u001b[0;34m\u001b[0m\u001b[0m\n\u001b[0m\u001b[1;32m    159\u001b[0m         \u001b[0mprint\u001b[0m\u001b[0;34m(\u001b[0m\u001b[0;34m\"*** PASSED\"\u001b[0m\u001b[0;34m)\u001b[0m\u001b[0;34m\u001b[0m\u001b[0;34m\u001b[0m\u001b[0m\n\u001b[1;32m    160\u001b[0m \u001b[0;34m\u001b[0m\u001b[0m\n",
      "\u001b[0;31mValueError\u001b[0m: Table has no identity element"
     ]
    }
   ],
   "source": [
    "v4_dict = make_finite_algebra(v4_json)\n",
    "v4_dict"
   ]
  },
  {
   "cell_type": "code",
   "execution_count": 16,
   "id": "511b5ccb",
   "metadata": {},
   "outputs": [
    {
     "name": "stdout",
     "output_type": "stream",
     "text": [
      "*** Check for associativity ***\n",
      "*** PASSED\n",
      "*** Check for identity element ***\n"
     ]
    },
    {
     "ename": "ValueError",
     "evalue": "Table has no identity element",
     "output_type": "error",
     "traceback": [
      "\u001b[0;31m---------------------------------------------------------------------------\u001b[0m",
      "\u001b[0;31mValueError\u001b[0m                                Traceback (most recent call last)",
      "\u001b[0;32m<ipython-input-16-8e06e849db47>\u001b[0m in \u001b[0;36m<module>\u001b[0;34m\u001b[0m\n\u001b[0;32m----> 1\u001b[0;31m \u001b[0mv4_dict\u001b[0m \u001b[0;34m=\u001b[0m \u001b[0mfinite_algebra_maker\u001b[0m\u001b[0;34m(\u001b[0m\u001b[0mv4_json\u001b[0m\u001b[0;34m)\u001b[0m\u001b[0;34m\u001b[0m\u001b[0;34m\u001b[0m\u001b[0m\n\u001b[0m\u001b[1;32m      2\u001b[0m \u001b[0mv4_dict\u001b[0m\u001b[0;34m\u001b[0m\u001b[0;34m\u001b[0m\u001b[0m\n",
      "\u001b[0;32m~/Documents/Programming/Python/Repos/abstract_algebra/src/finite_algebras.py\u001b[0m in \u001b[0;36mfinite_algebra_maker\u001b[0;34m(*args)\u001b[0m\n\u001b[1;32m    229\u001b[0m             \u001b[0;32mif\u001b[0m \u001b[0minverses\u001b[0m\u001b[0;34m:\u001b[0m\u001b[0;34m\u001b[0m\u001b[0;34m\u001b[0m\u001b[0m\n\u001b[1;32m    230\u001b[0m                 \u001b[0;31m# print(\"Has inverses\")\u001b[0m\u001b[0;34m\u001b[0m\u001b[0;34m\u001b[0m\u001b[0;34m\u001b[0m\u001b[0m\n\u001b[0;32m--> 231\u001b[0;31m                 \u001b[0;32mreturn\u001b[0m \u001b[0mGroup\u001b[0m\u001b[0;34m(\u001b[0m\u001b[0mnm\u001b[0m\u001b[0;34m,\u001b[0m \u001b[0mdesc\u001b[0m\u001b[0;34m,\u001b[0m \u001b[0melems\u001b[0m\u001b[0;34m,\u001b[0m \u001b[0mtable\u001b[0m\u001b[0;34m)\u001b[0m\u001b[0;34m\u001b[0m\u001b[0;34m\u001b[0m\u001b[0m\n\u001b[0m\u001b[1;32m    232\u001b[0m             \u001b[0;32melse\u001b[0m\u001b[0;34m:\u001b[0m\u001b[0;34m\u001b[0m\u001b[0;34m\u001b[0m\u001b[0m\n\u001b[1;32m    233\u001b[0m                 \u001b[0;31m# print(\"Does NOT have inverses\")\u001b[0m\u001b[0;34m\u001b[0m\u001b[0;34m\u001b[0m\u001b[0;34m\u001b[0m\u001b[0m\n",
      "\u001b[0;32m~/Documents/Programming/Python/Repos/abstract_algebra/src/finite_algebras.py\u001b[0m in \u001b[0;36m__init__\u001b[0;34m(self, name, description, elements, table)\u001b[0m\n\u001b[1;32m    167\u001b[0m     \u001b[0;34m\"\"\"A group is a monoid with inverses.\"\"\"\u001b[0m\u001b[0;34m\u001b[0m\u001b[0;34m\u001b[0m\u001b[0m\n\u001b[1;32m    168\u001b[0m     \u001b[0;32mdef\u001b[0m \u001b[0m__init__\u001b[0m\u001b[0;34m(\u001b[0m\u001b[0mself\u001b[0m\u001b[0;34m,\u001b[0m \u001b[0mname\u001b[0m\u001b[0;34m,\u001b[0m \u001b[0mdescription\u001b[0m\u001b[0;34m,\u001b[0m \u001b[0melements\u001b[0m\u001b[0;34m,\u001b[0m \u001b[0mtable\u001b[0m\u001b[0;34m)\u001b[0m\u001b[0;34m:\u001b[0m\u001b[0;34m\u001b[0m\u001b[0;34m\u001b[0m\u001b[0m\n\u001b[0;32m--> 169\u001b[0;31m         \u001b[0msuper\u001b[0m\u001b[0;34m(\u001b[0m\u001b[0;34m)\u001b[0m\u001b[0;34m.\u001b[0m\u001b[0m__init__\u001b[0m\u001b[0;34m(\u001b[0m\u001b[0mname\u001b[0m\u001b[0;34m,\u001b[0m \u001b[0mdescription\u001b[0m\u001b[0;34m,\u001b[0m \u001b[0melements\u001b[0m\u001b[0;34m,\u001b[0m \u001b[0mtable\u001b[0m\u001b[0;34m)\u001b[0m\u001b[0;34m\u001b[0m\u001b[0;34m\u001b[0m\u001b[0m\n\u001b[0m\u001b[1;32m    170\u001b[0m         \u001b[0mprint\u001b[0m\u001b[0;34m(\u001b[0m\u001b[0;34m\"*** Check for inverses ***\"\u001b[0m\u001b[0;34m)\u001b[0m\u001b[0;34m\u001b[0m\u001b[0;34m\u001b[0m\u001b[0m\n\u001b[1;32m    171\u001b[0m         \u001b[0;32mif\u001b[0m \u001b[0;32mnot\u001b[0m \u001b[0mself\u001b[0m\u001b[0;34m.\u001b[0m\u001b[0mtable\u001b[0m\u001b[0;34m.\u001b[0m\u001b[0mhas_inverses\u001b[0m\u001b[0;34m(\u001b[0m\u001b[0;34m)\u001b[0m\u001b[0;34m:\u001b[0m\u001b[0;34m\u001b[0m\u001b[0;34m\u001b[0m\u001b[0m\n",
      "\u001b[0;32m~/Documents/Programming/Python/Repos/abstract_algebra/src/finite_algebras.py\u001b[0m in \u001b[0;36m__init__\u001b[0;34m(self, name, description, elements, table)\u001b[0m\n\u001b[1;32m    156\u001b[0m         \u001b[0mprint\u001b[0m\u001b[0;34m(\u001b[0m\u001b[0;34m\"*** Check for identity element ***\"\u001b[0m\u001b[0;34m)\u001b[0m\u001b[0;34m\u001b[0m\u001b[0;34m\u001b[0m\u001b[0m\n\u001b[1;32m    157\u001b[0m         \u001b[0;32mif\u001b[0m \u001b[0mself\u001b[0m\u001b[0;34m.\u001b[0m\u001b[0mtable\u001b[0m\u001b[0;34m.\u001b[0m\u001b[0midentity\u001b[0m\u001b[0;34m(\u001b[0m\u001b[0;34m)\u001b[0m \u001b[0;32mis\u001b[0m \u001b[0;32mnot\u001b[0m \u001b[0;32mNone\u001b[0m\u001b[0;34m:\u001b[0m\u001b[0;34m\u001b[0m\u001b[0;34m\u001b[0m\u001b[0m\n\u001b[0;32m--> 158\u001b[0;31m             \u001b[0;32mraise\u001b[0m \u001b[0mValueError\u001b[0m\u001b[0;34m(\u001b[0m\u001b[0;34m\"Table has no identity element\"\u001b[0m\u001b[0;34m)\u001b[0m\u001b[0;34m\u001b[0m\u001b[0;34m\u001b[0m\u001b[0m\n\u001b[0m\u001b[1;32m    159\u001b[0m         \u001b[0mprint\u001b[0m\u001b[0;34m(\u001b[0m\u001b[0;34m\"*** PASSED\"\u001b[0m\u001b[0;34m)\u001b[0m\u001b[0;34m\u001b[0m\u001b[0;34m\u001b[0m\u001b[0m\n\u001b[1;32m    160\u001b[0m \u001b[0;34m\u001b[0m\u001b[0m\n",
      "\u001b[0;31mValueError\u001b[0m: Table has no identity element"
     ]
    }
   ],
   "source": [
    "v4_dict = finite_algebra_maker(v4_json)\n",
    "v4_dict"
   ]
  },
  {
   "cell_type": "code",
   "execution_count": null,
   "id": "35f16f49",
   "metadata": {},
   "outputs": [],
   "source": []
  }
 ],
 "metadata": {
  "kernelspec": {
   "display_name": "Python 3",
   "language": "python",
   "name": "python3"
  },
  "language_info": {
   "codemirror_mode": {
    "name": "ipython",
    "version": 3
   },
   "file_extension": ".py",
   "mimetype": "text/x-python",
   "name": "python",
   "nbconvert_exporter": "python",
   "pygments_lexer": "ipython3",
   "version": "3.7.7"
  }
 },
 "nbformat": 4,
 "nbformat_minor": 5
}
