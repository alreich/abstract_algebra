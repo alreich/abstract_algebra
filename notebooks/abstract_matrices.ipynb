{
 "cells": [
  {
   "cell_type": "markdown",
   "id": "6ef26608",
   "metadata": {},
   "source": [
    "# Abstract Matrices"
   ]
  },
  {
   "cell_type": "code",
   "execution_count": 1,
   "id": "4d3ccce8",
   "metadata": {},
   "outputs": [
    {
     "name": "stdout",
     "output_type": "stream",
     "text": [
      "======================================================================\n",
      "                           Example Algebras\n",
      "----------------------------------------------------------------------\n",
      "  17 example algebras are available.\n",
      "  Use \"Examples[INDEX]\" to retrieve a specific example,\n",
      "  where INDEX is the first number on each line below:\n",
      "----------------------------------------------------------------------\n",
      "0: A4 -- Alternating group on 4 letters (AKA Tetrahedral group)\n",
      "1: D3 -- https://en.wikipedia.org/wiki/Dihedral_group_of_order_6\n",
      "2: D4 -- Dihedral group on four vertices\n",
      "3: Pinter29 -- Non-abelian group, p.29, 'A Book of Abstract Algebra' by Charles C. Pinter\n",
      "4: RPS -- Rock, Paper, Scissors Magma\n",
      "5: S3 -- Symmetric group on 3 letters\n",
      "6: S3X -- Another version of the symmetric group on 3 letters\n",
      "7: V4 -- Klein-4 group\n",
      "8: Z4 -- Cyclic group of order 4\n",
      "9: F4 -- Field with 4 elements (from Wikipedia)\n",
      "10: mag_id -- Magma with Identity\n",
      "11: Example 1.4.1 -- See: Groupoids and Smarandache Groupoids by W. B. Vasantha Kandasamy\n",
      "12: Ex6 -- Example 6: http://www-groups.mcs.st-andrews.ac.uk/~john/MT4517/Lectures/L3.html\n",
      "13: Q8 -- Quaternion Group\n",
      "14: SD16 -- Semidihedral group of order 16\n",
      "15: A5 -- Alternating group on 5 letters\n",
      "16: F2 -- Field with 2 elements from paper: 236w06fields.pdf\n",
      "======================================================================\n"
     ]
    }
   ],
   "source": [
    "import finite_algebras as alg\n",
    "import numpy as np\n",
    "from abstract_matrix import AbstractMatrix\n",
    "\n",
    "import itertools as it\n",
    "\n",
    "import os\n",
    "aa_path = os.path.join(os.getenv(\"PYPROJ\"), \"abstract_algebra\")\n",
    "alg_dir = os.path.join(aa_path, \"Algebras\")\n",
    "\n",
    "ex = alg.Examples(alg_dir)"
   ]
  },
  {
   "cell_type": "markdown",
   "id": "c2e5fa3f",
   "metadata": {},
   "source": [
    "## Abstract Matrix over a Finite Field"
   ]
  },
  {
   "cell_type": "markdown",
   "id": "11541eb5",
   "metadata": {},
   "source": [
    "First, create a finite field, in this case, the [field with 4 elements from Wikipedia](https://en.wikipedia.org/wiki/Finite_field#Field_with_four_elements)."
   ]
  },
  {
   "cell_type": "code",
   "execution_count": 2,
   "id": "bb3b848d",
   "metadata": {},
   "outputs": [
    {
     "name": "stdout",
     "output_type": "stream",
     "text": [
      "\n",
      "** Field **\n",
      "Name: F2\n",
      "Instance ID: 4390934032\n",
      "Description: Field with 2 elements from paper: 236w06fields.pdf\n",
      "Order: 2\n",
      "Identity: 0\n",
      "Commutative? Yes\n",
      "Cyclic?: Yes\n",
      "  Generators: ['1']\n",
      "Elements:\n",
      "   Index   Name   Inverse  Order\n",
      "      0       0       0       1\n",
      "      1       1       1       2\n",
      "Cayley Table (showing indices):\n",
      "[[0, 1], [1, 0]]\n",
      "Mult. Identity: 1\n",
      "Mult. Commutative? Yes\n",
      "Zero Divisors: None\n",
      "Multiplicative Cayley Table (showing indices):\n",
      "[[0, 0], [0, 1]]\n"
     ]
    }
   ],
   "source": [
    "f2 = ex[16]  # No. 16 in the list above\n",
    "f2.about()"
   ]
  },
  {
   "cell_type": "code",
   "execution_count": 3,
   "id": "a3f1e070",
   "metadata": {},
   "outputs": [
    {
     "name": "stdout",
     "output_type": "stream",
     "text": [
      "\n",
      "** Field **\n",
      "Name: F4\n",
      "Instance ID: 4381235024\n",
      "Description: Field with 4 elements (from Wikipedia)\n",
      "Order: 4\n",
      "Identity: 0\n",
      "Commutative? Yes\n",
      "Cyclic?: Yes\n",
      "  Generators: ['1+a', 'a']\n",
      "Elements:\n",
      "   Index   Name   Inverse  Order\n",
      "      0       0       0       1\n",
      "      1       1       1       2\n",
      "      2       a       a       2\n",
      "      3     1+a     1+a       2\n",
      "Cayley Table (showing indices):\n",
      "[[0, 1, 2, 3], [1, 0, 3, 2], [2, 3, 0, 1], [3, 2, 1, 0]]\n",
      "Mult. Identity: 1\n",
      "Mult. Commutative? Yes\n",
      "Zero Divisors: None\n",
      "Multiplicative Cayley Table (showing indices):\n",
      "[[0, 0, 0, 0], [0, 1, 2, 3], [0, 2, 3, 1], [0, 3, 1, 2]]\n"
     ]
    }
   ],
   "source": [
    "f4 = ex[9]  # No. 9 in the list above\n",
    "f4.about()"
   ]
  },
  {
   "cell_type": "markdown",
   "id": "8cc15091",
   "metadata": {},
   "source": [
    "The class method, <i>random</i>, will create an Abstract Matrix, of a specified <i>shape</i>, with elements that are randomly chosen from a specified ring or field. (Fixed seed ONLY used to make the random call, below, repeatable.)"
   ]
  },
  {
   "cell_type": "code",
   "execution_count": 4,
   "id": "7f1fc07f",
   "metadata": {},
   "outputs": [],
   "source": [
    "def random_matrix_test(shape, algebra, seed=None):\n",
    "    if seed:\n",
    "        np.random.seed(seed)\n",
    "    mat = AbstractMatrix.random(shape, algebra)\n",
    "    det, inv = print_matrix_info(mat)\n",
    "    #print(f\"\\nRandom Matrix over {algebra.name}:\\n{mat}\")\n",
    "    return mat, det, inv\n",
    "\n",
    "def print_matrix_info(mat):\n",
    "    print(\"=\"*20)\n",
    "    print(f\"Matrix over {mat.algebra.name}:\\n{mat}\")\n",
    "    det = mat.determinant()\n",
    "    print(f\"\\nDeterminant = {det}\")\n",
    "    print(f\"\\nCofactor Matrix:\\n{mat.cofactor_matrix()}\")\n",
    "    inv = mat.inverse()\n",
    "    print(f\"\\nInverse:\\n{inv}\")\n",
    "    print(f\"\\nMatrix * Inverse:\\n{mat * mat.inverse()}\")\n",
    "    print(f\"\\nInverse * Matrix:\\n{mat.inverse() * mat}\\n\")\n",
    "    print(\"-\"*5)\n",
    "    return det, inv"
   ]
  },
  {
   "cell_type": "code",
   "execution_count": 5,
   "id": "0abe297f-ecaa-4cf0-bbf3-9df9433aaf17",
   "metadata": {},
   "outputs": [
    {
     "name": "stdout",
     "output_type": "stream",
     "text": [
      "====================\n",
      "Matrix over F4:\n",
      "<abstract_matrix.AbstractMatrix object at 0x1040a8650>\n",
      "\n",
      "Determinant = 1\n",
      "\n",
      "Cofactor Matrix:\n",
      "<abstract_matrix.AbstractMatrix object at 0x1047cf0d0>\n",
      "\n",
      "Inverse:\n",
      "<abstract_matrix.AbstractMatrix object at 0x105b871d0>\n",
      "\n",
      "Matrix * Inverse:\n",
      "<abstract_matrix.AbstractMatrix object at 0x1042cfb50>\n",
      "\n",
      "Inverse * Matrix:\n",
      "<abstract_matrix.AbstractMatrix object at 0x105251c10>\n",
      "\n",
      "-----\n"
     ]
    }
   ],
   "source": [
    "m1, d1, i1 = random_matrix_test((3, 3), f4, seed=1)"
   ]
  },
  {
   "cell_type": "code",
   "execution_count": 6,
   "id": "770c5b7d-beb5-41c3-9202-72d001257306",
   "metadata": {},
   "outputs": [
    {
     "name": "stdout",
     "output_type": "stream",
     "text": [
      "====================\n",
      "Matrix over F4:\n",
      "<abstract_matrix.AbstractMatrix object at 0x1040c1510>\n",
      "\n",
      "Determinant = 0\n",
      "\n",
      "Cofactor Matrix:\n",
      "<abstract_matrix.AbstractMatrix object at 0x105b86e90>\n",
      "\n",
      "Inverse:\n",
      "<abstract_matrix.AbstractMatrix object at 0x105b86bd0>\n",
      "\n",
      "Matrix * Inverse:\n",
      "<abstract_matrix.AbstractMatrix object at 0x105b86c90>\n",
      "\n",
      "Inverse * Matrix:\n",
      "<abstract_matrix.AbstractMatrix object at 0x105b86ed0>\n",
      "\n",
      "-----\n"
     ]
    }
   ],
   "source": [
    "m0, d0, i0 = random_matrix_test((3, 3), f4, seed=2)"
   ]
  },
  {
   "cell_type": "code",
   "execution_count": 7,
   "id": "feb085a4-c596-4c3b-8a2f-1ece19f6824d",
   "metadata": {},
   "outputs": [
    {
     "name": "stdout",
     "output_type": "stream",
     "text": [
      "====================\n",
      "Matrix over F4:\n",
      "<abstract_matrix.AbstractMatrix object at 0x105244450>\n",
      "\n",
      "Determinant = 1+a\n",
      "\n",
      "Cofactor Matrix:\n",
      "<abstract_matrix.AbstractMatrix object at 0x1040b9910>\n",
      "\n",
      "Inverse:\n",
      "<abstract_matrix.AbstractMatrix object at 0x105b86310>\n",
      "\n",
      "Matrix * Inverse:\n",
      "<abstract_matrix.AbstractMatrix object at 0x1040b9910>\n",
      "\n",
      "Inverse * Matrix:\n",
      "<abstract_matrix.AbstractMatrix object at 0x1050bcbd0>\n",
      "\n",
      "-----\n"
     ]
    }
   ],
   "source": [
    "md, dd, id = random_matrix_test((3, 3), f4, seed=3)"
   ]
  },
  {
   "cell_type": "code",
   "execution_count": 8,
   "id": "d9e666c2-defd-4b00-9fb7-472b95d52702",
   "metadata": {},
   "outputs": [
    {
     "name": "stdout",
     "output_type": "stream",
     "text": [
      "====================\n",
      "Matrix over F4:\n",
      "<abstract_matrix.AbstractMatrix object at 0x1040c20d0>\n",
      "\n",
      "Determinant = a\n",
      "\n",
      "Cofactor Matrix:\n",
      "<abstract_matrix.AbstractMatrix object at 0x105b86050>\n",
      "\n",
      "Inverse:\n",
      "<abstract_matrix.AbstractMatrix object at 0x1040c1fd0>\n",
      "\n",
      "Matrix * Inverse:\n",
      "<abstract_matrix.AbstractMatrix object at 0x1040a8550>\n",
      "\n",
      "Inverse * Matrix:\n",
      "<abstract_matrix.AbstractMatrix object at 0x105252650>\n",
      "\n",
      "-----\n"
     ]
    }
   ],
   "source": [
    "mc, dc, ic = random_matrix_test((3, 3), f4, seed=4)"
   ]
  },
  {
   "cell_type": "markdown",
   "id": "5b78a9f2",
   "metadata": {},
   "source": [
    "## Invertible 2x2 Matrices over a Finite Field"
   ]
  },
  {
   "cell_type": "markdown",
   "id": "4e7e8aa2",
   "metadata": {},
   "source": [
    "### Generate all Possible NxN Matrices over an Algebra"
   ]
  },
  {
   "cell_type": "code",
   "execution_count": 9,
   "id": "e6963e61",
   "metadata": {},
   "outputs": [],
   "source": [
    "def generate_all_NxN_matrices_over_algebra(algebra, N):\n",
    "    \"\"\"Generate list of all possible NxN matrices using elements from 'algebra'.\n",
    "    \"\"\"\n",
    "    Nsqr = N * N\n",
    "    combos = list(it.combinations_with_replacement(algebra.elements, Nsqr))\n",
    "    perms = [list(set(it.permutations(combo))) for combo in combos]\n",
    "    arrays = [AbstractMatrix(np.array((item)).reshape(N, N), algebra)\n",
    "              for p in perms for item in p]\n",
    "    return arrays\n",
    "\n",
    "def name_mapping(matrices, prefix = 'a', id_element = None, id_name = 'e'):\n",
    "    n = len(matrices)\n",
    "    nfill = len(str(n - 1))  # Number of zeros to left-fill integers in element names\n",
    "    names = [prefix + str(i).zfill(nfill) for i in range(n)]\n",
    "    if id_element:\n",
    "        names[matrices.index(id_element)] = id_name\n",
    "    return dict(zip(names, matrices))"
   ]
  },
  {
   "cell_type": "code",
   "execution_count": 10,
   "id": "8edb836f",
   "metadata": {},
   "outputs": [
    {
     "name": "stdout",
     "output_type": "stream",
     "text": [
      "256\n"
     ]
    },
    {
     "data": {
      "text/plain": [
       "[<abstract_matrix.AbstractMatrix at 0x1047cf0d0>,\n",
       " <abstract_matrix.AbstractMatrix at 0x103e34cd0>,\n",
       " <abstract_matrix.AbstractMatrix at 0x105b87fd0>,\n",
       " <abstract_matrix.AbstractMatrix at 0x105b87f10>,\n",
       " <abstract_matrix.AbstractMatrix at 0x105b85950>,\n",
       " <abstract_matrix.AbstractMatrix at 0x105b86110>,\n",
       " <abstract_matrix.AbstractMatrix at 0x103eac790>,\n",
       " <abstract_matrix.AbstractMatrix at 0x105b9c510>,\n",
       " <abstract_matrix.AbstractMatrix at 0x105b9e710>,\n",
       " <abstract_matrix.AbstractMatrix at 0x105b87e10>,\n",
       " <abstract_matrix.AbstractMatrix at 0x105b9c1d0>,\n",
       " <abstract_matrix.AbstractMatrix at 0x105b9c150>,\n",
       " <abstract_matrix.AbstractMatrix at 0x105b9c0d0>,\n",
       " <abstract_matrix.AbstractMatrix at 0x105b9c210>,\n",
       " <abstract_matrix.AbstractMatrix at 0x105b9c090>,\n",
       " <abstract_matrix.AbstractMatrix at 0x105b9c450>,\n",
       " <abstract_matrix.AbstractMatrix at 0x105b9c410>,\n",
       " <abstract_matrix.AbstractMatrix at 0x105b9c3d0>,\n",
       " <abstract_matrix.AbstractMatrix at 0x105b9c350>,\n",
       " <abstract_matrix.AbstractMatrix at 0x105b9c2d0>,\n",
       " <abstract_matrix.AbstractMatrix at 0x105b9c250>,\n",
       " <abstract_matrix.AbstractMatrix at 0x105b9c310>,\n",
       " <abstract_matrix.AbstractMatrix at 0x105b9c390>,\n",
       " <abstract_matrix.AbstractMatrix at 0x105b9c290>,\n",
       " <abstract_matrix.AbstractMatrix at 0x105b9c190>,\n",
       " <abstract_matrix.AbstractMatrix at 0x105b9c490>,\n",
       " <abstract_matrix.AbstractMatrix at 0x105b9c050>,\n",
       " <abstract_matrix.AbstractMatrix at 0x105b9c110>,\n",
       " <abstract_matrix.AbstractMatrix at 0x105b9c590>,\n",
       " <abstract_matrix.AbstractMatrix at 0x105b9f790>,\n",
       " <abstract_matrix.AbstractMatrix at 0x105b9ed10>,\n",
       " <abstract_matrix.AbstractMatrix at 0x105b9e9d0>,\n",
       " <abstract_matrix.AbstractMatrix at 0x105b9fad0>,\n",
       " <abstract_matrix.AbstractMatrix at 0x105b9eb10>,\n",
       " <abstract_matrix.AbstractMatrix at 0x105b9f690>,\n",
       " <abstract_matrix.AbstractMatrix at 0x105b9fcd0>,\n",
       " <abstract_matrix.AbstractMatrix at 0x105b9fd10>,\n",
       " <abstract_matrix.AbstractMatrix at 0x105b9fd50>,\n",
       " <abstract_matrix.AbstractMatrix at 0x105b9fd90>,\n",
       " <abstract_matrix.AbstractMatrix at 0x105b9fdd0>,\n",
       " <abstract_matrix.AbstractMatrix at 0x105b9fe10>,\n",
       " <abstract_matrix.AbstractMatrix at 0x105b9fe50>,\n",
       " <abstract_matrix.AbstractMatrix at 0x105b9fe90>,\n",
       " <abstract_matrix.AbstractMatrix at 0x105b9fed0>,\n",
       " <abstract_matrix.AbstractMatrix at 0x105b9ff10>,\n",
       " <abstract_matrix.AbstractMatrix at 0x105b9ff50>,\n",
       " <abstract_matrix.AbstractMatrix at 0x105b9ff90>,\n",
       " <abstract_matrix.AbstractMatrix at 0x105b9ffd0>,\n",
       " <abstract_matrix.AbstractMatrix at 0x105ba4050>,\n",
       " <abstract_matrix.AbstractMatrix at 0x105ba4090>,\n",
       " <abstract_matrix.AbstractMatrix at 0x105ba40d0>,\n",
       " <abstract_matrix.AbstractMatrix at 0x105ba4110>,\n",
       " <abstract_matrix.AbstractMatrix at 0x105ba4150>,\n",
       " <abstract_matrix.AbstractMatrix at 0x105ba4190>,\n",
       " <abstract_matrix.AbstractMatrix at 0x105ba41d0>,\n",
       " <abstract_matrix.AbstractMatrix at 0x105ba4210>,\n",
       " <abstract_matrix.AbstractMatrix at 0x105ba4250>,\n",
       " <abstract_matrix.AbstractMatrix at 0x105ba4290>,\n",
       " <abstract_matrix.AbstractMatrix at 0x105ba42d0>,\n",
       " <abstract_matrix.AbstractMatrix at 0x105ba4310>,\n",
       " <abstract_matrix.AbstractMatrix at 0x105ba4350>,\n",
       " <abstract_matrix.AbstractMatrix at 0x105ba4390>,\n",
       " <abstract_matrix.AbstractMatrix at 0x105ba43d0>,\n",
       " <abstract_matrix.AbstractMatrix at 0x105ba4410>,\n",
       " <abstract_matrix.AbstractMatrix at 0x105ba4450>,\n",
       " <abstract_matrix.AbstractMatrix at 0x105ba4490>,\n",
       " <abstract_matrix.AbstractMatrix at 0x105ba44d0>,\n",
       " <abstract_matrix.AbstractMatrix at 0x105ba4510>,\n",
       " <abstract_matrix.AbstractMatrix at 0x105ba4550>,\n",
       " <abstract_matrix.AbstractMatrix at 0x105ba4590>,\n",
       " <abstract_matrix.AbstractMatrix at 0x105ba45d0>,\n",
       " <abstract_matrix.AbstractMatrix at 0x105ba4610>,\n",
       " <abstract_matrix.AbstractMatrix at 0x105ba4650>,\n",
       " <abstract_matrix.AbstractMatrix at 0x105ba4690>,\n",
       " <abstract_matrix.AbstractMatrix at 0x105ba46d0>,\n",
       " <abstract_matrix.AbstractMatrix at 0x105ba4710>,\n",
       " <abstract_matrix.AbstractMatrix at 0x105ba4750>,\n",
       " <abstract_matrix.AbstractMatrix at 0x105ba4790>,\n",
       " <abstract_matrix.AbstractMatrix at 0x105ba47d0>,\n",
       " <abstract_matrix.AbstractMatrix at 0x105ba4810>,\n",
       " <abstract_matrix.AbstractMatrix at 0x105ba4850>,\n",
       " <abstract_matrix.AbstractMatrix at 0x105ba4890>,\n",
       " <abstract_matrix.AbstractMatrix at 0x105ba48d0>,\n",
       " <abstract_matrix.AbstractMatrix at 0x105ba4910>,\n",
       " <abstract_matrix.AbstractMatrix at 0x105ba4950>,\n",
       " <abstract_matrix.AbstractMatrix at 0x105ba4990>,\n",
       " <abstract_matrix.AbstractMatrix at 0x105ba49d0>,\n",
       " <abstract_matrix.AbstractMatrix at 0x105ba4a10>,\n",
       " <abstract_matrix.AbstractMatrix at 0x105ba4a50>,\n",
       " <abstract_matrix.AbstractMatrix at 0x105ba4a90>,\n",
       " <abstract_matrix.AbstractMatrix at 0x105ba4ad0>,\n",
       " <abstract_matrix.AbstractMatrix at 0x105ba4b10>,\n",
       " <abstract_matrix.AbstractMatrix at 0x105ba4b50>,\n",
       " <abstract_matrix.AbstractMatrix at 0x105ba4b90>,\n",
       " <abstract_matrix.AbstractMatrix at 0x105ba4bd0>,\n",
       " <abstract_matrix.AbstractMatrix at 0x105ba4c10>,\n",
       " <abstract_matrix.AbstractMatrix at 0x105ba4c50>,\n",
       " <abstract_matrix.AbstractMatrix at 0x105ba4c90>,\n",
       " <abstract_matrix.AbstractMatrix at 0x105ba4cd0>,\n",
       " <abstract_matrix.AbstractMatrix at 0x105ba4d10>,\n",
       " <abstract_matrix.AbstractMatrix at 0x105ba4d50>,\n",
       " <abstract_matrix.AbstractMatrix at 0x105ba4d90>,\n",
       " <abstract_matrix.AbstractMatrix at 0x105ba4dd0>,\n",
       " <abstract_matrix.AbstractMatrix at 0x105ba4e10>,\n",
       " <abstract_matrix.AbstractMatrix at 0x105ba4e50>,\n",
       " <abstract_matrix.AbstractMatrix at 0x105ba4e90>,\n",
       " <abstract_matrix.AbstractMatrix at 0x105ba4ed0>,\n",
       " <abstract_matrix.AbstractMatrix at 0x105ba4f10>,\n",
       " <abstract_matrix.AbstractMatrix at 0x105ba4f50>,\n",
       " <abstract_matrix.AbstractMatrix at 0x105ba4f90>,\n",
       " <abstract_matrix.AbstractMatrix at 0x105ba4fd0>,\n",
       " <abstract_matrix.AbstractMatrix at 0x105ba5010>,\n",
       " <abstract_matrix.AbstractMatrix at 0x105ba5050>,\n",
       " <abstract_matrix.AbstractMatrix at 0x105ba5090>,\n",
       " <abstract_matrix.AbstractMatrix at 0x105ba50d0>,\n",
       " <abstract_matrix.AbstractMatrix at 0x105ba5110>,\n",
       " <abstract_matrix.AbstractMatrix at 0x105ba5150>,\n",
       " <abstract_matrix.AbstractMatrix at 0x105ba5190>,\n",
       " <abstract_matrix.AbstractMatrix at 0x105ba51d0>,\n",
       " <abstract_matrix.AbstractMatrix at 0x105ba5210>,\n",
       " <abstract_matrix.AbstractMatrix at 0x105ba5250>,\n",
       " <abstract_matrix.AbstractMatrix at 0x105ba5290>,\n",
       " <abstract_matrix.AbstractMatrix at 0x105ba52d0>,\n",
       " <abstract_matrix.AbstractMatrix at 0x105ba5310>,\n",
       " <abstract_matrix.AbstractMatrix at 0x105ba5350>,\n",
       " <abstract_matrix.AbstractMatrix at 0x105ba5390>,\n",
       " <abstract_matrix.AbstractMatrix at 0x105ba53d0>,\n",
       " <abstract_matrix.AbstractMatrix at 0x105ba5410>,\n",
       " <abstract_matrix.AbstractMatrix at 0x105ba5450>,\n",
       " <abstract_matrix.AbstractMatrix at 0x105ba5490>,\n",
       " <abstract_matrix.AbstractMatrix at 0x105ba54d0>,\n",
       " <abstract_matrix.AbstractMatrix at 0x105ba5510>,\n",
       " <abstract_matrix.AbstractMatrix at 0x105ba5550>,\n",
       " <abstract_matrix.AbstractMatrix at 0x105ba5590>,\n",
       " <abstract_matrix.AbstractMatrix at 0x105ba55d0>,\n",
       " <abstract_matrix.AbstractMatrix at 0x105ba5610>,\n",
       " <abstract_matrix.AbstractMatrix at 0x105ba5650>,\n",
       " <abstract_matrix.AbstractMatrix at 0x105ba5690>,\n",
       " <abstract_matrix.AbstractMatrix at 0x105ba56d0>,\n",
       " <abstract_matrix.AbstractMatrix at 0x105ba5710>,\n",
       " <abstract_matrix.AbstractMatrix at 0x105ba5750>,\n",
       " <abstract_matrix.AbstractMatrix at 0x105ba5790>,\n",
       " <abstract_matrix.AbstractMatrix at 0x105ba57d0>,\n",
       " <abstract_matrix.AbstractMatrix at 0x105ba5810>,\n",
       " <abstract_matrix.AbstractMatrix at 0x105ba5850>,\n",
       " <abstract_matrix.AbstractMatrix at 0x105ba5890>,\n",
       " <abstract_matrix.AbstractMatrix at 0x105ba58d0>,\n",
       " <abstract_matrix.AbstractMatrix at 0x105ba5910>,\n",
       " <abstract_matrix.AbstractMatrix at 0x105ba5950>,\n",
       " <abstract_matrix.AbstractMatrix at 0x105ba5990>,\n",
       " <abstract_matrix.AbstractMatrix at 0x105ba59d0>,\n",
       " <abstract_matrix.AbstractMatrix at 0x105ba5a10>,\n",
       " <abstract_matrix.AbstractMatrix at 0x105ba5a50>,\n",
       " <abstract_matrix.AbstractMatrix at 0x105ba5a90>,\n",
       " <abstract_matrix.AbstractMatrix at 0x105ba5ad0>,\n",
       " <abstract_matrix.AbstractMatrix at 0x105ba5b10>,\n",
       " <abstract_matrix.AbstractMatrix at 0x105ba5b50>,\n",
       " <abstract_matrix.AbstractMatrix at 0x105ba5b90>,\n",
       " <abstract_matrix.AbstractMatrix at 0x105ba5bd0>,\n",
       " <abstract_matrix.AbstractMatrix at 0x105ba5c10>,\n",
       " <abstract_matrix.AbstractMatrix at 0x105ba5c50>,\n",
       " <abstract_matrix.AbstractMatrix at 0x105ba5c90>,\n",
       " <abstract_matrix.AbstractMatrix at 0x105ba5cd0>,\n",
       " <abstract_matrix.AbstractMatrix at 0x105ba5d10>,\n",
       " <abstract_matrix.AbstractMatrix at 0x105ba5d50>,\n",
       " <abstract_matrix.AbstractMatrix at 0x105ba5d90>,\n",
       " <abstract_matrix.AbstractMatrix at 0x105ba5dd0>,\n",
       " <abstract_matrix.AbstractMatrix at 0x105ba5e10>,\n",
       " <abstract_matrix.AbstractMatrix at 0x105ba5e50>,\n",
       " <abstract_matrix.AbstractMatrix at 0x105ba5e90>,\n",
       " <abstract_matrix.AbstractMatrix at 0x105ba5ed0>,\n",
       " <abstract_matrix.AbstractMatrix at 0x105ba5f10>,\n",
       " <abstract_matrix.AbstractMatrix at 0x105ba5f50>,\n",
       " <abstract_matrix.AbstractMatrix at 0x105ba5f90>,\n",
       " <abstract_matrix.AbstractMatrix at 0x105ba5fd0>,\n",
       " <abstract_matrix.AbstractMatrix at 0x105ba6010>,\n",
       " <abstract_matrix.AbstractMatrix at 0x105ba6050>,\n",
       " <abstract_matrix.AbstractMatrix at 0x105ba6090>,\n",
       " <abstract_matrix.AbstractMatrix at 0x105ba60d0>,\n",
       " <abstract_matrix.AbstractMatrix at 0x105ba6110>,\n",
       " <abstract_matrix.AbstractMatrix at 0x105ba6150>,\n",
       " <abstract_matrix.AbstractMatrix at 0x105ba6190>,\n",
       " <abstract_matrix.AbstractMatrix at 0x105ba61d0>,\n",
       " <abstract_matrix.AbstractMatrix at 0x105ba6210>,\n",
       " <abstract_matrix.AbstractMatrix at 0x105ba6250>,\n",
       " <abstract_matrix.AbstractMatrix at 0x105ba6290>,\n",
       " <abstract_matrix.AbstractMatrix at 0x105ba62d0>,\n",
       " <abstract_matrix.AbstractMatrix at 0x105ba6310>,\n",
       " <abstract_matrix.AbstractMatrix at 0x105ba6350>,\n",
       " <abstract_matrix.AbstractMatrix at 0x105ba6390>,\n",
       " <abstract_matrix.AbstractMatrix at 0x105ba63d0>,\n",
       " <abstract_matrix.AbstractMatrix at 0x105ba6410>,\n",
       " <abstract_matrix.AbstractMatrix at 0x105ba6450>,\n",
       " <abstract_matrix.AbstractMatrix at 0x105ba6490>,\n",
       " <abstract_matrix.AbstractMatrix at 0x105ba64d0>,\n",
       " <abstract_matrix.AbstractMatrix at 0x105ba6510>,\n",
       " <abstract_matrix.AbstractMatrix at 0x105ba6550>,\n",
       " <abstract_matrix.AbstractMatrix at 0x105ba6590>,\n",
       " <abstract_matrix.AbstractMatrix at 0x105ba65d0>,\n",
       " <abstract_matrix.AbstractMatrix at 0x105ba6610>,\n",
       " <abstract_matrix.AbstractMatrix at 0x105ba6650>,\n",
       " <abstract_matrix.AbstractMatrix at 0x105ba6690>,\n",
       " <abstract_matrix.AbstractMatrix at 0x105ba66d0>,\n",
       " <abstract_matrix.AbstractMatrix at 0x105ba6710>,\n",
       " <abstract_matrix.AbstractMatrix at 0x105ba6750>,\n",
       " <abstract_matrix.AbstractMatrix at 0x105ba6790>,\n",
       " <abstract_matrix.AbstractMatrix at 0x105ba67d0>,\n",
       " <abstract_matrix.AbstractMatrix at 0x105ba6810>,\n",
       " <abstract_matrix.AbstractMatrix at 0x105ba6850>,\n",
       " <abstract_matrix.AbstractMatrix at 0x105ba6890>,\n",
       " <abstract_matrix.AbstractMatrix at 0x105ba68d0>,\n",
       " <abstract_matrix.AbstractMatrix at 0x105ba6910>,\n",
       " <abstract_matrix.AbstractMatrix at 0x105ba6950>,\n",
       " <abstract_matrix.AbstractMatrix at 0x105ba6990>,\n",
       " <abstract_matrix.AbstractMatrix at 0x105ba69d0>,\n",
       " <abstract_matrix.AbstractMatrix at 0x105ba6a10>,\n",
       " <abstract_matrix.AbstractMatrix at 0x105ba6a50>,\n",
       " <abstract_matrix.AbstractMatrix at 0x105ba6a90>,\n",
       " <abstract_matrix.AbstractMatrix at 0x105ba6ad0>,\n",
       " <abstract_matrix.AbstractMatrix at 0x105ba6b10>,\n",
       " <abstract_matrix.AbstractMatrix at 0x105ba6b50>,\n",
       " <abstract_matrix.AbstractMatrix at 0x105ba6b90>,\n",
       " <abstract_matrix.AbstractMatrix at 0x105ba6bd0>,\n",
       " <abstract_matrix.AbstractMatrix at 0x105ba6c10>,\n",
       " <abstract_matrix.AbstractMatrix at 0x105ba6c50>,\n",
       " <abstract_matrix.AbstractMatrix at 0x105ba6c90>,\n",
       " <abstract_matrix.AbstractMatrix at 0x105ba6cd0>,\n",
       " <abstract_matrix.AbstractMatrix at 0x105ba6d10>,\n",
       " <abstract_matrix.AbstractMatrix at 0x105ba6d50>,\n",
       " <abstract_matrix.AbstractMatrix at 0x105ba6d90>,\n",
       " <abstract_matrix.AbstractMatrix at 0x105ba6dd0>,\n",
       " <abstract_matrix.AbstractMatrix at 0x105ba6e10>,\n",
       " <abstract_matrix.AbstractMatrix at 0x105ba6e50>,\n",
       " <abstract_matrix.AbstractMatrix at 0x105ba6e90>,\n",
       " <abstract_matrix.AbstractMatrix at 0x105ba6ed0>,\n",
       " <abstract_matrix.AbstractMatrix at 0x105ba6f10>,\n",
       " <abstract_matrix.AbstractMatrix at 0x105ba6f50>,\n",
       " <abstract_matrix.AbstractMatrix at 0x105ba6f90>,\n",
       " <abstract_matrix.AbstractMatrix at 0x105ba6fd0>,\n",
       " <abstract_matrix.AbstractMatrix at 0x105ba7010>,\n",
       " <abstract_matrix.AbstractMatrix at 0x105ba7050>,\n",
       " <abstract_matrix.AbstractMatrix at 0x105ba7090>,\n",
       " <abstract_matrix.AbstractMatrix at 0x105ba70d0>,\n",
       " <abstract_matrix.AbstractMatrix at 0x105ba7110>,\n",
       " <abstract_matrix.AbstractMatrix at 0x105ba7150>,\n",
       " <abstract_matrix.AbstractMatrix at 0x105ba7190>,\n",
       " <abstract_matrix.AbstractMatrix at 0x105ba71d0>,\n",
       " <abstract_matrix.AbstractMatrix at 0x105ba7210>,\n",
       " <abstract_matrix.AbstractMatrix at 0x105ba7250>,\n",
       " <abstract_matrix.AbstractMatrix at 0x105ba7290>,\n",
       " <abstract_matrix.AbstractMatrix at 0x105ba72d0>,\n",
       " <abstract_matrix.AbstractMatrix at 0x105ba7310>,\n",
       " <abstract_matrix.AbstractMatrix at 0x105ba7350>,\n",
       " <abstract_matrix.AbstractMatrix at 0x105ba7390>,\n",
       " <abstract_matrix.AbstractMatrix at 0x105ba73d0>,\n",
       " <abstract_matrix.AbstractMatrix at 0x105ba7410>]"
      ]
     },
     "execution_count": 10,
     "metadata": {},
     "output_type": "execute_result"
    }
   ],
   "source": [
    "allmats = generate_all_NxN_matrices_over_algebra(f4, 2)\n",
    "print(len(allmats))\n",
    "allmats"
   ]
  },
  {
   "cell_type": "markdown",
   "id": "c8d91d70",
   "metadata": {},
   "source": [
    "## Create Dict of Matrices"
   ]
  },
  {
   "cell_type": "code",
   "execution_count": null,
   "id": "f445aca0",
   "metadata": {},
   "outputs": [],
   "source": [
    "name_mapping(allmats, prefix = 'A', id_element = AbstractMatrix.identity(2, f4), id_name = '-ID-')"
   ]
  },
  {
   "cell_type": "markdown",
   "id": "ba7612b7",
   "metadata": {},
   "source": [
    "## Closure of Matrices"
   ]
  },
  {
   "cell_type": "code",
   "execution_count": null,
   "id": "ee81a2c6",
   "metadata": {},
   "outputs": [],
   "source": [
    "def closure_of_matrices(matrices):\n",
    "\n",
    "    result = matrices\n",
    "\n",
    "    for pair in it.product(result, result):\n",
    "        prod = pair[0] * pair[1]\n",
    "        if prod not in result:\n",
    "            result.append(prod)\n",
    "\n",
    "    if len(result) > len(matrices):\n",
    "        return closure_of_matrices(result)\n",
    "    else:\n",
    "        return result"
   ]
  },
  {
   "cell_type": "code",
   "execution_count": null,
   "id": "bf9ddc22",
   "metadata": {},
   "outputs": [],
   "source": [
    "det1s = [m for m in allmats if m.determinant() == '1']\n",
    "print(len(det1s))\n",
    "det1s"
   ]
  },
  {
   "cell_type": "code",
   "execution_count": null,
   "id": "478b7cdd",
   "metadata": {},
   "outputs": [],
   "source": []
  },
  {
   "cell_type": "markdown",
   "id": "8cafc18a",
   "metadata": {},
   "source": [
    "## Test Matrices"
   ]
  },
  {
   "cell_type": "code",
   "execution_count": 11,
   "id": "db1f2b58",
   "metadata": {},
   "outputs": [
    {
     "name": "stdout",
     "output_type": "stream",
     "text": [
      "\n",
      "** Ring **\n",
      "Name: PSRing3\n",
      "Instance ID: 4381288592\n",
      "Description: Autogenerated Ring on powerset of {0, 1, 2} w/ symm. diff. (add) & intersection (mult)\n",
      "Order: 8\n",
      "Identity: {}\n",
      "Commutative? Yes\n",
      "Cyclic?: No\n",
      "Elements:\n",
      "   Index   Name   Inverse  Order\n",
      "      0      {}      {}       1\n",
      "      1     {0}     {0}       2\n",
      "      2     {1}     {1}       2\n",
      "      3     {2}     {2}       2\n",
      "      4  {0, 1}  {0, 1}       2\n",
      "      5  {0, 2}  {0, 2}       2\n",
      "      6  {1, 2}  {1, 2}       2\n",
      "      7 {0, 1, 2} {0, 1, 2}       2\n",
      "Cayley Table (showing indices):\n",
      "[[0, 1, 2, 3, 4, 5, 6, 7],\n",
      " [1, 0, 4, 5, 2, 3, 7, 6],\n",
      " [2, 4, 0, 6, 1, 7, 3, 5],\n",
      " [3, 5, 6, 0, 7, 1, 2, 4],\n",
      " [4, 2, 1, 7, 0, 6, 5, 3],\n",
      " [5, 3, 7, 1, 6, 0, 4, 2],\n",
      " [6, 7, 3, 2, 5, 4, 0, 1],\n",
      " [7, 6, 5, 4, 3, 2, 1, 0]]\n",
      "Mult. Identity: {0, 1, 2}\n",
      "Mult. Commutative? Yes\n",
      "Zero Divisors: ['{0}', '{1}', '{2}', '{0, 1}', '{0, 2}', '{1, 2}']\n",
      "Multiplicative Cayley Table (showing indices):\n",
      "[[0, 0, 0, 0, 0, 0, 0, 0],\n",
      " [0, 1, 0, 0, 1, 1, 0, 1],\n",
      " [0, 0, 2, 0, 2, 0, 2, 2],\n",
      " [0, 0, 0, 3, 0, 3, 3, 3],\n",
      " [0, 1, 2, 0, 4, 1, 2, 4],\n",
      " [0, 1, 0, 3, 1, 5, 3, 5],\n",
      " [0, 0, 2, 3, 2, 3, 6, 6],\n",
      " [0, 1, 2, 3, 4, 5, 6, 7]]\n"
     ]
    }
   ],
   "source": [
    "ps3 = alg.generate_powerset_ring(3)\n",
    "ps3.about()"
   ]
  },
  {
   "cell_type": "code",
   "execution_count": 12,
   "id": "3422a5ac",
   "metadata": {},
   "outputs": [],
   "source": [
    "arr0 = np.array([['{1, 2}', '{0, 1, 2}'],\n",
    "                 ['{0, 2}', '{}']], dtype='<U32')"
   ]
  },
  {
   "cell_type": "code",
   "execution_count": 15,
   "id": "f908415d",
   "metadata": {},
   "outputs": [
    {
     "data": {
      "text/plain": [
       "array([['{1, 2}', '{0, 1, 2}'],\n",
       "       ['{0, 2}', '{}']], dtype='<U32')"
      ]
     },
     "execution_count": 15,
     "metadata": {},
     "output_type": "execute_result"
    }
   ],
   "source": [
    "arr0"
   ]
  },
  {
   "cell_type": "code",
   "execution_count": 17,
   "id": "0ed1e560",
   "metadata": {},
   "outputs": [
    {
     "data": {
      "text/plain": [
       "array([['{1, 2}', '{0, 1, 2}'],\n",
       "       ['{0, 2}', '{}']], dtype='<U32')"
      ]
     },
     "execution_count": 17,
     "metadata": {},
     "output_type": "execute_result"
    }
   ],
   "source": [
    "np.array([['{1, 2}', '{0, 1, 2}'],\n",
    "       ['{0, 2}', '{}']], dtype='<U32')"
   ]
  },
  {
   "cell_type": "code",
   "execution_count": null,
   "id": "51327b12",
   "metadata": {},
   "outputs": [],
   "source": [
    "mat0 = AbstractMatrix(arr0, ps3)\n",
    "mat0"
   ]
  },
  {
   "cell_type": "code",
   "execution_count": null,
   "id": "01b17f2a",
   "metadata": {},
   "outputs": [],
   "source": [
    "arr0"
   ]
  },
  {
   "cell_type": "code",
   "execution_count": null,
   "id": "fb153737",
   "metadata": {},
   "outputs": [],
   "source": [
    "print(mat0)"
   ]
  },
  {
   "cell_type": "code",
   "execution_count": null,
   "id": "2284ef36",
   "metadata": {},
   "outputs": [],
   "source": [
    "mat0.array"
   ]
  },
  {
   "cell_type": "code",
   "execution_count": null,
   "id": "b225e560",
   "metadata": {},
   "outputs": [],
   "source": [
    "mat0"
   ]
  },
  {
   "cell_type": "code",
   "execution_count": null,
   "id": "2d158a84",
   "metadata": {},
   "outputs": [],
   "source": []
  },
  {
   "cell_type": "code",
   "execution_count": null,
   "id": "9f9afef3",
   "metadata": {},
   "outputs": [],
   "source": [
    "arr1 = np.array([['{1, 2}', '{0, 1, 2}', '{0, 2}'],\n",
    "                 ['{0, 2}', '{}', '{1}'],\n",
    "                 ['{0}', '{1}', '{0, 1}']], dtype='<U32')\n",
    "\n",
    "mat1 = AbstractMatrix(arr1, ps3)\n",
    "mat1"
   ]
  },
  {
   "cell_type": "code",
   "execution_count": null,
   "id": "bd7f0d42",
   "metadata": {},
   "outputs": [],
   "source": [
    "arr2 = [['{0, 1}', '{0, 2}', '{1, 2}'],\n",
    "        ['{0}'   , '{1, 2}',    '{2}'],\n",
    "        ['{0, 1}',     '{}',     '{}']]\n",
    "\n",
    "mat2 = AbstractMatrix(arr2, ps3)\n",
    "mat2"
   ]
  },
  {
   "cell_type": "code",
   "execution_count": null,
   "id": "aaa83e3a",
   "metadata": {},
   "outputs": [],
   "source": [
    "arr3 = np.array([['{}', '{0, 1, 2}', '{0, 1, 2}', '{}'],\n",
    "                 ['{0, 1}', '{0, 2}', '{1, 2}', '{2}'],\n",
    "                 ['{0, 2}', '{}', '{}', '{0, 1}'],\n",
    "                 ['{1}', '{0}', '{0, 2}', '{}']], dtype='<U32')\n",
    "\n",
    "mat3 = AbstractMatrix(arr3, ps3)\n",
    "mat3"
   ]
  },
  {
   "cell_type": "code",
   "execution_count": null,
   "id": "359f264b",
   "metadata": {},
   "outputs": [],
   "source": [
    "arr4 = np.array([['{1, 2}']], dtype='<U32')\n",
    "\n",
    "mat4 = AbstractMatrix(arr4, ps3)\n",
    "mat4"
   ]
  },
  {
   "cell_type": "code",
   "execution_count": null,
   "id": "8384ebe1",
   "metadata": {},
   "outputs": [],
   "source": [
    "arr5 = np.array([['0', '1', 'a'],\n",
    "                 ['1', 'a', '1+a'],\n",
    "                 ['1+a', '0', '1']], dtype='<U32')\n",
    "\n",
    "mat5 = AbstractMatrix(arr5, f4)\n",
    "mat5"
   ]
  },
  {
   "cell_type": "code",
   "execution_count": null,
   "id": "3a5aabe7",
   "metadata": {},
   "outputs": [],
   "source": [
    "arr6 = np.array([['1+a', '0', 'a'],\n",
    "                 ['1+a', '1+a', '0'],\n",
    "                 ['1', '1', '0']], dtype='<U32')\n",
    "\n",
    "mat6 = AbstractMatrix(arr6, f4)\n",
    "mat6"
   ]
  },
  {
   "cell_type": "markdown",
   "id": "2eb178e3",
   "metadata": {},
   "source": [
    "## Matrix Addition & Subtraction"
   ]
  },
  {
   "cell_type": "code",
   "execution_count": null,
   "id": "692d4e4e",
   "metadata": {},
   "outputs": [],
   "source": [
    "mat1 + mat2"
   ]
  },
  {
   "cell_type": "code",
   "execution_count": null,
   "id": "e71775f2",
   "metadata": {},
   "outputs": [],
   "source": [
    "try:\n",
    "    mat2p3 = mat2 + mat3\n",
    "    print(mat2p3)\n",
    "except Exception as exc:\n",
    "    print(exc)"
   ]
  },
  {
   "cell_type": "code",
   "execution_count": null,
   "id": "eaaa9e10",
   "metadata": {},
   "outputs": [],
   "source": [
    "mat5 + mat6"
   ]
  },
  {
   "cell_type": "code",
   "execution_count": null,
   "id": "210136aa",
   "metadata": {},
   "outputs": [],
   "source": [
    "mat2 - mat2"
   ]
  },
  {
   "cell_type": "code",
   "execution_count": null,
   "id": "47a60cbd",
   "metadata": {},
   "outputs": [],
   "source": [
    "try:\n",
    "    mat2p3 = mat2 - mat3\n",
    "    print(mat2p3)\n",
    "except Exception as exc:\n",
    "    print(exc)"
   ]
  },
  {
   "cell_type": "markdown",
   "id": "4bb68cd6-854f-4699-bb49-5c0c0ce560e6",
   "metadata": {},
   "source": [
    "## Matrix Multiplication"
   ]
  },
  {
   "cell_type": "code",
   "execution_count": null,
   "id": "0cb5fc85-2431-4e40-ac3f-50d7c36f06e5",
   "metadata": {},
   "outputs": [],
   "source": [
    "mat1 * mat2"
   ]
  },
  {
   "cell_type": "code",
   "execution_count": null,
   "id": "6524fc43",
   "metadata": {},
   "outputs": [],
   "source": [
    "mat2 * mat1"
   ]
  },
  {
   "cell_type": "code",
   "execution_count": null,
   "id": "6003150c",
   "metadata": {},
   "outputs": [],
   "source": [
    "try:\n",
    "    mat2x3 = mat2 * mat3\n",
    "    print(mat2x3)\n",
    "except Exception as exc:\n",
    "    print(exc)"
   ]
  },
  {
   "cell_type": "code",
   "execution_count": null,
   "id": "5fd2889f",
   "metadata": {},
   "outputs": [],
   "source": [
    "mat5 * mat6"
   ]
  },
  {
   "cell_type": "markdown",
   "id": "234666cb",
   "metadata": {},
   "source": [
    "## Abstract Matrix of \"Zeros\""
   ]
  },
  {
   "cell_type": "code",
   "execution_count": null,
   "id": "583b68e0",
   "metadata": {},
   "outputs": [],
   "source": [
    "matz = AbstractMatrix.zeros((2, 3), ps3)\n",
    "matz"
   ]
  },
  {
   "cell_type": "code",
   "execution_count": null,
   "id": "32de3d20",
   "metadata": {},
   "outputs": [],
   "source": [
    "matf = AbstractMatrix.zeros((3, 3), f4)\n",
    "matf"
   ]
  },
  {
   "cell_type": "markdown",
   "id": "6172db1b",
   "metadata": {},
   "source": [
    "## Abstract Identity Matrix"
   ]
  },
  {
   "cell_type": "code",
   "execution_count": null,
   "id": "b74dec91",
   "metadata": {},
   "outputs": [],
   "source": [
    "AbstractMatrix.identity(4, ps3)"
   ]
  },
  {
   "cell_type": "code",
   "execution_count": null,
   "id": "9558a899",
   "metadata": {},
   "outputs": [],
   "source": [
    "mat1"
   ]
  },
  {
   "cell_type": "code",
   "execution_count": null,
   "id": "c3350745",
   "metadata": {},
   "outputs": [],
   "source": [
    "id3 = AbstractMatrix.identity(3, ps3)\n",
    "\n",
    "mat1 * id3"
   ]
  },
  {
   "cell_type": "code",
   "execution_count": null,
   "id": "ecc54819",
   "metadata": {},
   "outputs": [],
   "source": [
    "id3 * mat1"
   ]
  },
  {
   "cell_type": "code",
   "execution_count": null,
   "id": "8c62a867",
   "metadata": {},
   "outputs": [],
   "source": [
    "id3f = AbstractMatrix.identity(3, f4)\n",
    "id3f"
   ]
  },
  {
   "cell_type": "code",
   "execution_count": null,
   "id": "e8f343e9",
   "metadata": {},
   "outputs": [],
   "source": [
    "mat5 * id3f - mat5"
   ]
  },
  {
   "cell_type": "markdown",
   "id": "09fd1964",
   "metadata": {},
   "source": [
    "## Random Abstract Matrix"
   ]
  },
  {
   "cell_type": "code",
   "execution_count": null,
   "id": "47b625e0",
   "metadata": {},
   "outputs": [],
   "source": [
    "AbstractMatrix.random((3, 3), ps3)"
   ]
  },
  {
   "cell_type": "markdown",
   "id": "1576f0a8-41bb-460c-af55-7ae2e6c70c5c",
   "metadata": {},
   "source": [
    "## Get/Set Matrix Element Values"
   ]
  },
  {
   "cell_type": "code",
   "execution_count": null,
   "id": "4491e4bf-5231-4d2b-9401-6eb511fddc24",
   "metadata": {},
   "outputs": [],
   "source": [
    "mat2"
   ]
  },
  {
   "cell_type": "code",
   "execution_count": null,
   "id": "4094590e-be48-47be-85f7-1aae62411281",
   "metadata": {},
   "outputs": [],
   "source": [
    "mat2[0, 1]"
   ]
  },
  {
   "cell_type": "code",
   "execution_count": null,
   "id": "ca4a48e2-b9f1-4784-bad4-0dec810cbe1b",
   "metadata": {},
   "outputs": [],
   "source": [
    "mat2[2, 2] = '{0, 1, 2}'\n",
    "mat2"
   ]
  },
  {
   "cell_type": "code",
   "execution_count": null,
   "id": "7decf719",
   "metadata": {},
   "outputs": [],
   "source": [
    "mat2[2, 2] = '{}'\n",
    "mat2"
   ]
  },
  {
   "cell_type": "markdown",
   "id": "9eb7801d-157b-424b-b3b8-26d2d3bb59db",
   "metadata": {},
   "source": [
    "## Matrix Minor"
   ]
  },
  {
   "cell_type": "code",
   "execution_count": null,
   "id": "62c40a05-b625-4fa8-aa84-4789a9ebedd1",
   "metadata": {},
   "outputs": [],
   "source": [
    "mnr2 = mat2.minor(0,0)\n",
    "mnr2"
   ]
  },
  {
   "cell_type": "code",
   "execution_count": null,
   "id": "b4c74c5c",
   "metadata": {},
   "outputs": [],
   "source": [
    "mnr3 = mat5.minor(1, 1)\n",
    "mnr3"
   ]
  },
  {
   "cell_type": "markdown",
   "id": "a9b39686",
   "metadata": {},
   "source": [
    "## Abstract Cofactor Matrix"
   ]
  },
  {
   "cell_type": "code",
   "execution_count": null,
   "id": "306772f1",
   "metadata": {},
   "outputs": [],
   "source": [
    "cof2 = mat2.cofactor_matrix()\n",
    "cof2"
   ]
  },
  {
   "cell_type": "code",
   "execution_count": null,
   "id": "55b59c33",
   "metadata": {},
   "outputs": [],
   "source": [
    "cof3 = mat5.cofactor_matrix()\n",
    "cof3"
   ]
  },
  {
   "cell_type": "markdown",
   "id": "e1d944f6",
   "metadata": {},
   "source": [
    "## Abstract Matrix Transpose"
   ]
  },
  {
   "cell_type": "code",
   "execution_count": null,
   "id": "7031890b",
   "metadata": {},
   "outputs": [],
   "source": [
    "cof2_trans = cof2.transpose()\n",
    "cof2_trans"
   ]
  },
  {
   "cell_type": "code",
   "execution_count": null,
   "id": "2130a554",
   "metadata": {},
   "outputs": [],
   "source": [
    "cof3.transpose()"
   ]
  },
  {
   "cell_type": "markdown",
   "id": "646a0202",
   "metadata": {},
   "source": [
    "## Abstract Matrix Determinant"
   ]
  },
  {
   "cell_type": "code",
   "execution_count": null,
   "id": "55b36d62",
   "metadata": {},
   "outputs": [],
   "source": [
    "mat2.determinant()"
   ]
  },
  {
   "cell_type": "markdown",
   "id": "126d6bcb",
   "metadata": {},
   "source": [
    "Here's a breaksdown of the basic computations required to get the determinant.\n",
    "\n",
    "NOTE: Addition & multiplication for the ring, ps3, is commutative, so the order of adds and mults is irrelevant, below."
   ]
  },
  {
   "cell_type": "code",
   "execution_count": null,
   "id": "df58ffe3",
   "metadata": {},
   "outputs": [],
   "source": [
    "minor_det_0 = ps3.sub(ps3.mult('{1, 2}', '{}'), ps3.mult('{2}', '{}'))\n",
    "minor_det_0"
   ]
  },
  {
   "cell_type": "code",
   "execution_count": null,
   "id": "1d6d232a",
   "metadata": {},
   "outputs": [],
   "source": [
    "minor_det_1 = ps3.sub(ps3.mult('{0}', '{}'), ps3.mult('{2}', '{0, 1}'))\n",
    "minor_det_1"
   ]
  },
  {
   "cell_type": "code",
   "execution_count": null,
   "id": "46947f51",
   "metadata": {},
   "outputs": [],
   "source": [
    "minor_det_2 = ps3.sub(ps3.mult('{0}', '{}'), ps3.mult('{1, 2}', '{0, 1}'))\n",
    "minor_det_2"
   ]
  },
  {
   "cell_type": "code",
   "execution_count": null,
   "id": "ec46b2aa",
   "metadata": {},
   "outputs": [],
   "source": [
    "det = ps3.sub(ps3.add(ps3.mult('{0, 1}', minor_det_0),\n",
    "                      ps3.mult('{1, 2}', minor_det_2)),\n",
    "              ps3.mult('{0, 2}', minor_det_1))\n",
    "det"
   ]
  },
  {
   "cell_type": "code",
   "execution_count": null,
   "id": "b8b1f37d",
   "metadata": {},
   "outputs": [],
   "source": [
    "mat5.determinant()"
   ]
  },
  {
   "cell_type": "markdown",
   "id": "0c00e4fb-82e8-42ed-8fd2-f24d6824ffcd",
   "metadata": {},
   "source": [
    "## Abstract Matrix Inverse"
   ]
  },
  {
   "cell_type": "code",
   "execution_count": null,
   "id": "588b5a7c-c190-4a2b-9d28-0413d006e5c4",
   "metadata": {},
   "outputs": [],
   "source": [
    "mat2_inv = mat2.inverse()\n",
    "mat2_inv"
   ]
  },
  {
   "cell_type": "code",
   "execution_count": null,
   "id": "412176a0-037a-4327-b230-ce02f6f1e27b",
   "metadata": {},
   "outputs": [],
   "source": [
    "mat2 * mat2_inv"
   ]
  },
  {
   "cell_type": "code",
   "execution_count": null,
   "id": "682292b9-fe96-4fba-bb4a-b64ac41f727c",
   "metadata": {},
   "outputs": [],
   "source": [
    "mat2_inv * mat2"
   ]
  },
  {
   "cell_type": "code",
   "execution_count": null,
   "id": "08b12933",
   "metadata": {},
   "outputs": [],
   "source": [
    "mat5_inv = mat5.inverse()\n",
    "mat5_inv"
   ]
  },
  {
   "cell_type": "code",
   "execution_count": null,
   "id": "e7a4bbc8",
   "metadata": {},
   "outputs": [],
   "source": [
    "mat5 * mat5_inv"
   ]
  },
  {
   "cell_type": "code",
   "execution_count": null,
   "id": "2778ba17",
   "metadata": {},
   "outputs": [],
   "source": [
    "mat5_inv * mat5"
   ]
  },
  {
   "cell_type": "code",
   "execution_count": null,
   "id": "1eb57e39",
   "metadata": {},
   "outputs": [],
   "source": []
  }
 ],
 "metadata": {
  "kernelspec": {
   "display_name": "Python 3 (ipykernel)",
   "language": "python",
   "name": "python3"
  },
  "language_info": {
   "codemirror_mode": {
    "name": "ipython",
    "version": 3
   },
   "file_extension": ".py",
   "mimetype": "text/x-python",
   "name": "python",
   "nbconvert_exporter": "python",
   "pygments_lexer": "ipython3",
   "version": "3.11.4"
  }
 },
 "nbformat": 4,
 "nbformat_minor": 5
}
