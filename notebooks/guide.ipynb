{
 "cells": [
  {
   "cell_type": "markdown",
   "id": "0464ca8f",
   "metadata": {},
   "source": [
    "# User Guide"
   ]
  },
  {
   "cell_type": "markdown",
   "id": "b44f6fee",
   "metadata": {},
   "source": [
    "## Installation\n",
    "\n",
    "This module runs under Python 3.7+ and requires **numpy**.\n",
    "\n",
    "Clone the github repository to install:"
   ]
  },
  {
   "cell_type": "raw",
   "id": "5c851a2e",
   "metadata": {},
   "source": [
    "$ git clone https://github.com/alreich/abstract_algebra.git"
   ]
  },
  {
   "cell_type": "markdown",
   "id": "43d4e146",
   "metadata": {},
   "source": [
    "Add the *abstract_algebra* directory to your *PYTHONPATH*.\n",
    "\n",
    "<b>Note</b>: In the examples, below, an environment variable, *PYPROJ*, points to the directory containing the *abstract_algebra* directory."
   ]
  },
  {
   "cell_type": "markdown",
   "id": "a444d20c",
   "metadata": {},
   "source": [
    "## Internal Representation of a Finite Group\n",
    "\n",
    "Internally, the finite Group object consists of four quantities:\n",
    "\n",
    "* **name**: (``str``) A short name for the Group;\n",
    "* **description**: (``str``) Any additional, useful information about the Group;\n",
    "* **element_names**: (``list`` of ``str``) The Group’s element names, where the\n",
    "  first element in the list is the Group’s identity element (usually denoted by ``e``);\n",
    "* **mult_table**: (``list`` of ``list`` of ``int``) The Group’s multiplication\n",
    "  table, where each list in the list represents a row of the table, and\n",
    "  each integer represents the position of an element in ‘element_names’.\n",
    "  The table must be:\n",
    "\n",
    "  * Square. The row & column length equal the number of elements, say, n;\n",
    "  * The first row and first column should be the [0, 1, 2, …, n-1], in that exact order;\n",
    "  * Every row and column should contain the same integers, in a different order,\n",
    "    so that no row or column contains the same integer twice.  This is a consequence of\n",
    "    the fact that every element in a group is unique and has an inverse that is also in the group.\n",
    "  * Capable of supporting associativity of the multiplication operator.  This last requirement\n",
    "    is automatically checked by the group constructor."
   ]
  },
  {
   "cell_type": "markdown",
   "id": "bb344185",
   "metadata": {},
   "source": [
    "## Group Constuction\n",
    "\n",
    "A Group object can be instantiated in several ways:\n",
    "\n",
    "1. Enter **four values** corresponding to the quantities described above, in\n",
    "   the order shown above.\n",
    "2. Enter **three values** corresponding to ``name``, ``description``, and ``mult_table``,\n",
    "   where ``mult_table`` uses element names (``str``) instead of ``int`` positions.\n",
    "   The string-based ``mult_table`` must follow rules, similar to those described\n",
    "   above:\n",
    "   * The identity element comes first in the first row and first column;\n",
    "   * The order of names in the first row and first column should be identical;\n",
    "   * No row or column contains the same element name twice.\n",
    "\n",
    "3. Enter a **Python dictionary**, with keys and values corresponding to\n",
    "   either the four value or three value input schemes, described above.\n",
    "4. Enter the **path to a JSON file** (``str``) that corresponds to the\n",
    "   dictionary described above."
   ]
  },
  {
   "cell_type": "markdown",
   "id": "85556a8b",
   "metadata": {},
   "source": [
    "## Usage"
   ]
  },
  {
   "cell_type": "code",
   "execution_count": 1,
   "id": "c718f5e7",
   "metadata": {},
   "outputs": [
    {
     "data": {
      "text/plain": [
       "Group(\n",
       "Z3,\n",
       "Cyclic group of order 3,\n",
       "['e', 'a', 'a^2'],\n",
       "[[0, 1, 2], [1, 2, 0], [2, 0, 1]]\n",
       ")"
      ]
     },
     "execution_count": 1,
     "metadata": {},
     "output_type": "execute_result"
    }
   ],
   "source": [
    ">>> from finite_algebras import *\n",
    "\n",
    ">>> z3 = Group('Z3',\n",
    "               'Cyclic group of order 3',\n",
    "               ['e', 'a', 'a^2'],\n",
    "               [[ 'e' ,  'a' , 'a^2'],\n",
    "                [ 'a' , 'a^2',  'e' ],\n",
    "                ['a^2',  'e' ,  'a' ]]\n",
    "              )\n",
    ">>> z3"
   ]
  },
  {
   "cell_type": "markdown",
   "id": "ec8fc3dd",
   "metadata": {},
   "source": [
    "Below, we setup some useful path variables, one the points to the abstract_algebra directory, and the other pointing to a subdirectory containing algebra definitions in JSON format.\n",
    "\n",
    "**Note**: The code here assumes that there is an environment\n",
    "variable, ``PYPROJ``, that points to the directory containing the abstract_algebra directory."
   ]
  },
  {
   "cell_type": "code",
   "execution_count": 2,
   "id": "12f77fa4",
   "metadata": {},
   "outputs": [],
   "source": [
    ">>> import os\n",
    ">>> aa_path = os.path.join(os.getenv(\"PYPROJ\"), \"abstract_algebra\")\n",
    ">>> alg_dir = os.path.join(aa_path, \"Algebras\")"
   ]
  },
  {
   "cell_type": "markdown",
   "id": "3bc5568e",
   "metadata": {},
   "source": [
    "Here's a look at the Klein-4 Group in JSON format"
   ]
  },
  {
   "cell_type": "code",
   "execution_count": 3,
   "id": "0e571b0d",
   "metadata": {},
   "outputs": [
    {
     "name": "stdout",
     "output_type": "stream",
     "text": [
      "{\"name\": \"V4\",\r\n",
      " \"description\": \"Klein-4 group\",\r\n",
      " \"elements\": [\"e\", \"h\", \"v\", \"r\"],\r\n",
      " \"table\": [[0, 1, 2, 3],\r\n",
      "           [1, 0, 3, 2],\r\n",
      "           [2, 3, 0, 1],\r\n",
      "           [3, 2, 1, 0]]\r\n",
      "}\r\n"
     ]
    }
   ],
   "source": [
    ">>> v4_json = os.path.join(alg_dir, \"v4_klein_4_group.json\")\n",
    ">>> !cat {v4_json}"
   ]
  },
  {
   "cell_type": "markdown",
   "id": "b48feb46",
   "metadata": {},
   "source": [
    "The JSON definition of a group can be used to instantiate a Group object:"
   ]
  },
  {
   "cell_type": "code",
   "execution_count": 4,
   "id": "e6a371f9",
   "metadata": {},
   "outputs": [
    {
     "data": {
      "text/plain": [
       "Group(\n",
       "V4,\n",
       "Klein-4 group,\n",
       "['e', 'h', 'v', 'r'],\n",
       "[[0, 1, 2, 3], [1, 0, 3, 2], [2, 3, 0, 1], [3, 2, 1, 0]]\n",
       ")"
      ]
     },
     "execution_count": 4,
     "metadata": {},
     "output_type": "execute_result"
    }
   ],
   "source": [
    ">>> v4 = make_finite_algebra(v4_json)\n",
    ">>> v4"
   ]
  },
  {
   "cell_type": "markdown",
   "id": "bf0b8181",
   "metadata": {},
   "source": [
    "The method, ``about``, prints out information about a finite algebra."
   ]
  },
  {
   "cell_type": "code",
   "execution_count": 5,
   "id": "384d2062",
   "metadata": {},
   "outputs": [
    {
     "name": "stdout",
     "output_type": "stream",
     "text": [
      "\n",
      "Group: V4\n",
      "Description: Klein-4 group\n",
      "Identity: e\n",
      "Associative? Yes\n",
      "Commutative? Yes\n",
      "Elements:\n",
      "   Index   Name   Inverse  Order\n",
      "      0       e       e       1\n",
      "      1       h       h       2\n",
      "      2       v       v       2\n",
      "      3       r       r       2\n",
      "Cayley Table (showing indices):\n",
      "[[0, 1, 2, 3], [1, 0, 3, 2], [2, 3, 0, 1], [3, 2, 1, 0]]\n"
     ]
    }
   ],
   "source": [
    ">>> v4.about()"
   ]
  },
  {
   "cell_type": "markdown",
   "id": "2c7ecc68",
   "metadata": {},
   "source": [
    "## Inverses"
   ]
  },
  {
   "cell_type": "markdown",
   "id": "23d0f15f",
   "metadata": {},
   "source": [
    "An element's inverse can be obtained using the ``inverse`` method.\n",
    "\n",
    "**NOTE**: Every element in the Klein-4 group is its own inverse."
   ]
  },
  {
   "cell_type": "code",
   "execution_count": 6,
   "id": "5d80331c",
   "metadata": {},
   "outputs": [
    {
     "data": {
      "text/plain": [
       "'h'"
      ]
     },
     "execution_count": 6,
     "metadata": {},
     "output_type": "execute_result"
    }
   ],
   "source": [
    ">>> h_inv = v4.inv('h')\n",
    ">>> h_inv"
   ]
  },
  {
   "cell_type": "markdown",
   "id": "38d27a01",
   "metadata": {},
   "source": [
    "## Binary Operation (\"Multiplication\")"
   ]
  },
  {
   "cell_type": "markdown",
   "id": "0588f14c",
   "metadata": {},
   "source": [
    "Algebra elements can be *multiplied* using the method, ``op``."
   ]
  },
  {
   "cell_type": "code",
   "execution_count": 7,
   "id": "abe1ee2f",
   "metadata": {},
   "outputs": [
    {
     "data": {
      "text/plain": [
       "'r'"
      ]
     },
     "execution_count": 7,
     "metadata": {},
     "output_type": "execute_result"
    }
   ],
   "source": [
    ">>> v4.op('h', 'v')  # h * v = hv"
   ]
  },
  {
   "cell_type": "markdown",
   "id": "cd1d539a",
   "metadata": {},
   "source": [
    "``op`` can be called with zero or more arguments.\n",
    "\n",
    "Calling ``op`` without any arguments will return the identity element, if it exists, or ``None`` if it doesn't."
   ]
  },
  {
   "cell_type": "code",
   "execution_count": 8,
   "id": "0cf7b9bd",
   "metadata": {},
   "outputs": [
    {
     "data": {
      "text/plain": [
       "'e'"
      ]
     },
     "execution_count": 8,
     "metadata": {},
     "output_type": "execute_result"
    }
   ],
   "source": [
    ">>> v4.op()"
   ]
  },
  {
   "cell_type": "markdown",
   "id": "977dc653",
   "metadata": {},
   "source": [
    "Calling ``op`` with only one argument will simply return that argument."
   ]
  },
  {
   "cell_type": "code",
   "execution_count": 9,
   "id": "34997807",
   "metadata": {},
   "outputs": [
    {
     "data": {
      "text/plain": [
       "'h'"
      ]
     },
     "execution_count": 9,
     "metadata": {},
     "output_type": "execute_result"
    }
   ],
   "source": [
    ">>> v4.op('h')"
   ]
  },
  {
   "cell_type": "markdown",
   "id": "56861b30",
   "metadata": {},
   "source": [
    "Calling ``op`` with more than two arguments will return the product of all of the arguments.\n",
    "\n",
    "e.g., $h \\times v \\times h^{-1} = v$"
   ]
  },
  {
   "cell_type": "code",
   "execution_count": 10,
   "id": "f59b8b74",
   "metadata": {},
   "outputs": [
    {
     "data": {
      "text/plain": [
       "'v'"
      ]
     },
     "execution_count": 10,
     "metadata": {},
     "output_type": "execute_result"
    }
   ],
   "source": [
    ">>> v4.op('h', 'v', h_inv)"
   ]
  },
  {
   "cell_type": "markdown",
   "id": "517a9c52",
   "metadata": {},
   "source": [
    "By the way, the operation, $h \\times v \\times h^{-1}$, is called *conjugation* and can be done more succinctly as shown below:"
   ]
  },
  {
   "cell_type": "code",
   "execution_count": 11,
   "id": "b460fbda",
   "metadata": {},
   "outputs": [
    {
     "data": {
      "text/plain": [
       "'v'"
      ]
     },
     "execution_count": 11,
     "metadata": {},
     "output_type": "execute_result"
    }
   ],
   "source": [
    ">>> v4.conj('v', 'h')"
   ]
  },
  {
   "cell_type": "markdown",
   "id": "a27c8e30",
   "metadata": {},
   "source": [
    "## Checking for Commutativity"
   ]
  },
  {
   "cell_type": "markdown",
   "id": "ee61a4cf",
   "metadata": {},
   "source": [
    "A group can be tested to determine if it's **abelian**:"
   ]
  },
  {
   "cell_type": "code",
   "execution_count": 12,
   "id": "89af4c69",
   "metadata": {},
   "outputs": [
    {
     "data": {
      "text/plain": [
       "True"
      ]
     },
     "execution_count": 12,
     "metadata": {},
     "output_type": "execute_result"
    }
   ],
   "source": [
    ">>> v4.is_abelian()"
   ]
  },
  {
   "cell_type": "markdown",
   "id": "d503c5d6",
   "metadata": {},
   "source": [
    "## Direct Products"
   ]
  },
  {
   "cell_type": "markdown",
   "id": "3c6eb4b7",
   "metadata": {},
   "source": [
    "A **cyclic group** of any order can be automatically generated:"
   ]
  },
  {
   "cell_type": "code",
   "execution_count": 13,
   "id": "c997156d",
   "metadata": {},
   "outputs": [
    {
     "data": {
      "text/plain": [
       "Group(\n",
       "Z4,\n",
       "Autogenerated cyclic group of order 4,\n",
       "['e', 'a', 'a^2', 'a^3'],\n",
       "[[0, 1, 2, 3], [1, 2, 3, 0], [2, 3, 0, 1], [3, 0, 1, 2]]\n",
       ")"
      ]
     },
     "execution_count": 13,
     "metadata": {},
     "output_type": "execute_result"
    }
   ],
   "source": [
    ">>> z4 = generate_cyclic_group(4)\n",
    ">>> z4"
   ]
  },
  {
   "cell_type": "markdown",
   "id": "093e9f54",
   "metadata": {},
   "source": [
    "Calling ``about`` with ``use_table_names`` set to ``True`` will print the table using element names rather than indices."
   ]
  },
  {
   "cell_type": "code",
   "execution_count": 14,
   "id": "59d66cbf",
   "metadata": {},
   "outputs": [
    {
     "name": "stdout",
     "output_type": "stream",
     "text": [
      "\n",
      "Group: Z4\n",
      "Description: Autogenerated cyclic group of order 4\n",
      "Identity: e\n",
      "Associative? Yes\n",
      "Commutative? Yes\n",
      "Elements:\n",
      "   Index   Name   Inverse  Order\n",
      "      0       e       e       1\n",
      "      1       a     a^3       4\n",
      "      2     a^2     a^2       2\n",
      "      3     a^3       a       4\n",
      "Cayley Table (showing names):\n",
      "[['e', 'a', 'a^2', 'a^3'],\n",
      " ['a', 'a^2', 'a^3', 'e'],\n",
      " ['a^2', 'a^3', 'e', 'a'],\n",
      " ['a^3', 'e', 'a', 'a^2']]\n"
     ]
    }
   ],
   "source": [
    "z4.about(use_table_names=True)"
   ]
  },
  {
   "cell_type": "markdown",
   "id": "692c8baf",
   "metadata": {},
   "source": [
    "The **direct product** of two or more groups can be generated using Python's multiplication operator, ``*``:"
   ]
  },
  {
   "cell_type": "code",
   "execution_count": 15,
   "id": "0e79d0a4",
   "metadata": {},
   "outputs": [
    {
     "data": {
      "text/plain": [
       "Group(\n",
       "Z2,\n",
       "Autogenerated cyclic group of order 2,\n",
       "['e', 'a'],\n",
       "[[0, 1], [1, 0]]\n",
       ")"
      ]
     },
     "execution_count": 15,
     "metadata": {},
     "output_type": "execute_result"
    }
   ],
   "source": [
    ">>> z2 = generate_cyclic_group(2)\n",
    ">>> z2"
   ]
  },
  {
   "cell_type": "code",
   "execution_count": 16,
   "id": "ee0e1878",
   "metadata": {},
   "outputs": [
    {
     "data": {
      "text/plain": [
       "Group(\n",
       "Z2_x_Z2,\n",
       "Direct product of Z2 & Z2,\n",
       "['e:e', 'e:a', 'a:e', 'a:a'],\n",
       "[[0, 1, 2, 3], [1, 0, 3, 2], [2, 3, 0, 1], [3, 2, 1, 0]]\n",
       ")"
      ]
     },
     "execution_count": 16,
     "metadata": {},
     "output_type": "execute_result"
    }
   ],
   "source": [
    ">>> z2_x_z2 = z2 * z2\n",
    ">>> z2_x_z2"
   ]
  },
  {
   "cell_type": "markdown",
   "id": "bdbf71a6",
   "metadata": {},
   "source": [
    "## Isomorphisms"
   ]
  },
  {
   "cell_type": "markdown",
   "id": "63ec93b1",
   "metadata": {},
   "source": [
    "If two groups are isomorphic, then the mapping between their elements is returned as a Python dictionary."
   ]
  },
  {
   "cell_type": "code",
   "execution_count": 17,
   "id": "d364b554",
   "metadata": {},
   "outputs": [
    {
     "data": {
      "text/plain": [
       "{'h': 'e:a', 'v': 'a:e', 'r': 'a:a', 'e': 'e:e'}"
      ]
     },
     "execution_count": 17,
     "metadata": {},
     "output_type": "execute_result"
    }
   ],
   "source": [
    ">>> v4.isomorphic(z2_x_z2)"
   ]
  },
  {
   "cell_type": "markdown",
   "id": "4b31d254",
   "metadata": {},
   "source": [
    "If two groups are not isomorphic, then ``False`` is returned."
   ]
  },
  {
   "cell_type": "code",
   "execution_count": 18,
   "id": "076ac7ca",
   "metadata": {},
   "outputs": [
    {
     "data": {
      "text/plain": [
       "False"
      ]
     },
     "execution_count": 18,
     "metadata": {},
     "output_type": "execute_result"
    }
   ],
   "source": [
    ">>> z4.isomorphic(z2_x_z2)"
   ]
  },
  {
   "cell_type": "markdown",
   "id": "8233f3a6",
   "metadata": {},
   "source": [
    "The proper subgroups of a group can also be computed."
   ]
  },
  {
   "cell_type": "code",
   "execution_count": 19,
   "id": "22eaf6f2",
   "metadata": {},
   "outputs": [
    {
     "data": {
      "text/plain": [
       "[Group(\n",
       " Z8_subgroup_0,\n",
       " Subgroup of: Autogenerated cyclic group of order 8,\n",
       " ['e', 'a^2', 'a^4', 'a^6'],\n",
       " [[0, 1, 2, 3], [1, 2, 3, 0], [2, 3, 0, 1], [3, 0, 1, 2]]\n",
       " ),\n",
       " Group(\n",
       " Z8_subgroup_1,\n",
       " Subgroup of: Autogenerated cyclic group of order 8,\n",
       " ['e', 'a^4'],\n",
       " [[0, 1], [1, 0]]\n",
       " )]"
      ]
     },
     "execution_count": 19,
     "metadata": {},
     "output_type": "execute_result"
    }
   ],
   "source": [
    ">>> z8 = generate_cyclic_group(8)\n",
    ">>> z8.proper_subgroups()"
   ]
  },
  {
   "cell_type": "markdown",
   "id": "e06e9d7b",
   "metadata": {},
   "source": [
    "## Autogeneration of Finite Algebras\n",
    "\n",
    "There are three functions for autogenerating groups:\n",
    "* ``autogenerate_cyclic_group``\n",
    "* ``autogenerate_symmetric_group``\n",
    "* ``autogenerate_powerset_group``\n",
    "\n",
    "And one function for autogenerating a monoid:\n",
    "* ``autogenerate_commutative_monoid``\n",
    "\n",
    "The autogeneration of cyclic groups was demonstrated above.  Usage of the other autogenerators is illustrated below.\n",
    "\n",
    "The symmetric group, based on the permutations of <b>n</b> elements, (1, 2, 3, ..., n), can be generated using ``autogenerate_symmetric_group``.\n",
    "\n",
    "<b>WARNING</b>: Since the order of an autogenerated symmetric group is <b>n!</b>, even small values of n can result in large groups, which, in turn, can result in long runtimes associated with operations performed on them."
   ]
  },
  {
   "cell_type": "code",
   "execution_count": 20,
   "id": "2ec8f261",
   "metadata": {},
   "outputs": [
    {
     "name": "stdout",
     "output_type": "stream",
     "text": [
      "\n",
      "Group: S3\n",
      "Description: Autogenerated symmetric group on 3 elements\n",
      "Identity: (1, 2, 3)\n",
      "Associative? Yes\n",
      "Commutative? No\n",
      "Elements:\n",
      "   Index   Name   Inverse  Order\n",
      "      0 (1, 2, 3) (1, 2, 3)       1\n",
      "      1 (1, 3, 2) (1, 3, 2)       2\n",
      "      2 (2, 1, 3) (2, 1, 3)       2\n",
      "      3 (2, 3, 1) (3, 1, 2)       3\n",
      "      4 (3, 1, 2) (2, 3, 1)       3\n",
      "      5 (3, 2, 1) (3, 2, 1)       2\n",
      "Cayley Table (showing indices):\n",
      "[[0, 1, 2, 3, 4, 5],\n",
      " [1, 0, 4, 5, 2, 3],\n",
      " [2, 3, 0, 1, 5, 4],\n",
      " [3, 2, 5, 4, 0, 1],\n",
      " [4, 5, 1, 0, 3, 2],\n",
      " [5, 4, 3, 2, 1, 0]]\n"
     ]
    }
   ],
   "source": [
    "s3 = generate_symmetric_group(3)\n",
    "s3.about()"
   ]
  },
  {
   "cell_type": "markdown",
   "id": "e846a977",
   "metadata": {},
   "source": [
    "The function, ``autogenerate_powerset_group``, will generate a group on the powerset of {0, 1, 2, ..., n} with <b>symmetric difference</b> as the groups binary operation.  This group is useful because it can be used to form a ring with set intersection as the second operator.\n",
    "\n",
    "This means that the order of the autogenerated powerset group will be $2^n$, so the same WARNING as above applies.\n",
    "\n",
    "Note that, in the powerset example below, tuples are used as elements, rather than sets, because the implementation needs to index elements, and you can't do that with sets."
   ]
  },
  {
   "cell_type": "code",
   "execution_count": 21,
   "id": "c8fdb769",
   "metadata": {},
   "outputs": [
    {
     "name": "stdout",
     "output_type": "stream",
     "text": [
      "\n",
      "Group: PS3\n",
      "Description: Autogenerated group on the powerset of 3 elements, with symmetric difference operator\n",
      "Identity: {}\n",
      "Associative? Yes\n",
      "Commutative? Yes\n",
      "Elements:\n",
      "   Index   Name   Inverse  Order\n",
      "      0      {}      {}       1\n",
      "      1     {0}     {0}       2\n",
      "      2     {1}     {1}       2\n",
      "      3     {2}     {2}       2\n",
      "      4  {0, 1}  {0, 1}       2\n",
      "      5  {0, 2}  {0, 2}       2\n",
      "      6  {1, 2}  {1, 2}       2\n",
      "      7 {0, 1, 2} {0, 1, 2}       2\n",
      "Cayley Table (showing indices):\n",
      "[[0, 1, 2, 3, 4, 5, 6, 7],\n",
      " [1, 0, 4, 5, 2, 3, 7, 6],\n",
      " [2, 4, 0, 6, 1, 7, 3, 5],\n",
      " [3, 5, 6, 0, 7, 1, 2, 4],\n",
      " [4, 2, 1, 7, 0, 6, 5, 3],\n",
      " [5, 3, 7, 1, 6, 0, 4, 2],\n",
      " [6, 7, 3, 2, 5, 4, 0, 1],\n",
      " [7, 6, 5, 4, 3, 2, 1, 0]]\n"
     ]
    }
   ],
   "source": [
    "ps3 = generate_powerset_group(3)\n",
    "ps3.about()"
   ]
  },
  {
   "cell_type": "code",
   "execution_count": 22,
   "id": "44bfad2a",
   "metadata": {},
   "outputs": [
    {
     "name": "stdout",
     "output_type": "stream",
     "text": [
      "PS3 has 14 proper subgroups.\n",
      "But, up to isomorphisms, only 2 are proper subgroups.\n"
     ]
    }
   ],
   "source": [
    "ps3_proper_subgroups = ps3.proper_subgroups()\n",
    "\n",
    "print(f\"{ps3.name} has {len(ps3_proper_subgroups)} proper subgroups.\")\n",
    "\n",
    "unique_subgroups = partition_into_isomorphic_lists(ps3_proper_subgroups)\n",
    "\n",
    "print(f\"But, up to isomorphisms, only {len(unique_subgroups)} are proper subgroups.\")"
   ]
  },
  {
   "cell_type": "markdown",
   "id": "94202056",
   "metadata": {},
   "source": [
    "Here are the two unique, up to isomorphism, subgroups of PS3:"
   ]
  },
  {
   "cell_type": "code",
   "execution_count": 23,
   "id": "29fed3c9",
   "metadata": {},
   "outputs": [
    {
     "name": "stdout",
     "output_type": "stream",
     "text": [
      "\n",
      "Group: PS3_subgroup_0\n",
      "Description: Subgroup of: Autogenerated group on the powerset of 3 elements, with symmetric difference operator\n",
      "Identity: {}\n",
      "Associative? Yes\n",
      "Commutative? Yes\n",
      "Elements:\n",
      "   Index   Name   Inverse  Order\n",
      "      0      {}      {}       1\n",
      "      1     {1}     {1}       2\n",
      "Cayley Table (showing indices):\n",
      "[[0, 1], [1, 0]]\n",
      "\n",
      "Group: PS3_subgroup_6\n",
      "Description: Subgroup of: Autogenerated group on the powerset of 3 elements, with symmetric difference operator\n",
      "Identity: {}\n",
      "Associative? Yes\n",
      "Commutative? Yes\n",
      "Elements:\n",
      "   Index   Name   Inverse  Order\n",
      "      0      {}      {}       1\n",
      "      1  {0, 1}  {0, 1}       2\n",
      "      2  {0, 2}  {0, 2}       2\n",
      "      3  {1, 2}  {1, 2}       2\n",
      "Cayley Table (showing indices):\n",
      "[[0, 1, 2, 3], [1, 0, 3, 2], [2, 3, 0, 1], [3, 2, 1, 0]]\n"
     ]
    }
   ],
   "source": [
    "_ = [subgroup[0].about() for subgroup in unique_subgroups]"
   ]
  },
  {
   "cell_type": "markdown",
   "id": "812cde5d",
   "metadata": {},
   "source": [
    "### Autogenerating a Commutative Monoid"
   ]
  },
  {
   "cell_type": "markdown",
   "id": "f8cbee93",
   "metadata": {},
   "source": [
    "The function, ``generate_commutative_monoid``, generates a commutative monoid over {0,1,2,...,n-1}, where op(a,b) = (a * b) % n."
   ]
  },
  {
   "cell_type": "code",
   "execution_count": 24,
   "id": "2db371a3",
   "metadata": {},
   "outputs": [
    {
     "name": "stdout",
     "output_type": "stream",
     "text": [
      "\n",
      "Monoid: M5\n",
      "Description: Autogenerated commutative monoid of order 5\n",
      "Elements: ['a0', 'a1', 'a2', 'a3', 'a4']\n",
      "Identity: a1\n",
      "Associative? Yes\n",
      "Commutative? Yes\n",
      "Has Inverses? No\n",
      "Cayley Table (showing indices):\n",
      "[[0, 0, 0, 0, 0],\n",
      " [0, 1, 2, 3, 4],\n",
      " [0, 2, 4, 1, 3],\n",
      " [0, 3, 1, 4, 2],\n",
      " [0, 4, 3, 2, 1]]\n"
     ]
    }
   ],
   "source": [
    "n = 5\n",
    "mon = generate_commutative_monoid(n)\n",
    "mon.about()"
   ]
  },
  {
   "cell_type": "markdown",
   "id": "1a0767ca",
   "metadata": {},
   "source": [
    "**Direct Products** can be computed for any finite algebra, as shown below:"
   ]
  },
  {
   "cell_type": "code",
   "execution_count": 25,
   "id": "ffa76276",
   "metadata": {},
   "outputs": [
    {
     "name": "stdout",
     "output_type": "stream",
     "text": [
      "\n",
      "Monoid: M3\n",
      "Description: Autogenerated commutative monoid of order 3\n",
      "Elements: ['a0', 'a1', 'a2']\n",
      "Identity: a1\n",
      "Associative? Yes\n",
      "Commutative? Yes\n",
      "Has Inverses? No\n",
      "Cayley Table (showing indices):\n",
      "[[0, 0, 0], [0, 1, 2], [0, 2, 1]]\n"
     ]
    }
   ],
   "source": [
    "mon3 = generate_commutative_monoid(3)\n",
    "mon3.about()"
   ]
  },
  {
   "cell_type": "code",
   "execution_count": 26,
   "id": "aeebe315",
   "metadata": {},
   "outputs": [
    {
     "name": "stdout",
     "output_type": "stream",
     "text": [
      "\n",
      "Monoid: M3_x_M3\n",
      "Description: Direct product of M3 & M3\n",
      "Elements: ['a0:a0', 'a0:a1', 'a0:a2', 'a1:a0', 'a1:a1', 'a1:a2', 'a2:a0', 'a2:a1', 'a2:a2']\n",
      "Identity: a1:a1\n",
      "Associative? Yes\n",
      "Commutative? Yes\n",
      "Has Inverses? No\n",
      "Cayley Table (showing indices):\n",
      "[[0, 0, 0, 0, 0, 0, 0, 0, 0],\n",
      " [0, 1, 2, 0, 1, 2, 0, 1, 2],\n",
      " [0, 2, 1, 0, 2, 1, 0, 2, 1],\n",
      " [0, 0, 0, 3, 3, 3, 6, 6, 6],\n",
      " [0, 1, 2, 3, 4, 5, 6, 7, 8],\n",
      " [0, 2, 1, 3, 5, 4, 6, 8, 7],\n",
      " [0, 0, 0, 6, 6, 6, 3, 3, 3],\n",
      " [0, 1, 2, 6, 7, 8, 3, 4, 5],\n",
      " [0, 2, 1, 6, 8, 7, 3, 5, 4]]\n"
     ]
    }
   ],
   "source": [
    "m3xm3 = mon3 * mon3\n",
    "m3xm3.about()"
   ]
  },
  {
   "cell_type": "markdown",
   "id": "fe58cb47",
   "metadata": {},
   "source": [
    "## Unital Magmas"
   ]
  },
  {
   "cell_type": "markdown",
   "id": "357a4956",
   "metadata": {},
   "source": [
    "Source: https://math.stackexchange.com/questions/3442360/what-is-difference-between-idempotent-magma-and-unital-magma\n",
    "\n",
    "What about idempotent magmas and semigroups? The only difference between the two is associativity, so to separate the two we just need a non-associative idempotent operation. A useful example of this is the \"midpoint\" algebra on a three-element set {𝑎,𝑏,𝑐}: the operation is given by setting\n",
    "\n",
    "$ab = ba = c$, \n",
    "<p>$ac = ca = b$, \n",
    "<p>$bc = cb = a$\n",
    "\n",
    "and\n",
    "\n",
    "$aa = a$\n",
    "<p>$bb = b$\n",
    "<p>$cc = c$\n",
    "\n",
    "\n",
    "This is obviously idempotent, but it is not associative since e.g.\n",
    "    \n",
    "$(aa)b = ab = c \\ne b = ac = a(ab)$\n",
    "\n",
    "Note that in fact this is a commutative idempotent magma which is non-unital and non-associative (= not a semigroup).\n",
    "\n",
    "Meanwhile, the \"left projection\" operation on a nonempty set 𝐴 (given by 𝑎∗𝑏=𝑎 for all 𝑎,𝑏∈𝐴) is trivially associative and idempotent (so an idempotent semigroup) but neither unital (unless |𝐴|=1) nor commutative."
   ]
  },
  {
   "cell_type": "code",
   "execution_count": 27,
   "id": "7b6ccd83",
   "metadata": {},
   "outputs": [],
   "source": [
    "tbl0 = [['e','a','b'],\n",
    "        ['a','e','a'],\n",
    "        ['b','b','a']]"
   ]
  },
  {
   "cell_type": "code",
   "execution_count": 29,
   "id": "55d5b611",
   "metadata": {},
   "outputs": [
    {
     "data": {
      "text/plain": [
       "[[0, 1, 2], [1, 0, 1], [2, 2, 1]]"
      ]
     },
     "execution_count": 29,
     "metadata": {},
     "output_type": "execute_result"
    }
   ],
   "source": [
    "tbl0x = index_table_from_name_table(['e','a','b'], tbl0)\n",
    "tbl0x"
   ]
  },
  {
   "cell_type": "code",
   "execution_count": 30,
   "id": "329e8fa5",
   "metadata": {},
   "outputs": [
    {
     "data": {
      "text/plain": [
       "CayleyTable([[0, 1, 2], [1, 0, 1], [2, 2, 1]])"
      ]
     },
     "execution_count": 30,
     "metadata": {},
     "output_type": "execute_result"
    }
   ],
   "source": [
    "ct0 = CayleyTable(tbl0x)\n",
    "ct0"
   ]
  },
  {
   "cell_type": "code",
   "execution_count": 31,
   "id": "46df9cf0",
   "metadata": {},
   "outputs": [
    {
     "data": {
      "text/plain": [
       "False"
      ]
     },
     "execution_count": 31,
     "metadata": {},
     "output_type": "execute_result"
    }
   ],
   "source": [
    "ct0.is_associative()"
   ]
  },
  {
   "cell_type": "code",
   "execution_count": 32,
   "id": "3a8a2b21",
   "metadata": {},
   "outputs": [
    {
     "data": {
      "text/plain": [
       "False"
      ]
     },
     "execution_count": 32,
     "metadata": {},
     "output_type": "execute_result"
    }
   ],
   "source": [
    "ct0.is_commutative()"
   ]
  },
  {
   "cell_type": "code",
   "execution_count": 33,
   "id": "3c96ae61",
   "metadata": {},
   "outputs": [
    {
     "data": {
      "text/plain": [
       "False"
      ]
     },
     "execution_count": 33,
     "metadata": {},
     "output_type": "execute_result"
    }
   ],
   "source": [
    "ct0.has_inverses()"
   ]
  },
  {
   "cell_type": "code",
   "execution_count": 36,
   "id": "f284a47f",
   "metadata": {},
   "outputs": [
    {
     "data": {
      "text/plain": [
       "0"
      ]
     },
     "execution_count": 36,
     "metadata": {},
     "output_type": "execute_result"
    }
   ],
   "source": [
    "ct0.identity()"
   ]
  },
  {
   "cell_type": "code",
   "execution_count": null,
   "id": "6f096c4f",
   "metadata": {},
   "outputs": [],
   "source": []
  }
 ],
 "metadata": {
  "kernelspec": {
   "display_name": "Python 3",
   "language": "python",
   "name": "python3"
  },
  "language_info": {
   "codemirror_mode": {
    "name": "ipython",
    "version": 3
   },
   "file_extension": ".py",
   "mimetype": "text/x-python",
   "name": "python",
   "nbconvert_exporter": "python",
   "pygments_lexer": "ipython3",
   "version": "3.7.7"
  }
 },
 "nbformat": 4,
 "nbformat_minor": 5
}
