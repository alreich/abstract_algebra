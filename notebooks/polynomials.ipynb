{
 "cells": [
  {
   "cell_type": "markdown",
   "id": "131b773c",
   "metadata": {},
   "source": [
    "# Polynomials"
   ]
  },
  {
   "cell_type": "markdown",
   "id": "b1ed7780",
   "metadata": {},
   "source": [
    "Work-In-Progress: This is an experimental notebook"
   ]
  },
  {
   "cell_type": "code",
   "execution_count": 1,
   "id": "754eb39d",
   "metadata": {},
   "outputs": [],
   "source": [
    "from polynomials import *"
   ]
  },
  {
   "cell_type": "markdown",
   "id": "732021a5",
   "metadata": {},
   "source": [
    "There are only two classes involved here: **Term** and **Poly**.\n",
    "\n",
    "A **Poly** is a list of **Term**.\n",
    "\n",
    "**Example**:\n",
    "\n",
    "$-2 -4x +7x^2 -3x^4$ is a polynomial that consists of four terms,\n",
    "\n",
    "where each term has a coefficient, order, and the same variable:\n",
    "\n",
    "$-2x^0$ and $-4x^1$ and $+7x^2$ and $-3x^4$."
   ]
  },
  {
   "cell_type": "markdown",
   "id": "a48a646e",
   "metadata": {},
   "source": [
    "## Terms"
   ]
  },
  {
   "cell_type": "markdown",
   "id": "1d877d5d",
   "metadata": {},
   "source": [
    "A ``Term`` consists of:\n",
    "\n",
    "* **coefficient** (``int`` or ``float``)\n",
    "* **order** (non-negative ``int``)\n",
    "* **varname** (``string`` variable name)"
   ]
  },
  {
   "cell_type": "markdown",
   "id": "ca39cfba",
   "metadata": {},
   "source": [
    "The term $-2y^3$ is represented as follows:"
   ]
  },
  {
   "cell_type": "code",
   "execution_count": 2,
   "id": "2cbda19e",
   "metadata": {},
   "outputs": [
    {
     "name": "stdout",
     "output_type": "stream",
     "text": [
      "-2y^3\n"
     ]
    },
    {
     "data": {
      "text/plain": [
       "Term(-2, 3, y)"
      ]
     },
     "execution_count": 2,
     "metadata": {},
     "output_type": "execute_result"
    }
   ],
   "source": [
    "t1 = Term(-2, 3, 'y')\n",
    "print(t1)\n",
    "t1"
   ]
  },
  {
   "cell_type": "markdown",
   "id": "fe098786",
   "metadata": {},
   "source": [
    "Within a Jupyter notebook like this one, the function, ``latex``, will output a string using Latex formatting."
   ]
  },
  {
   "cell_type": "code",
   "execution_count": 3,
   "id": "e9f246ae",
   "metadata": {},
   "outputs": [
    {
     "data": {
      "text/latex": [
       "$\\displaystyle -2y^3$"
      ],
      "text/plain": [
       "<IPython.core.display.Math object>"
      ]
     },
     "metadata": {},
     "output_type": "display_data"
    }
   ],
   "source": [
    "latex(t1)"
   ]
  },
  {
   "cell_type": "markdown",
   "id": "58e9d24c",
   "metadata": {},
   "source": [
    "If no variable name is entered, then the default is **'x'**.\n",
    "\n",
    "The default variable name is not output in the print representation."
   ]
  },
  {
   "cell_type": "code",
   "execution_count": 4,
   "id": "5500f679",
   "metadata": {},
   "outputs": [
    {
     "name": "stdout",
     "output_type": "stream",
     "text": [
      "+1x^2\n"
     ]
    },
    {
     "data": {
      "text/latex": [
       "$\\displaystyle +1x^2$"
      ],
      "text/plain": [
       "<IPython.core.display.Math object>"
      ]
     },
     "metadata": {},
     "output_type": "display_data"
    },
    {
     "data": {
      "text/plain": [
       "Term(1, 2)"
      ]
     },
     "execution_count": 4,
     "metadata": {},
     "output_type": "execute_result"
    }
   ],
   "source": [
    "t2 = Term(1, 2)\n",
    "print(t2)\n",
    "latex(t2)\n",
    "t2"
   ]
  },
  {
   "cell_type": "markdown",
   "id": "28bf0a64",
   "metadata": {},
   "source": [
    "### Term: Equality"
   ]
  },
  {
   "cell_type": "markdown",
   "id": "39602930",
   "metadata": {},
   "source": [
    "The method, ``unpack``, returns the three quantities that make up a Term.  It's used below to create a copy of a Term and then check for equality."
   ]
  },
  {
   "cell_type": "code",
   "execution_count": 5,
   "id": "988a22ae",
   "metadata": {},
   "outputs": [
    {
     "name": "stdout",
     "output_type": "stream",
     "text": [
      "t1  = -2y^3\n",
      "t1b = -2y^3\n",
      "t1 == t1b ? True\n"
     ]
    }
   ],
   "source": [
    "coef, ord, var = t1.unpack()\n",
    "t1b = Term(coef, ord, var)\n",
    "print(f\"t1  = {t1}\")\n",
    "print(f\"t1b = {t1b}\")\n",
    "print(f\"t1 == t1b ? {t1 == t1b}\")"
   ]
  },
  {
   "cell_type": "markdown",
   "id": "d1719688",
   "metadata": {},
   "source": [
    "The method, ``copy``, will create an exact copy of a Term."
   ]
  },
  {
   "cell_type": "code",
   "execution_count": 6,
   "id": "114c2676",
   "metadata": {},
   "outputs": [
    {
     "name": "stdout",
     "output_type": "stream",
     "text": [
      "t1 == t1c ? True\n",
      "t1  object ID: 140633492984912\n",
      "t1c object ID: 140633201659792\n"
     ]
    }
   ],
   "source": [
    "t1c = t1.copy()\n",
    "print(f\"t1 == t1c ? {t1 == t1c}\")\n",
    "print(f\"t1  object ID: {id(t1)}\")\n",
    "print(f\"t1c object ID: {id(t1c)}\")"
   ]
  },
  {
   "cell_type": "markdown",
   "id": "bf306f09",
   "metadata": {},
   "source": [
    "### Term: Power"
   ]
  },
  {
   "cell_type": "markdown",
   "id": "a885ea31",
   "metadata": {},
   "source": [
    "Terms can be raised to a non-negative integer power."
   ]
  },
  {
   "cell_type": "code",
   "execution_count": 7,
   "id": "37d184f7",
   "metadata": {},
   "outputs": [
    {
     "data": {
      "text/latex": [
       "$\\displaystyle -2y^3$"
      ],
      "text/plain": [
       "<IPython.core.display.Math object>"
      ]
     },
     "metadata": {},
     "output_type": "display_data"
    }
   ],
   "source": [
    "latex(t1)  # Test with this term"
   ]
  },
  {
   "cell_type": "code",
   "execution_count": 8,
   "id": "704363f0",
   "metadata": {},
   "outputs": [
    {
     "data": {
      "text/latex": [
       "$\\displaystyle +4y^6$"
      ],
      "text/plain": [
       "<IPython.core.display.Math object>"
      ]
     },
     "metadata": {},
     "output_type": "display_data"
    },
    {
     "data": {
      "text/plain": [
       "Term(4, 6, y)"
      ]
     },
     "execution_count": 8,
     "metadata": {},
     "output_type": "execute_result"
    }
   ],
   "source": [
    "t3a = t1**2\n",
    "latex(t3a)\n",
    "t3a"
   ]
  },
  {
   "cell_type": "markdown",
   "id": "775771ee",
   "metadata": {},
   "source": [
    "Raising a term to the zero power yields 1, as expected."
   ]
  },
  {
   "cell_type": "code",
   "execution_count": 9,
   "id": "579709a5",
   "metadata": {},
   "outputs": [
    {
     "data": {
      "text/latex": [
       "$\\displaystyle +1$"
      ],
      "text/plain": [
       "<IPython.core.display.Math object>"
      ]
     },
     "metadata": {},
     "output_type": "display_data"
    },
    {
     "data": {
      "text/plain": [
       "Term(1, 0, y)"
      ]
     },
     "execution_count": 9,
     "metadata": {},
     "output_type": "execute_result"
    }
   ],
   "source": [
    "t3b = t1**0\n",
    "latex(t3b)\n",
    "t3b"
   ]
  },
  {
   "cell_type": "markdown",
   "id": "874f6229",
   "metadata": {},
   "source": [
    "### Term: Multiplication"
   ]
  },
  {
   "cell_type": "markdown",
   "id": "a641fc7e",
   "metadata": {},
   "source": [
    "Terms can be multiplied by an ``int`` or a ``float``, on the left or the right."
   ]
  },
  {
   "cell_type": "code",
   "execution_count": 10,
   "id": "3d42b14e",
   "metadata": {},
   "outputs": [
    {
     "data": {
      "text/latex": [
       "$\\displaystyle +4y^6$"
      ],
      "text/plain": [
       "<IPython.core.display.Math object>"
      ]
     },
     "metadata": {},
     "output_type": "display_data"
    }
   ],
   "source": [
    "num = 5.1  # Test with this value,\n",
    "latex(t3a)  # and this term"
   ]
  },
  {
   "cell_type": "code",
   "execution_count": 11,
   "id": "05755643",
   "metadata": {},
   "outputs": [
    {
     "data": {
      "text/latex": [
       "$\\displaystyle +20.4y^6$"
      ],
      "text/plain": [
       "<IPython.core.display.Math object>"
      ]
     },
     "metadata": {},
     "output_type": "display_data"
    },
    {
     "data": {
      "text/plain": [
       "Term(20.4, 6, y)"
      ]
     },
     "execution_count": 11,
     "metadata": {},
     "output_type": "execute_result"
    }
   ],
   "source": [
    "t4 = num * t3a\n",
    "latex(t4)\n",
    "t4"
   ]
  },
  {
   "cell_type": "code",
   "execution_count": 12,
   "id": "11b908ef",
   "metadata": {},
   "outputs": [
    {
     "data": {
      "text/plain": [
       "True"
      ]
     },
     "execution_count": 12,
     "metadata": {},
     "output_type": "execute_result"
    }
   ],
   "source": [
    "num * t3a == t3a * num"
   ]
  },
  {
   "cell_type": "markdown",
   "id": "736ca796",
   "metadata": {},
   "source": [
    "### Term: Like terms"
   ]
  },
  {
   "cell_type": "markdown",
   "id": "e6163cfa",
   "metadata": {},
   "source": [
    "Like terms have the same variable and the same order.\n",
    "\n",
    "e.g., $-2x^7$ and $8x^7$ are like terms.\n",
    "<p>$-2x^7$ and $8x^3$ are **not** like terms.</p>"
   ]
  },
  {
   "cell_type": "code",
   "execution_count": 13,
   "id": "87444f5a",
   "metadata": {},
   "outputs": [
    {
     "data": {
      "text/latex": [
       "$\\displaystyle t5 = -2x^7$"
      ],
      "text/plain": [
       "<IPython.core.display.Math object>"
      ]
     },
     "metadata": {},
     "output_type": "display_data"
    },
    {
     "data": {
      "text/latex": [
       "$\\displaystyle t6 = +8x^7$"
      ],
      "text/plain": [
       "<IPython.core.display.Math object>"
      ]
     },
     "metadata": {},
     "output_type": "display_data"
    },
    {
     "data": {
      "text/latex": [
       "$\\displaystyle t7 = +8x^3$"
      ],
      "text/plain": [
       "<IPython.core.display.Math object>"
      ]
     },
     "metadata": {},
     "output_type": "display_data"
    }
   ],
   "source": [
    "# Test with these terms\n",
    "\n",
    "t5 = Term(-2, 7)\n",
    "t6 = Term( 8, 7)\n",
    "t7 = Term( 8, 3)\n",
    "\n",
    "latex(f\"t5 = {t5}\")\n",
    "latex(f\"t6 = {t6}\")\n",
    "latex(f\"t7 = {t7}\")"
   ]
  },
  {
   "cell_type": "code",
   "execution_count": 14,
   "id": "15761e62",
   "metadata": {},
   "outputs": [
    {
     "data": {
      "text/plain": [
       "True"
      ]
     },
     "execution_count": 14,
     "metadata": {},
     "output_type": "execute_result"
    }
   ],
   "source": [
    "t6.like_term(t5)"
   ]
  },
  {
   "cell_type": "code",
   "execution_count": 15,
   "id": "f21e570a",
   "metadata": {},
   "outputs": [
    {
     "data": {
      "text/plain": [
       "False"
      ]
     },
     "execution_count": 15,
     "metadata": {},
     "output_type": "execute_result"
    }
   ],
   "source": [
    "t6.like_term(t7)"
   ]
  },
  {
   "cell_type": "markdown",
   "id": "29d9e61f",
   "metadata": {},
   "source": [
    "### Term: Substitution"
   ]
  },
  {
   "cell_type": "markdown",
   "id": "12162b84",
   "metadata": {},
   "source": [
    "Terms are callable using numeric values and even other terms (\"variable substitution\")"
   ]
  },
  {
   "cell_type": "markdown",
   "id": "09a7eb41",
   "metadata": {},
   "source": [
    "**Example**:\n",
    "\n",
    "If $t_1 = -2y^3$ and $y=5$,\n",
    "\n",
    "then $t_1(5) = -2(5^3) = -250$"
   ]
  },
  {
   "cell_type": "code",
   "execution_count": 16,
   "id": "8cf0c28e",
   "metadata": {},
   "outputs": [
    {
     "name": "stdout",
     "output_type": "stream",
     "text": [
      "-2y^3\n",
      "-250\n"
     ]
    }
   ],
   "source": [
    "print(t1)\n",
    "print(t1(5))"
   ]
  },
  {
   "cell_type": "markdown",
   "id": "acae4d34",
   "metadata": {},
   "source": [
    "A Term can be called (evaluated) at another Term.\n",
    "\n",
    "Effectively, this allows for **variable substitution**.\n",
    "\n",
    "**Example**:\n",
    "\n",
    "If $t_1 = -2y^3$ and $t_2 = x^2$,\n",
    "\n",
    "then $t_1(t_2) = -2(x^2)^3 = -2x^6$\n",
    "\n",
    "and $t_2(t_1) = (-2y^3)^2 = 4y^6$"
   ]
  },
  {
   "cell_type": "code",
   "execution_count": 17,
   "id": "4ee7c6cb",
   "metadata": {},
   "outputs": [
    {
     "data": {
      "text/latex": [
       "$\\displaystyle t1 = -2y^3$"
      ],
      "text/plain": [
       "<IPython.core.display.Math object>"
      ]
     },
     "metadata": {},
     "output_type": "display_data"
    },
    {
     "data": {
      "text/latex": [
       "$\\displaystyle t2 = +1x^2$"
      ],
      "text/plain": [
       "<IPython.core.display.Math object>"
      ]
     },
     "metadata": {},
     "output_type": "display_data"
    },
    {
     "data": {
      "text/latex": [
       "$\\displaystyle t1(t2) = t1(+1x^2) = -2x^6$"
      ],
      "text/plain": [
       "<IPython.core.display.Math object>"
      ]
     },
     "metadata": {},
     "output_type": "display_data"
    },
    {
     "data": {
      "text/latex": [
       "$\\displaystyle t2(t1) = t2(-2y^3) = +4y^6$"
      ],
      "text/plain": [
       "<IPython.core.display.Math object>"
      ]
     },
     "metadata": {},
     "output_type": "display_data"
    }
   ],
   "source": [
    "latex(f\"t1 = {t1}\")\n",
    "latex(f\"t2 = {t2}\")\n",
    "\n",
    "latex(f\"t1(t2) = t1({t2}) = {t1(t2)}\")\n",
    "latex(f\"t2(t1) = t2({t1}) = {t2(t1)}\")"
   ]
  },
  {
   "cell_type": "markdown",
   "id": "d6c52d67",
   "metadata": {},
   "source": [
    "Evaluating a constant term with a term yields the constant again, but with the variable of the term that was \"plugged into\" the constant term."
   ]
  },
  {
   "cell_type": "code",
   "execution_count": 18,
   "id": "dba0e3b4",
   "metadata": {},
   "outputs": [
    {
     "name": "stdout",
     "output_type": "stream",
     "text": [
      "+7\n",
      "+4\n"
     ]
    }
   ],
   "source": [
    "t0x = Term(7, 0, 'x')\n",
    "t0y = Term(4, 0, 'y')\n",
    "print(t0x)\n",
    "print(t0y)"
   ]
  },
  {
   "cell_type": "markdown",
   "id": "2b7fe335",
   "metadata": {},
   "source": [
    "Plug the following terms into the two constant terms above."
   ]
  },
  {
   "cell_type": "code",
   "execution_count": 19,
   "id": "7321870b",
   "metadata": {},
   "outputs": [
    {
     "data": {
      "text/plain": [
       "Term(-2, 3, y)"
      ]
     },
     "execution_count": 19,
     "metadata": {},
     "output_type": "execute_result"
    }
   ],
   "source": [
    "t1"
   ]
  },
  {
   "cell_type": "code",
   "execution_count": 20,
   "id": "c2e832f7",
   "metadata": {},
   "outputs": [
    {
     "data": {
      "text/plain": [
       "Term(1, 2)"
      ]
     },
     "execution_count": 20,
     "metadata": {},
     "output_type": "execute_result"
    }
   ],
   "source": [
    "t2  # Variable is the default, 'x'"
   ]
  },
  {
   "cell_type": "code",
   "execution_count": 21,
   "id": "4f806139",
   "metadata": {},
   "outputs": [
    {
     "data": {
      "text/plain": [
       "Term(7, 0, y)"
      ]
     },
     "execution_count": 21,
     "metadata": {},
     "output_type": "execute_result"
    }
   ],
   "source": [
    "t0x(t1)"
   ]
  },
  {
   "cell_type": "code",
   "execution_count": 22,
   "id": "a26e7a44",
   "metadata": {},
   "outputs": [
    {
     "data": {
      "text/plain": [
       "Term(7, 0)"
      ]
     },
     "execution_count": 22,
     "metadata": {},
     "output_type": "execute_result"
    }
   ],
   "source": [
    "t0x(t2)"
   ]
  },
  {
   "cell_type": "code",
   "execution_count": 23,
   "id": "c98ab83c",
   "metadata": {},
   "outputs": [
    {
     "data": {
      "text/plain": [
       "Term(4, 0, y)"
      ]
     },
     "execution_count": 23,
     "metadata": {},
     "output_type": "execute_result"
    }
   ],
   "source": [
    "t0y(t1)"
   ]
  },
  {
   "cell_type": "code",
   "execution_count": 24,
   "id": "e7837e7a",
   "metadata": {},
   "outputs": [
    {
     "data": {
      "text/plain": [
       "Term(4, 0)"
      ]
     },
     "execution_count": 24,
     "metadata": {},
     "output_type": "execute_result"
    }
   ],
   "source": [
    "t0y(t2)"
   ]
  },
  {
   "cell_type": "markdown",
   "id": "827791fd",
   "metadata": {},
   "source": [
    "We can check if a term is *constant*, *linear*, or *quadratic*.  If it is, then the coeffient of the term is returned, otherwise ``False`` is returned."
   ]
  },
  {
   "cell_type": "code",
   "execution_count": 25,
   "id": "a31b9dfe",
   "metadata": {},
   "outputs": [
    {
     "data": {
      "text/plain": [
       "Term(7, 0)"
      ]
     },
     "execution_count": 25,
     "metadata": {},
     "output_type": "execute_result"
    }
   ],
   "source": [
    "t0x"
   ]
  },
  {
   "cell_type": "code",
   "execution_count": 26,
   "id": "1adf535d",
   "metadata": {},
   "outputs": [
    {
     "data": {
      "text/plain": [
       "7"
      ]
     },
     "execution_count": 26,
     "metadata": {},
     "output_type": "execute_result"
    }
   ],
   "source": [
    "t0x.is_constant()"
   ]
  },
  {
   "cell_type": "code",
   "execution_count": 27,
   "id": "d62e4136",
   "metadata": {},
   "outputs": [
    {
     "data": {
      "text/plain": [
       "False"
      ]
     },
     "execution_count": 27,
     "metadata": {},
     "output_type": "execute_result"
    }
   ],
   "source": [
    "t0x.is_linear()"
   ]
  },
  {
   "cell_type": "code",
   "execution_count": 28,
   "id": "eabbbb0e",
   "metadata": {},
   "outputs": [
    {
     "data": {
      "text/plain": [
       "False"
      ]
     },
     "execution_count": 28,
     "metadata": {},
     "output_type": "execute_result"
    }
   ],
   "source": [
    "t0x.is_quadratic()"
   ]
  },
  {
   "cell_type": "markdown",
   "id": "06bb1148",
   "metadata": {},
   "source": [
    "## Polynomials"
   ]
  },
  {
   "cell_type": "markdown",
   "id": "1d099561",
   "metadata": {},
   "source": [
    "A polynomial, ``Poly``, can be constructed from a 1D array of integers or floats that represent coefficients, where the index of a coefficient in the array is its order in the polynomial.\n",
    "\n",
    "Other methods of polynomial creation are described farther below."
   ]
  },
  {
   "cell_type": "code",
   "execution_count": 29,
   "id": "085cedcc",
   "metadata": {},
   "outputs": [
    {
     "data": {
      "text/plain": [
       "Poly([-2, -4, 7, 0, -3])"
      ]
     },
     "execution_count": 29,
     "metadata": {},
     "output_type": "execute_result"
    }
   ],
   "source": [
    "coeffs = [-2, -4, 7, 0, -3]\n",
    "\n",
    "p = Poly(coeffs)\n",
    "p"
   ]
  },
  {
   "cell_type": "markdown",
   "id": "072ffaaf",
   "metadata": {},
   "source": [
    "By default, 'x' is assumed to be the variable in a polynomial."
   ]
  },
  {
   "cell_type": "code",
   "execution_count": 30,
   "id": "352a3aa8",
   "metadata": {},
   "outputs": [
    {
     "name": "stdout",
     "output_type": "stream",
     "text": [
      "-2 -4x +7x^2 -3x^4\n"
     ]
    }
   ],
   "source": [
    "print(p)"
   ]
  },
  {
   "cell_type": "code",
   "execution_count": 31,
   "id": "f4c70c10",
   "metadata": {},
   "outputs": [
    {
     "data": {
      "text/latex": [
       "$\\displaystyle -2 -4x +7x^2 -3x^4$"
      ],
      "text/plain": [
       "<IPython.core.display.Math object>"
      ]
     },
     "metadata": {},
     "output_type": "display_data"
    }
   ],
   "source": [
    "latex(p)"
   ]
  },
  {
   "cell_type": "markdown",
   "id": "0ab98d6f",
   "metadata": {},
   "source": [
    "A ``Poly`` is callable."
   ]
  },
  {
   "cell_type": "code",
   "execution_count": 32,
   "id": "ba43da41",
   "metadata": {},
   "outputs": [],
   "source": [
    "a = 3  # A test value"
   ]
  },
  {
   "cell_type": "code",
   "execution_count": 33,
   "id": "907d9913",
   "metadata": {},
   "outputs": [
    {
     "data": {
      "text/plain": [
       "-194"
      ]
     },
     "execution_count": 33,
     "metadata": {},
     "output_type": "execute_result"
    }
   ],
   "source": [
    "p(a)"
   ]
  },
  {
   "cell_type": "markdown",
   "id": "89a39a82",
   "metadata": {},
   "source": [
    "Here's a check of the arithmetic in the call made, above."
   ]
  },
  {
   "cell_type": "code",
   "execution_count": 34,
   "id": "562c591c",
   "metadata": {},
   "outputs": [
    {
     "name": "stdout",
     "output_type": "stream",
     "text": [
      "-194\n"
     ]
    }
   ],
   "source": [
    "print(-2 - 4*a + 7*a**2 - 3*a**4)"
   ]
  },
  {
   "cell_type": "markdown",
   "id": "e033e124",
   "metadata": {},
   "source": [
    "### Evaluate a Term at a Polynomial"
   ]
  },
  {
   "cell_type": "code",
   "execution_count": 35,
   "id": "152e8790",
   "metadata": {},
   "outputs": [
    {
     "data": {
      "text/latex": [
       "$\\displaystyle -2y^2$"
      ],
      "text/plain": [
       "<IPython.core.display.Math object>"
      ]
     },
     "metadata": {},
     "output_type": "display_data"
    }
   ],
   "source": [
    "t8 = Term(-2, 2, 'y')\n",
    "latex(t8)  # The Term"
   ]
  },
  {
   "cell_type": "code",
   "execution_count": 36,
   "id": "1b9dd8ac",
   "metadata": {},
   "outputs": [
    {
     "data": {
      "text/latex": [
       "$\\displaystyle -2 -4x +7x^2 -3x^4$"
      ],
      "text/plain": [
       "<IPython.core.display.Math object>"
      ]
     },
     "metadata": {},
     "output_type": "display_data"
    }
   ],
   "source": [
    "latex(p)  # The polygon"
   ]
  },
  {
   "cell_type": "code",
   "execution_count": 37,
   "id": "48f86b91",
   "metadata": {},
   "outputs": [
    {
     "data": {
      "text/latex": [
       "$\\displaystyle -8 -32x +24x^2 +112x^3 -122x^4 -48x^5 +84x^6 -18x^8$"
      ],
      "text/plain": [
       "<IPython.core.display.Math object>"
      ]
     },
     "metadata": {},
     "output_type": "display_data"
    }
   ],
   "source": [
    "latex(t8(p))"
   ]
  },
  {
   "cell_type": "markdown",
   "id": "118d0dbf",
   "metadata": {},
   "source": [
    "### Polygon Structure"
   ]
  },
  {
   "cell_type": "markdown",
   "id": "d7566458",
   "metadata": {},
   "source": [
    "Internally, a ``Poly`` is made up of a list of ``Terms`` and a ``varname`` (variable name string).\n",
    "\n",
    "A polynomial's term list is immutable, so it is a *property*; however, ``varname`` is a method, because it can be used to change the polynomials variable (e.g., 'x' -> 'y')"
   ]
  },
  {
   "cell_type": "code",
   "execution_count": 38,
   "id": "3cdbc2c6",
   "metadata": {},
   "outputs": [
    {
     "data": {
      "text/plain": [
       "[Term(-2, 0), Term(-4, 1), Term(7, 2), Term(-3, 4)]"
      ]
     },
     "execution_count": 38,
     "metadata": {},
     "output_type": "execute_result"
    }
   ],
   "source": [
    "p.terms"
   ]
  },
  {
   "cell_type": "code",
   "execution_count": 39,
   "id": "52e17cf8",
   "metadata": {},
   "outputs": [
    {
     "data": {
      "text/plain": [
       "'x'"
      ]
     },
     "execution_count": 39,
     "metadata": {},
     "output_type": "execute_result"
    }
   ],
   "source": [
    "p.varname()"
   ]
  },
  {
   "cell_type": "markdown",
   "id": "533dd3c3",
   "metadata": {},
   "source": [
    "A ``Term`` can be retrieved, by its order, using the polynomial's ``term`` method."
   ]
  },
  {
   "cell_type": "code",
   "execution_count": 40,
   "id": "9933db61",
   "metadata": {},
   "outputs": [
    {
     "data": {
      "text/plain": [
       "Term(7, 2)"
      ]
     },
     "execution_count": 40,
     "metadata": {},
     "output_type": "execute_result"
    }
   ],
   "source": [
    "t2 = p.term(2)\n",
    "t2"
   ]
  },
  {
   "cell_type": "markdown",
   "id": "b203c318",
   "metadata": {},
   "source": [
    "Here's an example of a polynomial that doesn't use the default *varname* of 'x'."
   ]
  },
  {
   "cell_type": "code",
   "execution_count": 41,
   "id": "c938a2c1",
   "metadata": {},
   "outputs": [
    {
     "data": {
      "text/plain": [
       "Poly([-2, -4, 7, 0, -3], 'y')"
      ]
     },
     "execution_count": 41,
     "metadata": {},
     "output_type": "execute_result"
    }
   ],
   "source": [
    "py = Poly(coeffs, 'y')\n",
    "py"
   ]
  },
  {
   "cell_type": "code",
   "execution_count": 42,
   "id": "373ba934",
   "metadata": {},
   "outputs": [
    {
     "name": "stdout",
     "output_type": "stream",
     "text": [
      "-2 -4y +7y^2 -3y^4\n"
     ]
    }
   ],
   "source": [
    "print(py)"
   ]
  },
  {
   "cell_type": "code",
   "execution_count": 43,
   "id": "af7ac863",
   "metadata": {},
   "outputs": [
    {
     "data": {
      "text/plain": [
       "-194"
      ]
     },
     "execution_count": 43,
     "metadata": {},
     "output_type": "execute_result"
    }
   ],
   "source": [
    "py(3)"
   ]
  },
  {
   "cell_type": "code",
   "execution_count": 44,
   "id": "5c08ed66",
   "metadata": {},
   "outputs": [
    {
     "data": {
      "text/plain": [
       "[Term(-2, 0, y), Term(-4, 1, y), Term(7, 2, y), Term(-3, 4, y)]"
      ]
     },
     "execution_count": 44,
     "metadata": {},
     "output_type": "execute_result"
    }
   ],
   "source": [
    "py.terms"
   ]
  },
  {
   "cell_type": "markdown",
   "id": "5fcf0370",
   "metadata": {},
   "source": [
    "## Other Ways to Construct Polynomials"
   ]
  },
  {
   "cell_type": "markdown",
   "id": "76994a6f",
   "metadata": {},
   "source": [
    "### From a String Representation"
   ]
  },
  {
   "cell_type": "markdown",
   "id": "b8463acb",
   "metadata": {},
   "source": [
    "A ``Poly`` can also be constructed from a string representation of a polynomial, such as \"-2 -4x +7x^2 -3x^4\", where...\n",
    "\n",
    "* there **must** be a space between each term,\n",
    "* and, except for the first term, every term must begin with a + or - sign, and then a number, unless the number is a 1."
   ]
  },
  {
   "cell_type": "code",
   "execution_count": 45,
   "id": "2324628b",
   "metadata": {},
   "outputs": [
    {
     "name": "stdout",
     "output_type": "stream",
     "text": [
      "-2 -4x +7x^2 -3x^4\n"
     ]
    },
    {
     "data": {
      "text/plain": [
       "Poly([-2, -4, 7, 0, -3])"
      ]
     },
     "execution_count": 45,
     "metadata": {},
     "output_type": "execute_result"
    }
   ],
   "source": [
    "polystr = \"-2 -4x +7x^2 -3x^4\"\n",
    "\n",
    "p2 = Poly(polystr)\n",
    "print(p2)\n",
    "p2"
   ]
  },
  {
   "cell_type": "code",
   "execution_count": 46,
   "id": "712a44a5",
   "metadata": {},
   "outputs": [],
   "source": [
    "polystry = \"7 +3y -y^2 -9y^3\"\n",
    "\n",
    "p2y = Poly(polystry)"
   ]
  },
  {
   "cell_type": "code",
   "execution_count": 47,
   "id": "9408e603",
   "metadata": {},
   "outputs": [
    {
     "data": {
      "text/plain": [
       "[Term(7, 0, y), Term(3, 1, y), Term(-1, 2, y), Term(-9, 3, y)]"
      ]
     },
     "execution_count": 47,
     "metadata": {},
     "output_type": "execute_result"
    }
   ],
   "source": [
    "p2y.terms"
   ]
  },
  {
   "cell_type": "code",
   "execution_count": 48,
   "id": "04885785",
   "metadata": {},
   "outputs": [
    {
     "name": "stdout",
     "output_type": "stream",
     "text": [
      "+7 +3y -1y^2 -9y^3\n"
     ]
    },
    {
     "data": {
      "text/latex": [
       "$\\displaystyle +7 +3y -1y^2 -9y^3$"
      ],
      "text/plain": [
       "<IPython.core.display.Math object>"
      ]
     },
     "metadata": {},
     "output_type": "display_data"
    }
   ],
   "source": [
    "print(p2y)\n",
    "latex(p2y)"
   ]
  },
  {
   "cell_type": "markdown",
   "id": "bc838af6",
   "metadata": {},
   "source": [
    "### From a List of Pairs (Tuples)"
   ]
  },
  {
   "cell_type": "code",
   "execution_count": 49,
   "id": "0eb16b1c",
   "metadata": {},
   "outputs": [
    {
     "name": "stdout",
     "output_type": "stream",
     "text": [
      "-2 -4x +7x^2 -3x^4\n"
     ]
    },
    {
     "data": {
      "text/plain": [
       "Poly([-2, -4, 7, 0, -3])"
      ]
     },
     "execution_count": 49,
     "metadata": {},
     "output_type": "execute_result"
    }
   ],
   "source": [
    "coef_order_pairs_a = [(-2,0), (-4,1), (7, 2), (-3, 4)]\n",
    "\n",
    "p3a = Poly(coef_order_pairs_a)\n",
    "print(p3a)\n",
    "p3a"
   ]
  },
  {
   "cell_type": "markdown",
   "id": "2d563ddc",
   "metadata": {},
   "source": [
    "### From a List of Pairs (Lists)"
   ]
  },
  {
   "cell_type": "code",
   "execution_count": 50,
   "id": "415d670d",
   "metadata": {},
   "outputs": [
    {
     "name": "stdout",
     "output_type": "stream",
     "text": [
      "-2 -4x +7x^2 -3x^4\n"
     ]
    },
    {
     "data": {
      "text/plain": [
       "Poly([-2, -4, 7, 0, -3])"
      ]
     },
     "execution_count": 50,
     "metadata": {},
     "output_type": "execute_result"
    }
   ],
   "source": [
    "coef_order_pairs_b = [[-2,0], [-4,1], [7, 2], [-3, 4]]\n",
    "\n",
    "p3b = Poly(coef_order_pairs_b)\n",
    "print(p3b)\n",
    "p3b"
   ]
  },
  {
   "cell_type": "markdown",
   "id": "6289132e",
   "metadata": {},
   "source": [
    "### From a List of Terms"
   ]
  },
  {
   "cell_type": "code",
   "execution_count": 51,
   "id": "9760faaa",
   "metadata": {},
   "outputs": [
    {
     "name": "stdout",
     "output_type": "stream",
     "text": [
      "-2 -4x +7x^2 -3x^4\n"
     ]
    },
    {
     "data": {
      "text/plain": [
       "Poly([-2, -4, 7, 0, -3])"
      ]
     },
     "execution_count": 51,
     "metadata": {},
     "output_type": "execute_result"
    }
   ],
   "source": [
    "list_of_terms = [Term(-2,0), Term(-4,1), Term(7, 2), Term(-3, 4)]\n",
    "\n",
    "p4 = Poly(list_of_terms)\n",
    "print(p4)\n",
    "p4"
   ]
  },
  {
   "cell_type": "markdown",
   "id": "1ad16142",
   "metadata": {},
   "source": [
    "### From a List of Roots"
   ]
  },
  {
   "cell_type": "code",
   "execution_count": 52,
   "id": "d4e0de59",
   "metadata": {},
   "outputs": [
    {
     "name": "stdout",
     "output_type": "stream",
     "text": [
      "+6 -11x +6x^2 -1x^3\n"
     ]
    },
    {
     "data": {
      "text/plain": [
       "Poly([6, -11, 6, -1])"
      ]
     },
     "execution_count": 52,
     "metadata": {},
     "output_type": "execute_result"
    }
   ],
   "source": [
    "roots = [1, 2, 3]\n",
    "\n",
    "p5 = from_roots(roots)\n",
    "print(p5)\n",
    "p5"
   ]
  },
  {
   "cell_type": "markdown",
   "id": "21b14a8c",
   "metadata": {},
   "source": [
    "## Combining Like Terms"
   ]
  },
  {
   "cell_type": "markdown",
   "id": "1fb1aea4",
   "metadata": {},
   "source": [
    "Like terms (i.e., same order terms) are automatically combined during various polynomial operations, include the construction of polynomials."
   ]
  },
  {
   "cell_type": "code",
   "execution_count": 53,
   "id": "ed6c5c58",
   "metadata": {},
   "outputs": [],
   "source": [
    "test_terms = [Term(-2,0), Term(-4,1), Term(-1,0), Term(7,2), Term(-3,4), Term(-2,2)]"
   ]
  },
  {
   "cell_type": "code",
   "execution_count": 54,
   "id": "2ef6eacd",
   "metadata": {},
   "outputs": [
    {
     "name": "stdout",
     "output_type": "stream",
     "text": [
      "[Term(-2, 0), Term(-4, 1), Term(-1, 0), Term(7, 2), Term(-3, 4), Term(-2, 2)]\n",
      "[Term(-3, 0), Term(-4, 1), Term(5, 2), Term(-3, 4)]\n"
     ]
    }
   ],
   "source": [
    "print(test_terms)\n",
    "print(combine_like_terms(test_terms))"
   ]
  },
  {
   "cell_type": "code",
   "execution_count": 55,
   "id": "0a2f78b7",
   "metadata": {},
   "outputs": [
    {
     "name": "stdout",
     "output_type": "stream",
     "text": [
      "-3 -4x +5x^2 -3x^4\n"
     ]
    },
    {
     "data": {
      "text/plain": [
       "Poly([-3, -4, 5, 0, -3])"
      ]
     },
     "execution_count": 55,
     "metadata": {},
     "output_type": "execute_result"
    }
   ],
   "source": [
    "polystr2 = \"-2 -4x -1 +7x^2 -3x^4 -2x^2\"\n",
    "p2 = Poly(polystr2)\n",
    "print(p2)\n",
    "p2"
   ]
  },
  {
   "cell_type": "code",
   "execution_count": 56,
   "id": "978ce7cc",
   "metadata": {},
   "outputs": [
    {
     "name": "stdout",
     "output_type": "stream",
     "text": [
      "0\n"
     ]
    },
    {
     "data": {
      "text/plain": [
       "Poly([0])"
      ]
     },
     "execution_count": 56,
     "metadata": {},
     "output_type": "execute_result"
    }
   ],
   "source": [
    "polystr3 = \"-2 +3x^4 -4x +2 +7x^2 +4x -3x^4 -7x^2\"\n",
    "p3 = Poly(polystr3)\n",
    "print(p3)\n",
    "p3"
   ]
  },
  {
   "cell_type": "markdown",
   "id": "c51f7dca",
   "metadata": {},
   "source": [
    "## Testing Some Polynomial Strings"
   ]
  },
  {
   "cell_type": "code",
   "execution_count": 57,
   "id": "d73b6d4c",
   "metadata": {},
   "outputs": [
    {
     "name": "stdout",
     "output_type": "stream",
     "text": [
      "-2 -4x +7x^2 -3x^4\n"
     ]
    },
    {
     "data": {
      "text/plain": [
       "[Term(-2, 0), Term(-4, 1), Term(7, 2), Term(-3, 4)]"
      ]
     },
     "execution_count": 57,
     "metadata": {},
     "output_type": "execute_result"
    }
   ],
   "source": [
    "polystr = \"-2 -4x^1 +7x^2 -3x^4\"  # Added '^1' to linear term\n",
    "\n",
    "p = Poly(polystr)\n",
    "print(p)\n",
    "p.terms"
   ]
  },
  {
   "cell_type": "code",
   "execution_count": 58,
   "id": "f2f05d4c",
   "metadata": {},
   "outputs": [
    {
     "name": "stdout",
     "output_type": "stream",
     "text": [
      "-2 -4x +7x^2 -3x^4\n"
     ]
    },
    {
     "data": {
      "text/plain": [
       "[Term(-2, 0), Term(-4, 1), Term(7, 2), Term(-3, 4)]"
      ]
     },
     "execution_count": 58,
     "metadata": {},
     "output_type": "execute_result"
    }
   ],
   "source": [
    "polystr = \"-2x^0 -4x^1 +7x^2 -3x^4\"  # Added 'x^0' to constant term\n",
    "\n",
    "p = Poly(polystr)\n",
    "print(p)\n",
    "p.terms"
   ]
  },
  {
   "cell_type": "code",
   "execution_count": 59,
   "id": "6164d41f",
   "metadata": {},
   "outputs": [
    {
     "name": "stdout",
     "output_type": "stream",
     "text": [
      "-2 -4x +7x^2 -3x^4\n"
     ]
    },
    {
     "data": {
      "text/plain": [
       "[Term(-2, 0), Term(-4, 1), Term(7, 2), Term(-3, 4)]"
      ]
     },
     "execution_count": 59,
     "metadata": {},
     "output_type": "execute_result"
    }
   ],
   "source": [
    "polystr = \"-4x -2 -3x^4 +7x^2\"  #  Terms not in order \n",
    "\n",
    "p = Poly(polystr)\n",
    "print(p)\n",
    "p.terms"
   ]
  },
  {
   "cell_type": "code",
   "execution_count": 60,
   "id": "885f8bc5",
   "metadata": {},
   "outputs": [
    {
     "name": "stdout",
     "output_type": "stream",
     "text": [
      "-1 -1x +7x^2 -3x^4\n"
     ]
    },
    {
     "data": {
      "text/plain": [
       "[Term(-1, 0), Term(-1, 1), Term(7, 2), Term(-3, 4)]"
      ]
     },
     "execution_count": 60,
     "metadata": {},
     "output_type": "execute_result"
    }
   ],
   "source": [
    "polystr = \"2 -x -3 +7x^2 -3x^4\"  # No coefficient on linear term, 'x'\n",
    "\n",
    "p = Poly(polystr)\n",
    "print(p)\n",
    "p.terms"
   ]
  },
  {
   "cell_type": "code",
   "execution_count": 61,
   "id": "19c5e2d0",
   "metadata": {},
   "outputs": [
    {
     "name": "stdout",
     "output_type": "stream",
     "text": [
      "-1 +7x^2 -3x^4\n"
     ]
    },
    {
     "data": {
      "text/plain": [
       "[Term(-1, 0), Term(7, 2), Term(-3, 4)]"
      ]
     },
     "execution_count": 61,
     "metadata": {},
     "output_type": "execute_result"
    }
   ],
   "source": [
    "polystr = \"2 -x -3 +7x^2 +x -3x^4\"  # linear terms cancel\n",
    "\n",
    "p = Poly(polystr)\n",
    "print(p)\n",
    "p.terms"
   ]
  },
  {
   "cell_type": "code",
   "execution_count": 62,
   "id": "4e58a7b6",
   "metadata": {},
   "outputs": [
    {
     "name": "stdout",
     "output_type": "stream",
     "text": [
      "-3\n"
     ]
    },
    {
     "data": {
      "text/plain": [
       "[Term(-3, 0)]"
      ]
     },
     "execution_count": 62,
     "metadata": {},
     "output_type": "execute_result"
    }
   ],
   "source": [
    "polystr = \"-4x^2 -x -3 +7x^2 +x -3x^2\"  # Quadratic terms collapse and cancel\n",
    "\n",
    "p = Poly(polystr)\n",
    "print(p)\n",
    "p.terms"
   ]
  },
  {
   "cell_type": "markdown",
   "id": "c1cfad2f",
   "metadata": {},
   "source": [
    "## Polynomial Arithmetic"
   ]
  },
  {
   "cell_type": "markdown",
   "id": "77515043",
   "metadata": {},
   "source": [
    "Polynomials can be added, subtracted, multiplied, negated, and raised to a positive integer power."
   ]
  },
  {
   "cell_type": "code",
   "execution_count": 63,
   "id": "d25b03af",
   "metadata": {},
   "outputs": [
    {
     "name": "stdout",
     "output_type": "stream",
     "text": [
      "q1 = +1 +2x\n",
      "q2 = +1 -2x\n"
     ]
    }
   ],
   "source": [
    "q1 = Poly('1 +2x')\n",
    "print(f\"q1 = {q1}\")\n",
    "\n",
    "q2 = Poly('1 -2x')\n",
    "print(f\"q2 = {q2}\")"
   ]
  },
  {
   "cell_type": "code",
   "execution_count": 64,
   "id": "1681991f",
   "metadata": {},
   "outputs": [
    {
     "name": "stdout",
     "output_type": "stream",
     "text": [
      "+2 +2x\n",
      "+2 +2x\n"
     ]
    }
   ],
   "source": [
    "print(q1 + 1)\n",
    "print(1 + q1)"
   ]
  },
  {
   "cell_type": "code",
   "execution_count": 65,
   "id": "4ed0873f",
   "metadata": {},
   "outputs": [
    {
     "name": "stdout",
     "output_type": "stream",
     "text": [
      "+1 +2x\n",
      "-1 -2x\n",
      "+3 +6x\n"
     ]
    }
   ],
   "source": [
    "print(q1)\n",
    "print(-q1)\n",
    "print(3*q1)"
   ]
  },
  {
   "cell_type": "code",
   "execution_count": 66,
   "id": "60c34d24",
   "metadata": {},
   "outputs": [
    {
     "name": "stdout",
     "output_type": "stream",
     "text": [
      "+2 +2x\n",
      "+2 +2x\n"
     ]
    }
   ],
   "source": [
    "print(1 + q1)\n",
    "print(q1 + 1)"
   ]
  },
  {
   "cell_type": "code",
   "execution_count": 67,
   "id": "3c019510",
   "metadata": {},
   "outputs": [
    {
     "name": "stdout",
     "output_type": "stream",
     "text": [
      "-2x\n",
      "-2x\n"
     ]
    }
   ],
   "source": [
    "print(1 + -q1)\n",
    "print(1 - q1)"
   ]
  },
  {
   "cell_type": "code",
   "execution_count": 68,
   "id": "17b36ffb",
   "metadata": {},
   "outputs": [
    {
     "name": "stdout",
     "output_type": "stream",
     "text": [
      "+2x\n"
     ]
    }
   ],
   "source": [
    "print(q1 - 1)"
   ]
  },
  {
   "cell_type": "code",
   "execution_count": null,
   "id": "022f107e",
   "metadata": {},
   "outputs": [],
   "source": []
  },
  {
   "cell_type": "code",
   "execution_count": null,
   "id": "fb7c369a",
   "metadata": {},
   "outputs": [],
   "source": []
  },
  {
   "cell_type": "code",
   "execution_count": 69,
   "id": "ec4e3761",
   "metadata": {},
   "outputs": [
    {
     "name": "stdout",
     "output_type": "stream",
     "text": [
      "(+1 +2x) + (+1 -2x) = +2\n"
     ]
    }
   ],
   "source": [
    "print(f\"({q1}) + ({q2}) = {q1 + q2}\")"
   ]
  },
  {
   "cell_type": "code",
   "execution_count": 70,
   "id": "bc56f0b7",
   "metadata": {},
   "outputs": [
    {
     "name": "stdout",
     "output_type": "stream",
     "text": [
      "(+1 +2x) - (+1 -2x) = +4x\n"
     ]
    }
   ],
   "source": [
    "print(f\"({q1}) - ({q2}) = {q1 - q2}\")"
   ]
  },
  {
   "cell_type": "code",
   "execution_count": 71,
   "id": "96a002a8",
   "metadata": {},
   "outputs": [
    {
     "name": "stdout",
     "output_type": "stream",
     "text": [
      "(+1 +2x) * (+1 -2x) = +1 -4x^2\n"
     ]
    }
   ],
   "source": [
    "print(f\"({q1}) * ({q2}) = {q1 * q2}\")"
   ]
  },
  {
   "cell_type": "code",
   "execution_count": 72,
   "id": "7675d659",
   "metadata": {},
   "outputs": [
    {
     "name": "stdout",
     "output_type": "stream",
     "text": [
      "(+1 +2x) * (+1 +2x) = +1 +4x +4x^2\n"
     ]
    }
   ],
   "source": [
    "print(f\"({q1}) * ({q1}) = {q1 * q1}\")"
   ]
  },
  {
   "cell_type": "code",
   "execution_count": 73,
   "id": "390cc3f5",
   "metadata": {},
   "outputs": [
    {
     "name": "stdout",
     "output_type": "stream",
     "text": [
      "(+1 -2x) * (+1 -2x) = +1 -4x +4x^2\n"
     ]
    }
   ],
   "source": [
    "print(f\"({q2}) * ({q2}) = {q2 * q2}\")"
   ]
  },
  {
   "cell_type": "code",
   "execution_count": 74,
   "id": "08717a8a",
   "metadata": {},
   "outputs": [
    {
     "name": "stdout",
     "output_type": "stream",
     "text": [
      "-(+1 +2x) = -1 -2x\n"
     ]
    }
   ],
   "source": [
    "print(f\"-({q1}) = {-q1}\")"
   ]
  },
  {
   "cell_type": "code",
   "execution_count": 75,
   "id": "5e6d519e",
   "metadata": {},
   "outputs": [
    {
     "name": "stdout",
     "output_type": "stream",
     "text": [
      "-(+1 -2x) = -1 +2x\n"
     ]
    }
   ],
   "source": [
    "print(f\"-({q2}) = {-q2}\")"
   ]
  },
  {
   "cell_type": "code",
   "execution_count": 76,
   "id": "474c8a5e",
   "metadata": {},
   "outputs": [
    {
     "name": "stdout",
     "output_type": "stream",
     "text": [
      "(+1 +2x)**2 = +1 +4x +4x^2\n"
     ]
    }
   ],
   "source": [
    "print(f\"({q1})**2 = {q1**2}\")"
   ]
  },
  {
   "cell_type": "code",
   "execution_count": 77,
   "id": "22db2f7c",
   "metadata": {},
   "outputs": [
    {
     "name": "stdout",
     "output_type": "stream",
     "text": [
      "(+1 -2x)**2 = +1 -4x +4x^2\n"
     ]
    }
   ],
   "source": [
    "print(f\"({q2})**2 = {q2**2}\")"
   ]
  },
  {
   "cell_type": "markdown",
   "id": "899af4d1",
   "metadata": {},
   "source": [
    "## Polynomial Representation"
   ]
  },
  {
   "cell_type": "markdown",
   "id": "a051bf7a",
   "metadata": {},
   "source": [
    "The representation of a polynomial changes between two options, depending the estimated length of the representation.  The representation heuristic tries to produce the shortest representation possible, while still allow it to be one that can be used to recreate the polynomial."
   ]
  },
  {
   "cell_type": "code",
   "execution_count": 78,
   "id": "e7f250eb",
   "metadata": {},
   "outputs": [
    {
     "data": {
      "text/plain": [
       "Poly([(1, 0), (7, 19)])"
      ]
     },
     "execution_count": 78,
     "metadata": {},
     "output_type": "execute_result"
    }
   ],
   "source": [
    "coeffs1 = [1, 0, 0, 0, 0, 0, 0, 0, 0, 0, 0, 0, 0, 0, 0, 0, 0, 0, 0, 7]\n",
    "p_large_order1 = Poly(coeffs1)\n",
    "p_large_order1"
   ]
  },
  {
   "cell_type": "code",
   "execution_count": 79,
   "id": "6235e3f9",
   "metadata": {},
   "outputs": [
    {
     "data": {
      "text/plain": [
       "Poly([(1, 0), (7, 6)])"
      ]
     },
     "execution_count": 79,
     "metadata": {},
     "output_type": "execute_result"
    }
   ],
   "source": [
    "coeffs2 = [1, 0, 0, 0, 0, 0, 7]\n",
    "p_large_order2 = Poly(coeffs2)\n",
    "p_large_order2"
   ]
  },
  {
   "cell_type": "code",
   "execution_count": 80,
   "id": "f09923ba",
   "metadata": {},
   "outputs": [
    {
     "data": {
      "text/plain": [
       "Poly([1, 0, 0, 0, 0, 7])"
      ]
     },
     "execution_count": 80,
     "metadata": {},
     "output_type": "execute_result"
    }
   ],
   "source": [
    "coeffs3 = [1, 0, 0, 0, 0, 7]\n",
    "p_large_order3 = Poly(coeffs3)\n",
    "p_large_order3"
   ]
  },
  {
   "cell_type": "markdown",
   "id": "13257aba",
   "metadata": {},
   "source": [
    "## Using Floats"
   ]
  },
  {
   "cell_type": "markdown",
   "id": "910a7ca0",
   "metadata": {},
   "source": [
    "Polynomial coefficients can be floats, as well as integers, or a mix of the two."
   ]
  },
  {
   "cell_type": "code",
   "execution_count": 81,
   "id": "3a8497a7",
   "metadata": {},
   "outputs": [
    {
     "name": "stdout",
     "output_type": "stream",
     "text": [
      "-2.2 -4x +7.3x^2 -3x^4\n"
     ]
    },
    {
     "data": {
      "text/plain": [
       "Poly([-2.2, -4, 7.3, 0, -3])"
      ]
     },
     "execution_count": 81,
     "metadata": {},
     "output_type": "execute_result"
    }
   ],
   "source": [
    "coeffs = [-2.2, -4, 7.3, -0.0, -3]\n",
    "\n",
    "p1 = Poly(coeffs)\n",
    "print(p1)\n",
    "p1"
   ]
  },
  {
   "cell_type": "code",
   "execution_count": 82,
   "id": "7ebff584",
   "metadata": {},
   "outputs": [
    {
     "name": "stdout",
     "output_type": "stream",
     "text": [
      "-2.2 -4x +7.3x^2 -3x^4\n"
     ]
    },
    {
     "data": {
      "text/plain": [
       "Poly([-2.2, -4, 7.3, 0, -3])"
      ]
     },
     "execution_count": 82,
     "metadata": {},
     "output_type": "execute_result"
    }
   ],
   "source": [
    "p2 = Poly('-2.2 -4x +7.3x^2 -3x^4')\n",
    "print(p2)\n",
    "p2"
   ]
  },
  {
   "cell_type": "markdown",
   "id": "34f1951f",
   "metadata": {},
   "source": [
    "## Polynomial Derivatives and Antiderivatives"
   ]
  },
  {
   "cell_type": "code",
   "execution_count": 83,
   "id": "d6b6f83f",
   "metadata": {},
   "outputs": [
    {
     "name": "stdout",
     "output_type": "stream",
     "text": [
      "-2.2 -4x +7.3x^2 -3x^4\n",
      "-4 +14.6x -12x^3\n"
     ]
    }
   ],
   "source": [
    "print(p1)\n",
    "p1_der = p1.derivative()\n",
    "print(p1_der)"
   ]
  },
  {
   "cell_type": "code",
   "execution_count": 84,
   "id": "ef83c837",
   "metadata": {},
   "outputs": [
    {
     "name": "stdout",
     "output_type": "stream",
     "text": [
      "+111 -4.0x +7.3x^2 -3.0x^4\n"
     ]
    }
   ],
   "source": [
    "p1_der_antider = p1_der.antiderivative(111)\n",
    "print(p1_der_antider)"
   ]
  },
  {
   "cell_type": "markdown",
   "id": "34b345d0",
   "metadata": {},
   "source": [
    "## Scratchwork"
   ]
  },
  {
   "cell_type": "code",
   "execution_count": 85,
   "id": "8072ee7b",
   "metadata": {},
   "outputs": [
    {
     "data": {
      "text/latex": [
       "$\\displaystyle r = -3 +2x +7x^2$"
      ],
      "text/plain": [
       "<IPython.core.display.Math object>"
      ]
     },
     "metadata": {},
     "output_type": "display_data"
    }
   ],
   "source": [
    "r = Poly('-3 +2x +7x^2')\n",
    "latex(f\"r = {r}\")"
   ]
  },
  {
   "cell_type": "code",
   "execution_count": 86,
   "id": "9186b2dd",
   "metadata": {},
   "outputs": [
    {
     "data": {
      "text/latex": [
       "$\\displaystyle s = +5 +4y$"
      ],
      "text/plain": [
       "<IPython.core.display.Math object>"
      ]
     },
     "metadata": {},
     "output_type": "display_data"
    }
   ],
   "source": [
    "s = Poly('5 +4y', 'y')\n",
    "latex(f\"s = {s}\")"
   ]
  },
  {
   "cell_type": "code",
   "execution_count": 87,
   "id": "20d27efb",
   "metadata": {},
   "outputs": [
    {
     "data": {
      "text/latex": [
       "$\\displaystyle -7 +8x +28x^2$"
      ],
      "text/plain": [
       "<IPython.core.display.Math object>"
      ]
     },
     "metadata": {},
     "output_type": "display_data"
    }
   ],
   "source": [
    "latex(s(r))"
   ]
  },
  {
   "cell_type": "code",
   "execution_count": 97,
   "id": "150d6ffc",
   "metadata": {},
   "outputs": [
    {
     "ename": "ValueError",
     "evalue": "Too many variables in polynomial specification: []",
     "output_type": "error",
     "traceback": [
      "\u001b[0;31m---------------------------------------------------------------------------\u001b[0m",
      "\u001b[0;31mValueError\u001b[0m                                Traceback (most recent call last)",
      "\u001b[0;32m/var/folders/jb/k6t8_tx135q328w99173mr680000gn/T/ipykernel_6022/1497403310.py\u001b[0m in \u001b[0;36m<module>\u001b[0;34m\u001b[0m\n\u001b[0;32m----> 1\u001b[0;31m \u001b[0mr0\u001b[0m \u001b[0;34m=\u001b[0m \u001b[0mPoly\u001b[0m\u001b[0;34m(\u001b[0m\u001b[0;34m'-3'\u001b[0m\u001b[0;34m)\u001b[0m\u001b[0;34m\u001b[0m\u001b[0;34m\u001b[0m\u001b[0m\n\u001b[0m\u001b[1;32m      2\u001b[0m \u001b[0mprint\u001b[0m\u001b[0;34m(\u001b[0m\u001b[0ms\u001b[0m\u001b[0;34m(\u001b[0m\u001b[0mr0\u001b[0m\u001b[0;34m)\u001b[0m\u001b[0;34m)\u001b[0m\u001b[0;34m\u001b[0m\u001b[0;34m\u001b[0m\u001b[0m\n",
      "\u001b[0;32m~/Documents/Programming/Python/Repos/abstract_algebra/src/polynomials.py\u001b[0m in \u001b[0;36m__init__\u001b[0;34m(self, poly_spec, varname)\u001b[0m\n\u001b[1;32m    235\u001b[0m                 \u001b[0mterm_list\u001b[0m \u001b[0;34m=\u001b[0m \u001b[0mparse_polynomial\u001b[0m\u001b[0;34m(\u001b[0m\u001b[0mpoly_spec\u001b[0m\u001b[0;34m,\u001b[0m \u001b[0mvarname\u001b[0m\u001b[0;34m)\u001b[0m\u001b[0;34m\u001b[0m\u001b[0;34m\u001b[0m\u001b[0m\n\u001b[1;32m    236\u001b[0m             \u001b[0;32melse\u001b[0m\u001b[0;34m:\u001b[0m\u001b[0;34m\u001b[0m\u001b[0;34m\u001b[0m\u001b[0m\n\u001b[0;32m--> 237\u001b[0;31m                 \u001b[0;32mraise\u001b[0m \u001b[0mValueError\u001b[0m\u001b[0;34m(\u001b[0m\u001b[0;34mf\"Too many variables in polynomial specification: {var_list}\"\u001b[0m\u001b[0;34m)\u001b[0m\u001b[0;34m\u001b[0m\u001b[0;34m\u001b[0m\u001b[0m\n\u001b[0m\u001b[1;32m    238\u001b[0m \u001b[0;34m\u001b[0m\u001b[0m\n\u001b[1;32m    239\u001b[0m         \u001b[0;32melse\u001b[0m\u001b[0;34m:\u001b[0m\u001b[0;34m\u001b[0m\u001b[0;34m\u001b[0m\u001b[0m\n",
      "\u001b[0;31mValueError\u001b[0m: Too many variables in polynomial specification: []"
     ]
    }
   ],
   "source": [
    "r0 = Poly('-3')\n",
    "print(s(r0))"
   ]
  },
  {
   "cell_type": "code",
   "execution_count": 98,
   "id": "ef24229a",
   "metadata": {},
   "outputs": [
    {
     "name": "stdout",
     "output_type": "stream",
     "text": [
      "+5 +8x\n"
     ]
    }
   ],
   "source": [
    "r1 = Poly('2x')\n",
    "print(s(r1))"
   ]
  },
  {
   "cell_type": "code",
   "execution_count": 99,
   "id": "82504b80",
   "metadata": {},
   "outputs": [
    {
     "name": "stdout",
     "output_type": "stream",
     "text": [
      "+5 +28x^2\n"
     ]
    }
   ],
   "source": [
    "r2 = Poly('7x^2')\n",
    "print(s(r2))"
   ]
  },
  {
   "cell_type": "code",
   "execution_count": 88,
   "id": "fc09f725",
   "metadata": {},
   "outputs": [
    {
     "ename": "ValueError",
     "evalue": "Mult: Variables must be the same, x != y",
     "output_type": "error",
     "traceback": [
      "\u001b[0;31m---------------------------------------------------------------------------\u001b[0m",
      "\u001b[0;31mValueError\u001b[0m                                Traceback (most recent call last)",
      "\u001b[0;32m/var/folders/jb/k6t8_tx135q328w99173mr680000gn/T/ipykernel_6022/1721719925.py\u001b[0m in \u001b[0;36m<module>\u001b[0;34m\u001b[0m\n\u001b[0;32m----> 1\u001b[0;31m \u001b[0mlatex\u001b[0m\u001b[0;34m(\u001b[0m\u001b[0mr\u001b[0m\u001b[0;34m(\u001b[0m\u001b[0ms\u001b[0m\u001b[0;34m)\u001b[0m\u001b[0;34m)\u001b[0m  \u001b[0;31m# ValueError: Mult: Variables must be the same, x != y\u001b[0m\u001b[0;34m\u001b[0m\u001b[0;34m\u001b[0m\u001b[0m\n\u001b[0m",
      "\u001b[0;32m~/Documents/Programming/Python/Repos/abstract_algebra/src/polynomials.py\u001b[0m in \u001b[0;36m__call__\u001b[0;34m(self, x)\u001b[0m\n\u001b[1;32m    273\u001b[0m \u001b[0;34m\u001b[0m\u001b[0m\n\u001b[1;32m    274\u001b[0m     \u001b[0;32mdef\u001b[0m \u001b[0m__call__\u001b[0m\u001b[0;34m(\u001b[0m\u001b[0mself\u001b[0m\u001b[0;34m,\u001b[0m \u001b[0mx\u001b[0m\u001b[0;34m)\u001b[0m\u001b[0;34m:\u001b[0m\u001b[0;34m\u001b[0m\u001b[0;34m\u001b[0m\u001b[0m\n\u001b[0;32m--> 275\u001b[0;31m         \u001b[0;32mreturn\u001b[0m \u001b[0mfnc\u001b[0m\u001b[0;34m.\u001b[0m\u001b[0mreduce\u001b[0m\u001b[0;34m(\u001b[0m\u001b[0;32mlambda\u001b[0m \u001b[0ma\u001b[0m\u001b[0;34m,\u001b[0m \u001b[0mb\u001b[0m\u001b[0;34m:\u001b[0m \u001b[0ma\u001b[0m \u001b[0;34m+\u001b[0m \u001b[0mb\u001b[0m\u001b[0;34m,\u001b[0m \u001b[0mmap\u001b[0m\u001b[0;34m(\u001b[0m\u001b[0;32mlambda\u001b[0m \u001b[0mterm\u001b[0m\u001b[0;34m:\u001b[0m \u001b[0mterm\u001b[0m\u001b[0;34m(\u001b[0m\u001b[0mx\u001b[0m\u001b[0;34m)\u001b[0m\u001b[0;34m,\u001b[0m \u001b[0mself\u001b[0m\u001b[0;34m.\u001b[0m\u001b[0m__terms\u001b[0m\u001b[0;34m)\u001b[0m\u001b[0;34m)\u001b[0m\u001b[0;34m\u001b[0m\u001b[0;34m\u001b[0m\u001b[0m\n\u001b[0m\u001b[1;32m    276\u001b[0m \u001b[0;34m\u001b[0m\u001b[0m\n\u001b[1;32m    277\u001b[0m     \u001b[0;32mdef\u001b[0m \u001b[0m__add__\u001b[0m\u001b[0;34m(\u001b[0m\u001b[0mself\u001b[0m\u001b[0;34m,\u001b[0m \u001b[0mother\u001b[0m\u001b[0;34m)\u001b[0m\u001b[0;34m:\u001b[0m\u001b[0;34m\u001b[0m\u001b[0;34m\u001b[0m\u001b[0m\n",
      "\u001b[0;32m~/Documents/Programming/Python/Repos/abstract_algebra/src/polynomials.py\u001b[0m in \u001b[0;36m<lambda>\u001b[0;34m(term)\u001b[0m\n\u001b[1;32m    273\u001b[0m \u001b[0;34m\u001b[0m\u001b[0m\n\u001b[1;32m    274\u001b[0m     \u001b[0;32mdef\u001b[0m \u001b[0m__call__\u001b[0m\u001b[0;34m(\u001b[0m\u001b[0mself\u001b[0m\u001b[0;34m,\u001b[0m \u001b[0mx\u001b[0m\u001b[0;34m)\u001b[0m\u001b[0;34m:\u001b[0m\u001b[0;34m\u001b[0m\u001b[0;34m\u001b[0m\u001b[0m\n\u001b[0;32m--> 275\u001b[0;31m         \u001b[0;32mreturn\u001b[0m \u001b[0mfnc\u001b[0m\u001b[0;34m.\u001b[0m\u001b[0mreduce\u001b[0m\u001b[0;34m(\u001b[0m\u001b[0;32mlambda\u001b[0m \u001b[0ma\u001b[0m\u001b[0;34m,\u001b[0m \u001b[0mb\u001b[0m\u001b[0;34m:\u001b[0m \u001b[0ma\u001b[0m \u001b[0;34m+\u001b[0m \u001b[0mb\u001b[0m\u001b[0;34m,\u001b[0m \u001b[0mmap\u001b[0m\u001b[0;34m(\u001b[0m\u001b[0;32mlambda\u001b[0m \u001b[0mterm\u001b[0m\u001b[0;34m:\u001b[0m \u001b[0mterm\u001b[0m\u001b[0;34m(\u001b[0m\u001b[0mx\u001b[0m\u001b[0;34m)\u001b[0m\u001b[0;34m,\u001b[0m \u001b[0mself\u001b[0m\u001b[0;34m.\u001b[0m\u001b[0m__terms\u001b[0m\u001b[0;34m)\u001b[0m\u001b[0;34m)\u001b[0m\u001b[0;34m\u001b[0m\u001b[0;34m\u001b[0m\u001b[0m\n\u001b[0m\u001b[1;32m    276\u001b[0m \u001b[0;34m\u001b[0m\u001b[0m\n\u001b[1;32m    277\u001b[0m     \u001b[0;32mdef\u001b[0m \u001b[0m__add__\u001b[0m\u001b[0;34m(\u001b[0m\u001b[0mself\u001b[0m\u001b[0;34m,\u001b[0m \u001b[0mother\u001b[0m\u001b[0;34m)\u001b[0m\u001b[0;34m:\u001b[0m\u001b[0;34m\u001b[0m\u001b[0;34m\u001b[0m\u001b[0m\n",
      "\u001b[0;32m~/Documents/Programming/Python/Repos/abstract_algebra/src/polynomials.py\u001b[0m in \u001b[0;36m__call__\u001b[0;34m(self, x)\u001b[0m\n\u001b[1;32m     94\u001b[0m     \u001b[0;32mdef\u001b[0m \u001b[0m__call__\u001b[0m\u001b[0;34m(\u001b[0m\u001b[0mself\u001b[0m\u001b[0;34m,\u001b[0m \u001b[0mx\u001b[0m\u001b[0;34m)\u001b[0m\u001b[0;34m:\u001b[0m\u001b[0;34m\u001b[0m\u001b[0;34m\u001b[0m\u001b[0m\n\u001b[1;32m     95\u001b[0m         \u001b[0;34m\"\"\"Compute and return the value of the term for x\"\"\"\u001b[0m\u001b[0;34m\u001b[0m\u001b[0;34m\u001b[0m\u001b[0m\n\u001b[0;32m---> 96\u001b[0;31m         \u001b[0;32mreturn\u001b[0m \u001b[0mself\u001b[0m\u001b[0;34m.\u001b[0m\u001b[0m__coefficient\u001b[0m \u001b[0;34m*\u001b[0m \u001b[0;34m(\u001b[0m\u001b[0mx\u001b[0m \u001b[0;34m**\u001b[0m \u001b[0mself\u001b[0m\u001b[0;34m.\u001b[0m\u001b[0m__order\u001b[0m\u001b[0;34m)\u001b[0m\u001b[0;34m\u001b[0m\u001b[0;34m\u001b[0m\u001b[0m\n\u001b[0m\u001b[1;32m     97\u001b[0m \u001b[0;34m\u001b[0m\u001b[0m\n\u001b[1;32m     98\u001b[0m     \u001b[0;32mdef\u001b[0m \u001b[0mlike_term\u001b[0m\u001b[0;34m(\u001b[0m\u001b[0mself\u001b[0m\u001b[0;34m,\u001b[0m \u001b[0mother\u001b[0m\u001b[0;34m)\u001b[0m\u001b[0;34m:\u001b[0m\u001b[0;34m\u001b[0m\u001b[0;34m\u001b[0m\u001b[0m\n",
      "\u001b[0;32m~/Documents/Programming/Python/Repos/abstract_algebra/src/polynomials.py\u001b[0m in \u001b[0;36m__mul__\u001b[0;34m(self, other)\u001b[0m\n\u001b[1;32m    308\u001b[0m         \u001b[0;34m\"\"\"Return the product of the polynomials, self and other.\"\"\"\u001b[0m\u001b[0;34m\u001b[0m\u001b[0;34m\u001b[0m\u001b[0m\n\u001b[1;32m    309\u001b[0m         \u001b[0;32mif\u001b[0m \u001b[0misinstance\u001b[0m\u001b[0;34m(\u001b[0m\u001b[0mother\u001b[0m\u001b[0;34m,\u001b[0m \u001b[0mint\u001b[0m\u001b[0;34m)\u001b[0m \u001b[0;32mor\u001b[0m \u001b[0misinstance\u001b[0m\u001b[0;34m(\u001b[0m\u001b[0mother\u001b[0m\u001b[0;34m,\u001b[0m \u001b[0mfloat\u001b[0m\u001b[0;34m)\u001b[0m\u001b[0;34m:\u001b[0m\u001b[0;34m\u001b[0m\u001b[0;34m\u001b[0m\u001b[0m\n\u001b[0;32m--> 310\u001b[0;31m             \u001b[0;32mreturn\u001b[0m \u001b[0mself\u001b[0m\u001b[0;34m.\u001b[0m\u001b[0m__mul__\u001b[0m\u001b[0;34m(\u001b[0m\u001b[0mPoly\u001b[0m\u001b[0;34m(\u001b[0m\u001b[0;34m[\u001b[0m\u001b[0mother\u001b[0m\u001b[0;34m]\u001b[0m\u001b[0;34m,\u001b[0m \u001b[0mself\u001b[0m\u001b[0;34m.\u001b[0m\u001b[0mvarname\u001b[0m\u001b[0;34m(\u001b[0m\u001b[0;34m)\u001b[0m\u001b[0;34m)\u001b[0m\u001b[0;34m)\u001b[0m\u001b[0;34m\u001b[0m\u001b[0;34m\u001b[0m\u001b[0m\n\u001b[0m\u001b[1;32m    311\u001b[0m         \u001b[0;32melif\u001b[0m \u001b[0mself\u001b[0m\u001b[0;34m.\u001b[0m\u001b[0m__varname\u001b[0m \u001b[0;34m==\u001b[0m \u001b[0mother\u001b[0m\u001b[0;34m.\u001b[0m\u001b[0mvarname\u001b[0m\u001b[0;34m(\u001b[0m\u001b[0;34m)\u001b[0m\u001b[0;34m:\u001b[0m\u001b[0;34m\u001b[0m\u001b[0;34m\u001b[0m\u001b[0m\n\u001b[1;32m    312\u001b[0m             \u001b[0mprod_terms\u001b[0m \u001b[0;34m=\u001b[0m \u001b[0mlist\u001b[0m\u001b[0;34m(\u001b[0m\u001b[0;34m)\u001b[0m\u001b[0;34m\u001b[0m\u001b[0;34m\u001b[0m\u001b[0m\n",
      "\u001b[0;32m~/Documents/Programming/Python/Repos/abstract_algebra/src/polynomials.py\u001b[0m in \u001b[0;36m__mul__\u001b[0;34m(self, other)\u001b[0m\n\u001b[1;32m    312\u001b[0m             \u001b[0mprod_terms\u001b[0m \u001b[0;34m=\u001b[0m \u001b[0mlist\u001b[0m\u001b[0;34m(\u001b[0m\u001b[0;34m)\u001b[0m\u001b[0;34m\u001b[0m\u001b[0;34m\u001b[0m\u001b[0m\n\u001b[1;32m    313\u001b[0m             \u001b[0;32mfor\u001b[0m \u001b[0mt1\u001b[0m \u001b[0;32min\u001b[0m \u001b[0mself\u001b[0m\u001b[0;34m.\u001b[0m\u001b[0m__terms\u001b[0m\u001b[0;34m:\u001b[0m\u001b[0;34m\u001b[0m\u001b[0;34m\u001b[0m\u001b[0m\n\u001b[0;32m--> 314\u001b[0;31m                 \u001b[0mprod_terms\u001b[0m \u001b[0;34m+=\u001b[0m \u001b[0;34m[\u001b[0m\u001b[0mt1\u001b[0m \u001b[0;34m*\u001b[0m \u001b[0mt2\u001b[0m \u001b[0;32mfor\u001b[0m \u001b[0mt2\u001b[0m \u001b[0;32min\u001b[0m \u001b[0mother\u001b[0m\u001b[0;34m.\u001b[0m\u001b[0mterms\u001b[0m\u001b[0;34m]\u001b[0m\u001b[0;34m\u001b[0m\u001b[0;34m\u001b[0m\u001b[0m\n\u001b[0m\u001b[1;32m    315\u001b[0m             \u001b[0;32mreturn\u001b[0m \u001b[0mPoly\u001b[0m\u001b[0;34m(\u001b[0m\u001b[0mprod_terms\u001b[0m\u001b[0;34m,\u001b[0m \u001b[0mself\u001b[0m\u001b[0;34m.\u001b[0m\u001b[0m__varname\u001b[0m\u001b[0;34m)\u001b[0m\u001b[0;34m\u001b[0m\u001b[0;34m\u001b[0m\u001b[0m\n\u001b[1;32m    316\u001b[0m         \u001b[0;32melse\u001b[0m\u001b[0;34m:\u001b[0m\u001b[0;34m\u001b[0m\u001b[0;34m\u001b[0m\u001b[0m\n",
      "\u001b[0;32m~/Documents/Programming/Python/Repos/abstract_algebra/src/polynomials.py\u001b[0m in \u001b[0;36m<listcomp>\u001b[0;34m(.0)\u001b[0m\n\u001b[1;32m    312\u001b[0m             \u001b[0mprod_terms\u001b[0m \u001b[0;34m=\u001b[0m \u001b[0mlist\u001b[0m\u001b[0;34m(\u001b[0m\u001b[0;34m)\u001b[0m\u001b[0;34m\u001b[0m\u001b[0;34m\u001b[0m\u001b[0m\n\u001b[1;32m    313\u001b[0m             \u001b[0;32mfor\u001b[0m \u001b[0mt1\u001b[0m \u001b[0;32min\u001b[0m \u001b[0mself\u001b[0m\u001b[0;34m.\u001b[0m\u001b[0m__terms\u001b[0m\u001b[0;34m:\u001b[0m\u001b[0;34m\u001b[0m\u001b[0;34m\u001b[0m\u001b[0m\n\u001b[0;32m--> 314\u001b[0;31m                 \u001b[0mprod_terms\u001b[0m \u001b[0;34m+=\u001b[0m \u001b[0;34m[\u001b[0m\u001b[0mt1\u001b[0m \u001b[0;34m*\u001b[0m \u001b[0mt2\u001b[0m \u001b[0;32mfor\u001b[0m \u001b[0mt2\u001b[0m \u001b[0;32min\u001b[0m \u001b[0mother\u001b[0m\u001b[0;34m.\u001b[0m\u001b[0mterms\u001b[0m\u001b[0;34m]\u001b[0m\u001b[0;34m\u001b[0m\u001b[0;34m\u001b[0m\u001b[0m\n\u001b[0m\u001b[1;32m    315\u001b[0m             \u001b[0;32mreturn\u001b[0m \u001b[0mPoly\u001b[0m\u001b[0;34m(\u001b[0m\u001b[0mprod_terms\u001b[0m\u001b[0;34m,\u001b[0m \u001b[0mself\u001b[0m\u001b[0;34m.\u001b[0m\u001b[0m__varname\u001b[0m\u001b[0;34m)\u001b[0m\u001b[0;34m\u001b[0m\u001b[0;34m\u001b[0m\u001b[0m\n\u001b[1;32m    316\u001b[0m         \u001b[0;32melse\u001b[0m\u001b[0;34m:\u001b[0m\u001b[0;34m\u001b[0m\u001b[0;34m\u001b[0m\u001b[0m\n",
      "\u001b[0;32m~/Documents/Programming/Python/Repos/abstract_algebra/src/polynomials.py\u001b[0m in \u001b[0;36m__mul__\u001b[0;34m(self, other)\u001b[0m\n\u001b[1;32m     75\u001b[0m                         self.__varname)\n\u001b[1;32m     76\u001b[0m         \u001b[0;32melse\u001b[0m\u001b[0;34m:\u001b[0m\u001b[0;34m\u001b[0m\u001b[0;34m\u001b[0m\u001b[0m\n\u001b[0;32m---> 77\u001b[0;31m             \u001b[0;32mraise\u001b[0m \u001b[0mValueError\u001b[0m\u001b[0;34m(\u001b[0m\u001b[0;34mf\"Mult: Variables must be the same, {self.__varname} != {other.varname()}\"\u001b[0m\u001b[0;34m)\u001b[0m\u001b[0;34m\u001b[0m\u001b[0;34m\u001b[0m\u001b[0m\n\u001b[0m\u001b[1;32m     78\u001b[0m \u001b[0;34m\u001b[0m\u001b[0m\n\u001b[1;32m     79\u001b[0m     \u001b[0m__rmul__\u001b[0m \u001b[0;34m=\u001b[0m \u001b[0m__mul__\u001b[0m\u001b[0;34m\u001b[0m\u001b[0;34m\u001b[0m\u001b[0m\n",
      "\u001b[0;31mValueError\u001b[0m: Mult: Variables must be the same, x != y"
     ]
    }
   ],
   "source": [
    "latex(r(s))  # ValueError: Mult: Variables must be the same, x != y"
   ]
  },
  {
   "cell_type": "markdown",
   "id": "5d3fa518",
   "metadata": {},
   "source": [
    "# NumPy Polynomials"
   ]
  },
  {
   "cell_type": "markdown",
   "id": "a2de3097",
   "metadata": {},
   "source": [
    "This is a better library for polynomials."
   ]
  },
  {
   "cell_type": "code",
   "execution_count": 89,
   "id": "44043f51",
   "metadata": {},
   "outputs": [
    {
     "data": {
      "text/latex": [
       "$x \\mapsto \\text{-2.0} - \\text{4.0}\\,x + \\text{7.0}\\,x^{2}\\color{LightGray}{ + \\text{0.0}\\,x^{3}} - \\text{3.0}\\,x^{4}$"
      ],
      "text/plain": [
       "Polynomial([-2., -4.,  7.,  0., -3.], domain=[-1,  1], window=[-1,  1])"
      ]
     },
     "execution_count": 89,
     "metadata": {},
     "output_type": "execute_result"
    }
   ],
   "source": [
    "from numpy.polynomial import Polynomial\n",
    "\n",
    "poly_coeff = [-2, -4, 7, 0, -3]\n",
    "poly = Polynomial(poly_coeff)\n",
    "poly"
   ]
  },
  {
   "cell_type": "code",
   "execution_count": 90,
   "id": "559b2841",
   "metadata": {},
   "outputs": [
    {
     "data": {
      "text/plain": [
       "-194.0"
      ]
     },
     "execution_count": 90,
     "metadata": {},
     "output_type": "execute_result"
    }
   ],
   "source": [
    "poly(3)"
   ]
  },
  {
   "cell_type": "code",
   "execution_count": 91,
   "id": "6d6868c5",
   "metadata": {},
   "outputs": [
    {
     "name": "stdout",
     "output_type": "stream",
     "text": [
      "-2.0 - 4.0·x¹ + 7.0·x² + 0.0·x³ - 3.0·x⁴\n"
     ]
    }
   ],
   "source": [
    "print(poly)"
   ]
  },
  {
   "cell_type": "code",
   "execution_count": 92,
   "id": "f9ea5432",
   "metadata": {},
   "outputs": [
    {
     "data": {
      "text/latex": [
       "$x \\mapsto \\text{1.0} + \\text{1.0}\\,x$"
      ],
      "text/plain": [
       "Polynomial([1., 1.], domain=[-1,  1], window=[-1,  1])"
      ]
     },
     "execution_count": 92,
     "metadata": {},
     "output_type": "execute_result"
    }
   ],
   "source": [
    "poly1 = Polynomial([1, 1])\n",
    "poly1"
   ]
  },
  {
   "cell_type": "code",
   "execution_count": 93,
   "id": "8d26d601",
   "metadata": {},
   "outputs": [
    {
     "data": {
      "text/latex": [
       "$x \\mapsto \\text{1.0} - \\text{1.0}\\,x$"
      ],
      "text/plain": [
       "Polynomial([ 1., -1.], domain=[-1,  1], window=[-1,  1])"
      ]
     },
     "execution_count": 93,
     "metadata": {},
     "output_type": "execute_result"
    }
   ],
   "source": [
    "poly2 = Polynomial([1, -1])\n",
    "poly2"
   ]
  },
  {
   "cell_type": "code",
   "execution_count": 94,
   "id": "bd8501d0",
   "metadata": {},
   "outputs": [
    {
     "data": {
      "text/latex": [
       "$x \\mapsto \\text{1.0}\\color{LightGray}{ + \\text{0.0}\\,x} - \\text{1.0}\\,x^{2}$"
      ],
      "text/plain": [
       "Polynomial([ 1.,  0., -1.], domain=[-1.,  1.], window=[-1.,  1.])"
      ]
     },
     "execution_count": 94,
     "metadata": {},
     "output_type": "execute_result"
    }
   ],
   "source": [
    "poly1 * poly2"
   ]
  },
  {
   "cell_type": "code",
   "execution_count": null,
   "id": "54df657b",
   "metadata": {},
   "outputs": [],
   "source": [
    "# help(Polynomial)"
   ]
  }
 ],
 "metadata": {
  "kernelspec": {
   "display_name": "Python 3 (ipykernel)",
   "language": "python",
   "name": "python3"
  },
  "language_info": {
   "codemirror_mode": {
    "name": "ipython",
    "version": 3
   },
   "file_extension": ".py",
   "mimetype": "text/x-python",
   "name": "python",
   "nbconvert_exporter": "python",
   "pygments_lexer": "ipython3",
   "version": "3.7.7"
  }
 },
 "nbformat": 4,
 "nbformat_minor": 5
}
