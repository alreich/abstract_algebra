{
 "cells": [
  {
   "cell_type": "markdown",
   "id": "6ef26608",
   "metadata": {},
   "source": [
    "# Abstract Matrices"
   ]
  },
  {
   "cell_type": "code",
   "execution_count": 1,
   "id": "4d3ccce8",
   "metadata": {},
   "outputs": [
    {
     "name": "stdout",
     "output_type": "stream",
     "text": [
      "======================================================================\n",
      "                           Example Algebras\n",
      "----------------------------------------------------------------------\n",
      "  17 example algebras are available.\n",
      "  Use \"Examples[INDEX]\" to retrieve a specific example,\n",
      "  where INDEX is the first number on each line below:\n",
      "----------------------------------------------------------------------\n",
      "0: A4 -- Alternating group on 4 letters (AKA Tetrahedral group)\n",
      "1: D3 -- https://en.wikipedia.org/wiki/Dihedral_group_of_order_6\n",
      "2: D4 -- Dihedral group on four vertices\n",
      "3: Pinter29 -- Non-abelian group, p.29, 'A Book of Abstract Algebra' by Charles C. Pinter\n",
      "4: RPS -- Rock, Paper, Scissors Magma\n",
      "5: S3 -- Symmetric group on 3 letters\n",
      "6: S3X -- Another version of the symmetric group on 3 letters\n",
      "7: V4 -- Klein-4 group\n",
      "8: Z4 -- Cyclic group of order 4\n",
      "9: F4 -- Field with 4 elements (from Wikipedia)\n",
      "10: mag_id -- Magma with Identity\n",
      "11: Example 1.4.1 -- See: Groupoids and Smarandache Groupoids by W. B. Vasantha Kandasamy\n",
      "12: Ex6 -- Example 6: http://www-groups.mcs.st-andrews.ac.uk/~john/MT4517/Lectures/L3.html\n",
      "13: Q8 -- Quaternion Group\n",
      "14: SD16 -- Semidihedral group of order 16\n",
      "15: A5 -- Alternating group on 5 letters\n",
      "16: F2 -- Field with 2 elements from paper: 236w06fields.pdf\n",
      "======================================================================\n"
     ]
    }
   ],
   "source": [
    "import finite_algebras as alg\n",
    "import numpy as np\n",
    "from abstract_matrix import AbstractMatrix\n",
    "\n",
    "import itertools as it\n",
    "\n",
    "import os\n",
    "aa_path = os.path.join(os.getenv(\"PYPROJ\"), \"abstract_algebra\")\n",
    "alg_dir = os.path.join(aa_path, \"Algebras\")\n",
    "\n",
    "ex = alg.Examples(alg_dir)"
   ]
  },
  {
   "cell_type": "markdown",
   "id": "c2e5fa3f",
   "metadata": {},
   "source": [
    "## Abstract Matrix over a Finite Field"
   ]
  },
  {
   "cell_type": "markdown",
   "id": "11541eb5",
   "metadata": {},
   "source": [
    "First, create a finite field, in this case, the [field with 4 elements from Wikipedia](https://en.wikipedia.org/wiki/Finite_field#Field_with_four_elements)."
   ]
  },
  {
   "cell_type": "code",
   "execution_count": 2,
   "id": "bb3b848d",
   "metadata": {},
   "outputs": [
    {
     "name": "stdout",
     "output_type": "stream",
     "text": [
      "\n",
      "** Field **\n",
      "Name: F2\n",
      "Instance ID: 4425247184\n",
      "Description: Field with 2 elements from paper: 236w06fields.pdf\n",
      "Order: 2\n",
      "Identity: 0\n",
      "Commutative? Yes\n",
      "Cyclic?: Yes\n",
      "  Generators: ['1']\n",
      "Elements:\n",
      "   Index   Name   Inverse  Order\n",
      "      0       0       0       1\n",
      "      1       1       1       2\n",
      "Cayley Table (showing indices):\n",
      "[[0, 1], [1, 0]]\n",
      "Mult. Identity: 1\n",
      "Mult. Commutative? Yes\n",
      "Zero Divisors: None\n",
      "Multiplicative Cayley Table (showing indices):\n",
      "[[0, 0], [0, 1]]\n"
     ]
    }
   ],
   "source": [
    "f2 = ex[16]  # No. 16 in the list above\n",
    "f2.about()"
   ]
  },
  {
   "cell_type": "code",
   "execution_count": 3,
   "id": "a3f1e070",
   "metadata": {},
   "outputs": [
    {
     "name": "stdout",
     "output_type": "stream",
     "text": [
      "\n",
      "** Field **\n",
      "Name: F4\n",
      "Instance ID: 4425104144\n",
      "Description: Field with 4 elements (from Wikipedia)\n",
      "Order: 4\n",
      "Identity: 0\n",
      "Commutative? Yes\n",
      "Cyclic?: Yes\n",
      "  Generators: ['1+a', 'a']\n",
      "Elements:\n",
      "   Index   Name   Inverse  Order\n",
      "      0       0       0       1\n",
      "      1       1       1       2\n",
      "      2       a       a       2\n",
      "      3     1+a     1+a       2\n",
      "Cayley Table (showing indices):\n",
      "[[0, 1, 2, 3], [1, 0, 3, 2], [2, 3, 0, 1], [3, 2, 1, 0]]\n",
      "Mult. Identity: 1\n",
      "Mult. Commutative? Yes\n",
      "Zero Divisors: None\n",
      "Multiplicative Cayley Table (showing indices):\n",
      "[[0, 0, 0, 0], [0, 1, 2, 3], [0, 2, 3, 1], [0, 3, 1, 2]]\n"
     ]
    }
   ],
   "source": [
    "f4 = ex[9]  # No. 9 in the list above\n",
    "f4.about()"
   ]
  },
  {
   "cell_type": "markdown",
   "id": "8cc15091",
   "metadata": {},
   "source": [
    "The class method, <i>random</i>, will create an Abstract Matrix, of a specified <i>shape</i>, with elements that are randomly chosen from a specified ring or field. (Fixed seed ONLY used to make the random call, below, repeatable.)"
   ]
  },
  {
   "cell_type": "code",
   "execution_count": 4,
   "id": "3d8e94b6",
   "metadata": {},
   "outputs": [],
   "source": [
    "def random_matrix_test(shape, algebra, seed=None):\n",
    "    if seed:\n",
    "        np.random.seed(seed)\n",
    "    mat = AbstractMatrix.random(shape, algebra)\n",
    "    det, inv = print_matrix_info(mat)\n",
    "    #print(f\"\\nRandom Matrix over {algebra.name}:\\n{mat}\")\n",
    "    return mat, det, inv"
   ]
  },
  {
   "cell_type": "code",
   "execution_count": 5,
   "id": "7f1fc07f",
   "metadata": {},
   "outputs": [],
   "source": [
    "def print_matrix_info(mat):\n",
    "    print(\"=\"*20)\n",
    "    print(f\"Matrix over {mat.algebra.name}:\\n{mat}\")\n",
    "    det = mat.determinant()\n",
    "    print(f\"\\nDeterminant = {det}\")\n",
    "    print(f\"\\nCofactor Matrix:\\n{mat.cofactor_matrix()}\")\n",
    "    inv = mat.inverse()\n",
    "    print(f\"\\nInverse:\\n{inv}\")\n",
    "    print(f\"\\nMatrix * Inverse:\\n{mat * mat.inverse()}\")\n",
    "    print(f\"\\nInverse * Matrix:\\n{mat.inverse() * mat}\\n\")\n",
    "    print(\"-\"*5)\n",
    "    return det, inv"
   ]
  },
  {
   "cell_type": "code",
   "execution_count": 6,
   "id": "0abe297f-ecaa-4cf0-bbf3-9df9433aaf17",
   "metadata": {},
   "outputs": [
    {
     "name": "stdout",
     "output_type": "stream",
     "text": [
      "====================\n",
      "Matrix over F4:\n",
      "[['1' '1+a' '0']\n",
      " ['0' '1+a' '1']\n",
      " ['1+a' '1' '1+a']]\n",
      "\n",
      "Determinant = 1\n",
      "\n",
      "Cofactor Matrix:\n",
      "[['1+a' '1+a' 'a']\n",
      " ['a' '1+a' '1+a']\n",
      " ['1+a' '1' '1+a']]\n",
      "\n",
      "Inverse:\n",
      "[['1+a' 'a' '1+a']\n",
      " ['1+a' '1+a' '1']\n",
      " ['a' '1+a' '1+a']]\n",
      "\n",
      "Matrix * Inverse:\n",
      "[['1' '0' '0']\n",
      " ['0' '1' '0']\n",
      " ['0' '0' '1']]\n",
      "\n",
      "Inverse * Matrix:\n",
      "[['1' '0' '0']\n",
      " ['0' '1' '0']\n",
      " ['0' '0' '1']]\n",
      "\n",
      "-----\n"
     ]
    }
   ],
   "source": [
    "m1, d1, i1 = random_matrix_test((3, 3), f4, seed=1)"
   ]
  },
  {
   "cell_type": "code",
   "execution_count": 7,
   "id": "770c5b7d-beb5-41c3-9202-72d001257306",
   "metadata": {},
   "outputs": [
    {
     "name": "stdout",
     "output_type": "stream",
     "text": [
      "====================\n",
      "Matrix over F4:\n",
      "[['0' '1+a' '1']\n",
      " ['0' 'a' '1+a']\n",
      " ['a' '1+a' '0']]\n",
      "\n",
      "Determinant = 0\n",
      "\n",
      "Cofactor Matrix:\n",
      "[['a' '1' '1+a']\n",
      " ['1+a' 'a' '1']\n",
      " ['0' '0' '0']]\n",
      "\n",
      "Inverse:\n",
      "[['0' '0' '0']\n",
      " ['0' '0' '0']\n",
      " ['0' '0' '0']]\n",
      "\n",
      "Matrix * Inverse:\n",
      "[['0' '0' '0']\n",
      " ['0' '0' '0']\n",
      " ['0' '0' '0']]\n",
      "\n",
      "Inverse * Matrix:\n",
      "[['0' '0' '0']\n",
      " ['0' '0' '0']\n",
      " ['0' '0' '0']]\n",
      "\n",
      "-----\n"
     ]
    }
   ],
   "source": [
    "m0, d0, i0 = random_matrix_test((3, 3), f4, seed=2)"
   ]
  },
  {
   "cell_type": "code",
   "execution_count": 8,
   "id": "feb085a4-c596-4c3b-8a2f-1ece19f6824d",
   "metadata": {},
   "outputs": [
    {
     "name": "stdout",
     "output_type": "stream",
     "text": [
      "====================\n",
      "Matrix over F4:\n",
      "[['a' '0' '1']\n",
      " ['1+a' '0' '0']\n",
      " ['0' '1' '1']]\n",
      "\n",
      "Determinant = 1+a\n",
      "\n",
      "Cofactor Matrix:\n",
      "[['0' '1+a' '1+a']\n",
      " ['1' 'a' 'a']\n",
      " ['0' '1+a' '0']]\n",
      "\n",
      "Inverse:\n",
      "[['0' '1+a' '0']\n",
      " ['a' '1' 'a']\n",
      " ['a' '1' '0']]\n",
      "\n",
      "Matrix * Inverse:\n",
      "[['a' '0' '0']\n",
      " ['0' 'a' '0']\n",
      " ['0' '0' 'a']]\n",
      "\n",
      "Inverse * Matrix:\n",
      "[['a' '0' '0']\n",
      " ['0' 'a' '0']\n",
      " ['0' '0' 'a']]\n",
      "\n",
      "-----\n"
     ]
    }
   ],
   "source": [
    "md, dd, id = random_matrix_test((3, 3), f4, seed=3)"
   ]
  },
  {
   "cell_type": "code",
   "execution_count": 9,
   "id": "d9e666c2-defd-4b00-9fb7-472b95d52702",
   "metadata": {},
   "outputs": [
    {
     "name": "stdout",
     "output_type": "stream",
     "text": [
      "====================\n",
      "Matrix over F4:\n",
      "[['a' 'a' '1+a']\n",
      " ['1' '1' '0']\n",
      " ['1+a' '0' 'a']]\n",
      "\n",
      "Determinant = a\n",
      "\n",
      "Cofactor Matrix:\n",
      "[['a' 'a' '1+a']\n",
      " ['1+a' '1' '1']\n",
      " ['1+a' '1+a' '0']]\n",
      "\n",
      "Inverse:\n",
      "[['1+a' '1' '1']\n",
      " ['1+a' 'a' '1']\n",
      " ['1' 'a' '0']]\n",
      "\n",
      "Matrix * Inverse:\n",
      "[['1+a' '0' '0']\n",
      " ['0' '1+a' '0']\n",
      " ['0' '0' '1+a']]\n",
      "\n",
      "Inverse * Matrix:\n",
      "[['1+a' '0' '0']\n",
      " ['0' '1+a' '0']\n",
      " ['0' '0' '1+a']]\n",
      "\n",
      "-----\n"
     ]
    }
   ],
   "source": [
    "mc, dc, ic = random_matrix_test((3, 3), f4, seed=4)"
   ]
  },
  {
   "cell_type": "markdown",
   "id": "5b78a9f2",
   "metadata": {},
   "source": [
    "## Invertible 2x2 Matrices over a Finite Field"
   ]
  },
  {
   "cell_type": "markdown",
   "id": "4e7e8aa2",
   "metadata": {},
   "source": [
    "### Generate all Possible NxN Matrices over an Algebra"
   ]
  },
  {
   "cell_type": "code",
   "execution_count": 50,
   "id": "9bd0c4f0",
   "metadata": {},
   "outputs": [],
   "source": [
    "def generate_all_NxN_matrices_over_algebra(algebra, N):\n",
    "    \"\"\"Generate list of all possible NxN matrices using elements from 'algebra'.\n",
    "    \"\"\"\n",
    "    Nsqr = N * N\n",
    "    combos = list(it.combinations_with_replacement(algebra.elements, Nsqr))\n",
    "    perms = [list(set(it.permutations(combo))) for combo in combos]\n",
    "    arrays = [AbstractMatrix(np.array((item)).reshape(N, N), algebra)\n",
    "              for p in perms for item in p]\n",
    "    return arrays"
   ]
  },
  {
   "cell_type": "code",
   "execution_count": 51,
   "id": "8edb836f",
   "metadata": {},
   "outputs": [
    {
     "name": "stdout",
     "output_type": "stream",
     "text": [
      "16\n"
     ]
    },
    {
     "data": {
      "text/plain": [
       "[F2 Matrix:\n",
       " [['0' '0']\n",
       "  ['0' '0']],\n",
       " F2 Matrix:\n",
       " [['0' '0']\n",
       "  ['1' '0']],\n",
       " F2 Matrix:\n",
       " [['0' '0']\n",
       "  ['0' '1']],\n",
       " F2 Matrix:\n",
       " [['0' '1']\n",
       "  ['0' '0']],\n",
       " F2 Matrix:\n",
       " [['1' '0']\n",
       "  ['0' '0']],\n",
       " F2 Matrix:\n",
       " [['1' '0']\n",
       "  ['1' '0']],\n",
       " F2 Matrix:\n",
       " [['0' '0']\n",
       "  ['1' '1']],\n",
       " F2 Matrix:\n",
       " [['1' '1']\n",
       "  ['0' '0']],\n",
       " F2 Matrix:\n",
       " [['0' '1']\n",
       "  ['1' '0']],\n",
       " F2 Matrix:\n",
       " [['1' '0']\n",
       "  ['0' '1']],\n",
       " F2 Matrix:\n",
       " [['0' '1']\n",
       "  ['0' '1']],\n",
       " F2 Matrix:\n",
       " [['1' '0']\n",
       "  ['1' '1']],\n",
       " F2 Matrix:\n",
       " [['1' '1']\n",
       "  ['1' '0']],\n",
       " F2 Matrix:\n",
       " [['1' '1']\n",
       "  ['0' '1']],\n",
       " F2 Matrix:\n",
       " [['0' '1']\n",
       "  ['1' '1']],\n",
       " F2 Matrix:\n",
       " [['1' '1']\n",
       "  ['1' '1']]]"
      ]
     },
     "execution_count": 51,
     "metadata": {},
     "output_type": "execute_result"
    }
   ],
   "source": [
    "allmats = generate_all_NxN_matrices_over_algebra(f2, 2)\n",
    "print(len(allmats))\n",
    "allmats"
   ]
  },
  {
   "cell_type": "markdown",
   "id": "c8d91d70",
   "metadata": {},
   "source": [
    "## Create Dict of Matrices"
   ]
  },
  {
   "cell_type": "code",
   "execution_count": 52,
   "id": "e6963e61",
   "metadata": {},
   "outputs": [],
   "source": [
    "def name_mapping(matrices, prefix = 'a', id_element = None, id_name = 'e'):\n",
    "    n = len(matrices)\n",
    "    nfill = len(str(n - 1))  # Number of zeros to left-fill integers in element names\n",
    "    names = [prefix + str(i).zfill(nfill) for i in range(n)]\n",
    "    if id_element:\n",
    "        names[matrices.index(id_element)] = id_name\n",
    "    return dict(zip(names, matrices))"
   ]
  },
  {
   "cell_type": "code",
   "execution_count": 54,
   "id": "f445aca0",
   "metadata": {},
   "outputs": [
    {
     "data": {
      "text/plain": [
       "{'A00': F2 Matrix:\n",
       " [['0' '0']\n",
       "  ['0' '0']],\n",
       " 'A01': F2 Matrix:\n",
       " [['0' '0']\n",
       "  ['1' '0']],\n",
       " 'A02': F2 Matrix:\n",
       " [['0' '0']\n",
       "  ['0' '1']],\n",
       " 'A03': F2 Matrix:\n",
       " [['0' '1']\n",
       "  ['0' '0']],\n",
       " 'A04': F2 Matrix:\n",
       " [['1' '0']\n",
       "  ['0' '0']],\n",
       " 'A05': F2 Matrix:\n",
       " [['1' '0']\n",
       "  ['1' '0']],\n",
       " 'A06': F2 Matrix:\n",
       " [['0' '0']\n",
       "  ['1' '1']],\n",
       " 'A07': F2 Matrix:\n",
       " [['1' '1']\n",
       "  ['0' '0']],\n",
       " 'A08': F2 Matrix:\n",
       " [['0' '1']\n",
       "  ['1' '0']],\n",
       " 'E': F2 Matrix:\n",
       " [['1' '0']\n",
       "  ['0' '1']],\n",
       " 'A10': F2 Matrix:\n",
       " [['0' '1']\n",
       "  ['0' '1']],\n",
       " 'A11': F2 Matrix:\n",
       " [['1' '0']\n",
       "  ['1' '1']],\n",
       " 'A12': F2 Matrix:\n",
       " [['1' '1']\n",
       "  ['1' '0']],\n",
       " 'A13': F2 Matrix:\n",
       " [['1' '1']\n",
       "  ['0' '1']],\n",
       " 'A14': F2 Matrix:\n",
       " [['0' '1']\n",
       "  ['1' '1']],\n",
       " 'A15': F2 Matrix:\n",
       " [['1' '1']\n",
       "  ['1' '1']]}"
      ]
     },
     "execution_count": 54,
     "metadata": {},
     "output_type": "execute_result"
    }
   ],
   "source": [
    "name_mapping(allmats, prefix = 'A', id_element = AbstractMatrix.identity(2, f2), id_name = 'E')"
   ]
  },
  {
   "cell_type": "markdown",
   "id": "ba7612b7",
   "metadata": {},
   "source": [
    "## Closure of Matrices"
   ]
  },
  {
   "cell_type": "code",
   "execution_count": 62,
   "id": "ee81a2c6",
   "metadata": {},
   "outputs": [],
   "source": [
    "def closure_of_matrices(matrices):\n",
    "\n",
    "    result = set(matrices)\n",
    "\n",
    "    for pair in it.product(result, result):\n",
    "        result.add(pair[0] * pair[1])\n",
    "\n",
    "    if len(result) > len(matrices):\n",
    "        return closure_of_matrices(list(result))\n",
    "    else:\n",
    "        return list(result)"
   ]
  },
  {
   "cell_type": "code",
   "execution_count": 63,
   "id": "69c7e90d",
   "metadata": {},
   "outputs": [
    {
     "ename": "KeyboardInterrupt",
     "evalue": "",
     "output_type": "error",
     "traceback": [
      "\u001b[0;31m---------------------------------------------------------------------------\u001b[0m",
      "\u001b[0;31mKeyboardInterrupt\u001b[0m                         Traceback (most recent call last)",
      "Cell \u001b[0;32mIn[63], line 1\u001b[0m\n\u001b[0;32m----> 1\u001b[0m closure_of_matrices(allmats)\n",
      "Cell \u001b[0;32mIn[62], line 11\u001b[0m, in \u001b[0;36mclosure_of_matrices\u001b[0;34m(subset_of_elements)\u001b[0m\n\u001b[1;32m      9\u001b[0m \u001b[38;5;66;03m# If the input set of elements increased, recurse ...\u001b[39;00m\n\u001b[1;32m     10\u001b[0m \u001b[38;5;28;01mif\u001b[39;00m \u001b[38;5;28mlen\u001b[39m(result) \u001b[38;5;241m>\u001b[39m \u001b[38;5;28mlen\u001b[39m(subset_of_elements):\n\u001b[0;32m---> 11\u001b[0m     \u001b[38;5;28;01mreturn\u001b[39;00m closure_of_matrices(\u001b[38;5;28mlist\u001b[39m(result))\n\u001b[1;32m     13\u001b[0m \u001b[38;5;66;03m# ...otherwise, stop and return the result\u001b[39;00m\n\u001b[1;32m     14\u001b[0m \u001b[38;5;28;01melse\u001b[39;00m:\n\u001b[1;32m     15\u001b[0m     \u001b[38;5;28;01mreturn\u001b[39;00m \u001b[38;5;28mlist\u001b[39m(result)\n",
      "Cell \u001b[0;32mIn[62], line 11\u001b[0m, in \u001b[0;36mclosure_of_matrices\u001b[0;34m(subset_of_elements)\u001b[0m\n\u001b[1;32m      9\u001b[0m \u001b[38;5;66;03m# If the input set of elements increased, recurse ...\u001b[39;00m\n\u001b[1;32m     10\u001b[0m \u001b[38;5;28;01mif\u001b[39;00m \u001b[38;5;28mlen\u001b[39m(result) \u001b[38;5;241m>\u001b[39m \u001b[38;5;28mlen\u001b[39m(subset_of_elements):\n\u001b[0;32m---> 11\u001b[0m     \u001b[38;5;28;01mreturn\u001b[39;00m closure_of_matrices(\u001b[38;5;28mlist\u001b[39m(result))\n\u001b[1;32m     13\u001b[0m \u001b[38;5;66;03m# ...otherwise, stop and return the result\u001b[39;00m\n\u001b[1;32m     14\u001b[0m \u001b[38;5;28;01melse\u001b[39;00m:\n\u001b[1;32m     15\u001b[0m     \u001b[38;5;28;01mreturn\u001b[39;00m \u001b[38;5;28mlist\u001b[39m(result)\n",
      "Cell \u001b[0;32mIn[62], line 7\u001b[0m, in \u001b[0;36mclosure_of_matrices\u001b[0;34m(subset_of_elements)\u001b[0m\n\u001b[1;32m      5\u001b[0m \u001b[38;5;66;03m# Add the products (sums, if rings) of all possible pairs\u001b[39;00m\n\u001b[1;32m      6\u001b[0m \u001b[38;5;28;01mfor\u001b[39;00m pair \u001b[38;5;129;01min\u001b[39;00m it\u001b[38;5;241m.\u001b[39mproduct(result, result):\n\u001b[0;32m----> 7\u001b[0m     result\u001b[38;5;241m.\u001b[39madd(pair[\u001b[38;5;241m0\u001b[39m] \u001b[38;5;241m*\u001b[39m pair[\u001b[38;5;241m1\u001b[39m])\n\u001b[1;32m      9\u001b[0m \u001b[38;5;66;03m# If the input set of elements increased, recurse ...\u001b[39;00m\n\u001b[1;32m     10\u001b[0m \u001b[38;5;28;01mif\u001b[39;00m \u001b[38;5;28mlen\u001b[39m(result) \u001b[38;5;241m>\u001b[39m \u001b[38;5;28mlen\u001b[39m(subset_of_elements):\n",
      "File \u001b[0;32m~/Documents/Python/github/myrepos/abstract_algebra/src/abstract_matrix.py:120\u001b[0m, in \u001b[0;36mAbstractMatrix.__mul__\u001b[0;34m(self, other)\u001b[0m\n\u001b[1;32m    118\u001b[0m         \u001b[38;5;28;01mfor\u001b[39;00m j \u001b[38;5;129;01min\u001b[39;00m \u001b[38;5;28mrange\u001b[39m(ycols):\n\u001b[1;32m    119\u001b[0m             \u001b[38;5;28;01mfor\u001b[39;00m k \u001b[38;5;129;01min\u001b[39;00m \u001b[38;5;28mrange\u001b[39m(xcols):\n\u001b[0;32m--> 120\u001b[0m                 product[i, j] \u001b[38;5;241m=\u001b[39m ring\u001b[38;5;241m.\u001b[39madd(product[i, j], ring\u001b[38;5;241m.\u001b[39mmult(xarr[i, k], yarr[k, j]))\n\u001b[1;32m    121\u001b[0m \u001b[38;5;28;01melse\u001b[39;00m:\n\u001b[1;32m    122\u001b[0m     \u001b[38;5;28;01mraise\u001b[39;00m \u001b[38;5;167;01mValueError\u001b[39;00m(\u001b[38;5;124mf\u001b[39m\u001b[38;5;124m\"\u001b[39m\u001b[38;5;124mThe array algebras must be equal: \u001b[39m\u001b[38;5;132;01m{\u001b[39;00m\u001b[38;5;28mself\u001b[39m\u001b[38;5;241m.\u001b[39mring\u001b[38;5;241m.\u001b[39mname\u001b[38;5;132;01m}\u001b[39;00m\u001b[38;5;124m != \u001b[39m\u001b[38;5;132;01m{\u001b[39;00mother\u001b[38;5;241m.\u001b[39mring\u001b[38;5;241m.\u001b[39mname\u001b[38;5;132;01m}\u001b[39;00m\u001b[38;5;124m\"\u001b[39m)\n",
      "\u001b[0;31mKeyboardInterrupt\u001b[0m: "
     ]
    }
   ],
   "source": [
    "closure_of_matrices(allmats)"
   ]
  },
  {
   "cell_type": "code",
   "execution_count": 55,
   "id": "74f33f07",
   "metadata": {},
   "outputs": [],
   "source": [
    "foo = ['a', 'b', 'c']"
   ]
  },
  {
   "cell_type": "code",
   "execution_count": 57,
   "id": "4e0eb86c",
   "metadata": {},
   "outputs": [
    {
     "data": {
      "text/plain": [
       "[('a', 'a'),\n",
       " ('a', 'b'),\n",
       " ('a', 'c'),\n",
       " ('b', 'a'),\n",
       " ('b', 'b'),\n",
       " ('b', 'c'),\n",
       " ('c', 'a'),\n",
       " ('c', 'b'),\n",
       " ('c', 'c')]"
      ]
     },
     "execution_count": 57,
     "metadata": {},
     "output_type": "execute_result"
    }
   ],
   "source": [
    "list(it.product(foo, foo))"
   ]
  },
  {
   "cell_type": "code",
   "execution_count": null,
   "id": "c8a2b9de",
   "metadata": {},
   "outputs": [],
   "source": []
  },
  {
   "cell_type": "code",
   "execution_count": null,
   "id": "fb153737",
   "metadata": {},
   "outputs": [],
   "source": []
  },
  {
   "cell_type": "code",
   "execution_count": null,
   "id": "478b7cdd",
   "metadata": {},
   "outputs": [],
   "source": []
  },
  {
   "cell_type": "markdown",
   "id": "8cafc18a",
   "metadata": {},
   "source": [
    "## Test Matrices"
   ]
  },
  {
   "cell_type": "code",
   "execution_count": null,
   "id": "51327b12",
   "metadata": {},
   "outputs": [],
   "source": [
    "arr0 = np.array([['{1, 2}', '{0, 1, 2}'],\n",
    "                 ['{0, 2}', '{}']], dtype='<U32')\n",
    "\n",
    "mat0 = AbstractMatrix(arr0, ps3)\n",
    "mat0"
   ]
  },
  {
   "cell_type": "code",
   "execution_count": null,
   "id": "9f9afef3",
   "metadata": {},
   "outputs": [],
   "source": [
    "arr1 = np.array([['{1, 2}', '{0, 1, 2}', '{0, 2}'],\n",
    "                 ['{0, 2}', '{}', '{1}'],\n",
    "                 ['{0}', '{1}', '{0, 1}']], dtype='<U32')\n",
    "\n",
    "mat1 = AbstractMatrix(arr1, ps3)\n",
    "mat1"
   ]
  },
  {
   "cell_type": "code",
   "execution_count": null,
   "id": "bd7f0d42",
   "metadata": {},
   "outputs": [],
   "source": [
    "arr2 = [['{0, 1}', '{0, 2}', '{1, 2}'],\n",
    "        ['{0}'   , '{1, 2}',    '{2}'],\n",
    "        ['{0, 1}',     '{}',     '{}']]\n",
    "\n",
    "mat2 = AbstractMatrix(arr2, ps3)\n",
    "mat2"
   ]
  },
  {
   "cell_type": "code",
   "execution_count": null,
   "id": "aaa83e3a",
   "metadata": {},
   "outputs": [],
   "source": [
    "arr3 = np.array([['{}', '{0, 1, 2}', '{0, 1, 2}', '{}'],\n",
    "                 ['{0, 1}', '{0, 2}', '{1, 2}', '{2}'],\n",
    "                 ['{0, 2}', '{}', '{}', '{0, 1}'],\n",
    "                 ['{1}', '{0}', '{0, 2}', '{}']], dtype='<U32')\n",
    "\n",
    "mat3 = AbstractMatrix(arr3, ps3)\n",
    "mat3"
   ]
  },
  {
   "cell_type": "code",
   "execution_count": null,
   "id": "359f264b",
   "metadata": {},
   "outputs": [],
   "source": [
    "arr4 = np.array([['{1, 2}']], dtype='<U32')\n",
    "\n",
    "mat4 = AbstractMatrix(arr4, ps3)\n",
    "mat4"
   ]
  },
  {
   "cell_type": "code",
   "execution_count": null,
   "id": "8384ebe1",
   "metadata": {},
   "outputs": [],
   "source": [
    "arr5 = np.array([['0', '1', 'a'],\n",
    "                 ['1', 'a', '1+a'],\n",
    "                 ['1+a', '0', '1']], dtype='<U32')\n",
    "\n",
    "mat5 = AbstractMatrix(arr5, f4)\n",
    "mat5"
   ]
  },
  {
   "cell_type": "code",
   "execution_count": null,
   "id": "3a5aabe7",
   "metadata": {},
   "outputs": [],
   "source": [
    "arr6 = np.array([['1+a', '0', 'a'],\n",
    "                 ['1+a', '1+a', '0'],\n",
    "                 ['1', '1', '0']], dtype='<U32')\n",
    "\n",
    "mat6 = AbstractMatrix(arr6, f4)\n",
    "mat6"
   ]
  },
  {
   "cell_type": "markdown",
   "id": "2eb178e3",
   "metadata": {},
   "source": [
    "## Matrix Addition & Subtraction"
   ]
  },
  {
   "cell_type": "code",
   "execution_count": null,
   "id": "692d4e4e",
   "metadata": {},
   "outputs": [],
   "source": [
    "mat1 + mat2"
   ]
  },
  {
   "cell_type": "code",
   "execution_count": null,
   "id": "e71775f2",
   "metadata": {},
   "outputs": [],
   "source": [
    "try:\n",
    "    mat2p3 = mat2 + mat3\n",
    "    print(mat2p3)\n",
    "except Exception as exc:\n",
    "    print(exc)"
   ]
  },
  {
   "cell_type": "code",
   "execution_count": null,
   "id": "eaaa9e10",
   "metadata": {},
   "outputs": [],
   "source": [
    "mat5 + mat6"
   ]
  },
  {
   "cell_type": "code",
   "execution_count": null,
   "id": "210136aa",
   "metadata": {},
   "outputs": [],
   "source": [
    "mat2 - mat2"
   ]
  },
  {
   "cell_type": "code",
   "execution_count": null,
   "id": "47a60cbd",
   "metadata": {},
   "outputs": [],
   "source": [
    "try:\n",
    "    mat2p3 = mat2 - mat3\n",
    "    print(mat2p3)\n",
    "except Exception as exc:\n",
    "    print(exc)"
   ]
  },
  {
   "cell_type": "markdown",
   "id": "4bb68cd6-854f-4699-bb49-5c0c0ce560e6",
   "metadata": {},
   "source": [
    "## Matrix Multiplication"
   ]
  },
  {
   "cell_type": "code",
   "execution_count": null,
   "id": "0cb5fc85-2431-4e40-ac3f-50d7c36f06e5",
   "metadata": {},
   "outputs": [],
   "source": [
    "mat1 * mat2"
   ]
  },
  {
   "cell_type": "code",
   "execution_count": null,
   "id": "6524fc43",
   "metadata": {},
   "outputs": [],
   "source": [
    "mat2 * mat1"
   ]
  },
  {
   "cell_type": "code",
   "execution_count": null,
   "id": "6003150c",
   "metadata": {},
   "outputs": [],
   "source": [
    "try:\n",
    "    mat2x3 = mat2 * mat3\n",
    "    print(mat2x3)\n",
    "except Exception as exc:\n",
    "    print(exc)"
   ]
  },
  {
   "cell_type": "code",
   "execution_count": null,
   "id": "5fd2889f",
   "metadata": {},
   "outputs": [],
   "source": [
    "mat5 * mat6"
   ]
  },
  {
   "cell_type": "markdown",
   "id": "234666cb",
   "metadata": {},
   "source": [
    "## Abstract Matrix of \"Zeros\""
   ]
  },
  {
   "cell_type": "code",
   "execution_count": null,
   "id": "583b68e0",
   "metadata": {},
   "outputs": [],
   "source": [
    "matz = AbstractMatrix.zeros((2, 3), ps3)\n",
    "matz"
   ]
  },
  {
   "cell_type": "code",
   "execution_count": null,
   "id": "32de3d20",
   "metadata": {},
   "outputs": [],
   "source": [
    "matf = AbstractMatrix.zeros((3, 3), f4)\n",
    "matf"
   ]
  },
  {
   "cell_type": "markdown",
   "id": "6172db1b",
   "metadata": {},
   "source": [
    "## Abstract Identity Matrix"
   ]
  },
  {
   "cell_type": "code",
   "execution_count": null,
   "id": "b74dec91",
   "metadata": {},
   "outputs": [],
   "source": [
    "AbstractMatrix.identity(4, ps3)"
   ]
  },
  {
   "cell_type": "code",
   "execution_count": null,
   "id": "9558a899",
   "metadata": {},
   "outputs": [],
   "source": [
    "mat1"
   ]
  },
  {
   "cell_type": "code",
   "execution_count": null,
   "id": "c3350745",
   "metadata": {},
   "outputs": [],
   "source": [
    "id3 = AbstractMatrix.identity(3, ps3)\n",
    "\n",
    "mat1 * id3"
   ]
  },
  {
   "cell_type": "code",
   "execution_count": null,
   "id": "ecc54819",
   "metadata": {},
   "outputs": [],
   "source": [
    "id3 * mat1"
   ]
  },
  {
   "cell_type": "code",
   "execution_count": null,
   "id": "8c62a867",
   "metadata": {},
   "outputs": [],
   "source": [
    "id3f = AbstractMatrix.identity(3, f4)\n",
    "id3f"
   ]
  },
  {
   "cell_type": "code",
   "execution_count": null,
   "id": "e8f343e9",
   "metadata": {},
   "outputs": [],
   "source": [
    "mat5 * id3f - mat5"
   ]
  },
  {
   "cell_type": "markdown",
   "id": "09fd1964",
   "metadata": {},
   "source": [
    "## Random Abstract Matrix"
   ]
  },
  {
   "cell_type": "code",
   "execution_count": null,
   "id": "47b625e0",
   "metadata": {},
   "outputs": [],
   "source": [
    "AbstractMatrix.random((3, 3), ps3)"
   ]
  },
  {
   "cell_type": "markdown",
   "id": "1576f0a8-41bb-460c-af55-7ae2e6c70c5c",
   "metadata": {},
   "source": [
    "## Get/Set Matrix Element Values"
   ]
  },
  {
   "cell_type": "code",
   "execution_count": null,
   "id": "4491e4bf-5231-4d2b-9401-6eb511fddc24",
   "metadata": {},
   "outputs": [],
   "source": [
    "mat2"
   ]
  },
  {
   "cell_type": "code",
   "execution_count": null,
   "id": "4094590e-be48-47be-85f7-1aae62411281",
   "metadata": {},
   "outputs": [],
   "source": [
    "mat2[0, 1]"
   ]
  },
  {
   "cell_type": "code",
   "execution_count": null,
   "id": "ca4a48e2-b9f1-4784-bad4-0dec810cbe1b",
   "metadata": {},
   "outputs": [],
   "source": [
    "mat2[2, 2] = '{0, 1, 2}'\n",
    "mat2"
   ]
  },
  {
   "cell_type": "code",
   "execution_count": null,
   "id": "7decf719",
   "metadata": {},
   "outputs": [],
   "source": [
    "mat2[2, 2] = '{}'\n",
    "mat2"
   ]
  },
  {
   "cell_type": "markdown",
   "id": "9eb7801d-157b-424b-b3b8-26d2d3bb59db",
   "metadata": {},
   "source": [
    "## Matrix Minor"
   ]
  },
  {
   "cell_type": "code",
   "execution_count": null,
   "id": "62c40a05-b625-4fa8-aa84-4789a9ebedd1",
   "metadata": {},
   "outputs": [],
   "source": [
    "mnr2 = mat2.minor(0,0)\n",
    "mnr2"
   ]
  },
  {
   "cell_type": "code",
   "execution_count": null,
   "id": "b4c74c5c",
   "metadata": {},
   "outputs": [],
   "source": [
    "mnr3 = mat5.minor(1, 1)\n",
    "mnr3"
   ]
  },
  {
   "cell_type": "markdown",
   "id": "a9b39686",
   "metadata": {},
   "source": [
    "## Abstract Cofactor Matrix"
   ]
  },
  {
   "cell_type": "code",
   "execution_count": null,
   "id": "306772f1",
   "metadata": {},
   "outputs": [],
   "source": [
    "cof2 = mat2.cofactor_matrix()\n",
    "cof2"
   ]
  },
  {
   "cell_type": "code",
   "execution_count": null,
   "id": "55b59c33",
   "metadata": {},
   "outputs": [],
   "source": [
    "cof3 = mat5.cofactor_matrix()\n",
    "cof3"
   ]
  },
  {
   "cell_type": "markdown",
   "id": "e1d944f6",
   "metadata": {},
   "source": [
    "## Abstract Matrix Transpose"
   ]
  },
  {
   "cell_type": "code",
   "execution_count": null,
   "id": "7031890b",
   "metadata": {},
   "outputs": [],
   "source": [
    "cof2_trans = cof2.transpose()\n",
    "cof2_trans"
   ]
  },
  {
   "cell_type": "code",
   "execution_count": null,
   "id": "2130a554",
   "metadata": {},
   "outputs": [],
   "source": [
    "cof3.transpose()"
   ]
  },
  {
   "cell_type": "markdown",
   "id": "646a0202",
   "metadata": {},
   "source": [
    "## Abstract Matrix Determinant"
   ]
  },
  {
   "cell_type": "code",
   "execution_count": null,
   "id": "55b36d62",
   "metadata": {},
   "outputs": [],
   "source": [
    "mat2.determinant()"
   ]
  },
  {
   "cell_type": "markdown",
   "id": "126d6bcb",
   "metadata": {},
   "source": [
    "Here's a breaksdown of the basic computations required to get the determinant.\n",
    "\n",
    "NOTE: Addition & multiplication for the ring, ps3, is commutative, so the order of adds and mults is irrelevant, below."
   ]
  },
  {
   "cell_type": "code",
   "execution_count": null,
   "id": "df58ffe3",
   "metadata": {},
   "outputs": [],
   "source": [
    "minor_det_0 = ps3.sub(ps3.mult('{1, 2}', '{}'), ps3.mult('{2}', '{}'))\n",
    "minor_det_0"
   ]
  },
  {
   "cell_type": "code",
   "execution_count": null,
   "id": "1d6d232a",
   "metadata": {},
   "outputs": [],
   "source": [
    "minor_det_1 = ps3.sub(ps3.mult('{0}', '{}'), ps3.mult('{2}', '{0, 1}'))\n",
    "minor_det_1"
   ]
  },
  {
   "cell_type": "code",
   "execution_count": null,
   "id": "46947f51",
   "metadata": {},
   "outputs": [],
   "source": [
    "minor_det_2 = ps3.sub(ps3.mult('{0}', '{}'), ps3.mult('{1, 2}', '{0, 1}'))\n",
    "minor_det_2"
   ]
  },
  {
   "cell_type": "code",
   "execution_count": null,
   "id": "ec46b2aa",
   "metadata": {},
   "outputs": [],
   "source": [
    "det = ps3.sub(ps3.add(ps3.mult('{0, 1}', minor_det_0),\n",
    "                      ps3.mult('{1, 2}', minor_det_2)),\n",
    "              ps3.mult('{0, 2}', minor_det_1))\n",
    "det"
   ]
  },
  {
   "cell_type": "code",
   "execution_count": null,
   "id": "b8b1f37d",
   "metadata": {},
   "outputs": [],
   "source": [
    "mat5.determinant()"
   ]
  },
  {
   "cell_type": "markdown",
   "id": "0c00e4fb-82e8-42ed-8fd2-f24d6824ffcd",
   "metadata": {},
   "source": [
    "## Abstract Matrix Inverse"
   ]
  },
  {
   "cell_type": "code",
   "execution_count": null,
   "id": "588b5a7c-c190-4a2b-9d28-0413d006e5c4",
   "metadata": {},
   "outputs": [],
   "source": [
    "mat2_inv = mat2.inverse()\n",
    "mat2_inv"
   ]
  },
  {
   "cell_type": "code",
   "execution_count": null,
   "id": "412176a0-037a-4327-b230-ce02f6f1e27b",
   "metadata": {},
   "outputs": [],
   "source": [
    "mat2 * mat2_inv"
   ]
  },
  {
   "cell_type": "code",
   "execution_count": null,
   "id": "682292b9-fe96-4fba-bb4a-b64ac41f727c",
   "metadata": {},
   "outputs": [],
   "source": [
    "mat2_inv * mat2"
   ]
  },
  {
   "cell_type": "code",
   "execution_count": null,
   "id": "08b12933",
   "metadata": {},
   "outputs": [],
   "source": [
    "mat5_inv = mat5.inverse()\n",
    "mat5_inv"
   ]
  },
  {
   "cell_type": "code",
   "execution_count": null,
   "id": "e7a4bbc8",
   "metadata": {},
   "outputs": [],
   "source": [
    "mat5 * mat5_inv"
   ]
  },
  {
   "cell_type": "code",
   "execution_count": null,
   "id": "2778ba17",
   "metadata": {},
   "outputs": [],
   "source": [
    "mat5_inv * mat5"
   ]
  },
  {
   "cell_type": "code",
   "execution_count": null,
   "id": "1eb57e39",
   "metadata": {},
   "outputs": [],
   "source": []
  }
 ],
 "metadata": {
  "kernelspec": {
   "display_name": "Python 3 (ipykernel)",
   "language": "python",
   "name": "python3"
  },
  "language_info": {
   "codemirror_mode": {
    "name": "ipython",
    "version": 3
   },
   "file_extension": ".py",
   "mimetype": "text/x-python",
   "name": "python",
   "nbconvert_exporter": "python",
   "pygments_lexer": "ipython3",
   "version": "3.11.4"
  }
 },
 "nbformat": 4,
 "nbformat_minor": 5
}
