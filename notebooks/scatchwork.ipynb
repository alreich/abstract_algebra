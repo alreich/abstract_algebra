{
 "cells": [
  {
   "cell_type": "markdown",
   "id": "9496a890",
   "metadata": {},
   "source": [
    "# Scratchwork"
   ]
  },
  {
   "cell_type": "code",
   "execution_count": 12,
   "id": "d41d075e",
   "metadata": {},
   "outputs": [],
   "source": [
    "import finite_algebras as alg\n",
    "import json\n",
    "import os\n",
    "import numpy as np"
   ]
  },
  {
   "cell_type": "code",
   "execution_count": 2,
   "id": "bc1b8aa4",
   "metadata": {},
   "outputs": [],
   "source": [
    "# Path to this repo\n",
    "aa_path = os.path.join(os.getenv('PYPROJ'), 'abstract_algebra')\n",
    "\n",
    "# Path to a directory containing Algebra definitions in JSON\n",
    "alg_dir = os.path.join(aa_path, \"Algebras\")"
   ]
  },
  {
   "cell_type": "markdown",
   "id": "269c0365",
   "metadata": {},
   "source": [
    "## Loading Examples"
   ]
  },
  {
   "cell_type": "code",
   "execution_count": null,
   "id": "b09021ee",
   "metadata": {},
   "outputs": [],
   "source": [
    "ex = alg.Examples(alg_dir)"
   ]
  },
  {
   "cell_type": "code",
   "execution_count": null,
   "id": "ec25fbca",
   "metadata": {},
   "outputs": [],
   "source": [
    "rps = ex.get_example(4)\n",
    "rps"
   ]
  },
  {
   "cell_type": "code",
   "execution_count": null,
   "id": "ec285468",
   "metadata": {},
   "outputs": [],
   "source": [
    "rps.is_commutative()"
   ]
  },
  {
   "cell_type": "code",
   "execution_count": null,
   "id": "3541049b",
   "metadata": {},
   "outputs": [],
   "source": [
    "z2 = alg.generate_cyclic_group(2)\n",
    "z2"
   ]
  },
  {
   "cell_type": "markdown",
   "id": "55d51caf",
   "metadata": {},
   "source": [
    "### Just for fun..."
   ]
  },
  {
   "cell_type": "markdown",
   "id": "ae838098",
   "metadata": {},
   "source": [
    "Is the direct product of Z2 with itself isomorphic to any of our examples."
   ]
  },
  {
   "cell_type": "code",
   "execution_count": null,
   "id": "253a436d",
   "metadata": {},
   "outputs": [],
   "source": [
    "z2xz2 = z2 * z2\n",
    "z2xz2"
   ]
  },
  {
   "cell_type": "code",
   "execution_count": null,
   "id": "bddabf4a",
   "metadata": {},
   "outputs": [],
   "source": [
    "iso_found = False\n",
    "some_alg = z2xz2\n",
    "for alg in ex.algebras:\n",
    "    if some_alg.isomorphic(alg):\n",
    "        print(f\"{alg.name} is isomorphic to {some_alg.name}\")\n",
    "        iso_found = True\n",
    "if not iso_found:\n",
    "    print(f\"No isomorphisms found in the examples.\")"
   ]
  },
  {
   "cell_type": "code",
   "execution_count": null,
   "id": "4f981eb3",
   "metadata": {},
   "outputs": [],
   "source": [
    "v4 = ex.get_example(7)\n",
    "v4"
   ]
  },
  {
   "cell_type": "markdown",
   "id": "34c29af4",
   "metadata": {},
   "source": [
    "## Check Inputs"
   ]
  },
  {
   "cell_type": "code",
   "execution_count": 37,
   "id": "8a9ba210",
   "metadata": {},
   "outputs": [],
   "source": [
    "def check_inputs_OLD(element_names, mult_table):\n",
    "    \"\"\"Check that the element_list and mult_table have sizes and contents\n",
    "    that don't violate the attributes of a group.\n",
    "\n",
    "    This function is used by the Group constructor.\"\"\"\n",
    "\n",
    "    # Check for duplicate element names\n",
    "    dups = alg.get_duplicates(element_names)\n",
    "    if len(dups) == 0:\n",
    "        pass\n",
    "    else:\n",
    "        raise ValueError(f\"Duplicate element names: {dups}\")\n",
    "\n",
    "    # Check that table is square\n",
    "    rows, cols = mult_table.shape\n",
    "    if rows == cols:\n",
    "        pass\n",
    "    else:\n",
    "        raise ValueError(f\"The table is not square: {rows}x{cols}\")\n",
    "\n",
    "    # Check that the row-col dimensions are the same as the number of elements\n",
    "    num_elements = len(element_names)\n",
    "    if rows == num_elements:\n",
    "        pass\n",
    "    else:\n",
    "        raise ValueError(f\"Number of elements is {num_elements}, but table size is {rows}x{cols}\")\n",
    "\n",
    "    # Check that each table row contains the correct values for a Group\n",
    "    correct_indices = set(range(num_elements))  # {0, 1, 2, ..., n-1}\n",
    "    row_number = -1\n",
    "    for row in mult_table:\n",
    "        row_number += 1\n",
    "        if set(row) == correct_indices:\n",
    "            pass\n",
    "        else:\n",
    "            raise ValueError(f\"Row {row_number} does not contain the correct values\")\n",
    "\n",
    "    # Check that each table col contains the correct values for a Group\n",
    "    for col_number in range(num_elements):\n",
    "        if set(mult_table[:, col_number]) == correct_indices:\n",
    "            pass\n",
    "        else:\n",
    "            raise ValueError(f\"Column {col_number} does not contain the correct values\")\n",
    "\n",
    "    # Check that the table supports associativity for multiplication\n",
    "    # if is_table_associative(mult_table):\n",
    "    #     pass\n",
    "    # else:\n",
    "    #     raise ValueError(\"Multiplication table is not is_associative.\")\n",
    "\n",
    "    return True"
   ]
  },
  {
   "cell_type": "code",
   "execution_count": 38,
   "id": "4c34c89f",
   "metadata": {},
   "outputs": [],
   "source": [
    "e0 = [\"e\", \"h\", \"v\", \"r\"]\n",
    "e1 = [\"e\", \"h\", \"v\", \"v\"]\n",
    "e2 = [\"e\", \"h\", \"v\", \"r\", 'h']\n",
    "e3 = [\"e\", \"h\", \"v\", \"r\", 'a']"
   ]
  },
  {
   "cell_type": "code",
   "execution_count": 39,
   "id": "d74658f0",
   "metadata": {},
   "outputs": [],
   "source": [
    "arr0 = [[0, 1, 2, 3],\n",
    "        [1, 0, 3, 2],\n",
    "        [2, 3, 0, 1],\n",
    "        [3, 2, 1, 0]]\n",
    "t0 = np.array(arr0)"
   ]
  },
  {
   "cell_type": "code",
   "execution_count": 40,
   "id": "216c2cc6",
   "metadata": {},
   "outputs": [],
   "source": [
    "arr1 = [[0, 1, 2, 3],\n",
    "        [1, 2, 3, 0],\n",
    "        [1, 0, 3, 2],\n",
    "        [2, 3, 0, 1],\n",
    "        [3, 2, 1, 0]]\n",
    "t1 = np.array(arr1)"
   ]
  },
  {
   "cell_type": "code",
   "execution_count": 41,
   "id": "00258b87",
   "metadata": {},
   "outputs": [],
   "source": [
    "arr2 = [[0, 1, 2, 3, 4],\n",
    "        [1, 2, 3, 0, 4],\n",
    "        [1, 0, 3, 2, 4],\n",
    "        [2, 3, 0, 1, 4],\n",
    "        [3, 2, 1, 0, 4]]\n",
    "t2 = np.array(arr2)"
   ]
  },
  {
   "cell_type": "code",
   "execution_count": 46,
   "id": "471579ef",
   "metadata": {},
   "outputs": [],
   "source": [
    "arr3 = [[0, 1, 2, 3],\n",
    "        [1, 0, 4, 2],\n",
    "        [2, 3, 0, 1],\n",
    "        [3, 2, 1, 0]]\n",
    "t3 = np.array(arr3)"
   ]
  },
  {
   "cell_type": "code",
   "execution_count": 47,
   "id": "a9884d1b",
   "metadata": {},
   "outputs": [
    {
     "ename": "ValueError",
     "evalue": "Row 1 does not contain the correct values",
     "output_type": "error",
     "traceback": [
      "\u001b[0;31m---------------------------------------------------------------------------\u001b[0m",
      "\u001b[0;31mValueError\u001b[0m                                Traceback (most recent call last)",
      "\u001b[0;32m<ipython-input-47-d23c6879ef02>\u001b[0m in \u001b[0;36m<module>\u001b[0;34m\u001b[0m\n\u001b[0;32m----> 1\u001b[0;31m \u001b[0mcheck_inputs_OLD\u001b[0m\u001b[0;34m(\u001b[0m\u001b[0me0\u001b[0m\u001b[0;34m,\u001b[0m \u001b[0mt3\u001b[0m\u001b[0;34m)\u001b[0m\u001b[0;34m\u001b[0m\u001b[0;34m\u001b[0m\u001b[0m\n\u001b[0m",
      "\u001b[0;32m<ipython-input-37-0eb787485de7>\u001b[0m in \u001b[0;36mcheck_inputs_OLD\u001b[0;34m(element_names, mult_table)\u001b[0m\n\u001b[1;32m     34\u001b[0m             \u001b[0;32mpass\u001b[0m\u001b[0;34m\u001b[0m\u001b[0;34m\u001b[0m\u001b[0m\n\u001b[1;32m     35\u001b[0m         \u001b[0;32melse\u001b[0m\u001b[0;34m:\u001b[0m\u001b[0;34m\u001b[0m\u001b[0;34m\u001b[0m\u001b[0m\n\u001b[0;32m---> 36\u001b[0;31m             \u001b[0;32mraise\u001b[0m \u001b[0mValueError\u001b[0m\u001b[0;34m(\u001b[0m\u001b[0;34mf\"Row {row_number} does not contain the correct values\"\u001b[0m\u001b[0;34m)\u001b[0m\u001b[0;34m\u001b[0m\u001b[0;34m\u001b[0m\u001b[0m\n\u001b[0m\u001b[1;32m     37\u001b[0m \u001b[0;34m\u001b[0m\u001b[0m\n\u001b[1;32m     38\u001b[0m     \u001b[0;31m# Check that each table col contains the correct values for a Cayley table\u001b[0m\u001b[0;34m\u001b[0m\u001b[0;34m\u001b[0m\u001b[0;34m\u001b[0m\u001b[0m\n",
      "\u001b[0;31mValueError\u001b[0m: Row 1 does not contain the correct values"
     ]
    }
   ],
   "source": [
    "check_inputs_OLD(e0, t3)"
   ]
  },
  {
   "cell_type": "code",
   "execution_count": null,
   "id": "ac5e1c02",
   "metadata": {},
   "outputs": [],
   "source": []
  },
  {
   "cell_type": "code",
   "execution_count": null,
   "id": "c1c0682a",
   "metadata": {},
   "outputs": [],
   "source": []
  }
 ],
 "metadata": {
  "kernelspec": {
   "display_name": "Python 3",
   "language": "python",
   "name": "python3"
  },
  "language_info": {
   "codemirror_mode": {
    "name": "ipython",
    "version": 3
   },
   "file_extension": ".py",
   "mimetype": "text/x-python",
   "name": "python",
   "nbconvert_exporter": "python",
   "pygments_lexer": "ipython3",
   "version": "3.7.7"
  }
 },
 "nbformat": 4,
 "nbformat_minor": 5
}
