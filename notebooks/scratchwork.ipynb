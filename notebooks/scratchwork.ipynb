{
 "cells": [
  {
   "cell_type": "markdown",
   "id": "39385615",
   "metadata": {},
   "source": [
    "# Scratchwork"
   ]
  },
  {
   "cell_type": "code",
   "execution_count": 43,
   "id": "67de7c9f",
   "metadata": {},
   "outputs": [],
   "source": [
    "from finite_algebras import make_finite_algebra, generate_algebra_mod_n, generate_commutative_monoid\n",
    "from finite_algebras import Group, Ring, Field, is_field, Examples\n",
    "\n",
    "import numpy as np\n",
    "from json import dump, dumps"
   ]
  },
  {
   "cell_type": "code",
   "execution_count": 24,
   "id": "59294d9e",
   "metadata": {},
   "outputs": [],
   "source": [
    "import os\n",
    "aa_path = os.path.join(os.getenv(\"PYPROJ\"), \"abstract_algebra\")\n",
    "alg_dir = os.path.join(aa_path, \"Algebras\")"
   ]
  },
  {
   "cell_type": "code",
   "execution_count": 25,
   "id": "3d117398",
   "metadata": {},
   "outputs": [
    {
     "name": "stdout",
     "output_type": "stream",
     "text": [
      "\n",
      "Ring: Powerset Ring 2\n",
      "Instance ID: 140317949681872\n",
      "Description: Ring on powerset of {0, 1}\n",
      "Identity: {}\n",
      "Associative? Yes\n",
      "Commutative? Yes\n",
      "Elements:\n",
      "   Index   Name   Inverse  Order\n",
      "      0      {}      {}       1\n",
      "      1     {0}     {0}       2\n",
      "      2     {1}     {1}       2\n",
      "      3  {0, 1}  {0, 1}       2\n",
      "Cayley Table (showing indices):\n",
      "[[0, 1, 2, 3], [1, 0, 3, 2], [2, 3, 0, 1], [3, 2, 1, 0]]\n",
      "Mult. Identity: {0, 1}\n",
      "Mult. Commutative? Yes\n",
      "Multiplicative Cayley Table (showing indices):\n",
      "[[0, 0, 0, 0], [0, 1, 0, 1], [0, 0, 2, 2], [0, 1, 2, 3]]\n"
     ]
    }
   ],
   "source": [
    "rng = make_finite_algebra('Powerset Ring 2',\n",
    "                          'Ring on powerset of {0, 1}',\n",
    "                          ['{}', '{0}', '{1}', '{0, 1}'],\n",
    "                          [[0, 1, 2, 3],\n",
    "                           [1, 0, 3, 2],\n",
    "                           [2, 3, 0, 1],\n",
    "                           [3, 2, 1, 0]],\n",
    "                          [[0, 0, 0, 0],\n",
    "                           [0, 1, 0, 1],\n",
    "                           [0, 0, 2, 2],\n",
    "                           [0, 1, 2, 3]]\n",
    "                         )\n",
    "rng.about()"
   ]
  },
  {
   "cell_type": "code",
   "execution_count": 26,
   "id": "cc37ac84",
   "metadata": {},
   "outputs": [
    {
     "name": "stdout",
     "output_type": "stream",
     "text": [
      "\n",
      "Field: F4\n",
      "Instance ID: 140317949664656\n",
      "Description: Field with 4 elements\n",
      "Identity: 0\n",
      "Associative? Yes\n",
      "Commutative? Yes\n",
      "Elements:\n",
      "   Index   Name   Inverse  Order\n",
      "      0       0       0       1\n",
      "      1       1       1       2\n",
      "      2       a       a       2\n",
      "      3     1+a     1+a       2\n",
      "Cayley Table (showing indices):\n",
      "[[0, 1, 2, 3], [1, 0, 3, 2], [2, 3, 0, 1], [3, 2, 1, 0]]\n",
      "Mult. Identity: 1\n",
      "Mult. Commutative? Yes\n",
      "Multiplicative Cayley Table (showing indices):\n",
      "[[0, 0, 0, 0], [0, 1, 2, 3], [0, 2, 3, 1], [0, 3, 1, 2]]\n"
     ]
    }
   ],
   "source": [
    "elems = ['0', '1', 'a', '1+a']\n",
    "\n",
    "add_table = [[ '0' ,  '1' ,  'a' , '1+a'],\n",
    "             [ '1' ,  '0' , '1+a',  'a' ],\n",
    "             [ 'a' , '1+a',  '0' ,  '1' ],\n",
    "             ['1+a',  'a' ,  '1' ,  '0' ]]\n",
    "\n",
    "mult_table = [['0',  '0' ,  '0' ,  '0' ],\n",
    "              ['0',  '1' ,  'a' , '1+a'],\n",
    "              ['0',  'a' , '1+a',  '1' ],\n",
    "              ['0', '1+a',  '1' ,  'a' ]]\n",
    "\n",
    "f4 = make_finite_algebra('F4',\n",
    "                         'Field with 4 elements',\n",
    "                         elems,\n",
    "                         add_table,\n",
    "                         mult_table\n",
    "                        )\n",
    "f4.about()"
   ]
  },
  {
   "cell_type": "markdown",
   "id": "e6d84a4e",
   "metadata": {},
   "source": [
    "## To_Dict (NEW)"
   ]
  },
  {
   "cell_type": "code",
   "execution_count": null,
   "id": "01cc7a0d",
   "metadata": {},
   "outputs": [],
   "source": []
  },
  {
   "cell_type": "raw",
   "id": "42f65a81",
   "metadata": {},
   "source": [
    "def to_dict_NEW2(alg, include_classname=False):\n",
    "    result = {'name': alg.name,\n",
    "              'description': alg.description,\n",
    "              'elements': alg.elements,\n",
    "              'table': alg.table.tolist()\n",
    "             }\n",
    "    if isinstance(alg, Ring):\n",
    "        result['table2'] = alg.mult_table.tolist()\n",
    "    if include_classname:\n",
    "        result['type'] = alg.__class__.__name__\n",
    "    return result"
   ]
  },
  {
   "cell_type": "code",
   "execution_count": null,
   "id": "ed60ae58",
   "metadata": {},
   "outputs": [],
   "source": []
  },
  {
   "cell_type": "code",
   "execution_count": 29,
   "id": "8910c440",
   "metadata": {},
   "outputs": [
    {
     "data": {
      "text/plain": [
       "{'name': 'Powerset Ring 2',\n",
       " 'description': 'Ring on powerset of {0, 1}',\n",
       " 'elements': ['{}', '{0}', '{1}', '{0, 1}'],\n",
       " 'table': [[0, 1, 2, 3], [1, 0, 3, 2], [2, 3, 0, 1], [3, 2, 1, 0]],\n",
       " 'table2': [[0, 0, 0, 0], [0, 1, 0, 1], [0, 0, 2, 2], [0, 1, 2, 3]]}"
      ]
     },
     "execution_count": 29,
     "metadata": {},
     "output_type": "execute_result"
    }
   ],
   "source": [
    "# to_dict_NEW2(rng, include_classname=True)\n",
    "to_dict_NEW2(rng)"
   ]
  },
  {
   "cell_type": "code",
   "execution_count": 30,
   "id": "fa9f5bfc",
   "metadata": {},
   "outputs": [
    {
     "data": {
      "text/plain": [
       "{'name': 'F4',\n",
       " 'description': 'Field with 4 elements',\n",
       " 'elements': ['0', '1', 'a', '1+a'],\n",
       " 'table': [[0, 1, 2, 3], [1, 0, 3, 2], [2, 3, 0, 1], [3, 2, 1, 0]],\n",
       " 'table2': [[0, 0, 0, 0], [0, 1, 2, 3], [0, 2, 3, 1], [0, 3, 1, 2]]}"
      ]
     },
     "execution_count": 30,
     "metadata": {},
     "output_type": "execute_result"
    }
   ],
   "source": [
    "f4_dict = f4.to_dict()\n",
    "f4_dict"
   ]
  },
  {
   "cell_type": "code",
   "execution_count": 31,
   "id": "e41e0772",
   "metadata": {},
   "outputs": [
    {
     "data": {
      "text/plain": [
       "'{\"name\": \"F4\", \"description\": \"Field with 4 elements\", \"elements\": [\"0\", \"1\", \"a\", \"1+a\"], \"table\": [[0, 1, 2, 3], [1, 0, 3, 2], [2, 3, 0, 1], [3, 2, 1, 0]], \"table2\": [[0, 0, 0, 0], [0, 1, 2, 3], [0, 2, 3, 1], [0, 3, 1, 2]]}'"
      ]
     },
     "execution_count": 31,
     "metadata": {},
     "output_type": "execute_result"
    }
   ],
   "source": [
    "f4.dumps()"
   ]
  },
  {
   "cell_type": "code",
   "execution_count": 32,
   "id": "b49acaf1",
   "metadata": {},
   "outputs": [
    {
     "name": "stdout",
     "output_type": "stream",
     "text": [
      "{\"name\": \"F4\",\r\n",
      " \"description\": \"Field with 4 elements (from Wikipedia)\",\r\n",
      " \"elements\": [\"0\", \"1\", \"a\", \"1+a\"],\r\n",
      " \"table\": [[0, 1, 2, 3],\r\n",
      "           [1, 0, 3, 2],\r\n",
      "           [2, 3, 0, 1],\r\n",
      "           [3, 2, 1, 0]],\r\n",
      " \"table2\": [[0, 0, 0, 0],\r\n",
      "            [0, 1, 2, 3],\r\n",
      "            [0, 2, 3, 1],\r\n",
      "            [0, 3, 1, 2]]\r\n",
      "}\r\n"
     ]
    }
   ],
   "source": [
    ">>> f4_json = os.path.join(alg_dir, \"field_with_four_elements.json\")\n",
    "\n",
    ">>> !cat {f4_json}"
   ]
  },
  {
   "cell_type": "code",
   "execution_count": 33,
   "id": "e4997450",
   "metadata": {},
   "outputs": [
    {
     "data": {
      "text/plain": [
       "Field(\n",
       "'F4',\n",
       "'Field with 4 elements (from Wikipedia)',\n",
       "['0', '1', 'a', '1+a'],\n",
       "[[0, 1, 2, 3], [1, 0, 3, 2], [2, 3, 0, 1], [3, 2, 1, 0]],\n",
       "[[0, 0, 0, 0], [0, 1, 2, 3], [0, 2, 3, 1], [0, 3, 1, 2]]\n",
       ")"
      ]
     },
     "execution_count": 33,
     "metadata": {},
     "output_type": "execute_result"
    }
   ],
   "source": [
    ">>> f4 = make_finite_algebra(f4_json)\n",
    "\n",
    ">>> f4"
   ]
  },
  {
   "cell_type": "code",
   "execution_count": null,
   "id": "8e0cfda5",
   "metadata": {},
   "outputs": [],
   "source": []
  },
  {
   "cell_type": "code",
   "execution_count": 34,
   "id": "ca9be493",
   "metadata": {},
   "outputs": [
    {
     "name": "stdout",
     "output_type": "stream",
     "text": [
      "======================================================================\n",
      "                           Example Algebras\n",
      "----------------------------------------------------------------------\n",
      "  10 example algebras are available.\n",
      "  Use \"get_example(INDEX)\" to retrieve a specific example,\n",
      "  where INDEX is the first number on each line below:\n",
      "----------------------------------------------------------------------\n",
      "0: A4 -- Alternating group on 4 letters (AKA Tetrahedral group)\n",
      "1: D3 -- https://en.wikipedia.org/wiki/Dihedral_group_of_order_6\n",
      "2: D4 -- Dihedral group on four vertices\n",
      "3: Pinter29 -- Non-abelian group, p.29, 'A Book of Abstract Algebra' by Charles C. Pinter\n",
      "4: RPS -- Rock, Paper, Scissors Magma\n",
      "5: S3 -- Symmetric group on 3 letters\n",
      "6: S3X -- Another version of the symmetric group on 3 letters\n",
      "7: V4 -- Klein-4 group\n",
      "8: Z4 -- Cyclic group of order 4\n",
      "9: F4 -- Field with 4 elements (from Wikipedia)\n",
      "======================================================================\n"
     ]
    }
   ],
   "source": [
    "ex = Examples(alg_dir)"
   ]
  },
  {
   "cell_type": "code",
   "execution_count": 36,
   "id": "4915667b",
   "metadata": {},
   "outputs": [
    {
     "data": {
      "text/plain": [
       "Field(\n",
       "'F4',\n",
       "'Field with 4 elements (from Wikipedia)',\n",
       "['0', '1', 'a', '1+a'],\n",
       "[[0, 1, 2, 3], [1, 0, 3, 2], [2, 3, 0, 1], [3, 2, 1, 0]],\n",
       "[[0, 0, 0, 0], [0, 1, 2, 3], [0, 2, 3, 1], [0, 3, 1, 2]]\n",
       ")"
      ]
     },
     "execution_count": 36,
     "metadata": {},
     "output_type": "execute_result"
    }
   ],
   "source": [
    "f4new = ex.get_example(9)\n",
    "f4new"
   ]
  }
 ],
 "metadata": {
  "kernelspec": {
   "display_name": "Python 3",
   "language": "python",
   "name": "python3"
  },
  "language_info": {
   "codemirror_mode": {
    "name": "ipython",
    "version": 3
   },
   "file_extension": ".py",
   "mimetype": "text/x-python",
   "name": "python",
   "nbconvert_exporter": "python",
   "pygments_lexer": "ipython3",
   "version": "3.7.7"
  }
 },
 "nbformat": 4,
 "nbformat_minor": 5
}
