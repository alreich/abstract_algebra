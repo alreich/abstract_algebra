{
 "cells": [
  {
   "cell_type": "markdown",
   "id": "d1dcc892",
   "metadata": {},
   "source": [
    "# Scratchwork"
   ]
  },
  {
   "cell_type": "markdown",
   "id": "74a8fdb1",
   "metadata": {},
   "source": [
    "This notebook is only used for trying out ideas."
   ]
  },
  {
   "cell_type": "code",
   "execution_count": 1,
   "id": "ce82ef6d",
   "metadata": {},
   "outputs": [],
   "source": [
    "import algebras as alg\n",
    "import json\n",
    "import os\n",
    "import numpy as np\n",
    "import itertools as it\n",
    "# from pprint import pprint\n",
    "import pprint as pp\n",
    "\n",
    "# from itertools import combinations, permutations, product\n",
    "import itertools as it"
   ]
  },
  {
   "cell_type": "code",
   "execution_count": 2,
   "id": "190b522a",
   "metadata": {},
   "outputs": [],
   "source": [
    "# Path to this repo\n",
    "aa_path = os.path.join(os.getenv('PYPROJ'), 'abstract_algebra')\n",
    "\n",
    "# Path to a directory containing Algebra definitions in JSON\n",
    "alg_dir = os.path.join(aa_path, \"Algebras\")"
   ]
  },
  {
   "cell_type": "markdown",
   "id": "4ca8eb12",
   "metadata": {},
   "source": [
    "## Groups for Testing"
   ]
  },
  {
   "cell_type": "markdown",
   "id": "5c379e43",
   "metadata": {},
   "source": [
    "### D4 - Dihedral Group on 4 Vertices"
   ]
  },
  {
   "cell_type": "code",
   "execution_count": 3,
   "id": "461af642",
   "metadata": {},
   "outputs": [
    {
     "name": "stdout",
     "output_type": "stream",
     "text": [
      "{\"type\": \"Group\",\r\n",
      " \"name\": \"D_4\",\r\n",
      " \"description\": \"Dihedral group on four vertices\",\r\n",
      " \"element_names\": [\"e\", \"r\", \"r^2\", \"r^3\", \"f\", \"fr\", \"r^2f\", \"rf\"],\r\n",
      " \"alt_elem_names\": [\"()\", \"(0 1 2 3)\", \"(0 2)(1 3)\", \"(0 3 2 1)\",\r\n",
      "                    \"(0 1)(2 3)\", \"(1 3)\", \"(0 3)(1 2)\", \"(0 2)\"],\r\n",
      " \"mult_table\": [[0, 1, 2, 3, 4, 5, 6, 7],\r\n",
      "                [1, 2, 3, 0, 7, 4, 5, 6],\r\n",
      "                [2, 3, 0, 1, 6, 7, 4, 5],\r\n",
      "                [3, 0, 1, 2, 5, 6, 7, 4],\r\n",
      "                [4, 5, 6, 7, 0, 1, 2, 3],\r\n",
      "                [5, 6, 7, 4, 3, 0, 1, 2],\r\n",
      "                [6, 7, 4, 5, 2, 3, 0, 1],\r\n",
      "                [7, 4, 5, 6, 1, 2, 3, 0]]\r\n",
      "}"
     ]
    }
   ],
   "source": [
    "d4_path = os.path.join(alg_dir, \"d4_dihedral_group_on_4_vertices.json\")\n",
    "!cat {d4_path}"
   ]
  },
  {
   "cell_type": "code",
   "execution_count": 4,
   "id": "02c6b15b",
   "metadata": {},
   "outputs": [
    {
     "name": "stdout",
     "output_type": "stream",
     "text": [
      "\n",
      "Group: D_4\n",
      "Dihedral group on four vertices\n",
      "Abelian? False\n",
      "Elements:\n",
      "   Index   Name   Inverse  Order\n",
      "      0       e       e       1\n",
      "      1       r     r^3       4\n",
      "      2     r^2     r^2       2\n",
      "      3     r^3       r       4\n",
      "      4       f       f       2\n",
      "      5      fr      fr       2\n",
      "      6    r^2f    r^2f       2\n",
      "      7      rf      rf       2\n",
      "Cayley Table (showing indices):\n",
      "[[0, 1, 2, 3, 4, 5, 6, 7],\n",
      " [1, 2, 3, 0, 7, 4, 5, 6],\n",
      " [2, 3, 0, 1, 6, 7, 4, 5],\n",
      " [3, 0, 1, 2, 5, 6, 7, 4],\n",
      " [4, 5, 6, 7, 0, 1, 2, 3],\n",
      " [5, 6, 7, 4, 3, 0, 1, 2],\n",
      " [6, 7, 4, 5, 2, 3, 0, 1],\n",
      " [7, 4, 5, 6, 1, 2, 3, 0]]\n"
     ]
    }
   ],
   "source": [
    "d4 = alg.Group(d4_path)\n",
    "d4.about()"
   ]
  },
  {
   "cell_type": "markdown",
   "id": "727ce8bf",
   "metadata": {},
   "source": [
    "### V4 - Klein 4 Group"
   ]
  },
  {
   "cell_type": "code",
   "execution_count": 5,
   "id": "48d020b1",
   "metadata": {},
   "outputs": [
    {
     "name": "stdout",
     "output_type": "stream",
     "text": [
      "{\"type\": \"Group\",\r\n",
      " \"name\": \"V4\",\r\n",
      " \"description\": \"Klein-4 group\",\r\n",
      " \"element_names\": [\"e\", \"h\", \"v\", \"r\"],\r\n",
      " \"mult_table\": [[0, 1, 2, 3],\r\n",
      "                [1, 0, 3, 2],\r\n",
      "                [2, 3, 0, 1],\r\n",
      "                [3, 2, 1, 0]]\r\n",
      "}\r\n"
     ]
    }
   ],
   "source": [
    "v4_path = os.path.join(alg_dir, \"v4_klein_4_group.json\")\n",
    "!cat {v4_path}"
   ]
  },
  {
   "cell_type": "code",
   "execution_count": 6,
   "id": "d32a73d8",
   "metadata": {},
   "outputs": [
    {
     "name": "stdout",
     "output_type": "stream",
     "text": [
      "\n",
      "Group: V4\n",
      "Klein-4 group\n",
      "Abelian? True\n",
      "Elements:\n",
      "   Index   Name   Inverse  Order\n",
      "      0       e       e       1\n",
      "      1       h       h       2\n",
      "      2       v       v       2\n",
      "      3       r       r       2\n",
      "Cayley Table (showing indices):\n",
      "[[0, 1, 2, 3], [1, 0, 3, 2], [2, 3, 0, 1], [3, 2, 1, 0]]\n"
     ]
    }
   ],
   "source": [
    "v4 = alg.Group(v4_path)\n",
    "v4.about()"
   ]
  },
  {
   "cell_type": "code",
   "execution_count": 7,
   "id": "982014c0",
   "metadata": {},
   "outputs": [
    {
     "data": {
      "text/plain": [
       "Group('Z2',\n",
       "'Autogenerated cyclic group of order 2',\n",
       "['e', 'a'],\n",
       "[[0, 1], [1, 0]]) "
      ]
     },
     "execution_count": 7,
     "metadata": {},
     "output_type": "execute_result"
    }
   ],
   "source": [
    "z2 = alg.generate_cyclic_group(2)\n",
    "z2"
   ]
  },
  {
   "cell_type": "code",
   "execution_count": 8,
   "id": "9a6839ba",
   "metadata": {},
   "outputs": [
    {
     "data": {
      "text/plain": [
       "Group('Z2_x_Z2',\n",
       "'Direct product of Z2 & Z2',\n",
       "['e:e', 'e:a', 'a:e', 'a:a'],\n",
       "[[0, 1, 2, 3], [1, 0, 3, 2], [2, 3, 0, 1], [3, 2, 1, 0]]) "
      ]
     },
     "execution_count": 8,
     "metadata": {},
     "output_type": "execute_result"
    }
   ],
   "source": [
    "z2_x_z2 = z2 * z2\n",
    "z2_x_z2"
   ]
  },
  {
   "cell_type": "code",
   "execution_count": 9,
   "id": "fcccbc83",
   "metadata": {},
   "outputs": [
    {
     "data": {
      "text/plain": [
       "Group('Z4',\n",
       "'Autogenerated cyclic group of order 4',\n",
       "['e', 'a', 'a^2', 'a^3'],\n",
       "[[0, 1, 2, 3], [1, 2, 3, 0], [2, 3, 0, 1], [3, 0, 1, 2]]) "
      ]
     },
     "execution_count": 9,
     "metadata": {},
     "output_type": "execute_result"
    }
   ],
   "source": [
    "z4 = alg.generate_cyclic_group(4)\n",
    "z4"
   ]
  },
  {
   "cell_type": "markdown",
   "id": "4abbd3d1",
   "metadata": {},
   "source": [
    "### Powerset Group on 3 Items"
   ]
  },
  {
   "cell_type": "markdown",
   "id": "a91ce57b",
   "metadata": {},
   "source": [
    "TODO: Look for the paper by Carolyn Bean, \"Group operations on the power set\", Journal of Undergraduate Mathematics 8 #1 (March 1976), 13-17."
   ]
  },
  {
   "cell_type": "code",
   "execution_count": 10,
   "id": "d2e7bd34",
   "metadata": {},
   "outputs": [
    {
     "name": "stdout",
     "output_type": "stream",
     "text": [
      "\n",
      "Group: PS3\n",
      "Autogenerated group on the powerset of 3 elements, with symmetric difference operator\n",
      "Abelian? True\n",
      "Elements:\n",
      "   Index   Name   Inverse  Order\n",
      "      0      {}      {}       1\n",
      "      1     {0}     {0}       2\n",
      "      2     {1}     {1}       2\n",
      "      3     {2}     {2}       2\n",
      "      4  {0, 1}  {0, 1}       2\n",
      "      5  {0, 2}  {0, 2}       2\n",
      "      6  {1, 2}  {1, 2}       2\n",
      "      7 {0, 1, 2} {0, 1, 2}       2\n",
      "Cayley Table (showing indices):\n",
      "[[0, 1, 2, 3, 4, 5, 6, 7],\n",
      " [1, 0, 4, 5, 2, 3, 7, 6],\n",
      " [2, 4, 0, 6, 1, 7, 3, 5],\n",
      " [3, 5, 6, 0, 7, 1, 2, 4],\n",
      " [4, 2, 1, 7, 0, 6, 5, 3],\n",
      " [5, 3, 7, 1, 6, 0, 4, 2],\n",
      " [6, 7, 3, 2, 5, 4, 0, 1],\n",
      " [7, 6, 5, 4, 3, 2, 1, 0]]\n"
     ]
    }
   ],
   "source": [
    "ps3 = alg.generate_powerset_group(3)\n",
    "ps3.about()"
   ]
  },
  {
   "cell_type": "markdown",
   "id": "0dbd8a24",
   "metadata": {},
   "source": [
    "## Finite Rings"
   ]
  },
  {
   "cell_type": "markdown",
   "id": "9467fae6",
   "metadata": {},
   "source": [
    "\"Consider any finite set. Then its power set with respect to symmetric difference (as 1st operation) and set intersection (as 2nd operation) is an example of a finite ring.\" -- [Quora](https://www.quora.com/What-are-examples-of-finite-rings#:~:text=Matrices%20over%20any%20ring%20make,a%20finite%20ring%20with%20elements.)"
   ]
  },
  {
   "cell_type": "markdown",
   "id": "9acc3d53",
   "metadata": {},
   "source": [
    "## Set Operations"
   ]
  },
  {
   "cell_type": "code",
   "execution_count": 11,
   "id": "7468d0d0",
   "metadata": {},
   "outputs": [
    {
     "name": "stdout",
     "output_type": "stream",
     "text": [
      "               Union: {0, 1, 2, 3, 4, 5, 6, 8}\n",
      "        Intersection: {2, 4}\n",
      "          Difference: {0, 8, 6}\n",
      "Symmetric Difference: {0, 1, 3, 5, 6, 8}\n"
     ]
    }
   ],
   "source": [
    "A = {0, 2, 4, 6, 8}\n",
    "B = {1, 2, 3, 4, 5}\n",
    "\n",
    "print(f\"               Union: {A | B}\")\n",
    "print(f\"        Intersection: {A & B}\")\n",
    "print(f\"          Difference: {A - B}\")\n",
    "print(f\"Symmetric Difference: {A ^ B}\")"
   ]
  },
  {
   "cell_type": "markdown",
   "id": "a0b03596",
   "metadata": {},
   "source": [
    "## Summarize Proper Subgroups of a Group"
   ]
  },
  {
   "cell_type": "code",
   "execution_count": 12,
   "id": "50e8f58a",
   "metadata": {},
   "outputs": [
    {
     "name": "stdout",
     "output_type": "stream",
     "text": [
      "\n",
      "PS3 has 14 proper subgroups.\n",
      "\n"
     ]
    }
   ],
   "source": [
    "ps3_prop_subs = ps3.proper_subgroups()\n",
    "print(f\"\\n{ps3.name} has {len(ps3_prop_subs)} proper subgroups.\\n\")"
   ]
  },
  {
   "cell_type": "code",
   "execution_count": 13,
   "id": "13b4b633",
   "metadata": {},
   "outputs": [],
   "source": [
    "iso_sets_of_groups = alg.divide_groups_into_isomorphic_sets(ps3_prop_subs)"
   ]
  },
  {
   "cell_type": "code",
   "execution_count": 14,
   "id": "5321475a",
   "metadata": {},
   "outputs": [
    {
     "data": {
      "text/plain": [
       "['PS3_subgroup_0',\n",
       " 'PS3_subgroup_1',\n",
       " 'PS3_subgroup_2',\n",
       " 'PS3_subgroup_3',\n",
       " 'PS3_subgroup_7',\n",
       " 'PS3_subgroup_8',\n",
       " 'PS3_subgroup_10']"
      ]
     },
     "execution_count": 14,
     "metadata": {},
     "output_type": "execute_result"
    }
   ],
   "source": [
    "[g.name for g in iso_sets_of_groups[0]]"
   ]
  },
  {
   "cell_type": "code",
   "execution_count": 15,
   "id": "2e9af8b7",
   "metadata": {},
   "outputs": [
    {
     "data": {
      "text/plain": [
       "['PS3_subgroup_4',\n",
       " 'PS3_subgroup_5',\n",
       " 'PS3_subgroup_6',\n",
       " 'PS3_subgroup_9',\n",
       " 'PS3_subgroup_11',\n",
       " 'PS3_subgroup_12',\n",
       " 'PS3_subgroup_13']"
      ]
     },
     "execution_count": 15,
     "metadata": {},
     "output_type": "execute_result"
    }
   ],
   "source": [
    "[g.name for g in iso_sets_of_groups[1]]"
   ]
  },
  {
   "cell_type": "code",
   "execution_count": 16,
   "id": "97fe77c4",
   "metadata": {},
   "outputs": [
    {
     "data": {
      "text/plain": [
       "[['PS3_subgroup_0',\n",
       "  'PS3_subgroup_1',\n",
       "  'PS3_subgroup_2',\n",
       "  'PS3_subgroup_3',\n",
       "  'PS3_subgroup_7',\n",
       "  'PS3_subgroup_8',\n",
       "  'PS3_subgroup_10'],\n",
       " ['PS3_subgroup_4',\n",
       "  'PS3_subgroup_5',\n",
       "  'PS3_subgroup_6',\n",
       "  'PS3_subgroup_9',\n",
       "  'PS3_subgroup_11',\n",
       "  'PS3_subgroup_12',\n",
       "  'PS3_subgroup_13']]"
      ]
     },
     "execution_count": 16,
     "metadata": {},
     "output_type": "execute_result"
    }
   ],
   "source": [
    "[[g.name for g in iso_set] for iso_set in iso_sets_of_groups]"
   ]
  },
  {
   "cell_type": "code",
   "execution_count": 17,
   "id": "5ae7a98a",
   "metadata": {},
   "outputs": [
    {
     "name": "stdout",
     "output_type": "stream",
     "text": [
      "\n",
      "Group: PS3_subgroup_0\n",
      "Subgroup of: Autogenerated group on the powerset of 3 elements, with symmetric difference operator\n",
      "Abelian? True\n",
      "Elements:\n",
      "   Index   Name   Inverse  Order\n",
      "      0      {}      {}       1\n",
      "      1  {0, 2}  {0, 2}       2\n",
      "Cayley Table (showing indices):\n",
      "[[0, 1], [1, 0]]\n",
      "\n",
      "Group: PS3_subgroup_4\n",
      "Subgroup of: Autogenerated group on the powerset of 3 elements, with symmetric difference operator\n",
      "Abelian? True\n",
      "Elements:\n",
      "   Index   Name   Inverse  Order\n",
      "      0      {}      {}       1\n",
      "      1  {0, 1}  {0, 1}       2\n",
      "      2  {0, 2}  {0, 2}       2\n",
      "      3  {1, 2}  {1, 2}       2\n",
      "Cayley Table (showing indices):\n",
      "[[0, 1, 2, 3], [1, 0, 3, 2], [2, 3, 0, 1], [3, 2, 1, 0]]\n"
     ]
    },
    {
     "data": {
      "text/plain": [
       "[None, None]"
      ]
     },
     "execution_count": 17,
     "metadata": {},
     "output_type": "execute_result"
    }
   ],
   "source": [
    "[iso_set[0].about() for iso_set in iso_sets_of_groups]"
   ]
  },
  {
   "cell_type": "markdown",
   "id": "8f7ab289",
   "metadata": {},
   "source": [
    "## Conjugation & Normal Subgroups"
   ]
  },
  {
   "cell_type": "markdown",
   "id": "f0fb2659",
   "metadata": {},
   "source": [
    "### V4"
   ]
  },
  {
   "cell_type": "code",
   "execution_count": 18,
   "id": "95a11ff5",
   "metadata": {},
   "outputs": [
    {
     "data": {
      "text/plain": [
       "[Group('V4_subgroup_0',\n",
       " 'Subgroup of: Klein-4 group',\n",
       " ['e', 'v'],\n",
       " [[0, 1], [1, 0]]) ,\n",
       " Group('V4_subgroup_1',\n",
       " 'Subgroup of: Klein-4 group',\n",
       " ['e', 'h'],\n",
       " [[0, 1], [1, 0]]) ,\n",
       " Group('V4_subgroup_2',\n",
       " 'Subgroup of: Klein-4 group',\n",
       " ['e', 'r'],\n",
       " [[0, 1], [1, 0]]) ]"
      ]
     },
     "execution_count": 18,
     "metadata": {},
     "output_type": "execute_result"
    }
   ],
   "source": [
    "v4_subs = v4.proper_subgroups()\n",
    "v4_subs"
   ]
  },
  {
   "cell_type": "code",
   "execution_count": 19,
   "id": "6fde0287",
   "metadata": {},
   "outputs": [
    {
     "data": {
      "text/plain": [
       "[Group('V4_subgroup_0',\n",
       " 'Subgroup of: Klein-4 group',\n",
       " ['e', 'v'],\n",
       " [[0, 1], [1, 0]]) ]"
      ]
     },
     "execution_count": 19,
     "metadata": {},
     "output_type": "execute_result"
    }
   ],
   "source": [
    "v4.unique_proper_subgroups()"
   ]
  },
  {
   "cell_type": "code",
   "execution_count": 20,
   "id": "9879a0dc",
   "metadata": {},
   "outputs": [
    {
     "data": {
      "text/plain": [
       "True"
      ]
     },
     "execution_count": 20,
     "metadata": {},
     "output_type": "execute_result"
    }
   ],
   "source": [
    "v4.is_normal(v4_subs[0])"
   ]
  },
  {
   "cell_type": "markdown",
   "id": "a31d5c20",
   "metadata": {},
   "source": [
    "### D4"
   ]
  },
  {
   "cell_type": "code",
   "execution_count": 21,
   "id": "44c58124",
   "metadata": {},
   "outputs": [
    {
     "name": "stdout",
     "output_type": "stream",
     "text": [
      "\n",
      "Group: D_4\n",
      "Dihedral group on four vertices\n",
      "Abelian? False\n",
      "Elements:\n",
      "   Index   Name   Inverse  Order\n",
      "      0       e       e       1\n",
      "      1       r     r^3       4\n",
      "      2     r^2     r^2       2\n",
      "      3     r^3       r       4\n",
      "      4       f       f       2\n",
      "      5      fr      fr       2\n",
      "      6    r^2f    r^2f       2\n",
      "      7      rf      rf       2\n",
      "Cayley Table (showing indices):\n",
      "[[0, 1, 2, 3, 4, 5, 6, 7],\n",
      " [1, 2, 3, 0, 7, 4, 5, 6],\n",
      " [2, 3, 0, 1, 6, 7, 4, 5],\n",
      " [3, 0, 1, 2, 5, 6, 7, 4],\n",
      " [4, 5, 6, 7, 0, 1, 2, 3],\n",
      " [5, 6, 7, 4, 3, 0, 1, 2],\n",
      " [6, 7, 4, 5, 2, 3, 0, 1],\n",
      " [7, 4, 5, 6, 1, 2, 3, 0]]\n"
     ]
    }
   ],
   "source": [
    "d4.about()"
   ]
  },
  {
   "cell_type": "code",
   "execution_count": 22,
   "id": "fbe0d752",
   "metadata": {},
   "outputs": [
    {
     "data": {
      "text/plain": [
       "8"
      ]
     },
     "execution_count": 22,
     "metadata": {},
     "output_type": "execute_result"
    }
   ],
   "source": [
    "len(d4.proper_subgroups())"
   ]
  },
  {
   "cell_type": "code",
   "execution_count": 23,
   "id": "e7d91438",
   "metadata": {},
   "outputs": [
    {
     "data": {
      "text/plain": [
       "[Group('D_4_subgroup_0',\n",
       " 'Subgroup of: Dihedral group on four vertices',\n",
       " ['e', 'fr'],\n",
       " [[0, 1], [1, 0]]) ,\n",
       " Group('D_4_subgroup_2',\n",
       " 'Subgroup of: Dihedral group on four vertices',\n",
       " ['e', 'r^2', 'f', 'r^2f'],\n",
       " [[0, 1, 2, 3], [1, 0, 3, 2], [2, 3, 0, 1], [3, 2, 1, 0]]) ,\n",
       " Group('D_4_subgroup_5',\n",
       " 'Subgroup of: Dihedral group on four vertices',\n",
       " ['e', 'r', 'r^2', 'r^3'],\n",
       " [[0, 1, 2, 3], [1, 2, 3, 0], [2, 3, 0, 1], [3, 0, 1, 2]]) ]"
      ]
     },
     "execution_count": 23,
     "metadata": {},
     "output_type": "execute_result"
    }
   ],
   "source": [
    "d4_subs = d4.unique_proper_subgroups()\n",
    "d4_subs"
   ]
  },
  {
   "cell_type": "markdown",
   "id": "6f49a712",
   "metadata": {},
   "source": [
    "The result below matches the comment in the last paragraph of this section:\n",
    "https://en.wikipedia.org/wiki/Dihedral_group#Properties"
   ]
  },
  {
   "cell_type": "code",
   "execution_count": 24,
   "id": "63e3450a",
   "metadata": {},
   "outputs": [
    {
     "data": {
      "text/plain": [
       "[False, True, True]"
      ]
     },
     "execution_count": 24,
     "metadata": {},
     "output_type": "execute_result"
    }
   ],
   "source": [
    "[d4.is_normal(sub) for sub in d4_subs]"
   ]
  },
  {
   "cell_type": "markdown",
   "id": "9a7918f9",
   "metadata": {},
   "source": [
    "### V4"
   ]
  },
  {
   "cell_type": "code",
   "execution_count": 25,
   "id": "80630340",
   "metadata": {},
   "outputs": [
    {
     "data": {
      "text/plain": [
       "[True, True, True]"
      ]
     },
     "execution_count": 25,
     "metadata": {},
     "output_type": "execute_result"
    }
   ],
   "source": [
    "grp = v4\n",
    "grp_subs = grp.proper_subgroups()\n",
    "[grp.is_normal(sub) for sub in grp_subs]"
   ]
  },
  {
   "cell_type": "markdown",
   "id": "90706c4b",
   "metadata": {},
   "source": [
    "### PS3"
   ]
  },
  {
   "cell_type": "code",
   "execution_count": 26,
   "id": "913a8cc2",
   "metadata": {},
   "outputs": [
    {
     "data": {
      "text/plain": [
       "[True, True]"
      ]
     },
     "execution_count": 26,
     "metadata": {},
     "output_type": "execute_result"
    }
   ],
   "source": [
    "grp = ps3\n",
    "grp_unique_subs = grp.unique_proper_subgroups()\n",
    "[grp.is_normal(sub) for sub in grp_unique_subs]"
   ]
  },
  {
   "cell_type": "markdown",
   "id": "e30357e4",
   "metadata": {},
   "source": [
    "### WORK IN PROGRESS"
   ]
  },
  {
   "cell_type": "code",
   "execution_count": 27,
   "id": "bfeefe5c",
   "metadata": {},
   "outputs": [
    {
     "data": {
      "text/plain": [
       "[[['{}', '{0, 2}'],\n",
       "  ['{}', '{0, 1}'],\n",
       "  ['{}', '{0, 1, 2}'],\n",
       "  ['{}', '{0}'],\n",
       "  ['{}', '{1}'],\n",
       "  ['{}', '{1, 2}'],\n",
       "  ['{}', '{2}']],\n",
       " [['{}', '{0, 1}', '{0, 2}', '{1, 2}'],\n",
       "  ['{}', '{1}', '{0, 2}', '{0, 1, 2}'],\n",
       "  ['{}', '{0}', '{1}', '{0, 1}'],\n",
       "  ['{}', '{1}', '{2}', '{1, 2}'],\n",
       "  ['{}', '{0}', '{1, 2}', '{0, 1, 2}'],\n",
       "  ['{}', '{2}', '{0, 1}', '{0, 1, 2}'],\n",
       "  ['{}', '{0}', '{2}', '{0, 2}']]]"
      ]
     },
     "execution_count": 27,
     "metadata": {},
     "output_type": "execute_result"
    }
   ],
   "source": [
    "subs = grp.proper_subgroups()\n",
    "iso_subs = alg.divide_groups_into_isomorphic_sets(subs)\n",
    "elem_name_lists = [[g.element_names for g in iso_sub] for iso_sub in iso_subs]\n",
    "elem_name_lists"
   ]
  },
  {
   "cell_type": "code",
   "execution_count": 28,
   "id": "0f36df05",
   "metadata": {},
   "outputs": [],
   "source": [
    "def about_proper_subgroups2(grp, unique=False, show_elements=True):\n",
    "    if unique:\n",
    "        subs = grp.unique_proper_subgroups()\n",
    "    else:\n",
    "        subs = grp.proper_subgroups()\n",
    "    print(f\"\\nSubgroups of {grp.name}:\")\n",
    "    for sub in subs:\n",
    "        print(f\"\\n  {sub.name}:\")\n",
    "        print(f\"       order: {sub.order}\")\n",
    "        if show_elements:\n",
    "            print(f\"    elements: {sub.element_names}\")\n",
    "        print(f\"    abelian?: {sub.is_abelian()}\")\n",
    "        print(f\"     normal?: {grp.is_normal(sub)}\")\n",
    "    return None"
   ]
  },
  {
   "cell_type": "code",
   "execution_count": 29,
   "id": "b7869f07",
   "metadata": {},
   "outputs": [],
   "source": [
    "def about_proper_subgroups3(grp, unique=False, show_elements=True):\n",
    "    subs = grp.proper_subgroups()\n",
    "    if unique:\n",
    "        iso_subs = alg.divide_groups_into_isomorphic_sets(subs)\n",
    "        elem_name_lists = [g.element_names for g in iso_subs[0]]\n",
    "        elem_name_lists[1:]\n",
    "    print(f\"\\nSubgroups of {grp.name}:\")\n",
    "    for sub in subs:\n",
    "        print(f\"\\n  {sub.name}:\")\n",
    "        print(f\"       order: {sub.order}\")\n",
    "        if show_elements:\n",
    "            print(f\"    elements: {sub.element_names}\")\n",
    "        print(f\"    abelian?: {sub.is_abelian()}\")\n",
    "        print(f\"     normal?: {grp.is_normal(sub)}\")\n",
    "    return None"
   ]
  },
  {
   "cell_type": "code",
   "execution_count": 30,
   "id": "64a01621",
   "metadata": {},
   "outputs": [
    {
     "name": "stdout",
     "output_type": "stream",
     "text": [
      "\n",
      "Subgroups of PS3:\n",
      "\n",
      "  PS3_subgroup_0:\n",
      "       order: 2\n",
      "    elements: ['{}', '{0, 2}']\n",
      "    abelian?: True\n",
      "     normal?: True\n",
      "\n",
      "  PS3_subgroup_4:\n",
      "       order: 4\n",
      "    elements: ['{}', '{0, 1}', '{0, 2}', '{1, 2}']\n",
      "    abelian?: True\n",
      "     normal?: True\n"
     ]
    }
   ],
   "source": [
    "about_proper_subgroups2(ps3, unique=True)"
   ]
  },
  {
   "cell_type": "code",
   "execution_count": null,
   "id": "b7671cdd",
   "metadata": {},
   "outputs": [],
   "source": []
  },
  {
   "cell_type": "code",
   "execution_count": null,
   "id": "e040ddce",
   "metadata": {},
   "outputs": [],
   "source": []
  },
  {
   "cell_type": "code",
   "execution_count": 84,
   "id": "a0b03e88",
   "metadata": {},
   "outputs": [
    {
     "name": "stdout",
     "output_type": "stream",
     "text": [
      "\n",
      "Group: PS3\n",
      "Autogenerated group on the powerset of 3 elements, with symmetric difference operator\n",
      "Abelian? True\n",
      "Elements:\n",
      "   Index   Name   Inverse  Order\n"
     ]
    },
    {
     "ename": "KeyError",
     "evalue": "'e'",
     "output_type": "error",
     "traceback": [
      "\u001b[0;31m---------------------------------------------------------------------------\u001b[0m",
      "\u001b[0;31mKeyError\u001b[0m                                  Traceback (most recent call last)",
      "\u001b[0;32m<ipython-input-84-b51700e789f4>\u001b[0m in \u001b[0;36m<module>\u001b[0;34m\u001b[0m\n\u001b[1;32m      1\u001b[0m \u001b[0mps3\u001b[0m \u001b[0;34m=\u001b[0m \u001b[0malg\u001b[0m\u001b[0;34m.\u001b[0m\u001b[0mgenerate_powerset_group\u001b[0m\u001b[0;34m(\u001b[0m\u001b[0;36m3\u001b[0m\u001b[0;34m)\u001b[0m\u001b[0;34m\u001b[0m\u001b[0;34m\u001b[0m\u001b[0m\n\u001b[1;32m      2\u001b[0m \u001b[0mps3\u001b[0m\u001b[0;34m.\u001b[0m\u001b[0melement_names\u001b[0m \u001b[0;34m=\u001b[0m \u001b[0;34m[\u001b[0m\u001b[0;34m'e'\u001b[0m\u001b[0;34m,\u001b[0m \u001b[0;34m'a'\u001b[0m\u001b[0;34m,\u001b[0m \u001b[0;34m'b'\u001b[0m\u001b[0;34m,\u001b[0m \u001b[0;34m'c'\u001b[0m\u001b[0;34m,\u001b[0m \u001b[0;34m'd'\u001b[0m\u001b[0;34m,\u001b[0m \u001b[0;34m'f'\u001b[0m\u001b[0;34m,\u001b[0m \u001b[0;34m'g'\u001b[0m\u001b[0;34m,\u001b[0m \u001b[0;34m'h'\u001b[0m\u001b[0;34m]\u001b[0m\u001b[0;34m\u001b[0m\u001b[0;34m\u001b[0m\u001b[0m\n\u001b[0;32m----> 3\u001b[0;31m \u001b[0mps3\u001b[0m\u001b[0;34m.\u001b[0m\u001b[0mabout\u001b[0m\u001b[0;34m(\u001b[0m\u001b[0;34m)\u001b[0m\u001b[0;34m\u001b[0m\u001b[0;34m\u001b[0m\u001b[0m\n\u001b[0m",
      "\u001b[0;32m~/Documents/Github/repo/abstract_algebra/src/algebras.py\u001b[0m in \u001b[0;36mabout\u001b[0;34m(self, max_size, use_table_names)\u001b[0m\n\u001b[1;32m    424\u001b[0m         \u001b[0;32mfor\u001b[0m \u001b[0melem\u001b[0m \u001b[0;32min\u001b[0m \u001b[0mself\u001b[0m\u001b[0;34m:\u001b[0m\u001b[0;34m\u001b[0m\u001b[0;34m\u001b[0m\u001b[0m\n\u001b[1;32m    425\u001b[0m             \u001b[0midx_elem\u001b[0m \u001b[0;34m=\u001b[0m \u001b[0mself\u001b[0m\u001b[0;34m.\u001b[0m\u001b[0melement_names\u001b[0m\u001b[0;34m.\u001b[0m\u001b[0mindex\u001b[0m\u001b[0;34m(\u001b[0m\u001b[0melem\u001b[0m\u001b[0;34m)\u001b[0m\u001b[0;34m\u001b[0m\u001b[0;34m\u001b[0m\u001b[0m\n\u001b[0;32m--> 426\u001b[0;31m             \u001b[0minv_elem\u001b[0m \u001b[0;34m=\u001b[0m \u001b[0mself\u001b[0m\u001b[0;34m.\u001b[0m\u001b[0minv\u001b[0m\u001b[0;34m(\u001b[0m\u001b[0melem\u001b[0m\u001b[0;34m)\u001b[0m\u001b[0;34m\u001b[0m\u001b[0;34m\u001b[0m\u001b[0m\n\u001b[0m\u001b[1;32m    427\u001b[0m             \u001b[0mord_elem\u001b[0m \u001b[0;34m=\u001b[0m \u001b[0mself\u001b[0m\u001b[0;34m.\u001b[0m\u001b[0melement_order\u001b[0m\u001b[0;34m(\u001b[0m\u001b[0melem\u001b[0m\u001b[0;34m)\u001b[0m\u001b[0;34m\u001b[0m\u001b[0;34m\u001b[0m\u001b[0m\n\u001b[1;32m    428\u001b[0m             \u001b[0mprint\u001b[0m\u001b[0;34m(\u001b[0m\u001b[0;34mf\"{idx_elem :>{spc}} {elem :>{spc}} {inv_elem :>{spc}} {ord_elem :>{spc}}\"\u001b[0m\u001b[0;34m)\u001b[0m\u001b[0;34m\u001b[0m\u001b[0;34m\u001b[0m\u001b[0m\n",
      "\u001b[0;32m~/Documents/Github/repo/abstract_algebra/src/algebras.py\u001b[0m in \u001b[0;36minv\u001b[0;34m(self, element_name)\u001b[0m\n\u001b[1;32m    290\u001b[0m           \u001b[0mThe\u001b[0m \u001b[0mname\u001b[0m \u001b[0mof\u001b[0m \u001b[0mthe\u001b[0m \u001b[0melement\u001b[0m\u001b[0;31m'\u001b[0m\u001b[0ms\u001b[0m \u001b[0minverse\u001b[0m\u001b[0;34m\u001b[0m\u001b[0;34m\u001b[0m\u001b[0m\n\u001b[1;32m    291\u001b[0m         \"\"\"\n\u001b[0;32m--> 292\u001b[0;31m         \u001b[0;32mreturn\u001b[0m \u001b[0mself\u001b[0m\u001b[0;34m.\u001b[0m\u001b[0m__inverse_lookup_dict\u001b[0m\u001b[0;34m[\u001b[0m\u001b[0melement_name\u001b[0m\u001b[0;34m]\u001b[0m\u001b[0;34m\u001b[0m\u001b[0;34m\u001b[0m\u001b[0m\n\u001b[0m\u001b[1;32m    293\u001b[0m \u001b[0;34m\u001b[0m\u001b[0m\n\u001b[1;32m    294\u001b[0m     \u001b[0;32mdef\u001b[0m \u001b[0mconj\u001b[0m\u001b[0;34m(\u001b[0m\u001b[0mself\u001b[0m\u001b[0;34m,\u001b[0m \u001b[0ma\u001b[0m\u001b[0;34m,\u001b[0m \u001b[0mg\u001b[0m\u001b[0;34m)\u001b[0m\u001b[0;34m:\u001b[0m\u001b[0;34m\u001b[0m\u001b[0;34m\u001b[0m\u001b[0m\n",
      "\u001b[0;31mKeyError\u001b[0m: 'e'"
     ]
    }
   ],
   "source": [
    "ps3 = alg.generate_powerset_group(3)\n",
    "ps3.element_names = ['e', 'a', 'b', 'c', 'd', 'f', 'g', 'h']\n",
    "ps3.about()"
   ]
  },
  {
   "cell_type": "code",
   "execution_count": 56,
   "id": "6e4372be",
   "metadata": {},
   "outputs": [],
   "source": [
    "ps3_subs = ps3.subgroups()"
   ]
  },
  {
   "cell_type": "code",
   "execution_count": 58,
   "id": "86f31719",
   "metadata": {},
   "outputs": [],
   "source": [
    "ps3_unique_subs = ps3.unique_proper_subgroups()"
   ]
  },
  {
   "cell_type": "code",
   "execution_count": 61,
   "id": "4fabb806",
   "metadata": {},
   "outputs": [
    {
     "data": {
      "text/plain": [
       "[True, True]"
      ]
     },
     "execution_count": 61,
     "metadata": {},
     "output_type": "execute_result"
    }
   ],
   "source": [
    "[ps3.is_normal(sub) for sub in ps3_unique_subs]"
   ]
  },
  {
   "cell_type": "code",
   "execution_count": 66,
   "id": "20c3f95d",
   "metadata": {},
   "outputs": [],
   "source": [
    "foo = [['e', 'v'], ['e', 'h'],['e', 'r']]"
   ]
  },
  {
   "cell_type": "code",
   "execution_count": 63,
   "id": "25c1142f",
   "metadata": {},
   "outputs": [
    {
     "data": {
      "text/plain": [
       "[['e', 'v'], ['e', 'h'], ['e', 'r']]"
      ]
     },
     "execution_count": 63,
     "metadata": {},
     "output_type": "execute_result"
    }
   ],
   "source": [
    "foo"
   ]
  },
  {
   "cell_type": "code",
   "execution_count": 64,
   "id": "32243d86",
   "metadata": {},
   "outputs": [],
   "source": [
    "foo.sort()"
   ]
  },
  {
   "cell_type": "code",
   "execution_count": 65,
   "id": "b71428d0",
   "metadata": {},
   "outputs": [
    {
     "data": {
      "text/plain": [
       "[['e', 'h'], ['e', 'r'], ['e', 'v']]"
      ]
     },
     "execution_count": 65,
     "metadata": {},
     "output_type": "execute_result"
    }
   ],
   "source": [
    "foo"
   ]
  },
  {
   "cell_type": "code",
   "execution_count": 68,
   "id": "21e8a249",
   "metadata": {},
   "outputs": [
    {
     "data": {
      "text/plain": [
       "[Group('V4_subgroup_1',\n",
       " 'Subgroup of: Klein-4 group',\n",
       " ['e', 'h'],\n",
       " [[0, 1], [1, 0]]) ,\n",
       " Group('V4_subgroup_2',\n",
       " 'Subgroup of: Klein-4 group',\n",
       " ['e', 'r'],\n",
       " [[0, 1], [1, 0]]) ,\n",
       " Group('V4_subgroup_0',\n",
       " 'Subgroup of: Klein-4 group',\n",
       " ['e', 'v'],\n",
       " [[0, 1], [1, 0]]) ]"
      ]
     },
     "execution_count": 68,
     "metadata": {},
     "output_type": "execute_result"
    }
   ],
   "source": [
    "sorted(v4_subs, key=lambda g: g.element_names)"
   ]
  },
  {
   "cell_type": "code",
   "execution_count": 69,
   "id": "e67062ad",
   "metadata": {},
   "outputs": [
    {
     "data": {
      "text/plain": [
       "[[['{}', '{0, 2}'],\n",
       "  ['{}', '{0, 1}'],\n",
       "  ['{}', '{0, 1, 2}'],\n",
       "  ['{}', '{0}'],\n",
       "  ['{}', '{1}'],\n",
       "  ['{}', '{1, 2}'],\n",
       "  ['{}', '{2}']],\n",
       " [['{}', '{0, 1}', '{0, 2}', '{1, 2}'],\n",
       "  ['{}', '{1}', '{0, 2}', '{0, 1, 2}'],\n",
       "  ['{}', '{0}', '{1}', '{0, 1}'],\n",
       "  ['{}', '{1}', '{2}', '{1, 2}'],\n",
       "  ['{}', '{0}', '{1, 2}', '{0, 1, 2}'],\n",
       "  ['{}', '{2}', '{0, 1}', '{0, 1, 2}'],\n",
       "  ['{}', '{0}', '{2}', '{0, 2}']]]"
      ]
     },
     "execution_count": 69,
     "metadata": {},
     "output_type": "execute_result"
    }
   ],
   "source": [
    "elem_name_lists"
   ]
  },
  {
   "cell_type": "code",
   "execution_count": 75,
   "id": "37a5d05b",
   "metadata": {},
   "outputs": [
    {
     "data": {
      "text/plain": [
       "[['{}', '{0, 1, 2}'],\n",
       " ['{}', '{0, 1}'],\n",
       " ['{}', '{0, 2}'],\n",
       " ['{}', '{0}'],\n",
       " ['{}', '{1, 2}'],\n",
       " ['{}', '{1}'],\n",
       " ['{}', '{2}']]"
      ]
     },
     "execution_count": 75,
     "metadata": {},
     "output_type": "execute_result"
    }
   ],
   "source": [
    "[f.element_names for f in sorted(iso_subs[0], key=lambda g: g.element_names)]"
   ]
  },
  {
   "cell_type": "code",
   "execution_count": 77,
   "id": "06cd1315",
   "metadata": {},
   "outputs": [],
   "source": []
  },
  {
   "cell_type": "code",
   "execution_count": 81,
   "id": "56236fd0",
   "metadata": {},
   "outputs": [
    {
     "data": {
      "text/plain": [
       "Group('PS3',\n",
       "'Autogenerated group on the powerset of 3 elements, with symmetric difference operator',\n",
       "['e', 'a', 'b', 'c', 'd', 'f', 'g', 'h'],\n",
       "[[0, 1, 2, 3, 4, 5, 6, 7], [1, 0, 4, 5, 2, 3, 7, 6], [2, 4, 0, 6, 1, 7, 3, 5], [3, 5, 6, 0, 7, 1, 2, 4], [4, 2, 1, 7, 0, 6, 5, 3], [5, 3, 7, 1, 6, 0, 4, 2], [6, 7, 3, 2, 5, 4, 0, 1], [7, 6, 5, 4, 3, 2, 1, 0]]) "
      ]
     },
     "execution_count": 81,
     "metadata": {},
     "output_type": "execute_result"
    }
   ],
   "source": [
    "ps3"
   ]
  },
  {
   "cell_type": "code",
   "execution_count": 82,
   "id": "6dbb56f6",
   "metadata": {},
   "outputs": [
    {
     "data": {
      "text/plain": [
       "[['e', 'a', 'b', 'c', 'd', 'f', 'g', 'h'],\n",
       " ['a', 'e', 'd', 'f', 'b', 'c', 'h', 'g'],\n",
       " ['b', 'd', 'e', 'g', 'a', 'h', 'c', 'f'],\n",
       " ['c', 'f', 'g', 'e', 'h', 'a', 'b', 'd'],\n",
       " ['d', 'b', 'a', 'h', 'e', 'g', 'f', 'c'],\n",
       " ['f', 'c', 'h', 'a', 'g', 'e', 'd', 'b'],\n",
       " ['g', 'h', 'c', 'b', 'f', 'd', 'e', 'a'],\n",
       " ['h', 'g', 'f', 'd', 'c', 'b', 'a', 'e']]"
      ]
     },
     "execution_count": 82,
     "metadata": {},
     "output_type": "execute_result"
    }
   ],
   "source": [
    "ps3.mult_table_with_names()"
   ]
  },
  {
   "cell_type": "code",
   "execution_count": null,
   "id": "9a2aa91c",
   "metadata": {},
   "outputs": [],
   "source": []
  }
 ],
 "metadata": {
  "kernelspec": {
   "display_name": "Python 3",
   "language": "python",
   "name": "python3"
  },
  "language_info": {
   "codemirror_mode": {
    "name": "ipython",
    "version": 3
   },
   "file_extension": ".py",
   "mimetype": "text/x-python",
   "name": "python",
   "nbconvert_exporter": "python",
   "pygments_lexer": "ipython3",
   "version": "3.7.7"
  }
 },
 "nbformat": 4,
 "nbformat_minor": 5
}
