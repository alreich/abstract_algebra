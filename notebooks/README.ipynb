{
 "cells": [
  {
   "cell_type": "markdown",
   "id": "ac971643",
   "metadata": {},
   "source": [
    "# Abstract Algebra"
   ]
  },
  {
   "cell_type": "markdown",
   "id": "b565d19d",
   "metadata": {},
   "source": [
    "A pedagogical implementation of **Finite Algebras** in Python: Groups, Rings, Fields, Vector Spaces, Modules, Monoids, Semigroups, and Magmas.\n",
    "\n",
    "Currently the representation of an algebra here depends on being able to explicitely represent its Cayley table. Consequently, only relatively small algebras can be represented - few hundred elements at most."
   ]
  },
  {
   "cell_type": "markdown",
   "id": "d507cc12",
   "metadata": {},
   "source": [
    "## Summary"
   ]
  },
  {
   "cell_type": "markdown",
   "id": "c77fb9bf",
   "metadata": {},
   "source": [
    "The ``finite_algebras`` module contains class definitions, methods, and functions for working with algebras that only have a **finite number of elements**.\n",
    "\n",
    "* The primary constructor of algebras is the function, ``make_finite_algebra``. It examines the properties of the input table and returns the appropriate instance of an algebra.\n",
    "* Algebras can be input from, or output to, JSON files/strings or Python dictionaries.\n",
    "* Each algebra is defined by name (``str``), a description (``str``), a list of *element names* (``str``) and a square, 2-dimensional table that defines a binary operation (``list`` of ``lists`` of ``int``).  Rings & Fields have two such tables.\n",
    "* Each algebra has methods for examining its properties (e.g., ``is_associative``, ``is_commutative``, ``center``, ``commutators``, etc.)\n",
    "* Algebraic elements can be \"added\" (or \"multiplied\") via their binary operations (e.g., ``v4.op('h','v') ==> 'r'``).\n",
    "* Inverses & identities can be obtained, if the algebra supports them (e.g., ``z3.inv('a') = 'a^2'``, ``z3.identity ==> 'e'``).\n",
    "* Direct products of two or more algebras can be computed using Python's multiplication operator (e.g., ``z4 * v4``).\n",
    "* If two algebras are isomorphic, the mapping between their elements can be determined (e.g., ``v4.isomorphic(z2 * z2) ==> {'h': 'e:a', 'v': 'a:e', 'r': 'a:a', 'e': 'e:e'}``)\n",
    "* Autogeneration of some types of algebras, of arbitrary order, is supported (e.g., symmetric, cyclic).\n",
    "* Subalgebras (e.g., subgroups) can be determined, along with related functionality (e.g, ``is_normal()``).\n",
    "* Groups, Rings, and Fields can be used to construct Modules and Vector Spaces, including n-dimensional Modules and Vector Spaces using the direct products of Rings and Fields, resp.\n",
    "* The Regular Representation of a Monoid, Group, or the additive abelian Group of a Ring or Field, can be computed in either dense or sparse matrix form."
   ]
  },
  {
   "cell_type": "markdown",
   "id": "b24ac494",
   "metadata": {},
   "source": [
    "## Installation\n",
    "\n",
    "This module runs under Python 3.7+ and requires **NumPy**.\n",
    "\n",
    "Clone the github repository to install:"
   ]
  },
  {
   "cell_type": "raw",
   "id": "55a7025f",
   "metadata": {},
   "source": [
    "$ git clone https://github.com/alreich/abstract_algebra.git"
   ]
  },
  {
   "cell_type": "markdown",
   "id": "8f2c889d",
   "metadata": {},
   "source": [
    "## Documentation"
   ]
  },
  {
   "cell_type": "markdown",
   "id": "d34bbd8b",
   "metadata": {},
   "source": [
    "See full documentation at [ReadTheDocs](https://abstract-algebra.readthedocs.io/en/latest/index.html)."
   ]
  },
  {
   "cell_type": "markdown",
   "id": "27fe981f",
   "metadata": {},
   "source": [
    "## Quick Look"
   ]
  },
  {
   "cell_type": "markdown",
   "id": "6683f4e3",
   "metadata": {},
   "source": [
    "**Create an algebra:**"
   ]
  },
  {
   "cell_type": "code",
   "execution_count": 1,
   "id": "9db1550f",
   "metadata": {},
   "outputs": [
    {
     "data": {
      "text/plain": [
       "Group(\n",
       "'V4',\n",
       "'Klein-4 group',\n",
       "['e', 'h', 'v', 'r'],\n",
       "[[0, 1, 2, 3], [1, 0, 3, 2], [2, 3, 0, 1], [3, 2, 1, 0]]\n",
       ")"
      ]
     },
     "execution_count": 1,
     "metadata": {},
     "output_type": "execute_result"
    }
   ],
   "source": [
    ">>> from finite_algebras import make_finite_algebra\n",
    "\n",
    ">>> v4 = make_finite_algebra('V4',\n",
    "                             'Klein-4 group',\n",
    "                             ['e', 'h', 'v', 'r'],\n",
    "                             [[0, 1, 2, 3],\n",
    "                              [1, 0, 3, 2],\n",
    "                              [2, 3, 0, 1],\n",
    "                              [3, 2, 1, 0]])\n",
    ">>> v4"
   ]
  },
  {
   "cell_type": "markdown",
   "id": "e001890e",
   "metadata": {},
   "source": [
    "**Look at the algebra's properties:**"
   ]
  },
  {
   "cell_type": "code",
   "execution_count": 2,
   "id": "60994f8c",
   "metadata": {},
   "outputs": [
    {
     "name": "stdout",
     "output_type": "stream",
     "text": [
      "\n",
      "** Group **\n",
      "Name: V4\n",
      "Instance ID: 140598447984400\n",
      "Description: Klein-4 group\n",
      "Order: 4\n",
      "Identity: e\n",
      "Associative? Yes\n",
      "Commutative? Yes\n",
      "Cyclic?: No\n",
      "Elements:\n",
      "   Index   Name   Inverse  Order\n",
      "      0       e       e       1\n",
      "      1       h       h       2\n",
      "      2       v       v       2\n",
      "      3       r       r       2\n",
      "Cayley Table (showing names):\n",
      "[['e', 'h', 'v', 'r'],\n",
      " ['h', 'e', 'r', 'v'],\n",
      " ['v', 'r', 'e', 'h'],\n",
      " ['r', 'v', 'h', 'e']]\n"
     ]
    }
   ],
   "source": [
    ">>> v4.about(use_table_names=True)"
   ]
  },
  {
   "cell_type": "markdown",
   "id": "1d4adb77",
   "metadata": {},
   "source": [
    "**Autogenerate a small cyclic group:**"
   ]
  },
  {
   "cell_type": "code",
   "execution_count": 3,
   "id": "21a070c5",
   "metadata": {},
   "outputs": [
    {
     "name": "stdout",
     "output_type": "stream",
     "text": [
      "\n",
      "** Group **\n",
      "Name: Z2\n",
      "Instance ID: 140599793107344\n",
      "Description: Autogenerated cyclic Group of order 2\n",
      "Order: 2\n",
      "Identity: e\n",
      "Associative? Yes\n",
      "Commutative? Yes\n",
      "Cyclic?: Yes\n",
      "  Generators: ['a']\n",
      "Elements:\n",
      "   Index   Name   Inverse  Order\n",
      "      0       e       e       1\n",
      "      1       a       a       2\n",
      "Cayley Table (showing indices):\n",
      "[[0, 1], [1, 0]]\n"
     ]
    }
   ],
   "source": [
    ">>> from finite_algebras import generate_cyclic_group\n",
    "\n",
    ">>> z2 = generate_cyclic_group(2)\n",
    "\n",
    ">>> z2.about()"
   ]
  },
  {
   "cell_type": "markdown",
   "id": "bebc2419",
   "metadata": {},
   "source": [
    "**Compute the Direct Product of the cyclic group with itself:**"
   ]
  },
  {
   "cell_type": "code",
   "execution_count": 4,
   "id": "ea48a00e",
   "metadata": {},
   "outputs": [
    {
     "name": "stdout",
     "output_type": "stream",
     "text": [
      "\n",
      "** Group **\n",
      "Name: Z2_x_Z2\n",
      "Instance ID: 140599793109968\n",
      "Description: Direct product of Z2 & Z2\n",
      "Order: 4\n",
      "Identity: e:e\n",
      "Associative? Yes\n",
      "Commutative? Yes\n",
      "Cyclic?: No\n",
      "Elements:\n",
      "   Index   Name   Inverse  Order\n",
      "      0     e:e     e:e       1\n",
      "      1     e:a     e:a       2\n",
      "      2     a:e     a:e       2\n",
      "      3     a:a     a:a       2\n",
      "Cayley Table (showing names):\n",
      "[['e:e', 'e:a', 'a:e', 'a:a'],\n",
      " ['e:a', 'e:e', 'a:a', 'a:e'],\n",
      " ['a:e', 'a:a', 'e:e', 'e:a'],\n",
      " ['a:a', 'a:e', 'e:a', 'e:e']]\n"
     ]
    }
   ],
   "source": [
    ">>> z2_sqr = z2 * z2\n",
    "\n",
    ">>> z2_sqr.about(use_table_names=True)"
   ]
  },
  {
   "cell_type": "markdown",
   "id": "d4a7176a",
   "metadata": {},
   "source": [
    "**Are z2_sqr & v4 isomorphic?**\n",
    "\n",
    "**Yes, and here's the mapping between their elements:**"
   ]
  },
  {
   "cell_type": "code",
   "execution_count": 5,
   "id": "232a3cc1",
   "metadata": {},
   "outputs": [
    {
     "data": {
      "text/plain": [
       "{'e': 'e:e', 'h': 'e:a', 'v': 'a:e', 'r': 'a:a'}"
      ]
     },
     "execution_count": 5,
     "metadata": {},
     "output_type": "execute_result"
    }
   ],
   "source": [
    ">>> v4.isomorphic(z2_sqr)"
   ]
  }
 ],
 "metadata": {
  "kernelspec": {
   "display_name": "Python 3 (ipykernel)",
   "language": "python",
   "name": "python3"
  },
  "language_info": {
   "codemirror_mode": {
    "name": "ipython",
    "version": 3
   },
   "file_extension": ".py",
   "mimetype": "text/x-python",
   "name": "python",
   "nbconvert_exporter": "python",
   "pygments_lexer": "ipython3",
   "version": "3.11.5"
  }
 },
 "nbformat": 4,
 "nbformat_minor": 5
}
