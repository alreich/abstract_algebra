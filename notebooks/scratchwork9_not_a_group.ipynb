{
 "cells": [
  {
   "cell_type": "markdown",
   "id": "83edf713",
   "metadata": {},
   "source": [
    "# Not-A-Group"
   ]
  },
  {
   "cell_type": "markdown",
   "id": "400be229",
   "metadata": {},
   "source": [
    "Posted to Twitter on April 28, 2022 by Prof. Michael Kinyon."
   ]
  },
  {
   "cell_type": "code",
   "execution_count": 1,
   "id": "08f31bf3",
   "metadata": {},
   "outputs": [
    {
     "data": {
      "text/plain": [
       "array([[0, 1, 2, 3, 4, 5, 6],\n",
       "       [1, 2, 0, 4, 3, 6, 5],\n",
       "       [2, 0, 1, 5, 6, 3, 4],\n",
       "       [3, 4, 5, 6, 1, 2, 0],\n",
       "       [4, 3, 6, 1, 5, 0, 2],\n",
       "       [5, 6, 3, 2, 0, 4, 1],\n",
       "       [6, 5, 4, 0, 2, 1, 3]])"
      ]
     },
     "execution_count": 1,
     "metadata": {},
     "output_type": "execute_result"
    }
   ],
   "source": [
    "import numpy as np\n",
    "\n",
    "raw_table = [[1, 2, 3, 4, 5, 6, 7],\n",
    "             [2, 3, 1, 5, 4, 7, 6],\n",
    "             [3, 1, 2, 6, 7, 4, 5],\n",
    "             [4, 5, 6, 7, 2, 3, 1],\n",
    "             [5, 4, 7, 2, 6, 1, 3],\n",
    "             [6, 7, 4, 3, 1, 5, 2],\n",
    "             [7, 6, 5, 1, 3, 2, 4]]\n",
    "\n",
    "zero_base_table = np.array(raw_table) - 1\n",
    "zero_base_table"
   ]
  },
  {
   "cell_type": "markdown",
   "id": "1827adce",
   "metadata": {},
   "source": [
    "For documentation on the items below see https://abstract-algebra.readthedocs.io by Alfred J. Reich"
   ]
  },
  {
   "cell_type": "code",
   "execution_count": 2,
   "id": "465c5b35",
   "metadata": {},
   "outputs": [
    {
     "data": {
      "text/plain": [
       "Magma(\n",
       "'Not_a_Group',\n",
       "'Posted on Twitter by Michael Kinyon',\n",
       "['1', '2', '3', '4', '5', '6', '7'],\n",
       "[[0, 1, 2, 3, 4, 5, 6], [1, 2, 0, 4, 3, 6, 5], [2, 0, 1, 5, 6, 3, 4], [3, 4, 5, 6, 1, 2, 0], [4, 3, 6, 1, 5, 0, 2], [5, 6, 3, 2, 0, 4, 1], [6, 5, 4, 0, 2, 1, 3]]\n",
       ")"
      ]
     },
     "execution_count": 2,
     "metadata": {},
     "output_type": "execute_result"
    }
   ],
   "source": [
    "from finite_algebras import make_finite_algebra\n",
    "\n",
    "nag = make_finite_algebra('Not_a_Group',\n",
    "                          'Posted on Twitter by Michael Kinyon',\n",
    "                          ['1', '2', '3', '4', '5', '6', '7'],\n",
    "                          zero_base_table\n",
    "                         )\n",
    "\n",
    "nag"
   ]
  },
  {
   "cell_type": "code",
   "execution_count": 3,
   "id": "ff57535a",
   "metadata": {},
   "outputs": [
    {
     "name": "stdout",
     "output_type": "stream",
     "text": [
      "\n",
      "** Magma **\n",
      "Name: Not_a_Group\n",
      "Instance ID: 140430404908496\n",
      "Description: Posted on Twitter by Michael Kinyon\n",
      "Order: 7\n",
      "Identity: 1\n",
      "Associative? No\n",
      "Commutative? Yes\n",
      "Cyclic?: No\n",
      "Elements: ['1', '2', '3', '4', '5', '6', '7']\n",
      "Has Inverses? Yes\n",
      "Cayley Table (showing names):\n",
      "[['1', '2', '3', '4', '5', '6', '7'],\n",
      " ['2', '3', '1', '5', '4', '7', '6'],\n",
      " ['3', '1', '2', '6', '7', '4', '5'],\n",
      " ['4', '5', '6', '7', '2', '3', '1'],\n",
      " ['5', '4', '7', '2', '6', '1', '3'],\n",
      " ['6', '7', '4', '3', '1', '5', '2'],\n",
      " ['7', '6', '5', '1', '3', '2', '4']]\n"
     ]
    }
   ],
   "source": [
    "nag.about(use_table_names=True)"
   ]
  },
  {
   "cell_type": "code",
   "execution_count": 4,
   "id": "06459999",
   "metadata": {},
   "outputs": [
    {
     "data": {
      "text/plain": [
       "[Group(\n",
       " 'Not_a_Group_subalgebra_0',\n",
       " 'Subalgebra of: Posted on Twitter by Michael Kinyon',\n",
       " ['1', '5', '6'],\n",
       " [[0, 1, 2], [1, 2, 0], [2, 0, 1]]\n",
       " ),\n",
       " Group(\n",
       " 'Not_a_Group_subalgebra_1',\n",
       " 'Subalgebra of: Posted on Twitter by Michael Kinyon',\n",
       " ['1', '2', '3'],\n",
       " [[0, 1, 2], [1, 2, 0], [2, 0, 1]]\n",
       " ),\n",
       " Group(\n",
       " 'Not_a_Group_subalgebra_2',\n",
       " 'Subalgebra of: Posted on Twitter by Michael Kinyon',\n",
       " ['1', '4', '7'],\n",
       " [[0, 1, 2], [1, 2, 0], [2, 0, 1]]\n",
       " )]"
      ]
     },
     "execution_count": 4,
     "metadata": {},
     "output_type": "execute_result"
    }
   ],
   "source": [
    "subs = nag.proper_subalgebras(divisors_only=False, include_inverses=False)\n",
    "subs"
   ]
  },
  {
   "cell_type": "code",
   "execution_count": 6,
   "id": "db811f15",
   "metadata": {
    "scrolled": true
   },
   "outputs": [
    {
     "name": "stdout",
     "output_type": "stream",
     "text": [
      "\n",
      "** Group **\n",
      "Name: Not_a_Group_subalgebra_0\n",
      "Instance ID: 140431227474960\n",
      "Description: Subalgebra of: Posted on Twitter by Michael Kinyon\n",
      "Order: 3\n",
      "Identity: 1\n",
      "Commutative? Yes\n",
      "Cyclic?: Yes\n",
      "  Generators: ['5', '6']\n",
      "Elements:\n",
      "   Index   Name   Inverse  Order\n",
      "      0       1       1       1\n",
      "      1       5       6       3\n",
      "      2       6       5       3\n",
      "Cayley Table (showing names):\n",
      "[['1', '5', '6'], ['5', '6', '1'], ['6', '1', '5']]\n",
      "\n",
      "** Group **\n",
      "Name: Not_a_Group_subalgebra_1\n",
      "Instance ID: 140431227475024\n",
      "Description: Subalgebra of: Posted on Twitter by Michael Kinyon\n",
      "Order: 3\n",
      "Identity: 1\n",
      "Commutative? Yes\n",
      "Cyclic?: Yes\n",
      "  Generators: ['2', '3']\n",
      "Elements:\n",
      "   Index   Name   Inverse  Order\n",
      "      0       1       1       1\n",
      "      1       2       3       3\n",
      "      2       3       2       3\n",
      "Cayley Table (showing names):\n",
      "[['1', '2', '3'], ['2', '3', '1'], ['3', '1', '2']]\n",
      "\n",
      "** Group **\n",
      "Name: Not_a_Group_subalgebra_2\n",
      "Instance ID: 140431227476624\n",
      "Description: Subalgebra of: Posted on Twitter by Michael Kinyon\n",
      "Order: 3\n",
      "Identity: 1\n",
      "Commutative? Yes\n",
      "Cyclic?: Yes\n",
      "  Generators: ['4', '7']\n",
      "Elements:\n",
      "   Index   Name   Inverse  Order\n",
      "      0       1       1       1\n",
      "      1       4       7       3\n",
      "      2       7       4       3\n",
      "Cayley Table (showing names):\n",
      "[['1', '4', '7'], ['4', '7', '1'], ['7', '1', '4']]\n"
     ]
    }
   ],
   "source": [
    "for sub in subs:\n",
    "    sub.about(use_table_names=True)"
   ]
  }
 ],
 "metadata": {
  "kernelspec": {
   "display_name": "Python 3",
   "language": "python",
   "name": "python3"
  },
  "language_info": {
   "codemirror_mode": {
    "name": "ipython",
    "version": 3
   },
   "file_extension": ".py",
   "mimetype": "text/x-python",
   "name": "python",
   "nbconvert_exporter": "python",
   "pygments_lexer": "ipython3",
   "version": "3.7.7"
  }
 },
 "nbformat": 4,
 "nbformat_minor": 5
}
