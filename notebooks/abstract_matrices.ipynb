{
 "cells": [
  {
   "cell_type": "markdown",
   "id": "6ef26608",
   "metadata": {},
   "source": [
    "# Abstract Matrices"
   ]
  },
  {
   "cell_type": "code",
   "execution_count": 2,
   "id": "4d3ccce8",
   "metadata": {},
   "outputs": [],
   "source": [
    "import finite_algebras as alg\n",
    "import numpy as np\n",
    "from abstract_matrix import AbstractMatrix\n",
    "\n",
    "# import os\n",
    "# aa_path = os.path.join(os.getenv(\"PYPROJ\"), \"abstract_algebra\")\n",
    "# alg_dir = os.path.join(aa_path, \"Algebras\")\n",
    "\n",
    "# ex = alg.Examples(alg_dir)"
   ]
  },
  {
   "cell_type": "markdown",
   "id": "c2e5fa3f",
   "metadata": {},
   "source": [
    "## Abstract Matrix over a Finite Field"
   ]
  },
  {
   "cell_type": "markdown",
   "id": "11541eb5",
   "metadata": {},
   "source": [
    "First, create a finite field, in this case, the [field with 4 elements from Wikipedia](https://en.wikipedia.org/wiki/Finite_field#Field_with_four_elements)."
   ]
  },
  {
   "cell_type": "code",
   "execution_count": 3,
   "id": "bb3b848d",
   "metadata": {},
   "outputs": [
    {
     "name": "stdout",
     "output_type": "stream",
     "text": [
      "\n",
      "** Field **\n",
      "Name: F4\n",
      "Instance ID: 4419322320\n",
      "Description: Field with 4 elements (from Wikipedia)\n",
      "Order: 4\n",
      "Identity: 0\n",
      "Commutative? Yes\n",
      "Cyclic?: Yes\n",
      "  Generators: ['1+a', 'a']\n",
      "Elements:\n",
      "   Index   Name   Inverse  Order\n",
      "      0       0       0       1\n",
      "      1       1       1       2\n",
      "      2       a       a       2\n",
      "      3     1+a     1+a       2\n",
      "Cayley Table (showing names):\n",
      "[['0', '1', 'a', '1+a'],\n",
      " ['1', '0', '1+a', 'a'],\n",
      " ['a', '1+a', '0', '1'],\n",
      " ['1+a', 'a', '1', '0']]\n",
      "Mult. Identity: 1\n",
      "Mult. Commutative? Yes\n",
      "Zero Divisors: None\n",
      "Multiplicative Cayley Table (showing names):\n",
      "[['0', '0', '0', '0'],\n",
      " ['0', '1', 'a', '1+a'],\n",
      " ['0', 'a', '1+a', '1'],\n",
      " ['0', '1+a', '1', 'a']]\n"
     ]
    }
   ],
   "source": [
    "f4 = alg.make_finite_algebra('F4',\n",
    "                             'Field with 4 elements (from Wikipedia)',\n",
    "                             ['0', '1', 'a', '1+a'],\n",
    "                             [[0, 1, 2, 3], [1, 0, 3, 2], [2, 3, 0, 1], [3, 2, 1, 0]],\n",
    "                             [[0, 0, 0, 0], [0, 1, 2, 3], [0, 2, 3, 1], [0, 3, 1, 2]]\n",
    "                            )\n",
    "\n",
    "f4.about(use_table_names=True)"
   ]
  },
  {
   "cell_type": "markdown",
   "id": "8cc15091",
   "metadata": {},
   "source": [
    "The class method, <i>random</i>, will create an Abstract Matrix, of a specified <i>shape</i>, with elements that are randomly chosen from a specified ring or field."
   ]
  },
  {
   "cell_type": "code",
   "execution_count": 33,
   "id": "3d8e94b6",
   "metadata": {},
   "outputs": [
    {
     "data": {
      "text/plain": [
       "F4 Matrix:\n",
       "[['0' '1+a' '1']\n",
       " ['0' '1+a' '1+a']\n",
       " ['1+a' '1+a' '1']]"
      ]
     },
     "execution_count": 33,
     "metadata": {},
     "output_type": "execute_result"
    }
   ],
   "source": [
    "np.random.seed(0)  # Fixed seed ONLY used to make the random call, below, repeatable.\n",
    "\n",
    "shape = (3, 3)\n",
    "m1 = AbstractMatrix.random(shape, f4)\n",
    "m1"
   ]
  },
  {
   "cell_type": "code",
   "execution_count": 34,
   "id": "9f633979",
   "metadata": {},
   "outputs": [
    {
     "data": {
      "text/plain": [
       "'1+a'"
      ]
     },
     "execution_count": 34,
     "metadata": {},
     "output_type": "execute_result"
    }
   ],
   "source": [
    "m1.determinant()"
   ]
  },
  {
   "cell_type": "code",
   "execution_count": 36,
   "id": "6e565040",
   "metadata": {},
   "outputs": [
    {
     "data": {
      "text/plain": [
       "F4 Matrix:\n",
       "[['1+a' '0' '1+a']\n",
       " ['1' 'a' '0']\n",
       " ['1' '1' '0']]"
      ]
     },
     "execution_count": 36,
     "metadata": {},
     "output_type": "execute_result"
    }
   ],
   "source": [
    "m1.inverse()"
   ]
  },
  {
   "cell_type": "code",
   "execution_count": 35,
   "id": "15c2f2f0",
   "metadata": {},
   "outputs": [
    {
     "data": {
      "text/plain": [
       "F4 Matrix:\n",
       "[['a' '0' '0']\n",
       " ['0' 'a' '0']\n",
       " ['0' '0' 'a']]"
      ]
     },
     "execution_count": 35,
     "metadata": {},
     "output_type": "execute_result"
    }
   ],
   "source": [
    "m1 * m1.inverse()"
   ]
  },
  {
   "cell_type": "code",
   "execution_count": 31,
   "id": "08cc8673",
   "metadata": {},
   "outputs": [
    {
     "data": {
      "text/plain": [
       "F4 Matrix:\n",
       "[['a' '0' '0']\n",
       " ['0' 'a' '0']\n",
       " ['0' '0' 'a']]"
      ]
     },
     "execution_count": 31,
     "metadata": {},
     "output_type": "execute_result"
    }
   ],
   "source": [
    "m1.inverse() * m1"
   ]
  },
  {
   "cell_type": "code",
   "execution_count": null,
   "id": "f5d056a8",
   "metadata": {},
   "outputs": [],
   "source": []
  },
  {
   "cell_type": "code",
   "execution_count": 40,
   "id": "7d6d7912",
   "metadata": {},
   "outputs": [
    {
     "name": "stdout",
     "output_type": "stream",
     "text": [
      "[['a' '0' '0']\n",
      " ['0' 'a' '0']\n",
      " ['0' '0' 'a']]\n",
      "\n",
      "[['a' '0' '0']\n",
      " ['0' 'a' '0']\n",
      " ['0' '0' 'a']]\n",
      "\n",
      "[['1+a' '0' '0']\n",
      " ['0' '1+a' '0']\n",
      " ['0' '0' '1+a']]\n",
      "\n",
      "[['1+a' '0' '0']\n",
      " ['0' '1+a' '0']\n",
      " ['0' '0' '1+a']]\n",
      "\n",
      "[['1' '0' '0']\n",
      " ['0' '1' '0']\n",
      " ['0' '0' '1']]\n",
      "\n",
      "[['1' '0' '0']\n",
      " ['0' '1' '0']\n",
      " ['0' '0' '1']]\n",
      "\n",
      "[['0' '0' '0']\n",
      " ['0' '0' '0']\n",
      " ['0' '0' '0']]\n",
      "\n",
      "[['1+a' '0' '0']\n",
      " ['0' '1+a' '0']\n",
      " ['0' '0' '1+a']]\n",
      "\n",
      "[['0' '0' '0']\n",
      " ['0' '0' '0']\n",
      " ['0' '0' '0']]\n",
      "\n",
      "[['a' '0' '0']\n",
      " ['0' 'a' '0']\n",
      " ['0' '0' 'a']]\n",
      "\n"
     ]
    }
   ],
   "source": [
    "for i in range(10):\n",
    "    m = AbstractMatrix.random((3, 3), f4)\n",
    "    print(m * m.inverse())\n",
    "    print()"
   ]
  },
  {
   "cell_type": "code",
   "execution_count": null,
   "id": "1fdc6b20",
   "metadata": {},
   "outputs": [],
   "source": []
  },
  {
   "cell_type": "code",
   "execution_count": null,
   "id": "561a58b6",
   "metadata": {},
   "outputs": [],
   "source": []
  },
  {
   "cell_type": "code",
   "execution_count": 27,
   "id": "7e647ea9",
   "metadata": {},
   "outputs": [
    {
     "data": {
      "text/plain": [
       "F4 Matrix:\n",
       "[['1' '1+a' '0']\n",
       " ['0' '1+a' '1']\n",
       " ['1+a' '1' '1+a']]"
      ]
     },
     "execution_count": 27,
     "metadata": {},
     "output_type": "execute_result"
    }
   ],
   "source": [
    "np.random.seed(1)  # Fixed seed ONLY used to make the random call, below, repeatable.\n",
    "\n",
    "shape = (3, 3)\n",
    "m2 = AbstractMatrix.random(shape, f4)\n",
    "m2"
   ]
  },
  {
   "cell_type": "code",
   "execution_count": 28,
   "id": "c3329cea",
   "metadata": {},
   "outputs": [
    {
     "data": {
      "text/plain": [
       "'1'"
      ]
     },
     "execution_count": 28,
     "metadata": {},
     "output_type": "execute_result"
    }
   ],
   "source": [
    "m2.determinant()"
   ]
  },
  {
   "cell_type": "code",
   "execution_count": 30,
   "id": "dcff52fe",
   "metadata": {},
   "outputs": [
    {
     "data": {
      "text/plain": [
       "F4 Matrix:\n",
       "[['1+a' 'a' '1+a']\n",
       " ['1+a' '1+a' '1']\n",
       " ['a' '1+a' '1+a']]"
      ]
     },
     "execution_count": 30,
     "metadata": {},
     "output_type": "execute_result"
    }
   ],
   "source": [
    "m2.inverse()"
   ]
  },
  {
   "cell_type": "code",
   "execution_count": 29,
   "id": "613195a2",
   "metadata": {},
   "outputs": [
    {
     "data": {
      "text/plain": [
       "F4 Matrix:\n",
       "[['a' '0' '0']\n",
       " ['0' 'a' '0']\n",
       " ['0' '0' 'a']]"
      ]
     },
     "execution_count": 29,
     "metadata": {},
     "output_type": "execute_result"
    }
   ],
   "source": [
    "m1 * m1.inverse()"
   ]
  },
  {
   "cell_type": "code",
   "execution_count": 32,
   "id": "8d28f604",
   "metadata": {},
   "outputs": [
    {
     "data": {
      "text/plain": [
       "F4 Matrix:\n",
       "[['1' '0' '0']\n",
       " ['0' '1' '0']\n",
       " ['0' '0' '1']]"
      ]
     },
     "execution_count": 32,
     "metadata": {},
     "output_type": "execute_result"
    }
   ],
   "source": [
    "m2.inverse() * m2"
   ]
  },
  {
   "cell_type": "code",
   "execution_count": null,
   "id": "ad8d0b15",
   "metadata": {},
   "outputs": [],
   "source": []
  },
  {
   "cell_type": "code",
   "execution_count": null,
   "id": "1bac92be",
   "metadata": {},
   "outputs": [],
   "source": []
  },
  {
   "cell_type": "raw",
   "id": "74e1f2f9",
   "metadata": {},
   "source": [
    "arr1 = np.array([['a', '0', '1'],\n",
    "                 ['0', 'a', '1+a'],\n",
    "                 ['1+a', '1+a', '1']], dtype='<U32')\n",
    "\n",
    "m1 = AbstractMatrix(arr1, f4)\n",
    "m1"
   ]
  },
  {
   "cell_type": "code",
   "execution_count": null,
   "id": "1a9cf81a",
   "metadata": {},
   "outputs": [],
   "source": []
  },
  {
   "cell_type": "code",
   "execution_count": null,
   "id": "8af57dea",
   "metadata": {},
   "outputs": [],
   "source": []
  },
  {
   "cell_type": "code",
   "execution_count": null,
   "id": "06369167",
   "metadata": {},
   "outputs": [],
   "source": []
  },
  {
   "cell_type": "code",
   "execution_count": 2,
   "id": "d549b6ab",
   "metadata": {},
   "outputs": [
    {
     "name": "stdout",
     "output_type": "stream",
     "text": [
      "\n",
      "** Ring **\n",
      "Name: PSRing3\n",
      "Instance ID: 4611149712\n",
      "Description: Autogenerated Ring on powerset of {0, 1, 2} w/ symm. diff. (add) & intersection (mult)\n",
      "Order: 8\n",
      "Identity: {}\n",
      "Commutative? Yes\n",
      "Cyclic?: No\n",
      "Elements:\n",
      "   Index   Name   Inverse  Order\n",
      "      0      {}      {}       1\n",
      "      1     {0}     {0}       2\n",
      "      2     {1}     {1}       2\n",
      "      3     {2}     {2}       2\n",
      "      4  {0, 1}  {0, 1}       2\n",
      "      5  {0, 2}  {0, 2}       2\n",
      "      6  {1, 2}  {1, 2}       2\n",
      "      7 {0, 1, 2} {0, 1, 2}       2\n",
      "Cayley Table (showing indices):\n",
      "[[0, 1, 2, 3, 4, 5, 6, 7],\n",
      " [1, 0, 4, 5, 2, 3, 7, 6],\n",
      " [2, 4, 0, 6, 1, 7, 3, 5],\n",
      " [3, 5, 6, 0, 7, 1, 2, 4],\n",
      " [4, 2, 1, 7, 0, 6, 5, 3],\n",
      " [5, 3, 7, 1, 6, 0, 4, 2],\n",
      " [6, 7, 3, 2, 5, 4, 0, 1],\n",
      " [7, 6, 5, 4, 3, 2, 1, 0]]\n",
      "Mult. Identity: {0, 1, 2}\n",
      "Mult. Commutative? Yes\n",
      "Zero Divisors: ['{0}', '{1}', '{2}', '{0, 1}', '{0, 2}', '{1, 2}']\n",
      "Multiplicative Cayley Table (showing indices):\n",
      "[[0, 0, 0, 0, 0, 0, 0, 0],\n",
      " [0, 1, 0, 0, 1, 1, 0, 1],\n",
      " [0, 0, 2, 0, 2, 0, 2, 2],\n",
      " [0, 0, 0, 3, 0, 3, 3, 3],\n",
      " [0, 1, 2, 0, 4, 1, 2, 4],\n",
      " [0, 1, 0, 3, 1, 5, 3, 5],\n",
      " [0, 0, 2, 3, 2, 3, 6, 6],\n",
      " [0, 1, 2, 3, 4, 5, 6, 7]]\n"
     ]
    }
   ],
   "source": [
    "ps3 = alg.generate_powerset_ring(3)\n",
    "ps3.about()"
   ]
  },
  {
   "cell_type": "markdown",
   "id": "8cafc18a",
   "metadata": {},
   "source": [
    "## Test Matrices"
   ]
  },
  {
   "cell_type": "code",
   "execution_count": 4,
   "id": "51327b12",
   "metadata": {},
   "outputs": [
    {
     "data": {
      "text/plain": [
       "PSRing3 Matrix:\n",
       "[['{1, 2}' '{0, 1, 2}']\n",
       " ['{0, 2}' '{}']]"
      ]
     },
     "execution_count": 4,
     "metadata": {},
     "output_type": "execute_result"
    }
   ],
   "source": [
    "arr0 = np.array([['{1, 2}', '{0, 1, 2}'],\n",
    "                 ['{0, 2}', '{}']], dtype='<U32')\n",
    "\n",
    "mat0 = AbstractMatrix(arr0, ps3)\n",
    "mat0"
   ]
  },
  {
   "cell_type": "code",
   "execution_count": 5,
   "id": "9f9afef3",
   "metadata": {},
   "outputs": [
    {
     "data": {
      "text/plain": [
       "PSRing3 Matrix:\n",
       "[['{1, 2}' '{0, 1, 2}' '{0, 2}']\n",
       " ['{0, 2}' '{}' '{1}']\n",
       " ['{0}' '{1}' '{0, 1}']]"
      ]
     },
     "execution_count": 5,
     "metadata": {},
     "output_type": "execute_result"
    }
   ],
   "source": [
    "arr1 = np.array([['{1, 2}', '{0, 1, 2}', '{0, 2}'],\n",
    "                 ['{0, 2}', '{}', '{1}'],\n",
    "                 ['{0}', '{1}', '{0, 1}']], dtype='<U32')\n",
    "\n",
    "mat1 = AbstractMatrix(arr1, ps3)\n",
    "mat1"
   ]
  },
  {
   "cell_type": "code",
   "execution_count": 6,
   "id": "bd7f0d42",
   "metadata": {},
   "outputs": [
    {
     "data": {
      "text/plain": [
       "PSRing3 Matrix:\n",
       "[['{0, 1}' '{0, 2}' '{1, 2}']\n",
       " ['{0}' '{1, 2}' '{2}']\n",
       " ['{0, 1}' '{}' '{}']]"
      ]
     },
     "execution_count": 6,
     "metadata": {},
     "output_type": "execute_result"
    }
   ],
   "source": [
    "arr2 = [['{0, 1}', '{0, 2}', '{1, 2}'],\n",
    "        ['{0}'   , '{1, 2}',    '{2}'],\n",
    "        ['{0, 1}',     '{}',     '{}']]\n",
    "\n",
    "mat2 = AbstractMatrix(arr2, ps3)\n",
    "mat2"
   ]
  },
  {
   "cell_type": "code",
   "execution_count": 7,
   "id": "aaa83e3a",
   "metadata": {},
   "outputs": [
    {
     "data": {
      "text/plain": [
       "PSRing3 Matrix:\n",
       "[['{}' '{0, 1, 2}' '{0, 1, 2}' '{}']\n",
       " ['{0, 1}' '{0, 2}' '{1, 2}' '{2}']\n",
       " ['{0, 2}' '{}' '{}' '{0, 1}']\n",
       " ['{1}' '{0}' '{0, 2}' '{}']]"
      ]
     },
     "execution_count": 7,
     "metadata": {},
     "output_type": "execute_result"
    }
   ],
   "source": [
    "arr3 = np.array([['{}', '{0, 1, 2}', '{0, 1, 2}', '{}'],\n",
    "                 ['{0, 1}', '{0, 2}', '{1, 2}', '{2}'],\n",
    "                 ['{0, 2}', '{}', '{}', '{0, 1}'],\n",
    "                 ['{1}', '{0}', '{0, 2}', '{}']], dtype='<U32')\n",
    "\n",
    "mat3 = AbstractMatrix(arr3, ps3)\n",
    "mat3"
   ]
  },
  {
   "cell_type": "code",
   "execution_count": 8,
   "id": "359f264b",
   "metadata": {},
   "outputs": [
    {
     "data": {
      "text/plain": [
       "PSRing3 Matrix:\n",
       "[['{1, 2}']]"
      ]
     },
     "execution_count": 8,
     "metadata": {},
     "output_type": "execute_result"
    }
   ],
   "source": [
    "arr4 = np.array([['{1, 2}']], dtype='<U32')\n",
    "\n",
    "mat4 = AbstractMatrix(arr4, ps3)\n",
    "mat4"
   ]
  },
  {
   "cell_type": "code",
   "execution_count": 9,
   "id": "8384ebe1",
   "metadata": {},
   "outputs": [
    {
     "data": {
      "text/plain": [
       "F4 Matrix:\n",
       "[['0' '1' 'a']\n",
       " ['1' 'a' '1+a']\n",
       " ['1+a' '0' '1']]"
      ]
     },
     "execution_count": 9,
     "metadata": {},
     "output_type": "execute_result"
    }
   ],
   "source": [
    "arr5 = np.array([['0', '1', 'a'],\n",
    "                 ['1', 'a', '1+a'],\n",
    "                 ['1+a', '0', '1']], dtype='<U32')\n",
    "\n",
    "mat5 = AbstractMatrix(arr5, f4)\n",
    "mat5"
   ]
  },
  {
   "cell_type": "code",
   "execution_count": 10,
   "id": "3a5aabe7",
   "metadata": {},
   "outputs": [
    {
     "data": {
      "text/plain": [
       "F4 Matrix:\n",
       "[['1+a' '0' 'a']\n",
       " ['1+a' '1+a' '0']\n",
       " ['1' '1' '0']]"
      ]
     },
     "execution_count": 10,
     "metadata": {},
     "output_type": "execute_result"
    }
   ],
   "source": [
    "arr6 = np.array([['1+a', '0', 'a'],\n",
    "                 ['1+a', '1+a', '0'],\n",
    "                 ['1', '1', '0']], dtype='<U32')\n",
    "\n",
    "mat6 = AbstractMatrix(arr6, f4)\n",
    "mat6"
   ]
  },
  {
   "cell_type": "markdown",
   "id": "2eb178e3",
   "metadata": {},
   "source": [
    "## Matrix Addition & Subtraction"
   ]
  },
  {
   "cell_type": "code",
   "execution_count": 11,
   "id": "692d4e4e",
   "metadata": {},
   "outputs": [
    {
     "data": {
      "text/plain": [
       "PSRing3 Matrix:\n",
       "[['{0, 2}' '{1}' '{0, 1}']\n",
       " ['{2}' '{1, 2}' '{1, 2}']\n",
       " ['{1}' '{1}' '{0, 1}']]"
      ]
     },
     "execution_count": 11,
     "metadata": {},
     "output_type": "execute_result"
    }
   ],
   "source": [
    "mat1 + mat2"
   ]
  },
  {
   "cell_type": "code",
   "execution_count": 12,
   "id": "e71775f2",
   "metadata": {},
   "outputs": [
    {
     "name": "stdout",
     "output_type": "stream",
     "text": [
      "The array shapes are not equal: (3, 3) != (4, 4)\n"
     ]
    }
   ],
   "source": [
    "try:\n",
    "    mat2p3 = mat2 + mat3\n",
    "    print(mat2p3)\n",
    "except Exception as exc:\n",
    "    print(exc)"
   ]
  },
  {
   "cell_type": "code",
   "execution_count": 13,
   "id": "eaaa9e10",
   "metadata": {},
   "outputs": [
    {
     "data": {
      "text/plain": [
       "F4 Matrix:\n",
       "[['1+a' '1' '0']\n",
       " ['a' '1' '1+a']\n",
       " ['a' '1' '1']]"
      ]
     },
     "execution_count": 13,
     "metadata": {},
     "output_type": "execute_result"
    }
   ],
   "source": [
    "mat5 + mat6"
   ]
  },
  {
   "cell_type": "code",
   "execution_count": 14,
   "id": "210136aa",
   "metadata": {},
   "outputs": [
    {
     "data": {
      "text/plain": [
       "PSRing3 Matrix:\n",
       "[['{}' '{}' '{}']\n",
       " ['{}' '{}' '{}']\n",
       " ['{}' '{}' '{}']]"
      ]
     },
     "execution_count": 14,
     "metadata": {},
     "output_type": "execute_result"
    }
   ],
   "source": [
    "mat2 - mat2"
   ]
  },
  {
   "cell_type": "code",
   "execution_count": 15,
   "id": "47a60cbd",
   "metadata": {},
   "outputs": [
    {
     "name": "stdout",
     "output_type": "stream",
     "text": [
      "The array shapes are not equal: (3, 3) != (4, 4)\n"
     ]
    }
   ],
   "source": [
    "try:\n",
    "    mat2p3 = mat2 - mat3\n",
    "    print(mat2p3)\n",
    "except Exception as exc:\n",
    "    print(exc)"
   ]
  },
  {
   "cell_type": "markdown",
   "id": "4bb68cd6-854f-4699-bb49-5c0c0ce560e6",
   "metadata": {},
   "source": [
    "## Matrix Multiplication"
   ]
  },
  {
   "cell_type": "code",
   "execution_count": 16,
   "id": "0cb5fc85-2431-4e40-ac3f-50d7c36f06e5",
   "metadata": {},
   "outputs": [
    {
     "data": {
      "text/plain": [
       "PSRing3 Matrix:\n",
       "[['{1}' '{1}' '{1}']\n",
       " ['{0, 1}' '{0, 2}' '{2}']\n",
       " ['{1}' '{0, 1}' '{}']]"
      ]
     },
     "execution_count": 16,
     "metadata": {},
     "output_type": "execute_result"
    }
   ],
   "source": [
    "mat1 * mat2"
   ]
  },
  {
   "cell_type": "code",
   "execution_count": 17,
   "id": "6524fc43",
   "metadata": {},
   "outputs": [
    {
     "data": {
      "text/plain": [
       "PSRing3 Matrix:\n",
       "[['{0, 1, 2}' '{0}' '{0, 1}']\n",
       " ['{2}' '{0}' '{0, 1}']\n",
       " ['{1}' '{0, 1}' '{0}']]"
      ]
     },
     "execution_count": 17,
     "metadata": {},
     "output_type": "execute_result"
    }
   ],
   "source": [
    "mat2 * mat1"
   ]
  },
  {
   "cell_type": "code",
   "execution_count": 18,
   "id": "6003150c",
   "metadata": {},
   "outputs": [
    {
     "name": "stdout",
     "output_type": "stream",
     "text": [
      "The array shapes are incompatible: 3 columns vs 4 rows\n"
     ]
    }
   ],
   "source": [
    "try:\n",
    "    mat2x3 = mat2 * mat3\n",
    "    print(mat2x3)\n",
    "except Exception as exc:\n",
    "    print(exc)"
   ]
  },
  {
   "cell_type": "code",
   "execution_count": 19,
   "id": "5fd2889f",
   "metadata": {},
   "outputs": [
    {
     "data": {
      "text/plain": [
       "F4 Matrix:\n",
       "[['1' '1' '0']\n",
       " ['1' 'a' 'a']\n",
       " ['1+a' '1' '1']]"
      ]
     },
     "execution_count": 19,
     "metadata": {},
     "output_type": "execute_result"
    }
   ],
   "source": [
    "mat5 * mat6"
   ]
  },
  {
   "cell_type": "markdown",
   "id": "234666cb",
   "metadata": {},
   "source": [
    "## Abstract Matrix of \"Zeros\""
   ]
  },
  {
   "cell_type": "code",
   "execution_count": 20,
   "id": "583b68e0",
   "metadata": {},
   "outputs": [
    {
     "data": {
      "text/plain": [
       "PSRing3 Matrix:\n",
       "[['{}' '{}' '{}']\n",
       " ['{}' '{}' '{}']]"
      ]
     },
     "execution_count": 20,
     "metadata": {},
     "output_type": "execute_result"
    }
   ],
   "source": [
    "matz = AbstractMatrix.zeros((2, 3), ps3)\n",
    "matz"
   ]
  },
  {
   "cell_type": "code",
   "execution_count": 21,
   "id": "32de3d20",
   "metadata": {},
   "outputs": [
    {
     "data": {
      "text/plain": [
       "F4 Matrix:\n",
       "[['0' '0' '0']\n",
       " ['0' '0' '0']\n",
       " ['0' '0' '0']]"
      ]
     },
     "execution_count": 21,
     "metadata": {},
     "output_type": "execute_result"
    }
   ],
   "source": [
    "matf = AbstractMatrix.zeros((3, 3), f4)\n",
    "matf"
   ]
  },
  {
   "cell_type": "markdown",
   "id": "6172db1b",
   "metadata": {},
   "source": [
    "## Abstract Identity Matrix"
   ]
  },
  {
   "cell_type": "code",
   "execution_count": 22,
   "id": "b74dec91",
   "metadata": {},
   "outputs": [
    {
     "data": {
      "text/plain": [
       "PSRing3 Matrix:\n",
       "[['{0, 1, 2}' '{}' '{}' '{}']\n",
       " ['{}' '{0, 1, 2}' '{}' '{}']\n",
       " ['{}' '{}' '{0, 1, 2}' '{}']\n",
       " ['{}' '{}' '{}' '{0, 1, 2}']]"
      ]
     },
     "execution_count": 22,
     "metadata": {},
     "output_type": "execute_result"
    }
   ],
   "source": [
    "AbstractMatrix.identity(4, ps3)"
   ]
  },
  {
   "cell_type": "code",
   "execution_count": 23,
   "id": "9558a899",
   "metadata": {},
   "outputs": [
    {
     "data": {
      "text/plain": [
       "PSRing3 Matrix:\n",
       "[['{1, 2}' '{0, 1, 2}' '{0, 2}']\n",
       " ['{0, 2}' '{}' '{1}']\n",
       " ['{0}' '{1}' '{0, 1}']]"
      ]
     },
     "execution_count": 23,
     "metadata": {},
     "output_type": "execute_result"
    }
   ],
   "source": [
    "mat1"
   ]
  },
  {
   "cell_type": "code",
   "execution_count": 24,
   "id": "c3350745",
   "metadata": {},
   "outputs": [
    {
     "data": {
      "text/plain": [
       "PSRing3 Matrix:\n",
       "[['{1, 2}' '{0, 1, 2}' '{0, 2}']\n",
       " ['{0, 2}' '{}' '{1}']\n",
       " ['{0}' '{1}' '{0, 1}']]"
      ]
     },
     "execution_count": 24,
     "metadata": {},
     "output_type": "execute_result"
    }
   ],
   "source": [
    "id3 = AbstractMatrix.identity(3, ps3)\n",
    "\n",
    "mat1 * id3"
   ]
  },
  {
   "cell_type": "code",
   "execution_count": 25,
   "id": "ecc54819",
   "metadata": {},
   "outputs": [
    {
     "data": {
      "text/plain": [
       "PSRing3 Matrix:\n",
       "[['{1, 2}' '{0, 1, 2}' '{0, 2}']\n",
       " ['{0, 2}' '{}' '{1}']\n",
       " ['{0}' '{1}' '{0, 1}']]"
      ]
     },
     "execution_count": 25,
     "metadata": {},
     "output_type": "execute_result"
    }
   ],
   "source": [
    "id3 * mat1"
   ]
  },
  {
   "cell_type": "code",
   "execution_count": 26,
   "id": "8c62a867",
   "metadata": {},
   "outputs": [
    {
     "data": {
      "text/plain": [
       "F4 Matrix:\n",
       "[['1' '0' '0']\n",
       " ['0' '1' '0']\n",
       " ['0' '0' '1']]"
      ]
     },
     "execution_count": 26,
     "metadata": {},
     "output_type": "execute_result"
    }
   ],
   "source": [
    "id3f = AbstractMatrix.identity(3, f4)\n",
    "id3f"
   ]
  },
  {
   "cell_type": "code",
   "execution_count": 27,
   "id": "e8f343e9",
   "metadata": {},
   "outputs": [
    {
     "data": {
      "text/plain": [
       "F4 Matrix:\n",
       "[['0' '0' '0']\n",
       " ['0' '0' '0']\n",
       " ['0' '0' '0']]"
      ]
     },
     "execution_count": 27,
     "metadata": {},
     "output_type": "execute_result"
    }
   ],
   "source": [
    "mat5 * id3f - mat5"
   ]
  },
  {
   "cell_type": "markdown",
   "id": "09fd1964",
   "metadata": {},
   "source": [
    "## Random Abstract Matrix"
   ]
  },
  {
   "cell_type": "code",
   "execution_count": 28,
   "id": "47b625e0",
   "metadata": {},
   "outputs": [
    {
     "data": {
      "text/plain": [
       "PSRing3 Matrix:\n",
       "[['{0, 1, 2}' '{0, 1, 2}' '{2}']\n",
       " ['{0, 2}' '{}' '{2}']\n",
       " ['{0}' '{}' '{0}']]"
      ]
     },
     "execution_count": 28,
     "metadata": {},
     "output_type": "execute_result"
    }
   ],
   "source": [
    "AbstractMatrix.random((3, 3), ps3)"
   ]
  },
  {
   "cell_type": "markdown",
   "id": "1576f0a8-41bb-460c-af55-7ae2e6c70c5c",
   "metadata": {},
   "source": [
    "## Get/Set Matrix Element Values"
   ]
  },
  {
   "cell_type": "code",
   "execution_count": 29,
   "id": "4491e4bf-5231-4d2b-9401-6eb511fddc24",
   "metadata": {},
   "outputs": [
    {
     "data": {
      "text/plain": [
       "PSRing3 Matrix:\n",
       "[['{0, 1}' '{0, 2}' '{1, 2}']\n",
       " ['{0}' '{1, 2}' '{2}']\n",
       " ['{0, 1}' '{}' '{}']]"
      ]
     },
     "execution_count": 29,
     "metadata": {},
     "output_type": "execute_result"
    }
   ],
   "source": [
    "mat2"
   ]
  },
  {
   "cell_type": "code",
   "execution_count": 30,
   "id": "4094590e-be48-47be-85f7-1aae62411281",
   "metadata": {},
   "outputs": [
    {
     "data": {
      "text/plain": [
       "'{0, 2}'"
      ]
     },
     "execution_count": 30,
     "metadata": {},
     "output_type": "execute_result"
    }
   ],
   "source": [
    "mat2[0, 1]"
   ]
  },
  {
   "cell_type": "code",
   "execution_count": 31,
   "id": "ca4a48e2-b9f1-4784-bad4-0dec810cbe1b",
   "metadata": {},
   "outputs": [
    {
     "data": {
      "text/plain": [
       "PSRing3 Matrix:\n",
       "[['{0, 1}' '{0, 2}' '{1, 2}']\n",
       " ['{0}' '{1, 2}' '{2}']\n",
       " ['{0, 1}' '{}' '{0, 1, 2}']]"
      ]
     },
     "execution_count": 31,
     "metadata": {},
     "output_type": "execute_result"
    }
   ],
   "source": [
    "mat2[2, 2] = '{0, 1, 2}'\n",
    "mat2"
   ]
  },
  {
   "cell_type": "code",
   "execution_count": 32,
   "id": "7decf719",
   "metadata": {},
   "outputs": [
    {
     "data": {
      "text/plain": [
       "PSRing3 Matrix:\n",
       "[['{0, 1}' '{0, 2}' '{1, 2}']\n",
       " ['{0}' '{1, 2}' '{2}']\n",
       " ['{0, 1}' '{}' '{}']]"
      ]
     },
     "execution_count": 32,
     "metadata": {},
     "output_type": "execute_result"
    }
   ],
   "source": [
    "mat2[2, 2] = '{}'\n",
    "mat2"
   ]
  },
  {
   "cell_type": "markdown",
   "id": "9eb7801d-157b-424b-b3b8-26d2d3bb59db",
   "metadata": {},
   "source": [
    "## Matrix Minor"
   ]
  },
  {
   "cell_type": "code",
   "execution_count": 33,
   "id": "62c40a05-b625-4fa8-aa84-4789a9ebedd1",
   "metadata": {},
   "outputs": [
    {
     "data": {
      "text/plain": [
       "PSRing3 Matrix:\n",
       "[['{1, 2}' '{2}']\n",
       " ['{}' '{}']]"
      ]
     },
     "execution_count": 33,
     "metadata": {},
     "output_type": "execute_result"
    }
   ],
   "source": [
    "mnr2 = mat2.minor(0,0)\n",
    "mnr2"
   ]
  },
  {
   "cell_type": "code",
   "execution_count": 34,
   "id": "b4c74c5c",
   "metadata": {},
   "outputs": [
    {
     "data": {
      "text/plain": [
       "F4 Matrix:\n",
       "[['0' 'a']\n",
       " ['1+a' '1']]"
      ]
     },
     "execution_count": 34,
     "metadata": {},
     "output_type": "execute_result"
    }
   ],
   "source": [
    "mnr3 = mat5.minor(1, 1)\n",
    "mnr3"
   ]
  },
  {
   "cell_type": "markdown",
   "id": "a9b39686",
   "metadata": {},
   "source": [
    "## Abstract Cofactor Matrix"
   ]
  },
  {
   "cell_type": "code",
   "execution_count": 35,
   "id": "306772f1",
   "metadata": {},
   "outputs": [
    {
     "data": {
      "text/plain": [
       "PSRing3 Matrix:\n",
       "[['{}' '{}' '{1}']\n",
       " ['{}' '{1}' '{0}']\n",
       " ['{1}' '{}' '{0, 1}']]"
      ]
     },
     "execution_count": 35,
     "metadata": {},
     "output_type": "execute_result"
    }
   ],
   "source": [
    "cof2 = mat2.cofactor_matrix()\n",
    "cof2"
   ]
  },
  {
   "cell_type": "code",
   "execution_count": 36,
   "id": "55b59c33",
   "metadata": {},
   "outputs": [
    {
     "data": {
      "text/plain": [
       "F4 Matrix:\n",
       "[['a' '1+a' '1']\n",
       " ['1' '1' '1+a']\n",
       " ['0' 'a' '1']]"
      ]
     },
     "execution_count": 36,
     "metadata": {},
     "output_type": "execute_result"
    }
   ],
   "source": [
    "cof3 = mat5.cofactor_matrix()\n",
    "cof3"
   ]
  },
  {
   "cell_type": "markdown",
   "id": "e1d944f6",
   "metadata": {},
   "source": [
    "## Abstract Matrix Transpose"
   ]
  },
  {
   "cell_type": "code",
   "execution_count": 37,
   "id": "7031890b",
   "metadata": {},
   "outputs": [
    {
     "data": {
      "text/plain": [
       "PSRing3 Matrix:\n",
       "[['{}' '{}' '{1}']\n",
       " ['{}' '{1}' '{}']\n",
       " ['{1}' '{0}' '{0, 1}']]"
      ]
     },
     "execution_count": 37,
     "metadata": {},
     "output_type": "execute_result"
    }
   ],
   "source": [
    "cof2_trans = cof2.transpose()\n",
    "cof2_trans"
   ]
  },
  {
   "cell_type": "code",
   "execution_count": 38,
   "id": "2130a554",
   "metadata": {},
   "outputs": [
    {
     "data": {
      "text/plain": [
       "F4 Matrix:\n",
       "[['a' '1' '0']\n",
       " ['1+a' '1' 'a']\n",
       " ['1' '1+a' '1']]"
      ]
     },
     "execution_count": 38,
     "metadata": {},
     "output_type": "execute_result"
    }
   ],
   "source": [
    "cof3.transpose()"
   ]
  },
  {
   "cell_type": "markdown",
   "id": "646a0202",
   "metadata": {},
   "source": [
    "## Abstract Matrix Determinant"
   ]
  },
  {
   "cell_type": "code",
   "execution_count": 39,
   "id": "55b36d62",
   "metadata": {},
   "outputs": [
    {
     "data": {
      "text/plain": [
       "'{1}'"
      ]
     },
     "execution_count": 39,
     "metadata": {},
     "output_type": "execute_result"
    }
   ],
   "source": [
    "mat2.determinant()"
   ]
  },
  {
   "cell_type": "markdown",
   "id": "126d6bcb",
   "metadata": {},
   "source": [
    "Here's a breaksdown of the basic computations required to get the determinant.\n",
    "\n",
    "NOTE: Addition & multiplication for the ring, ps3, is commutative, so the order of adds and mults is irrelevant, below."
   ]
  },
  {
   "cell_type": "code",
   "execution_count": 40,
   "id": "df58ffe3",
   "metadata": {},
   "outputs": [
    {
     "data": {
      "text/plain": [
       "'{}'"
      ]
     },
     "execution_count": 40,
     "metadata": {},
     "output_type": "execute_result"
    }
   ],
   "source": [
    "minor_det_0 = ps3.sub(ps3.mult('{1, 2}', '{}'), ps3.mult('{2}', '{}'))\n",
    "minor_det_0"
   ]
  },
  {
   "cell_type": "code",
   "execution_count": 41,
   "id": "1d6d232a",
   "metadata": {},
   "outputs": [
    {
     "data": {
      "text/plain": [
       "'{}'"
      ]
     },
     "execution_count": 41,
     "metadata": {},
     "output_type": "execute_result"
    }
   ],
   "source": [
    "minor_det_1 = ps3.sub(ps3.mult('{0}', '{}'), ps3.mult('{2}', '{0, 1}'))\n",
    "minor_det_1"
   ]
  },
  {
   "cell_type": "code",
   "execution_count": 42,
   "id": "46947f51",
   "metadata": {},
   "outputs": [
    {
     "data": {
      "text/plain": [
       "'{1}'"
      ]
     },
     "execution_count": 42,
     "metadata": {},
     "output_type": "execute_result"
    }
   ],
   "source": [
    "minor_det_2 = ps3.sub(ps3.mult('{0}', '{}'), ps3.mult('{1, 2}', '{0, 1}'))\n",
    "minor_det_2"
   ]
  },
  {
   "cell_type": "code",
   "execution_count": 43,
   "id": "ec46b2aa",
   "metadata": {},
   "outputs": [
    {
     "data": {
      "text/plain": [
       "'{1}'"
      ]
     },
     "execution_count": 43,
     "metadata": {},
     "output_type": "execute_result"
    }
   ],
   "source": [
    "det = ps3.sub(ps3.add(ps3.mult('{0, 1}', minor_det_0),\n",
    "                      ps3.mult('{1, 2}', minor_det_2)),\n",
    "              ps3.mult('{0, 2}', minor_det_1))\n",
    "det"
   ]
  },
  {
   "cell_type": "code",
   "execution_count": 44,
   "id": "b8b1f37d",
   "metadata": {},
   "outputs": [
    {
     "data": {
      "text/plain": [
       "'1'"
      ]
     },
     "execution_count": 44,
     "metadata": {},
     "output_type": "execute_result"
    }
   ],
   "source": [
    "mat5.determinant()"
   ]
  },
  {
   "cell_type": "markdown",
   "id": "0c00e4fb-82e8-42ed-8fd2-f24d6824ffcd",
   "metadata": {},
   "source": [
    "## Abstract Matrix Inverse"
   ]
  },
  {
   "cell_type": "code",
   "execution_count": 45,
   "id": "588b5a7c-c190-4a2b-9d28-0413d006e5c4",
   "metadata": {},
   "outputs": [
    {
     "data": {
      "text/plain": [
       "PSRing3 Matrix:\n",
       "[['{}' '{}' '{1}']\n",
       " ['{}' '{1}' '{}']\n",
       " ['{1}' '{}' '{1}']]"
      ]
     },
     "execution_count": 45,
     "metadata": {},
     "output_type": "execute_result"
    }
   ],
   "source": [
    "mat2_inv = mat2.inverse()\n",
    "mat2_inv"
   ]
  },
  {
   "cell_type": "code",
   "execution_count": 46,
   "id": "412176a0-037a-4327-b230-ce02f6f1e27b",
   "metadata": {},
   "outputs": [
    {
     "data": {
      "text/plain": [
       "PSRing3 Matrix:\n",
       "[['{1}' '{}' '{}']\n",
       " ['{}' '{1}' '{}']\n",
       " ['{}' '{}' '{1}']]"
      ]
     },
     "execution_count": 46,
     "metadata": {},
     "output_type": "execute_result"
    }
   ],
   "source": [
    "mat2 * mat2_inv"
   ]
  },
  {
   "cell_type": "code",
   "execution_count": 47,
   "id": "682292b9-fe96-4fba-bb4a-b64ac41f727c",
   "metadata": {},
   "outputs": [
    {
     "data": {
      "text/plain": [
       "PSRing3 Matrix:\n",
       "[['{1}' '{}' '{}']\n",
       " ['{}' '{1}' '{}']\n",
       " ['{}' '{}' '{1}']]"
      ]
     },
     "execution_count": 47,
     "metadata": {},
     "output_type": "execute_result"
    }
   ],
   "source": [
    "mat2_inv * mat2"
   ]
  },
  {
   "cell_type": "code",
   "execution_count": 48,
   "id": "08b12933",
   "metadata": {},
   "outputs": [
    {
     "data": {
      "text/plain": [
       "F4 Matrix:\n",
       "[['a' '1' '0']\n",
       " ['1+a' '1' 'a']\n",
       " ['1' '1+a' '1']]"
      ]
     },
     "execution_count": 48,
     "metadata": {},
     "output_type": "execute_result"
    }
   ],
   "source": [
    "mat5_inv = mat5.inverse()\n",
    "mat5_inv"
   ]
  },
  {
   "cell_type": "code",
   "execution_count": 49,
   "id": "e7a4bbc8",
   "metadata": {},
   "outputs": [
    {
     "data": {
      "text/plain": [
       "F4 Matrix:\n",
       "[['1' '0' '0']\n",
       " ['0' '1' '0']\n",
       " ['0' '0' '1']]"
      ]
     },
     "execution_count": 49,
     "metadata": {},
     "output_type": "execute_result"
    }
   ],
   "source": [
    "mat5 * mat5_inv"
   ]
  },
  {
   "cell_type": "code",
   "execution_count": 50,
   "id": "2778ba17",
   "metadata": {},
   "outputs": [
    {
     "data": {
      "text/plain": [
       "F4 Matrix:\n",
       "[['1' '0' '0']\n",
       " ['0' '1' '0']\n",
       " ['0' '0' '1']]"
      ]
     },
     "execution_count": 50,
     "metadata": {},
     "output_type": "execute_result"
    }
   ],
   "source": [
    "mat5_inv * mat5"
   ]
  },
  {
   "cell_type": "code",
   "execution_count": null,
   "id": "1eb57e39",
   "metadata": {},
   "outputs": [],
   "source": []
  }
 ],
 "metadata": {
  "kernelspec": {
   "display_name": "Python 3 (ipykernel)",
   "language": "python",
   "name": "python3"
  },
  "language_info": {
   "codemirror_mode": {
    "name": "ipython",
    "version": 3
   },
   "file_extension": ".py",
   "mimetype": "text/x-python",
   "name": "python",
   "nbconvert_exporter": "python",
   "pygments_lexer": "ipython3",
   "version": "3.11.4"
  }
 },
 "nbformat": 4,
 "nbformat_minor": 5
}
