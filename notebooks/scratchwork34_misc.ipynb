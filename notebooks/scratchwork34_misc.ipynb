{
 "cells": [
  {
   "cell_type": "markdown",
   "id": "1b668f56",
   "metadata": {},
   "source": [
    "# Miscellaneous Scratchwork"
   ]
  },
  {
   "cell_type": "code",
   "execution_count": 1,
   "id": "3f3d1168",
   "metadata": {},
   "outputs": [],
   "source": [
    "import finite_algebras as alg\n",
    "\n",
    "import os\n",
    "aa_path = os.path.join(os.getenv(\"PYPROJ\"), \"abstract_algebra\")\n",
    "alg_dir = os.path.join(aa_path, \"Algebras\")"
   ]
  },
  {
   "cell_type": "code",
   "execution_count": 3,
   "id": "6db7ea6a",
   "metadata": {},
   "outputs": [
    {
     "name": "stdout",
     "output_type": "stream",
     "text": [
      "======================================================================\n",
      "                           Example Algebras\n",
      "----------------------------------------------------------------------\n",
      "  17 example algebras are available.\n",
      "  Use \"Examples[INDEX]\" to retrieve a specific example,\n",
      "  where INDEX is the first number on each line below:\n",
      "----------------------------------------------------------------------\n",
      "0: A4 -- Alternating group on 4 letters (AKA Tetrahedral group)\n",
      "1: D3 -- https://en.wikipedia.org/wiki/Dihedral_group_of_order_6\n",
      "2: D4 -- Dihedral group on four vertices\n",
      "3: Pinter29 -- Non-abelian group, p.29, 'A Book of Abstract Algebra' by Charles C. Pinter\n",
      "4: RPS -- Rock, Paper, Scissors Magma\n",
      "5: S3 -- Symmetric group on 3 letters\n",
      "6: S3X -- Another version of the symmetric group on 3 letters\n",
      "7: V4 -- Klein-4 group\n",
      "8: Z4 -- Cyclic group of order 4\n",
      "9: F4 -- Field with 4 elements (from Wikipedia)\n",
      "10: mag_id -- Magma with Identity\n",
      "11: Example 1.4.1 -- See: Groupoids and Smarandache Groupoids by W. B. Vasantha Kandasamy\n",
      "12: Ex6 -- Example 6: http://www-groups.mcs.st-andrews.ac.uk/~john/MT4517/Lectures/L3.html\n",
      "13: Q8 -- Quaternion Group\n",
      "14: SD16 -- Semidihedral group of order 16\n",
      "15: A5 -- Alternating group on 5 letters\n",
      "16: F2 -- Field with 2 elements from paper: 236w06fields.pdf\n",
      "======================================================================\n"
     ]
    }
   ],
   "source": [
    "ex = alg.Examples(alg_dir)"
   ]
  },
  {
   "cell_type": "code",
   "execution_count": 4,
   "id": "4168aa36",
   "metadata": {},
   "outputs": [
    {
     "name": "stdout",
     "output_type": "stream",
     "text": [
      "\n",
      "** Group **\n",
      "Name: V4\n",
      "Instance ID: 4969636624\n",
      "Description: Klein-4 group\n",
      "Order: 4\n",
      "Identity: 'e'\n",
      "Commutative? Yes\n",
      "Cyclic?: No\n",
      "Elements:\n",
      "   Index   Name   Inverse  Order\n",
      "      0     'e'     'e'       1\n",
      "      1     'h'     'h'       2\n",
      "      2     'v'     'v'       2\n",
      "      3     'r'     'r'       2\n",
      "Cayley Table (showing indices):\n",
      "[[0, 1, 2, 3], [1, 0, 3, 2], [2, 3, 0, 1], [3, 2, 1, 0]]\n"
     ]
    },
    {
     "data": {
      "text/plain": [
       "'<Group:V4, ID:4969636624>'"
      ]
     },
     "execution_count": 4,
     "metadata": {},
     "output_type": "execute_result"
    }
   ],
   "source": [
    "v4 = ex[7]\n",
    "v4.about()"
   ]
  },
  {
   "cell_type": "code",
   "execution_count": 6,
   "id": "d6d0241e",
   "metadata": {},
   "outputs": [
    {
     "name": "stdout",
     "output_type": "stream",
     "text": [
      "\n",
      "** Group **\n",
      "Name: Z4\n",
      "Instance ID: 4969641168\n",
      "Description: Cyclic group of order 4\n",
      "Order: 4\n",
      "Identity: 'e'\n",
      "Commutative? Yes\n",
      "Cyclic?: Yes\n",
      "Generators: ['a', 'a^3']\n",
      "Elements:\n",
      "   Index   Name   Inverse  Order\n",
      "      0     'e'     'e'       1\n",
      "      1     'a'   'a^3'       4\n",
      "      2   'a^2'   'a^2'       2\n",
      "      3   'a^3'     'a'       4\n",
      "Cayley Table (showing indices):\n",
      "[[0, 1, 2, 3], [1, 2, 3, 0], [2, 3, 0, 1], [3, 0, 1, 2]]\n"
     ]
    },
    {
     "data": {
      "text/plain": [
       "'<Group:Z4, ID:4969641168>'"
      ]
     },
     "execution_count": 6,
     "metadata": {},
     "output_type": "execute_result"
    }
   ],
   "source": [
    "z4 = ex[8]\n",
    "z4.about()"
   ]
  },
  {
   "cell_type": "code",
   "execution_count": 9,
   "id": "647c59bf",
   "metadata": {},
   "outputs": [],
   "source": [
    "g4 = alg.Group(\"G4\",\n",
    "               \"Group based on 1, -1, i, & -i\",\n",
    "               ['1', '-1', 'i', '-i'],\n",
    "               [['1', '-1', 'i', '-i'],\n",
    "                ['-1', '1', '-i', 'i'],\n",
    "                ['i', '-i', '-1', '1'],\n",
    "                ['-i', 'i', '1', '-1']])"
   ]
  },
  {
   "cell_type": "code",
   "execution_count": 10,
   "id": "69ed0fc2",
   "metadata": {},
   "outputs": [
    {
     "name": "stdout",
     "output_type": "stream",
     "text": [
      "\n",
      "** Group **\n",
      "Name: G4\n",
      "Instance ID: 4968850192\n",
      "Description: Group based on 1, -1, i, & -i\n",
      "Order: 4\n",
      "Identity: '1'\n",
      "Commutative? Yes\n",
      "Cyclic?: Yes\n",
      "Generators: ['i', '-i']\n",
      "Elements:\n",
      "   Index   Name   Inverse  Order\n",
      "      0     '1'     '1'       1\n",
      "      1    '-1'    '-1'       2\n",
      "      2     'i'    '-i'       4\n",
      "      3    '-i'     'i'       4\n",
      "Cayley Table (showing indices):\n",
      "[[0, 1, 2, 3], [1, 0, 3, 2], [2, 3, 1, 0], [3, 2, 0, 1]]\n"
     ]
    },
    {
     "data": {
      "text/plain": [
       "'<Group:G4, ID:4968850192>'"
      ]
     },
     "execution_count": 10,
     "metadata": {},
     "output_type": "execute_result"
    }
   ],
   "source": [
    "g4.about()"
   ]
  },
  {
   "cell_type": "code",
   "execution_count": 13,
   "id": "0f53e50d",
   "metadata": {},
   "outputs": [
    {
     "data": {
      "text/plain": [
       "False"
      ]
     },
     "execution_count": 13,
     "metadata": {},
     "output_type": "execute_result"
    }
   ],
   "source": [
    "g4.isomorphic(v4)"
   ]
  },
  {
   "cell_type": "code",
   "execution_count": 14,
   "id": "c1dd0165",
   "metadata": {},
   "outputs": [
    {
     "data": {
      "text/plain": [
       "{'1': 'e', '-1': 'a^2', 'i': 'a', '-i': 'a^3'}"
      ]
     },
     "execution_count": 14,
     "metadata": {},
     "output_type": "execute_result"
    }
   ],
   "source": [
    "g4.isomorphic(z4)"
   ]
  },
  {
   "cell_type": "code",
   "execution_count": 27,
   "id": "0a1bc1c2",
   "metadata": {},
   "outputs": [
    {
     "data": {
      "text/plain": [
       "Group(\n",
       "'G4_REORDERED',\n",
       "'Group based on 1, -1, i, & -i (elements reordered)',\n",
       "['1', 'i', '-1', '-i'],\n",
       "[[0, 1, 2, 3], [1, 2, 3, 0], [2, 3, 0, 1], [3, 0, 1, 2]]\n",
       ")"
      ]
     },
     "execution_count": 27,
     "metadata": {},
     "output_type": "execute_result"
    }
   ],
   "source": [
    "g4x = g4.reorder_elements(['1', 'i', '-1', '-i'])\n",
    "g4x"
   ]
  },
  {
   "cell_type": "code",
   "execution_count": 28,
   "id": "10cb6f15",
   "metadata": {},
   "outputs": [
    {
     "data": {
      "text/plain": [
       "{'1': 'e', 'i': 'a', '-1': 'a^2', '-i': 'a^3'}"
      ]
     },
     "execution_count": 28,
     "metadata": {},
     "output_type": "execute_result"
    }
   ],
   "source": [
    "g4x.isomorphic(z4)"
   ]
  },
  {
   "cell_type": "code",
   "execution_count": 32,
   "id": "7704a9e6",
   "metadata": {},
   "outputs": [
    {
     "name": "stdout",
     "output_type": "stream",
     "text": [
      "\n",
      "** Group **\n",
      "Name: G4\n",
      "Instance ID: 6121442512\n",
      "Description: Group based on 1, -1, i, & -i\n",
      "Order: 4\n",
      "Identity: '1:0'\n",
      "Commutative? Yes\n",
      "Cyclic?: Yes\n",
      "Generators: ['0:-i', '0:i']\n",
      "Elements:\n",
      "   Index   Name   Inverse  Order\n",
      "      0   '1:0'   '1:0'       1\n",
      "      1   '0:i'  '0:-i'       4\n",
      "      2  '-1:0'  '-1:0'       2\n",
      "      3  '0:-i'   '0:i'       4\n",
      "Cayley Table (showing indices):\n",
      "[[0, 1, 2, 3], [1, 2, 3, 0], [2, 3, 0, 1], [3, 0, 1, 2]]\n"
     ]
    },
    {
     "data": {
      "text/plain": [
       "'<Group:G4, ID:6121442512>'"
      ]
     },
     "execution_count": 32,
     "metadata": {},
     "output_type": "execute_result"
    }
   ],
   "source": [
    "g4z = alg.Group('G4',\n",
    "                'Group based on 1, -1, i, & -i',\n",
    "                ['1:0', '0:i', '-1:0', '0:-i'],\n",
    "                [[0, 1, 2, 3], [1, 2, 3, 0], [2, 3, 0, 1], [3, 0, 1, 2]])\n",
    "g4z.about()"
   ]
  },
  {
   "cell_type": "code",
   "execution_count": 33,
   "id": "c0fbb7a9",
   "metadata": {},
   "outputs": [
    {
     "data": {
      "text/plain": [
       "Field(\n",
       "'F3',\n",
       "'Autogenerated Field of integers mod 3',\n",
       "['0', '1', '2'],\n",
       "[[0, 1, 2], [1, 2, 0], [2, 0, 1]],\n",
       "[[0, 0, 0], [0, 1, 2], [0, 2, 1]]\n",
       ")"
      ]
     },
     "execution_count": 33,
     "metadata": {},
     "output_type": "execute_result"
    }
   ],
   "source": [
    "f3 = alg.generate_algebra_mod_n(3)\n",
    "f3"
   ]
  },
  {
   "cell_type": "code",
   "execution_count": 34,
   "id": "f4a79e26",
   "metadata": {},
   "outputs": [
    {
     "data": {
      "text/plain": [
       "['0', '1', '2']"
      ]
     },
     "execution_count": 34,
     "metadata": {},
     "output_type": "execute_result"
    }
   ],
   "source": [
    "f3.elements"
   ]
  },
  {
   "cell_type": "code",
   "execution_count": 36,
   "id": "392be1a5",
   "metadata": {},
   "outputs": [
    {
     "data": {
      "text/plain": [
       "['1:0', '0:i', '-1:0', '0:-i']"
      ]
     },
     "execution_count": 36,
     "metadata": {},
     "output_type": "execute_result"
    }
   ],
   "source": [
    "g4z.elements"
   ]
  },
  {
   "cell_type": "code",
   "execution_count": 37,
   "id": "f3d6faec",
   "metadata": {},
   "outputs": [],
   "source": [
    "def sv_mult(s, v):\n",
    "    pass"
   ]
  },
  {
   "cell_type": "code",
   "execution_count": null,
   "id": "ed492d0e",
   "metadata": {},
   "outputs": [],
   "source": []
  }
 ],
 "metadata": {
  "kernelspec": {
   "display_name": "Python 3 (ipykernel)",
   "language": "python",
   "name": "python3"
  },
  "language_info": {
   "codemirror_mode": {
    "name": "ipython",
    "version": 3
   },
   "file_extension": ".py",
   "mimetype": "text/x-python",
   "name": "python",
   "nbconvert_exporter": "python",
   "pygments_lexer": "ipython3",
   "version": "3.11.5"
  }
 },
 "nbformat": 4,
 "nbformat_minor": 5
}
