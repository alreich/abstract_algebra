{
 "cells": [
  {
   "cell_type": "markdown",
   "id": "73c159e5",
   "metadata": {},
   "source": [
    "# Abstract Polynomials"
   ]
  },
  {
   "cell_type": "markdown",
   "id": "a2a370d0",
   "metadata": {},
   "source": [
    "This is an experimental notebook."
   ]
  },
  {
   "cell_type": "markdown",
   "id": "125cf5e4",
   "metadata": {},
   "source": [
    "## Ordinary Polynomials"
   ]
  },
  {
   "cell_type": "markdown",
   "id": "6f4965b5",
   "metadata": {},
   "source": [
    "Rolling my own polynomials just to see how difficult/useful this might be..."
   ]
  },
  {
   "cell_type": "code",
   "execution_count": 1,
   "id": "7109e842",
   "metadata": {},
   "outputs": [],
   "source": [
    "from polynomials import *"
   ]
  },
  {
   "cell_type": "raw",
   "id": "1c0472c3",
   "metadata": {},
   "source": [
    "import functools as fnc\n",
    "import itertools as it\n",
    "\n",
    "\n",
    "def power(x, n):\n",
    "    result = 1\n",
    "    for _ in range(n):\n",
    "        result = result * x\n",
    "    return result\n",
    "\n",
    "\n",
    "class Term:\n",
    "    \"\"\"Represents a term of a polynomial.  Here's an example polynomial with four\n",
    "    terms, separated by spaces: -2 -4x +7x^2 -3x^4\n",
    "    \"\"\"\n",
    "    \n",
    "    def __init__(self, coefficient, order):\n",
    "        self.__coefficient = coefficient\n",
    "        self.__order = order\n",
    "        self.__varname = \"x\"\n",
    "        \n",
    "    def __repr__(self):\n",
    "        return f\"Term({self.__coefficient},{self.__order})\"\n",
    "    \n",
    "    def __str__(self):\n",
    "        if self.__coefficient > 0:\n",
    "            sign = \"+\"\n",
    "        else:\n",
    "            sign = \"\"\n",
    "        if self.__order == 0:\n",
    "            return f\"{sign}{self.__coefficient}\"\n",
    "        elif self.__order == 1:\n",
    "            return f\"{sign}{self.__coefficient}{self.__varname}\"\n",
    "        else:\n",
    "            return f\"{sign}{self.__coefficient}{self.__varname}^{self.__order}\"\n",
    "        \n",
    "    def __call__(self, x):\n",
    "        return self.__coefficient * power(x, self.__order)\n",
    "    \n",
    "    def __add__(self, other):\n",
    "        if self.__order == other.__order:\n",
    "            return Term(self.__coefficient + other.__coefficient, self.__order)\n",
    "        else:\n",
    "            raise ValueError(f\"Terms must be of the same order, {self.__order} != {other.__order}\")\n",
    "    \n",
    "    def __mul__(self, other):\n",
    "        return Term(self.__coefficient * other.__coefficient,\n",
    "                    self.__order + other.__order)\n",
    "    \n",
    "    def __eq__(self, other):\n",
    "        return (self.__varname == other.__varname and\n",
    "                self.__order == other.__order and\n",
    "                self.__coefficient == other.__coefficient)\n",
    "    \n",
    "    @property\n",
    "    def coefficient(self):\n",
    "        return self.__coefficient\n",
    "    \n",
    "    @property\n",
    "    def order(self):\n",
    "        return self.__order\n",
    "    \n",
    "    def varname(self, newname=None):\n",
    "        if newname is not None:\n",
    "            if isinstance(newname, str):\n",
    "                self.__varname = newname\n",
    "            else:\n",
    "                raise ValueError(\"Variable name must be a string.\")\n",
    "        return self.__varname\n",
    "    \n",
    "    def is_constant(self):\n",
    "        if self.__order == 0:\n",
    "            return self.__coefficient\n",
    "        else:\n",
    "            return False\n",
    "        \n",
    "    def is_linear(self):\n",
    "        if self.__order == 1:\n",
    "            return self.__coefficient\n",
    "        else:\n",
    "            return False\n",
    "\n",
    "\n",
    "class Polynomial:\n",
    "    \"\"\"A callable class for polynomials.  The constructor takes the polynomial as a \n",
    "    single string, as long as the terms of the polynomial are separated by spaces.\n",
    "    \n",
    "    Example: Polynomial('-4x -2 -3x^4 +7x^2', 'x') ==> '-2 -4x 7x^2 -3x^4'\n",
    "    \"\"\"\n",
    "    \n",
    "    def __init__(self, poly_string, varname):\n",
    "        # self.__terms = sorted(parse_polynomial(poly_string, varname),\n",
    "        #                       key=lambda t: t.order)\n",
    "        self.__terms = [term for term in combine_like_terms(parse_polynomial(poly_string, varname))\n",
    "                        if term.coefficient != 0]\n",
    "        if len(self.__terms) == 0:\n",
    "            self.__terms.append(Term(0,0))\n",
    "\n",
    "    def __repr__(self):\n",
    "        poly_str = \"\"\n",
    "        for term in self.__terms:\n",
    "            poly_str += \" \" + str(term)\n",
    "        return poly_str\n",
    "    \n",
    "    def __call__(self, x):\n",
    "        return fnc.reduce(lambda a,b: a + b,\n",
    "                          map(lambda term: term(x), self.__terms))\n",
    "    \n",
    "    def terms(self):\n",
    "        return self.__terms\n",
    "\n",
    "\n",
    "def parse_term(term_str, varname):\n",
    "    \"\"\"A hacky term string parser.  Returns a Term from the input string.\"\"\"\n",
    "\n",
    "    if varname in term_str:\n",
    "        varpower = varname + \"^\"\n",
    "        if varpower in term_str:\n",
    "            args = list(map(lambda x: int(x), term_str.split(varpower)))\n",
    "        else:\n",
    "            foo = term_str.split(varname)[0]\n",
    "            if foo == '+' or foo == '-':\n",
    "                coeff_str = foo + '1'\n",
    "                args = [int(coeff_str), 1]\n",
    "            else:\n",
    "                args = [int(foo), 1]\n",
    "    else:\n",
    "        args = [int(term_str), 0]\n",
    "\n",
    "    return Term(args[0], args[1])\n",
    "\n",
    "\n",
    "def parse_polynomial(poly_str, varname):\n",
    "    \"\"\"An extreme hack.  Terms in polynomials have to be separated by a space.\n",
    "    Example polynomial string where varname is 'x': '-2 -4x +7x^2 -3x^4'\n",
    "    \"\"\"\n",
    "    return [parse_term(term, varname) for term in poly_str.split()]\n",
    "\n",
    "\n",
    "def combine_like_terms(terms):\n",
    "    \"\"\"Given a list of Terms, this function returns a possibly smaller list of Terms,\n",
    "    where terms with the same order (\"like terms\") have been combined.\"\"\"\n",
    "    result = list()\n",
    "    # NOTE: 'groupby' **requires** the input list be sorted on the key used for grouping\n",
    "    terms_sorted = sorted(terms, key=lambda x: x.order)\n",
    "    for _, like_terms in it.groupby(terms_sorted, lambda x: x.order):\n",
    "        combined_term = fnc.reduce(lambda t,s: t + s, like_terms)\n",
    "        result.append(combined_term)\n",
    "    return result"
   ]
  },
  {
   "cell_type": "code",
   "execution_count": 2,
   "id": "032e55ee",
   "metadata": {},
   "outputs": [
    {
     "name": "stdout",
     "output_type": "stream",
     "text": [
      " -2 -4x +7x^2 -3x^4\n"
     ]
    },
    {
     "data": {
      "text/plain": [
       "[Term(-2,0), Term(-4,1), Term(7,2), Term(-3,4)]"
      ]
     },
     "execution_count": 2,
     "metadata": {},
     "output_type": "execute_result"
    }
   ],
   "source": [
    "polystr = \"-2 +7x^2 -4x -3x^4\"\n",
    "\n",
    "p = Polynomial(polystr, 'x')\n",
    "print(p)\n",
    "p.terms()"
   ]
  },
  {
   "cell_type": "code",
   "execution_count": 3,
   "id": "2f2fd93d",
   "metadata": {},
   "outputs": [
    {
     "name": "stdout",
     "output_type": "stream",
     "text": [
      "-194\n"
     ]
    }
   ],
   "source": [
    "y = 3\n",
    "print(-2 - 4*y + 7*y**2 - 3*y**4)"
   ]
  },
  {
   "cell_type": "code",
   "execution_count": 4,
   "id": "74cd3ad0",
   "metadata": {},
   "outputs": [
    {
     "data": {
      "text/plain": [
       "-194"
      ]
     },
     "execution_count": 4,
     "metadata": {},
     "output_type": "execute_result"
    }
   ],
   "source": [
    "p(3)"
   ]
  },
  {
   "cell_type": "code",
   "execution_count": 5,
   "id": "2b5efdb0",
   "metadata": {},
   "outputs": [
    {
     "name": "stdout",
     "output_type": "stream",
     "text": [
      " -2 -4x +7x^2 -3x^4\n"
     ]
    },
    {
     "data": {
      "text/plain": [
       "[Term(-2,0), Term(-4,1), Term(7,2), Term(-3,4)]"
      ]
     },
     "execution_count": 5,
     "metadata": {},
     "output_type": "execute_result"
    }
   ],
   "source": [
    "polystr = \"-2 -4x^1 +7x^2 -3x^4\"  # Added '^1' to linear term\n",
    "\n",
    "p = Polynomial(polystr, 'x')\n",
    "print(p)\n",
    "p.terms()"
   ]
  },
  {
   "cell_type": "code",
   "execution_count": 6,
   "id": "751994f7",
   "metadata": {},
   "outputs": [
    {
     "name": "stdout",
     "output_type": "stream",
     "text": [
      " -2 -4x +7x^2 -3x^4\n"
     ]
    },
    {
     "data": {
      "text/plain": [
       "[Term(-2,0), Term(-4,1), Term(7,2), Term(-3,4)]"
      ]
     },
     "execution_count": 6,
     "metadata": {},
     "output_type": "execute_result"
    }
   ],
   "source": [
    "polystr = \"-2x^0 -4x^1 +7x^2 -3x^4\"  # Added 'x^0' to constant term\n",
    "\n",
    "p = Polynomial(polystr, 'x')\n",
    "print(p)\n",
    "p.terms()"
   ]
  },
  {
   "cell_type": "code",
   "execution_count": 7,
   "id": "080eed40",
   "metadata": {},
   "outputs": [
    {
     "name": "stdout",
     "output_type": "stream",
     "text": [
      " -2 -4x +7x^2 -3x^4\n"
     ]
    },
    {
     "data": {
      "text/plain": [
       "[Term(-2,0), Term(-4,1), Term(7,2), Term(-3,4)]"
      ]
     },
     "execution_count": 7,
     "metadata": {},
     "output_type": "execute_result"
    }
   ],
   "source": [
    "polystr = \"-4x -2 -3x^4 +7x^2\"  #  Terms not in order \n",
    "\n",
    "p = Polynomial(polystr, 'x')\n",
    "print(p)\n",
    "p.terms()"
   ]
  },
  {
   "cell_type": "code",
   "execution_count": 8,
   "id": "7a30b859",
   "metadata": {},
   "outputs": [
    {
     "name": "stdout",
     "output_type": "stream",
     "text": [
      " -1 -1x +7x^2 -3x^4\n"
     ]
    },
    {
     "data": {
      "text/plain": [
       "[Term(-1,0), Term(-1,1), Term(7,2), Term(-3,4)]"
      ]
     },
     "execution_count": 8,
     "metadata": {},
     "output_type": "execute_result"
    }
   ],
   "source": [
    "polystr = \"2 -x -3 +7x^2 -3x^4\"  # No coefficient on linear term, 'x'\n",
    "\n",
    "p = Polynomial(polystr, 'x')\n",
    "print(p)\n",
    "p.terms()"
   ]
  },
  {
   "cell_type": "code",
   "execution_count": 9,
   "id": "1fd719f0",
   "metadata": {},
   "outputs": [
    {
     "name": "stdout",
     "output_type": "stream",
     "text": [
      " -1 +7x^2 -3x^4\n"
     ]
    },
    {
     "data": {
      "text/plain": [
       "[Term(-1,0), Term(7,2), Term(-3,4)]"
      ]
     },
     "execution_count": 9,
     "metadata": {},
     "output_type": "execute_result"
    }
   ],
   "source": [
    "polystr = \"2 -x -3 +7x^2 +x -3x^4\"  # linear terms cancel\n",
    "\n",
    "p = Polynomial(polystr, 'x')\n",
    "print(p)\n",
    "p.terms()"
   ]
  },
  {
   "cell_type": "code",
   "execution_count": 10,
   "id": "6a3add1d",
   "metadata": {},
   "outputs": [
    {
     "name": "stdout",
     "output_type": "stream",
     "text": [
      " -3\n"
     ]
    },
    {
     "data": {
      "text/plain": [
       "[Term(-3,0)]"
      ]
     },
     "execution_count": 10,
     "metadata": {},
     "output_type": "execute_result"
    }
   ],
   "source": [
    "polystr = \"-4x^2 -x -3 +7x^2 +x -3x^2\"  # Quadratic terms collapse and cancel\n",
    "\n",
    "p = Polynomial(polystr, 'x')\n",
    "print(p)\n",
    "p.terms()"
   ]
  },
  {
   "cell_type": "code",
   "execution_count": 11,
   "id": "1d243366",
   "metadata": {},
   "outputs": [],
   "source": [
    "test_terms = [Term(-2,0), Term(-4,1), Term(-1,0), Term(7,2), Term(-3,4), Term(-2,2)]"
   ]
  },
  {
   "cell_type": "code",
   "execution_count": 12,
   "id": "a1594a9b",
   "metadata": {},
   "outputs": [
    {
     "name": "stdout",
     "output_type": "stream",
     "text": [
      "[Term(-2,0), Term(-4,1), Term(-1,0), Term(7,2), Term(-3,4), Term(-2,2)]\n",
      "[Term(-3,0), Term(-4,1), Term(5,2), Term(-3,4)]\n"
     ]
    }
   ],
   "source": [
    "print(test_terms)\n",
    "print(combine_like_terms(test_terms))"
   ]
  },
  {
   "cell_type": "code",
   "execution_count": 13,
   "id": "97ffaee6",
   "metadata": {},
   "outputs": [
    {
     "data": {
      "text/plain": [
       " -3 -4x +5x^2 -3x^4"
      ]
     },
     "execution_count": 13,
     "metadata": {},
     "output_type": "execute_result"
    }
   ],
   "source": [
    "polystr2 = \"-2 -4x -1 +7x^2 -3x^4 -2x^2\"\n",
    "p2 = Polynomial(polystr2, 'x')\n",
    "p2"
   ]
  },
  {
   "cell_type": "code",
   "execution_count": 14,
   "id": "35ace90d",
   "metadata": {},
   "outputs": [
    {
     "data": {
      "text/plain": [
       " 0"
      ]
     },
     "execution_count": 14,
     "metadata": {},
     "output_type": "execute_result"
    }
   ],
   "source": [
    "polystr3 = \"-2 +3x^4 -4x +2 +7x^2 +4x -3x^4 -7x^2\"\n",
    "p3 = Polynomial(polystr3, 'x')\n",
    "p3"
   ]
  },
  {
   "cell_type": "markdown",
   "id": "aa1cfc46",
   "metadata": {},
   "source": [
    "## NumPy Polynomials"
   ]
  },
  {
   "cell_type": "code",
   "execution_count": 15,
   "id": "6cffc524",
   "metadata": {},
   "outputs": [
    {
     "data": {
      "text/latex": [
       "$x \\mapsto \\text{-2.0} - \\text{4.0}\\,x + \\text{7.0}\\,x^{2}\\color{LightGray}{ + \\text{0.0}\\,x^{3}} - \\text{3.0}\\,x^{4}$"
      ],
      "text/plain": [
       "Polynomial([-2., -4.,  7.,  0., -3.], domain=[-1,  1], window=[-1,  1])"
      ]
     },
     "execution_count": 15,
     "metadata": {},
     "output_type": "execute_result"
    }
   ],
   "source": [
    "from numpy.polynomial import Polynomial\n",
    "\n",
    "poly_coeff = [-2, -4, 7, 0, -3]\n",
    "poly = Polynomial(poly_coeff)\n",
    "poly"
   ]
  },
  {
   "cell_type": "code",
   "execution_count": 16,
   "id": "74dad948",
   "metadata": {},
   "outputs": [
    {
     "data": {
      "text/plain": [
       "-194.0"
      ]
     },
     "execution_count": 16,
     "metadata": {},
     "output_type": "execute_result"
    }
   ],
   "source": [
    "poly(3)"
   ]
  },
  {
   "cell_type": "code",
   "execution_count": 17,
   "id": "80b127dd",
   "metadata": {},
   "outputs": [
    {
     "name": "stdout",
     "output_type": "stream",
     "text": [
      "-2.0 - 4.0·x¹ + 7.0·x² + 0.0·x³ - 3.0·x⁴\n"
     ]
    }
   ],
   "source": [
    "print(poly)"
   ]
  },
  {
   "cell_type": "code",
   "execution_count": 18,
   "id": "3fcd29bb",
   "metadata": {},
   "outputs": [
    {
     "data": {
      "text/latex": [
       "$x \\mapsto \\text{1.0} + \\text{1.0}\\,x$"
      ],
      "text/plain": [
       "Polynomial([1., 1.], domain=[-1,  1], window=[-1,  1])"
      ]
     },
     "execution_count": 18,
     "metadata": {},
     "output_type": "execute_result"
    }
   ],
   "source": [
    "poly1 = Polynomial([1, 1])\n",
    "poly1"
   ]
  },
  {
   "cell_type": "code",
   "execution_count": 19,
   "id": "abfdfbb7",
   "metadata": {},
   "outputs": [
    {
     "data": {
      "text/latex": [
       "$x \\mapsto \\text{1.0} - \\text{1.0}\\,x$"
      ],
      "text/plain": [
       "Polynomial([ 1., -1.], domain=[-1,  1], window=[-1,  1])"
      ]
     },
     "execution_count": 19,
     "metadata": {},
     "output_type": "execute_result"
    }
   ],
   "source": [
    "poly2 = Polynomial([1, -1])\n",
    "poly2"
   ]
  },
  {
   "cell_type": "code",
   "execution_count": 20,
   "id": "9bb10f54",
   "metadata": {},
   "outputs": [
    {
     "data": {
      "text/latex": [
       "$x \\mapsto \\text{1.0}\\color{LightGray}{ + \\text{0.0}\\,x} - \\text{1.0}\\,x^{2}$"
      ],
      "text/plain": [
       "Polynomial([ 1.,  0., -1.], domain=[-1.,  1.], window=[-1.,  1.])"
      ]
     },
     "execution_count": 20,
     "metadata": {},
     "output_type": "execute_result"
    }
   ],
   "source": [
    "poly1 * poly2"
   ]
  },
  {
   "cell_type": "code",
   "execution_count": null,
   "id": "cbeed519",
   "metadata": {},
   "outputs": [],
   "source": []
  }
 ],
 "metadata": {
  "kernelspec": {
   "display_name": "Python 3",
   "language": "python",
   "name": "python3"
  },
  "language_info": {
   "codemirror_mode": {
    "name": "ipython",
    "version": 3
   },
   "file_extension": ".py",
   "mimetype": "text/x-python",
   "name": "python",
   "nbconvert_exporter": "python",
   "pygments_lexer": "ipython3",
   "version": "3.7.7"
  }
 },
 "nbformat": 4,
 "nbformat_minor": 5
}
