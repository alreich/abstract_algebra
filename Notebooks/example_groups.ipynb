{
 "cells": [
  {
   "cell_type": "markdown",
   "id": "55ca7b66",
   "metadata": {},
   "source": [
    "# Example Groups"
   ]
  },
  {
   "cell_type": "markdown",
   "id": "f216c0c1",
   "metadata": {},
   "source": [
    "I'm using this notebook to implement example groups using the JSON format defined here.\n",
    "\n",
    "Many of these groups were obtained from [Group Explorer](https://nathancarter.github.io/group-explorer/index.html): <i>\"Visualization software for the abstract algebra classroom\".</i>"
   ]
  },
  {
   "cell_type": "code",
   "execution_count": 1,
   "id": "29dd244e",
   "metadata": {},
   "outputs": [],
   "source": [
    "import algebras as alg\n",
    "import json\n",
    "import os\n",
    "import numpy as np"
   ]
  },
  {
   "cell_type": "code",
   "execution_count": 2,
   "id": "2db025d9",
   "metadata": {},
   "outputs": [],
   "source": [
    "import itertools as it"
   ]
  },
  {
   "cell_type": "code",
   "execution_count": 3,
   "id": "214aa755",
   "metadata": {},
   "outputs": [],
   "source": [
    "# Path to this repo\n",
    "aa_path = os.path.join(os.getenv('PYPROJ'), 'abstract_algebra')\n",
    "\n",
    "# Path to a directory containing Algebra definitions in JSON\n",
    "alg_dir = os.path.join(aa_path, \"Algebras\")"
   ]
  },
  {
   "cell_type": "markdown",
   "id": "5e69938e",
   "metadata": {},
   "source": [
    "## S3 -- Symmetric Group on 3 Letters"
   ]
  },
  {
   "cell_type": "code",
   "execution_count": 4,
   "id": "a4f2ddfd",
   "metadata": {},
   "outputs": [
    {
     "name": "stdout",
     "output_type": "stream",
     "text": [
      "{\"type\": \"Group\",\r\n",
      " \"name\": \"S3\",\r\n",
      " \"description\": \"Symmetric group on 3 letters\",\r\n",
      " \"element_names\": [\"e\", \"r\", \"r^2\", \"f\", \"fr\", \"rf\"],\r\n",
      " \"mult_table\": [[0, 1, 2, 3, 4, 5],\r\n",
      "                [1, 2, 0, 5, 3, 4],\r\n",
      "                [2, 0, 1, 4, 5, 3],\r\n",
      "                [3, 4, 5, 0, 1, 2],\r\n",
      "                [4, 5, 3, 2, 0, 1],\r\n",
      "                [5, 3, 4, 1, 2, 0]]\r\n",
      "}\r\n"
     ]
    }
   ],
   "source": [
    "s3_path = os.path.join(alg_dir, \"s3_symmetric_group_on_3_letters.json\")\n",
    "!cat {s3_path}"
   ]
  },
  {
   "cell_type": "code",
   "execution_count": 5,
   "id": "00c5bc82",
   "metadata": {
    "scrolled": true
   },
   "outputs": [
    {
     "name": "stdout",
     "output_type": "stream",
     "text": [
      "\n",
      "Group : S3 : Symmetric group on 3 letters\n",
      "  Element Names: ['e', 'r', 'r^2', 'f', 'fr', 'rf']\n",
      "  Is Abelian? False\n",
      "  Inverses:  (** - indicates that it is its own inverse)\n",
      "    inv(e) = e   **\n",
      "    inv(r) = r^2 \n",
      "    inv(r^2) = r \n",
      "    inv(f) = f   **\n",
      "    inv(fr) = fr   **\n",
      "    inv(rf) = rf   **\n",
      "  Is associative? True\n",
      "  Cayley Table:\n",
      "      e    r  r^2    f   fr   rf\n",
      "      r  r^2    e   rf    f   fr\n",
      "    r^2    e    r   fr   rf    f\n",
      "      f   fr   rf    e    r  r^2\n",
      "     fr   rf    f  r^2    e    r\n",
      "     rf    f   fr    r  r^2    e\n"
     ]
    }
   ],
   "source": [
    "s3 = alg.Group(s3_path)\n",
    "s3.print_info()"
   ]
  },
  {
   "cell_type": "markdown",
   "id": "83e2a15f",
   "metadata": {},
   "source": [
    "## Z2 (Cyclic Group of Order 2) with Direct Products: Z2_x_Z2 and Z2_x_Z2_x_Z2"
   ]
  },
  {
   "cell_type": "code",
   "execution_count": 6,
   "id": "51c9dd28",
   "metadata": {},
   "outputs": [
    {
     "name": "stdout",
     "output_type": "stream",
     "text": [
      "\n",
      "Group : Z2 : Cyclic group of order 2\n",
      "  Element Names: ['e', 'a']\n",
      "  Is Abelian? True\n",
      "  Inverses:  (** - indicates that it is its own inverse)\n",
      "    inv(e) = e   **\n",
      "    inv(a) = a   **\n",
      "  Is associative? True\n",
      "  Cayley Table:\n",
      "    e  a\n",
      "    a  e\n",
      "\n",
      "Group : Z2_x_Z2 : Direct product of Z2 & Z2\n",
      "  Element Names: ['e:e', 'e:a', 'a:e', 'a:a']\n",
      "  Is Abelian? True\n",
      "  Inverses:  (** - indicates that it is its own inverse)\n",
      "    inv(e:e) = e:e   **\n",
      "    inv(e:a) = e:a   **\n",
      "    inv(a:e) = a:e   **\n",
      "    inv(a:a) = a:a   **\n",
      "  Is associative? True\n",
      "  Cayley Table:\n",
      "    e:e  e:a  a:e  a:a\n",
      "    e:a  e:e  a:a  a:e\n",
      "    a:e  a:a  e:e  e:a\n",
      "    a:a  a:e  e:a  e:e\n",
      "\n",
      "Group : Z2_x_Z2_x_Z2 : Direct product of Z2_x_Z2 & Z2\n",
      "  Element Names: ['e:e:e', 'e:e:a', 'e:a:e', 'e:a:a', 'a:e:e', 'a:e:a', 'a:a:e', 'a:a:a']\n",
      "  Is Abelian? True\n",
      "  Inverses:  (** - indicates that it is its own inverse)\n",
      "    inv(e:e:e) = e:e:e   **\n",
      "    inv(e:e:a) = e:e:a   **\n",
      "    inv(e:a:e) = e:a:e   **\n",
      "    inv(e:a:a) = e:a:a   **\n",
      "    inv(a:e:e) = a:e:e   **\n",
      "    inv(a:e:a) = a:e:a   **\n",
      "    inv(a:a:e) = a:a:e   **\n",
      "    inv(a:a:a) = a:a:a   **\n",
      "  Is associative? True\n",
      "  Cayley Table:\n",
      "    e:e:e  e:e:a  e:a:e  e:a:a  a:e:e  a:e:a  a:a:e  a:a:a\n",
      "    e:e:a  e:e:e  e:a:a  e:a:e  a:e:a  a:e:e  a:a:a  a:a:e\n",
      "    e:a:e  e:a:a  e:e:e  e:e:a  a:a:e  a:a:a  a:e:e  a:e:a\n",
      "    e:a:a  e:a:e  e:e:a  e:e:e  a:a:a  a:a:e  a:e:a  a:e:e\n",
      "    a:e:e  a:e:a  a:a:e  a:a:a  e:e:e  e:e:a  e:a:e  e:a:a\n",
      "    a:e:a  a:e:e  a:a:a  a:a:e  e:e:a  e:e:e  e:a:a  e:a:e\n",
      "    a:a:e  a:a:a  a:e:e  a:e:a  e:a:e  e:a:a  e:e:e  e:e:a\n",
      "    a:a:a  a:a:e  a:e:a  a:e:e  e:a:a  e:a:e  e:e:a  e:e:e\n"
     ]
    }
   ],
   "source": [
    "z2 = alg.generate_cyclic_group(2)\n",
    "\n",
    "z2xz2 = z2 * z2\n",
    "z2xz2xz2 = z2 * z2 * z2\n",
    "\n",
    "z2.print_info()\n",
    "z2xz2.print_info()\n",
    "z2xz2xz2.print_info()"
   ]
  },
  {
   "cell_type": "code",
   "execution_count": 7,
   "id": "a6815d0c",
   "metadata": {},
   "outputs": [
    {
     "data": {
      "text/plain": [
       "[]"
      ]
     },
     "execution_count": 7,
     "metadata": {},
     "output_type": "execute_result"
    }
   ],
   "source": [
    "z2.proper_subgroups()"
   ]
  },
  {
   "cell_type": "code",
   "execution_count": 8,
   "id": "a0058c04",
   "metadata": {},
   "outputs": [
    {
     "data": {
      "text/plain": [
       "[Group('Z2_x_Z2_subgroup_0',\n",
       " 'Subgroup of: Direct product of Z2 & Z2',\n",
       " ['e:e', 'a:a'],\n",
       " [[0, 1], [1, 0]]) ,\n",
       " Group('Z2_x_Z2_subgroup_1',\n",
       " 'Subgroup of: Direct product of Z2 & Z2',\n",
       " ['e:e', 'a:e'],\n",
       " [[0, 1], [1, 0]]) ,\n",
       " Group('Z2_x_Z2_subgroup_2',\n",
       " 'Subgroup of: Direct product of Z2 & Z2',\n",
       " ['e:e', 'e:a'],\n",
       " [[0, 1], [1, 0]]) ]"
      ]
     },
     "execution_count": 8,
     "metadata": {},
     "output_type": "execute_result"
    }
   ],
   "source": [
    "z2xz2.proper_subgroups()"
   ]
  },
  {
   "cell_type": "code",
   "execution_count": 9,
   "id": "3bc768d6",
   "metadata": {},
   "outputs": [],
   "source": [
    "z2xz2xz2_subgroups = z2xz2xz2.proper_subgroups()"
   ]
  },
  {
   "cell_type": "code",
   "execution_count": 10,
   "id": "4abc574d",
   "metadata": {},
   "outputs": [
    {
     "data": {
      "text/plain": [
       "14"
      ]
     },
     "execution_count": 10,
     "metadata": {},
     "output_type": "execute_result"
    }
   ],
   "source": [
    "len(z2xz2xz2_subgroups)"
   ]
  },
  {
   "cell_type": "code",
   "execution_count": 11,
   "id": "958771b1",
   "metadata": {},
   "outputs": [
    {
     "data": {
      "text/plain": [
       "[2, 2, 4, 4, 4, 2, 2, 4, 2, 2, 4, 4, 4, 2]"
      ]
     },
     "execution_count": 11,
     "metadata": {},
     "output_type": "execute_result"
    }
   ],
   "source": [
    "[g.order() for g in z2xz2xz2_subgroups]"
   ]
  },
  {
   "cell_type": "code",
   "execution_count": 12,
   "id": "acc21fe0",
   "metadata": {},
   "outputs": [
    {
     "name": "stdout",
     "output_type": "stream",
     "text": [
      "Group('Z2_x_Z2_x_Z2_subgroup_0',\n",
      "'Subgroup of: Direct product of Z2_x_Z2 & Z2',\n",
      "['e:e:e', 'a:a:e'],\n",
      "[[0, 1], [1, 0]]\n",
      ")\n",
      "Group('Z2_x_Z2_x_Z2_subgroup_1',\n",
      "'Subgroup of: Direct product of Z2_x_Z2 & Z2',\n",
      "['e:e:e', 'e:a:e'],\n",
      "[[0, 1], [1, 0]]\n",
      ")\n",
      "Group('Z2_x_Z2_x_Z2_subgroup_2',\n",
      "'Subgroup of: Direct product of Z2_x_Z2 & Z2',\n",
      "['e:e:e', 'e:e:a', 'a:e:e', 'a:e:a'],\n",
      "[[0, 1, 2, 3], [1, 0, 3, 2], [2, 3, 0, 1], [3, 2, 1, 0]]\n",
      ")\n",
      "Group('Z2_x_Z2_x_Z2_subgroup_3',\n",
      "'Subgroup of: Direct product of Z2_x_Z2 & Z2',\n",
      "['e:e:e', 'e:a:e', 'a:e:a', 'a:a:a'],\n",
      "[[0, 1, 2, 3], [1, 0, 3, 2], [2, 3, 0, 1], [3, 2, 1, 0]]\n",
      ")\n",
      "Group('Z2_x_Z2_x_Z2_subgroup_4',\n",
      "'Subgroup of: Direct product of Z2_x_Z2 & Z2',\n",
      "['e:e:e', 'e:a:a', 'a:e:e', 'a:a:a'],\n",
      "[[0, 1, 2, 3], [1, 0, 3, 2], [2, 3, 0, 1], [3, 2, 1, 0]]\n",
      ")\n",
      "Group('Z2_x_Z2_x_Z2_subgroup_5',\n",
      "'Subgroup of: Direct product of Z2_x_Z2 & Z2',\n",
      "['e:e:e', 'e:a:a'],\n",
      "[[0, 1], [1, 0]]\n",
      ")\n",
      "Group('Z2_x_Z2_x_Z2_subgroup_6',\n",
      "'Subgroup of: Direct product of Z2_x_Z2 & Z2',\n",
      "['e:e:e', 'a:e:a'],\n",
      "[[0, 1], [1, 0]]\n",
      ")\n",
      "Group('Z2_x_Z2_x_Z2_subgroup_7',\n",
      "'Subgroup of: Direct product of Z2_x_Z2 & Z2',\n",
      "['e:e:e', 'e:e:a', 'e:a:e', 'e:a:a'],\n",
      "[[0, 1, 2, 3], [1, 0, 3, 2], [2, 3, 0, 1], [3, 2, 1, 0]]\n",
      ")\n",
      "Group('Z2_x_Z2_x_Z2_subgroup_8',\n",
      "'Subgroup of: Direct product of Z2_x_Z2 & Z2',\n",
      "['e:e:e', 'a:a:a'],\n",
      "[[0, 1], [1, 0]]\n",
      ")\n",
      "Group('Z2_x_Z2_x_Z2_subgroup_9',\n",
      "'Subgroup of: Direct product of Z2_x_Z2 & Z2',\n",
      "['e:e:e', 'a:e:e'],\n",
      "[[0, 1], [1, 0]]\n",
      ")\n",
      "Group('Z2_x_Z2_x_Z2_subgroup_10',\n",
      "'Subgroup of: Direct product of Z2_x_Z2 & Z2',\n",
      "['e:e:e', 'e:e:a', 'a:a:e', 'a:a:a'],\n",
      "[[0, 1, 2, 3], [1, 0, 3, 2], [2, 3, 0, 1], [3, 2, 1, 0]]\n",
      ")\n",
      "Group('Z2_x_Z2_x_Z2_subgroup_11',\n",
      "'Subgroup of: Direct product of Z2_x_Z2 & Z2',\n",
      "['e:e:e', 'e:a:a', 'a:e:a', 'a:a:e'],\n",
      "[[0, 1, 2, 3], [1, 0, 3, 2], [2, 3, 0, 1], [3, 2, 1, 0]]\n",
      ")\n",
      "Group('Z2_x_Z2_x_Z2_subgroup_12',\n",
      "'Subgroup of: Direct product of Z2_x_Z2 & Z2',\n",
      "['e:e:e', 'e:a:e', 'a:e:e', 'a:a:e'],\n",
      "[[0, 1, 2, 3], [1, 0, 3, 2], [2, 3, 0, 1], [3, 2, 1, 0]]\n",
      ")\n",
      "Group('Z2_x_Z2_x_Z2_subgroup_13',\n",
      "'Subgroup of: Direct product of Z2_x_Z2 & Z2',\n",
      "['e:e:e', 'e:e:a'],\n",
      "[[0, 1], [1, 0]]\n",
      ")\n"
     ]
    }
   ],
   "source": [
    "subs = z2xz2xz2_subgroups\n",
    "for sub in subs:\n",
    "    sub.pprint()"
   ]
  },
  {
   "cell_type": "markdown",
   "id": "9e15cb01",
   "metadata": {},
   "source": [
    "## Dihedral Group of Order 6"
   ]
  },
  {
   "cell_type": "markdown",
   "id": "ab246a44",
   "metadata": {},
   "source": [
    "[See Wikipedia](https://en.wikipedia.org/wiki/Dihedral_group_of_order_6)"
   ]
  },
  {
   "cell_type": "code",
   "execution_count": 13,
   "id": "7141379b",
   "metadata": {},
   "outputs": [
    {
     "name": "stdout",
     "output_type": "stream",
     "text": [
      "{\"type\": \"Group\",\r\n",
      " \"name\": \"D3\",\r\n",
      " \"description\": \"https://en.wikipedia.org/wiki/Dihedral_group_of_order_6\",\r\n",
      " \"element_names\": [\"e\", \"a\", \"b\", \"aba\", \"ab\", \"ba\"],\r\n",
      " \"mult_table\": [[0, 1, 2, 3, 4, 5],\r\n",
      "                [1, 0, 4, 5, 2, 3],\r\n",
      "                [2, 5, 0, 4, 3, 1],\r\n",
      "                [3, 4, 5, 0, 1, 2],\r\n",
      "                [4, 3, 1, 2, 5, 0],\r\n",
      "                [5, 2, 3, 1, 0, 4]]\r\n",
      "}"
     ]
    }
   ],
   "source": [
    "d3_path = os.path.join(alg_dir, \"d3_dihedral_group_of_order_6.json\")\n",
    "\n",
    "!cat {d3_path}"
   ]
  },
  {
   "cell_type": "code",
   "execution_count": 14,
   "id": "5c8e6a91",
   "metadata": {},
   "outputs": [
    {
     "name": "stdout",
     "output_type": "stream",
     "text": [
      "\n",
      "Group : D3 : https://en.wikipedia.org/wiki/Dihedral_group_of_order_6\n",
      "  Element Names: ['e', 'a', 'b', 'aba', 'ab', 'ba']\n",
      "  Is Abelian? False\n",
      "  Inverses:  (** - indicates that it is its own inverse)\n",
      "    inv(e) = e   **\n",
      "    inv(a) = a   **\n",
      "    inv(b) = b   **\n",
      "    inv(aba) = aba   **\n",
      "    inv(ab) = ba \n",
      "    inv(ba) = ab \n",
      "  Is associative? True\n",
      "  Cayley Table:\n",
      "      e    a    b  aba   ab   ba\n",
      "      a    e   ab   ba    b  aba\n",
      "      b   ba    e   ab  aba    a\n",
      "    aba   ab   ba    e    a    b\n",
      "     ab  aba    a    b   ba    e\n",
      "     ba    b  aba    a    e   ab\n"
     ]
    }
   ],
   "source": [
    "d3 = alg.Group(d3_path)\n",
    "\n",
    "d3.print_info()"
   ]
  },
  {
   "cell_type": "code",
   "execution_count": 15,
   "id": "848784be",
   "metadata": {},
   "outputs": [
    {
     "name": "stdout",
     "output_type": "stream",
     "text": [
      "Group('D3_subgroup_0',\n",
      "'Subgroup of: https://en.wikipedia.org/wiki/Dihedral_group_of_order_6',\n",
      "['e', 'aba'],\n",
      "[[0, 1], [1, 0]]\n",
      ")\n",
      "Group('D3_subgroup_1',\n",
      "'Subgroup of: https://en.wikipedia.org/wiki/Dihedral_group_of_order_6',\n",
      "['e', 'a'],\n",
      "[[0, 1], [1, 0]]\n",
      ")\n",
      "Group('D3_subgroup_2',\n",
      "'Subgroup of: https://en.wikipedia.org/wiki/Dihedral_group_of_order_6',\n",
      "['e', 'b'],\n",
      "[[0, 1], [1, 0]]\n",
      ")\n",
      "Group('D3_subgroup_3',\n",
      "'Subgroup of: https://en.wikipedia.org/wiki/Dihedral_group_of_order_6',\n",
      "['e', 'ab', 'ba'],\n",
      "[[0, 1, 2], [1, 2, 0], [2, 0, 1]]\n",
      ")\n"
     ]
    }
   ],
   "source": [
    "subs = d3.proper_subgroups()\n",
    "for sub in subs:\n",
    "    sub.pprint()"
   ]
  },
  {
   "cell_type": "markdown",
   "id": "dec5e386",
   "metadata": {},
   "source": [
    "# More Groups..."
   ]
  },
  {
   "cell_type": "markdown",
   "id": "09208e61",
   "metadata": {},
   "source": [
    "## A4 -- Alternating Group on 4 Letters"
   ]
  },
  {
   "cell_type": "code",
   "execution_count": 16,
   "id": "109c704f",
   "metadata": {},
   "outputs": [
    {
     "name": "stdout",
     "output_type": "stream",
     "text": [
      "{\"type\": \"Group\",\r\n",
      " \"name\": \"A_4\",\r\n",
      " \"description\": \"Alternating group on 4 letters (AKA Tetrahedral group)\",\r\n",
      " \"element_names\": [\"()\", \"(1 3 2)\", \"(1 2 3)\", \"(0 1)(2 3)\", \"(0 1 2)\", \"(0 1 3)\", \"(0 3 1)\",\r\n",
      "                   \"(0 3 2)\", \"(0 3)(1 2)\", \"(0 2 3)\", \"(0 2 1)\", \"(0 2)(1 3)\"],\r\n",
      " \"mult_table\": [[0, 1, 2, 3, 4, 5, 6, 7, 8, 9, 10, 11],\r\n",
      "                [1, 2, 0, 6, 7, 8, 10, 11, 9, 5, 3, 4],\r\n",
      "                [2, 0, 1, 10, 11, 9, 3, 4, 5, 8, 6, 7],\r\n",
      "                [3, 4, 5, 0, 1, 2, 9, 10, 11, 6, 7, 8],\r\n",
      "                [4, 5, 3, 9, 10, 11, 7, 8, 6, 2, 0, 1],\r\n",
      "                [5, 3, 4, 7, 8, 6, 0, 1, 2, 11, 9, 10],\r\n",
      "                [6, 7, 8, 1, 2, 0, 5, 3, 4, 10, 11, 9],\r\n",
      "                [7, 8, 6, 5, 3, 4, 11, 9, 10, 0, 1, 2],\r\n",
      "                [8, 6, 7, 11, 9, 10, 1, 2, 0, 4, 5, 3],\r\n",
      "                [9, 10, 11, 4, 5, 3, 2, 0, 1, 7, 8, 6],\r\n",
      "                [10, 11, 9, 2, 0, 1, 8, 6, 7, 3, 4, 5],\r\n",
      "                [11, 9, 10, 8, 6, 7, 4, 5, 3, 1, 2, 0]]\r\n",
      "}\r\n"
     ]
    }
   ],
   "source": [
    "a4_path = os.path.join(alg_dir, \"a4_alternating_group_on_4_letters.json\")\n",
    "!cat {a4_path}"
   ]
  },
  {
   "cell_type": "code",
   "execution_count": 17,
   "id": "d0e0ef92",
   "metadata": {},
   "outputs": [
    {
     "name": "stdout",
     "output_type": "stream",
     "text": [
      "Group('A_4',\n",
      "'Alternating group on 4 letters (AKA Tetrahedral group)',\n",
      "['()', '(1 3 2)', '(1 2 3)', '(0 1)(2 3)', '(0 1 2)', '(0 1 3)', '(0 3 1)', '(0 3 2)', '(0 3)(1 2)', '(0 2 3)', '(0 2 1)', '(0 2)(1 3)'],\n",
      "[[0, 1, 2, 3, 4, 5, 6, 7, 8, 9, 10, 11],\n",
      " [1, 2, 0, 6, 7, 8, 10, 11, 9, 5, 3, 4],\n",
      " [2, 0, 1, 10, 11, 9, 3, 4, 5, 8, 6, 7],\n",
      " [3, 4, 5, 0, 1, 2, 9, 10, 11, 6, 7, 8],\n",
      " [4, 5, 3, 9, 10, 11, 7, 8, 6, 2, 0, 1],\n",
      " [5, 3, 4, 7, 8, 6, 0, 1, 2, 11, 9, 10],\n",
      " [6, 7, 8, 1, 2, 0, 5, 3, 4, 10, 11, 9],\n",
      " [7, 8, 6, 5, 3, 4, 11, 9, 10, 0, 1, 2],\n",
      " [8, 6, 7, 11, 9, 10, 1, 2, 0, 4, 5, 3],\n",
      " [9, 10, 11, 4, 5, 3, 2, 0, 1, 7, 8, 6],\n",
      " [10, 11, 9, 2, 0, 1, 8, 6, 7, 3, 4, 5],\n",
      " [11, 9, 10, 8, 6, 7, 4, 5, 3, 1, 2, 0]]\n",
      ")\n"
     ]
    }
   ],
   "source": [
    "a4 = alg.Group(a4_path)\n",
    "\n",
    "#a4.print_info()\n",
    "a4.pprint()"
   ]
  },
  {
   "cell_type": "code",
   "execution_count": 18,
   "id": "3c57b272",
   "metadata": {},
   "outputs": [
    {
     "name": "stdout",
     "output_type": "stream",
     "text": [
      "Group('A_4_subgroup_0',\n",
      "'Subgroup of: Alternating group on 4 letters (AKA Tetrahedral group)',\n",
      "['()', '(0 3 2)', '(0 2 3)'],\n",
      "[[0, 1, 2], [1, 2, 0], [2, 0, 1]]\n",
      ")\n",
      "Group('A_4_subgroup_1',\n",
      "'Subgroup of: Alternating group on 4 letters (AKA Tetrahedral group)',\n",
      "['()', '(0 2)(1 3)'],\n",
      "[[0, 1], [1, 0]]\n",
      ")\n",
      "Group('A_4_subgroup_2',\n",
      "'Subgroup of: Alternating group on 4 letters (AKA Tetrahedral group)',\n",
      "['()', '(1 3 2)', '(1 2 3)'],\n",
      "[[0, 1, 2], [1, 2, 0], [2, 0, 1]]\n",
      ")\n",
      "Group('A_4_subgroup_3',\n",
      "'Subgroup of: Alternating group on 4 letters (AKA Tetrahedral group)',\n",
      "['()', '(0 1)(2 3)', '(0 3)(1 2)', '(0 2)(1 3)'],\n",
      "[[0, 1, 2, 3], [1, 0, 3, 2], [2, 3, 0, 1], [3, 2, 1, 0]]\n",
      ")\n",
      "Group('A_4_subgroup_4',\n",
      "'Subgroup of: Alternating group on 4 letters (AKA Tetrahedral group)',\n",
      "['()', '(0 1 3)', '(0 3 1)'],\n",
      "[[0, 1, 2], [1, 2, 0], [2, 0, 1]]\n",
      ")\n",
      "Group('A_4_subgroup_5',\n",
      "'Subgroup of: Alternating group on 4 letters (AKA Tetrahedral group)',\n",
      "['()', '(0 1)(2 3)'],\n",
      "[[0, 1], [1, 0]]\n",
      ")\n",
      "Group('A_4_subgroup_6',\n",
      "'Subgroup of: Alternating group on 4 letters (AKA Tetrahedral group)',\n",
      "['()', '(0 1 2)', '(0 2 1)'],\n",
      "[[0, 1, 2], [1, 2, 0], [2, 0, 1]]\n",
      ")\n",
      "Group('A_4_subgroup_7',\n",
      "'Subgroup of: Alternating group on 4 letters (AKA Tetrahedral group)',\n",
      "['()', '(0 3)(1 2)'],\n",
      "[[0, 1], [1, 0]]\n",
      ")\n"
     ]
    }
   ],
   "source": [
    "subs = a4.proper_subgroups()\n",
    "for sub in subs:\n",
    "    sub.pprint()"
   ]
  },
  {
   "cell_type": "markdown",
   "id": "2ccafac3",
   "metadata": {},
   "source": [
    "## D4 -- Dihedral Group on Four Vertices"
   ]
  },
  {
   "cell_type": "code",
   "execution_count": 19,
   "id": "f46805d6",
   "metadata": {},
   "outputs": [
    {
     "name": "stdout",
     "output_type": "stream",
     "text": [
      "{\"type\": \"Group\",\r\n",
      " \"name\": \"D_4\",\r\n",
      " \"description\": \"Dihedral group on four vertices\",\r\n",
      " \"element_names\": [\"e\", \"r\", \"r^2\", \"r^3\", \"f\", \"fr\", \"r^2f\", \"rf\"],\r\n",
      " \"alt_elem_names\": [\"()\", \"(0 1 2 3)\", \"(0 2)(1 3)\", \"(0 3 2 1)\",\r\n",
      "                    \"(0 1)(2 3)\", \"(1 3)\", \"(0 3)(1 2)\", \"(0 2)\"],\r\n",
      " \"mult_table\": [[0, 1, 2, 3, 4, 5, 6, 7],\r\n",
      "                [1, 2, 3, 0, 7, 4, 5, 6],\r\n",
      "                [2, 3, 0, 1, 6, 7, 4, 5],\r\n",
      "                [3, 0, 1, 2, 5, 6, 7, 4],\r\n",
      "                [4, 5, 6, 7, 0, 1, 2, 3],\r\n",
      "                [5, 6, 7, 4, 3, 0, 1, 2],\r\n",
      "                [6, 7, 4, 5, 2, 3, 0, 1],\r\n",
      "                [7, 4, 5, 6, 1, 2, 3, 0]]\r\n",
      "}"
     ]
    }
   ],
   "source": [
    "d4_path = os.path.join(alg_dir, \"d4_dihedral_group_on_4_vertices.json\")\n",
    "!cat {d4_path}"
   ]
  },
  {
   "cell_type": "code",
   "execution_count": 20,
   "id": "8e4264b5",
   "metadata": {},
   "outputs": [
    {
     "name": "stdout",
     "output_type": "stream",
     "text": [
      "Group('D_4',\n",
      "'Dihedral group on four vertices',\n",
      "['e', 'r', 'r^2', 'r^3', 'f', 'fr', 'r^2f', 'rf'],\n",
      "[[0, 1, 2, 3, 4, 5, 6, 7],\n",
      " [1, 2, 3, 0, 7, 4, 5, 6],\n",
      " [2, 3, 0, 1, 6, 7, 4, 5],\n",
      " [3, 0, 1, 2, 5, 6, 7, 4],\n",
      " [4, 5, 6, 7, 0, 1, 2, 3],\n",
      " [5, 6, 7, 4, 3, 0, 1, 2],\n",
      " [6, 7, 4, 5, 2, 3, 0, 1],\n",
      " [7, 4, 5, 6, 1, 2, 3, 0]]\n",
      ")\n"
     ]
    }
   ],
   "source": [
    "d4 = alg.Group(d4_path)\n",
    "#d4.print_info()\n",
    "d4.pprint()"
   ]
  },
  {
   "cell_type": "code",
   "execution_count": 21,
   "id": "72573315",
   "metadata": {},
   "outputs": [
    {
     "name": "stdout",
     "output_type": "stream",
     "text": [
      "Group('D_4_subgroup_0',\n",
      "'Subgroup of: Dihedral group on four vertices',\n",
      "['e', 'r^2'],\n",
      "[[0, 1], [1, 0]]\n",
      ")\n",
      "Group('D_4_subgroup_1',\n",
      "'Subgroup of: Dihedral group on four vertices',\n",
      "['e', 'r^2f'],\n",
      "[[0, 1], [1, 0]]\n",
      ")\n",
      "Group('D_4_subgroup_2',\n",
      "'Subgroup of: Dihedral group on four vertices',\n",
      "['e', 'r^2', 'f', 'r^2f'],\n",
      "[[0, 1, 2, 3], [1, 0, 3, 2], [2, 3, 0, 1], [3, 2, 1, 0]]\n",
      ")\n",
      "Group('D_4_subgroup_3',\n",
      "'Subgroup of: Dihedral group on four vertices',\n",
      "['e', 'f'],\n",
      "[[0, 1], [1, 0]]\n",
      ")\n",
      "Group('D_4_subgroup_4',\n",
      "'Subgroup of: Dihedral group on four vertices',\n",
      "['e', 'r', 'r^2', 'r^3'],\n",
      "[[0, 1, 2, 3], [1, 2, 3, 0], [2, 3, 0, 1], [3, 0, 1, 2]]\n",
      ")\n",
      "Group('D_4_subgroup_5',\n",
      "'Subgroup of: Dihedral group on four vertices',\n",
      "['e', 'fr'],\n",
      "[[0, 1], [1, 0]]\n",
      ")\n",
      "Group('D_4_subgroup_6',\n",
      "'Subgroup of: Dihedral group on four vertices',\n",
      "['e', 'rf'],\n",
      "[[0, 1], [1, 0]]\n",
      ")\n",
      "Group('D_4_subgroup_7',\n",
      "'Subgroup of: Dihedral group on four vertices',\n",
      "['e', 'r^2', 'fr', 'rf'],\n",
      "[[0, 1, 2, 3], [1, 0, 3, 2], [2, 3, 0, 1], [3, 2, 1, 0]]\n",
      ")\n"
     ]
    }
   ],
   "source": [
    "subs = d4.proper_subgroups()\n",
    "for sub in subs:\n",
    "    sub.pprint()"
   ]
  },
  {
   "cell_type": "code",
   "execution_count": null,
   "id": "d09199e8",
   "metadata": {},
   "outputs": [],
   "source": []
  }
 ],
 "metadata": {
  "kernelspec": {
   "display_name": "Python 3",
   "language": "python",
   "name": "python3"
  },
  "language_info": {
   "codemirror_mode": {
    "name": "ipython",
    "version": 3
   },
   "file_extension": ".py",
   "mimetype": "text/x-python",
   "name": "python",
   "nbconvert_exporter": "python",
   "pygments_lexer": "ipython3",
   "version": "3.7.7"
  }
 },
 "nbformat": 4,
 "nbformat_minor": 5
}
