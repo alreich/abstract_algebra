{
 "cells": [
  {
   "cell_type": "markdown",
   "id": "b6523b92",
   "metadata": {},
   "source": [
    "# Scratchwork: Cayley-Dickson Algebras"
   ]
  },
  {
   "cell_type": "markdown",
   "id": "81513aad",
   "metadata": {},
   "source": [
    "The purpose of this notebook is to develop the functions required to perform the Cayley-Dickson construction within the ``finite_algebras`` module.\n",
    "\n",
    "In the Python module, ``finite_algebras``, all elements are strings.\n",
    "\n",
    "When direct products or Cayley-Dickson algebras are constructed, the component algebras' elements are concatentated (joined) using a string delimiter (':' by default).\n",
    "\n",
    "So, operations like scalar multiplication, negation, conjugation, etc, on the newly constructed \"compound\" elements, require some string manipulation to accomplish."
   ]
  },
  {
   "cell_type": "markdown",
   "id": "7b79999a",
   "metadata": {},
   "source": [
    "## Test Algebras"
   ]
  },
  {
   "cell_type": "code",
   "execution_count": 1,
   "id": "68cea7ff",
   "metadata": {},
   "outputs": [],
   "source": [
    "import finite_algebras as alg"
   ]
  },
  {
   "cell_type": "code",
   "execution_count": 35,
   "id": "37a0cd3b",
   "metadata": {},
   "outputs": [],
   "source": [
    "F3 = alg.generate_algebra_mod_n(3, elem_name='')\n",
    "F3sqr = F3.sqr()\n",
    "F3quad = F3sqr.sqr()\n",
    "\n",
    "F4 = alg.generate_algebra_mod_n(4, elem_name='')\n",
    "F4sqr = F4.sqr()\n",
    "\n",
    "F5 = alg.generate_algebra_mod_n(5, elem_name='')\n",
    "F5sqr = F5.sqr()\n",
    "\n",
    "F7 = alg.generate_algebra_mod_n(7, elem_name='')\n",
    "F7sqr = F7.sqr()"
   ]
  },
  {
   "cell_type": "markdown",
   "id": "de2b12cf",
   "metadata": {},
   "source": [
    "## Prototype Code"
   ]
  },
  {
   "cell_type": "code",
   "execution_count": 3,
   "id": "ba1cbec3",
   "metadata": {},
   "outputs": [],
   "source": [
    "# =====================================================================\n",
    "# Utilities for Squared Rings & Fields (i.e., Cayley-Dickson Algebras)\n",
    "# =====================================================================\n",
    "\n",
    "def cda_scalar_mult(scalar_name, elem_name, algebra):\n",
    "    \"\"\" Scalar multiplication. 'a' * 'c:d' = 'a*c:a*d'\n",
    "    Example: scalar_mult('2', '1:2', F3) ==> '2:1'\n",
    "    \"\"\"\n",
    "    delimiter = algebra.direct_product_delimiter()\n",
    "    components = elem_name.split(delimiter)\n",
    "    return delimiter.join(map(lambda x: algebra.mult(scalar_name, x), components))\n",
    "\n",
    "\n",
    "def cda_negate(elem_name, algebra):\n",
    "    \"\"\" Negation:  -'a:b' = '-a:-b'\n",
    "    Example: negate('1:2', F3) ==> '2:1'\n",
    "    \"\"\"\n",
    "    delimiter = algebra.direct_product_delimiter()\n",
    "    components = elem_name.split(delimiter)\n",
    "    return delimiter.join(map(lambda x: algebra.inv(x), components))\n",
    "\n",
    "\n",
    "def cda_conjugate(elem_name, algebra):\n",
    "    \"\"\" Conjugation: conj('a:b') = 'a:-b'\n",
    "    Example: conjugate('0:1', F3) ==> '0:2'\n",
    "    \"\"\"\n",
    "    delimiter = algebra.direct_product_delimiter()\n",
    "    components = elem_name.split(delimiter)\n",
    "    head = components[0]\n",
    "    tail = components[1:]\n",
    "    tail_negated = list(map(lambda x: algebra.inv(x), tail))\n",
    "    new_components = list(head) + tail_negated\n",
    "    return delimiter.join(new_components)\n",
    "\n",
    "\n",
    "def cda_sqr_abs_val(elem_name, algebra, alg_sqr):\n",
    "    \"\"\"Squared Absolute Value: 'a:b'^2 = 'a:b' * conj('a:b')\n",
    "    Example: sqr_abs_val('1:2', F3, F3sqr) ==> '2'\n",
    "    \"\"\"\n",
    "    delimiter = algebra.direct_product_delimiter()\n",
    "    if delimiter in elem_name:\n",
    "        # elem_name is not a scalar\n",
    "        val = alg_sqr.mult(elem_name, cda_conjugate(elem_name, algebra))\n",
    "    else:\n",
    "        # elem_name is a scalar\n",
    "        val = algebra.mult(elem_name, elem_name)\n",
    "    comp = val.split(delimiter)\n",
    "    return comp[0]\n",
    "\n",
    "\n",
    "# NOTE: The inverse function below is just for comparison/verification.\n",
    "# The Field method, mult_inv, is the better way to compute the inverse of an element.\n",
    "\n",
    "def cda_inverse(elem_name, algebra, alg_sqr):\n",
    "    \"\"\" Inversion: inv('a:b') = conj('a:b') / sqr_abs_val('a:b')\n",
    "    Only works for Fields, not Rings.\n",
    "    Example: inverse('1:1', F3, F3sqr) ==> '2:1'\n",
    "    \"\"\"\n",
    "    if elem_name == alg_sqr.zero:\n",
    "        raise ValueError(f\"The additive identity element, {elem_name}, does not have an inverse.\")\n",
    "    else:\n",
    "        delimiter = algebra.direct_product_delimiter()\n",
    "        absvalsqr = cda_sqr_abs_val(elem_name, algebra, alg_sqr)\n",
    "        absvalsqrinv = algebra.mult_inv(absvalsqr)\n",
    "        return cda_scalar_mult(absvalsqrinv, cda_conjugate(elem_name, algebra), algebra)"
   ]
  },
  {
   "cell_type": "markdown",
   "id": "4f34c91e",
   "metadata": {},
   "source": [
    "## Code Tests"
   ]
  },
  {
   "cell_type": "code",
   "execution_count": 4,
   "id": "82e7ed79",
   "metadata": {},
   "outputs": [],
   "source": [
    "tests = ['2', '1:2', '2:1:0:2', '0:0']"
   ]
  },
  {
   "cell_type": "code",
   "execution_count": 5,
   "id": "264a4e06",
   "metadata": {},
   "outputs": [],
   "source": [
    "Fn = F3\n",
    "FnSqr = F3sqr\n",
    "FnQuad = F3quad"
   ]
  },
  {
   "cell_type": "code",
   "execution_count": 6,
   "id": "3ba5c29d",
   "metadata": {},
   "outputs": [
    {
     "name": "stdout",
     "output_type": "stream",
     "text": [
      "2 x 2 = 1\n",
      "2 x 1:2 = 2:1\n",
      "2 x 2:1:0:2 = 1:2:0:1\n",
      "2 x 0:0 = 0:0\n"
     ]
    }
   ],
   "source": [
    "scalar = '2'\n",
    "for test in tests:\n",
    "    print(f\"{scalar} x {test} = {cda_scalar_mult(scalar, test, Fn)}\")"
   ]
  },
  {
   "cell_type": "code",
   "execution_count": 7,
   "id": "42d8993e",
   "metadata": {},
   "outputs": [
    {
     "name": "stdout",
     "output_type": "stream",
     "text": [
      "-(2) = 1\n",
      "-(1:2) = 2:1\n",
      "-(2:1:0:2) = 1:2:0:1\n",
      "-(0:0) = 0:0\n"
     ]
    }
   ],
   "source": [
    "for test in tests:\n",
    "    print(f\"-({test}) = {cda_negate(test, Fn)}\")"
   ]
  },
  {
   "cell_type": "code",
   "execution_count": 8,
   "id": "35504a5b",
   "metadata": {},
   "outputs": [
    {
     "name": "stdout",
     "output_type": "stream",
     "text": [
      "conj(2) = 2\n",
      "conj(1:2) = 1:1\n",
      "conj(2:1:0:2) = 2:2:0:1\n",
      "conj(0:0) = 0:0\n"
     ]
    }
   ],
   "source": [
    "for test in tests:\n",
    "    print(f\"conj({test}) = {cda_conjugate(test, Fn)}\")"
   ]
  },
  {
   "cell_type": "code",
   "execution_count": 9,
   "id": "95f76fb4",
   "metadata": {},
   "outputs": [
    {
     "name": "stdout",
     "output_type": "stream",
     "text": [
      "|2|^2 = 1\n",
      "|1:2|^2 = 2\n"
     ]
    }
   ],
   "source": [
    "for test in tests[:2]: # just look at the first two items in tests\n",
    "    print(f\"|{test}|^2 = {cda_sqr_abs_val(test, Fn, FnSqr)}\")"
   ]
  },
  {
   "cell_type": "code",
   "execution_count": 10,
   "id": "2bd7a191",
   "metadata": {},
   "outputs": [
    {
     "name": "stdout",
     "output_type": "stream",
     "text": [
      "inv(1:2) = 2:2\n"
     ]
    }
   ],
   "source": [
    "for test in tests[1:2]: # just look at the first two items in tests\n",
    "    print(f\"inv({test}) = {cda_inverse(test, Fn, FnSqr)}\")"
   ]
  },
  {
   "cell_type": "code",
   "execution_count": 11,
   "id": "282a40c6",
   "metadata": {},
   "outputs": [
    {
     "data": {
      "text/plain": [
       "'2:2'"
      ]
     },
     "execution_count": 11,
     "metadata": {},
     "output_type": "execute_result"
    }
   ],
   "source": [
    "FnSqr.mult_inv(tests[1])  # The better way to obtain an inverse"
   ]
  },
  {
   "cell_type": "code",
   "execution_count": 12,
   "id": "154ead3a",
   "metadata": {},
   "outputs": [
    {
     "data": {
      "text/plain": [
       "'1:0'"
      ]
     },
     "execution_count": 12,
     "metadata": {},
     "output_type": "execute_result"
    }
   ],
   "source": [
    "FnSqr.mult(tests[1], cda_inverse(tests[1], Fn, FnSqr))"
   ]
  },
  {
   "cell_type": "code",
   "execution_count": 13,
   "id": "033700f4",
   "metadata": {},
   "outputs": [
    {
     "name": "stdout",
     "output_type": "stream",
     "text": [
      "The additive identity element, 0:0, does not have an inverse.\n"
     ]
    }
   ],
   "source": [
    "try:\n",
    "    cda_inverse('0:0', Fn, FnSqr)\n",
    "except Exception as exc:\n",
    "    print(exc)"
   ]
  },
  {
   "cell_type": "markdown",
   "id": "e4aa882a",
   "metadata": {},
   "source": [
    "## String Manipulation"
   ]
  },
  {
   "cell_type": "code",
   "execution_count": 14,
   "id": "273bba28",
   "metadata": {},
   "outputs": [],
   "source": [
    "import re"
   ]
  },
  {
   "cell_type": "code",
   "execution_count": 15,
   "id": "4945bbfa",
   "metadata": {},
   "outputs": [],
   "source": [
    "def split_element(element, delimiter=':'):\n",
    "    if delimiter in element:\n",
    "        matches = list(re.finditer(delimiter, element))\n",
    "        mid = matches[len(matches) // 2]\n",
    "        return element[:mid.start()], element[mid.end():]\n",
    "    else:\n",
    "        return element"
   ]
  },
  {
   "cell_type": "markdown",
   "id": "7c6c5631",
   "metadata": {},
   "source": [
    "**split_element** tests:"
   ]
  },
  {
   "cell_type": "code",
   "execution_count": 16,
   "id": "9760f17f",
   "metadata": {},
   "outputs": [
    {
     "data": {
      "text/plain": [
       "('a:b', 'c:d')"
      ]
     },
     "execution_count": 16,
     "metadata": {},
     "output_type": "execute_result"
    }
   ],
   "source": [
    "x, y = split_element('a:b:c:d')\n",
    "x, y"
   ]
  },
  {
   "cell_type": "code",
   "execution_count": 17,
   "id": "71eaa674",
   "metadata": {},
   "outputs": [
    {
     "data": {
      "text/plain": [
       "('a', 'b')"
      ]
     },
     "execution_count": 17,
     "metadata": {},
     "output_type": "execute_result"
    }
   ],
   "source": [
    "u, v = split_element(x)\n",
    "u, v"
   ]
  },
  {
   "cell_type": "code",
   "execution_count": 18,
   "id": "5ed0cf0e",
   "metadata": {},
   "outputs": [
    {
     "data": {
      "text/plain": [
       "('a:b:c:d', 'e:f:g:h')"
      ]
     },
     "execution_count": 18,
     "metadata": {},
     "output_type": "execute_result"
    }
   ],
   "source": [
    "split_element('a:b:c:d:e:f:g:h')"
   ]
  },
  {
   "cell_type": "code",
   "execution_count": 19,
   "id": "3afc041a",
   "metadata": {},
   "outputs": [
    {
     "data": {
      "text/plain": [
       "'a'"
      ]
     },
     "execution_count": 19,
     "metadata": {},
     "output_type": "execute_result"
    }
   ],
   "source": [
    "split_element('a')"
   ]
  },
  {
   "cell_type": "code",
   "execution_count": 20,
   "id": "9b6ecb1a",
   "metadata": {},
   "outputs": [
    {
     "data": {
      "text/plain": [
       "''"
      ]
     },
     "execution_count": 20,
     "metadata": {},
     "output_type": "execute_result"
    }
   ],
   "source": [
    "split_element('')"
   ]
  },
  {
   "cell_type": "markdown",
   "id": "82562210",
   "metadata": {},
   "source": [
    "## Cayley-Dickson Multiplication"
   ]
  },
  {
   "cell_type": "markdown",
   "id": "75a00d9a",
   "metadata": {},
   "source": [
    "According to [Shafer, 1966]\n",
    "\n",
    "$a,b,c,d,\\mu \\in F$, $\\mu \\neq 0$, then $(a, b) \\times (c, d) = (a c + \\mu d \\overline{b}, \\overline{a} d + c b)$,\n",
    "\n",
    "where $\\overline{a} = a$ and $\\overline{(a, b)} = (\\overline{a}, -b)$"
   ]
  },
  {
   "cell_type": "code",
   "execution_count": 21,
   "id": "ac498502",
   "metadata": {},
   "outputs": [],
   "source": [
    "def conj(x, rng):\n",
    "    delim = rng.direct_product_delimiter()\n",
    "    if delim in x:\n",
    "        a, b = split_element(x, delim)\n",
    "        return conj(a, rng), rng.inv(b)\n",
    "    else:\n",
    "        return x"
   ]
  },
  {
   "cell_type": "code",
   "execution_count": 30,
   "id": "7b42bac8",
   "metadata": {},
   "outputs": [
    {
     "data": {
      "text/plain": [
       "('1', '5')"
      ]
     },
     "execution_count": 30,
     "metadata": {},
     "output_type": "execute_result"
    }
   ],
   "source": [
    "conj('1', F7)\n",
    "conj('1:2', F7)\n",
    "conj('1:2:3:4', F7sqr)"
   ]
  },
  {
   "cell_type": "code",
   "execution_count": 22,
   "id": "e7112553",
   "metadata": {},
   "outputs": [],
   "source": [
    "def multiply(x, y, rng, mu=None):\n",
    "    if mu is None:\n",
    "        mu = rng.inv(rng.one)  # The additive inverse of the Ring's multiplicative identity\n",
    "    delim = rng.direct_product_delimiter()\n",
    "    if delim in x:\n",
    "        a, b = split_element(x, delim)\n",
    "        c, d = split_element(y, delim)\n",
    "        return delim.join((rng.add(rng.mult(a, c), rng.mult(mu, d, conj(b, rng))),\n",
    "                           rng.add(rng.mult(conj(a, rng), d), rng.mult(c, b))))\n",
    "    else:\n",
    "        return rng.mult(x, y)"
   ]
  },
  {
   "cell_type": "code",
   "execution_count": 23,
   "id": "d6a1dd3b",
   "metadata": {},
   "outputs": [],
   "source": [
    "x1 = '5:3'\n",
    "y1 = '2:4'"
   ]
  },
  {
   "cell_type": "code",
   "execution_count": 24,
   "id": "eae1f1ee",
   "metadata": {},
   "outputs": [
    {
     "name": "stdout",
     "output_type": "stream",
     "text": [
      "5:3 * 2:4 = 5:5\n",
      "5:5\n"
     ]
    },
    {
     "data": {
      "text/plain": [
       "True"
      ]
     },
     "execution_count": 24,
     "metadata": {},
     "output_type": "execute_result"
    }
   ],
   "source": [
    "x1y1 = multiply(x1, y1, F7)\n",
    "print(f\"{x1} * {y1} = {x1y1}\")\n",
    "print(F7sqr.mult(x1, y1))\n",
    "\n",
    "x1y1 == F7sqr.mult(x1, y1)"
   ]
  },
  {
   "cell_type": "code",
   "execution_count": 25,
   "id": "ec667ff4",
   "metadata": {},
   "outputs": [
    {
     "name": "stdout",
     "output_type": "stream",
     "text": [
      "All 2401 products OK? True\n"
     ]
    }
   ],
   "source": [
    "All_OK = True\n",
    "count = 0\n",
    "\n",
    "for x1 in F7sqr.elements:\n",
    "    for y1 in F7sqr.elements:\n",
    "        count += 1\n",
    "        xy_sqr = F7sqr.mult(x1, y1)\n",
    "        xy_str = multiply(x1, y1, F7)\n",
    "        if not xy_sqr == xy_str:\n",
    "            print(x1, y1, xy_sqr, xy_str)\n",
    "            All_OK = False\n",
    "\n",
    "print(f\"All {count} products OK? {All_OK}\")"
   ]
  },
  {
   "cell_type": "code",
   "execution_count": null,
   "id": "9bec4f9c",
   "metadata": {},
   "outputs": [],
   "source": []
  },
  {
   "cell_type": "code",
   "execution_count": 26,
   "id": "6ba34b8d",
   "metadata": {},
   "outputs": [],
   "source": [
    "x2 = '5'\n",
    "y2 = '2'"
   ]
  },
  {
   "cell_type": "code",
   "execution_count": 27,
   "id": "008a1743",
   "metadata": {},
   "outputs": [
    {
     "name": "stdout",
     "output_type": "stream",
     "text": [
      "5 * 2 = 3\n"
     ]
    }
   ],
   "source": [
    "x2y2 = multiply(x2, y2, F7)\n",
    "print(f\"{x2} * {y2} = {x2y2}\")\n",
    "#print(F7sqr.mult(x1, y1))\n",
    "\n",
    "#x1y1 == F7sqr.mult(x1, y1)"
   ]
  },
  {
   "cell_type": "code",
   "execution_count": null,
   "id": "3e73488a",
   "metadata": {},
   "outputs": [],
   "source": []
  },
  {
   "cell_type": "code",
   "execution_count": null,
   "id": "78ac450b",
   "metadata": {},
   "outputs": [],
   "source": []
  }
 ],
 "metadata": {
  "kernelspec": {
   "display_name": "Python 3 (ipykernel)",
   "language": "python",
   "name": "python3"
  },
  "language_info": {
   "codemirror_mode": {
    "name": "ipython",
    "version": 3
   },
   "file_extension": ".py",
   "mimetype": "text/x-python",
   "name": "python",
   "nbconvert_exporter": "python",
   "pygments_lexer": "ipython3",
   "version": "3.11.5"
  }
 },
 "nbformat": 4,
 "nbformat_minor": 5
}
