{
 "cells": [
  {
   "cell_type": "markdown",
   "id": "9f21ee6b",
   "metadata": {},
   "source": [
    "# Abstract Matrices - Generate a 2x2 Matrix Algebra"
   ]
  },
  {
   "cell_type": "markdown",
   "id": "a6b32576",
   "metadata": {},
   "source": [
    "The purpose here is to try to generate an algebra based on 2x2 abstract matrices over a small field, such as [a four-element field](https://en.wikipedia.org/wiki/Field_(mathematics)#A_field_with_four_elements), F4."
   ]
  },
  {
   "cell_type": "code",
   "execution_count": 1,
   "id": "be8216cc",
   "metadata": {},
   "outputs": [],
   "source": [
    "import finite_algebras as alg\n",
    "# from finite_algebras import *\n",
    "import numpy as np\n",
    "from abstract_matrix import AbstractMatrix\n",
    "\n",
    "import os\n",
    "aa_path = os.path.join(os.getenv(\"PYPROJ\"), \"abstract_algebra\")\n",
    "alg_dir = os.path.join(aa_path, \"Algebras\")"
   ]
  },
  {
   "cell_type": "code",
   "execution_count": 2,
   "id": "62049bbb",
   "metadata": {},
   "outputs": [
    {
     "name": "stdout",
     "output_type": "stream",
     "text": [
      "======================================================================\n",
      "                           Example Algebras\n",
      "----------------------------------------------------------------------\n",
      "  17 example algebras are available.\n",
      "  Use \"Examples[INDEX]\" to retrieve a specific example,\n",
      "  where INDEX is the first number on each line below:\n",
      "----------------------------------------------------------------------\n",
      "0: A4 -- Alternating group on 4 letters (AKA Tetrahedral group)\n",
      "1: D3 -- https://en.wikipedia.org/wiki/Dihedral_group_of_order_6\n",
      "2: D4 -- Dihedral group on four vertices\n",
      "3: Pinter29 -- Non-abelian group, p.29, 'A Book of Abstract Algebra' by Charles C. Pinter\n",
      "4: RPS -- Rock, Paper, Scissors Magma\n",
      "5: S3 -- Symmetric group on 3 letters\n",
      "6: S3X -- Another version of the symmetric group on 3 letters\n",
      "7: V4 -- Klein-4 group\n",
      "8: Z4 -- Cyclic group of order 4\n",
      "9: F4 -- Field with 4 elements (from Wikipedia)\n",
      "10: mag_id -- Magma with Identity\n",
      "11: Example 1.4.1 -- See: Groupoids and Smarandache Groupoids by W. B. Vasantha Kandasamy\n",
      "12: Ex6 -- Example 6: http://www-groups.mcs.st-andrews.ac.uk/~john/MT4517/Lectures/L3.html\n",
      "13: Q8 -- Quaternion Group\n",
      "14: SD16 -- Semidihedral group of order 16\n",
      "15: A5 -- Alternating group on 5 letters\n",
      "16: F2 -- Field with 2 elements from paper: 236w06fields.pdf\n",
      "======================================================================\n"
     ]
    }
   ],
   "source": [
    "ex = alg.Examples(alg_dir)"
   ]
  },
  {
   "cell_type": "code",
   "execution_count": 3,
   "id": "7da8ce6d",
   "metadata": {},
   "outputs": [
    {
     "name": "stdout",
     "output_type": "stream",
     "text": [
      "\n",
      "** Field **\n",
      "Name: F2\n",
      "Instance ID: 4789840016\n",
      "Description: Field with 2 elements from paper: 236w06fields.pdf\n",
      "Order: 2\n",
      "Identity: '0'\n",
      "Commutative? Yes\n",
      "Cyclic?: Yes\n",
      "Generators: ['1']\n",
      "Elements:\n",
      "   Index   Name   Inverse  Order\n",
      "      0     '0'     '0'       0\n",
      "      1     '1'     '1'       0\n",
      "Cayley Table (showing names):\n",
      "[['0', '1'], ['1', '0']]\n",
      "Mult. Identity: '1'\n",
      "Mult. Commutative? Yes\n",
      "Zero Divisors: None\n",
      "Multiplicative Cayley Table (showing names):\n",
      "[['0', '0'], ['0', '1']]\n"
     ]
    }
   ],
   "source": [
    "f2 = ex[16]\n",
    "f2.about(use_table_names=True)"
   ]
  },
  {
   "cell_type": "code",
   "execution_count": 4,
   "id": "3891fb42",
   "metadata": {},
   "outputs": [
    {
     "name": "stdout",
     "output_type": "stream",
     "text": [
      "\n",
      "** Field **\n",
      "Name: F4\n",
      "Instance ID: 4767591888\n",
      "Description: Field with 4 elements (from Wikipedia)\n",
      "Order: 4\n",
      "Identity: '0'\n",
      "Commutative? Yes\n",
      "Cyclic?: Yes\n",
      "Generators: ['1+a', 'a']\n",
      "Elements:\n",
      "   Index   Name   Inverse  Order\n",
      "      0     '0'     '0'       0\n",
      "      1     '1'     '1'       0\n",
      "      2     'a'     'a'       0\n",
      "      3   '1+a'   '1+a'       0\n",
      "Cayley Table (showing names):\n",
      "[['0', '1', 'a', '1+a'],\n",
      " ['1', '0', '1+a', 'a'],\n",
      " ['a', '1+a', '0', '1'],\n",
      " ['1+a', 'a', '1', '0']]\n",
      "Mult. Identity: '1'\n",
      "Mult. Commutative? Yes\n",
      "Zero Divisors: None\n",
      "Multiplicative Cayley Table (showing names):\n",
      "[['0', '0', '0', '0'],\n",
      " ['0', '1', 'a', '1+a'],\n",
      " ['0', 'a', '1+a', '1'],\n",
      " ['0', '1+a', '1', 'a']]\n"
     ]
    }
   ],
   "source": [
    "f4 = ex[9]\n",
    "f4.about(use_table_names=True)"
   ]
  },
  {
   "cell_type": "markdown",
   "id": "e45baa7b",
   "metadata": {},
   "source": [
    "## Create Dictionary of Elements"
   ]
  },
  {
   "cell_type": "code",
   "execution_count": 5,
   "id": "3deb4370",
   "metadata": {},
   "outputs": [
    {
     "name": "stdout",
     "output_type": "stream",
     "text": [
      "16\n"
     ]
    },
    {
     "data": {
      "text/plain": [
       "{'m0': [['0', '0'],\n",
       "  ['0', '0']],\n",
       " 'm1': [['0', '0'],\n",
       "  ['0', '0']],\n",
       " 'm2': [['0', '0'],\n",
       "  ['0', '1']],\n",
       " 'm3': [['0', '0'],\n",
       "  ['1', '0']],\n",
       " 'm4': [['0', '0'],\n",
       "  ['1', '1']],\n",
       " 'm5': [['0', '1'],\n",
       "  ['0', '0']],\n",
       " 'm6': [['0', '1'],\n",
       "  ['0', '1']],\n",
       " 'm7': [['0', '1'],\n",
       "  ['1', '0']],\n",
       " 'm8': [['0', '1'],\n",
       "  ['1', '1']],\n",
       " 'm9': [['1', '0'],\n",
       "  ['0', '0']],\n",
       " 'm10': [['1', '0'],\n",
       "  ['0', '1']],\n",
       " 'm11': [['1', '0'],\n",
       "  ['1', '0']],\n",
       " 'm12': [['1', '0'],\n",
       "  ['1', '1']],\n",
       " 'm13': [['1', '1'],\n",
       "  ['0', '0']],\n",
       " 'm14': [['1', '1'],\n",
       "  ['0', '1']],\n",
       " 'm15': [['1', '1'],\n",
       "  ['1', '0']],\n",
       " 'm16': [['1', '1'],\n",
       "  ['1', '1']]}"
      ]
     },
     "execution_count": 5,
     "metadata": {},
     "output_type": "execute_result"
    }
   ],
   "source": [
    "algebra = f2\n",
    "n = len(algebra.elements)\n",
    "zero = algebra.zero\n",
    "# print(alg)\n",
    "\n",
    "count = 0\n",
    "prefix = 'm'\n",
    "\n",
    "zero_name = prefix + '0'\n",
    "\n",
    "# The first dictionary entry will be the matrix of 'zeros'\n",
    "zero_mat = AbstractMatrix.zeros((n, n), algebra)\n",
    "elem_dict = { zero_name : zero_mat }\n",
    "rev_dict = { zero_mat.to_tuple() : zero_name }\n",
    "\n",
    "elements = algebra.elements\n",
    "\n",
    "for e00 in elements:\n",
    "    for e01 in elements:\n",
    "        for e10 in elements:\n",
    "            for e11 in elements:\n",
    "                mat = AbstractMatrix([[e00, e01], [e10, e11]], algebra)\n",
    "                elem_name = prefix + str(count + 1)\n",
    "                elem_dict[elem_name] = mat\n",
    "                rev_dict[mat.to_tuple()] = elem_name\n",
    "                count += 1\n",
    "print(count)\n",
    "elem_dict"
   ]
  },
  {
   "cell_type": "code",
   "execution_count": 6,
   "id": "bd27a1c0",
   "metadata": {},
   "outputs": [
    {
     "data": {
      "text/plain": [
       "{(('0', '0'), ('0', '0')): 'm1',\n",
       " (('0', '0'), ('0', '1')): 'm2',\n",
       " (('0', '0'), ('1', '0')): 'm3',\n",
       " (('0', '0'), ('1', '1')): 'm4',\n",
       " (('0', '1'), ('0', '0')): 'm5',\n",
       " (('0', '1'), ('0', '1')): 'm6',\n",
       " (('0', '1'), ('1', '0')): 'm7',\n",
       " (('0', '1'), ('1', '1')): 'm8',\n",
       " (('1', '0'), ('0', '0')): 'm9',\n",
       " (('1', '0'), ('0', '1')): 'm10',\n",
       " (('1', '0'), ('1', '0')): 'm11',\n",
       " (('1', '0'), ('1', '1')): 'm12',\n",
       " (('1', '1'), ('0', '0')): 'm13',\n",
       " (('1', '1'), ('0', '1')): 'm14',\n",
       " (('1', '1'), ('1', '0')): 'm15',\n",
       " (('1', '1'), ('1', '1')): 'm16'}"
      ]
     },
     "execution_count": 6,
     "metadata": {},
     "output_type": "execute_result"
    }
   ],
   "source": [
    "rev_dict"
   ]
  },
  {
   "cell_type": "markdown",
   "id": "39ad2f52",
   "metadata": {},
   "source": [
    "## Create Addition Table"
   ]
  },
  {
   "cell_type": "code",
   "execution_count": 7,
   "id": "c9f00163",
   "metadata": {},
   "outputs": [
    {
     "data": {
      "text/plain": [
       "array([['m1', 'm1', 'm2', 'm3', 'm4', 'm5', 'm6', 'm7', 'm8', 'm9',\n",
       "        'm10', 'm11', 'm12', 'm13', 'm14', 'm15', 'm16'],\n",
       "       ['m1', 'm1', 'm2', 'm3', 'm4', 'm5', 'm6', 'm7', 'm8', 'm9',\n",
       "        'm10', 'm11', 'm12', 'm13', 'm14', 'm15', 'm16'],\n",
       "       ['m2', 'm2', 'm1', 'm4', 'm3', 'm6', 'm5', 'm8', 'm7', 'm10',\n",
       "        'm9', 'm12', 'm11', 'm14', 'm13', 'm16', 'm15'],\n",
       "       ['m3', 'm3', 'm4', 'm1', 'm2', 'm7', 'm8', 'm5', 'm6', 'm11',\n",
       "        'm12', 'm9', 'm10', 'm15', 'm16', 'm13', 'm14'],\n",
       "       ['m4', 'm4', 'm3', 'm2', 'm1', 'm8', 'm7', 'm6', 'm5', 'm12',\n",
       "        'm11', 'm10', 'm9', 'm16', 'm15', 'm14', 'm13'],\n",
       "       ['m5', 'm5', 'm6', 'm7', 'm8', 'm1', 'm2', 'm3', 'm4', 'm13',\n",
       "        'm14', 'm15', 'm16', 'm9', 'm10', 'm11', 'm12'],\n",
       "       ['m6', 'm6', 'm5', 'm8', 'm7', 'm2', 'm1', 'm4', 'm3', 'm14',\n",
       "        'm13', 'm16', 'm15', 'm10', 'm9', 'm12', 'm11'],\n",
       "       ['m7', 'm7', 'm8', 'm5', 'm6', 'm3', 'm4', 'm1', 'm2', 'm15',\n",
       "        'm16', 'm13', 'm14', 'm11', 'm12', 'm9', 'm10'],\n",
       "       ['m8', 'm8', 'm7', 'm6', 'm5', 'm4', 'm3', 'm2', 'm1', 'm16',\n",
       "        'm15', 'm14', 'm13', 'm12', 'm11', 'm10', 'm9'],\n",
       "       ['m9', 'm9', 'm10', 'm11', 'm12', 'm13', 'm14', 'm15', 'm16',\n",
       "        'm1', 'm2', 'm3', 'm4', 'm5', 'm6', 'm7', 'm8'],\n",
       "       ['m10', 'm10', 'm9', 'm12', 'm11', 'm14', 'm13', 'm16', 'm15',\n",
       "        'm2', 'm1', 'm4', 'm3', 'm6', 'm5', 'm8', 'm7'],\n",
       "       ['m11', 'm11', 'm12', 'm9', 'm10', 'm15', 'm16', 'm13', 'm14',\n",
       "        'm3', 'm4', 'm1', 'm2', 'm7', 'm8', 'm5', 'm6'],\n",
       "       ['m12', 'm12', 'm11', 'm10', 'm9', 'm16', 'm15', 'm14', 'm13',\n",
       "        'm4', 'm3', 'm2', 'm1', 'm8', 'm7', 'm6', 'm5'],\n",
       "       ['m13', 'm13', 'm14', 'm15', 'm16', 'm9', 'm10', 'm11', 'm12',\n",
       "        'm5', 'm6', 'm7', 'm8', 'm1', 'm2', 'm3', 'm4'],\n",
       "       ['m14', 'm14', 'm13', 'm16', 'm15', 'm10', 'm9', 'm12', 'm11',\n",
       "        'm6', 'm5', 'm8', 'm7', 'm2', 'm1', 'm4', 'm3'],\n",
       "       ['m15', 'm15', 'm16', 'm13', 'm14', 'm11', 'm12', 'm9', 'm10',\n",
       "        'm7', 'm8', 'm5', 'm6', 'm3', 'm4', 'm1', 'm2'],\n",
       "       ['m16', 'm16', 'm15', 'm14', 'm13', 'm12', 'm11', 'm10', 'm9',\n",
       "        'm8', 'm7', 'm6', 'm5', 'm4', 'm3', 'm2', 'm1']], dtype=object)"
      ]
     },
     "execution_count": 7,
     "metadata": {},
     "output_type": "execute_result"
    }
   ],
   "source": [
    "m = len(elem_dict)\n",
    "add_table = np.empty((m, m), AbstractMatrix)\n",
    "\n",
    "for row, elemr in enumerate(elem_dict.keys()):\n",
    "    for col, elemc in enumerate(elem_dict.keys()):\n",
    "        result = elem_dict[elemr] + elem_dict[elemc]\n",
    "        name = rev_dict[result.to_tuple()]\n",
    "        add_table[row][col] = name\n",
    "add_table"
   ]
  },
  {
   "cell_type": "markdown",
   "id": "dd833794",
   "metadata": {},
   "source": [
    "## Create Multiplication Table"
   ]
  },
  {
   "cell_type": "code",
   "execution_count": 8,
   "id": "729189db",
   "metadata": {},
   "outputs": [
    {
     "data": {
      "text/plain": [
       "array([['m1', 'm1', 'm1', 'm1', 'm1', 'm1', 'm1', 'm1', 'm1', 'm1', 'm1',\n",
       "        'm1', 'm1', 'm1', 'm1', 'm1', 'm1'],\n",
       "       ['m1', 'm1', 'm1', 'm1', 'm1', 'm1', 'm1', 'm1', 'm1', 'm1', 'm1',\n",
       "        'm1', 'm1', 'm1', 'm1', 'm1', 'm1'],\n",
       "       ['m1', 'm1', 'm2', 'm3', 'm4', 'm1', 'm2', 'm3', 'm4', 'm1', 'm2',\n",
       "        'm3', 'm4', 'm1', 'm2', 'm3', 'm4'],\n",
       "       ['m1', 'm1', 'm1', 'm1', 'm1', 'm2', 'm2', 'm2', 'm2', 'm3', 'm3',\n",
       "        'm3', 'm3', 'm4', 'm4', 'm4', 'm4'],\n",
       "       ['m1', 'm1', 'm2', 'm3', 'm4', 'm2', 'm1', 'm4', 'm3', 'm3', 'm4',\n",
       "        'm1', 'm2', 'm4', 'm3', 'm2', 'm1'],\n",
       "       ['m1', 'm1', 'm5', 'm9', 'm13', 'm1', 'm5', 'm9', 'm13', 'm1',\n",
       "        'm5', 'm9', 'm13', 'm1', 'm5', 'm9', 'm13'],\n",
       "       ['m1', 'm1', 'm6', 'm11', 'm16', 'm1', 'm6', 'm11', 'm16', 'm1',\n",
       "        'm6', 'm11', 'm16', 'm1', 'm6', 'm11', 'm16'],\n",
       "       ['m1', 'm1', 'm5', 'm9', 'm13', 'm2', 'm6', 'm10', 'm14', 'm3',\n",
       "        'm7', 'm11', 'm15', 'm4', 'm8', 'm12', 'm16'],\n",
       "       ['m1', 'm1', 'm6', 'm11', 'm16', 'm2', 'm5', 'm12', 'm15', 'm3',\n",
       "        'm8', 'm9', 'm14', 'm4', 'm7', 'm10', 'm13'],\n",
       "       ['m1', 'm1', 'm1', 'm1', 'm1', 'm5', 'm5', 'm5', 'm5', 'm9', 'm9',\n",
       "        'm9', 'm9', 'm13', 'm13', 'm13', 'm13'],\n",
       "       ['m1', 'm1', 'm2', 'm3', 'm4', 'm5', 'm6', 'm7', 'm8', 'm9',\n",
       "        'm10', 'm11', 'm12', 'm13', 'm14', 'm15', 'm16'],\n",
       "       ['m1', 'm1', 'm1', 'm1', 'm1', 'm6', 'm6', 'm6', 'm6', 'm11',\n",
       "        'm11', 'm11', 'm11', 'm16', 'm16', 'm16', 'm16'],\n",
       "       ['m1', 'm1', 'm2', 'm3', 'm4', 'm6', 'm5', 'm8', 'm7', 'm11',\n",
       "        'm12', 'm9', 'm10', 'm16', 'm15', 'm14', 'm13'],\n",
       "       ['m1', 'm1', 'm5', 'm9', 'm13', 'm5', 'm1', 'm13', 'm9', 'm9',\n",
       "        'm13', 'm1', 'm5', 'm13', 'm9', 'm5', 'm1'],\n",
       "       ['m1', 'm1', 'm6', 'm11', 'm16', 'm5', 'm2', 'm15', 'm12', 'm9',\n",
       "        'm14', 'm3', 'm8', 'm13', 'm10', 'm7', 'm4'],\n",
       "       ['m1', 'm1', 'm5', 'm9', 'm13', 'm6', 'm2', 'm14', 'm10', 'm11',\n",
       "        'm15', 'm3', 'm7', 'm16', 'm12', 'm8', 'm4'],\n",
       "       ['m1', 'm1', 'm6', 'm11', 'm16', 'm6', 'm1', 'm16', 'm11', 'm11',\n",
       "        'm16', 'm1', 'm6', 'm16', 'm11', 'm6', 'm1']], dtype=object)"
      ]
     },
     "execution_count": 8,
     "metadata": {},
     "output_type": "execute_result"
    }
   ],
   "source": [
    "mul_table = np.empty((m, m), AbstractMatrix)\n",
    "\n",
    "for row, elemr in enumerate(elem_dict.keys()):\n",
    "    for col, elemc in enumerate(elem_dict.keys()):\n",
    "        result = elem_dict[elemr] * elem_dict[elemc]\n",
    "        name = rev_dict[result.to_tuple()]\n",
    "        mul_table[row][col] = name\n",
    "mul_table"
   ]
  },
  {
   "cell_type": "code",
   "execution_count": 15,
   "id": "0b710fc8",
   "metadata": {},
   "outputs": [
    {
     "name": "stdout",
     "output_type": "stream",
     "text": [
      "\n",
      "** Semigroup **\n",
      "Name: mat2x2\n",
      "Instance ID: 4372529744\n",
      "Description: 2x2 matrix algebra\n",
      "Order: 17\n",
      "Identity: None\n",
      "Associative? Yes\n",
      "Commutative? No\n",
      "Cyclic?: No\n",
      "Elements: ['m0', 'm1', 'm2', 'm3', 'm4', 'm5', 'm6', 'm7', 'm8', 'm9', 'm10', 'm11', 'm12', 'm13', 'm14', 'm15', 'm16']\n",
      "Has Inverses? No\n",
      "Semigroup order is 17 > 12, so the table is not output.\n"
     ]
    }
   ],
   "source": [
    "mat2x2 = alg.make_finite_algebra(\"mat2x2\", \"2x2 matrix algebra\", list(elem_dict.keys()), mul_table)\n",
    "mat2x2.about()"
   ]
  },
  {
   "cell_type": "code",
   "execution_count": null,
   "id": "6c17debd",
   "metadata": {},
   "outputs": [],
   "source": []
  }
 ],
 "metadata": {
  "kernelspec": {
   "display_name": "Python 3 (ipykernel)",
   "language": "python",
   "name": "python3"
  },
  "language_info": {
   "codemirror_mode": {
    "name": "ipython",
    "version": 3
   },
   "file_extension": ".py",
   "mimetype": "text/x-python",
   "name": "python",
   "nbconvert_exporter": "python",
   "pygments_lexer": "ipython3",
   "version": "3.11.5"
  }
 },
 "nbformat": 4,
 "nbformat_minor": 5
}
