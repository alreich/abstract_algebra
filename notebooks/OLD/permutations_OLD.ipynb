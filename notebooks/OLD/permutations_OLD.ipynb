{
 "cells": [
  {
   "cell_type": "markdown",
   "id": "afef587e",
   "metadata": {},
   "source": [
    "# Permutation Groups"
   ]
  },
  {
   "cell_type": "code",
   "execution_count": 1,
   "id": "19d27d0b",
   "metadata": {},
   "outputs": [],
   "source": [
    "import algebras as alg\n",
    "import os"
   ]
  },
  {
   "cell_type": "code",
   "execution_count": 2,
   "id": "7db5534d",
   "metadata": {},
   "outputs": [],
   "source": [
    "# Path to this repo\n",
    "aa_path = os.path.join(os.getenv('PYPROJ'), 'abstract_algebra')\n",
    "\n",
    "# Path to a directory containing Algebra definitions in JSON\n",
    "alg_dir = os.path.join(aa_path, \"Algebras\")"
   ]
  },
  {
   "cell_type": "raw",
   "id": "ec4ebc8a",
   "metadata": {},
   "source": [
    "def permutation_mapping(perm, base=0):\n",
    "    \"\"\"Return a mapping of the consecutive integers, starting at the base value,\n",
    "    to the integers in the permutation, perm.\n",
    "    \n",
    "    Examples:\n",
    "    \n",
    "    >>> mapping((0, 1, 2, 3))\n",
    "    {0: 0, 1: 1, 2: 2, 3: 3}\n",
    "    \n",
    "    >>> mapping((3,1,2), 1)\n",
    "    {1: 3, 2: 1, 3: 2}\n",
    "\n",
    "    \"\"\"\n",
    "    return {i:perm[i - base] for i in range(base, len(perm) + base)}\n",
    "\n",
    "def compose_perms(q, p, base=0):\n",
    "    \"\"\"Apply permutation q to permutation p.  That is q o p = q(p).\n",
    "\n",
    "    Example: from Pinter, page 71\n",
    "\n",
    "     beta =  1  2  3\n",
    "             |  |  |\n",
    "             3  1  2\n",
    "            \n",
    "    alpha =  1  2  3\n",
    "             |  |  |\n",
    "             1  3  2\n",
    "             \n",
    "    compose_perms(alpha, beta, 1) = \n",
    "             \n",
    "             1  2  3\n",
    "             |  |  |\n",
    "             2  1  3\n",
    "    \"\"\"\n",
    "    qmap = permutation_mapping(q, base)\n",
    "    pmap = permutation_mapping(p, base)\n",
    "    return tuple([qmap[pmap[i]] for i in range(base, len(q) + base)])"
   ]
  },
  {
   "cell_type": "markdown",
   "id": "9f4df4e8",
   "metadata": {},
   "source": [
    "The following tests are from Pinter, p. 71"
   ]
  },
  {
   "cell_type": "code",
   "execution_count": 4,
   "id": "8e200925",
   "metadata": {},
   "outputs": [],
   "source": [
    "s3 = {'epsilon' : (1, 2, 3),\n",
    "      'alpha' : (1, 3, 2),\n",
    "      'beta' : (3, 1, 2),\n",
    "      'gamma' : (2, 1, 3),\n",
    "      'delta' : (2, 3, 1),\n",
    "      'kappa' : (3, 2, 1)}"
   ]
  },
  {
   "cell_type": "code",
   "execution_count": 5,
   "id": "739c34fa",
   "metadata": {},
   "outputs": [],
   "source": [
    "s3_inv = {val: key for key, val in s3.items()}"
   ]
  },
  {
   "cell_type": "code",
   "execution_count": 6,
   "id": "2944cfa9",
   "metadata": {},
   "outputs": [
    {
     "data": {
      "text/plain": [
       "(3, 1, 2)"
      ]
     },
     "execution_count": 6,
     "metadata": {},
     "output_type": "execute_result"
    }
   ],
   "source": [
    "alg.compose_perms(s3['beta'], s3['epsilon'], 1)  # Should be (3, 1, 2)"
   ]
  },
  {
   "cell_type": "code",
   "execution_count": 7,
   "id": "f07f6f33",
   "metadata": {},
   "outputs": [
    {
     "data": {
      "text/plain": [
       "(2, 1, 3)"
      ]
     },
     "execution_count": 7,
     "metadata": {},
     "output_type": "execute_result"
    }
   ],
   "source": [
    "alg.compose_perms(s3['alpha'], s3['beta'], 1)  # Should be (2, 1, 3)"
   ]
  },
  {
   "cell_type": "code",
   "execution_count": 8,
   "id": "3fb695e7",
   "metadata": {},
   "outputs": [
    {
     "data": {
      "text/plain": [
       "[(1, 2, 3), (1, 2, 3), (2, 3, 1), (1, 2, 3), (3, 1, 2), (1, 2, 3)]"
      ]
     },
     "execution_count": 8,
     "metadata": {},
     "output_type": "execute_result"
    }
   ],
   "source": [
    "[alg.compose_perms(s3[x], s3[x], 1) for x in s3]"
   ]
  },
  {
   "cell_type": "code",
   "execution_count": 9,
   "id": "29d87505",
   "metadata": {},
   "outputs": [
    {
     "data": {
      "text/plain": [
       "[['epsilon', 'alpha', 'beta', 'gamma', 'delta', 'kappa'],\n",
       " ['alpha', 'epsilon', 'kappa', 'delta', 'gamma', 'beta'],\n",
       " ['beta', 'gamma', 'delta', 'kappa', 'epsilon', 'alpha'],\n",
       " ['gamma', 'beta', 'alpha', 'epsilon', 'kappa', 'delta'],\n",
       " ['delta', 'kappa', 'epsilon', 'alpha', 'beta', 'gamma'],\n",
       " ['kappa', 'delta', 'gamma', 'beta', 'alpha', 'epsilon']]"
      ]
     },
     "execution_count": 9,
     "metadata": {},
     "output_type": "execute_result"
    }
   ],
   "source": [
    "[[s3_inv[alg.compose_perms(s3[a], s3[b], 1)] for a in s3] for b in s3]"
   ]
  },
  {
   "cell_type": "markdown",
   "id": "040b66ad",
   "metadata": {},
   "source": [
    "### For Doc Strings"
   ]
  },
  {
   "cell_type": "code",
   "execution_count": 18,
   "id": "efad95d8",
   "metadata": {},
   "outputs": [
    {
     "data": {
      "text/plain": [
       "{0: 0, 1: 1, 2: 2, 3: 3}"
      ]
     },
     "execution_count": 18,
     "metadata": {},
     "output_type": "execute_result"
    }
   ],
   "source": [
    "alg.permutation_mapping((0, 1, 2, 3))  # (default) base = 0"
   ]
  },
  {
   "cell_type": "code",
   "execution_count": 19,
   "id": "e7e60d89",
   "metadata": {},
   "outputs": [
    {
     "data": {
      "text/plain": [
       "{1: 3, 2: 1, 3: 2}"
      ]
     },
     "execution_count": 19,
     "metadata": {},
     "output_type": "execute_result"
    }
   ],
   "source": [
    "alg.permutation_mapping((3,1,2), 1)"
   ]
  },
  {
   "cell_type": "code",
   "execution_count": 20,
   "id": "6b771244",
   "metadata": {},
   "outputs": [
    {
     "data": {
      "text/plain": [
       "(2, 1, 3)"
      ]
     },
     "execution_count": 20,
     "metadata": {},
     "output_type": "execute_result"
    }
   ],
   "source": [
    "alpha = (1, 3, 2)\n",
    "beta = (3, 1, 2)\n",
    "alg.compose_perms(alpha, beta, 1)"
   ]
  },
  {
   "cell_type": "markdown",
   "id": "1261e987",
   "metadata": {},
   "source": [
    "## Permutation as a Class"
   ]
  },
  {
   "cell_type": "code",
   "execution_count": 117,
   "id": "c945a403",
   "metadata": {},
   "outputs": [],
   "source": [
    "class Perm:  # Permutation\n",
    "    \n",
    "    def __init__(self, permutation):\n",
    "        self.perm = permutation\n",
    "        self.base = min(self.perm)  # lowest value in perm\n",
    "        self.size = len(self.perm) + self.base\n",
    "        # \n",
    "        # MAPPING: A mapping of the consecutive integers, starting at the base value,\n",
    "        # to the integers in the permutation.\n",
    "        #   Examples:\n",
    "        #     0-based mapping: (0, 1, 2, 3) ==> {0: 0, 1: 1, 2: 2, 3: 3}\n",
    "        #     1-based mapping: (3,1,2) ==> {1: 3, 2: 1, 3: 2}\n",
    "        self.mapping = {i:self.perm[i - self.base] for i in range(self.base, self.size)}\n",
    "        \n",
    "    def __repr__(self):\n",
    "        return f'Perm({self.perm})'\n",
    "    \n",
    "    def __len__(self):\n",
    "        return len(self.perm)\n",
    "    \n",
    "    def __mul__ (self, other):\n",
    "        \"\"\"Compose this permutation with another, that is, self(other(id)),\n",
    "        where id is the identity permutation, (0,1,...,n-1) or (1,2,...,n).\n",
    "        Both permutations must use the same base and be of the same size,\n",
    "        otherwise an exception will be raised.\"\"\"\n",
    "        if self.base == other.base:\n",
    "            if len(self) == len(other):\n",
    "                return tuple([self.mapping[other.mapping[i]]\n",
    "                              for i in range(self.base, self.size)])\n",
    "            else:\n",
    "                raise Exception(f\"Mixed lengths: {len(self)} != {len(other)}\")\n",
    "        else:\n",
    "            raise Exception(f\"Mixed bases: {self.base} != {other.base}\")"
   ]
  },
  {
   "cell_type": "code",
   "execution_count": 119,
   "id": "711d81af",
   "metadata": {},
   "outputs": [
    {
     "data": {
      "text/plain": [
       "[1, 2, 3]"
      ]
     },
     "execution_count": 119,
     "metadata": {},
     "output_type": "execute_result"
    }
   ],
   "source": [
    "list(range(1,4))"
   ]
  },
  {
   "cell_type": "code",
   "execution_count": 120,
   "id": "c80fa511",
   "metadata": {},
   "outputs": [
    {
     "data": {
      "text/plain": [
       "[0, 1, 2]"
      ]
     },
     "execution_count": 120,
     "metadata": {},
     "output_type": "execute_result"
    }
   ],
   "source": [
    "list(range(0,3))"
   ]
  },
  {
   "cell_type": "code",
   "execution_count": 121,
   "id": "8f4040db",
   "metadata": {},
   "outputs": [
    {
     "data": {
      "text/plain": [
       "3"
      ]
     },
     "execution_count": 121,
     "metadata": {},
     "output_type": "execute_result"
    }
   ],
   "source": [
    "len((3,1,2)) ### 3 + 1 = 4"
   ]
  },
  {
   "cell_type": "code",
   "execution_count": 122,
   "id": "0f8b2930",
   "metadata": {},
   "outputs": [
    {
     "data": {
      "text/plain": [
       "3"
      ]
     },
     "execution_count": 122,
     "metadata": {},
     "output_type": "execute_result"
    }
   ],
   "source": [
    "max(3,1,2)"
   ]
  },
  {
   "cell_type": "code",
   "execution_count": 123,
   "id": "dbfd42fd",
   "metadata": {},
   "outputs": [
    {
     "data": {
      "text/plain": [
       "3"
      ]
     },
     "execution_count": 123,
     "metadata": {},
     "output_type": "execute_result"
    }
   ],
   "source": [
    "len((2,0,1))  ### 3 + 0 = 3"
   ]
  },
  {
   "cell_type": "code",
   "execution_count": 124,
   "id": "5d7f907d",
   "metadata": {},
   "outputs": [
    {
     "data": {
      "text/plain": [
       "2"
      ]
     },
     "execution_count": 124,
     "metadata": {},
     "output_type": "execute_result"
    }
   ],
   "source": [
    "max(2,0,1)"
   ]
  },
  {
   "cell_type": "code",
   "execution_count": null,
   "id": "c2a83e17",
   "metadata": {},
   "outputs": [],
   "source": []
  },
  {
   "cell_type": "code",
   "execution_count": null,
   "id": "396e63df",
   "metadata": {},
   "outputs": [],
   "source": []
  },
  {
   "cell_type": "code",
   "execution_count": 125,
   "id": "48cce488",
   "metadata": {},
   "outputs": [
    {
     "data": {
      "text/plain": [
       "(2, 1, 3)"
      ]
     },
     "execution_count": 125,
     "metadata": {},
     "output_type": "execute_result"
    }
   ],
   "source": [
    "a = Perm((1, 3, 2))\n",
    "b = Perm((3, 1, 2))\n",
    "a * b"
   ]
  },
  {
   "cell_type": "code",
   "execution_count": 126,
   "id": "b103f4e6",
   "metadata": {},
   "outputs": [
    {
     "data": {
      "text/plain": [
       "(1, 0, 2)"
      ]
     },
     "execution_count": 126,
     "metadata": {},
     "output_type": "execute_result"
    }
   ],
   "source": [
    "a0 = Perm((0,2,1))\n",
    "b0 = Perm((2,0,1))\n",
    "a0 * b0"
   ]
  },
  {
   "cell_type": "code",
   "execution_count": 127,
   "id": "0ac2a17f",
   "metadata": {},
   "outputs": [
    {
     "data": {
      "text/plain": [
       "Perm((1, 3, 2))"
      ]
     },
     "execution_count": 127,
     "metadata": {},
     "output_type": "execute_result"
    }
   ],
   "source": [
    "a"
   ]
  },
  {
   "cell_type": "code",
   "execution_count": 128,
   "id": "3e005364",
   "metadata": {},
   "outputs": [
    {
     "name": "stdout",
     "output_type": "stream",
     "text": [
      "Perm((1, 3, 2))\n"
     ]
    }
   ],
   "source": [
    "print(a)"
   ]
  },
  {
   "cell_type": "code",
   "execution_count": 129,
   "id": "7f6fae92",
   "metadata": {},
   "outputs": [
    {
     "data": {
      "text/plain": [
       "{1: 1, 2: 3, 3: 2}"
      ]
     },
     "execution_count": 129,
     "metadata": {},
     "output_type": "execute_result"
    }
   ],
   "source": [
    "a.mapping"
   ]
  },
  {
   "cell_type": "code",
   "execution_count": 130,
   "id": "5a53f6a0",
   "metadata": {},
   "outputs": [
    {
     "data": {
      "text/plain": [
       "3"
      ]
     },
     "execution_count": 130,
     "metadata": {},
     "output_type": "execute_result"
    }
   ],
   "source": [
    "len(a)"
   ]
  },
  {
   "cell_type": "code",
   "execution_count": 131,
   "id": "8644c3f1",
   "metadata": {},
   "outputs": [
    {
     "data": {
      "text/plain": [
       "4"
      ]
     },
     "execution_count": 131,
     "metadata": {},
     "output_type": "execute_result"
    }
   ],
   "source": [
    "a.size"
   ]
  },
  {
   "cell_type": "code",
   "execution_count": 132,
   "id": "87dda5a3",
   "metadata": {},
   "outputs": [
    {
     "data": {
      "text/plain": [
       "3"
      ]
     },
     "execution_count": 132,
     "metadata": {},
     "output_type": "execute_result"
    }
   ],
   "source": [
    "a0.size"
   ]
  },
  {
   "cell_type": "code",
   "execution_count": 133,
   "id": "766380d3",
   "metadata": {},
   "outputs": [
    {
     "ename": "Exception",
     "evalue": "Mixed bases: 0 != 1",
     "output_type": "error",
     "traceback": [
      "\u001b[0;31m---------------------------------------------------------------------------\u001b[0m",
      "\u001b[0;31mException\u001b[0m                                 Traceback (most recent call last)",
      "\u001b[0;32m<ipython-input-133-d117c0e511c0>\u001b[0m in \u001b[0;36m<module>\u001b[0;34m\u001b[0m\n\u001b[0;32m----> 1\u001b[0;31m \u001b[0ma0\u001b[0m \u001b[0;34m*\u001b[0m \u001b[0mb\u001b[0m\u001b[0;34m\u001b[0m\u001b[0;34m\u001b[0m\u001b[0m\n\u001b[0m",
      "\u001b[0;32m<ipython-input-117-b4f6f9ab4d8e>\u001b[0m in \u001b[0;36m__mul__\u001b[0;34m(self, other)\u001b[0m\n\u001b[1;32m     31\u001b[0m                 \u001b[0;32mraise\u001b[0m \u001b[0mException\u001b[0m\u001b[0;34m(\u001b[0m\u001b[0;34mf\"Mixed lengths: {len(self)} != {len(other)}\"\u001b[0m\u001b[0;34m)\u001b[0m\u001b[0;34m\u001b[0m\u001b[0;34m\u001b[0m\u001b[0m\n\u001b[1;32m     32\u001b[0m         \u001b[0;32melse\u001b[0m\u001b[0;34m:\u001b[0m\u001b[0;34m\u001b[0m\u001b[0;34m\u001b[0m\u001b[0m\n\u001b[0;32m---> 33\u001b[0;31m             \u001b[0;32mraise\u001b[0m \u001b[0mException\u001b[0m\u001b[0;34m(\u001b[0m\u001b[0;34mf\"Mixed bases: {self.base} != {other.base}\"\u001b[0m\u001b[0;34m)\u001b[0m\u001b[0;34m\u001b[0m\u001b[0;34m\u001b[0m\u001b[0m\n\u001b[0m",
      "\u001b[0;31mException\u001b[0m: Mixed bases: 0 != 1"
     ]
    }
   ],
   "source": [
    "a0 * b"
   ]
  },
  {
   "cell_type": "code",
   "execution_count": 134,
   "id": "5316e0c5",
   "metadata": {},
   "outputs": [
    {
     "ename": "Exception",
     "evalue": "Mixed lengths: 3 != 4",
     "output_type": "error",
     "traceback": [
      "\u001b[0;31m---------------------------------------------------------------------------\u001b[0m",
      "\u001b[0;31mException\u001b[0m                                 Traceback (most recent call last)",
      "\u001b[0;32m<ipython-input-134-aecc431fdc19>\u001b[0m in \u001b[0;36m<module>\u001b[0;34m\u001b[0m\n\u001b[0;32m----> 1\u001b[0;31m \u001b[0mPerm\u001b[0m\u001b[0;34m(\u001b[0m\u001b[0;34m(\u001b[0m\u001b[0;36m1\u001b[0m\u001b[0;34m,\u001b[0m \u001b[0;36m2\u001b[0m\u001b[0;34m,\u001b[0m \u001b[0;36m3\u001b[0m\u001b[0;34m)\u001b[0m\u001b[0;34m)\u001b[0m \u001b[0;34m*\u001b[0m \u001b[0mPerm\u001b[0m\u001b[0;34m(\u001b[0m\u001b[0;34m(\u001b[0m\u001b[0;36m1\u001b[0m\u001b[0;34m,\u001b[0m \u001b[0;36m2\u001b[0m\u001b[0;34m,\u001b[0m \u001b[0;36m3\u001b[0m\u001b[0;34m,\u001b[0m \u001b[0;36m4\u001b[0m\u001b[0;34m)\u001b[0m\u001b[0;34m)\u001b[0m\u001b[0;34m\u001b[0m\u001b[0;34m\u001b[0m\u001b[0m\n\u001b[0m",
      "\u001b[0;32m<ipython-input-117-b4f6f9ab4d8e>\u001b[0m in \u001b[0;36m__mul__\u001b[0;34m(self, other)\u001b[0m\n\u001b[1;32m     29\u001b[0m                               for i in range(self.base, self.size)])\n\u001b[1;32m     30\u001b[0m             \u001b[0;32melse\u001b[0m\u001b[0;34m:\u001b[0m\u001b[0;34m\u001b[0m\u001b[0;34m\u001b[0m\u001b[0m\n\u001b[0;32m---> 31\u001b[0;31m                 \u001b[0;32mraise\u001b[0m \u001b[0mException\u001b[0m\u001b[0;34m(\u001b[0m\u001b[0;34mf\"Mixed lengths: {len(self)} != {len(other)}\"\u001b[0m\u001b[0;34m)\u001b[0m\u001b[0;34m\u001b[0m\u001b[0;34m\u001b[0m\u001b[0m\n\u001b[0m\u001b[1;32m     32\u001b[0m         \u001b[0;32melse\u001b[0m\u001b[0;34m:\u001b[0m\u001b[0;34m\u001b[0m\u001b[0;34m\u001b[0m\u001b[0m\n\u001b[1;32m     33\u001b[0m             \u001b[0;32mraise\u001b[0m \u001b[0mException\u001b[0m\u001b[0;34m(\u001b[0m\u001b[0;34mf\"Mixed bases: {self.base} != {other.base}\"\u001b[0m\u001b[0;34m)\u001b[0m\u001b[0;34m\u001b[0m\u001b[0;34m\u001b[0m\u001b[0m\n",
      "\u001b[0;31mException\u001b[0m: Mixed lengths: 3 != 4"
     ]
    }
   ],
   "source": [
    "Perm((1, 2, 3)) * Perm((1, 2, 3, 4))"
   ]
  },
  {
   "cell_type": "code",
   "execution_count": null,
   "id": "870642f0",
   "metadata": {},
   "outputs": [],
   "source": []
  },
  {
   "cell_type": "code",
   "execution_count": null,
   "id": "178f74c3",
   "metadata": {},
   "outputs": [],
   "source": []
  }
 ],
 "metadata": {
  "kernelspec": {
   "display_name": "Python 3",
   "language": "python",
   "name": "python3"
  },
  "language_info": {
   "codemirror_mode": {
    "name": "ipython",
    "version": 3
   },
   "file_extension": ".py",
   "mimetype": "text/x-python",
   "name": "python",
   "nbconvert_exporter": "python",
   "pygments_lexer": "ipython3",
   "version": "3.7.7"
  }
 },
 "nbformat": 4,
 "nbformat_minor": 5
}
