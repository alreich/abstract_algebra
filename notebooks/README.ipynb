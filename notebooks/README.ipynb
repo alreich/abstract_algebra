{
 "cells": [
  {
   "cell_type": "markdown",
   "id": "65628d0f",
   "metadata": {},
   "source": [
    "# Abstract Algebra"
   ]
  },
  {
   "cell_type": "markdown",
   "id": "d438769c",
   "metadata": {},
   "source": [
    "#### An experimental implementation of finite groups."
   ]
  },
  {
   "cell_type": "markdown",
   "id": "2f1b7048",
   "metadata": {},
   "source": [
    "For API documentation see: https://abstract-algebra.readthedocs.io/en/latest/index.html"
   ]
  },
  {
   "cell_type": "code",
   "execution_count": 25,
   "id": "b037a410",
   "metadata": {},
   "outputs": [],
   "source": [
    "import algebras as alg\n",
    "import json\n",
    "import os"
   ]
  },
  {
   "cell_type": "code",
   "execution_count": 26,
   "id": "5e98f552",
   "metadata": {},
   "outputs": [],
   "source": [
    "# Path to this repo\n",
    "aa_path = os.path.join(os.getenv('PYPROJ'), 'abstract_algebra')\n",
    "\n",
    "# Path to a directory containing Algebra definitions in JSON\n",
    "alg_dir = os.path.join(aa_path, \"Algebras\")"
   ]
  },
  {
   "cell_type": "markdown",
   "id": "4fa41c14",
   "metadata": {},
   "source": [
    "## Groups"
   ]
  },
  {
   "cell_type": "markdown",
   "id": "b2066085",
   "metadata": {},
   "source": [
    "### Store Group in JSON format"
   ]
  },
  {
   "cell_type": "markdown",
   "id": "95980513",
   "metadata": {},
   "source": [
    "* The <b>mult_table</b> <u>must</u> reference group elements according to their index (position) in the <b>element_names</b> list.\n",
    "* <b>0</b> <u>must</u> always refer to the <b>identity element</b>.\n",
    "* The first row and first column must be the integers in order, (0, 1, 2, ..., n-1), where n is the number of elements"
   ]
  },
  {
   "cell_type": "code",
   "execution_count": 27,
   "id": "c32ed8b3",
   "metadata": {},
   "outputs": [
    {
     "name": "stdout",
     "output_type": "stream",
     "text": [
      "{\"type\": \"Group\",\r\n",
      " \"name\": \"V4\",\r\n",
      " \"description\": \"Klein-4 group\",\r\n",
      " \"element_names\": [\"e\", \"h\", \"v\", \"hv\"],\r\n",
      " \"mult_table\": [[0, 1, 2, 3],\r\n",
      "                [1, 0, 3, 2],\r\n",
      "                [2, 3, 0, 1],\r\n",
      "                [3, 2, 1, 0]]\r\n",
      "}\r\n"
     ]
    }
   ],
   "source": [
    "# Path to a JSON file that defines the group V4\n",
    "v4_json = os.path.join(alg_dir, \"v4_klein_4_group.json\")\n",
    "\n",
    "!cat {v4_json}"
   ]
  },
  {
   "cell_type": "markdown",
   "id": "f21bee8e",
   "metadata": {},
   "source": [
    "### Read JSON Definition to Instantiate a Group Object"
   ]
  },
  {
   "cell_type": "code",
   "execution_count": 28,
   "id": "7f575bb6",
   "metadata": {},
   "outputs": [
    {
     "data": {
      "text/plain": [
       "Group('V4',\n",
       "'Klein-4 group',\n",
       "['e', 'h', 'v', 'hv'],\n",
       "[[0, 1, 2, 3], [1, 0, 3, 2], [2, 3, 0, 1], [3, 2, 1, 0]]) "
      ]
     },
     "execution_count": 28,
     "metadata": {},
     "output_type": "execute_result"
    }
   ],
   "source": [
    "v4 = alg.Group(v4_json)\n",
    "v4"
   ]
  },
  {
   "cell_type": "markdown",
   "id": "ae3f9975",
   "metadata": {},
   "source": [
    "#### The group can also be created using the Group constuctor."
   ]
  },
  {
   "cell_type": "code",
   "execution_count": 29,
   "id": "b2398dfb",
   "metadata": {},
   "outputs": [
    {
     "data": {
      "text/plain": [
       "Group('V4',\n",
       "'Another way to construct V4',\n",
       "['e', 'h', 'v', 'hv'],\n",
       "[[0, 1, 2, 3], [1, 0, 3, 2], [2, 3, 0, 1], [3, 2, 1, 0]]) "
      ]
     },
     "execution_count": 29,
     "metadata": {},
     "output_type": "execute_result"
    }
   ],
   "source": [
    "alg.Group('V4',\n",
    "          'Another way to construct V4',\n",
    "          ['e',  'h',  'v', 'hv'],\n",
    "          [[0, 1, 2, 3],\n",
    "           [1, 0, 3, 2],\n",
    "           [2, 3, 0, 1],\n",
    "           [3, 2, 1, 0]]\n",
    "         )"
   ]
  },
  {
   "cell_type": "markdown",
   "id": "d723d013",
   "metadata": {},
   "source": [
    "#### And the group can be created from a Python dictionary:"
   ]
  },
  {
   "cell_type": "code",
   "execution_count": 30,
   "id": "23c44f7c",
   "metadata": {},
   "outputs": [
    {
     "data": {
      "text/plain": [
       "Group('V4',\n",
       "'Yet another way to define V4',\n",
       "['e', 'h', 'v', 'hv'],\n",
       "[[0, 1, 2, 3], [1, 0, 3, 2], [2, 3, 0, 1], [3, 2, 1, 0]]) "
      ]
     },
     "execution_count": 30,
     "metadata": {},
     "output_type": "execute_result"
    }
   ],
   "source": [
    "v4_dict = {'type': 'Group',\n",
    "           'name': 'V4',\n",
    "           'description': 'Yet another way to define V4',\n",
    "           'element_names': ['e', 'h', 'v', 'hv'],\n",
    "           'mult_table': [[0, 1, 2, 3], [1, 0, 3, 2], [2, 3, 0, 1], [3, 2, 1, 0]]}\n",
    "\n",
    "alg.Group(v4_dict)"
   ]
  },
  {
   "cell_type": "markdown",
   "id": "936863b4",
   "metadata": {},
   "source": [
    "For other ways to create groups, see the Jupyter Notebook, <b>ways_to_create_a_group</b>."
   ]
  },
  {
   "cell_type": "markdown",
   "id": "51e75774",
   "metadata": {},
   "source": [
    "### Pretty Printing a Group"
   ]
  },
  {
   "cell_type": "markdown",
   "id": "80166796",
   "metadata": {},
   "source": [
    "A group can be pretty printed in two ways:\n",
    "\n",
    "The default way prints the table as it is represented internally using element indices."
   ]
  },
  {
   "cell_type": "code",
   "execution_count": 31,
   "id": "3bd65bcd",
   "metadata": {},
   "outputs": [
    {
     "name": "stdout",
     "output_type": "stream",
     "text": [
      "Group('V4',\n",
      "'Klein-4 group',\n",
      "['e', 'h', 'v', 'hv'],\n",
      "[[0, 1, 2, 3], [1, 0, 3, 2], [2, 3, 0, 1], [3, 2, 1, 0]]\n",
      ")\n"
     ]
    }
   ],
   "source": [
    "v4.pprint()"
   ]
  },
  {
   "cell_type": "markdown",
   "id": "5f4b7711",
   "metadata": {},
   "source": [
    "Or it can be printed using element names in the multiplication table.\n",
    "\n",
    "Note that, here, the element names list is omitted, since it is redundant to the first row of the table."
   ]
  },
  {
   "cell_type": "code",
   "execution_count": 32,
   "id": "7a89b2b3",
   "metadata": {},
   "outputs": [
    {
     "name": "stdout",
     "output_type": "stream",
     "text": [
      "Group('V4',\n",
      "'Klein-4 group',\n",
      "[['e', 'h', 'v', 'hv'],\n",
      " ['h', 'e', 'hv', 'v'],\n",
      " ['v', 'hv', 'e', 'h'],\n",
      " ['hv', 'v', 'h', 'e']]\n",
      ")\n"
     ]
    }
   ],
   "source": [
    "v4.pprint(True)"
   ]
  },
  {
   "cell_type": "markdown",
   "id": "49a51056",
   "metadata": {},
   "source": [
    "In either of the methods, above, the printed output can be evaluated to create a duplicate of the group.\n",
    "\n",
    "For example, copying the printout immediately above we obtain the following:"
   ]
  },
  {
   "cell_type": "code",
   "execution_count": 33,
   "id": "4800b694",
   "metadata": {},
   "outputs": [
    {
     "data": {
      "text/plain": [
       "Group('V4',\n",
       "'Klein-4 group',\n",
       "['e', 'h', 'v', 'hv'],\n",
       "[[0, 1, 2, 3], [1, 0, 3, 2], [2, 3, 0, 1], [3, 2, 1, 0]]) "
      ]
     },
     "execution_count": 33,
     "metadata": {},
     "output_type": "execute_result"
    }
   ],
   "source": [
    "alg.Group('V4',\n",
    "'Klein-4 group',\n",
    "[['e', 'h', 'v', 'hv'],\n",
    " ['h', 'e', 'hv', 'v'],\n",
    " ['v', 'hv', 'e', 'h'],\n",
    " ['hv', 'v', 'h', 'e']]\n",
    ")"
   ]
  },
  {
   "cell_type": "markdown",
   "id": "e1a07760",
   "metadata": {},
   "source": [
    "### Multiply Group Elements"
   ]
  },
  {
   "cell_type": "markdown",
   "id": "518da3a2",
   "metadata": {},
   "source": [
    "Group multiplication operation takes zero or more arguments and returns the product according to the group's multiplication table (mult_table)."
   ]
  },
  {
   "cell_type": "markdown",
   "id": "f2cd6495",
   "metadata": {},
   "source": [
    "#### If no argument is provided, then the group's identity element is returned"
   ]
  },
  {
   "cell_type": "code",
   "execution_count": 34,
   "id": "f8625b8e",
   "metadata": {},
   "outputs": [
    {
     "data": {
      "text/plain": [
       "'e'"
      ]
     },
     "execution_count": 34,
     "metadata": {},
     "output_type": "execute_result"
    }
   ],
   "source": [
    "v4.mult()"
   ]
  },
  {
   "cell_type": "markdown",
   "id": "acd95b1c",
   "metadata": {},
   "source": [
    "#### If one argument is provided, then that argument is returned, assuming it's a valid element name."
   ]
  },
  {
   "cell_type": "code",
   "execution_count": 35,
   "id": "515165e9",
   "metadata": {},
   "outputs": [
    {
     "data": {
      "text/plain": [
       "'h'"
      ]
     },
     "execution_count": 35,
     "metadata": {},
     "output_type": "execute_result"
    }
   ],
   "source": [
    "v4.mult('h')"
   ]
  },
  {
   "cell_type": "markdown",
   "id": "83885177",
   "metadata": {},
   "source": [
    "#### If the one argument is not a valid element name, then an exception is raised."
   ]
  },
  {
   "cell_type": "code",
   "execution_count": 36,
   "id": "f128aef2",
   "metadata": {},
   "outputs": [
    {
     "name": "stdout",
     "output_type": "stream",
     "text": [
      "Caught Error:\n",
      "  FOO is not a valid Group element name\n"
     ]
    }
   ],
   "source": [
    "try:\n",
    "    v4.mult('FOO')\n",
    "except ValueError as err:\n",
    "    print(\"Caught Error:\")\n",
    "    print(f\"  {err}\")"
   ]
  },
  {
   "cell_type": "markdown",
   "id": "478ba3b6",
   "metadata": {},
   "source": [
    "#### If two or more arguments are provided, then their combined product is returned:"
   ]
  },
  {
   "cell_type": "code",
   "execution_count": 37,
   "id": "cc4960e4",
   "metadata": {},
   "outputs": [
    {
     "data": {
      "text/plain": [
       "'hv'"
      ]
     },
     "execution_count": 37,
     "metadata": {},
     "output_type": "execute_result"
    }
   ],
   "source": [
    "v4.mult('h','v')  # h * v"
   ]
  },
  {
   "cell_type": "code",
   "execution_count": 38,
   "id": "94c81021",
   "metadata": {},
   "outputs": [
    {
     "data": {
      "text/plain": [
       "'e'"
      ]
     },
     "execution_count": 38,
     "metadata": {},
     "output_type": "execute_result"
    }
   ],
   "source": [
    "v4.mult('h', 'v', 'hv')  # h * v * hv"
   ]
  },
  {
   "cell_type": "markdown",
   "id": "26d3b86d",
   "metadata": {},
   "source": [
    "### Inverse Elements"
   ]
  },
  {
   "cell_type": "code",
   "execution_count": 39,
   "id": "f784f9d2",
   "metadata": {},
   "outputs": [
    {
     "data": {
      "text/plain": [
       "'h'"
      ]
     },
     "execution_count": 39,
     "metadata": {},
     "output_type": "execute_result"
    }
   ],
   "source": [
    "v4.inverse('h')"
   ]
  },
  {
   "cell_type": "markdown",
   "id": "628b8cd7",
   "metadata": {},
   "source": [
    "That is, $h * h^{-1} = e$"
   ]
  },
  {
   "cell_type": "code",
   "execution_count": 40,
   "id": "7a5888ab",
   "metadata": {},
   "outputs": [
    {
     "data": {
      "text/plain": [
       "'e'"
      ]
     },
     "execution_count": 40,
     "metadata": {},
     "output_type": "execute_result"
    }
   ],
   "source": [
    "v4.mult('h', v4.inverse('h'))"
   ]
  },
  {
   "cell_type": "markdown",
   "id": "1a3880a3",
   "metadata": {},
   "source": [
    "### Check if Abelian"
   ]
  },
  {
   "cell_type": "code",
   "execution_count": 41,
   "id": "51f4fbc4",
   "metadata": {},
   "outputs": [
    {
     "data": {
      "text/plain": [
       "True"
      ]
     },
     "execution_count": 41,
     "metadata": {},
     "output_type": "execute_result"
    }
   ],
   "source": [
    "v4.is_abelian()"
   ]
  },
  {
   "cell_type": "markdown",
   "id": "5889b3ea",
   "metadata": {},
   "source": [
    "### Check if Associative"
   ]
  },
  {
   "cell_type": "markdown",
   "id": "0cd97298",
   "metadata": {},
   "source": [
    "NOTE: A group <u>must</u> be is_associative, so this check is done automatically when a group object is instantiated."
   ]
  },
  {
   "cell_type": "code",
   "execution_count": 42,
   "id": "5bb36e67",
   "metadata": {},
   "outputs": [
    {
     "data": {
      "text/plain": [
       "True"
      ]
     },
     "execution_count": 42,
     "metadata": {},
     "output_type": "execute_result"
    }
   ],
   "source": [
    "v4.is_associative()"
   ]
  },
  {
   "cell_type": "markdown",
   "id": "5dd5500e",
   "metadata": {},
   "source": [
    "### Group Generators"
   ]
  },
  {
   "cell_type": "markdown",
   "id": "0b236a4e",
   "metadata": {},
   "source": [
    "For now, there is only one group generator, for cyclic groups of any finite order:"
   ]
  },
  {
   "cell_type": "code",
   "execution_count": 43,
   "id": "fb58b27a",
   "metadata": {},
   "outputs": [
    {
     "name": "stdout",
     "output_type": "stream",
     "text": [
      "Group('Z7',\n",
      "'Autogenerated cyclic group of order 7',\n",
      "['e', 'a', 'a^2', 'a^3', 'a^4', 'a^5', 'a^6'],\n",
      "[[0, 1, 2, 3, 4, 5, 6],\n",
      " [1, 2, 3, 4, 5, 6, 0],\n",
      " [2, 3, 4, 5, 6, 0, 1],\n",
      " [3, 4, 5, 6, 0, 1, 2],\n",
      " [4, 5, 6, 0, 1, 2, 3],\n",
      " [5, 6, 0, 1, 2, 3, 4],\n",
      " [6, 0, 1, 2, 3, 4, 5]]\n",
      ")\n"
     ]
    }
   ],
   "source": [
    "z7 = alg.generate_cyclic_group(7)\n",
    "z7.pprint()"
   ]
  },
  {
   "cell_type": "markdown",
   "id": "e8202652",
   "metadata": {},
   "source": [
    "### Derive Direct Product"
   ]
  },
  {
   "cell_type": "code",
   "execution_count": 44,
   "id": "ded4dd48",
   "metadata": {},
   "outputs": [
    {
     "name": "stdout",
     "output_type": "stream",
     "text": [
      "Group('V4_x_V4',\n",
      "'Direct product of V4 & V4',\n",
      "['e-e', 'e-h', 'e-v', 'e-hv', 'h-e', 'h-h', 'h-v', 'h-hv', 'v-e', 'v-h', 'v-v', 'v-hv', 'hv-e', 'hv-h', 'hv-v', 'hv-hv'],\n",
      "[[0, 1, 2, 3, 4, 5, 6, 7, 8, 9, 10, 11, 12, 13, 14, 15],\n",
      " [1, 0, 3, 2, 5, 4, 7, 6, 9, 8, 11, 10, 13, 12, 15, 14],\n",
      " [2, 3, 0, 1, 6, 7, 4, 5, 10, 11, 8, 9, 14, 15, 12, 13],\n",
      " [3, 2, 1, 0, 7, 6, 5, 4, 11, 10, 9, 8, 15, 14, 13, 12],\n",
      " [4, 5, 6, 7, 0, 1, 2, 3, 12, 13, 14, 15, 8, 9, 10, 11],\n",
      " [5, 4, 7, 6, 1, 0, 3, 2, 13, 12, 15, 14, 9, 8, 11, 10],\n",
      " [6, 7, 4, 5, 2, 3, 0, 1, 14, 15, 12, 13, 10, 11, 8, 9],\n",
      " [7, 6, 5, 4, 3, 2, 1, 0, 15, 14, 13, 12, 11, 10, 9, 8],\n",
      " [8, 9, 10, 11, 12, 13, 14, 15, 0, 1, 2, 3, 4, 5, 6, 7],\n",
      " [9, 8, 11, 10, 13, 12, 15, 14, 1, 0, 3, 2, 5, 4, 7, 6],\n",
      " [10, 11, 8, 9, 14, 15, 12, 13, 2, 3, 0, 1, 6, 7, 4, 5],\n",
      " [11, 10, 9, 8, 15, 14, 13, 12, 3, 2, 1, 0, 7, 6, 5, 4],\n",
      " [12, 13, 14, 15, 8, 9, 10, 11, 4, 5, 6, 7, 0, 1, 2, 3],\n",
      " [13, 12, 15, 14, 9, 8, 11, 10, 5, 4, 7, 6, 1, 0, 3, 2],\n",
      " [14, 15, 12, 13, 10, 11, 8, 9, 6, 7, 4, 5, 2, 3, 0, 1],\n",
      " [15, 14, 13, 12, 11, 10, 9, 8, 7, 6, 5, 4, 3, 2, 1, 0]]\n",
      ")\n"
     ]
    }
   ],
   "source": [
    "v4.direct_product_delimiter('-')  # Default delimiter is ':'\n",
    "v4_x_v4 = v4 * v4\n",
    "v4_x_v4.pprint()"
   ]
  },
  {
   "cell_type": "markdown",
   "id": "8c3ebecc",
   "metadata": {},
   "source": [
    "### Convert to Dictionary or JSON string"
   ]
  },
  {
   "cell_type": "code",
   "execution_count": 45,
   "id": "d18245de",
   "metadata": {},
   "outputs": [
    {
     "data": {
      "text/plain": [
       "{'type': 'Group',\n",
       " 'name': 'V4',\n",
       " 'description': 'Klein-4 group',\n",
       " 'element_names': ['e', 'h', 'v', 'hv'],\n",
       " 'mult_table': [[0, 1, 2, 3], [1, 0, 3, 2], [2, 3, 0, 1], [3, 2, 1, 0]]}"
      ]
     },
     "execution_count": 45,
     "metadata": {},
     "output_type": "execute_result"
    }
   ],
   "source": [
    "v4.to_dict()"
   ]
  },
  {
   "cell_type": "code",
   "execution_count": 46,
   "id": "bb23cd42",
   "metadata": {},
   "outputs": [
    {
     "data": {
      "text/plain": [
       "'{\"type\": \"Group\", \"name\": \"V4\", \"description\": \"Klein-4 group\", \"element_names\": [\"e\", \"h\", \"v\", \"hv\"], \"mult_table\": [[0, 1, 2, 3], [1, 0, 3, 2], [2, 3, 0, 1], [3, 2, 1, 0]]}'"
      ]
     },
     "execution_count": 46,
     "metadata": {},
     "output_type": "execute_result"
    }
   ],
   "source": [
    "v4.dumps()"
   ]
  },
  {
   "cell_type": "markdown",
   "id": "85d17c9f",
   "metadata": {},
   "source": [
    "### Proper Subgroups"
   ]
  },
  {
   "cell_type": "code",
   "execution_count": 51,
   "id": "7bb8df46",
   "metadata": {},
   "outputs": [
    {
     "name": "stdout",
     "output_type": "stream",
     "text": [
      "\n",
      "All 3 of these proper subgroups are, obviously, isomorphic to each other.\n",
      "\n",
      "Group('V4_subgroup_0',\n",
      "'Subgroup of: Klein-4 group',\n",
      "['e', 'h'],\n",
      "[[0, 1], [1, 0]]\n",
      ")\n",
      "Group('V4_subgroup_1',\n",
      "'Subgroup of: Klein-4 group',\n",
      "['e', 'v'],\n",
      "[[0, 1], [1, 0]]\n",
      ")\n",
      "Group('V4_subgroup_2',\n",
      "'Subgroup of: Klein-4 group',\n",
      "['e', 'hv'],\n",
      "[[0, 1], [1, 0]]\n",
      ")\n"
     ]
    }
   ],
   "source": [
    "subs = v4.proper_subgroups()\n",
    "\n",
    "print(f\"\\nAll {len(subs)} of these proper subgroups are, obviously, isomorphic to each other.\\n\")\n",
    "\n",
    "for sub in subs:\n",
    "    sub.pprint()"
   ]
  },
  {
   "cell_type": "markdown",
   "id": "aff1cb90",
   "metadata": {},
   "source": [
    "### Print Information about a Group"
   ]
  },
  {
   "cell_type": "code",
   "execution_count": 48,
   "id": "38b1acc2",
   "metadata": {},
   "outputs": [
    {
     "name": "stdout",
     "output_type": "stream",
     "text": [
      "\n",
      "Group: Z7\n",
      "Autogenerated cyclic group of order 7\n",
      "Abelian? True\n",
      "Elements:\n",
      "   Index   Name   Inverse  Order\n",
      "      0       e       e       1\n",
      "      1       a     a^6       7\n",
      "      2     a^2     a^5       7\n",
      "      3     a^3     a^4       7\n",
      "      4     a^4     a^3       7\n",
      "      5     a^5     a^2       7\n",
      "      6     a^6       a       7\n",
      "Cayley Table (showing indices):\n",
      "[[0, 1, 2, 3, 4, 5, 6],\n",
      " [1, 2, 3, 4, 5, 6, 0],\n",
      " [2, 3, 4, 5, 6, 0, 1],\n",
      " [3, 4, 5, 6, 0, 1, 2],\n",
      " [4, 5, 6, 0, 1, 2, 3],\n",
      " [5, 6, 0, 1, 2, 3, 4],\n",
      " [6, 0, 1, 2, 3, 4, 5]]\n"
     ]
    }
   ],
   "source": [
    "z7.about()"
   ]
  },
  {
   "cell_type": "markdown",
   "id": "7cd2956f",
   "metadata": {},
   "source": [
    "### Resources"
   ]
  },
  {
   "cell_type": "markdown",
   "id": "4a53f077",
   "metadata": {},
   "source": [
    "* <b>Book</b>: [\"Visual Group Theory\" by Nathan Carter](https://bookstore.ams.org/clrm-32)\n",
    "* [Group Explorer](https://nathancarter.github.io/group-explorer/index.html) -- Visualization software for the abstract algebra classroom\n",
    "* [Groupprops, The Group Properties Wiki (beta)](https://groupprops.subwiki.org/wiki/Main_Page)\n",
    "* [GroupNames](https://people.maths.bris.ac.uk/~matyd/GroupNames/index.html) -- \"A database, under construction, of names, extensions, properties and character tables of finite groups of small order.\"\n",
    "* [GAP](https://www.gap-system.org/#:~:text=What%20is%20GAP%3F,data%20libraries%20of%20algebraic%20objects.) -- \"Groups, Algorithms, Programming - a System for Computational Discrete Algebra\"\n",
    "* [Groups of small order](http://www.math.ucsd.edu/~atparris/small_groups.html): Compiled by John Pedersen, Dept of Mathematics, University of South Florida\n",
    "* [List of small groups](https://en.wikipedia.org/wiki/List_of_small_groups): Finite groups of small order up to group isomorphism\n",
    "* [Classification of Groups of Order n ≤ 8 (PDF)](http://www2.lawrence.edu/fast/corrys/Math300/8Groups.pdf)\n",
    "* [Subgroups of Order 4 (PDF)](http://newton.uor.edu/facultyfolder/beery/abstract_algebra/08_SbgrpsOrder4.pdf)\n",
    "* Klein four-group, V4\n",
    "  * [Wikipedia](https://en.wikipedia.org/wiki/Klein_four-group)\n",
    "  * [Group Explorer](https://github.com/nathancarter/group-explorer/blob/master/groups/V_4.group)\n",
    "* Cyclic group\n",
    "  * [Wikipedia](https://en.wikipedia.org/wiki/Cyclic_group)\n",
    "  * [Z4, cyclic group of order 4](https://github.com/nathancarter/group-explorer/blob/master/groups/Z_4.group)\n",
    "* Symmetric group\n",
    "  * [Symmetric group on 3 letters](https://github.com/nathancarter/group-explorer/blob/master/groups/S_3.group). Another name for this group is <i>\"Dihedral group on 3 vertices\"</i>"
   ]
  }
 ],
 "metadata": {
  "kernelspec": {
   "display_name": "Python 3",
   "language": "python",
   "name": "python3"
  },
  "language_info": {
   "codemirror_mode": {
    "name": "ipython",
    "version": 3
   },
   "file_extension": ".py",
   "mimetype": "text/x-python",
   "name": "python",
   "nbconvert_exporter": "python",
   "pygments_lexer": "ipython3",
   "version": "3.7.7"
  }
 },
 "nbformat": 4,
 "nbformat_minor": 5
}
